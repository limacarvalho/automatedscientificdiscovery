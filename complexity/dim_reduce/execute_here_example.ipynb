{
 "cells": [
  {
   "cell_type": "markdown",
   "id": "9cbdf507-8093-49b7-8453-89c4f134aa1b",
   "metadata": {},
   "source": [
    "### If needed replace the PYTHONPATH string \"/shared/admin/complexity_module_with_logging\" with the appropriate folder location in your local computer"
   ]
  },
  {
   "cell_type": "code",
   "execution_count": null,
   "id": "b46dc80c-a684-44c3-a890-376b5cea7d16",
   "metadata": {},
   "outputs": [],
   "source": [
    "!export PYTHONPATH=\"/shared/admin/complexity_module_with_logging:/shared/admin/complexity_module_with_logging/steps:/shared/admin/complexity_module_with_logging/helper_data:/shared/admin/complexity_module_with_logging/helper_metrix:/shared/admin/complexity_module_with_logging/dim_reduction:/shared/admin/complexity_module_with_logging/hyperparameters:/shared/admin/complexity_module_with_logging/dim_reduction/R_funs_dimred:/shared/admin/complexity_module_with_logging/dim_reduction/Py_funs_dimred\" && python main_2.py"
   ]
  },
  {
   "cell_type": "code",
   "execution_count": null,
   "id": "dcd1aec1-ef03-4276-81ed-d9470ba73ca9",
   "metadata": {},
   "outputs": [],
   "source": []
  }
 ],
 "metadata": {
  "kernelspec": {
   "display_name": "admin-complexity-module",
   "language": "python",
   "name": "conda-env-admin-complexity-module-py"
  },
  "language_info": {
   "codemirror_mode": {
    "name": "ipython",
    "version": 3
   },
   "file_extension": ".py",
   "mimetype": "text/x-python",
   "name": "python",
   "nbconvert_exporter": "python",
   "pygments_lexer": "ipython3",
   "version": "3.7.7"
  }
 },
 "nbformat": 4,
 "nbformat_minor": 5
}
