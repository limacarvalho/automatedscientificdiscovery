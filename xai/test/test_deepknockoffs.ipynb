{
 "cells": [
  {
   "cell_type": "code",
   "execution_count": 1,
   "id": "9c5ed8bd-df98-49a1-a83a-be051260a107",
   "metadata": {},
   "outputs": [],
   "source": [
    "import sys \n",
    "# setting path\n",
    "sys.path.append('../')"
   ]
  },
  {
   "cell_type": "code",
   "execution_count": 14,
   "id": "fbf15592-6652-44f4-8dc2-f1d72acc4c37",
   "metadata": {},
   "outputs": [
    {
     "name": "stdout",
     "output_type": "stream",
     "text": [
      "The autoreload extension is already loaded. To reload it, use:\n",
      "  %reload_ext autoreload\n"
     ]
    }
   ],
   "source": [
    "%load_ext autoreload\n",
    "%autoreload 2"
   ]
  },
  {
   "cell_type": "code",
   "execution_count": 15,
   "id": "4a07091f-1117-45f3-99ed-d881518fc796",
   "metadata": {},
   "outputs": [],
   "source": [
    "from utils import dasker, config as util_config\n",
    "from ml import KnockoffFilterSim, DeepKnockoffFilterSim\n",
    "# from helper import consolidate_rejection_results\n",
    "import pandas as pd\n",
    "from sklearn.preprocessing import StandardScaler, OneHotEncoder, LabelEncoder"
   ]
  },
  {
   "cell_type": "code",
   "execution_count": 4,
   "id": "d1eed991-1813-4c28-b1d8-b924e2005041",
   "metadata": {},
   "outputs": [],
   "source": [
    "df = pd.read_csv('./data/20220319_covid_merge.csv', sep=\",\")\n",
    "df = df.rename(columns={\"new_deaths_per_million\": 'y'})"
   ]
  },
  {
   "cell_type": "code",
   "execution_count": 5,
   "id": "baa1ceba-3fcc-46ee-b23a-28feb02231bd",
   "metadata": {},
   "outputs": [],
   "source": [
    "columns=df.columns\n",
    "for f in df.columns:\n",
    "    if df[f].dtype == 'object':\n",
    "        df[f] = LabelEncoder().fit_transform(list(df[f]))   "
   ]
  },
  {
   "cell_type": "code",
   "execution_count": 7,
   "id": "1ef517f8-a487-4aa2-a84f-8f45d808e389",
   "metadata": {},
   "outputs": [],
   "source": [
    "# df_scatter = client.scatter(df)\n",
    "param = {'df': df, 'fdr': 0.1}"
   ]
  },
  {
   "cell_type": "code",
   "execution_count": 7,
   "id": "d6f3b880-dd83-4d64-96f8-bb18fe5e66ae",
   "metadata": {},
   "outputs": [],
   "source": [
    "# param"
   ]
  },
  {
   "cell_type": "code",
   "execution_count": 16,
   "id": "c9b1d9fc-dcc2-4d81-81dd-129dfc98a133",
   "metadata": {},
   "outputs": [],
   "source": [
    "dkf = DeepKnockoffFilterSim()"
   ]
  },
  {
   "cell_type": "code",
   "execution_count": 17,
   "id": "f2714ef8-1dc0-40b3-b67b-c2c090874344",
   "metadata": {},
   "outputs": [
    {
     "name": "stdout",
     "output_type": "stream",
     "text": [
      "Unexpected exception formatting exception. Falling back to standard exception\n"
     ]
    },
    {
     "name": "stderr",
     "output_type": "stream",
     "text": [
      "Traceback (most recent call last):\n",
      "  File \"/home/vagrant/miniconda3/envs/xai/lib/python3.9/site-packages/IPython/core/interactiveshell.py\", line 3398, in run_code\n",
      "    exec(code_obj, self.user_global_ns, self.user_ns)\n",
      "  File \"/tmp/ipykernel_21893/3067287172.py\", line 1, in <cell line: 1>\n",
      "    dkf.sim_deepknockoffs(param, 10)\n",
      "  File \"/mnt/c/Users/rwmas/GitHub/xai/xai_api/app/test/../ml/pre_model/deep_knockoff/deep_knockoff_sim.py\", line 71, in sim_deepknockoffs\n",
      "    second_order = GaussianKnockoffs(SigmaHat, mu=np.mean(X, 0), method=\"sdp\")\n",
      "  File \"/home/vagrant/.local/lib/python3.9/site-packages/DeepKnockoffs-0.1.0-py3.9.egg/DeepKnockoffs/gaussian.py\", line 75, in __init__\n",
      "    self.Ds = np.diag(solve_sdp(self.Sigma,tol=tol))\n",
      "  File \"/home/vagrant/.local/lib/python3.9/site-packages/DeepKnockoffs-0.1.0-py3.9.egg/DeepKnockoffs/gaussian.py\", line 36, in solve_sdp\n",
      "    prob.solve(solver='CVXOPT')\n",
      "  File \"/home/vagrant/miniconda3/envs/xai/lib/python3.9/site-packages/cvxpy/problems/problem.py\", line 481, in solve\n",
      "    return solve_func(self, *args, **kwargs)\n",
      "  File \"/home/vagrant/miniconda3/envs/xai/lib/python3.9/site-packages/cvxpy/problems/problem.py\", line 1020, in _solve\n",
      "    self.unpack_results(solution, solving_chain, inverse_data)\n",
      "  File \"/home/vagrant/miniconda3/envs/xai/lib/python3.9/site-packages/cvxpy/problems/problem.py\", line 1345, in unpack_results\n",
      "    raise error.SolverError(\n",
      "cvxpy.error.SolverError: Solver 'CVXOPT' failed. Try another solver, or solve with verbose=True for more information.\n",
      "\n",
      "During handling of the above exception, another exception occurred:\n",
      "\n",
      "Traceback (most recent call last):\n",
      "  File \"/home/vagrant/miniconda3/envs/xai/lib/python3.9/site-packages/IPython/core/interactiveshell.py\", line 1993, in showtraceback\n",
      "    stb = self.InteractiveTB.structured_traceback(\n",
      "  File \"/home/vagrant/miniconda3/envs/xai/lib/python3.9/site-packages/IPython/core/ultratb.py\", line 1118, in structured_traceback\n",
      "    return FormattedTB.structured_traceback(\n",
      "  File \"/home/vagrant/miniconda3/envs/xai/lib/python3.9/site-packages/IPython/core/ultratb.py\", line 1012, in structured_traceback\n",
      "    return VerboseTB.structured_traceback(\n",
      "  File \"/home/vagrant/miniconda3/envs/xai/lib/python3.9/site-packages/IPython/core/ultratb.py\", line 865, in structured_traceback\n",
      "    formatted_exception = self.format_exception_as_a_whole(etype, evalue, etb, number_of_lines_of_context,\n",
      "  File \"/home/vagrant/miniconda3/envs/xai/lib/python3.9/site-packages/IPython/core/ultratb.py\", line 818, in format_exception_as_a_whole\n",
      "    frames.append(self.format_record(r))\n",
      "  File \"/home/vagrant/miniconda3/envs/xai/lib/python3.9/site-packages/IPython/core/ultratb.py\", line 736, in format_record\n",
      "    result += ''.join(_format_traceback_lines(frame_info.lines, Colors, self.has_colors, lvals))\n",
      "  File \"/home/vagrant/miniconda3/envs/xai/lib/python3.9/site-packages/stack_data/utils.py\", line 145, in cached_property_wrapper\n",
      "    value = obj.__dict__[self.func.__name__] = self.func(obj)\n",
      "  File \"/home/vagrant/miniconda3/envs/xai/lib/python3.9/site-packages/stack_data/core.py\", line 698, in lines\n",
      "    pieces = self.included_pieces\n",
      "  File \"/home/vagrant/miniconda3/envs/xai/lib/python3.9/site-packages/stack_data/utils.py\", line 145, in cached_property_wrapper\n",
      "    value = obj.__dict__[self.func.__name__] = self.func(obj)\n",
      "  File \"/home/vagrant/miniconda3/envs/xai/lib/python3.9/site-packages/stack_data/core.py\", line 649, in included_pieces\n",
      "    pos = scope_pieces.index(self.executing_piece)\n",
      "  File \"/home/vagrant/miniconda3/envs/xai/lib/python3.9/site-packages/stack_data/utils.py\", line 145, in cached_property_wrapper\n",
      "    value = obj.__dict__[self.func.__name__] = self.func(obj)\n",
      "  File \"/home/vagrant/miniconda3/envs/xai/lib/python3.9/site-packages/stack_data/core.py\", line 628, in executing_piece\n",
      "    return only(\n",
      "  File \"/home/vagrant/miniconda3/envs/xai/lib/python3.9/site-packages/executing/executing.py\", line 164, in only\n",
      "    raise NotOneValueFound('Expected one value, found 0')\n",
      "executing.executing.NotOneValueFound: Expected one value, found 0\n"
     ]
    }
   ],
   "source": [
    "dkf.sim_deepknockoffs(param, 10)"
   ]
  },
  {
   "cell_type": "code",
   "execution_count": null,
   "id": "25c5bc5e-68a7-46b0-a1d3-5b09cd0d7cc5",
   "metadata": {},
   "outputs": [],
   "source": []
  }
 ],
 "metadata": {
  "kernelspec": {
   "display_name": "Python 3 (ipykernel)",
   "language": "python",
   "name": "python3"
  },
  "language_info": {
   "codemirror_mode": {
    "name": "ipython",
    "version": 3
   },
   "file_extension": ".py",
   "mimetype": "text/x-python",
   "name": "python",
   "nbconvert_exporter": "python",
   "pygments_lexer": "ipython3",
   "version": "3.9.7"
  }
 },
 "nbformat": 4,
 "nbformat_minor": 5
}
