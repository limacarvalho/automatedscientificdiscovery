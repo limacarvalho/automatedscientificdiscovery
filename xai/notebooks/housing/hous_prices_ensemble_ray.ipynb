{
 "cells": [
  {
   "cell_type": "code",
   "execution_count": 1,
   "metadata": {},
   "outputs": [],
   "source": [
    "%load_ext autoreload\n",
    "%autoreload 2"
   ]
  },
  {
   "cell_type": "code",
   "execution_count": 4,
   "metadata": {},
   "outputs": [],
   "source": [
    "import sys; sys.path.insert(0, '../..') # add parent folder path where lib folder is"
   ]
  },
  {
   "cell_type": "code",
   "execution_count": 5,
   "metadata": {},
   "outputs": [],
   "source": [
    "import pandas as pd\n",
    "from utils import helper, config, rayer, kaggle_dataset_helper\n",
    "from ml.models.ensemble import Ensemble\n",
    "\n",
    "from sklearn.metrics import r2_score, mean_squared_error\n",
    "from sklearn.metrics import f1_score, roc_auc_score, precision_score, recall_score\n",
    "from ml.models import common\n"
   ]
  },
  {
   "cell_type": "code",
   "execution_count": 8,
   "metadata": {},
   "outputs": [
    {
     "name": "stdout",
     "output_type": "stream",
     "text": [
      "======== Autoscaler status: 2022-11-20 09:42:32.926839 ========\n",
      "Node status\n",
      "---------------------------------------------------------------\n",
      "Healthy:\n",
      " 1 head-group\n",
      " 1 small-group\n",
      "Pending:\n",
      " (no pending nodes)\n",
      "Recent failures:\n",
      " (no failures)\n",
      "\n",
      "Resources\n",
      "---------------------------------------------------------------\n",
      "Usage:\n",
      " 0.0/3.0 CPU\n",
      " 0.00/9.313 GiB memory\n",
      " 0.00/2.702 GiB object_store_memory\n",
      "\n",
      "Demands:\n",
      " (no resource demands)\n",
      "\u001b[0m\u001b[2m\u001b[1m\u001b[36m(scheduler +7s)\u001b[0m Tip: use `ray status` to view detailed cluster status. To disable these messages, set RAY_SCHEDULER_EVENTS=0.\n",
      "\u001b[2m\u001b[1m\u001b[36m(scheduler +7s)\u001b[0m Adding 1 node(s) of type small-group.\n",
      "\u001b[2m\u001b[1m\u001b[36m(scheduler +18s)\u001b[0m Resized to 5 CPUs.\n"
     ]
    }
   ],
   "source": [
    "rayer.get_global_cluster(num_cpus=5)\n",
    "!ray status --address='raycluster-autoscaler-head-svc.dev.svc.cluster.local:6379'"
   ]
  },
  {
   "cell_type": "code",
   "execution_count": 9,
   "metadata": {},
   "outputs": [
    {
     "name": "stdout",
     "output_type": "stream",
     "text": [
      "======== Autoscaler status: 2022-11-20 09:44:21.221736 ========\n",
      "Node status\n",
      "---------------------------------------------------------------\n",
      "Healthy:\n",
      " 1 head-group\n",
      " 2 small-group\n",
      "Pending:\n",
      " (no pending nodes)\n",
      "Recent failures:\n",
      " (no failures)\n",
      "\n",
      "Resources\n",
      "---------------------------------------------------------------\n",
      "Usage:\n",
      " 0.0/5.0 CPU\n",
      " 0.00/16.764 GiB memory\n",
      " 0.00/4.911 GiB object_store_memory\n",
      "\n",
      "Demands:\n",
      " {'CPU': 1}: 5+ from request_resources()\n",
      "\u001b[0m"
     ]
    }
   ],
   "source": [
    "!ray status --address='raycluster-autoscaler-head-svc.dev.svc.cluster.local:6379'"
   ]
  },
  {
   "cell_type": "code",
   "execution_count": 43,
   "metadata": {},
   "outputs": [
    {
     "ename": "NameError",
     "evalue": "name 'ray' is not defined",
     "output_type": "error",
     "traceback": [
      "\u001b[0;31m---------------------------------------------------------------------------\u001b[0m",
      "\u001b[0;31mNameError\u001b[0m                                 Traceback (most recent call last)",
      "Cell \u001b[0;32mIn [43], line 1\u001b[0m\n\u001b[0;32m----> 1\u001b[0m \u001b[43mray\u001b[49m\u001b[38;5;241m.\u001b[39mautoscaler\u001b[38;5;241m.\u001b[39msdk\u001b[38;5;241m.\u001b[39mrequest_resources(num_cpus\u001b[38;5;241m=\u001b[39m\u001b[38;5;241m0\u001b[39m)\n",
      "\u001b[0;31mNameError\u001b[0m: name 'ray' is not defined"
     ]
    }
   ],
   "source": [
    "ray.autoscaler.sdk.request_resources(num_cpus=0)"
   ]
  },
  {
   "cell_type": "code",
   "execution_count": 6,
   "metadata": {},
   "outputs": [],
   "source": [
    "ds_train, ds_test = kaggle_dataset_helper.get_house_prices_dataset()\n",
    "ds_train = common.label_encode(ds_train)\n",
    "ds_test = common.label_encode(ds_test)\n",
    "\n",
    "ds_train = ds_train.fillna(-1)\n",
    "ds_test = ds_test.fillna(-1)\n",
    "\n",
    "\n",
    "df_X = ds_train.loc[:, ds_train.columns != 'SalePrice']\n",
    "df_y = ds_train['SalePrice']\n",
    "\n",
    "# X_train, X_test, y_train, y_test = train_test_split(df_X, df_y, test_size=0.33, random_state=config.rand_state)"
   ]
  },
  {
   "cell_type": "code",
   "execution_count": 7,
   "metadata": {},
   "outputs": [],
   "source": [
    "\n",
    "ensemble_set = Ensemble(df_X=df_X,\n",
    "                        df_y=df_y,\n",
    "                        n_trials=10, ### for all models\n",
    "                        boosted_round=10, ### for tree models only\n",
    "                        epochs=15, ### for DNN models\n",
    "                        num_\n",
    "                        ensemble_boosted_round=10, ### for ensemble model which is also a free model\n",
    "                        ensemble_n_trials=3,\n",
    "                                )\n"
   ]
  },
  {
   "cell_type": "code",
   "execution_count": 7,
   "metadata": {},
   "outputs": [
    {
     "name": "stderr",
     "output_type": "stream",
     "text": [
      "\u001b[2m\u001b[36m(__run_discoveries__ pid=11203)\u001b[0m 2022-11-14T10:18:38PST : INFO : brisk_xgboost : __discover_model__ : 108 : Message : brisk_xgb_1: Starting training for trials:10, boosted rounds: 10, max depth: 10\n",
      "\u001b[2m\u001b[36m(__run_discoveries__ pid=11203)\u001b[0m /tmp/ray/session_2022-11-13_09-49-14_425708_8/runtime_resources/pip/8c3e19d7a00388f88d63710a2035c24ba84d27d8/virtualenv/lib/python3.9/site-packages/optuna/_optimize.py:93: UserWarning: The default storage cannot be shared by multiple processes. Please use an RDB (RDBStorage) when you use joblib for multi-processing. The usage of RDBStorage can be found in https://optuna.readthedocs.io/en/stable/tutorial/rdb.html.\n",
      "\u001b[2m\u001b[36m(__run_discoveries__ pid=11203)\u001b[0m   warnings.warn(\n",
      "\u001b[2m\u001b[36m(__run_discoveries__ pid=11203)\u001b[0m 2022-11-14T10:18:39PST : INFO : brisk_xgboost : __discover_model__ : 119 : Message : brisk_xgb_1: Number of trials: 10\n",
      "\u001b[2m\u001b[36m(__run_discoveries__ pid=11203)\u001b[0m 2022-11-14T10:18:39PST : INFO : brisk_xgboost : __discover_model__ : 121 : Message : Best trial:4\n",
      "\u001b[2m\u001b[36m(__run_discoveries__ pid=11203)\u001b[0m 2022-11-14T10:18:39PST : INFO : brisk_xgboost : __discover_model__ : 123 : Message :   Params: \n",
      "\u001b[2m\u001b[36m(__run_discoveries__ pid=11203)\u001b[0m 2022-11-14T10:18:39PST : INFO : brisk_xgboost : __discover_model__ : 125 : Message :     booster gbtree\n",
      "\u001b[2m\u001b[36m(__run_discoveries__ pid=11203)\u001b[0m 2022-11-14T10:18:39PST : INFO : brisk_xgboost : __discover_model__ : 125 : Message :     lambda 0.004204057992124039\n",
      "\u001b[2m\u001b[36m(__run_discoveries__ pid=11203)\u001b[0m 2022-11-14T10:18:39PST : INFO : brisk_xgboost : __discover_model__ : 125 : Message :     alpha 0.34979658435773786\n",
      "\u001b[2m\u001b[36m(__run_discoveries__ pid=11203)\u001b[0m 2022-11-14T10:18:39PST : INFO : brisk_xgboost : __discover_model__ : 125 : Message :     max_depth 10\n",
      "\u001b[2m\u001b[36m(__run_discoveries__ pid=11203)\u001b[0m 2022-11-14T10:18:39PST : INFO : brisk_xgboost : __discover_model__ : 125 : Message :     eta 0.0020624604867877294\n",
      "\u001b[2m\u001b[36m(__run_discoveries__ pid=11203)\u001b[0m 2022-11-14T10:18:39PST : INFO : brisk_xgboost : __discover_model__ : 125 : Message :     gamma 0.5020707930220369\n",
      "\u001b[2m\u001b[36m(__run_discoveries__ pid=11203)\u001b[0m 2022-11-14T10:18:39PST : INFO : brisk_xgboost : __discover_model__ : 125 : Message :     grow_policy lossguide\n",
      "\u001b[2m\u001b[36m(__run_discoveries__ pid=11203)\u001b[0m 2022-11-14T10:18:39PST : INFO : brisk_xgboost : __discover_model__ : 141 : Message :   test r2 score: -0.8618265915722401\n",
      "\u001b[2m\u001b[36m(__run_discoveries__ pid=11203)\u001b[0m 2022-11-14T10:18:39PST : INFO : brisk_xgboost : __discover_model__ : 149 : Message : brisk_xgb_1: Model saved at /tmp/covid_autolearn/brisk_xgb_1/saved/brisk_xgb_1_4.pickle\n",
      "\u001b[2m\u001b[36m(__run_discoveries__ pid=11203)\u001b[0m 2022-11-14T10:18:39PST : INFO : slug_xgboost : __discover_model__ : 154 : Message : slug_xgb_1: Starting training for trials:10, boosted rounds: 10, max depth: 10\n",
      "\u001b[2m\u001b[36m(__run_discoveries__ pid=11203)\u001b[0m /tmp/ray/session_2022-11-13_09-49-14_425708_8/runtime_resources/pip/8c3e19d7a00388f88d63710a2035c24ba84d27d8/virtualenv/lib/python3.9/site-packages/optuna/_optimize.py:93: UserWarning: The default storage cannot be shared by multiple processes. Please use an RDB (RDBStorage) when you use joblib for multi-processing. The usage of RDBStorage can be found in https://optuna.readthedocs.io/en/stable/tutorial/rdb.html.\n",
      "\u001b[2m\u001b[36m(__run_discoveries__ pid=11203)\u001b[0m   warnings.warn(\n",
      "\u001b[2m\u001b[36m(__run_discoveries__ pid=11203)\u001b[0m 2022-11-14T10:18:39PST : INFO : slug_xgboost : __discover_model__ : 167 : Message : slug_xgb_1: Number of trials: 10\n",
      "\u001b[2m\u001b[36m(__run_discoveries__ pid=11203)\u001b[0m 2022-11-14T10:18:39PST : INFO : slug_xgboost : __discover_model__ : 169 : Message : Best trial:5\n",
      "\u001b[2m\u001b[36m(__run_discoveries__ pid=11203)\u001b[0m 2022-11-14T10:18:39PST : INFO : slug_xgboost : __discover_model__ : 171 : Message :   Params: \n",
      "\u001b[2m\u001b[36m(__run_discoveries__ pid=11203)\u001b[0m 2022-11-14T10:18:39PST : INFO : slug_xgboost : __discover_model__ : 173 : Message :     lambda 0.024036456417810385\n",
      "\u001b[2m\u001b[36m(__run_discoveries__ pid=11203)\u001b[0m 2022-11-14T10:18:39PST : INFO : slug_xgboost : __discover_model__ : 173 : Message :     alpha 0.00118219136828287\n",
      "\u001b[2m\u001b[36m(__run_discoveries__ pid=11203)\u001b[0m 2022-11-14T10:18:39PST : INFO : slug_xgboost : __discover_model__ : 173 : Message :     eta 0.0010302769144422753\n",
      "\u001b[2m\u001b[36m(__run_discoveries__ pid=11203)\u001b[0m 2022-11-14T10:18:39PST : INFO : slug_xgboost : __discover_model__ : 173 : Message :     gamma 0.01410605162800531\n",
      "\u001b[2m\u001b[36m(__run_discoveries__ pid=11203)\u001b[0m 2022-11-14T10:18:39PST : INFO : slug_xgboost : __discover_model__ : 173 : Message :     grow_policy lossguide\n",
      "\u001b[2m\u001b[36m(__run_discoveries__ pid=11203)\u001b[0m 2022-11-14T10:18:39PST : INFO : slug_xgboost : __discover_model__ : 173 : Message :     max_depth 8\n",
      "\u001b[2m\u001b[36m(__run_discoveries__ pid=11203)\u001b[0m 2022-11-14T10:18:39PST : INFO : slug_xgboost : __discover_model__ : 173 : Message :     colsample_bytree 0.0010996762407019486\n",
      "\u001b[2m\u001b[36m(__run_discoveries__ pid=11203)\u001b[0m 2022-11-14T10:18:39PST : INFO : slug_xgboost : __discover_model__ : 173 : Message :     colsample_bylevel 0.001001547983017536\n",
      "\u001b[2m\u001b[36m(__run_discoveries__ pid=11203)\u001b[0m 2022-11-14T10:18:39PST : INFO : slug_xgboost : __discover_model__ : 173 : Message :     colsample_bynode 0.16357118266521437\n",
      "\u001b[2m\u001b[36m(__run_discoveries__ pid=11203)\u001b[0m 2022-11-14T10:18:39PST : INFO : slug_xgboost : __discover_model__ : 173 : Message :     max_bin 1024\n",
      "\u001b[2m\u001b[36m(__run_discoveries__ pid=11203)\u001b[0m 2022-11-14T10:18:39PST : INFO : slug_xgboost : __discover_model__ : 191 : Message :   test r2 score: -0.8618305100182324\n",
      "\u001b[2m\u001b[36m(__run_discoveries__ pid=11203)\u001b[0m 2022-11-14T10:18:39PST : INFO : slug_xgboost : __discover_model__ : 196 : Message : slug_xgb_1: Model saved at /tmp/covid_autolearn/slug_xgb_1/saved/slug_xgb_1_5.pickle\n",
      "\u001b[2m\u001b[36m(__run_discoveries__ pid=11203)\u001b[0m 2022-11-14T10:18:41PST : INFO : slug_ann : __discover_model__ : 225 : Message : slug_ann_1: Starting train for trials:10 with epochs: 15\n",
      "\u001b[2m\u001b[36m(__run_discoveries__ pid=11203)\u001b[0m /tmp/ray/session_2022-11-13_09-49-14_425708_8/runtime_resources/pip/8c3e19d7a00388f88d63710a2035c24ba84d27d8/virtualenv/lib/python3.9/site-packages/optuna/_optimize.py:93: UserWarning: The default storage cannot be shared by multiple processes. Please use an RDB (RDBStorage) when you use joblib for multi-processing. The usage of RDBStorage can be found in https://optuna.readthedocs.io/en/stable/tutorial/rdb.html.\n",
      "\u001b[2m\u001b[36m(__run_discoveries__ pid=11203)\u001b[0m   warnings.warn(\n",
      "\u001b[2m\u001b[36m(__run_discoveries__ pid=11203)\u001b[0m 2022-11-14T10:18:45PST : INFO : slug_ann : __discover_model__ : 238 : Message : slug_ann_1: Number of trials: 10\n",
      "\u001b[2m\u001b[36m(__run_discoveries__ pid=11203)\u001b[0m 2022-11-14T10:18:45PST : INFO : slug_ann : __discover_model__ : 240 : Message : Best trial: 7\n",
      "\u001b[2m\u001b[36m(__run_discoveries__ pid=11203)\u001b[0m 2022-11-14T10:18:45PST : INFO : slug_ann : __discover_model__ : 247 : Message : Sequential(\n",
      "\u001b[2m\u001b[36m(__run_discoveries__ pid=11203)\u001b[0m   (0): Linear(in_features=40, out_features=14, bias=True)\n",
      "\u001b[2m\u001b[36m(__run_discoveries__ pid=11203)\u001b[0m   (1): ReLU()\n",
      "\u001b[2m\u001b[36m(__run_discoveries__ pid=11203)\u001b[0m   (2): Dropout(p=0.10828248123388358, inplace=False)\n",
      "\u001b[2m\u001b[36m(__run_discoveries__ pid=11203)\u001b[0m   (3): Linear(in_features=14, out_features=94, bias=True)\n",
      "\u001b[2m\u001b[36m(__run_discoveries__ pid=11203)\u001b[0m   (4): ReLU()\n",
      "\u001b[2m\u001b[36m(__run_discoveries__ pid=11203)\u001b[0m   (5): Dropout(p=0.10828248123388358, inplace=False)\n",
      "\u001b[2m\u001b[36m(__run_discoveries__ pid=11203)\u001b[0m   (6): Linear(in_features=94, out_features=176, bias=True)\n",
      "\u001b[2m\u001b[36m(__run_discoveries__ pid=11203)\u001b[0m   (7): ReLU()\n",
      "\u001b[2m\u001b[36m(__run_discoveries__ pid=11203)\u001b[0m   (8): Dropout(p=0.10828248123388358, inplace=False)\n",
      "\u001b[2m\u001b[36m(__run_discoveries__ pid=11203)\u001b[0m   (9): Linear(in_features=176, out_features=65, bias=True)\n",
      "\u001b[2m\u001b[36m(__run_discoveries__ pid=11203)\u001b[0m   (10): ReLU()\n",
      "\u001b[2m\u001b[36m(__run_discoveries__ pid=11203)\u001b[0m   (11): Dropout(p=0.10828248123388358, inplace=False)\n",
      "\u001b[2m\u001b[36m(__run_discoveries__ pid=11203)\u001b[0m   (12): Linear(in_features=65, out_features=83, bias=True)\n",
      "\u001b[2m\u001b[36m(__run_discoveries__ pid=11203)\u001b[0m   (13): ReLU()\n",
      "\u001b[2m\u001b[36m(__run_discoveries__ pid=11203)\u001b[0m   (14): Dropout(p=0.10828248123388358, inplace=False)\n",
      "\u001b[2m\u001b[36m(__run_discoveries__ pid=11203)\u001b[0m   (15): Linear(in_features=83, out_features=1, bias=True)\n",
      "\u001b[2m\u001b[36m(__run_discoveries__ pid=11203)\u001b[0m   (16): ReLU()\n",
      "\u001b[2m\u001b[36m(__run_discoveries__ pid=11203)\u001b[0m )\n",
      "\u001b[2m\u001b[36m(__run_discoveries__ pid=11203)\u001b[0m /tmp/ray/session_2022-11-13_09-49-14_425708_8/runtime_resources/working_dir_files/_ray_pkg_104efee74df6b6ae/utils/helper.py:35: UserWarning: The given NumPy array is not writable, and PyTorch does not support non-writable tensors. This means writing to this tensor will result in undefined behavior. You may want to copy the array to protect its data or make it writable before converting it to a tensor. This type of warning will be suppressed for the rest of this program. (Triggered internally at ../torch/csrc/utils/tensor_numpy.cpp:199.)\n",
      "\u001b[2m\u001b[36m(__run_discoveries__ pid=11203)\u001b[0m   return torch.from_numpy(df.values).float()\n",
      "\u001b[2m\u001b[36m(__run_discoveries__ pid=11203)\u001b[0m 2022-11-14T10:18:45PST : INFO : slug_ann : __discover_model__ : 254 : Message :   test r2 score: 0.39009188209741097\n",
      "\u001b[2m\u001b[36m(__run_discoveries__ pid=11203)\u001b[0m 2022-11-14T10:18:45PST : INFO : slug_ann : __discover_model__ : 257 : Message : slug_ann_1: Model saved at /tmp/covid_autolearn/slug_ann_1/saved/tmp/covid_autolearn/slug_ann_1/tmp/slug_ann_1_7.pickle\n",
      "2022-11-14T12:18:46CST : INFO : ensemble : fetch_models : 97 : Message : base model training completed\n",
      "2022-11-14T12:18:46CST : INFO : ensemble : fetch_models : 106 : Message : Ensemble: base model scores loaded, access via 'base_model_scores'\n"
     ]
    }
   ],
   "source": [
    "ensemble_set.fetch_models()"
   ]
  },
  {
   "cell_type": "code",
   "execution_count": 58,
   "metadata": {},
   "outputs": [],
   "source": [
    "# ensemble_set.base_models[1].score"
   ]
  },
  {
   "cell_type": "code",
   "execution_count": 59,
   "metadata": {},
   "outputs": [],
   "source": [
    "# ensemble_set.load_scores()"
   ]
  },
  {
   "cell_type": "code",
   "execution_count": 54,
   "metadata": {},
   "outputs": [
    {
     "data": {
      "text/plain": [
       "[[-0.7802736464624289,\n",
       "  -0.8618265915722401,\n",
       "  <ml.models.base.brisk_xgboost.BriskXGBoost at 0x7f9661d55520>],\n",
       " [-0.7802802880703295,\n",
       "  -0.8618305100182324,\n",
       "  <ml.models.base.slug_xgboost.SlugXGBoost at 0x7f9661bd0400>],\n",
       " [0.5804542417246297,\n",
       "  0.39009188209741097,\n",
       "  <ml.models.base.slug_ann.SlugANN at 0x7f9661bd0c10>]]"
      ]
     },
     "execution_count": 54,
     "metadata": {},
     "output_type": "execute_result"
    }
   ],
   "source": [
    "ensemble_set.base_model_scores"
   ]
  },
  {
   "cell_type": "code",
   "execution_count": 55,
   "metadata": {},
   "outputs": [
    {
     "name": "stderr",
     "output_type": "stream",
     "text": [
      "2022-11-14T12:40:27CST : INFO : ensemble : fit : 140 : Message : Ensemble: fiting ensemble on 3 models\n",
      "\u001b[2m\u001b[36m(__run_discoveries__ pid=11203)\u001b[0m 2022-11-14T10:40:27PST : INFO : brisk_xgboost : __discover_model__ : 108 : Message : brisk_xgb_ensemble: Starting training for trials:3, boosted rounds: 10, max depth: 10\n",
      "\u001b[2m\u001b[36m(__run_discoveries__ pid=11203)\u001b[0m /tmp/ray/session_2022-11-13_09-49-14_425708_8/runtime_resources/pip/8c3e19d7a00388f88d63710a2035c24ba84d27d8/virtualenv/lib/python3.9/site-packages/optuna/_optimize.py:93: UserWarning: The default storage cannot be shared by multiple processes. Please use an RDB (RDBStorage) when you use joblib for multi-processing. The usage of RDBStorage can be found in https://optuna.readthedocs.io/en/stable/tutorial/rdb.html.\n",
      "\u001b[2m\u001b[36m(__run_discoveries__ pid=11203)\u001b[0m   warnings.warn(\n",
      "\u001b[2m\u001b[36m(__run_discoveries__ pid=11203)\u001b[0m 2022-11-14T10:40:27PST : INFO : brisk_xgboost : __discover_model__ : 119 : Message : brisk_xgb_ensemble: Number of trials: 3\n",
      "\u001b[2m\u001b[36m(__run_discoveries__ pid=11203)\u001b[0m 2022-11-14T10:40:27PST : INFO : brisk_xgboost : __discover_model__ : 121 : Message : Best trial:0\n",
      "\u001b[2m\u001b[36m(__run_discoveries__ pid=11203)\u001b[0m 2022-11-14T10:40:27PST : INFO : brisk_xgboost : __discover_model__ : 123 : Message :   Params: \n",
      "\u001b[2m\u001b[36m(__run_discoveries__ pid=11203)\u001b[0m 2022-11-14T10:40:27PST : INFO : brisk_xgboost : __discover_model__ : 125 : Message :     booster gbtree\n",
      "\u001b[2m\u001b[36m(__run_discoveries__ pid=11203)\u001b[0m 2022-11-14T10:40:27PST : INFO : brisk_xgboost : __discover_model__ : 125 : Message :     lambda 0.02975003644712186\n",
      "\u001b[2m\u001b[36m(__run_discoveries__ pid=11203)\u001b[0m 2022-11-14T10:40:27PST : INFO : brisk_xgboost : __discover_model__ : 125 : Message :     alpha 0.8697163376453275\n",
      "\u001b[2m\u001b[36m(__run_discoveries__ pid=11203)\u001b[0m 2022-11-14T10:40:27PST : INFO : brisk_xgboost : __discover_model__ : 125 : Message :     max_depth 5\n",
      "\u001b[2m\u001b[36m(__run_discoveries__ pid=11203)\u001b[0m 2022-11-14T10:40:27PST : INFO : brisk_xgboost : __discover_model__ : 125 : Message :     eta 0.0013445952562431824\n",
      "\u001b[2m\u001b[36m(__run_discoveries__ pid=11203)\u001b[0m 2022-11-14T10:40:27PST : INFO : brisk_xgboost : __discover_model__ : 125 : Message :     gamma 0.48732162306668053\n",
      "\u001b[2m\u001b[36m(__run_discoveries__ pid=11203)\u001b[0m 2022-11-14T10:40:27PST : INFO : brisk_xgboost : __discover_model__ : 125 : Message :     grow_policy lossguide\n",
      "\u001b[2m\u001b[36m(__run_discoveries__ pid=11203)\u001b[0m 2022-11-14T10:40:27PST : INFO : brisk_xgboost : __discover_model__ : 141 : Message :   test r2 score: -0.8618296200649376\n",
      "\u001b[2m\u001b[36m(__run_discoveries__ pid=11203)\u001b[0m 2022-11-14T10:40:27PST : INFO : brisk_xgboost : __discover_model__ : 149 : Message : brisk_xgb_ensemble: Model saved at /tmp/covid_autolearn/brisk_xgb_ensemble/saved/brisk_xgb_ensemble_0.pickle\n"
     ]
    }
   ],
   "source": [
    "ensemble_set.fit()"
   ]
  },
  {
   "cell_type": "code",
   "execution_count": 56,
   "metadata": {},
   "outputs": [
    {
     "data": {
      "text/plain": [
       "[-0.7802782707401064, -0.8618296200649376]"
      ]
     },
     "execution_count": 56,
     "metadata": {},
     "output_type": "execute_result"
    }
   ],
   "source": [
    "ensemble_set.score"
   ]
  },
  {
   "cell_type": "code",
   "execution_count": 57,
   "metadata": {},
   "outputs": [
    {
     "data": {
      "text/plain": [
       "array([0.5047283 , 0.5047283 , 0.5047283 , 0.5047283 , 0.5047283 ,\n",
       "       0.5047283 , 0.5047283 , 0.5047283 , 0.5047283 , 0.5047283 ,\n",
       "       0.5047283 , 0.5047283 , 0.5047283 , 0.5047283 , 0.5047283 ,\n",
       "       0.5047283 , 0.5047283 , 0.5047283 , 0.5047283 , 0.49861518,\n",
       "       0.5047283 , 0.5047283 , 0.5047283 , 0.5047283 , 0.5047283 ,\n",
       "       0.5047283 , 0.5047283 , 0.5047283 , 0.5047283 , 0.5047283 ,\n",
       "       0.5047283 , 0.5047283 , 0.5047283 , 0.5047283 , 0.5047283 ,\n",
       "       0.5047283 , 0.5047283 , 0.5047283 , 0.5047283 , 0.5047283 ,\n",
       "       0.49861518, 0.5047283 , 0.5047283 , 0.5047283 , 0.5047283 ,\n",
       "       0.5047283 , 0.5047283 , 0.5047283 , 0.5047283 , 0.5047283 ,\n",
       "       0.5047283 , 0.5047283 , 0.5047283 , 0.5047283 , 0.5047283 ,\n",
       "       0.5047283 , 0.5047283 , 0.5047283 , 0.5047283 , 0.5047283 ,\n",
       "       0.5047283 , 0.5047283 , 0.5047283 , 0.5047283 , 0.5047283 ,\n",
       "       0.5047283 , 0.5047283 , 0.5047283 , 0.5047283 , 0.5047283 ,\n",
       "       0.5047283 , 0.5047283 , 0.5047283 , 0.5047283 , 0.5047283 ,\n",
       "       0.5047283 , 0.5047283 , 0.5047283 , 0.5047283 , 0.5047283 ,\n",
       "       0.5047283 , 0.5047283 , 0.5047283 , 0.5047283 , 0.5047283 ,\n",
       "       0.5047283 , 0.5047283 , 0.5047283 , 0.5047283 , 0.49861518,\n",
       "       0.5047283 , 0.5047283 , 0.5047283 , 0.5047283 , 0.5047283 ,\n",
       "       0.5047283 , 0.5047283 , 0.5047283 , 0.5047283 , 0.5047283 ,\n",
       "       0.5047283 , 0.5047283 , 0.5047283 , 0.5047283 , 0.5047283 ,\n",
       "       0.5047283 , 0.49861518, 0.5047283 , 0.5047283 , 0.5047283 ,\n",
       "       0.5047283 , 0.49861518, 0.5047283 , 0.5047283 , 0.5047283 ,\n",
       "       0.5047283 , 0.5047283 , 0.5047283 , 0.49861518, 0.5047283 ,\n",
       "       0.5047283 , 0.5047283 , 0.5047283 , 0.5047283 , 0.5047283 ,\n",
       "       0.49861518, 0.5047283 , 0.5047283 , 0.5047283 , 0.5047283 ,\n",
       "       0.49861518, 0.5047283 , 0.5047283 , 0.5047283 , 0.5047283 ,\n",
       "       0.5047283 , 0.5047283 , 0.5047283 , 0.5047283 , 0.5047283 ,\n",
       "       0.5047283 , 0.5047283 , 0.5047283 , 0.5047283 , 0.5047283 ,\n",
       "       0.49861518, 0.49861518, 0.5047283 , 0.5047283 , 0.5047283 ,\n",
       "       0.5047283 , 0.5047283 , 0.5047283 , 0.5047283 , 0.5047283 ,\n",
       "       0.5047283 , 0.5047283 , 0.5047283 , 0.5047283 , 0.5047283 ,\n",
       "       0.5047283 , 0.5047283 , 0.5047283 , 0.5047283 , 0.5047283 ,\n",
       "       0.5047283 , 0.5047283 , 0.5047283 , 0.5047283 , 0.5047283 ,\n",
       "       0.5047283 , 0.49861518, 0.49861518, 0.5047283 , 0.5047283 ,\n",
       "       0.5047283 , 0.49861518, 0.49861518, 0.5047283 , 0.5047283 ,\n",
       "       0.5047283 , 0.5047283 , 0.5047283 , 0.5047283 , 0.5047283 ,\n",
       "       0.5047283 , 0.5047283 , 0.5047283 , 0.5047283 , 0.5047283 ,\n",
       "       0.5047283 ], dtype=float32)"
      ]
     },
     "execution_count": 57,
     "metadata": {},
     "output_type": "execute_result"
    }
   ],
   "source": [
    "ensemble_set.predict(df_X)"
   ]
  },
  {
   "cell_type": "code",
   "execution_count": null,
   "metadata": {},
   "outputs": [],
   "source": []
  }
 ],
 "metadata": {
  "kernelspec": {
   "display_name": "admin-admin-wasif-dev-ray",
   "language": "python",
   "name": "conda-env-admin-admin-wasif-dev-ray-py"
  },
  "language_info": {
   "codemirror_mode": {
    "name": "ipython",
    "version": 3
   },
   "file_extension": ".py",
   "mimetype": "text/x-python",
   "name": "python",
   "nbconvert_exporter": "python",
   "pygments_lexer": "ipython3",
   "version": "3.9.13"
  },
  "vscode": {
   "interpreter": {
    "hash": "5a94c6c960097f54adba02dc541c5971cf8d1c3cc945e5d727fdc1dc3c601326"
   }
  }
 },
 "nbformat": 4,
 "nbformat_minor": 4
}
