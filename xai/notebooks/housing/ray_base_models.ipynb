{
 "cells": [
  {
   "cell_type": "code",
   "execution_count": 1,
   "metadata": {},
   "outputs": [],
   "source": [
    "# !echo $RAYCLUSTER_AUTOSCALER_HEAD_SVC_PORT_10001_TCP_ADDR\n",
    "# !echo $RAYCLUSTER_AUTOSCALER_HEAD_SVC_PORT_10001_TCP_PORT"
   ]
  },
  {
   "cell_type": "code",
   "execution_count": 6,
   "metadata": {},
   "outputs": [],
   "source": [
    "import sys; sys.path.insert(0, '../..') # add parent folder path where lib folder is"
   ]
  },
  {
   "cell_type": "code",
   "execution_count": 7,
   "metadata": {},
   "outputs": [],
   "source": [
    "import ray\n",
    "import time"
   ]
  },
  {
   "cell_type": "code",
   "execution_count": 8,
   "metadata": {},
   "outputs": [],
   "source": [
    "# from utils import logger"
   ]
  },
  {
   "cell_type": "code",
   "execution_count": 1,
   "metadata": {},
   "outputs": [
    {
     "ename": "ModuleNotFoundError",
     "evalue": "No module named 'utils'",
     "output_type": "error",
     "traceback": [
      "\u001b[0;31m---------------------------------------------------------------------------\u001b[0m",
      "\u001b[0;31mModuleNotFoundError\u001b[0m                       Traceback (most recent call last)",
      "Cell \u001b[0;32mIn [1], line 11\u001b[0m\n\u001b[1;32m      7\u001b[0m \u001b[38;5;28;01mfrom\u001b[39;00m \u001b[38;5;21;01msklearn\u001b[39;00m\u001b[38;5;21;01m.\u001b[39;00m\u001b[38;5;21;01mmetrics\u001b[39;00m \u001b[38;5;28;01mimport\u001b[39;00m r2_score, mean_squared_error\n\u001b[1;32m      8\u001b[0m \u001b[38;5;28;01mfrom\u001b[39;00m \u001b[38;5;21;01msklearn\u001b[39;00m\u001b[38;5;21;01m.\u001b[39;00m\u001b[38;5;21;01mmetrics\u001b[39;00m \u001b[38;5;28;01mimport\u001b[39;00m f1_score, roc_auc_score, precision_score, recall_score\n\u001b[0;32m---> 11\u001b[0m \u001b[38;5;28;01mfrom\u001b[39;00m \u001b[38;5;21;01mutils\u001b[39;00m \u001b[38;5;28;01mimport\u001b[39;00m helper, config, rayer, kaggle_dataset_helper\n\u001b[1;32m     12\u001b[0m \u001b[38;5;28;01mfrom\u001b[39;00m \u001b[38;5;21;01mml\u001b[39;00m\u001b[38;5;21;01m.\u001b[39;00m\u001b[38;5;21;01mmodels\u001b[39;00m\u001b[38;5;21;01m.\u001b[39;00m\u001b[38;5;21;01mbase\u001b[39;00m\u001b[38;5;21;01m.\u001b[39;00m\u001b[38;5;21;01mv2\u001b[39;00m\u001b[38;5;21;01m.\u001b[39;00m\u001b[38;5;21;01mbrisk_xgboost\u001b[39;00m \u001b[38;5;28;01mimport\u001b[39;00m BriskXGBoost\n\u001b[1;32m     13\u001b[0m \u001b[38;5;28;01mfrom\u001b[39;00m \u001b[38;5;21;01mml\u001b[39;00m\u001b[38;5;21;01m.\u001b[39;00m\u001b[38;5;21;01mmodels\u001b[39;00m\u001b[38;5;21;01m.\u001b[39;00m\u001b[38;5;21;01mbase\u001b[39;00m\u001b[38;5;21;01m.\u001b[39;00m\u001b[38;5;21;01mv2\u001b[39;00m\u001b[38;5;21;01m.\u001b[39;00m\u001b[38;5;21;01mbrisk_bagging\u001b[39;00m \u001b[38;5;28;01mimport\u001b[39;00m BriskBagging\n",
      "\u001b[0;31mModuleNotFoundError\u001b[0m: No module named 'utils'"
     ]
    }
   ],
   "source": [
    "%load_ext autoreload\n",
    "%autoreload 2\n",
    "\n",
    "from sklearn.preprocessing import StandardScaler\n",
    "from sklearn.model_selection import train_test_split\n",
    "\n",
    "from sklearn.metrics import r2_score, mean_squared_error\n",
    "from sklearn.metrics import f1_score, roc_auc_score, precision_score, recall_score\n",
    "\n",
    "\n",
    "from utils import helper, config, rayer, kaggle_dataset_helper\n",
    "from ml.models.base.v2.brisk_xgboost import BriskXGBoost\n",
    "from ml.models.base.v2.brisk_bagging import BriskBagging\n",
    "from ml.models.base.v2.slug_xgboost import SlugXGBoost\n",
    "from ml.models.base.v2.slug_knn import SlugKNN\n",
    "from ml.models.base.v2.slug_rf import SlugRF\n",
    "\n",
    "\n",
    "from ml.models import common\n"
   ]
  },
  {
   "cell_type": "code",
   "execution_count": 10,
   "metadata": {},
   "outputs": [],
   "source": [
    "rayer.get_global_cluster(num_cpus=4)"
   ]
  },
  {
   "cell_type": "code",
   "execution_count": 11,
   "metadata": {},
   "outputs": [
    {
     "name": "stdout",
     "output_type": "stream",
     "text": [
      "======== Autoscaler status: 2022-11-22 13:12:06.009202 ========\n",
      "Node status\n",
      "---------------------------------------------------------------\n",
      "Healthy:\n",
      " 1 head-group\n",
      " 9 small-group\n",
      "Pending:\n",
      " IP not yet assigned: small-group, waiting\n",
      "Recent failures:\n",
      " (no failures)\n",
      "\n",
      "Resources\n",
      "---------------------------------------------------------------\n",
      "Usage:\n",
      " 0.0/19.0 CPU\n",
      " 0.00/68.918 GiB memory\n",
      " 0.00/20.368 GiB object_store_memory\n",
      "\n",
      "Demands:\n",
      " {'CPU': 1}: 4+ from request_resources()\n",
      "\u001b[0m"
     ]
    }
   ],
   "source": [
    "!ray status --address='raycluster-autoscaler-head-svc.dev.svc.cluster.local:6379'"
   ]
  },
  {
   "cell_type": "code",
   "execution_count": 8,
   "metadata": {},
   "outputs": [],
   "source": [
    "ray.autoscaler.sdk.request_resources(num_cpus=0)"
   ]
  },
  {
   "cell_type": "code",
   "execution_count": 16,
   "metadata": {},
   "outputs": [
    {
     "ename": "NameError",
     "evalue": "name 'StandardScaler' is not defined",
     "output_type": "error",
     "traceback": [
      "\u001b[0;31m---------------------------------------------------------------------------\u001b[0m",
      "\u001b[0;31mNameError\u001b[0m                                 Traceback (most recent call last)",
      "Cell \u001b[0;32mIn [16], line 14\u001b[0m\n\u001b[1;32m     10\u001b[0m df_y \u001b[38;5;241m=\u001b[39m ds_train[\u001b[38;5;124m'\u001b[39m\u001b[38;5;124mtarget\u001b[39m\u001b[38;5;124m'\u001b[39m]\n\u001b[1;32m     12\u001b[0m X_train, X_test, y_train, y_test \u001b[38;5;241m=\u001b[39m train_test_split(df_X, df_y, test_size\u001b[38;5;241m=\u001b[39m\u001b[38;5;241m0.33\u001b[39m, random_state\u001b[38;5;241m=\u001b[39mconfig\u001b[38;5;241m.\u001b[39mrand_state)\n\u001b[0;32m---> 14\u001b[0m X_train_scalar \u001b[38;5;241m=\u001b[39m \u001b[43mStandardScaler\u001b[49m()\u001b[38;5;241m.\u001b[39mfit_transform(X_train\u001b[38;5;241m.\u001b[39mcopy())\n\u001b[1;32m     15\u001b[0m X_test_scalar \u001b[38;5;241m=\u001b[39m StandardScaler()\u001b[38;5;241m.\u001b[39mfit_transform(X_test\u001b[38;5;241m.\u001b[39mcopy())\n",
      "\u001b[0;31mNameError\u001b[0m: name 'StandardScaler' is not defined"
     ]
    },
    {
     "name": "stdout",
     "output_type": "stream",
     "text": [
      "\u001b[2m\u001b[1m\u001b[36m(scheduler +4m32s)\u001b[0m Resized to 21 CPUs.\n"
     ]
    }
   ],
   "source": [
    "ds_train, ds_test = kaggle_dataset_helper.get_transaction_predictions_dataset()\n",
    "ds_train = common.label_encode(ds_train)\n",
    "ds_test = common.label_encode(ds_test)\n",
    "\n",
    "ds_train = ds_train.fillna(-1)\n",
    "ds_test = ds_test.fillna(-1)\n",
    "\n",
    "\n",
    "df_X = ds_train.loc[:, ds_train.columns != 'target']\n",
    "df_y = ds_train['target']\n",
    "\n",
    "X_train, X_test, y_train, y_test = train_test_split(df_X, df_y, test_size=0.33, random_state=config.rand_state)\n",
    "\n",
    "ss = StandardScaler()\n",
    "X_train_scalar = pd.DataFrame(ss.fit_transform(X_train), columns = X_train.columns)\n",
    "X_test_scalar = pd.DataFrame(ss.fit_transform(X_test), columns = X_test.columns)\n",
    "\n"
   ]
  },
  {
   "cell_type": "code",
   "execution_count": 15,
   "metadata": {},
   "outputs": [
    {
     "ename": "NameError",
     "evalue": "name 'X_train' is not defined",
     "output_type": "error",
     "traceback": [
      "\u001b[0;31m---------------------------------------------------------------------------\u001b[0m",
      "\u001b[0;31mNameError\u001b[0m                                 Traceback (most recent call last)",
      "Cell \u001b[0;32mIn [15], line 1\u001b[0m\n\u001b[0;32m----> 1\u001b[0m X_train_id \u001b[38;5;241m=\u001b[39m ray\u001b[38;5;241m.\u001b[39mput(\u001b[43mX_train\u001b[49m)\n\u001b[1;32m      2\u001b[0m y_train_id \u001b[38;5;241m=\u001b[39m ray\u001b[38;5;241m.\u001b[39mput(y_train)\n\u001b[1;32m      4\u001b[0m X_test_id \u001b[38;5;241m=\u001b[39m ray\u001b[38;5;241m.\u001b[39mput(X_test)\n",
      "\u001b[0;31mNameError\u001b[0m: name 'X_train' is not defined"
     ]
    }
   ],
   "source": [
    "X_train_id = ray.put(X_train_scalar)\n",
    "y_train_id = ray.put(y_train)\n",
    "\n",
    "X_test_id = ray.put(X_test_scalar)\n",
    "y_test_id = ray.put(y_test)\n"
   ]
  },
  {
   "cell_type": "code",
   "execution_count": null,
   "metadata": {},
   "outputs": [],
   "source": [
    "\n",
    "@ray.remote\n",
    "def worker(base_model, X_train_id, X_test_id, y_train_id, y_test_id):     \n",
    "    base_model.fetch_model(X_train_id, X_test_id, y_train_id, y_test_id)\n",
    "    return base_model\n"
   ]
  },
  {
   "cell_type": "code",
   "execution_count": null,
   "metadata": {},
   "outputs": [],
   "source": [
    "brisk_xgb1 = BriskXGBoost('brisk_xgb1')\n",
    "brisk_xgb1.boosted_round = 100\n",
    "brisk_xgb1.n_trials = 500\n",
    "\n",
    "brisk_xgb2 = BriskXGBoost('brisk_xgb2')\n",
    "brisk_xgb2.boosted_round = 10\n",
    "brisk_xgb2.n_trials = 10\n",
    "\n",
    "base_models = [brisk_xgb1, brisk_xgb2]\n",
    "\n",
    "brisk_bagging_1 = BriskBagging('brisk_bagging_1')\n",
    "brisk_bagging_1.boosted_round = 100\n",
    "brisk_bagging_1.n_trials = 50\n",
    "\n",
    "brisk_bagging_2 = BriskBagging('brisk_bagging_2')\n",
    "brisk_bagging_2.boosted_round = 100\n",
    "brisk_bagging_2.n_trials = 50\n",
    "\n",
    "base_models_bagging = [brisk_bagging_1, brisk_bagging_2]\n",
    "\n",
    "slug_xgb1 = SlugXGBoost('slug_xgb1')\n",
    "slug_xgb1.boosted_round = 100\n",
    "slug_xgb1.n_trials = 500\n",
    "\n",
    "slug_xgb2 = SlugXGBoost('slug_xgb2')\n",
    "slug_xgb2.boosted_round = 100\n",
    "slug_xgb2.n_trials = 500\n",
    "\n",
    "base_models_slug = [slug_xgb1, slug_xgb2]\n",
    "\n",
    "#slug_ann_1 = SlugANN('slug_ann_1', X_train, X_test, y_train, y_test)\n",
    "#slug_ann_1.epochs = 50\n",
    "#slug_ann_1.n_trials = 50\n",
    "\n",
    "#slug_ann_2 = SlugANN('slug_ann_2', X_train, X_test, y_train, y_test)\n",
    "#slug_ann_2.epochs = 50\n",
    "#slug_ann_2.n_trials = 50\n",
    "\n",
    "#base_models_ann = [slug_ann_1, slug_ann_2]\n",
    "\n",
    "\n",
    "slug_rf_1 = SlugRF('slug_rf_1')\n",
    "slug_rf_1.max_n_estimators = 1000\n",
    "slug_rf_1.n_trials = 50\n",
    "\n",
    "slug_rf_2 = SlugRF('slug_rf_2')\n",
    "slug_rf_2.max_n_estimators = 1000\n",
    "slug_rf_2.n_trials = 50\n",
    "\n",
    "base_models_rf = [slug_rf_1, slug_rf_2]\n",
    "\n",
    "\n",
    "slug_knn_1 = SlugKNN('slug_knn_1')\n",
    "slug_knn_1.n_neighbors = 100\n",
    "slug_knn_1.n_trials = 500\n",
    "\n",
    "slug_knn_2 = SlugKNN('slug_knn_2')\n",
    "slug_knn_2.n_neighbors = 100\n",
    "slug_knn_1.n_trials = 500\n",
    "\n",
    "base_models_knn = [slug_knn_1, slug_knn_2]\n"
   ]
  },
  {
   "cell_type": "code",
   "execution_count": null,
   "metadata": {},
   "outputs": [],
   "source": [
    "model_results = ray.get([worker.remote(base_model, X_train_id, X_test_id, y_train_id, y_test_id) for base_model in base_models])"
   ]
  },
  {
   "cell_type": "code",
   "execution_count": null,
   "metadata": {},
   "outputs": [
    {
     "name": "stdout",
     "output_type": "stream",
     "text": [
      "\u001b[2m\u001b[1m\u001b[36m(scheduler +3m45s)\u001b[0m Resized to 27 CPUs.\n",
      "\u001b[2m\u001b[1m\u001b[36m(scheduler +3m45s)\u001b[0m Removing 2 nodes of type small-group (idle).\n",
      "\u001b[2m\u001b[1m\u001b[36m(scheduler +3m53s)\u001b[0m Resized to 23 CPUs.\n",
      "\u001b[2m\u001b[1m\u001b[36m(scheduler +3m53s)\u001b[0m Removing 2 nodes of type small-group (idle).\n",
      "\u001b[2m\u001b[1m\u001b[36m(scheduler +4m0s)\u001b[0m Resized to 19 CPUs.\n",
      "\u001b[2m\u001b[1m\u001b[36m(scheduler +4m8s)\u001b[0m Resized to 15 CPUs.\n",
      "\u001b[2m\u001b[1m\u001b[36m(scheduler +4m8s)\u001b[0m Removing 1 nodes of type small-group (idle).\n",
      "\u001b[2m\u001b[1m\u001b[36m(scheduler +4m16s)\u001b[0m Resized to 17 CPUs.\n",
      "\u001b[2m\u001b[1m\u001b[36m(scheduler +4m24s)\u001b[0m Removing 1 nodes of type small-group (idle).\n"
     ]
    }
   ],
   "source": [
    "model_results[0].score"
   ]
  },
  {
   "cell_type": "code",
   "execution_count": 12,
   "metadata": {},
   "outputs": [
    {
     "data": {
      "text/plain": [
       "[0.9643010946844719, 0.8669560346764794]"
      ]
     },
     "execution_count": 12,
     "metadata": {},
     "output_type": "execute_result"
    }
   ],
   "source": [
    "model_results[1].score"
   ]
  },
  {
   "cell_type": "code",
   "execution_count": 13,
   "metadata": {},
   "outputs": [
    {
     "data": {
      "text/plain": [
       "array([220875.        , 150083.33333333, 103940.25      , 228575.        ,\n",
       "        86816.66666667, 110866.66666667, 272666.66666667, 124927.83333333,\n",
       "       580430.16666667, 159475.16666667, 193922.91666667, 149821.5       ,\n",
       "       233342.5       , 123408.33333333, 132937.5       , 149257.25      ,\n",
       "       226194.        , 120783.33333333, 149816.66666667, 246570.83333333,\n",
       "       129862.5       , 142083.33333333, 101387.41666667, 162816.66666667,\n",
       "       191054.16666667, 217902.91666667, 174527.91666667,  85533.33333333,\n",
       "       306740.33333333, 114223.        , 134266.66666667, 184091.66666667,\n",
       "       141720.83333333, 312320.83333333, 333725.75      , 179391.66666667,\n",
       "       278575.        , 121750.        , 236150.83333333, 296191.66666667,\n",
       "       189833.33333333, 117450.        , 180413.25      , 304943.83333333,\n",
       "       324655.08333333, 148150.        , 126025.        , 118530.5       ,\n",
       "       172438.66666667,  98395.83333333, 363839.5       , 143241.66666667,\n",
       "       166112.5       ,  91775.        , 238782.16666667, 110408.33333333,\n",
       "       118575.        , 256850.75      , 140870.83333333, 108345.83333333,\n",
       "       145225.        , 134550.        , 146212.5       , 160925.        ,\n",
       "       197464.83333333, 152225.        , 126408.33333333, 198495.41666667,\n",
       "       118633.33333333, 183616.66666667, 182485.41666667, 106056.25      ,\n",
       "        80350.        , 226348.16666667,  98975.        , 268400.        ,\n",
       "       128983.33333333, 108983.33333333, 277984.16666667, 161795.83333333,\n",
       "       138416.66666667, 127870.83333333, 114854.16666667, 138000.        ,\n",
       "       197650.        , 199204.83333333,  97675.        , 196479.16666667,\n",
       "       170795.5       , 136591.66666667, 195696.5       , 196550.        ,\n",
       "       174700.        , 226173.16666667, 205318.16666667, 147479.16666667,\n",
       "       195666.66666667, 172582.25      , 123995.83333333, 149162.5       ,\n",
       "       237445.5       , 228398.16666667, 139881.25      , 163095.83333333,\n",
       "       121808.33333333, 280107.5       , 149095.83333333,  96495.83333333,\n",
       "       170616.41666667, 111425.        ,  88316.66666667, 123590.25      ,\n",
       "       198970.83333333, 122325.        , 171499.16666667, 166041.66666667,\n",
       "       402653.08333333, 129900.        , 178033.33333333, 256858.25      ,\n",
       "       163479.16666667, 167658.66666667, 134587.5       , 219562.5       ,\n",
       "       216214.83333333, 214981.83333333, 383000.58333333, 206648.16666667,\n",
       "       199758.33333333, 170483.33333333, 201926.        , 201883.33333333,\n",
       "       145855.        , 192319.33333333, 106006.33333333, 235088.        ,\n",
       "       138158.33333333, 191823.16666667, 112866.66666667, 171342.33333333,\n",
       "       140541.66666667, 137100.66666667, 195328.33333333, 138512.5       ,\n",
       "       149316.66666667, 173350.        , 234358.08333333, 136616.66666667,\n",
       "       291818.5       , 229177.91666667, 160912.5       , 375042.41666667,\n",
       "       313205.41666667, 168900.        , 168791.66666667, 252473.33333333,\n",
       "       117608.33333333, 208325.        , 117541.66666667, 181897.33333333,\n",
       "       130158.33333333, 151866.66666667, 197720.83333333, 134958.33333333,\n",
       "       249454.83333333, 118025.        , 152062.5       , 261844.08333333,\n",
       "       189483.33333333, 180891.66666667, 166908.33333333, 155913.66666667,\n",
       "       178236.        , 166819.75      , 121175.        , 111721.5       ,\n",
       "       141991.66666667, 229616.66666667, 112216.66666667, 151125.        ,\n",
       "       299651.        , 199158.33333333, 117625.        , 293426.        ,\n",
       "       120879.16666667, 174204.16666667,  99125.        , 197875.        ,\n",
       "       209139.41666667, 141916.66666667, 136400.        , 148933.33333333,\n",
       "       216031.5       , 126791.66666667, 125025.        , 146450.        ,\n",
       "       102891.66666667, 128291.66666667, 170908.33333333, 134062.5       ,\n",
       "       138161.41666667, 202264.83333333, 113943.75      , 122158.33333333,\n",
       "       144398.91666667, 176672.5       , 153337.5       , 330460.25      ,\n",
       "       282875.        ,  70441.66666667, 152462.5       , 258250.        ,\n",
       "        89625.        , 101033.33333333, 378975.25      , 219870.        ,\n",
       "       204884.33333333, 260445.        , 256618.25      ,  85525.        ,\n",
       "       220233.33333333, 146575.        , 138861.16666667, 121285.5       ,\n",
       "       187257.5       , 256522.5       , 243958.33333333, 204708.33333333,\n",
       "       133295.83333333, 169750.        ,  91375.        , 165070.83333333,\n",
       "       110058.33333333, 144908.33333333, 243958.33333333, 132050.        ,\n",
       "       142003.08333333, 116858.33333333,  83125.        , 172808.33333333,\n",
       "       114525.        , 180158.33333333, 194582.08333333, 215900.        ,\n",
       "       167333.33333333, 188325.        , 203158.33333333, 187904.16666667,\n",
       "       122650.        , 202898.33333333, 160958.33333333, 260774.91666667,\n",
       "       112041.66666667, 399164.91666667, 215158.33333333, 245110.        ,\n",
       "       108916.66666667, 213475.5       , 432004.16666667, 397582.58333333,\n",
       "       201575.        , 133583.33333333, 136400.        ,  99273.        ,\n",
       "       435583.58333333, 333510.16666667, 332828.66666667,  71433.33333333,\n",
       "       243150.        , 246842.08333333, 130833.33333333, 230025.        ,\n",
       "       128625.        , 180908.33333333, 152458.33333333, 234586.5       ,\n",
       "       212436.25      , 173354.16666667, 246479.58333333, 117250.        ,\n",
       "       135700.        , 369593.5       , 157241.66666667, 162429.16666667,\n",
       "       202156.5       , 147216.66666667, 117214.91666667, 307869.58333333,\n",
       "       405485.91666667, 164258.33333333,  81991.08333333,  85500.        ,\n",
       "       358647.41666667, 109341.66666667, 117450.        , 307263.83333333,\n",
       "       236419.        , 180414.58333333, 154575.        , 172958.33333333,\n",
       "       100858.33333333, 129241.66666667, 186766.25      , 178431.83333333,\n",
       "       157200.        , 136875.        , 130073.58333333, 169283.33333333,\n",
       "       178012.5       , 194736.66666667, 109466.66666667, 153031.83333333,\n",
       "       156500.        , 113242.41666667, 120658.33333333, 139958.33333333,\n",
       "       299737.5       , 126041.66666667, 193147.33333333, 153708.33333333,\n",
       "       110331.25      , 254125.        , 119300.        , 229890.        ,\n",
       "       147958.33333333, 236991.66666667, 131262.5       , 321843.66666667,\n",
       "       189591.66666667, 146670.83333333, 125358.33333333, 240031.5       ,\n",
       "       159300.        , 182321.58333333, 157850.        , 148469.75      ,\n",
       "       142895.83333333, 194408.33333333, 152408.33333333, 127875.        ,\n",
       "       333804.58333333, 153639.5       , 172433.33333333, 244878.75      ,\n",
       "       167400.        , 146102.83333333, 112908.33333333, 105666.66666667,\n",
       "       104241.66666667, 137183.33333333, 209766.66666667, 368816.33333333,\n",
       "       122225.        , 108608.33333333, 166166.66666667, 375117.        ,\n",
       "       324650.        , 160948.58333333, 287794.91666667, 228945.83333333,\n",
       "       341774.91666667, 183304.16666667, 235823.83333333, 254182.08333333,\n",
       "       102042.        , 159105.83333333, 177354.16666667, 130783.33333333,\n",
       "       159689.58333333, 158200.        , 405554.5       , 108491.66666667,\n",
       "       123083.33333333, 139108.33333333, 143845.83333333,  74391.66666667,\n",
       "       196608.33333333, 294131.5       , 123791.66666667, 258931.41666667,\n",
       "       160983.33333333, 107266.66666667, 124291.66666667, 120918.75      ,\n",
       "       130558.33333333,  95214.58333333, 138237.5       , 197845.83333333,\n",
       "       238977.33333333, 391341.08333333, 116525.        , 113236.08333333,\n",
       "       195275.        ,  93533.33333333, 139120.83333333, 167261.25      ,\n",
       "       188729.16666667, 167880.33333333, 141425.        , 185161.25      ,\n",
       "       344612.08333333, 225886.66666667, 172741.66666667, 108058.33333333,\n",
       "       146250.        , 284300.        , 102839.66666667, 262716.66666667,\n",
       "       245823.33333333, 250966.66666667, 122050.66666667, 125320.83333333,\n",
       "       187097.08333333, 136907.66666667, 143466.66666667, 127120.83333333,\n",
       "       180856.25      ,  97671.5       , 273798.83333333, 130704.16666667,\n",
       "       253934.91666667, 357886.25      , 114735.5       , 154183.33333333,\n",
       "       148870.83333333, 120616.66666667, 276016.66666667, 119137.5       ,\n",
       "       213159.16666667, 119052.75      , 149162.5       , 207644.        ,\n",
       "       145570.83333333, 183283.33333333, 147519.33333333, 320408.33333333,\n",
       "       224139.33333333, 485726.08333333, 222354.16666667, 165675.        ,\n",
       "       115533.33333333, 108333.33333333,  66925.91666667, 149977.91666667,\n",
       "       114575.        , 170150.        , 137434.        , 120863.66666667,\n",
       "       178366.66666667, 347337.83333333, 160295.83333333, 206516.66666667,\n",
       "       138291.66666667, 198073.16666667, 162325.        , 165162.5       ,\n",
       "        97358.33333333, 103775.        , 262666.33333333, 178483.75      ,\n",
       "       177354.16666667, 151325.        , 144604.16666667, 112937.5       ,\n",
       "       229299.91666667, 126175.        , 200654.58333333, 116839.91666667,\n",
       "       204516.66666667, 257858.33333333, 168479.16666667, 167427.33333333,\n",
       "       114859.        , 211291.66666667, 153570.83333333,  95725.        ,\n",
       "       141158.33333333, 200533.33333333, 266496.91666667, 186245.83333333,\n",
       "       113698.58333333, 172566.66666667])"
      ]
     },
     "execution_count": 13,
     "metadata": {},
     "output_type": "execute_result"
    }
   ],
   "source": [
    "model_results[1].predict(X_test)"
   ]
  },
  {
   "cell_type": "code",
   "execution_count": null,
   "metadata": {},
   "outputs": [],
   "source": []
  }
 ],
 "metadata": {
  "kernelspec": {
   "display_name": "admin-admin-wasif-dev-ray",
   "language": "python",
   "name": "conda-env-admin-admin-wasif-dev-ray-py"
  },
  "language_info": {
   "codemirror_mode": {
    "name": "ipython",
    "version": 3
   },
   "file_extension": ".py",
   "mimetype": "text/x-python",
   "name": "python",
   "nbconvert_exporter": "python",
   "pygments_lexer": "ipython3",
   "version": "3.9.13"
  },
  "vscode": {
   "interpreter": {
    "hash": "b6ff7914d2bc405bfa61a835d0564ba294eb5f3f9b4c24865f45d9397593b123"
   }
  }
 },
 "nbformat": 4,
 "nbformat_minor": 4
}
