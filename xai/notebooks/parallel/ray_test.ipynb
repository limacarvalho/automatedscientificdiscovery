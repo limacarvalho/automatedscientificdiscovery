{
 "cells": [
  {
   "cell_type": "code",
   "execution_count": 18,
   "id": "28204d6c-f6ba-4f3d-bc55-f9892252ccbe",
   "metadata": {},
   "outputs": [
    {
     "name": "stdout",
     "output_type": "stream",
     "text": [
      "The autoreload extension is already loaded. To reload it, use:\n",
      "  %reload_ext autoreload\n"
     ]
    }
   ],
   "source": [
    "%load_ext autoreload\n",
    "%autoreload 2"
   ]
  },
  {
   "cell_type": "code",
   "execution_count": 1,
   "id": "905db6b9-d220-4edf-bd80-71e666e53de3",
   "metadata": {},
   "outputs": [],
   "source": [
    "import sys; sys.path.insert(0, '../..') # add parent folder path where lib folder is"
   ]
  },
  {
   "cell_type": "code",
   "execution_count": 24,
   "id": "f0019703-f908-4cf5-b167-6176d3da17e2",
   "metadata": {},
   "outputs": [
    {
     "name": "stderr",
     "output_type": "stream",
     "text": [
      "2022-11-10 11:52:59,498\tINFO packaging.py:527 -- Creating a file package for local directory '/home/wasif/python-asd/xai/app/'.\n",
      "2022-11-10 11:52:59,523\tWARNING packaging.py:401 -- File /home/wasif/python-asd/xai/app/test/data/wetransfer_asd_team_2022-10-25_1332.zip is very large (31.69MiB). Consider adding this file to the 'excludes' list to skip uploading it: `ray.init(..., runtime_env={'excludes': ['/home/wasif/python-asd/xai/app/test/data/wetransfer_asd_team_2022-10-25_1332.zip']})`\n",
      "2022-11-10 11:52:59,603\tWARNING packaging.py:401 -- File /home/wasif/python-asd/xai/app/notebooks/train.csv is very large (110.52MiB). Consider adding this file to the 'excludes' list to skip uploading it: `ray.init(..., runtime_env={'excludes': ['/home/wasif/python-asd/xai/app/notebooks/train.csv']})`\n",
      "2022-11-10 11:53:01,253\tINFO packaging.py:354 -- Pushing file package 'gcs://_ray_pkg_f8ddb9c5246be93e.zip' (363.17MiB) to Ray cluster...\n",
      "Log channel is reconnecting. Logs produced while the connection was down can be found on the head node of the cluster in `ray_client_server_[port].out`\n",
      "2022-11-10 11:53:06,499\tWARNING dataclient.py:396 -- Encountered connection issues in the data channel. Attempting to reconnect.\n",
      "2022-11-10 11:53:16,729\tERROR dataclient.py:323 -- Unrecoverable error in data channel.\n"
     ]
    },
    {
     "name": "stdout",
     "output_type": "stream",
     "text": [
      "\u001b[2m\u001b[36m(worker_1 pid=691)\u001b[0m 2022-11-10 11:57:04,249 - console_info - INFO - brisk_xgb1: Number of trials: 300\n",
      "\u001b[2m\u001b[36m(worker_1 pid=691)\u001b[0m 2022-11-10 11:57:04,249 - console_info - INFO - brisk_xgb1: Number of trials: 300\n",
      "\u001b[2m\u001b[36m(worker_1 pid=691)\u001b[0m 2022-11-10 11:57:04,252 - console_info - INFO - Best trial:260\n",
      "\u001b[2m\u001b[36m(worker_1 pid=691)\u001b[0m 2022-11-10 11:57:04,252 - console_info - INFO - Best trial:260\n",
      "\u001b[2m\u001b[36m(worker_1 pid=691)\u001b[0m 2022-11-10 11:57:04,257 - console_info - INFO -   Params: \n",
      "\u001b[2m\u001b[36m(worker_1 pid=691)\u001b[0m 2022-11-10 11:57:04,257 - console_info - INFO -   Params: \n",
      "\u001b[2m\u001b[36m(worker_1 pid=691)\u001b[0m 2022-11-10 11:57:04,264 - console_info - INFO -     booster dart\n",
      "\u001b[2m\u001b[36m(worker_1 pid=691)\u001b[0m 2022-11-10 11:57:04,264 - console_info - INFO -     booster dart\n",
      "\u001b[2m\u001b[36m(worker_1 pid=691)\u001b[0m 2022-11-10 11:57:04,269 - console_info - INFO -     lambda 0.02072885429254997\n",
      "\u001b[2m\u001b[36m(worker_1 pid=691)\u001b[0m 2022-11-10 11:57:04,269 - console_info - INFO -     lambda 0.02072885429254997\n",
      "\u001b[2m\u001b[36m(worker_1 pid=691)\u001b[0m 2022-11-10 11:57:04,275 - console_info - INFO -     alpha 0.1582504401244974\n",
      "\u001b[2m\u001b[36m(worker_1 pid=691)\u001b[0m 2022-11-10 11:57:04,275 - console_info - INFO -     alpha 0.1582504401244974\n",
      "\u001b[2m\u001b[36m(worker_1 pid=691)\u001b[0m 2022-11-10 11:57:04,280 - console_info - INFO -     max_depth 10\n",
      "\u001b[2m\u001b[36m(worker_1 pid=691)\u001b[0m 2022-11-10 11:57:04,280 - console_info - INFO -     max_depth 10\n",
      "\u001b[2m\u001b[36m(worker_1 pid=691)\u001b[0m 2022-11-10 11:57:04,285 - console_info - INFO -     eta 0.001002850227852082\n",
      "\u001b[2m\u001b[36m(worker_1 pid=691)\u001b[0m 2022-11-10 11:57:04,285 - console_info - INFO -     eta 0.001002850227852082\n",
      "\u001b[2m\u001b[36m(worker_1 pid=691)\u001b[0m 2022-11-10 11:57:04,290 - console_info - INFO -     gamma 0.12368128104089157\n",
      "\u001b[2m\u001b[36m(worker_1 pid=691)\u001b[0m 2022-11-10 11:57:04,290 - console_info - INFO -     gamma 0.12368128104089157\n",
      "\u001b[2m\u001b[36m(worker_1 pid=691)\u001b[0m 2022-11-10 11:57:04,297 - console_info - INFO -     grow_policy lossguide\n",
      "\u001b[2m\u001b[36m(worker_1 pid=691)\u001b[0m 2022-11-10 11:57:04,297 - console_info - INFO -     grow_policy lossguide\n",
      "\u001b[2m\u001b[36m(worker_1 pid=691)\u001b[0m 2022-11-10 11:57:04,303 - console_info - INFO -     sample_type weighted\n",
      "\u001b[2m\u001b[36m(worker_1 pid=691)\u001b[0m 2022-11-10 11:57:04,303 - console_info - INFO -     sample_type weighted\n",
      "\u001b[2m\u001b[36m(worker_1 pid=691)\u001b[0m 2022-11-10 11:57:04,308 - console_info - INFO -     normalize_type tree\n",
      "\u001b[2m\u001b[36m(worker_1 pid=691)\u001b[0m 2022-11-10 11:57:04,308 - console_info - INFO -     normalize_type tree\n",
      "\u001b[2m\u001b[36m(worker_1 pid=691)\u001b[0m 2022-11-10 11:57:04,314 - console_info - INFO -     rate_drop 0.9960231989966218\n",
      "\u001b[2m\u001b[36m(worker_1 pid=691)\u001b[0m 2022-11-10 11:57:04,314 - console_info - INFO -     rate_drop 0.9960231989966218\n",
      "\u001b[2m\u001b[36m(worker_1 pid=691)\u001b[0m 2022-11-10 11:57:04,319 - console_info - INFO -     skip_drop 0.001980296705831136\n",
      "\u001b[2m\u001b[36m(worker_1 pid=691)\u001b[0m 2022-11-10 11:57:04,319 - console_info - INFO -     skip_drop 0.001980296705831136\n",
      "\u001b[2m\u001b[36m(worker_1 pid=691)\u001b[0m 2022-11-10 11:57:04,403 - console_info - INFO -   test r2 score: -0.6199766230493937\n",
      "\u001b[2m\u001b[36m(worker_1 pid=691)\u001b[0m 2022-11-10 11:57:04,403 - console_info - INFO -   test r2 score: -0.6199766230493937\n",
      "\u001b[2m\u001b[36m(worker_1 pid=691)\u001b[0m 2022-11-10 11:57:04,408 - console_info - INFO - brisk_xgb1: Model saved at /home/wasif/python-asd/xai/app/ml/models/saved/covid_xgboost_ray/brisk_xgb1/saved/brisk_xgb1_260.pickle\n",
      "\u001b[2m\u001b[36m(worker_1 pid=691)\u001b[0m 2022-11-10 11:57:04,408 - console_info - INFO - brisk_xgb1: Model saved at /home/wasif/python-asd/xai/app/ml/models/saved/covid_xgboost_ray/brisk_xgb1/saved/brisk_xgb1_260.pickle\n"
     ]
    },
    {
     "ename": "KeyboardInterrupt",
     "evalue": "",
     "output_type": "error",
     "traceback": [
      "\u001b[0;31m---------------------------------------------------------------------------\u001b[0m",
      "\u001b[0;31mKeyboardInterrupt\u001b[0m                         Traceback (most recent call last)",
      "Cell \u001b[0;32mIn [24], line 13\u001b[0m\n\u001b[1;32m     11\u001b[0m \u001b[38;5;66;03m# Start Ray.\u001b[39;00m\n\u001b[1;32m     12\u001b[0m \u001b[38;5;28;01mtry\u001b[39;00m:\n\u001b[0;32m---> 13\u001b[0m     \u001b[43mray\u001b[49m\u001b[38;5;241;43m.\u001b[39;49m\u001b[43minit\u001b[49m\u001b[43m(\u001b[49m\u001b[43maddress\u001b[49m\u001b[38;5;241;43m=\u001b[39;49m\u001b[43mray_cluster_uri\u001b[49m\u001b[43m,\u001b[49m\u001b[43m \u001b[49m\u001b[43mruntime_env\u001b[49m\u001b[38;5;241;43m=\u001b[39;49m\u001b[43m{\u001b[49m\u001b[38;5;124;43m\"\u001b[39;49m\u001b[38;5;124;43mworking_dir\u001b[39;49m\u001b[38;5;124;43m\"\u001b[39;49m\u001b[43m:\u001b[49m\u001b[43m \u001b[49m\u001b[38;5;124;43m\"\u001b[39;49m\u001b[38;5;124;43m/home/wasif/python-asd/xai/app/\u001b[39;49m\u001b[38;5;124;43m\"\u001b[39;49m\u001b[43m}\u001b[49m\u001b[43m)\u001b[49m\n\u001b[1;32m     14\u001b[0m \u001b[38;5;28;01mexcept\u001b[39;00m \u001b[38;5;167;01mRuntimeError\u001b[39;00m \u001b[38;5;28;01mas\u001b[39;00m error_msg:\n\u001b[1;32m     15\u001b[0m     get_ray_cluster_info \u001b[38;5;241m=\u001b[39m get_ipython()\u001b[38;5;241m.\u001b[39mgetoutput(\u001b[38;5;124m\"\u001b[39m\u001b[38;5;124mray status --address=\u001b[39m\u001b[38;5;124m'\u001b[39m\u001b[38;5;124mraycluster-autoscaler-head-svc.dev.svc.cluster.local:6379\u001b[39m\u001b[38;5;124m'\u001b[39m\u001b[38;5;124m\"\u001b[39m)\n",
      "File \u001b[0;32m/home/conda/admin/683ae96175d14b6e7dd3530f3378d72b0ce8b7bc72d9b143c02cf15de243a0f7-20221110-124635-861655-52-ray/lib/python3.9/site-packages/ray/_private/client_mode_hook.py:105\u001b[0m, in \u001b[0;36mclient_mode_hook.<locals>.wrapper\u001b[0;34m(*args, **kwargs)\u001b[0m\n\u001b[1;32m    103\u001b[0m     \u001b[38;5;28;01mif\u001b[39;00m func\u001b[38;5;241m.\u001b[39m\u001b[38;5;18m__name__\u001b[39m \u001b[38;5;241m!=\u001b[39m \u001b[38;5;124m\"\u001b[39m\u001b[38;5;124minit\u001b[39m\u001b[38;5;124m\"\u001b[39m \u001b[38;5;129;01mor\u001b[39;00m is_client_mode_enabled_by_default:\n\u001b[1;32m    104\u001b[0m         \u001b[38;5;28;01mreturn\u001b[39;00m \u001b[38;5;28mgetattr\u001b[39m(ray, func\u001b[38;5;241m.\u001b[39m\u001b[38;5;18m__name__\u001b[39m)(\u001b[38;5;241m*\u001b[39margs, \u001b[38;5;241m*\u001b[39m\u001b[38;5;241m*\u001b[39mkwargs)\n\u001b[0;32m--> 105\u001b[0m \u001b[38;5;28;01mreturn\u001b[39;00m \u001b[43mfunc\u001b[49m\u001b[43m(\u001b[49m\u001b[38;5;241;43m*\u001b[39;49m\u001b[43margs\u001b[49m\u001b[43m,\u001b[49m\u001b[43m \u001b[49m\u001b[38;5;241;43m*\u001b[39;49m\u001b[38;5;241;43m*\u001b[39;49m\u001b[43mkwargs\u001b[49m\u001b[43m)\u001b[49m\n",
      "File \u001b[0;32m/home/conda/admin/683ae96175d14b6e7dd3530f3378d72b0ce8b7bc72d9b143c02cf15de243a0f7-20221110-124635-861655-52-ray/lib/python3.9/site-packages/ray/_private/worker.py:1255\u001b[0m, in \u001b[0;36minit\u001b[0;34m(address, num_cpus, num_gpus, resources, object_store_memory, local_mode, ignore_reinit_error, include_dashboard, dashboard_host, dashboard_port, job_config, configure_logging, logging_level, logging_format, log_to_driver, namespace, runtime_env, storage, **kwargs)\u001b[0m\n\u001b[1;32m   1253\u001b[0m passed_kwargs\u001b[38;5;241m.\u001b[39mupdate(kwargs)\n\u001b[1;32m   1254\u001b[0m builder\u001b[38;5;241m.\u001b[39m_init_args(\u001b[38;5;241m*\u001b[39m\u001b[38;5;241m*\u001b[39mpassed_kwargs)\n\u001b[0;32m-> 1255\u001b[0m ctx \u001b[38;5;241m=\u001b[39m \u001b[43mbuilder\u001b[49m\u001b[38;5;241;43m.\u001b[39;49m\u001b[43mconnect\u001b[49m\u001b[43m(\u001b[49m\u001b[43m)\u001b[49m\n\u001b[1;32m   1256\u001b[0m \u001b[38;5;28;01mfrom\u001b[39;00m \u001b[38;5;21;01mray\u001b[39;00m\u001b[38;5;21;01m.\u001b[39;00m\u001b[38;5;21;01m_private\u001b[39;00m\u001b[38;5;21;01m.\u001b[39;00m\u001b[38;5;21;01musage\u001b[39;00m \u001b[38;5;28;01mimport\u001b[39;00m usage_lib\n\u001b[1;32m   1258\u001b[0m \u001b[38;5;28;01mif\u001b[39;00m passed_kwargs\u001b[38;5;241m.\u001b[39mget(\u001b[38;5;124m\"\u001b[39m\u001b[38;5;124mallow_multiple\u001b[39m\u001b[38;5;124m\"\u001b[39m) \u001b[38;5;129;01mis\u001b[39;00m \u001b[38;5;28;01mTrue\u001b[39;00m:\n",
      "File \u001b[0;32m/home/conda/admin/683ae96175d14b6e7dd3530f3378d72b0ce8b7bc72d9b143c02cf15de243a0f7-20221110-124635-861655-52-ray/lib/python3.9/site-packages/ray/client_builder.py:182\u001b[0m, in \u001b[0;36mClientBuilder.connect\u001b[0;34m(self)\u001b[0m\n\u001b[1;32m    179\u001b[0m \u001b[38;5;28;01mif\u001b[39;00m \u001b[38;5;28mself\u001b[39m\u001b[38;5;241m.\u001b[39m_allow_multiple_connections:\n\u001b[1;32m    180\u001b[0m     old_ray_cxt \u001b[38;5;241m=\u001b[39m ray\u001b[38;5;241m.\u001b[39mutil\u001b[38;5;241m.\u001b[39mclient\u001b[38;5;241m.\u001b[39mray\u001b[38;5;241m.\u001b[39mset_context(\u001b[38;5;28;01mNone\u001b[39;00m)\n\u001b[0;32m--> 182\u001b[0m client_info_dict \u001b[38;5;241m=\u001b[39m \u001b[43mray\u001b[49m\u001b[38;5;241;43m.\u001b[39;49m\u001b[43mutil\u001b[49m\u001b[38;5;241;43m.\u001b[39;49m\u001b[43mclient_connect\u001b[49m\u001b[38;5;241;43m.\u001b[39;49m\u001b[43mconnect\u001b[49m\u001b[43m(\u001b[49m\n\u001b[1;32m    183\u001b[0m \u001b[43m    \u001b[49m\u001b[38;5;28;43mself\u001b[39;49m\u001b[38;5;241;43m.\u001b[39;49m\u001b[43maddress\u001b[49m\u001b[43m,\u001b[49m\n\u001b[1;32m    184\u001b[0m \u001b[43m    \u001b[49m\u001b[43mjob_config\u001b[49m\u001b[38;5;241;43m=\u001b[39;49m\u001b[38;5;28;43mself\u001b[39;49m\u001b[38;5;241;43m.\u001b[39;49m\u001b[43m_job_config\u001b[49m\u001b[43m,\u001b[49m\n\u001b[1;32m    185\u001b[0m \u001b[43m    \u001b[49m\u001b[43m_credentials\u001b[49m\u001b[38;5;241;43m=\u001b[39;49m\u001b[38;5;28;43mself\u001b[39;49m\u001b[38;5;241;43m.\u001b[39;49m\u001b[43m_credentials\u001b[49m\u001b[43m,\u001b[49m\n\u001b[1;32m    186\u001b[0m \u001b[43m    \u001b[49m\u001b[43mray_init_kwargs\u001b[49m\u001b[38;5;241;43m=\u001b[39;49m\u001b[38;5;28;43mself\u001b[39;49m\u001b[38;5;241;43m.\u001b[39;49m\u001b[43m_remote_init_kwargs\u001b[49m\u001b[43m,\u001b[49m\n\u001b[1;32m    187\u001b[0m \u001b[43m    \u001b[49m\u001b[43mmetadata\u001b[49m\u001b[38;5;241;43m=\u001b[39;49m\u001b[38;5;28;43mself\u001b[39;49m\u001b[38;5;241;43m.\u001b[39;49m\u001b[43m_metadata\u001b[49m\u001b[43m,\u001b[49m\n\u001b[1;32m    188\u001b[0m \u001b[43m\u001b[49m\u001b[43m)\u001b[49m\n\u001b[1;32m    189\u001b[0m get_dashboard_url \u001b[38;5;241m=\u001b[39m ray\u001b[38;5;241m.\u001b[39mremote(ray\u001b[38;5;241m.\u001b[39m_private\u001b[38;5;241m.\u001b[39mworker\u001b[38;5;241m.\u001b[39mget_dashboard_url)\n\u001b[1;32m    190\u001b[0m dashboard_url \u001b[38;5;241m=\u001b[39m ray\u001b[38;5;241m.\u001b[39mget(get_dashboard_url\u001b[38;5;241m.\u001b[39moptions(num_cpus\u001b[38;5;241m=\u001b[39m\u001b[38;5;241m0\u001b[39m)\u001b[38;5;241m.\u001b[39mremote())\n",
      "File \u001b[0;32m/home/conda/admin/683ae96175d14b6e7dd3530f3378d72b0ce8b7bc72d9b143c02cf15de243a0f7-20221110-124635-861655-52-ray/lib/python3.9/site-packages/ray/util/client_connect.py:57\u001b[0m, in \u001b[0;36mconnect\u001b[0;34m(conn_str, secure, metadata, connection_retries, job_config, namespace, ignore_version, _credentials, ray_init_kwargs)\u001b[0m\n\u001b[1;32m     52\u001b[0m _explicitly_enable_client_mode()\n\u001b[1;32m     54\u001b[0m \u001b[38;5;66;03m# TODO(barakmich): https://github.com/ray-project/ray/issues/13274\u001b[39;00m\n\u001b[1;32m     55\u001b[0m \u001b[38;5;66;03m# for supporting things like cert_path, ca_path, etc and creating\u001b[39;00m\n\u001b[1;32m     56\u001b[0m \u001b[38;5;66;03m# the correct metadata\u001b[39;00m\n\u001b[0;32m---> 57\u001b[0m conn \u001b[38;5;241m=\u001b[39m \u001b[43mray\u001b[49m\u001b[38;5;241;43m.\u001b[39;49m\u001b[43mconnect\u001b[49m\u001b[43m(\u001b[49m\n\u001b[1;32m     58\u001b[0m \u001b[43m    \u001b[49m\u001b[43mconn_str\u001b[49m\u001b[43m,\u001b[49m\n\u001b[1;32m     59\u001b[0m \u001b[43m    \u001b[49m\u001b[43mjob_config\u001b[49m\u001b[38;5;241;43m=\u001b[39;49m\u001b[43mjob_config\u001b[49m\u001b[43m,\u001b[49m\n\u001b[1;32m     60\u001b[0m \u001b[43m    \u001b[49m\u001b[43msecure\u001b[49m\u001b[38;5;241;43m=\u001b[39;49m\u001b[43msecure\u001b[49m\u001b[43m,\u001b[49m\n\u001b[1;32m     61\u001b[0m \u001b[43m    \u001b[49m\u001b[43mmetadata\u001b[49m\u001b[38;5;241;43m=\u001b[39;49m\u001b[43mmetadata\u001b[49m\u001b[43m,\u001b[49m\n\u001b[1;32m     62\u001b[0m \u001b[43m    \u001b[49m\u001b[43mconnection_retries\u001b[49m\u001b[38;5;241;43m=\u001b[39;49m\u001b[43mconnection_retries\u001b[49m\u001b[43m,\u001b[49m\n\u001b[1;32m     63\u001b[0m \u001b[43m    \u001b[49m\u001b[43mnamespace\u001b[49m\u001b[38;5;241;43m=\u001b[39;49m\u001b[43mnamespace\u001b[49m\u001b[43m,\u001b[49m\n\u001b[1;32m     64\u001b[0m \u001b[43m    \u001b[49m\u001b[43mignore_version\u001b[49m\u001b[38;5;241;43m=\u001b[39;49m\u001b[43mignore_version\u001b[49m\u001b[43m,\u001b[49m\n\u001b[1;32m     65\u001b[0m \u001b[43m    \u001b[49m\u001b[43m_credentials\u001b[49m\u001b[38;5;241;43m=\u001b[39;49m\u001b[43m_credentials\u001b[49m\u001b[43m,\u001b[49m\n\u001b[1;32m     66\u001b[0m \u001b[43m    \u001b[49m\u001b[43mray_init_kwargs\u001b[49m\u001b[38;5;241;43m=\u001b[39;49m\u001b[43mray_init_kwargs\u001b[49m\u001b[43m,\u001b[49m\n\u001b[1;32m     67\u001b[0m \u001b[43m\u001b[49m\u001b[43m)\u001b[49m\n\u001b[1;32m     68\u001b[0m \u001b[38;5;28;01mreturn\u001b[39;00m conn\n",
      "File \u001b[0;32m/home/conda/admin/683ae96175d14b6e7dd3530f3378d72b0ce8b7bc72d9b143c02cf15de243a0f7-20221110-124635-861655-52-ray/lib/python3.9/site-packages/ray/util/client/__init__.py:252\u001b[0m, in \u001b[0;36mRayAPIStub.connect\u001b[0;34m(self, *args, **kw_args)\u001b[0m\n\u001b[1;32m    250\u001b[0m \u001b[38;5;28;01mdef\u001b[39;00m \u001b[38;5;21mconnect\u001b[39m(\u001b[38;5;28mself\u001b[39m, \u001b[38;5;241m*\u001b[39margs, \u001b[38;5;241m*\u001b[39m\u001b[38;5;241m*\u001b[39mkw_args):\n\u001b[1;32m    251\u001b[0m     \u001b[38;5;28mself\u001b[39m\u001b[38;5;241m.\u001b[39mget_context()\u001b[38;5;241m.\u001b[39m_inside_client_test \u001b[38;5;241m=\u001b[39m \u001b[38;5;28mself\u001b[39m\u001b[38;5;241m.\u001b[39m_inside_client_test\n\u001b[0;32m--> 252\u001b[0m     conn \u001b[38;5;241m=\u001b[39m \u001b[38;5;28;43mself\u001b[39;49m\u001b[38;5;241;43m.\u001b[39;49m\u001b[43mget_context\u001b[49m\u001b[43m(\u001b[49m\u001b[43m)\u001b[49m\u001b[38;5;241;43m.\u001b[39;49m\u001b[43mconnect\u001b[49m\u001b[43m(\u001b[49m\u001b[38;5;241;43m*\u001b[39;49m\u001b[43margs\u001b[49m\u001b[43m,\u001b[49m\u001b[43m \u001b[49m\u001b[38;5;241;43m*\u001b[39;49m\u001b[38;5;241;43m*\u001b[39;49m\u001b[43mkw_args\u001b[49m\u001b[43m)\u001b[49m\n\u001b[1;32m    253\u001b[0m     \u001b[38;5;28;01mglobal\u001b[39;00m _lock, _all_contexts\n\u001b[1;32m    254\u001b[0m     \u001b[38;5;28;01mwith\u001b[39;00m _lock:\n",
      "File \u001b[0;32m/home/conda/admin/683ae96175d14b6e7dd3530f3378d72b0ce8b7bc72d9b143c02cf15de243a0f7-20221110-124635-861655-52-ray/lib/python3.9/site-packages/ray/util/client/__init__.py:102\u001b[0m, in \u001b[0;36m_ClientContext.connect\u001b[0;34m(self, conn_str, job_config, secure, metadata, connection_retries, namespace, ignore_version, _credentials, ray_init_kwargs)\u001b[0m\n\u001b[1;32m     94\u001b[0m \u001b[38;5;28mself\u001b[39m\u001b[38;5;241m.\u001b[39mclient_worker \u001b[38;5;241m=\u001b[39m Worker(\n\u001b[1;32m     95\u001b[0m     conn_str,\n\u001b[1;32m     96\u001b[0m     secure\u001b[38;5;241m=\u001b[39msecure,\n\u001b[0;32m   (...)\u001b[0m\n\u001b[1;32m     99\u001b[0m     connection_retries\u001b[38;5;241m=\u001b[39mconnection_retries,\n\u001b[1;32m    100\u001b[0m )\n\u001b[1;32m    101\u001b[0m \u001b[38;5;28mself\u001b[39m\u001b[38;5;241m.\u001b[39mapi\u001b[38;5;241m.\u001b[39mworker \u001b[38;5;241m=\u001b[39m \u001b[38;5;28mself\u001b[39m\u001b[38;5;241m.\u001b[39mclient_worker\n\u001b[0;32m--> 102\u001b[0m \u001b[38;5;28;43mself\u001b[39;49m\u001b[38;5;241;43m.\u001b[39;49m\u001b[43mclient_worker\u001b[49m\u001b[38;5;241;43m.\u001b[39;49m\u001b[43m_server_init\u001b[49m\u001b[43m(\u001b[49m\u001b[43mjob_config\u001b[49m\u001b[43m,\u001b[49m\u001b[43m \u001b[49m\u001b[43mray_init_kwargs\u001b[49m\u001b[43m)\u001b[49m\n\u001b[1;32m    103\u001b[0m conn_info \u001b[38;5;241m=\u001b[39m \u001b[38;5;28mself\u001b[39m\u001b[38;5;241m.\u001b[39mclient_worker\u001b[38;5;241m.\u001b[39mconnection_info()\n\u001b[1;32m    104\u001b[0m \u001b[38;5;28mself\u001b[39m\u001b[38;5;241m.\u001b[39m_check_versions(conn_info, ignore_version)\n",
      "File \u001b[0;32m/home/conda/admin/683ae96175d14b6e7dd3530f3378d72b0ce8b7bc72d9b143c02cf15de243a0f7-20221110-124635-861655-52-ray/lib/python3.9/site-packages/ray/util/client/worker.py:832\u001b[0m, in \u001b[0;36mWorker._server_init\u001b[0;34m(self, job_config, ray_init_kwargs)\u001b[0m\n\u001b[1;32m    828\u001b[0m runtime_env \u001b[38;5;241m=\u001b[39m job_config\u001b[38;5;241m.\u001b[39mruntime_env \u001b[38;5;129;01mor\u001b[39;00m {}\n\u001b[1;32m    829\u001b[0m runtime_env \u001b[38;5;241m=\u001b[39m upload_py_modules_if_needed(\n\u001b[1;32m    830\u001b[0m     runtime_env, tmp_dir, logger\u001b[38;5;241m=\u001b[39mlogger\n\u001b[1;32m    831\u001b[0m )\n\u001b[0;32m--> 832\u001b[0m runtime_env \u001b[38;5;241m=\u001b[39m \u001b[43mupload_working_dir_if_needed\u001b[49m\u001b[43m(\u001b[49m\n\u001b[1;32m    833\u001b[0m \u001b[43m    \u001b[49m\u001b[43mruntime_env\u001b[49m\u001b[43m,\u001b[49m\u001b[43m \u001b[49m\u001b[43mtmp_dir\u001b[49m\u001b[43m,\u001b[49m\u001b[43m \u001b[49m\u001b[43mlogger\u001b[49m\u001b[38;5;241;43m=\u001b[39;49m\u001b[43mlogger\u001b[49m\n\u001b[1;32m    834\u001b[0m \u001b[43m\u001b[49m\u001b[43m)\u001b[49m\n\u001b[1;32m    835\u001b[0m \u001b[38;5;66;03m# Remove excludes, it isn't relevant after the upload step.\u001b[39;00m\n\u001b[1;32m    836\u001b[0m runtime_env\u001b[38;5;241m.\u001b[39mpop(\u001b[38;5;124m\"\u001b[39m\u001b[38;5;124mexcludes\u001b[39m\u001b[38;5;124m\"\u001b[39m, \u001b[38;5;28;01mNone\u001b[39;00m)\n",
      "File \u001b[0;32m/home/conda/admin/683ae96175d14b6e7dd3530f3378d72b0ce8b7bc72d9b143c02cf15de243a0f7-20221110-124635-861655-52-ray/lib/python3.9/site-packages/ray/_private/runtime_env/working_dir.py:84\u001b[0m, in \u001b[0;36mupload_working_dir_if_needed\u001b[0;34m(runtime_env, scratch_dir, logger, upload_fn)\u001b[0m\n\u001b[1;32m     82\u001b[0m \u001b[38;5;28;01mif\u001b[39;00m upload_fn \u001b[38;5;129;01mis\u001b[39;00m \u001b[38;5;28;01mNone\u001b[39;00m:\n\u001b[1;32m     83\u001b[0m     \u001b[38;5;28;01mtry\u001b[39;00m:\n\u001b[0;32m---> 84\u001b[0m         \u001b[43mupload_package_if_needed\u001b[49m\u001b[43m(\u001b[49m\n\u001b[1;32m     85\u001b[0m \u001b[43m            \u001b[49m\u001b[43mworking_dir_uri\u001b[49m\u001b[43m,\u001b[49m\n\u001b[1;32m     86\u001b[0m \u001b[43m            \u001b[49m\u001b[43mscratch_dir\u001b[49m\u001b[43m,\u001b[49m\n\u001b[1;32m     87\u001b[0m \u001b[43m            \u001b[49m\u001b[43mworking_dir\u001b[49m\u001b[43m,\u001b[49m\n\u001b[1;32m     88\u001b[0m \u001b[43m            \u001b[49m\u001b[43minclude_parent_dir\u001b[49m\u001b[38;5;241;43m=\u001b[39;49m\u001b[38;5;28;43;01mFalse\u001b[39;49;00m\u001b[43m,\u001b[49m\n\u001b[1;32m     89\u001b[0m \u001b[43m            \u001b[49m\u001b[43mexcludes\u001b[49m\u001b[38;5;241;43m=\u001b[39;49m\u001b[43mexcludes\u001b[49m\u001b[43m,\u001b[49m\n\u001b[1;32m     90\u001b[0m \u001b[43m            \u001b[49m\u001b[43mlogger\u001b[49m\u001b[38;5;241;43m=\u001b[39;49m\u001b[43mlogger\u001b[49m\u001b[43m,\u001b[49m\n\u001b[1;32m     91\u001b[0m \u001b[43m        \u001b[49m\u001b[43m)\u001b[49m\n\u001b[1;32m     92\u001b[0m     \u001b[38;5;28;01mexcept\u001b[39;00m \u001b[38;5;167;01mException\u001b[39;00m \u001b[38;5;28;01mas\u001b[39;00m e:\n\u001b[1;32m     93\u001b[0m         \u001b[38;5;28;01mraise\u001b[39;00m RuntimeEnvSetupError(\n\u001b[1;32m     94\u001b[0m             \u001b[38;5;124mf\u001b[39m\u001b[38;5;124m\"\u001b[39m\u001b[38;5;124mFailed to upload working_dir \u001b[39m\u001b[38;5;132;01m{\u001b[39;00mworking_dir\u001b[38;5;132;01m}\u001b[39;00m\u001b[38;5;124m to the Ray cluster: \u001b[39m\u001b[38;5;132;01m{\u001b[39;00me\u001b[38;5;132;01m}\u001b[39;00m\u001b[38;5;124m\"\u001b[39m\n\u001b[1;32m     95\u001b[0m         ) \u001b[38;5;28;01mfrom\u001b[39;00m \u001b[38;5;21;01me\u001b[39;00m\n",
      "File \u001b[0;32m/home/conda/admin/683ae96175d14b6e7dd3530f3378d72b0ce8b7bc72d9b143c02cf15de243a0f7-20221110-124635-861655-52-ray/lib/python3.9/site-packages/ray/_private/runtime_env/packaging.py:585\u001b[0m, in \u001b[0;36mupload_package_if_needed\u001b[0;34m(pkg_uri, base_directory, directory, include_parent_dir, excludes, logger)\u001b[0m\n\u001b[1;32m    577\u001b[0m package_file \u001b[38;5;241m=\u001b[39m Path(_get_local_path(base_directory, pkg_uri))\n\u001b[1;32m    578\u001b[0m create_package(\n\u001b[1;32m    579\u001b[0m     directory,\n\u001b[1;32m    580\u001b[0m     package_file,\n\u001b[1;32m    581\u001b[0m     include_parent_dir\u001b[38;5;241m=\u001b[39minclude_parent_dir,\n\u001b[1;32m    582\u001b[0m     excludes\u001b[38;5;241m=\u001b[39mexcludes,\n\u001b[1;32m    583\u001b[0m )\n\u001b[0;32m--> 585\u001b[0m \u001b[43mupload_package_to_gcs\u001b[49m\u001b[43m(\u001b[49m\u001b[43mpkg_uri\u001b[49m\u001b[43m,\u001b[49m\u001b[43m \u001b[49m\u001b[43mpackage_file\u001b[49m\u001b[38;5;241;43m.\u001b[39;49m\u001b[43mread_bytes\u001b[49m\u001b[43m(\u001b[49m\u001b[43m)\u001b[49m\u001b[43m)\u001b[49m\n\u001b[1;32m    587\u001b[0m \u001b[38;5;66;03m# Remove the local file to avoid accumulating temporary zip files.\u001b[39;00m\n\u001b[1;32m    588\u001b[0m package_file\u001b[38;5;241m.\u001b[39munlink()\n",
      "File \u001b[0;32m/home/conda/admin/683ae96175d14b6e7dd3530f3378d72b0ce8b7bc72d9b143c02cf15de243a0f7-20221110-124635-861655-52-ray/lib/python3.9/site-packages/ray/_private/runtime_env/packaging.py:504\u001b[0m, in \u001b[0;36mupload_package_to_gcs\u001b[0;34m(pkg_uri, pkg_bytes)\u001b[0m\n\u001b[1;32m    502\u001b[0m protocol, pkg_name \u001b[38;5;241m=\u001b[39m parse_uri(pkg_uri)\n\u001b[1;32m    503\u001b[0m \u001b[38;5;28;01mif\u001b[39;00m protocol \u001b[38;5;241m==\u001b[39m Protocol\u001b[38;5;241m.\u001b[39mGCS:\n\u001b[0;32m--> 504\u001b[0m     \u001b[43m_store_package_in_gcs\u001b[49m\u001b[43m(\u001b[49m\u001b[43mpkg_uri\u001b[49m\u001b[43m,\u001b[49m\u001b[43m \u001b[49m\u001b[43mpkg_bytes\u001b[49m\u001b[43m)\u001b[49m\n\u001b[1;32m    505\u001b[0m \u001b[38;5;28;01melif\u001b[39;00m protocol \u001b[38;5;129;01min\u001b[39;00m Protocol\u001b[38;5;241m.\u001b[39mremote_protocols():\n\u001b[1;32m    506\u001b[0m     \u001b[38;5;28;01mraise\u001b[39;00m \u001b[38;5;167;01mValueError\u001b[39;00m(\n\u001b[1;32m    507\u001b[0m         \u001b[38;5;124m\"\u001b[39m\u001b[38;5;124mupload_package_to_gcs should not be called with a remote path.\u001b[39m\u001b[38;5;124m\"\u001b[39m\n\u001b[1;32m    508\u001b[0m     )\n",
      "File \u001b[0;32m/home/conda/admin/683ae96175d14b6e7dd3530f3378d72b0ce8b7bc72d9b143c02cf15de243a0f7-20221110-124635-861655-52-ray/lib/python3.9/site-packages/ray/_private/runtime_env/packaging.py:360\u001b[0m, in \u001b[0;36m_store_package_in_gcs\u001b[0;34m(pkg_uri, data, logger)\u001b[0m\n\u001b[1;32m    356\u001b[0m     \u001b[38;5;28;01mif\u001b[39;00m os\u001b[38;5;241m.\u001b[39menviron\u001b[38;5;241m.\u001b[39mget(RAY_RUNTIME_ENV_FAIL_UPLOAD_FOR_TESTING_ENV_VAR):\n\u001b[1;32m    357\u001b[0m         \u001b[38;5;28;01mraise\u001b[39;00m \u001b[38;5;167;01mRuntimeError\u001b[39;00m(\n\u001b[1;32m    358\u001b[0m             \u001b[38;5;124m\"\u001b[39m\u001b[38;5;124mSimulating failure to upload package for testing purposes.\u001b[39m\u001b[38;5;124m\"\u001b[39m\n\u001b[1;32m    359\u001b[0m         )\n\u001b[0;32m--> 360\u001b[0m     \u001b[43m_internal_kv_put\u001b[49m\u001b[43m(\u001b[49m\u001b[43mpkg_uri\u001b[49m\u001b[43m,\u001b[49m\u001b[43m \u001b[49m\u001b[43mdata\u001b[49m\u001b[43m)\u001b[49m\n\u001b[1;32m    361\u001b[0m \u001b[38;5;28;01mexcept\u001b[39;00m \u001b[38;5;167;01mException\u001b[39;00m \u001b[38;5;28;01mas\u001b[39;00m e:\n\u001b[1;32m    362\u001b[0m     \u001b[38;5;28;01mraise\u001b[39;00m \u001b[38;5;167;01mRuntimeError\u001b[39;00m(\n\u001b[1;32m    363\u001b[0m         \u001b[38;5;124m\"\u001b[39m\u001b[38;5;124mFailed to store package in the GCS.\u001b[39m\u001b[38;5;130;01m\\n\u001b[39;00m\u001b[38;5;124m\"\u001b[39m\n\u001b[1;32m    364\u001b[0m         \u001b[38;5;124mf\u001b[39m\u001b[38;5;124m\"\u001b[39m\u001b[38;5;124m  - GCS URI: \u001b[39m\u001b[38;5;132;01m{\u001b[39;00mpkg_uri\u001b[38;5;132;01m}\u001b[39;00m\u001b[38;5;130;01m\\n\u001b[39;00m\u001b[38;5;124m\"\u001b[39m\n\u001b[1;32m    365\u001b[0m         \u001b[38;5;124mf\u001b[39m\u001b[38;5;124m\"\u001b[39m\u001b[38;5;124m  - Package data (\u001b[39m\u001b[38;5;132;01m{\u001b[39;00msize_str\u001b[38;5;132;01m}\u001b[39;00m\u001b[38;5;124m): \u001b[39m\u001b[38;5;132;01m{\u001b[39;00mdata[:\u001b[38;5;241m15\u001b[39m]\u001b[38;5;132;01m}\u001b[39;00m\u001b[38;5;124m...\u001b[39m\u001b[38;5;130;01m\\n\u001b[39;00m\u001b[38;5;124m\"\u001b[39m\n\u001b[1;32m    366\u001b[0m     ) \u001b[38;5;28;01mfrom\u001b[39;00m \u001b[38;5;21;01me\u001b[39;00m\n",
      "File \u001b[0;32m/home/conda/admin/683ae96175d14b6e7dd3530f3378d72b0ce8b7bc72d9b143c02cf15de243a0f7-20221110-124635-861655-52-ray/lib/python3.9/site-packages/ray/_private/client_mode_hook.py:104\u001b[0m, in \u001b[0;36mclient_mode_hook.<locals>.wrapper\u001b[0;34m(*args, **kwargs)\u001b[0m\n\u001b[1;32m    100\u001b[0m \u001b[38;5;28;01mif\u001b[39;00m client_mode_should_convert(auto_init\u001b[38;5;241m=\u001b[39mauto_init):\n\u001b[1;32m    101\u001b[0m     \u001b[38;5;66;03m# Legacy code\u001b[39;00m\n\u001b[1;32m    102\u001b[0m     \u001b[38;5;66;03m# we only convert init function if RAY_CLIENT_MODE=1\u001b[39;00m\n\u001b[1;32m    103\u001b[0m     \u001b[38;5;28;01mif\u001b[39;00m func\u001b[38;5;241m.\u001b[39m\u001b[38;5;18m__name__\u001b[39m \u001b[38;5;241m!=\u001b[39m \u001b[38;5;124m\"\u001b[39m\u001b[38;5;124minit\u001b[39m\u001b[38;5;124m\"\u001b[39m \u001b[38;5;129;01mor\u001b[39;00m is_client_mode_enabled_by_default:\n\u001b[0;32m--> 104\u001b[0m         \u001b[38;5;28;01mreturn\u001b[39;00m \u001b[38;5;28;43mgetattr\u001b[39;49m\u001b[43m(\u001b[49m\u001b[43mray\u001b[49m\u001b[43m,\u001b[49m\u001b[43m \u001b[49m\u001b[43mfunc\u001b[49m\u001b[38;5;241;43m.\u001b[39;49m\u001b[38;5;18;43m__name__\u001b[39;49m\u001b[43m)\u001b[49m\u001b[43m(\u001b[49m\u001b[38;5;241;43m*\u001b[39;49m\u001b[43margs\u001b[49m\u001b[43m,\u001b[49m\u001b[43m \u001b[49m\u001b[38;5;241;43m*\u001b[39;49m\u001b[38;5;241;43m*\u001b[39;49m\u001b[43mkwargs\u001b[49m\u001b[43m)\u001b[49m\n\u001b[1;32m    105\u001b[0m \u001b[38;5;28;01mreturn\u001b[39;00m func(\u001b[38;5;241m*\u001b[39margs, \u001b[38;5;241m*\u001b[39m\u001b[38;5;241m*\u001b[39mkwargs)\n",
      "File \u001b[0;32m/home/conda/admin/683ae96175d14b6e7dd3530f3378d72b0ce8b7bc72d9b143c02cf15de243a0f7-20221110-124635-861655-52-ray/lib/python3.9/site-packages/ray/util/client/api.py:340\u001b[0m, in \u001b[0;36m_ClientAPI._internal_kv_put\u001b[0;34m(self, key, value, overwrite, namespace)\u001b[0m\n\u001b[1;32m    331\u001b[0m \u001b[38;5;28;01mdef\u001b[39;00m \u001b[38;5;21m_internal_kv_put\u001b[39m(\n\u001b[1;32m    332\u001b[0m     \u001b[38;5;28mself\u001b[39m,\n\u001b[1;32m    333\u001b[0m     key: Union[\u001b[38;5;28mstr\u001b[39m, \u001b[38;5;28mbytes\u001b[39m],\n\u001b[0;32m   (...)\u001b[0m\n\u001b[1;32m    337\u001b[0m     namespace: Optional[Union[\u001b[38;5;28mstr\u001b[39m, \u001b[38;5;28mbytes\u001b[39m]] \u001b[38;5;241m=\u001b[39m \u001b[38;5;28;01mNone\u001b[39;00m,\n\u001b[1;32m    338\u001b[0m ) \u001b[38;5;241m-\u001b[39m\u001b[38;5;241m>\u001b[39m \u001b[38;5;28mbool\u001b[39m:\n\u001b[1;32m    339\u001b[0m     \u001b[38;5;124;03m\"\"\"Hook for internal_kv._internal_kv_put.\"\"\"\u001b[39;00m\n\u001b[0;32m--> 340\u001b[0m     \u001b[38;5;28;01mreturn\u001b[39;00m \u001b[38;5;28;43mself\u001b[39;49m\u001b[38;5;241;43m.\u001b[39;49m\u001b[43mworker\u001b[49m\u001b[38;5;241;43m.\u001b[39;49m\u001b[43minternal_kv_put\u001b[49m\u001b[43m(\u001b[49m\n\u001b[1;32m    341\u001b[0m \u001b[43m        \u001b[49m\u001b[43m_as_bytes\u001b[49m\u001b[43m(\u001b[49m\u001b[43mkey\u001b[49m\u001b[43m)\u001b[49m\u001b[43m,\u001b[49m\u001b[43m \u001b[49m\u001b[43m_as_bytes\u001b[49m\u001b[43m(\u001b[49m\u001b[43mvalue\u001b[49m\u001b[43m)\u001b[49m\u001b[43m,\u001b[49m\u001b[43m \u001b[49m\u001b[43moverwrite\u001b[49m\u001b[43m,\u001b[49m\u001b[43m \u001b[49m\u001b[43mnamespace\u001b[49m\u001b[38;5;241;43m=\u001b[39;49m\u001b[43m_as_bytes\u001b[49m\u001b[43m(\u001b[49m\u001b[43mnamespace\u001b[49m\u001b[43m)\u001b[49m\n\u001b[1;32m    342\u001b[0m \u001b[43m    \u001b[49m\u001b[43m)\u001b[49m\n",
      "File \u001b[0;32m/home/conda/admin/683ae96175d14b6e7dd3530f3378d72b0ce8b7bc72d9b143c02cf15de243a0f7-20221110-124635-861655-52-ray/lib/python3.9/site-packages/ray/util/client/worker.py:749\u001b[0m, in \u001b[0;36mWorker.internal_kv_put\u001b[0;34m(self, key, value, overwrite, namespace)\u001b[0m\n\u001b[1;32m    747\u001b[0m metadata \u001b[38;5;241m=\u001b[39m \u001b[38;5;28mself\u001b[39m\u001b[38;5;241m.\u001b[39m_add_ids_to_metadata(\u001b[38;5;28mself\u001b[39m\u001b[38;5;241m.\u001b[39mmetadata)\n\u001b[1;32m    748\u001b[0m \u001b[38;5;28;01mtry\u001b[39;00m:\n\u001b[0;32m--> 749\u001b[0m     resp \u001b[38;5;241m=\u001b[39m \u001b[38;5;28;43mself\u001b[39;49m\u001b[38;5;241;43m.\u001b[39;49m\u001b[43m_call_stub\u001b[49m\u001b[43m(\u001b[49m\u001b[38;5;124;43m\"\u001b[39;49m\u001b[38;5;124;43mKVPut\u001b[39;49m\u001b[38;5;124;43m\"\u001b[39;49m\u001b[43m,\u001b[49m\u001b[43m \u001b[49m\u001b[43mreq\u001b[49m\u001b[43m,\u001b[49m\u001b[43m \u001b[49m\u001b[43mmetadata\u001b[49m\u001b[38;5;241;43m=\u001b[39;49m\u001b[43mmetadata\u001b[49m\u001b[43m)\u001b[49m\n\u001b[1;32m    750\u001b[0m \u001b[38;5;28;01mexcept\u001b[39;00m grpc\u001b[38;5;241m.\u001b[39mRpcError \u001b[38;5;28;01mas\u001b[39;00m e:\n\u001b[1;32m    751\u001b[0m     \u001b[38;5;28;01mraise\u001b[39;00m decode_exception(e)\n",
      "File \u001b[0;32m/home/conda/admin/683ae96175d14b6e7dd3530f3378d72b0ce8b7bc72d9b143c02cf15de243a0f7-20221110-124635-861655-52-ray/lib/python3.9/site-packages/ray/util/client/worker.py:294\u001b[0m, in \u001b[0;36mWorker._call_stub\u001b[0;34m(self, stub_name, *args, **kwargs)\u001b[0m\n\u001b[1;32m    292\u001b[0m \u001b[38;5;28;01mwhile\u001b[39;00m \u001b[38;5;129;01mnot\u001b[39;00m \u001b[38;5;28mself\u001b[39m\u001b[38;5;241m.\u001b[39m_in_shutdown:\n\u001b[1;32m    293\u001b[0m     \u001b[38;5;28;01mtry\u001b[39;00m:\n\u001b[0;32m--> 294\u001b[0m         \u001b[38;5;28;01mreturn\u001b[39;00m \u001b[38;5;28;43mgetattr\u001b[39;49m\u001b[43m(\u001b[49m\u001b[38;5;28;43mself\u001b[39;49m\u001b[38;5;241;43m.\u001b[39;49m\u001b[43mserver\u001b[49m\u001b[43m,\u001b[49m\u001b[43m \u001b[49m\u001b[43mstub_name\u001b[49m\u001b[43m)\u001b[49m\u001b[43m(\u001b[49m\u001b[38;5;241;43m*\u001b[39;49m\u001b[43margs\u001b[49m\u001b[43m,\u001b[49m\u001b[43m \u001b[49m\u001b[38;5;241;43m*\u001b[39;49m\u001b[38;5;241;43m*\u001b[39;49m\u001b[43mkwargs\u001b[49m\u001b[43m)\u001b[49m\n\u001b[1;32m    295\u001b[0m     \u001b[38;5;28;01mexcept\u001b[39;00m grpc\u001b[38;5;241m.\u001b[39mRpcError \u001b[38;5;28;01mas\u001b[39;00m e:\n\u001b[1;32m    296\u001b[0m         \u001b[38;5;28;01mif\u001b[39;00m \u001b[38;5;28mself\u001b[39m\u001b[38;5;241m.\u001b[39m_can_reconnect(e):\n",
      "File \u001b[0;32m/home/conda/admin/683ae96175d14b6e7dd3530f3378d72b0ce8b7bc72d9b143c02cf15de243a0f7-20221110-124635-861655-52-ray/lib/python3.9/site-packages/grpc/_channel.py:944\u001b[0m, in \u001b[0;36m_UnaryUnaryMultiCallable.__call__\u001b[0;34m(self, request, timeout, metadata, credentials, wait_for_ready, compression)\u001b[0m\n\u001b[1;32m    937\u001b[0m \u001b[38;5;28;01mdef\u001b[39;00m \u001b[38;5;21m__call__\u001b[39m(\u001b[38;5;28mself\u001b[39m,\n\u001b[1;32m    938\u001b[0m              request,\n\u001b[1;32m    939\u001b[0m              timeout\u001b[38;5;241m=\u001b[39m\u001b[38;5;28;01mNone\u001b[39;00m,\n\u001b[0;32m   (...)\u001b[0m\n\u001b[1;32m    942\u001b[0m              wait_for_ready\u001b[38;5;241m=\u001b[39m\u001b[38;5;28;01mNone\u001b[39;00m,\n\u001b[1;32m    943\u001b[0m              compression\u001b[38;5;241m=\u001b[39m\u001b[38;5;28;01mNone\u001b[39;00m):\n\u001b[0;32m--> 944\u001b[0m     state, call, \u001b[38;5;241m=\u001b[39m \u001b[38;5;28;43mself\u001b[39;49m\u001b[38;5;241;43m.\u001b[39;49m\u001b[43m_blocking\u001b[49m\u001b[43m(\u001b[49m\u001b[43mrequest\u001b[49m\u001b[43m,\u001b[49m\u001b[43m \u001b[49m\u001b[43mtimeout\u001b[49m\u001b[43m,\u001b[49m\u001b[43m \u001b[49m\u001b[43mmetadata\u001b[49m\u001b[43m,\u001b[49m\u001b[43m \u001b[49m\u001b[43mcredentials\u001b[49m\u001b[43m,\u001b[49m\n\u001b[1;32m    945\u001b[0m \u001b[43m                                  \u001b[49m\u001b[43mwait_for_ready\u001b[49m\u001b[43m,\u001b[49m\u001b[43m \u001b[49m\u001b[43mcompression\u001b[49m\u001b[43m)\u001b[49m\n\u001b[1;32m    946\u001b[0m     \u001b[38;5;28;01mreturn\u001b[39;00m _end_unary_response_blocking(state, call, \u001b[38;5;28;01mFalse\u001b[39;00m, \u001b[38;5;28;01mNone\u001b[39;00m)\n",
      "File \u001b[0;32m/home/conda/admin/683ae96175d14b6e7dd3530f3378d72b0ce8b7bc72d9b143c02cf15de243a0f7-20221110-124635-861655-52-ray/lib/python3.9/site-packages/grpc/_channel.py:933\u001b[0m, in \u001b[0;36m_UnaryUnaryMultiCallable._blocking\u001b[0;34m(self, request, timeout, metadata, credentials, wait_for_ready, compression)\u001b[0m\n\u001b[1;32m    925\u001b[0m \u001b[38;5;28;01melse\u001b[39;00m:\n\u001b[1;32m    926\u001b[0m     call \u001b[38;5;241m=\u001b[39m \u001b[38;5;28mself\u001b[39m\u001b[38;5;241m.\u001b[39m_channel\u001b[38;5;241m.\u001b[39msegregated_call(\n\u001b[1;32m    927\u001b[0m         cygrpc\u001b[38;5;241m.\u001b[39mPropagationConstants\u001b[38;5;241m.\u001b[39mGRPC_PROPAGATE_DEFAULTS,\n\u001b[1;32m    928\u001b[0m         \u001b[38;5;28mself\u001b[39m\u001b[38;5;241m.\u001b[39m_method, \u001b[38;5;28;01mNone\u001b[39;00m, _determine_deadline(deadline), metadata,\n\u001b[0;32m   (...)\u001b[0m\n\u001b[1;32m    931\u001b[0m             \u001b[38;5;28;01mNone\u001b[39;00m,\n\u001b[1;32m    932\u001b[0m         ),), \u001b[38;5;28mself\u001b[39m\u001b[38;5;241m.\u001b[39m_context)\n\u001b[0;32m--> 933\u001b[0m     event \u001b[38;5;241m=\u001b[39m \u001b[43mcall\u001b[49m\u001b[38;5;241;43m.\u001b[39;49m\u001b[43mnext_event\u001b[49m\u001b[43m(\u001b[49m\u001b[43m)\u001b[49m\n\u001b[1;32m    934\u001b[0m     _handle_event(event, state, \u001b[38;5;28mself\u001b[39m\u001b[38;5;241m.\u001b[39m_response_deserializer)\n\u001b[1;32m    935\u001b[0m     \u001b[38;5;28;01mreturn\u001b[39;00m state, call\n",
      "File \u001b[0;32msrc/python/grpcio/grpc/_cython/_cygrpc/channel.pyx.pxi:338\u001b[0m, in \u001b[0;36mgrpc._cython.cygrpc.SegregatedCall.next_event\u001b[0;34m()\u001b[0m\n",
      "File \u001b[0;32msrc/python/grpcio/grpc/_cython/_cygrpc/channel.pyx.pxi:169\u001b[0m, in \u001b[0;36mgrpc._cython.cygrpc._next_call_event\u001b[0;34m()\u001b[0m\n",
      "File \u001b[0;32msrc/python/grpcio/grpc/_cython/_cygrpc/channel.pyx.pxi:163\u001b[0m, in \u001b[0;36mgrpc._cython.cygrpc._next_call_event\u001b[0;34m()\u001b[0m\n",
      "File \u001b[0;32msrc/python/grpcio/grpc/_cython/_cygrpc/completion_queue.pyx.pxi:76\u001b[0m, in \u001b[0;36mgrpc._cython.cygrpc._latent_event\u001b[0;34m()\u001b[0m\n",
      "File \u001b[0;32msrc/python/grpcio/grpc/_cython/_cygrpc/completion_queue.pyx.pxi:59\u001b[0m, in \u001b[0;36mgrpc._cython.cygrpc._internal_latent_event\u001b[0;34m()\u001b[0m\n",
      "File \u001b[0;32msrc/python/grpcio/grpc/_cython/_cygrpc/completion_queue.pyx.pxi:40\u001b[0m, in \u001b[0;36mgrpc._cython.cygrpc._next\u001b[0;34m()\u001b[0m\n",
      "\u001b[0;31mKeyboardInterrupt\u001b[0m: "
     ]
    }
   ],
   "source": [
    "import os\n",
    "import ray\n",
    "import json\n",
    "import time\n",
    "\n",
    "# Get the Ray Cluster endpoint address\n",
    "ray_cluster_addr = os.environ['RAYCLUSTER_AUTOSCALER_HEAD_SVC_PORT_10001_TCP_ADDR']\n",
    "ray_cluster_port = os.environ['RAYCLUSTER_AUTOSCALER_HEAD_SVC_PORT_10001_TCP_PORT']\n",
    "ray_cluster_uri = f\"ray://{ray_cluster_addr}:{ray_cluster_port}\"\n",
    "\n",
    "# Start Ray.\n",
    "try:\n",
    "    ray.init(address=ray_cluster_uri, runtime_env={\"working_dir\": \"/home/wasif/python-asd/xai/app/\"})\n",
    "except RuntimeError as error_msg:\n",
    "    get_ray_cluster_info = !ray status --address='raycluster-autoscaler-head-svc.dev.svc.cluster.local:6379'\n",
    "    ray_cluster_info = \"\\n\".join(get_ray_cluster_info)\n",
    "    print(ray_cluster_info)\n",
    "\n",
    "# Scale Ray worker nodes/pods\n",
    "ray.autoscaler.sdk.request_resources(num_cpus=24)"
   ]
  },
  {
   "cell_type": "code",
   "execution_count": 1,
   "id": "13aec126-c53c-47c1-8cb6-ab7823d1acb6",
   "metadata": {},
   "outputs": [
    {
     "ename": "NameError",
     "evalue": "name 'ray' is not defined",
     "output_type": "error",
     "traceback": [
      "\u001b[0;31m---------------------------------------------------------------------------\u001b[0m",
      "\u001b[0;31mNameError\u001b[0m                                 Traceback (most recent call last)",
      "Cell \u001b[0;32mIn [1], line 1\u001b[0m\n\u001b[0;32m----> 1\u001b[0m \u001b[43mray\u001b[49m\u001b[38;5;241m.\u001b[39mautoscaler\u001b[38;5;241m.\u001b[39msdk\u001b[38;5;241m.\u001b[39mrequest_resources(num_cpus\u001b[38;5;241m=\u001b[39m\u001b[38;5;241m0\u001b[39m)\n",
      "\u001b[0;31mNameError\u001b[0m: name 'ray' is not defined"
     ]
    }
   ],
   "source": [
    "ray.autoscaler.sdk.request_resources(num_cpus=0)"
   ]
  },
  {
   "cell_type": "code",
   "execution_count": 20,
   "id": "b85b972f-6758-451a-be77-7063fdd14712",
   "metadata": {},
   "outputs": [
    {
     "name": "stderr",
     "output_type": "stream",
     "text": [
      "2022-11-10 11:44:59,960\tWARNING services.py:1922 -- WARNING: The object store is using /tmp instead of /dev/shm because /dev/shm has only 67108864 bytes available. This will harm performance! You may be able to free up space by deleting files in /dev/shm. If you are inside a Docker container, you can increase /dev/shm size by passing '--shm-size=4.43gb' to 'docker run' (or add it to the run_options list in a Ray cluster config). Make sure to set this to more than 30% of available RAM.\n",
      "2022-11-10 11:45:00,084\tINFO worker.py:1519 -- Started a local Ray instance. View the dashboard at \u001b[1m\u001b[32m127.0.0.1:8265 \u001b[39m\u001b[22m\n",
      "2022-11-10 11:45:00,706\tINFO packaging.py:527 -- Creating a file package for local directory '/home/wasif/python-asd/xai/app/'.\n",
      "2022-11-10 11:45:00,719\tWARNING packaging.py:401 -- File /home/wasif/python-asd/xai/app/test/data/wetransfer_asd_team_2022-10-25_1332.zip is very large (31.69MiB). Consider adding this file to the 'excludes' list to skip uploading it: `ray.init(..., runtime_env={'excludes': ['/home/wasif/python-asd/xai/app/test/data/wetransfer_asd_team_2022-10-25_1332.zip']})`\n",
      "2022-11-10 11:45:00,782\tWARNING packaging.py:401 -- File /home/wasif/python-asd/xai/app/notebooks/train.csv is very large (110.52MiB). Consider adding this file to the 'excludes' list to skip uploading it: `ray.init(..., runtime_env={'excludes': ['/home/wasif/python-asd/xai/app/notebooks/train.csv']})`\n",
      "2022-11-10 11:45:01,321\tINFO packaging.py:354 -- Pushing file package 'gcs://_ray_pkg_954efe7d5a898ddb.zip' (154.45MiB) to Ray cluster...\n",
      "2022-11-10 11:45:02,451\tINFO packaging.py:367 -- Successfully pushed file package 'gcs://_ray_pkg_954efe7d5a898ddb.zip'.\n"
     ]
    },
    {
     "data": {
      "text/html": [
       "<div>\n",
       "    <div style=\"margin-left: 50px;display: flex;flex-direction: row;align-items: center\">\n",
       "        <h3 style=\"color: var(--jp-ui-font-color0)\">Ray</h3>\n",
       "        <svg version=\"1.1\" id=\"ray\" width=\"3em\" viewBox=\"0 0 144.5 144.6\" style=\"margin-left: 3em;margin-right: 3em\">\n",
       "            <g id=\"layer-1\">\n",
       "                <path fill=\"#00a2e9\" class=\"st0\" d=\"M97.3,77.2c-3.8-1.1-6.2,0.9-8.3,5.1c-3.5,6.8-9.9,9.9-17.4,9.6S58,88.1,54.8,81.2c-1.4-3-3-4-6.3-4.1\n",
       "                    c-5.6-0.1-9.9,0.1-13.1,6.4c-3.8,7.6-13.6,10.2-21.8,7.6C5.2,88.4-0.4,80.5,0,71.7c0.1-8.4,5.7-15.8,13.8-18.2\n",
       "                    c8.4-2.6,17.5,0.7,22.3,8c1.3,1.9,1.3,5.2,3.6,5.6c3.9,0.6,8,0.2,12,0.2c1.8,0,1.9-1.6,2.4-2.8c3.5-7.8,9.7-11.8,18-11.9\n",
       "                    c8.2-0.1,14.4,3.9,17.8,11.4c1.3,2.8,2.9,3.6,5.7,3.3c1-0.1,2,0.1,3,0c2.8-0.5,6.4,1.7,8.1-2.7s-2.3-5.5-4.1-7.5\n",
       "                    c-5.1-5.7-10.9-10.8-16.1-16.3C84,38,81.9,37.1,78,38.3C66.7,42,56.2,35.7,53,24.1C50.3,14,57.3,2.8,67.7,0.5\n",
       "                    C78.4-2,89,4.7,91.5,15.3c0.1,0.3,0.1,0.5,0.2,0.8c0.7,3.4,0.7,6.9-0.8,9.8c-1.7,3.2-0.8,5,1.5,7.2c6.7,6.5,13.3,13,19.8,19.7\n",
       "                    c1.8,1.8,3,2.1,5.5,1.2c9.1-3.4,17.9-0.6,23.4,7c4.8,6.9,4.6,16.1-0.4,22.9c-5.4,7.2-14.2,9.9-23.1,6.5c-2.3-0.9-3.5-0.6-5.1,1.1\n",
       "                    c-6.7,6.9-13.6,13.7-20.5,20.4c-1.8,1.8-2.5,3.2-1.4,5.9c3.5,8.7,0.3,18.6-7.7,23.6c-7.9,5-18.2,3.8-24.8-2.9\n",
       "                    c-6.4-6.4-7.4-16.2-2.5-24.3c4.9-7.8,14.5-11,23.1-7.8c3,1.1,4.7,0.5,6.9-1.7C91.7,98.4,98,92.3,104.2,86c1.6-1.6,4.1-2.7,2.6-6.2\n",
       "                    c-1.4-3.3-3.8-2.5-6.2-2.6C99.8,77.2,98.9,77.2,97.3,77.2z M72.1,29.7c5.5,0.1,9.9-4.3,10-9.8c0-0.1,0-0.2,0-0.3\n",
       "                    C81.8,14,77,9.8,71.5,10.2c-5,0.3-9,4.2-9.3,9.2c-0.2,5.5,4,10.1,9.5,10.3C71.8,29.7,72,29.7,72.1,29.7z M72.3,62.3\n",
       "                    c-5.4-0.1-9.9,4.2-10.1,9.7c0,0.2,0,0.3,0,0.5c0.2,5.4,4.5,9.7,9.9,10c5.1,0.1,9.9-4.7,10.1-9.8c0.2-5.5-4-10-9.5-10.3\n",
       "                    C72.6,62.3,72.4,62.3,72.3,62.3z M115,72.5c0.1,5.4,4.5,9.7,9.8,9.9c5.6-0.2,10-4.8,10-10.4c-0.2-5.4-4.6-9.7-10-9.7\n",
       "                    c-5.3-0.1-9.8,4.2-9.9,9.5C115,72.1,115,72.3,115,72.5z M19.5,62.3c-5.4,0.1-9.8,4.4-10,9.8c-0.1,5.1,5.2,10.4,10.2,10.3\n",
       "                    c5.6-0.2,10-4.9,9.8-10.5c-0.1-5.4-4.5-9.7-9.9-9.6C19.6,62.3,19.5,62.3,19.5,62.3z M71.8,134.6c5.9,0.2,10.3-3.9,10.4-9.6\n",
       "                    c0.5-5.5-3.6-10.4-9.1-10.8c-5.5-0.5-10.4,3.6-10.8,9.1c0,0.5,0,0.9,0,1.4c-0.2,5.3,4,9.8,9.3,10\n",
       "                    C71.6,134.6,71.7,134.6,71.8,134.6z\"/>\n",
       "            </g>\n",
       "        </svg>\n",
       "        <table>\n",
       "            <tr>\n",
       "                <td style=\"text-align: left\"><b>Python version:</b></td>\n",
       "                <td style=\"text-align: left\"><b>3.9.13</b></td>\n",
       "            </tr>\n",
       "            <tr>\n",
       "                <td style=\"text-align: left\"><b>Ray version:</b></td>\n",
       "                <td style=\"text-align: left\"><b> 2.1.0</b></td>\n",
       "            </tr>\n",
       "            <tr>\n",
       "    <td style=\"text-align: left\"><b>Dashboard:</b></td>\n",
       "    <td style=\"text-align: left\"><b><a href=\"http://127.0.0.1:8265\" target=\"_blank\">http://127.0.0.1:8265</a></b></td>\n",
       "</tr>\n",
       "\n",
       "        </table>\n",
       "    </div>\n",
       "</div>\n"
      ],
      "text/plain": [
       "RayContext(dashboard_url='127.0.0.1:8265', python_version='3.9.13', ray_version='2.1.0', ray_commit='be49bde7ee4f6adb3f8710aee0665c27f9f0bb62', address_info={'node_ip_address': '10.10.65.198', 'raylet_ip_address': '10.10.65.198', 'redis_address': None, 'object_store_address': '/tmp/ray/session_2022-11-10_11-44-57_514504_32239/sockets/plasma_store', 'raylet_socket_name': '/tmp/ray/session_2022-11-10_11-44-57_514504_32239/sockets/raylet', 'webui_url': '127.0.0.1:8265', 'session_dir': '/tmp/ray/session_2022-11-10_11-44-57_514504_32239', 'metrics_export_port': 41818, 'gcs_address': '10.10.65.198:54439', 'address': '10.10.65.198:54439', 'dashboard_agent_listen_port': 52365, 'node_id': '744e4a2d1d08328bdd57119e7742e40cbdadfca9b9687faf3a2e356f'})"
      ]
     },
     "execution_count": 20,
     "metadata": {},
     "output_type": "execute_result"
    }
   ],
   "source": [
    "import ray\n",
    "ray.shutdown()\n",
    "ray.init(num_cpus=4, num_gpus=0, runtime_env={\"working_dir\": \"/home/wasif/python-asd/xai/app/\"})\n"
   ]
  },
  {
   "cell_type": "code",
   "execution_count": 5,
   "id": "62388360-89d3-4aa8-b91b-35910a112054",
   "metadata": {},
   "outputs": [
    {
     "data": {
      "text/plain": [
       "{'CPU': 4.0,\n",
       " 'object_store_memory': 4348241510.0,\n",
       " 'node:10.10.65.198': 1.0,\n",
       " 'memory': 8696483022.0}"
      ]
     },
     "execution_count": 5,
     "metadata": {},
     "output_type": "execute_result"
    }
   ],
   "source": [
    "ray.available_resources()"
   ]
  },
  {
   "cell_type": "code",
   "execution_count": 21,
   "id": "11390529-76ad-460d-84b4-2e72e933decf",
   "metadata": {},
   "outputs": [],
   "source": [
    "\n",
    "from utils import config\n",
    "from ml.models.base_ray.brisk_xgboost import BriskXGBoost\n",
    "#from .brisk_xgboost import BriskXGBoost\n",
    "from sklearn.model_selection import train_test_split\n",
    "\n",
    "from sklearn.metrics import r2_score, mean_squared_error\n",
    "from sklearn.metrics import f1_score, roc_auc_score, precision_score, recall_score\n",
    "from ml.models import common\n",
    "import ray\n",
    "import time\n",
    "\n",
    "import pandas as pd\n",
    "from sklearn.linear_model import SGDClassifier"
   ]
  },
  {
   "cell_type": "code",
   "execution_count": 7,
   "id": "e3cc471d-b297-48df-9b86-5e092fc5c9f3",
   "metadata": {},
   "outputs": [],
   "source": [
    "\n",
    "def get_covid_dataset():\n",
    "    df = pd.read_csv('/home/wasif/python-asd/xai/app/test/data/20220319_covid_merge_processed.csv', sep=\",\")\n",
    "    X = df[df.columns[df.columns!='y']]\n",
    "    # X = X.drop(DROP_LIST, axis = 1)\n",
    "    y = df[df.columns[df.columns=='y']]\n",
    "    return X, y"
   ]
  },
  {
   "cell_type": "code",
   "execution_count": 8,
   "id": "10a24d56-3730-4120-b16b-c117f8fd0be9",
   "metadata": {},
   "outputs": [],
   "source": [
    "X, y = get_covid_dataset()\n",
    "X = X.drop(['location'], axis = 1)\n",
    "\n",
    "X_train, X_test, y_train, y_test = train_test_split(X, y, test_size=0.33)"
   ]
  },
  {
   "cell_type": "code",
   "execution_count": 9,
   "id": "ba189828-8fbb-4e19-a2ba-861df6597657",
   "metadata": {},
   "outputs": [],
   "source": [
    "config.project_name = '/covid_xgboost_ray'"
   ]
  },
  {
   "cell_type": "code",
   "execution_count": 18,
   "id": "0f231073-dedc-4021-b73c-ad21c186ba17",
   "metadata": {},
   "outputs": [],
   "source": [
    "sg1 = SGDClassifier(max_iter=1000, tol=1e-3)\n",
    "sg2 = SGDClassifier(max_iter=1000, tol=1e-4)\n",
    "\n",
    "mdls = [sg1, sg2]\n"
   ]
  },
  {
   "cell_type": "code",
   "execution_count": 10,
   "id": "0f3b2668-d3b0-4fce-a321-255c9b272d39",
   "metadata": {},
   "outputs": [],
   "source": [
    "@ray.remote\n",
    "def worker_1(base_model): \n",
    "#    import ml\n",
    "#    from ml.models.base_ray.brisk_xgboost import BriskXGBoosta\n",
    "    \n",
    "    results =  base_model.fetch_model()\n",
    "    return results"
   ]
  },
  {
   "cell_type": "code",
   "execution_count": 22,
   "id": "d8a8f929-d56b-47d2-a5a0-c526e46314d2",
   "metadata": {},
   "outputs": [],
   "source": [
    "brisk_xgb1 = BriskXGBoost('brisk_xgb1', X_train, X_test, y_train, y_test)\n",
    "brisk_xgb1.boosted_round = 1000\n",
    "\n",
    "brisk_xgb2 = BriskXGBoost('brisk_xgb2', X_train, X_test, y_train, y_test)\n",
    "brisk_xgb2.boosted_round = 1000\n",
    "\n",
    "base_models = [brisk_xgb1, brisk_xgb2]"
   ]
  },
  {
   "cell_type": "code",
   "execution_count": 23,
   "id": "e63dac32-9dcd-43f8-8b25-1b39a83c8531",
   "metadata": {},
   "outputs": [
    {
     "name": "stdout",
     "output_type": "stream",
     "text": [
      "\u001b[2m\u001b[36m(worker_1 pid=691)\u001b[0m 2022-11-10 11:45:06,205 - console_info - INFO - brisk_xgb1: Starting training for trials:300, boosted rounds: 1000, max depth: 10\n",
      "\u001b[2m\u001b[36m(worker_1 pid=691)\u001b[0m 2022-11-10 11:45:06,205 - console_info - INFO - brisk_xgb1: Starting training for trials:300, boosted rounds: 1000, max depth: 10\n"
     ]
    },
    {
     "ename": "KeyboardInterrupt",
     "evalue": "",
     "output_type": "error",
     "traceback": [
      "\u001b[0;31m---------------------------------------------------------------------------\u001b[0m",
      "\u001b[0;31mKeyboardInterrupt\u001b[0m                         Traceback (most recent call last)",
      "Cell \u001b[0;32mIn [23], line 5\u001b[0m\n\u001b[1;32m      3\u001b[0m \u001b[38;5;28;01mtry\u001b[39;00m:\n\u001b[1;32m      4\u001b[0m     \u001b[38;5;28;01mfor\u001b[39;00m base_model \u001b[38;5;129;01min\u001b[39;00m base_models:\n\u001b[0;32m----> 5\u001b[0m         res \u001b[38;5;241m=\u001b[39m \u001b[43mray\u001b[49m\u001b[38;5;241;43m.\u001b[39;49m\u001b[43mget\u001b[49m\u001b[43m(\u001b[49m\u001b[43mworker_1\u001b[49m\u001b[38;5;241;43m.\u001b[39;49m\u001b[43mremote\u001b[49m\u001b[43m(\u001b[49m\u001b[43mbase_model\u001b[49m\u001b[43m)\u001b[49m\u001b[43m)\u001b[49m\n\u001b[1;32m      6\u001b[0m         results\u001b[38;5;241m.\u001b[39mappend(res)\n\u001b[1;32m      8\u001b[0m \u001b[38;5;28;01mexcept\u001b[39;00m \u001b[38;5;167;01mRuntimeError\u001b[39;00m \u001b[38;5;28;01mas\u001b[39;00m error_msg:\n",
      "File \u001b[0;32m/home/conda/admin/683ae96175d14b6e7dd3530f3378d72b0ce8b7bc72d9b143c02cf15de243a0f7-20221110-124635-861655-52-ray/lib/python3.9/site-packages/ray/_private/client_mode_hook.py:105\u001b[0m, in \u001b[0;36mclient_mode_hook.<locals>.wrapper\u001b[0;34m(*args, **kwargs)\u001b[0m\n\u001b[1;32m    103\u001b[0m     \u001b[38;5;28;01mif\u001b[39;00m func\u001b[38;5;241m.\u001b[39m\u001b[38;5;18m__name__\u001b[39m \u001b[38;5;241m!=\u001b[39m \u001b[38;5;124m\"\u001b[39m\u001b[38;5;124minit\u001b[39m\u001b[38;5;124m\"\u001b[39m \u001b[38;5;129;01mor\u001b[39;00m is_client_mode_enabled_by_default:\n\u001b[1;32m    104\u001b[0m         \u001b[38;5;28;01mreturn\u001b[39;00m \u001b[38;5;28mgetattr\u001b[39m(ray, func\u001b[38;5;241m.\u001b[39m\u001b[38;5;18m__name__\u001b[39m)(\u001b[38;5;241m*\u001b[39margs, \u001b[38;5;241m*\u001b[39m\u001b[38;5;241m*\u001b[39mkwargs)\n\u001b[0;32m--> 105\u001b[0m \u001b[38;5;28;01mreturn\u001b[39;00m \u001b[43mfunc\u001b[49m\u001b[43m(\u001b[49m\u001b[38;5;241;43m*\u001b[39;49m\u001b[43margs\u001b[49m\u001b[43m,\u001b[49m\u001b[43m \u001b[49m\u001b[38;5;241;43m*\u001b[39;49m\u001b[38;5;241;43m*\u001b[39;49m\u001b[43mkwargs\u001b[49m\u001b[43m)\u001b[49m\n",
      "File \u001b[0;32m/home/conda/admin/683ae96175d14b6e7dd3530f3378d72b0ce8b7bc72d9b143c02cf15de243a0f7-20221110-124635-861655-52-ray/lib/python3.9/site-packages/ray/_private/worker.py:2283\u001b[0m, in \u001b[0;36mget\u001b[0;34m(object_refs, timeout)\u001b[0m\n\u001b[1;32m   2278\u001b[0m     \u001b[38;5;28;01mraise\u001b[39;00m \u001b[38;5;167;01mValueError\u001b[39;00m(\n\u001b[1;32m   2279\u001b[0m         \u001b[38;5;124m\"\u001b[39m\u001b[38;5;124m'\u001b[39m\u001b[38;5;124mobject_refs\u001b[39m\u001b[38;5;124m'\u001b[39m\u001b[38;5;124m must either be an ObjectRef or a list of ObjectRefs.\u001b[39m\u001b[38;5;124m\"\u001b[39m\n\u001b[1;32m   2280\u001b[0m     )\n\u001b[1;32m   2282\u001b[0m \u001b[38;5;66;03m# TODO(ujvl): Consider how to allow user to retrieve the ready objects.\u001b[39;00m\n\u001b[0;32m-> 2283\u001b[0m values, debugger_breakpoint \u001b[38;5;241m=\u001b[39m \u001b[43mworker\u001b[49m\u001b[38;5;241;43m.\u001b[39;49m\u001b[43mget_objects\u001b[49m\u001b[43m(\u001b[49m\u001b[43mobject_refs\u001b[49m\u001b[43m,\u001b[49m\u001b[43m \u001b[49m\u001b[43mtimeout\u001b[49m\u001b[38;5;241;43m=\u001b[39;49m\u001b[43mtimeout\u001b[49m\u001b[43m)\u001b[49m\n\u001b[1;32m   2284\u001b[0m \u001b[38;5;28;01mfor\u001b[39;00m i, value \u001b[38;5;129;01min\u001b[39;00m \u001b[38;5;28menumerate\u001b[39m(values):\n\u001b[1;32m   2285\u001b[0m     \u001b[38;5;28;01mif\u001b[39;00m \u001b[38;5;28misinstance\u001b[39m(value, RayError):\n",
      "File \u001b[0;32m/home/conda/admin/683ae96175d14b6e7dd3530f3378d72b0ce8b7bc72d9b143c02cf15de243a0f7-20221110-124635-861655-52-ray/lib/python3.9/site-packages/ray/_private/worker.py:668\u001b[0m, in \u001b[0;36mWorker.get_objects\u001b[0;34m(self, object_refs, timeout)\u001b[0m\n\u001b[1;32m    662\u001b[0m         \u001b[38;5;28;01mraise\u001b[39;00m \u001b[38;5;167;01mTypeError\u001b[39;00m(\n\u001b[1;32m    663\u001b[0m             \u001b[38;5;124mf\u001b[39m\u001b[38;5;124m\"\u001b[39m\u001b[38;5;124mAttempting to call `get` on the value \u001b[39m\u001b[38;5;132;01m{\u001b[39;00mobject_ref\u001b[38;5;132;01m}\u001b[39;00m\u001b[38;5;124m, \u001b[39m\u001b[38;5;124m\"\u001b[39m\n\u001b[1;32m    664\u001b[0m             \u001b[38;5;124m\"\u001b[39m\u001b[38;5;124mwhich is not an ray.ObjectRef.\u001b[39m\u001b[38;5;124m\"\u001b[39m\n\u001b[1;32m    665\u001b[0m         )\n\u001b[1;32m    667\u001b[0m timeout_ms \u001b[38;5;241m=\u001b[39m \u001b[38;5;28mint\u001b[39m(timeout \u001b[38;5;241m*\u001b[39m \u001b[38;5;241m1000\u001b[39m) \u001b[38;5;28;01mif\u001b[39;00m timeout \u001b[38;5;28;01melse\u001b[39;00m \u001b[38;5;241m-\u001b[39m\u001b[38;5;241m1\u001b[39m\n\u001b[0;32m--> 668\u001b[0m data_metadata_pairs \u001b[38;5;241m=\u001b[39m \u001b[38;5;28;43mself\u001b[39;49m\u001b[38;5;241;43m.\u001b[39;49m\u001b[43mcore_worker\u001b[49m\u001b[38;5;241;43m.\u001b[39;49m\u001b[43mget_objects\u001b[49m\u001b[43m(\u001b[49m\n\u001b[1;32m    669\u001b[0m \u001b[43m    \u001b[49m\u001b[43mobject_refs\u001b[49m\u001b[43m,\u001b[49m\u001b[43m \u001b[49m\u001b[38;5;28;43mself\u001b[39;49m\u001b[38;5;241;43m.\u001b[39;49m\u001b[43mcurrent_task_id\u001b[49m\u001b[43m,\u001b[49m\u001b[43m \u001b[49m\u001b[43mtimeout_ms\u001b[49m\n\u001b[1;32m    670\u001b[0m \u001b[43m\u001b[49m\u001b[43m)\u001b[49m\n\u001b[1;32m    671\u001b[0m debugger_breakpoint \u001b[38;5;241m=\u001b[39m \u001b[38;5;124mb\u001b[39m\u001b[38;5;124m\"\u001b[39m\u001b[38;5;124m\"\u001b[39m\n\u001b[1;32m    672\u001b[0m \u001b[38;5;28;01mfor\u001b[39;00m (data, metadata) \u001b[38;5;129;01min\u001b[39;00m data_metadata_pairs:\n",
      "File \u001b[0;32mpython/ray/_raylet.pyx:1445\u001b[0m, in \u001b[0;36mray._raylet.CoreWorker.get_objects\u001b[0;34m()\u001b[0m\n",
      "File \u001b[0;32mpython/ray/_raylet.pyx:190\u001b[0m, in \u001b[0;36mray._raylet.check_status\u001b[0;34m()\u001b[0m\n",
      "\u001b[0;31mKeyboardInterrupt\u001b[0m: "
     ]
    }
   ],
   "source": [
    "results = []\n",
    "\n",
    "try:\n",
    "    for base_model in base_models:\n",
    "        res = ray.get(worker_1.remote(base_model))\n",
    "        results.append(res)\n",
    "    \n",
    "except RuntimeError as error_msg:\n",
    "    print(error_msg)    "
   ]
  },
  {
   "cell_type": "code",
   "execution_count": null,
   "id": "827ec32f-8233-42d8-805b-b33e9133c11a",
   "metadata": {},
   "outputs": [],
   "source": [
    "results"
   ]
  },
  {
   "cell_type": "code",
   "execution_count": null,
   "id": "82e62c85-e65b-4747-af07-d2d4aabde0ba",
   "metadata": {},
   "outputs": [],
   "source": []
  }
 ],
 "metadata": {
  "kernelspec": {
   "display_name": "admin-admin-wasif-dev-ray",
   "language": "python",
   "name": "conda-env-admin-admin-wasif-dev-ray-py"
  },
  "language_info": {
   "codemirror_mode": {
    "name": "ipython",
    "version": 3
   },
   "file_extension": ".py",
   "mimetype": "text/x-python",
   "name": "python",
   "nbconvert_exporter": "python",
   "pygments_lexer": "ipython3",
   "version": "3.9.13"
  }
 },
 "nbformat": 4,
 "nbformat_minor": 5
}
