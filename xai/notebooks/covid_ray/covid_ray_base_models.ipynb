{
 "cells": [
  {
   "cell_type": "code",
   "execution_count": 1,
   "metadata": {},
   "outputs": [],
   "source": [
    "# !echo $RAYCLUSTER_AUTOSCALER_HEAD_SVC_PORT_10001_TCP_ADDR\n",
    "# !echo $RAYCLUSTER_AUTOSCALER_HEAD_SVC_PORT_10001_TCP_PORT"
   ]
  },
  {
   "cell_type": "code",
   "execution_count": 1,
   "metadata": {},
   "outputs": [],
   "source": [
    "import sys; sys.path.insert(0, '../..') # add parent folder path where lib folder is"
   ]
  },
  {
   "cell_type": "code",
   "execution_count": 2,
   "metadata": {},
   "outputs": [
    {
     "data": {
      "text/html": [
       "<style type='text/css'>\n",
       ".datatable table.frame { margin-bottom: 0; }\n",
       ".datatable table.frame thead { border-bottom: none; }\n",
       ".datatable table.frame tr.coltypes td {  color: #FFFFFF;  line-height: 6px;  padding: 0 0.5em;}\n",
       ".datatable .bool    { background: #DDDD99; }\n",
       ".datatable .object  { background: #565656; }\n",
       ".datatable .int     { background: #5D9E5D; }\n",
       ".datatable .float   { background: #4040CC; }\n",
       ".datatable .str     { background: #CC4040; }\n",
       ".datatable .time    { background: #40CC40; }\n",
       ".datatable .row_index {  background: var(--jp-border-color3);  border-right: 1px solid var(--jp-border-color0);  color: var(--jp-ui-font-color3);  font-size: 9px;}\n",
       ".datatable .frame tbody td { text-align: left; }\n",
       ".datatable .frame tr.coltypes .row_index {  background: var(--jp-border-color0);}\n",
       ".datatable th:nth-child(2) { padding-left: 12px; }\n",
       ".datatable .hellipsis {  color: var(--jp-cell-editor-border-color);}\n",
       ".datatable .vellipsis {  background: var(--jp-layout-color0);  color: var(--jp-cell-editor-border-color);}\n",
       ".datatable .na {  color: var(--jp-cell-editor-border-color);  font-size: 80%;}\n",
       ".datatable .sp {  opacity: 0.25;}\n",
       ".datatable .footer { font-size: 9px; }\n",
       ".datatable .frame_dimensions {  background: var(--jp-border-color3);  border-top: 1px solid var(--jp-border-color0);  color: var(--jp-ui-font-color3);  display: inline-block;  opacity: 0.6;  padding: 1px 10px 1px 5px;}\n",
       "</style>\n"
      ],
      "text/plain": [
       "<IPython.core.display.HTML object>"
      ]
     },
     "metadata": {},
     "output_type": "display_data"
    }
   ],
   "source": [
    "%load_ext autoreload\n",
    "%autoreload 2\n",
    "\n",
    "from utils import helper, config, rayer\n",
    "from ml.models.base.v2.brisk_xgboost import BriskXGBoost\n",
    "from ml.models.base.v2.slug_xgboost import SlugXGBoost\n",
    "from ml.models.base.slug_ann import SlugANN\n",
    "from ml.models.base.slug_rf import SlugRF\n",
    "from ml.models.base.slug_knn import SlugKNN\n",
    "from ml.models.base.v2.brisk_bagging import BriskBagging\n",
    "\n",
    "from sklearn.preprocessing import StandardScaler\n",
    "from sklearn.model_selection import train_test_split\n",
    "\n",
    "from sklearn.metrics import r2_score, mean_squared_error\n",
    "from sklearn.metrics import f1_score, roc_auc_score, precision_score, recall_score\n",
    "from ml.models import common\n",
    "import ray\n",
    "import time\n",
    "import pandas as pd"
   ]
  },
  {
   "cell_type": "code",
   "execution_count": 4,
   "metadata": {},
   "outputs": [],
   "source": [
    "rayer.get_global_cluster(num_cpus=4)"
   ]
  },
  {
   "cell_type": "code",
   "execution_count": 5,
   "metadata": {},
   "outputs": [
    {
     "name": "stdout",
     "output_type": "stream",
     "text": [
      "======== Autoscaler status: 2022-11-24 02:15:47.232181 ========\n",
      "Node status\n",
      "---------------------------------------------------------------\n",
      "Healthy:\n",
      " 1 head-group\n",
      " 2 small-group\n",
      "Pending:\n",
      " (no pending nodes)\n",
      "Recent failures:\n",
      " (no failures)\n",
      "\n",
      "Resources\n",
      "---------------------------------------------------------------\n",
      "Usage:\n",
      " 0.0/5.0 CPU\n",
      " 0.00/16.764 GiB memory\n",
      " 0.00/4.905 GiB object_store_memory\n",
      "\n",
      "Demands:\n",
      " {'CPU': 1}: 4+ from request_resources()\n",
      "\u001b[0m"
     ]
    }
   ],
   "source": [
    "!ray status --address='raycluster-autoscaler-head-svc.dev.svc.cluster.local:6379'"
   ]
  },
  {
   "cell_type": "code",
   "execution_count": 8,
   "metadata": {},
   "outputs": [],
   "source": [
    "ray.autoscaler.sdk.request_resources(num_cpus=0)"
   ]
  },
  {
   "cell_type": "code",
   "execution_count": 5,
   "metadata": {},
   "outputs": [],
   "source": [
    "X, y = helper.get_covid_dataset()\n",
    "X = X.drop(['location'], axis = 1)\n",
    "\n",
    "X_train, X_test, y_train, y_test = train_test_split(X, y, test_size=0.33)\n",
    "\n",
    "ss = StandardScaler()\n",
    "X_train_scalar = pd.DataFrame(ss.fit_transform(X_train), columns = X_train.columns)\n",
    "X_test_scalar = pd.DataFrame(ss.fit_transform(X_test), columns = X_test.columns)"
   ]
  },
  {
   "cell_type": "code",
   "execution_count": 6,
   "metadata": {},
   "outputs": [],
   "source": [
    "X_train_id = ray.put(X_train)\n",
    "y_train_id = ray.put(y_train)\n",
    "X_test_id = ray.put(X_test)\n",
    "y_test_id = ray.put(y_test)\n"
   ]
  },
  {
   "cell_type": "code",
   "execution_count": 7,
   "metadata": {},
   "outputs": [],
   "source": [
    "\n",
    "@ray.remote(num_returns=1)\n",
    "def worker(base_model, X_train, X_test, y_train, y_test):     \n",
    "    base_model.fetch_model(X_train, X_test, y_train, y_test)\n",
    "    return base_model\n"
   ]
  },
  {
   "cell_type": "code",
   "execution_count": 12,
   "metadata": {},
   "outputs": [],
   "source": [
    "brisk_xgb1 = BriskXGBoost('brisk_xgb1')\n",
    "brisk_xgb1.boosted_round = 100\n",
    "brisk_xgb1.n_trials = 1000\n",
    "\n",
    "brisk_xgb2 = BriskXGBoost('brisk_xgb2')\n",
    "brisk_xgb2.boosted_round = 150\n",
    "brisk_xgb2.n_trials = 500\n",
    "\n",
    "base_models = [brisk_xgb1, brisk_xgb2]\n",
    "\n",
    "brisk_bagging_1 = BriskBagging('brisk_bagging_1')\n",
    "brisk_bagging_1.boosted_round = 100\n",
    "brisk_bagging_1.n_trials = 50\n",
    "\n",
    "brisk_bagging_2 = BriskBagging('brisk_bagging_2')\n",
    "brisk_bagging_2.boosted_round = 100\n",
    "brisk_bagging_2.n_trials = 50\n",
    "\n",
    "base_models_bagging = [brisk_bagging_1, brisk_bagging_2]\n",
    "\n",
    "slug_xgb1 = SlugXGBoost('slug_xgb1')\n",
    "slug_xgb1.boosted_round = 100\n",
    "slug_xgb1.n_trials = 500\n",
    "\n",
    "#slug_xgb2 = SlugXGBoost('slug_xgb2', X_train, X_test, y_train, y_test)\n",
    "#slug_xgb2.boosted_round = 10\n",
    "#slug_xgb2.n_trials = 10\n",
    "\n",
    "#base_models_slug = [slug_xgb1, slug_xgb2]#\n",
    "\n",
    "#slug_ann_1 = SlugANN('slug_ann_1', X_train, X_test, y_train, y_test)\n",
    "#slug_ann_1.epochs = 50\n",
    "#slug_ann_1.n_trials = 50\n",
    "\n",
    "#slug_ann_2 = SlugANN('slug_ann_2', X_train, X_test, y_train, y_test)\n",
    "#slug_ann_2.epochs = 50\n",
    "#slug_ann_2.n_trials = 50\n",
    "\n",
    "#base_models_ann = [slug_ann_1, slug_ann_2]\n",
    "\n",
    "\n",
    "#slug_rf_1 = SlugRF('slug_rf_1', X_train, X_test, y_train, y_test)\n",
    "#slug_rf_1.max_n_estimators = 1000\n",
    "#slug_rf_1.n_trials = 500\n",
    "\n",
    "#slug_rf_2 = SlugRF('slug_rf_2', X_train, X_test, y_train, y_test)\n",
    "#slug_rf_2.max_n_estimators = 1000\n",
    "#slug_rf_2.n_trials = 500\n",
    "\n",
    "#base_models_rf = [slug_rf_1, slug_rf_2]\n",
    "\n",
    "\n",
    "#slug_knn_1 = SlugKNN('slug_knn_1', X_train, X_test, y_train, y_test)\n",
    "#slug_knn_1.n_neighbors = 100\n",
    "#slug_knn_1.n_trials = 5000\n",
    "\n",
    "#slug_knn_2 = SlugKNN('slug_knn_2', X_train, X_test, y_train, y_test)\n",
    "#slug_knn_2.n_neighbors = 100\n",
    "#slug_knn_1.n_trials = 5000\n",
    "\n",
    "#base_models_knn = [slug_knn_1, slug_knn_2]\n",
    "\n",
    "model_list = [slug_xgb1, brisk_xgb1, brisk_xgb2]\n"
   ]
  },
  {
   "cell_type": "code",
   "execution_count": 13,
   "metadata": {},
   "outputs": [
    {
     "name": "stderr",
     "output_type": "stream",
     "text": [
      "\u001b[2m\u001b[36m(worker pid=130, ip=10.10.37.125)\u001b[0m 2022-11-24T00:38:54PST : INFO : font_manager : _load_fontmanager : 1633 : Message : generated new fontManager\n",
      "\u001b[2m\u001b[36m(worker pid=131, ip=10.10.20.33)\u001b[0m 2022-11-24T00:38:54PST : INFO : font_manager : _load_fontmanager : 1633 : Message : generated new fontManager\n",
      "\u001b[2m\u001b[36m(worker pid=589)\u001b[0m 2022-11-24T00:38:54PST : INFO : brisk_xgboost : __discover_model__ : 109 : Message : brisk_xgb2: Starting training for trials:500, boosted rounds: 150, max depth: 10\n",
      "\u001b[2m\u001b[36m(worker pid=589)\u001b[0m /tmp/ray/session_2022-11-24_00-30-35_328980_8/runtime_resources/pip/6359c2ba15c7e71f0e73b7159cb8c36699f062e1/virtualenv/lib/python3.9/site-packages/optuna/_optimize.py:93: UserWarning: The default storage cannot be shared by multiple processes. Please use an RDB (RDBStorage) when you use joblib for multi-processing. The usage of RDBStorage can be found in https://optuna.readthedocs.io/en/stable/tutorial/rdb.html.\n",
      "\u001b[2m\u001b[36m(worker pid=589)\u001b[0m   warnings.warn(\n",
      "\u001b[2m\u001b[36m(worker pid=131, ip=10.10.20.33)\u001b[0m 2022-11-24T00:38:54PST : INFO : slug_xgboost : __discover_model__ : 106 : Message : slug_xgb1: Starting training for trials:500, boosted rounds: 100, max depth: 30\n",
      "\u001b[2m\u001b[36m(worker pid=130, ip=10.10.37.125)\u001b[0m 2022-11-24T00:38:54PST : INFO : brisk_xgboost : __discover_model__ : 109 : Message : brisk_xgb1: Starting training for trials:1000, boosted rounds: 100, max depth: 10\n",
      "\u001b[2m\u001b[36m(worker pid=131, ip=10.10.20.33)\u001b[0m 2022-11-24T00:39:20PST : INFO : slug_xgboost : __discover_model__ : 120 : Message : slug_xgb1: Number of trials: 500\n",
      "\u001b[2m\u001b[36m(worker pid=131, ip=10.10.20.33)\u001b[0m 2022-11-24T00:39:20PST : INFO : slug_xgboost : __discover_model__ : 122 : Message : Best trial:179\n",
      "\u001b[2m\u001b[36m(worker pid=131, ip=10.10.20.33)\u001b[0m 2022-11-24T00:39:20PST : INFO : slug_xgboost : __discover_model__ : 124 : Message :   Params: \n",
      "\u001b[2m\u001b[36m(worker pid=131, ip=10.10.20.33)\u001b[0m 2022-11-24T00:39:20PST : INFO : slug_xgboost : __discover_model__ : 126 : Message :     lambda 0.016782977773294933\n",
      "\u001b[2m\u001b[36m(worker pid=131, ip=10.10.20.33)\u001b[0m 2022-11-24T00:39:20PST : INFO : slug_xgboost : __discover_model__ : 126 : Message :     alpha 0.014250417857348553\n",
      "\u001b[2m\u001b[36m(worker pid=131, ip=10.10.20.33)\u001b[0m 2022-11-24T00:39:20PST : INFO : slug_xgboost : __discover_model__ : 126 : Message :     eta 0.5123162735344328\n",
      "\u001b[2m\u001b[36m(worker pid=131, ip=10.10.20.33)\u001b[0m 2022-11-24T00:39:20PST : INFO : slug_xgboost : __discover_model__ : 126 : Message :     gamma 0.00969343309380081\n",
      "\u001b[2m\u001b[36m(worker pid=131, ip=10.10.20.33)\u001b[0m 2022-11-24T00:39:20PST : INFO : slug_xgboost : __discover_model__ : 126 : Message :     grow_policy lossguide\n",
      "\u001b[2m\u001b[36m(worker pid=131, ip=10.10.20.33)\u001b[0m 2022-11-24T00:39:20PST : INFO : slug_xgboost : __discover_model__ : 126 : Message :     max_depth 1\n",
      "\u001b[2m\u001b[36m(worker pid=131, ip=10.10.20.33)\u001b[0m 2022-11-24T00:39:20PST : INFO : slug_xgboost : __discover_model__ : 126 : Message :     colsample_bytree 0.022607008387209075\n",
      "\u001b[2m\u001b[36m(worker pid=131, ip=10.10.20.33)\u001b[0m 2022-11-24T00:39:20PST : INFO : slug_xgboost : __discover_model__ : 126 : Message :     colsample_bylevel 0.2979561401186143\n",
      "\u001b[2m\u001b[36m(worker pid=131, ip=10.10.20.33)\u001b[0m 2022-11-24T00:39:20PST : INFO : slug_xgboost : __discover_model__ : 126 : Message :     colsample_bynode 0.006481833754890178\n",
      "\u001b[2m\u001b[36m(worker pid=131, ip=10.10.20.33)\u001b[0m 2022-11-24T00:39:20PST : INFO : slug_xgboost : __discover_model__ : 126 : Message :     max_bin 3072\n",
      "\u001b[2m\u001b[36m(worker pid=131, ip=10.10.20.33)\u001b[0m 2022-11-24T00:39:20PST : INFO : slug_xgboost : __discover_model__ : 146 : Message :   test r2 score: 0.5813599836968848\n",
      "\u001b[2m\u001b[36m(worker pid=131, ip=10.10.20.33)\u001b[0m 2022-11-24T00:39:20PST : INFO : slug_xgboost : __discover_model__ : 151 : Message : slug_xgb1: Model saved at /tmp/covid_autolearn/slug_xgb1/saved/slug_xgb1_179.pickle\n",
      "\u001b[2m\u001b[36m(worker pid=131, ip=10.10.20.33)\u001b[0m 2022-11-24T00:39:20PST : INFO : slug_xgboost : load_score : 202 : Message : slug_xgb1: scores loaded: [0.8897523070997198, 0.5813599836968848]\n",
      "\u001b[2m\u001b[36m(worker pid=130, ip=10.10.37.125)\u001b[0m 2022-11-24T00:39:45PST : INFO : brisk_xgboost : __discover_model__ : 121 : Message : brisk_xgb1: Number of trials: 1000\n",
      "\u001b[2m\u001b[36m(worker pid=130, ip=10.10.37.125)\u001b[0m 2022-11-24T00:39:45PST : INFO : brisk_xgboost : __discover_model__ : 123 : Message : Best trial:360\n",
      "\u001b[2m\u001b[36m(worker pid=130, ip=10.10.37.125)\u001b[0m 2022-11-24T00:39:45PST : INFO : brisk_xgboost : __discover_model__ : 125 : Message :   Params: \n",
      "\u001b[2m\u001b[36m(worker pid=130, ip=10.10.37.125)\u001b[0m 2022-11-24T00:39:45PST : INFO : brisk_xgboost : __discover_model__ : 127 : Message :     booster gbtree\n",
      "\u001b[2m\u001b[36m(worker pid=130, ip=10.10.37.125)\u001b[0m 2022-11-24T00:39:45PST : INFO : brisk_xgboost : __discover_model__ : 127 : Message :     lambda 0.419362097126253\n",
      "\u001b[2m\u001b[36m(worker pid=130, ip=10.10.37.125)\u001b[0m 2022-11-24T00:39:45PST : INFO : brisk_xgboost : __discover_model__ : 127 : Message :     alpha 0.9874848209479496\n",
      "\u001b[2m\u001b[36m(worker pid=130, ip=10.10.37.125)\u001b[0m 2022-11-24T00:39:45PST : INFO : brisk_xgboost : __discover_model__ : 127 : Message :     max_depth 1\n",
      "\u001b[2m\u001b[36m(worker pid=130, ip=10.10.37.125)\u001b[0m 2022-11-24T00:39:45PST : INFO : brisk_xgboost : __discover_model__ : 127 : Message :     eta 0.1740956995704073\n",
      "\u001b[2m\u001b[36m(worker pid=130, ip=10.10.37.125)\u001b[0m 2022-11-24T00:39:45PST : INFO : brisk_xgboost : __discover_model__ : 127 : Message :     gamma 0.003067986988647442\n",
      "\u001b[2m\u001b[36m(worker pid=130, ip=10.10.37.125)\u001b[0m 2022-11-24T00:39:45PST : INFO : brisk_xgboost : __discover_model__ : 127 : Message :     grow_policy lossguide\n",
      "\u001b[2m\u001b[36m(worker pid=130, ip=10.10.37.125)\u001b[0m 2022-11-24T00:39:45PST : INFO : brisk_xgboost : __discover_model__ : 144 : Message :   test r2 score: 0.496761521819275\n",
      "\u001b[2m\u001b[36m(worker pid=130, ip=10.10.37.125)\u001b[0m 2022-11-24T00:39:45PST : INFO : brisk_xgboost : __discover_model__ : 152 : Message : brisk_xgb1: Model saved at /tmp/covid_autolearn/brisk_xgb1/saved/brisk_xgb1_360.pickle\n",
      "\u001b[2m\u001b[36m(worker pid=130, ip=10.10.37.125)\u001b[0m 2022-11-24T00:39:45PST : INFO : brisk_xgboost : load_score : 200 : Message : brisk_xgb1: scores loaded: [0.8163083762212228, 0.496761521819275]\n",
      "\u001b[2m\u001b[36m(worker pid=589)\u001b[0m 2022-11-24T00:39:49PST : INFO : brisk_xgboost : __discover_model__ : 121 : Message : brisk_xgb2: Number of trials: 500\n",
      "\u001b[2m\u001b[36m(worker pid=589)\u001b[0m 2022-11-24T00:39:49PST : INFO : brisk_xgboost : __discover_model__ : 123 : Message : Best trial:447\n",
      "\u001b[2m\u001b[36m(worker pid=589)\u001b[0m 2022-11-24T00:39:49PST : INFO : brisk_xgboost : __discover_model__ : 125 : Message :   Params: \n",
      "\u001b[2m\u001b[36m(worker pid=589)\u001b[0m 2022-11-24T00:39:49PST : INFO : brisk_xgboost : __discover_model__ : 127 : Message :     booster gbtree\n",
      "\u001b[2m\u001b[36m(worker pid=589)\u001b[0m 2022-11-24T00:39:49PST : INFO : brisk_xgboost : __discover_model__ : 127 : Message :     lambda 0.5395749937690202\n",
      "\u001b[2m\u001b[36m(worker pid=589)\u001b[0m 2022-11-24T00:39:49PST : INFO : brisk_xgboost : __discover_model__ : 127 : Message :     alpha 0.9883440769817881\n",
      "\u001b[2m\u001b[36m(worker pid=589)\u001b[0m 2022-11-24T00:39:49PST : INFO : brisk_xgboost : __discover_model__ : 127 : Message :     max_depth 1\n",
      "\u001b[2m\u001b[36m(worker pid=589)\u001b[0m 2022-11-24T00:39:49PST : INFO : brisk_xgboost : __discover_model__ : 127 : Message :     eta 0.12872950689055937\n",
      "\u001b[2m\u001b[36m(worker pid=589)\u001b[0m 2022-11-24T00:39:49PST : INFO : brisk_xgboost : __discover_model__ : 127 : Message :     gamma 0.0024369452937851115\n",
      "\u001b[2m\u001b[36m(worker pid=589)\u001b[0m 2022-11-24T00:39:49PST : INFO : brisk_xgboost : __discover_model__ : 127 : Message :     grow_policy lossguide\n",
      "\u001b[2m\u001b[36m(worker pid=589)\u001b[0m 2022-11-24T00:39:49PST : INFO : brisk_xgboost : __discover_model__ : 144 : Message :   test r2 score: 0.49914830422104817\n",
      "\u001b[2m\u001b[36m(worker pid=589)\u001b[0m 2022-11-24T00:39:49PST : INFO : brisk_xgboost : __discover_model__ : 152 : Message : brisk_xgb2: Model saved at /tmp/covid_autolearn/brisk_xgb2/saved/brisk_xgb2_447.pickle\n",
      "\u001b[2m\u001b[36m(worker pid=589)\u001b[0m 2022-11-24T00:39:49PST : INFO : brisk_xgboost : load_score : 200 : Message : brisk_xgb2: scores loaded: [0.8361365840364634, 0.49914830422104817]\n",
      "\u001b[2m\u001b[33m(raylet)\u001b[0m [2022-11-24 01:10:25,709 E 86 86] (raylet) worker_pool.cc:1108: Failed to send exit request: GrpcUnavailable: RPC Error message: failed to connect to all addresses; RPC Error details: \n",
      "\u001b[2m\u001b[33m(raylet)\u001b[0m [2022-11-24 01:10:25,820 E 86 86] (raylet) worker_pool.cc:1108: Failed to send exit request: GrpcUnavailable: RPC Error message: Connection reset by peer; RPC Error details: \n"
     ]
    }
   ],
   "source": [
    "model_results = ray.get([worker.remote(base_model, X_train_id, X_test_id, y_train_id, y_test_id) for base_model in model_list])"
   ]
  },
  {
   "cell_type": "code",
   "execution_count": 19,
   "metadata": {},
   "outputs": [
    {
     "data": {
      "text/plain": [
       "[0.8738940636546498, 0.7867130839181712]"
      ]
     },
     "execution_count": 19,
     "metadata": {},
     "output_type": "execute_result"
    }
   ],
   "source": [
    "model_results[0].score"
   ]
  },
  {
   "cell_type": "code",
   "execution_count": 36,
   "metadata": {},
   "outputs": [
    {
     "data": {
      "text/plain": [
       "[0.014120463031467745, -0.0830211453548515]"
      ]
     },
     "execution_count": 36,
     "metadata": {},
     "output_type": "execute_result"
    }
   ],
   "source": [
    "model_results[1].score"
   ]
  },
  {
   "cell_type": "code",
   "execution_count": 16,
   "metadata": {},
   "outputs": [
    {
     "data": {
      "text/plain": [
       "array([1018.42486196, 1018.42486196, 1018.42486196, 1018.42486196,\n",
       "       1018.42486196, 1018.42486196, 1018.42486196, 1018.42486196,\n",
       "       1018.42486196, 1018.42486196, 1018.42486196, 1018.42486196,\n",
       "       1018.42486196, 1018.42486196, 1018.42486196, 1018.42486196,\n",
       "       1018.42486196, 1018.42486196, 1018.42486196, 1018.42486196,\n",
       "       1018.42486196, 1018.42486196, 1018.42486196, 1018.42486196,\n",
       "       1018.42486196, 1018.42486196, 1018.42486196, 1018.42486196,\n",
       "       1018.42486196, 1018.42486196, 1018.42486196, 1018.42486196,\n",
       "       1018.42486196, 1018.42486196, 1018.42486196, 1018.42486196,\n",
       "       1018.42486196, 1018.42486196, 1018.42486196, 1018.42486196,\n",
       "       1018.42486196, 1018.42486196, 1018.42486196, 1018.42486196,\n",
       "       1018.42486196, 1018.42486196, 1018.42486196, 1018.42486196,\n",
       "       1018.42486196, 1018.42486196, 1018.42486196, 1018.42486196,\n",
       "       1018.42486196, 1018.42486196, 1018.42486196, 1018.42486196,\n",
       "       1018.42486196, 1018.42486196, 1018.42486196, 1018.42486196,\n",
       "       1018.42486196, 1018.42486196, 1018.42486196, 1018.42486196,\n",
       "       1018.42486196, 1018.42486196, 1018.42486196, 1018.42486196,\n",
       "       1018.42486196, 1018.42486196, 1018.42486196, 1018.42486196,\n",
       "       1018.42486196, 1018.42486196, 1018.42486196, 1018.42486196,\n",
       "       1018.42486196, 1018.42486196, 1018.42486196, 1018.42486196,\n",
       "       1018.42486196, 1018.42486196, 1018.42486196, 1018.42486196,\n",
       "       1018.42486196, 1018.42486196, 1018.42486196, 1018.42486196,\n",
       "       1018.42486196, 1018.42486196, 1018.42486196, 1018.42486196,\n",
       "       1018.42486196, 1018.42486196, 1018.42486196, 1018.42486196,\n",
       "       1018.42486196, 1018.42486196, 1018.42486196, 1018.42486196,\n",
       "       1018.42486196, 1018.42486196, 1018.42486196, 1018.42486196,\n",
       "       1018.42486196, 1018.42486196, 1018.42486196, 1018.42486196,\n",
       "       1018.42486196, 1018.42486196, 1018.42486196, 1018.42486196,\n",
       "       1018.42486196, 1018.42486196, 1018.42486196, 1018.42486196,\n",
       "       1018.42486196, 1018.42486196, 1018.42486196, 1018.42486196,\n",
       "       1018.42486196, 1018.42486196, 1018.42486196, 1018.42486196,\n",
       "       1018.42486196, 1018.42486196, 1018.42486196, 1018.42486196,\n",
       "       1018.42486196, 1018.42486196, 1018.42486196, 1018.42486196,\n",
       "       1018.42486196, 1018.42486196, 1018.42486196, 1018.42486196,\n",
       "       1018.42486196, 1018.42486196, 1018.42486196, 1018.42486196,\n",
       "       1018.42486196, 1018.42486196, 1018.42486196, 1018.42486196,\n",
       "       1018.42486196, 1018.42486196, 1018.42486196, 1018.42486196,\n",
       "       1018.42486196, 1018.42486196, 1018.42486196, 1018.42486196,\n",
       "       1018.42486196, 1018.42486196, 1018.42486196, 1018.42486196,\n",
       "       1018.42486196, 1018.42486196, 1018.42486196, 1018.42486196,\n",
       "       1018.42486196, 1018.42486196, 1018.42486196, 1018.42486196,\n",
       "       1018.42486196, 1018.42486196, 1018.42486196, 1018.42486196,\n",
       "       1018.42486196, 1018.42486196, 1018.42486196, 1018.42486196,\n",
       "       1018.42486196, 1018.42486196, 1018.42486196, 1018.42486196,\n",
       "       1018.42486196, 1018.42486196, 1018.42486196, 1018.42486196,\n",
       "       1018.42486196, 1018.42486196, 1018.42486196, 1018.42486196,\n",
       "       1018.42486196, 1018.42486196, 1018.42486196, 1018.42486196,\n",
       "       1018.42486196, 1018.42486196, 1018.42486196])"
      ]
     },
     "execution_count": 16,
     "metadata": {},
     "output_type": "execute_result"
    }
   ],
   "source": [
    "model_results[1].predict(X)"
   ]
  },
  {
   "cell_type": "code",
   "execution_count": null,
   "metadata": {},
   "outputs": [],
   "source": []
  }
 ],
 "metadata": {
  "kernelspec": {
   "display_name": "admin-admin-wasif-dev-ray",
   "language": "python",
   "name": "conda-env-admin-admin-wasif-dev-ray-py"
  },
  "language_info": {
   "codemirror_mode": {
    "name": "ipython",
    "version": 3
   },
   "file_extension": ".py",
   "mimetype": "text/x-python",
   "name": "python",
   "nbconvert_exporter": "python",
   "pygments_lexer": "ipython3",
   "version": "3.9.13"
  },
  "vscode": {
   "interpreter": {
    "hash": "b6ff7914d2bc405bfa61a835d0564ba294eb5f3f9b4c24865f45d9397593b123"
   }
  }
 },
 "nbformat": 4,
 "nbformat_minor": 4
}
