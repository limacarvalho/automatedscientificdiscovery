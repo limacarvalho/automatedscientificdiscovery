{
 "cells": [
  {
   "cell_type": "code",
   "execution_count": 1,
   "metadata": {},
   "outputs": [],
   "source": [
    "# !echo $RAYCLUSTER_AUTOSCALER_HEAD_SVC_PORT_10001_TCP_ADDR\n",
    "# !echo $RAYCLUSTER_AUTOSCALER_HEAD_SVC_PORT_10001_TCP_PORT"
   ]
  },
  {
   "cell_type": "code",
   "execution_count": 1,
   "metadata": {},
   "outputs": [],
   "source": [
    "import sys; sys.path.insert(0, '../..') # add parent folder path where lib folder is"
   ]
  },
  {
   "cell_type": "code",
   "execution_count": 2,
   "metadata": {},
   "outputs": [],
   "source": [
    "import ray\n",
    "import time"
   ]
  },
  {
   "cell_type": "code",
   "execution_count": 3,
   "metadata": {},
   "outputs": [],
   "source": [
    "# from utils import logger"
   ]
  },
  {
   "cell_type": "code",
   "execution_count": 9,
   "metadata": {},
   "outputs": [
    {
     "name": "stdout",
     "output_type": "stream",
     "text": [
      "The autoreload extension is already loaded. To reload it, use:\n",
      "  %reload_ext autoreload\n"
     ]
    }
   ],
   "source": [
    "%load_ext autoreload\n",
    "%autoreload 2\n",
    "\n",
    "import pandas as pd\n",
    "from utils import helper, config, rayer\n",
    "from ml.models.base.brisk_xgboost import BriskXGBoost\n",
    "from ml.models.base.slug_xgboost import SlugXGBoost\n",
    "from ml.models.base.slug_ann import SlugANN\n",
    "from ml.models.base.slug_rf import SlugRF\n",
    "from ml.models.base.slug_knn import SlugKNN\n",
    "\n",
    "from sklearn.preprocessing import StandardScaler\n",
    "from sklearn.model_selection import train_test_split\n",
    "\n",
    "from sklearn.metrics import r2_score, mean_squared_error\n",
    "from sklearn.metrics import f1_score, roc_auc_score, precision_score, recall_score\n",
    "from ml.models import common\n",
    "from sklearn.preprocessing import StandardScaler\n"
   ]
  },
  {
   "cell_type": "code",
   "execution_count": 5,
   "metadata": {},
   "outputs": [],
   "source": [
    "rayer.get_global_cluster(num_cpus=4)"
   ]
  },
  {
   "cell_type": "code",
   "execution_count": 6,
   "metadata": {},
   "outputs": [
    {
     "name": "stdout",
     "output_type": "stream",
     "text": [
      "======== Autoscaler status: 2022-11-18 02:37:31.910231 ========\n",
      "Node status\n",
      "---------------------------------------------------------------\n",
      "Healthy:\n",
      " 1 head-group\n",
      " 2 small-group\n",
      "Pending:\n",
      " (no pending nodes)\n",
      "Recent failures:\n",
      " (no failures)\n",
      "\n",
      "Resources\n",
      "---------------------------------------------------------------\n",
      "Usage:\n",
      " 0.0/5.0 CPU\n",
      " 0.00/16.764 GiB memory\n",
      " 0.00/4.898 GiB object_store_memory\n",
      "\n",
      "Demands:\n",
      " {}: 1+ pending tasks/actors\n",
      " {'CPU': 1}: 4+ from request_resources()\n",
      "\u001b[0m"
     ]
    }
   ],
   "source": [
    "!ray status --address='raycluster-autoscaler-head-svc.dev.svc.cluster.local:6379'"
   ]
  },
  {
   "cell_type": "code",
   "execution_count": 7,
   "metadata": {},
   "outputs": [],
   "source": [
    "# ray.autoscaler.sdk.request_resources(num_cpus=0)"
   ]
  },
  {
   "cell_type": "code",
   "execution_count": 10,
   "metadata": {},
   "outputs": [],
   "source": [
    "X, y = helper.get_covid_dataset()\n",
    "X = X.drop(['location'], axis = 1)\n",
    "\n",
    "        \n",
    "X_train, X_test, y_train, y_test = train_test_split(X, y, test_size=0.33)\n",
    "\n",
    "ss = StandardScaler()\n",
    "X_train_scalar = pd.DataFrame(ss.fit_transform(X_train), columns = X_train.columns)\n",
    "X_test_scalar = pd.DataFrame(ss.fit_transform(X_test), columns = X_test.columns)\n",
    "\n"
   ]
  },
  {
   "cell_type": "code",
   "execution_count": 12,
   "metadata": {},
   "outputs": [],
   "source": [
    "\n",
    "slug_ann = SlugANN('slug_ann', X_train_scalar, X_test_scalar, y_train, y_test)\n",
    "slug_ann.epochs = 10\n",
    "slug_ann.n_trials = 20 \n"
   ]
  },
  {
   "cell_type": "code",
   "execution_count": 13,
   "metadata": {},
   "outputs": [
    {
     "name": "stderr",
     "output_type": "stream",
     "text": [
      "2022-11-18T02:39:47CST : INFO : slug_ann : __discover_model__ : 225 : Message : brisk_xgb: Starting train for trials:20 with epochs: 10\n",
      "2022-11-18T02:39:55CST : INFO : slug_ann : __discover_model__ : 238 : Message : brisk_xgb: Number of trials: 20\n",
      "2022-11-18T02:39:55CST : INFO : slug_ann : __discover_model__ : 240 : Message : Best trial: 19\n",
      "2022-11-18T02:39:55CST : INFO : slug_ann : __discover_model__ : 247 : Message : Sequential(\n",
      "  (0): Linear(in_features=40, out_features=195, bias=True)\n",
      "  (1): ReLU()\n",
      "  (2): Dropout(p=0.32617147222054993, inplace=False)\n",
      "  (3): Linear(in_features=195, out_features=256, bias=True)\n",
      "  (4): ReLU()\n",
      "  (5): Dropout(p=0.32617147222054993, inplace=False)\n",
      "  (6): Linear(in_features=256, out_features=199, bias=True)\n",
      "  (7): ReLU()\n",
      "  (8): Dropout(p=0.32617147222054993, inplace=False)\n",
      "  (9): Linear(in_features=199, out_features=188, bias=True)\n",
      "  (10): ReLU()\n",
      "  (11): Dropout(p=0.32617147222054993, inplace=False)\n",
      "  (12): Linear(in_features=188, out_features=1, bias=True)\n",
      "  (13): ReLU()\n",
      ")\n",
      "2022-11-18T02:39:55CST : INFO : slug_ann : __discover_model__ : 254 : Message :   test r2 score: 0.5690131407573895\n",
      "2022-11-18T02:39:55CST : INFO : slug_ann : __discover_model__ : 257 : Message : brisk_xgb: Model saved at /tmp/covid_autolearn/brisk_xgb/saved/tmp/covid_autolearn/brisk_xgb/tmp/brisk_xgb_19.pickle\n",
      "2022-11-18T02:39:55CST : INFO : slug_ann : load_score : 311 : Message : brisk_xgb: scores loaded: [0.6290799664612925, 0.5690131407573895]\n"
     ]
    },
    {
     "data": {
      "text/plain": [
       "Sequential(\n",
       "  (0): Linear(in_features=40, out_features=195, bias=True)\n",
       "  (1): ReLU()\n",
       "  (2): Dropout(p=0.32617147222054993, inplace=False)\n",
       "  (3): Linear(in_features=195, out_features=256, bias=True)\n",
       "  (4): ReLU()\n",
       "  (5): Dropout(p=0.32617147222054993, inplace=False)\n",
       "  (6): Linear(in_features=256, out_features=199, bias=True)\n",
       "  (7): ReLU()\n",
       "  (8): Dropout(p=0.32617147222054993, inplace=False)\n",
       "  (9): Linear(in_features=199, out_features=188, bias=True)\n",
       "  (10): ReLU()\n",
       "  (11): Dropout(p=0.32617147222054993, inplace=False)\n",
       "  (12): Linear(in_features=188, out_features=1, bias=True)\n",
       "  (13): ReLU()\n",
       ")"
      ]
     },
     "execution_count": 13,
     "metadata": {},
     "output_type": "execute_result"
    }
   ],
   "source": [
    "slug_ann.fetch_model()"
   ]
  },
  {
   "cell_type": "code",
   "execution_count": 14,
   "metadata": {},
   "outputs": [
    {
     "data": {
      "text/plain": [
       "[0.6290799664612925, 0.5690131407573895]"
      ]
     },
     "execution_count": 14,
     "metadata": {},
     "output_type": "execute_result"
    },
    {
     "name": "stdout",
     "output_type": "stream",
     "text": [
      "\u001b[2m\u001b[1m\u001b[36m(scheduler +6m3s)\u001b[0m Tip: use `ray status` to view detailed cluster status. To disable these messages, set RAY_SCHEDULER_EVENTS=0.\n",
      "\u001b[2m\u001b[1m\u001b[36m(scheduler +6m3s)\u001b[0m Adding 1 node(s) of type small-group.\n",
      "\u001b[2m\u001b[1m\u001b[36m(scheduler +6m9s)\u001b[0m Resized to 7 CPUs.\n",
      "\u001b[2m\u001b[1m\u001b[36m(scheduler +7m15s)\u001b[0m Removing 1 nodes of type small-group (idle).\n",
      "\u001b[2m\u001b[1m\u001b[36m(scheduler +7m26s)\u001b[0m Resized to 5 CPUs.\n"
     ]
    },
    {
     "name": "stderr",
     "output_type": "stream",
     "text": [
      "Log channel is reconnecting. Logs produced while the connection was down can be found on the head node of the cluster in `ray_client_server_[port].out`\n",
      "2022-11-18 02:58:39,923\tWARNING dataclient.py:396 -- Encountered connection issues in the data channel. Attempting to reconnect.\n",
      "2022-11-18 02:58:49,024\tERROR dataclient.py:323 -- Unrecoverable error in data channel.\n",
      "Unexpected exception:\n",
      "Traceback (most recent call last):\n",
      "  File \"/home/conda/admin/807c952d1ebb2e498414dc4b80a90b96c80ef2ef433f07c7a7381b5e38e2b5fa-20221110-224801-275852-64-wasif-dev-ray/lib/python3.9/site-packages/ray/util/client/logsclient.py\", line 67, in _log_main\n",
      "    for record in log_stream:\n",
      "  File \"/home/conda/admin/807c952d1ebb2e498414dc4b80a90b96c80ef2ef433f07c7a7381b5e38e2b5fa-20221110-224801-275852-64-wasif-dev-ray/lib/python3.9/site-packages/grpc/_channel.py\", line 426, in __next__\n",
      "    return self._next()\n",
      "  File \"/home/conda/admin/807c952d1ebb2e498414dc4b80a90b96c80ef2ef433f07c7a7381b5e38e2b5fa-20221110-224801-275852-64-wasif-dev-ray/lib/python3.9/site-packages/grpc/_channel.py\", line 826, in _next\n",
      "    raise self\n",
      "grpc._channel._MultiThreadedRendezvous: <_MultiThreadedRendezvous of RPC that terminated with:\n",
      "\tstatus = StatusCode.NOT_FOUND\n",
      "\tdetails = \"Logstream proxy failed to connect. Channel for client b7d926d6cdb84782a43b5d3d997e970f not found.\"\n",
      "\tdebug_error_string = \"UNKNOWN:Error received from peer ipv4:172.20.14.107:10001 {grpc_message:\"Logstream proxy failed to connect. Channel for client b7d926d6cdb84782a43b5d3d997e970f not found.\", grpc_status:5, created_time:\"2022-11-18T02:58:59.45082049-06:00\"}\"\n",
      ">\n"
     ]
    }
   ],
   "source": [
    "slug_ann.score"
   ]
  },
  {
   "cell_type": "code",
   "execution_count": 16,
   "metadata": {},
   "outputs": [],
   "source": [
    "\n",
    "slug_xgb = SlugXGBoost('slug_xgb', X_train_scalar, X_test_scalar, y_train, y_test)\n",
    "slug_xgb.boosted_round = 50\n",
    "slug_xgb.n_trials = 1000\n"
   ]
  },
  {
   "cell_type": "code",
   "execution_count": 17,
   "metadata": {},
   "outputs": [
    {
     "name": "stderr",
     "output_type": "stream",
     "text": [
      "2022-11-17T13:52:14CST : INFO : slug_xgboost : __discover_model__ : 168 : Message : slug_xgb: Starting training for trials:1000, boosted rounds: 50, max depth: 10\n",
      "2022-11-17T13:52:44CST : INFO : slug_xgboost : __discover_model__ : 181 : Message : slug_xgb: Number of trials: 1000\n",
      "2022-11-17T13:52:44CST : INFO : slug_xgboost : __discover_model__ : 183 : Message : Best trial:611\n",
      "2022-11-17T13:52:44CST : INFO : slug_xgboost : __discover_model__ : 185 : Message :   Params: \n",
      "2022-11-17T13:52:44CST : INFO : slug_xgboost : __discover_model__ : 187 : Message :     lambda 0.019399866419368653\n",
      "2022-11-17T13:52:44CST : INFO : slug_xgboost : __discover_model__ : 187 : Message :     alpha 0.0020906308336665715\n",
      "2022-11-17T13:52:44CST : INFO : slug_xgboost : __discover_model__ : 187 : Message :     eta 0.3727957591519319\n",
      "2022-11-17T13:52:44CST : INFO : slug_xgboost : __discover_model__ : 187 : Message :     gamma 0.0033926747144862554\n",
      "2022-11-17T13:52:44CST : INFO : slug_xgboost : __discover_model__ : 187 : Message :     grow_policy depthwise\n",
      "2022-11-17T13:52:44CST : INFO : slug_xgboost : __discover_model__ : 187 : Message :     max_depth 1\n",
      "2022-11-17T13:52:44CST : INFO : slug_xgboost : __discover_model__ : 187 : Message :     colsample_bytree 0.40535590377994024\n",
      "2022-11-17T13:52:44CST : INFO : slug_xgboost : __discover_model__ : 187 : Message :     colsample_bylevel 0.13622641246114542\n",
      "2022-11-17T13:52:44CST : INFO : slug_xgboost : __discover_model__ : 187 : Message :     colsample_bynode 0.011459757087220435\n",
      "2022-11-17T13:52:44CST : INFO : slug_xgboost : __discover_model__ : 187 : Message :     max_bin 64\n",
      "2022-11-17T13:52:44CST : INFO : slug_xgboost : __discover_model__ : 207 : Message :   test r2 score: 0.4561661457619578\n",
      "2022-11-17T13:52:44CST : INFO : slug_xgboost : __discover_model__ : 212 : Message : slug_xgb: Model saved at /tmp/covid_autolearn/slug_xgb/saved/slug_xgb_611.pickle\n",
      "2022-11-17T13:52:44CST : INFO : slug_xgboost : load_score : 266 : Message : slug_xgb: scores loaded: [0.7656228978589188, 0.4561661457619578]\n"
     ]
    },
    {
     "data": {
      "text/plain": [
       "<xgboost.core.Booster at 0x7f52b7d9bca0>"
      ]
     },
     "execution_count": 17,
     "metadata": {},
     "output_type": "execute_result"
    }
   ],
   "source": [
    "slug_xgb.fetch_model()"
   ]
  },
  {
   "cell_type": "code",
   "execution_count": 36,
   "metadata": {},
   "outputs": [],
   "source": [
    "\n",
    "slug_rf = SlugRF('slug_rf', X_train_scalar, X_test_scalar, y_train, y_test)\n",
    "slug_rf.max_n_estimators = 5000\n",
    "slug_rf.n_trials = 100\n",
    "slug_rf.max_depth = 200"
   ]
  },
  {
   "cell_type": "code",
   "execution_count": 37,
   "metadata": {},
   "outputs": [
    {
     "name": "stderr",
     "output_type": "stream",
     "text": [
      "2022-11-17T14:56:36CST : INFO : slug_rf : __discover_model__ : 105 : Message : slug_rf: Starting training for trials:100, max depth: 200, max estimators 5000\n",
      "2022-11-17T14:59:59CST : INFO : slug_rf : __discover_model__ : 122 : Message : slug_rf: Number of trials: 100\n",
      "2022-11-17T14:59:59CST : INFO : slug_rf : __discover_model__ : 124 : Message : Best trial:74\n",
      "2022-11-17T14:59:59CST : INFO : slug_rf : __discover_model__ : 126 : Message :   Params: \n",
      "2022-11-17T14:59:59CST : INFO : slug_rf : __discover_model__ : 128 : Message :     n_estimators 62\n",
      "2022-11-17T14:59:59CST : INFO : slug_rf : __discover_model__ : 128 : Message :     max_depth 26\n",
      "2022-11-17T14:59:59CST : INFO : slug_rf : __discover_model__ : 128 : Message :     min_samples_split 52\n",
      "2022-11-17T14:59:59CST : INFO : slug_rf : __discover_model__ : 128 : Message :     min_samples_leaf 34\n",
      "2022-11-17T14:59:59CST : INFO : slug_rf : __discover_model__ : 142 : Message :   test r2 score: 0.3992977208659255\n",
      "2022-11-17T14:59:59CST : INFO : slug_rf : __discover_model__ : 147 : Message : slug_rf: Model saved at /tmp/covid_autolearn/slug_rf/saved/slug_rf_74.pickle\n"
     ]
    }
   ],
   "source": [
    "best_fit = slug_rf.fetch_model()"
   ]
  },
  {
   "cell_type": "code",
   "execution_count": 35,
   "metadata": {},
   "outputs": [
    {
     "data": {
      "text/plain": [
       "[0.5264056467634264, 0.39565984792823017]"
      ]
     },
     "execution_count": 35,
     "metadata": {},
     "output_type": "execute_result"
    }
   ],
   "source": [
    "slug_rf.score"
   ]
  },
  {
   "cell_type": "code",
   "execution_count": null,
   "metadata": {},
   "outputs": [],
   "source": []
  }
 ],
 "metadata": {
  "kernelspec": {
   "display_name": "admin-admin-wasif-dev-ray",
   "language": "python",
   "name": "conda-env-admin-admin-wasif-dev-ray-py"
  },
  "language_info": {
   "codemirror_mode": {
    "name": "ipython",
    "version": 3
   },
   "file_extension": ".py",
   "mimetype": "text/x-python",
   "name": "python",
   "nbconvert_exporter": "python",
   "pygments_lexer": "ipython3",
   "version": "3.9.13"
  },
  "vscode": {
   "interpreter": {
    "hash": "b6ff7914d2bc405bfa61a835d0564ba294eb5f3f9b4c24865f45d9397593b123"
   }
  }
 },
 "nbformat": 4,
 "nbformat_minor": 4
}
