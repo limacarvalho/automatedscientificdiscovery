{
 "cells": [
  {
   "cell_type": "code",
   "execution_count": 1,
   "metadata": {},
   "outputs": [],
   "source": [
    "# !echo $RAYCLUSTER_AUTOSCALER_HEAD_SVC_PORT_10001_TCP_ADDR\n",
    "# !echo $RAYCLUSTER_AUTOSCALER_HEAD_SVC_PORT_10001_TCP_PORT"
   ]
  },
  {
   "cell_type": "code",
   "execution_count": 2,
   "metadata": {},
   "outputs": [],
   "source": [
    "import sys; sys.path.insert(0, '../..') # add parent folder path where lib folder is"
   ]
  },
  {
   "cell_type": "code",
   "execution_count": 3,
   "metadata": {},
   "outputs": [],
   "source": [
    "import ray\n",
    "import time"
   ]
  },
  {
   "cell_type": "code",
   "execution_count": 4,
   "metadata": {},
   "outputs": [],
   "source": [
    "# from utils import logger"
   ]
  },
  {
   "cell_type": "code",
   "execution_count": 6,
   "metadata": {},
   "outputs": [
    {
     "name": "stdout",
     "output_type": "stream",
     "text": [
      "The autoreload extension is already loaded. To reload it, use:\n",
      "  %reload_ext autoreload\n"
     ]
    }
   ],
   "source": [
    "%load_ext autoreload\n",
    "%autoreload 2\n",
    "\n",
    "from utils import helper, config, rayer\n",
    "from ml.models.base.v2.brisk_bagging import BriskBagging\n",
    "\n",
    "from sklearn.preprocessing import StandardScaler\n",
    "from sklearn.model_selection import train_test_split\n",
    "\n",
    "from sklearn.metrics import r2_score, mean_squared_error\n",
    "from sklearn.metrics import f1_score, roc_auc_score, precision_score, recall_score\n",
    "from ml.models import common\n",
    "\n"
   ]
  },
  {
   "cell_type": "code",
   "execution_count": 7,
   "metadata": {},
   "outputs": [],
   "source": [
    "rayer.get_global_cluster(num_cpus=4)"
   ]
  },
  {
   "cell_type": "code",
   "execution_count": 8,
   "metadata": {},
   "outputs": [
    {
     "name": "stdout",
     "output_type": "stream",
     "text": [
      "======== Autoscaler status: 2022-11-22 12:09:13.951432 ========\n",
      "Node status\n",
      "---------------------------------------------------------------\n",
      "Healthy:\n",
      " 1 head-group\n",
      " 1 small-group\n",
      "Pending:\n",
      " (no pending nodes)\n",
      "Recent failures:\n",
      " (no failures)\n",
      "\n",
      "Resources\n",
      "---------------------------------------------------------------\n",
      "Usage:\n",
      " 0.0/3.0 CPU\n",
      " 0.00/9.313 GiB memory\n",
      " 0.00/2.696 GiB object_store_memory\n",
      "\n",
      "Demands:\n",
      " (no resource demands)\n",
      "\u001b[0m"
     ]
    }
   ],
   "source": [
    "!ray status --address='raycluster-autoscaler-head-svc.dev.svc.cluster.local:6379'"
   ]
  },
  {
   "cell_type": "code",
   "execution_count": 8,
   "metadata": {},
   "outputs": [],
   "source": [
    "# ray.autoscaler.sdk.request_resources(num_cpus=0)"
   ]
  },
  {
   "cell_type": "code",
   "execution_count": 9,
   "metadata": {},
   "outputs": [
    {
     "name": "stdout",
     "output_type": "stream",
     "text": [
      "\u001b[2m\u001b[1m\u001b[36m(scheduler +3s)\u001b[0m Tip: use `ray status` to view detailed cluster status. To disable these messages, set RAY_SCHEDULER_EVENTS=0.\n",
      "\u001b[2m\u001b[1m\u001b[36m(scheduler +3s)\u001b[0m Adding 1 node(s) of type small-group.\n"
     ]
    }
   ],
   "source": [
    "X, y = helper.get_covid_dataset()\n",
    "X = X.drop(['location'], axis = 1)\n",
    "\n",
    "X_train, X_test, y_train, y_test = train_test_split(X, y, test_size=0.33)\n",
    "\n",
    "X_train_scalar = StandardScaler().fit_transform(X_train.copy())\n",
    "X_test_scalar = StandardScaler().fit_transform(X_test.copy())\n"
   ]
  },
  {
   "cell_type": "code",
   "execution_count": 16,
   "metadata": {},
   "outputs": [],
   "source": [
    "\n",
    "brisk_bagging = BriskBagging('brisk_xgb')\n",
    "brisk_bagging.boosted_round = 100\n",
    "brisk_bagging.n_trials = 50\n"
   ]
  },
  {
   "cell_type": "code",
   "execution_count": 17,
   "metadata": {},
   "outputs": [
    {
     "name": "stderr",
     "output_type": "stream",
     "text": [
      "2022-11-22T12:12:21CST : INFO : brisk_bagging : __discover_model__ : 94 : Message : brisk_xgb: Starting training for trials:50, n_estimators  30\n",
      "2022-11-22T12:12:22CST : INFO : brisk_bagging : __discover_model__ : 112 : Message : brisk_xgb: Number of trials: 50\n",
      "2022-11-22T12:12:22CST : INFO : brisk_bagging : __discover_model__ : 114 : Message : Best trial:40\n",
      "2022-11-22T12:12:22CST : INFO : brisk_bagging : __discover_model__ : 116 : Message :   Params: \n",
      "2022-11-22T12:12:22CST : INFO : brisk_bagging : __discover_model__ : 118 : Message :     n_estimators 10\n",
      "2022-11-22T12:12:22CST : INFO : brisk_bagging : __discover_model__ : 132 : Message :   test r2 score: 0.7444660486202793\n",
      "2022-11-22T12:12:22CST : INFO : brisk_bagging : __discover_model__ : 137 : Message : brisk_xgb: Model saved at /tmp/covid_autolearn/brisk_xgb/saved/brisk_xgb_40.pickle\n"
     ]
    },
    {
     "data": {
      "text/html": [
       "<style>#sk-container-id-1 {color: black;background-color: white;}#sk-container-id-1 pre{padding: 0;}#sk-container-id-1 div.sk-toggleable {background-color: white;}#sk-container-id-1 label.sk-toggleable__label {cursor: pointer;display: block;width: 100%;margin-bottom: 0;padding: 0.3em;box-sizing: border-box;text-align: center;}#sk-container-id-1 label.sk-toggleable__label-arrow:before {content: \"▸\";float: left;margin-right: 0.25em;color: #696969;}#sk-container-id-1 label.sk-toggleable__label-arrow:hover:before {color: black;}#sk-container-id-1 div.sk-estimator:hover label.sk-toggleable__label-arrow:before {color: black;}#sk-container-id-1 div.sk-toggleable__content {max-height: 0;max-width: 0;overflow: hidden;text-align: left;background-color: #f0f8ff;}#sk-container-id-1 div.sk-toggleable__content pre {margin: 0.2em;color: black;border-radius: 0.25em;background-color: #f0f8ff;}#sk-container-id-1 input.sk-toggleable__control:checked~div.sk-toggleable__content {max-height: 200px;max-width: 100%;overflow: auto;}#sk-container-id-1 input.sk-toggleable__control:checked~label.sk-toggleable__label-arrow:before {content: \"▾\";}#sk-container-id-1 div.sk-estimator input.sk-toggleable__control:checked~label.sk-toggleable__label {background-color: #d4ebff;}#sk-container-id-1 div.sk-label input.sk-toggleable__control:checked~label.sk-toggleable__label {background-color: #d4ebff;}#sk-container-id-1 input.sk-hidden--visually {border: 0;clip: rect(1px 1px 1px 1px);clip: rect(1px, 1px, 1px, 1px);height: 1px;margin: -1px;overflow: hidden;padding: 0;position: absolute;width: 1px;}#sk-container-id-1 div.sk-estimator {font-family: monospace;background-color: #f0f8ff;border: 1px dotted black;border-radius: 0.25em;box-sizing: border-box;margin-bottom: 0.5em;}#sk-container-id-1 div.sk-estimator:hover {background-color: #d4ebff;}#sk-container-id-1 div.sk-parallel-item::after {content: \"\";width: 100%;border-bottom: 1px solid gray;flex-grow: 1;}#sk-container-id-1 div.sk-label:hover label.sk-toggleable__label {background-color: #d4ebff;}#sk-container-id-1 div.sk-serial::before {content: \"\";position: absolute;border-left: 1px solid gray;box-sizing: border-box;top: 0;bottom: 0;left: 50%;z-index: 0;}#sk-container-id-1 div.sk-serial {display: flex;flex-direction: column;align-items: center;background-color: white;padding-right: 0.2em;padding-left: 0.2em;position: relative;}#sk-container-id-1 div.sk-item {position: relative;z-index: 1;}#sk-container-id-1 div.sk-parallel {display: flex;align-items: stretch;justify-content: center;background-color: white;position: relative;}#sk-container-id-1 div.sk-item::before, #sk-container-id-1 div.sk-parallel-item::before {content: \"\";position: absolute;border-left: 1px solid gray;box-sizing: border-box;top: 0;bottom: 0;left: 50%;z-index: -1;}#sk-container-id-1 div.sk-parallel-item {display: flex;flex-direction: column;z-index: 1;position: relative;background-color: white;}#sk-container-id-1 div.sk-parallel-item:first-child::after {align-self: flex-end;width: 50%;}#sk-container-id-1 div.sk-parallel-item:last-child::after {align-self: flex-start;width: 50%;}#sk-container-id-1 div.sk-parallel-item:only-child::after {width: 0;}#sk-container-id-1 div.sk-dashed-wrapped {border: 1px dashed gray;margin: 0 0.4em 0.5em 0.4em;box-sizing: border-box;padding-bottom: 0.4em;background-color: white;}#sk-container-id-1 div.sk-label label {font-family: monospace;font-weight: bold;display: inline-block;line-height: 1.2em;}#sk-container-id-1 div.sk-label-container {text-align: center;}#sk-container-id-1 div.sk-container {/* jupyter's `normalize.less` sets `[hidden] { display: none; }` but bootstrap.min.css set `[hidden] { display: none !important; }` so we also need the `!important` here to be able to override the default hidden behavior on the sphinx rendered scikit-learn.org. See: https://github.com/scikit-learn/scikit-learn/issues/21755 */display: inline-block !important;position: relative;}#sk-container-id-1 div.sk-text-repr-fallback {display: none;}</style><div id=\"sk-container-id-1\" class=\"sk-top-container\"><div class=\"sk-text-repr-fallback\"><pre>BaggingRegressor()</pre><b>In a Jupyter environment, please rerun this cell to show the HTML representation or trust the notebook. <br />On GitHub, the HTML representation is unable to render, please try loading this page with nbviewer.org.</b></div><div class=\"sk-container\" hidden><div class=\"sk-item\"><div class=\"sk-estimator sk-toggleable\"><input class=\"sk-toggleable__control sk-hidden--visually\" id=\"sk-estimator-id-1\" type=\"checkbox\" checked><label for=\"sk-estimator-id-1\" class=\"sk-toggleable__label sk-toggleable__label-arrow\">BaggingRegressor</label><div class=\"sk-toggleable__content\"><pre>BaggingRegressor()</pre></div></div></div></div></div>"
      ],
      "text/plain": [
       "BaggingRegressor()"
      ]
     },
     "execution_count": 17,
     "metadata": {},
     "output_type": "execute_result"
    }
   ],
   "source": [
    "brisk_bagging.fetch_model(X_train_scalar, X_test_scalar, y_train, y_test)"
   ]
  },
  {
   "cell_type": "code",
   "execution_count": 18,
   "metadata": {},
   "outputs": [
    {
     "data": {
      "text/plain": [
       "[0.9324550152093946, 0.7444660486202793]"
      ]
     },
     "execution_count": 18,
     "metadata": {},
     "output_type": "execute_result"
    },
    {
     "name": "stdout",
     "output_type": "stream",
     "text": [
      "\u001b[2m\u001b[1m\u001b[36m(scheduler +3m41s)\u001b[0m Resized to 5 CPUs.\n"
     ]
    }
   ],
   "source": [
    "brisk_bagging.score"
   ]
  },
  {
   "cell_type": "code",
   "execution_count": 16,
   "metadata": {},
   "outputs": [],
   "source": [
    "\n",
    "slug_xgb = SlugXGBoost('slug_xgb', X_train_scalar, X_test_scalar, y_train, y_test)\n",
    "slug_xgb.boosted_round = 50\n",
    "slug_xgb.n_trials = 1000\n"
   ]
  },
  {
   "cell_type": "code",
   "execution_count": 17,
   "metadata": {},
   "outputs": [
    {
     "name": "stderr",
     "output_type": "stream",
     "text": [
      "2022-11-17T13:52:14CST : INFO : slug_xgboost : __discover_model__ : 168 : Message : slug_xgb: Starting training for trials:1000, boosted rounds: 50, max depth: 10\n",
      "2022-11-17T13:52:44CST : INFO : slug_xgboost : __discover_model__ : 181 : Message : slug_xgb: Number of trials: 1000\n",
      "2022-11-17T13:52:44CST : INFO : slug_xgboost : __discover_model__ : 183 : Message : Best trial:611\n",
      "2022-11-17T13:52:44CST : INFO : slug_xgboost : __discover_model__ : 185 : Message :   Params: \n",
      "2022-11-17T13:52:44CST : INFO : slug_xgboost : __discover_model__ : 187 : Message :     lambda 0.019399866419368653\n",
      "2022-11-17T13:52:44CST : INFO : slug_xgboost : __discover_model__ : 187 : Message :     alpha 0.0020906308336665715\n",
      "2022-11-17T13:52:44CST : INFO : slug_xgboost : __discover_model__ : 187 : Message :     eta 0.3727957591519319\n",
      "2022-11-17T13:52:44CST : INFO : slug_xgboost : __discover_model__ : 187 : Message :     gamma 0.0033926747144862554\n",
      "2022-11-17T13:52:44CST : INFO : slug_xgboost : __discover_model__ : 187 : Message :     grow_policy depthwise\n",
      "2022-11-17T13:52:44CST : INFO : slug_xgboost : __discover_model__ : 187 : Message :     max_depth 1\n",
      "2022-11-17T13:52:44CST : INFO : slug_xgboost : __discover_model__ : 187 : Message :     colsample_bytree 0.40535590377994024\n",
      "2022-11-17T13:52:44CST : INFO : slug_xgboost : __discover_model__ : 187 : Message :     colsample_bylevel 0.13622641246114542\n",
      "2022-11-17T13:52:44CST : INFO : slug_xgboost : __discover_model__ : 187 : Message :     colsample_bynode 0.011459757087220435\n",
      "2022-11-17T13:52:44CST : INFO : slug_xgboost : __discover_model__ : 187 : Message :     max_bin 64\n",
      "2022-11-17T13:52:44CST : INFO : slug_xgboost : __discover_model__ : 207 : Message :   test r2 score: 0.4561661457619578\n",
      "2022-11-17T13:52:44CST : INFO : slug_xgboost : __discover_model__ : 212 : Message : slug_xgb: Model saved at /tmp/covid_autolearn/slug_xgb/saved/slug_xgb_611.pickle\n",
      "2022-11-17T13:52:44CST : INFO : slug_xgboost : load_score : 266 : Message : slug_xgb: scores loaded: [0.7656228978589188, 0.4561661457619578]\n"
     ]
    },
    {
     "data": {
      "text/plain": [
       "<xgboost.core.Booster at 0x7f52b7d9bca0>"
      ]
     },
     "execution_count": 17,
     "metadata": {},
     "output_type": "execute_result"
    }
   ],
   "source": [
    "slug_xgb.fetch_model()"
   ]
  },
  {
   "cell_type": "code",
   "execution_count": 36,
   "metadata": {},
   "outputs": [],
   "source": [
    "\n",
    "slug_rf = SlugRF('slug_rf', X_train_scalar, X_test_scalar, y_train, y_test)\n",
    "slug_rf.max_n_estimators = 5000\n",
    "slug_rf.n_trials = 100\n",
    "slug_rf.max_depth = 200"
   ]
  },
  {
   "cell_type": "code",
   "execution_count": 37,
   "metadata": {},
   "outputs": [
    {
     "name": "stderr",
     "output_type": "stream",
     "text": [
      "2022-11-17T14:56:36CST : INFO : slug_rf : __discover_model__ : 105 : Message : slug_rf: Starting training for trials:100, max depth: 200, max estimators 5000\n",
      "2022-11-17T14:59:59CST : INFO : slug_rf : __discover_model__ : 122 : Message : slug_rf: Number of trials: 100\n",
      "2022-11-17T14:59:59CST : INFO : slug_rf : __discover_model__ : 124 : Message : Best trial:74\n",
      "2022-11-17T14:59:59CST : INFO : slug_rf : __discover_model__ : 126 : Message :   Params: \n",
      "2022-11-17T14:59:59CST : INFO : slug_rf : __discover_model__ : 128 : Message :     n_estimators 62\n",
      "2022-11-17T14:59:59CST : INFO : slug_rf : __discover_model__ : 128 : Message :     max_depth 26\n",
      "2022-11-17T14:59:59CST : INFO : slug_rf : __discover_model__ : 128 : Message :     min_samples_split 52\n",
      "2022-11-17T14:59:59CST : INFO : slug_rf : __discover_model__ : 128 : Message :     min_samples_leaf 34\n",
      "2022-11-17T14:59:59CST : INFO : slug_rf : __discover_model__ : 142 : Message :   test r2 score: 0.3992977208659255\n",
      "2022-11-17T14:59:59CST : INFO : slug_rf : __discover_model__ : 147 : Message : slug_rf: Model saved at /tmp/covid_autolearn/slug_rf/saved/slug_rf_74.pickle\n"
     ]
    }
   ],
   "source": [
    "best_fit = slug_rf.fetch_model()"
   ]
  },
  {
   "cell_type": "code",
   "execution_count": 35,
   "metadata": {},
   "outputs": [
    {
     "data": {
      "text/plain": [
       "[0.5264056467634264, 0.39565984792823017]"
      ]
     },
     "execution_count": 35,
     "metadata": {},
     "output_type": "execute_result"
    }
   ],
   "source": [
    "slug_rf.score"
   ]
  },
  {
   "cell_type": "code",
   "execution_count": null,
   "metadata": {},
   "outputs": [],
   "source": []
  }
 ],
 "metadata": {
  "kernelspec": {
   "display_name": "admin-admin-wasif-dev-ray",
   "language": "python",
   "name": "conda-env-admin-admin-wasif-dev-ray-py"
  },
  "language_info": {
   "codemirror_mode": {
    "name": "ipython",
    "version": 3
   },
   "file_extension": ".py",
   "mimetype": "text/x-python",
   "name": "python",
   "nbconvert_exporter": "python",
   "pygments_lexer": "ipython3",
   "version": "3.9.13"
  },
  "vscode": {
   "interpreter": {
    "hash": "b6ff7914d2bc405bfa61a835d0564ba294eb5f3f9b4c24865f45d9397593b123"
   }
  }
 },
 "nbformat": 4,
 "nbformat_minor": 4
}
