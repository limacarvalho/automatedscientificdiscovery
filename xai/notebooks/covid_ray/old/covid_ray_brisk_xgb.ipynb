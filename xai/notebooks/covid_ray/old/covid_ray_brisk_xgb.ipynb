{
 "cells": [
  {
   "cell_type": "code",
   "execution_count": 1,
   "metadata": {},
   "outputs": [],
   "source": [
    "# !echo $RAYCLUSTER_AUTOSCALER_HEAD_SVC_PORT_10001_TCP_ADDR\n",
    "# !echo $RAYCLUSTER_AUTOSCALER_HEAD_SVC_PORT_10001_TCP_PORT"
   ]
  },
  {
   "cell_type": "code",
   "execution_count": 2,
   "metadata": {},
   "outputs": [],
   "source": [
    "import sys; sys.path.insert(0, '../..') # add parent folder path where lib folder is"
   ]
  },
  {
   "cell_type": "code",
   "execution_count": 3,
   "metadata": {},
   "outputs": [],
   "source": [
    "import ray\n",
    "import time"
   ]
  },
  {
   "cell_type": "code",
   "execution_count": 4,
   "metadata": {},
   "outputs": [],
   "source": [
    "# from utils import logger"
   ]
  },
  {
   "cell_type": "code",
   "execution_count": 10,
   "metadata": {},
   "outputs": [
    {
     "name": "stdout",
     "output_type": "stream",
     "text": [
      "The autoreload extension is already loaded. To reload it, use:\n",
      "  %reload_ext autoreload\n"
     ]
    }
   ],
   "source": [
    "%load_ext autoreload\n",
    "%autoreload 2\n",
    "\n",
    "import pandas as pd\n",
    "from utils import helper, config, rayer\n",
    "from ml.models.base.brisk_xgboost import BriskXGBoost\n",
    "\n",
    "from sklearn.preprocessing import StandardScaler\n",
    "from sklearn.model_selection import train_test_split\n",
    "\n",
    "from sklearn.metrics import r2_score, mean_squared_error\n",
    "from sklearn.metrics import f1_score, roc_auc_score, precision_score, recall_score\n",
    "from ml.models import common\n",
    "from sklearn.preprocessing import StandardScaler\n"
   ]
  },
  {
   "cell_type": "code",
   "execution_count": 6,
   "metadata": {},
   "outputs": [],
   "source": [
    "rayer.get_global_cluster(num_cpus=4)"
   ]
  },
  {
   "cell_type": "code",
   "execution_count": 7,
   "metadata": {},
   "outputs": [
    {
     "name": "stdout",
     "output_type": "stream",
     "text": [
      "======== Autoscaler status: 2022-11-24 02:08:32.811821 ========\n",
      "Node status\n",
      "---------------------------------------------------------------\n",
      "Healthy:\n",
      " 1 head-group\n",
      " 2 small-group\n",
      "Pending:\n",
      " (no pending nodes)\n",
      "Recent failures:\n",
      " (no failures)\n",
      "\n",
      "Resources\n",
      "---------------------------------------------------------------\n",
      "Usage:\n",
      " 0.0/5.0 CPU\n",
      " 0.00/16.764 GiB memory\n",
      " 0.00/4.905 GiB object_store_memory\n",
      "\n",
      "Demands:\n",
      " {'CPU': 1}: 4+ from request_resources()\n",
      "\u001b[0m"
     ]
    }
   ],
   "source": [
    "!ray status --address='raycluster-autoscaler-head-svc.dev.svc.cluster.local:6379'"
   ]
  },
  {
   "cell_type": "code",
   "execution_count": 8,
   "metadata": {},
   "outputs": [],
   "source": [
    "# ray.autoscaler.sdk.request_resources(num_cpus=0)"
   ]
  },
  {
   "cell_type": "code",
   "execution_count": 11,
   "metadata": {},
   "outputs": [],
   "source": [
    "X, y = helper.get_covid_dataset()\n",
    "X = X.drop(['location'], axis = 1)\n",
    "\n",
    "X_train, X_test, y_train, y_test = train_test_split(X, y, test_size=0.33)\n",
    "\n",
    "ss = StandardScaler()\n",
    "X_train_scalar = pd.DataFrame(ss.fit_transform(X_train), columns = X_train.columns)\n",
    "X_test_scalar = pd.DataFrame(ss.fit_transform(X_test), columns = X_test.columns)\n"
   ]
  },
  {
   "cell_type": "code",
   "execution_count": 20,
   "metadata": {},
   "outputs": [],
   "source": [
    "\n",
    "brisk_xgb = BriskXGBoost('brisk_xgb')\n",
    "brisk_xgb.boosted_round = 100\n",
    "brisk_xgb.n_trials = 5000\n"
   ]
  },
  {
   "cell_type": "code",
   "execution_count": 21,
   "metadata": {},
   "outputs": [
    {
     "name": "stderr",
     "output_type": "stream",
     "text": [
      "2022-11-17T13:53:36CST : INFO : brisk_xgboost : __discover_model__ : 115 : Message : brisk_xgb: Starting training for trials:5000, boosted rounds: 100, max depth: 10\n",
      "2022-11-17T13:59:05CST : INFO : brisk_xgboost : __discover_model__ : 125 : Message : brisk_xgb: Number of trials: 5000\n",
      "2022-11-17T13:59:05CST : INFO : brisk_xgboost : __discover_model__ : 127 : Message : Best trial:4465\n",
      "2022-11-17T13:59:05CST : INFO : brisk_xgboost : __discover_model__ : 129 : Message :   Params: \n",
      "2022-11-17T13:59:05CST : INFO : brisk_xgboost : __discover_model__ : 131 : Message :     booster gbtree\n",
      "2022-11-17T13:59:05CST : INFO : brisk_xgboost : __discover_model__ : 131 : Message :     lambda 0.033295017028611644\n",
      "2022-11-17T13:59:05CST : INFO : brisk_xgboost : __discover_model__ : 131 : Message :     alpha 0.013050765243725728\n",
      "2022-11-17T13:59:05CST : INFO : brisk_xgboost : __discover_model__ : 131 : Message :     max_depth 1\n",
      "2022-11-17T13:59:05CST : INFO : brisk_xgboost : __discover_model__ : 131 : Message :     eta 0.15897466227516274\n",
      "2022-11-17T13:59:05CST : INFO : brisk_xgboost : __discover_model__ : 131 : Message :     gamma 0.02310632690312247\n",
      "2022-11-17T13:59:05CST : INFO : brisk_xgboost : __discover_model__ : 131 : Message :     grow_policy lossguide\n",
      "2022-11-17T13:59:05CST : INFO : brisk_xgboost : __discover_model__ : 148 : Message :   test r2 score: 0.5032964409625675\n",
      "2022-11-17T13:59:05CST : INFO : brisk_xgboost : __discover_model__ : 156 : Message : brisk_xgb: Model saved at /tmp/covid_autolearn/brisk_xgb/saved/brisk_xgb_4465.pickle\n",
      "2022-11-17T13:59:05CST : INFO : brisk_xgboost : load_score : 211 : Message : brisk_xgb: scores loaded: [0.8381079246868741, 0.5032964409625675]\n"
     ]
    },
    {
     "data": {
      "text/plain": [
       "<xgboost.core.Booster at 0x7f52b7f1d280>"
      ]
     },
     "execution_count": 21,
     "metadata": {},
     "output_type": "execute_result"
    }
   ],
   "source": [
    "brisk_xgb.fetch_model()"
   ]
  },
  {
   "cell_type": "code",
   "execution_count": 16,
   "metadata": {},
   "outputs": [],
   "source": [
    "\n",
    "slug_xgb = SlugXGBoost('slug_xgb', X_train_scalar, X_test_scalar, y_train, y_test)\n",
    "slug_xgb.boosted_round = 50\n",
    "slug_xgb.n_trials = 1000\n"
   ]
  },
  {
   "cell_type": "code",
   "execution_count": 17,
   "metadata": {},
   "outputs": [
    {
     "name": "stderr",
     "output_type": "stream",
     "text": [
      "2022-11-17T13:52:14CST : INFO : slug_xgboost : __discover_model__ : 168 : Message : slug_xgb: Starting training for trials:1000, boosted rounds: 50, max depth: 10\n",
      "2022-11-17T13:52:44CST : INFO : slug_xgboost : __discover_model__ : 181 : Message : slug_xgb: Number of trials: 1000\n",
      "2022-11-17T13:52:44CST : INFO : slug_xgboost : __discover_model__ : 183 : Message : Best trial:611\n",
      "2022-11-17T13:52:44CST : INFO : slug_xgboost : __discover_model__ : 185 : Message :   Params: \n",
      "2022-11-17T13:52:44CST : INFO : slug_xgboost : __discover_model__ : 187 : Message :     lambda 0.019399866419368653\n",
      "2022-11-17T13:52:44CST : INFO : slug_xgboost : __discover_model__ : 187 : Message :     alpha 0.0020906308336665715\n",
      "2022-11-17T13:52:44CST : INFO : slug_xgboost : __discover_model__ : 187 : Message :     eta 0.3727957591519319\n",
      "2022-11-17T13:52:44CST : INFO : slug_xgboost : __discover_model__ : 187 : Message :     gamma 0.0033926747144862554\n",
      "2022-11-17T13:52:44CST : INFO : slug_xgboost : __discover_model__ : 187 : Message :     grow_policy depthwise\n",
      "2022-11-17T13:52:44CST : INFO : slug_xgboost : __discover_model__ : 187 : Message :     max_depth 1\n",
      "2022-11-17T13:52:44CST : INFO : slug_xgboost : __discover_model__ : 187 : Message :     colsample_bytree 0.40535590377994024\n",
      "2022-11-17T13:52:44CST : INFO : slug_xgboost : __discover_model__ : 187 : Message :     colsample_bylevel 0.13622641246114542\n",
      "2022-11-17T13:52:44CST : INFO : slug_xgboost : __discover_model__ : 187 : Message :     colsample_bynode 0.011459757087220435\n",
      "2022-11-17T13:52:44CST : INFO : slug_xgboost : __discover_model__ : 187 : Message :     max_bin 64\n",
      "2022-11-17T13:52:44CST : INFO : slug_xgboost : __discover_model__ : 207 : Message :   test r2 score: 0.4561661457619578\n",
      "2022-11-17T13:52:44CST : INFO : slug_xgboost : __discover_model__ : 212 : Message : slug_xgb: Model saved at /tmp/covid_autolearn/slug_xgb/saved/slug_xgb_611.pickle\n",
      "2022-11-17T13:52:44CST : INFO : slug_xgboost : load_score : 266 : Message : slug_xgb: scores loaded: [0.7656228978589188, 0.4561661457619578]\n"
     ]
    },
    {
     "data": {
      "text/plain": [
       "<xgboost.core.Booster at 0x7f52b7d9bca0>"
      ]
     },
     "execution_count": 17,
     "metadata": {},
     "output_type": "execute_result"
    }
   ],
   "source": [
    "slug_xgb.fetch_model()"
   ]
  },
  {
   "cell_type": "code",
   "execution_count": 36,
   "metadata": {},
   "outputs": [],
   "source": [
    "\n",
    "slug_rf = SlugRF('slug_rf', X_train_scalar, X_test_scalar, y_train, y_test)\n",
    "slug_rf.max_n_estimators = 5000\n",
    "slug_rf.n_trials = 100\n",
    "slug_rf.max_depth = 200"
   ]
  },
  {
   "cell_type": "code",
   "execution_count": 37,
   "metadata": {},
   "outputs": [
    {
     "name": "stderr",
     "output_type": "stream",
     "text": [
      "2022-11-17T14:56:36CST : INFO : slug_rf : __discover_model__ : 105 : Message : slug_rf: Starting training for trials:100, max depth: 200, max estimators 5000\n",
      "2022-11-17T14:59:59CST : INFO : slug_rf : __discover_model__ : 122 : Message : slug_rf: Number of trials: 100\n",
      "2022-11-17T14:59:59CST : INFO : slug_rf : __discover_model__ : 124 : Message : Best trial:74\n",
      "2022-11-17T14:59:59CST : INFO : slug_rf : __discover_model__ : 126 : Message :   Params: \n",
      "2022-11-17T14:59:59CST : INFO : slug_rf : __discover_model__ : 128 : Message :     n_estimators 62\n",
      "2022-11-17T14:59:59CST : INFO : slug_rf : __discover_model__ : 128 : Message :     max_depth 26\n",
      "2022-11-17T14:59:59CST : INFO : slug_rf : __discover_model__ : 128 : Message :     min_samples_split 52\n",
      "2022-11-17T14:59:59CST : INFO : slug_rf : __discover_model__ : 128 : Message :     min_samples_leaf 34\n",
      "2022-11-17T14:59:59CST : INFO : slug_rf : __discover_model__ : 142 : Message :   test r2 score: 0.3992977208659255\n",
      "2022-11-17T14:59:59CST : INFO : slug_rf : __discover_model__ : 147 : Message : slug_rf: Model saved at /tmp/covid_autolearn/slug_rf/saved/slug_rf_74.pickle\n"
     ]
    }
   ],
   "source": [
    "best_fit = slug_rf.fetch_model()"
   ]
  },
  {
   "cell_type": "code",
   "execution_count": 35,
   "metadata": {},
   "outputs": [
    {
     "data": {
      "text/plain": [
       "[0.5264056467634264, 0.39565984792823017]"
      ]
     },
     "execution_count": 35,
     "metadata": {},
     "output_type": "execute_result"
    }
   ],
   "source": [
    "slug_rf.score"
   ]
  },
  {
   "cell_type": "code",
   "execution_count": null,
   "metadata": {},
   "outputs": [],
   "source": []
  }
 ],
 "metadata": {
  "kernelspec": {
   "display_name": "admin-admin-wasif-dev-ray",
   "language": "python",
   "name": "conda-env-admin-admin-wasif-dev-ray-py"
  },
  "language_info": {
   "codemirror_mode": {
    "name": "ipython",
    "version": 3
   },
   "file_extension": ".py",
   "mimetype": "text/x-python",
   "name": "python",
   "nbconvert_exporter": "python",
   "pygments_lexer": "ipython3",
   "version": "3.9.13"
  },
  "vscode": {
   "interpreter": {
    "hash": "b6ff7914d2bc405bfa61a835d0564ba294eb5f3f9b4c24865f45d9397593b123"
   }
  }
 },
 "nbformat": 4,
 "nbformat_minor": 4
}
