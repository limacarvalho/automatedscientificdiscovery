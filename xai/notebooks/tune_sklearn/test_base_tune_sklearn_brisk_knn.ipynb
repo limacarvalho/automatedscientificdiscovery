{
 "cells": [
  {
   "cell_type": "code",
   "execution_count": 1,
   "id": "6e22ae6c-f298-4c9a-b5ac-8a648578c728",
   "metadata": {},
   "outputs": [
    {
     "data": {
      "text/html": [
       "<style type='text/css'>\n",
       ".datatable table.frame { margin-bottom: 0; }\n",
       ".datatable table.frame thead { border-bottom: none; }\n",
       ".datatable table.frame tr.coltypes td {  color: #FFFFFF;  line-height: 6px;  padding: 0 0.5em;}\n",
       ".datatable .bool    { background: #DDDD99; }\n",
       ".datatable .object  { background: #565656; }\n",
       ".datatable .int     { background: #5D9E5D; }\n",
       ".datatable .float   { background: #4040CC; }\n",
       ".datatable .str     { background: #CC4040; }\n",
       ".datatable .time    { background: #40CC40; }\n",
       ".datatable .row_index {  background: var(--jp-border-color3);  border-right: 1px solid var(--jp-border-color0);  color: var(--jp-ui-font-color3);  font-size: 9px;}\n",
       ".datatable .frame tbody td { text-align: left; }\n",
       ".datatable .frame tr.coltypes .row_index {  background: var(--jp-border-color0);}\n",
       ".datatable th:nth-child(2) { padding-left: 12px; }\n",
       ".datatable .hellipsis {  color: var(--jp-cell-editor-border-color);}\n",
       ".datatable .vellipsis {  background: var(--jp-layout-color0);  color: var(--jp-cell-editor-border-color);}\n",
       ".datatable .na {  color: var(--jp-cell-editor-border-color);  font-size: 80%;}\n",
       ".datatable .sp {  opacity: 0.25;}\n",
       ".datatable .footer { font-size: 9px; }\n",
       ".datatable .frame_dimensions {  background: var(--jp-border-color3);  border-top: 1px solid var(--jp-border-color0);  color: var(--jp-ui-font-color3);  display: inline-block;  opacity: 0.6;  padding: 1px 10px 1px 5px;}\n",
       ".datatable .frame thead tr.colnames {  background-image: url('data:image/png;base64,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');  background-repeat: repeat-x;  background-size: 14px;  height: 28px;}\n",
       "</style>\n"
      ],
      "text/plain": [
       "<IPython.core.display.HTML object>"
      ]
     },
     "metadata": {},
     "output_type": "display_data"
    }
   ],
   "source": [
    "import sys; sys.path.insert(0, '../..') # add parent folder path where lib folder is\n",
    "\n",
    "%load_ext autoreload\n",
    "%autoreload 2\n",
    "\n",
    "from utils import helper, config, rayer, kaggle_dataset_helper\n",
    "\n",
    "from sklearn.preprocessing import StandardScaler\n",
    "from sklearn.model_selection import train_test_split\n",
    "\n",
    "from ml.models.base.tune.brisk_knn import BriskKNN\n",
    "\n",
    "from sklearn.metrics import make_scorer\n",
    "from sklearn.metrics import r2_score, mean_squared_error\n",
    "from sklearn.metrics import f1_score, roc_auc_score, precision_score, recall_score\n",
    "from ml.models import common\n",
    "\n",
    "import ray\n",
    "\n",
    "\n",
    "import time\n",
    "import pandas as pd\n",
    "import pyarrow.fs"
   ]
  },
  {
   "cell_type": "code",
   "execution_count": 2,
   "id": "d1862778-af52-49d2-9130-9a6a6a7a8f0e",
   "metadata": {},
   "outputs": [],
   "source": [
    "rayer.get_global_cluster()"
   ]
  },
  {
   "cell_type": "code",
   "execution_count": null,
   "id": "b3f70169",
   "metadata": {},
   "outputs": [],
   "source": [
    "\n",
    "def use_tokamat_ds():\n",
    "    df = helper.get_tokamat_dataset()\n",
    "    df = df.reset_index()\n",
    "\n",
    "    df = common.label_encode(df)\n",
    "    df = df.fillna(-1)\n",
    "\n",
    "    potential_targets = ['WTOT', 'WTH', 'PLTH']\n",
    "    y = df[potential_targets[0]]\n",
    "\n",
    "    X = df[df.columns[~df.columns.isin(potential_targets)]]\n",
    "    X = X.drop(['TOK_ID', 'LCUPDATE', 'DATE', 'NEL', 'ENBI'], axis = 1)\n",
    "\n",
    "    # X_train, X_test, y_train, y_test = train_test_split(X, y, test_size=0.33)\n",
    "    return train_test_split(X, y, test_size=0.33)\n",
    "\n",
    "\n",
    "def use_covid_ds():\n",
    "    df_X, df_y = helper.get_covid_dataset()\n",
    "    df_X = df_X.drop(['location'], axis = 1)\n",
    "\n",
    "    return train_test_split(df_X, df_y, test_size=0.33)\n",
    "\n",
    "\n",
    "def use_transaction_predictions_ds():\n",
    "    ds_train, ds_test = kaggle_dataset_helper.get_transaction_predictions_dataset()\n",
    "    ds_train = common.label_encode(ds_train)\n",
    "    ds_test = common.label_encode(ds_test)\n",
    "\n",
    "    ds_train = ds_train.fillna(-1)\n",
    "    ds_test = ds_test.fillna(-1)\n",
    "\n",
    "    df_X = ds_train.loc[:, ds_train.columns != 'target']\n",
    "    df_y = ds_train['target']\n",
    "\n",
    "    return train_test_split(df_X, df_y, test_size=0.33, random_state=config.rand_state)\n",
    "\n",
    "\n",
    "def use_house_pricing_ds():\n",
    "    ds_train, ds_test = kaggle_dataset_helper.get_house_prices_dataset()\n",
    "    ds_train = common.label_encode(ds_train)\n",
    "    ds_test = common.label_encode(ds_test)\n",
    "\n",
    "    ds_train = ds_train.fillna(-1)\n",
    "    ds_test = ds_test.fillna(-1)\n",
    "\n",
    "\n",
    "    df_X = ds_train.loc[:, ds_train.columns != 'SalePrice']\n",
    "    df_y = ds_train['SalePrice']\n",
    "\n",
    "    return train_test_split(df_X, df_y, test_size=0.33, random_state=config.rand_state)"
   ]
  },
  {
   "cell_type": "code",
   "execution_count": null,
   "id": "9d905c16",
   "metadata": {},
   "outputs": [],
   "source": []
  },
  {
   "cell_type": "code",
   "execution_count": 5,
   "id": "ca4119cb",
   "metadata": {},
   "outputs": [],
   "source": [
    "r2_scoring = make_scorer(score_func=r2_score, greater_is_better=False)"
   ]
  },
  {
   "cell_type": "code",
   "execution_count": 8,
   "id": "28b030e1-d4f4-4ae8-bada-160188b0649f",
   "metadata": {},
   "outputs": [],
   "source": [
    "\n",
    "brisk_knn_1 = BriskKNN(name='tune_brisk_knn_1',\n",
    "                                                pred_class='regression',\n",
    "                                                #n_neighbors=100,\n",
    "                                                score_func=r2_scoring,\n",
    "                                                #metric_func=mean_squared_error, \n",
    "                                                \n",
    "                                                n_trials=20)"
   ]
  },
  {
   "cell_type": "code",
   "execution_count": 9,
   "id": "15980d34",
   "metadata": {},
   "outputs": [
    {
     "data": {
      "text/html": [],
      "text/plain": [
       "<IPython.core.display.HTML object>"
      ]
     },
     "metadata": {},
     "output_type": "display_data"
    },
    {
     "name": "stderr",
     "output_type": "stream",
     "text": [
      "\u001b[2m\u001b[36m(run pid=109098)\u001b[0m /home/rayuser/.local/lib/python3.8/site-packages/ray/tune/execution/trial_runner.py:363: UserWarning: fail_fast='raise' detected. Be careful when using this mode as resources (such as Ray processes, file descriptors, and temporary files) may not be cleaned up properly. To use a safer mode, use fail_fast=True.\n",
      "\u001b[2m\u001b[36m(run pid=109098)\u001b[0m   warnings.warn(\n",
      "\u001b[2m\u001b[36m(run pid=109098)\u001b[0m 2022-12-06 20:41:38,376\tINFO tensorboardx.py:267 -- Removed the following hyperparameter values when logging to tensorboard: {'cv': KFold(n_splits=3, random_state=None, shuffle=False), 'early_stop_type': <EarlyStopping.NO_EARLY_STOP: 7>, 'scoring/score': make_scorer(r2_score, greater_is_better=False)}\n",
      "\u001b[2m\u001b[36m(run pid=109098)\u001b[0m 2022-12-06 20:41:40,518\tINFO tensorboardx.py:267 -- Removed the following hyperparameter values when logging to tensorboard: {'cv': KFold(n_splits=3, random_state=None, shuffle=False), 'early_stop_type': <EarlyStopping.NO_EARLY_STOP: 7>, 'scoring/score': make_scorer(r2_score, greater_is_better=False)}\n"
     ]
    }
   ],
   "source": [
    "brisk_knn_1.fit(X_train, X_test, y_train, y_test)"
   ]
  },
  {
   "cell_type": "code",
   "execution_count": null,
   "id": "98698bff",
   "metadata": {},
   "outputs": [
    {
     "data": {
      "text/plain": [
       "[0.9999999999999649, 0.945405904151681]"
      ]
     },
     "execution_count": 9,
     "metadata": {},
     "output_type": "execute_result"
    }
   ],
   "source": [
    "brisk_knn_1.scores"
   ]
  },
  {
   "cell_type": "code",
   "execution_count": 10,
   "id": "e32e7ff8",
   "metadata": {},
   "outputs": [
    {
     "data": {
      "text/plain": [
       "0.945405904151681"
      ]
     },
     "execution_count": 10,
     "metadata": {},
     "output_type": "execute_result"
    },
    {
     "name": "stderr",
     "output_type": "stream",
     "text": [
      "WARNING: 100 PYTHON worker processes have been started on node: 524de5b2a4a5da4c6326a3d5e275df2425b3c26a875855322a08c6d7 with address: 192.168.0.249. This could be a result of using a large number of actors, or due to tasks blocked in ray.get() calls (see https://github.com/ray-project/ray/issues/3644 for some discussion of workarounds).\n",
      "WARNING: 126 PYTHON worker processes have been started on node: 524de5b2a4a5da4c6326a3d5e275df2425b3c26a875855322a08c6d7 with address: 192.168.0.249. This could be a result of using a large number of actors, or due to tasks blocked in ray.get() calls (see https://github.com/ray-project/ray/issues/3644 for some discussion of workarounds).\n"
     ]
    }
   ],
   "source": [
    "brisk_knn_1.score(X_test, y_test)"
   ]
  },
  {
   "cell_type": "code",
   "execution_count": null,
   "id": "d44ab91a",
   "metadata": {},
   "outputs": [],
   "source": []
  }
 ],
 "metadata": {
  "kernelspec": {
   "display_name": "Python 3.8.13 ('automl')",
   "language": "python",
   "name": "python3"
  },
  "language_info": {
   "codemirror_mode": {
    "name": "ipython",
    "version": 3
   },
   "file_extension": ".py",
   "mimetype": "text/x-python",
   "name": "python",
   "nbconvert_exporter": "python",
   "pygments_lexer": "ipython3",
   "version": "3.8.13"
  },
  "vscode": {
   "interpreter": {
    "hash": "6ceb9dcfe4855088cb408ca84060dddedae3a13bd9f61da61d02274285d7dc6d"
   }
  }
 },
 "nbformat": 4,
 "nbformat_minor": 5
}
