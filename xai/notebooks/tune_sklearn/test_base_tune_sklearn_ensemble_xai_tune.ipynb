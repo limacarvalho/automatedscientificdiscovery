{
 "cells": [
  {
   "cell_type": "code",
   "execution_count": 1,
   "id": "6e22ae6c-f298-4c9a-b5ac-8a648578c728",
   "metadata": {},
   "outputs": [
    {
     "data": {
      "text/html": [
       "<style type='text/css'>\n",
       ".datatable table.frame { margin-bottom: 0; }\n",
       ".datatable table.frame thead { border-bottom: none; }\n",
       ".datatable table.frame tr.coltypes td {  color: #FFFFFF;  line-height: 6px;  padding: 0 0.5em;}\n",
       ".datatable .bool    { background: #DDDD99; }\n",
       ".datatable .object  { background: #565656; }\n",
       ".datatable .int     { background: #5D9E5D; }\n",
       ".datatable .float   { background: #4040CC; }\n",
       ".datatable .str     { background: #CC4040; }\n",
       ".datatable .time    { background: #40CC40; }\n",
       ".datatable .row_index {  background: var(--jp-border-color3);  border-right: 1px solid var(--jp-border-color0);  color: var(--jp-ui-font-color3);  font-size: 9px;}\n",
       ".datatable .frame tbody td { text-align: left; }\n",
       ".datatable .frame tr.coltypes .row_index {  background: var(--jp-border-color0);}\n",
       ".datatable th:nth-child(2) { padding-left: 12px; }\n",
       ".datatable .hellipsis {  color: var(--jp-cell-editor-border-color);}\n",
       ".datatable .vellipsis {  background: var(--jp-layout-color0);  color: var(--jp-cell-editor-border-color);}\n",
       ".datatable .na {  color: var(--jp-cell-editor-border-color);  font-size: 80%;}\n",
       ".datatable .sp {  opacity: 0.25;}\n",
       ".datatable .footer { font-size: 9px; }\n",
       ".datatable .frame_dimensions {  background: var(--jp-border-color3);  border-top: 1px solid var(--jp-border-color0);  color: var(--jp-ui-font-color3);  display: inline-block;  opacity: 0.6;  padding: 1px 10px 1px 5px;}\n",
       ".datatable .frame thead tr.colnames {  background-image: url('data:image/png;base64,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');  background-repeat: repeat-x;  background-size: 14px;  height: 28px;}\n",
       "</style>\n"
      ],
      "text/plain": [
       "<IPython.core.display.HTML object>"
      ]
     },
     "metadata": {},
     "output_type": "display_data"
    }
   ],
   "source": [
    "import sys; sys.path.insert(0, '../..') # add parent folder path where lib folder is\n",
    "\n",
    "%load_ext autoreload\n",
    "%autoreload 2\n",
    "\n",
    "from utils import helper, config, rayer, kaggle_dataset_helper\n",
    "\n",
    "from sklearn.preprocessing import StandardScaler\n",
    "from sklearn.model_selection import train_test_split\n",
    "\n",
    "from ml.models.ensemble_tune import Ensemble\n",
    "from ml.xai.model.explainable_tune import Explainable\n",
    "\n",
    "from sklearn.metrics import make_scorer\n",
    "from sklearn.metrics import r2_score, mean_squared_error\n",
    "from sklearn.metrics import f1_score, roc_auc_score, precision_score, recall_score\n",
    "from ml.models import common\n",
    "\n",
    "import ray\n",
    "\n",
    "\n",
    "import time\n",
    "import pandas as pd\n",
    "import pyarrow.fs"
   ]
  },
  {
   "cell_type": "code",
   "execution_count": 2,
   "id": "d1862778-af52-49d2-9130-9a6a6a7a8f0e",
   "metadata": {},
   "outputs": [],
   "source": [
    "rayer.get_global_cluster()"
   ]
  },
  {
   "cell_type": "code",
   "execution_count": 3,
   "id": "c564af28",
   "metadata": {},
   "outputs": [],
   "source": [
    "def use_tokamat_ds():\n",
    "    df = helper.get_tokamat_dataset()\n",
    "    df = df.reset_index()\n",
    "\n",
    "    df = common.label_encode(df)\n",
    "    df = df.fillna(-1)\n",
    "\n",
    "    potential_targets = ['WTOT', 'WTH', 'PLTH']\n",
    "    y = df[potential_targets[0]]\n",
    "\n",
    "    X = df[df.columns[~df.columns.isin(potential_targets)]]\n",
    "    X = X.drop(['TOK_ID', 'LCUPDATE', 'DATE', 'NEL', 'ENBI'], axis = 1)\n",
    "\n",
    "    # X_train, X_test, y_train, y_test = train_test_split(X, y, test_size=0.33)\n",
    "    return train_test_split(X, y, test_size=0.33)\n",
    "\n",
    "\n",
    "def use_covid_ds():\n",
    "    df_X, df_y = helper.get_covid_dataset()\n",
    "    df_X = df_X.drop(['location'], axis = 1)\n",
    "\n",
    "    return train_test_split(df_X, df_y, test_size=0.33)\n",
    "\n",
    "\n",
    "def use_transaction_predictions_ds():\n",
    "    ds_train, ds_test = kaggle_dataset_helper.get_transaction_predictions_dataset()\n",
    "    ds_train = common.label_encode(ds_train)\n",
    "    ds_test = common.label_encode(ds_test)\n",
    "\n",
    "    ds_train = ds_train.fillna(-1)\n",
    "    ds_test = ds_test.fillna(-1)\n",
    "\n",
    "    df_X = ds_train.loc[:, ds_train.columns != 'target']\n",
    "    df_y = ds_train['target']\n",
    "\n",
    "    return train_test_split(df_X, df_y, test_size=0.33, random_state=config.rand_state)\n",
    "\n",
    "\n",
    "\n",
    "def use_house_pricing_ds():\n",
    "    ds_train, ds_test = kaggle_dataset_helper.get_house_prices_dataset()\n",
    "    ds_train = common.label_encode(ds_train)\n",
    "    ds_test = common.label_encode(ds_test)\n",
    "\n",
    "    ds_train = ds_train.fillna(-1)\n",
    "    ds_test = ds_test.fillna(-1)\n",
    "\n",
    "\n",
    "    df_X = ds_train.loc[:, ds_train.columns != 'SalePrice']\n",
    "    df_y = ds_train['SalePrice']\n",
    "\n",
    "    return train_test_split(df_X, df_y, test_size=0.33, random_state=config.rand_state)\n"
   ]
  },
  {
   "cell_type": "code",
   "execution_count": 4,
   "id": "40663476",
   "metadata": {},
   "outputs": [
    {
     "name": "stdout",
     "output_type": "stream",
     "text": [
      "/mnt/c/Users/rwmas/GitHub/xai/python-asd/xai/notebooks/tune_sklearn/../../utils\n"
     ]
    }
   ],
   "source": [
    "X_train, X_test, y_train, y_test = use_tokamat_ds()"
   ]
  },
  {
   "cell_type": "code",
   "execution_count": 5,
   "id": "ca4119cb",
   "metadata": {},
   "outputs": [],
   "source": [
    "r2_scoring = make_scorer(score_func=r2_score, greater_is_better=False)"
   ]
  },
  {
   "cell_type": "code",
   "execution_count": null,
   "id": "78286b03",
   "metadata": {},
   "outputs": [],
   "source": [
    "ens_mdl = Ensemble(   \n",
    "                                xgb_objective='binary:logistic',  # [\"reg:squarederror\", \"count:poisson\", \"binary:logistic\",  \"binary:hinge\" ]\n",
    "                                lgbm_objective='binary',    # https://lightgbm.readthedocs.io/en/latest/Parameters.html\n",
    "                                pred_class='classification',\n",
    "                                score_func=None,\n",
    "                                metric_func=None,\n",
    "                                list_base_models=[],\n",
    "                                n_trials=10,          ### common param\n",
    "                                epochs=15,             ### ANN param\n",
    "                                boosted_round=10,      ### boosting tree param\n",
    "                                max_depth=30,          ### boosting tree param\n",
    "                                max_n_estimators=1500, ### rf param\n",
    "                                n_estimators=30,       ### bagging param, must be > 10 \n",
    "                                n_neighbors=30,        ### knn param, must be > 5\n",
    "\n",
    "                                ensemble_n_estimators=30,  ###  must be > 10\n",
    "                                ensemble_n_trials=10,\n",
    "                                timeout=None\n",
    "                 )"
   ]
  },
  {
   "cell_type": "code",
   "execution_count": 5,
   "id": "30fb07c2",
   "metadata": {},
   "outputs": [],
   "source": [
    "# list_base_models = ['briskbagging', 'briskknn', 'briskxgboost', 'slugxgboost', 'sluglgbm','slugrf']\n",
    "\n",
    "ens_mdl = Ensemble(   \n",
    "                                xgb_objective='count:poisson',  # [\"reg:squarederror\", \"count:poisson\", \"binary:logistic\",  \"binary:hinge\" ]\n",
    "                                lgbm_objective='poisson',    # https://lightgbm.readthedocs.io/en/latest/Parameters.html\n",
    "                                pred_class='regression',\n",
    "                                score_func=None,\n",
    "                                metric_func=None,\n",
    "                                list_base_models=['sluglgbm', 'briskxgboost'],\n",
    "                                n_trials=10,          ### common param\n",
    "                                epochs=15,             ### ANN param\n",
    "                                boosted_round=10,      ### boosting tree param\n",
    "                                max_depth=30,          ### boosting tree param\n",
    "                                max_n_estimators=1500, ### rf param\n",
    "                                n_estimators=30,       ### bagging param, must be > 10 \n",
    "                                n_neighbors=30,        ### knn param, must be > 5\n",
    "\n",
    "                                ensemble_n_estimators=30,  ###  must be > 10\n",
    "                                ensemble_n_trials=10,\n",
    "                                timeout=None\n",
    "                 )"
   ]
  },
  {
   "cell_type": "code",
   "execution_count": 6,
   "id": "5cbf5650",
   "metadata": {},
   "outputs": [
    {
     "data": {
      "text/html": [],
      "text/plain": [
       "<IPython.core.display.HTML object>"
      ]
     },
     "metadata": {},
     "output_type": "display_data"
    },
    {
     "name": "stderr",
     "output_type": "stream",
     "text": [
      "\u001b[2m\u001b[36m(run pid=653091)\u001b[0m /home/rayuser/.local/lib/python3.8/site-packages/ray/tune/execution/trial_runner.py:363: UserWarning: fail_fast='raise' detected. Be careful when using this mode as resources (such as Ray processes, file descriptors, and temporary files) may not be cleaned up properly. To use a safer mode, use fail_fast=True.\n",
      "\u001b[2m\u001b[36m(run pid=653091)\u001b[0m   warnings.warn(\n",
      "\u001b[2m\u001b[36m(run pid=653091)\u001b[0m 2022-12-07 07:53:49,749\tINFO tensorboardx.py:267 -- Removed the following hyperparameter values when logging to tensorboard: {'cv': KFold(n_splits=3, random_state=None, shuffle=False), 'early_stop_type': <EarlyStopping.NO_EARLY_STOP: 7>, 'scoring/score': <function _passthrough_scorer at 0x7f2359b15b80>}\n",
      "\u001b[2m\u001b[36m(run pid=653091)\u001b[0m 2022-12-07 07:53:53,557\tINFO tensorboardx.py:267 -- Removed the following hyperparameter values when logging to tensorboard: {'cv': KFold(n_splits=3, random_state=None, shuffle=False), 'early_stop_type': <EarlyStopping.NO_EARLY_STOP: 7>, 'scoring/score': <function _passthrough_scorer at 0x7f2359b15b80>}\n",
      "\u001b[2m\u001b[36m(run pid=653091)\u001b[0m 2022-12-07 07:53:57,531\tINFO tensorboardx.py:267 -- Removed the following hyperparameter values when logging to tensorboard: {'cv': KFold(n_splits=3, random_state=None, shuffle=False), 'early_stop_type': <EarlyStopping.NO_EARLY_STOP: 7>, 'scoring/score': <function _passthrough_scorer at 0x7f2359b15b80>}\n",
      "\u001b[2m\u001b[36m(run pid=653091)\u001b[0m 2022-12-07 07:54:01,574\tINFO tensorboardx.py:267 -- Removed the following hyperparameter values when logging to tensorboard: {'cv': KFold(n_splits=3, random_state=None, shuffle=False), 'early_stop_type': <EarlyStopping.NO_EARLY_STOP: 7>, 'scoring/score': <function _passthrough_scorer at 0x7f2359b15b80>}\n",
      "\u001b[2m\u001b[36m(run pid=653091)\u001b[0m 2022-12-07 07:54:05,722\tINFO tensorboardx.py:267 -- Removed the following hyperparameter values when logging to tensorboard: {'cv': KFold(n_splits=3, random_state=None, shuffle=False), 'early_stop_type': <EarlyStopping.NO_EARLY_STOP: 7>, 'scoring/score': <function _passthrough_scorer at 0x7f2359b15b80>}\n",
      "\u001b[2m\u001b[36m(run pid=653091)\u001b[0m 2022-12-07 07:54:05,735\tINFO tensorboardx.py:267 -- Removed the following hyperparameter values when logging to tensorboard: {'cv': KFold(n_splits=3, random_state=None, shuffle=False), 'early_stop_type': <EarlyStopping.NO_EARLY_STOP: 7>, 'scoring/score': <function _passthrough_scorer at 0x7f2359b15b80>}\n",
      "\u001b[2m\u001b[36m(run pid=653091)\u001b[0m 2022-12-07 07:54:09,725\tINFO tensorboardx.py:267 -- Removed the following hyperparameter values when logging to tensorboard: {'cv': KFold(n_splits=3, random_state=None, shuffle=False), 'early_stop_type': <EarlyStopping.NO_EARLY_STOP: 7>, 'scoring/score': <function _passthrough_scorer at 0x7f2359b15b80>}\n",
      "\u001b[2m\u001b[36m(run pid=653091)\u001b[0m 2022-12-07 07:54:13,901\tINFO tensorboardx.py:267 -- Removed the following hyperparameter values when logging to tensorboard: {'cv': KFold(n_splits=3, random_state=None, shuffle=False), 'early_stop_type': <EarlyStopping.NO_EARLY_STOP: 7>, 'scoring/score': <function _passthrough_scorer at 0x7f2359b15b80>}\n",
      "\u001b[2m\u001b[36m(run pid=653091)\u001b[0m 2022-12-07 07:54:17,785\tINFO tensorboardx.py:267 -- Removed the following hyperparameter values when logging to tensorboard: {'cv': KFold(n_splits=3, random_state=None, shuffle=False), 'early_stop_type': <EarlyStopping.NO_EARLY_STOP: 7>, 'scoring/score': <function _passthrough_scorer at 0x7f2359b15b80>}\n",
      "\u001b[2m\u001b[36m(run pid=653091)\u001b[0m 2022-12-07 07:54:21,714\tINFO tensorboardx.py:267 -- Removed the following hyperparameter values when logging to tensorboard: {'cv': KFold(n_splits=3, random_state=None, shuffle=False), 'early_stop_type': <EarlyStopping.NO_EARLY_STOP: 7>, 'scoring/score': <function _passthrough_scorer at 0x7f2359b15b80>}\n",
      "2022-12-07T08:54:21CET : INFO : ensemble_tune : fetch_models : 215 : Message : base model training completed\n"
     ]
    }
   ],
   "source": [
    "ens_mdl.fetch_models(X_train, X_test, y_train, y_test)"
   ]
  },
  {
   "cell_type": "code",
   "execution_count": 7,
   "id": "ec23dfe3",
   "metadata": {},
   "outputs": [
    {
     "data": {
      "text/plain": [
       "2"
      ]
     },
     "execution_count": 7,
     "metadata": {},
     "output_type": "execute_result"
    }
   ],
   "source": [
    "len(ens_mdl.base_models)"
   ]
  },
  {
   "cell_type": "code",
   "execution_count": 8,
   "id": "8883ab29",
   "metadata": {},
   "outputs": [],
   "source": [
    "# ens_mdl.base_models[0].gs.best_estimator"
   ]
  },
  {
   "cell_type": "code",
   "execution_count": 9,
   "id": "2410312a",
   "metadata": {},
   "outputs": [],
   "source": [
    "attr_algos = ['IG', 'SHAP', 'GradientSHAP'] #, 'knockoff']"
   ]
  },
  {
   "cell_type": "code",
   "execution_count": 10,
   "id": "0209db21",
   "metadata": {},
   "outputs": [],
   "source": [
    "ex = Explainable(ens_mdl, X_train)             "
   ]
  },
  {
   "cell_type": "code",
   "execution_count": 11,
   "id": "a8d01148",
   "metadata": {},
   "outputs": [
    {
     "name": "stderr",
     "output_type": "stream",
     "text": [
      "2022-12-07T08:54:24CET : INFO : explainable_tune : get_attr : 153 : Message : attribution methods  ['ig', 'shap', 'gradientshap']\n",
      "2022-12-07T08:54:24CET : INFO : explainable_tune : get_attr : 156 : Message : calculating variable importance on  slug_lgbm\n",
      "2022-12-07T08:54:25CET : INFO : explainable_tune : get_attr : 156 : Message : calculating variable importance on  brisk_xgboost\n",
      "\u001b[2m\u001b[36m(__get_shapley_ensemble_attr__ pid=657056)\u001b[0m ntree_limit is deprecated, use `iteration_range` or model slicing instead.\n"
     ]
    },
    {
     "data": {
      "text/plain": [
       "cols\n",
       "IP         62.5\n",
       "index      58.5\n",
       "TIME_ID    53.5\n",
       "RGEO       31.5\n",
       "SHOT       31.0\n",
       "           ... \n",
       "BGASZ       0.0\n",
       "BGASA       0.0\n",
       "NELFORM     0.0\n",
       "DNELDT      0.0\n",
       "TOK         0.0\n",
       "Length: 64, dtype: float64"
      ]
     },
     "execution_count": 11,
     "metadata": {},
     "output_type": "execute_result"
    }
   ],
   "source": [
    "ex.get_attr(attr_algos)"
   ]
  },
  {
   "cell_type": "code",
   "execution_count": 38,
   "id": "53d16749",
   "metadata": {},
   "outputs": [
    {
     "data": {
      "text/plain": [
       "KNeighborsRegressor(algorithm='kd_tree', n_neighbors=7, weights='distance')"
      ]
     },
     "execution_count": 38,
     "metadata": {},
     "output_type": "execute_result"
    }
   ],
   "source": [
    "ens_mdl.base_models[1].gs.best_estimator"
   ]
  },
  {
   "cell_type": "code",
   "execution_count": 29,
   "id": "748edc89",
   "metadata": {},
   "outputs": [
    {
     "data": {
      "text/plain": [
       "BaggingRegressor(n_estimators=27)"
      ]
     },
     "execution_count": 29,
     "metadata": {},
     "output_type": "execute_result"
    }
   ],
   "source": [
    "ens_mdl.ensemble.gs.best_estimator"
   ]
  },
  {
   "cell_type": "code",
   "execution_count": null,
   "id": "34009912",
   "metadata": {},
   "outputs": [
    {
     "data": {
      "text/plain": [
       "[0.907852251809679, 0.9023357075419954]"
      ]
     },
     "execution_count": 25,
     "metadata": {},
     "output_type": "execute_result"
    }
   ],
   "source": [
    "ens_mdl.scores"
   ]
  },
  {
   "cell_type": "code",
   "execution_count": 39,
   "id": "0ae9439d",
   "metadata": {},
   "outputs": [
    {
     "data": {
      "text/plain": [
       "array([241357.14285714, 164032.85714286, 126121.42857143, 197900.        ,\n",
       "        94500.        , 122950.        , 271900.        , 179028.57142857,\n",
       "       525315.28571429, 104935.71428571, 169964.28571429, 241321.42857143,\n",
       "       218753.57142857, 124928.57142857, 141285.71428571, 145000.        ,\n",
       "       232383.57142857,  84214.28571429, 148285.71428571, 149071.42857143,\n",
       "       169392.85714286, 137500.        , 124557.14285714, 174064.28571429,\n",
       "       197628.57142857, 161517.85714286, 150953.57142857,  82428.57142857,\n",
       "       266268.07142857, 143885.71428571, 246229.85714286, 193135.71428571,\n",
       "       129500.        , 242035.71428571, 267855.64285714, 194921.42857143,\n",
       "       177570.35714286, 126642.85714286, 203685.71428571, 302335.71428571,\n",
       "       243500.        , 127428.57142857, 172381.07142857, 284242.07142857,\n",
       "       304321.42857143, 218815.71428571, 127464.28571429, 133857.14285714,\n",
       "       176000.        , 106000.        , 284785.71428571, 146142.85714286,\n",
       "       154678.57142857,  75785.71428571, 228853.57142857,  98721.42857143,\n",
       "       161892.85714286, 208271.42857143, 141264.28571429, 109992.85714286,\n",
       "       138992.85714286, 141000.        , 149985.71428571, 172581.42857143,\n",
       "       184957.14285714, 167481.42857143, 143089.28571429, 181743.        ,\n",
       "       115000.        , 179885.71428571, 179468.57142857, 134495.14285714,\n",
       "       128992.85714286, 167534.28571429, 106000.        , 234883.42857143,\n",
       "       145164.28571429,  94089.28571429, 257542.85714286, 153964.28571429,\n",
       "       143500.        , 128646.42857143,  95928.57142857, 136457.14285714,\n",
       "       204400.        , 158621.42857143, 170000.        , 155059.64285714,\n",
       "       185803.57142857, 149028.57142857, 192957.14285714, 133776.        ,\n",
       "       182321.57142857, 201921.42857143, 196892.85714286, 165403.57142857,\n",
       "       167265.71428571, 210357.14285714, 111803.57142857, 132500.        ,\n",
       "       305335.71428571, 183342.85714286, 103521.42857143, 202860.71428571,\n",
       "        94946.42857143, 271835.71428571, 184982.14285714, 119557.14285714,\n",
       "       158978.57142857,  87857.14285714, 133321.42857143, 137535.71428571,\n",
       "       237857.14285714, 136500.        , 147435.71428571, 161335.71428571,\n",
       "       369464.78571429, 133792.85714286, 233062.85714286, 176324.78571429,\n",
       "        85050.        , 147435.71428571, 145164.28571429, 218795.        ,\n",
       "       222850.        , 176436.28571429, 306414.28571429, 174921.42857143,\n",
       "       191107.14285714, 160014.28571429, 181743.        , 196035.71428571,\n",
       "       155983.35714286, 239921.21428571, 114857.14285714, 188864.28571429,\n",
       "       155845.35714286, 200100.        , 104812.57142857, 157573.71428571,\n",
       "       179457.14285714, 142114.28571429, 276078.92857143, 135828.57142857,\n",
       "       202982.14285714, 181119.28571429, 202500.        , 144964.28571429,\n",
       "       186785.71428571, 219590.        , 177107.14285714, 233502.85714286,\n",
       "       250285.71428571, 118883.28571429, 132428.57142857, 262216.57142857,\n",
       "       111946.42857143, 156001.42857143,  80785.71428571, 166464.28571429,\n",
       "       129460.71428571, 150807.14285714, 183214.28571429, 149028.57142857,\n",
       "       227142.85714286,  91321.42857143, 137464.28571429, 262263.71428571,\n",
       "       147478.57142857, 179057.14285714, 205328.57142857, 167931.42857143,\n",
       "       223392.85714286, 158871.42857143, 185903.57142857, 142573.21428571,\n",
       "       135492.85714286, 271835.71428571, 136060.71428571, 128578.57142857,\n",
       "       267855.64285714, 167928.57142857, 127178.57142857, 280239.42857143,\n",
       "       137035.71428571, 173750.        ,  99964.28571429, 152928.57142857,\n",
       "       199207.14285714, 138471.42857143, 135971.42857143, 145875.        ,\n",
       "       204057.14285714, 121628.57142857, 149800.        , 133017.85714286,\n",
       "        96267.85714286, 144496.57142857, 183271.42857143, 148428.57142857,\n",
       "       141000.        , 179964.28571429, 129460.71428571,  87857.14285714,\n",
       "       104914.28571429, 243500.        , 157916.57142857, 269770.71428571,\n",
       "       288259.28571429,  79821.42857143, 156825.71428571, 252456.42857143,\n",
       "       104735.71428571,  77992.85714286, 259964.28571429, 211892.85714286,\n",
       "       167928.57142857, 236392.85714286, 223742.85714286,  83750.        ,\n",
       "       267678.57142857, 210928.57142857, 118607.57142857, 115000.        ,\n",
       "       188014.28571429, 262120.85714286, 236821.42857143, 227817.14285714,\n",
       "       129500.        , 167462.85714286, 102662.85714286, 143803.57142857,\n",
       "       107421.42857143, 135000.        , 187471.42857143, 124035.71428571,\n",
       "       104914.28571429, 106064.28571429,  82500.        , 194921.42857143,\n",
       "       136500.        , 186817.85714286, 186778.57142857, 196785.71428571,\n",
       "       157942.85714286, 170992.85714286, 244414.28571429, 205378.57142857,\n",
       "       115000.        , 164770.71428571, 206864.28571429, 222178.57142857,\n",
       "        73257.14285714, 381828.57142857, 162360.71428571, 194250.        ,\n",
       "        74807.14285714, 200021.42857143, 244371.42857143, 248426.28571429,\n",
       "       157138.        , 184982.14285714, 226048.57142857, 112678.57142857,\n",
       "       354635.71428571, 214978.57142857, 339357.14285714, 105021.42857143,\n",
       "       178000.        , 231962.14285714, 139307.14285714, 228012.85714286,\n",
       "       169642.85714286, 174885.71428571, 115000.        , 233082.14285714,\n",
       "       172398.92857143, 175464.28571429, 185532.14285714, 157992.85714286,\n",
       "       133450.        , 257878.57142857, 180983.42857143, 143000.        ,\n",
       "       162089.28571429, 247848.14285714, 110085.71428571, 248402.85714286,\n",
       "       328121.42857143, 177714.28571429,  69750.        , 147000.        ,\n",
       "       266889.85714286, 107785.71428571, 145867.85714286, 266566.78571429,\n",
       "       250167.        , 143142.85714286, 145875.        , 160071.42857143,\n",
       "       106000.        , 117521.42857143, 162260.71428571, 179523.21428571,\n",
       "       172457.14285714, 180464.28571429, 136060.71428571, 209807.14285714,\n",
       "       189992.85714286, 148057.14285714, 121121.42857143, 140171.42857143,\n",
       "       124350.        , 134871.42857143, 132410.71428571, 139400.        ,\n",
       "       319223.        , 137000.        , 200100.        , 206107.14285714,\n",
       "        91714.28571429, 279709.        , 109164.28571429, 289363.57142857,\n",
       "       185425.        , 163886.42857143, 128035.71428571, 337564.28571429,\n",
       "       271835.71428571, 146142.85714286, 128385.71428571, 186785.71428571,\n",
       "       183357.14285714, 189982.14285714, 226048.57142857, 131492.85714286,\n",
       "       154942.85714286, 192500.        , 140171.42857143, 127964.28571429,\n",
       "       328835.71428571, 153406.07142857, 161517.85714286, 168428.57142857,\n",
       "       150921.42857143, 177107.14285714, 124421.42857143, 106892.85714286,\n",
       "        98571.42857143, 136992.85714286, 194250.        , 336992.85714286,\n",
       "       131464.28571429, 127178.57142857, 163412.85714286, 327428.57142857,\n",
       "       300271.42857143, 160000.        , 234883.42857143, 246414.        ,\n",
       "       316303.57142857, 161642.85714286, 197021.42857143, 221214.28571429,\n",
       "        94142.85714286, 153071.42857143, 164372.14285714, 138541.        ,\n",
       "       200192.85714286, 162928.57142857, 393420.71428571, 108214.28571429,\n",
       "       180545.28571429, 143089.28571429, 144564.28571429,  70464.28571429,\n",
       "       202860.71428571, 229857.14285714, 126310.71428571, 220928.57142857,\n",
       "       175392.85714286, 108000.        , 127321.42857143, 120935.71428571,\n",
       "       128935.71428571, 147414.28571429, 239964.28571429, 173035.71428571,\n",
       "       245091.28571429, 267855.64285714, 110271.42857143, 133614.28571429,\n",
       "       254721.42857143,  96785.71428571, 140314.28571429, 167491.42857143,\n",
       "       131492.85714286, 186678.57142857, 204750.        , 184985.71428571,\n",
       "       240560.14285714, 186867.85714286, 184982.14285714,  93517.85714286,\n",
       "       131478.57142857, 236928.57142857, 155983.35714286, 269541.42857143,\n",
       "       207571.42857143, 185342.85714286, 155845.35714286, 140228.57142857,\n",
       "       163020.71428571, 135709.42857143, 175392.85714286, 137000.        ,\n",
       "       202982.14285714,  99964.28571429, 182750.        , 149835.71428571,\n",
       "       240304.92857143, 285571.42857143, 115857.14285714, 153509.78571429,\n",
       "       144368.        , 119592.85714286, 352404.92857143, 133035.71428571,\n",
       "       183000.        , 145867.85714286, 158959.57142857, 187964.28571429,\n",
       "       130303.57142857, 257592.85714286, 175000.        , 340517.85714286,\n",
       "       182152.42857143, 382892.85714286, 197900.        , 174064.28571429,\n",
       "        84214.28571429, 142000.        , 101289.42857143, 183600.        ,\n",
       "       107478.57142857, 163049.28571429, 137964.28571429, 106778.57142857,\n",
       "       201278.57142857, 284170.64285714, 104914.28571429, 200100.        ,\n",
       "       128578.57142857, 194821.42857143, 127000.        , 153227.5       ,\n",
       "       114786.28571429, 135500.        , 241714.28571429, 161517.85714286,\n",
       "       184050.        , 151371.42857143, 139371.42857143,  94303.57142857,\n",
       "       241785.71428571, 122878.57142857, 187471.42857143, 117642.85714286,\n",
       "       210714.28571429, 255121.42857143, 177714.28571429, 214285.71428571,\n",
       "       138964.28571429, 241428.57142857, 110278.57142857, 104735.71428571,\n",
       "       161892.85714286, 173750.        , 181138.42857143, 218035.71428571,\n",
       "       102905.42857143, 168642.85714286])"
      ]
     },
     "execution_count": 39,
     "metadata": {},
     "output_type": "execute_result"
    },
    {
     "name": "stderr",
     "output_type": "stream",
     "text": [
      "2022-12-06 22:31:16,565\tWARNING dataclient.py:396 -- Encountered connection issues in the data channel. Attempting to reconnect.\n",
      "2022-12-06 22:31:32,381\tERROR dataclient.py:323 -- Unrecoverable error in data channel.\n"
     ]
    }
   ],
   "source": [
    "ens_mdl.predict(X_test)"
   ]
  },
  {
   "cell_type": "code",
   "execution_count": null,
   "id": "3d9ee380",
   "metadata": {},
   "outputs": [],
   "source": []
  },
  {
   "cell_type": "code",
   "execution_count": null,
   "id": "852e38a2",
   "metadata": {},
   "outputs": [],
   "source": []
  }
 ],
 "metadata": {
  "kernelspec": {
   "display_name": "Python 3.8.13 ('automl')",
   "language": "python",
   "name": "python3"
  },
  "language_info": {
   "codemirror_mode": {
    "name": "ipython",
    "version": 3
   },
   "file_extension": ".py",
   "mimetype": "text/x-python",
   "name": "python",
   "nbconvert_exporter": "python",
   "pygments_lexer": "ipython3",
   "version": "3.8.13"
  },
  "vscode": {
   "interpreter": {
    "hash": "6ceb9dcfe4855088cb408ca84060dddedae3a13bd9f61da61d02274285d7dc6d"
   }
  }
 },
 "nbformat": 4,
 "nbformat_minor": 5
}
