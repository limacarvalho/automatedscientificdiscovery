{
 "cells": [
  {
   "cell_type": "code",
   "execution_count": 1,
   "metadata": {},
   "outputs": [],
   "source": [
    "%load_ext autoreload\n",
    "%autoreload 2"
   ]
  },
  {
   "cell_type": "code",
   "execution_count": 2,
   "metadata": {},
   "outputs": [],
   "source": [
    "import sys; sys.path.insert(0, '../..') # add parent folder path where lib folder is"
   ]
  },
  {
   "cell_type": "code",
   "execution_count": 3,
   "metadata": {},
   "outputs": [],
   "source": [
    "import pandas as pd\n",
    "from utils import helper, config, rayer\n",
    "from ml.models.ensemble_v2 import Ensemble\n",
    "\n",
    "from sklearn.metrics import r2_score, mean_squared_error\n",
    "from sklearn.metrics import f1_score, roc_auc_score, precision_score, recall_score\n",
    "from ml.models import common\n",
    "\n",
    "from sklearn.preprocessing import StandardScaler\n",
    "from sklearn.model_selection import train_test_split"
   ]
  },
  {
   "cell_type": "code",
   "execution_count": 4,
   "metadata": {},
   "outputs": [
    {
     "name": "stdout",
     "output_type": "stream",
     "text": [
      "======== Autoscaler status: 2022-11-23 04:51:47.165723 ========\n",
      "Node status\n",
      "---------------------------------------------------------------\n",
      "Healthy:\n",
      " 1 head-group\n",
      " 2 small-group\n",
      "Pending:\n",
      " (no pending nodes)\n",
      "Recent failures:\n",
      " (no failures)\n",
      "\n",
      "Resources\n",
      "---------------------------------------------------------------\n",
      "Usage:\n",
      " 0.0/5.0 CPU\n",
      " 0.00/16.764 GiB memory\n",
      " 0.00/4.909 GiB object_store_memory\n",
      "\n",
      "Demands:\n",
      " {'CPU': 1}: 5+ from request_resources()\n",
      "\u001b[0m"
     ]
    }
   ],
   "source": [
    "rayer.get_global_cluster(num_cpus=5)\n",
    "!ray status --address='raycluster-autoscaler-head-svc.dev.svc.cluster.local:6379'"
   ]
  },
  {
   "cell_type": "code",
   "execution_count": 5,
   "metadata": {},
   "outputs": [
    {
     "name": "stdout",
     "output_type": "stream",
     "text": [
      "======== Autoscaler status: 2022-11-14 21:37:00.832013 ========\n",
      "Node status\n",
      "---------------------------------------------------------------\n",
      "Healthy:\n",
      " 1 head-group\n",
      " 2 small-group\n",
      "Pending:\n",
      " (no pending nodes)\n",
      "Recent failures:\n",
      " (no failures)\n",
      "\n",
      "Resources\n",
      "---------------------------------------------------------------\n",
      "Usage:\n",
      " 0.0/5.0 CPU\n",
      " 0.00/16.764 GiB memory\n",
      " 0.00/4.908 GiB object_store_memory\n",
      "\n",
      "Demands:\n",
      " {}: 1+ pending tasks/actors\n",
      " {'CPU': 1}: 5+ from request_resources()\n",
      "\u001b[0m"
     ]
    }
   ],
   "source": [
    "!ray status --address='raycluster-autoscaler-head-svc.dev.svc.cluster.local:6379'"
   ]
  },
  {
   "cell_type": "code",
   "execution_count": 6,
   "metadata": {},
   "outputs": [],
   "source": [
    "# ray.autoscaler.sdk.request_resources(num_cpus=0)"
   ]
  },
  {
   "cell_type": "code",
   "execution_count": 8,
   "metadata": {},
   "outputs": [],
   "source": [
    "df_X, df_y = helper.get_covid_dataset()\n",
    "df_X = df_X.drop(['location'], axis = 1)\n",
    "\n",
    "X_train, X_test, y_train, y_test = train_test_split(df_X, df_y, test_size=0.33, random_state=config.rand_state)"
   ]
  },
  {
   "cell_type": "code",
   "execution_count": 9,
   "metadata": {},
   "outputs": [],
   "source": [
    "ss = StandardScaler()\n",
    "\n",
    "X_train_scalar = pd.DataFrame(ss.fit_transform(X_train.copy()), columns=X_train.columns)\n",
    "X_test_scalar = pd.DataFrame(ss.fit_transform(X_test.copy()), columns=X_test.columns)\n"
   ]
  },
  {
   "cell_type": "code",
   "execution_count": 22,
   "metadata": {},
   "outputs": [],
   "source": [
    "list_base_models = ['BriskXGBoost', 'SlugXGBoost', 'SlugANN', 'SlugRF', 'SlugKNN', 'BriskBagging']\n",
    "# list_base_models = ['BriskXGBoost', 'SlugXGBoost', 'BriskBagging', ]\n",
    "\n",
    "ensemble_set = Ensemble(\n",
    "                        list_base_models = list_base_models,\n",
    "                        n_trials=500, ### for all models\n",
    "                        boosted_round=100, ### for tree models only\n",
    "                        epochs=150, ### for DNN models\n",
    "\n",
    "                        ensemble_boosted_round=100, ### for ensemble model which is also a free model\n",
    "                        ensemble_n_trials=100,\n",
    "                                )\n"
   ]
  },
  {
   "cell_type": "code",
   "execution_count": 23,
   "metadata": {},
   "outputs": [
    {
     "name": "stderr",
     "output_type": "stream",
     "text": [
      "2022-11-23T05:00:44CST : INFO : ensemble_v2 : fetch_models : 108 : Message : Ensemble: starting discovery process for models [<ml.models.base.v2.brisk_xgboost.BriskXGBoost object at 0x7f25f8142640>, <ml.models.base.v2.slug_xgboost.SlugXGBoost object at 0x7f25f8142af0>, <ml.models.base.v2.slug_ann.SlugANN object at 0x7f25f8142460>, <ml.models.base.v2.slug_rf.SlugRF object at 0x7f25f81424f0>, <ml.models.base.v2.slug_knn.SlugKNN object at 0x7f25f81423d0>, <ml.models.base.v2.brisk_bagging.BriskBagging object at 0x7f25f81425b0>]\n",
      "\u001b[2m\u001b[36m(__run_discoveries__ pid=3216)\u001b[0m 2022-11-23T03:00:44PST : INFO : brisk_xgboost : __discover_model__ : 109 : Message : brisk_xgb: Starting training for trials:500, boosted rounds: 100, max depth: 10\n",
      "\u001b[2m\u001b[36m(__run_discoveries__ pid=3216)\u001b[0m /tmp/ray/session_2022-11-23_00-55-48_777969_8/runtime_resources/pip/6359c2ba15c7e71f0e73b7159cb8c36699f062e1/virtualenv/lib/python3.9/site-packages/optuna/_optimize.py:93: UserWarning: The default storage cannot be shared by multiple processes. Please use an RDB (RDBStorage) when you use joblib for multi-processing. The usage of RDBStorage can be found in https://optuna.readthedocs.io/en/stable/tutorial/rdb.html.\n",
      "\u001b[2m\u001b[36m(__run_discoveries__ pid=3216)\u001b[0m   warnings.warn(\n",
      "\u001b[2m\u001b[36m(__run_discoveries__ pid=200, ip=10.10.105.191)\u001b[0m 2022-11-23T03:00:44PST : INFO : slug_knn : __discover_model__ : 90 : Message : slug_knn: Starting training for trials:500, neighbors  50\n",
      "\u001b[2m\u001b[36m(__run_discoveries__ pid=201, ip=10.10.105.191)\u001b[0m 2022-11-23T03:00:44PST : INFO : slug_rf : __discover_model__ : 96 : Message : slug_rf: Starting training for trials:500, max depth: 30, max estimators 1500\n",
      "\u001b[2m\u001b[36m(__run_discoveries__ pid=238, ip=10.10.48.229)\u001b[0m 2022-11-23T03:00:44PST : INFO : slug_xgboost : __discover_model__ : 106 : Message : slug_xgb: Starting training for trials:500, boosted rounds: 100, max depth: 10\n",
      "\u001b[2m\u001b[36m(__run_discoveries__ pid=271, ip=10.10.48.229)\u001b[0m 2022-11-23T03:00:44PST : INFO : slug_ann : __discover_model__ : 216 : Message : slug_ann: Starting train for trials:500 with epochs: 150\n"
     ]
    },
    {
     "name": "stdout",
     "output_type": "stream",
     "text": [
      "\u001b[2m\u001b[1m\u001b[36m(scheduler +8m56s)\u001b[0m Tip: use `ray status` to view detailed cluster status. To disable these messages, set RAY_SCHEDULER_EVENTS=0.\n",
      "\u001b[2m\u001b[1m\u001b[36m(scheduler +8m56s)\u001b[0m Adding 1 node(s) of type small-group.\n"
     ]
    },
    {
     "name": "stderr",
     "output_type": "stream",
     "text": [
      "\u001b[2m\u001b[36m(__run_discoveries__ pid=200, ip=10.10.105.191)\u001b[0m 2022-11-23T03:00:51PST : INFO : slug_knn : __discover_model__ : 108 : Message : slug_knn: Number of trials: 500\n",
      "\u001b[2m\u001b[36m(__run_discoveries__ pid=200, ip=10.10.105.191)\u001b[0m 2022-11-23T03:00:51PST : INFO : slug_knn : __discover_model__ : 110 : Message : Best trial:13\n",
      "\u001b[2m\u001b[36m(__run_discoveries__ pid=200, ip=10.10.105.191)\u001b[0m 2022-11-23T03:00:51PST : INFO : slug_knn : __discover_model__ : 112 : Message :   Params: \n",
      "\u001b[2m\u001b[36m(__run_discoveries__ pid=200, ip=10.10.105.191)\u001b[0m 2022-11-23T03:00:51PST : INFO : slug_knn : __discover_model__ : 114 : Message :     n_neighbors 6\n",
      "\u001b[2m\u001b[36m(__run_discoveries__ pid=200, ip=10.10.105.191)\u001b[0m 2022-11-23T03:00:51PST : INFO : slug_knn : __discover_model__ : 114 : Message :     weights uniform\n",
      "\u001b[2m\u001b[36m(__run_discoveries__ pid=200, ip=10.10.105.191)\u001b[0m 2022-11-23T03:00:51PST : INFO : slug_knn : __discover_model__ : 114 : Message :     algorithm kd_tree\n",
      "\u001b[2m\u001b[36m(__run_discoveries__ pid=200, ip=10.10.105.191)\u001b[0m 2022-11-23T03:00:51PST : INFO : slug_knn : __discover_model__ : 129 : Message :   test r2 score: 0.5382569657433527\n",
      "\u001b[2m\u001b[36m(__run_discoveries__ pid=200, ip=10.10.105.191)\u001b[0m 2022-11-23T03:00:51PST : INFO : slug_knn : __discover_model__ : 134 : Message : slug_knn: Model saved at /tmp/covid_autolearn/slug_knn/saved/slug_knn_13.pickle\n"
     ]
    },
    {
     "name": "stdout",
     "output_type": "stream",
     "text": [
      "\u001b[2m\u001b[1m\u001b[36m(scheduler +9m2s)\u001b[0m Resized to 7 CPUs.\n"
     ]
    },
    {
     "name": "stderr",
     "output_type": "stream",
     "text": [
      "\u001b[2m\u001b[36m(__run_discoveries__ pid=238, ip=10.10.48.229)\u001b[0m 2022-11-23T03:01:16PST : INFO : slug_xgboost : __discover_model__ : 120 : Message : slug_xgb: Number of trials: 500\n",
      "\u001b[2m\u001b[36m(__run_discoveries__ pid=238, ip=10.10.48.229)\u001b[0m 2022-11-23T03:01:16PST : INFO : slug_xgboost : __discover_model__ : 122 : Message : Best trial:192\n",
      "\u001b[2m\u001b[36m(__run_discoveries__ pid=238, ip=10.10.48.229)\u001b[0m 2022-11-23T03:01:16PST : INFO : slug_xgboost : __discover_model__ : 124 : Message :   Params: \n",
      "\u001b[2m\u001b[36m(__run_discoveries__ pid=238, ip=10.10.48.229)\u001b[0m 2022-11-23T03:01:16PST : INFO : slug_xgboost : __discover_model__ : 126 : Message :     lambda 0.01550616475389052\n",
      "\u001b[2m\u001b[36m(__run_discoveries__ pid=238, ip=10.10.48.229)\u001b[0m 2022-11-23T03:01:16PST : INFO : slug_xgboost : __discover_model__ : 126 : Message :     alpha 0.05142429908610175\n",
      "\u001b[2m\u001b[36m(__run_discoveries__ pid=238, ip=10.10.48.229)\u001b[0m 2022-11-23T03:01:16PST : INFO : slug_xgboost : __discover_model__ : 126 : Message :     eta 0.784170380411157\n",
      "\u001b[2m\u001b[36m(__run_discoveries__ pid=238, ip=10.10.48.229)\u001b[0m 2022-11-23T03:01:16PST : INFO : slug_xgboost : __discover_model__ : 126 : Message :     gamma 0.0011718471420256108\n",
      "\u001b[2m\u001b[36m(__run_discoveries__ pid=238, ip=10.10.48.229)\u001b[0m 2022-11-23T03:01:16PST : INFO : slug_xgboost : __discover_model__ : 126 : Message :     grow_policy lossguide\n",
      "\u001b[2m\u001b[36m(__run_discoveries__ pid=238, ip=10.10.48.229)\u001b[0m 2022-11-23T03:01:16PST : INFO : slug_xgboost : __discover_model__ : 126 : Message :     max_depth 1\n",
      "\u001b[2m\u001b[36m(__run_discoveries__ pid=238, ip=10.10.48.229)\u001b[0m 2022-11-23T03:01:16PST : INFO : slug_xgboost : __discover_model__ : 126 : Message :     colsample_bytree 0.001833364910466649\n",
      "\u001b[2m\u001b[36m(__run_discoveries__ pid=238, ip=10.10.48.229)\u001b[0m 2022-11-23T03:01:16PST : INFO : slug_xgboost : __discover_model__ : 126 : Message :     colsample_bylevel 0.005855532872596703\n",
      "\u001b[2m\u001b[36m(__run_discoveries__ pid=238, ip=10.10.48.229)\u001b[0m 2022-11-23T03:01:16PST : INFO : slug_xgboost : __discover_model__ : 126 : Message :     colsample_bynode 0.0033786261992814625\n",
      "\u001b[2m\u001b[36m(__run_discoveries__ pid=238, ip=10.10.48.229)\u001b[0m 2022-11-23T03:01:16PST : INFO : slug_xgboost : __discover_model__ : 126 : Message :     max_bin 128\n",
      "\u001b[2m\u001b[36m(__run_discoveries__ pid=238, ip=10.10.48.229)\u001b[0m 2022-11-23T03:01:16PST : INFO : slug_xgboost : __discover_model__ : 146 : Message :   test r2 score: 0.24762963825305173\n",
      "\u001b[2m\u001b[36m(__run_discoveries__ pid=238, ip=10.10.48.229)\u001b[0m 2022-11-23T03:01:16PST : INFO : slug_xgboost : __discover_model__ : 151 : Message : slug_xgb: Model saved at /tmp/covid_autolearn/slug_xgb/saved/slug_xgb_192.pickle\n",
      "\u001b[2m\u001b[36m(__run_discoveries__ pid=238, ip=10.10.48.229)\u001b[0m 2022-11-23T03:01:16PST : INFO : slug_xgboost : load_score : 202 : Message : slug_xgb: scores loaded: [0.942306673581218, 0.24762963825305173]\n",
      "\u001b[2m\u001b[36m(__run_discoveries__ pid=130, ip=10.10.98.100)\u001b[0m 2022-11-23T03:01:58PST : INFO : font_manager : _load_fontmanager : 1633 : Message : generated new fontManager\n",
      "\u001b[2m\u001b[36m(__run_discoveries__ pid=130, ip=10.10.98.100)\u001b[0m 2022-11-23T03:01:58PST : INFO : brisk_bagging : __discover_model__ : 94 : Message : brisk_bagging: Starting training for trials:500, n_estimators  50\n",
      "\u001b[2m\u001b[36m(__run_discoveries__ pid=3216)\u001b[0m 2022-11-23T03:02:13PST : INFO : brisk_xgboost : __discover_model__ : 121 : Message : brisk_xgb: Number of trials: 500\n",
      "\u001b[2m\u001b[36m(__run_discoveries__ pid=3216)\u001b[0m 2022-11-23T03:02:13PST : INFO : brisk_xgboost : __discover_model__ : 123 : Message : Best trial:457\n",
      "\u001b[2m\u001b[36m(__run_discoveries__ pid=3216)\u001b[0m 2022-11-23T03:02:13PST : INFO : brisk_xgboost : __discover_model__ : 125 : Message :   Params: \n",
      "\u001b[2m\u001b[36m(__run_discoveries__ pid=3216)\u001b[0m 2022-11-23T03:02:13PST : INFO : brisk_xgboost : __discover_model__ : 127 : Message :     booster dart\n",
      "\u001b[2m\u001b[36m(__run_discoveries__ pid=3216)\u001b[0m 2022-11-23T03:02:13PST : INFO : brisk_xgboost : __discover_model__ : 127 : Message :     lambda 0.00808843456026269\n",
      "\u001b[2m\u001b[36m(__run_discoveries__ pid=3216)\u001b[0m 2022-11-23T03:02:13PST : INFO : brisk_xgboost : __discover_model__ : 127 : Message :     alpha 0.4235386884873211\n",
      "\u001b[2m\u001b[36m(__run_discoveries__ pid=3216)\u001b[0m 2022-11-23T03:02:13PST : INFO : brisk_xgboost : __discover_model__ : 127 : Message :     max_depth 1\n",
      "\u001b[2m\u001b[36m(__run_discoveries__ pid=3216)\u001b[0m 2022-11-23T03:02:13PST : INFO : brisk_xgboost : __discover_model__ : 127 : Message :     eta 0.9985007049077502\n",
      "\u001b[2m\u001b[36m(__run_discoveries__ pid=3216)\u001b[0m 2022-11-23T03:02:13PST : INFO : brisk_xgboost : __discover_model__ : 127 : Message :     gamma 0.10322386442657945\n",
      "\u001b[2m\u001b[36m(__run_discoveries__ pid=3216)\u001b[0m 2022-11-23T03:02:13PST : INFO : brisk_xgboost : __discover_model__ : 127 : Message :     grow_policy lossguide\n",
      "\u001b[2m\u001b[36m(__run_discoveries__ pid=3216)\u001b[0m 2022-11-23T03:02:13PST : INFO : brisk_xgboost : __discover_model__ : 127 : Message :     sample_type uniform\n",
      "\u001b[2m\u001b[36m(__run_discoveries__ pid=3216)\u001b[0m 2022-11-23T03:02:13PST : INFO : brisk_xgboost : __discover_model__ : 127 : Message :     normalize_type tree\n",
      "\u001b[2m\u001b[36m(__run_discoveries__ pid=3216)\u001b[0m 2022-11-23T03:02:13PST : INFO : brisk_xgboost : __discover_model__ : 127 : Message :     rate_drop 0.03758278355047616\n",
      "\u001b[2m\u001b[36m(__run_discoveries__ pid=3216)\u001b[0m 2022-11-23T03:02:13PST : INFO : brisk_xgboost : __discover_model__ : 127 : Message :     skip_drop 0.08654856448270105\n",
      "\u001b[2m\u001b[36m(__run_discoveries__ pid=3216)\u001b[0m 2022-11-23T03:02:13PST : INFO : brisk_xgboost : __discover_model__ : 144 : Message :   test r2 score: 0.2971445245473846\n",
      "\u001b[2m\u001b[36m(__run_discoveries__ pid=3216)\u001b[0m 2022-11-23T03:02:13PST : INFO : brisk_xgboost : __discover_model__ : 152 : Message : brisk_xgb: Model saved at /tmp/covid_autolearn/brisk_xgb/saved/brisk_xgb_457.pickle\n",
      "\u001b[2m\u001b[36m(__run_discoveries__ pid=3216)\u001b[0m 2022-11-23T03:02:13PST : INFO : brisk_xgboost : load_score : 200 : Message : brisk_xgb: scores loaded: [0.9064236182823546, 0.2971445245473846]\n",
      "\u001b[2m\u001b[36m(__run_discoveries__ pid=130, ip=10.10.98.100)\u001b[0m 2022-11-23T03:02:22PST : INFO : brisk_bagging : __discover_model__ : 112 : Message : brisk_bagging: Number of trials: 500\n",
      "\u001b[2m\u001b[36m(__run_discoveries__ pid=130, ip=10.10.98.100)\u001b[0m 2022-11-23T03:02:22PST : INFO : brisk_bagging : __discover_model__ : 114 : Message : Best trial:128\n",
      "\u001b[2m\u001b[36m(__run_discoveries__ pid=130, ip=10.10.98.100)\u001b[0m 2022-11-23T03:02:22PST : INFO : brisk_bagging : __discover_model__ : 116 : Message :   Params: \n",
      "\u001b[2m\u001b[36m(__run_discoveries__ pid=130, ip=10.10.98.100)\u001b[0m 2022-11-23T03:02:22PST : INFO : brisk_bagging : __discover_model__ : 118 : Message :     n_estimators 14\n",
      "\u001b[2m\u001b[36m(__run_discoveries__ pid=130, ip=10.10.98.100)\u001b[0m 2022-11-23T03:02:22PST : INFO : brisk_bagging : __discover_model__ : 132 : Message :   test r2 score: 0.5962507086117166\n",
      "\u001b[2m\u001b[36m(__run_discoveries__ pid=130, ip=10.10.98.100)\u001b[0m 2022-11-23T03:02:22PST : INFO : brisk_bagging : __discover_model__ : 137 : Message : brisk_bagging: Model saved at /tmp/covid_autolearn/brisk_bagging/saved/brisk_bagging_128.pickle\n",
      "\u001b[2m\u001b[36m(__run_discoveries__ pid=201, ip=10.10.105.191)\u001b[0m 2022-11-23T03:13:14PST : INFO : slug_rf : __discover_model__ : 114 : Message : slug_rf: Number of trials: 500\n",
      "\u001b[2m\u001b[36m(__run_discoveries__ pid=201, ip=10.10.105.191)\u001b[0m 2022-11-23T03:13:14PST : INFO : slug_rf : __discover_model__ : 116 : Message : Best trial:232\n",
      "\u001b[2m\u001b[36m(__run_discoveries__ pid=201, ip=10.10.105.191)\u001b[0m 2022-11-23T03:13:14PST : INFO : slug_rf : __discover_model__ : 118 : Message :   Params: \n",
      "\u001b[2m\u001b[36m(__run_discoveries__ pid=201, ip=10.10.105.191)\u001b[0m 2022-11-23T03:13:14PST : INFO : slug_rf : __discover_model__ : 120 : Message :     n_estimators 1410\n",
      "\u001b[2m\u001b[36m(__run_discoveries__ pid=201, ip=10.10.105.191)\u001b[0m 2022-11-23T03:13:14PST : INFO : slug_rf : __discover_model__ : 120 : Message :     max_depth 17\n",
      "\u001b[2m\u001b[36m(__run_discoveries__ pid=201, ip=10.10.105.191)\u001b[0m 2022-11-23T03:13:14PST : INFO : slug_rf : __discover_model__ : 120 : Message :     min_samples_split 17\n",
      "\u001b[2m\u001b[36m(__run_discoveries__ pid=201, ip=10.10.105.191)\u001b[0m 2022-11-23T03:13:14PST : INFO : slug_rf : __discover_model__ : 120 : Message :     min_samples_leaf 1\n",
      "\u001b[2m\u001b[36m(__run_discoveries__ pid=201, ip=10.10.105.191)\u001b[0m 2022-11-23T03:13:14PST : INFO : slug_rf : __discover_model__ : 134 : Message :   test r2 score: 0.5055152119518554\n",
      "\u001b[2m\u001b[36m(__run_discoveries__ pid=201, ip=10.10.105.191)\u001b[0m 2022-11-23T03:13:14PST : INFO : slug_rf : __discover_model__ : 139 : Message : slug_rf: Model saved at /tmp/covid_autolearn/slug_rf/saved/slug_rf_232.pickle\n",
      "\u001b[2m\u001b[36m(__run_discoveries__ pid=271, ip=10.10.48.229)\u001b[0m 2022-11-23T03:35:48PST : INFO : slug_ann : __discover_model__ : 229 : Message : slug_ann: Number of trials: 500\n",
      "\u001b[2m\u001b[36m(__run_discoveries__ pid=271, ip=10.10.48.229)\u001b[0m 2022-11-23T03:35:48PST : INFO : slug_ann : __discover_model__ : 231 : Message : Best trial: 357\n",
      "\u001b[2m\u001b[36m(__run_discoveries__ pid=271, ip=10.10.48.229)\u001b[0m 2022-11-23T03:35:48PST : INFO : slug_ann : __discover_model__ : 238 : Message : Sequential(\n",
      "\u001b[2m\u001b[36m(__run_discoveries__ pid=271, ip=10.10.48.229)\u001b[0m   (0): Linear(in_features=40, out_features=208, bias=True)\n",
      "\u001b[2m\u001b[36m(__run_discoveries__ pid=271, ip=10.10.48.229)\u001b[0m   (1): ReLU()\n",
      "\u001b[2m\u001b[36m(__run_discoveries__ pid=271, ip=10.10.48.229)\u001b[0m   (2): Dropout(p=0.2670266711663002, inplace=False)\n",
      "\u001b[2m\u001b[36m(__run_discoveries__ pid=271, ip=10.10.48.229)\u001b[0m   (3): Linear(in_features=208, out_features=55, bias=True)\n",
      "\u001b[2m\u001b[36m(__run_discoveries__ pid=271, ip=10.10.48.229)\u001b[0m   (4): ReLU()\n",
      "\u001b[2m\u001b[36m(__run_discoveries__ pid=271, ip=10.10.48.229)\u001b[0m   (5): Dropout(p=0.2670266711663002, inplace=False)\n",
      "\u001b[2m\u001b[36m(__run_discoveries__ pid=271, ip=10.10.48.229)\u001b[0m   (6): Linear(in_features=55, out_features=124, bias=True)\n",
      "\u001b[2m\u001b[36m(__run_discoveries__ pid=271, ip=10.10.48.229)\u001b[0m   (7): ReLU()\n",
      "\u001b[2m\u001b[36m(__run_discoveries__ pid=271, ip=10.10.48.229)\u001b[0m   (8): Dropout(p=0.2670266711663002, inplace=False)\n",
      "\u001b[2m\u001b[36m(__run_discoveries__ pid=271, ip=10.10.48.229)\u001b[0m   (9): Linear(in_features=124, out_features=6, bias=True)\n",
      "\u001b[2m\u001b[36m(__run_discoveries__ pid=271, ip=10.10.48.229)\u001b[0m   (10): ReLU()\n",
      "\u001b[2m\u001b[36m(__run_discoveries__ pid=271, ip=10.10.48.229)\u001b[0m   (11): Dropout(p=0.2670266711663002, inplace=False)\n",
      "\u001b[2m\u001b[36m(__run_discoveries__ pid=271, ip=10.10.48.229)\u001b[0m   (12): Linear(in_features=6, out_features=27, bias=True)\n",
      "\u001b[2m\u001b[36m(__run_discoveries__ pid=271, ip=10.10.48.229)\u001b[0m   (13): ReLU()\n",
      "\u001b[2m\u001b[36m(__run_discoveries__ pid=271, ip=10.10.48.229)\u001b[0m   (14): Dropout(p=0.2670266711663002, inplace=False)\n",
      "\u001b[2m\u001b[36m(__run_discoveries__ pid=271, ip=10.10.48.229)\u001b[0m   (15): Linear(in_features=27, out_features=69, bias=True)\n",
      "\u001b[2m\u001b[36m(__run_discoveries__ pid=271, ip=10.10.48.229)\u001b[0m   (16): ReLU()\n",
      "\u001b[2m\u001b[36m(__run_discoveries__ pid=271, ip=10.10.48.229)\u001b[0m   (17): Dropout(p=0.2670266711663002, inplace=False)\n",
      "\u001b[2m\u001b[36m(__run_discoveries__ pid=271, ip=10.10.48.229)\u001b[0m   (18): Linear(in_features=69, out_features=43, bias=True)\n",
      "\u001b[2m\u001b[36m(__run_discoveries__ pid=271, ip=10.10.48.229)\u001b[0m   (19): ReLU()\n",
      "\u001b[2m\u001b[36m(__run_discoveries__ pid=271, ip=10.10.48.229)\u001b[0m   (20): Dropout(p=0.2670266711663002, inplace=False)\n",
      "\u001b[2m\u001b[36m(__run_discoveries__ pid=271, ip=10.10.48.229)\u001b[0m   (21): Linear(in_features=43, out_features=165, bias=True)\n",
      "\u001b[2m\u001b[36m(__run_discoveries__ pid=271, ip=10.10.48.229)\u001b[0m   (22): ReLU()\n",
      "\u001b[2m\u001b[36m(__run_discoveries__ pid=271, ip=10.10.48.229)\u001b[0m   (23): Dropout(p=0.2670266711663002, inplace=False)\n",
      "\u001b[2m\u001b[36m(__run_discoveries__ pid=271, ip=10.10.48.229)\u001b[0m   (24): Linear(in_features=165, out_features=1, bias=True)\n",
      "\u001b[2m\u001b[36m(__run_discoveries__ pid=271, ip=10.10.48.229)\u001b[0m   (25): ReLU()\n",
      "\u001b[2m\u001b[36m(__run_discoveries__ pid=271, ip=10.10.48.229)\u001b[0m )\n",
      "\u001b[2m\u001b[36m(__run_discoveries__ pid=271, ip=10.10.48.229)\u001b[0m 2022-11-23T03:35:48PST : INFO : slug_ann : __discover_model__ : 245 : Message :   test r2 score: 0.3081144238034367\n",
      "\u001b[2m\u001b[36m(__run_discoveries__ pid=271, ip=10.10.48.229)\u001b[0m 2022-11-23T03:35:48PST : INFO : slug_ann : __discover_model__ : 248 : Message : slug_ann: Model saved at /tmp/covid_autolearn/slug_ann/saved/tmp/covid_autolearn/slug_ann/tmp/slug_ann_357.pickle\n",
      "\u001b[2m\u001b[36m(__run_discoveries__ pid=271, ip=10.10.48.229)\u001b[0m 2022-11-23T03:35:48PST : INFO : slug_ann : load_score : 298 : Message : slug_ann: scores loaded: [0.7887909740843149, 0.3081144238034367]\n",
      "2022-11-23T05:35:48CST : INFO : ensemble_v2 : fetch_models : 122 : Message : base model training completed\n",
      "2022-11-23T05:35:48CST : INFO : ensemble_v2 : fetch_models : 131 : Message : Ensemble: base model scores loaded, access via 'base_model_scores'\n",
      "2022-11-23T05:35:48CST : INFO : ensemble_v2 : fit : 165 : Message : Ensemble: fiting ensemble on 6 models\n",
      "\u001b[2m\u001b[36m(__run_discoveries__ pid=3216)\u001b[0m 2022-11-23T03:35:48PST : INFO : brisk_bagging : __discover_model__ : 94 : Message : ensemble_brisk_bagging: Starting training for trials:100, n_estimators  50\n",
      "\u001b[2m\u001b[36m(__run_discoveries__ pid=3216)\u001b[0m /tmp/ray/session_2022-11-23_00-55-48_777969_8/runtime_resources/pip/6359c2ba15c7e71f0e73b7159cb8c36699f062e1/virtualenv/lib/python3.9/site-packages/optuna/_optimize.py:93: UserWarning: The default storage cannot be shared by multiple processes. Please use an RDB (RDBStorage) when you use joblib for multi-processing. The usage of RDBStorage can be found in https://optuna.readthedocs.io/en/stable/tutorial/rdb.html.\n",
      "\u001b[2m\u001b[36m(__run_discoveries__ pid=3216)\u001b[0m   warnings.warn(\n"
     ]
    }
   ],
   "source": [
    "ensemble_set.fetch_models(X_train_scalar, X_test_scalar, y_train, y_test, threshold=None)"
   ]
  },
  {
   "cell_type": "code",
   "execution_count": 27,
   "metadata": {},
   "outputs": [
    {
     "data": {
      "text/plain": [
       "[[0.9064236182823546,\n",
       "  0.2971445245473846,\n",
       "  <ml.models.base.v2.brisk_xgboost.BriskXGBoost at 0x7f25de6f8f10>],\n",
       " [0.942306673581218,\n",
       "  0.24762963825305173,\n",
       "  <ml.models.base.v2.slug_xgboost.SlugXGBoost at 0x7f25de6f8790>],\n",
       " [0.7887909740843149,\n",
       "  0.3081144238034367,\n",
       "  <ml.models.base.v2.slug_ann.SlugANN at 0x7f26000a4130>],\n",
       " [0.8374187159048148,\n",
       "  0.5055152119518554,\n",
       "  <ml.models.base.v2.slug_rf.SlugRF at 0x7f25de6f8a30>],\n",
       " [0.6497272678062903,\n",
       "  0.5382569657433527,\n",
       "  <ml.models.base.v2.slug_knn.SlugKNN at 0x7f25dc0559d0>],\n",
       " [0.9402230243935257,\n",
       "  0.5962507086117166,\n",
       "  <ml.models.base.v2.brisk_bagging.BriskBagging at 0x7f25dc055c70>]]"
      ]
     },
     "execution_count": 27,
     "metadata": {},
     "output_type": "execute_result"
    }
   ],
   "source": [
    "ensemble_set.base_model_scores"
   ]
  },
  {
   "cell_type": "code",
   "execution_count": 17,
   "metadata": {},
   "outputs": [],
   "source": [
    "# ensemble_set.fit(X_train_scalar, X_test_scalar, y_train, y_test)"
   ]
  },
  {
   "cell_type": "code",
   "execution_count": 28,
   "metadata": {},
   "outputs": [
    {
     "data": {
      "text/plain": [
       "[0.9919763222678744, 0.5957023193695732]"
      ]
     },
     "execution_count": 28,
     "metadata": {},
     "output_type": "execute_result"
    }
   ],
   "source": [
    "ensemble_set.score"
   ]
  },
  {
   "cell_type": "code",
   "execution_count": 29,
   "metadata": {},
   "outputs": [
    {
     "data": {
      "text/plain": [
       "-0.16032659316215825"
      ]
     },
     "execution_count": 29,
     "metadata": {},
     "output_type": "execute_result"
    }
   ],
   "source": [
    "pred = ensemble_set.predict(X_test_scalar)\n",
    "r2_score(pred, y_test)"
   ]
  },
  {
   "cell_type": "code",
   "execution_count": null,
   "metadata": {},
   "outputs": [],
   "source": []
  }
 ],
 "metadata": {
  "kernelspec": {
   "display_name": "admin-admin-wasif-dev-ray",
   "language": "python",
   "name": "conda-env-admin-admin-wasif-dev-ray-py"
  },
  "language_info": {
   "codemirror_mode": {
    "name": "ipython",
    "version": 3
   },
   "file_extension": ".py",
   "mimetype": "text/x-python",
   "name": "python",
   "nbconvert_exporter": "python",
   "pygments_lexer": "ipython3",
   "version": "3.9.13"
  },
  "vscode": {
   "interpreter": {
    "hash": "5a94c6c960097f54adba02dc541c5971cf8d1c3cc945e5d727fdc1dc3c601326"
   }
  }
 },
 "nbformat": 4,
 "nbformat_minor": 4
}
