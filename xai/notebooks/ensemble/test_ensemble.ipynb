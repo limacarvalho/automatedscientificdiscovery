{
 "cells": [
  {
   "cell_type": "code",
   "execution_count": 1,
   "metadata": {},
   "outputs": [],
   "source": [
    "%load_ext autoreload\n",
    "%autoreload 2"
   ]
  },
  {
   "cell_type": "code",
   "execution_count": 2,
   "metadata": {},
   "outputs": [],
   "source": [
    "import sys; sys.path.insert(0, '..') # add parent folder path where lib folder is"
   ]
  },
  {
   "cell_type": "code",
   "execution_count": 3,
   "metadata": {},
   "outputs": [],
   "source": [
    "# from ml.preprocess import data\n",
    "import pickle\n",
    "from dask_ml.preprocessing import StandardScaler\n",
    "\n",
    "from sklearn.metrics import r2_score, mean_squared_error\n",
    "from sklearn.metrics import f1_score, roc_auc_score, precision_score, recall_score\n",
    "\n",
    "import numpy as np\n",
    "import pandas as pd\n",
    "\n",
    "from itertools import combinations\n",
    "\n",
    "from utils import helper\n",
    "# from ml.models.base import brisk_nn_pytorch, slug_xgboost, slug_svm, slug_sdg\n",
    "from ml.models.base.slug_ann import SlugANN\n",
    "from ml.models.base.slug_xgboost import SlugXGBoost\n",
    "from sklearn.model_selection import train_test_split\n",
    "\n",
    "import xgboost as xgb\n"
   ]
  },
  {
   "cell_type": "code",
   "execution_count": 4,
   "metadata": {},
   "outputs": [],
   "source": [
    "df_X, df_y = helper.get_covid_dataset()\n",
    "df_X = df_X.drop(['location'], axis = 1)\n",
    "X_train, X_test, y_train, y_test = train_test_split(df_X, df_y, test_size=0.33)\n",
    "\n",
    "\n",
    "X_scalar = StandardScaler().fit_transform(df_X)\n",
    "\n",
    "X_base_scalar, X_test_scalar, y_base, y_test = train_test_split(X_scalar, df_y, test_size=0.33)\n",
    "X_train_scalar, X_val_scalar, y_train, y_val = train_test_split(X_base_scalar, y_base)"
   ]
  },
  {
   "cell_type": "code",
   "execution_count": 5,
   "metadata": {},
   "outputs": [],
   "source": [
    "slug_ann = SlugANN()\n",
    "\n",
    "slug_ann.X_train = X_train_scalar\n",
    "slug_ann.X_test = X_test_scalar\n",
    "slug_ann.X_val = X_val_scalar\n",
    "slug_ann.y_train = y_train\n",
    "slug_ann.y_test = y_test\n",
    "slug_ann.y_val = y_val\n",
    "\n"
   ]
  },
  {
   "cell_type": "code",
   "execution_count": 6,
   "metadata": {},
   "outputs": [
    {
     "name": "stdout",
     "output_type": "stream",
     "text": [
      "total models trained: 2\n"
     ]
    }
   ],
   "source": [
    "slug_ann.get_model_scores()"
   ]
  },
  {
   "cell_type": "code",
   "execution_count": 8,
   "metadata": {},
   "outputs": [
    {
     "data": {
      "text/plain": [
       "[Sequential(\n",
       "   (0): Linear(in_features=40, out_features=56, bias=True)\n",
       "   (1): ReLU()\n",
       "   (2): Linear(in_features=56, out_features=212, bias=True)\n",
       "   (3): ReLU()\n",
       "   (4): Linear(in_features=212, out_features=204, bias=True)\n",
       "   (5): ReLU()\n",
       "   (6): Linear(in_features=204, out_features=132, bias=True)\n",
       "   (7): ReLU()\n",
       "   (8): Linear(in_features=132, out_features=72, bias=True)\n",
       "   (9): ReLU()\n",
       "   (10): Linear(in_features=72, out_features=184, bias=True)\n",
       "   (11): ReLU()\n",
       "   (12): Linear(in_features=184, out_features=116, bias=True)\n",
       "   (13): ReLU()\n",
       "   (14): Linear(in_features=116, out_features=1, bias=True)\n",
       "   (15): ReLU()\n",
       " ),\n",
       " -0.08001711067605166]"
      ]
     },
     "execution_count": 8,
     "metadata": {},
     "output_type": "execute_result"
    }
   ],
   "source": [
    "slug_ann.final_models[0]"
   ]
  },
  {
   "cell_type": "code",
   "execution_count": 10,
   "metadata": {},
   "outputs": [],
   "source": [
    "\n",
    "slug_xgboost = SlugXGBoost()\n",
    "slug_xgboost.X_train = X_train\n",
    "slug_xgboost.X_test = X_test\n",
    "slug_xgboost.y_train = y_train\n",
    "slug_xgboost.y_test = y_test\n"
   ]
  },
  {
   "cell_type": "code",
   "execution_count": 11,
   "metadata": {},
   "outputs": [
    {
     "name": "stdout",
     "output_type": "stream",
     "text": [
      "total models trained: 28\n"
     ]
    },
    {
     "ename": "ValueError",
     "evalue": "feature_names mismatch: ['location', 'new_cases_per_million', 'population_cov', 'life_expectancy_cov', 'Population', 'Area_km2', 'Density_km2', 'Year_x', 'Meningitis', 'Neoplasms', 'Fire, heat, and hot substances', 'Malaria', 'Drowning', 'Interpersonal violence', 'HIV/AIDS', 'Drug use disorders', 'Tuberculosis', 'Road injuries', 'Maternal disorders', 'Lower respiratory infections', 'Neonatal disorders', 'Alcohol use disorders', 'Exposure to forces of nature', 'Diarrheal diseases', 'Environmental heat and cold exposure', 'Nutritional deficiencies', 'Self-harm', 'Conflict and terrorism', 'Diabetes mellitus', 'Poisonings', 'Protein-energy malnutrition', 'Cardiovascular diseases', 'Chronic kidney disease', 'Chronic respiratory diseases', 'Cirrhosis and other chronic liver diseases', 'Digestive diseases', 'Acute hepatitis', \"Alzheimer's disease and other dementias\", \"Parkinson's disease\", 'Total', 'air_polution'] ['new_cases_per_million', 'population_cov', 'life_expectancy_cov', 'Population', 'Area_km2', 'Density_km2', 'Year_x', 'Meningitis', 'Neoplasms', 'Fire, heat, and hot substances', 'Malaria', 'Drowning', 'Interpersonal violence', 'HIV/AIDS', 'Drug use disorders', 'Tuberculosis', 'Road injuries', 'Maternal disorders', 'Lower respiratory infections', 'Neonatal disorders', 'Alcohol use disorders', 'Exposure to forces of nature', 'Diarrheal diseases', 'Environmental heat and cold exposure', 'Nutritional deficiencies', 'Self-harm', 'Conflict and terrorism', 'Diabetes mellitus', 'Poisonings', 'Protein-energy malnutrition', 'Cardiovascular diseases', 'Chronic kidney disease', 'Chronic respiratory diseases', 'Cirrhosis and other chronic liver diseases', 'Digestive diseases', 'Acute hepatitis', \"Alzheimer's disease and other dementias\", \"Parkinson's disease\", 'Total', 'air_polution']\nexpected location in input data",
     "output_type": "error",
     "traceback": [
      "\u001b[0;31m---------------------------------------------------------------------------\u001b[0m",
      "\u001b[0;31mValueError\u001b[0m                                Traceback (most recent call last)",
      "\u001b[1;32m/mnt/c/Users/rwmas/GitHub/auto-learn/notebooks/ensemble.ipynb Cell 9\u001b[0m in \u001b[0;36m<cell line: 1>\u001b[0;34m()\u001b[0m\n\u001b[0;32m----> <a href='vscode-notebook-cell://wsl%2Bubuntu/mnt/c/Users/rwmas/GitHub/auto-learn/notebooks/ensemble.ipynb#Y114sdnNjb2RlLXJlbW90ZQ%3D%3D?line=0'>1</a>\u001b[0m slug_xgboost\u001b[39m.\u001b[39;49mget_model_scores()\n",
      "File \u001b[0;32m/mnt/c/Users/rwmas/GitHub/auto-learn/notebooks/../ml/models/base/slug_xgboost.py:212\u001b[0m, in \u001b[0;36mSlugXGBoost.get_model_scores\u001b[0;34m(self, score_func, acceptance_threshold)\u001b[0m\n\u001b[1;32m    208\u001b[0m \u001b[39mfor\u001b[39;00m model \u001b[39min\u001b[39;00m \u001b[39mself\u001b[39m\u001b[39m.\u001b[39mmodels:\n\u001b[1;32m    210\u001b[0m     dtest \u001b[39m=\u001b[39m xgb\u001b[39m.\u001b[39mDMatrix(\u001b[39mself\u001b[39m\u001b[39m.\u001b[39mX_test, label\u001b[39m=\u001b[39m\u001b[39mself\u001b[39m\u001b[39m.\u001b[39my_test)\n\u001b[0;32m--> 212\u001b[0m     pred \u001b[39m=\u001b[39m model\u001b[39m.\u001b[39;49mpredict(dtest)\n\u001b[1;32m    214\u001b[0m     \u001b[39m# comb_preds.append(pred)\u001b[39;00m\n\u001b[1;32m    216\u001b[0m     \u001b[39mif\u001b[39;00m score_func \u001b[39mis\u001b[39;00m \u001b[39mNone\u001b[39;00m:                \n",
      "File \u001b[0;32m~/miniconda3/envs/automl/lib/python3.8/site-packages/xgboost/core.py:1997\u001b[0m, in \u001b[0;36mBooster.predict\u001b[0;34m(self, data, output_margin, ntree_limit, pred_leaf, pred_contribs, approx_contribs, pred_interactions, validate_features, training, iteration_range, strict_shape)\u001b[0m\n\u001b[1;32m   1995\u001b[0m     \u001b[39mraise\u001b[39;00m \u001b[39mTypeError\u001b[39;00m(\u001b[39m'\u001b[39m\u001b[39mExpecting data to be a DMatrix object, got: \u001b[39m\u001b[39m'\u001b[39m, \u001b[39mtype\u001b[39m(data))\n\u001b[1;32m   1996\u001b[0m \u001b[39mif\u001b[39;00m validate_features:\n\u001b[0;32m-> 1997\u001b[0m     \u001b[39mself\u001b[39;49m\u001b[39m.\u001b[39;49m_validate_features(data)\n\u001b[1;32m   1998\u001b[0m iteration_range \u001b[39m=\u001b[39m _convert_ntree_limit(\u001b[39mself\u001b[39m, ntree_limit, iteration_range)\n\u001b[1;32m   1999\u001b[0m args \u001b[39m=\u001b[39m {\n\u001b[1;32m   2000\u001b[0m     \u001b[39m\"\u001b[39m\u001b[39mtype\u001b[39m\u001b[39m\"\u001b[39m: \u001b[39m0\u001b[39m,\n\u001b[1;32m   2001\u001b[0m     \u001b[39m\"\u001b[39m\u001b[39mtraining\u001b[39m\u001b[39m\"\u001b[39m: training,\n\u001b[0;32m   (...)\u001b[0m\n\u001b[1;32m   2004\u001b[0m     \u001b[39m\"\u001b[39m\u001b[39mstrict_shape\u001b[39m\u001b[39m\"\u001b[39m: strict_shape,\n\u001b[1;32m   2005\u001b[0m }\n",
      "File \u001b[0;32m~/miniconda3/envs/automl/lib/python3.8/site-packages/xgboost/core.py:2618\u001b[0m, in \u001b[0;36mBooster._validate_features\u001b[0;34m(self, data)\u001b[0m\n\u001b[1;32m   2614\u001b[0m \u001b[39mif\u001b[39;00m my_missing:\n\u001b[1;32m   2615\u001b[0m     msg \u001b[39m+\u001b[39m\u001b[39m=\u001b[39m (\u001b[39m'\u001b[39m\u001b[39m\\n\u001b[39;00m\u001b[39mtraining data did not have the following fields: \u001b[39m\u001b[39m'\u001b[39m \u001b[39m+\u001b[39m\n\u001b[1;32m   2616\u001b[0m             \u001b[39m'\u001b[39m\u001b[39m, \u001b[39m\u001b[39m'\u001b[39m\u001b[39m.\u001b[39mjoin(\u001b[39mstr\u001b[39m(s) \u001b[39mfor\u001b[39;00m s \u001b[39min\u001b[39;00m my_missing))\n\u001b[0;32m-> 2618\u001b[0m \u001b[39mraise\u001b[39;00m \u001b[39mValueError\u001b[39;00m(msg\u001b[39m.\u001b[39mformat(\u001b[39mself\u001b[39m\u001b[39m.\u001b[39mfeature_names, data\u001b[39m.\u001b[39mfeature_names))\n",
      "\u001b[0;31mValueError\u001b[0m: feature_names mismatch: ['location', 'new_cases_per_million', 'population_cov', 'life_expectancy_cov', 'Population', 'Area_km2', 'Density_km2', 'Year_x', 'Meningitis', 'Neoplasms', 'Fire, heat, and hot substances', 'Malaria', 'Drowning', 'Interpersonal violence', 'HIV/AIDS', 'Drug use disorders', 'Tuberculosis', 'Road injuries', 'Maternal disorders', 'Lower respiratory infections', 'Neonatal disorders', 'Alcohol use disorders', 'Exposure to forces of nature', 'Diarrheal diseases', 'Environmental heat and cold exposure', 'Nutritional deficiencies', 'Self-harm', 'Conflict and terrorism', 'Diabetes mellitus', 'Poisonings', 'Protein-energy malnutrition', 'Cardiovascular diseases', 'Chronic kidney disease', 'Chronic respiratory diseases', 'Cirrhosis and other chronic liver diseases', 'Digestive diseases', 'Acute hepatitis', \"Alzheimer's disease and other dementias\", \"Parkinson's disease\", 'Total', 'air_polution'] ['new_cases_per_million', 'population_cov', 'life_expectancy_cov', 'Population', 'Area_km2', 'Density_km2', 'Year_x', 'Meningitis', 'Neoplasms', 'Fire, heat, and hot substances', 'Malaria', 'Drowning', 'Interpersonal violence', 'HIV/AIDS', 'Drug use disorders', 'Tuberculosis', 'Road injuries', 'Maternal disorders', 'Lower respiratory infections', 'Neonatal disorders', 'Alcohol use disorders', 'Exposure to forces of nature', 'Diarrheal diseases', 'Environmental heat and cold exposure', 'Nutritional deficiencies', 'Self-harm', 'Conflict and terrorism', 'Diabetes mellitus', 'Poisonings', 'Protein-energy malnutrition', 'Cardiovascular diseases', 'Chronic kidney disease', 'Chronic respiratory diseases', 'Cirrhosis and other chronic liver diseases', 'Digestive diseases', 'Acute hepatitis', \"Alzheimer's disease and other dementias\", \"Parkinson's disease\", 'Total', 'air_polution']\nexpected location in input data"
     ]
    }
   ],
   "source": [
    "slug_xgboost.get_model_scores()"
   ]
  },
  {
   "cell_type": "code",
   "execution_count": 7,
   "metadata": {},
   "outputs": [
    {
     "name": "stdout",
     "output_type": "stream",
     "text": [
      "total models trained: 1\n"
     ]
    }
   ],
   "source": [
    "slug_ann.load_saved_models()"
   ]
  },
  {
   "cell_type": "code",
   "execution_count": 4,
   "metadata": {},
   "outputs": [],
   "source": [
    "# xgb_model = brisk_xgboost.fetch_model()\n",
    "# xgb_model.save_model(brisk_xgboost.MODEL_SAVE_PATH + 'xgboost.json')"
   ]
  },
  {
   "cell_type": "code",
   "execution_count": 5,
   "metadata": {},
   "outputs": [],
   "source": [
    "# xgb_model = slug_xgboost.fetch_model()"
   ]
  },
  {
   "cell_type": "code",
   "execution_count": 6,
   "metadata": {},
   "outputs": [],
   "source": [
    "# nn_model = brisk_nn_pytorch.fetch_model()"
   ]
  },
  {
   "cell_type": "code",
   "execution_count": 7,
   "metadata": {},
   "outputs": [],
   "source": [
    "# nn_model.eval()"
   ]
  },
  {
   "cell_type": "code",
   "execution_count": 8,
   "metadata": {},
   "outputs": [],
   "source": [
    "import os\n",
    "import glob\n",
    "\n",
    "import xgboost as xgb\n",
    "\n",
    "from utils.helper import adjusted_r2\n",
    "\n",
    "\n",
    "problem_type = 'regression'\n",
    "\n",
    "if problem_type == 'regression':\n",
    "    eval_metrics = [mean_squared_error, r2_score]\n",
    "    min_max = min\n",
    "else:\n",
    "    eval_metrics = [f1_score, roc_auc_score, precision_score, recall_score]\n",
    "    min_max = max\n"
   ]
  },
  {
   "cell_type": "code",
   "execution_count": 9,
   "metadata": {},
   "outputs": [],
   "source": [
    "\n",
    "best_models = []\n",
    "\n",
    "slug_xgboost_files = glob.glob(slug_xgboost.MODEL_SAVE_PATH+'/*')\n",
    "\n",
    "for file in slug_xgboost_files:\n",
    "    model = slug_xgboost.load_model(file)\n",
    "    best_models.append(model)\n"
   ]
  },
  {
   "cell_type": "code",
   "execution_count": 10,
   "metadata": {},
   "outputs": [
    {
     "data": {
      "text/plain": [
       "9"
      ]
     },
     "execution_count": 10,
     "metadata": {},
     "output_type": "execute_result"
    }
   ],
   "source": [
    "len(best_models)"
   ]
  },
  {
   "cell_type": "code",
   "execution_count": 11,
   "metadata": {},
   "outputs": [
    {
     "data": {
      "text/plain": [
       "xgboost.core.Booster"
      ]
     },
     "execution_count": 11,
     "metadata": {},
     "output_type": "execute_result"
    }
   ],
   "source": [
    "# type(model)\n",
    "type(best_models[0])"
   ]
  },
  {
   "cell_type": "code",
   "execution_count": 12,
   "metadata": {},
   "outputs": [
    {
     "name": "stdout",
     "output_type": "stream",
     "text": [
      "yes\n"
     ]
    }
   ],
   "source": [
    "\n",
    "\n",
    "if xgb.core.Booster == type(best_models[0]):\n",
    "    print('yes')"
   ]
  },
  {
   "cell_type": "code",
   "execution_count": 13,
   "metadata": {},
   "outputs": [
    {
     "data": {
      "text/plain": [
       "[0.2398409925115903,\n",
       " -6.7978184894659,\n",
       " -0.13156062523985912,\n",
       " -0.8702828447903668,\n",
       " -0.32586625555931725,\n",
       " 0.26507808319570314,\n",
       " -0.34497131097944966,\n",
       " 0.4104746991798226,\n",
       " -0.048707386213444614,\n",
       " -0.8461573299484177,\n",
       " 0.26145439687207983,\n",
       " 0.43644399603736106,\n",
       " 0.19935548014418647]"
      ]
     },
     "execution_count": 13,
     "metadata": {},
     "output_type": "execute_result"
    }
   ],
   "source": [
    "### Predictions from NN Torch\n",
    "\n",
    "X_train, X_test_scalar, y_train, y_test = brisk_nn_pytorch.get_split_dataset()\n",
    "#X_test_scalar = StandardScaler().fit_transform(X_test)     \n",
    "X_test_tensor = helper.df_to_tensor(X_test_scalar)\n",
    "\n",
    "\n",
    "brisk_nn_pytorch_files = glob.glob(brisk_nn_pytorch.PARAM_MODEL_SAVE_PATH+'/*')\n",
    "\n",
    "\n",
    "nn_models = []\n",
    "r2_scores_nn_models = []\n",
    "preds_nn_models = []\n",
    "good_nn_models = []\n",
    "good_nn_models_pred = []\n",
    "\n",
    "for file in brisk_nn_pytorch_files:\n",
    "    #xgb_best_model = xgb.Booster()\n",
    "    # xgb_best_model.load_model(file)\n",
    "    model = brisk_nn_pytorch.load_model(file)\n",
    "    nn_models.append(model)\n",
    "\n",
    "\n",
    "\n",
    "for model in nn_models:\n",
    "\n",
    "    pred = model(X_test_tensor)\n",
    "    pred = helper.torch_tensor_to_numpy(pred)\n",
    "    pred = pred.reshape(pred.shape[0],)\n",
    "\n",
    "    # comb_preds.append(pred)\n",
    "    \n",
    "    # for metric in eval_metrics[0]:\n",
    "    metirc_score = r2_score(pred, y_test)\n",
    "\n",
    "    if metirc_score> 0.4:\n",
    "        good_nn_models.append(model)\n",
    "        good_nn_models_pred.append(pred)\n",
    "\n",
    "\n",
    "    r2_scores_nn_models.append(metirc_score)\n",
    "\n",
    "\n",
    "r2_scores_nn_models\n"
   ]
  },
  {
   "cell_type": "code",
   "execution_count": 14,
   "metadata": {},
   "outputs": [
    {
     "data": {
      "text/plain": [
       "[0.7016786597577798,\n",
       " 0.6036870860535384,\n",
       " 0.7038825452392524,\n",
       " 0.6916054254949667,\n",
       " 0.6966467751943459,\n",
       " 0.6933923857927424,\n",
       " 0.6018687572522508,\n",
       " 0.7502451501608368,\n",
       " 0.6915931273577398]"
      ]
     },
     "execution_count": 14,
     "metadata": {},
     "output_type": "execute_result"
    }
   ],
   "source": [
    "### Predictions from XGBOSST\n",
    "\n",
    "X_train_orig, X_test_orig, _, _ = slug_xgboost.get_split_dataset([])\n",
    "X_train, X_test, y_train, y_test = slug_xgboost.get_split_dataset(drop_list=['location'])\n",
    "dtrain = xgb.DMatrix(X_train, label=y_train)\n",
    "dtest = xgb.DMatrix(X_test, label=y_test)\n",
    "\n",
    "\n",
    "xgb_models = []\n",
    "r2_scores_xgb_models = []\n",
    "preds_xgb_models = []\n",
    "good_xgb_models = []\n",
    "good_xgb_models_pred = []\n",
    "\n",
    "\n",
    "slug_xgboost_files = glob.glob(slug_xgboost.MODEL_SAVE_PATH+'/*')\n",
    "\n",
    "\n",
    "# print(brisk_nn_pytorch_files)\n",
    "\n",
    "for file in slug_xgboost_files:\n",
    "    #xgb_best_model = xgb.Booster()\n",
    "    # xgb_best_model.load_model(file)\n",
    "    model = slug_xgboost.load_model(file)\n",
    "    xgb_models.append(model)\n",
    "\n",
    "\n",
    "\n",
    "for model in xgb_models:\n",
    "    pred = model.predict(dtest)\n",
    "    preds_xgb_models.append(pred)\n",
    "    \n",
    "    # for metric in eval_metrics[0]:\n",
    "    metirc_score = r2_score(pred, y_test)\n",
    "\n",
    "    if metirc_score> 0.4:\n",
    "        good_nn_models.append(model)\n",
    "        good_xgb_models_pred.append(pred)\n",
    "\n",
    "    r2_scores_xgb_models.append(metirc_score)\n",
    "\n",
    "\n",
    "r2_scores_xgb_models\n",
    "\n"
   ]
  },
  {
   "cell_type": "code",
   "execution_count": 15,
   "metadata": {},
   "outputs": [],
   "source": [
    "good_xgb_models_pred.extend(good_nn_models_pred)\n",
    "good_pred = good_xgb_models_pred"
   ]
  },
  {
   "cell_type": "code",
   "execution_count": 16,
   "metadata": {},
   "outputs": [],
   "source": [
    "# good_pred"
   ]
  },
  {
   "cell_type": "code",
   "execution_count": 17,
   "metadata": {},
   "outputs": [],
   "source": [
    "df_good_pred = pd.DataFrame(good_pred).T\n",
    "# df_good_pred['target'] = y_test.values\n",
    "df_good_pred.shape\n",
    "X_train, X_test, y_train, y_test = slug_xgboost.get_split_dataset(drop_list=['location'])\n"
   ]
  },
  {
   "cell_type": "code",
   "execution_count": 18,
   "metadata": {},
   "outputs": [],
   "source": [
    "from sklearn.model_selection import train_test_split\n",
    "X_train, X_test, y_train, y_test = train_test_split(df_good_pred, y_test, test_size=0.33)\n"
   ]
  },
  {
   "cell_type": "code",
   "execution_count": 19,
   "metadata": {},
   "outputs": [
    {
     "ename": "TypeError",
     "evalue": "Singleton array array(0.33) cannot be considered a valid collection.",
     "output_type": "error",
     "traceback": [
      "\u001b[0;31m---------------------------------------------------------------------------\u001b[0m",
      "\u001b[0;31mTypeError\u001b[0m                                 Traceback (most recent call last)",
      "\u001b[1;32m/mnt/c/Users/rwmas/GitHub/auto-learn/notebooks/ensemble.ipynb Cell 19\u001b[0m in \u001b[0;36m<cell line: 3>\u001b[0;34m()\u001b[0m\n\u001b[1;32m      <a href='vscode-notebook-cell://wsl%2Bubuntu/mnt/c/Users/rwmas/GitHub/auto-learn/notebooks/ensemble.ipynb#Y111sdnNjb2RlLXJlbW90ZQ%3D%3D?line=0'>1</a>\u001b[0m \u001b[39mfrom\u001b[39;00m \u001b[39mml\u001b[39;00m\u001b[39m.\u001b[39;00m\u001b[39mmodels\u001b[39;00m\u001b[39m.\u001b[39;00m\u001b[39mbase\u001b[39;00m\u001b[39m.\u001b[39;00m\u001b[39mslug_sgd_v2\u001b[39;00m \u001b[39mimport\u001b[39;00m SlugSGD\n\u001b[0;32m----> <a href='vscode-notebook-cell://wsl%2Bubuntu/mnt/c/Users/rwmas/GitHub/auto-learn/notebooks/ensemble.ipynb#Y111sdnNjb2RlLXJlbW90ZQ%3D%3D?line=2'>3</a>\u001b[0m slug_sgd \u001b[39m=\u001b[39m SlugSGD(df_good_pred, y_test)\n",
      "File \u001b[0;32m/mnt/c/Users/rwmas/GitHub/auto-learn/notebooks/../ml/models/base/slug_sgd_v2.py:35\u001b[0m, in \u001b[0;36mSlugSGD.__init__\u001b[0;34m(self, df_X, df_y)\u001b[0m\n\u001b[1;32m     32\u001b[0m \u001b[39mself\u001b[39m\u001b[39m.\u001b[39mtemp_path \u001b[39m=\u001b[39m config\u001b[39m.\u001b[39mmain_dir \u001b[39m+\u001b[39m \u001b[39m\"\u001b[39m\u001b[39m/ml/models/saved/temp/sgd\u001b[39m\u001b[39m\"\u001b[39m\n\u001b[1;32m     33\u001b[0m \u001b[39mself\u001b[39m\u001b[39m.\u001b[39mmodel_save_path \u001b[39m=\u001b[39m config\u001b[39m.\u001b[39mmain_dir \u001b[39m+\u001b[39m \u001b[39m\"\u001b[39m\u001b[39m/ml/models/saved/base/sgd\u001b[39m\u001b[39m\"\u001b[39m\n\u001b[0;32m---> 35\u001b[0m \u001b[39mself\u001b[39m\u001b[39m.\u001b[39mX_train, \u001b[39mself\u001b[39m\u001b[39m.\u001b[39mX_test, \u001b[39mself\u001b[39m\u001b[39m.\u001b[39my_train, \u001b[39mself\u001b[39m\u001b[39m.\u001b[39my_test \u001b[39m=\u001b[39m train_test_split(df_X, df_y, \u001b[39mself\u001b[39;49m\u001b[39m.\u001b[39;49mtest_size)\n",
      "File \u001b[0;32m~/miniconda3/envs/automl/lib/python3.8/site-packages/sklearn/model_selection/_split.py:2419\u001b[0m, in \u001b[0;36mtrain_test_split\u001b[0;34m(test_size, train_size, random_state, shuffle, stratify, *arrays)\u001b[0m\n\u001b[1;32m   2416\u001b[0m \u001b[39mif\u001b[39;00m n_arrays \u001b[39m==\u001b[39m \u001b[39m0\u001b[39m:\n\u001b[1;32m   2417\u001b[0m     \u001b[39mraise\u001b[39;00m \u001b[39mValueError\u001b[39;00m(\u001b[39m\"\u001b[39m\u001b[39mAt least one array required as input\u001b[39m\u001b[39m\"\u001b[39m)\n\u001b[0;32m-> 2419\u001b[0m arrays \u001b[39m=\u001b[39m indexable(\u001b[39m*\u001b[39;49marrays)\n\u001b[1;32m   2421\u001b[0m n_samples \u001b[39m=\u001b[39m _num_samples(arrays[\u001b[39m0\u001b[39m])\n\u001b[1;32m   2422\u001b[0m n_train, n_test \u001b[39m=\u001b[39m _validate_shuffle_split(\n\u001b[1;32m   2423\u001b[0m     n_samples, test_size, train_size, default_test_size\u001b[39m=\u001b[39m\u001b[39m0.25\u001b[39m\n\u001b[1;32m   2424\u001b[0m )\n",
      "File \u001b[0;32m~/miniconda3/envs/automl/lib/python3.8/site-packages/sklearn/utils/validation.py:370\u001b[0m, in \u001b[0;36mindexable\u001b[0;34m(*iterables)\u001b[0m\n\u001b[1;32m    358\u001b[0m \u001b[39m\"\"\"Make arrays indexable for cross-validation.\u001b[39;00m\n\u001b[1;32m    359\u001b[0m \n\u001b[1;32m    360\u001b[0m \u001b[39mChecks consistent length, passes through None, and ensures that everything\u001b[39;00m\n\u001b[0;32m   (...)\u001b[0m\n\u001b[1;32m    367\u001b[0m \u001b[39m    List of objects to ensure sliceability.\u001b[39;00m\n\u001b[1;32m    368\u001b[0m \u001b[39m\"\"\"\u001b[39;00m\n\u001b[1;32m    369\u001b[0m result \u001b[39m=\u001b[39m [_make_indexable(X) \u001b[39mfor\u001b[39;00m X \u001b[39min\u001b[39;00m iterables]\n\u001b[0;32m--> 370\u001b[0m check_consistent_length(\u001b[39m*\u001b[39;49mresult)\n\u001b[1;32m    371\u001b[0m \u001b[39mreturn\u001b[39;00m result\n",
      "File \u001b[0;32m~/miniconda3/envs/automl/lib/python3.8/site-packages/sklearn/utils/validation.py:328\u001b[0m, in \u001b[0;36mcheck_consistent_length\u001b[0;34m(*arrays)\u001b[0m\n\u001b[1;32m    317\u001b[0m \u001b[39mdef\u001b[39;00m \u001b[39mcheck_consistent_length\u001b[39m(\u001b[39m*\u001b[39marrays):\n\u001b[1;32m    318\u001b[0m     \u001b[39m\"\"\"Check that all arrays have consistent first dimensions.\u001b[39;00m\n\u001b[1;32m    319\u001b[0m \n\u001b[1;32m    320\u001b[0m \u001b[39m    Checks whether all objects in arrays have the same shape or length.\u001b[39;00m\n\u001b[0;32m   (...)\u001b[0m\n\u001b[1;32m    325\u001b[0m \u001b[39m        Objects that will be checked for consistent length.\u001b[39;00m\n\u001b[1;32m    326\u001b[0m \u001b[39m    \"\"\"\u001b[39;00m\n\u001b[0;32m--> 328\u001b[0m     lengths \u001b[39m=\u001b[39m [_num_samples(X) \u001b[39mfor\u001b[39;00m X \u001b[39min\u001b[39;00m arrays \u001b[39mif\u001b[39;00m X \u001b[39mis\u001b[39;00m \u001b[39mnot\u001b[39;00m \u001b[39mNone\u001b[39;00m]\n\u001b[1;32m    329\u001b[0m     uniques \u001b[39m=\u001b[39m np\u001b[39m.\u001b[39munique(lengths)\n\u001b[1;32m    330\u001b[0m     \u001b[39mif\u001b[39;00m \u001b[39mlen\u001b[39m(uniques) \u001b[39m>\u001b[39m \u001b[39m1\u001b[39m:\n",
      "File \u001b[0;32m~/miniconda3/envs/automl/lib/python3.8/site-packages/sklearn/utils/validation.py:328\u001b[0m, in \u001b[0;36m<listcomp>\u001b[0;34m(.0)\u001b[0m\n\u001b[1;32m    317\u001b[0m \u001b[39mdef\u001b[39;00m \u001b[39mcheck_consistent_length\u001b[39m(\u001b[39m*\u001b[39marrays):\n\u001b[1;32m    318\u001b[0m     \u001b[39m\"\"\"Check that all arrays have consistent first dimensions.\u001b[39;00m\n\u001b[1;32m    319\u001b[0m \n\u001b[1;32m    320\u001b[0m \u001b[39m    Checks whether all objects in arrays have the same shape or length.\u001b[39;00m\n\u001b[0;32m   (...)\u001b[0m\n\u001b[1;32m    325\u001b[0m \u001b[39m        Objects that will be checked for consistent length.\u001b[39;00m\n\u001b[1;32m    326\u001b[0m \u001b[39m    \"\"\"\u001b[39;00m\n\u001b[0;32m--> 328\u001b[0m     lengths \u001b[39m=\u001b[39m [_num_samples(X) \u001b[39mfor\u001b[39;00m X \u001b[39min\u001b[39;00m arrays \u001b[39mif\u001b[39;00m X \u001b[39mis\u001b[39;00m \u001b[39mnot\u001b[39;00m \u001b[39mNone\u001b[39;00m]\n\u001b[1;32m    329\u001b[0m     uniques \u001b[39m=\u001b[39m np\u001b[39m.\u001b[39munique(lengths)\n\u001b[1;32m    330\u001b[0m     \u001b[39mif\u001b[39;00m \u001b[39mlen\u001b[39m(uniques) \u001b[39m>\u001b[39m \u001b[39m1\u001b[39m:\n",
      "File \u001b[0;32m~/miniconda3/envs/automl/lib/python3.8/site-packages/sklearn/utils/validation.py:268\u001b[0m, in \u001b[0;36m_num_samples\u001b[0;34m(x)\u001b[0m\n\u001b[1;32m    266\u001b[0m \u001b[39mif\u001b[39;00m \u001b[39mhasattr\u001b[39m(x, \u001b[39m\"\u001b[39m\u001b[39mshape\u001b[39m\u001b[39m\"\u001b[39m) \u001b[39mand\u001b[39;00m x\u001b[39m.\u001b[39mshape \u001b[39mis\u001b[39;00m \u001b[39mnot\u001b[39;00m \u001b[39mNone\u001b[39;00m:\n\u001b[1;32m    267\u001b[0m     \u001b[39mif\u001b[39;00m \u001b[39mlen\u001b[39m(x\u001b[39m.\u001b[39mshape) \u001b[39m==\u001b[39m \u001b[39m0\u001b[39m:\n\u001b[0;32m--> 268\u001b[0m         \u001b[39mraise\u001b[39;00m \u001b[39mTypeError\u001b[39;00m(\n\u001b[1;32m    269\u001b[0m             \u001b[39m\"\u001b[39m\u001b[39mSingleton array \u001b[39m\u001b[39m%r\u001b[39;00m\u001b[39m cannot be considered a valid collection.\u001b[39m\u001b[39m\"\u001b[39m \u001b[39m%\u001b[39m x\n\u001b[1;32m    270\u001b[0m         )\n\u001b[1;32m    271\u001b[0m     \u001b[39m# Check that shape is returning an integer or default to len\u001b[39;00m\n\u001b[1;32m    272\u001b[0m     \u001b[39m# Dask dataframes may not return numeric shape[0] value\u001b[39;00m\n\u001b[1;32m    273\u001b[0m     \u001b[39mif\u001b[39;00m \u001b[39misinstance\u001b[39m(x\u001b[39m.\u001b[39mshape[\u001b[39m0\u001b[39m], numbers\u001b[39m.\u001b[39mIntegral):\n",
      "\u001b[0;31mTypeError\u001b[0m: Singleton array array(0.33) cannot be considered a valid collection."
     ]
    }
   ],
   "source": []
  },
  {
   "cell_type": "code",
   "execution_count": 20,
   "metadata": {},
   "outputs": [],
   "source": [
    "# slug_sdg.fetch_model(df_good_pred, y_test)"
   ]
  },
  {
   "cell_type": "code",
   "execution_count": 19,
   "metadata": {},
   "outputs": [],
   "source": [
    "# slug_svm.Params.pred_type='regression'\n",
    "# slug_svm.fetch_model(df_good_pred, y_test)"
   ]
  },
  {
   "cell_type": "code",
   "execution_count": 171,
   "metadata": {},
   "outputs": [
    {
     "data": {
      "text/plain": [
       "SVR(epsilon=0.2)"
      ]
     },
     "execution_count": 171,
     "metadata": {},
     "output_type": "execute_result"
    }
   ],
   "source": [
    "#### Now fit SVM on the final predictions\n",
    "from sklearn.svm import SVR\n",
    "from sklearn.preprocessing import StandardScaler\n",
    "\n",
    "df_good_pred_scalar = StandardScaler().fit_transform(df_good_pred)     \n",
    "y_test_1d = y_test.values.reshape(y_test.shape[0])\n",
    "\n",
    "regr_scr = SVR(C=1.0, epsilon=0.2)\n",
    "\n",
    "regr_scr.fit(df_good_pred_scalar, y_test_1d)"
   ]
  },
  {
   "cell_type": "code",
   "execution_count": null,
   "metadata": {},
   "outputs": [],
   "source": [
    "pred_type = \"regression\""
   ]
  },
  {
   "cell_type": "code",
   "execution_count": 174,
   "metadata": {},
   "outputs": [
    {
     "data": {
      "text/plain": [
       "-9401.052727981196"
      ]
     },
     "execution_count": 174,
     "metadata": {},
     "output_type": "execute_result"
    }
   ],
   "source": [
    "pred_scr = regr_scr.predict(df_good_pred_scalar)\n",
    "r2_score(pred_scr, y_test_1d)\n"
   ]
  },
  {
   "cell_type": "code",
   "execution_count": 157,
   "metadata": {},
   "outputs": [
    {
     "data": {
      "text/html": [
       "<div>\n",
       "<style scoped>\n",
       "    .dataframe tbody tr th:only-of-type {\n",
       "        vertical-align: middle;\n",
       "    }\n",
       "\n",
       "    .dataframe tbody tr th {\n",
       "        vertical-align: top;\n",
       "    }\n",
       "\n",
       "    .dataframe thead th {\n",
       "        text-align: right;\n",
       "    }\n",
       "</style>\n",
       "<table border=\"1\" class=\"dataframe\">\n",
       "  <thead>\n",
       "    <tr style=\"text-align: right;\">\n",
       "      <th></th>\n",
       "      <th>0</th>\n",
       "      <th>1</th>\n",
       "      <th>2</th>\n",
       "      <th>3</th>\n",
       "      <th>4</th>\n",
       "      <th>5</th>\n",
       "      <th>6</th>\n",
       "      <th>7</th>\n",
       "      <th>8</th>\n",
       "      <th>9</th>\n",
       "      <th>10</th>\n",
       "      <th>target</th>\n",
       "    </tr>\n",
       "  </thead>\n",
       "  <tbody>\n",
       "    <tr>\n",
       "      <th>0</th>\n",
       "      <td>2282.944824</td>\n",
       "      <td>2390.147705</td>\n",
       "      <td>2300.608887</td>\n",
       "      <td>2307.854004</td>\n",
       "      <td>2338.407715</td>\n",
       "      <td>2294.193848</td>\n",
       "      <td>2383.937500</td>\n",
       "      <td>2368.414795</td>\n",
       "      <td>2307.442627</td>\n",
       "      <td>926.766724</td>\n",
       "      <td>1671.106201</td>\n",
       "      <td>2342.551</td>\n",
       "    </tr>\n",
       "    <tr>\n",
       "      <th>1</th>\n",
       "      <td>1175.548828</td>\n",
       "      <td>1107.300415</td>\n",
       "      <td>1047.958130</td>\n",
       "      <td>1058.755981</td>\n",
       "      <td>1047.499023</td>\n",
       "      <td>1050.636475</td>\n",
       "      <td>1105.395996</td>\n",
       "      <td>1043.604736</td>\n",
       "      <td>1058.906494</td>\n",
       "      <td>524.894958</td>\n",
       "      <td>282.477142</td>\n",
       "      <td>1044.585</td>\n",
       "    </tr>\n",
       "    <tr>\n",
       "      <th>2</th>\n",
       "      <td>780.710510</td>\n",
       "      <td>1248.273438</td>\n",
       "      <td>1238.329590</td>\n",
       "      <td>1236.956299</td>\n",
       "      <td>1258.007324</td>\n",
       "      <td>1234.862427</td>\n",
       "      <td>1246.922363</td>\n",
       "      <td>1692.000244</td>\n",
       "      <td>1237.315552</td>\n",
       "      <td>1501.027222</td>\n",
       "      <td>1336.665161</td>\n",
       "      <td>2168.010</td>\n",
       "    </tr>\n",
       "    <tr>\n",
       "      <th>3</th>\n",
       "      <td>74.397934</td>\n",
       "      <td>59.714867</td>\n",
       "      <td>42.514999</td>\n",
       "      <td>42.377308</td>\n",
       "      <td>39.752472</td>\n",
       "      <td>41.601376</td>\n",
       "      <td>59.784386</td>\n",
       "      <td>31.256008</td>\n",
       "      <td>42.314976</td>\n",
       "      <td>81.320938</td>\n",
       "      <td>92.755135</td>\n",
       "      <td>55.977</td>\n",
       "    </tr>\n",
       "    <tr>\n",
       "      <th>4</th>\n",
       "      <td>24.961271</td>\n",
       "      <td>48.324459</td>\n",
       "      <td>44.217270</td>\n",
       "      <td>42.532051</td>\n",
       "      <td>45.624771</td>\n",
       "      <td>41.832939</td>\n",
       "      <td>48.331623</td>\n",
       "      <td>13.971548</td>\n",
       "      <td>42.502312</td>\n",
       "      <td>54.103924</td>\n",
       "      <td>69.669968</td>\n",
       "      <td>14.843</td>\n",
       "    </tr>\n",
       "    <tr>\n",
       "      <th>...</th>\n",
       "      <td>...</td>\n",
       "      <td>...</td>\n",
       "      <td>...</td>\n",
       "      <td>...</td>\n",
       "      <td>...</td>\n",
       "      <td>...</td>\n",
       "      <td>...</td>\n",
       "      <td>...</td>\n",
       "      <td>...</td>\n",
       "      <td>...</td>\n",
       "      <td>...</td>\n",
       "      <td>...</td>\n",
       "    </tr>\n",
       "    <tr>\n",
       "      <th>59</th>\n",
       "      <td>1134.570557</td>\n",
       "      <td>1197.655273</td>\n",
       "      <td>1260.438599</td>\n",
       "      <td>1249.295776</td>\n",
       "      <td>1281.590454</td>\n",
       "      <td>1243.509399</td>\n",
       "      <td>1196.239746</td>\n",
       "      <td>1210.959473</td>\n",
       "      <td>1249.630005</td>\n",
       "      <td>882.783691</td>\n",
       "      <td>1417.531738</td>\n",
       "      <td>1297.107</td>\n",
       "    </tr>\n",
       "    <tr>\n",
       "      <th>60</th>\n",
       "      <td>968.090576</td>\n",
       "      <td>556.462097</td>\n",
       "      <td>649.882080</td>\n",
       "      <td>666.639709</td>\n",
       "      <td>620.892578</td>\n",
       "      <td>657.279358</td>\n",
       "      <td>556.071350</td>\n",
       "      <td>861.049500</td>\n",
       "      <td>666.892456</td>\n",
       "      <td>612.543945</td>\n",
       "      <td>667.631470</td>\n",
       "      <td>981.817</td>\n",
       "    </tr>\n",
       "    <tr>\n",
       "      <th>61</th>\n",
       "      <td>70.886826</td>\n",
       "      <td>91.033760</td>\n",
       "      <td>28.431480</td>\n",
       "      <td>29.501001</td>\n",
       "      <td>25.176630</td>\n",
       "      <td>29.008516</td>\n",
       "      <td>90.970711</td>\n",
       "      <td>0.600573</td>\n",
       "      <td>29.495853</td>\n",
       "      <td>1545.730957</td>\n",
       "      <td>861.057434</td>\n",
       "      <td>0.000</td>\n",
       "    </tr>\n",
       "    <tr>\n",
       "      <th>62</th>\n",
       "      <td>1005.622986</td>\n",
       "      <td>1451.975342</td>\n",
       "      <td>1075.823486</td>\n",
       "      <td>1067.328613</td>\n",
       "      <td>1118.445190</td>\n",
       "      <td>1057.408447</td>\n",
       "      <td>1451.124634</td>\n",
       "      <td>1288.814453</td>\n",
       "      <td>1067.477783</td>\n",
       "      <td>797.647034</td>\n",
       "      <td>776.435669</td>\n",
       "      <td>2465.522</td>\n",
       "    </tr>\n",
       "    <tr>\n",
       "      <th>63</th>\n",
       "      <td>4276.105469</td>\n",
       "      <td>4194.533691</td>\n",
       "      <td>4313.417969</td>\n",
       "      <td>4295.257324</td>\n",
       "      <td>4366.710938</td>\n",
       "      <td>4281.058594</td>\n",
       "      <td>4186.988281</td>\n",
       "      <td>4419.566406</td>\n",
       "      <td>4293.259277</td>\n",
       "      <td>3312.757080</td>\n",
       "      <td>2782.395264</td>\n",
       "      <td>4495.847</td>\n",
       "    </tr>\n",
       "  </tbody>\n",
       "</table>\n",
       "<p>64 rows × 12 columns</p>\n",
       "</div>"
      ],
      "text/plain": [
       "              0            1            2            3            4  \\\n",
       "0   2282.944824  2390.147705  2300.608887  2307.854004  2338.407715   \n",
       "1   1175.548828  1107.300415  1047.958130  1058.755981  1047.499023   \n",
       "2    780.710510  1248.273438  1238.329590  1236.956299  1258.007324   \n",
       "3     74.397934    59.714867    42.514999    42.377308    39.752472   \n",
       "4     24.961271    48.324459    44.217270    42.532051    45.624771   \n",
       "..          ...          ...          ...          ...          ...   \n",
       "59  1134.570557  1197.655273  1260.438599  1249.295776  1281.590454   \n",
       "60   968.090576   556.462097   649.882080   666.639709   620.892578   \n",
       "61    70.886826    91.033760    28.431480    29.501001    25.176630   \n",
       "62  1005.622986  1451.975342  1075.823486  1067.328613  1118.445190   \n",
       "63  4276.105469  4194.533691  4313.417969  4295.257324  4366.710938   \n",
       "\n",
       "              5            6            7            8            9  \\\n",
       "0   2294.193848  2383.937500  2368.414795  2307.442627   926.766724   \n",
       "1   1050.636475  1105.395996  1043.604736  1058.906494   524.894958   \n",
       "2   1234.862427  1246.922363  1692.000244  1237.315552  1501.027222   \n",
       "3     41.601376    59.784386    31.256008    42.314976    81.320938   \n",
       "4     41.832939    48.331623    13.971548    42.502312    54.103924   \n",
       "..          ...          ...          ...          ...          ...   \n",
       "59  1243.509399  1196.239746  1210.959473  1249.630005   882.783691   \n",
       "60   657.279358   556.071350   861.049500   666.892456   612.543945   \n",
       "61    29.008516    90.970711     0.600573    29.495853  1545.730957   \n",
       "62  1057.408447  1451.124634  1288.814453  1067.477783   797.647034   \n",
       "63  4281.058594  4186.988281  4419.566406  4293.259277  3312.757080   \n",
       "\n",
       "             10    target  \n",
       "0   1671.106201  2342.551  \n",
       "1    282.477142  1044.585  \n",
       "2   1336.665161  2168.010  \n",
       "3     92.755135    55.977  \n",
       "4     69.669968    14.843  \n",
       "..          ...       ...  \n",
       "59  1417.531738  1297.107  \n",
       "60   667.631470   981.817  \n",
       "61   861.057434     0.000  \n",
       "62   776.435669  2465.522  \n",
       "63  2782.395264  4495.847  \n",
       "\n",
       "[64 rows x 12 columns]"
      ]
     },
     "execution_count": 157,
     "metadata": {},
     "output_type": "execute_result"
    }
   ],
   "source": [
    "df_good_pred"
   ]
  },
  {
   "cell_type": "code",
   "execution_count": 230,
   "metadata": {},
   "outputs": [
    {
     "data": {
      "text/plain": [
       "pandas.core.frame.DataFrame"
      ]
     },
     "execution_count": 230,
     "metadata": {},
     "output_type": "execute_result"
    }
   ],
   "source": [
    "type(y_test)"
   ]
  },
  {
   "cell_type": "code",
   "execution_count": 216,
   "metadata": {},
   "outputs": [
    {
     "ename": "ValueError",
     "evalue": "Found input variables with inconsistent numbers of samples: [64, 16]",
     "output_type": "error",
     "traceback": [
      "\u001b[0;31m---------------------------------------------------------------------------\u001b[0m",
      "\u001b[0;31mValueError\u001b[0m                                Traceback (most recent call last)",
      "\u001b[1;32m/mnt/c/Users/rwmas/GitHub/auto-learn/notebooks/ensemble.ipynb Cell 29\u001b[0m in \u001b[0;36m<cell line: 2>\u001b[0;34m()\u001b[0m\n\u001b[1;32m      <a href='vscode-notebook-cell://wsl%2Bubuntu/mnt/c/Users/rwmas/GitHub/auto-learn/notebooks/ensemble.ipynb#Y111sdnNjb2RlLXJlbW90ZQ%3D%3D?line=0'>1</a>\u001b[0m \u001b[39mfrom\u001b[39;00m \u001b[39msklearn\u001b[39;00m\u001b[39m.\u001b[39;00m\u001b[39mmodel_selection\u001b[39;00m \u001b[39mimport\u001b[39;00m train_test_split\n\u001b[0;32m----> <a href='vscode-notebook-cell://wsl%2Bubuntu/mnt/c/Users/rwmas/GitHub/auto-learn/notebooks/ensemble.ipynb#Y111sdnNjb2RlLXJlbW90ZQ%3D%3D?line=1'>2</a>\u001b[0m X_train, X_test, y_train, y_test \u001b[39m=\u001b[39m train_test_split(df_good_pred, y_test, test_size\u001b[39m=\u001b[39;49m\u001b[39m0.25\u001b[39;49m)\n",
      "File \u001b[0;32m~/miniconda3/envs/automl/lib/python3.8/site-packages/sklearn/model_selection/_split.py:2419\u001b[0m, in \u001b[0;36mtrain_test_split\u001b[0;34m(test_size, train_size, random_state, shuffle, stratify, *arrays)\u001b[0m\n\u001b[1;32m   2416\u001b[0m \u001b[39mif\u001b[39;00m n_arrays \u001b[39m==\u001b[39m \u001b[39m0\u001b[39m:\n\u001b[1;32m   2417\u001b[0m     \u001b[39mraise\u001b[39;00m \u001b[39mValueError\u001b[39;00m(\u001b[39m\"\u001b[39m\u001b[39mAt least one array required as input\u001b[39m\u001b[39m\"\u001b[39m)\n\u001b[0;32m-> 2419\u001b[0m arrays \u001b[39m=\u001b[39m indexable(\u001b[39m*\u001b[39;49marrays)\n\u001b[1;32m   2421\u001b[0m n_samples \u001b[39m=\u001b[39m _num_samples(arrays[\u001b[39m0\u001b[39m])\n\u001b[1;32m   2422\u001b[0m n_train, n_test \u001b[39m=\u001b[39m _validate_shuffle_split(\n\u001b[1;32m   2423\u001b[0m     n_samples, test_size, train_size, default_test_size\u001b[39m=\u001b[39m\u001b[39m0.25\u001b[39m\n\u001b[1;32m   2424\u001b[0m )\n",
      "File \u001b[0;32m~/miniconda3/envs/automl/lib/python3.8/site-packages/sklearn/utils/validation.py:370\u001b[0m, in \u001b[0;36mindexable\u001b[0;34m(*iterables)\u001b[0m\n\u001b[1;32m    358\u001b[0m \u001b[39m\"\"\"Make arrays indexable for cross-validation.\u001b[39;00m\n\u001b[1;32m    359\u001b[0m \n\u001b[1;32m    360\u001b[0m \u001b[39mChecks consistent length, passes through None, and ensures that everything\u001b[39;00m\n\u001b[0;32m   (...)\u001b[0m\n\u001b[1;32m    367\u001b[0m \u001b[39m    List of objects to ensure sliceability.\u001b[39;00m\n\u001b[1;32m    368\u001b[0m \u001b[39m\"\"\"\u001b[39;00m\n\u001b[1;32m    369\u001b[0m result \u001b[39m=\u001b[39m [_make_indexable(X) \u001b[39mfor\u001b[39;00m X \u001b[39min\u001b[39;00m iterables]\n\u001b[0;32m--> 370\u001b[0m check_consistent_length(\u001b[39m*\u001b[39;49mresult)\n\u001b[1;32m    371\u001b[0m \u001b[39mreturn\u001b[39;00m result\n",
      "File \u001b[0;32m~/miniconda3/envs/automl/lib/python3.8/site-packages/sklearn/utils/validation.py:331\u001b[0m, in \u001b[0;36mcheck_consistent_length\u001b[0;34m(*arrays)\u001b[0m\n\u001b[1;32m    329\u001b[0m uniques \u001b[39m=\u001b[39m np\u001b[39m.\u001b[39munique(lengths)\n\u001b[1;32m    330\u001b[0m \u001b[39mif\u001b[39;00m \u001b[39mlen\u001b[39m(uniques) \u001b[39m>\u001b[39m \u001b[39m1\u001b[39m:\n\u001b[0;32m--> 331\u001b[0m     \u001b[39mraise\u001b[39;00m \u001b[39mValueError\u001b[39;00m(\n\u001b[1;32m    332\u001b[0m         \u001b[39m\"\u001b[39m\u001b[39mFound input variables with inconsistent numbers of samples: \u001b[39m\u001b[39m%r\u001b[39;00m\u001b[39m\"\u001b[39m\n\u001b[1;32m    333\u001b[0m         \u001b[39m%\u001b[39m [\u001b[39mint\u001b[39m(l) \u001b[39mfor\u001b[39;00m l \u001b[39min\u001b[39;00m lengths]\n\u001b[1;32m    334\u001b[0m     )\n",
      "\u001b[0;31mValueError\u001b[0m: Found input variables with inconsistent numbers of samples: [64, 16]"
     ]
    }
   ],
   "source": [
    "from sklearn.model_selection import train_test_split\n",
    "X_train, X_test, y_train, y_test = train_test_split(df_good_pred, y_test, test_size=0.25)\n"
   ]
  },
  {
   "cell_type": "code",
   "execution_count": 224,
   "metadata": {},
   "outputs": [
    {
     "data": {
      "text/plain": [
       "((48, 11), (16, 11))"
      ]
     },
     "execution_count": 224,
     "metadata": {},
     "output_type": "execute_result"
    }
   ],
   "source": [
    "X_train.shape, X_test.shape\n"
   ]
  },
  {
   "cell_type": "code",
   "execution_count": 227,
   "metadata": {},
   "outputs": [],
   "source": [
    "# train_test_split(y_train, y_train, test_size=0.25)\n",
    "from sklearn.model_selection import StratifiedKFold, KFold\n",
    "kf = KFold(n_splits=3)\n",
    "\n",
    "\n",
    "\n",
    "for train_index, test_index in kf.split(X_train, y_train):\n",
    "    temp_train_x, temp_test_x = X_train.iloc[train_index], X_train.iloc[test_index]\n",
    "\n",
    "\n"
   ]
  },
  {
   "cell_type": "code",
   "execution_count": 204,
   "metadata": {},
   "outputs": [
    {
     "data": {
      "text/html": [
       "<div>\n",
       "<style scoped>\n",
       "    .dataframe tbody tr th:only-of-type {\n",
       "        vertical-align: middle;\n",
       "    }\n",
       "\n",
       "    .dataframe tbody tr th {\n",
       "        vertical-align: top;\n",
       "    }\n",
       "\n",
       "    .dataframe thead th {\n",
       "        text-align: right;\n",
       "    }\n",
       "</style>\n",
       "<table border=\"1\" class=\"dataframe\">\n",
       "  <thead>\n",
       "    <tr style=\"text-align: right;\">\n",
       "      <th></th>\n",
       "      <th>y</th>\n",
       "    </tr>\n",
       "  </thead>\n",
       "  <tbody>\n",
       "    <tr>\n",
       "      <th>109</th>\n",
       "      <td>2342.551</td>\n",
       "    </tr>\n",
       "    <tr>\n",
       "      <th>74</th>\n",
       "      <td>1044.585</td>\n",
       "    </tr>\n",
       "    <tr>\n",
       "      <th>162</th>\n",
       "      <td>2168.010</td>\n",
       "    </tr>\n",
       "    <tr>\n",
       "      <th>96</th>\n",
       "      <td>55.977</td>\n",
       "    </tr>\n",
       "    <tr>\n",
       "      <th>124</th>\n",
       "      <td>14.843</td>\n",
       "    </tr>\n",
       "    <tr>\n",
       "      <th>...</th>\n",
       "      <td>...</td>\n",
       "    </tr>\n",
       "    <tr>\n",
       "      <th>86</th>\n",
       "      <td>1297.107</td>\n",
       "    </tr>\n",
       "    <tr>\n",
       "      <th>131</th>\n",
       "      <td>981.817</td>\n",
       "    </tr>\n",
       "    <tr>\n",
       "      <th>40</th>\n",
       "      <td>0.000</td>\n",
       "    </tr>\n",
       "    <tr>\n",
       "      <th>173</th>\n",
       "      <td>2465.522</td>\n",
       "    </tr>\n",
       "    <tr>\n",
       "      <th>22</th>\n",
       "      <td>4495.847</td>\n",
       "    </tr>\n",
       "  </tbody>\n",
       "</table>\n",
       "<p>64 rows × 1 columns</p>\n",
       "</div>"
      ],
      "text/plain": [
       "            y\n",
       "109  2342.551\n",
       "74   1044.585\n",
       "162  2168.010\n",
       "96     55.977\n",
       "124    14.843\n",
       "..        ...\n",
       "86   1297.107\n",
       "131   981.817\n",
       "40      0.000\n",
       "173  2465.522\n",
       "22   4495.847\n",
       "\n",
       "[64 rows x 1 columns]"
      ]
     },
     "execution_count": 204,
     "metadata": {},
     "output_type": "execute_result"
    }
   ],
   "source": [
    "# X_train\n",
    "# y_train\n",
    "# y_test"
   ]
  },
  {
   "cell_type": "code",
   "execution_count": 240,
   "metadata": {},
   "outputs": [
    {
     "data": {
      "text/plain": [
       "((64, 11), (64, 1))"
      ]
     },
     "execution_count": 240,
     "metadata": {},
     "output_type": "execute_result"
    }
   ],
   "source": [
    "# df_good_pred_scalar\n",
    "df_good_pred.shape, y_test.shape"
   ]
  },
  {
   "cell_type": "code",
   "execution_count": 244,
   "metadata": {},
   "outputs": [
    {
     "data": {
      "text/plain": [
       "(y    2465.522\n",
       " Name: 173, dtype: float64,\n",
       " 0     1005.622986\n",
       " 1     1451.975342\n",
       " 2     1075.823486\n",
       " 3     1067.328613\n",
       " 4     1118.445190\n",
       " 5     1057.408447\n",
       " 6     1451.124634\n",
       " 7     1288.814453\n",
       " 8     1067.477783\n",
       " 9      797.647034\n",
       " 10     776.435669\n",
       " Name: 62, dtype: float32)"
      ]
     },
     "execution_count": 244,
     "metadata": {},
     "output_type": "execute_result"
    }
   ],
   "source": [
    "y_test.iloc[62], df_good_pred.iloc[62]"
   ]
  },
  {
   "cell_type": "code",
   "execution_count": 253,
   "metadata": {},
   "outputs": [
    {
     "name": "stdout",
     "output_type": "stream",
     "text": [
      "Dask dashboard is available at http://127.0.0.1:8787/status\n",
      "########## Re-running the discovery process ###############\n",
      "Rerun #: 0\n",
      "Starting train for trials:300\n"
     ]
    },
    {
     "name": "stderr",
     "output_type": "stream",
     "text": [
      "\u001b[33m[W 2022-10-10 21:35:28,853]\u001b[0m Trial 6 failed because of the following error: KeyError('[23, 25, 27, 28, 29, 31, 32, 34, 35, 36, 38, 39, 41, 42, 43, 46, 47, 48, 49, 50, 52, 53, 57, 58, 59, 62] not in index')\u001b[0m\n",
      "Traceback (most recent call last):\n",
      "  File \"/home/vagrant/miniconda3/envs/automl/lib/python3.8/site-packages/optuna/_optimize.py\", line 189, in _run_trial\n",
      "    value = func(trial)\n",
      "  File \"/mnt/c/Users/rwmas/GitHub/auto-learn/notebooks/../ml/models/base/slug_svm.py\", line 124, in <lambda>\n",
      "    func = lambda trial: objective(trial, df_X, df_y)\n",
      "  File \"/mnt/c/Users/rwmas/GitHub/auto-learn/notebooks/../ml/models/base/slug_svm.py\", line 79, in objective\n",
      "    for train_index, test_index in kf.split(df_X, df_y):\n",
      "  File \"/home/vagrant/miniconda3/envs/automl/lib/python3.8/site-packages/pandas/core/indexing.py\", line 967, in __getitem__\n",
      "    return self._getitem_axis(maybe_callable, axis=axis)\n",
      "  File \"/home/vagrant/miniconda3/envs/automl/lib/python3.8/site-packages/pandas/core/indexing.py\", line 1191, in _getitem_axis\n",
      "    return self._getitem_iterable(key, axis=axis)\n",
      "  File \"/home/vagrant/miniconda3/envs/automl/lib/python3.8/site-packages/pandas/core/indexing.py\", line 1132, in _getitem_iterable\n",
      "    keyarr, indexer = self._get_listlike_indexer(key, axis)\n",
      "  File \"/home/vagrant/miniconda3/envs/automl/lib/python3.8/site-packages/pandas/core/indexing.py\", line 1327, in _get_listlike_indexer\n",
      "    keyarr, indexer = ax._get_indexer_strict(key, axis_name)\n",
      "  File \"/home/vagrant/miniconda3/envs/automl/lib/python3.8/site-packages/pandas/core/indexes/base.py\", line 5782, in _get_indexer_strict\n",
      "    self._raise_if_missing(keyarr, indexer, axis_name)\n",
      "  File \"/home/vagrant/miniconda3/envs/automl/lib/python3.8/site-packages/pandas/core/indexes/base.py\", line 5845, in _raise_if_missing\n",
      "    raise KeyError(f\"{not_found} not in index\")\n",
      "KeyError: '[23, 25, 27, 28, 29, 31, 32, 34, 35, 36, 38, 39, 41, 42, 43, 46, 47, 48, 49, 50, 52, 53, 57, 58, 59, 62] not in index'\n",
      "\u001b[33m[W 2022-10-10 21:35:28,863]\u001b[0m Trial 10 failed because of the following error: KeyError('[23, 25, 27, 28, 29, 31, 32, 34, 35, 36, 38, 39, 41, 42, 43, 46, 47, 48, 49, 50, 52, 53, 57, 58, 59, 62] not in index')\u001b[0m\n",
      "Traceback (most recent call last):\n",
      "  File \"/home/vagrant/miniconda3/envs/automl/lib/python3.8/site-packages/optuna/_optimize.py\", line 189, in _run_trial\n",
      "    value = func(trial)\n",
      "  File \"/mnt/c/Users/rwmas/GitHub/auto-learn/notebooks/../ml/models/base/slug_svm.py\", line 124, in <lambda>\n",
      "    func = lambda trial: objective(trial, df_X, df_y)\n",
      "  File \"/mnt/c/Users/rwmas/GitHub/auto-learn/notebooks/../ml/models/base/slug_svm.py\", line 79, in objective\n",
      "    for train_index, test_index in kf.split(df_X, df_y):\n",
      "  File \"/home/vagrant/miniconda3/envs/automl/lib/python3.8/site-packages/pandas/core/indexing.py\", line 967, in __getitem__\n",
      "    return self._getitem_axis(maybe_callable, axis=axis)\n",
      "  File \"/home/vagrant/miniconda3/envs/automl/lib/python3.8/site-packages/pandas/core/indexing.py\", line 1191, in _getitem_axis\n",
      "    return self._getitem_iterable(key, axis=axis)\n",
      "  File \"/home/vagrant/miniconda3/envs/automl/lib/python3.8/site-packages/pandas/core/indexing.py\", line 1132, in _getitem_iterable\n",
      "    keyarr, indexer = self._get_listlike_indexer(key, axis)\n",
      "  File \"/home/vagrant/miniconda3/envs/automl/lib/python3.8/site-packages/pandas/core/indexing.py\", line 1327, in _get_listlike_indexer\n",
      "    keyarr, indexer = ax._get_indexer_strict(key, axis_name)\n",
      "  File \"/home/vagrant/miniconda3/envs/automl/lib/python3.8/site-packages/pandas/core/indexes/base.py\", line 5782, in _get_indexer_strict\n",
      "    self._raise_if_missing(keyarr, indexer, axis_name)\n",
      "  File \"/home/vagrant/miniconda3/envs/automl/lib/python3.8/site-packages/pandas/core/indexes/base.py\", line 5845, in _raise_if_missing\n",
      "    raise KeyError(f\"{not_found} not in index\")\n",
      "KeyError: '[23, 25, 27, 28, 29, 31, 32, 34, 35, 36, 38, 39, 41, 42, 43, 46, 47, 48, 49, 50, 52, 53, 57, 58, 59, 62] not in index'\n",
      "\u001b[33m[W 2022-10-10 21:35:28,868]\u001b[0m Trial 7 failed because of the following error: KeyError('[23, 25, 27, 28, 29, 31, 32, 34, 35, 36, 38, 39, 41, 42, 43, 46, 47, 48, 49, 50, 52, 53, 57, 58, 59, 62] not in index')\u001b[0m\n",
      "Traceback (most recent call last):\n",
      "  File \"/home/vagrant/miniconda3/envs/automl/lib/python3.8/site-packages/optuna/_optimize.py\", line 189, in _run_trial\n",
      "    value = func(trial)\n",
      "  File \"/mnt/c/Users/rwmas/GitHub/auto-learn/notebooks/../ml/models/base/slug_svm.py\", line 124, in <lambda>\n",
      "    func = lambda trial: objective(trial, df_X, df_y)\n",
      "  File \"/mnt/c/Users/rwmas/GitHub/auto-learn/notebooks/../ml/models/base/slug_svm.py\", line 79, in objective\n",
      "    for train_index, test_index in kf.split(df_X, df_y):\n",
      "  File \"/home/vagrant/miniconda3/envs/automl/lib/python3.8/site-packages/pandas/core/indexing.py\", line 967, in __getitem__\n",
      "    return self._getitem_axis(maybe_callable, axis=axis)\n",
      "  File \"/home/vagrant/miniconda3/envs/automl/lib/python3.8/site-packages/pandas/core/indexing.py\", line 1191, in _getitem_axis\n",
      "    return self._getitem_iterable(key, axis=axis)\n",
      "  File \"/home/vagrant/miniconda3/envs/automl/lib/python3.8/site-packages/pandas/core/indexing.py\", line 1132, in _getitem_iterable\n",
      "    keyarr, indexer = self._get_listlike_indexer(key, axis)\n",
      "  File \"/home/vagrant/miniconda3/envs/automl/lib/python3.8/site-packages/pandas/core/indexing.py\", line 1327, in _get_listlike_indexer\n",
      "    keyarr, indexer = ax._get_indexer_strict(key, axis_name)\n",
      "  File \"/home/vagrant/miniconda3/envs/automl/lib/python3.8/site-packages/pandas/core/indexes/base.py\", line 5782, in _get_indexer_strict\n",
      "    self._raise_if_missing(keyarr, indexer, axis_name)\n",
      "  File \"/home/vagrant/miniconda3/envs/automl/lib/python3.8/site-packages/pandas/core/indexes/base.py\", line 5845, in _raise_if_missing\n",
      "    raise KeyError(f\"{not_found} not in index\")\n",
      "KeyError: '[23, 25, 27, 28, 29, 31, 32, 34, 35, 36, 38, 39, 41, 42, 43, 46, 47, 48, 49, 50, 52, 53, 57, 58, 59, 62] not in index'\n",
      "\u001b[33m[W 2022-10-10 21:35:28,862]\u001b[0m Trial 11 failed because of the following error: KeyError('[23, 25, 27, 28, 29, 31, 32, 34, 35, 36, 38, 39, 41, 42, 43, 46, 47, 48, 49, 50, 52, 53, 57, 58, 59, 62] not in index')\u001b[0m\n",
      "Traceback (most recent call last):\n",
      "  File \"/home/vagrant/miniconda3/envs/automl/lib/python3.8/site-packages/optuna/_optimize.py\", line 189, in _run_trial\n",
      "    value = func(trial)\n",
      "  File \"/mnt/c/Users/rwmas/GitHub/auto-learn/notebooks/../ml/models/base/slug_svm.py\", line 124, in <lambda>\n",
      "    func = lambda trial: objective(trial, df_X, df_y)\n",
      "  File \"/mnt/c/Users/rwmas/GitHub/auto-learn/notebooks/../ml/models/base/slug_svm.py\", line 79, in objective\n",
      "    for train_index, test_index in kf.split(df_X, df_y):\n",
      "  File \"/home/vagrant/miniconda3/envs/automl/lib/python3.8/site-packages/pandas/core/indexing.py\", line 967, in __getitem__\n",
      "    return self._getitem_axis(maybe_callable, axis=axis)\n",
      "  File \"/home/vagrant/miniconda3/envs/automl/lib/python3.8/site-packages/pandas/core/indexing.py\", line 1191, in _getitem_axis\n",
      "    return self._getitem_iterable(key, axis=axis)\n",
      "  File \"/home/vagrant/miniconda3/envs/automl/lib/python3.8/site-packages/pandas/core/indexing.py\", line 1132, in _getitem_iterable\n",
      "    keyarr, indexer = self._get_listlike_indexer(key, axis)\n",
      "  File \"/home/vagrant/miniconda3/envs/automl/lib/python3.8/site-packages/pandas/core/indexing.py\", line 1327, in _get_listlike_indexer\n",
      "    keyarr, indexer = ax._get_indexer_strict(key, axis_name)\n",
      "  File \"/home/vagrant/miniconda3/envs/automl/lib/python3.8/site-packages/pandas/core/indexes/base.py\", line 5782, in _get_indexer_strict\n",
      "    self._raise_if_missing(keyarr, indexer, axis_name)\n",
      "  File \"/home/vagrant/miniconda3/envs/automl/lib/python3.8/site-packages/pandas/core/indexes/base.py\", line 5845, in _raise_if_missing\n",
      "    raise KeyError(f\"{not_found} not in index\")\n",
      "KeyError: '[23, 25, 27, 28, 29, 31, 32, 34, 35, 36, 38, 39, 41, 42, 43, 46, 47, 48, 49, 50, 52, 53, 57, 58, 59, 62] not in index'\n",
      "\u001b[33m[W 2022-10-10 21:35:28,872]\u001b[0m Trial 1 failed because of the following error: KeyError('[23, 25, 27, 28, 29, 31, 32, 34, 35, 36, 38, 39, 41, 42, 43, 46, 47, 48, 49, 50, 52, 53, 57, 58, 59, 62] not in index')\u001b[0m\n",
      "Traceback (most recent call last):\n",
      "  File \"/home/vagrant/miniconda3/envs/automl/lib/python3.8/site-packages/optuna/_optimize.py\", line 189, in _run_trial\n",
      "    value = func(trial)\n",
      "  File \"/mnt/c/Users/rwmas/GitHub/auto-learn/notebooks/../ml/models/base/slug_svm.py\", line 124, in <lambda>\n",
      "    func = lambda trial: objective(trial, df_X, df_y)\n",
      "  File \"/mnt/c/Users/rwmas/GitHub/auto-learn/notebooks/../ml/models/base/slug_svm.py\", line 79, in objective\n",
      "    for train_index, test_index in kf.split(df_X, df_y):\n",
      "  File \"/home/vagrant/miniconda3/envs/automl/lib/python3.8/site-packages/pandas/core/indexing.py\", line 967, in __getitem__\n",
      "    return self._getitem_axis(maybe_callable, axis=axis)\n",
      "  File \"/home/vagrant/miniconda3/envs/automl/lib/python3.8/site-packages/pandas/core/indexing.py\", line 1191, in _getitem_axis\n",
      "    return self._getitem_iterable(key, axis=axis)\n",
      "  File \"/home/vagrant/miniconda3/envs/automl/lib/python3.8/site-packages/pandas/core/indexing.py\", line 1132, in _getitem_iterable\n",
      "    keyarr, indexer = self._get_listlike_indexer(key, axis)\n",
      "  File \"/home/vagrant/miniconda3/envs/automl/lib/python3.8/site-packages/pandas/core/indexing.py\", line 1327, in _get_listlike_indexer\n",
      "    keyarr, indexer = ax._get_indexer_strict(key, axis_name)\n",
      "  File \"/home/vagrant/miniconda3/envs/automl/lib/python3.8/site-packages/pandas/core/indexes/base.py\", line 5782, in _get_indexer_strict\n",
      "    self._raise_if_missing(keyarr, indexer, axis_name)\n",
      "  File \"/home/vagrant/miniconda3/envs/automl/lib/python3.8/site-packages/pandas/core/indexes/base.py\", line 5845, in _raise_if_missing\n",
      "    raise KeyError(f\"{not_found} not in index\")\n",
      "KeyError: '[23, 25, 27, 28, 29, 31, 32, 34, 35, 36, 38, 39, 41, 42, 43, 46, 47, 48, 49, 50, 52, 53, 57, 58, 59, 62] not in index'\n",
      "2022-10-10 21:35:28,881 - distributed.worker - WARNING - Compute Failed\n",
      "Key:       batch_of__optimize_sequential_1_calls-86fb89e9495e40e1bc37b4e5d58cfd45\n",
      "Function:  execute_task\n",
      "args:      ((<function apply at 0x7f4d95cb6160>, batch_of__optimize_sequential_1_calls, [], {'tasks': [(<function _optimize_sequential at 0x7f4d7faeec10>, [<optuna.study.Study object at 0x7f4d15544ca0>, <function discover_model.<locals>.<lambda> at 0x7f4cf55620d0>, 1, None, (), None, False], {'reseed_sampler_rng': True, 'time_start': datetime.datetime(2022, 10, 10, 21, 35, 28, 479922), 'progress_bar': None})]}))\n",
      "kwargs:    {}\n",
      "Exception: \"KeyError('[23, 25, 27, 28, 29, 31, 32, 34, 35, 36, 38, 39, 41, 42, 43, 46, 47, 48, 49, 50, 52, 53, 57, 58, 59, 62] not in index')\"\n",
      "\n",
      "\u001b[33m[W 2022-10-10 21:35:28,874]\u001b[0m Trial 2 failed because of the following error: KeyError('[23, 25, 27, 28, 29, 31, 32, 34, 35, 36, 38, 39, 41, 42, 43, 46, 47, 48, 49, 50, 52, 53, 57, 58, 59, 62] not in index')\u001b[0m\n",
      "Traceback (most recent call last):\n",
      "  File \"/home/vagrant/miniconda3/envs/automl/lib/python3.8/site-packages/optuna/_optimize.py\", line 189, in _run_trial\n",
      "    value = func(trial)\n",
      "  File \"/mnt/c/Users/rwmas/GitHub/auto-learn/notebooks/../ml/models/base/slug_svm.py\", line 124, in <lambda>\n",
      "    func = lambda trial: objective(trial, df_X, df_y)\n",
      "  File \"/mnt/c/Users/rwmas/GitHub/auto-learn/notebooks/../ml/models/base/slug_svm.py\", line 79, in objective\n",
      "    for train_index, test_index in kf.split(df_X, df_y):\n",
      "  File \"/home/vagrant/miniconda3/envs/automl/lib/python3.8/site-packages/pandas/core/indexing.py\", line 967, in __getitem__\n",
      "    return self._getitem_axis(maybe_callable, axis=axis)\n",
      "  File \"/home/vagrant/miniconda3/envs/automl/lib/python3.8/site-packages/pandas/core/indexing.py\", line 1191, in _getitem_axis\n",
      "    return self._getitem_iterable(key, axis=axis)\n",
      "  File \"/home/vagrant/miniconda3/envs/automl/lib/python3.8/site-packages/pandas/core/indexing.py\", line 1132, in _getitem_iterable\n",
      "    keyarr, indexer = self._get_listlike_indexer(key, axis)\n",
      "  File \"/home/vagrant/miniconda3/envs/automl/lib/python3.8/site-packages/pandas/core/indexing.py\", line 1327, in _get_listlike_indexer\n",
      "    keyarr, indexer = ax._get_indexer_strict(key, axis_name)\n",
      "  File \"/home/vagrant/miniconda3/envs/automl/lib/python3.8/site-packages/pandas/core/indexes/base.py\", line 5782, in _get_indexer_strict\n",
      "    self._raise_if_missing(keyarr, indexer, axis_name)\n",
      "  File \"/home/vagrant/miniconda3/envs/automl/lib/python3.8/site-packages/pandas/core/indexes/base.py\", line 5845, in _raise_if_missing\n",
      "    raise KeyError(f\"{not_found} not in index\")\n",
      "KeyError: '[23, 25, 27, 28, 29, 31, 32, 34, 35, 36, 38, 39, 41, 42, 43, 46, 47, 48, 49, 50, 52, 53, 57, 58, 59, 62] not in index'\n",
      "\u001b[33m[W 2022-10-10 21:35:28,866]\u001b[0m Trial 9 failed because of the following error: KeyError('[23, 25, 27, 28, 29, 31, 32, 34, 35, 36, 38, 39, 41, 42, 43, 46, 47, 48, 49, 50, 52, 53, 57, 58, 59, 62] not in index')\u001b[0m\n",
      "Traceback (most recent call last):\n",
      "  File \"/home/vagrant/miniconda3/envs/automl/lib/python3.8/site-packages/optuna/_optimize.py\", line 189, in _run_trial\n",
      "    value = func(trial)\n",
      "  File \"/mnt/c/Users/rwmas/GitHub/auto-learn/notebooks/../ml/models/base/slug_svm.py\", line 124, in <lambda>\n",
      "    func = lambda trial: objective(trial, df_X, df_y)\n",
      "  File \"/mnt/c/Users/rwmas/GitHub/auto-learn/notebooks/../ml/models/base/slug_svm.py\", line 79, in objective\n",
      "    for train_index, test_index in kf.split(df_X, df_y):\n",
      "  File \"/home/vagrant/miniconda3/envs/automl/lib/python3.8/site-packages/pandas/core/indexing.py\", line 967, in __getitem__\n",
      "    return self._getitem_axis(maybe_callable, axis=axis)\n",
      "  File \"/home/vagrant/miniconda3/envs/automl/lib/python3.8/site-packages/pandas/core/indexing.py\", line 1191, in _getitem_axis\n",
      "    return self._getitem_iterable(key, axis=axis)\n",
      "  File \"/home/vagrant/miniconda3/envs/automl/lib/python3.8/site-packages/pandas/core/indexing.py\", line 1132, in _getitem_iterable\n",
      "    keyarr, indexer = self._get_listlike_indexer(key, axis)\n",
      "  File \"/home/vagrant/miniconda3/envs/automl/lib/python3.8/site-packages/pandas/core/indexing.py\", line 1327, in _get_listlike_indexer\n",
      "    keyarr, indexer = ax._get_indexer_strict(key, axis_name)\n",
      "  File \"/home/vagrant/miniconda3/envs/automl/lib/python3.8/site-packages/pandas/core/indexes/base.py\", line 5782, in _get_indexer_strict\n",
      "    self._raise_if_missing(keyarr, indexer, axis_name)\n",
      "  File \"/home/vagrant/miniconda3/envs/automl/lib/python3.8/site-packages/pandas/core/indexes/base.py\", line 5845, in _raise_if_missing\n",
      "    raise KeyError(f\"{not_found} not in index\")\n",
      "KeyError: '[23, 25, 27, 28, 29, 31, 32, 34, 35, 36, 38, 39, 41, 42, 43, 46, 47, 48, 49, 50, 52, 53, 57, 58, 59, 62] not in index'\n",
      "\u001b[33m[W 2022-10-10 21:35:28,871]\u001b[0m Trial 5 failed because of the following error: KeyError('[23, 25, 27, 28, 29, 31, 32, 34, 35, 36, 38, 39, 41, 42, 43, 46, 47, 48, 49, 50, 52, 53, 57, 58, 59, 62] not in index')\u001b[0m\n",
      "Traceback (most recent call last):\n",
      "  File \"/home/vagrant/miniconda3/envs/automl/lib/python3.8/site-packages/optuna/_optimize.py\", line 189, in _run_trial\n",
      "    value = func(trial)\n",
      "  File \"/mnt/c/Users/rwmas/GitHub/auto-learn/notebooks/../ml/models/base/slug_svm.py\", line 124, in <lambda>\n",
      "    func = lambda trial: objective(trial, df_X, df_y)\n",
      "  File \"/mnt/c/Users/rwmas/GitHub/auto-learn/notebooks/../ml/models/base/slug_svm.py\", line 79, in objective\n",
      "    for train_index, test_index in kf.split(df_X, df_y):\n",
      "  File \"/home/vagrant/miniconda3/envs/automl/lib/python3.8/site-packages/pandas/core/indexing.py\", line 967, in __getitem__\n",
      "    return self._getitem_axis(maybe_callable, axis=axis)\n",
      "  File \"/home/vagrant/miniconda3/envs/automl/lib/python3.8/site-packages/pandas/core/indexing.py\", line 1191, in _getitem_axis\n",
      "    return self._getitem_iterable(key, axis=axis)\n",
      "  File \"/home/vagrant/miniconda3/envs/automl/lib/python3.8/site-packages/pandas/core/indexing.py\", line 1132, in _getitem_iterable\n",
      "    keyarr, indexer = self._get_listlike_indexer(key, axis)\n",
      "  File \"/home/vagrant/miniconda3/envs/automl/lib/python3.8/site-packages/pandas/core/indexing.py\", line 1327, in _get_listlike_indexer\n",
      "    keyarr, indexer = ax._get_indexer_strict(key, axis_name)\n",
      "  File \"/home/vagrant/miniconda3/envs/automl/lib/python3.8/site-packages/pandas/core/indexes/base.py\", line 5782, in _get_indexer_strict\n",
      "    self._raise_if_missing(keyarr, indexer, axis_name)\n",
      "  File \"/home/vagrant/miniconda3/envs/automl/lib/python3.8/site-packages/pandas/core/indexes/base.py\", line 5845, in _raise_if_missing\n",
      "    raise KeyError(f\"{not_found} not in index\")\n",
      "KeyError: '[23, 25, 27, 28, 29, 31, 32, 34, 35, 36, 38, 39, 41, 42, 43, 46, 47, 48, 49, 50, 52, 53, 57, 58, 59, 62] not in index'\n",
      "2022-10-10 21:35:28,893 - distributed.worker - WARNING - Compute Failed\n",
      "Key:       batch_of__optimize_sequential_1_calls-d2c80e4f6cc240cf9a38f18e63fe2116\n",
      "Function:  execute_task\n",
      "args:      ((<function apply at 0x7f272aa0d160>, batch_of__optimize_sequential_1_calls, [], {'tasks': [(<function _optimize_sequential at 0x7f2714742af0>, [<optuna.study.Study object at 0x7f2649bac760>, <function discover_model.<locals>.<lambda> at 0x7f26572be550>, 1, None, (), None, False], {'reseed_sampler_rng': True, 'time_start': datetime.datetime(2022, 10, 10, 21, 35, 28, 479922), 'progress_bar': None})]}))\n",
      "kwargs:    {}\n",
      "Exception: \"KeyError('[23, 25, 27, 28, 29, 31, 32, 34, 35, 36, 38, 39, 41, 42, 43, 46, 47, 48, 49, 50, 52, 53, 57, 58, 59, 62] not in index')\"\n",
      "\n",
      "\u001b[33m[W 2022-10-10 21:35:28,877]\u001b[0m Trial 3 failed because of the following error: KeyError('[23, 25, 27, 28, 29, 31, 32, 34, 35, 36, 38, 39, 41, 42, 43, 46, 47, 48, 49, 50, 52, 53, 57, 58, 59, 62] not in index')\u001b[0m\n",
      "Traceback (most recent call last):\n",
      "  File \"/home/vagrant/miniconda3/envs/automl/lib/python3.8/site-packages/optuna/_optimize.py\", line 189, in _run_trial\n",
      "    value = func(trial)\n",
      "  File \"/mnt/c/Users/rwmas/GitHub/auto-learn/notebooks/../ml/models/base/slug_svm.py\", line 124, in <lambda>\n",
      "    func = lambda trial: objective(trial, df_X, df_y)\n",
      "  File \"/mnt/c/Users/rwmas/GitHub/auto-learn/notebooks/../ml/models/base/slug_svm.py\", line 79, in objective\n",
      "    for train_index, test_index in kf.split(df_X, df_y):\n",
      "  File \"/home/vagrant/miniconda3/envs/automl/lib/python3.8/site-packages/pandas/core/indexing.py\", line 967, in __getitem__\n",
      "    return self._getitem_axis(maybe_callable, axis=axis)\n",
      "  File \"/home/vagrant/miniconda3/envs/automl/lib/python3.8/site-packages/pandas/core/indexing.py\", line 1191, in _getitem_axis\n",
      "    return self._getitem_iterable(key, axis=axis)\n",
      "  File \"/home/vagrant/miniconda3/envs/automl/lib/python3.8/site-packages/pandas/core/indexing.py\", line 1132, in _getitem_iterable\n",
      "    keyarr, indexer = self._get_listlike_indexer(key, axis)\n",
      "  File \"/home/vagrant/miniconda3/envs/automl/lib/python3.8/site-packages/pandas/core/indexing.py\", line 1327, in _get_listlike_indexer\n",
      "    keyarr, indexer = ax._get_indexer_strict(key, axis_name)\n",
      "  File \"/home/vagrant/miniconda3/envs/automl/lib/python3.8/site-packages/pandas/core/indexes/base.py\", line 5782, in _get_indexer_strict\n",
      "    self._raise_if_missing(keyarr, indexer, axis_name)\n",
      "  File \"/home/vagrant/miniconda3/envs/automl/lib/python3.8/site-packages/pandas/core/indexes/base.py\", line 5845, in _raise_if_missing\n",
      "    raise KeyError(f\"{not_found} not in index\")\n",
      "KeyError: '[23, 25, 27, 28, 29, 31, 32, 34, 35, 36, 38, 39, 41, 42, 43, 46, 47, 48, 49, 50, 52, 53, 57, 58, 59, 62] not in index'\n",
      "2022-10-10 21:35:28,895 - distributed.worker - WARNING - Compute Failed\n",
      "Key:       batch_of__optimize_sequential_1_calls-e5b208a3e1c1435882f521f5d13811d7\n",
      "Function:  execute_task\n",
      "args:      ((<function apply at 0x7f272aa0d160>, batch_of__optimize_sequential_1_calls, [], {'tasks': [(<function _optimize_sequential at 0x7f2714742af0>, [<optuna.study.Study object at 0x7f264419ed90>, <function discover_model.<locals>.<lambda> at 0x7f26572be310>, 1, None, (), None, False], {'reseed_sampler_rng': True, 'time_start': datetime.datetime(2022, 10, 10, 21, 35, 28, 479922), 'progress_bar': None})]}))\n",
      "kwargs:    {}\n",
      "Exception: \"KeyError('[23, 25, 27, 28, 29, 31, 32, 34, 35, 36, 38, 39, 41, 42, 43, 46, 47, 48, 49, 50, 52, 53, 57, 58, 59, 62] not in index')\"\n",
      "\n",
      "2022-10-10 21:35:28,900 - distributed.worker - WARNING - Compute Failed\n",
      "Key:       batch_of__optimize_sequential_1_calls-98144b31374b4058878d9f7c42a149bb\n",
      "Function:  execute_task\n",
      "args:      ((<function apply at 0x7f4d95cb6160>, batch_of__optimize_sequential_1_calls, [], {'tasks': [(<function _optimize_sequential at 0x7f4d7faeec10>, [<optuna.study.Study object at 0x7f4d155446d0>, <function discover_model.<locals>.<lambda> at 0x7f4cf5526040>, 1, None, (), None, False], {'reseed_sampler_rng': True, 'time_start': datetime.datetime(2022, 10, 10, 21, 35, 28, 479922), 'progress_bar': None})]}))\n",
      "kwargs:    {}\n",
      "Exception: \"KeyError('[23, 25, 27, 28, 29, 31, 32, 34, 35, 36, 38, 39, 41, 42, 43, 46, 47, 48, 49, 50, 52, 53, 57, 58, 59, 62] not in index')\"\n",
      "\n",
      "2022-10-10 21:35:28,901 - distributed.worker - WARNING - Compute Failed\n",
      "Key:       batch_of__optimize_sequential_1_calls-d12dd8bb139c41919c5f19dc19f3d118\n",
      "Function:  execute_task\n",
      "args:      ((<function apply at 0x7f010720a160>, batch_of__optimize_sequential_1_calls, [], {'tasks': [(<function _optimize_sequential at 0x7f00f1016ca0>, [<optuna.study.Study object at 0x7f005c6f3400>, <function discover_model.<locals>.<lambda> at 0x7f005dd1bee0>, 1, None, (), None, False], {'reseed_sampler_rng': True, 'time_start': datetime.datetime(2022, 10, 10, 21, 35, 28, 479922), 'progress_bar': None})]}))\n",
      "kwargs:    {}\n",
      "Exception: \"KeyError('[23, 25, 27, 28, 29, 31, 32, 34, 35, 36, 38, 39, 41, 42, 43, 46, 47, 48, 49, 50, 52, 53, 57, 58, 59, 62] not in index')\"\n",
      "\n",
      "2022-10-10 21:35:28,906 - distributed.worker - WARNING - Compute Failed\n",
      "Key:       batch_of__optimize_sequential_1_calls-4cbbd60946f84bf7b0ab653c68c96ed2\n",
      "Function:  execute_task\n",
      "args:      ((<function apply at 0x7f010720a160>, batch_of__optimize_sequential_1_calls, [], {'tasks': [(<function _optimize_sequential at 0x7f00f1016ca0>, [<optuna.study.Study object at 0x7f005a8bf880>, <function discover_model.<locals>.<lambda> at 0x7f007f860ee0>, 1, None, (), None, False], {'reseed_sampler_rng': True, 'time_start': datetime.datetime(2022, 10, 10, 21, 35, 28, 479922), 'progress_bar': None})]}))\n",
      "kwargs:    {}\n",
      "Exception: \"KeyError('[23, 25, 27, 28, 29, 31, 32, 34, 35, 36, 38, 39, 41, 42, 43, 46, 47, 48, 49, 50, 52, 53, 57, 58, 59, 62] not in index')\"\n",
      "\n",
      "2022-10-10 21:35:28,915 - distributed.worker - WARNING - Compute Failed\n",
      "Key:       batch_of__optimize_sequential_1_calls-abfad06cc31e430c815321c393990fc9\n",
      "Function:  execute_task\n",
      "args:      ((<function apply at 0x7f4d95cb6160>, batch_of__optimize_sequential_1_calls, [], {'tasks': [(<function _optimize_sequential at 0x7f4d7faeec10>, [<optuna.study.Study object at 0x7f4d896640a0>, <function discover_model.<locals>.<lambda> at 0x7f4cf5526ca0>, 1, None, (), None, False], {'reseed_sampler_rng': True, 'time_start': datetime.datetime(2022, 10, 10, 21, 35, 28, 479922), 'progress_bar': None})]}))\n",
      "kwargs:    {}\n",
      "Exception: \"KeyError('[23, 25, 27, 28, 29, 31, 32, 34, 35, 36, 38, 39, 41, 42, 43, 46, 47, 48, 49, 50, 52, 53, 57, 58, 59, 62] not in index')\"\n",
      "\n",
      "2022-10-10 21:35:28,916 - distributed.worker - WARNING - Compute Failed\n",
      "Key:       batch_of__optimize_sequential_1_calls-8c1f2443397947e3bfd6d372ec0a6f7a\n",
      "Function:  execute_task\n",
      "args:      ((<function apply at 0x7f272aa0d160>, batch_of__optimize_sequential_1_calls, [], {'tasks': [(<function _optimize_sequential at 0x7f2714742af0>, [<optuna.study.Study object at 0x7f264419e640>, <function discover_model.<locals>.<lambda> at 0x7f264ab13940>, 1, None, (), None, False], {'reseed_sampler_rng': True, 'time_start': datetime.datetime(2022, 10, 10, 21, 35, 28, 479922), 'progress_bar': None})]}))\n",
      "kwargs:    {}\n",
      "Exception: \"KeyError('[23, 25, 27, 28, 29, 31, 32, 34, 35, 36, 38, 39, 41, 42, 43, 46, 47, 48, 49, 50, 52, 53, 57, 58, 59, 62] not in index')\"\n",
      "\n",
      "2022-10-10 21:35:28,923 - distributed.worker - WARNING - Compute Failed\n",
      "Key:       batch_of__optimize_sequential_1_calls-0c585031e6944e12bab048f27755afef\n",
      "Function:  execute_task\n",
      "args:      ((<function apply at 0x7f010720a160>, batch_of__optimize_sequential_1_calls, [], {'tasks': [(<function _optimize_sequential at 0x7f00f1016ca0>, [<optuna.study.Study object at 0x7f005ee8cd90>, <function discover_model.<locals>.<lambda> at 0x7f007f860ca0>, 1, None, (), None, False], {'reseed_sampler_rng': True, 'time_start': datetime.datetime(2022, 10, 10, 21, 35, 28, 479922), 'progress_bar': None})]}))\n",
      "kwargs:    {}\n",
      "Exception: \"KeyError('[23, 25, 27, 28, 29, 31, 32, 34, 35, 36, 38, 39, 41, 42, 43, 46, 47, 48, 49, 50, 52, 53, 57, 58, 59, 62] not in index')\"\n",
      "\n",
      "\u001b[33m[W 2022-10-10 21:35:29,106]\u001b[0m Trial 0 failed because of the following error: KeyError('[23, 25, 27, 28, 29, 31, 32, 34, 35, 36, 38, 39, 41, 42, 43, 46, 47, 48, 49, 50, 52, 53, 57, 58, 59, 62] not in index')\u001b[0m\n",
      "Traceback (most recent call last):\n",
      "  File \"/home/vagrant/miniconda3/envs/automl/lib/python3.8/site-packages/optuna/_optimize.py\", line 189, in _run_trial\n",
      "    value = func(trial)\n",
      "  File \"/mnt/c/Users/rwmas/GitHub/auto-learn/notebooks/../ml/models/base/slug_svm.py\", line 124, in <lambda>\n",
      "    func = lambda trial: objective(trial, df_X, df_y)\n",
      "  File \"/mnt/c/Users/rwmas/GitHub/auto-learn/notebooks/../ml/models/base/slug_svm.py\", line 79, in objective\n",
      "    for train_index, test_index in kf.split(df_X, df_y):\n",
      "  File \"/home/vagrant/miniconda3/envs/automl/lib/python3.8/site-packages/pandas/core/indexing.py\", line 967, in __getitem__\n",
      "    return self._getitem_axis(maybe_callable, axis=axis)\n",
      "  File \"/home/vagrant/miniconda3/envs/automl/lib/python3.8/site-packages/pandas/core/indexing.py\", line 1191, in _getitem_axis\n",
      "    return self._getitem_iterable(key, axis=axis)\n",
      "  File \"/home/vagrant/miniconda3/envs/automl/lib/python3.8/site-packages/pandas/core/indexing.py\", line 1132, in _getitem_iterable\n",
      "    keyarr, indexer = self._get_listlike_indexer(key, axis)\n",
      "  File \"/home/vagrant/miniconda3/envs/automl/lib/python3.8/site-packages/pandas/core/indexing.py\", line 1327, in _get_listlike_indexer\n",
      "    keyarr, indexer = ax._get_indexer_strict(key, axis_name)\n",
      "  File \"/home/vagrant/miniconda3/envs/automl/lib/python3.8/site-packages/pandas/core/indexes/base.py\", line 5782, in _get_indexer_strict\n",
      "    self._raise_if_missing(keyarr, indexer, axis_name)\n",
      "  File \"/home/vagrant/miniconda3/envs/automl/lib/python3.8/site-packages/pandas/core/indexes/base.py\", line 5845, in _raise_if_missing\n",
      "    raise KeyError(f\"{not_found} not in index\")\n",
      "KeyError: '[23, 25, 27, 28, 29, 31, 32, 34, 35, 36, 38, 39, 41, 42, 43, 46, 47, 48, 49, 50, 52, 53, 57, 58, 59, 62] not in index'\n",
      "2022-10-10 21:35:29,145 - distributed.worker - WARNING - Compute Failed\n",
      "Key:       batch_of__optimize_sequential_1_calls-2fecd4d1ee8b4592b1bf32037710fdf2\n",
      "Function:  execute_task\n",
      "args:      ((<function apply at 0x7fe5a4183160>, batch_of__optimize_sequential_1_calls, [], {'tasks': [(<function _optimize_sequential at 0x7fe58df07a60>, [<optuna.study.Study object at 0x7fe51adc5760>, <function discover_model.<locals>.<lambda> at 0x7fe58fa56940>, 1, None, (), None, False], {'reseed_sampler_rng': True, 'time_start': datetime.datetime(2022, 10, 10, 21, 35, 28, 479922), 'progress_bar': None})]}))\n",
      "kwargs:    {}\n",
      "Exception: \"KeyError('[23, 25, 27, 28, 29, 31, 32, 34, 35, 36, 38, 39, 41, 42, 43, 46, 47, 48, 49, 50, 52, 53, 57, 58, 59, 62] not in index')\"\n",
      "\n",
      "\u001b[33m[W 2022-10-10 21:35:29,151]\u001b[0m Trial 8 failed because of the following error: KeyError('[23, 25, 27, 28, 29, 31, 32, 34, 35, 36, 38, 39, 41, 42, 43, 46, 47, 48, 49, 50, 52, 53, 57, 58, 59, 62] not in index')\u001b[0m\n",
      "Traceback (most recent call last):\n",
      "  File \"/home/vagrant/miniconda3/envs/automl/lib/python3.8/site-packages/optuna/_optimize.py\", line 189, in _run_trial\n",
      "    value = func(trial)\n",
      "  File \"/mnt/c/Users/rwmas/GitHub/auto-learn/notebooks/../ml/models/base/slug_svm.py\", line 124, in <lambda>\n",
      "    func = lambda trial: objective(trial, df_X, df_y)\n",
      "  File \"/mnt/c/Users/rwmas/GitHub/auto-learn/notebooks/../ml/models/base/slug_svm.py\", line 79, in objective\n",
      "    for train_index, test_index in kf.split(df_X, df_y):\n",
      "  File \"/home/vagrant/miniconda3/envs/automl/lib/python3.8/site-packages/pandas/core/indexing.py\", line 967, in __getitem__\n",
      "    return self._getitem_axis(maybe_callable, axis=axis)\n",
      "  File \"/home/vagrant/miniconda3/envs/automl/lib/python3.8/site-packages/pandas/core/indexing.py\", line 1191, in _getitem_axis\n",
      "    return self._getitem_iterable(key, axis=axis)\n",
      "  File \"/home/vagrant/miniconda3/envs/automl/lib/python3.8/site-packages/pandas/core/indexing.py\", line 1132, in _getitem_iterable\n",
      "    keyarr, indexer = self._get_listlike_indexer(key, axis)\n",
      "  File \"/home/vagrant/miniconda3/envs/automl/lib/python3.8/site-packages/pandas/core/indexing.py\", line 1327, in _get_listlike_indexer\n",
      "    keyarr, indexer = ax._get_indexer_strict(key, axis_name)\n",
      "  File \"/home/vagrant/miniconda3/envs/automl/lib/python3.8/site-packages/pandas/core/indexes/base.py\", line 5782, in _get_indexer_strict\n",
      "    self._raise_if_missing(keyarr, indexer, axis_name)\n",
      "  File \"/home/vagrant/miniconda3/envs/automl/lib/python3.8/site-packages/pandas/core/indexes/base.py\", line 5845, in _raise_if_missing\n",
      "    raise KeyError(f\"{not_found} not in index\")\n",
      "KeyError: '[23, 25, 27, 28, 29, 31, 32, 34, 35, 36, 38, 39, 41, 42, 43, 46, 47, 48, 49, 50, 52, 53, 57, 58, 59, 62] not in index'\n",
      "2022-10-10 21:35:29,166 - distributed.worker - WARNING - Compute Failed\n",
      "Key:       batch_of__optimize_sequential_1_calls-b110005f03244a479798c2f93af8ac54\n",
      "Function:  execute_task\n",
      "args:      ((<function apply at 0x7fe5a4183160>, batch_of__optimize_sequential_1_calls, [], {'tasks': [(<function _optimize_sequential at 0x7fe58df07a60>, [<optuna.study.Study object at 0x7fe505fdb610>, <function discover_model.<locals>.<lambda> at 0x7fe58fdc0c10>, 1, None, (), None, False], {'reseed_sampler_rng': True, 'time_start': datetime.datetime(2022, 10, 10, 21, 35, 28, 479922), 'progress_bar': None})]}))\n",
      "kwargs:    {}\n",
      "Exception: \"KeyError('[23, 25, 27, 28, 29, 31, 32, 34, 35, 36, 38, 39, 41, 42, 43, 46, 47, 48, 49, 50, 52, 53, 57, 58, 59, 62] not in index')\"\n",
      "\n",
      "\u001b[33m[W 2022-10-10 21:35:29,152]\u001b[0m Trial 4 failed because of the following error: KeyError('[23, 25, 27, 28, 29, 31, 32, 34, 35, 36, 38, 39, 41, 42, 43, 46, 47, 48, 49, 50, 52, 53, 57, 58, 59, 62] not in index')\u001b[0m\n",
      "Traceback (most recent call last):\n",
      "  File \"/home/vagrant/miniconda3/envs/automl/lib/python3.8/site-packages/optuna/_optimize.py\", line 189, in _run_trial\n",
      "    value = func(trial)\n",
      "  File \"/mnt/c/Users/rwmas/GitHub/auto-learn/notebooks/../ml/models/base/slug_svm.py\", line 124, in <lambda>\n",
      "    func = lambda trial: objective(trial, df_X, df_y)\n",
      "  File \"/mnt/c/Users/rwmas/GitHub/auto-learn/notebooks/../ml/models/base/slug_svm.py\", line 79, in objective\n",
      "    for train_index, test_index in kf.split(df_X, df_y):\n",
      "  File \"/home/vagrant/miniconda3/envs/automl/lib/python3.8/site-packages/pandas/core/indexing.py\", line 967, in __getitem__\n",
      "    return self._getitem_axis(maybe_callable, axis=axis)\n",
      "  File \"/home/vagrant/miniconda3/envs/automl/lib/python3.8/site-packages/pandas/core/indexing.py\", line 1191, in _getitem_axis\n",
      "    return self._getitem_iterable(key, axis=axis)\n",
      "  File \"/home/vagrant/miniconda3/envs/automl/lib/python3.8/site-packages/pandas/core/indexing.py\", line 1132, in _getitem_iterable\n",
      "    keyarr, indexer = self._get_listlike_indexer(key, axis)\n",
      "  File \"/home/vagrant/miniconda3/envs/automl/lib/python3.8/site-packages/pandas/core/indexing.py\", line 1327, in _get_listlike_indexer\n",
      "    keyarr, indexer = ax._get_indexer_strict(key, axis_name)\n",
      "  File \"/home/vagrant/miniconda3/envs/automl/lib/python3.8/site-packages/pandas/core/indexes/base.py\", line 5782, in _get_indexer_strict\n",
      "    self._raise_if_missing(keyarr, indexer, axis_name)\n",
      "  File \"/home/vagrant/miniconda3/envs/automl/lib/python3.8/site-packages/pandas/core/indexes/base.py\", line 5845, in _raise_if_missing\n",
      "    raise KeyError(f\"{not_found} not in index\")\n",
      "KeyError: '[23, 25, 27, 28, 29, 31, 32, 34, 35, 36, 38, 39, 41, 42, 43, 46, 47, 48, 49, 50, 52, 53, 57, 58, 59, 62] not in index'\n",
      "2022-10-10 21:35:29,181 - distributed.worker - WARNING - Compute Failed\n",
      "Key:       batch_of__optimize_sequential_1_calls-27f8432af3394f4faaa18aac0e75f0a2\n",
      "Function:  execute_task\n",
      "args:      ((<function apply at 0x7fe5a4183160>, batch_of__optimize_sequential_1_calls, [], {'tasks': [(<function _optimize_sequential at 0x7fe58df07a60>, [<optuna.study.Study object at 0x7fe51ad1b400>, <function discover_model.<locals>.<lambda> at 0x7fe58fdc0f70>, 1, None, (), None, False], {'reseed_sampler_rng': True, 'time_start': datetime.datetime(2022, 10, 10, 21, 35, 28, 479922), 'progress_bar': None})]}))\n",
      "kwargs:    {}\n",
      "Exception: \"KeyError('[23, 25, 27, 28, 29, 31, 32, 34, 35, 36, 38, 39, 41, 42, 43, 46, 47, 48, 49, 50, 52, 53, 57, 58, 59, 62] not in index')\"\n",
      "\n",
      "\u001b[33m[W 2022-10-10 21:35:29,605]\u001b[0m Trial 12 failed because of the following error: KeyError('[23, 25, 27, 28, 29, 31, 32, 34, 35, 36, 38, 39, 41, 42, 43, 46, 47, 48, 49, 50, 52, 53, 57, 58, 59, 62] not in index')\u001b[0m\n",
      "Traceback (most recent call last):\n",
      "  File \"/home/vagrant/miniconda3/envs/automl/lib/python3.8/site-packages/optuna/_optimize.py\", line 189, in _run_trial\n",
      "    value = func(trial)\n",
      "  File \"/mnt/c/Users/rwmas/GitHub/auto-learn/notebooks/../ml/models/base/slug_svm.py\", line 124, in <lambda>\n",
      "    func = lambda trial: objective(trial, df_X, df_y)\n",
      "  File \"/mnt/c/Users/rwmas/GitHub/auto-learn/notebooks/../ml/models/base/slug_svm.py\", line 79, in objective\n",
      "    for train_index, test_index in kf.split(df_X, df_y):\n",
      "  File \"/home/vagrant/miniconda3/envs/automl/lib/python3.8/site-packages/pandas/core/indexing.py\", line 967, in __getitem__\n",
      "    return self._getitem_axis(maybe_callable, axis=axis)\n",
      "  File \"/home/vagrant/miniconda3/envs/automl/lib/python3.8/site-packages/pandas/core/indexing.py\", line 1191, in _getitem_axis\n",
      "    return self._getitem_iterable(key, axis=axis)\n",
      "  File \"/home/vagrant/miniconda3/envs/automl/lib/python3.8/site-packages/pandas/core/indexing.py\", line 1132, in _getitem_iterable\n",
      "    keyarr, indexer = self._get_listlike_indexer(key, axis)\n",
      "  File \"/home/vagrant/miniconda3/envs/automl/lib/python3.8/site-packages/pandas/core/indexing.py\", line 1327, in _get_listlike_indexer\n",
      "    keyarr, indexer = ax._get_indexer_strict(key, axis_name)\n",
      "  File \"/home/vagrant/miniconda3/envs/automl/lib/python3.8/site-packages/pandas/core/indexes/base.py\", line 5782, in _get_indexer_strict\n",
      "    self._raise_if_missing(keyarr, indexer, axis_name)\n",
      "  File \"/home/vagrant/miniconda3/envs/automl/lib/python3.8/site-packages/pandas/core/indexes/base.py\", line 5845, in _raise_if_missing\n",
      "    raise KeyError(f\"{not_found} not in index\")\n",
      "KeyError: '[23, 25, 27, 28, 29, 31, 32, 34, 35, 36, 38, 39, 41, 42, 43, 46, 47, 48, 49, 50, 52, 53, 57, 58, 59, 62] not in index'\n",
      "2022-10-10 21:35:29,619 - distributed.worker - WARNING - Compute Failed\n",
      "Key:       batch_of__optimize_sequential_1_calls-2b16e585b4c847e9b1aac80cd67c6da6\n",
      "Function:  execute_task\n",
      "args:      ((<function apply at 0x7f4d95cb6160>, batch_of__optimize_sequential_1_calls, [], {'tasks': [(<function _optimize_sequential at 0x7f4d7faeec10>, [<optuna.study.Study object at 0x7f4d1c0393d0>, <function discover_model.<locals>.<lambda> at 0x7f4d15c845e0>, 1, None, (), None, False], {'reseed_sampler_rng': True, 'time_start': datetime.datetime(2022, 10, 10, 21, 35, 28, 479922), 'progress_bar': None})]}))\n",
      "kwargs:    {}\n",
      "Exception: \"KeyError('[23, 25, 27, 28, 29, 31, 32, 34, 35, 36, 38, 39, 41, 42, 43, 46, 47, 48, 49, 50, 52, 53, 57, 58, 59, 62] not in index')\"\n",
      "\n"
     ]
    },
    {
     "ename": "KeyError",
     "evalue": "'[23, 25, 27, 28, 29, 31, 32, 34, 35, 36, 38, 39, 41, 42, 43, 46, 47, 48, 49, 50, 52, 53, 57, 58, 59, 62] not in index'",
     "output_type": "error",
     "traceback": [
      "\u001b[0;31m---------------------------------------------------------------------------\u001b[0m",
      "\u001b[0;31mKeyError\u001b[0m                                  Traceback (most recent call last)",
      "\u001b[1;32m/mnt/c/Users/rwmas/GitHub/auto-learn/notebooks/ensemble.ipynb Cell 29\u001b[0m in \u001b[0;36m<cell line: 1>\u001b[0;34m()\u001b[0m\n\u001b[0;32m----> <a href='vscode-notebook-cell://wsl%2Bubuntu/mnt/c/Users/rwmas/GitHub/auto-learn/notebooks/ensemble.ipynb#Y112sdnNjb2RlLXJlbW90ZQ%3D%3D?line=0'>1</a>\u001b[0m slug_svm\u001b[39m.\u001b[39;49mfetch_model(df_good_pred, y_test)\n",
      "File \u001b[0;32m/mnt/c/Users/rwmas/GitHub/auto-learn/notebooks/../ml/models/base/slug_svm.py:208\u001b[0m, in \u001b[0;36mfetch_model\u001b[0;34m(df_X, df_y)\u001b[0m\n\u001b[1;32m    206\u001b[0m     \u001b[39mprint\u001b[39m(\u001b[39m\"\u001b[39m\u001b[39m########## Re-running the discovery process ###############\u001b[39m\u001b[39m\"\u001b[39m)\n\u001b[1;32m    207\u001b[0m     \u001b[39mprint\u001b[39m(\u001b[39mf\u001b[39m\u001b[39m\"\u001b[39m\u001b[39mRerun #: \u001b[39m\u001b[39m{\u001b[39;00mrun_num\u001b[39m}\u001b[39;00m\u001b[39m\"\u001b[39m)\n\u001b[0;32m--> 208\u001b[0m     best_model \u001b[39m=\u001b[39m discover_model(df_X, df_y)\n\u001b[1;32m    209\u001b[0m     \u001b[39m# status = get_rerun_status(best_model, df_X, df_y)\u001b[39;00m\n\u001b[1;32m    210\u001b[0m \u001b[39melse\u001b[39;00m:        \n\u001b[1;32m    211\u001b[0m     \u001b[39mbreak\u001b[39;00m            \n",
      "File \u001b[0;32m/mnt/c/Users/rwmas/GitHub/auto-learn/notebooks/../ml/models/base/slug_svm.py:128\u001b[0m, in \u001b[0;36mdiscover_model\u001b[0;34m(df_X, df_y)\u001b[0m\n\u001b[1;32m    124\u001b[0m func \u001b[39m=\u001b[39m \u001b[39mlambda\u001b[39;00m trial: objective(trial, df_X, df_y)\n\u001b[1;32m    127\u001b[0m \u001b[39mwith\u001b[39;00m joblib\u001b[39m.\u001b[39mparallel_backend(\u001b[39m\"\u001b[39m\u001b[39mdask\u001b[39m\u001b[39m\"\u001b[39m):\n\u001b[0;32m--> 128\u001b[0m     study\u001b[39m.\u001b[39;49moptimize(func, n_trials\u001b[39m=\u001b[39;49mParams\u001b[39m.\u001b[39;49mn_trails, n_jobs\u001b[39m=\u001b[39;49m\u001b[39m-\u001b[39;49m\u001b[39m1\u001b[39;49m)\n\u001b[1;32m    130\u001b[0m \u001b[39mprint\u001b[39m(\u001b[39m\"\u001b[39m\u001b[39mNumber of trials: \u001b[39m\u001b[39m{}\u001b[39;00m\u001b[39m\"\u001b[39m\u001b[39m.\u001b[39mformat(\u001b[39mlen\u001b[39m(study\u001b[39m.\u001b[39mtrials)))\n\u001b[1;32m    132\u001b[0m \u001b[39mprint\u001b[39m(\u001b[39m\"\u001b[39m\u001b[39mBest trial:\u001b[39m\u001b[39m\"\u001b[39m)\n",
      "File \u001b[0;32m~/miniconda3/envs/automl/lib/python3.8/site-packages/optuna/study.py:306\u001b[0m, in \u001b[0;36mStudy.optimize\u001b[0;34m(self, func, n_trials, timeout, n_jobs, catch, callbacks, gc_after_trial, show_progress_bar)\u001b[0m\n\u001b[1;32m    228\u001b[0m \u001b[39mdef\u001b[39;00m \u001b[39moptimize\u001b[39m(\n\u001b[1;32m    229\u001b[0m     \u001b[39mself\u001b[39m,\n\u001b[1;32m    230\u001b[0m     func: ObjectiveFuncType,\n\u001b[0;32m   (...)\u001b[0m\n\u001b[1;32m    237\u001b[0m     show_progress_bar: \u001b[39mbool\u001b[39m \u001b[39m=\u001b[39m \u001b[39mFalse\u001b[39;00m,\n\u001b[1;32m    238\u001b[0m ) \u001b[39m-\u001b[39m\u001b[39m>\u001b[39m \u001b[39mNone\u001b[39;00m:\n\u001b[1;32m    239\u001b[0m     \u001b[39m\"\"\"Optimize an objective function.\u001b[39;00m\n\u001b[1;32m    240\u001b[0m \n\u001b[1;32m    241\u001b[0m \u001b[39m    Optimization is done by choosing a suitable set of hyperparameter values from a given\u001b[39;00m\n\u001b[0;32m   (...)\u001b[0m\n\u001b[1;32m    304\u001b[0m \u001b[39m            If nested invocation of this method occurs.\u001b[39;00m\n\u001b[1;32m    305\u001b[0m \u001b[39m    \"\"\"\u001b[39;00m\n\u001b[0;32m--> 306\u001b[0m     _optimize(\n\u001b[1;32m    307\u001b[0m         study\u001b[39m=\u001b[39;49m\u001b[39mself\u001b[39;49m,\n\u001b[1;32m    308\u001b[0m         func\u001b[39m=\u001b[39;49mfunc,\n\u001b[1;32m    309\u001b[0m         n_trials\u001b[39m=\u001b[39;49mn_trials,\n\u001b[1;32m    310\u001b[0m         timeout\u001b[39m=\u001b[39;49mtimeout,\n\u001b[1;32m    311\u001b[0m         n_jobs\u001b[39m=\u001b[39;49mn_jobs,\n\u001b[1;32m    312\u001b[0m         catch\u001b[39m=\u001b[39;49mcatch,\n\u001b[1;32m    313\u001b[0m         callbacks\u001b[39m=\u001b[39;49mcallbacks,\n\u001b[1;32m    314\u001b[0m         gc_after_trial\u001b[39m=\u001b[39;49mgc_after_trial,\n\u001b[1;32m    315\u001b[0m         show_progress_bar\u001b[39m=\u001b[39;49mshow_progress_bar,\n\u001b[1;32m    316\u001b[0m     )\n",
      "File \u001b[0;32m~/miniconda3/envs/automl/lib/python3.8/site-packages/optuna/_optimize.py:101\u001b[0m, in \u001b[0;36m_optimize\u001b[0;34m(study, func, n_trials, timeout, n_jobs, catch, callbacks, gc_after_trial, show_progress_bar)\u001b[0m\n\u001b[1;32m     90\u001b[0m             \u001b[39mif\u001b[39;00m \u001b[39mnot\u001b[39;00m \u001b[39misinstance\u001b[39m(\n\u001b[1;32m     91\u001b[0m                 parallel\u001b[39m.\u001b[39m_backend, joblib\u001b[39m.\u001b[39mparallel\u001b[39m.\u001b[39mThreadingBackend\n\u001b[1;32m     92\u001b[0m             ) \u001b[39mand\u001b[39;00m \u001b[39misinstance\u001b[39m(study\u001b[39m.\u001b[39m_storage, storages\u001b[39m.\u001b[39mInMemoryStorage):\n\u001b[1;32m     93\u001b[0m                 warnings\u001b[39m.\u001b[39mwarn(\n\u001b[1;32m     94\u001b[0m                     \u001b[39m\"\u001b[39m\u001b[39mThe default storage cannot be shared by multiple processes. \u001b[39m\u001b[39m\"\u001b[39m\n\u001b[1;32m     95\u001b[0m                     \u001b[39m\"\u001b[39m\u001b[39mPlease use an RDB (RDBStorage) when you use joblib for \u001b[39m\u001b[39m\"\u001b[39m\n\u001b[0;32m   (...)\u001b[0m\n\u001b[1;32m     98\u001b[0m                     \u001b[39mUserWarning\u001b[39;00m,\n\u001b[1;32m     99\u001b[0m                 )\n\u001b[0;32m--> 101\u001b[0m             parallel(\n\u001b[1;32m    102\u001b[0m                 delayed(_optimize_sequential)(\n\u001b[1;32m    103\u001b[0m                     study,\n\u001b[1;32m    104\u001b[0m                     func,\n\u001b[1;32m    105\u001b[0m                     \u001b[39m1\u001b[39;49m,\n\u001b[1;32m    106\u001b[0m                     timeout,\n\u001b[1;32m    107\u001b[0m                     catch,\n\u001b[1;32m    108\u001b[0m                     callbacks,\n\u001b[1;32m    109\u001b[0m                     gc_after_trial,\n\u001b[1;32m    110\u001b[0m                     reseed_sampler_rng\u001b[39m=\u001b[39;49m\u001b[39mTrue\u001b[39;49;00m,\n\u001b[1;32m    111\u001b[0m                     time_start\u001b[39m=\u001b[39;49mtime_start,\n\u001b[1;32m    112\u001b[0m                     progress_bar\u001b[39m=\u001b[39;49m\u001b[39mNone\u001b[39;49;00m,\n\u001b[1;32m    113\u001b[0m                 )\n\u001b[1;32m    114\u001b[0m                 \u001b[39mfor\u001b[39;49;00m _ \u001b[39min\u001b[39;49;00m _iter\n\u001b[1;32m    115\u001b[0m             )\n\u001b[1;32m    116\u001b[0m \u001b[39mfinally\u001b[39;00m:\n\u001b[1;32m    117\u001b[0m     study\u001b[39m.\u001b[39m_optimize_lock\u001b[39m.\u001b[39mrelease()\n",
      "File \u001b[0;32m~/miniconda3/envs/automl/lib/python3.8/site-packages/joblib/parallel.py:1056\u001b[0m, in \u001b[0;36mParallel.__call__\u001b[0;34m(self, iterable)\u001b[0m\n\u001b[1;32m   1053\u001b[0m     \u001b[39mself\u001b[39m\u001b[39m.\u001b[39m_iterating \u001b[39m=\u001b[39m \u001b[39mFalse\u001b[39;00m\n\u001b[1;32m   1055\u001b[0m \u001b[39mwith\u001b[39;00m \u001b[39mself\u001b[39m\u001b[39m.\u001b[39m_backend\u001b[39m.\u001b[39mretrieval_context():\n\u001b[0;32m-> 1056\u001b[0m     \u001b[39mself\u001b[39;49m\u001b[39m.\u001b[39;49mretrieve()\n\u001b[1;32m   1057\u001b[0m \u001b[39m# Make sure that we get a last message telling us we are done\u001b[39;00m\n\u001b[1;32m   1058\u001b[0m elapsed_time \u001b[39m=\u001b[39m time\u001b[39m.\u001b[39mtime() \u001b[39m-\u001b[39m \u001b[39mself\u001b[39m\u001b[39m.\u001b[39m_start_time\n",
      "File \u001b[0;32m~/miniconda3/envs/automl/lib/python3.8/site-packages/joblib/parallel.py:935\u001b[0m, in \u001b[0;36mParallel.retrieve\u001b[0;34m(self)\u001b[0m\n\u001b[1;32m    933\u001b[0m \u001b[39mtry\u001b[39;00m:\n\u001b[1;32m    934\u001b[0m     \u001b[39mif\u001b[39;00m \u001b[39mgetattr\u001b[39m(\u001b[39mself\u001b[39m\u001b[39m.\u001b[39m_backend, \u001b[39m'\u001b[39m\u001b[39msupports_timeout\u001b[39m\u001b[39m'\u001b[39m, \u001b[39mFalse\u001b[39;00m):\n\u001b[0;32m--> 935\u001b[0m         \u001b[39mself\u001b[39m\u001b[39m.\u001b[39m_output\u001b[39m.\u001b[39mextend(job\u001b[39m.\u001b[39;49mget(timeout\u001b[39m=\u001b[39;49m\u001b[39mself\u001b[39;49m\u001b[39m.\u001b[39;49mtimeout))\n\u001b[1;32m    936\u001b[0m     \u001b[39melse\u001b[39;00m:\n\u001b[1;32m    937\u001b[0m         \u001b[39mself\u001b[39m\u001b[39m.\u001b[39m_output\u001b[39m.\u001b[39mextend(job\u001b[39m.\u001b[39mget())\n",
      "File \u001b[0;32m~/miniconda3/envs/automl/lib/python3.8/concurrent/futures/_base.py:444\u001b[0m, in \u001b[0;36mFuture.result\u001b[0;34m(self, timeout)\u001b[0m\n\u001b[1;32m    442\u001b[0m     \u001b[39mraise\u001b[39;00m CancelledError()\n\u001b[1;32m    443\u001b[0m \u001b[39melif\u001b[39;00m \u001b[39mself\u001b[39m\u001b[39m.\u001b[39m_state \u001b[39m==\u001b[39m FINISHED:\n\u001b[0;32m--> 444\u001b[0m     \u001b[39mreturn\u001b[39;00m \u001b[39mself\u001b[39;49m\u001b[39m.\u001b[39;49m__get_result()\n\u001b[1;32m    445\u001b[0m \u001b[39melse\u001b[39;00m:\n\u001b[1;32m    446\u001b[0m     \u001b[39mraise\u001b[39;00m \u001b[39mTimeoutError\u001b[39;00m()\n",
      "File \u001b[0;32m~/miniconda3/envs/automl/lib/python3.8/concurrent/futures/_base.py:389\u001b[0m, in \u001b[0;36mFuture.__get_result\u001b[0;34m(self)\u001b[0m\n\u001b[1;32m    387\u001b[0m \u001b[39mif\u001b[39;00m \u001b[39mself\u001b[39m\u001b[39m.\u001b[39m_exception:\n\u001b[1;32m    388\u001b[0m     \u001b[39mtry\u001b[39;00m:\n\u001b[0;32m--> 389\u001b[0m         \u001b[39mraise\u001b[39;00m \u001b[39mself\u001b[39m\u001b[39m.\u001b[39m_exception\n\u001b[1;32m    390\u001b[0m     \u001b[39mfinally\u001b[39;00m:\n\u001b[1;32m    391\u001b[0m         \u001b[39m# Break a reference cycle with the exception in self._exception\u001b[39;00m\n\u001b[1;32m    392\u001b[0m         \u001b[39mself\u001b[39m \u001b[39m=\u001b[39m \u001b[39mNone\u001b[39;00m\n",
      "File \u001b[0;32m~/miniconda3/envs/automl/lib/python3.8/site-packages/distributed/worker.py:2908\u001b[0m, in \u001b[0;36mapply_function_simple\u001b[0;34m()\u001b[0m\n\u001b[1;32m   2906\u001b[0m start \u001b[39m=\u001b[39m time()\n\u001b[1;32m   2907\u001b[0m \u001b[39mtry\u001b[39;00m:\n\u001b[0;32m-> 2908\u001b[0m     result \u001b[39m=\u001b[39m function(\u001b[39m*\u001b[39margs, \u001b[39m*\u001b[39m\u001b[39m*\u001b[39mkwargs)\n\u001b[1;32m   2909\u001b[0m \u001b[39mexcept\u001b[39;00m \u001b[39mException\u001b[39;00m \u001b[39mas\u001b[39;00m e:\n\u001b[1;32m   2910\u001b[0m     msg \u001b[39m=\u001b[39m error_message(e)\n",
      "File \u001b[0;32m~/miniconda3/envs/automl/lib/python3.8/site-packages/distributed/worker.py:2780\u001b[0m, in \u001b[0;36mexecute_task\u001b[0;34m()\u001b[0m\n\u001b[1;32m   2778\u001b[0m \u001b[39mif\u001b[39;00m istask(task):\n\u001b[1;32m   2779\u001b[0m     func, args \u001b[39m=\u001b[39m task[\u001b[39m0\u001b[39m], task[\u001b[39m1\u001b[39m:]\n\u001b[0;32m-> 2780\u001b[0m     \u001b[39mreturn\u001b[39;00m func(\u001b[39m*\u001b[39m\u001b[39mmap\u001b[39m(execute_task, args))\n\u001b[1;32m   2781\u001b[0m \u001b[39melif\u001b[39;00m \u001b[39misinstance\u001b[39m(task, \u001b[39mlist\u001b[39m):\n\u001b[1;32m   2782\u001b[0m     \u001b[39mreturn\u001b[39;00m \u001b[39mlist\u001b[39m(\u001b[39mmap\u001b[39m(execute_task, task))\n",
      "File \u001b[0;32m~/miniconda3/envs/automl/lib/python3.8/site-packages/dask/utils.py:71\u001b[0m, in \u001b[0;36mapply\u001b[0;34m()\u001b[0m\n\u001b[1;32m     40\u001b[0m \u001b[39m\"\"\"Apply a function given its positional and keyword arguments.\u001b[39;00m\n\u001b[1;32m     41\u001b[0m \n\u001b[1;32m     42\u001b[0m \u001b[39mEquivalent to ``func(*args, **kwargs)``\u001b[39;00m\n\u001b[0;32m   (...)\u001b[0m\n\u001b[1;32m     68\u001b[0m \u001b[39m>>> dsk = {'task-name': task}  # adds the task to a low level Dask task graph\u001b[39;00m\n\u001b[1;32m     69\u001b[0m \u001b[39m\"\"\"\u001b[39;00m\n\u001b[1;32m     70\u001b[0m \u001b[39mif\u001b[39;00m kwargs:\n\u001b[0;32m---> 71\u001b[0m     \u001b[39mreturn\u001b[39;00m func(\u001b[39m*\u001b[39margs, \u001b[39m*\u001b[39m\u001b[39m*\u001b[39mkwargs)\n\u001b[1;32m     72\u001b[0m \u001b[39melse\u001b[39;00m:\n\u001b[1;32m     73\u001b[0m     \u001b[39mreturn\u001b[39;00m func(\u001b[39m*\u001b[39margs)\n",
      "File \u001b[0;32m~/miniconda3/envs/automl/lib/python3.8/site-packages/joblib/_dask.py:124\u001b[0m, in \u001b[0;36m__call__\u001b[0;34m()\u001b[0m\n\u001b[1;32m    122\u001b[0m \u001b[39mwith\u001b[39;00m parallel_backend(\u001b[39m'\u001b[39m\u001b[39mdask\u001b[39m\u001b[39m'\u001b[39m):\n\u001b[1;32m    123\u001b[0m     \u001b[39mfor\u001b[39;00m func, args, kwargs \u001b[39min\u001b[39;00m tasks:\n\u001b[0;32m--> 124\u001b[0m         results\u001b[39m.\u001b[39mappend(func(\u001b[39m*\u001b[39margs, \u001b[39m*\u001b[39m\u001b[39m*\u001b[39mkwargs))\n\u001b[1;32m    125\u001b[0m \u001b[39mreturn\u001b[39;00m results\n",
      "File \u001b[0;32m~/miniconda3/envs/automl/lib/python3.8/site-packages/optuna/_optimize.py:156\u001b[0m, in \u001b[0;36m_optimize_sequential\u001b[0;34m()\u001b[0m\n\u001b[1;32m    153\u001b[0m         \u001b[39mbreak\u001b[39;00m\n\u001b[1;32m    155\u001b[0m \u001b[39mtry\u001b[39;00m:\n\u001b[0;32m--> 156\u001b[0m     trial \u001b[39m=\u001b[39m _run_trial(study, func, catch)\n\u001b[1;32m    157\u001b[0m \u001b[39mexcept\u001b[39;00m \u001b[39mException\u001b[39;00m:\n\u001b[1;32m    158\u001b[0m     \u001b[39mraise\u001b[39;00m\n",
      "File \u001b[0;32m~/miniconda3/envs/automl/lib/python3.8/site-packages/optuna/_optimize.py:189\u001b[0m, in \u001b[0;36m_run_trial\u001b[0;34m()\u001b[0m\n\u001b[1;32m    186\u001b[0m trial_number \u001b[39m=\u001b[39m trial\u001b[39m.\u001b[39mnumber\n\u001b[1;32m    188\u001b[0m \u001b[39mtry\u001b[39;00m:\n\u001b[0;32m--> 189\u001b[0m     value \u001b[39m=\u001b[39m func(trial)\n\u001b[1;32m    190\u001b[0m \u001b[39mexcept\u001b[39;00m exceptions\u001b[39m.\u001b[39mTrialPruned \u001b[39mas\u001b[39;00m e:\n\u001b[1;32m    191\u001b[0m     \u001b[39m# Register the last intermediate value if present as the value of the trial.\u001b[39;00m\n\u001b[1;32m    192\u001b[0m     \u001b[39m# TODO(hvy): Whether a pruned trials should have an actual value can be discussed.\u001b[39;00m\n\u001b[1;32m    193\u001b[0m     frozen_trial \u001b[39m=\u001b[39m study\u001b[39m.\u001b[39m_storage\u001b[39m.\u001b[39mget_trial(trial_id)\n",
      "File \u001b[0;32m/mnt/c/Users/rwmas/GitHub/auto-learn/notebooks/../ml/models/base/slug_svm.py:124\u001b[0m, in \u001b[0;36mdiscover_model.<locals>.<lambda>\u001b[0;34m()\u001b[0m\n\u001b[1;32m    121\u001b[0m study \u001b[39m=\u001b[39m optuna\u001b[39m.\u001b[39mcreate_study(storage\u001b[39m=\u001b[39mstorage, direction\u001b[39m=\u001b[39m\u001b[39m\"\u001b[39m\u001b[39mminimize\u001b[39m\u001b[39m\"\u001b[39m, sampler\u001b[39m=\u001b[39moptuna\u001b[39m.\u001b[39msamplers\u001b[39m.\u001b[39mTPESampler(), pruner\u001b[39m=\u001b[39moptuna\u001b[39m.\u001b[39mpruners\u001b[39m.\u001b[39mMedianPruner())\n\u001b[1;32m    123\u001b[0m \u001b[39m# Wrap the objective inside a lambda and call objective inside it\u001b[39;00m\n\u001b[0;32m--> 124\u001b[0m func \u001b[39m=\u001b[39m \u001b[39mlambda\u001b[39;00m trial: objective(trial, df_X, df_y)\n\u001b[1;32m    127\u001b[0m \u001b[39mwith\u001b[39;00m joblib\u001b[39m.\u001b[39mparallel_backend(\u001b[39m\"\u001b[39m\u001b[39mdask\u001b[39m\u001b[39m\"\u001b[39m):\n\u001b[1;32m    128\u001b[0m     study\u001b[39m.\u001b[39moptimize(func, n_trials\u001b[39m=\u001b[39mParams\u001b[39m.\u001b[39mn_trails, n_jobs\u001b[39m=\u001b[39m\u001b[39m-\u001b[39m\u001b[39m1\u001b[39m)\n",
      "File \u001b[0;32m/mnt/c/Users/rwmas/GitHub/auto-learn/notebooks/../ml/models/base/slug_svm.py:79\u001b[0m, in \u001b[0;36mobjective\u001b[0;34m()\u001b[0m\n\u001b[1;32m     75\u001b[0m kf \u001b[39m=\u001b[39m KFold(n_splits\u001b[39m=\u001b[39mParams\u001b[39m.\u001b[39mcv_splits)\n\u001b[1;32m     77\u001b[0m err_test_list \u001b[39m=\u001b[39m []\n\u001b[0;32m---> 79\u001b[0m \u001b[39mfor\u001b[39;00m train_index, test_index \u001b[39min\u001b[39;00m kf\u001b[39m.\u001b[39msplit(df_X, df_y):\n\u001b[1;32m     80\u001b[0m     X_train, X_test \u001b[39m=\u001b[39m df_X\u001b[39m.\u001b[39miloc[train_index], df_X\u001b[39m.\u001b[39miloc[test_index]\n\u001b[1;32m     81\u001b[0m     y_train, y_test \u001b[39m=\u001b[39m df_y\u001b[39m.\u001b[39miloc[train_index], df_y\u001b[39m.\u001b[39miloc[test_index]\n",
      "File \u001b[0;32m~/miniconda3/envs/automl/lib/python3.8/site-packages/pandas/core/indexing.py:967\u001b[0m, in \u001b[0;36m__getitem__\u001b[0;34m()\u001b[0m\n\u001b[1;32m    964\u001b[0m axis \u001b[39m=\u001b[39m \u001b[39mself\u001b[39m\u001b[39m.\u001b[39maxis \u001b[39mor\u001b[39;00m \u001b[39m0\u001b[39m\n\u001b[1;32m    966\u001b[0m maybe_callable \u001b[39m=\u001b[39m com\u001b[39m.\u001b[39mapply_if_callable(key, \u001b[39mself\u001b[39m\u001b[39m.\u001b[39mobj)\n\u001b[0;32m--> 967\u001b[0m \u001b[39mreturn\u001b[39;00m \u001b[39mself\u001b[39m\u001b[39m.\u001b[39m_getitem_axis(maybe_callable, axis\u001b[39m=\u001b[39maxis)\n",
      "File \u001b[0;32m~/miniconda3/envs/automl/lib/python3.8/site-packages/pandas/core/indexing.py:1191\u001b[0m, in \u001b[0;36m_getitem_axis\u001b[0;34m()\u001b[0m\n\u001b[1;32m   1188\u001b[0m     \u001b[39mif\u001b[39;00m \u001b[39mhasattr\u001b[39m(key, \u001b[39m\"\u001b[39m\u001b[39mndim\u001b[39m\u001b[39m\"\u001b[39m) \u001b[39mand\u001b[39;00m key\u001b[39m.\u001b[39mndim \u001b[39m>\u001b[39m \u001b[39m1\u001b[39m:\n\u001b[1;32m   1189\u001b[0m         \u001b[39mraise\u001b[39;00m \u001b[39mValueError\u001b[39;00m(\u001b[39m\"\u001b[39m\u001b[39mCannot index with multidimensional key\u001b[39m\u001b[39m\"\u001b[39m)\n\u001b[0;32m-> 1191\u001b[0m     \u001b[39mreturn\u001b[39;00m \u001b[39mself\u001b[39m\u001b[39m.\u001b[39m_getitem_iterable(key, axis\u001b[39m=\u001b[39maxis)\n\u001b[1;32m   1193\u001b[0m \u001b[39m# nested tuple slicing\u001b[39;00m\n\u001b[1;32m   1194\u001b[0m \u001b[39mif\u001b[39;00m is_nested_tuple(key, labels):\n",
      "File \u001b[0;32m~/miniconda3/envs/automl/lib/python3.8/site-packages/pandas/core/indexing.py:1132\u001b[0m, in \u001b[0;36m_getitem_iterable\u001b[0;34m()\u001b[0m\n\u001b[1;32m   1129\u001b[0m \u001b[39mself\u001b[39m\u001b[39m.\u001b[39m_validate_key(key, axis)\n\u001b[1;32m   1131\u001b[0m \u001b[39m# A collection of keys\u001b[39;00m\n\u001b[0;32m-> 1132\u001b[0m keyarr, indexer \u001b[39m=\u001b[39m \u001b[39mself\u001b[39m\u001b[39m.\u001b[39m_get_listlike_indexer(key, axis)\n\u001b[1;32m   1133\u001b[0m \u001b[39mreturn\u001b[39;00m \u001b[39mself\u001b[39m\u001b[39m.\u001b[39mobj\u001b[39m.\u001b[39m_reindex_with_indexers(\n\u001b[1;32m   1134\u001b[0m     {axis: [keyarr, indexer]}, copy\u001b[39m=\u001b[39m\u001b[39mTrue\u001b[39;00m, allow_dups\u001b[39m=\u001b[39m\u001b[39mTrue\u001b[39;00m\n\u001b[1;32m   1135\u001b[0m )\n",
      "File \u001b[0;32m~/miniconda3/envs/automl/lib/python3.8/site-packages/pandas/core/indexing.py:1327\u001b[0m, in \u001b[0;36m_get_listlike_indexer\u001b[0;34m()\u001b[0m\n\u001b[1;32m   1324\u001b[0m ax \u001b[39m=\u001b[39m \u001b[39mself\u001b[39m\u001b[39m.\u001b[39mobj\u001b[39m.\u001b[39m_get_axis(axis)\n\u001b[1;32m   1325\u001b[0m axis_name \u001b[39m=\u001b[39m \u001b[39mself\u001b[39m\u001b[39m.\u001b[39mobj\u001b[39m.\u001b[39m_get_axis_name(axis)\n\u001b[0;32m-> 1327\u001b[0m keyarr, indexer \u001b[39m=\u001b[39m ax\u001b[39m.\u001b[39m_get_indexer_strict(key, axis_name)\n\u001b[1;32m   1329\u001b[0m \u001b[39mreturn\u001b[39;00m keyarr, indexer\n",
      "File \u001b[0;32m~/miniconda3/envs/automl/lib/python3.8/site-packages/pandas/core/indexes/base.py:5782\u001b[0m, in \u001b[0;36m_get_indexer_strict\u001b[0;34m()\u001b[0m\n\u001b[1;32m   5779\u001b[0m \u001b[39melse\u001b[39;00m:\n\u001b[1;32m   5780\u001b[0m     keyarr, indexer, new_indexer \u001b[39m=\u001b[39m \u001b[39mself\u001b[39m\u001b[39m.\u001b[39m_reindex_non_unique(keyarr)\n\u001b[0;32m-> 5782\u001b[0m \u001b[39mself\u001b[39m\u001b[39m.\u001b[39m_raise_if_missing(keyarr, indexer, axis_name)\n\u001b[1;32m   5784\u001b[0m keyarr \u001b[39m=\u001b[39m \u001b[39mself\u001b[39m\u001b[39m.\u001b[39mtake(indexer)\n\u001b[1;32m   5785\u001b[0m \u001b[39mif\u001b[39;00m \u001b[39misinstance\u001b[39m(key, Index):\n\u001b[1;32m   5786\u001b[0m     \u001b[39m# GH 42790 - Preserve name from an Index\u001b[39;00m\n",
      "File \u001b[0;32m~/miniconda3/envs/automl/lib/python3.8/site-packages/pandas/core/indexes/base.py:5845\u001b[0m, in \u001b[0;36m_raise_if_missing\u001b[0;34m()\u001b[0m\n\u001b[1;32m   5842\u001b[0m     \u001b[39mraise\u001b[39;00m \u001b[39mKeyError\u001b[39;00m(\u001b[39mf\u001b[39m\u001b[39m\"\u001b[39m\u001b[39mNone of [\u001b[39m\u001b[39m{\u001b[39;00mkey\u001b[39m}\u001b[39;00m\u001b[39m] are in the [\u001b[39m\u001b[39m{\u001b[39;00maxis_name\u001b[39m}\u001b[39;00m\u001b[39m]\u001b[39m\u001b[39m\"\u001b[39m)\n\u001b[1;32m   5844\u001b[0m not_found \u001b[39m=\u001b[39m \u001b[39mlist\u001b[39m(ensure_index(key)[missing_mask\u001b[39m.\u001b[39mnonzero()[\u001b[39m0\u001b[39m]]\u001b[39m.\u001b[39munique())\n\u001b[0;32m-> 5845\u001b[0m \u001b[39mraise\u001b[39;00m \u001b[39mKeyError\u001b[39;00m(\u001b[39mf\u001b[39m\u001b[39m\"\u001b[39m\u001b[39m{\u001b[39;00mnot_found\u001b[39m}\u001b[39;00m\u001b[39m not in index\u001b[39m\u001b[39m\"\u001b[39m)\n",
      "\u001b[0;31mKeyError\u001b[0m: '[23, 25, 27, 28, 29, 31, 32, 34, 35, 36, 38, 39, 41, 42, 43, 46, 47, 48, 49, 50, 52, 53, 57, 58, 59, 62] not in index'"
     ]
    }
   ],
   "source": [
    "slug_svm.fetch_model(df_good_pred, y_test)"
   ]
  },
  {
   "cell_type": "code",
   "execution_count": 52,
   "metadata": {},
   "outputs": [
    {
     "data": {
      "text/plain": [
       "array([ 1,  2,  3,  4,  5,  6,  7,  8,  9, 10, 11, 12, 13, 14, 15, 16, 17,\n",
       "       18, 19, 20, 21])"
      ]
     },
     "execution_count": 52,
     "metadata": {},
     "output_type": "execute_result"
    }
   ],
   "source": [
    "comb_lens = np.arange(1, len(best_models))\n",
    "comb_lens"
   ]
  },
  {
   "cell_type": "code",
   "execution_count": null,
   "metadata": {},
   "outputs": [],
   "source": [
    "            res = dask.delayed(simmulate)(param, i)\n",
    "            lazy_results.append(res)\n",
    "\n",
    "results = dask.compute(*lazy_results, scheduler='distributed')\n"
   ]
  },
  {
   "cell_type": "code",
   "execution_count": 61,
   "metadata": {},
   "outputs": [],
   "source": [
    "def calc_model_performance(model, X_test_tensor, dtest ):\n",
    "    print('j')\n",
    "    if nn.Sequential == type(model):\n",
    "        pred = model(X_test_tensor)\n",
    "        pred = helper.torch_tensor_to_numpy(pred)\n",
    "        pred = pred.reshape(pred.shape[0],)\n",
    "        \n",
    "    elif xgb.core.Booster == type(model):\n",
    "        pred = model.predict(dtest)\n",
    "\n",
    "    return pred\n",
    "    \n",
    "\n"
   ]
  },
  {
   "cell_type": "code",
   "execution_count": 63,
   "metadata": {},
   "outputs": [
    {
     "ename": "KeyboardInterrupt",
     "evalue": "",
     "output_type": "error",
     "traceback": [
      "\u001b[0;31m---------------------------------------------------------------------------\u001b[0m",
      "\u001b[0;31mKeyboardInterrupt\u001b[0m                         Traceback (most recent call last)",
      "\u001b[1;32m/mnt/c/Users/rwmas/GitHub/auto-learn/notebooks/ensemble.ipynb Cell 21\u001b[0m in \u001b[0;36m<cell line: 3>\u001b[0;34m()\u001b[0m\n\u001b[1;32m     <a href='vscode-notebook-cell://wsl%2Bubuntu/mnt/c/Users/rwmas/GitHub/auto-learn/notebooks/ensemble.ipynb#X54sdnNjb2RlLXJlbW90ZQ%3D%3D?line=18'>19</a>\u001b[0m     pred \u001b[39m=\u001b[39m pred\u001b[39m.\u001b[39mreshape(pred\u001b[39m.\u001b[39mshape[\u001b[39m0\u001b[39m],)\n\u001b[1;32m     <a href='vscode-notebook-cell://wsl%2Bubuntu/mnt/c/Users/rwmas/GitHub/auto-learn/notebooks/ensemble.ipynb#X54sdnNjb2RlLXJlbW90ZQ%3D%3D?line=20'>21</a>\u001b[0m \u001b[39melif\u001b[39;00m xgb\u001b[39m.\u001b[39mcore\u001b[39m.\u001b[39mBooster \u001b[39m==\u001b[39m \u001b[39mtype\u001b[39m(model):\n\u001b[0;32m---> <a href='vscode-notebook-cell://wsl%2Bubuntu/mnt/c/Users/rwmas/GitHub/auto-learn/notebooks/ensemble.ipynb#X54sdnNjb2RlLXJlbW90ZQ%3D%3D?line=21'>22</a>\u001b[0m     pred \u001b[39m=\u001b[39m model\u001b[39m.\u001b[39;49mpredict(dtest)\n\u001b[1;32m     <a href='vscode-notebook-cell://wsl%2Bubuntu/mnt/c/Users/rwmas/GitHub/auto-learn/notebooks/ensemble.ipynb#X54sdnNjb2RlLXJlbW90ZQ%3D%3D?line=24'>25</a>\u001b[0m \u001b[39m# pred_test = model.predict(dtest)\u001b[39;00m\n\u001b[1;32m     <a href='vscode-notebook-cell://wsl%2Bubuntu/mnt/c/Users/rwmas/GitHub/auto-learn/notebooks/ensemble.ipynb#X54sdnNjb2RlLXJlbW90ZQ%3D%3D?line=25'>26</a>\u001b[0m comb_preds\u001b[39m.\u001b[39mappend(pred)\n",
      "File \u001b[0;32m~/miniconda3/envs/automl/lib/python3.8/site-packages/xgboost/core.py:1288\u001b[0m, in \u001b[0;36mBooster.predict\u001b[0;34m(self, data, output_margin, ntree_limit, pred_leaf, pred_contribs, approx_contribs, pred_interactions, validate_features)\u001b[0m\n\u001b[1;32m   1286\u001b[0m length \u001b[39m=\u001b[39m c_bst_ulong()\n\u001b[1;32m   1287\u001b[0m preds \u001b[39m=\u001b[39m ctypes\u001b[39m.\u001b[39mPOINTER(ctypes\u001b[39m.\u001b[39mc_float)()\n\u001b[0;32m-> 1288\u001b[0m _check_call(_LIB\u001b[39m.\u001b[39;49mXGBoosterPredict(\u001b[39mself\u001b[39;49m\u001b[39m.\u001b[39;49mhandle, data\u001b[39m.\u001b[39;49mhandle,\n\u001b[1;32m   1289\u001b[0m                                   ctypes\u001b[39m.\u001b[39;49mc_int(option_mask),\n\u001b[1;32m   1290\u001b[0m                                   ctypes\u001b[39m.\u001b[39;49mc_uint(ntree_limit),\n\u001b[1;32m   1291\u001b[0m                                   ctypes\u001b[39m.\u001b[39;49mbyref(length),\n\u001b[1;32m   1292\u001b[0m                                   ctypes\u001b[39m.\u001b[39;49mbyref(preds)))\n\u001b[1;32m   1293\u001b[0m preds \u001b[39m=\u001b[39m ctypes2numpy(preds, length\u001b[39m.\u001b[39mvalue, np\u001b[39m.\u001b[39mfloat32)\n\u001b[1;32m   1294\u001b[0m \u001b[39mif\u001b[39;00m pred_leaf:\n",
      "\u001b[0;31mKeyboardInterrupt\u001b[0m: "
     ]
    }
   ],
   "source": [
    "\n",
    "comb_results = []\n",
    "\n",
    "for comb_len in comb_lens:\n",
    "    comb_models = combinations(best_models, comb_len)\n",
    "\n",
    "    for i in list(comb_models):\n",
    "\n",
    "        #print(i)\n",
    "        # print(i[0])\n",
    "\n",
    "        adj_r2_list = []\n",
    "        comb_preds = []\n",
    "\n",
    "        for model in i:\n",
    "\n",
    "            if nn.Sequential == type(model):\n",
    "                pred = model(X_test_tensor)\n",
    "                pred = helper.torch_tensor_to_numpy(pred)\n",
    "                pred = pred.reshape(pred.shape[0],)\n",
    "                \n",
    "            elif xgb.core.Booster == type(model):\n",
    "                pred = model.predict(dtest)\n",
    "\n",
    "\n",
    "            # pred_test = model.predict(dtest)\n",
    "            comb_preds.append(pred)\n",
    "\n",
    "        df_temp = pd.DataFrame(comb_preds)\n",
    "        pred_mean = df_temp.mean()\n",
    "\n",
    "        metirc_scores = []\n",
    "        for metric in eval_metrics:\n",
    "            metirc_score = metric(pred_mean, y_test)\n",
    "            metirc_scores.append(metirc_score)\n",
    "\n",
    "        # r2_mean = r2_score(pred_mean, y_test)\n",
    "        # pred_mse = mean_squared_error(pred_mean, y_test)\n",
    "        # mean_adj_r2 = np.mean(adj_r2_list)\n",
    "        # comb_results.append([i, pred_mse, r2_mean])\n",
    "        # print(metirc_scores)\n",
    "        #metirc_scores = metirc_scores[0]\n",
    "        comb_results.append([i, metirc_scores])\n",
    "        # comb_results.extend([metirc_scores])\n",
    "        #print()\n",
    "        \n",
    "\n"
   ]
  },
  {
   "cell_type": "code",
   "execution_count": null,
   "metadata": {},
   "outputs": [],
   "source": [
    "from operator import itemgetter\n",
    "best_adj_r2 = min(comb_results, key=itemgetter(1))\n",
    "best_adj_r2_index = comb_results.index(best_adj_r2)\n",
    "best_models = comb_results[1][best_adj_r2_index]"
   ]
  },
  {
   "cell_type": "code",
   "execution_count": 11,
   "metadata": {},
   "outputs": [
    {
     "data": {
      "text/plain": [
       "array([1, 2, 3, 4, 5, 6, 7, 8])"
      ]
     },
     "execution_count": 11,
     "metadata": {},
     "output_type": "execute_result"
    }
   ],
   "source": [
    "comb_lens = np.arange(1, len(best_models))\n",
    "comb_lens"
   ]
  },
  {
   "cell_type": "code",
   "execution_count": 12,
   "metadata": {},
   "outputs": [],
   "source": [
    "\n",
    "comb_results = []"
   ]
  },
  {
   "cell_type": "code",
   "execution_count": 44,
   "metadata": {},
   "outputs": [],
   "source": [
    "temp = []\n",
    "\n",
    "pred = nn_model(X_test_tensor)\n",
    "pred = helper.torch_tensor_to_numpy(pred)\n",
    "\n",
    "pred = pred.reshape(pred.shape[0],)\n",
    "temp.append(pred)\n",
    "temp.append(pred)"
   ]
  },
  {
   "cell_type": "code",
   "execution_count": 45,
   "metadata": {},
   "outputs": [
    {
     "data": {
      "text/plain": [
       "array([ 833.4447  ,  278.66904 , 1630.7098  ,   56.1162  ,   51.830235,\n",
       "         59.075565,   50.701183, 1032.8434  ,  980.1556  , 3420.1572  ,\n",
       "        521.8256  ,  104.44682 ,  808.9032  ,  112.24868 ,  102.65138 ,\n",
       "        108.791885, 1385.2935  , 1718.0125  , 1182.4812  , 1588.2902  ,\n",
       "        767.52106 , 3210.3022  , 2083.584   , 1940.5717  ,  597.9002  ,\n",
       "       2910.2317  , 2935.9883  , 2093.4048  ,   54.425945,   57.13496 ,\n",
       "        102.69351 ,   56.842503,  872.63727 ,  431.98892 , 1684.185   ,\n",
       "       3147.288   ,  591.23773 ,  364.73972 , 3223.7043  ,  784.0751  ,\n",
       "       2034.9476  ,  283.62207 ,  770.0699  ,  267.5037  , 2226.8862  ,\n",
       "       2146.7812  ,  823.43176 ,   57.449554, 1428.9481  ,  102.53839 ,\n",
       "        101.95662 ,   50.82813 ,  600.75116 ,  263.68716 , 2450.3208  ,\n",
       "        103.04074 ,   95.13579 , 1371.4115  , 1960.1312  ,  693.62286 ,\n",
       "        502.6815  ,  745.9508  ,  847.6993  , 3169.7854  ], dtype=float32)"
      ]
     },
     "execution_count": 45,
     "metadata": {},
     "output_type": "execute_result"
    }
   ],
   "source": [
    "pred.reshape(pred.shape[0],)"
   ]
  },
  {
   "cell_type": "code",
   "execution_count": 46,
   "metadata": {},
   "outputs": [],
   "source": [
    "import pandas as pd\n",
    "df_temp = pd.DataFrame(temp)"
   ]
  },
  {
   "cell_type": "code",
   "execution_count": 52,
   "metadata": {},
   "outputs": [],
   "source": [
    "pred_mean = df_temp.mean()"
   ]
  },
  {
   "cell_type": "code",
   "execution_count": 54,
   "metadata": {},
   "outputs": [
    {
     "data": {
      "text/plain": [
       "1012302.3437202917"
      ]
     },
     "execution_count": 54,
     "metadata": {},
     "output_type": "execute_result"
    }
   ],
   "source": [
    "mean_squared_error(pred, y_test)"
   ]
  },
  {
   "cell_type": "code",
   "execution_count": 66,
   "metadata": {},
   "outputs": [],
   "source": [
    "import pandas as pd\n",
    "\n",
    "comb_results = []\n",
    "\n",
    "for comb_len in comb_lens:\n",
    "    comb_models = combinations(best_models, comb_len)\n",
    "\n",
    "    for i in list(comb_models):\n",
    "        adj_r2_list = []\n",
    "        comb_preds = []\n",
    "\n",
    "        for model in i:\n",
    "            pred = model(X_test_tensor)\n",
    "            pred = helper.torch_tensor_to_numpy(pred)\n",
    "            pred = pred.reshape(pred.shape[0],)\n",
    "\n",
    "\n",
    "#            r2_test = r2_score(helper.torch_tensor_to_numpy(pred), y_test)\n",
    "#            adj_r2_test = helper.adjusted_r2(r2_test, X_test.shape[0], X_test.shape[1])\n",
    "#            adj_r2_list.append(adj_r2_test)\n",
    "            #print(adj_r2_test)\n",
    "            comb_preds.append(pred)\n",
    "\n",
    "        df_temp = pd.DataFrame(comb_preds)\n",
    "        pred_mean = df_temp.mean()\n",
    "        r2_mean = r2_score(pred_mean, y_test)\n",
    "        pred_mse = mean_squared_error(pred_mean, y_test)\n",
    "        # mean_adj_r2 = np.mean(adj_r2_list)\n",
    "        comb_results.append([i, pred_mse, r2_mean])\n",
    "        #print()\n",
    "\n"
   ]
  },
  {
   "cell_type": "code",
   "execution_count": 68,
   "metadata": {},
   "outputs": [],
   "source": [
    "# comb_results"
   ]
  },
  {
   "cell_type": "code",
   "execution_count": 13,
   "metadata": {},
   "outputs": [],
   "source": [
    "\n",
    "for comb_len in comb_lens:\n",
    "    comb_models = combinations(best_models, comb_len)\n",
    "\n",
    "    for i in list(comb_models):\n",
    "        adj_r2_list = []\n",
    "        for model in i:\n",
    "            pred = model(X_test_tensor)\n",
    "            r2_test = r2_score(helper.torch_tensor_to_numpy(pred), y_test)\n",
    "            adj_r2_test = helper.adjusted_r2(r2_test, X_test.shape[0], X_test.shape[1])\n",
    "            adj_r2_list.append(adj_r2_test)\n",
    "            #print(adj_r2_test)\n",
    "        mean_adj_r2 = np.mean(adj_r2_list)\n",
    "        comb_results.append([i, mean_adj_r2])\n",
    "        #print()\n",
    "\n"
   ]
  },
  {
   "cell_type": "code",
   "execution_count": 14,
   "metadata": {},
   "outputs": [],
   "source": [
    "# comb_results"
   ]
  },
  {
   "cell_type": "code",
   "execution_count": 1,
   "metadata": {},
   "outputs": [
    {
     "ename": "NameError",
     "evalue": "name 'comb_results' is not defined",
     "output_type": "error",
     "traceback": [
      "\u001b[0;31m---------------------------------------------------------------------------\u001b[0m",
      "\u001b[0;31mNameError\u001b[0m                                 Traceback (most recent call last)",
      "\u001b[1;32m/mnt/c/Users/rwmas/GitHub/auto-learn/notebooks/ensemble.ipynb Cell 23\u001b[0m in \u001b[0;36m<cell line: 2>\u001b[0;34m()\u001b[0m\n\u001b[1;32m      <a href='vscode-notebook-cell://wsl%2Bubuntu/mnt/c/Users/rwmas/GitHub/auto-learn/notebooks/ensemble.ipynb#X31sdnNjb2RlLXJlbW90ZQ%3D%3D?line=0'>1</a>\u001b[0m \u001b[39mfrom\u001b[39;00m \u001b[39moperator\u001b[39;00m \u001b[39mimport\u001b[39;00m itemgetter\n\u001b[0;32m----> <a href='vscode-notebook-cell://wsl%2Bubuntu/mnt/c/Users/rwmas/GitHub/auto-learn/notebooks/ensemble.ipynb#X31sdnNjb2RlLXJlbW90ZQ%3D%3D?line=1'>2</a>\u001b[0m best_adj_r2 \u001b[39m=\u001b[39m \u001b[39mmin\u001b[39m(comb_results, key\u001b[39m=\u001b[39mitemgetter(\u001b[39m1\u001b[39m))\n\u001b[1;32m      <a href='vscode-notebook-cell://wsl%2Bubuntu/mnt/c/Users/rwmas/GitHub/auto-learn/notebooks/ensemble.ipynb#X31sdnNjb2RlLXJlbW90ZQ%3D%3D?line=2'>3</a>\u001b[0m best_adj_r2_index \u001b[39m=\u001b[39m comb_results\u001b[39m.\u001b[39mindex(best_adj_r2)\n\u001b[1;32m      <a href='vscode-notebook-cell://wsl%2Bubuntu/mnt/c/Users/rwmas/GitHub/auto-learn/notebooks/ensemble.ipynb#X31sdnNjb2RlLXJlbW90ZQ%3D%3D?line=3'>4</a>\u001b[0m best_models \u001b[39m=\u001b[39m comb_results[\u001b[39m1\u001b[39m][best_adj_r2_index]\n",
      "\u001b[0;31mNameError\u001b[0m: name 'comb_results' is not defined"
     ]
    }
   ],
   "source": [
    "from operator import itemgetter\n",
    "best_adj_r2 = min(comb_results, key=itemgetter(1))\n",
    "best_adj_r2_index = comb_results.index(best_adj_r2)\n",
    "best_models = comb_results[1][best_adj_r2_index]"
   ]
  },
  {
   "cell_type": "code",
   "execution_count": 76,
   "metadata": {},
   "outputs": [
    {
     "data": {
      "text/plain": [
       "(127,\n",
       " [(Sequential(\n",
       "     (0): Linear(in_features=40, out_features=49, bias=True)\n",
       "     (1): ReLU()\n",
       "     (2): Linear(in_features=49, out_features=112, bias=True)\n",
       "     (3): ReLU()\n",
       "     (4): Linear(in_features=112, out_features=251, bias=True)\n",
       "     (5): ReLU()\n",
       "     (6): Linear(in_features=251, out_features=206, bias=True)\n",
       "     (7): ReLU()\n",
       "     (8): Linear(in_features=206, out_features=232, bias=True)\n",
       "     (9): ReLU()\n",
       "     (10): Linear(in_features=232, out_features=73, bias=True)\n",
       "     (11): ReLU()\n",
       "     (12): Linear(in_features=73, out_features=1, bias=True)\n",
       "     (13): ReLU()\n",
       "   ),\n",
       "   Sequential(\n",
       "     (0): Linear(in_features=40, out_features=143, bias=True)\n",
       "     (1): ReLU()\n",
       "     (2): Linear(in_features=143, out_features=228, bias=True)\n",
       "     (3): ReLU()\n",
       "     (4): Linear(in_features=228, out_features=111, bias=True)\n",
       "     (5): ReLU()\n",
       "     (6): Linear(in_features=111, out_features=226, bias=True)\n",
       "     (7): ReLU()\n",
       "     (8): Linear(in_features=226, out_features=187, bias=True)\n",
       "     (9): ReLU()\n",
       "     (10): Linear(in_features=187, out_features=36, bias=True)\n",
       "     (11): ReLU()\n",
       "     (12): Linear(in_features=36, out_features=1, bias=True)\n",
       "     (13): ReLU()\n",
       "   ),\n",
       "   Sequential(\n",
       "     (0): Linear(in_features=40, out_features=17, bias=True)\n",
       "     (1): ReLU()\n",
       "     (2): Linear(in_features=17, out_features=105, bias=True)\n",
       "     (3): ReLU()\n",
       "     (4): Linear(in_features=105, out_features=91, bias=True)\n",
       "     (5): ReLU()\n",
       "     (6): Linear(in_features=91, out_features=29, bias=True)\n",
       "     (7): ReLU()\n",
       "     (8): Linear(in_features=29, out_features=169, bias=True)\n",
       "     (9): ReLU()\n",
       "     (10): Linear(in_features=169, out_features=150, bias=True)\n",
       "     (11): ReLU()\n",
       "     (12): Linear(in_features=150, out_features=237, bias=True)\n",
       "     (13): ReLU()\n",
       "     (14): Linear(in_features=237, out_features=1, bias=True)\n",
       "     (15): ReLU()\n",
       "   )),\n",
       "  877521.7042879794,\n",
       "  0.1232158241864032])"
      ]
     },
     "execution_count": 76,
     "metadata": {},
     "output_type": "execute_result"
    }
   ],
   "source": [
    "best_adj_r2_index, best_adj_r2"
   ]
  },
  {
   "cell_type": "code",
   "execution_count": 16,
   "metadata": {},
   "outputs": [
    {
     "data": {
      "text/plain": [
       "-2.186434306749301"
      ]
     },
     "execution_count": 16,
     "metadata": {},
     "output_type": "execute_result"
    }
   ],
   "source": [
    "best_models"
   ]
  },
  {
   "cell_type": "code",
   "execution_count": 17,
   "metadata": {},
   "outputs": [
    {
     "data": {
      "text/plain": [
       "[(Sequential(\n",
       "    (0): Linear(in_features=40, out_features=110, bias=True)\n",
       "    (1): ReLU()\n",
       "    (2): Linear(in_features=110, out_features=159, bias=True)\n",
       "    (3): ReLU()\n",
       "    (4): Linear(in_features=159, out_features=256, bias=True)\n",
       "    (5): ReLU()\n",
       "    (6): Linear(in_features=256, out_features=189, bias=True)\n",
       "    (7): ReLU()\n",
       "    (8): Linear(in_features=189, out_features=1, bias=True)\n",
       "    (9): ReLU()\n",
       "  ),),\n",
       " -25.070263556190763]"
      ]
     },
     "execution_count": 17,
     "metadata": {},
     "output_type": "execute_result"
    }
   ],
   "source": [
    "best_adj_r2"
   ]
  },
  {
   "cell_type": "code",
   "execution_count": 76,
   "metadata": {},
   "outputs": [],
   "source": [
    "# comb_models[best_adj_r2_index]\n"
   ]
  },
  {
   "cell_type": "code",
   "execution_count": 8,
   "metadata": {},
   "outputs": [
    {
     "data": {
      "text/plain": [
       "1318375.6572819052"
      ]
     },
     "execution_count": 8,
     "metadata": {},
     "output_type": "execute_result"
    }
   ],
   "source": [
    "pred_dnn = nn_model(X_test_tensor)\n",
    "mean_squared_error(helper.torch_tensor_to_numpy(pred_dnn), y_test)"
   ]
  },
  {
   "cell_type": "code",
   "execution_count": 9,
   "metadata": {},
   "outputs": [
    {
     "data": {
      "text/plain": [
       "-1.385444947728498"
      ]
     },
     "execution_count": 9,
     "metadata": {},
     "output_type": "execute_result"
    }
   ],
   "source": [
    "from sklearn.metrics import r2_score\n",
    "r2_score(helper.torch_tensor_to_numpy(pred_dnn), y_test)"
   ]
  },
  {
   "cell_type": "code",
   "execution_count": 8,
   "metadata": {},
   "outputs": [
    {
     "data": {
      "text/plain": [
       "(64, 40)"
      ]
     },
     "execution_count": 8,
     "metadata": {},
     "output_type": "execute_result"
    }
   ],
   "source": [
    "X_test.shape"
   ]
  },
  {
   "cell_type": "code",
   "execution_count": null,
   "metadata": {},
   "outputs": [],
   "source": []
  }
 ],
 "metadata": {
  "kernelspec": {
   "display_name": "Python 3 (ipykernel)",
   "language": "python",
   "name": "python3"
  },
  "language_info": {
   "codemirror_mode": {
    "name": "ipython",
    "version": 3
   },
   "file_extension": ".py",
   "mimetype": "text/x-python",
   "name": "python",
   "nbconvert_exporter": "python",
   "pygments_lexer": "ipython3",
   "version": "3.9.13"
  },
  "vscode": {
   "interpreter": {
    "hash": "6ceb9dcfe4855088cb408ca84060dddedae3a13bd9f61da61d02274285d7dc6d"
   }
  }
 },
 "nbformat": 4,
 "nbformat_minor": 4
}
