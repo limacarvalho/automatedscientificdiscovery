{
 "cells": [
  {
   "cell_type": "code",
   "execution_count": 1,
   "id": "085d62fd-57dc-4567-9085-d2665ac27b53",
   "metadata": {},
   "outputs": [],
   "source": [
    "import sys; sys.path.insert(0, '../..') # add parent folder path where lib folder is"
   ]
  },
  {
   "cell_type": "code",
   "execution_count": 2,
   "id": "316285f9-1822-44ce-9dea-057f52465954",
   "metadata": {},
   "outputs": [
    {
     "data": {
      "text/html": [
       "<style type='text/css'>\n",
       ".datatable table.frame { margin-bottom: 0; }\n",
       ".datatable table.frame thead { border-bottom: none; }\n",
       ".datatable table.frame tr.coltypes td {  color: #FFFFFF;  line-height: 6px;  padding: 0 0.5em;}\n",
       ".datatable .bool    { background: #DDDD99; }\n",
       ".datatable .object  { background: #565656; }\n",
       ".datatable .int     { background: #5D9E5D; }\n",
       ".datatable .float   { background: #4040CC; }\n",
       ".datatable .str     { background: #CC4040; }\n",
       ".datatable .time    { background: #40CC40; }\n",
       ".datatable .row_index {  background: var(--jp-border-color3);  border-right: 1px solid var(--jp-border-color0);  color: var(--jp-ui-font-color3);  font-size: 9px;}\n",
       ".datatable .frame tbody td { text-align: left; }\n",
       ".datatable .frame tr.coltypes .row_index {  background: var(--jp-border-color0);}\n",
       ".datatable th:nth-child(2) { padding-left: 12px; }\n",
       ".datatable .hellipsis {  color: var(--jp-cell-editor-border-color);}\n",
       ".datatable .vellipsis {  background: var(--jp-layout-color0);  color: var(--jp-cell-editor-border-color);}\n",
       ".datatable .na {  color: var(--jp-cell-editor-border-color);  font-size: 80%;}\n",
       ".datatable .sp {  opacity: 0.25;}\n",
       ".datatable .footer { font-size: 9px; }\n",
       ".datatable .frame_dimensions {  background: var(--jp-border-color3);  border-top: 1px solid var(--jp-border-color0);  color: var(--jp-ui-font-color3);  display: inline-block;  opacity: 0.6;  padding: 1px 10px 1px 5px;}\n",
       "</style>\n"
      ],
      "text/plain": [
       "<IPython.core.display.HTML object>"
      ]
     },
     "metadata": {},
     "output_type": "display_data"
    }
   ],
   "source": [
    "%load_ext autoreload\n",
    "%autoreload 2\n",
    "\n",
    "from utils import helper, config, rayer\n",
    "from ml.models.base.HyperOpt.brisk_bagging import BriskBagging\n",
    "\n",
    "from sklearn.preprocessing import StandardScaler\n",
    "from sklearn.model_selection import train_test_split\n",
    "\n",
    "from sklearn.metrics import r2_score, mean_squared_error\n",
    "from sklearn.metrics import f1_score, roc_auc_score, precision_score, recall_score\n",
    "from ml.models import common\n",
    "import ray\n",
    "import time\n",
    "import pandas as pd"
   ]
  },
  {
   "cell_type": "code",
   "execution_count": 3,
   "id": "5c463762-530c-4d04-9bb0-d0151ff8c6eb",
   "metadata": {},
   "outputs": [],
   "source": [
    "rayer.get_global_cluster(num_cpus=10)"
   ]
  },
  {
   "cell_type": "code",
   "execution_count": 4,
   "id": "cb54084e-3231-4754-8e3b-f15f7571247e",
   "metadata": {},
   "outputs": [
    {
     "name": "stdout",
     "output_type": "stream",
     "text": [
      "======== Autoscaler status: 2022-11-24 08:27:55.703459 ========\n",
      "Node status\n",
      "---------------------------------------------------------------\n",
      "Healthy:\n",
      " 1 head-group\n",
      " 3 small-group\n",
      "Pending:\n",
      " 10.10.86.102: small-group, waiting\n",
      " 10.10.96.177: small-group, waiting\n",
      "Recent failures:\n",
      " (no failures)\n",
      "\n",
      "Resources\n",
      "---------------------------------------------------------------\n",
      "Usage:\n",
      " 0.0/7.0 CPU\n",
      " 0.00/24.214 GiB memory\n",
      " 0.00/7.114 GiB object_store_memory\n",
      "\n",
      "Demands:\n",
      " {}: 1+ pending tasks/actors\n",
      " {'CPU': 1}: 10+ from request_resources()\n",
      "\u001b[0m"
     ]
    }
   ],
   "source": [
    "!ray status --address='raycluster-autoscaler-head-svc.dev.svc.cluster.local:6379'"
   ]
  },
  {
   "cell_type": "code",
   "execution_count": 5,
   "id": "d06d54bd-f787-4c53-9f8c-4f4503f89418",
   "metadata": {},
   "outputs": [],
   "source": [
    "X, y = helper.get_covid_dataset()\n",
    "X = X.drop(['location'], axis = 1)\n",
    "\n",
    "X_train, X_test, y_train, y_test = train_test_split(X, y, test_size=0.33)\n",
    "\n",
    "ss = StandardScaler()\n",
    "X_train_scalar = pd.DataFrame(ss.fit_transform(X_train), columns = X_train.columns)\n",
    "X_test_scalar = pd.DataFrame(ss.fit_transform(X_test), columns = X_test.columns)"
   ]
  },
  {
   "cell_type": "code",
   "execution_count": 6,
   "id": "c15ec617-1953-4657-8d92-948c552e8625",
   "metadata": {},
   "outputs": [],
   "source": [
    "X_train_id = ray.put(X_train)\n",
    "y_train_id = ray.put(y_train)\n",
    "X_test_id = ray.put(X_test)\n",
    "y_test_id = ray.put(y_test)"
   ]
  },
  {
   "cell_type": "code",
   "execution_count": 7,
   "id": "47162ce2-7384-49aa-a41c-e2a41f316b5d",
   "metadata": {},
   "outputs": [],
   "source": [
    "\n",
    "@ray.remote(num_returns=1)\n",
    "def worker(base_model, X_train, X_test, y_train, y_test):     \n",
    "    base_model.fetch_model(X_train, X_test, y_train, y_test)\n",
    "    return base_model\n"
   ]
  },
  {
   "cell_type": "code",
   "execution_count": 8,
   "id": "49dad496-e15e-487a-983d-d66b0fa20820",
   "metadata": {},
   "outputs": [],
   "source": [
    "brisk_bag_1 = BriskBagging('brisk_xgb1')\n",
    "brisk_bag_1.n_estimators = 100\n",
    "\n",
    "\n",
    "brisk_bag_2 = BriskBagging('brisk_xgb2')\n",
    "brisk_bag_2.n_estimators = 100\n",
    "\n",
    "list_models = [brisk_bag_1, brisk_bag_2]"
   ]
  },
  {
   "cell_type": "code",
   "execution_count": 9,
   "id": "cc402ee3-c45d-42f1-a594-1e77b258754b",
   "metadata": {},
   "outputs": [
    {
     "name": "stdout",
     "output_type": "stream",
     "text": [
      "80                                                     \n",
      "  0%|          | 0/100 [00:00<?, ?trial/s, best loss=?]\n"
     ]
    },
    {
     "name": "stderr",
     "output_type": "stream",
     "text": [
      "\u001b[2m\u001b[36m(worker pid=927)\u001b[0m 2022-11-24T06:28:04PST : INFO : brisk_bagging : __discover_model__ : 96 : Message : brisk_xgb1: Starting training for trials:300, n_estimators  100\n",
      "\u001b[2m\u001b[36m(worker pid=927)\u001b[0m 2022-11-24T06:28:04PST : INFO : tpe : suggest : 864 : Message : build_posterior_wrapper took 0.000438 seconds\n",
      "\u001b[2m\u001b[36m(worker pid=927)\u001b[0m 2022-11-24T06:28:04PST : INFO : tpe : suggest : 900 : Message : TPE using 0 trials\n"
     ]
    },
    {
     "name": "stdout",
     "output_type": "stream",
     "text": [
      "84                                                                              \n",
      "  1%|          | 1/100 [00:00<00:30,  3.27trial/s, best loss: 2008464.305749236]\n"
     ]
    },
    {
     "name": "stderr",
     "output_type": "stream",
     "text": [
      "\u001b[2m\u001b[36m(worker pid=927)\u001b[0m 2022-11-24T06:28:04PST : INFO : tpe : suggest : 864 : Message : build_posterior_wrapper took 0.000370 seconds\n",
      "\u001b[2m\u001b[36m(worker pid=927)\u001b[0m 2022-11-24T06:28:04PST : INFO : tpe : suggest : 900 : Message : TPE using 1/1 trials with best loss 2008464.305749\n"
     ]
    },
    {
     "name": "stdout",
     "output_type": "stream",
     "text": [
      "91                                                                               \n",
      "  2%|▏         | 2/100 [00:00<00:26,  3.67trial/s, best loss: 1975585.7808430146]\n",
      "75                                                                               \n",
      "  3%|▎         | 3/100 [00:00<00:25,  3.85trial/s, best loss: 1943688.722284866]\n"
     ]
    },
    {
     "name": "stderr",
     "output_type": "stream",
     "text": [
      "\u001b[2m\u001b[36m(worker pid=927)\u001b[0m 2022-11-24T06:28:04PST : INFO : tpe : suggest : 864 : Message : build_posterior_wrapper took 0.000282 seconds\n",
      "\u001b[2m\u001b[36m(worker pid=927)\u001b[0m 2022-11-24T06:28:04PST : INFO : tpe : suggest : 900 : Message : TPE using 2/2 trials with best loss 1975585.780843\n",
      "\u001b[2m\u001b[36m(worker pid=927)\u001b[0m 2022-11-24T06:28:04PST : INFO : tpe : suggest : 864 : Message : build_posterior_wrapper took 0.000294 seconds\n",
      "\u001b[2m\u001b[36m(worker pid=927)\u001b[0m 2022-11-24T06:28:04PST : INFO : tpe : suggest : 900 : Message : TPE using 3/3 trials with best loss 1943688.722285\n"
     ]
    },
    {
     "name": "stdout",
     "output_type": "stream",
     "text": [
      "63                                                                               \n",
      "  4%|▍         | 4/100 [00:01<00:22,  4.23trial/s, best loss: 1930086.7665227836]\n"
     ]
    },
    {
     "name": "stderr",
     "output_type": "stream",
     "text": [
      "\u001b[2m\u001b[36m(worker pid=927)\u001b[0m 2022-11-24T06:28:05PST : INFO : tpe : suggest : 864 : Message : build_posterior_wrapper took 0.000317 seconds\n",
      "\u001b[2m\u001b[36m(worker pid=927)\u001b[0m 2022-11-24T06:28:05PST : INFO : tpe : suggest : 900 : Message : TPE using 4/4 trials with best loss 1930086.766523\n"
     ]
    },
    {
     "name": "stdout",
     "output_type": "stream",
     "text": [
      "46                                                                               \n",
      "  5%|▌         | 5/100 [00:01<00:20,  4.58trial/s, best loss: 1899514.0869364422]\n",
      "24                                                                               \n",
      "  6%|▌         | 6/100 [00:01<00:17,  5.28trial/s, best loss: 1899514.0869364422]\n"
     ]
    },
    {
     "name": "stderr",
     "output_type": "stream",
     "text": [
      "\u001b[2m\u001b[36m(worker pid=927)\u001b[0m 2022-11-24T06:28:05PST : INFO : tpe : suggest : 864 : Message : build_posterior_wrapper took 0.000418 seconds\n",
      "\u001b[2m\u001b[36m(worker pid=927)\u001b[0m 2022-11-24T06:28:05PST : INFO : tpe : suggest : 900 : Message : TPE using 5/5 trials with best loss 1899514.086936\n",
      "\u001b[2m\u001b[36m(worker pid=927)\u001b[0m 2022-11-24T06:28:05PST : INFO : tpe : suggest : 864 : Message : build_posterior_wrapper took 0.000310 seconds\n",
      "\u001b[2m\u001b[36m(worker pid=927)\u001b[0m 2022-11-24T06:28:05PST : INFO : tpe : suggest : 900 : Message : TPE using 6/6 trials with best loss 1899514.086936\n"
     ]
    },
    {
     "name": "stdout",
     "output_type": "stream",
     "text": [
      "44                                                                               \n",
      "  7%|▋         | 7/100 [00:01<00:17,  5.28trial/s, best loss: 1788212.5920139095]\n",
      "45                                                                               \n",
      "  8%|▊         | 8/100 [00:01<00:13,  6.71trial/s, best loss: 1788212.5920139095]\n"
     ]
    },
    {
     "name": "stderr",
     "output_type": "stream",
     "text": [
      "\u001b[2m\u001b[36m(worker pid=927)\u001b[0m 2022-11-24T06:28:05PST : INFO : tpe : suggest : 864 : Message : build_posterior_wrapper took 0.000424 seconds\n",
      "\u001b[2m\u001b[36m(worker pid=927)\u001b[0m 2022-11-24T06:28:05PST : INFO : tpe : suggest : 900 : Message : TPE using 7/7 trials with best loss 1788212.592014\n",
      "\u001b[2m\u001b[36m(worker pid=927)\u001b[0m 2022-11-24T06:28:05PST : INFO : tpe : suggest : 864 : Message : build_posterior_wrapper took 0.000306 seconds\n",
      "\u001b[2m\u001b[36m(worker pid=927)\u001b[0m 2022-11-24T06:28:05PST : INFO : tpe : suggest : 900 : Message : TPE using 8/8 trials with best loss 1788212.592014\n"
     ]
    },
    {
     "name": "stdout",
     "output_type": "stream",
     "text": [
      "78                                                                               \n",
      "  9%|▉         | 9/100 [00:01<00:13,  6.57trial/s, best loss: 1788212.5920139095]\n"
     ]
    },
    {
     "name": "stderr",
     "output_type": "stream",
     "text": [
      "\u001b[2m\u001b[36m(worker pid=927)\u001b[0m 2022-11-24T06:28:05PST : INFO : tpe : suggest : 864 : Message : build_posterior_wrapper took 0.000493 seconds\n",
      "\u001b[2m\u001b[36m(worker pid=927)\u001b[0m 2022-11-24T06:28:05PST : INFO : tpe : suggest : 900 : Message : TPE using 9/9 trials with best loss 1788212.592014\n"
     ]
    },
    {
     "name": "stdout",
     "output_type": "stream",
     "text": [
      "39                                                                                \n",
      " 10%|█         | 10/100 [00:01<00:15,  5.74trial/s, best loss: 1788212.5920139095]\n",
      "31                                                                                \n",
      " 11%|█         | 11/100 [00:02<00:13,  6.45trial/s, best loss: 1788212.5920139095]\n"
     ]
    },
    {
     "name": "stderr",
     "output_type": "stream",
     "text": [
      "\u001b[2m\u001b[36m(worker pid=927)\u001b[0m 2022-11-24T06:28:06PST : INFO : tpe : suggest : 864 : Message : build_posterior_wrapper took 0.000301 seconds\n",
      "\u001b[2m\u001b[36m(worker pid=927)\u001b[0m 2022-11-24T06:28:06PST : INFO : tpe : suggest : 900 : Message : TPE using 10/10 trials with best loss 1788212.592014\n",
      "\u001b[2m\u001b[36m(worker pid=927)\u001b[0m 2022-11-24T06:28:06PST : INFO : tpe : suggest : 864 : Message : build_posterior_wrapper took 0.000303 seconds\n",
      "\u001b[2m\u001b[36m(worker pid=927)\u001b[0m 2022-11-24T06:28:06PST : INFO : tpe : suggest : 900 : Message : TPE using 11/11 trials with best loss 1788212.592014\n"
     ]
    },
    {
     "name": "stdout",
     "output_type": "stream",
     "text": [
      "88                                                                                \n",
      " 12%|█▏        | 12/100 [00:02<00:12,  6.91trial/s, best loss: 1788212.5920139095]\n"
     ]
    },
    {
     "name": "stderr",
     "output_type": "stream",
     "text": [
      "\u001b[2m\u001b[36m(worker pid=927)\u001b[0m 2022-11-24T06:28:06PST : INFO : tpe : suggest : 864 : Message : build_posterior_wrapper took 0.000667 seconds\n",
      "\u001b[2m\u001b[36m(worker pid=927)\u001b[0m 2022-11-24T06:28:06PST : INFO : tpe : suggest : 900 : Message : TPE using 12/12 trials with best loss 1788212.592014\n"
     ]
    },
    {
     "name": "stdout",
     "output_type": "stream",
     "text": [
      "10                                                                                \n",
      "24                                                                                \n",
      " 14%|█▍        | 14/100 [00:02<00:16,  5.32trial/s, best loss: 1788212.5920139095]\n",
      "99                                                                                \n",
      " 15%|█▌        | 15/100 [00:02<00:10,  7.90trial/s, best loss: 1788212.5920139095]\n"
     ]
    },
    {
     "name": "stderr",
     "output_type": "stream",
     "text": [
      "\u001b[2m\u001b[36m(worker pid=927)\u001b[0m 2022-11-24T06:28:06PST : INFO : tpe : suggest : 864 : Message : build_posterior_wrapper took 0.000322 seconds\n",
      "\u001b[2m\u001b[36m(worker pid=927)\u001b[0m 2022-11-24T06:28:06PST : INFO : tpe : suggest : 900 : Message : TPE using 13/13 trials with best loss 1788212.592014\n",
      "\u001b[2m\u001b[36m(worker pid=927)\u001b[0m 2022-11-24T06:28:06PST : INFO : tpe : suggest : 864 : Message : build_posterior_wrapper took 0.000417 seconds\n",
      "\u001b[2m\u001b[36m(worker pid=927)\u001b[0m 2022-11-24T06:28:06PST : INFO : tpe : suggest : 900 : Message : TPE using 14/14 trials with best loss 1788212.592014\n",
      "\u001b[2m\u001b[36m(worker pid=927)\u001b[0m 2022-11-24T06:28:06PST : INFO : tpe : suggest : 864 : Message : build_posterior_wrapper took 0.000361 seconds\n",
      "\u001b[2m\u001b[36m(worker pid=927)\u001b[0m 2022-11-24T06:28:06PST : INFO : tpe : suggest : 900 : Message : TPE using 15/15 trials with best loss 1788212.592014\n"
     ]
    },
    {
     "name": "stdout",
     "output_type": "stream",
     "text": [
      "32                                                                                \n",
      "22                                                                                \n",
      " 17%|█▋        | 17/100 [00:02<00:12,  6.75trial/s, best loss: 1788212.5920139095]\n",
      "93                                                                                \n",
      " 18%|█▊        | 18/100 [00:02<00:12,  6.75trial/s, best loss: 1788212.5920139095]\n"
     ]
    },
    {
     "name": "stderr",
     "output_type": "stream",
     "text": [
      "\u001b[2m\u001b[36m(worker pid=927)\u001b[0m 2022-11-24T06:28:06PST : INFO : tpe : suggest : 864 : Message : build_posterior_wrapper took 0.000277 seconds\n",
      "\u001b[2m\u001b[36m(worker pid=927)\u001b[0m 2022-11-24T06:28:06PST : INFO : tpe : suggest : 900 : Message : TPE using 16/16 trials with best loss 1788212.592014\n",
      "\u001b[2m\u001b[36m(worker pid=927)\u001b[0m 2022-11-24T06:28:07PST : INFO : tpe : suggest : 864 : Message : build_posterior_wrapper took 0.000281 seconds\n",
      "\u001b[2m\u001b[36m(worker pid=927)\u001b[0m 2022-11-24T06:28:07PST : INFO : tpe : suggest : 900 : Message : TPE using 17/17 trials with best loss 1788212.592014\n",
      "\u001b[2m\u001b[36m(worker pid=927)\u001b[0m 2022-11-24T06:28:07PST : INFO : tpe : suggest : 864 : Message : build_posterior_wrapper took 0.000293 seconds\n",
      "\u001b[2m\u001b[36m(worker pid=927)\u001b[0m 2022-11-24T06:28:07PST : INFO : tpe : suggest : 900 : Message : TPE using 18/18 trials with best loss 1788212.592014\n"
     ]
    },
    {
     "name": "stdout",
     "output_type": "stream",
     "text": [
      "40                                                                                \n",
      " 19%|█▉        | 19/100 [00:03<00:12,  6.71trial/s, best loss: 1788212.5920139095]\n",
      "61                                                                                \n",
      " 20%|██        | 20/100 [00:03<00:11,  7.05trial/s, best loss: 1788212.5920139095]\n"
     ]
    },
    {
     "name": "stderr",
     "output_type": "stream",
     "text": [
      "\u001b[2m\u001b[36m(worker pid=927)\u001b[0m 2022-11-24T06:28:07PST : INFO : tpe : suggest : 864 : Message : build_posterior_wrapper took 0.000287 seconds\n",
      "\u001b[2m\u001b[36m(worker pid=927)\u001b[0m 2022-11-24T06:28:07PST : INFO : tpe : suggest : 900 : Message : TPE using 19/19 trials with best loss 1788212.592014\n",
      "\u001b[2m\u001b[36m(worker pid=927)\u001b[0m 2022-11-24T06:28:07PST : INFO : tpe : suggest : 864 : Message : build_posterior_wrapper took 0.000315 seconds\n",
      "\u001b[2m\u001b[36m(worker pid=927)\u001b[0m 2022-11-24T06:28:07PST : INFO : tpe : suggest : 900 : Message : TPE using 20/20 trials with best loss 1788212.592014\n"
     ]
    },
    {
     "name": "stdout",
     "output_type": "stream",
     "text": [
      "17                                                                                \n",
      " 21%|██        | 21/100 [00:03<00:12,  6.24trial/s, best loss: 1788212.5920139095]\n",
      "67                                                                                \n",
      " 22%|██▏       | 22/100 [00:03<00:12,  6.24trial/s, best loss: 1788212.5920139095]\n"
     ]
    },
    {
     "name": "stderr",
     "output_type": "stream",
     "text": [
      "\u001b[2m\u001b[36m(worker pid=927)\u001b[0m 2022-11-24T06:28:07PST : INFO : tpe : suggest : 864 : Message : build_posterior_wrapper took 0.000370 seconds\n",
      "\u001b[2m\u001b[36m(worker pid=927)\u001b[0m 2022-11-24T06:28:07PST : INFO : tpe : suggest : 900 : Message : TPE using 21/21 trials with best loss 1788212.592014\n",
      "\u001b[2m\u001b[36m(worker pid=927)\u001b[0m 2022-11-24T06:28:07PST : INFO : tpe : suggest : 864 : Message : build_posterior_wrapper took 0.000372 seconds\n",
      "\u001b[2m\u001b[36m(worker pid=927)\u001b[0m 2022-11-24T06:28:07PST : INFO : tpe : suggest : 900 : Message : TPE using 22/22 trials with best loss 1788212.592014\n"
     ]
    },
    {
     "name": "stdout",
     "output_type": "stream",
     "text": [
      "98                                                                                \n",
      " 23%|██▎       | 23/100 [00:03<00:11,  6.47trial/s, best loss: 1788212.5920139095]\n"
     ]
    },
    {
     "name": "stderr",
     "output_type": "stream",
     "text": [
      "\u001b[2m\u001b[36m(worker pid=927)\u001b[0m 2022-11-24T06:28:07PST : INFO : tpe : suggest : 864 : Message : build_posterior_wrapper took 0.000361 seconds\n",
      "\u001b[2m\u001b[36m(worker pid=927)\u001b[0m 2022-11-24T06:28:07PST : INFO : tpe : suggest : 900 : Message : TPE using 23/23 trials with best loss 1788212.592014\n"
     ]
    },
    {
     "name": "stdout",
     "output_type": "stream",
     "text": [
      "54                                                                                \n",
      " 24%|██▍       | 24/100 [00:04<00:14,  5.33trial/s, best loss: 1788212.5920139095]\n"
     ]
    },
    {
     "name": "stderr",
     "output_type": "stream",
     "text": [
      "\u001b[2m\u001b[36m(worker pid=927)\u001b[0m 2022-11-24T06:28:08PST : INFO : tpe : suggest : 864 : Message : build_posterior_wrapper took 0.000284 seconds\n",
      "\u001b[2m\u001b[36m(worker pid=927)\u001b[0m 2022-11-24T06:28:08PST : INFO : tpe : suggest : 900 : Message : TPE using 24/24 trials with best loss 1788212.592014\n"
     ]
    },
    {
     "name": "stdout",
     "output_type": "stream",
     "text": [
      "69                                                                                \n",
      " 25%|██▌       | 25/100 [00:04<00:13,  5.41trial/s, best loss: 1788212.5920139095]\n"
     ]
    },
    {
     "name": "stderr",
     "output_type": "stream",
     "text": [
      "\u001b[2m\u001b[36m(worker pid=927)\u001b[0m 2022-11-24T06:28:08PST : INFO : tpe : suggest : 864 : Message : build_posterior_wrapper took 0.000356 seconds\n",
      "\u001b[2m\u001b[36m(worker pid=927)\u001b[0m 2022-11-24T06:28:08PST : INFO : tpe : suggest : 900 : Message : TPE using 25/25 trials with best loss 1788212.592014\n"
     ]
    },
    {
     "name": "stdout",
     "output_type": "stream",
     "text": [
      "10                                                                                \n",
      "58                                                                                \n",
      " 27%|██▋       | 27/100 [00:04<00:13,  5.22trial/s, best loss: 1788212.5920139095]\n"
     ]
    },
    {
     "name": "stderr",
     "output_type": "stream",
     "text": [
      "\u001b[2m\u001b[36m(worker pid=927)\u001b[0m 2022-11-24T06:28:08PST : INFO : tpe : suggest : 864 : Message : build_posterior_wrapper took 0.000325 seconds\n",
      "\u001b[2m\u001b[36m(worker pid=927)\u001b[0m 2022-11-24T06:28:08PST : INFO : tpe : suggest : 900 : Message : TPE using 26/26 trials with best loss 1788212.592014\n",
      "\u001b[2m\u001b[36m(worker pid=927)\u001b[0m 2022-11-24T06:28:08PST : INFO : tpe : suggest : 864 : Message : build_posterior_wrapper took 0.000322 seconds\n",
      "\u001b[2m\u001b[36m(worker pid=927)\u001b[0m 2022-11-24T06:28:08PST : INFO : tpe : suggest : 900 : Message : TPE using 27/27 trials with best loss 1788212.592014\n"
     ]
    },
    {
     "name": "stdout",
     "output_type": "stream",
     "text": [
      "73                                                                                \n",
      " 28%|██▊       | 28/100 [00:04<00:11,  6.52trial/s, best loss: 1788212.5920139095]\n"
     ]
    },
    {
     "name": "stderr",
     "output_type": "stream",
     "text": [
      "\u001b[2m\u001b[36m(worker pid=927)\u001b[0m 2022-11-24T06:28:08PST : INFO : tpe : suggest : 864 : Message : build_posterior_wrapper took 0.000380 seconds\n",
      "\u001b[2m\u001b[36m(worker pid=927)\u001b[0m 2022-11-24T06:28:08PST : INFO : tpe : suggest : 900 : Message : TPE using 28/28 trials with best loss 1788212.592014\n"
     ]
    },
    {
     "name": "stdout",
     "output_type": "stream",
     "text": [
      "55                                                                                \n",
      " 29%|██▉       | 29/100 [00:04<00:11,  5.92trial/s, best loss: 1788212.5920139095]\n"
     ]
    },
    {
     "name": "stderr",
     "output_type": "stream",
     "text": [
      "\u001b[2m\u001b[36m(worker pid=927)\u001b[0m 2022-11-24T06:28:09PST : INFO : tpe : suggest : 864 : Message : build_posterior_wrapper took 0.000293 seconds\n",
      "\u001b[2m\u001b[36m(worker pid=927)\u001b[0m 2022-11-24T06:28:09PST : INFO : tpe : suggest : 900 : Message : TPE using 29/29 trials with best loss 1788212.592014\n"
     ]
    },
    {
     "name": "stdout",
     "output_type": "stream",
     "text": [
      "16                                                                                \n",
      " 30%|███       | 30/100 [00:05<00:12,  5.72trial/s, best loss: 1788212.5920139095]\n",
      "16                                                                                \n",
      "29                                                                                \n",
      " 32%|███▏      | 32/100 [00:05<00:09,  7.39trial/s, best loss: 1764145.8841562434]\n"
     ]
    },
    {
     "name": "stderr",
     "output_type": "stream",
     "text": [
      "\u001b[2m\u001b[36m(worker pid=927)\u001b[0m 2022-11-24T06:28:09PST : INFO : tpe : suggest : 864 : Message : build_posterior_wrapper took 0.000471 seconds\n",
      "\u001b[2m\u001b[36m(worker pid=927)\u001b[0m 2022-11-24T06:28:09PST : INFO : tpe : suggest : 900 : Message : TPE using 30/30 trials with best loss 1788212.592014\n",
      "\u001b[2m\u001b[36m(worker pid=927)\u001b[0m 2022-11-24T06:28:09PST : INFO : tpe : suggest : 864 : Message : build_posterior_wrapper took 0.000462 seconds\n",
      "\u001b[2m\u001b[36m(worker pid=927)\u001b[0m 2022-11-24T06:28:09PST : INFO : tpe : suggest : 900 : Message : TPE using 31/31 trials with best loss 1764145.884156\n",
      "\u001b[2m\u001b[36m(worker pid=927)\u001b[0m 2022-11-24T06:28:09PST : INFO : tpe : suggest : 864 : Message : build_posterior_wrapper took 0.000488 seconds\n",
      "\u001b[2m\u001b[36m(worker pid=927)\u001b[0m 2022-11-24T06:28:09PST : INFO : tpe : suggest : 900 : Message : TPE using 32/32 trials with best loss 1764145.884156\n"
     ]
    },
    {
     "name": "stdout",
     "output_type": "stream",
     "text": [
      "17                                                                                \n",
      " 33%|███▎      | 33/100 [00:05<00:08,  7.75trial/s, best loss: 1764145.8841562434]\n",
      "11                                                                                \n",
      " 34%|███▍      | 34/100 [00:05<00:08,  7.75trial/s, best loss: 1764145.8841562434]\n"
     ]
    },
    {
     "name": "stderr",
     "output_type": "stream",
     "text": [
      "\u001b[2m\u001b[36m(worker pid=927)\u001b[0m 2022-11-24T06:28:09PST : INFO : tpe : suggest : 864 : Message : build_posterior_wrapper took 0.000430 seconds\n",
      "\u001b[2m\u001b[36m(worker pid=927)\u001b[0m 2022-11-24T06:28:09PST : INFO : tpe : suggest : 900 : Message : TPE using 33/33 trials with best loss 1764145.884156\n",
      "\u001b[2m\u001b[36m(worker pid=927)\u001b[0m 2022-11-24T06:28:09PST : INFO : tpe : suggest : 864 : Message : build_posterior_wrapper took 0.000280 seconds\n",
      "\u001b[2m\u001b[36m(worker pid=927)\u001b[0m 2022-11-24T06:28:09PST : INFO : tpe : suggest : 900 : Message : TPE using 34/34 trials with best loss 1764145.884156\n"
     ]
    },
    {
     "name": "stdout",
     "output_type": "stream",
     "text": [
      "25                                                                                \n",
      "50                                                                                \n",
      " 36%|███▌      | 36/100 [00:05<00:06,  9.92trial/s, best loss: 1764145.8841562434]\n"
     ]
    },
    {
     "name": "stderr",
     "output_type": "stream",
     "text": [
      "\u001b[2m\u001b[36m(worker pid=927)\u001b[0m 2022-11-24T06:28:09PST : INFO : tpe : suggest : 864 : Message : build_posterior_wrapper took 0.000582 seconds\n",
      "\u001b[2m\u001b[36m(worker pid=927)\u001b[0m 2022-11-24T06:28:09PST : INFO : tpe : suggest : 900 : Message : TPE using 35/35 trials with best loss 1764145.884156\n",
      "\u001b[2m\u001b[36m(worker pid=927)\u001b[0m 2022-11-24T06:28:09PST : INFO : tpe : suggest : 864 : Message : build_posterior_wrapper took 0.000437 seconds\n",
      "\u001b[2m\u001b[36m(worker pid=927)\u001b[0m 2022-11-24T06:28:09PST : INFO : tpe : suggest : 900 : Message : TPE using 36/36 trials with best loss 1764145.884156\n"
     ]
    },
    {
     "name": "stdout",
     "output_type": "stream",
     "text": [
      "37                                                                                \n",
      " 37%|███▋      | 37/100 [00:05<00:07,  9.00trial/s, best loss: 1764145.8841562434]\n",
      "15                                                                                \n",
      " 38%|███▊      | 38/100 [00:05<00:06,  9.00trial/s, best loss: 1764145.8841562434]\n",
      " 39%|███▉      | 39/100 [00:05<00:06, 10.12trial/s, best loss: 1764145.8841562434]\n"
     ]
    },
    {
     "name": "stderr",
     "output_type": "stream",
     "text": [
      "\u001b[2m\u001b[36m(worker pid=927)\u001b[0m 2022-11-24T06:28:09PST : INFO : tpe : suggest : 864 : Message : build_posterior_wrapper took 0.000306 seconds\n",
      "\u001b[2m\u001b[36m(worker pid=927)\u001b[0m 2022-11-24T06:28:09PST : INFO : tpe : suggest : 900 : Message : TPE using 37/37 trials with best loss 1764145.884156\n",
      "\u001b[2m\u001b[36m(worker pid=927)\u001b[0m 2022-11-24T06:28:10PST : INFO : tpe : suggest : 864 : Message : build_posterior_wrapper took 0.000281 seconds\n",
      "\u001b[2m\u001b[36m(worker pid=927)\u001b[0m 2022-11-24T06:28:10PST : INFO : tpe : suggest : 900 : Message : TPE using 38/38 trials with best loss 1764145.884156\n",
      "\u001b[2m\u001b[36m(worker pid=927)\u001b[0m 2022-11-24T06:28:10PST : INFO : tpe : suggest : 864 : Message : build_posterior_wrapper took 0.001103 seconds\n",
      "\u001b[2m\u001b[36m(worker pid=927)\u001b[0m 2022-11-24T06:28:10PST : INFO : tpe : suggest : 900 : Message : TPE using 39/39 trials with best loss 1764145.884156\n"
     ]
    },
    {
     "name": "stdout",
     "output_type": "stream",
     "text": [
      "34                                                                                \n",
      " 39%|███▉      | 39/100 [00:05<00:06, 10.12trial/s, best loss: 1764145.8841562434]\n",
      "29                                                                                \n",
      " 40%|████      | 40/100 [00:06<00:05, 10.12trial/s, best loss: 1764145.8841562434]\n",
      "21                                                                                \n",
      " 41%|████      | 41/100 [00:06<00:05,  9.92trial/s, best loss: 1764145.8841562434]\n"
     ]
    },
    {
     "name": "stderr",
     "output_type": "stream",
     "text": [
      "\u001b[2m\u001b[36m(worker pid=927)\u001b[0m 2022-11-24T06:28:10PST : INFO : tpe : suggest : 864 : Message : build_posterior_wrapper took 0.000481 seconds\n",
      "\u001b[2m\u001b[36m(worker pid=927)\u001b[0m 2022-11-24T06:28:10PST : INFO : tpe : suggest : 900 : Message : TPE using 40/40 trials with best loss 1764145.884156\n",
      "\u001b[2m\u001b[36m(worker pid=927)\u001b[0m 2022-11-24T06:28:10PST : INFO : tpe : suggest : 864 : Message : build_posterior_wrapper took 0.000286 seconds\n",
      "\u001b[2m\u001b[36m(worker pid=927)\u001b[0m 2022-11-24T06:28:10PST : INFO : tpe : suggest : 900 : Message : TPE using 41/41 trials with best loss 1764145.884156\n"
     ]
    },
    {
     "name": "stdout",
     "output_type": "stream",
     "text": [
      "48                                                                                \n",
      " 42%|████▏     | 42/100 [00:06<00:05,  9.92trial/s, best loss: 1764145.8841562434]\n"
     ]
    },
    {
     "name": "stderr",
     "output_type": "stream",
     "text": [
      "\u001b[2m\u001b[36m(worker pid=927)\u001b[0m 2022-11-24T06:28:10PST : INFO : tpe : suggest : 864 : Message : build_posterior_wrapper took 0.000435 seconds\n",
      "\u001b[2m\u001b[36m(worker pid=927)\u001b[0m 2022-11-24T06:28:10PST : INFO : tpe : suggest : 900 : Message : TPE using 42/42 trials with best loss 1764145.884156\n"
     ]
    },
    {
     "name": "stdout",
     "output_type": "stream",
     "text": [
      "39                                                                                \n",
      " 43%|████▎     | 43/100 [00:06<00:06,  9.07trial/s, best loss: 1764145.8841562434]\n",
      "84                                                                                \n",
      " 44%|████▍     | 44/100 [00:06<00:06,  8.98trial/s, best loss: 1764145.8841562434]\n"
     ]
    },
    {
     "name": "stderr",
     "output_type": "stream",
     "text": [
      "\u001b[2m\u001b[36m(worker pid=927)\u001b[0m 2022-11-24T06:28:10PST : INFO : tpe : suggest : 864 : Message : build_posterior_wrapper took 0.000328 seconds\n",
      "\u001b[2m\u001b[36m(worker pid=927)\u001b[0m 2022-11-24T06:28:10PST : INFO : tpe : suggest : 900 : Message : TPE using 43/43 trials with best loss 1764145.884156\n",
      "\u001b[2m\u001b[36m(worker pid=927)\u001b[0m 2022-11-24T06:28:10PST : INFO : tpe : suggest : 864 : Message : build_posterior_wrapper took 0.000290 seconds\n",
      "\u001b[2m\u001b[36m(worker pid=927)\u001b[0m 2022-11-24T06:28:10PST : INFO : tpe : suggest : 900 : Message : TPE using 44/44 trials with best loss 1764145.884156\n"
     ]
    },
    {
     "name": "stdout",
     "output_type": "stream",
     "text": [
      "14                                                                                \n",
      "43                                                                                \n",
      " 46%|████▌     | 46/100 [00:06<00:07,  6.82trial/s, best loss: 1764145.8841562434]\n",
      "21                                                                                \n",
      " 47%|████▋     | 47/100 [00:06<00:06,  8.03trial/s, best loss: 1764145.8841562434]\n"
     ]
    },
    {
     "name": "stderr",
     "output_type": "stream",
     "text": [
      "\u001b[2m\u001b[36m(worker pid=927)\u001b[0m 2022-11-24T06:28:10PST : INFO : tpe : suggest : 864 : Message : build_posterior_wrapper took 0.000283 seconds\n",
      "\u001b[2m\u001b[36m(worker pid=927)\u001b[0m 2022-11-24T06:28:10PST : INFO : tpe : suggest : 900 : Message : TPE using 45/45 trials with best loss 1764145.884156\n",
      "\u001b[2m\u001b[36m(worker pid=927)\u001b[0m 2022-11-24T06:28:10PST : INFO : tpe : suggest : 864 : Message : build_posterior_wrapper took 0.000298 seconds\n",
      "\u001b[2m\u001b[36m(worker pid=927)\u001b[0m 2022-11-24T06:28:10PST : INFO : tpe : suggest : 900 : Message : TPE using 46/46 trials with best loss 1764145.884156\n",
      "\u001b[2m\u001b[36m(worker pid=927)\u001b[0m 2022-11-24T06:28:11PST : INFO : tpe : suggest : 864 : Message : build_posterior_wrapper took 0.000480 seconds\n",
      "\u001b[2m\u001b[36m(worker pid=927)\u001b[0m 2022-11-24T06:28:11PST : INFO : tpe : suggest : 900 : Message : TPE using 47/47 trials with best loss 1764145.884156\n"
     ]
    },
    {
     "name": "stdout",
     "output_type": "stream",
     "text": [
      "30                                                                                \n",
      " 48%|████▊     | 48/100 [00:07<00:06,  8.03trial/s, best loss: 1764145.8841562434]\n",
      "25                                                                                \n",
      " 49%|████▉     | 49/100 [00:07<00:05,  9.09trial/s, best loss: 1764145.8841562434]\n"
     ]
    },
    {
     "name": "stderr",
     "output_type": "stream",
     "text": [
      "\u001b[2m\u001b[36m(worker pid=927)\u001b[0m 2022-11-24T06:28:11PST : INFO : tpe : suggest : 864 : Message : build_posterior_wrapper took 0.000307 seconds\n",
      "\u001b[2m\u001b[36m(worker pid=927)\u001b[0m 2022-11-24T06:28:11PST : INFO : tpe : suggest : 900 : Message : TPE using 48/48 trials with best loss 1764145.884156\n",
      "\u001b[2m\u001b[36m(worker pid=927)\u001b[0m 2022-11-24T06:28:11PST : INFO : tpe : suggest : 864 : Message : build_posterior_wrapper took 0.000302 seconds\n",
      "\u001b[2m\u001b[36m(worker pid=927)\u001b[0m 2022-11-24T06:28:11PST : INFO : tpe : suggest : 900 : Message : TPE using 49/49 trials with best loss 1764145.884156\n"
     ]
    },
    {
     "name": "stdout",
     "output_type": "stream",
     "text": [
      "34                                                                                \n",
      " 50%|█████     | 50/100 [00:07<00:05,  9.09trial/s, best loss: 1764145.8841562434]\n",
      "50                                                                                \n",
      " 51%|█████     | 51/100 [00:07<00:05,  9.47trial/s, best loss: 1764145.8841562434]\n"
     ]
    },
    {
     "name": "stderr",
     "output_type": "stream",
     "text": [
      "\u001b[2m\u001b[36m(worker pid=927)\u001b[0m 2022-11-24T06:28:11PST : INFO : tpe : suggest : 864 : Message : build_posterior_wrapper took 0.000301 seconds\n",
      "\u001b[2m\u001b[36m(worker pid=927)\u001b[0m 2022-11-24T06:28:11PST : INFO : tpe : suggest : 900 : Message : TPE using 50/50 trials with best loss 1764145.884156\n",
      "\u001b[2m\u001b[36m(worker pid=927)\u001b[0m 2022-11-24T06:28:11PST : INFO : tpe : suggest : 864 : Message : build_posterior_wrapper took 0.000290 seconds\n",
      "\u001b[2m\u001b[36m(worker pid=927)\u001b[0m 2022-11-24T06:28:11PST : INFO : tpe : suggest : 900 : Message : TPE using 51/51 trials with best loss 1764145.884156\n"
     ]
    },
    {
     "name": "stdout",
     "output_type": "stream",
     "text": [
      "76                                                                                \n",
      " 52%|█████▏    | 52/100 [00:07<00:05,  8.69trial/s, best loss: 1722586.1271715628]\n"
     ]
    },
    {
     "name": "stderr",
     "output_type": "stream",
     "text": [
      "\u001b[2m\u001b[36m(worker pid=927)\u001b[0m 2022-11-24T06:28:11PST : INFO : tpe : suggest : 864 : Message : build_posterior_wrapper took 0.000279 seconds\n",
      "\u001b[2m\u001b[36m(worker pid=927)\u001b[0m 2022-11-24T06:28:11PST : INFO : tpe : suggest : 900 : Message : TPE using 52/52 trials with best loss 1722586.127172\n"
     ]
    },
    {
     "name": "stdout",
     "output_type": "stream",
     "text": [
      " 53%|█████▎    | 53/100 [00:07<00:06,  7.32trial/s, best loss: 1722586.1271715628]\n",
      "92                                                                                \n",
      " 53%|█████▎    | 53/100 [00:07<00:06,  7.32trial/s, best loss: 1722586.1271715628]\n"
     ]
    },
    {
     "name": "stderr",
     "output_type": "stream",
     "text": [
      "\u001b[2m\u001b[36m(worker pid=927)\u001b[0m 2022-11-24T06:28:11PST : INFO : tpe : suggest : 864 : Message : build_posterior_wrapper took 0.000287 seconds\n",
      "\u001b[2m\u001b[36m(worker pid=927)\u001b[0m 2022-11-24T06:28:11PST : INFO : tpe : suggest : 900 : Message : TPE using 53/53 trials with best loss 1722586.127172\n"
     ]
    },
    {
     "name": "stdout",
     "output_type": "stream",
     "text": [
      "63                                                                                \n",
      " 54%|█████▍    | 54/100 [00:07<00:07,  6.25trial/s, best loss: 1722586.1271715628]\n",
      "50                                                                                \n",
      " 55%|█████▌    | 55/100 [00:08<00:07,  6.11trial/s, best loss: 1722586.1271715628]\n"
     ]
    },
    {
     "name": "stderr",
     "output_type": "stream",
     "text": [
      "\u001b[2m\u001b[36m(worker pid=927)\u001b[0m 2022-11-24T06:28:12PST : INFO : tpe : suggest : 864 : Message : build_posterior_wrapper took 0.000275 seconds\n",
      "\u001b[2m\u001b[36m(worker pid=927)\u001b[0m 2022-11-24T06:28:12PST : INFO : tpe : suggest : 900 : Message : TPE using 54/54 trials with best loss 1722586.127172\n",
      "\u001b[2m\u001b[36m(worker pid=927)\u001b[0m 2022-11-24T06:28:12PST : INFO : tpe : suggest : 864 : Message : build_posterior_wrapper took 0.000303 seconds\n",
      "\u001b[2m\u001b[36m(worker pid=927)\u001b[0m 2022-11-24T06:28:12PST : INFO : tpe : suggest : 900 : Message : TPE using 55/55 trials with best loss 1722586.127172\n"
     ]
    },
    {
     "name": "stdout",
     "output_type": "stream",
     "text": [
      "87                                                                                \n",
      " 56%|█████▌    | 56/100 [00:08<00:06,  6.44trial/s, best loss: 1722586.1271715628]\n"
     ]
    },
    {
     "name": "stderr",
     "output_type": "stream",
     "text": [
      "\u001b[2m\u001b[36m(worker pid=927)\u001b[0m 2022-11-24T06:28:12PST : INFO : tpe : suggest : 864 : Message : build_posterior_wrapper took 0.000317 seconds\n",
      "\u001b[2m\u001b[36m(worker pid=927)\u001b[0m 2022-11-24T06:28:12PST : INFO : tpe : suggest : 900 : Message : TPE using 56/56 trials with best loss 1722586.127172\n"
     ]
    },
    {
     "name": "stdout",
     "output_type": "stream",
     "text": [
      "71                                                                                \n",
      " 57%|█████▋    | 57/100 [00:08<00:07,  5.51trial/s, best loss: 1722586.1271715628]\n"
     ]
    },
    {
     "name": "stderr",
     "output_type": "stream",
     "text": [
      "\u001b[2m\u001b[36m(worker pid=927)\u001b[0m 2022-11-24T06:28:12PST : INFO : tpe : suggest : 864 : Message : build_posterior_wrapper took 0.000275 seconds\n",
      "\u001b[2m\u001b[36m(worker pid=927)\u001b[0m 2022-11-24T06:28:12PST : INFO : tpe : suggest : 900 : Message : TPE using 57/57 trials with best loss 1722586.127172\n"
     ]
    },
    {
     "name": "stdout",
     "output_type": "stream",
     "text": [
      "58                                                                                \n",
      " 58%|█████▊    | 58/100 [00:08<00:07,  5.42trial/s, best loss: 1722586.1271715628]\n",
      "80                                                                                \n",
      " 59%|█████▉    | 59/100 [00:08<00:07,  5.41trial/s, best loss: 1722586.1271715628]\n"
     ]
    },
    {
     "name": "stderr",
     "output_type": "stream",
     "text": [
      "\u001b[2m\u001b[36m(worker pid=927)\u001b[0m 2022-11-24T06:28:12PST : INFO : tpe : suggest : 864 : Message : build_posterior_wrapper took 0.000282 seconds\n",
      "\u001b[2m\u001b[36m(worker pid=927)\u001b[0m 2022-11-24T06:28:12PST : INFO : tpe : suggest : 900 : Message : TPE using 58/58 trials with best loss 1722586.127172\n",
      "\u001b[2m\u001b[36m(worker pid=927)\u001b[0m 2022-11-24T06:28:13PST : INFO : tpe : suggest : 864 : Message : build_posterior_wrapper took 0.000305 seconds\n",
      "\u001b[2m\u001b[36m(worker pid=927)\u001b[0m 2022-11-24T06:28:13PST : INFO : tpe : suggest : 900 : Message : TPE using 59/59 trials with best loss 1722586.127172\n"
     ]
    },
    {
     "name": "stdout",
     "output_type": "stream",
     "text": [
      "53                                                                                \n",
      " 60%|██████    | 60/100 [00:09<00:07,  5.22trial/s, best loss: 1722586.1271715628]\n",
      "66                                                                                \n",
      " 61%|██████    | 61/100 [00:09<00:06,  5.65trial/s, best loss: 1722586.1271715628]\n"
     ]
    },
    {
     "name": "stderr",
     "output_type": "stream",
     "text": [
      "\u001b[2m\u001b[36m(worker pid=927)\u001b[0m 2022-11-24T06:28:13PST : INFO : tpe : suggest : 864 : Message : build_posterior_wrapper took 0.000281 seconds\n",
      "\u001b[2m\u001b[36m(worker pid=927)\u001b[0m 2022-11-24T06:28:13PST : INFO : tpe : suggest : 900 : Message : TPE using 60/60 trials with best loss 1722586.127172\n",
      "\u001b[2m\u001b[36m(worker pid=927)\u001b[0m 2022-11-24T06:28:13PST : INFO : tpe : suggest : 864 : Message : build_posterior_wrapper took 0.000272 seconds\n",
      "\u001b[2m\u001b[36m(worker pid=927)\u001b[0m 2022-11-24T06:28:13PST : INFO : tpe : suggest : 900 : Message : TPE using 61/61 trials with best loss 1722586.127172\n"
     ]
    },
    {
     "name": "stdout",
     "output_type": "stream",
     "text": [
      "43                                                                                \n",
      " 62%|██████▏   | 62/100 [00:09<00:07,  5.40trial/s, best loss: 1722586.1271715628]\n"
     ]
    },
    {
     "name": "stderr",
     "output_type": "stream",
     "text": [
      "\u001b[2m\u001b[36m(worker pid=927)\u001b[0m 2022-11-24T06:28:13PST : INFO : tpe : suggest : 864 : Message : build_posterior_wrapper took 0.000314 seconds\n",
      "\u001b[2m\u001b[36m(worker pid=927)\u001b[0m 2022-11-24T06:28:13PST : INFO : tpe : suggest : 900 : Message : TPE using 62/62 trials with best loss 1722586.127172\n"
     ]
    },
    {
     "name": "stdout",
     "output_type": "stream",
     "text": [
      "58                                                                                \n",
      " 63%|██████▎   | 63/100 [00:09<00:06,  5.44trial/s, best loss: 1722586.1271715628]\n",
      " 64%|██████▍   | 64/100 [00:09<00:06,  5.60trial/s, best loss: 1722586.1271715628]\n",
      "95                                                                                \n",
      " 64%|██████▍   | 64/100 [00:09<00:06,  5.60trial/s, best loss: 1722586.1271715628]\n"
     ]
    },
    {
     "name": "stderr",
     "output_type": "stream",
     "text": [
      "\u001b[2m\u001b[36m(worker pid=927)\u001b[0m 2022-11-24T06:28:13PST : INFO : tpe : suggest : 864 : Message : build_posterior_wrapper took 0.000506 seconds\n",
      "\u001b[2m\u001b[36m(worker pid=927)\u001b[0m 2022-11-24T06:28:13PST : INFO : tpe : suggest : 900 : Message : TPE using 63/63 trials with best loss 1722586.127172\n",
      "\u001b[2m\u001b[36m(worker pid=927)\u001b[0m 2022-11-24T06:28:13PST : INFO : tpe : suggest : 864 : Message : build_posterior_wrapper took 0.000278 seconds\n",
      "\u001b[2m\u001b[36m(worker pid=927)\u001b[0m 2022-11-24T06:28:13PST : INFO : tpe : suggest : 900 : Message : TPE using 64/64 trials with best loss 1722586.127172\n"
     ]
    },
    {
     "name": "stdout",
     "output_type": "stream",
     "text": [
      "13                                                                                \n",
      "20                                                                                \n",
      " 66%|██████▌   | 66/100 [00:10<00:06,  5.05trial/s, best loss: 1722586.1271715628]\n",
      "27                                                                                \n",
      " 67%|██████▋   | 67/100 [00:10<00:04,  7.67trial/s, best loss: 1722586.1271715628]\n"
     ]
    },
    {
     "name": "stderr",
     "output_type": "stream",
     "text": [
      "\u001b[2m\u001b[36m(worker pid=927)\u001b[0m 2022-11-24T06:28:14PST : INFO : tpe : suggest : 864 : Message : build_posterior_wrapper took 0.000324 seconds\n",
      "\u001b[2m\u001b[36m(worker pid=927)\u001b[0m 2022-11-24T06:28:14PST : INFO : tpe : suggest : 900 : Message : TPE using 65/65 trials with best loss 1722586.127172\n",
      "\u001b[2m\u001b[36m(worker pid=927)\u001b[0m 2022-11-24T06:28:14PST : INFO : tpe : suggest : 864 : Message : build_posterior_wrapper took 0.000311 seconds\n",
      "\u001b[2m\u001b[36m(worker pid=927)\u001b[0m 2022-11-24T06:28:14PST : INFO : tpe : suggest : 900 : Message : TPE using 66/66 trials with best loss 1722586.127172\n",
      "\u001b[2m\u001b[36m(worker pid=927)\u001b[0m 2022-11-24T06:28:14PST : INFO : tpe : suggest : 864 : Message : build_posterior_wrapper took 0.000311 seconds\n",
      "\u001b[2m\u001b[36m(worker pid=927)\u001b[0m 2022-11-24T06:28:14PST : INFO : tpe : suggest : 900 : Message : TPE using 67/67 trials with best loss 1722586.127172\n"
     ]
    },
    {
     "name": "stdout",
     "output_type": "stream",
     "text": [
      "10                                                                                \n",
      "46                                                                                \n",
      " 69%|██████▉   | 69/100 [00:10<00:03,  9.29trial/s, best loss: 1722586.1271715628]\n"
     ]
    },
    {
     "name": "stderr",
     "output_type": "stream",
     "text": [
      "\u001b[2m\u001b[36m(worker pid=927)\u001b[0m 2022-11-24T06:28:14PST : INFO : tpe : suggest : 864 : Message : build_posterior_wrapper took 0.000293 seconds\n",
      "\u001b[2m\u001b[36m(worker pid=927)\u001b[0m 2022-11-24T06:28:14PST : INFO : tpe : suggest : 900 : Message : TPE using 68/68 trials with best loss 1722586.127172\n",
      "\u001b[2m\u001b[36m(worker pid=927)\u001b[0m 2022-11-24T06:28:14PST : INFO : tpe : suggest : 864 : Message : build_posterior_wrapper took 0.000297 seconds\n",
      "\u001b[2m\u001b[36m(worker pid=927)\u001b[0m 2022-11-24T06:28:14PST : INFO : tpe : suggest : 900 : Message : TPE using 69/69 trials with best loss 1722586.127172\n"
     ]
    },
    {
     "name": "stdout",
     "output_type": "stream",
     "text": [
      "37                                                                                \n",
      " 70%|███████   | 70/100 [00:10<00:03,  9.29trial/s, best loss: 1722586.1271715628]\n",
      "16                                                                                \n",
      "33                                                                                \n",
      " 72%|███████▏  | 72/100 [00:10<00:03,  8.88trial/s, best loss: 1722586.1271715628]\n"
     ]
    },
    {
     "name": "stderr",
     "output_type": "stream",
     "text": [
      "\u001b[2m\u001b[36m(worker pid=927)\u001b[0m 2022-11-24T06:28:14PST : INFO : tpe : suggest : 864 : Message : build_posterior_wrapper took 0.000277 seconds\n",
      "\u001b[2m\u001b[36m(worker pid=927)\u001b[0m 2022-11-24T06:28:14PST : INFO : tpe : suggest : 900 : Message : TPE using 70/70 trials with best loss 1722586.127172\n",
      "\u001b[2m\u001b[36m(worker pid=927)\u001b[0m 2022-11-24T06:28:14PST : INFO : tpe : suggest : 864 : Message : build_posterior_wrapper took 0.000302 seconds\n",
      "\u001b[2m\u001b[36m(worker pid=927)\u001b[0m 2022-11-24T06:28:14PST : INFO : tpe : suggest : 900 : Message : TPE using 71/71 trials with best loss 1722586.127172\n",
      "\u001b[2m\u001b[36m(worker pid=927)\u001b[0m 2022-11-24T06:28:14PST : INFO : tpe : suggest : 864 : Message : build_posterior_wrapper took 0.000277 seconds\n",
      "\u001b[2m\u001b[36m(worker pid=927)\u001b[0m 2022-11-24T06:28:14PST : INFO : tpe : suggest : 900 : Message : TPE using 72/72 trials with best loss 1722586.127172\n"
     ]
    },
    {
     "name": "stdout",
     "output_type": "stream",
     "text": [
      "23                                                                                \n",
      " 73%|███████▎  | 73/100 [00:10<00:02,  9.88trial/s, best loss: 1722586.1271715628]\n",
      "19                                                                                \n",
      "30                                                                                \n",
      " 75%|███████▌  | 75/100 [00:10<00:02, 11.19trial/s, best loss: 1722586.1271715628]\n"
     ]
    },
    {
     "name": "stderr",
     "output_type": "stream",
     "text": [
      "\u001b[2m\u001b[36m(worker pid=927)\u001b[0m 2022-11-24T06:28:14PST : INFO : tpe : suggest : 864 : Message : build_posterior_wrapper took 0.000283 seconds\n",
      "\u001b[2m\u001b[36m(worker pid=927)\u001b[0m 2022-11-24T06:28:14PST : INFO : tpe : suggest : 900 : Message : TPE using 73/73 trials with best loss 1722586.127172\n",
      "\u001b[2m\u001b[36m(worker pid=927)\u001b[0m 2022-11-24T06:28:14PST : INFO : tpe : suggest : 864 : Message : build_posterior_wrapper took 0.000278 seconds\n",
      "\u001b[2m\u001b[36m(worker pid=927)\u001b[0m 2022-11-24T06:28:14PST : INFO : tpe : suggest : 900 : Message : TPE using 74/74 trials with best loss 1722586.127172\n",
      "\u001b[2m\u001b[36m(worker pid=927)\u001b[0m 2022-11-24T06:28:14PST : INFO : tpe : suggest : 864 : Message : build_posterior_wrapper took 0.000288 seconds\n",
      "\u001b[2m\u001b[36m(worker pid=927)\u001b[0m 2022-11-24T06:28:14PST : INFO : tpe : suggest : 900 : Message : TPE using 75/75 trials with best loss 1722586.127172\n"
     ]
    },
    {
     "name": "stdout",
     "output_type": "stream",
     "text": [
      "38                                                                                \n",
      " 76%|███████▌  | 76/100 [00:10<00:02, 11.19trial/s, best loss: 1722586.1271715628]\n",
      "12                                                                                \n",
      " 77%|███████▋  | 77/100 [00:11<00:02, 10.76trial/s, best loss: 1722586.1271715628]\n"
     ]
    },
    {
     "name": "stderr",
     "output_type": "stream",
     "text": [
      "\u001b[2m\u001b[36m(worker pid=927)\u001b[0m 2022-11-24T06:28:15PST : INFO : tpe : suggest : 864 : Message : build_posterior_wrapper took 0.000277 seconds\n",
      "\u001b[2m\u001b[36m(worker pid=927)\u001b[0m 2022-11-24T06:28:15PST : INFO : tpe : suggest : 900 : Message : TPE using 76/76 trials with best loss 1722586.127172\n",
      "\u001b[2m\u001b[36m(worker pid=927)\u001b[0m 2022-11-24T06:28:15PST : INFO : tpe : suggest : 864 : Message : build_posterior_wrapper took 0.000274 seconds\n",
      "\u001b[2m\u001b[36m(worker pid=927)\u001b[0m 2022-11-24T06:28:15PST : INFO : tpe : suggest : 900 : Message : TPE using 77/77 trials with best loss 1722586.127172\n"
     ]
    },
    {
     "name": "stdout",
     "output_type": "stream",
     "text": [
      "23                                                                                \n",
      "51                                                                                \n",
      " 79%|███████▉  | 79/100 [00:11<00:01, 12.32trial/s, best loss: 1722586.1271715628]\n"
     ]
    },
    {
     "name": "stderr",
     "output_type": "stream",
     "text": [
      "\u001b[2m\u001b[36m(worker pid=927)\u001b[0m 2022-11-24T06:28:15PST : INFO : tpe : suggest : 864 : Message : build_posterior_wrapper took 0.000300 seconds\n",
      "\u001b[2m\u001b[36m(worker pid=927)\u001b[0m 2022-11-24T06:28:15PST : INFO : tpe : suggest : 900 : Message : TPE using 78/78 trials with best loss 1722586.127172\n",
      "\u001b[2m\u001b[36m(worker pid=927)\u001b[0m 2022-11-24T06:28:15PST : INFO : tpe : suggest : 864 : Message : build_posterior_wrapper took 0.000485 seconds\n",
      "\u001b[2m\u001b[36m(worker pid=927)\u001b[0m 2022-11-24T06:28:15PST : INFO : tpe : suggest : 900 : Message : TPE using 79/79 trials with best loss 1722586.127172\n"
     ]
    },
    {
     "name": "stdout",
     "output_type": "stream",
     "text": [
      "41                                                                                \n",
      " 80%|████████  | 80/100 [00:11<00:01, 12.32trial/s, best loss: 1722586.1271715628]\n",
      "27                                                                                \n",
      " 81%|████████  | 81/100 [00:11<00:01,  9.71trial/s, best loss: 1722586.1271715628]\n"
     ]
    },
    {
     "name": "stderr",
     "output_type": "stream",
     "text": [
      "\u001b[2m\u001b[36m(worker pid=927)\u001b[0m 2022-11-24T06:28:15PST : INFO : tpe : suggest : 864 : Message : build_posterior_wrapper took 0.000289 seconds\n",
      "\u001b[2m\u001b[36m(worker pid=927)\u001b[0m 2022-11-24T06:28:15PST : INFO : tpe : suggest : 900 : Message : TPE using 80/80 trials with best loss 1722586.127172\n",
      "\u001b[2m\u001b[36m(worker pid=927)\u001b[0m 2022-11-24T06:28:15PST : INFO : tpe : suggest : 864 : Message : build_posterior_wrapper took 0.000286 seconds\n",
      "\u001b[2m\u001b[36m(worker pid=927)\u001b[0m 2022-11-24T06:28:15PST : INFO : tpe : suggest : 900 : Message : TPE using 81/81 trials with best loss 1722586.127172\n"
     ]
    },
    {
     "name": "stdout",
     "output_type": "stream",
     "text": [
      "46                                                                                \n",
      " 82%|████████▏ | 82/100 [00:11<00:01,  9.71trial/s, best loss: 1722586.1271715628]\n",
      "19                                                                                \n",
      " 83%|████████▎ | 83/100 [00:11<00:01,  9.44trial/s, best loss: 1722586.1271715628]\n"
     ]
    },
    {
     "name": "stderr",
     "output_type": "stream",
     "text": [
      "\u001b[2m\u001b[36m(worker pid=927)\u001b[0m 2022-11-24T06:28:15PST : INFO : tpe : suggest : 864 : Message : build_posterior_wrapper took 0.000303 seconds\n",
      "\u001b[2m\u001b[36m(worker pid=927)\u001b[0m 2022-11-24T06:28:15PST : INFO : tpe : suggest : 900 : Message : TPE using 82/82 trials with best loss 1722586.127172\n",
      "\u001b[2m\u001b[36m(worker pid=927)\u001b[0m 2022-11-24T06:28:15PST : INFO : tpe : suggest : 864 : Message : build_posterior_wrapper took 0.000296 seconds\n",
      "\u001b[2m\u001b[36m(worker pid=927)\u001b[0m 2022-11-24T06:28:15PST : INFO : tpe : suggest : 900 : Message : TPE using 83/83 trials with best loss 1722586.127172\n"
     ]
    },
    {
     "name": "stdout",
     "output_type": "stream",
     "text": [
      "36                                                                                \n",
      " 84%|████████▍ | 84/100 [00:11<00:01,  9.44trial/s, best loss: 1722586.1271715628]\n",
      "69                                                                                \n",
      " 85%|████████▌ | 85/100 [00:11<00:01,  9.88trial/s, best loss: 1722586.1271715628]\n"
     ]
    },
    {
     "name": "stderr",
     "output_type": "stream",
     "text": [
      "\u001b[2m\u001b[36m(worker pid=927)\u001b[0m 2022-11-24T06:28:15PST : INFO : tpe : suggest : 864 : Message : build_posterior_wrapper took 0.000429 seconds\n",
      "\u001b[2m\u001b[36m(worker pid=927)\u001b[0m 2022-11-24T06:28:15PST : INFO : tpe : suggest : 900 : Message : TPE using 84/84 trials with best loss 1722586.127172\n",
      "\u001b[2m\u001b[36m(worker pid=927)\u001b[0m 2022-11-24T06:28:15PST : INFO : tpe : suggest : 864 : Message : build_posterior_wrapper took 0.000286 seconds\n",
      "\u001b[2m\u001b[36m(worker pid=927)\u001b[0m 2022-11-24T06:28:15PST : INFO : tpe : suggest : 900 : Message : TPE using 85/85 trials with best loss 1722586.127172\n"
     ]
    },
    {
     "name": "stdout",
     "output_type": "stream",
     "text": [
      "61                                                                                \n",
      " 86%|████████▌ | 86/100 [00:12<00:01,  9.88trial/s, best loss: 1722586.1271715628]\n"
     ]
    },
    {
     "name": "stderr",
     "output_type": "stream",
     "text": [
      "\u001b[2m\u001b[36m(worker pid=927)\u001b[0m 2022-11-24T06:28:16PST : INFO : tpe : suggest : 864 : Message : build_posterior_wrapper took 0.000448 seconds\n",
      "\u001b[2m\u001b[36m(worker pid=927)\u001b[0m 2022-11-24T06:28:16PST : INFO : tpe : suggest : 900 : Message : TPE using 86/86 trials with best loss 1722586.127172\n"
     ]
    },
    {
     "name": "stdout",
     "output_type": "stream",
     "text": [
      "56                                                                                \n",
      " 87%|████████▋ | 87/100 [00:12<00:01,  7.15trial/s, best loss: 1722586.1271715628]\n"
     ]
    },
    {
     "name": "stderr",
     "output_type": "stream",
     "text": [
      "\u001b[2m\u001b[36m(worker pid=927)\u001b[0m 2022-11-24T06:28:16PST : INFO : tpe : suggest : 864 : Message : build_posterior_wrapper took 0.000525 seconds\n",
      "\u001b[2m\u001b[36m(worker pid=927)\u001b[0m 2022-11-24T06:28:16PST : INFO : tpe : suggest : 900 : Message : TPE using 87/87 trials with best loss 1722586.127172\n"
     ]
    },
    {
     "name": "stdout",
     "output_type": "stream",
     "text": [
      "15                                                                                \n",
      " 88%|████████▊ | 88/100 [00:12<00:01,  6.69trial/s, best loss: 1722586.1271715628]\n",
      "49                                                                                \n",
      " 89%|████████▉ | 89/100 [00:12<00:01,  6.69trial/s, best loss: 1722586.1271715628]\n"
     ]
    },
    {
     "name": "stderr",
     "output_type": "stream",
     "text": [
      "\u001b[2m\u001b[36m(worker pid=927)\u001b[0m 2022-11-24T06:28:16PST : INFO : tpe : suggest : 864 : Message : build_posterior_wrapper took 0.000291 seconds\n",
      "\u001b[2m\u001b[36m(worker pid=927)\u001b[0m 2022-11-24T06:28:16PST : INFO : tpe : suggest : 900 : Message : TPE using 88/88 trials with best loss 1722586.127172\n",
      "\u001b[2m\u001b[36m(worker pid=927)\u001b[0m 2022-11-24T06:28:16PST : INFO : tpe : suggest : 864 : Message : build_posterior_wrapper took 0.000291 seconds\n",
      "\u001b[2m\u001b[36m(worker pid=927)\u001b[0m 2022-11-24T06:28:16PST : INFO : tpe : suggest : 900 : Message : TPE using 89/89 trials with best loss 1722586.127172\n"
     ]
    },
    {
     "name": "stdout",
     "output_type": "stream",
     "text": [
      "32                                                                                \n",
      " 90%|█████████ | 90/100 [00:12<00:01,  7.46trial/s, best loss: 1722586.1271715628]\n",
      "74                                                                                \n",
      " 91%|█████████ | 91/100 [00:12<00:01,  7.46trial/s, best loss: 1722586.1271715628]\n"
     ]
    },
    {
     "name": "stderr",
     "output_type": "stream",
     "text": [
      "\u001b[2m\u001b[36m(worker pid=927)\u001b[0m 2022-11-24T06:28:16PST : INFO : tpe : suggest : 864 : Message : build_posterior_wrapper took 0.000479 seconds\n",
      "\u001b[2m\u001b[36m(worker pid=927)\u001b[0m 2022-11-24T06:28:16PST : INFO : tpe : suggest : 900 : Message : TPE using 90/90 trials with best loss 1722586.127172\n",
      "\u001b[2m\u001b[36m(worker pid=927)\u001b[0m 2022-11-24T06:28:16PST : INFO : tpe : suggest : 864 : Message : build_posterior_wrapper took 0.000273 seconds\n",
      "\u001b[2m\u001b[36m(worker pid=927)\u001b[0m 2022-11-24T06:28:16PST : INFO : tpe : suggest : 900 : Message : TPE using 91/91 trials with best loss 1722586.127172\n"
     ]
    },
    {
     "name": "stdout",
     "output_type": "stream",
     "text": [
      "41                                                                                \n",
      " 92%|█████████▏| 92/100 [00:13<00:01,  7.11trial/s, best loss: 1722586.1271715628]\n",
      "44                                                                                \n",
      " 93%|█████████▎| 93/100 [00:13<00:00,  7.40trial/s, best loss: 1722586.1271715628]\n"
     ]
    },
    {
     "name": "stderr",
     "output_type": "stream",
     "text": [
      "\u001b[2m\u001b[36m(worker pid=927)\u001b[0m 2022-11-24T06:28:17PST : INFO : tpe : suggest : 864 : Message : build_posterior_wrapper took 0.000287 seconds\n",
      "\u001b[2m\u001b[36m(worker pid=927)\u001b[0m 2022-11-24T06:28:17PST : INFO : tpe : suggest : 900 : Message : TPE using 92/92 trials with best loss 1722586.127172\n",
      "\u001b[2m\u001b[36m(worker pid=927)\u001b[0m 2022-11-24T06:28:17PST : INFO : tpe : suggest : 864 : Message : build_posterior_wrapper took 0.000293 seconds\n",
      "\u001b[2m\u001b[36m(worker pid=927)\u001b[0m 2022-11-24T06:28:17PST : INFO : tpe : suggest : 900 : Message : TPE using 93/93 trials with best loss 1722586.127172\n"
     ]
    },
    {
     "name": "stdout",
     "output_type": "stream",
     "text": [
      "52                                                                                \n",
      " 94%|█████████▍| 94/100 [00:13<00:00,  7.60trial/s, best loss: 1722586.1271715628]\n"
     ]
    },
    {
     "name": "stderr",
     "output_type": "stream",
     "text": [
      "\u001b[2m\u001b[36m(worker pid=927)\u001b[0m 2022-11-24T06:28:17PST : INFO : tpe : suggest : 864 : Message : build_posterior_wrapper took 0.000280 seconds\n",
      "\u001b[2m\u001b[36m(worker pid=927)\u001b[0m 2022-11-24T06:28:17PST : INFO : tpe : suggest : 900 : Message : TPE using 94/94 trials with best loss 1722586.127172\n"
     ]
    },
    {
     "name": "stdout",
     "output_type": "stream",
     "text": [
      "44                                                                                \n",
      " 95%|█████████▌| 95/100 [00:13<00:00,  7.30trial/s, best loss: 1722586.1271715628]\n",
      "61                                                                                \n",
      " 96%|█████████▌| 96/100 [00:13<00:00,  7.30trial/s, best loss: 1722586.1271715628]\n"
     ]
    },
    {
     "name": "stderr",
     "output_type": "stream",
     "text": [
      "\u001b[2m\u001b[36m(worker pid=927)\u001b[0m 2022-11-24T06:28:17PST : INFO : tpe : suggest : 864 : Message : build_posterior_wrapper took 0.000445 seconds\n",
      "\u001b[2m\u001b[36m(worker pid=927)\u001b[0m 2022-11-24T06:28:17PST : INFO : tpe : suggest : 900 : Message : TPE using 95/95 trials with best loss 1722586.127172\n",
      "\u001b[2m\u001b[36m(worker pid=927)\u001b[0m 2022-11-24T06:28:17PST : INFO : tpe : suggest : 864 : Message : build_posterior_wrapper took 0.000293 seconds\n",
      "\u001b[2m\u001b[36m(worker pid=927)\u001b[0m 2022-11-24T06:28:17PST : INFO : tpe : suggest : 900 : Message : TPE using 96/96 trials with best loss 1722586.127172\n"
     ]
    },
    {
     "name": "stdout",
     "output_type": "stream",
     "text": [
      "67                                                                                \n",
      " 97%|█████████▋| 97/100 [00:13<00:00,  6.84trial/s, best loss: 1722586.1271715628]\n",
      "89                                                                                \n",
      " 98%|█████████▊| 98/100 [00:13<00:00,  6.69trial/s, best loss: 1722586.1271715628]\n"
     ]
    },
    {
     "name": "stderr",
     "output_type": "stream",
     "text": [
      "\u001b[2m\u001b[36m(worker pid=927)\u001b[0m 2022-11-24T06:28:17PST : INFO : tpe : suggest : 864 : Message : build_posterior_wrapper took 0.000272 seconds\n",
      "\u001b[2m\u001b[36m(worker pid=927)\u001b[0m 2022-11-24T06:28:17PST : INFO : tpe : suggest : 900 : Message : TPE using 97/97 trials with best loss 1722586.127172\n",
      "\u001b[2m\u001b[36m(worker pid=927)\u001b[0m 2022-11-24T06:28:17PST : INFO : tpe : suggest : 864 : Message : build_posterior_wrapper took 0.000299 seconds\n",
      "\u001b[2m\u001b[36m(worker pid=927)\u001b[0m 2022-11-24T06:28:17PST : INFO : tpe : suggest : 900 : Message : TPE using 98/98 trials with best loss 1722586.127172\n"
     ]
    },
    {
     "name": "stdout",
     "output_type": "stream",
     "text": [
      "81                                                                                \n",
      " 99%|█████████▉| 99/100 [00:14<00:00,  5.68trial/s, best loss: 1722586.1271715628]\n"
     ]
    },
    {
     "name": "stderr",
     "output_type": "stream",
     "text": [
      "\u001b[2m\u001b[36m(worker pid=927)\u001b[0m 2022-11-24T06:28:18PST : INFO : tpe : suggest : 864 : Message : build_posterior_wrapper took 0.000304 seconds\n",
      "\u001b[2m\u001b[36m(worker pid=927)\u001b[0m 2022-11-24T06:28:18PST : INFO : tpe : suggest : 900 : Message : TPE using 99/99 trials with best loss 1722586.127172\n"
     ]
    },
    {
     "name": "stdout",
     "output_type": "stream",
     "text": [
      "100%|██████████| 100/100 [00:14<00:00,  6.98trial/s, best loss: 1722586.1271715628]\n"
     ]
    },
    {
     "name": "stderr",
     "output_type": "stream",
     "text": [
      "\u001b[2m\u001b[36m(worker pid=927)\u001b[0m 2022-11-24T06:28:18PST : INFO : brisk_bagging : refit : 146 : Message : final score :[0.9444604692320172, 0.6965149265364889]\n"
     ]
    },
    {
     "name": "stdout",
     "output_type": "stream",
     "text": [
      "\u001b[2m\u001b[1m\u001b[36m(scheduler +1m3s)\u001b[0m Tip: use `ray status` to view detailed cluster status. To disable these messages, set RAY_SCHEDULER_EVENTS=0.\n",
      "\u001b[2m\u001b[1m\u001b[36m(scheduler +1m3s)\u001b[0m Resized to 11 CPUs.\n"
     ]
    },
    {
     "name": "stderr",
     "output_type": "stream",
     "text": [
      "\u001b[2m\u001b[36m(worker pid=220, ip=10.10.63.163)\u001b[0m 2022-11-24T06:29:23PST : INFO : font_manager : _load_fontmanager : 1633 : Message : generated new fontManager\n"
     ]
    },
    {
     "name": "stdout",
     "output_type": "stream",
     "text": [
      "46                                                     \n",
      "  0%|          | 0/100 [00:00<?, ?trial/s, best loss=?]\n",
      "44                                                                               \n",
      "12                                                                               \n",
      "  2%|▏         | 2/100 [00:00<00:10,  9.73trial/s, best loss: 2036092.7532419767]\n"
     ]
    },
    {
     "name": "stderr",
     "output_type": "stream",
     "text": [
      "\u001b[2m\u001b[36m(worker pid=220, ip=10.10.63.163)\u001b[0m 2022-11-24T06:29:23PST : INFO : brisk_bagging : __discover_model__ : 96 : Message : brisk_xgb2: Starting training for trials:300, n_estimators  100\n",
      "\u001b[2m\u001b[36m(worker pid=220, ip=10.10.63.163)\u001b[0m 2022-11-24T06:29:23PST : INFO : tpe : suggest : 864 : Message : build_posterior_wrapper took 0.000298 seconds\n",
      "\u001b[2m\u001b[36m(worker pid=220, ip=10.10.63.163)\u001b[0m 2022-11-24T06:29:23PST : INFO : tpe : suggest : 900 : Message : TPE using 0 trials\n",
      "\u001b[2m\u001b[36m(worker pid=220, ip=10.10.63.163)\u001b[0m 2022-11-24T06:29:23PST : INFO : tpe : suggest : 864 : Message : build_posterior_wrapper took 0.000277 seconds\n",
      "\u001b[2m\u001b[36m(worker pid=220, ip=10.10.63.163)\u001b[0m 2022-11-24T06:29:23PST : INFO : tpe : suggest : 900 : Message : TPE using 1/1 trials with best loss 2263912.638801\n",
      "\u001b[2m\u001b[36m(worker pid=220, ip=10.10.63.163)\u001b[0m 2022-11-24T06:29:23PST : INFO : tpe : suggest : 864 : Message : build_posterior_wrapper took 0.000303 seconds\n",
      "\u001b[2m\u001b[36m(worker pid=220, ip=10.10.63.163)\u001b[0m 2022-11-24T06:29:23PST : INFO : tpe : suggest : 900 : Message : TPE using 2/2 trials with best loss 2036092.753242\n"
     ]
    },
    {
     "name": "stdout",
     "output_type": "stream",
     "text": [
      "31                                                                               \n",
      "67                                                                               \n",
      "  4%|▍         | 4/100 [00:00<00:06, 13.93trial/s, best loss: 2036092.7532419767]\n"
     ]
    },
    {
     "name": "stderr",
     "output_type": "stream",
     "text": [
      "\u001b[2m\u001b[36m(worker pid=220, ip=10.10.63.163)\u001b[0m 2022-11-24T06:29:23PST : INFO : tpe : suggest : 864 : Message : build_posterior_wrapper took 0.000266 seconds\n",
      "\u001b[2m\u001b[36m(worker pid=220, ip=10.10.63.163)\u001b[0m 2022-11-24T06:29:23PST : INFO : tpe : suggest : 900 : Message : TPE using 3/3 trials with best loss 2036092.753242\n",
      "\u001b[2m\u001b[36m(worker pid=220, ip=10.10.63.163)\u001b[0m 2022-11-24T06:29:23PST : INFO : tpe : suggest : 864 : Message : build_posterior_wrapper took 0.000296 seconds\n",
      "\u001b[2m\u001b[36m(worker pid=220, ip=10.10.63.163)\u001b[0m 2022-11-24T06:29:23PST : INFO : tpe : suggest : 900 : Message : TPE using 4/4 trials with best loss 2036092.753242\n"
     ]
    },
    {
     "name": "stdout",
     "output_type": "stream",
     "text": [
      "91                                                                               \n",
      "  5%|▌         | 5/100 [00:00<00:08, 11.25trial/s, best loss: 2036092.7532419767]\n"
     ]
    },
    {
     "name": "stderr",
     "output_type": "stream",
     "text": [
      "\u001b[2m\u001b[36m(worker pid=220, ip=10.10.63.163)\u001b[0m 2022-11-24T06:29:24PST : INFO : tpe : suggest : 864 : Message : build_posterior_wrapper took 0.000270 seconds\n",
      "\u001b[2m\u001b[36m(worker pid=220, ip=10.10.63.163)\u001b[0m 2022-11-24T06:29:24PST : INFO : tpe : suggest : 900 : Message : TPE using 5/5 trials with best loss 2036092.753242\n"
     ]
    },
    {
     "name": "stdout",
     "output_type": "stream",
     "text": [
      "45                                                                               \n",
      "  6%|▌         | 6/100 [00:00<00:08, 11.25trial/s, best loss: 2036092.7532419767]\n",
      "73                                                                               \n",
      "  7%|▋         | 7/100 [00:00<00:10,  8.83trial/s, best loss: 1918103.2306703539]\n"
     ]
    },
    {
     "name": "stderr",
     "output_type": "stream",
     "text": [
      "\u001b[2m\u001b[36m(worker pid=220, ip=10.10.63.163)\u001b[0m 2022-11-24T06:29:24PST : INFO : tpe : suggest : 864 : Message : build_posterior_wrapper took 0.000269 seconds\n",
      "\u001b[2m\u001b[36m(worker pid=220, ip=10.10.63.163)\u001b[0m 2022-11-24T06:29:24PST : INFO : tpe : suggest : 900 : Message : TPE using 6/6 trials with best loss 2036092.753242\n",
      "\u001b[2m\u001b[36m(worker pid=220, ip=10.10.63.163)\u001b[0m 2022-11-24T06:29:24PST : INFO : tpe : suggest : 864 : Message : build_posterior_wrapper took 0.000356 seconds\n",
      "\u001b[2m\u001b[36m(worker pid=220, ip=10.10.63.163)\u001b[0m 2022-11-24T06:29:24PST : INFO : tpe : suggest : 900 : Message : TPE using 7/7 trials with best loss 1918103.230670\n"
     ]
    },
    {
     "name": "stdout",
     "output_type": "stream",
     "text": [
      "21                                                                               \n",
      "  8%|▊         | 8/100 [00:00<00:11,  8.24trial/s, best loss: 1907170.8616402752]\n",
      "61                                                                               \n",
      "  9%|▉         | 9/100 [00:00<00:11,  8.24trial/s, best loss: 1907170.8616402752]\n"
     ]
    },
    {
     "name": "stderr",
     "output_type": "stream",
     "text": [
      "\u001b[2m\u001b[36m(worker pid=220, ip=10.10.63.163)\u001b[0m 2022-11-24T06:29:24PST : INFO : tpe : suggest : 864 : Message : build_posterior_wrapper took 0.000275 seconds\n",
      "\u001b[2m\u001b[36m(worker pid=220, ip=10.10.63.163)\u001b[0m 2022-11-24T06:29:24PST : INFO : tpe : suggest : 900 : Message : TPE using 8/8 trials with best loss 1907170.861640\n",
      "\u001b[2m\u001b[36m(worker pid=220, ip=10.10.63.163)\u001b[0m 2022-11-24T06:29:24PST : INFO : tpe : suggest : 864 : Message : build_posterior_wrapper took 0.000268 seconds\n",
      "\u001b[2m\u001b[36m(worker pid=220, ip=10.10.63.163)\u001b[0m 2022-11-24T06:29:24PST : INFO : tpe : suggest : 900 : Message : TPE using 9/9 trials with best loss 1907170.861640\n"
     ]
    },
    {
     "name": "stdout",
     "output_type": "stream",
     "text": [
      "30                                                                                \n",
      " 10%|█         | 10/100 [00:01<00:09,  9.31trial/s, best loss: 1907170.8616402752]\n",
      "65                                                                                \n",
      " 11%|█         | 11/100 [00:01<00:09,  9.31trial/s, best loss: 1907170.8616402752]\n"
     ]
    },
    {
     "name": "stderr",
     "output_type": "stream",
     "text": [
      "\u001b[2m\u001b[36m(worker pid=220, ip=10.10.63.163)\u001b[0m 2022-11-24T06:29:24PST : INFO : tpe : suggest : 864 : Message : build_posterior_wrapper took 0.000277 seconds\n",
      "\u001b[2m\u001b[36m(worker pid=220, ip=10.10.63.163)\u001b[0m 2022-11-24T06:29:24PST : INFO : tpe : suggest : 900 : Message : TPE using 10/10 trials with best loss 1907170.861640\n",
      "\u001b[2m\u001b[36m(worker pid=220, ip=10.10.63.163)\u001b[0m 2022-11-24T06:29:24PST : INFO : tpe : suggest : 864 : Message : build_posterior_wrapper took 0.000286 seconds\n",
      "\u001b[2m\u001b[36m(worker pid=220, ip=10.10.63.163)\u001b[0m 2022-11-24T06:29:24PST : INFO : tpe : suggest : 900 : Message : TPE using 11/11 trials with best loss 1907170.861640\n"
     ]
    },
    {
     "name": "stdout",
     "output_type": "stream",
     "text": [
      "68                                                                                \n",
      " 12%|█▏        | 12/100 [00:01<00:09,  9.51trial/s, best loss: 1907170.8616402752]\n",
      "13                                                                                \n",
      " 13%|█▎        | 13/100 [00:01<00:09,  8.91trial/s, best loss: 1907170.8616402752]\n"
     ]
    },
    {
     "name": "stderr",
     "output_type": "stream",
     "text": [
      "\u001b[2m\u001b[36m(worker pid=220, ip=10.10.63.163)\u001b[0m 2022-11-24T06:29:24PST : INFO : tpe : suggest : 864 : Message : build_posterior_wrapper took 0.000271 seconds\n",
      "\u001b[2m\u001b[36m(worker pid=220, ip=10.10.63.163)\u001b[0m 2022-11-24T06:29:24PST : INFO : tpe : suggest : 900 : Message : TPE using 12/12 trials with best loss 1907170.861640\n",
      "\u001b[2m\u001b[36m(worker pid=220, ip=10.10.63.163)\u001b[0m 2022-11-24T06:29:25PST : INFO : tpe : suggest : 864 : Message : build_posterior_wrapper took 0.000301 seconds\n",
      "\u001b[2m\u001b[36m(worker pid=220, ip=10.10.63.163)\u001b[0m 2022-11-24T06:29:25PST : INFO : tpe : suggest : 900 : Message : TPE using 13/13 trials with best loss 1907170.861640\n"
     ]
    },
    {
     "name": "stdout",
     "output_type": "stream",
     "text": [
      "78                                                                                \n",
      " 14%|█▍        | 14/100 [00:01<00:09,  8.91trial/s, best loss: 1907170.8616402752]\n",
      "17                                                                                \n",
      "63                                                                                \n",
      " 16%|█▌        | 16/100 [00:01<00:08,  9.47trial/s, best loss: 1907170.8616402752]\n"
     ]
    },
    {
     "name": "stderr",
     "output_type": "stream",
     "text": [
      "\u001b[2m\u001b[36m(worker pid=220, ip=10.10.63.163)\u001b[0m 2022-11-24T06:29:25PST : INFO : tpe : suggest : 864 : Message : build_posterior_wrapper took 0.000949 seconds\n",
      "\u001b[2m\u001b[36m(worker pid=220, ip=10.10.63.163)\u001b[0m 2022-11-24T06:29:25PST : INFO : tpe : suggest : 900 : Message : TPE using 14/14 trials with best loss 1907170.861640\n",
      "\u001b[2m\u001b[36m(worker pid=220, ip=10.10.63.163)\u001b[0m 2022-11-24T06:29:25PST : INFO : tpe : suggest : 864 : Message : build_posterior_wrapper took 0.000266 seconds\n",
      "\u001b[2m\u001b[36m(worker pid=220, ip=10.10.63.163)\u001b[0m 2022-11-24T06:29:25PST : INFO : tpe : suggest : 900 : Message : TPE using 15/15 trials with best loss 1907170.861640\n",
      "\u001b[2m\u001b[36m(worker pid=220, ip=10.10.63.163)\u001b[0m 2022-11-24T06:29:25PST : INFO : tpe : suggest : 864 : Message : build_posterior_wrapper took 0.000267 seconds\n",
      "\u001b[2m\u001b[36m(worker pid=220, ip=10.10.63.163)\u001b[0m 2022-11-24T06:29:25PST : INFO : tpe : suggest : 900 : Message : TPE using 16/16 trials with best loss 1907170.861640\n"
     ]
    },
    {
     "name": "stdout",
     "output_type": "stream",
     "text": [
      "55                                                                                \n",
      " 17%|█▋        | 17/100 [00:01<00:08, 10.18trial/s, best loss: 1907170.8616402752]\n",
      "31                                                                                \n",
      "81                                                                                \n",
      " 19%|█▉        | 19/100 [00:01<00:07, 10.53trial/s, best loss: 1907170.8616402752]\n"
     ]
    },
    {
     "name": "stderr",
     "output_type": "stream",
     "text": [
      "\u001b[2m\u001b[36m(worker pid=220, ip=10.10.63.163)\u001b[0m 2022-11-24T06:29:25PST : INFO : tpe : suggest : 864 : Message : build_posterior_wrapper took 0.000269 seconds\n",
      "\u001b[2m\u001b[36m(worker pid=220, ip=10.10.63.163)\u001b[0m 2022-11-24T06:29:25PST : INFO : tpe : suggest : 900 : Message : TPE using 17/17 trials with best loss 1907170.861640\n",
      "\u001b[2m\u001b[36m(worker pid=220, ip=10.10.63.163)\u001b[0m 2022-11-24T06:29:25PST : INFO : tpe : suggest : 864 : Message : build_posterior_wrapper took 0.000272 seconds\n",
      "\u001b[2m\u001b[36m(worker pid=220, ip=10.10.63.163)\u001b[0m 2022-11-24T06:29:25PST : INFO : tpe : suggest : 900 : Message : TPE using 18/18 trials with best loss 1907170.861640\n",
      "\u001b[2m\u001b[36m(worker pid=220, ip=10.10.63.163)\u001b[0m 2022-11-24T06:29:25PST : INFO : tpe : suggest : 864 : Message : build_posterior_wrapper took 0.000265 seconds\n",
      "\u001b[2m\u001b[36m(worker pid=220, ip=10.10.63.163)\u001b[0m 2022-11-24T06:29:25PST : INFO : tpe : suggest : 900 : Message : TPE using 19/19 trials with best loss 1907170.861640\n",
      "\u001b[2m\u001b[36m(worker pid=220, ip=10.10.63.163)\u001b[0m 2022-11-24T06:29:25PST : INFO : tpe : suggest : 864 : Message : build_posterior_wrapper took 0.000275 seconds\n",
      "\u001b[2m\u001b[36m(worker pid=220, ip=10.10.63.163)\u001b[0m 2022-11-24T06:29:25PST : INFO : tpe : suggest : 900 : Message : TPE using 20/20 trials with best loss 1907170.861640\n"
     ]
    },
    {
     "name": "stdout",
     "output_type": "stream",
     "text": [
      "96                                                                                \n",
      " 20%|██        | 20/100 [00:02<00:07, 10.53trial/s, best loss: 1907170.8616402752]\n",
      "45                                                                                \n",
      " 21%|██        | 21/100 [00:02<00:10,  7.78trial/s, best loss: 1907170.8616402752]\n"
     ]
    },
    {
     "name": "stderr",
     "output_type": "stream",
     "text": [
      "\u001b[2m\u001b[36m(worker pid=220, ip=10.10.63.163)\u001b[0m 2022-11-24T06:29:25PST : INFO : tpe : suggest : 864 : Message : build_posterior_wrapper took 0.000270 seconds\n",
      "\u001b[2m\u001b[36m(worker pid=220, ip=10.10.63.163)\u001b[0m 2022-11-24T06:29:25PST : INFO : tpe : suggest : 900 : Message : TPE using 21/21 trials with best loss 1907170.861640\n",
      "\u001b[2m\u001b[36m(worker pid=220, ip=10.10.63.163)\u001b[0m 2022-11-24T06:29:26PST : INFO : tpe : suggest : 864 : Message : build_posterior_wrapper took 0.000283 seconds\n",
      "\u001b[2m\u001b[36m(worker pid=220, ip=10.10.63.163)\u001b[0m 2022-11-24T06:29:26PST : INFO : tpe : suggest : 900 : Message : TPE using 22/22 trials with best loss 1907170.861640\n"
     ]
    },
    {
     "name": "stdout",
     "output_type": "stream",
     "text": [
      "78                                                                                \n",
      " 22%|██▏       | 22/100 [00:02<00:10,  7.78trial/s, best loss: 1907170.8616402752]\n",
      "51                                                                                \n",
      " 23%|██▎       | 23/100 [00:02<00:09,  7.81trial/s, best loss: 1907170.8616402752]\n",
      "37                                                                                \n",
      " 24%|██▍       | 24/100 [00:02<00:09,  8.07trial/s, best loss: 1907170.8616402752]\n"
     ]
    },
    {
     "name": "stderr",
     "output_type": "stream",
     "text": [
      "\u001b[2m\u001b[36m(worker pid=220, ip=10.10.63.163)\u001b[0m 2022-11-24T06:29:26PST : INFO : tpe : suggest : 864 : Message : build_posterior_wrapper took 0.000312 seconds\n",
      "\u001b[2m\u001b[36m(worker pid=220, ip=10.10.63.163)\u001b[0m 2022-11-24T06:29:26PST : INFO : tpe : suggest : 900 : Message : TPE using 23/23 trials with best loss 1907170.861640\n",
      "\u001b[2m\u001b[36m(worker pid=220, ip=10.10.63.163)\u001b[0m 2022-11-24T06:29:26PST : INFO : tpe : suggest : 864 : Message : build_posterior_wrapper took 0.000264 seconds\n",
      "\u001b[2m\u001b[36m(worker pid=220, ip=10.10.63.163)\u001b[0m 2022-11-24T06:29:26PST : INFO : tpe : suggest : 900 : Message : TPE using 24/24 trials with best loss 1907170.861640\n"
     ]
    },
    {
     "name": "stdout",
     "output_type": "stream",
     "text": [
      "55                                                                                \n",
      " 25%|██▌       | 25/100 [00:02<00:09,  8.07trial/s, best loss: 1907170.8616402752]\n",
      "86                                                                                \n",
      " 26%|██▌       | 26/100 [00:02<00:08,  8.74trial/s, best loss: 1907170.8616402752]\n"
     ]
    },
    {
     "name": "stderr",
     "output_type": "stream",
     "text": [
      "\u001b[2m\u001b[36m(worker pid=220, ip=10.10.63.163)\u001b[0m 2022-11-24T06:29:26PST : INFO : tpe : suggest : 864 : Message : build_posterior_wrapper took 0.000266 seconds\n",
      "\u001b[2m\u001b[36m(worker pid=220, ip=10.10.63.163)\u001b[0m 2022-11-24T06:29:26PST : INFO : tpe : suggest : 900 : Message : TPE using 25/25 trials with best loss 1907170.861640\n",
      "\u001b[2m\u001b[36m(worker pid=220, ip=10.10.63.163)\u001b[0m 2022-11-24T06:29:26PST : INFO : tpe : suggest : 864 : Message : build_posterior_wrapper took 0.000271 seconds\n",
      "\u001b[2m\u001b[36m(worker pid=220, ip=10.10.63.163)\u001b[0m 2022-11-24T06:29:26PST : INFO : tpe : suggest : 900 : Message : TPE using 26/26 trials with best loss 1907170.861640\n"
     ]
    },
    {
     "name": "stdout",
     "output_type": "stream",
     "text": [
      "75                                                                                \n",
      " 27%|██▋       | 27/100 [00:03<00:09,  7.93trial/s, best loss: 1907170.8616402752]\n",
      "73                                                                                \n",
      " 28%|██▊       | 28/100 [00:03<00:09,  7.49trial/s, best loss: 1907170.8616402752]\n"
     ]
    },
    {
     "name": "stderr",
     "output_type": "stream",
     "text": [
      "\u001b[2m\u001b[36m(worker pid=220, ip=10.10.63.163)\u001b[0m 2022-11-24T06:29:26PST : INFO : tpe : suggest : 864 : Message : build_posterior_wrapper took 0.000260 seconds\n",
      "\u001b[2m\u001b[36m(worker pid=220, ip=10.10.63.163)\u001b[0m 2022-11-24T06:29:26PST : INFO : tpe : suggest : 900 : Message : TPE using 27/27 trials with best loss 1907170.861640\n",
      "\u001b[2m\u001b[36m(worker pid=220, ip=10.10.63.163)\u001b[0m 2022-11-24T06:29:26PST : INFO : tpe : suggest : 864 : Message : build_posterior_wrapper took 0.000447 seconds\n",
      "\u001b[2m\u001b[36m(worker pid=220, ip=10.10.63.163)\u001b[0m 2022-11-24T06:29:26PST : INFO : tpe : suggest : 900 : Message : TPE using 28/28 trials with best loss 1907170.861640\n"
     ]
    },
    {
     "name": "stdout",
     "output_type": "stream",
     "text": [
      "49                                                                                \n",
      " 29%|██▉       | 29/100 [00:03<00:09,  7.20trial/s, best loss: 1907170.8616402752]\n",
      "39                                                                                \n",
      " 30%|███       | 30/100 [00:03<00:09,  7.66trial/s, best loss: 1907170.8616402752]\n"
     ]
    },
    {
     "name": "stderr",
     "output_type": "stream",
     "text": [
      "\u001b[2m\u001b[36m(worker pid=220, ip=10.10.63.163)\u001b[0m 2022-11-24T06:29:26PST : INFO : tpe : suggest : 864 : Message : build_posterior_wrapper took 0.000270 seconds\n",
      "\u001b[2m\u001b[36m(worker pid=220, ip=10.10.63.163)\u001b[0m 2022-11-24T06:29:26PST : INFO : tpe : suggest : 900 : Message : TPE using 29/29 trials with best loss 1907170.861640\n",
      "\u001b[2m\u001b[36m(worker pid=220, ip=10.10.63.163)\u001b[0m 2022-11-24T06:29:27PST : INFO : tpe : suggest : 864 : Message : build_posterior_wrapper took 0.000324 seconds\n",
      "\u001b[2m\u001b[36m(worker pid=220, ip=10.10.63.163)\u001b[0m 2022-11-24T06:29:27PST : INFO : tpe : suggest : 900 : Message : TPE using 30/30 trials with best loss 1907170.861640\n"
     ]
    },
    {
     "name": "stdout",
     "output_type": "stream",
     "text": [
      "37                                                                                \n",
      "39                                                                                \n",
      " 32%|███▏      | 32/100 [00:03<00:07,  9.12trial/s, best loss: 1866658.4935641696]\n",
      "58                                                                                \n",
      " 33%|███▎      | 33/100 [00:03<00:07,  9.12trial/s, best loss: 1866658.4935641696]\n"
     ]
    },
    {
     "name": "stderr",
     "output_type": "stream",
     "text": [
      "\u001b[2m\u001b[36m(worker pid=220, ip=10.10.63.163)\u001b[0m 2022-11-24T06:29:27PST : INFO : tpe : suggest : 864 : Message : build_posterior_wrapper took 0.000262 seconds\n",
      "\u001b[2m\u001b[36m(worker pid=220, ip=10.10.63.163)\u001b[0m 2022-11-24T06:29:27PST : INFO : tpe : suggest : 900 : Message : TPE using 31/31 trials with best loss 1866658.493564\n",
      "\u001b[2m\u001b[36m(worker pid=220, ip=10.10.63.163)\u001b[0m 2022-11-24T06:29:27PST : INFO : tpe : suggest : 864 : Message : build_posterior_wrapper took 0.000263 seconds\n",
      "\u001b[2m\u001b[36m(worker pid=220, ip=10.10.63.163)\u001b[0m 2022-11-24T06:29:27PST : INFO : tpe : suggest : 900 : Message : TPE using 32/32 trials with best loss 1866658.493564\n",
      "\u001b[2m\u001b[36m(worker pid=220, ip=10.10.63.163)\u001b[0m 2022-11-24T06:29:27PST : INFO : tpe : suggest : 864 : Message : build_posterior_wrapper took 0.000280 seconds\n",
      "\u001b[2m\u001b[36m(worker pid=220, ip=10.10.63.163)\u001b[0m 2022-11-24T06:29:27PST : INFO : tpe : suggest : 900 : Message : TPE using 33/33 trials with best loss 1866658.493564\n"
     ]
    },
    {
     "name": "stdout",
     "output_type": "stream",
     "text": [
      "22                                                                                \n",
      " 34%|███▍      | 34/100 [00:03<00:06,  9.49trial/s, best loss: 1866658.4935641696]\n",
      "86                                                                                \n",
      " 35%|███▌      | 35/100 [00:03<00:06,  9.49trial/s, best loss: 1866658.4935641696]\n"
     ]
    },
    {
     "name": "stderr",
     "output_type": "stream",
     "text": [
      "\u001b[2m\u001b[36m(worker pid=220, ip=10.10.63.163)\u001b[0m 2022-11-24T06:29:27PST : INFO : tpe : suggest : 864 : Message : build_posterior_wrapper took 0.000266 seconds\n",
      "\u001b[2m\u001b[36m(worker pid=220, ip=10.10.63.163)\u001b[0m 2022-11-24T06:29:27PST : INFO : tpe : suggest : 900 : Message : TPE using 34/34 trials with best loss 1866658.493564\n",
      "\u001b[2m\u001b[36m(worker pid=220, ip=10.10.63.163)\u001b[0m 2022-11-24T06:29:27PST : INFO : tpe : suggest : 864 : Message : build_posterior_wrapper took 0.000299 seconds\n",
      "\u001b[2m\u001b[36m(worker pid=220, ip=10.10.63.163)\u001b[0m 2022-11-24T06:29:27PST : INFO : tpe : suggest : 900 : Message : TPE using 35/35 trials with best loss 1866658.493564\n"
     ]
    },
    {
     "name": "stdout",
     "output_type": "stream",
     "text": [
      "99                                                                                \n",
      " 36%|███▌      | 36/100 [00:04<00:06,  9.38trial/s, best loss: 1866658.4935641696]\n"
     ]
    },
    {
     "name": "stderr",
     "output_type": "stream",
     "text": [
      "\u001b[2m\u001b[36m(worker pid=220, ip=10.10.63.163)\u001b[0m 2022-11-24T06:29:27PST : INFO : tpe : suggest : 864 : Message : build_posterior_wrapper took 0.000269 seconds\n",
      "\u001b[2m\u001b[36m(worker pid=220, ip=10.10.63.163)\u001b[0m 2022-11-24T06:29:27PST : INFO : tpe : suggest : 900 : Message : TPE using 36/36 trials with best loss 1866658.493564\n"
     ]
    },
    {
     "name": "stdout",
     "output_type": "stream",
     "text": [
      "71                                                                                \n",
      " 37%|███▋      | 37/100 [00:04<00:07,  8.03trial/s, best loss: 1866658.4935641696]\n",
      "41                                                                                \n",
      " 38%|███▊      | 38/100 [00:04<00:07,  7.82trial/s, best loss: 1866658.4935641696]\n"
     ]
    },
    {
     "name": "stderr",
     "output_type": "stream",
     "text": [
      "\u001b[2m\u001b[36m(worker pid=220, ip=10.10.63.163)\u001b[0m 2022-11-24T06:29:27PST : INFO : tpe : suggest : 864 : Message : build_posterior_wrapper took 0.000266 seconds\n",
      "\u001b[2m\u001b[36m(worker pid=220, ip=10.10.63.163)\u001b[0m 2022-11-24T06:29:27PST : INFO : tpe : suggest : 900 : Message : TPE using 37/37 trials with best loss 1866658.493564\n",
      "\u001b[2m\u001b[36m(worker pid=220, ip=10.10.63.163)\u001b[0m 2022-11-24T06:29:28PST : INFO : tpe : suggest : 864 : Message : build_posterior_wrapper took 0.000278 seconds\n",
      "\u001b[2m\u001b[36m(worker pid=220, ip=10.10.63.163)\u001b[0m 2022-11-24T06:29:28PST : INFO : tpe : suggest : 900 : Message : TPE using 38/38 trials with best loss 1866658.493564\n"
     ]
    },
    {
     "name": "stdout",
     "output_type": "stream",
     "text": [
      "25                                                                                \n",
      "28                                                                                \n",
      " 40%|████      | 40/100 [00:04<00:06,  9.47trial/s, best loss: 1866658.4935641696]\n",
      "11                                                                                \n",
      "25                                                                                \n",
      " 43%|████▎     | 43/100 [00:04<00:04, 12.64trial/s, best loss: 1866658.4935641696]\n",
      "34                                                                                \n",
      " 43%|████▎     | 43/100 [00:04<00:04, 12.64trial/s, best loss: 1866658.4935641696]\n"
     ]
    },
    {
     "name": "stderr",
     "output_type": "stream",
     "text": [
      "\u001b[2m\u001b[36m(worker pid=220, ip=10.10.63.163)\u001b[0m 2022-11-24T06:29:28PST : INFO : tpe : suggest : 864 : Message : build_posterior_wrapper took 0.000261 seconds\n",
      "\u001b[2m\u001b[36m(worker pid=220, ip=10.10.63.163)\u001b[0m 2022-11-24T06:29:28PST : INFO : tpe : suggest : 900 : Message : TPE using 39/39 trials with best loss 1866658.493564\n",
      "\u001b[2m\u001b[36m(worker pid=220, ip=10.10.63.163)\u001b[0m 2022-11-24T06:29:28PST : INFO : tpe : suggest : 864 : Message : build_posterior_wrapper took 0.000256 seconds\n",
      "\u001b[2m\u001b[36m(worker pid=220, ip=10.10.63.163)\u001b[0m 2022-11-24T06:29:28PST : INFO : tpe : suggest : 900 : Message : TPE using 40/40 trials with best loss 1866658.493564\n",
      "\u001b[2m\u001b[36m(worker pid=220, ip=10.10.63.163)\u001b[0m 2022-11-24T06:29:28PST : INFO : tpe : suggest : 864 : Message : build_posterior_wrapper took 0.000257 seconds\n",
      "\u001b[2m\u001b[36m(worker pid=220, ip=10.10.63.163)\u001b[0m 2022-11-24T06:29:28PST : INFO : tpe : suggest : 900 : Message : TPE using 41/41 trials with best loss 1866658.493564\n",
      "\u001b[2m\u001b[36m(worker pid=220, ip=10.10.63.163)\u001b[0m 2022-11-24T06:29:28PST : INFO : tpe : suggest : 864 : Message : build_posterior_wrapper took 0.000246 seconds\n",
      "\u001b[2m\u001b[36m(worker pid=220, ip=10.10.63.163)\u001b[0m 2022-11-24T06:29:28PST : INFO : tpe : suggest : 900 : Message : TPE using 42/42 trials with best loss 1866658.493564\n",
      "\u001b[2m\u001b[36m(worker pid=220, ip=10.10.63.163)\u001b[0m 2022-11-24T06:29:28PST : INFO : tpe : suggest : 864 : Message : build_posterior_wrapper took 0.000257 seconds\n",
      "\u001b[2m\u001b[36m(worker pid=220, ip=10.10.63.163)\u001b[0m 2022-11-24T06:29:28PST : INFO : tpe : suggest : 900 : Message : TPE using 43/43 trials with best loss 1866658.493564\n"
     ]
    },
    {
     "name": "stdout",
     "output_type": "stream",
     "text": [
      "19                                                                                \n",
      " 44%|████▍     | 44/100 [00:04<00:04, 12.64trial/s, best loss: 1767843.8659135439]\n",
      "33                                                                                \n",
      "48                                                                                \n",
      " 46%|████▌     | 46/100 [00:04<00:03, 13.78trial/s, best loss: 1767843.8659135439]\n"
     ]
    },
    {
     "name": "stderr",
     "output_type": "stream",
     "text": [
      "\u001b[2m\u001b[36m(worker pid=220, ip=10.10.63.163)\u001b[0m 2022-11-24T06:29:28PST : INFO : tpe : suggest : 864 : Message : build_posterior_wrapper took 0.000247 seconds\n",
      "\u001b[2m\u001b[36m(worker pid=220, ip=10.10.63.163)\u001b[0m 2022-11-24T06:29:28PST : INFO : tpe : suggest : 900 : Message : TPE using 44/44 trials with best loss 1767843.865914\n",
      "\u001b[2m\u001b[36m(worker pid=220, ip=10.10.63.163)\u001b[0m 2022-11-24T06:29:28PST : INFO : tpe : suggest : 864 : Message : build_posterior_wrapper took 0.000253 seconds\n",
      "\u001b[2m\u001b[36m(worker pid=220, ip=10.10.63.163)\u001b[0m 2022-11-24T06:29:28PST : INFO : tpe : suggest : 900 : Message : TPE using 45/45 trials with best loss 1767843.865914\n",
      "\u001b[2m\u001b[36m(worker pid=220, ip=10.10.63.163)\u001b[0m 2022-11-24T06:29:28PST : INFO : tpe : suggest : 864 : Message : build_posterior_wrapper took 0.000268 seconds\n",
      "\u001b[2m\u001b[36m(worker pid=220, ip=10.10.63.163)\u001b[0m 2022-11-24T06:29:28PST : INFO : tpe : suggest : 900 : Message : TPE using 46/46 trials with best loss 1767843.865914\n"
     ]
    },
    {
     "name": "stdout",
     "output_type": "stream",
     "text": [
      "14                                                                                \n",
      " 47%|████▋     | 47/100 [00:04<00:04, 13.15trial/s, best loss: 1767843.8659135439]\n",
      "33                                                                                \n",
      "42                                                                                \n",
      " 49%|████▉     | 49/100 [00:05<00:03, 14.60trial/s, best loss: 1767843.8659135439]\n"
     ]
    },
    {
     "name": "stderr",
     "output_type": "stream",
     "text": [
      "\u001b[2m\u001b[36m(worker pid=220, ip=10.10.63.163)\u001b[0m 2022-11-24T06:29:28PST : INFO : tpe : suggest : 864 : Message : build_posterior_wrapper took 0.000267 seconds\n",
      "\u001b[2m\u001b[36m(worker pid=220, ip=10.10.63.163)\u001b[0m 2022-11-24T06:29:28PST : INFO : tpe : suggest : 900 : Message : TPE using 47/47 trials with best loss 1767843.865914\n",
      "\u001b[2m\u001b[36m(worker pid=220, ip=10.10.63.163)\u001b[0m 2022-11-24T06:29:28PST : INFO : tpe : suggest : 864 : Message : build_posterior_wrapper took 0.000272 seconds\n",
      "\u001b[2m\u001b[36m(worker pid=220, ip=10.10.63.163)\u001b[0m 2022-11-24T06:29:28PST : INFO : tpe : suggest : 900 : Message : TPE using 48/48 trials with best loss 1767843.865914\n",
      "\u001b[2m\u001b[36m(worker pid=220, ip=10.10.63.163)\u001b[0m 2022-11-24T06:29:28PST : INFO : tpe : suggest : 864 : Message : build_posterior_wrapper took 0.000253 seconds\n",
      "\u001b[2m\u001b[36m(worker pid=220, ip=10.10.63.163)\u001b[0m 2022-11-24T06:29:28PST : INFO : tpe : suggest : 900 : Message : TPE using 49/49 trials with best loss 1767843.865914\n"
     ]
    },
    {
     "name": "stdout",
     "output_type": "stream",
     "text": [
      "61                                                                                \n",
      " 50%|█████     | 50/100 [00:05<00:03, 14.60trial/s, best loss: 1767843.8659135439]\n",
      "51                                                                                \n",
      " 51%|█████     | 51/100 [00:05<00:03, 12.64trial/s, best loss: 1767843.8659135439]\n"
     ]
    },
    {
     "name": "stderr",
     "output_type": "stream",
     "text": [
      "\u001b[2m\u001b[36m(worker pid=220, ip=10.10.63.163)\u001b[0m 2022-11-24T06:29:28PST : INFO : tpe : suggest : 864 : Message : build_posterior_wrapper took 0.000331 seconds\n",
      "\u001b[2m\u001b[36m(worker pid=220, ip=10.10.63.163)\u001b[0m 2022-11-24T06:29:28PST : INFO : tpe : suggest : 900 : Message : TPE using 50/50 trials with best loss 1767843.865914\n",
      "\u001b[2m\u001b[36m(worker pid=220, ip=10.10.63.163)\u001b[0m 2022-11-24T06:29:28PST : INFO : tpe : suggest : 864 : Message : build_posterior_wrapper took 0.000256 seconds\n",
      "\u001b[2m\u001b[36m(worker pid=220, ip=10.10.63.163)\u001b[0m 2022-11-24T06:29:28PST : INFO : tpe : suggest : 900 : Message : TPE using 51/51 trials with best loss 1767843.865914\n"
     ]
    },
    {
     "name": "stdout",
     "output_type": "stream",
     "text": [
      "16                                                                                \n",
      " 52%|█████▏    | 52/100 [00:05<00:03, 12.64trial/s, best loss: 1767843.8659135439]\n",
      "34                                                                                \n",
      "23                                                                                \n",
      " 54%|█████▍    | 54/100 [00:05<00:03, 13.03trial/s, best loss: 1767843.8659135439]\n"
     ]
    },
    {
     "name": "stderr",
     "output_type": "stream",
     "text": [
      "\u001b[2m\u001b[36m(worker pid=220, ip=10.10.63.163)\u001b[0m 2022-11-24T06:29:28PST : INFO : tpe : suggest : 864 : Message : build_posterior_wrapper took 0.000277 seconds\n",
      "\u001b[2m\u001b[36m(worker pid=220, ip=10.10.63.163)\u001b[0m 2022-11-24T06:29:28PST : INFO : tpe : suggest : 900 : Message : TPE using 52/52 trials with best loss 1767843.865914\n",
      "\u001b[2m\u001b[36m(worker pid=220, ip=10.10.63.163)\u001b[0m 2022-11-24T06:29:29PST : INFO : tpe : suggest : 864 : Message : build_posterior_wrapper took 0.000248 seconds\n",
      "\u001b[2m\u001b[36m(worker pid=220, ip=10.10.63.163)\u001b[0m 2022-11-24T06:29:29PST : INFO : tpe : suggest : 900 : Message : TPE using 53/53 trials with best loss 1767843.865914\n",
      "\u001b[2m\u001b[36m(worker pid=220, ip=10.10.63.163)\u001b[0m 2022-11-24T06:29:29PST : INFO : tpe : suggest : 864 : Message : build_posterior_wrapper took 0.000250 seconds\n",
      "\u001b[2m\u001b[36m(worker pid=220, ip=10.10.63.163)\u001b[0m 2022-11-24T06:29:29PST : INFO : tpe : suggest : 900 : Message : TPE using 54/54 trials with best loss 1767843.865914\n"
     ]
    },
    {
     "name": "stdout",
     "output_type": "stream",
     "text": [
      "10                                                                                \n",
      "65                                                                                \n",
      " 56%|█████▌    | 56/100 [00:05<00:03, 13.85trial/s, best loss: 1767843.8659135439]\n",
      "29                                                                                \n",
      " 57%|█████▋    | 57/100 [00:05<00:03, 13.54trial/s, best loss: 1767843.8659135439]\n"
     ]
    },
    {
     "name": "stderr",
     "output_type": "stream",
     "text": [
      "\u001b[2m\u001b[36m(worker pid=220, ip=10.10.63.163)\u001b[0m 2022-11-24T06:29:29PST : INFO : tpe : suggest : 864 : Message : build_posterior_wrapper took 0.000240 seconds\n",
      "\u001b[2m\u001b[36m(worker pid=220, ip=10.10.63.163)\u001b[0m 2022-11-24T06:29:29PST : INFO : tpe : suggest : 900 : Message : TPE using 55/55 trials with best loss 1767843.865914\n",
      "\u001b[2m\u001b[36m(worker pid=220, ip=10.10.63.163)\u001b[0m 2022-11-24T06:29:29PST : INFO : tpe : suggest : 864 : Message : build_posterior_wrapper took 0.000239 seconds\n",
      "\u001b[2m\u001b[36m(worker pid=220, ip=10.10.63.163)\u001b[0m 2022-11-24T06:29:29PST : INFO : tpe : suggest : 900 : Message : TPE using 56/56 trials with best loss 1767843.865914\n",
      "\u001b[2m\u001b[36m(worker pid=220, ip=10.10.63.163)\u001b[0m 2022-11-24T06:29:29PST : INFO : tpe : suggest : 864 : Message : build_posterior_wrapper took 0.000244 seconds\n",
      "\u001b[2m\u001b[36m(worker pid=220, ip=10.10.63.163)\u001b[0m 2022-11-24T06:29:29PST : INFO : tpe : suggest : 900 : Message : TPE using 57/57 trials with best loss 1767843.865914\n"
     ]
    },
    {
     "name": "stdout",
     "output_type": "stream",
     "text": [
      "41                                                                                \n",
      " 58%|█████▊    | 58/100 [00:05<00:03, 13.54trial/s, best loss: 1767843.8659135439]\n",
      "46                                                                                \n",
      " 59%|█████▉    | 59/100 [00:05<00:03, 13.61trial/s, best loss: 1767843.8659135439]\n"
     ]
    },
    {
     "name": "stderr",
     "output_type": "stream",
     "text": [
      "\u001b[2m\u001b[36m(worker pid=220, ip=10.10.63.163)\u001b[0m 2022-11-24T06:29:29PST : INFO : tpe : suggest : 864 : Message : build_posterior_wrapper took 0.000245 seconds\n",
      "\u001b[2m\u001b[36m(worker pid=220, ip=10.10.63.163)\u001b[0m 2022-11-24T06:29:29PST : INFO : tpe : suggest : 900 : Message : TPE using 58/58 trials with best loss 1767843.865914\n",
      "\u001b[2m\u001b[36m(worker pid=220, ip=10.10.63.163)\u001b[0m 2022-11-24T06:29:29PST : INFO : tpe : suggest : 864 : Message : build_posterior_wrapper took 0.000244 seconds\n",
      "\u001b[2m\u001b[36m(worker pid=220, ip=10.10.63.163)\u001b[0m 2022-11-24T06:29:29PST : INFO : tpe : suggest : 900 : Message : TPE using 59/59 trials with best loss 1767843.865914\n"
     ]
    },
    {
     "name": "stdout",
     "output_type": "stream",
     "text": [
      "59                                                                                \n",
      " 60%|██████    | 60/100 [00:05<00:02, 13.61trial/s, best loss: 1767843.8659135439]\n",
      "35                                                                                \n",
      " 61%|██████    | 61/100 [00:06<00:03, 12.03trial/s, best loss: 1767843.8659135439]\n"
     ]
    },
    {
     "name": "stderr",
     "output_type": "stream",
     "text": [
      "\u001b[2m\u001b[36m(worker pid=220, ip=10.10.63.163)\u001b[0m 2022-11-24T06:29:29PST : INFO : tpe : suggest : 864 : Message : build_posterior_wrapper took 0.000260 seconds\n",
      "\u001b[2m\u001b[36m(worker pid=220, ip=10.10.63.163)\u001b[0m 2022-11-24T06:29:29PST : INFO : tpe : suggest : 900 : Message : TPE using 60/60 trials with best loss 1767843.865914\n",
      "\u001b[2m\u001b[36m(worker pid=220, ip=10.10.63.163)\u001b[0m 2022-11-24T06:29:29PST : INFO : tpe : suggest : 864 : Message : build_posterior_wrapper took 0.000257 seconds\n",
      "\u001b[2m\u001b[36m(worker pid=220, ip=10.10.63.163)\u001b[0m 2022-11-24T06:29:29PST : INFO : tpe : suggest : 900 : Message : TPE using 61/61 trials with best loss 1767843.865914\n"
     ]
    },
    {
     "name": "stdout",
     "output_type": "stream",
     "text": [
      "19                                                                                \n",
      "56                                                                                \n",
      " 63%|██████▎   | 63/100 [00:06<00:02, 13.20trial/s, best loss: 1767843.8659135439]\n",
      "52                                                                                \n",
      " 64%|██████▍   | 64/100 [00:06<00:02, 13.20trial/s, best loss: 1767843.8659135439]\n"
     ]
    },
    {
     "name": "stderr",
     "output_type": "stream",
     "text": [
      "\u001b[2m\u001b[36m(worker pid=220, ip=10.10.63.163)\u001b[0m 2022-11-24T06:29:29PST : INFO : tpe : suggest : 864 : Message : build_posterior_wrapper took 0.000252 seconds\n",
      "\u001b[2m\u001b[36m(worker pid=220, ip=10.10.63.163)\u001b[0m 2022-11-24T06:29:29PST : INFO : tpe : suggest : 900 : Message : TPE using 62/62 trials with best loss 1767843.865914\n",
      "\u001b[2m\u001b[36m(worker pid=220, ip=10.10.63.163)\u001b[0m 2022-11-24T06:29:29PST : INFO : tpe : suggest : 864 : Message : build_posterior_wrapper took 0.000250 seconds\n",
      "\u001b[2m\u001b[36m(worker pid=220, ip=10.10.63.163)\u001b[0m 2022-11-24T06:29:29PST : INFO : tpe : suggest : 900 : Message : TPE using 63/63 trials with best loss 1767843.865914\n",
      "\u001b[2m\u001b[36m(worker pid=220, ip=10.10.63.163)\u001b[0m 2022-11-24T06:29:29PST : INFO : tpe : suggest : 864 : Message : build_posterior_wrapper took 0.000259 seconds\n",
      "\u001b[2m\u001b[36m(worker pid=220, ip=10.10.63.163)\u001b[0m 2022-11-24T06:29:29PST : INFO : tpe : suggest : 900 : Message : TPE using 64/64 trials with best loss 1767843.865914\n"
     ]
    },
    {
     "name": "stdout",
     "output_type": "stream",
     "text": [
      "25                                                                                \n",
      " 65%|██████▌   | 65/100 [00:06<00:02, 11.67trial/s, best loss: 1767843.8659135439]\n",
      "27                                                                                \n",
      "37                                                                                \n",
      " 67%|██████▋   | 67/100 [00:06<00:02, 13.04trial/s, best loss: 1767843.8659135439]\n"
     ]
    },
    {
     "name": "stderr",
     "output_type": "stream",
     "text": [
      "\u001b[2m\u001b[36m(worker pid=220, ip=10.10.63.163)\u001b[0m 2022-11-24T06:29:30PST : INFO : tpe : suggest : 864 : Message : build_posterior_wrapper took 0.000259 seconds\n",
      "\u001b[2m\u001b[36m(worker pid=220, ip=10.10.63.163)\u001b[0m 2022-11-24T06:29:30PST : INFO : tpe : suggest : 900 : Message : TPE using 65/65 trials with best loss 1767843.865914\n",
      "\u001b[2m\u001b[36m(worker pid=220, ip=10.10.63.163)\u001b[0m 2022-11-24T06:29:30PST : INFO : tpe : suggest : 864 : Message : build_posterior_wrapper took 0.000256 seconds\n",
      "\u001b[2m\u001b[36m(worker pid=220, ip=10.10.63.163)\u001b[0m 2022-11-24T06:29:30PST : INFO : tpe : suggest : 900 : Message : TPE using 66/66 trials with best loss 1767843.865914\n",
      "\u001b[2m\u001b[36m(worker pid=220, ip=10.10.63.163)\u001b[0m 2022-11-24T06:29:30PST : INFO : tpe : suggest : 864 : Message : build_posterior_wrapper took 0.000258 seconds\n",
      "\u001b[2m\u001b[36m(worker pid=220, ip=10.10.63.163)\u001b[0m 2022-11-24T06:29:30PST : INFO : tpe : suggest : 900 : Message : TPE using 67/67 trials with best loss 1767843.865914\n"
     ]
    },
    {
     "name": "stdout",
     "output_type": "stream",
     "text": [
      "39                                                                                \n",
      " 68%|██████▊   | 68/100 [00:06<00:02, 13.04trial/s, best loss: 1767843.8659135439]\n",
      "49                                                                                \n",
      " 69%|██████▉   | 69/100 [00:06<00:02, 12.86trial/s, best loss: 1767843.8659135439]\n"
     ]
    },
    {
     "name": "stderr",
     "output_type": "stream",
     "text": [
      "\u001b[2m\u001b[36m(worker pid=220, ip=10.10.63.163)\u001b[0m 2022-11-24T06:29:30PST : INFO : tpe : suggest : 864 : Message : build_posterior_wrapper took 0.000284 seconds\n",
      "\u001b[2m\u001b[36m(worker pid=220, ip=10.10.63.163)\u001b[0m 2022-11-24T06:29:30PST : INFO : tpe : suggest : 900 : Message : TPE using 68/68 trials with best loss 1767843.865914\n",
      "\u001b[2m\u001b[36m(worker pid=220, ip=10.10.63.163)\u001b[0m 2022-11-24T06:29:30PST : INFO : tpe : suggest : 864 : Message : build_posterior_wrapper took 0.000254 seconds\n",
      "\u001b[2m\u001b[36m(worker pid=220, ip=10.10.63.163)\u001b[0m 2022-11-24T06:29:30PST : INFO : tpe : suggest : 900 : Message : TPE using 69/69 trials with best loss 1767843.865914\n"
     ]
    },
    {
     "name": "stdout",
     "output_type": "stream",
     "text": [
      "46                                                                                \n",
      " 70%|███████   | 70/100 [00:06<00:02, 12.86trial/s, best loss: 1767843.8659135439]\n",
      "43                                                                                \n",
      " 71%|███████   | 71/100 [00:06<00:02, 11.77trial/s, best loss: 1767843.8659135439]\n"
     ]
    },
    {
     "name": "stderr",
     "output_type": "stream",
     "text": [
      "\u001b[2m\u001b[36m(worker pid=220, ip=10.10.63.163)\u001b[0m 2022-11-24T06:29:30PST : INFO : tpe : suggest : 864 : Message : build_posterior_wrapper took 0.000253 seconds\n",
      "\u001b[2m\u001b[36m(worker pid=220, ip=10.10.63.163)\u001b[0m 2022-11-24T06:29:30PST : INFO : tpe : suggest : 900 : Message : TPE using 70/70 trials with best loss 1767843.865914\n",
      "\u001b[2m\u001b[36m(worker pid=220, ip=10.10.63.163)\u001b[0m 2022-11-24T06:29:30PST : INFO : tpe : suggest : 864 : Message : build_posterior_wrapper took 0.000372 seconds\n",
      "\u001b[2m\u001b[36m(worker pid=220, ip=10.10.63.163)\u001b[0m 2022-11-24T06:29:30PST : INFO : tpe : suggest : 900 : Message : TPE using 71/71 trials with best loss 1767843.865914\n"
     ]
    },
    {
     "name": "stdout",
     "output_type": "stream",
     "text": [
      "36                                                                                \n",
      " 72%|███████▏  | 72/100 [00:06<00:02, 11.77trial/s, best loss: 1767843.8659135439]\n",
      "30                                                                                \n",
      "32                                                                                \n",
      " 74%|███████▍  | 74/100 [00:07<00:02, 11.65trial/s, best loss: 1767843.8659135439]\n"
     ]
    },
    {
     "name": "stderr",
     "output_type": "stream",
     "text": [
      "\u001b[2m\u001b[36m(worker pid=220, ip=10.10.63.163)\u001b[0m 2022-11-24T06:29:30PST : INFO : tpe : suggest : 864 : Message : build_posterior_wrapper took 0.000372 seconds\n",
      "\u001b[2m\u001b[36m(worker pid=220, ip=10.10.63.163)\u001b[0m 2022-11-24T06:29:30PST : INFO : tpe : suggest : 900 : Message : TPE using 72/72 trials with best loss 1767843.865914\n",
      "\u001b[2m\u001b[36m(worker pid=220, ip=10.10.63.163)\u001b[0m 2022-11-24T06:29:30PST : INFO : tpe : suggest : 864 : Message : build_posterior_wrapper took 0.000260 seconds\n",
      "\u001b[2m\u001b[36m(worker pid=220, ip=10.10.63.163)\u001b[0m 2022-11-24T06:29:30PST : INFO : tpe : suggest : 900 : Message : TPE using 73/73 trials with best loss 1767843.865914\n",
      "\u001b[2m\u001b[36m(worker pid=220, ip=10.10.63.163)\u001b[0m 2022-11-24T06:29:30PST : INFO : tpe : suggest : 864 : Message : build_posterior_wrapper took 0.000257 seconds\n",
      "\u001b[2m\u001b[36m(worker pid=220, ip=10.10.63.163)\u001b[0m 2022-11-24T06:29:30PST : INFO : tpe : suggest : 900 : Message : TPE using 74/74 trials with best loss 1767843.865914\n"
     ]
    },
    {
     "name": "stdout",
     "output_type": "stream",
     "text": [
      "21                                                                                \n",
      "14                                                                                \n",
      " 76%|███████▌  | 76/100 [00:07<00:01, 12.44trial/s, best loss: 1767843.8659135439]\n",
      "29                                                                                \n",
      "40                                                                                \n",
      " 78%|███████▊  | 78/100 [00:07<00:01, 14.70trial/s, best loss: 1767843.8659135439]\n"
     ]
    },
    {
     "name": "stderr",
     "output_type": "stream",
     "text": [
      "\u001b[2m\u001b[36m(worker pid=220, ip=10.10.63.163)\u001b[0m 2022-11-24T06:29:30PST : INFO : tpe : suggest : 864 : Message : build_posterior_wrapper took 0.000260 seconds\n",
      "\u001b[2m\u001b[36m(worker pid=220, ip=10.10.63.163)\u001b[0m 2022-11-24T06:29:30PST : INFO : tpe : suggest : 900 : Message : TPE using 75/75 trials with best loss 1767843.865914\n",
      "\u001b[2m\u001b[36m(worker pid=220, ip=10.10.63.163)\u001b[0m 2022-11-24T06:29:30PST : INFO : tpe : suggest : 864 : Message : build_posterior_wrapper took 0.000270 seconds\n",
      "\u001b[2m\u001b[36m(worker pid=220, ip=10.10.63.163)\u001b[0m 2022-11-24T06:29:30PST : INFO : tpe : suggest : 900 : Message : TPE using 76/76 trials with best loss 1767843.865914\n",
      "\u001b[2m\u001b[36m(worker pid=220, ip=10.10.63.163)\u001b[0m 2022-11-24T06:29:30PST : INFO : tpe : suggest : 864 : Message : build_posterior_wrapper took 0.000255 seconds\n",
      "\u001b[2m\u001b[36m(worker pid=220, ip=10.10.63.163)\u001b[0m 2022-11-24T06:29:30PST : INFO : tpe : suggest : 900 : Message : TPE using 77/77 trials with best loss 1767843.865914\n",
      "\u001b[2m\u001b[36m(worker pid=220, ip=10.10.63.163)\u001b[0m 2022-11-24T06:29:30PST : INFO : tpe : suggest : 864 : Message : build_posterior_wrapper took 0.000263 seconds\n",
      "\u001b[2m\u001b[36m(worker pid=220, ip=10.10.63.163)\u001b[0m 2022-11-24T06:29:30PST : INFO : tpe : suggest : 900 : Message : TPE using 78/78 trials with best loss 1767843.865914\n"
     ]
    },
    {
     "name": "stdout",
     "output_type": "stream",
     "text": [
      "44                                                                                \n",
      " 79%|███████▉  | 79/100 [00:07<00:01, 14.70trial/s, best loss: 1767843.8659135439]\n",
      "56                                                                                \n",
      " 80%|████████  | 80/100 [00:07<00:01, 13.47trial/s, best loss: 1767843.8659135439]\n"
     ]
    },
    {
     "name": "stderr",
     "output_type": "stream",
     "text": [
      "\u001b[2m\u001b[36m(worker pid=220, ip=10.10.63.163)\u001b[0m 2022-11-24T06:29:31PST : INFO : tpe : suggest : 864 : Message : build_posterior_wrapper took 0.000256 seconds\n",
      "\u001b[2m\u001b[36m(worker pid=220, ip=10.10.63.163)\u001b[0m 2022-11-24T06:29:31PST : INFO : tpe : suggest : 900 : Message : TPE using 79/79 trials with best loss 1767843.865914\n",
      "\u001b[2m\u001b[36m(worker pid=220, ip=10.10.63.163)\u001b[0m 2022-11-24T06:29:31PST : INFO : tpe : suggest : 864 : Message : build_posterior_wrapper took 0.000255 seconds\n",
      "\u001b[2m\u001b[36m(worker pid=220, ip=10.10.63.163)\u001b[0m 2022-11-24T06:29:31PST : INFO : tpe : suggest : 900 : Message : TPE using 80/80 trials with best loss 1767843.865914\n"
     ]
    },
    {
     "name": "stdout",
     "output_type": "stream",
     "text": [
      "52                                                                                \n",
      " 81%|████████  | 81/100 [00:07<00:01, 13.47trial/s, best loss: 1767843.8659135439]\n",
      "44                                                                                \n",
      " 82%|████████▏ | 82/100 [00:07<00:01, 11.91trial/s, best loss: 1767843.8659135439]\n"
     ]
    },
    {
     "name": "stderr",
     "output_type": "stream",
     "text": [
      "\u001b[2m\u001b[36m(worker pid=220, ip=10.10.63.163)\u001b[0m 2022-11-24T06:29:31PST : INFO : tpe : suggest : 864 : Message : build_posterior_wrapper took 0.000270 seconds\n",
      "\u001b[2m\u001b[36m(worker pid=220, ip=10.10.63.163)\u001b[0m 2022-11-24T06:29:31PST : INFO : tpe : suggest : 900 : Message : TPE using 81/81 trials with best loss 1767843.865914\n",
      "\u001b[2m\u001b[36m(worker pid=220, ip=10.10.63.163)\u001b[0m 2022-11-24T06:29:31PST : INFO : tpe : suggest : 864 : Message : build_posterior_wrapper took 0.000255 seconds\n",
      "\u001b[2m\u001b[36m(worker pid=220, ip=10.10.63.163)\u001b[0m 2022-11-24T06:29:31PST : INFO : tpe : suggest : 900 : Message : TPE using 82/82 trials with best loss 1767843.865914\n"
     ]
    },
    {
     "name": "stdout",
     "output_type": "stream",
     "text": [
      "24                                                                                \n",
      " 83%|████████▎ | 83/100 [00:07<00:01, 11.91trial/s, best loss: 1767843.8659135439]\n",
      "62                                                                                \n",
      " 84%|████████▍ | 84/100 [00:07<00:01, 12.42trial/s, best loss: 1767843.8659135439]\n"
     ]
    },
    {
     "name": "stderr",
     "output_type": "stream",
     "text": [
      "\u001b[2m\u001b[36m(worker pid=220, ip=10.10.63.163)\u001b[0m 2022-11-24T06:29:31PST : INFO : tpe : suggest : 864 : Message : build_posterior_wrapper took 0.000264 seconds\n",
      "\u001b[2m\u001b[36m(worker pid=220, ip=10.10.63.163)\u001b[0m 2022-11-24T06:29:31PST : INFO : tpe : suggest : 900 : Message : TPE using 83/83 trials with best loss 1767843.865914\n",
      "\u001b[2m\u001b[36m(worker pid=220, ip=10.10.63.163)\u001b[0m 2022-11-24T06:29:31PST : INFO : tpe : suggest : 864 : Message : build_posterior_wrapper took 0.000263 seconds\n",
      "\u001b[2m\u001b[36m(worker pid=220, ip=10.10.63.163)\u001b[0m 2022-11-24T06:29:31PST : INFO : tpe : suggest : 900 : Message : TPE using 84/84 trials with best loss 1767843.865914\n"
     ]
    },
    {
     "name": "stdout",
     "output_type": "stream",
     "text": [
      "16                                                                                \n",
      "31                                                                                \n",
      " 86%|████████▌ | 86/100 [00:08<00:01, 12.29trial/s, best loss: 1767843.8659135439]\n",
      "50                                                                                \n",
      " 87%|████████▋ | 87/100 [00:08<00:01, 12.29trial/s, best loss: 1767843.8659135439]\n"
     ]
    },
    {
     "name": "stderr",
     "output_type": "stream",
     "text": [
      "\u001b[2m\u001b[36m(worker pid=220, ip=10.10.63.163)\u001b[0m 2022-11-24T06:29:31PST : INFO : tpe : suggest : 864 : Message : build_posterior_wrapper took 0.000260 seconds\n",
      "\u001b[2m\u001b[36m(worker pid=220, ip=10.10.63.163)\u001b[0m 2022-11-24T06:29:31PST : INFO : tpe : suggest : 900 : Message : TPE using 85/85 trials with best loss 1767843.865914\n",
      "\u001b[2m\u001b[36m(worker pid=220, ip=10.10.63.163)\u001b[0m 2022-11-24T06:29:31PST : INFO : tpe : suggest : 864 : Message : build_posterior_wrapper took 0.000261 seconds\n",
      "\u001b[2m\u001b[36m(worker pid=220, ip=10.10.63.163)\u001b[0m 2022-11-24T06:29:31PST : INFO : tpe : suggest : 900 : Message : TPE using 86/86 trials with best loss 1767843.865914\n",
      "\u001b[2m\u001b[36m(worker pid=220, ip=10.10.63.163)\u001b[0m 2022-11-24T06:29:31PST : INFO : tpe : suggest : 864 : Message : build_posterior_wrapper took 0.000259 seconds\n",
      "\u001b[2m\u001b[36m(worker pid=220, ip=10.10.63.163)\u001b[0m 2022-11-24T06:29:31PST : INFO : tpe : suggest : 900 : Message : TPE using 87/87 trials with best loss 1767843.865914\n"
     ]
    },
    {
     "name": "stdout",
     "output_type": "stream",
     "text": [
      "54                                                                                \n",
      " 88%|████████▊ | 88/100 [00:08<00:00, 12.13trial/s, best loss: 1767843.8659135439]\n",
      "48                                                                                \n",
      " 89%|████████▉ | 89/100 [00:08<00:00, 12.13trial/s, best loss: 1767843.8659135439]\n"
     ]
    },
    {
     "name": "stderr",
     "output_type": "stream",
     "text": [
      "\u001b[2m\u001b[36m(worker pid=220, ip=10.10.63.163)\u001b[0m 2022-11-24T06:29:31PST : INFO : tpe : suggest : 864 : Message : build_posterior_wrapper took 0.000260 seconds\n",
      "\u001b[2m\u001b[36m(worker pid=220, ip=10.10.63.163)\u001b[0m 2022-11-24T06:29:31PST : INFO : tpe : suggest : 900 : Message : TPE using 88/88 trials with best loss 1767843.865914\n",
      "\u001b[2m\u001b[36m(worker pid=220, ip=10.10.63.163)\u001b[0m 2022-11-24T06:29:31PST : INFO : tpe : suggest : 864 : Message : build_posterior_wrapper took 0.000278 seconds\n",
      "\u001b[2m\u001b[36m(worker pid=220, ip=10.10.63.163)\u001b[0m 2022-11-24T06:29:31PST : INFO : tpe : suggest : 900 : Message : TPE using 89/89 trials with best loss 1767843.865914\n"
     ]
    },
    {
     "name": "stdout",
     "output_type": "stream",
     "text": [
      "19                                                                                \n",
      " 90%|█████████ | 90/100 [00:08<00:00, 11.24trial/s, best loss: 1767843.8659135439]\n",
      "58                                                                                \n",
      " 91%|█████████ | 91/100 [00:08<00:00, 11.24trial/s, best loss: 1767843.8659135439]\n"
     ]
    },
    {
     "name": "stderr",
     "output_type": "stream",
     "text": [
      "\u001b[2m\u001b[36m(worker pid=220, ip=10.10.63.163)\u001b[0m 2022-11-24T06:29:32PST : INFO : tpe : suggest : 864 : Message : build_posterior_wrapper took 0.000262 seconds\n",
      "\u001b[2m\u001b[36m(worker pid=220, ip=10.10.63.163)\u001b[0m 2022-11-24T06:29:32PST : INFO : tpe : suggest : 900 : Message : TPE using 90/90 trials with best loss 1767843.865914\n",
      "\u001b[2m\u001b[36m(worker pid=220, ip=10.10.63.163)\u001b[0m 2022-11-24T06:29:32PST : INFO : tpe : suggest : 864 : Message : build_posterior_wrapper took 0.000274 seconds\n",
      "\u001b[2m\u001b[36m(worker pid=220, ip=10.10.63.163)\u001b[0m 2022-11-24T06:29:32PST : INFO : tpe : suggest : 900 : Message : TPE using 91/91 trials with best loss 1767843.865914\n"
     ]
    },
    {
     "name": "stdout",
     "output_type": "stream",
     "text": [
      "65                                                                                \n",
      " 92%|█████████▏| 92/100 [00:08<00:00, 11.56trial/s, best loss: 1767843.8659135439]\n",
      "27                                                                                \n",
      " 93%|█████████▎| 93/100 [00:08<00:00, 11.56trial/s, best loss: 1767843.8659135439]\n"
     ]
    },
    {
     "name": "stderr",
     "output_type": "stream",
     "text": [
      "\u001b[2m\u001b[36m(worker pid=220, ip=10.10.63.163)\u001b[0m 2022-11-24T06:29:32PST : INFO : tpe : suggest : 864 : Message : build_posterior_wrapper took 0.000276 seconds\n",
      "\u001b[2m\u001b[36m(worker pid=220, ip=10.10.63.163)\u001b[0m 2022-11-24T06:29:32PST : INFO : tpe : suggest : 900 : Message : TPE using 92/92 trials with best loss 1767843.865914\n",
      "\u001b[2m\u001b[36m(worker pid=220, ip=10.10.63.163)\u001b[0m 2022-11-24T06:29:32PST : INFO : tpe : suggest : 864 : Message : build_posterior_wrapper took 0.000320 seconds\n",
      "\u001b[2m\u001b[36m(worker pid=220, ip=10.10.63.163)\u001b[0m 2022-11-24T06:29:32PST : INFO : tpe : suggest : 900 : Message : TPE using 93/93 trials with best loss 1767843.865914\n"
     ]
    },
    {
     "name": "stdout",
     "output_type": "stream",
     "text": [
      "67                                                                                \n",
      " 94%|█████████▍| 94/100 [00:08<00:00, 11.09trial/s, best loss: 1767843.8659135439]\n",
      "36                                                                                \n",
      " 95%|█████████▌| 95/100 [00:08<00:00, 11.09trial/s, best loss: 1767843.8659135439]\n"
     ]
    },
    {
     "name": "stderr",
     "output_type": "stream",
     "text": [
      "\u001b[2m\u001b[36m(worker pid=220, ip=10.10.63.163)\u001b[0m 2022-11-24T06:29:32PST : INFO : tpe : suggest : 864 : Message : build_posterior_wrapper took 0.000258 seconds\n",
      "\u001b[2m\u001b[36m(worker pid=220, ip=10.10.63.163)\u001b[0m 2022-11-24T06:29:32PST : INFO : tpe : suggest : 900 : Message : TPE using 94/94 trials with best loss 1767843.865914\n",
      "\u001b[2m\u001b[36m(worker pid=220, ip=10.10.63.163)\u001b[0m 2022-11-24T06:29:32PST : INFO : tpe : suggest : 864 : Message : build_posterior_wrapper took 0.000262 seconds\n",
      "\u001b[2m\u001b[36m(worker pid=220, ip=10.10.63.163)\u001b[0m 2022-11-24T06:29:32PST : INFO : tpe : suggest : 900 : Message : TPE using 95/95 trials with best loss 1767843.865914\n"
     ]
    },
    {
     "name": "stdout",
     "output_type": "stream",
     "text": [
      "47                                                                                \n",
      " 96%|█████████▌| 96/100 [00:08<00:00, 10.48trial/s, best loss: 1767843.8659135439]\n",
      "33                                                                                \n",
      "71                                                                                \n",
      " 98%|█████████▊| 98/100 [00:09<00:00, 10.91trial/s, best loss: 1767843.8659135439]\n"
     ]
    },
    {
     "name": "stderr",
     "output_type": "stream",
     "text": [
      "\u001b[2m\u001b[36m(worker pid=220, ip=10.10.63.163)\u001b[0m 2022-11-24T06:29:32PST : INFO : tpe : suggest : 864 : Message : build_posterior_wrapper took 0.000251 seconds\n",
      "\u001b[2m\u001b[36m(worker pid=220, ip=10.10.63.163)\u001b[0m 2022-11-24T06:29:32PST : INFO : tpe : suggest : 900 : Message : TPE using 96/96 trials with best loss 1767843.865914\n",
      "\u001b[2m\u001b[36m(worker pid=220, ip=10.10.63.163)\u001b[0m 2022-11-24T06:29:32PST : INFO : tpe : suggest : 864 : Message : build_posterior_wrapper took 0.000275 seconds\n",
      "\u001b[2m\u001b[36m(worker pid=220, ip=10.10.63.163)\u001b[0m 2022-11-24T06:29:32PST : INFO : tpe : suggest : 900 : Message : TPE using 97/97 trials with best loss 1767843.865914\n",
      "\u001b[2m\u001b[36m(worker pid=220, ip=10.10.63.163)\u001b[0m 2022-11-24T06:29:32PST : INFO : tpe : suggest : 864 : Message : build_posterior_wrapper took 0.000268 seconds\n",
      "\u001b[2m\u001b[36m(worker pid=220, ip=10.10.63.163)\u001b[0m 2022-11-24T06:29:32PST : INFO : tpe : suggest : 900 : Message : TPE using 98/98 trials with best loss 1767843.865914\n"
     ]
    },
    {
     "name": "stdout",
     "output_type": "stream",
     "text": [
      "93                                                                                \n",
      " 99%|█████████▉| 99/100 [00:09<00:00, 10.91trial/s, best loss: 1767843.8659135439]\n"
     ]
    },
    {
     "name": "stderr",
     "output_type": "stream",
     "text": [
      "\u001b[2m\u001b[36m(worker pid=220, ip=10.10.63.163)\u001b[0m 2022-11-24T06:29:32PST : INFO : tpe : suggest : 864 : Message : build_posterior_wrapper took 0.000266 seconds\n",
      "\u001b[2m\u001b[36m(worker pid=220, ip=10.10.63.163)\u001b[0m 2022-11-24T06:29:32PST : INFO : tpe : suggest : 900 : Message : TPE using 99/99 trials with best loss 1767843.865914\n"
     ]
    },
    {
     "name": "stdout",
     "output_type": "stream",
     "text": [
      "100%|██████████| 100/100 [00:09<00:00, 10.57trial/s, best loss: 1767843.8659135439]\n"
     ]
    },
    {
     "name": "stderr",
     "output_type": "stream",
     "text": [
      "\u001b[2m\u001b[36m(worker pid=220, ip=10.10.63.163)\u001b[0m 2022-11-24T06:29:33PST : INFO : brisk_bagging : refit : 146 : Message : final score :[0.9346682979354216, 0.6738857230000795]\n"
     ]
    }
   ],
   "source": [
    "model_results = ray.get([worker.remote(base_model, X_train_id, X_test_id, y_train_id, y_test_id) for base_model in list_models])"
   ]
  },
  {
   "cell_type": "code",
   "execution_count": 11,
   "id": "ba2e77c5-322a-4bc8-8fe2-e272b5b16130",
   "metadata": {},
   "outputs": [
    {
     "data": {
      "text/plain": [
       "[<ml.models.base.HyperOpt.brisk_bagging.BriskBagging at 0x7f58a664e370>,\n",
       " <ml.models.base.HyperOpt.brisk_bagging.BriskBagging at 0x7f57e1bc8940>]"
      ]
     },
     "execution_count": 11,
     "metadata": {},
     "output_type": "execute_result"
    }
   ],
   "source": [
    "model_results"
   ]
  },
  {
   "cell_type": "code",
   "execution_count": null,
   "id": "6c791063-8dba-4f87-b56f-c9008b978595",
   "metadata": {},
   "outputs": [],
   "source": []
  }
 ],
 "metadata": {
  "kernelspec": {
   "display_name": "admin-admin-wasif-dev-ray",
   "language": "python",
   "name": "conda-env-admin-admin-wasif-dev-ray-py"
  },
  "language_info": {
   "codemirror_mode": {
    "name": "ipython",
    "version": 3
   },
   "file_extension": ".py",
   "mimetype": "text/x-python",
   "name": "python",
   "nbconvert_exporter": "python",
   "pygments_lexer": "ipython3",
   "version": "3.9.13"
  }
 },
 "nbformat": 4,
 "nbformat_minor": 5
}
