{
 "cells": [
  {
   "cell_type": "code",
   "execution_count": 3,
   "id": "d5f09997-9bcb-48d7-a862-6da0a8786020",
   "metadata": {},
   "outputs": [
    {
     "name": "stderr",
     "output_type": "stream",
     "text": [
      "/home/conda/admin/18a3a0e09baad9595c8cc1c80778de73e403c09262b0f59fc0193cfe37fa3053-20221109-090602-616424-46-wasif-dask-worker/lib/python3.9/site-packages/distributed/node.py:183: UserWarning: Port 8787 is already in use.\n",
      "Perhaps you already have a cluster running?\n",
      "Hosting the HTTP server on port 43383 instead\n",
      "  warnings.warn(\n",
      "/home/conda/admin/18a3a0e09baad9595c8cc1c80778de73e403c09262b0f59fc0193cfe37fa3053-20221109-090602-616424-46-wasif-dask-worker/lib/python3.9/site-packages/dask/base.py:1367: UserWarning: Running on a single-machine scheduler when a distributed client is active might lead to unexpected results.\n",
      "  warnings.warn(\n"
     ]
    }
   ],
   "source": [
    "from dask.distributed import Client\n",
    "\n",
    "from dask_ml.datasets import make_classification\n",
    "\n",
    "from dask_ml.model_selection import train_test_split\n",
    "\n",
    "client = Client()\n",
    "\n",
    "X, y = make_classification(chunks=20, random_state=0)\n",
    "\n",
    "X_train, X_test, y_train, y_test = train_test_split(X, y)"
   ]
  },
  {
   "cell_type": "code",
   "execution_count": 13,
   "id": "fa4c0c43-fd3f-44f3-b972-ae798ce0edbd",
   "metadata": {},
   "outputs": [
    {
     "data": {
      "text/plain": [
       "dask.array.core.Array"
      ]
     },
     "execution_count": 13,
     "metadata": {},
     "output_type": "execute_result"
    }
   ],
   "source": [
    "type(y)"
   ]
  },
  {
   "cell_type": "code",
   "execution_count": 11,
   "id": "d6e57512-3f4d-4f54-8479-81e639f29c82",
   "metadata": {},
   "outputs": [
    {
     "data": {
      "text/plain": [
       "(90,)"
      ]
     },
     "execution_count": 11,
     "metadata": {},
     "output_type": "execute_result"
    }
   ],
   "source": [
    "y_train.shape"
   ]
  },
  {
   "cell_type": "code",
   "execution_count": 5,
   "id": "afed5636-b646-413b-92dc-ebb15bfb604d",
   "metadata": {},
   "outputs": [
    {
     "name": "stdout",
     "output_type": "stream",
     "text": [
      "The autoreload extension is already loaded. To reload it, use:\n",
      "  %reload_ext autoreload\n",
      "connected to cluster dev.5283309d2dc04db08ffb0aa2cce4d0fe\n"
     ]
    }
   ],
   "source": [
    "%load_ext autoreload\n",
    "%autoreload 2\n",
    "import sys\n",
    "\n",
    "sys.path.insert(0, \"..\")  # add parent folder path where lib folder is\n",
    "\n",
    "from utils import dasker\n",
    "\n",
    "client = dasker.get_global_client()\n"
   ]
  },
  {
   "cell_type": "code",
   "execution_count": 6,
   "id": "dc42ddfc-a5e6-4cce-bdfd-ab68efef5072",
   "metadata": {},
   "outputs": [],
   "source": [
    "from sklearn.linear_model import SGDClassifier\n",
    "\n",
    "clf = SGDClassifier(tol=1e-3, penalty='elasticnet', random_state=0)"
   ]
  },
  {
   "cell_type": "code",
   "execution_count": 7,
   "id": "456f1b98-1537-4919-9a8e-8e5210314b8e",
   "metadata": {},
   "outputs": [],
   "source": [
    "from scipy.stats import uniform, loguniform\n",
    "\n",
    "params = {'alpha': loguniform(1e-2, 1e0),  # or np.logspace\n",
    "          'l1_ratio': uniform(0, 1)}  # or np.linspace"
   ]
  },
  {
   "cell_type": "code",
   "execution_count": 8,
   "id": "bce3f945-49b1-4f34-ba9a-adf992f25e62",
   "metadata": {},
   "outputs": [],
   "source": [
    "from dask_ml.model_selection import HyperbandSearchCV\n",
    "\n",
    "search = HyperbandSearchCV(clf, params, max_iter=81, random_state=0)\n",
    "\n",
    "search.fit(X_train, y_train, classes=[0, 1]);\n",
    "\n",
    "search.best_params_\n",
    "Out[14]: {'alpha': 0.026372606296535494, 'l1_ratio': 0.22615162496164476}\n",
    "\n"
   ]
  },
  {
   "cell_type": "code",
   "execution_count": 9,
   "id": "1712f83f-a7a9-47b4-88d6-023099e4522f",
   "metadata": {},
   "outputs": [
    {
     "data": {
      "text/plain": [
       "0.65"
      ]
     },
     "execution_count": 9,
     "metadata": {},
     "output_type": "execute_result"
    }
   ],
   "source": [
    "search.best_score_"
   ]
  },
  {
   "cell_type": "code",
   "execution_count": 8,
   "id": "67836a36-50f5-4455-ab98-dc81f45485bf",
   "metadata": {},
   "outputs": [
    {
     "data": {
      "text/plain": [
       "0.3"
      ]
     },
     "execution_count": 8,
     "metadata": {},
     "output_type": "execute_result"
    },
    {
     "name": "stderr",
     "output_type": "stream",
     "text": [
      "2022-11-08 12:48:24,394 - distributed.nanny - ERROR - Worker process died unexpectedly\n",
      "2022-11-08 12:48:24,394 - distributed.nanny - ERROR - Worker process died unexpectedly\n",
      "2022-11-08 12:48:24,412 - distributed.nanny - WARNING - Restarting worker\n",
      "2022-11-08 12:48:24,414 - distributed.nanny - WARNING - Restarting worker\n",
      "2022-11-08 12:48:24,423 - distributed.nanny - WARNING - Restarting worker\n",
      "2022-11-08 12:48:24,431 - distributed.nanny - WARNING - Restarting worker\n",
      "2022-11-08 12:48:24,452 - distributed.nanny - WARNING - Restarting worker\n",
      "2022-11-08 12:48:24,454 - distributed.nanny - WARNING - Restarting worker\n",
      "2022-11-08 12:48:24,460 - distributed.nanny - WARNING - Restarting worker\n",
      "2022-11-08 12:48:24,469 - distributed.nanny - WARNING - Restarting worker\n",
      "2022-11-08 12:48:24,557 - distributed.nanny - WARNING - Restarting worker\n",
      "2022-11-08 12:48:24,558 - distributed.nanny - WARNING - Restarting worker\n",
      "2022-11-08 12:48:24,566 - distributed.nanny - WARNING - Restarting worker\n",
      "2022-11-08 12:48:24,574 - distributed.nanny - WARNING - Restarting worker\n",
      "2022-11-08 12:48:24,861 - distributed.nanny - WARNING - Restarting worker\n",
      "2022-11-08 12:48:24,862 - distributed.nanny - WARNING - Restarting worker\n",
      "2022-11-08 12:48:24,871 - distributed.nanny - WARNING - Restarting worker\n",
      "2022-11-08 12:48:24,878 - distributed.nanny - WARNING - Restarting worker\n",
      "2022-11-08 12:48:25,865 - distributed.nanny - WARNING - Restarting worker\n",
      "2022-11-08 12:48:25,874 - distributed.nanny - WARNING - Restarting worker\n",
      "2022-11-08 12:48:25,893 - distributed.nanny - WARNING - Restarting worker\n",
      "2022-11-08 12:48:25,902 - distributed.nanny - WARNING - Restarting worker\n",
      "2022-11-08 12:48:26,679 - distributed.diskutils - INFO - Found stale lock file and directory '/tmp/dask-worker-space/worker-af622183', purging\n",
      "2022-11-08 12:48:26,681 - distributed.diskutils - INFO - Found stale lock file and directory '/tmp/dask-worker-space/worker-0bj9whuy', purging\n",
      "2022-11-08 12:48:26,681 - distributed.diskutils - INFO - Found stale lock file and directory '/tmp/dask-worker-space/worker-672zgejy', purging\n",
      "2022-11-08 12:48:26,681 - distributed.diskutils - INFO - Found stale lock file and directory '/tmp/dask-worker-space/worker-pxp19do6', purging\n"
     ]
    }
   ],
   "source": [
    "search.score(X_test, y_test)"
   ]
  },
  {
   "cell_type": "code",
   "execution_count": null,
   "id": "34990383-bc05-49bc-9fb3-a82d255e0d8c",
   "metadata": {},
   "outputs": [],
   "source": []
  }
 ],
 "metadata": {
  "kernelspec": {
   "display_name": "admin-admin-wasif-dask-worker",
   "language": "python",
   "name": "conda-env-admin-admin-wasif-dask-worker-py"
  },
  "language_info": {
   "codemirror_mode": {
    "name": "ipython",
    "version": 3
   },
   "file_extension": ".py",
   "mimetype": "text/x-python",
   "name": "python",
   "nbconvert_exporter": "python",
   "pygments_lexer": "ipython3",
   "version": "3.9.13"
  }
 },
 "nbformat": 4,
 "nbformat_minor": 5
}
