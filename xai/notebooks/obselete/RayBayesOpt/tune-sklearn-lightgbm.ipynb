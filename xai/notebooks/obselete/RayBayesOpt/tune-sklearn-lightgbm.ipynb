{
 "cells": [
  {
   "cell_type": "code",
   "execution_count": 3,
   "metadata": {},
   "outputs": [],
   "source": [
    "import sys; sys.path.insert(0, '../..') # add parent folder path where lib folder is\n",
    "from utils import helper, config, rayer, kaggle_dataset_helper"
   ]
  },
  {
   "cell_type": "code",
   "execution_count": 4,
   "metadata": {},
   "outputs": [],
   "source": [
    "\"\"\"Example using LightGBM, performing randomized search with TuneSearchCV.\n",
    "Example taken from https://mlfromscratch.com/gridsearch-keras-sklearn/#/\n",
    "\"\"\"\n",
    "\n",
    "import lightgbm as lgb\n",
    "from tune_sklearn import TuneSearchCV\n",
    "import ray\n",
    "from ray import tune\n",
    "from sklearn.datasets import load_breast_cancer\n",
    "from sklearn.preprocessing import StandardScaler\n",
    "from sklearn.model_selection import train_test_split\n",
    "\n",
    "import pandas as pd\n",
    "\n",
    "from ml.models import common\n"
   ]
  },
  {
   "cell_type": "code",
   "execution_count": 5,
   "metadata": {},
   "outputs": [
    {
     "name": "stderr",
     "output_type": "stream",
     "text": [
      "2022-12-02 21:00:28,367\tINFO packaging.py:527 -- Creating a file package for local directory '/mnt/c/Users/rwmas/GitHub/xai/python-asd/xai/'.\n",
      "2022-12-02 21:00:59,106\tINFO packaging.py:354 -- Pushing file package 'gcs://_ray_pkg_e4bd7b270ec72108.zip' (30.53MiB) to Ray cluster...\n",
      "2022-12-02 21:01:00,190\tINFO packaging.py:367 -- Successfully pushed file package 'gcs://_ray_pkg_e4bd7b270ec72108.zip'.\n"
     ]
    }
   ],
   "source": [
    "rayer.get_global_cluster()"
   ]
  },
  {
   "cell_type": "code",
   "execution_count": 9,
   "metadata": {},
   "outputs": [],
   "source": [
    "\n",
    "# Load breast cancer dataset\n",
    "cancer = load_breast_cancer()\n",
    "X = cancer.data\n",
    "y = cancer.target\n",
    "\n",
    "X_train, X_test, y_train, y_test = train_test_split(\n",
    "    X, y, test_size=0.2, random_state=42)\n",
    "\n",
    "\n",
    "\n"
   ]
  },
  {
   "cell_type": "code",
   "execution_count": null,
   "metadata": {},
   "outputs": [],
   "source": [
    "model = lgb.LGBMClassifier()"
   ]
  },
  {
   "cell_type": "code",
   "execution_count": 6,
   "metadata": {},
   "outputs": [],
   "source": [
    "ds_train, ds_test = kaggle_dataset_helper.get_transaction_predictions_dataset()\n",
    "\n",
    "ds_train = common.label_encode(ds_train)\n",
    "ds_test = common.label_encode(ds_test)\n",
    "\n",
    "ds_train = ds_train.fillna(-1)\n",
    "ds_test = ds_test.fillna(-1)\n",
    "\n",
    "df_X = ds_train.loc[:, ds_train.columns != 'target']\n",
    "df_y = ds_train['target']\n",
    "\n",
    "X_train, X_test, y_train, y_test = train_test_split(df_X, df_y, test_size=0.33)# , random_state=config.rand_state)\n",
    "\n",
    "\n",
    "ss = StandardScaler()\n",
    "X_train_scalar = pd.DataFrame(ss.fit_transform(X_train), columns = X_train.columns)\n",
    "X_test_scalar = pd.DataFrame(ss.fit_transform(X_test), columns = X_test.columns)"
   ]
  },
  {
   "cell_type": "code",
   "execution_count": 7,
   "metadata": {},
   "outputs": [],
   "source": [
    "X_train_id = ray.put(X_train_scalar)\n",
    "y_train_id = ray.put(y_train)\n",
    "X_test_id = ray.put(X_test_scalar)\n",
    "y_test_id = ray.put(y_test)"
   ]
  },
  {
   "cell_type": "code",
   "execution_count": null,
   "metadata": {},
   "outputs": [],
   "source": [
    "param_dists = {\n",
    "    \"n_estimators\": [400, 700, 1000],\n",
    "    \"colsample_bytree\": [0.7, 0.8],\n",
    "    \"max_depth\": [15, 20, 25],\n",
    "    \"num_leaves\": [50, 100, 200],\n",
    "    \"reg_alpha\": [1.1, 1.2, 1.3],\n",
    "    \"reg_lambda\": [1.1, 1.2, 1.3],\n",
    "    \"min_split_gain\": [0.3, 0.4],\n",
    "    \"subsample\": [0.7, 0.8, 0.9],\n",
    "    \"subsample_freq\": [20]\n",
    "}\n",
    "gs = TuneSearchCV(model, param_dists, n_trials=100, scoring=\"accuracy\")\n",
    "gs.fit(X_train, y_train)\n"
   ]
  },
  {
   "cell_type": "code",
   "execution_count": 10,
   "metadata": {},
   "outputs": [
    {
     "ename": "ValueError",
     "evalue": "Expected array-like (array or non-string sequence), got ClientObjectRef(00ffffffffffffffffffffffffffffffffffffff0100000003000000)",
     "output_type": "error",
     "traceback": [
      "\u001b[0;31m---------------------------------------------------------------------------\u001b[0m",
      "\u001b[0;31mValueError\u001b[0m                                Traceback (most recent call last)",
      "\u001b[1;32m/mnt/c/Users/rwmas/GitHub/xai/python-asd/xai/notebooks/RayBayesOpt/tune-sklearn-lightgbm.ipynb Cell 9\u001b[0m in \u001b[0;36m<cell line: 9>\u001b[0;34m()\u001b[0m\n\u001b[1;32m      <a href='vscode-notebook-cell://wsl%2Bubuntu/mnt/c/Users/rwmas/GitHub/xai/python-asd/xai/notebooks/RayBayesOpt/tune-sklearn-lightgbm.ipynb#X12sdnNjb2RlLXJlbW90ZQ%3D%3D?line=0'>1</a>\u001b[0m param_dists  \u001b[39m=\u001b[39m {\n\u001b[1;32m      <a href='vscode-notebook-cell://wsl%2Bubuntu/mnt/c/Users/rwmas/GitHub/xai/python-asd/xai/notebooks/RayBayesOpt/tune-sklearn-lightgbm.ipynb#X12sdnNjb2RlLXJlbW90ZQ%3D%3D?line=1'>2</a>\u001b[0m     \u001b[39m'\u001b[39m\u001b[39mn_estimators\u001b[39m\u001b[39m'\u001b[39m: tune\u001b[39m.\u001b[39mrandint(\u001b[39m400\u001b[39m, \u001b[39m700\u001b[39m),\n\u001b[1;32m      <a href='vscode-notebook-cell://wsl%2Bubuntu/mnt/c/Users/rwmas/GitHub/xai/python-asd/xai/notebooks/RayBayesOpt/tune-sklearn-lightgbm.ipynb#X12sdnNjb2RlLXJlbW90ZQ%3D%3D?line=2'>3</a>\u001b[0m     \u001b[39m'\u001b[39m\u001b[39mreg_alpha\u001b[39m\u001b[39m'\u001b[39m: tune\u001b[39m.\u001b[39mloguniform(\u001b[39m1e-4\u001b[39m, \u001b[39m1e-1\u001b[39m),\n\u001b[1;32m      <a href='vscode-notebook-cell://wsl%2Bubuntu/mnt/c/Users/rwmas/GitHub/xai/python-asd/xai/notebooks/RayBayesOpt/tune-sklearn-lightgbm.ipynb#X12sdnNjb2RlLXJlbW90ZQ%3D%3D?line=3'>4</a>\u001b[0m     \u001b[39m'\u001b[39m\u001b[39mreg_lambda\u001b[39m\u001b[39m'\u001b[39m: tune\u001b[39m.\u001b[39mloguniform(\u001b[39m1e-2\u001b[39m, \u001b[39m1e-1\u001b[39m),\n\u001b[1;32m      <a href='vscode-notebook-cell://wsl%2Bubuntu/mnt/c/Users/rwmas/GitHub/xai/python-asd/xai/notebooks/RayBayesOpt/tune-sklearn-lightgbm.ipynb#X12sdnNjb2RlLXJlbW90ZQ%3D%3D?line=4'>5</a>\u001b[0m }\n\u001b[1;32m      <a href='vscode-notebook-cell://wsl%2Bubuntu/mnt/c/Users/rwmas/GitHub/xai/python-asd/xai/notebooks/RayBayesOpt/tune-sklearn-lightgbm.ipynb#X12sdnNjb2RlLXJlbW90ZQ%3D%3D?line=7'>8</a>\u001b[0m gs \u001b[39m=\u001b[39m TuneSearchCV(model, param_dists, n_trials\u001b[39m=\u001b[39m\u001b[39m100\u001b[39m, scoring\u001b[39m=\u001b[39m\u001b[39m\"\u001b[39m\u001b[39maccuracy\u001b[39m\u001b[39m\"\u001b[39m, search_optimization \u001b[39m=\u001b[39m\u001b[39m'\u001b[39m\u001b[39mhyperopt\u001b[39m\u001b[39m'\u001b[39m, cv\u001b[39m=\u001b[39m\u001b[39m3\u001b[39m)\n\u001b[0;32m----> <a href='vscode-notebook-cell://wsl%2Bubuntu/mnt/c/Users/rwmas/GitHub/xai/python-asd/xai/notebooks/RayBayesOpt/tune-sklearn-lightgbm.ipynb#X12sdnNjb2RlLXJlbW90ZQ%3D%3D?line=8'>9</a>\u001b[0m gs\u001b[39m.\u001b[39;49mfit(X_train_id, y_train_id)\n",
      "File \u001b[0;32m~/miniconda3/envs/automl/lib/python3.8/site-packages/tune_sklearn/tune_basesearch.py:621\u001b[0m, in \u001b[0;36mTuneBaseSearchCV.fit\u001b[0;34m(self, X, y, groups, tune_params, **fit_params)\u001b[0m\n\u001b[1;32m    596\u001b[0m \u001b[39mdef\u001b[39;00m \u001b[39mfit\u001b[39m(\u001b[39mself\u001b[39m, X, y\u001b[39m=\u001b[39m\u001b[39mNone\u001b[39;00m, groups\u001b[39m=\u001b[39m\u001b[39mNone\u001b[39;00m, tune_params\u001b[39m=\u001b[39m\u001b[39mNone\u001b[39;00m, \u001b[39m*\u001b[39m\u001b[39m*\u001b[39mfit_params):\n\u001b[1;32m    597\u001b[0m     \u001b[39m\"\"\"Run fit with all sets of parameters.\u001b[39;00m\n\u001b[1;32m    598\u001b[0m \n\u001b[1;32m    599\u001b[0m \u001b[39m    ``tune.run`` is used to perform the fit procedure.\u001b[39;00m\n\u001b[0;32m   (...)\u001b[0m\n\u001b[1;32m    619\u001b[0m \n\u001b[1;32m    620\u001b[0m \u001b[39m    \"\"\"\u001b[39;00m\n\u001b[0;32m--> 621\u001b[0m     \u001b[39mreturn\u001b[39;00m \u001b[39mself\u001b[39;49m\u001b[39m.\u001b[39;49m_fit(X, y, groups, tune_params, \u001b[39m*\u001b[39;49m\u001b[39m*\u001b[39;49mfit_params)\n",
      "File \u001b[0;32m~/miniconda3/envs/automl/lib/python3.8/site-packages/tune_sklearn/tune_basesearch.py:479\u001b[0m, in \u001b[0;36mTuneBaseSearchCV._fit\u001b[0;34m(self, X, y, groups, tune_params, **fit_params)\u001b[0m\n\u001b[1;32m    475\u001b[0m     early_stopping \u001b[39m=\u001b[39m resolve_early_stopping(\n\u001b[1;32m    476\u001b[0m         early_stopping, \u001b[39mself\u001b[39m\u001b[39m.\u001b[39mmax_iters, \u001b[39mself\u001b[39m\u001b[39m.\u001b[39m_metric_name)\n\u001b[1;32m    477\u001b[0m \u001b[39mself\u001b[39m\u001b[39m.\u001b[39mearly_stopping_ \u001b[39m=\u001b[39m early_stopping\n\u001b[0;32m--> 479\u001b[0m cv \u001b[39m=\u001b[39m check_cv(cv\u001b[39m=\u001b[39;49m\u001b[39mself\u001b[39;49m\u001b[39m.\u001b[39;49mcv, y\u001b[39m=\u001b[39;49my, classifier\u001b[39m=\u001b[39;49mclassifier)\n\u001b[1;32m    480\u001b[0m \u001b[39mself\u001b[39m\u001b[39m.\u001b[39mn_splits \u001b[39m=\u001b[39m cv\u001b[39m.\u001b[39mget_n_splits(X, y, groups)\n\u001b[1;32m    481\u001b[0m \u001b[39mif\u001b[39;00m \u001b[39mnot\u001b[39;00m \u001b[39mhasattr\u001b[39m(\u001b[39mself\u001b[39m, \u001b[39m\"\u001b[39m\u001b[39m_is_multi\u001b[39m\u001b[39m\"\u001b[39m):\n",
      "File \u001b[0;32m~/miniconda3/envs/automl/lib/python3.8/site-packages/sklearn/model_selection/_split.py:2303\u001b[0m, in \u001b[0;36mcheck_cv\u001b[0;34m(cv, y, classifier)\u001b[0m\n\u001b[1;32m   2298\u001b[0m cv \u001b[39m=\u001b[39m \u001b[39m5\u001b[39m \u001b[39mif\u001b[39;00m cv \u001b[39mis\u001b[39;00m \u001b[39mNone\u001b[39;00m \u001b[39melse\u001b[39;00m cv\n\u001b[1;32m   2299\u001b[0m \u001b[39mif\u001b[39;00m \u001b[39misinstance\u001b[39m(cv, numbers\u001b[39m.\u001b[39mIntegral):\n\u001b[1;32m   2300\u001b[0m     \u001b[39mif\u001b[39;00m (\n\u001b[1;32m   2301\u001b[0m         classifier\n\u001b[1;32m   2302\u001b[0m         \u001b[39mand\u001b[39;00m (y \u001b[39mis\u001b[39;00m \u001b[39mnot\u001b[39;00m \u001b[39mNone\u001b[39;00m)\n\u001b[0;32m-> 2303\u001b[0m         \u001b[39mand\u001b[39;00m (type_of_target(y) \u001b[39min\u001b[39;00m (\u001b[39m\"\u001b[39m\u001b[39mbinary\u001b[39m\u001b[39m\"\u001b[39m, \u001b[39m\"\u001b[39m\u001b[39mmulticlass\u001b[39m\u001b[39m\"\u001b[39m))\n\u001b[1;32m   2304\u001b[0m     ):\n\u001b[1;32m   2305\u001b[0m         \u001b[39mreturn\u001b[39;00m StratifiedKFold(cv)\n\u001b[1;32m   2306\u001b[0m     \u001b[39melse\u001b[39;00m:\n",
      "File \u001b[0;32m~/miniconda3/envs/automl/lib/python3.8/site-packages/sklearn/utils/multiclass.py:270\u001b[0m, in \u001b[0;36mtype_of_target\u001b[0;34m(y)\u001b[0m\n\u001b[1;32m    265\u001b[0m valid \u001b[39m=\u001b[39m (\n\u001b[1;32m    266\u001b[0m     \u001b[39misinstance\u001b[39m(y, (Sequence, spmatrix)) \u001b[39mor\u001b[39;00m \u001b[39mhasattr\u001b[39m(y, \u001b[39m\"\u001b[39m\u001b[39m__array__\u001b[39m\u001b[39m\"\u001b[39m)\n\u001b[1;32m    267\u001b[0m ) \u001b[39mand\u001b[39;00m \u001b[39mnot\u001b[39;00m \u001b[39misinstance\u001b[39m(y, \u001b[39mstr\u001b[39m)\n\u001b[1;32m    269\u001b[0m \u001b[39mif\u001b[39;00m \u001b[39mnot\u001b[39;00m valid:\n\u001b[0;32m--> 270\u001b[0m     \u001b[39mraise\u001b[39;00m \u001b[39mValueError\u001b[39;00m(\n\u001b[1;32m    271\u001b[0m         \u001b[39m\"\u001b[39m\u001b[39mExpected array-like (array or non-string sequence), got \u001b[39m\u001b[39m%r\u001b[39;00m\u001b[39m\"\u001b[39m \u001b[39m%\u001b[39m y\n\u001b[1;32m    272\u001b[0m     )\n\u001b[1;32m    274\u001b[0m sparse_pandas \u001b[39m=\u001b[39m y\u001b[39m.\u001b[39m\u001b[39m__class__\u001b[39m\u001b[39m.\u001b[39m\u001b[39m__name__\u001b[39m \u001b[39min\u001b[39;00m [\u001b[39m\"\u001b[39m\u001b[39mSparseSeries\u001b[39m\u001b[39m\"\u001b[39m, \u001b[39m\"\u001b[39m\u001b[39mSparseArray\u001b[39m\u001b[39m\"\u001b[39m]\n\u001b[1;32m    275\u001b[0m \u001b[39mif\u001b[39;00m sparse_pandas:\n",
      "\u001b[0;31mValueError\u001b[0m: Expected array-like (array or non-string sequence), got ClientObjectRef(00ffffffffffffffffffffffffffffffffffffff0100000003000000)"
     ]
    }
   ],
   "source": [
    "param_dists  = {\n",
    "    'n_estimators': tune.randint(400, 700),\n",
    "    'reg_alpha': tune.loguniform(1e-4, 1e-1),\n",
    "    'reg_lambda': tune.loguniform(1e-2, 1e-1),\n",
    "}\n",
    "\n",
    "\n",
    "gs = TuneSearchCV(model, param_dists, n_trials=100, scoring=\"accuracy\", search_optimization ='hyperopt', cv=3)\n",
    "gs.fit(X_train_scalar, y_train)\n"
   ]
  },
  {
   "cell_type": "code",
   "execution_count": null,
   "metadata": {},
   "outputs": [
    {
     "name": "stdout",
     "output_type": "stream",
     "text": [
      "Accuracy: 0.9736842105263158\n"
     ]
    }
   ],
   "source": [
    "# print(gs.cv_results_)\n",
    "\n",
    "pred = gs.predict(X_test)\n",
    "correct = 0\n",
    "for i in range(len(y_test)):\n",
    "    if pred[i] == y_test[i]:\n",
    "        correct += 1\n",
    "print(\"Accuracy:\", correct / len(pred))"
   ]
  },
  {
   "cell_type": "code",
   "execution_count": null,
   "metadata": {},
   "outputs": [],
   "source": []
  }
 ],
 "metadata": {
  "kernelspec": {
   "display_name": "Python 3.8.13 ('automl')",
   "language": "python",
   "name": "python3"
  },
  "language_info": {
   "codemirror_mode": {
    "name": "ipython",
    "version": 3
   },
   "file_extension": ".py",
   "mimetype": "text/x-python",
   "name": "python",
   "nbconvert_exporter": "python",
   "pygments_lexer": "ipython3",
   "version": "3.8.13"
  },
  "orig_nbformat": 4,
  "vscode": {
   "interpreter": {
    "hash": "6ceb9dcfe4855088cb408ca84060dddedae3a13bd9f61da61d02274285d7dc6d"
   }
  }
 },
 "nbformat": 4,
 "nbformat_minor": 2
}
