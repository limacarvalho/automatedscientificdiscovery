{
 "cells": [
  {
   "cell_type": "code",
   "execution_count": 1,
   "metadata": {},
   "outputs": [
    {
     "data": {
      "text/html": [
       "<style type='text/css'>\n",
       ".datatable table.frame { margin-bottom: 0; }\n",
       ".datatable table.frame thead { border-bottom: none; }\n",
       ".datatable table.frame tr.coltypes td {  color: #FFFFFF;  line-height: 6px;  padding: 0 0.5em;}\n",
       ".datatable .bool    { background: #DDDD99; }\n",
       ".datatable .object  { background: #565656; }\n",
       ".datatable .int     { background: #5D9E5D; }\n",
       ".datatable .float   { background: #4040CC; }\n",
       ".datatable .str     { background: #CC4040; }\n",
       ".datatable .time    { background: #40CC40; }\n",
       ".datatable .row_index {  background: var(--jp-border-color3);  border-right: 1px solid var(--jp-border-color0);  color: var(--jp-ui-font-color3);  font-size: 9px;}\n",
       ".datatable .frame tbody td { text-align: left; }\n",
       ".datatable .frame tr.coltypes .row_index {  background: var(--jp-border-color0);}\n",
       ".datatable th:nth-child(2) { padding-left: 12px; }\n",
       ".datatable .hellipsis {  color: var(--jp-cell-editor-border-color);}\n",
       ".datatable .vellipsis {  background: var(--jp-layout-color0);  color: var(--jp-cell-editor-border-color);}\n",
       ".datatable .na {  color: var(--jp-cell-editor-border-color);  font-size: 80%;}\n",
       ".datatable .sp {  opacity: 0.25;}\n",
       ".datatable .footer { font-size: 9px; }\n",
       ".datatable .frame_dimensions {  background: var(--jp-border-color3);  border-top: 1px solid var(--jp-border-color0);  color: var(--jp-ui-font-color3);  display: inline-block;  opacity: 0.6;  padding: 1px 10px 1px 5px;}\n",
       ".datatable .frame thead tr.colnames {  background-image: url('data:image/png;base64,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');  background-repeat: repeat-x;  background-size: 14px;  height: 28px;}\n",
       "</style>\n"
      ],
      "text/plain": [
       "<IPython.core.display.HTML object>"
      ]
     },
     "metadata": {},
     "output_type": "display_data"
    }
   ],
   "source": [
    "import sys; sys.path.insert(0, '../..') # add parent folder path where lib folder is\n",
    "from utils import helper, config, rayer, kaggle_dataset_helper"
   ]
  },
  {
   "cell_type": "code",
   "execution_count": 2,
   "metadata": {},
   "outputs": [],
   "source": [
    "\"\"\"Example using LightGBM, performing randomized search with TuneSearchCV.\n",
    "Example taken from https://mlfromscratch.com/gridsearch-keras-sklearn/#/\n",
    "\"\"\"\n",
    "\n",
    "from sklearn.ensemble import BaggingClassifier, BaggingRegressor\n",
    "from tune_sklearn import TuneSearchCV\n",
    "import ray\n",
    "from ray import tune\n",
    "from sklearn import metrics\n",
    "from sklearn.datasets import load_breast_cancer\n",
    "from sklearn.preprocessing import StandardScaler\n",
    "from sklearn.model_selection import train_test_split\n",
    "\n",
    "import pandas as pd\n",
    "from ray.tune.schedulers import MedianStoppingRule\n",
    "from ml.models import common\n"
   ]
  },
  {
   "cell_type": "code",
   "execution_count": 3,
   "metadata": {},
   "outputs": [
    {
     "name": "stderr",
     "output_type": "stream",
     "text": [
      "2022-12-02 21:39:09,060\tINFO packaging.py:527 -- Creating a file package for local directory '/mnt/c/Users/rwmas/GitHub/xai/python-asd/xai/'.\n",
      "2022-12-02 21:39:38,659\tINFO packaging.py:354 -- Pushing file package 'gcs://_ray_pkg_dc9e6d1db2bb0664.zip' (30.53MiB) to Ray cluster...\n",
      "2022-12-02 21:39:39,945\tINFO packaging.py:367 -- Successfully pushed file package 'gcs://_ray_pkg_dc9e6d1db2bb0664.zip'.\n"
     ]
    }
   ],
   "source": [
    "rayer.get_global_cluster()"
   ]
  },
  {
   "cell_type": "code",
   "execution_count": 4,
   "metadata": {},
   "outputs": [],
   "source": [
    "model = BaggingClassifier()"
   ]
  },
  {
   "cell_type": "code",
   "execution_count": 5,
   "metadata": {},
   "outputs": [],
   "source": [
    "ds_train, ds_test = kaggle_dataset_helper.get_transaction_predictions_dataset()\n",
    "\n",
    "ds_train = common.label_encode(ds_train)\n",
    "ds_test = common.label_encode(ds_test)\n",
    "\n",
    "ds_train = ds_train.fillna(-1)\n",
    "ds_test = ds_test.fillna(-1)\n",
    "\n",
    "df_X = ds_train.loc[:, ds_train.columns != 'target']\n",
    "df_y = ds_train['target']\n",
    "\n",
    "X_train, X_test, y_train, y_test = train_test_split(df_X, df_y, test_size=0.33)# , random_state=config.rand_state)\n",
    "\n",
    "\n",
    "ss = StandardScaler()\n",
    "X_train_scalar = pd.DataFrame(ss.fit_transform(X_train), columns = X_train.columns)\n",
    "X_test_scalar = pd.DataFrame(ss.fit_transform(X_test), columns = X_test.columns)"
   ]
  },
  {
   "cell_type": "code",
   "execution_count": 6,
   "metadata": {},
   "outputs": [],
   "source": [
    "scheduler = MedianStoppingRule(grace_period=10.0)"
   ]
  },
  {
   "cell_type": "code",
   "execution_count": 6,
   "metadata": {},
   "outputs": [
    {
     "ename": "ValueError",
     "evalue": "tune-sklearn uses `n_estimators` to warm start, so this parameter can't be set when warm start early stopping. ",
     "output_type": "error",
     "traceback": [
      "\u001b[0;31m---------------------------------------------------------------------------\u001b[0m",
      "\u001b[0;31mValueError\u001b[0m                                Traceback (most recent call last)",
      "\u001b[1;32m/mnt/c/Users/rwmas/GitHub/xai/python-asd/xai/notebooks/RayBayesOpt/tune-sklearn-bagging.ipynb Cell 7\u001b[0m in \u001b[0;36m<cell line: 6>\u001b[0;34m()\u001b[0m\n\u001b[1;32m      <a href='vscode-notebook-cell://wsl%2Bubuntu/mnt/c/Users/rwmas/GitHub/xai/python-asd/xai/notebooks/RayBayesOpt/tune-sklearn-bagging.ipynb#X11sdnNjb2RlLXJlbW90ZQ%3D%3D?line=0'>1</a>\u001b[0m param_dists  \u001b[39m=\u001b[39m {\n\u001b[1;32m      <a href='vscode-notebook-cell://wsl%2Bubuntu/mnt/c/Users/rwmas/GitHub/xai/python-asd/xai/notebooks/RayBayesOpt/tune-sklearn-bagging.ipynb#X11sdnNjb2RlLXJlbW90ZQ%3D%3D?line=1'>2</a>\u001b[0m     \u001b[39m'\u001b[39m\u001b[39mn_estimators\u001b[39m\u001b[39m'\u001b[39m: tune\u001b[39m.\u001b[39mrandint(\u001b[39m10\u001b[39m, \u001b[39m30\u001b[39m),\n\u001b[1;32m      <a href='vscode-notebook-cell://wsl%2Bubuntu/mnt/c/Users/rwmas/GitHub/xai/python-asd/xai/notebooks/RayBayesOpt/tune-sklearn-bagging.ipynb#X11sdnNjb2RlLXJlbW90ZQ%3D%3D?line=2'>3</a>\u001b[0m }\n\u001b[0;32m----> <a href='vscode-notebook-cell://wsl%2Bubuntu/mnt/c/Users/rwmas/GitHub/xai/python-asd/xai/notebooks/RayBayesOpt/tune-sklearn-bagging.ipynb#X11sdnNjb2RlLXJlbW90ZQ%3D%3D?line=5'>6</a>\u001b[0m gs \u001b[39m=\u001b[39m TuneSearchCV(model, param_dists, n_trials\u001b[39m=\u001b[39;49m\u001b[39m100\u001b[39;49m, scoring\u001b[39m=\u001b[39;49m\u001b[39m\"\u001b[39;49m\u001b[39maccuracy\u001b[39;49m\u001b[39m\"\u001b[39;49m, search_optimization \u001b[39m=\u001b[39;49m\u001b[39m'\u001b[39;49m\u001b[39mhyperopt\u001b[39;49m\u001b[39m'\u001b[39;49m, cv\u001b[39m=\u001b[39;49m\u001b[39m3\u001b[39;49m,  \n\u001b[1;32m      <a href='vscode-notebook-cell://wsl%2Bubuntu/mnt/c/Users/rwmas/GitHub/xai/python-asd/xai/notebooks/RayBayesOpt/tune-sklearn-bagging.ipynb#X11sdnNjb2RlLXJlbW90ZQ%3D%3D?line=6'>7</a>\u001b[0m                                 \u001b[39m# early_stopping=None,\u001b[39;49;00m\n\u001b[1;32m      <a href='vscode-notebook-cell://wsl%2Bubuntu/mnt/c/Users/rwmas/GitHub/xai/python-asd/xai/notebooks/RayBayesOpt/tune-sklearn-bagging.ipynb#X11sdnNjb2RlLXJlbW90ZQ%3D%3D?line=7'>8</a>\u001b[0m                                 \u001b[39m# early_stopping=scheduler,\u001b[39;49;00m\n\u001b[1;32m      <a href='vscode-notebook-cell://wsl%2Bubuntu/mnt/c/Users/rwmas/GitHub/xai/python-asd/xai/notebooks/RayBayesOpt/tune-sklearn-bagging.ipynb#X11sdnNjb2RlLXJlbW90ZQ%3D%3D?line=8'>9</a>\u001b[0m                                 early_stopping\u001b[39m=\u001b[39;49m\u001b[39mTrue\u001b[39;49;00m,                                \n\u001b[1;32m     <a href='vscode-notebook-cell://wsl%2Bubuntu/mnt/c/Users/rwmas/GitHub/xai/python-asd/xai/notebooks/RayBayesOpt/tune-sklearn-bagging.ipynb#X11sdnNjb2RlLXJlbW90ZQ%3D%3D?line=9'>10</a>\u001b[0m                                 )\n\u001b[1;32m     <a href='vscode-notebook-cell://wsl%2Bubuntu/mnt/c/Users/rwmas/GitHub/xai/python-asd/xai/notebooks/RayBayesOpt/tune-sklearn-bagging.ipynb#X11sdnNjb2RlLXJlbW90ZQ%3D%3D?line=10'>11</a>\u001b[0m gs\u001b[39m.\u001b[39mfit(X_train_scalar, y_train)\n",
      "File \u001b[0;32m~/miniconda3/envs/automl/lib/python3.8/site-packages/tune_sklearn/tune_search.py:423\u001b[0m, in \u001b[0;36mTuneSearchCV.__init__\u001b[0;34m(self, estimator, param_distributions, early_stopping, n_trials, scoring, n_jobs, refit, cv, verbose, random_state, error_score, return_train_score, local_dir, name, max_iters, search_optimization, use_gpu, loggers, pipeline_auto_early_stop, stopper, time_budget_s, sk_n_jobs, mode, search_kwargs, **kwargs)\u001b[0m\n\u001b[1;32m    401\u001b[0m             _check_distribution(dist, \u001b[39mself\u001b[39m\u001b[39m.\u001b[39m_search_optimization_lower)\n\u001b[1;32m    403\u001b[0m \u001b[39msuper\u001b[39m(TuneSearchCV, \u001b[39mself\u001b[39m)\u001b[39m.\u001b[39m\u001b[39m__init__\u001b[39m(\n\u001b[1;32m    404\u001b[0m     estimator\u001b[39m=\u001b[39mestimator,\n\u001b[1;32m    405\u001b[0m     early_stopping\u001b[39m=\u001b[39mearly_stopping,\n\u001b[0;32m   (...)\u001b[0m\n\u001b[1;32m    420\u001b[0m     time_budget_s\u001b[39m=\u001b[39mtime_budget_s,\n\u001b[1;32m    421\u001b[0m     mode\u001b[39m=\u001b[39mmode)\n\u001b[0;32m--> 423\u001b[0m check_error_warm_start(\u001b[39mself\u001b[39;49m\u001b[39m.\u001b[39;49mearly_stop_type, param_distributions,\n\u001b[1;32m    424\u001b[0m                        estimator)\n\u001b[1;32m    426\u001b[0m \u001b[39mself\u001b[39m\u001b[39m.\u001b[39mparam_distributions \u001b[39m=\u001b[39m param_distributions\n\u001b[1;32m    427\u001b[0m \u001b[39mself\u001b[39m\u001b[39m.\u001b[39mn_trials \u001b[39m=\u001b[39m n_trials\n",
      "File \u001b[0;32m~/miniconda3/envs/automl/lib/python3.8/site-packages/tune_sklearn/utils.py:95\u001b[0m, in \u001b[0;36mcheck_error_warm_start\u001b[0;34m(early_stop_type, estimator_config, estimator)\u001b[0m\n\u001b[1;32m     90\u001b[0m     \u001b[39mraise\u001b[39;00m \u001b[39mValueError\u001b[39;00m(\u001b[39m\"\u001b[39m\u001b[39mtune-sklearn uses `max_iter` to warm \u001b[39m\u001b[39m\"\u001b[39m\n\u001b[1;32m     91\u001b[0m                      \u001b[39m\"\u001b[39m\u001b[39mstart, so this parameter can\u001b[39m\u001b[39m'\u001b[39m\u001b[39mt be \u001b[39m\u001b[39m\"\u001b[39m\n\u001b[1;32m     92\u001b[0m                      \u001b[39m\"\u001b[39m\u001b[39mset when warm start early stopping. \u001b[39m\u001b[39m\"\u001b[39m)\n\u001b[1;32m     93\u001b[0m \u001b[39mif\u001b[39;00m (early_stop_type \u001b[39m==\u001b[39m EarlyStopping\u001b[39m.\u001b[39mWARM_START_ENSEMBLE\n\u001b[1;32m     94\u001b[0m         \u001b[39mand\u001b[39;00m \u001b[39m\"\u001b[39m\u001b[39mn_estimators\u001b[39m\u001b[39m\"\u001b[39m \u001b[39min\u001b[39;00m estimator_config):\n\u001b[0;32m---> 95\u001b[0m     \u001b[39mraise\u001b[39;00m \u001b[39mValueError\u001b[39;00m(\u001b[39m\"\u001b[39m\u001b[39mtune-sklearn uses `n_estimators` to warm \u001b[39m\u001b[39m\"\u001b[39m\n\u001b[1;32m     96\u001b[0m                      \u001b[39m\"\u001b[39m\u001b[39mstart, so this parameter can\u001b[39m\u001b[39m'\u001b[39m\u001b[39mt be \u001b[39m\u001b[39m\"\u001b[39m\n\u001b[1;32m     97\u001b[0m                      \u001b[39m\"\u001b[39m\u001b[39mset when warm start early stopping. \u001b[39m\u001b[39m\"\u001b[39m)\n",
      "\u001b[0;31mValueError\u001b[0m: tune-sklearn uses `n_estimators` to warm start, so this parameter can't be set when warm start early stopping. "
     ]
    }
   ],
   "source": [
    "param_dists  = {\n",
    "    'n_estimators': tune.randint(10, 30),\n",
    "}\n",
    "\n",
    "\n",
    "gs = TuneSearchCV(model, param_dists, n_trials=100, scoring=\"accuracy\", search_optimization ='hyperopt', cv=3,  \n",
    "                                early_stopping=None,\n",
    "                                # early_stopping=scheduler,\n",
    "                                # early_stopping=True,                                \n",
    "                                )\n",
    "gs.fit(X_train_scalar, y_train)\n"
   ]
  },
  {
   "cell_type": "markdown",
   "metadata": {},
   "source": []
  },
  {
   "cell_type": "code",
   "execution_count": null,
   "metadata": {},
   "outputs": [],
   "source": [
    "pred = gs.predict(X_test)"
   ]
  },
  {
   "cell_type": "code",
   "execution_count": null,
   "metadata": {},
   "outputs": [],
   "source": [
    "metrics.accuracy_score(pred, y_test)"
   ]
  },
  {
   "cell_type": "code",
   "execution_count": null,
   "metadata": {},
   "outputs": [
    {
     "name": "stdout",
     "output_type": "stream",
     "text": [
      "Accuracy: 0.9736842105263158\n"
     ]
    }
   ],
   "source": [
    "# print(gs.cv_results_)\n",
    "\n",
    "pred = gs.predict(X_test)\n",
    "correct = 0\n",
    "for i in range(len(y_test)):\n",
    "    if pred[i] == y_test[i]:\n",
    "        correct += 1\n",
    "print(\"Accuracy:\", correct / len(pred))"
   ]
  },
  {
   "cell_type": "code",
   "execution_count": null,
   "metadata": {},
   "outputs": [],
   "source": []
  }
 ],
 "metadata": {
  "kernelspec": {
   "display_name": "Python 3.8.13 ('automl')",
   "language": "python",
   "name": "python3"
  },
  "language_info": {
   "codemirror_mode": {
    "name": "ipython",
    "version": 3
   },
   "file_extension": ".py",
   "mimetype": "text/x-python",
   "name": "python",
   "nbconvert_exporter": "python",
   "pygments_lexer": "ipython3",
   "version": "3.8.13"
  },
  "orig_nbformat": 4,
  "vscode": {
   "interpreter": {
    "hash": "6ceb9dcfe4855088cb408ca84060dddedae3a13bd9f61da61d02274285d7dc6d"
   }
  }
 },
 "nbformat": 4,
 "nbformat_minor": 2
}
