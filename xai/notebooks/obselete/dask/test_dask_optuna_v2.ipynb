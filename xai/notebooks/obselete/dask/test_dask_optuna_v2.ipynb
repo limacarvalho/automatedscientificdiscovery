{
 "cells": [
  {
   "cell_type": "code",
   "execution_count": 1,
   "id": "c24b2a19-2095-4039-a7bb-9ab597264f9b",
   "metadata": {},
   "outputs": [],
   "source": [
    "%load_ext autoreload\n",
    "%autoreload 2\n",
    "import sys\n",
    "\n",
    "sys.path.insert(0, \"..\")  # add parent folder path where lib folder is"
   ]
  },
  {
   "cell_type": "code",
   "execution_count": 2,
   "id": "ca09566d-a4f3-46ec-9603-c8856fcec348",
   "metadata": {},
   "outputs": [
    {
     "name": "stderr",
     "output_type": "stream",
     "text": [
      "/home/conda/admin/1c9d9fbeff3e46180d6a8a009af482ef5e93abe04420c8eddea14e360f402824-20221103-192738-068973-22-wasif-dev/lib/python3.9/site-packages/cupy/_environment.py:437: UserWarning: \n",
      "--------------------------------------------------------------------------------\n",
      "\n",
      "  CuPy may not function correctly because multiple CuPy packages are installed\n",
      "  in your environment:\n",
      "\n",
      "    cupy, cupy-cuda115\n",
      "\n",
      "  Follow these steps to resolve this issue:\n",
      "\n",
      "    1. For all packages listed above, run the following command to remove all\n",
      "       existing CuPy installations:\n",
      "\n",
      "         $ pip uninstall <package_name>\n",
      "\n",
      "      If you previously installed CuPy via conda, also run the following:\n",
      "\n",
      "         $ conda uninstall cupy\n",
      "\n",
      "    2. Install the appropriate CuPy package.\n",
      "       Refer to the Installation Guide for detailed instructions.\n",
      "\n",
      "         https://docs.cupy.dev/en/stable/install.html\n",
      "\n",
      "--------------------------------------------------------------------------------\n",
      "\n",
      "  warnings.warn(f'''\n"
     ]
    }
   ],
   "source": [
    "from utils import config, dasker, helper"
   ]
  },
  {
   "cell_type": "code",
   "execution_count": 10,
   "id": "27f1f3c2-f6d0-4451-88ff-2956e2a5fec4",
   "metadata": {},
   "outputs": [],
   "source": [
    "\"\"\"\n",
    "Example using Coiled (https://coiled.io) and Dask-Optuna to run optimization trials\n",
    "on a Dask cluster on AWS.\n",
    "Here we use Optuna to tune hyperparameters for an XGBoost classifier.\n",
    "Adapted from https://github.com/optuna/optuna/blob/master/examples/xgboost_simple.py\n",
    "\"\"\"\n",
    "from pprint import pprint\n",
    "\n",
    "import dask_optuna\n",
    "import joblib\n",
    "import numpy as np\n",
    "import optuna\n",
    "import sklearn.datasets\n",
    "import sklearn.metrics\n",
    "import xgboost as xgb\n",
    "from dask.distributed import Client\n",
    "\n",
    "# from sklearn.model_selection import train_test_split\n",
    "from dask_ml.model_selection import train_test_split\n",
    "\n",
    "optuna.logging.set_verbosity(optuna.logging.WARNING)"
   ]
  },
  {
   "cell_type": "code",
   "execution_count": 3,
   "id": "264ec394-c47f-4427-99ab-27c0fea4ad28",
   "metadata": {},
   "outputs": [],
   "source": [
    "def objective(trial):\n",
    "    # X, y = sklearn.datasets.load_breast_cancer(return_X_y=True)\n",
    "    X, y = helper.get_dd_covid_dataset()\n",
    "    X_train, X_test, y_train, y_test = train_test_split(X, y, test_size=0.25)\n",
    "    dtrain = xgb.DMatrix(X_train, label=y_train)\n",
    "    dtest = xgb.DMatrix(X_test, label=y_test)\n",
    "\n",
    "    param = {\n",
    "        \"silent\": 1,\n",
    "        \"objective\": \"binary:logistic\",\n",
    "        \"booster\": trial.suggest_categorical(\"booster\", [\"gbtree\", \"gblinear\", \"dart\"]),\n",
    "        \"lambda\": trial.suggest_float(\"lambda\", 1e-8, 1.0, log=True),\n",
    "        \"alpha\": trial.suggest_float(\"alpha\", 1e-8, 1.0, log=True),\n",
    "    }\n",
    "\n",
    "    if param[\"booster\"] == \"gbtree\" or param[\"booster\"] == \"dart\":\n",
    "        param[\"max_depth\"] = trial.suggest_int(\"max_depth\", 1, 9)\n",
    "        param[\"eta\"] = trial.suggest_float(\"eta\", 1e-8, 1.0, log=True)\n",
    "        param[\"gamma\"] = trial.suggest_float(\"gamma\", 1e-8, 1.0, log=True)\n",
    "        param[\"grow_policy\"] = trial.suggest_categorical(\n",
    "            \"grow_policy\", [\"depthwise\", \"lossguide\"]\n",
    "        )\n",
    "    if param[\"booster\"] == \"dart\":\n",
    "        param[\"sample_type\"] = trial.suggest_categorical(\n",
    "            \"sample_type\", [\"uniform\", \"weighted\"]\n",
    "        )\n",
    "        param[\"normalize_type\"] = trial.suggest_categorical(\n",
    "            \"normalize_type\", [\"tree\", \"forest\"]\n",
    "        )\n",
    "        param[\"rate_drop\"] = trial.suggest_float(\"rate_drop\", 1e-8, 1.0, log=True)\n",
    "        param[\"skip_drop\"] = trial.suggest_float(\"skip_drop\", 1e-8, 1.0, log=True)\n",
    "\n",
    "    bst = xgb.train(param, dtrain)\n",
    "    preds = bst.predict(dtest)\n",
    "    pred_labels = np.rint(preds)\n",
    "    accuracy = sklearn.metrics.accuracy_score(y_test, pred_labels)\n",
    "    return accuracy"
   ]
  },
  {
   "cell_type": "code",
   "execution_count": 4,
   "id": "55a66a34-8c9e-428e-9c12-d322f8e16c1e",
   "metadata": {},
   "outputs": [
    {
     "name": "stdout",
     "output_type": "stream",
     "text": [
      "connected to cluster dev.0d572b45216f4583ace62eae2c1a0f32\n",
      "Dask dashboard is available at https://asd-dev.link/gateway/clusters/dev.0d572b45216f4583ace62eae2c1a0f32/status\n"
     ]
    },
    {
     "name": "stderr",
     "output_type": "stream",
     "text": [
      "/home/conda/admin/1c9d9fbeff3e46180d6a8a009af482ef5e93abe04420c8eddea14e360f402824-20221103-192738-068973-22-wasif-dev/lib/python3.9/site-packages/distributed/client.py:1348: VersionMismatchWarning: Mismatched versions found\n",
      "\n",
      "+-------------+-----------+-----------+-----------+\n",
      "| Package     | client    | scheduler | workers   |\n",
      "+-------------+-----------+-----------+-----------+\n",
      "| dask        | 2022.10.2 | 2022.04.2 | 2022.04.2 |\n",
      "| distributed | 2022.10.2 | 2022.4.2  | 2022.4.2  |\n",
      "+-------------+-----------+-----------+-----------+\n",
      "  warnings.warn(version_module.VersionMismatchWarning(msg[0][\"warning\"]))\n"
     ]
    },
    {
     "ename": "NameError",
     "evalue": "name 'dask_optuna' is not defined",
     "output_type": "error",
     "traceback": [
      "\u001b[0;31m---------------------------------------------------------------------------\u001b[0m",
      "\u001b[0;31mNameError\u001b[0m                                 Traceback (most recent call last)",
      "Cell \u001b[0;32mIn [4], line 5\u001b[0m\n\u001b[1;32m      2\u001b[0m \u001b[38;5;28mprint\u001b[39m(\u001b[38;5;124mf\u001b[39m\u001b[38;5;124m\"\u001b[39m\u001b[38;5;124mDask dashboard is available at \u001b[39m\u001b[38;5;132;01m{\u001b[39;00mclient\u001b[38;5;241m.\u001b[39mdashboard_link\u001b[38;5;132;01m}\u001b[39;00m\u001b[38;5;124m\"\u001b[39m)\n\u001b[1;32m      3\u001b[0m \u001b[38;5;66;03m# client.wait_for_workers(5)\u001b[39;00m\n\u001b[0;32m----> 5\u001b[0m storage \u001b[38;5;241m=\u001b[39m \u001b[43mdask_optuna\u001b[49m\u001b[38;5;241m.\u001b[39mDaskStorage()\n\u001b[1;32m      6\u001b[0m study \u001b[38;5;241m=\u001b[39m optuna\u001b[38;5;241m.\u001b[39mcreate_study(storage\u001b[38;5;241m=\u001b[39mstorage, direction\u001b[38;5;241m=\u001b[39m\u001b[38;5;124m\"\u001b[39m\u001b[38;5;124mmaximize\u001b[39m\u001b[38;5;124m\"\u001b[39m)\n\u001b[1;32m      7\u001b[0m \u001b[38;5;28;01mwith\u001b[39;00m joblib\u001b[38;5;241m.\u001b[39mparallel_backend(\u001b[38;5;124m\"\u001b[39m\u001b[38;5;124mdask\u001b[39m\u001b[38;5;124m\"\u001b[39m):\n",
      "\u001b[0;31mNameError\u001b[0m: name 'dask_optuna' is not defined"
     ]
    }
   ],
   "source": [
    "with dasker.get_global_client() as client:\n",
    "    print(f\"Dask dashboard is available at {client.dashboard_link}\")\n",
    "    # client.wait_for_workers(5)\n",
    "\n",
    "    storage = dask_optuna.DaskStorage()\n",
    "    study = optuna.create_study(storage=storage, direction=\"maximize\")\n",
    "    with joblib.parallel_backend(\"dask\"):\n",
    "        study.optimize(objective, n_trials=100, n_jobs=-1)\n",
    "\n",
    "    print(\"Best params:\")\n",
    "    pprint(study.best_params)"
   ]
  },
  {
   "cell_type": "code",
   "execution_count": null,
   "id": "65b4fc76-5d6b-4b8d-aae6-cf420e872ab7",
   "metadata": {},
   "outputs": [],
   "source": []
  }
 ],
 "metadata": {
  "kernelspec": {
   "display_name": "admin-admin-wasif-dev",
   "language": "python",
   "name": "conda-env-admin-admin-wasif-dev-py"
  },
  "language_info": {
   "codemirror_mode": {
    "name": "ipython",
    "version": 3
   },
   "file_extension": ".py",
   "mimetype": "text/x-python",
   "name": "python",
   "nbconvert_exporter": "python",
   "pygments_lexer": "ipython3",
   "version": "3.9.13"
  }
 },
 "nbformat": 4,
 "nbformat_minor": 5
}
