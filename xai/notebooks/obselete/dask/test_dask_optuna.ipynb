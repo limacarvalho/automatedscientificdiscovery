{
 "cells": [
  {
   "cell_type": "code",
   "execution_count": 1,
   "id": "f39e84dd-0d48-45bf-816d-289086829204",
   "metadata": {},
   "outputs": [],
   "source": [
    "%load_ext autoreload\n",
    "%autoreload 2\n",
    "import sys; sys.path.insert(0, '..') # add parent folder path where lib folder is\n",
    "\n",
    "import optuna\n",
    "import joblib\n",
    "import dask.distributed\n",
    "import dask_optuna\n",
    "\n"
   ]
  },
  {
   "cell_type": "code",
   "execution_count": 2,
   "id": "842d84e4-75ea-4038-b2e3-c6bf40893694",
   "metadata": {},
   "outputs": [
    {
     "name": "stderr",
     "output_type": "stream",
     "text": [
      "/home/conda/admin/1c9d9fbeff3e46180d6a8a009af482ef5e93abe04420c8eddea14e360f402824-20221103-192738-068973-22-wasif-dev/lib/python3.9/site-packages/cupy/_environment.py:437: UserWarning: \n",
      "--------------------------------------------------------------------------------\n",
      "\n",
      "  CuPy may not function correctly because multiple CuPy packages are installed\n",
      "  in your environment:\n",
      "\n",
      "    cupy, cupy-cuda115\n",
      "\n",
      "  Follow these steps to resolve this issue:\n",
      "\n",
      "    1. For all packages listed above, run the following command to remove all\n",
      "       existing CuPy installations:\n",
      "\n",
      "         $ pip uninstall <package_name>\n",
      "\n",
      "      If you previously installed CuPy via conda, also run the following:\n",
      "\n",
      "         $ conda uninstall cupy\n",
      "\n",
      "    2. Install the appropriate CuPy package.\n",
      "       Refer to the Installation Guide for detailed instructions.\n",
      "\n",
      "         https://docs.cupy.dev/en/stable/install.html\n",
      "\n",
      "--------------------------------------------------------------------------------\n",
      "\n",
      "  warnings.warn(f'''\n"
     ]
    }
   ],
   "source": [
    "from utils import dasker, helper, config\n",
    "import pandas as pd"
   ]
  },
  {
   "cell_type": "code",
   "execution_count": 3,
   "id": "40da5b4c-91fc-4e9b-b152-777f2816681e",
   "metadata": {},
   "outputs": [
    {
     "name": "stdout",
     "output_type": "stream",
     "text": [
      "connected to cluster dev.cc639015ed5141b48084bb654062e917\n"
     ]
    },
    {
     "name": "stderr",
     "output_type": "stream",
     "text": [
      "/home/conda/admin/1c9d9fbeff3e46180d6a8a009af482ef5e93abe04420c8eddea14e360f402824-20221103-192738-068973-22-wasif-dev/lib/python3.9/site-packages/distributed/client.py:1348: VersionMismatchWarning: Mismatched versions found\n",
      "\n",
      "+-------------+-----------+-----------+-----------+\n",
      "| Package     | client    | scheduler | workers   |\n",
      "+-------------+-----------+-----------+-----------+\n",
      "| dask        | 2022.10.2 | 2022.04.2 | 2022.04.2 |\n",
      "| distributed | 2022.10.2 | 2022.4.2  | 2022.4.2  |\n",
      "+-------------+-----------+-----------+-----------+\n",
      "  warnings.warn(version_module.VersionMismatchWarning(msg[0][\"warning\"]))\n"
     ]
    }
   ],
   "source": [
    "client = dasker.get_global_client()"
   ]
  },
  {
   "cell_type": "code",
   "execution_count": 4,
   "id": "e8c7933a-967f-43f5-9169-88653b4be883",
   "metadata": {},
   "outputs": [],
   "source": [
    "X, y = helper.get_dd_covid_dataset()"
   ]
  },
  {
   "cell_type": "code",
   "execution_count": 13,
   "id": "6aab6c7f-675d-41cb-b3af-90959d7ee2e1",
   "metadata": {},
   "outputs": [],
   "source": [
    "import xgboost as xgb\n",
    "\n",
    "\n",
    "\n",
    "def objective(trial, X, y ):\n",
    "    \n",
    "#    X = X.drop(['location'], axis = 1)\n",
    "    \n",
    "    # X, y = helper.get_dd_covid_dataset()\n",
    "    param = {\n",
    "        \"objective\": 'count:poisson',\n",
    "        \"booster\": trial.suggest_categorical(\"booster\", [\"gbtree\", \"dart\"]),\n",
    "        \"lambda\": trial.suggest_float(\"lambda\", 1e-3, 1.0, log=True),\n",
    "        \"alpha\": trial.suggest_float(\"alpha\", 1e-3, 1.0, log=True),\n",
    "    }\n",
    "\n",
    "    \n",
    "    \n",
    "    dtrain = xgb.DMatrix(X, label=y)\n",
    "    \n",
    "\n",
    "    model = xgb.train(param, dtrain, num_boost_round = 10, verbose_eval = 1)\n",
    "    \n",
    "    \n",
    "    return 15.0"
   ]
  },
  {
   "cell_type": "code",
   "execution_count": 15,
   "id": "cbec4374-f5ac-49d5-981d-d88531772ed7",
   "metadata": {},
   "outputs": [
    {
     "name": "stderr",
     "output_type": "stream",
     "text": [
      "2022-11-08 03:50:29,484 - distributed.protocol.pickle - INFO - Failed to deserialize b'\\x80\\x04\\x95\\x16\\x06\\x00\\x00\\x00\\x00\\x00\\x00\\x8c\\x15distributed.scheduler\\x94\\x8c\\x0cKilledWorker\\x94\\x93\\x94\\x8cFbatch_of__optimize_sequential_1_calls-078e5e1f8dfb439fb55233ef3b152fb2\\x94h\\x00\\x8c\\x0bWorkerState\\x94\\x93\\x94)\\x81\\x94N}\\x94(\\x8c\\x07address\\x94\\x8c\\x17tls://10.10.6.148:39127\\x94\\x8c\\x03pid\\x94K\\x1a\\x8c\\x04name\\x94\\x8c2dask-worker-cc639015ed5141b48084bb654062e917-nt2gr\\x94\\x8c\\x08nthreads\\x94K\\x03\\x8c\\x0cmemory_limit\\x94\\x8a\\x05\\x00\\x00\\x00\\xe0\\x03\\x8c\\x0flocal_directory\\x94\\x8c-/home/wasif/dask-worker-space/worker-6p2sjipo\\x94\\x8c\\x08services\\x94}\\x94\\x8c\\tdashboard\\x94MS\"s\\x8c\\x08versions\\x94}\\x94\\x8c\\x05nanny\\x94\\x8c\\x17tls://10.10.6.148:39893\\x94\\x8c\\x06status\\x94\\x8c\\x10distributed.core\\x94\\x8c\\x06Status\\x94\\x93\\x94\\x8c\\x06closed\\x94\\x85\\x94R\\x94\\x8c\\x05_hash\\x94\\x8a\\x08\\xbe\\xd3\\x1e\\xe3~U\\x07\\xb3\\x8c\\x06nbytes\\x94K\\x00\\x8c\\toccupancy\\x94K\\x00\\x8c\\x15_memory_unmanaged_old\\x94K\\x00\\x8c\\x19_memory_unmanaged_history\\x94\\x8c\\x0bcollections\\x94\\x8c\\x05deque\\x94\\x93\\x94)R\\x94\\x8c\\x07metrics\\x94}\\x94\\x8c\\tlast_seen\\x94K\\x00\\x8c\\ntime_delay\\x94K\\x00\\x8c\\tbandwidth\\x94J\\x00\\xe1\\xf5\\x05\\x8c\\x06actors\\x94\\x8f\\x94\\x8c\\t_has_what\\x94}\\x94\\x8c\\nprocessing\\x94}\\x94(\\x8cFbatch_of__optimize_sequential_1_calls-71ca4d7996454a22a5365ae097aa11b3\\x94G?\\xe0\\x00\\x00\\x00\\x00\\x00\\x00\\x8cFbatch_of__optimize_sequential_1_calls-57fcb3e08ce94bfe9498d553bc8824bc\\x94G?\\xe0\\x00\\x00\\x00\\x00\\x00\\x00h\\x03G?\\xe0\\x00\\x00\\x00\\x00\\x00\\x00\\x8cFbatch_of__optimize_sequential_1_calls-8adcd09378e84086a2ea510f4a0e8d42\\x94G?\\xe0\\x00\\x00\\x00\\x00\\x00\\x00\\x8cFbatch_of__optimize_sequential_1_calls-fe9b699ac31a4671b22bc760508b0e44\\x94G?\\xe0\\x00\\x00\\x00\\x00\\x00\\x00\\x8cFbatch_of__optimize_sequential_1_calls-8c54b5b9166941d89c698b737c806c6d\\x94G?\\xe0\\x00\\x00\\x00\\x00\\x00\\x00\\x8cFbatch_of__optimize_sequential_1_calls-4c501b84900446328368a11678fb63cf\\x94G?\\xe0\\x00\\x00\\x00\\x00\\x00\\x00\\x8cFbatch_of__optimize_sequential_1_calls-6d65d63d1a0844eabf584d145c7b9d17\\x94G?\\xe0\\x00\\x00\\x00\\x00\\x00\\x00\\x8cFbatch_of__optimize_sequential_1_calls-016ae5a9ab9a485da3cf25f8d196c2ab\\x94G?\\xe0\\x00\\x00\\x00\\x00\\x00\\x00\\x8cFbatch_of__optimize_sequential_1_calls-24ca654ed4504e82b0c23d71d8c08388\\x94G?\\xe0\\x00\\x00\\x00\\x00\\x00\\x00u\\x8c\\x0clong_running\\x94\\x8f\\x94\\x8c\\texecuting\\x94}\\x94\\x8c\\tresources\\x94}\\x94\\x8c\\x0eused_resources\\x94}\\x94\\x8c\\x05extra\\x94}\\x94u\\x86\\x94b\\x86\\x94R\\x94}\\x94(\\x8c\\x04task\\x94h\\x03\\x8c\\x0blast_worker\\x94h\\x06ub.'\n",
      "Traceback (most recent call last):\n",
      "  File \"/home/conda/admin/1c9d9fbeff3e46180d6a8a009af482ef5e93abe04420c8eddea14e360f402824-20221103-192738-068973-22-wasif-dev/lib/python3.9/site-packages/distributed/protocol/pickle.py\", line 73, in loads\n",
      "    return pickle.loads(x)\n",
      "AttributeError: can't set attribute\n",
      "2022-11-08 03:50:29,485 - distributed.protocol.pickle - INFO - Failed to deserialize b'\\x80\\x04\\x95\\x16\\x06\\x00\\x00\\x00\\x00\\x00\\x00\\x8c\\x15distributed.scheduler\\x94\\x8c\\x0cKilledWorker\\x94\\x93\\x94\\x8cFbatch_of__optimize_sequential_1_calls-8adcd09378e84086a2ea510f4a0e8d42\\x94h\\x00\\x8c\\x0bWorkerState\\x94\\x93\\x94)\\x81\\x94N}\\x94(\\x8c\\x07address\\x94\\x8c\\x17tls://10.10.6.148:39127\\x94\\x8c\\x03pid\\x94K\\x1a\\x8c\\x04name\\x94\\x8c2dask-worker-cc639015ed5141b48084bb654062e917-nt2gr\\x94\\x8c\\x08nthreads\\x94K\\x03\\x8c\\x0cmemory_limit\\x94\\x8a\\x05\\x00\\x00\\x00\\xe0\\x03\\x8c\\x0flocal_directory\\x94\\x8c-/home/wasif/dask-worker-space/worker-6p2sjipo\\x94\\x8c\\x08services\\x94}\\x94\\x8c\\tdashboard\\x94MS\"s\\x8c\\x08versions\\x94}\\x94\\x8c\\x05nanny\\x94\\x8c\\x17tls://10.10.6.148:39893\\x94\\x8c\\x06status\\x94\\x8c\\x10distributed.core\\x94\\x8c\\x06Status\\x94\\x93\\x94\\x8c\\x06closed\\x94\\x85\\x94R\\x94\\x8c\\x05_hash\\x94\\x8a\\x08\\xbe\\xd3\\x1e\\xe3~U\\x07\\xb3\\x8c\\x06nbytes\\x94K\\x00\\x8c\\toccupancy\\x94K\\x00\\x8c\\x15_memory_unmanaged_old\\x94K\\x00\\x8c\\x19_memory_unmanaged_history\\x94\\x8c\\x0bcollections\\x94\\x8c\\x05deque\\x94\\x93\\x94)R\\x94\\x8c\\x07metrics\\x94}\\x94\\x8c\\tlast_seen\\x94K\\x00\\x8c\\ntime_delay\\x94K\\x00\\x8c\\tbandwidth\\x94J\\x00\\xe1\\xf5\\x05\\x8c\\x06actors\\x94\\x8f\\x94\\x8c\\t_has_what\\x94}\\x94\\x8c\\nprocessing\\x94}\\x94(\\x8cFbatch_of__optimize_sequential_1_calls-71ca4d7996454a22a5365ae097aa11b3\\x94G?\\xe0\\x00\\x00\\x00\\x00\\x00\\x00\\x8cFbatch_of__optimize_sequential_1_calls-57fcb3e08ce94bfe9498d553bc8824bc\\x94G?\\xe0\\x00\\x00\\x00\\x00\\x00\\x00\\x8cFbatch_of__optimize_sequential_1_calls-078e5e1f8dfb439fb55233ef3b152fb2\\x94G?\\xe0\\x00\\x00\\x00\\x00\\x00\\x00h\\x03G?\\xe0\\x00\\x00\\x00\\x00\\x00\\x00\\x8cFbatch_of__optimize_sequential_1_calls-fe9b699ac31a4671b22bc760508b0e44\\x94G?\\xe0\\x00\\x00\\x00\\x00\\x00\\x00\\x8cFbatch_of__optimize_sequential_1_calls-8c54b5b9166941d89c698b737c806c6d\\x94G?\\xe0\\x00\\x00\\x00\\x00\\x00\\x00\\x8cFbatch_of__optimize_sequential_1_calls-4c501b84900446328368a11678fb63cf\\x94G?\\xe0\\x00\\x00\\x00\\x00\\x00\\x00\\x8cFbatch_of__optimize_sequential_1_calls-6d65d63d1a0844eabf584d145c7b9d17\\x94G?\\xe0\\x00\\x00\\x00\\x00\\x00\\x00\\x8cFbatch_of__optimize_sequential_1_calls-016ae5a9ab9a485da3cf25f8d196c2ab\\x94G?\\xe0\\x00\\x00\\x00\\x00\\x00\\x00\\x8cFbatch_of__optimize_sequential_1_calls-24ca654ed4504e82b0c23d71d8c08388\\x94G?\\xe0\\x00\\x00\\x00\\x00\\x00\\x00u\\x8c\\x0clong_running\\x94\\x8f\\x94\\x8c\\texecuting\\x94}\\x94\\x8c\\tresources\\x94}\\x94\\x8c\\x0eused_resources\\x94}\\x94\\x8c\\x05extra\\x94}\\x94u\\x86\\x94b\\x86\\x94R\\x94}\\x94(\\x8c\\x04task\\x94h\\x03\\x8c\\x0blast_worker\\x94h\\x06ub.'\n",
      "Traceback (most recent call last):\n",
      "  File \"/home/conda/admin/1c9d9fbeff3e46180d6a8a009af482ef5e93abe04420c8eddea14e360f402824-20221103-192738-068973-22-wasif-dev/lib/python3.9/site-packages/distributed/protocol/pickle.py\", line 73, in loads\n",
      "    return pickle.loads(x)\n",
      "AttributeError: can't set attribute\n",
      "2022-11-08 03:50:29,490 - distributed.protocol.pickle - INFO - Failed to deserialize b'\\x80\\x04\\x95r\\x05\\x00\\x00\\x00\\x00\\x00\\x00\\x8c\\x15distributed.scheduler\\x94\\x8c\\x0cKilledWorker\\x94\\x93\\x94\\x8cFbatch_of__optimize_sequential_1_calls-24ca654ed4504e82b0c23d71d8c08388\\x94h\\x00\\x8c\\x0bWorkerState\\x94\\x93\\x94)\\x81\\x94N}\\x94(\\x8c\\x07address\\x94\\x8c\\x17tls://10.10.41.43:33891\\x94\\x8c\\x03pid\\x94K\\x1a\\x8c\\x04name\\x94\\x8c2dask-worker-cc639015ed5141b48084bb654062e917-946x9\\x94\\x8c\\x08nthreads\\x94K\\x03\\x8c\\x0cmemory_limit\\x94\\x8a\\x05\\x00\\x00\\x00\\xe0\\x03\\x8c\\x0flocal_directory\\x94\\x8c-/home/wasif/dask-worker-space/worker-c3045eug\\x94\\x8c\\x08services\\x94}\\x94\\x8c\\tdashboard\\x94MS\"s\\x8c\\x08versions\\x94}\\x94\\x8c\\x05nanny\\x94\\x8c\\x17tls://10.10.41.43:33139\\x94\\x8c\\x06status\\x94\\x8c\\x10distributed.core\\x94\\x8c\\x06Status\\x94\\x93\\x94\\x8c\\x06closed\\x94\\x85\\x94R\\x94\\x8c\\x05_hash\\x94\\x8a\\x08y\\x12U\\xe2\\xed\\x9e\\xee|\\x8c\\x06nbytes\\x94K\\x00\\x8c\\toccupancy\\x94K\\x00\\x8c\\x15_memory_unmanaged_old\\x94K\\x00\\x8c\\x19_memory_unmanaged_history\\x94\\x8c\\x0bcollections\\x94\\x8c\\x05deque\\x94\\x93\\x94)R\\x94\\x8c\\x07metrics\\x94}\\x94\\x8c\\tlast_seen\\x94K\\x00\\x8c\\ntime_delay\\x94K\\x00\\x8c\\tbandwidth\\x94J\\x00\\xe1\\xf5\\x05\\x8c\\x06actors\\x94\\x8f\\x94\\x8c\\t_has_what\\x94}\\x94\\x8c\\nprocessing\\x94}\\x94(h\\x03G?\\xe0\\x00\\x00\\x00\\x00\\x00\\x00\\x8cFbatch_of__optimize_sequential_1_calls-016ae5a9ab9a485da3cf25f8d196c2ab\\x94G?\\xe0\\x00\\x00\\x00\\x00\\x00\\x00\\x8cFbatch_of__optimize_sequential_1_calls-6d65d63d1a0844eabf584d145c7b9d17\\x94G?\\xe0\\x00\\x00\\x00\\x00\\x00\\x00\\x8cFbatch_of__optimize_sequential_1_calls-4c501b84900446328368a11678fb63cf\\x94G?\\xe0\\x00\\x00\\x00\\x00\\x00\\x00\\x8cFbatch_of__optimize_sequential_1_calls-8c54b5b9166941d89c698b737c806c6d\\x94G?\\xe0\\x00\\x00\\x00\\x00\\x00\\x00\\x8cFbatch_of__optimize_sequential_1_calls-fe9b699ac31a4671b22bc760508b0e44\\x94G?\\xe0\\x00\\x00\\x00\\x00\\x00\\x00\\x8cFbatch_of__optimize_sequential_1_calls-57fcb3e08ce94bfe9498d553bc8824bc\\x94G?\\xe0\\x00\\x00\\x00\\x00\\x00\\x00\\x8cFbatch_of__optimize_sequential_1_calls-71ca4d7996454a22a5365ae097aa11b3\\x94G?\\xe0\\x00\\x00\\x00\\x00\\x00\\x00u\\x8c\\x0clong_running\\x94\\x8f\\x94\\x8c\\texecuting\\x94}\\x94\\x8c\\tresources\\x94}\\x94\\x8c\\x0eused_resources\\x94}\\x94\\x8c\\x05extra\\x94}\\x94u\\x86\\x94b\\x86\\x94R\\x94}\\x94(\\x8c\\x04task\\x94h\\x03\\x8c\\x0blast_worker\\x94h\\x06ub.'\n",
      "Traceback (most recent call last):\n",
      "  File \"/home/conda/admin/1c9d9fbeff3e46180d6a8a009af482ef5e93abe04420c8eddea14e360f402824-20221103-192738-068973-22-wasif-dev/lib/python3.9/site-packages/distributed/protocol/pickle.py\", line 73, in loads\n",
      "    return pickle.loads(x)\n",
      "AttributeError: can't set attribute\n",
      "2022-11-08 03:50:29,491 - distributed.protocol.pickle - INFO - Failed to deserialize b'\\x80\\x04\\x95r\\x05\\x00\\x00\\x00\\x00\\x00\\x00\\x8c\\x15distributed.scheduler\\x94\\x8c\\x0cKilledWorker\\x94\\x93\\x94\\x8cFbatch_of__optimize_sequential_1_calls-016ae5a9ab9a485da3cf25f8d196c2ab\\x94h\\x00\\x8c\\x0bWorkerState\\x94\\x93\\x94)\\x81\\x94N}\\x94(\\x8c\\x07address\\x94\\x8c\\x17tls://10.10.41.43:33891\\x94\\x8c\\x03pid\\x94K\\x1a\\x8c\\x04name\\x94\\x8c2dask-worker-cc639015ed5141b48084bb654062e917-946x9\\x94\\x8c\\x08nthreads\\x94K\\x03\\x8c\\x0cmemory_limit\\x94\\x8a\\x05\\x00\\x00\\x00\\xe0\\x03\\x8c\\x0flocal_directory\\x94\\x8c-/home/wasif/dask-worker-space/worker-c3045eug\\x94\\x8c\\x08services\\x94}\\x94\\x8c\\tdashboard\\x94MS\"s\\x8c\\x08versions\\x94}\\x94\\x8c\\x05nanny\\x94\\x8c\\x17tls://10.10.41.43:33139\\x94\\x8c\\x06status\\x94\\x8c\\x10distributed.core\\x94\\x8c\\x06Status\\x94\\x93\\x94\\x8c\\x06closed\\x94\\x85\\x94R\\x94\\x8c\\x05_hash\\x94\\x8a\\x08y\\x12U\\xe2\\xed\\x9e\\xee|\\x8c\\x06nbytes\\x94K\\x00\\x8c\\toccupancy\\x94K\\x00\\x8c\\x15_memory_unmanaged_old\\x94K\\x00\\x8c\\x19_memory_unmanaged_history\\x94\\x8c\\x0bcollections\\x94\\x8c\\x05deque\\x94\\x93\\x94)R\\x94\\x8c\\x07metrics\\x94}\\x94\\x8c\\tlast_seen\\x94K\\x00\\x8c\\ntime_delay\\x94K\\x00\\x8c\\tbandwidth\\x94J\\x00\\xe1\\xf5\\x05\\x8c\\x06actors\\x94\\x8f\\x94\\x8c\\t_has_what\\x94}\\x94\\x8c\\nprocessing\\x94}\\x94(\\x8cFbatch_of__optimize_sequential_1_calls-24ca654ed4504e82b0c23d71d8c08388\\x94G?\\xe0\\x00\\x00\\x00\\x00\\x00\\x00h\\x03G?\\xe0\\x00\\x00\\x00\\x00\\x00\\x00\\x8cFbatch_of__optimize_sequential_1_calls-6d65d63d1a0844eabf584d145c7b9d17\\x94G?\\xe0\\x00\\x00\\x00\\x00\\x00\\x00\\x8cFbatch_of__optimize_sequential_1_calls-4c501b84900446328368a11678fb63cf\\x94G?\\xe0\\x00\\x00\\x00\\x00\\x00\\x00\\x8cFbatch_of__optimize_sequential_1_calls-8c54b5b9166941d89c698b737c806c6d\\x94G?\\xe0\\x00\\x00\\x00\\x00\\x00\\x00\\x8cFbatch_of__optimize_sequential_1_calls-fe9b699ac31a4671b22bc760508b0e44\\x94G?\\xe0\\x00\\x00\\x00\\x00\\x00\\x00\\x8cFbatch_of__optimize_sequential_1_calls-57fcb3e08ce94bfe9498d553bc8824bc\\x94G?\\xe0\\x00\\x00\\x00\\x00\\x00\\x00\\x8cFbatch_of__optimize_sequential_1_calls-71ca4d7996454a22a5365ae097aa11b3\\x94G?\\xe0\\x00\\x00\\x00\\x00\\x00\\x00u\\x8c\\x0clong_running\\x94\\x8f\\x94\\x8c\\texecuting\\x94}\\x94\\x8c\\tresources\\x94}\\x94\\x8c\\x0eused_resources\\x94}\\x94\\x8c\\x05extra\\x94}\\x94u\\x86\\x94b\\x86\\x94R\\x94}\\x94(\\x8c\\x04task\\x94h\\x03\\x8c\\x0blast_worker\\x94h\\x06ub.'\n",
      "Traceback (most recent call last):\n",
      "  File \"/home/conda/admin/1c9d9fbeff3e46180d6a8a009af482ef5e93abe04420c8eddea14e360f402824-20221103-192738-068973-22-wasif-dev/lib/python3.9/site-packages/distributed/protocol/pickle.py\", line 73, in loads\n",
      "    return pickle.loads(x)\n",
      "AttributeError: can't set attribute\n",
      "2022-11-08 03:50:29,491 - distributed.protocol.pickle - INFO - Failed to deserialize b'\\x80\\x04\\x95r\\x05\\x00\\x00\\x00\\x00\\x00\\x00\\x8c\\x15distributed.scheduler\\x94\\x8c\\x0cKilledWorker\\x94\\x93\\x94\\x8cFbatch_of__optimize_sequential_1_calls-6d65d63d1a0844eabf584d145c7b9d17\\x94h\\x00\\x8c\\x0bWorkerState\\x94\\x93\\x94)\\x81\\x94N}\\x94(\\x8c\\x07address\\x94\\x8c\\x17tls://10.10.41.43:33891\\x94\\x8c\\x03pid\\x94K\\x1a\\x8c\\x04name\\x94\\x8c2dask-worker-cc639015ed5141b48084bb654062e917-946x9\\x94\\x8c\\x08nthreads\\x94K\\x03\\x8c\\x0cmemory_limit\\x94\\x8a\\x05\\x00\\x00\\x00\\xe0\\x03\\x8c\\x0flocal_directory\\x94\\x8c-/home/wasif/dask-worker-space/worker-c3045eug\\x94\\x8c\\x08services\\x94}\\x94\\x8c\\tdashboard\\x94MS\"s\\x8c\\x08versions\\x94}\\x94\\x8c\\x05nanny\\x94\\x8c\\x17tls://10.10.41.43:33139\\x94\\x8c\\x06status\\x94\\x8c\\x10distributed.core\\x94\\x8c\\x06Status\\x94\\x93\\x94\\x8c\\x06closed\\x94\\x85\\x94R\\x94\\x8c\\x05_hash\\x94\\x8a\\x08y\\x12U\\xe2\\xed\\x9e\\xee|\\x8c\\x06nbytes\\x94K\\x00\\x8c\\toccupancy\\x94K\\x00\\x8c\\x15_memory_unmanaged_old\\x94K\\x00\\x8c\\x19_memory_unmanaged_history\\x94\\x8c\\x0bcollections\\x94\\x8c\\x05deque\\x94\\x93\\x94)R\\x94\\x8c\\x07metrics\\x94}\\x94\\x8c\\tlast_seen\\x94K\\x00\\x8c\\ntime_delay\\x94K\\x00\\x8c\\tbandwidth\\x94J\\x00\\xe1\\xf5\\x05\\x8c\\x06actors\\x94\\x8f\\x94\\x8c\\t_has_what\\x94}\\x94\\x8c\\nprocessing\\x94}\\x94(\\x8cFbatch_of__optimize_sequential_1_calls-24ca654ed4504e82b0c23d71d8c08388\\x94G?\\xe0\\x00\\x00\\x00\\x00\\x00\\x00\\x8cFbatch_of__optimize_sequential_1_calls-016ae5a9ab9a485da3cf25f8d196c2ab\\x94G?\\xe0\\x00\\x00\\x00\\x00\\x00\\x00h\\x03G?\\xe0\\x00\\x00\\x00\\x00\\x00\\x00\\x8cFbatch_of__optimize_sequential_1_calls-4c501b84900446328368a11678fb63cf\\x94G?\\xe0\\x00\\x00\\x00\\x00\\x00\\x00\\x8cFbatch_of__optimize_sequential_1_calls-8c54b5b9166941d89c698b737c806c6d\\x94G?\\xe0\\x00\\x00\\x00\\x00\\x00\\x00\\x8cFbatch_of__optimize_sequential_1_calls-fe9b699ac31a4671b22bc760508b0e44\\x94G?\\xe0\\x00\\x00\\x00\\x00\\x00\\x00\\x8cFbatch_of__optimize_sequential_1_calls-57fcb3e08ce94bfe9498d553bc8824bc\\x94G?\\xe0\\x00\\x00\\x00\\x00\\x00\\x00\\x8cFbatch_of__optimize_sequential_1_calls-71ca4d7996454a22a5365ae097aa11b3\\x94G?\\xe0\\x00\\x00\\x00\\x00\\x00\\x00u\\x8c\\x0clong_running\\x94\\x8f\\x94\\x8c\\texecuting\\x94}\\x94\\x8c\\tresources\\x94}\\x94\\x8c\\x0eused_resources\\x94}\\x94\\x8c\\x05extra\\x94}\\x94u\\x86\\x94b\\x86\\x94R\\x94}\\x94(\\x8c\\x04task\\x94h\\x03\\x8c\\x0blast_worker\\x94h\\x06ub.'\n",
      "Traceback (most recent call last):\n",
      "  File \"/home/conda/admin/1c9d9fbeff3e46180d6a8a009af482ef5e93abe04420c8eddea14e360f402824-20221103-192738-068973-22-wasif-dev/lib/python3.9/site-packages/distributed/protocol/pickle.py\", line 73, in loads\n",
      "    return pickle.loads(x)\n",
      "AttributeError: can't set attribute\n",
      "2022-11-08 03:50:29,492 - distributed.protocol.pickle - INFO - Failed to deserialize b'\\x80\\x04\\x95r\\x05\\x00\\x00\\x00\\x00\\x00\\x00\\x8c\\x15distributed.scheduler\\x94\\x8c\\x0cKilledWorker\\x94\\x93\\x94\\x8cFbatch_of__optimize_sequential_1_calls-8c54b5b9166941d89c698b737c806c6d\\x94h\\x00\\x8c\\x0bWorkerState\\x94\\x93\\x94)\\x81\\x94N}\\x94(\\x8c\\x07address\\x94\\x8c\\x17tls://10.10.41.43:33891\\x94\\x8c\\x03pid\\x94K\\x1a\\x8c\\x04name\\x94\\x8c2dask-worker-cc639015ed5141b48084bb654062e917-946x9\\x94\\x8c\\x08nthreads\\x94K\\x03\\x8c\\x0cmemory_limit\\x94\\x8a\\x05\\x00\\x00\\x00\\xe0\\x03\\x8c\\x0flocal_directory\\x94\\x8c-/home/wasif/dask-worker-space/worker-c3045eug\\x94\\x8c\\x08services\\x94}\\x94\\x8c\\tdashboard\\x94MS\"s\\x8c\\x08versions\\x94}\\x94\\x8c\\x05nanny\\x94\\x8c\\x17tls://10.10.41.43:33139\\x94\\x8c\\x06status\\x94\\x8c\\x10distributed.core\\x94\\x8c\\x06Status\\x94\\x93\\x94\\x8c\\x06closed\\x94\\x85\\x94R\\x94\\x8c\\x05_hash\\x94\\x8a\\x08y\\x12U\\xe2\\xed\\x9e\\xee|\\x8c\\x06nbytes\\x94K\\x00\\x8c\\toccupancy\\x94K\\x00\\x8c\\x15_memory_unmanaged_old\\x94K\\x00\\x8c\\x19_memory_unmanaged_history\\x94\\x8c\\x0bcollections\\x94\\x8c\\x05deque\\x94\\x93\\x94)R\\x94\\x8c\\x07metrics\\x94}\\x94\\x8c\\tlast_seen\\x94K\\x00\\x8c\\ntime_delay\\x94K\\x00\\x8c\\tbandwidth\\x94J\\x00\\xe1\\xf5\\x05\\x8c\\x06actors\\x94\\x8f\\x94\\x8c\\t_has_what\\x94}\\x94\\x8c\\nprocessing\\x94}\\x94(\\x8cFbatch_of__optimize_sequential_1_calls-24ca654ed4504e82b0c23d71d8c08388\\x94G?\\xe0\\x00\\x00\\x00\\x00\\x00\\x00\\x8cFbatch_of__optimize_sequential_1_calls-016ae5a9ab9a485da3cf25f8d196c2ab\\x94G?\\xe0\\x00\\x00\\x00\\x00\\x00\\x00\\x8cFbatch_of__optimize_sequential_1_calls-6d65d63d1a0844eabf584d145c7b9d17\\x94G?\\xe0\\x00\\x00\\x00\\x00\\x00\\x00\\x8cFbatch_of__optimize_sequential_1_calls-4c501b84900446328368a11678fb63cf\\x94G?\\xe0\\x00\\x00\\x00\\x00\\x00\\x00h\\x03G?\\xe0\\x00\\x00\\x00\\x00\\x00\\x00\\x8cFbatch_of__optimize_sequential_1_calls-fe9b699ac31a4671b22bc760508b0e44\\x94G?\\xe0\\x00\\x00\\x00\\x00\\x00\\x00\\x8cFbatch_of__optimize_sequential_1_calls-57fcb3e08ce94bfe9498d553bc8824bc\\x94G?\\xe0\\x00\\x00\\x00\\x00\\x00\\x00\\x8cFbatch_of__optimize_sequential_1_calls-71ca4d7996454a22a5365ae097aa11b3\\x94G?\\xe0\\x00\\x00\\x00\\x00\\x00\\x00u\\x8c\\x0clong_running\\x94\\x8f\\x94\\x8c\\texecuting\\x94}\\x94\\x8c\\tresources\\x94}\\x94\\x8c\\x0eused_resources\\x94}\\x94\\x8c\\x05extra\\x94}\\x94u\\x86\\x94b\\x86\\x94R\\x94}\\x94(\\x8c\\x04task\\x94h\\x03\\x8c\\x0blast_worker\\x94h\\x06ub.'\n",
      "Traceback (most recent call last):\n",
      "  File \"/home/conda/admin/1c9d9fbeff3e46180d6a8a009af482ef5e93abe04420c8eddea14e360f402824-20221103-192738-068973-22-wasif-dev/lib/python3.9/site-packages/distributed/protocol/pickle.py\", line 73, in loads\n",
      "    return pickle.loads(x)\n",
      "AttributeError: can't set attribute\n",
      "2022-11-08 03:50:29,493 - distributed.protocol.pickle - INFO - Failed to deserialize b'\\x80\\x04\\x95r\\x05\\x00\\x00\\x00\\x00\\x00\\x00\\x8c\\x15distributed.scheduler\\x94\\x8c\\x0cKilledWorker\\x94\\x93\\x94\\x8cFbatch_of__optimize_sequential_1_calls-fe9b699ac31a4671b22bc760508b0e44\\x94h\\x00\\x8c\\x0bWorkerState\\x94\\x93\\x94)\\x81\\x94N}\\x94(\\x8c\\x07address\\x94\\x8c\\x17tls://10.10.41.43:33891\\x94\\x8c\\x03pid\\x94K\\x1a\\x8c\\x04name\\x94\\x8c2dask-worker-cc639015ed5141b48084bb654062e917-946x9\\x94\\x8c\\x08nthreads\\x94K\\x03\\x8c\\x0cmemory_limit\\x94\\x8a\\x05\\x00\\x00\\x00\\xe0\\x03\\x8c\\x0flocal_directory\\x94\\x8c-/home/wasif/dask-worker-space/worker-c3045eug\\x94\\x8c\\x08services\\x94}\\x94\\x8c\\tdashboard\\x94MS\"s\\x8c\\x08versions\\x94}\\x94\\x8c\\x05nanny\\x94\\x8c\\x17tls://10.10.41.43:33139\\x94\\x8c\\x06status\\x94\\x8c\\x10distributed.core\\x94\\x8c\\x06Status\\x94\\x93\\x94\\x8c\\x06closed\\x94\\x85\\x94R\\x94\\x8c\\x05_hash\\x94\\x8a\\x08y\\x12U\\xe2\\xed\\x9e\\xee|\\x8c\\x06nbytes\\x94K\\x00\\x8c\\toccupancy\\x94K\\x00\\x8c\\x15_memory_unmanaged_old\\x94K\\x00\\x8c\\x19_memory_unmanaged_history\\x94\\x8c\\x0bcollections\\x94\\x8c\\x05deque\\x94\\x93\\x94)R\\x94\\x8c\\x07metrics\\x94}\\x94\\x8c\\tlast_seen\\x94K\\x00\\x8c\\ntime_delay\\x94K\\x00\\x8c\\tbandwidth\\x94J\\x00\\xe1\\xf5\\x05\\x8c\\x06actors\\x94\\x8f\\x94\\x8c\\t_has_what\\x94}\\x94\\x8c\\nprocessing\\x94}\\x94(\\x8cFbatch_of__optimize_sequential_1_calls-24ca654ed4504e82b0c23d71d8c08388\\x94G?\\xe0\\x00\\x00\\x00\\x00\\x00\\x00\\x8cFbatch_of__optimize_sequential_1_calls-016ae5a9ab9a485da3cf25f8d196c2ab\\x94G?\\xe0\\x00\\x00\\x00\\x00\\x00\\x00\\x8cFbatch_of__optimize_sequential_1_calls-6d65d63d1a0844eabf584d145c7b9d17\\x94G?\\xe0\\x00\\x00\\x00\\x00\\x00\\x00\\x8cFbatch_of__optimize_sequential_1_calls-4c501b84900446328368a11678fb63cf\\x94G?\\xe0\\x00\\x00\\x00\\x00\\x00\\x00\\x8cFbatch_of__optimize_sequential_1_calls-8c54b5b9166941d89c698b737c806c6d\\x94G?\\xe0\\x00\\x00\\x00\\x00\\x00\\x00h\\x03G?\\xe0\\x00\\x00\\x00\\x00\\x00\\x00\\x8cFbatch_of__optimize_sequential_1_calls-57fcb3e08ce94bfe9498d553bc8824bc\\x94G?\\xe0\\x00\\x00\\x00\\x00\\x00\\x00\\x8cFbatch_of__optimize_sequential_1_calls-71ca4d7996454a22a5365ae097aa11b3\\x94G?\\xe0\\x00\\x00\\x00\\x00\\x00\\x00u\\x8c\\x0clong_running\\x94\\x8f\\x94\\x8c\\texecuting\\x94}\\x94\\x8c\\tresources\\x94}\\x94\\x8c\\x0eused_resources\\x94}\\x94\\x8c\\x05extra\\x94}\\x94u\\x86\\x94b\\x86\\x94R\\x94}\\x94(\\x8c\\x04task\\x94h\\x03\\x8c\\x0blast_worker\\x94h\\x06ub.'\n",
      "Traceback (most recent call last):\n",
      "  File \"/home/conda/admin/1c9d9fbeff3e46180d6a8a009af482ef5e93abe04420c8eddea14e360f402824-20221103-192738-068973-22-wasif-dev/lib/python3.9/site-packages/distributed/protocol/pickle.py\", line 73, in loads\n",
      "    return pickle.loads(x)\n",
      "AttributeError: can't set attribute\n",
      "2022-11-08 03:50:29,493 - distributed.protocol.pickle - INFO - Failed to deserialize b'\\x80\\x04\\x95r\\x05\\x00\\x00\\x00\\x00\\x00\\x00\\x8c\\x15distributed.scheduler\\x94\\x8c\\x0cKilledWorker\\x94\\x93\\x94\\x8cFbatch_of__optimize_sequential_1_calls-57fcb3e08ce94bfe9498d553bc8824bc\\x94h\\x00\\x8c\\x0bWorkerState\\x94\\x93\\x94)\\x81\\x94N}\\x94(\\x8c\\x07address\\x94\\x8c\\x17tls://10.10.41.43:33891\\x94\\x8c\\x03pid\\x94K\\x1a\\x8c\\x04name\\x94\\x8c2dask-worker-cc639015ed5141b48084bb654062e917-946x9\\x94\\x8c\\x08nthreads\\x94K\\x03\\x8c\\x0cmemory_limit\\x94\\x8a\\x05\\x00\\x00\\x00\\xe0\\x03\\x8c\\x0flocal_directory\\x94\\x8c-/home/wasif/dask-worker-space/worker-c3045eug\\x94\\x8c\\x08services\\x94}\\x94\\x8c\\tdashboard\\x94MS\"s\\x8c\\x08versions\\x94}\\x94\\x8c\\x05nanny\\x94\\x8c\\x17tls://10.10.41.43:33139\\x94\\x8c\\x06status\\x94\\x8c\\x10distributed.core\\x94\\x8c\\x06Status\\x94\\x93\\x94\\x8c\\x06closed\\x94\\x85\\x94R\\x94\\x8c\\x05_hash\\x94\\x8a\\x08y\\x12U\\xe2\\xed\\x9e\\xee|\\x8c\\x06nbytes\\x94K\\x00\\x8c\\toccupancy\\x94K\\x00\\x8c\\x15_memory_unmanaged_old\\x94K\\x00\\x8c\\x19_memory_unmanaged_history\\x94\\x8c\\x0bcollections\\x94\\x8c\\x05deque\\x94\\x93\\x94)R\\x94\\x8c\\x07metrics\\x94}\\x94\\x8c\\tlast_seen\\x94K\\x00\\x8c\\ntime_delay\\x94K\\x00\\x8c\\tbandwidth\\x94J\\x00\\xe1\\xf5\\x05\\x8c\\x06actors\\x94\\x8f\\x94\\x8c\\t_has_what\\x94}\\x94\\x8c\\nprocessing\\x94}\\x94(\\x8cFbatch_of__optimize_sequential_1_calls-24ca654ed4504e82b0c23d71d8c08388\\x94G?\\xe0\\x00\\x00\\x00\\x00\\x00\\x00\\x8cFbatch_of__optimize_sequential_1_calls-016ae5a9ab9a485da3cf25f8d196c2ab\\x94G?\\xe0\\x00\\x00\\x00\\x00\\x00\\x00\\x8cFbatch_of__optimize_sequential_1_calls-6d65d63d1a0844eabf584d145c7b9d17\\x94G?\\xe0\\x00\\x00\\x00\\x00\\x00\\x00\\x8cFbatch_of__optimize_sequential_1_calls-4c501b84900446328368a11678fb63cf\\x94G?\\xe0\\x00\\x00\\x00\\x00\\x00\\x00\\x8cFbatch_of__optimize_sequential_1_calls-8c54b5b9166941d89c698b737c806c6d\\x94G?\\xe0\\x00\\x00\\x00\\x00\\x00\\x00\\x8cFbatch_of__optimize_sequential_1_calls-fe9b699ac31a4671b22bc760508b0e44\\x94G?\\xe0\\x00\\x00\\x00\\x00\\x00\\x00h\\x03G?\\xe0\\x00\\x00\\x00\\x00\\x00\\x00\\x8cFbatch_of__optimize_sequential_1_calls-71ca4d7996454a22a5365ae097aa11b3\\x94G?\\xe0\\x00\\x00\\x00\\x00\\x00\\x00u\\x8c\\x0clong_running\\x94\\x8f\\x94\\x8c\\texecuting\\x94}\\x94\\x8c\\tresources\\x94}\\x94\\x8c\\x0eused_resources\\x94}\\x94\\x8c\\x05extra\\x94}\\x94u\\x86\\x94b\\x86\\x94R\\x94}\\x94(\\x8c\\x04task\\x94h\\x03\\x8c\\x0blast_worker\\x94h\\x06ub.'\n",
      "Traceback (most recent call last):\n",
      "  File \"/home/conda/admin/1c9d9fbeff3e46180d6a8a009af482ef5e93abe04420c8eddea14e360f402824-20221103-192738-068973-22-wasif-dev/lib/python3.9/site-packages/distributed/protocol/pickle.py\", line 73, in loads\n",
      "    return pickle.loads(x)\n",
      "AttributeError: can't set attribute\n",
      "2022-11-08 03:50:29,494 - distributed.protocol.pickle - INFO - Failed to deserialize b'\\x80\\x04\\x95\\x8a\\x03\\x00\\x00\\x00\\x00\\x00\\x00\\x8c\\x15distributed.scheduler\\x94\\x8c\\x0cKilledWorker\\x94\\x93\\x94\\x8cFbatch_of__optimize_sequential_1_calls-71ca4d7996454a22a5365ae097aa11b3\\x94h\\x00\\x8c\\x0bWorkerState\\x94\\x93\\x94)\\x81\\x94N}\\x94(\\x8c\\x07address\\x94\\x8c\\x19tls://10.10.124.244:37841\\x94\\x8c\\x03pid\\x94K\\x1a\\x8c\\x04name\\x94\\x8c2dask-worker-cc639015ed5141b48084bb654062e917-6vrt2\\x94\\x8c\\x08nthreads\\x94K\\x03\\x8c\\x0cmemory_limit\\x94\\x8a\\x05\\x00\\x00\\x00\\xe0\\x03\\x8c\\x0flocal_directory\\x94\\x8c-/home/wasif/dask-worker-space/worker-shhlb41s\\x94\\x8c\\x08services\\x94}\\x94\\x8c\\tdashboard\\x94MS\"s\\x8c\\x08versions\\x94}\\x94\\x8c\\x05nanny\\x94\\x8c\\x19tls://10.10.124.244:36281\\x94\\x8c\\x06status\\x94\\x8c\\x10distributed.core\\x94\\x8c\\x06Status\\x94\\x93\\x94\\x8c\\x06closed\\x94\\x85\\x94R\\x94\\x8c\\x05_hash\\x94\\x8a\\x08\\x1d\\x03\\xaa7T!/B\\x8c\\x06nbytes\\x94K\\x00\\x8c\\toccupancy\\x94K\\x00\\x8c\\x15_memory_unmanaged_old\\x94K\\x00\\x8c\\x19_memory_unmanaged_history\\x94\\x8c\\x0bcollections\\x94\\x8c\\x05deque\\x94\\x93\\x94)R\\x94\\x8c\\x07metrics\\x94}\\x94\\x8c\\tlast_seen\\x94K\\x00\\x8c\\ntime_delay\\x94K\\x00\\x8c\\tbandwidth\\x94J\\x00\\xe1\\xf5\\x05\\x8c\\x06actors\\x94\\x8f\\x94\\x8c\\t_has_what\\x94}\\x94\\x8c\\nprocessing\\x94}\\x94(h\\x03G?\\xe0\\x00\\x00\\x00\\x00\\x00\\x00\\x8cFbatch_of__optimize_sequential_1_calls-4c501b84900446328368a11678fb63cf\\x94G?\\xe0\\x00\\x00\\x00\\x00\\x00\\x00u\\x8c\\x0clong_running\\x94\\x8f\\x94\\x8c\\texecuting\\x94}\\x94\\x8c\\tresources\\x94}\\x94\\x8c\\x0eused_resources\\x94}\\x94\\x8c\\x05extra\\x94}\\x94u\\x86\\x94b\\x86\\x94R\\x94}\\x94(\\x8c\\x04task\\x94h\\x03\\x8c\\x0blast_worker\\x94h\\x06ub.'\n",
      "Traceback (most recent call last):\n",
      "  File \"/home/conda/admin/1c9d9fbeff3e46180d6a8a009af482ef5e93abe04420c8eddea14e360f402824-20221103-192738-068973-22-wasif-dev/lib/python3.9/site-packages/distributed/protocol/pickle.py\", line 73, in loads\n",
      "    return pickle.loads(x)\n",
      "AttributeError: can't set attribute\n",
      "2022-11-08 03:50:29,494 - distributed.protocol.pickle - INFO - Failed to deserialize b'\\x80\\x04\\x95\\x8a\\x03\\x00\\x00\\x00\\x00\\x00\\x00\\x8c\\x15distributed.scheduler\\x94\\x8c\\x0cKilledWorker\\x94\\x93\\x94\\x8cFbatch_of__optimize_sequential_1_calls-4c501b84900446328368a11678fb63cf\\x94h\\x00\\x8c\\x0bWorkerState\\x94\\x93\\x94)\\x81\\x94N}\\x94(\\x8c\\x07address\\x94\\x8c\\x19tls://10.10.124.244:37841\\x94\\x8c\\x03pid\\x94K\\x1a\\x8c\\x04name\\x94\\x8c2dask-worker-cc639015ed5141b48084bb654062e917-6vrt2\\x94\\x8c\\x08nthreads\\x94K\\x03\\x8c\\x0cmemory_limit\\x94\\x8a\\x05\\x00\\x00\\x00\\xe0\\x03\\x8c\\x0flocal_directory\\x94\\x8c-/home/wasif/dask-worker-space/worker-shhlb41s\\x94\\x8c\\x08services\\x94}\\x94\\x8c\\tdashboard\\x94MS\"s\\x8c\\x08versions\\x94}\\x94\\x8c\\x05nanny\\x94\\x8c\\x19tls://10.10.124.244:36281\\x94\\x8c\\x06status\\x94\\x8c\\x10distributed.core\\x94\\x8c\\x06Status\\x94\\x93\\x94\\x8c\\x06closed\\x94\\x85\\x94R\\x94\\x8c\\x05_hash\\x94\\x8a\\x08\\x1d\\x03\\xaa7T!/B\\x8c\\x06nbytes\\x94K\\x00\\x8c\\toccupancy\\x94K\\x00\\x8c\\x15_memory_unmanaged_old\\x94K\\x00\\x8c\\x19_memory_unmanaged_history\\x94\\x8c\\x0bcollections\\x94\\x8c\\x05deque\\x94\\x93\\x94)R\\x94\\x8c\\x07metrics\\x94}\\x94\\x8c\\tlast_seen\\x94K\\x00\\x8c\\ntime_delay\\x94K\\x00\\x8c\\tbandwidth\\x94J\\x00\\xe1\\xf5\\x05\\x8c\\x06actors\\x94\\x8f\\x94\\x8c\\t_has_what\\x94}\\x94\\x8c\\nprocessing\\x94}\\x94(\\x8cFbatch_of__optimize_sequential_1_calls-71ca4d7996454a22a5365ae097aa11b3\\x94G?\\xe0\\x00\\x00\\x00\\x00\\x00\\x00h\\x03G?\\xe0\\x00\\x00\\x00\\x00\\x00\\x00u\\x8c\\x0clong_running\\x94\\x8f\\x94\\x8c\\texecuting\\x94}\\x94\\x8c\\tresources\\x94}\\x94\\x8c\\x0eused_resources\\x94}\\x94\\x8c\\x05extra\\x94}\\x94u\\x86\\x94b\\x86\\x94R\\x94}\\x94(\\x8c\\x04task\\x94h\\x03\\x8c\\x0blast_worker\\x94h\\x06ub.'\n",
      "Traceback (most recent call last):\n",
      "  File \"/home/conda/admin/1c9d9fbeff3e46180d6a8a009af482ef5e93abe04420c8eddea14e360f402824-20221103-192738-068973-22-wasif-dev/lib/python3.9/site-packages/distributed/protocol/pickle.py\", line 73, in loads\n",
      "    return pickle.loads(x)\n",
      "AttributeError: can't set attribute\n"
     ]
    },
    {
     "ename": "Exception",
     "evalue": "b'\\x80\\x04\\x95r\\x05\\x00\\x00\\x00\\x00\\x00\\x00\\x8c\\x15distributed.scheduler\\x94\\x8c\\x0cKilledWorker\\x94\\x93\\x94\\x8cFbatch_of__optimize_sequential_1_calls-8c54b5b9166941d89c698b737c806c6d\\x94h\\x00\\x8c\\x0bWorkerState\\x94\\x93\\x94)\\x81\\x94N}\\x94(\\x8c\\x07address\\x94\\x8c\\x17tls://10.10.41.43:33891\\x94\\x8c\\x03pid\\x94K\\x1a\\x8c\\x04name\\x94\\x8c2dask-worker-cc639015ed5141b48084bb654062e917-946x9\\x94\\x8c\\x08nthreads\\x94K\\x03\\x8c\\x0cmemory_limit\\x94\\x8a\\x05\\x00\\x00\\x00\\xe0\\x03\\x8c\\x0flocal_directory\\x94\\x8c-/home/wasif/dask-worker-space/worker-c3045eug\\x94\\x8c\\x08services\\x94}\\x94\\x8c\\tdashboard\\x94MS\"s\\x8c\\x08versions\\x94}\\x94\\x8c\\x05nanny\\x94\\x8c\\x17tls://10.10.41.43:33139\\x94\\x8c\\x06status\\x94\\x8c\\x10distributed.core\\x94\\x8c\\x06Status\\x94\\x93\\x94\\x8c\\x06closed\\x94\\x85\\x94R\\x94\\x8c\\x05_hash\\x94\\x8a\\x08y\\x12U\\xe2\\xed\\x9e\\xee|\\x8c\\x06nbytes\\x94K\\x00\\x8c\\toccupancy\\x94K\\x00\\x8c\\x15_memory_unmanaged_old\\x94K\\x00\\x8c\\x19_memory_unmanaged_history\\x94\\x8c\\x0bcollections\\x94\\x8c\\x05deque\\x94\\x93\\x94)R\\x94\\x8c\\x07metrics\\x94}\\x94\\x8c\\tlast_seen\\x94K\\x00\\x8c\\ntime_delay\\x94K\\x00\\x8c\\tbandwidth\\x94J\\x00\\xe1\\xf5\\x05\\x8c\\x06actors\\x94\\x8f\\x94\\x8c\\t_has_what\\x94}\\x94\\x8c\\nprocessing\\x94}\\x94(\\x8cFbatch_of__optimize_sequential_1_calls-24ca654ed4504e82b0c23d71d8c08388\\x94G?\\xe0\\x00\\x00\\x00\\x00\\x00\\x00\\x8cFbatch_of__optimize_sequential_1_calls-016ae5a9ab9a485da3cf25f8d196c2ab\\x94G?\\xe0\\x00\\x00\\x00\\x00\\x00\\x00\\x8cFbatch_of__optimize_sequential_1_calls-6d65d63d1a0844eabf584d145c7b9d17\\x94G?\\xe0\\x00\\x00\\x00\\x00\\x00\\x00\\x8cFbatch_of__optimize_sequential_1_calls-4c501b84900446328368a11678fb63cf\\x94G?\\xe0\\x00\\x00\\x00\\x00\\x00\\x00h\\x03G?\\xe0\\x00\\x00\\x00\\x00\\x00\\x00\\x8cFbatch_of__optimize_sequential_1_calls-fe9b699ac31a4671b22bc760508b0e44\\x94G?\\xe0\\x00\\x00\\x00\\x00\\x00\\x00\\x8cFbatch_of__optimize_sequential_1_calls-57fcb3e08ce94bfe9498d553bc8824bc\\x94G?\\xe0\\x00\\x00\\x00\\x00\\x00\\x00\\x8cFbatch_of__optimize_sequential_1_calls-71ca4d7996454a22a5365ae097aa11b3\\x94G?\\xe0\\x00\\x00\\x00\\x00\\x00\\x00u\\x8c\\x0clong_running\\x94\\x8f\\x94\\x8c\\texecuting\\x94}\\x94\\x8c\\tresources\\x94}\\x94\\x8c\\x0eused_resources\\x94}\\x94\\x8c\\x05extra\\x94}\\x94u\\x86\\x94b\\x86\\x94R\\x94}\\x94(\\x8c\\x04task\\x94h\\x03\\x8c\\x0blast_worker\\x94h\\x06ub.'",
     "output_type": "error",
     "traceback": [
      "\u001b[0;31m---------------------------------------------------------------------------\u001b[0m",
      "\u001b[0;31mException\u001b[0m                                 Traceback (most recent call last)",
      "Cell \u001b[0;32mIn [15], line 17\u001b[0m\n\u001b[1;32m     15\u001b[0m \u001b[38;5;66;03m# Optimize in parallel on your Dask cluster\u001b[39;00m\n\u001b[1;32m     16\u001b[0m \u001b[38;5;28;01mwith\u001b[39;00m joblib\u001b[38;5;241m.\u001b[39mparallel_backend(\u001b[38;5;124m\"\u001b[39m\u001b[38;5;124mdask\u001b[39m\u001b[38;5;124m\"\u001b[39m,  wait_for_workers_timeout\u001b[38;5;241m=\u001b[39m\u001b[38;5;241m1200\u001b[39m):\n\u001b[0;32m---> 17\u001b[0m     \u001b[43mstudy\u001b[49m\u001b[38;5;241;43m.\u001b[39;49m\u001b[43moptimize\u001b[49m\u001b[43m(\u001b[49m\u001b[43mfunc\u001b[49m\u001b[43m,\u001b[49m\u001b[43m \u001b[49m\u001b[43mn_trials\u001b[49m\u001b[38;5;241;43m=\u001b[39;49m\u001b[38;5;241;43m10\u001b[39;49m\u001b[43m,\u001b[49m\u001b[43m \u001b[49m\u001b[43mn_jobs\u001b[49m\u001b[38;5;241;43m=\u001b[39;49m\u001b[38;5;241;43m2\u001b[39;49m\u001b[43m)\u001b[49m\n\u001b[1;32m     18\u001b[0m     \u001b[38;5;28mprint\u001b[39m(\u001b[38;5;124mf\u001b[39m\u001b[38;5;124m\"\u001b[39m\u001b[38;5;124mbest_params = \u001b[39m\u001b[38;5;132;01m{\u001b[39;00mstudy\u001b[38;5;241m.\u001b[39mbest_params\u001b[38;5;132;01m}\u001b[39;00m\u001b[38;5;124m\"\u001b[39m)\n",
      "File \u001b[0;32m/home/conda/admin/1c9d9fbeff3e46180d6a8a009af482ef5e93abe04420c8eddea14e360f402824-20221103-192738-068973-22-wasif-dev/lib/python3.9/site-packages/optuna/study.py:306\u001b[0m, in \u001b[0;36mStudy.optimize\u001b[0;34m(self, func, n_trials, timeout, n_jobs, catch, callbacks, gc_after_trial, show_progress_bar)\u001b[0m\n\u001b[1;32m    228\u001b[0m \u001b[38;5;28;01mdef\u001b[39;00m \u001b[38;5;21moptimize\u001b[39m(\n\u001b[1;32m    229\u001b[0m     \u001b[38;5;28mself\u001b[39m,\n\u001b[1;32m    230\u001b[0m     func: ObjectiveFuncType,\n\u001b[0;32m   (...)\u001b[0m\n\u001b[1;32m    237\u001b[0m     show_progress_bar: \u001b[38;5;28mbool\u001b[39m \u001b[38;5;241m=\u001b[39m \u001b[38;5;28;01mFalse\u001b[39;00m,\n\u001b[1;32m    238\u001b[0m ) \u001b[38;5;241m-\u001b[39m\u001b[38;5;241m>\u001b[39m \u001b[38;5;28;01mNone\u001b[39;00m:\n\u001b[1;32m    239\u001b[0m     \u001b[38;5;124;03m\"\"\"Optimize an objective function.\u001b[39;00m\n\u001b[1;32m    240\u001b[0m \n\u001b[1;32m    241\u001b[0m \u001b[38;5;124;03m    Optimization is done by choosing a suitable set of hyperparameter values from a given\u001b[39;00m\n\u001b[0;32m   (...)\u001b[0m\n\u001b[1;32m    304\u001b[0m \u001b[38;5;124;03m            If nested invocation of this method occurs.\u001b[39;00m\n\u001b[1;32m    305\u001b[0m \u001b[38;5;124;03m    \"\"\"\u001b[39;00m\n\u001b[0;32m--> 306\u001b[0m     \u001b[43m_optimize\u001b[49m\u001b[43m(\u001b[49m\n\u001b[1;32m    307\u001b[0m \u001b[43m        \u001b[49m\u001b[43mstudy\u001b[49m\u001b[38;5;241;43m=\u001b[39;49m\u001b[38;5;28;43mself\u001b[39;49m\u001b[43m,\u001b[49m\n\u001b[1;32m    308\u001b[0m \u001b[43m        \u001b[49m\u001b[43mfunc\u001b[49m\u001b[38;5;241;43m=\u001b[39;49m\u001b[43mfunc\u001b[49m\u001b[43m,\u001b[49m\n\u001b[1;32m    309\u001b[0m \u001b[43m        \u001b[49m\u001b[43mn_trials\u001b[49m\u001b[38;5;241;43m=\u001b[39;49m\u001b[43mn_trials\u001b[49m\u001b[43m,\u001b[49m\n\u001b[1;32m    310\u001b[0m \u001b[43m        \u001b[49m\u001b[43mtimeout\u001b[49m\u001b[38;5;241;43m=\u001b[39;49m\u001b[43mtimeout\u001b[49m\u001b[43m,\u001b[49m\n\u001b[1;32m    311\u001b[0m \u001b[43m        \u001b[49m\u001b[43mn_jobs\u001b[49m\u001b[38;5;241;43m=\u001b[39;49m\u001b[43mn_jobs\u001b[49m\u001b[43m,\u001b[49m\n\u001b[1;32m    312\u001b[0m \u001b[43m        \u001b[49m\u001b[43mcatch\u001b[49m\u001b[38;5;241;43m=\u001b[39;49m\u001b[43mcatch\u001b[49m\u001b[43m,\u001b[49m\n\u001b[1;32m    313\u001b[0m \u001b[43m        \u001b[49m\u001b[43mcallbacks\u001b[49m\u001b[38;5;241;43m=\u001b[39;49m\u001b[43mcallbacks\u001b[49m\u001b[43m,\u001b[49m\n\u001b[1;32m    314\u001b[0m \u001b[43m        \u001b[49m\u001b[43mgc_after_trial\u001b[49m\u001b[38;5;241;43m=\u001b[39;49m\u001b[43mgc_after_trial\u001b[49m\u001b[43m,\u001b[49m\n\u001b[1;32m    315\u001b[0m \u001b[43m        \u001b[49m\u001b[43mshow_progress_bar\u001b[49m\u001b[38;5;241;43m=\u001b[39;49m\u001b[43mshow_progress_bar\u001b[49m\u001b[43m,\u001b[49m\n\u001b[1;32m    316\u001b[0m \u001b[43m    \u001b[49m\u001b[43m)\u001b[49m\n",
      "File \u001b[0;32m/home/conda/admin/1c9d9fbeff3e46180d6a8a009af482ef5e93abe04420c8eddea14e360f402824-20221103-192738-068973-22-wasif-dev/lib/python3.9/site-packages/optuna/_optimize.py:101\u001b[0m, in \u001b[0;36m_optimize\u001b[0;34m(study, func, n_trials, timeout, n_jobs, catch, callbacks, gc_after_trial, show_progress_bar)\u001b[0m\n\u001b[1;32m     90\u001b[0m             \u001b[38;5;28;01mif\u001b[39;00m \u001b[38;5;129;01mnot\u001b[39;00m \u001b[38;5;28misinstance\u001b[39m(\n\u001b[1;32m     91\u001b[0m                 parallel\u001b[38;5;241m.\u001b[39m_backend, joblib\u001b[38;5;241m.\u001b[39mparallel\u001b[38;5;241m.\u001b[39mThreadingBackend\n\u001b[1;32m     92\u001b[0m             ) \u001b[38;5;129;01mand\u001b[39;00m \u001b[38;5;28misinstance\u001b[39m(study\u001b[38;5;241m.\u001b[39m_storage, storages\u001b[38;5;241m.\u001b[39mInMemoryStorage):\n\u001b[1;32m     93\u001b[0m                 warnings\u001b[38;5;241m.\u001b[39mwarn(\n\u001b[1;32m     94\u001b[0m                     \u001b[38;5;124m\"\u001b[39m\u001b[38;5;124mThe default storage cannot be shared by multiple processes. \u001b[39m\u001b[38;5;124m\"\u001b[39m\n\u001b[1;32m     95\u001b[0m                     \u001b[38;5;124m\"\u001b[39m\u001b[38;5;124mPlease use an RDB (RDBStorage) when you use joblib for \u001b[39m\u001b[38;5;124m\"\u001b[39m\n\u001b[0;32m   (...)\u001b[0m\n\u001b[1;32m     98\u001b[0m                     \u001b[38;5;167;01mUserWarning\u001b[39;00m,\n\u001b[1;32m     99\u001b[0m                 )\n\u001b[0;32m--> 101\u001b[0m             \u001b[43mparallel\u001b[49m\u001b[43m(\u001b[49m\n\u001b[1;32m    102\u001b[0m \u001b[43m                \u001b[49m\u001b[43mdelayed\u001b[49m\u001b[43m(\u001b[49m\u001b[43m_optimize_sequential\u001b[49m\u001b[43m)\u001b[49m\u001b[43m(\u001b[49m\n\u001b[1;32m    103\u001b[0m \u001b[43m                    \u001b[49m\u001b[43mstudy\u001b[49m\u001b[43m,\u001b[49m\n\u001b[1;32m    104\u001b[0m \u001b[43m                    \u001b[49m\u001b[43mfunc\u001b[49m\u001b[43m,\u001b[49m\n\u001b[1;32m    105\u001b[0m \u001b[43m                    \u001b[49m\u001b[38;5;241;43m1\u001b[39;49m\u001b[43m,\u001b[49m\n\u001b[1;32m    106\u001b[0m \u001b[43m                    \u001b[49m\u001b[43mtimeout\u001b[49m\u001b[43m,\u001b[49m\n\u001b[1;32m    107\u001b[0m \u001b[43m                    \u001b[49m\u001b[43mcatch\u001b[49m\u001b[43m,\u001b[49m\n\u001b[1;32m    108\u001b[0m \u001b[43m                    \u001b[49m\u001b[43mcallbacks\u001b[49m\u001b[43m,\u001b[49m\n\u001b[1;32m    109\u001b[0m \u001b[43m                    \u001b[49m\u001b[43mgc_after_trial\u001b[49m\u001b[43m,\u001b[49m\n\u001b[1;32m    110\u001b[0m \u001b[43m                    \u001b[49m\u001b[43mreseed_sampler_rng\u001b[49m\u001b[38;5;241;43m=\u001b[39;49m\u001b[38;5;28;43;01mTrue\u001b[39;49;00m\u001b[43m,\u001b[49m\n\u001b[1;32m    111\u001b[0m \u001b[43m                    \u001b[49m\u001b[43mtime_start\u001b[49m\u001b[38;5;241;43m=\u001b[39;49m\u001b[43mtime_start\u001b[49m\u001b[43m,\u001b[49m\n\u001b[1;32m    112\u001b[0m \u001b[43m                    \u001b[49m\u001b[43mprogress_bar\u001b[49m\u001b[38;5;241;43m=\u001b[39;49m\u001b[38;5;28;43;01mNone\u001b[39;49;00m\u001b[43m,\u001b[49m\n\u001b[1;32m    113\u001b[0m \u001b[43m                \u001b[49m\u001b[43m)\u001b[49m\n\u001b[1;32m    114\u001b[0m \u001b[43m                \u001b[49m\u001b[38;5;28;43;01mfor\u001b[39;49;00m\u001b[43m \u001b[49m\u001b[43m_\u001b[49m\u001b[43m \u001b[49m\u001b[38;5;129;43;01min\u001b[39;49;00m\u001b[43m \u001b[49m\u001b[43m_iter\u001b[49m\n\u001b[1;32m    115\u001b[0m \u001b[43m            \u001b[49m\u001b[43m)\u001b[49m\n\u001b[1;32m    116\u001b[0m \u001b[38;5;28;01mfinally\u001b[39;00m:\n\u001b[1;32m    117\u001b[0m     study\u001b[38;5;241m.\u001b[39m_optimize_lock\u001b[38;5;241m.\u001b[39mrelease()\n",
      "File \u001b[0;32m/home/conda/admin/1c9d9fbeff3e46180d6a8a009af482ef5e93abe04420c8eddea14e360f402824-20221103-192738-068973-22-wasif-dev/lib/python3.9/site-packages/joblib/parallel.py:1098\u001b[0m, in \u001b[0;36mParallel.__call__\u001b[0;34m(self, iterable)\u001b[0m\n\u001b[1;32m   1095\u001b[0m     \u001b[38;5;28mself\u001b[39m\u001b[38;5;241m.\u001b[39m_iterating \u001b[38;5;241m=\u001b[39m \u001b[38;5;28;01mFalse\u001b[39;00m\n\u001b[1;32m   1097\u001b[0m \u001b[38;5;28;01mwith\u001b[39;00m \u001b[38;5;28mself\u001b[39m\u001b[38;5;241m.\u001b[39m_backend\u001b[38;5;241m.\u001b[39mretrieval_context():\n\u001b[0;32m-> 1098\u001b[0m     \u001b[38;5;28;43mself\u001b[39;49m\u001b[38;5;241;43m.\u001b[39;49m\u001b[43mretrieve\u001b[49m\u001b[43m(\u001b[49m\u001b[43m)\u001b[49m\n\u001b[1;32m   1099\u001b[0m \u001b[38;5;66;03m# Make sure that we get a last message telling us we are done\u001b[39;00m\n\u001b[1;32m   1100\u001b[0m elapsed_time \u001b[38;5;241m=\u001b[39m time\u001b[38;5;241m.\u001b[39mtime() \u001b[38;5;241m-\u001b[39m \u001b[38;5;28mself\u001b[39m\u001b[38;5;241m.\u001b[39m_start_time\n",
      "File \u001b[0;32m/home/conda/admin/1c9d9fbeff3e46180d6a8a009af482ef5e93abe04420c8eddea14e360f402824-20221103-192738-068973-22-wasif-dev/lib/python3.9/site-packages/joblib/parallel.py:975\u001b[0m, in \u001b[0;36mParallel.retrieve\u001b[0;34m(self)\u001b[0m\n\u001b[1;32m    973\u001b[0m \u001b[38;5;28;01mtry\u001b[39;00m:\n\u001b[1;32m    974\u001b[0m     \u001b[38;5;28;01mif\u001b[39;00m \u001b[38;5;28mgetattr\u001b[39m(\u001b[38;5;28mself\u001b[39m\u001b[38;5;241m.\u001b[39m_backend, \u001b[38;5;124m'\u001b[39m\u001b[38;5;124msupports_timeout\u001b[39m\u001b[38;5;124m'\u001b[39m, \u001b[38;5;28;01mFalse\u001b[39;00m):\n\u001b[0;32m--> 975\u001b[0m         \u001b[38;5;28mself\u001b[39m\u001b[38;5;241m.\u001b[39m_output\u001b[38;5;241m.\u001b[39mextend(\u001b[43mjob\u001b[49m\u001b[38;5;241;43m.\u001b[39;49m\u001b[43mget\u001b[49m\u001b[43m(\u001b[49m\u001b[43mtimeout\u001b[49m\u001b[38;5;241;43m=\u001b[39;49m\u001b[38;5;28;43mself\u001b[39;49m\u001b[38;5;241;43m.\u001b[39;49m\u001b[43mtimeout\u001b[49m\u001b[43m)\u001b[49m)\n\u001b[1;32m    976\u001b[0m     \u001b[38;5;28;01melse\u001b[39;00m:\n\u001b[1;32m    977\u001b[0m         \u001b[38;5;28mself\u001b[39m\u001b[38;5;241m.\u001b[39m_output\u001b[38;5;241m.\u001b[39mextend(job\u001b[38;5;241m.\u001b[39mget())\n",
      "File \u001b[0;32m/home/conda/admin/1c9d9fbeff3e46180d6a8a009af482ef5e93abe04420c8eddea14e360f402824-20221103-192738-068973-22-wasif-dev/lib/python3.9/concurrent/futures/_base.py:446\u001b[0m, in \u001b[0;36mFuture.result\u001b[0;34m(self, timeout)\u001b[0m\n\u001b[1;32m    444\u001b[0m     \u001b[38;5;28;01mraise\u001b[39;00m CancelledError()\n\u001b[1;32m    445\u001b[0m \u001b[38;5;28;01melif\u001b[39;00m \u001b[38;5;28mself\u001b[39m\u001b[38;5;241m.\u001b[39m_state \u001b[38;5;241m==\u001b[39m FINISHED:\n\u001b[0;32m--> 446\u001b[0m     \u001b[38;5;28;01mreturn\u001b[39;00m \u001b[38;5;28;43mself\u001b[39;49m\u001b[38;5;241;43m.\u001b[39;49m\u001b[43m__get_result\u001b[49m\u001b[43m(\u001b[49m\u001b[43m)\u001b[49m\n\u001b[1;32m    447\u001b[0m \u001b[38;5;28;01melse\u001b[39;00m:\n\u001b[1;32m    448\u001b[0m     \u001b[38;5;28;01mraise\u001b[39;00m \u001b[38;5;167;01mTimeoutError\u001b[39;00m()\n",
      "File \u001b[0;32m/home/conda/admin/1c9d9fbeff3e46180d6a8a009af482ef5e93abe04420c8eddea14e360f402824-20221103-192738-068973-22-wasif-dev/lib/python3.9/concurrent/futures/_base.py:391\u001b[0m, in \u001b[0;36mFuture.__get_result\u001b[0;34m(self)\u001b[0m\n\u001b[1;32m    389\u001b[0m \u001b[38;5;28;01mif\u001b[39;00m \u001b[38;5;28mself\u001b[39m\u001b[38;5;241m.\u001b[39m_exception:\n\u001b[1;32m    390\u001b[0m     \u001b[38;5;28;01mtry\u001b[39;00m:\n\u001b[0;32m--> 391\u001b[0m         \u001b[38;5;28;01mraise\u001b[39;00m \u001b[38;5;28mself\u001b[39m\u001b[38;5;241m.\u001b[39m_exception\n\u001b[1;32m    392\u001b[0m     \u001b[38;5;28;01mfinally\u001b[39;00m:\n\u001b[1;32m    393\u001b[0m         \u001b[38;5;66;03m# Break a reference cycle with the exception in self._exception\u001b[39;00m\n\u001b[1;32m    394\u001b[0m         \u001b[38;5;28mself\u001b[39m \u001b[38;5;241m=\u001b[39m \u001b[38;5;28;01mNone\u001b[39;00m\n",
      "\u001b[0;31mException\u001b[0m: b'\\x80\\x04\\x95r\\x05\\x00\\x00\\x00\\x00\\x00\\x00\\x8c\\x15distributed.scheduler\\x94\\x8c\\x0cKilledWorker\\x94\\x93\\x94\\x8cFbatch_of__optimize_sequential_1_calls-8c54b5b9166941d89c698b737c806c6d\\x94h\\x00\\x8c\\x0bWorkerState\\x94\\x93\\x94)\\x81\\x94N}\\x94(\\x8c\\x07address\\x94\\x8c\\x17tls://10.10.41.43:33891\\x94\\x8c\\x03pid\\x94K\\x1a\\x8c\\x04name\\x94\\x8c2dask-worker-cc639015ed5141b48084bb654062e917-946x9\\x94\\x8c\\x08nthreads\\x94K\\x03\\x8c\\x0cmemory_limit\\x94\\x8a\\x05\\x00\\x00\\x00\\xe0\\x03\\x8c\\x0flocal_directory\\x94\\x8c-/home/wasif/dask-worker-space/worker-c3045eug\\x94\\x8c\\x08services\\x94}\\x94\\x8c\\tdashboard\\x94MS\"s\\x8c\\x08versions\\x94}\\x94\\x8c\\x05nanny\\x94\\x8c\\x17tls://10.10.41.43:33139\\x94\\x8c\\x06status\\x94\\x8c\\x10distributed.core\\x94\\x8c\\x06Status\\x94\\x93\\x94\\x8c\\x06closed\\x94\\x85\\x94R\\x94\\x8c\\x05_hash\\x94\\x8a\\x08y\\x12U\\xe2\\xed\\x9e\\xee|\\x8c\\x06nbytes\\x94K\\x00\\x8c\\toccupancy\\x94K\\x00\\x8c\\x15_memory_unmanaged_old\\x94K\\x00\\x8c\\x19_memory_unmanaged_history\\x94\\x8c\\x0bcollections\\x94\\x8c\\x05deque\\x94\\x93\\x94)R\\x94\\x8c\\x07metrics\\x94}\\x94\\x8c\\tlast_seen\\x94K\\x00\\x8c\\ntime_delay\\x94K\\x00\\x8c\\tbandwidth\\x94J\\x00\\xe1\\xf5\\x05\\x8c\\x06actors\\x94\\x8f\\x94\\x8c\\t_has_what\\x94}\\x94\\x8c\\nprocessing\\x94}\\x94(\\x8cFbatch_of__optimize_sequential_1_calls-24ca654ed4504e82b0c23d71d8c08388\\x94G?\\xe0\\x00\\x00\\x00\\x00\\x00\\x00\\x8cFbatch_of__optimize_sequential_1_calls-016ae5a9ab9a485da3cf25f8d196c2ab\\x94G?\\xe0\\x00\\x00\\x00\\x00\\x00\\x00\\x8cFbatch_of__optimize_sequential_1_calls-6d65d63d1a0844eabf584d145c7b9d17\\x94G?\\xe0\\x00\\x00\\x00\\x00\\x00\\x00\\x8cFbatch_of__optimize_sequential_1_calls-4c501b84900446328368a11678fb63cf\\x94G?\\xe0\\x00\\x00\\x00\\x00\\x00\\x00h\\x03G?\\xe0\\x00\\x00\\x00\\x00\\x00\\x00\\x8cFbatch_of__optimize_sequential_1_calls-fe9b699ac31a4671b22bc760508b0e44\\x94G?\\xe0\\x00\\x00\\x00\\x00\\x00\\x00\\x8cFbatch_of__optimize_sequential_1_calls-57fcb3e08ce94bfe9498d553bc8824bc\\x94G?\\xe0\\x00\\x00\\x00\\x00\\x00\\x00\\x8cFbatch_of__optimize_sequential_1_calls-71ca4d7996454a22a5365ae097aa11b3\\x94G?\\xe0\\x00\\x00\\x00\\x00\\x00\\x00u\\x8c\\x0clong_running\\x94\\x8f\\x94\\x8c\\texecuting\\x94}\\x94\\x8c\\tresources\\x94}\\x94\\x8c\\x0eused_resources\\x94}\\x94\\x8c\\x05extra\\x94}\\x94u\\x86\\x94b\\x86\\x94R\\x94}\\x94(\\x8c\\x04task\\x94h\\x03\\x8c\\x0blast_worker\\x94h\\x06ub.'"
     ]
    },
    {
     "name": "stderr",
     "output_type": "stream",
     "text": [
      "/home/conda/admin/1c9d9fbeff3e46180d6a8a009af482ef5e93abe04420c8eddea14e360f402824-20221103-192738-068973-22-wasif-dev/lib/python3.9/site-packages/dask_gateway/client.py:1014: RuntimeWarning: coroutine 'rpc.close_rpc' was never awaited\n",
      "  self.scheduler_comm.close_rpc()\n",
      "RuntimeWarning: Enable tracemalloc to get the object allocation traceback\n"
     ]
    }
   ],
   "source": [
    "# import uniform\n",
    "import random\n",
    "\n",
    "\n",
    "X, y = helper.get_covid_dataset()\n",
    "# x = random.random() #uniform(2.5, 10.0)\n",
    "# y = random.random() #uniform(2.5, 10.0)\n",
    "\n",
    "\n",
    "func = lambda trial: objective(trial, X, y)\n",
    "# Create a study using Dask-compatible storage\n",
    "# dtrain = xgb.dask.DaskDMatrix(client, X, y)\n",
    "storage = dask_optuna.DaskStorage()\n",
    "study = optuna.create_study(storage=storage)\n",
    "# Optimize in parallel on your Dask cluster\n",
    "with joblib.parallel_backend(\"dask\",  wait_for_workers_timeout=1200):\n",
    "    study.optimize(func, n_trials=10, n_jobs=2)\n",
    "    print(f\"best_params = {study.best_params}\")"
   ]
  },
  {
   "cell_type": "code",
   "execution_count": null,
   "id": "9e8d17b0-e280-4388-92ef-eaad2987a4df",
   "metadata": {},
   "outputs": [],
   "source": []
  },
  {
   "cell_type": "code",
   "execution_count": null,
   "id": "b4f4d62e-5a00-47b1-ac04-2f49d0973f31",
   "metadata": {},
   "outputs": [],
   "source": []
  }
 ],
 "metadata": {
  "kernelspec": {
   "display_name": "admin-admin-wasif-dev",
   "language": "python",
   "name": "conda-env-admin-admin-wasif-dev-py"
  },
  "language_info": {
   "codemirror_mode": {
    "name": "ipython",
    "version": 3
   },
   "file_extension": ".py",
   "mimetype": "text/x-python",
   "name": "python",
   "nbconvert_exporter": "python",
   "pygments_lexer": "ipython3",
   "version": "3.9.13"
  }
 },
 "nbformat": 4,
 "nbformat_minor": 5
}
