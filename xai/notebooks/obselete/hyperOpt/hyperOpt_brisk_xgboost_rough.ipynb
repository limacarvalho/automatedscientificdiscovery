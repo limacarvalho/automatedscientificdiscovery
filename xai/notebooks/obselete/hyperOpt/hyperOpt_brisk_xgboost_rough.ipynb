{
 "cells": [
  {
   "cell_type": "code",
   "execution_count": 1,
   "id": "085d62fd-57dc-4567-9085-d2665ac27b53",
   "metadata": {},
   "outputs": [],
   "source": [
    "import sys; sys.path.insert(0, '../..') # add parent folder path where lib folder is"
   ]
  },
  {
   "cell_type": "code",
   "execution_count": 3,
   "id": "316285f9-1822-44ce-9dea-057f52465954",
   "metadata": {},
   "outputs": [
    {
     "name": "stdout",
     "output_type": "stream",
     "text": [
      "The autoreload extension is already loaded. To reload it, use:\n",
      "  %reload_ext autoreload\n"
     ]
    }
   ],
   "source": [
    "%load_ext autoreload\n",
    "%autoreload 2\n",
    "\n",
    "from utils import helper, config, rayer\n",
    "from ml.models.base.HyperOpt.brisk_bagging import BriskBagging\n",
    "\n",
    "from sklearn.preprocessing import StandardScaler\n",
    "from sklearn.model_selection import train_test_split\n",
    "\n",
    "from sklearn.metrics import r2_score, mean_squared_error\n",
    "from sklearn.metrics import f1_score, roc_auc_score, precision_score, recall_score\n",
    "from ml.models import common\n",
    "import ray\n",
    "import time\n",
    "import pandas as pd"
   ]
  },
  {
   "cell_type": "code",
   "execution_count": 3,
   "id": "5c463762-530c-4d04-9bb0-d0151ff8c6eb",
   "metadata": {},
   "outputs": [
    {
     "data": {
      "text/plain": [
       "<module 'ray' from '/home/conda/admin/807c952d1ebb2e498414dc4b80a90b96c80ef2ef433f07c7a7381b5e38e2b5fa-20221110-224801-275852-64-wasif-dev-ray/lib/python3.9/site-packages/ray/__init__.py'>"
      ]
     },
     "execution_count": 3,
     "metadata": {},
     "output_type": "execute_result"
    }
   ],
   "source": [
    "rayer.get_global_cluster(num_cpus=4)"
   ]
  },
  {
   "cell_type": "code",
   "execution_count": 4,
   "id": "cb54084e-3231-4754-8e3b-f15f7571247e",
   "metadata": {},
   "outputs": [
    {
     "name": "stdout",
     "output_type": "stream",
     "text": [
      "======== Autoscaler status: 2022-11-24 08:03:54.137753 ========\n",
      "Node status\n",
      "---------------------------------------------------------------\n",
      "Healthy:\n",
      " 1 head-group\n",
      " 1 small-group\n",
      "Pending:\n",
      " (no pending nodes)\n",
      "Recent failures:\n",
      " (no failures)\n",
      "\n",
      "Resources\n",
      "---------------------------------------------------------------\n",
      "Usage:\n",
      " 0.0/3.0 CPU\n",
      " 0.00/9.313 GiB memory\n",
      " 0.00/2.696 GiB object_store_memory\n",
      "\n",
      "Demands:\n",
      " (no resource demands)\n",
      "\u001b[0m"
     ]
    }
   ],
   "source": [
    "!ray status --address='raycluster-autoscaler-head-svc.dev.svc.cluster.local:6379'"
   ]
  },
  {
   "cell_type": "code",
   "execution_count": 5,
   "id": "d06d54bd-f787-4c53-9f8c-4f4503f89418",
   "metadata": {},
   "outputs": [],
   "source": [
    "X, y = helper.get_covid_dataset()\n",
    "X = X.drop(['location'], axis = 1)\n",
    "\n",
    "X_train, X_test, y_train, y_test = train_test_split(X, y, test_size=0.33)\n",
    "\n",
    "ss = StandardScaler()\n",
    "X_train_scalar = pd.DataFrame(ss.fit_transform(X_train), columns = X_train.columns)\n",
    "X_test_scalar = pd.DataFrame(ss.fit_transform(X_test), columns = X_test.columns)"
   ]
  },
  {
   "cell_type": "code",
   "execution_count": 6,
   "id": "49dad496-e15e-487a-983d-d66b0fa20820",
   "metadata": {},
   "outputs": [],
   "source": [
    "brisk_bag_1 = BriskBagging('brisk_xgb1')\n",
    "brisk_bag_1.n_estimators = 100\n",
    "\n"
   ]
  },
  {
   "cell_type": "code",
   "execution_count": 7,
   "id": "5d3aabcd-4daa-4ce5-8e21-e05ddffc152d",
   "metadata": {},
   "outputs": [
    {
     "name": "stderr",
     "output_type": "stream",
     "text": [
      "2022-12-01T10:40:22CET : INFO : brisk_bagging : __discover_model__ : 96 : Message : brisk_xgb1: Starting training for trials:300, n_estimators  100\n"
     ]
    },
    {
     "name": "stdout",
     "output_type": "stream",
     "text": [
      "  0%|          | 0/100 [00:00<?, ?trial/s, best loss=?]"
     ]
    },
    {
     "name": "stderr",
     "output_type": "stream",
     "text": [
      "2022-12-01T10:40:22CET : INFO : tpe : suggest : 864 : Message : build_posterior_wrapper took 0.001234 seconds\n",
      "2022-12-01T10:40:22CET : INFO : tpe : suggest : 900 : Message : TPE using 0 trials\n"
     ]
    },
    {
     "name": "stdout",
     "output_type": "stream",
     "text": [
      "  1%|          | 1/100 [00:00<00:22,  4.39trial/s, best loss: 3855667.1404132843]"
     ]
    },
    {
     "name": "stderr",
     "output_type": "stream",
     "text": [
      "2022-12-01T10:40:22CET : INFO : tpe : suggest : 864 : Message : build_posterior_wrapper took 0.000503 seconds\n",
      "2022-12-01T10:40:22CET : INFO : tpe : suggest : 900 : Message : TPE using 1/1 trials with best loss 3855667.140413\n"
     ]
    },
    {
     "name": "stdout",
     "output_type": "stream",
     "text": [
      "  2%|▏         | 2/100 [00:00<00:22,  4.35trial/s, best loss: 3324118.195806099] "
     ]
    },
    {
     "name": "stderr",
     "output_type": "stream",
     "text": [
      "2022-12-01T10:40:22CET : INFO : tpe : suggest : 864 : Message : build_posterior_wrapper took 0.000425 seconds\n",
      "2022-12-01T10:40:22CET : INFO : tpe : suggest : 900 : Message : TPE using 2/2 trials with best loss 3324118.195806\n"
     ]
    },
    {
     "name": "stdout",
     "output_type": "stream",
     "text": [
      "  3%|▎         | 3/100 [00:00<00:22,  4.40trial/s, best loss: 3172901.646875259]"
     ]
    },
    {
     "name": "stderr",
     "output_type": "stream",
     "text": [
      "2022-12-01T10:40:23CET : INFO : tpe : suggest : 864 : Message : build_posterior_wrapper took 0.000477 seconds\n",
      "2022-12-01T10:40:23CET : INFO : tpe : suggest : 900 : Message : TPE using 3/3 trials with best loss 3172901.646875\n"
     ]
    },
    {
     "name": "stdout",
     "output_type": "stream",
     "text": [
      "  4%|▍         | 4/100 [00:00<00:17,  5.52trial/s, best loss: 3128308.7153301514]"
     ]
    },
    {
     "name": "stderr",
     "output_type": "stream",
     "text": [
      "2022-12-01T10:40:23CET : INFO : tpe : suggest : 864 : Message : build_posterior_wrapper took 0.000522 seconds\n",
      "2022-12-01T10:40:23CET : INFO : tpe : suggest : 900 : Message : TPE using 4/4 trials with best loss 3128308.715330\n"
     ]
    },
    {
     "name": "stdout",
     "output_type": "stream",
     "text": [
      "  5%|▌         | 5/100 [00:00<00:17,  5.28trial/s, best loss: 3128308.7153301514]"
     ]
    },
    {
     "name": "stderr",
     "output_type": "stream",
     "text": [
      "2022-12-01T10:40:23CET : INFO : tpe : suggest : 864 : Message : build_posterior_wrapper took 0.000485 seconds\n",
      "2022-12-01T10:40:23CET : INFO : tpe : suggest : 900 : Message : TPE using 5/5 trials with best loss 3128308.715330\n"
     ]
    },
    {
     "name": "stdout",
     "output_type": "stream",
     "text": [
      "  6%|▌         | 6/100 [00:01<00:17,  5.52trial/s, best loss: 2928163.184511978] "
     ]
    },
    {
     "name": "stderr",
     "output_type": "stream",
     "text": [
      "2022-12-01T10:40:23CET : INFO : tpe : suggest : 864 : Message : build_posterior_wrapper took 0.000375 seconds\n",
      "2022-12-01T10:40:23CET : INFO : tpe : suggest : 900 : Message : TPE using 6/6 trials with best loss 2928163.184512\n"
     ]
    },
    {
     "name": "stdout",
     "output_type": "stream",
     "text": [
      "  7%|▋         | 7/100 [00:01<00:18,  5.01trial/s, best loss: 2928163.184511978]"
     ]
    },
    {
     "name": "stderr",
     "output_type": "stream",
     "text": [
      "2022-12-01T10:40:23CET : INFO : tpe : suggest : 864 : Message : build_posterior_wrapper took 0.000390 seconds\n",
      "2022-12-01T10:40:23CET : INFO : tpe : suggest : 900 : Message : TPE using 7/7 trials with best loss 2928163.184512\n"
     ]
    },
    {
     "name": "stdout",
     "output_type": "stream",
     "text": [
      "  8%|▊         | 8/100 [00:01<00:17,  5.33trial/s, best loss: 2928163.184511978]"
     ]
    },
    {
     "name": "stderr",
     "output_type": "stream",
     "text": [
      "2022-12-01T10:40:24CET : INFO : tpe : suggest : 864 : Message : build_posterior_wrapper took 0.000455 seconds\n",
      "2022-12-01T10:40:24CET : INFO : tpe : suggest : 900 : Message : TPE using 8/8 trials with best loss 2928163.184512\n"
     ]
    },
    {
     "name": "stdout",
     "output_type": "stream",
     "text": [
      "  9%|▉         | 9/100 [00:01<00:19,  4.64trial/s, best loss: 2928163.184511978]"
     ]
    },
    {
     "name": "stderr",
     "output_type": "stream",
     "text": [
      "2022-12-01T10:40:24CET : INFO : tpe : suggest : 864 : Message : build_posterior_wrapper took 0.000392 seconds\n",
      "2022-12-01T10:40:24CET : INFO : tpe : suggest : 900 : Message : TPE using 9/9 trials with best loss 2928163.184512\n"
     ]
    },
    {
     "name": "stdout",
     "output_type": "stream",
     "text": [
      " 10%|█         | 10/100 [00:02<00:18,  4.79trial/s, best loss: 2855557.6997302175]"
     ]
    },
    {
     "name": "stderr",
     "output_type": "stream",
     "text": [
      "2022-12-01T10:40:24CET : INFO : tpe : suggest : 864 : Message : build_posterior_wrapper took 0.000474 seconds\n",
      "2022-12-01T10:40:24CET : INFO : tpe : suggest : 900 : Message : TPE using 10/10 trials with best loss 2855557.699730\n"
     ]
    },
    {
     "name": "stdout",
     "output_type": "stream",
     "text": [
      " 11%|█         | 11/100 [00:02<00:20,  4.33trial/s, best loss: 2855557.6997302175]"
     ]
    },
    {
     "name": "stderr",
     "output_type": "stream",
     "text": [
      "2022-12-01T10:40:24CET : INFO : tpe : suggest : 864 : Message : build_posterior_wrapper took 0.000443 seconds\n",
      "2022-12-01T10:40:24CET : INFO : tpe : suggest : 900 : Message : TPE using 11/11 trials with best loss 2855557.699730\n"
     ]
    },
    {
     "name": "stdout",
     "output_type": "stream",
     "text": [
      " 12%|█▏        | 12/100 [00:02<00:19,  4.62trial/s, best loss: 2855557.6997302175]"
     ]
    },
    {
     "name": "stderr",
     "output_type": "stream",
     "text": [
      "2022-12-01T10:40:25CET : INFO : tpe : suggest : 864 : Message : build_posterior_wrapper took 0.000678 seconds\n",
      "2022-12-01T10:40:25CET : INFO : tpe : suggest : 900 : Message : TPE using 12/12 trials with best loss 2855557.699730\n",
      "2022-12-01T10:40:25CET : INFO : tpe : suggest : 864 : Message : build_posterior_wrapper took 0.000438 seconds\n",
      "2022-12-01T10:40:25CET : INFO : tpe : suggest : 900 : Message : TPE using 13/13 trials with best loss 2855557.699730\n"
     ]
    },
    {
     "name": "stdout",
     "output_type": "stream",
     "text": [
      " 14%|█▍        | 14/100 [00:02<00:13,  6.42trial/s, best loss: 2751655.2567898184]"
     ]
    },
    {
     "name": "stderr",
     "output_type": "stream",
     "text": [
      "2022-12-01T10:40:25CET : INFO : tpe : suggest : 864 : Message : build_posterior_wrapper took 0.000399 seconds\n",
      "2022-12-01T10:40:25CET : INFO : tpe : suggest : 900 : Message : TPE using 14/14 trials with best loss 2751655.256790\n"
     ]
    },
    {
     "name": "stdout",
     "output_type": "stream",
     "text": [
      " 15%|█▌        | 15/100 [00:02<00:15,  5.43trial/s, best loss: 2751655.2567898184]"
     ]
    },
    {
     "name": "stderr",
     "output_type": "stream",
     "text": [
      "2022-12-01T10:40:25CET : INFO : tpe : suggest : 864 : Message : build_posterior_wrapper took 0.000969 seconds\n",
      "2022-12-01T10:40:25CET : INFO : tpe : suggest : 900 : Message : TPE using 15/15 trials with best loss 2751655.256790\n"
     ]
    },
    {
     "name": "stdout",
     "output_type": "stream",
     "text": [
      " 16%|█▌        | 16/100 [00:03<00:15,  5.48trial/s, best loss: 2751655.2567898184]"
     ]
    },
    {
     "name": "stderr",
     "output_type": "stream",
     "text": [
      "2022-12-01T10:40:25CET : INFO : tpe : suggest : 864 : Message : build_posterior_wrapper took 0.000362 seconds\n",
      "2022-12-01T10:40:25CET : INFO : tpe : suggest : 900 : Message : TPE using 16/16 trials with best loss 2751655.256790\n"
     ]
    },
    {
     "name": "stdout",
     "output_type": "stream",
     "text": [
      " 17%|█▋        | 17/100 [00:03<00:18,  4.52trial/s, best loss: 2751655.2567898184]"
     ]
    },
    {
     "name": "stderr",
     "output_type": "stream",
     "text": [
      "2022-12-01T10:40:25CET : INFO : tpe : suggest : 864 : Message : build_posterior_wrapper took 0.000519 seconds\n",
      "2022-12-01T10:40:25CET : INFO : tpe : suggest : 900 : Message : TPE using 17/17 trials with best loss 2751655.256790\n"
     ]
    },
    {
     "name": "stdout",
     "output_type": "stream",
     "text": [
      " 18%|█▊        | 18/100 [00:03<00:15,  5.18trial/s, best loss: 2751655.2567898184]"
     ]
    },
    {
     "name": "stderr",
     "output_type": "stream",
     "text": [
      "2022-12-01T10:40:26CET : INFO : tpe : suggest : 864 : Message : build_posterior_wrapper took 0.000573 seconds\n",
      "2022-12-01T10:40:26CET : INFO : tpe : suggest : 900 : Message : TPE using 18/18 trials with best loss 2751655.256790\n"
     ]
    },
    {
     "name": "stdout",
     "output_type": "stream",
     "text": [
      " 19%|█▉        | 19/100 [00:03<00:16,  4.98trial/s, best loss: 2751655.2567898184]"
     ]
    },
    {
     "name": "stderr",
     "output_type": "stream",
     "text": [
      "2022-12-01T10:40:26CET : INFO : tpe : suggest : 864 : Message : build_posterior_wrapper took 0.000360 seconds\n",
      "2022-12-01T10:40:26CET : INFO : tpe : suggest : 900 : Message : TPE using 19/19 trials with best loss 2751655.256790\n"
     ]
    },
    {
     "name": "stdout",
     "output_type": "stream",
     "text": [
      " 20%|██        | 20/100 [00:03<00:15,  5.28trial/s, best loss: 2751655.2567898184]"
     ]
    },
    {
     "name": "stderr",
     "output_type": "stream",
     "text": [
      "2022-12-01T10:40:26CET : INFO : tpe : suggest : 864 : Message : build_posterior_wrapper took 0.000380 seconds\n",
      "2022-12-01T10:40:26CET : INFO : tpe : suggest : 900 : Message : TPE using 20/20 trials with best loss 2751655.256790\n"
     ]
    },
    {
     "name": "stdout",
     "output_type": "stream",
     "text": [
      " 21%|██        | 21/100 [00:04<00:13,  5.94trial/s, best loss: 2751655.2567898184]"
     ]
    },
    {
     "name": "stderr",
     "output_type": "stream",
     "text": [
      "2022-12-01T10:40:26CET : INFO : tpe : suggest : 864 : Message : build_posterior_wrapper took 0.000371 seconds\n",
      "2022-12-01T10:40:26CET : INFO : tpe : suggest : 900 : Message : TPE using 21/21 trials with best loss 2751655.256790\n"
     ]
    },
    {
     "name": "stdout",
     "output_type": "stream",
     "text": [
      " 22%|██▏       | 22/100 [00:04<00:16,  4.69trial/s, best loss: 2751655.2567898184]"
     ]
    },
    {
     "name": "stderr",
     "output_type": "stream",
     "text": [
      "2022-12-01T10:40:26CET : INFO : tpe : suggest : 864 : Message : build_posterior_wrapper took 0.000419 seconds\n",
      "2022-12-01T10:40:26CET : INFO : tpe : suggest : 900 : Message : TPE using 22/22 trials with best loss 2751655.256790\n"
     ]
    },
    {
     "name": "stdout",
     "output_type": "stream",
     "text": [
      " 23%|██▎       | 23/100 [00:04<00:14,  5.40trial/s, best loss: 2751655.2567898184]"
     ]
    },
    {
     "name": "stderr",
     "output_type": "stream",
     "text": [
      "2022-12-01T10:40:27CET : INFO : tpe : suggest : 864 : Message : build_posterior_wrapper took 0.000394 seconds\n",
      "2022-12-01T10:40:27CET : INFO : tpe : suggest : 900 : Message : TPE using 23/23 trials with best loss 2751655.256790\n",
      "2022-12-01T10:40:27CET : INFO : tpe : suggest : 864 : Message : build_posterior_wrapper took 0.000391 seconds\n",
      "2022-12-01T10:40:27CET : INFO : tpe : suggest : 900 : Message : TPE using 24/24 trials with best loss 2751655.256790\n"
     ]
    },
    {
     "name": "stdout",
     "output_type": "stream",
     "text": [
      " 25%|██▌       | 25/100 [00:04<00:09,  7.53trial/s, best loss: 2751655.2567898184]"
     ]
    },
    {
     "name": "stderr",
     "output_type": "stream",
     "text": [
      "2022-12-01T10:40:27CET : INFO : tpe : suggest : 864 : Message : build_posterior_wrapper took 0.000410 seconds\n",
      "2022-12-01T10:40:27CET : INFO : tpe : suggest : 900 : Message : TPE using 25/25 trials with best loss 2751655.256790\n"
     ]
    },
    {
     "name": "stdout",
     "output_type": "stream",
     "text": [
      " 26%|██▌       | 26/100 [00:04<00:11,  6.22trial/s, best loss: 2751655.2567898184]"
     ]
    },
    {
     "name": "stderr",
     "output_type": "stream",
     "text": [
      "2022-12-01T10:40:27CET : INFO : tpe : suggest : 864 : Message : build_posterior_wrapper took 0.000430 seconds\n",
      "2022-12-01T10:40:27CET : INFO : tpe : suggest : 900 : Message : TPE using 26/26 trials with best loss 2751655.256790\n"
     ]
    },
    {
     "name": "stdout",
     "output_type": "stream",
     "text": [
      " 27%|██▋       | 27/100 [00:05<00:11,  6.63trial/s, best loss: 2751655.2567898184]"
     ]
    },
    {
     "name": "stderr",
     "output_type": "stream",
     "text": [
      "2022-12-01T10:40:27CET : INFO : tpe : suggest : 864 : Message : build_posterior_wrapper took 0.000364 seconds\n",
      "2022-12-01T10:40:27CET : INFO : tpe : suggest : 900 : Message : TPE using 27/27 trials with best loss 2751655.256790\n"
     ]
    },
    {
     "name": "stdout",
     "output_type": "stream",
     "text": [
      " 28%|██▊       | 28/100 [00:05<00:12,  5.97trial/s, best loss: 2751655.2567898184]"
     ]
    },
    {
     "name": "stderr",
     "output_type": "stream",
     "text": [
      "2022-12-01T10:40:27CET : INFO : tpe : suggest : 864 : Message : build_posterior_wrapper took 0.000386 seconds\n",
      "2022-12-01T10:40:27CET : INFO : tpe : suggest : 900 : Message : TPE using 28/28 trials with best loss 2751655.256790\n"
     ]
    },
    {
     "name": "stdout",
     "output_type": "stream",
     "text": [
      " 29%|██▉       | 29/100 [00:05<00:11,  6.30trial/s, best loss: 2751655.2567898184]"
     ]
    },
    {
     "name": "stderr",
     "output_type": "stream",
     "text": [
      "2022-12-01T10:40:27CET : INFO : tpe : suggest : 864 : Message : build_posterior_wrapper took 0.000365 seconds\n",
      "2022-12-01T10:40:27CET : INFO : tpe : suggest : 900 : Message : TPE using 29/29 trials with best loss 2751655.256790\n",
      "2022-12-01T10:40:27CET : INFO : tpe : suggest : 864 : Message : build_posterior_wrapper took 0.000497 seconds\n",
      "2022-12-01T10:40:27CET : INFO : tpe : suggest : 900 : Message : TPE using 30/30 trials with best loss 2751655.256790\n"
     ]
    },
    {
     "name": "stdout",
     "output_type": "stream",
     "text": [
      " 31%|███       | 31/100 [00:05<00:08,  8.25trial/s, best loss: 2751655.2567898184]"
     ]
    },
    {
     "name": "stderr",
     "output_type": "stream",
     "text": [
      "2022-12-01T10:40:28CET : INFO : tpe : suggest : 864 : Message : build_posterior_wrapper took 0.000689 seconds\n",
      "2022-12-01T10:40:28CET : INFO : tpe : suggest : 900 : Message : TPE using 31/31 trials with best loss 2751655.256790\n"
     ]
    },
    {
     "name": "stdout",
     "output_type": "stream",
     "text": [
      " 32%|███▏      | 32/100 [00:05<00:10,  6.27trial/s, best loss: 2751655.2567898184]"
     ]
    },
    {
     "name": "stderr",
     "output_type": "stream",
     "text": [
      "2022-12-01T10:40:28CET : INFO : tpe : suggest : 864 : Message : build_posterior_wrapper took 0.000383 seconds\n",
      "2022-12-01T10:40:28CET : INFO : tpe : suggest : 900 : Message : TPE using 32/32 trials with best loss 2751655.256790\n"
     ]
    },
    {
     "name": "stdout",
     "output_type": "stream",
     "text": [
      " 33%|███▎      | 33/100 [00:05<00:11,  5.80trial/s, best loss: 2751655.2567898184]"
     ]
    },
    {
     "name": "stderr",
     "output_type": "stream",
     "text": [
      "2022-12-01T10:40:28CET : INFO : tpe : suggest : 864 : Message : build_posterior_wrapper took 0.000379 seconds\n",
      "2022-12-01T10:40:28CET : INFO : tpe : suggest : 900 : Message : TPE using 33/33 trials with best loss 2751655.256790\n"
     ]
    },
    {
     "name": "stdout",
     "output_type": "stream",
     "text": [
      " 34%|███▍      | 34/100 [00:06<00:10,  6.20trial/s, best loss: 2751655.2567898184]"
     ]
    },
    {
     "name": "stderr",
     "output_type": "stream",
     "text": [
      "2022-12-01T10:40:28CET : INFO : tpe : suggest : 864 : Message : build_posterior_wrapper took 0.000425 seconds\n",
      "2022-12-01T10:40:28CET : INFO : tpe : suggest : 900 : Message : TPE using 34/34 trials with best loss 2751655.256790\n"
     ]
    },
    {
     "name": "stdout",
     "output_type": "stream",
     "text": [
      " 35%|███▌      | 35/100 [00:06<00:10,  6.28trial/s, best loss: 2751655.2567898184]"
     ]
    },
    {
     "name": "stderr",
     "output_type": "stream",
     "text": [
      "2022-12-01T10:40:28CET : INFO : tpe : suggest : 864 : Message : build_posterior_wrapper took 0.000368 seconds\n",
      "2022-12-01T10:40:28CET : INFO : tpe : suggest : 900 : Message : TPE using 35/35 trials with best loss 2751655.256790\n",
      "2022-12-01T10:40:28CET : INFO : tpe : suggest : 864 : Message : build_posterior_wrapper took 0.000529 seconds\n",
      "2022-12-01T10:40:28CET : INFO : tpe : suggest : 900 : Message : TPE using 36/36 trials with best loss 2751655.256790\n"
     ]
    },
    {
     "name": "stdout",
     "output_type": "stream",
     "text": [
      " 37%|███▋      | 37/100 [00:06<00:08,  7.22trial/s, best loss: 2751655.2567898184]"
     ]
    },
    {
     "name": "stderr",
     "output_type": "stream",
     "text": [
      "2022-12-01T10:40:29CET : INFO : tpe : suggest : 864 : Message : build_posterior_wrapper took 0.000429 seconds\n",
      "2022-12-01T10:40:29CET : INFO : tpe : suggest : 900 : Message : TPE using 37/37 trials with best loss 2751655.256790\n",
      "2022-12-01T10:40:29CET : INFO : tpe : suggest : 864 : Message : build_posterior_wrapper took 0.000399 seconds\n",
      "2022-12-01T10:40:29CET : INFO : tpe : suggest : 900 : Message : TPE using 38/38 trials with best loss 2751655.256790\n"
     ]
    },
    {
     "name": "stdout",
     "output_type": "stream",
     "text": [
      " 39%|███▉      | 39/100 [00:06<00:08,  7.05trial/s, best loss: 2751655.2567898184]"
     ]
    },
    {
     "name": "stderr",
     "output_type": "stream",
     "text": [
      "2022-12-01T10:40:29CET : INFO : tpe : suggest : 864 : Message : build_posterior_wrapper took 0.000444 seconds\n",
      "2022-12-01T10:40:29CET : INFO : tpe : suggest : 900 : Message : TPE using 39/39 trials with best loss 2751655.256790\n",
      "2022-12-01T10:40:29CET : INFO : tpe : suggest : 864 : Message : build_posterior_wrapper took 0.000494 seconds\n",
      "2022-12-01T10:40:29CET : INFO : tpe : suggest : 900 : Message : TPE using 40/40 trials with best loss 2751655.256790\n"
     ]
    },
    {
     "name": "stdout",
     "output_type": "stream",
     "text": [
      " 41%|████      | 41/100 [00:07<00:08,  7.24trial/s, best loss: 2751655.2567898184]"
     ]
    },
    {
     "name": "stderr",
     "output_type": "stream",
     "text": [
      "2022-12-01T10:40:29CET : INFO : tpe : suggest : 864 : Message : build_posterior_wrapper took 0.000388 seconds\n",
      "2022-12-01T10:40:29CET : INFO : tpe : suggest : 900 : Message : TPE using 41/41 trials with best loss 2751655.256790\n",
      "2022-12-01T10:40:29CET : INFO : tpe : suggest : 864 : Message : build_posterior_wrapper took 0.000570 seconds\n",
      "2022-12-01T10:40:29CET : INFO : tpe : suggest : 900 : Message : TPE using 42/42 trials with best loss 2751655.256790\n"
     ]
    },
    {
     "name": "stdout",
     "output_type": "stream",
     "text": [
      " 43%|████▎     | 43/100 [00:07<00:07,  7.44trial/s, best loss: 2751655.2567898184]"
     ]
    },
    {
     "name": "stderr",
     "output_type": "stream",
     "text": [
      "2022-12-01T10:40:29CET : INFO : tpe : suggest : 864 : Message : build_posterior_wrapper took 0.000383 seconds\n",
      "2022-12-01T10:40:29CET : INFO : tpe : suggest : 900 : Message : TPE using 43/43 trials with best loss 2751655.256790\n"
     ]
    },
    {
     "name": "stdout",
     "output_type": "stream",
     "text": [
      " 44%|████▍     | 44/100 [00:07<00:07,  7.57trial/s, best loss: 2751655.2567898184]"
     ]
    },
    {
     "name": "stderr",
     "output_type": "stream",
     "text": [
      "2022-12-01T10:40:29CET : INFO : tpe : suggest : 864 : Message : build_posterior_wrapper took 0.000428 seconds\n",
      "2022-12-01T10:40:29CET : INFO : tpe : suggest : 900 : Message : TPE using 44/44 trials with best loss 2751655.256790\n"
     ]
    },
    {
     "name": "stdout",
     "output_type": "stream",
     "text": [
      " 45%|████▌     | 45/100 [00:07<00:08,  6.56trial/s, best loss: 2751655.2567898184]"
     ]
    },
    {
     "name": "stderr",
     "output_type": "stream",
     "text": [
      "2022-12-01T10:40:30CET : INFO : tpe : suggest : 864 : Message : build_posterior_wrapper took 0.000371 seconds\n",
      "2022-12-01T10:40:30CET : INFO : tpe : suggest : 900 : Message : TPE using 45/45 trials with best loss 2751655.256790\n"
     ]
    },
    {
     "name": "stdout",
     "output_type": "stream",
     "text": [
      " 46%|████▌     | 46/100 [00:07<00:08,  6.48trial/s, best loss: 2751655.2567898184]"
     ]
    },
    {
     "name": "stderr",
     "output_type": "stream",
     "text": [
      "2022-12-01T10:40:30CET : INFO : tpe : suggest : 864 : Message : build_posterior_wrapper took 0.000458 seconds\n",
      "2022-12-01T10:40:30CET : INFO : tpe : suggest : 900 : Message : TPE using 46/46 trials with best loss 2751655.256790\n"
     ]
    },
    {
     "name": "stdout",
     "output_type": "stream",
     "text": [
      " 47%|████▋     | 47/100 [00:08<00:09,  5.45trial/s, best loss: 2751655.2567898184]"
     ]
    },
    {
     "name": "stderr",
     "output_type": "stream",
     "text": [
      "2022-12-01T10:40:30CET : INFO : tpe : suggest : 864 : Message : build_posterior_wrapper took 0.000516 seconds\n",
      "2022-12-01T10:40:30CET : INFO : tpe : suggest : 900 : Message : TPE using 47/47 trials with best loss 2751655.256790\n",
      "2022-12-01T10:40:30CET : INFO : tpe : suggest : 864 : Message : build_posterior_wrapper took 0.000397 seconds\n",
      "2022-12-01T10:40:30CET : INFO : tpe : suggest : 900 : Message : TPE using 48/48 trials with best loss 2751655.256790\n"
     ]
    },
    {
     "name": "stdout",
     "output_type": "stream",
     "text": [
      " 49%|████▉     | 49/100 [00:08<00:08,  6.15trial/s, best loss: 2751655.2567898184]"
     ]
    },
    {
     "name": "stderr",
     "output_type": "stream",
     "text": [
      "2022-12-01T10:40:30CET : INFO : tpe : suggest : 864 : Message : build_posterior_wrapper took 0.000389 seconds\n",
      "2022-12-01T10:40:30CET : INFO : tpe : suggest : 900 : Message : TPE using 49/49 trials with best loss 2751655.256790\n"
     ]
    },
    {
     "name": "stdout",
     "output_type": "stream",
     "text": [
      " 50%|█████     | 50/100 [00:08<00:07,  6.63trial/s, best loss: 2751655.2567898184]"
     ]
    },
    {
     "name": "stderr",
     "output_type": "stream",
     "text": [
      "2022-12-01T10:40:31CET : INFO : tpe : suggest : 864 : Message : build_posterior_wrapper took 0.000434 seconds\n",
      "2022-12-01T10:40:31CET : INFO : tpe : suggest : 900 : Message : TPE using 50/50 trials with best loss 2751655.256790\n"
     ]
    },
    {
     "name": "stdout",
     "output_type": "stream",
     "text": [
      " 51%|█████     | 51/100 [00:08<00:07,  6.75trial/s, best loss: 2751655.2567898184]"
     ]
    },
    {
     "name": "stderr",
     "output_type": "stream",
     "text": [
      "2022-12-01T10:40:31CET : INFO : tpe : suggest : 864 : Message : build_posterior_wrapper took 0.000388 seconds\n",
      "2022-12-01T10:40:31CET : INFO : tpe : suggest : 900 : Message : TPE using 51/51 trials with best loss 2751655.256790\n"
     ]
    },
    {
     "name": "stdout",
     "output_type": "stream",
     "text": [
      " 52%|█████▏    | 52/100 [00:08<00:08,  5.89trial/s, best loss: 2751655.2567898184]"
     ]
    },
    {
     "name": "stderr",
     "output_type": "stream",
     "text": [
      "2022-12-01T10:40:31CET : INFO : tpe : suggest : 864 : Message : build_posterior_wrapper took 0.000518 seconds\n",
      "2022-12-01T10:40:31CET : INFO : tpe : suggest : 900 : Message : TPE using 52/52 trials with best loss 2751655.256790\n"
     ]
    },
    {
     "name": "stdout",
     "output_type": "stream",
     "text": [
      " 53%|█████▎    | 53/100 [00:09<00:07,  5.99trial/s, best loss: 2751655.2567898184]"
     ]
    },
    {
     "name": "stderr",
     "output_type": "stream",
     "text": [
      "2022-12-01T10:40:31CET : INFO : tpe : suggest : 864 : Message : build_posterior_wrapper took 0.000463 seconds\n",
      "2022-12-01T10:40:31CET : INFO : tpe : suggest : 900 : Message : TPE using 53/53 trials with best loss 2751655.256790\n"
     ]
    },
    {
     "name": "stdout",
     "output_type": "stream",
     "text": [
      " 54%|█████▍    | 54/100 [00:09<00:07,  5.91trial/s, best loss: 2751655.2567898184]"
     ]
    },
    {
     "name": "stderr",
     "output_type": "stream",
     "text": [
      "2022-12-01T10:40:31CET : INFO : tpe : suggest : 864 : Message : build_posterior_wrapper took 0.000418 seconds\n",
      "2022-12-01T10:40:31CET : INFO : tpe : suggest : 900 : Message : TPE using 54/54 trials with best loss 2751655.256790\n"
     ]
    },
    {
     "name": "stdout",
     "output_type": "stream",
     "text": [
      " 55%|█████▌    | 55/100 [00:09<00:06,  6.56trial/s, best loss: 2751655.2567898184]"
     ]
    },
    {
     "name": "stderr",
     "output_type": "stream",
     "text": [
      "2022-12-01T10:40:31CET : INFO : tpe : suggest : 864 : Message : build_posterior_wrapper took 0.000655 seconds\n",
      "2022-12-01T10:40:31CET : INFO : tpe : suggest : 900 : Message : TPE using 55/55 trials with best loss 2751655.256790\n",
      "2022-12-01T10:40:31CET : INFO : tpe : suggest : 864 : Message : build_posterior_wrapper took 0.000370 seconds\n",
      "2022-12-01T10:40:31CET : INFO : tpe : suggest : 900 : Message : TPE using 56/56 trials with best loss 2751655.256790\n"
     ]
    },
    {
     "name": "stdout",
     "output_type": "stream",
     "text": [
      " 57%|█████▋    | 57/100 [00:09<00:04,  8.76trial/s, best loss: 2751655.2567898184]"
     ]
    },
    {
     "name": "stderr",
     "output_type": "stream",
     "text": [
      "2022-12-01T10:40:31CET : INFO : tpe : suggest : 864 : Message : build_posterior_wrapper took 0.000396 seconds\n",
      "2022-12-01T10:40:31CET : INFO : tpe : suggest : 900 : Message : TPE using 57/57 trials with best loss 2751655.256790\n"
     ]
    },
    {
     "name": "stdout",
     "output_type": "stream",
     "text": [
      " 58%|█████▊    | 58/100 [00:09<00:05,  7.21trial/s, best loss: 2751655.2567898184]"
     ]
    },
    {
     "name": "stderr",
     "output_type": "stream",
     "text": [
      "2022-12-01T10:40:32CET : INFO : tpe : suggest : 864 : Message : build_posterior_wrapper took 0.000369 seconds\n",
      "2022-12-01T10:40:32CET : INFO : tpe : suggest : 900 : Message : TPE using 58/58 trials with best loss 2751655.256790\n",
      "2022-12-01T10:40:32CET : INFO : tpe : suggest : 864 : Message : build_posterior_wrapper took 0.000357 seconds\n",
      "2022-12-01T10:40:32CET : INFO : tpe : suggest : 900 : Message : TPE using 59/59 trials with best loss 2697501.801655\n"
     ]
    },
    {
     "name": "stdout",
     "output_type": "stream",
     "text": [
      " 60%|██████    | 60/100 [00:09<00:04,  8.37trial/s, best loss: 2697501.8016548455]"
     ]
    },
    {
     "name": "stderr",
     "output_type": "stream",
     "text": [
      "2022-12-01T10:40:32CET : INFO : tpe : suggest : 864 : Message : build_posterior_wrapper took 0.000485 seconds\n",
      "2022-12-01T10:40:32CET : INFO : tpe : suggest : 900 : Message : TPE using 60/60 trials with best loss 2697501.801655\n"
     ]
    },
    {
     "name": "stdout",
     "output_type": "stream",
     "text": [
      " 61%|██████    | 61/100 [00:09<00:04,  8.43trial/s, best loss: 2697501.8016548455]"
     ]
    },
    {
     "name": "stderr",
     "output_type": "stream",
     "text": [
      "2022-12-01T10:40:32CET : INFO : tpe : suggest : 864 : Message : build_posterior_wrapper took 0.000808 seconds\n",
      "2022-12-01T10:40:32CET : INFO : tpe : suggest : 900 : Message : TPE using 61/61 trials with best loss 2697501.801655\n"
     ]
    },
    {
     "name": "stdout",
     "output_type": "stream",
     "text": [
      " 62%|██████▏   | 62/100 [00:10<00:05,  6.81trial/s, best loss: 2697501.8016548455]"
     ]
    },
    {
     "name": "stderr",
     "output_type": "stream",
     "text": [
      "2022-12-01T10:40:32CET : INFO : tpe : suggest : 864 : Message : build_posterior_wrapper took 0.001215 seconds\n",
      "2022-12-01T10:40:32CET : INFO : tpe : suggest : 900 : Message : TPE using 62/62 trials with best loss 2697501.801655\n"
     ]
    },
    {
     "name": "stdout",
     "output_type": "stream",
     "text": [
      " 63%|██████▎   | 63/100 [00:10<00:05,  7.17trial/s, best loss: 2697501.8016548455]"
     ]
    },
    {
     "name": "stderr",
     "output_type": "stream",
     "text": [
      "2022-12-01T10:40:32CET : INFO : tpe : suggest : 864 : Message : build_posterior_wrapper took 0.000486 seconds\n",
      "2022-12-01T10:40:32CET : INFO : tpe : suggest : 900 : Message : TPE using 63/63 trials with best loss 2697501.801655\n",
      "2022-12-01T10:40:32CET : INFO : tpe : suggest : 864 : Message : build_posterior_wrapper took 0.000992 seconds\n",
      "2022-12-01T10:40:32CET : INFO : tpe : suggest : 900 : Message : TPE using 64/64 trials with best loss 2697501.801655\n"
     ]
    },
    {
     "name": "stdout",
     "output_type": "stream",
     "text": [
      " 65%|██████▌   | 65/100 [00:10<00:04,  7.90trial/s, best loss: 2697501.8016548455]"
     ]
    },
    {
     "name": "stderr",
     "output_type": "stream",
     "text": [
      "2022-12-01T10:40:33CET : INFO : tpe : suggest : 864 : Message : build_posterior_wrapper took 0.000434 seconds\n",
      "2022-12-01T10:40:33CET : INFO : tpe : suggest : 900 : Message : TPE using 65/65 trials with best loss 2697501.801655\n"
     ]
    },
    {
     "name": "stdout",
     "output_type": "stream",
     "text": [
      " 66%|██████▌   | 66/100 [00:10<00:04,  7.46trial/s, best loss: 2697501.8016548455]"
     ]
    },
    {
     "name": "stderr",
     "output_type": "stream",
     "text": [
      "2022-12-01T10:40:33CET : INFO : tpe : suggest : 864 : Message : build_posterior_wrapper took 0.000448 seconds\n",
      "2022-12-01T10:40:33CET : INFO : tpe : suggest : 900 : Message : TPE using 66/66 trials with best loss 2697501.801655\n"
     ]
    },
    {
     "name": "stdout",
     "output_type": "stream",
     "text": [
      " 67%|██████▋   | 67/100 [00:10<00:04,  6.85trial/s, best loss: 2697501.8016548455]"
     ]
    },
    {
     "name": "stderr",
     "output_type": "stream",
     "text": [
      "2022-12-01T10:40:33CET : INFO : tpe : suggest : 864 : Message : build_posterior_wrapper took 0.000351 seconds\n",
      "2022-12-01T10:40:33CET : INFO : tpe : suggest : 900 : Message : TPE using 67/67 trials with best loss 2697501.801655\n"
     ]
    },
    {
     "name": "stdout",
     "output_type": "stream",
     "text": [
      " 68%|██████▊   | 68/100 [00:10<00:04,  7.37trial/s, best loss: 2697501.8016548455]"
     ]
    },
    {
     "name": "stderr",
     "output_type": "stream",
     "text": [
      "2022-12-01T10:40:33CET : INFO : tpe : suggest : 864 : Message : build_posterior_wrapper took 0.000759 seconds\n",
      "2022-12-01T10:40:33CET : INFO : tpe : suggest : 900 : Message : TPE using 68/68 trials with best loss 2697501.801655\n"
     ]
    },
    {
     "name": "stdout",
     "output_type": "stream",
     "text": [
      " 69%|██████▉   | 69/100 [00:11<00:04,  7.01trial/s, best loss: 2697501.8016548455]"
     ]
    },
    {
     "name": "stderr",
     "output_type": "stream",
     "text": [
      "2022-12-01T10:40:33CET : INFO : tpe : suggest : 864 : Message : build_posterior_wrapper took 0.000390 seconds\n",
      "2022-12-01T10:40:33CET : INFO : tpe : suggest : 900 : Message : TPE using 69/69 trials with best loss 2697501.801655\n"
     ]
    },
    {
     "name": "stdout",
     "output_type": "stream",
     "text": [
      " 70%|███████   | 70/100 [00:11<00:06,  4.96trial/s, best loss: 2697501.8016548455]"
     ]
    },
    {
     "name": "stderr",
     "output_type": "stream",
     "text": [
      "2022-12-01T10:40:34CET : INFO : tpe : suggest : 864 : Message : build_posterior_wrapper took 0.000416 seconds\n",
      "2022-12-01T10:40:34CET : INFO : tpe : suggest : 900 : Message : TPE using 70/70 trials with best loss 2697501.801655\n"
     ]
    },
    {
     "name": "stdout",
     "output_type": "stream",
     "text": [
      " 71%|███████   | 71/100 [00:11<00:06,  4.78trial/s, best loss: 2697501.8016548455]"
     ]
    },
    {
     "name": "stderr",
     "output_type": "stream",
     "text": [
      "2022-12-01T10:40:34CET : INFO : tpe : suggest : 864 : Message : build_posterior_wrapper took 0.000684 seconds\n",
      "2022-12-01T10:40:34CET : INFO : tpe : suggest : 900 : Message : TPE using 71/71 trials with best loss 2697501.801655\n"
     ]
    },
    {
     "name": "stdout",
     "output_type": "stream",
     "text": [
      " 72%|███████▏  | 72/100 [00:11<00:05,  4.94trial/s, best loss: 2697501.8016548455]"
     ]
    },
    {
     "name": "stderr",
     "output_type": "stream",
     "text": [
      "2022-12-01T10:40:34CET : INFO : tpe : suggest : 864 : Message : build_posterior_wrapper took 0.000430 seconds\n",
      "2022-12-01T10:40:34CET : INFO : tpe : suggest : 900 : Message : TPE using 72/72 trials with best loss 2697501.801655\n"
     ]
    },
    {
     "name": "stdout",
     "output_type": "stream",
     "text": [
      " 73%|███████▎  | 73/100 [00:12<00:05,  5.33trial/s, best loss: 2697501.8016548455]"
     ]
    },
    {
     "name": "stderr",
     "output_type": "stream",
     "text": [
      "2022-12-01T10:40:34CET : INFO : tpe : suggest : 864 : Message : build_posterior_wrapper took 0.000367 seconds\n",
      "2022-12-01T10:40:34CET : INFO : tpe : suggest : 900 : Message : TPE using 73/73 trials with best loss 2697501.801655\n"
     ]
    },
    {
     "name": "stdout",
     "output_type": "stream",
     "text": [
      " 74%|███████▍  | 74/100 [00:12<00:05,  4.56trial/s, best loss: 2697501.8016548455]"
     ]
    },
    {
     "name": "stderr",
     "output_type": "stream",
     "text": [
      "2022-12-01T10:40:34CET : INFO : tpe : suggest : 864 : Message : build_posterior_wrapper took 0.000667 seconds\n",
      "2022-12-01T10:40:34CET : INFO : tpe : suggest : 900 : Message : TPE using 74/74 trials with best loss 2697501.801655\n"
     ]
    },
    {
     "name": "stdout",
     "output_type": "stream",
     "text": [
      " 75%|███████▌  | 75/100 [00:12<00:04,  5.20trial/s, best loss: 2697501.8016548455]"
     ]
    },
    {
     "name": "stderr",
     "output_type": "stream",
     "text": [
      "2022-12-01T10:40:34CET : INFO : tpe : suggest : 864 : Message : build_posterior_wrapper took 0.000842 seconds\n",
      "2022-12-01T10:40:34CET : INFO : tpe : suggest : 900 : Message : TPE using 75/75 trials with best loss 2697501.801655\n"
     ]
    },
    {
     "name": "stdout",
     "output_type": "stream",
     "text": [
      " 76%|███████▌  | 76/100 [00:12<00:04,  5.30trial/s, best loss: 2697501.8016548455]"
     ]
    },
    {
     "name": "stderr",
     "output_type": "stream",
     "text": [
      "2022-12-01T10:40:35CET : INFO : tpe : suggest : 864 : Message : build_posterior_wrapper took 0.000470 seconds\n",
      "2022-12-01T10:40:35CET : INFO : tpe : suggest : 900 : Message : TPE using 76/76 trials with best loss 2697501.801655\n"
     ]
    },
    {
     "name": "stdout",
     "output_type": "stream",
     "text": [
      " 77%|███████▋  | 77/100 [00:12<00:04,  5.17trial/s, best loss: 2697501.8016548455]"
     ]
    },
    {
     "name": "stderr",
     "output_type": "stream",
     "text": [
      "2022-12-01T10:40:35CET : INFO : tpe : suggest : 864 : Message : build_posterior_wrapper took 0.000772 seconds\n",
      "2022-12-01T10:40:35CET : INFO : tpe : suggest : 900 : Message : TPE using 77/77 trials with best loss 2697501.801655\n"
     ]
    },
    {
     "name": "stdout",
     "output_type": "stream",
     "text": [
      " 78%|███████▊  | 78/100 [00:13<00:04,  4.48trial/s, best loss: 2697501.8016548455]"
     ]
    },
    {
     "name": "stderr",
     "output_type": "stream",
     "text": [
      "2022-12-01T10:40:35CET : INFO : tpe : suggest : 864 : Message : build_posterior_wrapper took 0.000488 seconds\n",
      "2022-12-01T10:40:35CET : INFO : tpe : suggest : 900 : Message : TPE using 78/78 trials with best loss 2697501.801655\n"
     ]
    },
    {
     "name": "stdout",
     "output_type": "stream",
     "text": [
      " 79%|███████▉  | 79/100 [00:13<00:04,  4.45trial/s, best loss: 2697501.8016548455]"
     ]
    },
    {
     "name": "stderr",
     "output_type": "stream",
     "text": [
      "2022-12-01T10:40:35CET : INFO : tpe : suggest : 864 : Message : build_posterior_wrapper took 0.000851 seconds\n",
      "2022-12-01T10:40:35CET : INFO : tpe : suggest : 900 : Message : TPE using 79/79 trials with best loss 2697501.801655\n"
     ]
    },
    {
     "name": "stdout",
     "output_type": "stream",
     "text": [
      " 80%|████████  | 80/100 [00:13<00:04,  4.52trial/s, best loss: 2697501.8016548455]"
     ]
    },
    {
     "name": "stderr",
     "output_type": "stream",
     "text": [
      "2022-12-01T10:40:36CET : INFO : tpe : suggest : 864 : Message : build_posterior_wrapper took 0.000427 seconds\n",
      "2022-12-01T10:40:36CET : INFO : tpe : suggest : 900 : Message : TPE using 80/80 trials with best loss 2697501.801655\n",
      "2022-12-01T10:40:36CET : INFO : tpe : suggest : 864 : Message : build_posterior_wrapper took 0.000365 seconds\n",
      "2022-12-01T10:40:36CET : INFO : tpe : suggest : 900 : Message : TPE using 81/81 trials with best loss 2697501.801655\n"
     ]
    },
    {
     "name": "stdout",
     "output_type": "stream",
     "text": [
      " 82%|████████▏ | 82/100 [00:13<00:03,  5.83trial/s, best loss: 2697501.8016548455]"
     ]
    },
    {
     "name": "stderr",
     "output_type": "stream",
     "text": [
      "2022-12-01T10:40:36CET : INFO : tpe : suggest : 864 : Message : build_posterior_wrapper took 0.000419 seconds\n",
      "2022-12-01T10:40:36CET : INFO : tpe : suggest : 900 : Message : TPE using 82/82 trials with best loss 2697501.801655\n",
      "2022-12-01T10:40:36CET : INFO : tpe : suggest : 864 : Message : build_posterior_wrapper took 0.000534 seconds\n",
      "2022-12-01T10:40:36CET : INFO : tpe : suggest : 900 : Message : TPE using 83/83 trials with best loss 2697501.801655\n"
     ]
    },
    {
     "name": "stdout",
     "output_type": "stream",
     "text": [
      " 84%|████████▍ | 84/100 [00:13<00:02,  7.58trial/s, best loss: 2697501.8016548455]"
     ]
    },
    {
     "name": "stderr",
     "output_type": "stream",
     "text": [
      "2022-12-01T10:40:36CET : INFO : tpe : suggest : 864 : Message : build_posterior_wrapper took 0.000534 seconds\n",
      "2022-12-01T10:40:36CET : INFO : tpe : suggest : 900 : Message : TPE using 84/84 trials with best loss 2697501.801655\n"
     ]
    },
    {
     "name": "stdout",
     "output_type": "stream",
     "text": [
      " 85%|████████▌ | 85/100 [00:14<00:02,  7.32trial/s, best loss: 2697501.8016548455]"
     ]
    },
    {
     "name": "stderr",
     "output_type": "stream",
     "text": [
      "2022-12-01T10:40:36CET : INFO : tpe : suggest : 864 : Message : build_posterior_wrapper took 0.000453 seconds\n",
      "2022-12-01T10:40:36CET : INFO : tpe : suggest : 900 : Message : TPE using 85/85 trials with best loss 2697501.801655\n"
     ]
    },
    {
     "name": "stdout",
     "output_type": "stream",
     "text": [
      " 86%|████████▌ | 86/100 [00:14<00:01,  7.26trial/s, best loss: 2697501.8016548455]"
     ]
    },
    {
     "name": "stderr",
     "output_type": "stream",
     "text": [
      "2022-12-01T10:40:36CET : INFO : tpe : suggest : 864 : Message : build_posterior_wrapper took 0.000388 seconds\n",
      "2022-12-01T10:40:36CET : INFO : tpe : suggest : 900 : Message : TPE using 86/86 trials with best loss 2697501.801655\n"
     ]
    },
    {
     "name": "stdout",
     "output_type": "stream",
     "text": [
      " 87%|████████▋ | 87/100 [00:14<00:01,  7.46trial/s, best loss: 2697501.8016548455]"
     ]
    },
    {
     "name": "stderr",
     "output_type": "stream",
     "text": [
      "2022-12-01T10:40:36CET : INFO : tpe : suggest : 864 : Message : build_posterior_wrapper took 0.000485 seconds\n",
      "2022-12-01T10:40:36CET : INFO : tpe : suggest : 900 : Message : TPE using 87/87 trials with best loss 2697501.801655\n"
     ]
    },
    {
     "name": "stdout",
     "output_type": "stream",
     "text": [
      " 88%|████████▊ | 88/100 [00:14<00:01,  7.75trial/s, best loss: 2697501.8016548455]"
     ]
    },
    {
     "name": "stderr",
     "output_type": "stream",
     "text": [
      "2022-12-01T10:40:37CET : INFO : tpe : suggest : 864 : Message : build_posterior_wrapper took 0.000768 seconds\n",
      "2022-12-01T10:40:37CET : INFO : tpe : suggest : 900 : Message : TPE using 88/88 trials with best loss 2697501.801655\n",
      "2022-12-01T10:40:37CET : INFO : tpe : suggest : 864 : Message : build_posterior_wrapper took 0.000391 seconds\n",
      "2022-12-01T10:40:37CET : INFO : tpe : suggest : 900 : Message : TPE using 89/89 trials with best loss 2490349.929780\n"
     ]
    },
    {
     "name": "stdout",
     "output_type": "stream",
     "text": [
      " 90%|█████████ | 90/100 [00:14<00:01,  9.24trial/s, best loss: 2490349.9297797326]"
     ]
    },
    {
     "name": "stderr",
     "output_type": "stream",
     "text": [
      "2022-12-01T10:40:37CET : INFO : tpe : suggest : 864 : Message : build_posterior_wrapper took 0.000452 seconds\n",
      "2022-12-01T10:40:37CET : INFO : tpe : suggest : 900 : Message : TPE using 90/90 trials with best loss 2490349.929780\n",
      "2022-12-01T10:40:37CET : INFO : tpe : suggest : 864 : Message : build_posterior_wrapper took 0.000545 seconds\n",
      "2022-12-01T10:40:37CET : INFO : tpe : suggest : 900 : Message : TPE using 91/91 trials with best loss 2490349.929780\n"
     ]
    },
    {
     "name": "stdout",
     "output_type": "stream",
     "text": [
      " 92%|█████████▏| 92/100 [00:14<00:00,  9.77trial/s, best loss: 2490349.9297797326]"
     ]
    },
    {
     "name": "stderr",
     "output_type": "stream",
     "text": [
      "2022-12-01T10:40:37CET : INFO : tpe : suggest : 864 : Message : build_posterior_wrapper took 0.001084 seconds\n",
      "2022-12-01T10:40:37CET : INFO : tpe : suggest : 900 : Message : TPE using 92/92 trials with best loss 2490349.929780\n"
     ]
    },
    {
     "name": "stdout",
     "output_type": "stream",
     "text": [
      " 93%|█████████▎| 93/100 [00:14<00:00,  9.52trial/s, best loss: 2490349.9297797326]"
     ]
    },
    {
     "name": "stderr",
     "output_type": "stream",
     "text": [
      "2022-12-01T10:40:37CET : INFO : tpe : suggest : 864 : Message : build_posterior_wrapper took 0.001065 seconds\n",
      "2022-12-01T10:40:37CET : INFO : tpe : suggest : 900 : Message : TPE using 93/93 trials with best loss 2490349.929780\n"
     ]
    },
    {
     "name": "stdout",
     "output_type": "stream",
     "text": [
      " 94%|█████████▍| 94/100 [00:15<00:00,  8.68trial/s, best loss: 2490349.9297797326]"
     ]
    },
    {
     "name": "stderr",
     "output_type": "stream",
     "text": [
      "2022-12-01T10:40:37CET : INFO : tpe : suggest : 864 : Message : build_posterior_wrapper took 0.000434 seconds\n",
      "2022-12-01T10:40:37CET : INFO : tpe : suggest : 900 : Message : TPE using 94/94 trials with best loss 2490349.929780\n",
      "2022-12-01T10:40:37CET : INFO : tpe : suggest : 864 : Message : build_posterior_wrapper took 0.000428 seconds\n",
      "2022-12-01T10:40:37CET : INFO : tpe : suggest : 900 : Message : TPE using 95/95 trials with best loss 2490349.929780\n"
     ]
    },
    {
     "name": "stdout",
     "output_type": "stream",
     "text": [
      " 96%|█████████▌| 96/100 [00:15<00:00,  8.72trial/s, best loss: 2490349.9297797326]"
     ]
    },
    {
     "name": "stderr",
     "output_type": "stream",
     "text": [
      "2022-12-01T10:40:37CET : INFO : tpe : suggest : 864 : Message : build_posterior_wrapper took 0.000392 seconds\n",
      "2022-12-01T10:40:37CET : INFO : tpe : suggest : 900 : Message : TPE using 96/96 trials with best loss 2490349.929780\n"
     ]
    },
    {
     "name": "stdout",
     "output_type": "stream",
     "text": [
      " 97%|█████████▋| 97/100 [00:15<00:00,  8.69trial/s, best loss: 2490349.9297797326]"
     ]
    },
    {
     "name": "stderr",
     "output_type": "stream",
     "text": [
      "2022-12-01T10:40:37CET : INFO : tpe : suggest : 864 : Message : build_posterior_wrapper took 0.000408 seconds\n",
      "2022-12-01T10:40:37CET : INFO : tpe : suggest : 900 : Message : TPE using 97/97 trials with best loss 2490349.929780\n",
      "2022-12-01T10:40:38CET : INFO : tpe : suggest : 864 : Message : build_posterior_wrapper took 0.000361 seconds\n",
      "2022-12-01T10:40:38CET : INFO : tpe : suggest : 900 : Message : TPE using 98/98 trials with best loss 2490349.929780\n"
     ]
    },
    {
     "name": "stdout",
     "output_type": "stream",
     "text": [
      " 99%|█████████▉| 99/100 [00:15<00:00, 10.05trial/s, best loss: 2490349.9297797326]"
     ]
    },
    {
     "name": "stderr",
     "output_type": "stream",
     "text": [
      "2022-12-01T10:40:38CET : INFO : tpe : suggest : 864 : Message : build_posterior_wrapper took 0.000425 seconds\n",
      "2022-12-01T10:40:38CET : INFO : tpe : suggest : 900 : Message : TPE using 99/99 trials with best loss 2490349.929780\n"
     ]
    },
    {
     "name": "stdout",
     "output_type": "stream",
     "text": [
      "100%|██████████| 100/100 [00:15<00:00,  6.38trial/s, best loss: 2490349.9297797326]"
     ]
    },
    {
     "name": "stderr",
     "output_type": "stream",
     "text": [
      "2022-12-01T10:40:38CET : INFO : brisk_bagging : refit : 146 : Message : final score :[0.9381997914681199, 0.3130115962107367]\n"
     ]
    },
    {
     "name": "stdout",
     "output_type": "stream",
     "text": [
      "\n"
     ]
    },
    {
     "data": {
      "text/plain": [
       "BaggingRegressor(n_estimators=22)"
      ]
     },
     "execution_count": 7,
     "metadata": {},
     "output_type": "execute_result"
    }
   ],
   "source": [
    "brisk_bag_1.fetch_model(X_train, X_test, y_train, y_test)"
   ]
  },
  {
   "cell_type": "code",
   "execution_count": null,
   "id": "cc402ee3-c45d-42f1-a594-1e77b258754b",
   "metadata": {},
   "outputs": [],
   "source": []
  }
 ],
 "metadata": {
  "kernelspec": {
   "display_name": "Python 3.8.13 ('automl')",
   "language": "python",
   "name": "python3"
  },
  "language_info": {
   "codemirror_mode": {
    "name": "ipython",
    "version": 3
   },
   "file_extension": ".py",
   "mimetype": "text/x-python",
   "name": "python",
   "nbconvert_exporter": "python",
   "pygments_lexer": "ipython3",
   "version": "3.8.13"
  },
  "vscode": {
   "interpreter": {
    "hash": "6ceb9dcfe4855088cb408ca84060dddedae3a13bd9f61da61d02274285d7dc6d"
   }
  }
 },
 "nbformat": 4,
 "nbformat_minor": 5
}
