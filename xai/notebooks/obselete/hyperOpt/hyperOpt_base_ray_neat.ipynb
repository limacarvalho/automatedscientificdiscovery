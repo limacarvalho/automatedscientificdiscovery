{
 "cells": [
  {
   "cell_type": "code",
   "execution_count": 1,
   "id": "085d62fd-57dc-4567-9085-d2665ac27b53",
   "metadata": {},
   "outputs": [],
   "source": [
    "import sys; sys.path.insert(0, '../..') # add parent folder path where lib folder is"
   ]
  },
  {
   "cell_type": "code",
   "execution_count": 14,
   "id": "316285f9-1822-44ce-9dea-057f52465954",
   "metadata": {},
   "outputs": [
    {
     "name": "stdout",
     "output_type": "stream",
     "text": [
      "The autoreload extension is already loaded. To reload it, use:\n",
      "  %reload_ext autoreload\n"
     ]
    }
   ],
   "source": [
    "%load_ext autoreload\n",
    "%autoreload 2\n",
    "\n",
    "from utils import helper, config, rayer, kaggle_dataset_helper\n",
    "from ml.models.base.HyperOpt.brisk_bagging import BriskBagging\n",
    "\n",
    "from sklearn.preprocessing import StandardScaler\n",
    "from sklearn.model_selection import train_test_split\n",
    "\n",
    "from sklearn.metrics import r2_score, mean_squared_error\n",
    "from sklearn.metrics import f1_score, roc_auc_score, precision_score, recall_score\n",
    "from ml.models import common\n",
    "import ray\n",
    "import time\n",
    "import pandas as pd"
   ]
  },
  {
   "cell_type": "code",
   "execution_count": 3,
   "id": "5c463762-530c-4d04-9bb0-d0151ff8c6eb",
   "metadata": {},
   "outputs": [],
   "source": [
    "rayer.get_global_cluster(num_cpus=10)"
   ]
  },
  {
   "cell_type": "code",
   "execution_count": 4,
   "id": "cb54084e-3231-4754-8e3b-f15f7571247e",
   "metadata": {},
   "outputs": [
    {
     "name": "stdout",
     "output_type": "stream",
     "text": [
      "Traceback (most recent call last):\n",
      "  File \"/home/vagrant/miniconda3/envs/automl/bin/ray\", line 8, in <module>\n",
      "    sys.exit(main())\n",
      "  File \"/home/vagrant/miniconda3/envs/automl/lib/python3.8/site-packages/ray/scripts/scripts.py\", line 2596, in main\n",
      "    return cli()\n",
      "  File \"/home/vagrant/miniconda3/envs/automl/lib/python3.8/site-packages/click/core.py\", line 1128, in __call__\n",
      "    return self.main(*args, **kwargs)\n",
      "  File \"/home/vagrant/miniconda3/envs/automl/lib/python3.8/site-packages/click/core.py\", line 1053, in main\n",
      "    rv = self.invoke(ctx)\n",
      "  File \"/home/vagrant/miniconda3/envs/automl/lib/python3.8/site-packages/click/core.py\", line 1659, in invoke\n",
      "    return _process_result(sub_ctx.command.invoke(sub_ctx))\n",
      "  File \"/home/vagrant/miniconda3/envs/automl/lib/python3.8/site-packages/click/core.py\", line 1395, in invoke\n",
      "    return ctx.invoke(self.callback, **ctx.params)\n",
      "  File \"/home/vagrant/miniconda3/envs/automl/lib/python3.8/site-packages/click/core.py\", line 754, in invoke\n",
      "    return __callback(*args, **kwargs)\n",
      "  File \"/home/vagrant/miniconda3/envs/automl/lib/python3.8/site-packages/ray/scripts/scripts.py\", line 1877, in status\n",
      "    address = services.canonicalize_bootstrap_address_or_die(address)\n",
      "  File \"/home/vagrant/miniconda3/envs/automl/lib/python3.8/site-packages/ray/_private/services.py\", line 486, in canonicalize_bootstrap_address_or_die\n",
      "    raise ConnectionError(\n",
      "ConnectionError: Could not find any running Ray instance. Please specify the one to connect to by setting the `--address` flag or `RAY_ADDRESS` environment variable.\n",
      "\u001b[0m"
     ]
    }
   ],
   "source": [
    "!ray status #--address='raycluster-autoscaler-head-svc.dev.svc.cluster.local:6379'"
   ]
  },
  {
   "cell_type": "code",
   "execution_count": 5,
   "id": "d06d54bd-f787-4c53-9f8c-4f4503f89418",
   "metadata": {},
   "outputs": [],
   "source": [
    "X, y = helper.get_covid_dataset()\n",
    "X = X.drop(['location'], axis = 1)\n",
    "\n",
    "X_train, X_test, y_train, y_test = train_test_split(X, y, test_size=0.33)\n",
    "\n",
    "ss = StandardScaler()\n",
    "X_train_scalar = pd.DataFrame(ss.fit_transform(X_train), columns = X_train.columns)\n",
    "X_test_scalar = pd.DataFrame(ss.fit_transform(X_test), columns = X_test.columns)"
   ]
  },
  {
   "cell_type": "code",
   "execution_count": 15,
   "id": "9755b733",
   "metadata": {},
   "outputs": [],
   "source": [
    "ds_train, ds_test = kaggle_dataset_helper.get_transaction_predictions_dataset()\n",
    "ds_train = common.label_encode(ds_train)\n",
    "ds_test = common.label_encode(ds_test)\n",
    "\n",
    "ds_train = ds_train.fillna(-1)\n",
    "ds_test = ds_test.fillna(-1)\n",
    "\n",
    "\n",
    "df_X = ds_train.loc[:, ds_train.columns != 'target']\n",
    "df_y = ds_train['target']\n",
    "\n",
    "X_train, X_test, y_train, y_test = train_test_split(df_X, df_y, test_size=0.33, random_state=config.rand_state)\n",
    "\n",
    "ss = StandardScaler()\n",
    "X_train_scalar = pd.DataFrame(ss.fit_transform(X_train), columns = X_train.columns)\n",
    "X_test_scalar = pd.DataFrame(ss.fit_transform(X_test), columns = X_test.columns)\n",
    "\n"
   ]
  },
  {
   "cell_type": "code",
   "execution_count": 16,
   "id": "c15ec617-1953-4657-8d92-948c552e8625",
   "metadata": {},
   "outputs": [],
   "source": [
    "X_train_id = ray.put(X_train_scalar)\n",
    "y_train_id = ray.put(y_train)\n",
    "X_test_id = ray.put(X_train_scalar)\n",
    "y_test_id = ray.put(y_test)"
   ]
  },
  {
   "cell_type": "code",
   "execution_count": 17,
   "id": "47162ce2-7384-49aa-a41c-e2a41f316b5d",
   "metadata": {},
   "outputs": [],
   "source": [
    "\n",
    "@ray.remote(num_returns=1)\n",
    "def worker(base_model, X_train, X_test, y_train, y_test):     \n",
    "    base_model.fetch_model(X_train, X_test, y_train, y_test)\n",
    "    return base_model\n"
   ]
  },
  {
   "cell_type": "code",
   "execution_count": 20,
   "id": "49dad496-e15e-487a-983d-d66b0fa20820",
   "metadata": {},
   "outputs": [],
   "source": [
    "brisk_bag_1 = BriskBagging('brisk_xgb1')\n",
    "brisk_bag_1.n_estimators = 100\n",
    "\n",
    "\n",
    "brisk_bag_2 = BriskBagging('brisk_xgb2')\n",
    "brisk_bag_2.n_estimators = 100\n",
    "\n",
    "\n",
    "brisk_bag_3 = BriskBagging('brisk_xgb3')\n",
    "brisk_bag_3.n_estimators = 100\n",
    "\n",
    "\n",
    "brisk_bag_4 = BriskBagging('brisk_xgb4')\n",
    "brisk_bag_4.n_estimators = 100\n",
    "\n",
    "\n",
    "brisk_bag_5 = BriskBagging('brisk_xgb5')\n",
    "brisk_bag_5.n_estimators = 100\n",
    "\n",
    "list_models = [brisk_bag_1, brisk_bag_2]"
   ]
  },
  {
   "cell_type": "code",
   "execution_count": 21,
   "id": "cc402ee3-c45d-42f1-a594-1e77b258754b",
   "metadata": {},
   "outputs": [
    {
     "name": "stderr",
     "output_type": "stream",
     "text": [
      "\u001b[2m\u001b[36m(worker pid=8439)\u001b[0m 2022-12-01T10:17:58UTC : INFO : brisk_bagging : __discover_model__ : 96 : Message : brisk_xgb1: Starting training for trials:300, n_estimators  100\n",
      "\u001b[2m\u001b[36m(worker pid=8439)\u001b[0m 2022-12-01T10:17:58UTC : INFO : tpe : suggest : 864 : Message : build_posterior_wrapper took 0.000882 seconds\n",
      "\u001b[2m\u001b[36m(worker pid=8439)\u001b[0m 2022-12-01T10:17:58UTC : INFO : tpe : suggest : 900 : Message : TPE using 0 trials\n"
     ]
    },
    {
     "name": "stdout",
     "output_type": "stream",
     "text": [
      "  0%|          | 0/100 [00:00<?, ?trial/s, best loss=?]\n",
      "  0%|          | 0/100 [00:00<?, ?trial/s, best loss=?]\n",
      "  0%|          | 0/100 [36:14<?, ?trial/s, best loss=?]\n"
     ]
    },
    {
     "name": "stderr",
     "output_type": "stream",
     "text": [
      "\u001b[2m\u001b[36m(worker pid=8032)\u001b[0m 2022-12-01T10:21:49UTC : ERROR : fmin : serial_evaluate : 180 : Message : job exception: Found input variables with inconsistent numbers of samples: [30706, 62341]\n",
      "\u001b[2m\u001b[36m(worker pid=8440)\u001b[0m 2022-12-01T10:40:23UTC : ERROR : fmin : serial_evaluate : 180 : Message : job exception: Found input variables with inconsistent numbers of samples: [30706, 62341]\n"
     ]
    },
    {
     "name": "stdout",
     "output_type": "stream",
     "text": [
      "  0%|          | 0/100 [54:48<?, ?trial/s, best loss=?]\n"
     ]
    },
    {
     "name": "stderr",
     "output_type": "stream",
     "text": [
      "\u001b[2m\u001b[36m(worker pid=8441)\u001b[0m 2022-12-01T10:55:37UTC : ERROR : fmin : serial_evaluate : 180 : Message : job exception: Found input variables with inconsistent numbers of samples: [30706, 62341]\n"
     ]
    },
    {
     "name": "stdout",
     "output_type": "stream",
     "text": [
      "  0%|          | 0/100 [1:10:02<?, ?trial/s, best loss=?]\n",
      "  0%|          | 0/100 [40:13<?, ?trial/s, best loss=?]\n"
     ]
    },
    {
     "name": "stderr",
     "output_type": "stream",
     "text": [
      "\u001b[2m\u001b[36m(worker pid=8439)\u001b[0m 2022-12-01T10:58:12UTC : ERROR : fmin : serial_evaluate : 180 : Message : job exception: Found input variables with inconsistent numbers of samples: [30706, 62341]\n"
     ]
    },
    {
     "ename": "RayTaskError(ValueError)",
     "evalue": "\u001b[36mray::worker()\u001b[39m (pid=8439, ip=192.168.0.249)\n  File \"/tmp/ipykernel_16988/946824343.py\", line 3, in worker\n  File \"/mnt/c/Users/rwmas/GitHub/xai/python-asd/xai/notebooks/hyperOpt/../../ml/models/base/HyperOpt/brisk_bagging.py\", line 156, in fetch_model\n  File \"/mnt/c/Users/rwmas/GitHub/xai/python-asd/xai/notebooks/hyperOpt/../../ml/models/base/HyperOpt/brisk_bagging.py\", line 114, in __discover_model__\n  File \"/tmp/ray/session_2022-12-01_08-38-43_279183_1405/runtime_resources/pip/6315c0fe214a8b2cd0da6f759f65803033c84e03/virtualenv/lib/python3.8/site-packages/hyperopt/fmin.py\", line 586, in fmin\n    rval.exhaust()\n  File \"/tmp/ray/session_2022-12-01_08-38-43_279183_1405/runtime_resources/pip/6315c0fe214a8b2cd0da6f759f65803033c84e03/virtualenv/lib/python3.8/site-packages/hyperopt/fmin.py\", line 364, in exhaust\n    self.run(self.max_evals - n_done, block_until_done=self.asynchronous)\n  File \"/tmp/ray/session_2022-12-01_08-38-43_279183_1405/runtime_resources/pip/6315c0fe214a8b2cd0da6f759f65803033c84e03/virtualenv/lib/python3.8/site-packages/hyperopt/fmin.py\", line 300, in run\n    self.serial_evaluate()\n  File \"/tmp/ray/session_2022-12-01_08-38-43_279183_1405/runtime_resources/pip/6315c0fe214a8b2cd0da6f759f65803033c84e03/virtualenv/lib/python3.8/site-packages/hyperopt/fmin.py\", line 178, in serial_evaluate\n    result = self.domain.evaluate(spec, ctrl)\n  File \"/tmp/ray/session_2022-12-01_08-38-43_279183_1405/runtime_resources/pip/6315c0fe214a8b2cd0da6f759f65803033c84e03/virtualenv/lib/python3.8/site-packages/hyperopt/base.py\", line 892, in evaluate\n    rval = self.fn(pyll_rval)\n  File \"/mnt/c/Users/rwmas/GitHub/xai/python-asd/xai/notebooks/hyperOpt/../../ml/models/base/HyperOpt/brisk_bagging.py\", line 112, in <lambda>\n  File \"/mnt/c/Users/rwmas/GitHub/xai/python-asd/xai/notebooks/hyperOpt/../../ml/models/base/HyperOpt/brisk_bagging.py\", line 81, in __objective__\n  File \"/tmp/ray/session_2022-12-01_08-38-43_279183_1405/runtime_resources/working_dir_files/_ray_pkg_9eb89bbd4b1a6f97/ml/models/base/HyperOpt/base_model.py\", line 92, in __get_model_score__\n    err_test = score_func(y_test, pred_test)\n  File \"/home/rayuser/.local/lib/python3.8/site-packages/sklearn/metrics/_regression.py\", line 442, in mean_squared_error\n    y_type, y_true, y_pred, multioutput = _check_reg_targets(\n  File \"/home/rayuser/.local/lib/python3.8/site-packages/sklearn/metrics/_regression.py\", line 100, in _check_reg_targets\n    check_consistent_length(y_true, y_pred)\n  File \"/home/rayuser/.local/lib/python3.8/site-packages/sklearn/utils/validation.py\", line 387, in check_consistent_length\n    raise ValueError(\nValueError: Found input variables with inconsistent numbers of samples: [30706, 62341]",
     "output_type": "error",
     "traceback": [
      "\u001b[0;31m---------------------------------------------------------------------------\u001b[0m",
      "\u001b[0;31mRayTaskError(ValueError)\u001b[0m                  Traceback (most recent call last)",
      "\u001b[1;32m/mnt/c/Users/rwmas/GitHub/xai/python-asd/xai/notebooks/hyperOpt/hyperOpt_base_ray_neat.ipynb Cell 10\u001b[0m in \u001b[0;36m<cell line: 1>\u001b[0;34m()\u001b[0m\n\u001b[0;32m----> <a href='vscode-notebook-cell://wsl%2Bubuntu/mnt/c/Users/rwmas/GitHub/xai/python-asd/xai/notebooks/hyperOpt/hyperOpt_base_ray_neat.ipynb#X11sdnNjb2RlLXJlbW90ZQ%3D%3D?line=0'>1</a>\u001b[0m model_results \u001b[39m=\u001b[39m ray\u001b[39m.\u001b[39;49mget([worker\u001b[39m.\u001b[39;49mremote(base_model, X_train_id, X_test_id, y_train_id, y_test_id) \u001b[39mfor\u001b[39;49;00m base_model \u001b[39min\u001b[39;49;00m list_models])\n",
      "File \u001b[0;32m~/miniconda3/envs/automl/lib/python3.8/site-packages/ray/_private/client_mode_hook.py:104\u001b[0m, in \u001b[0;36mclient_mode_hook.<locals>.wrapper\u001b[0;34m(*args, **kwargs)\u001b[0m\n\u001b[1;32m    100\u001b[0m \u001b[39mif\u001b[39;00m client_mode_should_convert(auto_init\u001b[39m=\u001b[39mauto_init):\n\u001b[1;32m    101\u001b[0m     \u001b[39m# Legacy code\u001b[39;00m\n\u001b[1;32m    102\u001b[0m     \u001b[39m# we only convert init function if RAY_CLIENT_MODE=1\u001b[39;00m\n\u001b[1;32m    103\u001b[0m     \u001b[39mif\u001b[39;00m func\u001b[39m.\u001b[39m\u001b[39m__name__\u001b[39m \u001b[39m!=\u001b[39m \u001b[39m\"\u001b[39m\u001b[39minit\u001b[39m\u001b[39m\"\u001b[39m \u001b[39mor\u001b[39;00m is_client_mode_enabled_by_default:\n\u001b[0;32m--> 104\u001b[0m         \u001b[39mreturn\u001b[39;00m \u001b[39mgetattr\u001b[39;49m(ray, func\u001b[39m.\u001b[39;49m\u001b[39m__name__\u001b[39;49m)(\u001b[39m*\u001b[39;49margs, \u001b[39m*\u001b[39;49m\u001b[39m*\u001b[39;49mkwargs)\n\u001b[1;32m    105\u001b[0m \u001b[39mreturn\u001b[39;00m func(\u001b[39m*\u001b[39margs, \u001b[39m*\u001b[39m\u001b[39m*\u001b[39mkwargs)\n",
      "File \u001b[0;32m~/miniconda3/envs/automl/lib/python3.8/site-packages/ray/util/client/api.py:42\u001b[0m, in \u001b[0;36m_ClientAPI.get\u001b[0;34m(self, vals, timeout)\u001b[0m\n\u001b[1;32m     35\u001b[0m \u001b[39mdef\u001b[39;00m \u001b[39mget\u001b[39m(\u001b[39mself\u001b[39m, vals, \u001b[39m*\u001b[39m, timeout\u001b[39m=\u001b[39m\u001b[39mNone\u001b[39;00m):\n\u001b[1;32m     36\u001b[0m     \u001b[39m\"\"\"get is the hook stub passed on to replace `ray.get`\u001b[39;00m\n\u001b[1;32m     37\u001b[0m \n\u001b[1;32m     38\u001b[0m \u001b[39m    Args:\u001b[39;00m\n\u001b[1;32m     39\u001b[0m \u001b[39m        vals: [Client]ObjectRef or list of these refs to retrieve.\u001b[39;00m\n\u001b[1;32m     40\u001b[0m \u001b[39m        timeout: Optional timeout in milliseconds\u001b[39;00m\n\u001b[1;32m     41\u001b[0m \u001b[39m    \"\"\"\u001b[39;00m\n\u001b[0;32m---> 42\u001b[0m     \u001b[39mreturn\u001b[39;00m \u001b[39mself\u001b[39;49m\u001b[39m.\u001b[39;49mworker\u001b[39m.\u001b[39;49mget(vals, timeout\u001b[39m=\u001b[39;49mtimeout)\n",
      "File \u001b[0;32m~/miniconda3/envs/automl/lib/python3.8/site-packages/ray/util/client/worker.py:434\u001b[0m, in \u001b[0;36mWorker.get\u001b[0;34m(self, vals, timeout)\u001b[0m\n\u001b[1;32m    432\u001b[0m     op_timeout \u001b[39m=\u001b[39m max_blocking_operation_time\n\u001b[1;32m    433\u001b[0m \u001b[39mtry\u001b[39;00m:\n\u001b[0;32m--> 434\u001b[0m     res \u001b[39m=\u001b[39m \u001b[39mself\u001b[39;49m\u001b[39m.\u001b[39;49m_get(to_get, op_timeout)\n\u001b[1;32m    435\u001b[0m     \u001b[39mbreak\u001b[39;00m\n\u001b[1;32m    436\u001b[0m \u001b[39mexcept\u001b[39;00m GetTimeoutError:\n",
      "File \u001b[0;32m~/miniconda3/envs/automl/lib/python3.8/site-packages/ray/util/client/worker.py:462\u001b[0m, in \u001b[0;36mWorker._get\u001b[0;34m(self, ref, timeout)\u001b[0m\n\u001b[1;32m    460\u001b[0m         logger\u001b[39m.\u001b[39mexception(\u001b[39m\"\u001b[39m\u001b[39mFailed to deserialize \u001b[39m\u001b[39m{}\u001b[39;00m\u001b[39m\"\u001b[39m\u001b[39m.\u001b[39mformat(chunk\u001b[39m.\u001b[39merror))\n\u001b[1;32m    461\u001b[0m         \u001b[39mraise\u001b[39;00m\n\u001b[0;32m--> 462\u001b[0m     \u001b[39mraise\u001b[39;00m err\n\u001b[1;32m    463\u001b[0m \u001b[39mif\u001b[39;00m chunk\u001b[39m.\u001b[39mtotal_size \u001b[39m>\u001b[39m OBJECT_TRANSFER_WARNING_SIZE \u001b[39mand\u001b[39;00m log_once(\n\u001b[1;32m    464\u001b[0m     \u001b[39m\"\u001b[39m\u001b[39mclient_object_transfer_size_warning\u001b[39m\u001b[39m\"\u001b[39m\n\u001b[1;32m    465\u001b[0m ):\n\u001b[1;32m    466\u001b[0m     size_gb \u001b[39m=\u001b[39m chunk\u001b[39m.\u001b[39mtotal_size \u001b[39m/\u001b[39m \u001b[39m2\u001b[39m \u001b[39m*\u001b[39m\u001b[39m*\u001b[39m \u001b[39m30\u001b[39m\n",
      "\u001b[0;31mRayTaskError(ValueError)\u001b[0m: \u001b[36mray::worker()\u001b[39m (pid=8439, ip=192.168.0.249)\n  File \"/tmp/ipykernel_16988/946824343.py\", line 3, in worker\n  File \"/mnt/c/Users/rwmas/GitHub/xai/python-asd/xai/notebooks/hyperOpt/../../ml/models/base/HyperOpt/brisk_bagging.py\", line 156, in fetch_model\n  File \"/mnt/c/Users/rwmas/GitHub/xai/python-asd/xai/notebooks/hyperOpt/../../ml/models/base/HyperOpt/brisk_bagging.py\", line 114, in __discover_model__\n  File \"/tmp/ray/session_2022-12-01_08-38-43_279183_1405/runtime_resources/pip/6315c0fe214a8b2cd0da6f759f65803033c84e03/virtualenv/lib/python3.8/site-packages/hyperopt/fmin.py\", line 586, in fmin\n    rval.exhaust()\n  File \"/tmp/ray/session_2022-12-01_08-38-43_279183_1405/runtime_resources/pip/6315c0fe214a8b2cd0da6f759f65803033c84e03/virtualenv/lib/python3.8/site-packages/hyperopt/fmin.py\", line 364, in exhaust\n    self.run(self.max_evals - n_done, block_until_done=self.asynchronous)\n  File \"/tmp/ray/session_2022-12-01_08-38-43_279183_1405/runtime_resources/pip/6315c0fe214a8b2cd0da6f759f65803033c84e03/virtualenv/lib/python3.8/site-packages/hyperopt/fmin.py\", line 300, in run\n    self.serial_evaluate()\n  File \"/tmp/ray/session_2022-12-01_08-38-43_279183_1405/runtime_resources/pip/6315c0fe214a8b2cd0da6f759f65803033c84e03/virtualenv/lib/python3.8/site-packages/hyperopt/fmin.py\", line 178, in serial_evaluate\n    result = self.domain.evaluate(spec, ctrl)\n  File \"/tmp/ray/session_2022-12-01_08-38-43_279183_1405/runtime_resources/pip/6315c0fe214a8b2cd0da6f759f65803033c84e03/virtualenv/lib/python3.8/site-packages/hyperopt/base.py\", line 892, in evaluate\n    rval = self.fn(pyll_rval)\n  File \"/mnt/c/Users/rwmas/GitHub/xai/python-asd/xai/notebooks/hyperOpt/../../ml/models/base/HyperOpt/brisk_bagging.py\", line 112, in <lambda>\n  File \"/mnt/c/Users/rwmas/GitHub/xai/python-asd/xai/notebooks/hyperOpt/../../ml/models/base/HyperOpt/brisk_bagging.py\", line 81, in __objective__\n  File \"/tmp/ray/session_2022-12-01_08-38-43_279183_1405/runtime_resources/working_dir_files/_ray_pkg_9eb89bbd4b1a6f97/ml/models/base/HyperOpt/base_model.py\", line 92, in __get_model_score__\n    err_test = score_func(y_test, pred_test)\n  File \"/home/rayuser/.local/lib/python3.8/site-packages/sklearn/metrics/_regression.py\", line 442, in mean_squared_error\n    y_type, y_true, y_pred, multioutput = _check_reg_targets(\n  File \"/home/rayuser/.local/lib/python3.8/site-packages/sklearn/metrics/_regression.py\", line 100, in _check_reg_targets\n    check_consistent_length(y_true, y_pred)\n  File \"/home/rayuser/.local/lib/python3.8/site-packages/sklearn/utils/validation.py\", line 387, in check_consistent_length\n    raise ValueError(\nValueError: Found input variables with inconsistent numbers of samples: [30706, 62341]"
     ]
    }
   ],
   "source": [
    "model_results = ray.get([worker.remote(base_model, X_train_id, X_test_id, y_train_id, y_test_id) for base_model in list_models])"
   ]
  },
  {
   "cell_type": "code",
   "execution_count": 13,
   "id": "ba2e77c5-322a-4bc8-8fe2-e272b5b16130",
   "metadata": {},
   "outputs": [
    {
     "data": {
      "text/plain": [
       "[<ml.models.base.HyperOpt.brisk_bagging.BriskBagging at 0x7fb90fb1eca0>,\n",
       " <ml.models.base.HyperOpt.brisk_bagging.BriskBagging at 0x7fb90facd0a0>,\n",
       " <ml.models.base.HyperOpt.brisk_bagging.BriskBagging at 0x7fb98a327e80>,\n",
       " <ml.models.base.HyperOpt.brisk_bagging.BriskBagging at 0x7fb8bcb08ca0>,\n",
       " <ml.models.base.HyperOpt.brisk_bagging.BriskBagging at 0x7fb90fa82400>]"
      ]
     },
     "execution_count": 13,
     "metadata": {},
     "output_type": "execute_result"
    }
   ],
   "source": [
    "model_results"
   ]
  },
  {
   "cell_type": "code",
   "execution_count": null,
   "id": "6c791063-8dba-4f87-b56f-c9008b978595",
   "metadata": {},
   "outputs": [],
   "source": []
  }
 ],
 "metadata": {
  "kernelspec": {
   "display_name": "Python 3.8.13 ('automl')",
   "language": "python",
   "name": "python3"
  },
  "language_info": {
   "codemirror_mode": {
    "name": "ipython",
    "version": 3
   },
   "file_extension": ".py",
   "mimetype": "text/x-python",
   "name": "python",
   "nbconvert_exporter": "python",
   "pygments_lexer": "ipython3",
   "version": "3.8.13"
  },
  "vscode": {
   "interpreter": {
    "hash": "6ceb9dcfe4855088cb408ca84060dddedae3a13bd9f61da61d02274285d7dc6d"
   }
  }
 },
 "nbformat": 4,
 "nbformat_minor": 5
}
