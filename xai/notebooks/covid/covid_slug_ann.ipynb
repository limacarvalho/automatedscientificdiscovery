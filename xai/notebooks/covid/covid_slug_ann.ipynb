{
 "cells": [
  {
   "cell_type": "code",
   "execution_count": 1,
   "metadata": {},
   "outputs": [],
   "source": [
    "%load_ext autoreload\n",
    "%autoreload 2"
   ]
  },
  {
   "cell_type": "code",
   "execution_count": 2,
   "metadata": {},
   "outputs": [],
   "source": [
    "import sys; sys.path.insert(0, '../..') # add parent folder path where lib folder is"
   ]
  },
  {
   "cell_type": "code",
   "execution_count": 3,
   "metadata": {},
   "outputs": [
    {
     "ename": "ModuleNotFoundError",
     "evalue": "No module named 'dask_ml'",
     "output_type": "error",
     "traceback": [
      "\u001b[0;31m---------------------------------------------------------------------------\u001b[0m",
      "\u001b[0;31mModuleNotFoundError\u001b[0m                       Traceback (most recent call last)",
      "Cell \u001b[0;32mIn [3], line 3\u001b[0m\n\u001b[1;32m      1\u001b[0m \u001b[38;5;28;01mfrom\u001b[39;00m \u001b[38;5;21;01mutils\u001b[39;00m \u001b[38;5;28;01mimport\u001b[39;00m dasker, helper, config\n\u001b[1;32m      2\u001b[0m \u001b[38;5;28;01mfrom\u001b[39;00m \u001b[38;5;21;01mml\u001b[39;00m\u001b[38;5;21;01m.\u001b[39;00m\u001b[38;5;21;01mmodels\u001b[39;00m\u001b[38;5;21;01m.\u001b[39;00m\u001b[38;5;21;01mbase\u001b[39;00m\u001b[38;5;21;01m.\u001b[39;00m\u001b[38;5;21;01mslug_ann\u001b[39;00m \u001b[38;5;28;01mimport\u001b[39;00m SlugANN\n\u001b[0;32m----> 3\u001b[0m \u001b[38;5;28;01mfrom\u001b[39;00m \u001b[38;5;21;01mdask_ml\u001b[39;00m\u001b[38;5;21;01m.\u001b[39;00m\u001b[38;5;21;01mmodel_selection\u001b[39;00m \u001b[38;5;28;01mimport\u001b[39;00m train_test_split\n\u001b[1;32m      5\u001b[0m \u001b[38;5;28;01mfrom\u001b[39;00m \u001b[38;5;21;01msklearn\u001b[39;00m\u001b[38;5;21;01m.\u001b[39;00m\u001b[38;5;21;01mmetrics\u001b[39;00m \u001b[38;5;28;01mimport\u001b[39;00m r2_score, mean_squared_error\n\u001b[1;32m      6\u001b[0m \u001b[38;5;28;01mfrom\u001b[39;00m \u001b[38;5;21;01msklearn\u001b[39;00m\u001b[38;5;21;01m.\u001b[39;00m\u001b[38;5;21;01mmetrics\u001b[39;00m \u001b[38;5;28;01mimport\u001b[39;00m f1_score, roc_auc_score, precision_score, recall_score\n",
      "\u001b[0;31mModuleNotFoundError\u001b[0m: No module named 'dask_ml'"
     ]
    }
   ],
   "source": [
    "\n",
    "from utils import dasker, helper, config\n",
    "from ml.models.base.slug_ann import SlugANN\n",
    "from dask_ml.model_selection import train_test_split\n",
    "\n",
    "from sklearn.metrics import r2_score, mean_squared_error\n",
    "from sklearn.metrics import f1_score, roc_auc_score, precision_score, recall_score\n",
    "\n",
    "\n",
    "from sklearn import preprocessing\n",
    "from ml.models import common\n",
    "from dask_ml.preprocessing import StandardScaler"
   ]
  },
  {
   "cell_type": "code",
   "execution_count": 5,
   "metadata": {},
   "outputs": [
    {
     "name": "stdout",
     "output_type": "stream",
     "text": [
      "2022-11-03 06:02:30,256 - asyncio - DEBUG - Using selector: EpollSelector\n"
     ]
    },
    {
     "name": "stderr",
     "output_type": "stream",
     "text": [
      "2022-11-03 06:02:31,216 - distributed.diskutils - INFO - Found stale lock file and directory '/tmp/dask-worker-space/worker-6zkg_mlr', purging\n",
      "2022-11-03 06:02:31,216 - distributed.diskutils - INFO - Found stale lock file and directory '/tmp/dask-worker-space/worker-bd4yqze3', purging\n",
      "2022-11-03 06:02:31,216 - distributed.diskutils - INFO - Found stale lock file and directory '/tmp/dask-worker-space/worker-xpwx5s29', purging\n",
      "2022-11-03 06:02:31,216 - distributed.diskutils - INFO - Found stale lock file and directory '/tmp/dask-worker-space/worker-xs7g6m0e', purging\n"
     ]
    }
   ],
   "source": [
    "client = dasker.get_local_client()"
   ]
  },
  {
   "cell_type": "code",
   "execution_count": 6,
   "metadata": {},
   "outputs": [
    {
     "name": "stderr",
     "output_type": "stream",
     "text": [
      "/home/conda/admin/d58298aaeac3602d770f7bf195718c1efd43ddfef25c463593052aa91daf2f24-20221102-173948-053497-10-wasif-dev/lib/python3.9/site-packages/cupy/_environment.py:437: UserWarning: \n",
      "--------------------------------------------------------------------------------\n",
      "\n",
      "  CuPy may not function correctly because multiple CuPy packages are installed\n",
      "  in your environment:\n",
      "\n",
      "    cupy, cupy-cuda115\n",
      "\n",
      "  Follow these steps to resolve this issue:\n",
      "\n",
      "    1. For all packages listed above, run the following command to remove all\n",
      "       existing CuPy installations:\n",
      "\n",
      "         $ pip uninstall <package_name>\n",
      "\n",
      "      If you previously installed CuPy via conda, also run the following:\n",
      "\n",
      "         $ conda uninstall cupy\n",
      "\n",
      "    2. Install the appropriate CuPy package.\n",
      "       Refer to the Installation Guide for detailed instructions.\n",
      "\n",
      "         https://docs.cupy.dev/en/stable/install.html\n",
      "\n",
      "--------------------------------------------------------------------------------\n",
      "\n",
      "  warnings.warn(f'''\n"
     ]
    }
   ],
   "source": [
    "X, y = helper.get_covid_dataset()\n",
    "X = X.drop(['location'], axis = 1)\n",
    "X_scalar = StandardScaler().fit_transform(X.copy())\n",
    "\n",
    "\n",
    "X_train_scalar, X_test_scalar, y_train, y_test = train_test_split(X_scalar, \n",
    "                                                                                                                                y,\n",
    "                                                                                                                                test_size=0.33,\n",
    "                                                                                                                                random_state=config.rand_state)\n",
    "\n"
   ]
  },
  {
   "cell_type": "code",
   "execution_count": 7,
   "metadata": {},
   "outputs": [],
   "source": [
    "config.project_name = '/covid_slug_ann'"
   ]
  },
  {
   "cell_type": "code",
   "execution_count": 18,
   "metadata": {},
   "outputs": [],
   "source": [
    "slug_ann = SlugANN('slug_ann', X_train_scalar, X_test_scalar, y_train, y_test)\n",
    "slug_ann.epochs = 150\n",
    "slug_ann.n_trails = 300\n",
    "\n"
   ]
  },
  {
   "cell_type": "code",
   "execution_count": 19,
   "metadata": {},
   "outputs": [
    {
     "name": "stdout",
     "output_type": "stream",
     "text": [
      "2022-11-03 06:15:30,125 - console_info - INFO - slug_ann: Starting train for trials:100 with epochs: 150\n",
      "2022-11-03 06:15:30,125 - console_info - INFO - slug_ann: Starting train for trials:100 with epochs: 150\n",
      "2022-11-03 06:15:30,131 - console_info - INFO - slug_ann: Cleared previous models in the model save path\n",
      "2022-11-03 06:15:30,131 - console_info - INFO - slug_ann: Cleared previous models in the model save path\n",
      "2022-11-03 06:18:12,945 - console_info - INFO - slug_ann: Number of trials: 100\n",
      "2022-11-03 06:18:12,945 - console_info - INFO - slug_ann: Number of trials: 100\n",
      "2022-11-03 06:18:12,962 - console_info - INFO - Best trial: 75\n",
      "2022-11-03 06:18:12,962 - console_info - INFO - Best trial: 75\n",
      "2022-11-03 06:18:12,987 - console_info - INFO -   test r2 score: 0.44801739232884497\n",
      "2022-11-03 06:18:12,987 - console_info - INFO -   test r2 score: 0.44801739232884497\n",
      "2022-11-03 06:18:12,992 - console_info - INFO - slug_ann: Model saved at /home/wasif/python-asd/xai/app/ml/models/saved/covid_slug_ann/slug_ann/saved/slug_ann_75.pickle\n",
      "2022-11-03 06:18:12,992 - console_info - INFO - slug_ann: Model saved at /home/wasif/python-asd/xai/app/ml/models/saved/covid_slug_ann/slug_ann/saved/slug_ann_75.pickle\n"
     ]
    },
    {
     "data": {
      "text/plain": [
       "Sequential(\n",
       "  (0): Linear(in_features=40, out_features=7, bias=True)\n",
       "  (1): ReLU()\n",
       "  (2): Dropout(p=0.4178203685516112, inplace=False)\n",
       "  (3): Linear(in_features=7, out_features=230, bias=True)\n",
       "  (4): ReLU()\n",
       "  (5): Dropout(p=0.4178203685516112, inplace=False)\n",
       "  (6): Linear(in_features=230, out_features=1, bias=True)\n",
       "  (7): ReLU()\n",
       ")"
      ]
     },
     "execution_count": 19,
     "metadata": {},
     "output_type": "execute_result"
    },
    {
     "name": "stderr",
     "output_type": "stream",
     "text": [
      "2022-11-03 06:37:11,155 - distributed.nanny - ERROR - Worker process died unexpectedly\n",
      "2022-11-03 06:37:11,187 - distributed.nanny - WARNING - Restarting worker\n",
      "2022-11-03 06:37:11,195 - distributed.nanny - WARNING - Restarting worker\n",
      "2022-11-03 06:37:11,200 - distributed.nanny - WARNING - Restarting worker\n",
      "2022-11-03 06:37:11,224 - distributed.nanny - WARNING - Restarting worker\n",
      "2022-11-03 06:37:11,226 - distributed.nanny - WARNING - Restarting worker\n",
      "2022-11-03 06:37:11,235 - distributed.nanny - WARNING - Restarting worker\n",
      "2022-11-03 06:37:11,319 - distributed.nanny - WARNING - Restarting worker\n",
      "2022-11-03 06:37:11,320 - distributed.nanny - WARNING - Restarting worker\n",
      "2022-11-03 06:37:11,329 - distributed.nanny - WARNING - Restarting worker\n",
      "2022-11-03 06:37:11,336 - distributed.nanny - WARNING - Restarting worker\n",
      "2022-11-03 06:37:11,623 - distributed.nanny - WARNING - Restarting worker\n",
      "2022-11-03 06:37:11,624 - distributed.nanny - WARNING - Restarting worker\n",
      "2022-11-03 06:37:11,633 - distributed.nanny - WARNING - Restarting worker\n",
      "2022-11-03 06:37:11,642 - distributed.nanny - WARNING - Restarting worker\n",
      "2022-11-03 06:37:12,631 - distributed.nanny - WARNING - Restarting worker\n",
      "2022-11-03 06:37:12,632 - distributed.nanny - WARNING - Restarting worker\n",
      "2022-11-03 06:37:12,641 - distributed.nanny - WARNING - Restarting worker\n",
      "2022-11-03 06:37:12,661 - distributed.nanny - WARNING - Restarting worker\n",
      "2022-11-03 06:37:13,364 - distributed.diskutils - INFO - Found stale lock file and directory '/tmp/dask-worker-space/worker-g1767mge', purging\n",
      "2022-11-03 06:37:13,365 - distributed.diskutils - INFO - Found stale lock file and directory '/tmp/dask-worker-space/worker-xjpop3o6', purging\n",
      "2022-11-03 06:37:13,365 - distributed.diskutils - INFO - Found stale lock file and directory '/tmp/dask-worker-space/worker-tniej3v7', purging\n",
      "2022-11-03 06:37:13,365 - distributed.diskutils - INFO - Found stale lock file and directory '/tmp/dask-worker-space/worker-9_4dr8gs', purging\n"
     ]
    }
   ],
   "source": [
    "slug_ann.fetch_model()"
   ]
  },
  {
   "cell_type": "code",
   "execution_count": null,
   "metadata": {},
   "outputs": [],
   "source": [
    "slug_ann.score"
   ]
  },
  {
   "cell_type": "code",
   "execution_count": 14,
   "metadata": {},
   "outputs": [
    {
     "data": {
      "text/plain": [
       "-0.08146210233115947"
      ]
     },
     "execution_count": 14,
     "metadata": {},
     "output_type": "execute_result"
    }
   ],
   "source": [
    "pred = slug_ann.predict(X)\n",
    "r2_score(pred, y)\n"
   ]
  },
  {
   "cell_type": "code",
   "execution_count": 15,
   "metadata": {},
   "outputs": [],
   "source": [
    "threshold=0.1\n",
    "slug_ann.load_score(threshold=threshold)\n",
    "# slug_ann.load_score()"
   ]
  },
  {
   "cell_type": "code",
   "execution_count": 16,
   "metadata": {},
   "outputs": [],
   "source": [
    "slug_ann.score"
   ]
  },
  {
   "cell_type": "code",
   "execution_count": 17,
   "metadata": {},
   "outputs": [
    {
     "name": "stdout",
     "output_type": "stream",
     "text": [
      "2022-11-03 06:14:56,038 - console_info - INFO - slug_annno model attached as per your selection threshold. Lower the threshold in the 'load_score' function.\n",
      "2022-11-03 06:14:56,038 - console_info - INFO - slug_annno model attached as per your selection threshold. Lower the threshold in the 'load_score' function.\n"
     ]
    },
    {
     "ename": "TypeError",
     "evalue": "Singleton array array(None, dtype=object) cannot be considered a valid collection.",
     "output_type": "error",
     "traceback": [
      "\u001b[0;31m---------------------------------------------------------------------------\u001b[0m",
      "\u001b[0;31mTypeError\u001b[0m                                 Traceback (most recent call last)",
      "Cell \u001b[0;32mIn [17], line 2\u001b[0m\n\u001b[1;32m      1\u001b[0m pred \u001b[38;5;241m=\u001b[39m slug_ann\u001b[38;5;241m.\u001b[39mpredict(X_scalar)\n\u001b[0;32m----> 2\u001b[0m \u001b[43mr2_score\u001b[49m\u001b[43m(\u001b[49m\u001b[43mpred\u001b[49m\u001b[43m,\u001b[49m\u001b[43m \u001b[49m\u001b[43my\u001b[49m\u001b[43m)\u001b[49m\n",
      "File \u001b[0;32m/home/conda/admin/d58298aaeac3602d770f7bf195718c1efd43ddfef25c463593052aa91daf2f24-20221102-173948-053497-10-wasif-dev/lib/python3.9/site-packages/sklearn/metrics/_regression.py:911\u001b[0m, in \u001b[0;36mr2_score\u001b[0;34m(y_true, y_pred, sample_weight, multioutput, force_finite)\u001b[0m\n\u001b[1;32m    784\u001b[0m \u001b[38;5;28;01mdef\u001b[39;00m \u001b[38;5;21mr2_score\u001b[39m(\n\u001b[1;32m    785\u001b[0m     y_true,\n\u001b[1;32m    786\u001b[0m     y_pred,\n\u001b[0;32m   (...)\u001b[0m\n\u001b[1;32m    790\u001b[0m     force_finite\u001b[38;5;241m=\u001b[39m\u001b[38;5;28;01mTrue\u001b[39;00m,\n\u001b[1;32m    791\u001b[0m ):\n\u001b[1;32m    792\u001b[0m     \u001b[38;5;124;03m\"\"\":math:`R^2` (coefficient of determination) regression score function.\u001b[39;00m\n\u001b[1;32m    793\u001b[0m \n\u001b[1;32m    794\u001b[0m \u001b[38;5;124;03m    Best possible score is 1.0 and it can be negative (because the\u001b[39;00m\n\u001b[0;32m   (...)\u001b[0m\n\u001b[1;32m    909\u001b[0m \u001b[38;5;124;03m    -inf\u001b[39;00m\n\u001b[1;32m    910\u001b[0m \u001b[38;5;124;03m    \"\"\"\u001b[39;00m\n\u001b[0;32m--> 911\u001b[0m     y_type, y_true, y_pred, multioutput \u001b[38;5;241m=\u001b[39m \u001b[43m_check_reg_targets\u001b[49m\u001b[43m(\u001b[49m\n\u001b[1;32m    912\u001b[0m \u001b[43m        \u001b[49m\u001b[43my_true\u001b[49m\u001b[43m,\u001b[49m\u001b[43m \u001b[49m\u001b[43my_pred\u001b[49m\u001b[43m,\u001b[49m\u001b[43m \u001b[49m\u001b[43mmultioutput\u001b[49m\n\u001b[1;32m    913\u001b[0m \u001b[43m    \u001b[49m\u001b[43m)\u001b[49m\n\u001b[1;32m    914\u001b[0m     check_consistent_length(y_true, y_pred, sample_weight)\n\u001b[1;32m    916\u001b[0m     \u001b[38;5;28;01mif\u001b[39;00m _num_samples(y_pred) \u001b[38;5;241m<\u001b[39m \u001b[38;5;241m2\u001b[39m:\n",
      "File \u001b[0;32m/home/conda/admin/d58298aaeac3602d770f7bf195718c1efd43ddfef25c463593052aa91daf2f24-20221102-173948-053497-10-wasif-dev/lib/python3.9/site-packages/sklearn/metrics/_regression.py:101\u001b[0m, in \u001b[0;36m_check_reg_targets\u001b[0;34m(y_true, y_pred, multioutput, dtype)\u001b[0m\n\u001b[1;32m     67\u001b[0m \u001b[38;5;124;03m\"\"\"Check that y_true and y_pred belong to the same regression task.\u001b[39;00m\n\u001b[1;32m     68\u001b[0m \n\u001b[1;32m     69\u001b[0m \u001b[38;5;124;03mParameters\u001b[39;00m\n\u001b[0;32m   (...)\u001b[0m\n\u001b[1;32m     98\u001b[0m \u001b[38;5;124;03m    correct keyword.\u001b[39;00m\n\u001b[1;32m     99\u001b[0m \u001b[38;5;124;03m\"\"\"\u001b[39;00m\n\u001b[1;32m    100\u001b[0m check_consistent_length(y_true, y_pred)\n\u001b[0;32m--> 101\u001b[0m y_true \u001b[38;5;241m=\u001b[39m \u001b[43mcheck_array\u001b[49m\u001b[43m(\u001b[49m\u001b[43my_true\u001b[49m\u001b[43m,\u001b[49m\u001b[43m \u001b[49m\u001b[43mensure_2d\u001b[49m\u001b[38;5;241;43m=\u001b[39;49m\u001b[38;5;28;43;01mFalse\u001b[39;49;00m\u001b[43m,\u001b[49m\u001b[43m \u001b[49m\u001b[43mdtype\u001b[49m\u001b[38;5;241;43m=\u001b[39;49m\u001b[43mdtype\u001b[49m\u001b[43m)\u001b[49m\n\u001b[1;32m    102\u001b[0m y_pred \u001b[38;5;241m=\u001b[39m check_array(y_pred, ensure_2d\u001b[38;5;241m=\u001b[39m\u001b[38;5;28;01mFalse\u001b[39;00m, dtype\u001b[38;5;241m=\u001b[39mdtype)\n\u001b[1;32m    104\u001b[0m \u001b[38;5;28;01mif\u001b[39;00m y_true\u001b[38;5;241m.\u001b[39mndim \u001b[38;5;241m==\u001b[39m \u001b[38;5;241m1\u001b[39m:\n",
      "File \u001b[0;32m/home/conda/admin/d58298aaeac3602d770f7bf195718c1efd43ddfef25c463593052aa91daf2f24-20221102-173948-053497-10-wasif-dev/lib/python3.9/site-packages/sklearn/utils/validation.py:907\u001b[0m, in \u001b[0;36mcheck_array\u001b[0;34m(array, accept_sparse, accept_large_sparse, dtype, order, copy, force_all_finite, ensure_2d, allow_nd, ensure_min_samples, ensure_min_features, estimator, input_name)\u001b[0m\n\u001b[1;32m    899\u001b[0m         _assert_all_finite(\n\u001b[1;32m    900\u001b[0m             array,\n\u001b[1;32m    901\u001b[0m             input_name\u001b[38;5;241m=\u001b[39minput_name,\n\u001b[1;32m    902\u001b[0m             estimator_name\u001b[38;5;241m=\u001b[39mestimator_name,\n\u001b[1;32m    903\u001b[0m             allow_nan\u001b[38;5;241m=\u001b[39mforce_all_finite \u001b[38;5;241m==\u001b[39m \u001b[38;5;124m\"\u001b[39m\u001b[38;5;124mallow-nan\u001b[39m\u001b[38;5;124m\"\u001b[39m,\n\u001b[1;32m    904\u001b[0m         )\n\u001b[1;32m    906\u001b[0m \u001b[38;5;28;01mif\u001b[39;00m ensure_min_samples \u001b[38;5;241m>\u001b[39m \u001b[38;5;241m0\u001b[39m:\n\u001b[0;32m--> 907\u001b[0m     n_samples \u001b[38;5;241m=\u001b[39m \u001b[43m_num_samples\u001b[49m\u001b[43m(\u001b[49m\u001b[43marray\u001b[49m\u001b[43m)\u001b[49m\n\u001b[1;32m    908\u001b[0m     \u001b[38;5;28;01mif\u001b[39;00m n_samples \u001b[38;5;241m<\u001b[39m ensure_min_samples:\n\u001b[1;32m    909\u001b[0m         \u001b[38;5;28;01mraise\u001b[39;00m \u001b[38;5;167;01mValueError\u001b[39;00m(\n\u001b[1;32m    910\u001b[0m             \u001b[38;5;124m\"\u001b[39m\u001b[38;5;124mFound array with \u001b[39m\u001b[38;5;132;01m%d\u001b[39;00m\u001b[38;5;124m sample(s) (shape=\u001b[39m\u001b[38;5;132;01m%s\u001b[39;00m\u001b[38;5;124m) while a\u001b[39m\u001b[38;5;124m\"\u001b[39m\n\u001b[1;32m    911\u001b[0m             \u001b[38;5;124m\"\u001b[39m\u001b[38;5;124m minimum of \u001b[39m\u001b[38;5;132;01m%d\u001b[39;00m\u001b[38;5;124m is required\u001b[39m\u001b[38;5;132;01m%s\u001b[39;00m\u001b[38;5;124m.\u001b[39m\u001b[38;5;124m\"\u001b[39m\n\u001b[1;32m    912\u001b[0m             \u001b[38;5;241m%\u001b[39m (n_samples, array\u001b[38;5;241m.\u001b[39mshape, ensure_min_samples, context)\n\u001b[1;32m    913\u001b[0m         )\n",
      "File \u001b[0;32m/home/conda/admin/d58298aaeac3602d770f7bf195718c1efd43ddfef25c463593052aa91daf2f24-20221102-173948-053497-10-wasif-dev/lib/python3.9/site-packages/sklearn/utils/validation.py:325\u001b[0m, in \u001b[0;36m_num_samples\u001b[0;34m(x)\u001b[0m\n\u001b[1;32m    323\u001b[0m \u001b[38;5;28;01mif\u001b[39;00m \u001b[38;5;28mhasattr\u001b[39m(x, \u001b[38;5;124m\"\u001b[39m\u001b[38;5;124mshape\u001b[39m\u001b[38;5;124m\"\u001b[39m) \u001b[38;5;129;01mand\u001b[39;00m x\u001b[38;5;241m.\u001b[39mshape \u001b[38;5;129;01mis\u001b[39;00m \u001b[38;5;129;01mnot\u001b[39;00m \u001b[38;5;28;01mNone\u001b[39;00m:\n\u001b[1;32m    324\u001b[0m     \u001b[38;5;28;01mif\u001b[39;00m \u001b[38;5;28mlen\u001b[39m(x\u001b[38;5;241m.\u001b[39mshape) \u001b[38;5;241m==\u001b[39m \u001b[38;5;241m0\u001b[39m:\n\u001b[0;32m--> 325\u001b[0m         \u001b[38;5;28;01mraise\u001b[39;00m \u001b[38;5;167;01mTypeError\u001b[39;00m(\n\u001b[1;32m    326\u001b[0m             \u001b[38;5;124m\"\u001b[39m\u001b[38;5;124mSingleton array \u001b[39m\u001b[38;5;132;01m%r\u001b[39;00m\u001b[38;5;124m cannot be considered a valid collection.\u001b[39m\u001b[38;5;124m\"\u001b[39m \u001b[38;5;241m%\u001b[39m x\n\u001b[1;32m    327\u001b[0m         )\n\u001b[1;32m    328\u001b[0m     \u001b[38;5;66;03m# Check that shape is returning an integer or default to len\u001b[39;00m\n\u001b[1;32m    329\u001b[0m     \u001b[38;5;66;03m# Dask dataframes may not return numeric shape[0] value\u001b[39;00m\n\u001b[1;32m    330\u001b[0m     \u001b[38;5;28;01mif\u001b[39;00m \u001b[38;5;28misinstance\u001b[39m(x\u001b[38;5;241m.\u001b[39mshape[\u001b[38;5;241m0\u001b[39m], numbers\u001b[38;5;241m.\u001b[39mIntegral):\n",
      "\u001b[0;31mTypeError\u001b[0m: Singleton array array(None, dtype=object) cannot be considered a valid collection."
     ]
    }
   ],
   "source": [
    "pred = slug_ann.predict(X_scalar)\n",
    "r2_score(pred, y)"
   ]
  },
  {
   "cell_type": "code",
   "execution_count": null,
   "metadata": {},
   "outputs": [],
   "source": [
    "# brisk_xgb.empty_media()\n",
    "common.save_state(slug_ann, slug_ann.model_file_name + '.pickle')"
   ]
  },
  {
   "cell_type": "code",
   "execution_count": null,
   "metadata": {},
   "outputs": [],
   "source": [
    "slug_ann_reinstate = common.load_state('slug_ann.pickle')"
   ]
  },
  {
   "cell_type": "code",
   "execution_count": null,
   "metadata": {},
   "outputs": [],
   "source": [
    "slug_ann_reinstate.load_score()"
   ]
  },
  {
   "cell_type": "code",
   "execution_count": null,
   "metadata": {},
   "outputs": [],
   "source": [
    "pred = slug_ann_reinstate.predict(X)\n",
    "r2_score(pred, y)"
   ]
  },
  {
   "cell_type": "code",
   "execution_count": null,
   "metadata": {},
   "outputs": [],
   "source": []
  }
 ],
 "metadata": {
  "kernelspec": {
   "display_name": "admin-admin-wasif-dev",
   "language": "python",
   "name": "conda-env-admin-admin-wasif-dev-py"
  },
  "language_info": {
   "codemirror_mode": {
    "name": "ipython",
    "version": 3
   },
   "file_extension": ".py",
   "mimetype": "text/x-python",
   "name": "python",
   "nbconvert_exporter": "python",
   "pygments_lexer": "ipython3",
   "version": "3.9.13"
  },
  "vscode": {
   "interpreter": {
    "hash": "b6ff7914d2bc405bfa61a835d0564ba294eb5f3f9b4c24865f45d9397593b123"
   }
  }
 },
 "nbformat": 4,
 "nbformat_minor": 4
}
