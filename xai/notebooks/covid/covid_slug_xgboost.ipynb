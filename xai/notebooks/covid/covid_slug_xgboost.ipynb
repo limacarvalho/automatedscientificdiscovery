{
 "cells": [
  {
   "cell_type": "code",
   "execution_count": 1,
   "metadata": {},
   "outputs": [],
   "source": [
    "%load_ext autoreload\n",
    "%autoreload 2"
   ]
  },
  {
   "cell_type": "code",
   "execution_count": 2,
   "metadata": {},
   "outputs": [],
   "source": [
    "import sys; sys.path.insert(0, '../..') # add parent folder path where lib folder is"
   ]
  },
  {
   "cell_type": "code",
   "execution_count": 3,
   "metadata": {},
   "outputs": [
    {
     "name": "stdout",
     "output_type": "stream",
     "text": [
      "The autoreload extension is already loaded. To reload it, use:\n",
      "  %reload_ext autoreload\n"
     ]
    }
   ],
   "source": [
    "%load_ext autoreload\n",
    "%autoreload 2\n",
    "\n",
    "import pandas as pd\n",
    "from sklearn.model_selection import train_test_split\n",
    "\n",
    "from sklearn.metrics import r2_score, mean_squared_error\n",
    "from sklearn.metrics import f1_score, roc_auc_score, precision_score, recall_score\n",
    "from sklearn.preprocessing import StandardScaler\n",
    "\n",
    "from utils import helper, config, rayer, kaggle_dataset_helper\n",
    "from ml.models.base.brisk_xgboost import BriskXGBoost\n",
    "from ml.models.base.slug_xgboost import SlugXGBoost\n",
    "from ml.models.base.slug_ann import SlugANN\n",
    "from ml.models.base.slug_rf import SlugRF\n",
    "from ml.models.base.slug_knn import SlugKNN\n",
    "from ml.models.base.brisk_bagging import BriskBagging\n",
    "\n",
    "\n",
    "from ml.models import common\n"
   ]
  },
  {
   "cell_type": "code",
   "execution_count": 4,
   "metadata": {},
   "outputs": [],
   "source": [
    "rayer.get_global_cluster(num_cpus=4)"
   ]
  },
  {
   "cell_type": "code",
   "execution_count": 5,
   "metadata": {},
   "outputs": [
    {
     "name": "stdout",
     "output_type": "stream",
     "text": [
      "======== Autoscaler status: 2022-11-17 09:13:07.094383 ========\n",
      "Node status\n",
      "---------------------------------------------------------------\n",
      "Healthy:\n",
      " 1 head-group\n",
      " 2 small-group\n",
      "Pending:\n",
      " (no pending nodes)\n",
      "Recent failures:\n",
      " (no failures)\n",
      "\n",
      "Resources\n",
      "---------------------------------------------------------------\n",
      "Usage:\n",
      " 0.0/5.0 CPU\n",
      " 0.00/16.764 GiB memory\n",
      " 0.00/4.898 GiB object_store_memory\n",
      "\n",
      "Demands:\n",
      " {'CPU': 1}: 4+ from request_resources()\n",
      "\u001b[0m"
     ]
    }
   ],
   "source": [
    "!ray status --address='raycluster-autoscaler-head-svc.dev.svc.cluster.local:6379'"
   ]
  },
  {
   "cell_type": "code",
   "execution_count": 6,
   "metadata": {},
   "outputs": [],
   "source": [
    "df_X, df_y = helper.get_covid_dataset()\n",
    "df_X = df_X.drop(['location'], axis = 1)\n",
    "X_train, X_test, y_train, y_test = train_test_split(df_X, df_y, test_size=0.33)\n",
    "\n",
    "ss = StandardScaler()\n",
    "X_train_scalar = pd.DataFrame(ss.fit_transform(X_train), columns=df_X.columns)\n",
    "X_test_scalar = pd.DataFrame(ss.fit_transform(X_test), columns=df_X.columns)\n"
   ]
  },
  {
   "cell_type": "code",
   "execution_count": null,
   "metadata": {},
   "outputs": [],
   "source": []
  },
  {
   "cell_type": "code",
   "execution_count": 15,
   "metadata": {},
   "outputs": [],
   "source": [
    "slug_xgb = SlugXGBoost('slug_xgb', X_train_scalar, X_test_scalar, y_train, y_test, timeout=None)\n",
    "slug_xgb.boosted_round = 300\n",
    "slug_xgb.n_trials = 2000"
   ]
  },
  {
   "cell_type": "code",
   "execution_count": 16,
   "metadata": {},
   "outputs": [
    {
     "name": "stderr",
     "output_type": "stream",
     "text": [
      "2022-11-17T09:16:30CST : INFO : slug_xgboost : __discover_model__ : 154 : Message : slug_xgb: Starting training for trials:2000, boosted rounds: 300, max depth: 10\n",
      "2022-11-17T09:20:07CST : INFO : slug_xgboost : __discover_model__ : 167 : Message : slug_xgb: Number of trials: 2000\n",
      "2022-11-17T09:20:07CST : INFO : slug_xgboost : __discover_model__ : 169 : Message : Best trial:1260\n",
      "2022-11-17T09:20:07CST : INFO : slug_xgboost : __discover_model__ : 171 : Message :   Params: \n",
      "2022-11-17T09:20:07CST : INFO : slug_xgboost : __discover_model__ : 173 : Message :     lambda 0.006674042364591673\n",
      "2022-11-17T09:20:07CST : INFO : slug_xgboost : __discover_model__ : 173 : Message :     alpha 0.1626350027497489\n",
      "2022-11-17T09:20:07CST : INFO : slug_xgboost : __discover_model__ : 173 : Message :     eta 0.0010000087520772598\n",
      "2022-11-17T09:20:07CST : INFO : slug_xgboost : __discover_model__ : 173 : Message :     gamma 9.971804888053711\n",
      "2022-11-17T09:20:07CST : INFO : slug_xgboost : __discover_model__ : 173 : Message :     grow_policy lossguide\n",
      "2022-11-17T09:20:07CST : INFO : slug_xgboost : __discover_model__ : 173 : Message :     max_depth 1\n",
      "2022-11-17T09:20:07CST : INFO : slug_xgboost : __discover_model__ : 173 : Message :     colsample_bytree 0.33210442456090966\n",
      "2022-11-17T09:20:07CST : INFO : slug_xgboost : __discover_model__ : 173 : Message :     colsample_bylevel 0.01617175190063658\n",
      "2022-11-17T09:20:07CST : INFO : slug_xgboost : __discover_model__ : 173 : Message :     colsample_bynode 0.02984188187101457\n",
      "2022-11-17T09:20:07CST : INFO : slug_xgboost : __discover_model__ : 173 : Message :     max_bin 2048\n",
      "2022-11-17T09:20:07CST : INFO : slug_xgboost : __discover_model__ : 191 : Message :   test r2 score: -0.7707471189746125\n",
      "2022-11-17T09:20:07CST : INFO : slug_xgboost : __discover_model__ : 196 : Message : slug_xgb: Model saved at /tmp/covid_autolearn/slug_xgb/saved/slug_xgb_1260.pickle\n",
      "2022-11-17T09:20:08CST : INFO : slug_xgboost : load_score : 250 : Message : slug_xgb: scores loaded: [-0.7539621718968121, -0.7707471189746125]\n"
     ]
    },
    {
     "data": {
      "text/plain": [
       "<xgboost.core.Booster at 0x7f638bb10160>"
      ]
     },
     "execution_count": 16,
     "metadata": {},
     "output_type": "execute_result"
    }
   ],
   "source": [
    "slug_xgb.fetch_model()"
   ]
  },
  {
   "cell_type": "code",
   "execution_count": 17,
   "metadata": {},
   "outputs": [
    {
     "data": {
      "text/plain": [
       "[-0.7539621718968121, -0.7707471189746125]"
      ]
     },
     "execution_count": 17,
     "metadata": {},
     "output_type": "execute_result"
    }
   ],
   "source": [
    "slug_xgb.score"
   ]
  },
  {
   "cell_type": "code",
   "execution_count": 30,
   "metadata": {},
   "outputs": [
    {
     "data": {
      "text/plain": [
       "-209433243529.78366"
      ]
     },
     "execution_count": 30,
     "metadata": {},
     "output_type": "execute_result"
    }
   ],
   "source": [
    "pred = slug_xgb.predict(X)\n",
    "r2_score(pred, y)\n"
   ]
  },
  {
   "cell_type": "code",
   "execution_count": 25,
   "metadata": {},
   "outputs": [],
   "source": [
    "slug_xgb.load_score(threshold=0.1)\n",
    "slug_xgb.score"
   ]
  },
  {
   "cell_type": "code",
   "execution_count": null,
   "metadata": {},
   "outputs": [],
   "source": []
  }
 ],
 "metadata": {
  "kernelspec": {
   "display_name": "admin-admin-wasif-dev-ray",
   "language": "python",
   "name": "conda-env-admin-admin-wasif-dev-ray-py"
  },
  "language_info": {
   "codemirror_mode": {
    "name": "ipython",
    "version": 3
   },
   "file_extension": ".py",
   "mimetype": "text/x-python",
   "name": "python",
   "nbconvert_exporter": "python",
   "pygments_lexer": "ipython3",
   "version": "3.9.13"
  },
  "vscode": {
   "interpreter": {
    "hash": "b6ff7914d2bc405bfa61a835d0564ba294eb5f3f9b4c24865f45d9397593b123"
   }
  }
 },
 "nbformat": 4,
 "nbformat_minor": 4
}
