{
 "cells": [
  {
   "cell_type": "code",
   "execution_count": 1,
   "id": "9c5ed8bd-df98-49a1-a83a-be051260a107",
   "metadata": {},
   "outputs": [],
   "source": [
    "import sys \n",
    "# setting path\n",
    "sys.path.append('../')"
   ]
  },
  {
   "cell_type": "code",
   "execution_count": 2,
   "id": "fbf15592-6652-44f4-8dc2-f1d72acc4c37",
   "metadata": {},
   "outputs": [],
   "source": [
    "%load_ext autoreload\n",
    "%autoreload 2"
   ]
  },
  {
   "cell_type": "code",
   "execution_count": 3,
   "id": "3ddd6a8f-0ab6-43d4-8c23-4140b4d149ad",
   "metadata": {},
   "outputs": [],
   "source": [
    "import requests\n",
    "import logging\n",
    "import knockpy\n",
    "from knockpy.knockoff_filter import KnockoffFilter\n",
    "import pandas as pd\n",
    "import numpy as np\n",
    "import json"
   ]
  },
  {
   "cell_type": "code",
   "execution_count": 4,
   "id": "4a07091f-1117-45f3-99ed-d881518fc796",
   "metadata": {},
   "outputs": [],
   "source": [
    "from sklearn.preprocessing import StandardScaler, OneHotEncoder, LabelEncoder"
   ]
  },
  {
   "cell_type": "code",
   "execution_count": 37,
   "id": "d1eed991-1813-4c28-b1d8-b924e2005041",
   "metadata": {},
   "outputs": [
    {
     "data": {
      "text/html": [
       "<div>\n",
       "<style scoped>\n",
       "    .dataframe tbody tr th:only-of-type {\n",
       "        vertical-align: middle;\n",
       "    }\n",
       "\n",
       "    .dataframe tbody tr th {\n",
       "        vertical-align: top;\n",
       "    }\n",
       "\n",
       "    .dataframe thead th {\n",
       "        text-align: right;\n",
       "    }\n",
       "</style>\n",
       "<table border=\"1\" class=\"dataframe\">\n",
       "  <thead>\n",
       "    <tr style=\"text-align: right;\">\n",
       "      <th></th>\n",
       "      <th>location</th>\n",
       "      <th>new_cases_per_million</th>\n",
       "      <th>y</th>\n",
       "      <th>population_cov</th>\n",
       "      <th>life_expectancy_cov</th>\n",
       "      <th>Population</th>\n",
       "      <th>Area_km2</th>\n",
       "      <th>Density_km2</th>\n",
       "      <th>Year_x</th>\n",
       "      <th>Meningitis</th>\n",
       "      <th>...</th>\n",
       "      <th>Cardiovascular diseases</th>\n",
       "      <th>Chronic kidney disease</th>\n",
       "      <th>Chronic respiratory diseases</th>\n",
       "      <th>Cirrhosis and other chronic liver diseases</th>\n",
       "      <th>Digestive diseases</th>\n",
       "      <th>Acute hepatitis</th>\n",
       "      <th>Alzheimer's disease and other dementias</th>\n",
       "      <th>Parkinson's disease</th>\n",
       "      <th>Total</th>\n",
       "      <th>air_polution</th>\n",
       "    </tr>\n",
       "  </thead>\n",
       "  <tbody>\n",
       "    <tr>\n",
       "      <th>0</th>\n",
       "      <td>0</td>\n",
       "      <td>4171.944</td>\n",
       "      <td>186.538</td>\n",
       "      <td>39835428.0</td>\n",
       "      <td>64.83</td>\n",
       "      <td>37171921.0</td>\n",
       "      <td>252071.0</td>\n",
       "      <td>57.0</td>\n",
       "      <td>2019.0</td>\n",
       "      <td>0.004205</td>\n",
       "      <td>...</td>\n",
       "      <td>0.166779</td>\n",
       "      <td>0.015165</td>\n",
       "      <td>0.019052</td>\n",
       "      <td>0.010215</td>\n",
       "      <td>0.018640</td>\n",
       "      <td>0.005219</td>\n",
       "      <td>0.004775</td>\n",
       "      <td>0.001507</td>\n",
       "      <td>0.585498</td>\n",
       "      <td>52.99812</td>\n",
       "    </tr>\n",
       "    <tr>\n",
       "      <th>1</th>\n",
       "      <td>1</td>\n",
       "      <td>92109.327</td>\n",
       "      <td>1176.434</td>\n",
       "      <td>2872934.0</td>\n",
       "      <td>78.57</td>\n",
       "      <td>2882740.0</td>\n",
       "      <td>11100.0</td>\n",
       "      <td>100.0</td>\n",
       "      <td>2019.0</td>\n",
       "      <td>0.000451</td>\n",
       "      <td>...</td>\n",
       "      <td>0.447630</td>\n",
       "      <td>0.011413</td>\n",
       "      <td>0.028272</td>\n",
       "      <td>0.011552</td>\n",
       "      <td>0.018281</td>\n",
       "      <td>0.000035</td>\n",
       "      <td>0.031810</td>\n",
       "      <td>0.008603</td>\n",
       "      <td>0.771315</td>\n",
       "      <td>18.45981</td>\n",
       "    </tr>\n",
       "    <tr>\n",
       "      <th>2</th>\n",
       "      <td>2</td>\n",
       "      <td>5782.052</td>\n",
       "      <td>148.940</td>\n",
       "      <td>44616626.0</td>\n",
       "      <td>76.88</td>\n",
       "      <td>42228408.0</td>\n",
       "      <td>919590.0</td>\n",
       "      <td>18.0</td>\n",
       "      <td>2019.0</td>\n",
       "      <td>0.000691</td>\n",
       "      <td>...</td>\n",
       "      <td>0.231908</td>\n",
       "      <td>0.019421</td>\n",
       "      <td>0.017827</td>\n",
       "      <td>0.009579</td>\n",
       "      <td>0.015151</td>\n",
       "      <td>0.000613</td>\n",
       "      <td>0.012335</td>\n",
       "      <td>0.003038</td>\n",
       "      <td>0.455347</td>\n",
       "      <td>32.91557</td>\n",
       "    </tr>\n",
       "    <tr>\n",
       "      <th>3</th>\n",
       "      <td>3</td>\n",
       "      <td>473136.492</td>\n",
       "      <td>1900.384</td>\n",
       "      <td>77354.0</td>\n",
       "      <td>83.73</td>\n",
       "      <td>77006.0</td>\n",
       "      <td>181.0</td>\n",
       "      <td>165.0</td>\n",
       "      <td>2019.0</td>\n",
       "      <td>0.000000</td>\n",
       "      <td>...</td>\n",
       "      <td>0.219463</td>\n",
       "      <td>0.020778</td>\n",
       "      <td>0.050645</td>\n",
       "      <td>0.015583</td>\n",
       "      <td>0.035062</td>\n",
       "      <td>0.001299</td>\n",
       "      <td>0.046750</td>\n",
       "      <td>0.009090</td>\n",
       "      <td>0.762278</td>\n",
       "      <td>9.51265</td>\n",
       "    </tr>\n",
       "    <tr>\n",
       "      <th>4</th>\n",
       "      <td>4</td>\n",
       "      <td>2898.709</td>\n",
       "      <td>55.799</td>\n",
       "      <td>33933611.0</td>\n",
       "      <td>61.15</td>\n",
       "      <td>30809787.0</td>\n",
       "      <td>481351.0</td>\n",
       "      <td>25.0</td>\n",
       "      <td>2019.0</td>\n",
       "      <td>0.008179</td>\n",
       "      <td>...</td>\n",
       "      <td>0.083493</td>\n",
       "      <td>0.007997</td>\n",
       "      <td>0.012769</td>\n",
       "      <td>0.018390</td>\n",
       "      <td>0.029117</td>\n",
       "      <td>0.000798</td>\n",
       "      <td>0.003710</td>\n",
       "      <td>0.000867</td>\n",
       "      <td>0.562613</td>\n",
       "      <td>28.02152</td>\n",
       "    </tr>\n",
       "  </tbody>\n",
       "</table>\n",
       "<p>5 rows × 42 columns</p>\n",
       "</div>"
      ],
      "text/plain": [
       "   location  new_cases_per_million         y  population_cov  \\\n",
       "0         0               4171.944   186.538      39835428.0   \n",
       "1         1              92109.327  1176.434       2872934.0   \n",
       "2         2               5782.052   148.940      44616626.0   \n",
       "3         3             473136.492  1900.384         77354.0   \n",
       "4         4               2898.709    55.799      33933611.0   \n",
       "\n",
       "   life_expectancy_cov  Population  Area_km2  Density_km2  Year_x  Meningitis  \\\n",
       "0                64.83  37171921.0  252071.0         57.0  2019.0    0.004205   \n",
       "1                78.57   2882740.0   11100.0        100.0  2019.0    0.000451   \n",
       "2                76.88  42228408.0  919590.0         18.0  2019.0    0.000691   \n",
       "3                83.73     77006.0     181.0        165.0  2019.0    0.000000   \n",
       "4                61.15  30809787.0  481351.0         25.0  2019.0    0.008179   \n",
       "\n",
       "   ...  Cardiovascular diseases  Chronic kidney disease  \\\n",
       "0  ...                 0.166779                0.015165   \n",
       "1  ...                 0.447630                0.011413   \n",
       "2  ...                 0.231908                0.019421   \n",
       "3  ...                 0.219463                0.020778   \n",
       "4  ...                 0.083493                0.007997   \n",
       "\n",
       "   Chronic respiratory diseases  Cirrhosis and other chronic liver diseases  \\\n",
       "0                      0.019052                                    0.010215   \n",
       "1                      0.028272                                    0.011552   \n",
       "2                      0.017827                                    0.009579   \n",
       "3                      0.050645                                    0.015583   \n",
       "4                      0.012769                                    0.018390   \n",
       "\n",
       "   Digestive diseases  Acute hepatitis  \\\n",
       "0            0.018640         0.005219   \n",
       "1            0.018281         0.000035   \n",
       "2            0.015151         0.000613   \n",
       "3            0.035062         0.001299   \n",
       "4            0.029117         0.000798   \n",
       "\n",
       "   Alzheimer's disease and other dementias  Parkinson's disease     Total  \\\n",
       "0                                 0.004775             0.001507  0.585498   \n",
       "1                                 0.031810             0.008603  0.771315   \n",
       "2                                 0.012335             0.003038  0.455347   \n",
       "3                                 0.046750             0.009090  0.762278   \n",
       "4                                 0.003710             0.000867  0.562613   \n",
       "\n",
       "   air_polution  \n",
       "0      52.99812  \n",
       "1      18.45981  \n",
       "2      32.91557  \n",
       "3       9.51265  \n",
       "4      28.02152  \n",
       "\n",
       "[5 rows x 42 columns]"
      ]
     },
     "execution_count": 37,
     "metadata": {},
     "output_type": "execute_result"
    }
   ],
   "source": [
    "df = pd.read_csv('./data/20220319_covid_merge_processed.csv', sep=\",\")\n",
    "df.head()"
   ]
  },
  {
   "cell_type": "code",
   "execution_count": 43,
   "id": "b4157734-8e13-4385-ad75-0920e045b1f7",
   "metadata": {},
   "outputs": [],
   "source": [
    "columns = df.columns.str.lower()"
   ]
  },
  {
   "cell_type": "code",
   "execution_count": 42,
   "id": "f12366fb-0dc4-44a0-8359-136636c61f57",
   "metadata": {},
   "outputs": [
    {
     "name": "stdout",
     "output_type": "stream",
     "text": [
      "y\n"
     ]
    }
   ],
   "source": [
    "if 'y' in df.columns:\n",
    "    print('y')"
   ]
  },
  {
   "cell_type": "code",
   "execution_count": 44,
   "id": "4884389d-2c89-4e7e-bc5a-b452a716add2",
   "metadata": {},
   "outputs": [],
   "source": [
    "if 'y' not in columns:\n",
    "    print('problem')"
   ]
  },
  {
   "cell_type": "code",
   "execution_count": 108,
   "id": "d6f3b880-dd83-4d64-96f8-bb18fe5e66ae",
   "metadata": {},
   "outputs": [],
   "source": [
    "def test_knockoff(param):\n",
    "    #df = pd.read_csv('./data/sample.csv')\n",
    "\n",
    "    url = 'http://127.0.0.1:8000/api/v1/knockoff/filter'\n",
    "    fp = './data/20220319_covid_merge_processed.csv'\n",
    "\n",
    "    files = {'file': open(fp,'rb')} # for sending a single file\n",
    "    \n",
    "    # param = {'sep':',', 'fdr': 0.2, 'itr': 100}\n",
    "    # token ={\"name\": \"foo\", \"point\": 0.13, \"is_accepted\": False}\n",
    "    resp = requests.post(url=url, data=param, files=files)\n",
    "\n",
    "    return resp\n",
    " \n"
   ]
  },
  {
   "cell_type": "code",
   "execution_count": null,
   "id": "fd847a49-3282-4f78-90a7-040eee860fd5",
   "metadata": {},
   "outputs": [],
   "source": []
  },
  {
   "cell_type": "code",
   "execution_count": 112,
   "id": "b3dc1182-df87-4e75-9ccc-56bdf89bda0b",
   "metadata": {},
   "outputs": [
    {
     "name": "stdout",
     "output_type": "stream",
     "text": [
      "CPU times: user 5.42 s, sys: 1.37 s, total: 6.79 s\n",
      "Wall time: 18h 10min 48s\n"
     ]
    }
   ],
   "source": [
    "%%time\n",
    "runs = 50\n",
    "fdrs = [0.1, 0.2, 0.3, 0.4]\n",
    "itrs = [10, 20, 50, 100, 200, 500, 1000]\n",
    "\n",
    "for run in range(1, runs):\n",
    "    for fdr in fdrs:\n",
    "        for itr in itrs:\n",
    "            param = {'sep':',', 'fdr': fdr, 'itr': itr}\n",
    "            json_resp = test_knockoff()            \n",
    "            with open(\"20220319_covid_merge_processed_results\" + str(fdr) + \"_\" + str(itr) + \"_\" + str(run) +\".json\", \"w\") as outfile:\n",
    "                json.dump(json_resp.json(), outfile)"
   ]
  },
  {
   "cell_type": "code",
   "execution_count": 110,
   "id": "6cb0b929-4d33-4c2d-8c83-a0cfe1174360",
   "metadata": {},
   "outputs": [
    {
     "data": {
      "text/plain": [
       "<Response [200]>"
      ]
     },
     "execution_count": 110,
     "metadata": {},
     "output_type": "execute_result"
    }
   ],
   "source": [
    "json_resp"
   ]
  },
  {
   "cell_type": "markdown",
   "id": "5a2a2f82-9546-4e92-b785-b07c11eedecf",
   "metadata": {},
   "source": [
    "### Post analysis"
   ]
  },
  {
   "cell_type": "code",
   "execution_count": 99,
   "id": "e53883e8-71a7-449e-a6bb-34d0f3bd629b",
   "metadata": {},
   "outputs": [],
   "source": [
    "main_path = './results/fdr_10'\n",
    "\n",
    "with open(\"20220319_covid_merge_processed_results_1000_3.json\", \"w\") as outfile:\n",
    "    json.dump(json_resp.json(), outfile)"
   ]
  },
  {
   "cell_type": "code",
   "execution_count": 22,
   "id": "ef57d327-31db-4979-95cd-4289a98bf6c4",
   "metadata": {},
   "outputs": [
    {
     "name": "stdout",
     "output_type": "stream",
     "text": [
      "<class 'str'>\n"
     ]
    }
   ],
   "source": [
    "with open('sample.json', 'r') as openfile:\n",
    " \n",
    "    # Reading from json file\n",
    "    json_object = json.load(openfile)\n",
    "\n",
    "\n",
    "print(type(json_object))"
   ]
  },
  {
   "cell_type": "code",
   "execution_count": null,
   "id": "3c0fb2d7-9164-4f5d-bde1-5cb7255e14a8",
   "metadata": {},
   "outputs": [],
   "source": []
  }
 ],
 "metadata": {
  "kernelspec": {
   "display_name": "Python 3.8.10 64-bit",
   "language": "python",
   "name": "python3"
  },
  "language_info": {
   "codemirror_mode": {
    "name": "ipython",
    "version": 3
   },
   "file_extension": ".py",
   "mimetype": "text/x-python",
   "name": "python",
   "nbconvert_exporter": "python",
   "pygments_lexer": "ipython3",
   "version": "3.8.10"
  },
  "vscode": {
   "interpreter": {
    "hash": "916dbcbb3f70747c44a77c7bcd40155683ae19c65e1c03b4aa3499c5328201f1"
   }
  }
 },
 "nbformat": 4,
 "nbformat_minor": 5
}
