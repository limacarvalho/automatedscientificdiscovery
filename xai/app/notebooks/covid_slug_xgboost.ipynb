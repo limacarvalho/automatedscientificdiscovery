{
 "cells": [
  {
   "cell_type": "code",
   "execution_count": 1,
   "metadata": {},
   "outputs": [],
   "source": [
    "%load_ext autoreload\n",
    "%autoreload 2"
   ]
  },
  {
   "cell_type": "code",
   "execution_count": 2,
   "metadata": {},
   "outputs": [],
   "source": [
    "import sys; sys.path.insert(0, '..') # add parent folder path where lib folder is"
   ]
  },
  {
   "cell_type": "code",
   "execution_count": 3,
   "metadata": {},
   "outputs": [
    {
     "name": "stdout",
     "output_type": "stream",
     "text": [
      "2022-10-25 21:05:47,492 - matplotlib - DEBUG - matplotlib data path: /home/conda/admin/bbdd351c9b3b9001dbe220c1017d2f702ced1326dc5e0ff2e7eba5d9e5608b4c-20221018-141912-858781-79-wasif-dev/lib/python3.9/site-packages/matplotlib/mpl-data\n",
      "2022-10-25 21:05:47,497 - matplotlib - DEBUG - CONFIGDIR=/home/wasif/.config/matplotlib\n",
      "2022-10-25 21:05:47,502 - matplotlib - DEBUG - interactive is False\n",
      "2022-10-25 21:05:47,507 - matplotlib - DEBUG - platform is linux\n",
      "2022-10-25 21:05:47,559 - matplotlib - DEBUG - CACHEDIR=/home/wasif/.cache/matplotlib\n",
      "2022-10-25 21:05:47,572 - matplotlib.font_manager - DEBUG - Using fontManager instance from /home/wasif/.cache/matplotlib/fontlist-v330.json\n"
     ]
    }
   ],
   "source": [
    "from ml.models.base.slug_xgboost import SlugXGBoost\n",
    "from utils import helper, config, dasker\n",
    "from dask_ml.model_selection import train_test_split\n",
    "\n",
    "from sklearn.metrics import r2_score, mean_squared_error\n",
    "from sklearn.metrics import f1_score, roc_auc_score, precision_score, recall_score\n"
   ]
  },
  {
   "cell_type": "code",
   "execution_count": 4,
   "metadata": {},
   "outputs": [
    {
     "name": "stdout",
     "output_type": "stream",
     "text": [
      "Cleared the existing saved models\n",
      "Directory structure for project /covid created successfully\n"
     ]
    }
   ],
   "source": [
    "config.create_project_dirs(overwrite=True)"
   ]
  },
  {
   "cell_type": "code",
   "execution_count": 5,
   "metadata": {},
   "outputs": [
    {
     "name": "stdout",
     "output_type": "stream",
     "text": [
      "2022-10-25 21:05:51,765 - asyncio - DEBUG - Using selector: EpollSelector\n"
     ]
    },
    {
     "name": "stderr",
     "output_type": "stream",
     "text": [
      "2022-10-25 21:05:52,809 - distributed.diskutils - INFO - Found stale lock file and directory '/tmp/dask-worker-space/worker-du99a5jw', purging\n",
      "2022-10-25 21:05:52,810 - distributed.diskutils - INFO - Found stale lock file and directory '/tmp/dask-worker-space/worker-gr6fq_su', purging\n",
      "2022-10-25 21:05:52,810 - distributed.diskutils - INFO - Found stale lock file and directory '/tmp/dask-worker-space/worker-ib0d06ua', purging\n",
      "2022-10-25 21:05:52,810 - distributed.diskutils - INFO - Found stale lock file and directory '/tmp/dask-worker-space/worker-qgzkuxt7', purging\n"
     ]
    },
    {
     "name": "stdout",
     "output_type": "stream",
     "text": [
      "<Client: 'tcp://127.0.0.1:8786' processes=4 threads=4, memory=15.37 GiB>\n"
     ]
    }
   ],
   "source": [
    "cl = dasker.get_local_client()\n",
    "# cl =  dasker.get_global_client()\n",
    "print(cl)"
   ]
  },
  {
   "cell_type": "code",
   "execution_count": 6,
   "metadata": {},
   "outputs": [],
   "source": [
    "X, y = helper.get_covid_dataset()\n",
    "X = X.drop(['location'], axis = 1)\n",
    "X_train, X_test, y_train, y_test = train_test_split(X, y, test_size=0.33, random_state=config.rand_state)"
   ]
  },
  {
   "cell_type": "code",
   "execution_count": 7,
   "metadata": {},
   "outputs": [],
   "source": [
    "slug_xgboost = SlugXGBoost()\n",
    "slug_xgboost.X_train = X_train\n",
    "slug_xgboost.X_test = X_test\n",
    "slug_xgboost.y_train = y_train\n",
    "slug_xgboost.y_test = y_test\n",
    "slug_xgboost.n_trails = 10    #### increase this number to imporve the goodness of fit"
   ]
  },
  {
   "cell_type": "code",
   "execution_count": 8,
   "metadata": {},
   "outputs": [
    {
     "name": "stdout",
     "output_type": "stream",
     "text": [
      "2022-10-25 21:05:59,558 - console_info - INFO - slug xgboost: Starting train for trials:300 with boosted rounds: 250\n",
      "2022-10-25 21:05:59,558 - console_info - INFO - slug xgboost: Starting train for trials:300 with boosted rounds: 250\n",
      "2022-10-25 21:05:59,566 - console_info - INFO - slug xgboost: Cleared previous models in the model save path\n",
      "2022-10-25 21:05:59,566 - console_info - INFO - slug xgboost: Cleared previous models in the model save path\n",
      "2022-10-25 21:08:14,375 - console_info - INFO - xgboost: Number of trials: 300\n",
      "2022-10-25 21:08:14,375 - console_info - INFO - xgboost: Number of trials: 300\n",
      "2022-10-25 21:08:14,378 - console_info - INFO - Best trial:\n",
      "2022-10-25 21:08:14,378 - console_info - INFO - Best trial:\n",
      "2022-10-25 21:08:14,421 - console_info - INFO -   xgboost Params: \n",
      "2022-10-25 21:08:14,421 - console_info - INFO -   xgboost Params: \n",
      "2022-10-25 21:08:14,426 - console_info - INFO -     lambda 7.979061053554569e-07\n",
      "2022-10-25 21:08:14,426 - console_info - INFO -     lambda 7.979061053554569e-07\n",
      "2022-10-25 21:08:14,431 - console_info - INFO -     alpha 0.0006609877706015965\n",
      "2022-10-25 21:08:14,431 - console_info - INFO -     alpha 0.0006609877706015965\n",
      "2022-10-25 21:08:14,436 - console_info - INFO -     eta 0.11857342438386045\n",
      "2022-10-25 21:08:14,436 - console_info - INFO -     eta 0.11857342438386045\n",
      "2022-10-25 21:08:14,440 - console_info - INFO -     gamma 8.992480774140161e-08\n",
      "2022-10-25 21:08:14,440 - console_info - INFO -     gamma 8.992480774140161e-08\n",
      "2022-10-25 21:08:14,445 - console_info - INFO -     grow_policy depthwise\n",
      "2022-10-25 21:08:14,445 - console_info - INFO -     grow_policy depthwise\n",
      "2022-10-25 21:08:14,450 - console_info - INFO -     max_depth 1\n",
      "2022-10-25 21:08:14,450 - console_info - INFO -     max_depth 1\n",
      "2022-10-25 21:08:14,458 - console_info - INFO -     colsample_bytree 1.4518388273703357e-06\n",
      "2022-10-25 21:08:14,458 - console_info - INFO -     colsample_bytree 1.4518388273703357e-06\n",
      "2022-10-25 21:08:14,462 - console_info - INFO -     colsample_bylevel 0.0001666368249103108\n",
      "2022-10-25 21:08:14,462 - console_info - INFO -     colsample_bylevel 0.0001666368249103108\n",
      "2022-10-25 21:08:14,467 - console_info - INFO -     colsample_bynode 0.0007274997918908578\n",
      "2022-10-25 21:08:14,467 - console_info - INFO -     colsample_bynode 0.0007274997918908578\n",
      "2022-10-25 21:08:14,471 - console_info - INFO -     max_bin 128\n",
      "2022-10-25 21:08:14,471 - console_info - INFO -     max_bin 128\n",
      "2022-10-25 21:08:14,519 - console_info - INFO - xgboost: Model saved at /home/wasif/python-asd/xai/app/ml/models/saved/covid/base/xgboost/slug/slug_xgboost_115.pickle\n",
      "2022-10-25 21:08:14,519 - console_info - INFO - xgboost: Model saved at /home/wasif/python-asd/xai/app/ml/models/saved/covid/base/xgboost/slug/slug_xgboost_115.pickle\n"
     ]
    }
   ],
   "source": [
    "best_xgboost = slug_xgboost.fetch_model(retrain=True)"
   ]
  },
  {
   "cell_type": "code",
   "execution_count": 10,
   "metadata": {},
   "outputs": [
    {
     "data": {
      "text/plain": [
       "[0.6239858889741694, -1.7631967593579323]"
      ]
     },
     "execution_count": 10,
     "metadata": {},
     "output_type": "execute_result"
    }
   ],
   "source": [
    "slug_xgboost.score"
   ]
  },
  {
   "cell_type": "code",
   "execution_count": 31,
   "metadata": {},
   "outputs": [
    {
     "name": "stdout",
     "output_type": "stream",
     "text": [
      "2022-10-25 18:57:03,016 - console_info - INFO - xgboost: no saved models found, please rerun the 'fetch_model' first.\n",
      "2022-10-25 18:57:03,016 - console_info - INFO - xgboost: no saved models found, please rerun the 'fetch_model' first.\n"
     ]
    }
   ],
   "source": [
    "slug_xgboost.get_model_score(score_func=r2_score)"
   ]
  },
  {
   "cell_type": "code",
   "execution_count": 21,
   "metadata": {},
   "outputs": [
    {
     "name": "stdout",
     "output_type": "stream",
     "text": [
      "2022-10-25 18:44:38,076 - console_info - INFO - xgboost: no saved models found, please rerun the 'fetch_model' first.\n",
      "2022-10-25 18:44:38,076 - console_info - INFO - xgboost: no saved models found, please rerun the 'fetch_model' first.\n"
     ]
    }
   ],
   "source": [
    "pred = slug_xgboost.predict(X_test)"
   ]
  },
  {
   "cell_type": "code",
   "execution_count": null,
   "metadata": {},
   "outputs": [],
   "source": [
    "r2_score(pred, y_test)\n",
    "#mean_squared_error(pred, y)"
   ]
  }
 ],
 "metadata": {
  "kernelspec": {
   "display_name": "admin-wasif-dev",
   "language": "python",
   "name": "conda-env-admin-wasif-dev-py"
  },
  "language_info": {
   "codemirror_mode": {
    "name": "ipython",
    "version": 3
   },
   "file_extension": ".py",
   "mimetype": "text/x-python",
   "name": "python",
   "nbconvert_exporter": "python",
   "pygments_lexer": "ipython3",
   "version": "3.9.13"
  },
  "vscode": {
   "interpreter": {
    "hash": "b6ff7914d2bc405bfa61a835d0564ba294eb5f3f9b4c24865f45d9397593b123"
   }
  }
 },
 "nbformat": 4,
 "nbformat_minor": 4
}
