{
 "cells": [
  {
   "cell_type": "code",
   "execution_count": 1,
   "metadata": {},
   "outputs": [],
   "source": [
    "%load_ext autoreload\n",
    "%autoreload 2"
   ]
  },
  {
   "cell_type": "code",
   "execution_count": 2,
   "metadata": {},
   "outputs": [],
   "source": [
    "import sys; sys.path.insert(0, '../..') # add parent folder path where lib folder is"
   ]
  },
  {
   "cell_type": "code",
   "execution_count": 4,
   "metadata": {},
   "outputs": [],
   "source": [
    "\n",
    "from utils import dasker, helper, config\n",
    "from ml.models.base.slug_ann import SlugANN\n",
    "from dask_ml.model_selection import train_test_split\n",
    "\n",
    "from sklearn.metrics import r2_score, mean_squared_error\n",
    "from sklearn.metrics import f1_score, roc_auc_score, precision_score, recall_score\n",
    "\n",
    "\n",
    "from sklearn import preprocessing\n",
    "from ml.models import common\n",
    "from dask_ml.preprocessing import StandardScaler"
   ]
  },
  {
   "cell_type": "code",
   "execution_count": 5,
   "metadata": {},
   "outputs": [
    {
     "name": "stdout",
     "output_type": "stream",
     "text": [
      "2022-11-02 11:56:53,122 - asyncio - DEBUG - Using selector: EpollSelector\n"
     ]
    },
    {
     "name": "stderr",
     "output_type": "stream",
     "text": [
      "2022-11-02 11:56:54,817 - distributed.diskutils - INFO - Found stale lock file and directory '/tmp/dask-worker-space/worker-vygkgzvq', purging\n",
      "2022-11-02 11:56:54,817 - distributed.diskutils - INFO - Found stale lock file and directory '/tmp/dask-worker-space/worker-6zrrv9gm', purging\n",
      "2022-11-02 11:56:54,817 - distributed.diskutils - INFO - Found stale lock file and directory '/tmp/dask-worker-space/worker-iaqg60b7', purging\n",
      "2022-11-02 11:56:54,818 - distributed.diskutils - INFO - Found stale lock file and directory '/tmp/dask-worker-space/worker-uo1ymmfi', purging\n"
     ]
    }
   ],
   "source": [
    "client = dasker.get_local_client()"
   ]
  },
  {
   "cell_type": "code",
   "execution_count": 6,
   "metadata": {},
   "outputs": [],
   "source": [
    "X, y = helper.get_covid_dataset()\n",
    "X = X.drop(['location'], axis = 1)\n",
    "X_scalar = StandardScaler().fit_transform(X.copy())\n",
    "\n",
    "\n",
    "X_train_scalar, X_test_scalar, y_train, y_test = train_test_split(X_scalar, \n",
    "                                                                                                                                y,\n",
    "                                                                                                                                test_size=0.33,\n",
    "                                                                                                                                random_state=config.rand_state)\n",
    "\n"
   ]
  },
  {
   "cell_type": "code",
   "execution_count": 7,
   "metadata": {},
   "outputs": [],
   "source": [
    "config.project_name = '/covid_slug_ann'"
   ]
  },
  {
   "cell_type": "code",
   "execution_count": 8,
   "metadata": {},
   "outputs": [],
   "source": [
    "slug_ann = SlugANN('slug_ann', X_train_scalar, X_test_scalar, y_train_scalar, y_test_scalar)\n",
    "slug_ann.epochs = 100\n",
    "slug_ann.num_reruns = 2\n",
    "\n"
   ]
  },
  {
   "cell_type": "code",
   "execution_count": 10,
   "metadata": {},
   "outputs": [
    {
     "name": "stdout",
     "output_type": "stream",
     "text": [
      "2022-11-02 12:10:41,854 - console_info - INFO - slug ann: Starting train for trials:100 with epochs: 100\n",
      "2022-11-02 12:10:41,854 - console_info - INFO - slug ann: Starting train for trials:100 with epochs: 100\n",
      "2022-11-02 12:10:41,859 - console_info - INFO - slug ann: Cleared previous models in the model save path\n",
      "2022-11-02 12:10:41,859 - console_info - INFO - slug ann: Cleared previous models in the model save path\n",
      "2022-11-02 12:18:53,117 - console_info - INFO - slug xgboost: Number of trials: 100\n",
      "2022-11-02 12:18:53,117 - console_info - INFO - slug xgboost: Number of trials: 100\n",
      "2022-11-02 12:18:53,151 - console_info - INFO - Best trial: 83\n",
      "2022-11-02 12:18:53,151 - console_info - INFO - Best trial: 83\n",
      "2022-11-02 12:18:53,218 - console_info - INFO -   test r2 score: 0.4396390656534799\n",
      "2022-11-02 12:18:53,218 - console_info - INFO -   test r2 score: 0.4396390656534799\n",
      "2022-11-02 12:18:53,227 - console_info - INFO - slug_ann: Model saved at /mnt/c/Users/rwmas/GitHub/xai/xai_api/app/ml/models/saved/covid_slug_ann/slug_ann/saved/slug_ann_83.pickle\n",
      "2022-11-02 12:18:53,227 - console_info - INFO - slug_ann: Model saved at /mnt/c/Users/rwmas/GitHub/xai/xai_api/app/ml/models/saved/covid_slug_ann/slug_ann/saved/slug_ann_83.pickle\n"
     ]
    },
    {
     "data": {
      "text/plain": [
       "Sequential(\n",
       "  (0): Linear(in_features=40, out_features=50, bias=True)\n",
       "  (1): ReLU()\n",
       "  (2): Dropout(p=0.32452014999170276, inplace=False)\n",
       "  (3): Linear(in_features=50, out_features=181, bias=True)\n",
       "  (4): ReLU()\n",
       "  (5): Dropout(p=0.32452014999170276, inplace=False)\n",
       "  (6): Linear(in_features=181, out_features=234, bias=True)\n",
       "  (7): ReLU()\n",
       "  (8): Dropout(p=0.32452014999170276, inplace=False)\n",
       "  (9): Linear(in_features=234, out_features=176, bias=True)\n",
       "  (10): ReLU()\n",
       "  (11): Dropout(p=0.32452014999170276, inplace=False)\n",
       "  (12): Linear(in_features=176, out_features=57, bias=True)\n",
       "  (13): ReLU()\n",
       "  (14): Dropout(p=0.32452014999170276, inplace=False)\n",
       "  (15): Linear(in_features=57, out_features=172, bias=True)\n",
       "  (16): ReLU()\n",
       "  (17): Dropout(p=0.32452014999170276, inplace=False)\n",
       "  (18): Linear(in_features=172, out_features=177, bias=True)\n",
       "  (19): ReLU()\n",
       "  (20): Dropout(p=0.32452014999170276, inplace=False)\n",
       "  (21): Linear(in_features=177, out_features=1, bias=True)\n",
       "  (22): ReLU()\n",
       ")"
      ]
     },
     "execution_count": 10,
     "metadata": {},
     "output_type": "execute_result"
    }
   ],
   "source": [
    "slug_ann.fetch_model()"
   ]
  },
  {
   "cell_type": "code",
   "execution_count": 17,
   "metadata": {},
   "outputs": [
    {
     "data": {
      "text/plain": [
       "[0.6823503468291505, 0.4396390656534799]"
      ]
     },
     "execution_count": 17,
     "metadata": {},
     "output_type": "execute_result"
    }
   ],
   "source": [
    "slug_ann.score"
   ]
  },
  {
   "cell_type": "code",
   "execution_count": 19,
   "metadata": {},
   "outputs": [
    {
     "data": {
      "text/plain": [
       "-0.07226272443628745"
      ]
     },
     "execution_count": 19,
     "metadata": {},
     "output_type": "execute_result"
    }
   ],
   "source": [
    "pred = slug_ann.predict(X)\n",
    "r2_score(pred, y)\n"
   ]
  },
  {
   "cell_type": "code",
   "execution_count": 13,
   "metadata": {},
   "outputs": [
    {
     "data": {
      "text/plain": [
       "[0.6823503468291505, 0.4396390656534799]"
      ]
     },
     "execution_count": 13,
     "metadata": {},
     "output_type": "execute_result"
    }
   ],
   "source": [
    "threshold=0.1\n",
    "slug_ann.load_score(threshold=threshold)\n",
    "# slug_ann.load_score()"
   ]
  },
  {
   "cell_type": "code",
   "execution_count": 14,
   "metadata": {},
   "outputs": [
    {
     "data": {
      "text/plain": [
       "[0.6823503468291505, 0.4396390656534799]"
      ]
     },
     "execution_count": 14,
     "metadata": {},
     "output_type": "execute_result"
    }
   ],
   "source": [
    "slug_ann.score"
   ]
  },
  {
   "cell_type": "code",
   "execution_count": 15,
   "metadata": {},
   "outputs": [
    {
     "data": {
      "text/plain": [
       "-0.07226272443628745"
      ]
     },
     "execution_count": 15,
     "metadata": {},
     "output_type": "execute_result"
    }
   ],
   "source": [
    "pred = slug_ann.predict(X_scalar)\n",
    "r2_score(pred, y)"
   ]
  },
  {
   "cell_type": "code",
   "execution_count": null,
   "metadata": {},
   "outputs": [],
   "source": [
    "# brisk_xgb.empty_media()\n",
    "common.save_state(slug_ann, slug_ann.model_file_name + '.pickle')"
   ]
  },
  {
   "cell_type": "code",
   "execution_count": null,
   "metadata": {},
   "outputs": [],
   "source": [
    "slug_ann_reinstate = common.load_state('slug_ann.pickle')"
   ]
  },
  {
   "cell_type": "code",
   "execution_count": null,
   "metadata": {},
   "outputs": [],
   "source": [
    "slug_ann_reinstate.load_score()"
   ]
  },
  {
   "cell_type": "code",
   "execution_count": null,
   "metadata": {},
   "outputs": [],
   "source": [
    "pred = slug_ann_reinstate.predict(X)\n",
    "r2_score(pred, y)"
   ]
  },
  {
   "cell_type": "code",
   "execution_count": null,
   "metadata": {},
   "outputs": [],
   "source": []
  }
 ],
 "metadata": {
  "kernelspec": {
   "display_name": "Python 3.8.13 ('test')",
   "language": "python",
   "name": "python3"
  },
  "language_info": {
   "codemirror_mode": {
    "name": "ipython",
    "version": 3
   },
   "file_extension": ".py",
   "mimetype": "text/x-python",
   "name": "python",
   "nbconvert_exporter": "python",
   "pygments_lexer": "ipython3",
   "version": "3.8.13"
  },
  "orig_nbformat": 4,
  "vscode": {
   "interpreter": {
    "hash": "b6ff7914d2bc405bfa61a835d0564ba294eb5f3f9b4c24865f45d9397593b123"
   }
  }
 },
 "nbformat": 4,
 "nbformat_minor": 2
}
