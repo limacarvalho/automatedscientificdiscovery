{
 "cells": [
  {
   "cell_type": "code",
   "execution_count": 1,
   "metadata": {},
   "outputs": [],
   "source": [
    "%load_ext autoreload\n",
    "%autoreload 2"
   ]
  },
  {
   "cell_type": "code",
   "execution_count": 2,
   "metadata": {},
   "outputs": [],
   "source": [
    "import sys; sys.path.insert(0, '../..') # add parent folder path where lib folder is"
   ]
  },
  {
   "cell_type": "code",
   "execution_count": 3,
   "metadata": {},
   "outputs": [
    {
     "name": "stdout",
     "output_type": "stream",
     "text": [
      "2022-11-02 09:51:43,143 - matplotlib - DEBUG - matplotlib data path: /home/vagrant/miniconda3/envs/test/lib/python3.8/site-packages/matplotlib/mpl-data\n",
      "2022-11-02 09:51:43,153 - matplotlib - DEBUG - CONFIGDIR=/home/vagrant/.config/matplotlib\n",
      "2022-11-02 09:51:43,156 - matplotlib - DEBUG - interactive is False\n",
      "2022-11-02 09:51:43,159 - matplotlib - DEBUG - platform is linux\n",
      "2022-11-02 09:51:43,249 - matplotlib - DEBUG - CACHEDIR=/home/vagrant/.cache/matplotlib\n",
      "2022-11-02 09:51:43,253 - matplotlib.font_manager - DEBUG - Using fontManager instance from /home/vagrant/.cache/matplotlib/fontlist-v330.json\n"
     ]
    }
   ],
   "source": [
    "\n",
    "from utils import dasker, helper, config\n",
    "from ml.models.base.brisk_xgboost import BriskXGBoost\n",
    "from sklearn.model_selection import train_test_split\n",
    "\n",
    "from sklearn.metrics import r2_score, mean_squared_error\n",
    "from sklearn.metrics import f1_score, roc_auc_score, precision_score, recall_score\n",
    "from ml.models import common\n"
   ]
  },
  {
   "cell_type": "code",
   "execution_count": 4,
   "metadata": {},
   "outputs": [
    {
     "name": "stdout",
     "output_type": "stream",
     "text": [
      "2022-11-02 09:51:43,948 - asyncio - DEBUG - Using selector: EpollSelector\n"
     ]
    },
    {
     "name": "stderr",
     "output_type": "stream",
     "text": [
      "/home/vagrant/miniconda3/envs/test/lib/python3.8/site-packages/distributed/node.py:183: UserWarning: Port 8787 is already in use.\n",
      "Perhaps you already have a cluster running?\n",
      "Hosting the HTTP server on port 45801 instead\n",
      "  warnings.warn(\n",
      "2022-11-02 09:51:44,337 - distributed.deploy.spec - WARNING - Cluster closed without starting up\n"
     ]
    },
    {
     "ename": "RuntimeError",
     "evalue": "Cluster failed to start: Scheduler failed to start.",
     "output_type": "error",
     "traceback": [
      "\u001b[0;31m---------------------------------------------------------------------------\u001b[0m",
      "\u001b[0;31mOSError\u001b[0m                                   Traceback (most recent call last)",
      "File \u001b[0;32m~/miniconda3/envs/test/lib/python3.8/site-packages/distributed/core.py:481\u001b[0m, in \u001b[0;36mServer.start\u001b[0;34m(self)\u001b[0m\n\u001b[1;32m    480\u001b[0m \u001b[39mtry\u001b[39;00m:\n\u001b[0;32m--> 481\u001b[0m     \u001b[39mawait\u001b[39;00m asyncio\u001b[39m.\u001b[39mwait_for(\u001b[39mself\u001b[39m\u001b[39m.\u001b[39mstart_unsafe(), timeout\u001b[39m=\u001b[39mtimeout)\n\u001b[1;32m    482\u001b[0m \u001b[39mexcept\u001b[39;00m asyncio\u001b[39m.\u001b[39mTimeoutError \u001b[39mas\u001b[39;00m exc:\n",
      "File \u001b[0;32m~/miniconda3/envs/test/lib/python3.8/asyncio/tasks.py:455\u001b[0m, in \u001b[0;36mwait_for\u001b[0;34m(fut, timeout, loop)\u001b[0m\n\u001b[1;32m    454\u001b[0m \u001b[39mif\u001b[39;00m timeout \u001b[39mis\u001b[39;00m \u001b[39mNone\u001b[39;00m:\n\u001b[0;32m--> 455\u001b[0m     \u001b[39mreturn\u001b[39;00m \u001b[39mawait\u001b[39;00m fut\n\u001b[1;32m    457\u001b[0m \u001b[39mif\u001b[39;00m timeout \u001b[39m<\u001b[39m\u001b[39m=\u001b[39m \u001b[39m0\u001b[39m:\n",
      "File \u001b[0;32m~/miniconda3/envs/test/lib/python3.8/site-packages/distributed/scheduler.py:3371\u001b[0m, in \u001b[0;36mScheduler.start_unsafe\u001b[0;34m(self)\u001b[0m\n\u001b[1;32m   3370\u001b[0m \u001b[39mfor\u001b[39;00m addr \u001b[39min\u001b[39;00m \u001b[39mself\u001b[39m\u001b[39m.\u001b[39m_start_address:\n\u001b[0;32m-> 3371\u001b[0m     \u001b[39mawait\u001b[39;00m \u001b[39mself\u001b[39m\u001b[39m.\u001b[39mlisten(\n\u001b[1;32m   3372\u001b[0m         addr,\n\u001b[1;32m   3373\u001b[0m         allow_offload\u001b[39m=\u001b[39m\u001b[39mFalse\u001b[39;00m,\n\u001b[1;32m   3374\u001b[0m         handshake_overrides\u001b[39m=\u001b[39m{\u001b[39m\"\u001b[39m\u001b[39mpickle-protocol\u001b[39m\u001b[39m\"\u001b[39m: \u001b[39m4\u001b[39m, \u001b[39m\"\u001b[39m\u001b[39mcompression\u001b[39m\u001b[39m\"\u001b[39m: \u001b[39mNone\u001b[39;00m},\n\u001b[1;32m   3375\u001b[0m         \u001b[39m*\u001b[39m\u001b[39m*\u001b[39m\u001b[39mself\u001b[39m\u001b[39m.\u001b[39msecurity\u001b[39m.\u001b[39mget_listen_args(\u001b[39m\"\u001b[39m\u001b[39mscheduler\u001b[39m\u001b[39m\"\u001b[39m),\n\u001b[1;32m   3376\u001b[0m     )\n\u001b[1;32m   3377\u001b[0m     \u001b[39mself\u001b[39m\u001b[39m.\u001b[39mip \u001b[39m=\u001b[39m get_address_host(\u001b[39mself\u001b[39m\u001b[39m.\u001b[39mlisten_address)\n",
      "File \u001b[0;32m~/miniconda3/envs/test/lib/python3.8/site-packages/distributed/core.py:659\u001b[0m, in \u001b[0;36mServer.listen\u001b[0;34m(self, port_or_addr, allow_offload, **kwargs)\u001b[0m\n\u001b[1;32m    658\u001b[0m     \u001b[39massert\u001b[39;00m \u001b[39misinstance\u001b[39m(addr, \u001b[39mstr\u001b[39m)\n\u001b[0;32m--> 659\u001b[0m listener \u001b[39m=\u001b[39m \u001b[39mawait\u001b[39;00m listen(\n\u001b[1;32m    660\u001b[0m     addr,\n\u001b[1;32m    661\u001b[0m     \u001b[39mself\u001b[39m\u001b[39m.\u001b[39mhandle_comm,\n\u001b[1;32m    662\u001b[0m     deserialize\u001b[39m=\u001b[39m\u001b[39mself\u001b[39m\u001b[39m.\u001b[39mdeserialize,\n\u001b[1;32m    663\u001b[0m     allow_offload\u001b[39m=\u001b[39mallow_offload,\n\u001b[1;32m    664\u001b[0m     \u001b[39m*\u001b[39m\u001b[39m*\u001b[39mkwargs,\n\u001b[1;32m    665\u001b[0m )\n\u001b[1;32m    666\u001b[0m \u001b[39mself\u001b[39m\u001b[39m.\u001b[39mlisteners\u001b[39m.\u001b[39mappend(listener)\n",
      "File \u001b[0;32m~/miniconda3/envs/test/lib/python3.8/site-packages/distributed/comm/core.py:212\u001b[0m, in \u001b[0;36mListener.__await__.<locals>._\u001b[0;34m()\u001b[0m\n\u001b[1;32m    211\u001b[0m \u001b[39masync\u001b[39;00m \u001b[39mdef\u001b[39;00m \u001b[39m_\u001b[39m():\n\u001b[0;32m--> 212\u001b[0m     \u001b[39mawait\u001b[39;00m \u001b[39mself\u001b[39m\u001b[39m.\u001b[39mstart()\n\u001b[1;32m    213\u001b[0m     \u001b[39mreturn\u001b[39;00m \u001b[39mself\u001b[39m\n",
      "File \u001b[0;32m~/miniconda3/envs/test/lib/python3.8/site-packages/distributed/comm/tcp.py:563\u001b[0m, in \u001b[0;36mBaseTCPListener.start\u001b[0;34m(self)\u001b[0m\n\u001b[1;32m    558\u001b[0m \u001b[39mtry\u001b[39;00m:\n\u001b[1;32m    559\u001b[0m     \u001b[39m# When shuffling data between workers, there can\u001b[39;00m\n\u001b[1;32m    560\u001b[0m     \u001b[39m# really be O(cluster size) connection requests\u001b[39;00m\n\u001b[1;32m    561\u001b[0m     \u001b[39m# on a single worker socket, make sure the backlog\u001b[39;00m\n\u001b[1;32m    562\u001b[0m     \u001b[39m# is large enough not to lose any.\u001b[39;00m\n\u001b[0;32m--> 563\u001b[0m     sockets \u001b[39m=\u001b[39m netutil\u001b[39m.\u001b[39;49mbind_sockets(\n\u001b[1;32m    564\u001b[0m         \u001b[39mself\u001b[39;49m\u001b[39m.\u001b[39;49mport, address\u001b[39m=\u001b[39;49m\u001b[39mself\u001b[39;49m\u001b[39m.\u001b[39;49mip, backlog\u001b[39m=\u001b[39;49mbacklog\n\u001b[1;32m    565\u001b[0m     )\n\u001b[1;32m    566\u001b[0m \u001b[39mexcept\u001b[39;00m \u001b[39mOSError\u001b[39;00m \u001b[39mas\u001b[39;00m e:\n\u001b[1;32m    567\u001b[0m     \u001b[39m# EADDRINUSE can happen sporadically when trying to bind\u001b[39;00m\n\u001b[1;32m    568\u001b[0m     \u001b[39m# to an ephemeral port\u001b[39;00m\n",
      "File \u001b[0;32m~/miniconda3/envs/test/lib/python3.8/site-packages/tornado/netutil.py:161\u001b[0m, in \u001b[0;36mbind_sockets\u001b[0;34m(port, address, family, backlog, flags, reuse_port)\u001b[0m\n\u001b[1;32m    160\u001b[0m \u001b[39mtry\u001b[39;00m:\n\u001b[0;32m--> 161\u001b[0m     sock\u001b[39m.\u001b[39;49mbind(sockaddr)\n\u001b[1;32m    162\u001b[0m \u001b[39mexcept\u001b[39;00m \u001b[39mOSError\u001b[39;00m \u001b[39mas\u001b[39;00m e:\n",
      "\u001b[0;31mOSError\u001b[0m: [Errno 98] Address already in use",
      "\nThe above exception was the direct cause of the following exception:\n",
      "\u001b[0;31mRuntimeError\u001b[0m                              Traceback (most recent call last)",
      "File \u001b[0;32m~/miniconda3/envs/test/lib/python3.8/site-packages/distributed/deploy/spec.py:309\u001b[0m, in \u001b[0;36mSpecCluster._start\u001b[0;34m(self)\u001b[0m\n\u001b[1;32m    308\u001b[0m     \u001b[39mself\u001b[39m\u001b[39m.\u001b[39mscheduler \u001b[39m=\u001b[39m \u001b[39mcls\u001b[39m(\u001b[39m*\u001b[39m\u001b[39m*\u001b[39m\u001b[39mself\u001b[39m\u001b[39m.\u001b[39mscheduler_spec\u001b[39m.\u001b[39mget(\u001b[39m\"\u001b[39m\u001b[39moptions\u001b[39m\u001b[39m\"\u001b[39m, {}))\n\u001b[0;32m--> 309\u001b[0m     \u001b[39mself\u001b[39m\u001b[39m.\u001b[39mscheduler \u001b[39m=\u001b[39m \u001b[39mawait\u001b[39;00m \u001b[39mself\u001b[39m\u001b[39m.\u001b[39mscheduler\n\u001b[1;32m    310\u001b[0m \u001b[39mself\u001b[39m\u001b[39m.\u001b[39mscheduler_comm \u001b[39m=\u001b[39m rpc(\n\u001b[1;32m    311\u001b[0m     \u001b[39mgetattr\u001b[39m(\u001b[39mself\u001b[39m\u001b[39m.\u001b[39mscheduler, \u001b[39m\"\u001b[39m\u001b[39mexternal_address\u001b[39m\u001b[39m\"\u001b[39m, \u001b[39mNone\u001b[39;00m)\n\u001b[1;32m    312\u001b[0m     \u001b[39mor\u001b[39;00m \u001b[39mself\u001b[39m\u001b[39m.\u001b[39mscheduler\u001b[39m.\u001b[39maddress,\n\u001b[1;32m    313\u001b[0m     connection_args\u001b[39m=\u001b[39m\u001b[39mself\u001b[39m\u001b[39m.\u001b[39msecurity\u001b[39m.\u001b[39mget_connection_args(\u001b[39m\"\u001b[39m\u001b[39mclient\u001b[39m\u001b[39m\"\u001b[39m),\n\u001b[1;32m    314\u001b[0m )\n",
      "File \u001b[0;32m~/miniconda3/envs/test/lib/python3.8/site-packages/distributed/core.py:489\u001b[0m, in \u001b[0;36mServer.start\u001b[0;34m(self)\u001b[0m\n\u001b[1;32m    488\u001b[0m     \u001b[39mawait\u001b[39;00m _close_on_failure(exc)\n\u001b[0;32m--> 489\u001b[0m     \u001b[39mraise\u001b[39;00m \u001b[39mRuntimeError\u001b[39;00m(\u001b[39mf\u001b[39m\u001b[39m\"\u001b[39m\u001b[39m{\u001b[39;00m\u001b[39mtype\u001b[39m(\u001b[39mself\u001b[39m)\u001b[39m.\u001b[39m\u001b[39m__name__\u001b[39m\u001b[39m}\u001b[39;00m\u001b[39m failed to start.\u001b[39m\u001b[39m\"\u001b[39m) \u001b[39mfrom\u001b[39;00m \u001b[39mexc\u001b[39;00m\n\u001b[1;32m    490\u001b[0m \u001b[39mself\u001b[39m\u001b[39m.\u001b[39mstatus \u001b[39m=\u001b[39m Status\u001b[39m.\u001b[39mrunning\n",
      "\u001b[0;31mRuntimeError\u001b[0m: Scheduler failed to start.",
      "\nThe above exception was the direct cause of the following exception:\n",
      "\u001b[0;31mRuntimeError\u001b[0m                              Traceback (most recent call last)",
      "\u001b[1;32m/mnt/c/Users/rwmas/GitHub/xai/xai_api/app/notebooks/covid/covid_brisk_xgboost.ipynb Cell 4\u001b[0m in \u001b[0;36m<cell line: 1>\u001b[0;34m()\u001b[0m\n\u001b[0;32m----> <a href='vscode-notebook-cell://wsl%2Bubuntu/mnt/c/Users/rwmas/GitHub/xai/xai_api/app/notebooks/covid/covid_brisk_xgboost.ipynb#X12sdnNjb2RlLXJlbW90ZQ%3D%3D?line=0'>1</a>\u001b[0m client \u001b[39m=\u001b[39m dasker\u001b[39m.\u001b[39;49mget_local_client()\n",
      "File \u001b[0;32m/mnt/c/Users/rwmas/GitHub/xai/xai_api/app/notebooks/covid/../../utils/dasker.py:12\u001b[0m, in \u001b[0;36mget_local_client\u001b[0;34m()\u001b[0m\n\u001b[1;32m      9\u001b[0m client \u001b[39m=\u001b[39m distributed\u001b[39m.\u001b[39mclient\u001b[39m.\u001b[39m_get_global_client()\n\u001b[1;32m     11\u001b[0m \u001b[39mif\u001b[39;00m client \u001b[39mis\u001b[39;00m \u001b[39mNone\u001b[39;00m:\n\u001b[0;32m---> 12\u001b[0m     cluster \u001b[39m=\u001b[39m LocalCluster(scheduler_port\u001b[39m=\u001b[39;49m\u001b[39m8786\u001b[39;49m)\n\u001b[1;32m     13\u001b[0m     \u001b[39m# cluster = LocalCluster(scheduler_port=config.dask_local_scheduler_port)\u001b[39;00m\n\u001b[1;32m     14\u001b[0m     cl \u001b[39m=\u001b[39m Client(cluster)\n",
      "File \u001b[0;32m~/miniconda3/envs/test/lib/python3.8/site-packages/distributed/deploy/local.py:238\u001b[0m, in \u001b[0;36mLocalCluster.__init__\u001b[0;34m(self, name, n_workers, threads_per_worker, processes, loop, start, host, ip, scheduler_port, silence_logs, dashboard_address, worker_dashboard_address, diagnostics_port, services, worker_services, service_kwargs, asynchronous, security, protocol, blocked_handlers, interface, worker_class, scheduler_kwargs, scheduler_sync_interval, **worker_kwargs)\u001b[0m\n\u001b[1;32m    235\u001b[0m worker \u001b[39m=\u001b[39m {\u001b[39m\"\u001b[39m\u001b[39mcls\u001b[39m\u001b[39m\"\u001b[39m: worker_class, \u001b[39m\"\u001b[39m\u001b[39moptions\u001b[39m\u001b[39m\"\u001b[39m: worker_kwargs}\n\u001b[1;32m    236\u001b[0m workers \u001b[39m=\u001b[39m {i: worker \u001b[39mfor\u001b[39;00m i \u001b[39min\u001b[39;00m \u001b[39mrange\u001b[39m(n_workers)}\n\u001b[0;32m--> 238\u001b[0m \u001b[39msuper\u001b[39;49m()\u001b[39m.\u001b[39;49m\u001b[39m__init__\u001b[39;49m(\n\u001b[1;32m    239\u001b[0m     name\u001b[39m=\u001b[39;49mname,\n\u001b[1;32m    240\u001b[0m     scheduler\u001b[39m=\u001b[39;49mscheduler,\n\u001b[1;32m    241\u001b[0m     workers\u001b[39m=\u001b[39;49mworkers,\n\u001b[1;32m    242\u001b[0m     worker\u001b[39m=\u001b[39;49mworker,\n\u001b[1;32m    243\u001b[0m     loop\u001b[39m=\u001b[39;49mloop,\n\u001b[1;32m    244\u001b[0m     asynchronous\u001b[39m=\u001b[39;49masynchronous,\n\u001b[1;32m    245\u001b[0m     silence_logs\u001b[39m=\u001b[39;49msilence_logs,\n\u001b[1;32m    246\u001b[0m     security\u001b[39m=\u001b[39;49msecurity,\n\u001b[1;32m    247\u001b[0m     scheduler_sync_interval\u001b[39m=\u001b[39;49mscheduler_sync_interval,\n\u001b[1;32m    248\u001b[0m )\n",
      "File \u001b[0;32m~/miniconda3/envs/test/lib/python3.8/site-packages/distributed/deploy/spec.py:275\u001b[0m, in \u001b[0;36mSpecCluster.__init__\u001b[0;34m(self, workers, scheduler, worker, asynchronous, loop, security, silence_logs, name, shutdown_on_close, scheduler_sync_interval)\u001b[0m\n\u001b[1;32m    273\u001b[0m \u001b[39mif\u001b[39;00m \u001b[39mnot\u001b[39;00m called_from_running_loop:\n\u001b[1;32m    274\u001b[0m     \u001b[39mself\u001b[39m\u001b[39m.\u001b[39m_loop_runner\u001b[39m.\u001b[39mstart()\n\u001b[0;32m--> 275\u001b[0m     \u001b[39mself\u001b[39;49m\u001b[39m.\u001b[39;49msync(\u001b[39mself\u001b[39;49m\u001b[39m.\u001b[39;49m_start)\n\u001b[1;32m    276\u001b[0m     \u001b[39mtry\u001b[39;00m:\n\u001b[1;32m    277\u001b[0m         \u001b[39mself\u001b[39m\u001b[39m.\u001b[39msync(\u001b[39mself\u001b[39m\u001b[39m.\u001b[39m_correct_state)\n",
      "File \u001b[0;32m~/miniconda3/envs/test/lib/python3.8/site-packages/distributed/utils.py:338\u001b[0m, in \u001b[0;36mSyncMethodMixin.sync\u001b[0;34m(self, func, asynchronous, callback_timeout, *args, **kwargs)\u001b[0m\n\u001b[1;32m    336\u001b[0m     \u001b[39mreturn\u001b[39;00m future\n\u001b[1;32m    337\u001b[0m \u001b[39melse\u001b[39;00m:\n\u001b[0;32m--> 338\u001b[0m     \u001b[39mreturn\u001b[39;00m sync(\n\u001b[1;32m    339\u001b[0m         \u001b[39mself\u001b[39;49m\u001b[39m.\u001b[39;49mloop, func, \u001b[39m*\u001b[39;49margs, callback_timeout\u001b[39m=\u001b[39;49mcallback_timeout, \u001b[39m*\u001b[39;49m\u001b[39m*\u001b[39;49mkwargs\n\u001b[1;32m    340\u001b[0m     )\n",
      "File \u001b[0;32m~/miniconda3/envs/test/lib/python3.8/site-packages/distributed/utils.py:405\u001b[0m, in \u001b[0;36msync\u001b[0;34m(loop, func, callback_timeout, *args, **kwargs)\u001b[0m\n\u001b[1;32m    403\u001b[0m \u001b[39mif\u001b[39;00m error:\n\u001b[1;32m    404\u001b[0m     typ, exc, tb \u001b[39m=\u001b[39m error\n\u001b[0;32m--> 405\u001b[0m     \u001b[39mraise\u001b[39;00m exc\u001b[39m.\u001b[39mwith_traceback(tb)\n\u001b[1;32m    406\u001b[0m \u001b[39melse\u001b[39;00m:\n\u001b[1;32m    407\u001b[0m     \u001b[39mreturn\u001b[39;00m result\n",
      "File \u001b[0;32m~/miniconda3/envs/test/lib/python3.8/site-packages/distributed/utils.py:378\u001b[0m, in \u001b[0;36msync.<locals>.f\u001b[0;34m()\u001b[0m\n\u001b[1;32m    376\u001b[0m         future \u001b[39m=\u001b[39m asyncio\u001b[39m.\u001b[39mwait_for(future, callback_timeout)\n\u001b[1;32m    377\u001b[0m     future \u001b[39m=\u001b[39m asyncio\u001b[39m.\u001b[39mensure_future(future)\n\u001b[0;32m--> 378\u001b[0m     result \u001b[39m=\u001b[39m \u001b[39myield\u001b[39;00m future\n\u001b[1;32m    379\u001b[0m \u001b[39mexcept\u001b[39;00m \u001b[39mException\u001b[39;00m:\n\u001b[1;32m    380\u001b[0m     error \u001b[39m=\u001b[39m sys\u001b[39m.\u001b[39mexc_info()\n",
      "File \u001b[0;32m~/miniconda3/envs/test/lib/python3.8/site-packages/tornado/gen.py:762\u001b[0m, in \u001b[0;36mRunner.run\u001b[0;34m(self)\u001b[0m\n\u001b[1;32m    759\u001b[0m exc_info \u001b[39m=\u001b[39m \u001b[39mNone\u001b[39;00m\n\u001b[1;32m    761\u001b[0m \u001b[39mtry\u001b[39;00m:\n\u001b[0;32m--> 762\u001b[0m     value \u001b[39m=\u001b[39m future\u001b[39m.\u001b[39;49mresult()\n\u001b[1;32m    763\u001b[0m \u001b[39mexcept\u001b[39;00m \u001b[39mException\u001b[39;00m:\n\u001b[1;32m    764\u001b[0m     exc_info \u001b[39m=\u001b[39m sys\u001b[39m.\u001b[39mexc_info()\n",
      "File \u001b[0;32m~/miniconda3/envs/test/lib/python3.8/site-packages/distributed/deploy/spec.py:319\u001b[0m, in \u001b[0;36mSpecCluster._start\u001b[0;34m(self)\u001b[0m\n\u001b[1;32m    317\u001b[0m \u001b[39mself\u001b[39m\u001b[39m.\u001b[39mstatus \u001b[39m=\u001b[39m Status\u001b[39m.\u001b[39mfailed\n\u001b[1;32m    318\u001b[0m \u001b[39mawait\u001b[39;00m \u001b[39mself\u001b[39m\u001b[39m.\u001b[39m_close()\n\u001b[0;32m--> 319\u001b[0m \u001b[39mraise\u001b[39;00m \u001b[39mRuntimeError\u001b[39;00m(\u001b[39mf\u001b[39m\u001b[39m\"\u001b[39m\u001b[39mCluster failed to start: \u001b[39m\u001b[39m{\u001b[39;00me\u001b[39m}\u001b[39;00m\u001b[39m\"\u001b[39m) \u001b[39mfrom\u001b[39;00m \u001b[39me\u001b[39;00m\n",
      "\u001b[0;31mRuntimeError\u001b[0m: Cluster failed to start: Scheduler failed to start."
     ]
    }
   ],
   "source": [
    "client = dasker.get_local_client()"
   ]
  },
  {
   "cell_type": "code",
   "execution_count": null,
   "metadata": {},
   "outputs": [],
   "source": [
    "X, y = helper.get_covid_dataset()\n",
    "X = X.drop(['location'], axis = 1)\n",
    "\n",
    "X_train, X_test, y_train, y_test = train_test_split(X, y, test_size=0.33)"
   ]
  },
  {
   "cell_type": "code",
   "execution_count": null,
   "metadata": {},
   "outputs": [],
   "source": [
    "config.project_name = '/covid_xgboost'"
   ]
  },
  {
   "cell_type": "code",
   "execution_count": null,
   "metadata": {},
   "outputs": [],
   "source": [
    "\n",
    "brisk_xgb = BriskXGBoost('brisk_xgb', X_train, X_test, y_train, y_test, timeout=None)\n",
    "brisk_xgb.boosted_round = 100\n",
    "\n"
   ]
  },
  {
   "cell_type": "code",
   "execution_count": null,
   "metadata": {},
   "outputs": [
    {
     "name": "stdout",
     "output_type": "stream",
     "text": [
      "2022-11-02 08:52:21,671 - console_info - INFO - brisk_xgb: Starting training for trials:300, boosted rounds: 100, max depth: 10\n",
      "2022-11-02 08:52:21,671 - console_info - INFO - brisk_xgb: Starting training for trials:300, boosted rounds: 100, max depth: 10\n"
     ]
    },
    {
     "name": "stderr",
     "output_type": "stream",
     "text": [
      "2022-11-02 08:52:22,413 - distributed.nanny - WARNING - Restarting worker\n",
      "2022-11-02 08:52:22,464 - distributed.nanny - WARNING - Restarting worker\n",
      "2022-11-02 08:52:22,503 - distributed.nanny - WARNING - Restarting worker\n",
      "2022-11-02 08:52:22,625 - distributed.nanny - WARNING - Restarting worker\n",
      "2022-11-02 08:52:25,304 - distributed.nanny - WARNING - Restarting worker\n",
      "2022-11-02 08:52:27,012 - distributed.nanny - WARNING - Restarting worker\n",
      "2022-11-02 08:52:27,046 - distributed.nanny - WARNING - Restarting worker\n",
      "2022-11-02 08:52:27,157 - distributed.nanny - WARNING - Restarting worker\n"
     ]
    },
    {
     "ename": "KilledWorker",
     "evalue": "('batch_of__optimize_sequential_1_calls-7b7a0d545efe4f8e8d39b11a71a4f6f4', <WorkerState 'tcp://127.0.0.1:41277', name: 3, status: closed, memory: 0, processing: 9>)",
     "output_type": "error",
     "traceback": [
      "\u001b[0;31m---------------------------------------------------------------------------\u001b[0m",
      "\u001b[0;31mKilledWorker\u001b[0m                              Traceback (most recent call last)",
      "\u001b[1;32m/mnt/c/Users/rwmas/GitHub/xai/xai_api/app/notebooks/covid/covid_brisk_xgboost.ipynb Cell 8\u001b[0m in \u001b[0;36m<cell line: 1>\u001b[0;34m()\u001b[0m\n\u001b[0;32m----> <a href='vscode-notebook-cell://wsl%2Bubuntu/mnt/c/Users/rwmas/GitHub/xai/xai_api/app/notebooks/covid/covid_brisk_xgboost.ipynb#W5sdnNjb2RlLXJlbW90ZQ%3D%3D?line=0'>1</a>\u001b[0m brisk_xgb\u001b[39m.\u001b[39;49mfetch_model()\n",
      "File \u001b[0;32m/mnt/c/Users/rwmas/GitHub/xai/xai_api/app/notebooks/covid/../../ml/models/base/brisk_xgboost.py:173\u001b[0m, in \u001b[0;36mBriskXGBoost.fetch_model\u001b[0;34m(self, retrain)\u001b[0m\n\u001b[1;32m    171\u001b[0m \u001b[39mdef\u001b[39;00m \u001b[39mfetch_model\u001b[39m(\u001b[39mself\u001b[39m, retrain \u001b[39m=\u001b[39m \u001b[39mTrue\u001b[39;00m):\n\u001b[0;32m--> 173\u001b[0m     \u001b[39mself\u001b[39m\u001b[39m.\u001b[39mbest_fit \u001b[39m=\u001b[39m \u001b[39mself\u001b[39;49m\u001b[39m.\u001b[39;49m__discover_model__()\n\u001b[1;32m    174\u001b[0m     \u001b[39mself\u001b[39m\u001b[39m.\u001b[39mmodel \u001b[39m=\u001b[39m \u001b[39mself\u001b[39m\u001b[39m.\u001b[39mbest_fit\n\u001b[1;32m    176\u001b[0m     \u001b[39m# self.load_score()\u001b[39;00m\n",
      "File \u001b[0;32m/mnt/c/Users/rwmas/GitHub/xai/xai_api/app/notebooks/covid/../../ml/models/base/brisk_xgboost.py:133\u001b[0m, in \u001b[0;36mBriskXGBoost.__discover_model__\u001b[0;34m(self)\u001b[0m\n\u001b[1;32m    125\u001b[0m study \u001b[39m=\u001b[39m optuna\u001b[39m.\u001b[39mcreate_study( study_name\u001b[39m=\u001b[39mconfig\u001b[39m.\u001b[39mcreate_study_name(),\n\u001b[1;32m    126\u001b[0m                                     storage\u001b[39m=\u001b[39mstorage, direction\u001b[39m=\u001b[39m\u001b[39m\"\u001b[39m\u001b[39mminimize\u001b[39m\u001b[39m\"\u001b[39m, \n\u001b[1;32m    127\u001b[0m                                     \u001b[39m# sampler=optuna.samplers.CmaEsSampler(),\u001b[39;00m\n\u001b[1;32m    128\u001b[0m                                     sampler\u001b[39m=\u001b[39moptuna\u001b[39m.\u001b[39msamplers\u001b[39m.\u001b[39mTPESampler(),\n\u001b[1;32m    129\u001b[0m                                     pruner\u001b[39m=\u001b[39moptuna\u001b[39m.\u001b[39mpruners\u001b[39m.\u001b[39mMedianPruner()                                                              \n\u001b[1;32m    130\u001b[0m                                     )\n\u001b[1;32m    132\u001b[0m \u001b[39mwith\u001b[39;00m joblib\u001b[39m.\u001b[39mparallel_backend(\u001b[39m\"\u001b[39m\u001b[39mdask\u001b[39m\u001b[39m\"\u001b[39m):\n\u001b[0;32m--> 133\u001b[0m     study\u001b[39m.\u001b[39;49moptimize(\u001b[39mself\u001b[39;49m\u001b[39m.\u001b[39;49m__objective__, n_trials\u001b[39m=\u001b[39;49m\u001b[39mself\u001b[39;49m\u001b[39m.\u001b[39;49mn_trials, n_jobs\u001b[39m=\u001b[39;49m\u001b[39m-\u001b[39;49m\u001b[39m1\u001b[39;49m, timeout\u001b[39m=\u001b[39;49m\u001b[39mself\u001b[39;49m\u001b[39m.\u001b[39;49mtimeout)\n\u001b[1;32m    135\u001b[0m customlogger\u001b[39m.\u001b[39minfo( \u001b[39mself\u001b[39m\u001b[39m.\u001b[39mmodel_file_name \u001b[39m+\u001b[39m \u001b[39m'\u001b[39m\u001b[39m: Number of trials: \u001b[39m\u001b[39m%d\u001b[39;00m\u001b[39m'\u001b[39m, \u001b[39mlen\u001b[39m(study\u001b[39m.\u001b[39mtrials))                   \n\u001b[1;32m    137\u001b[0m customlogger\u001b[39m.\u001b[39minfo(\u001b[39m'\u001b[39m\u001b[39mBest trial:\u001b[39m\u001b[39m%d\u001b[39;00m\u001b[39m'\u001b[39m, study\u001b[39m.\u001b[39mbest_trial\u001b[39m.\u001b[39mnumber)\n",
      "File \u001b[0;32m~/miniconda3/envs/test/lib/python3.8/site-packages/optuna/study.py:306\u001b[0m, in \u001b[0;36mStudy.optimize\u001b[0;34m(self, func, n_trials, timeout, n_jobs, catch, callbacks, gc_after_trial, show_progress_bar)\u001b[0m\n\u001b[1;32m    228\u001b[0m \u001b[39mdef\u001b[39;00m \u001b[39moptimize\u001b[39m(\n\u001b[1;32m    229\u001b[0m     \u001b[39mself\u001b[39m,\n\u001b[1;32m    230\u001b[0m     func: ObjectiveFuncType,\n\u001b[0;32m   (...)\u001b[0m\n\u001b[1;32m    237\u001b[0m     show_progress_bar: \u001b[39mbool\u001b[39m \u001b[39m=\u001b[39m \u001b[39mFalse\u001b[39;00m,\n\u001b[1;32m    238\u001b[0m ) \u001b[39m-\u001b[39m\u001b[39m>\u001b[39m \u001b[39mNone\u001b[39;00m:\n\u001b[1;32m    239\u001b[0m     \u001b[39m\"\"\"Optimize an objective function.\u001b[39;00m\n\u001b[1;32m    240\u001b[0m \n\u001b[1;32m    241\u001b[0m \u001b[39m    Optimization is done by choosing a suitable set of hyperparameter values from a given\u001b[39;00m\n\u001b[0;32m   (...)\u001b[0m\n\u001b[1;32m    304\u001b[0m \u001b[39m            If nested invocation of this method occurs.\u001b[39;00m\n\u001b[1;32m    305\u001b[0m \u001b[39m    \"\"\"\u001b[39;00m\n\u001b[0;32m--> 306\u001b[0m     _optimize(\n\u001b[1;32m    307\u001b[0m         study\u001b[39m=\u001b[39;49m\u001b[39mself\u001b[39;49m,\n\u001b[1;32m    308\u001b[0m         func\u001b[39m=\u001b[39;49mfunc,\n\u001b[1;32m    309\u001b[0m         n_trials\u001b[39m=\u001b[39;49mn_trials,\n\u001b[1;32m    310\u001b[0m         timeout\u001b[39m=\u001b[39;49mtimeout,\n\u001b[1;32m    311\u001b[0m         n_jobs\u001b[39m=\u001b[39;49mn_jobs,\n\u001b[1;32m    312\u001b[0m         catch\u001b[39m=\u001b[39;49mcatch,\n\u001b[1;32m    313\u001b[0m         callbacks\u001b[39m=\u001b[39;49mcallbacks,\n\u001b[1;32m    314\u001b[0m         gc_after_trial\u001b[39m=\u001b[39;49mgc_after_trial,\n\u001b[1;32m    315\u001b[0m         show_progress_bar\u001b[39m=\u001b[39;49mshow_progress_bar,\n\u001b[1;32m    316\u001b[0m     )\n",
      "File \u001b[0;32m~/miniconda3/envs/test/lib/python3.8/site-packages/optuna/_optimize.py:101\u001b[0m, in \u001b[0;36m_optimize\u001b[0;34m(study, func, n_trials, timeout, n_jobs, catch, callbacks, gc_after_trial, show_progress_bar)\u001b[0m\n\u001b[1;32m     90\u001b[0m             \u001b[39mif\u001b[39;00m \u001b[39mnot\u001b[39;00m \u001b[39misinstance\u001b[39m(\n\u001b[1;32m     91\u001b[0m                 parallel\u001b[39m.\u001b[39m_backend, joblib\u001b[39m.\u001b[39mparallel\u001b[39m.\u001b[39mThreadingBackend\n\u001b[1;32m     92\u001b[0m             ) \u001b[39mand\u001b[39;00m \u001b[39misinstance\u001b[39m(study\u001b[39m.\u001b[39m_storage, storages\u001b[39m.\u001b[39mInMemoryStorage):\n\u001b[1;32m     93\u001b[0m                 warnings\u001b[39m.\u001b[39mwarn(\n\u001b[1;32m     94\u001b[0m                     \u001b[39m\"\u001b[39m\u001b[39mThe default storage cannot be shared by multiple processes. \u001b[39m\u001b[39m\"\u001b[39m\n\u001b[1;32m     95\u001b[0m                     \u001b[39m\"\u001b[39m\u001b[39mPlease use an RDB (RDBStorage) when you use joblib for \u001b[39m\u001b[39m\"\u001b[39m\n\u001b[0;32m   (...)\u001b[0m\n\u001b[1;32m     98\u001b[0m                     \u001b[39mUserWarning\u001b[39;00m,\n\u001b[1;32m     99\u001b[0m                 )\n\u001b[0;32m--> 101\u001b[0m             parallel(\n\u001b[1;32m    102\u001b[0m                 delayed(_optimize_sequential)(\n\u001b[1;32m    103\u001b[0m                     study,\n\u001b[1;32m    104\u001b[0m                     func,\n\u001b[1;32m    105\u001b[0m                     \u001b[39m1\u001b[39;49m,\n\u001b[1;32m    106\u001b[0m                     timeout,\n\u001b[1;32m    107\u001b[0m                     catch,\n\u001b[1;32m    108\u001b[0m                     callbacks,\n\u001b[1;32m    109\u001b[0m                     gc_after_trial,\n\u001b[1;32m    110\u001b[0m                     reseed_sampler_rng\u001b[39m=\u001b[39;49m\u001b[39mTrue\u001b[39;49;00m,\n\u001b[1;32m    111\u001b[0m                     time_start\u001b[39m=\u001b[39;49mtime_start,\n\u001b[1;32m    112\u001b[0m                     progress_bar\u001b[39m=\u001b[39;49m\u001b[39mNone\u001b[39;49;00m,\n\u001b[1;32m    113\u001b[0m                 )\n\u001b[1;32m    114\u001b[0m                 \u001b[39mfor\u001b[39;49;00m _ \u001b[39min\u001b[39;49;00m _iter\n\u001b[1;32m    115\u001b[0m             )\n\u001b[1;32m    116\u001b[0m \u001b[39mfinally\u001b[39;00m:\n\u001b[1;32m    117\u001b[0m     study\u001b[39m.\u001b[39m_optimize_lock\u001b[39m.\u001b[39mrelease()\n",
      "File \u001b[0;32m~/miniconda3/envs/test/lib/python3.8/site-packages/joblib/parallel.py:1056\u001b[0m, in \u001b[0;36mParallel.__call__\u001b[0;34m(self, iterable)\u001b[0m\n\u001b[1;32m   1053\u001b[0m     \u001b[39mself\u001b[39m\u001b[39m.\u001b[39m_iterating \u001b[39m=\u001b[39m \u001b[39mFalse\u001b[39;00m\n\u001b[1;32m   1055\u001b[0m \u001b[39mwith\u001b[39;00m \u001b[39mself\u001b[39m\u001b[39m.\u001b[39m_backend\u001b[39m.\u001b[39mretrieval_context():\n\u001b[0;32m-> 1056\u001b[0m     \u001b[39mself\u001b[39;49m\u001b[39m.\u001b[39;49mretrieve()\n\u001b[1;32m   1057\u001b[0m \u001b[39m# Make sure that we get a last message telling us we are done\u001b[39;00m\n\u001b[1;32m   1058\u001b[0m elapsed_time \u001b[39m=\u001b[39m time\u001b[39m.\u001b[39mtime() \u001b[39m-\u001b[39m \u001b[39mself\u001b[39m\u001b[39m.\u001b[39m_start_time\n",
      "File \u001b[0;32m~/miniconda3/envs/test/lib/python3.8/site-packages/joblib/parallel.py:935\u001b[0m, in \u001b[0;36mParallel.retrieve\u001b[0;34m(self)\u001b[0m\n\u001b[1;32m    933\u001b[0m \u001b[39mtry\u001b[39;00m:\n\u001b[1;32m    934\u001b[0m     \u001b[39mif\u001b[39;00m \u001b[39mgetattr\u001b[39m(\u001b[39mself\u001b[39m\u001b[39m.\u001b[39m_backend, \u001b[39m'\u001b[39m\u001b[39msupports_timeout\u001b[39m\u001b[39m'\u001b[39m, \u001b[39mFalse\u001b[39;00m):\n\u001b[0;32m--> 935\u001b[0m         \u001b[39mself\u001b[39m\u001b[39m.\u001b[39m_output\u001b[39m.\u001b[39mextend(job\u001b[39m.\u001b[39;49mget(timeout\u001b[39m=\u001b[39;49m\u001b[39mself\u001b[39;49m\u001b[39m.\u001b[39;49mtimeout))\n\u001b[1;32m    936\u001b[0m     \u001b[39melse\u001b[39;00m:\n\u001b[1;32m    937\u001b[0m         \u001b[39mself\u001b[39m\u001b[39m.\u001b[39m_output\u001b[39m.\u001b[39mextend(job\u001b[39m.\u001b[39mget())\n",
      "File \u001b[0;32m~/miniconda3/envs/test/lib/python3.8/concurrent/futures/_base.py:444\u001b[0m, in \u001b[0;36mFuture.result\u001b[0;34m(self, timeout)\u001b[0m\n\u001b[1;32m    442\u001b[0m     \u001b[39mraise\u001b[39;00m CancelledError()\n\u001b[1;32m    443\u001b[0m \u001b[39melif\u001b[39;00m \u001b[39mself\u001b[39m\u001b[39m.\u001b[39m_state \u001b[39m==\u001b[39m FINISHED:\n\u001b[0;32m--> 444\u001b[0m     \u001b[39mreturn\u001b[39;00m \u001b[39mself\u001b[39;49m\u001b[39m.\u001b[39;49m__get_result()\n\u001b[1;32m    445\u001b[0m \u001b[39melse\u001b[39;00m:\n\u001b[1;32m    446\u001b[0m     \u001b[39mraise\u001b[39;00m \u001b[39mTimeoutError\u001b[39;00m()\n",
      "File \u001b[0;32m~/miniconda3/envs/test/lib/python3.8/concurrent/futures/_base.py:389\u001b[0m, in \u001b[0;36mFuture.__get_result\u001b[0;34m(self)\u001b[0m\n\u001b[1;32m    387\u001b[0m \u001b[39mif\u001b[39;00m \u001b[39mself\u001b[39m\u001b[39m.\u001b[39m_exception:\n\u001b[1;32m    388\u001b[0m     \u001b[39mtry\u001b[39;00m:\n\u001b[0;32m--> 389\u001b[0m         \u001b[39mraise\u001b[39;00m \u001b[39mself\u001b[39m\u001b[39m.\u001b[39m_exception\n\u001b[1;32m    390\u001b[0m     \u001b[39mfinally\u001b[39;00m:\n\u001b[1;32m    391\u001b[0m         \u001b[39m# Break a reference cycle with the exception in self._exception\u001b[39;00m\n\u001b[1;32m    392\u001b[0m         \u001b[39mself\u001b[39m \u001b[39m=\u001b[39m \u001b[39mNone\u001b[39;00m\n",
      "\u001b[0;31mKilledWorker\u001b[0m: ('batch_of__optimize_sequential_1_calls-7b7a0d545efe4f8e8d39b11a71a4f6f4', <WorkerState 'tcp://127.0.0.1:41277', name: 3, status: closed, memory: 0, processing: 9>)"
     ]
    }
   ],
   "source": [
    "brisk_xgb.fetch_model()"
   ]
  },
  {
   "cell_type": "code",
   "execution_count": null,
   "metadata": {},
   "outputs": [],
   "source": [
    "brisk_xgb.score"
   ]
  },
  {
   "cell_type": "code",
   "execution_count": null,
   "metadata": {},
   "outputs": [
    {
     "name": "stdout",
     "output_type": "stream",
     "text": [
      "2022-11-02 08:51:18,514 - console_info - INFO - no model attached as per your selection threshold. Lower the threshold in the 'load_score' function.\n",
      "2022-11-02 08:51:18,514 - console_info - INFO - no model attached as per your selection threshold. Lower the threshold in the 'load_score' function.\n"
     ]
    },
    {
     "name": "stderr",
     "output_type": "stream",
     "text": [
      "/home/vagrant/miniconda3/envs/test/lib/python3.8/site-packages/sklearn/metrics/_regression.py:90: FutureWarning: Arrays of bytes/strings is being converted to decimal numbers if dtype='numeric'. This behavior is deprecated in 0.24 and will be removed in 1.1 (renaming of 0.26). Please convert your data to numeric values explicitly instead.\n",
      "  y_true = check_array(y_true, ensure_2d=False, dtype=dtype)\n"
     ]
    },
    {
     "ename": "ValueError",
     "evalue": "Input contains NaN, infinity or a value too large for dtype('float64').",
     "output_type": "error",
     "traceback": [
      "\u001b[0;31m---------------------------------------------------------------------------\u001b[0m",
      "\u001b[0;31mValueError\u001b[0m                                Traceback (most recent call last)",
      "\u001b[1;32m/mnt/c/Users/rwmas/GitHub/xai/xai_api/app/notebooks/covid/covid_brisk_xgboost.ipynb Cell 10\u001b[0m in \u001b[0;36m<cell line: 2>\u001b[0;34m()\u001b[0m\n\u001b[1;32m      <a href='vscode-notebook-cell://wsl%2Bubuntu/mnt/c/Users/rwmas/GitHub/xai/xai_api/app/notebooks/covid/covid_brisk_xgboost.ipynb#X20sdnNjb2RlLXJlbW90ZQ%3D%3D?line=0'>1</a>\u001b[0m pred \u001b[39m=\u001b[39m brisk_xgb\u001b[39m.\u001b[39mpredict(X)\n\u001b[0;32m----> <a href='vscode-notebook-cell://wsl%2Bubuntu/mnt/c/Users/rwmas/GitHub/xai/xai_api/app/notebooks/covid/covid_brisk_xgboost.ipynb#X20sdnNjb2RlLXJlbW90ZQ%3D%3D?line=1'>2</a>\u001b[0m r2_score(pred, y)\n",
      "File \u001b[0;32m~/miniconda3/envs/test/lib/python3.8/site-packages/sklearn/metrics/_regression.py:774\u001b[0m, in \u001b[0;36mr2_score\u001b[0;34m(y_true, y_pred, sample_weight, multioutput)\u001b[0m\n\u001b[1;32m    687\u001b[0m \u001b[39mdef\u001b[39;00m \u001b[39mr2_score\u001b[39m(y_true, y_pred, \u001b[39m*\u001b[39m, sample_weight\u001b[39m=\u001b[39m\u001b[39mNone\u001b[39;00m, multioutput\u001b[39m=\u001b[39m\u001b[39m\"\u001b[39m\u001b[39muniform_average\u001b[39m\u001b[39m\"\u001b[39m):\n\u001b[1;32m    688\u001b[0m     \u001b[39m\"\"\":math:`R^2` (coefficient of determination) regression score function.\u001b[39;00m\n\u001b[1;32m    689\u001b[0m \n\u001b[1;32m    690\u001b[0m \u001b[39m    Best possible score is 1.0 and it can be negative (because the\u001b[39;00m\n\u001b[0;32m   (...)\u001b[0m\n\u001b[1;32m    772\u001b[0m \u001b[39m    -3.0\u001b[39;00m\n\u001b[1;32m    773\u001b[0m \u001b[39m    \"\"\"\u001b[39;00m\n\u001b[0;32m--> 774\u001b[0m     y_type, y_true, y_pred, multioutput \u001b[39m=\u001b[39m _check_reg_targets(\n\u001b[1;32m    775\u001b[0m         y_true, y_pred, multioutput\n\u001b[1;32m    776\u001b[0m     )\n\u001b[1;32m    777\u001b[0m     check_consistent_length(y_true, y_pred, sample_weight)\n\u001b[1;32m    779\u001b[0m     \u001b[39mif\u001b[39;00m _num_samples(y_pred) \u001b[39m<\u001b[39m \u001b[39m2\u001b[39m:\n",
      "File \u001b[0;32m~/miniconda3/envs/test/lib/python3.8/site-packages/sklearn/metrics/_regression.py:90\u001b[0m, in \u001b[0;36m_check_reg_targets\u001b[0;34m(y_true, y_pred, multioutput, dtype)\u001b[0m\n\u001b[1;32m     56\u001b[0m \u001b[39m\"\"\"Check that y_true and y_pred belong to the same regression task.\u001b[39;00m\n\u001b[1;32m     57\u001b[0m \n\u001b[1;32m     58\u001b[0m \u001b[39mParameters\u001b[39;00m\n\u001b[0;32m   (...)\u001b[0m\n\u001b[1;32m     87\u001b[0m \u001b[39m    the dtype argument passed to check_array.\u001b[39;00m\n\u001b[1;32m     88\u001b[0m \u001b[39m\"\"\"\u001b[39;00m\n\u001b[1;32m     89\u001b[0m check_consistent_length(y_true, y_pred)\n\u001b[0;32m---> 90\u001b[0m y_true \u001b[39m=\u001b[39m check_array(y_true, ensure_2d\u001b[39m=\u001b[39;49m\u001b[39mFalse\u001b[39;49;00m, dtype\u001b[39m=\u001b[39;49mdtype)\n\u001b[1;32m     91\u001b[0m y_pred \u001b[39m=\u001b[39m check_array(y_pred, ensure_2d\u001b[39m=\u001b[39m\u001b[39mFalse\u001b[39;00m, dtype\u001b[39m=\u001b[39mdtype)\n\u001b[1;32m     93\u001b[0m \u001b[39mif\u001b[39;00m y_true\u001b[39m.\u001b[39mndim \u001b[39m==\u001b[39m \u001b[39m1\u001b[39m:\n",
      "File \u001b[0;32m~/miniconda3/envs/test/lib/python3.8/site-packages/sklearn/utils/validation.py:792\u001b[0m, in \u001b[0;36mcheck_array\u001b[0;34m(array, accept_sparse, accept_large_sparse, dtype, order, copy, force_all_finite, ensure_2d, allow_nd, ensure_min_samples, ensure_min_features, estimator)\u001b[0m\n\u001b[1;32m    786\u001b[0m         \u001b[39mraise\u001b[39;00m \u001b[39mValueError\u001b[39;00m(\n\u001b[1;32m    787\u001b[0m             \u001b[39m\"\u001b[39m\u001b[39mFound array with dim \u001b[39m\u001b[39m%d\u001b[39;00m\u001b[39m. \u001b[39m\u001b[39m%s\u001b[39;00m\u001b[39m expected <= 2.\u001b[39m\u001b[39m\"\u001b[39m\n\u001b[1;32m    788\u001b[0m             \u001b[39m%\u001b[39m (array\u001b[39m.\u001b[39mndim, estimator_name)\n\u001b[1;32m    789\u001b[0m         )\n\u001b[1;32m    791\u001b[0m     \u001b[39mif\u001b[39;00m force_all_finite:\n\u001b[0;32m--> 792\u001b[0m         _assert_all_finite(array, allow_nan\u001b[39m=\u001b[39;49mforce_all_finite \u001b[39m==\u001b[39;49m \u001b[39m\"\u001b[39;49m\u001b[39mallow-nan\u001b[39;49m\u001b[39m\"\u001b[39;49m)\n\u001b[1;32m    794\u001b[0m \u001b[39mif\u001b[39;00m ensure_min_samples \u001b[39m>\u001b[39m \u001b[39m0\u001b[39m:\n\u001b[1;32m    795\u001b[0m     n_samples \u001b[39m=\u001b[39m _num_samples(array)\n",
      "File \u001b[0;32m~/miniconda3/envs/test/lib/python3.8/site-packages/sklearn/utils/validation.py:114\u001b[0m, in \u001b[0;36m_assert_all_finite\u001b[0;34m(X, allow_nan, msg_dtype)\u001b[0m\n\u001b[1;32m    107\u001b[0m     \u001b[39mif\u001b[39;00m (\n\u001b[1;32m    108\u001b[0m         allow_nan\n\u001b[1;32m    109\u001b[0m         \u001b[39mand\u001b[39;00m np\u001b[39m.\u001b[39misinf(X)\u001b[39m.\u001b[39many()\n\u001b[1;32m    110\u001b[0m         \u001b[39mor\u001b[39;00m \u001b[39mnot\u001b[39;00m allow_nan\n\u001b[1;32m    111\u001b[0m         \u001b[39mand\u001b[39;00m \u001b[39mnot\u001b[39;00m np\u001b[39m.\u001b[39misfinite(X)\u001b[39m.\u001b[39mall()\n\u001b[1;32m    112\u001b[0m     ):\n\u001b[1;32m    113\u001b[0m         type_err \u001b[39m=\u001b[39m \u001b[39m\"\u001b[39m\u001b[39minfinity\u001b[39m\u001b[39m\"\u001b[39m \u001b[39mif\u001b[39;00m allow_nan \u001b[39melse\u001b[39;00m \u001b[39m\"\u001b[39m\u001b[39mNaN, infinity\u001b[39m\u001b[39m\"\u001b[39m\n\u001b[0;32m--> 114\u001b[0m         \u001b[39mraise\u001b[39;00m \u001b[39mValueError\u001b[39;00m(\n\u001b[1;32m    115\u001b[0m             msg_err\u001b[39m.\u001b[39mformat(\n\u001b[1;32m    116\u001b[0m                 type_err, msg_dtype \u001b[39mif\u001b[39;00m msg_dtype \u001b[39mis\u001b[39;00m \u001b[39mnot\u001b[39;00m \u001b[39mNone\u001b[39;00m \u001b[39melse\u001b[39;00m X\u001b[39m.\u001b[39mdtype\n\u001b[1;32m    117\u001b[0m             )\n\u001b[1;32m    118\u001b[0m         )\n\u001b[1;32m    119\u001b[0m \u001b[39m# for object dtype data, we only check for NaNs (GH-13254)\u001b[39;00m\n\u001b[1;32m    120\u001b[0m \u001b[39melif\u001b[39;00m X\u001b[39m.\u001b[39mdtype \u001b[39m==\u001b[39m np\u001b[39m.\u001b[39mdtype(\u001b[39m\"\u001b[39m\u001b[39mobject\u001b[39m\u001b[39m\"\u001b[39m) \u001b[39mand\u001b[39;00m \u001b[39mnot\u001b[39;00m allow_nan:\n",
      "\u001b[0;31mValueError\u001b[0m: Input contains NaN, infinity or a value too large for dtype('float64')."
     ]
    }
   ],
   "source": [
    "pred = brisk_xgb.predict(X)\n",
    "r2_score(pred, y)\n"
   ]
  },
  {
   "cell_type": "code",
   "execution_count": null,
   "metadata": {},
   "outputs": [
    {
     "name": "stdout",
     "output_type": "stream",
     "text": [
      "2022-11-02 08:51:33,690 - console_info - INFO - No train/test dataset found, pls explicity set the parameters.\n",
      "2022-11-02 08:51:33,690 - console_info - INFO - No train/test dataset found, pls explicity set the parameters.\n"
     ]
    }
   ],
   "source": [
    "brisk_xgb.load_score(threshold=0.1)"
   ]
  },
  {
   "cell_type": "code",
   "execution_count": null,
   "metadata": {},
   "outputs": [],
   "source": [
    "brisk_xgb.score"
   ]
  },
  {
   "cell_type": "code",
   "execution_count": null,
   "metadata": {},
   "outputs": [],
   "source": [
    "pred = brisk_xgb.predict(X)\n",
    "r2_score(pred, y)"
   ]
  },
  {
   "cell_type": "code",
   "execution_count": 88,
   "metadata": {},
   "outputs": [],
   "source": [
    "# brisk_xgb.empty_media()\n",
    "common.save_state(brisk_xgb, brisk_xgb.model_file_name + '.pickle')"
   ]
  },
  {
   "cell_type": "code",
   "execution_count": 90,
   "metadata": {},
   "outputs": [],
   "source": [
    "brisk_xgb_reinstate = common.load_state('brisk_xgb.pickle')"
   ]
  },
  {
   "cell_type": "code",
   "execution_count": 92,
   "metadata": {},
   "outputs": [
    {
     "data": {
      "text/plain": [
       "<xgboost.core.Booster at 0x7fcfdc960f10>"
      ]
     },
     "execution_count": 92,
     "metadata": {},
     "output_type": "execute_result"
    }
   ],
   "source": [
    "brisk_xgb_reinstate.model"
   ]
  },
  {
   "cell_type": "code",
   "execution_count": 83,
   "metadata": {},
   "outputs": [
    {
     "data": {
      "text/plain": [
       "[0.8407577960522394, 0.617642137858559]"
      ]
     },
     "execution_count": 83,
     "metadata": {},
     "output_type": "execute_result"
    }
   ],
   "source": [
    "brisk_xgb_reinstate.load_score()"
   ]
  },
  {
   "cell_type": "code",
   "execution_count": 84,
   "metadata": {},
   "outputs": [
    {
     "data": {
      "text/plain": [
       "<xgboost.core.Booster at 0x7fcfc379b6a0>"
      ]
     },
     "execution_count": 84,
     "metadata": {},
     "output_type": "execute_result"
    }
   ],
   "source": [
    "brisk_xgb_reinstate.best_fit"
   ]
  },
  {
   "cell_type": "code",
   "execution_count": 87,
   "metadata": {},
   "outputs": [
    {
     "data": {
      "text/plain": [
       "0.5035198649364854"
      ]
     },
     "execution_count": 87,
     "metadata": {},
     "output_type": "execute_result"
    }
   ],
   "source": [
    "pred = brisk_xgb_reinstate.predict(X)\n",
    "r2_score(pred, y)\n"
   ]
  },
  {
   "cell_type": "code",
   "execution_count": null,
   "metadata": {},
   "outputs": [],
   "source": []
  }
 ],
 "metadata": {
  "kernelspec": {
   "display_name": "Python 3.8.13 ('test')",
   "language": "python",
   "name": "python3"
  },
  "language_info": {
   "codemirror_mode": {
    "name": "ipython",
    "version": 3
   },
   "file_extension": ".py",
   "mimetype": "text/x-python",
   "name": "python",
   "nbconvert_exporter": "python",
   "pygments_lexer": "ipython3",
   "version": "3.8.13"
  },
  "orig_nbformat": 4,
  "vscode": {
   "interpreter": {
    "hash": "b6ff7914d2bc405bfa61a835d0564ba294eb5f3f9b4c24865f45d9397593b123"
   }
  }
 },
 "nbformat": 4,
 "nbformat_minor": 2
}
