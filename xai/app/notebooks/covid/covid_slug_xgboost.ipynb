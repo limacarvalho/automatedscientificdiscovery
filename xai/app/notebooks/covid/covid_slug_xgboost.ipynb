{
 "cells": [
  {
   "cell_type": "code",
   "execution_count": 2,
   "metadata": {},
   "outputs": [],
   "source": [
    "%load_ext autoreload\n",
    "%autoreload 2"
   ]
  },
  {
   "cell_type": "code",
   "execution_count": 3,
   "metadata": {},
   "outputs": [],
   "source": [
    "import sys; sys.path.insert(0, '../..') # add parent folder path where lib folder is"
   ]
  },
  {
   "cell_type": "code",
   "execution_count": 4,
   "metadata": {},
   "outputs": [
    {
     "name": "stdout",
     "output_type": "stream",
     "text": [
      "2022-11-02 11:30:11,676 - matplotlib - DEBUG - matplotlib data path: /home/vagrant/miniconda3/envs/test/lib/python3.8/site-packages/matplotlib/mpl-data\n",
      "2022-11-02 11:30:11,697 - matplotlib - DEBUG - CONFIGDIR=/home/vagrant/.config/matplotlib\n",
      "2022-11-02 11:30:11,708 - matplotlib - DEBUG - interactive is False\n",
      "2022-11-02 11:30:11,712 - matplotlib - DEBUG - platform is linux\n",
      "2022-11-02 11:30:11,902 - matplotlib - DEBUG - CACHEDIR=/home/vagrant/.cache/matplotlib\n",
      "2022-11-02 11:30:11,906 - matplotlib.font_manager - DEBUG - Using fontManager instance from /home/vagrant/.cache/matplotlib/fontlist-v330.json\n"
     ]
    }
   ],
   "source": [
    "\n",
    "from utils import dasker, helper, config\n",
    "from ml.models.base.slug_xgboost import SlugXGBoost\n",
    "from sklearn.model_selection import train_test_split\n",
    "\n",
    "from sklearn.metrics import r2_score, mean_squared_error\n",
    "from sklearn.metrics import f1_score, roc_auc_score, precision_score, recall_score\n",
    "from ml.models import common\n"
   ]
  },
  {
   "cell_type": "code",
   "execution_count": 4,
   "metadata": {},
   "outputs": [
    {
     "name": "stdout",
     "output_type": "stream",
     "text": [
      "2022-11-02 09:35:09,538 - asyncio - DEBUG - Using selector: EpollSelector\n"
     ]
    },
    {
     "name": "stderr",
     "output_type": "stream",
     "text": [
      "2022-11-02 09:35:10,771 - distributed.diskutils - INFO - Found stale lock file and directory '/tmp/dask-worker-space/worker-a440e18j', purging\n",
      "2022-11-02 09:35:10,772 - distributed.diskutils - INFO - Found stale lock file and directory '/tmp/dask-worker-space/worker-f44syhdu', purging\n",
      "2022-11-02 09:35:10,772 - distributed.diskutils - INFO - Found stale lock file and directory '/tmp/dask-worker-space/worker-c84bxtuv', purging\n",
      "2022-11-02 09:35:10,772 - distributed.diskutils - INFO - Found stale lock file and directory '/tmp/dask-worker-space/worker-jwtrjxq9', purging\n"
     ]
    }
   ],
   "source": [
    "client = dasker.get_local_client()"
   ]
  },
  {
   "cell_type": "code",
   "execution_count": 5,
   "metadata": {},
   "outputs": [],
   "source": [
    "X, y = helper.get_covid_dataset()\n",
    "X = X.drop(['location'], axis = 1)\n",
    "X_train, X_test, y_train, y_test = train_test_split(X, y, test_size=0.33)"
   ]
  },
  {
   "cell_type": "code",
   "execution_count": 6,
   "metadata": {},
   "outputs": [],
   "source": [
    "config.project_name = '/covid_slug_xgboost'"
   ]
  },
  {
   "cell_type": "code",
   "execution_count": 26,
   "metadata": {},
   "outputs": [],
   "source": [
    "\n",
    "slug_xgb = SlugXGBoost('slug_xgb', X_train, X_test, y_train, y_test, timeout=None)\n",
    "slug_xgb.boosted_round = 200\n"
   ]
  },
  {
   "cell_type": "code",
   "execution_count": 27,
   "metadata": {},
   "outputs": [
    {
     "name": "stdout",
     "output_type": "stream",
     "text": [
      "2022-11-02 09:53:02,950 - console_info - INFO - slug_xgb: Starting training for trials:300, boosted rounds: 200, max depth: 10\n",
      "2022-11-02 09:53:02,950 - console_info - INFO - slug_xgb: Starting training for trials:300, boosted rounds: 200, max depth: 10\n",
      "2022-11-02 09:54:10,768 - console_info - INFO - slug_xgb: Number of trials: 300\n",
      "2022-11-02 09:54:10,768 - console_info - INFO - slug_xgb: Number of trials: 300\n",
      "2022-11-02 09:54:10,823 - console_info - INFO - Best trial:249\n",
      "2022-11-02 09:54:10,823 - console_info - INFO - Best trial:249\n",
      "2022-11-02 09:54:10,826 - console_info - INFO -   Params: \n",
      "2022-11-02 09:54:10,826 - console_info - INFO -   Params: \n",
      "2022-11-02 09:54:10,884 - console_info - INFO -     lambda 0.0026214233263390035\n",
      "2022-11-02 09:54:10,884 - console_info - INFO -     lambda 0.0026214233263390035\n",
      "2022-11-02 09:54:10,886 - console_info - INFO -     alpha 0.001457637159290506\n",
      "2022-11-02 09:54:10,886 - console_info - INFO -     alpha 0.001457637159290506\n",
      "2022-11-02 09:54:10,890 - console_info - INFO -     eta 0.0010013922532887683\n",
      "2022-11-02 09:54:10,890 - console_info - INFO -     eta 0.0010013922532887683\n",
      "2022-11-02 09:54:10,893 - console_info - INFO -     gamma 2.8885413119110877\n",
      "2022-11-02 09:54:10,893 - console_info - INFO -     gamma 2.8885413119110877\n",
      "2022-11-02 09:54:10,898 - console_info - INFO -     grow_policy depthwise\n",
      "2022-11-02 09:54:10,898 - console_info - INFO -     grow_policy depthwise\n",
      "2022-11-02 09:54:10,901 - console_info - INFO -     max_depth 7\n",
      "2022-11-02 09:54:10,901 - console_info - INFO -     max_depth 7\n",
      "2022-11-02 09:54:10,904 - console_info - INFO -     colsample_bytree 0.0014997993324256905\n",
      "2022-11-02 09:54:10,904 - console_info - INFO -     colsample_bytree 0.0014997993324256905\n",
      "2022-11-02 09:54:10,908 - console_info - INFO -     colsample_bylevel 0.16637260112327318\n",
      "2022-11-02 09:54:10,908 - console_info - INFO -     colsample_bylevel 0.16637260112327318\n",
      "2022-11-02 09:54:10,911 - console_info - INFO -     colsample_bynode 0.012981192313256038\n",
      "2022-11-02 09:54:10,911 - console_info - INFO -     colsample_bynode 0.012981192313256038\n",
      "2022-11-02 09:54:10,915 - console_info - INFO -     max_bin 4096\n",
      "2022-11-02 09:54:10,915 - console_info - INFO -     max_bin 4096\n",
      "2022-11-02 09:54:11,009 - console_info - INFO -   test r2 score: -0.727025228729653\n",
      "2022-11-02 09:54:11,009 - console_info - INFO -   test r2 score: -0.727025228729653\n",
      "2022-11-02 09:54:11,013 - console_info - INFO - slug_xgb: Model saved at /mnt/c/Users/rwmas/GitHub/xai/xai_api/app/ml/models/saved/covid_slug_xgboost/slug_xgb/saved/slug_xgb_249.pickle\n",
      "2022-11-02 09:54:11,013 - console_info - INFO - slug_xgb: Model saved at /mnt/c/Users/rwmas/GitHub/xai/xai_api/app/ml/models/saved/covid_slug_xgboost/slug_xgb/saved/slug_xgb_249.pickle\n"
     ]
    },
    {
     "data": {
      "text/plain": [
       "<xgboost.core.Booster at 0x7fce9ec5ea30>"
      ]
     },
     "execution_count": 27,
     "metadata": {},
     "output_type": "execute_result"
    }
   ],
   "source": [
    "slug_xgb.fetch_model()"
   ]
  },
  {
   "cell_type": "code",
   "execution_count": 29,
   "metadata": {},
   "outputs": [
    {
     "data": {
      "text/plain": [
       "[-0.7798890115616779, -0.727025228729653]"
      ]
     },
     "execution_count": 29,
     "metadata": {},
     "output_type": "execute_result"
    }
   ],
   "source": [
    "slug_xgb.score"
   ]
  },
  {
   "cell_type": "code",
   "execution_count": 30,
   "metadata": {},
   "outputs": [
    {
     "data": {
      "text/plain": [
       "-209433243529.78366"
      ]
     },
     "execution_count": 30,
     "metadata": {},
     "output_type": "execute_result"
    }
   ],
   "source": [
    "pred = slug_xgb.predict(X)\n",
    "r2_score(pred, y)\n"
   ]
  },
  {
   "cell_type": "code",
   "execution_count": 25,
   "metadata": {},
   "outputs": [],
   "source": [
    "slug_xgb.load_score(threshold=0.1)\n",
    "slug_xgb.score"
   ]
  },
  {
   "cell_type": "code",
   "execution_count": null,
   "metadata": {},
   "outputs": [],
   "source": []
  }
 ],
 "metadata": {
  "kernelspec": {
   "display_name": "Python 3.8.13 ('test')",
   "language": "python",
   "name": "python3"
  },
  "language_info": {
   "codemirror_mode": {
    "name": "ipython",
    "version": 3
   },
   "file_extension": ".py",
   "mimetype": "text/x-python",
   "name": "python",
   "nbconvert_exporter": "python",
   "pygments_lexer": "ipython3",
   "version": "3.8.13"
  },
  "orig_nbformat": 4,
  "vscode": {
   "interpreter": {
    "hash": "b6ff7914d2bc405bfa61a835d0564ba294eb5f3f9b4c24865f45d9397593b123"
   }
  }
 },
 "nbformat": 4,
 "nbformat_minor": 2
}
