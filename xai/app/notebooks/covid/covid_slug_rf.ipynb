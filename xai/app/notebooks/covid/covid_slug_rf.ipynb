{
 "cells": [
  {
   "cell_type": "code",
   "execution_count": 1,
   "metadata": {},
   "outputs": [],
   "source": [
    "%load_ext autoreload\n",
    "%autoreload 2"
   ]
  },
  {
   "cell_type": "code",
   "execution_count": 2,
   "metadata": {},
   "outputs": [],
   "source": [
    "import sys; sys.path.insert(0, '../..') # add parent folder path where lib folder is"
   ]
  },
  {
   "cell_type": "code",
   "execution_count": 3,
   "metadata": {},
   "outputs": [
    {
     "name": "stdout",
     "output_type": "stream",
     "text": [
      "2022-11-02 11:35:41,897 - matplotlib - DEBUG - matplotlib data path: /home/vagrant/miniconda3/envs/test/lib/python3.8/site-packages/matplotlib/mpl-data\n",
      "2022-11-02 11:35:41,905 - matplotlib - DEBUG - CONFIGDIR=/home/vagrant/.config/matplotlib\n",
      "2022-11-02 11:35:41,908 - matplotlib - DEBUG - interactive is False\n",
      "2022-11-02 11:35:41,911 - matplotlib - DEBUG - platform is linux\n",
      "2022-11-02 11:35:42,004 - matplotlib - DEBUG - CACHEDIR=/home/vagrant/.cache/matplotlib\n",
      "2022-11-02 11:35:42,007 - matplotlib.font_manager - DEBUG - Using fontManager instance from /home/vagrant/.cache/matplotlib/fontlist-v330.json\n"
     ]
    }
   ],
   "source": [
    "\n",
    "from utils import dasker, helper, config\n",
    "from ml.models.base.slug_rf import SlugRF\n",
    "from dask_ml.model_selection import train_test_split\n",
    "\n",
    "from sklearn.metrics import r2_score, mean_squared_error\n",
    "from sklearn.metrics import f1_score, roc_auc_score, precision_score, recall_score\n",
    "from ml.models import common\n"
   ]
  },
  {
   "cell_type": "code",
   "execution_count": 4,
   "metadata": {},
   "outputs": [
    {
     "name": "stdout",
     "output_type": "stream",
     "text": [
      "2022-11-02 11:35:44,593 - asyncio - DEBUG - Using selector: EpollSelector\n"
     ]
    },
    {
     "name": "stderr",
     "output_type": "stream",
     "text": [
      "2022-11-02 11:35:45,942 - distributed.diskutils - INFO - Found stale lock file and directory '/tmp/dask-worker-space/worker-kriuo598', purging\n",
      "2022-11-02 11:35:45,942 - distributed.diskutils - INFO - Found stale lock file and directory '/tmp/dask-worker-space/worker-7sg69_1y', purging\n",
      "2022-11-02 11:35:45,943 - distributed.diskutils - INFO - Found stale lock file and directory '/tmp/dask-worker-space/worker-wx9et844', purging\n",
      "2022-11-02 11:35:45,943 - distributed.diskutils - INFO - Found stale lock file and directory '/tmp/dask-worker-space/worker-wnoc16db', purging\n"
     ]
    }
   ],
   "source": [
    "client = dasker.get_local_client()"
   ]
  },
  {
   "cell_type": "code",
   "execution_count": 5,
   "metadata": {},
   "outputs": [],
   "source": [
    "X, y = helper.get_covid_dataset()\n",
    "X = X.drop(['location'], axis = 1)\n",
    "X_train, X_test, y_train, y_test = train_test_split(X, y, test_size=0.33)"
   ]
  },
  {
   "cell_type": "code",
   "execution_count": 6,
   "metadata": {},
   "outputs": [],
   "source": [
    "config.project_name = '/covid_slug_rf'"
   ]
  },
  {
   "cell_type": "code",
   "execution_count": 9,
   "metadata": {},
   "outputs": [],
   "source": [
    "slug_rf = SlugRF('slug_rf', X_train, X_test, y_train, y_test, timeout=None)\n"
   ]
  },
  {
   "cell_type": "code",
   "execution_count": 10,
   "metadata": {},
   "outputs": [
    {
     "name": "stdout",
     "output_type": "stream",
     "text": [
      "2022-11-02 11:47:19,994 - console_info - INFO - slug_rf: Starting training for trials:300, boosted rounds: 10, max depth: 30\n",
      "2022-11-02 11:47:19,994 - console_info - INFO - slug_rf: Starting training for trials:300, boosted rounds: 10, max depth: 30\n",
      "2022-11-02 11:53:08,970 - console_info - INFO - slug_rf: Number of trials: 300\n",
      "2022-11-02 11:53:08,970 - console_info - INFO - slug_rf: Number of trials: 300\n",
      "2022-11-02 11:53:09,043 - console_info - INFO - Best trial:120\n",
      "2022-11-02 11:53:09,043 - console_info - INFO - Best trial:120\n",
      "2022-11-02 11:53:09,047 - console_info - INFO -   Params: \n",
      "2022-11-02 11:53:09,047 - console_info - INFO -   Params: \n",
      "2022-11-02 11:53:09,106 - console_info - INFO -     n_estimators 186\n",
      "2022-11-02 11:53:09,106 - console_info - INFO -     n_estimators 186\n",
      "2022-11-02 11:53:09,111 - console_info - INFO -     max_depth 15\n",
      "2022-11-02 11:53:09,111 - console_info - INFO -     max_depth 15\n",
      "2022-11-02 11:53:09,114 - console_info - INFO -     min_samples_split 116\n",
      "2022-11-02 11:53:09,114 - console_info - INFO -     min_samples_split 116\n",
      "2022-11-02 11:53:09,119 - console_info - INFO -     min_samples_leaf 12\n",
      "2022-11-02 11:53:09,119 - console_info - INFO -     min_samples_leaf 12\n",
      "2022-11-02 11:53:09,276 - console_info - INFO -   test r2 score: -0.11474076243661635\n",
      "2022-11-02 11:53:09,276 - console_info - INFO -   test r2 score: -0.11474076243661635\n",
      "2022-11-02 11:53:09,281 - console_info - INFO - slug_rf: Model saved at /mnt/c/Users/rwmas/GitHub/xai/xai_api/app/ml/models/saved/covid_slug_rf/slug_rf/saved/slug_rf_120.pickle\n",
      "2022-11-02 11:53:09,281 - console_info - INFO - slug_rf: Model saved at /mnt/c/Users/rwmas/GitHub/xai/xai_api/app/ml/models/saved/covid_slug_rf/slug_rf/saved/slug_rf_120.pickle\n"
     ]
    },
    {
     "data": {
      "text/plain": [
       "RandomForestRegressor(max_depth=15, min_samples_leaf=12, min_samples_split=116,\n",
       "                      n_estimators=186, random_state=0)"
      ]
     },
     "execution_count": 10,
     "metadata": {},
     "output_type": "execute_result"
    }
   ],
   "source": [
    "slug_rf.fetch_model()"
   ]
  },
  {
   "cell_type": "code",
   "execution_count": 35,
   "metadata": {},
   "outputs": [
    {
     "data": {
      "text/plain": [
       "[-6.207171436334313e-05, -0.11474076243661635]"
      ]
     },
     "execution_count": 35,
     "metadata": {},
     "output_type": "execute_result"
    }
   ],
   "source": [
    "\n",
    "slug_rf.score"
   ]
  },
  {
   "cell_type": "code",
   "execution_count": 16,
   "metadata": {},
   "outputs": [
    {
     "data": {
      "text/plain": [
       "-6.674676252842015e+30"
      ]
     },
     "execution_count": 16,
     "metadata": {},
     "output_type": "execute_result"
    }
   ],
   "source": [
    "pred = slug_rf.predict(X)\n",
    "r2_score(pred, y)\n"
   ]
  },
  {
   "cell_type": "code",
   "execution_count": 19,
   "metadata": {},
   "outputs": [
    {
     "data": {
      "text/plain": [
       "[-6.207171436334313e-05, -0.11474076243661635]"
      ]
     },
     "execution_count": 19,
     "metadata": {},
     "output_type": "execute_result"
    }
   ],
   "source": [
    "threshold=0.1\n",
    "slug_rf.load_score()"
   ]
  },
  {
   "cell_type": "code",
   "execution_count": 29,
   "metadata": {},
   "outputs": [
    {
     "data": {
      "text/plain": [
       "[-6.207171436334313e-05, -0.11474076243661635]"
      ]
     },
     "execution_count": 29,
     "metadata": {},
     "output_type": "execute_result"
    }
   ],
   "source": [
    "slug_rf.score"
   ]
  },
  {
   "cell_type": "code",
   "execution_count": 21,
   "metadata": {},
   "outputs": [
    {
     "data": {
      "text/plain": [
       "-6.674676252842015e+30"
      ]
     },
     "execution_count": 21,
     "metadata": {},
     "output_type": "execute_result"
    }
   ],
   "source": [
    "pred = slug_rf.predict(X)\n",
    "r2_score(pred, y)"
   ]
  },
  {
   "cell_type": "code",
   "execution_count": 22,
   "metadata": {},
   "outputs": [],
   "source": [
    "# brisk_xgb.empty_media()\n",
    "common.save_state(slug_rf, slug_rf.model_file_name + '.pickle')"
   ]
  },
  {
   "cell_type": "code",
   "execution_count": 30,
   "metadata": {},
   "outputs": [],
   "source": [
    "slug_rf_reinstate = common.load_state('slug_rf.pickle')"
   ]
  },
  {
   "cell_type": "code",
   "execution_count": 31,
   "metadata": {},
   "outputs": [
    {
     "data": {
      "text/plain": [
       "RandomForestRegressor(max_depth=15, min_samples_leaf=12, min_samples_split=116,\n",
       "                      n_estimators=186, random_state=0)"
      ]
     },
     "execution_count": 31,
     "metadata": {},
     "output_type": "execute_result"
    }
   ],
   "source": [
    "slug_rf_reinstate.model"
   ]
  },
  {
   "cell_type": "code",
   "execution_count": 32,
   "metadata": {},
   "outputs": [
    {
     "data": {
      "text/plain": [
       "[-6.207171436334313e-05, -0.11474076243661635]"
      ]
     },
     "execution_count": 32,
     "metadata": {},
     "output_type": "execute_result"
    }
   ],
   "source": [
    "slug_rf_reinstate.load_score()"
   ]
  },
  {
   "cell_type": "code",
   "execution_count": 33,
   "metadata": {},
   "outputs": [
    {
     "data": {
      "text/plain": [
       "RandomForestRegressor(max_depth=15, min_samples_leaf=12, min_samples_split=116,\n",
       "                      n_estimators=186, random_state=0)"
      ]
     },
     "execution_count": 33,
     "metadata": {},
     "output_type": "execute_result"
    }
   ],
   "source": [
    "slug_rf_reinstate.best_fit"
   ]
  },
  {
   "cell_type": "code",
   "execution_count": 34,
   "metadata": {},
   "outputs": [
    {
     "data": {
      "text/plain": [
       "-6.674676252842015e+30"
      ]
     },
     "execution_count": 34,
     "metadata": {},
     "output_type": "execute_result"
    }
   ],
   "source": [
    "pred = slug_rf_reinstate.predict(X)\n",
    "r2_score(pred, y)\n"
   ]
  },
  {
   "cell_type": "code",
   "execution_count": null,
   "metadata": {},
   "outputs": [],
   "source": []
  }
 ],
 "metadata": {
  "kernelspec": {
   "display_name": "Python 3.8.13 ('test')",
   "language": "python",
   "name": "python3"
  },
  "language_info": {
   "codemirror_mode": {
    "name": "ipython",
    "version": 3
   },
   "file_extension": ".py",
   "mimetype": "text/x-python",
   "name": "python",
   "nbconvert_exporter": "python",
   "pygments_lexer": "ipython3",
   "version": "3.8.13"
  },
  "orig_nbformat": 4,
  "vscode": {
   "interpreter": {
    "hash": "b6ff7914d2bc405bfa61a835d0564ba294eb5f3f9b4c24865f45d9397593b123"
   }
  }
 },
 "nbformat": 4,
 "nbformat_minor": 2
}
