{
 "cells": [
  {
   "cell_type": "code",
   "execution_count": 2,
   "metadata": {},
   "outputs": [],
   "source": [
    "%load_ext autoreload\n",
    "%autoreload 2"
   ]
  },
  {
   "cell_type": "code",
   "execution_count": 3,
   "metadata": {},
   "outputs": [],
   "source": [
    "import sys; sys.path.insert(0, '..') # add parent folder path where lib folder is"
   ]
  },
  {
   "cell_type": "code",
   "execution_count": 4,
   "metadata": {},
   "outputs": [],
   "source": [
    "import torch\n",
    "from tensorflow import keras\n",
    "from sklearn.model_selection import train_test_split\n",
    "import numpy as np\n",
    "import pandas as pd\n",
    "# imports from captum library\n",
    "from captum.attr import IntegratedGradients, GradientShap, DeepLift, NoiseTunnel\n",
    "import shap\n"
   ]
  },
  {
   "cell_type": "code",
   "execution_count": 5,
   "metadata": {},
   "outputs": [
    {
     "ename": "ModuleNotFoundError",
     "evalue": "No module named 'ml.models.base.brisk_model_lightning'",
     "output_type": "error",
     "traceback": [
      "\u001b[0;31m---------------------------------------------------------------------------\u001b[0m",
      "\u001b[0;31mModuleNotFoundError\u001b[0m                       Traceback (most recent call last)",
      "\u001b[1;32m/mnt/c/Users/rwmas/GitHub/xai/xai_api/app/notebooks/captum.ipynb Cell 4\u001b[0m in \u001b[0;36m<cell line: 3>\u001b[0;34m()\u001b[0m\n\u001b[1;32m      <a href='vscode-notebook-cell://wsl%2Bubuntu/mnt/c/Users/rwmas/GitHub/xai/xai_api/app/notebooks/captum.ipynb#W3sdnNjb2RlLXJlbW90ZQ%3D%3D?line=0'>1</a>\u001b[0m \u001b[39mfrom\u001b[39;00m \u001b[39mutils\u001b[39;00m \u001b[39mimport\u001b[39;00m helper\n\u001b[1;32m      <a href='vscode-notebook-cell://wsl%2Bubuntu/mnt/c/Users/rwmas/GitHub/xai/xai_api/app/notebooks/captum.ipynb#W3sdnNjb2RlLXJlbW90ZQ%3D%3D?line=1'>2</a>\u001b[0m \u001b[39mfrom\u001b[39;00m \u001b[39mml\u001b[39;00m\u001b[39m.\u001b[39;00m\u001b[39mpreprocess\u001b[39;00m \u001b[39mimport\u001b[39;00m data\n\u001b[0;32m----> <a href='vscode-notebook-cell://wsl%2Bubuntu/mnt/c/Users/rwmas/GitHub/xai/xai_api/app/notebooks/captum.ipynb#W3sdnNjb2RlLXJlbW90ZQ%3D%3D?line=2'>3</a>\u001b[0m \u001b[39mfrom\u001b[39;00m \u001b[39mml\u001b[39;00m\u001b[39m.\u001b[39;00m\u001b[39mmodels\u001b[39;00m\u001b[39m.\u001b[39;00m\u001b[39mbase\u001b[39;00m\u001b[39m.\u001b[39;00m\u001b[39mbrisk_model_lightning\u001b[39;00m \u001b[39mimport\u001b[39;00m BriskModel\n",
      "\u001b[0;31mModuleNotFoundError\u001b[0m: No module named 'ml.models.base.brisk_model_lightning'"
     ]
    }
   ],
   "source": [
    "from utils import helper\n",
    "from ml.preprocess import data\n",
    "from ml.models.base.brisk_model_lightning import BriskModel"
   ]
  },
  {
   "cell_type": "code",
   "execution_count": 11,
   "metadata": {},
   "outputs": [],
   "source": [
    "\n",
    "X, y = data.get_dataset(f_name = '20220319_covid_merge_processed.csv' , sep = ',')\n",
    "\n",
    "X_tilda = X.drop(['location'], axis = 1)\n",
    "\n",
    "X_train, X_test, y_train, y_test = train_test_split(X_tilda, y, test_size=0.25, random_state=123)\n",
    "\n",
    "X_train_orig, X_test_orig, y_train_orig, y_test_orig = train_test_split(X, y, test_size=0.25, random_state=123)\n"
   ]
  },
  {
   "cell_type": "code",
   "execution_count": 6,
   "metadata": {},
   "outputs": [],
   "source": [
    "# nn_model = keras.models.load_model(brisk_neural_net.MODEL_SAVE_PATH)\n",
    "\n",
    "import pickle\n",
    "MODEL_SAVE_PATH = \"/mnt/c/Users/rwmas/GitHub/xai/xai_api/app/ml/models/saved/base/brisk_nn_pytorch/\"\n",
    "\n",
    "\n",
    "with open(MODEL_SAVE_PATH+\"best_pytorch.pickle\", \"rb\") as fin:\n",
    "    briskmodel_loaded = pickle.load(fin)\n",
    "\n"
   ]
  },
  {
   "cell_type": "code",
   "execution_count": 12,
   "metadata": {},
   "outputs": [
    {
     "data": {
      "text/plain": [
       "Sequential(\n",
       "  (0): Linear(in_features=40, out_features=222, bias=True)\n",
       "  (1): ReLU()\n",
       "  (2): Linear(in_features=222, out_features=180, bias=True)\n",
       "  (3): ReLU()\n",
       "  (4): Linear(in_features=180, out_features=121, bias=True)\n",
       "  (5): ReLU()\n",
       "  (6): Linear(in_features=121, out_features=160, bias=True)\n",
       "  (7): ReLU()\n",
       "  (8): Linear(in_features=160, out_features=216, bias=True)\n",
       "  (9): ReLU()\n",
       "  (10): Linear(in_features=216, out_features=239, bias=True)\n",
       "  (11): ReLU()\n",
       "  (12): Linear(in_features=239, out_features=1, bias=True)\n",
       "  (13): ReLU()\n",
       ")"
      ]
     },
     "execution_count": 12,
     "metadata": {},
     "output_type": "execute_result"
    }
   ],
   "source": [
    "briskmodel_loaded.eval()"
   ]
  },
  {
   "cell_type": "markdown",
   "metadata": {},
   "source": [
    "### IntegratedGradients"
   ]
  },
  {
   "cell_type": "code",
   "execution_count": 13,
   "metadata": {},
   "outputs": [],
   "source": [
    "df_tensor = helper.df_to_tensor(X_train)\n",
    "# df_tensor = df_tensor.movedim(0,-1)"
   ]
  },
  {
   "cell_type": "code",
   "execution_count": 14,
   "metadata": {},
   "outputs": [
    {
     "data": {
      "text/plain": [
       "torch.Size([143, 40])"
      ]
     },
     "execution_count": 14,
     "metadata": {},
     "output_type": "execute_result"
    }
   ],
   "source": [
    "df_tensor.shape"
   ]
  },
  {
   "cell_type": "code",
   "execution_count": 15,
   "metadata": {},
   "outputs": [],
   "source": [
    "ig = IntegratedGradients(briskmodel_loaded)\n",
    "ig_attr = ig.attribute(df_tensor, n_steps = 500)\n"
   ]
  },
  {
   "cell_type": "code",
   "execution_count": 59,
   "metadata": {},
   "outputs": [],
   "source": [
    "ig_attr_df_shapley = pd.DataFrame(ig_attr.numpy(), columns=X_train.columns)\n",
    "ig_attr_df_shapley = ig_attr_df_shapley.abs().mean().sort_values(ascending=False)"
   ]
  },
  {
   "cell_type": "code",
   "execution_count": 45,
   "metadata": {},
   "outputs": [
    {
     "data": {
      "text/plain": [
       "array([1.02273343e+09, 8.47671604e+08, 2.23971596e+07, 1.03326653e+07,\n",
       "       7.18673734e+04, 2.19613393e+04, 1.16263309e+03, 5.98648609e+02,\n",
       "       3.59338653e+01, 2.80964134e+01, 8.95898574e+00, 4.31250295e+00,\n",
       "       3.98550994e+00, 2.84612252e+00, 2.78459601e+00, 2.71920249e+00,\n",
       "       1.69220587e+00, 1.08083201e+00, 8.60945500e-01, 7.53281921e-01,\n",
       "       6.83303135e-01, 4.28717778e-01, 3.18876921e-01, 2.87598168e-01,\n",
       "       2.13417145e-01, 1.37798256e-01, 1.37760712e-01, 1.22964576e-01,\n",
       "       8.96866612e-02, 8.46246537e-02, 8.35736259e-02, 7.04887013e-02,\n",
       "       5.81015262e-02, 5.33582445e-02, 5.19568548e-02, 5.05906906e-02,\n",
       "       3.24017665e-02, 2.66982606e-02, 6.81418825e-03, 4.91074185e-03])"
      ]
     },
     "execution_count": 45,
     "metadata": {},
     "output_type": "execute_result"
    }
   ],
   "source": [
    "ig_attr_df_shapley_list = ig_attr_df_shapley.abs().mean().sort_values(ascending=False).values\n",
    "ig_attr_df_shapley_list"
   ]
  },
  {
   "cell_type": "markdown",
   "metadata": {},
   "source": [
    "### GradientShap"
   ]
  },
  {
   "cell_type": "code",
   "execution_count": 17,
   "metadata": {},
   "outputs": [],
   "source": [
    "gs = GradientShap(briskmodel_loaded)\n",
    "# We define a distribution of baselines and draw `n_samples` from that\n",
    "# distribution in order to estimate the expectations of gradients across all baselines\n",
    "# baseline_dist = torch.randn(10, 3) * 0.001\n"
   ]
  },
  {
   "cell_type": "code",
   "execution_count": 18,
   "metadata": {},
   "outputs": [],
   "source": [
    "# select a set of background examples to take an expectation over\n",
    "background = X_tilda.loc[np.random.choice(X_tilda.shape[0], X_train.shape[0], replace=False)]\n",
    "baseline_dist = helper.df_to_tensor(background)\n",
    "# baseline_dist = baseline_dist.movedim(0,-1)\n"
   ]
  },
  {
   "cell_type": "code",
   "execution_count": 19,
   "metadata": {},
   "outputs": [
    {
     "data": {
      "text/plain": [
       "(torch.Size([143, 40]), torch.Size([143, 40]))"
      ]
     },
     "execution_count": 19,
     "metadata": {},
     "output_type": "execute_result"
    }
   ],
   "source": [
    "baseline_dist.shape, df_tensor.shape"
   ]
  },
  {
   "cell_type": "code",
   "execution_count": 20,
   "metadata": {},
   "outputs": [],
   "source": [
    "gs_attr, delta = gs.attribute(df_tensor, stdevs=0.09, n_samples=1, baselines=baseline_dist, \n",
    "                                   # target=0, \n",
    "                                   return_convergence_delta=True\n",
    "                                   )\n",
    "# gs_attr = gs_attr.movedim(0,-1)"
   ]
  },
  {
   "cell_type": "code",
   "execution_count": 21,
   "metadata": {},
   "outputs": [
    {
     "data": {
      "text/plain": [
       "tensor([-1.8859e+06, -3.5696e+04,  5.8409e+06,  1.7903e+06, -2.7216e+05,\n",
       "        -2.1504e+04,  5.1200e+02,  2.0890e+05, -4.2072e+05, -2.1278e+07,\n",
       "         1.8135e+06,  2.2271e+06,  9.6870e+05, -8.6835e+05, -1.6778e+05,\n",
       "        -3.3984e+04, -8.3578e+05,  2.1043e+05, -5.3111e+05,  1.3649e+07,\n",
       "         5.8189e+05,  4.0525e+07,  2.8544e+06, -5.4630e+05, -1.3003e+05,\n",
       "         8.7529e+06, -8.8504e+06, -1.4122e+06, -3.2000e+02, -3.9680e+03,\n",
       "        -1.7096e+06,  6.5927e+07, -1.2736e+06,  2.8138e+07,  2.7600e+04,\n",
       "        -2.8469e+05, -8.9664e+04,  1.9587e+06, -4.7494e+04, -8.0480e+05,\n",
       "         2.4934e+05, -4.9792e+04,  4.0333e+05, -1.2481e+06,  7.4294e+05,\n",
       "        -6.1568e+04,  2.4138e+06, -1.0650e+06,  3.7760e+03, -1.0778e+05,\n",
       "         4.9792e+04,  7.5149e+05,  1.3292e+06,  2.6368e+04,  3.6915e+05,\n",
       "         1.5337e+06, -4.9498e+05, -1.8803e+05, -1.8829e+05,  2.7443e+05,\n",
       "         3.0720e+04, -5.6678e+05, -9.6928e+04, -1.9264e+04, -1.1151e+06,\n",
       "         8.5807e+08, -7.1007e+07, -4.1882e+05,  2.5528e+06,  3.4528e+04,\n",
       "        -1.2800e+02,  1.9942e+05, -6.0808e+06,  6.3191e+06,  2.4097e+06,\n",
       "         1.4488e+06,  7.2601e+06, -7.0013e+05,  4.1421e+06, -2.6126e+05,\n",
       "         2.8521e+07,  4.3136e+05, -1.3386e+05, -3.8464e+04,  1.0269e+06,\n",
       "        -3.0720e+03, -1.2897e+05, -2.6314e+06,  5.8549e+05, -1.2943e+06,\n",
       "        -2.9094e+06, -2.4916e+07, -5.3334e+06, -6.0028e+05,  1.5613e+06,\n",
       "        -3.3770e+05, -8.0368e+05,  4.7544e+07, -1.9082e+06, -9.1517e+06,\n",
       "         5.8449e+06, -3.6890e+06,  7.3549e+07,  2.8752e+05, -4.4400e+04,\n",
       "         3.0610e+06, -1.5744e+04,  3.4937e+06, -1.2605e+06, -2.1915e+06,\n",
       "        -6.5520e+05,  1.0291e+05, -2.4909e+05,  2.6475e+06,  2.3796e+06,\n",
       "        -1.6000e+02,  1.8411e+06,  1.4168e+07,  1.1187e+05, -1.1800e+07,\n",
       "        -5.5890e+06, -2.8160e+03, -2.7624e+06,  6.7584e+04,  6.6752e+04,\n",
       "         4.6807e+06, -2.8420e+07,  2.1675e+07, -6.0986e+05, -2.6305e+07,\n",
       "         3.9275e+06,  2.7114e+06,  8.4577e+05, -4.9808e+04,  5.1200e+02,\n",
       "        -2.7962e+06,  3.8336e+04, -7.8643e+05,  2.5677e+05,  1.0032e+04,\n",
       "         1.7468e+05,  8.8394e+05,  1.9456e+05])"
      ]
     },
     "execution_count": 21,
     "metadata": {},
     "output_type": "execute_result"
    }
   ],
   "source": [
    "delta\n",
    "# deltas_per_example = torch.mean(delta.reshape(df_tensor.shape[0], -1), dim=1)\n",
    "# deltas_per_example"
   ]
  },
  {
   "cell_type": "code",
   "execution_count": 22,
   "metadata": {},
   "outputs": [],
   "source": [
    "gs_attr_df_shapley = pd.DataFrame(gs_attr.numpy(), columns=X_train.columns)\n",
    "gs_attr_df_shapley.abs().mean().sort_values(ascending=False)\n",
    "gs_attr_df_shapley_list = gs_attr_df_shapley.values"
   ]
  },
  {
   "cell_type": "code",
   "execution_count": 63,
   "metadata": {},
   "outputs": [],
   "source": [
    "gs_attr_df_shapley = gs_attr_df_shapley.abs().mean().sort_values(ascending=False)"
   ]
  },
  {
   "cell_type": "markdown",
   "metadata": {},
   "source": [
    "NoiseTunnel"
   ]
  },
  {
   "cell_type": "code",
   "execution_count": 24,
   "metadata": {},
   "outputs": [],
   "source": [
    "nt: NoiseTunnel = NoiseTunnel(ig)"
   ]
  },
  {
   "cell_type": "code",
   "execution_count": 25,
   "metadata": {},
   "outputs": [],
   "source": [
    "ig_attr_smoothgrad, delta = nt.attribute(df_tensor, nt_type='smoothgrad', stdevs=0.02, nt_samples=4,\n",
    "      baselines=baseline_dist, \n",
    "      # target=0,\n",
    "      return_convergence_delta=True)\n",
    "# ig_attr_smoothgrad = ig_attr_smoothgrad.movedim(0,-1)"
   ]
  },
  {
   "cell_type": "code",
   "execution_count": 26,
   "metadata": {},
   "outputs": [
    {
     "data": {
      "text/plain": [
       "tensor([ 7.6120e+04,  3.8367e+03,  1.0843e+04, -3.0455e+05,  1.0987e+04,\n",
       "        -4.9414e+05,  4.4588e+04,  1.3596e+06, -2.8336e+04,  3.1601e+04,\n",
       "        -3.0721e+04, -6.7004e+03, -1.7729e+04, -7.9002e+05,  1.0588e+04,\n",
       "        -2.3662e+05, -4.8940e+04, -2.3230e+05, -1.9712e+03,  2.9382e+00,\n",
       "         4.2722e+05, -2.2958e+03,  1.0794e+05, -5.7379e+03,  1.4122e+03,\n",
       "        -1.4184e+04,  7.9511e+04, -1.7930e+05, -3.8917e+03, -1.1804e+05,\n",
       "         2.2690e+02, -3.3703e+04,  1.8534e+05,  2.2974e+04,  2.5776e+03,\n",
       "        -7.6995e+03, -4.8245e+02,  1.0646e+04, -1.2413e+03, -5.7671e+04,\n",
       "        -6.2506e+04,  1.9601e+02,  8.3148e+04,  5.7073e+01,  6.1400e+03,\n",
       "        -1.4662e+04,  4.7624e+01,  5.9224e+05,  1.5037e+04,  9.0320e+04,\n",
       "        -4.3792e+02,  9.7345e+04, -3.8863e+05,  2.6600e+04,  4.8951e+04,\n",
       "        -4.7666e+03, -8.3127e+03, -2.7977e+05,  6.1705e+04,  4.0584e+04,\n",
       "         7.6506e+05,  7.8019e+04,  4.3575e+02,  2.5026e+04,  1.9493e+03,\n",
       "         7.8734e+06, -6.9466e+05,  4.5567e+02,  1.6049e+04,  3.6555e+04,\n",
       "        -1.5204e+03, -3.9810e+04,  9.4655e+03, -1.4867e+05, -5.4182e+03,\n",
       "         6.4705e+04, -4.8654e+04, -3.9296e+03, -7.4583e+03,  4.2433e+03,\n",
       "         4.8315e+02, -2.8721e+03,  4.7644e+03,  1.8684e+05, -2.0421e+04,\n",
       "         2.2926e+05, -1.3880e+05, -4.9807e+05,  5.1991e+05,  4.3567e+05,\n",
       "        -5.6644e+04, -4.9619e+04,  2.3809e+03,  6.4061e+03, -1.3919e+05,\n",
       "         1.5330e+05, -1.4891e+04, -2.2268e+04,  7.1604e+03,  3.5806e+03,\n",
       "        -3.9315e+04, -4.4641e+05, -1.1250e+05,  1.0926e+02, -1.7995e+03,\n",
       "         3.2852e+03, -1.8155e+04,  4.4485e+03, -5.9006e+04, -4.1265e+05,\n",
       "        -1.4355e+05,  1.8917e+04, -3.1109e+02,  3.9345e+03,  2.5162e+03,\n",
       "        -2.3921e+05,  1.1445e+06, -8.7212e+04, -5.8580e+02, -2.1351e+05,\n",
       "        -2.5966e+05, -1.1736e+06,  3.2264e+04, -2.3568e+02, -2.8839e+04,\n",
       "        -1.7400e+04, -1.4549e+06, -7.1872e+04, -2.5650e+04, -3.3852e+04,\n",
       "        -6.4974e+03, -9.6897e+01,  8.8963e+05, -2.1997e+01, -1.3121e+02,\n",
       "        -1.4878e+05,  2.4177e+03, -2.2309e+05,  2.2173e+04, -2.5573e+04,\n",
       "        -1.2278e+04,  1.6790e+04,  2.3677e+04], dtype=torch.float64)"
      ]
     },
     "execution_count": 26,
     "metadata": {},
     "output_type": "execute_result"
    }
   ],
   "source": [
    "# delta\n",
    "deltas_per_example = torch.mean(delta.reshape(df_tensor.shape[0], -1), dim=1)\n",
    "deltas_per_example"
   ]
  },
  {
   "cell_type": "code",
   "execution_count": 27,
   "metadata": {},
   "outputs": [],
   "source": [
    "ig_attr_smoothgrad_df_shapley = pd.DataFrame(ig_attr_smoothgrad.numpy(), columns=X_train.columns)\n",
    "ig_attr_smoothgrad_score = ig_attr_smoothgrad_df_shapley.abs().mean().sort_values(ascending=False)\n",
    "ig_attr_smoothgrad_score_list = ig_attr_smoothgrad_score.values"
   ]
  },
  {
   "cell_type": "code",
   "execution_count": 28,
   "metadata": {},
   "outputs": [
    {
     "data": {
      "text/plain": [
       "Population                                    1.879347e+09\n",
       "population_cov                                1.499498e+09\n",
       "new_cases_per_million                         2.187344e+07\n",
       "Area_km2                                      1.492912e+07\n",
       "Density_km2                                   8.014394e+04\n",
       "air_polution                                  4.520254e+02\n",
       "life_expectancy_cov                           1.267414e+02\n",
       "Cardiovascular diseases                       1.851219e+01\n",
       "Total                                         1.322603e+01\n",
       "Neoplasms                                     7.378679e+00\n",
       "Diabetes mellitus                             4.205554e+00\n",
       "Lower respiratory infections                  3.042008e+00\n",
       "Alzheimer's disease and other dementias       2.935337e+00\n",
       "HIV/AIDS                                      2.461959e+00\n",
       "Cirrhosis and other chronic liver diseases    2.176194e+00\n",
       "Chronic kidney disease                        1.946259e+00\n",
       "Interpersonal violence                        1.286603e+00\n",
       "Chronic respiratory diseases                  1.246213e+00\n",
       "Alcohol use disorders                         1.053005e+00\n",
       "Conflict and terrorism                        1.020782e+00\n",
       "Self-harm                                     9.744445e-01\n",
       "Maternal disorders                            8.680742e-01\n",
       "Malaria                                       8.114763e-01\n",
       "Environmental heat and cold exposure          6.916326e-01\n",
       "Road injuries                                 6.125184e-01\n",
       "Drug use disorders                            5.693077e-01\n",
       "Poisonings                                    4.535057e-01\n",
       "Tuberculosis                                  3.710920e-01\n",
       "Parkinson's disease                           2.317493e-01\n",
       "Meningitis                                    2.050263e-01\n",
       "Exposure to forces of nature                  1.632821e-01\n",
       "Drowning                                      1.566593e-01\n",
       "Nutritional deficiencies                      1.476539e-01\n",
       "Fire, heat, and hot substances                1.345768e-01\n",
       "Protein-energy malnutrition                   9.481856e-02\n",
       "Diarrheal diseases                            9.219375e-02\n",
       "Digestive diseases                            7.966677e-02\n",
       "Neonatal disorders                            7.555089e-02\n",
       "Year_x                                        6.645190e-02\n",
       "Acute hepatitis                               4.310262e-02\n",
       "dtype: float64"
      ]
     },
     "execution_count": 28,
     "metadata": {},
     "output_type": "execute_result"
    }
   ],
   "source": [
    "ig_attr_smoothgrad_score"
   ]
  },
  {
   "cell_type": "markdown",
   "metadata": {},
   "source": [
    "Shapley"
   ]
  },
  {
   "cell_type": "code",
   "execution_count": 29,
   "metadata": {},
   "outputs": [],
   "source": [
    "from dask_ml.preprocessing import StandardScaler\n",
    "X_train_scalar = StandardScaler().fit_transform(X_train)     \n",
    "X_test_scalar = StandardScaler().fit_transform(X_test)     \n",
    "X_test_tensor_scalar = helper.df_to_tensor(X_test_scalar)"
   ]
  },
  {
   "cell_type": "code",
   "execution_count": 30,
   "metadata": {},
   "outputs": [],
   "source": [
    "background = X_tilda.sample(n=40)\n",
    "background = helper.df_to_tensor(background)\n",
    "X_tilda_tensor = helper.df_to_tensor(X_tilda)\n",
    "# t = t.movedim(0,-1)"
   ]
  },
  {
   "cell_type": "code",
   "execution_count": 31,
   "metadata": {},
   "outputs": [],
   "source": [
    "explainer_shap = shap.DeepExplainer(model=briskmodel_loaded, data=background)"
   ]
  },
  {
   "cell_type": "code",
   "execution_count": 32,
   "metadata": {},
   "outputs": [
    {
     "data": {
      "text/plain": [
       "array([1.1396457e+09], dtype=float32)"
      ]
     },
     "execution_count": 32,
     "metadata": {},
     "output_type": "execute_result"
    }
   ],
   "source": [
    "explainer_shap.expected_value"
   ]
  },
  {
   "cell_type": "code",
   "execution_count": 33,
   "metadata": {},
   "outputs": [],
   "source": [
    "shap_values = explainer_shap.explainer.shap_values(X=X_tilda_tensor, ranked_outputs=True, check_additivity=False)"
   ]
  },
  {
   "cell_type": "code",
   "execution_count": 34,
   "metadata": {},
   "outputs": [
    {
     "data": {
      "text/plain": [
       "(191, 40)"
      ]
     },
     "execution_count": 34,
     "metadata": {},
     "output_type": "execute_result"
    }
   ],
   "source": [
    "shap_values.shape"
   ]
  },
  {
   "cell_type": "code",
   "execution_count": 43,
   "metadata": {},
   "outputs": [],
   "source": [
    "df_shapley_sores = pd.DataFrame(shap_values, columns=X_train.columns)\n",
    "df_shapley_sores = df_shapley_sores.abs().mean().sort_values(ascending=False)\n",
    "df_shapley_sores_list = df_shapley_sores.values"
   ]
  },
  {
   "cell_type": "code",
   "execution_count": 53,
   "metadata": {},
   "outputs": [
    {
     "data": {
      "text/plain": [
       "Population                                    1.156685e+09\n",
       "population_cov                                9.209495e+08\n",
       "new_cases_per_million                         1.724673e+07\n",
       "Area_km2                                      1.268083e+07\n",
       "Density_km2                                   4.366932e+04\n",
       "air_polution                                  3.246251e+02\n",
       "life_expectancy_cov                           8.492591e+01\n",
       "Cardiovascular diseases                       1.314431e+01\n",
       "Total                                         8.908080e+00\n",
       "Neoplasms                                     5.429957e+00\n",
       "Diabetes mellitus                             2.531922e+00\n",
       "Alzheimer's disease and other dementias       1.937907e+00\n",
       "Lower respiratory infections                  1.928483e+00\n",
       "HIV/AIDS                                      1.739215e+00\n",
       "Cirrhosis and other chronic liver diseases    1.284005e+00\n",
       "Chronic kidney disease                        1.261377e+00\n",
       "Chronic respiratory diseases                  7.600454e-01\n",
       "Interpersonal violence                        7.083748e-01\n",
       "Malaria                                       6.100298e-01\n",
       "Self-harm                                     4.510221e-01\n",
       "Maternal disorders                            3.833620e-01\n",
       "Alcohol use disorders                         3.119123e-01\n",
       "Road injuries                                 3.052905e-01\n",
       "Conflict and terrorism                        2.450603e-01\n",
       "Tuberculosis                                  1.987604e-01\n",
       "Meningitis                                    8.688287e-02\n",
       "Drug use disorders                            8.686239e-02\n",
       "Parkinson's disease                           7.583525e-02\n",
       "Nutritional deficiencies                      6.612995e-02\n",
       "Environmental heat and cold exposure          6.173851e-02\n",
       "Diarrheal diseases                            5.517467e-02\n",
       "Neonatal disorders                            4.762312e-02\n",
       "Poisonings                                    4.640239e-02\n",
       "Digestive diseases                            3.985654e-02\n",
       "Protein-energy malnutrition                   3.367709e-02\n",
       "Drowning                                      3.029434e-02\n",
       "Fire, heat, and hot substances                1.554289e-02\n",
       "Acute hepatitis                               3.343095e-03\n",
       "Exposure to forces of nature                  3.304149e-03\n",
       "Year_x                                        0.000000e+00\n",
       "dtype: float64"
      ]
     },
     "execution_count": 53,
     "metadata": {},
     "output_type": "execute_result"
    }
   ],
   "source": [
    "df_shapley_sores"
   ]
  },
  {
   "cell_type": "markdown",
   "metadata": {},
   "source": [
    "Consolidate"
   ]
  },
  {
   "cell_type": "code",
   "execution_count": 62,
   "metadata": {},
   "outputs": [
    {
     "data": {
      "text/html": [
       "<div>\n",
       "<style scoped>\n",
       "    .dataframe tbody tr th:only-of-type {\n",
       "        vertical-align: middle;\n",
       "    }\n",
       "\n",
       "    .dataframe tbody tr th {\n",
       "        vertical-align: top;\n",
       "    }\n",
       "\n",
       "    .dataframe thead th {\n",
       "        text-align: right;\n",
       "    }\n",
       "</style>\n",
       "<table border=\"1\" class=\"dataframe\">\n",
       "  <thead>\n",
       "    <tr style=\"text-align: right;\">\n",
       "      <th></th>\n",
       "      <th>new_cases_per_million</th>\n",
       "      <th>population_cov</th>\n",
       "      <th>life_expectancy_cov</th>\n",
       "      <th>Population</th>\n",
       "      <th>Area_km2</th>\n",
       "      <th>Density_km2</th>\n",
       "      <th>Year_x</th>\n",
       "      <th>Meningitis</th>\n",
       "      <th>Neoplasms</th>\n",
       "      <th>Fire, heat, and hot substances</th>\n",
       "      <th>...</th>\n",
       "      <th>Cardiovascular diseases</th>\n",
       "      <th>Chronic kidney disease</th>\n",
       "      <th>Chronic respiratory diseases</th>\n",
       "      <th>Cirrhosis and other chronic liver diseases</th>\n",
       "      <th>Digestive diseases</th>\n",
       "      <th>Acute hepatitis</th>\n",
       "      <th>Alzheimer's disease and other dementias</th>\n",
       "      <th>Parkinson's disease</th>\n",
       "      <th>Total</th>\n",
       "      <th>air_polution</th>\n",
       "    </tr>\n",
       "  </thead>\n",
       "  <tbody>\n",
       "    <tr>\n",
       "      <th>0</th>\n",
       "      <td>16550438.0</td>\n",
       "      <td>-4.484640e+06</td>\n",
       "      <td>5.906300</td>\n",
       "      <td>-8.196456e+06</td>\n",
       "      <td>1.060079e+05</td>\n",
       "      <td>-41302.171875</td>\n",
       "      <td>3.255215</td>\n",
       "      <td>-0.179583</td>\n",
       "      <td>4.377513</td>\n",
       "      <td>-0.794008</td>\n",
       "      <td>...</td>\n",
       "      <td>22.041592</td>\n",
       "      <td>-2.433782</td>\n",
       "      <td>0.388203</td>\n",
       "      <td>-2.661170</td>\n",
       "      <td>-2.764581</td>\n",
       "      <td>-0.255335</td>\n",
       "      <td>1.929859</td>\n",
       "      <td>-0.493741</td>\n",
       "      <td>20.741268</td>\n",
       "      <td>509.531738</td>\n",
       "    </tr>\n",
       "    <tr>\n",
       "      <th>1</th>\n",
       "      <td>57008552.0</td>\n",
       "      <td>5.238617e+07</td>\n",
       "      <td>69.390129</td>\n",
       "      <td>4.023664e+07</td>\n",
       "      <td>-1.256630e+05</td>\n",
       "      <td>-12373.023438</td>\n",
       "      <td>2.668525</td>\n",
       "      <td>-3.569902</td>\n",
       "      <td>7.403769</td>\n",
       "      <td>-0.356330</td>\n",
       "      <td>...</td>\n",
       "      <td>28.342234</td>\n",
       "      <td>-3.321461</td>\n",
       "      <td>2.154446</td>\n",
       "      <td>6.969543</td>\n",
       "      <td>-1.095488</td>\n",
       "      <td>-2.486426</td>\n",
       "      <td>13.535871</td>\n",
       "      <td>3.990681</td>\n",
       "      <td>19.663357</td>\n",
       "      <td>22.533657</td>\n",
       "    </tr>\n",
       "    <tr>\n",
       "      <th>2</th>\n",
       "      <td>12294561.0</td>\n",
       "      <td>-3.598962e+10</td>\n",
       "      <td>-184.299454</td>\n",
       "      <td>-3.412089e+10</td>\n",
       "      <td>8.454836e+07</td>\n",
       "      <td>14391.077148</td>\n",
       "      <td>0.039496</td>\n",
       "      <td>-2.935073</td>\n",
       "      <td>-9.350083</td>\n",
       "      <td>0.327694</td>\n",
       "      <td>...</td>\n",
       "      <td>-15.545536</td>\n",
       "      <td>-10.390826</td>\n",
       "      <td>-4.187019</td>\n",
       "      <td>-14.180088</td>\n",
       "      <td>0.269781</td>\n",
       "      <td>-0.371997</td>\n",
       "      <td>4.237294</td>\n",
       "      <td>-1.207724</td>\n",
       "      <td>3.436200</td>\n",
       "      <td>-424.617706</td>\n",
       "    </tr>\n",
       "    <tr>\n",
       "      <th>3</th>\n",
       "      <td>7704053.5</td>\n",
       "      <td>5.155417e+08</td>\n",
       "      <td>145.906647</td>\n",
       "      <td>8.143690e+08</td>\n",
       "      <td>-2.014416e+08</td>\n",
       "      <td>26853.361328</td>\n",
       "      <td>-0.391325</td>\n",
       "      <td>1.215265</td>\n",
       "      <td>0.581771</td>\n",
       "      <td>-0.161989</td>\n",
       "      <td>...</td>\n",
       "      <td>11.876887</td>\n",
       "      <td>-7.265506</td>\n",
       "      <td>-4.875596</td>\n",
       "      <td>9.530360</td>\n",
       "      <td>-0.346214</td>\n",
       "      <td>-1.219251</td>\n",
       "      <td>16.885433</td>\n",
       "      <td>3.173777</td>\n",
       "      <td>-0.470746</td>\n",
       "      <td>-336.443634</td>\n",
       "    </tr>\n",
       "    <tr>\n",
       "      <th>4</th>\n",
       "      <td>-29025762.0</td>\n",
       "      <td>-2.011686e+08</td>\n",
       "      <td>-146.692993</td>\n",
       "      <td>-2.402939e+08</td>\n",
       "      <td>5.936608e+06</td>\n",
       "      <td>-36460.128906</td>\n",
       "      <td>0.003006</td>\n",
       "      <td>-0.441868</td>\n",
       "      <td>-10.148687</td>\n",
       "      <td>-0.752397</td>\n",
       "      <td>...</td>\n",
       "      <td>3.979063</td>\n",
       "      <td>-1.212159</td>\n",
       "      <td>7.783840</td>\n",
       "      <td>-1.416136</td>\n",
       "      <td>-0.105616</td>\n",
       "      <td>0.106488</td>\n",
       "      <td>-20.093790</td>\n",
       "      <td>2.034074</td>\n",
       "      <td>-4.262027</td>\n",
       "      <td>496.550293</td>\n",
       "    </tr>\n",
       "    <tr>\n",
       "      <th>...</th>\n",
       "      <td>...</td>\n",
       "      <td>...</td>\n",
       "      <td>...</td>\n",
       "      <td>...</td>\n",
       "      <td>...</td>\n",
       "      <td>...</td>\n",
       "      <td>...</td>\n",
       "      <td>...</td>\n",
       "      <td>...</td>\n",
       "      <td>...</td>\n",
       "      <td>...</td>\n",
       "      <td>...</td>\n",
       "      <td>...</td>\n",
       "      <td>...</td>\n",
       "      <td>...</td>\n",
       "      <td>...</td>\n",
       "      <td>...</td>\n",
       "      <td>...</td>\n",
       "      <td>...</td>\n",
       "      <td>...</td>\n",
       "      <td>...</td>\n",
       "    </tr>\n",
       "    <tr>\n",
       "      <th>138</th>\n",
       "      <td>10718389.0</td>\n",
       "      <td>-2.325803e+07</td>\n",
       "      <td>23.639860</td>\n",
       "      <td>-2.742769e+07</td>\n",
       "      <td>-3.152113e+05</td>\n",
       "      <td>40630.468750</td>\n",
       "      <td>-0.027799</td>\n",
       "      <td>1.594040</td>\n",
       "      <td>-0.544716</td>\n",
       "      <td>-1.912644</td>\n",
       "      <td>...</td>\n",
       "      <td>-21.488388</td>\n",
       "      <td>15.110810</td>\n",
       "      <td>-0.764059</td>\n",
       "      <td>7.104227</td>\n",
       "      <td>-0.177468</td>\n",
       "      <td>0.231822</td>\n",
       "      <td>6.146091</td>\n",
       "      <td>3.588944</td>\n",
       "      <td>-12.119619</td>\n",
       "      <td>-44.097107</td>\n",
       "    </tr>\n",
       "    <tr>\n",
       "      <th>139</th>\n",
       "      <td>58867828.0</td>\n",
       "      <td>6.337262e+07</td>\n",
       "      <td>-117.238548</td>\n",
       "      <td>7.612578e+07</td>\n",
       "      <td>-1.017279e+06</td>\n",
       "      <td>11030.140625</td>\n",
       "      <td>0.984067</td>\n",
       "      <td>0.635954</td>\n",
       "      <td>7.742444</td>\n",
       "      <td>-0.816382</td>\n",
       "      <td>...</td>\n",
       "      <td>43.944496</td>\n",
       "      <td>17.853474</td>\n",
       "      <td>12.100704</td>\n",
       "      <td>-0.045651</td>\n",
       "      <td>-0.041799</td>\n",
       "      <td>-0.188337</td>\n",
       "      <td>19.831568</td>\n",
       "      <td>-1.787470</td>\n",
       "      <td>30.555412</td>\n",
       "      <td>119.075821</td>\n",
       "    </tr>\n",
       "    <tr>\n",
       "      <th>140</th>\n",
       "      <td>-18452058.0</td>\n",
       "      <td>4.181700e+06</td>\n",
       "      <td>4.647046</td>\n",
       "      <td>8.075586e+06</td>\n",
       "      <td>-5.756658e+05</td>\n",
       "      <td>4627.017090</td>\n",
       "      <td>-0.155336</td>\n",
       "      <td>0.934519</td>\n",
       "      <td>-0.858969</td>\n",
       "      <td>0.025824</td>\n",
       "      <td>...</td>\n",
       "      <td>16.024883</td>\n",
       "      <td>1.232855</td>\n",
       "      <td>-2.772782</td>\n",
       "      <td>8.277256</td>\n",
       "      <td>0.073663</td>\n",
       "      <td>-0.213558</td>\n",
       "      <td>9.953946</td>\n",
       "      <td>-0.093592</td>\n",
       "      <td>6.703205</td>\n",
       "      <td>158.327667</td>\n",
       "    </tr>\n",
       "    <tr>\n",
       "      <th>141</th>\n",
       "      <td>11252040.0</td>\n",
       "      <td>-2.031452e+08</td>\n",
       "      <td>-15.621056</td>\n",
       "      <td>-2.878174e+08</td>\n",
       "      <td>1.997244e+06</td>\n",
       "      <td>-1469.446533</td>\n",
       "      <td>0.008479</td>\n",
       "      <td>4.012170</td>\n",
       "      <td>22.090120</td>\n",
       "      <td>-0.166621</td>\n",
       "      <td>...</td>\n",
       "      <td>36.801270</td>\n",
       "      <td>-5.487327</td>\n",
       "      <td>10.059072</td>\n",
       "      <td>-9.798722</td>\n",
       "      <td>0.040878</td>\n",
       "      <td>-0.296612</td>\n",
       "      <td>14.755261</td>\n",
       "      <td>2.403800</td>\n",
       "      <td>27.763762</td>\n",
       "      <td>52.703892</td>\n",
       "    </tr>\n",
       "    <tr>\n",
       "      <th>142</th>\n",
       "      <td>-8633314.0</td>\n",
       "      <td>2.858981e+09</td>\n",
       "      <td>3.020050</td>\n",
       "      <td>3.187057e+09</td>\n",
       "      <td>-2.281830e+07</td>\n",
       "      <td>-2624.488281</td>\n",
       "      <td>0.263200</td>\n",
       "      <td>0.572870</td>\n",
       "      <td>-12.554685</td>\n",
       "      <td>-1.349964</td>\n",
       "      <td>...</td>\n",
       "      <td>-71.671753</td>\n",
       "      <td>-15.299643</td>\n",
       "      <td>0.043712</td>\n",
       "      <td>36.726646</td>\n",
       "      <td>-0.043746</td>\n",
       "      <td>0.641371</td>\n",
       "      <td>-6.956748</td>\n",
       "      <td>-0.580373</td>\n",
       "      <td>-27.520100</td>\n",
       "      <td>110.780296</td>\n",
       "    </tr>\n",
       "  </tbody>\n",
       "</table>\n",
       "<p>143 rows × 40 columns</p>\n",
       "</div>"
      ],
      "text/plain": [
       "     new_cases_per_million  population_cov  life_expectancy_cov    Population  \\\n",
       "0               16550438.0   -4.484640e+06             5.906300 -8.196456e+06   \n",
       "1               57008552.0    5.238617e+07            69.390129  4.023664e+07   \n",
       "2               12294561.0   -3.598962e+10          -184.299454 -3.412089e+10   \n",
       "3                7704053.5    5.155417e+08           145.906647  8.143690e+08   \n",
       "4              -29025762.0   -2.011686e+08          -146.692993 -2.402939e+08   \n",
       "..                     ...             ...                  ...           ...   \n",
       "138             10718389.0   -2.325803e+07            23.639860 -2.742769e+07   \n",
       "139             58867828.0    6.337262e+07          -117.238548  7.612578e+07   \n",
       "140            -18452058.0    4.181700e+06             4.647046  8.075586e+06   \n",
       "141             11252040.0   -2.031452e+08           -15.621056 -2.878174e+08   \n",
       "142             -8633314.0    2.858981e+09             3.020050  3.187057e+09   \n",
       "\n",
       "         Area_km2   Density_km2    Year_x  Meningitis  Neoplasms  \\\n",
       "0    1.060079e+05 -41302.171875  3.255215   -0.179583   4.377513   \n",
       "1   -1.256630e+05 -12373.023438  2.668525   -3.569902   7.403769   \n",
       "2    8.454836e+07  14391.077148  0.039496   -2.935073  -9.350083   \n",
       "3   -2.014416e+08  26853.361328 -0.391325    1.215265   0.581771   \n",
       "4    5.936608e+06 -36460.128906  0.003006   -0.441868 -10.148687   \n",
       "..            ...           ...       ...         ...        ...   \n",
       "138 -3.152113e+05  40630.468750 -0.027799    1.594040  -0.544716   \n",
       "139 -1.017279e+06  11030.140625  0.984067    0.635954   7.742444   \n",
       "140 -5.756658e+05   4627.017090 -0.155336    0.934519  -0.858969   \n",
       "141  1.997244e+06  -1469.446533  0.008479    4.012170  22.090120   \n",
       "142 -2.281830e+07  -2624.488281  0.263200    0.572870 -12.554685   \n",
       "\n",
       "     Fire, heat, and hot substances  ...  Cardiovascular diseases  \\\n",
       "0                         -0.794008  ...                22.041592   \n",
       "1                         -0.356330  ...                28.342234   \n",
       "2                          0.327694  ...               -15.545536   \n",
       "3                         -0.161989  ...                11.876887   \n",
       "4                         -0.752397  ...                 3.979063   \n",
       "..                              ...  ...                      ...   \n",
       "138                       -1.912644  ...               -21.488388   \n",
       "139                       -0.816382  ...                43.944496   \n",
       "140                        0.025824  ...                16.024883   \n",
       "141                       -0.166621  ...                36.801270   \n",
       "142                       -1.349964  ...               -71.671753   \n",
       "\n",
       "     Chronic kidney disease  Chronic respiratory diseases  \\\n",
       "0                 -2.433782                      0.388203   \n",
       "1                 -3.321461                      2.154446   \n",
       "2                -10.390826                     -4.187019   \n",
       "3                 -7.265506                     -4.875596   \n",
       "4                 -1.212159                      7.783840   \n",
       "..                      ...                           ...   \n",
       "138               15.110810                     -0.764059   \n",
       "139               17.853474                     12.100704   \n",
       "140                1.232855                     -2.772782   \n",
       "141               -5.487327                     10.059072   \n",
       "142              -15.299643                      0.043712   \n",
       "\n",
       "     Cirrhosis and other chronic liver diseases  Digestive diseases  \\\n",
       "0                                     -2.661170           -2.764581   \n",
       "1                                      6.969543           -1.095488   \n",
       "2                                    -14.180088            0.269781   \n",
       "3                                      9.530360           -0.346214   \n",
       "4                                     -1.416136           -0.105616   \n",
       "..                                          ...                 ...   \n",
       "138                                    7.104227           -0.177468   \n",
       "139                                   -0.045651           -0.041799   \n",
       "140                                    8.277256            0.073663   \n",
       "141                                   -9.798722            0.040878   \n",
       "142                                   36.726646           -0.043746   \n",
       "\n",
       "     Acute hepatitis  Alzheimer's disease and other dementias  \\\n",
       "0          -0.255335                                 1.929859   \n",
       "1          -2.486426                                13.535871   \n",
       "2          -0.371997                                 4.237294   \n",
       "3          -1.219251                                16.885433   \n",
       "4           0.106488                               -20.093790   \n",
       "..               ...                                      ...   \n",
       "138         0.231822                                 6.146091   \n",
       "139        -0.188337                                19.831568   \n",
       "140        -0.213558                                 9.953946   \n",
       "141        -0.296612                                14.755261   \n",
       "142         0.641371                                -6.956748   \n",
       "\n",
       "     Parkinson's disease      Total  air_polution  \n",
       "0              -0.493741  20.741268    509.531738  \n",
       "1               3.990681  19.663357     22.533657  \n",
       "2              -1.207724   3.436200   -424.617706  \n",
       "3               3.173777  -0.470746   -336.443634  \n",
       "4               2.034074  -4.262027    496.550293  \n",
       "..                   ...        ...           ...  \n",
       "138             3.588944 -12.119619    -44.097107  \n",
       "139            -1.787470  30.555412    119.075821  \n",
       "140            -0.093592   6.703205    158.327667  \n",
       "141             2.403800  27.763762     52.703892  \n",
       "142            -0.580373 -27.520100    110.780296  \n",
       "\n",
       "[143 rows x 40 columns]"
      ]
     },
     "execution_count": 62,
     "metadata": {},
     "output_type": "execute_result"
    }
   ],
   "source": [
    "gs_attr_df_shapley"
   ]
  },
  {
   "cell_type": "code",
   "execution_count": 65,
   "metadata": {},
   "outputs": [],
   "source": [
    "df_consol = pd.DataFrame([ig_attr_df_shapley, gs_attr_df_shapley, ig_attr_smoothgrad_score, df_shapley_sores])"
   ]
  },
  {
   "cell_type": "code",
   "execution_count": 67,
   "metadata": {},
   "outputs": [],
   "source": [
    "df_consol = df_consol.T"
   ]
  },
  {
   "cell_type": "code",
   "execution_count": 68,
   "metadata": {},
   "outputs": [
    {
     "data": {
      "text/html": [
       "<div>\n",
       "<style scoped>\n",
       "    .dataframe tbody tr th:only-of-type {\n",
       "        vertical-align: middle;\n",
       "    }\n",
       "\n",
       "    .dataframe tbody tr th {\n",
       "        vertical-align: top;\n",
       "    }\n",
       "\n",
       "    .dataframe thead th {\n",
       "        text-align: right;\n",
       "    }\n",
       "</style>\n",
       "<table border=\"1\" class=\"dataframe\">\n",
       "  <thead>\n",
       "    <tr style=\"text-align: right;\">\n",
       "      <th></th>\n",
       "      <th>0</th>\n",
       "      <th>1</th>\n",
       "      <th>2</th>\n",
       "      <th>3</th>\n",
       "    </tr>\n",
       "  </thead>\n",
       "  <tbody>\n",
       "    <tr>\n",
       "      <th>Population</th>\n",
       "      <td>1.022733e+09</td>\n",
       "      <td>1.993401e+09</td>\n",
       "      <td>1.879347e+09</td>\n",
       "      <td>1.156685e+09</td>\n",
       "    </tr>\n",
       "    <tr>\n",
       "      <th>population_cov</th>\n",
       "      <td>8.476716e+08</td>\n",
       "      <td>1.780833e+09</td>\n",
       "      <td>1.499498e+09</td>\n",
       "      <td>9.209495e+08</td>\n",
       "    </tr>\n",
       "    <tr>\n",
       "      <th>new_cases_per_million</th>\n",
       "      <td>2.239716e+07</td>\n",
       "      <td>2.265344e+07</td>\n",
       "      <td>2.187344e+07</td>\n",
       "      <td>1.724673e+07</td>\n",
       "    </tr>\n",
       "    <tr>\n",
       "      <th>Area_km2</th>\n",
       "      <td>1.033267e+07</td>\n",
       "      <td>1.679242e+07</td>\n",
       "      <td>1.492912e+07</td>\n",
       "      <td>1.268083e+07</td>\n",
       "    </tr>\n",
       "    <tr>\n",
       "      <th>Density_km2</th>\n",
       "      <td>7.186737e+04</td>\n",
       "      <td>5.093695e+04</td>\n",
       "      <td>8.014394e+04</td>\n",
       "      <td>4.366932e+04</td>\n",
       "    </tr>\n",
       "    <tr>\n",
       "      <th>Year_x</th>\n",
       "      <td>2.196134e+04</td>\n",
       "      <td>6.202123e-01</td>\n",
       "      <td>6.645190e-02</td>\n",
       "      <td>0.000000e+00</td>\n",
       "    </tr>\n",
       "    <tr>\n",
       "      <th>life_expectancy_cov</th>\n",
       "      <td>1.162633e+03</td>\n",
       "      <td>1.292580e+02</td>\n",
       "      <td>1.267414e+02</td>\n",
       "      <td>8.492591e+01</td>\n",
       "    </tr>\n",
       "    <tr>\n",
       "      <th>air_polution</th>\n",
       "      <td>5.986486e+02</td>\n",
       "      <td>4.614802e+02</td>\n",
       "      <td>4.520254e+02</td>\n",
       "      <td>3.246251e+02</td>\n",
       "    </tr>\n",
       "    <tr>\n",
       "      <th>Total</th>\n",
       "      <td>3.593387e+01</td>\n",
       "      <td>1.304012e+01</td>\n",
       "      <td>1.322603e+01</td>\n",
       "      <td>8.908080e+00</td>\n",
       "    </tr>\n",
       "    <tr>\n",
       "      <th>Cardiovascular diseases</th>\n",
       "      <td>2.809641e+01</td>\n",
       "      <td>2.053753e+01</td>\n",
       "      <td>1.851219e+01</td>\n",
       "      <td>1.314431e+01</td>\n",
       "    </tr>\n",
       "    <tr>\n",
       "      <th>Neoplasms</th>\n",
       "      <td>8.958986e+00</td>\n",
       "      <td>9.243717e+00</td>\n",
       "      <td>7.378679e+00</td>\n",
       "      <td>5.429957e+00</td>\n",
       "    </tr>\n",
       "    <tr>\n",
       "      <th>Diabetes mellitus</th>\n",
       "      <td>4.312503e+00</td>\n",
       "      <td>1.157836e+01</td>\n",
       "      <td>4.205554e+00</td>\n",
       "      <td>2.531922e+00</td>\n",
       "    </tr>\n",
       "    <tr>\n",
       "      <th>Lower respiratory infections</th>\n",
       "      <td>3.985510e+00</td>\n",
       "      <td>7.719785e+00</td>\n",
       "      <td>3.042008e+00</td>\n",
       "      <td>1.928483e+00</td>\n",
       "    </tr>\n",
       "    <tr>\n",
       "      <th>Cirrhosis and other chronic liver diseases</th>\n",
       "      <td>2.846123e+00</td>\n",
       "      <td>1.015043e+01</td>\n",
       "      <td>2.176194e+00</td>\n",
       "      <td>1.284005e+00</td>\n",
       "    </tr>\n",
       "    <tr>\n",
       "      <th>Chronic kidney disease</th>\n",
       "      <td>2.784596e+00</td>\n",
       "      <td>9.298804e+00</td>\n",
       "      <td>1.946259e+00</td>\n",
       "      <td>1.261377e+00</td>\n",
       "    </tr>\n",
       "    <tr>\n",
       "      <th>Alzheimer's disease and other dementias</th>\n",
       "      <td>2.719202e+00</td>\n",
       "      <td>8.714560e+00</td>\n",
       "      <td>2.935337e+00</td>\n",
       "      <td>1.937907e+00</td>\n",
       "    </tr>\n",
       "    <tr>\n",
       "      <th>Chronic respiratory diseases</th>\n",
       "      <td>1.692206e+00</td>\n",
       "      <td>3.851651e+00</td>\n",
       "      <td>1.246213e+00</td>\n",
       "      <td>7.600454e-01</td>\n",
       "    </tr>\n",
       "    <tr>\n",
       "      <th>HIV/AIDS</th>\n",
       "      <td>1.080832e+00</td>\n",
       "      <td>6.265023e+00</td>\n",
       "      <td>2.461959e+00</td>\n",
       "      <td>1.739215e+00</td>\n",
       "    </tr>\n",
       "    <tr>\n",
       "      <th>Self-harm</th>\n",
       "      <td>8.609455e-01</td>\n",
       "      <td>6.648311e+00</td>\n",
       "      <td>9.744445e-01</td>\n",
       "      <td>4.510221e-01</td>\n",
       "    </tr>\n",
       "    <tr>\n",
       "      <th>Interpersonal violence</th>\n",
       "      <td>7.532819e-01</td>\n",
       "      <td>7.826843e+00</td>\n",
       "      <td>1.286603e+00</td>\n",
       "      <td>7.083748e-01</td>\n",
       "    </tr>\n",
       "    <tr>\n",
       "      <th>Road injuries</th>\n",
       "      <td>6.833031e-01</td>\n",
       "      <td>3.655069e+00</td>\n",
       "      <td>6.125184e-01</td>\n",
       "      <td>3.052905e-01</td>\n",
       "    </tr>\n",
       "    <tr>\n",
       "      <th>Malaria</th>\n",
       "      <td>4.287178e-01</td>\n",
       "      <td>2.340954e+00</td>\n",
       "      <td>8.114763e-01</td>\n",
       "      <td>6.100298e-01</td>\n",
       "    </tr>\n",
       "    <tr>\n",
       "      <th>Alcohol use disorders</th>\n",
       "      <td>3.188769e-01</td>\n",
       "      <td>8.086970e+00</td>\n",
       "      <td>1.053005e+00</td>\n",
       "      <td>3.119123e-01</td>\n",
       "    </tr>\n",
       "    <tr>\n",
       "      <th>Maternal disorders</th>\n",
       "      <td>2.875982e-01</td>\n",
       "      <td>7.202723e+00</td>\n",
       "      <td>8.680742e-01</td>\n",
       "      <td>3.833620e-01</td>\n",
       "    </tr>\n",
       "    <tr>\n",
       "      <th>Digestive diseases</th>\n",
       "      <td>2.134171e-01</td>\n",
       "      <td>4.226479e-01</td>\n",
       "      <td>7.966677e-02</td>\n",
       "      <td>3.985654e-02</td>\n",
       "    </tr>\n",
       "    <tr>\n",
       "      <th>Parkinson's disease</th>\n",
       "      <td>1.377983e-01</td>\n",
       "      <td>1.804751e+00</td>\n",
       "      <td>2.317493e-01</td>\n",
       "      <td>7.583525e-02</td>\n",
       "    </tr>\n",
       "    <tr>\n",
       "      <th>Tuberculosis</th>\n",
       "      <td>1.377607e-01</td>\n",
       "      <td>1.264133e+00</td>\n",
       "      <td>3.710920e-01</td>\n",
       "      <td>1.987604e-01</td>\n",
       "    </tr>\n",
       "    <tr>\n",
       "      <th>Conflict and terrorism</th>\n",
       "      <td>1.229646e-01</td>\n",
       "      <td>8.706730e+00</td>\n",
       "      <td>1.020782e+00</td>\n",
       "      <td>2.450603e-01</td>\n",
       "    </tr>\n",
       "    <tr>\n",
       "      <th>Drug use disorders</th>\n",
       "      <td>8.968666e-02</td>\n",
       "      <td>5.311030e+00</td>\n",
       "      <td>5.693077e-01</td>\n",
       "      <td>8.686239e-02</td>\n",
       "    </tr>\n",
       "    <tr>\n",
       "      <th>Diarrheal diseases</th>\n",
       "      <td>8.462465e-02</td>\n",
       "      <td>5.543992e-01</td>\n",
       "      <td>9.219375e-02</td>\n",
       "      <td>5.517467e-02</td>\n",
       "    </tr>\n",
       "    <tr>\n",
       "      <th>Neonatal disorders</th>\n",
       "      <td>8.357363e-02</td>\n",
       "      <td>3.227317e-01</td>\n",
       "      <td>7.555089e-02</td>\n",
       "      <td>4.762312e-02</td>\n",
       "    </tr>\n",
       "    <tr>\n",
       "      <th>Meningitis</th>\n",
       "      <td>7.048870e-02</td>\n",
       "      <td>1.519567e+00</td>\n",
       "      <td>2.050263e-01</td>\n",
       "      <td>8.688287e-02</td>\n",
       "    </tr>\n",
       "    <tr>\n",
       "      <th>Nutritional deficiencies</th>\n",
       "      <td>5.810153e-02</td>\n",
       "      <td>1.073261e+00</td>\n",
       "      <td>1.476539e-01</td>\n",
       "      <td>6.612995e-02</td>\n",
       "    </tr>\n",
       "    <tr>\n",
       "      <th>Drowning</th>\n",
       "      <td>5.335824e-02</td>\n",
       "      <td>1.140223e+00</td>\n",
       "      <td>1.566593e-01</td>\n",
       "      <td>3.029434e-02</td>\n",
       "    </tr>\n",
       "    <tr>\n",
       "      <th>Environmental heat and cold exposure</th>\n",
       "      <td>5.195685e-02</td>\n",
       "      <td>6.239047e+00</td>\n",
       "      <td>6.916326e-01</td>\n",
       "      <td>6.173851e-02</td>\n",
       "    </tr>\n",
       "    <tr>\n",
       "      <th>Poisonings</th>\n",
       "      <td>5.059069e-02</td>\n",
       "      <td>4.360995e+00</td>\n",
       "      <td>4.535057e-01</td>\n",
       "      <td>4.640239e-02</td>\n",
       "    </tr>\n",
       "    <tr>\n",
       "      <th>Fire, heat, and hot substances</th>\n",
       "      <td>3.240177e-02</td>\n",
       "      <td>1.130404e+00</td>\n",
       "      <td>1.345768e-01</td>\n",
       "      <td>1.554289e-02</td>\n",
       "    </tr>\n",
       "    <tr>\n",
       "      <th>Protein-energy malnutrition</th>\n",
       "      <td>2.669826e-02</td>\n",
       "      <td>6.668824e-01</td>\n",
       "      <td>9.481856e-02</td>\n",
       "      <td>3.367709e-02</td>\n",
       "    </tr>\n",
       "    <tr>\n",
       "      <th>Exposure to forces of nature</th>\n",
       "      <td>6.814188e-03</td>\n",
       "      <td>1.762056e+00</td>\n",
       "      <td>1.632821e-01</td>\n",
       "      <td>3.304149e-03</td>\n",
       "    </tr>\n",
       "    <tr>\n",
       "      <th>Acute hepatitis</th>\n",
       "      <td>4.910742e-03</td>\n",
       "      <td>6.158892e-01</td>\n",
       "      <td>4.310262e-02</td>\n",
       "      <td>3.343095e-03</td>\n",
       "    </tr>\n",
       "  </tbody>\n",
       "</table>\n",
       "</div>"
      ],
      "text/plain": [
       "                                                       0             1  \\\n",
       "Population                                  1.022733e+09  1.993401e+09   \n",
       "population_cov                              8.476716e+08  1.780833e+09   \n",
       "new_cases_per_million                       2.239716e+07  2.265344e+07   \n",
       "Area_km2                                    1.033267e+07  1.679242e+07   \n",
       "Density_km2                                 7.186737e+04  5.093695e+04   \n",
       "Year_x                                      2.196134e+04  6.202123e-01   \n",
       "life_expectancy_cov                         1.162633e+03  1.292580e+02   \n",
       "air_polution                                5.986486e+02  4.614802e+02   \n",
       "Total                                       3.593387e+01  1.304012e+01   \n",
       "Cardiovascular diseases                     2.809641e+01  2.053753e+01   \n",
       "Neoplasms                                   8.958986e+00  9.243717e+00   \n",
       "Diabetes mellitus                           4.312503e+00  1.157836e+01   \n",
       "Lower respiratory infections                3.985510e+00  7.719785e+00   \n",
       "Cirrhosis and other chronic liver diseases  2.846123e+00  1.015043e+01   \n",
       "Chronic kidney disease                      2.784596e+00  9.298804e+00   \n",
       "Alzheimer's disease and other dementias     2.719202e+00  8.714560e+00   \n",
       "Chronic respiratory diseases                1.692206e+00  3.851651e+00   \n",
       "HIV/AIDS                                    1.080832e+00  6.265023e+00   \n",
       "Self-harm                                   8.609455e-01  6.648311e+00   \n",
       "Interpersonal violence                      7.532819e-01  7.826843e+00   \n",
       "Road injuries                               6.833031e-01  3.655069e+00   \n",
       "Malaria                                     4.287178e-01  2.340954e+00   \n",
       "Alcohol use disorders                       3.188769e-01  8.086970e+00   \n",
       "Maternal disorders                          2.875982e-01  7.202723e+00   \n",
       "Digestive diseases                          2.134171e-01  4.226479e-01   \n",
       "Parkinson's disease                         1.377983e-01  1.804751e+00   \n",
       "Tuberculosis                                1.377607e-01  1.264133e+00   \n",
       "Conflict and terrorism                      1.229646e-01  8.706730e+00   \n",
       "Drug use disorders                          8.968666e-02  5.311030e+00   \n",
       "Diarrheal diseases                          8.462465e-02  5.543992e-01   \n",
       "Neonatal disorders                          8.357363e-02  3.227317e-01   \n",
       "Meningitis                                  7.048870e-02  1.519567e+00   \n",
       "Nutritional deficiencies                    5.810153e-02  1.073261e+00   \n",
       "Drowning                                    5.335824e-02  1.140223e+00   \n",
       "Environmental heat and cold exposure        5.195685e-02  6.239047e+00   \n",
       "Poisonings                                  5.059069e-02  4.360995e+00   \n",
       "Fire, heat, and hot substances              3.240177e-02  1.130404e+00   \n",
       "Protein-energy malnutrition                 2.669826e-02  6.668824e-01   \n",
       "Exposure to forces of nature                6.814188e-03  1.762056e+00   \n",
       "Acute hepatitis                             4.910742e-03  6.158892e-01   \n",
       "\n",
       "                                                       2             3  \n",
       "Population                                  1.879347e+09  1.156685e+09  \n",
       "population_cov                              1.499498e+09  9.209495e+08  \n",
       "new_cases_per_million                       2.187344e+07  1.724673e+07  \n",
       "Area_km2                                    1.492912e+07  1.268083e+07  \n",
       "Density_km2                                 8.014394e+04  4.366932e+04  \n",
       "Year_x                                      6.645190e-02  0.000000e+00  \n",
       "life_expectancy_cov                         1.267414e+02  8.492591e+01  \n",
       "air_polution                                4.520254e+02  3.246251e+02  \n",
       "Total                                       1.322603e+01  8.908080e+00  \n",
       "Cardiovascular diseases                     1.851219e+01  1.314431e+01  \n",
       "Neoplasms                                   7.378679e+00  5.429957e+00  \n",
       "Diabetes mellitus                           4.205554e+00  2.531922e+00  \n",
       "Lower respiratory infections                3.042008e+00  1.928483e+00  \n",
       "Cirrhosis and other chronic liver diseases  2.176194e+00  1.284005e+00  \n",
       "Chronic kidney disease                      1.946259e+00  1.261377e+00  \n",
       "Alzheimer's disease and other dementias     2.935337e+00  1.937907e+00  \n",
       "Chronic respiratory diseases                1.246213e+00  7.600454e-01  \n",
       "HIV/AIDS                                    2.461959e+00  1.739215e+00  \n",
       "Self-harm                                   9.744445e-01  4.510221e-01  \n",
       "Interpersonal violence                      1.286603e+00  7.083748e-01  \n",
       "Road injuries                               6.125184e-01  3.052905e-01  \n",
       "Malaria                                     8.114763e-01  6.100298e-01  \n",
       "Alcohol use disorders                       1.053005e+00  3.119123e-01  \n",
       "Maternal disorders                          8.680742e-01  3.833620e-01  \n",
       "Digestive diseases                          7.966677e-02  3.985654e-02  \n",
       "Parkinson's disease                         2.317493e-01  7.583525e-02  \n",
       "Tuberculosis                                3.710920e-01  1.987604e-01  \n",
       "Conflict and terrorism                      1.020782e+00  2.450603e-01  \n",
       "Drug use disorders                          5.693077e-01  8.686239e-02  \n",
       "Diarrheal diseases                          9.219375e-02  5.517467e-02  \n",
       "Neonatal disorders                          7.555089e-02  4.762312e-02  \n",
       "Meningitis                                  2.050263e-01  8.688287e-02  \n",
       "Nutritional deficiencies                    1.476539e-01  6.612995e-02  \n",
       "Drowning                                    1.566593e-01  3.029434e-02  \n",
       "Environmental heat and cold exposure        6.916326e-01  6.173851e-02  \n",
       "Poisonings                                  4.535057e-01  4.640239e-02  \n",
       "Fire, heat, and hot substances              1.345768e-01  1.554289e-02  \n",
       "Protein-energy malnutrition                 9.481856e-02  3.367709e-02  \n",
       "Exposure to forces of nature                1.632821e-01  3.304149e-03  \n",
       "Acute hepatitis                             4.310262e-02  3.343095e-03  "
      ]
     },
     "execution_count": 68,
     "metadata": {},
     "output_type": "execute_result"
    }
   ],
   "source": [
    "df_consol"
   ]
  },
  {
   "cell_type": "code",
   "execution_count": null,
   "metadata": {},
   "outputs": [],
   "source": [
    "df_consol.columns = ['IG', 'GS', 'IG_SMOOTHED', 'SHAPLEY']"
   ]
  },
  {
   "cell_type": "code",
   "execution_count": null,
   "metadata": {},
   "outputs": [],
   "source": []
  },
  {
   "cell_type": "markdown",
   "metadata": {},
   "source": [
    "DeepLift"
   ]
  },
  {
   "cell_type": "code",
   "execution_count": 115,
   "metadata": {},
   "outputs": [
    {
     "ename": "RuntimeError",
     "evalue": "Cannot use both regular backward hooks and full backward hooks on a single Module. Please use only one of them.",
     "output_type": "error",
     "traceback": [
      "\u001b[0;31m---------------------------------------------------------------------------\u001b[0m",
      "\u001b[0;31mRuntimeError\u001b[0m                              Traceback (most recent call last)",
      "\u001b[1;32m/mnt/c/Users/rwmas/GitHub/xai/xai_api/app/notebooks/captum.ipynb Cell 37\u001b[0m in \u001b[0;36m<cell line: 2>\u001b[0;34m()\u001b[0m\n\u001b[1;32m      <a href='vscode-notebook-cell://wsl%2Bubuntu/mnt/c/Users/rwmas/GitHub/xai/xai_api/app/notebooks/captum.ipynb#X41sdnNjb2RlLXJlbW90ZQ%3D%3D?line=0'>1</a>\u001b[0m dl \u001b[39m=\u001b[39m DeepLift(briskmodel_loaded)\n\u001b[0;32m----> <a href='vscode-notebook-cell://wsl%2Bubuntu/mnt/c/Users/rwmas/GitHub/xai/xai_api/app/notebooks/captum.ipynb#X41sdnNjb2RlLXJlbW90ZQ%3D%3D?line=1'>2</a>\u001b[0m attributions, delta \u001b[39m=\u001b[39m dl\u001b[39m.\u001b[39;49mattribute(df_tensor, baseline_dist, \n\u001b[1;32m      <a href='vscode-notebook-cell://wsl%2Bubuntu/mnt/c/Users/rwmas/GitHub/xai/xai_api/app/notebooks/captum.ipynb#X41sdnNjb2RlLXJlbW90ZQ%3D%3D?line=2'>3</a>\u001b[0m                                         \u001b[39m# target=0,\u001b[39;49;00m\n\u001b[1;32m      <a href='vscode-notebook-cell://wsl%2Bubuntu/mnt/c/Users/rwmas/GitHub/xai/xai_api/app/notebooks/captum.ipynb#X41sdnNjb2RlLXJlbW90ZQ%3D%3D?line=3'>4</a>\u001b[0m                                         return_convergence_delta\u001b[39m=\u001b[39;49m\u001b[39mTrue\u001b[39;49;00m)\n",
      "File \u001b[0;32m~/miniconda3/envs/test/lib/python3.8/site-packages/captum/log/__init__.py:35\u001b[0m, in \u001b[0;36mlog_usage.<locals>._log_usage.<locals>.wrapper\u001b[0;34m(*args, **kwargs)\u001b[0m\n\u001b[1;32m     33\u001b[0m \u001b[39m@wraps\u001b[39m(func)\n\u001b[1;32m     34\u001b[0m \u001b[39mdef\u001b[39;00m \u001b[39mwrapper\u001b[39m(\u001b[39m*\u001b[39margs, \u001b[39m*\u001b[39m\u001b[39m*\u001b[39mkwargs):\n\u001b[0;32m---> 35\u001b[0m     \u001b[39mreturn\u001b[39;00m func(\u001b[39m*\u001b[39;49margs, \u001b[39m*\u001b[39;49m\u001b[39m*\u001b[39;49mkwargs)\n",
      "File \u001b[0;32m~/miniconda3/envs/test/lib/python3.8/site-packages/captum/attr/_core/deep_lift.py:346\u001b[0m, in \u001b[0;36mDeepLift.attribute\u001b[0;34m(self, inputs, baselines, target, additional_forward_args, return_convergence_delta, custom_attribution_func)\u001b[0m\n\u001b[1;32m    343\u001b[0m \u001b[39mtry\u001b[39;00m:\n\u001b[1;32m    344\u001b[0m     main_model_hooks \u001b[39m=\u001b[39m \u001b[39mself\u001b[39m\u001b[39m.\u001b[39m_hook_main_model()\n\u001b[0;32m--> 346\u001b[0m     \u001b[39mself\u001b[39;49m\u001b[39m.\u001b[39;49mmodel\u001b[39m.\u001b[39;49mapply(\u001b[39mself\u001b[39;49m\u001b[39m.\u001b[39;49m_register_hooks)\n\u001b[1;32m    348\u001b[0m     additional_forward_args \u001b[39m=\u001b[39m _format_additional_forward_args(\n\u001b[1;32m    349\u001b[0m         additional_forward_args\n\u001b[1;32m    350\u001b[0m     )\n\u001b[1;32m    352\u001b[0m     expanded_target \u001b[39m=\u001b[39m _expand_target(\n\u001b[1;32m    353\u001b[0m         target, \u001b[39m2\u001b[39m, expansion_type\u001b[39m=\u001b[39mExpansionTypes\u001b[39m.\u001b[39mrepeat\n\u001b[1;32m    354\u001b[0m     )\n",
      "File \u001b[0;32m~/miniconda3/envs/test/lib/python3.8/site-packages/torch/nn/modules/module.py:668\u001b[0m, in \u001b[0;36mModule.apply\u001b[0;34m(self, fn)\u001b[0m\n\u001b[1;32m    630\u001b[0m \u001b[39mr\u001b[39m\u001b[39m\"\"\"Applies ``fn`` recursively to every submodule (as returned by ``.children()``)\u001b[39;00m\n\u001b[1;32m    631\u001b[0m \u001b[39mas well as self. Typical use includes initializing the parameters of a model\u001b[39;00m\n\u001b[1;32m    632\u001b[0m \u001b[39m(see also :ref:`nn-init-doc`).\u001b[39;00m\n\u001b[0;32m   (...)\u001b[0m\n\u001b[1;32m    665\u001b[0m \u001b[39m    )\u001b[39;00m\n\u001b[1;32m    666\u001b[0m \u001b[39m\"\"\"\u001b[39;00m\n\u001b[1;32m    667\u001b[0m \u001b[39mfor\u001b[39;00m module \u001b[39min\u001b[39;00m \u001b[39mself\u001b[39m\u001b[39m.\u001b[39mchildren():\n\u001b[0;32m--> 668\u001b[0m     module\u001b[39m.\u001b[39;49mapply(fn)\n\u001b[1;32m    669\u001b[0m fn(\u001b[39mself\u001b[39m)\n\u001b[1;32m    670\u001b[0m \u001b[39mreturn\u001b[39;00m \u001b[39mself\u001b[39m\n",
      "File \u001b[0;32m~/miniconda3/envs/test/lib/python3.8/site-packages/torch/nn/modules/module.py:669\u001b[0m, in \u001b[0;36mModule.apply\u001b[0;34m(self, fn)\u001b[0m\n\u001b[1;32m    667\u001b[0m \u001b[39mfor\u001b[39;00m module \u001b[39min\u001b[39;00m \u001b[39mself\u001b[39m\u001b[39m.\u001b[39mchildren():\n\u001b[1;32m    668\u001b[0m     module\u001b[39m.\u001b[39mapply(fn)\n\u001b[0;32m--> 669\u001b[0m fn(\u001b[39mself\u001b[39;49m)\n\u001b[1;32m    670\u001b[0m \u001b[39mreturn\u001b[39;00m \u001b[39mself\u001b[39m\n",
      "File \u001b[0;32m~/miniconda3/envs/test/lib/python3.8/site-packages/captum/attr/_core/deep_lift.py:549\u001b[0m, in \u001b[0;36mDeepLift._register_hooks\u001b[0;34m(self, module, attribute_to_layer_input)\u001b[0m\n\u001b[1;32m    547\u001b[0m forward_handle \u001b[39m=\u001b[39m module\u001b[39m.\u001b[39mregister_forward_hook(\u001b[39mself\u001b[39m\u001b[39m.\u001b[39m_forward_hook)\n\u001b[1;32m    548\u001b[0m pre_forward_handle \u001b[39m=\u001b[39m module\u001b[39m.\u001b[39mregister_forward_pre_hook(\u001b[39mself\u001b[39m\u001b[39m.\u001b[39m_forward_pre_hook)\n\u001b[0;32m--> 549\u001b[0m backward_handle \u001b[39m=\u001b[39m _register_backward_hook(module, \u001b[39mself\u001b[39;49m\u001b[39m.\u001b[39;49m_backward_hook, \u001b[39mself\u001b[39;49m)\n\u001b[1;32m    550\u001b[0m \u001b[39mself\u001b[39m\u001b[39m.\u001b[39mforward_handles\u001b[39m.\u001b[39mappend(forward_handle)\n\u001b[1;32m    551\u001b[0m \u001b[39mself\u001b[39m\u001b[39m.\u001b[39mforward_handles\u001b[39m.\u001b[39mappend(pre_forward_handle)\n",
      "File \u001b[0;32m~/miniconda3/envs/test/lib/python3.8/site-packages/captum/_utils/common.py:672\u001b[0m, in \u001b[0;36m_register_backward_hook\u001b[0;34m(module, hook, attr_obj)\u001b[0m\n\u001b[1;32m    668\u001b[0m     \u001b[39mreturn\u001b[39;00m module\u001b[39m.\u001b[39mregister_backward_hook(hook)\n\u001b[1;32m    670\u001b[0m \u001b[39mif\u001b[39;00m torch\u001b[39m.\u001b[39m__version__ \u001b[39m>\u001b[39m\u001b[39m=\u001b[39m \u001b[39m\"\u001b[39m\u001b[39m1.9\u001b[39m\u001b[39m\"\u001b[39m:\n\u001b[1;32m    671\u001b[0m     \u001b[39m# Only supported for torch >= 1.9\u001b[39;00m\n\u001b[0;32m--> 672\u001b[0m     \u001b[39mreturn\u001b[39;00m module\u001b[39m.\u001b[39;49mregister_full_backward_hook(hook)\n\u001b[1;32m    673\u001b[0m \u001b[39melse\u001b[39;00m:\n\u001b[1;32m    674\u001b[0m     \u001b[39m# Fallback for previous versions of PyTorch\u001b[39;00m\n\u001b[1;32m    675\u001b[0m     \u001b[39mreturn\u001b[39;00m module\u001b[39m.\u001b[39mregister_backward_hook(hook)\n",
      "File \u001b[0;32m~/miniconda3/envs/test/lib/python3.8/site-packages/torch/nn/modules/module.py:987\u001b[0m, in \u001b[0;36mModule.register_full_backward_hook\u001b[0;34m(self, hook)\u001b[0m\n\u001b[1;32m    956\u001b[0m \u001b[39mr\u001b[39m\u001b[39m\"\"\"Registers a backward hook on the module.\u001b[39;00m\n\u001b[1;32m    957\u001b[0m \n\u001b[1;32m    958\u001b[0m \u001b[39mThe hook will be called every time the gradients with respect to module\u001b[39;00m\n\u001b[0;32m   (...)\u001b[0m\n\u001b[1;32m    984\u001b[0m \n\u001b[1;32m    985\u001b[0m \u001b[39m\"\"\"\u001b[39;00m\n\u001b[1;32m    986\u001b[0m \u001b[39mif\u001b[39;00m \u001b[39mself\u001b[39m\u001b[39m.\u001b[39m_is_full_backward_hook \u001b[39mis\u001b[39;00m \u001b[39mFalse\u001b[39;00m:\n\u001b[0;32m--> 987\u001b[0m     \u001b[39mraise\u001b[39;00m \u001b[39mRuntimeError\u001b[39;00m(\u001b[39m\"\u001b[39m\u001b[39mCannot use both regular backward hooks and full backward hooks on a \u001b[39m\u001b[39m\"\u001b[39m\n\u001b[1;32m    988\u001b[0m                        \u001b[39m\"\u001b[39m\u001b[39msingle Module. Please use only one of them.\u001b[39m\u001b[39m\"\u001b[39m)\n\u001b[1;32m    990\u001b[0m \u001b[39mself\u001b[39m\u001b[39m.\u001b[39m_is_full_backward_hook \u001b[39m=\u001b[39m \u001b[39mTrue\u001b[39;00m\n\u001b[1;32m    992\u001b[0m handle \u001b[39m=\u001b[39m hooks\u001b[39m.\u001b[39mRemovableHandle(\u001b[39mself\u001b[39m\u001b[39m.\u001b[39m_backward_hooks)\n",
      "\u001b[0;31mRuntimeError\u001b[0m: Cannot use both regular backward hooks and full backward hooks on a single Module. Please use only one of them."
     ]
    }
   ],
   "source": [
    "dl = DeepLift(briskmodel_loaded)\n",
    "attributions, delta = dl.attribute(df_tensor, baseline_dist, \n",
    "                                        # target=0,\n",
    "                                        return_convergence_delta=True)\n"
   ]
  },
  {
   "cell_type": "markdown",
   "metadata": {},
   "source": [
    "DeepLiftShap"
   ]
  },
  {
   "cell_type": "code",
   "execution_count": 114,
   "metadata": {},
   "outputs": [
    {
     "ename": "NameError",
     "evalue": "name 'DeepLiftShap' is not defined",
     "output_type": "error",
     "traceback": [
      "\u001b[0;31m---------------------------------------------------------------------------\u001b[0m",
      "\u001b[0;31mNameError\u001b[0m                                 Traceback (most recent call last)",
      "\u001b[1;32m/mnt/c/Users/rwmas/GitHub/xai/xai_api/app/notebooks/captum.ipynb Cell 39\u001b[0m in \u001b[0;36m<cell line: 1>\u001b[0;34m()\u001b[0m\n\u001b[0;32m----> <a href='vscode-notebook-cell://wsl%2Bubuntu/mnt/c/Users/rwmas/GitHub/xai/xai_api/app/notebooks/captum.ipynb#X43sdnNjb2RlLXJlbW90ZQ%3D%3D?line=0'>1</a>\u001b[0m dl \u001b[39m=\u001b[39m DeepLiftShap(briskmodel_loaded)\n\u001b[1;32m      <a href='vscode-notebook-cell://wsl%2Bubuntu/mnt/c/Users/rwmas/GitHub/xai/xai_api/app/notebooks/captum.ipynb#X43sdnNjb2RlLXJlbW90ZQ%3D%3D?line=1'>2</a>\u001b[0m dl_attr, delta \u001b[39m=\u001b[39m dl\u001b[39m.\u001b[39mattribute(df_tensor, baseline_dist, \n\u001b[1;32m      <a href='vscode-notebook-cell://wsl%2Bubuntu/mnt/c/Users/rwmas/GitHub/xai/xai_api/app/notebooks/captum.ipynb#X43sdnNjb2RlLXJlbW90ZQ%3D%3D?line=2'>3</a>\u001b[0m                                                 \u001b[39m# target=0,\u001b[39;00m\n\u001b[1;32m      <a href='vscode-notebook-cell://wsl%2Bubuntu/mnt/c/Users/rwmas/GitHub/xai/xai_api/app/notebooks/captum.ipynb#X43sdnNjb2RlLXJlbW90ZQ%3D%3D?line=3'>4</a>\u001b[0m                                                 return_convergence_delta\u001b[39m=\u001b[39m\u001b[39mTrue\u001b[39;00m)\n",
      "\u001b[0;31mNameError\u001b[0m: name 'DeepLiftShap' is not defined"
     ]
    }
   ],
   "source": [
    "dl = DeepLiftShap(briskmodel_loaded)\n",
    "dl_attr, delta = dl.attribute(df_tensor, baseline_dist, \n",
    "                                                # target=0,\n",
    "                                                return_convergence_delta=True)\n"
   ]
  },
  {
   "cell_type": "code",
   "execution_count": 85,
   "metadata": {},
   "outputs": [],
   "source": [
    "# test = torch.tensor(X_test.values.astype(np.float32))\n",
    "X_test_tensor = torch.tensor(X_train.values).float()"
   ]
  },
  {
   "cell_type": "code",
   "execution_count": 79,
   "metadata": {},
   "outputs": [
    {
     "data": {
      "text/plain": [
       "torch.Size([1, 143, 40])"
      ]
     },
     "execution_count": 79,
     "metadata": {},
     "output_type": "execute_result"
    }
   ],
   "source": [
    "X_test_tensor.shape"
   ]
  },
  {
   "cell_type": "code",
   "execution_count": 119,
   "metadata": {},
   "outputs": [],
   "source": []
  }
 ],
 "metadata": {
  "kernelspec": {
   "display_name": "Python 3.8.13 ('test')",
   "language": "python",
   "name": "python3"
  },
  "language_info": {
   "codemirror_mode": {
    "name": "ipython",
    "version": 3
   },
   "file_extension": ".py",
   "mimetype": "text/x-python",
   "name": "python",
   "nbconvert_exporter": "python",
   "pygments_lexer": "ipython3",
   "version": "3.8.13"
  },
  "orig_nbformat": 4,
  "vscode": {
   "interpreter": {
    "hash": "b6ff7914d2bc405bfa61a835d0564ba294eb5f3f9b4c24865f45d9397593b123"
   }
  }
 },
 "nbformat": 4,
 "nbformat_minor": 2
}
