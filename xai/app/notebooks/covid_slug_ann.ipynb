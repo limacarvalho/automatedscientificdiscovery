{
 "cells": [
  {
   "cell_type": "code",
   "execution_count": 8,
   "metadata": {},
   "outputs": [
    {
     "name": "stdout",
     "output_type": "stream",
     "text": [
      "The autoreload extension is already loaded. To reload it, use:\n",
      "  %reload_ext autoreload\n"
     ]
    }
   ],
   "source": [
    "%load_ext autoreload\n",
    "%autoreload 2"
   ]
  },
  {
   "cell_type": "code",
   "execution_count": 9,
   "metadata": {},
   "outputs": [],
   "source": [
    "import sys; sys.path.insert(0, '..') # add parent folder path where lib folder is"
   ]
  },
  {
   "cell_type": "code",
   "execution_count": 10,
   "metadata": {},
   "outputs": [],
   "source": [
    "from ml.models.base.slug_ann import SlugANN\n",
    "from utils import helper, config, dasker\n",
    "from dask_ml.model_selection import train_test_split\n",
    "from dask_ml.preprocessing import StandardScaler\n",
    "from sklearn.metrics import r2_score, mean_squared_error\n",
    "from sklearn.metrics import f1_score, roc_auc_score, precision_score, recall_score"
   ]
  },
  {
   "cell_type": "code",
   "execution_count": 11,
   "metadata": {},
   "outputs": [
    {
     "name": "stdout",
     "output_type": "stream",
     "text": [
      "Cleared the existing saved models\n",
      "Directory structure for project /covid created successfully\n"
     ]
    }
   ],
   "source": [
    "config.create_project_dirs(overwrite=True)"
   ]
  },
  {
   "cell_type": "code",
   "execution_count": 12,
   "metadata": {},
   "outputs": [
    {
     "name": "stdout",
     "output_type": "stream",
     "text": [
      "<Client: 'tcp://127.0.0.1:8786' processes=4 threads=4, memory=15.37 GiB>\n"
     ]
    }
   ],
   "source": [
    "cl = dasker.get_local_client()\n",
    "# cl =  dasker.get_global_client()\n",
    "print(cl)"
   ]
  },
  {
   "cell_type": "code",
   "execution_count": 13,
   "metadata": {},
   "outputs": [],
   "source": [
    "X, y = helper.get_covid_dataset()\n",
    "X = X.drop(['location'], axis = 1)\n",
    "X_train, X_test, y_train, y_test = train_test_split(X, y, test_size=0.33, random_state=config.rand_state)"
   ]
  },
  {
   "cell_type": "code",
   "execution_count": 14,
   "metadata": {},
   "outputs": [],
   "source": [
    "X, y = helper.get_covid_dataset()\n",
    "X = X.drop(['location'], axis = 1)\n",
    "X_scalar = StandardScaler().fit_transform(X.copy())\n",
    "\n",
    "X_base, X_test, y_base, y_test = train_test_split(X_scalar, y, test_size=0.33, random_state=config.rand_state)\n",
    "X_train, X_val, y_train, y_val = train_test_split(X_base, y_base)\n"
   ]
  },
  {
   "cell_type": "code",
   "execution_count": 15,
   "metadata": {},
   "outputs": [],
   "source": [
    "slug_ann = SlugANN()\n",
    "slug_ann.X_train = X_train\n",
    "slug_ann.X_test = X_test\n",
    "slug_ann.X_val = X_val\n",
    "slug_ann.y_train = y_train\n",
    "slug_ann.y_test = y_test\n",
    "slug_ann.y_val = y_val\n",
    "\n",
    "slug_ann.n_trials = 1000    #### increase this number to imporve the goodness of fit\n"
   ]
  },
  {
   "cell_type": "code",
   "execution_count": 16,
   "metadata": {},
   "outputs": [
    {
     "name": "stdout",
     "output_type": "stream",
     "text": [
      "2022-10-25 19:27:53,849 - console_info - INFO - slug ann: Starting train for trials:1000 with epochs: 300\n",
      "2022-10-25 19:27:53,849 - console_info - INFO - slug ann: Starting train for trials:1000 with epochs: 300\n",
      "2022-10-25 19:27:53,856 - console_info - INFO - slug ann: Cleared previous models in the model save path\n",
      "2022-10-25 19:27:53,856 - console_info - INFO - slug ann: Cleared previous models in the model save path\n",
      "2022-10-25 20:10:05,013 - console_info - INFO - slug xgboost: Number of trials: 1000\n",
      "2022-10-25 20:10:05,013 - console_info - INFO - slug xgboost: Number of trials: 1000\n",
      "2022-10-25 20:10:05,157 - console_info - INFO - Best trial: 622\n",
      "2022-10-25 20:10:05,157 - console_info - INFO - Best trial: 622\n",
      "2022-10-25 20:10:05,428 - console_info - INFO - slug ann: Model saved at /home/wasif/python-asd/xai/app/ml/models/saved/covid/base/ann/slug/slug_ann_622.pickle\n",
      "2022-10-25 20:10:05,428 - console_info - INFO - slug ann: Model saved at /home/wasif/python-asd/xai/app/ml/models/saved/covid/base/ann/slug/slug_ann_622.pickle\n"
     ]
    }
   ],
   "source": [
    "best_ann = slug_ann.fetch_model(retrain=True)"
   ]
  },
  {
   "cell_type": "code",
   "execution_count": 18,
   "metadata": {},
   "outputs": [
    {
     "data": {
      "text/plain": [
       "[0.5709415152455228, -0.2933985975774258]"
      ]
     },
     "execution_count": 18,
     "metadata": {},
     "output_type": "execute_result"
    }
   ],
   "source": [
    "slug_ann.get_model_score(score_func=r2_score)"
   ]
  },
  {
   "cell_type": "code",
   "execution_count": 19,
   "metadata": {},
   "outputs": [],
   "source": [
    "pred = slug_ann.predict(X)"
   ]
  },
  {
   "cell_type": "code",
   "execution_count": 20,
   "metadata": {},
   "outputs": [
    {
     "data": {
      "text/plain": [
       "-0.07337026508459221"
      ]
     },
     "execution_count": 20,
     "metadata": {},
     "output_type": "execute_result"
    }
   ],
   "source": [
    "r2_score(pred, y)\n",
    "#mean_squared_error(pred, y)"
   ]
  },
  {
   "cell_type": "code",
   "execution_count": null,
   "metadata": {},
   "outputs": [],
   "source": []
  }
 ],
 "metadata": {
  "kernelspec": {
   "display_name": "admin-wasif-dev",
   "language": "python",
   "name": "conda-env-admin-wasif-dev-py"
  },
  "language_info": {
   "codemirror_mode": {
    "name": "ipython",
    "version": 3
   },
   "file_extension": ".py",
   "mimetype": "text/x-python",
   "name": "python",
   "nbconvert_exporter": "python",
   "pygments_lexer": "ipython3",
   "version": "3.9.13"
  },
  "vscode": {
   "interpreter": {
    "hash": "b6ff7914d2bc405bfa61a835d0564ba294eb5f3f9b4c24865f45d9397593b123"
   }
  }
 },
 "nbformat": 4,
 "nbformat_minor": 4
}
