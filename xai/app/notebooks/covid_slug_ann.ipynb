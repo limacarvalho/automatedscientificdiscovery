{
 "cells": [
  {
   "cell_type": "code",
   "execution_count": 4,
   "metadata": {},
   "outputs": [],
   "source": [
    "%load_ext autoreload\n",
    "%autoreload 2"
   ]
  },
  {
   "cell_type": "code",
   "execution_count": 5,
   "metadata": {},
   "outputs": [],
   "source": [
    "import sys; sys.path.insert(0, '..') # add parent folder path where lib folder is"
   ]
  },
  {
   "cell_type": "code",
   "execution_count": 17,
   "metadata": {},
   "outputs": [],
   "source": [
    "from ml.preprocess import data\n",
    "from utils import helper, config\n",
    "from ml.models.base.slug_ann import SlugANN\n",
    "from sklearn.model_selection import train_test_split\n",
    "\n",
    "from sklearn.metrics import r2_score, mean_squared_error\n",
    "from sklearn.metrics import f1_score, roc_auc_score, precision_score, recall_score\n",
    "from dask_ml.preprocessing import StandardScaler"
   ]
  },
  {
   "cell_type": "code",
   "execution_count": 21,
   "metadata": {},
   "outputs": [],
   "source": [
    "X, y = helper.get_covid_dataset()\n",
    "X = X.drop(['location'], axis = 1)\n",
    "X_scalar = StandardScaler().fit_transform(X)\n",
    "\n",
    "X_base, X_test, y_base, y_test = train_test_split(X_scalar, y, test_size=0.33)\n",
    "X_train, X_val, y_train, y_val = train_test_split(X_base, y_base)\n",
    "\n",
    "\n"
   ]
  },
  {
   "cell_type": "code",
   "execution_count": 22,
   "metadata": {},
   "outputs": [],
   "source": [
    "slug_ann = SlugANN()\n",
    "slug_ann.X_train = X_train\n",
    "slug_ann.X_test = X_test\n",
    "slug_ann.X_val = X_val\n",
    "slug_ann.y_train = y_train\n",
    "slug_ann.y_test = y_test\n",
    "slug_ann.y_val = y_val\n",
    "\n",
    "slug_ann.n_trials = 5    #### increase this number to imporve the goodness of fit\n",
    "slug_ann.epochs = 100"
   ]
  },
  {
   "cell_type": "code",
   "execution_count": 7,
   "metadata": {},
   "outputs": [
    {
     "name": "stderr",
     "output_type": "stream",
     "text": [
      "2022-10-12 11:25:51,567 - distributed.diskutils - INFO - Found stale lock file and directory '/tmp/dask-worker-space/worker-5964_5kj', purging\n",
      "2022-10-12 11:25:51,567 - distributed.diskutils - INFO - Found stale lock file and directory '/tmp/dask-worker-space/worker-uyhstbda', purging\n",
      "2022-10-12 11:25:51,567 - distributed.diskutils - INFO - Found stale lock file and directory '/tmp/dask-worker-space/worker-nzr3lvxn', purging\n",
      "2022-10-12 11:25:51,567 - distributed.diskutils - INFO - Found stale lock file and directory '/tmp/dask-worker-space/worker-e5r_lc34', purging\n"
     ]
    },
    {
     "name": "stdout",
     "output_type": "stream",
     "text": [
      "Dask dashboard is available at http://127.0.0.1:8787/status\n",
      "Starting train for trials:5 with epochs:100\n",
      "Number of trials: 5\n",
      "Best trial:\n",
      "Model saved at:/mnt/c/Users/rwmas/GitHub/xai/xai_api/app/ml/models/saved/base/ann/slug/brisk_ann_0.pickle\n"
     ]
    }
   ],
   "source": [
    "best_ann = slug_ann.fetch_model()"
   ]
  },
  {
   "cell_type": "code",
   "execution_count": 8,
   "metadata": {},
   "outputs": [
    {
     "data": {
      "text/plain": [
       "[-7.8184266458136396, 2998304.889871754]"
      ]
     },
     "execution_count": 8,
     "metadata": {},
     "output_type": "execute_result"
    }
   ],
   "source": [
    "\n",
    "# use any of the score functions of sklearn.metircs, pass a list\n",
    "slug_ann.get_model_score(score_func=[r2_score, mean_squared_error])"
   ]
  },
  {
   "cell_type": "code",
   "execution_count": 48,
   "metadata": {},
   "outputs": [
    {
     "data": {
      "text/plain": [
       "'/mnt/c/Users/rwmas/GitHub/xai/xai_api/app/ml/models/saved/base/brisk_nn_pytorch/brisk_nn_pytorch.pickle'"
      ]
     },
     "execution_count": 48,
     "metadata": {},
     "output_type": "execute_result"
    }
   ],
   "source": [
    "file_name = config.main_dir + '/ml/models/saved/base/brisk_nn_pytorch/brisk_nn_pytorch.pickle'\n",
    "file_name"
   ]
  },
  {
   "cell_type": "code",
   "execution_count": 49,
   "metadata": {},
   "outputs": [],
   "source": [
    "best_ann = slug_ann.load_model(file_name)"
   ]
  },
  {
   "cell_type": "code",
   "execution_count": 50,
   "metadata": {},
   "outputs": [
    {
     "data": {
      "text/plain": [
       "(0.8677055915087115, 146324.98499475874)"
      ]
     },
     "execution_count": 50,
     "metadata": {},
     "output_type": "execute_result"
    }
   ],
   "source": [
    "### Test score\n",
    "X_test_tensor = helper.df_to_tensor(X_test)\n",
    "pred = best_ann(X_test_tensor)\n",
    "pred = helper.torch_tensor_to_numpy(pred)\n",
    "r2_score(pred, y_test), mean_squared_error(pred, y_test)\n",
    "\n"
   ]
  },
  {
   "cell_type": "code",
   "execution_count": 51,
   "metadata": {},
   "outputs": [
    {
     "data": {
      "text/plain": [
       "(0.786116729866593, 262988.35601034906)"
      ]
     },
     "execution_count": 51,
     "metadata": {},
     "output_type": "execute_result"
    }
   ],
   "source": [
    "### Train score\n",
    "X_train_tensor = helper.df_to_tensor(X_train)\n",
    "pred = best_ann(X_train_tensor)\n",
    "pred = helper.torch_tensor_to_numpy(pred)\n",
    "r2_score(pred, y_train), mean_squared_error(pred, y_train)\n"
   ]
  },
  {
   "cell_type": "code",
   "execution_count": null,
   "metadata": {},
   "outputs": [],
   "source": []
  }
 ],
 "metadata": {
  "kernelspec": {
   "display_name": "Python 3.8.13 ('test')",
   "language": "python",
   "name": "python3"
  },
  "language_info": {
   "codemirror_mode": {
    "name": "ipython",
    "version": 3
   },
   "file_extension": ".py",
   "mimetype": "text/x-python",
   "name": "python",
   "nbconvert_exporter": "python",
   "pygments_lexer": "ipython3",
   "version": "3.8.13"
  },
  "orig_nbformat": 4,
  "vscode": {
   "interpreter": {
    "hash": "b6ff7914d2bc405bfa61a835d0564ba294eb5f3f9b4c24865f45d9397593b123"
   }
  }
 },
 "nbformat": 4,
 "nbformat_minor": 2
}
