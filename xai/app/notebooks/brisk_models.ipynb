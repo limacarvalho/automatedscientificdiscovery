{
 "cells": [
  {
   "cell_type": "code",
   "execution_count": 2,
   "metadata": {},
   "outputs": [],
   "source": [
    "%load_ext autoreload\n",
    "%autoreload 2"
   ]
  },
  {
   "cell_type": "code",
   "execution_count": 3,
   "metadata": {},
   "outputs": [],
   "source": [
    "import sys; sys.path.insert(0, '..') # add parent folder path where lib folder is"
   ]
  },
  {
   "cell_type": "code",
   "execution_count": 4,
   "metadata": {},
   "outputs": [],
   "source": [
    "from ml.preprocess import data\n",
    "from utils import helper\n",
    "from ml.models.base import brisk_xgboost, brisk_nn_pytorch"
   ]
  },
  {
   "cell_type": "code",
   "execution_count": 5,
   "metadata": {},
   "outputs": [],
   "source": [
    "import matplotlib.pyplot as plt\n",
    "import pandas as pd\n",
    "from sklearn.model_selection import train_test_split\n",
    "from sklearn.metrics import mean_squared_error\n",
    "import numpy as np\n",
    "\n",
    "\n",
    "from dask_ml.preprocessing import StandardScaler\n",
    "import xgboost as xgb"
   ]
  },
  {
   "cell_type": "markdown",
   "metadata": {},
   "source": [
    "Prepare dataset"
   ]
  },
  {
   "cell_type": "code",
   "execution_count": 5,
   "metadata": {},
   "outputs": [],
   "source": [
    "\n",
    "X, y = data.get_dataset(f_name = '20220319_covid_merge_processed.csv' , sep = ',')\n",
    "\n",
    "X_tilda = X.drop(brisk_xgboost.DROP_LIST, axis = 1)\n",
    "\n",
    "\n",
    "X_train, X_test, y_train, y_test = train_test_split(X_tilda, y, test_size=0.25, random_state=123)\n",
    "\n",
    "X_train_orig, X_test_orig, y_train_orig, y_test_orig = train_test_split(X, y, test_size=0.25, random_state=123)\n"
   ]
  },
  {
   "cell_type": "code",
   "execution_count": 6,
   "metadata": {},
   "outputs": [],
   "source": [
    "\n",
    "brisk_xgboost.N_TRIALS = 1000"
   ]
  },
  {
   "cell_type": "code",
   "execution_count": 7,
   "metadata": {},
   "outputs": [
    {
     "name": "stderr",
     "output_type": "stream",
     "text": [
      "2022-10-04 13:52:40,650 - distributed.diskutils - INFO - Found stale lock file and directory '/tmp/dask-worker-space/worker-ptpnb3tw', purging\n",
      "2022-10-04 13:52:40,650 - distributed.diskutils - INFO - Found stale lock file and directory '/tmp/dask-worker-space/worker-1zja6cnt', purging\n",
      "2022-10-04 13:52:40,650 - distributed.diskutils - INFO - Found stale lock file and directory '/tmp/dask-worker-space/worker-wbzfm7vx', purging\n",
      "2022-10-04 13:52:40,650 - distributed.diskutils - INFO - Found stale lock file and directory '/tmp/dask-worker-space/worker-jfhalt__', purging\n"
     ]
    },
    {
     "name": "stdout",
     "output_type": "stream",
     "text": [
      "Dask dashboard is available at http://127.0.0.1:8787/status\n",
      "Starting train for trials:1000 with boosted rounds:150\n"
     ]
    },
    {
     "name": "stderr",
     "output_type": "stream",
     "text": [
      "2022-10-04 13:56:38,016 - distributed.utils_perf - WARNING - full garbage collections took 10% CPU time recently (threshold: 10%)\n",
      "2022-10-04 13:56:42,272 - distributed.utils_perf - WARNING - full garbage collections took 10% CPU time recently (threshold: 10%)\n",
      "2022-10-04 13:56:43,680 - distributed.utils_perf - WARNING - full garbage collections took 10% CPU time recently (threshold: 10%)\n",
      "2022-10-04 13:56:45,626 - distributed.utils_perf - WARNING - full garbage collections took 10% CPU time recently (threshold: 10%)\n",
      "2022-10-04 13:56:46,351 - distributed.utils_perf - WARNING - full garbage collections took 10% CPU time recently (threshold: 10%)\n",
      "2022-10-04 13:56:47,416 - distributed.utils_perf - WARNING - full garbage collections took 10% CPU time recently (threshold: 10%)\n",
      "2022-10-04 13:56:49,295 - distributed.utils_perf - WARNING - full garbage collections took 10% CPU time recently (threshold: 10%)\n",
      "2022-10-04 13:56:49,738 - distributed.utils_perf - WARNING - full garbage collections took 10% CPU time recently (threshold: 10%)\n",
      "2022-10-04 13:56:51,106 - distributed.utils_perf - WARNING - full garbage collections took 10% CPU time recently (threshold: 10%)\n",
      "2022-10-04 13:56:53,003 - distributed.utils_perf - WARNING - full garbage collections took 10% CPU time recently (threshold: 10%)\n",
      "2022-10-04 13:56:53,514 - distributed.utils_perf - WARNING - full garbage collections took 10% CPU time recently (threshold: 10%)\n",
      "2022-10-04 13:56:54,665 - distributed.utils_perf - WARNING - full garbage collections took 10% CPU time recently (threshold: 10%)\n",
      "2022-10-04 13:56:56,007 - distributed.utils_perf - WARNING - full garbage collections took 10% CPU time recently (threshold: 10%)\n",
      "2022-10-04 13:56:56,821 - distributed.utils_perf - WARNING - full garbage collections took 10% CPU time recently (threshold: 10%)\n",
      "2022-10-04 13:56:58,129 - distributed.utils_perf - WARNING - full garbage collections took 10% CPU time recently (threshold: 10%)\n",
      "2022-10-04 13:56:59,345 - distributed.utils_perf - WARNING - full garbage collections took 10% CPU time recently (threshold: 10%)\n",
      "2022-10-04 13:57:00,814 - distributed.utils_perf - WARNING - full garbage collections took 10% CPU time recently (threshold: 10%)\n",
      "2022-10-04 13:57:01,214 - distributed.utils_perf - WARNING - full garbage collections took 10% CPU time recently (threshold: 10%)\n",
      "2022-10-04 13:57:02,669 - distributed.utils_perf - WARNING - full garbage collections took 10% CPU time recently (threshold: 10%)\n",
      "2022-10-04 13:57:04,505 - distributed.utils_perf - WARNING - full garbage collections took 10% CPU time recently (threshold: 10%)\n",
      "2022-10-04 13:57:04,607 - distributed.utils_perf - WARNING - full garbage collections took 10% CPU time recently (threshold: 10%)\n",
      "2022-10-04 13:57:06,040 - distributed.utils_perf - WARNING - full garbage collections took 10% CPU time recently (threshold: 10%)\n",
      "2022-10-04 13:57:07,906 - distributed.utils_perf - WARNING - full garbage collections took 10% CPU time recently (threshold: 10%)\n",
      "2022-10-04 13:57:08,134 - distributed.utils_perf - WARNING - full garbage collections took 10% CPU time recently (threshold: 10%)\n",
      "2022-10-04 13:57:09,062 - distributed.utils_perf - WARNING - full garbage collections took 10% CPU time recently (threshold: 10%)\n",
      "2022-10-04 13:57:11,336 - distributed.utils_perf - WARNING - full garbage collections took 10% CPU time recently (threshold: 10%)\n",
      "2022-10-04 13:57:11,379 - distributed.utils_perf - WARNING - full garbage collections took 10% CPU time recently (threshold: 10%)\n",
      "2022-10-04 13:57:12,546 - distributed.utils_perf - WARNING - full garbage collections took 10% CPU time recently (threshold: 10%)\n",
      "2022-10-04 13:57:14,674 - distributed.utils_perf - WARNING - full garbage collections took 10% CPU time recently (threshold: 10%)\n",
      "2022-10-04 13:57:15,051 - distributed.utils_perf - WARNING - full garbage collections took 10% CPU time recently (threshold: 10%)\n",
      "2022-10-04 13:57:16,713 - distributed.utils_perf - WARNING - full garbage collections took 10% CPU time recently (threshold: 10%)\n",
      "2022-10-04 13:57:17,917 - distributed.utils_perf - WARNING - full garbage collections took 10% CPU time recently (threshold: 10%)\n",
      "2022-10-04 13:57:18,921 - distributed.utils_perf - WARNING - full garbage collections took 10% CPU time recently (threshold: 10%)\n",
      "2022-10-04 13:57:19,735 - distributed.utils_perf - WARNING - full garbage collections took 10% CPU time recently (threshold: 10%)\n",
      "2022-10-04 13:57:21,426 - distributed.utils_perf - WARNING - full garbage collections took 10% CPU time recently (threshold: 10%)\n",
      "2022-10-04 13:57:22,334 - distributed.utils_perf - WARNING - full garbage collections took 10% CPU time recently (threshold: 10%)\n",
      "2022-10-04 13:57:22,820 - distributed.utils_perf - WARNING - full garbage collections took 10% CPU time recently (threshold: 10%)\n",
      "2022-10-04 13:57:25,937 - distributed.utils_perf - WARNING - full garbage collections took 10% CPU time recently (threshold: 10%)\n",
      "2022-10-04 13:57:26,768 - distributed.utils_perf - WARNING - full garbage collections took 10% CPU time recently (threshold: 10%)\n",
      "2022-10-04 13:57:29,249 - distributed.utils_perf - WARNING - full garbage collections took 10% CPU time recently (threshold: 10%)\n",
      "2022-10-04 13:57:29,302 - distributed.utils_perf - WARNING - full garbage collections took 10% CPU time recently (threshold: 10%)\n",
      "2022-10-04 13:57:31,585 - distributed.utils_perf - WARNING - full garbage collections took 10% CPU time recently (threshold: 10%)\n",
      "2022-10-04 13:57:32,574 - distributed.utils_perf - WARNING - full garbage collections took 10% CPU time recently (threshold: 10%)\n",
      "2022-10-04 13:57:32,657 - distributed.utils_perf - WARNING - full garbage collections took 10% CPU time recently (threshold: 10%)\n",
      "2022-10-04 13:57:33,003 - distributed.utils_perf - WARNING - full garbage collections took 10% CPU time recently (threshold: 10%)\n",
      "2022-10-04 13:57:34,689 - distributed.utils_perf - WARNING - full garbage collections took 10% CPU time recently (threshold: 10%)\n",
      "2022-10-04 13:57:35,550 - distributed.utils_perf - WARNING - full garbage collections took 10% CPU time recently (threshold: 10%)\n",
      "2022-10-04 13:57:35,884 - distributed.utils_perf - WARNING - full garbage collections took 10% CPU time recently (threshold: 10%)\n",
      "2022-10-04 13:57:37,526 - distributed.utils_perf - WARNING - full garbage collections took 10% CPU time recently (threshold: 10%)\n",
      "2022-10-04 13:57:38,701 - distributed.utils_perf - WARNING - full garbage collections took 10% CPU time recently (threshold: 10%)\n",
      "2022-10-04 13:57:39,069 - distributed.utils_perf - WARNING - full garbage collections took 11% CPU time recently (threshold: 10%)\n",
      "2022-10-04 13:57:39,398 - distributed.utils_perf - WARNING - full garbage collections took 10% CPU time recently (threshold: 10%)\n",
      "2022-10-04 13:57:41,357 - distributed.utils_perf - WARNING - full garbage collections took 10% CPU time recently (threshold: 10%)\n",
      "2022-10-04 13:57:41,944 - distributed.utils_perf - WARNING - full garbage collections took 11% CPU time recently (threshold: 10%)\n",
      "2022-10-04 13:57:42,180 - distributed.utils_perf - WARNING - full garbage collections took 10% CPU time recently (threshold: 10%)\n",
      "2022-10-04 13:57:44,570 - distributed.utils_perf - WARNING - full garbage collections took 10% CPU time recently (threshold: 10%)\n",
      "2022-10-04 13:57:45,266 - distributed.utils_perf - WARNING - full garbage collections took 10% CPU time recently (threshold: 10%)\n",
      "2022-10-04 13:57:45,684 - distributed.utils_perf - WARNING - full garbage collections took 11% CPU time recently (threshold: 10%)\n",
      "2022-10-04 13:57:46,354 - distributed.utils_perf - WARNING - full garbage collections took 10% CPU time recently (threshold: 10%)\n",
      "2022-10-04 13:57:47,909 - distributed.utils_perf - WARNING - full garbage collections took 10% CPU time recently (threshold: 10%)\n",
      "2022-10-04 13:57:48,721 - distributed.utils_perf - WARNING - full garbage collections took 11% CPU time recently (threshold: 10%)\n",
      "2022-10-04 13:57:48,762 - distributed.utils_perf - WARNING - full garbage collections took 10% CPU time recently (threshold: 10%)\n",
      "2022-10-04 13:57:49,608 - distributed.utils_perf - WARNING - full garbage collections took 10% CPU time recently (threshold: 10%)\n",
      "2022-10-04 13:57:50,989 - distributed.utils_perf - WARNING - full garbage collections took 10% CPU time recently (threshold: 10%)\n",
      "2022-10-04 13:57:52,367 - distributed.utils_perf - WARNING - full garbage collections took 11% CPU time recently (threshold: 10%)\n",
      "2022-10-04 13:57:52,630 - distributed.utils_perf - WARNING - full garbage collections took 10% CPU time recently (threshold: 10%)\n",
      "2022-10-04 13:57:52,871 - distributed.utils_perf - WARNING - full garbage collections took 10% CPU time recently (threshold: 10%)\n",
      "2022-10-04 13:57:54,689 - distributed.utils_perf - WARNING - full garbage collections took 10% CPU time recently (threshold: 10%)\n",
      "2022-10-04 13:57:55,813 - distributed.utils_perf - WARNING - full garbage collections took 11% CPU time recently (threshold: 10%)\n",
      "2022-10-04 13:57:55,878 - distributed.utils_perf - WARNING - full garbage collections took 10% CPU time recently (threshold: 10%)\n",
      "2022-10-04 13:57:56,489 - distributed.utils_perf - WARNING - full garbage collections took 10% CPU time recently (threshold: 10%)\n",
      "2022-10-04 13:57:58,508 - distributed.utils_perf - WARNING - full garbage collections took 10% CPU time recently (threshold: 10%)\n",
      "2022-10-04 13:57:59,329 - distributed.utils_perf - WARNING - full garbage collections took 11% CPU time recently (threshold: 10%)\n",
      "2022-10-04 13:57:59,684 - distributed.utils_perf - WARNING - full garbage collections took 10% CPU time recently (threshold: 10%)\n",
      "2022-10-04 13:57:59,738 - distributed.utils_perf - WARNING - full garbage collections took 10% CPU time recently (threshold: 10%)\n",
      "2022-10-04 13:58:01,957 - distributed.utils_perf - WARNING - full garbage collections took 10% CPU time recently (threshold: 10%)\n",
      "2022-10-04 13:58:02,483 - distributed.utils_perf - WARNING - full garbage collections took 10% CPU time recently (threshold: 10%)\n",
      "2022-10-04 13:58:02,709 - distributed.utils_perf - WARNING - full garbage collections took 11% CPU time recently (threshold: 10%)\n",
      "2022-10-04 13:58:02,997 - distributed.utils_perf - WARNING - full garbage collections took 10% CPU time recently (threshold: 10%)\n",
      "2022-10-04 13:58:04,735 - distributed.utils_perf - WARNING - full garbage collections took 10% CPU time recently (threshold: 10%)\n",
      "2022-10-04 13:58:06,090 - distributed.utils_perf - WARNING - full garbage collections took 10% CPU time recently (threshold: 10%)\n",
      "2022-10-04 13:58:06,312 - distributed.utils_perf - WARNING - full garbage collections took 11% CPU time recently (threshold: 10%)\n",
      "2022-10-04 13:58:06,868 - distributed.utils_perf - WARNING - full garbage collections took 10% CPU time recently (threshold: 10%)\n",
      "2022-10-04 13:58:09,244 - distributed.utils_perf - WARNING - full garbage collections took 10% CPU time recently (threshold: 10%)\n",
      "2022-10-04 13:58:09,688 - distributed.utils_perf - WARNING - full garbage collections took 11% CPU time recently (threshold: 10%)\n",
      "2022-10-04 13:58:09,761 - distributed.utils_perf - WARNING - full garbage collections took 10% CPU time recently (threshold: 10%)\n",
      "2022-10-04 13:58:11,147 - distributed.utils_perf - WARNING - full garbage collections took 10% CPU time recently (threshold: 10%)\n",
      "2022-10-04 13:58:12,717 - distributed.utils_perf - WARNING - full garbage collections took 10% CPU time recently (threshold: 10%)\n",
      "2022-10-04 13:58:13,392 - distributed.utils_perf - WARNING - full garbage collections took 10% CPU time recently (threshold: 10%)\n",
      "2022-10-04 13:58:13,586 - distributed.utils_perf - WARNING - full garbage collections took 11% CPU time recently (threshold: 10%)\n",
      "2022-10-04 13:58:14,323 - distributed.utils_perf - WARNING - full garbage collections took 10% CPU time recently (threshold: 10%)\n",
      "2022-10-04 13:58:16,201 - distributed.utils_perf - WARNING - full garbage collections took 10% CPU time recently (threshold: 10%)\n",
      "2022-10-04 13:58:16,738 - distributed.utils_perf - WARNING - full garbage collections took 11% CPU time recently (threshold: 10%)\n",
      "2022-10-04 13:58:16,775 - distributed.utils_perf - WARNING - full garbage collections took 11% CPU time recently (threshold: 10%)\n",
      "2022-10-04 13:58:18,146 - distributed.utils_perf - WARNING - full garbage collections took 10% CPU time recently (threshold: 10%)\n",
      "2022-10-04 13:58:19,907 - distributed.utils_perf - WARNING - full garbage collections took 10% CPU time recently (threshold: 10%)\n",
      "2022-10-04 13:58:20,326 - distributed.utils_perf - WARNING - full garbage collections took 11% CPU time recently (threshold: 10%)\n",
      "2022-10-04 13:58:20,580 - distributed.utils_perf - WARNING - full garbage collections took 11% CPU time recently (threshold: 10%)\n",
      "2022-10-04 13:58:21,257 - distributed.utils_perf - WARNING - full garbage collections took 10% CPU time recently (threshold: 10%)\n",
      "2022-10-04 13:58:23,236 - distributed.utils_perf - WARNING - full garbage collections took 10% CPU time recently (threshold: 10%)\n",
      "2022-10-04 13:58:23,446 - distributed.utils_perf - WARNING - full garbage collections took 11% CPU time recently (threshold: 10%)\n",
      "2022-10-04 13:58:23,959 - distributed.utils_perf - WARNING - full garbage collections took 11% CPU time recently (threshold: 10%)\n",
      "2022-10-04 13:58:25,434 - distributed.utils_perf - WARNING - full garbage collections took 10% CPU time recently (threshold: 10%)\n",
      "2022-10-04 13:58:26,281 - distributed.utils_perf - WARNING - full garbage collections took 10% CPU time recently (threshold: 10%)\n",
      "2022-10-04 13:58:27,123 - distributed.utils_perf - WARNING - full garbage collections took 11% CPU time recently (threshold: 10%)\n",
      "2022-10-04 13:58:28,176 - distributed.utils_perf - WARNING - full garbage collections took 11% CPU time recently (threshold: 10%)\n",
      "2022-10-04 13:58:28,967 - distributed.utils_perf - WARNING - full garbage collections took 10% CPU time recently (threshold: 10%)\n",
      "2022-10-04 13:58:29,576 - distributed.utils_perf - WARNING - full garbage collections took 10% CPU time recently (threshold: 10%)\n",
      "2022-10-04 13:58:30,377 - distributed.utils_perf - WARNING - full garbage collections took 10% CPU time recently (threshold: 10%)\n",
      "2022-10-04 13:58:31,599 - distributed.utils_perf - WARNING - full garbage collections took 11% CPU time recently (threshold: 10%)\n",
      "2022-10-04 13:58:32,330 - distributed.utils_perf - WARNING - full garbage collections took 10% CPU time recently (threshold: 10%)\n",
      "2022-10-04 13:58:33,565 - distributed.utils_perf - WARNING - full garbage collections took 10% CPU time recently (threshold: 10%)\n",
      "2022-10-04 13:58:33,749 - distributed.utils_perf - WARNING - full garbage collections took 11% CPU time recently (threshold: 10%)\n",
      "2022-10-04 13:58:35,701 - distributed.utils_perf - WARNING - full garbage collections took 10% CPU time recently (threshold: 10%)\n",
      "2022-10-04 13:58:35,740 - distributed.utils_perf - WARNING - full garbage collections took 12% CPU time recently (threshold: 10%)\n",
      "2022-10-04 13:58:36,525 - distributed.utils_perf - WARNING - full garbage collections took 10% CPU time recently (threshold: 10%)\n",
      "2022-10-04 13:58:37,021 - distributed.utils_perf - WARNING - full garbage collections took 11% CPU time recently (threshold: 10%)\n"
     ]
    },
    {
     "name": "stdout",
     "output_type": "stream",
     "text": [
      "Number of trials: 1000\n",
      "Best trial:\n",
      "Number of trials: 1000\n",
      "Best trial:\n",
      "  Value: 476439.1133475847\n",
      "  Params: \n",
      "    booster: gbtree\n",
      "    lambda: 1.0064988915518038e-07\n",
      "    alpha: 0.8739295715128191\n",
      "    max_depth: 2\n",
      "    eta: 0.2877978232723007\n",
      "    gamma: 0.919441848568315\n",
      "    grow_policy: lossguide\n"
     ]
    }
   ],
   "source": [
    "xgb_model = brisk_xgboost.fetch_model()"
   ]
  },
  {
   "cell_type": "code",
   "execution_count": 17,
   "metadata": {},
   "outputs": [],
   "source": [
    "# xgb_model.save_model('/mnt/c/Users/rwmas/GitHub/xai/xai_api/app/ml/models/saved/base/xgboost/xgboost.json')"
   ]
  },
  {
   "cell_type": "code",
   "execution_count": 93,
   "metadata": {},
   "outputs": [],
   "source": [
    "model_xgb_2 = xgb.Booster()\n",
    "model_xgb_2.load_model('/mnt/c/Users/rwmas/GitHub/xai/xai_api/app/ml/models/saved/base/xgboost/xgboost.json')\n"
   ]
  },
  {
   "cell_type": "code",
   "execution_count": 88,
   "metadata": {},
   "outputs": [],
   "source": [
    "import xgboost as xgb\n",
    "\n",
    "dtrain = xgb.DMatrix(X_train, label=y_train)\n",
    "dtest = xgb.DMatrix(X_test, label=y_test)"
   ]
  },
  {
   "cell_type": "code",
   "execution_count": 98,
   "metadata": {},
   "outputs": [],
   "source": [
    "# x_pred = xgb_model.predict(dtest)\n",
    "x_pred = model_xgb_2.predict(dtest)"
   ]
  },
  {
   "cell_type": "code",
   "execution_count": 95,
   "metadata": {},
   "outputs": [
    {
     "data": {
      "text/plain": [
       "<matplotlib.legend.Legend at 0x7f18c9888ac0>"
      ]
     },
     "execution_count": 95,
     "metadata": {},
     "output_type": "execute_result"
    },
    {
     "data": {
      "image/png": "[encoded data removed]",
      "text/plain": [
       "<Figure size 864x576 with 1 Axes>"
      ]
     },
     "metadata": {
      "needs_background": "light"
     },
     "output_type": "display_data"
    }
   ],
   "source": [
    "# plt.figure(figsize=(12, 8))\n",
    "fig = plt.figure(figsize=(12, 8))\n",
    "ax = fig.add_axes([0,0,1,1])\n",
    "ax.bar(X_test_orig['location'].values + 0.0, x_pred, color = 'b', width = 2.25)\n",
    "# ax.bar(X['location'].values + 0.25, y_test.values.reshape(48, ), color = 'g', width = 0.25)\n",
    "ax.bar(X_test_orig['location'].values + 2.50, y_test.values.reshape(48, ), color = 'g', width = 2.25)\n",
    "# ax.bar(X + 0.50, data[2], color = 'r', width = 0.25)\n",
    "plt.xlabel(\"countries\")\n",
    "plt.ylabel(\"deaths\")\n",
    "ax.legend(labels=['predictions', 'actual'])"
   ]
  },
  {
   "cell_type": "code",
   "execution_count": 99,
   "metadata": {},
   "outputs": [
    {
     "data": {
      "text/html": [
       "<div>\n",
       "<style scoped>\n",
       "    .dataframe tbody tr th:only-of-type {\n",
       "        vertical-align: middle;\n",
       "    }\n",
       "\n",
       "    .dataframe tbody tr th {\n",
       "        vertical-align: top;\n",
       "    }\n",
       "\n",
       "    .dataframe thead th {\n",
       "        text-align: right;\n",
       "    }\n",
       "</style>\n",
       "<table border=\"1\" class=\"dataframe\">\n",
       "  <thead>\n",
       "    <tr style=\"text-align: right;\">\n",
       "      <th></th>\n",
       "      <th>countary</th>\n",
       "      <th>deaths</th>\n",
       "      <th>predictions</th>\n",
       "    </tr>\n",
       "  </thead>\n",
       "  <tbody>\n",
       "    <tr>\n",
       "      <th>0</th>\n",
       "      <td>144</td>\n",
       "      <td>0.000</td>\n",
       "      <td>2.095772</td>\n",
       "    </tr>\n",
       "    <tr>\n",
       "      <th>1</th>\n",
       "      <td>154</td>\n",
       "      <td>4896.644</td>\n",
       "      <td>1.081382</td>\n",
       "    </tr>\n",
       "    <tr>\n",
       "      <th>2</th>\n",
       "      <td>157</td>\n",
       "      <td>1486.844</td>\n",
       "      <td>0.145046</td>\n",
       "    </tr>\n",
       "    <tr>\n",
       "      <th>3</th>\n",
       "      <td>8</td>\n",
       "      <td>55.799</td>\n",
       "      <td>0.185882</td>\n",
       "    </tr>\n",
       "    <tr>\n",
       "      <th>4</th>\n",
       "      <td>173</td>\n",
       "      <td>153.473</td>\n",
       "      <td>0.821746</td>\n",
       "    </tr>\n",
       "    <tr>\n",
       "      <th>5</th>\n",
       "      <td>80</td>\n",
       "      <td>2252.476</td>\n",
       "      <td>0.050443</td>\n",
       "    </tr>\n",
       "    <tr>\n",
       "      <th>6</th>\n",
       "      <td>52</td>\n",
       "      <td>146.353</td>\n",
       "      <td>0.094296</td>\n",
       "    </tr>\n",
       "    <tr>\n",
       "      <th>7</th>\n",
       "      <td>24</td>\n",
       "      <td>0.000</td>\n",
       "      <td>1.017841</td>\n",
       "    </tr>\n",
       "    <tr>\n",
       "      <th>8</th>\n",
       "      <td>82</td>\n",
       "      <td>604.743</td>\n",
       "      <td>0.183401</td>\n",
       "    </tr>\n",
       "    <tr>\n",
       "      <th>9</th>\n",
       "      <td>182</td>\n",
       "      <td>45.966</td>\n",
       "      <td>0.140653</td>\n",
       "    </tr>\n",
       "    <tr>\n",
       "      <th>10</th>\n",
       "      <td>176</td>\n",
       "      <td>1900.397</td>\n",
       "      <td>0.155914</td>\n",
       "    </tr>\n",
       "    <tr>\n",
       "      <th>11</th>\n",
       "      <td>119</td>\n",
       "      <td>79.899</td>\n",
       "      <td>0.095806</td>\n",
       "    </tr>\n",
       "    <tr>\n",
       "      <th>12</th>\n",
       "      <td>166</td>\n",
       "      <td>3204.928</td>\n",
       "      <td>0.054301</td>\n",
       "    </tr>\n",
       "    <tr>\n",
       "      <th>13</th>\n",
       "      <td>36</td>\n",
       "      <td>29.081</td>\n",
       "      <td>0.089776</td>\n",
       "    </tr>\n",
       "    <tr>\n",
       "      <th>14</th>\n",
       "      <td>20</td>\n",
       "      <td>3822.309</td>\n",
       "      <td>0.128146</td>\n",
       "    </tr>\n",
       "    <tr>\n",
       "      <th>15</th>\n",
       "      <td>90</td>\n",
       "      <td>617.233</td>\n",
       "      <td>1.816539</td>\n",
       "    </tr>\n",
       "    <tr>\n",
       "      <th>16</th>\n",
       "      <td>28</td>\n",
       "      <td>1043.390</td>\n",
       "      <td>1.320659</td>\n",
       "    </tr>\n",
       "    <tr>\n",
       "      <th>17</th>\n",
       "      <td>13</td>\n",
       "      <td>354.972</td>\n",
       "      <td>1.065546</td>\n",
       "    </tr>\n",
       "    <tr>\n",
       "      <th>18</th>\n",
       "      <td>72</td>\n",
       "      <td>113.700</td>\n",
       "      <td>0.115623</td>\n",
       "    </tr>\n",
       "    <tr>\n",
       "      <th>19</th>\n",
       "      <td>183</td>\n",
       "      <td>102.229</td>\n",
       "      <td>0.107748</td>\n",
       "    </tr>\n",
       "    <tr>\n",
       "      <th>20</th>\n",
       "      <td>122</td>\n",
       "      <td>691.002</td>\n",
       "      <td>0.085117</td>\n",
       "    </tr>\n",
       "    <tr>\n",
       "      <th>21</th>\n",
       "      <td>180</td>\n",
       "      <td>1556.962</td>\n",
       "      <td>0.061090</td>\n",
       "    </tr>\n",
       "    <tr>\n",
       "      <th>22</th>\n",
       "      <td>110</td>\n",
       "      <td>1592.490</td>\n",
       "      <td>0.596628</td>\n",
       "    </tr>\n",
       "    <tr>\n",
       "      <th>23</th>\n",
       "      <td>60</td>\n",
       "      <td>912.035</td>\n",
       "      <td>0.596628</td>\n",
       "    </tr>\n",
       "    <tr>\n",
       "      <th>24</th>\n",
       "      <td>7</td>\n",
       "      <td>108.901</td>\n",
       "      <td>0.135684</td>\n",
       "    </tr>\n",
       "    <tr>\n",
       "      <th>25</th>\n",
       "      <td>30</td>\n",
       "      <td>164.589</td>\n",
       "      <td>0.131851</td>\n",
       "    </tr>\n",
       "    <tr>\n",
       "      <th>26</th>\n",
       "      <td>168</td>\n",
       "      <td>2036.132</td>\n",
       "      <td>1.118331</td>\n",
       "    </tr>\n",
       "    <tr>\n",
       "      <th>27</th>\n",
       "      <td>156</td>\n",
       "      <td>2485.236</td>\n",
       "      <td>0.057020</td>\n",
       "    </tr>\n",
       "    <tr>\n",
       "      <th>28</th>\n",
       "      <td>29</td>\n",
       "      <td>2651.960</td>\n",
       "      <td>0.050443</td>\n",
       "    </tr>\n",
       "    <tr>\n",
       "      <th>29</th>\n",
       "      <td>35</td>\n",
       "      <td>2820.237</td>\n",
       "      <td>0.065944</td>\n",
       "    </tr>\n",
       "    <tr>\n",
       "      <th>30</th>\n",
       "      <td>0</td>\n",
       "      <td>10.335</td>\n",
       "      <td>0.812214</td>\n",
       "    </tr>\n",
       "    <tr>\n",
       "      <th>31</th>\n",
       "      <td>116</td>\n",
       "      <td>2648.125</td>\n",
       "      <td>1.683074</td>\n",
       "    </tr>\n",
       "    <tr>\n",
       "      <th>32</th>\n",
       "      <td>45</td>\n",
       "      <td>78.378</td>\n",
       "      <td>0.090745</td>\n",
       "    </tr>\n",
       "    <tr>\n",
       "      <th>33</th>\n",
       "      <td>130</td>\n",
       "      <td>35.511</td>\n",
       "      <td>1.147842</td>\n",
       "    </tr>\n",
       "    <tr>\n",
       "      <th>34</th>\n",
       "      <td>40</td>\n",
       "      <td>34.318</td>\n",
       "      <td>0.136878</td>\n",
       "    </tr>\n",
       "    <tr>\n",
       "      <th>35</th>\n",
       "      <td>59</td>\n",
       "      <td>22.357</td>\n",
       "      <td>1.014755</td>\n",
       "    </tr>\n",
       "    <tr>\n",
       "      <th>36</th>\n",
       "      <td>140</td>\n",
       "      <td>1078.310</td>\n",
       "      <td>0.112249</td>\n",
       "    </tr>\n",
       "    <tr>\n",
       "      <th>37</th>\n",
       "      <td>46</td>\n",
       "      <td>394.845</td>\n",
       "      <td>0.103911</td>\n",
       "    </tr>\n",
       "    <tr>\n",
       "      <th>38</th>\n",
       "      <td>5</td>\n",
       "      <td>202.467</td>\n",
       "      <td>0.136108</td>\n",
       "    </tr>\n",
       "    <tr>\n",
       "      <th>39</th>\n",
       "      <td>16</td>\n",
       "      <td>321.415</td>\n",
       "      <td>1.576140</td>\n",
       "    </tr>\n",
       "    <tr>\n",
       "      <th>40</th>\n",
       "      <td>160</td>\n",
       "      <td>2168.010</td>\n",
       "      <td>0.084299</td>\n",
       "    </tr>\n",
       "    <tr>\n",
       "      <th>41</th>\n",
       "      <td>65</td>\n",
       "      <td>0.000</td>\n",
       "      <td>1.793033</td>\n",
       "    </tr>\n",
       "    <tr>\n",
       "      <th>42</th>\n",
       "      <td>74</td>\n",
       "      <td>1790.229</td>\n",
       "      <td>0.141797</td>\n",
       "    </tr>\n",
       "    <tr>\n",
       "      <th>43</th>\n",
       "      <td>61</td>\n",
       "      <td>90.771</td>\n",
       "      <td>1.190059</td>\n",
       "    </tr>\n",
       "    <tr>\n",
       "      <th>44</th>\n",
       "      <td>186</td>\n",
       "      <td>867.739</td>\n",
       "      <td>0.078512</td>\n",
       "    </tr>\n",
       "    <tr>\n",
       "      <th>45</th>\n",
       "      <td>38</td>\n",
       "      <td>159.134</td>\n",
       "      <td>0.108274</td>\n",
       "    </tr>\n",
       "    <tr>\n",
       "      <th>46</th>\n",
       "      <td>27</td>\n",
       "      <td>1562.173</td>\n",
       "      <td>0.092249</td>\n",
       "    </tr>\n",
       "    <tr>\n",
       "      <th>47</th>\n",
       "      <td>54</td>\n",
       "      <td>0.000</td>\n",
       "      <td>1.011474</td>\n",
       "    </tr>\n",
       "  </tbody>\n",
       "</table>\n",
       "</div>"
      ],
      "text/plain": [
       "    countary    deaths  predictions\n",
       "0        144     0.000     2.095772\n",
       "1        154  4896.644     1.081382\n",
       "2        157  1486.844     0.145046\n",
       "3          8    55.799     0.185882\n",
       "4        173   153.473     0.821746\n",
       "5         80  2252.476     0.050443\n",
       "6         52   146.353     0.094296\n",
       "7         24     0.000     1.017841\n",
       "8         82   604.743     0.183401\n",
       "9        182    45.966     0.140653\n",
       "10       176  1900.397     0.155914\n",
       "11       119    79.899     0.095806\n",
       "12       166  3204.928     0.054301\n",
       "13        36    29.081     0.089776\n",
       "14        20  3822.309     0.128146\n",
       "15        90   617.233     1.816539\n",
       "16        28  1043.390     1.320659\n",
       "17        13   354.972     1.065546\n",
       "18        72   113.700     0.115623\n",
       "19       183   102.229     0.107748\n",
       "20       122   691.002     0.085117\n",
       "21       180  1556.962     0.061090\n",
       "22       110  1592.490     0.596628\n",
       "23        60   912.035     0.596628\n",
       "24         7   108.901     0.135684\n",
       "25        30   164.589     0.131851\n",
       "26       168  2036.132     1.118331\n",
       "27       156  2485.236     0.057020\n",
       "28        29  2651.960     0.050443\n",
       "29        35  2820.237     0.065944\n",
       "30         0    10.335     0.812214\n",
       "31       116  2648.125     1.683074\n",
       "32        45    78.378     0.090745\n",
       "33       130    35.511     1.147842\n",
       "34        40    34.318     0.136878\n",
       "35        59    22.357     1.014755\n",
       "36       140  1078.310     0.112249\n",
       "37        46   394.845     0.103911\n",
       "38         5   202.467     0.136108\n",
       "39        16   321.415     1.576140\n",
       "40       160  2168.010     0.084299\n",
       "41        65     0.000     1.793033\n",
       "42        74  1790.229     0.141797\n",
       "43        61    90.771     1.190059\n",
       "44       186   867.739     0.078512\n",
       "45        38   159.134     0.108274\n",
       "46        27  1562.173     0.092249\n",
       "47        54     0.000     1.011474"
      ]
     },
     "execution_count": 99,
     "metadata": {},
     "output_type": "execute_result"
    }
   ],
   "source": [
    "df_xgbost = pd.DataFrame(list(zip(X_train_orig['location'].values, y_test.values.reshape(48, ), x_pred )),\n",
    "               columns =['countary', 'deaths', 'predictions'])\n",
    "df_xgbost"
   ]
  },
  {
   "cell_type": "code",
   "execution_count": 97,
   "metadata": {},
   "outputs": [
    {
     "name": "stdout",
     "output_type": "stream",
     "text": [
      "2353968.02\n"
     ]
    }
   ],
   "source": [
    "err = np.round_(mean_squared_error( y_test.values.reshape(48, ), x_pred), decimals=2, out=None)\n",
    "print(err)"
   ]
  },
  {
   "cell_type": "markdown",
   "metadata": {},
   "source": [
    "### Fitting DNN"
   ]
  },
  {
   "cell_type": "code",
   "execution_count": 6,
   "metadata": {},
   "outputs": [
    {
     "name": "stderr",
     "output_type": "stream",
     "text": [
      "2022-09-27 18:37:22,149 - distributed.diskutils - INFO - Found stale lock file and directory '/tmp/dask-worker-space/worker-ujnz0_hq', purging\n",
      "2022-09-27 18:37:22,150 - distributed.diskutils - INFO - Found stale lock file and directory '/tmp/dask-worker-space/worker-9b8ee2e1', purging\n",
      "2022-09-27 18:37:22,150 - distributed.diskutils - INFO - Found stale lock file and directory '/tmp/dask-worker-space/worker-6fk2yhmt', purging\n",
      "2022-09-27 18:37:22,150 - distributed.diskutils - INFO - Found stale lock file and directory '/tmp/dask-worker-space/worker-703gavgs', purging\n"
     ]
    },
    {
     "name": "stdout",
     "output_type": "stream",
     "text": [
      "Dask dashboard is available at http://127.0.0.1:8787/status\n"
     ]
    },
    {
     "name": "stderr",
     "output_type": "stream",
     "text": [
      "2022-09-27 18:37:30.988055: E tensorflow/stream_executor/cuda/cuda_driver.cc:271] failed call to cuInit: CUDA_ERROR_NO_DEVICE: no CUDA-capable device is detected\n",
      "2022-09-27 18:37:30.988126: I tensorflow/stream_executor/cuda/cuda_diagnostics.cc:156] kernel driver does not appear to be running on this host (MININT-B74KKM5): /proc/driver/nvidia/version does not exist\n",
      "2022-09-27 18:37:30.990042: I tensorflow/core/platform/cpu_feature_guard.cc:193] This TensorFlow binary is optimized with oneAPI Deep Neural Network Library (oneDNN) to use the following CPU instructions in performance-critical operations:  AVX2 FMA\n",
      "To enable them in other operations, rebuild TensorFlow with the appropriate compiler flags.\n",
      "2022-09-27 18:37:31.017531: E tensorflow/stream_executor/cuda/cuda_driver.cc:271] failed call to cuInit: CUDA_ERROR_NO_DEVICE: no CUDA-capable device is detected\n",
      "2022-09-27 18:37:31.017586: I tensorflow/stream_executor/cuda/cuda_diagnostics.cc:156] kernel driver does not appear to be running on this host (MININT-B74KKM5): /proc/driver/nvidia/version does not exist\n",
      "2022-09-27 18:37:31.018938: I tensorflow/core/platform/cpu_feature_guard.cc:193] This TensorFlow binary is optimized with oneAPI Deep Neural Network Library (oneDNN) to use the following CPU instructions in performance-critical operations:  AVX2 FMA\n",
      "To enable them in other operations, rebuild TensorFlow with the appropriate compiler flags.\n",
      "2022-09-27 18:37:31.026114: E tensorflow/stream_executor/cuda/cuda_driver.cc:271] failed call to cuInit: CUDA_ERROR_NO_DEVICE: no CUDA-capable device is detected\n",
      "2022-09-27 18:37:31.026174: I tensorflow/stream_executor/cuda/cuda_diagnostics.cc:156] kernel driver does not appear to be running on this host (MININT-B74KKM5): /proc/driver/nvidia/version does not exist\n",
      "2022-09-27 18:37:31.028607: I tensorflow/core/platform/cpu_feature_guard.cc:193] This TensorFlow binary is optimized with oneAPI Deep Neural Network Library (oneDNN) to use the following CPU instructions in performance-critical operations:  AVX2 FMA\n",
      "To enable them in other operations, rebuild TensorFlow with the appropriate compiler flags.\n",
      "2022-09-27 18:37:31.032786: E tensorflow/stream_executor/cuda/cuda_driver.cc:271] failed call to cuInit: CUDA_ERROR_NO_DEVICE: no CUDA-capable device is detected\n",
      "2022-09-27 18:37:31.032853: I tensorflow/stream_executor/cuda/cuda_diagnostics.cc:156] kernel driver does not appear to be running on this host (MININT-B74KKM5): /proc/driver/nvidia/version does not exist\n",
      "2022-09-27 18:37:31.035881: I tensorflow/core/platform/cpu_feature_guard.cc:193] This TensorFlow binary is optimized with oneAPI Deep Neural Network Library (oneDNN) to use the following CPU instructions in performance-critical operations:  AVX2 FMA\n",
      "To enable them in other operations, rebuild TensorFlow with the appropriate compiler flags.\n"
     ]
    },
    {
     "name": "stdout",
     "output_type": "stream",
     "text": [
      "2/2 [==============================] - 0s 3ms/step\n"
     ]
    },
    {
     "name": "stderr",
     "output_type": "stream",
     "text": [
      "\u001b[32m[I 2022-09-27 18:38:00,790]\u001b[0m Trial 10 finished with value: 4156252.1 and parameters: {'learning_rate': 0.003701076959340632, 'batch_size': 512, 'n_layers': 1, 'n_units_l0': 247}. Best is trial 10 with value: 4156252.1.\u001b[0m\n"
     ]
    },
    {
     "name": "stdout",
     "output_type": "stream",
     "text": [
      "2/2 [==============================] - 0s 4ms/step\n",
      "2/2 [==============================] - 0s 4ms/step\n"
     ]
    },
    {
     "name": "stderr",
     "output_type": "stream",
     "text": [
      "\u001b[32m[I 2022-09-27 18:38:02,030]\u001b[0m Trial 7 finished with value: 4154247.27 and parameters: {'learning_rate': 0.006115404652300812, 'batch_size': 512, 'n_layers': 4, 'n_units_l0': 15, 'n_units_l1': 205, 'n_units_l2': 235, 'n_units_l3': 147}. Best is trial 7 with value: 4154247.27.\u001b[0m\n",
      "\u001b[32m[I 2022-09-27 18:38:02,160]\u001b[0m Trial 5 finished with value: 2257210.45 and parameters: {'learning_rate': 0.008747555496827679, 'batch_size': 2048, 'n_layers': 3, 'n_units_l0': 132, 'n_units_l1': 5, 'n_units_l2': 105}. Best is trial 5 with value: 2257210.45.\u001b[0m\n"
     ]
    },
    {
     "name": "stdout",
     "output_type": "stream",
     "text": [
      "2/2 [==============================] - 0s 7ms/step\n"
     ]
    },
    {
     "name": "stderr",
     "output_type": "stream",
     "text": [
      "\u001b[32m[I 2022-09-27 18:38:02,797]\u001b[0m Trial 0 finished with value: 4147555.15 and parameters: {'learning_rate': 0.013278071584490113, 'batch_size': 1024, 'n_layers': 3, 'n_units_l0': 2, 'n_units_l1': 217, 'n_units_l2': 137}. Best is trial 5 with value: 2257210.45.\u001b[0m\n"
     ]
    },
    {
     "name": "stdout",
     "output_type": "stream",
     "text": [
      "2/2 [==============================] - 1s 9ms/step\n",
      "2/2 [==============================] - 0s 3ms/step\n"
     ]
    },
    {
     "name": "stderr",
     "output_type": "stream",
     "text": [
      "\u001b[32m[I 2022-09-27 18:38:03,988]\u001b[0m Trial 11 finished with value: 4116453.95 and parameters: {'learning_rate': 0.016347130895217377, 'batch_size': 64, 'n_layers': 2, 'n_units_l0': 168, 'n_units_l1': 121}. Best is trial 5 with value: 2257210.45.\u001b[0m\n",
      "\u001b[32m[I 2022-09-27 18:38:04,013]\u001b[0m Trial 3 finished with value: 2449128.99 and parameters: {'learning_rate': 0.09740710305608329, 'batch_size': 2048, 'n_layers': 5, 'n_units_l0': 52, 'n_units_l1': 52, 'n_units_l2': 170, 'n_units_l3': 229, 'n_units_l4': 15}. Best is trial 5 with value: 2257210.45.\u001b[0m\n"
     ]
    },
    {
     "name": "stdout",
     "output_type": "stream",
     "text": [
      "2/2 [==============================] - 0s 10ms/step\n"
     ]
    },
    {
     "name": "stderr",
     "output_type": "stream",
     "text": [
      "\u001b[32m[I 2022-09-27 18:38:04,282]\u001b[0m Trial 20 finished with value: 4144602.89 and parameters: {'learning_rate': 0.008401970487630547, 'batch_size': 128, 'n_layers': 5, 'n_units_l0': 203, 'n_units_l1': 74, 'n_units_l2': 173, 'n_units_l3': 85, 'n_units_l4': 163}. Best is trial 5 with value: 2257210.45.\u001b[0m\n"
     ]
    },
    {
     "name": "stdout",
     "output_type": "stream",
     "text": [
      "2/2 [==============================] - 0s 2ms/step\n"
     ]
    },
    {
     "name": "stderr",
     "output_type": "stream",
     "text": [
      "\u001b[32m[I 2022-09-27 18:38:08,291]\u001b[0m Trial 9 finished with value: 4152193.22 and parameters: {'learning_rate': 0.0017210321311371404, 'batch_size': 32, 'n_layers': 4, 'n_units_l0': 200, 'n_units_l1': 154, 'n_units_l2': 45, 'n_units_l3': 7}. Best is trial 5 with value: 2257210.45.\u001b[0m\n"
     ]
    },
    {
     "name": "stdout",
     "output_type": "stream",
     "text": [
      "2/2 [==============================] - 0s 3ms/step\n"
     ]
    },
    {
     "name": "stderr",
     "output_type": "stream",
     "text": [
      "\u001b[32m[I 2022-09-27 18:38:17,957]\u001b[0m Trial 8 finished with value: 4153773.93 and parameters: {'learning_rate': 0.006637982093982565, 'batch_size': 1024, 'n_layers': 1, 'n_units_l0': 68}. Best is trial 5 with value: 2257210.45.\u001b[0m\n"
     ]
    },
    {
     "name": "stdout",
     "output_type": "stream",
     "text": [
      "2/2 [==============================] - 0s 7ms/step\n"
     ]
    },
    {
     "name": "stderr",
     "output_type": "stream",
     "text": [
      "\u001b[32m[I 2022-09-27 18:38:18,218]\u001b[0m Trial 17 finished with value: 839448.56 and parameters: {'learning_rate': 0.045410323545057515, 'batch_size': 16, 'n_layers': 2, 'n_units_l0': 206, 'n_units_l1': 192}. Best is trial 17 with value: 839448.56.\u001b[0m\n"
     ]
    },
    {
     "name": "stdout",
     "output_type": "stream",
     "text": [
      "2/2 [==============================] - 0s 3ms/step\n"
     ]
    },
    {
     "name": "stderr",
     "output_type": "stream",
     "text": [
      "\u001b[32m[I 2022-09-27 18:38:21,322]\u001b[0m Trial 4 finished with value: 833290.29 and parameters: {'learning_rate': 0.02240436956635254, 'batch_size': 16, 'n_layers': 5, 'n_units_l0': 85, 'n_units_l1': 155, 'n_units_l2': 169, 'n_units_l3': 221, 'n_units_l4': 81}. Best is trial 4 with value: 833290.29.\u001b[0m\n"
     ]
    },
    {
     "name": "stdout",
     "output_type": "stream",
     "text": [
      "2/2 [==============================] - 0s 6ms/step\n"
     ]
    },
    {
     "name": "stderr",
     "output_type": "stream",
     "text": [
      "\u001b[32m[I 2022-09-27 18:38:25,192]\u001b[0m Trial 18 finished with value: 1140516.7 and parameters: {'learning_rate': 0.002957915929787215, 'batch_size': 2048, 'n_layers': 2, 'n_units_l0': 225, 'n_units_l1': 36}. Best is trial 4 with value: 833290.29.\u001b[0m\n"
     ]
    },
    {
     "name": "stdout",
     "output_type": "stream",
     "text": [
      "2/2 [==============================] - 0s 5ms/step\n",
      "2/2 [==============================] - 0s 7ms/step\n"
     ]
    },
    {
     "name": "stderr",
     "output_type": "stream",
     "text": [
      "\u001b[32m[I 2022-09-27 18:38:29,526]\u001b[0m Trial 6 finished with value: 1979088.28 and parameters: {'learning_rate': 0.0013964704214329859, 'batch_size': 128, 'n_layers': 3, 'n_units_l0': 233, 'n_units_l1': 227, 'n_units_l2': 255}. Best is trial 4 with value: 833290.29.\u001b[0m\n",
      "\u001b[32m[I 2022-09-27 18:38:29,727]\u001b[0m Trial 22 finished with value: 4114837.99 and parameters: {'learning_rate': 0.05044137149005223, 'batch_size': 1024, 'n_layers': 4, 'n_units_l0': 16, 'n_units_l1': 55, 'n_units_l2': 98, 'n_units_l3': 86}. Best is trial 4 with value: 833290.29.\u001b[0m\n"
     ]
    },
    {
     "name": "stdout",
     "output_type": "stream",
     "text": [
      "2/2 [==============================] - 0s 7ms/step\n"
     ]
    },
    {
     "name": "stderr",
     "output_type": "stream",
     "text": [
      "\u001b[32m[I 2022-09-27 18:38:32,238]\u001b[0m Trial 14 finished with value: 4133999.2 and parameters: {'learning_rate': 0.028250154382773028, 'batch_size': 1024, 'n_layers': 5, 'n_units_l0': 48, 'n_units_l1': 89, 'n_units_l2': 53, 'n_units_l3': 88, 'n_units_l4': 43}. Best is trial 4 with value: 833290.29.\u001b[0m\n"
     ]
    },
    {
     "name": "stdout",
     "output_type": "stream",
     "text": [
      "2/2 [==============================] - 1s 17ms/step\n"
     ]
    },
    {
     "name": "stderr",
     "output_type": "stream",
     "text": [
      "\u001b[32m[I 2022-09-27 18:38:41,913]\u001b[0m Trial 21 finished with value: 4046368.99 and parameters: {'learning_rate': 0.02711715526297074, 'batch_size': 32, 'n_layers': 3, 'n_units_l0': 185, 'n_units_l1': 154, 'n_units_l2': 187}. Best is trial 4 with value: 833290.29.\u001b[0m\n"
     ]
    },
    {
     "name": "stdout",
     "output_type": "stream",
     "text": [
      "2/2 [==============================] - 0s 8ms/step\n"
     ]
    },
    {
     "name": "stderr",
     "output_type": "stream",
     "text": [
      "\u001b[32m[I 2022-09-27 18:38:45,247]\u001b[0m Trial 19 finished with value: 1040776.61 and parameters: {'learning_rate': 0.0012135154990735228, 'batch_size': 1024, 'n_layers': 2, 'n_units_l0': 250, 'n_units_l1': 245}. Best is trial 4 with value: 833290.29.\u001b[0m\n"
     ]
    },
    {
     "name": "stdout",
     "output_type": "stream",
     "text": [
      "2/2 [==============================] - 0s 9ms/step\n"
     ]
    },
    {
     "name": "stderr",
     "output_type": "stream",
     "text": [
      "\u001b[32m[I 2022-09-27 18:38:59,559]\u001b[0m Trial 15 finished with value: 3937965.88 and parameters: {'learning_rate': 0.016218907228580128, 'batch_size': 8, 'n_layers': 4, 'n_units_l0': 103, 'n_units_l1': 83, 'n_units_l2': 225, 'n_units_l3': 171}. Best is trial 4 with value: 833290.29.\u001b[0m\n"
     ]
    },
    {
     "name": "stdout",
     "output_type": "stream",
     "text": [
      "2/2 [==============================] - 1s 19ms/step\n"
     ]
    },
    {
     "name": "stderr",
     "output_type": "stream",
     "text": [
      "\u001b[32m[I 2022-09-27 18:39:03,435]\u001b[0m Trial 2 finished with value: 3722415.23 and parameters: {'learning_rate': 0.06518518815554349, 'batch_size': 16, 'n_layers': 2, 'n_units_l0': 251, 'n_units_l1': 237}. Best is trial 4 with value: 833290.29.\u001b[0m\n"
     ]
    },
    {
     "name": "stdout",
     "output_type": "stream",
     "text": [
      "2/2 [==============================] - 0s 5ms/step\n"
     ]
    },
    {
     "name": "stderr",
     "output_type": "stream",
     "text": [
      "\u001b[32m[I 2022-09-27 18:39:12,771]\u001b[0m Trial 16 finished with value: 3917367.24 and parameters: {'learning_rate': 0.03418015082023216, 'batch_size': 16, 'n_layers': 2, 'n_units_l0': 103, 'n_units_l1': 171}. Best is trial 4 with value: 833290.29.\u001b[0m\n"
     ]
    },
    {
     "name": "stdout",
     "output_type": "stream",
     "text": [
      "2/2 [==============================] - 0s 5ms/step\n"
     ]
    },
    {
     "name": "stderr",
     "output_type": "stream",
     "text": [
      "\u001b[32m[I 2022-09-27 18:39:17,096]\u001b[0m Trial 13 finished with value: 3597404.05 and parameters: {'learning_rate': 0.0870487038208466, 'batch_size': 16, 'n_layers': 2, 'n_units_l0': 105, 'n_units_l1': 163}. Best is trial 4 with value: 833290.29.\u001b[0m\n"
     ]
    },
    {
     "name": "stdout",
     "output_type": "stream",
     "text": [
      "2/2 [==============================] - 1s 9ms/step\n"
     ]
    },
    {
     "name": "stderr",
     "output_type": "stream",
     "text": [
      "\u001b[32m[I 2022-09-27 18:39:17,985]\u001b[0m Trial 23 finished with value: 3868474.26 and parameters: {'learning_rate': 0.04172535631327051, 'batch_size': 16, 'n_layers': 2, 'n_units_l0': 96, 'n_units_l1': 163}. Best is trial 4 with value: 833290.29.\u001b[0m\n",
      "\u001b[32m[I 2022-09-27 18:39:18,157]\u001b[0m Trial 26 finished with value: 3851207.62 and parameters: {'learning_rate': 0.044385049198383306, 'batch_size': 16, 'n_layers': 2, 'n_units_l0': 100, 'n_units_l1': 160}. Best is trial 4 with value: 833290.29.\u001b[0m\n"
     ]
    },
    {
     "name": "stdout",
     "output_type": "stream",
     "text": [
      "2/2 [==============================] - 1s 23ms/step\n",
      "2/2 [==============================] - 0s 15ms/step\n"
     ]
    },
    {
     "name": "stderr",
     "output_type": "stream",
     "text": [
      "\u001b[32m[I 2022-09-27 18:39:18,748]\u001b[0m Trial 25 finished with value: 3819728.67 and parameters: {'learning_rate': 0.04944221487147703, 'batch_size': 16, 'n_layers': 2, 'n_units_l0': 100, 'n_units_l1': 256}. Best is trial 4 with value: 833290.29.\u001b[0m\n"
     ]
    },
    {
     "name": "stdout",
     "output_type": "stream",
     "text": [
      "2/2 [==============================] - 0s 3ms/step\n"
     ]
    },
    {
     "name": "stderr",
     "output_type": "stream",
     "text": [
      "\u001b[32m[I 2022-09-27 18:39:22,094]\u001b[0m Trial 35 finished with value: 3566479.18 and parameters: {'learning_rate': 0.09274281278357956, 'batch_size': 16, 'n_layers': 2, 'n_units_l0': 107, 'n_units_l1': 179}. Best is trial 4 with value: 833290.29.\u001b[0m\n"
     ]
    },
    {
     "name": "stdout",
     "output_type": "stream",
     "text": [
      "2/2 [==============================] - 0s 2ms/step\n"
     ]
    },
    {
     "name": "stderr",
     "output_type": "stream",
     "text": [
      "\u001b[32m[I 2022-09-27 18:39:24,195]\u001b[0m Trial 36 finished with value: 3670235.08 and parameters: {'learning_rate': 0.07411409630945621, 'batch_size': 16, 'n_layers': 2, 'n_units_l0': 100, 'n_units_l1': 181}. Best is trial 4 with value: 833290.29.\u001b[0m\n"
     ]
    },
    {
     "name": "stdout",
     "output_type": "stream",
     "text": [
      "2/2 [==============================] - 0s 17ms/step\n"
     ]
    },
    {
     "name": "stderr",
     "output_type": "stream",
     "text": [
      "\u001b[32m[I 2022-09-27 18:39:27,324]\u001b[0m Trial 34 finished with value: 851986.5 and parameters: {'learning_rate': 0.0928841046135768, 'batch_size': 16, 'n_layers': 2, 'n_units_l0': 101, 'n_units_l1': 183}. Best is trial 4 with value: 833290.29.\u001b[0m\n"
     ]
    },
    {
     "name": "stdout",
     "output_type": "stream",
     "text": [
      "2/2 [==============================] - 0s 3ms/step\n"
     ]
    },
    {
     "name": "stderr",
     "output_type": "stream",
     "text": [
      "\u001b[32m[I 2022-09-27 18:39:45,295]\u001b[0m Trial 47 finished with value: 4101777.01 and parameters: {'learning_rate': 0.022254180253798096, 'batch_size': 64, 'n_layers': 1, 'n_units_l0': 150}. Best is trial 4 with value: 833290.29.\u001b[0m\n"
     ]
    },
    {
     "name": "stdout",
     "output_type": "stream",
     "text": [
      "2/2 [==============================] - 0s 3ms/step\n"
     ]
    },
    {
     "name": "stderr",
     "output_type": "stream",
     "text": [
      "\u001b[32m[I 2022-09-27 18:39:46,240]\u001b[0m Trial 1 finished with value: 1741143.91 and parameters: {'learning_rate': 0.08719147483969794, 'batch_size': 16, 'n_layers': 2, 'n_units_l0': 144, 'n_units_l1': 189}. Best is trial 4 with value: 833290.29.\u001b[0m\n"
     ]
    },
    {
     "name": "stdout",
     "output_type": "stream",
     "text": [
      "2/2 [==============================] - 0s 4ms/step\n"
     ]
    },
    {
     "name": "stderr",
     "output_type": "stream",
     "text": [
      "\u001b[32m[I 2022-09-27 18:39:47,716]\u001b[0m Trial 12 finished with value: 3843518.69 and parameters: {'learning_rate': 0.045634874795934297, 'batch_size': 16, 'n_layers': 2, 'n_units_l0': 93, 'n_units_l1': 165}. Best is trial 4 with value: 833290.29.\u001b[0m\n"
     ]
    },
    {
     "name": "stdout",
     "output_type": "stream",
     "text": [
      "2/2 [==============================] - 0s 6ms/step\n"
     ]
    },
    {
     "name": "stderr",
     "output_type": "stream",
     "text": [
      "\u001b[32m[I 2022-09-27 18:39:48,960]\u001b[0m Trial 28 finished with value: 2416733.68 and parameters: {'learning_rate': 0.019868614090905692, 'batch_size': 64, 'n_layers': 1, 'n_units_l0': 138}. Best is trial 4 with value: 833290.29.\u001b[0m\n"
     ]
    },
    {
     "name": "stdout",
     "output_type": "stream",
     "text": [
      "2/2 [==============================] - 0s 5ms/step\n"
     ]
    },
    {
     "name": "stderr",
     "output_type": "stream",
     "text": [
      "\u001b[32m[I 2022-09-27 18:39:54,844]\u001b[0m Trial 33 finished with value: 1013619.39 and parameters: {'learning_rate': 0.03215801361770402, 'batch_size': 16, 'n_layers': 2, 'n_units_l0': 96, 'n_units_l1': 168}. Best is trial 4 with value: 833290.29.\u001b[0m\n"
     ]
    },
    {
     "name": "stdout",
     "output_type": "stream",
     "text": [
      "2/2 [==============================] - 0s 6ms/step\n"
     ]
    },
    {
     "name": "stderr",
     "output_type": "stream",
     "text": [
      "\u001b[32m[I 2022-09-27 18:39:57,301]\u001b[0m Trial 46 finished with value: 4093764.7 and parameters: {'learning_rate': 0.02548707559085752, 'batch_size': 64, 'n_layers': 1, 'n_units_l0': 159}. Best is trial 4 with value: 833290.29.\u001b[0m\n"
     ]
    },
    {
     "name": "stdout",
     "output_type": "stream",
     "text": [
      "2/2 [==============================] - 0s 25ms/step\n",
      "2/2 [==============================] - 0s 5ms/step\n"
     ]
    },
    {
     "name": "stderr",
     "output_type": "stream",
     "text": [
      "\u001b[32m[I 2022-09-27 18:40:05,764]\u001b[0m Trial 29 finished with value: 3986231.36 and parameters: {'learning_rate': 0.023964034169646937, 'batch_size': 16, 'n_layers': 1, 'n_units_l0': 147}. Best is trial 4 with value: 833290.29.\u001b[0m\n",
      "\u001b[32m[I 2022-09-27 18:40:05,778]\u001b[0m Trial 32 finished with value: 4016648.3 and parameters: {'learning_rate': 0.019604439646319246, 'batch_size': 16, 'n_layers': 1, 'n_units_l0': 148}. Best is trial 4 with value: 833290.29.\u001b[0m\n"
     ]
    },
    {
     "name": "stdout",
     "output_type": "stream",
     "text": [
      "2/2 [==============================] - 0s 5ms/step\n"
     ]
    },
    {
     "name": "stderr",
     "output_type": "stream",
     "text": [
      "\u001b[32m[I 2022-09-27 18:40:17,657]\u001b[0m Trial 42 finished with value: 3881156.14 and parameters: {'learning_rate': 0.020675436710183338, 'batch_size': 8, 'n_layers': 1, 'n_units_l0': 162}. Best is trial 4 with value: 833290.29.\u001b[0m\n"
     ]
    },
    {
     "name": "stdout",
     "output_type": "stream",
     "text": [
      "2/2 [==============================] - 0s 3ms/step\n"
     ]
    },
    {
     "name": "stderr",
     "output_type": "stream",
     "text": [
      "\u001b[32m[I 2022-09-27 18:40:18,308]\u001b[0m Trial 40 finished with value: 8958260.4 and parameters: {'learning_rate': 0.02534084661428586, 'batch_size': 8, 'n_layers': 1, 'n_units_l0': 144}. Best is trial 4 with value: 833290.29.\u001b[0m\n"
     ]
    },
    {
     "name": "stdout",
     "output_type": "stream",
     "text": [
      "2/2 [==============================] - 0s 4ms/step\n"
     ]
    },
    {
     "name": "stderr",
     "output_type": "stream",
     "text": [
      "\u001b[32m[I 2022-09-27 18:40:30,810]\u001b[0m Trial 49 finished with value: 1126084.9 and parameters: {'learning_rate': 0.02097921365355059, 'batch_size': 8, 'n_layers': 3, 'n_units_l0': 68, 'n_units_l1': 123, 'n_units_l2': 16}. Best is trial 4 with value: 833290.29.\u001b[0m\n"
     ]
    },
    {
     "name": "stdout",
     "output_type": "stream",
     "text": [
      "2/2 [==============================] - 0s 10ms/step\n"
     ]
    },
    {
     "name": "stderr",
     "output_type": "stream",
     "text": [
      "\u001b[32m[I 2022-09-27 18:40:33,720]\u001b[0m Trial 45 finished with value: 3676161.63 and parameters: {'learning_rate': 0.021775897494808984, 'batch_size': 8, 'n_layers': 1, 'n_units_l0': 150}. Best is trial 4 with value: 833290.29.\u001b[0m\n"
     ]
    },
    {
     "name": "stdout",
     "output_type": "stream",
     "text": [
      "2/2 [==============================] - 0s 5ms/step\n"
     ]
    },
    {
     "name": "stderr",
     "output_type": "stream",
     "text": [
      "\u001b[32m[I 2022-09-27 18:40:52,478]\u001b[0m Trial 48 finished with value: 3993425.86 and parameters: {'learning_rate': 0.011958661194663836, 'batch_size': 8, 'n_layers': 1, 'n_units_l0': 72}. Best is trial 4 with value: 833290.29.\u001b[0m\n"
     ]
    },
    {
     "name": "stdout",
     "output_type": "stream",
     "text": [
      "2/2 [==============================] - 0s 6ms/step\n"
     ]
    },
    {
     "name": "stderr",
     "output_type": "stream",
     "text": [
      "\u001b[32m[I 2022-09-27 18:40:55,549]\u001b[0m Trial 24 finished with value: 932030.28 and parameters: {'learning_rate': 0.028557919933481495, 'batch_size': 8, 'n_layers': 3, 'n_units_l0': 68, 'n_units_l1': 255, 'n_units_l2': 212}. Best is trial 4 with value: 833290.29.\u001b[0m\n"
     ]
    },
    {
     "name": "stdout",
     "output_type": "stream",
     "text": [
      "2/2 [==============================] - 0s 5ms/step\n"
     ]
    },
    {
     "name": "stderr",
     "output_type": "stream",
     "text": [
      "\u001b[32m[I 2022-09-27 18:41:03,448]\u001b[0m Trial 43 finished with value: 1808230.91 and parameters: {'learning_rate': 0.0116806955281234, 'batch_size': 8, 'n_layers': 3, 'n_units_l0': 70, 'n_units_l1': 129, 'n_units_l2': 5}. Best is trial 4 with value: 833290.29.\u001b[0m\n"
     ]
    },
    {
     "name": "stdout",
     "output_type": "stream",
     "text": [
      "2/2 [==============================] - 0s 7ms/step\n"
     ]
    },
    {
     "name": "stderr",
     "output_type": "stream",
     "text": [
      "\u001b[32m[I 2022-09-27 18:41:06,053]\u001b[0m Trial 27 finished with value: 3993688.02 and parameters: {'learning_rate': 0.011952256796030064, 'batch_size': 8, 'n_layers': 3, 'n_units_l0': 73, 'n_units_l1': 127, 'n_units_l2': 16}. Best is trial 4 with value: 833290.29.\u001b[0m\n"
     ]
    },
    {
     "name": "stdout",
     "output_type": "stream",
     "text": [
      "2/2 [==============================] - 0s 4ms/step\n"
     ]
    },
    {
     "name": "stderr",
     "output_type": "stream",
     "text": [
      "\u001b[32m[I 2022-09-27 18:41:07,599]\u001b[0m Trial 31 finished with value: 3971066.51 and parameters: {'learning_rate': 0.013662303864993779, 'batch_size': 8, 'n_layers': 3, 'n_units_l0': 74, 'n_units_l1': 127, 'n_units_l2': 206}. Best is trial 4 with value: 833290.29.\u001b[0m\n"
     ]
    },
    {
     "name": "stdout",
     "output_type": "stream",
     "text": [
      "2/2 [==============================] - 0s 5ms/step\n"
     ]
    },
    {
     "name": "stderr",
     "output_type": "stream",
     "text": [
      "\u001b[32m[I 2022-09-27 18:41:14,693]\u001b[0m Trial 37 finished with value: 824881.69 and parameters: {'learning_rate': 0.0625802703780383, 'batch_size': 16, 'n_layers': 3, 'n_units_l0': 123, 'n_units_l1': 139, 'n_units_l2': 200}. Best is trial 37 with value: 824881.69.\u001b[0m\n"
     ]
    },
    {
     "name": "stdout",
     "output_type": "stream",
     "text": [
      "2/2 [==============================] - 0s 3ms/step\n"
     ]
    },
    {
     "name": "stderr",
     "output_type": "stream",
     "text": [
      "\u001b[32m[I 2022-09-27 18:41:24,540]\u001b[0m Trial 30 finished with value: 1225745.04 and parameters: {'learning_rate': 0.0654960687190766, 'batch_size': 16, 'n_layers': 3, 'n_units_l0': 123, 'n_units_l1': 200, 'n_units_l2': 205}. Best is trial 37 with value: 824881.69.\u001b[0m\n"
     ]
    },
    {
     "name": "stdout",
     "output_type": "stream",
     "text": [
      "2/2 [==============================] - 0s 5ms/step\n"
     ]
    },
    {
     "name": "stderr",
     "output_type": "stream",
     "text": [
      "\u001b[32m[I 2022-09-27 18:41:29,384]\u001b[0m Trial 39 finished with value: 923744.58 and parameters: {'learning_rate': 0.057045177962462515, 'batch_size': 16, 'n_layers': 3, 'n_units_l0': 118, 'n_units_l1': 137, 'n_units_l2': 201}. Best is trial 37 with value: 824881.69.\u001b[0m\n"
     ]
    },
    {
     "name": "stdout",
     "output_type": "stream",
     "text": [
      "2/2 [==============================] - 0s 2ms/step\n"
     ]
    },
    {
     "name": "stderr",
     "output_type": "stream",
     "text": [
      "\u001b[32m[I 2022-09-27 18:41:35,778]\u001b[0m Trial 41 finished with value: 4101126.77 and parameters: {'learning_rate': 0.06667119664818809, 'batch_size': 512, 'n_layers': 4, 'n_units_l0': 121, 'n_units_l1': 205, 'n_units_l2': 145, 'n_units_l3': 233}. Best is trial 37 with value: 824881.69.\u001b[0m\n"
     ]
    },
    {
     "name": "stdout",
     "output_type": "stream",
     "text": [
      "2/2 [==============================] - 0s 4ms/step\n"
     ]
    },
    {
     "name": "stderr",
     "output_type": "stream",
     "text": [
      "\u001b[32m[I 2022-09-27 18:41:41,016]\u001b[0m Trial 44 finished with value: 1036479.13 and parameters: {'learning_rate': 0.06231211963092314, 'batch_size': 16, 'n_layers': 3, 'n_units_l0': 118, 'n_units_l1': 206, 'n_units_l2': 210}. Best is trial 37 with value: 824881.69.\u001b[0m\n"
     ]
    },
    {
     "name": "stdout",
     "output_type": "stream",
     "text": [
      "2/2 [==============================] - 0s 10ms/step\n"
     ]
    },
    {
     "name": "stderr",
     "output_type": "stream",
     "text": [
      "\u001b[32m[I 2022-09-27 18:41:55,249]\u001b[0m Trial 38 finished with value: 1133198.72 and parameters: {'learning_rate': 0.0605619346693014, 'batch_size': 512, 'n_layers': 4, 'n_units_l0': 123, 'n_units_l1': 141, 'n_units_l2': 141, 'n_units_l3': 247}. Best is trial 37 with value: 824881.69.\u001b[0m\n"
     ]
    },
    {
     "name": "stdout",
     "output_type": "stream",
     "text": [
      "2/2 [==============================] - 0s 7ms/step\n"
     ]
    },
    {
     "name": "stderr",
     "output_type": "stream",
     "text": [
      "\u001b[32m[I 2022-09-27 18:42:14,498]\u001b[0m Trial 64 finished with value: 3633143.74 and parameters: {'learning_rate': 0.08064912655542113, 'batch_size': 16, 'n_layers': 5, 'n_units_l0': 86, 'n_units_l1': 140, 'n_units_l2': 254, 'n_units_l3': 197, 'n_units_l4': 254}. Best is trial 37 with value: 824881.69.\u001b[0m\n"
     ]
    },
    {
     "name": "stdout",
     "output_type": "stream",
     "text": [
      "2/2 [==============================] - 0s 4ms/step\n"
     ]
    },
    {
     "name": "stderr",
     "output_type": "stream",
     "text": [
      "\u001b[32m[I 2022-09-27 18:42:16,417]\u001b[0m Trial 70 finished with value: 3785483.82 and parameters: {'learning_rate': 0.054910562637145104, 'batch_size': 16, 'n_layers': 4, 'n_units_l0': 117, 'n_units_l1': 139, 'n_units_l2': 161, 'n_units_l3': 255}. Best is trial 37 with value: 824881.69.\u001b[0m\n"
     ]
    },
    {
     "name": "stdout",
     "output_type": "stream",
     "text": [
      "2/2 [==============================] - 0s 2ms/step\n"
     ]
    },
    {
     "name": "stderr",
     "output_type": "stream",
     "text": [
      "\u001b[32m[I 2022-09-27 18:42:19,998]\u001b[0m Trial 55 finished with value: 3649183.19 and parameters: {'learning_rate': 0.09978129139059827, 'batch_size': 16, 'n_layers': 5, 'n_units_l0': 43, 'n_units_l1': 142, 'n_units_l2': 244, 'n_units_l3': 252, 'n_units_l4': 254}. Best is trial 37 with value: 824881.69.\u001b[0m\n"
     ]
    },
    {
     "name": "stdout",
     "output_type": "stream",
     "text": [
      "2/2 [==============================] - 0s 4ms/step\n"
     ]
    },
    {
     "name": "stderr",
     "output_type": "stream",
     "text": [
      "\u001b[32m[I 2022-09-27 18:42:22,273]\u001b[0m Trial 51 finished with value: 3541524.86 and parameters: {'learning_rate': 0.09980029824234164, 'batch_size': 16, 'n_layers': 5, 'n_units_l0': 85, 'n_units_l1': 142, 'n_units_l2': 256, 'n_units_l3': 253, 'n_units_l4': 89}. Best is trial 37 with value: 824881.69.\u001b[0m\n"
     ]
    },
    {
     "name": "stdout",
     "output_type": "stream",
     "text": [
      "2/2 [==============================] - 0s 4ms/step\n"
     ]
    },
    {
     "name": "stderr",
     "output_type": "stream",
     "text": [
      "\u001b[32m[I 2022-09-27 18:42:31,222]\u001b[0m Trial 71 finished with value: 3640208.01 and parameters: {'learning_rate': 0.07937573967842695, 'batch_size': 16, 'n_layers': 4, 'n_units_l0': 45, 'n_units_l1': 142, 'n_units_l2': 160, 'n_units_l3': 256}. Best is trial 37 with value: 824881.69.\u001b[0m\n"
     ]
    },
    {
     "name": "stdout",
     "output_type": "stream",
     "text": [
      "2/2 [==============================] - 1s 4ms/step\n",
      "2/2 [==============================] - 0s 5ms/step\n"
     ]
    },
    {
     "name": "stderr",
     "output_type": "stream",
     "text": [
      "\u001b[32m[I 2022-09-27 18:42:35,330]\u001b[0m Trial 53 finished with value: 3773247.5 and parameters: {'learning_rate': 0.05681878860428994, 'batch_size': 16, 'n_layers': 5, 'n_units_l0': 118, 'n_units_l1': 143, 'n_units_l2': 252, 'n_units_l3': 197, 'n_units_l4': 255}. Best is trial 37 with value: 824881.69.\u001b[0m\n",
      "\u001b[32m[I 2022-09-27 18:42:35,479]\u001b[0m Trial 66 finished with value: 2432012.78 and parameters: {'learning_rate': 0.05554466011706835, 'batch_size': 16, 'n_layers': 5, 'n_units_l0': 117, 'n_units_l1': 146, 'n_units_l2': 253, 'n_units_l3': 256, 'n_units_l4': 249}. Best is trial 37 with value: 824881.69.\u001b[0m\n"
     ]
    },
    {
     "name": "stdout",
     "output_type": "stream",
     "text": [
      "2/2 [==============================] - 0s 25ms/step\n",
      "2/2 [==============================] - 0s 2ms/step\n"
     ]
    },
    {
     "name": "stderr",
     "output_type": "stream",
     "text": [
      "\u001b[32m[I 2022-09-27 18:42:52,880]\u001b[0m Trial 57 finished with value: 4103605.41 and parameters: {'learning_rate': 0.03236159573559929, 'batch_size': 128, 'n_layers': 3, 'n_units_l0': 57, 'n_units_l1': 108, 'n_units_l2': 188}. Best is trial 37 with value: 824881.69.\u001b[0m\n",
      "\u001b[32m[I 2022-09-27 18:42:53,027]\u001b[0m Trial 56 finished with value: 4088944.32 and parameters: {'learning_rate': 0.04095791628060181, 'batch_size': 128, 'n_layers': 3, 'n_units_l0': 55, 'n_units_l1': 108, 'n_units_l2': 185}. Best is trial 37 with value: 824881.69.\u001b[0m\n"
     ]
    },
    {
     "name": "stdout",
     "output_type": "stream",
     "text": [
      "2/2 [==============================] - 1s 9ms/step\n"
     ]
    },
    {
     "name": "stderr",
     "output_type": "stream",
     "text": [
      "\u001b[32m[I 2022-09-27 18:42:55,723]\u001b[0m Trial 65 finished with value: 4094678.1 and parameters: {'learning_rate': 0.03774867726754042, 'batch_size': 128, 'n_layers': 3, 'n_units_l0': 30, 'n_units_l1': 108, 'n_units_l2': 192}. Best is trial 37 with value: 824881.69.\u001b[0m\n"
     ]
    },
    {
     "name": "stdout",
     "output_type": "stream",
     "text": [
      "2/2 [==============================] - 0s 4ms/step\n"
     ]
    },
    {
     "name": "stderr",
     "output_type": "stream",
     "text": [
      "\u001b[32m[I 2022-09-27 18:43:10,549]\u001b[0m Trial 69 finished with value: 1496729.35 and parameters: {'learning_rate': 0.035793084374409354, 'batch_size': 2048, 'n_layers': 3, 'n_units_l0': 82, 'n_units_l1': 218, 'n_units_l2': 217}. Best is trial 37 with value: 824881.69.\u001b[0m\n"
     ]
    },
    {
     "name": "stdout",
     "output_type": "stream",
     "text": [
      "2/2 [==============================] - 1s 2ms/step\n"
     ]
    },
    {
     "name": "stderr",
     "output_type": "stream",
     "text": [
      "\u001b[32m[I 2022-09-27 18:43:12,315]\u001b[0m Trial 62 finished with value: 1760716.51 and parameters: {'learning_rate': 0.03750207941653241, 'batch_size': 2048, 'n_layers': 2, 'n_units_l0': 182, 'n_units_l1': 222}. Best is trial 37 with value: 824881.69.\u001b[0m\n"
     ]
    },
    {
     "name": "stdout",
     "output_type": "stream",
     "text": [
      "2/2 [==============================] - 0s 4ms/step\n"
     ]
    },
    {
     "name": "stderr",
     "output_type": "stream",
     "text": [
      "\u001b[32m[I 2022-09-27 18:43:19,682]\u001b[0m Trial 54 finished with value: 4004436.42 and parameters: {'learning_rate': 0.03797851209883376, 'batch_size': 32, 'n_layers': 3, 'n_units_l0': 136, 'n_units_l1': 224, 'n_units_l2': 223}. Best is trial 37 with value: 824881.69.\u001b[0m\n"
     ]
    },
    {
     "name": "stdout",
     "output_type": "stream",
     "text": [
      "2/2 [==============================] - 0s 2ms/step\n",
      "2/2 [==============================] - 0s 12ms/step\n"
     ]
    },
    {
     "name": "stderr",
     "output_type": "stream",
     "text": [
      "\u001b[32m[I 2022-09-27 18:43:36,196]\u001b[0m Trial 52 finished with value: 1138882.57 and parameters: {'learning_rate': 0.028951998775739802, 'batch_size': 32, 'n_layers': 2, 'n_units_l0': 132, 'n_units_l1': 184}. Best is trial 37 with value: 824881.69.\u001b[0m\n",
      "\u001b[32m[I 2022-09-27 18:43:36,257]\u001b[0m Trial 58 finished with value: 1877807.82 and parameters: {'learning_rate': 0.03019728300418756, 'batch_size': 32, 'n_layers': 2, 'n_units_l0': 134, 'n_units_l1': 193}. Best is trial 37 with value: 824881.69.\u001b[0m\n"
     ]
    },
    {
     "name": "stdout",
     "output_type": "stream",
     "text": [
      "2/2 [==============================] - 0s 6ms/step\n"
     ]
    },
    {
     "name": "stderr",
     "output_type": "stream",
     "text": [
      "\u001b[32m[I 2022-09-27 18:43:49,162]\u001b[0m Trial 67 finished with value: 1227041.32 and parameters: {'learning_rate': 0.030066194388450772, 'batch_size': 16, 'n_layers': 2, 'n_units_l0': 91, 'n_units_l1': 191}. Best is trial 37 with value: 824881.69.\u001b[0m\n"
     ]
    },
    {
     "name": "stdout",
     "output_type": "stream",
     "text": [
      "2/2 [==============================] - 1s 10ms/step\n",
      "2/2 [==============================] - 1s 10ms/step\n"
     ]
    },
    {
     "name": "stderr",
     "output_type": "stream",
     "text": [
      "\u001b[32m[I 2022-09-27 18:44:08,215]\u001b[0m Trial 61 finished with value: 1390010.33 and parameters: {'learning_rate': 0.0161502182482504, 'batch_size': 16, 'n_layers': 2, 'n_units_l0': 109, 'n_units_l1': 168}. Best is trial 37 with value: 824881.69.\u001b[0m\n",
      "\u001b[32m[I 2022-09-27 18:44:08,218]\u001b[0m Trial 60 finished with value: 3827792.67 and parameters: {'learning_rate': 0.048039029560042, 'batch_size': 16, 'n_layers': 2, 'n_units_l0': 90, 'n_units_l1': 170}. Best is trial 37 with value: 824881.69.\u001b[0m\n"
     ]
    },
    {
     "name": "stdout",
     "output_type": "stream",
     "text": [
      "2/2 [==============================] - 0s 5ms/step\n"
     ]
    },
    {
     "name": "stderr",
     "output_type": "stream",
     "text": [
      "\u001b[32m[I 2022-09-27 18:44:24,908]\u001b[0m Trial 68 finished with value: 4047564.64 and parameters: {'learning_rate': 0.015208001701907477, 'batch_size': 16, 'n_layers': 2, 'n_units_l0': 107, 'n_units_l1': 239}. Best is trial 37 with value: 824881.69.\u001b[0m\n"
     ]
    },
    {
     "name": "stdout",
     "output_type": "stream",
     "text": [
      "2/2 [==============================] - 0s 3ms/step\n"
     ]
    },
    {
     "name": "stderr",
     "output_type": "stream",
     "text": [
      "\u001b[32m[I 2022-09-27 18:44:33,786]\u001b[0m Trial 50 finished with value: 1327928.47 and parameters: {'learning_rate': 0.07049148996709574, 'batch_size': 1024, 'n_layers': 2, 'n_units_l0': 61, 'n_units_l1': 176}. Best is trial 37 with value: 824881.69.\u001b[0m\n"
     ]
    },
    {
     "name": "stdout",
     "output_type": "stream",
     "text": [
      "2/2 [==============================] - 0s 2ms/step\n"
     ]
    },
    {
     "name": "stderr",
     "output_type": "stream",
     "text": [
      "\u001b[32m[I 2022-09-27 18:44:40,098]\u001b[0m Trial 59 finished with value: 4096782.0 and parameters: {'learning_rate': 0.07185660719802033, 'batch_size': 1024, 'n_layers': 3, 'n_units_l0': 80, 'n_units_l1': 155, 'n_units_l2': 113}. Best is trial 37 with value: 824881.69.\u001b[0m\n"
     ]
    },
    {
     "name": "stdout",
     "output_type": "stream",
     "text": [
      "2/2 [==============================] - 0s 4ms/step\n"
     ]
    },
    {
     "name": "stderr",
     "output_type": "stream",
     "text": [
      "\u001b[32m[I 2022-09-27 18:44:43,086]\u001b[0m Trial 63 finished with value: 3837298.93 and parameters: {'learning_rate': 0.04651108974024636, 'batch_size': 16, 'n_layers': 2, 'n_units_l0': 79, 'n_units_l1': 234}. Best is trial 37 with value: 824881.69.\u001b[0m\n"
     ]
    },
    {
     "name": "stdout",
     "output_type": "stream",
     "text": [
      "2/2 [==============================] - 0s 4ms/step\n"
     ]
    },
    {
     "name": "stderr",
     "output_type": "stream",
     "text": [
      "\u001b[32m[I 2022-09-27 18:45:03,768]\u001b[0m Trial 91 finished with value: 3862440.15 and parameters: {'learning_rate': 0.042705441269915295, 'batch_size': 16, 'n_layers': 3, 'n_units_l0': 233, 'n_units_l1': 157, 'n_units_l2': 121}. Best is trial 37 with value: 824881.69.\u001b[0m\n"
     ]
    },
    {
     "name": "stdout",
     "output_type": "stream",
     "text": [
      "2/2 [==============================] - 0s 2ms/step\n"
     ]
    },
    {
     "name": "stderr",
     "output_type": "stream",
     "text": [
      "\u001b[32m[I 2022-09-27 18:45:04,578]\u001b[0m Trial 88 finished with value: 3851928.48 and parameters: {'learning_rate': 0.044369565914821475, 'batch_size': 16, 'n_layers': 3, 'n_units_l0': 216, 'n_units_l1': 156, 'n_units_l2': 173}. Best is trial 37 with value: 824881.69.\u001b[0m\n"
     ]
    },
    {
     "name": "stdout",
     "output_type": "stream",
     "text": [
      "2/2 [==============================] - 0s 2ms/step\n"
     ]
    },
    {
     "name": "stderr",
     "output_type": "stream",
     "text": [
      "\u001b[32m[I 2022-09-27 18:45:13,300]\u001b[0m Trial 89 finished with value: 1052785.8 and parameters: {'learning_rate': 0.04426613191300241, 'batch_size': 16, 'n_layers': 3, 'n_units_l0': 78, 'n_units_l1': 154, 'n_units_l2': 115}. Best is trial 37 with value: 824881.69.\u001b[0m\n"
     ]
    },
    {
     "name": "stdout",
     "output_type": "stream",
     "text": [
      "2/2 [==============================] - 0s 9ms/step\n"
     ]
    },
    {
     "name": "stderr",
     "output_type": "stream",
     "text": [
      "\u001b[32m[I 2022-09-27 18:45:14,761]\u001b[0m Trial 84 finished with value: 3821793.99 and parameters: {'learning_rate': 0.04902716543045212, 'batch_size': 16, 'n_layers': 3, 'n_units_l0': 210, 'n_units_l1': 155, 'n_units_l2': 116}. Best is trial 37 with value: 824881.69.\u001b[0m\n"
     ]
    },
    {
     "name": "stdout",
     "output_type": "stream",
     "text": [
      "2/2 [==============================] - 0s 6ms/step\n"
     ]
    },
    {
     "name": "stderr",
     "output_type": "stream",
     "text": [
      "\u001b[32m[I 2022-09-27 18:45:15,837]\u001b[0m Trial 83 finished with value: 3837231.0 and parameters: {'learning_rate': 0.04658872780889918, 'batch_size': 16, 'n_layers': 3, 'n_units_l0': 237, 'n_units_l1': 256, 'n_units_l2': 124}. Best is trial 37 with value: 824881.69.\u001b[0m\n"
     ]
    },
    {
     "name": "stdout",
     "output_type": "stream",
     "text": [
      "2/2 [==============================] - 0s 2ms/step\n"
     ]
    },
    {
     "name": "stderr",
     "output_type": "stream",
     "text": [
      "\u001b[32m[I 2022-09-27 18:45:34,953]\u001b[0m Trial 79 finished with value: 4104502.69 and parameters: {'learning_rate': 0.06265377405524028, 'batch_size': 512, 'n_layers': 4, 'n_units_l0': 111, 'n_units_l1': 208, 'n_units_l2': 209, 'n_units_l3': 23}. Best is trial 37 with value: 824881.69.\u001b[0m\n"
     ]
    },
    {
     "name": "stdout",
     "output_type": "stream",
     "text": [
      "2/2 [==============================] - 0s 4ms/step\n"
     ]
    },
    {
     "name": "stderr",
     "output_type": "stream",
     "text": [
      "\u001b[32m[I 2022-09-27 18:45:45,845]\u001b[0m Trial 93 finished with value: 1226356.78 and parameters: {'learning_rate': 0.06151950989489619, 'batch_size': 16, 'n_layers': 3, 'n_units_l0': 114, 'n_units_l1': 195, 'n_units_l2': 205}. Best is trial 37 with value: 824881.69.\u001b[0m\n"
     ]
    },
    {
     "name": "stdout",
     "output_type": "stream",
     "text": [
      "2/2 [==============================] - 0s 2ms/step\n"
     ]
    },
    {
     "name": "stderr",
     "output_type": "stream",
     "text": [
      "\u001b[32m[I 2022-09-27 18:45:48,912]\u001b[0m Trial 90 finished with value: 3740791.07 and parameters: {'learning_rate': 0.06224859229982086, 'batch_size': 16, 'n_layers': 4, 'n_units_l0': 127, 'n_units_l1': 208, 'n_units_l2': 236, 'n_units_l3': 120}. Best is trial 37 with value: 824881.69.\u001b[0m\n"
     ]
    },
    {
     "name": "stdout",
     "output_type": "stream",
     "text": [
      "2/2 [==============================] - 0s 2ms/step\n"
     ]
    },
    {
     "name": "stderr",
     "output_type": "stream",
     "text": [
      "\u001b[32m[I 2022-09-27 18:46:07,413]\u001b[0m Trial 72 finished with value: 4160406.32 and parameters: {'learning_rate': 0.08749768804187179, 'batch_size': 16, 'n_layers': 4, 'n_units_l0': 96, 'n_units_l1': 212, 'n_units_l2': 234, 'n_units_l3': 119}. Best is trial 37 with value: 824881.69.\u001b[0m\n"
     ]
    },
    {
     "name": "stdout",
     "output_type": "stream",
     "text": [
      "2/2 [==============================] - 0s 2ms/step\n"
     ]
    },
    {
     "name": "stderr",
     "output_type": "stream",
     "text": [
      "\u001b[32m[I 2022-09-27 18:46:15,581]\u001b[0m Trial 78 finished with value: 3580287.42 and parameters: {'learning_rate': 0.09027860995618206, 'batch_size': 16, 'n_layers': 2, 'n_units_l0': 128, 'n_units_l1': 211}. Best is trial 37 with value: 824881.69.\u001b[0m\n"
     ]
    },
    {
     "name": "stdout",
     "output_type": "stream",
     "text": [
      "2/2 [==============================] - 0s 2ms/step\n"
     ]
    },
    {
     "name": "stderr",
     "output_type": "stream",
     "text": [
      "\u001b[32m[I 2022-09-27 18:46:18,574]\u001b[0m Trial 74 finished with value: 1583510.5 and parameters: {'learning_rate': 0.018360710124712545, 'batch_size': 16, 'n_layers': 2, 'n_units_l0': 97, 'n_units_l1': 116}. Best is trial 37 with value: 824881.69.\u001b[0m\n"
     ]
    },
    {
     "name": "stdout",
     "output_type": "stream",
     "text": [
      "2/2 [==============================] - 0s 6ms/step\n"
     ]
    },
    {
     "name": "stderr",
     "output_type": "stream",
     "text": [
      "\u001b[32m[I 2022-09-27 18:46:25,712]\u001b[0m Trial 81 finished with value: 4151612.44 and parameters: {'learning_rate': 0.00897444730703227, 'batch_size': 1024, 'n_layers': 2, 'n_units_l0': 247, 'n_units_l1': 246}. Best is trial 37 with value: 824881.69.\u001b[0m\n"
     ]
    },
    {
     "name": "stdout",
     "output_type": "stream",
     "text": [
      "2/2 [==============================] - 0s 4ms/step\n"
     ]
    },
    {
     "name": "stderr",
     "output_type": "stream",
     "text": [
      "\u001b[32m[I 2022-09-27 18:46:32,684]\u001b[0m Trial 77 finished with value: 1136265.21 and parameters: {'learning_rate': 0.001096075791657417, 'batch_size': 1024, 'n_layers': 2, 'n_units_l0': 255, 'n_units_l1': 247}. Best is trial 37 with value: 824881.69.\u001b[0m\n"
     ]
    },
    {
     "name": "stdout",
     "output_type": "stream",
     "text": [
      "2/2 [==============================] - 0s 2ms/step\n"
     ]
    },
    {
     "name": "stderr",
     "output_type": "stream",
     "text": [
      "\u001b[32m[I 2022-09-27 18:46:35,382]\u001b[0m Trial 73 finished with value: 4157361.85 and parameters: {'learning_rate': 0.002098078579555167, 'batch_size': 1024, 'n_layers': 2, 'n_units_l0': 250, 'n_units_l1': 240}. Best is trial 37 with value: 824881.69.\u001b[0m\n"
     ]
    },
    {
     "name": "stdout",
     "output_type": "stream",
     "text": [
      "2/2 [==============================] - 0s 4ms/step\n"
     ]
    },
    {
     "name": "stderr",
     "output_type": "stream",
     "text": [
      "\u001b[32m[I 2022-09-27 18:46:42,292]\u001b[0m Trial 85 finished with value: 4157257.2 and parameters: {'learning_rate': 0.0022645281021015217, 'batch_size': 1024, 'n_layers': 2, 'n_units_l0': 61, 'n_units_l1': 175}. Best is trial 37 with value: 824881.69.\u001b[0m\n"
     ]
    },
    {
     "name": "stdout",
     "output_type": "stream",
     "text": [
      "2/2 [==============================] - 0s 4ms/step\n"
     ]
    },
    {
     "name": "stderr",
     "output_type": "stream",
     "text": [
      "\u001b[32m[I 2022-09-27 18:46:49,202]\u001b[0m Trial 75 finished with value: 4157307.54 and parameters: {'learning_rate': 0.00218507845045037, 'batch_size': 1024, 'n_layers': 2, 'n_units_l0': 63, 'n_units_l1': 185}. Best is trial 37 with value: 824881.69.\u001b[0m\n"
     ]
    },
    {
     "name": "stdout",
     "output_type": "stream",
     "text": [
      "2/2 [==============================] - 1s 9ms/step\n"
     ]
    },
    {
     "name": "stderr",
     "output_type": "stream",
     "text": [
      "\u001b[32m[I 2022-09-27 18:46:55,682]\u001b[0m Trial 92 finished with value: 1024914.6 and parameters: {'learning_rate': 0.03322490859955932, 'batch_size': 64, 'n_layers': 3, 'n_units_l0': 141, 'n_units_l1': 185, 'n_units_l2': 196}. Best is trial 37 with value: 824881.69.\u001b[0m\n"
     ]
    },
    {
     "name": "stdout",
     "output_type": "stream",
     "text": [
      "2/2 [==============================] - 0s 4ms/step\n"
     ]
    },
    {
     "name": "stderr",
     "output_type": "stream",
     "text": [
      "\u001b[32m[I 2022-09-27 18:47:02,381]\u001b[0m Trial 86 finished with value: 1056492.34 and parameters: {'learning_rate': 0.0524631652421, 'batch_size': 64, 'n_layers': 3, 'n_units_l0': 140, 'n_units_l1': 134, 'n_units_l2': 198}. Best is trial 37 with value: 824881.69.\u001b[0m\n"
     ]
    },
    {
     "name": "stdout",
     "output_type": "stream",
     "text": [
      "2/2 [==============================] - 0s 3ms/step\n"
     ]
    },
    {
     "name": "stderr",
     "output_type": "stream",
     "text": [
      "\u001b[32m[I 2022-09-27 18:47:09,673]\u001b[0m Trial 80 finished with value: 941542.55 and parameters: {'learning_rate': 0.024801894181534077, 'batch_size': 64, 'n_layers': 3, 'n_units_l0': 140, 'n_units_l1': 134, 'n_units_l2': 177}. Best is trial 37 with value: 824881.69.\u001b[0m\n"
     ]
    },
    {
     "name": "stdout",
     "output_type": "stream",
     "text": [
      "2/2 [==============================] - 0s 4ms/step\n"
     ]
    },
    {
     "name": "stderr",
     "output_type": "stream",
     "text": [
      "\u001b[32m[I 2022-09-27 18:47:18,041]\u001b[0m Trial 87 finished with value: 806034.71 and parameters: {'learning_rate': 0.031956940554356585, 'batch_size': 64, 'n_layers': 3, 'n_units_l0': 142, 'n_units_l1': 197, 'n_units_l2': 192}. Best is trial 87 with value: 806034.71.\u001b[0m\n"
     ]
    },
    {
     "name": "stdout",
     "output_type": "stream",
     "text": [
      "2/2 [==============================] - 0s 6ms/step\n"
     ]
    },
    {
     "name": "stderr",
     "output_type": "stream",
     "text": [
      "\u001b[32m[I 2022-09-27 18:47:23,866]\u001b[0m Trial 82 finished with value: 4118497.2 and parameters: {'learning_rate': 0.004810956026873914, 'batch_size': 64, 'n_layers': 3, 'n_units_l0': 181, 'n_units_l1': 199, 'n_units_l2': 180}. Best is trial 87 with value: 806034.71.\u001b[0m\n"
     ]
    },
    {
     "name": "stdout",
     "output_type": "stream",
     "text": [
      "2/2 [==============================] - 0s 3ms/step\n"
     ]
    },
    {
     "name": "stderr",
     "output_type": "stream",
     "text": [
      "\u001b[32m[I 2022-09-27 18:47:30,777]\u001b[0m Trial 76 finished with value: 1381830.58 and parameters: {'learning_rate': 0.026779494801433202, 'batch_size': 64, 'n_layers': 3, 'n_units_l0': 182, 'n_units_l1': 199, 'n_units_l2': 180}. Best is trial 87 with value: 806034.71.\u001b[0m\n"
     ]
    },
    {
     "name": "stdout",
     "output_type": "stream",
     "text": [
      "2/2 [==============================] - 0s 3ms/step\n"
     ]
    },
    {
     "name": "stderr",
     "output_type": "stream",
     "text": [
      "\u001b[32m[I 2022-09-27 18:47:41,011]\u001b[0m Trial 96 finished with value: 4074578.56 and parameters: {'learning_rate': 0.03334013401495088, 'batch_size': 64, 'n_layers': 3, 'n_units_l0': 157, 'n_units_l1': 168, 'n_units_l2': 172}. Best is trial 87 with value: 806034.71.\u001b[0m\n"
     ]
    },
    {
     "name": "stdout",
     "output_type": "stream",
     "text": [
      "2/2 [==============================] - 0s 4ms/step\n"
     ]
    },
    {
     "name": "stderr",
     "output_type": "stream",
     "text": [
      "\u001b[32m[I 2022-09-27 18:47:41,475]\u001b[0m Trial 97 finished with value: 1082106.66 and parameters: {'learning_rate': 0.024328144050775675, 'batch_size': 64, 'n_layers': 3, 'n_units_l0': 159, 'n_units_l1': 200, 'n_units_l2': 177}. Best is trial 87 with value: 806034.71.\u001b[0m\n"
     ]
    },
    {
     "name": "stdout",
     "output_type": "stream",
     "text": [
      "2/2 [==============================] - 0s 5ms/step\n",
      "2/2 [==============================] - 0s 6ms/step\n"
     ]
    },
    {
     "name": "stderr",
     "output_type": "stream",
     "text": [
      "\u001b[32m[I 2022-09-27 18:47:48,359]\u001b[0m Trial 100 finished with value: 4075271.08 and parameters: {'learning_rate': 0.033018065119867324, 'batch_size': 64, 'n_layers': 3, 'n_units_l0': 175, 'n_units_l1': 199, 'n_units_l2': 180}. Best is trial 87 with value: 806034.71.\u001b[0m\n",
      "\u001b[32m[I 2022-09-27 18:47:48,393]\u001b[0m Trial 110 finished with value: 4075468.61 and parameters: {'learning_rate': 0.03282940316116021, 'batch_size': 64, 'n_layers': 3, 'n_units_l0': 176, 'n_units_l1': 199, 'n_units_l2': 180}. Best is trial 87 with value: 806034.71.\u001b[0m\n"
     ]
    },
    {
     "name": "stdout",
     "output_type": "stream",
     "text": [
      "2/2 [==============================] - 0s 26ms/step\n"
     ]
    },
    {
     "name": "stderr",
     "output_type": "stream",
     "text": [
      "\u001b[32m[I 2022-09-27 18:47:48,762]\u001b[0m Trial 95 finished with value: 4098259.05 and parameters: {'learning_rate': 0.023729022169710182, 'batch_size': 64, 'n_layers': 3, 'n_units_l0': 157, 'n_units_l1': 200, 'n_units_l2': 178}. Best is trial 87 with value: 806034.71.\u001b[0m\n"
     ]
    },
    {
     "name": "stdout",
     "output_type": "stream",
     "text": [
      "2/2 [==============================] - 0s 11ms/step\n",
      "2/2 [==============================] - 0s 3ms/step\n",
      "2/2 [==============================] - 0s 10ms/step\n"
     ]
    },
    {
     "name": "stderr",
     "output_type": "stream",
     "text": [
      "\u001b[32m[I 2022-09-27 18:48:10,138]\u001b[0m Trial 109 finished with value: 4111944.38 and parameters: {'learning_rate': 0.018138032823457457, 'batch_size': 64, 'n_layers': 3, 'n_units_l0': 192, 'n_units_l1': 149, 'n_units_l2': 157}. Best is trial 87 with value: 806034.71.\u001b[0m\n",
      "\u001b[32m[I 2022-09-27 18:48:10,140]\u001b[0m Trial 114 finished with value: 966505.12 and parameters: {'learning_rate': 0.03937177311160953, 'batch_size': 64, 'n_layers': 3, 'n_units_l0': 143, 'n_units_l1': 184, 'n_units_l2': 161}. Best is trial 87 with value: 806034.71.\u001b[0m\n",
      "\u001b[32m[I 2022-09-27 18:48:10,254]\u001b[0m Trial 115 finished with value: 4099556.46 and parameters: {'learning_rate': 0.02315296832819433, 'batch_size': 64, 'n_layers': 3, 'n_units_l0': 141, 'n_units_l1': 118, 'n_units_l2': 161}. Best is trial 87 with value: 806034.71.\u001b[0m\n"
     ]
    },
    {
     "name": "stdout",
     "output_type": "stream",
     "text": [
      "2/2 [==============================] - 2s 7ms/step\n",
      "2/2 [==============================] - 1s 8ms/step\n",
      "2/2 [==============================] - 1s 6ms/step\n"
     ]
    },
    {
     "name": "stderr",
     "output_type": "stream",
     "text": [
      "\u001b[32m[I 2022-09-27 18:48:33,866]\u001b[0m Trial 99 finished with value: 4061661.09 and parameters: {'learning_rate': 0.03894108964643311, 'batch_size': 64, 'n_layers': 3, 'n_units_l0': 125, 'n_units_l1': 163, 'n_units_l2': 194}. Best is trial 87 with value: 806034.71.\u001b[0m\n",
      "\u001b[32m[I 2022-09-27 18:48:34,056]\u001b[0m Trial 103 finished with value: 4088408.1 and parameters: {'learning_rate': 0.027743071376351024, 'batch_size': 64, 'n_layers': 3, 'n_units_l0': 131, 'n_units_l1': 176, 'n_units_l2': 197}. Best is trial 87 with value: 806034.71.\u001b[0m\n",
      "\u001b[32m[I 2022-09-27 18:48:34,067]\u001b[0m Trial 107 finished with value: 827307.29 and parameters: {'learning_rate': 0.04019139008316723, 'batch_size': 64, 'n_layers': 3, 'n_units_l0': 103, 'n_units_l1': 186, 'n_units_l2': 196}. Best is trial 87 with value: 806034.71.\u001b[0m\n"
     ]
    },
    {
     "name": "stdout",
     "output_type": "stream",
     "text": [
      "2/2 [==============================] - 0s 9ms/step\n"
     ]
    },
    {
     "name": "stderr",
     "output_type": "stream",
     "text": [
      "\u001b[32m[I 2022-09-27 18:49:17,909]\u001b[0m Trial 94 finished with value: 961326.82 and parameters: {'learning_rate': 0.030096295895534263, 'batch_size': 8, 'n_layers': 3, 'n_units_l0': 103, 'n_units_l1': 132, 'n_units_l2': 135}. Best is trial 87 with value: 806034.71.\u001b[0m\n"
     ]
    },
    {
     "name": "stdout",
     "output_type": "stream",
     "text": [
      "2/2 [==============================] - 0s 6ms/step\n",
      "2/2 [==============================] - 0s 9ms/step\n"
     ]
    },
    {
     "name": "stderr",
     "output_type": "stream",
     "text": [
      "\u001b[32m[I 2022-09-27 18:49:18,130]\u001b[0m Trial 101 finished with value: 1086791.26 and parameters: {'learning_rate': 0.0413115303171614, 'batch_size': 8, 'n_layers': 3, 'n_units_l0': 99, 'n_units_l1': 131, 'n_units_l2': 146}. Best is trial 87 with value: 806034.71.\u001b[0m\n",
      "\u001b[32m[I 2022-09-27 18:49:18,279]\u001b[0m Trial 104 finished with value: 3648743.4 and parameters: {'learning_rate': 0.0403479760524695, 'batch_size': 8, 'n_layers': 3, 'n_units_l0': 105, 'n_units_l1': 130, 'n_units_l2': 134}. Best is trial 87 with value: 806034.71.\u001b[0m\n"
     ]
    },
    {
     "name": "stdout",
     "output_type": "stream",
     "text": [
      "2/2 [==============================] - 0s 2ms/step\n"
     ]
    },
    {
     "name": "stderr",
     "output_type": "stream",
     "text": [
      "\u001b[32m[I 2022-09-27 18:49:37,772]\u001b[0m Trial 113 finished with value: 4133227.12 and parameters: {'learning_rate': 0.02912748256933816, 'batch_size': 2048, 'n_layers': 3, 'n_units_l0': 111, 'n_units_l1': 150, 'n_units_l2': 216}. Best is trial 87 with value: 806034.71.\u001b[0m\n"
     ]
    },
    {
     "name": "stdout",
     "output_type": "stream",
     "text": [
      "2/2 [==============================] - 0s 5ms/step\n"
     ]
    },
    {
     "name": "stderr",
     "output_type": "stream",
     "text": [
      "\u001b[32m[I 2022-09-27 18:50:00,714]\u001b[0m Trial 111 finished with value: 864717.24 and parameters: {'learning_rate': 0.029676679688889637, 'batch_size': 8, 'n_layers': 3, 'n_units_l0': 88, 'n_units_l1': 123, 'n_units_l2': 87}. Best is trial 87 with value: 806034.71.\u001b[0m\n"
     ]
    },
    {
     "name": "stdout",
     "output_type": "stream",
     "text": [
      "2/2 [==============================] - 1s 23ms/step\n"
     ]
    },
    {
     "name": "stderr",
     "output_type": "stream",
     "text": [
      "\u001b[32m[I 2022-09-27 18:50:04,122]\u001b[0m Trial 106 finished with value: 930594.91 and parameters: {'learning_rate': 0.03025025019344259, 'batch_size': 8, 'n_layers': 3, 'n_units_l0': 112, 'n_units_l1': 136, 'n_units_l2': 216}. Best is trial 87 with value: 806034.71.\u001b[0m\n"
     ]
    },
    {
     "name": "stdout",
     "output_type": "stream",
     "text": [
      "2/2 [==============================] - 0s 3ms/step\n"
     ]
    },
    {
     "name": "stderr",
     "output_type": "stream",
     "text": [
      "\u001b[32m[I 2022-09-27 18:50:24,697]\u001b[0m Trial 108 finished with value: 3689275.44 and parameters: {'learning_rate': 0.03674201212034615, 'batch_size': 8, 'n_layers': 3, 'n_units_l0': 166, 'n_units_l1': 134, 'n_units_l2': 84}. Best is trial 87 with value: 806034.71.\u001b[0m\n"
     ]
    },
    {
     "name": "stdout",
     "output_type": "stream",
     "text": [
      "2/2 [==============================] - 0s 3ms/step\n"
     ]
    },
    {
     "name": "stderr",
     "output_type": "stream",
     "text": [
      "\u001b[32m[I 2022-09-27 18:50:48,245]\u001b[0m Trial 112 finished with value: 3815995.93 and parameters: {'learning_rate': 0.025947792825912048, 'batch_size': 8, 'n_layers': 3, 'n_units_l0': 88, 'n_units_l1': 112, 'n_units_l2': 81}. Best is trial 87 with value: 806034.71.\u001b[0m\n"
     ]
    },
    {
     "name": "stdout",
     "output_type": "stream",
     "text": [
      "2/2 [==============================] - 1s 14ms/step\n"
     ]
    },
    {
     "name": "stderr",
     "output_type": "stream",
     "text": [
      "\u001b[32m[I 2022-09-27 18:50:50,735]\u001b[0m Trial 105 finished with value: 952586.5 and parameters: {'learning_rate': 0.026256734733248126, 'batch_size': 8, 'n_layers': 3, 'n_units_l0': 105, 'n_units_l1': 115, 'n_units_l2': 86}. Best is trial 87 with value: 806034.71.\u001b[0m\n"
     ]
    },
    {
     "name": "stdout",
     "output_type": "stream",
     "text": [
      "2/2 [==============================] - 0s 3ms/step\n"
     ]
    },
    {
     "name": "stderr",
     "output_type": "stream",
     "text": [
      "\u001b[32m[I 2022-09-27 18:51:07,503]\u001b[0m Trial 102 finished with value: 3820086.75 and parameters: {'learning_rate': 0.0255748563834678, 'batch_size': 8, 'n_layers': 3, 'n_units_l0': 88, 'n_units_l1': 121, 'n_units_l2': 93}. Best is trial 87 with value: 806034.71.\u001b[0m\n"
     ]
    },
    {
     "name": "stdout",
     "output_type": "stream",
     "text": [
      "2/2 [==============================] - 0s 6ms/step\n"
     ]
    },
    {
     "name": "stderr",
     "output_type": "stream",
     "text": [
      "\u001b[32m[I 2022-09-27 18:51:32,685]\u001b[0m Trial 98 finished with value: 3759253.58 and parameters: {'learning_rate': 0.03064507585503088, 'batch_size': 8, 'n_layers': 3, 'n_units_l0': 102, 'n_units_l1': 123, 'n_units_l2': 201}. Best is trial 87 with value: 806034.71.\u001b[0m\n"
     ]
    },
    {
     "name": "stdout",
     "output_type": "stream",
     "text": [
      "2/2 [==============================] - 0s 6ms/step\n"
     ]
    },
    {
     "name": "stderr",
     "output_type": "stream",
     "text": [
      "\u001b[32m[I 2022-09-27 18:51:55,002]\u001b[0m Trial 138 finished with value: 3868683.77 and parameters: {'learning_rate': 0.02164403219144031, 'batch_size': 8, 'n_layers': 3, 'n_units_l0': 92, 'n_units_l1': 101, 'n_units_l2': 55}. Best is trial 87 with value: 806034.71.\u001b[0m\n"
     ]
    },
    {
     "name": "stdout",
     "output_type": "stream",
     "text": [
      "2/2 [==============================] - 1s 8ms/step\n",
      "2/2 [==============================] - 1s 5ms/step\n",
      "1/2 [==============>...............] - ETA: 0s"
     ]
    },
    {
     "name": "stderr",
     "output_type": "stream",
     "text": [
      "\u001b[32m[I 2022-09-27 18:52:00,276]\u001b[0m Trial 128 finished with value: 2372710.95 and parameters: {'learning_rate': 0.020183620542960506, 'batch_size': 8, 'n_layers': 3, 'n_units_l0': 93, 'n_units_l1': 123, 'n_units_l2': 62}. Best is trial 87 with value: 806034.71.\u001b[0m\n"
     ]
    },
    {
     "name": "stdout",
     "output_type": "stream",
     "text": [
      "2/2 [==============================] - 0s 12ms/step\n"
     ]
    },
    {
     "name": "stderr",
     "output_type": "stream",
     "text": [
      "\u001b[32m[I 2022-09-27 18:52:00,501]\u001b[0m Trial 119 finished with value: 3887246.14 and parameters: {'learning_rate': 0.02015494953111456, 'batch_size': 8, 'n_layers': 3, 'n_units_l0': 93, 'n_units_l1': 120, 'n_units_l2': 53}. Best is trial 87 with value: 806034.71.\u001b[0m\n",
      "\u001b[32m[I 2022-09-27 18:52:00,566]\u001b[0m Trial 121 finished with value: 3930029.4 and parameters: {'learning_rate': 0.0782191653024573, 'batch_size': 8, 'n_layers': 3, 'n_units_l0': 120, 'n_units_l1': 97, 'n_units_l2': 93}. Best is trial 87 with value: 806034.71.\u001b[0m\n"
     ]
    },
    {
     "name": "stdout",
     "output_type": "stream",
     "text": [
      "2/2 [==============================] - 0s 5ms/step\n"
     ]
    },
    {
     "name": "stderr",
     "output_type": "stream",
     "text": [
      "\u001b[32m[I 2022-09-27 18:52:07,923]\u001b[0m Trial 131 finished with value: 889578.38 and parameters: {'learning_rate': 0.019107337337886655, 'batch_size': 8, 'n_layers': 3, 'n_units_l0': 93, 'n_units_l1': 95, 'n_units_l2': 60}. Best is trial 87 with value: 806034.71.\u001b[0m\n"
     ]
    },
    {
     "name": "stdout",
     "output_type": "stream",
     "text": [
      "2/2 [==============================] - 0s 32ms/step\n"
     ]
    },
    {
     "name": "stderr",
     "output_type": "stream",
     "text": [
      "\u001b[32m[I 2022-09-27 18:52:08,375]\u001b[0m Trial 117 finished with value: 3901391.84 and parameters: {'learning_rate': 0.019010323149083852, 'batch_size': 8, 'n_layers': 3, 'n_units_l0': 94, 'n_units_l1': 93, 'n_units_l2': 92}. Best is trial 87 with value: 806034.71.\u001b[0m\n"
     ]
    },
    {
     "name": "stdout",
     "output_type": "stream",
     "text": [
      "2/2 [==============================] - 0s 3ms/step\n"
     ]
    },
    {
     "name": "stderr",
     "output_type": "stream",
     "text": [
      "\u001b[32m[I 2022-09-27 18:52:16,881]\u001b[0m Trial 139 finished with value: 3907052.05 and parameters: {'learning_rate': 0.01861399697898802, 'batch_size': 8, 'n_layers': 3, 'n_units_l0': 123, 'n_units_l1': 98, 'n_units_l2': 69}. Best is trial 87 with value: 806034.71.\u001b[0m\n"
     ]
    },
    {
     "name": "stdout",
     "output_type": "stream",
     "text": [
      "2/2 [==============================] - 0s 3ms/step\n"
     ]
    },
    {
     "name": "stderr",
     "output_type": "stream",
     "text": [
      "\u001b[32m[I 2022-09-27 18:52:21,832]\u001b[0m Trial 127 finished with value: 3894385.61 and parameters: {'learning_rate': 0.019638406855952494, 'batch_size': 8, 'n_layers': 3, 'n_units_l0': 122, 'n_units_l1': 91, 'n_units_l2': 61}. Best is trial 87 with value: 806034.71.\u001b[0m\n"
     ]
    },
    {
     "name": "stdout",
     "output_type": "stream",
     "text": [
      "2/2 [==============================] - 0s 3ms/step\n"
     ]
    },
    {
     "name": "stderr",
     "output_type": "stream",
     "text": [
      "\u001b[32m[I 2022-09-27 18:52:50,018]\u001b[0m Trial 124 finished with value: 1139639.82 and parameters: {'learning_rate': 0.01814242093439835, 'batch_size': 8, 'n_layers': 4, 'n_units_l0': 113, 'n_units_l1': 136, 'n_units_l2': 226, 'n_units_l3': 207}. Best is trial 87 with value: 806034.71.\u001b[0m\n"
     ]
    },
    {
     "name": "stdout",
     "output_type": "stream",
     "text": [
      "2/2 [==============================] - 0s 6ms/step\n"
     ]
    },
    {
     "name": "stderr",
     "output_type": "stream",
     "text": [
      "\u001b[32m[I 2022-09-27 18:52:56,269]\u001b[0m Trial 136 finished with value: 4099297.97 and parameters: {'learning_rate': 0.014079739929020164, 'batch_size': 32, 'n_layers': 4, 'n_units_l0': 75, 'n_units_l1': 80, 'n_units_l2': 225, 'n_units_l3': 208}. Best is trial 87 with value: 806034.71.\u001b[0m\n"
     ]
    },
    {
     "name": "stdout",
     "output_type": "stream",
     "text": [
      "2/2 [==============================] - 0s 2ms/step\n",
      "2/2 [==============================] - 0s 6ms/step\n"
     ]
    },
    {
     "name": "stderr",
     "output_type": "stream",
     "text": [
      "\u001b[32m[I 2022-09-27 18:53:09,366]\u001b[0m Trial 137 finished with value: 1220127.79 and parameters: {'learning_rate': 0.026663974684536833, 'batch_size': 8, 'n_layers': 4, 'n_units_l0': 74, 'n_units_l1': 136, 'n_units_l2': 219, 'n_units_l3': 205}. Best is trial 87 with value: 806034.71.\u001b[0m\n",
      "\u001b[32m[I 2022-09-27 18:53:09,398]\u001b[0m Trial 135 finished with value: 940480.62 and parameters: {'learning_rate': 0.02799410309509955, 'batch_size': 8, 'n_layers': 4, 'n_units_l0': 83, 'n_units_l1': 74, 'n_units_l2': 223, 'n_units_l3': 206}. Best is trial 87 with value: 806034.71.\u001b[0m\n"
     ]
    },
    {
     "name": "stdout",
     "output_type": "stream",
     "text": [
      "2/2 [==============================] - 0s 4ms/step\n"
     ]
    },
    {
     "name": "stderr",
     "output_type": "stream",
     "text": [
      "\u001b[32m[I 2022-09-27 18:53:15,725]\u001b[0m Trial 132 finished with value: 4133982.1 and parameters: {'learning_rate': 0.028266079469048324, 'batch_size': 512, 'n_layers': 3, 'n_units_l0': 69, 'n_units_l1': 109, 'n_units_l2': 40}. Best is trial 87 with value: 806034.71.\u001b[0m\n"
     ]
    },
    {
     "name": "stdout",
     "output_type": "stream",
     "text": [
      "2/2 [==============================] - 0s 3ms/step\n"
     ]
    },
    {
     "name": "stderr",
     "output_type": "stream",
     "text": [
      "\u001b[32m[I 2022-09-27 18:53:27,726]\u001b[0m Trial 118 finished with value: 3490335.52 and parameters: {'learning_rate': 0.05534940765917487, 'batch_size': 8, 'n_layers': 4, 'n_units_l0': 111, 'n_units_l1': 139, 'n_units_l2': 225, 'n_units_l3': 212}. Best is trial 87 with value: 806034.71.\u001b[0m\n"
     ]
    },
    {
     "name": "stdout",
     "output_type": "stream",
     "text": [
      "2/2 [==============================] - 0s 3ms/step\n"
     ]
    },
    {
     "name": "stderr",
     "output_type": "stream",
     "text": [
      "\u001b[32m[I 2022-09-27 18:53:29,396]\u001b[0m Trial 116 finished with value: 1019921.88 and parameters: {'learning_rate': 0.035388682939347736, 'batch_size': 512, 'n_layers': 5, 'n_units_l0': 82, 'n_units_l1': 50, 'n_units_l2': 35, 'n_units_l3': 166, 'n_units_l4': 154}. Best is trial 87 with value: 806034.71.\u001b[0m\n"
     ]
    },
    {
     "name": "stdout",
     "output_type": "stream",
     "text": [
      "2/2 [==============================] - 0s 2ms/step\n"
     ]
    },
    {
     "name": "stderr",
     "output_type": "stream",
     "text": [
      "\u001b[32m[I 2022-09-27 18:53:31,001]\u001b[0m Trial 126 finished with value: 4123999.67 and parameters: {'learning_rate': 0.0528677966356939, 'batch_size': 512, 'n_layers': 5, 'n_units_l0': 67, 'n_units_l1': 60, 'n_units_l2': 213, 'n_units_l3': 169, 'n_units_l4': 148}. Best is trial 87 with value: 806034.71.\u001b[0m\n"
     ]
    },
    {
     "name": "stdout",
     "output_type": "stream",
     "text": [
      "2/2 [==============================] - 1s 17ms/step\n"
     ]
    },
    {
     "name": "stderr",
     "output_type": "stream",
     "text": [
      "\u001b[32m[I 2022-09-27 18:53:38,671]\u001b[0m Trial 122 finished with value: 4097575.49 and parameters: {'learning_rate': 0.035730649320791875, 'batch_size': 128, 'n_layers': 5, 'n_units_l0': 83, 'n_units_l1': 146, 'n_units_l2': 189, 'n_units_l3': 168, 'n_units_l4': 150}. Best is trial 87 with value: 806034.71.\u001b[0m\n"
     ]
    },
    {
     "name": "stdout",
     "output_type": "stream",
     "text": [
      "2/2 [==============================] - 0s 2ms/step\n"
     ]
    },
    {
     "name": "stderr",
     "output_type": "stream",
     "text": [
      "\u001b[32m[I 2022-09-27 18:54:16,824]\u001b[0m Trial 125 finished with value: 3849629.48 and parameters: {'learning_rate': 0.023194517823355548, 'batch_size': 8, 'n_layers': 3, 'n_units_l0': 106, 'n_units_l1': 58, 'n_units_l2': 212}. Best is trial 87 with value: 806034.71.\u001b[0m\n"
     ]
    },
    {
     "name": "stdout",
     "output_type": "stream",
     "text": [
      "2/2 [==============================] - 0s 5ms/step\n"
     ]
    },
    {
     "name": "stderr",
     "output_type": "stream",
     "text": [
      "\u001b[32m[I 2022-09-27 18:54:18,110]\u001b[0m Trial 120 finished with value: 1104293.25 and parameters: {'learning_rate': 0.023955235208656615, 'batch_size': 8, 'n_layers': 3, 'n_units_l0': 103, 'n_units_l1': 85, 'n_units_l2': 190}. Best is trial 87 with value: 806034.71.\u001b[0m\n"
     ]
    },
    {
     "name": "stdout",
     "output_type": "stream",
     "text": [
      "2/2 [==============================] - 0s 3ms/step\n"
     ]
    },
    {
     "name": "stderr",
     "output_type": "stream",
     "text": [
      "\u001b[32m[I 2022-09-27 18:54:23,378]\u001b[0m Trial 133 finished with value: 961927.89 and parameters: {'learning_rate': 0.024177725004304994, 'batch_size': 8, 'n_layers': 3, 'n_units_l0': 104, 'n_units_l1': 84, 'n_units_l2': 207}. Best is trial 87 with value: 806034.71.\u001b[0m\n"
     ]
    },
    {
     "name": "stdout",
     "output_type": "stream",
     "text": [
      "2/2 [==============================] - 0s 3ms/step\n"
     ]
    },
    {
     "name": "stderr",
     "output_type": "stream",
     "text": [
      "\u001b[32m[I 2022-09-27 18:54:50,423]\u001b[0m Trial 129 finished with value: 3942148.19 and parameters: {'learning_rate': 0.03047547019466162, 'batch_size': 16, 'n_layers': 3, 'n_units_l0': 99, 'n_units_l1': 4, 'n_units_l2': 203}. Best is trial 87 with value: 806034.71.\u001b[0m\n"
     ]
    },
    {
     "name": "stdout",
     "output_type": "stream",
     "text": [
      "2/2 [==============================] - 0s 4ms/step\n"
     ]
    },
    {
     "name": "stderr",
     "output_type": "stream",
     "text": [
      "\u001b[32m[I 2022-09-27 18:55:02,675]\u001b[0m Trial 130 finished with value: 3762719.61 and parameters: {'learning_rate': 0.030361246442903958, 'batch_size': 8, 'n_layers': 3, 'n_units_l0': 117, 'n_units_l1': 126, 'n_units_l2': 207}. Best is trial 87 with value: 806034.71.\u001b[0m\n"
     ]
    },
    {
     "name": "stdout",
     "output_type": "stream",
     "text": [
      "2/2 [==============================] - 0s 4ms/step\n"
     ]
    },
    {
     "name": "stderr",
     "output_type": "stream",
     "text": [
      "\u001b[32m[I 2022-09-27 18:55:03,442]\u001b[0m Trial 134 finished with value: 1417604.53 and parameters: {'learning_rate': 0.03146932972797409, 'batch_size': 8, 'n_layers': 3, 'n_units_l0': 100, 'n_units_l1': 71, 'n_units_l2': 204}. Best is trial 87 with value: 806034.71.\u001b[0m\n"
     ]
    },
    {
     "name": "stdout",
     "output_type": "stream",
     "text": [
      "2/2 [==============================] - 0s 3ms/step\n"
     ]
    },
    {
     "name": "stderr",
     "output_type": "stream",
     "text": [
      "\u001b[32m[I 2022-09-27 18:55:20,225]\u001b[0m Trial 123 finished with value: 988926.28 and parameters: {'learning_rate': 0.016327024753518625, 'batch_size': 16, 'n_layers': 3, 'n_units_l0': 116, 'n_units_l1': 103, 'n_units_l2': 231}. Best is trial 87 with value: 806034.71.\u001b[0m\n"
     ]
    },
    {
     "name": "stdout",
     "output_type": "stream",
     "text": [
      "2/2 [==============================] - 0s 3ms/step\n"
     ]
    },
    {
     "name": "stderr",
     "output_type": "stream",
     "text": [
      "\u001b[32m[I 2022-09-27 18:55:29,883]\u001b[0m Trial 143 finished with value: 4038488.89 and parameters: {'learning_rate': 0.01648514966102284, 'batch_size': 16, 'n_layers': 3, 'n_units_l0': 86, 'n_units_l1': 189, 'n_units_l2': 237}. Best is trial 87 with value: 806034.71.\u001b[0m\n"
     ]
    },
    {
     "name": "stdout",
     "output_type": "stream",
     "text": [
      "2/2 [==============================] - 0s 4ms/step\n"
     ]
    },
    {
     "name": "stderr",
     "output_type": "stream",
     "text": [
      "\u001b[32m[I 2022-09-27 18:55:39,590]\u001b[0m Trial 151 finished with value: 3701703.79 and parameters: {'learning_rate': 0.06871492611957875, 'batch_size': 16, 'n_layers': 3, 'n_units_l0': 87, 'n_units_l1': 18, 'n_units_l2': 105}. Best is trial 87 with value: 806034.71.\u001b[0m\n"
     ]
    },
    {
     "name": "stdout",
     "output_type": "stream",
     "text": [
      "2/2 [==============================] - 0s 5ms/step\n"
     ]
    },
    {
     "name": "stderr",
     "output_type": "stream",
     "text": [
      "\u001b[32m[I 2022-09-27 18:55:41,654]\u001b[0m Trial 162 finished with value: 1252739.18 and parameters: {'learning_rate': 0.01684309881860727, 'batch_size': 16, 'n_layers': 3, 'n_units_l0': 50, 'n_units_l1': 148, 'n_units_l2': 235}. Best is trial 87 with value: 806034.71.\u001b[0m\n"
     ]
    },
    {
     "name": "stdout",
     "output_type": "stream",
     "text": [
      "2/2 [==============================] - 0s 4ms/step\n"
     ]
    },
    {
     "name": "stderr",
     "output_type": "stream",
     "text": [
      "\u001b[32m[I 2022-09-27 18:55:52,771]\u001b[0m Trial 150 finished with value: 1016823.72 and parameters: {'learning_rate': 0.06924162153016124, 'batch_size': 16, 'n_layers': 3, 'n_units_l0': 88, 'n_units_l1': 104, 'n_units_l2': 236}. Best is trial 87 with value: 806034.71.\u001b[0m\n"
     ]
    },
    {
     "name": "stdout",
     "output_type": "stream",
     "text": [
      "2/2 [==============================] - 0s 2ms/step\n",
      "2/2 [==============================] - 1s 4ms/step\n",
      "2/2 [==============================] - 1s 13ms/step\n"
     ]
    },
    {
     "name": "stderr",
     "output_type": "stream",
     "text": [
      "\u001b[32m[I 2022-09-27 18:55:54,288]\u001b[0m Trial 163 finished with value: 3959415.63 and parameters: {'learning_rate': 0.027877661940186434, 'batch_size': 16, 'n_layers': 3, 'n_units_l0': 133, 'n_units_l1': 161, 'n_units_l2': 242}. Best is trial 87 with value: 806034.71.\u001b[0m\n",
      "\u001b[32m[I 2022-09-27 18:55:54,485]\u001b[0m Trial 145 finished with value: 4038036.19 and parameters: {'learning_rate': 0.016543516224746615, 'batch_size': 16, 'n_layers': 3, 'n_units_l0': 134, 'n_units_l1': 14, 'n_units_l2': 107}. Best is trial 87 with value: 806034.71.\u001b[0m\n",
      "\u001b[32m[I 2022-09-27 18:55:54,666]\u001b[0m Trial 159 finished with value: 919164.14 and parameters: {'learning_rate': 0.027360550399757416, 'batch_size': 16, 'n_layers': 3, 'n_units_l0': 52, 'n_units_l1': 114, 'n_units_l2': 231}. Best is trial 87 with value: 806034.71.\u001b[0m\n"
     ]
    },
    {
     "name": "stdout",
     "output_type": "stream",
     "text": [
      "2/2 [==============================] - 0s 5ms/step\n",
      "2/2 [==============================] - 0s 20ms/step\n"
     ]
    },
    {
     "name": "stderr",
     "output_type": "stream",
     "text": [
      "\u001b[32m[I 2022-09-27 18:56:17,702]\u001b[0m Trial 167 finished with value: 4139735.19 and parameters: {'learning_rate': 0.021801377254056002, 'batch_size': 2048, 'n_layers': 3, 'n_units_l0': 57, 'n_units_l1': 114, 'n_units_l2': 186}. Best is trial 87 with value: 806034.71.\u001b[0m\n",
      "\u001b[32m[I 2022-09-27 18:56:17,837]\u001b[0m Trial 168 finished with value: 4136304.52 and parameters: {'learning_rate': 0.02564259187149251, 'batch_size': 2048, 'n_layers': 3, 'n_units_l0': 36, 'n_units_l1': 126, 'n_units_l2': 199}. Best is trial 87 with value: 806034.71.\u001b[0m\n"
     ]
    },
    {
     "name": "stdout",
     "output_type": "stream",
     "text": [
      "2/2 [==============================] - 0s 7ms/step\n"
     ]
    },
    {
     "name": "stderr",
     "output_type": "stream",
     "text": [
      "\u001b[32m[I 2022-09-27 18:56:31,100]\u001b[0m Trial 156 finished with value: 4128189.8 and parameters: {'learning_rate': 0.03489449614427439, 'batch_size': 2048, 'n_layers': 3, 'n_units_l0': 37, 'n_units_l1': 112, 'n_units_l2': 185}. Best is trial 87 with value: 806034.71.\u001b[0m\n"
     ]
    },
    {
     "name": "stdout",
     "output_type": "stream",
     "text": [
      "2/2 [==============================] - 1s 20ms/step\n"
     ]
    },
    {
     "name": "stderr",
     "output_type": "stream",
     "text": [
      "\u001b[32m[I 2022-09-27 18:56:46,789]\u001b[0m Trial 160 finished with value: 4139383.5 and parameters: {'learning_rate': 0.022191836736864874, 'batch_size': 2048, 'n_layers': 3, 'n_units_l0': 40, 'n_units_l1': 115, 'n_units_l2': 221}. Best is trial 87 with value: 806034.71.\u001b[0m\n"
     ]
    },
    {
     "name": "stdout",
     "output_type": "stream",
     "text": [
      "2/2 [==============================] - 0s 6ms/step\n"
     ]
    },
    {
     "name": "stderr",
     "output_type": "stream",
     "text": [
      "\u001b[32m[I 2022-09-27 18:56:48,235]\u001b[0m Trial 169 finished with value: 938353.07 and parameters: {'learning_rate': 0.04925173704754006, 'batch_size': 64, 'n_layers': 3, 'n_units_l0': 80, 'n_units_l1': 72, 'n_units_l2': 218}. Best is trial 87 with value: 806034.71.\u001b[0m\n"
     ]
    },
    {
     "name": "stdout",
     "output_type": "stream",
     "text": [
      "2/2 [==============================] - 0s 5ms/step\n"
     ]
    },
    {
     "name": "stderr",
     "output_type": "stream",
     "text": [
      "\u001b[32m[I 2022-09-27 18:56:49,142]\u001b[0m Trial 164 finished with value: 3800440.59 and parameters: {'learning_rate': 0.027197153726345097, 'batch_size': 8, 'n_layers': 3, 'n_units_l0': 108, 'n_units_l1': 129, 'n_units_l2': 149}. Best is trial 87 with value: 806034.71.\u001b[0m\n"
     ]
    },
    {
     "name": "stdout",
     "output_type": "stream",
     "text": [
      "2/2 [==============================] - 0s 13ms/step\n"
     ]
    },
    {
     "name": "stderr",
     "output_type": "stream",
     "text": [
      "\u001b[32m[I 2022-09-27 18:56:53,168]\u001b[0m Trial 165 finished with value: 893472.44 and parameters: {'learning_rate': 0.03404866762096808, 'batch_size': 8, 'n_layers': 3, 'n_units_l0': 97, 'n_units_l1': 116, 'n_units_l2': 185}. Best is trial 87 with value: 806034.71.\u001b[0m\n"
     ]
    },
    {
     "name": "stdout",
     "output_type": "stream",
     "text": [
      "2/2 [==============================] - 0s 6ms/step\n"
     ]
    },
    {
     "name": "stderr",
     "output_type": "stream",
     "text": [
      "\u001b[32m[I 2022-09-27 18:56:55,180]\u001b[0m Trial 170 finished with value: 1923329.61 and parameters: {'learning_rate': 0.049859383810963255, 'batch_size': 64, 'n_layers': 3, 'n_units_l0': 64, 'n_units_l1': 73, 'n_units_l2': 215}. Best is trial 87 with value: 806034.71.\u001b[0m\n"
     ]
    },
    {
     "name": "stdout",
     "output_type": "stream",
     "text": [
      "2/2 [==============================] - 0s 3ms/step\n"
     ]
    },
    {
     "name": "stderr",
     "output_type": "stream",
     "text": [
      "\u001b[32m[I 2022-09-27 18:57:11,367]\u001b[0m Trial 166 finished with value: 965124.48 and parameters: {'learning_rate': 0.02913099037518212, 'batch_size': 8, 'n_layers': 3, 'n_units_l0': 135, 'n_units_l1': 128, 'n_units_l2': 168}. Best is trial 87 with value: 806034.71.\u001b[0m\n"
     ]
    },
    {
     "name": "stdout",
     "output_type": "stream",
     "text": [
      "2/2 [==============================] - 1s 15ms/step\n"
     ]
    },
    {
     "name": "stderr",
     "output_type": "stream",
     "text": [
      "\u001b[32m[I 2022-09-27 18:57:14,663]\u001b[0m Trial 171 finished with value: 860681.93 and parameters: {'learning_rate': 0.04918618226751897, 'batch_size': 64, 'n_layers': 3, 'n_units_l0': 109, 'n_units_l1': 75, 'n_units_l2': 221}. Best is trial 87 with value: 806034.71.\u001b[0m\n"
     ]
    },
    {
     "name": "stdout",
     "output_type": "stream",
     "text": [
      "2/2 [==============================] - 1s 5ms/step\n"
     ]
    },
    {
     "name": "stderr",
     "output_type": "stream",
     "text": [
      "\u001b[32m[I 2022-09-27 18:57:17,293]\u001b[0m Trial 147 finished with value: 1003763.67 and parameters: {'learning_rate': 0.027148323089984095, 'batch_size': 64, 'n_layers': 3, 'n_units_l0': 77, 'n_units_l1': 173, 'n_units_l2': 217}. Best is trial 87 with value: 806034.71.\u001b[0m\n"
     ]
    },
    {
     "name": "stdout",
     "output_type": "stream",
     "text": [
      "2/2 [==============================] - 0s 3ms/step\n"
     ]
    },
    {
     "name": "stderr",
     "output_type": "stream",
     "text": [
      "\u001b[32m[I 2022-09-27 18:57:22,067]\u001b[0m Trial 174 finished with value: 936231.85 and parameters: {'learning_rate': 0.045191906601793834, 'batch_size': 64, 'n_layers': 3, 'n_units_l0': 77, 'n_units_l1': 67, 'n_units_l2': 215}. Best is trial 87 with value: 806034.71.\u001b[0m\n"
     ]
    },
    {
     "name": "stdout",
     "output_type": "stream",
     "text": [
      "2/2 [==============================] - 0s 4ms/step\n"
     ]
    },
    {
     "name": "stderr",
     "output_type": "stream",
     "text": [
      "\u001b[32m[I 2022-09-27 18:57:25,933]\u001b[0m Trial 175 finished with value: 1134298.62 and parameters: {'learning_rate': 0.04953358625426602, 'batch_size': 64, 'n_layers': 3, 'n_units_l0': 75, 'n_units_l1': 180, 'n_units_l2': 214}. Best is trial 87 with value: 806034.71.\u001b[0m\n"
     ]
    },
    {
     "name": "stdout",
     "output_type": "stream",
     "text": [
      "2/2 [==============================] - 1s 16ms/step\n"
     ]
    },
    {
     "name": "stderr",
     "output_type": "stream",
     "text": [
      "\u001b[32m[I 2022-09-27 18:57:31,584]\u001b[0m Trial 161 finished with value: 3796378.36 and parameters: {'learning_rate': 0.027500641443706567, 'batch_size': 8, 'n_layers': 3, 'n_units_l0': 107, 'n_units_l1': 116, 'n_units_l2': 186}. Best is trial 87 with value: 806034.71.\u001b[0m\n"
     ]
    },
    {
     "name": "stdout",
     "output_type": "stream",
     "text": [
      "2/2 [==============================] - 1s 5ms/step\n"
     ]
    },
    {
     "name": "stderr",
     "output_type": "stream",
     "text": [
      "\u001b[32m[I 2022-09-27 18:57:36,409]\u001b[0m Trial 173 finished with value: 4057499.81 and parameters: {'learning_rate': 0.04039990720732484, 'batch_size': 64, 'n_layers': 3, 'n_units_l0': 76, 'n_units_l1': 78, 'n_units_l2': 79}. Best is trial 87 with value: 806034.71.\u001b[0m\n"
     ]
    },
    {
     "name": "stdout",
     "output_type": "stream",
     "text": [
      "2/2 [==============================] - 0s 8ms/step\n"
     ]
    },
    {
     "name": "stderr",
     "output_type": "stream",
     "text": [
      "\u001b[32m[I 2022-09-27 18:57:46,771]\u001b[0m Trial 176 finished with value: 4042687.18 and parameters: {'learning_rate': 0.04677092377844153, 'batch_size': 64, 'n_layers': 3, 'n_units_l0': 80, 'n_units_l1': 179, 'n_units_l2': 168}. Best is trial 87 with value: 806034.71.\u001b[0m\n"
     ]
    },
    {
     "name": "stdout",
     "output_type": "stream",
     "text": [
      "2/2 [==============================] - 1s 11ms/step\n"
     ]
    },
    {
     "name": "stderr",
     "output_type": "stream",
     "text": [
      "\u001b[32m[I 2022-09-27 18:57:47,485]\u001b[0m Trial 177 finished with value: 1049035.7 and parameters: {'learning_rate': 0.04622500054219157, 'batch_size': 64, 'n_layers': 3, 'n_units_l0': 79, 'n_units_l1': 64, 'n_units_l2': 168}. Best is trial 87 with value: 806034.71.\u001b[0m\n"
     ]
    },
    {
     "name": "stdout",
     "output_type": "stream",
     "text": [
      "2/2 [==============================] - 0s 3ms/step\n"
     ]
    },
    {
     "name": "stderr",
     "output_type": "stream",
     "text": [
      "\u001b[32m[I 2022-09-27 18:58:04,032]\u001b[0m Trial 179 finished with value: 4048031.93 and parameters: {'learning_rate': 0.04402982218072197, 'batch_size': 64, 'n_layers': 3, 'n_units_l0': 79, 'n_units_l1': 68, 'n_units_l2': 195}. Best is trial 87 with value: 806034.71.\u001b[0m\n"
     ]
    },
    {
     "name": "stdout",
     "output_type": "stream",
     "text": [
      "2/2 [==============================] - 0s 4ms/step\n"
     ]
    },
    {
     "name": "stderr",
     "output_type": "stream",
     "text": [
      "\u001b[32m[I 2022-09-27 18:58:20,655]\u001b[0m Trial 181 finished with value: 1161768.0 and parameters: {'learning_rate': 0.045644407768410625, 'batch_size': 64, 'n_layers': 3, 'n_units_l0': 80, 'n_units_l1': 67, 'n_units_l2': 228}. Best is trial 87 with value: 806034.71.\u001b[0m\n"
     ]
    },
    {
     "name": "stdout",
     "output_type": "stream",
     "text": [
      "2/2 [==============================] - 1s 5ms/step\n"
     ]
    },
    {
     "name": "stderr",
     "output_type": "stream",
     "text": [
      "\u001b[32m[I 2022-09-27 18:58:22,160]\u001b[0m Trial 157 finished with value: 835822.44 and parameters: {'learning_rate': 0.05722168180541444, 'batch_size': 64, 'n_layers': 3, 'n_units_l0': 95, 'n_units_l1': 68, 'n_units_l2': 229}. Best is trial 87 with value: 806034.71.\u001b[0m\n"
     ]
    },
    {
     "name": "stdout",
     "output_type": "stream",
     "text": [
      "2/2 [==============================] - 0s 5ms/step\n"
     ]
    },
    {
     "name": "stderr",
     "output_type": "stream",
     "text": [
      "\u001b[32m[I 2022-09-27 18:58:24,064]\u001b[0m Trial 178 finished with value: 1152915.87 and parameters: {'learning_rate': 0.044463699757795225, 'batch_size': 16, 'n_layers': 3, 'n_units_l0': 82, 'n_units_l1': 69, 'n_units_l2': 245}. Best is trial 87 with value: 806034.71.\u001b[0m\n"
     ]
    },
    {
     "name": "stdout",
     "output_type": "stream",
     "text": [
      "2/2 [==============================] - 1s 7ms/step\n"
     ]
    },
    {
     "name": "stderr",
     "output_type": "stream",
     "text": [
      "\u001b[32m[I 2022-09-27 18:58:24,790]\u001b[0m Trial 183 finished with value: 4047877.52 and parameters: {'learning_rate': 0.04453170712107063, 'batch_size': 64, 'n_layers': 3, 'n_units_l0': 95, 'n_units_l1': 72, 'n_units_l2': 227}. Best is trial 87 with value: 806034.71.\u001b[0m\n"
     ]
    },
    {
     "name": "stdout",
     "output_type": "stream",
     "text": [
      "2/2 [==============================] - 1s 4ms/step\n",
      "2/2 [==============================] - 1s 15ms/step\n"
     ]
    },
    {
     "name": "stderr",
     "output_type": "stream",
     "text": [
      "\u001b[32m[I 2022-09-27 18:58:28,042]\u001b[0m Trial 172 finished with value: 972575.7 and parameters: {'learning_rate': 0.028750893414452982, 'batch_size': 8, 'n_layers': 3, 'n_units_l0': 74, 'n_units_l1': 70, 'n_units_l2': 216}. Best is trial 87 with value: 806034.71.\u001b[0m\n",
      "\u001b[32m[I 2022-09-27 18:58:28,223]\u001b[0m Trial 182 finished with value: 1071867.04 and parameters: {'learning_rate': 0.041487448433479304, 'batch_size': 64, 'n_layers': 3, 'n_units_l0': 80, 'n_units_l1': 67, 'n_units_l2': 230}. Best is trial 87 with value: 806034.71.\u001b[0m\n"
     ]
    },
    {
     "name": "stdout",
     "output_type": "stream",
     "text": [
      "2/2 [==============================] - 0s 5ms/step\n"
     ]
    },
    {
     "name": "stderr",
     "output_type": "stream",
     "text": [
      "\u001b[32m[I 2022-09-27 18:58:31,600]\u001b[0m Trial 154 finished with value: 1102631.43 and parameters: {'learning_rate': 0.02759724698133869, 'batch_size': 8, 'n_layers': 3, 'n_units_l0': 76, 'n_units_l1': 68, 'n_units_l2': 166}. Best is trial 87 with value: 806034.71.\u001b[0m\n"
     ]
    },
    {
     "name": "stdout",
     "output_type": "stream",
     "text": [
      "2/2 [==============================] - 0s 5ms/step\n"
     ]
    },
    {
     "name": "stderr",
     "output_type": "stream",
     "text": [
      "\u001b[32m[I 2022-09-27 18:58:32,145]\u001b[0m Trial 184 finished with value: 1377044.32 and parameters: {'learning_rate': 0.058397491049892204, 'batch_size': 64, 'n_layers': 3, 'n_units_l0': 93, 'n_units_l1': 50, 'n_units_l2': 229}. Best is trial 87 with value: 806034.71.\u001b[0m\n"
     ]
    },
    {
     "name": "stdout",
     "output_type": "stream",
     "text": [
      "2/2 [==============================] - 0s 5ms/step\n"
     ]
    },
    {
     "name": "stderr",
     "output_type": "stream",
     "text": [
      "\u001b[32m[I 2022-09-27 18:58:47,112]\u001b[0m Trial 142 finished with value: 1057179.7 and parameters: {'learning_rate': 0.042041391246900116, 'batch_size': 64, 'n_layers': 2, 'n_units_l0': 82, 'n_units_l1': 64}. Best is trial 87 with value: 806034.71.\u001b[0m\n"
     ]
    },
    {
     "name": "stdout",
     "output_type": "stream",
     "text": [
      "2/2 [==============================] - 0s 4ms/step\n"
     ]
    },
    {
     "name": "stderr",
     "output_type": "stream",
     "text": [
      "\u001b[32m[I 2022-09-27 18:58:52,297]\u001b[0m Trial 185 finished with value: 4012577.86 and parameters: {'learning_rate': 0.05906514067517294, 'batch_size': 64, 'n_layers': 3, 'n_units_l0': 98, 'n_units_l1': 49, 'n_units_l2': 201}. Best is trial 87 with value: 806034.71.\u001b[0m\n"
     ]
    },
    {
     "name": "stdout",
     "output_type": "stream",
     "text": [
      "2/2 [==============================] - 1s 3ms/step\n"
     ]
    },
    {
     "name": "stderr",
     "output_type": "stream",
     "text": [
      "\u001b[32m[I 2022-09-27 18:58:54,651]\u001b[0m Trial 180 finished with value: 1029069.88 and parameters: {'learning_rate': 0.04475221019663995, 'batch_size': 64, 'n_layers': 3, 'n_units_l0': 96, 'n_units_l1': 67, 'n_units_l2': 230}. Best is trial 87 with value: 806034.71.\u001b[0m\n"
     ]
    },
    {
     "name": "stdout",
     "output_type": "stream",
     "text": [
      "2/2 [==============================] - 0s 4ms/step\n",
      "2/2 [==============================] - 0s 9ms/step\n"
     ]
    },
    {
     "name": "stderr",
     "output_type": "stream",
     "text": [
      "\u001b[32m[I 2022-09-27 18:58:59,934]\u001b[0m Trial 186 finished with value: 3760345.86 and parameters: {'learning_rate': 0.05888882929174522, 'batch_size': 16, 'n_layers': 2, 'n_units_l0': 95, 'n_units_l1': 80}. Best is trial 87 with value: 806034.71.\u001b[0m\n",
      "\u001b[32m[I 2022-09-27 18:59:00,111]\u001b[0m Trial 153 finished with value: 821736.17 and parameters: {'learning_rate': 0.058059257467772324, 'batch_size': 64, 'n_layers': 3, 'n_units_l0': 95, 'n_units_l1': 49, 'n_units_l2': 210}. Best is trial 87 with value: 806034.71.\u001b[0m\n"
     ]
    },
    {
     "name": "stdout",
     "output_type": "stream",
     "text": [
      "2/2 [==============================] - 0s 10ms/step\n"
     ]
    },
    {
     "name": "stderr",
     "output_type": "stream",
     "text": [
      "\u001b[32m[I 2022-09-27 18:59:06,509]\u001b[0m Trial 190 finished with value: 861131.23 and parameters: {'learning_rate': 0.06007414919783816, 'batch_size': 64, 'n_layers': 3, 'n_units_l0': 92, 'n_units_l1': 79, 'n_units_l2': 210}. Best is trial 87 with value: 806034.71.\u001b[0m\n"
     ]
    },
    {
     "name": "stdout",
     "output_type": "stream",
     "text": [
      "2/2 [==============================] - 0s 3ms/step\n"
     ]
    },
    {
     "name": "stderr",
     "output_type": "stream",
     "text": [
      "\u001b[32m[I 2022-09-27 18:59:07,420]\u001b[0m Trial 149 finished with value: 1222465.13 and parameters: {'learning_rate': 0.06130091257280117, 'batch_size': 64, 'n_layers': 2, 'n_units_l0': 97, 'n_units_l1': 78}. Best is trial 87 with value: 806034.71.\u001b[0m\n"
     ]
    },
    {
     "name": "stdout",
     "output_type": "stream",
     "text": [
      "2/2 [==============================] - 0s 13ms/step\n"
     ]
    },
    {
     "name": "stderr",
     "output_type": "stream",
     "text": [
      "\u001b[32m[I 2022-09-27 18:59:08,386]\u001b[0m Trial 187 finished with value: 4012845.89 and parameters: {'learning_rate': 0.059520240067222646, 'batch_size': 64, 'n_layers': 3, 'n_units_l0': 96, 'n_units_l1': 63, 'n_units_l2': 28}. Best is trial 87 with value: 806034.71.\u001b[0m\n"
     ]
    },
    {
     "name": "stdout",
     "output_type": "stream",
     "text": [
      "2/2 [==============================] - 0s 9ms/step\n"
     ]
    },
    {
     "name": "stderr",
     "output_type": "stream",
     "text": [
      "\u001b[32m[I 2022-09-27 18:59:09,872]\u001b[0m Trial 189 finished with value: 967757.44 and parameters: {'learning_rate': 0.05401817734106634, 'batch_size': 64, 'n_layers': 3, 'n_units_l0': 99, 'n_units_l1': 190, 'n_units_l2': 210}. Best is trial 87 with value: 806034.71.\u001b[0m\n"
     ]
    },
    {
     "name": "stdout",
     "output_type": "stream",
     "text": [
      "2/2 [==============================] - 0s 6ms/step\n"
     ]
    },
    {
     "name": "stderr",
     "output_type": "stream",
     "text": [
      "\u001b[32m[I 2022-09-27 18:59:30,901]\u001b[0m Trial 146 finished with value: 3947118.86 and parameters: {'learning_rate': 0.05274875215154021, 'batch_size': 32, 'n_layers': 3, 'n_units_l0': 99, 'n_units_l1': 87, 'n_units_l2': 208}. Best is trial 87 with value: 806034.71.\u001b[0m\n"
     ]
    },
    {
     "name": "stdout",
     "output_type": "stream",
     "text": [
      "2/2 [==============================] - 0s 3ms/step\n"
     ]
    },
    {
     "name": "stderr",
     "output_type": "stream",
     "text": [
      "\u001b[32m[I 2022-09-27 18:59:32,256]\u001b[0m Trial 191 finished with value: 3993650.59 and parameters: {'learning_rate': 0.06695765382605685, 'batch_size': 64, 'n_layers': 3, 'n_units_l0': 112, 'n_units_l1': 44, 'n_units_l2': 206}. Best is trial 87 with value: 806034.71.\u001b[0m\n"
     ]
    },
    {
     "name": "stdout",
     "output_type": "stream",
     "text": [
      "2/2 [==============================] - 0s 4ms/step\n"
     ]
    },
    {
     "name": "stderr",
     "output_type": "stream",
     "text": [
      "\u001b[32m[I 2022-09-27 18:59:34,763]\u001b[0m Trial 188 finished with value: 1337616.84 and parameters: {'learning_rate': 0.06535283284724287, 'batch_size': 32, 'n_layers': 3, 'n_units_l0': 113, 'n_units_l1': 36, 'n_units_l2': 193}. Best is trial 87 with value: 806034.71.\u001b[0m\n"
     ]
    },
    {
     "name": "stdout",
     "output_type": "stream",
     "text": [
      "2/2 [==============================] - 1s 6ms/step\n"
     ]
    },
    {
     "name": "stderr",
     "output_type": "stream",
     "text": [
      "\u001b[32m[I 2022-09-27 18:59:35,190]\u001b[0m Trial 148 finished with value: 3999614.05 and parameters: {'learning_rate': 0.06509609624456957, 'batch_size': 64, 'n_layers': 3, 'n_units_l0': 110, 'n_units_l1': 29, 'n_units_l2': 207}. Best is trial 87 with value: 806034.71.\u001b[0m\n"
     ]
    },
    {
     "name": "stdout",
     "output_type": "stream",
     "text": [
      "2/2 [==============================] - 0s 12ms/step\n"
     ]
    },
    {
     "name": "stderr",
     "output_type": "stream",
     "text": [
      "\u001b[32m[I 2022-09-27 18:59:40,672]\u001b[0m Trial 141 finished with value: 4037592.62 and parameters: {'learning_rate': 0.07333238583400124, 'batch_size': 128, 'n_layers': 3, 'n_units_l0': 19, 'n_units_l1': 54, 'n_units_l2': 207}. Best is trial 87 with value: 806034.71.\u001b[0m\n"
     ]
    },
    {
     "name": "stdout",
     "output_type": "stream",
     "text": [
      "2/2 [==============================] - 0s 2ms/step\n"
     ]
    },
    {
     "name": "stderr",
     "output_type": "stream",
     "text": [
      "\u001b[32m[I 2022-09-27 18:59:44,424]\u001b[0m Trial 196 finished with value: 4026408.03 and parameters: {'learning_rate': 0.05338862903861273, 'batch_size': 64, 'n_layers': 3, 'n_units_l0': 89, 'n_units_l1': 35, 'n_units_l2': 194}. Best is trial 87 with value: 806034.71.\u001b[0m\n"
     ]
    },
    {
     "name": "stdout",
     "output_type": "stream",
     "text": [
      "2/2 [==============================] - 0s 13ms/step\n"
     ]
    },
    {
     "name": "stderr",
     "output_type": "stream",
     "text": [
      "\u001b[32m[I 2022-09-27 18:59:44,931]\u001b[0m Trial 194 finished with value: 739819.65 and parameters: {'learning_rate': 0.051933414959655574, 'batch_size': 64, 'n_layers': 3, 'n_units_l0': 112, 'n_units_l1': 36, 'n_units_l2': 192}. Best is trial 194 with value: 739819.65.\u001b[0m\n"
     ]
    },
    {
     "name": "stdout",
     "output_type": "stream",
     "text": [
      "2/2 [==============================] - 0s 22ms/step\n"
     ]
    },
    {
     "name": "stderr",
     "output_type": "stream",
     "text": [
      "\u001b[32m[I 2022-09-27 18:59:45,474]\u001b[0m Trial 193 finished with value: 3994739.91 and parameters: {'learning_rate': 0.06670337011860214, 'batch_size': 64, 'n_layers': 3, 'n_units_l0': 89, 'n_units_l1': 55, 'n_units_l2': 194}. Best is trial 194 with value: 739819.65.\u001b[0m\n"
     ]
    },
    {
     "name": "stdout",
     "output_type": "stream",
     "text": [
      "2/2 [==============================] - 0s 4ms/step\n"
     ]
    },
    {
     "name": "stderr",
     "output_type": "stream",
     "text": [
      "\u001b[32m[I 2022-09-27 18:59:59,825]\u001b[0m Trial 158 finished with value: 1147527.4 and parameters: {'learning_rate': 0.07540545025576753, 'batch_size': 128, 'n_layers': 3, 'n_units_l0': 113, 'n_units_l1': 42, 'n_units_l2': 195}. Best is trial 194 with value: 739819.65.\u001b[0m\n"
     ]
    },
    {
     "name": "stdout",
     "output_type": "stream",
     "text": [
      "2/2 [==============================] - 0s 7ms/step\n"
     ]
    },
    {
     "name": "stderr",
     "output_type": "stream",
     "text": [
      "\u001b[32m[I 2022-09-27 19:00:18,964]\u001b[0m Trial 152 finished with value: 3812931.54 and parameters: {'learning_rate': 0.050411691251906546, 'batch_size': 16, 'n_layers': 3, 'n_units_l0': 88, 'n_units_l1': 59, 'n_units_l2': 220}. Best is trial 194 with value: 739819.65.\u001b[0m\n"
     ]
    },
    {
     "name": "stdout",
     "output_type": "stream",
     "text": [
      "2/2 [==============================] - 1s 8ms/step\n"
     ]
    },
    {
     "name": "stderr",
     "output_type": "stream",
     "text": [
      "\u001b[32m[I 2022-09-27 19:00:25,073]\u001b[0m Trial 144 finished with value: 3906639.86 and parameters: {'learning_rate': 0.035858982140584424, 'batch_size': 16, 'n_layers': 3, 'n_units_l0': 90, 'n_units_l1': 89, 'n_units_l2': 221}. Best is trial 194 with value: 739819.65.\u001b[0m\n"
     ]
    },
    {
     "name": "stdout",
     "output_type": "stream",
     "text": [
      "2/2 [==============================] - 0s 8ms/step\n"
     ]
    },
    {
     "name": "stderr",
     "output_type": "stream",
     "text": [
      "\u001b[32m[I 2022-09-27 19:00:32,633]\u001b[0m Trial 195 finished with value: 1155107.47 and parameters: {'learning_rate': 0.08069394354851236, 'batch_size': 16, 'n_layers': 3, 'n_units_l0': 119, 'n_units_l1': 41, 'n_units_l2': 201}. Best is trial 194 with value: 739819.65.\u001b[0m\n"
     ]
    },
    {
     "name": "stdout",
     "output_type": "stream",
     "text": [
      "2/2 [==============================] - 0s 3ms/step\n"
     ]
    },
    {
     "name": "stderr",
     "output_type": "stream",
     "text": [
      "\u001b[32m[I 2022-09-27 19:00:35,002]\u001b[0m Trial 140 finished with value: 1142892.6 and parameters: {'learning_rate': 0.035951248609111926, 'batch_size': 64, 'n_layers': 3, 'n_units_l0': 127, 'n_units_l1': 94, 'n_units_l2': 200}. Best is trial 194 with value: 739819.65.\u001b[0m\n"
     ]
    },
    {
     "name": "stdout",
     "output_type": "stream",
     "text": [
      "2/2 [==============================] - 1s 21ms/step\n"
     ]
    },
    {
     "name": "stderr",
     "output_type": "stream",
     "text": [
      "\u001b[32m[I 2022-09-27 19:00:35,809]\u001b[0m Trial 197 finished with value: 921335.63 and parameters: {'learning_rate': 0.08096402418991325, 'batch_size': 16, 'n_layers': 3, 'n_units_l0': 127, 'n_units_l1': 228, 'n_units_l2': 201}. Best is trial 194 with value: 739819.65.\u001b[0m\n"
     ]
    },
    {
     "name": "stdout",
     "output_type": "stream",
     "text": [
      "2/2 [==============================] - 1s 4ms/step\n"
     ]
    },
    {
     "name": "stderr",
     "output_type": "stream",
     "text": [
      "\u001b[32m[I 2022-09-27 19:00:36,242]\u001b[0m Trial 192 finished with value: 3899739.86 and parameters: {'learning_rate': 0.03692223105412361, 'batch_size': 16, 'n_layers': 3, 'n_units_l0': 118, 'n_units_l1': 25, 'n_units_l2': 198}. Best is trial 194 with value: 739819.65.\u001b[0m\n"
     ]
    },
    {
     "name": "stdout",
     "output_type": "stream",
     "text": [
      "2/2 [==============================] - 0s 4ms/step\n"
     ]
    },
    {
     "name": "stderr",
     "output_type": "stream",
     "text": [
      "\u001b[32m[I 2022-09-27 19:00:45,382]\u001b[0m Trial 155 finished with value: 920844.1 and parameters: {'learning_rate': 0.03758476081788802, 'batch_size': 64, 'n_layers': 3, 'n_units_l0': 120, 'n_units_l1': 90, 'n_units_l2': 199}. Best is trial 194 with value: 739819.65.\u001b[0m\n"
     ]
    },
    {
     "name": "stdout",
     "output_type": "stream",
     "text": [
      "2/2 [==============================] - 0s 2ms/step\n"
     ]
    },
    {
     "name": "stderr",
     "output_type": "stream",
     "text": [
      "\u001b[32m[I 2022-09-27 19:00:50,710]\u001b[0m Trial 198 finished with value: 4063685.18 and parameters: {'learning_rate': 0.03785272635021795, 'batch_size': 64, 'n_layers': 3, 'n_units_l0': 103, 'n_units_l1': 26, 'n_units_l2': 210}. Best is trial 194 with value: 739819.65.\u001b[0m\n"
     ]
    },
    {
     "name": "stdout",
     "output_type": "stream",
     "text": [
      "2/2 [==============================] - 0s 3ms/step\n",
      "Number of trials: 200\n",
      "Best trial:\n",
      "  Value: 739819.65\n",
      "  Params: \n",
      "    learning_rate: 0.051933414959655574\n",
      "    batch_size: 64\n",
      "    n_layers: 3\n",
      "    n_units_l0: 112\n",
      "    n_units_l1: 36\n",
      "    n_units_l2: 192\n"
     ]
    },
    {
     "name": "stderr",
     "output_type": "stream",
     "text": [
      "\u001b[32m[I 2022-09-27 19:01:00,200]\u001b[0m Trial 199 finished with value: 1097406.33 and parameters: {'learning_rate': 0.08347354981619387, 'batch_size': 16, 'n_layers': 3, 'n_units_l0': 106, 'n_units_l1': 237, 'n_units_l2': 212}. Best is trial 194 with value: 739819.65.\u001b[0m\n"
     ]
    },
    {
     "name": "stdout",
     "output_type": "stream",
     "text": [
      "Study statistics: \n",
      "  Number of finished trials:  200\n",
      "  Number of pruned trials:  0\n",
      "  Number of complete trials:  200\n"
     ]
    },
    {
     "name": "stderr",
     "output_type": "stream",
     "text": [
      "2022-09-27 19:01:00.631878: E tensorflow/stream_executor/cuda/cuda_driver.cc:271] failed call to cuInit: CUDA_ERROR_NO_DEVICE: no CUDA-capable device is detected\n",
      "2022-09-27 19:01:00.631940: I tensorflow/stream_executor/cuda/cuda_diagnostics.cc:156] kernel driver does not appear to be running on this host (MININT-B74KKM5): /proc/driver/nvidia/version does not exist\n",
      "2022-09-27 19:01:00.632816: I tensorflow/core/platform/cpu_feature_guard.cc:193] This TensorFlow binary is optimized with oneAPI Deep Neural Network Library (oneDNN) to use the following CPU instructions in performance-critical operations:  AVX2 FMA\n",
      "To enable them in other operations, rebuild TensorFlow with the appropriate compiler flags.\n"
     ]
    },
    {
     "name": "stdout",
     "output_type": "stream",
     "text": [
      "2/2 [==============================] - 0s 3ms/step\n",
      "991645.76\n"
     ]
    }
   ],
   "source": [
    "nn_model = brisk_neural_net.fetch_model(save = False)"
   ]
  },
  {
   "cell_type": "code",
   "execution_count": 8,
   "metadata": {},
   "outputs": [
    {
     "name": "stdout",
     "output_type": "stream",
     "text": [
      "Model: \"sequential\"\n",
      "_________________________________________________________________\n",
      " Layer (type)                Output Shape              Param #   \n",
      "=================================================================\n",
      " dense_hidden_0 (Dense)      (None, 112)               4592      \n",
      "                                                                 \n",
      " dense_hidden_1 (Dense)      (None, 36)                4068      \n",
      "                                                                 \n",
      " dense_hidden_2 (Dense)      (None, 192)               7104      \n",
      "                                                                 \n",
      " dense (Dense)               (None, 1)                 193       \n",
      "                                                                 \n",
      "=================================================================\n",
      "Total params: 15,957\n",
      "Trainable params: 15,957\n",
      "Non-trainable params: 0\n",
      "_________________________________________________________________\n"
     ]
    }
   ],
   "source": [
    "nn_model.summary()"
   ]
  },
  {
   "cell_type": "code",
   "execution_count": 9,
   "metadata": {},
   "outputs": [
    {
     "name": "stdout",
     "output_type": "stream",
     "text": [
      "2/2 [==============================] - 0s 3ms/step\n"
     ]
    }
   ],
   "source": [
    "from dask_ml.preprocessing import StandardScaler\n",
    "\n",
    "X_test = StandardScaler().fit_transform(X_test)\n",
    "\n",
    "x_test_pred_nn = nn_model.predict(X_test.values)\n"
   ]
  },
  {
   "cell_type": "code",
   "execution_count": 10,
   "metadata": {},
   "outputs": [
    {
     "data": {
      "text/plain": [
       "array([  18.437984, 4678.266   , 1776.8557  ,  284.2955  ,  236.44307 ,\n",
       "       1920.2205  ,  134.78377 ,  119.12004 ,  584.3589  ,   31.79977 ,\n",
       "       1890.5734  ,   32.60845 , 4234.7925  ,   18.437984, 5016.5103  ,\n",
       "       1296.5225  ,  782.91754 ,  517.6735  ,  112.085434,   57.928375,\n",
       "        920.7203  , 2455.1375  , 1627.3164  , 1112.3176  ,   91.969826,\n",
       "        156.94891 , 2393.493   , 2408.6736  , 2608.3909  , 1321.8667  ,\n",
       "         18.437984, 1372.0596  ,   73.03522 ,   18.437984,   18.437984,\n",
       "         18.437984, 1292.4856  ,  528.84515 ,  164.6401  ,  332.75928 ,\n",
       "       2302.4204  ,  919.19666 , 2024.5425  ,  507.49313 ,  931.14197 ,\n",
       "        123.93515 , 1131.1675  ,   18.437984], dtype=float32)"
      ]
     },
     "execution_count": 10,
     "metadata": {},
     "output_type": "execute_result"
    }
   ],
   "source": [
    "x_test_pred_nn.reshape(48, )"
   ]
  },
  {
   "cell_type": "code",
   "execution_count": 11,
   "metadata": {},
   "outputs": [
    {
     "data": {
      "text/html": [
       "<div>\n",
       "<style scoped>\n",
       "    .dataframe tbody tr th:only-of-type {\n",
       "        vertical-align: middle;\n",
       "    }\n",
       "\n",
       "    .dataframe tbody tr th {\n",
       "        vertical-align: top;\n",
       "    }\n",
       "\n",
       "    .dataframe thead th {\n",
       "        text-align: right;\n",
       "    }\n",
       "</style>\n",
       "<table border=\"1\" class=\"dataframe\">\n",
       "  <thead>\n",
       "    <tr style=\"text-align: right;\">\n",
       "      <th></th>\n",
       "      <th>countary</th>\n",
       "      <th>deaths</th>\n",
       "      <th>predictions</th>\n",
       "    </tr>\n",
       "  </thead>\n",
       "  <tbody>\n",
       "    <tr>\n",
       "      <th>0</th>\n",
       "      <td>144</td>\n",
       "      <td>0.000</td>\n",
       "      <td>18.437984</td>\n",
       "    </tr>\n",
       "    <tr>\n",
       "      <th>1</th>\n",
       "      <td>154</td>\n",
       "      <td>4896.644</td>\n",
       "      <td>4678.266113</td>\n",
       "    </tr>\n",
       "    <tr>\n",
       "      <th>2</th>\n",
       "      <td>157</td>\n",
       "      <td>1486.844</td>\n",
       "      <td>1776.855713</td>\n",
       "    </tr>\n",
       "    <tr>\n",
       "      <th>3</th>\n",
       "      <td>8</td>\n",
       "      <td>55.799</td>\n",
       "      <td>284.295502</td>\n",
       "    </tr>\n",
       "    <tr>\n",
       "      <th>4</th>\n",
       "      <td>173</td>\n",
       "      <td>153.473</td>\n",
       "      <td>236.443069</td>\n",
       "    </tr>\n",
       "    <tr>\n",
       "      <th>5</th>\n",
       "      <td>80</td>\n",
       "      <td>2252.476</td>\n",
       "      <td>1920.220459</td>\n",
       "    </tr>\n",
       "    <tr>\n",
       "      <th>6</th>\n",
       "      <td>52</td>\n",
       "      <td>146.353</td>\n",
       "      <td>134.783768</td>\n",
       "    </tr>\n",
       "    <tr>\n",
       "      <th>7</th>\n",
       "      <td>24</td>\n",
       "      <td>0.000</td>\n",
       "      <td>119.120041</td>\n",
       "    </tr>\n",
       "    <tr>\n",
       "      <th>8</th>\n",
       "      <td>82</td>\n",
       "      <td>604.743</td>\n",
       "      <td>584.358887</td>\n",
       "    </tr>\n",
       "    <tr>\n",
       "      <th>9</th>\n",
       "      <td>182</td>\n",
       "      <td>45.966</td>\n",
       "      <td>31.799770</td>\n",
       "    </tr>\n",
       "    <tr>\n",
       "      <th>10</th>\n",
       "      <td>176</td>\n",
       "      <td>1900.397</td>\n",
       "      <td>1890.573364</td>\n",
       "    </tr>\n",
       "    <tr>\n",
       "      <th>11</th>\n",
       "      <td>119</td>\n",
       "      <td>79.899</td>\n",
       "      <td>32.608452</td>\n",
       "    </tr>\n",
       "    <tr>\n",
       "      <th>12</th>\n",
       "      <td>166</td>\n",
       "      <td>3204.928</td>\n",
       "      <td>4234.792480</td>\n",
       "    </tr>\n",
       "    <tr>\n",
       "      <th>13</th>\n",
       "      <td>36</td>\n",
       "      <td>29.081</td>\n",
       "      <td>18.437984</td>\n",
       "    </tr>\n",
       "    <tr>\n",
       "      <th>14</th>\n",
       "      <td>20</td>\n",
       "      <td>3822.309</td>\n",
       "      <td>5016.510254</td>\n",
       "    </tr>\n",
       "    <tr>\n",
       "      <th>15</th>\n",
       "      <td>90</td>\n",
       "      <td>617.233</td>\n",
       "      <td>1296.522461</td>\n",
       "    </tr>\n",
       "    <tr>\n",
       "      <th>16</th>\n",
       "      <td>28</td>\n",
       "      <td>1043.390</td>\n",
       "      <td>782.917542</td>\n",
       "    </tr>\n",
       "    <tr>\n",
       "      <th>17</th>\n",
       "      <td>13</td>\n",
       "      <td>354.972</td>\n",
       "      <td>517.673523</td>\n",
       "    </tr>\n",
       "    <tr>\n",
       "      <th>18</th>\n",
       "      <td>72</td>\n",
       "      <td>113.700</td>\n",
       "      <td>112.085434</td>\n",
       "    </tr>\n",
       "    <tr>\n",
       "      <th>19</th>\n",
       "      <td>183</td>\n",
       "      <td>102.229</td>\n",
       "      <td>57.928375</td>\n",
       "    </tr>\n",
       "    <tr>\n",
       "      <th>20</th>\n",
       "      <td>122</td>\n",
       "      <td>691.002</td>\n",
       "      <td>920.720276</td>\n",
       "    </tr>\n",
       "    <tr>\n",
       "      <th>21</th>\n",
       "      <td>180</td>\n",
       "      <td>1556.962</td>\n",
       "      <td>2455.137451</td>\n",
       "    </tr>\n",
       "    <tr>\n",
       "      <th>22</th>\n",
       "      <td>110</td>\n",
       "      <td>1592.490</td>\n",
       "      <td>1627.316406</td>\n",
       "    </tr>\n",
       "    <tr>\n",
       "      <th>23</th>\n",
       "      <td>60</td>\n",
       "      <td>912.035</td>\n",
       "      <td>1112.317627</td>\n",
       "    </tr>\n",
       "    <tr>\n",
       "      <th>24</th>\n",
       "      <td>7</td>\n",
       "      <td>108.901</td>\n",
       "      <td>91.969826</td>\n",
       "    </tr>\n",
       "    <tr>\n",
       "      <th>25</th>\n",
       "      <td>30</td>\n",
       "      <td>164.589</td>\n",
       "      <td>156.948914</td>\n",
       "    </tr>\n",
       "    <tr>\n",
       "      <th>26</th>\n",
       "      <td>168</td>\n",
       "      <td>2036.132</td>\n",
       "      <td>2393.492920</td>\n",
       "    </tr>\n",
       "    <tr>\n",
       "      <th>27</th>\n",
       "      <td>156</td>\n",
       "      <td>2485.236</td>\n",
       "      <td>2408.673584</td>\n",
       "    </tr>\n",
       "    <tr>\n",
       "      <th>28</th>\n",
       "      <td>29</td>\n",
       "      <td>2651.960</td>\n",
       "      <td>2608.390869</td>\n",
       "    </tr>\n",
       "    <tr>\n",
       "      <th>29</th>\n",
       "      <td>35</td>\n",
       "      <td>2820.237</td>\n",
       "      <td>1321.866699</td>\n",
       "    </tr>\n",
       "    <tr>\n",
       "      <th>30</th>\n",
       "      <td>0</td>\n",
       "      <td>10.335</td>\n",
       "      <td>18.437984</td>\n",
       "    </tr>\n",
       "    <tr>\n",
       "      <th>31</th>\n",
       "      <td>116</td>\n",
       "      <td>2648.125</td>\n",
       "      <td>1372.059570</td>\n",
       "    </tr>\n",
       "    <tr>\n",
       "      <th>32</th>\n",
       "      <td>45</td>\n",
       "      <td>78.378</td>\n",
       "      <td>73.035217</td>\n",
       "    </tr>\n",
       "    <tr>\n",
       "      <th>33</th>\n",
       "      <td>130</td>\n",
       "      <td>35.511</td>\n",
       "      <td>18.437984</td>\n",
       "    </tr>\n",
       "    <tr>\n",
       "      <th>34</th>\n",
       "      <td>40</td>\n",
       "      <td>34.318</td>\n",
       "      <td>18.437984</td>\n",
       "    </tr>\n",
       "    <tr>\n",
       "      <th>35</th>\n",
       "      <td>59</td>\n",
       "      <td>22.357</td>\n",
       "      <td>18.437984</td>\n",
       "    </tr>\n",
       "    <tr>\n",
       "      <th>36</th>\n",
       "      <td>140</td>\n",
       "      <td>1078.310</td>\n",
       "      <td>1292.485596</td>\n",
       "    </tr>\n",
       "    <tr>\n",
       "      <th>37</th>\n",
       "      <td>46</td>\n",
       "      <td>394.845</td>\n",
       "      <td>528.845154</td>\n",
       "    </tr>\n",
       "    <tr>\n",
       "      <th>38</th>\n",
       "      <td>5</td>\n",
       "      <td>202.467</td>\n",
       "      <td>164.640106</td>\n",
       "    </tr>\n",
       "    <tr>\n",
       "      <th>39</th>\n",
       "      <td>16</td>\n",
       "      <td>321.415</td>\n",
       "      <td>332.759277</td>\n",
       "    </tr>\n",
       "    <tr>\n",
       "      <th>40</th>\n",
       "      <td>160</td>\n",
       "      <td>2168.010</td>\n",
       "      <td>2302.420410</td>\n",
       "    </tr>\n",
       "    <tr>\n",
       "      <th>41</th>\n",
       "      <td>65</td>\n",
       "      <td>0.000</td>\n",
       "      <td>919.196655</td>\n",
       "    </tr>\n",
       "    <tr>\n",
       "      <th>42</th>\n",
       "      <td>74</td>\n",
       "      <td>1790.229</td>\n",
       "      <td>2024.542480</td>\n",
       "    </tr>\n",
       "    <tr>\n",
       "      <th>43</th>\n",
       "      <td>61</td>\n",
       "      <td>90.771</td>\n",
       "      <td>507.493134</td>\n",
       "    </tr>\n",
       "    <tr>\n",
       "      <th>44</th>\n",
       "      <td>186</td>\n",
       "      <td>867.739</td>\n",
       "      <td>931.141968</td>\n",
       "    </tr>\n",
       "    <tr>\n",
       "      <th>45</th>\n",
       "      <td>38</td>\n",
       "      <td>159.134</td>\n",
       "      <td>123.935150</td>\n",
       "    </tr>\n",
       "    <tr>\n",
       "      <th>46</th>\n",
       "      <td>27</td>\n",
       "      <td>1562.173</td>\n",
       "      <td>1131.167480</td>\n",
       "    </tr>\n",
       "    <tr>\n",
       "      <th>47</th>\n",
       "      <td>54</td>\n",
       "      <td>0.000</td>\n",
       "      <td>18.437984</td>\n",
       "    </tr>\n",
       "  </tbody>\n",
       "</table>\n",
       "</div>"
      ],
      "text/plain": [
       "    countary    deaths  predictions\n",
       "0        144     0.000    18.437984\n",
       "1        154  4896.644  4678.266113\n",
       "2        157  1486.844  1776.855713\n",
       "3          8    55.799   284.295502\n",
       "4        173   153.473   236.443069\n",
       "5         80  2252.476  1920.220459\n",
       "6         52   146.353   134.783768\n",
       "7         24     0.000   119.120041\n",
       "8         82   604.743   584.358887\n",
       "9        182    45.966    31.799770\n",
       "10       176  1900.397  1890.573364\n",
       "11       119    79.899    32.608452\n",
       "12       166  3204.928  4234.792480\n",
       "13        36    29.081    18.437984\n",
       "14        20  3822.309  5016.510254\n",
       "15        90   617.233  1296.522461\n",
       "16        28  1043.390   782.917542\n",
       "17        13   354.972   517.673523\n",
       "18        72   113.700   112.085434\n",
       "19       183   102.229    57.928375\n",
       "20       122   691.002   920.720276\n",
       "21       180  1556.962  2455.137451\n",
       "22       110  1592.490  1627.316406\n",
       "23        60   912.035  1112.317627\n",
       "24         7   108.901    91.969826\n",
       "25        30   164.589   156.948914\n",
       "26       168  2036.132  2393.492920\n",
       "27       156  2485.236  2408.673584\n",
       "28        29  2651.960  2608.390869\n",
       "29        35  2820.237  1321.866699\n",
       "30         0    10.335    18.437984\n",
       "31       116  2648.125  1372.059570\n",
       "32        45    78.378    73.035217\n",
       "33       130    35.511    18.437984\n",
       "34        40    34.318    18.437984\n",
       "35        59    22.357    18.437984\n",
       "36       140  1078.310  1292.485596\n",
       "37        46   394.845   528.845154\n",
       "38         5   202.467   164.640106\n",
       "39        16   321.415   332.759277\n",
       "40       160  2168.010  2302.420410\n",
       "41        65     0.000   919.196655\n",
       "42        74  1790.229  2024.542480\n",
       "43        61    90.771   507.493134\n",
       "44       186   867.739   931.141968\n",
       "45        38   159.134   123.935150\n",
       "46        27  1562.173  1131.167480\n",
       "47        54     0.000    18.437984"
      ]
     },
     "execution_count": 11,
     "metadata": {},
     "output_type": "execute_result"
    }
   ],
   "source": [
    "df = pd.DataFrame(list(zip(X_train_orig['location'].values, y_test.values.reshape(48, ), x_test_pred_nn.reshape(48, ) )),\n",
    "               columns =['countary', 'deaths', 'predictions'])\n",
    "df"
   ]
  },
  {
   "cell_type": "code",
   "execution_count": 69,
   "metadata": {},
   "outputs": [
    {
     "ename": "NameError",
     "evalue": "name 'x_test_pred_nn' is not defined",
     "output_type": "error",
     "traceback": [
      "\u001b[0;31m---------------------------------------------------------------------------\u001b[0m",
      "\u001b[0;31mNameError\u001b[0m                                 Traceback (most recent call last)",
      "\u001b[1;32m/mnt/c/Users/rwmas/GitHub/xai/xai_api/app/notebooks/brisk_models.ipynb Cell 21\u001b[0m in \u001b[0;36m<cell line: 1>\u001b[0;34m()\u001b[0m\n\u001b[0;32m----> <a href='vscode-notebook-cell://wsl%2Bubuntu/mnt/c/Users/rwmas/GitHub/xai/xai_api/app/notebooks/brisk_models.ipynb#X30sdnNjb2RlLXJlbW90ZQ%3D%3D?line=0'>1</a>\u001b[0m err \u001b[39m=\u001b[39m np\u001b[39m.\u001b[39mround_(mean_squared_error(y_test\u001b[39m.\u001b[39mvalues\u001b[39m.\u001b[39mreshape(\u001b[39m48\u001b[39m, ), x_test_pred_nn\u001b[39m.\u001b[39mreshape(\u001b[39m48\u001b[39m, )), decimals\u001b[39m=\u001b[39m\u001b[39m2\u001b[39m, out\u001b[39m=\u001b[39m\u001b[39mNone\u001b[39;00m)\n\u001b[1;32m      <a href='vscode-notebook-cell://wsl%2Bubuntu/mnt/c/Users/rwmas/GitHub/xai/xai_api/app/notebooks/brisk_models.ipynb#X30sdnNjb2RlLXJlbW90ZQ%3D%3D?line=1'>2</a>\u001b[0m \u001b[39mprint\u001b[39m(err)\n",
      "\u001b[0;31mNameError\u001b[0m: name 'x_test_pred_nn' is not defined"
     ]
    }
   ],
   "source": [
    "err = np.round_(mean_squared_error(y_test.values.reshape(48, ), x_test_pred_nn.reshape(48, )), decimals=2, out=None)\n",
    "print(err)"
   ]
  },
  {
   "cell_type": "code",
   "execution_count": 13,
   "metadata": {},
   "outputs": [
    {
     "data": {
      "text/plain": [
       "<matplotlib.legend.Legend at 0x7fc794ff6a90>"
      ]
     },
     "execution_count": 13,
     "metadata": {},
     "output_type": "execute_result"
    },
    {
     "data": {
      "image/png": "[encoded data removed]",
      "text/plain": [
       "<Figure size 864x576 with 1 Axes>"
      ]
     },
     "metadata": {
      "needs_background": "light"
     },
     "output_type": "display_data"
    }
   ],
   "source": [
    "# plt.figure(figsize=(12, 8))\n",
    "fig = plt.figure(figsize=(12, 8))\n",
    "ax = fig.add_axes([0,0,1,1])\n",
    "ax.bar(X_test_orig['location'].values + 0.0, x_test_pred_nn.reshape(48, ), color = 'b', width = 2.25)\n",
    "# ax.bar(X['location'].values + 0.25, y_test.values.reshape(48, ), color = 'g', width = 0.25)\n",
    "ax.bar(X_test_orig['location'].values + 1.50, y_test.values.reshape(48, ), color = 'g', width = 2.25)\n",
    "# ax.bar(X + 0.50, data[2], color = 'r', width = 0.25)\n",
    "plt.xlabel(\"countries\")\n",
    "plt.ylabel(\"deaths\")\n",
    "ax.legend(labels=['predictions', 'actual'])"
   ]
  },
  {
   "cell_type": "code",
   "execution_count": 24,
   "metadata": {},
   "outputs": [],
   "source": [
    "nn_model.save(brisk_neural_net.MODEL_SAVE_PATH)"
   ]
  },
  {
   "cell_type": "code",
   "execution_count": 21,
   "metadata": {},
   "outputs": [],
   "source": [
    "from ml.models.base.brisk_model_lightning import BriskModel, BriskDataModule\n",
    "from sklearn.model_selection import train_test_split\n",
    "import pytorch_lightning as pl\n"
   ]
  },
  {
   "cell_type": "code",
   "execution_count": 19,
   "metadata": {},
   "outputs": [],
   "source": [
    "clf = BriskModel(input_dim = 40)\n"
   ]
  },
  {
   "cell_type": "code",
   "execution_count": 27,
   "metadata": {},
   "outputs": [
    {
     "data": {
      "text/html": [
       "<div>\n",
       "<style scoped>\n",
       "    .dataframe tbody tr th:only-of-type {\n",
       "        vertical-align: middle;\n",
       "    }\n",
       "\n",
       "    .dataframe tbody tr th {\n",
       "        vertical-align: top;\n",
       "    }\n",
       "\n",
       "    .dataframe thead th {\n",
       "        text-align: right;\n",
       "    }\n",
       "</style>\n",
       "<table border=\"1\" class=\"dataframe\">\n",
       "  <thead>\n",
       "    <tr style=\"text-align: right;\">\n",
       "      <th></th>\n",
       "      <th>new_cases_per_million</th>\n",
       "      <th>population_cov</th>\n",
       "      <th>life_expectancy_cov</th>\n",
       "      <th>Population</th>\n",
       "      <th>Area_km2</th>\n",
       "      <th>Density_km2</th>\n",
       "      <th>Year_x</th>\n",
       "      <th>Meningitis</th>\n",
       "      <th>Neoplasms</th>\n",
       "      <th>Fire, heat, and hot substances</th>\n",
       "      <th>...</th>\n",
       "      <th>Cardiovascular diseases</th>\n",
       "      <th>Chronic kidney disease</th>\n",
       "      <th>Chronic respiratory diseases</th>\n",
       "      <th>Cirrhosis and other chronic liver diseases</th>\n",
       "      <th>Digestive diseases</th>\n",
       "      <th>Acute hepatitis</th>\n",
       "      <th>Alzheimer's disease and other dementias</th>\n",
       "      <th>Parkinson's disease</th>\n",
       "      <th>Total</th>\n",
       "      <th>air_polution</th>\n",
       "    </tr>\n",
       "  </thead>\n",
       "  <tbody>\n",
       "    <tr>\n",
       "      <th>144</th>\n",
       "      <td>0.172839</td>\n",
       "      <td>-0.288162</td>\n",
       "      <td>0.424252</td>\n",
       "      <td>-0.283278</td>\n",
       "      <td>-0.402022</td>\n",
       "      <td>0.022242</td>\n",
       "      <td>0.0</td>\n",
       "      <td>-0.378342</td>\n",
       "      <td>0.239083</td>\n",
       "      <td>-0.051878</td>\n",
       "      <td>...</td>\n",
       "      <td>-0.009505</td>\n",
       "      <td>1.461036</td>\n",
       "      <td>-0.016436</td>\n",
       "      <td>-0.124667</td>\n",
       "      <td>-0.209598</td>\n",
       "      <td>-0.648551</td>\n",
       "      <td>0.031821</td>\n",
       "      <td>0.359850</td>\n",
       "      <td>0.029802</td>\n",
       "      <td>-0.350254</td>\n",
       "    </tr>\n",
       "    <tr>\n",
       "      <th>154</th>\n",
       "      <td>2.680804</td>\n",
       "      <td>-0.273467</td>\n",
       "      <td>1.131720</td>\n",
       "      <td>-0.268350</td>\n",
       "      <td>-0.388998</td>\n",
       "      <td>-0.122698</td>\n",
       "      <td>0.0</td>\n",
       "      <td>-0.500812</td>\n",
       "      <td>1.625335</td>\n",
       "      <td>-0.931643</td>\n",
       "      <td>...</td>\n",
       "      <td>0.836701</td>\n",
       "      <td>-0.764317</td>\n",
       "      <td>-0.095089</td>\n",
       "      <td>0.709730</td>\n",
       "      <td>1.265352</td>\n",
       "      <td>-0.601520</td>\n",
       "      <td>2.204965</td>\n",
       "      <td>1.203002</td>\n",
       "      <td>0.975763</td>\n",
       "      <td>-0.562901</td>\n",
       "    </tr>\n",
       "    <tr>\n",
       "      <th>157</th>\n",
       "      <td>-0.361945</td>\n",
       "      <td>0.176154</td>\n",
       "      <td>-1.243547</td>\n",
       "      <td>0.170309</td>\n",
       "      <td>0.403482</td>\n",
       "      <td>-0.156620</td>\n",
       "      <td>0.0</td>\n",
       "      <td>0.036050</td>\n",
       "      <td>-0.488338</td>\n",
       "      <td>1.614256</td>\n",
       "      <td>...</td>\n",
       "      <td>-0.674371</td>\n",
       "      <td>-0.023453</td>\n",
       "      <td>-0.090726</td>\n",
       "      <td>-0.852900</td>\n",
       "      <td>-0.792569</td>\n",
       "      <td>-0.438879</td>\n",
       "      <td>-0.546020</td>\n",
       "      <td>-0.745467</td>\n",
       "      <td>0.574663</td>\n",
       "      <td>0.071859</td>\n",
       "    </tr>\n",
       "    <tr>\n",
       "      <th>8</th>\n",
       "      <td>0.079051</td>\n",
       "      <td>-0.089553</td>\n",
       "      <td>1.424655</td>\n",
       "      <td>-0.088679</td>\n",
       "      <td>4.674204</td>\n",
       "      <td>-0.183757</td>\n",
       "      <td>0.0</td>\n",
       "      <td>-0.516522</td>\n",
       "      <td>0.727436</td>\n",
       "      <td>-1.003608</td>\n",
       "      <td>...</td>\n",
       "      <td>-0.256128</td>\n",
       "      <td>-0.062250</td>\n",
       "      <td>0.570014</td>\n",
       "      <td>-0.959549</td>\n",
       "      <td>-0.558363</td>\n",
       "      <td>-0.609302</td>\n",
       "      <td>1.206787</td>\n",
       "      <td>1.136186</td>\n",
       "      <td>-0.354042</td>\n",
       "      <td>-1.144025</td>\n",
       "    </tr>\n",
       "    <tr>\n",
       "      <th>173</th>\n",
       "      <td>-0.153288</td>\n",
       "      <td>-0.278706</td>\n",
       "      <td>0.052556</td>\n",
       "      <td>-0.273767</td>\n",
       "      <td>-0.398991</td>\n",
       "      <td>-0.018464</td>\n",
       "      <td>0.0</td>\n",
       "      <td>-0.424882</td>\n",
       "      <td>0.017654</td>\n",
       "      <td>-0.160592</td>\n",
       "      <td>...</td>\n",
       "      <td>0.275179</td>\n",
       "      <td>1.917533</td>\n",
       "      <td>-0.620671</td>\n",
       "      <td>-0.541465</td>\n",
       "      <td>-0.105360</td>\n",
       "      <td>-0.578240</td>\n",
       "      <td>0.113031</td>\n",
       "      <td>0.017924</td>\n",
       "      <td>0.323504</td>\n",
       "      <td>-0.280503</td>\n",
       "    </tr>\n",
       "    <tr>\n",
       "      <th>...</th>\n",
       "      <td>...</td>\n",
       "      <td>...</td>\n",
       "      <td>...</td>\n",
       "      <td>...</td>\n",
       "      <td>...</td>\n",
       "      <td>...</td>\n",
       "      <td>...</td>\n",
       "      <td>...</td>\n",
       "      <td>...</td>\n",
       "      <td>...</td>\n",
       "      <td>...</td>\n",
       "      <td>...</td>\n",
       "      <td>...</td>\n",
       "      <td>...</td>\n",
       "      <td>...</td>\n",
       "      <td>...</td>\n",
       "      <td>...</td>\n",
       "      <td>...</td>\n",
       "      <td>...</td>\n",
       "      <td>...</td>\n",
       "      <td>...</td>\n",
       "    </tr>\n",
       "    <tr>\n",
       "      <th>17</th>\n",
       "      <td>0.319917</td>\n",
       "      <td>-0.286451</td>\n",
       "      <td>0.205932</td>\n",
       "      <td>-0.281694</td>\n",
       "      <td>-0.387220</td>\n",
       "      <td>-0.175123</td>\n",
       "      <td>0.0</td>\n",
       "      <td>-0.465568</td>\n",
       "      <td>-0.657083</td>\n",
       "      <td>-0.527254</td>\n",
       "      <td>...</td>\n",
       "      <td>-0.816906</td>\n",
       "      <td>0.637475</td>\n",
       "      <td>-0.629125</td>\n",
       "      <td>-0.230739</td>\n",
       "      <td>-0.541662</td>\n",
       "      <td>-0.648551</td>\n",
       "      <td>-0.488580</td>\n",
       "      <td>-0.520958</td>\n",
       "      <td>-0.963068</td>\n",
       "      <td>-0.371758</td>\n",
       "    </tr>\n",
       "    <tr>\n",
       "      <th>98</th>\n",
       "      <td>1.703201</td>\n",
       "      <td>-0.268727</td>\n",
       "      <td>0.386945</td>\n",
       "      <td>-0.262655</td>\n",
       "      <td>-0.359281</td>\n",
       "      <td>-0.159087</td>\n",
       "      <td>0.0</td>\n",
       "      <td>-0.458155</td>\n",
       "      <td>1.384016</td>\n",
       "      <td>0.335022</td>\n",
       "      <td>...</td>\n",
       "      <td>3.343020</td>\n",
       "      <td>-1.033997</td>\n",
       "      <td>-0.232585</td>\n",
       "      <td>0.912452</td>\n",
       "      <td>2.134712</td>\n",
       "      <td>-0.613666</td>\n",
       "      <td>1.721561</td>\n",
       "      <td>1.187378</td>\n",
       "      <td>2.544196</td>\n",
       "      <td>-0.934373</td>\n",
       "    </tr>\n",
       "    <tr>\n",
       "      <th>66</th>\n",
       "      <td>0.936048</td>\n",
       "      <td>-0.209146</td>\n",
       "      <td>1.258843</td>\n",
       "      <td>-0.201865</td>\n",
       "      <td>-0.315287</td>\n",
       "      <td>-0.136266</td>\n",
       "      <td>0.0</td>\n",
       "      <td>-0.501363</td>\n",
       "      <td>1.926332</td>\n",
       "      <td>-0.541234</td>\n",
       "      <td>...</td>\n",
       "      <td>1.853185</td>\n",
       "      <td>1.857805</td>\n",
       "      <td>1.308740</td>\n",
       "      <td>-0.590645</td>\n",
       "      <td>0.244693</td>\n",
       "      <td>-0.286353</td>\n",
       "      <td>2.316310</td>\n",
       "      <td>2.468497</td>\n",
       "      <td>1.910941</td>\n",
       "      <td>-0.717339</td>\n",
       "    </tr>\n",
       "    <tr>\n",
       "      <th>126</th>\n",
       "      <td>0.332530</td>\n",
       "      <td>-0.273437</td>\n",
       "      <td>0.368981</td>\n",
       "      <td>-0.268310</td>\n",
       "      <td>-0.385407</td>\n",
       "      <td>-0.135650</td>\n",
       "      <td>0.0</td>\n",
       "      <td>-0.508171</td>\n",
       "      <td>1.180707</td>\n",
       "      <td>-0.857241</td>\n",
       "      <td>...</td>\n",
       "      <td>2.775715</td>\n",
       "      <td>-0.355284</td>\n",
       "      <td>-0.069473</td>\n",
       "      <td>-0.388691</td>\n",
       "      <td>-0.436643</td>\n",
       "      <td>-0.601636</td>\n",
       "      <td>-0.049348</td>\n",
       "      <td>0.879493</td>\n",
       "      <td>1.689676</td>\n",
       "      <td>0.316590</td>\n",
       "    </tr>\n",
       "    <tr>\n",
       "      <th>109</th>\n",
       "      <td>-0.556326</td>\n",
       "      <td>0.720852</td>\n",
       "      <td>0.265349</td>\n",
       "      <td>0.708831</td>\n",
       "      <td>0.894071</td>\n",
       "      <td>-0.146135</td>\n",
       "      <td>0.0</td>\n",
       "      <td>-0.481947</td>\n",
       "      <td>-0.593906</td>\n",
       "      <td>-0.633499</td>\n",
       "      <td>...</td>\n",
       "      <td>-0.741183</td>\n",
       "      <td>3.011826</td>\n",
       "      <td>-0.105585</td>\n",
       "      <td>1.551991</td>\n",
       "      <td>1.415959</td>\n",
       "      <td>-0.461147</td>\n",
       "      <td>-0.165415</td>\n",
       "      <td>-0.315484</td>\n",
       "      <td>-0.605700</td>\n",
       "      <td>-0.391223</td>\n",
       "    </tr>\n",
       "  </tbody>\n",
       "</table>\n",
       "<p>143 rows × 40 columns</p>\n",
       "</div>"
      ],
      "text/plain": [
       "     new_cases_per_million  population_cov  life_expectancy_cov  Population  \\\n",
       "144               0.172839       -0.288162             0.424252   -0.283278   \n",
       "154               2.680804       -0.273467             1.131720   -0.268350   \n",
       "157              -0.361945        0.176154            -1.243547    0.170309   \n",
       "8                 0.079051       -0.089553             1.424655   -0.088679   \n",
       "173              -0.153288       -0.278706             0.052556   -0.273767   \n",
       "..                     ...             ...                  ...         ...   \n",
       "17                0.319917       -0.286451             0.205932   -0.281694   \n",
       "98                1.703201       -0.268727             0.386945   -0.262655   \n",
       "66                0.936048       -0.209146             1.258843   -0.201865   \n",
       "126               0.332530       -0.273437             0.368981   -0.268310   \n",
       "109              -0.556326        0.720852             0.265349    0.708831   \n",
       "\n",
       "     Area_km2  Density_km2  Year_x  Meningitis  Neoplasms  \\\n",
       "144 -0.402022     0.022242     0.0   -0.378342   0.239083   \n",
       "154 -0.388998    -0.122698     0.0   -0.500812   1.625335   \n",
       "157  0.403482    -0.156620     0.0    0.036050  -0.488338   \n",
       "8    4.674204    -0.183757     0.0   -0.516522   0.727436   \n",
       "173 -0.398991    -0.018464     0.0   -0.424882   0.017654   \n",
       "..        ...          ...     ...         ...        ...   \n",
       "17  -0.387220    -0.175123     0.0   -0.465568  -0.657083   \n",
       "98  -0.359281    -0.159087     0.0   -0.458155   1.384016   \n",
       "66  -0.315287    -0.136266     0.0   -0.501363   1.926332   \n",
       "126 -0.385407    -0.135650     0.0   -0.508171   1.180707   \n",
       "109  0.894071    -0.146135     0.0   -0.481947  -0.593906   \n",
       "\n",
       "     Fire, heat, and hot substances  ...  Cardiovascular diseases  \\\n",
       "144                       -0.051878  ...                -0.009505   \n",
       "154                       -0.931643  ...                 0.836701   \n",
       "157                        1.614256  ...                -0.674371   \n",
       "8                         -1.003608  ...                -0.256128   \n",
       "173                       -0.160592  ...                 0.275179   \n",
       "..                              ...  ...                      ...   \n",
       "17                        -0.527254  ...                -0.816906   \n",
       "98                         0.335022  ...                 3.343020   \n",
       "66                        -0.541234  ...                 1.853185   \n",
       "126                       -0.857241  ...                 2.775715   \n",
       "109                       -0.633499  ...                -0.741183   \n",
       "\n",
       "     Chronic kidney disease  Chronic respiratory diseases  \\\n",
       "144                1.461036                     -0.016436   \n",
       "154               -0.764317                     -0.095089   \n",
       "157               -0.023453                     -0.090726   \n",
       "8                 -0.062250                      0.570014   \n",
       "173                1.917533                     -0.620671   \n",
       "..                      ...                           ...   \n",
       "17                 0.637475                     -0.629125   \n",
       "98                -1.033997                     -0.232585   \n",
       "66                 1.857805                      1.308740   \n",
       "126               -0.355284                     -0.069473   \n",
       "109                3.011826                     -0.105585   \n",
       "\n",
       "     Cirrhosis and other chronic liver diseases  Digestive diseases  \\\n",
       "144                                   -0.124667           -0.209598   \n",
       "154                                    0.709730            1.265352   \n",
       "157                                   -0.852900           -0.792569   \n",
       "8                                     -0.959549           -0.558363   \n",
       "173                                   -0.541465           -0.105360   \n",
       "..                                          ...                 ...   \n",
       "17                                    -0.230739           -0.541662   \n",
       "98                                     0.912452            2.134712   \n",
       "66                                    -0.590645            0.244693   \n",
       "126                                   -0.388691           -0.436643   \n",
       "109                                    1.551991            1.415959   \n",
       "\n",
       "     Acute hepatitis  Alzheimer's disease and other dementias  \\\n",
       "144        -0.648551                                 0.031821   \n",
       "154        -0.601520                                 2.204965   \n",
       "157        -0.438879                                -0.546020   \n",
       "8          -0.609302                                 1.206787   \n",
       "173        -0.578240                                 0.113031   \n",
       "..               ...                                      ...   \n",
       "17         -0.648551                                -0.488580   \n",
       "98         -0.613666                                 1.721561   \n",
       "66         -0.286353                                 2.316310   \n",
       "126        -0.601636                                -0.049348   \n",
       "109        -0.461147                                -0.165415   \n",
       "\n",
       "     Parkinson's disease     Total  air_polution  \n",
       "144             0.359850  0.029802     -0.350254  \n",
       "154             1.203002  0.975763     -0.562901  \n",
       "157            -0.745467  0.574663      0.071859  \n",
       "8               1.136186 -0.354042     -1.144025  \n",
       "173             0.017924  0.323504     -0.280503  \n",
       "..                   ...       ...           ...  \n",
       "17             -0.520958 -0.963068     -0.371758  \n",
       "98              1.187378  2.544196     -0.934373  \n",
       "66              2.468497  1.910941     -0.717339  \n",
       "126             0.879493  1.689676      0.316590  \n",
       "109            -0.315484 -0.605700     -0.391223  \n",
       "\n",
       "[143 rows x 40 columns]"
      ]
     },
     "execution_count": 27,
     "metadata": {},
     "output_type": "execute_result"
    }
   ],
   "source": [
    "X_scalar = StandardScaler().fit_transform(X_train)\n",
    "\n",
    "X_scalar"
   ]
  },
  {
   "cell_type": "code",
   "execution_count": 28,
   "metadata": {},
   "outputs": [],
   "source": [
    "data_train = BriskDataModule(X_scalar, y_train, batch_size=64)\n",
    "data_test = BriskDataModule(X_scalar, y_train, batch_size=64)\n",
    "# data.setup()"
   ]
  },
  {
   "cell_type": "code",
   "execution_count": 29,
   "metadata": {},
   "outputs": [
    {
     "name": "stdout",
     "output_type": "stream",
     "text": [
      "validation ended: MSE 1897442.0\n",
      "validation ended: MSE 1897204.75\n",
      "validation ended: MSE 1896811.5\n",
      "validation ended: MSE 1896110.625\n",
      "validation ended: MSE 1894888.5\n",
      "validation ended: MSE 1892832.875\n",
      "validation ended: MSE 1889514.0\n",
      "validation ended: MSE 1884341.0\n",
      "validation ended: MSE 1876602.0\n",
      "validation ended: MSE 1865529.0\n",
      "validation ended: MSE 1850493.375\n",
      "validation ended: MSE 1831431.25\n",
      "validation ended: MSE 1809683.75\n",
      "validation ended: MSE 1789465.375\n",
      "validation ended: MSE 1780288.125\n",
      "validation ended: MSE 1798914.25\n",
      "validation ended: MSE 1863102.5\n",
      "validation ended: MSE 1962382.0\n",
      "validation ended: MSE 2056829.125\n",
      "validation ended: MSE 2122387.75\n",
      "validation ended: MSE 2159193.25\n",
      "validation ended: MSE 2177383.5\n",
      "validation ended: MSE 2187097.0\n",
      "validation ended: MSE 2195863.0\n",
      "validation ended: MSE 2209091.75\n",
      "validation ended: MSE 2230343.75\n",
      "validation ended: MSE 2260299.5\n",
      "validation ended: MSE 2295173.25\n",
      "validation ended: MSE 2327903.0\n",
      "validation ended: MSE 2352341.25\n",
      "validation ended: MSE 2366429.0\n",
      "validation ended: MSE 2371709.5\n",
      "validation ended: MSE 2371295.25\n",
      "validation ended: MSE 2368065.0\n",
      "validation ended: MSE 2364071.25\n",
      "validation ended: MSE 2360365.75\n",
      "validation ended: MSE 2356823.75\n",
      "validation ended: MSE 2352474.5\n",
      "validation ended: MSE 2346209.0\n",
      "validation ended: MSE 2337509.5\n",
      "validation ended: MSE 2326572.75\n",
      "validation ended: MSE 2314138.75\n",
      "validation ended: MSE 2301047.75\n",
      "validation ended: MSE 2288058.75\n",
      "validation ended: MSE 2275646.75\n",
      "validation ended: MSE 2263844.75\n",
      "validation ended: MSE 2252403.5\n",
      "validation ended: MSE 2241105.25\n",
      "validation ended: MSE 2229883.25\n",
      "validation ended: MSE 2218775.5\n",
      "validation ended: MSE 2207993.0\n",
      "training ended: MSE 827453.25\n"
     ]
    }
   ],
   "source": [
    "trainer = pl.Trainer(min_epochs=10, max_epochs=50, enable_progress_bar=False)\n",
    "trainer.fit(clf, data)"
   ]
  },
  {
   "cell_type": "code",
   "execution_count": 31,
   "metadata": {},
   "outputs": [
    {
     "name": "stdout",
     "output_type": "stream",
     "text": [
      "validation ended: MSE 2197625.0\n"
     ]
    },
    {
     "data": {
      "text/plain": [
       "[{}]"
      ]
     },
     "execution_count": 31,
     "metadata": {},
     "output_type": "execute_result"
    }
   ],
   "source": [
    "trainer.validate(clf, data)"
   ]
  },
  {
   "cell_type": "code",
   "execution_count": null,
   "metadata": {},
   "outputs": [],
   "source": [
    "trainer.test(clf, data)"
   ]
  },
  {
   "cell_type": "code",
   "execution_count": null,
   "metadata": {},
   "outputs": [],
   "source": [
    "params = {\n",
    "        'N_LAYERS' : 8,\n",
    "        'MAX_N_NEURONS' : 256,\n",
    "        'EPOCHS' : 300,\n",
    "        'N_TRIALS' : 1000,\n",
    "        'RANDOM_STATE' : 432,\n",
    "        'TEMP_PATH' : \"/mnt/c/Users/rwmas/GitHub/xai/xai_api/app/ml/models/saved/temp/\",\n",
    "        'MODEL_SAVE_PATH' : \"/mnt/c/Users/rwmas/GitHub/xai/xai_api/app/ml/models/saved/base/brisk_nn_pytorch/\",\n",
    "        'DROP_LIST' : ['location'],\n",
    "        'STD_DEMON' : 3,\n",
    "        'NUM_RERUNS' : 5\n",
    "}"
   ]
  },
  {
   "cell_type": "code",
   "execution_count": 6,
   "metadata": {},
   "outputs": [
    {
     "ename": "NameError",
     "evalue": "name 'params' is not defined",
     "output_type": "error",
     "traceback": [
      "\u001b[0;31m---------------------------------------------------------------------------\u001b[0m",
      "\u001b[0;31mNameError\u001b[0m                                 Traceback (most recent call last)",
      "\u001b[1;32m/mnt/c/Users/rwmas/GitHub/xai/xai_api/app/notebooks/brisk_models.ipynb Cell 33\u001b[0m in \u001b[0;36m<cell line: 2>\u001b[0;34m()\u001b[0m\n\u001b[1;32m      <a href='vscode-notebook-cell://wsl%2Bubuntu/mnt/c/Users/rwmas/GitHub/xai/xai_api/app/notebooks/brisk_models.ipynb#X65sdnNjb2RlLXJlbW90ZQ%3D%3D?line=0'>1</a>\u001b[0m \u001b[39mimport\u001b[39;00m \u001b[39mpprint\u001b[39;00m\n\u001b[0;32m----> <a href='vscode-notebook-cell://wsl%2Bubuntu/mnt/c/Users/rwmas/GitHub/xai/xai_api/app/notebooks/brisk_models.ipynb#X65sdnNjb2RlLXJlbW90ZQ%3D%3D?line=1'>2</a>\u001b[0m pprint(params)\n",
      "\u001b[0;31mNameError\u001b[0m: name 'params' is not defined"
     ]
    }
   ],
   "source": [
    "import pprint\n",
    "pprint(params)"
   ]
  },
  {
   "cell_type": "markdown",
   "metadata": {},
   "source": [
    "Fit DNN Pytorch"
   ]
  },
  {
   "cell_type": "code",
   "execution_count": 5,
   "metadata": {},
   "outputs": [
    {
     "name": "stderr",
     "output_type": "stream",
     "text": [
      "2022-09-30 15:14:10,413 - distributed.diskutils - INFO - Found stale lock file and directory '/tmp/dask-worker-space/worker-892z8jg0', purging\n",
      "2022-09-30 15:14:10,414 - distributed.diskutils - INFO - Found stale lock file and directory '/tmp/dask-worker-space/worker-sf1x5ouu', purging\n",
      "2022-09-30 15:14:10,414 - distributed.diskutils - INFO - Found stale lock file and directory '/tmp/dask-worker-space/worker-83zq909o', purging\n",
      "2022-09-30 15:14:10,414 - distributed.diskutils - INFO - Found stale lock file and directory '/tmp/dask-worker-space/worker-8wks8wqt', purging\n"
     ]
    },
    {
     "name": "stdout",
     "output_type": "stream",
     "text": [
      "Dask dashboard is available at http://127.0.0.1:8787/status\n",
      "########## Re-running the discovery process ###############\n",
      "Starting train for trials:1000 with epochs:300\n"
     ]
    },
    {
     "name": "stderr",
     "output_type": "stream",
     "text": [
      "\u001b[32m[I 2022-09-30 15:14:52,042]\u001b[0m Trial 4 finished with value: 849429.125 and parameters: {'learning_rate': 0.0556998728419015, 'optimizer': 'Adam', 'batch_size': 512, 'n_layers': 5, 'n_units_l0': 202, 'n_units_l1': 174, 'n_units_l2': 252, 'n_units_l3': 180, 'n_units_l4': 156}. Best is trial 4 with value: 849429.125.\u001b[0m\n",
      "\u001b[32m[I 2022-09-30 15:14:59,740]\u001b[0m Trial 12 finished with value: 5370762.5 and parameters: {'learning_rate': 0.04985527571629453, 'optimizer': 'Adam', 'batch_size': 64, 'n_layers': 1, 'n_units_l0': 38}. Best is trial 4 with value: 849429.125.\u001b[0m\n",
      "\u001b[32m[I 2022-09-30 15:15:11,917]\u001b[0m Trial 7 finished with value: 1555972.125 and parameters: {'learning_rate': 0.034619974193629825, 'optimizer': 'Adam', 'batch_size': 2048, 'n_layers': 5, 'n_units_l0': 141, 'n_units_l1': 88, 'n_units_l2': 248, 'n_units_l3': 47, 'n_units_l4': 201}. Best is trial 4 with value: 849429.125.\u001b[0m\n",
      "\u001b[32m[I 2022-09-30 15:15:15,397]\u001b[0m Trial 6 finished with value: 1555972.125 and parameters: {'learning_rate': 0.013715059200248817, 'optimizer': 'NAdam', 'batch_size': 1024, 'n_layers': 4, 'n_units_l0': 251, 'n_units_l1': 59, 'n_units_l2': 228, 'n_units_l3': 142}. Best is trial 4 with value: 849429.125.\u001b[0m\n",
      "\u001b[32m[I 2022-09-30 15:15:15,501]\u001b[0m Trial 14 finished with value: 1555972.125 and parameters: {'learning_rate': 0.00091076593054337, 'optimizer': 'NAdam', 'batch_size': 128, 'n_layers': 4, 'n_units_l0': 41, 'n_units_l1': 138, 'n_units_l2': 191, 'n_units_l3': 73}. Best is trial 4 with value: 849429.125.\u001b[0m\n",
      "\u001b[32m[I 2022-09-30 15:15:16,419]\u001b[0m Trial 10 finished with value: 1555573.125 and parameters: {'learning_rate': 1.4032479086688991e-05, 'optimizer': 'Adam', 'batch_size': 1024, 'n_layers': 8, 'n_units_l0': 70, 'n_units_l1': 149, 'n_units_l2': 79, 'n_units_l3': 33, 'n_units_l4': 108, 'n_units_l5': 200, 'n_units_l6': 212, 'n_units_l7': 83}. Best is trial 4 with value: 849429.125.\u001b[0m\n",
      "\u001b[32m[I 2022-09-30 15:15:17,044]\u001b[0m Trial 11 finished with value: 1555972.125 and parameters: {'learning_rate': 0.0004308562424308548, 'optimizer': 'NAdam', 'batch_size': 128, 'n_layers': 7, 'n_units_l0': 200, 'n_units_l1': 31, 'n_units_l2': 48, 'n_units_l3': 189, 'n_units_l4': 17, 'n_units_l5': 78, 'n_units_l6': 233}. Best is trial 4 with value: 849429.125.\u001b[0m\n",
      "\u001b[32m[I 2022-09-30 15:15:24,968]\u001b[0m Trial 9 finished with value: 1068431.75 and parameters: {'learning_rate': 0.09235408248284878, 'optimizer': 'NAdam', 'batch_size': 32, 'n_layers': 3, 'n_units_l0': 88, 'n_units_l1': 245, 'n_units_l2': 6}. Best is trial 4 with value: 849429.125.\u001b[0m\n",
      "\u001b[32m[I 2022-09-30 15:15:38,558]\u001b[0m Trial 8 finished with value: 712186.125 and parameters: {'learning_rate': 0.00010775472418191089, 'optimizer': 'NAdam', 'batch_size': 512, 'n_layers': 7, 'n_units_l0': 213, 'n_units_l1': 210, 'n_units_l2': 113, 'n_units_l3': 159, 'n_units_l4': 109, 'n_units_l5': 91, 'n_units_l6': 245}. Best is trial 8 with value: 712186.125.\u001b[0m\n",
      "\u001b[32m[I 2022-09-30 15:15:48,952]\u001b[0m Trial 16 finished with value: 1555972.125 and parameters: {'learning_rate': 3.197066117969919e-05, 'optimizer': 'Adam', 'batch_size': 32, 'n_layers': 5, 'n_units_l0': 46, 'n_units_l1': 141, 'n_units_l2': 35, 'n_units_l3': 12, 'n_units_l4': 187}. Best is trial 8 with value: 712186.125.\u001b[0m\n",
      "\u001b[32m[I 2022-09-30 15:15:50,238]\u001b[0m Trial 0 finished with value: 616363.875 and parameters: {'learning_rate': 0.01943770217021923, 'optimizer': 'NAdam', 'batch_size': 64, 'n_layers': 4, 'n_units_l0': 16, 'n_units_l1': 190, 'n_units_l2': 215, 'n_units_l3': 240}. Best is trial 0 with value: 616363.875.\u001b[0m\n",
      "\u001b[32m[I 2022-09-30 15:15:51,853]\u001b[0m Trial 20 finished with value: 665989.125 and parameters: {'learning_rate': 0.011450261631928497, 'optimizer': 'NAdam', 'batch_size': 64, 'n_layers': 1, 'n_units_l0': 139}. Best is trial 0 with value: 616363.875.\u001b[0m\n",
      "\u001b[32m[I 2022-09-30 15:15:56,443]\u001b[0m Trial 3 finished with value: 1555972.125 and parameters: {'learning_rate': 0.04323355011173993, 'optimizer': 'Adamax', 'batch_size': 512, 'n_layers': 6, 'n_units_l0': 36, 'n_units_l1': 41, 'n_units_l2': 36, 'n_units_l3': 193, 'n_units_l4': 10, 'n_units_l5': 56}. Best is trial 0 with value: 616363.875.\u001b[0m\n",
      "\u001b[32m[I 2022-09-30 15:16:06,725]\u001b[0m Trial 2 finished with value: 1797973.15625 and parameters: {'learning_rate': 5.090106899912118e-05, 'optimizer': 'Adam', 'batch_size': 16, 'n_layers': 5, 'n_units_l0': 25, 'n_units_l1': 18, 'n_units_l2': 105, 'n_units_l3': 250, 'n_units_l4': 65}. Best is trial 0 with value: 616363.875.\u001b[0m\n",
      "\u001b[32m[I 2022-09-30 15:16:10,184]\u001b[0m Trial 18 finished with value: 1262474.75 and parameters: {'learning_rate': 9.084605989102956e-05, 'optimizer': 'Adam', 'batch_size': 512, 'n_layers': 3, 'n_units_l0': 98, 'n_units_l1': 197, 'n_units_l2': 155}. Best is trial 0 with value: 616363.875.\u001b[0m\n",
      "\u001b[32m[I 2022-09-30 15:16:11,316]\u001b[0m Trial 22 finished with value: 814298.3125 and parameters: {'learning_rate': 0.012021614532238378, 'optimizer': 'Adamax', 'batch_size': 32, 'n_layers': 2, 'n_units_l0': 151, 'n_units_l1': 173}. Best is trial 0 with value: 616363.875.\u001b[0m\n",
      "\u001b[32m[I 2022-09-30 15:16:12,364]\u001b[0m Trial 19 finished with value: 1555972.125 and parameters: {'learning_rate': 0.0002323410236997775, 'optimizer': 'NAdam', 'batch_size': 128, 'n_layers': 7, 'n_units_l0': 91, 'n_units_l1': 204, 'n_units_l2': 30, 'n_units_l3': 48, 'n_units_l4': 72, 'n_units_l5': 243, 'n_units_l6': 137}. Best is trial 0 with value: 616363.875.\u001b[0m\n",
      "\u001b[32m[I 2022-09-30 15:16:26,231]\u001b[0m Trial 1 finished with value: 1555972.125 and parameters: {'learning_rate': 0.09979399017241077, 'optimizer': 'Adamax', 'batch_size': 1024, 'n_layers': 7, 'n_units_l0': 153, 'n_units_l1': 225, 'n_units_l2': 133, 'n_units_l3': 255, 'n_units_l4': 71, 'n_units_l5': 5, 'n_units_l6': 8}. Best is trial 0 with value: 616363.875.\u001b[0m\n",
      "\u001b[32m[I 2022-09-30 15:16:36,952]\u001b[0m Trial 13 finished with value: 31404420.0 and parameters: {'learning_rate': 0.07471475211260119, 'optimizer': 'NAdam', 'batch_size': 8, 'n_layers': 1, 'n_units_l0': 135}. Best is trial 0 with value: 616363.875.\u001b[0m\n",
      "\u001b[32m[I 2022-09-30 15:16:39,232]\u001b[0m Trial 25 finished with value: 896529.9375 and parameters: {'learning_rate': 0.0018080702309256303, 'optimizer': 'Adam', 'batch_size': 512, 'n_layers': 1, 'n_units_l0': 131}. Best is trial 0 with value: 616363.875.\u001b[0m\n",
      "\u001b[32m[I 2022-09-30 15:16:39,801]\u001b[0m Trial 23 finished with value: 1555272.0 and parameters: {'learning_rate': 1.8952119405980265e-05, 'optimizer': 'Adam', 'batch_size': 2048, 'n_layers': 1, 'n_units_l0': 130}. Best is trial 0 with value: 616363.875.\u001b[0m\n",
      "\u001b[32m[I 2022-09-30 15:16:40,759]\u001b[0m Trial 27 finished with value: 1546361.25 and parameters: {'learning_rate': 0.0002464820456045536, 'optimizer': 'Adamax', 'batch_size': 128, 'n_layers': 1, 'n_units_l0': 130}. Best is trial 0 with value: 616363.875.\u001b[0m\n",
      "\u001b[32m[I 2022-09-30 15:17:07,207]\u001b[0m Trial 21 finished with value: 4082836.6640625 and parameters: {'learning_rate': 0.00032457697435305313, 'optimizer': 'Adamax', 'batch_size': 8, 'n_layers': 1, 'n_units_l0': 137}. Best is trial 0 with value: 616363.875.\u001b[0m\n",
      "\u001b[32m[I 2022-09-30 15:17:14,237]\u001b[0m Trial 31 finished with value: 587144.75 and parameters: {'learning_rate': 0.0051858629035344385, 'optimizer': 'Adamax', 'batch_size': 64, 'n_layers': 2, 'n_units_l0': 182, 'n_units_l1': 98}. Best is trial 31 with value: 587144.75.\u001b[0m\n",
      "\u001b[32m[I 2022-09-30 15:17:25,461]\u001b[0m Trial 5 finished with value: 3068014.75 and parameters: {'learning_rate': 0.006238494219348407, 'optimizer': 'NAdam', 'batch_size': 32, 'n_layers': 7, 'n_units_l0': 245, 'n_units_l1': 250, 'n_units_l2': 150, 'n_units_l3': 234, 'n_units_l4': 74, 'n_units_l5': 5, 'n_units_l6': 7}. Best is trial 31 with value: 587144.75.\u001b[0m\n",
      "\u001b[32m[I 2022-09-30 15:17:31,493]\u001b[0m Trial 29 finished with value: 1555972.125 and parameters: {'learning_rate': 9.185549339348694e-05, 'optimizer': 'Adamax', 'batch_size': 512, 'n_layers': 8, 'n_units_l0': 189, 'n_units_l1': 249, 'n_units_l2': 179, 'n_units_l3': 114, 'n_units_l4': 246, 'n_units_l5': 147, 'n_units_l6': 3, 'n_units_l7': 256}. Best is trial 31 with value: 587144.75.\u001b[0m\n",
      "\u001b[32m[I 2022-09-30 15:17:32,936]\u001b[0m Trial 15 finished with value: 598069.9375 and parameters: {'learning_rate': 0.0014290483269722765, 'optimizer': 'Adamax', 'batch_size': 128, 'n_layers': 8, 'n_units_l0': 182, 'n_units_l1': 253, 'n_units_l2': 180, 'n_units_l3': 107, 'n_units_l4': 129, 'n_units_l5': 149, 'n_units_l6': 17, 'n_units_l7': 256}. Best is trial 31 with value: 587144.75.\u001b[0m\n",
      "\u001b[32m[I 2022-09-30 15:17:41,326]\u001b[0m Trial 17 finished with value: 5478443.4375 and parameters: {'learning_rate': 0.01370540559080367, 'optimizer': 'Adam', 'batch_size': 8, 'n_layers': 6, 'n_units_l0': 97, 'n_units_l1': 108, 'n_units_l2': 226, 'n_units_l3': 250, 'n_units_l4': 96, 'n_units_l5': 185}. Best is trial 31 with value: 587144.75.\u001b[0m\n",
      "\u001b[32m[I 2022-09-30 15:17:58,634]\u001b[0m Trial 24 finished with value: 924954.6875 and parameters: {'learning_rate': 0.00034641718818568347, 'optimizer': 'NAdam', 'batch_size': 128, 'n_layers': 2, 'n_units_l0': 176, 'n_units_l1': 99}. Best is trial 31 with value: 587144.75.\u001b[0m\n",
      "\u001b[32m[I 2022-09-30 15:18:14,150]\u001b[0m Trial 26 finished with value: 796668.75 and parameters: {'learning_rate': 0.00032158252545383414, 'optimizer': 'Adamax', 'batch_size': 32, 'n_layers': 3, 'n_units_l0': 186, 'n_units_l1': 254, 'n_units_l2': 181}. Best is trial 31 with value: 587144.75.\u001b[0m\n",
      "\u001b[32m[I 2022-09-30 15:18:35,022]\u001b[0m Trial 28 finished with value: 851472.875 and parameters: {'learning_rate': 0.06807104931898182, 'optimizer': 'Adamax', 'batch_size': 128, 'n_layers': 3, 'n_units_l0': 228, 'n_units_l1': 81, 'n_units_l2': 197}. Best is trial 31 with value: 587144.75.\u001b[0m\n",
      "\u001b[32m[I 2022-09-30 15:18:52,026]\u001b[0m Trial 34 finished with value: 772629.875 and parameters: {'learning_rate': 0.004024675564080681, 'optimizer': 'NAdam', 'batch_size': 64, 'n_layers': 2, 'n_units_l0': 163, 'n_units_l1': 73}. Best is trial 31 with value: 587144.75.\u001b[0m\n",
      "\u001b[32m[I 2022-09-30 15:18:52,685]\u001b[0m Trial 52 finished with value: 1555972.125 and parameters: {'learning_rate': 0.002656190512030018, 'optimizer': 'Adamax', 'batch_size': 64, 'n_layers': 2, 'n_units_l0': 3, 'n_units_l1': 81}. Best is trial 31 with value: 587144.75.\u001b[0m\n",
      "\u001b[32m[I 2022-09-30 15:18:52,736]\u001b[0m Trial 36 finished with value: 894299.6875 and parameters: {'learning_rate': 0.004123848561619911, 'optimizer': 'NAdam', 'batch_size': 64, 'n_layers': 2, 'n_units_l0': 219, 'n_units_l1': 74}. Best is trial 31 with value: 587144.75.\u001b[0m\n",
      "\u001b[32m[I 2022-09-30 15:18:55,463]\u001b[0m Trial 30 finished with value: 2898665.75 and parameters: {'learning_rate': 0.00012083894414743623, 'optimizer': 'Adamax', 'batch_size': 16, 'n_layers': 2, 'n_units_l0': 180, 'n_units_l1': 93}. Best is trial 31 with value: 587144.75.\u001b[0m\n",
      "\u001b[32m[I 2022-09-30 15:19:06,362]\u001b[0m Trial 51 finished with value: 690097.5625 and parameters: {'learning_rate': 0.002068491341257336, 'optimizer': 'Adamax', 'batch_size': 64, 'n_layers': 2, 'n_units_l0': 224, 'n_units_l1': 70}. Best is trial 31 with value: 587144.75.\u001b[0m\n",
      "\u001b[32m[I 2022-09-30 15:19:11,844]\u001b[0m Trial 45 finished with value: 667892.625 and parameters: {'learning_rate': 0.0033117862201994795, 'optimizer': 'NAdam', 'batch_size': 64, 'n_layers': 2, 'n_units_l0': 233, 'n_units_l1': 63}. Best is trial 31 with value: 587144.75.\u001b[0m\n",
      "\u001b[32m[I 2022-09-30 15:19:16,796]\u001b[0m Trial 42 finished with value: 622232.5625 and parameters: {'learning_rate': 0.0058520324133049355, 'optimizer': 'NAdam', 'batch_size': 64, 'n_layers': 2, 'n_units_l0': 3, 'n_units_l1': 71}. Best is trial 31 with value: 587144.75.\u001b[0m\n",
      "\u001b[32m[I 2022-09-30 15:19:19,043]\u001b[0m Trial 39 finished with value: 664323.0 and parameters: {'learning_rate': 0.0035206318781951192, 'optimizer': 'NAdam', 'batch_size': 64, 'n_layers': 2, 'n_units_l0': 167, 'n_units_l1': 71}. Best is trial 31 with value: 587144.75.\u001b[0m\n",
      "\u001b[32m[I 2022-09-30 15:19:20,405]\u001b[0m Trial 44 finished with value: 1555972.125 and parameters: {'learning_rate': 0.004313954196124685, 'optimizer': 'NAdam', 'batch_size': 64, 'n_layers': 2, 'n_units_l0': 223, 'n_units_l1': 74}. Best is trial 31 with value: 587144.75.\u001b[0m\n",
      "\u001b[32m[I 2022-09-30 15:19:30,808]\u001b[0m Trial 47 finished with value: 1555972.125 and parameters: {'learning_rate': 0.0030367461473183974, 'optimizer': 'NAdam', 'batch_size': 64, 'n_layers': 4, 'n_units_l0': 226, 'n_units_l1': 66, 'n_units_l2': 214, 'n_units_l3': 101}. Best is trial 31 with value: 587144.75.\u001b[0m\n",
      "\u001b[32m[I 2022-09-30 15:19:51,207]\u001b[0m Trial 53 finished with value: 1555972.125 and parameters: {'learning_rate': 0.0026658335702354516, 'optimizer': 'Adamax', 'batch_size': 64, 'n_layers': 6, 'n_units_l0': 111, 'n_units_l1': 118, 'n_units_l2': 224, 'n_units_l3': 103, 'n_units_l4': 154, 'n_units_l5': 145}. Best is trial 31 with value: 587144.75.\u001b[0m\n",
      "\u001b[32m[I 2022-09-30 15:19:54,009]\u001b[0m Trial 48 finished with value: 1443411.5 and parameters: {'learning_rate': 0.004094720337371723, 'optimizer': 'NAdam', 'batch_size': 64, 'n_layers': 6, 'n_units_l0': 164, 'n_units_l1': 227, 'n_units_l2': 206, 'n_units_l3': 86, 'n_units_l4': 255, 'n_units_l5': 134}. Best is trial 31 with value: 587144.75.\u001b[0m\n",
      "\u001b[32m[I 2022-09-30 15:20:10,210]\u001b[0m Trial 50 finished with value: 667014.875 and parameters: {'learning_rate': 0.0034268957754878325, 'optimizer': 'Adamax', 'batch_size': 64, 'n_layers': 4, 'n_units_l0': 2, 'n_units_l1': 120, 'n_units_l2': 217, 'n_units_l3': 103}. Best is trial 31 with value: 587144.75.\u001b[0m\n",
      "\u001b[32m[I 2022-09-30 15:20:21,829]\u001b[0m Trial 35 finished with value: 1555972.125 and parameters: {'learning_rate': 0.0044142645915892665, 'optimizer': 'NAdam', 'batch_size': 64, 'n_layers': 4, 'n_units_l0': 9, 'n_units_l1': 116, 'n_units_l2': 216, 'n_units_l3': 99}. Best is trial 31 with value: 587144.75.\u001b[0m\n",
      "\u001b[32m[I 2022-09-30 15:20:23,491]\u001b[0m Trial 43 finished with value: 1555972.125 and parameters: {'learning_rate': 0.0049560945528195136, 'optimizer': 'NAdam', 'batch_size': 64, 'n_layers': 4, 'n_units_l0': 4, 'n_units_l1': 113, 'n_units_l2': 216, 'n_units_l3': 108}. Best is trial 31 with value: 587144.75.\u001b[0m\n",
      "\u001b[32m[I 2022-09-30 15:21:07,631]\u001b[0m Trial 40 finished with value: 7944688.5 and parameters: {'learning_rate': 0.005515726151259461, 'optimizer': 'NAdam', 'batch_size': 64, 'n_layers': 3, 'n_units_l0': 206, 'n_units_l1': 52, 'n_units_l2': 164}. Best is trial 31 with value: 587144.75.\u001b[0m\n",
      "\u001b[32m[I 2022-09-30 15:21:09,374]\u001b[0m Trial 32 finished with value: 699174.0625 and parameters: {'learning_rate': 0.005477826412660647, 'optimizer': 'Adamax', 'batch_size': 64, 'n_layers': 3, 'n_units_l0': 21, 'n_units_l1': 47, 'n_units_l2': 152}. Best is trial 31 with value: 587144.75.\u001b[0m\n",
      "\u001b[32m[I 2022-09-30 15:21:18,826]\u001b[0m Trial 33 finished with value: 1013373.875 and parameters: {'learning_rate': 0.005117166729377729, 'optimizer': 'NAdam', 'batch_size': 64, 'n_layers': 3, 'n_units_l0': 206, 'n_units_l1': 8, 'n_units_l2': 157}. Best is trial 31 with value: 587144.75.\u001b[0m\n",
      "\u001b[32m[I 2022-09-30 15:21:48,297]\u001b[0m Trial 49 finished with value: 1555972.125 and parameters: {'learning_rate': 0.003374215504847649, 'optimizer': 'Adamax', 'batch_size': 64, 'n_layers': 3, 'n_units_l0': 58, 'n_units_l1': 48, 'n_units_l2': 144}. Best is trial 31 with value: 587144.75.\u001b[0m\n",
      "\u001b[32m[I 2022-09-30 15:22:18,030]\u001b[0m Trial 38 finished with value: 1555972.125 and parameters: {'learning_rate': 0.00446982509236702, 'optimizer': 'NAdam', 'batch_size': 64, 'n_layers': 5, 'n_units_l0': 155, 'n_units_l1': 4, 'n_units_l2': 119, 'n_units_l3': 218, 'n_units_l4': 203}. Best is trial 31 with value: 587144.75.\u001b[0m\n",
      "\u001b[32m[I 2022-09-30 15:22:26,330]\u001b[0m Trial 46 finished with value: 1013481.75 and parameters: {'learning_rate': 0.0032043227991903666, 'optimizer': 'NAdam', 'batch_size': 64, 'n_layers': 5, 'n_units_l0': 61, 'n_units_l1': 36, 'n_units_l2': 130, 'n_units_l3': 217, 'n_units_l4': 210}. Best is trial 31 with value: 587144.75.\u001b[0m\n",
      "\u001b[32m[I 2022-09-30 15:22:34,075]\u001b[0m Trial 41 finished with value: 1555972.125 and parameters: {'learning_rate': 0.003522946115417696, 'optimizer': 'NAdam', 'batch_size': 64, 'n_layers': 3, 'n_units_l0': 160, 'n_units_l1': 155, 'n_units_l2': 125}. Best is trial 31 with value: 587144.75.\u001b[0m\n",
      "\u001b[32m[I 2022-09-30 15:22:40,747]\u001b[0m Trial 37 finished with value: 731351.0 and parameters: {'learning_rate': 0.003902102712743609, 'optimizer': 'NAdam', 'batch_size': 64, 'n_layers': 1, 'n_units_l0': 118}. Best is trial 31 with value: 587144.75.\u001b[0m\n",
      "\u001b[32m[I 2022-09-30 15:22:40,897]\u001b[0m Trial 57 finished with value: 725702.5625 and parameters: {'learning_rate': 0.02491645471524918, 'optimizer': 'Adamax', 'batch_size': 64, 'n_layers': 1, 'n_units_l0': 166}. Best is trial 31 with value: 587144.75.\u001b[0m\n",
      "\u001b[32m[I 2022-09-30 15:23:08,371]\u001b[0m Trial 74 finished with value: 2344699.75 and parameters: {'learning_rate': 0.025914091043977124, 'optimizer': 'NAdam', 'batch_size': 1024, 'n_layers': 1, 'n_units_l0': 146}. Best is trial 31 with value: 587144.75.\u001b[0m\n",
      "\u001b[32m[I 2022-09-30 15:23:08,687]\u001b[0m Trial 73 finished with value: 4704127.0 and parameters: {'learning_rate': 0.03063140455725176, 'optimizer': 'NAdam', 'batch_size': 1024, 'n_layers': 1, 'n_units_l0': 117}. Best is trial 31 with value: 587144.75.\u001b[0m\n",
      "\u001b[32m[I 2022-09-30 15:23:14,117]\u001b[0m Trial 59 finished with value: 621292.25 and parameters: {'learning_rate': 0.021232616502948515, 'optimizer': 'Adamax', 'batch_size': 64, 'n_layers': 1, 'n_units_l0': 111}. Best is trial 31 with value: 587144.75.\u001b[0m\n",
      "\u001b[32m[I 2022-09-30 15:23:14,301]\u001b[0m Trial 64 finished with value: 730090.0625 and parameters: {'learning_rate': 0.029308636563489563, 'optimizer': 'Adamax', 'batch_size': 64, 'n_layers': 1, 'n_units_l0': 114}. Best is trial 31 with value: 587144.75.\u001b[0m\n",
      "\u001b[32m[I 2022-09-30 15:23:14,777]\u001b[0m Trial 55 finished with value: 896630.125 and parameters: {'learning_rate': 0.0025163739139595436, 'optimizer': 'Adamax', 'batch_size': 64, 'n_layers': 1, 'n_units_l0': 168}. Best is trial 31 with value: 587144.75.\u001b[0m\n",
      "\u001b[32m[I 2022-09-30 15:23:17,365]\u001b[0m Trial 63 finished with value: 638218.0625 and parameters: {'learning_rate': 0.02236712751239092, 'optimizer': 'Adamax', 'batch_size': 64, 'n_layers': 1, 'n_units_l0': 116}. Best is trial 31 with value: 587144.75.\u001b[0m\n",
      "\u001b[32m[I 2022-09-30 15:23:44,928]\u001b[0m Trial 54 finished with value: 899436.9375 and parameters: {'learning_rate': 0.0029617073192147645, 'optimizer': 'Adamax', 'batch_size': 64, 'n_layers': 2, 'n_units_l0': 24, 'n_units_l1': 23}. Best is trial 31 with value: 587144.75.\u001b[0m\n",
      "\u001b[32m[I 2022-09-30 15:23:59,416]\u001b[0m Trial 75 finished with value: 774289.875 and parameters: {'learning_rate': 0.0250553839897112, 'optimizer': 'NAdam', 'batch_size': 1024, 'n_layers': 8, 'n_units_l0': 196, 'n_units_l1': 23, 'n_units_l2': 90, 'n_units_l3': 139, 'n_units_l4': 33, 'n_units_l5': 235, 'n_units_l6': 88, 'n_units_l7': 256}. Best is trial 31 with value: 587144.75.\u001b[0m\n",
      "\u001b[32m[I 2022-09-30 15:24:02,154]\u001b[0m Trial 70 finished with value: 1555972.125 and parameters: {'learning_rate': 0.028789664214482046, 'optimizer': 'Adamax', 'batch_size': 1024, 'n_layers': 8, 'n_units_l0': 81, 'n_units_l1': 25, 'n_units_l2': 247, 'n_units_l3': 147, 'n_units_l4': 40, 'n_units_l5': 239, 'n_units_l6': 81, 'n_units_l7': 246}. Best is trial 31 with value: 587144.75.\u001b[0m\n",
      "\u001b[32m[I 2022-09-30 15:24:19,027]\u001b[0m Trial 60 finished with value: 20326980.0 and parameters: {'learning_rate': 0.025220626921509212, 'optimizer': 'Adamax', 'batch_size': 64, 'n_layers': 2, 'n_units_l0': 186, 'n_units_l1': 230}. Best is trial 31 with value: 587144.75.\u001b[0m\n",
      "\u001b[32m[I 2022-09-30 15:24:30,445]\u001b[0m Trial 69 finished with value: 13089467.0 and parameters: {'learning_rate': 0.027538449853185064, 'optimizer': 'NAdam', 'batch_size': 1024, 'n_layers': 2, 'n_units_l0': 75, 'n_units_l1': 227}. Best is trial 31 with value: 587144.75.\u001b[0m\n",
      "\u001b[32m[I 2022-09-30 15:24:36,453]\u001b[0m Trial 58 finished with value: 1555972.125 and parameters: {'learning_rate': 0.02144675430755994, 'optimizer': 'Adamax', 'batch_size': 64, 'n_layers': 8, 'n_units_l0': 78, 'n_units_l1': 225, 'n_units_l2': 97, 'n_units_l3': 137, 'n_units_l4': 32, 'n_units_l5': 195, 'n_units_l6': 79, 'n_units_l7': 235}. Best is trial 31 with value: 587144.75.\u001b[0m\n",
      "\u001b[32m[I 2022-09-30 15:24:49,859]\u001b[0m Trial 65 finished with value: 15832185.0 and parameters: {'learning_rate': 0.025540228710456404, 'optimizer': 'NAdam', 'batch_size': 64, 'n_layers': 2, 'n_units_l0': 176, 'n_units_l1': 231}. Best is trial 31 with value: 587144.75.\u001b[0m\n",
      "\u001b[32m[I 2022-09-30 15:24:51,038]\u001b[0m Trial 56 finished with value: 12369169.0 and parameters: {'learning_rate': 0.02173441955499141, 'optimizer': 'Adamax', 'batch_size': 64, 'n_layers': 2, 'n_units_l0': 175, 'n_units_l1': 101}. Best is trial 31 with value: 587144.75.\u001b[0m\n",
      "\u001b[32m[I 2022-09-30 15:24:55,248]\u001b[0m Trial 61 finished with value: 88198030.625 and parameters: {'learning_rate': 0.025346609181997094, 'optimizer': 'Adamax', 'batch_size': 16, 'n_layers': 2, 'n_units_l0': 194, 'n_units_l1': 231}. Best is trial 31 with value: 587144.75.\u001b[0m\n",
      "\u001b[32m[I 2022-09-30 15:25:14,633]\u001b[0m Trial 62 finished with value: 1673446.5 and parameters: {'learning_rate': 0.024739035354434027, 'optimizer': 'Adamax', 'batch_size': 16, 'n_layers': 6, 'n_units_l0': 102, 'n_units_l1': 100, 'n_units_l2': 242, 'n_units_l3': 168, 'n_units_l4': 154, 'n_units_l5': 101}. Best is trial 31 with value: 587144.75.\u001b[0m\n",
      "\u001b[32m[I 2022-09-30 15:25:14,977]\u001b[0m Trial 68 finished with value: 20922342.5625 and parameters: {'learning_rate': 0.026866127268704063, 'optimizer': 'NAdam', 'batch_size': 16, 'n_layers': 2, 'n_units_l0': 192, 'n_units_l1': 237}. Best is trial 31 with value: 587144.75.\u001b[0m\n",
      "\u001b[32m[I 2022-09-30 15:25:39,718]\u001b[0m Trial 72 finished with value: 89895932.625 and parameters: {'learning_rate': 0.03388966955299801, 'optimizer': 'NAdam', 'batch_size': 16, 'n_layers': 1, 'n_units_l0': 179}. Best is trial 31 with value: 587144.75.\u001b[0m\n",
      "\u001b[32m[I 2022-09-30 15:26:01,551]\u001b[0m Trial 66 finished with value: 1346216.625 and parameters: {'learning_rate': 0.006934780413964318, 'optimizer': 'NAdam', 'batch_size': 16, 'n_layers': 1, 'n_units_l0': 103}. Best is trial 31 with value: 587144.75.\u001b[0m\n",
      "\u001b[32m[I 2022-09-30 15:26:21,135]\u001b[0m Trial 76 finished with value: 2557437.0625 and parameters: {'learning_rate': 0.009225066391593706, 'optimizer': 'NAdam', 'batch_size': 16, 'n_layers': 1, 'n_units_l0': 141}. Best is trial 31 with value: 587144.75.\u001b[0m\n",
      "\u001b[32m[I 2022-09-30 15:26:22,019]\u001b[0m Trial 71 finished with value: 29600433.25 and parameters: {'learning_rate': 0.022899016364430074, 'optimizer': 'NAdam', 'batch_size': 16, 'n_layers': 1, 'n_units_l0': 143}. Best is trial 31 with value: 587144.75.\u001b[0m\n",
      "\u001b[32m[I 2022-09-30 15:26:28,203]\u001b[0m Trial 67 finished with value: 47144780.625 and parameters: {'learning_rate': 0.025857200057615597, 'optimizer': 'NAdam', 'batch_size': 16, 'n_layers': 1, 'n_units_l0': 138}. Best is trial 31 with value: 587144.75.\u001b[0m\n",
      "\u001b[32m[I 2022-09-30 15:26:43,376]\u001b[0m Trial 84 finished with value: 734363.6875 and parameters: {'learning_rate': 0.010014712411377294, 'optimizer': 'Adamax', 'batch_size': 2048, 'n_layers': 1, 'n_units_l0': 142}. Best is trial 31 with value: 587144.75.\u001b[0m\n",
      "\u001b[32m[I 2022-09-30 15:26:43,774]\u001b[0m Trial 88 finished with value: 802673.5625 and parameters: {'learning_rate': 0.007633643782623285, 'optimizer': 'Adamax', 'batch_size': 2048, 'n_layers': 1, 'n_units_l0': 145}. Best is trial 31 with value: 587144.75.\u001b[0m\n",
      "\u001b[32m[I 2022-09-30 15:26:51,821]\u001b[0m Trial 95 finished with value: 667215.4375 and parameters: {'learning_rate': 0.008524944086127449, 'optimizer': 'Adam', 'batch_size': 2048, 'n_layers': 1, 'n_units_l0': 144}. Best is trial 31 with value: 587144.75.\u001b[0m\n",
      "\u001b[32m[I 2022-09-30 15:26:52,106]\u001b[0m Trial 96 finished with value: 695785.6875 and parameters: {'learning_rate': 0.010049145086804647, 'optimizer': 'Adam', 'batch_size': 2048, 'n_layers': 1, 'n_units_l0': 144}. Best is trial 31 with value: 587144.75.\u001b[0m\n",
      "\u001b[32m[I 2022-09-30 15:26:53,164]\u001b[0m Trial 91 finished with value: 799071.4375 and parameters: {'learning_rate': 0.008387087195043537, 'optimizer': 'Adamax', 'batch_size': 2048, 'n_layers': 1, 'n_units_l0': 125}. Best is trial 31 with value: 587144.75.\u001b[0m\n",
      "\u001b[32m[I 2022-09-30 15:27:10,154]\u001b[0m Trial 99 finished with value: 621668.125 and parameters: {'learning_rate': 0.0011514844637832092, 'optimizer': 'Adamax', 'batch_size': 128, 'n_layers': 4, 'n_units_l0': 14, 'n_units_l1': 184, 'n_units_l2': 180, 'n_units_l3': 74}. Best is trial 31 with value: 587144.75.\u001b[0m\n",
      "\u001b[32m[I 2022-09-30 15:27:12,983]\u001b[0m Trial 97 finished with value: 1398699.375 and parameters: {'learning_rate': 0.00990066656859391, 'optimizer': 'Adam', 'batch_size': 2048, 'n_layers': 7, 'n_units_l0': 31, 'n_units_l1': 179, 'n_units_l2': 173, 'n_units_l3': 73, 'n_units_l4': 140, 'n_units_l5': 49, 'n_units_l6': 170}. Best is trial 31 with value: 587144.75.\u001b[0m\n",
      "\u001b[32m[I 2022-09-30 15:27:27,009]\u001b[0m Trial 93 finished with value: 1555972.125 and parameters: {'learning_rate': 0.00805792175386377, 'optimizer': 'Adamax', 'batch_size': 2048, 'n_layers': 3, 'n_units_l0': 12, 'n_units_l1': 175, 'n_units_l2': 168}. Best is trial 31 with value: 587144.75.\u001b[0m\n",
      "\u001b[32m[I 2022-09-30 15:27:31,461]\u001b[0m Trial 105 finished with value: 828411.625 and parameters: {'learning_rate': 0.000635355613684556, 'optimizer': 'Adamax', 'batch_size': 128, 'n_layers': 4, 'n_units_l0': 10, 'n_units_l1': 131, 'n_units_l2': 201, 'n_units_l3': 124}. Best is trial 31 with value: 587144.75.\u001b[0m\n",
      "\u001b[32m[I 2022-09-30 15:27:34,161]\u001b[0m Trial 104 finished with value: 1555972.125 and parameters: {'learning_rate': 0.001102165121808237, 'optimizer': 'Adamax', 'batch_size': 128, 'n_layers': 4, 'n_units_l0': 13, 'n_units_l1': 191, 'n_units_l2': 180, 'n_units_l3': 66}. Best is trial 31 with value: 587144.75.\u001b[0m\n",
      "\u001b[32m[I 2022-09-30 15:27:53,329]\u001b[0m Trial 108 finished with value: 1555972.125 and parameters: {'learning_rate': 0.016270735439664896, 'optimizer': 'Adamax', 'batch_size': 128, 'n_layers': 5, 'n_units_l0': 151, 'n_units_l1': 163, 'n_units_l2': 241, 'n_units_l3': 7, 'n_units_l4': 226}. Best is trial 31 with value: 587144.75.\u001b[0m\n",
      "\u001b[32m[I 2022-09-30 15:27:56,487]\u001b[0m Trial 101 finished with value: 592758.375 and parameters: {'learning_rate': 0.0008388708558364086, 'optimizer': 'Adam', 'batch_size': 128, 'n_layers': 4, 'n_units_l0': 14, 'n_units_l1': 126, 'n_units_l2': 173, 'n_units_l3': 77}. Best is trial 31 with value: 587144.75.\u001b[0m\n",
      "\u001b[32m[I 2022-09-30 15:27:56,869]\u001b[0m Trial 98 finished with value: 1555972.125 and parameters: {'learning_rate': 0.0006485760297223728, 'optimizer': 'Adam', 'batch_size': 2048, 'n_layers': 4, 'n_units_l0': 15, 'n_units_l1': 176, 'n_units_l2': 172, 'n_units_l3': 70}. Best is trial 31 with value: 587144.75.\u001b[0m\n",
      "\u001b[32m[I 2022-09-30 15:27:58,660]\u001b[0m Trial 87 finished with value: 1555972.125 and parameters: {'learning_rate': 0.008186135446371767, 'optimizer': 'Adamax', 'batch_size': 2048, 'n_layers': 7, 'n_units_l0': 123, 'n_units_l1': 180, 'n_units_l2': 177, 'n_units_l3': 71, 'n_units_l4': 124, 'n_units_l5': 32, 'n_units_l6': 171}. Best is trial 31 with value: 587144.75.\u001b[0m\n",
      "\u001b[32m[I 2022-09-30 15:27:59,157]\u001b[0m Trial 102 finished with value: 784343.625 and parameters: {'learning_rate': 0.0011080642250398895, 'optimizer': 'Adamax', 'batch_size': 128, 'n_layers': 4, 'n_units_l0': 14, 'n_units_l1': 127, 'n_units_l2': 181, 'n_units_l3': 74}. Best is trial 31 with value: 587144.75.\u001b[0m\n",
      "\u001b[32m[I 2022-09-30 15:28:09,274]\u001b[0m Trial 106 finished with value: 1553946.75 and parameters: {'learning_rate': 0.0012622609990495283, 'optimizer': 'Adamax', 'batch_size': 128, 'n_layers': 4, 'n_units_l0': 13, 'n_units_l1': 131, 'n_units_l2': 197, 'n_units_l3': 1}. Best is trial 31 with value: 587144.75.\u001b[0m\n",
      "\u001b[32m[I 2022-09-30 15:28:18,310]\u001b[0m Trial 107 finished with value: 594655.0625 and parameters: {'learning_rate': 0.0014461051270586978, 'optimizer': 'Adamax', 'batch_size': 128, 'n_layers': 5, 'n_units_l0': 157, 'n_units_l1': 188, 'n_units_l2': 192, 'n_units_l3': 63, 'n_units_l4': 232}. Best is trial 31 with value: 587144.75.\u001b[0m\n",
      "\u001b[32m[I 2022-09-30 15:28:30,951]\u001b[0m Trial 82 finished with value: 577528.0 and parameters: {'learning_rate': 0.001367218504272623, 'optimizer': 'Adamax', 'batch_size': 2048, 'n_layers': 5, 'n_units_l0': 15, 'n_units_l1': 136, 'n_units_l2': 194, 'n_units_l3': 122, 'n_units_l4': 233}. Best is trial 82 with value: 577528.0.\u001b[0m\n",
      "\u001b[32m[I 2022-09-30 15:28:41,851]\u001b[0m Trial 78 finished with value: 1864746.03125 and parameters: {'learning_rate': 0.008163296190588368, 'optimizer': 'NAdam', 'batch_size': 16, 'n_layers': 1, 'n_units_l0': 149}. Best is trial 82 with value: 577528.0.\u001b[0m\n",
      "\u001b[32m[I 2022-09-30 15:28:48,652]\u001b[0m Trial 109 finished with value: 5261543.4375 and parameters: {'learning_rate': 0.04331667075308273, 'optimizer': 'Adamax', 'batch_size': 8, 'n_layers': 5, 'n_units_l0': 50, 'n_units_l1': 84, 'n_units_l2': 139, 'n_units_l3': 30, 'n_units_l4': 183}. Best is trial 82 with value: 577528.0.\u001b[0m\n",
      "\u001b[32m[I 2022-09-30 15:28:53,405]\u001b[0m Trial 80 finished with value: 3905920.0 and parameters: {'learning_rate': 0.008159785784772325, 'optimizer': 'Adamax', 'batch_size': 2048, 'n_layers': 4, 'n_units_l0': 45, 'n_units_l1': 88, 'n_units_l2': 137, 'n_units_l3': 51}. Best is trial 82 with value: 577528.0.\u001b[0m\n",
      "\u001b[32m[I 2022-09-30 15:28:58,128]\u001b[0m Trial 110 finished with value: 752661.75 and parameters: {'learning_rate': 0.0014927931682368254, 'optimizer': 'Adam', 'batch_size': 128, 'n_layers': 3, 'n_units_l0': 44, 'n_units_l1': 210, 'n_units_l2': 196}. Best is trial 82 with value: 577528.0.\u001b[0m\n",
      "\u001b[32m[I 2022-09-30 15:28:59,086]\u001b[0m Trial 100 finished with value: 582888.75 and parameters: {'learning_rate': 0.0011222738083341186, 'optimizer': 'Adam', 'batch_size': 128, 'n_layers': 3, 'n_units_l0': 43, 'n_units_l1': 210, 'n_units_l2': 141}. Best is trial 82 with value: 577528.0.\u001b[0m\n",
      "\u001b[32m[I 2022-09-30 15:29:00,214]\u001b[0m Trial 113 finished with value: 616445.25 and parameters: {'learning_rate': 0.0015407216142159362, 'optimizer': 'Adam', 'batch_size': 128, 'n_layers': 3, 'n_units_l0': 31, 'n_units_l1': 89, 'n_units_l2': 144}. Best is trial 82 with value: 577528.0.\u001b[0m\n",
      "\u001b[32m[I 2022-09-30 15:29:01,249]\u001b[0m Trial 112 finished with value: 618229.25 and parameters: {'learning_rate': 0.0016094148626373652, 'optimizer': 'Adam', 'batch_size': 128, 'n_layers': 3, 'n_units_l0': 47, 'n_units_l1': 146, 'n_units_l2': 137}. Best is trial 82 with value: 577528.0.\u001b[0m\n",
      "\u001b[32m[I 2022-09-30 15:29:01,904]\u001b[0m Trial 111 finished with value: 811623.125 and parameters: {'learning_rate': 0.0016472008222498022, 'optimizer': 'Adam', 'batch_size': 128, 'n_layers': 3, 'n_units_l0': 47, 'n_units_l1': 215, 'n_units_l2': 142}. Best is trial 82 with value: 577528.0.\u001b[0m\n",
      "\u001b[32m[I 2022-09-30 15:29:11,624]\u001b[0m Trial 103 finished with value: 622886.75 and parameters: {'learning_rate': 0.0011258678580746207, 'optimizer': 'Adamax', 'batch_size': 128, 'n_layers': 4, 'n_units_l0': 33, 'n_units_l1': 209, 'n_units_l2': 192, 'n_units_l3': 86}. Best is trial 82 with value: 577528.0.\u001b[0m\n",
      "\u001b[32m[I 2022-09-30 15:29:28,301]\u001b[0m Trial 89 finished with value: 1555972.125 and parameters: {'learning_rate': 0.0011520563876787377, 'optimizer': 'Adamax', 'batch_size': 2048, 'n_layers': 5, 'n_units_l0': 37, 'n_units_l1': 210, 'n_units_l2': 191, 'n_units_l3': 90, 'n_units_l4': 237}. Best is trial 82 with value: 577528.0.\u001b[0m\n",
      "\u001b[32m[I 2022-09-30 15:29:46,479]\u001b[0m Trial 122 finished with value: 744803.0 and parameters: {'learning_rate': 0.0008097908229208606, 'optimizer': 'Adam', 'batch_size': 128, 'n_layers': 5, 'n_units_l0': 30, 'n_units_l1': 143, 'n_units_l2': 161, 'n_units_l3': 88, 'n_units_l4': 235}. Best is trial 82 with value: 577528.0.\u001b[0m\n",
      "\u001b[32m[I 2022-09-30 15:29:47,392]\u001b[0m Trial 121 finished with value: 1555972.125 and parameters: {'learning_rate': 0.0007209251949066922, 'optimizer': 'Adam', 'batch_size': 128, 'n_layers': 5, 'n_units_l0': 30, 'n_units_l1': 190, 'n_units_l2': 186, 'n_units_l3': 87, 'n_units_l4': 235}. Best is trial 82 with value: 577528.0.\u001b[0m\n",
      "\u001b[32m[I 2022-09-30 15:29:51,646]\u001b[0m Trial 118 finished with value: 649992.375 and parameters: {'learning_rate': 0.0016632734155139928, 'optimizer': 'Adamax', 'batch_size': 128, 'n_layers': 5, 'n_units_l0': 32, 'n_units_l1': 190, 'n_units_l2': 186, 'n_units_l3': 85, 'n_units_l4': 250}. Best is trial 82 with value: 577528.0.\u001b[0m\n",
      "\u001b[32m[I 2022-09-30 15:29:52,329]\u001b[0m Trial 116 finished with value: 618149.8125 and parameters: {'learning_rate': 0.00155177238897775, 'optimizer': 'Adamax', 'batch_size': 128, 'n_layers': 5, 'n_units_l0': 31, 'n_units_l1': 190, 'n_units_l2': 186, 'n_units_l3': 124, 'n_units_l4': 235}. Best is trial 82 with value: 577528.0.\u001b[0m\n",
      "\u001b[32m[I 2022-09-30 15:29:57,247]\u001b[0m Trial 79 finished with value: 1555972.125 and parameters: {'learning_rate': 0.00877186601853324, 'optimizer': 'NAdam', 'batch_size': 2048, 'n_layers': 5, 'n_units_l0': 35, 'n_units_l1': 146, 'n_units_l2': 191, 'n_units_l3': 85, 'n_units_l4': 240}. Best is trial 82 with value: 577528.0.\u001b[0m\n",
      "\u001b[32m[I 2022-09-30 15:30:09,812]\u001b[0m Trial 85 finished with value: 1555972.125 and parameters: {'learning_rate': 0.0009630620664179359, 'optimizer': 'Adamax', 'batch_size': 2048, 'n_layers': 3, 'n_units_l0': 21, 'n_units_l1': 145, 'n_units_l2': 154}. Best is trial 82 with value: 577528.0.\u001b[0m\n",
      "\u001b[32m[I 2022-09-30 15:30:31,636]\u001b[0m Trial 120 finished with value: 837028.5625 and parameters: {'learning_rate': 0.0007536497877993632, 'optimizer': 'Adamax', 'batch_size': 128, 'n_layers': 3, 'n_units_l0': 58, 'n_units_l1': 162, 'n_units_l2': 149}. Best is trial 82 with value: 577528.0.\u001b[0m\n",
      "\u001b[32m[I 2022-09-30 15:30:32,175]\u001b[0m Trial 117 finished with value: 1555972.125 and parameters: {'learning_rate': 0.0015357212415174515, 'optimizer': 'Adamax', 'batch_size': 128, 'n_layers': 3, 'n_units_l0': 25, 'n_units_l1': 165, 'n_units_l2': 152}. Best is trial 82 with value: 577528.0.\u001b[0m\n",
      "\u001b[32m[I 2022-09-30 15:30:38,491]\u001b[0m Trial 94 finished with value: 7125202.0 and parameters: {'learning_rate': 0.008287590369024838, 'optimizer': 'Adamax', 'batch_size': 2048, 'n_layers': 3, 'n_units_l0': 56, 'n_units_l1': 153, 'n_units_l2': 155}. Best is trial 82 with value: 577528.0.\u001b[0m\n",
      "\u001b[32m[I 2022-09-30 15:30:49,024]\u001b[0m Trial 92 finished with value: 1555972.125 and parameters: {'learning_rate': 0.00900702194747023, 'optimizer': 'Adamax', 'batch_size': 2048, 'n_layers': 3, 'n_units_l0': 21, 'n_units_l1': 163, 'n_units_l2': 110}. Best is trial 82 with value: 577528.0.\u001b[0m\n",
      "\u001b[32m[I 2022-09-30 15:31:12,019]\u001b[0m Trial 115 finished with value: 1248093.5 and parameters: {'learning_rate': 0.00157349465865788, 'optimizer': 'Adam', 'batch_size': 128, 'n_layers': 4, 'n_units_l0': 23, 'n_units_l1': 162, 'n_units_l2': 208, 'n_units_l3': 124}. Best is trial 82 with value: 577528.0.\u001b[0m\n",
      "\u001b[32m[I 2022-09-30 15:31:13,187]\u001b[0m Trial 119 finished with value: 2633380.5 and parameters: {'learning_rate': 0.0018052992243589752, 'optimizer': 'Adam', 'batch_size': 128, 'n_layers': 4, 'n_units_l0': 20, 'n_units_l1': 199, 'n_units_l2': 206, 'n_units_l3': 123}. Best is trial 82 with value: 577528.0.\u001b[0m\n",
      "\u001b[32m[I 2022-09-30 15:31:24,615]\u001b[0m Trial 81 finished with value: 2410193.0 and parameters: {'learning_rate': 0.007922510698881283, 'optimizer': 'Adamax', 'batch_size': 2048, 'n_layers': 4, 'n_units_l0': 19, 'n_units_l1': 197, 'n_units_l2': 203, 'n_units_l3': 118}. Best is trial 82 with value: 577528.0.\u001b[0m\n",
      "\u001b[32m[I 2022-09-30 15:31:36,208]\u001b[0m Trial 90 finished with value: 1766192.125 and parameters: {'learning_rate': 0.007803019083852987, 'optimizer': 'Adamax', 'batch_size': 2048, 'n_layers': 4, 'n_units_l0': 18, 'n_units_l1': 200, 'n_units_l2': 206, 'n_units_l3': 122}. Best is trial 82 with value: 577528.0.\u001b[0m\n",
      "\u001b[32m[I 2022-09-30 15:31:44,079]\u001b[0m Trial 137 finished with value: 635280.1875 and parameters: {'learning_rate': 0.000439891337487335, 'optimizer': 'Adam', 'batch_size': 128, 'n_layers': 6, 'n_units_l0': 4, 'n_units_l1': 199, 'n_units_l2': 164, 'n_units_l3': 56, 'n_units_l4': 217, 'n_units_l5': 172}. Best is trial 82 with value: 577528.0.\u001b[0m\n",
      "\u001b[32m[I 2022-09-30 15:32:06,884]\u001b[0m Trial 114 finished with value: 5261543.4375 and parameters: {'learning_rate': 0.049497268588386024, 'optimizer': 'Adam', 'batch_size': 8, 'n_layers': 5, 'n_units_l0': 32, 'n_units_l1': 195, 'n_units_l2': 192, 'n_units_l3': 88, 'n_units_l4': 232}. Best is trial 82 with value: 577528.0.\u001b[0m\n",
      "\u001b[32m[I 2022-09-30 15:32:22,339]\u001b[0m Trial 125 finished with value: 1068774.0 and parameters: {'learning_rate': 0.000826929639620621, 'optimizer': 'Adam', 'batch_size': 128, 'n_layers': 6, 'n_units_l0': 65, 'n_units_l1': 184, 'n_units_l2': 123, 'n_units_l3': 56, 'n_units_l4': 175, 'n_units_l5': 169}. Best is trial 82 with value: 577528.0.\u001b[0m\n",
      "\u001b[32m[I 2022-09-30 15:32:22,879]\u001b[0m Trial 127 finished with value: 2871593.0 and parameters: {'learning_rate': 0.0021654284999646843, 'optimizer': 'Adam', 'batch_size': 128, 'n_layers': 6, 'n_units_l0': 19, 'n_units_l1': 185, 'n_units_l2': 124, 'n_units_l3': 56, 'n_units_l4': 216, 'n_units_l5': 169}. Best is trial 82 with value: 577528.0.\u001b[0m\n",
      "\u001b[32m[I 2022-09-30 15:32:24,369]\u001b[0m Trial 86 finished with value: 4868507.0 and parameters: {'learning_rate': 0.009429169474189165, 'optimizer': 'Adamax', 'batch_size': 2048, 'n_layers': 6, 'n_units_l0': 7, 'n_units_l1': 217, 'n_units_l2': 123, 'n_units_l3': 151, 'n_units_l4': 218, 'n_units_l5': 171}. Best is trial 82 with value: 577528.0.\u001b[0m\n",
      "\u001b[32m[I 2022-09-30 15:32:26,788]\u001b[0m Trial 123 finished with value: 1555972.125 and parameters: {'learning_rate': 0.0008020345961696607, 'optimizer': 'Adam', 'batch_size': 128, 'n_layers': 6, 'n_units_l0': 158, 'n_units_l1': 198, 'n_units_l2': 124, 'n_units_l3': 116, 'n_units_l4': 221, 'n_units_l5': 175}. Best is trial 82 with value: 577528.0.\u001b[0m\n",
      "\u001b[32m[I 2022-09-30 15:32:28,634]\u001b[0m Trial 129 finished with value: 559548.3125 and parameters: {'learning_rate': 0.0005000128855387511, 'optimizer': 'Adam', 'batch_size': 128, 'n_layers': 6, 'n_units_l0': 17, 'n_units_l1': 186, 'n_units_l2': 167, 'n_units_l3': 113, 'n_units_l4': 216, 'n_units_l5': 169}. Best is trial 129 with value: 559548.3125.\u001b[0m\n",
      "\u001b[32m[I 2022-09-30 15:32:28,980]\u001b[0m Trial 124 finished with value: 965975.875 and parameters: {'learning_rate': 0.0008825389898958877, 'optimizer': 'Adam', 'batch_size': 128, 'n_layers': 6, 'n_units_l0': 41, 'n_units_l1': 184, 'n_units_l2': 123, 'n_units_l3': 154, 'n_units_l4': 218, 'n_units_l5': 170}. Best is trial 129 with value: 559548.3125.\u001b[0m\n",
      "\u001b[32m[I 2022-09-30 15:32:29,321]\u001b[0m Trial 132 finished with value: 1555972.125 and parameters: {'learning_rate': 0.001988341432503496, 'optimizer': 'Adam', 'batch_size': 128, 'n_layers': 6, 'n_units_l0': 158, 'n_units_l1': 186, 'n_units_l2': 164, 'n_units_l3': 55, 'n_units_l4': 219, 'n_units_l5': 171}. Best is trial 129 with value: 559548.3125.\u001b[0m\n",
      "\u001b[32m[I 2022-09-30 15:32:30,281]\u001b[0m Trial 77 finished with value: 1555972.125 and parameters: {'learning_rate': 0.008837994173617, 'optimizer': 'NAdam', 'batch_size': 1024, 'n_layers': 5, 'n_units_l0': 6, 'n_units_l1': 217, 'n_units_l2': 123, 'n_units_l3': 152, 'n_units_l4': 216}. Best is trial 129 with value: 559548.3125.\u001b[0m\n",
      "\u001b[32m[I 2022-09-30 15:32:36,024]\u001b[0m Trial 83 finished with value: 2149143.5625 and parameters: {'learning_rate': 0.0010737255476703513, 'optimizer': 'Adamax', 'batch_size': 16, 'n_layers': 5, 'n_units_l0': 46, 'n_units_l1': 208, 'n_units_l2': 194, 'n_units_l3': 89, 'n_units_l4': 234}. Best is trial 129 with value: 559548.3125.\u001b[0m\n",
      "\u001b[32m[I 2022-09-30 15:32:42,608]\u001b[0m Trial 128 finished with value: 747670.625 and parameters: {'learning_rate': 0.002055229728259662, 'optimizer': 'Adam', 'batch_size': 128, 'n_layers': 3, 'n_units_l0': 1, 'n_units_l1': 169, 'n_units_l2': 232}. Best is trial 129 with value: 559548.3125.\u001b[0m\n",
      "\u001b[32m[I 2022-09-30 15:33:31,265]\u001b[0m Trial 133 finished with value: 1555972.125 and parameters: {'learning_rate': 0.0004747733143921169, 'optimizer': 'Adam', 'batch_size': 128, 'n_layers': 5, 'n_units_l0': 200, 'n_units_l1': 104, 'n_units_l2': 135, 'n_units_l3': 37, 'n_units_l4': 195}. Best is trial 129 with value: 559548.3125.\u001b[0m\n",
      "\u001b[32m[I 2022-09-30 15:33:34,165]\u001b[0m Trial 130 finished with value: 1555972.125 and parameters: {'learning_rate': 0.0022039540248317744, 'optimizer': 'Adam', 'batch_size': 128, 'n_layers': 5, 'n_units_l0': 52, 'n_units_l1': 113, 'n_units_l2': 132, 'n_units_l3': 133, 'n_units_l4': 195}. Best is trial 129 with value: 559548.3125.\u001b[0m\n",
      "\u001b[32m[I 2022-09-30 15:33:36,527]\u001b[0m Trial 135 finished with value: 1555972.125 and parameters: {'learning_rate': 0.0020898644295673265, 'optimizer': 'Adam', 'batch_size': 128, 'n_layers': 5, 'n_units_l0': 210, 'n_units_l1': 113, 'n_units_l2': 170, 'n_units_l3': 133, 'n_units_l4': 189}. Best is trial 129 with value: 559548.3125.\u001b[0m\n",
      "\u001b[32m[I 2022-09-30 15:34:39,074]\u001b[0m Trial 131 finished with value: 1555972.125 and parameters: {'learning_rate': 0.00044284857403995096, 'optimizer': 'Adam', 'batch_size': 128, 'n_layers': 4, 'n_units_l0': 171, 'n_units_l1': 95, 'n_units_l2': 171, 'n_units_l3': 109}. Best is trial 129 with value: 559548.3125.\u001b[0m\n",
      "\u001b[32m[I 2022-09-30 15:34:41,003]\u001b[0m Trial 136 finished with value: 598214.75 and parameters: {'learning_rate': 0.00047792984510979723, 'optimizer': 'Adam', 'batch_size': 128, 'n_layers': 4, 'n_units_l0': 172, 'n_units_l1': 95, 'n_units_l2': 172, 'n_units_l3': 109}. Best is trial 129 with value: 559548.3125.\u001b[0m\n",
      "\u001b[32m[I 2022-09-30 15:34:42,851]\u001b[0m Trial 126 finished with value: 617069.9375 and parameters: {'learning_rate': 0.0007634457724445845, 'optimizer': 'Adam', 'batch_size': 128, 'n_layers': 4, 'n_units_l0': 26, 'n_units_l1': 137, 'n_units_l2': 147, 'n_units_l3': 110}. Best is trial 129 with value: 559548.3125.\u001b[0m\n",
      "\u001b[32m[I 2022-09-30 15:35:39,697]\u001b[0m Trial 140 finished with value: 661862.3125 and parameters: {'learning_rate': 0.000588625948811593, 'optimizer': 'Adam', 'batch_size': 512, 'n_layers': 4, 'n_units_l0': 27, 'n_units_l1': 125, 'n_units_l2': 160, 'n_units_l3': 97}. Best is trial 129 with value: 559548.3125.\u001b[0m\n",
      "\u001b[32m[I 2022-09-30 15:35:41,456]\u001b[0m Trial 160 finished with value: 697893.75 and parameters: {'learning_rate': 0.0002707798975192638, 'optimizer': 'Adam', 'batch_size': 128, 'n_layers': 4, 'n_units_l0': 187, 'n_units_l1': 122, 'n_units_l2': 147, 'n_units_l3': 99}. Best is trial 129 with value: 559548.3125.\u001b[0m\n",
      "\u001b[32m[I 2022-09-30 15:35:48,862]\u001b[0m Trial 134 finished with value: 1555972.125 and parameters: {'learning_rate': 0.0020956850206035518, 'optimizer': 'Adam', 'batch_size': 128, 'n_layers': 4, 'n_units_l0': 28, 'n_units_l1': 124, 'n_units_l2': 184, 'n_units_l3': 99}. Best is trial 129 with value: 559548.3125.\u001b[0m\n",
      "\u001b[32m[I 2022-09-30 15:35:50,830]\u001b[0m Trial 138 finished with value: 614093.625 and parameters: {'learning_rate': 0.00046290451339126427, 'optimizer': 'Adam', 'batch_size': 128, 'n_layers': 4, 'n_units_l0': 187, 'n_units_l1': 135, 'n_units_l2': 174, 'n_units_l3': 96}. Best is trial 129 with value: 559548.3125.\u001b[0m\n",
      "\u001b[32m[I 2022-09-30 15:36:08,161]\u001b[0m Trial 159 finished with value: 589117.8125 and parameters: {'learning_rate': 0.0002915475896320652, 'optimizer': 'Adam', 'batch_size': 32, 'n_layers': 4, 'n_units_l0': 188, 'n_units_l1': 124, 'n_units_l2': 145, 'n_units_l3': 99}. Best is trial 129 with value: 559548.3125.\u001b[0m\n",
      "\u001b[32m[I 2022-09-30 15:36:26,392]\u001b[0m Trial 142 finished with value: 11235359.0 and parameters: {'learning_rate': 0.0023151489487113473, 'optimizer': 'Adam', 'batch_size': 128, 'n_layers': 4, 'n_units_l0': 184, 'n_units_l1': 139, 'n_units_l2': 148, 'n_units_l3': 112}. Best is trial 129 with value: 559548.3125.\u001b[0m\n",
      "\u001b[32m[I 2022-09-30 15:36:29,005]\u001b[0m Trial 143 finished with value: 622477.3125 and parameters: {'learning_rate': 0.0005007508544347015, 'optimizer': 'Adam', 'batch_size': 32, 'n_layers': 4, 'n_units_l0': 185, 'n_units_l1': 126, 'n_units_l2': 146, 'n_units_l3': 98}. Best is trial 129 with value: 559548.3125.\u001b[0m\n",
      "\u001b[32m[I 2022-09-30 15:36:32,641]\u001b[0m Trial 149 finished with value: 1555972.125 and parameters: {'learning_rate': 0.0004270620312558598, 'optimizer': 'Adam', 'batch_size': 32, 'n_layers': 4, 'n_units_l0': 186, 'n_units_l1': 138, 'n_units_l2': 146, 'n_units_l3': 110}. Best is trial 129 with value: 559548.3125.\u001b[0m\n",
      "\u001b[32m[I 2022-09-30 15:36:35,094]\u001b[0m Trial 152 finished with value: 1555972.125 and parameters: {'learning_rate': 0.0004913823704667949, 'optimizer': 'Adam', 'batch_size': 32, 'n_layers': 4, 'n_units_l0': 185, 'n_units_l1': 153, 'n_units_l2': 186, 'n_units_l3': 108}. Best is trial 129 with value: 559548.3125.\u001b[0m\n",
      "\u001b[32m[I 2022-09-30 15:36:54,133]\u001b[0m Trial 145 finished with value: 654346.875 and parameters: {'learning_rate': 0.0005147396969034382, 'optimizer': 'Adam', 'batch_size': 32, 'n_layers': 4, 'n_units_l0': 187, 'n_units_l1': 138, 'n_units_l2': 147, 'n_units_l3': 108}. Best is trial 129 with value: 559548.3125.\u001b[0m\n",
      "\u001b[32m[I 2022-09-30 15:36:55,850]\u001b[0m Trial 155 finished with value: 1555972.125 and parameters: {'learning_rate': 0.000549493727630396, 'optimizer': 'Adam', 'batch_size': 32, 'n_layers': 4, 'n_units_l0': 189, 'n_units_l1': 137, 'n_units_l2': 146, 'n_units_l3': 97}. Best is trial 129 with value: 559548.3125.\u001b[0m\n",
      "\u001b[32m[I 2022-09-30 15:36:58,320]\u001b[0m Trial 139 finished with value: 1555159.25 and parameters: {'learning_rate': 0.002176980438049479, 'optimizer': 'Adam', 'batch_size': 32, 'n_layers': 4, 'n_units_l0': 27, 'n_units_l1': 138, 'n_units_l2': 143, 'n_units_l3': 98}. Best is trial 129 with value: 559548.3125.\u001b[0m\n",
      "\u001b[32m[I 2022-09-30 15:37:00,440]\u001b[0m Trial 144 finished with value: 1555972.125 and parameters: {'learning_rate': 0.0005538921876735771, 'optimizer': 'Adam', 'batch_size': 32, 'n_layers': 4, 'n_units_l0': 187, 'n_units_l1': 94, 'n_units_l2': 143, 'n_units_l3': 99}. Best is trial 129 with value: 559548.3125.\u001b[0m\n",
      "\u001b[32m[I 2022-09-30 15:37:13,162]\u001b[0m Trial 154 finished with value: 681793.6875 and parameters: {'learning_rate': 0.0001887805567680029, 'optimizer': 'Adam', 'batch_size': 32, 'n_layers': 3, 'n_units_l0': 183, 'n_units_l1': 139, 'n_units_l2': 185}. Best is trial 129 with value: 559548.3125.\u001b[0m\n",
      "\u001b[32m[I 2022-09-30 15:37:17,738]\u001b[0m Trial 141 finished with value: 4061740.25 and parameters: {'learning_rate': 0.002123519902943111, 'optimizer': 'Adam', 'batch_size': 32, 'n_layers': 4, 'n_units_l0': 173, 'n_units_l1': 134, 'n_units_l2': 174, 'n_units_l3': 110}. Best is trial 129 with value: 559548.3125.\u001b[0m\n",
      "\u001b[32m[I 2022-09-30 15:37:42,229]\u001b[0m Trial 146 finished with value: 608579.875 and parameters: {'learning_rate': 0.0004913752354392414, 'optimizer': 'Adam', 'batch_size': 32, 'n_layers': 3, 'n_units_l0': 197, 'n_units_l1': 134, 'n_units_l2': 173}. Best is trial 129 with value: 559548.3125.\u001b[0m\n",
      "\u001b[32m[I 2022-09-30 15:37:51,806]\u001b[0m Trial 151 finished with value: 690769.75 and parameters: {'learning_rate': 0.0004295381950482937, 'optimizer': 'Adam', 'batch_size': 32, 'n_layers': 4, 'n_units_l0': 180, 'n_units_l1': 133, 'n_units_l2': 166, 'n_units_l3': 108}. Best is trial 129 with value: 559548.3125.\u001b[0m\n",
      "\u001b[32m[I 2022-09-30 15:37:56,970]\u001b[0m Trial 153 finished with value: 674664.375 and parameters: {'learning_rate': 0.000509723293080434, 'optimizer': 'Adam', 'batch_size': 512, 'n_layers': 3, 'n_units_l0': 175, 'n_units_l1': 105, 'n_units_l2': 175}. Best is trial 129 with value: 559548.3125.\u001b[0m\n",
      "\u001b[32m[I 2022-09-30 15:37:57,790]\u001b[0m Trial 169 finished with value: 866785.3125 and parameters: {'learning_rate': 0.00016361256851515812, 'optimizer': 'Adam', 'batch_size': 128, 'n_layers': 3, 'n_units_l0': 172, 'n_units_l1': 92, 'n_units_l2': 174}. Best is trial 129 with value: 559548.3125.\u001b[0m\n",
      "\u001b[32m[I 2022-09-30 15:37:59,135]\u001b[0m Trial 170 finished with value: 870994.25 and parameters: {'learning_rate': 0.0002241174935954732, 'optimizer': 'Adam', 'batch_size': 128, 'n_layers': 3, 'n_units_l0': 178, 'n_units_l1': 132, 'n_units_l2': 175}. Best is trial 129 with value: 559548.3125.\u001b[0m\n",
      "\u001b[32m[I 2022-09-30 15:37:59,978]\u001b[0m Trial 167 finished with value: 649825.6875 and parameters: {'learning_rate': 0.00023410552711160965, 'optimizer': 'Adam', 'batch_size': 32, 'n_layers': 3, 'n_units_l0': 179, 'n_units_l1': 89, 'n_units_l2': 175}. Best is trial 129 with value: 559548.3125.\u001b[0m\n",
      "\u001b[32m[I 2022-09-30 15:38:36,954]\u001b[0m Trial 158 finished with value: 1555972.125 and parameters: {'learning_rate': 0.00023408353678099192, 'optimizer': 'Adam', 'batch_size': 32, 'n_layers': 3, 'n_units_l0': 194, 'n_units_l1': 105, 'n_units_l2': 159}. Best is trial 129 with value: 559548.3125.\u001b[0m\n",
      "\u001b[32m[I 2022-09-30 15:38:38,393]\u001b[0m Trial 147 finished with value: 1555972.125 and parameters: {'learning_rate': 0.002073448292905323, 'optimizer': 'Adam', 'batch_size': 32, 'n_layers': 3, 'n_units_l0': 174, 'n_units_l1': 105, 'n_units_l2': 167}. Best is trial 129 with value: 559548.3125.\u001b[0m\n",
      "\u001b[32m[I 2022-09-30 15:38:41,323]\u001b[0m Trial 171 finished with value: 725393.625 and parameters: {'learning_rate': 0.00031252691104966386, 'optimizer': 'Adam', 'batch_size': 128, 'n_layers': 3, 'n_units_l0': 208, 'n_units_l1': 243, 'n_units_l2': 158}. Best is trial 129 with value: 559548.3125.\u001b[0m\n",
      "\u001b[32m[I 2022-09-30 15:38:48,393]\u001b[0m Trial 172 finished with value: 769900.625 and parameters: {'learning_rate': 0.0003523805464340174, 'optimizer': 'Adam', 'batch_size': 128, 'n_layers': 3, 'n_units_l0': 205, 'n_units_l1': 109, 'n_units_l2': 167}. Best is trial 129 with value: 559548.3125.\u001b[0m\n",
      "\u001b[32m[I 2022-09-30 15:38:48,560]\u001b[0m Trial 173 finished with value: 763782.0 and parameters: {'learning_rate': 0.00036159401176378663, 'optimizer': 'Adam', 'batch_size': 128, 'n_layers': 3, 'n_units_l0': 196, 'n_units_l1': 148, 'n_units_l2': 166}. Best is trial 129 with value: 559548.3125.\u001b[0m\n",
      "\u001b[32m[I 2022-09-30 15:38:49,105]\u001b[0m Trial 174 finished with value: 750453.9375 and parameters: {'learning_rate': 0.0003302561687550754, 'optimizer': 'Adam', 'batch_size': 128, 'n_layers': 3, 'n_units_l0': 202, 'n_units_l1': 148, 'n_units_l2': 166}. Best is trial 129 with value: 559548.3125.\u001b[0m\n",
      "\u001b[32m[I 2022-09-30 15:39:05,636]\u001b[0m Trial 163 finished with value: 680989.625 and parameters: {'learning_rate': 0.00020482768083630387, 'optimizer': 'Adam', 'batch_size': 32, 'n_layers': 3, 'n_units_l0': 175, 'n_units_l1': 132, 'n_units_l2': 176}. Best is trial 129 with value: 559548.3125.\u001b[0m\n",
      "\u001b[32m[I 2022-09-30 15:39:26,999]\u001b[0m Trial 157 finished with value: 574394.25 and parameters: {'learning_rate': 0.0005715944497113074, 'optimizer': 'Adam', 'batch_size': 32, 'n_layers': 3, 'n_units_l0': 200, 'n_units_l1': 244, 'n_units_l2': 159}. Best is trial 129 with value: 559548.3125.\u001b[0m\n",
      "\u001b[32m[I 2022-09-30 15:39:40,057]\u001b[0m Trial 184 finished with value: 612231.25 and parameters: {'learning_rate': 0.0009157933495931202, 'optimizer': 'Adamax', 'batch_size': 128, 'n_layers': 5, 'n_units_l0': 38, 'n_units_l1': 118, 'n_units_l2': 116, 'n_units_l3': 131, 'n_units_l4': 169}. Best is trial 129 with value: 559548.3125.\u001b[0m\n",
      "\u001b[32m[I 2022-09-30 15:39:40,580]\u001b[0m Trial 183 finished with value: 1555972.125 and parameters: {'learning_rate': 0.0013360420635422168, 'optimizer': 'Adamax', 'batch_size': 128, 'n_layers': 5, 'n_units_l0': 36, 'n_units_l1': 119, 'n_units_l2': 212, 'n_units_l3': 128, 'n_units_l4': 166}. Best is trial 129 with value: 559548.3125.\u001b[0m\n",
      "\u001b[32m[I 2022-09-30 15:39:45,717]\u001b[0m Trial 168 finished with value: 635494.0625 and parameters: {'learning_rate': 0.00018311520883961053, 'optimizer': 'Adam', 'batch_size': 32, 'n_layers': 3, 'n_units_l0': 195, 'n_units_l1': 256, 'n_units_l2': 158}. Best is trial 129 with value: 559548.3125.\u001b[0m\n",
      "\u001b[32m[I 2022-09-30 15:40:04,143]\u001b[0m Trial 178 finished with value: 1216030.875 and parameters: {'learning_rate': 0.001239238855000055, 'optimizer': 'Adam', 'batch_size': 128, 'n_layers': 5, 'n_units_l0': 40, 'n_units_l1': 118, 'n_units_l2': 130, 'n_units_l3': 79, 'n_units_l4': 88}. Best is trial 129 with value: 559548.3125.\u001b[0m\n",
      "\u001b[32m[I 2022-09-30 15:40:05,895]\u001b[0m Trial 182 finished with value: 626559.375 and parameters: {'learning_rate': 0.0003546139231510939, 'optimizer': 'Adam', 'batch_size': 128, 'n_layers': 5, 'n_units_l0': 200, 'n_units_l1': 78, 'n_units_l2': 130, 'n_units_l3': 79, 'n_units_l4': 172}. Best is trial 129 with value: 559548.3125.\u001b[0m\n",
      "\u001b[32m[I 2022-09-30 15:40:06,590]\u001b[0m Trial 181 finished with value: 1555972.125 and parameters: {'learning_rate': 0.0003289661034432023, 'optimizer': 'Adam', 'batch_size': 128, 'n_layers': 5, 'n_units_l0': 39, 'n_units_l1': 116, 'n_units_l2': 211, 'n_units_l3': 81, 'n_units_l4': 89}. Best is trial 129 with value: 559548.3125.\u001b[0m\n",
      "\u001b[32m[I 2022-09-30 15:40:19,165]\u001b[0m Trial 150 finished with value: 1555972.125 and parameters: {'learning_rate': 0.0005472905413960653, 'optimizer': 'Adam', 'batch_size': 32, 'n_layers': 5, 'n_units_l0': 205, 'n_units_l1': 146, 'n_units_l2': 116, 'n_units_l3': 129, 'n_units_l4': 88}. Best is trial 129 with value: 559548.3125.\u001b[0m\n",
      "\u001b[32m[I 2022-09-30 15:40:28,203]\u001b[0m Trial 156 finished with value: 1555972.125 and parameters: {'learning_rate': 0.0005340960030003848, 'optimizer': 'Adam', 'batch_size': 32, 'n_layers': 5, 'n_units_l0': 201, 'n_units_l1': 255, 'n_units_l2': 200, 'n_units_l3': 80, 'n_units_l4': 175}. Best is trial 129 with value: 559548.3125.\u001b[0m\n",
      "\u001b[32m[I 2022-09-30 15:40:31,912]\u001b[0m Trial 161 finished with value: 875505.9375 and parameters: {'learning_rate': 0.00016846299230649148, 'optimizer': 'Adam', 'batch_size': 128, 'n_layers': 5, 'n_units_l0': 9, 'n_units_l1': 248, 'n_units_l2': 116, 'n_units_l3': 80, 'n_units_l4': 90}. Best is trial 129 with value: 559548.3125.\u001b[0m\n",
      "\u001b[32m[I 2022-09-30 15:40:37,889]\u001b[0m Trial 148 finished with value: 1555972.125 and parameters: {'learning_rate': 0.002240209054923666, 'optimizer': 'Adam', 'batch_size': 32, 'n_layers': 5, 'n_units_l0': 40, 'n_units_l1': 249, 'n_units_l2': 137, 'n_units_l3': 129, 'n_units_l4': 255}. Best is trial 129 with value: 559548.3125.\u001b[0m\n",
      "\u001b[32m[I 2022-09-30 15:40:52,436]\u001b[0m Trial 165 finished with value: 623065.6875 and parameters: {'learning_rate': 0.0001965835112762314, 'optimizer': 'Adam', 'batch_size': 32, 'n_layers': 5, 'n_units_l0': 216, 'n_units_l1': 256, 'n_units_l2': 115, 'n_units_l3': 80, 'n_units_l4': 254}. Best is trial 129 with value: 559548.3125.\u001b[0m\n",
      "\u001b[32m[I 2022-09-30 15:41:02,282]\u001b[0m Trial 164 finished with value: 637325.25 and parameters: {'learning_rate': 0.00020191230444578645, 'optimizer': 'Adam', 'batch_size': 32, 'n_layers': 5, 'n_units_l0': 40, 'n_units_l1': 117, 'n_units_l2': 200, 'n_units_l3': 79, 'n_units_l4': 176}. Best is trial 129 with value: 559548.3125.\u001b[0m\n",
      "\u001b[32m[I 2022-09-30 15:41:11,189]\u001b[0m Trial 176 finished with value: 639148.5625 and parameters: {'learning_rate': 0.00026974556187581237, 'optimizer': 'Adam', 'batch_size': 128, 'n_layers': 5, 'n_units_l0': 216, 'n_units_l1': 129, 'n_units_l2': 107, 'n_units_l3': 195, 'n_units_l4': 135}. Best is trial 129 with value: 559548.3125.\u001b[0m\n",
      "\u001b[32m[I 2022-09-30 15:41:13,037]\u001b[0m Trial 175 finished with value: 1555972.125 and parameters: {'learning_rate': 0.00018690507517060193, 'optimizer': 'Adam', 'batch_size': 128, 'n_layers': 5, 'n_units_l0': 201, 'n_units_l1': 251, 'n_units_l2': 106, 'n_units_l3': 117, 'n_units_l4': 255}. Best is trial 129 with value: 559548.3125.\u001b[0m\n",
      "\u001b[32m[I 2022-09-30 15:41:17,905]\u001b[0m Trial 180 finished with value: 544673.9375 and parameters: {'learning_rate': 0.0003178633589761071, 'optimizer': 'Adam', 'batch_size': 128, 'n_layers': 5, 'n_units_l0': 165, 'n_units_l1': 203, 'n_units_l2': 153, 'n_units_l3': 240, 'n_units_l4': 256}. Best is trial 180 with value: 544673.9375.\u001b[0m\n",
      "\u001b[32m[I 2022-09-30 15:41:51,557]\u001b[0m Trial 198 finished with value: 809708.9375 and parameters: {'learning_rate': 0.0006734938400839574, 'optimizer': 'Adamax', 'batch_size': 128, 'n_layers': 4, 'n_units_l0': 23, 'n_units_l1': 238, 'n_units_l2': 153, 'n_units_l3': 118}. Best is trial 180 with value: 544673.9375.\u001b[0m\n",
      "\u001b[32m[I 2022-09-30 15:42:01,446]\u001b[0m Trial 192 finished with value: 1555972.125 and parameters: {'learning_rate': 0.000977755890110013, 'optimizer': 'Adamax', 'batch_size': 128, 'n_layers': 4, 'n_units_l0': 18, 'n_units_l1': 157, 'n_units_l2': 107, 'n_units_l3': 118}. Best is trial 180 with value: 544673.9375.\u001b[0m\n",
      "\u001b[32m[I 2022-09-30 15:42:03,588]\u001b[0m Trial 197 finished with value: 739462.875 and parameters: {'learning_rate': 0.0006654561395178023, 'optimizer': 'Adamax', 'batch_size': 128, 'n_layers': 4, 'n_units_l0': 24, 'n_units_l1': 242, 'n_units_l2': 106, 'n_units_l3': 202}. Best is trial 180 with value: 544673.9375.\u001b[0m\n",
      "\u001b[32m[I 2022-09-30 15:42:05,766]\u001b[0m Trial 177 finished with value: 692748.125 and parameters: {'learning_rate': 0.00028584421096687054, 'optimizer': 'Adam', 'batch_size': 128, 'n_layers': 4, 'n_units_l0': 192, 'n_units_l1': 204, 'n_units_l2': 151, 'n_units_l3': 66}. Best is trial 180 with value: 544673.9375.\u001b[0m\n",
      "\u001b[32m[I 2022-09-30 15:42:06,144]\u001b[0m Trial 179 finished with value: 1555972.125 and parameters: {'learning_rate': 0.0012947158453100235, 'optimizer': 'Adam', 'batch_size': 128, 'n_layers': 4, 'n_units_l0': 25, 'n_units_l1': 237, 'n_units_l2': 183, 'n_units_l3': 118}. Best is trial 180 with value: 544673.9375.\u001b[0m\n",
      "\u001b[32m[I 2022-09-30 15:42:16,325]\u001b[0m Trial 166 finished with value: 1555972.125 and parameters: {'learning_rate': 0.00018773358661624317, 'optimizer': 'Adam', 'batch_size': 32, 'n_layers': 4, 'n_units_l0': 163, 'n_units_l1': 97, 'n_units_l2': 138, 'n_units_l3': 206}. Best is trial 180 with value: 544673.9375.\u001b[0m\n",
      "\u001b[32m[I 2022-09-30 15:42:22,206]\u001b[0m Trial 188 finished with value: 702455.0625 and parameters: {'learning_rate': 0.0009694243646756064, 'optimizer': 'Adamax', 'batch_size': 128, 'n_layers': 4, 'n_units_l0': 23, 'n_units_l1': 204, 'n_units_l2': 154, 'n_units_l3': 202}. Best is trial 180 with value: 544673.9375.\u001b[0m\n",
      "\u001b[32m[I 2022-09-30 15:42:23,750]\u001b[0m Trial 187 finished with value: 1555972.125 and parameters: {'learning_rate': 0.0009480706163522023, 'optimizer': 'Adamax', 'batch_size': 128, 'n_layers': 4, 'n_units_l0': 164, 'n_units_l1': 204, 'n_units_l2': 151, 'n_units_l3': 118}. Best is trial 180 with value: 544673.9375.\u001b[0m\n",
      "\u001b[32m[I 2022-09-30 15:42:24,333]\u001b[0m Trial 190 finished with value: 786744.0 and parameters: {'learning_rate': 0.0006924613188634772, 'optimizer': 'Adam', 'batch_size': 128, 'n_layers': 4, 'n_units_l0': 164, 'n_units_l1': 240, 'n_units_l2': 154, 'n_units_l3': 141}. Best is trial 180 with value: 544673.9375.\u001b[0m\n",
      "\u001b[32m[I 2022-09-30 15:42:40,113]\u001b[0m Trial 162 finished with value: 1555972.125 and parameters: {'learning_rate': 0.0005510473998710248, 'optimizer': 'Adam', 'batch_size': 32, 'n_layers': 4, 'n_units_l0': 164, 'n_units_l1': 155, 'n_units_l2': 152, 'n_units_l3': 234}. Best is trial 180 with value: 544673.9375.\u001b[0m\n",
      "\u001b[32m[I 2022-09-30 15:42:54,576]\u001b[0m Trial 194 finished with value: 1555972.125 and parameters: {'learning_rate': 0.0008794854378266742, 'optimizer': 'Adamax', 'batch_size': 128, 'n_layers': 7, 'n_units_l0': 167, 'n_units_l1': 203, 'n_units_l2': 140, 'n_units_l3': 245, 'n_units_l4': 245, 'n_units_l5': 110, 'n_units_l6': 52}. Best is trial 180 with value: 544673.9375.\u001b[0m\n",
      "\u001b[32m[I 2022-09-30 15:43:16,749]\u001b[0m Trial 193 finished with value: 909884.9375 and parameters: {'learning_rate': 0.0009477534823963515, 'optimizer': 'Adamax', 'batch_size': 128, 'n_layers': 2, 'n_units_l0': 32, 'n_units_l1': 217}. Best is trial 180 with value: 544673.9375.\u001b[0m\n",
      "\u001b[32m[I 2022-09-30 15:43:18,842]\u001b[0m Trial 201 finished with value: 1555972.125 and parameters: {'learning_rate': 0.000956992504392901, 'optimizer': 'Adamax', 'batch_size': 128, 'n_layers': 7, 'n_units_l0': 162, 'n_units_l1': 204, 'n_units_l2': 139, 'n_units_l3': 237, 'n_units_l4': 120, 'n_units_l5': 115, 'n_units_l6': 33}. Best is trial 180 with value: 544673.9375.\u001b[0m\n",
      "\u001b[32m[I 2022-09-30 15:43:38,495]\u001b[0m Trial 200 finished with value: 1555972.125 and parameters: {'learning_rate': 0.0010024958475417418, 'optimizer': 'Adamax', 'batch_size': 128, 'n_layers': 7, 'n_units_l0': 167, 'n_units_l1': 194, 'n_units_l2': 189, 'n_units_l3': 249, 'n_units_l4': 208, 'n_units_l5': 115, 'n_units_l6': 46}. Best is trial 180 with value: 544673.9375.\u001b[0m\n",
      "\u001b[32m[I 2022-09-30 15:43:42,258]\u001b[0m Trial 203 finished with value: 1555972.125 and parameters: {'learning_rate': 0.0010407389467499307, 'optimizer': 'Adamax', 'batch_size': 128, 'n_layers': 5, 'n_units_l0': 50, 'n_units_l1': 193, 'n_units_l2': 222, 'n_units_l3': 245, 'n_units_l4': 205}. Best is trial 180 with value: 544673.9375.\u001b[0m\n",
      "\u001b[32m[I 2022-09-30 15:43:55,414]\u001b[0m Trial 207 finished with value: 627554.0 and parameters: {'learning_rate': 0.0013643238651325348, 'optimizer': 'Adamax', 'batch_size': 64, 'n_layers': 8, 'n_units_l0': 17, 'n_units_l1': 178, 'n_units_l2': 221, 'n_units_l3': 247, 'n_units_l4': 203, 'n_units_l5': 116, 'n_units_l6': 49, 'n_units_l7': 5}. Best is trial 180 with value: 544673.9375.\u001b[0m\n",
      "\u001b[32m[I 2022-09-30 15:44:03,171]\u001b[0m Trial 191 finished with value: 1555972.125 and parameters: {'learning_rate': 0.0006855649887516766, 'optimizer': 'Adamax', 'batch_size': 128, 'n_layers': 7, 'n_units_l0': 35, 'n_units_l1': 192, 'n_units_l2': 189, 'n_units_l3': 145, 'n_units_l4': 207, 'n_units_l5': 217, 'n_units_l6': 37}. Best is trial 180 with value: 544673.9375.\u001b[0m\n",
      "\u001b[32m[I 2022-09-30 15:44:06,303]\u001b[0m Trial 185 finished with value: 769759.25 and parameters: {'learning_rate': 0.0012882882429141541, 'optimizer': 'Adamax', 'batch_size': 128, 'n_layers': 7, 'n_units_l0': 15, 'n_units_l1': 194, 'n_units_l2': 187, 'n_units_l3': 247, 'n_units_l4': 207, 'n_units_l5': 216, 'n_units_l6': 40}. Best is trial 180 with value: 544673.9375.\u001b[0m\n",
      "\u001b[32m[I 2022-09-30 15:44:20,524]\u001b[0m Trial 206 finished with value: 936728.75 and parameters: {'learning_rate': 0.0008739517632055605, 'optimizer': 'Adamax', 'batch_size': 128, 'n_layers': 2, 'n_units_l0': 85, 'n_units_l1': 86}. Best is trial 180 with value: 544673.9375.\u001b[0m\n",
      "\u001b[32m[I 2022-09-30 15:44:37,803]\u001b[0m Trial 186 finished with value: 1555972.125 and parameters: {'learning_rate': 0.0012987850492174192, 'optimizer': 'Adam', 'batch_size': 128, 'n_layers': 8, 'n_units_l0': 17, 'n_units_l1': 124, 'n_units_l2': 188, 'n_units_l3': 256, 'n_units_l4': 209, 'n_units_l5': 208, 'n_units_l6': 120, 'n_units_l7': 158}. Best is trial 180 with value: 544673.9375.\u001b[0m\n",
      "\u001b[32m[I 2022-09-30 15:44:38,825]\u001b[0m Trial 208 finished with value: 12956223.0 and parameters: {'learning_rate': 0.015500942001113972, 'optimizer': 'Adamax', 'batch_size': 64, 'n_layers': 2, 'n_units_l0': 192, 'n_units_l1': 170}. Best is trial 180 with value: 544673.9375.\u001b[0m\n",
      "\u001b[32m[I 2022-09-30 15:44:41,181]\u001b[0m Trial 204 finished with value: 1160606.75 and parameters: {'learning_rate': 0.0009449685946988298, 'optimizer': 'Adamax', 'batch_size': 128, 'n_layers': 2, 'n_units_l0': 15, 'n_units_l1': 179}. Best is trial 180 with value: 544673.9375.\u001b[0m\n",
      "\u001b[32m[I 2022-09-30 15:45:09,237]\u001b[0m Trial 209 finished with value: 689340.5625 and parameters: {'learning_rate': 0.001547979495277042, 'optimizer': 'Adamax', 'batch_size': 64, 'n_layers': 3, 'n_units_l0': 15, 'n_units_l1': 85, 'n_units_l2': 180}. Best is trial 180 with value: 544673.9375.\u001b[0m\n",
      "\u001b[32m[I 2022-09-30 15:45:18,977]\u001b[0m Trial 210 finished with value: 597977.6875 and parameters: {'learning_rate': 0.0014328127189492368, 'optimizer': 'Adamax', 'batch_size': 64, 'n_layers': 3, 'n_units_l0': 152, 'n_units_l1': 171, 'n_units_l2': 179}. Best is trial 180 with value: 544673.9375.\u001b[0m\n",
      "\u001b[32m[I 2022-09-30 15:45:23,661]\u001b[0m Trial 195 finished with value: 7459031.8203125 and parameters: {'learning_rate': 0.0009493200191204997, 'optimizer': 'Adamax', 'batch_size': 8, 'n_layers': 4, 'n_units_l0': 24, 'n_units_l1': 242, 'n_units_l2': 153, 'n_units_l3': 200}. Best is trial 180 with value: 544673.9375.\u001b[0m\n",
      "\u001b[32m[I 2022-09-30 15:45:28,149]\u001b[0m Trial 196 finished with value: 2648448.015625 and parameters: {'learning_rate': 0.0009095116718093513, 'optimizer': 'Adamax', 'batch_size': 8, 'n_layers': 3, 'n_units_l0': 35, 'n_units_l1': 178, 'n_units_l2': 189}. Best is trial 180 with value: 544673.9375.\u001b[0m\n",
      "\u001b[32m[I 2022-09-30 15:45:50,632]\u001b[0m Trial 199 finished with value: 5261543.4375 and parameters: {'learning_rate': 0.0009446420378251187, 'optimizer': 'Adamax', 'batch_size': 8, 'n_layers': 8, 'n_units_l0': 161, 'n_units_l1': 202, 'n_units_l2': 137, 'n_units_l3': 240, 'n_units_l4': 208, 'n_units_l5': 115, 'n_units_l6': 31, 'n_units_l7': 161}. Best is trial 180 with value: 544673.9375.\u001b[0m\n",
      "\u001b[32m[I 2022-09-30 15:46:01,565]\u001b[0m Trial 202 finished with value: 5261543.4375 and parameters: {'learning_rate': 0.0009416938604989027, 'optimizer': 'Adamax', 'batch_size': 8, 'n_layers': 4, 'n_units_l0': 164, 'n_units_l1': 191, 'n_units_l2': 182, 'n_units_l3': 242}. Best is trial 180 with value: 544673.9375.\u001b[0m\n",
      "\u001b[32m[I 2022-09-30 15:46:29,429]\u001b[0m Trial 211 finished with value: 59578387.5 and parameters: {'learning_rate': 0.013564889186195988, 'optimizer': 'Adam', 'batch_size': 8, 'n_layers': 2, 'n_units_l0': 181, 'n_units_l1': 85}. Best is trial 180 with value: 544673.9375.\u001b[0m\n",
      "\u001b[32m[I 2022-09-30 15:46:32,989]\u001b[0m Trial 189 finished with value: 3261053.4375 and parameters: {'learning_rate': 0.0009774965512316183, 'optimizer': 'Adamax', 'batch_size': 8, 'n_layers': 2, 'n_units_l0': 154, 'n_units_l1': 85}. Best is trial 180 with value: 544673.9375.\u001b[0m\n",
      "\u001b[32m[I 2022-09-30 15:46:37,385]\u001b[0m Trial 216 finished with value: 1555972.125 and parameters: {'learning_rate': 0.06850830393771054, 'optimizer': 'Adamax', 'batch_size': 64, 'n_layers': 3, 'n_units_l0': 157, 'n_units_l1': 142, 'n_units_l2': 162}. Best is trial 180 with value: 544673.9375.\u001b[0m\n",
      "\u001b[32m[I 2022-09-30 15:47:07,331]\u001b[0m Trial 212 finished with value: 5261543.4375 and parameters: {'learning_rate': 0.01873276987821617, 'optimizer': 'Adam', 'batch_size': 8, 'n_layers': 4, 'n_units_l0': 11, 'n_units_l1': 173, 'n_units_l2': 180, 'n_units_l3': 104}. Best is trial 180 with value: 544673.9375.\u001b[0m\n",
      "\u001b[32m[I 2022-09-30 15:47:10,561]\u001b[0m Trial 214 finished with value: 3464955.96875 and parameters: {'learning_rate': 0.0016321277616328674, 'optimizer': 'Adamax', 'batch_size': 8, 'n_layers': 3, 'n_units_l0': 9, 'n_units_l1': 187, 'n_units_l2': 179}. Best is trial 180 with value: 544673.9375.\u001b[0m\n",
      "\u001b[32m[I 2022-09-30 15:47:54,664]\u001b[0m Trial 236 finished with value: 618557.8125 and parameters: {'learning_rate': 0.0004099769716039959, 'optimizer': 'Adam', 'batch_size': 64, 'n_layers': 3, 'n_units_l0': 149, 'n_units_l1': 130, 'n_units_l2': 170}. Best is trial 180 with value: 544673.9375.\u001b[0m\n",
      "\u001b[32m[I 2022-09-30 15:48:14,521]\u001b[0m Trial 233 finished with value: 4644491.0 and parameters: {'learning_rate': 0.0017384234428746343, 'optimizer': 'Adam', 'batch_size': 64, 'n_layers': 3, 'n_units_l0': 93, 'n_units_l1': 135, 'n_units_l2': 169}. Best is trial 180 with value: 544673.9375.\u001b[0m\n",
      "\u001b[32m[I 2022-09-30 15:48:15,892]\u001b[0m Trial 230 finished with value: 4070693.75 and parameters: {'learning_rate': 0.001662706527672897, 'optimizer': 'Adam', 'batch_size': 64, 'n_layers': 3, 'n_units_l0': 170, 'n_units_l1': 126, 'n_units_l2': 170}. Best is trial 180 with value: 544673.9375.\u001b[0m\n",
      "\u001b[32m[I 2022-09-30 15:48:25,764]\u001b[0m Trial 205 finished with value: 5160256.28125 and parameters: {'learning_rate': 0.0009606931707799389, 'optimizer': 'Adamax', 'batch_size': 8, 'n_layers': 7, 'n_units_l0': 168, 'n_units_l1': 193, 'n_units_l2': 188, 'n_units_l3': 245, 'n_units_l4': 245, 'n_units_l5': 118, 'n_units_l6': 46}. Best is trial 180 with value: 544673.9375.\u001b[0m\n",
      "\u001b[32m[I 2022-09-30 15:48:29,697]\u001b[0m Trial 215 finished with value: 4196075.59375 and parameters: {'learning_rate': 0.0004023424095871611, 'optimizer': 'Adamax', 'batch_size': 8, 'n_layers': 3, 'n_units_l0': 11, 'n_units_l1': 186, 'n_units_l2': 169}. Best is trial 180 with value: 544673.9375.\u001b[0m\n",
      "\u001b[32m[I 2022-09-30 15:48:30,432]\u001b[0m Trial 220 finished with value: 6246778.0 and parameters: {'learning_rate': 0.01941837321742617, 'optimizer': 'Adam', 'batch_size': 64, 'n_layers': 3, 'n_units_l0': 171, 'n_units_l1': 183, 'n_units_l2': 170}. Best is trial 180 with value: 544673.9375.\u001b[0m\n",
      "\u001b[32m[I 2022-09-30 15:48:30,854]\u001b[0m Trial 223 finished with value: 591659.375 and parameters: {'learning_rate': 0.00038146514771151695, 'optimizer': 'Adam', 'batch_size': 64, 'n_layers': 3, 'n_units_l0': 170, 'n_units_l1': 181, 'n_units_l2': 195}. Best is trial 180 with value: 544673.9375.\u001b[0m\n",
      "\u001b[32m[I 2022-09-30 15:48:33,383]\u001b[0m Trial 231 finished with value: 1555972.125 and parameters: {'learning_rate': 0.00038896947064266814, 'optimizer': 'Adam', 'batch_size': 64, 'n_layers': 3, 'n_units_l0': 6, 'n_units_l1': 184, 'n_units_l2': 169}. Best is trial 180 with value: 544673.9375.\u001b[0m\n",
      "\u001b[32m[I 2022-09-30 15:48:33,834]\u001b[0m Trial 221 finished with value: 8091611.5 and parameters: {'learning_rate': 0.0016945535911137635, 'optimizer': 'Adam', 'batch_size': 64, 'n_layers': 3, 'n_units_l0': 254, 'n_units_l1': 185, 'n_units_l2': 195}. Best is trial 180 with value: 544673.9375.\u001b[0m\n",
      "\u001b[32m[I 2022-09-30 15:48:35,342]\u001b[0m Trial 228 finished with value: 1555972.125 and parameters: {'learning_rate': 0.0004087145213200119, 'optimizer': 'Adam', 'batch_size': 64, 'n_layers': 3, 'n_units_l0': 170, 'n_units_l1': 132, 'n_units_l2': 170}. Best is trial 180 with value: 544673.9375.\u001b[0m\n",
      "\u001b[32m[I 2022-09-30 15:48:35,723]\u001b[0m Trial 213 finished with value: 7221579.234375 and parameters: {'learning_rate': 0.0003887202496775387, 'optimizer': 'Adam', 'batch_size': 8, 'n_layers': 3, 'n_units_l0': 151, 'n_units_l1': 144, 'n_units_l2': 161}. Best is trial 180 with value: 544673.9375.\u001b[0m\n",
      "\u001b[32m[I 2022-09-30 15:48:36,874]\u001b[0m Trial 235 finished with value: 5573743.0 and parameters: {'learning_rate': 0.0017145357249179795, 'optimizer': 'Adam', 'batch_size': 64, 'n_layers': 3, 'n_units_l0': 254, 'n_units_l1': 134, 'n_units_l2': 171}. Best is trial 180 with value: 544673.9375.\u001b[0m\n",
      "\u001b[32m[I 2022-09-30 15:48:45,361]\u001b[0m Trial 232 finished with value: 800694.875 and parameters: {'learning_rate': 0.06726801330430712, 'optimizer': 'Adam', 'batch_size': 64, 'n_layers': 3, 'n_units_l0': 154, 'n_units_l1': 110, 'n_units_l2': 160}. Best is trial 180 with value: 544673.9375.\u001b[0m\n",
      "\u001b[32m[I 2022-09-30 15:49:10,807]\u001b[0m Trial 219 finished with value: 1555972.125 and parameters: {'learning_rate': 0.08127290172577237, 'optimizer': 'Adamax', 'batch_size': 64, 'n_layers': 3, 'n_units_l0': 149, 'n_units_l1': 127, 'n_units_l2': 195}. Best is trial 180 with value: 544673.9375.\u001b[0m\n",
      "\u001b[32m[I 2022-09-30 15:49:24,421]\u001b[0m Trial 237 finished with value: 1507956.625 and parameters: {'learning_rate': 0.0013982789980005832, 'optimizer': 'Adam', 'batch_size': 64, 'n_layers': 3, 'n_units_l0': 148, 'n_units_l1': 100, 'n_units_l2': 196}. Best is trial 180 with value: 544673.9375.\u001b[0m\n",
      "\u001b[32m[I 2022-09-30 15:49:51,577]\u001b[0m Trial 222 finished with value: 1762647.375 and parameters: {'learning_rate': 0.0016695263454298594, 'optimizer': 'Adam', 'batch_size': 64, 'n_layers': 5, 'n_units_l0': 156, 'n_units_l1': 129, 'n_units_l2': 197, 'n_units_l3': 171, 'n_units_l4': 229}. Best is trial 180 with value: 544673.9375.\u001b[0m\n",
      "\u001b[32m[I 2022-09-30 15:49:52,378]\u001b[0m Trial 226 finished with value: 1919436.125 and parameters: {'learning_rate': 0.0017324089274563185, 'optimizer': 'Adam', 'batch_size': 64, 'n_layers': 5, 'n_units_l0': 178, 'n_units_l1': 127, 'n_units_l2': 194, 'n_units_l3': 227, 'n_units_l4': 142}. Best is trial 180 with value: 544673.9375.\u001b[0m\n",
      "\u001b[32m[I 2022-09-30 15:50:01,129]\u001b[0m Trial 218 finished with value: 5261543.4375 and parameters: {'learning_rate': 0.001718245909478347, 'optimizer': 'Adamax', 'batch_size': 8, 'n_layers': 3, 'n_units_l0': 146, 'n_units_l1': 130, 'n_units_l2': 160}. Best is trial 180 with value: 544673.9375.\u001b[0m\n",
      "\u001b[32m[I 2022-09-30 15:50:02,984]\u001b[0m Trial 217 finished with value: 5261543.4375 and parameters: {'learning_rate': 0.0015951151668658413, 'optimizer': 'Adamax', 'batch_size': 8, 'n_layers': 3, 'n_units_l0': 151, 'n_units_l1': 129, 'n_units_l2': 197}. Best is trial 180 with value: 544673.9375.\u001b[0m\n",
      "\u001b[32m[I 2022-09-30 15:50:25,852]\u001b[0m Trial 234 finished with value: 4950883.0 and parameters: {'learning_rate': 0.0017709645241279224, 'optimizer': 'Adam', 'batch_size': 64, 'n_layers': 5, 'n_units_l0': 178, 'n_units_l1': 121, 'n_units_l2': 179, 'n_units_l3': 63, 'n_units_l4': 146}. Best is trial 180 with value: 544673.9375.\u001b[0m\n",
      "\u001b[32m[I 2022-09-30 15:50:44,738]\u001b[0m Trial 229 finished with value: 9753440.0 and parameters: {'learning_rate': 0.001719515917566594, 'optimizer': 'Adam', 'batch_size': 64, 'n_layers': 4, 'n_units_l0': 28, 'n_units_l1': 172, 'n_units_l2': 181, 'n_units_l3': 92}. Best is trial 180 with value: 544673.9375.\u001b[0m\n",
      "\u001b[32m[I 2022-09-30 15:50:53,513]\u001b[0m Trial 227 finished with value: 2164697.25 and parameters: {'learning_rate': 0.001662252089214684, 'optimizer': 'Adam', 'batch_size': 64, 'n_layers': 5, 'n_units_l0': 179, 'n_units_l1': 172, 'n_units_l2': 178, 'n_units_l3': 92, 'n_units_l4': 110}. Best is trial 180 with value: 544673.9375.\u001b[0m\n",
      "\u001b[32m[I 2022-09-30 15:51:14,757]\u001b[0m Trial 225 finished with value: 689169.6875 and parameters: {'learning_rate': 0.000393719657522375, 'optimizer': 'Adam', 'batch_size': 64, 'n_layers': 4, 'n_units_l0': 131, 'n_units_l1': 169, 'n_units_l2': 177, 'n_units_l3': 103}. Best is trial 180 with value: 544673.9375.\u001b[0m\n",
      "\u001b[32m[I 2022-09-30 15:51:24,477]\u001b[0m Trial 224 finished with value: 1555972.125 and parameters: {'learning_rate': 0.0004075524601162349, 'optimizer': 'Adam', 'batch_size': 64, 'n_layers': 4, 'n_units_l0': 137, 'n_units_l1': 142, 'n_units_l2': 230, 'n_units_l3': 104}. Best is trial 180 with value: 544673.9375.\u001b[0m\n",
      "\u001b[32m[I 2022-09-30 15:51:57,326]\u001b[0m Trial 256 finished with value: 604821.9375 and parameters: {'learning_rate': 0.0006056105814588854, 'optimizer': 'Adam', 'batch_size': 512, 'n_layers': 4, 'n_units_l0': 109, 'n_units_l1': 181, 'n_units_l2': 133, 'n_units_l3': 104}. Best is trial 180 with value: 544673.9375.\u001b[0m\n",
      "\u001b[32m[I 2022-09-30 15:51:58,075]\u001b[0m Trial 257 finished with value: 574754.375 and parameters: {'learning_rate': 0.0006129359739042061, 'optimizer': 'Adam', 'batch_size': 512, 'n_layers': 4, 'n_units_l0': 131, 'n_units_l1': 140, 'n_units_l2': 234, 'n_units_l3': 63}. Best is trial 180 with value: 544673.9375.\u001b[0m\n",
      "\u001b[32m[I 2022-09-30 15:51:58,714]\u001b[0m Trial 258 finished with value: 1555972.125 and parameters: {'learning_rate': 0.0006572754643546068, 'optimizer': 'Adam', 'batch_size': 128, 'n_layers': 4, 'n_units_l0': 191, 'n_units_l1': 181, 'n_units_l2': 57, 'n_units_l3': 104}. Best is trial 180 with value: 544673.9375.\u001b[0m\n",
      "\u001b[32m[I 2022-09-30 15:52:07,952]\u001b[0m Trial 244 finished with value: 595445.0625 and parameters: {'learning_rate': 0.00039924020863814114, 'optimizer': 'Adam', 'batch_size': 64, 'n_layers': 4, 'n_units_l0': 191, 'n_units_l1': 141, 'n_units_l2': 232, 'n_units_l3': 61}. Best is trial 180 with value: 544673.9375.\u001b[0m\n",
      "\u001b[32m[I 2022-09-30 15:52:08,198]\u001b[0m Trial 242 finished with value: 601058.375 and parameters: {'learning_rate': 0.00041262720511909824, 'optimizer': 'Adam', 'batch_size': 64, 'n_layers': 4, 'n_units_l0': 136, 'n_units_l1': 142, 'n_units_l2': 96, 'n_units_l3': 104}. Best is trial 180 with value: 544673.9375.\u001b[0m\n",
      "\u001b[32m[I 2022-09-30 15:52:08,867]\u001b[0m Trial 240 finished with value: 575079.5625 and parameters: {'learning_rate': 0.00038878912699579464, 'optimizer': 'Adam', 'batch_size': 64, 'n_layers': 4, 'n_units_l0': 189, 'n_units_l1': 180, 'n_units_l2': 98, 'n_units_l3': 45}. Best is trial 180 with value: 544673.9375.\u001b[0m\n",
      "\u001b[32m[I 2022-09-30 15:52:11,692]\u001b[0m Trial 241 finished with value: 1555972.125 and parameters: {'learning_rate': 0.00038518783222650727, 'optimizer': 'Adam', 'batch_size': 64, 'n_layers': 4, 'n_units_l0': 190, 'n_units_l1': 92, 'n_units_l2': 176, 'n_units_l3': 104}. Best is trial 180 with value: 544673.9375.\u001b[0m\n",
      "\u001b[32m[I 2022-09-30 15:52:12,653]\u001b[0m Trial 248 finished with value: 1035946.0625 and parameters: {'learning_rate': 0.0005712355031677756, 'optimizer': 'Adam', 'batch_size': 64, 'n_layers': 4, 'n_units_l0': 195, 'n_units_l1': 223, 'n_units_l2': 175, 'n_units_l3': 42}. Best is trial 180 with value: 544673.9375.\u001b[0m\n",
      "\u001b[32m[I 2022-09-30 15:52:13,914]\u001b[0m Trial 245 finished with value: 787115.875 and parameters: {'learning_rate': 0.0006038515950447823, 'optimizer': 'Adam', 'batch_size': 64, 'n_layers': 4, 'n_units_l0': 191, 'n_units_l1': 181, 'n_units_l2': 143, 'n_units_l3': 104}. Best is trial 180 with value: 544673.9375.\u001b[0m\n",
      "\u001b[32m[I 2022-09-30 15:52:19,976]\u001b[0m Trial 259 finished with value: 600100.25 and parameters: {'learning_rate': 0.0006003383385944491, 'optimizer': 'Adam', 'batch_size': 512, 'n_layers': 4, 'n_units_l0': 105, 'n_units_l1': 137, 'n_units_l2': 128, 'n_units_l3': 38}. Best is trial 180 with value: 544673.9375.\u001b[0m\n",
      "\u001b[32m[I 2022-09-30 15:52:56,554]\u001b[0m Trial 250 finished with value: 1555972.125 and parameters: {'learning_rate': 0.0027774733542161056, 'optimizer': 'Adam', 'batch_size': 512, 'n_layers': 4, 'n_units_l0': 126, 'n_units_l1': 150, 'n_units_l2': 92, 'n_units_l3': 35}. Best is trial 180 with value: 544673.9375.\u001b[0m\n",
      "\u001b[32m[I 2022-09-30 15:52:58,170]\u001b[0m Trial 260 finished with value: 608255.4375 and parameters: {'learning_rate': 0.0006253204143398137, 'optimizer': 'Adam', 'batch_size': 512, 'n_layers': 4, 'n_units_l0': 110, 'n_units_l1': 93, 'n_units_l2': 134, 'n_units_l3': 63}. Best is trial 180 with value: 544673.9375.\u001b[0m\n",
      "\u001b[32m[I 2022-09-30 15:53:00,085]\u001b[0m Trial 261 finished with value: 609394.375 and parameters: {'learning_rate': 0.0007118745166617476, 'optimizer': 'Adam', 'batch_size': 512, 'n_layers': 4, 'n_units_l0': 121, 'n_units_l1': 223, 'n_units_l2': 133, 'n_units_l3': 48}. Best is trial 180 with value: 544673.9375.\u001b[0m\n",
      "\u001b[32m[I 2022-09-30 15:53:00,291]\u001b[0m Trial 262 finished with value: 1555972.125 and parameters: {'learning_rate': 0.0005239773637989221, 'optimizer': 'Adam', 'batch_size': 512, 'n_layers': 4, 'n_units_l0': 112, 'n_units_l1': 141, 'n_units_l2': 133, 'n_units_l3': 113}. Best is trial 180 with value: 544673.9375.\u001b[0m\n",
      "\u001b[32m[I 2022-09-30 15:53:04,086]\u001b[0m Trial 251 finished with value: 627372.625 and parameters: {'learning_rate': 0.0006200939505134883, 'optimizer': 'Adam', 'batch_size': 512, 'n_layers': 4, 'n_units_l0': 197, 'n_units_l1': 150, 'n_units_l2': 233, 'n_units_l3': 38}. Best is trial 180 with value: 544673.9375.\u001b[0m\n",
      "\u001b[32m[I 2022-09-30 15:53:04,451]\u001b[0m Trial 255 finished with value: 652160.3125 and parameters: {'learning_rate': 0.0005746213610187012, 'optimizer': 'Adam', 'batch_size': 512, 'n_layers': 4, 'n_units_l0': 132, 'n_units_l1': 140, 'n_units_l2': 98, 'n_units_l3': 23}. Best is trial 180 with value: 544673.9375.\u001b[0m\n",
      "\u001b[32m[I 2022-09-30 15:53:18,633]\u001b[0m Trial 239 finished with value: 625500.4375 and parameters: {'learning_rate': 0.00037933010915519203, 'optimizer': 'Adam', 'batch_size': 64, 'n_layers': 4, 'n_units_l0': 122, 'n_units_l1': 139, 'n_units_l2': 94, 'n_units_l3': 45}. Best is trial 180 with value: 544673.9375.\u001b[0m\n",
      "\u001b[32m[I 2022-09-30 15:53:21,070]\u001b[0m Trial 246 finished with value: 1555972.125 and parameters: {'learning_rate': 0.00043409534490206514, 'optimizer': 'Adam', 'batch_size': 64, 'n_layers': 4, 'n_units_l0': 131, 'n_units_l1': 139, 'n_units_l2': 92, 'n_units_l3': 61}. Best is trial 180 with value: 544673.9375.\u001b[0m\n",
      "\u001b[32m[I 2022-09-30 15:53:29,755]\u001b[0m Trial 238 finished with value: 2861315.5 and parameters: {'learning_rate': 0.001504256875103181, 'optimizer': 'Adam', 'batch_size': 64, 'n_layers': 4, 'n_units_l0': 136, 'n_units_l1': 143, 'n_units_l2': 237, 'n_units_l3': 61}. Best is trial 180 with value: 544673.9375.\u001b[0m\n",
      "\u001b[32m[I 2022-09-30 15:53:30,361]\u001b[0m Trial 243 finished with value: 609142.6875 and parameters: {'learning_rate': 0.00041604752458635326, 'optimizer': 'Adam', 'batch_size': 64, 'n_layers': 4, 'n_units_l0': 133, 'n_units_l1': 138, 'n_units_l2': 94, 'n_units_l3': 49}. Best is trial 180 with value: 544673.9375.\u001b[0m\n",
      "\u001b[32m[I 2022-09-30 15:53:46,570]\u001b[0m Trial 254 finished with value: 1555972.125 and parameters: {'learning_rate': 0.0011931767429704222, 'optimizer': 'Adam', 'batch_size': 512, 'n_layers': 4, 'n_units_l0': 106, 'n_units_l1': 213, 'n_units_l2': 238, 'n_units_l3': 47}. Best is trial 180 with value: 544673.9375.\u001b[0m\n",
      "\u001b[32m[I 2022-09-30 15:54:08,362]\u001b[0m Trial 252 finished with value: 9751449.0 and parameters: {'learning_rate': 0.002730020861293835, 'optimizer': 'Adam', 'batch_size': 512, 'n_layers': 4, 'n_units_l0': 101, 'n_units_l1': 222, 'n_units_l2': 127, 'n_units_l3': 27}. Best is trial 180 with value: 544673.9375.\u001b[0m\n",
      "\u001b[32m[I 2022-09-30 15:54:11,802]\u001b[0m Trial 249 finished with value: 599691.9375 and parameters: {'learning_rate': 0.0004733678202648993, 'optimizer': 'Adam', 'batch_size': 64, 'n_layers': 4, 'n_units_l0': 107, 'n_units_l1': 177, 'n_units_l2': 237, 'n_units_l3': 51}. Best is trial 180 with value: 544673.9375.\u001b[0m\n",
      "\u001b[32m[I 2022-09-30 15:54:24,208]\u001b[0m Trial 253 finished with value: 1555972.125 and parameters: {'learning_rate': 0.0006314956026610532, 'optimizer': 'Adam', 'batch_size': 512, 'n_layers': 4, 'n_units_l0': 106, 'n_units_l1': 221, 'n_units_l2': 127, 'n_units_l3': 68}. Best is trial 180 with value: 544673.9375.\u001b[0m\n",
      "\u001b[32m[I 2022-09-30 15:54:29,841]\u001b[0m Trial 277 finished with value: 1555972.125 and parameters: {'learning_rate': 0.00030152894115188246, 'optimizer': 'Adam', 'batch_size': 512, 'n_layers': 4, 'n_units_l0': 108, 'n_units_l1': 174, 'n_units_l2': 102, 'n_units_l3': 52}. Best is trial 180 with value: 544673.9375.\u001b[0m\n",
      "\u001b[32m[I 2022-09-30 15:54:35,807]\u001b[0m Trial 247 finished with value: 780097.5625 and parameters: {'learning_rate': 0.0006101597607481503, 'optimizer': 'Adam', 'batch_size': 64, 'n_layers': 4, 'n_units_l0': 106, 'n_units_l1': 232, 'n_units_l2': 135, 'n_units_l3': 52}. Best is trial 180 with value: 544673.9375.\u001b[0m\n",
      "\u001b[32m[I 2022-09-30 15:55:05,346]\u001b[0m Trial 269 finished with value: 799259.5625 and parameters: {'learning_rate': 0.0003008406371333192, 'optimizer': 'Adam', 'batch_size': 512, 'n_layers': 4, 'n_units_l0': 108, 'n_units_l1': 158, 'n_units_l2': 119, 'n_units_l3': 44}. Best is trial 180 with value: 544673.9375.\u001b[0m\n",
      "\u001b[32m[I 2022-09-30 15:55:05,687]\u001b[0m Trial 267 finished with value: 676489.625 and parameters: {'learning_rate': 0.0004793449099898669, 'optimizer': 'Adam', 'batch_size': 1024, 'n_layers': 4, 'n_units_l0': 120, 'n_units_l1': 176, 'n_units_l2': 83, 'n_units_l3': 51}. Best is trial 180 with value: 544673.9375.\u001b[0m\n",
      "\u001b[32m[I 2022-09-30 15:55:06,559]\u001b[0m Trial 274 finished with value: 734700.75 and parameters: {'learning_rate': 0.00030837479937413317, 'optimizer': 'Adam', 'batch_size': 512, 'n_layers': 4, 'n_units_l0': 119, 'n_units_l1': 178, 'n_units_l2': 100, 'n_units_l3': 54}. Best is trial 180 with value: 544673.9375.\u001b[0m\n",
      "\u001b[32m[I 2022-09-30 15:55:07,028]\u001b[0m Trial 273 finished with value: 1555972.125 and parameters: {'learning_rate': 0.00047141751821383975, 'optimizer': 'Adam', 'batch_size': 512, 'n_layers': 4, 'n_units_l0': 122, 'n_units_l1': 157, 'n_units_l2': 79, 'n_units_l3': 52}. Best is trial 180 with value: 544673.9375.\u001b[0m\n",
      "\u001b[32m[I 2022-09-30 15:55:07,782]\u001b[0m Trial 279 finished with value: 1555972.125 and parameters: {'learning_rate': 0.00027511031301217403, 'optimizer': 'Adam', 'batch_size': 512, 'n_layers': 4, 'n_units_l0': 106, 'n_units_l1': 176, 'n_units_l2': 102, 'n_units_l3': 52}. Best is trial 180 with value: 544673.9375.\u001b[0m\n",
      "\u001b[32m[I 2022-09-30 15:55:08,605]\u001b[0m Trial 282 finished with value: 766107.3125 and parameters: {'learning_rate': 0.0003138210216561554, 'optimizer': 'Adam', 'batch_size': 512, 'n_layers': 4, 'n_units_l0': 117, 'n_units_l1': 234, 'n_units_l2': 101, 'n_units_l3': 42}. Best is trial 180 with value: 544673.9375.\u001b[0m\n",
      "\u001b[32m[I 2022-09-30 15:55:54,083]\u001b[0m Trial 265 finished with value: 1555972.125 and parameters: {'learning_rate': 0.0005925064074215738, 'optimizer': 'Adam', 'batch_size': 512, 'n_layers': 4, 'n_units_l0': 116, 'n_units_l1': 165, 'n_units_l2': 85, 'n_units_l3': 59}. Best is trial 180 with value: 544673.9375.\u001b[0m\n",
      "\u001b[32m[I 2022-09-30 15:55:56,320]\u001b[0m Trial 264 finished with value: 624825.875 and parameters: {'learning_rate': 0.0007364690911161058, 'optimizer': 'Adam', 'batch_size': 512, 'n_layers': 4, 'n_units_l0': 115, 'n_units_l1': 165, 'n_units_l2': 242, 'n_units_l3': 58}. Best is trial 180 with value: 544673.9375.\u001b[0m\n",
      "\u001b[32m[I 2022-09-30 15:55:57,066]\u001b[0m Trial 272 finished with value: 1555972.125 and parameters: {'learning_rate': 0.0004752609779536376, 'optimizer': 'Adam', 'batch_size': 512, 'n_layers': 4, 'n_units_l0': 116, 'n_units_l1': 166, 'n_units_l2': 255, 'n_units_l3': 59}. Best is trial 180 with value: 544673.9375.\u001b[0m\n",
      "\u001b[32m[I 2022-09-30 15:55:57,225]\u001b[0m Trial 278 finished with value: 750667.375 and parameters: {'learning_rate': 0.00029274111318358675, 'optimizer': 'Adam', 'batch_size': 512, 'n_layers': 4, 'n_units_l0': 112, 'n_units_l1': 100, 'n_units_l2': 256, 'n_units_l3': 59}. Best is trial 180 with value: 544673.9375.\u001b[0m\n",
      "\u001b[32m[I 2022-09-30 15:55:57,822]\u001b[0m Trial 281 finished with value: 822554.0625 and parameters: {'learning_rate': 0.00029190589418424403, 'optimizer': 'Adam', 'batch_size': 512, 'n_layers': 4, 'n_units_l0': 97, 'n_units_l1': 96, 'n_units_l2': 79, 'n_units_l3': 65}. Best is trial 180 with value: 544673.9375.\u001b[0m\n",
      "\u001b[32m[I 2022-09-30 15:56:00,207]\u001b[0m Trial 271 finished with value: 1555972.125 and parameters: {'learning_rate': 0.0004978274822959513, 'optimizer': 'Adam', 'batch_size': 512, 'n_layers': 4, 'n_units_l0': 127, 'n_units_l1': 209, 'n_units_l2': 75, 'n_units_l3': 60}. Best is trial 180 with value: 544673.9375.\u001b[0m\n",
      "\u001b[32m[I 2022-09-30 15:56:44,156]\u001b[0m Trial 270 finished with value: 617806.5625 and parameters: {'learning_rate': 0.0004798946514225564, 'optimizer': 'Adam', 'batch_size': 512, 'n_layers': 4, 'n_units_l0': 95, 'n_units_l1': 101, 'n_units_l2': 253, 'n_units_l3': 74}. Best is trial 180 with value: 544673.9375.\u001b[0m\n",
      "\u001b[32m[I 2022-09-30 15:56:44,672]\u001b[0m Trial 266 finished with value: 655917.375 and parameters: {'learning_rate': 0.0005855818430569377, 'optimizer': 'Adam', 'batch_size': 512, 'n_layers': 4, 'n_units_l0': 127, 'n_units_l1': 98, 'n_units_l2': 112, 'n_units_l3': 75}. Best is trial 180 with value: 544673.9375.\u001b[0m\n",
      "\u001b[32m[I 2022-09-30 15:56:46,695]\u001b[0m Trial 276 finished with value: 745954.3125 and parameters: {'learning_rate': 0.00029548522299056927, 'optimizer': 'Adam', 'batch_size': 512, 'n_layers': 4, 'n_units_l0': 95, 'n_units_l1': 120, 'n_units_l2': 244, 'n_units_l3': 29}. Best is trial 180 with value: 544673.9375.\u001b[0m\n",
      "\u001b[32m[I 2022-09-30 15:56:47,203]\u001b[0m Trial 283 finished with value: 641632.125 and parameters: {'learning_rate': 0.00047887919846931084, 'optimizer': 'Adam', 'batch_size': 512, 'n_layers': 4, 'n_units_l0': 126, 'n_units_l1': 120, 'n_units_l2': 87, 'n_units_l3': 74}. Best is trial 180 with value: 544673.9375.\u001b[0m\n",
      "\u001b[32m[I 2022-09-30 15:56:49,522]\u001b[0m Trial 280 finished with value: 735342.5625 and parameters: {'learning_rate': 0.000300265735876746, 'optimizer': 'Adam', 'batch_size': 512, 'n_layers': 4, 'n_units_l0': 128, 'n_units_l1': 188, 'n_units_l2': 133, 'n_units_l3': 71}. Best is trial 180 with value: 544673.9375.\u001b[0m\n",
      "\u001b[32m[I 2022-09-30 15:56:52,090]\u001b[0m Trial 275 finished with value: 603939.5625 and parameters: {'learning_rate': 0.00047099886564613234, 'optimizer': 'Adam', 'batch_size': 512, 'n_layers': 4, 'n_units_l0': 137, 'n_units_l1': 189, 'n_units_l2': 129, 'n_units_l3': 70}. Best is trial 180 with value: 544673.9375.\u001b[0m\n",
      "\u001b[32m[I 2022-09-30 15:57:05,342]\u001b[0m Trial 268 finished with value: 1555972.125 and parameters: {'learning_rate': 0.00027752724881079105, 'optimizer': 'Adam', 'batch_size': 512, 'n_layers': 4, 'n_units_l0': 134, 'n_units_l1': 135, 'n_units_l2': 227, 'n_units_l3': 40}. Best is trial 180 with value: 544673.9375.\u001b[0m\n",
      "\u001b[32m[I 2022-09-30 15:57:27,423]\u001b[0m Trial 284 finished with value: 1555972.125 and parameters: {'learning_rate': 0.00028202436273838904, 'optimizer': 'Adam', 'batch_size': 512, 'n_layers': 5, 'n_units_l0': 181, 'n_units_l1': 189, 'n_units_l2': 131, 'n_units_l3': 112, 'n_units_l4': 54}. Best is trial 180 with value: 544673.9375.\u001b[0m\n",
      "\u001b[32m[I 2022-09-30 15:57:28,358]\u001b[0m Trial 263 finished with value: 1555972.125 and parameters: {'learning_rate': 0.0006152288120698074, 'optimizer': 'Adam', 'batch_size': 512, 'n_layers': 6, 'n_units_l0': 135, 'n_units_l1': 147, 'n_units_l2': 235, 'n_units_l3': 47, 'n_units_l4': 165, 'n_units_l5': 71}. Best is trial 180 with value: 544673.9375.\u001b[0m\n",
      "\u001b[32m[I 2022-09-30 15:57:41,422]\u001b[0m Trial 296 finished with value: 646610.5625 and parameters: {'learning_rate': 0.0008078738351153586, 'optimizer': 'Adam', 'batch_size': 512, 'n_layers': 4, 'n_units_l0': 66, 'n_units_l1': 121, 'n_units_l2': 247, 'n_units_l3': 19}. Best is trial 180 with value: 544673.9375.\u001b[0m\n",
      "\u001b[32m[I 2022-09-30 15:57:42,422]\u001b[0m Trial 285 finished with value: 638507.375 and parameters: {'learning_rate': 0.0004824158973343239, 'optimizer': 'Adam', 'batch_size': 512, 'n_layers': 4, 'n_units_l0': 101, 'n_units_l1': 188, 'n_units_l2': 130, 'n_units_l3': 69}. Best is trial 180 with value: 544673.9375.\u001b[0m\n",
      "\u001b[32m[I 2022-09-30 15:57:43,019]\u001b[0m Trial 291 finished with value: 1555972.125 and parameters: {'learning_rate': 0.0004823808853528012, 'optimizer': 'Adam', 'batch_size': 512, 'n_layers': 4, 'n_units_l0': 138, 'n_units_l1': 121, 'n_units_l2': 132, 'n_units_l3': 39}. Best is trial 180 with value: 544673.9375.\u001b[0m\n",
      "\u001b[32m[I 2022-09-30 15:57:44,374]\u001b[0m Trial 288 finished with value: 1555972.125 and parameters: {'learning_rate': 0.0007362121016546425, 'optimizer': 'Adam', 'batch_size': 512, 'n_layers': 4, 'n_units_l0': 67, 'n_units_l1': 188, 'n_units_l2': 249, 'n_units_l3': 31}. Best is trial 180 with value: 544673.9375.\u001b[0m\n",
      "\u001b[32m[I 2022-09-30 15:57:44,589]\u001b[0m Trial 293 finished with value: 632246.0625 and parameters: {'learning_rate': 0.0007139021419944061, 'optimizer': 'Adam', 'batch_size': 512, 'n_layers': 4, 'n_units_l0': 183, 'n_units_l1': 189, 'n_units_l2': 130, 'n_units_l3': 40}. Best is trial 180 with value: 544673.9375.\u001b[0m\n",
      "\u001b[32m[I 2022-09-30 15:57:45,529]\u001b[0m Trial 295 finished with value: 1555972.0 and parameters: {'learning_rate': 0.0007785461114575764, 'optimizer': 'Adam', 'batch_size': 512, 'n_layers': 4, 'n_units_l0': 140, 'n_units_l1': 135, 'n_units_l2': 248, 'n_units_l3': 47}. Best is trial 180 with value: 544673.9375.\u001b[0m\n",
      "\u001b[32m[I 2022-09-30 15:58:36,273]\u001b[0m Trial 290 finished with value: 617282.875 and parameters: {'learning_rate': 0.000747026992574242, 'optimizer': 'Adam', 'batch_size': 512, 'n_layers': 4, 'n_units_l0': 141, 'n_units_l1': 198, 'n_units_l2': 139, 'n_units_l3': 33}. Best is trial 180 with value: 544673.9375.\u001b[0m\n",
      "\u001b[32m[I 2022-09-30 15:58:38,153]\u001b[0m Trial 286 finished with value: 643014.0 and parameters: {'learning_rate': 0.000768219273230105, 'optimizer': 'Adam', 'batch_size': 512, 'n_layers': 4, 'n_units_l0': 184, 'n_units_l1': 198, 'n_units_l2': 137, 'n_units_l3': 124}. Best is trial 180 with value: 544673.9375.\u001b[0m\n",
      "\u001b[32m[I 2022-09-30 15:58:40,390]\u001b[0m Trial 292 finished with value: 662723.75 and parameters: {'learning_rate': 0.0007968601588765618, 'optimizer': 'Adam', 'batch_size': 512, 'n_layers': 4, 'n_units_l0': 141, 'n_units_l1': 136, 'n_units_l2': 137, 'n_units_l3': 66}. Best is trial 180 with value: 544673.9375.\u001b[0m\n",
      "\u001b[32m[I 2022-09-30 15:58:43,324]\u001b[0m Trial 287 finished with value: 809335.125 and parameters: {'learning_rate': 0.0007797822578260458, 'optimizer': 'Adam', 'batch_size': 512, 'n_layers': 4, 'n_units_l0': 198, 'n_units_l1': 199, 'n_units_l2': 142, 'n_units_l3': 122}. Best is trial 180 with value: 544673.9375.\u001b[0m\n",
      "\u001b[32m[I 2022-09-30 15:58:55,332]\u001b[0m Trial 310 finished with value: 645451.9375 and parameters: {'learning_rate': 0.0003511151067115947, 'optimizer': 'Adam', 'batch_size': 32, 'n_layers': 4, 'n_units_l0': 142, 'n_units_l1': 181, 'n_units_l2': 138, 'n_units_l3': 124}. Best is trial 180 with value: 544673.9375.\u001b[0m\n",
      "\u001b[32m[I 2022-09-30 15:59:08,534]\u001b[0m Trial 302 finished with value: 1555972.125 and parameters: {'learning_rate': 0.0007701206376612506, 'optimizer': 'Adam', 'batch_size': 32, 'n_layers': 4, 'n_units_l0': 142, 'n_units_l1': 78, 'n_units_l2': 137, 'n_units_l3': 94}. Best is trial 180 with value: 544673.9375.\u001b[0m\n",
      "\u001b[32m[I 2022-09-30 15:59:14,751]\u001b[0m Trial 307 finished with value: 670195.0625 and parameters: {'learning_rate': 0.00036157137331396604, 'optimizer': 'Adam', 'batch_size': 32, 'n_layers': 4, 'n_units_l0': 140, 'n_units_l1': 212, 'n_units_l2': 120, 'n_units_l3': 66}. Best is trial 180 with value: 544673.9375.\u001b[0m\n",
      "\u001b[32m[I 2022-09-30 15:59:17,655]\u001b[0m Trial 301 finished with value: 1555972.125 and parameters: {'learning_rate': 0.0007479398644560542, 'optimizer': 'Adam', 'batch_size': 32, 'n_layers': 4, 'n_units_l0': 174, 'n_units_l1': 198, 'n_units_l2': 141, 'n_units_l3': 65}. Best is trial 180 with value: 544673.9375.\u001b[0m\n",
      "\u001b[32m[I 2022-09-30 15:59:17,917]\u001b[0m Trial 303 finished with value: 1555972.125 and parameters: {'learning_rate': 0.000778754887395752, 'optimizer': 'Adam', 'batch_size': 32, 'n_layers': 4, 'n_units_l0': 141, 'n_units_l1': 181, 'n_units_l2': 142, 'n_units_l3': 65}. Best is trial 180 with value: 544673.9375.\u001b[0m\n",
      "\u001b[32m[I 2022-09-30 15:59:21,499]\u001b[0m Trial 308 finished with value: 1216621.25 and parameters: {'learning_rate': 0.0006962633644623817, 'optimizer': 'Adam', 'batch_size': 32, 'n_layers': 4, 'n_units_l0': 198, 'n_units_l1': 197, 'n_units_l2': 140, 'n_units_l3': 123}. Best is trial 180 with value: 544673.9375.\u001b[0m\n",
      "\u001b[32m[I 2022-09-30 15:59:23,356]\u001b[0m Trial 312 finished with value: 1555972.125 and parameters: {'learning_rate': 0.0003590746364261799, 'optimizer': 'Adam', 'batch_size': 32, 'n_layers': 4, 'n_units_l0': 198, 'n_units_l1': 198, 'n_units_l2': 205, 'n_units_l3': 124}. Best is trial 180 with value: 544673.9375.\u001b[0m\n",
      "\u001b[32m[I 2022-09-30 15:59:26,100]\u001b[0m Trial 298 finished with value: 1555972.125 and parameters: {'learning_rate': 0.0007644494030763436, 'optimizer': 'Adam', 'batch_size': 512, 'n_layers': 4, 'n_units_l0': 160, 'n_units_l1': 146, 'n_units_l2': 202, 'n_units_l3': 95}. Best is trial 180 with value: 544673.9375.\u001b[0m\n",
      "\u001b[32m[I 2022-09-30 16:00:00,985]\u001b[0m Trial 299 finished with value: 1555972.125 and parameters: {'learning_rate': 0.0007648027816753802, 'optimizer': 'Adam', 'batch_size': 32, 'n_layers': 4, 'n_units_l0': 142, 'n_units_l1': 198, 'n_units_l2': 140, 'n_units_l3': 65}. Best is trial 180 with value: 544673.9375.\u001b[0m\n",
      "\u001b[32m[I 2022-09-30 16:00:12,629]\u001b[0m Trial 305 finished with value: 1560117.125 and parameters: {'learning_rate': 0.0007404580143444544, 'optimizer': 'Adam', 'batch_size': 32, 'n_layers': 4, 'n_units_l0': 158, 'n_units_l1': 63, 'n_units_l2': 204, 'n_units_l3': 85}. Best is trial 180 with value: 544673.9375.\u001b[0m\n",
      "\u001b[32m[I 2022-09-30 16:00:13,518]\u001b[0m Trial 306 finished with value: 1555972.125 and parameters: {'learning_rate': 0.0007471918714328381, 'optimizer': 'Adam', 'batch_size': 32, 'n_layers': 4, 'n_units_l0': 133, 'n_units_l1': 182, 'n_units_l2': 163, 'n_units_l3': 84}. Best is trial 180 with value: 544673.9375.\u001b[0m\n",
      "\u001b[32m[I 2022-09-30 16:00:16,413]\u001b[0m Trial 294 finished with value: 767273.25 and parameters: {'learning_rate': 0.0007757793249093765, 'optimizer': 'Adam', 'batch_size': 512, 'n_layers': 4, 'n_units_l0': 189, 'n_units_l1': 251, 'n_units_l2': 164, 'n_units_l3': 114}. Best is trial 180 with value: 544673.9375.\u001b[0m\n",
      "\u001b[32m[I 2022-09-30 16:00:28,785]\u001b[0m Trial 320 finished with value: 1555972.125 and parameters: {'learning_rate': 0.0004084376627423991, 'optimizer': 'Adam', 'batch_size': 64, 'n_layers': 4, 'n_units_l0': 160, 'n_units_l1': 151, 'n_units_l2': 164, 'n_units_l3': 48}. Best is trial 180 with value: 544673.9375.\u001b[0m\n",
      "\u001b[32m[I 2022-09-30 16:00:44,518]\u001b[0m Trial 309 finished with value: 998837.125 and parameters: {'learning_rate': 0.0007102083404524096, 'optimizer': 'Adam', 'batch_size': 32, 'n_layers': 4, 'n_units_l0': 211, 'n_units_l1': 144, 'n_units_l2': 202, 'n_units_l3': 86}. Best is trial 180 with value: 544673.9375.\u001b[0m\n",
      "\u001b[32m[I 2022-09-30 16:00:46,903]\u001b[0m Trial 300 finished with value: 1059485.125 and parameters: {'learning_rate': 0.0008003076274721939, 'optimizer': 'Adam', 'batch_size': 32, 'n_layers': 4, 'n_units_l0': 159, 'n_units_l1': 181, 'n_units_l2': 143, 'n_units_l3': 65}. Best is trial 180 with value: 544673.9375.\u001b[0m\n",
      "\u001b[32m[I 2022-09-30 16:00:48,334]\u001b[0m Trial 304 finished with value: 1140303.875 and parameters: {'learning_rate': 0.0007808622910299025, 'optimizer': 'Adam', 'batch_size': 32, 'n_layers': 4, 'n_units_l0': 205, 'n_units_l1': 144, 'n_units_l2': 156, 'n_units_l3': 49}. Best is trial 180 with value: 544673.9375.\u001b[0m\n",
      "\u001b[32m[I 2022-09-30 16:00:50,026]\u001b[0m Trial 311 finished with value: 738717.25 and parameters: {'learning_rate': 0.0003601897370986118, 'optimizer': 'Adam', 'batch_size': 32, 'n_layers': 4, 'n_units_l0': 188, 'n_units_l1': 252, 'n_units_l2': 164, 'n_units_l3': 84}. Best is trial 180 with value: 544673.9375.\u001b[0m\n",
      "\u001b[32m[I 2022-09-30 16:00:51,526]\u001b[0m Trial 297 finished with value: 1088508.5 and parameters: {'learning_rate': 0.0007959375981398771, 'optimizer': 'Adam', 'batch_size': 512, 'n_layers': 4, 'n_units_l0': 211, 'n_units_l1': 250, 'n_units_l2': 165, 'n_units_l3': 112}. Best is trial 180 with value: 544673.9375.\u001b[0m\n",
      "\u001b[32m[I 2022-09-30 16:00:58,248]\u001b[0m Trial 289 finished with value: 1555972.125 and parameters: {'learning_rate': 0.0007296932159639528, 'optimizer': 'Adam', 'batch_size': 512, 'n_layers': 6, 'n_units_l0': 175, 'n_units_l1': 246, 'n_units_l2': 228, 'n_units_l3': 46, 'n_units_l4': 225, 'n_units_l5': 148}. Best is trial 180 with value: 544673.9375.\u001b[0m\n",
      "\u001b[32m[I 2022-09-30 16:01:03,891]\u001b[0m Trial 313 finished with value: 1555972.125 and parameters: {'learning_rate': 0.00037125046649495535, 'optimizer': 'Adam', 'batch_size': 32, 'n_layers': 4, 'n_units_l0': 189, 'n_units_l1': 56, 'n_units_l2': 218, 'n_units_l3': 83}. Best is trial 180 with value: 544673.9375.\u001b[0m\n",
      "\u001b[32m[I 2022-09-30 16:01:09,085]\u001b[0m Trial 315 finished with value: 624622.9375 and parameters: {'learning_rate': 0.0003395376490781497, 'optimizer': 'Adam', 'batch_size': 32, 'n_layers': 4, 'n_units_l0': 188, 'n_units_l1': 247, 'n_units_l2': 125, 'n_units_l3': 47}. Best is trial 180 with value: 544673.9375.\u001b[0m\n",
      "\u001b[32m[I 2022-09-30 16:01:28,691]\u001b[0m Trial 322 finished with value: 789622.4375 and parameters: {'learning_rate': 0.0004451678726906314, 'optimizer': 'Adam', 'batch_size': 64, 'n_layers': 6, 'n_units_l0': 123, 'n_units_l1': 93, 'n_units_l2': 149, 'n_units_l3': 54, 'n_units_l4': 226, 'n_units_l5': 153}. Best is trial 180 with value: 544673.9375.\u001b[0m\n",
      "\u001b[32m[I 2022-09-30 16:01:58,786]\u001b[0m Trial 317 finished with value: 1555972.125 and parameters: {'learning_rate': 0.0003755538692703716, 'optimizer': 'Adam', 'batch_size': 64, 'n_layers': 5, 'n_units_l0': 123, 'n_units_l1': 90, 'n_units_l2': 184, 'n_units_l3': 107, 'n_units_l4': 10}. Best is trial 180 with value: 544673.9375.\u001b[0m\n",
      "\u001b[32m[I 2022-09-30 16:02:07,521]\u001b[0m Trial 316 finished with value: 612460.625 and parameters: {'learning_rate': 0.0003612202385811661, 'optimizer': 'Adam', 'batch_size': 32, 'n_layers': 3, 'n_units_l0': 123, 'n_units_l1': 91, 'n_units_l2': 183}. Best is trial 180 with value: 544673.9375.\u001b[0m\n",
      "\u001b[32m[I 2022-09-30 16:02:23,156]\u001b[0m Trial 318 finished with value: 616087.625 and parameters: {'learning_rate': 0.00038246302087738076, 'optimizer': 'Adam', 'batch_size': 64, 'n_layers': 5, 'n_units_l0': 86, 'n_units_l1': 171, 'n_units_l2': 183, 'n_units_l3': 107, 'n_units_l4': 9}. Best is trial 180 with value: 544673.9375.\u001b[0m\n",
      "\u001b[32m[I 2022-09-30 16:02:40,449]\u001b[0m Trial 321 finished with value: 641205.25 and parameters: {'learning_rate': 0.00042416894737901215, 'optimizer': 'Adam', 'batch_size': 64, 'n_layers': 3, 'n_units_l0': 88, 'n_units_l1': 171, 'n_units_l2': 93}. Best is trial 180 with value: 544673.9375.\u001b[0m\n",
      "\u001b[32m[I 2022-09-30 16:02:49,340]\u001b[0m Trial 319 finished with value: 670181.75 and parameters: {'learning_rate': 0.0003786828614045738, 'optimizer': 'Adam', 'batch_size': 64, 'n_layers': 3, 'n_units_l0': 110, 'n_units_l1': 176, 'n_units_l2': 149}. Best is trial 180 with value: 544673.9375.\u001b[0m\n",
      "\u001b[32m[I 2022-09-30 16:02:59,136]\u001b[0m Trial 332 finished with value: 887202.0625 and parameters: {'learning_rate': 0.0005514136769260755, 'optimizer': 'Adam', 'batch_size': 64, 'n_layers': 3, 'n_units_l0': 1, 'n_units_l1': 219, 'n_units_l2': 158}. Best is trial 180 with value: 544673.9375.\u001b[0m\n",
      "\u001b[32m[I 2022-09-30 16:03:01,296]\u001b[0m Trial 314 finished with value: 593697.625 and parameters: {'learning_rate': 0.00040798179598504125, 'optimizer': 'Adam', 'batch_size': 32, 'n_layers': 3, 'n_units_l0': 111, 'n_units_l1': 216, 'n_units_l2': 147}. Best is trial 180 with value: 544673.9375.\u001b[0m\n",
      "\u001b[32m[I 2022-09-30 16:03:25,200]\u001b[0m Trial 342 finished with value: 1555972.125 and parameters: {'learning_rate': 0.0005517929337634274, 'optimizer': 'Adam', 'batch_size': 2048, 'n_layers': 3, 'n_units_l0': 170, 'n_units_l1': 217, 'n_units_l2': 149}. Best is trial 180 with value: 544673.9375.\u001b[0m\n",
      "\u001b[32m[I 2022-09-30 16:03:35,704]\u001b[0m Trial 326 finished with value: 646853.625 and parameters: {'learning_rate': 0.0005432926300109459, 'optimizer': 'Adam', 'batch_size': 64, 'n_layers': 3, 'n_units_l0': 112, 'n_units_l1': 216, 'n_units_l2': 23}. Best is trial 180 with value: 544673.9375.\u001b[0m\n",
      "\u001b[32m[I 2022-09-30 16:03:37,128]\u001b[0m Trial 327 finished with value: 651284.9375 and parameters: {'learning_rate': 0.0004104818164126388, 'optimizer': 'Adam', 'batch_size': 64, 'n_layers': 3, 'n_units_l0': 111, 'n_units_l1': 133, 'n_units_l2': 148}. Best is trial 180 with value: 544673.9375.\u001b[0m\n",
      "\u001b[32m[I 2022-09-30 16:03:42,575]\u001b[0m Trial 330 finished with value: 561309.4375 and parameters: {'learning_rate': 0.0004372625272886031, 'optimizer': 'Adam', 'batch_size': 64, 'n_layers': 3, 'n_units_l0': 183, 'n_units_l1': 228, 'n_units_l2': 123}. Best is trial 180 with value: 544673.9375.\u001b[0m\n",
      "\u001b[32m[I 2022-09-30 16:03:47,810]\u001b[0m Trial 331 finished with value: 594937.75 and parameters: {'learning_rate': 0.0005728697720493667, 'optimizer': 'Adam', 'batch_size': 64, 'n_layers': 3, 'n_units_l0': 112, 'n_units_l1': 176, 'n_units_l2': 147}. Best is trial 180 with value: 544673.9375.\u001b[0m\n",
      "\u001b[32m[I 2022-09-30 16:03:49,020]\u001b[0m Trial 338 finished with value: 1555972.125 and parameters: {'learning_rate': 0.0005495548525920491, 'optimizer': 'Adam', 'batch_size': 64, 'n_layers': 3, 'n_units_l0': 170, 'n_units_l1': 132, 'n_units_l2': 125}. Best is trial 180 with value: 544673.9375.\u001b[0m\n",
      "\u001b[32m[I 2022-09-30 16:04:05,979]\u001b[0m Trial 344 finished with value: 673660.6875 and parameters: {'learning_rate': 0.0005448483383525765, 'optimizer': 'Adam', 'batch_size': 2048, 'n_layers': 3, 'n_units_l0': 101, 'n_units_l1': 132, 'n_units_l2': 238}. Best is trial 180 with value: 544673.9375.\u001b[0m\n",
      "\u001b[32m[I 2022-09-30 16:04:25,317]\u001b[0m Trial 328 finished with value: 648130.9375 and parameters: {'learning_rate': 0.0004380210900743084, 'optimizer': 'Adam', 'batch_size': 64, 'n_layers': 3, 'n_units_l0': 99, 'n_units_l1': 132, 'n_units_l2': 70}. Best is trial 180 with value: 544673.9375.\u001b[0m\n",
      "\u001b[32m[I 2022-09-30 16:04:32,437]\u001b[0m Trial 323 finished with value: 633694.3125 and parameters: {'learning_rate': 0.0004243570649642289, 'optimizer': 'Adam', 'batch_size': 64, 'n_layers': 3, 'n_units_l0': 104, 'n_units_l1': 207, 'n_units_l2': 238}. Best is trial 180 with value: 544673.9375.\u001b[0m\n",
      "\u001b[32m[I 2022-09-30 16:04:37,130]\u001b[0m Trial 325 finished with value: 1555972.125 and parameters: {'learning_rate': 0.0004119845942382076, 'optimizer': 'Adam', 'batch_size': 64, 'n_layers': 3, 'n_units_l0': 193, 'n_units_l1': 228, 'n_units_l2': 122}. Best is trial 180 with value: 544673.9375.\u001b[0m\n",
      "\u001b[32m[I 2022-09-30 16:04:45,367]\u001b[0m Trial 339 finished with value: 597273.1875 and parameters: {'learning_rate': 0.0005353292129473354, 'optimizer': 'Adam', 'batch_size': 64, 'n_layers': 3, 'n_units_l0': 99, 'n_units_l1': 184, 'n_units_l2': 154}. Best is trial 180 with value: 544673.9375.\u001b[0m\n",
      "\u001b[32m[I 2022-09-30 16:04:47,374]\u001b[0m Trial 324 finished with value: 608491.625 and parameters: {'learning_rate': 0.000560927605785424, 'optimizer': 'Adam', 'batch_size': 64, 'n_layers': 3, 'n_units_l0': 179, 'n_units_l1': 205, 'n_units_l2': 154}. Best is trial 180 with value: 544673.9375.\u001b[0m\n",
      "\u001b[32m[I 2022-09-30 16:04:49,413]\u001b[0m Trial 336 finished with value: 619492.9375 and parameters: {'learning_rate': 0.000545871915645031, 'optimizer': 'Adam', 'batch_size': 64, 'n_layers': 3, 'n_units_l0': 103, 'n_units_l1': 228, 'n_units_l2': 156}. Best is trial 180 with value: 544673.9375.\u001b[0m\n",
      "\u001b[32m[I 2022-09-30 16:05:00,773]\u001b[0m Trial 335 finished with value: 605600.3125 and parameters: {'learning_rate': 0.0005592909362680174, 'optimizer': 'Adam', 'batch_size': 64, 'n_layers': 3, 'n_units_l0': 102, 'n_units_l1': 185, 'n_units_l2': 154}. Best is trial 180 with value: 544673.9375.\u001b[0m\n",
      "\u001b[32m[I 2022-09-30 16:05:35,711]\u001b[0m Trial 329 finished with value: 644974.25 and parameters: {'learning_rate': 0.0005486706911107035, 'optimizer': 'Adam', 'batch_size': 64, 'n_layers': 3, 'n_units_l0': 180, 'n_units_l1': 184, 'n_units_l2': 155}. Best is trial 180 with value: 544673.9375.\u001b[0m\n",
      "\u001b[32m[I 2022-09-30 16:05:39,505]\u001b[0m Trial 334 finished with value: 604917.375 and parameters: {'learning_rate': 0.0005495687313587511, 'optimizer': 'Adam', 'batch_size': 64, 'n_layers': 3, 'n_units_l0': 178, 'n_units_l1': 184, 'n_units_l2': 154}. Best is trial 180 with value: 544673.9375.\u001b[0m\n",
      "\u001b[32m[I 2022-09-30 16:05:57,247]\u001b[0m Trial 333 finished with value: 1555972.125 and parameters: {'learning_rate': 0.000532640193338861, 'optimizer': 'Adam', 'batch_size': 64, 'n_layers': 3, 'n_units_l0': 184, 'n_units_l1': 192, 'n_units_l2': 146}. Best is trial 180 with value: 544673.9375.\u001b[0m\n",
      "\u001b[32m[I 2022-09-30 16:06:06,106]\u001b[0m Trial 341 finished with value: 963782.125 and parameters: {'learning_rate': 0.0005720141461520758, 'optimizer': 'Adam', 'batch_size': 2048, 'n_layers': 2, 'n_units_l0': 73, 'n_units_l1': 177}. Best is trial 180 with value: 544673.9375.\u001b[0m\n",
      "\u001b[32m[I 2022-09-30 16:06:28,317]\u001b[0m Trial 343 finished with value: 938459.0 and parameters: {'learning_rate': 0.0005348576258513573, 'optimizer': 'Adam', 'batch_size': 2048, 'n_layers': 2, 'n_units_l0': 173, 'n_units_l1': 174}. Best is trial 180 with value: 544673.9375.\u001b[0m\n",
      "\u001b[32m[I 2022-09-30 16:06:34,334]\u001b[0m Trial 337 finished with value: 610930.6875 and parameters: {'learning_rate': 0.0005456611456233541, 'optimizer': 'Adam', 'batch_size': 64, 'n_layers': 3, 'n_units_l0': 72, 'n_units_l1': 168, 'n_units_l2': 145}. Best is trial 180 with value: 544673.9375.\u001b[0m\n",
      "\u001b[32m[I 2022-09-30 16:06:41,811]\u001b[0m Trial 340 finished with value: 628219.1875 and parameters: {'learning_rate': 0.0005205648440722081, 'optimizer': 'Adam', 'batch_size': 64, 'n_layers': 3, 'n_units_l0': 164, 'n_units_l1': 175, 'n_units_l2': 225}. Best is trial 180 with value: 544673.9375.\u001b[0m\n",
      "\u001b[32m[I 2022-09-30 16:06:47,923]\u001b[0m Trial 355 finished with value: 2602755.625 and parameters: {'learning_rate': 5.1431304995756586e-05, 'optimizer': 'Adamax', 'batch_size': 16, 'n_layers': 3, 'n_units_l0': 165, 'n_units_l1': 209, 'n_units_l2': 191}. Best is trial 180 with value: 544673.9375.\u001b[0m\n",
      "\u001b[32m[I 2022-09-30 16:07:03,668]\u001b[0m Trial 352 finished with value: 821383.125 and parameters: {'learning_rate': 0.0002553759738679305, 'optimizer': 'Adamax', 'batch_size': 1024, 'n_layers': 3, 'n_units_l0': 181, 'n_units_l1': 192, 'n_units_l2': 231}. Best is trial 180 with value: 544673.9375.\u001b[0m\n",
      "\u001b[32m[I 2022-09-30 16:07:21,123]\u001b[0m Trial 358 finished with value: 579443.5625 and parameters: {'learning_rate': 0.0011398404613975853, 'optimizer': 'Adamax', 'batch_size': 64, 'n_layers': 3, 'n_units_l0': 237, 'n_units_l1': 212, 'n_units_l2': 223}. Best is trial 180 with value: 544673.9375.\u001b[0m\n",
      "\u001b[32m[I 2022-09-30 16:07:56,520]\u001b[0m Trial 366 finished with value: 1555972.125 and parameters: {'learning_rate': 0.0002450941764997225, 'optimizer': 'Adamax', 'batch_size': 64, 'n_layers': 5, 'n_units_l0': 184, 'n_units_l1': 186, 'n_units_l2': 158, 'n_units_l3': 136, 'n_units_l4': 194}. Best is trial 180 with value: 544673.9375.\u001b[0m\n",
      "\u001b[32m[I 2022-09-30 16:08:04,717]\u001b[0m Trial 362 finished with value: 590962.4375 and parameters: {'learning_rate': 0.0011382498087356406, 'optimizer': 'Adamax', 'batch_size': 64, 'n_layers': 3, 'n_units_l0': 250, 'n_units_l1': 208, 'n_units_l2': 243}. Best is trial 180 with value: 544673.9375.\u001b[0m\n",
      "\u001b[32m[I 2022-09-30 16:08:30,544]\u001b[0m Trial 356 finished with value: 625441.25 and parameters: {'learning_rate': 0.0011530711107688623, 'optimizer': 'Adamax', 'batch_size': 1024, 'n_layers': 3, 'n_units_l0': 176, 'n_units_l1': 211, 'n_units_l2': 217}. Best is trial 180 with value: 544673.9375.\u001b[0m\n",
      "\u001b[32m[I 2022-09-30 16:08:38,575]\u001b[0m Trial 345 finished with value: 633310.5 and parameters: {'learning_rate': 0.0006086538235224825, 'optimizer': 'Adam', 'batch_size': 2048, 'n_layers': 3, 'n_units_l0': 249, 'n_units_l1': 213, 'n_units_l2': 230}. Best is trial 180 with value: 544673.9375.\u001b[0m\n",
      "\u001b[32m[I 2022-09-30 16:08:47,323]\u001b[0m Trial 347 finished with value: 1770767.15625 and parameters: {'learning_rate': 2.3510473139501482e-05, 'optimizer': 'Adam', 'batch_size': 16, 'n_layers': 3, 'n_units_l0': 165, 'n_units_l1': 211, 'n_units_l2': 192}. Best is trial 180 with value: 544673.9375.\u001b[0m\n",
      "\u001b[32m[I 2022-09-30 16:09:08,954]\u001b[0m Trial 349 finished with value: 794033.25 and parameters: {'learning_rate': 0.0004891365664081987, 'optimizer': 'Adamax', 'batch_size': 2048, 'n_layers': 3, 'n_units_l0': 225, 'n_units_l1': 211, 'n_units_l2': 244}. Best is trial 180 with value: 544673.9375.\u001b[0m\n",
      "\u001b[32m[I 2022-09-30 16:09:20,089]\u001b[0m Trial 357 finished with value: 1555972.125 and parameters: {'learning_rate': 0.0002511821391295849, 'optimizer': 'Adamax', 'batch_size': 64, 'n_layers': 3, 'n_units_l0': 234, 'n_units_l1': 223, 'n_units_l2': 242}. Best is trial 180 with value: 544673.9375.\u001b[0m\n",
      "\u001b[32m[I 2022-09-30 16:09:48,203]\u001b[0m Trial 354 finished with value: 1555972.125 and parameters: {'learning_rate': 0.0012328512027638021, 'optimizer': 'Adamax', 'batch_size': 1024, 'n_layers': 3, 'n_units_l0': 247, 'n_units_l1': 113, 'n_units_l2': 232}. Best is trial 180 with value: 544673.9375.\u001b[0m\n",
      "\u001b[32m[I 2022-09-30 16:09:59,437]\u001b[0m Trial 359 finished with value: 839069.25 and parameters: {'learning_rate': 0.0002369574122214691, 'optimizer': 'Adamax', 'batch_size': 64, 'n_layers': 3, 'n_units_l0': 241, 'n_units_l1': 216, 'n_units_l2': 231}. Best is trial 180 with value: 544673.9375.\u001b[0m\n",
      "\u001b[32m[I 2022-09-30 16:10:15,043]\u001b[0m Trial 350 finished with value: 826339.875 and parameters: {'learning_rate': 0.00023464006626965517, 'optimizer': 'Adamax', 'batch_size': 1024, 'n_layers': 3, 'n_units_l0': 241, 'n_units_l1': 160, 'n_units_l2': 236}. Best is trial 180 with value: 544673.9375.\u001b[0m\n",
      "\u001b[32m[I 2022-09-30 16:10:50,227]\u001b[0m Trial 363 finished with value: 1697177.28125 and parameters: {'learning_rate': 0.00022060327350479595, 'optimizer': 'Adamax', 'batch_size': 16, 'n_layers': 3, 'n_units_l0': 255, 'n_units_l1': 220, 'n_units_l2': 244}. Best is trial 180 with value: 544673.9375.\u001b[0m\n",
      "\u001b[32m[I 2022-09-30 16:11:14,546]\u001b[0m Trial 361 finished with value: 814863.25 and parameters: {'learning_rate': 0.0002583383759653638, 'optimizer': 'Adamax', 'batch_size': 1024, 'n_layers': 3, 'n_units_l0': 241, 'n_units_l1': 203, 'n_units_l2': 172}. Best is trial 180 with value: 544673.9375.\u001b[0m\n",
      "\u001b[32m[I 2022-09-30 16:11:38,589]\u001b[0m Trial 353 finished with value: 1555972.125 and parameters: {'learning_rate': 0.00024412561757758118, 'optimizer': 'Adamax', 'batch_size': 1024, 'n_layers': 3, 'n_units_l0': 155, 'n_units_l1': 236, 'n_units_l2': 226}. Best is trial 180 with value: 544673.9375.\u001b[0m\n",
      "\u001b[32m[I 2022-09-30 16:11:39,142]\u001b[0m Trial 348 finished with value: 1503901.1875 and parameters: {'learning_rate': 0.0002442223063635473, 'optimizer': 'Adam', 'batch_size': 16, 'n_layers': 3, 'n_units_l0': 242, 'n_units_l1': 205, 'n_units_l2': 211}. Best is trial 180 with value: 544673.9375.\u001b[0m\n",
      "\u001b[32m[I 2022-09-30 16:12:01,002]\u001b[0m Trial 351 finished with value: 1504322.5 and parameters: {'learning_rate': 0.0001370054884764318, 'optimizer': 'Adamax', 'batch_size': 2048, 'n_layers': 2, 'n_units_l0': 235, 'n_units_l1': 231}. Best is trial 180 with value: 544673.9375.\u001b[0m\n",
      "\u001b[32m[I 2022-09-30 16:12:01,316]\u001b[0m Trial 365 finished with value: 1726900.03125 and parameters: {'learning_rate': 0.0002638433981418657, 'optimizer': 'Adamax', 'batch_size': 16, 'n_layers': 3, 'n_units_l0': 232, 'n_units_l1': 205, 'n_units_l2': 174}. Best is trial 180 with value: 544673.9375.\u001b[0m\n",
      "\u001b[32m[I 2022-09-30 16:13:16,021]\u001b[0m Trial 346 finished with value: 4095840.0 and parameters: {'learning_rate': 0.0005664825159033418, 'optimizer': 'Adam', 'batch_size': 16, 'n_layers': 5, 'n_units_l0': 173, 'n_units_l1': 216, 'n_units_l2': 150, 'n_units_l3': 90, 'n_units_l4': 241}. Best is trial 180 with value: 544673.9375.\u001b[0m\n",
      "\u001b[32m[I 2022-09-30 16:13:21,126]\u001b[0m Trial 360 finished with value: 3226924.625 and parameters: {'learning_rate': 0.00023303223914726684, 'optimizer': 'Adamax', 'batch_size': 16, 'n_layers': 5, 'n_units_l0': 172, 'n_units_l1': 152, 'n_units_l2': 240, 'n_units_l3': 22, 'n_units_l4': 239}. Best is trial 180 with value: 544673.9375.\u001b[0m\n",
      "\u001b[32m[I 2022-09-30 16:13:22,513]\u001b[0m Trial 364 finished with value: 3226924.625 and parameters: {'learning_rate': 0.0002447031954733963, 'optimizer': 'Adamax', 'batch_size': 16, 'n_layers': 5, 'n_units_l0': 174, 'n_units_l1': 256, 'n_units_l2': 160, 'n_units_l3': 16, 'n_units_l4': 241}. Best is trial 180 with value: 544673.9375.\u001b[0m\n",
      "\u001b[32m[I 2022-09-30 16:13:44,774]\u001b[0m Trial 385 finished with value: 603709.4375 and parameters: {'learning_rate': 0.001132869236700527, 'optimizer': 'Adamax', 'batch_size': 64, 'n_layers': 3, 'n_units_l0': 220, 'n_units_l1': 125, 'n_units_l2': 161}. Best is trial 180 with value: 544673.9375.\u001b[0m\n",
      "\u001b[32m[I 2022-09-30 16:13:48,117]\u001b[0m Trial 387 finished with value: 621386.9375 and parameters: {'learning_rate': 0.00144910071787264, 'optimizer': 'Adamax', 'batch_size': 64, 'n_layers': 3, 'n_units_l0': 184, 'n_units_l1': 256, 'n_units_l2': 237}. Best is trial 180 with value: 544673.9375.\u001b[0m\n",
      "\u001b[32m[I 2022-09-30 16:14:09,665]\u001b[0m Trial 375 finished with value: 1555972.125 and parameters: {'learning_rate': 0.0012067929953687548, 'optimizer': 'Adamax', 'batch_size': 64, 'n_layers': 3, 'n_units_l0': 185, 'n_units_l1': 109, 'n_units_l2': 162}. Best is trial 180 with value: 544673.9375.\u001b[0m\n",
      "\u001b[32m[I 2022-09-30 16:14:10,451]\u001b[0m Trial 379 finished with value: 613499.125 and parameters: {'learning_rate': 0.001098646246894957, 'optimizer': 'Adamax', 'batch_size': 64, 'n_layers': 3, 'n_units_l0': 185, 'n_units_l1': 179, 'n_units_l2': 160}. Best is trial 180 with value: 544673.9375.\u001b[0m\n",
      "\u001b[32m[I 2022-09-30 16:14:11,768]\u001b[0m Trial 382 finished with value: 579193.1875 and parameters: {'learning_rate': 0.0011405711901094624, 'optimizer': 'Adamax', 'batch_size': 64, 'n_layers': 3, 'n_units_l0': 185, 'n_units_l1': 152, 'n_units_l2': 179}. Best is trial 180 with value: 544673.9375.\u001b[0m\n",
      "\u001b[32m[I 2022-09-30 16:15:01,255]\u001b[0m Trial 388 finished with value: 1555049.875 and parameters: {'learning_rate': 1.0484112999898592e-05, 'optimizer': 'Adamax', 'batch_size': 64, 'n_layers': 3, 'n_units_l0': 191, 'n_units_l1': 165, 'n_units_l2': 187}. Best is trial 180 with value: 544673.9375.\u001b[0m\n",
      "\u001b[32m[I 2022-09-30 16:15:02,731]\u001b[0m Trial 378 finished with value: 1555972.125 and parameters: {'learning_rate': 0.0011667957098652985, 'optimizer': 'Adamax', 'batch_size': 64, 'n_layers': 3, 'n_units_l0': 91, 'n_units_l1': 225, 'n_units_l2': 222}. Best is trial 180 with value: 544673.9375.\u001b[0m\n",
      "\u001b[32m[I 2022-09-30 16:15:03,681]\u001b[0m Trial 383 finished with value: 593584.375 and parameters: {'learning_rate': 0.0011347309698513943, 'optimizer': 'Adamax', 'batch_size': 64, 'n_layers': 3, 'n_units_l0': 195, 'n_units_l1': 171, 'n_units_l2': 177}. Best is trial 180 with value: 544673.9375.\u001b[0m\n",
      "\u001b[32m[I 2022-09-30 16:15:38,276]\u001b[0m Trial 370 finished with value: 898483.3125 and parameters: {'learning_rate': 0.0003253723827896115, 'optimizer': 'Adamax', 'batch_size': 128, 'n_layers': 3, 'n_units_l0': 193, 'n_units_l1': 170, 'n_units_l2': 174}. Best is trial 180 with value: 544673.9375.\u001b[0m\n",
      "\u001b[32m[I 2022-09-30 16:15:57,242]\u001b[0m Trial 377 finished with value: 596823.75 and parameters: {'learning_rate': 0.001163081404729446, 'optimizer': 'Adamax', 'batch_size': 64, 'n_layers': 3, 'n_units_l0': 180, 'n_units_l1': 171, 'n_units_l2': 175}. Best is trial 180 with value: 544673.9375.\u001b[0m\n",
      "\u001b[32m[I 2022-09-30 16:16:01,044]\u001b[0m Trial 386 finished with value: 1555971.75 and parameters: {'learning_rate': 0.006008126019918779, 'optimizer': 'Adamax', 'batch_size': 64, 'n_layers': 3, 'n_units_l0': 194, 'n_units_l1': 171, 'n_units_l2': 181}. Best is trial 180 with value: 544673.9375.\u001b[0m\n",
      "\u001b[32m[I 2022-09-30 16:16:33,271]\u001b[0m Trial 381 finished with value: 606772.625 and parameters: {'learning_rate': 0.001143484350948442, 'optimizer': 'Adamax', 'batch_size': 64, 'n_layers': 3, 'n_units_l0': 192, 'n_units_l1': 164, 'n_units_l2': 180}. Best is trial 180 with value: 544673.9375.\u001b[0m\n",
      "\u001b[32m[I 2022-09-30 16:16:36,170]\u001b[0m Trial 368 finished with value: 1555972.125 and parameters: {'learning_rate': 0.00024339887692716638, 'optimizer': 'Adamax', 'batch_size': 1024, 'n_layers': 3, 'n_units_l0': 179, 'n_units_l1': 160, 'n_units_l2': 176}. Best is trial 180 with value: 544673.9375.\u001b[0m\n",
      "\u001b[32m[I 2022-09-30 16:16:51,898]\u001b[0m Trial 376 finished with value: 604508.375 and parameters: {'learning_rate': 0.0012048820184809286, 'optimizer': 'Adamax', 'batch_size': 64, 'n_layers': 3, 'n_units_l0': 180, 'n_units_l1': 165, 'n_units_l2': 177}. Best is trial 180 with value: 544673.9375.\u001b[0m\n",
      "\u001b[32m[I 2022-09-30 16:17:26,235]\u001b[0m Trial 369 finished with value: 883500.0625 and parameters: {'learning_rate': 0.0002505086471949625, 'optimizer': 'Adamax', 'batch_size': 1024, 'n_layers': 3, 'n_units_l0': 189, 'n_units_l1': 156, 'n_units_l2': 168}. Best is trial 180 with value: 544673.9375.\u001b[0m\n",
      "\u001b[32m[I 2022-09-30 16:17:28,318]\u001b[0m Trial 380 finished with value: 1555972.125 and parameters: {'learning_rate': 0.001146273246289024, 'optimizer': 'Adamax', 'batch_size': 64, 'n_layers': 3, 'n_units_l0': 180, 'n_units_l1': 168, 'n_units_l2': 167}. Best is trial 180 with value: 544673.9375.\u001b[0m\n",
      "\u001b[32m[I 2022-09-30 16:17:30,410]\u001b[0m Trial 373 finished with value: 1555972.125 and parameters: {'learning_rate': 0.001208949961640884, 'optimizer': 'Adamax', 'batch_size': 64, 'n_layers': 3, 'n_units_l0': 181, 'n_units_l1': 155, 'n_units_l2': 169}. Best is trial 180 with value: 544673.9375.\u001b[0m\n",
      "\u001b[32m[I 2022-09-30 16:17:59,377]\u001b[0m Trial 367 finished with value: 1468226.625 and parameters: {'learning_rate': 0.00023556486201776713, 'optimizer': 'Adamax', 'batch_size': 1024, 'n_layers': 2, 'n_units_l0': 167, 'n_units_l1': 176}. Best is trial 180 with value: 544673.9375.\u001b[0m\n",
      "\u001b[32m[I 2022-09-30 16:18:21,766]\u001b[0m Trial 372 finished with value: 600626.0625 and parameters: {'learning_rate': 0.001134394621176828, 'optimizer': 'Adamax', 'batch_size': 64, 'n_layers': 3, 'n_units_l0': 202, 'n_units_l1': 174, 'n_units_l2': 185}. Best is trial 180 with value: 544673.9375.\u001b[0m\n",
      "\u001b[32m[I 2022-09-30 16:18:24,469]\u001b[0m Trial 371 finished with value: 804807.0625 and parameters: {'learning_rate': 0.0003357410684452442, 'optimizer': 'Adamax', 'batch_size': 64, 'n_layers': 3, 'n_units_l0': 204, 'n_units_l1': 177, 'n_units_l2': 188}. Best is trial 180 with value: 544673.9375.\u001b[0m\n",
      "\u001b[32m[I 2022-09-30 16:18:40,986]\u001b[0m Trial 384 finished with value: 597060.625 and parameters: {'learning_rate': 0.0011353845775454346, 'optimizer': 'Adamax', 'batch_size': 64, 'n_layers': 3, 'n_units_l0': 187, 'n_units_l1': 209, 'n_units_l2': 186}. Best is trial 180 with value: 544673.9375.\u001b[0m\n",
      "\u001b[32m[I 2022-09-30 16:18:47,539]\u001b[0m Trial 374 finished with value: 600621.4375 and parameters: {'learning_rate': 0.0012185632222697646, 'optimizer': 'Adamax', 'batch_size': 64, 'n_layers': 3, 'n_units_l0': 187, 'n_units_l1': 209, 'n_units_l2': 179}. Best is trial 180 with value: 544673.9375.\u001b[0m\n",
      "\u001b[32m[I 2022-09-30 16:19:03,035]\u001b[0m Trial 412 finished with value: 634823.0625 and parameters: {'learning_rate': 0.0014557086556749442, 'optimizer': 'Adamax', 'batch_size': 64, 'n_layers': 3, 'n_units_l0': 196, 'n_units_l1': 207, 'n_units_l2': 192}. Best is trial 180 with value: 544673.9375.\u001b[0m\n",
      "\u001b[32m[I 2022-09-30 16:19:06,384]\u001b[0m Trial 395 finished with value: 605848.125 and parameters: {'learning_rate': 0.0013219447317917112, 'optimizer': 'Adamax', 'batch_size': 128, 'n_layers': 3, 'n_units_l0': 187, 'n_units_l1': 208, 'n_units_l2': 177}. Best is trial 180 with value: 544673.9375.\u001b[0m\n",
      "\u001b[32m[I 2022-09-30 16:19:10,093]\u001b[0m Trial 389 finished with value: 8321811.5 and parameters: {'learning_rate': 0.006246099625028233, 'optimizer': 'Adamax', 'batch_size': 64, 'n_layers': 3, 'n_units_l0': 186, 'n_units_l1': 193, 'n_units_l2': 181}. Best is trial 180 with value: 544673.9375.\u001b[0m\n",
      "\u001b[32m[I 2022-09-30 16:19:10,591]\u001b[0m Trial 390 finished with value: 602549.0 and parameters: {'learning_rate': 0.001148921368575977, 'optimizer': 'Adamax', 'batch_size': 64, 'n_layers': 3, 'n_units_l0': 187, 'n_units_l1': 208, 'n_units_l2': 178}. Best is trial 180 with value: 544673.9375.\u001b[0m\n",
      "\u001b[32m[I 2022-09-30 16:19:26,750]\u001b[0m Trial 411 finished with value: 584285.625 and parameters: {'learning_rate': 0.0013775523456664876, 'optimizer': 'Adamax', 'batch_size': 64, 'n_layers': 3, 'n_units_l0': 195, 'n_units_l1': 212, 'n_units_l2': 191}. Best is trial 180 with value: 544673.9375.\u001b[0m\n",
      "\u001b[32m[I 2022-09-30 16:19:32,730]\u001b[0m Trial 398 finished with value: 1555972.125 and parameters: {'learning_rate': 0.0013632927426259376, 'optimizer': 'Adamax', 'batch_size': 64, 'n_layers': 3, 'n_units_l0': 187, 'n_units_l1': 207, 'n_units_l2': 173}. Best is trial 180 with value: 544673.9375.\u001b[0m\n",
      "\u001b[32m[I 2022-09-30 16:19:33,322]\u001b[0m Trial 413 finished with value: 622094.9375 and parameters: {'learning_rate': 0.0014387658518914684, 'optimizer': 'Adamax', 'batch_size': 64, 'n_layers': 3, 'n_units_l0': 188, 'n_units_l1': 216, 'n_units_l2': 194}. Best is trial 180 with value: 544673.9375.\u001b[0m\n",
      "\u001b[32m[I 2022-09-30 16:19:33,687]\u001b[0m Trial 393 finished with value: 1555972.125 and parameters: {'learning_rate': 0.0010634387070387085, 'optimizer': 'Adamax', 'batch_size': 64, 'n_layers': 3, 'n_units_l0': 187, 'n_units_l1': 208, 'n_units_l2': 178}. Best is trial 180 with value: 544673.9375.\u001b[0m\n",
      "\u001b[32m[I 2022-09-30 16:19:55,924]\u001b[0m Trial 418 finished with value: 1555972.125 and parameters: {'learning_rate': 0.0013516443941748986, 'optimizer': 'Adamax', 'batch_size': 64, 'n_layers': 6, 'n_units_l0': 195, 'n_units_l1': 221, 'n_units_l2': 191, 'n_units_l3': 145, 'n_units_l4': 185, 'n_units_l5': 16}. Best is trial 180 with value: 544673.9375.\u001b[0m\n",
      "\u001b[32m[I 2022-09-30 16:19:57,240]\u001b[0m Trial 415 finished with value: 1555972.125 and parameters: {'learning_rate': 0.0014178320639919191, 'optimizer': 'Adamax', 'batch_size': 64, 'n_layers': 6, 'n_units_l0': 7, 'n_units_l1': 214, 'n_units_l2': 196, 'n_units_l3': 146, 'n_units_l4': 60, 'n_units_l5': 256}. Best is trial 180 with value: 544673.9375.\u001b[0m\n",
      "\u001b[32m[I 2022-09-30 16:19:57,475]\u001b[0m Trial 414 finished with value: 1555972.125 and parameters: {'learning_rate': 0.0014916505174732179, 'optimizer': 'Adamax', 'batch_size': 64, 'n_layers': 6, 'n_units_l0': 6, 'n_units_l1': 212, 'n_units_l2': 196, 'n_units_l3': 76, 'n_units_l4': 184, 'n_units_l5': 253}. Best is trial 180 with value: 544673.9375.\u001b[0m\n",
      "\u001b[32m[I 2022-09-30 16:20:04,284]\u001b[0m Trial 410 finished with value: 529801.375 and parameters: {'learning_rate': 0.0013791666280070622, 'optimizer': 'Adamax', 'batch_size': 128, 'n_layers': 6, 'n_units_l0': 6, 'n_units_l1': 201, 'n_units_l2': 196, 'n_units_l3': 138, 'n_units_l4': 159, 'n_units_l5': 85}. Best is trial 410 with value: 529801.375.\u001b[0m\n",
      "\u001b[32m[I 2022-09-30 16:20:18,349]\u001b[0m Trial 421 finished with value: 820887.375 and parameters: {'learning_rate': 0.001993740273009041, 'optimizer': 'Adamax', 'batch_size': 64, 'n_layers': 3, 'n_units_l0': 201, 'n_units_l1': 199, 'n_units_l2': 189}. Best is trial 410 with value: 529801.375.\u001b[0m\n",
      "\u001b[32m[I 2022-09-30 16:20:21,015]\u001b[0m Trial 416 finished with value: 831773.0 and parameters: {'learning_rate': 0.0009713759773005351, 'optimizer': 'Adamax', 'batch_size': 64, 'n_layers': 6, 'n_units_l0': 199, 'n_units_l1': 214, 'n_units_l2': 198, 'n_units_l3': 159, 'n_units_l4': 182, 'n_units_l5': 33}. Best is trial 410 with value: 529801.375.\u001b[0m\n",
      "\u001b[32m[I 2022-09-30 16:20:41,051]\u001b[0m Trial 424 finished with value: 1555972.125 and parameters: {'learning_rate': 0.000979029886152794, 'optimizer': 'NAdam', 'batch_size': 128, 'n_layers': 6, 'n_units_l0': 11, 'n_units_l1': 202, 'n_units_l2': 149, 'n_units_l3': 157, 'n_units_l4': 161, 'n_units_l5': 80}. Best is trial 410 with value: 529801.375.\u001b[0m\n",
      "\u001b[32m[I 2022-09-30 16:20:41,342]\u001b[0m Trial 399 finished with value: 625344.4375 and parameters: {'learning_rate': 0.0013499839956361906, 'optimizer': 'Adamax', 'batch_size': 64, 'n_layers': 3, 'n_units_l0': 200, 'n_units_l1': 201, 'n_units_l2': 200}. Best is trial 410 with value: 529801.375.\u001b[0m\n",
      "\u001b[32m[I 2022-09-30 16:20:42,122]\u001b[0m Trial 417 finished with value: 589478.75 and parameters: {'learning_rate': 0.0009410407042195609, 'optimizer': 'Adamax', 'batch_size': 64, 'n_layers': 3, 'n_units_l0': 202, 'n_units_l1': 221, 'n_units_l2': 188}. Best is trial 410 with value: 529801.375.\u001b[0m\n",
      "\u001b[32m[I 2022-09-30 16:20:43,549]\u001b[0m Trial 419 finished with value: 641308.375 and parameters: {'learning_rate': 0.0008843702201411632, 'optimizer': 'Adamax', 'batch_size': 64, 'n_layers': 3, 'n_units_l0': 198, 'n_units_l1': 218, 'n_units_l2': 196}. Best is trial 410 with value: 529801.375.\u001b[0m\n",
      "\u001b[32m[I 2022-09-30 16:20:43,712]\u001b[0m Trial 422 finished with value: 610139.0625 and parameters: {'learning_rate': 0.0009665930055861994, 'optimizer': 'Adamax', 'batch_size': 64, 'n_layers': 3, 'n_units_l0': 195, 'n_units_l1': 203, 'n_units_l2': 186}. Best is trial 410 with value: 529801.375.\u001b[0m\n",
      "\u001b[32m[I 2022-09-30 16:20:59,711]\u001b[0m Trial 420 finished with value: 594325.375 and parameters: {'learning_rate': 0.0010004301973866225, 'optimizer': 'Adamax', 'batch_size': 64, 'n_layers': 3, 'n_units_l0': 202, 'n_units_l1': 203, 'n_units_l2': 185}. Best is trial 410 with value: 529801.375.\u001b[0m\n",
      "\u001b[32m[I 2022-09-30 16:21:01,035]\u001b[0m Trial 423 finished with value: 693117.0 and parameters: {'learning_rate': 0.000919100780027747, 'optimizer': 'NAdam', 'batch_size': 128, 'n_layers': 3, 'n_units_l0': 197, 'n_units_l1': 200, 'n_units_l2': 205}. Best is trial 410 with value: 529801.375.\u001b[0m\n",
      "\u001b[32m[I 2022-09-30 16:21:06,950]\u001b[0m Trial 403 finished with value: 594017.9375 and parameters: {'learning_rate': 0.0013160501559983686, 'optimizer': 'Adamax', 'batch_size': 128, 'n_layers': 6, 'n_units_l0': 198, 'n_units_l1': 202, 'n_units_l2': 187, 'n_units_l3': 164, 'n_units_l4': 249, 'n_units_l5': 93}. Best is trial 410 with value: 529801.375.\u001b[0m\n",
      "\u001b[32m[I 2022-09-30 16:21:14,007]\u001b[0m Trial 427 finished with value: 703762.875 and parameters: {'learning_rate': 0.0044968841933792775, 'optimizer': 'Adamax', 'batch_size': 128, 'n_layers': 6, 'n_units_l0': 2, 'n_units_l1': 227, 'n_units_l2': 206, 'n_units_l3': 187, 'n_units_l4': 251, 'n_units_l5': 63}. Best is trial 410 with value: 529801.375.\u001b[0m\n",
      "\u001b[32m[I 2022-09-30 16:21:17,392]\u001b[0m Trial 392 finished with value: 671824.3125 and parameters: {'learning_rate': 0.001243289056716148, 'optimizer': 'Adamax', 'batch_size': 64, 'n_layers': 6, 'n_units_l0': 196, 'n_units_l1': 220, 'n_units_l2': 198, 'n_units_l3': 177, 'n_units_l4': 184, 'n_units_l5': 29}. Best is trial 410 with value: 529801.375.\u001b[0m\n",
      "\u001b[32m[I 2022-09-30 16:21:33,844]\u001b[0m Trial 429 finished with value: 587016.25 and parameters: {'learning_rate': 0.0009576344264393875, 'optimizer': 'Adamax', 'batch_size': 128, 'n_layers': 6, 'n_units_l0': 209, 'n_units_l1': 210, 'n_units_l2': 209, 'n_units_l3': 166, 'n_units_l4': 195, 'n_units_l5': 96}. Best is trial 410 with value: 529801.375.\u001b[0m\n",
      "\u001b[32m[I 2022-09-30 16:21:34,773]\u001b[0m Trial 425 finished with value: 1555972.125 and parameters: {'learning_rate': 0.000950631062482198, 'optimizer': 'Adamax', 'batch_size': 128, 'n_layers': 6, 'n_units_l0': 209, 'n_units_l1': 227, 'n_units_l2': 209, 'n_units_l3': 228, 'n_units_l4': 193, 'n_units_l5': 133}. Best is trial 410 with value: 529801.375.\u001b[0m\n",
      "\u001b[32m[I 2022-09-30 16:21:37,580]\u001b[0m Trial 428 finished with value: 1555972.125 and parameters: {'learning_rate': 0.0009545825200254074, 'optimizer': 'Adamax', 'batch_size': 128, 'n_layers': 6, 'n_units_l0': 209, 'n_units_l1': 40, 'n_units_l2': 205, 'n_units_l3': 183, 'n_units_l4': 248, 'n_units_l5': 130}. Best is trial 410 with value: 529801.375.\u001b[0m\n",
      "\u001b[32m[I 2022-09-30 16:21:43,289]\u001b[0m Trial 426 finished with value: 1555972.125 and parameters: {'learning_rate': 0.0009412051757257708, 'optimizer': 'Adamax', 'batch_size': 128, 'n_layers': 6, 'n_units_l0': 211, 'n_units_l1': 224, 'n_units_l2': 203, 'n_units_l3': 210, 'n_units_l4': 249, 'n_units_l5': 94}. Best is trial 410 with value: 529801.375.\u001b[0m\n",
      "\u001b[32m[I 2022-09-30 16:22:01,143]\u001b[0m Trial 406 finished with value: 657977.9375 and parameters: {'learning_rate': 0.0013617953292626144, 'optimizer': 'Adamax', 'batch_size': 128, 'n_layers': 6, 'n_units_l0': 206, 'n_units_l1': 195, 'n_units_l2': 207, 'n_units_l3': 163, 'n_units_l4': 250, 'n_units_l5': 94}. Best is trial 410 with value: 529801.375.\u001b[0m\n",
      "\u001b[32m[I 2022-09-30 16:22:02,427]\u001b[0m Trial 431 finished with value: 1555972.125 and parameters: {'learning_rate': 0.0009287452995428649, 'optimizer': 'Adamax', 'batch_size': 128, 'n_layers': 6, 'n_units_l0': 206, 'n_units_l1': 226, 'n_units_l2': 189, 'n_units_l3': 179, 'n_units_l4': 251, 'n_units_l5': 93}. Best is trial 410 with value: 529801.375.\u001b[0m\n",
      "\u001b[32m[I 2022-09-30 16:22:13,250]\u001b[0m Trial 404 finished with value: 1555972.125 and parameters: {'learning_rate': 0.0013621188154694184, 'optimizer': 'Adamax', 'batch_size': 128, 'n_layers': 6, 'n_units_l0': 202, 'n_units_l1': 193, 'n_units_l2': 211, 'n_units_l3': 225, 'n_units_l4': 248, 'n_units_l5': 89}. Best is trial 410 with value: 529801.375.\u001b[0m\n",
      "\u001b[32m[I 2022-09-30 16:22:15,078]\u001b[0m Trial 400 finished with value: 1555972.125 and parameters: {'learning_rate': 0.0014291781431326547, 'optimizer': 'Adamax', 'batch_size': 64, 'n_layers': 6, 'n_units_l0': 206, 'n_units_l1': 220, 'n_units_l2': 187, 'n_units_l3': 186, 'n_units_l4': 198, 'n_units_l5': 94}. Best is trial 410 with value: 529801.375.\u001b[0m\n",
      "\u001b[32m[I 2022-09-30 16:22:26,452]\u001b[0m Trial 432 finished with value: 616656.3125 and parameters: {'learning_rate': 0.0009910572352248655, 'optimizer': 'Adamax', 'batch_size': 128, 'n_layers': 6, 'n_units_l0': 215, 'n_units_l1': 195, 'n_units_l2': 212, 'n_units_l3': 161, 'n_units_l4': 199, 'n_units_l5': 102}. Best is trial 410 with value: 529801.375.\u001b[0m\n",
      "\u001b[32m[I 2022-09-30 16:22:29,041]\u001b[0m Trial 430 finished with value: 1555972.125 and parameters: {'learning_rate': 0.004635549695424216, 'optimizer': 'Adamax', 'batch_size': 128, 'n_layers': 6, 'n_units_l0': 216, 'n_units_l1': 196, 'n_units_l2': 215, 'n_units_l3': 172, 'n_units_l4': 213, 'n_units_l5': 89}. Best is trial 410 with value: 529801.375.\u001b[0m\n",
      "\u001b[32m[I 2022-09-30 16:22:46,158]\u001b[0m Trial 434 finished with value: 958663.25 and parameters: {'learning_rate': 0.0019665407566371944, 'optimizer': 'Adamax', 'batch_size': 128, 'n_layers': 6, 'n_units_l0': 216, 'n_units_l1': 214, 'n_units_l2': 192, 'n_units_l3': 169, 'n_units_l4': 200, 'n_units_l5': 55}. Best is trial 410 with value: 529801.375.\u001b[0m\n",
      "\u001b[32m[I 2022-09-30 16:22:46,472]\u001b[0m Trial 433 finished with value: 1555972.125 and parameters: {'learning_rate': 0.0024550473607496165, 'optimizer': 'Adamax', 'batch_size': 128, 'n_layers': 6, 'n_units_l0': 204, 'n_units_l1': 202, 'n_units_l2': 191, 'n_units_l3': 168, 'n_units_l4': 232, 'n_units_l5': 82}. Best is trial 410 with value: 529801.375.\u001b[0m\n",
      "\u001b[32m[I 2022-09-30 16:23:04,409]\u001b[0m Trial 409 finished with value: 1555972.125 and parameters: {'learning_rate': 0.0013291590423918714, 'optimizer': 'Adamax', 'batch_size': 128, 'n_layers': 6, 'n_units_l0': 207, 'n_units_l1': 213, 'n_units_l2': 194, 'n_units_l3': 164, 'n_units_l4': 214, 'n_units_l5': 51}. Best is trial 410 with value: 529801.375.\u001b[0m\n",
      "\u001b[32m[I 2022-09-30 16:23:06,283]\u001b[0m Trial 437 finished with value: 1555972.125 and parameters: {'learning_rate': 0.001949908971998204, 'optimizer': 'Adamax', 'batch_size': 128, 'n_layers': 6, 'n_units_l0': 1, 'n_units_l1': 203, 'n_units_l2': 192, 'n_units_l3': 169, 'n_units_l4': 212, 'n_units_l5': 80}. Best is trial 410 with value: 529801.375.\u001b[0m\n",
      "\u001b[32m[I 2022-09-30 16:23:08,432]\u001b[0m Trial 435 finished with value: 1555972.125 and parameters: {'learning_rate': 0.0009624392598102185, 'optimizer': 'Adamax', 'batch_size': 128, 'n_layers': 6, 'n_units_l0': 213, 'n_units_l1': 214, 'n_units_l2': 193, 'n_units_l3': 138, 'n_units_l4': 233, 'n_units_l5': 52}. Best is trial 410 with value: 529801.375.\u001b[0m\n",
      "\u001b[32m[I 2022-09-30 16:23:09,561]\u001b[0m Trial 440 finished with value: 805875.5625 and parameters: {'learning_rate': 0.0021101305389786386, 'optimizer': 'Adamax', 'batch_size': 128, 'n_layers': 6, 'n_units_l0': 205, 'n_units_l1': 216, 'n_units_l2': 192, 'n_units_l3': 140, 'n_units_l4': 232, 'n_units_l5': 82}. Best is trial 410 with value: 529801.375.\u001b[0m\n",
      "\u001b[32m[I 2022-09-30 16:23:16,033]\u001b[0m Trial 394 finished with value: 1555972.125 and parameters: {'learning_rate': 0.0012790493226723055, 'optimizer': 'Adamax', 'batch_size': 128, 'n_layers': 6, 'n_units_l0': 213, 'n_units_l1': 213, 'n_units_l2': 192, 'n_units_l3': 166, 'n_units_l4': 214, 'n_units_l5': 78}. Best is trial 410 with value: 529801.375.\u001b[0m\n",
      "\u001b[32m[I 2022-09-30 16:23:17,785]\u001b[0m Trial 408 finished with value: 660558.3125 and parameters: {'learning_rate': 0.0014450777412117807, 'optimizer': 'Adamax', 'batch_size': 128, 'n_layers': 6, 'n_units_l0': 221, 'n_units_l1': 203, 'n_units_l2': 214, 'n_units_l3': 140, 'n_units_l4': 213, 'n_units_l5': 58}. Best is trial 410 with value: 529801.375.\u001b[0m\n",
      "\u001b[32m[I 2022-09-30 16:23:42,964]\u001b[0m Trial 438 finished with value: 1056628.5 and parameters: {'learning_rate': 0.0009305602406688585, 'optimizer': 'Adamax', 'batch_size': 128, 'n_layers': 2, 'n_units_l0': 20, 'n_units_l1': 203}. Best is trial 410 with value: 529801.375.\u001b[0m\n",
      "\u001b[32m[I 2022-09-30 16:23:57,489]\u001b[0m Trial 397 finished with value: 925911.875 and parameters: {'learning_rate': 0.0010500379225006984, 'optimizer': 'Adamax', 'batch_size': 128, 'n_layers': 2, 'n_units_l0': 19, 'n_units_l1': 207}. Best is trial 410 with value: 529801.375.\u001b[0m\n",
      "\u001b[32m[I 2022-09-30 16:24:00,070]\u001b[0m Trial 402 finished with value: 793879.5625 and parameters: {'learning_rate': 0.0013673275071015606, 'optimizer': 'Adamax', 'batch_size': 128, 'n_layers': 2, 'n_units_l0': 192, 'n_units_l1': 205}. Best is trial 410 with value: 529801.375.\u001b[0m\n",
      "\u001b[32m[I 2022-09-30 16:24:06,714]\u001b[0m Trial 441 finished with value: 769087.375 and parameters: {'learning_rate': 0.001765389759271016, 'optimizer': 'Adamax', 'batch_size': 128, 'n_layers': 5, 'n_units_l0': 202, 'n_units_l1': 206, 'n_units_l2': 184, 'n_units_l3': 193, 'n_units_l4': 221}. Best is trial 410 with value: 529801.375.\u001b[0m\n",
      "\u001b[32m[I 2022-09-30 16:24:08,471]\u001b[0m Trial 439 finished with value: 877214.3125 and parameters: {'learning_rate': 0.0018478660485147275, 'optimizer': 'Adamax', 'batch_size': 128, 'n_layers': 5, 'n_units_l0': 194, 'n_units_l1': 206, 'n_units_l2': 200, 'n_units_l3': 148, 'n_units_l4': 222}. Best is trial 410 with value: 529801.375.\u001b[0m\n",
      "\u001b[32m[I 2022-09-30 16:24:10,818]\u001b[0m Trial 407 finished with value: 643775.9375 and parameters: {'learning_rate': 0.0009725344319600558, 'optimizer': 'Adamax', 'batch_size': 128, 'n_layers': 5, 'n_units_l0': 201, 'n_units_l1': 202, 'n_units_l2': 184, 'n_units_l3': 148, 'n_units_l4': 221}. Best is trial 410 with value: 529801.375.\u001b[0m\n",
      "\u001b[32m[I 2022-09-30 16:24:20,902]\u001b[0m Trial 436 finished with value: 1555972.125 and parameters: {'learning_rate': 0.0009298370255249833, 'optimizer': 'Adamax', 'batch_size': 128, 'n_layers': 5, 'n_units_l0': 202, 'n_units_l1': 208, 'n_units_l2': 201, 'n_units_l3': 151, 'n_units_l4': 223}. Best is trial 410 with value: 529801.375.\u001b[0m\n",
      "\u001b[32m[I 2022-09-30 16:24:49,494]\u001b[0m Trial 405 finished with value: 633331.125 and parameters: {'learning_rate': 0.0013906600884233578, 'optimizer': 'Adamax', 'batch_size': 128, 'n_layers': 3, 'n_units_l0': 79, 'n_units_l1': 219, 'n_units_l2': 202}. Best is trial 410 with value: 529801.375.\u001b[0m\n",
      "\u001b[32m[I 2022-09-30 16:25:07,788]\u001b[0m Trial 446 finished with value: 1555972.125 and parameters: {'learning_rate': 0.001069210752271395, 'optimizer': 'Adamax', 'batch_size': 128, 'n_layers': 5, 'n_units_l0': 13, 'n_units_l1': 218, 'n_units_l2': 183, 'n_units_l3': 133, 'n_units_l4': 148}. Best is trial 410 with value: 529801.375.\u001b[0m\n",
      "\u001b[32m[I 2022-09-30 16:25:08,163]\u001b[0m Trial 443 finished with value: 595064.125 and parameters: {'learning_rate': 0.0019427365308814066, 'optimizer': 'Adamax', 'batch_size': 128, 'n_layers': 5, 'n_units_l0': 13, 'n_units_l1': 211, 'n_units_l2': 184, 'n_units_l3': 153, 'n_units_l4': 150}. Best is trial 410 with value: 529801.375.\u001b[0m\n",
      "\u001b[32m[I 2022-09-30 16:25:08,633]\u001b[0m Trial 456 finished with value: 1816897.875 and parameters: {'learning_rate': 0.003481008184344453, 'optimizer': 'Adamax', 'batch_size': 128, 'n_layers': 5, 'n_units_l0': 192, 'n_units_l1': 218, 'n_units_l2': 68, 'n_units_l3': 132, 'n_units_l4': 228}. Best is trial 410 with value: 529801.375.\u001b[0m\n",
      "\u001b[32m[I 2022-09-30 16:25:11,484]\u001b[0m Trial 444 finished with value: 1555972.125 and parameters: {'learning_rate': 0.002474212537095648, 'optimizer': 'Adamax', 'batch_size': 128, 'n_layers': 5, 'n_units_l0': 10, 'n_units_l1': 218, 'n_units_l2': 184, 'n_units_l3': 130, 'n_units_l4': 160}. Best is trial 410 with value: 529801.375.\u001b[0m\n",
      "\u001b[32m[I 2022-09-30 16:25:12,417]\u001b[0m Trial 447 finished with value: 1555972.125 and parameters: {'learning_rate': 0.0008871453436975184, 'optimizer': 'Adamax', 'batch_size': 128, 'n_layers': 5, 'n_units_l0': 12, 'n_units_l1': 220, 'n_units_l2': 185, 'n_units_l3': 154, 'n_units_l4': 157}. Best is trial 410 with value: 529801.375.\u001b[0m\n",
      "\u001b[32m[I 2022-09-30 16:25:13,011]\u001b[0m Trial 453 finished with value: 953756.375 and parameters: {'learning_rate': 0.0035995728961222117, 'optimizer': 'Adamax', 'batch_size': 128, 'n_layers': 5, 'n_units_l0': 80, 'n_units_l1': 218, 'n_units_l2': 183, 'n_units_l3': 151, 'n_units_l4': 256}. Best is trial 410 with value: 529801.375.\u001b[0m\n",
      "\u001b[32m[I 2022-09-30 16:25:25,113]\u001b[0m Trial 401 finished with value: 1555972.125 and parameters: {'learning_rate': 0.0013313052927429031, 'optimizer': 'Adamax', 'batch_size': 64, 'n_layers': 5, 'n_units_l0': 201, 'n_units_l1': 220, 'n_units_l2': 184, 'n_units_l3': 131, 'n_units_l4': 222}. Best is trial 410 with value: 529801.375.\u001b[0m\n",
      "\u001b[32m[I 2022-09-30 16:25:26,211]\u001b[0m Trial 396 finished with value: 760051.75 and parameters: {'learning_rate': 0.0013467643732569627, 'optimizer': 'Adamax', 'batch_size': 128, 'n_layers': 3, 'n_units_l0': 13, 'n_units_l1': 189, 'n_units_l2': 184}. Best is trial 410 with value: 529801.375.\u001b[0m\n",
      "\u001b[32m[I 2022-09-30 16:25:27,064]\u001b[0m Trial 391 finished with value: 1555972.125 and parameters: {'learning_rate': 0.0013315004938846276, 'optimizer': 'Adamax', 'batch_size': 64, 'n_layers': 5, 'n_units_l0': 199, 'n_units_l1': 218, 'n_units_l2': 186, 'n_units_l3': 133, 'n_units_l4': 223}. Best is trial 410 with value: 529801.375.\u001b[0m\n",
      "\u001b[32m[I 2022-09-30 16:25:59,053]\u001b[0m Trial 451 finished with value: 658195.4375 and parameters: {'learning_rate': 0.001060597368759727, 'optimizer': 'Adamax', 'batch_size': 128, 'n_layers': 3, 'n_units_l0': 197, 'n_units_l1': 190, 'n_units_l2': 220}. Best is trial 410 with value: 529801.375.\u001b[0m\n",
      "\u001b[32m[I 2022-09-30 16:25:59,335]\u001b[0m Trial 457 finished with value: 673937.625 and parameters: {'learning_rate': 0.0008511322304682477, 'optimizer': 'Adamax', 'batch_size': 2048, 'n_layers': 3, 'n_units_l0': 248, 'n_units_l1': 233, 'n_units_l2': 148}. Best is trial 410 with value: 529801.375.\u001b[0m\n",
      "\u001b[32m[I 2022-09-30 16:26:00,956]\u001b[0m Trial 454 finished with value: 651889.625 and parameters: {'learning_rate': 0.0010888379067959025, 'optimizer': 'Adamax', 'batch_size': 128, 'n_layers': 3, 'n_units_l0': 230, 'n_units_l1': 234, 'n_units_l2': 146}. Best is trial 410 with value: 529801.375.\u001b[0m\n",
      "\u001b[32m[I 2022-09-30 16:26:38,967]\u001b[0m Trial 449 finished with value: 642182.9375 and parameters: {'learning_rate': 0.0010553518412964216, 'optimizer': 'Adamax', 'batch_size': 128, 'n_layers': 3, 'n_units_l0': 196, 'n_units_l1': 196, 'n_units_l2': 143}. Best is trial 410 with value: 529801.375.\u001b[0m\n",
      "\u001b[32m[I 2022-09-30 16:26:39,655]\u001b[0m Trial 448 finished with value: 627167.9375 and parameters: {'learning_rate': 0.0018517238098040944, 'optimizer': 'Adamax', 'batch_size': 128, 'n_layers': 3, 'n_units_l0': 192, 'n_units_l1': 196, 'n_units_l2': 144}. Best is trial 410 with value: 529801.375.\u001b[0m\n",
      "\u001b[32m[I 2022-09-30 16:27:05,532]\u001b[0m Trial 455 finished with value: 1555972.125 and parameters: {'learning_rate': 0.00313621378690744, 'optimizer': 'Adamax', 'batch_size': 128, 'n_layers': 7, 'n_units_l0': 191, 'n_units_l1': 195, 'n_units_l2': 198, 'n_units_l3': 3, 'n_units_l4': 128, 'n_units_l5': 192, 'n_units_l6': 203}. Best is trial 410 with value: 529801.375.\u001b[0m\n",
      "\u001b[32m[I 2022-09-30 16:27:18,344]\u001b[0m Trial 442 finished with value: 703647.625 and parameters: {'learning_rate': 0.002624489210707879, 'optimizer': 'Adamax', 'batch_size': 128, 'n_layers': 3, 'n_units_l0': 4, 'n_units_l1': 209, 'n_units_l2': 198}. Best is trial 410 with value: 529801.375.\u001b[0m\n",
      "\u001b[32m[I 2022-09-30 16:27:22,218]\u001b[0m Trial 452 finished with value: 649348.5625 and parameters: {'learning_rate': 0.0010375137740438187, 'optimizer': 'Adamax', 'batch_size': 128, 'n_layers': 3, 'n_units_l0': 191, 'n_units_l1': 210, 'n_units_l2': 167}. Best is trial 410 with value: 529801.375.\u001b[0m\n",
      "\u001b[32m[I 2022-09-30 16:27:50,362]\u001b[0m Trial 463 finished with value: 835794.25 and parameters: {'learning_rate': 0.0006646955983694036, 'optimizer': 'Adamax', 'batch_size': 2048, 'n_layers': 3, 'n_units_l0': 56, 'n_units_l1': 239, 'n_units_l2': 156}. Best is trial 410 with value: 529801.375.\u001b[0m\n",
      "\u001b[32m[I 2022-09-30 16:27:51,564]\u001b[0m Trial 450 finished with value: 647207.125 and parameters: {'learning_rate': 0.0032750235929329915, 'optimizer': 'Adamax', 'batch_size': 128, 'n_layers': 3, 'n_units_l0': 5, 'n_units_l1': 211, 'n_units_l2': 189}. Best is trial 410 with value: 529801.375.\u001b[0m\n",
      "\u001b[32m[I 2022-09-30 16:28:02,670]\u001b[0m Trial 445 finished with value: 673797.125 and parameters: {'learning_rate': 0.002501523780082433, 'optimizer': 'Adamax', 'batch_size': 128, 'n_layers': 3, 'n_units_l0': 256, 'n_units_l1': 240, 'n_units_l2': 155}. Best is trial 410 with value: 529801.375.\u001b[0m\n",
      "\u001b[32m[I 2022-09-30 16:28:05,410]\u001b[0m Trial 467 finished with value: 595220.75 and parameters: {'learning_rate': 0.0008344771743461667, 'optimizer': 'NAdam', 'batch_size': 2048, 'n_layers': 3, 'n_units_l0': 54, 'n_units_l1': 200, 'n_units_l2': 250}. Best is trial 410 with value: 529801.375.\u001b[0m\n",
      "\u001b[32m[I 2022-09-30 16:28:06,987]\u001b[0m Trial 461 finished with value: 1555972.125 and parameters: {'learning_rate': 0.0006691909998062767, 'optimizer': 'Adamax', 'batch_size': 32, 'n_layers': 3, 'n_units_l0': 176, 'n_units_l1': 199, 'n_units_l2': 251}. Best is trial 410 with value: 529801.375.\u001b[0m\n",
      "\u001b[32m[I 2022-09-30 16:28:14,788]\u001b[0m Trial 464 finished with value: 764447.625 and parameters: {'learning_rate': 0.0006854355614031773, 'optimizer': 'Adamax', 'batch_size': 2048, 'n_layers': 3, 'n_units_l0': 208, 'n_units_l1': 187, 'n_units_l2': 152}. Best is trial 410 with value: 529801.375.\u001b[0m\n",
      "\u001b[32m[I 2022-09-30 16:28:16,496]\u001b[0m Trial 458 finished with value: 691342.375 and parameters: {'learning_rate': 0.0008374651647541974, 'optimizer': 'Adamax', 'batch_size': 2048, 'n_layers': 3, 'n_units_l0': 177, 'n_units_l1': 240, 'n_units_l2': 152}. Best is trial 410 with value: 529801.375.\u001b[0m\n",
      "\u001b[32m[I 2022-09-30 16:28:16,891]\u001b[0m Trial 478 finished with value: 708833.6875 and parameters: {'learning_rate': 0.0006659686621729871, 'optimizer': 'Adamax', 'batch_size': 32, 'n_layers': 3, 'n_units_l0': 176, 'n_units_l1': 240, 'n_units_l2': 152}. Best is trial 410 with value: 529801.375.\u001b[0m\n",
      "\u001b[32m[I 2022-09-30 16:28:49,936]\u001b[0m Trial 479 finished with value: 1259240.5 and parameters: {'learning_rate': 0.0007804619631503684, 'optimizer': 'NAdam', 'batch_size': 32, 'n_layers': 3, 'n_units_l0': 207, 'n_units_l1': 188, 'n_units_l2': 156}. Best is trial 410 with value: 529801.375.\u001b[0m\n",
      "\u001b[32m[I 2022-09-30 16:28:56,728]\u001b[0m Trial 470 finished with value: 1032186.375 and parameters: {'learning_rate': 0.0006419071968592675, 'optimizer': 'NAdam', 'batch_size': 2048, 'n_layers': 6, 'n_units_l0': 199, 'n_units_l1': 125, 'n_units_l2': 196, 'n_units_l3': 213, 'n_units_l4': 242, 'n_units_l5': 41}. Best is trial 410 with value: 529801.375.\u001b[0m\n",
      "\u001b[32m[I 2022-09-30 16:28:57,564]\u001b[0m Trial 471 finished with value: 941224.9375 and parameters: {'learning_rate': 0.0006674475259707242, 'optimizer': 'NAdam', 'batch_size': 32, 'n_layers': 3, 'n_units_l0': 176, 'n_units_l1': 200, 'n_units_l2': 250}. Best is trial 410 with value: 529801.375.\u001b[0m\n",
      "\u001b[32m[I 2022-09-30 16:29:09,761]\u001b[0m Trial 459 finished with value: 619254.4375 and parameters: {'learning_rate': 0.0010903564795439664, 'optimizer': 'Adamax', 'batch_size': 32, 'n_layers': 3, 'n_units_l0': 208, 'n_units_l1': 242, 'n_units_l2': 251}. Best is trial 410 with value: 529801.375.\u001b[0m\n",
      "\u001b[32m[I 2022-09-30 16:29:24,838]\u001b[0m Trial 462 finished with value: 943897.0625 and parameters: {'learning_rate': 0.000648064322321173, 'optimizer': 'Adamax', 'batch_size': 2048, 'n_layers': 2, 'n_units_l0': 225, 'n_units_l1': 182}. Best is trial 410 with value: 529801.375.\u001b[0m\n",
      "\u001b[32m[I 2022-09-30 16:29:49,883]\u001b[0m Trial 476 finished with value: 624944.1875 and parameters: {'learning_rate': 0.0006651455022142029, 'optimizer': 'NAdam', 'batch_size': 32, 'n_layers': 2, 'n_units_l0': 197, 'n_units_l1': 181}. Best is trial 410 with value: 529801.375.\u001b[0m\n",
      "\u001b[32m[I 2022-09-30 16:29:53,118]\u001b[0m Trial 477 finished with value: 832009.3125 and parameters: {'learning_rate': 0.0006643950295258553, 'optimizer': 'Adamax', 'batch_size': 32, 'n_layers': 2, 'n_units_l0': 226, 'n_units_l1': 224}. Best is trial 410 with value: 529801.375.\u001b[0m\n",
      "\u001b[32m[I 2022-09-30 16:29:53,583]\u001b[0m Trial 475 finished with value: 1555972.125 and parameters: {'learning_rate': 0.0006363124485777615, 'optimizer': 'Adamax', 'batch_size': 32, 'n_layers': 6, 'n_units_l0': 210, 'n_units_l1': 186, 'n_units_l2': 152, 'n_units_l3': 92, 'n_units_l4': 243, 'n_units_l5': 160}. Best is trial 410 with value: 529801.375.\u001b[0m\n",
      "\u001b[32m[I 2022-09-30 16:30:04,633]\u001b[0m Trial 466 finished with value: 716397.4375 and parameters: {'learning_rate': 0.000696697958373047, 'optimizer': 'Adamax', 'batch_size': 2048, 'n_layers': 6, 'n_units_l0': 18, 'n_units_l1': 225, 'n_units_l2': 171, 'n_units_l3': 100, 'n_units_l4': 178, 'n_units_l5': 161}. Best is trial 410 with value: 529801.375.\u001b[0m\n",
      "\u001b[32m[I 2022-09-30 16:30:17,809]\u001b[0m Trial 460 finished with value: 877786.0625 and parameters: {'learning_rate': 0.0006619833708307053, 'optimizer': 'Adamax', 'batch_size': 32, 'n_layers': 2, 'n_units_l0': 182, 'n_units_l1': 229}. Best is trial 410 with value: 529801.375.\u001b[0m\n",
      "\u001b[32m[I 2022-09-30 16:30:35,931]\u001b[0m Trial 469 finished with value: 617347.0625 and parameters: {'learning_rate': 0.0006645629055305288, 'optimizer': 'NAdam', 'batch_size': 2048, 'n_layers': 3, 'n_units_l0': 193, 'n_units_l1': 114, 'n_units_l2': 179}. Best is trial 410 with value: 529801.375.\u001b[0m\n",
      "\u001b[32m[I 2022-09-30 16:30:37,925]\u001b[0m Trial 473 finished with value: 1555972.125 and parameters: {'learning_rate': 0.0006731318415290764, 'optimizer': 'Adamax', 'batch_size': 32, 'n_layers': 6, 'n_units_l0': 192, 'n_units_l1': 211, 'n_units_l2': 173, 'n_units_l3': 95, 'n_units_l4': 178, 'n_units_l5': 104}. Best is trial 410 with value: 529801.375.\u001b[0m\n",
      "\u001b[32m[I 2022-09-30 16:30:41,111]\u001b[0m Trial 474 finished with value: 607584.8125 and parameters: {'learning_rate': 0.0007090768986220184, 'optimizer': 'Adamax', 'batch_size': 32, 'n_layers': 6, 'n_units_l0': 182, 'n_units_l1': 212, 'n_units_l2': 170, 'n_units_l3': 118, 'n_units_l4': 237, 'n_units_l5': 138}. Best is trial 410 with value: 529801.375.\u001b[0m\n",
      "\u001b[32m[I 2022-09-30 16:30:51,086]\u001b[0m Trial 468 finished with value: 1555972.125 and parameters: {'learning_rate': 0.0006878148560498746, 'optimizer': 'NAdam', 'batch_size': 32, 'n_layers': 6, 'n_units_l0': 195, 'n_units_l1': 181, 'n_units_l2': 171, 'n_units_l3': 212, 'n_units_l4': 238, 'n_units_l5': 140}. Best is trial 410 with value: 529801.375.\u001b[0m\n",
      "\u001b[32m[I 2022-09-30 16:31:31,414]\u001b[0m Trial 472 finished with value: 1555972.125 and parameters: {'learning_rate': 0.001702851057504032, 'optimizer': 'Adamax', 'batch_size': 32, 'n_layers': 6, 'n_units_l0': 238, 'n_units_l1': 210, 'n_units_l2': 179, 'n_units_l3': 118, 'n_units_l4': 203, 'n_units_l5': 140}. Best is trial 410 with value: 529801.375.\u001b[0m\n",
      "\u001b[32m[I 2022-09-30 16:31:34,614]\u001b[0m Trial 465 finished with value: 1555972.125 and parameters: {'learning_rate': 0.0007117228638683588, 'optimizer': 'Adamax', 'batch_size': 32, 'n_layers': 6, 'n_units_l0': 169, 'n_units_l1': 214, 'n_units_l2': 223, 'n_units_l3': 72, 'n_units_l4': 237, 'n_units_l5': 123}. Best is trial 410 with value: 529801.375.\u001b[0m\n",
      "\u001b[32m[I 2022-09-30 16:31:49,387]\u001b[0m Trial 483 finished with value: 788583.75 and parameters: {'learning_rate': 0.0003315502094365631, 'optimizer': 'Adamax', 'batch_size': 64, 'n_layers': 3, 'n_units_l0': 250, 'n_units_l1': 193, 'n_units_l2': 201}. Best is trial 410 with value: 529801.375.\u001b[0m\n",
      "\u001b[32m[I 2022-09-30 16:31:54,636]\u001b[0m Trial 496 finished with value: 872535.0625 and parameters: {'learning_rate': 0.00032688839007115783, 'optimizer': 'Adam', 'batch_size': 64, 'n_layers': 3, 'n_units_l0': 185, 'n_units_l1': 1, 'n_units_l2': 190}. Best is trial 410 with value: 529801.375.\u001b[0m\n",
      "\u001b[32m[I 2022-09-30 16:32:03,543]\u001b[0m Trial 488 finished with value: 614953.25 and parameters: {'learning_rate': 0.0003275013274889573, 'optimizer': 'Adam', 'batch_size': 64, 'n_layers': 3, 'n_units_l0': 184, 'n_units_l1': 192, 'n_units_l2': 225}. Best is trial 410 with value: 529801.375.\u001b[0m\n",
      "\u001b[32m[I 2022-09-30 16:32:04,165]\u001b[0m Trial 492 finished with value: 622901.9375 and parameters: {'learning_rate': 0.00033187464607250616, 'optimizer': 'Adam', 'batch_size': 64, 'n_layers': 3, 'n_units_l0': 202, 'n_units_l1': 206, 'n_units_l2': 190}. Best is trial 410 with value: 529801.375.\u001b[0m\n",
      "\u001b[32m[I 2022-09-30 16:32:04,637]\u001b[0m Trial 499 finished with value: 5151883.0 and parameters: {'learning_rate': 0.012194116205400687, 'optimizer': 'Adam', 'batch_size': 64, 'n_layers': 3, 'n_units_l0': 201, 'n_units_l1': 206, 'n_units_l2': 190}. Best is trial 410 with value: 529801.375.\u001b[0m\n",
      "\u001b[32m[I 2022-09-30 16:32:07,273]\u001b[0m Trial 497 finished with value: 5103166.0 and parameters: {'learning_rate': 0.0016473879280891118, 'optimizer': 'Adam', 'batch_size': 64, 'n_layers': 3, 'n_units_l0': 168, 'n_units_l1': 205, 'n_units_l2': 189}. Best is trial 410 with value: 529801.375.\u001b[0m\n",
      "\u001b[32m[I 2022-09-30 16:32:08,560]\u001b[0m Trial 494 finished with value: 7325594.0 and parameters: {'learning_rate': 0.0015678800572806694, 'optimizer': 'Adam', 'batch_size': 64, 'n_layers': 3, 'n_units_l0': 203, 'n_units_l1': 205, 'n_units_l2': 224}. Best is trial 410 with value: 529801.375.\u001b[0m\n",
      "\u001b[32m[I 2022-09-30 16:32:22,447]\u001b[0m Trial 498 finished with value: 1934957.25 and parameters: {'learning_rate': 0.0015890311858882309, 'optimizer': 'Adam', 'batch_size': 64, 'n_layers': 3, 'n_units_l0': 202, 'n_units_l1': 71, 'n_units_l2': 160}. Best is trial 410 with value: 529801.375.\u001b[0m\n",
      "\u001b[32m[I 2022-09-30 16:32:23,500]\u001b[0m Trial 482 finished with value: 711492.6875 and parameters: {'learning_rate': 0.0006527411430485101, 'optimizer': 'Adamax', 'batch_size': 32, 'n_layers': 3, 'n_units_l0': 169, 'n_units_l1': 192, 'n_units_l2': 223}. Best is trial 410 with value: 529801.375.\u001b[0m\n",
      "\u001b[32m[I 2022-09-30 16:32:34,163]\u001b[0m Trial 480 finished with value: 4805825.0 and parameters: {'learning_rate': 0.011758887716750013, 'optimizer': 'NAdam', 'batch_size': 32, 'n_layers': 3, 'n_units_l0': 168, 'n_units_l1': 193, 'n_units_l2': 164}. Best is trial 410 with value: 529801.375.\u001b[0m\n",
      "\u001b[32m[I 2022-09-30 16:33:01,159]\u001b[0m Trial 500 finished with value: 607617.875 and parameters: {'learning_rate': 0.0003686565249125319, 'optimizer': 'Adam', 'batch_size': 64, 'n_layers': 3, 'n_units_l0': 190, 'n_units_l1': 201, 'n_units_l2': 145}. Best is trial 410 with value: 529801.375.\u001b[0m\n",
      "\u001b[32m[I 2022-09-30 16:33:02,602]\u001b[0m Trial 493 finished with value: 4739313.0 and parameters: {'learning_rate': 0.0016400175051911963, 'optimizer': 'Adam', 'batch_size': 64, 'n_layers': 3, 'n_units_l0': 160, 'n_units_l1': 201, 'n_units_l2': 210}. Best is trial 410 with value: 529801.375.\u001b[0m\n",
      "\u001b[32m[I 2022-09-30 16:33:07,657]\u001b[0m Trial 489 finished with value: 788806.375 and parameters: {'learning_rate': 0.0003118732894856643, 'optimizer': 'Adam', 'batch_size': 64, 'n_layers': 3, 'n_units_l0': 23, 'n_units_l1': 147, 'n_units_l2': 144}. Best is trial 410 with value: 529801.375.\u001b[0m\n",
      "\u001b[32m[I 2022-09-30 16:33:14,870]\u001b[0m Trial 486 finished with value: 2497181.75 and parameters: {'learning_rate': 0.0016281492456955465, 'optimizer': 'NAdam', 'batch_size': 64, 'n_layers': 3, 'n_units_l0': 168, 'n_units_l1': 201, 'n_units_l2': 165}. Best is trial 410 with value: 529801.375.\u001b[0m\n",
      "\u001b[32m[I 2022-09-30 16:33:21,707]\u001b[0m Trial 481 finished with value: 686772.375 and parameters: {'learning_rate': 0.0006713009405902048, 'optimizer': 'Adamax', 'batch_size': 32, 'n_layers': 3, 'n_units_l0': 202, 'n_units_l1': 204, 'n_units_l2': 190}. Best is trial 410 with value: 529801.375.\u001b[0m\n",
      "\u001b[32m[I 2022-09-30 16:33:35,079]\u001b[0m Trial 484 finished with value: 1055973.25 and parameters: {'learning_rate': 0.0016885295272037358, 'optimizer': 'NAdam', 'batch_size': 64, 'n_layers': 3, 'n_units_l0': 22, 'n_units_l1': 214, 'n_units_l2': 109}. Best is trial 410 with value: 529801.375.\u001b[0m\n",
      "\u001b[32m[I 2022-09-30 16:33:40,154]\u001b[0m Trial 495 finished with value: 1555972.125 and parameters: {'learning_rate': 0.0016515359645844383, 'optimizer': 'Adam', 'batch_size': 64, 'n_layers': 1, 'n_units_l0': 7}. Best is trial 410 with value: 529801.375.\u001b[0m\n",
      "\u001b[32m[I 2022-09-30 16:33:52,745]\u001b[0m Trial 485 finished with value: 1555972.125 and parameters: {'learning_rate': 0.0003416955860913719, 'optimizer': 'Adam', 'batch_size': 64, 'n_layers': 7, 'n_units_l0': 196, 'n_units_l1': 129, 'n_units_l2': 112, 'n_units_l3': 196, 'n_units_l4': 116, 'n_units_l5': 72, 'n_units_l6': 118}. Best is trial 410 with value: 529801.375.\u001b[0m\n",
      "\u001b[32m[I 2022-09-30 16:33:54,569]\u001b[0m Trial 491 finished with value: 679157.0 and parameters: {'learning_rate': 0.00034688466064533655, 'optimizer': 'Adam', 'batch_size': 64, 'n_layers': 3, 'n_units_l0': 23, 'n_units_l1': 214, 'n_units_l2': 199}. Best is trial 410 with value: 529801.375.\u001b[0m\n",
      "\u001b[32m[I 2022-09-30 16:33:57,017]\u001b[0m Trial 490 finished with value: 612734.375 and parameters: {'learning_rate': 0.0003590902651227919, 'optimizer': 'Adam', 'batch_size': 64, 'n_layers': 3, 'n_units_l0': 161, 'n_units_l1': 214, 'n_units_l2': 196}. Best is trial 410 with value: 529801.375.\u001b[0m\n",
      "\u001b[32m[I 2022-09-30 16:34:07,256]\u001b[0m Trial 487 finished with value: 1251571.25 and parameters: {'learning_rate': 0.00163694035471773, 'optimizer': 'Adam', 'batch_size': 64, 'n_layers': 7, 'n_units_l0': 17, 'n_units_l1': 129, 'n_units_l2': 194, 'n_units_l3': 79, 'n_units_l4': 190, 'n_units_l5': 68, 'n_units_l6': 122}. Best is trial 410 with value: 529801.375.\u001b[0m\n",
      "\u001b[32m[I 2022-09-30 16:34:16,877]\u001b[0m Trial 518 finished with value: 2480136.75 and parameters: {'learning_rate': 0.0011194191321132585, 'optimizer': 'Adam', 'batch_size': 64, 'n_layers': 5, 'n_units_l0': 191, 'n_units_l1': 178, 'n_units_l2': 195, 'n_units_l3': 174, 'n_units_l4': 193}. Best is trial 410 with value: 529801.375.\u001b[0m\n",
      "\u001b[32m[I 2022-09-30 16:34:58,095]\u001b[0m Trial 503 finished with value: 3065353.5 and parameters: {'learning_rate': 0.0011309730185556856, 'optimizer': 'Adam', 'batch_size': 64, 'n_layers': 5, 'n_units_l0': 190, 'n_units_l1': 123, 'n_units_l2': 179, 'n_units_l3': 76, 'n_units_l4': 191}. Best is trial 410 with value: 529801.375.\u001b[0m\n",
      "\u001b[32m[I 2022-09-30 16:35:00,137]\u001b[0m Trial 502 finished with value: 1907598.75 and parameters: {'learning_rate': 0.0016362953713337325, 'optimizer': 'Adam', 'batch_size': 64, 'n_layers': 5, 'n_units_l0': 189, 'n_units_l1': 152, 'n_units_l2': 178, 'n_units_l3': 114, 'n_units_l4': 192}. Best is trial 410 with value: 529801.375.\u001b[0m\n",
      "\u001b[32m[I 2022-09-30 16:35:01,559]\u001b[0m Trial 515 finished with value: 657823.3125 and parameters: {'learning_rate': 0.0004477671780967053, 'optimizer': 'Adam', 'batch_size': 64, 'n_layers': 5, 'n_units_l0': 244, 'n_units_l1': 126, 'n_units_l2': 49, 'n_units_l3': 78, 'n_units_l4': 132}. Best is trial 410 with value: 529801.375.\u001b[0m\n",
      "\u001b[32m[I 2022-09-30 16:35:02,655]\u001b[0m Trial 501 finished with value: 777478.625 and parameters: {'learning_rate': 0.00033943838788955106, 'optimizer': 'Adam', 'batch_size': 64, 'n_layers': 5, 'n_units_l0': 188, 'n_units_l1': 160, 'n_units_l2': 179, 'n_units_l3': 77, 'n_units_l4': 188}. Best is trial 410 with value: 529801.375.\u001b[0m\n",
      "\u001b[32m[I 2022-09-30 16:35:03,830]\u001b[0m Trial 504 finished with value: 3384633.0 and parameters: {'learning_rate': 0.011773842197834438, 'optimizer': 'Adam', 'batch_size': 64, 'n_layers': 5, 'n_units_l0': 191, 'n_units_l1': 229, 'n_units_l2': 178, 'n_units_l3': 77, 'n_units_l4': 138}. Best is trial 410 with value: 529801.375.\u001b[0m\n",
      "\u001b[32m[I 2022-09-30 16:35:08,650]\u001b[0m Trial 513 finished with value: 1555972.125 and parameters: {'learning_rate': 0.0010786955446025947, 'optimizer': 'Adam', 'batch_size': 64, 'n_layers': 5, 'n_units_l0': 183, 'n_units_l1': 222, 'n_units_l2': 176, 'n_units_l3': 75, 'n_units_l4': 135}. Best is trial 410 with value: 529801.375.\u001b[0m\n",
      "\u001b[32m[I 2022-09-30 16:35:59,533]\u001b[0m Trial 505 finished with value: 1554890.5 and parameters: {'learning_rate': 0.00046914710076821517, 'optimizer': 'Adam', 'batch_size': 64, 'n_layers': 6, 'n_units_l0': 1, 'n_units_l1': 229, 'n_units_l2': 204, 'n_units_l3': 89, 'n_units_l4': 226, 'n_units_l5': 5}. Best is trial 410 with value: 529801.375.\u001b[0m\n",
      "\u001b[32m[I 2022-09-30 16:36:05,116]\u001b[0m Trial 507 finished with value: 1073648.125 and parameters: {'learning_rate': 0.0004593866754407299, 'optimizer': 'Adam', 'batch_size': 64, 'n_layers': 6, 'n_units_l0': 196, 'n_units_l1': 185, 'n_units_l2': 147, 'n_units_l3': 92, 'n_units_l4': 255, 'n_units_l5': 185}. Best is trial 410 with value: 529801.375.\u001b[0m\n",
      "\u001b[32m[I 2022-09-30 16:36:07,531]\u001b[0m Trial 509 finished with value: 1555972.125 and parameters: {'learning_rate': 0.0011829235877112087, 'optimizer': 'Adam', 'batch_size': 64, 'n_layers': 6, 'n_units_l0': 244, 'n_units_l1': 151, 'n_units_l2': 205, 'n_units_l3': 222, 'n_units_l4': 256, 'n_units_l5': 106}. Best is trial 410 with value: 529801.375.\u001b[0m\n",
      "\u001b[32m[I 2022-09-30 16:36:10,464]\u001b[0m Trial 522 finished with value: 1010600.9375 and parameters: {'learning_rate': 0.00045431366846024725, 'optimizer': 'Adam', 'batch_size': 64, 'n_layers': 6, 'n_units_l0': 197, 'n_units_l1': 223, 'n_units_l2': 139, 'n_units_l3': 127, 'n_units_l4': 172, 'n_units_l5': 180}. Best is trial 410 with value: 529801.375.\u001b[0m\n",
      "\u001b[32m[I 2022-09-30 16:36:13,414]\u001b[0m Trial 511 finished with value: 2779481.25 and parameters: {'learning_rate': 0.0011249134147518001, 'optimizer': 'Adam', 'batch_size': 64, 'n_layers': 6, 'n_units_l0': 218, 'n_units_l1': 222, 'n_units_l2': 205, 'n_units_l3': 89, 'n_units_l4': 170, 'n_units_l5': 183}. Best is trial 410 with value: 529801.375.\u001b[0m\n",
      "\u001b[32m[I 2022-09-30 16:36:16,383]\u001b[0m Trial 520 finished with value: 3768249.25 and parameters: {'learning_rate': 0.0008673877941147488, 'optimizer': 'Adam', 'batch_size': 64, 'n_layers': 6, 'n_units_l0': 154, 'n_units_l1': 183, 'n_units_l2': 217, 'n_units_l3': 143, 'n_units_l4': 168, 'n_units_l5': 6}. Best is trial 410 with value: 529801.375.\u001b[0m\n",
      "\u001b[32m[I 2022-09-30 16:36:23,679]\u001b[0m Trial 523 finished with value: 1555972.125 and parameters: {'learning_rate': 0.001233448726515872, 'optimizer': 'Adam', 'batch_size': 64, 'n_layers': 6, 'n_units_l0': 152, 'n_units_l1': 186, 'n_units_l2': 148, 'n_units_l3': 124, 'n_units_l4': 256, 'n_units_l5': 109}. Best is trial 410 with value: 529801.375.\u001b[0m\n",
      "\u001b[32m[I 2022-09-30 16:37:06,230]\u001b[0m Trial 529 finished with value: 654568.25 and parameters: {'learning_rate': 0.0008417415814601311, 'optimizer': 'Adamax', 'batch_size': 64, 'n_layers': 6, 'n_units_l0': 196, 'n_units_l1': 184, 'n_units_l2': 4, 'n_units_l3': 141, 'n_units_l4': 230, 'n_units_l5': 180}. Best is trial 410 with value: 529801.375.\u001b[0m\n",
      "\u001b[32m[I 2022-09-30 16:37:11,155]\u001b[0m Trial 512 finished with value: 615751.375 and parameters: {'learning_rate': 0.00042795104430158165, 'optimizer': 'Adam', 'batch_size': 64, 'n_layers': 3, 'n_units_l0': 155, 'n_units_l1': 139, 'n_units_l2': 186}. Best is trial 410 with value: 529801.375.\u001b[0m\n",
      "\u001b[32m[I 2022-09-30 16:37:11,505]\u001b[0m Trial 528 finished with value: 1555972.125 and parameters: {'learning_rate': 0.00046483109120920194, 'optimizer': 'Adamax', 'batch_size': 64, 'n_layers': 6, 'n_units_l0': 154, 'n_units_l1': 197, 'n_units_l2': 217, 'n_units_l3': 143, 'n_units_l4': 254, 'n_units_l5': 124}. Best is trial 410 with value: 529801.375.\u001b[0m\n",
      "\u001b[32m[I 2022-09-30 16:37:12,733]\u001b[0m Trial 516 finished with value: 2945952.5 and parameters: {'learning_rate': 0.0011467145059237574, 'optimizer': 'Adam', 'batch_size': 64, 'n_layers': 3, 'n_units_l0': 153, 'n_units_l1': 196, 'n_units_l2': 188}. Best is trial 410 with value: 529801.375.\u001b[0m\n",
      "\u001b[32m[I 2022-09-30 16:37:14,341]\u001b[0m Trial 510 finished with value: 1555972.125 and parameters: {'learning_rate': 0.00043710104313188404, 'optimizer': 'Adam', 'batch_size': 64, 'n_layers': 3, 'n_units_l0': 8, 'n_units_l1': 196, 'n_units_l2': 161}. Best is trial 410 with value: 529801.375.\u001b[0m\n",
      "\u001b[32m[I 2022-09-30 16:37:22,231]\u001b[0m Trial 526 finished with value: 1071762.75 and parameters: {'learning_rate': 0.0011947683755984299, 'optimizer': 'Adamax', 'batch_size': 64, 'n_layers': 6, 'n_units_l0': 197, 'n_units_l1': 188, 'n_units_l2': 207, 'n_units_l3': 222, 'n_units_l4': 256, 'n_units_l5': 181}. Best is trial 410 with value: 529801.375.\u001b[0m\n",
      "\u001b[32m[I 2022-09-30 16:37:46,031]\u001b[0m Trial 531 finished with value: 897144.5625 and parameters: {'learning_rate': 0.0008611566544730664, 'optimizer': 'Adamax', 'batch_size': 128, 'n_layers': 3, 'n_units_l0': 7, 'n_units_l1': 175, 'n_units_l2': 162}. Best is trial 410 with value: 529801.375.\u001b[0m\n",
      "\u001b[32m[I 2022-09-30 16:38:01,946]\u001b[0m Trial 517 finished with value: 790301.9375 and parameters: {'learning_rate': 0.000423969049794821, 'optimizer': 'Adam', 'batch_size': 64, 'n_layers': 2, 'n_units_l0': 206, 'n_units_l1': 174}. Best is trial 410 with value: 529801.375.\u001b[0m\n",
      "\u001b[32m[I 2022-09-30 16:38:10,649]\u001b[0m Trial 521 finished with value: 623710.875 and parameters: {'learning_rate': 0.0004636536800271864, 'optimizer': 'Adam', 'batch_size': 64, 'n_layers': 3, 'n_units_l0': 174, 'n_units_l1': 175, 'n_units_l2': 165}. Best is trial 410 with value: 529801.375.\u001b[0m\n",
      "\u001b[32m[I 2022-09-30 16:38:13,751]\u001b[0m Trial 508 finished with value: 1555972.125 and parameters: {'learning_rate': 0.0004490816308377982, 'optimizer': 'Adam', 'batch_size': 64, 'n_layers': 3, 'n_units_l0': 182, 'n_units_l1': 173, 'n_units_l2': 162}. Best is trial 410 with value: 529801.375.\u001b[0m\n",
      "\u001b[32m[I 2022-09-30 16:38:13,870]\u001b[0m Trial 530 finished with value: 775243.0 and parameters: {'learning_rate': 0.0008615888448158271, 'optimizer': 'Adamax', 'batch_size': 64, 'n_layers': 3, 'n_units_l0': 8, 'n_units_l1': 208, 'n_units_l2': 158}. Best is trial 410 with value: 529801.375.\u001b[0m\n",
      "\u001b[32m[I 2022-09-30 16:38:18,818]\u001b[0m Trial 527 finished with value: 901041.3125 and parameters: {'learning_rate': 0.0004602977794124825, 'optimizer': 'Adamax', 'batch_size': 64, 'n_layers': 2, 'n_units_l0': 253, 'n_units_l1': 174}. Best is trial 410 with value: 529801.375.\u001b[0m\n",
      "\u001b[32m[I 2022-09-30 16:38:35,991]\u001b[0m Trial 524 finished with value: 855749.75 and parameters: {'learning_rate': 0.00043800942013847664, 'optimizer': 'Adamax', 'batch_size': 64, 'n_layers': 2, 'n_units_l0': 181, 'n_units_l1': 209}. Best is trial 410 with value: 529801.375.\u001b[0m\n",
      "\u001b[32m[I 2022-09-30 16:38:46,884]\u001b[0m Trial 525 finished with value: 908092.5625 and parameters: {'learning_rate': 0.0004376415116244994, 'optimizer': 'Adamax', 'batch_size': 64, 'n_layers': 2, 'n_units_l0': 256, 'n_units_l1': 210}. Best is trial 410 with value: 529801.375.\u001b[0m\n",
      "\u001b[32m[I 2022-09-30 16:39:07,026]\u001b[0m Trial 514 finished with value: 885755.5625 and parameters: {'learning_rate': 0.00014701338459366929, 'optimizer': 'Adam', 'batch_size': 64, 'n_layers': 2, 'n_units_l0': 255, 'n_units_l1': 118}. Best is trial 410 with value: 529801.375.\u001b[0m\n",
      "\u001b[32m[I 2022-09-30 16:39:13,186]\u001b[0m Trial 506 finished with value: 619606.25 and parameters: {'learning_rate': 0.00045079701816305576, 'optimizer': 'Adam', 'batch_size': 64, 'n_layers': 3, 'n_units_l0': 183, 'n_units_l1': 209, 'n_units_l2': 234}. Best is trial 410 with value: 529801.375.\u001b[0m\n",
      "\u001b[32m[I 2022-09-30 16:39:18,115]\u001b[0m Trial 533 finished with value: 682179.4375 and parameters: {'learning_rate': 0.0009054692240216279, 'optimizer': 'Adamax', 'batch_size': 128, 'n_layers': 3, 'n_units_l0': 213, 'n_units_l1': 210, 'n_units_l2': 136}. Best is trial 410 with value: 529801.375.\u001b[0m\n",
      "\u001b[32m[I 2022-09-30 16:39:19,857]\u001b[0m Trial 547 finished with value: 1555972.125 and parameters: {'learning_rate': 8.039669814489058e-05, 'optimizer': 'Adamax', 'batch_size': 128, 'n_layers': 3, 'n_units_l0': 1, 'n_units_l1': 105, 'n_units_l2': 200}. Best is trial 410 with value: 529801.375.\u001b[0m\n",
      "\u001b[32m[I 2022-09-30 16:39:20,921]\u001b[0m Trial 540 finished with value: 675586.3125 and parameters: {'learning_rate': 0.0008440601174515846, 'optimizer': 'Adamax', 'batch_size': 128, 'n_layers': 3, 'n_units_l0': 183, 'n_units_l1': 209, 'n_units_l2': 198}. Best is trial 410 with value: 529801.375.\u001b[0m\n",
      "\u001b[32m[I 2022-09-30 16:39:22,876]\u001b[0m Trial 548 finished with value: 638843.625 and parameters: {'learning_rate': 0.0008949276883981324, 'optimizer': 'Adamax', 'batch_size': 128, 'n_layers': 3, 'n_units_l0': 237, 'n_units_l1': 212, 'n_units_l2': 242}. Best is trial 410 with value: 529801.375.\u001b[0m\n",
      "\u001b[32m[I 2022-09-30 16:39:23,805]\u001b[0m Trial 519 finished with value: 632944.0625 and parameters: {'learning_rate': 0.0004404517794751169, 'optimizer': 'Adam', 'batch_size': 64, 'n_layers': 3, 'n_units_l0': 182, 'n_units_l1': 209, 'n_units_l2': 245}. Best is trial 410 with value: 529801.375.\u001b[0m\n",
      "\u001b[32m[I 2022-09-30 16:39:29,001]\u001b[0m Trial 538 finished with value: 674936.0 and parameters: {'learning_rate': 0.000834531123337121, 'optimizer': 'Adamax', 'batch_size': 128, 'n_layers': 3, 'n_units_l0': 212, 'n_units_l1': 209, 'n_units_l2': 199}. Best is trial 410 with value: 529801.375.\u001b[0m\n",
      "\u001b[32m[I 2022-09-30 16:39:31,424]\u001b[0m Trial 534 finished with value: 1555972.125 and parameters: {'learning_rate': 0.0008500563624504532, 'optimizer': 'Adamax', 'batch_size': 128, 'n_layers': 3, 'n_units_l0': 182, 'n_units_l1': 210, 'n_units_l2': 198}. Best is trial 410 with value: 529801.375.\u001b[0m\n",
      "\u001b[32m[I 2022-09-30 16:39:43,103]\u001b[0m Trial 550 finished with value: 742174.875 and parameters: {'learning_rate': 0.0008549974899421978, 'optimizer': 'Adamax', 'batch_size': 128, 'n_layers': 3, 'n_units_l0': 237, 'n_units_l1': 105, 'n_units_l2': 136}. Best is trial 410 with value: 529801.375.\u001b[0m\n",
      "\u001b[32m[I 2022-09-30 16:40:05,403]\u001b[0m Trial 552 finished with value: 693104.3125 and parameters: {'learning_rate': 0.0008659798732379556, 'optimizer': 'Adamax', 'batch_size': 128, 'n_layers': 3, 'n_units_l0': 236, 'n_units_l1': 105, 'n_units_l2': 198}. Best is trial 410 with value: 529801.375.\u001b[0m\n",
      "\u001b[32m[I 2022-09-30 16:40:07,045]\u001b[0m Trial 551 finished with value: 690293.0625 and parameters: {'learning_rate': 0.0008412343094429597, 'optimizer': 'Adamax', 'batch_size': 128, 'n_layers': 3, 'n_units_l0': 235, 'n_units_l1': 215, 'n_units_l2': 142}. Best is trial 410 with value: 529801.375.\u001b[0m\n",
      "\u001b[32m[I 2022-09-30 16:40:17,225]\u001b[0m Trial 556 finished with value: 8541379.734375 and parameters: {'learning_rate': 0.0013457851754031624, 'optimizer': 'Adamax', 'batch_size': 8, 'n_layers': 3, 'n_units_l0': 205, 'n_units_l1': 216, 'n_units_l2': 172}. Best is trial 410 with value: 529801.375.\u001b[0m\n",
      "\u001b[32m[I 2022-09-30 16:40:24,785]\u001b[0m Trial 555 finished with value: 689854.5625 and parameters: {'learning_rate': 0.001248427070988499, 'optimizer': 'Adamax', 'batch_size': 128, 'n_layers': 3, 'n_units_l0': 173, 'n_units_l1': 80, 'n_units_l2': 141}. Best is trial 410 with value: 529801.375.\u001b[0m\n",
      "\u001b[32m[I 2022-09-30 16:40:27,695]\u001b[0m Trial 557 finished with value: 651588.0 and parameters: {'learning_rate': 0.0013178324295220342, 'optimizer': 'Adamax', 'batch_size': 128, 'n_layers': 3, 'n_units_l0': 205, 'n_units_l1': 137, 'n_units_l2': 142}. Best is trial 410 with value: 529801.375.\u001b[0m\n",
      "\u001b[32m[I 2022-09-30 16:40:28,045]\u001b[0m Trial 549 finished with value: 1555972.125 and parameters: {'learning_rate': 0.0009362613000275558, 'optimizer': 'Adamax', 'batch_size': 128, 'n_layers': 3, 'n_units_l0': 15, 'n_units_l1': 144, 'n_units_l2': 242}. Best is trial 410 with value: 529801.375.\u001b[0m\n",
      "\u001b[32m[I 2022-09-30 16:40:28,135]\u001b[0m Trial 553 finished with value: 613586.625 and parameters: {'learning_rate': 0.0013596936216376916, 'optimizer': 'Adamax', 'batch_size': 128, 'n_layers': 3, 'n_units_l0': 205, 'n_units_l1': 217, 'n_units_l2': 171}. Best is trial 410 with value: 529801.375.\u001b[0m\n",
      "\u001b[32m[I 2022-09-30 16:40:35,125]\u001b[0m Trial 554 finished with value: 7390633.4765625 and parameters: {'learning_rate': 0.00133060490445433, 'optimizer': 'Adamax', 'batch_size': 8, 'n_layers': 3, 'n_units_l0': 201, 'n_units_l1': 168, 'n_units_l2': 242}. Best is trial 410 with value: 529801.375.\u001b[0m\n",
      "\u001b[32m[I 2022-09-30 16:40:35,941]\u001b[0m Trial 542 finished with value: 1850426.0 and parameters: {'learning_rate': 0.039805298126131705, 'optimizer': 'Adamax', 'batch_size': 128, 'n_layers': 3, 'n_units_l0': 18, 'n_units_l1': 144, 'n_units_l2': 174}. Best is trial 410 with value: 529801.375.\u001b[0m\n",
      "\u001b[32m[I 2022-09-30 16:40:38,377]\u001b[0m Trial 537 finished with value: 710628.6875 and parameters: {'learning_rate': 0.0009138216608276794, 'optimizer': 'Adamax', 'batch_size': 128, 'n_layers': 3, 'n_units_l0': 205, 'n_units_l1': 145, 'n_units_l2': 142}. Best is trial 410 with value: 529801.375.\u001b[0m\n",
      "\u001b[32m[I 2022-09-30 16:40:59,207]\u001b[0m Trial 546 finished with value: 1396024.125 and parameters: {'learning_rate': 0.0009768742898624077, 'optimizer': 'Adamax', 'batch_size': 128, 'n_layers': 1, 'n_units_l0': 192}. Best is trial 410 with value: 529801.375.\u001b[0m\n",
      "\u001b[32m[I 2022-09-30 16:41:28,225]\u001b[0m Trial 539 finished with value: 648157.875 and parameters: {'learning_rate': 0.0009368234908576486, 'optimizer': 'Adamax', 'batch_size': 128, 'n_layers': 5, 'n_units_l0': 163, 'n_units_l1': 203, 'n_units_l2': 183, 'n_units_l3': 56, 'n_units_l4': 218}. Best is trial 410 with value: 529801.375.\u001b[0m\n",
      "\u001b[32m[I 2022-09-30 16:41:36,807]\u001b[0m Trial 545 finished with value: 586944.375 and parameters: {'learning_rate': 0.0008885719060816707, 'optimizer': 'Adamax', 'batch_size': 128, 'n_layers': 5, 'n_units_l0': 193, 'n_units_l1': 201, 'n_units_l2': 182, 'n_units_l3': 253, 'n_units_l4': 217}. Best is trial 410 with value: 529801.375.\u001b[0m\n",
      "\u001b[32m[I 2022-09-30 16:41:46,237]\u001b[0m Trial 536 finished with value: 1555972.125 and parameters: {'learning_rate': 0.0008602625512694317, 'optimizer': 'Adamax', 'batch_size': 128, 'n_layers': 5, 'n_units_l0': 194, 'n_units_l1': 202, 'n_units_l2': 183, 'n_units_l3': 11, 'n_units_l4': 217}. Best is trial 410 with value: 529801.375.\u001b[0m\n",
      "\u001b[32m[I 2022-09-30 16:42:06,875]\u001b[0m Trial 532 finished with value: 682479.25 and parameters: {'learning_rate': 0.0008855345878539616, 'optimizer': 'Adamax', 'batch_size': 128, 'n_layers': 3, 'n_units_l0': 176, 'n_units_l1': 198, 'n_units_l2': 193}. Best is trial 410 with value: 529801.375.\u001b[0m\n",
      "\u001b[32m[I 2022-09-30 16:42:27,405]\u001b[0m Trial 543 finished with value: 591949.4375 and parameters: {'learning_rate': 0.0008320446226978866, 'optimizer': 'Adamax', 'batch_size': 128, 'n_layers': 5, 'n_units_l0': 188, 'n_units_l1': 199, 'n_units_l2': 182, 'n_units_l3': 248, 'n_units_l4': 207}. Best is trial 410 with value: 529801.375.\u001b[0m\n",
      "\u001b[32m[I 2022-09-30 16:42:36,811]\u001b[0m Trial 535 finished with value: 1555972.125 and parameters: {'learning_rate': 0.0008724269861424142, 'optimizer': 'Adamax', 'batch_size': 128, 'n_layers': 5, 'n_units_l0': 188, 'n_units_l1': 198, 'n_units_l2': 188, 'n_units_l3': 255, 'n_units_l4': 246}. Best is trial 410 with value: 529801.375.\u001b[0m\n",
      "\u001b[32m[I 2022-09-30 16:42:59,546]\u001b[0m Trial 544 finished with value: 1555972.125 and parameters: {'learning_rate': 0.0406582138917738, 'optimizer': 'Adamax', 'batch_size': 128, 'n_layers': 5, 'n_units_l0': 188, 'n_units_l1': 198, 'n_units_l2': 188, 'n_units_l3': 235, 'n_units_l4': 207}. Best is trial 410 with value: 529801.375.\u001b[0m\n",
      "\u001b[32m[I 2022-09-30 16:43:14,153]\u001b[0m Trial 541 finished with value: 671045.625 and parameters: {'learning_rate': 0.0008550493644422138, 'optimizer': 'Adamax', 'batch_size': 128, 'n_layers': 5, 'n_units_l0': 190, 'n_units_l1': 200, 'n_units_l2': 182, 'n_units_l3': 254, 'n_units_l4': 101}. Best is trial 410 with value: 529801.375.\u001b[0m\n",
      "\u001b[32m[I 2022-09-30 16:43:20,294]\u001b[0m Trial 564 finished with value: 1555972.125 and parameters: {'learning_rate': 0.002096995059794384, 'optimizer': 'Adamax', 'batch_size': 128, 'n_layers': 5, 'n_units_l0': 189, 'n_units_l1': 201, 'n_units_l2': 180, 'n_units_l3': 250, 'n_units_l4': 206}. Best is trial 410 with value: 529801.375.\u001b[0m\n",
      "\u001b[32m[I 2022-09-30 16:43:31,642]\u001b[0m Trial 576 finished with value: 588959.9375 and parameters: {'learning_rate': 0.001085778303441449, 'optimizer': 'Adamax', 'batch_size': 128, 'n_layers': 5, 'n_units_l0': 188, 'n_units_l1': 202, 'n_units_l2': 179, 'n_units_l3': 231, 'n_units_l4': 206}. Best is trial 410 with value: 529801.375.\u001b[0m\n",
      "\u001b[32m[I 2022-09-30 16:43:43,302]\u001b[0m Trial 578 finished with value: 3226924.625 and parameters: {'learning_rate': 0.0011035838770153685, 'optimizer': 'Adamax', 'batch_size': 16, 'n_layers': 5, 'n_units_l0': 186, 'n_units_l1': 204, 'n_units_l2': 180, 'n_units_l3': 232, 'n_units_l4': 206}. Best is trial 410 with value: 529801.375.\u001b[0m\n",
      "\u001b[32m[I 2022-09-30 16:43:57,650]\u001b[0m Trial 571 finished with value: 564421.75 and parameters: {'learning_rate': 0.00019202848734051407, 'optimizer': 'Adam', 'batch_size': 64, 'n_layers': 5, 'n_units_l0': 188, 'n_units_l1': 202, 'n_units_l2': 181, 'n_units_l3': 252, 'n_units_l4': 205}. Best is trial 410 with value: 529801.375.\u001b[0m\n",
      "\u001b[32m[I 2022-09-30 16:44:11,114]\u001b[0m Trial 569 finished with value: 3226924.625 and parameters: {'learning_rate': 0.001056247884181009, 'optimizer': 'Adamax', 'batch_size': 16, 'n_layers': 5, 'n_units_l0': 188, 'n_units_l1': 202, 'n_units_l2': 181, 'n_units_l3': 253, 'n_units_l4': 200}. Best is trial 410 with value: 529801.375.\u001b[0m\n",
      "\u001b[32m[I 2022-09-30 16:44:32,990]\u001b[0m Trial 568 finished with value: 7601566.546875 and parameters: {'learning_rate': 0.0021549724630166456, 'optimizer': 'Adamax', 'batch_size': 8, 'n_layers': 5, 'n_units_l0': 189, 'n_units_l1': 203, 'n_units_l2': 183, 'n_units_l3': 236, 'n_units_l4': 197}. Best is trial 410 with value: 529801.375.\u001b[0m\n",
      "\u001b[32m[I 2022-09-30 16:44:40,485]\u001b[0m Trial 573 finished with value: 1305798.875 and parameters: {'learning_rate': 0.002035687586132697, 'optimizer': 'Adam', 'batch_size': 64, 'n_layers': 5, 'n_units_l0': 186, 'n_units_l1': 205, 'n_units_l2': 173, 'n_units_l3': 230, 'n_units_l4': 198}. Best is trial 410 with value: 529801.375.\u001b[0m\n",
      "\u001b[32m[I 2022-09-30 16:44:43,264]\u001b[0m Trial 563 finished with value: 787419.4375 and parameters: {'learning_rate': 0.0021562566260600073, 'optimizer': 'Adamax', 'batch_size': 128, 'n_layers': 5, 'n_units_l0': 178, 'n_units_l1': 194, 'n_units_l2': 175, 'n_units_l3': 253, 'n_units_l4': 198}. Best is trial 410 with value: 529801.375.\u001b[0m\n",
      "\u001b[32m[I 2022-09-30 16:45:24,987]\u001b[0m Trial 577 finished with value: 1555972.125 and parameters: {'learning_rate': 0.0010824789737058473, 'optimizer': 'Adamax', 'batch_size': 128, 'n_layers': 5, 'n_units_l0': 181, 'n_units_l1': 192, 'n_units_l2': 175, 'n_units_l3': 242, 'n_units_l4': 213}. Best is trial 410 with value: 529801.375.\u001b[0m\n",
      "\u001b[32m[I 2022-09-30 16:45:28,271]\u001b[0m Trial 574 finished with value: 1555972.125 and parameters: {'learning_rate': 0.0022637379429509565, 'optimizer': 'Adamax', 'batch_size': 128, 'n_layers': 5, 'n_units_l0': 178, 'n_units_l1': 221, 'n_units_l2': 167, 'n_units_l3': 248, 'n_units_l4': 213}. Best is trial 410 with value: 529801.375.\u001b[0m\n",
      "\u001b[32m[I 2022-09-30 16:45:41,325]\u001b[0m Trial 562 finished with value: 3946656.4453125 and parameters: {'learning_rate': 0.0012942300879229852, 'optimizer': 'Adamax', 'batch_size': 8, 'n_layers': 5, 'n_units_l0': 188, 'n_units_l1': 195, 'n_units_l2': 181, 'n_units_l3': 232, 'n_units_l4': 203}. Best is trial 410 with value: 529801.375.\u001b[0m\n",
      "\u001b[32m[I 2022-09-30 16:45:42,913]\u001b[0m Trial 567 finished with value: 3049110.1171875 and parameters: {'learning_rate': 0.00018541841625286873, 'optimizer': 'Adamax', 'batch_size': 8, 'n_layers': 5, 'n_units_l0': 190, 'n_units_l1': 199, 'n_units_l2': 181, 'n_units_l3': 233, 'n_units_l4': 201}. Best is trial 410 with value: 529801.375.\u001b[0m\n",
      "\u001b[32m[I 2022-09-30 16:45:43,823]\u001b[0m Trial 558 finished with value: 4225429.15234375 and parameters: {'learning_rate': 0.0013366617729929891, 'optimizer': 'Adamax', 'batch_size': 8, 'n_layers': 5, 'n_units_l0': 197, 'n_units_l1': 203, 'n_units_l2': 177, 'n_units_l3': 246, 'n_units_l4': 205}. Best is trial 410 with value: 529801.375.\u001b[0m\n",
      "\u001b[32m[I 2022-09-30 16:46:02,355]\u001b[0m Trial 560 finished with value: 1555972.125 and parameters: {'learning_rate': 0.0013492743569372254, 'optimizer': 'Adamax', 'batch_size': 128, 'n_layers': 5, 'n_units_l0': 193, 'n_units_l1': 231, 'n_units_l2': 169, 'n_units_l3': 241, 'n_units_l4': 203}. Best is trial 410 with value: 529801.375.\u001b[0m\n",
      "\u001b[32m[I 2022-09-30 16:46:44,549]\u001b[0m Trial 572 finished with value: 1555972.125 and parameters: {'learning_rate': 0.0002906125049489325, 'optimizer': 'Adam', 'batch_size': 64, 'n_layers': 5, 'n_units_l0': 194, 'n_units_l1': 217, 'n_units_l2': 167, 'n_units_l3': 256, 'n_units_l4': 182}. Best is trial 410 with value: 529801.375.\u001b[0m\n",
      "\u001b[32m[I 2022-09-30 16:47:02,157]\u001b[0m Trial 559 finished with value: 5261543.4375 and parameters: {'learning_rate': 0.0012843572109792652, 'optimizer': 'Adamax', 'batch_size': 8, 'n_layers': 5, 'n_units_l0': 193, 'n_units_l1': 234, 'n_units_l2': 169, 'n_units_l3': 256, 'n_units_l4': 229}. Best is trial 410 with value: 529801.375.\u001b[0m\n",
      "\u001b[32m[I 2022-09-30 16:47:04,328]\u001b[0m Trial 561 finished with value: 3481302.734375 and parameters: {'learning_rate': 0.03515746182975394, 'optimizer': 'Adamax', 'batch_size': 8, 'n_layers': 5, 'n_units_l0': 194, 'n_units_l1': 113, 'n_units_l2': 170, 'n_units_l3': 240, 'n_units_l4': 180}. Best is trial 410 with value: 529801.375.\u001b[0m\n",
      "\u001b[32m[I 2022-09-30 16:47:14,566]\u001b[0m Trial 575 finished with value: 1112361.625 and parameters: {'learning_rate': 0.00210668859200018, 'optimizer': 'Adamax', 'batch_size': 128, 'n_layers': 5, 'n_units_l0': 183, 'n_units_l1': 113, 'n_units_l2': 117, 'n_units_l3': 241, 'n_units_l4': 229}. Best is trial 410 with value: 529801.375.\u001b[0m\n",
      "\u001b[32m[I 2022-09-30 16:47:39,928]\u001b[0m Trial 570 finished with value: 1247931.875 and parameters: {'learning_rate': 0.002281828881587433, 'optimizer': 'Adamax', 'batch_size': 128, 'n_layers': 5, 'n_units_l0': 184, 'n_units_l1': 135, 'n_units_l2': 175, 'n_units_l3': 217, 'n_units_l4': 218}. Best is trial 410 with value: 529801.375.\u001b[0m\n",
      "\u001b[32m[I 2022-09-30 16:47:52,039]\u001b[0m Trial 566 finished with value: 5261543.4375 and parameters: {'learning_rate': 0.001068482821919536, 'optimizer': 'Adamax', 'batch_size': 8, 'n_layers': 5, 'n_units_l0': 188, 'n_units_l1': 201, 'n_units_l2': 181, 'n_units_l3': 235, 'n_units_l4': 210}. Best is trial 410 with value: 529801.375.\u001b[0m\n",
      "\u001b[32m[I 2022-09-30 16:47:55,851]\u001b[0m Trial 579 finished with value: 1473053.4375 and parameters: {'learning_rate': 0.000196543319702157, 'optimizer': 'Adamax', 'batch_size': 16, 'n_layers': 5, 'n_units_l0': 193, 'n_units_l1': 223, 'n_units_l2': 167, 'n_units_l3': 240, 'n_units_l4': 181}. Best is trial 410 with value: 529801.375.\u001b[0m\n",
      "\u001b[32m[I 2022-09-30 16:48:07,681]\u001b[0m Trial 565 finished with value: 1555972.125 and parameters: {'learning_rate': 0.00018973798345398458, 'optimizer': 'Adamax', 'batch_size': 128, 'n_layers': 5, 'n_units_l0': 178, 'n_units_l1': 214, 'n_units_l2': 229, 'n_units_l3': 250, 'n_units_l4': 188}. Best is trial 410 with value: 529801.375.\u001b[0m\n",
      "\u001b[32m[I 2022-09-30 16:48:37,433]\u001b[0m Trial 582 finished with value: 1555972.125 and parameters: {'learning_rate': 0.0011154981761892003, 'optimizer': 'Adamax', 'batch_size': 128, 'n_layers': 5, 'n_units_l0': 61, 'n_units_l1': 125, 'n_units_l2': 157, 'n_units_l3': 247, 'n_units_l4': 188}. Best is trial 410 with value: 529801.375.\u001b[0m\n",
      "\u001b[32m[I 2022-09-30 16:49:17,889]\u001b[0m Trial 591 finished with value: 1555972.125 and parameters: {'learning_rate': 0.00011907504994065478, 'optimizer': 'Adam', 'batch_size': 32, 'n_layers': 5, 'n_units_l0': 29, 'n_units_l1': 214, 'n_units_l2': 231, 'n_units_l3': 251, 'n_units_l4': 78}. Best is trial 410 with value: 529801.375.\u001b[0m\n",
      "\u001b[32m[I 2022-09-30 16:49:18,842]\u001b[0m Trial 589 finished with value: 1555972.125 and parameters: {'learning_rate': 0.00018834846564915446, 'optimizer': 'Adam', 'batch_size': 32, 'n_layers': 5, 'n_units_l0': 29, 'n_units_l1': 224, 'n_units_l2': 213, 'n_units_l3': 223, 'n_units_l4': 155}. Best is trial 410 with value: 529801.375.\u001b[0m\n",
      "\u001b[32m[I 2022-09-30 16:49:24,693]\u001b[0m Trial 598 finished with value: 1555972.125 and parameters: {'learning_rate': 0.00022052165705264615, 'optimizer': 'Adam', 'batch_size': 32, 'n_layers': 5, 'n_units_l0': 64, 'n_units_l1': 129, 'n_units_l2': 229, 'n_units_l3': 250, 'n_units_l4': 226}. Best is trial 410 with value: 529801.375.\u001b[0m\n",
      "\u001b[32m[I 2022-09-30 16:49:30,377]\u001b[0m Trial 600 finished with value: 751789.375 and parameters: {'learning_rate': 0.00036969922542602255, 'optimizer': 'Adam', 'batch_size': 32, 'n_layers': 5, 'n_units_l0': 178, 'n_units_l1': 224, 'n_units_l2': 210, 'n_units_l3': 250, 'n_units_l4': 188}. Best is trial 410 with value: 529801.375.\u001b[0m\n",
      "\u001b[32m[I 2022-09-30 16:49:33,860]\u001b[0m Trial 595 finished with value: 676241.6875 and parameters: {'learning_rate': 0.00015021461322564284, 'optimizer': 'Adam', 'batch_size': 32, 'n_layers': 5, 'n_units_l0': 178, 'n_units_l1': 225, 'n_units_l2': 229, 'n_units_l3': 249, 'n_units_l4': 186}. Best is trial 410 with value: 529801.375.\u001b[0m\n",
      "\u001b[32m[I 2022-09-30 16:49:34,589]\u001b[0m Trial 594 finished with value: 596378.75 and parameters: {'learning_rate': 0.00010600639319560304, 'optimizer': 'Adam', 'batch_size': 32, 'n_layers': 5, 'n_units_l0': 179, 'n_units_l1': 130, 'n_units_l2': 174, 'n_units_l3': 248, 'n_units_l4': 223}. Best is trial 410 with value: 529801.375.\u001b[0m\n",
      "\u001b[32m[I 2022-09-30 16:49:36,842]\u001b[0m Trial 580 finished with value: 2263542.8125 and parameters: {'learning_rate': 0.00109651051291827, 'optimizer': 'Adamax', 'batch_size': 16, 'n_layers': 5, 'n_units_l0': 177, 'n_units_l1': 224, 'n_units_l2': 212, 'n_units_l3': 227, 'n_units_l4': 188}. Best is trial 410 with value: 529801.375.\u001b[0m\n",
      "\u001b[32m[I 2022-09-30 16:49:41,708]\u001b[0m Trial 597 finished with value: 775183.6875 and parameters: {'learning_rate': 0.0005529790215361562, 'optimizer': 'Adam', 'batch_size': 32, 'n_layers': 5, 'n_units_l0': 177, 'n_units_l1': 224, 'n_units_l2': 231, 'n_units_l3': 250, 'n_units_l4': 189}. Best is trial 410 with value: 529801.375.\u001b[0m\n",
      "\u001b[32m[I 2022-09-30 16:50:36,819]\u001b[0m Trial 585 finished with value: 767530.5625 and parameters: {'learning_rate': 7.937214780045384e-05, 'optimizer': 'Adam', 'batch_size': 32, 'n_layers': 4, 'n_units_l0': 198, 'n_units_l1': 51, 'n_units_l2': 188, 'n_units_l3': 100}. Best is trial 410 with value: 529801.375.\u001b[0m\n",
      "\u001b[32m[I 2022-09-30 16:50:45,441]\u001b[0m Trial 599 finished with value: 1555972.125 and parameters: {'learning_rate': 0.00011410448262825002, 'optimizer': 'Adam', 'batch_size': 32, 'n_layers': 5, 'n_units_l0': 184, 'n_units_l1': 206, 'n_units_l2': 175, 'n_units_l3': 111, 'n_units_l4': 163}. Best is trial 410 with value: 529801.375.\u001b[0m\n",
      "\u001b[32m[I 2022-09-30 16:50:48,975]\u001b[0m Trial 593 finished with value: 1555972.125 and parameters: {'learning_rate': 0.0005668765145260912, 'optimizer': 'Adam', 'batch_size': 32, 'n_layers': 5, 'n_units_l0': 185, 'n_units_l1': 206, 'n_units_l2': 187, 'n_units_l3': 218, 'n_units_l4': 221}. Best is trial 410 with value: 529801.375.\u001b[0m\n",
      "\u001b[32m[I 2022-09-30 16:50:51,348]\u001b[0m Trial 590 finished with value: 1555972.125 and parameters: {'learning_rate': 0.0003081416062847955, 'optimizer': 'Adam', 'batch_size': 32, 'n_layers': 5, 'n_units_l0': 185, 'n_units_l1': 192, 'n_units_l2': 187, 'n_units_l3': 113, 'n_units_l4': 163}. Best is trial 410 with value: 529801.375.\u001b[0m\n",
      "\u001b[32m[I 2022-09-30 16:50:52,525]\u001b[0m Trial 596 finished with value: 1555972.125 and parameters: {'learning_rate': 0.00011603855328941567, 'optimizer': 'Adam', 'batch_size': 32, 'n_layers': 5, 'n_units_l0': 185, 'n_units_l1': 192, 'n_units_l2': 188, 'n_units_l3': 227, 'n_units_l4': 162}. Best is trial 410 with value: 529801.375.\u001b[0m\n",
      "\u001b[32m[I 2022-09-30 16:51:12,945]\u001b[0m Trial 581 finished with value: 2559604.140625 and parameters: {'learning_rate': 0.001071329935279183, 'optimizer': 'Adamax', 'batch_size': 16, 'n_layers': 5, 'n_units_l0': 185, 'n_units_l1': 206, 'n_units_l2': 235, 'n_units_l3': 226, 'n_units_l4': 223}. Best is trial 410 with value: 529801.375.\u001b[0m\n",
      "\u001b[32m[I 2022-09-30 16:51:47,096]\u001b[0m Trial 592 finished with value: 743945.4375 and parameters: {'learning_rate': 0.00012712054584324603, 'optimizer': 'Adam', 'batch_size': 32, 'n_layers': 4, 'n_units_l0': 16, 'n_units_l1': 247, 'n_units_l2': 192, 'n_units_l3': 121}. Best is trial 410 with value: 529801.375.\u001b[0m\n",
      "\u001b[32m[I 2022-09-30 16:51:58,003]\u001b[0m Trial 586 finished with value: 1555972.125 and parameters: {'learning_rate': 0.0002145884187594855, 'optimizer': 'Adam', 'batch_size': 32, 'n_layers': 5, 'n_units_l0': 184, 'n_units_l1': 191, 'n_units_l2': 192, 'n_units_l3': 217, 'n_units_l4': 162}. Best is trial 410 with value: 529801.375.\u001b[0m\n",
      "\u001b[32m[I 2022-09-30 16:52:16,333]\u001b[0m Trial 583 finished with value: 658760.75 and parameters: {'learning_rate': 0.0011090639260332544, 'optimizer': 'Adamax', 'batch_size': 128, 'n_layers': 4, 'n_units_l0': 44, 'n_units_l1': 158, 'n_units_l2': 152, 'n_units_l3': 256}. Best is trial 410 with value: 529801.375.\u001b[0m\n",
      "\u001b[32m[I 2022-09-30 16:52:20,139]\u001b[0m Trial 587 finished with value: 711850.0625 and parameters: {'learning_rate': 0.0001483748262051405, 'optimizer': 'Adam', 'batch_size': 32, 'n_layers': 4, 'n_units_l0': 15, 'n_units_l1': 154, 'n_units_l2': 151, 'n_units_l3': 240}. Best is trial 410 with value: 529801.375.\u001b[0m\n",
      "\u001b[32m[I 2022-09-30 16:52:53,210]\u001b[0m Trial 588 finished with value: 641104.125 and parameters: {'learning_rate': 0.00015651209537750332, 'optimizer': 'Adam', 'batch_size': 32, 'n_layers': 4, 'n_units_l0': 230, 'n_units_l1': 213, 'n_units_l2': 152, 'n_units_l3': 204}. Best is trial 410 with value: 529801.375.\u001b[0m\n",
      "\u001b[32m[I 2022-09-30 16:52:58,494]\u001b[0m Trial 606 finished with value: 1515280.5 and parameters: {'learning_rate': 0.0002948018446952469, 'optimizer': 'Adam', 'batch_size': 2048, 'n_layers': 1, 'n_units_l0': 172}. Best is trial 410 with value: 529801.375.\u001b[0m\n",
      "\u001b[32m[I 2022-09-30 16:53:05,281]\u001b[0m Trial 605 finished with value: 702186.75 and parameters: {'learning_rate': 0.00012561592164128703, 'optimizer': 'Adam', 'batch_size': 2048, 'n_layers': 7, 'n_units_l0': 197, 'n_units_l1': 139, 'n_units_l2': 163, 'n_units_l3': 128, 'n_units_l4': 173, 'n_units_l5': 226, 'n_units_l6': 156}. Best is trial 410 with value: 529801.375.\u001b[0m\n",
      "\u001b[32m[I 2022-09-30 16:53:05,805]\u001b[0m Trial 609 finished with value: 634570.8125 and parameters: {'learning_rate': 0.0001586148838531735, 'optimizer': 'Adam', 'batch_size': 2048, 'n_layers': 7, 'n_units_l0': 198, 'n_units_l1': 215, 'n_units_l2': 157, 'n_units_l3': 118, 'n_units_l4': 174, 'n_units_l5': 160, 'n_units_l6': 157}. Best is trial 410 with value: 529801.375.\u001b[0m\n",
      "\u001b[32m[I 2022-09-30 16:53:08,052]\u001b[0m Trial 584 finished with value: 601773.25 and parameters: {'learning_rate': 0.00014577760806667547, 'optimizer': 'Adam', 'batch_size': 32, 'n_layers': 7, 'n_units_l0': 12, 'n_units_l1': 150, 'n_units_l2': 73, 'n_units_l3': 238, 'n_units_l4': 235, 'n_units_l5': 231, 'n_units_l6': 163}. Best is trial 410 with value: 529801.375.\u001b[0m\n",
      "\u001b[32m[I 2022-09-30 16:53:19,295]\u001b[0m Trial 613 finished with value: 693540.875 and parameters: {'learning_rate': 0.00030126465700985807, 'optimizer': 'Adam', 'batch_size': 1024, 'n_layers': 4, 'n_units_l0': 195, 'n_units_l1': 139, 'n_units_l2': 161, 'n_units_l3': 127}. Best is trial 410 with value: 529801.375.\u001b[0m\n",
      "\u001b[32m[I 2022-09-30 16:53:20,699]\u001b[0m Trial 619 finished with value: 757410.5625 and parameters: {'learning_rate': 0.0002714418690790621, 'optimizer': 'Adam', 'batch_size': 2048, 'n_layers': 4, 'n_units_l0': 197, 'n_units_l1': 212, 'n_units_l2': 62, 'n_units_l3': 118}. Best is trial 410 with value: 529801.375.\u001b[0m\n",
      "\u001b[32m[I 2022-09-30 16:53:34,651]\u001b[0m Trial 617 finished with value: 897073.125 and parameters: {'learning_rate': 0.0002803969616036415, 'optimizer': 'Adam', 'batch_size': 2048, 'n_layers': 2, 'n_units_l0': 196, 'n_units_l1': 217}. Best is trial 410 with value: 529801.375.\u001b[0m\n",
      "\u001b[32m[I 2022-09-30 16:53:50,566]\u001b[0m Trial 610 finished with value: 678693.6875 and parameters: {'learning_rate': 0.0002848635426726449, 'optimizer': 'Adam', 'batch_size': 2048, 'n_layers': 7, 'n_units_l0': 197, 'n_units_l1': 213, 'n_units_l2': 166, 'n_units_l3': 118, 'n_units_l4': 235, 'n_units_l5': 229, 'n_units_l6': 154}. Best is trial 410 with value: 529801.375.\u001b[0m\n",
      "\u001b[32m[I 2022-09-30 16:53:52,025]\u001b[0m Trial 621 finished with value: 615687.6875 and parameters: {'learning_rate': 0.0002839584332082907, 'optimizer': 'Adam', 'batch_size': 2048, 'n_layers': 7, 'n_units_l0': 222, 'n_units_l1': 121, 'n_units_l2': 163, 'n_units_l3': 127, 'n_units_l4': 236, 'n_units_l5': 228, 'n_units_l6': 156}. Best is trial 410 with value: 529801.375.\u001b[0m\n",
      "\u001b[32m[I 2022-09-30 16:53:52,579]\u001b[0m Trial 612 finished with value: 1555972.125 and parameters: {'learning_rate': 0.0002825710861194395, 'optimizer': 'Adam', 'batch_size': 2048, 'n_layers': 7, 'n_units_l0': 198, 'n_units_l1': 213, 'n_units_l2': 164, 'n_units_l3': 136, 'n_units_l4': 236, 'n_units_l5': 209, 'n_units_l6': 169}. Best is trial 410 with value: 529801.375.\u001b[0m\n",
      "\u001b[32m[I 2022-09-30 16:54:03,862]\u001b[0m Trial 618 finished with value: 888387.4375 and parameters: {'learning_rate': 0.0007397748607739271, 'optimizer': 'Adam', 'batch_size': 2048, 'n_layers': 2, 'n_units_l0': 193, 'n_units_l1': 118}. Best is trial 410 with value: 529801.375.\u001b[0m\n",
      "\u001b[32m[I 2022-09-30 16:54:06,613]\u001b[0m Trial 616 finished with value: 900438.125 and parameters: {'learning_rate': 0.0003007674710156164, 'optimizer': 'Adam', 'batch_size': 2048, 'n_layers': 2, 'n_units_l0': 190, 'n_units_l1': 198}. Best is trial 410 with value: 529801.375.\u001b[0m\n",
      "\u001b[32m[I 2022-09-30 16:54:18,987]\u001b[0m Trial 614 finished with value: 935188.4375 and parameters: {'learning_rate': 0.00015971805913130615, 'optimizer': 'Adam', 'batch_size': 2048, 'n_layers': 3, 'n_units_l0': 220, 'n_units_l1': 120, 'n_units_l2': 176}. Best is trial 410 with value: 529801.375.\u001b[0m\n",
      "\u001b[32m[I 2022-09-30 16:54:38,100]\u001b[0m Trial 604 finished with value: 1521185.25 and parameters: {'learning_rate': 0.0001278535767571938, 'optimizer': 'Adam', 'batch_size': 2048, 'n_layers': 3, 'n_units_l0': 1, 'n_units_l1': 197, 'n_units_l2': 86}. Best is trial 410 with value: 529801.375.\u001b[0m\n",
      "\u001b[32m[I 2022-09-30 16:54:39,237]\u001b[0m Trial 615 finished with value: 601489.625 and parameters: {'learning_rate': 0.0007467059743774231, 'optimizer': 'Adam', 'batch_size': 2048, 'n_layers': 3, 'n_units_l0': 191, 'n_units_l1': 198, 'n_units_l2': 176}. Best is trial 410 with value: 529801.375.\u001b[0m\n",
      "\u001b[32m[I 2022-09-30 16:54:45,749]\u001b[0m Trial 620 finished with value: 766872.25 and parameters: {'learning_rate': 0.00029344179357973835, 'optimizer': 'Adam', 'batch_size': 2048, 'n_layers': 3, 'n_units_l0': 247, 'n_units_l1': 196, 'n_units_l2': 174}. Best is trial 410 with value: 529801.375.\u001b[0m\n",
      "\u001b[32m[I 2022-09-30 16:54:54,268]\u001b[0m Trial 601 finished with value: 1555972.125 and parameters: {'learning_rate': 0.00010210733740468964, 'optimizer': 'Adam', 'batch_size': 32, 'n_layers': 3, 'n_units_l0': 2, 'n_units_l1': 189, 'n_units_l2': 173}. Best is trial 410 with value: 529801.375.\u001b[0m\n",
      "\u001b[32m[I 2022-09-30 16:54:57,824]\u001b[0m Trial 607 finished with value: 1001891.25 and parameters: {'learning_rate': 9.784315413625155e-05, 'optimizer': 'Adam', 'batch_size': 64, 'n_layers': 3, 'n_units_l0': 191, 'n_units_l1': 15, 'n_units_l2': 178}. Best is trial 410 with value: 529801.375.\u001b[0m\n",
      "\u001b[32m[I 2022-09-30 16:55:04,071]\u001b[0m Trial 611 finished with value: 798342.125 and parameters: {'learning_rate': 0.00028087539334931263, 'optimizer': 'Adam', 'batch_size': 2048, 'n_layers': 3, 'n_units_l0': 250, 'n_units_l1': 206, 'n_units_l2': 84}. Best is trial 410 with value: 529801.375.\u001b[0m\n",
      "\u001b[32m[I 2022-09-30 16:55:22,262]\u001b[0m Trial 608 finished with value: 607985.0625 and parameters: {'learning_rate': 0.00027479551436935536, 'optimizer': 'Adam', 'batch_size': 2048, 'n_layers': 5, 'n_units_l0': 247, 'n_units_l1': 208, 'n_units_l2': 220, 'n_units_l3': 99, 'n_units_l4': 194}. Best is trial 410 with value: 529801.375.\u001b[0m\n",
      "\u001b[32m[I 2022-09-30 16:56:04,081]\u001b[0m Trial 602 finished with value: 1555972.125 and parameters: {'learning_rate': 0.0002651852983065997, 'optimizer': 'Adam', 'batch_size': 32, 'n_layers': 5, 'n_units_l0': 9, 'n_units_l1': 219, 'n_units_l2': 183, 'n_units_l3': 108, 'n_units_l4': 211}. Best is trial 410 with value: 529801.375.\u001b[0m\n",
      "\u001b[32m[I 2022-09-30 16:56:06,500]\u001b[0m Trial 603 finished with value: 534005.25 and parameters: {'learning_rate': 0.00013149604796458273, 'optimizer': 'Adam', 'batch_size': 32, 'n_layers': 5, 'n_units_l0': 172, 'n_units_l1': 206, 'n_units_l2': 183, 'n_units_l3': 107, 'n_units_l4': 216}. Best is trial 410 with value: 529801.375.\u001b[0m\n",
      "\u001b[32m[I 2022-09-30 16:56:18,112]\u001b[0m Trial 622 finished with value: 1555972.125 and parameters: {'learning_rate': 0.0007465754055308452, 'optimizer': 'Adam', 'batch_size': 2048, 'n_layers': 5, 'n_units_l0': 173, 'n_units_l1': 206, 'n_units_l2': 184, 'n_units_l3': 106, 'n_units_l4': 210}. Best is trial 410 with value: 529801.375.\u001b[0m\n",
      "\u001b[32m[I 2022-09-30 16:56:18,588]\u001b[0m Trial 623 finished with value: 1555972.125 and parameters: {'learning_rate': 0.0002878553773291122, 'optimizer': 'Adam', 'batch_size': 1024, 'n_layers': 5, 'n_units_l0': 9, 'n_units_l1': 220, 'n_units_l2': 182, 'n_units_l3': 244, 'n_units_l4': 211}. Best is trial 410 with value: 529801.375.\u001b[0m\n",
      "\u001b[32m[I 2022-09-30 16:56:30,919]\u001b[0m Trial 631 finished with value: 1434676.25 and parameters: {'learning_rate': 0.0007350654367623586, 'optimizer': 'Adam', 'batch_size': 64, 'n_layers': 5, 'n_units_l0': 173, 'n_units_l1': 135, 'n_units_l2': 105, 'n_units_l3': 104, 'n_units_l4': 242}. Best is trial 410 with value: 529801.375.\u001b[0m\n",
      "\u001b[32m[I 2022-09-30 16:56:33,984]\u001b[0m Trial 624 finished with value: 1555972.125 and parameters: {'learning_rate': 0.0002768452570274663, 'optimizer': 'Adam', 'batch_size': 64, 'n_layers': 5, 'n_units_l0': 183, 'n_units_l1': 207, 'n_units_l2': 194, 'n_units_l3': 104, 'n_units_l4': 144}. Best is trial 410 with value: 529801.375.\u001b[0m\n",
      "\u001b[32m[I 2022-09-30 16:56:36,034]\u001b[0m Trial 632 finished with value: 605903.1875 and parameters: {'learning_rate': 0.0005572649733688005, 'optimizer': 'Adam', 'batch_size': 64, 'n_layers': 5, 'n_units_l0': 10, 'n_units_l1': 135, 'n_units_l2': 15, 'n_units_l3': 106, 'n_units_l4': 212}. Best is trial 410 with value: 529801.375.\u001b[0m\n",
      "\u001b[32m[I 2022-09-30 16:56:40,436]\u001b[0m Trial 630 finished with value: 1102097.5 and parameters: {'learning_rate': 0.000737588138017543, 'optimizer': 'Adam', 'batch_size': 64, 'n_layers': 5, 'n_units_l0': 173, 'n_units_l1': 133, 'n_units_l2': 105, 'n_units_l3': 103, 'n_units_l4': 211}. Best is trial 410 with value: 529801.375.\u001b[0m\n",
      "\u001b[32m[I 2022-09-30 16:56:45,290]\u001b[0m Trial 640 finished with value: 1555972.125 and parameters: {'learning_rate': 0.0005919960079108267, 'optimizer': 'Adamax', 'batch_size': 64, 'n_layers': 5, 'n_units_l0': 172, 'n_units_l1': 163, 'n_units_l2': 184, 'n_units_l3': 106, 'n_units_l4': 243}. Best is trial 410 with value: 529801.375.\u001b[0m\n",
      "\u001b[32m[I 2022-09-30 16:56:53,192]\u001b[0m Trial 642 finished with value: 1682992.75 and parameters: {'learning_rate': 0.005321431596974456, 'optimizer': 'Adamax', 'batch_size': 64, 'n_layers': 5, 'n_units_l0': 174, 'n_units_l1': 219, 'n_units_l2': 193, 'n_units_l3': 208, 'n_units_l4': 211}. Best is trial 410 with value: 529801.375.\u001b[0m\n",
      "\u001b[32m[I 2022-09-30 16:56:57,263]\u001b[0m Trial 638 finished with value: 1555972.125 and parameters: {'learning_rate': 0.00038432764902970846, 'optimizer': 'Adamax', 'batch_size': 64, 'n_layers': 5, 'n_units_l0': 187, 'n_units_l1': 219, 'n_units_l2': 194, 'n_units_l3': 256, 'n_units_l4': 212}. Best is trial 410 with value: 529801.375.\u001b[0m\n",
      "\u001b[32m[I 2022-09-30 16:57:22,124]\u001b[0m Trial 625 finished with value: 1555972.125 and parameters: {'learning_rate': 0.00029575260413983645, 'optimizer': 'Adam', 'batch_size': 1024, 'n_layers': 5, 'n_units_l0': 169, 'n_units_l1': 201, 'n_units_l2': 180, 'n_units_l3': 97, 'n_units_l4': 219}. Best is trial 410 with value: 529801.375.\u001b[0m\n",
      "\u001b[32m[I 2022-09-30 16:57:26,485]\u001b[0m Trial 643 finished with value: 1555972.125 and parameters: {'learning_rate': 0.0005597675042199854, 'optimizer': 'Adamax', 'batch_size': 64, 'n_layers': 5, 'n_units_l0': 170, 'n_units_l1': 201, 'n_units_l2': 195, 'n_units_l3': 101, 'n_units_l4': 217}. Best is trial 410 with value: 529801.375.\u001b[0m\n",
      "\u001b[32m[I 2022-09-30 16:57:49,934]\u001b[0m Trial 637 finished with value: 577142.4375 and parameters: {'learning_rate': 0.0005499140637815321, 'optimizer': 'Adamax', 'batch_size': 64, 'n_layers': 5, 'n_units_l0': 165, 'n_units_l1': 201, 'n_units_l2': 193, 'n_units_l3': 97, 'n_units_l4': 217}. Best is trial 410 with value: 529801.375.\u001b[0m\n",
      "\u001b[32m[I 2022-09-30 16:57:56,511]\u001b[0m Trial 639 finished with value: 608048.9375 and parameters: {'learning_rate': 0.0005089243219932936, 'optimizer': 'Adamax', 'batch_size': 64, 'n_layers': 5, 'n_units_l0': 168, 'n_units_l1': 197, 'n_units_l2': 187, 'n_units_l3': 96, 'n_units_l4': 218}. Best is trial 410 with value: 529801.375.\u001b[0m\n",
      "\u001b[32m[I 2022-09-30 16:57:56,685]\u001b[0m Trial 634 finished with value: 590929.0 and parameters: {'learning_rate': 0.0005845340394732019, 'optimizer': 'Adamax', 'batch_size': 64, 'n_layers': 5, 'n_units_l0': 180, 'n_units_l1': 201, 'n_units_l2': 193, 'n_units_l3': 96, 'n_units_l4': 219}. Best is trial 410 with value: 529801.375.\u001b[0m\n",
      "\u001b[32m[I 2022-09-30 16:58:12,232]\u001b[0m Trial 633 finished with value: 1555972.125 and parameters: {'learning_rate': 0.0005458501918798649, 'optimizer': 'Adamax', 'batch_size': 64, 'n_layers': 5, 'n_units_l0': 169, 'n_units_l1': 199, 'n_units_l2': 171, 'n_units_l3': 27, 'n_units_l4': 229}. Best is trial 410 with value: 529801.375.\u001b[0m\n",
      "\u001b[32m[I 2022-09-30 16:58:23,836]\u001b[0m Trial 641 finished with value: 664034.5625 and parameters: {'learning_rate': 0.0005569940996255959, 'optimizer': 'Adamax', 'batch_size': 64, 'n_layers': 4, 'n_units_l0': 181, 'n_units_l1': 189, 'n_units_l2': 187, 'n_units_l3': 114}. Best is trial 410 with value: 529801.375.\u001b[0m\n",
      "\u001b[32m[I 2022-09-30 16:58:26,819]\u001b[0m Trial 629 finished with value: 889451.5625 and parameters: {'learning_rate': 0.0005640331737316203, 'optimizer': 'Adam', 'batch_size': 64, 'n_layers': 4, 'n_units_l0': 182, 'n_units_l1': 75, 'n_units_l2': 256, 'n_units_l3': 112}. Best is trial 410 with value: 529801.375.\u001b[0m\n",
      "\u001b[32m[I 2022-09-30 16:58:32,446]\u001b[0m Trial 654 finished with value: 1555972.125 and parameters: {'learning_rate': 0.0011852658029265796, 'optimizer': 'Adamax', 'batch_size': 128, 'n_layers': 5, 'n_units_l0': 164, 'n_units_l1': 206, 'n_units_l2': 200, 'n_units_l3': 83, 'n_units_l4': 228}. Best is trial 410 with value: 529801.375.\u001b[0m\n",
      "\u001b[32m[I 2022-09-30 16:58:47,537]\u001b[0m Trial 646 finished with value: 607502.125 and parameters: {'learning_rate': 0.0005752330865453438, 'optimizer': 'Adamax', 'batch_size': 64, 'n_layers': 5, 'n_units_l0': 161, 'n_units_l1': 196, 'n_units_l2': 202, 'n_units_l3': 87, 'n_units_l4': 202}. Best is trial 410 with value: 529801.375.\u001b[0m\n",
      "\u001b[32m[I 2022-09-30 16:59:03,327]\u001b[0m Trial 647 finished with value: 1555972.125 and parameters: {'learning_rate': 0.000527876007203844, 'optimizer': 'Adamax', 'batch_size': 128, 'n_layers': 5, 'n_units_l0': 180, 'n_units_l1': 64, 'n_units_l2': 202, 'n_units_l3': 85, 'n_units_l4': 226}. Best is trial 410 with value: 529801.375.\u001b[0m\n",
      "\u001b[32m[I 2022-09-30 16:59:09,738]\u001b[0m Trial 653 finished with value: 823694.5625 and parameters: {'learning_rate': 0.00018453271371697536, 'optimizer': 'Adamax', 'batch_size': 128, 'n_layers': 5, 'n_units_l0': 164, 'n_units_l1': 196, 'n_units_l2': 204, 'n_units_l3': 85, 'n_units_l4': 196}. Best is trial 410 with value: 529801.375.\u001b[0m\n",
      "\u001b[32m[I 2022-09-30 16:59:12,769]\u001b[0m Trial 648 finished with value: 669559.4375 and parameters: {'learning_rate': 0.0005904238688019716, 'optimizer': 'Adamax', 'batch_size': 128, 'n_layers': 5, 'n_units_l0': 162, 'n_units_l1': 197, 'n_units_l2': 203, 'n_units_l3': 94, 'n_units_l4': 226}. Best is trial 410 with value: 529801.375.\u001b[0m\n",
      "\u001b[32m[I 2022-09-30 16:59:15,928]\u001b[0m Trial 657 finished with value: 1555972.125 and parameters: {'learning_rate': 0.0005181230793695951, 'optimizer': 'Adamax', 'batch_size': 64, 'n_layers': 5, 'n_units_l0': 168, 'n_units_l1': 204, 'n_units_l2': 202, 'n_units_l3': 112, 'n_units_l4': 230}. Best is trial 410 with value: 529801.375.\u001b[0m\n",
      "\u001b[32m[I 2022-09-30 16:59:17,995]\u001b[0m Trial 627 finished with value: 1037248.5625 and parameters: {'learning_rate': 0.0007628542237143172, 'optimizer': 'Adam', 'batch_size': 64, 'n_layers': 5, 'n_units_l0': 159, 'n_units_l1': 65, 'n_units_l2': 201, 'n_units_l3': 111, 'n_units_l4': 202}. Best is trial 410 with value: 529801.375.\u001b[0m\n",
      "\u001b[32m[I 2022-09-30 16:59:40,858]\u001b[0m Trial 658 finished with value: 1555972.125 and parameters: {'learning_rate': 0.0006023829403274845, 'optimizer': 'Adamax', 'batch_size': 64, 'n_layers': 5, 'n_units_l0': 163, 'n_units_l1': 206, 'n_units_l2': 194, 'n_units_l3': 111, 'n_units_l4': 202}. Best is trial 410 with value: 529801.375.\u001b[0m\n",
      "\u001b[32m[I 2022-09-30 16:59:41,064]\u001b[0m Trial 660 finished with value: 1555972.125 and parameters: {'learning_rate': 7.96054639773775e-05, 'optimizer': 'Adamax', 'batch_size': 64, 'n_layers': 5, 'n_units_l0': 163, 'n_units_l1': 194, 'n_units_l2': 200, 'n_units_l3': 89, 'n_units_l4': 202}. Best is trial 410 with value: 529801.375.\u001b[0m\n",
      "\u001b[32m[I 2022-09-30 16:59:43,851]\u001b[0m Trial 636 finished with value: 627595.5625 and parameters: {'learning_rate': 0.0005522622097796221, 'optimizer': 'Adamax', 'batch_size': 64, 'n_layers': 5, 'n_units_l0': 167, 'n_units_l1': 193, 'n_units_l2': 202, 'n_units_l3': 114, 'n_units_l4': 205}. Best is trial 410 with value: 529801.375.\u001b[0m\n",
      "\u001b[32m[I 2022-09-30 16:59:51,055]\u001b[0m Trial 659 finished with value: 778651.75 and parameters: {'learning_rate': 0.00020678979501910405, 'optimizer': 'Adamax', 'batch_size': 64, 'n_layers': 5, 'n_units_l0': 161, 'n_units_l1': 206, 'n_units_l2': 203, 'n_units_l3': 95, 'n_units_l4': 205}. Best is trial 410 with value: 529801.375.\u001b[0m\n",
      "\u001b[32m[I 2022-09-30 16:59:52,587]\u001b[0m Trial 626 finished with value: 1781244.75 and parameters: {'learning_rate': 0.0005370010446310299, 'optimizer': 'Adam', 'batch_size': 64, 'n_layers': 5, 'n_units_l0': 164, 'n_units_l1': 206, 'n_units_l2': 204, 'n_units_l3': 93, 'n_units_l4': 204}. Best is trial 410 with value: 529801.375.\u001b[0m\n",
      "\u001b[32m[I 2022-09-30 16:59:56,335]\u001b[0m Trial 661 finished with value: 1555972.125 and parameters: {'learning_rate': 0.007073147338264527, 'optimizer': 'Adamax', 'batch_size': 64, 'n_layers': 5, 'n_units_l0': 164, 'n_units_l1': 67, 'n_units_l2': 206, 'n_units_l3': 95, 'n_units_l4': 197}. Best is trial 410 with value: 529801.375.\u001b[0m\n",
      "\u001b[32m[I 2022-09-30 17:00:23,263]\u001b[0m Trial 656 finished with value: 722945.5625 and parameters: {'learning_rate': 0.0005124515962476572, 'optimizer': 'Adamax', 'batch_size': 128, 'n_layers': 5, 'n_units_l0': 166, 'n_units_l1': 205, 'n_units_l2': 207, 'n_units_l3': 96, 'n_units_l4': 196}. Best is trial 410 with value: 529801.375.\u001b[0m\n",
      "\u001b[32m[I 2022-09-30 17:00:27,109]\u001b[0m Trial 635 finished with value: 1555972.125 and parameters: {'learning_rate': 0.0005389783425662365, 'optimizer': 'Adamax', 'batch_size': 64, 'n_layers': 5, 'n_units_l0': 183, 'n_units_l1': 209, 'n_units_l2': 195, 'n_units_l3': 122, 'n_units_l4': 216}. Best is trial 410 with value: 529801.375.\u001b[0m\n",
      "\u001b[32m[I 2022-09-30 17:00:28,938]\u001b[0m Trial 655 finished with value: 595847.375 and parameters: {'learning_rate': 0.0010659596440476546, 'optimizer': 'Adamax', 'batch_size': 128, 'n_layers': 5, 'n_units_l0': 167, 'n_units_l1': 205, 'n_units_l2': 195, 'n_units_l3': 98, 'n_units_l4': 207}. Best is trial 410 with value: 529801.375.\u001b[0m\n",
      "\u001b[32m[I 2022-09-30 17:00:30,575]\u001b[0m Trial 665 finished with value: 719982.875 and parameters: {'learning_rate': 8.66726297934474e-05, 'optimizer': 'Adamax', 'batch_size': 64, 'n_layers': 5, 'n_units_l0': 176, 'n_units_l1': 209, 'n_units_l2': 192, 'n_units_l3': 122, 'n_units_l4': 206}. Best is trial 410 with value: 529801.375.\u001b[0m\n",
      "\u001b[32m[I 2022-09-30 17:00:32,390]\u001b[0m Trial 649 finished with value: 1555972.125 and parameters: {'learning_rate': 0.00018085578103433552, 'optimizer': 'Adamax', 'batch_size': 128, 'n_layers': 5, 'n_units_l0': 180, 'n_units_l1': 206, 'n_units_l2': 193, 'n_units_l3': 112, 'n_units_l4': 205}. Best is trial 410 with value: 529801.375.\u001b[0m\n",
      "\u001b[32m[I 2022-09-30 17:00:36,910]\u001b[0m Trial 628 finished with value: 1555972.125 and parameters: {'learning_rate': 0.0007409187067070818, 'optimizer': 'Adam', 'batch_size': 64, 'n_layers': 5, 'n_units_l0': 176, 'n_units_l1': 210, 'n_units_l2': 190, 'n_units_l3': 122, 'n_units_l4': 216}. Best is trial 410 with value: 529801.375.\u001b[0m\n",
      "\u001b[32m[I 2022-09-30 17:00:40,313]\u001b[0m Trial 667 finished with value: 689483.25 and parameters: {'learning_rate': 0.00036875217232222737, 'optimizer': 'Adamax', 'batch_size': 64, 'n_layers': 5, 'n_units_l0': 177, 'n_units_l1': 211, 'n_units_l2': 191, 'n_units_l3': 97, 'n_units_l4': 220}. Best is trial 410 with value: 529801.375.\u001b[0m\n",
      "\u001b[32m[I 2022-09-30 17:00:45,482]\u001b[0m Trial 663 finished with value: 1555972.125 and parameters: {'learning_rate': 6.810485599870681e-05, 'optimizer': 'Adamax', 'batch_size': 64, 'n_layers': 5, 'n_units_l0': 178, 'n_units_l1': 210, 'n_units_l2': 194, 'n_units_l3': 91, 'n_units_l4': 218}. Best is trial 410 with value: 529801.375.\u001b[0m\n",
      "\u001b[32m[I 2022-09-30 17:01:01,449]\u001b[0m Trial 664 finished with value: 1555972.125 and parameters: {'learning_rate': 0.00038217708350313744, 'optimizer': 'Adamax', 'batch_size': 64, 'n_layers': 5, 'n_units_l0': 176, 'n_units_l1': 210, 'n_units_l2': 190, 'n_units_l3': 99, 'n_units_l4': 220}. Best is trial 410 with value: 529801.375.\u001b[0m\n",
      "\u001b[32m[I 2022-09-30 17:01:07,830]\u001b[0m Trial 666 finished with value: 1555972.125 and parameters: {'learning_rate': 6.17526375124481e-05, 'optimizer': 'Adamax', 'batch_size': 64, 'n_layers': 5, 'n_units_l0': 177, 'n_units_l1': 210, 'n_units_l2': 192, 'n_units_l3': 118, 'n_units_l4': 217}. Best is trial 410 with value: 529801.375.\u001b[0m\n",
      "\u001b[32m[I 2022-09-30 17:01:17,021]\u001b[0m Trial 651 finished with value: 1447045.25 and parameters: {'learning_rate': 7.524100691897801e-05, 'optimizer': 'Adamax', 'batch_size': 128, 'n_layers': 5, 'n_units_l0': 176, 'n_units_l1': 211, 'n_units_l2': 191, 'n_units_l3': 120, 'n_units_l4': 224}. Best is trial 410 with value: 529801.375.\u001b[0m\n",
      "\u001b[32m[I 2022-09-30 17:01:20,082]\u001b[0m Trial 662 finished with value: 751411.625 and parameters: {'learning_rate': 0.00020224993070054698, 'optimizer': 'Adamax', 'batch_size': 64, 'n_layers': 6, 'n_units_l0': 187, 'n_units_l1': 200, 'n_units_l2': 187, 'n_units_l3': 256, 'n_units_l4': 223, 'n_units_l5': 42}. Best is trial 410 with value: 529801.375.\u001b[0m\n",
      "\u001b[32m[I 2022-09-30 17:01:29,474]\u001b[0m Trial 652 finished with value: 1370632.75 and parameters: {'learning_rate': 7.220850754611672e-05, 'optimizer': 'Adamax', 'batch_size': 128, 'n_layers': 6, 'n_units_l0': 175, 'n_units_l1': 200, 'n_units_l2': 190, 'n_units_l3': 256, 'n_units_l4': 219, 'n_units_l5': 153}. Best is trial 410 with value: 529801.375.\u001b[0m\n",
      "\u001b[32m[I 2022-09-30 17:01:50,742]\u001b[0m Trial 644 finished with value: 1555972.125 and parameters: {'learning_rate': 0.0005351306682281472, 'optimizer': 'Adamax', 'batch_size': 64, 'n_layers': 6, 'n_units_l0': 177, 'n_units_l1': 200, 'n_units_l2': 189, 'n_units_l3': 238, 'n_units_l4': 220, 'n_units_l5': 41}. Best is trial 410 with value: 529801.375.\u001b[0m\n",
      "\u001b[32m[I 2022-09-30 17:02:04,396]\u001b[0m Trial 650 finished with value: 814382.375 and parameters: {'learning_rate': 0.00017386896749471272, 'optimizer': 'Adamax', 'batch_size': 128, 'n_layers': 6, 'n_units_l0': 187, 'n_units_l1': 202, 'n_units_l2': 186, 'n_units_l3': 242, 'n_units_l4': 238, 'n_units_l5': 44}. Best is trial 410 with value: 529801.375.\u001b[0m\n",
      "\u001b[32m[I 2022-09-30 17:02:18,186]\u001b[0m Trial 682 finished with value: 638169.25 and parameters: {'learning_rate': 0.00043229767084040915, 'optimizer': 'Adamax', 'batch_size': 64, 'n_layers': 6, 'n_units_l0': 187, 'n_units_l1': 189, 'n_units_l2': 125, 'n_units_l3': 137, 'n_units_l4': 243, 'n_units_l5': 19}. Best is trial 410 with value: 529801.375.\u001b[0m\n",
      "\u001b[32m[I 2022-09-30 17:02:30,884]\u001b[0m Trial 645 finished with value: 796625.3125 and parameters: {'learning_rate': 6.827746421707984e-05, 'optimizer': 'Adamax', 'batch_size': 64, 'n_layers': 6, 'n_units_l0': 188, 'n_units_l1': 201, 'n_units_l2': 183, 'n_units_l3': 243, 'n_units_l4': 232, 'n_units_l5': 195}. Best is trial 410 with value: 529801.375.\u001b[0m\n",
      "\u001b[32m[I 2022-09-30 17:02:38,321]\u001b[0m Trial 688 finished with value: 1555972.125 and parameters: {'learning_rate': 0.00039321432069545, 'optimizer': 'Adamax', 'batch_size': 64, 'n_layers': 6, 'n_units_l0': 187, 'n_units_l1': 190, 'n_units_l2': 238, 'n_units_l3': 245, 'n_units_l4': 235, 'n_units_l5': 14}. Best is trial 410 with value: 529801.375.\u001b[0m\n",
      "\u001b[32m[I 2022-09-30 17:03:04,470]\u001b[0m Trial 672 finished with value: 1555972.125 and parameters: {'learning_rate': 0.006830161137887621, 'optimizer': 'Adamax', 'batch_size': 64, 'n_layers': 6, 'n_units_l0': 186, 'n_units_l1': 191, 'n_units_l2': 98, 'n_units_l3': 108, 'n_units_l4': 232, 'n_units_l5': 195}. Best is trial 410 with value: 529801.375.\u001b[0m\n",
      "\u001b[32m[I 2022-09-30 17:03:08,070]\u001b[0m Trial 677 finished with value: 1555972.125 and parameters: {'learning_rate': 0.017101455990456822, 'optimizer': 'Adamax', 'batch_size': 64, 'n_layers': 6, 'n_units_l0': 187, 'n_units_l1': 192, 'n_units_l2': 218, 'n_units_l3': 134, 'n_units_l4': 239, 'n_units_l5': 192}. Best is trial 410 with value: 529801.375.\u001b[0m\n",
      "\u001b[32m[I 2022-09-30 17:03:08,977]\u001b[0m Trial 670 finished with value: 1555972.125 and parameters: {'learning_rate': 0.00042261745637901745, 'optimizer': 'Adamax', 'batch_size': 64, 'n_layers': 6, 'n_units_l0': 187, 'n_units_l1': 190, 'n_units_l2': 238, 'n_units_l3': 244, 'n_units_l4': 234, 'n_units_l5': 21}. Best is trial 410 with value: 529801.375.\u001b[0m\n",
      "\u001b[32m[I 2022-09-30 17:03:11,299]\u001b[0m Trial 668 finished with value: 655147.875 and parameters: {'learning_rate': 0.0003683328172561255, 'optimizer': 'Adamax', 'batch_size': 64, 'n_layers': 6, 'n_units_l0': 184, 'n_units_l1': 190, 'n_units_l2': 216, 'n_units_l3': 132, 'n_units_l4': 193, 'n_units_l5': 100}. Best is trial 410 with value: 529801.375.\u001b[0m\n",
      "\u001b[32m[I 2022-09-30 17:03:13,895]\u001b[0m Trial 687 finished with value: 560689.375 and parameters: {'learning_rate': 0.00043980150348892424, 'optimizer': 'Adamax', 'batch_size': 64, 'n_layers': 6, 'n_units_l0': 186, 'n_units_l1': 192, 'n_units_l2': 217, 'n_units_l3': 134, 'n_units_l4': 234, 'n_units_l5': 195}. Best is trial 410 with value: 529801.375.\u001b[0m\n",
      "\u001b[32m[I 2022-09-30 17:03:15,589]\u001b[0m Trial 675 finished with value: 600698.75 and parameters: {'learning_rate': 0.00037704785187138635, 'optimizer': 'Adamax', 'batch_size': 64, 'n_layers': 6, 'n_units_l0': 187, 'n_units_l1': 236, 'n_units_l2': 185, 'n_units_l3': 133, 'n_units_l4': 246, 'n_units_l5': 198}. Best is trial 410 with value: 529801.375.\u001b[0m\n",
      "\u001b[32m[I 2022-09-30 17:04:08,052]\u001b[0m Trial 689 finished with value: 1555972.125 and parameters: {'learning_rate': 0.0003882110774848575, 'optimizer': 'Adamax', 'batch_size': 64, 'n_layers': 5, 'n_units_l0': 193, 'n_units_l1': 231, 'n_units_l2': 209, 'n_units_l3': 102, 'n_units_l4': 213}. Best is trial 410 with value: 529801.375.\u001b[0m\n",
      "\u001b[32m[I 2022-09-30 17:04:12,210]\u001b[0m Trial 671 finished with value: 681548.625 and parameters: {'learning_rate': 0.00039187981838002345, 'optimizer': 'Adamax', 'batch_size': 64, 'n_layers': 6, 'n_units_l0': 173, 'n_units_l1': 184, 'n_units_l2': 207, 'n_units_l3': 127, 'n_units_l4': 3, 'n_units_l5': 206}. Best is trial 410 with value: 529801.375.\u001b[0m\n",
      "\u001b[32m[I 2022-09-30 17:04:19,054]\u001b[0m Trial 684 finished with value: 638992.5 and parameters: {'learning_rate': 0.00039076608064976136, 'optimizer': 'Adamax', 'batch_size': 64, 'n_layers': 6, 'n_units_l0': 172, 'n_units_l1': 235, 'n_units_l2': 227, 'n_units_l3': 34, 'n_units_l4': 250, 'n_units_l5': 218}. Best is trial 410 with value: 529801.375.\u001b[0m\n",
      "\u001b[32m[I 2022-09-30 17:05:09,220]\u001b[0m Trial 679 finished with value: 1555972.125 and parameters: {'learning_rate': 0.0003822348732351595, 'optimizer': 'Adamax', 'batch_size': 64, 'n_layers': 6, 'n_units_l0': 170, 'n_units_l1': 186, 'n_units_l2': 222, 'n_units_l3': 35, 'n_units_l4': 249, 'n_units_l5': 206}. Best is trial 410 with value: 529801.375.\u001b[0m\n",
      "\u001b[32m[I 2022-09-30 17:05:17,482]\u001b[0m Trial 674 finished with value: 620691.75 and parameters: {'learning_rate': 0.0004158232085030025, 'optimizer': 'Adamax', 'batch_size': 64, 'n_layers': 6, 'n_units_l0': 181, 'n_units_l1': 196, 'n_units_l2': 223, 'n_units_l3': 136, 'n_units_l4': 251, 'n_units_l5': 123}. Best is trial 410 with value: 529801.375.\u001b[0m\n",
      "\u001b[32m[I 2022-09-30 17:05:28,729]\u001b[0m Trial 676 finished with value: 587961.0625 and parameters: {'learning_rate': 0.00039430505795458234, 'optimizer': 'Adamax', 'batch_size': 64, 'n_layers': 6, 'n_units_l0': 180, 'n_units_l1': 195, 'n_units_l2': 221, 'n_units_l3': 148, 'n_units_l4': 226, 'n_units_l5': 250}. Best is trial 410 with value: 529801.375.\u001b[0m\n",
      "\u001b[32m[I 2022-09-30 17:05:39,139]\u001b[0m Trial 686 finished with value: 1494405.5 and parameters: {'learning_rate': 0.00038977605966967544, 'optimizer': 'Adamax', 'batch_size': 64, 'n_layers': 1, 'n_units_l0': 180}. Best is trial 410 with value: 529801.375.\u001b[0m\n",
      "\u001b[32m[I 2022-09-30 17:06:23,069]\u001b[0m Trial 669 finished with value: 617874.875 and parameters: {'learning_rate': 0.0004197164491276029, 'optimizer': 'Adamax', 'batch_size': 64, 'n_layers': 6, 'n_units_l0': 181, 'n_units_l1': 244, 'n_units_l2': 197, 'n_units_l3': 128, 'n_units_l4': 226, 'n_units_l5': 251}. Best is trial 410 with value: 529801.375.\u001b[0m\n",
      "\u001b[32m[I 2022-09-30 17:06:30,813]\u001b[0m Trial 680 finished with value: 587226.25 and parameters: {'learning_rate': 0.0006512580032758906, 'optimizer': 'Adamax', 'batch_size': 64, 'n_layers': 6, 'n_units_l0': 201, 'n_units_l1': 195, 'n_units_l2': 219, 'n_units_l3': 140, 'n_units_l4': 227, 'n_units_l5': 240}. Best is trial 410 with value: 529801.375.\u001b[0m\n",
      "\u001b[32m[I 2022-09-30 17:06:37,786]\u001b[0m Trial 673 finished with value: 1555972.125 and parameters: {'learning_rate': 0.0003667046350209653, 'optimizer': 'Adamax', 'batch_size': 64, 'n_layers': 6, 'n_units_l0': 180, 'n_units_l1': 195, 'n_units_l2': 213, 'n_units_l3': 155, 'n_units_l4': 225, 'n_units_l5': 247}. Best is trial 410 with value: 529801.375.\u001b[0m\n",
      "\u001b[32m[I 2022-09-30 17:07:21,739]\u001b[0m Trial 685 finished with value: 525589.1875 and parameters: {'learning_rate': 0.000667535107588235, 'optimizer': 'Adamax', 'batch_size': 64, 'n_layers': 6, 'n_units_l0': 193, 'n_units_l1': 194, 'n_units_l2': 215, 'n_units_l3': 156, 'n_units_l4': 231, 'n_units_l5': 242}. Best is trial 685 with value: 525589.1875.\u001b[0m\n",
      "\u001b[32m[I 2022-09-30 17:07:28,772]\u001b[0m Trial 681 finished with value: 635999.6875 and parameters: {'learning_rate': 0.00036038955518967594, 'optimizer': 'Adamax', 'batch_size': 64, 'n_layers': 6, 'n_units_l0': 201, 'n_units_l1': 194, 'n_units_l2': 214, 'n_units_l3': 157, 'n_units_l4': 229, 'n_units_l5': 240}. Best is trial 685 with value: 525589.1875.\u001b[0m\n",
      "\u001b[32m[I 2022-09-30 17:07:36,491]\u001b[0m Trial 678 finished with value: 563329.9375 and parameters: {'learning_rate': 0.0003776139568441383, 'optimizer': 'Adamax', 'batch_size': 64, 'n_layers': 6, 'n_units_l0': 210, 'n_units_l1': 196, 'n_units_l2': 219, 'n_units_l3': 148, 'n_units_l4': 230, 'n_units_l5': 220}. Best is trial 685 with value: 525589.1875.\u001b[0m\n",
      "\u001b[32m[I 2022-09-30 17:07:55,254]\u001b[0m Trial 683 finished with value: 582205.3125 and parameters: {'learning_rate': 0.00040191057783416534, 'optimizer': 'Adamax', 'batch_size': 64, 'n_layers': 6, 'n_units_l0': 208, 'n_units_l1': 194, 'n_units_l2': 218, 'n_units_l3': 149, 'n_units_l4': 230, 'n_units_l5': 239}. Best is trial 685 with value: 525589.1875.\u001b[0m\n",
      "\u001b[32m[I 2022-09-30 17:08:06,960]\u001b[0m Trial 696 finished with value: 1555972.125 and parameters: {'learning_rate': 0.000992086075445808, 'optimizer': 'Adamax', 'batch_size': 128, 'n_layers': 6, 'n_units_l0': 203, 'n_units_l1': 194, 'n_units_l2': 219, 'n_units_l3': 145, 'n_units_l4': 232, 'n_units_l5': 245}. Best is trial 685 with value: 525589.1875.\u001b[0m\n",
      "\u001b[32m[I 2022-09-30 17:08:14,845]\u001b[0m Trial 694 finished with value: 884160.375 and parameters: {'learning_rate': 0.001521647765022551, 'optimizer': 'Adamax', 'batch_size': 64, 'n_layers': 6, 'n_units_l0': 209, 'n_units_l1': 187, 'n_units_l2': 220, 'n_units_l3': 146, 'n_units_l4': 239, 'n_units_l5': 223}. Best is trial 685 with value: 525589.1875.\u001b[0m\n",
      "\u001b[32m[I 2022-09-30 17:08:27,003]\u001b[0m Trial 695 finished with value: 1555972.125 and parameters: {'learning_rate': 0.0006689739125088317, 'optimizer': 'Adamax', 'batch_size': 128, 'n_layers': 6, 'n_units_l0': 209, 'n_units_l1': 190, 'n_units_l2': 209, 'n_units_l3': 148, 'n_units_l4': 232, 'n_units_l5': 236}. Best is trial 685 with value: 525589.1875.\u001b[0m\n",
      "\u001b[32m[I 2022-09-30 17:08:41,532]\u001b[0m Trial 691 finished with value: 1555972.125 and parameters: {'learning_rate': 0.0006566588675203089, 'optimizer': 'Adamax', 'batch_size': 64, 'n_layers': 6, 'n_units_l0': 208, 'n_units_l1': 187, 'n_units_l2': 220, 'n_units_l3': 146, 'n_units_l4': 242, 'n_units_l5': 220}. Best is trial 685 with value: 525589.1875.\u001b[0m\n",
      "\u001b[32m[I 2022-09-30 17:08:41,981]\u001b[0m Trial 692 finished with value: 1555972.125 and parameters: {'learning_rate': 0.0014836822864075546, 'optimizer': 'Adamax', 'batch_size': 64, 'n_layers': 6, 'n_units_l0': 207, 'n_units_l1': 187, 'n_units_l2': 219, 'n_units_l3': 149, 'n_units_l4': 239, 'n_units_l5': 244}. Best is trial 685 with value: 525589.1875.\u001b[0m\n",
      "\u001b[32m[I 2022-09-30 17:08:42,552]\u001b[0m Trial 690 finished with value: 1555972.125 and parameters: {'learning_rate': 0.0003928267831551961, 'optimizer': 'Adamax', 'batch_size': 64, 'n_layers': 6, 'n_units_l0': 203, 'n_units_l1': 193, 'n_units_l2': 222, 'n_units_l3': 145, 'n_units_l4': 243, 'n_units_l5': 235}. Best is trial 685 with value: 525589.1875.\u001b[0m\n",
      "\u001b[32m[I 2022-09-30 17:08:53,107]\u001b[0m Trial 701 finished with value: 1555972.125 and parameters: {'learning_rate': 0.00045371590346360573, 'optimizer': 'Adamax', 'batch_size': 64, 'n_layers': 6, 'n_units_l0': 204, 'n_units_l1': 193, 'n_units_l2': 218, 'n_units_l3': 147, 'n_units_l4': 231, 'n_units_l5': 223}. Best is trial 685 with value: 525589.1875.\u001b[0m\n",
      "\u001b[32m[I 2022-09-30 17:08:54,357]\u001b[0m Trial 705 finished with value: 1555972.125 and parameters: {'learning_rate': 0.0006406994144289555, 'optimizer': 'Adamax', 'batch_size': 64, 'n_layers': 6, 'n_units_l0': 201, 'n_units_l1': 187, 'n_units_l2': 216, 'n_units_l3': 148, 'n_units_l4': 240, 'n_units_l5': 242}. Best is trial 685 with value: 525589.1875.\u001b[0m\n",
      "\u001b[32m[I 2022-09-30 17:09:30,106]\u001b[0m Trial 711 finished with value: 597240.9375 and parameters: {'learning_rate': 0.000658662069925928, 'optimizer': 'Adamax', 'batch_size': 64, 'n_layers': 6, 'n_units_l0': 216, 'n_units_l1': 193, 'n_units_l2': 219, 'n_units_l3': 153, 'n_units_l4': 243, 'n_units_l5': 216}. Best is trial 685 with value: 525589.1875.\u001b[0m\n",
      "\u001b[32m[I 2022-09-30 17:09:58,526]\u001b[0m Trial 700 finished with value: 1555972.125 and parameters: {'learning_rate': 0.00045490558213308444, 'optimizer': 'Adamax', 'batch_size': 64, 'n_layers': 6, 'n_units_l0': 219, 'n_units_l1': 197, 'n_units_l2': 226, 'n_units_l3': 157, 'n_units_l4': 224, 'n_units_l5': 211}. Best is trial 685 with value: 525589.1875.\u001b[0m\n",
      "\u001b[32m[I 2022-09-30 17:09:59,070]\u001b[0m Trial 707 finished with value: 1335906.625 and parameters: {'learning_rate': 0.0015041747264754198, 'optimizer': 'Adamax', 'batch_size': 64, 'n_layers': 6, 'n_units_l0': 215, 'n_units_l1': 197, 'n_units_l2': 214, 'n_units_l3': 159, 'n_units_l4': 224, 'n_units_l5': 213}. Best is trial 685 with value: 525589.1875.\u001b[0m\n",
      "\u001b[32m[I 2022-09-30 17:10:11,475]\u001b[0m Trial 697 finished with value: 1555972.125 and parameters: {'learning_rate': 0.0015517640288079005, 'optimizer': 'Adamax', 'batch_size': 128, 'n_layers': 6, 'n_units_l0': 219, 'n_units_l1': 199, 'n_units_l2': 213, 'n_units_l3': 137, 'n_units_l4': 225, 'n_units_l5': 256}. Best is trial 685 with value: 525589.1875.\u001b[0m\n",
      "\u001b[32m[I 2022-09-30 17:11:00,572]\u001b[0m Trial 704 finished with value: 1555972.125 and parameters: {'learning_rate': 0.0015586445689721921, 'optimizer': 'Adamax', 'batch_size': 64, 'n_layers': 6, 'n_units_l0': 209, 'n_units_l1': 198, 'n_units_l2': 226, 'n_units_l3': 138, 'n_units_l4': 216, 'n_units_l5': 256}. Best is trial 685 with value: 525589.1875.\u001b[0m\n",
      "\u001b[32m[I 2022-09-30 17:11:01,849]\u001b[0m Trial 708 finished with value: 665058.625 and parameters: {'learning_rate': 0.0006436519644032585, 'optimizer': 'Adamax', 'batch_size': 64, 'n_layers': 6, 'n_units_l0': 209, 'n_units_l1': 197, 'n_units_l2': 227, 'n_units_l3': 143, 'n_units_l4': 215, 'n_units_l5': 256}. Best is trial 685 with value: 525589.1875.\u001b[0m\n",
      "\u001b[32m[I 2022-09-30 17:11:10,550]\u001b[0m Trial 699 finished with value: 571412.1875 and parameters: {'learning_rate': 0.0004466072401553965, 'optimizer': 'Adamax', 'batch_size': 64, 'n_layers': 6, 'n_units_l0': 201, 'n_units_l1': 183, 'n_units_l2': 225, 'n_units_l3': 141, 'n_units_l4': 215, 'n_units_l5': 250}. Best is trial 685 with value: 525589.1875.\u001b[0m\n",
      "\u001b[32m[I 2022-09-30 17:12:00,702]\u001b[0m Trial 709 finished with value: 595238.625 and parameters: {'learning_rate': 0.0006763185718224847, 'optimizer': 'Adamax', 'batch_size': 64, 'n_layers': 6, 'n_units_l0': 215, 'n_units_l1': 194, 'n_units_l2': 214, 'n_units_l3': 163, 'n_units_l4': 228, 'n_units_l5': 249}. Best is trial 685 with value: 525589.1875.\u001b[0m\n",
      "\u001b[32m[I 2022-09-30 17:12:01,748]\u001b[0m Trial 702 finished with value: 1555972.125 and parameters: {'learning_rate': 0.0015331781122607784, 'optimizer': 'Adamax', 'batch_size': 64, 'n_layers': 6, 'n_units_l0': 215, 'n_units_l1': 184, 'n_units_l2': 224, 'n_units_l3': 164, 'n_units_l4': 209, 'n_units_l5': 249}. Best is trial 685 with value: 525589.1875.\u001b[0m\n",
      "\u001b[32m[I 2022-09-30 17:12:08,435]\u001b[0m Trial 693 finished with value: 577924.6875 and parameters: {'learning_rate': 0.0006654293690781051, 'optimizer': 'Adamax', 'batch_size': 64, 'n_layers': 6, 'n_units_l0': 210, 'n_units_l1': 184, 'n_units_l2': 224, 'n_units_l3': 141, 'n_units_l4': 229, 'n_units_l5': 249}. Best is trial 685 with value: 525589.1875.\u001b[0m\n",
      "\u001b[32m[I 2022-09-30 17:13:00,248]\u001b[0m Trial 703 finished with value: 883424.375 and parameters: {'learning_rate': 0.0015100709150735055, 'optimizer': 'Adamax', 'batch_size': 64, 'n_layers': 6, 'n_units_l0': 228, 'n_units_l1': 186, 'n_units_l2': 222, 'n_units_l3': 140, 'n_units_l4': 235, 'n_units_l5': 234}. Best is trial 685 with value: 525589.1875.\u001b[0m\n",
      "\u001b[32m[I 2022-09-30 17:13:01,962]\u001b[0m Trial 698 finished with value: 617659.875 and parameters: {'learning_rate': 0.00035995748604718616, 'optimizer': 'Adamax', 'batch_size': 64, 'n_layers': 6, 'n_units_l0': 228, 'n_units_l1': 184, 'n_units_l2': 225, 'n_units_l3': 142, 'n_units_l4': 234, 'n_units_l5': 235}. Best is trial 685 with value: 525589.1875.\u001b[0m\n",
      "\u001b[32m[I 2022-09-30 17:13:06,056]\u001b[0m Trial 710 finished with value: 599526.5625 and parameters: {'learning_rate': 0.0006665006190211843, 'optimizer': 'Adamax', 'batch_size': 64, 'n_layers': 6, 'n_units_l0': 211, 'n_units_l1': 181, 'n_units_l2': 232, 'n_units_l3': 141, 'n_units_l4': 235, 'n_units_l5': 232}. Best is trial 685 with value: 525589.1875.\u001b[0m\n",
      "\u001b[32m[I 2022-09-30 17:13:27,253]\u001b[0m Trial 718 finished with value: 1555972.125 and parameters: {'learning_rate': 0.0004859318901369681, 'optimizer': 'Adamax', 'batch_size': 64, 'n_layers': 6, 'n_units_l0': 208, 'n_units_l1': 180, 'n_units_l2': 213, 'n_units_l3': 153, 'n_units_l4': 230, 'n_units_l5': 203}. Best is trial 685 with value: 525589.1875.\u001b[0m\n",
      "\u001b[32m[I 2022-09-30 17:13:47,578]\u001b[0m Trial 723 finished with value: 552553.25 and parameters: {'learning_rate': 0.00044408146934753163, 'optimizer': 'Adamax', 'batch_size': 64, 'n_layers': 6, 'n_units_l0': 214, 'n_units_l1': 181, 'n_units_l2': 232, 'n_units_l3': 152, 'n_units_l4': 215, 'n_units_l5': 204}. Best is trial 685 with value: 525589.1875.\u001b[0m\n",
      "\u001b[32m[I 2022-09-30 17:13:48,499]\u001b[0m Trial 719 finished with value: 565564.5625 and parameters: {'learning_rate': 0.000476938409397211, 'optimizer': 'Adamax', 'batch_size': 64, 'n_layers': 6, 'n_units_l0': 208, 'n_units_l1': 182, 'n_units_l2': 233, 'n_units_l3': 154, 'n_units_l4': 222, 'n_units_l5': 239}. Best is trial 685 with value: 525589.1875.\u001b[0m\n",
      "\u001b[32m[I 2022-09-30 17:13:48,612]\u001b[0m Trial 706 finished with value: 1402920.75 and parameters: {'learning_rate': 0.0014955523722432191, 'optimizer': 'Adamax', 'batch_size': 64, 'n_layers': 6, 'n_units_l0': 208, 'n_units_l1': 181, 'n_units_l2': 232, 'n_units_l3': 141, 'n_units_l4': 214, 'n_units_l5': 202}. Best is trial 685 with value: 525589.1875.\u001b[0m\n",
      "\u001b[32m[I 2022-09-30 17:13:52,059]\u001b[0m Trial 734 finished with value: 1273600.75 and parameters: {'learning_rate': 0.0005052747855141006, 'optimizer': 'NAdam', 'batch_size': 64, 'n_layers': 6, 'n_units_l0': 215, 'n_units_l1': 181, 'n_units_l2': 228, 'n_units_l3': 137, 'n_units_l4': 214, 'n_units_l5': 202}. Best is trial 685 with value: 525589.1875.\u001b[0m\n",
      "\u001b[32m[I 2022-09-30 17:14:17,819]\u001b[0m Trial 730 finished with value: 617417.3125 and parameters: {'learning_rate': 0.0005272484401284912, 'optimizer': 'Adamax', 'batch_size': 64, 'n_layers': 6, 'n_units_l0': 212, 'n_units_l1': 183, 'n_units_l2': 229, 'n_units_l3': 131, 'n_units_l4': 214, 'n_units_l5': 204}. Best is trial 685 with value: 525589.1875.\u001b[0m\n",
      "\u001b[32m[I 2022-09-30 17:14:19,266]\u001b[0m Trial 722 finished with value: 1555972.125 and parameters: {'learning_rate': 0.00048800865167785356, 'optimizer': 'Adamax', 'batch_size': 64, 'n_layers': 6, 'n_units_l0': 211, 'n_units_l1': 182, 'n_units_l2': 213, 'n_units_l3': 131, 'n_units_l4': 213, 'n_units_l5': 202}. Best is trial 685 with value: 525589.1875.\u001b[0m\n",
      "\u001b[32m[I 2022-09-30 17:14:20,438]\u001b[0m Trial 732 finished with value: 1555972.125 and parameters: {'learning_rate': 0.0006285522773926824, 'optimizer': 'Adamax', 'batch_size': 64, 'n_layers': 6, 'n_units_l0': 212, 'n_units_l1': 179, 'n_units_l2': 228, 'n_units_l3': 134, 'n_units_l4': 213, 'n_units_l5': 238}. Best is trial 685 with value: 525589.1875.\u001b[0m\n",
      "\u001b[32m[I 2022-09-30 17:15:19,672]\u001b[0m Trial 733 finished with value: 557536.125 and parameters: {'learning_rate': 0.0004923417057472726, 'optimizer': 'Adamax', 'batch_size': 64, 'n_layers': 6, 'n_units_l0': 225, 'n_units_l1': 177, 'n_units_l2': 236, 'n_units_l3': 156, 'n_units_l4': 220, 'n_units_l5': 222}. Best is trial 685 with value: 525589.1875.\u001b[0m\n",
      "\u001b[32m[I 2022-09-30 17:15:21,369]\u001b[0m Trial 716 finished with value: 1555972.125 and parameters: {'learning_rate': 0.0005122428282618827, 'optimizer': 'Adamax', 'batch_size': 64, 'n_layers': 6, 'n_units_l0': 224, 'n_units_l1': 179, 'n_units_l2': 234, 'n_units_l3': 152, 'n_units_l4': 220, 'n_units_l5': 188}. Best is trial 685 with value: 525589.1875.\u001b[0m\n",
      "\u001b[32m[I 2022-09-30 17:15:22,344]\u001b[0m Trial 724 finished with value: 606117.75 and parameters: {'learning_rate': 0.0004825200415523256, 'optimizer': 'Adamax', 'batch_size': 64, 'n_layers': 6, 'n_units_l0': 220, 'n_units_l1': 177, 'n_units_l2': 233, 'n_units_l3': 161, 'n_units_l4': 222, 'n_units_l5': 226}. Best is trial 685 with value: 525589.1875.\u001b[0m\n",
      "\u001b[32m[I 2022-09-30 17:16:19,788]\u001b[0m Trial 717 finished with value: 1555972.125 and parameters: {'learning_rate': 0.00047463666735500493, 'optimizer': 'Adamax', 'batch_size': 64, 'n_layers': 6, 'n_units_l0': 221, 'n_units_l1': 175, 'n_units_l2': 236, 'n_units_l3': 153, 'n_units_l4': 222, 'n_units_l5': 215}. Best is trial 685 with value: 525589.1875.\u001b[0m\n",
      "\u001b[32m[I 2022-09-30 17:16:23,250]\u001b[0m Trial 713 finished with value: 583566.375 and parameters: {'learning_rate': 0.00048368512105437147, 'optimizer': 'Adamax', 'batch_size': 64, 'n_layers': 6, 'n_units_l0': 223, 'n_units_l1': 178, 'n_units_l2': 237, 'n_units_l3': 154, 'n_units_l4': 222, 'n_units_l5': 223}. Best is trial 685 with value: 525589.1875.\u001b[0m\n",
      "\u001b[32m[I 2022-09-30 17:16:23,658]\u001b[0m Trial 729 finished with value: 612375.375 and parameters: {'learning_rate': 0.0004691390357522812, 'optimizer': 'Adamax', 'batch_size': 64, 'n_layers': 6, 'n_units_l0': 219, 'n_units_l1': 178, 'n_units_l2': 237, 'n_units_l3': 155, 'n_units_l4': 225, 'n_units_l5': 213}. Best is trial 685 with value: 525589.1875.\u001b[0m\n",
      "\u001b[32m[I 2022-09-30 17:17:18,992]\u001b[0m Trial 728 finished with value: 644402.0 and parameters: {'learning_rate': 0.0005269684035385469, 'optimizer': 'Adamax', 'batch_size': 64, 'n_layers': 6, 'n_units_l0': 222, 'n_units_l1': 185, 'n_units_l2': 235, 'n_units_l3': 156, 'n_units_l4': 220, 'n_units_l5': 223}. Best is trial 685 with value: 525589.1875.\u001b[0m\n",
      "\u001b[32m[I 2022-09-30 17:17:23,882]\u001b[0m Trial 725 finished with value: 1555972.125 and parameters: {'learning_rate': 0.0006461297729919418, 'optimizer': 'Adamax', 'batch_size': 64, 'n_layers': 6, 'n_units_l0': 217, 'n_units_l1': 170, 'n_units_l2': 235, 'n_units_l3': 160, 'n_units_l4': 231, 'n_units_l5': 221}. Best is trial 685 with value: 525589.1875.\u001b[0m\n",
      "\u001b[32m[I 2022-09-30 17:17:24,562]\u001b[0m Trial 731 finished with value: 569842.0 and parameters: {'learning_rate': 0.0005019954484536417, 'optimizer': 'Adamax', 'batch_size': 64, 'n_layers': 6, 'n_units_l0': 228, 'n_units_l1': 173, 'n_units_l2': 237, 'n_units_l3': 160, 'n_units_l4': 230, 'n_units_l5': 220}. Best is trial 685 with value: 525589.1875.\u001b[0m\n",
      "\u001b[32m[I 2022-09-30 17:18:17,078]\u001b[0m Trial 727 finished with value: 1555972.125 and parameters: {'learning_rate': 0.0004940020824856987, 'optimizer': 'Adamax', 'batch_size': 64, 'n_layers': 6, 'n_units_l0': 230, 'n_units_l1': 170, 'n_units_l2': 240, 'n_units_l3': 158, 'n_units_l4': 229, 'n_units_l5': 226}. Best is trial 685 with value: 525589.1875.\u001b[0m\n",
      "\u001b[32m[I 2022-09-30 17:18:24,149]\u001b[0m Trial 721 finished with value: 1555972.125 and parameters: {'learning_rate': 0.00048803137821645836, 'optimizer': 'Adamax', 'batch_size': 64, 'n_layers': 6, 'n_units_l0': 224, 'n_units_l1': 168, 'n_units_l2': 244, 'n_units_l3': 151, 'n_units_l4': 228, 'n_units_l5': 225}. Best is trial 685 with value: 525589.1875.\u001b[0m\n",
      "\u001b[32m[I 2022-09-30 17:18:24,534]\u001b[0m Trial 726 finished with value: 567006.125 and parameters: {'learning_rate': 0.000502535519524275, 'optimizer': 'Adamax', 'batch_size': 64, 'n_layers': 6, 'n_units_l0': 227, 'n_units_l1': 176, 'n_units_l2': 245, 'n_units_l3': 160, 'n_units_l4': 229, 'n_units_l5': 229}. Best is trial 685 with value: 525589.1875.\u001b[0m\n",
      "\u001b[32m[I 2022-09-30 17:19:15,444]\u001b[0m Trial 715 finished with value: 1555972.125 and parameters: {'learning_rate': 0.0006486585021450763, 'optimizer': 'Adamax', 'batch_size': 64, 'n_layers': 6, 'n_units_l0': 230, 'n_units_l1': 179, 'n_units_l2': 248, 'n_units_l3': 168, 'n_units_l4': 236, 'n_units_l5': 231}. Best is trial 685 with value: 525589.1875.\u001b[0m\n",
      "\u001b[32m[I 2022-09-30 17:19:23,402]\u001b[0m Trial 714 finished with value: 598614.0625 and parameters: {'learning_rate': 0.00047456827741651074, 'optimizer': 'Adamax', 'batch_size': 64, 'n_layers': 6, 'n_units_l0': 230, 'n_units_l1': 173, 'n_units_l2': 241, 'n_units_l3': 172, 'n_units_l4': 238, 'n_units_l5': 230}. Best is trial 685 with value: 525589.1875.\u001b[0m\n",
      "\u001b[32m[I 2022-09-30 17:19:25,643]\u001b[0m Trial 720 finished with value: 599523.875 and parameters: {'learning_rate': 0.00048452795212882647, 'optimizer': 'Adamax', 'batch_size': 64, 'n_layers': 6, 'n_units_l0': 226, 'n_units_l1': 173, 'n_units_l2': 249, 'n_units_l3': 175, 'n_units_l4': 246, 'n_units_l5': 242}. Best is trial 685 with value: 525589.1875.\u001b[0m\n",
      "\u001b[32m[I 2022-09-30 17:19:47,027]\u001b[0m Trial 737 finished with value: 813479.875 and parameters: {'learning_rate': 0.0004946036960510905, 'optimizer': 'NAdam', 'batch_size': 1024, 'n_layers': 6, 'n_units_l0': 225, 'n_units_l1': 163, 'n_units_l2': 230, 'n_units_l3': 161, 'n_units_l4': 231, 'n_units_l5': 237}. Best is trial 685 with value: 525589.1875.\u001b[0m\n",
      "\u001b[32m[I 2022-09-30 17:20:04,819]\u001b[0m Trial 712 finished with value: 1555972.125 and parameters: {'learning_rate': 0.0005048653559858356, 'optimizer': 'Adamax', 'batch_size': 64, 'n_layers': 6, 'n_units_l0': 232, 'n_units_l1': 176, 'n_units_l2': 246, 'n_units_l3': 161, 'n_units_l4': 245, 'n_units_l5': 245}. Best is trial 685 with value: 525589.1875.\u001b[0m\n",
      "\u001b[32m[I 2022-09-30 17:20:10,754]\u001b[0m Trial 757 finished with value: 631940.0625 and parameters: {'learning_rate': 0.000348512357556796, 'optimizer': 'Adamax', 'batch_size': 64, 'n_layers': 6, 'n_units_l0': 234, 'n_units_l1': 165, 'n_units_l2': 232, 'n_units_l3': 161, 'n_units_l4': 233, 'n_units_l5': 239}. Best is trial 685 with value: 525589.1875.\u001b[0m\n",
      "\u001b[32m[I 2022-09-30 17:20:16,428]\u001b[0m Trial 738 finished with value: 647631.5625 and parameters: {'learning_rate': 0.0004891235034388141, 'optimizer': 'Adamax', 'batch_size': 1024, 'n_layers': 6, 'n_units_l0': 227, 'n_units_l1': 166, 'n_units_l2': 231, 'n_units_l3': 160, 'n_units_l4': 233, 'n_units_l5': 174}. Best is trial 685 with value: 525589.1875.\u001b[0m\n",
      "\u001b[32m[I 2022-09-30 17:20:39,794]\u001b[0m Trial 755 finished with value: 619459.75 and parameters: {'learning_rate': 0.0003301714300715161, 'optimizer': 'Adamax', 'batch_size': 64, 'n_layers': 6, 'n_units_l0': 231, 'n_units_l1': 165, 'n_units_l2': 231, 'n_units_l3': 161, 'n_units_l4': 234, 'n_units_l5': 209}. Best is trial 685 with value: 525589.1875.\u001b[0m\n",
      "\u001b[32m[I 2022-09-30 17:20:41,469]\u001b[0m Trial 750 finished with value: 589113.4375 and parameters: {'learning_rate': 0.0004924980299806309, 'optimizer': 'Adamax', 'batch_size': 64, 'n_layers': 6, 'n_units_l0': 235, 'n_units_l1': 166, 'n_units_l2': 231, 'n_units_l3': 160, 'n_units_l4': 232, 'n_units_l5': 244}. Best is trial 685 with value: 525589.1875.\u001b[0m\n",
      "\u001b[32m[I 2022-09-30 17:20:42,592]\u001b[0m Trial 743 finished with value: 609906.5 and parameters: {'learning_rate': 0.0005464146395812747, 'optimizer': 'Adamax', 'batch_size': 64, 'n_layers': 6, 'n_units_l0': 239, 'n_units_l1': 164, 'n_units_l2': 226, 'n_units_l3': 161, 'n_units_l4': 230, 'n_units_l5': 245}. Best is trial 685 with value: 525589.1875.\u001b[0m\n",
      "\u001b[32m[I 2022-09-30 17:20:43,491]\u001b[0m Trial 748 finished with value: 1555972.125 and parameters: {'learning_rate': 0.0003340333697619112, 'optimizer': 'Adamax', 'batch_size': 64, 'n_layers': 6, 'n_units_l0': 227, 'n_units_l1': 165, 'n_units_l2': 230, 'n_units_l3': 162, 'n_units_l4': 232, 'n_units_l5': 209}. Best is trial 685 with value: 525589.1875.\u001b[0m\n",
      "\u001b[32m[I 2022-09-30 17:20:45,006]\u001b[0m Trial 745 finished with value: 559546.5625 and parameters: {'learning_rate': 0.00048200600764742327, 'optimizer': 'Adamax', 'batch_size': 64, 'n_layers': 6, 'n_units_l0': 230, 'n_units_l1': 180, 'n_units_l2': 229, 'n_units_l3': 161, 'n_units_l4': 231, 'n_units_l5': 176}. Best is trial 685 with value: 525589.1875.\u001b[0m\n",
      "\u001b[32m[I 2022-09-30 17:21:21,306]\u001b[0m Trial 751 finished with value: 563474.5 and parameters: {'learning_rate': 0.0004570390759058294, 'optimizer': 'Adamax', 'batch_size': 64, 'n_layers': 6, 'n_units_l0': 233, 'n_units_l1': 183, 'n_units_l2': 226, 'n_units_l3': 149, 'n_units_l4': 221, 'n_units_l5': 209}. Best is trial 685 with value: 525589.1875.\u001b[0m\n",
      "\u001b[32m[I 2022-09-30 17:21:37,716]\u001b[0m Trial 754 finished with value: 1555972.125 and parameters: {'learning_rate': 0.0003280103537249597, 'optimizer': 'Adamax', 'batch_size': 64, 'n_layers': 6, 'n_units_l0': 235, 'n_units_l1': 182, 'n_units_l2': 224, 'n_units_l3': 152, 'n_units_l4': 223, 'n_units_l5': 218}. Best is trial 685 with value: 525589.1875.\u001b[0m\n",
      "\u001b[32m[I 2022-09-30 17:21:38,429]\u001b[0m Trial 739 finished with value: 536543.25 and parameters: {'learning_rate': 0.00048799173000528345, 'optimizer': 'Adamax', 'batch_size': 64, 'n_layers': 6, 'n_units_l0': 234, 'n_units_l1': 182, 'n_units_l2': 226, 'n_units_l3': 152, 'n_units_l4': 221, 'n_units_l5': 252}. Best is trial 685 with value: 525589.1875.\u001b[0m\n",
      "\u001b[32m[I 2022-09-30 17:21:47,630]\u001b[0m Trial 744 finished with value: 632018.125 and parameters: {'learning_rate': 0.0004731595659751886, 'optimizer': 'Adamax', 'batch_size': 64, 'n_layers': 6, 'n_units_l0': 216, 'n_units_l1': 183, 'n_units_l2': 225, 'n_units_l3': 147, 'n_units_l4': 223, 'n_units_l5': 189}. Best is trial 685 with value: 525589.1875.\u001b[0m\n",
      "\u001b[32m[I 2022-09-30 17:21:48,930]\u001b[0m Trial 747 finished with value: 594298.5625 and parameters: {'learning_rate': 0.00045670632853481174, 'optimizer': 'Adamax', 'batch_size': 64, 'n_layers': 6, 'n_units_l0': 220, 'n_units_l1': 183, 'n_units_l2': 238, 'n_units_l3': 152, 'n_units_l4': 222, 'n_units_l5': 190}. Best is trial 685 with value: 525589.1875.\u001b[0m\n",
      "\u001b[32m[I 2022-09-30 17:21:56,225]\u001b[0m Trial 756 finished with value: 1555972.125 and parameters: {'learning_rate': 0.0003573676292462853, 'optimizer': 'NAdam', 'batch_size': 64, 'n_layers': 6, 'n_units_l0': 217, 'n_units_l1': 183, 'n_units_l2': 226, 'n_units_l3': 147, 'n_units_l4': 223, 'n_units_l5': 253}. Best is trial 685 with value: 525589.1875.\u001b[0m\n",
      "\u001b[32m[I 2022-09-30 17:22:48,323]\u001b[0m Trial 749 finished with value: 1555972.125 and parameters: {'learning_rate': 0.00033281655348261775, 'optimizer': 'Adamax', 'batch_size': 64, 'n_layers': 6, 'n_units_l0': 240, 'n_units_l1': 171, 'n_units_l2': 241, 'n_units_l3': 142, 'n_units_l4': 218, 'n_units_l5': 198}. Best is trial 685 with value: 525589.1875.\u001b[0m\n",
      "\u001b[32m[I 2022-09-30 17:22:48,982]\u001b[0m Trial 741 finished with value: 1555972.125 and parameters: {'learning_rate': 0.0004642908204396915, 'optimizer': 'Adamax', 'batch_size': 64, 'n_layers': 6, 'n_units_l0': 227, 'n_units_l1': 178, 'n_units_l2': 237, 'n_units_l3': 144, 'n_units_l4': 215, 'n_units_l5': 253}. Best is trial 685 with value: 525589.1875.\u001b[0m\n",
      "\u001b[32m[I 2022-09-30 17:22:55,509]\u001b[0m Trial 746 finished with value: 581825.75 and parameters: {'learning_rate': 0.00046043686350377174, 'optimizer': 'Adamax', 'batch_size': 64, 'n_layers': 6, 'n_units_l0': 234, 'n_units_l1': 173, 'n_units_l2': 239, 'n_units_l3': 156, 'n_units_l4': 217, 'n_units_l5': 164}. Best is trial 685 with value: 525589.1875.\u001b[0m\n",
      "\u001b[32m[I 2022-09-30 17:23:47,557]\u001b[0m Trial 753 finished with value: 1555972.125 and parameters: {'learning_rate': 0.0003485823116311002, 'optimizer': 'Adamax', 'batch_size': 64, 'n_layers': 6, 'n_units_l0': 233, 'n_units_l1': 180, 'n_units_l2': 235, 'n_units_l3': 154, 'n_units_l4': 208, 'n_units_l5': 177}. Best is trial 685 with value: 525589.1875.\u001b[0m\n",
      "\u001b[32m[I 2022-09-30 17:23:49,076]\u001b[0m Trial 752 finished with value: 608851.125 and parameters: {'learning_rate': 0.0004524220273906684, 'optimizer': 'Adamax', 'batch_size': 64, 'n_layers': 6, 'n_units_l0': 232, 'n_units_l1': 176, 'n_units_l2': 235, 'n_units_l3': 168, 'n_units_l4': 209, 'n_units_l5': 169}. Best is trial 685 with value: 525589.1875.\u001b[0m\n",
      "\u001b[32m[I 2022-09-30 17:23:55,670]\u001b[0m Trial 740 finished with value: 1555972.125 and parameters: {'learning_rate': 0.000484892825565766, 'optimizer': 'Adamax', 'batch_size': 64, 'n_layers': 6, 'n_units_l0': 228, 'n_units_l1': 177, 'n_units_l2': 234, 'n_units_l3': 170, 'n_units_l4': 225, 'n_units_l5': 229}. Best is trial 685 with value: 525589.1875.\u001b[0m\n",
      "\u001b[32m[I 2022-09-30 17:24:31,552]\u001b[0m Trial 736 finished with value: 1555972.125 and parameters: {'learning_rate': 0.00043027923979656313, 'optimizer': 'NAdam', 'batch_size': 1024, 'n_layers': 6, 'n_units_l0': 224, 'n_units_l1': 187, 'n_units_l2': 227, 'n_units_l3': 150, 'n_units_l4': 226, 'n_units_l5': 213}. Best is trial 685 with value: 525589.1875.\u001b[0m\n",
      "\u001b[32m[I 2022-09-30 17:24:50,782]\u001b[0m Trial 742 finished with value: 542438.75 and parameters: {'learning_rate': 0.0004995866776842551, 'optimizer': 'Adamax', 'batch_size': 64, 'n_layers': 6, 'n_units_l0': 221, 'n_units_l1': 184, 'n_units_l2': 244, 'n_units_l3': 150, 'n_units_l4': 239, 'n_units_l5': 216}. Best is trial 685 with value: 525589.1875.\u001b[0m\n",
      "\u001b[32m[I 2022-09-30 17:24:53,450]\u001b[0m Trial 735 finished with value: 1555972.125 and parameters: {'learning_rate': 0.0004634710412517004, 'optimizer': 'NAdam', 'batch_size': 64, 'n_layers': 6, 'n_units_l0': 239, 'n_units_l1': 176, 'n_units_l2': 244, 'n_units_l3': 167, 'n_units_l4': 226, 'n_units_l5': 216}. Best is trial 685 with value: 525589.1875.\u001b[0m\n",
      "\u001b[32m[I 2022-09-30 17:24:56,641]\u001b[0m Trial 769 finished with value: 640146.625 and parameters: {'learning_rate': 0.0004346947546778389, 'optimizer': 'Adamax', 'batch_size': 64, 'n_layers': 6, 'n_units_l0': 244, 'n_units_l1': 184, 'n_units_l2': 256, 'n_units_l3': 143, 'n_units_l4': 217, 'n_units_l5': 198}. Best is trial 685 with value: 525589.1875.\u001b[0m\n",
      "\u001b[32m[I 2022-09-30 17:25:14,721]\u001b[0m Trial 774 finished with value: 1555972.125 and parameters: {'learning_rate': 0.00042728604332807103, 'optimizer': 'Adamax', 'batch_size': 64, 'n_layers': 6, 'n_units_l0': 243, 'n_units_l1': 185, 'n_units_l2': 243, 'n_units_l3': 139, 'n_units_l4': 239, 'n_units_l5': 196}. Best is trial 685 with value: 525589.1875.\u001b[0m\n",
      "\u001b[32m[I 2022-09-30 17:25:16,364]\u001b[0m Trial 766 finished with value: 1555972.125 and parameters: {'learning_rate': 0.0004260834776192503, 'optimizer': 'Adamax', 'batch_size': 64, 'n_layers': 6, 'n_units_l0': 240, 'n_units_l1': 188, 'n_units_l2': 242, 'n_units_l3': 181, 'n_units_l4': 238, 'n_units_l5': 217}. Best is trial 685 with value: 525589.1875.\u001b[0m\n",
      "\u001b[32m[I 2022-09-30 17:25:41,752]\u001b[0m Trial 763 finished with value: 663631.875 and parameters: {'learning_rate': 0.00033638606191475825, 'optimizer': 'Adamax', 'batch_size': 64, 'n_layers': 6, 'n_units_l0': 243, 'n_units_l1': 186, 'n_units_l2': 247, 'n_units_l3': 143, 'n_units_l4': 125, 'n_units_l5': 153}. Best is trial 685 with value: 525589.1875.\u001b[0m\n",
      "\u001b[32m[I 2022-09-30 17:25:44,960]\u001b[0m Trial 777 finished with value: 591573.1875 and parameters: {'learning_rate': 0.0005935629225933491, 'optimizer': 'Adamax', 'batch_size': 64, 'n_layers': 6, 'n_units_l0': 240, 'n_units_l1': 179, 'n_units_l2': 225, 'n_units_l3': 166, 'n_units_l4': 239, 'n_units_l5': 194}. Best is trial 685 with value: 525589.1875.\u001b[0m\n",
      "\u001b[32m[I 2022-09-30 17:25:46,829]\u001b[0m Trial 761 finished with value: 1555972.125 and parameters: {'learning_rate': 0.0003231753992699478, 'optimizer': 'Adamax', 'batch_size': 64, 'n_layers': 6, 'n_units_l0': 241, 'n_units_l1': 186, 'n_units_l2': 246, 'n_units_l3': 167, 'n_units_l4': 238, 'n_units_l5': 197}. Best is trial 685 with value: 525589.1875.\u001b[0m\n",
      "\u001b[32m[I 2022-09-30 17:26:43,092]\u001b[0m Trial 779 finished with value: 1555972.125 and parameters: {'learning_rate': 0.0006004663717671667, 'optimizer': 'Adamax', 'batch_size': 64, 'n_layers': 6, 'n_units_l0': 223, 'n_units_l1': 178, 'n_units_l2': 255, 'n_units_l3': 156, 'n_units_l4': 219, 'n_units_l5': 233}. Best is trial 685 with value: 525589.1875.\u001b[0m\n",
      "\u001b[32m[I 2022-09-30 17:26:45,911]\u001b[0m Trial 778 finished with value: 615173.125 and parameters: {'learning_rate': 0.00041020091442112557, 'optimizer': 'Adamax', 'batch_size': 64, 'n_layers': 6, 'n_units_l0': 224, 'n_units_l1': 180, 'n_units_l2': 248, 'n_units_l3': 153, 'n_units_l4': 227, 'n_units_l5': 209}. Best is trial 685 with value: 525589.1875.\u001b[0m\n",
      "\u001b[32m[I 2022-09-30 17:26:48,770]\u001b[0m Trial 758 finished with value: 635334.625 and parameters: {'learning_rate': 0.0003267009692556942, 'optimizer': 'Adamax', 'batch_size': 64, 'n_layers': 6, 'n_units_l0': 222, 'n_units_l1': 179, 'n_units_l2': 254, 'n_units_l3': 151, 'n_units_l4': 220, 'n_units_l5': 207}. Best is trial 685 with value: 525589.1875.\u001b[0m\n",
      "\u001b[32m[I 2022-09-30 17:27:43,430]\u001b[0m Trial 762 finished with value: 1555972.125 and parameters: {'learning_rate': 0.0003449789872195704, 'optimizer': 'Adamax', 'batch_size': 64, 'n_layers': 6, 'n_units_l0': 228, 'n_units_l1': 170, 'n_units_l2': 233, 'n_units_l3': 148, 'n_units_l4': 38, 'n_units_l5': 221}. Best is trial 685 with value: 525589.1875.\u001b[0m\n",
      "\u001b[32m[I 2022-09-30 17:27:46,245]\u001b[0m Trial 773 finished with value: 592815.875 and parameters: {'learning_rate': 0.00040742642856004207, 'optimizer': 'Adamax', 'batch_size': 64, 'n_layers': 6, 'n_units_l0': 223, 'n_units_l1': 182, 'n_units_l2': 240, 'n_units_l3': 150, 'n_units_l4': 227, 'n_units_l5': 209}. Best is trial 685 with value: 525589.1875.\u001b[0m\n",
      "\u001b[32m[I 2022-09-30 17:27:49,087]\u001b[0m Trial 771 finished with value: 575056.6875 and parameters: {'learning_rate': 0.00041214082596939257, 'optimizer': 'Adamax', 'batch_size': 64, 'n_layers': 6, 'n_units_l0': 228, 'n_units_l1': 188, 'n_units_l2': 229, 'n_units_l3': 149, 'n_units_l4': 219, 'n_units_l5': 220}. Best is trial 685 with value: 525589.1875.\u001b[0m\n",
      "\u001b[32m[I 2022-09-30 17:28:42,288]\u001b[0m Trial 765 finished with value: 1555972.125 and parameters: {'learning_rate': 0.0004102371109296619, 'optimizer': 'Adamax', 'batch_size': 64, 'n_layers': 6, 'n_units_l0': 230, 'n_units_l1': 188, 'n_units_l2': 239, 'n_units_l3': 149, 'n_units_l4': 228, 'n_units_l5': 227}. Best is trial 685 with value: 525589.1875.\u001b[0m\n",
      "\u001b[32m[I 2022-09-30 17:28:46,429]\u001b[0m Trial 775 finished with value: 590067.5 and parameters: {'learning_rate': 0.000379260656615352, 'optimizer': 'Adamax', 'batch_size': 64, 'n_layers': 6, 'n_units_l0': 235, 'n_units_l1': 189, 'n_units_l2': 239, 'n_units_l3': 156, 'n_units_l4': 210, 'n_units_l5': 227}. Best is trial 685 with value: 525589.1875.\u001b[0m\n",
      "\u001b[32m[I 2022-09-30 17:28:53,279]\u001b[0m Trial 760 finished with value: 1555972.125 and parameters: {'learning_rate': 0.0003367343366189461, 'optimizer': 'Adamax', 'batch_size': 64, 'n_layers': 7, 'n_units_l0': 216, 'n_units_l1': 174, 'n_units_l2': 227, 'n_units_l3': 157, 'n_units_l4': 247, 'n_units_l5': 228, 'n_units_l6': 255}. Best is trial 685 with value: 525589.1875.\u001b[0m\n",
      "\u001b[32m[I 2022-09-30 17:29:41,703]\u001b[0m Trial 772 finished with value: 606832.75 and parameters: {'learning_rate': 0.0003960860963390756, 'optimizer': 'Adamax', 'batch_size': 64, 'n_layers': 6, 'n_units_l0': 233, 'n_units_l1': 173, 'n_units_l2': 229, 'n_units_l3': 156, 'n_units_l4': 211, 'n_units_l5': 220}. Best is trial 685 with value: 525589.1875.\u001b[0m\n",
      "\u001b[32m[I 2022-09-30 17:29:45,444]\u001b[0m Trial 768 finished with value: 605422.8125 and parameters: {'learning_rate': 0.0004099015200942804, 'optimizer': 'Adamax', 'batch_size': 64, 'n_layers': 6, 'n_units_l0': 228, 'n_units_l1': 174, 'n_units_l2': 230, 'n_units_l3': 157, 'n_units_l4': 219, 'n_units_l5': 220}. Best is trial 685 with value: 525589.1875.\u001b[0m\n",
      "\u001b[32m[I 2022-09-30 17:29:52,748]\u001b[0m Trial 764 finished with value: 582846.4375 and parameters: {'learning_rate': 0.0004160812862024562, 'optimizer': 'Adamax', 'batch_size': 64, 'n_layers': 6, 'n_units_l0': 230, 'n_units_l1': 189, 'n_units_l2': 233, 'n_units_l3': 145, 'n_units_l4': 217, 'n_units_l5': 184}. Best is trial 685 with value: 525589.1875.\u001b[0m\n",
      "\u001b[32m[I 2022-09-30 17:30:40,686]\u001b[0m Trial 776 finished with value: 595435.5625 and parameters: {'learning_rate': 0.0004303691241564519, 'optimizer': 'Adamax', 'batch_size': 64, 'n_layers': 6, 'n_units_l0': 227, 'n_units_l1': 189, 'n_units_l2': 233, 'n_units_l3': 146, 'n_units_l4': 217, 'n_units_l5': 214}. Best is trial 685 with value: 525589.1875.\u001b[0m\n",
      "\u001b[32m[I 2022-09-30 17:30:43,851]\u001b[0m Trial 767 finished with value: 597567.1875 and parameters: {'learning_rate': 0.00040976796604834387, 'optimizer': 'Adamax', 'batch_size': 64, 'n_layers': 6, 'n_units_l0': 226, 'n_units_l1': 188, 'n_units_l2': 234, 'n_units_l3': 149, 'n_units_l4': 215, 'n_units_l5': 215}. Best is trial 685 with value: 525589.1875.\u001b[0m\n",
      "\u001b[32m[I 2022-09-30 17:30:49,827]\u001b[0m Trial 770 finished with value: 1555972.125 and parameters: {'learning_rate': 0.0004178057626789722, 'optimizer': 'Adamax', 'batch_size': 64, 'n_layers': 6, 'n_units_l0': 221, 'n_units_l1': 182, 'n_units_l2': 222, 'n_units_l3': 149, 'n_units_l4': 222, 'n_units_l5': 233}. Best is trial 685 with value: 525589.1875.\u001b[0m\n",
      "\u001b[32m[I 2022-09-30 17:31:03,108]\u001b[0m Trial 781 finished with value: 640198.75 and parameters: {'learning_rate': 0.00040684159687207544, 'optimizer': 'Adamax', 'batch_size': 512, 'n_layers': 6, 'n_units_l0': 220, 'n_units_l1': 179, 'n_units_l2': 221, 'n_units_l3': 151, 'n_units_l4': 242, 'n_units_l5': 236}. Best is trial 685 with value: 525589.1875.\u001b[0m\n",
      "\u001b[32m[I 2022-09-30 17:31:05,934]\u001b[0m Trial 759 finished with value: 602419.3125 and parameters: {'learning_rate': 0.00032741612103953226, 'optimizer': 'Adamax', 'batch_size': 64, 'n_layers': 6, 'n_units_l0': 218, 'n_units_l1': 182, 'n_units_l2': 222, 'n_units_l3': 136, 'n_units_l4': 222, 'n_units_l5': 205}. Best is trial 685 with value: 525589.1875.\u001b[0m\n",
      "\u001b[32m[I 2022-09-30 17:31:35,660]\u001b[0m Trial 786 finished with value: 682178.3125 and parameters: {'learning_rate': 0.0004017691610992974, 'optimizer': 'Adamax', 'batch_size': 512, 'n_layers': 6, 'n_units_l0': 232, 'n_units_l1': 182, 'n_units_l2': 224, 'n_units_l3': 135, 'n_units_l4': 211, 'n_units_l5': 144}. Best is trial 685 with value: 525589.1875.\u001b[0m\n",
      "\u001b[32m[I 2022-09-30 17:31:37,171]\u001b[0m Trial 784 finished with value: 620240.875 and parameters: {'learning_rate': 0.0005588227916672882, 'optimizer': 'Adamax', 'batch_size': 512, 'n_layers': 6, 'n_units_l0': 223, 'n_units_l1': 181, 'n_units_l2': 221, 'n_units_l3': 137, 'n_units_l4': 224, 'n_units_l5': 233}. Best is trial 685 with value: 525589.1875.\u001b[0m\n",
      "\u001b[32m[I 2022-09-30 17:32:04,537]\u001b[0m Trial 783 finished with value: 1555972.125 and parameters: {'learning_rate': 0.0005885216801607122, 'optimizer': 'Adamax', 'batch_size': 64, 'n_layers': 6, 'n_units_l0': 222, 'n_units_l1': 171, 'n_units_l2': 243, 'n_units_l3': 135, 'n_units_l4': 112, 'n_units_l5': 235}. Best is trial 685 with value: 525589.1875.\u001b[0m\n",
      "\u001b[32m[I 2022-09-30 17:32:26,291]\u001b[0m Trial 790 finished with value: 1555972.125 and parameters: {'learning_rate': 0.0005903969292723595, 'optimizer': 'Adamax', 'batch_size': 512, 'n_layers': 6, 'n_units_l0': 236, 'n_units_l1': 189, 'n_units_l2': 244, 'n_units_l3': 174, 'n_units_l4': 108, 'n_units_l5': 164}. Best is trial 685 with value: 525589.1875.\u001b[0m\n",
      "\u001b[32m[I 2022-09-30 17:32:27,813]\u001b[0m Trial 801 finished with value: 1555972.125 and parameters: {'learning_rate': 0.0005433503894059931, 'optimizer': 'Adamax', 'batch_size': 512, 'n_layers': 6, 'n_units_l0': 236, 'n_units_l1': 187, 'n_units_l2': 240, 'n_units_l3': 155, 'n_units_l4': 253, 'n_units_l5': 164}. Best is trial 685 with value: 525589.1875.\u001b[0m\n",
      "\u001b[32m[I 2022-09-30 17:32:51,983]\u001b[0m Trial 800 finished with value: 1555972.125 and parameters: {'learning_rate': 0.0005895582217525767, 'optimizer': 'Adamax', 'batch_size': 512, 'n_layers': 6, 'n_units_l0': 236, 'n_units_l1': 189, 'n_units_l2': 238, 'n_units_l3': 175, 'n_units_l4': 234, 'n_units_l5': 164}. Best is trial 685 with value: 525589.1875.\u001b[0m\n",
      "\u001b[32m[I 2022-09-30 17:33:07,651]\u001b[0m Trial 797 finished with value: 597959.5625 and parameters: {'learning_rate': 0.0005840040155115335, 'optimizer': 'Adamax', 'batch_size': 512, 'n_layers': 6, 'n_units_l0': 231, 'n_units_l1': 189, 'n_units_l2': 251, 'n_units_l3': 127, 'n_units_l4': 234, 'n_units_l5': 212}. Best is trial 685 with value: 525589.1875.\u001b[0m\n",
      "\u001b[32m[I 2022-09-30 17:33:43,284]\u001b[0m Trial 798 finished with value: 1555972.125 and parameters: {'learning_rate': 0.00022862545711326143, 'optimizer': 'Adamax', 'batch_size': 512, 'n_layers': 6, 'n_units_l0': 216, 'n_units_l1': 252, 'n_units_l2': 228, 'n_units_l3': 166, 'n_units_l4': 208, 'n_units_l5': 219}. Best is trial 685 with value: 525589.1875.\u001b[0m\n",
      "\u001b[32m[I 2022-09-30 17:33:51,788]\u001b[0m Trial 789 finished with value: 1555972.125 and parameters: {'learning_rate': 0.0005783996572961815, 'optimizer': 'Adamax', 'batch_size': 64, 'n_layers': 6, 'n_units_l0': 231, 'n_units_l1': 185, 'n_units_l2': 227, 'n_units_l3': 164, 'n_units_l4': 209, 'n_units_l5': 211}. Best is trial 685 with value: 525589.1875.\u001b[0m\n",
      "\u001b[32m[I 2022-09-30 17:34:17,793]\u001b[0m Trial 785 finished with value: 616857.625 and parameters: {'learning_rate': 0.0005876311142242371, 'optimizer': 'Adamax', 'batch_size': 512, 'n_layers': 6, 'n_units_l0': 230, 'n_units_l1': 174, 'n_units_l2': 236, 'n_units_l3': 144, 'n_units_l4': 215, 'n_units_l5': 186}. Best is trial 685 with value: 525589.1875.\u001b[0m\n",
      "\u001b[32m[I 2022-09-30 17:34:54,229]\u001b[0m Trial 793 finished with value: 1555972.125 and parameters: {'learning_rate': 0.0005710166701120443, 'optimizer': 'Adamax', 'batch_size': 512, 'n_layers': 7, 'n_units_l0': 227, 'n_units_l1': 176, 'n_units_l2': 233, 'n_units_l3': 157, 'n_units_l4': 226, 'n_units_l5': 201, 'n_units_l6': 201}. Best is trial 685 with value: 525589.1875.\u001b[0m\n",
      "\u001b[32m[I 2022-09-30 17:34:54,423]\u001b[0m Trial 780 finished with value: 741104.0625 and parameters: {'learning_rate': 0.0005960739030340533, 'optimizer': 'Adamax', 'batch_size': 64, 'n_layers': 7, 'n_units_l0': 227, 'n_units_l1': 175, 'n_units_l2': 234, 'n_units_l3': 143, 'n_units_l4': 228, 'n_units_l5': 202, 'n_units_l6': 200}. Best is trial 685 with value: 525589.1875.\u001b[0m\n",
      "\u001b[32m[I 2022-09-30 17:35:34,130]\u001b[0m Trial 792 finished with value: 2420359.6875 and parameters: {'learning_rate': 0.0005266234537053696, 'optimizer': 'Adamax', 'batch_size': 16, 'n_layers': 6, 'n_units_l0': 231, 'n_units_l1': 174, 'n_units_l2': 250, 'n_units_l3': 144, 'n_units_l4': 234, 'n_units_l5': 212}. Best is trial 685 with value: 525589.1875.\u001b[0m\n",
      "\u001b[32m[I 2022-09-30 17:35:35,459]\u001b[0m Trial 796 finished with value: 631465.25 and parameters: {'learning_rate': 0.0005758904627215662, 'optimizer': 'Adamax', 'batch_size': 512, 'n_layers': 6, 'n_units_l0': 215, 'n_units_l1': 179, 'n_units_l2': 217, 'n_units_l3': 150, 'n_units_l4': 219, 'n_units_l5': 224}. Best is trial 685 with value: 525589.1875.\u001b[0m\n",
      "\u001b[32m[I 2022-09-30 17:35:36,725]\u001b[0m Trial 794 finished with value: 658114.9375 and parameters: {'learning_rate': 0.0005546222295468009, 'optimizer': 'Adamax', 'batch_size': 512, 'n_layers': 6, 'n_units_l0': 221, 'n_units_l1': 183, 'n_units_l2': 216, 'n_units_l3': 158, 'n_units_l4': 219, 'n_units_l5': 224}. Best is trial 685 with value: 525589.1875.\u001b[0m\n",
      "\u001b[32m[I 2022-09-30 17:36:24,711]\u001b[0m Trial 788 finished with value: 1555972.125 and parameters: {'learning_rate': 0.0005873667019698143, 'optimizer': 'Adamax', 'batch_size': 512, 'n_layers': 6, 'n_units_l0': 219, 'n_units_l1': 191, 'n_units_l2': 112, 'n_units_l3': 152, 'n_units_l4': 238, 'n_units_l5': 176}. Best is trial 685 with value: 525589.1875.\u001b[0m\n",
      "\u001b[32m[I 2022-09-30 17:36:26,829]\u001b[0m Trial 799 finished with value: 1555972.125 and parameters: {'learning_rate': 0.0005827369834591368, 'optimizer': 'Adamax', 'batch_size': 512, 'n_layers': 6, 'n_units_l0': 215, 'n_units_l1': 170, 'n_units_l2': 113, 'n_units_l3': 152, 'n_units_l4': 246, 'n_units_l5': 241}. Best is trial 685 with value: 525589.1875.\u001b[0m\n",
      "\u001b[32m[I 2022-09-30 17:36:28,730]\u001b[0m Trial 791 finished with value: 630264.75 and parameters: {'learning_rate': 0.0006209294814988878, 'optimizer': 'Adamax', 'batch_size': 512, 'n_layers': 6, 'n_units_l0': 219, 'n_units_l1': 184, 'n_units_l2': 228, 'n_units_l3': 152, 'n_units_l4': 245, 'n_units_l5': 242}. Best is trial 685 with value: 525589.1875.\u001b[0m\n",
      "\u001b[32m[I 2022-09-30 17:37:07,921]\u001b[0m Trial 787 finished with value: 1555972.125 and parameters: {'learning_rate': 0.0006143488009394504, 'optimizer': 'Adamax', 'batch_size': 512, 'n_layers': 6, 'n_units_l0': 225, 'n_units_l1': 185, 'n_units_l2': 230, 'n_units_l3': 141, 'n_units_l4': 224, 'n_units_l5': 256}. Best is trial 685 with value: 525589.1875.\u001b[0m\n",
      "\u001b[32m[I 2022-09-30 17:37:09,097]\u001b[0m Trial 782 finished with value: 1555972.125 and parameters: {'learning_rate': 0.0005949925963531782, 'optimizer': 'Adamax', 'batch_size': 512, 'n_layers': 6, 'n_units_l0': 224, 'n_units_l1': 186, 'n_units_l2': 238, 'n_units_l3': 164, 'n_units_l4': 223, 'n_units_l5': 256}. Best is trial 685 with value: 525589.1875.\u001b[0m\n",
      "\u001b[32m[I 2022-09-30 17:37:29,721]\u001b[0m Trial 815 finished with value: 1555972.125 and parameters: {'learning_rate': 0.00024083728261192693, 'optimizer': 'Adamax', 'batch_size': 64, 'n_layers': 6, 'n_units_l0': 236, 'n_units_l1': 179, 'n_units_l2': 246, 'n_units_l3': 161, 'n_units_l4': 229, 'n_units_l5': 231}. Best is trial 685 with value: 525589.1875.\u001b[0m\n",
      "\u001b[32m[I 2022-09-30 17:37:41,114]\u001b[0m Trial 824 finished with value: 897581.625 and parameters: {'learning_rate': 0.0002470448708659134, 'optimizer': 'Adam', 'batch_size': 64, 'n_layers': 6, 'n_units_l0': 237, 'n_units_l1': 190, 'n_units_l2': 227, 'n_units_l3': 139, 'n_units_l4': 214, 'n_units_l5': 248}. Best is trial 685 with value: 525589.1875.\u001b[0m\n",
      "\u001b[32m[I 2022-09-30 17:37:47,861]\u001b[0m Trial 795 finished with value: 3226924.625 and parameters: {'learning_rate': 0.0005626626551865548, 'optimizer': 'Adamax', 'batch_size': 16, 'n_layers': 6, 'n_units_l0': 213, 'n_units_l1': 169, 'n_units_l2': 229, 'n_units_l3': 161, 'n_units_l4': 26, 'n_units_l5': 247}. Best is trial 685 with value: 525589.1875.\u001b[0m\n",
      "\u001b[32m[I 2022-09-30 17:38:09,205]\u001b[0m Trial 821 finished with value: 1555972.125 and parameters: {'learning_rate': 0.00022950141145063114, 'optimizer': 'Adam', 'batch_size': 64, 'n_layers': 6, 'n_units_l0': 233, 'n_units_l1': 191, 'n_units_l2': 246, 'n_units_l3': 139, 'n_units_l4': 213, 'n_units_l5': 249}. Best is trial 685 with value: 525589.1875.\u001b[0m\n",
      "\u001b[32m[I 2022-09-30 17:38:09,805]\u001b[0m Trial 804 finished with value: 1555972.125 and parameters: {'learning_rate': 0.0005988074658176153, 'optimizer': 'Adamax', 'batch_size': 64, 'n_layers': 6, 'n_units_l0': 234, 'n_units_l1': 179, 'n_units_l2': 245, 'n_units_l3': 131, 'n_units_l4': 229, 'n_units_l5': 229}. Best is trial 685 with value: 525589.1875.\u001b[0m\n",
      "\u001b[32m[I 2022-09-30 17:38:53,361]\u001b[0m Trial 823 finished with value: 741921.625 and parameters: {'learning_rate': 0.00025854517640146727, 'optimizer': 'Adam', 'batch_size': 64, 'n_layers': 6, 'n_units_l0': 212, 'n_units_l1': 192, 'n_units_l2': 222, 'n_units_l3': 145, 'n_units_l4': 239, 'n_units_l5': 191}. Best is trial 685 with value: 525589.1875.\u001b[0m\n",
      "\u001b[32m[I 2022-09-30 17:39:33,118]\u001b[0m Trial 808 finished with value: 1791610.953125 and parameters: {'learning_rate': 0.0005713112816658854, 'optimizer': 'Adamax', 'batch_size': 16, 'n_layers': 6, 'n_units_l0': 214, 'n_units_l1': 179, 'n_units_l2': 247, 'n_units_l3': 127, 'n_units_l4': 229, 'n_units_l5': 249}. Best is trial 685 with value: 525589.1875.\u001b[0m\n",
      "\u001b[32m[I 2022-09-30 17:40:09,988]\u001b[0m Trial 812 finished with value: 3226924.625 and parameters: {'learning_rate': 0.00025547528416760033, 'optimizer': 'Adamax', 'batch_size': 16, 'n_layers': 6, 'n_units_l0': 225, 'n_units_l1': 179, 'n_units_l2': 119, 'n_units_l3': 126, 'n_units_l4': 240, 'n_units_l5': 216}. Best is trial 685 with value: 525589.1875.\u001b[0m\n",
      "\u001b[32m[I 2022-09-30 17:40:18,325]\u001b[0m Trial 817 finished with value: 708024.875 and parameters: {'learning_rate': 0.0002690289604022714, 'optimizer': 'Adamax', 'batch_size': 64, 'n_layers': 6, 'n_units_l0': 228, 'n_units_l1': 185, 'n_units_l2': 90, 'n_units_l3': 153, 'n_units_l4': 221, 'n_units_l5': 218}. Best is trial 685 with value: 525589.1875.\u001b[0m\n",
      "\u001b[32m[I 2022-09-30 17:40:54,694]\u001b[0m Trial 806 finished with value: 610033.875 and parameters: {'learning_rate': 0.0005755555850060243, 'optimizer': 'Adamax', 'batch_size': 64, 'n_layers': 6, 'n_units_l0': 219, 'n_units_l1': 185, 'n_units_l2': 235, 'n_units_l3': 156, 'n_units_l4': 97, 'n_units_l5': 204}. Best is trial 685 with value: 525589.1875.\u001b[0m\n",
      "\u001b[32m[I 2022-09-30 17:40:56,167]\u001b[0m Trial 809 finished with value: 3226924.625 and parameters: {'learning_rate': 0.0005694558210459188, 'optimizer': 'Adamax', 'batch_size': 16, 'n_layers': 6, 'n_units_l0': 226, 'n_units_l1': 177, 'n_units_l2': 235, 'n_units_l3': 125, 'n_units_l4': 150, 'n_units_l5': 181}. Best is trial 685 with value: 525589.1875.\u001b[0m\n",
      "\u001b[32m[I 2022-09-30 17:41:45,973]\u001b[0m Trial 811 finished with value: 693383.6875 and parameters: {'learning_rate': 0.00022912684929901638, 'optimizer': 'Adamax', 'batch_size': 64, 'n_layers': 6, 'n_units_l0': 222, 'n_units_l1': 192, 'n_units_l2': 219, 'n_units_l3': 158, 'n_units_l4': 210, 'n_units_l5': 225}. Best is trial 685 with value: 525589.1875.\u001b[0m\n",
      "\u001b[32m[I 2022-09-30 17:41:47,836]\u001b[0m Trial 820 finished with value: 1555972.125 and parameters: {'learning_rate': 0.00024138166322796483, 'optimizer': 'Adam', 'batch_size': 64, 'n_layers': 6, 'n_units_l0': 147, 'n_units_l1': 256, 'n_units_l2': 238, 'n_units_l3': 148, 'n_units_l4': 208, 'n_units_l5': 238}. Best is trial 685 with value: 525589.1875.\u001b[0m\n",
      "\u001b[32m[I 2022-09-30 17:42:18,736]\u001b[0m Trial 802 finished with value: 620334.75 and parameters: {'learning_rate': 0.00055757928801214, 'optimizer': 'Adamax', 'batch_size': 512, 'n_layers': 6, 'n_units_l0': 229, 'n_units_l1': 171, 'n_units_l2': 230, 'n_units_l3': 166, 'n_units_l4': 220, 'n_units_l5': 206}. Best is trial 685 with value: 525589.1875.\u001b[0m\n",
      "\u001b[32m[I 2022-09-30 17:42:39,678]\u001b[0m Trial 805 finished with value: 3226924.625 and parameters: {'learning_rate': 0.0005311816977739479, 'optimizer': 'Adamax', 'batch_size': 16, 'n_layers': 6, 'n_units_l0': 220, 'n_units_l1': 190, 'n_units_l2': 234, 'n_units_l3': 156, 'n_units_l4': 208, 'n_units_l5': 207}. Best is trial 685 with value: 525589.1875.\u001b[0m\n",
      "\u001b[32m[I 2022-09-30 17:43:03,448]\u001b[0m Trial 819 finished with value: 661472.4375 and parameters: {'learning_rate': 0.00026128057705212914, 'optimizer': 'Adamax', 'batch_size': 64, 'n_layers': 6, 'n_units_l0': 211, 'n_units_l1': 246, 'n_units_l2': 240, 'n_units_l3': 146, 'n_units_l4': 235, 'n_units_l5': 220}. Best is trial 685 with value: 525589.1875.\u001b[0m\n",
      "\u001b[32m[I 2022-09-30 17:43:48,622]\u001b[0m Trial 813 finished with value: 3226924.625 and parameters: {'learning_rate': 0.00023135635063493843, 'optimizer': 'Adamax', 'batch_size': 16, 'n_layers': 6, 'n_units_l0': 231, 'n_units_l1': 171, 'n_units_l2': 226, 'n_units_l3': 170, 'n_units_l4': 256, 'n_units_l5': 206}. Best is trial 685 with value: 525589.1875.\u001b[0m\n",
      "\u001b[32m[I 2022-09-30 17:44:26,391]\u001b[0m Trial 816 finished with value: 622722.25 and parameters: {'learning_rate': 0.0005025331242042515, 'optimizer': 'Adamax', 'batch_size': 64, 'n_layers': 6, 'n_units_l0': 240, 'n_units_l1': 181, 'n_units_l2': 224, 'n_units_l3': 15, 'n_units_l4': 216, 'n_units_l5': 157}. Best is trial 685 with value: 525589.1875.\u001b[0m\n",
      "\u001b[32m[I 2022-09-30 17:44:45,022]\u001b[0m Trial 814 finished with value: 1394071.0 and parameters: {'learning_rate': 0.0002466814675881587, 'optimizer': 'Adamax', 'batch_size': 16, 'n_layers': 7, 'n_units_l0': 211, 'n_units_l1': 183, 'n_units_l2': 224, 'n_units_l3': 147, 'n_units_l4': 236, 'n_units_l5': 86, 'n_units_l6': 230}. Best is trial 685 with value: 525589.1875.\u001b[0m\n",
      "\u001b[32m[I 2022-09-30 17:45:13,479]\u001b[0m Trial 807 finished with value: 3226924.625 and parameters: {'learning_rate': 0.00022441219765654012, 'optimizer': 'Adamax', 'batch_size': 16, 'n_layers': 7, 'n_units_l0': 239, 'n_units_l1': 183, 'n_units_l2': 225, 'n_units_l3': 172, 'n_units_l4': 216, 'n_units_l5': 199, 'n_units_l6': 242}. Best is trial 685 with value: 525589.1875.\u001b[0m\n",
      "\u001b[32m[I 2022-09-30 17:45:25,974]\u001b[0m Trial 822 finished with value: 641210.375 and parameters: {'learning_rate': 0.000247140496931497, 'optimizer': 'Adam', 'batch_size': 64, 'n_layers': 6, 'n_units_l0': 205, 'n_units_l1': 192, 'n_units_l2': 218, 'n_units_l3': 132, 'n_units_l4': 226, 'n_units_l5': 73}. Best is trial 685 with value: 525589.1875.\u001b[0m\n",
      "\u001b[32m[I 2022-09-30 17:46:03,629]\u001b[0m Trial 818 finished with value: 1555972.125 and parameters: {'learning_rate': 0.0002560504171386441, 'optimizer': 'Adamax', 'batch_size': 64, 'n_layers': 6, 'n_units_l0': 225, 'n_units_l1': 191, 'n_units_l2': 216, 'n_units_l3': 135, 'n_units_l4': 225, 'n_units_l5': 231}. Best is trial 685 with value: 525589.1875.\u001b[0m\n",
      "\u001b[32m[I 2022-09-30 17:46:12,444]\u001b[0m Trial 810 finished with value: 594816.0625 and parameters: {'learning_rate': 0.0005727552028101235, 'optimizer': 'Adamax', 'batch_size': 64, 'n_layers': 6, 'n_units_l0': 224, 'n_units_l1': 175, 'n_units_l2': 242, 'n_units_l3': 140, 'n_units_l4': 224, 'n_units_l5': 230}. Best is trial 685 with value: 525589.1875.\u001b[0m\n",
      "\u001b[32m[I 2022-09-30 17:46:16,896]\u001b[0m Trial 803 finished with value: 1545511.265625 and parameters: {'learning_rate': 0.000564570036967614, 'optimizer': 'Adamax', 'batch_size': 16, 'n_layers': 6, 'n_units_l0': 213, 'n_units_l1': 186, 'n_units_l2': 215, 'n_units_l3': 22, 'n_units_l4': 225, 'n_units_l5': 230}. Best is trial 685 with value: 525589.1875.\u001b[0m\n",
      "\u001b[32m[I 2022-09-30 17:47:04,028]\u001b[0m Trial 827 finished with value: 1555972.125 and parameters: {'learning_rate': 0.00031445823057585354, 'optimizer': 'Adam', 'batch_size': 64, 'n_layers': 6, 'n_units_l0': 218, 'n_units_l1': 188, 'n_units_l2': 78, 'n_units_l3': 152, 'n_units_l4': 201, 'n_units_l5': 214}. Best is trial 685 with value: 525589.1875.\u001b[0m\n",
      "\u001b[32m[I 2022-09-30 17:47:05,378]\u001b[0m Trial 829 finished with value: 1178411.25 and parameters: {'learning_rate': 0.00034209605339910844, 'optimizer': 'Adam', 'batch_size': 64, 'n_layers': 6, 'n_units_l0': 224, 'n_units_l1': 175, 'n_units_l2': 231, 'n_units_l3': 139, 'n_units_l4': 201, 'n_units_l5': 222}. Best is trial 685 with value: 525589.1875.\u001b[0m\n",
      "\u001b[32m[I 2022-09-30 17:47:07,366]\u001b[0m Trial 826 finished with value: 1555972.125 and parameters: {'learning_rate': 0.0003449920109927987, 'optimizer': 'Adam', 'batch_size': 64, 'n_layers': 6, 'n_units_l0': 215, 'n_units_l1': 176, 'n_units_l2': 240, 'n_units_l3': 141, 'n_units_l4': 201, 'n_units_l5': 134}. Best is trial 685 with value: 525589.1875.\u001b[0m\n",
      "\u001b[32m[I 2022-09-30 17:47:10,819]\u001b[0m Trial 837 finished with value: 1555972.125 and parameters: {'learning_rate': 0.00032479008199804246, 'optimizer': 'Adam', 'batch_size': 64, 'n_layers': 6, 'n_units_l0': 216, 'n_units_l1': 176, 'n_units_l2': 231, 'n_units_l3': 24, 'n_units_l4': 231, 'n_units_l5': 240}. Best is trial 685 with value: 525589.1875.\u001b[0m\n",
      "\u001b[32m[I 2022-09-30 17:47:12,536]\u001b[0m Trial 831 finished with value: 811884.6875 and parameters: {'learning_rate': 0.00032361902864609616, 'optimizer': 'Adam', 'batch_size': 64, 'n_layers': 6, 'n_units_l0': 216, 'n_units_l1': 176, 'n_units_l2': 232, 'n_units_l3': 139, 'n_units_l4': 249, 'n_units_l5': 133}. Best is trial 685 with value: 525589.1875.\u001b[0m\n",
      "\u001b[32m[I 2022-09-30 17:47:17,783]\u001b[0m Trial 844 finished with value: 1555972.125 and parameters: {'learning_rate': 0.00034131939865954686, 'optimizer': 'Adam', 'batch_size': 64, 'n_layers': 6, 'n_units_l0': 215, 'n_units_l1': 174, 'n_units_l2': 242, 'n_units_l3': 140, 'n_units_l4': 232, 'n_units_l5': 192}. Best is trial 685 with value: 525589.1875.\u001b[0m\n",
      "\u001b[32m[I 2022-09-30 17:48:12,704]\u001b[0m Trial 847 finished with value: 1070981.5 and parameters: {'learning_rate': 0.00033329183182295675, 'optimizer': 'Adam', 'batch_size': 64, 'n_layers': 6, 'n_units_l0': 234, 'n_units_l1': 168, 'n_units_l2': 238, 'n_units_l3': 118, 'n_units_l4': 250, 'n_units_l5': 63}. Best is trial 685 with value: 525589.1875.\u001b[0m\n",
      "\u001b[32m[I 2022-09-30 17:48:18,714]\u001b[0m Trial 849 finished with value: 791235.125 and parameters: {'learning_rate': 3.7783609290409386e-05, 'optimizer': 'Adam', 'batch_size': 64, 'n_layers': 6, 'n_units_l0': 234, 'n_units_l1': 191, 'n_units_l2': 236, 'n_units_l3': 160, 'n_units_l4': 250, 'n_units_l5': 193}. Best is trial 685 with value: 525589.1875.\u001b[0m\n",
      "\u001b[32m[I 2022-09-30 17:48:24,652]\u001b[0m Trial 848 finished with value: 843580.6875 and parameters: {'learning_rate': 0.0003455062224724189, 'optimizer': 'Adam', 'batch_size': 64, 'n_layers': 6, 'n_units_l0': 233, 'n_units_l1': 193, 'n_units_l2': 252, 'n_units_l3': 163, 'n_units_l4': 232, 'n_units_l5': 191}. Best is trial 685 with value: 525589.1875.\u001b[0m\n",
      "\u001b[32m[I 2022-09-30 17:48:28,140]\u001b[0m Trial 852 finished with value: 938165.25 and parameters: {'learning_rate': 0.00045867144505548824, 'optimizer': 'Adam', 'batch_size': 64, 'n_layers': 6, 'n_units_l0': 204, 'n_units_l1': 192, 'n_units_l2': 236, 'n_units_l3': 116, 'n_units_l4': 242, 'n_units_l5': 171}. Best is trial 685 with value: 525589.1875.\u001b[0m\n",
      "\u001b[32m[I 2022-09-30 17:48:28,705]\u001b[0m Trial 840 finished with value: 1555972.125 and parameters: {'learning_rate': 0.00035269706256547284, 'optimizer': 'Adam', 'batch_size': 64, 'n_layers': 6, 'n_units_l0': 205, 'n_units_l1': 192, 'n_units_l2': 39, 'n_units_l3': 118, 'n_units_l4': 242, 'n_units_l5': 211}. Best is trial 685 with value: 525589.1875.\u001b[0m\n",
      "\u001b[32m[I 2022-09-30 17:48:29,465]\u001b[0m Trial 850 finished with value: 1555972.125 and parameters: {'learning_rate': 0.0004358145472785016, 'optimizer': 'Adam', 'batch_size': 64, 'n_layers': 6, 'n_units_l0': 233, 'n_units_l1': 194, 'n_units_l2': 210, 'n_units_l3': 117, 'n_units_l4': 242, 'n_units_l5': 193}. Best is trial 685 with value: 525589.1875.\u001b[0m\n",
      "\u001b[32m[I 2022-09-30 17:48:31,576]\u001b[0m Trial 851 finished with value: 1555972.125 and parameters: {'learning_rate': 0.0004274705996952911, 'optimizer': 'Adam', 'batch_size': 64, 'n_layers': 6, 'n_units_l0': 233, 'n_units_l1': 187, 'n_units_l2': 238, 'n_units_l3': 164, 'n_units_l4': 221, 'n_units_l5': 243}. Best is trial 685 with value: 525589.1875.\u001b[0m\n",
      "\u001b[32m[I 2022-09-30 17:48:34,737]\u001b[0m Trial 846 finished with value: 1555972.125 and parameters: {'learning_rate': 0.00033679304965523397, 'optimizer': 'Adam', 'batch_size': 64, 'n_layers': 6, 'n_units_l0': 232, 'n_units_l1': 161, 'n_units_l2': 210, 'n_units_l3': 163, 'n_units_l4': 220, 'n_units_l5': 170}. Best is trial 685 with value: 525589.1875.\u001b[0m\n",
      "\u001b[32m[I 2022-09-30 17:48:38,845]\u001b[0m Trial 845 finished with value: 859196.75 and parameters: {'learning_rate': 0.00035260789862960536, 'optimizer': 'Adam', 'batch_size': 64, 'n_layers': 6, 'n_units_l0': 231, 'n_units_l1': 192, 'n_units_l2': 237, 'n_units_l3': 163, 'n_units_l4': 243, 'n_units_l5': 191}. Best is trial 685 with value: 525589.1875.\u001b[0m\n",
      "\u001b[32m[I 2022-09-30 17:48:59,901]\u001b[0m Trial 857 finished with value: 683224.25 and parameters: {'learning_rate': 0.0004755407880374581, 'optimizer': 'Adamax', 'batch_size': 64, 'n_layers': 6, 'n_units_l0': 240, 'n_units_l1': 184, 'n_units_l2': 222, 'n_units_l3': 150, 'n_units_l4': 214, 'n_units_l5': 224}. Best is trial 685 with value: 525589.1875.\u001b[0m\n",
      "\u001b[32m[I 2022-09-30 17:49:13,933]\u001b[0m Trial 854 finished with value: 639784.8125 and parameters: {'learning_rate': 0.00045308834805269955, 'optimizer': 'Adamax', 'batch_size': 1024, 'n_layers': 6, 'n_units_l0': 202, 'n_units_l1': 184, 'n_units_l2': 220, 'n_units_l3': 164, 'n_units_l4': 242, 'n_units_l5': 236}. Best is trial 685 with value: 525589.1875.\u001b[0m\n",
      "\u001b[32m[I 2022-09-30 17:49:18,296]\u001b[0m Trial 856 finished with value: 644690.5 and parameters: {'learning_rate': 0.0004546010148583527, 'optimizer': 'Adamax', 'batch_size': 1024, 'n_layers': 6, 'n_units_l0': 229, 'n_units_l1': 182, 'n_units_l2': 227, 'n_units_l3': 148, 'n_units_l4': 213, 'n_units_l5': 223}. Best is trial 685 with value: 525589.1875.\u001b[0m\n",
      "\u001b[32m[I 2022-09-30 17:49:20,492]\u001b[0m Trial 858 finished with value: 1555972.125 and parameters: {'learning_rate': 0.00045936715379053437, 'optimizer': 'Adamax', 'batch_size': 1024, 'n_layers': 6, 'n_units_l0': 222, 'n_units_l1': 182, 'n_units_l2': 227, 'n_units_l3': 148, 'n_units_l4': 211, 'n_units_l5': 237}. Best is trial 685 with value: 525589.1875.\u001b[0m\n",
      "\u001b[32m[I 2022-09-30 17:49:35,334]\u001b[0m Trial 853 finished with value: 617355.625 and parameters: {'learning_rate': 0.0004573151549060458, 'optimizer': 'Adamax', 'batch_size': 64, 'n_layers': 8, 'n_units_l0': 205, 'n_units_l1': 192, 'n_units_l2': 252, 'n_units_l3': 165, 'n_units_l4': 220, 'n_units_l5': 217, 'n_units_l6': 64, 'n_units_l7': 5}. Best is trial 685 with value: 525589.1875.\u001b[0m\n",
      "\u001b[32m[I 2022-09-30 17:49:59,194]\u001b[0m Trial 832 finished with value: 907860.375 and parameters: {'learning_rate': 0.0003492021214712814, 'optimizer': 'Adam', 'batch_size': 64, 'n_layers': 6, 'n_units_l0': 226, 'n_units_l1': 184, 'n_units_l2': 222, 'n_units_l3': 149, 'n_units_l4': 216, 'n_units_l5': 253}. Best is trial 685 with value: 525589.1875.\u001b[0m\n",
      "\u001b[32m[I 2022-09-30 17:50:05,603]\u001b[0m Trial 830 finished with value: 963922.5625 and parameters: {'learning_rate': 0.00035037699382594836, 'optimizer': 'Adam', 'batch_size': 64, 'n_layers': 6, 'n_units_l0': 228, 'n_units_l1': 183, 'n_units_l2': 221, 'n_units_l3': 152, 'n_units_l4': 213, 'n_units_l5': 236}. Best is trial 685 with value: 525589.1875.\u001b[0m\n",
      "\u001b[32m[I 2022-09-30 17:50:09,463]\u001b[0m Trial 841 finished with value: 708191.5625 and parameters: {'learning_rate': 0.0003548912483464328, 'optimizer': 'Adam', 'batch_size': 64, 'n_layers': 6, 'n_units_l0': 220, 'n_units_l1': 182, 'n_units_l2': 227, 'n_units_l3': 148, 'n_units_l4': 213, 'n_units_l5': 224}. Best is trial 685 with value: 525589.1875.\u001b[0m\n",
      "\u001b[32m[I 2022-09-30 17:50:18,838]\u001b[0m Trial 855 finished with value: 5261543.4375 and parameters: {'learning_rate': 0.0004459549206658337, 'optimizer': 'Adamax', 'batch_size': 8, 'n_layers': 6, 'n_units_l0': 203, 'n_units_l1': 184, 'n_units_l2': 222, 'n_units_l3': 151, 'n_units_l4': 213, 'n_units_l5': 253}. Best is trial 685 with value: 525589.1875.\u001b[0m\n",
      "\u001b[32m[I 2022-09-30 17:50:27,702]\u001b[0m Trial 865 finished with value: 984256.5625 and parameters: {'learning_rate': 0.00040725032450402376, 'optimizer': 'NAdam', 'batch_size': 64, 'n_layers': 6, 'n_units_l0': 200, 'n_units_l1': 179, 'n_units_l2': 230, 'n_units_l3': 154, 'n_units_l4': 227, 'n_units_l5': 255}. Best is trial 685 with value: 525589.1875.\u001b[0m\n",
      "\u001b[32m[I 2022-09-30 17:50:39,221]\u001b[0m Trial 859 finished with value: 552857.125 and parameters: {'learning_rate': 0.00044891421882718, 'optimizer': 'Adamax', 'batch_size': 64, 'n_layers': 6, 'n_units_l0': 225, 'n_units_l1': 169, 'n_units_l2': 229, 'n_units_l3': 158, 'n_units_l4': 228, 'n_units_l5': 253}. Best is trial 685 with value: 525589.1875.\u001b[0m\n",
      "\u001b[32m[I 2022-09-30 17:50:43,420]\u001b[0m Trial 862 finished with value: 1555972.125 and parameters: {'learning_rate': 0.0004365273677050859, 'optimizer': 'Adamax', 'batch_size': 64, 'n_layers': 6, 'n_units_l0': 220, 'n_units_l1': 170, 'n_units_l2': 229, 'n_units_l3': 156, 'n_units_l4': 228, 'n_units_l5': 216}. Best is trial 685 with value: 525589.1875.\u001b[0m\n",
      "\u001b[32m[I 2022-09-30 17:51:32,958]\u001b[0m Trial 834 finished with value: 854627.875 and parameters: {'learning_rate': 0.0003198334693432158, 'optimizer': 'Adam', 'batch_size': 64, 'n_layers': 6, 'n_units_l0': 220, 'n_units_l1': 169, 'n_units_l2': 215, 'n_units_l3': 42, 'n_units_l4': 229, 'n_units_l5': 185}. Best is trial 685 with value: 525589.1875.\u001b[0m\n",
      "\u001b[32m[I 2022-09-30 17:51:35,927]\u001b[0m Trial 861 finished with value: 1555972.125 and parameters: {'learning_rate': 0.00045182712161928145, 'optimizer': 'Adamax', 'batch_size': 1024, 'n_layers': 6, 'n_units_l0': 226, 'n_units_l1': 167, 'n_units_l2': 232, 'n_units_l3': 180, 'n_units_l4': 222, 'n_units_l5': 243}. Best is trial 685 with value: 525589.1875.\u001b[0m\n",
      "\u001b[32m[I 2022-09-30 17:51:41,939]\u001b[0m Trial 836 finished with value: 1555972.125 and parameters: {'learning_rate': 0.0003382829957113842, 'optimizer': 'Adam', 'batch_size': 64, 'n_layers': 6, 'n_units_l0': 246, 'n_units_l1': 181, 'n_units_l2': 229, 'n_units_l3': 155, 'n_units_l4': 235, 'n_units_l5': 209}. Best is trial 685 with value: 525589.1875.\u001b[0m\n",
      "\u001b[32m[I 2022-09-30 17:51:44,127]\u001b[0m Trial 867 finished with value: 573719.9375 and parameters: {'learning_rate': 0.0001271837387594074, 'optimizer': 'NAdam', 'batch_size': 64, 'n_layers': 6, 'n_units_l0': 222, 'n_units_l1': 187, 'n_units_l2': 215, 'n_units_l3': 158, 'n_units_l4': 236, 'n_units_l5': 200}. Best is trial 685 with value: 525589.1875.\u001b[0m\n",
      "\u001b[32m[I 2022-09-30 17:51:48,541]\u001b[0m Trial 839 finished with value: 1555972.125 and parameters: {'learning_rate': 0.0003186978841944196, 'optimizer': 'Adam', 'batch_size': 64, 'n_layers': 6, 'n_units_l0': 157, 'n_units_l1': 168, 'n_units_l2': 231, 'n_units_l3': 154, 'n_units_l4': 228, 'n_units_l5': 202}. Best is trial 685 with value: 525589.1875.\u001b[0m\n",
      "\u001b[32m[I 2022-09-30 17:51:57,273]\u001b[0m Trial 866 finished with value: 772301.25 and parameters: {'learning_rate': 9.559367921220031e-05, 'optimizer': 'Adamax', 'batch_size': 64, 'n_layers': 6, 'n_units_l0': 244, 'n_units_l1': 159, 'n_units_l2': 233, 'n_units_l3': 157, 'n_units_l4': 229, 'n_units_l5': 246}. Best is trial 685 with value: 525589.1875.\u001b[0m\n",
      "\u001b[32m[I 2022-09-30 17:52:02,614]\u001b[0m Trial 860 finished with value: 5261543.4375 and parameters: {'learning_rate': 0.00047964531837683705, 'optimizer': 'Adamax', 'batch_size': 8, 'n_layers': 6, 'n_units_l0': 226, 'n_units_l1': 169, 'n_units_l2': 231, 'n_units_l3': 130, 'n_units_l4': 227, 'n_units_l5': 253}. Best is trial 685 with value: 525589.1875.\u001b[0m\n",
      "\u001b[32m[I 2022-09-30 17:52:06,107]\u001b[0m Trial 864 finished with value: 5261543.4375 and parameters: {'learning_rate': 0.0004733225660382982, 'optimizer': 'Adamax', 'batch_size': 8, 'n_layers': 6, 'n_units_l0': 244, 'n_units_l1': 170, 'n_units_l2': 230, 'n_units_l3': 155, 'n_units_l4': 226, 'n_units_l5': 253}. Best is trial 685 with value: 525589.1875.\u001b[0m\n",
      "\u001b[32m[I 2022-09-30 17:52:28,914]\u001b[0m Trial 863 finished with value: 3864829.8203125 and parameters: {'learning_rate': 0.00045475106306752493, 'optimizer': 'Adamax', 'batch_size': 8, 'n_layers': 6, 'n_units_l0': 221, 'n_units_l1': 179, 'n_units_l2': 230, 'n_units_l3': 154, 'n_units_l4': 227, 'n_units_l5': 256}. Best is trial 685 with value: 525589.1875.\u001b[0m\n",
      "\u001b[32m[I 2022-09-30 17:52:40,008]\u001b[0m Trial 871 finished with value: 1555972.125 and parameters: {'learning_rate': 0.000724401595852335, 'optimizer': 'Adamax', 'batch_size': 64, 'n_layers': 6, 'n_units_l0': 223, 'n_units_l1': 162, 'n_units_l2': 212, 'n_units_l3': 156, 'n_units_l4': 233, 'n_units_l5': 246}. Best is trial 685 with value: 525589.1875.\u001b[0m\n",
      "\u001b[32m[I 2022-09-30 17:52:51,872]\u001b[0m Trial 825 finished with value: 842446.5625 and parameters: {'learning_rate': 0.0003255192264281404, 'optimizer': 'Adam', 'batch_size': 64, 'n_layers': 6, 'n_units_l0': 223, 'n_units_l1': 166, 'n_units_l2': 234, 'n_units_l3': 155, 'n_units_l4': 54, 'n_units_l5': 200}. Best is trial 685 with value: 525589.1875.\u001b[0m\n",
      "\u001b[32m[I 2022-09-30 17:53:06,287]\u001b[0m Trial 828 finished with value: 1555972.125 and parameters: {'learning_rate': 0.0003268040704116347, 'optimizer': 'Adam', 'batch_size': 64, 'n_layers': 6, 'n_units_l0': 238, 'n_units_l1': 172, 'n_units_l2': 214, 'n_units_l3': 168, 'n_units_l4': 235, 'n_units_l5': 204}. Best is trial 685 with value: 525589.1875.\u001b[0m\n",
      "\u001b[32m[I 2022-09-30 17:53:10,584]\u001b[0m Trial 843 finished with value: 1555972.125 and parameters: {'learning_rate': 0.0003333026825949802, 'optimizer': 'Adam', 'batch_size': 64, 'n_layers': 6, 'n_units_l0': 225, 'n_units_l1': 174, 'n_units_l2': 223, 'n_units_l3': 170, 'n_units_l4': 237, 'n_units_l5': 198}. Best is trial 685 with value: 525589.1875.\u001b[0m\n",
      "\u001b[32m[I 2022-09-30 17:54:01,917]\u001b[0m Trial 869 finished with value: 5261543.4375 and parameters: {'learning_rate': 9.493255159537245e-05, 'optimizer': 'Adamax', 'batch_size': 8, 'n_layers': 6, 'n_units_l0': 245, 'n_units_l1': 169, 'n_units_l2': 215, 'n_units_l3': 130, 'n_units_l4': 83, 'n_units_l5': 146}. Best is trial 685 with value: 525589.1875.\u001b[0m\n",
      "\u001b[32m[I 2022-09-30 17:54:07,415]\u001b[0m Trial 838 finished with value: 1555972.125 and parameters: {'learning_rate': 0.0003041105975142767, 'optimizer': 'Adam', 'batch_size': 64, 'n_layers': 7, 'n_units_l0': 212, 'n_units_l1': 176, 'n_units_l2': 216, 'n_units_l3': 172, 'n_units_l4': 237, 'n_units_l5': 212, 'n_units_l6': 104}. Best is trial 685 with value: 525589.1875.\u001b[0m\n",
      "\u001b[32m[I 2022-09-30 17:54:26,126]\u001b[0m Trial 835 finished with value: 1555972.125 and parameters: {'learning_rate': 0.0003495847304143812, 'optimizer': 'Adam', 'batch_size': 64, 'n_layers': 7, 'n_units_l0': 226, 'n_units_l1': 178, 'n_units_l2': 217, 'n_units_l3': 170, 'n_units_l4': 238, 'n_units_l5': 220, 'n_units_l6': 97}. Best is trial 685 with value: 525589.1875.\u001b[0m\n",
      "\u001b[32m[I 2022-09-30 17:54:30,419]\u001b[0m Trial 842 finished with value: 1555972.125 and parameters: {'learning_rate': 0.00031843519037786874, 'optimizer': 'Adam', 'batch_size': 64, 'n_layers': 7, 'n_units_l0': 212, 'n_units_l1': 188, 'n_units_l2': 243, 'n_units_l3': 144, 'n_units_l4': 237, 'n_units_l5': 212, 'n_units_l6': 101}. Best is trial 685 with value: 525589.1875.\u001b[0m\n",
      "\u001b[32m[I 2022-09-30 17:54:37,535]\u001b[0m Trial 870 finished with value: 4808123.203125 and parameters: {'learning_rate': 0.00010369727763263098, 'optimizer': 'NAdam', 'batch_size': 8, 'n_layers': 6, 'n_units_l0': 210, 'n_units_l1': 168, 'n_units_l2': 233, 'n_units_l3': 131, 'n_units_l4': 236, 'n_units_l5': 201}. Best is trial 685 with value: 525589.1875.\u001b[0m\n",
      "\u001b[32m[I 2022-09-30 17:54:51,537]\u001b[0m Trial 833 finished with value: 1555972.125 and parameters: {'learning_rate': 0.0003441958204101894, 'optimizer': 'Adam', 'batch_size': 64, 'n_layers': 6, 'n_units_l0': 211, 'n_units_l1': 188, 'n_units_l2': 245, 'n_units_l3': 161, 'n_units_l4': 221, 'n_units_l5': 219}. Best is trial 685 with value: 525589.1875.\u001b[0m\n",
      "\u001b[32m[I 2022-09-30 17:55:01,003]\u001b[0m Trial 868 finished with value: 3177150.5390625 and parameters: {'learning_rate': 0.0007512934026578178, 'optimizer': 'Adamax', 'batch_size': 8, 'n_layers': 7, 'n_units_l0': 213, 'n_units_l1': 177, 'n_units_l2': 218, 'n_units_l3': 172, 'n_units_l4': 237, 'n_units_l5': 179, 'n_units_l6': 102}. Best is trial 685 with value: 525589.1875.\u001b[0m\n",
      "\u001b[32m[I 2022-09-30 17:55:23,007]\u001b[0m Trial 874 finished with value: 660877.3125 and parameters: {'learning_rate': 0.0004934846071035642, 'optimizer': 'Adamax', 'batch_size': 64, 'n_layers': 6, 'n_units_l0': 211, 'n_units_l1': 188, 'n_units_l2': 220, 'n_units_l3': 146, 'n_units_l4': 221, 'n_units_l5': 220}. Best is trial 685 with value: 525589.1875.\u001b[0m\n",
      "\u001b[32m[I 2022-09-30 17:55:30,826]\u001b[0m Trial 876 finished with value: 568192.875 and parameters: {'learning_rate': 0.0007247074418953133, 'optimizer': 'Adamax', 'batch_size': 64, 'n_layers': 7, 'n_units_l0': 209, 'n_units_l1': 187, 'n_units_l2': 216, 'n_units_l3': 158, 'n_units_l4': 220, 'n_units_l5': 218, 'n_units_l6': 11}. Best is trial 685 with value: 525589.1875.\u001b[0m\n",
      "\u001b[32m[I 2022-09-30 17:55:31,783]\u001b[0m Trial 881 finished with value: 588714.0625 and parameters: {'learning_rate': 0.00013817821366990922, 'optimizer': 'NAdam', 'batch_size': 64, 'n_layers': 6, 'n_units_l0': 212, 'n_units_l1': 187, 'n_units_l2': 218, 'n_units_l3': 144, 'n_units_l4': 221, 'n_units_l5': 220}. Best is trial 685 with value: 525589.1875.\u001b[0m\n",
      "\u001b[32m[I 2022-09-30 17:55:35,260]\u001b[0m Trial 872 finished with value: 605610.625 and parameters: {'learning_rate': 0.0004757991030235014, 'optimizer': 'Adamax', 'batch_size': 64, 'n_layers': 7, 'n_units_l0': 212, 'n_units_l1': 188, 'n_units_l2': 243, 'n_units_l3': 161, 'n_units_l4': 221, 'n_units_l5': 180, 'n_units_l6': 184}. Best is trial 685 with value: 525589.1875.\u001b[0m\n",
      "\u001b[32m[I 2022-09-30 17:55:41,935]\u001b[0m Trial 887 finished with value: 1036315.4375 and parameters: {'learning_rate': 0.0007211123588698366, 'optimizer': 'NAdam', 'batch_size': 64, 'n_layers': 7, 'n_units_l0': 217, 'n_units_l1': 188, 'n_units_l2': 220, 'n_units_l3': 159, 'n_units_l4': 221, 'n_units_l5': 179, 'n_units_l6': 12}. Best is trial 685 with value: 525589.1875.\u001b[0m\n",
      "\u001b[32m[I 2022-09-30 17:55:43,305]\u001b[0m Trial 882 finished with value: 1555972.125 and parameters: {'learning_rate': 0.0001009429495971186, 'optimizer': 'NAdam', 'batch_size': 64, 'n_layers': 7, 'n_units_l0': 230, 'n_units_l1': 187, 'n_units_l2': 220, 'n_units_l3': 145, 'n_units_l4': 221, 'n_units_l5': 217, 'n_units_l6': 14}. Best is trial 685 with value: 525589.1875.\u001b[0m\n",
      "\u001b[32m[I 2022-09-30 17:56:33,578]\u001b[0m Trial 873 finished with value: 559912.9375 and parameters: {'learning_rate': 0.0007038535536602869, 'optimizer': 'Adamax', 'batch_size': 64, 'n_layers': 6, 'n_units_l0': 218, 'n_units_l1': 187, 'n_units_l2': 125, 'n_units_l3': 160, 'n_units_l4': 206, 'n_units_l5': 230}. Best is trial 685 with value: 525589.1875.\u001b[0m\n",
      "\u001b[32m[I 2022-09-30 17:56:39,063]\u001b[0m Trial 880 finished with value: 571650.9375 and parameters: {'learning_rate': 0.0001245594117333059, 'optimizer': 'NAdam', 'batch_size': 64, 'n_layers': 6, 'n_units_l0': 218, 'n_units_l1': 187, 'n_units_l2': 226, 'n_units_l3': 161, 'n_units_l4': 222, 'n_units_l5': 231}. Best is trial 685 with value: 525589.1875.\u001b[0m\n",
      "\u001b[32m[I 2022-09-30 17:56:46,234]\u001b[0m Trial 883 finished with value: 622150.9375 and parameters: {'learning_rate': 0.00015388541601734957, 'optimizer': 'NAdam', 'batch_size': 64, 'n_layers': 7, 'n_units_l0': 217, 'n_units_l1': 196, 'n_units_l2': 211, 'n_units_l3': 160, 'n_units_l4': 206, 'n_units_l5': 209, 'n_units_l6': 15}. Best is trial 685 with value: 525589.1875.\u001b[0m\n",
      "\u001b[32m[I 2022-09-30 17:56:56,840]\u001b[0m Trial 888 finished with value: 1555972.125 and parameters: {'learning_rate': 0.00012430049697629745, 'optimizer': 'NAdam', 'batch_size': 64, 'n_layers': 7, 'n_units_l0': 214, 'n_units_l1': 187, 'n_units_l2': 210, 'n_units_l3': 160, 'n_units_l4': 218, 'n_units_l5': 226, 'n_units_l6': 16}. Best is trial 685 with value: 525589.1875.\u001b[0m\n",
      "\u001b[32m[I 2022-09-30 17:57:11,345]\u001b[0m Trial 886 finished with value: 1555972.125 and parameters: {'learning_rate': 0.00012284075224433606, 'optimizer': 'NAdam', 'batch_size': 64, 'n_layers': 8, 'n_units_l0': 219, 'n_units_l1': 196, 'n_units_l2': 123, 'n_units_l3': 159, 'n_units_l4': 208, 'n_units_l5': 227, 'n_units_l6': 3, 'n_units_l7': 68}. Best is trial 685 with value: 525589.1875.\u001b[0m\n",
      "\u001b[32m[I 2022-09-30 17:57:14,234]\u001b[0m Trial 878 finished with value: 742258.625 and parameters: {'learning_rate': 0.00018164547137575974, 'optimizer': 'NAdam', 'batch_size': 64, 'n_layers': 8, 'n_units_l0': 220, 'n_units_l1': 196, 'n_units_l2': 214, 'n_units_l3': 160, 'n_units_l4': 232, 'n_units_l5': 226, 'n_units_l6': 2, 'n_units_l7': 70}. Best is trial 685 with value: 525589.1875.\u001b[0m\n",
      "\u001b[32m[I 2022-09-30 17:57:59,180]\u001b[0m Trial 895 finished with value: 818076.3125 and parameters: {'learning_rate': 0.00011274919678228381, 'optimizer': 'Adamax', 'batch_size': 64, 'n_layers': 7, 'n_units_l0': 206, 'n_units_l1': 196, 'n_units_l2': 125, 'n_units_l3': 178, 'n_units_l4': 208, 'n_units_l5': 230, 'n_units_l6': 141}. Best is trial 685 with value: 525589.1875.\u001b[0m\n",
      "\u001b[32m[I 2022-09-30 17:58:09,639]\u001b[0m Trial 900 finished with value: 1555972.125 and parameters: {'learning_rate': 0.00013526309636191952, 'optimizer': 'NAdam', 'batch_size': 64, 'n_layers': 7, 'n_units_l0': 218, 'n_units_l1': 197, 'n_units_l2': 128, 'n_units_l3': 178, 'n_units_l4': 232, 'n_units_l5': 228, 'n_units_l6': 1}. Best is trial 685 with value: 525589.1875.\u001b[0m\n",
      "\u001b[32m[I 2022-09-30 17:58:11,232]\u001b[0m Trial 891 finished with value: 1555972.125 and parameters: {'learning_rate': 0.00015972457093861312, 'optimizer': 'NAdam', 'batch_size': 64, 'n_layers': 7, 'n_units_l0': 208, 'n_units_l1': 196, 'n_units_l2': 126, 'n_units_l3': 167, 'n_units_l4': 206, 'n_units_l5': 228, 'n_units_l6': 62}. Best is trial 685 with value: 525589.1875.\u001b[0m\n",
      "\u001b[32m[I 2022-09-30 17:58:11,233]\u001b[0m Trial 894 finished with value: 1555972.125 and parameters: {'learning_rate': 0.00012367252401871302, 'optimizer': 'NAdam', 'batch_size': 64, 'n_layers': 7, 'n_units_l0': 218, 'n_units_l1': 197, 'n_units_l2': 125, 'n_units_l3': 167, 'n_units_l4': 203, 'n_units_l5': 228, 'n_units_l6': 68}. Best is trial 685 with value: 525589.1875.\u001b[0m\n",
      "\u001b[32m[I 2022-09-30 17:58:12,203]\u001b[0m Trial 890 finished with value: 696188.9375 and parameters: {'learning_rate': 0.00016408263194860889, 'optimizer': 'NAdam', 'batch_size': 64, 'n_layers': 7, 'n_units_l0': 217, 'n_units_l1': 195, 'n_units_l2': 125, 'n_units_l3': 167, 'n_units_l4': 207, 'n_units_l5': 229, 'n_units_l6': 63}. Best is trial 685 with value: 525589.1875.\u001b[0m\n",
      "\u001b[32m[I 2022-09-30 17:58:13,243]\u001b[0m Trial 893 finished with value: 1060066.25 and parameters: {'learning_rate': 0.00040019387169809014, 'optimizer': 'NAdam', 'batch_size': 64, 'n_layers': 7, 'n_units_l0': 216, 'n_units_l1': 195, 'n_units_l2': 125, 'n_units_l3': 167, 'n_units_l4': 207, 'n_units_l5': 226, 'n_units_l6': 64}. Best is trial 685 with value: 525589.1875.\u001b[0m\n",
      "\u001b[32m[I 2022-09-30 17:58:29,149]\u001b[0m Trial 879 finished with value: 622193.875 and parameters: {'learning_rate': 9.912060343759414e-05, 'optimizer': 'NAdam', 'batch_size': 64, 'n_layers': 6, 'n_units_l0': 219, 'n_units_l1': 196, 'n_units_l2': 116, 'n_units_l3': 169, 'n_units_l4': 207, 'n_units_l5': 230}. Best is trial 685 with value: 525589.1875.\u001b[0m\n",
      "\u001b[32m[I 2022-09-30 17:58:30,826]\u001b[0m Trial 884 finished with value: 628660.25 and parameters: {'learning_rate': 0.0001263790230786701, 'optimizer': 'Adam', 'batch_size': 64, 'n_layers': 6, 'n_units_l0': 207, 'n_units_l1': 181, 'n_units_l2': 127, 'n_units_l3': 164, 'n_units_l4': 205, 'n_units_l5': 232}. Best is trial 685 with value: 525589.1875.\u001b[0m\n",
      "\u001b[32m[I 2022-09-30 17:58:38,556]\u001b[0m Trial 875 finished with value: 781604.625 and parameters: {'learning_rate': 0.00013265869906803807, 'optimizer': 'Adamax', 'batch_size': 64, 'n_layers': 6, 'n_units_l0': 207, 'n_units_l1': 182, 'n_units_l2': 127, 'n_units_l3': 175, 'n_units_l4': 230, 'n_units_l5': 234}. Best is trial 685 with value: 525589.1875.\u001b[0m\n",
      "\u001b[32m[I 2022-09-30 17:59:25,664]\u001b[0m Trial 898 finished with value: 1555972.125 and parameters: {'learning_rate': 0.00015032009645085383, 'optimizer': 'NAdam', 'batch_size': 64, 'n_layers': 8, 'n_units_l0': 217, 'n_units_l1': 180, 'n_units_l2': 119, 'n_units_l3': 167, 'n_units_l4': 139, 'n_units_l5': 235, 'n_units_l6': 62, 'n_units_l7': 194}. Best is trial 685 with value: 525589.1875.\u001b[0m\n",
      "\u001b[32m[I 2022-09-30 17:59:33,175]\u001b[0m Trial 877 finished with value: 651682.75 and parameters: {'learning_rate': 0.0007129804543065375, 'optimizer': 'Adamax', 'batch_size': 64, 'n_layers': 8, 'n_units_l0': 206, 'n_units_l1': 181, 'n_units_l2': 119, 'n_units_l3': 158, 'n_units_l4': 217, 'n_units_l5': 241, 'n_units_l6': 25, 'n_units_l7': 207}. Best is trial 685 with value: 525589.1875.\u001b[0m\n",
      "\u001b[32m[I 2022-09-30 17:59:34,362]\u001b[0m Trial 885 finished with value: 782282.0 and parameters: {'learning_rate': 0.00013114177958284536, 'optimizer': 'Adamax', 'batch_size': 64, 'n_layers': 8, 'n_units_l0': 208, 'n_units_l1': 180, 'n_units_l2': 121, 'n_units_l3': 158, 'n_units_l4': 226, 'n_units_l5': 240, 'n_units_l6': 23, 'n_units_l7': 201}. Best is trial 685 with value: 525589.1875.\u001b[0m\n",
      "\u001b[32m[I 2022-09-30 17:59:41,327]\u001b[0m Trial 901 finished with value: 1555972.125 and parameters: {'learning_rate': 0.0001250618648650613, 'optimizer': 'NAdam', 'batch_size': 64, 'n_layers': 6, 'n_units_l0': 220, 'n_units_l1': 179, 'n_units_l2': 225, 'n_units_l3': 159, 'n_units_l4': 225, 'n_units_l5': 234}. Best is trial 685 with value: 525589.1875.\u001b[0m\n",
      "\u001b[32m[I 2022-09-30 17:59:48,133]\u001b[0m Trial 892 finished with value: 510015.78125 and parameters: {'learning_rate': 0.00014128787957817877, 'optimizer': 'NAdam', 'batch_size': 64, 'n_layers': 6, 'n_units_l0': 222, 'n_units_l1': 180, 'n_units_l2': 121, 'n_units_l3': 160, 'n_units_l4': 216, 'n_units_l5': 239}. Best is trial 892 with value: 510015.78125.\u001b[0m\n",
      "\u001b[32m[I 2022-09-30 17:59:55,041]\u001b[0m Trial 897 finished with value: 604177.75 and parameters: {'learning_rate': 0.00011283508125304102, 'optimizer': 'NAdam', 'batch_size': 64, 'n_layers': 6, 'n_units_l0': 208, 'n_units_l1': 180, 'n_units_l2': 224, 'n_units_l3': 163, 'n_units_l4': 215, 'n_units_l5': 235}. Best is trial 892 with value: 510015.78125.\u001b[0m\n",
      "\u001b[32m[I 2022-09-30 18:00:09,715]\u001b[0m Trial 902 finished with value: 615028.4375 and parameters: {'learning_rate': 0.00011261352484679275, 'optimizer': 'NAdam', 'batch_size': 64, 'n_layers': 8, 'n_units_l0': 208, 'n_units_l1': 180, 'n_units_l2': 116, 'n_units_l3': 164, 'n_units_l4': 224, 'n_units_l5': 241, 'n_units_l6': 24, 'n_units_l7': 202}. Best is trial 892 with value: 510015.78125.\u001b[0m\n",
      "\u001b[32m[I 2022-09-30 18:00:13,336]\u001b[0m Trial 912 finished with value: 541279.625 and parameters: {'learning_rate': 0.00012581569079932506, 'optimizer': 'NAdam', 'batch_size': 64, 'n_layers': 6, 'n_units_l0': 223, 'n_units_l1': 177, 'n_units_l2': 122, 'n_units_l3': 157, 'n_units_l4': 224, 'n_units_l5': 240}. Best is trial 892 with value: 510015.78125.\u001b[0m\n",
      "\u001b[32m[I 2022-09-30 18:00:16,742]\u001b[0m Trial 910 finished with value: 710643.25 and parameters: {'learning_rate': 0.00013074832429853895, 'optimizer': 'NAdam', 'batch_size': 64, 'n_layers': 6, 'n_units_l0': 224, 'n_units_l1': 178, 'n_units_l2': 122, 'n_units_l3': 159, 'n_units_l4': 226, 'n_units_l5': 241}. Best is trial 892 with value: 510015.78125.\u001b[0m\n",
      "\u001b[32m[I 2022-09-30 18:00:36,619]\u001b[0m Trial 913 finished with value: 1555972.125 and parameters: {'learning_rate': 0.0001378432225472098, 'optimizer': 'NAdam', 'batch_size': 64, 'n_layers': 8, 'n_units_l0': 224, 'n_units_l1': 183, 'n_units_l2': 120, 'n_units_l3': 158, 'n_units_l4': 225, 'n_units_l5': 240, 'n_units_l6': 25, 'n_units_l7': 195}. Best is trial 892 with value: 510015.78125.\u001b[0m\n",
      "\u001b[32m[I 2022-09-30 18:00:42,375]\u001b[0m Trial 903 finished with value: 1555972.125 and parameters: {'learning_rate': 0.0001510584817436901, 'optimizer': 'NAdam', 'batch_size': 64, 'n_layers': 8, 'n_units_l0': 222, 'n_units_l1': 177, 'n_units_l2': 225, 'n_units_l3': 158, 'n_units_l4': 216, 'n_units_l5': 240, 'n_units_l6': 77, 'n_units_l7': 199}. Best is trial 892 with value: 510015.78125.\u001b[0m\n",
      "\u001b[32m[I 2022-09-30 18:01:03,716]\u001b[0m Trial 911 finished with value: 622793.9375 and parameters: {'learning_rate': 0.00010514378223324518, 'optimizer': 'NAdam', 'batch_size': 64, 'n_layers': 6, 'n_units_l0': 223, 'n_units_l1': 178, 'n_units_l2': 118, 'n_units_l3': 157, 'n_units_l4': 216, 'n_units_l5': 241}. Best is trial 892 with value: 510015.78125.\u001b[0m\n",
      "\u001b[32m[I 2022-09-30 18:01:22,178]\u001b[0m Trial 915 finished with value: 594114.5625 and parameters: {'learning_rate': 9.782871579050059e-05, 'optimizer': 'NAdam', 'batch_size': 32, 'n_layers': 6, 'n_units_l0': 222, 'n_units_l1': 190, 'n_units_l2': 132, 'n_units_l3': 152, 'n_units_l4': 225, 'n_units_l5': 112}. Best is trial 892 with value: 510015.78125.\u001b[0m\n",
      "\u001b[32m[I 2022-09-30 18:01:29,700]\u001b[0m Trial 896 finished with value: 577578.9375 and parameters: {'learning_rate': 0.0001839080180505882, 'optimizer': 'NAdam', 'batch_size': 64, 'n_layers': 6, 'n_units_l0': 223, 'n_units_l1': 176, 'n_units_l2': 131, 'n_units_l3': 152, 'n_units_l4': 216, 'n_units_l5': 111}. Best is trial 892 with value: 510015.78125.\u001b[0m\n",
      "\u001b[32m[I 2022-09-30 18:01:29,895]\u001b[0m Trial 921 finished with value: 676175.0625 and parameters: {'learning_rate': 8.345521888154758e-05, 'optimizer': 'NAdam', 'batch_size': 64, 'n_layers': 6, 'n_units_l0': 224, 'n_units_l1': 174, 'n_units_l2': 115, 'n_units_l3': 153, 'n_units_l4': 216, 'n_units_l5': 249}. Best is trial 892 with value: 510015.78125.\u001b[0m\n",
      "\u001b[32m[I 2022-09-30 18:01:35,726]\u001b[0m Trial 889 finished with value: 1555972.125 and parameters: {'learning_rate': 0.00012735556075866973, 'optimizer': 'NAdam', 'batch_size': 64, 'n_layers': 6, 'n_units_l0': 225, 'n_units_l1': 175, 'n_units_l2': 118, 'n_units_l3': 154, 'n_units_l4': 216, 'n_units_l5': 247}. Best is trial 892 with value: 510015.78125.\u001b[0m\n",
      "\u001b[32m[I 2022-09-30 18:01:39,499]\u001b[0m Trial 917 finished with value: 758392.25 and parameters: {'learning_rate': 9.376671499990651e-05, 'optimizer': 'Adamax', 'batch_size': 32, 'n_layers': 6, 'n_units_l0': 224, 'n_units_l1': 186, 'n_units_l2': 224, 'n_units_l3': 188, 'n_units_l4': 214, 'n_units_l5': 248}. Best is trial 892 with value: 510015.78125.\u001b[0m\n",
      "\u001b[32m[I 2022-09-30 18:01:41,561]\u001b[0m Trial 899 finished with value: 612330.0 and parameters: {'learning_rate': 0.00015703917560558797, 'optimizer': 'NAdam', 'batch_size': 64, 'n_layers': 6, 'n_units_l0': 223, 'n_units_l1': 186, 'n_units_l2': 112, 'n_units_l3': 152, 'n_units_l4': 217, 'n_units_l5': 248}. Best is trial 892 with value: 510015.78125.\u001b[0m\n",
      "\u001b[32m[I 2022-09-30 18:01:45,361]\u001b[0m Trial 919 finished with value: 1555972.125 and parameters: {'learning_rate': 9.09250217083474e-05, 'optimizer': 'NAdam', 'batch_size': 64, 'n_layers': 6, 'n_units_l0': 227, 'n_units_l1': 173, 'n_units_l2': 131, 'n_units_l3': 152, 'n_units_l4': 213, 'n_units_l5': 247}. Best is trial 892 with value: 510015.78125.\u001b[0m\n",
      "\u001b[32m[I 2022-09-30 18:01:47,963]\u001b[0m Trial 916 finished with value: 1020583.4375 and parameters: {'learning_rate': 0.0007183984479111459, 'optimizer': 'NAdam', 'batch_size': 32, 'n_layers': 6, 'n_units_l0': 224, 'n_units_l1': 186, 'n_units_l2': 209, 'n_units_l3': 150, 'n_units_l4': 216, 'n_units_l5': 209}. Best is trial 892 with value: 510015.78125.\u001b[0m\n",
      "\u001b[32m[I 2022-09-30 18:02:05,032]\u001b[0m Trial 906 finished with value: 1555972.125 and parameters: {'learning_rate': 0.00014132927933669244, 'optimizer': 'NAdam', 'batch_size': 64, 'n_layers': 6, 'n_units_l0': 229, 'n_units_l1': 175, 'n_units_l2': 132, 'n_units_l3': 153, 'n_units_l4': 216, 'n_units_l5': 243}. Best is trial 892 with value: 510015.78125.\u001b[0m\n",
      "\u001b[32m[I 2022-09-30 18:02:06,994]\u001b[0m Trial 908 finished with value: 611519.6875 and parameters: {'learning_rate': 0.00013431365730858313, 'optimizer': 'NAdam', 'batch_size': 64, 'n_layers': 6, 'n_units_l0': 231, 'n_units_l1': 173, 'n_units_l2': 116, 'n_units_l3': 150, 'n_units_l4': 216, 'n_units_l5': 251}. Best is trial 892 with value: 510015.78125.\u001b[0m\n",
      "\u001b[32m[I 2022-09-30 18:02:30,806]\u001b[0m Trial 914 finished with value: 1555972.125 and parameters: {'learning_rate': 0.00012119929705544616, 'optimizer': 'NAdam', 'batch_size': 32, 'n_layers': 6, 'n_units_l0': 223, 'n_units_l1': 176, 'n_units_l2': 123, 'n_units_l3': 150, 'n_units_l4': 216, 'n_units_l5': 248}. Best is trial 892 with value: 510015.78125.\u001b[0m\n",
      "\u001b[32m[I 2022-09-30 18:02:42,446]\u001b[0m Trial 922 finished with value: 645996.375 and parameters: {'learning_rate': 0.00016823734485786013, 'optimizer': 'NAdam', 'batch_size': 64, 'n_layers': 6, 'n_units_l0': 229, 'n_units_l1': 172, 'n_units_l2': 109, 'n_units_l3': 152, 'n_units_l4': 217, 'n_units_l5': 245}. Best is trial 892 with value: 510015.78125.\u001b[0m\n",
      "\u001b[32m[I 2022-09-30 18:02:55,314]\u001b[0m Trial 920 finished with value: 664857.6875 and parameters: {'learning_rate': 9.861855494365364e-05, 'optimizer': 'NAdam', 'batch_size': 64, 'n_layers': 6, 'n_units_l0': 237, 'n_units_l1': 173, 'n_units_l2': 131, 'n_units_l3': 144, 'n_units_l4': 222, 'n_units_l5': 214}. Best is trial 892 with value: 510015.78125.\u001b[0m\n",
      "\u001b[32m[I 2022-09-30 18:02:57,579]\u001b[0m Trial 918 finished with value: 653284.3125 and parameters: {'learning_rate': 0.00010119859793990685, 'optimizer': 'NAdam', 'batch_size': 64, 'n_layers': 6, 'n_units_l0': 215, 'n_units_l1': 171, 'n_units_l2': 122, 'n_units_l3': 146, 'n_units_l4': 222, 'n_units_l5': 216}. Best is trial 892 with value: 510015.78125.\u001b[0m\n",
      "\u001b[32m[I 2022-09-30 18:03:07,441]\u001b[0m Trial 909 finished with value: 1555972.125 and parameters: {'learning_rate': 0.00014334560499510386, 'optimizer': 'Adamax', 'batch_size': 64, 'n_layers': 6, 'n_units_l0': 229, 'n_units_l1': 172, 'n_units_l2': 130, 'n_units_l3': 144, 'n_units_l4': 222, 'n_units_l5': 216}. Best is trial 892 with value: 510015.78125.\u001b[0m\n",
      "\u001b[32m[I 2022-09-30 18:03:18,072]\u001b[0m Trial 907 finished with value: 1555972.125 and parameters: {'learning_rate': 0.00011707296971669273, 'optimizer': 'NAdam', 'batch_size': 64, 'n_layers': 6, 'n_units_l0': 215, 'n_units_l1': 172, 'n_units_l2': 131, 'n_units_l3': 145, 'n_units_l4': 222, 'n_units_l5': 215}. Best is trial 892 with value: 510015.78125.\u001b[0m\n",
      "\u001b[32m[I 2022-09-30 18:03:53,836]\u001b[0m Trial 904 finished with value: 1555972.125 and parameters: {'learning_rate': 0.00013714831631434822, 'optimizer': 'NAdam', 'batch_size': 64, 'n_layers': 6, 'n_units_l0': 215, 'n_units_l1': 191, 'n_units_l2': 121, 'n_units_l3': 164, 'n_units_l4': 231, 'n_units_l5': 215}. Best is trial 892 with value: 510015.78125.\u001b[0m\n",
      "\u001b[32m[I 2022-09-30 18:04:17,424]\u001b[0m Trial 905 finished with value: 1555972.125 and parameters: {'learning_rate': 0.00016284595252013113, 'optimizer': 'NAdam', 'batch_size': 64, 'n_layers': 6, 'n_units_l0': 213, 'n_units_l1': 190, 'n_units_l2': 122, 'n_units_l3': 164, 'n_units_l4': 197, 'n_units_l5': 234}. Best is trial 892 with value: 510015.78125.\u001b[0m\n",
      "\u001b[32m[I 2022-09-30 18:04:26,456]\u001b[0m Trial 943 finished with value: 1555972.125 and parameters: {'learning_rate': 0.0001798258421524583, 'optimizer': 'NAdam', 'batch_size': 64, 'n_layers': 6, 'n_units_l0': 214, 'n_units_l1': 191, 'n_units_l2': 225, 'n_units_l3': 162, 'n_units_l4': 229, 'n_units_l5': 235}. Best is trial 892 with value: 510015.78125.\u001b[0m\n",
      "\u001b[32m[I 2022-09-30 18:04:53,606]\u001b[0m Trial 927 finished with value: 677902.125 and parameters: {'learning_rate': 8.238326464424519e-05, 'optimizer': 'NAdam', 'batch_size': 64, 'n_layers': 6, 'n_units_l0': 212, 'n_units_l1': 192, 'n_units_l2': 113, 'n_units_l3': 164, 'n_units_l4': 197, 'n_units_l5': 235}. Best is trial 892 with value: 510015.78125.\u001b[0m\n",
      "\u001b[32m[I 2022-09-30 18:04:53,784]\u001b[0m Trial 924 finished with value: 701214.0625 and parameters: {'learning_rate': 8.895440175412037e-05, 'optimizer': 'NAdam', 'batch_size': 64, 'n_layers': 6, 'n_units_l0': 217, 'n_units_l1': 191, 'n_units_l2': 109, 'n_units_l3': 165, 'n_units_l4': 66, 'n_units_l5': 235}. Best is trial 892 with value: 510015.78125.\u001b[0m\n",
      "\u001b[32m[I 2022-09-30 18:04:54,978]\u001b[0m Trial 926 finished with value: 760534.375 and parameters: {'learning_rate': 0.00017777537466653217, 'optimizer': 'NAdam', 'batch_size': 64, 'n_layers': 6, 'n_units_l0': 213, 'n_units_l1': 191, 'n_units_l2': 111, 'n_units_l3': 164, 'n_units_l4': 231, 'n_units_l5': 125}. Best is trial 892 with value: 510015.78125.\u001b[0m\n",
      "\u001b[32m[I 2022-09-30 18:04:56,225]\u001b[0m Trial 942 finished with value: 766512.3125 and parameters: {'learning_rate': 5.70023290613027e-05, 'optimizer': 'NAdam', 'batch_size': 64, 'n_layers': 6, 'n_units_l0': 214, 'n_units_l1': 191, 'n_units_l2': 121, 'n_units_l3': 163, 'n_units_l4': 67, 'n_units_l5': 236}. Best is trial 892 with value: 510015.78125.\u001b[0m\n",
      "\u001b[32m[I 2022-09-30 18:04:59,718]\u001b[0m Trial 932 finished with value: 1555972.125 and parameters: {'learning_rate': 0.00018555109265468557, 'optimizer': 'NAdam', 'batch_size': 64, 'n_layers': 6, 'n_units_l0': 214, 'n_units_l1': 184, 'n_units_l2': 108, 'n_units_l3': 165, 'n_units_l4': 231, 'n_units_l5': 236}. Best is trial 892 with value: 510015.78125.\u001b[0m\n",
      "\u001b[32m[I 2022-09-30 18:04:59,920]\u001b[0m Trial 941 finished with value: 967356.0 and parameters: {'learning_rate': 0.0007206756373098236, 'optimizer': 'NAdam', 'batch_size': 64, 'n_layers': 6, 'n_units_l0': 213, 'n_units_l1': 191, 'n_units_l2': 127, 'n_units_l3': 162, 'n_units_l4': 232, 'n_units_l5': 126}. Best is trial 892 with value: 510015.78125.\u001b[0m\n",
      "\u001b[32m[I 2022-09-30 18:05:03,542]\u001b[0m Trial 923 finished with value: 570467.75 and parameters: {'learning_rate': 0.000168124285316562, 'optimizer': 'NAdam', 'batch_size': 64, 'n_layers': 6, 'n_units_l0': 237, 'n_units_l1': 184, 'n_units_l2': 118, 'n_units_l3': 164, 'n_units_l4': 229, 'n_units_l5': 234}. Best is trial 892 with value: 510015.78125.\u001b[0m\n",
      "\u001b[32m[I 2022-09-30 18:05:05,603]\u001b[0m Trial 936 finished with value: 732169.25 and parameters: {'learning_rate': 0.00019537579269675672, 'optimizer': 'NAdam', 'batch_size': 64, 'n_layers': 6, 'n_units_l0': 213, 'n_units_l1': 184, 'n_units_l2': 119, 'n_units_l3': 164, 'n_units_l4': 231, 'n_units_l5': 235}. Best is trial 892 with value: 510015.78125.\u001b[0m\n",
      "\u001b[32m[I 2022-09-30 18:05:08,154]\u001b[0m Trial 935 finished with value: 1555972.125 and parameters: {'learning_rate': 0.00016723588974967612, 'optimizer': 'NAdam', 'batch_size': 64, 'n_layers': 6, 'n_units_l0': 213, 'n_units_l1': 191, 'n_units_l2': 123, 'n_units_l3': 165, 'n_units_l4': 231, 'n_units_l5': 233}. Best is trial 892 with value: 510015.78125.\u001b[0m\n",
      "\u001b[32m[I 2022-09-30 18:06:14,473]\u001b[0m Trial 939 finished with value: 666598.125 and parameters: {'learning_rate': 0.00019153394969656165, 'optimizer': 'NAdam', 'batch_size': 64, 'n_layers': 6, 'n_units_l0': 234, 'n_units_l1': 184, 'n_units_l2': 239, 'n_units_l3': 137, 'n_units_l4': 210, 'n_units_l5': 222}. Best is trial 892 with value: 510015.78125.\u001b[0m\n",
      "\u001b[32m[I 2022-09-30 18:06:16,113]\u001b[0m Trial 940 finished with value: 732044.4375 and parameters: {'learning_rate': 0.00017645631649997553, 'optimizer': 'NAdam', 'batch_size': 64, 'n_layers': 6, 'n_units_l0': 239, 'n_units_l1': 179, 'n_units_l2': 113, 'n_units_l3': 137, 'n_units_l4': 224, 'n_units_l5': 222}. Best is trial 892 with value: 510015.78125.\u001b[0m\n",
      "\u001b[32m[I 2022-09-30 18:06:16,607]\u001b[0m Trial 930 finished with value: 1555972.125 and parameters: {'learning_rate': 0.00017541183590672206, 'optimizer': 'NAdam', 'batch_size': 64, 'n_layers': 6, 'n_units_l0': 237, 'n_units_l1': 182, 'n_units_l2': 239, 'n_units_l3': 137, 'n_units_l4': 230, 'n_units_l5': 223}. Best is trial 892 with value: 510015.78125.\u001b[0m\n",
      "\u001b[32m[I 2022-09-30 18:06:18,846]\u001b[0m Trial 944 finished with value: 970948.5625 and parameters: {'learning_rate': 0.0006981665267590431, 'optimizer': 'NAdam', 'batch_size': 64, 'n_layers': 6, 'n_units_l0': 236, 'n_units_l1': 182, 'n_units_l2': 239, 'n_units_l3': 175, 'n_units_l4': 211, 'n_units_l5': 222}. Best is trial 892 with value: 510015.78125.\u001b[0m\n",
      "\u001b[32m[I 2022-09-30 18:06:20,848]\u001b[0m Trial 925 finished with value: 1555972.125 and parameters: {'learning_rate': 0.00017799513915608316, 'optimizer': 'NAdam', 'batch_size': 64, 'n_layers': 6, 'n_units_l0': 237, 'n_units_l1': 162, 'n_units_l2': 117, 'n_units_l3': 173, 'n_units_l4': 210, 'n_units_l5': 222}. Best is trial 892 with value: 510015.78125.\u001b[0m\n",
      "\u001b[32m[I 2022-09-30 18:06:22,992]\u001b[0m Trial 933 finished with value: 576445.875 and parameters: {'learning_rate': 0.00017389457835564884, 'optimizer': 'NAdam', 'batch_size': 64, 'n_layers': 6, 'n_units_l0': 233, 'n_units_l1': 180, 'n_units_l2': 113, 'n_units_l3': 170, 'n_units_l4': 226, 'n_units_l5': 223}. Best is trial 892 with value: 510015.78125.\u001b[0m\n",
      "\u001b[32m[I 2022-09-30 18:06:41,311]\u001b[0m Trial 938 finished with value: 1555972.125 and parameters: {'learning_rate': 0.0006821950891478461, 'optimizer': 'NAdam', 'batch_size': 64, 'n_layers': 6, 'n_units_l0': 230, 'n_units_l1': 161, 'n_units_l2': 113, 'n_units_l3': 155, 'n_units_l4': 226, 'n_units_l5': 253}. Best is trial 892 with value: 510015.78125.\u001b[0m\n",
      "\u001b[32m[I 2022-09-30 18:07:22,211]\u001b[0m Trial 934 finished with value: 610364.125 and parameters: {'learning_rate': 0.0001867639308264523, 'optimizer': 'NAdam', 'batch_size': 64, 'n_layers': 6, 'n_units_l0': 241, 'n_units_l1': 164, 'n_units_l2': 126, 'n_units_l3': 156, 'n_units_l4': 155, 'n_units_l5': 98}. Best is trial 892 with value: 510015.78125.\u001b[0m\n",
      "\u001b[32m[I 2022-09-30 18:07:26,381]\u001b[0m Trial 928 finished with value: 577564.375 and parameters: {'learning_rate': 0.00019439820089230353, 'optimizer': 'NAdam', 'batch_size': 64, 'n_layers': 6, 'n_units_l0': 238, 'n_units_l1': 161, 'n_units_l2': 113, 'n_units_l3': 156, 'n_units_l4': 256, 'n_units_l5': 207}. Best is trial 892 with value: 510015.78125.\u001b[0m\n",
      "\u001b[32m[I 2022-09-30 18:07:31,477]\u001b[0m Trial 929 finished with value: 592081.375 and parameters: {'learning_rate': 0.00017382406073647406, 'optimizer': 'NAdam', 'batch_size': 64, 'n_layers': 6, 'n_units_l0': 238, 'n_units_l1': 178, 'n_units_l2': 135, 'n_units_l3': 156, 'n_units_l4': 226, 'n_units_l5': 255}. Best is trial 892 with value: 510015.78125.\u001b[0m\n",
      "\u001b[32m[I 2022-09-30 18:08:21,920]\u001b[0m Trial 937 finished with value: 1555972.125 and parameters: {'learning_rate': 0.00019166164415158977, 'optimizer': 'NAdam', 'batch_size': 64, 'n_layers': 6, 'n_units_l0': 241, 'n_units_l1': 178, 'n_units_l2': 119, 'n_units_l3': 146, 'n_units_l4': 239, 'n_units_l5': 205}. Best is trial 892 with value: 510015.78125.\u001b[0m\n",
      "\u001b[32m[I 2022-09-30 18:08:25,515]\u001b[0m Trial 931 finished with value: 1555972.125 and parameters: {'learning_rate': 0.00017573504074152322, 'optimizer': 'NAdam', 'batch_size': 64, 'n_layers': 6, 'n_units_l0': 229, 'n_units_l1': 177, 'n_units_l2': 118, 'n_units_l3': 147, 'n_units_l4': 239, 'n_units_l5': 244}. Best is trial 892 with value: 510015.78125.\u001b[0m\n",
      "\u001b[32m[I 2022-09-30 18:08:53,317]\u001b[0m Trial 952 finished with value: 719452.25 and parameters: {'learning_rate': 0.00019421265360004535, 'optimizer': 'Adamax', 'batch_size': 64, 'n_layers': 6, 'n_units_l0': 230, 'n_units_l1': 184, 'n_units_l2': 128, 'n_units_l3': 142, 'n_units_l4': 239, 'n_units_l5': 119}. Best is trial 892 with value: 510015.78125.\u001b[0m\n",
      "\u001b[32m[I 2022-09-30 18:08:54,749]\u001b[0m Trial 951 finished with value: 1555972.125 and parameters: {'learning_rate': 0.00020077698423277298, 'optimizer': 'Adamax', 'batch_size': 64, 'n_layers': 6, 'n_units_l0': 232, 'n_units_l1': 168, 'n_units_l2': 103, 'n_units_l3': 147, 'n_units_l4': 241, 'n_units_l5': 244}. Best is trial 892 with value: 510015.78125.\u001b[0m\n",
      "\u001b[32m[I 2022-09-30 18:08:59,575]\u001b[0m Trial 958 finished with value: 1555972.125 and parameters: {'learning_rate': 0.0006352460986370144, 'optimizer': 'Adamax', 'batch_size': 64, 'n_layers': 6, 'n_units_l0': 230, 'n_units_l1': 183, 'n_units_l2': 256, 'n_units_l3': 142, 'n_units_l4': 235, 'n_units_l5': 118}. Best is trial 892 with value: 510015.78125.\u001b[0m\n",
      "\u001b[32m[I 2022-09-30 18:09:03,023]\u001b[0m Trial 965 finished with value: 1555972.125 and parameters: {'learning_rate': 0.0004968085158070216, 'optimizer': 'Adamax', 'batch_size': 64, 'n_layers': 6, 'n_units_l0': 232, 'n_units_l1': 184, 'n_units_l2': 103, 'n_units_l3': 148, 'n_units_l4': 238, 'n_units_l5': 244}. Best is trial 892 with value: 510015.78125.\u001b[0m\n",
      "\u001b[32m[I 2022-09-30 18:09:04,431]\u001b[0m Trial 964 finished with value: 606170.0625 and parameters: {'learning_rate': 0.0005052653256448512, 'optimizer': 'Adamax', 'batch_size': 64, 'n_layers': 6, 'n_units_l0': 229, 'n_units_l1': 184, 'n_units_l2': 123, 'n_units_l3': 145, 'n_units_l4': 240, 'n_units_l5': 158}. Best is trial 892 with value: 510015.78125.\u001b[0m\n",
      "\u001b[32m[I 2022-09-30 18:09:06,628]\u001b[0m Trial 960 finished with value: 1555972.125 and parameters: {'learning_rate': 0.00021527785593421423, 'optimizer': 'Adamax', 'batch_size': 64, 'n_layers': 6, 'n_units_l0': 229, 'n_units_l1': 184, 'n_units_l2': 119, 'n_units_l3': 148, 'n_units_l4': 240, 'n_units_l5': 240}. Best is trial 892 with value: 510015.78125.\u001b[0m\n",
      "\u001b[32m[I 2022-09-30 18:09:08,342]\u001b[0m Trial 948 finished with value: 1555972.125 and parameters: {'learning_rate': 0.00019825896180013103, 'optimizer': 'NAdam', 'batch_size': 64, 'n_layers': 6, 'n_units_l0': 230, 'n_units_l1': 183, 'n_units_l2': 119, 'n_units_l3': 148, 'n_units_l4': 132, 'n_units_l5': 241}. Best is trial 892 with value: 510015.78125.\u001b[0m\n",
      "\u001b[32m[I 2022-09-30 18:09:13,682]\u001b[0m Trial 949 finished with value: 1555972.125 and parameters: {'learning_rate': 0.00020149314565065684, 'optimizer': 'NAdam', 'batch_size': 64, 'n_layers': 6, 'n_units_l0': 230, 'n_units_l1': 168, 'n_units_l2': 127, 'n_units_l3': 147, 'n_units_l4': 236, 'n_units_l5': 244}. Best is trial 892 with value: 510015.78125.\u001b[0m\n",
      "\u001b[32m[I 2022-09-30 18:09:19,151]\u001b[0m Trial 950 finished with value: 1555972.125 and parameters: {'learning_rate': 0.0007143185991038363, 'optimizer': 'NAdam', 'batch_size': 64, 'n_layers': 6, 'n_units_l0': 230, 'n_units_l1': 184, 'n_units_l2': 249, 'n_units_l3': 147, 'n_units_l4': 240, 'n_units_l5': 211}. Best is trial 892 with value: 510015.78125.\u001b[0m\n",
      "\u001b[32m[I 2022-09-30 18:09:32,624]\u001b[0m Trial 959 finished with value: 1555972.125 and parameters: {'learning_rate': 0.0002046858867781286, 'optimizer': 'Adamax', 'batch_size': 64, 'n_layers': 6, 'n_units_l0': 229, 'n_units_l1': 183, 'n_units_l2': 253, 'n_units_l3': 199, 'n_units_l4': 221, 'n_units_l5': 151}. Best is trial 892 with value: 510015.78125.\u001b[0m\n",
      "\u001b[32m[I 2022-09-30 18:10:14,807]\u001b[0m Trial 961 finished with value: 730122.125 and parameters: {'learning_rate': 0.00021542218438194233, 'optimizer': 'Adamax', 'batch_size': 64, 'n_layers': 6, 'n_units_l0': 228, 'n_units_l1': 185, 'n_units_l2': 248, 'n_units_l3': 171, 'n_units_l4': 221, 'n_units_l5': 211}. Best is trial 892 with value: 510015.78125.\u001b[0m\n",
      "\u001b[32m[I 2022-09-30 18:10:17,423]\u001b[0m Trial 966 finished with value: 560922.9375 and parameters: {'learning_rate': 0.0005049506069438356, 'optimizer': 'Adamax', 'batch_size': 64, 'n_layers': 6, 'n_units_l0': 220, 'n_units_l1': 173, 'n_units_l2': 127, 'n_units_l3': 158, 'n_units_l4': 222, 'n_units_l5': 211}. Best is trial 892 with value: 510015.78125.\u001b[0m\n",
      "\u001b[32m[I 2022-09-30 18:10:24,416]\u001b[0m Trial 963 finished with value: 591764.5625 and parameters: {'learning_rate': 0.0005137791036324458, 'optimizer': 'Adamax', 'batch_size': 64, 'n_layers': 6, 'n_units_l0': 219, 'n_units_l1': 172, 'n_units_l2': 248, 'n_units_l3': 157, 'n_units_l4': 221, 'n_units_l5': 212}. Best is trial 892 with value: 510015.78125.\u001b[0m\n",
      "\u001b[32m[I 2022-09-30 18:10:26,231]\u001b[0m Trial 945 finished with value: 1555972.125 and parameters: {'learning_rate': 0.00016661018311285217, 'optimizer': 'NAdam', 'batch_size': 64, 'n_layers': 6, 'n_units_l0': 228, 'n_units_l1': 185, 'n_units_l2': 252, 'n_units_l3': 149, 'n_units_l4': 221, 'n_units_l5': 211}. Best is trial 892 with value: 510015.78125.\u001b[0m\n",
      "\u001b[32m[I 2022-09-30 18:10:27,294]\u001b[0m Trial 957 finished with value: 611813.875 and parameters: {'learning_rate': 0.0007025953655356475, 'optimizer': 'Adamax', 'batch_size': 64, 'n_layers': 6, 'n_units_l0': 248, 'n_units_l1': 173, 'n_units_l2': 247, 'n_units_l3': 170, 'n_units_l4': 221, 'n_units_l5': 226}. Best is trial 892 with value: 510015.78125.\u001b[0m\n",
      "\u001b[32m[I 2022-09-30 18:10:28,836]\u001b[0m Trial 947 finished with value: 1555972.125 and parameters: {'learning_rate': 0.0007322329091004439, 'optimizer': 'Adamax', 'batch_size': 64, 'n_layers': 6, 'n_units_l0': 200, 'n_units_l1': 174, 'n_units_l2': 135, 'n_units_l3': 171, 'n_units_l4': 221, 'n_units_l5': 151}. Best is trial 892 with value: 510015.78125.\u001b[0m\n",
      "\u001b[32m[I 2022-09-30 18:11:18,277]\u001b[0m Trial 962 finished with value: 662794.125 and parameters: {'learning_rate': 0.0007032580734756471, 'optimizer': 'Adamax', 'batch_size': 64, 'n_layers': 6, 'n_units_l0': 219, 'n_units_l1': 167, 'n_units_l2': 135, 'n_units_l3': 156, 'n_units_l4': 229, 'n_units_l5': 218}. Best is trial 892 with value: 510015.78125.\u001b[0m\n",
      "\u001b[32m[I 2022-09-30 18:11:25,802]\u001b[0m Trial 980 finished with value: 1555972.125 and parameters: {'learning_rate': 0.000700629951427593, 'optimizer': 'Adamax', 'batch_size': 64, 'n_layers': 6, 'n_units_l0': 220, 'n_units_l1': 167, 'n_units_l2': 133, 'n_units_l3': 159, 'n_units_l4': 227, 'n_units_l5': 32}. Best is trial 892 with value: 510015.78125.\u001b[0m\n",
      "\u001b[32m[I 2022-09-30 18:11:26,921]\u001b[0m Trial 973 finished with value: 584262.6875 and parameters: {'learning_rate': 0.0006986934585793799, 'optimizer': 'Adamax', 'batch_size': 64, 'n_layers': 6, 'n_units_l0': 220, 'n_units_l1': 166, 'n_units_l2': 129, 'n_units_l3': 159, 'n_units_l4': 228, 'n_units_l5': 204}. Best is trial 892 with value: 510015.78125.\u001b[0m\n",
      "\u001b[32m[I 2022-09-30 18:11:29,422]\u001b[0m Trial 982 finished with value: 1555972.125 and parameters: {'learning_rate': 0.0005118104381630175, 'optimizer': 'Adamax', 'batch_size': 64, 'n_layers': 6, 'n_units_l0': 220, 'n_units_l1': 168, 'n_units_l2': 136, 'n_units_l3': 160, 'n_units_l4': 247, 'n_units_l5': 205}. Best is trial 892 with value: 510015.78125.\u001b[0m\n",
      "\u001b[32m[I 2022-09-30 18:11:43,313]\u001b[0m Trial 954 finished with value: 1555972.125 and parameters: {'learning_rate': 0.0007074188378134191, 'optimizer': 'Adamax', 'batch_size': 64, 'n_layers': 6, 'n_units_l0': 220, 'n_units_l1': 174, 'n_units_l2': 135, 'n_units_l3': 158, 'n_units_l4': 228, 'n_units_l5': 205}. Best is trial 892 with value: 510015.78125.\u001b[0m\n",
      "\u001b[32m[I 2022-09-30 18:11:56,971]\u001b[0m Trial 956 finished with value: 1555972.125 and parameters: {'learning_rate': 0.00019835636883910494, 'optimizer': 'Adamax', 'batch_size': 64, 'n_layers': 6, 'n_units_l0': 220, 'n_units_l1': 166, 'n_units_l2': 130, 'n_units_l3': 160, 'n_units_l4': 227, 'n_units_l5': 217}. Best is trial 892 with value: 510015.78125.\u001b[0m\n",
      "\u001b[32m[I 2022-09-30 18:11:58,283]\u001b[0m Trial 955 finished with value: 586459.0625 and parameters: {'learning_rate': 0.0006409530162387183, 'optimizer': 'Adamax', 'batch_size': 64, 'n_layers': 6, 'n_units_l0': 219, 'n_units_l1': 169, 'n_units_l2': 126, 'n_units_l3': 160, 'n_units_l4': 228, 'n_units_l5': 204}. Best is trial 892 with value: 510015.78125.\u001b[0m\n",
      "\u001b[32m[I 2022-09-30 18:12:04,725]\u001b[0m Trial 969 finished with value: 552278.125 and parameters: {'learning_rate': 0.00051397865368995, 'optimizer': 'Adamax', 'batch_size': 64, 'n_layers': 6, 'n_units_l0': 220, 'n_units_l1': 171, 'n_units_l2': 137, 'n_units_l3': 159, 'n_units_l4': 228, 'n_units_l5': 206}. Best is trial 892 with value: 510015.78125.\u001b[0m\n",
      "\u001b[32m[I 2022-09-30 18:12:07,154]\u001b[0m Trial 978 finished with value: 1555972.125 and parameters: {'learning_rate': 0.00041518997119709236, 'optimizer': 'Adamax', 'batch_size': 64, 'n_layers': 6, 'n_units_l0': 220, 'n_units_l1': 165, 'n_units_l2': 132, 'n_units_l3': 159, 'n_units_l4': 229, 'n_units_l5': 205}. Best is trial 892 with value: 510015.78125.\u001b[0m\n",
      "\u001b[32m[I 2022-09-30 18:12:07,856]\u001b[0m Trial 976 finished with value: 602491.4375 and parameters: {'learning_rate': 0.000405994709448517, 'optimizer': 'Adamax', 'batch_size': 64, 'n_layers': 6, 'n_units_l0': 221, 'n_units_l1': 166, 'n_units_l2': 130, 'n_units_l3': 157, 'n_units_l4': 228, 'n_units_l5': 197}. Best is trial 892 with value: 510015.78125.\u001b[0m\n",
      "\u001b[32m[I 2022-09-30 18:12:21,884]\u001b[0m Trial 983 finished with value: 576599.6875 and parameters: {'learning_rate': 0.000516609303049212, 'optimizer': 'Adamax', 'batch_size': 64, 'n_layers': 6, 'n_units_l0': 221, 'n_units_l1': 176, 'n_units_l2': 129, 'n_units_l3': 157, 'n_units_l4': 228, 'n_units_l5': 204}. Best is trial 892 with value: 510015.78125.\u001b[0m\n",
      "\u001b[32m[I 2022-09-30 18:12:24,085]\u001b[0m Trial 984 finished with value: 1555084.5 and parameters: {'learning_rate': 1.4415821544454341e-05, 'optimizer': 'Adamax', 'batch_size': 64, 'n_layers': 6, 'n_units_l0': 236, 'n_units_l1': 32, 'n_units_l2': 129, 'n_units_l3': 183, 'n_units_l4': 231, 'n_units_l5': 187}. Best is trial 892 with value: 510015.78125.\u001b[0m\n",
      "\u001b[32m[I 2022-09-30 18:12:38,876]\u001b[0m Trial 953 finished with value: 712177.0 and parameters: {'learning_rate': 0.00021126107887395042, 'optimizer': 'Adamax', 'batch_size': 64, 'n_layers': 6, 'n_units_l0': 235, 'n_units_l1': 197, 'n_units_l2': 125, 'n_units_l3': 152, 'n_units_l4': 211, 'n_units_l5': 195}. Best is trial 892 with value: 510015.78125.\u001b[0m\n",
      "\u001b[32m[I 2022-09-30 18:12:43,601]\u001b[0m Trial 946 finished with value: 729715.0625 and parameters: {'learning_rate': 5.839603286725776e-05, 'optimizer': 'NAdam', 'batch_size': 64, 'n_layers': 6, 'n_units_l0': 236, 'n_units_l1': 200, 'n_units_l2': 127, 'n_units_l3': 157, 'n_units_l4': 233, 'n_units_l5': 198}. Best is trial 892 with value: 510015.78125.\u001b[0m\n",
      "\u001b[32m[I 2022-09-30 18:13:15,372]\u001b[0m Trial 974 finished with value: 661244.0625 and parameters: {'learning_rate': 0.0007259804262100697, 'optimizer': 'Adamax', 'batch_size': 64, 'n_layers': 6, 'n_units_l0': 225, 'n_units_l1': 175, 'n_units_l2': 140, 'n_units_l3': 153, 'n_units_l4': 203, 'n_units_l5': 186}. Best is trial 892 with value: 510015.78125.\u001b[0m\n",
      "\u001b[32m[I 2022-09-30 18:13:20,651]\u001b[0m Trial 967 finished with value: 1555972.125 and parameters: {'learning_rate': 0.09832825783390683, 'optimizer': 'Adamax', 'batch_size': 64, 'n_layers': 6, 'n_units_l0': 224, 'n_units_l1': 173, 'n_units_l2': 242, 'n_units_l3': 153, 'n_units_l4': 211, 'n_units_l5': 196}. Best is trial 892 with value: 510015.78125.\u001b[0m\n",
      "\u001b[32m[I 2022-09-30 18:13:23,178]\u001b[0m Trial 981 finished with value: 549628.5 and parameters: {'learning_rate': 0.0006756690941459062, 'optimizer': 'Adamax', 'batch_size': 64, 'n_layers': 7, 'n_units_l0': 224, 'n_units_l1': 175, 'n_units_l2': 139, 'n_units_l3': 155, 'n_units_l4': 201, 'n_units_l5': 200, 'n_units_l6': 141}. Best is trial 892 with value: 510015.78125.\u001b[0m\n",
      "\u001b[32m[I 2022-09-30 18:14:19,564]\u001b[0m Trial 970 finished with value: 1555972.125 and parameters: {'learning_rate': 0.0007202306090266862, 'optimizer': 'Adamax', 'batch_size': 64, 'n_layers': 7, 'n_units_l0': 225, 'n_units_l1': 161, 'n_units_l2': 243, 'n_units_l3': 153, 'n_units_l4': 121, 'n_units_l5': 214, 'n_units_l6': 136}. Best is trial 892 with value: 510015.78125.\u001b[0m\n",
      "\u001b[32m[I 2022-09-30 18:14:25,117]\u001b[0m Trial 972 finished with value: 626061.9375 and parameters: {'learning_rate': 0.0007211221785875138, 'optimizer': 'Adamax', 'batch_size': 64, 'n_layers': 7, 'n_units_l0': 224, 'n_units_l1': 156, 'n_units_l2': 139, 'n_units_l3': 153, 'n_units_l4': 202, 'n_units_l5': 210, 'n_units_l6': 137}. Best is trial 892 with value: 510015.78125.\u001b[0m\n",
      "\u001b[32m[I 2022-09-30 18:14:25,649]\u001b[0m Trial 975 finished with value: 549570.0625 and parameters: {'learning_rate': 0.0004039569458762171, 'optimizer': 'Adamax', 'batch_size': 64, 'n_layers': 7, 'n_units_l0': 225, 'n_units_l1': 178, 'n_units_l2': 136, 'n_units_l3': 169, 'n_units_l4': 218, 'n_units_l5': 200, 'n_units_l6': 182}. Best is trial 892 with value: 510015.78125.\u001b[0m\n",
      "\u001b[32m[I 2022-09-30 18:15:21,547]\u001b[0m Trial 979 finished with value: 596604.0 and parameters: {'learning_rate': 0.0007704462948798383, 'optimizer': 'Adamax', 'batch_size': 64, 'n_layers': 7, 'n_units_l0': 225, 'n_units_l1': 177, 'n_units_l2': 142, 'n_units_l3': 151, 'n_units_l4': 200, 'n_units_l5': 200, 'n_units_l6': 193}. Best is trial 892 with value: 510015.78125.\u001b[0m\n",
      "\u001b[32m[I 2022-09-30 18:15:29,829]\u001b[0m Trial 977 finished with value: 576650.0625 and parameters: {'learning_rate': 0.0004070413166455551, 'optimizer': 'Adamax', 'batch_size': 64, 'n_layers': 7, 'n_units_l0': 225, 'n_units_l1': 172, 'n_units_l2': 139, 'n_units_l3': 170, 'n_units_l4': 206, 'n_units_l5': 199, 'n_units_l6': 184}. Best is trial 892 with value: 510015.78125.\u001b[0m\n",
      "\u001b[32m[I 2022-09-30 18:15:30,089]\u001b[0m Trial 971 finished with value: 1555972.125 and parameters: {'learning_rate': 0.0007474848658056689, 'optimizer': 'Adamax', 'batch_size': 64, 'n_layers': 7, 'n_units_l0': 225, 'n_units_l1': 171, 'n_units_l2': 141, 'n_units_l3': 169, 'n_units_l4': 203, 'n_units_l5': 191, 'n_units_l6': 218}. Best is trial 892 with value: 510015.78125.\u001b[0m\n",
      "\u001b[32m[I 2022-09-30 18:15:55,941]\u001b[0m Trial 968 finished with value: 635404.125 and parameters: {'learning_rate': 0.0007395570093290537, 'optimizer': 'Adamax', 'batch_size': 64, 'n_layers': 7, 'n_units_l0': 225, 'n_units_l1': 171, 'n_units_l2': 139, 'n_units_l3': 170, 'n_units_l4': 195, 'n_units_l5': 191, 'n_units_l6': 224}. Best is trial 892 with value: 510015.78125.\u001b[0m\n",
      "\u001b[32m[I 2022-09-30 18:16:08,058]\u001b[0m Trial 993 finished with value: 1555972.125 and parameters: {'learning_rate': 0.0005021375948359988, 'optimizer': 'Adamax', 'batch_size': 1024, 'n_layers': 7, 'n_units_l0': 218, 'n_units_l1': 157, 'n_units_l2': 138, 'n_units_l3': 153, 'n_units_l4': 209, 'n_units_l5': 188, 'n_units_l6': 218}. Best is trial 892 with value: 510015.78125.\u001b[0m\n",
      "\u001b[32m[I 2022-09-30 18:16:16,295]\u001b[0m Trial 989 finished with value: 1555972.125 and parameters: {'learning_rate': 0.0003964112273624197, 'optimizer': 'Adamax', 'batch_size': 64, 'n_layers': 7, 'n_units_l0': 217, 'n_units_l1': 159, 'n_units_l2': 138, 'n_units_l3': 176, 'n_units_l4': 211, 'n_units_l5': 184, 'n_units_l6': 222}. Best is trial 892 with value: 510015.78125.\u001b[0m\n",
      "\u001b[32m[I 2022-09-30 18:16:19,384]\u001b[0m Trial 990 finished with value: 1555972.125 and parameters: {'learning_rate': 0.0003960832523513824, 'optimizer': 'Adamax', 'batch_size': 64, 'n_layers': 7, 'n_units_l0': 226, 'n_units_l1': 160, 'n_units_l2': 137, 'n_units_l3': 142, 'n_units_l4': 194, 'n_units_l5': 187, 'n_units_l6': 225}. Best is trial 892 with value: 510015.78125.\u001b[0m\n",
      "\u001b[32m[I 2022-09-30 18:16:20,467]\u001b[0m Trial 985 finished with value: 604907.375 and parameters: {'learning_rate': 0.0005053187144533105, 'optimizer': 'Adamax', 'batch_size': 64, 'n_layers': 7, 'n_units_l0': 217, 'n_units_l1': 158, 'n_units_l2': 138, 'n_units_l3': 177, 'n_units_l4': 212, 'n_units_l5': 196, 'n_units_l6': 215}. Best is trial 892 with value: 510015.78125.\u001b[0m\n",
      "\u001b[32m[I 2022-09-30 18:16:28,212]\u001b[0m Trial 996 finished with value: 1555972.125 and parameters: {'learning_rate': 0.0005163195442599119, 'optimizer': 'Adamax', 'batch_size': 1024, 'n_layers': 7, 'n_units_l0': 219, 'n_units_l1': 161, 'n_units_l2': 143, 'n_units_l3': 152, 'n_units_l4': 212, 'n_units_l5': 187, 'n_units_l6': 215}. Best is trial 892 with value: 510015.78125.\u001b[0m\n",
      "\u001b[32m[I 2022-09-30 18:16:55,937]\u001b[0m Trial 994 finished with value: 658488.9375 and parameters: {'learning_rate': 0.0005028490994887882, 'optimizer': 'Adamax', 'batch_size': 64, 'n_layers': 7, 'n_units_l0': 216, 'n_units_l1': 177, 'n_units_l2': 136, 'n_units_l3': 142, 'n_units_l4': 198, 'n_units_l5': 188, 'n_units_l6': 113}. Best is trial 892 with value: 510015.78125.\u001b[0m\n",
      "\u001b[32m[I 2022-09-30 18:16:59,842]\u001b[0m Trial 986 finished with value: 1555972.125 and parameters: {'learning_rate': 0.00039238709063049856, 'optimizer': 'Adamax', 'batch_size': 64, 'n_layers': 7, 'n_units_l0': 216, 'n_units_l1': 177, 'n_units_l2': 136, 'n_units_l3': 175, 'n_units_l4': 194, 'n_units_l5': 190, 'n_units_l6': 220}. Best is trial 892 with value: 510015.78125.\u001b[0m\n",
      "\u001b[32m[I 2022-09-30 18:17:14,979]\u001b[0m Trial 998 finished with value: 1555972.125 and parameters: {'learning_rate': 0.0004805067731464475, 'optimizer': 'Adamax', 'batch_size': 1024, 'n_layers': 7, 'n_units_l0': 226, 'n_units_l1': 175, 'n_units_l2': 134, 'n_units_l3': 166, 'n_units_l4': 218, 'n_units_l5': 208, 'n_units_l6': 111}. Best is trial 892 with value: 510015.78125.\u001b[0m\n",
      "\u001b[32m[I 2022-09-30 18:17:46,381]\u001b[0m Trial 995 finished with value: 592825.0 and parameters: {'learning_rate': 0.0005080123373734024, 'optimizer': 'Adamax', 'batch_size': 1024, 'n_layers': 7, 'n_units_l0': 227, 'n_units_l1': 178, 'n_units_l2': 146, 'n_units_l3': 166, 'n_units_l4': 219, 'n_units_l5': 142, 'n_units_l6': 242}. Best is trial 892 with value: 510015.78125.\u001b[0m\n",
      "\u001b[32m[I 2022-09-30 18:18:02,036]\u001b[0m Trial 992 finished with value: 1555972.125 and parameters: {'learning_rate': 0.0005119936737912091, 'optimizer': 'Adamax', 'batch_size': 1024, 'n_layers': 7, 'n_units_l0': 232, 'n_units_l1': 178, 'n_units_l2': 125, 'n_units_l3': 194, 'n_units_l4': 218, 'n_units_l5': 171, 'n_units_l6': 253}. Best is trial 892 with value: 510015.78125.\u001b[0m\n",
      "\u001b[32m[I 2022-09-30 18:18:12,814]\u001b[0m Trial 988 finished with value: 1555972.125 and parameters: {'learning_rate': 0.0005223723628324677, 'optimizer': 'Adamax', 'batch_size': 64, 'n_layers': 7, 'n_units_l0': 233, 'n_units_l1': 177, 'n_units_l2': 148, 'n_units_l3': 167, 'n_units_l4': 218, 'n_units_l5': 59, 'n_units_l6': 149}. Best is trial 892 with value: 510015.78125.\u001b[0m\n",
      "\u001b[32m[I 2022-09-30 18:18:47,819]\u001b[0m Trial 991 finished with value: 1555972.125 and parameters: {'learning_rate': 0.0003985561667302056, 'optimizer': 'Adamax', 'batch_size': 64, 'n_layers': 6, 'n_units_l0': 234, 'n_units_l1': 170, 'n_units_l2': 147, 'n_units_l3': 135, 'n_units_l4': 204, 'n_units_l5': 175}. Best is trial 892 with value: 510015.78125.\u001b[0m\n",
      "\u001b[32m[I 2022-09-30 18:18:55,177]\u001b[0m Trial 987 finished with value: 1555972.125 and parameters: {'learning_rate': 0.0004050826456446268, 'optimizer': 'Adamax', 'batch_size': 64, 'n_layers': 6, 'n_units_l0': 221, 'n_units_l1': 171, 'n_units_l2': 149, 'n_units_l3': 134, 'n_units_l4': 144, 'n_units_l5': 200}. Best is trial 892 with value: 510015.78125.\u001b[0m\n",
      "\u001b[32m[I 2022-09-30 18:18:58,592]\u001b[0m Trial 997 finished with value: 1555972.125 and parameters: {'learning_rate': 0.000516640681777662, 'optimizer': 'Adamax', 'batch_size': 64, 'n_layers': 6, 'n_units_l0': 218, 'n_units_l1': 170, 'n_units_l2': 135, 'n_units_l3': 150, 'n_units_l4': 205, 'n_units_l5': 202}. Best is trial 892 with value: 510015.78125.\u001b[0m\n",
      "\u001b[32m[I 2022-09-30 18:19:04,716]\u001b[0m Trial 999 finished with value: 1555972.125 and parameters: {'learning_rate': 0.00041504600061255577, 'optimizer': 'Adamax', 'batch_size': 64, 'n_layers': 6, 'n_units_l0': 222, 'n_units_l1': 179, 'n_units_l2': 134, 'n_units_l3': 152, 'n_units_l4': 169, 'n_units_l5': 200}. Best is trial 892 with value: 510015.78125.\u001b[0m\n"
     ]
    },
    {
     "name": "stdout",
     "output_type": "stream",
     "text": [
      "Number of trials: 1000\n",
      "Best trial:\n",
      "Model saved at:/mnt/c/Users/rwmas/GitHub/xai/xai_api/app/ml/models/saved/base/brisk_nn_pytorch/\n"
     ]
    }
   ],
   "source": [
    "best_pytorch = brisk_nn_pytorch.fetch_model()"
   ]
  },
  {
   "cell_type": "code",
   "execution_count": 13,
   "metadata": {},
   "outputs": [
    {
     "data": {
      "text/html": [
       "<div>\n",
       "<style scoped>\n",
       "    .dataframe tbody tr th:only-of-type {\n",
       "        vertical-align: middle;\n",
       "    }\n",
       "\n",
       "    .dataframe tbody tr th {\n",
       "        vertical-align: top;\n",
       "    }\n",
       "\n",
       "    .dataframe thead th {\n",
       "        text-align: right;\n",
       "    }\n",
       "</style>\n",
       "<table border=\"1\" class=\"dataframe\">\n",
       "  <thead>\n",
       "    <tr style=\"text-align: right;\">\n",
       "      <th></th>\n",
       "      <th>new_cases_per_million</th>\n",
       "      <th>population_cov</th>\n",
       "      <th>life_expectancy_cov</th>\n",
       "      <th>Population</th>\n",
       "      <th>Area_km2</th>\n",
       "      <th>Density_km2</th>\n",
       "      <th>Year_x</th>\n",
       "      <th>Meningitis</th>\n",
       "      <th>Neoplasms</th>\n",
       "      <th>Fire, heat, and hot substances</th>\n",
       "      <th>...</th>\n",
       "      <th>Cardiovascular diseases</th>\n",
       "      <th>Chronic kidney disease</th>\n",
       "      <th>Chronic respiratory diseases</th>\n",
       "      <th>Cirrhosis and other chronic liver diseases</th>\n",
       "      <th>Digestive diseases</th>\n",
       "      <th>Acute hepatitis</th>\n",
       "      <th>Alzheimer's disease and other dementias</th>\n",
       "      <th>Parkinson's disease</th>\n",
       "      <th>Total</th>\n",
       "      <th>air_polution</th>\n",
       "    </tr>\n",
       "  </thead>\n",
       "  <tbody>\n",
       "    <tr>\n",
       "      <th>171</th>\n",
       "      <td>0.000</td>\n",
       "      <td>1.368000e+03</td>\n",
       "      <td>81.86</td>\n",
       "      <td>1.319000e+03</td>\n",
       "      <td>5.0</td>\n",
       "      <td>110.0</td>\n",
       "      <td>2019.0</td>\n",
       "      <td>0.000000</td>\n",
       "      <td>0.151630</td>\n",
       "      <td>0.000000</td>\n",
       "      <td>...</td>\n",
       "      <td>0.303260</td>\n",
       "      <td>0.075815</td>\n",
       "      <td>0.075815</td>\n",
       "      <td>0.000000</td>\n",
       "      <td>0.000000</td>\n",
       "      <td>0.000000</td>\n",
       "      <td>0.000000</td>\n",
       "      <td>0.000000</td>\n",
       "      <td>0.682335</td>\n",
       "      <td>6.84874</td>\n",
       "    </tr>\n",
       "    <tr>\n",
       "      <th>26</th>\n",
       "      <td>144336.090</td>\n",
       "      <td>6.896655e+06</td>\n",
       "      <td>75.05</td>\n",
       "      <td>7.051608e+06</td>\n",
       "      <td>42818.0</td>\n",
       "      <td>64.0</td>\n",
       "      <td>2019.0</td>\n",
       "      <td>0.000553</td>\n",
       "      <td>0.312113</td>\n",
       "      <td>0.001659</td>\n",
       "      <td>...</td>\n",
       "      <td>1.121999</td>\n",
       "      <td>0.027653</td>\n",
       "      <td>0.043054</td>\n",
       "      <td>0.038388</td>\n",
       "      <td>0.063915</td>\n",
       "      <td>0.000128</td>\n",
       "      <td>0.044614</td>\n",
       "      <td>0.014181</td>\n",
       "      <td>1.770022</td>\n",
       "      <td>19.92702</td>\n",
       "    </tr>\n",
       "    <tr>\n",
       "      <th>41</th>\n",
       "      <td>140487.169</td>\n",
       "      <td>5.139053e+06</td>\n",
       "      <td>80.28</td>\n",
       "      <td>4.999441e+06</td>\n",
       "      <td>19730.0</td>\n",
       "      <td>98.0</td>\n",
       "      <td>2019.0</td>\n",
       "      <td>0.000700</td>\n",
       "      <td>0.120994</td>\n",
       "      <td>0.000420</td>\n",
       "      <td>...</td>\n",
       "      <td>0.133295</td>\n",
       "      <td>0.027443</td>\n",
       "      <td>0.028503</td>\n",
       "      <td>0.019202</td>\n",
       "      <td>0.035524</td>\n",
       "      <td>0.000060</td>\n",
       "      <td>0.025903</td>\n",
       "      <td>0.004380</td>\n",
       "      <td>0.474053</td>\n",
       "      <td>17.43615</td>\n",
       "    </tr>\n",
       "    <tr>\n",
       "      <th>4</th>\n",
       "      <td>2898.709</td>\n",
       "      <td>3.393361e+07</td>\n",
       "      <td>61.15</td>\n",
       "      <td>3.080979e+07</td>\n",
       "      <td>481351.0</td>\n",
       "      <td>25.0</td>\n",
       "      <td>2019.0</td>\n",
       "      <td>0.008179</td>\n",
       "      <td>0.041516</td>\n",
       "      <td>0.001665</td>\n",
       "      <td>...</td>\n",
       "      <td>0.083493</td>\n",
       "      <td>0.007997</td>\n",
       "      <td>0.012769</td>\n",
       "      <td>0.018390</td>\n",
       "      <td>0.029117</td>\n",
       "      <td>0.000798</td>\n",
       "      <td>0.003710</td>\n",
       "      <td>0.000867</td>\n",
       "      <td>0.562613</td>\n",
       "      <td>28.02152</td>\n",
       "    </tr>\n",
       "    <tr>\n",
       "      <th>85</th>\n",
       "      <td>26254.785</td>\n",
       "      <td>1.260508e+08</td>\n",
       "      <td>84.63</td>\n",
       "      <td>1.272022e+08</td>\n",
       "      <td>145919.0</td>\n",
       "      <td>337.0</td>\n",
       "      <td>2019.0</td>\n",
       "      <td>0.000320</td>\n",
       "      <td>0.347851</td>\n",
       "      <td>0.001271</td>\n",
       "      <td>...</td>\n",
       "      <td>0.292828</td>\n",
       "      <td>0.035631</td>\n",
       "      <td>0.043862</td>\n",
       "      <td>0.020635</td>\n",
       "      <td>0.047799</td>\n",
       "      <td>0.000082</td>\n",
       "      <td>0.129616</td>\n",
       "      <td>0.013168</td>\n",
       "      <td>1.076846</td>\n",
       "      <td>13.64744</td>\n",
       "    </tr>\n",
       "    <tr>\n",
       "      <th>141</th>\n",
       "      <td>86437.428</td>\n",
       "      <td>1.459120e+08</td>\n",
       "      <td>72.58</td>\n",
       "      <td>1.457340e+08</td>\n",
       "      <td>6601633.0</td>\n",
       "      <td>9.0</td>\n",
       "      <td>2019.0</td>\n",
       "      <td>0.000784</td>\n",
       "      <td>0.203674</td>\n",
       "      <td>0.004528</td>\n",
       "      <td>...</td>\n",
       "      <td>0.689565</td>\n",
       "      <td>0.007995</td>\n",
       "      <td>0.027029</td>\n",
       "      <td>0.031634</td>\n",
       "      <td>0.062365</td>\n",
       "      <td>0.000039</td>\n",
       "      <td>0.033237</td>\n",
       "      <td>0.006443</td>\n",
       "      <td>1.219497</td>\n",
       "      <td>11.77739</td>\n",
       "    </tr>\n",
       "    <tr>\n",
       "      <th>62</th>\n",
       "      <td>4776.945</td>\n",
       "      <td>2.486937e+06</td>\n",
       "      <td>62.05</td>\n",
       "      <td>2.280094e+06</td>\n",
       "      <td>4361.0</td>\n",
       "      <td>202.0</td>\n",
       "      <td>2019.0</td>\n",
       "      <td>0.009298</td>\n",
       "      <td>0.046928</td>\n",
       "      <td>0.001974</td>\n",
       "      <td>...</td>\n",
       "      <td>0.114162</td>\n",
       "      <td>0.013596</td>\n",
       "      <td>0.018596</td>\n",
       "      <td>0.015657</td>\n",
       "      <td>0.027411</td>\n",
       "      <td>0.000921</td>\n",
       "      <td>0.006754</td>\n",
       "      <td>0.002149</td>\n",
       "      <td>0.551293</td>\n",
       "      <td>58.21450</td>\n",
       "    </tr>\n",
       "    <tr>\n",
       "      <th>145</th>\n",
       "      <td>164.879</td>\n",
       "      <td>2.001440e+05</td>\n",
       "      <td>73.32</td>\n",
       "      <td>1.961290e+05</td>\n",
       "      <td>1097.0</td>\n",
       "      <td>69.0</td>\n",
       "      <td>2019.0</td>\n",
       "      <td>0.001020</td>\n",
       "      <td>0.079030</td>\n",
       "      <td>0.001020</td>\n",
       "      <td>...</td>\n",
       "      <td>0.274819</td>\n",
       "      <td>0.031102</td>\n",
       "      <td>0.053536</td>\n",
       "      <td>0.015296</td>\n",
       "      <td>0.028043</td>\n",
       "      <td>0.000510</td>\n",
       "      <td>0.014276</td>\n",
       "      <td>0.005099</td>\n",
       "      <td>0.676086</td>\n",
       "      <td>10.83320</td>\n",
       "    </tr>\n",
       "    <tr>\n",
       "      <th>53</th>\n",
       "      <td>20727.009</td>\n",
       "      <td>6.518500e+06</td>\n",
       "      <td>73.32</td>\n",
       "      <td>6.420746e+06</td>\n",
       "      <td>8124.0</td>\n",
       "      <td>305.0</td>\n",
       "      <td>2019.0</td>\n",
       "      <td>0.000810</td>\n",
       "      <td>0.091968</td>\n",
       "      <td>0.000654</td>\n",
       "      <td>...</td>\n",
       "      <td>0.150995</td>\n",
       "      <td>0.063591</td>\n",
       "      <td>0.023580</td>\n",
       "      <td>0.023362</td>\n",
       "      <td>0.037877</td>\n",
       "      <td>0.000093</td>\n",
       "      <td>0.026399</td>\n",
       "      <td>0.004750</td>\n",
       "      <td>0.622155</td>\n",
       "      <td>22.34945</td>\n",
       "    </tr>\n",
       "    <tr>\n",
       "      <th>100</th>\n",
       "      <td>2161.074</td>\n",
       "      <td>2.842733e+07</td>\n",
       "      <td>67.04</td>\n",
       "      <td>2.626231e+07</td>\n",
       "      <td>226755.0</td>\n",
       "      <td>45.0</td>\n",
       "      <td>2019.0</td>\n",
       "      <td>0.007935</td>\n",
       "      <td>0.041927</td>\n",
       "      <td>0.001542</td>\n",
       "      <td>...</td>\n",
       "      <td>0.134782</td>\n",
       "      <td>0.007379</td>\n",
       "      <td>0.022961</td>\n",
       "      <td>0.017226</td>\n",
       "      <td>0.027374</td>\n",
       "      <td>0.000948</td>\n",
       "      <td>0.003271</td>\n",
       "      <td>0.000792</td>\n",
       "      <td>0.597670</td>\n",
       "      <td>17.85980</td>\n",
       "    </tr>\n",
       "    <tr>\n",
       "      <th>19</th>\n",
       "      <td>175884.164</td>\n",
       "      <td>6.209200e+04</td>\n",
       "      <td>82.59</td>\n",
       "      <td>6.275600e+04</td>\n",
       "      <td>20.0</td>\n",
       "      <td>1184.0</td>\n",
       "      <td>2019.0</td>\n",
       "      <td>0.000000</td>\n",
       "      <td>0.285232</td>\n",
       "      <td>0.000000</td>\n",
       "      <td>...</td>\n",
       "      <td>0.333036</td>\n",
       "      <td>0.030276</td>\n",
       "      <td>0.028683</td>\n",
       "      <td>0.012748</td>\n",
       "      <td>0.030276</td>\n",
       "      <td>0.000000</td>\n",
       "      <td>0.050991</td>\n",
       "      <td>0.012748</td>\n",
       "      <td>0.887565</td>\n",
       "      <td>7.08401</td>\n",
       "    </tr>\n",
       "    <tr>\n",
       "      <th>161</th>\n",
       "      <td>1310.953</td>\n",
       "      <td>4.490935e+07</td>\n",
       "      <td>65.31</td>\n",
       "      <td>4.078274e+07</td>\n",
       "      <td>718719.0</td>\n",
       "      <td>22.0</td>\n",
       "      <td>2019.0</td>\n",
       "      <td>0.001623</td>\n",
       "      <td>0.041930</td>\n",
       "      <td>0.002722</td>\n",
       "      <td>...</td>\n",
       "      <td>0.182359</td>\n",
       "      <td>0.011657</td>\n",
       "      <td>0.017632</td>\n",
       "      <td>0.010053</td>\n",
       "      <td>0.015482</td>\n",
       "      <td>0.002656</td>\n",
       "      <td>0.006902</td>\n",
       "      <td>0.001741</td>\n",
       "      <td>0.449335</td>\n",
       "      <td>56.03598</td>\n",
       "    </tr>\n",
       "    <tr>\n",
       "      <th>146</th>\n",
       "      <td>391884.730</td>\n",
       "      <td>3.401000e+04</td>\n",
       "      <td>84.97</td>\n",
       "      <td>3.378500e+04</td>\n",
       "      <td>24.0</td>\n",
       "      <td>554.0</td>\n",
       "      <td>2019.0</td>\n",
       "      <td>0.000000</td>\n",
       "      <td>0.346308</td>\n",
       "      <td>0.000000</td>\n",
       "      <td>...</td>\n",
       "      <td>0.290070</td>\n",
       "      <td>0.011840</td>\n",
       "      <td>0.032559</td>\n",
       "      <td>0.023679</td>\n",
       "      <td>0.041439</td>\n",
       "      <td>0.000000</td>\n",
       "      <td>0.059198</td>\n",
       "      <td>0.008880</td>\n",
       "      <td>0.879088</td>\n",
       "      <td>9.99181</td>\n",
       "    </tr>\n",
       "    <tr>\n",
       "      <th>42</th>\n",
       "      <td>2991.105</td>\n",
       "      <td>2.705363e+07</td>\n",
       "      <td>57.78</td>\n",
       "      <td>2.506923e+07</td>\n",
       "      <td>124503.0</td>\n",
       "      <td>78.0</td>\n",
       "      <td>2019.0</td>\n",
       "      <td>0.009011</td>\n",
       "      <td>0.046220</td>\n",
       "      <td>0.002034</td>\n",
       "      <td>...</td>\n",
       "      <td>0.089257</td>\n",
       "      <td>0.013698</td>\n",
       "      <td>0.014528</td>\n",
       "      <td>0.015748</td>\n",
       "      <td>0.026419</td>\n",
       "      <td>0.000878</td>\n",
       "      <td>0.004723</td>\n",
       "      <td>0.001528</td>\n",
       "      <td>0.678018</td>\n",
       "      <td>55.92510</td>\n",
       "    </tr>\n",
       "    <tr>\n",
       "      <th>63</th>\n",
       "      <td>330321.107</td>\n",
       "      <td>3.979773e+06</td>\n",
       "      <td>73.77</td>\n",
       "      <td>4.002942e+06</td>\n",
       "      <td>26911.0</td>\n",
       "      <td>57.0</td>\n",
       "      <td>2019.0</td>\n",
       "      <td>0.000525</td>\n",
       "      <td>0.208022</td>\n",
       "      <td>0.002948</td>\n",
       "      <td>...</td>\n",
       "      <td>0.742179</td>\n",
       "      <td>0.017637</td>\n",
       "      <td>0.030528</td>\n",
       "      <td>0.039021</td>\n",
       "      <td>0.053436</td>\n",
       "      <td>0.000200</td>\n",
       "      <td>0.042993</td>\n",
       "      <td>0.007594</td>\n",
       "      <td>1.244660</td>\n",
       "      <td>18.24743</td>\n",
       "    </tr>\n",
       "    <tr>\n",
       "      <th>108</th>\n",
       "      <td>55646.644</td>\n",
       "      <td>1.273428e+06</td>\n",
       "      <td>74.99</td>\n",
       "      <td>1.267185e+06</td>\n",
       "      <td>760.0</td>\n",
       "      <td>644.0</td>\n",
       "      <td>2019.0</td>\n",
       "      <td>0.000395</td>\n",
       "      <td>0.119714</td>\n",
       "      <td>0.001657</td>\n",
       "      <td>...</td>\n",
       "      <td>0.261130</td>\n",
       "      <td>0.099433</td>\n",
       "      <td>0.042377</td>\n",
       "      <td>0.020755</td>\n",
       "      <td>0.031408</td>\n",
       "      <td>0.000079</td>\n",
       "      <td>0.025490</td>\n",
       "      <td>0.004972</td>\n",
       "      <td>0.835553</td>\n",
       "      <td>15.26528</td>\n",
       "    </tr>\n",
       "    <tr>\n",
       "      <th>175</th>\n",
       "      <td>134229.882</td>\n",
       "      <td>8.504274e+07</td>\n",
       "      <td>77.69</td>\n",
       "      <td>8.234009e+07</td>\n",
       "      <td>302533.0</td>\n",
       "      <td>105.0</td>\n",
       "      <td>2019.0</td>\n",
       "      <td>0.000426</td>\n",
       "      <td>0.127296</td>\n",
       "      <td>0.000509</td>\n",
       "      <td>...</td>\n",
       "      <td>0.214553</td>\n",
       "      <td>0.023309</td>\n",
       "      <td>0.040055</td>\n",
       "      <td>0.008925</td>\n",
       "      <td>0.017144</td>\n",
       "      <td>0.000158</td>\n",
       "      <td>0.023951</td>\n",
       "      <td>0.004661</td>\n",
       "      <td>0.533054</td>\n",
       "      <td>26.85069</td>\n",
       "    </tr>\n",
       "    <tr>\n",
       "      <th>77</th>\n",
       "      <td>30276.943</td>\n",
       "      <td>1.393409e+09</td>\n",
       "      <td>69.66</td>\n",
       "      <td>1.352642e+09</td>\n",
       "      <td>1269212.0</td>\n",
       "      <td>411.0</td>\n",
       "      <td>2019.0</td>\n",
       "      <td>0.002568</td>\n",
       "      <td>0.068946</td>\n",
       "      <td>0.001913</td>\n",
       "      <td>...</td>\n",
       "      <td>0.190325</td>\n",
       "      <td>0.016480</td>\n",
       "      <td>0.086378</td>\n",
       "      <td>0.019964</td>\n",
       "      <td>0.034371</td>\n",
       "      <td>0.002291</td>\n",
       "      <td>0.009538</td>\n",
       "      <td>0.003349</td>\n",
       "      <td>0.651521</td>\n",
       "      <td>83.30377</td>\n",
       "    </tr>\n",
       "    <tr>\n",
       "      <th>148</th>\n",
       "      <td>4954.901</td>\n",
       "      <td>1.719631e+07</td>\n",
       "      <td>67.94</td>\n",
       "      <td>1.585432e+07</td>\n",
       "      <td>75951.0</td>\n",
       "      <td>81.0</td>\n",
       "      <td>2019.0</td>\n",
       "      <td>0.009859</td>\n",
       "      <td>0.051790</td>\n",
       "      <td>0.001785</td>\n",
       "      <td>...</td>\n",
       "      <td>0.100799</td>\n",
       "      <td>0.015434</td>\n",
       "      <td>0.017427</td>\n",
       "      <td>0.014917</td>\n",
       "      <td>0.027589</td>\n",
       "      <td>0.000675</td>\n",
       "      <td>0.007859</td>\n",
       "      <td>0.002107</td>\n",
       "      <td>0.527042</td>\n",
       "      <td>60.17498</td>\n",
       "    </tr>\n",
       "    <tr>\n",
       "      <th>88</th>\n",
       "      <td>5857.813</td>\n",
       "      <td>5.498570e+07</td>\n",
       "      <td>66.70</td>\n",
       "      <td>5.139256e+07</td>\n",
       "      <td>228555.0</td>\n",
       "      <td>87.0</td>\n",
       "      <td>2019.0</td>\n",
       "      <td>0.008554</td>\n",
       "      <td>0.045322</td>\n",
       "      <td>0.001613</td>\n",
       "      <td>...</td>\n",
       "      <td>0.079021</td>\n",
       "      <td>0.009270</td>\n",
       "      <td>0.014992</td>\n",
       "      <td>0.025480</td>\n",
       "      <td>0.040374</td>\n",
       "      <td>0.002872</td>\n",
       "      <td>0.005263</td>\n",
       "      <td>0.001208</td>\n",
       "      <td>0.560737</td>\n",
       "      <td>21.53547</td>\n",
       "    </tr>\n",
       "    <tr>\n",
       "      <th>143</th>\n",
       "      <td>102248.553</td>\n",
       "      <td>5.354600e+04</td>\n",
       "      <td>76.23</td>\n",
       "      <td>5.244100e+04</td>\n",
       "      <td>101.0</td>\n",
       "      <td>201.0</td>\n",
       "      <td>2019.0</td>\n",
       "      <td>0.001907</td>\n",
       "      <td>0.188784</td>\n",
       "      <td>0.003814</td>\n",
       "      <td>...</td>\n",
       "      <td>0.299384</td>\n",
       "      <td>0.061021</td>\n",
       "      <td>0.020976</td>\n",
       "      <td>0.022883</td>\n",
       "      <td>0.045766</td>\n",
       "      <td>0.000000</td>\n",
       "      <td>0.015255</td>\n",
       "      <td>0.005721</td>\n",
       "      <td>0.921035</td>\n",
       "      <td>8.85081</td>\n",
       "    </tr>\n",
       "    <tr>\n",
       "      <th>150</th>\n",
       "      <td>381872.398</td>\n",
       "      <td>9.891000e+04</td>\n",
       "      <td>73.40</td>\n",
       "      <td>9.709600e+04</td>\n",
       "      <td>176.0</td>\n",
       "      <td>213.0</td>\n",
       "      <td>2019.0</td>\n",
       "      <td>0.002060</td>\n",
       "      <td>0.186413</td>\n",
       "      <td>0.002060</td>\n",
       "      <td>...</td>\n",
       "      <td>0.249238</td>\n",
       "      <td>0.045316</td>\n",
       "      <td>0.031927</td>\n",
       "      <td>0.033987</td>\n",
       "      <td>0.052525</td>\n",
       "      <td>0.000000</td>\n",
       "      <td>0.018538</td>\n",
       "      <td>0.006179</td>\n",
       "      <td>0.807448</td>\n",
       "      <td>15.50187</td>\n",
       "    </tr>\n",
       "    <tr>\n",
       "      <th>163</th>\n",
       "      <td>225172.174</td>\n",
       "      <td>1.016016e+07</td>\n",
       "      <td>82.80</td>\n",
       "      <td>9.971638e+06</td>\n",
       "      <td>173859.0</td>\n",
       "      <td>22.0</td>\n",
       "      <td>2019.0</td>\n",
       "      <td>0.000311</td>\n",
       "      <td>0.265553</td>\n",
       "      <td>0.000893</td>\n",
       "      <td>...</td>\n",
       "      <td>0.361896</td>\n",
       "      <td>0.020047</td>\n",
       "      <td>0.044907</td>\n",
       "      <td>0.010720</td>\n",
       "      <td>0.032352</td>\n",
       "      <td>0.000030</td>\n",
       "      <td>0.056530</td>\n",
       "      <td>0.012616</td>\n",
       "      <td>0.896202</td>\n",
       "      <td>5.72135</td>\n",
       "    </tr>\n",
       "    <tr>\n",
       "      <th>31</th>\n",
       "      <td>82052.306</td>\n",
       "      <td>3.806791e+07</td>\n",
       "      <td>82.43</td>\n",
       "      <td>3.706456e+07</td>\n",
       "      <td>3855081.0</td>\n",
       "      <td>4.0</td>\n",
       "      <td>2019.0</td>\n",
       "      <td>0.000240</td>\n",
       "      <td>0.251108</td>\n",
       "      <td>0.000817</td>\n",
       "      <td>...</td>\n",
       "      <td>0.222973</td>\n",
       "      <td>0.020238</td>\n",
       "      <td>0.049603</td>\n",
       "      <td>0.014682</td>\n",
       "      <td>0.034729</td>\n",
       "      <td>0.000032</td>\n",
       "      <td>0.046006</td>\n",
       "      <td>0.011124</td>\n",
       "      <td>0.739108</td>\n",
       "      <td>7.09026</td>\n",
       "    </tr>\n",
       "    <tr>\n",
       "      <th>142</th>\n",
       "      <td>9727.020</td>\n",
       "      <td>1.327652e+07</td>\n",
       "      <td>69.02</td>\n",
       "      <td>1.230197e+07</td>\n",
       "      <td>10169.0</td>\n",
       "      <td>467.0</td>\n",
       "      <td>2019.0</td>\n",
       "      <td>0.008088</td>\n",
       "      <td>0.058064</td>\n",
       "      <td>0.001780</td>\n",
       "      <td>...</td>\n",
       "      <td>0.096131</td>\n",
       "      <td>0.010291</td>\n",
       "      <td>0.020485</td>\n",
       "      <td>0.021127</td>\n",
       "      <td>0.034929</td>\n",
       "      <td>0.001447</td>\n",
       "      <td>0.006275</td>\n",
       "      <td>0.001284</td>\n",
       "      <td>0.540767</td>\n",
       "      <td>36.22432</td>\n",
       "    </tr>\n",
       "    <tr>\n",
       "      <th>165</th>\n",
       "      <td>2840.669</td>\n",
       "      <td>1.827570e+07</td>\n",
       "      <td>72.70</td>\n",
       "      <td>1.694506e+07</td>\n",
       "      <td>71498.0</td>\n",
       "      <td>92.0</td>\n",
       "      <td>2019.0</td>\n",
       "      <td>0.001263</td>\n",
       "      <td>0.051838</td>\n",
       "      <td>0.000868</td>\n",
       "      <td>...</td>\n",
       "      <td>0.269589</td>\n",
       "      <td>0.015704</td>\n",
       "      <td>0.019174</td>\n",
       "      <td>0.011944</td>\n",
       "      <td>0.015320</td>\n",
       "      <td>0.000071</td>\n",
       "      <td>0.009395</td>\n",
       "      <td>0.002561</td>\n",
       "      <td>0.489199</td>\n",
       "      <td>31.33487</td>\n",
       "    </tr>\n",
       "    <tr>\n",
       "      <th>149</th>\n",
       "      <td>257342.781</td>\n",
       "      <td>6.871547e+06</td>\n",
       "      <td>76.00</td>\n",
       "      <td>8.802754e+06</td>\n",
       "      <td>34116.0</td>\n",
       "      <td>100.0</td>\n",
       "      <td>2019.0</td>\n",
       "      <td>0.000307</td>\n",
       "      <td>0.323126</td>\n",
       "      <td>0.001170</td>\n",
       "      <td>...</td>\n",
       "      <td>0.724421</td>\n",
       "      <td>0.028593</td>\n",
       "      <td>0.043907</td>\n",
       "      <td>0.015915</td>\n",
       "      <td>0.048224</td>\n",
       "      <td>0.000045</td>\n",
       "      <td>0.029161</td>\n",
       "      <td>0.009542</td>\n",
       "      <td>1.324472</td>\n",
       "      <td>25.50415</td>\n",
       "    </tr>\n",
       "    <tr>\n",
       "      <th>179</th>\n",
       "      <td>103111.246</td>\n",
       "      <td>4.346682e+07</td>\n",
       "      <td>72.06</td>\n",
       "      <td>4.424616e+07</td>\n",
       "      <td>233011.0</td>\n",
       "      <td>73.0</td>\n",
       "      <td>2019.0</td>\n",
       "      <td>0.000902</td>\n",
       "      <td>0.224241</td>\n",
       "      <td>0.004968</td>\n",
       "      <td>...</td>\n",
       "      <td>1.015627</td>\n",
       "      <td>0.006012</td>\n",
       "      <td>0.027530</td>\n",
       "      <td>0.045520</td>\n",
       "      <td>0.068345</td>\n",
       "      <td>0.000163</td>\n",
       "      <td>0.036998</td>\n",
       "      <td>0.008105</td>\n",
       "      <td>1.589819</td>\n",
       "      <td>14.70064</td>\n",
       "    </tr>\n",
       "    <tr>\n",
       "      <th>93</th>\n",
       "      <td>241093.175</td>\n",
       "      <td>1.866934e+06</td>\n",
       "      <td>75.29</td>\n",
       "      <td>1.928459e+06</td>\n",
       "      <td>24927.0</td>\n",
       "      <td>30.0</td>\n",
       "      <td>2019.0</td>\n",
       "      <td>0.000415</td>\n",
       "      <td>0.290439</td>\n",
       "      <td>0.005860</td>\n",
       "      <td>...</td>\n",
       "      <td>0.818218</td>\n",
       "      <td>0.013638</td>\n",
       "      <td>0.022453</td>\n",
       "      <td>0.020120</td>\n",
       "      <td>0.049003</td>\n",
       "      <td>0.000052</td>\n",
       "      <td>0.053462</td>\n",
       "      <td>0.009852</td>\n",
       "      <td>1.397178</td>\n",
       "      <td>12.70760</td>\n",
       "    </tr>\n",
       "    <tr>\n",
       "      <th>137</th>\n",
       "      <td>136618.780</td>\n",
       "      <td>3.779700e+07</td>\n",
       "      <td>78.73</td>\n",
       "      <td>3.792159e+07</td>\n",
       "      <td>120420.0</td>\n",
       "      <td>122.0</td>\n",
       "      <td>2019.0</td>\n",
       "      <td>0.000356</td>\n",
       "      <td>0.321927</td>\n",
       "      <td>0.001461</td>\n",
       "      <td>...</td>\n",
       "      <td>0.460782</td>\n",
       "      <td>0.012381</td>\n",
       "      <td>0.029928</td>\n",
       "      <td>0.022586</td>\n",
       "      <td>0.047849</td>\n",
       "      <td>0.000029</td>\n",
       "      <td>0.048703</td>\n",
       "      <td>0.009053</td>\n",
       "      <td>1.057303</td>\n",
       "      <td>22.76563</td>\n",
       "    </tr>\n",
       "    <tr>\n",
       "      <th>121</th>\n",
       "      <td>3508.925</td>\n",
       "      <td>5.126300e+06</td>\n",
       "      <td>82.29</td>\n",
       "      <td>4.743131e+06</td>\n",
       "      <td>104427.0</td>\n",
       "      <td>18.0</td>\n",
       "      <td>2019.0</td>\n",
       "      <td>0.000274</td>\n",
       "      <td>0.223144</td>\n",
       "      <td>0.000485</td>\n",
       "      <td>...</td>\n",
       "      <td>0.251901</td>\n",
       "      <td>0.019291</td>\n",
       "      <td>0.050515</td>\n",
       "      <td>0.006262</td>\n",
       "      <td>0.022938</td>\n",
       "      <td>0.000021</td>\n",
       "      <td>0.043558</td>\n",
       "      <td>0.008496</td>\n",
       "      <td>0.688406</td>\n",
       "      <td>6.05027</td>\n",
       "    </tr>\n",
       "    <tr>\n",
       "      <th>37</th>\n",
       "      <td>116387.556</td>\n",
       "      <td>5.126584e+07</td>\n",
       "      <td>77.29</td>\n",
       "      <td>4.966105e+07</td>\n",
       "      <td>440829.0</td>\n",
       "      <td>43.0</td>\n",
       "      <td>2019.0</td>\n",
       "      <td>0.000759</td>\n",
       "      <td>0.099595</td>\n",
       "      <td>0.000403</td>\n",
       "      <td>...</td>\n",
       "      <td>0.146249</td>\n",
       "      <td>0.019122</td>\n",
       "      <td>0.035787</td>\n",
       "      <td>0.008022</td>\n",
       "      <td>0.023151</td>\n",
       "      <td>0.000026</td>\n",
       "      <td>0.027531</td>\n",
       "      <td>0.003945</td>\n",
       "      <td>0.475548</td>\n",
       "      <td>22.52540</td>\n",
       "    </tr>\n",
       "    <tr>\n",
       "      <th>71</th>\n",
       "      <td>3855.122</td>\n",
       "      <td>2.015490e+06</td>\n",
       "      <td>58.32</td>\n",
       "      <td>1.874303e+06</td>\n",
       "      <td>13948.0</td>\n",
       "      <td>52.0</td>\n",
       "      <td>2019.0</td>\n",
       "      <td>0.014245</td>\n",
       "      <td>0.052073</td>\n",
       "      <td>0.002508</td>\n",
       "      <td>...</td>\n",
       "      <td>0.118124</td>\n",
       "      <td>0.015632</td>\n",
       "      <td>0.020594</td>\n",
       "      <td>0.023956</td>\n",
       "      <td>0.039428</td>\n",
       "      <td>0.001814</td>\n",
       "      <td>0.004215</td>\n",
       "      <td>0.001494</td>\n",
       "      <td>0.709490</td>\n",
       "      <td>54.01773</td>\n",
       "    </tr>\n",
       "    <tr>\n",
       "      <th>155</th>\n",
       "      <td>3963.092</td>\n",
       "      <td>7.039950e+05</td>\n",
       "      <td>73.00</td>\n",
       "      <td>6.528570e+05</td>\n",
       "      <td>11157.0</td>\n",
       "      <td>23.0</td>\n",
       "      <td>2019.0</td>\n",
       "      <td>0.002604</td>\n",
       "      <td>0.099562</td>\n",
       "      <td>0.003063</td>\n",
       "      <td>...</td>\n",
       "      <td>0.350000</td>\n",
       "      <td>0.013632</td>\n",
       "      <td>0.053151</td>\n",
       "      <td>0.020372</td>\n",
       "      <td>0.029409</td>\n",
       "      <td>0.001532</td>\n",
       "      <td>0.003370</td>\n",
       "      <td>0.002910</td>\n",
       "      <td>0.892232</td>\n",
       "      <td>12.85680</td>\n",
       "    </tr>\n",
       "    <tr>\n",
       "      <th>104</th>\n",
       "      <td>1448.304</td>\n",
       "      <td>2.085572e+07</td>\n",
       "      <td>59.31</td>\n",
       "      <td>1.907775e+07</td>\n",
       "      <td>478838.0</td>\n",
       "      <td>15.0</td>\n",
       "      <td>2019.0</td>\n",
       "      <td>0.032813</td>\n",
       "      <td>0.048937</td>\n",
       "      <td>0.003978</td>\n",
       "      <td>...</td>\n",
       "      <td>0.102313</td>\n",
       "      <td>0.014142</td>\n",
       "      <td>0.023976</td>\n",
       "      <td>0.017125</td>\n",
       "      <td>0.032740</td>\n",
       "      <td>0.002154</td>\n",
       "      <td>0.006426</td>\n",
       "      <td>0.001704</td>\n",
       "      <td>0.988073</td>\n",
       "      <td>60.67210</td>\n",
       "    </tr>\n",
       "    <tr>\n",
       "      <th>33</th>\n",
       "      <td>2850.216</td>\n",
       "      <td>4.919987e+06</td>\n",
       "      <td>53.28</td>\n",
       "      <td>4.666368e+06</td>\n",
       "      <td>240534.0</td>\n",
       "      <td>7.0</td>\n",
       "      <td>2019.0</td>\n",
       "      <td>0.019330</td>\n",
       "      <td>0.056939</td>\n",
       "      <td>0.003579</td>\n",
       "      <td>...</td>\n",
       "      <td>0.154510</td>\n",
       "      <td>0.013994</td>\n",
       "      <td>0.033838</td>\n",
       "      <td>0.023680</td>\n",
       "      <td>0.047189</td>\n",
       "      <td>0.002636</td>\n",
       "      <td>0.003429</td>\n",
       "      <td>0.001114</td>\n",
       "      <td>1.371023</td>\n",
       "      <td>46.89668</td>\n",
       "    </tr>\n",
       "    <tr>\n",
       "      <th>23</th>\n",
       "      <td>106806.573</td>\n",
       "      <td>2.397240e+06</td>\n",
       "      <td>69.59</td>\n",
       "      <td>2.254068e+06</td>\n",
       "      <td>224710.0</td>\n",
       "      <td>4.0</td>\n",
       "      <td>2019.0</td>\n",
       "      <td>0.005457</td>\n",
       "      <td>0.092100</td>\n",
       "      <td>0.004747</td>\n",
       "      <td>...</td>\n",
       "      <td>0.156118</td>\n",
       "      <td>0.019698</td>\n",
       "      <td>0.028792</td>\n",
       "      <td>0.018544</td>\n",
       "      <td>0.034826</td>\n",
       "      <td>0.000355</td>\n",
       "      <td>0.006788</td>\n",
       "      <td>0.001819</td>\n",
       "      <td>0.921623</td>\n",
       "      <td>25.32941</td>\n",
       "    </tr>\n",
       "    <tr>\n",
       "      <th>50</th>\n",
       "      <td>51362.769</td>\n",
       "      <td>1.095371e+07</td>\n",
       "      <td>74.08</td>\n",
       "      <td>1.062714e+07</td>\n",
       "      <td>18607.0</td>\n",
       "      <td>221.0</td>\n",
       "      <td>2019.0</td>\n",
       "      <td>0.002042</td>\n",
       "      <td>0.101702</td>\n",
       "      <td>0.001355</td>\n",
       "      <td>...</td>\n",
       "      <td>0.255384</td>\n",
       "      <td>0.021455</td>\n",
       "      <td>0.018227</td>\n",
       "      <td>0.027712</td>\n",
       "      <td>0.036840</td>\n",
       "      <td>0.000405</td>\n",
       "      <td>0.015329</td>\n",
       "      <td>0.004197</td>\n",
       "      <td>0.653958</td>\n",
       "      <td>18.14536</td>\n",
       "    </tr>\n",
       "    <tr>\n",
       "      <th>107</th>\n",
       "      <td>12242.222</td>\n",
       "      <td>4.775110e+06</td>\n",
       "      <td>64.92</td>\n",
       "      <td>4.403313e+06</td>\n",
       "      <td>397953.0</td>\n",
       "      <td>4.0</td>\n",
       "      <td>2019.0</td>\n",
       "      <td>0.004928</td>\n",
       "      <td>0.046874</td>\n",
       "      <td>0.001294</td>\n",
       "      <td>...</td>\n",
       "      <td>0.089751</td>\n",
       "      <td>0.013399</td>\n",
       "      <td>0.011923</td>\n",
       "      <td>0.013694</td>\n",
       "      <td>0.023301</td>\n",
       "      <td>0.000590</td>\n",
       "      <td>0.007880</td>\n",
       "      <td>0.001930</td>\n",
       "      <td>0.458450</td>\n",
       "      <td>66.54714</td>\n",
       "    </tr>\n",
       "    <tr>\n",
       "      <th>95</th>\n",
       "      <td>14940.703</td>\n",
       "      <td>2.159067e+06</td>\n",
       "      <td>54.33</td>\n",
       "      <td>2.108328e+06</td>\n",
       "      <td>11720.0</td>\n",
       "      <td>69.0</td>\n",
       "      <td>2019.0</td>\n",
       "      <td>0.007684</td>\n",
       "      <td>0.105107</td>\n",
       "      <td>0.005881</td>\n",
       "      <td>...</td>\n",
       "      <td>0.191052</td>\n",
       "      <td>0.026514</td>\n",
       "      <td>0.052933</td>\n",
       "      <td>0.018735</td>\n",
       "      <td>0.040838</td>\n",
       "      <td>0.001138</td>\n",
       "      <td>0.006119</td>\n",
       "      <td>0.001755</td>\n",
       "      <td>1.516937</td>\n",
       "      <td>27.79676</td>\n",
       "    </tr>\n",
       "    <tr>\n",
       "      <th>162</th>\n",
       "      <td>127629.704</td>\n",
       "      <td>5.917980e+05</td>\n",
       "      <td>71.68</td>\n",
       "      <td>5.759900e+05</td>\n",
       "      <td>63251.0</td>\n",
       "      <td>4.0</td>\n",
       "      <td>2019.0</td>\n",
       "      <td>0.001215</td>\n",
       "      <td>0.124308</td>\n",
       "      <td>0.002083</td>\n",
       "      <td>...</td>\n",
       "      <td>0.247053</td>\n",
       "      <td>0.045487</td>\n",
       "      <td>0.020313</td>\n",
       "      <td>0.022049</td>\n",
       "      <td>0.043577</td>\n",
       "      <td>0.000174</td>\n",
       "      <td>0.018924</td>\n",
       "      <td>0.004340</td>\n",
       "      <td>0.719457</td>\n",
       "      <td>21.62903</td>\n",
       "    </tr>\n",
       "    <tr>\n",
       "      <th>125</th>\n",
       "      <td>0.000</td>\n",
       "      <td>1.614000e+03</td>\n",
       "      <td>73.71</td>\n",
       "      <td>1.620000e+03</td>\n",
       "      <td>100.0</td>\n",
       "      <td>6.0</td>\n",
       "      <td>2019.0</td>\n",
       "      <td>0.000000</td>\n",
       "      <td>0.185185</td>\n",
       "      <td>0.000000</td>\n",
       "      <td>...</td>\n",
       "      <td>0.493827</td>\n",
       "      <td>0.061728</td>\n",
       "      <td>0.061728</td>\n",
       "      <td>0.000000</td>\n",
       "      <td>0.061728</td>\n",
       "      <td>0.000000</td>\n",
       "      <td>0.000000</td>\n",
       "      <td>0.000000</td>\n",
       "      <td>1.111111</td>\n",
       "      <td>6.83692</td>\n",
       "    </tr>\n",
       "    <tr>\n",
       "      <th>132</th>\n",
       "      <td>166016.021</td>\n",
       "      <td>4.381583e+06</td>\n",
       "      <td>78.51</td>\n",
       "      <td>4.176869e+06</td>\n",
       "      <td>29119.0</td>\n",
       "      <td>55.0</td>\n",
       "      <td>2019.0</td>\n",
       "      <td>0.000862</td>\n",
       "      <td>0.095382</td>\n",
       "      <td>0.000551</td>\n",
       "      <td>...</td>\n",
       "      <td>0.127320</td>\n",
       "      <td>0.027628</td>\n",
       "      <td>0.020997</td>\n",
       "      <td>0.012043</td>\n",
       "      <td>0.022385</td>\n",
       "      <td>0.000024</td>\n",
       "      <td>0.025234</td>\n",
       "      <td>0.004549</td>\n",
       "      <td>0.460249</td>\n",
       "      <td>13.22791</td>\n",
       "    </tr>\n",
       "    <tr>\n",
       "      <th>169</th>\n",
       "      <td>15182.198</td>\n",
       "      <td>1.343875e+06</td>\n",
       "      <td>69.50</td>\n",
       "      <td>1.267974e+06</td>\n",
       "      <td>5760.0</td>\n",
       "      <td>85.0</td>\n",
       "      <td>2019.0</td>\n",
       "      <td>0.002445</td>\n",
       "      <td>0.064986</td>\n",
       "      <td>0.001025</td>\n",
       "      <td>...</td>\n",
       "      <td>0.193931</td>\n",
       "      <td>0.018376</td>\n",
       "      <td>0.040695</td>\n",
       "      <td>0.016562</td>\n",
       "      <td>0.033991</td>\n",
       "      <td>0.000473</td>\n",
       "      <td>0.008044</td>\n",
       "      <td>0.002445</td>\n",
       "      <td>0.589287</td>\n",
       "      <td>15.75327</td>\n",
       "    </tr>\n",
       "    <tr>\n",
       "      <th>10</th>\n",
       "      <td>68339.094</td>\n",
       "      <td>1.022334e+07</td>\n",
       "      <td>73.00</td>\n",
       "      <td>9.949537e+06</td>\n",
       "      <td>33436.0</td>\n",
       "      <td>115.0</td>\n",
       "      <td>2019.0</td>\n",
       "      <td>0.000623</td>\n",
       "      <td>0.119734</td>\n",
       "      <td>0.004151</td>\n",
       "      <td>...</td>\n",
       "      <td>0.423517</td>\n",
       "      <td>0.013930</td>\n",
       "      <td>0.020162</td>\n",
       "      <td>0.031338</td>\n",
       "      <td>0.039650</td>\n",
       "      <td>0.000241</td>\n",
       "      <td>0.009458</td>\n",
       "      <td>0.003397</td>\n",
       "      <td>0.763081</td>\n",
       "      <td>26.26906</td>\n",
       "    </tr>\n",
       "    <tr>\n",
       "      <th>152</th>\n",
       "      <td>71525.423</td>\n",
       "      <td>5.453600e+06</td>\n",
       "      <td>83.62</td>\n",
       "      <td>5.757499e+06</td>\n",
       "      <td>276.0</td>\n",
       "      <td>8041.0</td>\n",
       "      <td>2019.0</td>\n",
       "      <td>0.000087</td>\n",
       "      <td>0.121598</td>\n",
       "      <td>0.000226</td>\n",
       "      <td>...</td>\n",
       "      <td>0.118281</td>\n",
       "      <td>0.013165</td>\n",
       "      <td>0.013026</td>\n",
       "      <td>0.004394</td>\n",
       "      <td>0.010282</td>\n",
       "      <td>0.000017</td>\n",
       "      <td>0.025653</td>\n",
       "      <td>0.004116</td>\n",
       "      <td>0.389405</td>\n",
       "      <td>19.00060</td>\n",
       "    </tr>\n",
       "    <tr>\n",
       "      <th>79</th>\n",
       "      <td>77376.949</td>\n",
       "      <td>8.502876e+07</td>\n",
       "      <td>76.68</td>\n",
       "      <td>8.180019e+07</td>\n",
       "      <td>628860.0</td>\n",
       "      <td>50.0</td>\n",
       "      <td>2019.0</td>\n",
       "      <td>0.000705</td>\n",
       "      <td>0.081653</td>\n",
       "      <td>0.002155</td>\n",
       "      <td>...</td>\n",
       "      <td>0.212226</td>\n",
       "      <td>0.015337</td>\n",
       "      <td>0.020581</td>\n",
       "      <td>0.008352</td>\n",
       "      <td>0.014037</td>\n",
       "      <td>0.000570</td>\n",
       "      <td>0.017005</td>\n",
       "      <td>0.003482</td>\n",
       "      <td>0.459754</td>\n",
       "      <td>39.00154</td>\n",
       "    </tr>\n",
       "    <tr>\n",
       "      <th>177</th>\n",
       "      <td>0.000</td>\n",
       "      <td>1.192500e+04</td>\n",
       "      <td>67.57</td>\n",
       "      <td>1.150800e+04</td>\n",
       "      <td>10.0</td>\n",
       "      <td>443.0</td>\n",
       "      <td>2019.0</td>\n",
       "      <td>0.000000</td>\n",
       "      <td>0.121655</td>\n",
       "      <td>0.000000</td>\n",
       "      <td>...</td>\n",
       "      <td>0.364964</td>\n",
       "      <td>0.043448</td>\n",
       "      <td>0.060827</td>\n",
       "      <td>0.017379</td>\n",
       "      <td>0.034758</td>\n",
       "      <td>0.000000</td>\n",
       "      <td>0.017379</td>\n",
       "      <td>0.008690</td>\n",
       "      <td>0.903719</td>\n",
       "      <td>6.11212</td>\n",
       "    </tr>\n",
       "  </tbody>\n",
       "</table>\n",
       "<p>48 rows × 40 columns</p>\n",
       "</div>"
      ],
      "text/plain": [
       "     new_cases_per_million  population_cov  life_expectancy_cov    Population  \\\n",
       "171                  0.000    1.368000e+03                81.86  1.319000e+03   \n",
       "26              144336.090    6.896655e+06                75.05  7.051608e+06   \n",
       "41              140487.169    5.139053e+06                80.28  4.999441e+06   \n",
       "4                 2898.709    3.393361e+07                61.15  3.080979e+07   \n",
       "85               26254.785    1.260508e+08                84.63  1.272022e+08   \n",
       "141              86437.428    1.459120e+08                72.58  1.457340e+08   \n",
       "62                4776.945    2.486937e+06                62.05  2.280094e+06   \n",
       "145                164.879    2.001440e+05                73.32  1.961290e+05   \n",
       "53               20727.009    6.518500e+06                73.32  6.420746e+06   \n",
       "100               2161.074    2.842733e+07                67.04  2.626231e+07   \n",
       "19              175884.164    6.209200e+04                82.59  6.275600e+04   \n",
       "161               1310.953    4.490935e+07                65.31  4.078274e+07   \n",
       "146             391884.730    3.401000e+04                84.97  3.378500e+04   \n",
       "42                2991.105    2.705363e+07                57.78  2.506923e+07   \n",
       "63              330321.107    3.979773e+06                73.77  4.002942e+06   \n",
       "108              55646.644    1.273428e+06                74.99  1.267185e+06   \n",
       "175             134229.882    8.504274e+07                77.69  8.234009e+07   \n",
       "77               30276.943    1.393409e+09                69.66  1.352642e+09   \n",
       "148               4954.901    1.719631e+07                67.94  1.585432e+07   \n",
       "88                5857.813    5.498570e+07                66.70  5.139256e+07   \n",
       "143             102248.553    5.354600e+04                76.23  5.244100e+04   \n",
       "150             381872.398    9.891000e+04                73.40  9.709600e+04   \n",
       "163             225172.174    1.016016e+07                82.80  9.971638e+06   \n",
       "31               82052.306    3.806791e+07                82.43  3.706456e+07   \n",
       "142               9727.020    1.327652e+07                69.02  1.230197e+07   \n",
       "165               2840.669    1.827570e+07                72.70  1.694506e+07   \n",
       "149             257342.781    6.871547e+06                76.00  8.802754e+06   \n",
       "179             103111.246    4.346682e+07                72.06  4.424616e+07   \n",
       "93              241093.175    1.866934e+06                75.29  1.928459e+06   \n",
       "137             136618.780    3.779700e+07                78.73  3.792159e+07   \n",
       "121               3508.925    5.126300e+06                82.29  4.743131e+06   \n",
       "37              116387.556    5.126584e+07                77.29  4.966105e+07   \n",
       "71                3855.122    2.015490e+06                58.32  1.874303e+06   \n",
       "155               3963.092    7.039950e+05                73.00  6.528570e+05   \n",
       "104               1448.304    2.085572e+07                59.31  1.907775e+07   \n",
       "33                2850.216    4.919987e+06                53.28  4.666368e+06   \n",
       "23              106806.573    2.397240e+06                69.59  2.254068e+06   \n",
       "50               51362.769    1.095371e+07                74.08  1.062714e+07   \n",
       "107              12242.222    4.775110e+06                64.92  4.403313e+06   \n",
       "95               14940.703    2.159067e+06                54.33  2.108328e+06   \n",
       "162             127629.704    5.917980e+05                71.68  5.759900e+05   \n",
       "125                  0.000    1.614000e+03                73.71  1.620000e+03   \n",
       "132             166016.021    4.381583e+06                78.51  4.176869e+06   \n",
       "169              15182.198    1.343875e+06                69.50  1.267974e+06   \n",
       "10               68339.094    1.022334e+07                73.00  9.949537e+06   \n",
       "152              71525.423    5.453600e+06                83.62  5.757499e+06   \n",
       "79               77376.949    8.502876e+07                76.68  8.180019e+07   \n",
       "177                  0.000    1.192500e+04                67.57  1.150800e+04   \n",
       "\n",
       "      Area_km2  Density_km2  Year_x  Meningitis  Neoplasms  \\\n",
       "171        5.0        110.0  2019.0    0.000000   0.151630   \n",
       "26     42818.0         64.0  2019.0    0.000553   0.312113   \n",
       "41     19730.0         98.0  2019.0    0.000700   0.120994   \n",
       "4     481351.0         25.0  2019.0    0.008179   0.041516   \n",
       "85    145919.0        337.0  2019.0    0.000320   0.347851   \n",
       "141  6601633.0          9.0  2019.0    0.000784   0.203674   \n",
       "62      4361.0        202.0  2019.0    0.009298   0.046928   \n",
       "145     1097.0         69.0  2019.0    0.001020   0.079030   \n",
       "53      8124.0        305.0  2019.0    0.000810   0.091968   \n",
       "100   226755.0         45.0  2019.0    0.007935   0.041927   \n",
       "19        20.0       1184.0  2019.0    0.000000   0.285232   \n",
       "161   718719.0         22.0  2019.0    0.001623   0.041930   \n",
       "146       24.0        554.0  2019.0    0.000000   0.346308   \n",
       "42    124503.0         78.0  2019.0    0.009011   0.046220   \n",
       "63     26911.0         57.0  2019.0    0.000525   0.208022   \n",
       "108      760.0        644.0  2019.0    0.000395   0.119714   \n",
       "175   302533.0        105.0  2019.0    0.000426   0.127296   \n",
       "77   1269212.0        411.0  2019.0    0.002568   0.068946   \n",
       "148    75951.0         81.0  2019.0    0.009859   0.051790   \n",
       "88    228555.0         87.0  2019.0    0.008554   0.045322   \n",
       "143      101.0        201.0  2019.0    0.001907   0.188784   \n",
       "150      176.0        213.0  2019.0    0.002060   0.186413   \n",
       "163   173859.0         22.0  2019.0    0.000311   0.265553   \n",
       "31   3855081.0          4.0  2019.0    0.000240   0.251108   \n",
       "142    10169.0        467.0  2019.0    0.008088   0.058064   \n",
       "165    71498.0         92.0  2019.0    0.001263   0.051838   \n",
       "149    34116.0        100.0  2019.0    0.000307   0.323126   \n",
       "179   233011.0         73.0  2019.0    0.000902   0.224241   \n",
       "93     24927.0         30.0  2019.0    0.000415   0.290439   \n",
       "137   120420.0        122.0  2019.0    0.000356   0.321927   \n",
       "121   104427.0         18.0  2019.0    0.000274   0.223144   \n",
       "37    440829.0         43.0  2019.0    0.000759   0.099595   \n",
       "71     13948.0         52.0  2019.0    0.014245   0.052073   \n",
       "155    11157.0         23.0  2019.0    0.002604   0.099562   \n",
       "104   478838.0         15.0  2019.0    0.032813   0.048937   \n",
       "33    240534.0          7.0  2019.0    0.019330   0.056939   \n",
       "23    224710.0          4.0  2019.0    0.005457   0.092100   \n",
       "50     18607.0        221.0  2019.0    0.002042   0.101702   \n",
       "107   397953.0          4.0  2019.0    0.004928   0.046874   \n",
       "95     11720.0         69.0  2019.0    0.007684   0.105107   \n",
       "162    63251.0          4.0  2019.0    0.001215   0.124308   \n",
       "125      100.0          6.0  2019.0    0.000000   0.185185   \n",
       "132    29119.0         55.0  2019.0    0.000862   0.095382   \n",
       "169     5760.0         85.0  2019.0    0.002445   0.064986   \n",
       "10     33436.0        115.0  2019.0    0.000623   0.119734   \n",
       "152      276.0       8041.0  2019.0    0.000087   0.121598   \n",
       "79    628860.0         50.0  2019.0    0.000705   0.081653   \n",
       "177       10.0        443.0  2019.0    0.000000   0.121655   \n",
       "\n",
       "     Fire, heat, and hot substances  ...  Cardiovascular diseases  \\\n",
       "171                        0.000000  ...                 0.303260   \n",
       "26                         0.001659  ...                 1.121999   \n",
       "41                         0.000420  ...                 0.133295   \n",
       "4                          0.001665  ...                 0.083493   \n",
       "85                         0.001271  ...                 0.292828   \n",
       "141                        0.004528  ...                 0.689565   \n",
       "62                         0.001974  ...                 0.114162   \n",
       "145                        0.001020  ...                 0.274819   \n",
       "53                         0.000654  ...                 0.150995   \n",
       "100                        0.001542  ...                 0.134782   \n",
       "19                         0.000000  ...                 0.333036   \n",
       "161                        0.002722  ...                 0.182359   \n",
       "146                        0.000000  ...                 0.290070   \n",
       "42                         0.002034  ...                 0.089257   \n",
       "63                         0.002948  ...                 0.742179   \n",
       "108                        0.001657  ...                 0.261130   \n",
       "175                        0.000509  ...                 0.214553   \n",
       "77                         0.001913  ...                 0.190325   \n",
       "148                        0.001785  ...                 0.100799   \n",
       "88                         0.001613  ...                 0.079021   \n",
       "143                        0.003814  ...                 0.299384   \n",
       "150                        0.002060  ...                 0.249238   \n",
       "163                        0.000893  ...                 0.361896   \n",
       "31                         0.000817  ...                 0.222973   \n",
       "142                        0.001780  ...                 0.096131   \n",
       "165                        0.000868  ...                 0.269589   \n",
       "149                        0.001170  ...                 0.724421   \n",
       "179                        0.004968  ...                 1.015627   \n",
       "93                         0.005860  ...                 0.818218   \n",
       "137                        0.001461  ...                 0.460782   \n",
       "121                        0.000485  ...                 0.251901   \n",
       "37                         0.000403  ...                 0.146249   \n",
       "71                         0.002508  ...                 0.118124   \n",
       "155                        0.003063  ...                 0.350000   \n",
       "104                        0.003978  ...                 0.102313   \n",
       "33                         0.003579  ...                 0.154510   \n",
       "23                         0.004747  ...                 0.156118   \n",
       "50                         0.001355  ...                 0.255384   \n",
       "107                        0.001294  ...                 0.089751   \n",
       "95                         0.005881  ...                 0.191052   \n",
       "162                        0.002083  ...                 0.247053   \n",
       "125                        0.000000  ...                 0.493827   \n",
       "132                        0.000551  ...                 0.127320   \n",
       "169                        0.001025  ...                 0.193931   \n",
       "10                         0.004151  ...                 0.423517   \n",
       "152                        0.000226  ...                 0.118281   \n",
       "79                         0.002155  ...                 0.212226   \n",
       "177                        0.000000  ...                 0.364964   \n",
       "\n",
       "     Chronic kidney disease  Chronic respiratory diseases  \\\n",
       "171                0.075815                      0.075815   \n",
       "26                 0.027653                      0.043054   \n",
       "41                 0.027443                      0.028503   \n",
       "4                  0.007997                      0.012769   \n",
       "85                 0.035631                      0.043862   \n",
       "141                0.007995                      0.027029   \n",
       "62                 0.013596                      0.018596   \n",
       "145                0.031102                      0.053536   \n",
       "53                 0.063591                      0.023580   \n",
       "100                0.007379                      0.022961   \n",
       "19                 0.030276                      0.028683   \n",
       "161                0.011657                      0.017632   \n",
       "146                0.011840                      0.032559   \n",
       "42                 0.013698                      0.014528   \n",
       "63                 0.017637                      0.030528   \n",
       "108                0.099433                      0.042377   \n",
       "175                0.023309                      0.040055   \n",
       "77                 0.016480                      0.086378   \n",
       "148                0.015434                      0.017427   \n",
       "88                 0.009270                      0.014992   \n",
       "143                0.061021                      0.020976   \n",
       "150                0.045316                      0.031927   \n",
       "163                0.020047                      0.044907   \n",
       "31                 0.020238                      0.049603   \n",
       "142                0.010291                      0.020485   \n",
       "165                0.015704                      0.019174   \n",
       "149                0.028593                      0.043907   \n",
       "179                0.006012                      0.027530   \n",
       "93                 0.013638                      0.022453   \n",
       "137                0.012381                      0.029928   \n",
       "121                0.019291                      0.050515   \n",
       "37                 0.019122                      0.035787   \n",
       "71                 0.015632                      0.020594   \n",
       "155                0.013632                      0.053151   \n",
       "104                0.014142                      0.023976   \n",
       "33                 0.013994                      0.033838   \n",
       "23                 0.019698                      0.028792   \n",
       "50                 0.021455                      0.018227   \n",
       "107                0.013399                      0.011923   \n",
       "95                 0.026514                      0.052933   \n",
       "162                0.045487                      0.020313   \n",
       "125                0.061728                      0.061728   \n",
       "132                0.027628                      0.020997   \n",
       "169                0.018376                      0.040695   \n",
       "10                 0.013930                      0.020162   \n",
       "152                0.013165                      0.013026   \n",
       "79                 0.015337                      0.020581   \n",
       "177                0.043448                      0.060827   \n",
       "\n",
       "     Cirrhosis and other chronic liver diseases  Digestive diseases  \\\n",
       "171                                    0.000000            0.000000   \n",
       "26                                     0.038388            0.063915   \n",
       "41                                     0.019202            0.035524   \n",
       "4                                      0.018390            0.029117   \n",
       "85                                     0.020635            0.047799   \n",
       "141                                    0.031634            0.062365   \n",
       "62                                     0.015657            0.027411   \n",
       "145                                    0.015296            0.028043   \n",
       "53                                     0.023362            0.037877   \n",
       "100                                    0.017226            0.027374   \n",
       "19                                     0.012748            0.030276   \n",
       "161                                    0.010053            0.015482   \n",
       "146                                    0.023679            0.041439   \n",
       "42                                     0.015748            0.026419   \n",
       "63                                     0.039021            0.053436   \n",
       "108                                    0.020755            0.031408   \n",
       "175                                    0.008925            0.017144   \n",
       "77                                     0.019964            0.034371   \n",
       "148                                    0.014917            0.027589   \n",
       "88                                     0.025480            0.040374   \n",
       "143                                    0.022883            0.045766   \n",
       "150                                    0.033987            0.052525   \n",
       "163                                    0.010720            0.032352   \n",
       "31                                     0.014682            0.034729   \n",
       "142                                    0.021127            0.034929   \n",
       "165                                    0.011944            0.015320   \n",
       "149                                    0.015915            0.048224   \n",
       "179                                    0.045520            0.068345   \n",
       "93                                     0.020120            0.049003   \n",
       "137                                    0.022586            0.047849   \n",
       "121                                    0.006262            0.022938   \n",
       "37                                     0.008022            0.023151   \n",
       "71                                     0.023956            0.039428   \n",
       "155                                    0.020372            0.029409   \n",
       "104                                    0.017125            0.032740   \n",
       "33                                     0.023680            0.047189   \n",
       "23                                     0.018544            0.034826   \n",
       "50                                     0.027712            0.036840   \n",
       "107                                    0.013694            0.023301   \n",
       "95                                     0.018735            0.040838   \n",
       "162                                    0.022049            0.043577   \n",
       "125                                    0.000000            0.061728   \n",
       "132                                    0.012043            0.022385   \n",
       "169                                    0.016562            0.033991   \n",
       "10                                     0.031338            0.039650   \n",
       "152                                    0.004394            0.010282   \n",
       "79                                     0.008352            0.014037   \n",
       "177                                    0.017379            0.034758   \n",
       "\n",
       "     Acute hepatitis  Alzheimer's disease and other dementias  \\\n",
       "171         0.000000                                 0.000000   \n",
       "26          0.000128                                 0.044614   \n",
       "41          0.000060                                 0.025903   \n",
       "4           0.000798                                 0.003710   \n",
       "85          0.000082                                 0.129616   \n",
       "141         0.000039                                 0.033237   \n",
       "62          0.000921                                 0.006754   \n",
       "145         0.000510                                 0.014276   \n",
       "53          0.000093                                 0.026399   \n",
       "100         0.000948                                 0.003271   \n",
       "19          0.000000                                 0.050991   \n",
       "161         0.002656                                 0.006902   \n",
       "146         0.000000                                 0.059198   \n",
       "42          0.000878                                 0.004723   \n",
       "63          0.000200                                 0.042993   \n",
       "108         0.000079                                 0.025490   \n",
       "175         0.000158                                 0.023951   \n",
       "77          0.002291                                 0.009538   \n",
       "148         0.000675                                 0.007859   \n",
       "88          0.002872                                 0.005263   \n",
       "143         0.000000                                 0.015255   \n",
       "150         0.000000                                 0.018538   \n",
       "163         0.000030                                 0.056530   \n",
       "31          0.000032                                 0.046006   \n",
       "142         0.001447                                 0.006275   \n",
       "165         0.000071                                 0.009395   \n",
       "149         0.000045                                 0.029161   \n",
       "179         0.000163                                 0.036998   \n",
       "93          0.000052                                 0.053462   \n",
       "137         0.000029                                 0.048703   \n",
       "121         0.000021                                 0.043558   \n",
       "37          0.000026                                 0.027531   \n",
       "71          0.001814                                 0.004215   \n",
       "155         0.001532                                 0.003370   \n",
       "104         0.002154                                 0.006426   \n",
       "33          0.002636                                 0.003429   \n",
       "23          0.000355                                 0.006788   \n",
       "50          0.000405                                 0.015329   \n",
       "107         0.000590                                 0.007880   \n",
       "95          0.001138                                 0.006119   \n",
       "162         0.000174                                 0.018924   \n",
       "125         0.000000                                 0.000000   \n",
       "132         0.000024                                 0.025234   \n",
       "169         0.000473                                 0.008044   \n",
       "10          0.000241                                 0.009458   \n",
       "152         0.000017                                 0.025653   \n",
       "79          0.000570                                 0.017005   \n",
       "177         0.000000                                 0.017379   \n",
       "\n",
       "     Parkinson's disease     Total  air_polution  \n",
       "171             0.000000  0.682335       6.84874  \n",
       "26              0.014181  1.770022      19.92702  \n",
       "41              0.004380  0.474053      17.43615  \n",
       "4               0.000867  0.562613      28.02152  \n",
       "85              0.013168  1.076846      13.64744  \n",
       "141             0.006443  1.219497      11.77739  \n",
       "62              0.002149  0.551293      58.21450  \n",
       "145             0.005099  0.676086      10.83320  \n",
       "53              0.004750  0.622155      22.34945  \n",
       "100             0.000792  0.597670      17.85980  \n",
       "19              0.012748  0.887565       7.08401  \n",
       "161             0.001741  0.449335      56.03598  \n",
       "146             0.008880  0.879088       9.99181  \n",
       "42              0.001528  0.678018      55.92510  \n",
       "63              0.007594  1.244660      18.24743  \n",
       "108             0.004972  0.835553      15.26528  \n",
       "175             0.004661  0.533054      26.85069  \n",
       "77              0.003349  0.651521      83.30377  \n",
       "148             0.002107  0.527042      60.17498  \n",
       "88              0.001208  0.560737      21.53547  \n",
       "143             0.005721  0.921035       8.85081  \n",
       "150             0.006179  0.807448      15.50187  \n",
       "163             0.012616  0.896202       5.72135  \n",
       "31              0.011124  0.739108       7.09026  \n",
       "142             0.001284  0.540767      36.22432  \n",
       "165             0.002561  0.489199      31.33487  \n",
       "149             0.009542  1.324472      25.50415  \n",
       "179             0.008105  1.589819      14.70064  \n",
       "93              0.009852  1.397178      12.70760  \n",
       "137             0.009053  1.057303      22.76563  \n",
       "121             0.008496  0.688406       6.05027  \n",
       "37              0.003945  0.475548      22.52540  \n",
       "71              0.001494  0.709490      54.01773  \n",
       "155             0.002910  0.892232      12.85680  \n",
       "104             0.001704  0.988073      60.67210  \n",
       "33              0.001114  1.371023      46.89668  \n",
       "23              0.001819  0.921623      25.32941  \n",
       "50              0.004197  0.653958      18.14536  \n",
       "107             0.001930  0.458450      66.54714  \n",
       "95              0.001755  1.516937      27.79676  \n",
       "162             0.004340  0.719457      21.62903  \n",
       "125             0.000000  1.111111       6.83692  \n",
       "132             0.004549  0.460249      13.22791  \n",
       "169             0.002445  0.589287      15.75327  \n",
       "10              0.003397  0.763081      26.26906  \n",
       "152             0.004116  0.389405      19.00060  \n",
       "79              0.003482  0.459754      39.00154  \n",
       "177             0.008690  0.903719       6.11212  \n",
       "\n",
       "[48 rows x 40 columns]"
      ]
     },
     "execution_count": 13,
     "metadata": {},
     "output_type": "execute_result"
    }
   ],
   "source": [
    "X_test"
   ]
  },
  {
   "cell_type": "code",
   "execution_count": 56,
   "metadata": {},
   "outputs": [],
   "source": [
    "X_test = StandardScaler().fit_transform(X_test)     \n",
    "X_test_tensor = helper.df_to_tensor(X_test)"
   ]
  },
  {
   "cell_type": "code",
   "execution_count": 57,
   "metadata": {},
   "outputs": [
    {
     "data": {
      "text/plain": [
       "torch.Size([48, 40])"
      ]
     },
     "execution_count": 57,
     "metadata": {},
     "output_type": "execute_result"
    }
   ],
   "source": [
    "X_test_tensor.shape"
   ]
  },
  {
   "cell_type": "code",
   "execution_count": 64,
   "metadata": {},
   "outputs": [],
   "source": [
    "pred_dnn = best_pytorch(X_test_tensor)"
   ]
  },
  {
   "cell_type": "code",
   "execution_count": 65,
   "metadata": {},
   "outputs": [
    {
     "data": {
      "text/plain": [
       "131241.51819139413"
      ]
     },
     "execution_count": 65,
     "metadata": {},
     "output_type": "execute_result"
    }
   ],
   "source": [
    "mean_squared_error(helper.torch_tensor_to_numpy(pred_dnn), y_test)"
   ]
  },
  {
   "cell_type": "code",
   "execution_count": 18,
   "metadata": {},
   "outputs": [],
   "source": [
    "def get_rerun_status(pred, y_test):\n",
    "\n",
    "    pred = helper.torch_tensor_to_numpy(pred)\n",
    "    y_test = y_test.values\n",
    "    \n",
    "    std_demon = 3\n",
    "    ul = y_test.mean() + y_test.std()/std_demon\n",
    "    ll = y_test.mean() - y_test.std()/std_demon\n",
    "\n",
    "\n",
    "\n",
    "    mean_pred = pred.mean()\n",
    "\n",
    "    print(mean_pred)\n",
    "    print(ul)\n",
    "\n",
    "\n",
    "    if (mean_pred < ul) & (mean_pred > ll):\n",
    "        return False\n",
    "\n",
    "    else: \n",
    "        return True\n",
    "\n"
   ]
  },
  {
   "cell_type": "code",
   "execution_count": 62,
   "metadata": {},
   "outputs": [
    {
     "ename": "NameError",
     "evalue": "name 'get_rerun_status' is not defined",
     "output_type": "error",
     "traceback": [
      "\u001b[0;31m---------------------------------------------------------------------------\u001b[0m",
      "\u001b[0;31mNameError\u001b[0m                                 Traceback (most recent call last)",
      "\u001b[1;32m/mnt/c/Users/rwmas/GitHub/xai/xai_api/app/notebooks/brisk_models.ipynb Cell 41\u001b[0m in \u001b[0;36m<cell line: 1>\u001b[0;34m()\u001b[0m\n\u001b[0;32m----> <a href='vscode-notebook-cell://wsl%2Bubuntu/mnt/c/Users/rwmas/GitHub/xai/xai_api/app/notebooks/brisk_models.ipynb#X54sdnNjb2RlLXJlbW90ZQ%3D%3D?line=0'>1</a>\u001b[0m get_rerun_status(pred_dnn, y_test)\n",
      "\u001b[0;31mNameError\u001b[0m: name 'get_rerun_status' is not defined"
     ]
    }
   ],
   "source": [
    "get_rerun_status(pred_dnn, y_test)"
   ]
  },
  {
   "cell_type": "code",
   "execution_count": 66,
   "metadata": {},
   "outputs": [
    {
     "data": {
      "text/html": [
       "<div>\n",
       "<style scoped>\n",
       "    .dataframe tbody tr th:only-of-type {\n",
       "        vertical-align: middle;\n",
       "    }\n",
       "\n",
       "    .dataframe tbody tr th {\n",
       "        vertical-align: top;\n",
       "    }\n",
       "\n",
       "    .dataframe thead th {\n",
       "        text-align: right;\n",
       "    }\n",
       "</style>\n",
       "<table border=\"1\" class=\"dataframe\">\n",
       "  <thead>\n",
       "    <tr style=\"text-align: right;\">\n",
       "      <th></th>\n",
       "      <th>countary</th>\n",
       "      <th>deaths</th>\n",
       "      <th>predictions</th>\n",
       "    </tr>\n",
       "  </thead>\n",
       "  <tbody>\n",
       "    <tr>\n",
       "      <th>0</th>\n",
       "      <td>144</td>\n",
       "      <td>0.000</td>\n",
       "      <td>72.942856</td>\n",
       "    </tr>\n",
       "    <tr>\n",
       "      <th>1</th>\n",
       "      <td>154</td>\n",
       "      <td>4896.644</td>\n",
       "      <td>4684.351562</td>\n",
       "    </tr>\n",
       "    <tr>\n",
       "      <th>2</th>\n",
       "      <td>157</td>\n",
       "      <td>1486.844</td>\n",
       "      <td>1270.367188</td>\n",
       "    </tr>\n",
       "    <tr>\n",
       "      <th>3</th>\n",
       "      <td>8</td>\n",
       "      <td>55.799</td>\n",
       "      <td>125.158325</td>\n",
       "    </tr>\n",
       "    <tr>\n",
       "      <th>4</th>\n",
       "      <td>173</td>\n",
       "      <td>153.473</td>\n",
       "      <td>866.250610</td>\n",
       "    </tr>\n",
       "    <tr>\n",
       "      <th>5</th>\n",
       "      <td>80</td>\n",
       "      <td>2252.476</td>\n",
       "      <td>1972.265503</td>\n",
       "    </tr>\n",
       "    <tr>\n",
       "      <th>6</th>\n",
       "      <td>52</td>\n",
       "      <td>146.353</td>\n",
       "      <td>40.099644</td>\n",
       "    </tr>\n",
       "    <tr>\n",
       "      <th>7</th>\n",
       "      <td>24</td>\n",
       "      <td>0.000</td>\n",
       "      <td>35.251743</td>\n",
       "    </tr>\n",
       "    <tr>\n",
       "      <th>8</th>\n",
       "      <td>82</td>\n",
       "      <td>604.743</td>\n",
       "      <td>795.203308</td>\n",
       "    </tr>\n",
       "    <tr>\n",
       "      <th>9</th>\n",
       "      <td>182</td>\n",
       "      <td>45.966</td>\n",
       "      <td>130.282318</td>\n",
       "    </tr>\n",
       "    <tr>\n",
       "      <th>10</th>\n",
       "      <td>176</td>\n",
       "      <td>1900.397</td>\n",
       "      <td>1614.331177</td>\n",
       "    </tr>\n",
       "    <tr>\n",
       "      <th>11</th>\n",
       "      <td>119</td>\n",
       "      <td>79.899</td>\n",
       "      <td>267.836609</td>\n",
       "    </tr>\n",
       "    <tr>\n",
       "      <th>12</th>\n",
       "      <td>166</td>\n",
       "      <td>3204.928</td>\n",
       "      <td>3299.872559</td>\n",
       "    </tr>\n",
       "    <tr>\n",
       "      <th>13</th>\n",
       "      <td>36</td>\n",
       "      <td>29.081</td>\n",
       "      <td>42.907673</td>\n",
       "    </tr>\n",
       "    <tr>\n",
       "      <th>14</th>\n",
       "      <td>20</td>\n",
       "      <td>3822.309</td>\n",
       "      <td>4096.352051</td>\n",
       "    </tr>\n",
       "    <tr>\n",
       "      <th>15</th>\n",
       "      <td>90</td>\n",
       "      <td>617.233</td>\n",
       "      <td>661.395996</td>\n",
       "    </tr>\n",
       "    <tr>\n",
       "      <th>16</th>\n",
       "      <td>28</td>\n",
       "      <td>1043.390</td>\n",
       "      <td>805.364380</td>\n",
       "    </tr>\n",
       "    <tr>\n",
       "      <th>17</th>\n",
       "      <td>13</td>\n",
       "      <td>354.972</td>\n",
       "      <td>186.312637</td>\n",
       "    </tr>\n",
       "    <tr>\n",
       "      <th>18</th>\n",
       "      <td>72</td>\n",
       "      <td>113.700</td>\n",
       "      <td>38.657642</td>\n",
       "    </tr>\n",
       "    <tr>\n",
       "      <th>19</th>\n",
       "      <td>183</td>\n",
       "      <td>102.229</td>\n",
       "      <td>133.803894</td>\n",
       "    </tr>\n",
       "    <tr>\n",
       "      <th>20</th>\n",
       "      <td>122</td>\n",
       "      <td>691.002</td>\n",
       "      <td>951.057617</td>\n",
       "    </tr>\n",
       "    <tr>\n",
       "      <th>21</th>\n",
       "      <td>180</td>\n",
       "      <td>1556.962</td>\n",
       "      <td>1787.349976</td>\n",
       "    </tr>\n",
       "    <tr>\n",
       "      <th>22</th>\n",
       "      <td>110</td>\n",
       "      <td>1592.490</td>\n",
       "      <td>1721.753784</td>\n",
       "    </tr>\n",
       "    <tr>\n",
       "      <th>23</th>\n",
       "      <td>60</td>\n",
       "      <td>912.035</td>\n",
       "      <td>1132.399170</td>\n",
       "    </tr>\n",
       "    <tr>\n",
       "      <th>24</th>\n",
       "      <td>7</td>\n",
       "      <td>108.901</td>\n",
       "      <td>28.899147</td>\n",
       "    </tr>\n",
       "    <tr>\n",
       "      <th>25</th>\n",
       "      <td>30</td>\n",
       "      <td>164.589</td>\n",
       "      <td>48.680851</td>\n",
       "    </tr>\n",
       "    <tr>\n",
       "      <th>26</th>\n",
       "      <td>168</td>\n",
       "      <td>2036.132</td>\n",
       "      <td>3130.828857</td>\n",
       "    </tr>\n",
       "    <tr>\n",
       "      <th>27</th>\n",
       "      <td>156</td>\n",
       "      <td>2485.236</td>\n",
       "      <td>2569.507568</td>\n",
       "    </tr>\n",
       "    <tr>\n",
       "      <th>28</th>\n",
       "      <td>29</td>\n",
       "      <td>2651.960</td>\n",
       "      <td>2613.523438</td>\n",
       "    </tr>\n",
       "    <tr>\n",
       "      <th>29</th>\n",
       "      <td>35</td>\n",
       "      <td>2820.237</td>\n",
       "      <td>2082.766846</td>\n",
       "    </tr>\n",
       "    <tr>\n",
       "      <th>30</th>\n",
       "      <td>0</td>\n",
       "      <td>10.335</td>\n",
       "      <td>108.910645</td>\n",
       "    </tr>\n",
       "    <tr>\n",
       "      <th>31</th>\n",
       "      <td>116</td>\n",
       "      <td>2648.125</td>\n",
       "      <td>1403.337891</td>\n",
       "    </tr>\n",
       "    <tr>\n",
       "      <th>32</th>\n",
       "      <td>45</td>\n",
       "      <td>78.378</td>\n",
       "      <td>33.378368</td>\n",
       "    </tr>\n",
       "    <tr>\n",
       "      <th>33</th>\n",
       "      <td>130</td>\n",
       "      <td>35.511</td>\n",
       "      <td>46.010082</td>\n",
       "    </tr>\n",
       "    <tr>\n",
       "      <th>34</th>\n",
       "      <td>40</td>\n",
       "      <td>34.318</td>\n",
       "      <td>136.161377</td>\n",
       "    </tr>\n",
       "    <tr>\n",
       "      <th>35</th>\n",
       "      <td>59</td>\n",
       "      <td>22.357</td>\n",
       "      <td>40.948139</td>\n",
       "    </tr>\n",
       "    <tr>\n",
       "      <th>36</th>\n",
       "      <td>140</td>\n",
       "      <td>1078.310</td>\n",
       "      <td>1044.129639</td>\n",
       "    </tr>\n",
       "    <tr>\n",
       "      <th>37</th>\n",
       "      <td>46</td>\n",
       "      <td>394.845</td>\n",
       "      <td>1222.266602</td>\n",
       "    </tr>\n",
       "    <tr>\n",
       "      <th>38</th>\n",
       "      <td>5</td>\n",
       "      <td>202.467</td>\n",
       "      <td>37.144222</td>\n",
       "    </tr>\n",
       "    <tr>\n",
       "      <th>39</th>\n",
       "      <td>16</td>\n",
       "      <td>321.415</td>\n",
       "      <td>181.766876</td>\n",
       "    </tr>\n",
       "    <tr>\n",
       "      <th>40</th>\n",
       "      <td>160</td>\n",
       "      <td>2168.010</td>\n",
       "      <td>1333.554199</td>\n",
       "    </tr>\n",
       "    <tr>\n",
       "      <th>41</th>\n",
       "      <td>65</td>\n",
       "      <td>0.000</td>\n",
       "      <td>44.398830</td>\n",
       "    </tr>\n",
       "    <tr>\n",
       "      <th>42</th>\n",
       "      <td>74</td>\n",
       "      <td>1790.229</td>\n",
       "      <td>1461.893555</td>\n",
       "    </tr>\n",
       "    <tr>\n",
       "      <th>43</th>\n",
       "      <td>61</td>\n",
       "      <td>90.771</td>\n",
       "      <td>33.446934</td>\n",
       "    </tr>\n",
       "    <tr>\n",
       "      <th>44</th>\n",
       "      <td>186</td>\n",
       "      <td>867.739</td>\n",
       "      <td>1200.176270</td>\n",
       "    </tr>\n",
       "    <tr>\n",
       "      <th>45</th>\n",
       "      <td>38</td>\n",
       "      <td>159.134</td>\n",
       "      <td>91.660477</td>\n",
       "    </tr>\n",
       "    <tr>\n",
       "      <th>46</th>\n",
       "      <td>27</td>\n",
       "      <td>1562.173</td>\n",
       "      <td>1297.124756</td>\n",
       "    </tr>\n",
       "    <tr>\n",
       "      <th>47</th>\n",
       "      <td>54</td>\n",
       "      <td>0.000</td>\n",
       "      <td>62.457264</td>\n",
       "    </tr>\n",
       "  </tbody>\n",
       "</table>\n",
       "</div>"
      ],
      "text/plain": [
       "    countary    deaths  predictions\n",
       "0        144     0.000    72.942856\n",
       "1        154  4896.644  4684.351562\n",
       "2        157  1486.844  1270.367188\n",
       "3          8    55.799   125.158325\n",
       "4        173   153.473   866.250610\n",
       "5         80  2252.476  1972.265503\n",
       "6         52   146.353    40.099644\n",
       "7         24     0.000    35.251743\n",
       "8         82   604.743   795.203308\n",
       "9        182    45.966   130.282318\n",
       "10       176  1900.397  1614.331177\n",
       "11       119    79.899   267.836609\n",
       "12       166  3204.928  3299.872559\n",
       "13        36    29.081    42.907673\n",
       "14        20  3822.309  4096.352051\n",
       "15        90   617.233   661.395996\n",
       "16        28  1043.390   805.364380\n",
       "17        13   354.972   186.312637\n",
       "18        72   113.700    38.657642\n",
       "19       183   102.229   133.803894\n",
       "20       122   691.002   951.057617\n",
       "21       180  1556.962  1787.349976\n",
       "22       110  1592.490  1721.753784\n",
       "23        60   912.035  1132.399170\n",
       "24         7   108.901    28.899147\n",
       "25        30   164.589    48.680851\n",
       "26       168  2036.132  3130.828857\n",
       "27       156  2485.236  2569.507568\n",
       "28        29  2651.960  2613.523438\n",
       "29        35  2820.237  2082.766846\n",
       "30         0    10.335   108.910645\n",
       "31       116  2648.125  1403.337891\n",
       "32        45    78.378    33.378368\n",
       "33       130    35.511    46.010082\n",
       "34        40    34.318   136.161377\n",
       "35        59    22.357    40.948139\n",
       "36       140  1078.310  1044.129639\n",
       "37        46   394.845  1222.266602\n",
       "38         5   202.467    37.144222\n",
       "39        16   321.415   181.766876\n",
       "40       160  2168.010  1333.554199\n",
       "41        65     0.000    44.398830\n",
       "42        74  1790.229  1461.893555\n",
       "43        61    90.771    33.446934\n",
       "44       186   867.739  1200.176270\n",
       "45        38   159.134    91.660477\n",
       "46        27  1562.173  1297.124756\n",
       "47        54     0.000    62.457264"
      ]
     },
     "execution_count": 66,
     "metadata": {},
     "output_type": "execute_result"
    }
   ],
   "source": [
    "df_dnn = pd.DataFrame(list(zip(X_train_orig['location'].values, y_test.values.reshape(y_test.shape[0], ), \n",
    "                                    helper.torch_tensor_to_numpy(pred_dnn).reshape(pred_dnn.shape[0]) )),\n",
    "               columns =['countary', 'deaths', 'predictions'])\n",
    "df_dnn\n"
   ]
  },
  {
   "cell_type": "code",
   "execution_count": 68,
   "metadata": {},
   "outputs": [
    {
     "data": {
      "text/plain": [
       "<matplotlib.legend.Legend at 0x7f18c9efe9d0>"
      ]
     },
     "execution_count": 68,
     "metadata": {},
     "output_type": "execute_result"
    },
    {
     "data": {
      "image/png": "[encoded data removed]",
      "text/plain": [
       "<Figure size 864x576 with 1 Axes>"
      ]
     },
     "metadata": {
      "needs_background": "light"
     },
     "output_type": "display_data"
    }
   ],
   "source": [
    "# plt.figure(figsize=(12, 8))\n",
    "fig = plt.figure(figsize=(12, 8))\n",
    "ax = fig.add_axes([0,0,1,1])\n",
    "ax.bar(X_test_orig['location'].values + 0.0, df_dnn.predictions.values, color = 'b', width = 2.25)\n",
    "# ax.bar(X['location'].values + 0.25, y_test.values.reshape(48, ), color = 'g', width = 0.25)\n",
    "ax.bar(X_test_orig['location'].values + 1.50, y_test.values.reshape(48, ), color = 'g', width = 2.25)\n",
    "# ax.bar(X + 0.50, data[2], color = 'r', width = 0.25)\n",
    "plt.xlabel(\"countries\")\n",
    "plt.ylabel(\"deaths\")\n",
    "ax.legend(labels=['predictions', 'actual'])"
   ]
  },
  {
   "cell_type": "markdown",
   "metadata": {},
   "source": []
  }
 ],
 "metadata": {
  "kernelspec": {
   "display_name": "Python 3.8.13 ('test')",
   "language": "python",
   "name": "python3"
  },
  "language_info": {
   "codemirror_mode": {
    "name": "ipython",
    "version": 3
   },
   "file_extension": ".py",
   "mimetype": "text/x-python",
   "name": "python",
   "nbconvert_exporter": "python",
   "pygments_lexer": "ipython3",
   "version": "3.8.13"
  },
  "orig_nbformat": 4,
  "vscode": {
   "interpreter": {
    "hash": "b6ff7914d2bc405bfa61a835d0564ba294eb5f3f9b4c24865f45d9397593b123"
   }
  }
 },
 "nbformat": 4,
 "nbformat_minor": 2
}
