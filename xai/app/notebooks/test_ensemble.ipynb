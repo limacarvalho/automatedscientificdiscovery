{
 "cells": [
  {
   "cell_type": "code",
   "execution_count": 1,
   "id": "ab85933c-830c-45f9-9c87-f6cb3f71dae9",
   "metadata": {},
   "outputs": [],
   "source": [
    "%load_ext autoreload\n",
    "%autoreload 2"
   ]
  },
  {
   "cell_type": "code",
   "execution_count": 2,
   "id": "fff94feb-5fa0-434d-91b7-e5ce3aef9e26",
   "metadata": {},
   "outputs": [],
   "source": [
    "import sys; sys.path.insert(0, '..') # add parent folder path where lib folder is"
   ]
  },
  {
   "cell_type": "code",
   "execution_count": 3,
   "id": "a063a109-d339-4680-954c-2e2bb06e0102",
   "metadata": {},
   "outputs": [],
   "source": [
    "# from ml.preprocess import data\n",
    "import pickle\n",
    "from dask_ml.preprocessing import StandardScaler\n",
    "from dask_ml.model_selection import train_test_split\n",
    "\n",
    "from sklearn.metrics import r2_score, mean_squared_error\n",
    "from sklearn.metrics import f1_score, roc_auc_score, precision_score, recall_score\n",
    "\n",
    "import numpy as np\n",
    "import pandas as pd\n",
    "\n",
    "from utils import helper, config, dasker\n",
    "\n",
    "from ml.models.base.slug_ann import SlugANN\n",
    "from ml.models.base.slug_xgboost import SlugXGBoost\n",
    "from ml.models.base.brisk_xgboost import BriskXGBoost\n",
    "from ml.models.ensemble import BaseUnify\n"
   ]
  },
  {
   "cell_type": "code",
   "execution_count": 4,
   "id": "09af835d-855a-4b3a-951d-c42adc6d50a3",
   "metadata": {},
   "outputs": [
    {
     "name": "stdout",
     "output_type": "stream",
     "text": [
      "2022-10-26 09:28:27,784 - asyncio - DEBUG - Using selector: EpollSelector\n"
     ]
    },
    {
     "name": "stderr",
     "output_type": "stream",
     "text": [
      "2022-10-26 09:28:28,815 - distributed.diskutils - INFO - Found stale lock file and directory '/tmp/dask-worker-space/worker-nlw39gh6', purging\n",
      "2022-10-26 09:28:28,816 - distributed.diskutils - INFO - Found stale lock file and directory '/tmp/dask-worker-space/worker-hy24l55h', purging\n",
      "2022-10-26 09:28:28,816 - distributed.diskutils - INFO - Found stale lock file and directory '/tmp/dask-worker-space/worker-zy9r1jz5', purging\n",
      "2022-10-26 09:28:28,816 - distributed.diskutils - INFO - Found stale lock file and directory '/tmp/dask-worker-space/worker-xa_9drh5', purging\n"
     ]
    },
    {
     "name": "stdout",
     "output_type": "stream",
     "text": [
      "<Client: 'tcp://127.0.0.1:8786' processes=4 threads=4, memory=15.37 GiB>\n"
     ]
    }
   ],
   "source": [
    "client = dasker.get_local_client()\n",
    "# cl =  dasker.get_global_client()\n",
    "print(client)"
   ]
  },
  {
   "cell_type": "code",
   "execution_count": 5,
   "id": "1f3b996b-9160-4b89-85b4-172ac2134968",
   "metadata": {},
   "outputs": [],
   "source": [
    "df_X, df_y = helper.get_covid_dataset()\n",
    "df_X = df_X.drop(['location'], axis = 1)\n",
    "X_train, X_test, y_train, y_test = train_test_split(df_X, df_y, test_size=0.33, random_state=config.rand_state)\n",
    "\n",
    "X_scalar = StandardScaler().fit_transform(df_X.copy())\n",
    "\n",
    "X_base_scalar, X_test_scalar, y_base_scalar, y_test_scalar = train_test_split(X_scalar, df_y, test_size=0.33, random_state=config.rand_state)\n",
    "X_train_scalar, X_val_scalar, y_train_scalar, y_val_scalar = train_test_split(X_base_scalar, y_base_scalar, random_state=config.rand_state)\n"
   ]
  },
  {
   "cell_type": "code",
   "execution_count": 7,
   "id": "3ca70aa4-d804-45de-99bc-4ac448a278bd",
   "metadata": {},
   "outputs": [],
   "source": [
    "slug_ann = SlugANN()\n",
    "slug_ann.pred_class = 'regression'\n",
    "slug_ann.X_train = X_train_scalar\n",
    "slug_ann.X_test = X_test_scalar\n",
    "slug_ann.X_val = X_val_scalar\n",
    "slug_ann.y_train = y_train_scalar\n",
    "slug_ann.y_test = y_test_scalar\n",
    "slug_ann.y_val = y_val_scalar\n",
    "slug_ann.n_trials = 300\n",
    "\n",
    "slug_xgb = SlugXGBoost()\n",
    "slug_xgb.pred_class = 'regression'\n",
    "slug_xgb.objective = 'count:poisson'\n",
    "slug_xgb.X_train = X_train\n",
    "slug_xgb.X_test = X_test\n",
    "slug_xgb.y_train = y_train\n",
    "slug_xgb.y_test = y_test\n",
    "slug_xgb.n_trials = 300\n",
    "\n",
    "base_models = [slug_ann, slug_xgb]"
   ]
  },
  {
   "cell_type": "code",
   "execution_count": 8,
   "id": "8cccb6bd-08c0-45f8-9f5c-19e75e645b38",
   "metadata": {},
   "outputs": [
    {
     "name": "stdout",
     "output_type": "stream",
     "text": [
      "Directory structure for project /covid created successfully\n"
     ]
    }
   ],
   "source": [
    "config.create_project_dirs(overwrite=False)"
   ]
  },
  {
   "cell_type": "code",
   "execution_count": 9,
   "id": "2a50a9cc-1139-4de0-b694-e32ff82f7462",
   "metadata": {},
   "outputs": [],
   "source": [
    "def __timer_expired__(sig, frame):\n",
    "    print('\\n')\n",
    "    # print(f'timer of {timer}s expired')    \n",
    "    print('Ensemble training session interrupted due to timer runout')\n",
    "    \n",
    "    client.shutdown()\n",
    "    unified_models.fetch_models(retrain=False)    "
   ]
  },
  {
   "cell_type": "code",
   "execution_count": 23,
   "id": "83190a1b-ad0b-4b7e-b505-bfcf82cd8214",
   "metadata": {},
   "outputs": [],
   "source": [
    "unified_models = BaseUnify(timer=20, base_models=base_models, callback_timer_expired=None)\n",
    "unified_models.ensemble_n_trials = 200\n"
   ]
  },
  {
   "cell_type": "code",
   "execution_count": null,
   "id": "1b48f58c-a3d3-4ccd-a74d-61ec034439f8",
   "metadata": {},
   "outputs": [
    {
     "name": "stdout",
     "output_type": "stream",
     "text": [
      "2022-10-26 09:41:22,295 - console_info - INFO - ensemble: base models discovery started\n",
      "2022-10-26 09:41:22,295 - console_info - INFO - ensemble: base models discovery started\n",
      "2022-10-26 09:41:23,111 - console_info - INFO - slug xgboost: Starting train for trials:300 with boosted rounds: 250\n",
      "2022-10-26 09:41:23,111 - console_info - INFO - slug xgboost: Starting train for trials:300 with boosted rounds: 250\n",
      "2022-10-26 09:41:23,120 - console_info - INFO - slug xgboost: Cleared previous models in the model save path\n",
      "2022-10-26 09:41:23,120 - console_info - INFO - slug xgboost: Cleared previous models in the model save path\n",
      "2022-10-26 09:41:23,201 - console_info - INFO - slug ann: Starting train for trials:300 with epochs: 300\n",
      "2022-10-26 09:41:23,201 - console_info - INFO - slug ann: Starting train for trials:300 with epochs: 300\n",
      "2022-10-26 09:41:23,210 - console_info - INFO - slug ann: Cleared previous models in the model save path\n",
      "2022-10-26 09:41:23,210 - console_info - INFO - slug ann: Cleared previous models in the model save path\n"
     ]
    }
   ],
   "source": [
    "unified_models.fetch_models(retrain=True)"
   ]
  },
  {
   "cell_type": "code",
   "execution_count": 27,
   "id": "9cabbd27-dee2-4405-9cd5-4bd729f50134",
   "metadata": {},
   "outputs": [
    {
     "name": "stdout",
     "output_type": "stream",
     "text": [
      "2022-10-26 09:41:16,829 - console_info - INFO - xgboost: no saved models found, please rerun the 'fetch_model' first.\n",
      "2022-10-26 09:41:16,829 - console_info - INFO - xgboost: no saved models found, please rerun the 'fetch_model' first.\n",
      "2022-10-26 09:41:16,834 - console_info - INFO - xgboost: no saved models found, please rerun the 'fetch_model' first.\n",
      "2022-10-26 09:41:16,834 - console_info - INFO - xgboost: no saved models found, please rerun the 'fetch_model' first.\n",
      "2022-10-26 09:41:16,848 - console_info - INFO - xgboost: no saved models found, please rerun the 'fetch_model' first.\n",
      "2022-10-26 09:41:16,848 - console_info - INFO - xgboost: no saved models found, please rerun the 'fetch_model' first.\n",
      "2022-10-26 09:41:16,870 - console_info - INFO - xgboost: no saved models found, please rerun the 'fetch_model' first.\n",
      "2022-10-26 09:41:16,870 - console_info - INFO - xgboost: no saved models found, please rerun the 'fetch_model' first.\n",
      "2022-10-26 09:41:16,880 - console_info - INFO - xgboost: no saved models found, please rerun the 'fetch_model' first.\n",
      "2022-10-26 09:41:16,880 - console_info - INFO - xgboost: no saved models found, please rerun the 'fetch_model' first.\n",
      "2022-10-26 09:41:16,896 - console_info - INFO - No BaseUnify model found, please run 'fit_ensemble(retrain=True)'\n",
      "2022-10-26 09:41:16,896 - console_info - INFO - No BaseUnify model found, please run 'fit_ensemble(retrain=True)'\n"
     ]
    }
   ],
   "source": [
    "unified_models.fit_ensemble(retrain=True)"
   ]
  },
  {
   "cell_type": "code",
   "execution_count": null,
   "id": "34580f50-fed0-4e7e-9817-b819efdc3a44",
   "metadata": {},
   "outputs": [],
   "source": [
    "unified_models.best_base_model"
   ]
  },
  {
   "cell_type": "code",
   "execution_count": null,
   "id": "09340cf6-29d4-45bb-aade-c4b91184b599",
   "metadata": {},
   "outputs": [],
   "source": [
    "pred = unified_models.predict(df_X)"
   ]
  },
  {
   "cell_type": "code",
   "execution_count": null,
   "id": "f8a996da-3648-452b-a76d-90e3dce5109a",
   "metadata": {},
   "outputs": [],
   "source": [
    "r2_score(pred, df_y)"
   ]
  },
  {
   "cell_type": "code",
   "execution_count": null,
   "id": "43ce3198-829f-4cc1-86f4-f93b1b143244",
   "metadata": {},
   "outputs": [],
   "source": [
    "pred = unified_models.predict(X_train)\n",
    "r2_score(pred, y_train)"
   ]
  },
  {
   "cell_type": "code",
   "execution_count": null,
   "id": "d4764412-93d1-4188-be90-ffeb38959ea2",
   "metadata": {},
   "outputs": [],
   "source": [
    "pred = unified_models.predict(X_test)\n",
    "r2_score(pred, y_test)"
   ]
  },
  {
   "cell_type": "code",
   "execution_count": null,
   "id": "49cc5490-14d8-44b4-aba6-0ff808aa9a69",
   "metadata": {},
   "outputs": [],
   "source": []
  }
 ],
 "metadata": {
  "kernelspec": {
   "display_name": "admin-wasif-dev",
   "language": "python",
   "name": "conda-env-admin-wasif-dev-py"
  },
  "language_info": {
   "codemirror_mode": {
    "name": "ipython",
    "version": 3
   },
   "file_extension": ".py",
   "mimetype": "text/x-python",
   "name": "python",
   "nbconvert_exporter": "python",
   "pygments_lexer": "ipython3",
   "version": "3.9.13"
  }
 },
 "nbformat": 4,
 "nbformat_minor": 5
}
