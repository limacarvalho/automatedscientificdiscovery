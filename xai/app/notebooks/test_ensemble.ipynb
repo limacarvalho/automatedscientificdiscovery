{
 "cells": [
  {
   "cell_type": "code",
   "execution_count": 2,
   "id": "ab85933c-830c-45f9-9c87-f6cb3f71dae9",
   "metadata": {},
   "outputs": [],
   "source": [
    "%load_ext autoreload\n",
    "%autoreload 2"
   ]
  },
  {
   "cell_type": "code",
   "execution_count": 3,
   "id": "fff94feb-5fa0-434d-91b7-e5ce3aef9e26",
   "metadata": {},
   "outputs": [],
   "source": [
    "import sys; sys.path.insert(0, '..') # add parent folder path where lib folder is"
   ]
  },
  {
   "cell_type": "code",
   "execution_count": 4,
   "id": "a063a109-d339-4680-954c-2e2bb06e0102",
   "metadata": {},
   "outputs": [],
   "source": [
    "# from ml.preprocess import data\n",
    "import pickle\n",
    "from dask_ml.preprocessing import StandardScaler\n",
    "from dask_ml.model_selection import train_test_split\n",
    "\n",
    "from sklearn.metrics import r2_score, mean_squared_error\n",
    "from sklearn.metrics import f1_score, roc_auc_score, precision_score, recall_score\n",
    "\n",
    "import numpy as np\n",
    "import pandas as pd\n",
    "\n",
    "from utils import helper, config, dasker\n",
    "\n",
    "from ml.models.base.slug_ann import SlugANN\n",
    "from ml.models.base.slug_xgboost import SlugXGBoost\n",
    "from ml.models.base.brisk_xgboost import BriskXGBoost\n",
    "from ml.models.ensemble import BaseUnify\n"
   ]
  },
  {
   "cell_type": "code",
   "execution_count": 5,
   "id": "09af835d-855a-4b3a-951d-c42adc6d50a3",
   "metadata": {},
   "outputs": [
    {
     "name": "stdout",
     "output_type": "stream",
     "text": [
      "2022-10-26 12:46:49,241 - asyncio - DEBUG - Using selector: EpollSelector\n",
      "<Client: 'tcp://127.0.0.1:8786' processes=4 threads=4, memory=15.37 GiB>\n"
     ]
    }
   ],
   "source": [
    "client = dasker.get_local_client()\n",
    "# cl =  dasker.get_global_client()\n",
    "print(client)"
   ]
  },
  {
   "cell_type": "code",
   "execution_count": 6,
   "id": "1f3b996b-9160-4b89-85b4-172ac2134968",
   "metadata": {},
   "outputs": [],
   "source": [
    "df_X, df_y = helper.get_covid_dataset()\n",
    "df_X = df_X.drop(['location'], axis = 1)\n",
    "X_train, X_test, y_train, y_test = train_test_split(df_X, df_y, test_size=0.33, random_state=config.rand_state)\n",
    "\n",
    "X_scalar = StandardScaler().fit_transform(df_X.copy())\n",
    "\n",
    "X_base_scalar, X_test_scalar, y_base_scalar, y_test_scalar = train_test_split(X_scalar, df_y, test_size=0.33, random_state=config.rand_state)\n",
    "X_train_scalar, X_val_scalar, y_train_scalar, y_val_scalar = train_test_split(X_base_scalar, y_base_scalar, random_state=config.rand_state)\n"
   ]
  },
  {
   "cell_type": "code",
   "execution_count": 7,
   "id": "3ca70aa4-d804-45de-99bc-4ac448a278bd",
   "metadata": {},
   "outputs": [],
   "source": [
    "### BaseClass\n",
    "slug_ann = SlugANN()\n",
    "slug_ann.pred_class = 'regression'\n",
    "slug_ann.X_train = X_train_scalar\n",
    "slug_ann.X_test = X_test_scalar\n",
    "slug_ann.X_val = X_val_scalar\n",
    "slug_ann.y_train = y_train_scalar\n",
    "slug_ann.y_test = y_test_scalar\n",
    "slug_ann.y_val = y_val_scalar\n",
    "slug_ann.n_trials = 20\n",
    "\n",
    "### BaseClass\n",
    "slug_xgb = SlugXGBoost()\n",
    "slug_xgb.pred_class = 'regression'\n",
    "slug_xgb.objective = 'count:poisson'\n",
    "slug_xgb.X_train = X_train\n",
    "slug_xgb.X_test = X_test\n",
    "slug_xgb.y_train = y_train\n",
    "slug_xgb.y_test = y_test\n",
    "slug_xgb.n_trials = 20\n",
    "\n",
    "base_models = [slug_ann, slug_xgb]"
   ]
  },
  {
   "cell_type": "code",
   "execution_count": 13,
   "id": "8cccb6bd-08c0-45f8-9f5c-19e75e645b38",
   "metadata": {},
   "outputs": [
    {
     "name": "stdout",
     "output_type": "stream",
     "text": [
      "Directory structure for project /covid created successfully\n"
     ]
    }
   ],
   "source": [
    "config.create_project_dirs(overwrite=False)"
   ]
  },
  {
   "cell_type": "code",
   "execution_count": 8,
   "id": "2a50a9cc-1139-4de0-b694-e32ff82f7462",
   "metadata": {},
   "outputs": [],
   "source": [
    "def __timer_expired__(sig, frame):\n",
    "    print('\\n')\n",
    "    # print(f'timer of {timer}s expired')    \n",
    "    print('Ensemble training session interrupted due to timer runout')\n",
    "    \n",
    "    client.shutdown()\n",
    "    unified_models.fetch_models(retrain=False)    "
   ]
  },
  {
   "cell_type": "code",
   "execution_count": 9,
   "id": "83190a1b-ad0b-4b7e-b505-bfcf82cd8214",
   "metadata": {},
   "outputs": [],
   "source": [
    "unified_models = BaseUnify(timer=20, base_models=base_models, callback_timer_expired=None)\n",
    "unified_models.ensemble_n_trials = 200\n"
   ]
  },
  {
   "cell_type": "code",
   "execution_count": 10,
   "id": "1b48f58c-a3d3-4ccd-a74d-61ec034439f8",
   "metadata": {},
   "outputs": [],
   "source": [
    "unified_models.fetch_models(retrain=False)"
   ]
  },
  {
   "cell_type": "code",
   "execution_count": 11,
   "id": "9cabbd27-dee2-4405-9cd5-4bd729f50134",
   "metadata": {},
   "outputs": [
    {
     "name": "stdout",
     "output_type": "stream",
     "text": [
      "2022-10-26 12:47:03,763 - console_info - INFO - Best score from base models: -3.829694062577821 compared to ensemble score:-3.0096565489768223\n",
      "2022-10-26 12:47:03,763 - console_info - INFO - Best score from base models: -3.829694062577821 compared to ensemble score:-3.0096565489768223\n",
      "2022-10-26 12:47:03,765 - console_info - INFO - Ensemble selected\n",
      "2022-10-26 12:47:03,765 - console_info - INFO - Ensemble selected\n"
     ]
    }
   ],
   "source": [
    "unified_models.fit_ensemble(retrain=False)"
   ]
  },
  {
   "cell_type": "code",
   "execution_count": 19,
   "id": "34580f50-fed0-4e7e-9817-b819efdc3a44",
   "metadata": {},
   "outputs": [
    {
     "data": {
      "text/plain": [
       "<ml.models.base.slug_xgboost.SlugXGBoost at 0x7f31b08c6a00>"
      ]
     },
     "execution_count": 19,
     "metadata": {},
     "output_type": "execute_result"
    }
   ],
   "source": [
    "unified_models.best_base_model"
   ]
  },
  {
   "cell_type": "code",
   "execution_count": 12,
   "id": "09340cf6-29d4-45bb-aade-c4b91184b599",
   "metadata": {},
   "outputs": [],
   "source": [
    "pred = unified_models.predict(df_X)"
   ]
  },
  {
   "cell_type": "code",
   "execution_count": 13,
   "id": "f8a996da-3648-452b-a76d-90e3dce5109a",
   "metadata": {},
   "outputs": [
    {
     "data": {
      "text/plain": [
       "-0.07466123508229416"
      ]
     },
     "execution_count": 13,
     "metadata": {},
     "output_type": "execute_result"
    },
    {
     "name": "stderr",
     "output_type": "stream",
     "text": [
      "2022-10-26 13:21:27,958 - distributed.nanny - ERROR - Worker process died unexpectedly\n",
      "2022-10-26 13:21:27,959 - distributed.nanny - ERROR - Worker process died unexpectedly\n",
      "2022-10-26 13:21:27,959 - distributed.nanny - ERROR - Worker process died unexpectedly\n",
      "2022-10-26 13:21:27,974 - distributed.nanny - WARNING - Restarting worker\n",
      "2022-10-26 13:21:27,975 - distributed.nanny - WARNING - Restarting worker\n",
      "2022-10-26 13:21:27,985 - distributed.nanny - WARNING - Restarting worker\n",
      "2022-10-26 13:21:28,008 - distributed.nanny - WARNING - Restarting worker\n",
      "2022-10-26 13:21:28,011 - distributed.nanny - WARNING - Restarting worker\n",
      "2022-10-26 13:21:28,038 - distributed.nanny - WARNING - Restarting worker\n",
      "2022-10-26 13:21:28,042 - distributed.nanny - WARNING - Restarting worker\n",
      "2022-10-26 13:21:28,063 - distributed.nanny - WARNING - Restarting worker\n",
      "2022-10-26 13:21:28,065 - distributed.nanny - WARNING - Restarting worker\n",
      "2022-10-26 13:21:28,141 - distributed.nanny - WARNING - Restarting worker\n",
      "2022-10-26 13:21:28,143 - distributed.nanny - WARNING - Restarting worker\n",
      "2022-10-26 13:21:28,151 - distributed.nanny - WARNING - Restarting worker\n",
      "2022-10-26 13:21:28,161 - distributed.nanny - WARNING - Restarting worker\n",
      "2022-10-26 13:21:28,445 - distributed.nanny - WARNING - Restarting worker\n",
      "2022-10-26 13:21:28,447 - distributed.nanny - WARNING - Restarting worker\n",
      "2022-10-26 13:21:28,448 - distributed.nanny - WARNING - Restarting worker\n",
      "2022-10-26 13:21:28,465 - distributed.nanny - WARNING - Restarting worker\n",
      "2022-10-26 13:21:29,450 - distributed.nanny - WARNING - Restarting worker\n",
      "2022-10-26 13:21:29,451 - distributed.nanny - WARNING - Restarting worker\n",
      "2022-10-26 13:21:29,469 - distributed.nanny - WARNING - Restarting worker\n",
      "2022-10-26 13:21:29,475 - distributed.nanny - WARNING - Restarting worker\n",
      "2022-10-26 13:21:30,059 - distributed.diskutils - INFO - Found stale lock file and directory '/tmp/dask-worker-space/worker-w0p7tin4', purging\n",
      "2022-10-26 13:21:30,060 - distributed.diskutils - INFO - Found stale lock file and directory '/tmp/dask-worker-space/worker-tk4wj688', purging\n",
      "2022-10-26 13:21:30,060 - distributed.diskutils - INFO - Found stale lock file and directory '/tmp/dask-worker-space/worker-cafi89w7', purging\n",
      "2022-10-26 13:21:30,060 - distributed.diskutils - INFO - Found stale lock file and directory '/tmp/dask-worker-space/worker-ax0gqxsk', purging\n"
     ]
    }
   ],
   "source": [
    "r2_score(pred, df_y)"
   ]
  },
  {
   "cell_type": "code",
   "execution_count": null,
   "id": "43ce3198-829f-4cc1-86f4-f93b1b143244",
   "metadata": {},
   "outputs": [],
   "source": [
    "pred = unified_models.predict(X_train)\n",
    "r2_score(pred, y_train)"
   ]
  },
  {
   "cell_type": "code",
   "execution_count": null,
   "id": "d4764412-93d1-4188-be90-ffeb38959ea2",
   "metadata": {},
   "outputs": [],
   "source": [
    "pred = unified_models.predict(X_test)\n",
    "r2_score(pred, y_test)"
   ]
  },
  {
   "cell_type": "code",
   "execution_count": null,
   "id": "49cc5490-14d8-44b4-aba6-0ff808aa9a69",
   "metadata": {},
   "outputs": [],
   "source": []
  }
 ],
 "metadata": {
  "kernelspec": {
   "display_name": "admin-wasif-dev",
   "language": "python",
   "name": "conda-env-admin-wasif-dev-py"
  },
  "language_info": {
   "codemirror_mode": {
    "name": "ipython",
    "version": 3
   },
   "file_extension": ".py",
   "mimetype": "text/x-python",
   "name": "python",
   "nbconvert_exporter": "python",
   "pygments_lexer": "ipython3",
   "version": "3.9.13"
  }
 },
 "nbformat": 4,
 "nbformat_minor": 5
}
