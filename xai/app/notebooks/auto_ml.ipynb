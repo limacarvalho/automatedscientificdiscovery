{
 "cells": [
  {
   "cell_type": "code",
   "execution_count": 2,
   "metadata": {},
   "outputs": [],
   "source": [
    "%load_ext autoreload\n",
    "%autoreload 2"
   ]
  },
  {
   "cell_type": "code",
   "execution_count": 3,
   "metadata": {},
   "outputs": [],
   "source": [
    "import sys; sys.path.insert(0, '..') # add parent folder path where lib folder is"
   ]
  },
  {
   "cell_type": "code",
   "execution_count": 4,
   "metadata": {},
   "outputs": [],
   "source": [
    "from utils import dasker"
   ]
  },
  {
   "cell_type": "code",
   "execution_count": 5,
   "metadata": {},
   "outputs": [],
   "source": [
    "import autosklearn.classification\n",
    "import autosklearn.regression\n",
    "import sklearn.model_selection\n",
    "import sklearn.datasets\n",
    "import sklearn.metrics\n",
    "\n",
    "\n",
    "from sklearn.model_selection import train_test_split\n",
    "import pandas as pd\n",
    "import numpy as np"
   ]
  },
  {
   "cell_type": "code",
   "execution_count": 6,
   "metadata": {},
   "outputs": [],
   "source": [
    "DROP_LIST = ['location']\n",
    "\n",
    "def get_dataset():\n",
    "    df = pd.read_csv('/mnt/c/Users/rwmas/GitHub/xai/xai_api/app/test/data/20220319_covid_merge_processed.csv', sep=\",\")\n",
    "\n",
    "    X = df[df.columns[df.columns!='y']]\n",
    "\n",
    "    X = X.drop(DROP_LIST, axis = 1)\n",
    "\n",
    "    y = df[df.columns[df.columns=='y']]\n",
    "\n",
    "    return X, y\n",
    "\n",
    "\n",
    "\n",
    "def get_split_dataset():\n",
    "    X, y = get_dataset()\n",
    "    return train_test_split(X, y, random_state=0, test_size=0.33)\n"
   ]
  },
  {
   "cell_type": "code",
   "execution_count": 8,
   "metadata": {},
   "outputs": [
    {
     "name": "stderr",
     "output_type": "stream",
     "text": [
      "/home/vagrant/miniconda3/envs/test/lib/python3.8/site-packages/distributed/node.py:183: UserWarning: Port 8787 is already in use.\n",
      "Perhaps you already have a cluster running?\n",
      "Hosting the HTTP server on port 35137 instead\n",
      "  warnings.warn(\n",
      "2022-10-06 10:38:53,615 - distributed.deploy.spec - WARNING - Cluster closed without starting up\n"
     ]
    },
    {
     "ename": "RuntimeError",
     "evalue": "Cluster failed to start: Scheduler failed to start.",
     "output_type": "error",
     "traceback": [
      "\u001b[0;31m---------------------------------------------------------------------------\u001b[0m",
      "\u001b[0;31mOSError\u001b[0m                                   Traceback (most recent call last)",
      "File \u001b[0;32m~/miniconda3/envs/test/lib/python3.8/site-packages/distributed/core.py:481\u001b[0m, in \u001b[0;36mServer.start\u001b[0;34m(self)\u001b[0m\n\u001b[1;32m    480\u001b[0m \u001b[39mtry\u001b[39;00m:\n\u001b[0;32m--> 481\u001b[0m     \u001b[39mawait\u001b[39;00m asyncio\u001b[39m.\u001b[39mwait_for(\u001b[39mself\u001b[39m\u001b[39m.\u001b[39mstart_unsafe(), timeout\u001b[39m=\u001b[39mtimeout)\n\u001b[1;32m    482\u001b[0m \u001b[39mexcept\u001b[39;00m asyncio\u001b[39m.\u001b[39mTimeoutError \u001b[39mas\u001b[39;00m exc:\n",
      "File \u001b[0;32m~/miniconda3/envs/test/lib/python3.8/asyncio/tasks.py:455\u001b[0m, in \u001b[0;36mwait_for\u001b[0;34m(fut, timeout, loop)\u001b[0m\n\u001b[1;32m    454\u001b[0m \u001b[39mif\u001b[39;00m timeout \u001b[39mis\u001b[39;00m \u001b[39mNone\u001b[39;00m:\n\u001b[0;32m--> 455\u001b[0m     \u001b[39mreturn\u001b[39;00m \u001b[39mawait\u001b[39;00m fut\n\u001b[1;32m    457\u001b[0m \u001b[39mif\u001b[39;00m timeout \u001b[39m<\u001b[39m\u001b[39m=\u001b[39m \u001b[39m0\u001b[39m:\n",
      "File \u001b[0;32m~/miniconda3/envs/test/lib/python3.8/site-packages/distributed/scheduler.py:3371\u001b[0m, in \u001b[0;36mScheduler.start_unsafe\u001b[0;34m(self)\u001b[0m\n\u001b[1;32m   3370\u001b[0m \u001b[39mfor\u001b[39;00m addr \u001b[39min\u001b[39;00m \u001b[39mself\u001b[39m\u001b[39m.\u001b[39m_start_address:\n\u001b[0;32m-> 3371\u001b[0m     \u001b[39mawait\u001b[39;00m \u001b[39mself\u001b[39m\u001b[39m.\u001b[39mlisten(\n\u001b[1;32m   3372\u001b[0m         addr,\n\u001b[1;32m   3373\u001b[0m         allow_offload\u001b[39m=\u001b[39m\u001b[39mFalse\u001b[39;00m,\n\u001b[1;32m   3374\u001b[0m         handshake_overrides\u001b[39m=\u001b[39m{\u001b[39m\"\u001b[39m\u001b[39mpickle-protocol\u001b[39m\u001b[39m\"\u001b[39m: \u001b[39m4\u001b[39m, \u001b[39m\"\u001b[39m\u001b[39mcompression\u001b[39m\u001b[39m\"\u001b[39m: \u001b[39mNone\u001b[39;00m},\n\u001b[1;32m   3375\u001b[0m         \u001b[39m*\u001b[39m\u001b[39m*\u001b[39m\u001b[39mself\u001b[39m\u001b[39m.\u001b[39msecurity\u001b[39m.\u001b[39mget_listen_args(\u001b[39m\"\u001b[39m\u001b[39mscheduler\u001b[39m\u001b[39m\"\u001b[39m),\n\u001b[1;32m   3376\u001b[0m     )\n\u001b[1;32m   3377\u001b[0m     \u001b[39mself\u001b[39m\u001b[39m.\u001b[39mip \u001b[39m=\u001b[39m get_address_host(\u001b[39mself\u001b[39m\u001b[39m.\u001b[39mlisten_address)\n",
      "File \u001b[0;32m~/miniconda3/envs/test/lib/python3.8/site-packages/distributed/core.py:659\u001b[0m, in \u001b[0;36mServer.listen\u001b[0;34m(self, port_or_addr, allow_offload, **kwargs)\u001b[0m\n\u001b[1;32m    658\u001b[0m     \u001b[39massert\u001b[39;00m \u001b[39misinstance\u001b[39m(addr, \u001b[39mstr\u001b[39m)\n\u001b[0;32m--> 659\u001b[0m listener \u001b[39m=\u001b[39m \u001b[39mawait\u001b[39;00m listen(\n\u001b[1;32m    660\u001b[0m     addr,\n\u001b[1;32m    661\u001b[0m     \u001b[39mself\u001b[39m\u001b[39m.\u001b[39mhandle_comm,\n\u001b[1;32m    662\u001b[0m     deserialize\u001b[39m=\u001b[39m\u001b[39mself\u001b[39m\u001b[39m.\u001b[39mdeserialize,\n\u001b[1;32m    663\u001b[0m     allow_offload\u001b[39m=\u001b[39mallow_offload,\n\u001b[1;32m    664\u001b[0m     \u001b[39m*\u001b[39m\u001b[39m*\u001b[39mkwargs,\n\u001b[1;32m    665\u001b[0m )\n\u001b[1;32m    666\u001b[0m \u001b[39mself\u001b[39m\u001b[39m.\u001b[39mlisteners\u001b[39m.\u001b[39mappend(listener)\n",
      "File \u001b[0;32m~/miniconda3/envs/test/lib/python3.8/site-packages/distributed/comm/core.py:212\u001b[0m, in \u001b[0;36mListener.__await__.<locals>._\u001b[0;34m()\u001b[0m\n\u001b[1;32m    211\u001b[0m \u001b[39masync\u001b[39;00m \u001b[39mdef\u001b[39;00m \u001b[39m_\u001b[39m():\n\u001b[0;32m--> 212\u001b[0m     \u001b[39mawait\u001b[39;00m \u001b[39mself\u001b[39m\u001b[39m.\u001b[39mstart()\n\u001b[1;32m    213\u001b[0m     \u001b[39mreturn\u001b[39;00m \u001b[39mself\u001b[39m\n",
      "File \u001b[0;32m~/miniconda3/envs/test/lib/python3.8/site-packages/distributed/comm/tcp.py:563\u001b[0m, in \u001b[0;36mBaseTCPListener.start\u001b[0;34m(self)\u001b[0m\n\u001b[1;32m    558\u001b[0m \u001b[39mtry\u001b[39;00m:\n\u001b[1;32m    559\u001b[0m     \u001b[39m# When shuffling data between workers, there can\u001b[39;00m\n\u001b[1;32m    560\u001b[0m     \u001b[39m# really be O(cluster size) connection requests\u001b[39;00m\n\u001b[1;32m    561\u001b[0m     \u001b[39m# on a single worker socket, make sure the backlog\u001b[39;00m\n\u001b[1;32m    562\u001b[0m     \u001b[39m# is large enough not to lose any.\u001b[39;00m\n\u001b[0;32m--> 563\u001b[0m     sockets \u001b[39m=\u001b[39m netutil\u001b[39m.\u001b[39;49mbind_sockets(\n\u001b[1;32m    564\u001b[0m         \u001b[39mself\u001b[39;49m\u001b[39m.\u001b[39;49mport, address\u001b[39m=\u001b[39;49m\u001b[39mself\u001b[39;49m\u001b[39m.\u001b[39;49mip, backlog\u001b[39m=\u001b[39;49mbacklog\n\u001b[1;32m    565\u001b[0m     )\n\u001b[1;32m    566\u001b[0m \u001b[39mexcept\u001b[39;00m \u001b[39mOSError\u001b[39;00m \u001b[39mas\u001b[39;00m e:\n\u001b[1;32m    567\u001b[0m     \u001b[39m# EADDRINUSE can happen sporadically when trying to bind\u001b[39;00m\n\u001b[1;32m    568\u001b[0m     \u001b[39m# to an ephemeral port\u001b[39;00m\n",
      "File \u001b[0;32m~/miniconda3/envs/test/lib/python3.8/site-packages/tornado/netutil.py:161\u001b[0m, in \u001b[0;36mbind_sockets\u001b[0;34m(port, address, family, backlog, flags, reuse_port)\u001b[0m\n\u001b[1;32m    160\u001b[0m \u001b[39mtry\u001b[39;00m:\n\u001b[0;32m--> 161\u001b[0m     sock\u001b[39m.\u001b[39;49mbind(sockaddr)\n\u001b[1;32m    162\u001b[0m \u001b[39mexcept\u001b[39;00m \u001b[39mOSError\u001b[39;00m \u001b[39mas\u001b[39;00m e:\n",
      "\u001b[0;31mOSError\u001b[0m: [Errno 98] Address already in use",
      "\nThe above exception was the direct cause of the following exception:\n",
      "\u001b[0;31mRuntimeError\u001b[0m                              Traceback (most recent call last)",
      "File \u001b[0;32m~/miniconda3/envs/test/lib/python3.8/site-packages/distributed/deploy/spec.py:309\u001b[0m, in \u001b[0;36mSpecCluster._start\u001b[0;34m(self)\u001b[0m\n\u001b[1;32m    308\u001b[0m     \u001b[39mself\u001b[39m\u001b[39m.\u001b[39mscheduler \u001b[39m=\u001b[39m \u001b[39mcls\u001b[39m(\u001b[39m*\u001b[39m\u001b[39m*\u001b[39m\u001b[39mself\u001b[39m\u001b[39m.\u001b[39mscheduler_spec\u001b[39m.\u001b[39mget(\u001b[39m\"\u001b[39m\u001b[39moptions\u001b[39m\u001b[39m\"\u001b[39m, {}))\n\u001b[0;32m--> 309\u001b[0m     \u001b[39mself\u001b[39m\u001b[39m.\u001b[39mscheduler \u001b[39m=\u001b[39m \u001b[39mawait\u001b[39;00m \u001b[39mself\u001b[39m\u001b[39m.\u001b[39mscheduler\n\u001b[1;32m    310\u001b[0m \u001b[39mself\u001b[39m\u001b[39m.\u001b[39mscheduler_comm \u001b[39m=\u001b[39m rpc(\n\u001b[1;32m    311\u001b[0m     \u001b[39mgetattr\u001b[39m(\u001b[39mself\u001b[39m\u001b[39m.\u001b[39mscheduler, \u001b[39m\"\u001b[39m\u001b[39mexternal_address\u001b[39m\u001b[39m\"\u001b[39m, \u001b[39mNone\u001b[39;00m)\n\u001b[1;32m    312\u001b[0m     \u001b[39mor\u001b[39;00m \u001b[39mself\u001b[39m\u001b[39m.\u001b[39mscheduler\u001b[39m.\u001b[39maddress,\n\u001b[1;32m    313\u001b[0m     connection_args\u001b[39m=\u001b[39m\u001b[39mself\u001b[39m\u001b[39m.\u001b[39msecurity\u001b[39m.\u001b[39mget_connection_args(\u001b[39m\"\u001b[39m\u001b[39mclient\u001b[39m\u001b[39m\"\u001b[39m),\n\u001b[1;32m    314\u001b[0m )\n",
      "File \u001b[0;32m~/miniconda3/envs/test/lib/python3.8/site-packages/distributed/core.py:489\u001b[0m, in \u001b[0;36mServer.start\u001b[0;34m(self)\u001b[0m\n\u001b[1;32m    488\u001b[0m     \u001b[39mawait\u001b[39;00m _close_on_failure(exc)\n\u001b[0;32m--> 489\u001b[0m     \u001b[39mraise\u001b[39;00m \u001b[39mRuntimeError\u001b[39;00m(\u001b[39mf\u001b[39m\u001b[39m\"\u001b[39m\u001b[39m{\u001b[39;00m\u001b[39mtype\u001b[39m(\u001b[39mself\u001b[39m)\u001b[39m.\u001b[39m\u001b[39m__name__\u001b[39m\u001b[39m}\u001b[39;00m\u001b[39m failed to start.\u001b[39m\u001b[39m\"\u001b[39m) \u001b[39mfrom\u001b[39;00m \u001b[39mexc\u001b[39;00m\n\u001b[1;32m    490\u001b[0m \u001b[39mself\u001b[39m\u001b[39m.\u001b[39mstatus \u001b[39m=\u001b[39m Status\u001b[39m.\u001b[39mrunning\n",
      "\u001b[0;31mRuntimeError\u001b[0m: Scheduler failed to start.",
      "\nThe above exception was the direct cause of the following exception:\n",
      "\u001b[0;31mRuntimeError\u001b[0m                              Traceback (most recent call last)",
      "\u001b[1;32m/mnt/c/Users/rwmas/GitHub/xai/xai_api/app/notebooks/auto_ml.ipynb Cell 6\u001b[0m in \u001b[0;36m<cell line: 2>\u001b[0;34m()\u001b[0m\n\u001b[1;32m      <a href='vscode-notebook-cell://wsl%2Bubuntu/mnt/c/Users/rwmas/GitHub/xai/xai_api/app/notebooks/auto_ml.ipynb#X12sdnNjb2RlLXJlbW90ZQ%3D%3D?line=0'>1</a>\u001b[0m X_train, X_test, y_train, y_test,  \u001b[39m=\u001b[39m get_split_dataset()\n\u001b[0;32m----> <a href='vscode-notebook-cell://wsl%2Bubuntu/mnt/c/Users/rwmas/GitHub/xai/xai_api/app/notebooks/auto_ml.ipynb#X12sdnNjb2RlLXJlbW90ZQ%3D%3D?line=1'>2</a>\u001b[0m client \u001b[39m=\u001b[39m dasker\u001b[39m.\u001b[39;49mget_dask_client()\n",
      "File \u001b[0;32m/mnt/c/Users/rwmas/GitHub/xai/xai_api/app/notebooks/../utils/dasker.py:12\u001b[0m, in \u001b[0;36mget_dask_client\u001b[0;34m()\u001b[0m\n\u001b[1;32m      9\u001b[0m client \u001b[39m=\u001b[39m distributed\u001b[39m.\u001b[39mclient\u001b[39m.\u001b[39m_get_global_client()\n\u001b[1;32m     11\u001b[0m \u001b[39mif\u001b[39;00m client \u001b[39mis\u001b[39;00m \u001b[39mNone\u001b[39;00m:\n\u001b[0;32m---> 12\u001b[0m     cluster \u001b[39m=\u001b[39m LocalCluster(scheduler_port\u001b[39m=\u001b[39;49m\u001b[39m8786\u001b[39;49m)\n\u001b[1;32m     13\u001b[0m     \u001b[39m# cluster = LocalCluster(scheduler_port=config.dask_local_scheduler_port)\u001b[39;00m\n\u001b[1;32m     14\u001b[0m     cl \u001b[39m=\u001b[39m Client(cluster)\n",
      "File \u001b[0;32m~/miniconda3/envs/test/lib/python3.8/site-packages/distributed/deploy/local.py:238\u001b[0m, in \u001b[0;36mLocalCluster.__init__\u001b[0;34m(self, name, n_workers, threads_per_worker, processes, loop, start, host, ip, scheduler_port, silence_logs, dashboard_address, worker_dashboard_address, diagnostics_port, services, worker_services, service_kwargs, asynchronous, security, protocol, blocked_handlers, interface, worker_class, scheduler_kwargs, scheduler_sync_interval, **worker_kwargs)\u001b[0m\n\u001b[1;32m    235\u001b[0m worker \u001b[39m=\u001b[39m {\u001b[39m\"\u001b[39m\u001b[39mcls\u001b[39m\u001b[39m\"\u001b[39m: worker_class, \u001b[39m\"\u001b[39m\u001b[39moptions\u001b[39m\u001b[39m\"\u001b[39m: worker_kwargs}\n\u001b[1;32m    236\u001b[0m workers \u001b[39m=\u001b[39m {i: worker \u001b[39mfor\u001b[39;00m i \u001b[39min\u001b[39;00m \u001b[39mrange\u001b[39m(n_workers)}\n\u001b[0;32m--> 238\u001b[0m \u001b[39msuper\u001b[39;49m()\u001b[39m.\u001b[39;49m\u001b[39m__init__\u001b[39;49m(\n\u001b[1;32m    239\u001b[0m     name\u001b[39m=\u001b[39;49mname,\n\u001b[1;32m    240\u001b[0m     scheduler\u001b[39m=\u001b[39;49mscheduler,\n\u001b[1;32m    241\u001b[0m     workers\u001b[39m=\u001b[39;49mworkers,\n\u001b[1;32m    242\u001b[0m     worker\u001b[39m=\u001b[39;49mworker,\n\u001b[1;32m    243\u001b[0m     loop\u001b[39m=\u001b[39;49mloop,\n\u001b[1;32m    244\u001b[0m     asynchronous\u001b[39m=\u001b[39;49masynchronous,\n\u001b[1;32m    245\u001b[0m     silence_logs\u001b[39m=\u001b[39;49msilence_logs,\n\u001b[1;32m    246\u001b[0m     security\u001b[39m=\u001b[39;49msecurity,\n\u001b[1;32m    247\u001b[0m     scheduler_sync_interval\u001b[39m=\u001b[39;49mscheduler_sync_interval,\n\u001b[1;32m    248\u001b[0m )\n",
      "File \u001b[0;32m~/miniconda3/envs/test/lib/python3.8/site-packages/distributed/deploy/spec.py:275\u001b[0m, in \u001b[0;36mSpecCluster.__init__\u001b[0;34m(self, workers, scheduler, worker, asynchronous, loop, security, silence_logs, name, shutdown_on_close, scheduler_sync_interval)\u001b[0m\n\u001b[1;32m    273\u001b[0m \u001b[39mif\u001b[39;00m \u001b[39mnot\u001b[39;00m called_from_running_loop:\n\u001b[1;32m    274\u001b[0m     \u001b[39mself\u001b[39m\u001b[39m.\u001b[39m_loop_runner\u001b[39m.\u001b[39mstart()\n\u001b[0;32m--> 275\u001b[0m     \u001b[39mself\u001b[39;49m\u001b[39m.\u001b[39;49msync(\u001b[39mself\u001b[39;49m\u001b[39m.\u001b[39;49m_start)\n\u001b[1;32m    276\u001b[0m     \u001b[39mtry\u001b[39;00m:\n\u001b[1;32m    277\u001b[0m         \u001b[39mself\u001b[39m\u001b[39m.\u001b[39msync(\u001b[39mself\u001b[39m\u001b[39m.\u001b[39m_correct_state)\n",
      "File \u001b[0;32m~/miniconda3/envs/test/lib/python3.8/site-packages/distributed/utils.py:338\u001b[0m, in \u001b[0;36mSyncMethodMixin.sync\u001b[0;34m(self, func, asynchronous, callback_timeout, *args, **kwargs)\u001b[0m\n\u001b[1;32m    336\u001b[0m     \u001b[39mreturn\u001b[39;00m future\n\u001b[1;32m    337\u001b[0m \u001b[39melse\u001b[39;00m:\n\u001b[0;32m--> 338\u001b[0m     \u001b[39mreturn\u001b[39;00m sync(\n\u001b[1;32m    339\u001b[0m         \u001b[39mself\u001b[39;49m\u001b[39m.\u001b[39;49mloop, func, \u001b[39m*\u001b[39;49margs, callback_timeout\u001b[39m=\u001b[39;49mcallback_timeout, \u001b[39m*\u001b[39;49m\u001b[39m*\u001b[39;49mkwargs\n\u001b[1;32m    340\u001b[0m     )\n",
      "File \u001b[0;32m~/miniconda3/envs/test/lib/python3.8/site-packages/distributed/utils.py:405\u001b[0m, in \u001b[0;36msync\u001b[0;34m(loop, func, callback_timeout, *args, **kwargs)\u001b[0m\n\u001b[1;32m    403\u001b[0m \u001b[39mif\u001b[39;00m error:\n\u001b[1;32m    404\u001b[0m     typ, exc, tb \u001b[39m=\u001b[39m error\n\u001b[0;32m--> 405\u001b[0m     \u001b[39mraise\u001b[39;00m exc\u001b[39m.\u001b[39mwith_traceback(tb)\n\u001b[1;32m    406\u001b[0m \u001b[39melse\u001b[39;00m:\n\u001b[1;32m    407\u001b[0m     \u001b[39mreturn\u001b[39;00m result\n",
      "File \u001b[0;32m~/miniconda3/envs/test/lib/python3.8/site-packages/distributed/utils.py:378\u001b[0m, in \u001b[0;36msync.<locals>.f\u001b[0;34m()\u001b[0m\n\u001b[1;32m    376\u001b[0m         future \u001b[39m=\u001b[39m asyncio\u001b[39m.\u001b[39mwait_for(future, callback_timeout)\n\u001b[1;32m    377\u001b[0m     future \u001b[39m=\u001b[39m asyncio\u001b[39m.\u001b[39mensure_future(future)\n\u001b[0;32m--> 378\u001b[0m     result \u001b[39m=\u001b[39m \u001b[39myield\u001b[39;00m future\n\u001b[1;32m    379\u001b[0m \u001b[39mexcept\u001b[39;00m \u001b[39mException\u001b[39;00m:\n\u001b[1;32m    380\u001b[0m     error \u001b[39m=\u001b[39m sys\u001b[39m.\u001b[39mexc_info()\n",
      "File \u001b[0;32m~/miniconda3/envs/test/lib/python3.8/site-packages/tornado/gen.py:762\u001b[0m, in \u001b[0;36mRunner.run\u001b[0;34m(self)\u001b[0m\n\u001b[1;32m    759\u001b[0m exc_info \u001b[39m=\u001b[39m \u001b[39mNone\u001b[39;00m\n\u001b[1;32m    761\u001b[0m \u001b[39mtry\u001b[39;00m:\n\u001b[0;32m--> 762\u001b[0m     value \u001b[39m=\u001b[39m future\u001b[39m.\u001b[39;49mresult()\n\u001b[1;32m    763\u001b[0m \u001b[39mexcept\u001b[39;00m \u001b[39mException\u001b[39;00m:\n\u001b[1;32m    764\u001b[0m     exc_info \u001b[39m=\u001b[39m sys\u001b[39m.\u001b[39mexc_info()\n",
      "File \u001b[0;32m~/miniconda3/envs/test/lib/python3.8/site-packages/distributed/deploy/spec.py:319\u001b[0m, in \u001b[0;36mSpecCluster._start\u001b[0;34m(self)\u001b[0m\n\u001b[1;32m    317\u001b[0m \u001b[39mself\u001b[39m\u001b[39m.\u001b[39mstatus \u001b[39m=\u001b[39m Status\u001b[39m.\u001b[39mfailed\n\u001b[1;32m    318\u001b[0m \u001b[39mawait\u001b[39;00m \u001b[39mself\u001b[39m\u001b[39m.\u001b[39m_close()\n\u001b[0;32m--> 319\u001b[0m \u001b[39mraise\u001b[39;00m \u001b[39mRuntimeError\u001b[39;00m(\u001b[39mf\u001b[39m\u001b[39m\"\u001b[39m\u001b[39mCluster failed to start: \u001b[39m\u001b[39m{\u001b[39;00me\u001b[39m}\u001b[39;00m\u001b[39m\"\u001b[39m) \u001b[39mfrom\u001b[39;00m \u001b[39me\u001b[39;00m\n",
      "\u001b[0;31mRuntimeError\u001b[0m: Cluster failed to start: Scheduler failed to start."
     ]
    }
   ],
   "source": [
    "X_train, X_test, y_train, y_test,  = get_split_dataset()\n",
    "client = dasker.get_dask_client() "
   ]
  },
  {
   "cell_type": "code",
   "execution_count": 14,
   "metadata": {},
   "outputs": [],
   "source": [
    "\n",
    "automl = autosklearn.regression.AutoSklearnRegressor(time_left_for_this_task=3600)"
   ]
  },
  {
   "cell_type": "code",
   "execution_count": 15,
   "metadata": {},
   "outputs": [
    {
     "name": "stderr",
     "output_type": "stream",
     "text": [
      "/home/vagrant/miniconda3/envs/auto_ml/lib/python3.10/site-packages/sklearn/metrics/_regression.py:691: RuntimeWarning: overflow encountered in square\n",
      "  numerator = (weight * (y_true - y_pred) ** 2).sum(axis=0,\n",
      "/home/vagrant/miniconda3/envs/auto_ml/lib/python3.10/site-packages/sklearn/metrics/_regression.py:691: RuntimeWarning: overflow encountered in square\n",
      "  numerator = (weight * (y_true - y_pred) ** 2).sum(axis=0,\n",
      "/home/vagrant/miniconda3/envs/auto_ml/lib/python3.10/site-packages/sklearn/metrics/_regression.py:691: RuntimeWarning: overflow encountered in square\n",
      "  numerator = (weight * (y_true - y_pred) ** 2).sum(axis=0,\n",
      "/home/vagrant/miniconda3/envs/auto_ml/lib/python3.10/site-packages/sklearn/metrics/_regression.py:691: RuntimeWarning: overflow encountered in square\n",
      "  numerator = (weight * (y_true - y_pred) ** 2).sum(axis=0,\n"
     ]
    },
    {
     "data": {
      "text/plain": [
       "AutoSklearnRegressor(ensemble_class=<class 'autosklearn.ensembles.ensemble_selection.EnsembleSelection'>,\n",
       "                     per_run_time_limit=360)"
      ]
     },
     "execution_count": 15,
     "metadata": {},
     "output_type": "execute_result"
    }
   ],
   "source": [
    "automl.fit(X_train, y_train)"
   ]
  },
  {
   "cell_type": "code",
   "execution_count": 1,
   "metadata": {},
   "outputs": [
    {
     "ename": "NameError",
     "evalue": "name 'automl' is not defined",
     "output_type": "error",
     "traceback": [
      "\u001b[0;31m---------------------------------------------------------------------------\u001b[0m",
      "\u001b[0;31mNameError\u001b[0m                                 Traceback (most recent call last)",
      "\u001b[1;32m/mnt/c/Users/rwmas/GitHub/xai/xai_api/app/notebooks/auto_ml.ipynb Cell 9\u001b[0m in \u001b[0;36m<cell line: 1>\u001b[0;34m()\u001b[0m\n\u001b[0;32m----> <a href='vscode-notebook-cell://wsl%2Bubuntu/mnt/c/Users/rwmas/GitHub/xai/xai_api/app/notebooks/auto_ml.ipynb#X16sdnNjb2RlLXJlbW90ZQ%3D%3D?line=0'>1</a>\u001b[0m y_hat \u001b[39m=\u001b[39m automl\u001b[39m.\u001b[39mpredict(X_test)\n\u001b[1;32m      <a href='vscode-notebook-cell://wsl%2Bubuntu/mnt/c/Users/rwmas/GitHub/xai/xai_api/app/notebooks/auto_ml.ipynb#X16sdnNjb2RlLXJlbW90ZQ%3D%3D?line=1'>2</a>\u001b[0m \u001b[39mprint\u001b[39m(\u001b[39m\"\u001b[39m\u001b[39mMSE\u001b[39m\u001b[39m\"\u001b[39m, sklearn\u001b[39m.\u001b[39mmetrics\u001b[39m.\u001b[39mmean_squared_error(y_test, y_hat))\n",
      "\u001b[0;31mNameError\u001b[0m: name 'automl' is not defined"
     ]
    }
   ],
   "source": [
    "y_hat = automl.predict(X_test)\n",
    "print(\"Accuracy score\", sklearn.metrics.mean(y_test, y_hat))"
   ]
  },
  {
   "cell_type": "code",
   "execution_count": 19,
   "metadata": {},
   "outputs": [
    {
     "data": {
      "text/plain": [
       "<bound method AutoSklearnEstimator.leaderboard of AutoSklearnRegressor(ensemble_class=<class 'autosklearn.ensembles.ensemble_selection.EnsembleSelection'>,\n",
       "                     per_run_time_limit=360)>"
      ]
     },
     "execution_count": 19,
     "metadata": {},
     "output_type": "execute_result"
    }
   ],
   "source": [
    "automl."
   ]
  },
  {
   "cell_type": "code",
   "execution_count": null,
   "metadata": {},
   "outputs": [],
   "source": []
  }
 ],
 "metadata": {
  "kernelspec": {
   "display_name": "Python 3 (ipykernel)",
   "language": "python",
   "name": "python3"
  },
  "language_info": {
   "codemirror_mode": {
    "name": "ipython",
    "version": 3
   },
   "file_extension": ".py",
   "mimetype": "text/x-python",
   "name": "python",
   "nbconvert_exporter": "python",
   "pygments_lexer": "ipython3",
   "version": "3.10.5"
  },
  "vscode": {
   "interpreter": {
    "hash": "b6ff7914d2bc405bfa61a835d0564ba294eb5f3f9b4c24865f45d9397593b123"
   }
  }
 },
 "nbformat": 4,
 "nbformat_minor": 4
}
