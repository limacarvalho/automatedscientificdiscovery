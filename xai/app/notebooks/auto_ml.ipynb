{
 "cells": [
  {
   "cell_type": "code",
   "execution_count": 1,
   "metadata": {},
   "outputs": [],
   "source": [
    "%load_ext autoreload\n",
    "%autoreload 2"
   ]
  },
  {
   "cell_type": "code",
   "execution_count": 2,
   "metadata": {},
   "outputs": [],
   "source": [
    "import sys; sys.path.insert(0, '..') # add parent folder path where lib folder is"
   ]
  },
  {
   "cell_type": "code",
   "execution_count": 3,
   "metadata": {},
   "outputs": [],
   "source": [
    "from utils import dasker"
   ]
  },
  {
   "cell_type": "code",
   "execution_count": 4,
   "metadata": {},
   "outputs": [],
   "source": [
    "import autosklearn.classification\n",
    "import autosklearn.regression\n",
    "import sklearn.model_selection\n",
    "import sklearn.datasets\n",
    "import sklearn.metrics\n",
    "\n",
    "\n",
    "from sklearn.model_selection import train_test_split\n",
    "import pandas as pd\n",
    "import numpy as np"
   ]
  },
  {
   "cell_type": "code",
   "execution_count": 5,
   "metadata": {},
   "outputs": [],
   "source": [
    "DROP_LIST = ['location']\n",
    "\n",
    "def get_dataset():\n",
    "    df = pd.read_csv('/mnt/c/Users/rwmas/GitHub/xai/xai_api/app/test/data/20220319_covid_merge_processed.csv', sep=\",\")\n",
    "\n",
    "    X = df[df.columns[df.columns!='y']]\n",
    "\n",
    "    X = X.drop(DROP_LIST, axis = 1)\n",
    "\n",
    "    y = df[df.columns[df.columns=='y']]\n",
    "\n",
    "    return X, y\n",
    "\n",
    "\n",
    "\n",
    "def get_split_dataset():\n",
    "    X, y = get_dataset()\n",
    "    return train_test_split(X, y, random_state=0, test_size=0.33)\n"
   ]
  },
  {
   "cell_type": "code",
   "execution_count": 6,
   "metadata": {},
   "outputs": [
    {
     "name": "stderr",
     "output_type": "stream",
     "text": [
      "2022-10-05 11:30:33,997 - distributed.diskutils - INFO - Found stale lock file and directory '/tmp/dask-worker-space/worker-fwjpx69o', purging\n",
      "2022-10-05 11:30:33,997 - distributed.diskutils - INFO - Found stale lock file and directory '/tmp/dask-worker-space/worker-ker3uu8w', purging\n",
      "2022-10-05 11:30:33,997 - distributed.diskutils - INFO - Found stale lock file and directory '/tmp/dask-worker-space/worker-f_mgaa16', purging\n",
      "2022-10-05 11:30:33,998 - distributed.diskutils - INFO - Found stale lock file and directory '/tmp/dask-worker-space/worker-8wzum80y', purging\n"
     ]
    }
   ],
   "source": [
    "X_train, X_test, y_train, y_test,  = get_split_dataset()\n",
    "client = dasker.get_dask_client() "
   ]
  },
  {
   "cell_type": "code",
   "execution_count": 14,
   "metadata": {},
   "outputs": [],
   "source": [
    "\n",
    "automl = autosklearn.regression.AutoSklearnRegressor(time_left_for_this_task=3600)"
   ]
  },
  {
   "cell_type": "code",
   "execution_count": 15,
   "metadata": {},
   "outputs": [
    {
     "name": "stderr",
     "output_type": "stream",
     "text": [
      "/home/vagrant/miniconda3/envs/auto_ml/lib/python3.10/site-packages/sklearn/metrics/_regression.py:691: RuntimeWarning: overflow encountered in square\n",
      "  numerator = (weight * (y_true - y_pred) ** 2).sum(axis=0,\n",
      "/home/vagrant/miniconda3/envs/auto_ml/lib/python3.10/site-packages/sklearn/metrics/_regression.py:691: RuntimeWarning: overflow encountered in square\n",
      "  numerator = (weight * (y_true - y_pred) ** 2).sum(axis=0,\n",
      "/home/vagrant/miniconda3/envs/auto_ml/lib/python3.10/site-packages/sklearn/metrics/_regression.py:691: RuntimeWarning: overflow encountered in square\n",
      "  numerator = (weight * (y_true - y_pred) ** 2).sum(axis=0,\n",
      "/home/vagrant/miniconda3/envs/auto_ml/lib/python3.10/site-packages/sklearn/metrics/_regression.py:691: RuntimeWarning: overflow encountered in square\n",
      "  numerator = (weight * (y_true - y_pred) ** 2).sum(axis=0,\n"
     ]
    },
    {
     "data": {
      "text/plain": [
       "AutoSklearnRegressor(ensemble_class=<class 'autosklearn.ensembles.ensemble_selection.EnsembleSelection'>,\n",
       "                     per_run_time_limit=360)"
      ]
     },
     "execution_count": 15,
     "metadata": {},
     "output_type": "execute_result"
    }
   ],
   "source": [
    "automl.fit(X_train, y_train)"
   ]
  },
  {
   "cell_type": "code",
   "execution_count": 16,
   "metadata": {},
   "outputs": [
    {
     "name": "stdout",
     "output_type": "stream",
     "text": [
      "Accuracy score 959503.4866658469\n"
     ]
    }
   ],
   "source": [
    "y_hat = automl.predict(X_test)\n",
    "print(\"Accuracy score\", sklearn.metrics.mean_squared_error(y_test, y_hat))"
   ]
  },
  {
   "cell_type": "code",
   "execution_count": 19,
   "metadata": {},
   "outputs": [
    {
     "data": {
      "text/plain": [
       "<bound method AutoSklearnEstimator.leaderboard of AutoSklearnRegressor(ensemble_class=<class 'autosklearn.ensembles.ensemble_selection.EnsembleSelection'>,\n",
       "                     per_run_time_limit=360)>"
      ]
     },
     "execution_count": 19,
     "metadata": {},
     "output_type": "execute_result"
    }
   ],
   "source": [
    "automl."
   ]
  },
  {
   "cell_type": "code",
   "execution_count": null,
   "metadata": {},
   "outputs": [],
   "source": []
  }
 ],
 "metadata": {
  "kernelspec": {
   "display_name": "Python 3.10.4 ('auto_ml')",
   "language": "python",
   "name": "python3"
  },
  "language_info": {
   "codemirror_mode": {
    "name": "ipython",
    "version": 3
   },
   "file_extension": ".py",
   "mimetype": "text/x-python",
   "name": "python",
   "nbconvert_exporter": "python",
   "pygments_lexer": "ipython3",
   "version": "3.10.4"
  },
  "orig_nbformat": 4,
  "vscode": {
   "interpreter": {
    "hash": "0c23d9934c3d3da0dd09ad2187faba3127f6925cb62715fd8a875859c92bdbe7"
   }
  }
 },
 "nbformat": 4,
 "nbformat_minor": 2
}
