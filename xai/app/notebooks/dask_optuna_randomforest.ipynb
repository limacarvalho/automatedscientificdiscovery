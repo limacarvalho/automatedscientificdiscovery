{
 "cells": [
  {
   "cell_type": "code",
   "execution_count": 1,
   "metadata": {},
   "outputs": [],
   "source": [
    "%load_ext autoreload\n",
    "%autoreload 2"
   ]
  },
  {
   "cell_type": "code",
   "execution_count": 2,
   "metadata": {},
   "outputs": [],
   "source": [
    "import sys; sys.path.insert(0, '..') # add parent folder path where lib folder is"
   ]
  },
  {
   "cell_type": "code",
   "execution_count": 3,
   "metadata": {},
   "outputs": [],
   "source": [
    "from ml.preprocess import data\n",
    "from utils import dasker, helper"
   ]
  },
  {
   "cell_type": "code",
   "execution_count": 4,
   "metadata": {},
   "outputs": [],
   "source": [
    "\n",
    "from torch.utils.data import random_split, DataLoader, Dataset\n",
    "from dask_ml.preprocessing import StandardScaler\n",
    "\n",
    "from sklearn.model_selection import train_test_split\n",
    "from sklearn.metrics import mean_squared_error\n",
    "import pandas as pd\n",
    "import numpy as np\n"
   ]
  },
  {
   "cell_type": "code",
   "execution_count": 5,
   "metadata": {},
   "outputs": [],
   "source": [
    "N_SPLITS = 3"
   ]
  },
  {
   "cell_type": "code",
   "execution_count": 6,
   "metadata": {},
   "outputs": [],
   "source": [
    "\n",
    "\n",
    "X_train_orig, y = data.get_dataset(f_name = '20220319_covid_merge_processed.csv' , sep = ',')\n",
    "# X_tilda = X.drop(brisk_xgboost.DROP_LIST, axis = 1)\n",
    "X = X_train_orig.drop(['location'], axis = 1)\n",
    "\n",
    "X_train, X_test, y_train, y_test = train_test_split(X, y, test_size=0.25, random_state=0)\n",
    "\n"
   ]
  },
  {
   "cell_type": "code",
   "execution_count": 7,
   "metadata": {},
   "outputs": [],
   "source": [
    "DROP_LIST = ['location']\n",
    "\n",
    "def get_dataset():\n",
    "    df = pd.read_csv('/mnt/c/Users/rwmas/GitHub/xai/xai_api/app/test/data/20220319_covid_merge_processed.csv', sep=\",\")\n",
    "\n",
    "    X = df[df.columns[df.columns!='y']]\n",
    "\n",
    "    X = X.drop(DROP_LIST, axis = 1)\n",
    "\n",
    "    y = df[df.columns[df.columns=='y']]\n",
    "\n",
    "    return X, y\n",
    "\n",
    "\n",
    "\n",
    "def get_split_dataset():\n",
    "    X, y = get_dataset()\n",
    "    return train_test_split(X, y, random_state=0, test_size=0.33)\n"
   ]
  },
  {
   "cell_type": "code",
   "execution_count": 8,
   "metadata": {},
   "outputs": [],
   "source": [
    "X_train, X_test, y_train, y_test,  = get_split_dataset()"
   ]
  },
  {
   "cell_type": "code",
   "execution_count": 9,
   "metadata": {},
   "outputs": [],
   "source": [
    "# y_train.values.reshape(y_train.shape[0], )"
   ]
  },
  {
   "cell_type": "code",
   "execution_count": 10,
   "metadata": {},
   "outputs": [],
   "source": [
    "from sklearn.ensemble import RandomForestRegressor\n",
    "from sklearn.model_selection import cross_validate\n",
    "from sklearn.model_selection import StratifiedKFold, KFold"
   ]
  },
  {
   "cell_type": "code",
   "execution_count": 11,
   "metadata": {},
   "outputs": [],
   "source": [
    "params = {\n",
    "    'n_estimators': 100,\n",
    "    'criterion' : 'squared_error',\n",
    "    'max_depth': 2\n",
    "}"
   ]
  },
  {
   "cell_type": "code",
   "execution_count": 22,
   "metadata": {},
   "outputs": [
    {
     "data": {
      "text/html": [
       "<style>#sk-container-id-3 {color: black;background-color: white;}#sk-container-id-3 pre{padding: 0;}#sk-container-id-3 div.sk-toggleable {background-color: white;}#sk-container-id-3 label.sk-toggleable__label {cursor: pointer;display: block;width: 100%;margin-bottom: 0;padding: 0.3em;box-sizing: border-box;text-align: center;}#sk-container-id-3 label.sk-toggleable__label-arrow:before {content: \"▸\";float: left;margin-right: 0.25em;color: #696969;}#sk-container-id-3 label.sk-toggleable__label-arrow:hover:before {color: black;}#sk-container-id-3 div.sk-estimator:hover label.sk-toggleable__label-arrow:before {color: black;}#sk-container-id-3 div.sk-toggleable__content {max-height: 0;max-width: 0;overflow: hidden;text-align: left;background-color: #f0f8ff;}#sk-container-id-3 div.sk-toggleable__content pre {margin: 0.2em;color: black;border-radius: 0.25em;background-color: #f0f8ff;}#sk-container-id-3 input.sk-toggleable__control:checked~div.sk-toggleable__content {max-height: 200px;max-width: 100%;overflow: auto;}#sk-container-id-3 input.sk-toggleable__control:checked~label.sk-toggleable__label-arrow:before {content: \"▾\";}#sk-container-id-3 div.sk-estimator input.sk-toggleable__control:checked~label.sk-toggleable__label {background-color: #d4ebff;}#sk-container-id-3 div.sk-label input.sk-toggleable__control:checked~label.sk-toggleable__label {background-color: #d4ebff;}#sk-container-id-3 input.sk-hidden--visually {border: 0;clip: rect(1px 1px 1px 1px);clip: rect(1px, 1px, 1px, 1px);height: 1px;margin: -1px;overflow: hidden;padding: 0;position: absolute;width: 1px;}#sk-container-id-3 div.sk-estimator {font-family: monospace;background-color: #f0f8ff;border: 1px dotted black;border-radius: 0.25em;box-sizing: border-box;margin-bottom: 0.5em;}#sk-container-id-3 div.sk-estimator:hover {background-color: #d4ebff;}#sk-container-id-3 div.sk-parallel-item::after {content: \"\";width: 100%;border-bottom: 1px solid gray;flex-grow: 1;}#sk-container-id-3 div.sk-label:hover label.sk-toggleable__label {background-color: #d4ebff;}#sk-container-id-3 div.sk-serial::before {content: \"\";position: absolute;border-left: 1px solid gray;box-sizing: border-box;top: 0;bottom: 0;left: 50%;z-index: 0;}#sk-container-id-3 div.sk-serial {display: flex;flex-direction: column;align-items: center;background-color: white;padding-right: 0.2em;padding-left: 0.2em;position: relative;}#sk-container-id-3 div.sk-item {position: relative;z-index: 1;}#sk-container-id-3 div.sk-parallel {display: flex;align-items: stretch;justify-content: center;background-color: white;position: relative;}#sk-container-id-3 div.sk-item::before, #sk-container-id-3 div.sk-parallel-item::before {content: \"\";position: absolute;border-left: 1px solid gray;box-sizing: border-box;top: 0;bottom: 0;left: 50%;z-index: -1;}#sk-container-id-3 div.sk-parallel-item {display: flex;flex-direction: column;z-index: 1;position: relative;background-color: white;}#sk-container-id-3 div.sk-parallel-item:first-child::after {align-self: flex-end;width: 50%;}#sk-container-id-3 div.sk-parallel-item:last-child::after {align-self: flex-start;width: 50%;}#sk-container-id-3 div.sk-parallel-item:only-child::after {width: 0;}#sk-container-id-3 div.sk-dashed-wrapped {border: 1px dashed gray;margin: 0 0.4em 0.5em 0.4em;box-sizing: border-box;padding-bottom: 0.4em;background-color: white;}#sk-container-id-3 div.sk-label label {font-family: monospace;font-weight: bold;display: inline-block;line-height: 1.2em;}#sk-container-id-3 div.sk-label-container {text-align: center;}#sk-container-id-3 div.sk-container {/* jupyter's `normalize.less` sets `[hidden] { display: none; }` but bootstrap.min.css set `[hidden] { display: none !important; }` so we also need the `!important` here to be able to override the default hidden behavior on the sphinx rendered scikit-learn.org. See: https://github.com/scikit-learn/scikit-learn/issues/21755 */display: inline-block !important;position: relative;}#sk-container-id-3 div.sk-text-repr-fallback {display: none;}</style><div id=\"sk-container-id-3\" class=\"sk-top-container\"><div class=\"sk-text-repr-fallback\"><pre>RandomForestRegressor(max_depth=2, random_state=0)</pre><b>In a Jupyter environment, please rerun this cell to show the HTML representation or trust the notebook. <br />On GitHub, the HTML representation is unable to render, please try loading this page with nbviewer.org.</b></div><div class=\"sk-container\" hidden><div class=\"sk-item\"><div class=\"sk-estimator sk-toggleable\"><input class=\"sk-toggleable__control sk-hidden--visually\" id=\"sk-estimator-id-3\" type=\"checkbox\" checked><label for=\"sk-estimator-id-3\" class=\"sk-toggleable__label sk-toggleable__label-arrow\">RandomForestRegressor</label><div class=\"sk-toggleable__content\"><pre>RandomForestRegressor(max_depth=2, random_state=0)</pre></div></div></div></div></div>"
      ],
      "text/plain": [
       "RandomForestRegressor(max_depth=2, random_state=0)"
      ]
     },
     "execution_count": 22,
     "metadata": {},
     "output_type": "execute_result"
    }
   ],
   "source": [
    "regr = RandomForestRegressor(max_depth=params['max_depth'], random_state=0)\n",
    "regr.fit(X_train, y_train)"
   ]
  },
  {
   "cell_type": "code",
   "execution_count": 51,
   "metadata": {},
   "outputs": [
    {
     "data": {
      "text/plain": [
       "0.7388743460063523"
      ]
     },
     "execution_count": 51,
     "metadata": {},
     "output_type": "execute_result"
    }
   ],
   "source": [
    "regr.score(X_train, y_train)"
   ]
  },
  {
   "cell_type": "code",
   "execution_count": 52,
   "metadata": {},
   "outputs": [
    {
     "data": {
      "text/plain": [
       "0.4862370637506407"
      ]
     },
     "execution_count": 52,
     "metadata": {},
     "output_type": "execute_result"
    }
   ],
   "source": [
    "regr.score(X_test, y_test)"
   ]
  },
  {
   "cell_type": "code",
   "execution_count": 24,
   "metadata": {},
   "outputs": [],
   "source": [
    "pred_regr = regr.predict(X_test)"
   ]
  },
  {
   "cell_type": "code",
   "execution_count": 24,
   "metadata": {},
   "outputs": [
    {
     "ename": "NameError",
     "evalue": "name 'pred_regr' is not defined",
     "output_type": "error",
     "traceback": [
      "\u001b[0;31m---------------------------------------------------------------------------\u001b[0m",
      "\u001b[0;31mNameError\u001b[0m                                 Traceback (most recent call last)",
      "\u001b[1;32m/mnt/c/Users/rwmas/GitHub/xai/xai_api/app/notebooks/dask_optuna_randomforest.ipynb Cell 16\u001b[0m in \u001b[0;36m<cell line: 1>\u001b[0;34m()\u001b[0m\n\u001b[0;32m----> <a href='vscode-notebook-cell://wsl%2Bubuntu/mnt/c/Users/rwmas/GitHub/xai/xai_api/app/notebooks/dask_optuna_randomforest.ipynb#X21sdnNjb2RlLXJlbW90ZQ%3D%3D?line=0'>1</a>\u001b[0m np\u001b[39m.\u001b[39mround(mean_squared_error(pred_regr, y_test), \u001b[39m2\u001b[39m)\n",
      "\u001b[0;31mNameError\u001b[0m: name 'pred_regr' is not defined"
     ]
    }
   ],
   "source": [
    "np.round(mean_squared_error(pred_regr, y_test), 2)"
   ]
  },
  {
   "cell_type": "code",
   "execution_count": 37,
   "metadata": {},
   "outputs": [],
   "source": [
    "from sklearn.model_selection import cross_val_score, cross_validate\n",
    "# from sklearn.model_selection.\n",
    "\n",
    "\n",
    "def objective(trial):\n",
    "\n",
    "    # X, y  = get_dataset()\n",
    "\n",
    "    X_train, X_test, y_train, y_test,  = get_split_dataset()\n",
    "\n",
    "    y_train = y_train.values.reshape(y_train.shape[0], )\n",
    "    y_test = y_test.values.reshape(y_test.shape[0], )\n",
    "\n",
    "\n",
    "    params = {\n",
    "        \"n_estimators\": trial.suggest_int(\"n_estimators\", 10, 500),\n",
    "        \"max_depth\": trial.suggest_int(\"max_depth\", 2, 50),\n",
    "        \"max_features\": trial.suggest_categorical(\"max_features\", [\"sqrt\", \"log2\", 1]),\n",
    "        \"ccp_alpha\": trial.suggest_float(\"ccp_alpha\", 1e-3, 10.0, log=True),\n",
    "        'max_leaf_nodes': trial.suggest_int(\"max_leaf_nodes\", 2, X_train.shape[0]),\n",
    "        'min_samples_split': trial.suggest_int(\"min_samples_split\", 2, 10)\n",
    "    }\n",
    "\n",
    "    kf = KFold(n_splits=N_SPLITS)\n",
    "\n",
    "    regr = RandomForestRegressor(max_depth = params['max_depth'],\n",
    "                                                        n_estimators = params['n_estimators'],\n",
    "                                                        max_features = params['max_features'], \n",
    "                                                        ccp_alpha = params['ccp_alpha'],\n",
    "                                                        max_leaf_nodes = params['max_leaf_nodes'],\n",
    "                                                        min_samples_split = params['min_samples_split'],\n",
    "                                                        criterion = 'squared_error',\n",
    "                                                        random_state=0)    \n",
    "    # regr.fit(X_train, y_train)\n",
    "\n",
    "\n",
    "    # scores = cross_val_score(regr, X_train, y_train, scoring='r2', cv=kf, n_jobs=-1, verbose=0 )\n",
    "    \n",
    "    cv_results = cross_validate(regr, X_train, y_train, scoring=('r2'), cv=kf,\n",
    "                                            n_jobs=-1, verbose=0, return_estimator=True)\n",
    "\n",
    "    estimator = cv_results['estimator']\n",
    "    test_scores = np.mean(cv_results['test_score'])\n",
    "\n",
    "    # print(scores)\n",
    "\n",
    "    return test_scores"
   ]
  },
  {
   "cell_type": "code",
   "execution_count": 38,
   "metadata": {},
   "outputs": [],
   "source": [
    "\n",
    "def __objective(trial):\n",
    "\n",
    "    X, y  = get_dataset()\n",
    "\n",
    "    params = {\n",
    "        \"n_estimators\": trial.suggest_int(\"n_estimators\", 50, 500),\n",
    "        \"max_depth\": trial.suggest_int(\"max_depth\", 2, 10),\n",
    "        \"max_features\": trial.suggest_categorical(\"max_features\", [\"sqrt\", \"log2\", 1]),\n",
    "        \"ccp_alpha\": trial.suggest_float(\"ccp_alpha\", 1e-3, 1.0, log=True),\n",
    "        'max_leaf_nodes': trial.suggest_int(\"max_leaf_nodes\", 2, X.shape[0]),\n",
    "        'min_samples_split': trial.suggest_int(\"min_samples_split\", 2, 10)\n",
    "    }\n",
    "\n",
    "    kf = KFold(n_splits=N_SPLITS, )\n",
    "\n",
    "    avg_r2_train_list = []\n",
    "    avg_r2_test_list = []\n",
    "\n",
    "    for train_index, test_index in kf.split(X):\n",
    "\n",
    "        X_train, X_test = X.loc[train_index], X.loc[test_index]\n",
    "        y_train, y_test = y.loc[train_index], y.loc[test_index]\n",
    "\n",
    "        y_train = y_train.values.reshape(y_train.shape[0], )\n",
    "        y_test = y_test.values.reshape(y_test.shape[0], )\n",
    "\n",
    "        regr = RandomForestRegressor(max_depth = params['max_depth'],\n",
    "                                                            n_estimators = params['n_estimators'],\n",
    "                                                            max_features = params['max_features'], \n",
    "                                                            # ccp_alpha = params['ccp_alpha'],\n",
    "                                                            max_leaf_nodes = params['max_leaf_nodes'],\n",
    "                                                            min_samples_split = params['min_samples_split'],\n",
    "                                                            criterion = 'squared_error',\n",
    "                                                            random_state=0)    \n",
    "        regr.fit(X_train, y_train)\n",
    "        \n",
    "        r2_train = regr.score(X_train, y_train)\n",
    "        r2_test = regr.score(X_test, y_test)\n",
    "\n",
    "        avg_r2_train_list.append(r2_train)\n",
    "        avg_r2_test_list.append(r2_test)\n",
    "        \n",
    "    avg_train_score = np.mean(avg_r2_train_list)\n",
    "    avg_test_score = np.mean(avg_r2_test_list)\n",
    "\n",
    "    abs_diff = np.sqrt(1 - abs(avg_test_score - avg_train_score))\n",
    "    \n",
    "    final_score = np.round((avg_train_score * avg_test_score * abs_diff) / (avg_train_score + avg_test_score), 3)\n",
    "\n",
    "\n",
    "    print(f'avg. train score: {avg_train_score}')\n",
    "    print(f'avg. test score: {avg_test_score}')\n",
    "    print(f'final score: {final_score}')\n",
    "\n",
    "\n",
    "    # err = mean_squared_error(pred_regr, y_test)\n",
    "    return final_score\n"
   ]
  },
  {
   "cell_type": "code",
   "execution_count": 39,
   "metadata": {},
   "outputs": [
    {
     "name": "stderr",
     "output_type": "stream",
     "text": [
      "\u001b[32m[I 2022-10-05 08:59:33,681]\u001b[0m A new study created in memory with name: no-name-34d3be94-2982-443a-9dee-67b7abe27bb8\u001b[0m\n"
     ]
    },
    {
     "name": "stdout",
     "output_type": "stream",
     "text": [
      "Dask dashboard is available at http://127.0.0.1:8787/status\n"
     ]
    },
    {
     "name": "stderr",
     "output_type": "stream",
     "text": [
      "\u001b[32m[I 2022-10-05 08:59:52,273]\u001b[0m Trial 16 finished with value: 0.3745925433056427 and parameters: {'n_estimators': 67, 'max_depth': 5, 'max_features': 1, 'ccp_alpha': 0.0014167693301850453, 'max_leaf_nodes': 70, 'min_samples_split': 10}. Best is trial 16 with value: 0.3745925433056427.\u001b[0m\n",
      "\u001b[32m[I 2022-10-05 08:59:53,447]\u001b[0m Trial 12 finished with value: 0.5139536648927508 and parameters: {'n_estimators': 50, 'max_depth': 5, 'max_features': 'sqrt', 'ccp_alpha': 0.003392699700968213, 'max_leaf_nodes': 68, 'min_samples_split': 2}. Best is trial 12 with value: 0.5139536648927508.\u001b[0m\n",
      "\u001b[32m[I 2022-10-05 08:59:58,698]\u001b[0m Trial 11 finished with value: 0.30814476182307876 and parameters: {'n_estimators': 76, 'max_depth': 3, 'max_features': 1, 'ccp_alpha': 0.27504866389645427, 'max_leaf_nodes': 62, 'min_samples_split': 9}. Best is trial 12 with value: 0.5139536648927508.\u001b[0m\n",
      "\u001b[32m[I 2022-10-05 08:59:59,618]\u001b[0m Trial 23 finished with value: 0.40044602988267347 and parameters: {'n_estimators': 83, 'max_depth': 8, 'max_features': 1, 'ccp_alpha': 0.08096595182785196, 'max_leaf_nodes': 47, 'min_samples_split': 8}. Best is trial 12 with value: 0.5139536648927508.\u001b[0m\n",
      "\u001b[32m[I 2022-10-05 08:59:59,951]\u001b[0m Trial 13 finished with value: 0.4948642806129225 and parameters: {'n_estimators': 77, 'max_depth': 10, 'max_features': 'sqrt', 'ccp_alpha': 0.21177280096372045, 'max_leaf_nodes': 32, 'min_samples_split': 8}. Best is trial 12 with value: 0.5139536648927508.\u001b[0m\n",
      "\u001b[32m[I 2022-10-05 09:00:02,458]\u001b[0m Trial 3 finished with value: 0.43337628590633354 and parameters: {'n_estimators': 103, 'max_depth': 2, 'max_features': 'log2', 'ccp_alpha': 0.015189388689659038, 'max_leaf_nodes': 108, 'min_samples_split': 4}. Best is trial 12 with value: 0.5139536648927508.\u001b[0m\n",
      "\u001b[32m[I 2022-10-05 09:00:06,736]\u001b[0m Trial 22 finished with value: 0.2806945542782927 and parameters: {'n_estimators': 98, 'max_depth': 2, 'max_features': 1, 'ccp_alpha': 0.013334665397610605, 'max_leaf_nodes': 83, 'min_samples_split': 4}. Best is trial 12 with value: 0.5139536648927508.\u001b[0m\n",
      "\u001b[32m[I 2022-10-05 09:00:17,050]\u001b[0m Trial 8 finished with value: 0.4953195117740609 and parameters: {'n_estimators': 135, 'max_depth': 3, 'max_features': 'sqrt', 'ccp_alpha': 0.09473057215656343, 'max_leaf_nodes': 38, 'min_samples_split': 3}. Best is trial 12 with value: 0.5139536648927508.\u001b[0m\n",
      "\u001b[32m[I 2022-10-05 09:00:19,191]\u001b[0m Trial 21 finished with value: 0.4071575176339038 and parameters: {'n_estimators': 164, 'max_depth': 9, 'max_features': 1, 'ccp_alpha': 0.0018193853555269267, 'max_leaf_nodes': 87, 'min_samples_split': 8}. Best is trial 12 with value: 0.5139536648927508.\u001b[0m\n",
      "\u001b[32m[I 2022-10-05 09:00:27,657]\u001b[0m Trial 6 finished with value: 0.4425025229335114 and parameters: {'n_estimators': 190, 'max_depth': 2, 'max_features': 'log2', 'ccp_alpha': 0.03124400254234728, 'max_leaf_nodes': 31, 'min_samples_split': 4}. Best is trial 12 with value: 0.5139536648927508.\u001b[0m\n",
      "\u001b[32m[I 2022-10-05 09:00:36,637]\u001b[0m Trial 0 finished with value: 0.5111844195314378 and parameters: {'n_estimators': 226, 'max_depth': 6, 'max_features': 'sqrt', 'ccp_alpha': 0.0020239842643421917, 'max_leaf_nodes': 97, 'min_samples_split': 7}. Best is trial 12 with value: 0.5139536648927508.\u001b[0m\n",
      "\u001b[32m[I 2022-10-05 09:00:37,331]\u001b[0m Trial 4 finished with value: 0.5061875817903486 and parameters: {'n_estimators': 228, 'max_depth': 8, 'max_features': 'sqrt', 'ccp_alpha': 0.911315914695467, 'max_leaf_nodes': 41, 'min_samples_split': 9}. Best is trial 12 with value: 0.5139536648927508.\u001b[0m\n",
      "\u001b[32m[I 2022-10-05 09:00:42,482]\u001b[0m Trial 14 finished with value: 0.5188015784284041 and parameters: {'n_estimators': 226, 'max_depth': 10, 'max_features': 'log2', 'ccp_alpha': 0.002264702409093108, 'max_leaf_nodes': 107, 'min_samples_split': 4}. Best is trial 14 with value: 0.5188015784284041.\u001b[0m\n",
      "\u001b[32m[I 2022-10-05 09:00:51,836]\u001b[0m Trial 17 finished with value: 0.5258853996031789 and parameters: {'n_estimators': 232, 'max_depth': 8, 'max_features': 'sqrt', 'ccp_alpha': 0.003961652937477226, 'max_leaf_nodes': 29, 'min_samples_split': 3}. Best is trial 17 with value: 0.5258853996031789.\u001b[0m\n",
      "\u001b[32m[I 2022-10-05 09:00:55,412]\u001b[0m Trial 1 finished with value: 0.5293213029004665 and parameters: {'n_estimators': 273, 'max_depth': 10, 'max_features': 'sqrt', 'ccp_alpha': 0.6330162324045893, 'max_leaf_nodes': 30, 'min_samples_split': 3}. Best is trial 1 with value: 0.5293213029004665.\u001b[0m\n",
      "\u001b[32m[I 2022-10-05 09:00:55,583]\u001b[0m Trial 26 finished with value: 0.5204881166822957 and parameters: {'n_estimators': 161, 'max_depth': 9, 'max_features': 'log2', 'ccp_alpha': 0.004519937685871757, 'max_leaf_nodes': 43, 'min_samples_split': 2}. Best is trial 1 with value: 0.5293213029004665.\u001b[0m\n",
      "\u001b[32m[I 2022-10-05 09:01:01,196]\u001b[0m Trial 24 finished with value: 0.41295442910551944 and parameters: {'n_estimators': 217, 'max_depth': 10, 'max_features': 1, 'ccp_alpha': 0.9591147327262802, 'max_leaf_nodes': 10, 'min_samples_split': 6}. Best is trial 1 with value: 0.5293213029004665.\u001b[0m\n",
      "\u001b[32m[I 2022-10-05 09:01:03,478]\u001b[0m Trial 30 finished with value: 0.49726902692907 and parameters: {'n_estimators': 136, 'max_depth': 7, 'max_features': 'sqrt', 'ccp_alpha': 0.6171096505806067, 'max_leaf_nodes': 60, 'min_samples_split': 10}. Best is trial 1 with value: 0.5293213029004665.\u001b[0m\n",
      "\u001b[32m[I 2022-10-05 09:01:08,063]\u001b[0m Trial 2 finished with value: 0.40855783677803537 and parameters: {'n_estimators': 329, 'max_depth': 5, 'max_features': 1, 'ccp_alpha': 0.73758193057475, 'max_leaf_nodes': 79, 'min_samples_split': 4}. Best is trial 1 with value: 0.5293213029004665.\u001b[0m\n",
      "\u001b[32m[I 2022-10-05 09:01:09,274]\u001b[0m Trial 18 finished with value: 0.5220489043778973 and parameters: {'n_estimators': 327, 'max_depth': 5, 'max_features': 'sqrt', 'ccp_alpha': 0.0023202765370917426, 'max_leaf_nodes': 111, 'min_samples_split': 2}. Best is trial 1 with value: 0.5293213029004665.\u001b[0m\n",
      "\u001b[32m[I 2022-10-05 09:01:11,964]\u001b[0m Trial 9 finished with value: 0.5130218592004986 and parameters: {'n_estimators': 362, 'max_depth': 9, 'max_features': 'sqrt', 'ccp_alpha': 0.0071144067748724095, 'max_leaf_nodes': 43, 'min_samples_split': 8}. Best is trial 1 with value: 0.5293213029004665.\u001b[0m\n",
      "\u001b[32m[I 2022-10-05 09:01:12,234]\u001b[0m Trial 27 finished with value: 0.5112706766620859 and parameters: {'n_estimators': 219, 'max_depth': 8, 'max_features': 'log2', 'ccp_alpha': 0.23001099904936181, 'max_leaf_nodes': 48, 'min_samples_split': 6}. Best is trial 1 with value: 0.5293213029004665.\u001b[0m\n",
      "\u001b[32m[I 2022-10-05 09:01:19,489]\u001b[0m Trial 28 finished with value: 0.4367460939546546 and parameters: {'n_estimators': 257, 'max_depth': 10, 'max_features': 1, 'ccp_alpha': 0.6840225374432635, 'max_leaf_nodes': 90, 'min_samples_split': 4}. Best is trial 1 with value: 0.5293213029004665.\u001b[0m\n",
      "\u001b[32m[I 2022-10-05 09:01:23,859]\u001b[0m Trial 15 finished with value: 0.5090254233880199 and parameters: {'n_estimators': 396, 'max_depth': 7, 'max_features': 'sqrt', 'ccp_alpha': 0.06568005197230369, 'max_leaf_nodes': 125, 'min_samples_split': 8}. Best is trial 1 with value: 0.5293213029004665.\u001b[0m\n",
      "\u001b[32m[I 2022-10-05 09:01:26,984]\u001b[0m Trial 20 finished with value: 0.4479786317301872 and parameters: {'n_estimators': 385, 'max_depth': 2, 'max_features': 'sqrt', 'ccp_alpha': 0.009039670875342009, 'max_leaf_nodes': 59, 'min_samples_split': 7}. Best is trial 1 with value: 0.5293213029004665.\u001b[0m\n",
      "\u001b[32m[I 2022-10-05 09:01:28,983]\u001b[0m Trial 19 finished with value: 0.5253831665064065 and parameters: {'n_estimators': 382, 'max_depth': 8, 'max_features': 'sqrt', 'ccp_alpha': 0.19674013650632075, 'max_leaf_nodes': 70, 'min_samples_split': 2}. Best is trial 1 with value: 0.5293213029004665.\u001b[0m\n",
      "\u001b[32m[I 2022-10-05 09:01:36,001]\u001b[0m Trial 5 finished with value: 0.4403533426957839 and parameters: {'n_estimators': 444, 'max_depth': 2, 'max_features': 'log2', 'ccp_alpha': 0.0496384606021269, 'max_leaf_nodes': 125, 'min_samples_split': 3}. Best is trial 1 with value: 0.5293213029004665.\u001b[0m\n",
      "\u001b[32m[I 2022-10-05 09:01:37,198]\u001b[0m Trial 25 finished with value: 0.48251859609302766 and parameters: {'n_estimators': 338, 'max_depth': 3, 'max_features': 'log2', 'ccp_alpha': 0.9591512948866262, 'max_leaf_nodes': 124, 'min_samples_split': 4}. Best is trial 1 with value: 0.5293213029004665.\u001b[0m\n",
      "\u001b[32m[I 2022-10-05 09:01:37,210]\u001b[0m Trial 10 finished with value: 0.37878806258496756 and parameters: {'n_estimators': 433, 'max_depth': 5, 'max_features': 1, 'ccp_alpha': 0.029889778962569488, 'max_leaf_nodes': 93, 'min_samples_split': 10}. Best is trial 1 with value: 0.5293213029004665.\u001b[0m\n",
      "\u001b[32m[I 2022-10-05 09:01:42,455]\u001b[0m Trial 31 finished with value: 0.5112425264532646 and parameters: {'n_estimators': 290, 'max_depth': 10, 'max_features': 'sqrt', 'ccp_alpha': 0.1719401794108824, 'max_leaf_nodes': 34, 'min_samples_split': 8}. Best is trial 1 with value: 0.5293213029004665.\u001b[0m\n",
      "\u001b[32m[I 2022-10-05 09:01:42,708]\u001b[0m Trial 7 finished with value: 0.40684538890047256 and parameters: {'n_estimators': 483, 'max_depth': 7, 'max_features': 1, 'ccp_alpha': 0.40118247571754856, 'max_leaf_nodes': 64, 'min_samples_split': 7}. Best is trial 1 with value: 0.5293213029004665.\u001b[0m\n",
      "\u001b[32m[I 2022-10-05 09:01:44,432]\u001b[0m Trial 32 finished with value: 0.4790112443333155 and parameters: {'n_estimators': 253, 'max_depth': 3, 'max_features': 'log2', 'ccp_alpha': 0.002265745984809751, 'max_leaf_nodes': 96, 'min_samples_split': 8}. Best is trial 1 with value: 0.5293213029004665.\u001b[0m\n",
      "\u001b[32m[I 2022-10-05 09:02:11,288]\u001b[0m Trial 29 finished with value: 0.5062794692279781 and parameters: {'n_estimators': 440, 'max_depth': 8, 'max_features': 'sqrt', 'ccp_alpha': 0.004073098625653913, 'max_leaf_nodes': 23, 'min_samples_split': 9}. Best is trial 1 with value: 0.5293213029004665.\u001b[0m\n",
      "\u001b[32m[I 2022-10-05 09:02:12,487]\u001b[0m Trial 34 finished with value: 0.513735573402807 and parameters: {'n_estimators': 366, 'max_depth': 6, 'max_features': 'sqrt', 'ccp_alpha': 0.003930644351999594, 'max_leaf_nodes': 127, 'min_samples_split': 6}. Best is trial 1 with value: 0.5293213029004665.\u001b[0m\n",
      "\u001b[32m[I 2022-10-05 09:02:26,155]\u001b[0m Trial 38 finished with value: 0.5062514368043396 and parameters: {'n_estimators': 346, 'max_depth': 7, 'max_features': 'sqrt', 'ccp_alpha': 0.5304591772549265, 'max_leaf_nodes': 7, 'min_samples_split': 6}. Best is trial 1 with value: 0.5293213029004665.\u001b[0m\n",
      "\u001b[32m[I 2022-10-05 09:02:26,734]\u001b[0m Trial 33 finished with value: 0.5118556711877907 and parameters: {'n_estimators': 435, 'max_depth': 6, 'max_features': 'sqrt', 'ccp_alpha': 0.004423465549667562, 'max_leaf_nodes': 8, 'min_samples_split': 2}. Best is trial 1 with value: 0.5293213029004665.\u001b[0m\n",
      "\u001b[32m[I 2022-10-05 09:02:28,889]\u001b[0m Trial 36 finished with value: 0.47824129131910703 and parameters: {'n_estimators': 372, 'max_depth': 5, 'max_features': 'log2', 'ccp_alpha': 0.004391047468252968, 'max_leaf_nodes': 5, 'min_samples_split': 2}. Best is trial 1 with value: 0.5293213029004665.\u001b[0m\n",
      "\u001b[32m[I 2022-10-05 09:02:29,194]\u001b[0m Trial 39 finished with value: 0.3456322777034444 and parameters: {'n_estimators': 372, 'max_depth': 7, 'max_features': 'sqrt', 'ccp_alpha': 0.7714580239453538, 'max_leaf_nodes': 2, 'min_samples_split': 6}. Best is trial 1 with value: 0.5293213029004665.\u001b[0m\n",
      "\u001b[32m[I 2022-10-05 09:02:30,866]\u001b[0m Trial 35 finished with value: 0.5117830783104081 and parameters: {'n_estimators': 434, 'max_depth': 6, 'max_features': 'sqrt', 'ccp_alpha': 0.0039066302972244225, 'max_leaf_nodes': 119, 'min_samples_split': 6}. Best is trial 1 with value: 0.5293213029004665.\u001b[0m\n",
      "\u001b[32m[I 2022-10-05 09:02:32,719]\u001b[0m Trial 37 finished with value: 0.4276865053986863 and parameters: {'n_estimators': 369, 'max_depth': 10, 'max_features': 'log2', 'ccp_alpha': 0.006096638366969898, 'max_leaf_nodes': 3, 'min_samples_split': 5}. Best is trial 1 with value: 0.5293213029004665.\u001b[0m\n",
      "\u001b[32m[I 2022-10-05 09:02:35,002]\u001b[0m Trial 40 finished with value: 0.518150315219601 and parameters: {'n_estimators': 372, 'max_depth': 7, 'max_features': 'sqrt', 'ccp_alpha': 0.006340857671413191, 'max_leaf_nodes': 12, 'min_samples_split': 5}. Best is trial 1 with value: 0.5293213029004665.\u001b[0m\n",
      "\u001b[32m[I 2022-10-05 09:02:40,871]\u001b[0m Trial 45 finished with value: 0.5166216614826079 and parameters: {'n_estimators': 299, 'max_depth': 6, 'max_features': 'sqrt', 'ccp_alpha': 0.0010194562529509921, 'max_leaf_nodes': 12, 'min_samples_split': 3}. Best is trial 1 with value: 0.5293213029004665.\u001b[0m\n",
      "\u001b[32m[I 2022-10-05 09:02:47,153]\u001b[0m Trial 41 finished with value: 0.43424609538812914 and parameters: {'n_estimators': 359, 'max_depth': 8, 'max_features': 'sqrt', 'ccp_alpha': 0.005051240429194575, 'max_leaf_nodes': 3, 'min_samples_split': 5}. Best is trial 1 with value: 0.5293213029004665.\u001b[0m\n",
      "\u001b[32m[I 2022-10-05 09:02:52,060]\u001b[0m Trial 47 finished with value: 0.5017519499899564 and parameters: {'n_estimators': 306, 'max_depth': 4, 'max_features': 'sqrt', 'ccp_alpha': 0.001132835770773224, 'max_leaf_nodes': 9, 'min_samples_split': 3}. Best is trial 1 with value: 0.5293213029004665.\u001b[0m\n",
      "\u001b[32m[I 2022-10-05 09:03:04,414]\u001b[0m Trial 50 finished with value: 0.5163536844687918 and parameters: {'n_estimators': 300, 'max_depth': 7, 'max_features': 'sqrt', 'ccp_alpha': 0.0010050715841011973, 'max_leaf_nodes': 11, 'min_samples_split': 3}. Best is trial 1 with value: 0.5293213029004665.\u001b[0m\n",
      "\u001b[32m[I 2022-10-05 09:03:05,772]\u001b[0m Trial 54 finished with value: 0.5236865536557312 and parameters: {'n_estimators': 293, 'max_depth': 6, 'max_features': 'sqrt', 'ccp_alpha': 0.0032733481427142355, 'max_leaf_nodes': 18, 'min_samples_split': 3}. Best is trial 1 with value: 0.5293213029004665.\u001b[0m\n",
      "\u001b[32m[I 2022-10-05 09:03:08,036]\u001b[0m Trial 52 finished with value: 0.5235483484602168 and parameters: {'n_estimators': 295, 'max_depth': 6, 'max_features': 'sqrt', 'ccp_alpha': 0.4533482427139096, 'max_leaf_nodes': 17, 'min_samples_split': 3}. Best is trial 1 with value: 0.5293213029004665.\u001b[0m\n",
      "\u001b[32m[I 2022-10-05 09:03:10,895]\u001b[0m Trial 53 finished with value: 0.5241142689311552 and parameters: {'n_estimators': 293, 'max_depth': 6, 'max_features': 'sqrt', 'ccp_alpha': 0.4588226207632445, 'max_leaf_nodes': 17, 'min_samples_split': 3}. Best is trial 1 with value: 0.5293213029004665.\u001b[0m\n",
      "\u001b[32m[I 2022-10-05 09:03:15,062]\u001b[0m Trial 55 finished with value: 0.520552931106158 and parameters: {'n_estimators': 303, 'max_depth': 6, 'max_features': 'sqrt', 'ccp_alpha': 0.0011035279027593909, 'max_leaf_nodes': 16, 'min_samples_split': 3}. Best is trial 1 with value: 0.5293213029004665.\u001b[0m\n",
      "\u001b[32m[I 2022-10-05 09:03:15,806]\u001b[0m Trial 44 finished with value: 0.5211467781131333 and parameters: {'n_estimators': 449, 'max_depth': 6, 'max_features': 'sqrt', 'ccp_alpha': 0.007583706249849596, 'max_leaf_nodes': 12, 'min_samples_split': 3}. Best is trial 1 with value: 0.5293213029004665.\u001b[0m\n",
      "\u001b[32m[I 2022-10-05 09:03:21,250]\u001b[0m Trial 42 finished with value: 0.4346999165712567 and parameters: {'n_estimators': 472, 'max_depth': 8, 'max_features': 'sqrt', 'ccp_alpha': 0.008459050083340577, 'max_leaf_nodes': 3, 'min_samples_split': 5}. Best is trial 1 with value: 0.5293213029004665.\u001b[0m\n",
      "\u001b[32m[I 2022-10-05 09:03:27,449]\u001b[0m Trial 46 finished with value: 0.5220255691629738 and parameters: {'n_estimators': 469, 'max_depth': 6, 'max_features': 'sqrt', 'ccp_alpha': 0.009463326603585731, 'max_leaf_nodes': 12, 'min_samples_split': 3}. Best is trial 1 with value: 0.5293213029004665.\u001b[0m\n",
      "\u001b[32m[I 2022-10-05 09:03:31,110]\u001b[0m Trial 43 finished with value: 0.5285796571576432 and parameters: {'n_estimators': 484, 'max_depth': 6, 'max_features': 'sqrt', 'ccp_alpha': 0.0010618815026375518, 'max_leaf_nodes': 125, 'min_samples_split': 3}. Best is trial 1 with value: 0.5293213029004665.\u001b[0m\n",
      "\u001b[32m[I 2022-10-05 09:03:42,139]\u001b[0m Trial 49 finished with value: 0.5244250594249187 and parameters: {'n_estimators': 445, 'max_depth': 7, 'max_features': 'sqrt', 'ccp_alpha': 0.37769699732543943, 'max_leaf_nodes': 14, 'min_samples_split': 3}. Best is trial 1 with value: 0.5293213029004665.\u001b[0m\n",
      "\u001b[32m[I 2022-10-05 09:03:43,096]\u001b[0m Trial 56 finished with value: 0.49992989651072883 and parameters: {'n_estimators': 300, 'max_depth': 4, 'max_features': 'sqrt', 'ccp_alpha': 0.0010186665260918722, 'max_leaf_nodes': 8, 'min_samples_split': 3}. Best is trial 1 with value: 0.5293213029004665.\u001b[0m\n",
      "\u001b[32m[I 2022-10-05 09:03:46,635]\u001b[0m Trial 57 finished with value: 0.4963949249100013 and parameters: {'n_estimators': 295, 'max_depth': 6, 'max_features': 'sqrt', 'ccp_alpha': 0.1320861169389693, 'max_leaf_nodes': 6, 'min_samples_split': 3}. Best is trial 1 with value: 0.5293213029004665.\u001b[0m\n",
      "\u001b[32m[I 2022-10-05 09:03:50,952]\u001b[0m Trial 48 finished with value: 0.5254656270863087 and parameters: {'n_estimators': 488, 'max_depth': 7, 'max_features': 'sqrt', 'ccp_alpha': 0.37340730887337614, 'max_leaf_nodes': 12, 'min_samples_split': 3}. Best is trial 1 with value: 0.5293213029004665.\u001b[0m\n",
      "\u001b[32m[I 2022-10-05 09:04:00,228]\u001b[0m Trial 51 finished with value: 0.5279044419580425 and parameters: {'n_estimators': 498, 'max_depth': 7, 'max_features': 'sqrt', 'ccp_alpha': 0.3121419255276022, 'max_leaf_nodes': 15, 'min_samples_split': 3}. Best is trial 1 with value: 0.5293213029004665.\u001b[0m\n",
      "\u001b[32m[I 2022-10-05 09:04:01,049]\u001b[0m Trial 58 finished with value: 0.5100109433399267 and parameters: {'n_estimators': 288, 'max_depth': 4, 'max_features': 'sqrt', 'ccp_alpha': 0.0010756252306928526, 'max_leaf_nodes': 115, 'min_samples_split': 3}. Best is trial 1 with value: 0.5293213029004665.\u001b[0m\n",
      "\u001b[32m[I 2022-10-05 09:04:03,504]\u001b[0m Trial 59 finished with value: 0.5093952101338252 and parameters: {'n_estimators': 290, 'max_depth': 4, 'max_features': 'sqrt', 'ccp_alpha': 0.12501093211329076, 'max_leaf_nodes': 18, 'min_samples_split': 3}. Best is trial 1 with value: 0.5293213029004665.\u001b[0m\n",
      "\u001b[32m[I 2022-10-05 09:04:08,002]\u001b[0m Trial 60 finished with value: 0.5086562286173201 and parameters: {'n_estimators': 291, 'max_depth': 4, 'max_features': 'sqrt', 'ccp_alpha': 0.0010439395799062524, 'max_leaf_nodes': 24, 'min_samples_split': 3}. Best is trial 1 with value: 0.5293213029004665.\u001b[0m\n",
      "\u001b[32m[I 2022-10-05 09:04:08,342]\u001b[0m Trial 63 finished with value: 0.5232165142677871 and parameters: {'n_estimators': 306, 'max_depth': 9, 'max_features': 'sqrt', 'ccp_alpha': 0.0011220917652808046, 'max_leaf_nodes': 20, 'min_samples_split': 3}. Best is trial 1 with value: 0.5293213029004665.\u001b[0m\n",
      "\u001b[32m[I 2022-10-05 09:04:14,662]\u001b[0m Trial 62 finished with value: 0.5059933049194981 and parameters: {'n_estimators': 297, 'max_depth': 4, 'max_features': 'sqrt', 'ccp_alpha': 0.0012265219315836361, 'max_leaf_nodes': 20, 'min_samples_split': 3}. Best is trial 1 with value: 0.5293213029004665.\u001b[0m\n",
      "\u001b[32m[I 2022-10-05 09:04:15,700]\u001b[0m Trial 61 finished with value: 0.5055400441249863 and parameters: {'n_estimators': 305, 'max_depth': 4, 'max_features': 'sqrt', 'ccp_alpha': 0.0171156213451079, 'max_leaf_nodes': 25, 'min_samples_split': 3}. Best is trial 1 with value: 0.5293213029004665.\u001b[0m\n",
      "\u001b[32m[I 2022-10-05 09:04:16,543]\u001b[0m Trial 64 finished with value: 0.5225406024990386 and parameters: {'n_estimators': 308, 'max_depth': 9, 'max_features': 'sqrt', 'ccp_alpha': 0.019138484418187503, 'max_leaf_nodes': 17, 'min_samples_split': 3}. Best is trial 1 with value: 0.5293213029004665.\u001b[0m\n",
      "\u001b[32m[I 2022-10-05 09:04:21,450]\u001b[0m Trial 65 finished with value: 0.5253705231630411 and parameters: {'n_estimators': 317, 'max_depth': 9, 'max_features': 'sqrt', 'ccp_alpha': 0.022644891133537817, 'max_leaf_nodes': 21, 'min_samples_split': 2}. Best is trial 1 with value: 0.5293213029004665.\u001b[0m\n",
      "\u001b[32m[I 2022-10-05 09:04:26,117]\u001b[0m Trial 66 finished with value: 0.523822628204324 and parameters: {'n_estimators': 312, 'max_depth': 9, 'max_features': 'sqrt', 'ccp_alpha': 0.01706208920943123, 'max_leaf_nodes': 19, 'min_samples_split': 3}. Best is trial 1 with value: 0.5293213029004665.\u001b[0m\n",
      "\u001b[32m[I 2022-10-05 09:04:27,105]\u001b[0m Trial 67 finished with value: 0.5241826508262483 and parameters: {'n_estimators': 319, 'max_depth': 9, 'max_features': 'sqrt', 'ccp_alpha': 0.009909434963893309, 'max_leaf_nodes': 23, 'min_samples_split': 2}. Best is trial 1 with value: 0.5293213029004665.\u001b[0m\n",
      "\u001b[32m[I 2022-10-05 09:04:35,742]\u001b[0m Trial 71 finished with value: 0.5097014813870885 and parameters: {'n_estimators': 263, 'max_depth': 4, 'max_features': 'sqrt', 'ccp_alpha': 0.3224750944007799, 'max_leaf_nodes': 25, 'min_samples_split': 3}. Best is trial 1 with value: 0.5293213029004665.\u001b[0m\n",
      "\u001b[32m[I 2022-10-05 09:04:37,083]\u001b[0m Trial 72 finished with value: 0.5137910804551874 and parameters: {'n_estimators': 261, 'max_depth': 4, 'max_features': 'sqrt', 'ccp_alpha': 0.15129032339732393, 'max_leaf_nodes': 22, 'min_samples_split': 2}. Best is trial 1 with value: 0.5293213029004665.\u001b[0m\n",
      "\u001b[32m[I 2022-10-05 09:04:38,887]\u001b[0m Trial 70 finished with value: 0.5099536573303863 and parameters: {'n_estimators': 265, 'max_depth': 4, 'max_features': 'sqrt', 'ccp_alpha': 0.3996166180337397, 'max_leaf_nodes': 26, 'min_samples_split': 3}. Best is trial 1 with value: 0.5293213029004665.\u001b[0m\n",
      "\u001b[32m[I 2022-10-05 09:04:45,498]\u001b[0m Trial 76 finished with value: 0.5266050487354336 and parameters: {'n_estimators': 261, 'max_depth': 9, 'max_features': 'sqrt', 'ccp_alpha': 0.3451396800717089, 'max_leaf_nodes': 28, 'min_samples_split': 2}. Best is trial 1 with value: 0.5293213029004665.\u001b[0m\n",
      "\u001b[32m[I 2022-10-05 09:04:46,104]\u001b[0m Trial 68 finished with value: 0.5103756057253649 and parameters: {'n_estimators': 319, 'max_depth': 4, 'max_features': 'sqrt', 'ccp_alpha': 0.37901168544797875, 'max_leaf_nodes': 24, 'min_samples_split': 2}. Best is trial 1 with value: 0.5293213029004665.\u001b[0m\n",
      "\u001b[32m[I 2022-10-05 09:04:47,959]\u001b[0m Trial 73 finished with value: 0.5285678064938051 and parameters: {'n_estimators': 269, 'max_depth': 9, 'max_features': 'sqrt', 'ccp_alpha': 0.31015661208750506, 'max_leaf_nodes': 26, 'min_samples_split': 2}. Best is trial 1 with value: 0.5293213029004665.\u001b[0m\n",
      "\u001b[32m[I 2022-10-05 09:04:48,143]\u001b[0m Trial 74 finished with value: 0.5282727408110066 and parameters: {'n_estimators': 267, 'max_depth': 9, 'max_features': 'sqrt', 'ccp_alpha': 0.3795459089060668, 'max_leaf_nodes': 24, 'min_samples_split': 3}. Best is trial 1 with value: 0.5293213029004665.\u001b[0m\n",
      "\u001b[32m[I 2022-10-05 09:04:53,083]\u001b[0m Trial 69 finished with value: 0.5082070561979527 and parameters: {'n_estimators': 322, 'max_depth': 4, 'max_features': 'sqrt', 'ccp_alpha': 0.3475986167106784, 'max_leaf_nodes': 20, 'min_samples_split': 3}. Best is trial 1 with value: 0.5293213029004665.\u001b[0m\n",
      "\u001b[32m[I 2022-10-05 09:04:53,223]\u001b[0m Trial 75 finished with value: 0.5138756837924787 and parameters: {'n_estimators': 265, 'max_depth': 4, 'max_features': 'sqrt', 'ccp_alpha': 0.3699630777854559, 'max_leaf_nodes': 24, 'min_samples_split': 2}. Best is trial 1 with value: 0.5293213029004665.\u001b[0m\n",
      "\u001b[32m[I 2022-10-05 09:05:39,647]\u001b[0m Trial 90 finished with value: 0.526701960970594 and parameters: {'n_estimators': 267, 'max_depth': 8, 'max_features': 'sqrt', 'ccp_alpha': 0.042214474300853976, 'max_leaf_nodes': 31, 'min_samples_split': 2}. Best is trial 1 with value: 0.5293213029004665.\u001b[0m\n",
      "\u001b[32m[I 2022-10-05 09:05:41,784]\u001b[0m Trial 80 finished with value: 0.5255423354239802 and parameters: {'n_estimators': 410, 'max_depth': 9, 'max_features': 'sqrt', 'ccp_alpha': 0.2985862393637883, 'max_leaf_nodes': 26, 'min_samples_split': 2}. Best is trial 1 with value: 0.5293213029004665.\u001b[0m\n",
      "\u001b[32m[I 2022-10-05 09:05:45,920]\u001b[0m Trial 96 finished with value: 0.523808679376243 and parameters: {'n_estimators': 238, 'max_depth': 8, 'max_features': 'sqrt', 'ccp_alpha': 0.048317722748739016, 'max_leaf_nodes': 30, 'min_samples_split': 4}. Best is trial 1 with value: 0.5293213029004665.\u001b[0m\n",
      "\u001b[32m[I 2022-10-05 09:05:47,730]\u001b[0m Trial 97 finished with value: 0.5222378005480621 and parameters: {'n_estimators': 242, 'max_depth': 8, 'max_features': 'sqrt', 'ccp_alpha': 0.2576366161168068, 'max_leaf_nodes': 36, 'min_samples_split': 4}. Best is trial 1 with value: 0.5293213029004665.\u001b[0m\n",
      "\u001b[32m[I 2022-10-05 09:05:50,615]\u001b[0m Trial 77 finished with value: 0.5302739486712191 and parameters: {'n_estimators': 500, 'max_depth': 9, 'max_features': 'sqrt', 'ccp_alpha': 0.32126919541609794, 'max_leaf_nodes': 29, 'min_samples_split': 2}. Best is trial 77 with value: 0.5302739486712191.\u001b[0m\n",
      "\u001b[32m[I 2022-10-05 09:05:52,544]\u001b[0m Trial 98 finished with value: 0.5226939320341709 and parameters: {'n_estimators': 243, 'max_depth': 8, 'max_features': 'sqrt', 'ccp_alpha': 0.26166854621120317, 'max_leaf_nodes': 38, 'min_samples_split': 4}. Best is trial 77 with value: 0.5302739486712191.\u001b[0m\n",
      "\u001b[32m[I 2022-10-05 09:05:53,887]\u001b[0m Trial 78 finished with value: 0.5304787080231003 and parameters: {'n_estimators': 493, 'max_depth': 9, 'max_features': 'sqrt', 'ccp_alpha': 0.3600217057184022, 'max_leaf_nodes': 26, 'min_samples_split': 2}. Best is trial 78 with value: 0.5304787080231003.\u001b[0m\n",
      "\u001b[32m[I 2022-10-05 09:05:55,115]\u001b[0m Trial 99 finished with value: 0.5226836397013238 and parameters: {'n_estimators': 240, 'max_depth': 8, 'max_features': 'sqrt', 'ccp_alpha': 0.27841668031698436, 'max_leaf_nodes': 30, 'min_samples_split': 4}. Best is trial 78 with value: 0.5304787080231003.\u001b[0m\n",
      "\u001b[32m[I 2022-10-05 09:05:56,929]\u001b[0m Trial 79 finished with value: 0.5301266036965208 and parameters: {'n_estimators': 498, 'max_depth': 9, 'max_features': 'sqrt', 'ccp_alpha': 0.2932654887787225, 'max_leaf_nodes': 23, 'min_samples_split': 2}. Best is trial 78 with value: 0.5304787080231003.\u001b[0m\n",
      "\u001b[32m[I 2022-10-05 09:06:02,746]\u001b[0m Trial 81 finished with value: 0.5305078931883974 and parameters: {'n_estimators': 493, 'max_depth': 9, 'max_features': 'sqrt', 'ccp_alpha': 0.3178968324247633, 'max_leaf_nodes': 23, 'min_samples_split': 2}. Best is trial 81 with value: 0.5305078931883974.\u001b[0m\n",
      "\u001b[32m[I 2022-10-05 09:06:03,396]\u001b[0m Trial 82 finished with value: 0.5307027016981615 and parameters: {'n_estimators': 492, 'max_depth': 9, 'max_features': 'sqrt', 'ccp_alpha': 0.31011365790676293, 'max_leaf_nodes': 26, 'min_samples_split': 2}. Best is trial 82 with value: 0.5307027016981615.\u001b[0m\n",
      "\u001b[32m[I 2022-10-05 09:06:03,536]\u001b[0m Trial 89 finished with value: 0.5257515647897718 and parameters: {'n_estimators': 408, 'max_depth': 8, 'max_features': 'sqrt', 'ccp_alpha': 0.3145263482700436, 'max_leaf_nodes': 29, 'min_samples_split': 2}. Best is trial 82 with value: 0.5307027016981615.\u001b[0m\n",
      "\u001b[32m[I 2022-10-05 09:06:03,738]\u001b[0m Trial 83 finished with value: 0.5303708520577658 and parameters: {'n_estimators': 500, 'max_depth': 9, 'max_features': 'sqrt', 'ccp_alpha': 0.31432413375574364, 'max_leaf_nodes': 25, 'min_samples_split': 2}. Best is trial 82 with value: 0.5307027016981615.\u001b[0m\n",
      "\u001b[32m[I 2022-10-05 09:06:05,662]\u001b[0m Trial 84 finished with value: 0.5309397840930312 and parameters: {'n_estimators': 496, 'max_depth': 7, 'max_features': 'sqrt', 'ccp_alpha': 0.2836384888260092, 'max_leaf_nodes': 28, 'min_samples_split': 2}. Best is trial 84 with value: 0.5309397840930312.\u001b[0m\n",
      "\u001b[32m[I 2022-10-05 09:06:05,893]\u001b[0m Trial 91 finished with value: 0.5259269577130804 and parameters: {'n_estimators': 409, 'max_depth': 8, 'max_features': 'sqrt', 'ccp_alpha': 0.04801726864243066, 'max_leaf_nodes': 28, 'min_samples_split': 2}. Best is trial 84 with value: 0.5309397840930312.\u001b[0m\n",
      "\u001b[32m[I 2022-10-05 09:06:06,050]\u001b[0m Trial 85 finished with value: 0.5304366338156677 and parameters: {'n_estimators': 498, 'max_depth': 7, 'max_features': 'sqrt', 'ccp_alpha': 0.2817270346444667, 'max_leaf_nodes': 27, 'min_samples_split': 2}. Best is trial 84 with value: 0.5309397840930312.\u001b[0m\n",
      "\u001b[32m[I 2022-10-05 09:06:09,334]\u001b[0m Trial 86 finished with value: 0.5305952553493308 and parameters: {'n_estimators': 500, 'max_depth': 7, 'max_features': 'sqrt', 'ccp_alpha': 0.35800742555447207, 'max_leaf_nodes': 30, 'min_samples_split': 2}. Best is trial 84 with value: 0.5309397840930312.\u001b[0m\n",
      "\u001b[32m[I 2022-10-05 09:06:09,390]\u001b[0m Trial 87 finished with value: 0.5307411181135743 and parameters: {'n_estimators': 494, 'max_depth': 7, 'max_features': 'sqrt', 'ccp_alpha': 0.28357112071666857, 'max_leaf_nodes': 74, 'min_samples_split': 2}. Best is trial 84 with value: 0.5309397840930312.\u001b[0m\n",
      "\u001b[32m[I 2022-10-05 09:06:09,557]\u001b[0m Trial 95 finished with value: 0.5233065445707507 and parameters: {'n_estimators': 414, 'max_depth': 8, 'max_features': 'sqrt', 'ccp_alpha': 0.04002885896111275, 'max_leaf_nodes': 31, 'min_samples_split': 4}. Best is trial 84 with value: 0.5309397840930312.\u001b[0m\n",
      "\u001b[32m[I 2022-10-05 09:06:10,080]\u001b[0m Trial 94 finished with value: 0.5269940767060903 and parameters: {'n_estimators': 500, 'max_depth': 8, 'max_features': 'sqrt', 'ccp_alpha': 0.2919823844259951, 'max_leaf_nodes': 38, 'min_samples_split': 4}. Best is trial 84 with value: 0.5309397840930312.\u001b[0m\n",
      "\u001b[32m[I 2022-10-05 09:06:10,188]\u001b[0m Trial 88 finished with value: 0.5311428511579758 and parameters: {'n_estimators': 494, 'max_depth': 8, 'max_features': 'sqrt', 'ccp_alpha': 0.34820350940703854, 'max_leaf_nodes': 29, 'min_samples_split': 2}. Best is trial 88 with value: 0.5311428511579758.\u001b[0m\n",
      "\u001b[32m[I 2022-10-05 09:06:10,639]\u001b[0m Trial 93 finished with value: 0.5269966211321392 and parameters: {'n_estimators': 500, 'max_depth': 8, 'max_features': 'sqrt', 'ccp_alpha': 0.044589230245656655, 'max_leaf_nodes': 30, 'min_samples_split': 4}. Best is trial 88 with value: 0.5311428511579758.\u001b[0m\n"
     ]
    },
    {
     "name": "stdout",
     "output_type": "stream",
     "text": [
      "Number of trials: 100\n",
      "Best trial:\n",
      "Best Parameters\n",
      "n_estimators: 494\n",
      "max_depth: 8\n",
      "max_features: sqrt\n",
      "ccp_alpha: 0.34820350940703854\n",
      "max_leaf_nodes: 29\n",
      "min_samples_split: 2\n"
     ]
    },
    {
     "name": "stderr",
     "output_type": "stream",
     "text": [
      "\u001b[32m[I 2022-10-05 09:06:10,969]\u001b[0m Trial 92 finished with value: 0.5269966211321392 and parameters: {'n_estimators': 500, 'max_depth': 8, 'max_features': 'sqrt', 'ccp_alpha': 0.04329954035954017, 'max_leaf_nodes': 30, 'min_samples_split': 4}. Best is trial 88 with value: 0.5311428511579758.\u001b[0m\n"
     ]
    }
   ],
   "source": [
    "import optuna\n",
    "import dask_optuna\n",
    "import joblib\n",
    "\n",
    "# EPOCHS = 30\n",
    "\n",
    "# with Client() as client:\n",
    "client = dasker.get_dask_client()\n",
    "print(f\"Dask dashboard is available at {client.dashboard_link}\")\n",
    "\n",
    "storage = dask_optuna.DaskStorage()\n",
    "study = optuna.create_study(storage=storage, direction=\"maximize\", sampler=optuna.samplers.TPESampler(), pruner=optuna.pruners.MedianPruner())\n",
    "\n",
    "with joblib.parallel_backend(\"dask\"):\n",
    "    study.optimize(objective, n_trials=100, n_jobs=-1)\n",
    "\n",
    "print(\"Number of trials: {}\".format(len(study.trials)))\n",
    "\n",
    "print(\"Best trial:\")\n",
    "trial = study.best_trial\n",
    "\n",
    "best_trial = study.best_trial\n",
    "\n",
    "print('Best Parameters')\n",
    "for key, value in best_trial.params.items():\n",
    "    print(\"{}: {}\".format(key, value))\n",
    "\n"
   ]
  },
  {
   "cell_type": "code",
   "execution_count": null,
   "metadata": {},
   "outputs": [],
   "source": []
  }
 ],
 "metadata": {
  "kernelspec": {
   "display_name": "Python 3.8.13 ('test')",
   "language": "python",
   "name": "python3"
  },
  "language_info": {
   "codemirror_mode": {
    "name": "ipython",
    "version": 3
   },
   "file_extension": ".py",
   "mimetype": "text/x-python",
   "name": "python",
   "nbconvert_exporter": "python",
   "pygments_lexer": "ipython3",
   "version": "3.8.13"
  },
  "orig_nbformat": 4,
  "vscode": {
   "interpreter": {
    "hash": "b6ff7914d2bc405bfa61a835d0564ba294eb5f3f9b4c24865f45d9397593b123"
   }
  }
 },
 "nbformat": 4,
 "nbformat_minor": 2
}
