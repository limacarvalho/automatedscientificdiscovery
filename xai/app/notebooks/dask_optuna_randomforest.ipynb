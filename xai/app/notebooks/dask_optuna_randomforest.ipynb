{
 "cells": [
  {
   "cell_type": "code",
   "execution_count": 1,
   "metadata": {},
   "outputs": [],
   "source": [
    "%load_ext autoreload\n",
    "%autoreload 2"
   ]
  },
  {
   "cell_type": "code",
   "execution_count": 2,
   "metadata": {},
   "outputs": [],
   "source": [
    "import sys; sys.path.insert(0, '..') # add parent folder path where lib folder is"
   ]
  },
  {
   "cell_type": "code",
   "execution_count": 3,
   "metadata": {},
   "outputs": [],
   "source": [
    "from ml.preprocess import data\n",
    "from utils import dasker, helper"
   ]
  },
  {
   "cell_type": "code",
   "execution_count": 4,
   "metadata": {},
   "outputs": [],
   "source": [
    "\n",
    "from torch.utils.data import random_split, DataLoader, Dataset\n",
    "from dask_ml.preprocessing import StandardScaler\n",
    "\n",
    "from sklearn.model_selection import train_test_split\n",
    "from sklearn.metrics import mean_squared_error\n",
    "import pandas as pd\n",
    "import numpy as np\n"
   ]
  },
  {
   "cell_type": "code",
   "execution_count": 5,
   "metadata": {},
   "outputs": [],
   "source": [
    "N_SPLITS = 3"
   ]
  },
  {
   "cell_type": "code",
   "execution_count": 6,
   "metadata": {},
   "outputs": [],
   "source": [
    "\n",
    "\n",
    "X_train_orig, y = data.get_dataset(f_name = '20220319_covid_merge_processed.csv' , sep = ',')\n",
    "# X_tilda = X.drop(brisk_xgboost.DROP_LIST, axis = 1)\n",
    "X = X_train_orig.drop(['location'], axis = 1)\n",
    "\n",
    "X_train, X_test, y_train, y_test = train_test_split(X, y, test_size=0.25, random_state=0)\n",
    "\n"
   ]
  },
  {
   "cell_type": "code",
   "execution_count": 7,
   "metadata": {},
   "outputs": [],
   "source": [
    "DROP_LIST = ['location']\n",
    "\n",
    "def get_dataset():\n",
    "    df = pd.read_csv('/mnt/c/Users/rwmas/GitHub/xai/xai_api/app/test/data/20220319_covid_merge_processed.csv', sep=\",\")\n",
    "\n",
    "    X = df[df.columns[df.columns!='y']]\n",
    "\n",
    "    X = X.drop(DROP_LIST, axis = 1)\n",
    "\n",
    "    y = df[df.columns[df.columns=='y']]\n",
    "\n",
    "    return X, y\n",
    "\n",
    "\n",
    "\n",
    "def get_split_dataset():\n",
    "    X, y = get_dataset()\n",
    "    return train_test_split(X, y, random_state=0, test_size=0.33)\n"
   ]
  },
  {
   "cell_type": "code",
   "execution_count": 8,
   "metadata": {},
   "outputs": [],
   "source": [
    "X_train, X_test, y_train, y_test,  = get_split_dataset()"
   ]
  },
  {
   "cell_type": "code",
   "execution_count": 9,
   "metadata": {},
   "outputs": [],
   "source": [
    "# y_train.values.reshape(y_train.shape[0], )"
   ]
  },
  {
   "cell_type": "code",
   "execution_count": 10,
   "metadata": {},
   "outputs": [],
   "source": [
    "from sklearn.ensemble import RandomForestRegressor\n",
    "from sklearn.model_selection import cross_validate\n",
    "from sklearn.model_selection import StratifiedKFold, KFold"
   ]
  },
  {
   "cell_type": "code",
   "execution_count": 11,
   "metadata": {},
   "outputs": [],
   "source": [
    "params = {\n",
    "    'n_estimators': 100,\n",
    "    'criterion' : 'squared_error',\n",
    "    'max_depth': 2\n",
    "}"
   ]
  },
  {
   "cell_type": "code",
   "execution_count": 22,
   "metadata": {},
   "outputs": [
    {
     "data": {
      "text/html": [
       "<style>#sk-container-id-3 {color: black;background-color: white;}#sk-container-id-3 pre{padding: 0;}#sk-container-id-3 div.sk-toggleable {background-color: white;}#sk-container-id-3 label.sk-toggleable__label {cursor: pointer;display: block;width: 100%;margin-bottom: 0;padding: 0.3em;box-sizing: border-box;text-align: center;}#sk-container-id-3 label.sk-toggleable__label-arrow:before {content: \"▸\";float: left;margin-right: 0.25em;color: #696969;}#sk-container-id-3 label.sk-toggleable__label-arrow:hover:before {color: black;}#sk-container-id-3 div.sk-estimator:hover label.sk-toggleable__label-arrow:before {color: black;}#sk-container-id-3 div.sk-toggleable__content {max-height: 0;max-width: 0;overflow: hidden;text-align: left;background-color: #f0f8ff;}#sk-container-id-3 div.sk-toggleable__content pre {margin: 0.2em;color: black;border-radius: 0.25em;background-color: #f0f8ff;}#sk-container-id-3 input.sk-toggleable__control:checked~div.sk-toggleable__content {max-height: 200px;max-width: 100%;overflow: auto;}#sk-container-id-3 input.sk-toggleable__control:checked~label.sk-toggleable__label-arrow:before {content: \"▾\";}#sk-container-id-3 div.sk-estimator input.sk-toggleable__control:checked~label.sk-toggleable__label {background-color: #d4ebff;}#sk-container-id-3 div.sk-label input.sk-toggleable__control:checked~label.sk-toggleable__label {background-color: #d4ebff;}#sk-container-id-3 input.sk-hidden--visually {border: 0;clip: rect(1px 1px 1px 1px);clip: rect(1px, 1px, 1px, 1px);height: 1px;margin: -1px;overflow: hidden;padding: 0;position: absolute;width: 1px;}#sk-container-id-3 div.sk-estimator {font-family: monospace;background-color: #f0f8ff;border: 1px dotted black;border-radius: 0.25em;box-sizing: border-box;margin-bottom: 0.5em;}#sk-container-id-3 div.sk-estimator:hover {background-color: #d4ebff;}#sk-container-id-3 div.sk-parallel-item::after {content: \"\";width: 100%;border-bottom: 1px solid gray;flex-grow: 1;}#sk-container-id-3 div.sk-label:hover label.sk-toggleable__label {background-color: #d4ebff;}#sk-container-id-3 div.sk-serial::before {content: \"\";position: absolute;border-left: 1px solid gray;box-sizing: border-box;top: 0;bottom: 0;left: 50%;z-index: 0;}#sk-container-id-3 div.sk-serial {display: flex;flex-direction: column;align-items: center;background-color: white;padding-right: 0.2em;padding-left: 0.2em;position: relative;}#sk-container-id-3 div.sk-item {position: relative;z-index: 1;}#sk-container-id-3 div.sk-parallel {display: flex;align-items: stretch;justify-content: center;background-color: white;position: relative;}#sk-container-id-3 div.sk-item::before, #sk-container-id-3 div.sk-parallel-item::before {content: \"\";position: absolute;border-left: 1px solid gray;box-sizing: border-box;top: 0;bottom: 0;left: 50%;z-index: -1;}#sk-container-id-3 div.sk-parallel-item {display: flex;flex-direction: column;z-index: 1;position: relative;background-color: white;}#sk-container-id-3 div.sk-parallel-item:first-child::after {align-self: flex-end;width: 50%;}#sk-container-id-3 div.sk-parallel-item:last-child::after {align-self: flex-start;width: 50%;}#sk-container-id-3 div.sk-parallel-item:only-child::after {width: 0;}#sk-container-id-3 div.sk-dashed-wrapped {border: 1px dashed gray;margin: 0 0.4em 0.5em 0.4em;box-sizing: border-box;padding-bottom: 0.4em;background-color: white;}#sk-container-id-3 div.sk-label label {font-family: monospace;font-weight: bold;display: inline-block;line-height: 1.2em;}#sk-container-id-3 div.sk-label-container {text-align: center;}#sk-container-id-3 div.sk-container {/* jupyter's `normalize.less` sets `[hidden] { display: none; }` but bootstrap.min.css set `[hidden] { display: none !important; }` so we also need the `!important` here to be able to override the default hidden behavior on the sphinx rendered scikit-learn.org. See: https://github.com/scikit-learn/scikit-learn/issues/21755 */display: inline-block !important;position: relative;}#sk-container-id-3 div.sk-text-repr-fallback {display: none;}</style><div id=\"sk-container-id-3\" class=\"sk-top-container\"><div class=\"sk-text-repr-fallback\"><pre>RandomForestRegressor(max_depth=2, random_state=0)</pre><b>In a Jupyter environment, please rerun this cell to show the HTML representation or trust the notebook. <br />On GitHub, the HTML representation is unable to render, please try loading this page with nbviewer.org.</b></div><div class=\"sk-container\" hidden><div class=\"sk-item\"><div class=\"sk-estimator sk-toggleable\"><input class=\"sk-toggleable__control sk-hidden--visually\" id=\"sk-estimator-id-3\" type=\"checkbox\" checked><label for=\"sk-estimator-id-3\" class=\"sk-toggleable__label sk-toggleable__label-arrow\">RandomForestRegressor</label><div class=\"sk-toggleable__content\"><pre>RandomForestRegressor(max_depth=2, random_state=0)</pre></div></div></div></div></div>"
      ],
      "text/plain": [
       "RandomForestRegressor(max_depth=2, random_state=0)"
      ]
     },
     "execution_count": 22,
     "metadata": {},
     "output_type": "execute_result"
    }
   ],
   "source": [
    "regr = RandomForestRegressor(max_depth=params['max_depth'], random_state=0)\n",
    "regr.fit(X_train, y_train)"
   ]
  },
  {
   "cell_type": "code",
   "execution_count": 51,
   "metadata": {},
   "outputs": [
    {
     "data": {
      "text/plain": [
       "0.7388743460063523"
      ]
     },
     "execution_count": 51,
     "metadata": {},
     "output_type": "execute_result"
    }
   ],
   "source": [
    "regr.score(X_train, y_train)"
   ]
  },
  {
   "cell_type": "code",
   "execution_count": 52,
   "metadata": {},
   "outputs": [
    {
     "data": {
      "text/plain": [
       "0.4862370637506407"
      ]
     },
     "execution_count": 52,
     "metadata": {},
     "output_type": "execute_result"
    }
   ],
   "source": [
    "regr.score(X_test, y_test)"
   ]
  },
  {
   "cell_type": "code",
   "execution_count": 24,
   "metadata": {},
   "outputs": [],
   "source": [
    "pred_regr = regr.predict(X_test)"
   ]
  },
  {
   "cell_type": "code",
   "execution_count": 24,
   "metadata": {},
   "outputs": [
    {
     "ename": "NameError",
     "evalue": "name 'pred_regr' is not defined",
     "output_type": "error",
     "traceback": [
      "\u001b[0;31m---------------------------------------------------------------------------\u001b[0m",
      "\u001b[0;31mNameError\u001b[0m                                 Traceback (most recent call last)",
      "\u001b[1;32m/mnt/c/Users/rwmas/GitHub/xai/xai_api/app/notebooks/dask_optuna_randomforest.ipynb Cell 16\u001b[0m in \u001b[0;36m<cell line: 1>\u001b[0;34m()\u001b[0m\n\u001b[0;32m----> <a href='vscode-notebook-cell://wsl%2Bubuntu/mnt/c/Users/rwmas/GitHub/xai/xai_api/app/notebooks/dask_optuna_randomforest.ipynb#X21sdnNjb2RlLXJlbW90ZQ%3D%3D?line=0'>1</a>\u001b[0m np\u001b[39m.\u001b[39mround(mean_squared_error(pred_regr, y_test), \u001b[39m2\u001b[39m)\n",
      "\u001b[0;31mNameError\u001b[0m: name 'pred_regr' is not defined"
     ]
    }
   ],
   "source": [
    "np.round(mean_squared_error(pred_regr, y_test), 2)"
   ]
  },
  {
   "cell_type": "code",
   "execution_count": 40,
   "metadata": {},
   "outputs": [],
   "source": [
    "from sklearn.model_selection import cross_val_score, cross_validate\n",
    "# from sklearn.model_selection.\n",
    "\n",
    "\n",
    "def objective(trial):\n",
    "\n",
    "    # X, y  = get_dataset()\n",
    "\n",
    "    X_train, X_test, y_train, y_test,  = get_split_dataset()\n",
    "\n",
    "    y_train = y_train.values.reshape(y_train.shape[0], )\n",
    "    y_test = y_test.values.reshape(y_test.shape[0], )\n",
    "\n",
    "\n",
    "    params = {\n",
    "        \"n_estimators\": trial.suggest_int(\"n_estimators\", 10, 500),\n",
    "        \"max_depth\": trial.suggest_int(\"max_depth\", 2, 50),\n",
    "        \"max_features\": trial.suggest_categorical(\"max_features\", [\"sqrt\", \"log2\", 1]),\n",
    "        \"ccp_alpha\": trial.suggest_float(\"ccp_alpha\", 1e-3, 10.0, log=True),\n",
    "        'max_leaf_nodes': trial.suggest_int(\"max_leaf_nodes\", 2, X_train.shape[0]),\n",
    "        'min_samples_split': trial.suggest_int(\"min_samples_split\", 2, 10)\n",
    "    }\n",
    "\n",
    "    kf = KFold(n_splits=N_SPLITS)\n",
    "\n",
    "    regr = RandomForestRegressor(max_depth = params['max_depth'],\n",
    "                                                        n_estimators = params['n_estimators'],\n",
    "                                                        max_features = params['max_features'], \n",
    "                                                        ccp_alpha = params['ccp_alpha'],\n",
    "                                                        max_leaf_nodes = params['max_leaf_nodes'],\n",
    "                                                        min_samples_split = params['min_samples_split'],\n",
    "                                                        criterion = 'squared_error',\n",
    "                                                        random_state=0)    \n",
    "    # regr.fit(X_train, y_train)\n",
    "\n",
    "\n",
    "    # scores = cross_val_score(regr, X_train, y_train, scoring='r2', cv=kf, n_jobs=-1, verbose=0 )\n",
    "    \n",
    "    cv_results = cross_validate(regr, X_train, y_train, scoring=('r2'), cv=kf,\n",
    "                                            n_jobs=-1, verbose=0, return_estimator=True)\n",
    "\n",
    "    estimator = cv_results['estimator']\n",
    "    test_scores = np.mean(cv_results['test_score'])\n",
    "\n",
    "    # print(scores)\n",
    "\n",
    "    return test_scores"
   ]
  },
  {
   "cell_type": "code",
   "execution_count": 41,
   "metadata": {},
   "outputs": [],
   "source": [
    "\n",
    "def __objective(trial):\n",
    "\n",
    "    X, y  = get_dataset()\n",
    "\n",
    "    params = {\n",
    "        \"n_estimators\": trial.suggest_int(\"n_estimators\", 50, 500),\n",
    "        \"max_depth\": trial.suggest_int(\"max_depth\", 2, 10),\n",
    "        \"max_features\": trial.suggest_categorical(\"max_features\", [\"sqrt\", \"log2\", 1]),\n",
    "        \"ccp_alpha\": trial.suggest_float(\"ccp_alpha\", 1e-3, 1.0, log=True),\n",
    "        'max_leaf_nodes': trial.suggest_int(\"max_leaf_nodes\", 2, X.shape[0]),\n",
    "        'min_samples_split': trial.suggest_int(\"min_samples_split\", 2, 10)\n",
    "    }\n",
    "\n",
    "    kf = KFold(n_splits=N_SPLITS, )\n",
    "\n",
    "    avg_r2_train_list = []\n",
    "    avg_r2_test_list = []\n",
    "\n",
    "    for train_index, test_index in kf.split(X):\n",
    "\n",
    "        X_train, X_test = X.loc[train_index], X.loc[test_index]\n",
    "        y_train, y_test = y.loc[train_index], y.loc[test_index]\n",
    "\n",
    "        y_train = y_train.values.reshape(y_train.shape[0], )\n",
    "        y_test = y_test.values.reshape(y_test.shape[0], )\n",
    "\n",
    "        regr = RandomForestRegressor(max_depth = params['max_depth'],\n",
    "                                                            n_estimators = params['n_estimators'],\n",
    "                                                            max_features = params['max_features'], \n",
    "                                                            # ccp_alpha = params['ccp_alpha'],\n",
    "                                                            max_leaf_nodes = params['max_leaf_nodes'],\n",
    "                                                            min_samples_split = params['min_samples_split'],\n",
    "                                                            criterion = 'squared_error',\n",
    "                                                            random_state=0)    \n",
    "        regr.fit(X_train, y_train)\n",
    "        \n",
    "        r2_train = regr.score(X_train, y_train)\n",
    "        r2_test = regr.score(X_test, y_test)\n",
    "\n",
    "        avg_r2_train_list.append(r2_train)\n",
    "        avg_r2_test_list.append(r2_test)\n",
    "        \n",
    "    avg_train_score = np.mean(avg_r2_train_list)\n",
    "    avg_test_score = np.mean(avg_r2_test_list)\n",
    "\n",
    "    abs_diff = np.sqrt(1 - abs(avg_test_score - avg_train_score))\n",
    "    \n",
    "    final_score = np.round((avg_train_score * avg_test_score * abs_diff) / (avg_train_score + avg_test_score), 3)\n",
    "\n",
    "\n",
    "    print(f'avg. train score: {avg_train_score}')\n",
    "    print(f'avg. test score: {avg_test_score}')\n",
    "    print(f'final score: {final_score}')\n",
    "\n",
    "\n",
    "    # err = mean_squared_error(pred_regr, y_test)\n",
    "    return final_score\n"
   ]
  },
  {
   "cell_type": "code",
   "execution_count": 42,
   "metadata": {},
   "outputs": [
    {
     "name": "stderr",
     "output_type": "stream",
     "text": [
      "\u001b[32m[I 2022-10-05 09:09:57,825]\u001b[0m A new study created in memory with name: no-name-d3a6d9a3-0f5e-428c-954f-d26750fdd6b0\u001b[0m\n"
     ]
    },
    {
     "name": "stdout",
     "output_type": "stream",
     "text": [
      "Dask dashboard is available at http://127.0.0.1:8787/status\n"
     ]
    },
    {
     "name": "stderr",
     "output_type": "stream",
     "text": [
      "\u001b[32m[I 2022-10-05 09:10:10,590]\u001b[0m Trial 3 finished with value: 0.5252878262030252 and parameters: {'n_estimators': 35, 'max_depth': 36, 'max_features': 'sqrt', 'ccp_alpha': 0.7590519992204429, 'max_leaf_nodes': 95, 'min_samples_split': 4}. Best is trial 3 with value: 0.5252878262030252.\u001b[0m\n",
      "\u001b[32m[I 2022-10-05 09:10:12,094]\u001b[0m Trial 15 finished with value: 0.5120792150670553 and parameters: {'n_estimators': 44, 'max_depth': 48, 'max_features': 'log2', 'ccp_alpha': 0.8324743727598442, 'max_leaf_nodes': 100, 'min_samples_split': 6}. Best is trial 3 with value: 0.5252878262030252.\u001b[0m\n",
      "\u001b[32m[I 2022-10-05 09:10:14,259]\u001b[0m Trial 8 finished with value: 0.45433879840465813 and parameters: {'n_estimators': 42, 'max_depth': 17, 'max_features': 1, 'ccp_alpha': 0.07909980290375974, 'max_leaf_nodes': 89, 'min_samples_split': 7}. Best is trial 3 with value: 0.5252878262030252.\u001b[0m\n",
      "\u001b[32m[I 2022-10-05 09:10:15,085]\u001b[0m Trial 14 finished with value: 0.512294187609188 and parameters: {'n_estimators': 28, 'max_depth': 26, 'max_features': 'sqrt', 'ccp_alpha': 0.17120751614418037, 'max_leaf_nodes': 94, 'min_samples_split': 5}. Best is trial 3 with value: 0.5252878262030252.\u001b[0m\n",
      "\u001b[32m[I 2022-10-05 09:10:21,963]\u001b[0m Trial 23 finished with value: 0.5233833387992691 and parameters: {'n_estimators': 55, 'max_depth': 23, 'max_features': 'sqrt', 'ccp_alpha': 0.024420043897914936, 'max_leaf_nodes': 27, 'min_samples_split': 3}. Best is trial 3 with value: 0.5252878262030252.\u001b[0m\n",
      "\u001b[32m[I 2022-10-05 09:10:25,545]\u001b[0m Trial 13 finished with value: 0.5075578274602429 and parameters: {'n_estimators': 80, 'max_depth': 20, 'max_features': 'sqrt', 'ccp_alpha': 0.04030857321716239, 'max_leaf_nodes': 101, 'min_samples_split': 4}. Best is trial 3 with value: 0.5252878262030252.\u001b[0m\n",
      "\u001b[32m[I 2022-10-05 09:10:42,205]\u001b[0m Trial 1 finished with value: 0.518823291922505 and parameters: {'n_estimators': 126, 'max_depth': 14, 'max_features': 'sqrt', 'ccp_alpha': 0.0013277832068648954, 'max_leaf_nodes': 110, 'min_samples_split': 3}. Best is trial 3 with value: 0.5252878262030252.\u001b[0m\n",
      "\u001b[32m[I 2022-10-05 09:10:42,762]\u001b[0m Trial 10 finished with value: 0.4239100022565006 and parameters: {'n_estimators': 155, 'max_depth': 46, 'max_features': 1, 'ccp_alpha': 0.8491544962943347, 'max_leaf_nodes': 76, 'min_samples_split': 6}. Best is trial 3 with value: 0.5252878262030252.\u001b[0m\n",
      "\u001b[32m[I 2022-10-05 09:10:45,617]\u001b[0m Trial 5 finished with value: 0.525804432709818 and parameters: {'n_estimators': 163, 'max_depth': 47, 'max_features': 'sqrt', 'ccp_alpha': 0.003930387485328157, 'max_leaf_nodes': 31, 'min_samples_split': 4}. Best is trial 5 with value: 0.525804432709818.\u001b[0m\n",
      "\u001b[32m[I 2022-10-05 09:10:48,235]\u001b[0m Trial 27 finished with value: 0.4600543832911024 and parameters: {'n_estimators': 15, 'max_depth': 10, 'max_features': 1, 'ccp_alpha': 0.2002210265638479, 'max_leaf_nodes': 14, 'min_samples_split': 8}. Best is trial 5 with value: 0.525804432709818.\u001b[0m\n",
      "\u001b[32m[I 2022-10-05 09:10:52,786]\u001b[0m Trial 6 finished with value: 0.5127306944525815 and parameters: {'n_estimators': 182, 'max_depth': 42, 'max_features': 'sqrt', 'ccp_alpha': 0.006001633372975318, 'max_leaf_nodes': 10, 'min_samples_split': 2}. Best is trial 5 with value: 0.525804432709818.\u001b[0m\n",
      "\u001b[32m[I 2022-10-05 09:10:56,888]\u001b[0m Trial 12 finished with value: 0.41773123997138417 and parameters: {'n_estimators': 206, 'max_depth': 30, 'max_features': 1, 'ccp_alpha': 0.016188220085291253, 'max_leaf_nodes': 94, 'min_samples_split': 6}. Best is trial 5 with value: 0.525804432709818.\u001b[0m\n",
      "\u001b[32m[I 2022-10-05 09:10:57,224]\u001b[0m Trial 4 finished with value: 0.5212903925112339 and parameters: {'n_estimators': 200, 'max_depth': 20, 'max_features': 'sqrt', 'ccp_alpha': 2.3116472721943166, 'max_leaf_nodes': 53, 'min_samples_split': 3}. Best is trial 5 with value: 0.525804432709818.\u001b[0m\n",
      "\u001b[32m[I 2022-10-05 09:11:20,413]\u001b[0m Trial 0 finished with value: 0.4345095363053206 and parameters: {'n_estimators': 285, 'max_depth': 18, 'max_features': 1, 'ccp_alpha': 0.012212030854331968, 'max_leaf_nodes': 53, 'min_samples_split': 4}. Best is trial 5 with value: 0.525804432709818.\u001b[0m\n",
      "\u001b[32m[I 2022-10-05 09:11:25,257]\u001b[0m Trial 21 finished with value: 0.4289168364857335 and parameters: {'n_estimators': 281, 'max_depth': 16, 'max_features': 1, 'ccp_alpha': 0.0010859298322567705, 'max_leaf_nodes': 127, 'min_samples_split': 5}. Best is trial 5 with value: 0.525804432709818.\u001b[0m\n",
      "\u001b[32m[I 2022-10-05 09:11:30,664]\u001b[0m Trial 25 finished with value: 0.4352064031399799 and parameters: {'n_estimators': 206, 'max_depth': 13, 'max_features': 1, 'ccp_alpha': 0.11230997988772111, 'max_leaf_nodes': 59, 'min_samples_split': 3}. Best is trial 5 with value: 0.525804432709818.\u001b[0m\n",
      "\u001b[32m[I 2022-10-05 09:11:42,352]\u001b[0m Trial 17 finished with value: 0.5089418767608553 and parameters: {'n_estimators': 298, 'max_depth': 21, 'max_features': 'log2', 'ccp_alpha': 0.30600587238499716, 'max_leaf_nodes': 74, 'min_samples_split': 8}. Best is trial 5 with value: 0.525804432709818.\u001b[0m\n",
      "\u001b[32m[I 2022-10-05 09:11:46,546]\u001b[0m Trial 2 finished with value: 0.5012938394677939 and parameters: {'n_estimators': 346, 'max_depth': 27, 'max_features': 'sqrt', 'ccp_alpha': 0.004451700003987938, 'max_leaf_nodes': 49, 'min_samples_split': 10}. Best is trial 5 with value: 0.525804432709818.\u001b[0m\n",
      "\u001b[32m[I 2022-10-05 09:11:46,926]\u001b[0m Trial 9 finished with value: 0.43022655254251235 and parameters: {'n_estimators': 341, 'max_depth': 39, 'max_features': 1, 'ccp_alpha': 0.09987409815560702, 'max_leaf_nodes': 26, 'min_samples_split': 4}. Best is trial 5 with value: 0.525804432709818.\u001b[0m\n",
      "\u001b[32m[I 2022-10-05 09:11:50,144]\u001b[0m Trial 19 finished with value: 0.4981936398861402 and parameters: {'n_estimators': 361, 'max_depth': 5, 'max_features': 'sqrt', 'ccp_alpha': 0.007219664570907269, 'max_leaf_nodes': 82, 'min_samples_split': 10}. Best is trial 5 with value: 0.525804432709818.\u001b[0m\n",
      "\u001b[32m[I 2022-10-05 09:11:52,033]\u001b[0m Trial 11 finished with value: 0.41289050315555625 and parameters: {'n_estimators': 370, 'max_depth': 29, 'max_features': 1, 'ccp_alpha': 3.36177277417208, 'max_leaf_nodes': 75, 'min_samples_split': 6}. Best is trial 5 with value: 0.525804432709818.\u001b[0m\n",
      "\u001b[32m[I 2022-10-05 09:11:52,074]\u001b[0m Trial 7 finished with value: 0.3941204538399419 and parameters: {'n_estimators': 365, 'max_depth': 44, 'max_features': 1, 'ccp_alpha': 0.8887405924255672, 'max_leaf_nodes': 34, 'min_samples_split': 9}. Best is trial 5 with value: 0.525804432709818.\u001b[0m\n",
      "\u001b[32m[I 2022-10-05 09:11:54,359]\u001b[0m Trial 28 finished with value: 0.3976998546053478 and parameters: {'n_estimators': 275, 'max_depth': 4, 'max_features': 1, 'ccp_alpha': 0.4250291343964397, 'max_leaf_nodes': 94, 'min_samples_split': 3}. Best is trial 5 with value: 0.525804432709818.\u001b[0m\n",
      "\u001b[32m[I 2022-10-05 09:11:54,965]\u001b[0m Trial 24 finished with value: 0.42044373988898337 and parameters: {'n_estimators': 281, 'max_depth': 42, 'max_features': 1, 'ccp_alpha': 0.5185927637591071, 'max_leaf_nodes': 114, 'min_samples_split': 6}. Best is trial 5 with value: 0.525804432709818.\u001b[0m\n",
      "\u001b[32m[I 2022-10-05 09:11:59,098]\u001b[0m Trial 31 finished with value: 0.5164142070220407 and parameters: {'n_estimators': 214, 'max_depth': 28, 'max_features': 'log2', 'ccp_alpha': 0.16470266306940914, 'max_leaf_nodes': 96, 'min_samples_split': 3}. Best is trial 5 with value: 0.525804432709818.\u001b[0m\n",
      "\u001b[32m[I 2022-10-05 09:11:59,776]\u001b[0m Trial 20 finished with value: 0.5247934717241347 and parameters: {'n_estimators': 382, 'max_depth': 16, 'max_features': 'sqrt', 'ccp_alpha': 1.5652771426285241, 'max_leaf_nodes': 70, 'min_samples_split': 3}. Best is trial 5 with value: 0.525804432709818.\u001b[0m\n",
      "\u001b[32m[I 2022-10-05 09:12:06,999]\u001b[0m Trial 16 finished with value: 0.42655376779629 and parameters: {'n_estimators': 424, 'max_depth': 50, 'max_features': 1, 'ccp_alpha': 0.0014638250607786887, 'max_leaf_nodes': 63, 'min_samples_split': 5}. Best is trial 5 with value: 0.525804432709818.\u001b[0m\n",
      "\u001b[32m[I 2022-10-05 09:12:08,802]\u001b[0m Trial 26 finished with value: 0.5049398679509702 and parameters: {'n_estimators': 326, 'max_depth': 18, 'max_features': 'sqrt', 'ccp_alpha': 0.14576625404625282, 'max_leaf_nodes': 124, 'min_samples_split': 9}. Best is trial 5 with value: 0.525804432709818.\u001b[0m\n",
      "\u001b[32m[I 2022-10-05 09:12:10,972]\u001b[0m Trial 22 finished with value: 0.528820776592218 and parameters: {'n_estimators': 432, 'max_depth': 20, 'max_features': 'log2', 'ccp_alpha': 0.6052126110939907, 'max_leaf_nodes': 80, 'min_samples_split': 2}. Best is trial 22 with value: 0.528820776592218.\u001b[0m\n",
      "\u001b[32m[I 2022-10-05 09:12:11,439]\u001b[0m Trial 18 finished with value: 0.38702091998095617 and parameters: {'n_estimators': 446, 'max_depth': 42, 'max_features': 1, 'ccp_alpha': 0.002243700918600236, 'max_leaf_nodes': 89, 'min_samples_split': 10}. Best is trial 22 with value: 0.528820776592218.\u001b[0m\n",
      "\u001b[32m[I 2022-10-05 09:12:22,795]\u001b[0m Trial 41 finished with value: 0.44911388294950827 and parameters: {'n_estimators': 101, 'max_depth': 2, 'max_features': 'sqrt', 'ccp_alpha': 6.440221847925649, 'max_leaf_nodes': 123, 'min_samples_split': 2}. Best is trial 22 with value: 0.528820776592218.\u001b[0m\n",
      "\u001b[32m[I 2022-10-05 09:12:29,367]\u001b[0m Trial 43 finished with value: 0.5081395015661898 and parameters: {'n_estimators': 99, 'max_depth': 35, 'max_features': 'sqrt', 'ccp_alpha': 0.029792501627403746, 'max_leaf_nodes': 30, 'min_samples_split': 2}. Best is trial 22 with value: 0.528820776592218.\u001b[0m\n",
      "\u001b[32m[I 2022-10-05 09:12:30,231]\u001b[0m Trial 29 finished with value: 0.5083237997563734 and parameters: {'n_estimators': 376, 'max_depth': 42, 'max_features': 'log2', 'ccp_alpha': 0.033091141020952716, 'max_leaf_nodes': 42, 'min_samples_split': 8}. Best is trial 22 with value: 0.528820776592218.\u001b[0m\n",
      "\u001b[32m[I 2022-10-05 09:12:36,491]\u001b[0m Trial 44 finished with value: 0.5028005669698387 and parameters: {'n_estimators': 101, 'max_depth': 35, 'max_features': 'sqrt', 'ccp_alpha': 0.0026120397572848993, 'max_leaf_nodes': 35, 'min_samples_split': 2}. Best is trial 22 with value: 0.528820776592218.\u001b[0m\n",
      "\u001b[32m[I 2022-10-05 09:12:46,119]\u001b[0m Trial 35 finished with value: 0.49662806961778067 and parameters: {'n_estimators': 336, 'max_depth': 36, 'max_features': 'log2', 'ccp_alpha': 0.0013554474766899263, 'max_leaf_nodes': 125, 'min_samples_split': 10}. Best is trial 22 with value: 0.528820776592218.\u001b[0m\n",
      "\u001b[32m[I 2022-10-05 09:12:48,531]\u001b[0m Trial 52 finished with value: 0.5128323365063719 and parameters: {'n_estimators': 105, 'max_depth': 36, 'max_features': 'log2', 'ccp_alpha': 7.798449121023991, 'max_leaf_nodes': 44, 'min_samples_split': 2}. Best is trial 22 with value: 0.528820776592218.\u001b[0m\n",
      "\u001b[32m[I 2022-10-05 09:12:49,840]\u001b[0m Trial 34 finished with value: 0.5215771652019504 and parameters: {'n_estimators': 376, 'max_depth': 38, 'max_features': 'log2', 'ccp_alpha': 4.590589035316864, 'max_leaf_nodes': 46, 'min_samples_split': 4}. Best is trial 22 with value: 0.528820776592218.\u001b[0m\n",
      "\u001b[32m[I 2022-10-05 09:12:50,008]\u001b[0m Trial 53 finished with value: 0.5148214149669715 and parameters: {'n_estimators': 96, 'max_depth': 34, 'max_features': 'log2', 'ccp_alpha': 3.978702526753318, 'max_leaf_nodes': 48, 'min_samples_split': 2}. Best is trial 22 with value: 0.528820776592218.\u001b[0m\n",
      "\u001b[32m[I 2022-10-05 09:12:54,905]\u001b[0m Trial 32 finished with value: 0.5044218806256778 and parameters: {'n_estimators': 419, 'max_depth': 4, 'max_features': 'log2', 'ccp_alpha': 0.0035736467625271276, 'max_leaf_nodes': 98, 'min_samples_split': 4}. Best is trial 22 with value: 0.528820776592218.\u001b[0m\n",
      "\u001b[32m[I 2022-10-05 09:12:57,669]\u001b[0m Trial 33 finished with value: 0.5279368684027779 and parameters: {'n_estimators': 406, 'max_depth': 36, 'max_features': 'log2', 'ccp_alpha': 0.0013792547519019933, 'max_leaf_nodes': 45, 'min_samples_split': 2}. Best is trial 22 with value: 0.528820776592218.\u001b[0m\n",
      "\u001b[32m[I 2022-10-05 09:13:05,165]\u001b[0m Trial 30 finished with value: 0.43623337439231974 and parameters: {'n_estimators': 479, 'max_depth': 12, 'max_features': 1, 'ccp_alpha': 7.280903329011226, 'max_leaf_nodes': 39, 'min_samples_split': 2}. Best is trial 22 with value: 0.528820776592218.\u001b[0m\n",
      "\u001b[32m[I 2022-10-05 09:13:09,727]\u001b[0m Trial 36 finished with value: 0.5266759118339618 and parameters: {'n_estimators': 437, 'max_depth': 35, 'max_features': 'log2', 'ccp_alpha': 5.774739412498533, 'max_leaf_nodes': 47, 'min_samples_split': 4}. Best is trial 22 with value: 0.528820776592218.\u001b[0m\n",
      "\u001b[32m[I 2022-10-05 09:13:10,484]\u001b[0m Trial 37 finished with value: 0.4973710014444002 and parameters: {'n_estimators': 373, 'max_depth': 37, 'max_features': 'log2', 'ccp_alpha': 7.22651400295486, 'max_leaf_nodes': 124, 'min_samples_split': 10}. Best is trial 22 with value: 0.528820776592218.\u001b[0m\n",
      "\u001b[32m[I 2022-10-05 09:13:24,522]\u001b[0m Trial 39 finished with value: 0.499233800388095 and parameters: {'n_estimators': 390, 'max_depth': 38, 'max_features': 'log2', 'ccp_alpha': 4.667249590389127, 'max_leaf_nodes': 37, 'min_samples_split': 10}. Best is trial 22 with value: 0.528820776592218.\u001b[0m\n",
      "\u001b[32m[I 2022-10-05 09:13:35,815]\u001b[0m Trial 38 finished with value: 0.5008295053226528 and parameters: {'n_estimators': 482, 'max_depth': 36, 'max_features': 'log2', 'ccp_alpha': 3.381164431875109, 'max_leaf_nodes': 39, 'min_samples_split': 10}. Best is trial 22 with value: 0.528820776592218.\u001b[0m\n",
      "\u001b[32m[I 2022-10-05 09:13:53,847]\u001b[0m Trial 40 finished with value: 0.5293032841874699 and parameters: {'n_estimators': 465, 'max_depth': 36, 'max_features': 'sqrt', 'ccp_alpha': 6.744214479559766, 'max_leaf_nodes': 40, 'min_samples_split': 2}. Best is trial 40 with value: 0.5293032841874699.\u001b[0m\n",
      "\u001b[32m[I 2022-10-05 09:13:57,727]\u001b[0m Trial 46 finished with value: 0.5279436949001214 and parameters: {'n_estimators': 438, 'max_depth': 37, 'max_features': 'sqrt', 'ccp_alpha': 8.521034513334765, 'max_leaf_nodes': 37, 'min_samples_split': 2}. Best is trial 40 with value: 0.5293032841874699.\u001b[0m\n",
      "\u001b[32m[I 2022-10-05 09:13:58,866]\u001b[0m Trial 47 finished with value: 0.5203508674790062 and parameters: {'n_estimators': 436, 'max_depth': 35, 'max_features': 'sqrt', 'ccp_alpha': 9.039226662962024, 'max_leaf_nodes': 37, 'min_samples_split': 5}. Best is trial 40 with value: 0.5293032841874699.\u001b[0m\n",
      "\u001b[32m[I 2022-10-05 09:14:02,858]\u001b[0m Trial 42 finished with value: 0.5288117244069822 and parameters: {'n_estimators': 461, 'max_depth': 35, 'max_features': 'sqrt', 'ccp_alpha': 0.0028015401075611344, 'max_leaf_nodes': 34, 'min_samples_split': 2}. Best is trial 40 with value: 0.5293032841874699.\u001b[0m\n",
      "\u001b[32m[I 2022-10-05 09:14:05,478]\u001b[0m Trial 45 finished with value: 0.5294263166611557 and parameters: {'n_estimators': 451, 'max_depth': 34, 'max_features': 'sqrt', 'ccp_alpha': 0.0023381300382481532, 'max_leaf_nodes': 37, 'min_samples_split': 2}. Best is trial 45 with value: 0.5294263166611557.\u001b[0m\n",
      "\u001b[32m[I 2022-10-05 09:14:08,491]\u001b[0m Trial 51 finished with value: 0.5273335147857927 and parameters: {'n_estimators': 437, 'max_depth': 34, 'max_features': 'sqrt', 'ccp_alpha': 9.349479249115038, 'max_leaf_nodes': 40, 'min_samples_split': 2}. Best is trial 45 with value: 0.5294263166611557.\u001b[0m\n",
      "\u001b[32m[I 2022-10-05 09:14:11,979]\u001b[0m Trial 50 finished with value: 0.5286193297472096 and parameters: {'n_estimators': 445, 'max_depth': 35, 'max_features': 'sqrt', 'ccp_alpha': 1.8740634742391156, 'max_leaf_nodes': 40, 'min_samples_split': 2}. Best is trial 45 with value: 0.5294263166611557.\u001b[0m\n",
      "\u001b[32m[I 2022-10-05 09:14:14,067]\u001b[0m Trial 48 finished with value: 0.5301103775984121 and parameters: {'n_estimators': 484, 'max_depth': 35, 'max_features': 'sqrt', 'ccp_alpha': 8.15234956835603, 'max_leaf_nodes': 65, 'min_samples_split': 2}. Best is trial 48 with value: 0.5301103775984121.\u001b[0m\n",
      "\u001b[32m[I 2022-10-05 09:14:16,160]\u001b[0m Trial 49 finished with value: 0.5306916210280499 and parameters: {'n_estimators': 489, 'max_depth': 36, 'max_features': 'sqrt', 'ccp_alpha': 9.699045060118657, 'max_leaf_nodes': 68, 'min_samples_split': 2}. Best is trial 49 with value: 0.5306916210280499.\u001b[0m\n",
      "\u001b[32m[I 2022-10-05 09:14:22,696]\u001b[0m Trial 68 finished with value: 0.5140265379320067 and parameters: {'n_estimators': 153, 'max_depth': 31, 'max_features': 'log2', 'ccp_alpha': 1.9255326534620574, 'max_leaf_nodes': 17, 'min_samples_split': 4}. Best is trial 49 with value: 0.5306916210280499.\u001b[0m\n",
      "\u001b[32m[I 2022-10-05 09:14:36,097]\u001b[0m Trial 56 finished with value: 0.5249224256146522 and parameters: {'n_estimators': 473, 'max_depth': 32, 'max_features': 'log2', 'ccp_alpha': 1.885246416125947, 'max_leaf_nodes': 83, 'min_samples_split': 4}. Best is trial 49 with value: 0.5306916210280499.\u001b[0m\n",
      "\u001b[32m[I 2022-10-05 09:14:37,845]\u001b[0m Trial 54 finished with value: 0.5265451054350067 and parameters: {'n_estimators': 491, 'max_depth': 37, 'max_features': 'log2', 'ccp_alpha': 1.609504574798267, 'max_leaf_nodes': 70, 'min_samples_split': 4}. Best is trial 49 with value: 0.5306916210280499.\u001b[0m\n",
      "\u001b[32m[I 2022-10-05 09:14:40,631]\u001b[0m Trial 58 finished with value: 0.5233559964516717 and parameters: {'n_estimators': 421, 'max_depth': 11, 'max_features': 'sqrt', 'ccp_alpha': 1.468083875361612, 'max_leaf_nodes': 67, 'min_samples_split': 4}. Best is trial 49 with value: 0.5306916210280499.\u001b[0m\n",
      "\u001b[32m[I 2022-10-05 09:14:43,896]\u001b[0m Trial 61 finished with value: 0.5236792515408822 and parameters: {'n_estimators': 420, 'max_depth': 9, 'max_features': 'sqrt', 'ccp_alpha': 1.907305425258335, 'max_leaf_nodes': 67, 'min_samples_split': 4}. Best is trial 49 with value: 0.5306916210280499.\u001b[0m\n",
      "\u001b[32m[I 2022-10-05 09:14:45,066]\u001b[0m Trial 57 finished with value: 0.5254725869830547 and parameters: {'n_estimators': 472, 'max_depth': 10, 'max_features': 'log2', 'ccp_alpha': 1.7979437449557119, 'max_leaf_nodes': 68, 'min_samples_split': 4}. Best is trial 49 with value: 0.5306916210280499.\u001b[0m\n",
      "\u001b[32m[I 2022-10-05 09:14:46,307]\u001b[0m Trial 60 finished with value: 0.5233017489246253 and parameters: {'n_estimators': 428, 'max_depth': 10, 'max_features': 'sqrt', 'ccp_alpha': 1.691073994436661, 'max_leaf_nodes': 67, 'min_samples_split': 4}. Best is trial 49 with value: 0.5306916210280499.\u001b[0m\n",
      "\u001b[32m[I 2022-10-05 09:14:47,207]\u001b[0m Trial 55 finished with value: 0.5266636369552518 and parameters: {'n_estimators': 483, 'max_depth': 35, 'max_features': 'log2', 'ccp_alpha': 2.2419155150848704, 'max_leaf_nodes': 65, 'min_samples_split': 4}. Best is trial 49 with value: 0.5306916210280499.\u001b[0m\n",
      "\u001b[32m[I 2022-10-05 09:15:00,483]\u001b[0m Trial 62 finished with value: 0.5252231386027278 and parameters: {'n_estimators': 470, 'max_depth': 11, 'max_features': 'sqrt', 'ccp_alpha': 1.5951815459796745, 'max_leaf_nodes': 69, 'min_samples_split': 4}. Best is trial 49 with value: 0.5306916210280499.\u001b[0m\n",
      "\u001b[32m[I 2022-10-05 09:15:05,637]\u001b[0m Trial 59 finished with value: 0.5262912357591377 and parameters: {'n_estimators': 476, 'max_depth': 13, 'max_features': 'sqrt', 'ccp_alpha': 1.7042128697084116, 'max_leaf_nodes': 67, 'min_samples_split': 4}. Best is trial 49 with value: 0.5306916210280499.\u001b[0m\n",
      "\u001b[32m[I 2022-10-05 09:15:06,445]\u001b[0m Trial 64 finished with value: 0.5265859711639046 and parameters: {'n_estimators': 481, 'max_depth': 32, 'max_features': 'sqrt', 'ccp_alpha': 1.2487245777170786, 'max_leaf_nodes': 55, 'min_samples_split': 4}. Best is trial 49 with value: 0.5306916210280499.\u001b[0m\n",
      "\u001b[32m[I 2022-10-05 09:15:17,109]\u001b[0m Trial 63 finished with value: 0.5198740813262427 and parameters: {'n_estimators': 490, 'max_depth': 24, 'max_features': 'log2', 'ccp_alpha': 0.0643664811555621, 'max_leaf_nodes': 21, 'min_samples_split': 5}. Best is trial 49 with value: 0.5306916210280499.\u001b[0m\n",
      "\u001b[32m[I 2022-10-05 09:15:21,481]\u001b[0m Trial 65 finished with value: 0.5198210802583957 and parameters: {'n_estimators': 483, 'max_depth': 33, 'max_features': 'log2', 'ccp_alpha': 1.666479223144139, 'max_leaf_nodes': 18, 'min_samples_split': 5}. Best is trial 49 with value: 0.5306916210280499.\u001b[0m\n",
      "\u001b[32m[I 2022-10-05 09:15:22,649]\u001b[0m Trial 66 finished with value: 0.5189946198942444 and parameters: {'n_estimators': 494, 'max_depth': 31, 'max_features': 'log2', 'ccp_alpha': 1.6545813320758418, 'max_leaf_nodes': 19, 'min_samples_split': 5}. Best is trial 49 with value: 0.5306916210280499.\u001b[0m\n",
      "\u001b[32m[I 2022-10-05 09:15:39,434]\u001b[0m Trial 67 finished with value: 0.5272593224740768 and parameters: {'n_estimators': 481, 'max_depth': 33, 'max_features': 'log2', 'ccp_alpha': 1.545021677912502, 'max_leaf_nodes': 53, 'min_samples_split': 4}. Best is trial 49 with value: 0.5306916210280499.\u001b[0m\n",
      "\u001b[32m[I 2022-10-05 09:15:58,828]\u001b[0m Trial 69 finished with value: 0.5242256551052802 and parameters: {'n_estimators': 455, 'max_depth': 32, 'max_features': 'log2', 'ccp_alpha': 1.570380353004135, 'max_leaf_nodes': 56, 'min_samples_split': 4}. Best is trial 49 with value: 0.5306916210280499.\u001b[0m\n",
      "\u001b[32m[I 2022-10-05 09:16:07,258]\u001b[0m Trial 71 finished with value: 0.5276953304974893 and parameters: {'n_estimators': 488, 'max_depth': 33, 'max_features': 'log2', 'ccp_alpha': 2.045261589650353, 'max_leaf_nodes': 19, 'min_samples_split': 2}. Best is trial 70 with value: 0.5307239745065369.\u001b[0m\n",
      "\u001b[32m[I 2022-10-05 09:16:07,289]\u001b[0m Trial 70 finished with value: 0.5307239745065369 and parameters: {'n_estimators': 499, 'max_depth': 31, 'max_features': 'log2', 'ccp_alpha': 1.9611616546936503, 'max_leaf_nodes': 57, 'min_samples_split': 2}. Best is trial 70 with value: 0.5307239745065369.\u001b[0m\n",
      "\u001b[32m[I 2022-10-05 09:16:13,472]\u001b[0m Trial 78 finished with value: 0.5306622063755916 and parameters: {'n_estimators': 497, 'max_depth': 32, 'max_features': 'sqrt', 'ccp_alpha': 1.2245958852734955, 'max_leaf_nodes': 55, 'min_samples_split': 3}. Best is trial 70 with value: 0.5307239745065369.\u001b[0m\n",
      "\u001b[32m[I 2022-10-05 09:16:14,620]\u001b[0m Trial 74 finished with value: 0.5292253739799627 and parameters: {'n_estimators': 467, 'max_depth': 31, 'max_features': 'sqrt', 'ccp_alpha': 2.0969134399618317, 'max_leaf_nodes': 19, 'min_samples_split': 2}. Best is trial 70 with value: 0.5307239745065369.\u001b[0m\n",
      "\u001b[32m[I 2022-10-05 09:16:17,419]\u001b[0m Trial 72 finished with value: 0.5305006727286176 and parameters: {'n_estimators': 500, 'max_depth': 32, 'max_features': 'sqrt', 'ccp_alpha': 1.6732636696257348, 'max_leaf_nodes': 22, 'min_samples_split': 3}. Best is trial 70 with value: 0.5307239745065369.\u001b[0m\n",
      "\u001b[32m[I 2022-10-05 09:16:19,754]\u001b[0m Trial 73 finished with value: 0.5304518463015424 and parameters: {'n_estimators': 500, 'max_depth': 32, 'max_features': 'sqrt', 'ccp_alpha': 0.00788308273990369, 'max_leaf_nodes': 20, 'min_samples_split': 2}. Best is trial 70 with value: 0.5307239745065369.\u001b[0m\n",
      "\u001b[32m[I 2022-10-05 09:16:19,979]\u001b[0m Trial 76 finished with value: 0.5308043262479213 and parameters: {'n_estimators': 497, 'max_depth': 32, 'max_features': 'sqrt', 'ccp_alpha': 1.667107530460356, 'max_leaf_nodes': 21, 'min_samples_split': 3}. Best is trial 76 with value: 0.5308043262479213.\u001b[0m\n",
      "\u001b[32m[I 2022-10-05 09:16:20,118]\u001b[0m Trial 75 finished with value: 0.5301475063461201 and parameters: {'n_estimators': 498, 'max_depth': 32, 'max_features': 'sqrt', 'ccp_alpha': 1.5199932629789885, 'max_leaf_nodes': 54, 'min_samples_split': 3}. Best is trial 70 with value: 0.5308043262479213.\u001b[0m\n",
      "\u001b[32m[I 2022-10-05 09:16:21,467]\u001b[0m Trial 77 finished with value: 0.5289699186359256 and parameters: {'n_estimators': 467, 'max_depth': 31, 'max_features': 'sqrt', 'ccp_alpha': 1.275730319198973, 'max_leaf_nodes': 58, 'min_samples_split': 3}. Best is trial 76 with value: 0.5308043262479213.\u001b[0m\n",
      "\u001b[32m[I 2022-10-05 09:16:31,238]\u001b[0m Trial 82 finished with value: 0.5292283950244626 and parameters: {'n_estimators': 457, 'max_depth': 32, 'max_features': 'sqrt', 'ccp_alpha': 0.008883786708256108, 'max_leaf_nodes': 54, 'min_samples_split': 3}. Best is trial 76 with value: 0.5308043262479213.\u001b[0m\n",
      "\u001b[32m[I 2022-10-05 09:16:34,583]\u001b[0m Trial 80 finished with value: 0.5287829108853551 and parameters: {'n_estimators': 461, 'max_depth': 32, 'max_features': 'sqrt', 'ccp_alpha': 0.007607554775120245, 'max_leaf_nodes': 54, 'min_samples_split': 3}. Best is trial 76 with value: 0.5308043262479213.\u001b[0m\n",
      "\u001b[32m[I 2022-10-05 09:16:37,078]\u001b[0m Trial 83 finished with value: 0.528428532748868 and parameters: {'n_estimators': 453, 'max_depth': 40, 'max_features': 'sqrt', 'ccp_alpha': 2.899060762675718, 'max_leaf_nodes': 53, 'min_samples_split': 3}. Best is trial 76 with value: 0.5308043262479213.\u001b[0m\n",
      "\u001b[32m[I 2022-10-05 09:16:37,279]\u001b[0m Trial 84 finished with value: 0.5292817246694769 and parameters: {'n_estimators': 458, 'max_depth': 40, 'max_features': 'sqrt', 'ccp_alpha': 0.0121586915714718, 'max_leaf_nodes': 53, 'min_samples_split': 3}. Best is trial 76 with value: 0.5308043262479213.\u001b[0m\n",
      "\u001b[32m[I 2022-10-05 09:16:37,718]\u001b[0m Trial 81 finished with value: 0.5291186570730618 and parameters: {'n_estimators': 466, 'max_depth': 40, 'max_features': 'sqrt', 'ccp_alpha': 0.008926575715265913, 'max_leaf_nodes': 55, 'min_samples_split': 3}. Best is trial 76 with value: 0.5308043262479213.\u001b[0m\n",
      "\u001b[32m[I 2022-10-05 09:16:41,833]\u001b[0m Trial 79 finished with value: 0.5306662540799806 and parameters: {'n_estimators': 497, 'max_depth': 40, 'max_features': 'sqrt', 'ccp_alpha': 0.05508742214037779, 'max_leaf_nodes': 55, 'min_samples_split': 3}. Best is trial 76 with value: 0.5308043262479213.\u001b[0m\n",
      "\u001b[32m[I 2022-10-05 09:16:42,686]\u001b[0m Trial 85 finished with value: 0.529196146892205 and parameters: {'n_estimators': 456, 'max_depth': 24, 'max_features': 'sqrt', 'ccp_alpha': 0.05858637918078552, 'max_leaf_nodes': 56, 'min_samples_split': 3}. Best is trial 76 with value: 0.5308043262479213.\u001b[0m\n",
      "\u001b[32m[I 2022-10-05 09:16:44,912]\u001b[0m Trial 86 finished with value: 0.5291959295038491 and parameters: {'n_estimators': 456, 'max_depth': 24, 'max_features': 'sqrt', 'ccp_alpha': 0.008391970508042983, 'max_leaf_nodes': 55, 'min_samples_split': 3}. Best is trial 76 with value: 0.5308043262479213.\u001b[0m\n",
      "\u001b[32m[I 2022-10-05 09:16:46,687]\u001b[0m Trial 88 finished with value: 0.5292182179793625 and parameters: {'n_estimators': 459, 'max_depth': 25, 'max_features': 'sqrt', 'ccp_alpha': 0.008765327177555038, 'max_leaf_nodes': 20, 'min_samples_split': 3}. Best is trial 76 with value: 0.5308043262479213.\u001b[0m\n",
      "\u001b[32m[I 2022-10-05 09:16:48,229]\u001b[0m Trial 87 finished with value: 0.43560418767560877 and parameters: {'n_estimators': 457, 'max_depth': 44, 'max_features': 'sqrt', 'ccp_alpha': 0.008309372912644216, 'max_leaf_nodes': 3, 'min_samples_split': 3}. Best is trial 76 with value: 0.5308043262479213.\u001b[0m\n",
      "\u001b[32m[I 2022-10-05 09:16:49,416]\u001b[0m Trial 89 finished with value: 0.5292283950244626 and parameters: {'n_estimators': 457, 'max_depth': 40, 'max_features': 'sqrt', 'ccp_alpha': 0.005960975489366599, 'max_leaf_nodes': 52, 'min_samples_split': 3}. Best is trial 76 with value: 0.5308043262479213.\u001b[0m\n",
      "\u001b[32m[I 2022-10-05 09:16:53,191]\u001b[0m Trial 90 finished with value: 0.5279615434860577 and parameters: {'n_estimators': 449, 'max_depth': 44, 'max_features': 'sqrt', 'ccp_alpha': 0.011402549273183472, 'max_leaf_nodes': 52, 'min_samples_split': 3}. Best is trial 76 with value: 0.5308043262479213.\u001b[0m\n",
      "\u001b[32m[I 2022-10-05 09:16:56,016]\u001b[0m Trial 91 finished with value: 0.5291324985208905 and parameters: {'n_estimators': 459, 'max_depth': 44, 'max_features': 'sqrt', 'ccp_alpha': 2.9848612392756517, 'max_leaf_nodes': 53, 'min_samples_split': 3}. Best is trial 76 with value: 0.5308043262479213.\u001b[0m\n",
      "\u001b[32m[I 2022-10-05 09:16:59,268]\u001b[0m Trial 92 finished with value: 0.48750619768045356 and parameters: {'n_estimators': 452, 'max_depth': 40, 'max_features': 'sqrt', 'ccp_alpha': 0.009752291351326872, 'max_leaf_nodes': 5, 'min_samples_split': 3}. Best is trial 76 with value: 0.5308043262479213.\u001b[0m\n",
      "\u001b[32m[I 2022-10-05 09:16:59,625]\u001b[0m Trial 93 finished with value: 0.5247934605836292 and parameters: {'n_estimators': 403, 'max_depth': 40, 'max_features': 'sqrt', 'ccp_alpha': 0.008351027620474547, 'max_leaf_nodes': 60, 'min_samples_split': 3}. Best is trial 76 with value: 0.5308043262479213.\u001b[0m\n",
      "\u001b[32m[I 2022-10-05 09:17:03,589]\u001b[0m Trial 97 finished with value: 0.5166741780180005 and parameters: {'n_estimators': 456, 'max_depth': 29, 'max_features': 'sqrt', 'ccp_alpha': 0.5961692325679437, 'max_leaf_nodes': 9, 'min_samples_split': 3}. Best is trial 76 with value: 0.5308043262479213.\u001b[0m\n",
      "\u001b[32m[I 2022-10-05 09:17:03,789]\u001b[0m Trial 94 finished with value: 0.5291959295038491 and parameters: {'n_estimators': 456, 'max_depth': 28, 'max_features': 'sqrt', 'ccp_alpha': 0.007375821244944055, 'max_leaf_nodes': 60, 'min_samples_split': 3}. Best is trial 76 with value: 0.5308043262479213.\u001b[0m\n",
      "\u001b[32m[I 2022-10-05 09:17:04,172]\u001b[0m Trial 95 finished with value: 0.5288487640326204 and parameters: {'n_estimators': 454, 'max_depth': 29, 'max_features': 'sqrt', 'ccp_alpha': 2.807333248244001, 'max_leaf_nodes': 79, 'min_samples_split': 3}. Best is trial 76 with value: 0.5308043262479213.\u001b[0m\n",
      "\u001b[32m[I 2022-10-05 09:17:04,724]\u001b[0m Trial 96 finished with value: 0.43536754441626363 and parameters: {'n_estimators': 460, 'max_depth': 40, 'max_features': 'sqrt', 'ccp_alpha': 0.5907884468183334, 'max_leaf_nodes': 3, 'min_samples_split': 3}. Best is trial 76 with value: 0.5308043262479213.\u001b[0m\n"
     ]
    },
    {
     "name": "stdout",
     "output_type": "stream",
     "text": [
      "Number of trials: 100\n",
      "Best trial:\n",
      "Best Parameters\n",
      "n_estimators: 497\n",
      "max_depth: 32\n",
      "max_features: sqrt\n",
      "ccp_alpha: 1.667107530460356\n",
      "max_leaf_nodes: 21\n",
      "min_samples_split: 3\n"
     ]
    },
    {
     "name": "stderr",
     "output_type": "stream",
     "text": [
      "\u001b[32m[I 2022-10-05 09:17:05,279]\u001b[0m Trial 98 finished with value: 0.5091102749195313 and parameters: {'n_estimators': 498, 'max_depth': 28, 'max_features': 'sqrt', 'ccp_alpha': 0.9671600081080614, 'max_leaf_nodes': 7, 'min_samples_split': 3}. Best is trial 76 with value: 0.5308043262479213.\u001b[0m\n",
      "\u001b[32m[I 2022-10-05 09:17:05,321]\u001b[0m Trial 99 finished with value: 0.509496090406148 and parameters: {'n_estimators': 500, 'max_depth': 29, 'max_features': 'sqrt', 'ccp_alpha': 0.6683063313132895, 'max_leaf_nodes': 7, 'min_samples_split': 3}. Best is trial 76 with value: 0.5308043262479213.\u001b[0m\n"
     ]
    }
   ],
   "source": [
    "import optuna\n",
    "import dask_optuna\n",
    "import joblib\n",
    "\n",
    "# EPOCHS = 30\n",
    "\n",
    "# with Client() as client:\n",
    "client = dasker.get_dask_client()\n",
    "print(f\"Dask dashboard is available at {client.dashboard_link}\")\n",
    "\n",
    "storage = dask_optuna.DaskStorage()\n",
    "study = optuna.create_study(storage=storage, direction=\"maximize\", sampler=optuna.samplers.TPESampler(), pruner=optuna.pruners.MedianPruner())\n",
    "\n",
    "with joblib.parallel_backend(\"dask\"):\n",
    "    study.optimize(objective, n_trials=100, n_jobs=-1)\n",
    "\n",
    "print(\"Number of trials: {}\".format(len(study.trials)))\n",
    "\n",
    "print(\"Best trial:\")\n",
    "trial = study.best_trial\n",
    "\n",
    "best_trial = study.best_trial\n",
    "\n",
    "print('Best Parameters')\n",
    "for key, value in best_trial.params.items():\n",
    "    print(\"{}: {}\".format(key, value))\n",
    "\n"
   ]
  },
  {
   "cell_type": "code",
   "execution_count": null,
   "metadata": {},
   "outputs": [],
   "source": []
  }
 ],
 "metadata": {
  "kernelspec": {
   "display_name": "Python 3.8.13 ('test')",
   "language": "python",
   "name": "python3"
  },
  "language_info": {
   "codemirror_mode": {
    "name": "ipython",
    "version": 3
   },
   "file_extension": ".py",
   "mimetype": "text/x-python",
   "name": "python",
   "nbconvert_exporter": "python",
   "pygments_lexer": "ipython3",
   "version": "3.8.13"
  },
  "orig_nbformat": 4,
  "vscode": {
   "interpreter": {
    "hash": "b6ff7914d2bc405bfa61a835d0564ba294eb5f3f9b4c24865f45d9397593b123"
   }
  }
 },
 "nbformat": 4,
 "nbformat_minor": 2
}
