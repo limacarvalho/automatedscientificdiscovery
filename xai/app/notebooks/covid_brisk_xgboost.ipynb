{
 "cells": [
  {
   "cell_type": "code",
   "execution_count": 9,
   "metadata": {},
   "outputs": [
    {
     "name": "stdout",
     "output_type": "stream",
     "text": [
      "The autoreload extension is already loaded. To reload it, use:\n",
      "  %reload_ext autoreload\n"
     ]
    }
   ],
   "source": [
    "%load_ext autoreload\n",
    "%autoreload 2"
   ]
  },
  {
   "cell_type": "code",
   "execution_count": 10,
   "metadata": {},
   "outputs": [],
   "source": [
    "import sys; sys.path.insert(0, '..') # add parent folder path where lib folder is"
   ]
  },
  {
   "cell_type": "code",
   "execution_count": 11,
   "metadata": {},
   "outputs": [],
   "source": [
    "from ml.models.base.brisk_xgboost import BriskXGBoost\n",
    "from utils import helper, config, dasker\n",
    "from dask_ml.model_selection import train_test_split\n",
    "\n",
    "from sklearn.metrics import r2_score, mean_squared_error\n",
    "from sklearn.metrics import f1_score, roc_auc_score, precision_score, recall_score\n"
   ]
  },
  {
   "cell_type": "code",
   "execution_count": 4,
   "metadata": {},
   "outputs": [
    {
     "name": "stdout",
     "output_type": "stream",
     "text": [
      "Cleared the existing saved models\n",
      "Directory structure for project /covid created successfully\n"
     ]
    }
   ],
   "source": [
    "config.create_project_dirs(overwrite=True)"
   ]
  },
  {
   "cell_type": "code",
   "execution_count": 5,
   "metadata": {},
   "outputs": [
    {
     "name": "stdout",
     "output_type": "stream",
     "text": [
      "2022-10-25 19:04:58,893 - asyncio - DEBUG - Using selector: EpollSelector\n"
     ]
    },
    {
     "name": "stderr",
     "output_type": "stream",
     "text": [
      "2022-10-25 19:04:59,963 - distributed.diskutils - INFO - Found stale lock file and directory '/tmp/dask-worker-space/worker-86kn9hdn', purging\n",
      "2022-10-25 19:04:59,963 - distributed.diskutils - INFO - Found stale lock file and directory '/tmp/dask-worker-space/worker-5_mc_w8o', purging\n",
      "2022-10-25 19:04:59,964 - distributed.diskutils - INFO - Found stale lock file and directory '/tmp/dask-worker-space/worker-paqjvqq7', purging\n",
      "2022-10-25 19:04:59,964 - distributed.diskutils - INFO - Found stale lock file and directory '/tmp/dask-worker-space/worker-r4miuuam', purging\n"
     ]
    },
    {
     "name": "stdout",
     "output_type": "stream",
     "text": [
      "<Client: 'tcp://127.0.0.1:8786' processes=4 threads=4, memory=15.37 GiB>\n"
     ]
    }
   ],
   "source": [
    "cl = dasker.get_local_client()\n",
    "# cl =  dasker.get_global_client()\n",
    "print(cl)"
   ]
  },
  {
   "cell_type": "code",
   "execution_count": 6,
   "metadata": {},
   "outputs": [],
   "source": [
    "X, y = helper.get_covid_dataset()\n",
    "X = X.drop(['location'], axis = 1)\n",
    "X_train, X_test, y_train, y_test = train_test_split(X, y, test_size=0.33, random_state=config.rand_state)"
   ]
  },
  {
   "cell_type": "code",
   "execution_count": 25,
   "metadata": {},
   "outputs": [],
   "source": [
    "brisk_xgboost = BriskXGBoost()\n",
    "brisk_xgboost.X_train = X_train\n",
    "brisk_xgboost.X_test = X_test\n",
    "brisk_xgboost.y_train = y_train\n",
    "brisk_xgboost.y_test = y_test\n",
    "\n",
    "brisk_xgboost.n_trails = 500    #### increase this number to imporve the goodness of fit"
   ]
  },
  {
   "cell_type": "code",
   "execution_count": 26,
   "metadata": {},
   "outputs": [
    {
     "name": "stdout",
     "output_type": "stream",
     "text": [
      "2022-10-25 19:07:56,133 - console_info - INFO - brisk xgboost: Starting train for trials:500 with boosted rounds: 250\n",
      "2022-10-25 19:07:56,133 - console_info - INFO - brisk xgboost: Starting train for trials:500 with boosted rounds: 250\n",
      "2022-10-25 19:07:56,141 - console_info - INFO - brisk xgboost: Cleared previous models in the model save path\n",
      "2022-10-25 19:07:56,141 - console_info - INFO - brisk xgboost: Cleared previous models in the model save path\n",
      "2022-10-25 19:12:40,564 - console_info - INFO - brisk xgboost: Number of trials: 500\n",
      "2022-10-25 19:12:40,564 - console_info - INFO - brisk xgboost: Number of trials: 500\n",
      "2022-10-25 19:12:40,567 - console_info - INFO - Best trial:\n",
      "2022-10-25 19:12:40,567 - console_info - INFO - Best trial:\n",
      "2022-10-25 19:12:40,620 - console_info - INFO -   xgboost Params: \n",
      "2022-10-25 19:12:40,620 - console_info - INFO -   xgboost Params: \n",
      "2022-10-25 19:12:40,625 - console_info - INFO -     booster gbtree\n",
      "2022-10-25 19:12:40,625 - console_info - INFO -     booster gbtree\n",
      "2022-10-25 19:12:40,630 - console_info - INFO -     lambda 0.00028364230575941406\n",
      "2022-10-25 19:12:40,630 - console_info - INFO -     lambda 0.00028364230575941406\n",
      "2022-10-25 19:12:40,635 - console_info - INFO -     alpha 0.1137706900488168\n",
      "2022-10-25 19:12:40,635 - console_info - INFO -     alpha 0.1137706900488168\n",
      "2022-10-25 19:12:40,642 - console_info - INFO -     max_depth 2\n",
      "2022-10-25 19:12:40,642 - console_info - INFO -     max_depth 2\n",
      "2022-10-25 19:12:40,647 - console_info - INFO -     eta 0.5931587792989892\n",
      "2022-10-25 19:12:40,647 - console_info - INFO -     eta 0.5931587792989892\n",
      "2022-10-25 19:12:40,651 - console_info - INFO -     gamma 1.1911056392648146e-07\n",
      "2022-10-25 19:12:40,651 - console_info - INFO -     gamma 1.1911056392648146e-07\n",
      "2022-10-25 19:12:40,656 - console_info - INFO -     grow_policy lossguide\n",
      "2022-10-25 19:12:40,656 - console_info - INFO -     grow_policy lossguide\n",
      "2022-10-25 19:12:40,713 - console_info - INFO - xgboost: Model saved at /home/wasif/python-asd/xai/app/ml/models/saved/covid/base/xgboost/brisk/brisk_xgboost_431.pickle\n",
      "2022-10-25 19:12:40,713 - console_info - INFO - xgboost: Model saved at /home/wasif/python-asd/xai/app/ml/models/saved/covid/base/xgboost/brisk/brisk_xgboost_431.pickle\n"
     ]
    }
   ],
   "source": [
    "best_xgboost = brisk_xgboost.fetch_model(retrain=True)"
   ]
  },
  {
   "cell_type": "code",
   "execution_count": 27,
   "metadata": {},
   "outputs": [
    {
     "data": {
      "text/plain": [
       "[0.9192925397105121, -0.4105869326458256]"
      ]
     },
     "execution_count": 27,
     "metadata": {},
     "output_type": "execute_result"
    }
   ],
   "source": [
    "brisk_xgboost.get_model_score(score_func=r2_score)"
   ]
  },
  {
   "cell_type": "code",
   "execution_count": 28,
   "metadata": {},
   "outputs": [],
   "source": [
    "pred = brisk_xgboost.predict(X_test)"
   ]
  },
  {
   "cell_type": "code",
   "execution_count": 29,
   "metadata": {},
   "outputs": [
    {
     "data": {
      "text/plain": [
       "-0.4105869326458256"
      ]
     },
     "execution_count": 29,
     "metadata": {},
     "output_type": "execute_result"
    }
   ],
   "source": [
    "r2_score(pred, y_test)\n",
    "#mean_squared_error(pred, y)"
   ]
  },
  {
   "cell_type": "code",
   "execution_count": null,
   "metadata": {},
   "outputs": [],
   "source": []
  }
 ],
 "metadata": {
  "kernelspec": {
   "display_name": "Python 3 (ipykernel)",
   "language": "python",
   "name": "python3"
  },
  "language_info": {
   "codemirror_mode": {
    "name": "ipython",
    "version": 3
   },
   "file_extension": ".py",
   "mimetype": "text/x-python",
   "name": "python",
   "nbconvert_exporter": "python",
   "pygments_lexer": "ipython3",
   "version": "3.10.5"
  },
  "vscode": {
   "interpreter": {
    "hash": "b6ff7914d2bc405bfa61a835d0564ba294eb5f3f9b4c24865f45d9397593b123"
   }
  }
 },
 "nbformat": 4,
 "nbformat_minor": 4
}
