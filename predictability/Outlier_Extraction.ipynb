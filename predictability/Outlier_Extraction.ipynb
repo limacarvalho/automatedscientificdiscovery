{
 "cells": [
  {
   "cell_type": "code",
   "execution_count": 1,
   "id": "66bd087a",
   "metadata": {},
   "outputs": [],
   "source": [
    "import pandas as pd\n",
    "import os\n",
    "import numpy as np\n",
    "import plotly.express as px\n",
    "import itertools\n",
    "import matplotlib.pyplot as plt\n",
    "import math\n",
    "import plotly.graph_objects as go\n",
    "import plotly.colors\n",
    "from plotly.subplots import make_subplots        \n",
    "from PIL import ImageColor\n",
    "import pickle\n",
    "import time\n",
    "from scipy.spatial import distance\n",
    "import dcor\n",
    "\n",
    "from sklearn.pipeline import Pipeline, TransformerMixin\n",
    "from sklearn.linear_model import LinearRegression\n",
    "from sklearn.model_selection import train_test_split\n",
    "from sklearn.neural_network import MLPRegressor\n",
    "from sklearn.model_selection import GridSearchCV\n",
    "from sklearn.preprocessing import StandardScaler\n",
    "from sklearn.metrics import mean_squared_error, mean_absolute_percentage_error, r2_score\n",
    "from sklearn.neighbors import LocalOutlierFactor\n",
    "\n",
    "from pyod.models.abod import ABOD\n",
    "from pyod.models.cblof import CBLOF"
   ]
  },
  {
   "cell_type": "code",
   "execution_count": 2,
   "id": "ad748b5f",
   "metadata": {},
   "outputs": [],
   "source": [
    "df = pd.read_csv(\"processed_country_indicators.csv\").drop(columns=[\"Unnamed: 0\"])"
   ]
  },
  {
   "cell_type": "code",
   "execution_count": 3,
   "id": "19726a8a",
   "metadata": {},
   "outputs": [],
   "source": [
    "# to work with 2007 data only\n",
    "df2007 = df.loc[df[\"Year\"]==2007]"
   ]
  },
  {
   "cell_type": "code",
   "execution_count": 4,
   "id": "2f941b86",
   "metadata": {},
   "outputs": [],
   "source": [
    "def data_prep_split(data, inputs, outputs):\n",
    "    # get x and y value(s)\n",
    "    curr_x = np.array(data[inputs]).reshape(-1, 1)\n",
    "    curr_y = np.array(data[outputs])\n",
    "\n",
    "    # train test split\n",
    "    curr_X_train, curr_X_test, curr_y_train, curr_y_test = train_test_split(curr_x, curr_y, random_state=1,\n",
    "                                                                            test_size=.3, shuffle=True)\n",
    "    curr_y_train = curr_y_train.ravel()\n",
    "    curr_y_test = curr_y_test.ravel()\n",
    "    \n",
    "    return curr_X_train, curr_X_test, curr_y_train, curr_y_test"
   ]
  },
  {
   "cell_type": "code",
   "execution_count": 5,
   "id": "74dc95f8",
   "metadata": {},
   "outputs": [],
   "source": [
    "inputs = [\"Electric power consumption (kWh per capita)\"]\n",
    "outputs = [\"Life expectancy at birth, total (years)\"]"
   ]
  },
  {
   "cell_type": "code",
   "execution_count": 6,
   "id": "fb65bd81",
   "metadata": {},
   "outputs": [],
   "source": [
    "curr_data = df2007[[\"Country Name\", \"Year\"]+inputs+outputs].dropna()"
   ]
  },
  {
   "cell_type": "markdown",
   "id": "51c66e93",
   "metadata": {},
   "source": [
    "### ABOD\n",
    "\n",
    "Angle Based Outlier Detection\n",
    "\n",
    "https://www.dbs.ifi.lmu.de/~zimek/publications/KDD2008/KDD08-ABOD.pdf\n",
    "\n",
    "'The angle-based outlier factor ABOF(A) is the variance over the\n",
    "angles between the difference vectors of A to all pairs (B, C) of points in\n",
    "D weighted by the distance of the points:'\\\n",
    "    $$ \\mathrm{ABOF}(A)= \\mathrm{Var}(A)_{B, C \\in D} \\left( \\frac{\\langle \\overline{AB},\\overline{AC}\\rangle}{||\\overline{AB}||^2\\cdot||\\overline{AC}||^2} \\right) ,$$\n",
    "with $\\overline{AB} = B-A$.\n",
    "![title](ABOD.png)"
   ]
  },
  {
   "cell_type": "code",
   "execution_count": 101,
   "id": "fedac0a8",
   "metadata": {},
   "outputs": [
    {
     "data": {
      "text/plain": [
       "ABOD(contamination=0.1, method='fast', n_neighbors=5)"
      ]
     },
     "execution_count": 101,
     "metadata": {},
     "output_type": "execute_result"
    }
   ],
   "source": [
    "# have to state the expected rate of outliers = contaminations!\n",
    "abod_clf = ABOD(contamination=.1)\n",
    "abod_clf.fit(curr_data[inputs+outputs])"
   ]
  },
  {
   "cell_type": "code",
   "execution_count": 102,
   "id": "9738a416",
   "metadata": {},
   "outputs": [],
   "source": [
    "abod_outlier_yn = [str(label) for label in abod_clf.labels_]"
   ]
  },
  {
   "cell_type": "code",
   "execution_count": 103,
   "id": "3c23b1c6",
   "metadata": {},
   "outputs": [
    {
     "data": {
      "application/vnd.plotly.v1+json": {
       "config": {
        "plotlyServerURL": "https://plot.ly"
       },
       "data": [
        {
         "hovertemplate": "<b>%{hovertext}</b><br><br>color=0<br>Electric power consumption (kWh per capita)=%{x}<br>Life expectancy at birth, total (years)=%{y}<extra></extra>",
         "hovertext": [
          "Albania",
          "Algeria",
          "Angola",
          "Arab World",
          "Argentina",
          "Armenia",
          "Austria",
          "Azerbaijan",
          "Bangladesh",
          "Belarus",
          "Belgium",
          "Benin",
          "Bolivia",
          "Bosnia and Herzegovina",
          "Botswana",
          "Brazil",
          "Brunei Darussalam",
          "Bulgaria",
          "Cambodia",
          "Cameroon",
          "Central Europe and the Baltics",
          "Chile",
          "China",
          "Colombia",
          "Congo, Dem. Rep.",
          "Congo, Rep.",
          "Costa Rica",
          "Cote d'Ivoire",
          "Croatia",
          "Cuba",
          "Curacao",
          "Cyprus",
          "Czech Republic",
          "Denmark",
          "Dominican Republic",
          "Early-demographic dividend",
          "East Asia & Pacific",
          "East Asia & Pacific (IDA & IBRD countries)",
          "East Asia & Pacific (excluding high income)",
          "Ecuador",
          "Egypt, Arab Rep.",
          "El Salvador",
          "Eritrea",
          "Estonia",
          "Ethiopia",
          "Euro area",
          "Europe & Central Asia",
          "Europe & Central Asia (IDA & IBRD countries)",
          "Europe & Central Asia (excluding high income)",
          "European Union",
          "Fragile and conflict affected situations",
          "Gabon",
          "Georgia",
          "Germany",
          "Ghana",
          "Greece",
          "Guatemala",
          "Haiti",
          "Heavily indebted poor countries (HIPC)",
          "High income",
          "Honduras",
          "Hong Kong SAR, China",
          "Hungary",
          "IBRD only",
          "IDA & IBRD total",
          "IDA blend",
          "IDA only",
          "IDA total",
          "India",
          "Indonesia",
          "Iran, Islamic Rep.",
          "Iraq",
          "Ireland",
          "Israel",
          "Italy",
          "Jamaica",
          "Japan",
          "Jordan",
          "Kazakhstan",
          "Kenya",
          "Korea, Dem. People�s Rep.",
          "Korea, Rep.",
          "Kosovo",
          "Kyrgyz Republic",
          "Late-demographic dividend",
          "Latin America & Caribbean",
          "Latin America & Caribbean (excluding high income)",
          "Latin America & the Caribbean (IDA & IBRD countries)",
          "Latvia",
          "Least developed countries: UN classification",
          "Lebanon",
          "Libya",
          "Lithuania",
          "Low & middle income",
          "Lower middle income",
          "Macedonia, FYR",
          "Malaysia",
          "Malta",
          "Mauritius",
          "Mexico",
          "Middle East & North Africa",
          "Middle East & North Africa (IDA & IBRD countries)",
          "Middle East & North Africa (excluding high income)",
          "Middle income",
          "Moldova",
          "Mongolia",
          "Montenegro",
          "Morocco",
          "Mozambique",
          "Myanmar",
          "Namibia",
          "Nepal",
          "Netherlands",
          "Nicaragua",
          "Niger",
          "Nigeria",
          "OECD members",
          "Oman",
          "Pakistan",
          "Panama",
          "Paraguay",
          "Peru",
          "Philippines",
          "Poland",
          "Portugal",
          "Pre-demographic dividend",
          "Romania",
          "Russian Federation",
          "Saudi Arabia",
          "Senegal",
          "Serbia",
          "Singapore",
          "Slovenia",
          "South Africa",
          "South Asia",
          "South Asia (IDA & IBRD)",
          "Spain",
          "Sri Lanka",
          "Sub-Saharan Africa",
          "Sub-Saharan Africa (IDA & IBRD countries)",
          "Sub-Saharan Africa (excluding high income)",
          "Sudan",
          "Switzerland",
          "Syrian Arab Republic",
          "Tajikistan",
          "Tanzania",
          "Thailand",
          "Togo",
          "Trinidad and Tobago",
          "Tunisia",
          "Turkey",
          "Turkmenistan",
          "Ukraine",
          "United Kingdom",
          "Upper middle income",
          "Uruguay",
          "Uzbekistan",
          "Vietnam",
          "World",
          "Yemen, Rep.",
          "Zambia",
          "Zimbabwe"
         ],
         "legendgroup": "0",
         "marker": {
          "color": "#636efa",
          "symbol": "circle"
         },
         "mode": "markers",
         "name": "0",
         "orientation": "v",
         "showlegend": true,
         "type": "scatter",
         "x": [
          1213.12436932,
          891.80508617,
          145.225891681,
          1992.42164476,
          2438.00941924,
          1740.22636998,
          8185.53509878,
          2118.21052754,
          200.576171989,
          3394.24686192,
          8614.49128057,
          77.4033184893,
          545.359298466,
          2334.38130953,
          1491.37679617,
          2137.76499203,
          8625.77745494,
          4523.32287831,
          100.22798954,
          249.133823599,
          3979.83855309,
          3353.15571849,
          2330.25946877,
          974.385215955,
          102.816292338,
          130.797582667,
          1900.69035912,
          190.16897947900003,
          3737.60144274,
          1298.64801118,
          7323.54084523,
          4379.89163155,
          6518.2174127,
          6668.39026645,
          1335.39049966,
          926.601707152,
          2634.37235259,
          1882.97207916,
          1868.67066742,
          958.925777864,
          1436.07409837,
          899.7038961889999,
          55.6022185512,
          6277.41146284,
          39.4600363784,
          6864.44846513,
          5551.70264761,
          3994.62463062,
          4029.71565329,
          6368.82825611,
          442.464377117,
          1000.06801295,
          1730.52425282,
          7229.08991295,
          245.960134749,
          5701.33085359,
          539.657936882,
          25.32186497,
          167.024487255,
          9351.93639152,
          695.007399348,
          5907.34930526,
          3976.51897715,
          1785.38914963,
          1467.44332868,
          496.530893166,
          231.497382472,
          341.511106642,
          543.356622439,
          546.335479481,
          2294.92510679,
          767.9550659739999,
          6218.76805832,
          7003.24508015,
          5804.32596357,
          2003.39457821,
          8474.37910641,
          1938.38828327,
          4487.28613027,
          144.883805711,
          751.5362199110001,
          8477.17910322,
          2395.86386093,
          1456.22959532,
          2556.69391239,
          1825.81997774,
          1765.84955048,
          1835.04594108,
          3169.0772954,
          142.63412844799998,
          2796.77076515,
          3765.66562431,
          3564.20678527,
          1438.79257073,
          588.381681476,
          3646.2423474,
          3271.6428774,
          4873.08346692,
          1816.67110347,
          1905.7468004,
          2336.21137313,
          1427.94811341,
          1427.94811341,
          1520.33959572,
          1996.41590088,
          1333.31996285,
          6564.64379947,
          720.8012609069999,
          445.713854836,
          87.55628879209999,
          1547.15832667,
          88.7060235188,
          7209.93723727,
          464.133424144,
          39.5109154411,
          138.142401412,
          8355.35784243,
          4494.65060241,
          482.688387673,
          1548.10466967,
          984.050042238,
          968.127261355,
          584.52990568,
          3661.64610383,
          4890.56018782,
          192.583707412,
          2529.90688782,
          6286.05053624,
          6703.2741974,
          180.798387524,
          4159.13722525,
          8706.57906694,
          7137.82417515,
          4903.90505495,
          494.95631451,
          494.95631451,
          6054.374438100001,
          424.0390482,
          535.010610636,
          535.010610636,
          535.010610636,
          90.5462229164,
          8163.29557601,
          1576.21925339,
          2062.53791896,
          80.1261904411,
          2074.86945842,
          102.879016653,
          5668.85110673,
          1159.98865537,
          2349.87907444,
          2259.87421358,
          3528.92482909,
          6102.41307496,
          2504.19758003,
          2413.35429299,
          1664.02411791,
          738.471950937,
          2816.33464558,
          207.132309622,
          651.8730832,
          700.642316871
         ],
         "xaxis": "x",
         "y": [
          76.4702926829,
          72.8983658537,
          49.43573170729999,
          69.2070082278,
          75.0090487805,
          73.7646585366,
          80.1804878049,
          69.7565121951,
          68.85997560979999,
          70.2034146341,
          79.78292682930001,
          57.867390243900005,
          64.6941219512,
          75.3714878049,
          59.0745609756,
          72.4148292683,
          76.6755609756,
          72.6634146341,
          64.5523414634,
          52.4791463415,
          74.2523833325,
          79.3135365854,
          74.3404390244,
          72.7055121951,
          55.0644146341,
          55.8013170732,
          78.33031707319999,
          48.7788292683,
          75.7056097561,
          78.44919512199999,
          75.3634146341,
          78.8685121951,
          76.7243902439,
          78.1951219512,
          72.1313170732,
          66.7168411826,
          73.5846595367,
          72.6919270432,
          72.6378120561,
          74.4950243902,
          69.78229268289999,
          70.7804634146,
          59.6694146341,
          72.8146341463,
          58.408,
          80.0997517287,
          74.92140241220001,
          69.9944489801,
          69.42256412520001,
          78.9682102701,
          59.20782178140001,
          60.3927804878,
          73.4210243902,
          79.53414634149999,
          59.6358536585,
          79.4390243902,
          70.1107804878,
          59.9773902439,
          56.5766165423,
          79.2386203249,
          71.8587317073,
          82.3268292683,
          73.1512195122,
          70.1729440238,
          67.75917164170001,
          61.2853204195,
          60.089105590200006,
          60.51656342770001,
          65.30043902439999,
          67.5677317073,
          72.674195122,
          68.19902439020001,
          79.6414634146,
          80.5048780488,
          81.4341463415,
          74.0092926829,
          82.5070731707,
          72.9611707317,
          66.5048780488,
          55.6992926829,
          68.376195122,
          79.3495121951,
          69.1975609756,
          67.8951219512,
          73.472904211,
          73.3790228456,
          73.1580129361,
          73.2400064382,
          71.0195121951,
          59.6277315593,
          77.615902439,
          71.7386341463,
          70.9,
          67.68854263829999,
          65.05949547590001,
          74.3229512195,
          73.81826829270001,
          79.7926829268,
          72.5707317073,
          75.5879268293,
          71.4108904527,
          70.8462057183,
          70.8562142383,
          68.7989256332,
          68.20990243899999,
          66.06817073170001,
          74.04063414630001,
          71.2776341463,
          51.622097561,
          64.0936829268,
          58.780804878000005,
          66.5519268293,
          80.0975609756,
          72.5716585366,
          55.4550243902,
          49.8081463415,
          78.7760227899,
          75.1236097561,
          64.3387317073,
          76.3144634146,
          71.6948292683,
          72.9969512195,
          67.47902439020001,
          75.243902439,
          78.3219512195,
          54.4851307308,
          72.5658536585,
          67.49756097560001,
          73.34507317069999,
          61.7841707317,
          73.6317073171,
          80.4414634146,
          78.5609756098,
          51.9965121951,
          65.5485167218,
          65.5485167218,
          80.8731707317,
          74.1941219512,
          54.1785518165,
          54.1785518165,
          54.1765429979,
          60.7008780488,
          81.7414634146,
          74.2460731707,
          67.2074878049,
          58.0777804878,
          72.87443902439999,
          55.4334390244,
          69.2596585366,
          74.2024390244,
          73.1770731707,
          64.6388292683,
          68.222195122,
          79.4487804878,
          72.7812540165,
          75.9510243902,
          67.5312195122,
          74.48385365850001,
          69.6418542733,
          61.954804878,
          52.4771463415,
          44.1777560976
         ],
         "yaxis": "y"
        },
        {
         "hovertemplate": "<b>%{hovertext}</b><br><br>color=1<br>Electric power consumption (kWh per capita)=%{x}<br>Life expectancy at birth, total (years)=%{y}<extra></extra>",
         "hovertext": [
          "Australia",
          "Bahrain",
          "Canada",
          "Finland",
          "France",
          "Iceland",
          "Kuwait",
          "Luxembourg",
          "New Zealand",
          "North America",
          "Norway",
          "Post-demographic dividend",
          "Qatar",
          "Slovak Republic",
          "Sweden",
          "United Arab Emirates",
          "United States",
          "Venezuela, RB"
         ],
         "legendgroup": "1",
         "marker": {
          "color": "#EF553B",
          "symbol": "circle"
         },
         "mode": "markers",
         "name": "1",
         "orientation": "v",
         "showlegend": true,
         "type": "scatter",
         "x": [
          10972.8917398,
          20779.9191091,
          16771.0778253,
          17161.2412833,
          7519.06208034,
          36852.5448862,
          16860.5340522,
          16352.321804700005,
          9640.60798333,
          13963.929363100002,
          24855.000464,
          9294.74696936,
          15330.5257622,
          5272.37078254,
          15257.9357532,
          11754.3801268,
          13657.449508500002,
          2973.00472678
         ],
         "xaxis": "x",
         "y": [
          81.2926829268,
          75.7077560976,
          80.6343902439,
          79.2634146341,
          81.112195122,
          81.4536585366,
          73.81,
          79.3829268293,
          80.1512195122,
          78.2484460493,
          80.3951219512,
          79.0261899061,
          77.28685365850001,
          74.2073170732,
          80.9,
          76.1111707317,
          77.987804878,
          73.38890243899999
         ],
         "yaxis": "y"
        }
       ],
       "layout": {
        "legend": {
         "title": {
          "text": "color"
         },
         "tracegroupgap": 0
        },
        "margin": {
         "t": 60
        },
        "template": {
         "data": {
          "bar": [
           {
            "error_x": {
             "color": "#2a3f5f"
            },
            "error_y": {
             "color": "#2a3f5f"
            },
            "marker": {
             "line": {
              "color": "#E5ECF6",
              "width": 0.5
             },
             "pattern": {
              "fillmode": "overlay",
              "size": 10,
              "solidity": 0.2
             }
            },
            "type": "bar"
           }
          ],
          "barpolar": [
           {
            "marker": {
             "line": {
              "color": "#E5ECF6",
              "width": 0.5
             },
             "pattern": {
              "fillmode": "overlay",
              "size": 10,
              "solidity": 0.2
             }
            },
            "type": "barpolar"
           }
          ],
          "carpet": [
           {
            "aaxis": {
             "endlinecolor": "#2a3f5f",
             "gridcolor": "white",
             "linecolor": "white",
             "minorgridcolor": "white",
             "startlinecolor": "#2a3f5f"
            },
            "baxis": {
             "endlinecolor": "#2a3f5f",
             "gridcolor": "white",
             "linecolor": "white",
             "minorgridcolor": "white",
             "startlinecolor": "#2a3f5f"
            },
            "type": "carpet"
           }
          ],
          "choropleth": [
           {
            "colorbar": {
             "outlinewidth": 0,
             "ticks": ""
            },
            "type": "choropleth"
           }
          ],
          "contour": [
           {
            "colorbar": {
             "outlinewidth": 0,
             "ticks": ""
            },
            "colorscale": [
             [
              0,
              "#0d0887"
             ],
             [
              0.1111111111111111,
              "#46039f"
             ],
             [
              0.2222222222222222,
              "#7201a8"
             ],
             [
              0.3333333333333333,
              "#9c179e"
             ],
             [
              0.4444444444444444,
              "#bd3786"
             ],
             [
              0.5555555555555556,
              "#d8576b"
             ],
             [
              0.6666666666666666,
              "#ed7953"
             ],
             [
              0.7777777777777778,
              "#fb9f3a"
             ],
             [
              0.8888888888888888,
              "#fdca26"
             ],
             [
              1,
              "#f0f921"
             ]
            ],
            "type": "contour"
           }
          ],
          "contourcarpet": [
           {
            "colorbar": {
             "outlinewidth": 0,
             "ticks": ""
            },
            "type": "contourcarpet"
           }
          ],
          "heatmap": [
           {
            "colorbar": {
             "outlinewidth": 0,
             "ticks": ""
            },
            "colorscale": [
             [
              0,
              "#0d0887"
             ],
             [
              0.1111111111111111,
              "#46039f"
             ],
             [
              0.2222222222222222,
              "#7201a8"
             ],
             [
              0.3333333333333333,
              "#9c179e"
             ],
             [
              0.4444444444444444,
              "#bd3786"
             ],
             [
              0.5555555555555556,
              "#d8576b"
             ],
             [
              0.6666666666666666,
              "#ed7953"
             ],
             [
              0.7777777777777778,
              "#fb9f3a"
             ],
             [
              0.8888888888888888,
              "#fdca26"
             ],
             [
              1,
              "#f0f921"
             ]
            ],
            "type": "heatmap"
           }
          ],
          "heatmapgl": [
           {
            "colorbar": {
             "outlinewidth": 0,
             "ticks": ""
            },
            "colorscale": [
             [
              0,
              "#0d0887"
             ],
             [
              0.1111111111111111,
              "#46039f"
             ],
             [
              0.2222222222222222,
              "#7201a8"
             ],
             [
              0.3333333333333333,
              "#9c179e"
             ],
             [
              0.4444444444444444,
              "#bd3786"
             ],
             [
              0.5555555555555556,
              "#d8576b"
             ],
             [
              0.6666666666666666,
              "#ed7953"
             ],
             [
              0.7777777777777778,
              "#fb9f3a"
             ],
             [
              0.8888888888888888,
              "#fdca26"
             ],
             [
              1,
              "#f0f921"
             ]
            ],
            "type": "heatmapgl"
           }
          ],
          "histogram": [
           {
            "marker": {
             "pattern": {
              "fillmode": "overlay",
              "size": 10,
              "solidity": 0.2
             }
            },
            "type": "histogram"
           }
          ],
          "histogram2d": [
           {
            "colorbar": {
             "outlinewidth": 0,
             "ticks": ""
            },
            "colorscale": [
             [
              0,
              "#0d0887"
             ],
             [
              0.1111111111111111,
              "#46039f"
             ],
             [
              0.2222222222222222,
              "#7201a8"
             ],
             [
              0.3333333333333333,
              "#9c179e"
             ],
             [
              0.4444444444444444,
              "#bd3786"
             ],
             [
              0.5555555555555556,
              "#d8576b"
             ],
             [
              0.6666666666666666,
              "#ed7953"
             ],
             [
              0.7777777777777778,
              "#fb9f3a"
             ],
             [
              0.8888888888888888,
              "#fdca26"
             ],
             [
              1,
              "#f0f921"
             ]
            ],
            "type": "histogram2d"
           }
          ],
          "histogram2dcontour": [
           {
            "colorbar": {
             "outlinewidth": 0,
             "ticks": ""
            },
            "colorscale": [
             [
              0,
              "#0d0887"
             ],
             [
              0.1111111111111111,
              "#46039f"
             ],
             [
              0.2222222222222222,
              "#7201a8"
             ],
             [
              0.3333333333333333,
              "#9c179e"
             ],
             [
              0.4444444444444444,
              "#bd3786"
             ],
             [
              0.5555555555555556,
              "#d8576b"
             ],
             [
              0.6666666666666666,
              "#ed7953"
             ],
             [
              0.7777777777777778,
              "#fb9f3a"
             ],
             [
              0.8888888888888888,
              "#fdca26"
             ],
             [
              1,
              "#f0f921"
             ]
            ],
            "type": "histogram2dcontour"
           }
          ],
          "mesh3d": [
           {
            "colorbar": {
             "outlinewidth": 0,
             "ticks": ""
            },
            "type": "mesh3d"
           }
          ],
          "parcoords": [
           {
            "line": {
             "colorbar": {
              "outlinewidth": 0,
              "ticks": ""
             }
            },
            "type": "parcoords"
           }
          ],
          "pie": [
           {
            "automargin": true,
            "type": "pie"
           }
          ],
          "scatter": [
           {
            "fillpattern": {
             "fillmode": "overlay",
             "size": 10,
             "solidity": 0.2
            },
            "type": "scatter"
           }
          ],
          "scatter3d": [
           {
            "line": {
             "colorbar": {
              "outlinewidth": 0,
              "ticks": ""
             }
            },
            "marker": {
             "colorbar": {
              "outlinewidth": 0,
              "ticks": ""
             }
            },
            "type": "scatter3d"
           }
          ],
          "scattercarpet": [
           {
            "marker": {
             "colorbar": {
              "outlinewidth": 0,
              "ticks": ""
             }
            },
            "type": "scattercarpet"
           }
          ],
          "scattergeo": [
           {
            "marker": {
             "colorbar": {
              "outlinewidth": 0,
              "ticks": ""
             }
            },
            "type": "scattergeo"
           }
          ],
          "scattergl": [
           {
            "marker": {
             "colorbar": {
              "outlinewidth": 0,
              "ticks": ""
             }
            },
            "type": "scattergl"
           }
          ],
          "scattermapbox": [
           {
            "marker": {
             "colorbar": {
              "outlinewidth": 0,
              "ticks": ""
             }
            },
            "type": "scattermapbox"
           }
          ],
          "scatterpolar": [
           {
            "marker": {
             "colorbar": {
              "outlinewidth": 0,
              "ticks": ""
             }
            },
            "type": "scatterpolar"
           }
          ],
          "scatterpolargl": [
           {
            "marker": {
             "colorbar": {
              "outlinewidth": 0,
              "ticks": ""
             }
            },
            "type": "scatterpolargl"
           }
          ],
          "scatterternary": [
           {
            "marker": {
             "colorbar": {
              "outlinewidth": 0,
              "ticks": ""
             }
            },
            "type": "scatterternary"
           }
          ],
          "surface": [
           {
            "colorbar": {
             "outlinewidth": 0,
             "ticks": ""
            },
            "colorscale": [
             [
              0,
              "#0d0887"
             ],
             [
              0.1111111111111111,
              "#46039f"
             ],
             [
              0.2222222222222222,
              "#7201a8"
             ],
             [
              0.3333333333333333,
              "#9c179e"
             ],
             [
              0.4444444444444444,
              "#bd3786"
             ],
             [
              0.5555555555555556,
              "#d8576b"
             ],
             [
              0.6666666666666666,
              "#ed7953"
             ],
             [
              0.7777777777777778,
              "#fb9f3a"
             ],
             [
              0.8888888888888888,
              "#fdca26"
             ],
             [
              1,
              "#f0f921"
             ]
            ],
            "type": "surface"
           }
          ],
          "table": [
           {
            "cells": {
             "fill": {
              "color": "#EBF0F8"
             },
             "line": {
              "color": "white"
             }
            },
            "header": {
             "fill": {
              "color": "#C8D4E3"
             },
             "line": {
              "color": "white"
             }
            },
            "type": "table"
           }
          ]
         },
         "layout": {
          "annotationdefaults": {
           "arrowcolor": "#2a3f5f",
           "arrowhead": 0,
           "arrowwidth": 1
          },
          "autotypenumbers": "strict",
          "coloraxis": {
           "colorbar": {
            "outlinewidth": 0,
            "ticks": ""
           }
          },
          "colorscale": {
           "diverging": [
            [
             0,
             "#8e0152"
            ],
            [
             0.1,
             "#c51b7d"
            ],
            [
             0.2,
             "#de77ae"
            ],
            [
             0.3,
             "#f1b6da"
            ],
            [
             0.4,
             "#fde0ef"
            ],
            [
             0.5,
             "#f7f7f7"
            ],
            [
             0.6,
             "#e6f5d0"
            ],
            [
             0.7,
             "#b8e186"
            ],
            [
             0.8,
             "#7fbc41"
            ],
            [
             0.9,
             "#4d9221"
            ],
            [
             1,
             "#276419"
            ]
           ],
           "sequential": [
            [
             0,
             "#0d0887"
            ],
            [
             0.1111111111111111,
             "#46039f"
            ],
            [
             0.2222222222222222,
             "#7201a8"
            ],
            [
             0.3333333333333333,
             "#9c179e"
            ],
            [
             0.4444444444444444,
             "#bd3786"
            ],
            [
             0.5555555555555556,
             "#d8576b"
            ],
            [
             0.6666666666666666,
             "#ed7953"
            ],
            [
             0.7777777777777778,
             "#fb9f3a"
            ],
            [
             0.8888888888888888,
             "#fdca26"
            ],
            [
             1,
             "#f0f921"
            ]
           ],
           "sequentialminus": [
            [
             0,
             "#0d0887"
            ],
            [
             0.1111111111111111,
             "#46039f"
            ],
            [
             0.2222222222222222,
             "#7201a8"
            ],
            [
             0.3333333333333333,
             "#9c179e"
            ],
            [
             0.4444444444444444,
             "#bd3786"
            ],
            [
             0.5555555555555556,
             "#d8576b"
            ],
            [
             0.6666666666666666,
             "#ed7953"
            ],
            [
             0.7777777777777778,
             "#fb9f3a"
            ],
            [
             0.8888888888888888,
             "#fdca26"
            ],
            [
             1,
             "#f0f921"
            ]
           ]
          },
          "colorway": [
           "#636efa",
           "#EF553B",
           "#00cc96",
           "#ab63fa",
           "#FFA15A",
           "#19d3f3",
           "#FF6692",
           "#B6E880",
           "#FF97FF",
           "#FECB52"
          ],
          "font": {
           "color": "#2a3f5f"
          },
          "geo": {
           "bgcolor": "white",
           "lakecolor": "white",
           "landcolor": "#E5ECF6",
           "showlakes": true,
           "showland": true,
           "subunitcolor": "white"
          },
          "hoverlabel": {
           "align": "left"
          },
          "hovermode": "closest",
          "mapbox": {
           "style": "light"
          },
          "paper_bgcolor": "white",
          "plot_bgcolor": "#E5ECF6",
          "polar": {
           "angularaxis": {
            "gridcolor": "white",
            "linecolor": "white",
            "ticks": ""
           },
           "bgcolor": "#E5ECF6",
           "radialaxis": {
            "gridcolor": "white",
            "linecolor": "white",
            "ticks": ""
           }
          },
          "scene": {
           "xaxis": {
            "backgroundcolor": "#E5ECF6",
            "gridcolor": "white",
            "gridwidth": 2,
            "linecolor": "white",
            "showbackground": true,
            "ticks": "",
            "zerolinecolor": "white"
           },
           "yaxis": {
            "backgroundcolor": "#E5ECF6",
            "gridcolor": "white",
            "gridwidth": 2,
            "linecolor": "white",
            "showbackground": true,
            "ticks": "",
            "zerolinecolor": "white"
           },
           "zaxis": {
            "backgroundcolor": "#E5ECF6",
            "gridcolor": "white",
            "gridwidth": 2,
            "linecolor": "white",
            "showbackground": true,
            "ticks": "",
            "zerolinecolor": "white"
           }
          },
          "shapedefaults": {
           "line": {
            "color": "#2a3f5f"
           }
          },
          "ternary": {
           "aaxis": {
            "gridcolor": "white",
            "linecolor": "white",
            "ticks": ""
           },
           "baxis": {
            "gridcolor": "white",
            "linecolor": "white",
            "ticks": ""
           },
           "bgcolor": "#E5ECF6",
           "caxis": {
            "gridcolor": "white",
            "linecolor": "white",
            "ticks": ""
           }
          },
          "title": {
           "x": 0.05
          },
          "xaxis": {
           "automargin": true,
           "gridcolor": "white",
           "linecolor": "white",
           "ticks": "",
           "title": {
            "standoff": 15
           },
           "zerolinecolor": "white",
           "zerolinewidth": 2
          },
          "yaxis": {
           "automargin": true,
           "gridcolor": "white",
           "linecolor": "white",
           "ticks": "",
           "title": {
            "standoff": 15
           },
           "zerolinecolor": "white",
           "zerolinewidth": 2
          }
         }
        },
        "xaxis": {
         "anchor": "y",
         "domain": [
          0,
          1
         ],
         "title": {
          "text": "Electric power consumption (kWh per capita)"
         }
        },
        "yaxis": {
         "anchor": "x",
         "domain": [
          0,
          1
         ],
         "title": {
          "text": "Life expectancy at birth, total (years)"
         }
        }
       }
      },
      "text/html": [
       "<div>                            <div id=\"16c79945-6f25-4878-8fce-9a4c6bd93a47\" class=\"plotly-graph-div\" style=\"height:525px; width:100%;\"></div>            <script type=\"text/javascript\">                require([\"plotly\"], function(Plotly) {                    window.PLOTLYENV=window.PLOTLYENV || {};                                    if (document.getElementById(\"16c79945-6f25-4878-8fce-9a4c6bd93a47\")) {                    Plotly.newPlot(                        \"16c79945-6f25-4878-8fce-9a4c6bd93a47\",                        [{\"hovertemplate\":\"<b>%{hovertext}</b><br><br>color=0<br>Electric power consumption (kWh per capita)=%{x}<br>Life expectancy at birth, total (years)=%{y}<extra></extra>\",\"hovertext\":[\"Albania\",\"Algeria\",\"Angola\",\"Arab World\",\"Argentina\",\"Armenia\",\"Austria\",\"Azerbaijan\",\"Bangladesh\",\"Belarus\",\"Belgium\",\"Benin\",\"Bolivia\",\"Bosnia and Herzegovina\",\"Botswana\",\"Brazil\",\"Brunei Darussalam\",\"Bulgaria\",\"Cambodia\",\"Cameroon\",\"Central Europe and the Baltics\",\"Chile\",\"China\",\"Colombia\",\"Congo, Dem. Rep.\",\"Congo, Rep.\",\"Costa Rica\",\"Cote d'Ivoire\",\"Croatia\",\"Cuba\",\"Curacao\",\"Cyprus\",\"Czech Republic\",\"Denmark\",\"Dominican Republic\",\"Early-demographic dividend\",\"East Asia & Pacific\",\"East Asia & Pacific (IDA & IBRD countries)\",\"East Asia & Pacific (excluding high income)\",\"Ecuador\",\"Egypt, Arab Rep.\",\"El Salvador\",\"Eritrea\",\"Estonia\",\"Ethiopia\",\"Euro area\",\"Europe & Central Asia\",\"Europe & Central Asia (IDA & IBRD countries)\",\"Europe & Central Asia (excluding high income)\",\"European Union\",\"Fragile and conflict affected situations\",\"Gabon\",\"Georgia\",\"Germany\",\"Ghana\",\"Greece\",\"Guatemala\",\"Haiti\",\"Heavily indebted poor countries (HIPC)\",\"High income\",\"Honduras\",\"Hong Kong SAR, China\",\"Hungary\",\"IBRD only\",\"IDA & IBRD total\",\"IDA blend\",\"IDA only\",\"IDA total\",\"India\",\"Indonesia\",\"Iran, Islamic Rep.\",\"Iraq\",\"Ireland\",\"Israel\",\"Italy\",\"Jamaica\",\"Japan\",\"Jordan\",\"Kazakhstan\",\"Kenya\",\"Korea, Dem. People\\ufffds Rep.\",\"Korea, Rep.\",\"Kosovo\",\"Kyrgyz Republic\",\"Late-demographic dividend\",\"Latin America & Caribbean\",\"Latin America & Caribbean (excluding high income)\",\"Latin America & the Caribbean (IDA & IBRD countries)\",\"Latvia\",\"Least developed countries: UN classification\",\"Lebanon\",\"Libya\",\"Lithuania\",\"Low & middle income\",\"Lower middle income\",\"Macedonia, FYR\",\"Malaysia\",\"Malta\",\"Mauritius\",\"Mexico\",\"Middle East & North Africa\",\"Middle East & North Africa (IDA & IBRD countries)\",\"Middle East & North Africa (excluding high income)\",\"Middle income\",\"Moldova\",\"Mongolia\",\"Montenegro\",\"Morocco\",\"Mozambique\",\"Myanmar\",\"Namibia\",\"Nepal\",\"Netherlands\",\"Nicaragua\",\"Niger\",\"Nigeria\",\"OECD members\",\"Oman\",\"Pakistan\",\"Panama\",\"Paraguay\",\"Peru\",\"Philippines\",\"Poland\",\"Portugal\",\"Pre-demographic dividend\",\"Romania\",\"Russian Federation\",\"Saudi Arabia\",\"Senegal\",\"Serbia\",\"Singapore\",\"Slovenia\",\"South Africa\",\"South Asia\",\"South Asia (IDA & IBRD)\",\"Spain\",\"Sri Lanka\",\"Sub-Saharan Africa\",\"Sub-Saharan Africa (IDA & IBRD countries)\",\"Sub-Saharan Africa (excluding high income)\",\"Sudan\",\"Switzerland\",\"Syrian Arab Republic\",\"Tajikistan\",\"Tanzania\",\"Thailand\",\"Togo\",\"Trinidad and Tobago\",\"Tunisia\",\"Turkey\",\"Turkmenistan\",\"Ukraine\",\"United Kingdom\",\"Upper middle income\",\"Uruguay\",\"Uzbekistan\",\"Vietnam\",\"World\",\"Yemen, Rep.\",\"Zambia\",\"Zimbabwe\"],\"legendgroup\":\"0\",\"marker\":{\"color\":\"#636efa\",\"symbol\":\"circle\"},\"mode\":\"markers\",\"name\":\"0\",\"orientation\":\"v\",\"showlegend\":true,\"x\":[1213.12436932,891.80508617,145.225891681,1992.42164476,2438.00941924,1740.22636998,8185.53509878,2118.21052754,200.576171989,3394.24686192,8614.49128057,77.4033184893,545.359298466,2334.38130953,1491.37679617,2137.76499203,8625.77745494,4523.32287831,100.22798954,249.133823599,3979.83855309,3353.15571849,2330.25946877,974.385215955,102.816292338,130.797582667,1900.69035912,190.16897947900003,3737.60144274,1298.64801118,7323.54084523,4379.89163155,6518.2174127,6668.39026645,1335.39049966,926.601707152,2634.37235259,1882.97207916,1868.67066742,958.925777864,1436.07409837,899.7038961889999,55.6022185512,6277.41146284,39.4600363784,6864.44846513,5551.70264761,3994.62463062,4029.71565329,6368.82825611,442.464377117,1000.06801295,1730.52425282,7229.08991295,245.960134749,5701.33085359,539.657936882,25.32186497,167.024487255,9351.93639152,695.007399348,5907.34930526,3976.51897715,1785.38914963,1467.44332868,496.530893166,231.497382472,341.511106642,543.356622439,546.335479481,2294.92510679,767.9550659739999,6218.76805832,7003.24508015,5804.32596357,2003.39457821,8474.37910641,1938.38828327,4487.28613027,144.883805711,751.5362199110001,8477.17910322,2395.86386093,1456.22959532,2556.69391239,1825.81997774,1765.84955048,1835.04594108,3169.0772954,142.63412844799998,2796.77076515,3765.66562431,3564.20678527,1438.79257073,588.381681476,3646.2423474,3271.6428774,4873.08346692,1816.67110347,1905.7468004,2336.21137313,1427.94811341,1427.94811341,1520.33959572,1996.41590088,1333.31996285,6564.64379947,720.8012609069999,445.713854836,87.55628879209999,1547.15832667,88.7060235188,7209.93723727,464.133424144,39.5109154411,138.142401412,8355.35784243,4494.65060241,482.688387673,1548.10466967,984.050042238,968.127261355,584.52990568,3661.64610383,4890.56018782,192.583707412,2529.90688782,6286.05053624,6703.2741974,180.798387524,4159.13722525,8706.57906694,7137.82417515,4903.90505495,494.95631451,494.95631451,6054.374438100001,424.0390482,535.010610636,535.010610636,535.010610636,90.5462229164,8163.29557601,1576.21925339,2062.53791896,80.1261904411,2074.86945842,102.879016653,5668.85110673,1159.98865537,2349.87907444,2259.87421358,3528.92482909,6102.41307496,2504.19758003,2413.35429299,1664.02411791,738.471950937,2816.33464558,207.132309622,651.8730832,700.642316871],\"xaxis\":\"x\",\"y\":[76.4702926829,72.8983658537,49.43573170729999,69.2070082278,75.0090487805,73.7646585366,80.1804878049,69.7565121951,68.85997560979999,70.2034146341,79.78292682930001,57.867390243900005,64.6941219512,75.3714878049,59.0745609756,72.4148292683,76.6755609756,72.6634146341,64.5523414634,52.4791463415,74.2523833325,79.3135365854,74.3404390244,72.7055121951,55.0644146341,55.8013170732,78.33031707319999,48.7788292683,75.7056097561,78.44919512199999,75.3634146341,78.8685121951,76.7243902439,78.1951219512,72.1313170732,66.7168411826,73.5846595367,72.6919270432,72.6378120561,74.4950243902,69.78229268289999,70.7804634146,59.6694146341,72.8146341463,58.408,80.0997517287,74.92140241220001,69.9944489801,69.42256412520001,78.9682102701,59.20782178140001,60.3927804878,73.4210243902,79.53414634149999,59.6358536585,79.4390243902,70.1107804878,59.9773902439,56.5766165423,79.2386203249,71.8587317073,82.3268292683,73.1512195122,70.1729440238,67.75917164170001,61.2853204195,60.089105590200006,60.51656342770001,65.30043902439999,67.5677317073,72.674195122,68.19902439020001,79.6414634146,80.5048780488,81.4341463415,74.0092926829,82.5070731707,72.9611707317,66.5048780488,55.6992926829,68.376195122,79.3495121951,69.1975609756,67.8951219512,73.472904211,73.3790228456,73.1580129361,73.2400064382,71.0195121951,59.6277315593,77.615902439,71.7386341463,70.9,67.68854263829999,65.05949547590001,74.3229512195,73.81826829270001,79.7926829268,72.5707317073,75.5879268293,71.4108904527,70.8462057183,70.8562142383,68.7989256332,68.20990243899999,66.06817073170001,74.04063414630001,71.2776341463,51.622097561,64.0936829268,58.780804878000005,66.5519268293,80.0975609756,72.5716585366,55.4550243902,49.8081463415,78.7760227899,75.1236097561,64.3387317073,76.3144634146,71.6948292683,72.9969512195,67.47902439020001,75.243902439,78.3219512195,54.4851307308,72.5658536585,67.49756097560001,73.34507317069999,61.7841707317,73.6317073171,80.4414634146,78.5609756098,51.9965121951,65.5485167218,65.5485167218,80.8731707317,74.1941219512,54.1785518165,54.1785518165,54.1765429979,60.7008780488,81.7414634146,74.2460731707,67.2074878049,58.0777804878,72.87443902439999,55.4334390244,69.2596585366,74.2024390244,73.1770731707,64.6388292683,68.222195122,79.4487804878,72.7812540165,75.9510243902,67.5312195122,74.48385365850001,69.6418542733,61.954804878,52.4771463415,44.1777560976],\"yaxis\":\"y\",\"type\":\"scatter\"},{\"hovertemplate\":\"<b>%{hovertext}</b><br><br>color=1<br>Electric power consumption (kWh per capita)=%{x}<br>Life expectancy at birth, total (years)=%{y}<extra></extra>\",\"hovertext\":[\"Australia\",\"Bahrain\",\"Canada\",\"Finland\",\"France\",\"Iceland\",\"Kuwait\",\"Luxembourg\",\"New Zealand\",\"North America\",\"Norway\",\"Post-demographic dividend\",\"Qatar\",\"Slovak Republic\",\"Sweden\",\"United Arab Emirates\",\"United States\",\"Venezuela, RB\"],\"legendgroup\":\"1\",\"marker\":{\"color\":\"#EF553B\",\"symbol\":\"circle\"},\"mode\":\"markers\",\"name\":\"1\",\"orientation\":\"v\",\"showlegend\":true,\"x\":[10972.8917398,20779.9191091,16771.0778253,17161.2412833,7519.06208034,36852.5448862,16860.5340522,16352.321804700005,9640.60798333,13963.929363100002,24855.000464,9294.74696936,15330.5257622,5272.37078254,15257.9357532,11754.3801268,13657.449508500002,2973.00472678],\"xaxis\":\"x\",\"y\":[81.2926829268,75.7077560976,80.6343902439,79.2634146341,81.112195122,81.4536585366,73.81,79.3829268293,80.1512195122,78.2484460493,80.3951219512,79.0261899061,77.28685365850001,74.2073170732,80.9,76.1111707317,77.987804878,73.38890243899999],\"yaxis\":\"y\",\"type\":\"scatter\"}],                        {\"template\":{\"data\":{\"histogram2dcontour\":[{\"type\":\"histogram2dcontour\",\"colorbar\":{\"outlinewidth\":0,\"ticks\":\"\"},\"colorscale\":[[0.0,\"#0d0887\"],[0.1111111111111111,\"#46039f\"],[0.2222222222222222,\"#7201a8\"],[0.3333333333333333,\"#9c179e\"],[0.4444444444444444,\"#bd3786\"],[0.5555555555555556,\"#d8576b\"],[0.6666666666666666,\"#ed7953\"],[0.7777777777777778,\"#fb9f3a\"],[0.8888888888888888,\"#fdca26\"],[1.0,\"#f0f921\"]]}],\"choropleth\":[{\"type\":\"choropleth\",\"colorbar\":{\"outlinewidth\":0,\"ticks\":\"\"}}],\"histogram2d\":[{\"type\":\"histogram2d\",\"colorbar\":{\"outlinewidth\":0,\"ticks\":\"\"},\"colorscale\":[[0.0,\"#0d0887\"],[0.1111111111111111,\"#46039f\"],[0.2222222222222222,\"#7201a8\"],[0.3333333333333333,\"#9c179e\"],[0.4444444444444444,\"#bd3786\"],[0.5555555555555556,\"#d8576b\"],[0.6666666666666666,\"#ed7953\"],[0.7777777777777778,\"#fb9f3a\"],[0.8888888888888888,\"#fdca26\"],[1.0,\"#f0f921\"]]}],\"heatmap\":[{\"type\":\"heatmap\",\"colorbar\":{\"outlinewidth\":0,\"ticks\":\"\"},\"colorscale\":[[0.0,\"#0d0887\"],[0.1111111111111111,\"#46039f\"],[0.2222222222222222,\"#7201a8\"],[0.3333333333333333,\"#9c179e\"],[0.4444444444444444,\"#bd3786\"],[0.5555555555555556,\"#d8576b\"],[0.6666666666666666,\"#ed7953\"],[0.7777777777777778,\"#fb9f3a\"],[0.8888888888888888,\"#fdca26\"],[1.0,\"#f0f921\"]]}],\"heatmapgl\":[{\"type\":\"heatmapgl\",\"colorbar\":{\"outlinewidth\":0,\"ticks\":\"\"},\"colorscale\":[[0.0,\"#0d0887\"],[0.1111111111111111,\"#46039f\"],[0.2222222222222222,\"#7201a8\"],[0.3333333333333333,\"#9c179e\"],[0.4444444444444444,\"#bd3786\"],[0.5555555555555556,\"#d8576b\"],[0.6666666666666666,\"#ed7953\"],[0.7777777777777778,\"#fb9f3a\"],[0.8888888888888888,\"#fdca26\"],[1.0,\"#f0f921\"]]}],\"contourcarpet\":[{\"type\":\"contourcarpet\",\"colorbar\":{\"outlinewidth\":0,\"ticks\":\"\"}}],\"contour\":[{\"type\":\"contour\",\"colorbar\":{\"outlinewidth\":0,\"ticks\":\"\"},\"colorscale\":[[0.0,\"#0d0887\"],[0.1111111111111111,\"#46039f\"],[0.2222222222222222,\"#7201a8\"],[0.3333333333333333,\"#9c179e\"],[0.4444444444444444,\"#bd3786\"],[0.5555555555555556,\"#d8576b\"],[0.6666666666666666,\"#ed7953\"],[0.7777777777777778,\"#fb9f3a\"],[0.8888888888888888,\"#fdca26\"],[1.0,\"#f0f921\"]]}],\"surface\":[{\"type\":\"surface\",\"colorbar\":{\"outlinewidth\":0,\"ticks\":\"\"},\"colorscale\":[[0.0,\"#0d0887\"],[0.1111111111111111,\"#46039f\"],[0.2222222222222222,\"#7201a8\"],[0.3333333333333333,\"#9c179e\"],[0.4444444444444444,\"#bd3786\"],[0.5555555555555556,\"#d8576b\"],[0.6666666666666666,\"#ed7953\"],[0.7777777777777778,\"#fb9f3a\"],[0.8888888888888888,\"#fdca26\"],[1.0,\"#f0f921\"]]}],\"mesh3d\":[{\"type\":\"mesh3d\",\"colorbar\":{\"outlinewidth\":0,\"ticks\":\"\"}}],\"scatter\":[{\"fillpattern\":{\"fillmode\":\"overlay\",\"size\":10,\"solidity\":0.2},\"type\":\"scatter\"}],\"parcoords\":[{\"type\":\"parcoords\",\"line\":{\"colorbar\":{\"outlinewidth\":0,\"ticks\":\"\"}}}],\"scatterpolargl\":[{\"type\":\"scatterpolargl\",\"marker\":{\"colorbar\":{\"outlinewidth\":0,\"ticks\":\"\"}}}],\"bar\":[{\"error_x\":{\"color\":\"#2a3f5f\"},\"error_y\":{\"color\":\"#2a3f5f\"},\"marker\":{\"line\":{\"color\":\"#E5ECF6\",\"width\":0.5},\"pattern\":{\"fillmode\":\"overlay\",\"size\":10,\"solidity\":0.2}},\"type\":\"bar\"}],\"scattergeo\":[{\"type\":\"scattergeo\",\"marker\":{\"colorbar\":{\"outlinewidth\":0,\"ticks\":\"\"}}}],\"scatterpolar\":[{\"type\":\"scatterpolar\",\"marker\":{\"colorbar\":{\"outlinewidth\":0,\"ticks\":\"\"}}}],\"histogram\":[{\"marker\":{\"pattern\":{\"fillmode\":\"overlay\",\"size\":10,\"solidity\":0.2}},\"type\":\"histogram\"}],\"scattergl\":[{\"type\":\"scattergl\",\"marker\":{\"colorbar\":{\"outlinewidth\":0,\"ticks\":\"\"}}}],\"scatter3d\":[{\"type\":\"scatter3d\",\"line\":{\"colorbar\":{\"outlinewidth\":0,\"ticks\":\"\"}},\"marker\":{\"colorbar\":{\"outlinewidth\":0,\"ticks\":\"\"}}}],\"scattermapbox\":[{\"type\":\"scattermapbox\",\"marker\":{\"colorbar\":{\"outlinewidth\":0,\"ticks\":\"\"}}}],\"scatterternary\":[{\"type\":\"scatterternary\",\"marker\":{\"colorbar\":{\"outlinewidth\":0,\"ticks\":\"\"}}}],\"scattercarpet\":[{\"type\":\"scattercarpet\",\"marker\":{\"colorbar\":{\"outlinewidth\":0,\"ticks\":\"\"}}}],\"carpet\":[{\"aaxis\":{\"endlinecolor\":\"#2a3f5f\",\"gridcolor\":\"white\",\"linecolor\":\"white\",\"minorgridcolor\":\"white\",\"startlinecolor\":\"#2a3f5f\"},\"baxis\":{\"endlinecolor\":\"#2a3f5f\",\"gridcolor\":\"white\",\"linecolor\":\"white\",\"minorgridcolor\":\"white\",\"startlinecolor\":\"#2a3f5f\"},\"type\":\"carpet\"}],\"table\":[{\"cells\":{\"fill\":{\"color\":\"#EBF0F8\"},\"line\":{\"color\":\"white\"}},\"header\":{\"fill\":{\"color\":\"#C8D4E3\"},\"line\":{\"color\":\"white\"}},\"type\":\"table\"}],\"barpolar\":[{\"marker\":{\"line\":{\"color\":\"#E5ECF6\",\"width\":0.5},\"pattern\":{\"fillmode\":\"overlay\",\"size\":10,\"solidity\":0.2}},\"type\":\"barpolar\"}],\"pie\":[{\"automargin\":true,\"type\":\"pie\"}]},\"layout\":{\"autotypenumbers\":\"strict\",\"colorway\":[\"#636efa\",\"#EF553B\",\"#00cc96\",\"#ab63fa\",\"#FFA15A\",\"#19d3f3\",\"#FF6692\",\"#B6E880\",\"#FF97FF\",\"#FECB52\"],\"font\":{\"color\":\"#2a3f5f\"},\"hovermode\":\"closest\",\"hoverlabel\":{\"align\":\"left\"},\"paper_bgcolor\":\"white\",\"plot_bgcolor\":\"#E5ECF6\",\"polar\":{\"bgcolor\":\"#E5ECF6\",\"angularaxis\":{\"gridcolor\":\"white\",\"linecolor\":\"white\",\"ticks\":\"\"},\"radialaxis\":{\"gridcolor\":\"white\",\"linecolor\":\"white\",\"ticks\":\"\"}},\"ternary\":{\"bgcolor\":\"#E5ECF6\",\"aaxis\":{\"gridcolor\":\"white\",\"linecolor\":\"white\",\"ticks\":\"\"},\"baxis\":{\"gridcolor\":\"white\",\"linecolor\":\"white\",\"ticks\":\"\"},\"caxis\":{\"gridcolor\":\"white\",\"linecolor\":\"white\",\"ticks\":\"\"}},\"coloraxis\":{\"colorbar\":{\"outlinewidth\":0,\"ticks\":\"\"}},\"colorscale\":{\"sequential\":[[0.0,\"#0d0887\"],[0.1111111111111111,\"#46039f\"],[0.2222222222222222,\"#7201a8\"],[0.3333333333333333,\"#9c179e\"],[0.4444444444444444,\"#bd3786\"],[0.5555555555555556,\"#d8576b\"],[0.6666666666666666,\"#ed7953\"],[0.7777777777777778,\"#fb9f3a\"],[0.8888888888888888,\"#fdca26\"],[1.0,\"#f0f921\"]],\"sequentialminus\":[[0.0,\"#0d0887\"],[0.1111111111111111,\"#46039f\"],[0.2222222222222222,\"#7201a8\"],[0.3333333333333333,\"#9c179e\"],[0.4444444444444444,\"#bd3786\"],[0.5555555555555556,\"#d8576b\"],[0.6666666666666666,\"#ed7953\"],[0.7777777777777778,\"#fb9f3a\"],[0.8888888888888888,\"#fdca26\"],[1.0,\"#f0f921\"]],\"diverging\":[[0,\"#8e0152\"],[0.1,\"#c51b7d\"],[0.2,\"#de77ae\"],[0.3,\"#f1b6da\"],[0.4,\"#fde0ef\"],[0.5,\"#f7f7f7\"],[0.6,\"#e6f5d0\"],[0.7,\"#b8e186\"],[0.8,\"#7fbc41\"],[0.9,\"#4d9221\"],[1,\"#276419\"]]},\"xaxis\":{\"gridcolor\":\"white\",\"linecolor\":\"white\",\"ticks\":\"\",\"title\":{\"standoff\":15},\"zerolinecolor\":\"white\",\"automargin\":true,\"zerolinewidth\":2},\"yaxis\":{\"gridcolor\":\"white\",\"linecolor\":\"white\",\"ticks\":\"\",\"title\":{\"standoff\":15},\"zerolinecolor\":\"white\",\"automargin\":true,\"zerolinewidth\":2},\"scene\":{\"xaxis\":{\"backgroundcolor\":\"#E5ECF6\",\"gridcolor\":\"white\",\"linecolor\":\"white\",\"showbackground\":true,\"ticks\":\"\",\"zerolinecolor\":\"white\",\"gridwidth\":2},\"yaxis\":{\"backgroundcolor\":\"#E5ECF6\",\"gridcolor\":\"white\",\"linecolor\":\"white\",\"showbackground\":true,\"ticks\":\"\",\"zerolinecolor\":\"white\",\"gridwidth\":2},\"zaxis\":{\"backgroundcolor\":\"#E5ECF6\",\"gridcolor\":\"white\",\"linecolor\":\"white\",\"showbackground\":true,\"ticks\":\"\",\"zerolinecolor\":\"white\",\"gridwidth\":2}},\"shapedefaults\":{\"line\":{\"color\":\"#2a3f5f\"}},\"annotationdefaults\":{\"arrowcolor\":\"#2a3f5f\",\"arrowhead\":0,\"arrowwidth\":1},\"geo\":{\"bgcolor\":\"white\",\"landcolor\":\"#E5ECF6\",\"subunitcolor\":\"white\",\"showland\":true,\"showlakes\":true,\"lakecolor\":\"white\"},\"title\":{\"x\":0.05},\"mapbox\":{\"style\":\"light\"}}},\"xaxis\":{\"anchor\":\"y\",\"domain\":[0.0,1.0],\"title\":{\"text\":\"Electric power consumption (kWh per capita)\"}},\"yaxis\":{\"anchor\":\"x\",\"domain\":[0.0,1.0],\"title\":{\"text\":\"Life expectancy at birth, total (years)\"}},\"legend\":{\"title\":{\"text\":\"color\"},\"tracegroupgap\":0},\"margin\":{\"t\":60}},                        {\"responsive\": true}                    ).then(function(){\n",
       "                            \n",
       "var gd = document.getElementById('16c79945-6f25-4878-8fce-9a4c6bd93a47');\n",
       "var x = new MutationObserver(function (mutations, observer) {{\n",
       "        var display = window.getComputedStyle(gd).display;\n",
       "        if (!display || display === 'none') {{\n",
       "            console.log([gd, 'removed!']);\n",
       "            Plotly.purge(gd);\n",
       "            observer.disconnect();\n",
       "        }}\n",
       "}});\n",
       "\n",
       "// Listen for the removal of the full notebook cells\n",
       "var notebookContainer = gd.closest('#notebook-container');\n",
       "if (notebookContainer) {{\n",
       "    x.observe(notebookContainer, {childList: true});\n",
       "}}\n",
       "\n",
       "// Listen for the clearing of the current output cell\n",
       "var outputEl = gd.closest('.output');\n",
       "if (outputEl) {{\n",
       "    x.observe(outputEl, {childList: true});\n",
       "}}\n",
       "\n",
       "                        })                };                });            </script>        </div>"
      ]
     },
     "metadata": {},
     "output_type": "display_data"
    }
   ],
   "source": [
    "fig = px.scatter(curr_data,\n",
    "                 x=\"Electric power consumption (kWh per capita)\",\n",
    "                 y=\"Life expectancy at birth, total (years)\",\n",
    "                 color=abod_outlier_yn,\n",
    "                 hover_name=\"Country Name\"\n",
    "                )\n",
    "\n",
    "fig.show()\n"
   ]
  },
  {
   "cell_type": "markdown",
   "id": "36540247",
   "metadata": {},
   "source": [
    "### CBLOF\n",
    "\n",
    "Clustering Based Local Outlier Factor"
   ]
  },
  {
   "cell_type": "code",
   "execution_count": 98,
   "id": "a5e1deba",
   "metadata": {},
   "outputs": [
    {
     "data": {
      "text/plain": [
       "CBLOF(alpha=0.95, beta=5, check_estimator=False, clustering_estimator=None,\n",
       "   contamination=0.1, n_clusters=8, n_jobs=None, random_state=None,\n",
       "   use_weights=False)"
      ]
     },
     "execution_count": 98,
     "metadata": {},
     "output_type": "execute_result"
    }
   ],
   "source": [
    "\n",
    "cblof_clf = CBLOF(n_clusters = 8, # can specify the number of clusters (default = 8)\n",
    "                  contamination = .1, # have to state the expected rate of outliers = contaminations!\n",
    "                  alpha = 0.95, # Coefficient for deciding small and large clusters. The ratio of the number of samples in large clusters to the number of samples in small clusters.\n",
    "                  beta = 5, # Coefficient for deciding small and large clusters. For a list sorted clusters by size |C1|, |C2|, …, |Cn|, beta = |Ck|/|Ck-1|\n",
    "                  #use_weights = True,\n",
    "                  #check_estimator = True\n",
    "                 )\n",
    "cblof_clf.fit(curr_data[inputs+outputs])"
   ]
  },
  {
   "cell_type": "code",
   "execution_count": 99,
   "id": "3a1d856a",
   "metadata": {},
   "outputs": [],
   "source": [
    "cblof_outlier_yn = [str(label) for label in cblof_clf.labels_]"
   ]
  },
  {
   "cell_type": "code",
   "execution_count": 100,
   "id": "a1b8d07d",
   "metadata": {},
   "outputs": [
    {
     "data": {
      "application/vnd.plotly.v1+json": {
       "config": {
        "plotlyServerURL": "https://plot.ly"
       },
       "data": [
        {
         "hovertemplate": "<b>%{hovertext}</b><br><br>color=0<br>Electric power consumption (kWh per capita)=%{x}<br>Life expectancy at birth, total (years)=%{y}<extra></extra>",
         "hovertext": [
          "Albania",
          "Algeria",
          "Angola",
          "Arab World",
          "Argentina",
          "Armenia",
          "Azerbaijan",
          "Bangladesh",
          "Belarus",
          "Belgium",
          "Benin",
          "Bolivia",
          "Bosnia and Herzegovina",
          "Botswana",
          "Brazil",
          "Brunei Darussalam",
          "Bulgaria",
          "Cambodia",
          "Cameroon",
          "Central Europe and the Baltics",
          "Chile",
          "China",
          "Colombia",
          "Congo, Dem. Rep.",
          "Congo, Rep.",
          "Costa Rica",
          "Cote d'Ivoire",
          "Croatia",
          "Cuba",
          "Curacao",
          "Cyprus",
          "Czech Republic",
          "Denmark",
          "Dominican Republic",
          "Early-demographic dividend",
          "East Asia & Pacific",
          "East Asia & Pacific (IDA & IBRD countries)",
          "East Asia & Pacific (excluding high income)",
          "Ecuador",
          "Egypt, Arab Rep.",
          "El Salvador",
          "Eritrea",
          "Estonia",
          "Ethiopia",
          "Euro area",
          "Europe & Central Asia",
          "Europe & Central Asia (IDA & IBRD countries)",
          "Europe & Central Asia (excluding high income)",
          "European Union",
          "Fragile and conflict affected situations",
          "Gabon",
          "Georgia",
          "Germany",
          "Ghana",
          "Greece",
          "Guatemala",
          "Haiti",
          "Heavily indebted poor countries (HIPC)",
          "High income",
          "Honduras",
          "Hong Kong SAR, China",
          "Hungary",
          "IBRD only",
          "IDA & IBRD total",
          "IDA blend",
          "IDA only",
          "IDA total",
          "India",
          "Indonesia",
          "Iran, Islamic Rep.",
          "Iraq",
          "Ireland",
          "Israel",
          "Italy",
          "Jamaica",
          "Japan",
          "Jordan",
          "Kazakhstan",
          "Kenya",
          "Korea, Dem. People�s Rep.",
          "Korea, Rep.",
          "Kosovo",
          "Kyrgyz Republic",
          "Late-demographic dividend",
          "Latin America & Caribbean",
          "Latin America & Caribbean (excluding high income)",
          "Latin America & the Caribbean (IDA & IBRD countries)",
          "Latvia",
          "Least developed countries: UN classification",
          "Lebanon",
          "Libya",
          "Lithuania",
          "Low & middle income",
          "Lower middle income",
          "Luxembourg",
          "Macedonia, FYR",
          "Malaysia",
          "Mauritius",
          "Mexico",
          "Middle East & North Africa",
          "Middle East & North Africa (IDA & IBRD countries)",
          "Middle East & North Africa (excluding high income)",
          "Middle income",
          "Moldova",
          "Mongolia",
          "Montenegro",
          "Morocco",
          "Mozambique",
          "Myanmar",
          "Namibia",
          "Nepal",
          "Netherlands",
          "New Zealand",
          "Nicaragua",
          "Niger",
          "Nigeria",
          "OECD members",
          "Oman",
          "Pakistan",
          "Panama",
          "Paraguay",
          "Peru",
          "Philippines",
          "Poland",
          "Post-demographic dividend",
          "Pre-demographic dividend",
          "Qatar",
          "Romania",
          "Russian Federation",
          "Saudi Arabia",
          "Senegal",
          "Serbia",
          "Singapore",
          "Slovenia",
          "South Asia",
          "South Asia (IDA & IBRD)",
          "Spain",
          "Sri Lanka",
          "Sub-Saharan Africa",
          "Sub-Saharan Africa (IDA & IBRD countries)",
          "Sub-Saharan Africa (excluding high income)",
          "Sudan",
          "Sweden",
          "Syrian Arab Republic",
          "Tajikistan",
          "Tanzania",
          "Thailand",
          "Togo",
          "Trinidad and Tobago",
          "Tunisia",
          "Turkey",
          "Turkmenistan",
          "Ukraine",
          "United Kingdom",
          "Upper middle income",
          "Uruguay",
          "Uzbekistan",
          "Vietnam",
          "World",
          "Yemen, Rep.",
          "Zambia",
          "Zimbabwe"
         ],
         "legendgroup": "0",
         "marker": {
          "color": "#636efa",
          "symbol": "circle"
         },
         "mode": "markers",
         "name": "0",
         "orientation": "v",
         "showlegend": true,
         "type": "scatter",
         "x": [
          1213.12436932,
          891.80508617,
          145.225891681,
          1992.42164476,
          2438.00941924,
          1740.22636998,
          2118.21052754,
          200.576171989,
          3394.24686192,
          8614.49128057,
          77.4033184893,
          545.359298466,
          2334.38130953,
          1491.37679617,
          2137.76499203,
          8625.77745494,
          4523.32287831,
          100.22798954,
          249.133823599,
          3979.83855309,
          3353.15571849,
          2330.25946877,
          974.385215955,
          102.816292338,
          130.797582667,
          1900.69035912,
          190.16897947900003,
          3737.60144274,
          1298.64801118,
          7323.54084523,
          4379.89163155,
          6518.2174127,
          6668.39026645,
          1335.39049966,
          926.601707152,
          2634.37235259,
          1882.97207916,
          1868.67066742,
          958.925777864,
          1436.07409837,
          899.7038961889999,
          55.6022185512,
          6277.41146284,
          39.4600363784,
          6864.44846513,
          5551.70264761,
          3994.62463062,
          4029.71565329,
          6368.82825611,
          442.464377117,
          1000.06801295,
          1730.52425282,
          7229.08991295,
          245.960134749,
          5701.33085359,
          539.657936882,
          25.32186497,
          167.024487255,
          9351.93639152,
          695.007399348,
          5907.34930526,
          3976.51897715,
          1785.38914963,
          1467.44332868,
          496.530893166,
          231.497382472,
          341.511106642,
          543.356622439,
          546.335479481,
          2294.92510679,
          767.9550659739999,
          6218.76805832,
          7003.24508015,
          5804.32596357,
          2003.39457821,
          8474.37910641,
          1938.38828327,
          4487.28613027,
          144.883805711,
          751.5362199110001,
          8477.17910322,
          2395.86386093,
          1456.22959532,
          2556.69391239,
          1825.81997774,
          1765.84955048,
          1835.04594108,
          3169.0772954,
          142.63412844799998,
          2796.77076515,
          3765.66562431,
          3564.20678527,
          1438.79257073,
          588.381681476,
          16352.321804700005,
          3646.2423474,
          3271.6428774,
          1816.67110347,
          1905.7468004,
          2336.21137313,
          1427.94811341,
          1427.94811341,
          1520.33959572,
          1996.41590088,
          1333.31996285,
          6564.64379947,
          720.8012609069999,
          445.713854836,
          87.55628879209999,
          1547.15832667,
          88.7060235188,
          7209.93723727,
          9640.60798333,
          464.133424144,
          39.5109154411,
          138.142401412,
          8355.35784243,
          4494.65060241,
          482.688387673,
          1548.10466967,
          984.050042238,
          968.127261355,
          584.52990568,
          3661.64610383,
          9294.74696936,
          192.583707412,
          15330.5257622,
          2529.90688782,
          6286.05053624,
          6703.2741974,
          180.798387524,
          4159.13722525,
          8706.57906694,
          7137.82417515,
          494.95631451,
          494.95631451,
          6054.374438100001,
          424.0390482,
          535.010610636,
          535.010610636,
          535.010610636,
          90.5462229164,
          15257.9357532,
          1576.21925339,
          2062.53791896,
          80.1261904411,
          2074.86945842,
          102.879016653,
          5668.85110673,
          1159.98865537,
          2349.87907444,
          2259.87421358,
          3528.92482909,
          6102.41307496,
          2504.19758003,
          2413.35429299,
          1664.02411791,
          738.471950937,
          2816.33464558,
          207.132309622,
          651.8730832,
          700.642316871
         ],
         "xaxis": "x",
         "y": [
          76.4702926829,
          72.8983658537,
          49.43573170729999,
          69.2070082278,
          75.0090487805,
          73.7646585366,
          69.7565121951,
          68.85997560979999,
          70.2034146341,
          79.78292682930001,
          57.867390243900005,
          64.6941219512,
          75.3714878049,
          59.0745609756,
          72.4148292683,
          76.6755609756,
          72.6634146341,
          64.5523414634,
          52.4791463415,
          74.2523833325,
          79.3135365854,
          74.3404390244,
          72.7055121951,
          55.0644146341,
          55.8013170732,
          78.33031707319999,
          48.7788292683,
          75.7056097561,
          78.44919512199999,
          75.3634146341,
          78.8685121951,
          76.7243902439,
          78.1951219512,
          72.1313170732,
          66.7168411826,
          73.5846595367,
          72.6919270432,
          72.6378120561,
          74.4950243902,
          69.78229268289999,
          70.7804634146,
          59.6694146341,
          72.8146341463,
          58.408,
          80.0997517287,
          74.92140241220001,
          69.9944489801,
          69.42256412520001,
          78.9682102701,
          59.20782178140001,
          60.3927804878,
          73.4210243902,
          79.53414634149999,
          59.6358536585,
          79.4390243902,
          70.1107804878,
          59.9773902439,
          56.5766165423,
          79.2386203249,
          71.8587317073,
          82.3268292683,
          73.1512195122,
          70.1729440238,
          67.75917164170001,
          61.2853204195,
          60.089105590200006,
          60.51656342770001,
          65.30043902439999,
          67.5677317073,
          72.674195122,
          68.19902439020001,
          79.6414634146,
          80.5048780488,
          81.4341463415,
          74.0092926829,
          82.5070731707,
          72.9611707317,
          66.5048780488,
          55.6992926829,
          68.376195122,
          79.3495121951,
          69.1975609756,
          67.8951219512,
          73.472904211,
          73.3790228456,
          73.1580129361,
          73.2400064382,
          71.0195121951,
          59.6277315593,
          77.615902439,
          71.7386341463,
          70.9,
          67.68854263829999,
          65.05949547590001,
          79.3829268293,
          74.3229512195,
          73.81826829270001,
          72.5707317073,
          75.5879268293,
          71.4108904527,
          70.8462057183,
          70.8562142383,
          68.7989256332,
          68.20990243899999,
          66.06817073170001,
          74.04063414630001,
          71.2776341463,
          51.622097561,
          64.0936829268,
          58.780804878000005,
          66.5519268293,
          80.0975609756,
          80.1512195122,
          72.5716585366,
          55.4550243902,
          49.8081463415,
          78.7760227899,
          75.1236097561,
          64.3387317073,
          76.3144634146,
          71.6948292683,
          72.9969512195,
          67.47902439020001,
          75.243902439,
          79.0261899061,
          54.4851307308,
          77.28685365850001,
          72.5658536585,
          67.49756097560001,
          73.34507317069999,
          61.7841707317,
          73.6317073171,
          80.4414634146,
          78.5609756098,
          65.5485167218,
          65.5485167218,
          80.8731707317,
          74.1941219512,
          54.1785518165,
          54.1785518165,
          54.1765429979,
          60.7008780488,
          80.9,
          74.2460731707,
          67.2074878049,
          58.0777804878,
          72.87443902439999,
          55.4334390244,
          69.2596585366,
          74.2024390244,
          73.1770731707,
          64.6388292683,
          68.222195122,
          79.4487804878,
          72.7812540165,
          75.9510243902,
          67.5312195122,
          74.48385365850001,
          69.6418542733,
          61.954804878,
          52.4771463415,
          44.1777560976
         ],
         "yaxis": "y"
        },
        {
         "hovertemplate": "<b>%{hovertext}</b><br><br>color=1<br>Electric power consumption (kWh per capita)=%{x}<br>Life expectancy at birth, total (years)=%{y}<extra></extra>",
         "hovertext": [
          "Australia",
          "Austria",
          "Bahrain",
          "Canada",
          "Finland",
          "France",
          "Iceland",
          "Kuwait",
          "Malta",
          "North America",
          "Norway",
          "Portugal",
          "Slovak Republic",
          "South Africa",
          "Switzerland",
          "United Arab Emirates",
          "United States",
          "Venezuela, RB"
         ],
         "legendgroup": "1",
         "marker": {
          "color": "#EF553B",
          "symbol": "circle"
         },
         "mode": "markers",
         "name": "1",
         "orientation": "v",
         "showlegend": true,
         "type": "scatter",
         "x": [
          10972.8917398,
          8185.53509878,
          20779.9191091,
          16771.0778253,
          17161.2412833,
          7519.06208034,
          36852.5448862,
          16860.5340522,
          4873.08346692,
          13963.929363100002,
          24855.000464,
          4890.56018782,
          5272.37078254,
          4903.90505495,
          8163.29557601,
          11754.3801268,
          13657.449508500002,
          2973.00472678
         ],
         "xaxis": "x",
         "y": [
          81.2926829268,
          80.1804878049,
          75.7077560976,
          80.6343902439,
          79.2634146341,
          81.112195122,
          81.4536585366,
          73.81,
          79.7926829268,
          78.2484460493,
          80.3951219512,
          78.3219512195,
          74.2073170732,
          51.9965121951,
          81.7414634146,
          76.1111707317,
          77.987804878,
          73.38890243899999
         ],
         "yaxis": "y"
        }
       ],
       "layout": {
        "legend": {
         "title": {
          "text": "color"
         },
         "tracegroupgap": 0
        },
        "margin": {
         "t": 60
        },
        "template": {
         "data": {
          "bar": [
           {
            "error_x": {
             "color": "#2a3f5f"
            },
            "error_y": {
             "color": "#2a3f5f"
            },
            "marker": {
             "line": {
              "color": "#E5ECF6",
              "width": 0.5
             },
             "pattern": {
              "fillmode": "overlay",
              "size": 10,
              "solidity": 0.2
             }
            },
            "type": "bar"
           }
          ],
          "barpolar": [
           {
            "marker": {
             "line": {
              "color": "#E5ECF6",
              "width": 0.5
             },
             "pattern": {
              "fillmode": "overlay",
              "size": 10,
              "solidity": 0.2
             }
            },
            "type": "barpolar"
           }
          ],
          "carpet": [
           {
            "aaxis": {
             "endlinecolor": "#2a3f5f",
             "gridcolor": "white",
             "linecolor": "white",
             "minorgridcolor": "white",
             "startlinecolor": "#2a3f5f"
            },
            "baxis": {
             "endlinecolor": "#2a3f5f",
             "gridcolor": "white",
             "linecolor": "white",
             "minorgridcolor": "white",
             "startlinecolor": "#2a3f5f"
            },
            "type": "carpet"
           }
          ],
          "choropleth": [
           {
            "colorbar": {
             "outlinewidth": 0,
             "ticks": ""
            },
            "type": "choropleth"
           }
          ],
          "contour": [
           {
            "colorbar": {
             "outlinewidth": 0,
             "ticks": ""
            },
            "colorscale": [
             [
              0,
              "#0d0887"
             ],
             [
              0.1111111111111111,
              "#46039f"
             ],
             [
              0.2222222222222222,
              "#7201a8"
             ],
             [
              0.3333333333333333,
              "#9c179e"
             ],
             [
              0.4444444444444444,
              "#bd3786"
             ],
             [
              0.5555555555555556,
              "#d8576b"
             ],
             [
              0.6666666666666666,
              "#ed7953"
             ],
             [
              0.7777777777777778,
              "#fb9f3a"
             ],
             [
              0.8888888888888888,
              "#fdca26"
             ],
             [
              1,
              "#f0f921"
             ]
            ],
            "type": "contour"
           }
          ],
          "contourcarpet": [
           {
            "colorbar": {
             "outlinewidth": 0,
             "ticks": ""
            },
            "type": "contourcarpet"
           }
          ],
          "heatmap": [
           {
            "colorbar": {
             "outlinewidth": 0,
             "ticks": ""
            },
            "colorscale": [
             [
              0,
              "#0d0887"
             ],
             [
              0.1111111111111111,
              "#46039f"
             ],
             [
              0.2222222222222222,
              "#7201a8"
             ],
             [
              0.3333333333333333,
              "#9c179e"
             ],
             [
              0.4444444444444444,
              "#bd3786"
             ],
             [
              0.5555555555555556,
              "#d8576b"
             ],
             [
              0.6666666666666666,
              "#ed7953"
             ],
             [
              0.7777777777777778,
              "#fb9f3a"
             ],
             [
              0.8888888888888888,
              "#fdca26"
             ],
             [
              1,
              "#f0f921"
             ]
            ],
            "type": "heatmap"
           }
          ],
          "heatmapgl": [
           {
            "colorbar": {
             "outlinewidth": 0,
             "ticks": ""
            },
            "colorscale": [
             [
              0,
              "#0d0887"
             ],
             [
              0.1111111111111111,
              "#46039f"
             ],
             [
              0.2222222222222222,
              "#7201a8"
             ],
             [
              0.3333333333333333,
              "#9c179e"
             ],
             [
              0.4444444444444444,
              "#bd3786"
             ],
             [
              0.5555555555555556,
              "#d8576b"
             ],
             [
              0.6666666666666666,
              "#ed7953"
             ],
             [
              0.7777777777777778,
              "#fb9f3a"
             ],
             [
              0.8888888888888888,
              "#fdca26"
             ],
             [
              1,
              "#f0f921"
             ]
            ],
            "type": "heatmapgl"
           }
          ],
          "histogram": [
           {
            "marker": {
             "pattern": {
              "fillmode": "overlay",
              "size": 10,
              "solidity": 0.2
             }
            },
            "type": "histogram"
           }
          ],
          "histogram2d": [
           {
            "colorbar": {
             "outlinewidth": 0,
             "ticks": ""
            },
            "colorscale": [
             [
              0,
              "#0d0887"
             ],
             [
              0.1111111111111111,
              "#46039f"
             ],
             [
              0.2222222222222222,
              "#7201a8"
             ],
             [
              0.3333333333333333,
              "#9c179e"
             ],
             [
              0.4444444444444444,
              "#bd3786"
             ],
             [
              0.5555555555555556,
              "#d8576b"
             ],
             [
              0.6666666666666666,
              "#ed7953"
             ],
             [
              0.7777777777777778,
              "#fb9f3a"
             ],
             [
              0.8888888888888888,
              "#fdca26"
             ],
             [
              1,
              "#f0f921"
             ]
            ],
            "type": "histogram2d"
           }
          ],
          "histogram2dcontour": [
           {
            "colorbar": {
             "outlinewidth": 0,
             "ticks": ""
            },
            "colorscale": [
             [
              0,
              "#0d0887"
             ],
             [
              0.1111111111111111,
              "#46039f"
             ],
             [
              0.2222222222222222,
              "#7201a8"
             ],
             [
              0.3333333333333333,
              "#9c179e"
             ],
             [
              0.4444444444444444,
              "#bd3786"
             ],
             [
              0.5555555555555556,
              "#d8576b"
             ],
             [
              0.6666666666666666,
              "#ed7953"
             ],
             [
              0.7777777777777778,
              "#fb9f3a"
             ],
             [
              0.8888888888888888,
              "#fdca26"
             ],
             [
              1,
              "#f0f921"
             ]
            ],
            "type": "histogram2dcontour"
           }
          ],
          "mesh3d": [
           {
            "colorbar": {
             "outlinewidth": 0,
             "ticks": ""
            },
            "type": "mesh3d"
           }
          ],
          "parcoords": [
           {
            "line": {
             "colorbar": {
              "outlinewidth": 0,
              "ticks": ""
             }
            },
            "type": "parcoords"
           }
          ],
          "pie": [
           {
            "automargin": true,
            "type": "pie"
           }
          ],
          "scatter": [
           {
            "fillpattern": {
             "fillmode": "overlay",
             "size": 10,
             "solidity": 0.2
            },
            "type": "scatter"
           }
          ],
          "scatter3d": [
           {
            "line": {
             "colorbar": {
              "outlinewidth": 0,
              "ticks": ""
             }
            },
            "marker": {
             "colorbar": {
              "outlinewidth": 0,
              "ticks": ""
             }
            },
            "type": "scatter3d"
           }
          ],
          "scattercarpet": [
           {
            "marker": {
             "colorbar": {
              "outlinewidth": 0,
              "ticks": ""
             }
            },
            "type": "scattercarpet"
           }
          ],
          "scattergeo": [
           {
            "marker": {
             "colorbar": {
              "outlinewidth": 0,
              "ticks": ""
             }
            },
            "type": "scattergeo"
           }
          ],
          "scattergl": [
           {
            "marker": {
             "colorbar": {
              "outlinewidth": 0,
              "ticks": ""
             }
            },
            "type": "scattergl"
           }
          ],
          "scattermapbox": [
           {
            "marker": {
             "colorbar": {
              "outlinewidth": 0,
              "ticks": ""
             }
            },
            "type": "scattermapbox"
           }
          ],
          "scatterpolar": [
           {
            "marker": {
             "colorbar": {
              "outlinewidth": 0,
              "ticks": ""
             }
            },
            "type": "scatterpolar"
           }
          ],
          "scatterpolargl": [
           {
            "marker": {
             "colorbar": {
              "outlinewidth": 0,
              "ticks": ""
             }
            },
            "type": "scatterpolargl"
           }
          ],
          "scatterternary": [
           {
            "marker": {
             "colorbar": {
              "outlinewidth": 0,
              "ticks": ""
             }
            },
            "type": "scatterternary"
           }
          ],
          "surface": [
           {
            "colorbar": {
             "outlinewidth": 0,
             "ticks": ""
            },
            "colorscale": [
             [
              0,
              "#0d0887"
             ],
             [
              0.1111111111111111,
              "#46039f"
             ],
             [
              0.2222222222222222,
              "#7201a8"
             ],
             [
              0.3333333333333333,
              "#9c179e"
             ],
             [
              0.4444444444444444,
              "#bd3786"
             ],
             [
              0.5555555555555556,
              "#d8576b"
             ],
             [
              0.6666666666666666,
              "#ed7953"
             ],
             [
              0.7777777777777778,
              "#fb9f3a"
             ],
             [
              0.8888888888888888,
              "#fdca26"
             ],
             [
              1,
              "#f0f921"
             ]
            ],
            "type": "surface"
           }
          ],
          "table": [
           {
            "cells": {
             "fill": {
              "color": "#EBF0F8"
             },
             "line": {
              "color": "white"
             }
            },
            "header": {
             "fill": {
              "color": "#C8D4E3"
             },
             "line": {
              "color": "white"
             }
            },
            "type": "table"
           }
          ]
         },
         "layout": {
          "annotationdefaults": {
           "arrowcolor": "#2a3f5f",
           "arrowhead": 0,
           "arrowwidth": 1
          },
          "autotypenumbers": "strict",
          "coloraxis": {
           "colorbar": {
            "outlinewidth": 0,
            "ticks": ""
           }
          },
          "colorscale": {
           "diverging": [
            [
             0,
             "#8e0152"
            ],
            [
             0.1,
             "#c51b7d"
            ],
            [
             0.2,
             "#de77ae"
            ],
            [
             0.3,
             "#f1b6da"
            ],
            [
             0.4,
             "#fde0ef"
            ],
            [
             0.5,
             "#f7f7f7"
            ],
            [
             0.6,
             "#e6f5d0"
            ],
            [
             0.7,
             "#b8e186"
            ],
            [
             0.8,
             "#7fbc41"
            ],
            [
             0.9,
             "#4d9221"
            ],
            [
             1,
             "#276419"
            ]
           ],
           "sequential": [
            [
             0,
             "#0d0887"
            ],
            [
             0.1111111111111111,
             "#46039f"
            ],
            [
             0.2222222222222222,
             "#7201a8"
            ],
            [
             0.3333333333333333,
             "#9c179e"
            ],
            [
             0.4444444444444444,
             "#bd3786"
            ],
            [
             0.5555555555555556,
             "#d8576b"
            ],
            [
             0.6666666666666666,
             "#ed7953"
            ],
            [
             0.7777777777777778,
             "#fb9f3a"
            ],
            [
             0.8888888888888888,
             "#fdca26"
            ],
            [
             1,
             "#f0f921"
            ]
           ],
           "sequentialminus": [
            [
             0,
             "#0d0887"
            ],
            [
             0.1111111111111111,
             "#46039f"
            ],
            [
             0.2222222222222222,
             "#7201a8"
            ],
            [
             0.3333333333333333,
             "#9c179e"
            ],
            [
             0.4444444444444444,
             "#bd3786"
            ],
            [
             0.5555555555555556,
             "#d8576b"
            ],
            [
             0.6666666666666666,
             "#ed7953"
            ],
            [
             0.7777777777777778,
             "#fb9f3a"
            ],
            [
             0.8888888888888888,
             "#fdca26"
            ],
            [
             1,
             "#f0f921"
            ]
           ]
          },
          "colorway": [
           "#636efa",
           "#EF553B",
           "#00cc96",
           "#ab63fa",
           "#FFA15A",
           "#19d3f3",
           "#FF6692",
           "#B6E880",
           "#FF97FF",
           "#FECB52"
          ],
          "font": {
           "color": "#2a3f5f"
          },
          "geo": {
           "bgcolor": "white",
           "lakecolor": "white",
           "landcolor": "#E5ECF6",
           "showlakes": true,
           "showland": true,
           "subunitcolor": "white"
          },
          "hoverlabel": {
           "align": "left"
          },
          "hovermode": "closest",
          "mapbox": {
           "style": "light"
          },
          "paper_bgcolor": "white",
          "plot_bgcolor": "#E5ECF6",
          "polar": {
           "angularaxis": {
            "gridcolor": "white",
            "linecolor": "white",
            "ticks": ""
           },
           "bgcolor": "#E5ECF6",
           "radialaxis": {
            "gridcolor": "white",
            "linecolor": "white",
            "ticks": ""
           }
          },
          "scene": {
           "xaxis": {
            "backgroundcolor": "#E5ECF6",
            "gridcolor": "white",
            "gridwidth": 2,
            "linecolor": "white",
            "showbackground": true,
            "ticks": "",
            "zerolinecolor": "white"
           },
           "yaxis": {
            "backgroundcolor": "#E5ECF6",
            "gridcolor": "white",
            "gridwidth": 2,
            "linecolor": "white",
            "showbackground": true,
            "ticks": "",
            "zerolinecolor": "white"
           },
           "zaxis": {
            "backgroundcolor": "#E5ECF6",
            "gridcolor": "white",
            "gridwidth": 2,
            "linecolor": "white",
            "showbackground": true,
            "ticks": "",
            "zerolinecolor": "white"
           }
          },
          "shapedefaults": {
           "line": {
            "color": "#2a3f5f"
           }
          },
          "ternary": {
           "aaxis": {
            "gridcolor": "white",
            "linecolor": "white",
            "ticks": ""
           },
           "baxis": {
            "gridcolor": "white",
            "linecolor": "white",
            "ticks": ""
           },
           "bgcolor": "#E5ECF6",
           "caxis": {
            "gridcolor": "white",
            "linecolor": "white",
            "ticks": ""
           }
          },
          "title": {
           "x": 0.05
          },
          "xaxis": {
           "automargin": true,
           "gridcolor": "white",
           "linecolor": "white",
           "ticks": "",
           "title": {
            "standoff": 15
           },
           "zerolinecolor": "white",
           "zerolinewidth": 2
          },
          "yaxis": {
           "automargin": true,
           "gridcolor": "white",
           "linecolor": "white",
           "ticks": "",
           "title": {
            "standoff": 15
           },
           "zerolinecolor": "white",
           "zerolinewidth": 2
          }
         }
        },
        "xaxis": {
         "anchor": "y",
         "domain": [
          0,
          1
         ],
         "title": {
          "text": "Electric power consumption (kWh per capita)"
         }
        },
        "yaxis": {
         "anchor": "x",
         "domain": [
          0,
          1
         ],
         "title": {
          "text": "Life expectancy at birth, total (years)"
         }
        }
       }
      },
      "text/html": [
       "<div>                            <div id=\"f0c70f96-0def-43fb-a74d-85a4fea61718\" class=\"plotly-graph-div\" style=\"height:525px; width:100%;\"></div>            <script type=\"text/javascript\">                require([\"plotly\"], function(Plotly) {                    window.PLOTLYENV=window.PLOTLYENV || {};                                    if (document.getElementById(\"f0c70f96-0def-43fb-a74d-85a4fea61718\")) {                    Plotly.newPlot(                        \"f0c70f96-0def-43fb-a74d-85a4fea61718\",                        [{\"hovertemplate\":\"<b>%{hovertext}</b><br><br>color=0<br>Electric power consumption (kWh per capita)=%{x}<br>Life expectancy at birth, total (years)=%{y}<extra></extra>\",\"hovertext\":[\"Albania\",\"Algeria\",\"Angola\",\"Arab World\",\"Argentina\",\"Armenia\",\"Azerbaijan\",\"Bangladesh\",\"Belarus\",\"Belgium\",\"Benin\",\"Bolivia\",\"Bosnia and Herzegovina\",\"Botswana\",\"Brazil\",\"Brunei Darussalam\",\"Bulgaria\",\"Cambodia\",\"Cameroon\",\"Central Europe and the Baltics\",\"Chile\",\"China\",\"Colombia\",\"Congo, Dem. Rep.\",\"Congo, Rep.\",\"Costa Rica\",\"Cote d'Ivoire\",\"Croatia\",\"Cuba\",\"Curacao\",\"Cyprus\",\"Czech Republic\",\"Denmark\",\"Dominican Republic\",\"Early-demographic dividend\",\"East Asia & Pacific\",\"East Asia & Pacific (IDA & IBRD countries)\",\"East Asia & Pacific (excluding high income)\",\"Ecuador\",\"Egypt, Arab Rep.\",\"El Salvador\",\"Eritrea\",\"Estonia\",\"Ethiopia\",\"Euro area\",\"Europe & Central Asia\",\"Europe & Central Asia (IDA & IBRD countries)\",\"Europe & Central Asia (excluding high income)\",\"European Union\",\"Fragile and conflict affected situations\",\"Gabon\",\"Georgia\",\"Germany\",\"Ghana\",\"Greece\",\"Guatemala\",\"Haiti\",\"Heavily indebted poor countries (HIPC)\",\"High income\",\"Honduras\",\"Hong Kong SAR, China\",\"Hungary\",\"IBRD only\",\"IDA & IBRD total\",\"IDA blend\",\"IDA only\",\"IDA total\",\"India\",\"Indonesia\",\"Iran, Islamic Rep.\",\"Iraq\",\"Ireland\",\"Israel\",\"Italy\",\"Jamaica\",\"Japan\",\"Jordan\",\"Kazakhstan\",\"Kenya\",\"Korea, Dem. People\\ufffds Rep.\",\"Korea, Rep.\",\"Kosovo\",\"Kyrgyz Republic\",\"Late-demographic dividend\",\"Latin America & Caribbean\",\"Latin America & Caribbean (excluding high income)\",\"Latin America & the Caribbean (IDA & IBRD countries)\",\"Latvia\",\"Least developed countries: UN classification\",\"Lebanon\",\"Libya\",\"Lithuania\",\"Low & middle income\",\"Lower middle income\",\"Luxembourg\",\"Macedonia, FYR\",\"Malaysia\",\"Mauritius\",\"Mexico\",\"Middle East & North Africa\",\"Middle East & North Africa (IDA & IBRD countries)\",\"Middle East & North Africa (excluding high income)\",\"Middle income\",\"Moldova\",\"Mongolia\",\"Montenegro\",\"Morocco\",\"Mozambique\",\"Myanmar\",\"Namibia\",\"Nepal\",\"Netherlands\",\"New Zealand\",\"Nicaragua\",\"Niger\",\"Nigeria\",\"OECD members\",\"Oman\",\"Pakistan\",\"Panama\",\"Paraguay\",\"Peru\",\"Philippines\",\"Poland\",\"Post-demographic dividend\",\"Pre-demographic dividend\",\"Qatar\",\"Romania\",\"Russian Federation\",\"Saudi Arabia\",\"Senegal\",\"Serbia\",\"Singapore\",\"Slovenia\",\"South Asia\",\"South Asia (IDA & IBRD)\",\"Spain\",\"Sri Lanka\",\"Sub-Saharan Africa\",\"Sub-Saharan Africa (IDA & IBRD countries)\",\"Sub-Saharan Africa (excluding high income)\",\"Sudan\",\"Sweden\",\"Syrian Arab Republic\",\"Tajikistan\",\"Tanzania\",\"Thailand\",\"Togo\",\"Trinidad and Tobago\",\"Tunisia\",\"Turkey\",\"Turkmenistan\",\"Ukraine\",\"United Kingdom\",\"Upper middle income\",\"Uruguay\",\"Uzbekistan\",\"Vietnam\",\"World\",\"Yemen, Rep.\",\"Zambia\",\"Zimbabwe\"],\"legendgroup\":\"0\",\"marker\":{\"color\":\"#636efa\",\"symbol\":\"circle\"},\"mode\":\"markers\",\"name\":\"0\",\"orientation\":\"v\",\"showlegend\":true,\"x\":[1213.12436932,891.80508617,145.225891681,1992.42164476,2438.00941924,1740.22636998,2118.21052754,200.576171989,3394.24686192,8614.49128057,77.4033184893,545.359298466,2334.38130953,1491.37679617,2137.76499203,8625.77745494,4523.32287831,100.22798954,249.133823599,3979.83855309,3353.15571849,2330.25946877,974.385215955,102.816292338,130.797582667,1900.69035912,190.16897947900003,3737.60144274,1298.64801118,7323.54084523,4379.89163155,6518.2174127,6668.39026645,1335.39049966,926.601707152,2634.37235259,1882.97207916,1868.67066742,958.925777864,1436.07409837,899.7038961889999,55.6022185512,6277.41146284,39.4600363784,6864.44846513,5551.70264761,3994.62463062,4029.71565329,6368.82825611,442.464377117,1000.06801295,1730.52425282,7229.08991295,245.960134749,5701.33085359,539.657936882,25.32186497,167.024487255,9351.93639152,695.007399348,5907.34930526,3976.51897715,1785.38914963,1467.44332868,496.530893166,231.497382472,341.511106642,543.356622439,546.335479481,2294.92510679,767.9550659739999,6218.76805832,7003.24508015,5804.32596357,2003.39457821,8474.37910641,1938.38828327,4487.28613027,144.883805711,751.5362199110001,8477.17910322,2395.86386093,1456.22959532,2556.69391239,1825.81997774,1765.84955048,1835.04594108,3169.0772954,142.63412844799998,2796.77076515,3765.66562431,3564.20678527,1438.79257073,588.381681476,16352.321804700005,3646.2423474,3271.6428774,1816.67110347,1905.7468004,2336.21137313,1427.94811341,1427.94811341,1520.33959572,1996.41590088,1333.31996285,6564.64379947,720.8012609069999,445.713854836,87.55628879209999,1547.15832667,88.7060235188,7209.93723727,9640.60798333,464.133424144,39.5109154411,138.142401412,8355.35784243,4494.65060241,482.688387673,1548.10466967,984.050042238,968.127261355,584.52990568,3661.64610383,9294.74696936,192.583707412,15330.5257622,2529.90688782,6286.05053624,6703.2741974,180.798387524,4159.13722525,8706.57906694,7137.82417515,494.95631451,494.95631451,6054.374438100001,424.0390482,535.010610636,535.010610636,535.010610636,90.5462229164,15257.9357532,1576.21925339,2062.53791896,80.1261904411,2074.86945842,102.879016653,5668.85110673,1159.98865537,2349.87907444,2259.87421358,3528.92482909,6102.41307496,2504.19758003,2413.35429299,1664.02411791,738.471950937,2816.33464558,207.132309622,651.8730832,700.642316871],\"xaxis\":\"x\",\"y\":[76.4702926829,72.8983658537,49.43573170729999,69.2070082278,75.0090487805,73.7646585366,69.7565121951,68.85997560979999,70.2034146341,79.78292682930001,57.867390243900005,64.6941219512,75.3714878049,59.0745609756,72.4148292683,76.6755609756,72.6634146341,64.5523414634,52.4791463415,74.2523833325,79.3135365854,74.3404390244,72.7055121951,55.0644146341,55.8013170732,78.33031707319999,48.7788292683,75.7056097561,78.44919512199999,75.3634146341,78.8685121951,76.7243902439,78.1951219512,72.1313170732,66.7168411826,73.5846595367,72.6919270432,72.6378120561,74.4950243902,69.78229268289999,70.7804634146,59.6694146341,72.8146341463,58.408,80.0997517287,74.92140241220001,69.9944489801,69.42256412520001,78.9682102701,59.20782178140001,60.3927804878,73.4210243902,79.53414634149999,59.6358536585,79.4390243902,70.1107804878,59.9773902439,56.5766165423,79.2386203249,71.8587317073,82.3268292683,73.1512195122,70.1729440238,67.75917164170001,61.2853204195,60.089105590200006,60.51656342770001,65.30043902439999,67.5677317073,72.674195122,68.19902439020001,79.6414634146,80.5048780488,81.4341463415,74.0092926829,82.5070731707,72.9611707317,66.5048780488,55.6992926829,68.376195122,79.3495121951,69.1975609756,67.8951219512,73.472904211,73.3790228456,73.1580129361,73.2400064382,71.0195121951,59.6277315593,77.615902439,71.7386341463,70.9,67.68854263829999,65.05949547590001,79.3829268293,74.3229512195,73.81826829270001,72.5707317073,75.5879268293,71.4108904527,70.8462057183,70.8562142383,68.7989256332,68.20990243899999,66.06817073170001,74.04063414630001,71.2776341463,51.622097561,64.0936829268,58.780804878000005,66.5519268293,80.0975609756,80.1512195122,72.5716585366,55.4550243902,49.8081463415,78.7760227899,75.1236097561,64.3387317073,76.3144634146,71.6948292683,72.9969512195,67.47902439020001,75.243902439,79.0261899061,54.4851307308,77.28685365850001,72.5658536585,67.49756097560001,73.34507317069999,61.7841707317,73.6317073171,80.4414634146,78.5609756098,65.5485167218,65.5485167218,80.8731707317,74.1941219512,54.1785518165,54.1785518165,54.1765429979,60.7008780488,80.9,74.2460731707,67.2074878049,58.0777804878,72.87443902439999,55.4334390244,69.2596585366,74.2024390244,73.1770731707,64.6388292683,68.222195122,79.4487804878,72.7812540165,75.9510243902,67.5312195122,74.48385365850001,69.6418542733,61.954804878,52.4771463415,44.1777560976],\"yaxis\":\"y\",\"type\":\"scatter\"},{\"hovertemplate\":\"<b>%{hovertext}</b><br><br>color=1<br>Electric power consumption (kWh per capita)=%{x}<br>Life expectancy at birth, total (years)=%{y}<extra></extra>\",\"hovertext\":[\"Australia\",\"Austria\",\"Bahrain\",\"Canada\",\"Finland\",\"France\",\"Iceland\",\"Kuwait\",\"Malta\",\"North America\",\"Norway\",\"Portugal\",\"Slovak Republic\",\"South Africa\",\"Switzerland\",\"United Arab Emirates\",\"United States\",\"Venezuela, RB\"],\"legendgroup\":\"1\",\"marker\":{\"color\":\"#EF553B\",\"symbol\":\"circle\"},\"mode\":\"markers\",\"name\":\"1\",\"orientation\":\"v\",\"showlegend\":true,\"x\":[10972.8917398,8185.53509878,20779.9191091,16771.0778253,17161.2412833,7519.06208034,36852.5448862,16860.5340522,4873.08346692,13963.929363100002,24855.000464,4890.56018782,5272.37078254,4903.90505495,8163.29557601,11754.3801268,13657.449508500002,2973.00472678],\"xaxis\":\"x\",\"y\":[81.2926829268,80.1804878049,75.7077560976,80.6343902439,79.2634146341,81.112195122,81.4536585366,73.81,79.7926829268,78.2484460493,80.3951219512,78.3219512195,74.2073170732,51.9965121951,81.7414634146,76.1111707317,77.987804878,73.38890243899999],\"yaxis\":\"y\",\"type\":\"scatter\"}],                        {\"template\":{\"data\":{\"histogram2dcontour\":[{\"type\":\"histogram2dcontour\",\"colorbar\":{\"outlinewidth\":0,\"ticks\":\"\"},\"colorscale\":[[0.0,\"#0d0887\"],[0.1111111111111111,\"#46039f\"],[0.2222222222222222,\"#7201a8\"],[0.3333333333333333,\"#9c179e\"],[0.4444444444444444,\"#bd3786\"],[0.5555555555555556,\"#d8576b\"],[0.6666666666666666,\"#ed7953\"],[0.7777777777777778,\"#fb9f3a\"],[0.8888888888888888,\"#fdca26\"],[1.0,\"#f0f921\"]]}],\"choropleth\":[{\"type\":\"choropleth\",\"colorbar\":{\"outlinewidth\":0,\"ticks\":\"\"}}],\"histogram2d\":[{\"type\":\"histogram2d\",\"colorbar\":{\"outlinewidth\":0,\"ticks\":\"\"},\"colorscale\":[[0.0,\"#0d0887\"],[0.1111111111111111,\"#46039f\"],[0.2222222222222222,\"#7201a8\"],[0.3333333333333333,\"#9c179e\"],[0.4444444444444444,\"#bd3786\"],[0.5555555555555556,\"#d8576b\"],[0.6666666666666666,\"#ed7953\"],[0.7777777777777778,\"#fb9f3a\"],[0.8888888888888888,\"#fdca26\"],[1.0,\"#f0f921\"]]}],\"heatmap\":[{\"type\":\"heatmap\",\"colorbar\":{\"outlinewidth\":0,\"ticks\":\"\"},\"colorscale\":[[0.0,\"#0d0887\"],[0.1111111111111111,\"#46039f\"],[0.2222222222222222,\"#7201a8\"],[0.3333333333333333,\"#9c179e\"],[0.4444444444444444,\"#bd3786\"],[0.5555555555555556,\"#d8576b\"],[0.6666666666666666,\"#ed7953\"],[0.7777777777777778,\"#fb9f3a\"],[0.8888888888888888,\"#fdca26\"],[1.0,\"#f0f921\"]]}],\"heatmapgl\":[{\"type\":\"heatmapgl\",\"colorbar\":{\"outlinewidth\":0,\"ticks\":\"\"},\"colorscale\":[[0.0,\"#0d0887\"],[0.1111111111111111,\"#46039f\"],[0.2222222222222222,\"#7201a8\"],[0.3333333333333333,\"#9c179e\"],[0.4444444444444444,\"#bd3786\"],[0.5555555555555556,\"#d8576b\"],[0.6666666666666666,\"#ed7953\"],[0.7777777777777778,\"#fb9f3a\"],[0.8888888888888888,\"#fdca26\"],[1.0,\"#f0f921\"]]}],\"contourcarpet\":[{\"type\":\"contourcarpet\",\"colorbar\":{\"outlinewidth\":0,\"ticks\":\"\"}}],\"contour\":[{\"type\":\"contour\",\"colorbar\":{\"outlinewidth\":0,\"ticks\":\"\"},\"colorscale\":[[0.0,\"#0d0887\"],[0.1111111111111111,\"#46039f\"],[0.2222222222222222,\"#7201a8\"],[0.3333333333333333,\"#9c179e\"],[0.4444444444444444,\"#bd3786\"],[0.5555555555555556,\"#d8576b\"],[0.6666666666666666,\"#ed7953\"],[0.7777777777777778,\"#fb9f3a\"],[0.8888888888888888,\"#fdca26\"],[1.0,\"#f0f921\"]]}],\"surface\":[{\"type\":\"surface\",\"colorbar\":{\"outlinewidth\":0,\"ticks\":\"\"},\"colorscale\":[[0.0,\"#0d0887\"],[0.1111111111111111,\"#46039f\"],[0.2222222222222222,\"#7201a8\"],[0.3333333333333333,\"#9c179e\"],[0.4444444444444444,\"#bd3786\"],[0.5555555555555556,\"#d8576b\"],[0.6666666666666666,\"#ed7953\"],[0.7777777777777778,\"#fb9f3a\"],[0.8888888888888888,\"#fdca26\"],[1.0,\"#f0f921\"]]}],\"mesh3d\":[{\"type\":\"mesh3d\",\"colorbar\":{\"outlinewidth\":0,\"ticks\":\"\"}}],\"scatter\":[{\"fillpattern\":{\"fillmode\":\"overlay\",\"size\":10,\"solidity\":0.2},\"type\":\"scatter\"}],\"parcoords\":[{\"type\":\"parcoords\",\"line\":{\"colorbar\":{\"outlinewidth\":0,\"ticks\":\"\"}}}],\"scatterpolargl\":[{\"type\":\"scatterpolargl\",\"marker\":{\"colorbar\":{\"outlinewidth\":0,\"ticks\":\"\"}}}],\"bar\":[{\"error_x\":{\"color\":\"#2a3f5f\"},\"error_y\":{\"color\":\"#2a3f5f\"},\"marker\":{\"line\":{\"color\":\"#E5ECF6\",\"width\":0.5},\"pattern\":{\"fillmode\":\"overlay\",\"size\":10,\"solidity\":0.2}},\"type\":\"bar\"}],\"scattergeo\":[{\"type\":\"scattergeo\",\"marker\":{\"colorbar\":{\"outlinewidth\":0,\"ticks\":\"\"}}}],\"scatterpolar\":[{\"type\":\"scatterpolar\",\"marker\":{\"colorbar\":{\"outlinewidth\":0,\"ticks\":\"\"}}}],\"histogram\":[{\"marker\":{\"pattern\":{\"fillmode\":\"overlay\",\"size\":10,\"solidity\":0.2}},\"type\":\"histogram\"}],\"scattergl\":[{\"type\":\"scattergl\",\"marker\":{\"colorbar\":{\"outlinewidth\":0,\"ticks\":\"\"}}}],\"scatter3d\":[{\"type\":\"scatter3d\",\"line\":{\"colorbar\":{\"outlinewidth\":0,\"ticks\":\"\"}},\"marker\":{\"colorbar\":{\"outlinewidth\":0,\"ticks\":\"\"}}}],\"scattermapbox\":[{\"type\":\"scattermapbox\",\"marker\":{\"colorbar\":{\"outlinewidth\":0,\"ticks\":\"\"}}}],\"scatterternary\":[{\"type\":\"scatterternary\",\"marker\":{\"colorbar\":{\"outlinewidth\":0,\"ticks\":\"\"}}}],\"scattercarpet\":[{\"type\":\"scattercarpet\",\"marker\":{\"colorbar\":{\"outlinewidth\":0,\"ticks\":\"\"}}}],\"carpet\":[{\"aaxis\":{\"endlinecolor\":\"#2a3f5f\",\"gridcolor\":\"white\",\"linecolor\":\"white\",\"minorgridcolor\":\"white\",\"startlinecolor\":\"#2a3f5f\"},\"baxis\":{\"endlinecolor\":\"#2a3f5f\",\"gridcolor\":\"white\",\"linecolor\":\"white\",\"minorgridcolor\":\"white\",\"startlinecolor\":\"#2a3f5f\"},\"type\":\"carpet\"}],\"table\":[{\"cells\":{\"fill\":{\"color\":\"#EBF0F8\"},\"line\":{\"color\":\"white\"}},\"header\":{\"fill\":{\"color\":\"#C8D4E3\"},\"line\":{\"color\":\"white\"}},\"type\":\"table\"}],\"barpolar\":[{\"marker\":{\"line\":{\"color\":\"#E5ECF6\",\"width\":0.5},\"pattern\":{\"fillmode\":\"overlay\",\"size\":10,\"solidity\":0.2}},\"type\":\"barpolar\"}],\"pie\":[{\"automargin\":true,\"type\":\"pie\"}]},\"layout\":{\"autotypenumbers\":\"strict\",\"colorway\":[\"#636efa\",\"#EF553B\",\"#00cc96\",\"#ab63fa\",\"#FFA15A\",\"#19d3f3\",\"#FF6692\",\"#B6E880\",\"#FF97FF\",\"#FECB52\"],\"font\":{\"color\":\"#2a3f5f\"},\"hovermode\":\"closest\",\"hoverlabel\":{\"align\":\"left\"},\"paper_bgcolor\":\"white\",\"plot_bgcolor\":\"#E5ECF6\",\"polar\":{\"bgcolor\":\"#E5ECF6\",\"angularaxis\":{\"gridcolor\":\"white\",\"linecolor\":\"white\",\"ticks\":\"\"},\"radialaxis\":{\"gridcolor\":\"white\",\"linecolor\":\"white\",\"ticks\":\"\"}},\"ternary\":{\"bgcolor\":\"#E5ECF6\",\"aaxis\":{\"gridcolor\":\"white\",\"linecolor\":\"white\",\"ticks\":\"\"},\"baxis\":{\"gridcolor\":\"white\",\"linecolor\":\"white\",\"ticks\":\"\"},\"caxis\":{\"gridcolor\":\"white\",\"linecolor\":\"white\",\"ticks\":\"\"}},\"coloraxis\":{\"colorbar\":{\"outlinewidth\":0,\"ticks\":\"\"}},\"colorscale\":{\"sequential\":[[0.0,\"#0d0887\"],[0.1111111111111111,\"#46039f\"],[0.2222222222222222,\"#7201a8\"],[0.3333333333333333,\"#9c179e\"],[0.4444444444444444,\"#bd3786\"],[0.5555555555555556,\"#d8576b\"],[0.6666666666666666,\"#ed7953\"],[0.7777777777777778,\"#fb9f3a\"],[0.8888888888888888,\"#fdca26\"],[1.0,\"#f0f921\"]],\"sequentialminus\":[[0.0,\"#0d0887\"],[0.1111111111111111,\"#46039f\"],[0.2222222222222222,\"#7201a8\"],[0.3333333333333333,\"#9c179e\"],[0.4444444444444444,\"#bd3786\"],[0.5555555555555556,\"#d8576b\"],[0.6666666666666666,\"#ed7953\"],[0.7777777777777778,\"#fb9f3a\"],[0.8888888888888888,\"#fdca26\"],[1.0,\"#f0f921\"]],\"diverging\":[[0,\"#8e0152\"],[0.1,\"#c51b7d\"],[0.2,\"#de77ae\"],[0.3,\"#f1b6da\"],[0.4,\"#fde0ef\"],[0.5,\"#f7f7f7\"],[0.6,\"#e6f5d0\"],[0.7,\"#b8e186\"],[0.8,\"#7fbc41\"],[0.9,\"#4d9221\"],[1,\"#276419\"]]},\"xaxis\":{\"gridcolor\":\"white\",\"linecolor\":\"white\",\"ticks\":\"\",\"title\":{\"standoff\":15},\"zerolinecolor\":\"white\",\"automargin\":true,\"zerolinewidth\":2},\"yaxis\":{\"gridcolor\":\"white\",\"linecolor\":\"white\",\"ticks\":\"\",\"title\":{\"standoff\":15},\"zerolinecolor\":\"white\",\"automargin\":true,\"zerolinewidth\":2},\"scene\":{\"xaxis\":{\"backgroundcolor\":\"#E5ECF6\",\"gridcolor\":\"white\",\"linecolor\":\"white\",\"showbackground\":true,\"ticks\":\"\",\"zerolinecolor\":\"white\",\"gridwidth\":2},\"yaxis\":{\"backgroundcolor\":\"#E5ECF6\",\"gridcolor\":\"white\",\"linecolor\":\"white\",\"showbackground\":true,\"ticks\":\"\",\"zerolinecolor\":\"white\",\"gridwidth\":2},\"zaxis\":{\"backgroundcolor\":\"#E5ECF6\",\"gridcolor\":\"white\",\"linecolor\":\"white\",\"showbackground\":true,\"ticks\":\"\",\"zerolinecolor\":\"white\",\"gridwidth\":2}},\"shapedefaults\":{\"line\":{\"color\":\"#2a3f5f\"}},\"annotationdefaults\":{\"arrowcolor\":\"#2a3f5f\",\"arrowhead\":0,\"arrowwidth\":1},\"geo\":{\"bgcolor\":\"white\",\"landcolor\":\"#E5ECF6\",\"subunitcolor\":\"white\",\"showland\":true,\"showlakes\":true,\"lakecolor\":\"white\"},\"title\":{\"x\":0.05},\"mapbox\":{\"style\":\"light\"}}},\"xaxis\":{\"anchor\":\"y\",\"domain\":[0.0,1.0],\"title\":{\"text\":\"Electric power consumption (kWh per capita)\"}},\"yaxis\":{\"anchor\":\"x\",\"domain\":[0.0,1.0],\"title\":{\"text\":\"Life expectancy at birth, total (years)\"}},\"legend\":{\"title\":{\"text\":\"color\"},\"tracegroupgap\":0},\"margin\":{\"t\":60}},                        {\"responsive\": true}                    ).then(function(){\n",
       "                            \n",
       "var gd = document.getElementById('f0c70f96-0def-43fb-a74d-85a4fea61718');\n",
       "var x = new MutationObserver(function (mutations, observer) {{\n",
       "        var display = window.getComputedStyle(gd).display;\n",
       "        if (!display || display === 'none') {{\n",
       "            console.log([gd, 'removed!']);\n",
       "            Plotly.purge(gd);\n",
       "            observer.disconnect();\n",
       "        }}\n",
       "}});\n",
       "\n",
       "// Listen for the removal of the full notebook cells\n",
       "var notebookContainer = gd.closest('#notebook-container');\n",
       "if (notebookContainer) {{\n",
       "    x.observe(notebookContainer, {childList: true});\n",
       "}}\n",
       "\n",
       "// Listen for the clearing of the current output cell\n",
       "var outputEl = gd.closest('.output');\n",
       "if (outputEl) {{\n",
       "    x.observe(outputEl, {childList: true});\n",
       "}}\n",
       "\n",
       "                        })                };                });            </script>        </div>"
      ]
     },
     "metadata": {},
     "output_type": "display_data"
    }
   ],
   "source": [
    "fig = px.scatter(curr_data,\n",
    "                 x=\"Electric power consumption (kWh per capita)\",\n",
    "                 y=\"Life expectancy at birth, total (years)\",\n",
    "                 color=cblof_outlier_yn,\n",
    "                 hover_name=\"Country Name\"\n",
    "                )\n",
    "\n",
    "fig.show()\n"
   ]
  },
  {
   "cell_type": "code",
   "execution_count": 10,
   "id": "4081117e",
   "metadata": {},
   "outputs": [],
   "source": [
    "#X_train, X_test, y_train, y_test = data_prep_split(df2007, inputs, outputs)"
   ]
  },
  {
   "cell_type": "code",
   "execution_count": null,
   "id": "81b5e514",
   "metadata": {},
   "outputs": [],
   "source": []
  }
 ],
 "metadata": {
  "kernelspec": {
   "display_name": "ipp_env",
   "language": "python",
   "name": "ipp_env"
  },
  "language_info": {
   "codemirror_mode": {
    "name": "ipython",
    "version": 3
   },
   "file_extension": ".py",
   "mimetype": "text/x-python",
   "name": "python",
   "nbconvert_exporter": "python",
   "pygments_lexer": "ipython3",
   "version": "3.8.10"
  }
 },
 "nbformat": 4,
 "nbformat_minor": 5
}
