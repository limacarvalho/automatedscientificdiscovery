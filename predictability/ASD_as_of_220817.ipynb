{
 "cells": [
  {
   "cell_type": "code",
   "execution_count": 1,
   "id": "9aeb7205",
   "metadata": {
    "pycharm": {
     "name": "#%%\n"
    }
   },
   "outputs": [],
   "source": [
    "import pandas as pd\n",
    "import os\n",
    "import numpy as np\n",
    "import plotly.express as px\n",
    "import itertools\n",
    "import matplotlib.pyplot as plt\n",
    "import math\n",
    "import plotly.graph_objects as go\n",
    "import plotly.colors\n",
    "from plotly.subplots import make_subplots        \n",
    "from PIL import ImageColor\n",
    "import pickle\n",
    "import time\n",
    "from scipy.spatial import distance\n",
    "import dcor\n",
    "\n",
    "from sklearn.pipeline import Pipeline, TransformerMixin\n",
    "from sklearn.linear_model import LinearRegression\n",
    "from sklearn.model_selection import train_test_split\n",
    "from sklearn.neural_network import MLPRegressor\n",
    "from sklearn.model_selection import GridSearchCV\n",
    "from sklearn.preprocessing import StandardScaler\n",
    "from sklearn.metrics import mean_squared_error, mean_absolute_percentage_error, r2_score\n",
    "from sklearn.neighbors import LocalOutlierFactor\n"
   ]
  },
  {
   "cell_type": "markdown",
   "id": "77c7537f",
   "metadata": {
    "pycharm": {
     "name": "#%% md\n"
    }
   },
   "source": [
    "# Framework for automated evaluation of column tuples"
   ]
  },
  {
   "cell_type": "markdown",
   "id": "f139138d",
   "metadata": {
    "pycharm": {
     "name": "#%% md\n"
    }
   },
   "source": [
    "The aim is to provide a routine that gets fed a dataframe / csv-file, runs data analysis routines and returns metrics and plots à la\n",
    "\n",
    "`metrics, plot = predictability(df, num_input_columns, num_target_columns, list_of_considered_columns, \"analysis method\")`\n",
    "\n",
    "The metrics we use are \n",
    "\n",
    "| r2  |  RMSE | RMSE/std | MAPE  | RAE  | Distance correlation  |\n",
    "| :-: | :-: | :-: | :-: | :-: | :-: |\n",
    "| $$1-\\frac{\\sum (\\hat{y}-y)^2}{\\sum (\\bar{y}-y)^2}$$ | $$\\sqrt{\\frac{1}{N} \\sum (\\hat{y}-y)^2 }$$ | $$\\frac{1}{\\sigma_y}\\sqrt{\\frac{1}{N} \\sum (\\hat{y}-y)^2 }$$ | $$\\frac{1}{N}\\sum \\frac{\\lvert \\hat{y}-y \\rvert}{\\lvert y\\rvert}$$ | $$\\frac{\\sum \\lvert \\hat{y}-y\\rvert}{\\sum \\lvert \\bar{y}-y\\rvert }$$ |  [cf. documentation](https://dcor.readthedocs.io/en/latest/theory.html)<br/> [cf. paper](https://projecteuclid.org/journals/annals-of-statistics/volume-35/issue-6/Measuring-and-testing-dependence-by-correlation-of-distances/10.1214/009053607000000505.full)<br/> [cf. wiki](https://en.wikipedia.org/wiki/Distance_correlation) |\n",
    "\n",
    "with\n",
    "\n",
    "$y$: observed data<br/>\n",
    "$\\hat{y}$: predicted counterpart of $y$<br/>\n",
    "$N$: number of $y$ and $\\hat{y}$<br/>\n",
    "$\\bar{y}$: average of $y$<br/>\n",
    "$\\sigma_y$: standard deviation of $y$\n"
   ]
  },
  {
   "cell_type": "markdown",
   "id": "fd13fd67",
   "metadata": {
    "pycharm": {
     "name": "#%% md\n"
    }
   },
   "source": [
    "# Open questions"
   ]
  },
  {
   "cell_type": "markdown",
   "id": "ddaad52a",
   "metadata": {
    "pycharm": {
     "name": "#%% md\n"
    }
   },
   "source": [
    "* Should primary keys be considered or do we assume the data(frame) is handed over properly also with respect to fixing possible primary keys?\\\n",
    "In the example of Country Indicators data: Year and Country is not a normal data column. But it also depends on the choice of what we want to investigate whether we drop them or fix one of them.\n",
    "* Should input be possible as dataframe only, or also as csv- / txt-file?\n",
    "* We should also go through all relevant permutations of the data tuples.\\\n",
    "If we have, e.g., four data columns [A, B, C, D] and want to analyse 2-2 connections, it does not suffice to only consider input=[A, B], output=[C, D]. There may well be no causal connection between any of A,B and any of C,D, but instead between C and D. So we need to consider all $\\frac{N!}{I!\\cdot O!}$ many combinations, given $N$ data columns, $I$-many inputs and $O$-many outputs.\n",
    "* Currently, RMSE/std relies on the standard deviation of the test values $y$. One could of course also use the overall available target values – the combined train and test values.\n",
    "* Decision on whether outliers are extracted or not is currently based on *test* score."
   ]
  },
  {
   "cell_type": "markdown",
   "id": "891832e6",
   "metadata": {
    "pycharm": {
     "name": "#%% md\n"
    }
   },
   "source": [
    "### load example data"
   ]
  },
  {
   "cell_type": "code",
   "execution_count": 2,
   "id": "168537be",
   "metadata": {
    "pycharm": {
     "name": "#%%\n"
    }
   },
   "outputs": [],
   "source": [
    "df = pd.read_csv(\"processed_country_indicators.csv\").drop(columns=[\"Unnamed: 0\"])"
   ]
  },
  {
   "cell_type": "code",
   "execution_count": 3,
   "id": "a2123dbf",
   "metadata": {
    "pycharm": {
     "name": "#%%\n"
    }
   },
   "outputs": [
    {
     "data": {
      "text/html": [
       "<div>\n",
       "<style scoped>\n",
       "    .dataframe tbody tr th:only-of-type {\n",
       "        vertical-align: middle;\n",
       "    }\n",
       "\n",
       "    .dataframe tbody tr th {\n",
       "        vertical-align: top;\n",
       "    }\n",
       "\n",
       "    .dataframe thead th {\n",
       "        text-align: right;\n",
       "    }\n",
       "</style>\n",
       "<table border=\"1\" class=\"dataframe\">\n",
       "  <thead>\n",
       "    <tr style=\"text-align: right;\">\n",
       "      <th></th>\n",
       "      <th>Country Name</th>\n",
       "      <th>Year</th>\n",
       "      <th>Agriculture, value added (% of GDP)</th>\n",
       "      <th>CO2 emissions (metric tons per capita)</th>\n",
       "      <th>Domestic credit provided by financial sector (% of GDP)</th>\n",
       "      <th>Electric power consumption (kWh per capita)</th>\n",
       "      <th>Energy use (kg of oil equivalent per capita)</th>\n",
       "      <th>Exports of goods and services (% of GDP)</th>\n",
       "      <th>Fertility rate, total (births per woman)</th>\n",
       "      <th>GDP growth (annual %)</th>\n",
       "      <th>Imports of goods and services (% of GDP)</th>\n",
       "      <th>Industry, value added (% of GDP)</th>\n",
       "      <th>Inflation, GDP deflator (annual %)</th>\n",
       "      <th>Life expectancy at birth, total (years)</th>\n",
       "      <th>Population density (people per sq. km of land area)</th>\n",
       "      <th>Services, etc., value added (% of GDP)</th>\n",
       "    </tr>\n",
       "  </thead>\n",
       "  <tbody>\n",
       "    <tr>\n",
       "      <th>0</th>\n",
       "      <td>Afghanistan</td>\n",
       "      <td>1962</td>\n",
       "      <td>NaN</td>\n",
       "      <td>0.073781</td>\n",
       "      <td>21.276422</td>\n",
       "      <td>NaN</td>\n",
       "      <td>NaN</td>\n",
       "      <td>4.878051</td>\n",
       "      <td>7.450</td>\n",
       "      <td>NaN</td>\n",
       "      <td>9.349593</td>\n",
       "      <td>NaN</td>\n",
       "      <td>NaN</td>\n",
       "      <td>33.219902</td>\n",
       "      <td>14.312061</td>\n",
       "      <td>NaN</td>\n",
       "    </tr>\n",
       "    <tr>\n",
       "      <th>1</th>\n",
       "      <td>Afghanistan</td>\n",
       "      <td>1967</td>\n",
       "      <td>NaN</td>\n",
       "      <td>0.123782</td>\n",
       "      <td>9.917662</td>\n",
       "      <td>NaN</td>\n",
       "      <td>NaN</td>\n",
       "      <td>6.772908</td>\n",
       "      <td>7.450</td>\n",
       "      <td>NaN</td>\n",
       "      <td>14.209827</td>\n",
       "      <td>NaN</td>\n",
       "      <td>NaN</td>\n",
       "      <td>35.389415</td>\n",
       "      <td>15.881812</td>\n",
       "      <td>NaN</td>\n",
       "    </tr>\n",
       "    <tr>\n",
       "      <th>2</th>\n",
       "      <td>Afghanistan</td>\n",
       "      <td>1972</td>\n",
       "      <td>NaN</td>\n",
       "      <td>0.130820</td>\n",
       "      <td>18.880833</td>\n",
       "      <td>NaN</td>\n",
       "      <td>NaN</td>\n",
       "      <td>14.763231</td>\n",
       "      <td>7.450</td>\n",
       "      <td>NaN</td>\n",
       "      <td>18.105850</td>\n",
       "      <td>NaN</td>\n",
       "      <td>NaN</td>\n",
       "      <td>37.610146</td>\n",
       "      <td>17.947027</td>\n",
       "      <td>NaN</td>\n",
       "    </tr>\n",
       "    <tr>\n",
       "      <th>3</th>\n",
       "      <td>Afghanistan</td>\n",
       "      <td>1977</td>\n",
       "      <td>NaN</td>\n",
       "      <td>0.183118</td>\n",
       "      <td>13.836822</td>\n",
       "      <td>NaN</td>\n",
       "      <td>NaN</td>\n",
       "      <td>11.662904</td>\n",
       "      <td>7.449</td>\n",
       "      <td>NaN</td>\n",
       "      <td>14.823175</td>\n",
       "      <td>NaN</td>\n",
       "      <td>NaN</td>\n",
       "      <td>40.110146</td>\n",
       "      <td>19.998926</td>\n",
       "      <td>NaN</td>\n",
       "    </tr>\n",
       "    <tr>\n",
       "      <th>4</th>\n",
       "      <td>Afghanistan</td>\n",
       "      <td>1982</td>\n",
       "      <td>NaN</td>\n",
       "      <td>0.165879</td>\n",
       "      <td>NaN</td>\n",
       "      <td>NaN</td>\n",
       "      <td>NaN</td>\n",
       "      <td>NaN</td>\n",
       "      <td>7.450</td>\n",
       "      <td>NaN</td>\n",
       "      <td>NaN</td>\n",
       "      <td>NaN</td>\n",
       "      <td>NaN</td>\n",
       "      <td>43.230732</td>\n",
       "      <td>19.402324</td>\n",
       "      <td>NaN</td>\n",
       "    </tr>\n",
       "    <tr>\n",
       "      <th>...</th>\n",
       "      <td>...</td>\n",
       "      <td>...</td>\n",
       "      <td>...</td>\n",
       "      <td>...</td>\n",
       "      <td>...</td>\n",
       "      <td>...</td>\n",
       "      <td>...</td>\n",
       "      <td>...</td>\n",
       "      <td>...</td>\n",
       "      <td>...</td>\n",
       "      <td>...</td>\n",
       "      <td>...</td>\n",
       "      <td>...</td>\n",
       "      <td>...</td>\n",
       "      <td>...</td>\n",
       "      <td>...</td>\n",
       "    </tr>\n",
       "    <tr>\n",
       "      <th>2635</th>\n",
       "      <td>Zimbabwe</td>\n",
       "      <td>1987</td>\n",
       "      <td>14.407528</td>\n",
       "      <td>1.598217</td>\n",
       "      <td>74.161607</td>\n",
       "      <td>878.072691</td>\n",
       "      <td>896.673611</td>\n",
       "      <td>24.015710</td>\n",
       "      <td>5.784</td>\n",
       "      <td>1.150737</td>\n",
       "      <td>21.274886</td>\n",
       "      <td>32.451242</td>\n",
       "      <td>7.189361</td>\n",
       "      <td>61.753805</td>\n",
       "      <td>24.649495</td>\n",
       "      <td>53.141236</td>\n",
       "    </tr>\n",
       "    <tr>\n",
       "      <th>2636</th>\n",
       "      <td>Zimbabwe</td>\n",
       "      <td>1992</td>\n",
       "      <td>7.413793</td>\n",
       "      <td>1.533724</td>\n",
       "      <td>43.120518</td>\n",
       "      <td>778.695133</td>\n",
       "      <td>923.493407</td>\n",
       "      <td>27.227263</td>\n",
       "      <td>4.840</td>\n",
       "      <td>-9.015570</td>\n",
       "      <td>36.485231</td>\n",
       "      <td>40.862069</td>\n",
       "      <td>-14.129659</td>\n",
       "      <td>56.491976</td>\n",
       "      <td>28.485762</td>\n",
       "      <td>51.724135</td>\n",
       "    </tr>\n",
       "    <tr>\n",
       "      <th>2637</th>\n",
       "      <td>Zimbabwe</td>\n",
       "      <td>1997</td>\n",
       "      <td>18.934082</td>\n",
       "      <td>1.194678</td>\n",
       "      <td>63.058320</td>\n",
       "      <td>870.988697</td>\n",
       "      <td>804.508892</td>\n",
       "      <td>37.595273</td>\n",
       "      <td>4.237</td>\n",
       "      <td>2.680594</td>\n",
       "      <td>44.609791</td>\n",
       "      <td>25.554678</td>\n",
       "      <td>-2.879048</td>\n",
       "      <td>46.065902</td>\n",
       "      <td>31.174507</td>\n",
       "      <td>55.511236</td>\n",
       "    </tr>\n",
       "    <tr>\n",
       "      <th>2638</th>\n",
       "      <td>Zimbabwe</td>\n",
       "      <td>2002</td>\n",
       "      <td>14.029007</td>\n",
       "      <td>0.942795</td>\n",
       "      <td>164.559047</td>\n",
       "      <td>827.329873</td>\n",
       "      <td>772.676619</td>\n",
       "      <td>31.834799</td>\n",
       "      <td>4.018</td>\n",
       "      <td>-8.894023</td>\n",
       "      <td>34.972553</td>\n",
       "      <td>NaN</td>\n",
       "      <td>2.712950</td>\n",
       "      <td>40.679146</td>\n",
       "      <td>32.807111</td>\n",
       "      <td>NaN</td>\n",
       "    </tr>\n",
       "    <tr>\n",
       "      <th>2639</th>\n",
       "      <td>Zimbabwe</td>\n",
       "      <td>2007</td>\n",
       "      <td>21.597907</td>\n",
       "      <td>0.743449</td>\n",
       "      <td>NaN</td>\n",
       "      <td>700.642317</td>\n",
       "      <td>725.681049</td>\n",
       "      <td>37.785373</td>\n",
       "      <td>4.022</td>\n",
       "      <td>-3.653327</td>\n",
       "      <td>46.387531</td>\n",
       "      <td>33.074953</td>\n",
       "      <td>0.894887</td>\n",
       "      <td>44.177756</td>\n",
       "      <td>34.374559</td>\n",
       "      <td>45.327139</td>\n",
       "    </tr>\n",
       "  </tbody>\n",
       "</table>\n",
       "<p>2640 rows × 16 columns</p>\n",
       "</div>"
      ],
      "text/plain": [
       "     Country Name  Year  Agriculture, value added (% of GDP)  \\\n",
       "0     Afghanistan  1962                                  NaN   \n",
       "1     Afghanistan  1967                                  NaN   \n",
       "2     Afghanistan  1972                                  NaN   \n",
       "3     Afghanistan  1977                                  NaN   \n",
       "4     Afghanistan  1982                                  NaN   \n",
       "...           ...   ...                                  ...   \n",
       "2635     Zimbabwe  1987                            14.407528   \n",
       "2636     Zimbabwe  1992                             7.413793   \n",
       "2637     Zimbabwe  1997                            18.934082   \n",
       "2638     Zimbabwe  2002                            14.029007   \n",
       "2639     Zimbabwe  2007                            21.597907   \n",
       "\n",
       "      CO2 emissions (metric tons per capita)  \\\n",
       "0                                   0.073781   \n",
       "1                                   0.123782   \n",
       "2                                   0.130820   \n",
       "3                                   0.183118   \n",
       "4                                   0.165879   \n",
       "...                                      ...   \n",
       "2635                                1.598217   \n",
       "2636                                1.533724   \n",
       "2637                                1.194678   \n",
       "2638                                0.942795   \n",
       "2639                                0.743449   \n",
       "\n",
       "      Domestic credit provided by financial sector (% of GDP)  \\\n",
       "0                                             21.276422         \n",
       "1                                              9.917662         \n",
       "2                                             18.880833         \n",
       "3                                             13.836822         \n",
       "4                                                   NaN         \n",
       "...                                                 ...         \n",
       "2635                                          74.161607         \n",
       "2636                                          43.120518         \n",
       "2637                                          63.058320         \n",
       "2638                                         164.559047         \n",
       "2639                                                NaN         \n",
       "\n",
       "      Electric power consumption (kWh per capita)  \\\n",
       "0                                             NaN   \n",
       "1                                             NaN   \n",
       "2                                             NaN   \n",
       "3                                             NaN   \n",
       "4                                             NaN   \n",
       "...                                           ...   \n",
       "2635                                   878.072691   \n",
       "2636                                   778.695133   \n",
       "2637                                   870.988697   \n",
       "2638                                   827.329873   \n",
       "2639                                   700.642317   \n",
       "\n",
       "      Energy use (kg of oil equivalent per capita)  \\\n",
       "0                                              NaN   \n",
       "1                                              NaN   \n",
       "2                                              NaN   \n",
       "3                                              NaN   \n",
       "4                                              NaN   \n",
       "...                                            ...   \n",
       "2635                                    896.673611   \n",
       "2636                                    923.493407   \n",
       "2637                                    804.508892   \n",
       "2638                                    772.676619   \n",
       "2639                                    725.681049   \n",
       "\n",
       "      Exports of goods and services (% of GDP)  \\\n",
       "0                                     4.878051   \n",
       "1                                     6.772908   \n",
       "2                                    14.763231   \n",
       "3                                    11.662904   \n",
       "4                                          NaN   \n",
       "...                                        ...   \n",
       "2635                                 24.015710   \n",
       "2636                                 27.227263   \n",
       "2637                                 37.595273   \n",
       "2638                                 31.834799   \n",
       "2639                                 37.785373   \n",
       "\n",
       "      Fertility rate, total (births per woman)  GDP growth (annual %)  \\\n",
       "0                                        7.450                    NaN   \n",
       "1                                        7.450                    NaN   \n",
       "2                                        7.450                    NaN   \n",
       "3                                        7.449                    NaN   \n",
       "4                                        7.450                    NaN   \n",
       "...                                        ...                    ...   \n",
       "2635                                     5.784               1.150737   \n",
       "2636                                     4.840              -9.015570   \n",
       "2637                                     4.237               2.680594   \n",
       "2638                                     4.018              -8.894023   \n",
       "2639                                     4.022              -3.653327   \n",
       "\n",
       "      Imports of goods and services (% of GDP)  \\\n",
       "0                                     9.349593   \n",
       "1                                    14.209827   \n",
       "2                                    18.105850   \n",
       "3                                    14.823175   \n",
       "4                                          NaN   \n",
       "...                                        ...   \n",
       "2635                                 21.274886   \n",
       "2636                                 36.485231   \n",
       "2637                                 44.609791   \n",
       "2638                                 34.972553   \n",
       "2639                                 46.387531   \n",
       "\n",
       "      Industry, value added (% of GDP)  Inflation, GDP deflator (annual %)  \\\n",
       "0                                  NaN                                 NaN   \n",
       "1                                  NaN                                 NaN   \n",
       "2                                  NaN                                 NaN   \n",
       "3                                  NaN                                 NaN   \n",
       "4                                  NaN                                 NaN   \n",
       "...                                ...                                 ...   \n",
       "2635                         32.451242                            7.189361   \n",
       "2636                         40.862069                          -14.129659   \n",
       "2637                         25.554678                           -2.879048   \n",
       "2638                               NaN                            2.712950   \n",
       "2639                         33.074953                            0.894887   \n",
       "\n",
       "      Life expectancy at birth, total (years)  \\\n",
       "0                                   33.219902   \n",
       "1                                   35.389415   \n",
       "2                                   37.610146   \n",
       "3                                   40.110146   \n",
       "4                                   43.230732   \n",
       "...                                       ...   \n",
       "2635                                61.753805   \n",
       "2636                                56.491976   \n",
       "2637                                46.065902   \n",
       "2638                                40.679146   \n",
       "2639                                44.177756   \n",
       "\n",
       "      Population density (people per sq. km of land area)  \\\n",
       "0                                             14.312061     \n",
       "1                                             15.881812     \n",
       "2                                             17.947027     \n",
       "3                                             19.998926     \n",
       "4                                             19.402324     \n",
       "...                                                 ...     \n",
       "2635                                          24.649495     \n",
       "2636                                          28.485762     \n",
       "2637                                          31.174507     \n",
       "2638                                          32.807111     \n",
       "2639                                          34.374559     \n",
       "\n",
       "      Services, etc., value added (% of GDP)  \n",
       "0                                        NaN  \n",
       "1                                        NaN  \n",
       "2                                        NaN  \n",
       "3                                        NaN  \n",
       "4                                        NaN  \n",
       "...                                      ...  \n",
       "2635                               53.141236  \n",
       "2636                               51.724135  \n",
       "2637                               55.511236  \n",
       "2638                                     NaN  \n",
       "2639                               45.327139  \n",
       "\n",
       "[2640 rows x 16 columns]"
      ]
     },
     "execution_count": 3,
     "metadata": {},
     "output_type": "execute_result"
    }
   ],
   "source": [
    "df"
   ]
  },
  {
   "cell_type": "code",
   "execution_count": 4,
   "id": "388e9fcc",
   "metadata": {},
   "outputs": [
    {
     "data": {
      "text/html": [
       "<div>\n",
       "<style scoped>\n",
       "    .dataframe tbody tr th:only-of-type {\n",
       "        vertical-align: middle;\n",
       "    }\n",
       "\n",
       "    .dataframe tbody tr th {\n",
       "        vertical-align: top;\n",
       "    }\n",
       "\n",
       "    .dataframe thead th {\n",
       "        text-align: right;\n",
       "    }\n",
       "</style>\n",
       "<table border=\"1\" class=\"dataframe\">\n",
       "  <thead>\n",
       "    <tr style=\"text-align: right;\">\n",
       "      <th></th>\n",
       "      <th>Country Name</th>\n",
       "      <th>Year</th>\n",
       "      <th>Agriculture, value added (% of GDP)</th>\n",
       "      <th>CO2 emissions (metric tons per capita)</th>\n",
       "      <th>Domestic credit provided by financial sector (% of GDP)</th>\n",
       "      <th>Electric power consumption (kWh per capita)</th>\n",
       "      <th>Energy use (kg of oil equivalent per capita)</th>\n",
       "      <th>Exports of goods and services (% of GDP)</th>\n",
       "      <th>Fertility rate, total (births per woman)</th>\n",
       "      <th>GDP growth (annual %)</th>\n",
       "      <th>Imports of goods and services (% of GDP)</th>\n",
       "      <th>Industry, value added (% of GDP)</th>\n",
       "      <th>Inflation, GDP deflator (annual %)</th>\n",
       "      <th>Life expectancy at birth, total (years)</th>\n",
       "      <th>Population density (people per sq. km of land area)</th>\n",
       "      <th>Services, etc., value added (% of GDP)</th>\n",
       "    </tr>\n",
       "  </thead>\n",
       "  <tbody>\n",
       "    <tr>\n",
       "      <th>9</th>\n",
       "      <td>Afghanistan</td>\n",
       "      <td>2007</td>\n",
       "      <td>30.622854</td>\n",
       "      <td>0.087858</td>\n",
       "      <td>0.535181</td>\n",
       "      <td>NaN</td>\n",
       "      <td>NaN</td>\n",
       "      <td>17.823714</td>\n",
       "      <td>6.437000</td>\n",
       "      <td>13.740205</td>\n",
       "      <td>58.350047</td>\n",
       "      <td>27.344703</td>\n",
       "      <td>22.382016</td>\n",
       "      <td>57.833829</td>\n",
       "      <td>39.637202</td>\n",
       "      <td>42.032443</td>\n",
       "    </tr>\n",
       "    <tr>\n",
       "      <th>19</th>\n",
       "      <td>Albania</td>\n",
       "      <td>2007</td>\n",
       "      <td>19.874798</td>\n",
       "      <td>1.322335</td>\n",
       "      <td>62.076755</td>\n",
       "      <td>1213.124369</td>\n",
       "      <td>679.861765</td>\n",
       "      <td>28.084222</td>\n",
       "      <td>1.635000</td>\n",
       "      <td>5.900000</td>\n",
       "      <td>54.788201</td>\n",
       "      <td>25.334355</td>\n",
       "      <td>3.576195</td>\n",
       "      <td>76.470293</td>\n",
       "      <td>108.394781</td>\n",
       "      <td>54.790848</td>\n",
       "    </tr>\n",
       "    <tr>\n",
       "      <th>29</th>\n",
       "      <td>Algeria</td>\n",
       "      <td>2007</td>\n",
       "      <td>7.688453</td>\n",
       "      <td>3.195865</td>\n",
       "      <td>-3.636038</td>\n",
       "      <td>891.805086</td>\n",
       "      <td>1075.194127</td>\n",
       "      <td>47.068163</td>\n",
       "      <td>2.661000</td>\n",
       "      <td>3.400000</td>\n",
       "      <td>24.869963</td>\n",
       "      <td>58.571640</td>\n",
       "      <td>6.395344</td>\n",
       "      <td>72.898366</td>\n",
       "      <td>14.385269</td>\n",
       "      <td>33.739908</td>\n",
       "    </tr>\n",
       "    <tr>\n",
       "      <th>39</th>\n",
       "      <td>American Samoa</td>\n",
       "      <td>2007</td>\n",
       "      <td>NaN</td>\n",
       "      <td>NaN</td>\n",
       "      <td>NaN</td>\n",
       "      <td>NaN</td>\n",
       "      <td>NaN</td>\n",
       "      <td>NaN</td>\n",
       "      <td>NaN</td>\n",
       "      <td>NaN</td>\n",
       "      <td>NaN</td>\n",
       "      <td>NaN</td>\n",
       "      <td>NaN</td>\n",
       "      <td>NaN</td>\n",
       "      <td>289.520000</td>\n",
       "      <td>NaN</td>\n",
       "    </tr>\n",
       "    <tr>\n",
       "      <th>49</th>\n",
       "      <td>Andorra</td>\n",
       "      <td>2007</td>\n",
       "      <td>0.375713</td>\n",
       "      <td>6.350868</td>\n",
       "      <td>NaN</td>\n",
       "      <td>NaN</td>\n",
       "      <td>NaN</td>\n",
       "      <td>NaN</td>\n",
       "      <td>1.180000</td>\n",
       "      <td>0.078039</td>\n",
       "      <td>NaN</td>\n",
       "      <td>15.871050</td>\n",
       "      <td>3.869917</td>\n",
       "      <td>NaN</td>\n",
       "      <td>180.591489</td>\n",
       "      <td>75.213876</td>\n",
       "    </tr>\n",
       "    <tr>\n",
       "      <th>...</th>\n",
       "      <td>...</td>\n",
       "      <td>...</td>\n",
       "      <td>...</td>\n",
       "      <td>...</td>\n",
       "      <td>...</td>\n",
       "      <td>...</td>\n",
       "      <td>...</td>\n",
       "      <td>...</td>\n",
       "      <td>...</td>\n",
       "      <td>...</td>\n",
       "      <td>...</td>\n",
       "      <td>...</td>\n",
       "      <td>...</td>\n",
       "      <td>...</td>\n",
       "      <td>...</td>\n",
       "      <td>...</td>\n",
       "    </tr>\n",
       "    <tr>\n",
       "      <th>2599</th>\n",
       "      <td>West Bank and Gaza</td>\n",
       "      <td>2007</td>\n",
       "      <td>7.441636</td>\n",
       "      <td>0.665297</td>\n",
       "      <td>6.261647</td>\n",
       "      <td>NaN</td>\n",
       "      <td>NaN</td>\n",
       "      <td>19.366849</td>\n",
       "      <td>4.627000</td>\n",
       "      <td>-1.727004</td>\n",
       "      <td>77.810672</td>\n",
       "      <td>23.234322</td>\n",
       "      <td>5.198904</td>\n",
       "      <td>71.747049</td>\n",
       "      <td>580.481063</td>\n",
       "      <td>69.324043</td>\n",
       "    </tr>\n",
       "    <tr>\n",
       "      <th>2609</th>\n",
       "      <td>World</td>\n",
       "      <td>2007</td>\n",
       "      <td>4.051775</td>\n",
       "      <td>4.662414</td>\n",
       "      <td>158.374008</td>\n",
       "      <td>2816.334646</td>\n",
       "      <td>1803.918178</td>\n",
       "      <td>30.254030</td>\n",
       "      <td>2.542742</td>\n",
       "      <td>4.320227</td>\n",
       "      <td>29.126501</td>\n",
       "      <td>30.142415</td>\n",
       "      <td>5.632652</td>\n",
       "      <td>69.641854</td>\n",
       "      <td>51.452805</td>\n",
       "      <td>65.829479</td>\n",
       "    </tr>\n",
       "    <tr>\n",
       "      <th>2619</th>\n",
       "      <td>Yemen, Rep.</td>\n",
       "      <td>2007</td>\n",
       "      <td>9.855417</td>\n",
       "      <td>0.966383</td>\n",
       "      <td>10.299008</td>\n",
       "      <td>207.132310</td>\n",
       "      <td>318.012608</td>\n",
       "      <td>35.903431</td>\n",
       "      <td>5.180000</td>\n",
       "      <td>3.338428</td>\n",
       "      <td>43.219993</td>\n",
       "      <td>48.730554</td>\n",
       "      <td>10.888282</td>\n",
       "      <td>61.954805</td>\n",
       "      <td>41.102913</td>\n",
       "      <td>32.218702</td>\n",
       "    </tr>\n",
       "    <tr>\n",
       "      <th>2629</th>\n",
       "      <td>Zambia</td>\n",
       "      <td>2007</td>\n",
       "      <td>13.234505</td>\n",
       "      <td>0.139614</td>\n",
       "      <td>13.458356</td>\n",
       "      <td>651.873083</td>\n",
       "      <td>588.018959</td>\n",
       "      <td>33.591193</td>\n",
       "      <td>5.911000</td>\n",
       "      <td>8.352436</td>\n",
       "      <td>32.180265</td>\n",
       "      <td>34.885422</td>\n",
       "      <td>12.970211</td>\n",
       "      <td>52.477146</td>\n",
       "      <td>17.135926</td>\n",
       "      <td>51.880073</td>\n",
       "    </tr>\n",
       "    <tr>\n",
       "      <th>2639</th>\n",
       "      <td>Zimbabwe</td>\n",
       "      <td>2007</td>\n",
       "      <td>21.597907</td>\n",
       "      <td>0.743449</td>\n",
       "      <td>NaN</td>\n",
       "      <td>700.642317</td>\n",
       "      <td>725.681049</td>\n",
       "      <td>37.785373</td>\n",
       "      <td>4.022000</td>\n",
       "      <td>-3.653327</td>\n",
       "      <td>46.387531</td>\n",
       "      <td>33.074953</td>\n",
       "      <td>0.894887</td>\n",
       "      <td>44.177756</td>\n",
       "      <td>34.374559</td>\n",
       "      <td>45.327139</td>\n",
       "    </tr>\n",
       "  </tbody>\n",
       "</table>\n",
       "<p>264 rows × 16 columns</p>\n",
       "</div>"
      ],
      "text/plain": [
       "            Country Name  Year  Agriculture, value added (% of GDP)  \\\n",
       "9            Afghanistan  2007                            30.622854   \n",
       "19               Albania  2007                            19.874798   \n",
       "29               Algeria  2007                             7.688453   \n",
       "39        American Samoa  2007                                  NaN   \n",
       "49               Andorra  2007                             0.375713   \n",
       "...                  ...   ...                                  ...   \n",
       "2599  West Bank and Gaza  2007                             7.441636   \n",
       "2609               World  2007                             4.051775   \n",
       "2619         Yemen, Rep.  2007                             9.855417   \n",
       "2629              Zambia  2007                            13.234505   \n",
       "2639            Zimbabwe  2007                            21.597907   \n",
       "\n",
       "      CO2 emissions (metric tons per capita)  \\\n",
       "9                                   0.087858   \n",
       "19                                  1.322335   \n",
       "29                                  3.195865   \n",
       "39                                       NaN   \n",
       "49                                  6.350868   \n",
       "...                                      ...   \n",
       "2599                                0.665297   \n",
       "2609                                4.662414   \n",
       "2619                                0.966383   \n",
       "2629                                0.139614   \n",
       "2639                                0.743449   \n",
       "\n",
       "      Domestic credit provided by financial sector (% of GDP)  \\\n",
       "9                                              0.535181         \n",
       "19                                            62.076755         \n",
       "29                                            -3.636038         \n",
       "39                                                  NaN         \n",
       "49                                                  NaN         \n",
       "...                                                 ...         \n",
       "2599                                           6.261647         \n",
       "2609                                         158.374008         \n",
       "2619                                          10.299008         \n",
       "2629                                          13.458356         \n",
       "2639                                                NaN         \n",
       "\n",
       "      Electric power consumption (kWh per capita)  \\\n",
       "9                                             NaN   \n",
       "19                                    1213.124369   \n",
       "29                                     891.805086   \n",
       "39                                            NaN   \n",
       "49                                            NaN   \n",
       "...                                           ...   \n",
       "2599                                          NaN   \n",
       "2609                                  2816.334646   \n",
       "2619                                   207.132310   \n",
       "2629                                   651.873083   \n",
       "2639                                   700.642317   \n",
       "\n",
       "      Energy use (kg of oil equivalent per capita)  \\\n",
       "9                                              NaN   \n",
       "19                                      679.861765   \n",
       "29                                     1075.194127   \n",
       "39                                             NaN   \n",
       "49                                             NaN   \n",
       "...                                            ...   \n",
       "2599                                           NaN   \n",
       "2609                                   1803.918178   \n",
       "2619                                    318.012608   \n",
       "2629                                    588.018959   \n",
       "2639                                    725.681049   \n",
       "\n",
       "      Exports of goods and services (% of GDP)  \\\n",
       "9                                    17.823714   \n",
       "19                                   28.084222   \n",
       "29                                   47.068163   \n",
       "39                                         NaN   \n",
       "49                                         NaN   \n",
       "...                                        ...   \n",
       "2599                                 19.366849   \n",
       "2609                                 30.254030   \n",
       "2619                                 35.903431   \n",
       "2629                                 33.591193   \n",
       "2639                                 37.785373   \n",
       "\n",
       "      Fertility rate, total (births per woman)  GDP growth (annual %)  \\\n",
       "9                                     6.437000              13.740205   \n",
       "19                                    1.635000               5.900000   \n",
       "29                                    2.661000               3.400000   \n",
       "39                                         NaN                    NaN   \n",
       "49                                    1.180000               0.078039   \n",
       "...                                        ...                    ...   \n",
       "2599                                  4.627000              -1.727004   \n",
       "2609                                  2.542742               4.320227   \n",
       "2619                                  5.180000               3.338428   \n",
       "2629                                  5.911000               8.352436   \n",
       "2639                                  4.022000              -3.653327   \n",
       "\n",
       "      Imports of goods and services (% of GDP)  \\\n",
       "9                                    58.350047   \n",
       "19                                   54.788201   \n",
       "29                                   24.869963   \n",
       "39                                         NaN   \n",
       "49                                         NaN   \n",
       "...                                        ...   \n",
       "2599                                 77.810672   \n",
       "2609                                 29.126501   \n",
       "2619                                 43.219993   \n",
       "2629                                 32.180265   \n",
       "2639                                 46.387531   \n",
       "\n",
       "      Industry, value added (% of GDP)  Inflation, GDP deflator (annual %)  \\\n",
       "9                            27.344703                           22.382016   \n",
       "19                           25.334355                            3.576195   \n",
       "29                           58.571640                            6.395344   \n",
       "39                                 NaN                                 NaN   \n",
       "49                           15.871050                            3.869917   \n",
       "...                                ...                                 ...   \n",
       "2599                         23.234322                            5.198904   \n",
       "2609                         30.142415                            5.632652   \n",
       "2619                         48.730554                           10.888282   \n",
       "2629                         34.885422                           12.970211   \n",
       "2639                         33.074953                            0.894887   \n",
       "\n",
       "      Life expectancy at birth, total (years)  \\\n",
       "9                                   57.833829   \n",
       "19                                  76.470293   \n",
       "29                                  72.898366   \n",
       "39                                        NaN   \n",
       "49                                        NaN   \n",
       "...                                       ...   \n",
       "2599                                71.747049   \n",
       "2609                                69.641854   \n",
       "2619                                61.954805   \n",
       "2629                                52.477146   \n",
       "2639                                44.177756   \n",
       "\n",
       "      Population density (people per sq. km of land area)  \\\n",
       "9                                             39.637202     \n",
       "19                                           108.394781     \n",
       "29                                            14.385269     \n",
       "39                                           289.520000     \n",
       "49                                           180.591489     \n",
       "...                                                 ...     \n",
       "2599                                         580.481063     \n",
       "2609                                          51.452805     \n",
       "2619                                          41.102913     \n",
       "2629                                          17.135926     \n",
       "2639                                          34.374559     \n",
       "\n",
       "      Services, etc., value added (% of GDP)  \n",
       "9                                  42.032443  \n",
       "19                                 54.790848  \n",
       "29                                 33.739908  \n",
       "39                                       NaN  \n",
       "49                                 75.213876  \n",
       "...                                      ...  \n",
       "2599                               69.324043  \n",
       "2609                               65.829479  \n",
       "2619                               32.218702  \n",
       "2629                               51.880073  \n",
       "2639                               45.327139  \n",
       "\n",
       "[264 rows x 16 columns]"
      ]
     },
     "execution_count": 4,
     "metadata": {},
     "output_type": "execute_result"
    }
   ],
   "source": [
    "# to work with 2007 data only\n",
    "df2007 = df.loc[df[\"Year\"]==2007]\n",
    "df2007"
   ]
  },
  {
   "cell_type": "markdown",
   "id": "bd17dde6",
   "metadata": {
    "pycharm": {
     "name": "#%%\n"
    }
   },
   "source": [
    "#### primary keys"
   ]
  },
  {
   "cell_type": "markdown",
   "id": "3454d5f5",
   "metadata": {
    "pycharm": {
     "name": "#%%\n"
    }
   },
   "source": [
    "The above dataset contains the two primary keys \"Country Name\" and \"Year\" which are not supposed to be part of the analysis.\n",
    "\n",
    "Primary keys can be used to \"zoom in\" on more detailed analyses. In this case, e.g., check how numbers for Afghanistan evolved over time. Or only take data from year 2007 and find a connection between two columns, then compare it to the same data but for 2002 etc.\n",
    "\n",
    "Therefore, the primary keys have to be treated differently from the remaining *data columns*."
   ]
  },
  {
   "cell_type": "code",
   "execution_count": 5,
   "id": "789ea474",
   "metadata": {
    "pycharm": {
     "name": "#%%\n"
    }
   },
   "outputs": [],
   "source": [
    "prim_keys = [\"Country Name\", \"Year\"]\n"
   ]
  },
  {
   "cell_type": "code",
   "execution_count": null,
   "id": "2d891327",
   "metadata": {
    "pycharm": {
     "name": "#%%\n"
    }
   },
   "outputs": [],
   "source": []
  },
  {
   "cell_type": "markdown",
   "id": "d524b04f",
   "metadata": {},
   "source": [
    "# Helper routines"
   ]
  },
  {
   "cell_type": "markdown",
   "id": "415c1677",
   "metadata": {},
   "source": [
    "### relative absolute error"
   ]
  },
  {
   "cell_type": "code",
   "execution_count": 6,
   "id": "d5741fb6",
   "metadata": {},
   "outputs": [],
   "source": [
    "\n",
    "def rae(true, predicted):\n",
    "    numerator = np.sum(np.abs(predicted - true))\n",
    "    denominator = np.sum(np.abs(np.mean(true) - true))\n",
    "    return numerator / denominator\n"
   ]
  },
  {
   "cell_type": "markdown",
   "id": "01ed6ffd",
   "metadata": {},
   "source": [
    "### 2d plotting"
   ]
  },
  {
   "cell_type": "code",
   "execution_count": 7,
   "id": "9e02c85b",
   "metadata": {},
   "outputs": [],
   "source": [
    "def plot_2d_result(data_tuple, metrics, datas, show=False):\n",
    "    \n",
    "    # get max and min plotting values\n",
    "    y_min = min(0, min(datas[data_tuple][\"y_train\"]), min(datas[data_tuple][\"y_test\"]), min(datas[data_tuple][\"y_test_pred\"]), min(datas[data_tuple][\"outliers\"][data_tuple[1]]))\n",
    "    y_max = max(0, max(datas[data_tuple][\"y_train\"]), max(datas[data_tuple][\"y_test\"]), max(datas[data_tuple][\"y_test_pred\"]), max(datas[data_tuple][\"outliers\"][data_tuple[1]]))\n",
    "    \n",
    "    fig = make_subplots(\n",
    "    rows=2, cols=1,\n",
    "    row_heights=[0.8, 0.2],\n",
    "    specs=[[{\"type\": \"scatter\"}],\n",
    "           [{\"type\": \"histogram\"}]],\n",
    "    vertical_spacing=.2\n",
    "    )\n",
    "\n",
    "    fig.add_trace(\n",
    "        go.Scatter(x=datas[data_tuple][\"X_train\"].reshape(len(datas[data_tuple][\"X_train\"]),), \n",
    "                   y=datas[data_tuple][\"y_train\"],\n",
    "                   xaxis=\"x\",\n",
    "                   yaxis=\"y\",\n",
    "                   name=\"y_train\",\n",
    "                   mode=\"markers\", marker_color=\"Maroon\", marker_size=3, opacity=.6\n",
    "                    ),\n",
    "        row=1, col=1\n",
    "                 )\n",
    "    fig.add_trace(\n",
    "        go.Scatter(x=datas[data_tuple][\"X_test\"].reshape(len(datas[data_tuple][\"X_test\"]),), \n",
    "                   y=datas[data_tuple][\"y_test_pred\"], \n",
    "                   xaxis=\"x\",\n",
    "                   yaxis=\"y\",\n",
    "                   name=\"y_pred\",\n",
    "                   mode=\"markers\", marker_color=\"LightSeaGreen\", \n",
    "                    ),\n",
    "        row=1, col=1\n",
    "                 )\n",
    "    fig.add_trace(\n",
    "        go.Scatter(x=datas[data_tuple][\"X_test\"].reshape(len(datas[data_tuple][\"X_test\"]),), \n",
    "                   y=datas[data_tuple][\"y_test\"], \n",
    "                   xaxis=\"x\",\n",
    "                   yaxis=\"y\",\n",
    "                   name=\"y_test\",\n",
    "                   mode=\"markers\", marker_color=\"LightSalmon\", \n",
    "                    ),\n",
    "        row=1, col=1\n",
    "                 )\n",
    "    \n",
    "    # plot outliers\n",
    "    if datas[data_tuple][\"outlier_info\"]==\"included\":\n",
    "        fig.add_trace(\n",
    "        go.Scatter(x=datas[data_tuple][\"outliers\"][data_tuple[0]],#.reshape(len(datas[data_tuple][\"outliers\"][data_tuple[0]]),), \n",
    "                   y=datas[data_tuple][\"outliers\"][data_tuple[1]], \n",
    "                   xaxis=\"x\",\n",
    "                   yaxis=\"y\",\n",
    "                   name=\"outliers (included)\",\n",
    "                   mode=\"markers\", marker_color=\"DarkSlateBlue \", \n",
    "                    ),\n",
    "        row=1, col=1\n",
    "                 )\n",
    "    elif datas[data_tuple][\"outlier_info\"]==\"excluded\":\n",
    "        fig.add_trace(\n",
    "        go.Scatter(x=datas[data_tuple][\"outliers\"][data_tuple[0]],#.reshape(len(datas[data_tuple][\"outliers\"][data_tuple[0]]),), \n",
    "                   y=datas[data_tuple][\"outliers\"][data_tuple[1]],\n",
    "                   xaxis=\"x\",\n",
    "                   yaxis=\"y\",\n",
    "                   name=\"outliers (excluded)\",\n",
    "                   mode=\"markers\", marker_color=\"DarkSlateBlue \", \n",
    "                    ),\n",
    "        row=1, col=1\n",
    "                 )\n",
    "        \n",
    "    # add metrics\n",
    "    fig.add_annotation(text='<b>r2 MLP:   </b>'+str(round(metrics[data_tuple][\"MLP r2\"],2))+\n",
    "                       ' <i><br>r2 lin. reg.:   </i>'+str(round(metrics[data_tuple][\"linear r2\"],2))+\n",
    "                       ' <b><br>RMSE MLP:   </b>'+str(round(metrics[data_tuple][\"MLP RMSE\"],2))+\n",
    "                       ' <i><br>RMSE lin. reg.:   </i>'+str(round(metrics[data_tuple][\"linear RMSE\"],2))+\n",
    "                       ' <b><br>RMSE/std MLP:   </b>'+str(round(metrics[data_tuple][\"MLP RMSE/std\"],2))+\n",
    "                       ' <i><br>RMSE/std lin. reg.:   </i>'+str(round(metrics[data_tuple][\"linear RMSE/std\"],2))+\n",
    "                       ' <b><br>MAPE MLP:   </b>'+str(round(metrics[data_tuple][\"MLP MAPE\"],2))+\n",
    "                       ' <i><br>MAPE lin. reg.:   </i>'+str(round(metrics[data_tuple][\"linear MAPE\"],2))+\n",
    "                       ' <b><br>rae MLP:   </b>'+str(round(metrics[data_tuple][\"MLP rae\"],2))+\n",
    "                       ' <i><br>rae lin. reg.:   </i>'+str(round(metrics[data_tuple][\"linear rae\"],2))+\n",
    "                       ' <b><br>dcor MLP:   </b>'+str(round(metrics[data_tuple][\"MLP dcor\"],2))+\n",
    "                       ' <i><br>dcor lin. reg.:   </i>'+str(round(metrics[data_tuple][\"linear dcor\"],2)),\n",
    "                       #' <br>Spearman corr.:   '+str(round(metrics[data_tuple][\"Spearman\"],2))+\n",
    "                       #' <br>Pearson corr.:   '+str(round(metrics[data_tuple][\"Pearson\"],2)), \n",
    "                        align='right',\n",
    "                        showarrow=False,\n",
    "                        xref='paper',\n",
    "                        yref='paper',\n",
    "                        x=1.223,\n",
    "                        y=.73,\n",
    "                        bgcolor=\"white\",\n",
    "                        #bordercolor='black',\n",
    "                        #borderwidth=1\n",
    "                      )\n",
    "    \n",
    "    # add line as separator\n",
    "    fig.add_shape(type='line',\n",
    "                x0=-.05,\n",
    "                y0=.2,\n",
    "                x1=1.05,\n",
    "                y1=.2,\n",
    "                line=dict(color='white',),\n",
    "                xref='paper',\n",
    "                yref='paper'\n",
    "    )\n",
    "    \n",
    "    # histogram of errors\n",
    "    fig.add_trace(\n",
    "        go.Histogram(x=datas[data_tuple][\"y_test_pred\"]-datas[data_tuple][\"y_test\"],\n",
    "                   xaxis=\"x2\",\n",
    "                   yaxis=\"y2\",\n",
    "                   name=\"prediction error\",\n",
    "                   nbinsx=100,\n",
    "                   marker_color='Tomato'),\n",
    "        row=2, col=1\n",
    "                 )\n",
    "\n",
    "    fig.update_layout(\n",
    "        title=data_tuple[1]+'  vs.  '+data_tuple[0],\n",
    "        xaxis=dict(\n",
    "            title=data_tuple[0],\n",
    "            gridcolor='white',\n",
    "            gridwidth=2,\n",
    "            #type='log',\n",
    "        ),\n",
    "        yaxis=dict(\n",
    "            title=data_tuple[1],\n",
    "            gridcolor='white',\n",
    "            gridwidth=2,\n",
    "            #type='log',\n",
    "        ),\n",
    "        yaxis_range=[y_min*1.01,y_max*1.01],\n",
    "        xaxis2=dict(title=r\"$\\text{error } y_{pred}-y$\"),\n",
    "        yaxis2=dict(title=\"frequency\"),\n",
    "        legend=dict(bgcolor=\"white\"),\n",
    "        paper_bgcolor='rgb(243, 243, 243)',\n",
    "        plot_bgcolor='rgb(243, 243, 243)',\n",
    "        width=920,\n",
    "        height=620\n",
    "    )\n",
    "    \n",
    "    if show==True:\n",
    "        fig.show()\n",
    "    else:\n",
    "        return fig"
   ]
  },
  {
   "cell_type": "markdown",
   "id": "21c7eec7",
   "metadata": {},
   "source": [
    "### outlier extraction"
   ]
  },
  {
   "cell_type": "markdown",
   "id": "d26ab301",
   "metadata": {},
   "source": [
    "#### via class, if potentially inside pipeline\n",
    "\n",
    "not in use!"
   ]
  },
  {
   "cell_type": "code",
   "execution_count": 8,
   "id": "95218096",
   "metadata": {
    "scrolled": false
   },
   "outputs": [
    {
     "data": {
      "text/plain": [
       "'\\nclass OutlierExtractor(TransformerMixin):\\n    def __init__(self, **kwargs):\\n        \"\"\"\\n        Create a transformer to remove outliers. A threshold is set for selection\\n        criteria, and further arguments are passed to the LocalOutlierFactor class\\n\\n        Keyword Args:\\n            neg_conf_val (float): The threshold for excluding samples with a lower\\n               negative outlier factor.\\n\\n        Returns:\\n            object: to be used as a transformer method as part of Pipeline()\\n        \"\"\"\\n\\n        self.threshold = kwargs.pop(\\'neg_conf_val\\', -10.0)\\n\\n        self.kwargs = kwargs\\n\\n    def transform(self, X, y):\\n        \"\"\"\\n        Uses LocalOutlierFactor class to subselect data based on some threshold\\n\\n        Returns:\\n            ndarray: subsampled data\\n\\n        Notes:\\n            X should be of shape (n_samples, n_features)\\n        \"\"\"\\n        X = np.asarray(X)\\n        y = np.asarray(y)\\n        lcf = LocalOutlierFactor(**self.kwargs)\\n        lcf.fit(X)\\n        return (X[lcf.negative_outlier_factor_ > self.threshold, :],\\n                y[lcf.negative_outlier_factor_ > self.threshold])\\n\\n    def fit(self, *args, **kwargs):\\n        return self\\n'"
      ]
     },
     "execution_count": 8,
     "metadata": {},
     "output_type": "execute_result"
    }
   ],
   "source": [
    "'''\n",
    "class OutlierExtractor(TransformerMixin):\n",
    "    def __init__(self, **kwargs):\n",
    "        \"\"\"\n",
    "        Create a transformer to remove outliers. A threshold is set for selection\n",
    "        criteria, and further arguments are passed to the LocalOutlierFactor class\n",
    "\n",
    "        Keyword Args:\n",
    "            neg_conf_val (float): The threshold for excluding samples with a lower\n",
    "               negative outlier factor.\n",
    "\n",
    "        Returns:\n",
    "            object: to be used as a transformer method as part of Pipeline()\n",
    "        \"\"\"\n",
    "\n",
    "        self.threshold = kwargs.pop('neg_conf_val', -10.0)\n",
    "\n",
    "        self.kwargs = kwargs\n",
    "\n",
    "    def transform(self, X, y):\n",
    "        \"\"\"\n",
    "        Uses LocalOutlierFactor class to subselect data based on some threshold\n",
    "\n",
    "        Returns:\n",
    "            ndarray: subsampled data\n",
    "\n",
    "        Notes:\n",
    "            X should be of shape (n_samples, n_features)\n",
    "        \"\"\"\n",
    "        X = np.asarray(X)\n",
    "        y = np.asarray(y)\n",
    "        lcf = LocalOutlierFactor(**self.kwargs)\n",
    "        lcf.fit(X)\n",
    "        return (X[lcf.negative_outlier_factor_ > self.threshold, :],\n",
    "                y[lcf.negative_outlier_factor_ > self.threshold])\n",
    "\n",
    "    def fit(self, *args, **kwargs):\n",
    "        return self\n",
    "'''"
   ]
  },
  {
   "cell_type": "markdown",
   "id": "dae328f8",
   "metadata": {},
   "source": [
    "#### the standard way"
   ]
  },
  {
   "cell_type": "code",
   "execution_count": 9,
   "id": "55ba12b1",
   "metadata": {},
   "outputs": [],
   "source": [
    "def extract_outliers(data):\n",
    "    \n",
    "    extractor = LocalOutlierFactor(n_neighbors=20)\n",
    "    \n",
    "    data_extr_pred = extractor.fit_predict(data)\n",
    "    \n",
    "    outliers_index = np.where(data_extr_pred==-1)\n",
    "    outliers = data.iloc[outliers_index]\n",
    "    inliers_index = np.where(data_extr_pred==1)\n",
    "    data_extr = data.iloc[inliers_index]\n",
    "    \n",
    "    data_scores = extractor.negative_outlier_factor_\n",
    "    \n",
    "    return data_extr, data_scores, outliers"
   ]
  },
  {
   "cell_type": "markdown",
   "id": "f8574f94",
   "metadata": {},
   "source": [
    "### data preparation, train-test-split"
   ]
  },
  {
   "cell_type": "code",
   "execution_count": 10,
   "id": "bea9955f",
   "metadata": {},
   "outputs": [],
   "source": [
    "def data_prep_split(data, inputs, outputs):\n",
    "    # get x and y value(s)\n",
    "    curr_x = np.array(data[inputs]).reshape(-1, 1)\n",
    "    curr_y = np.array(data[outputs])\n",
    "\n",
    "    # train test split\n",
    "    curr_X_train, curr_X_test, curr_y_train, curr_y_test = train_test_split(curr_x, curr_y, random_state=1,\n",
    "                                                                            test_size=.3, shuffle=True)\n",
    "    curr_y_train = curr_y_train.ravel()\n",
    "    curr_y_test = curr_y_test.ravel()\n",
    "    \n",
    "    return curr_X_train, curr_X_test, curr_y_train, curr_y_test"
   ]
  },
  {
   "cell_type": "markdown",
   "id": "d47affbb",
   "metadata": {},
   "source": [
    "### scoring mapping"
   ]
  },
  {
   "cell_type": "code",
   "execution_count": 11,
   "id": "1187ea7b",
   "metadata": {},
   "outputs": [],
   "source": [
    "scoring_dict = {\n",
    "    \"r2\": \"r2\",\n",
    "    \"MAPE\": \"neg_mean_absolute_percentage_error\",\n",
    "    \"neg_mean_absolute_percentage_error\": \"neg_mean_absolute_percentage_error\",\n",
    "    \"RMSE\": \"neg_root_mean_squared_error\",\n",
    "    \"neg_root_mean_squared_error\": \"neg_root_mean_squared_error\",\n",
    "    \"MAE\": \"neg_mean_absolute_error\",\n",
    "    \"neg_mean_absolute_error\": \"neg_mean_absolute_error\"\n",
    "}"
   ]
  },
  {
   "cell_type": "markdown",
   "id": "1fc3a3dc",
   "metadata": {
    "pycharm": {
     "name": "#%% md\n"
    }
   },
   "source": [
    "# The main routine"
   ]
  },
  {
   "cell_type": "code",
   "execution_count": 12,
   "id": "e7b5b5a5",
   "metadata": {
    "pycharm": {
     "name": "#%%\n"
    }
   },
   "outputs": [],
   "source": [
    "def predictability(data, input_cols=1, output_cols=1, col_set=None, primkey_cols=[], method=\"MLP\", scoring=\"r2\"):\n",
    "    \n",
    "    # TODO: map scoring to possible options\n",
    "    scoring_dict = {\n",
    "        \"r2\": \"r2\",\n",
    "        \"MAPE\": \"neg_mean_absolute_percentage_error\",\n",
    "        \"neg_mean_absolute_percentage_error\": \"neg_mean_absolute_percentage_error\",\n",
    "        \"RMSE\": \"neg_root_mean_squared_error\",\n",
    "        \"neg_root_mean_squared_error\": \"neg_root_mean_squared_error\",\n",
    "        \"MAE\": \"neg_mean_absolute_error\",\n",
    "        \"neg_mean_absolute_error\": \"neg_mean_absolute_error\"\n",
    "    }\n",
    "    scoring = scoring_dict[scoring]\n",
    "    \n",
    "    # if we want to measure the time\n",
    "    start = time.time()\n",
    "    \n",
    "    # initialise the dictionary that is going to save the metrics per tuple\n",
    "    metric_dict = {}\n",
    "    \n",
    "    # dict to save x-/y-train/-test and predicted values for subsequent plotting\n",
    "    data_dict = {}\n",
    "    \n",
    "    # dict to save the plots\n",
    "    plots_dict = {}\n",
    "    \n",
    "    # if primary keys are fed in, data columns should not contain these\n",
    "    data_cols = [col for col in data.columns.to_list() if col not in primkey_cols]\n",
    "    \n",
    "    # if set of columns that should be considered is fed in, use this\n",
    "    if col_set is not None:\n",
    "        data_cols = list(set(col_set))\n",
    "    \n",
    "    # get the list of tuples of input and output columns\n",
    "    data_tuples = list(itertools.combinations(data_cols, input_cols+output_cols))\n",
    "    \n",
    "    # for printing the progress of the analysis\n",
    "    counter_tuples = 0\n",
    "    \n",
    "    # go through all tuples\n",
    "    # or testing subset only:\n",
    "    data_tuples = [(\"Electric power consumption (kWh per capita)\", \"Life expectancy at birth, total (years)\")]+data_tuples[:5]\n",
    "    #\n",
    "    for curr_tuple in data_tuples:\n",
    "        \n",
    "        print(\"Analysing \"+str(curr_tuple)+\" now.\")\n",
    "        \n",
    "        # TODO: implement going through all permutations\n",
    "        \n",
    "        # get current inputs and outputs\n",
    "        curr_inputs = list(curr_tuple[:input_cols])\n",
    "        curr_outputs = list(curr_tuple[input_cols:])\n",
    "        \n",
    "        # reduce data to current columns and drop NAs\n",
    "        curr_data = data[curr_inputs+curr_outputs].dropna()\n",
    "        \n",
    "        # do data preparations and train-test-split\n",
    "        curr_X_train, curr_X_test, curr_y_train, curr_y_test = data_prep_split(curr_data, curr_inputs, curr_outputs)\n",
    "        \n",
    "        # compute standard deviation of curr_y_test for later scaling of the RMSE\n",
    "        curr_y_test_std = np.std(curr_y_test)\n",
    "        \n",
    "        #\n",
    "        # linear regression\n",
    "        #\n",
    "        lin_reg = LinearRegression().fit(curr_X_train,curr_y_train)\n",
    "        curr_y_test_pred = lin_reg.predict(curr_X_test)\n",
    "        # metrics\n",
    "        curr_lin_r2 = r2_score(curr_y_test, curr_y_test_pred)\n",
    "        curr_lin_rmse = mean_squared_error(curr_y_test, curr_y_test_pred, squared=False)\n",
    "        curr_lin_mape = mean_absolute_percentage_error(curr_y_test, curr_y_test_pred)\n",
    "        curr_lin_rae = rae(curr_y_test, curr_y_test_pred)\n",
    "        curr_lin_dcor = dcor.distance_correlation(curr_y_test, curr_y_test_pred)\n",
    "        \n",
    "        #\n",
    "        # MLP regression\n",
    "        #\n",
    "        # list of hidden layer sizes for GridSearch\n",
    "        hidden_layers = [(12,), \n",
    "                          (50,), \n",
    "                          (70,5,), \n",
    "                          (40,18,3,)\n",
    "                        ]\n",
    "        # list of alpha values for GridSearch\n",
    "        alphas = [0.001, 0.0001, 0.00001]\n",
    "        \n",
    "        # standard approach\n",
    "        # use scaler\n",
    "        '''\n",
    "        scaler = StandardScaler()  \n",
    "        scaler.fit(curr_X_train)  \n",
    "        curr_X_train = scaler.transform(curr_X_train)\n",
    "        curr_X_test = scaler.transform(curr_X_test)\n",
    "        \n",
    "        # dict for standard GridSearch\n",
    "        params = { \"hidden_layer_sizes\": hidden_layers}\n",
    "        \n",
    "        # standard GridSearchCV\n",
    "        clf = GridSearchCV(estimator=MLPRegressor(max_iter=5000),\n",
    "                           param_grid=params,\n",
    "                           cv=3,\n",
    "                           scoring=scoring,\n",
    "                           return_train_score=True\n",
    "                          )\n",
    "        '''\n",
    "        # via pipeline (with and without scaler)\n",
    "        pipe = Pipeline([\n",
    "                        ('scaler', StandardScaler()),\n",
    "                        ('mlp', MLPRegressor(max_iter=5000))\n",
    "                        ])\n",
    "        pipe_params = [{'scaler': ['passthrough'],\n",
    "                        'mlp__hidden_layer_sizes': hidden_layers,\n",
    "                        'mlp__alpha': alphas}, \n",
    "                       {'mlp__hidden_layer_sizes': hidden_layers,\n",
    "                        'mlp__alpha': alphas}]\n",
    "        clf = GridSearchCV(pipe,\n",
    "                           param_grid=pipe_params,\n",
    "                           cv=3,\n",
    "                           scoring=scoring,\n",
    "                           return_train_score=True,\n",
    "                           verbose=1\n",
    "                          )\n",
    "        \n",
    "        clf.fit(curr_X_train, curr_y_train)\n",
    "        \n",
    "        curr_best_params = clf.best_params_\n",
    "        curr_y_test_pred = clf.predict(curr_X_test)\n",
    "        curr_mlp_r2 = r2_score(curr_y_test, curr_y_test_pred)\n",
    "        \n",
    "        #\n",
    "        # now do the same but with previous outlier extraction\n",
    "        #\n",
    "        extr_curr_data, extr_curr_data_score, curr_outliers = extract_outliers(curr_data)\n",
    "        \n",
    "        # do data preparations and train-test-split\n",
    "        extr_curr_X_train, extr_curr_X_test, extr_curr_y_train, extr_curr_y_test = data_prep_split(extr_curr_data, curr_inputs, curr_outputs)\n",
    "        \n",
    "        # compute standard deviation of curr_y_test for later scaling of the RMSE\n",
    "        extr_curr_y_test_std = np.std(extr_curr_y_test)\n",
    "        \n",
    "        #\n",
    "        # linear regression\n",
    "        #\n",
    "        extr_lin_reg = LinearRegression().fit(extr_curr_X_train, extr_curr_y_train)\n",
    "        extr_curr_y_test_pred = extr_lin_reg.predict(extr_curr_X_test)\n",
    "        # metrics\n",
    "        extr_curr_lin_r2 = r2_score(extr_curr_y_test, extr_curr_y_test_pred)\n",
    "        extr_curr_lin_rmse = mean_squared_error(extr_curr_y_test, extr_curr_y_test_pred, squared=False)\n",
    "        extr_curr_lin_mape = mean_absolute_percentage_error(extr_curr_y_test, extr_curr_y_test_pred)\n",
    "        extr_curr_lin_rae = rae(extr_curr_y_test, extr_curr_y_test_pred)\n",
    "        extr_curr_lin_dcor = dcor.distance_correlation(extr_curr_y_test, extr_curr_y_test_pred)\n",
    "        \n",
    "        extr_clf = GridSearchCV(pipe,\n",
    "                           param_grid=pipe_params,\n",
    "                           cv=3,\n",
    "                           scoring=scoring,\n",
    "                           return_train_score=True,\n",
    "                           verbose=1\n",
    "                          )\n",
    "        \n",
    "        extr_clf.fit(extr_curr_X_train, extr_curr_y_train)\n",
    "        \n",
    "        extr_curr_best_params = extr_clf.best_params_\n",
    "        extr_curr_y_test_pred = extr_clf.predict(extr_curr_X_test)\n",
    "        extr_curr_mlp_r2 = r2_score(extr_curr_y_test, extr_curr_y_test_pred)\n",
    "        \n",
    "        print(\"r2 with outliers: \"+str(curr_mlp_r2))\n",
    "        print(\"r2 without outliers: \"+str(extr_curr_mlp_r2))\n",
    "        \n",
    "        #\n",
    "        # TODO: adapt it to scoring-input, i.e. compare r2 only if scoring=\"r2\" etc.\n",
    "        #\n",
    "        if curr_mlp_r2>=extr_curr_mlp_r2:\n",
    "            \n",
    "            outlier_info = \"included\"\n",
    "        \n",
    "            # metrics\n",
    "            curr_mlp_rmse = mean_squared_error(curr_y_test, curr_y_test_pred, squared=False)\n",
    "            curr_mlp_mape = mean_absolute_percentage_error(curr_y_test, curr_y_test_pred)\n",
    "            #curr_mlp_distcorr = distance.correlation(curr_y_test, curr_y_test_pred)\n",
    "            curr_mlp_rae = rae(curr_y_test, curr_y_test_pred)\n",
    "            curr_mlp_dcor = dcor.distance_correlation(curr_y_test, curr_y_test_pred)\n",
    "\n",
    "            # save metrics into dict\n",
    "            metric_dict[curr_tuple] = {\"MLP r2\": curr_mlp_r2, \"linear r2\": curr_lin_r2,\n",
    "                                        \"MLP RMSE\": curr_mlp_rmse, \"linear RMSE\": curr_lin_rmse,\n",
    "                                        \"MLP RMSE/std\": curr_mlp_rmse/curr_y_test_std, \"linear RMSE/std\": curr_lin_rmse/curr_y_test_std,\n",
    "                                        \"MLP MAPE\": curr_mlp_mape, \"linear MAPE\": curr_lin_mape,\n",
    "                                        #\"MLP distcorr\": curr_mlp_distcorr, \"linear distcorr\": curr_lin_distcorr,\n",
    "                                        \"MLP rae\": curr_mlp_rae, \"linear rae\": curr_lin_rae,\n",
    "                                        \"MLP dcor\": curr_mlp_dcor, \"linear dcor\": curr_lin_dcor,\n",
    "            #\"Spearman\": curr_data[curr_inputs].corr(curr_data[curr_outputs], method=\"spearman\"), \n",
    "            #\"Pearson\": curr_data[curr_inputs].corr(curr_data[curr_outputs], method=\"pearson\")\n",
    "                                               }\n",
    "\n",
    "            # save values into dict\n",
    "            # if standard approach with scaler chosen\n",
    "            '''\n",
    "            data_dict[curr_tuple] = {\"X_train\": scaler.inverse_transform(curr_X_train),\n",
    "                                     \"X_test\": scaler.inverse_transform(curr_X_test),\n",
    "                                     \"y_train\": curr_y_train, \"y_test\": curr_y_test, \"y_test_pred\": curr_y_test_pred,\n",
    "                                     \"GridSearchParams\": curr_best_params, \"scores\": clf.cv_results_\n",
    "                                    }\n",
    "            '''\n",
    "            # else\n",
    "            data_dict[curr_tuple] = {\"X_train\": curr_X_train, \"X_test\": curr_X_test,\n",
    "                                     \"y_train\": curr_y_train, \"y_test\": curr_y_test, \"y_test_pred\": curr_y_test_pred,\n",
    "                                     \"outliers\": curr_outliers, \"outlier_info\": outlier_info,\n",
    "                                     \"GridSearchParams\": curr_best_params, \"scores\": clf.cv_results_\n",
    "                                    }\n",
    "\n",
    "            # save plot into dict\n",
    "            plots_dict[curr_tuple] = plot_2d_result(curr_tuple, metric_dict, data_dict)\n",
    "        \n",
    "        else:\n",
    "            \n",
    "            outlier_info = \"excluded\"\n",
    "            \n",
    "            # metrics\n",
    "            extr_curr_mlp_rmse = mean_squared_error(extr_curr_y_test, extr_curr_y_test_pred, squared=False)\n",
    "            extr_curr_mlp_mape = mean_absolute_percentage_error(extr_curr_y_test, extr_curr_y_test_pred)\n",
    "            #extr_curr_mlp_distcorr = distance.correlation(extr_curr_y_test, extr_curr_y_test_pred)\n",
    "            extr_curr_mlp_rae = rae(extr_curr_y_test, extr_curr_y_test_pred)\n",
    "            extr_curr_mlp_dcor = dcor.distance_correlation(extr_curr_y_test, extr_curr_y_test_pred)\n",
    "\n",
    "            # save metrics into dict\n",
    "            metric_dict[curr_tuple] = {\"MLP r2\": extr_curr_mlp_r2, \"linear r2\": extr_curr_lin_r2,\n",
    "                                        \"MLP RMSE\": extr_curr_mlp_rmse, \"linear RMSE\": extr_curr_lin_rmse,\n",
    "                                        \"MLP RMSE/std\": extr_curr_mlp_rmse/extr_curr_y_test_std, \"linear RMSE/std\": extr_curr_lin_rmse/extr_curr_y_test_std,\n",
    "                                        \"MLP MAPE\": extr_curr_mlp_mape, \"linear MAPE\": extr_curr_lin_mape,\n",
    "                                        #MLP distcorr\": extr_curr_mlp_distcorr, \"linear distcorr\": extr_curr_lin_distcorr,\n",
    "                                        \"MLP rae\": extr_curr_mlp_rae, \"linear rae\": extr_curr_lin_rae,\n",
    "                                        \"MLP dcor\": extr_curr_mlp_dcor, \"linear dcor\": extr_curr_lin_dcor,\n",
    "            #\"Spearman\": curr_data[curr_inputs].corr(curr_data[curr_outputs], method=\"spearman\"), \n",
    "            #\"Pearson\": curr_data[curr_inputs].corr(curr_data[curr_outputs], method=\"pearson\")\n",
    "                                               }\n",
    "\n",
    "            # save values into dict\n",
    "            # if standard approach with scaler chosen\n",
    "            '''\n",
    "            data_dict[curr_tuple] = {\"X_train\": scaler.inverse_transform(curr_X_train),\n",
    "                                     \"X_test\": scaler.inverse_transform(curr_X_test),\n",
    "                                     \"y_train\": curr_y_train, \"y_test\": curr_y_test, \"y_test_pred\": curr_y_test_pred,\n",
    "                                     \"GridSearchParams\": curr_best_params, \"scores\": clf.cv_results_\n",
    "                                    }\n",
    "            '''\n",
    "            # else\n",
    "            data_dict[curr_tuple] = {\"X_train\": extr_curr_X_train, \"X_test\": extr_curr_X_test,\n",
    "                                     \"y_train\": extr_curr_y_train, \"y_test\": extr_curr_y_test, \"y_test_pred\": extr_curr_y_test_pred,\n",
    "                                     \"outliers\": curr_outliers, \"outlier_info\": outlier_info,\n",
    "                                     \"GridSearchParams\": extr_curr_best_params, \"scores\": extr_clf.cv_results_\n",
    "                                    }\n",
    "\n",
    "            # save plot into dict\n",
    "            plots_dict[curr_tuple] = plot_2d_result(curr_tuple, metric_dict, data_dict)\n",
    "        \n",
    "        # for printing the CV results per tuple\n",
    "        #print(clf.cv_results_)\n",
    "        \n",
    "        # for printing the progress of the analysis\n",
    "        counter_tuples += 1\n",
    "        print(\"-----\"+str(counter_tuples)+\"/\"+str(len(data_tuples))+\"-----\")\n",
    "    \n",
    "    print(\"This took \"+str(round(time.time()-start,2))+\"s.\")\n",
    "    \n",
    "    return metric_dict, data_dict, plots_dict"
   ]
  },
  {
   "cell_type": "code",
   "execution_count": null,
   "id": "bb2ab9ae",
   "metadata": {
    "pycharm": {
     "name": "#%%\n"
    },
    "scrolled": true
   },
   "outputs": [],
   "source": [
    "metrics, datas, plots = predictability(data=df2007,\n",
    "                                primkey_cols = prim_keys,\n",
    "                                scoring=\"r2\"\n",
    "                               )"
   ]
  },
  {
   "cell_type": "code",
   "execution_count": 15,
   "id": "e567e067",
   "metadata": {},
   "outputs": [
    {
     "data": {
      "text/html": [
       "<div>\n",
       "<style scoped>\n",
       "    .dataframe tbody tr th:only-of-type {\n",
       "        vertical-align: middle;\n",
       "    }\n",
       "\n",
       "    .dataframe tbody tr th {\n",
       "        vertical-align: top;\n",
       "    }\n",
       "\n",
       "    .dataframe thead th {\n",
       "        text-align: right;\n",
       "    }\n",
       "</style>\n",
       "<table border=\"1\" class=\"dataframe\">\n",
       "  <thead>\n",
       "    <tr style=\"text-align: right;\">\n",
       "      <th></th>\n",
       "      <th></th>\n",
       "      <th>MLP r2</th>\n",
       "      <th>linear r2</th>\n",
       "      <th>MLP RMSE</th>\n",
       "      <th>linear RMSE</th>\n",
       "      <th>MLP RMSE/std</th>\n",
       "      <th>linear RMSE/std</th>\n",
       "      <th>MLP MAPE</th>\n",
       "      <th>linear MAPE</th>\n",
       "      <th>MLP rae</th>\n",
       "      <th>linear rae</th>\n",
       "      <th>MLP dcor</th>\n",
       "      <th>linear dcor</th>\n",
       "    </tr>\n",
       "  </thead>\n",
       "  <tbody>\n",
       "    <tr>\n",
       "      <th>Electric power consumption (kWh per capita)</th>\n",
       "      <th>Life expectancy at birth, total (years)</th>\n",
       "      <td>0.584477</td>\n",
       "      <td>0.283351</td>\n",
       "      <td>5.359802</td>\n",
       "      <td>7.038897</td>\n",
       "      <td>0.644611</td>\n",
       "      <td>0.846552</td>\n",
       "      <td>0.062189</td>\n",
       "      <td>0.088530</td>\n",
       "      <td>0.583697</td>\n",
       "      <td>0.843460</td>\n",
       "      <td>0.799535</td>\n",
       "      <td>0.691547</td>\n",
       "    </tr>\n",
       "    <tr>\n",
       "      <th rowspan=\"5\" valign=\"top\">Agriculture, value added (% of GDP)</th>\n",
       "      <th>CO2 emissions (metric tons per capita)</th>\n",
       "      <td>0.620260</td>\n",
       "      <td>0.522675</td>\n",
       "      <td>2.145106</td>\n",
       "      <td>2.404986</td>\n",
       "      <td>0.616231</td>\n",
       "      <td>0.690887</td>\n",
       "      <td>1.924978</td>\n",
       "      <td>2.783326</td>\n",
       "      <td>0.535534</td>\n",
       "      <td>0.646421</td>\n",
       "      <td>0.797036</td>\n",
       "      <td>0.764530</td>\n",
       "    </tr>\n",
       "    <tr>\n",
       "      <th>Domestic credit provided by financial sector (% of GDP)</th>\n",
       "      <td>0.376935</td>\n",
       "      <td>0.237257</td>\n",
       "      <td>52.245057</td>\n",
       "      <td>57.805316</td>\n",
       "      <td>0.789345</td>\n",
       "      <td>0.873352</td>\n",
       "      <td>1.591525</td>\n",
       "      <td>2.143466</td>\n",
       "      <td>0.674773</td>\n",
       "      <td>0.753938</td>\n",
       "      <td>0.649071</td>\n",
       "      <td>0.637954</td>\n",
       "    </tr>\n",
       "    <tr>\n",
       "      <th>Electric power consumption (kWh per capita)</th>\n",
       "      <td>0.233249</td>\n",
       "      <td>0.168928</td>\n",
       "      <td>5430.373169</td>\n",
       "      <td>5653.554914</td>\n",
       "      <td>0.875643</td>\n",
       "      <td>0.911631</td>\n",
       "      <td>0.826794</td>\n",
       "      <td>5.963870</td>\n",
       "      <td>0.615025</td>\n",
       "      <td>0.827924</td>\n",
       "      <td>0.684129</td>\n",
       "      <td>0.629361</td>\n",
       "    </tr>\n",
       "    <tr>\n",
       "      <th>Energy use (kg of oil equivalent per capita)</th>\n",
       "      <td>0.483398</td>\n",
       "      <td>0.313730</td>\n",
       "      <td>1105.570343</td>\n",
       "      <td>1274.252621</td>\n",
       "      <td>0.718751</td>\n",
       "      <td>0.828414</td>\n",
       "      <td>0.394668</td>\n",
       "      <td>0.680230</td>\n",
       "      <td>0.575195</td>\n",
       "      <td>0.729278</td>\n",
       "      <td>0.739615</td>\n",
       "      <td>0.670562</td>\n",
       "    </tr>\n",
       "    <tr>\n",
       "      <th>Exports of goods and services (% of GDP)</th>\n",
       "      <td>0.123053</td>\n",
       "      <td>0.168831</td>\n",
       "      <td>14.031018</td>\n",
       "      <td>13.659894</td>\n",
       "      <td>0.936454</td>\n",
       "      <td>0.911685</td>\n",
       "      <td>0.329588</td>\n",
       "      <td>0.321846</td>\n",
       "      <td>0.954032</td>\n",
       "      <td>0.923157</td>\n",
       "      <td>0.385580</td>\n",
       "      <td>0.428910</td>\n",
       "    </tr>\n",
       "  </tbody>\n",
       "</table>\n",
       "</div>"
      ],
      "text/plain": [
       "                                                                                                  MLP r2  \\\n",
       "Electric power consumption (kWh per capita) Life expectancy at birth, total (years)             0.584477   \n",
       "Agriculture, value added (% of GDP)         CO2 emissions (metric tons per capita)              0.620260   \n",
       "                                            Domestic credit provided by financial sector (%...  0.376935   \n",
       "                                            Electric power consumption (kWh per capita)         0.233249   \n",
       "                                            Energy use (kg of oil equivalent per capita)        0.483398   \n",
       "                                            Exports of goods and services (% of GDP)            0.123053   \n",
       "\n",
       "                                                                                                linear r2  \\\n",
       "Electric power consumption (kWh per capita) Life expectancy at birth, total (years)              0.283351   \n",
       "Agriculture, value added (% of GDP)         CO2 emissions (metric tons per capita)               0.522675   \n",
       "                                            Domestic credit provided by financial sector (%...   0.237257   \n",
       "                                            Electric power consumption (kWh per capita)          0.168928   \n",
       "                                            Energy use (kg of oil equivalent per capita)         0.313730   \n",
       "                                            Exports of goods and services (% of GDP)             0.168831   \n",
       "\n",
       "                                                                                                   MLP RMSE  \\\n",
       "Electric power consumption (kWh per capita) Life expectancy at birth, total (years)                5.359802   \n",
       "Agriculture, value added (% of GDP)         CO2 emissions (metric tons per capita)                 2.145106   \n",
       "                                            Domestic credit provided by financial sector (%...    52.245057   \n",
       "                                            Electric power consumption (kWh per capita)         5430.373169   \n",
       "                                            Energy use (kg of oil equivalent per capita)        1105.570343   \n",
       "                                            Exports of goods and services (% of GDP)              14.031018   \n",
       "\n",
       "                                                                                                linear RMSE  \\\n",
       "Electric power consumption (kWh per capita) Life expectancy at birth, total (years)                7.038897   \n",
       "Agriculture, value added (% of GDP)         CO2 emissions (metric tons per capita)                 2.404986   \n",
       "                                            Domestic credit provided by financial sector (%...    57.805316   \n",
       "                                            Electric power consumption (kWh per capita)         5653.554914   \n",
       "                                            Energy use (kg of oil equivalent per capita)        1274.252621   \n",
       "                                            Exports of goods and services (% of GDP)              13.659894   \n",
       "\n",
       "                                                                                                MLP RMSE/std  \\\n",
       "Electric power consumption (kWh per capita) Life expectancy at birth, total (years)                 0.644611   \n",
       "Agriculture, value added (% of GDP)         CO2 emissions (metric tons per capita)                  0.616231   \n",
       "                                            Domestic credit provided by financial sector (%...      0.789345   \n",
       "                                            Electric power consumption (kWh per capita)             0.875643   \n",
       "                                            Energy use (kg of oil equivalent per capita)            0.718751   \n",
       "                                            Exports of goods and services (% of GDP)                0.936454   \n",
       "\n",
       "                                                                                                linear RMSE/std  \\\n",
       "Electric power consumption (kWh per capita) Life expectancy at birth, total (years)                    0.846552   \n",
       "Agriculture, value added (% of GDP)         CO2 emissions (metric tons per capita)                     0.690887   \n",
       "                                            Domestic credit provided by financial sector (%...         0.873352   \n",
       "                                            Electric power consumption (kWh per capita)                0.911631   \n",
       "                                            Energy use (kg of oil equivalent per capita)               0.828414   \n",
       "                                            Exports of goods and services (% of GDP)                   0.911685   \n",
       "\n",
       "                                                                                                MLP MAPE  \\\n",
       "Electric power consumption (kWh per capita) Life expectancy at birth, total (years)             0.062189   \n",
       "Agriculture, value added (% of GDP)         CO2 emissions (metric tons per capita)              1.924978   \n",
       "                                            Domestic credit provided by financial sector (%...  1.591525   \n",
       "                                            Electric power consumption (kWh per capita)         0.826794   \n",
       "                                            Energy use (kg of oil equivalent per capita)        0.394668   \n",
       "                                            Exports of goods and services (% of GDP)            0.329588   \n",
       "\n",
       "                                                                                                linear MAPE  \\\n",
       "Electric power consumption (kWh per capita) Life expectancy at birth, total (years)                0.088530   \n",
       "Agriculture, value added (% of GDP)         CO2 emissions (metric tons per capita)                 2.783326   \n",
       "                                            Domestic credit provided by financial sector (%...     2.143466   \n",
       "                                            Electric power consumption (kWh per capita)            5.963870   \n",
       "                                            Energy use (kg of oil equivalent per capita)           0.680230   \n",
       "                                            Exports of goods and services (% of GDP)               0.321846   \n",
       "\n",
       "                                                                                                 MLP rae  \\\n",
       "Electric power consumption (kWh per capita) Life expectancy at birth, total (years)             0.583697   \n",
       "Agriculture, value added (% of GDP)         CO2 emissions (metric tons per capita)              0.535534   \n",
       "                                            Domestic credit provided by financial sector (%...  0.674773   \n",
       "                                            Electric power consumption (kWh per capita)         0.615025   \n",
       "                                            Energy use (kg of oil equivalent per capita)        0.575195   \n",
       "                                            Exports of goods and services (% of GDP)            0.954032   \n",
       "\n",
       "                                                                                                linear rae  \\\n",
       "Electric power consumption (kWh per capita) Life expectancy at birth, total (years)               0.843460   \n",
       "Agriculture, value added (% of GDP)         CO2 emissions (metric tons per capita)                0.646421   \n",
       "                                            Domestic credit provided by financial sector (%...    0.753938   \n",
       "                                            Electric power consumption (kWh per capita)           0.827924   \n",
       "                                            Energy use (kg of oil equivalent per capita)          0.729278   \n",
       "                                            Exports of goods and services (% of GDP)              0.923157   \n",
       "\n",
       "                                                                                                MLP dcor  \\\n",
       "Electric power consumption (kWh per capita) Life expectancy at birth, total (years)             0.799535   \n",
       "Agriculture, value added (% of GDP)         CO2 emissions (metric tons per capita)              0.797036   \n",
       "                                            Domestic credit provided by financial sector (%...  0.649071   \n",
       "                                            Electric power consumption (kWh per capita)         0.684129   \n",
       "                                            Energy use (kg of oil equivalent per capita)        0.739615   \n",
       "                                            Exports of goods and services (% of GDP)            0.385580   \n",
       "\n",
       "                                                                                                linear dcor  \n",
       "Electric power consumption (kWh per capita) Life expectancy at birth, total (years)                0.691547  \n",
       "Agriculture, value added (% of GDP)         CO2 emissions (metric tons per capita)                 0.764530  \n",
       "                                            Domestic credit provided by financial sector (%...     0.637954  \n",
       "                                            Electric power consumption (kWh per capita)            0.629361  \n",
       "                                            Energy use (kg of oil equivalent per capita)           0.670562  \n",
       "                                            Exports of goods and services (% of GDP)               0.428910  "
      ]
     },
     "execution_count": 15,
     "metadata": {},
     "output_type": "execute_result"
    }
   ],
   "source": [
    "metrics_df = pd.DataFrame.from_dict(metrics).transpose()\n",
    "metrics_df"
   ]
  },
  {
   "cell_type": "code",
   "execution_count": 16,
   "id": "f6be4bf6",
   "metadata": {
    "scrolled": true
   },
   "outputs": [
    {
     "data": {
      "text/plain": [
       "{'X_train': array([[8.61449128e+03],\n",
       "        [1.76584955e+03],\n",
       "        [3.68525449e+04],\n",
       "        [1.30797583e+02],\n",
       "        [1.68605341e+04],\n",
       "        [1.15998866e+03],\n",
       "        [1.54810467e+03],\n",
       "        [8.47437911e+03],\n",
       "        [2.13776499e+03],\n",
       "        [4.94956315e+02],\n",
       "        [2.55669391e+03],\n",
       "        [6.56464380e+03],\n",
       "        [7.74033185e+01],\n",
       "        [2.25987421e+03],\n",
       "        [2.48550005e+04],\n",
       "        [5.56022186e+01],\n",
       "        [1.44883806e+02],\n",
       "        [6.66839027e+03],\n",
       "        [4.15913723e+03],\n",
       "        [1.17543801e+04],\n",
       "        [9.29474697e+03],\n",
       "        [6.21876806e+03],\n",
       "        [2.07132310e+02],\n",
       "        [1.66402412e+03],\n",
       "        [5.46335479e+02],\n",
       "        [2.49133824e+02],\n",
       "        [4.89056019e+03],\n",
       "        [1.45225892e+02],\n",
       "        [4.96530893e+02],\n",
       "        [7.38471951e+02],\n",
       "        [1.09728917e+04],\n",
       "        [2.79677077e+03],\n",
       "        [1.21312437e+03],\n",
       "        [1.53305258e+04],\n",
       "        [7.67955066e+02],\n",
       "        [6.95007399e+02],\n",
       "        [7.51906208e+03],\n",
       "        [1.63523218e+04],\n",
       "        [2.39586386e+03],\n",
       "        [4.87308347e+03],\n",
       "        [6.27741146e+03],\n",
       "        [2.53218650e+01],\n",
       "        [5.43356622e+02],\n",
       "        [1.82581998e+03],\n",
       "        [1.02879017e+02],\n",
       "        [8.87060235e+01],\n",
       "        [4.64133424e+02],\n",
       "        [4.94956315e+02],\n",
       "        [1.33331996e+03],\n",
       "        [2.00576172e+02],\n",
       "        [4.37989163e+03],\n",
       "        [1.29864801e+03],\n",
       "        [4.90390505e+03],\n",
       "        [9.26601707e+02],\n",
       "        [1.93838828e+03],\n",
       "        [2.34987907e+03],\n",
       "        [7.00642317e+02],\n",
       "        [1.02816292e+02],\n",
       "        [1.43879257e+03],\n",
       "        [3.97983855e+03],\n",
       "        [3.64624235e+03],\n",
       "        [3.97651898e+03],\n",
       "        [2.07799191e+04],\n",
       "        [5.35010611e+02],\n",
       "        [3.27164288e+03],\n",
       "        [1.39639294e+04],\n",
       "        [1.36574495e+04],\n",
       "        [9.05462229e+01],\n",
       "        [8.47717910e+03],\n",
       "        [3.76566562e+03],\n",
       "        [1.52033960e+03],\n",
       "        [6.10241307e+03],\n",
       "        [8.01261904e+01],\n",
       "        [9.35193639e+03],\n",
       "        [2.33438131e+03],\n",
       "        [1.86867067e+03],\n",
       "        [5.27237078e+03],\n",
       "        [1.42794811e+03],\n",
       "        [5.80432596e+03],\n",
       "        [6.36882826e+03],\n",
       "        [9.74385216e+02],\n",
       "        [2.29492511e+03],\n",
       "        [1.43607410e+03],\n",
       "        [3.35315572e+03],\n",
       "        [1.99242164e+03],\n",
       "        [4.24039048e+02],\n",
       "        [5.55170265e+03],\n",
       "        [9.84050042e+02],\n",
       "        [2.50419758e+03],\n",
       "        [1.90168979e+02],\n",
       "        [9.64060798e+03],\n",
       "        [7.20801261e+02],\n",
       "        [5.66885111e+03],\n",
       "        [2.11821053e+03],\n",
       "        [5.70133085e+03],\n",
       "        [4.49465060e+03],\n",
       "        [8.91805086e+02],\n",
       "        [1.73052425e+03],\n",
       "        [1.67710778e+04],\n",
       "        [5.39657937e+02],\n",
       "        [1.67024487e+02],\n",
       "        [8.18553510e+03],\n",
       "        [2.81633465e+03],\n",
       "        [6.70327420e+03],\n",
       "        [7.51536220e+02],\n",
       "        [1.42634128e+02],\n",
       "        [1.78538915e+03],\n",
       "        [3.99462463e+03],\n",
       "        [1.80798388e+02],\n",
       "        [8.16329558e+03],\n",
       "        [1.52579358e+04],\n",
       "        [2.52990689e+03],\n",
       "        [7.13782418e+03],\n",
       "        [5.88381681e+02],\n",
       "        [1.00227990e+02],\n",
       "        [2.33025947e+03],\n",
       "        [3.66164610e+03],\n",
       "        [2.31497382e+02],\n",
       "        [4.82688388e+02],\n",
       "        [8.70657907e+03],\n",
       "        [7.00324508e+03],\n",
       "        [5.84529906e+02],\n",
       "        [1.92583707e+02],\n",
       "        [3.41511107e+02],\n",
       "        [6.28605054e+03],\n",
       "        [1.33539050e+03]]),\n",
       " 'X_test': array([[  445.71385484],\n",
       "        [ 1996.41590088],\n",
       "        [ 3564.20678527],\n",
       "        [ 2074.86945842],\n",
       "        [ 6518.2174127 ],\n",
       "        [  442.46437712],\n",
       "        [ 1467.44332868],\n",
       "        [ 4523.32287831],\n",
       "        [ 1427.94811341],\n",
       "        [ 8355.35784243],\n",
       "        [ 1816.67110347],\n",
       "        [ 1905.7468004 ],\n",
       "        [ 3394.24686192],\n",
       "        [ 2336.21137313],\n",
       "        [ 2438.00941924],\n",
       "        [  138.14240141],\n",
       "        [  545.35929847],\n",
       "        [ 7209.93723727],\n",
       "        [ 1900.69035912],\n",
       "        [   39.51091544],\n",
       "        [ 1576.21925339],\n",
       "        [  958.92577786],\n",
       "        [ 4029.71565329],\n",
       "        [ 2973.00472678],\n",
       "        [17161.2412833 ],\n",
       "        [ 1882.97207916],\n",
       "        [ 6864.44846513],\n",
       "        [ 5907.34930526],\n",
       "        [ 2062.53791896],\n",
       "        [ 3737.60144274],\n",
       "        [ 1491.37679617],\n",
       "        [ 1835.04594108],\n",
       "        [ 1000.06801295],\n",
       "        [ 3169.0772954 ],\n",
       "        [ 1740.22636998],\n",
       "        [ 3528.92482909],\n",
       "        [  535.01061064],\n",
       "        [   39.46003638],\n",
       "        [ 4487.28613027],\n",
       "        [   87.55628879],\n",
       "        [  651.8730832 ],\n",
       "        [ 1456.22959532],\n",
       "        [ 7229.08991295],\n",
       "        [ 1547.15832667],\n",
       "        [ 2634.37235259],\n",
       "        [  535.01061064],\n",
       "        [  899.70389619],\n",
       "        [ 2003.39457821],\n",
       "        [ 7323.54084523],\n",
       "        [ 8625.77745494],\n",
       "        [  245.96013475],\n",
       "        [ 2413.35429299],\n",
       "        [  968.12726135],\n",
       "        [ 6054.3744381 ]]),\n",
       " 'y_train': array([79.78292683, 73.15801294, 81.45365854, 55.80131707, 73.81      ,\n",
       "        74.20243902, 76.31446341, 82.50707317, 72.41482927, 65.54851672,\n",
       "        73.47290421, 74.04063415, 57.86739024, 64.63882927, 80.39512195,\n",
       "        59.66941463, 55.69929268, 78.19512195, 73.63170732, 76.11117073,\n",
       "        79.02618991, 79.64146341, 61.95480488, 67.53121951, 67.56773171,\n",
       "        52.47914634, 78.32195122, 49.43573171, 61.28532042, 74.48385366,\n",
       "        81.29268293, 77.61590244, 76.47029268, 77.28685366, 68.19902439,\n",
       "        71.85873171, 81.11219512, 79.38292683, 69.19756098, 79.79268293,\n",
       "        72.81463415, 59.97739024, 65.30043902, 73.37902285, 55.43343902,\n",
       "        66.55192683, 72.57165854, 65.54851672, 66.06817073, 68.85997561,\n",
       "        78.8685122 , 78.44919512, 51.9965122 , 66.71684118, 72.96117073,\n",
       "        73.17707317, 44.1777561 , 55.06441463, 67.68854264, 74.25238333,\n",
       "        74.32295122, 73.15121951, 75.7077561 , 54.17855182, 73.81826829,\n",
       "        78.24844605, 77.98780488, 60.70087805, 79.3495122 , 71.73863415,\n",
       "        68.79892563, 79.44878049, 58.07778049, 79.23862032, 75.3714878 ,\n",
       "        72.63781206, 74.20731707, 70.84620572, 81.43414634, 78.96821027,\n",
       "        72.7055122 , 72.67419512, 69.78229268, 79.31353659, 69.20700823,\n",
       "        74.19412195, 74.92140241, 71.69482927, 72.78125402, 48.77882927,\n",
       "        80.15121951, 71.27763415, 69.25965854, 69.7565122 , 79.43902439,\n",
       "        75.12360976, 72.89836585, 73.42102439, 80.63439024, 70.11078049,\n",
       "        56.57661654, 80.1804878 , 69.64185427, 73.34507317, 68.37619512,\n",
       "        59.62773156, 70.17294402, 69.99444898, 61.78417073, 81.74146341,\n",
       "        80.9       , 72.56585366, 78.56097561, 65.05949548, 64.55234146,\n",
       "        74.34043902, 75.24390244, 60.08910559, 64.33873171, 80.44146341,\n",
       "        80.50487805, 67.47902439, 54.48513073, 60.51656343, 67.49756098,\n",
       "        72.13131707]),\n",
       " 'y_test': array([51.62209756, 68.20990244, 70.9       , 72.87443902, 76.72439024,\n",
       "        59.20782178, 67.75917164, 72.66341463, 70.85621424, 78.77602279,\n",
       "        72.57073171, 75.58792683, 70.20341463, 71.41089045, 75.00904878,\n",
       "        49.80814634, 64.69412195, 80.09756098, 78.33031707, 55.45502439,\n",
       "        74.24607317, 74.49502439, 69.42256413, 73.38890244, 79.26341463,\n",
       "        72.69192704, 80.09975173, 82.32682927, 67.2074878 , 75.70560976,\n",
       "        59.07456098, 73.24000644, 60.39278049, 71.0195122 , 73.76465854,\n",
       "        68.22219512, 54.17855182, 58.408     , 66.50487805, 64.09368293,\n",
       "        52.47714634, 67.89512195, 79.53414634, 58.78080488, 73.58465954,\n",
       "        54.176543  , 70.78046341, 74.00929268, 75.36341463, 76.67556098,\n",
       "        59.63585366, 75.95102439, 72.99695122, 80.87317073]),\n",
       " 'y_test_pred': array([63.19311847, 72.11880947, 73.34034309, 72.17993603, 76.19514295,\n",
       "        63.14309049, 71.70666408, 74.08763188, 71.67589165, 80.66113741,\n",
       "        71.97876253, 72.04816526, 73.20791997, 72.38355881, 72.46287406,\n",
       "        58.57031479, 64.72722984, 78.38323956, 72.04422556, 58.49839333,\n",
       "        71.79141611, 71.09437537, 73.70304116, 72.87971202, 77.94237254,\n",
       "        72.03042049, 77.29036527, 75.16598667, 72.17032799, 73.47544236,\n",
       "        71.72531168, 71.99307916, 71.34251178, 73.03248063, 71.91920114,\n",
       "        73.31285339, 64.56790455, 58.49835623, 74.05955409, 58.53342772,\n",
       "        66.36708414, 71.69792698, 78.44382464, 71.76877348, 72.61586891,\n",
       "        64.56790455, 70.18261303, 72.12424686, 78.74259845, 80.40214737,\n",
       "        60.11777009, 72.44366419, 71.23603865, 75.28054031]),\n",
       " 'outliers':       Electric power consumption (kWh per capita)  \\\n",
       " 119                                  10972.891740   \n",
       " 159                                  20779.919109   \n",
       " 369                                  16771.077825   \n",
       " 789                                  17161.241283   \n",
       " 1079                                 36852.544886   \n",
       " 1259                                 16860.534052   \n",
       " 1439                                 16352.321805   \n",
       " 1739                                  9640.607983   \n",
       " 1779                                 13963.929363   \n",
       " 1799                                 24855.000464   \n",
       " 1979                                 15330.525762   \n",
       " 2329                                 15257.935753   \n",
       " 2499                                 11754.380127   \n",
       " 2519                                 13657.449509   \n",
       " \n",
       "       Life expectancy at birth, total (years)  \n",
       " 119                                 81.292683  \n",
       " 159                                 75.707756  \n",
       " 369                                 80.634390  \n",
       " 789                                 79.263415  \n",
       " 1079                                81.453659  \n",
       " 1259                                73.810000  \n",
       " 1439                                79.382927  \n",
       " 1739                                80.151220  \n",
       " 1779                                78.248446  \n",
       " 1799                                80.395122  \n",
       " 1979                                77.286854  \n",
       " 2329                                80.900000  \n",
       " 2499                                76.111171  \n",
       " 2519                                77.987805  ,\n",
       " 'outlier_info': 'included',\n",
       " 'GridSearchParams': {'mlp__alpha': 0.0001,\n",
       "  'mlp__hidden_layer_sizes': (40, 18, 3)},\n",
       " 'scores': {'mean_fit_time': array([0.02274831, 0.00721685, 0.01145792, 0.01068131, 0.82102744,\n",
       "         0.00651519, 0.00861804, 0.12945636, 0.18159334, 0.01530592,\n",
       "         0.35241405, 0.72108348, 1.17087642, 0.90966145, 1.37538616,\n",
       "         1.25734623, 1.14831018, 1.32550637, 1.14490167, 1.61121281,\n",
       "         1.14442778, 1.02800957, 1.09328127, 1.56705308]),\n",
       "  'std_fit_time': array([0.00466385, 0.00249549, 0.00224481, 0.0017397 , 0.56491039,\n",
       "         0.00098938, 0.00315935, 0.08756357, 0.1481001 , 0.00926436,\n",
       "         0.274708  , 0.97620733, 0.01940304, 0.0928745 , 0.43401145,\n",
       "         0.57119957, 0.03450573, 0.01779222, 0.49499413, 0.39615218,\n",
       "         0.00335622, 0.19606033, 0.5267824 , 0.40497322]),\n",
       "  'mean_score_time': array([0.00032894, 0.00029548, 0.00031455, 0.0003252 , 0.00037479,\n",
       "         0.00034904, 0.0003709 , 0.00034086, 0.0003016 , 0.00028563,\n",
       "         0.0003376 , 0.00033371, 0.00047771, 0.00043893, 0.00042868,\n",
       "         0.00051284, 0.00040428, 0.00044505, 0.00043432, 0.00049241,\n",
       "         0.00045554, 0.00040253, 0.0004735 , 0.00043146]),\n",
       "  'std_score_time': array([2.95076639e-05, 2.62861815e-06, 1.92054843e-06, 2.72535137e-06,\n",
       "         6.15286250e-06, 2.14125901e-05, 1.39962514e-05, 3.14630231e-05,\n",
       "         2.84954258e-05, 5.84003864e-07, 2.88062533e-05, 2.50391223e-05,\n",
       "         6.66485007e-05, 2.20026464e-05, 1.52040533e-05, 1.39092263e-04,\n",
       "         7.09759825e-06, 1.22352075e-05, 1.53495816e-05, 8.54284817e-05,\n",
       "         6.21373078e-05, 1.68028255e-05, 6.59660162e-05, 9.74377449e-06]),\n",
       "  'param_mlp__alpha': masked_array(data=[0.001, 0.001, 0.001, 0.001, 0.0001, 0.0001, 0.0001,\n",
       "                     0.0001, 1e-05, 1e-05, 1e-05, 1e-05, 0.001, 0.001,\n",
       "                     0.001, 0.001, 0.0001, 0.0001, 0.0001, 0.0001, 1e-05,\n",
       "                     1e-05, 1e-05, 1e-05],\n",
       "               mask=[False, False, False, False, False, False, False, False,\n",
       "                     False, False, False, False, False, False, False, False,\n",
       "                     False, False, False, False, False, False, False, False],\n",
       "         fill_value='?',\n",
       "              dtype=object),\n",
       "  'param_mlp__hidden_layer_sizes': masked_array(data=[(12,), (50,), (70, 5), (40, 18, 3), (12,), (50,),\n",
       "                     (70, 5), (40, 18, 3), (12,), (50,), (70, 5),\n",
       "                     (40, 18, 3), (12,), (50,), (70, 5), (40, 18, 3), (12,),\n",
       "                     (50,), (70, 5), (40, 18, 3), (12,), (50,), (70, 5),\n",
       "                     (40, 18, 3)],\n",
       "               mask=[False, False, False, False, False, False, False, False,\n",
       "                     False, False, False, False, False, False, False, False,\n",
       "                     False, False, False, False, False, False, False, False],\n",
       "         fill_value='?',\n",
       "              dtype=object),\n",
       "  'param_scaler': masked_array(data=['passthrough', 'passthrough', 'passthrough',\n",
       "                     'passthrough', 'passthrough', 'passthrough',\n",
       "                     'passthrough', 'passthrough', 'passthrough',\n",
       "                     'passthrough', 'passthrough', 'passthrough', --, --,\n",
       "                     --, --, --, --, --, --, --, --, --, --],\n",
       "               mask=[False, False, False, False, False, False, False, False,\n",
       "                     False, False, False, False,  True,  True,  True,  True,\n",
       "                      True,  True,  True,  True,  True,  True,  True,  True],\n",
       "         fill_value='?',\n",
       "              dtype=object),\n",
       "  'params': [{'mlp__alpha': 0.001,\n",
       "    'mlp__hidden_layer_sizes': (12,),\n",
       "    'scaler': 'passthrough'},\n",
       "   {'mlp__alpha': 0.001,\n",
       "    'mlp__hidden_layer_sizes': (50,),\n",
       "    'scaler': 'passthrough'},\n",
       "   {'mlp__alpha': 0.001,\n",
       "    'mlp__hidden_layer_sizes': (70, 5),\n",
       "    'scaler': 'passthrough'},\n",
       "   {'mlp__alpha': 0.001,\n",
       "    'mlp__hidden_layer_sizes': (40, 18, 3),\n",
       "    'scaler': 'passthrough'},\n",
       "   {'mlp__alpha': 0.0001,\n",
       "    'mlp__hidden_layer_sizes': (12,),\n",
       "    'scaler': 'passthrough'},\n",
       "   {'mlp__alpha': 0.0001,\n",
       "    'mlp__hidden_layer_sizes': (50,),\n",
       "    'scaler': 'passthrough'},\n",
       "   {'mlp__alpha': 0.0001,\n",
       "    'mlp__hidden_layer_sizes': (70, 5),\n",
       "    'scaler': 'passthrough'},\n",
       "   {'mlp__alpha': 0.0001,\n",
       "    'mlp__hidden_layer_sizes': (40, 18, 3),\n",
       "    'scaler': 'passthrough'},\n",
       "   {'mlp__alpha': 1e-05,\n",
       "    'mlp__hidden_layer_sizes': (12,),\n",
       "    'scaler': 'passthrough'},\n",
       "   {'mlp__alpha': 1e-05,\n",
       "    'mlp__hidden_layer_sizes': (50,),\n",
       "    'scaler': 'passthrough'},\n",
       "   {'mlp__alpha': 1e-05,\n",
       "    'mlp__hidden_layer_sizes': (70, 5),\n",
       "    'scaler': 'passthrough'},\n",
       "   {'mlp__alpha': 1e-05,\n",
       "    'mlp__hidden_layer_sizes': (40, 18, 3),\n",
       "    'scaler': 'passthrough'},\n",
       "   {'mlp__alpha': 0.001, 'mlp__hidden_layer_sizes': (12,)},\n",
       "   {'mlp__alpha': 0.001, 'mlp__hidden_layer_sizes': (50,)},\n",
       "   {'mlp__alpha': 0.001, 'mlp__hidden_layer_sizes': (70, 5)},\n",
       "   {'mlp__alpha': 0.001, 'mlp__hidden_layer_sizes': (40, 18, 3)},\n",
       "   {'mlp__alpha': 0.0001, 'mlp__hidden_layer_sizes': (12,)},\n",
       "   {'mlp__alpha': 0.0001, 'mlp__hidden_layer_sizes': (50,)},\n",
       "   {'mlp__alpha': 0.0001, 'mlp__hidden_layer_sizes': (70, 5)},\n",
       "   {'mlp__alpha': 0.0001, 'mlp__hidden_layer_sizes': (40, 18, 3)},\n",
       "   {'mlp__alpha': 1e-05, 'mlp__hidden_layer_sizes': (12,)},\n",
       "   {'mlp__alpha': 1e-05, 'mlp__hidden_layer_sizes': (50,)},\n",
       "   {'mlp__alpha': 1e-05, 'mlp__hidden_layer_sizes': (70, 5)},\n",
       "   {'mlp__alpha': 1e-05, 'mlp__hidden_layer_sizes': (40, 18, 3)}],\n",
       "  'split0_test_score': array([-4.13398698e+01, -8.56127319e+02, -6.76877710e+01, -8.48675040e+01,\n",
       "         -4.90652514e+01, -4.66218776e+01, -1.90705704e+02, -5.18409457e+01,\n",
       "         -5.43374826e+01, -1.22032391e+03, -5.37400875e+01, -5.94197737e+01,\n",
       "         -9.74932816e-01, -8.12885044e-01, -5.85001684e+01,  7.39188988e-01,\n",
       "         -3.75568887e+00,  6.95555341e-02,  7.33518776e-01,  7.62715694e-01,\n",
       "         -1.00841635e+00, -1.18780716e+00, -8.58645123e-01,  4.75901122e-01]),\n",
       "  'split1_test_score': array([-4.72729121e+01, -2.91188826e+02, -6.80180602e+01, -3.76907498e+01,\n",
       "         -3.45469995e+01, -1.71602319e+02, -5.02775284e+01, -3.42196331e+01,\n",
       "         -3.80537803e+01, -4.42503514e+01, -6.53616715e+01, -4.24818393e+01,\n",
       "          3.56726906e-01,  2.26181551e-01,  3.79451303e-01,  3.80439076e-01,\n",
       "          2.26926852e-01,  3.71597755e-01,  3.80535494e-01,  3.68431566e-01,\n",
       "          2.19710625e-01,  2.26174012e-01,  3.83641563e-01,  3.47175323e-01]),\n",
       "  'split2_test_score': array([ -62.46413897,  -77.90740643, -231.95834123,  -60.02191277,\n",
       "          -53.63160694, -271.02316141,  -82.96993328,  -57.75160791,\n",
       "          -44.48287294, -269.2517637 , -213.49030923,  -52.9246416 ,\n",
       "            0.34435084,    0.38952374,    0.60911491,    0.7053255 ,\n",
       "            0.36321537,    0.56606769,    0.53423491,    0.71043405,\n",
       "            0.35537418,    0.56536704,    0.6780912 ,    0.71331629]),\n",
       "  'mean_test_score': array([-5.03589736e+01, -4.08407851e+02, -1.22554724e+02, -6.08600555e+01,\n",
       "         -4.57479526e+01, -1.63082453e+02, -1.07984389e+02, -4.79373956e+01,\n",
       "         -4.56247120e+01, -5.11275341e+02, -1.10864023e+02, -5.16087516e+01,\n",
       "         -9.12850229e-02, -6.57265840e-02, -1.91705341e+01,  6.08317856e-01,\n",
       "         -1.05518222e+00,  3.35740328e-01,  5.49429728e-01,  6.13860436e-01,\n",
       "         -1.44443850e-01, -1.32088700e-01,  6.76958818e-02,  5.12130910e-01]),\n",
       "  'std_test_score': array([8.89574874e+00, 3.28341065e+02, 7.73601570e+01, 1.92689456e+01,\n",
       "         8.13670343e+00, 9.18093138e+01, 5.99961685e+01, 9.99555695e+00,\n",
       "         6.69664532e+00, 5.09718100e+02, 7.27226756e+01, 6.97720481e+00,\n",
       "         6.24853774e-01, 5.32512592e-01, 2.78104092e+01, 1.61726596e-01,\n",
       "         1.91035699e+00, 2.04279870e-01, 1.44504812e-01, 1.74852014e-01,\n",
       "         6.13426176e-01, 7.59240442e-01, 6.65960905e-01, 1.51655859e-01]),\n",
       "  'rank_test_score': array([16, 23, 21, 18, 14, 22, 19, 15, 13, 24, 20, 17,  8,  7, 12,  2, 11,\n",
       "          5,  3,  1, 10,  9,  6,  4], dtype=int32),\n",
       "  'split0_train_score': array([-3.99741872e+01, -4.77179481e+02, -7.71758900e+01, -4.04543188e+01,\n",
       "         -3.27262205e+01, -5.94463727e+01, -6.44446826e+01, -3.85636369e+01,\n",
       "         -3.66768296e+01, -4.02868961e+02, -2.22163408e+01, -6.76307730e+01,\n",
       "          2.59136330e-01,  3.40940117e-01, -6.65696561e+01,  5.98427351e-01,\n",
       "         -4.98015846e-01,  4.30088410e-01,  5.73429207e-01,  5.95413107e-01,\n",
       "          2.74487882e-01,  3.40931901e-01,  3.40940221e-01,  5.90681856e-01]),\n",
       "  'split1_train_score': array([-4.79083547e+01, -4.52898231e+02, -7.42593069e+01, -4.43100985e+01,\n",
       "         -3.74301995e+01, -3.93204491e+02, -5.12071144e+01, -3.81664301e+01,\n",
       "         -4.11910416e+01, -4.51320168e+01, -7.16348073e+01, -4.39579218e+01,\n",
       "          5.58422701e-01,  3.53675370e-01,  5.96743262e-01,  5.97651685e-01,\n",
       "          3.53608814e-01,  5.90994205e-01,  5.95564290e-01,  8.24900673e-01,\n",
       "          3.12873636e-01,  3.53675410e-01,  5.96711830e-01,  8.26920152e-01]),\n",
       "  'split2_train_score': array([-4.68355253e+01, -6.03382926e+01, -2.43189645e+02, -4.53211781e+01,\n",
       "         -4.11342423e+01, -5.38786247e+02, -6.50023067e+01, -4.38122500e+01,\n",
       "         -7.30590206e+01, -2.91087864e+02, -2.19419952e+02, -4.09889833e+01,\n",
       "          2.08687031e-01,  2.72687257e-01,  5.88807832e-01,  6.48301718e-01,\n",
       "          2.35756059e-01,  4.87708957e-01,  5.13706673e-01,  6.47042611e-01,\n",
       "          2.29666346e-01,  4.95156370e-01,  6.31138873e-01,  6.49373101e-01]),\n",
       "  'mean_train_score': array([-4.49060224e+01, -3.30138668e+02, -1.31541614e+02, -4.33618651e+01,\n",
       "         -3.70968874e+01, -3.30479037e+02, -6.02180346e+01, -4.01807724e+01,\n",
       "         -5.03089639e+01, -2.46362947e+02, -1.04423700e+02, -5.08592260e+01,\n",
       "          3.42082020e-01,  3.22434248e-01, -2.17947017e+01,  6.14793585e-01,\n",
       "          3.04496755e-02,  5.02930524e-01,  5.60900057e-01,  6.89118797e-01,\n",
       "          2.72342621e-01,  3.96587894e-01,  5.22930308e-01,  6.88991703e-01]),\n",
       "  'std_train_score': array([3.51472991e+00, 1.91035035e+02, 7.89560584e+01, 2.09697239e+00,\n",
       "         3.44064238e+00, 2.00653168e+02, 6.37574824e+00, 2.57295755e+00,\n",
       "         1.61919390e+01, 1.49430405e+02, 8.37800678e+01, 1.19210525e+01,\n",
       "         1.54356191e-01, 3.55585810e-02, 3.16606741e+01, 2.36959442e-02,\n",
       "         3.76766217e-01, 6.65654606e-02, 3.45726486e-02, 9.82986599e-02,\n",
       "         3.40030871e-02, 6.98923347e-02, 1.29451662e-01, 1.00430269e-01])}}"
      ]
     },
     "execution_count": 16,
     "metadata": {},
     "output_type": "execute_result"
    }
   ],
   "source": [
    "datas[('Electric power consumption (kWh per capita)', 'Life expectancy at birth, total (years)')]"
   ]
  },
  {
   "cell_type": "code",
   "execution_count": 19,
   "id": "49f2cff3",
   "metadata": {
    "scrolled": false
   },
   "outputs": [
    {
     "data": {
      "application/vnd.plotly.v1+json": {
       "config": {
        "plotlyServerURL": "https://plot.ly"
       },
       "data": [
        {
         "marker": {
          "color": "Maroon",
          "size": 3
         },
         "mode": "markers",
         "name": "y_train",
         "opacity": 0.6,
         "type": "scatter",
         "x": [
          3.99893171017,
          2.08267281199,
          21.5979074173,
          1.35931645368,
          5.60664190981,
          25.9841860283,
          2.34448059218,
          27.6154121436,
          8.78197083287,
          3.44481256862,
          19.073238719000003,
          11.008901668800002,
          2.95864240277,
          5.3008784072,
          21.226323955,
          11.8658790827,
          1.17223443058,
          10.2782421013,
          22.2159421202,
          6.298014337610001,
          3.32006056514,
          18.7060942247,
          9.99467326093,
          16.26889203,
          9.10835927258,
          19.8714915089,
          28.7842757867,
          8.858365969489999,
          9.08345554572,
          1.96523219328,
          1.3264071597,
          10.0365054672,
          23.6921959142,
          9.35060922906,
          3.85527653326,
          3.73990020046,
          22.845301415300003,
          19.508820086,
          23.629347726,
          0.38672668908,
          28.3882025746,
          27.4221698942,
          9.85541682914,
          1.4251292701,
          1.58565905029,
          44.3255767787,
          2.49489334921,
          2.10492998067,
          4.410792237930001,
          7.68845250023,
          29.7370589291,
          25.6045478714,
          0.109942375031,
          20.2820602192,
          25.5742964673,
          30.6228536689,
          13.7740418622,
          26.9800351227,
          0,
          1.80029894305,
          25.3833362332,
          3.29591575982,
          13.7166831035,
          7.441635532799999,
          12.7027804315,
          13.906178573900002,
          25.3459465698,
          5.33008102955,
          8.52712766747,
          18.9324313035,
          1.58771257851,
          7.002185705710001,
          3.69240364225,
          25.1707738927,
          9.97740172122,
          36.0602642895,
          12.0098030993,
          0.689655172414,
          20.4580962394,
          1.5995787339899998,
          26.6780662276,
          5.546880311869999,
          5.46716886269,
          40.9680421334,
          31.9945080303,
          0.628423193447,
          20.5924717371,
          0.990615986042,
          4.97041961708,
          2.71119539911,
          3.866541464780001,
          3.97760747698,
          9.83719474362,
          37.3360989703,
          21.3892586064,
          2.17042698586,
          5.42867241605,
          1.9365802171,
          19.958840175,
          5.92266218452,
          2.301168274,
          33.5606983113,
          9.88104813461,
          3.93724752747,
          6.5226137839,
          25.6878634932,
          7.460483259839999,
          2.4014016490900003,
          6.64461407566,
          12.1990007301,
          19.8747975889,
          1.73999207105,
          5.180019383249999,
          1.69544417097,
          2.68309971036,
          0.449521757473,
          4.05177547022,
          16.302677919100002,
          5.1669801033,
          23.2675342742,
          10.6954830619,
          11.0336448444,
          23.0582755994,
          2.77015987021,
          35.1089588378,
          1.37747345784,
          7.3119819912,
          7.81542587635,
          9.7167030399,
          17.9391583039,
          32.7480039844,
          17.9715855345,
          3.44319587191,
          26.6780892327,
          5.34293500376,
          7.66371755647,
          13.007373259,
          6.55827876303,
          1.3975211134099998,
          4.13156944684,
          2.91096205608,
          4.32729847263
         ],
         "xaxis": "x",
         "y": [
          83.2757640521,
          72.6990122704,
          37.7853732975,
          34.5723366818,
          21.4192857136,
          25.292324502800003,
          53.2590529248,
          22.5865082139,
          22.5605274925,
          38.5645900784,
          75.393837037,
          30.3972796939,
          31.1738656713,
          58.5286045861,
          56.6755948923,
          25.8827450025,
          80.74500303319999,
          31.8045792748,
          20.6190914653,
          31.2860246607,
          27.7405852167,
          16.9953348465,
          31.8974510411,
          15.4786486946,
          44.3934583041,
          11.3815335807,
          18.9191161299,
          32.3428851715,
          38.4788362063,
          70.2736107488,
          44.95926357729999,
          32.1795634197,
          40.7947928643,
          68.8722296414,
          57.0882522745,
          38.4509870811,
          39.9628223787,
          20.2410450326,
          16.7250685273,
          65.3307966631,
          37.3191668588,
          29.410450515,
          35.9034306085,
          27.6456797738,
          48.2580656119,
          20.1772146583,
          54.5160825472,
          27.4271991137,
          30.1640724867,
          47.0681628294,
          24.5250906044,
          30.0284758085,
          60.2773718603,
          19.1856439468,
          44.8729593059,
          17.8237142692,
          25.4462759164,
          29.1310000013,
          79.31012021800001,
          27.1283927901,
          5.771852583769999,
          59.6280958078,
          29.4357184851,
          19.3668493544,
          35.0860778114,
          49.0397495747,
          28.7647657215,
          39.7287135063,
          22.3232413582,
          21.0082895202,
          26.1216774635,
          68.1309402161,
          43.82695987140001,
          34.8678407774,
          28.3637916498,
          34.4991478324,
          47.4524622329,
          67.8527507652,
          59.6144484321,
          52.4851502713,
          21.8865604123,
          22.5803398163,
          29.1450561962,
          17.4284341773,
          23.735748372,
          24.864163983,
          37.9783578026,
          77.4908365667,
          20.3364986733,
          25.7077350535,
          50.4172790551,
          78.3093952437,
          31.9317679733,
          7.25846908868,
          51.231431970900005,
          66.5527781975,
          51.9656712834,
          45.0872506925,
          35.0663943672,
          36.7488173417,
          31.0057427829,
          12.8556648764,
          29.090487255,
          52.10330504229999,
          49.4967431211,
          30.3236547425,
          44.8440541617,
          19.8960179801,
          31.7103688767,
          34.5715732968,
          28.0842219492,
          39.3578577764,
          13.3276451578,
          38.2800330647,
          43.9968057283,
          65.9129090572,
          30.254030248200003,
          41.7204482186,
          33.3645655315,
          21.9189912934,
          31.2057157058,
          39.5737394499,
          13.214613412,
          59.9374401393,
          15.8837772397,
          56.4832095317,
          31.522116530500004,
          37.1551611623,
          27.1055815456,
          38.6434451434,
          10.8513340518,
          29.0189441354,
          22.520269763,
          30.8372823383,
          69.3778032255,
          32.8858417492,
          53.509011539300005,
          29.246323135900003,
          43.3042209731,
          28.90625,
          61.4859649759,
          78.5294841648
         ],
         "yaxis": "y"
        },
        {
         "marker": {
          "color": "LightSeaGreen"
         },
         "mode": "markers",
         "name": "y_pred",
         "type": "scatter",
         "x": [
          11.2639956833,
          8.1395876491,
          19.2321239214,
          6.1666723739,
          4.42648853615,
          3.71558373697,
          22.90321304,
          4.83191070022,
          22.9498211647,
          8.86754775983,
          19.9435210258,
          1.3840682701299998,
          0.4805408242769999,
          2.84223747426,
          7.10506711161,
          12.4967355949,
          19.9435210258,
          2.13980703442,
          2.32673473265,
          30.5551329141,
          40.8316044145,
          2.70926496677,
          4.92716026506,
          0.8385902629719999,
          34.4306278562,
          1.5072236450299998,
          3.4553472740400006,
          13.3938453622,
          7.39167903381,
          11.0336448444,
          9.07116986939,
          3.28966731218,
          7.829878874939999,
          9.17512505399,
          6.09658891977,
          2.29732390647,
          23.4831976224,
          0.825476704284,
          9.22420357419,
          1.43909659065,
          13.2345052495,
          18.6550997017,
          5.458593072969999,
          7.078436759470001,
          10.3641195104,
          32.7141789793,
          1.10579072518,
          9.39965492646,
          9.67487396449,
          12.4060045376,
          12.8769620759,
          19.508820086,
          21.9948063744,
          5.3498918165900005,
          25.8585364121,
          4.12501854831,
          35.8235289101,
          18.2311442665,
          14.070240063599998,
          10.2830046593,
          28.9090909091
         ],
         "xaxis": "x",
         "y": [
          34.26859015420145,
          35.35764983116465,
          35.403149993141085,
          39.18000044179261,
          43.16610630948134,
          44.853474111273464,
          30.105392389424996,
          42.20381669408746,
          29.870127894141632,
          35.09079915347597,
          36.18112509726491,
          50.38744171518328,
          52.53200892295338,
          46.92640478386441,
          37.194714182914055,
          33.84564340908096,
          36.18112509726491,
          48.59365827343409,
          48.14997611005549,
          21.8202229355779,
          18.284712708509613,
          47.242021625839584,
          41.977737127553205,
          51.682160820928246,
          18.458240013130926,
          50.09512632434107,
          45.47115826378846,
          33.537849646159096,
          36.58835239516256,
          34.34762234633846,
          35.02093745137436,
          45.864407871003344,
          35.72748766154621,
          34.98527096037228,
          39.328270367941776,
          48.219784164773195,
          28.918317026299498,
          51.713286502907835,
          34.96843237164924,
          50.256829267019675,
          33.59251842211048,
          34.77212341933785,
          40.716354998866436,
          37.2510538766997,
          34.57733305670515,
          19.62601841539393,
          51.04794727071195,
          34.90823591198138,
          34.81380967069996,
          33.876772769788175,
          33.715189652344186,
          35.70574150797007,
          34.690769661521436,
          40.97436282247592,
          26.56458294686161,
          43.881660278556566,
          17.953988327342774,
          34.30849098141591,
          33.305782091047185,
          34.6051631463541,
          23.49306950703312
         ],
         "yaxis": "y"
        },
        {
         "marker": {
          "color": "LightSalmon"
         },
         "mode": "markers",
         "name": "y_test",
         "type": "scatter",
         "x": [
          11.2639956833,
          8.1395876491,
          19.2321239214,
          6.1666723739,
          4.42648853615,
          3.71558373697,
          22.90321304,
          4.83191070022,
          22.9498211647,
          8.86754775983,
          19.9435210258,
          1.3840682701299998,
          0.4805408242769999,
          2.84223747426,
          7.10506711161,
          12.4967355949,
          19.9435210258,
          2.13980703442,
          2.32673473265,
          30.5551329141,
          40.8316044145,
          2.70926496677,
          4.92716026506,
          0.8385902629719999,
          34.4306278562,
          1.5072236450299998,
          3.4553472740400006,
          13.3938453622,
          7.39167903381,
          11.0336448444,
          9.07116986939,
          3.28966731218,
          7.829878874939999,
          9.17512505399,
          6.09658891977,
          2.29732390647,
          23.4831976224,
          0.825476704284,
          9.22420357419,
          1.43909659065,
          13.2345052495,
          18.6550997017,
          5.458593072969999,
          7.078436759470001,
          10.3641195104,
          32.7141789793,
          1.10579072518,
          9.39965492646,
          9.67487396449,
          12.4060045376,
          12.8769620759,
          19.508820086,
          21.9948063744,
          5.3498918165900005,
          25.8585364121,
          4.12501854831,
          35.8235289101,
          18.2311442665,
          14.070240063599998,
          10.2830046593,
          28.9090909091
         ],
         "xaxis": "x",
         "y": [
          54.1247984121,
          59.0804154491,
          41.6513855926,
          32.7938441604,
          46.486836734700006,
          50.938709299,
          23.9302331614,
          39.0005041788,
          14.7344800798,
          40.7956824605,
          35.1136850498,
          51.3363123712,
          81.4374835958,
          54.2343662375,
          53.7206413641,
          43.2607982595,
          35.1136850498,
          67.5970600995,
          46.739294020600006,
          23.311445308400003,
          15.4578850699,
          39.184677076,
          55.8674978743,
          61.6253437675,
          24.1521111507,
          34.1531662527,
          63.19566180819999,
          63.8204902421,
          29.6994697849,
          39.5737394499,
          38.3506423025,
          39.7319468202,
          16.539232425199998,
          36.0174132066,
          49.3128208904,
          38.1498973039,
          16.9695492023,
          43.00991154810001,
          50.4823374289,
          29.6045147142,
          33.591193205,
          70.5178746023,
          23.3920769376,
          26.762022012,
          44.1168819676,
          33.7285210454,
          17.4933165716,
          51.0861106208,
          60.9430527153,
          25.5652641596,
          41.795377103,
          20.2410450326,
          47.2259826099,
          38.2267206478,
          39.6703138702,
          31.1305388597,
          37.9192864412,
          28.3927272816,
          30.2497314715,
          35.9483021021,
          10.5545617174
         ],
         "yaxis": "y"
        },
        {
         "marker": {
          "color": "DarkSlateBlue "
         },
         "mode": "markers",
         "name": "outliers (excluded)",
         "type": "scatter",
         "x": [
          31.8813748741,
          54.284112267,
          56.0022458493,
          1.37863038748,
          0.0632302234238,
          31.0757952385,
          0.461027579923,
          9.98674649052,
          5.645096618359999,
          1.98434044588,
          43.3227660064,
          1.12491917614,
          2.74666474155,
          54.7629072095,
          0.045594963438,
          1.08691531855
         ],
         "xaxis": "x",
         "y": [
          65.3259680507,
          14.1106752823,
          44.5034938578,
          88.6212939725,
          203.721809886,
          52.9129788573,
          184.176728018,
          106.168575465,
          103.31514556,
          129.537125488,
          0.138180683366,
          13.5539526683,
          90.6255602079,
          15.6035816261,
          214.742278151,
          11.4979069441
         ],
         "yaxis": "y"
        },
        {
         "marker": {
          "color": "Tomato"
         },
         "name": "prediction error",
         "nbinsx": 100,
         "type": "histogram",
         "x": [
          -19.85620825789855,
          -23.72276561793535,
          -6.248235599458916,
          6.3861562813926085,
          -3.320730425218663,
          -6.085235187726539,
          6.175159228024995,
          3.2033125152874575,
          15.135647814341631,
          -5.704883307024026,
          1.0674400474649133,
          -0.948870656016723,
          -28.905474672846623,
          -7.307961453635585,
          -16.525927181185942,
          -9.415154850419043,
          1.0674400474649133,
          -19.00340182606591,
          1.4106820894554843,
          -1.4912223728221043,
          2.826827638609613,
          8.057344549839584,
          -13.889760746746795,
          -9.943182946571753,
          -5.693871137569076,
          15.94196007164107,
          -17.724503544411533,
          -30.282640595940904,
          6.888882610262559,
          -5.226117103561542,
          -3.3297048511256406,
          6.132461050803343,
          19.188255236346215,
          -1.032142246227714,
          -9.984550522458221,
          10.069886860873197,
          11.948767823999496,
          8.703374954807828,
          -15.51390505725076,
          20.652314552819675,
          0.0013252171104767285,
          -35.745751182962145,
          17.324278061266437,
          10.489031864699701,
          -9.539548910894851,
          -14.102502630006072,
          33.554630699111954,
          -16.17787470881862,
          -26.129243044600038,
          8.311508610188174,
          -8.080187450655814,
          15.464696475370069,
          -12.535212948378565,
          2.747642174675917,
          -13.105730923338388,
          12.751121418856567,
          -19.965298113857227,
          5.915763699815908,
          3.056050619547186,
          -1.3431389557459,
          12.93850778963312
         ],
         "xaxis": "x2",
         "yaxis": "y2"
        }
       ],
       "layout": {
        "annotations": [
         {
          "align": "right",
          "bgcolor": "white",
          "showarrow": false,
          "text": "<b>r2 MLP:   </b>0.12 <i><br>r2 lin. reg.:   </i>0.17 <b><br>RMSE MLP:   </b>14.03 <i><br>RMSE lin. reg.:   </i>13.66 <b><br>RMSE/std MLP:   </b>0.94 <i><br>RMSE/std lin. reg.:   </i>0.91 <b><br>MAPE MLP:   </b>0.33 <i><br>MAPE lin. reg.:   </i>0.32 <b><br>rae MLP:   </b>0.95 <i><br>rae lin. reg.:   </i>0.92 <b><br>dcor MLP:   </b>0.39 <i><br>dcor lin. reg.:   </i>0.43",
          "x": 1.223,
          "xref": "paper",
          "y": 0.73,
          "yref": "paper"
         }
        ],
        "height": 620,
        "legend": {
         "bgcolor": "white"
        },
        "paper_bgcolor": "rgb(243, 243, 243)",
        "plot_bgcolor": "rgb(243, 243, 243)",
        "shapes": [
         {
          "line": {
           "color": "white"
          },
          "type": "line",
          "x0": -0.05,
          "x1": 1.05,
          "xref": "paper",
          "y0": 0.2,
          "y1": 0.2,
          "yref": "paper"
         }
        ],
        "template": {
         "data": {
          "bar": [
           {
            "error_x": {
             "color": "#2a3f5f"
            },
            "error_y": {
             "color": "#2a3f5f"
            },
            "marker": {
             "line": {
              "color": "#E5ECF6",
              "width": 0.5
             },
             "pattern": {
              "fillmode": "overlay",
              "size": 10,
              "solidity": 0.2
             }
            },
            "type": "bar"
           }
          ],
          "barpolar": [
           {
            "marker": {
             "line": {
              "color": "#E5ECF6",
              "width": 0.5
             },
             "pattern": {
              "fillmode": "overlay",
              "size": 10,
              "solidity": 0.2
             }
            },
            "type": "barpolar"
           }
          ],
          "carpet": [
           {
            "aaxis": {
             "endlinecolor": "#2a3f5f",
             "gridcolor": "white",
             "linecolor": "white",
             "minorgridcolor": "white",
             "startlinecolor": "#2a3f5f"
            },
            "baxis": {
             "endlinecolor": "#2a3f5f",
             "gridcolor": "white",
             "linecolor": "white",
             "minorgridcolor": "white",
             "startlinecolor": "#2a3f5f"
            },
            "type": "carpet"
           }
          ],
          "choropleth": [
           {
            "colorbar": {
             "outlinewidth": 0,
             "ticks": ""
            },
            "type": "choropleth"
           }
          ],
          "contour": [
           {
            "colorbar": {
             "outlinewidth": 0,
             "ticks": ""
            },
            "colorscale": [
             [
              0,
              "#0d0887"
             ],
             [
              0.1111111111111111,
              "#46039f"
             ],
             [
              0.2222222222222222,
              "#7201a8"
             ],
             [
              0.3333333333333333,
              "#9c179e"
             ],
             [
              0.4444444444444444,
              "#bd3786"
             ],
             [
              0.5555555555555556,
              "#d8576b"
             ],
             [
              0.6666666666666666,
              "#ed7953"
             ],
             [
              0.7777777777777778,
              "#fb9f3a"
             ],
             [
              0.8888888888888888,
              "#fdca26"
             ],
             [
              1,
              "#f0f921"
             ]
            ],
            "type": "contour"
           }
          ],
          "contourcarpet": [
           {
            "colorbar": {
             "outlinewidth": 0,
             "ticks": ""
            },
            "type": "contourcarpet"
           }
          ],
          "heatmap": [
           {
            "colorbar": {
             "outlinewidth": 0,
             "ticks": ""
            },
            "colorscale": [
             [
              0,
              "#0d0887"
             ],
             [
              0.1111111111111111,
              "#46039f"
             ],
             [
              0.2222222222222222,
              "#7201a8"
             ],
             [
              0.3333333333333333,
              "#9c179e"
             ],
             [
              0.4444444444444444,
              "#bd3786"
             ],
             [
              0.5555555555555556,
              "#d8576b"
             ],
             [
              0.6666666666666666,
              "#ed7953"
             ],
             [
              0.7777777777777778,
              "#fb9f3a"
             ],
             [
              0.8888888888888888,
              "#fdca26"
             ],
             [
              1,
              "#f0f921"
             ]
            ],
            "type": "heatmap"
           }
          ],
          "heatmapgl": [
           {
            "colorbar": {
             "outlinewidth": 0,
             "ticks": ""
            },
            "colorscale": [
             [
              0,
              "#0d0887"
             ],
             [
              0.1111111111111111,
              "#46039f"
             ],
             [
              0.2222222222222222,
              "#7201a8"
             ],
             [
              0.3333333333333333,
              "#9c179e"
             ],
             [
              0.4444444444444444,
              "#bd3786"
             ],
             [
              0.5555555555555556,
              "#d8576b"
             ],
             [
              0.6666666666666666,
              "#ed7953"
             ],
             [
              0.7777777777777778,
              "#fb9f3a"
             ],
             [
              0.8888888888888888,
              "#fdca26"
             ],
             [
              1,
              "#f0f921"
             ]
            ],
            "type": "heatmapgl"
           }
          ],
          "histogram": [
           {
            "marker": {
             "pattern": {
              "fillmode": "overlay",
              "size": 10,
              "solidity": 0.2
             }
            },
            "type": "histogram"
           }
          ],
          "histogram2d": [
           {
            "colorbar": {
             "outlinewidth": 0,
             "ticks": ""
            },
            "colorscale": [
             [
              0,
              "#0d0887"
             ],
             [
              0.1111111111111111,
              "#46039f"
             ],
             [
              0.2222222222222222,
              "#7201a8"
             ],
             [
              0.3333333333333333,
              "#9c179e"
             ],
             [
              0.4444444444444444,
              "#bd3786"
             ],
             [
              0.5555555555555556,
              "#d8576b"
             ],
             [
              0.6666666666666666,
              "#ed7953"
             ],
             [
              0.7777777777777778,
              "#fb9f3a"
             ],
             [
              0.8888888888888888,
              "#fdca26"
             ],
             [
              1,
              "#f0f921"
             ]
            ],
            "type": "histogram2d"
           }
          ],
          "histogram2dcontour": [
           {
            "colorbar": {
             "outlinewidth": 0,
             "ticks": ""
            },
            "colorscale": [
             [
              0,
              "#0d0887"
             ],
             [
              0.1111111111111111,
              "#46039f"
             ],
             [
              0.2222222222222222,
              "#7201a8"
             ],
             [
              0.3333333333333333,
              "#9c179e"
             ],
             [
              0.4444444444444444,
              "#bd3786"
             ],
             [
              0.5555555555555556,
              "#d8576b"
             ],
             [
              0.6666666666666666,
              "#ed7953"
             ],
             [
              0.7777777777777778,
              "#fb9f3a"
             ],
             [
              0.8888888888888888,
              "#fdca26"
             ],
             [
              1,
              "#f0f921"
             ]
            ],
            "type": "histogram2dcontour"
           }
          ],
          "mesh3d": [
           {
            "colorbar": {
             "outlinewidth": 0,
             "ticks": ""
            },
            "type": "mesh3d"
           }
          ],
          "parcoords": [
           {
            "line": {
             "colorbar": {
              "outlinewidth": 0,
              "ticks": ""
             }
            },
            "type": "parcoords"
           }
          ],
          "pie": [
           {
            "automargin": true,
            "type": "pie"
           }
          ],
          "scatter": [
           {
            "fillpattern": {
             "fillmode": "overlay",
             "size": 10,
             "solidity": 0.2
            },
            "type": "scatter"
           }
          ],
          "scatter3d": [
           {
            "line": {
             "colorbar": {
              "outlinewidth": 0,
              "ticks": ""
             }
            },
            "marker": {
             "colorbar": {
              "outlinewidth": 0,
              "ticks": ""
             }
            },
            "type": "scatter3d"
           }
          ],
          "scattercarpet": [
           {
            "marker": {
             "colorbar": {
              "outlinewidth": 0,
              "ticks": ""
             }
            },
            "type": "scattercarpet"
           }
          ],
          "scattergeo": [
           {
            "marker": {
             "colorbar": {
              "outlinewidth": 0,
              "ticks": ""
             }
            },
            "type": "scattergeo"
           }
          ],
          "scattergl": [
           {
            "marker": {
             "colorbar": {
              "outlinewidth": 0,
              "ticks": ""
             }
            },
            "type": "scattergl"
           }
          ],
          "scattermapbox": [
           {
            "marker": {
             "colorbar": {
              "outlinewidth": 0,
              "ticks": ""
             }
            },
            "type": "scattermapbox"
           }
          ],
          "scatterpolar": [
           {
            "marker": {
             "colorbar": {
              "outlinewidth": 0,
              "ticks": ""
             }
            },
            "type": "scatterpolar"
           }
          ],
          "scatterpolargl": [
           {
            "marker": {
             "colorbar": {
              "outlinewidth": 0,
              "ticks": ""
             }
            },
            "type": "scatterpolargl"
           }
          ],
          "scatterternary": [
           {
            "marker": {
             "colorbar": {
              "outlinewidth": 0,
              "ticks": ""
             }
            },
            "type": "scatterternary"
           }
          ],
          "surface": [
           {
            "colorbar": {
             "outlinewidth": 0,
             "ticks": ""
            },
            "colorscale": [
             [
              0,
              "#0d0887"
             ],
             [
              0.1111111111111111,
              "#46039f"
             ],
             [
              0.2222222222222222,
              "#7201a8"
             ],
             [
              0.3333333333333333,
              "#9c179e"
             ],
             [
              0.4444444444444444,
              "#bd3786"
             ],
             [
              0.5555555555555556,
              "#d8576b"
             ],
             [
              0.6666666666666666,
              "#ed7953"
             ],
             [
              0.7777777777777778,
              "#fb9f3a"
             ],
             [
              0.8888888888888888,
              "#fdca26"
             ],
             [
              1,
              "#f0f921"
             ]
            ],
            "type": "surface"
           }
          ],
          "table": [
           {
            "cells": {
             "fill": {
              "color": "#EBF0F8"
             },
             "line": {
              "color": "white"
             }
            },
            "header": {
             "fill": {
              "color": "#C8D4E3"
             },
             "line": {
              "color": "white"
             }
            },
            "type": "table"
           }
          ]
         },
         "layout": {
          "annotationdefaults": {
           "arrowcolor": "#2a3f5f",
           "arrowhead": 0,
           "arrowwidth": 1
          },
          "autotypenumbers": "strict",
          "coloraxis": {
           "colorbar": {
            "outlinewidth": 0,
            "ticks": ""
           }
          },
          "colorscale": {
           "diverging": [
            [
             0,
             "#8e0152"
            ],
            [
             0.1,
             "#c51b7d"
            ],
            [
             0.2,
             "#de77ae"
            ],
            [
             0.3,
             "#f1b6da"
            ],
            [
             0.4,
             "#fde0ef"
            ],
            [
             0.5,
             "#f7f7f7"
            ],
            [
             0.6,
             "#e6f5d0"
            ],
            [
             0.7,
             "#b8e186"
            ],
            [
             0.8,
             "#7fbc41"
            ],
            [
             0.9,
             "#4d9221"
            ],
            [
             1,
             "#276419"
            ]
           ],
           "sequential": [
            [
             0,
             "#0d0887"
            ],
            [
             0.1111111111111111,
             "#46039f"
            ],
            [
             0.2222222222222222,
             "#7201a8"
            ],
            [
             0.3333333333333333,
             "#9c179e"
            ],
            [
             0.4444444444444444,
             "#bd3786"
            ],
            [
             0.5555555555555556,
             "#d8576b"
            ],
            [
             0.6666666666666666,
             "#ed7953"
            ],
            [
             0.7777777777777778,
             "#fb9f3a"
            ],
            [
             0.8888888888888888,
             "#fdca26"
            ],
            [
             1,
             "#f0f921"
            ]
           ],
           "sequentialminus": [
            [
             0,
             "#0d0887"
            ],
            [
             0.1111111111111111,
             "#46039f"
            ],
            [
             0.2222222222222222,
             "#7201a8"
            ],
            [
             0.3333333333333333,
             "#9c179e"
            ],
            [
             0.4444444444444444,
             "#bd3786"
            ],
            [
             0.5555555555555556,
             "#d8576b"
            ],
            [
             0.6666666666666666,
             "#ed7953"
            ],
            [
             0.7777777777777778,
             "#fb9f3a"
            ],
            [
             0.8888888888888888,
             "#fdca26"
            ],
            [
             1,
             "#f0f921"
            ]
           ]
          },
          "colorway": [
           "#636efa",
           "#EF553B",
           "#00cc96",
           "#ab63fa",
           "#FFA15A",
           "#19d3f3",
           "#FF6692",
           "#B6E880",
           "#FF97FF",
           "#FECB52"
          ],
          "font": {
           "color": "#2a3f5f"
          },
          "geo": {
           "bgcolor": "white",
           "lakecolor": "white",
           "landcolor": "#E5ECF6",
           "showlakes": true,
           "showland": true,
           "subunitcolor": "white"
          },
          "hoverlabel": {
           "align": "left"
          },
          "hovermode": "closest",
          "mapbox": {
           "style": "light"
          },
          "paper_bgcolor": "white",
          "plot_bgcolor": "#E5ECF6",
          "polar": {
           "angularaxis": {
            "gridcolor": "white",
            "linecolor": "white",
            "ticks": ""
           },
           "bgcolor": "#E5ECF6",
           "radialaxis": {
            "gridcolor": "white",
            "linecolor": "white",
            "ticks": ""
           }
          },
          "scene": {
           "xaxis": {
            "backgroundcolor": "#E5ECF6",
            "gridcolor": "white",
            "gridwidth": 2,
            "linecolor": "white",
            "showbackground": true,
            "ticks": "",
            "zerolinecolor": "white"
           },
           "yaxis": {
            "backgroundcolor": "#E5ECF6",
            "gridcolor": "white",
            "gridwidth": 2,
            "linecolor": "white",
            "showbackground": true,
            "ticks": "",
            "zerolinecolor": "white"
           },
           "zaxis": {
            "backgroundcolor": "#E5ECF6",
            "gridcolor": "white",
            "gridwidth": 2,
            "linecolor": "white",
            "showbackground": true,
            "ticks": "",
            "zerolinecolor": "white"
           }
          },
          "shapedefaults": {
           "line": {
            "color": "#2a3f5f"
           }
          },
          "ternary": {
           "aaxis": {
            "gridcolor": "white",
            "linecolor": "white",
            "ticks": ""
           },
           "baxis": {
            "gridcolor": "white",
            "linecolor": "white",
            "ticks": ""
           },
           "bgcolor": "#E5ECF6",
           "caxis": {
            "gridcolor": "white",
            "linecolor": "white",
            "ticks": ""
           }
          },
          "title": {
           "x": 0.05
          },
          "xaxis": {
           "automargin": true,
           "gridcolor": "white",
           "linecolor": "white",
           "ticks": "",
           "title": {
            "standoff": 15
           },
           "zerolinecolor": "white",
           "zerolinewidth": 2
          },
          "yaxis": {
           "automargin": true,
           "gridcolor": "white",
           "linecolor": "white",
           "ticks": "",
           "title": {
            "standoff": 15
           },
           "zerolinecolor": "white",
           "zerolinewidth": 2
          }
         }
        },
        "title": {
         "text": "Exports of goods and services (% of GDP)  vs.  Agriculture, value added (% of GDP)"
        },
        "width": 920,
        "xaxis": {
         "anchor": "y",
         "domain": [
          0,
          1
         ],
         "gridcolor": "white",
         "gridwidth": 2,
         "title": {
          "text": "Agriculture, value added (% of GDP)"
         }
        },
        "xaxis2": {
         "anchor": "y2",
         "domain": [
          0,
          1
         ],
         "title": {
          "text": "$\\text{error } y_{pred}-y$"
         }
        },
        "yaxis": {
         "anchor": "x",
         "domain": [
          0.36000000000000004,
          1
         ],
         "gridcolor": "white",
         "gridwidth": 2,
         "range": [
          0,
          216.88970093250998
         ],
         "title": {
          "text": "Exports of goods and services (% of GDP)"
         }
        },
        "yaxis2": {
         "anchor": "x2",
         "domain": [
          0,
          0.16000000000000003
         ],
         "title": {
          "text": "frequency"
         }
        }
       }
      },
      "text/html": [
       "<div>                            <div id=\"4f708e70-ed83-4103-a0cd-f6ba3ba33962\" class=\"plotly-graph-div\" style=\"height:620px; width:920px;\"></div>            <script type=\"text/javascript\">                require([\"plotly\"], function(Plotly) {                    window.PLOTLYENV=window.PLOTLYENV || {};                                    if (document.getElementById(\"4f708e70-ed83-4103-a0cd-f6ba3ba33962\")) {                    Plotly.newPlot(                        \"4f708e70-ed83-4103-a0cd-f6ba3ba33962\",                        [{\"marker\":{\"color\":\"Maroon\",\"size\":3},\"mode\":\"markers\",\"name\":\"y_train\",\"opacity\":0.6,\"x\":[3.99893171017,2.08267281199,21.5979074173,1.35931645368,5.60664190981,25.9841860283,2.34448059218,27.6154121436,8.78197083287,3.44481256862,19.073238719000003,11.008901668800002,2.95864240277,5.3008784072,21.226323955,11.8658790827,1.17223443058,10.2782421013,22.2159421202,6.298014337610001,3.32006056514,18.7060942247,9.99467326093,16.26889203,9.10835927258,19.8714915089,28.7842757867,8.858365969489999,9.08345554572,1.96523219328,1.3264071597,10.0365054672,23.6921959142,9.35060922906,3.85527653326,3.73990020046,22.845301415300003,19.508820086,23.629347726,0.38672668908,28.3882025746,27.4221698942,9.85541682914,1.4251292701,1.58565905029,44.3255767787,2.49489334921,2.10492998067,4.410792237930001,7.68845250023,29.7370589291,25.6045478714,0.109942375031,20.2820602192,25.5742964673,30.6228536689,13.7740418622,26.9800351227,0.0,1.80029894305,25.3833362332,3.29591575982,13.7166831035,7.441635532799999,12.7027804315,13.906178573900002,25.3459465698,5.33008102955,8.52712766747,18.9324313035,1.58771257851,7.002185705710001,3.69240364225,25.1707738927,9.97740172122,36.0602642895,12.0098030993,0.689655172414,20.4580962394,1.5995787339899998,26.6780662276,5.546880311869999,5.46716886269,40.9680421334,31.9945080303,0.628423193447,20.5924717371,0.990615986042,4.97041961708,2.71119539911,3.866541464780001,3.97760747698,9.83719474362,37.3360989703,21.3892586064,2.17042698586,5.42867241605,1.9365802171,19.958840175,5.92266218452,2.301168274,33.5606983113,9.88104813461,3.93724752747,6.5226137839,25.6878634932,7.460483259839999,2.4014016490900003,6.64461407566,12.1990007301,19.8747975889,1.73999207105,5.180019383249999,1.69544417097,2.68309971036,0.449521757473,4.05177547022,16.302677919100002,5.1669801033,23.2675342742,10.6954830619,11.0336448444,23.0582755994,2.77015987021,35.1089588378,1.37747345784,7.3119819912,7.81542587635,9.7167030399,17.9391583039,32.7480039844,17.9715855345,3.44319587191,26.6780892327,5.34293500376,7.66371755647,13.007373259,6.55827876303,1.3975211134099998,4.13156944684,2.91096205608,4.32729847263],\"xaxis\":\"x\",\"y\":[83.2757640521,72.6990122704,37.7853732975,34.5723366818,21.4192857136,25.292324502800003,53.2590529248,22.5865082139,22.5605274925,38.5645900784,75.393837037,30.3972796939,31.1738656713,58.5286045861,56.6755948923,25.8827450025,80.74500303319999,31.8045792748,20.6190914653,31.2860246607,27.7405852167,16.9953348465,31.8974510411,15.4786486946,44.3934583041,11.3815335807,18.9191161299,32.3428851715,38.4788362063,70.2736107488,44.95926357729999,32.1795634197,40.7947928643,68.8722296414,57.0882522745,38.4509870811,39.9628223787,20.2410450326,16.7250685273,65.3307966631,37.3191668588,29.410450515,35.9034306085,27.6456797738,48.2580656119,20.1772146583,54.5160825472,27.4271991137,30.1640724867,47.0681628294,24.5250906044,30.0284758085,60.2773718603,19.1856439468,44.8729593059,17.8237142692,25.4462759164,29.1310000013,79.31012021800001,27.1283927901,5.771852583769999,59.6280958078,29.4357184851,19.3668493544,35.0860778114,49.0397495747,28.7647657215,39.7287135063,22.3232413582,21.0082895202,26.1216774635,68.1309402161,43.82695987140001,34.8678407774,28.3637916498,34.4991478324,47.4524622329,67.8527507652,59.6144484321,52.4851502713,21.8865604123,22.5803398163,29.1450561962,17.4284341773,23.735748372,24.864163983,37.9783578026,77.4908365667,20.3364986733,25.7077350535,50.4172790551,78.3093952437,31.9317679733,7.25846908868,51.231431970900005,66.5527781975,51.9656712834,45.0872506925,35.0663943672,36.7488173417,31.0057427829,12.8556648764,29.090487255,52.10330504229999,49.4967431211,30.3236547425,44.8440541617,19.8960179801,31.7103688767,34.5715732968,28.0842219492,39.3578577764,13.3276451578,38.2800330647,43.9968057283,65.9129090572,30.254030248200003,41.7204482186,33.3645655315,21.9189912934,31.2057157058,39.5737394499,13.214613412,59.9374401393,15.8837772397,56.4832095317,31.522116530500004,37.1551611623,27.1055815456,38.6434451434,10.8513340518,29.0189441354,22.520269763,30.8372823383,69.3778032255,32.8858417492,53.509011539300005,29.246323135900003,43.3042209731,28.90625,61.4859649759,78.5294841648],\"yaxis\":\"y\",\"type\":\"scatter\"},{\"marker\":{\"color\":\"LightSeaGreen\"},\"mode\":\"markers\",\"name\":\"y_pred\",\"x\":[11.2639956833,8.1395876491,19.2321239214,6.1666723739,4.42648853615,3.71558373697,22.90321304,4.83191070022,22.9498211647,8.86754775983,19.9435210258,1.3840682701299998,0.4805408242769999,2.84223747426,7.10506711161,12.4967355949,19.9435210258,2.13980703442,2.32673473265,30.5551329141,40.8316044145,2.70926496677,4.92716026506,0.8385902629719999,34.4306278562,1.5072236450299998,3.4553472740400006,13.3938453622,7.39167903381,11.0336448444,9.07116986939,3.28966731218,7.829878874939999,9.17512505399,6.09658891977,2.29732390647,23.4831976224,0.825476704284,9.22420357419,1.43909659065,13.2345052495,18.6550997017,5.458593072969999,7.078436759470001,10.3641195104,32.7141789793,1.10579072518,9.39965492646,9.67487396449,12.4060045376,12.8769620759,19.508820086,21.9948063744,5.3498918165900005,25.8585364121,4.12501854831,35.8235289101,18.2311442665,14.070240063599998,10.2830046593,28.9090909091],\"xaxis\":\"x\",\"y\":[34.26859015420145,35.35764983116465,35.403149993141085,39.18000044179261,43.16610630948134,44.853474111273464,30.105392389424996,42.20381669408746,29.870127894141632,35.09079915347597,36.18112509726491,50.38744171518328,52.53200892295338,46.92640478386441,37.194714182914055,33.84564340908096,36.18112509726491,48.59365827343409,48.14997611005549,21.8202229355779,18.284712708509613,47.242021625839584,41.977737127553205,51.682160820928246,18.458240013130926,50.09512632434107,45.47115826378846,33.537849646159096,36.58835239516256,34.34762234633846,35.02093745137436,45.864407871003344,35.72748766154621,34.98527096037228,39.328270367941776,48.219784164773195,28.918317026299498,51.713286502907835,34.96843237164924,50.256829267019675,33.59251842211048,34.77212341933785,40.716354998866436,37.2510538766997,34.57733305670515,19.62601841539393,51.04794727071195,34.90823591198138,34.81380967069996,33.876772769788175,33.715189652344186,35.70574150797007,34.690769661521436,40.97436282247592,26.56458294686161,43.881660278556566,17.953988327342774,34.30849098141591,33.305782091047185,34.6051631463541,23.49306950703312],\"yaxis\":\"y\",\"type\":\"scatter\"},{\"marker\":{\"color\":\"LightSalmon\"},\"mode\":\"markers\",\"name\":\"y_test\",\"x\":[11.2639956833,8.1395876491,19.2321239214,6.1666723739,4.42648853615,3.71558373697,22.90321304,4.83191070022,22.9498211647,8.86754775983,19.9435210258,1.3840682701299998,0.4805408242769999,2.84223747426,7.10506711161,12.4967355949,19.9435210258,2.13980703442,2.32673473265,30.5551329141,40.8316044145,2.70926496677,4.92716026506,0.8385902629719999,34.4306278562,1.5072236450299998,3.4553472740400006,13.3938453622,7.39167903381,11.0336448444,9.07116986939,3.28966731218,7.829878874939999,9.17512505399,6.09658891977,2.29732390647,23.4831976224,0.825476704284,9.22420357419,1.43909659065,13.2345052495,18.6550997017,5.458593072969999,7.078436759470001,10.3641195104,32.7141789793,1.10579072518,9.39965492646,9.67487396449,12.4060045376,12.8769620759,19.508820086,21.9948063744,5.3498918165900005,25.8585364121,4.12501854831,35.8235289101,18.2311442665,14.070240063599998,10.2830046593,28.9090909091],\"xaxis\":\"x\",\"y\":[54.1247984121,59.0804154491,41.6513855926,32.7938441604,46.486836734700006,50.938709299,23.9302331614,39.0005041788,14.7344800798,40.7956824605,35.1136850498,51.3363123712,81.4374835958,54.2343662375,53.7206413641,43.2607982595,35.1136850498,67.5970600995,46.739294020600006,23.311445308400003,15.4578850699,39.184677076,55.8674978743,61.6253437675,24.1521111507,34.1531662527,63.19566180819999,63.8204902421,29.6994697849,39.5737394499,38.3506423025,39.7319468202,16.539232425199998,36.0174132066,49.3128208904,38.1498973039,16.9695492023,43.00991154810001,50.4823374289,29.6045147142,33.591193205,70.5178746023,23.3920769376,26.762022012,44.1168819676,33.7285210454,17.4933165716,51.0861106208,60.9430527153,25.5652641596,41.795377103,20.2410450326,47.2259826099,38.2267206478,39.6703138702,31.1305388597,37.9192864412,28.3927272816,30.2497314715,35.9483021021,10.5545617174],\"yaxis\":\"y\",\"type\":\"scatter\"},{\"marker\":{\"color\":\"DarkSlateBlue \"},\"mode\":\"markers\",\"name\":\"outliers (excluded)\",\"x\":[31.8813748741,54.284112267,56.0022458493,1.37863038748,0.0632302234238,31.0757952385,0.461027579923,9.98674649052,5.645096618359999,1.98434044588,43.3227660064,1.12491917614,2.74666474155,54.7629072095,0.045594963438,1.08691531855],\"xaxis\":\"x\",\"y\":[65.3259680507,14.1106752823,44.5034938578,88.6212939725,203.721809886,52.9129788573,184.176728018,106.168575465,103.31514556,129.537125488,0.138180683366,13.5539526683,90.6255602079,15.6035816261,214.742278151,11.4979069441],\"yaxis\":\"y\",\"type\":\"scatter\"},{\"marker\":{\"color\":\"Tomato\"},\"name\":\"prediction error\",\"nbinsx\":100,\"x\":[-19.85620825789855,-23.72276561793535,-6.248235599458916,6.3861562813926085,-3.320730425218663,-6.085235187726539,6.175159228024995,3.2033125152874575,15.135647814341631,-5.704883307024026,1.0674400474649133,-0.948870656016723,-28.905474672846623,-7.307961453635585,-16.525927181185942,-9.415154850419043,1.0674400474649133,-19.00340182606591,1.4106820894554843,-1.4912223728221043,2.826827638609613,8.057344549839584,-13.889760746746795,-9.943182946571753,-5.693871137569076,15.94196007164107,-17.724503544411533,-30.282640595940904,6.888882610262559,-5.226117103561542,-3.3297048511256406,6.132461050803343,19.188255236346215,-1.032142246227714,-9.984550522458221,10.069886860873197,11.948767823999496,8.703374954807828,-15.51390505725076,20.652314552819675,0.0013252171104767285,-35.745751182962145,17.324278061266437,10.489031864699701,-9.539548910894851,-14.102502630006072,33.554630699111954,-16.17787470881862,-26.129243044600038,8.311508610188174,-8.080187450655814,15.464696475370069,-12.535212948378565,2.747642174675917,-13.105730923338388,12.751121418856567,-19.965298113857227,5.915763699815908,3.056050619547186,-1.3431389557459,12.93850778963312],\"xaxis\":\"x2\",\"yaxis\":\"y2\",\"type\":\"histogram\"}],                        {\"annotations\":[{\"align\":\"right\",\"bgcolor\":\"white\",\"showarrow\":false,\"text\":\"<b>r2 MLP:   </b>0.12 <i><br>r2 lin. reg.:   </i>0.17 <b><br>RMSE MLP:   </b>14.03 <i><br>RMSE lin. reg.:   </i>13.66 <b><br>RMSE/std MLP:   </b>0.94 <i><br>RMSE/std lin. reg.:   </i>0.91 <b><br>MAPE MLP:   </b>0.33 <i><br>MAPE lin. reg.:   </i>0.32 <b><br>rae MLP:   </b>0.95 <i><br>rae lin. reg.:   </i>0.92 <b><br>dcor MLP:   </b>0.39 <i><br>dcor lin. reg.:   </i>0.43\",\"x\":1.223,\"xref\":\"paper\",\"y\":0.73,\"yref\":\"paper\"}],\"height\":620,\"legend\":{\"bgcolor\":\"white\"},\"paper_bgcolor\":\"rgb(243, 243, 243)\",\"plot_bgcolor\":\"rgb(243, 243, 243)\",\"shapes\":[{\"line\":{\"color\":\"white\"},\"type\":\"line\",\"x0\":-0.05,\"x1\":1.05,\"xref\":\"paper\",\"y0\":0.2,\"y1\":0.2,\"yref\":\"paper\"}],\"template\":{\"data\":{\"barpolar\":[{\"marker\":{\"line\":{\"color\":\"#E5ECF6\",\"width\":0.5},\"pattern\":{\"fillmode\":\"overlay\",\"size\":10,\"solidity\":0.2}},\"type\":\"barpolar\"}],\"bar\":[{\"error_x\":{\"color\":\"#2a3f5f\"},\"error_y\":{\"color\":\"#2a3f5f\"},\"marker\":{\"line\":{\"color\":\"#E5ECF6\",\"width\":0.5},\"pattern\":{\"fillmode\":\"overlay\",\"size\":10,\"solidity\":0.2}},\"type\":\"bar\"}],\"carpet\":[{\"aaxis\":{\"endlinecolor\":\"#2a3f5f\",\"gridcolor\":\"white\",\"linecolor\":\"white\",\"minorgridcolor\":\"white\",\"startlinecolor\":\"#2a3f5f\"},\"baxis\":{\"endlinecolor\":\"#2a3f5f\",\"gridcolor\":\"white\",\"linecolor\":\"white\",\"minorgridcolor\":\"white\",\"startlinecolor\":\"#2a3f5f\"},\"type\":\"carpet\"}],\"choropleth\":[{\"colorbar\":{\"outlinewidth\":0,\"ticks\":\"\"},\"type\":\"choropleth\"}],\"contourcarpet\":[{\"colorbar\":{\"outlinewidth\":0,\"ticks\":\"\"},\"type\":\"contourcarpet\"}],\"contour\":[{\"colorbar\":{\"outlinewidth\":0,\"ticks\":\"\"},\"colorscale\":[[0.0,\"#0d0887\"],[0.1111111111111111,\"#46039f\"],[0.2222222222222222,\"#7201a8\"],[0.3333333333333333,\"#9c179e\"],[0.4444444444444444,\"#bd3786\"],[0.5555555555555556,\"#d8576b\"],[0.6666666666666666,\"#ed7953\"],[0.7777777777777778,\"#fb9f3a\"],[0.8888888888888888,\"#fdca26\"],[1.0,\"#f0f921\"]],\"type\":\"contour\"}],\"heatmapgl\":[{\"colorbar\":{\"outlinewidth\":0,\"ticks\":\"\"},\"colorscale\":[[0.0,\"#0d0887\"],[0.1111111111111111,\"#46039f\"],[0.2222222222222222,\"#7201a8\"],[0.3333333333333333,\"#9c179e\"],[0.4444444444444444,\"#bd3786\"],[0.5555555555555556,\"#d8576b\"],[0.6666666666666666,\"#ed7953\"],[0.7777777777777778,\"#fb9f3a\"],[0.8888888888888888,\"#fdca26\"],[1.0,\"#f0f921\"]],\"type\":\"heatmapgl\"}],\"heatmap\":[{\"colorbar\":{\"outlinewidth\":0,\"ticks\":\"\"},\"colorscale\":[[0.0,\"#0d0887\"],[0.1111111111111111,\"#46039f\"],[0.2222222222222222,\"#7201a8\"],[0.3333333333333333,\"#9c179e\"],[0.4444444444444444,\"#bd3786\"],[0.5555555555555556,\"#d8576b\"],[0.6666666666666666,\"#ed7953\"],[0.7777777777777778,\"#fb9f3a\"],[0.8888888888888888,\"#fdca26\"],[1.0,\"#f0f921\"]],\"type\":\"heatmap\"}],\"histogram2dcontour\":[{\"colorbar\":{\"outlinewidth\":0,\"ticks\":\"\"},\"colorscale\":[[0.0,\"#0d0887\"],[0.1111111111111111,\"#46039f\"],[0.2222222222222222,\"#7201a8\"],[0.3333333333333333,\"#9c179e\"],[0.4444444444444444,\"#bd3786\"],[0.5555555555555556,\"#d8576b\"],[0.6666666666666666,\"#ed7953\"],[0.7777777777777778,\"#fb9f3a\"],[0.8888888888888888,\"#fdca26\"],[1.0,\"#f0f921\"]],\"type\":\"histogram2dcontour\"}],\"histogram2d\":[{\"colorbar\":{\"outlinewidth\":0,\"ticks\":\"\"},\"colorscale\":[[0.0,\"#0d0887\"],[0.1111111111111111,\"#46039f\"],[0.2222222222222222,\"#7201a8\"],[0.3333333333333333,\"#9c179e\"],[0.4444444444444444,\"#bd3786\"],[0.5555555555555556,\"#d8576b\"],[0.6666666666666666,\"#ed7953\"],[0.7777777777777778,\"#fb9f3a\"],[0.8888888888888888,\"#fdca26\"],[1.0,\"#f0f921\"]],\"type\":\"histogram2d\"}],\"histogram\":[{\"marker\":{\"pattern\":{\"fillmode\":\"overlay\",\"size\":10,\"solidity\":0.2}},\"type\":\"histogram\"}],\"mesh3d\":[{\"colorbar\":{\"outlinewidth\":0,\"ticks\":\"\"},\"type\":\"mesh3d\"}],\"parcoords\":[{\"line\":{\"colorbar\":{\"outlinewidth\":0,\"ticks\":\"\"}},\"type\":\"parcoords\"}],\"pie\":[{\"automargin\":true,\"type\":\"pie\"}],\"scatter3d\":[{\"line\":{\"colorbar\":{\"outlinewidth\":0,\"ticks\":\"\"}},\"marker\":{\"colorbar\":{\"outlinewidth\":0,\"ticks\":\"\"}},\"type\":\"scatter3d\"}],\"scattercarpet\":[{\"marker\":{\"colorbar\":{\"outlinewidth\":0,\"ticks\":\"\"}},\"type\":\"scattercarpet\"}],\"scattergeo\":[{\"marker\":{\"colorbar\":{\"outlinewidth\":0,\"ticks\":\"\"}},\"type\":\"scattergeo\"}],\"scattergl\":[{\"marker\":{\"colorbar\":{\"outlinewidth\":0,\"ticks\":\"\"}},\"type\":\"scattergl\"}],\"scattermapbox\":[{\"marker\":{\"colorbar\":{\"outlinewidth\":0,\"ticks\":\"\"}},\"type\":\"scattermapbox\"}],\"scatterpolargl\":[{\"marker\":{\"colorbar\":{\"outlinewidth\":0,\"ticks\":\"\"}},\"type\":\"scatterpolargl\"}],\"scatterpolar\":[{\"marker\":{\"colorbar\":{\"outlinewidth\":0,\"ticks\":\"\"}},\"type\":\"scatterpolar\"}],\"scatter\":[{\"fillpattern\":{\"fillmode\":\"overlay\",\"size\":10,\"solidity\":0.2},\"type\":\"scatter\"}],\"scatterternary\":[{\"marker\":{\"colorbar\":{\"outlinewidth\":0,\"ticks\":\"\"}},\"type\":\"scatterternary\"}],\"surface\":[{\"colorbar\":{\"outlinewidth\":0,\"ticks\":\"\"},\"colorscale\":[[0.0,\"#0d0887\"],[0.1111111111111111,\"#46039f\"],[0.2222222222222222,\"#7201a8\"],[0.3333333333333333,\"#9c179e\"],[0.4444444444444444,\"#bd3786\"],[0.5555555555555556,\"#d8576b\"],[0.6666666666666666,\"#ed7953\"],[0.7777777777777778,\"#fb9f3a\"],[0.8888888888888888,\"#fdca26\"],[1.0,\"#f0f921\"]],\"type\":\"surface\"}],\"table\":[{\"cells\":{\"fill\":{\"color\":\"#EBF0F8\"},\"line\":{\"color\":\"white\"}},\"header\":{\"fill\":{\"color\":\"#C8D4E3\"},\"line\":{\"color\":\"white\"}},\"type\":\"table\"}]},\"layout\":{\"annotationdefaults\":{\"arrowcolor\":\"#2a3f5f\",\"arrowhead\":0,\"arrowwidth\":1},\"autotypenumbers\":\"strict\",\"coloraxis\":{\"colorbar\":{\"outlinewidth\":0,\"ticks\":\"\"}},\"colorscale\":{\"diverging\":[[0,\"#8e0152\"],[0.1,\"#c51b7d\"],[0.2,\"#de77ae\"],[0.3,\"#f1b6da\"],[0.4,\"#fde0ef\"],[0.5,\"#f7f7f7\"],[0.6,\"#e6f5d0\"],[0.7,\"#b8e186\"],[0.8,\"#7fbc41\"],[0.9,\"#4d9221\"],[1,\"#276419\"]],\"sequential\":[[0.0,\"#0d0887\"],[0.1111111111111111,\"#46039f\"],[0.2222222222222222,\"#7201a8\"],[0.3333333333333333,\"#9c179e\"],[0.4444444444444444,\"#bd3786\"],[0.5555555555555556,\"#d8576b\"],[0.6666666666666666,\"#ed7953\"],[0.7777777777777778,\"#fb9f3a\"],[0.8888888888888888,\"#fdca26\"],[1.0,\"#f0f921\"]],\"sequentialminus\":[[0.0,\"#0d0887\"],[0.1111111111111111,\"#46039f\"],[0.2222222222222222,\"#7201a8\"],[0.3333333333333333,\"#9c179e\"],[0.4444444444444444,\"#bd3786\"],[0.5555555555555556,\"#d8576b\"],[0.6666666666666666,\"#ed7953\"],[0.7777777777777778,\"#fb9f3a\"],[0.8888888888888888,\"#fdca26\"],[1.0,\"#f0f921\"]]},\"colorway\":[\"#636efa\",\"#EF553B\",\"#00cc96\",\"#ab63fa\",\"#FFA15A\",\"#19d3f3\",\"#FF6692\",\"#B6E880\",\"#FF97FF\",\"#FECB52\"],\"font\":{\"color\":\"#2a3f5f\"},\"geo\":{\"bgcolor\":\"white\",\"lakecolor\":\"white\",\"landcolor\":\"#E5ECF6\",\"showlakes\":true,\"showland\":true,\"subunitcolor\":\"white\"},\"hoverlabel\":{\"align\":\"left\"},\"hovermode\":\"closest\",\"mapbox\":{\"style\":\"light\"},\"paper_bgcolor\":\"white\",\"plot_bgcolor\":\"#E5ECF6\",\"polar\":{\"angularaxis\":{\"gridcolor\":\"white\",\"linecolor\":\"white\",\"ticks\":\"\"},\"bgcolor\":\"#E5ECF6\",\"radialaxis\":{\"gridcolor\":\"white\",\"linecolor\":\"white\",\"ticks\":\"\"}},\"scene\":{\"xaxis\":{\"backgroundcolor\":\"#E5ECF6\",\"gridcolor\":\"white\",\"gridwidth\":2,\"linecolor\":\"white\",\"showbackground\":true,\"ticks\":\"\",\"zerolinecolor\":\"white\"},\"yaxis\":{\"backgroundcolor\":\"#E5ECF6\",\"gridcolor\":\"white\",\"gridwidth\":2,\"linecolor\":\"white\",\"showbackground\":true,\"ticks\":\"\",\"zerolinecolor\":\"white\"},\"zaxis\":{\"backgroundcolor\":\"#E5ECF6\",\"gridcolor\":\"white\",\"gridwidth\":2,\"linecolor\":\"white\",\"showbackground\":true,\"ticks\":\"\",\"zerolinecolor\":\"white\"}},\"shapedefaults\":{\"line\":{\"color\":\"#2a3f5f\"}},\"ternary\":{\"aaxis\":{\"gridcolor\":\"white\",\"linecolor\":\"white\",\"ticks\":\"\"},\"baxis\":{\"gridcolor\":\"white\",\"linecolor\":\"white\",\"ticks\":\"\"},\"bgcolor\":\"#E5ECF6\",\"caxis\":{\"gridcolor\":\"white\",\"linecolor\":\"white\",\"ticks\":\"\"}},\"title\":{\"x\":0.05},\"xaxis\":{\"automargin\":true,\"gridcolor\":\"white\",\"linecolor\":\"white\",\"ticks\":\"\",\"title\":{\"standoff\":15},\"zerolinecolor\":\"white\",\"zerolinewidth\":2},\"yaxis\":{\"automargin\":true,\"gridcolor\":\"white\",\"linecolor\":\"white\",\"ticks\":\"\",\"title\":{\"standoff\":15},\"zerolinecolor\":\"white\",\"zerolinewidth\":2}}},\"title\":{\"text\":\"Exports of goods and services (% of GDP)  vs.  Agriculture, value added (% of GDP)\"},\"width\":920,\"xaxis\":{\"anchor\":\"y\",\"domain\":[0.0,1.0],\"gridcolor\":\"white\",\"gridwidth\":2,\"title\":{\"text\":\"Agriculture, value added (% of GDP)\"}},\"yaxis\":{\"anchor\":\"x\",\"domain\":[0.36000000000000004,1.0],\"gridcolor\":\"white\",\"gridwidth\":2,\"range\":[0.0,216.88970093250998],\"title\":{\"text\":\"Exports of goods and services (% of GDP)\"}},\"xaxis2\":{\"anchor\":\"y2\",\"domain\":[0.0,1.0],\"title\":{\"text\":\"$\\\\text{error } y_{pred}-y$\"}},\"yaxis2\":{\"anchor\":\"x2\",\"domain\":[0.0,0.16000000000000003],\"title\":{\"text\":\"frequency\"}}},                        {\"responsive\": true}                    ).then(function(){\n",
       "                            \n",
       "var gd = document.getElementById('4f708e70-ed83-4103-a0cd-f6ba3ba33962');\n",
       "var x = new MutationObserver(function (mutations, observer) {{\n",
       "        var display = window.getComputedStyle(gd).display;\n",
       "        if (!display || display === 'none') {{\n",
       "            console.log([gd, 'removed!']);\n",
       "            Plotly.purge(gd);\n",
       "            observer.disconnect();\n",
       "        }}\n",
       "}});\n",
       "\n",
       "// Listen for the removal of the full notebook cells\n",
       "var notebookContainer = gd.closest('#notebook-container');\n",
       "if (notebookContainer) {{\n",
       "    x.observe(notebookContainer, {childList: true});\n",
       "}}\n",
       "\n",
       "// Listen for the clearing of the current output cell\n",
       "var outputEl = gd.closest('.output');\n",
       "if (outputEl) {{\n",
       "    x.observe(outputEl, {childList: true});\n",
       "}}\n",
       "\n",
       "                        })                };                });            </script>        </div>"
      ]
     },
     "metadata": {},
     "output_type": "display_data"
    }
   ],
   "source": [
    "plots[list(plots.keys())[-1]]"
   ]
  },
  {
   "cell_type": "code",
   "execution_count": 18,
   "id": "b50c54b2",
   "metadata": {},
   "outputs": [
    {
     "data": {
      "application/vnd.plotly.v1+json": {
       "config": {
        "plotlyServerURL": "https://plot.ly"
       },
       "data": [
        {
         "marker": {
          "color": "Maroon",
          "size": 3
         },
         "mode": "markers",
         "name": "y_train",
         "opacity": 0.6,
         "type": "scatter",
         "x": [
          9.97740172122,
          31.9945080303,
          13.2345052495,
          19.508820086,
          3.73990020046,
          25.9841860283,
          2.17042698586,
          27.6154121436,
          8.78197083287,
          12.4967355949,
          9.39965492646,
          5.92266218452,
          3.99893171017,
          22.9498211647,
          5.34293500376,
          25.3833362332,
          2.10492998067,
          0.461027579923,
          1.58565905029,
          2.71119539911,
          4.92716026506,
          18.7060942247,
          9.07116986939,
          7.81542587635,
          20.4580962394,
          9.35060922906,
          0.8385902629719999,
          8.858365969489999,
          6.5226137839,
          9.22420357419,
          1.3264071597,
          10.0365054672,
          9.88104813461,
          17.9391583039,
          12.7027804315,
          5.3498918165900005,
          22.845301415300003,
          2.13980703442,
          8.52712766747,
          35.8235289101,
          1.4251292701,
          3.866541464780001,
          4.05177547022,
          2.301168274,
          26.6780662276,
          21.3892586064,
          5.180019383249999,
          5.33008102955,
          4.410792237930001,
          7.68845250023,
          3.44319587191,
          25.6045478714,
          0.109942375031,
          20.2820602192,
          1.98434044588,
          30.6228536689,
          2.77015987021,
          1.43909659065,
          25.6878634932,
          5.3008784072,
          3.4553472740400006,
          0.045594963438,
          7.39167903381,
          18.6550997017,
          7.078436759470001,
          2.68309971036,
          44.3255767787,
          2.84223747426,
          0.38672668908,
          13.7166831035,
          1.12491917614,
          7.002185705710001,
          3.69240364225,
          25.1707738927,
          13.7740418622,
          5.458593072969999,
          9.99467326093,
          5.42867241605,
          12.0098030993,
          1.5995787339899998,
          19.9435210258,
          27.4221698942,
          5.46716886269,
          17.9715855345,
          0,
          7.460483259839999,
          1.80029894305,
          0.990615986042,
          2.34448059218,
          2.95864240277,
          18.2311442665,
          3.97760747698,
          14.070240063599998,
          9.17512505399,
          26.9800351227,
          1.3840682701299998,
          32.7480039844,
          1.9365802171,
          6.298014337610001,
          11.0336448444,
          3.44481256862,
          43.3227660064,
          1.08691531855,
          3.93724752747,
          3.32006056514,
          9.98674649052,
          23.629347726,
          2.4014016490900003,
          1.69544417097,
          9.10835927258,
          19.8747975889,
          2.29732390647,
          0.689655172414,
          13.906178573900002,
          20.5924717371,
          0.449521757473,
          7.441635532799999,
          1.37747345784,
          18.9324313035,
          16.26889203,
          0.825476704284,
          11.0336448444,
          2.91096205608,
          18.8259693575,
          35.1089588378,
          1.3975211134099998,
          21.226323955,
          5.60664190981,
          9.7167030399,
          8.1395876491,
          37.3360989703,
          6.55827876303,
          4.13156944684,
          12.1990007301,
          23.0582755994,
          0.628423193447,
          0.0632302234238,
          1.96523219328,
          32.7141789793,
          12.4060045376,
          1.58771257851,
          4.32729847263
         ],
         "xaxis": "x",
         "y": [
          30.6580759364,
          17.2996091396,
          13.4583555567,
          59.3428074859,
          83.3304094083,
          26.0161535561,
          51.53192256729999,
          8.36935203086,
          25.7159947243,
          48.345773746800006,
          64.3756639014,
          188.450589153,
          51.28683433,
          20.8451642705,
          82.9539352438,
          121.14301992,
          124.81992174,
          186.508767588,
          129.733007022,
          199.817543743,
          94.8979823444,
          50.024690810100005,
          40.0311362482,
          92.595556446,
          28.2144870257,
          123.591035121,
          168.121440125,
          73.4611928358,
          44.2294906745,
          48.86435383560001,
          92.8855763558,
          70.6756989918,
          25.0288807747,
          36.2029677386,
          45.8255704329,
          185.177013328,
          3.64160592993,
          80.7575459757,
          49.2628530137,
          25.674632205100004,
          192.650823241,
          58.9548798706,
          158.37400780299998,
          162.963310225,
          20.1007221478,
          51.7670852396,
          87.3153294974,
          52.7005355498,
          23.9169862396,
          -3.63603835274,
          112.091990181,
          32.9903518734,
          50.724960021,
          12.1342882942,
          130.87138515,
          0.535180550401,
          16.1031133667,
          187.46585167,
          9.96618730776,
          2.31645005459,
          89.91672001180001,
          68.5994238521,
          48.407817897700006,
          88.23483756809999,
          38.0497652131,
          98.8101873687,
          5.75255159982,
          114.318829706,
          22.9727278112,
          40.5802114688,
          227.99092387,
          17.1626250707,
          85.2637614377,
          40.6477251076,
          23.2137630035,
          56.7020254839,
          72.0045496889,
          52.392618298,
          40.1703416924,
          123.407406867,
          74.1359118039,
          19.6550370203,
          34.562690599,
          59.1972715355,
          -4.61504849297,
          61.0528833692,
          137.277236119,
          108.786597527,
          219.271218237,
          192.66014558,
          52.5280960196,
          75.1534172027,
          84.1463983838,
          64.4032377462,
          19.6877852583,
          214.892506256,
          10.2821424695,
          77.7016763379,
          57.1664172588,
          112.993283842,
          47.8027627031,
          20.1984197651,
          235.894430415,
          51.3388576533,
          36.9415463261,
          109.427899988,
          5.49249240863,
          146.41520210299998,
          141.222456679,
          78.1937417353,
          62.0767546352,
          129.394061158,
          18.8080653489,
          119.972082988,
          10.0555707122,
          51.376289,
          6.26164678306,
          32.5844049241,
          62.71518068140001,
          3.1883128425,
          120.480139104,
          112.993283842,
          82.2637578193,
          23.3022445516,
          8.68322799031,
          114.350933949,
          17.259147205,
          55.5861798899,
          41.064927774,
          5.867137917509999,
          23.818628587,
          137.98929874799998,
          75.913333252,
          86.05202634620001,
          45.4646460427,
          172.19088242799998,
          122.699639196,
          184.207539786,
          19.1998347121,
          38.5517027475,
          186.37450081,
          -6.850801972519999
         ],
         "yaxis": "y"
        },
        {
         "marker": {
          "color": "LightSeaGreen"
         },
         "mode": "markers",
         "name": "y_pred",
         "type": "scatter",
         "x": [
          19.9435210258,
          19.958840175,
          19.2321239214,
          6.64461407566,
          16.302677919100002,
          3.71558373697,
          22.90321304,
          4.83191070022,
          10.6954830619,
          8.86754775983,
          1.35931645368,
          3.85527653326,
          28.3882025746,
          23.2675342742,
          7.10506711161,
          7.3119819912,
          3.28966731218,
          2.74666474155,
          2.32673473265,
          5.645096618359999,
          40.8316044145,
          36.0602642895,
          25.5742964673,
          11.2639956833,
          34.4306278562,
          1.5072236450299998,
          1.73999207105,
          13.3938453622,
          1.17223443058,
          9.83719474362,
          9.08345554572,
          19.508820086,
          7.829878874939999,
          31.8813748741,
          2.70926496677,
          6.1666723739,
          31.0757952385,
          29.7370589291,
          26.6780892327,
          13.007373259,
          9.85541682914,
          4.12501854831,
          5.546880311869999,
          11.008901668800002,
          30.5551329141,
          40.9680421334,
          6.09658891977,
          19.8714915089,
          9.67487396449,
          25.3459465698,
          12.8769620759,
          3.29591575982,
          21.9948063744,
          10.2782421013,
          7.66371755647,
          23.6921959142,
          28.7842757867,
          10.3641195104,
          11.8658790827,
          10.2830046593,
          22.2159421202
         ],
         "xaxis": "x",
         "y": [
          54.819907888003485,
          53.97309916729032,
          60.6180259745082,
          54.740211621652634,
          21.98268119584587,
          91.82254406997951,
          28.76919278369124,
          76.0577297717351,
          58.06294983331735,
          53.24961440745805,
          146.53029072817316,
          88.45836006722197,
          16.15572053533756,
          29.81801533199764,
          48.608634755792075,
          49.15348484919535,
          102.07977465626979,
          115.15675936904873,
          125.26982071321721,
          66.60115088462238,
          16.904866104890445,
          20.593332680435637,
          34.567602448654284,
          59.55996230281449,
          16.726061669911086,
          145.00588559468878,
          139.4001862604305,
          65.16830133953809,
          135.69106604731746,
          55.80289743250209,
          53.81814470137294,
          64.26726603896446,
          50.5172155100262,
          10.676459467409304,
          116.05744807571904,
          60.535720866907525,
          8.76474792993692,
          10.453485507837394,
          26.886094391056155,
          64.1506395747413,
          55.85087998947068,
          84.27821324310162,
          67.74331312526714,
          58.888246484685105,
          7.5949572763482776,
          16.78653334203504,
          61.350724788984245,
          58.80154043582609,
          55.37547291936161,
          35.80143182181426,
          63.80723969246286,
          101.92929497406116,
          26.154035322432502,
          56.96426724072163,
          50.07967805468331,
          31.040548255204346,
          14.473317852103877,
          57.190400394905986,
          61.144847000477405,
          56.97680805062512,
          26.79064975678161
         ],
         "yaxis": "y"
        },
        {
         "marker": {
          "color": "LightSalmon"
         },
         "mode": "markers",
         "name": "y_test",
         "type": "scatter",
         "x": [
          19.9435210258,
          19.958840175,
          19.2321239214,
          6.64461407566,
          16.302677919100002,
          3.71558373697,
          22.90321304,
          4.83191070022,
          10.6954830619,
          8.86754775983,
          1.35931645368,
          3.85527653326,
          28.3882025746,
          23.2675342742,
          7.10506711161,
          7.3119819912,
          3.28966731218,
          2.74666474155,
          2.32673473265,
          5.645096618359999,
          40.8316044145,
          36.0602642895,
          25.5742964673,
          11.2639956833,
          34.4306278562,
          1.5072236450299998,
          1.73999207105,
          13.3938453622,
          1.17223443058,
          9.83719474362,
          9.08345554572,
          19.508820086,
          7.829878874939999,
          31.8813748741,
          2.70926496677,
          6.1666723739,
          31.0757952385,
          29.7370589291,
          26.6780892327,
          13.007373259,
          9.85541682914,
          4.12501854831,
          5.546880311869999,
          11.008901668800002,
          30.5551329141,
          40.9680421334,
          6.09658891977,
          19.8714915089,
          9.67487396449,
          25.3459465698,
          12.8769620759,
          3.29591575982,
          21.9948063744,
          10.2782421013,
          7.66371755647,
          23.6921959142,
          28.7842757867,
          10.3641195104,
          11.8658790827,
          10.2830046593,
          22.2159421202
         ],
         "xaxis": "x",
         "y": [
          74.1359118039,
          74.1335065012,
          22.146249686500003,
          34.869490241,
          88.3094552008,
          54.2969180298,
          6.9722211613,
          70.75775030220001,
          31.0672113377,
          47.2378326757,
          116.075454925,
          26.4944960947,
          10.2901139528,
          31.0930454476,
          37.3375450639,
          16.8777341969,
          105.75241359,
          76.25706675859999,
          88.1127963038,
          63.2499982699,
          12.1767623226,
          6.586018141319999,
          35.1426872849,
          23.5711664287,
          12.8356804344,
          149.884531678,
          139.665396035,
          68.3466137746,
          233.986507111,
          21.5387743716,
          40.2205044427,
          59.3428074859,
          52.569563748,
          12.9021077177,
          143.579244842,
          37.3614108465,
          5.548243128099999,
          22.8626544237,
          8.63267325506,
          50.8556127238,
          10.2990084132,
          19.9408448913,
          56.592522246,
          49.5676860232,
          12.954772802,
          6.939953926860001,
          60.5287500055,
          51.2607880765,
          2.68374733573,
          17.9018632987,
          53.508058124,
          76.8096661245,
          19.234149585,
          71.3065497331,
          77.48009485600001,
          42.503923895700005,
          10.5764694143,
          32.6675058578,
          60.5856990009,
          125.691573509,
          16.964867275
         ],
         "yaxis": "y"
        },
        {
         "marker": {
          "color": "DarkSlateBlue "
         },
         "mode": "markers",
         "name": "outliers (excluded)",
         "type": "scatter",
         "x": [
          2.49489334921,
          54.284112267,
          56.0022458493,
          1.37863038748,
          45.461589563100006,
          5.1669801033,
          1.10579072518,
          5.474547274219999,
          2.08267281199,
          27.0373514431,
          33.5606983113,
          54.7629072095,
          28.9090909091
         ],
         "xaxis": "x",
         "y": [
          -18.4406280207,
          17.9111707421,
          0.8207238641429999,
          -21.3795216588,
          41.8420554207,
          301.187326,
          290.389609349,
          -16.1039656828,
          -57.1615090444,
          -29.6995704619,
          50.0203837758,
          8.60979877045,
          -21.1317716565
         ],
         "yaxis": "y"
        },
        {
         "marker": {
          "color": "Tomato"
         },
         "name": "prediction error",
         "nbinsx": 100,
         "type": "histogram",
         "x": [
          -19.316003915896516,
          -20.16040733390968,
          38.4717762880082,
          19.870721380652633,
          -66.32677400495413,
          37.52562604017952,
          21.79697162239124,
          5.299979469535089,
          26.995738495617346,
          6.011781731758049,
          30.454835803173154,
          61.96386397252198,
          5.865606582537561,
          -1.2750301156023625,
          11.271089691892072,
          32.27575065229535,
          -3.6726389337302123,
          38.89969261044874,
          37.15702440941722,
          3.3511526147223876,
          4.728103782290445,
          14.007314539115637,
          -0.5750848362457148,
          35.98879587411449,
          3.890381235511086,
          -4.878646083311224,
          -0.2652097745694846,
          -3.178312435061912,
          -98.29544106368255,
          34.264123060902094,
          13.59764025867294,
          4.924458553064461,
          -2.0523482379738027,
          -2.2256482502906962,
          -27.52179676628097,
          23.174310020407525,
          3.216504801836921,
          -12.409168915862606,
          18.253421135996156,
          13.295026850941305,
          45.55187157627068,
          64.33736835180162,
          11.150790879267134,
          9.320560461485108,
          -5.359815525651723,
          9.846579415175038,
          0.8219747834842437,
          7.540752359326092,
          52.691725583631616,
          17.89956852311426,
          10.299181568462856,
          25.119628849561167,
          6.919885737432502,
          -14.342282492378366,
          -27.400416801316695,
          -11.46337564049566,
          3.896848437803877,
          24.522894537105984,
          0.5591479995774051,
          -68.71476545837487,
          9.825782481781612
         ],
         "xaxis": "x2",
         "yaxis": "y2"
        }
       ],
       "layout": {
        "annotations": [
         {
          "align": "right",
          "bgcolor": "white",
          "showarrow": false,
          "text": "<b>r2 MLP:   </b>0.56 <i><br>r2 lin. reg.:   </i>0.27 <b><br>RMSE MLP:   </b>28.69 <i><br>RMSE lin. reg.:   </i>36.88 <b><br>RMSE/std MLP:   </b>0.66 <i><br>RMSE/std lin. reg.:   </i>0.85 <b><br>MAPE MLP:   </b>1.0 <i><br>MAPE lin. reg.:   </i>1.43 <b><br>rae MLP:   </b>0.63 <i><br>rae lin. reg.:   </i>0.89 <b><br>dcor MLP:   </b>0.74 <i><br>dcor lin. reg.:   </i>0.62",
          "x": 1.223,
          "xref": "paper",
          "y": 0.73,
          "yref": "paper"
         }
        ],
        "height": 620,
        "legend": {
         "bgcolor": "white"
        },
        "paper_bgcolor": "rgb(243, 243, 243)",
        "plot_bgcolor": "rgb(243, 243, 243)",
        "shapes": [
         {
          "line": {
           "color": "white"
          },
          "type": "line",
          "x0": -0.05,
          "x1": 1.05,
          "xref": "paper",
          "y0": 0.2,
          "y1": 0.2,
          "yref": "paper"
         }
        ],
        "template": {
         "data": {
          "bar": [
           {
            "error_x": {
             "color": "#2a3f5f"
            },
            "error_y": {
             "color": "#2a3f5f"
            },
            "marker": {
             "line": {
              "color": "#E5ECF6",
              "width": 0.5
             },
             "pattern": {
              "fillmode": "overlay",
              "size": 10,
              "solidity": 0.2
             }
            },
            "type": "bar"
           }
          ],
          "barpolar": [
           {
            "marker": {
             "line": {
              "color": "#E5ECF6",
              "width": 0.5
             },
             "pattern": {
              "fillmode": "overlay",
              "size": 10,
              "solidity": 0.2
             }
            },
            "type": "barpolar"
           }
          ],
          "carpet": [
           {
            "aaxis": {
             "endlinecolor": "#2a3f5f",
             "gridcolor": "white",
             "linecolor": "white",
             "minorgridcolor": "white",
             "startlinecolor": "#2a3f5f"
            },
            "baxis": {
             "endlinecolor": "#2a3f5f",
             "gridcolor": "white",
             "linecolor": "white",
             "minorgridcolor": "white",
             "startlinecolor": "#2a3f5f"
            },
            "type": "carpet"
           }
          ],
          "choropleth": [
           {
            "colorbar": {
             "outlinewidth": 0,
             "ticks": ""
            },
            "type": "choropleth"
           }
          ],
          "contour": [
           {
            "colorbar": {
             "outlinewidth": 0,
             "ticks": ""
            },
            "colorscale": [
             [
              0,
              "#0d0887"
             ],
             [
              0.1111111111111111,
              "#46039f"
             ],
             [
              0.2222222222222222,
              "#7201a8"
             ],
             [
              0.3333333333333333,
              "#9c179e"
             ],
             [
              0.4444444444444444,
              "#bd3786"
             ],
             [
              0.5555555555555556,
              "#d8576b"
             ],
             [
              0.6666666666666666,
              "#ed7953"
             ],
             [
              0.7777777777777778,
              "#fb9f3a"
             ],
             [
              0.8888888888888888,
              "#fdca26"
             ],
             [
              1,
              "#f0f921"
             ]
            ],
            "type": "contour"
           }
          ],
          "contourcarpet": [
           {
            "colorbar": {
             "outlinewidth": 0,
             "ticks": ""
            },
            "type": "contourcarpet"
           }
          ],
          "heatmap": [
           {
            "colorbar": {
             "outlinewidth": 0,
             "ticks": ""
            },
            "colorscale": [
             [
              0,
              "#0d0887"
             ],
             [
              0.1111111111111111,
              "#46039f"
             ],
             [
              0.2222222222222222,
              "#7201a8"
             ],
             [
              0.3333333333333333,
              "#9c179e"
             ],
             [
              0.4444444444444444,
              "#bd3786"
             ],
             [
              0.5555555555555556,
              "#d8576b"
             ],
             [
              0.6666666666666666,
              "#ed7953"
             ],
             [
              0.7777777777777778,
              "#fb9f3a"
             ],
             [
              0.8888888888888888,
              "#fdca26"
             ],
             [
              1,
              "#f0f921"
             ]
            ],
            "type": "heatmap"
           }
          ],
          "heatmapgl": [
           {
            "colorbar": {
             "outlinewidth": 0,
             "ticks": ""
            },
            "colorscale": [
             [
              0,
              "#0d0887"
             ],
             [
              0.1111111111111111,
              "#46039f"
             ],
             [
              0.2222222222222222,
              "#7201a8"
             ],
             [
              0.3333333333333333,
              "#9c179e"
             ],
             [
              0.4444444444444444,
              "#bd3786"
             ],
             [
              0.5555555555555556,
              "#d8576b"
             ],
             [
              0.6666666666666666,
              "#ed7953"
             ],
             [
              0.7777777777777778,
              "#fb9f3a"
             ],
             [
              0.8888888888888888,
              "#fdca26"
             ],
             [
              1,
              "#f0f921"
             ]
            ],
            "type": "heatmapgl"
           }
          ],
          "histogram": [
           {
            "marker": {
             "pattern": {
              "fillmode": "overlay",
              "size": 10,
              "solidity": 0.2
             }
            },
            "type": "histogram"
           }
          ],
          "histogram2d": [
           {
            "colorbar": {
             "outlinewidth": 0,
             "ticks": ""
            },
            "colorscale": [
             [
              0,
              "#0d0887"
             ],
             [
              0.1111111111111111,
              "#46039f"
             ],
             [
              0.2222222222222222,
              "#7201a8"
             ],
             [
              0.3333333333333333,
              "#9c179e"
             ],
             [
              0.4444444444444444,
              "#bd3786"
             ],
             [
              0.5555555555555556,
              "#d8576b"
             ],
             [
              0.6666666666666666,
              "#ed7953"
             ],
             [
              0.7777777777777778,
              "#fb9f3a"
             ],
             [
              0.8888888888888888,
              "#fdca26"
             ],
             [
              1,
              "#f0f921"
             ]
            ],
            "type": "histogram2d"
           }
          ],
          "histogram2dcontour": [
           {
            "colorbar": {
             "outlinewidth": 0,
             "ticks": ""
            },
            "colorscale": [
             [
              0,
              "#0d0887"
             ],
             [
              0.1111111111111111,
              "#46039f"
             ],
             [
              0.2222222222222222,
              "#7201a8"
             ],
             [
              0.3333333333333333,
              "#9c179e"
             ],
             [
              0.4444444444444444,
              "#bd3786"
             ],
             [
              0.5555555555555556,
              "#d8576b"
             ],
             [
              0.6666666666666666,
              "#ed7953"
             ],
             [
              0.7777777777777778,
              "#fb9f3a"
             ],
             [
              0.8888888888888888,
              "#fdca26"
             ],
             [
              1,
              "#f0f921"
             ]
            ],
            "type": "histogram2dcontour"
           }
          ],
          "mesh3d": [
           {
            "colorbar": {
             "outlinewidth": 0,
             "ticks": ""
            },
            "type": "mesh3d"
           }
          ],
          "parcoords": [
           {
            "line": {
             "colorbar": {
              "outlinewidth": 0,
              "ticks": ""
             }
            },
            "type": "parcoords"
           }
          ],
          "pie": [
           {
            "automargin": true,
            "type": "pie"
           }
          ],
          "scatter": [
           {
            "fillpattern": {
             "fillmode": "overlay",
             "size": 10,
             "solidity": 0.2
            },
            "type": "scatter"
           }
          ],
          "scatter3d": [
           {
            "line": {
             "colorbar": {
              "outlinewidth": 0,
              "ticks": ""
             }
            },
            "marker": {
             "colorbar": {
              "outlinewidth": 0,
              "ticks": ""
             }
            },
            "type": "scatter3d"
           }
          ],
          "scattercarpet": [
           {
            "marker": {
             "colorbar": {
              "outlinewidth": 0,
              "ticks": ""
             }
            },
            "type": "scattercarpet"
           }
          ],
          "scattergeo": [
           {
            "marker": {
             "colorbar": {
              "outlinewidth": 0,
              "ticks": ""
             }
            },
            "type": "scattergeo"
           }
          ],
          "scattergl": [
           {
            "marker": {
             "colorbar": {
              "outlinewidth": 0,
              "ticks": ""
             }
            },
            "type": "scattergl"
           }
          ],
          "scattermapbox": [
           {
            "marker": {
             "colorbar": {
              "outlinewidth": 0,
              "ticks": ""
             }
            },
            "type": "scattermapbox"
           }
          ],
          "scatterpolar": [
           {
            "marker": {
             "colorbar": {
              "outlinewidth": 0,
              "ticks": ""
             }
            },
            "type": "scatterpolar"
           }
          ],
          "scatterpolargl": [
           {
            "marker": {
             "colorbar": {
              "outlinewidth": 0,
              "ticks": ""
             }
            },
            "type": "scatterpolargl"
           }
          ],
          "scatterternary": [
           {
            "marker": {
             "colorbar": {
              "outlinewidth": 0,
              "ticks": ""
             }
            },
            "type": "scatterternary"
           }
          ],
          "surface": [
           {
            "colorbar": {
             "outlinewidth": 0,
             "ticks": ""
            },
            "colorscale": [
             [
              0,
              "#0d0887"
             ],
             [
              0.1111111111111111,
              "#46039f"
             ],
             [
              0.2222222222222222,
              "#7201a8"
             ],
             [
              0.3333333333333333,
              "#9c179e"
             ],
             [
              0.4444444444444444,
              "#bd3786"
             ],
             [
              0.5555555555555556,
              "#d8576b"
             ],
             [
              0.6666666666666666,
              "#ed7953"
             ],
             [
              0.7777777777777778,
              "#fb9f3a"
             ],
             [
              0.8888888888888888,
              "#fdca26"
             ],
             [
              1,
              "#f0f921"
             ]
            ],
            "type": "surface"
           }
          ],
          "table": [
           {
            "cells": {
             "fill": {
              "color": "#EBF0F8"
             },
             "line": {
              "color": "white"
             }
            },
            "header": {
             "fill": {
              "color": "#C8D4E3"
             },
             "line": {
              "color": "white"
             }
            },
            "type": "table"
           }
          ]
         },
         "layout": {
          "annotationdefaults": {
           "arrowcolor": "#2a3f5f",
           "arrowhead": 0,
           "arrowwidth": 1
          },
          "autotypenumbers": "strict",
          "coloraxis": {
           "colorbar": {
            "outlinewidth": 0,
            "ticks": ""
           }
          },
          "colorscale": {
           "diverging": [
            [
             0,
             "#8e0152"
            ],
            [
             0.1,
             "#c51b7d"
            ],
            [
             0.2,
             "#de77ae"
            ],
            [
             0.3,
             "#f1b6da"
            ],
            [
             0.4,
             "#fde0ef"
            ],
            [
             0.5,
             "#f7f7f7"
            ],
            [
             0.6,
             "#e6f5d0"
            ],
            [
             0.7,
             "#b8e186"
            ],
            [
             0.8,
             "#7fbc41"
            ],
            [
             0.9,
             "#4d9221"
            ],
            [
             1,
             "#276419"
            ]
           ],
           "sequential": [
            [
             0,
             "#0d0887"
            ],
            [
             0.1111111111111111,
             "#46039f"
            ],
            [
             0.2222222222222222,
             "#7201a8"
            ],
            [
             0.3333333333333333,
             "#9c179e"
            ],
            [
             0.4444444444444444,
             "#bd3786"
            ],
            [
             0.5555555555555556,
             "#d8576b"
            ],
            [
             0.6666666666666666,
             "#ed7953"
            ],
            [
             0.7777777777777778,
             "#fb9f3a"
            ],
            [
             0.8888888888888888,
             "#fdca26"
            ],
            [
             1,
             "#f0f921"
            ]
           ],
           "sequentialminus": [
            [
             0,
             "#0d0887"
            ],
            [
             0.1111111111111111,
             "#46039f"
            ],
            [
             0.2222222222222222,
             "#7201a8"
            ],
            [
             0.3333333333333333,
             "#9c179e"
            ],
            [
             0.4444444444444444,
             "#bd3786"
            ],
            [
             0.5555555555555556,
             "#d8576b"
            ],
            [
             0.6666666666666666,
             "#ed7953"
            ],
            [
             0.7777777777777778,
             "#fb9f3a"
            ],
            [
             0.8888888888888888,
             "#fdca26"
            ],
            [
             1,
             "#f0f921"
            ]
           ]
          },
          "colorway": [
           "#636efa",
           "#EF553B",
           "#00cc96",
           "#ab63fa",
           "#FFA15A",
           "#19d3f3",
           "#FF6692",
           "#B6E880",
           "#FF97FF",
           "#FECB52"
          ],
          "font": {
           "color": "#2a3f5f"
          },
          "geo": {
           "bgcolor": "white",
           "lakecolor": "white",
           "landcolor": "#E5ECF6",
           "showlakes": true,
           "showland": true,
           "subunitcolor": "white"
          },
          "hoverlabel": {
           "align": "left"
          },
          "hovermode": "closest",
          "mapbox": {
           "style": "light"
          },
          "paper_bgcolor": "white",
          "plot_bgcolor": "#E5ECF6",
          "polar": {
           "angularaxis": {
            "gridcolor": "white",
            "linecolor": "white",
            "ticks": ""
           },
           "bgcolor": "#E5ECF6",
           "radialaxis": {
            "gridcolor": "white",
            "linecolor": "white",
            "ticks": ""
           }
          },
          "scene": {
           "xaxis": {
            "backgroundcolor": "#E5ECF6",
            "gridcolor": "white",
            "gridwidth": 2,
            "linecolor": "white",
            "showbackground": true,
            "ticks": "",
            "zerolinecolor": "white"
           },
           "yaxis": {
            "backgroundcolor": "#E5ECF6",
            "gridcolor": "white",
            "gridwidth": 2,
            "linecolor": "white",
            "showbackground": true,
            "ticks": "",
            "zerolinecolor": "white"
           },
           "zaxis": {
            "backgroundcolor": "#E5ECF6",
            "gridcolor": "white",
            "gridwidth": 2,
            "linecolor": "white",
            "showbackground": true,
            "ticks": "",
            "zerolinecolor": "white"
           }
          },
          "shapedefaults": {
           "line": {
            "color": "#2a3f5f"
           }
          },
          "ternary": {
           "aaxis": {
            "gridcolor": "white",
            "linecolor": "white",
            "ticks": ""
           },
           "baxis": {
            "gridcolor": "white",
            "linecolor": "white",
            "ticks": ""
           },
           "bgcolor": "#E5ECF6",
           "caxis": {
            "gridcolor": "white",
            "linecolor": "white",
            "ticks": ""
           }
          },
          "title": {
           "x": 0.05
          },
          "xaxis": {
           "automargin": true,
           "gridcolor": "white",
           "linecolor": "white",
           "ticks": "",
           "title": {
            "standoff": 15
           },
           "zerolinecolor": "white",
           "zerolinewidth": 2
          },
          "yaxis": {
           "automargin": true,
           "gridcolor": "white",
           "linecolor": "white",
           "ticks": "",
           "title": {
            "standoff": 15
           },
           "zerolinecolor": "white",
           "zerolinewidth": 2
          }
         }
        },
        "title": {
         "text": "Domestic credit provided by financial sector (% of GDP)  vs.  Agriculture, value added (% of GDP)"
        },
        "width": 920,
        "xaxis": {
         "anchor": "y",
         "domain": [
          0,
          1
         ],
         "gridcolor": "white",
         "gridwidth": 2,
         "title": {
          "text": "Agriculture, value added (% of GDP)"
         }
        },
        "xaxis2": {
         "anchor": "y2",
         "domain": [
          0,
          1
         ],
         "title": {
          "text": "$\\text{error } y_{pred}-y$"
         }
        },
        "yaxis": {
         "anchor": "x",
         "domain": [
          0.36000000000000004,
          1
         ],
         "gridcolor": "white",
         "gridwidth": 2,
         "title": {
          "text": "Domestic credit provided by financial sector (% of GDP)"
         }
        },
        "yaxis2": {
         "anchor": "x2",
         "domain": [
          0,
          0.16000000000000003
         ],
         "title": {
          "text": "frequency"
         }
        }
       }
      },
      "text/html": [
       "<div>                            <div id=\"8e75ed65-7fc4-449b-af96-f91f833e5ed6\" class=\"plotly-graph-div\" style=\"height:620px; width:920px;\"></div>            <script type=\"text/javascript\">                require([\"plotly\"], function(Plotly) {                    window.PLOTLYENV=window.PLOTLYENV || {};                                    if (document.getElementById(\"8e75ed65-7fc4-449b-af96-f91f833e5ed6\")) {                    Plotly.newPlot(                        \"8e75ed65-7fc4-449b-af96-f91f833e5ed6\",                        [{\"marker\":{\"color\":\"Maroon\",\"size\":3},\"mode\":\"markers\",\"name\":\"y_train\",\"opacity\":0.6,\"x\":[9.97740172122,31.9945080303,13.2345052495,19.508820086,3.73990020046,25.9841860283,2.17042698586,27.6154121436,8.78197083287,12.4967355949,9.39965492646,5.92266218452,3.99893171017,22.9498211647,5.34293500376,25.3833362332,2.10492998067,0.461027579923,1.58565905029,2.71119539911,4.92716026506,18.7060942247,9.07116986939,7.81542587635,20.4580962394,9.35060922906,0.8385902629719999,8.858365969489999,6.5226137839,9.22420357419,1.3264071597,10.0365054672,9.88104813461,17.9391583039,12.7027804315,5.3498918165900005,22.845301415300003,2.13980703442,8.52712766747,35.8235289101,1.4251292701,3.866541464780001,4.05177547022,2.301168274,26.6780662276,21.3892586064,5.180019383249999,5.33008102955,4.410792237930001,7.68845250023,3.44319587191,25.6045478714,0.109942375031,20.2820602192,1.98434044588,30.6228536689,2.77015987021,1.43909659065,25.6878634932,5.3008784072,3.4553472740400006,0.045594963438,7.39167903381,18.6550997017,7.078436759470001,2.68309971036,44.3255767787,2.84223747426,0.38672668908,13.7166831035,1.12491917614,7.002185705710001,3.69240364225,25.1707738927,13.7740418622,5.458593072969999,9.99467326093,5.42867241605,12.0098030993,1.5995787339899998,19.9435210258,27.4221698942,5.46716886269,17.9715855345,0.0,7.460483259839999,1.80029894305,0.990615986042,2.34448059218,2.95864240277,18.2311442665,3.97760747698,14.070240063599998,9.17512505399,26.9800351227,1.3840682701299998,32.7480039844,1.9365802171,6.298014337610001,11.0336448444,3.44481256862,43.3227660064,1.08691531855,3.93724752747,3.32006056514,9.98674649052,23.629347726,2.4014016490900003,1.69544417097,9.10835927258,19.8747975889,2.29732390647,0.689655172414,13.906178573900002,20.5924717371,0.449521757473,7.441635532799999,1.37747345784,18.9324313035,16.26889203,0.825476704284,11.0336448444,2.91096205608,18.8259693575,35.1089588378,1.3975211134099998,21.226323955,5.60664190981,9.7167030399,8.1395876491,37.3360989703,6.55827876303,4.13156944684,12.1990007301,23.0582755994,0.628423193447,0.0632302234238,1.96523219328,32.7141789793,12.4060045376,1.58771257851,4.32729847263],\"xaxis\":\"x\",\"y\":[30.6580759364,17.2996091396,13.4583555567,59.3428074859,83.3304094083,26.0161535561,51.53192256729999,8.36935203086,25.7159947243,48.345773746800006,64.3756639014,188.450589153,51.28683433,20.8451642705,82.9539352438,121.14301992,124.81992174,186.508767588,129.733007022,199.817543743,94.8979823444,50.024690810100005,40.0311362482,92.595556446,28.2144870257,123.591035121,168.121440125,73.4611928358,44.2294906745,48.86435383560001,92.8855763558,70.6756989918,25.0288807747,36.2029677386,45.8255704329,185.177013328,3.64160592993,80.7575459757,49.2628530137,25.674632205100004,192.650823241,58.9548798706,158.37400780299998,162.963310225,20.1007221478,51.7670852396,87.3153294974,52.7005355498,23.9169862396,-3.63603835274,112.091990181,32.9903518734,50.724960021,12.1342882942,130.87138515,0.535180550401,16.1031133667,187.46585167,9.96618730776,2.31645005459,89.91672001180001,68.5994238521,48.407817897700006,88.23483756809999,38.0497652131,98.8101873687,5.75255159982,114.318829706,22.9727278112,40.5802114688,227.99092387,17.1626250707,85.2637614377,40.6477251076,23.2137630035,56.7020254839,72.0045496889,52.392618298,40.1703416924,123.407406867,74.1359118039,19.6550370203,34.562690599,59.1972715355,-4.61504849297,61.0528833692,137.277236119,108.786597527,219.271218237,192.66014558,52.5280960196,75.1534172027,84.1463983838,64.4032377462,19.6877852583,214.892506256,10.2821424695,77.7016763379,57.1664172588,112.993283842,47.8027627031,20.1984197651,235.894430415,51.3388576533,36.9415463261,109.427899988,5.49249240863,146.41520210299998,141.222456679,78.1937417353,62.0767546352,129.394061158,18.8080653489,119.972082988,10.0555707122,51.376289,6.26164678306,32.5844049241,62.71518068140001,3.1883128425,120.480139104,112.993283842,82.2637578193,23.3022445516,8.68322799031,114.350933949,17.259147205,55.5861798899,41.064927774,5.867137917509999,23.818628587,137.98929874799998,75.913333252,86.05202634620001,45.4646460427,172.19088242799998,122.699639196,184.207539786,19.1998347121,38.5517027475,186.37450081,-6.850801972519999],\"yaxis\":\"y\",\"type\":\"scatter\"},{\"marker\":{\"color\":\"LightSeaGreen\"},\"mode\":\"markers\",\"name\":\"y_pred\",\"x\":[19.9435210258,19.958840175,19.2321239214,6.64461407566,16.302677919100002,3.71558373697,22.90321304,4.83191070022,10.6954830619,8.86754775983,1.35931645368,3.85527653326,28.3882025746,23.2675342742,7.10506711161,7.3119819912,3.28966731218,2.74666474155,2.32673473265,5.645096618359999,40.8316044145,36.0602642895,25.5742964673,11.2639956833,34.4306278562,1.5072236450299998,1.73999207105,13.3938453622,1.17223443058,9.83719474362,9.08345554572,19.508820086,7.829878874939999,31.8813748741,2.70926496677,6.1666723739,31.0757952385,29.7370589291,26.6780892327,13.007373259,9.85541682914,4.12501854831,5.546880311869999,11.008901668800002,30.5551329141,40.9680421334,6.09658891977,19.8714915089,9.67487396449,25.3459465698,12.8769620759,3.29591575982,21.9948063744,10.2782421013,7.66371755647,23.6921959142,28.7842757867,10.3641195104,11.8658790827,10.2830046593,22.2159421202],\"xaxis\":\"x\",\"y\":[54.819907888003485,53.97309916729032,60.6180259745082,54.740211621652634,21.98268119584587,91.82254406997951,28.76919278369124,76.0577297717351,58.06294983331735,53.24961440745805,146.53029072817316,88.45836006722197,16.15572053533756,29.81801533199764,48.608634755792075,49.15348484919535,102.07977465626979,115.15675936904873,125.26982071321721,66.60115088462238,16.904866104890445,20.593332680435637,34.567602448654284,59.55996230281449,16.726061669911086,145.00588559468878,139.4001862604305,65.16830133953809,135.69106604731746,55.80289743250209,53.81814470137294,64.26726603896446,50.5172155100262,10.676459467409304,116.05744807571904,60.535720866907525,8.76474792993692,10.453485507837394,26.886094391056155,64.1506395747413,55.85087998947068,84.27821324310162,67.74331312526714,58.888246484685105,7.5949572763482776,16.78653334203504,61.350724788984245,58.80154043582609,55.37547291936161,35.80143182181426,63.80723969246286,101.92929497406116,26.154035322432502,56.96426724072163,50.07967805468331,31.040548255204346,14.473317852103877,57.190400394905986,61.144847000477405,56.97680805062512,26.79064975678161],\"yaxis\":\"y\",\"type\":\"scatter\"},{\"marker\":{\"color\":\"LightSalmon\"},\"mode\":\"markers\",\"name\":\"y_test\",\"x\":[19.9435210258,19.958840175,19.2321239214,6.64461407566,16.302677919100002,3.71558373697,22.90321304,4.83191070022,10.6954830619,8.86754775983,1.35931645368,3.85527653326,28.3882025746,23.2675342742,7.10506711161,7.3119819912,3.28966731218,2.74666474155,2.32673473265,5.645096618359999,40.8316044145,36.0602642895,25.5742964673,11.2639956833,34.4306278562,1.5072236450299998,1.73999207105,13.3938453622,1.17223443058,9.83719474362,9.08345554572,19.508820086,7.829878874939999,31.8813748741,2.70926496677,6.1666723739,31.0757952385,29.7370589291,26.6780892327,13.007373259,9.85541682914,4.12501854831,5.546880311869999,11.008901668800002,30.5551329141,40.9680421334,6.09658891977,19.8714915089,9.67487396449,25.3459465698,12.8769620759,3.29591575982,21.9948063744,10.2782421013,7.66371755647,23.6921959142,28.7842757867,10.3641195104,11.8658790827,10.2830046593,22.2159421202],\"xaxis\":\"x\",\"y\":[74.1359118039,74.1335065012,22.146249686500003,34.869490241,88.3094552008,54.2969180298,6.9722211613,70.75775030220001,31.0672113377,47.2378326757,116.075454925,26.4944960947,10.2901139528,31.0930454476,37.3375450639,16.8777341969,105.75241359,76.25706675859999,88.1127963038,63.2499982699,12.1767623226,6.586018141319999,35.1426872849,23.5711664287,12.8356804344,149.884531678,139.665396035,68.3466137746,233.986507111,21.5387743716,40.2205044427,59.3428074859,52.569563748,12.9021077177,143.579244842,37.3614108465,5.548243128099999,22.8626544237,8.63267325506,50.8556127238,10.2990084132,19.9408448913,56.592522246,49.5676860232,12.954772802,6.939953926860001,60.5287500055,51.2607880765,2.68374733573,17.9018632987,53.508058124,76.8096661245,19.234149585,71.3065497331,77.48009485600001,42.503923895700005,10.5764694143,32.6675058578,60.5856990009,125.691573509,16.964867275],\"yaxis\":\"y\",\"type\":\"scatter\"},{\"marker\":{\"color\":\"DarkSlateBlue \"},\"mode\":\"markers\",\"name\":\"outliers (excluded)\",\"x\":[2.49489334921,54.284112267,56.0022458493,1.37863038748,45.461589563100006,5.1669801033,1.10579072518,5.474547274219999,2.08267281199,27.0373514431,33.5606983113,54.7629072095,28.9090909091],\"xaxis\":\"x\",\"y\":[-18.4406280207,17.9111707421,0.8207238641429999,-21.3795216588,41.8420554207,301.187326,290.389609349,-16.1039656828,-57.1615090444,-29.6995704619,50.0203837758,8.60979877045,-21.1317716565],\"yaxis\":\"y\",\"type\":\"scatter\"},{\"marker\":{\"color\":\"Tomato\"},\"name\":\"prediction error\",\"nbinsx\":100,\"x\":[-19.316003915896516,-20.16040733390968,38.4717762880082,19.870721380652633,-66.32677400495413,37.52562604017952,21.79697162239124,5.299979469535089,26.995738495617346,6.011781731758049,30.454835803173154,61.96386397252198,5.865606582537561,-1.2750301156023625,11.271089691892072,32.27575065229535,-3.6726389337302123,38.89969261044874,37.15702440941722,3.3511526147223876,4.728103782290445,14.007314539115637,-0.5750848362457148,35.98879587411449,3.890381235511086,-4.878646083311224,-0.2652097745694846,-3.178312435061912,-98.29544106368255,34.264123060902094,13.59764025867294,4.924458553064461,-2.0523482379738027,-2.2256482502906962,-27.52179676628097,23.174310020407525,3.216504801836921,-12.409168915862606,18.253421135996156,13.295026850941305,45.55187157627068,64.33736835180162,11.150790879267134,9.320560461485108,-5.359815525651723,9.846579415175038,0.8219747834842437,7.540752359326092,52.691725583631616,17.89956852311426,10.299181568462856,25.119628849561167,6.919885737432502,-14.342282492378366,-27.400416801316695,-11.46337564049566,3.896848437803877,24.522894537105984,0.5591479995774051,-68.71476545837487,9.825782481781612],\"xaxis\":\"x2\",\"yaxis\":\"y2\",\"type\":\"histogram\"}],                        {\"annotations\":[{\"align\":\"right\",\"bgcolor\":\"white\",\"showarrow\":false,\"text\":\"<b>r2 MLP:   </b>0.56 <i><br>r2 lin. reg.:   </i>0.27 <b><br>RMSE MLP:   </b>28.69 <i><br>RMSE lin. reg.:   </i>36.88 <b><br>RMSE/std MLP:   </b>0.66 <i><br>RMSE/std lin. reg.:   </i>0.85 <b><br>MAPE MLP:   </b>1.0 <i><br>MAPE lin. reg.:   </i>1.43 <b><br>rae MLP:   </b>0.63 <i><br>rae lin. reg.:   </i>0.89 <b><br>dcor MLP:   </b>0.74 <i><br>dcor lin. reg.:   </i>0.62\",\"x\":1.223,\"xref\":\"paper\",\"y\":0.73,\"yref\":\"paper\"}],\"height\":620,\"legend\":{\"bgcolor\":\"white\"},\"paper_bgcolor\":\"rgb(243, 243, 243)\",\"plot_bgcolor\":\"rgb(243, 243, 243)\",\"shapes\":[{\"line\":{\"color\":\"white\"},\"type\":\"line\",\"x0\":-0.05,\"x1\":1.05,\"xref\":\"paper\",\"y0\":0.2,\"y1\":0.2,\"yref\":\"paper\"}],\"template\":{\"data\":{\"barpolar\":[{\"marker\":{\"line\":{\"color\":\"#E5ECF6\",\"width\":0.5},\"pattern\":{\"fillmode\":\"overlay\",\"size\":10,\"solidity\":0.2}},\"type\":\"barpolar\"}],\"bar\":[{\"error_x\":{\"color\":\"#2a3f5f\"},\"error_y\":{\"color\":\"#2a3f5f\"},\"marker\":{\"line\":{\"color\":\"#E5ECF6\",\"width\":0.5},\"pattern\":{\"fillmode\":\"overlay\",\"size\":10,\"solidity\":0.2}},\"type\":\"bar\"}],\"carpet\":[{\"aaxis\":{\"endlinecolor\":\"#2a3f5f\",\"gridcolor\":\"white\",\"linecolor\":\"white\",\"minorgridcolor\":\"white\",\"startlinecolor\":\"#2a3f5f\"},\"baxis\":{\"endlinecolor\":\"#2a3f5f\",\"gridcolor\":\"white\",\"linecolor\":\"white\",\"minorgridcolor\":\"white\",\"startlinecolor\":\"#2a3f5f\"},\"type\":\"carpet\"}],\"choropleth\":[{\"colorbar\":{\"outlinewidth\":0,\"ticks\":\"\"},\"type\":\"choropleth\"}],\"contourcarpet\":[{\"colorbar\":{\"outlinewidth\":0,\"ticks\":\"\"},\"type\":\"contourcarpet\"}],\"contour\":[{\"colorbar\":{\"outlinewidth\":0,\"ticks\":\"\"},\"colorscale\":[[0.0,\"#0d0887\"],[0.1111111111111111,\"#46039f\"],[0.2222222222222222,\"#7201a8\"],[0.3333333333333333,\"#9c179e\"],[0.4444444444444444,\"#bd3786\"],[0.5555555555555556,\"#d8576b\"],[0.6666666666666666,\"#ed7953\"],[0.7777777777777778,\"#fb9f3a\"],[0.8888888888888888,\"#fdca26\"],[1.0,\"#f0f921\"]],\"type\":\"contour\"}],\"heatmapgl\":[{\"colorbar\":{\"outlinewidth\":0,\"ticks\":\"\"},\"colorscale\":[[0.0,\"#0d0887\"],[0.1111111111111111,\"#46039f\"],[0.2222222222222222,\"#7201a8\"],[0.3333333333333333,\"#9c179e\"],[0.4444444444444444,\"#bd3786\"],[0.5555555555555556,\"#d8576b\"],[0.6666666666666666,\"#ed7953\"],[0.7777777777777778,\"#fb9f3a\"],[0.8888888888888888,\"#fdca26\"],[1.0,\"#f0f921\"]],\"type\":\"heatmapgl\"}],\"heatmap\":[{\"colorbar\":{\"outlinewidth\":0,\"ticks\":\"\"},\"colorscale\":[[0.0,\"#0d0887\"],[0.1111111111111111,\"#46039f\"],[0.2222222222222222,\"#7201a8\"],[0.3333333333333333,\"#9c179e\"],[0.4444444444444444,\"#bd3786\"],[0.5555555555555556,\"#d8576b\"],[0.6666666666666666,\"#ed7953\"],[0.7777777777777778,\"#fb9f3a\"],[0.8888888888888888,\"#fdca26\"],[1.0,\"#f0f921\"]],\"type\":\"heatmap\"}],\"histogram2dcontour\":[{\"colorbar\":{\"outlinewidth\":0,\"ticks\":\"\"},\"colorscale\":[[0.0,\"#0d0887\"],[0.1111111111111111,\"#46039f\"],[0.2222222222222222,\"#7201a8\"],[0.3333333333333333,\"#9c179e\"],[0.4444444444444444,\"#bd3786\"],[0.5555555555555556,\"#d8576b\"],[0.6666666666666666,\"#ed7953\"],[0.7777777777777778,\"#fb9f3a\"],[0.8888888888888888,\"#fdca26\"],[1.0,\"#f0f921\"]],\"type\":\"histogram2dcontour\"}],\"histogram2d\":[{\"colorbar\":{\"outlinewidth\":0,\"ticks\":\"\"},\"colorscale\":[[0.0,\"#0d0887\"],[0.1111111111111111,\"#46039f\"],[0.2222222222222222,\"#7201a8\"],[0.3333333333333333,\"#9c179e\"],[0.4444444444444444,\"#bd3786\"],[0.5555555555555556,\"#d8576b\"],[0.6666666666666666,\"#ed7953\"],[0.7777777777777778,\"#fb9f3a\"],[0.8888888888888888,\"#fdca26\"],[1.0,\"#f0f921\"]],\"type\":\"histogram2d\"}],\"histogram\":[{\"marker\":{\"pattern\":{\"fillmode\":\"overlay\",\"size\":10,\"solidity\":0.2}},\"type\":\"histogram\"}],\"mesh3d\":[{\"colorbar\":{\"outlinewidth\":0,\"ticks\":\"\"},\"type\":\"mesh3d\"}],\"parcoords\":[{\"line\":{\"colorbar\":{\"outlinewidth\":0,\"ticks\":\"\"}},\"type\":\"parcoords\"}],\"pie\":[{\"automargin\":true,\"type\":\"pie\"}],\"scatter3d\":[{\"line\":{\"colorbar\":{\"outlinewidth\":0,\"ticks\":\"\"}},\"marker\":{\"colorbar\":{\"outlinewidth\":0,\"ticks\":\"\"}},\"type\":\"scatter3d\"}],\"scattercarpet\":[{\"marker\":{\"colorbar\":{\"outlinewidth\":0,\"ticks\":\"\"}},\"type\":\"scattercarpet\"}],\"scattergeo\":[{\"marker\":{\"colorbar\":{\"outlinewidth\":0,\"ticks\":\"\"}},\"type\":\"scattergeo\"}],\"scattergl\":[{\"marker\":{\"colorbar\":{\"outlinewidth\":0,\"ticks\":\"\"}},\"type\":\"scattergl\"}],\"scattermapbox\":[{\"marker\":{\"colorbar\":{\"outlinewidth\":0,\"ticks\":\"\"}},\"type\":\"scattermapbox\"}],\"scatterpolargl\":[{\"marker\":{\"colorbar\":{\"outlinewidth\":0,\"ticks\":\"\"}},\"type\":\"scatterpolargl\"}],\"scatterpolar\":[{\"marker\":{\"colorbar\":{\"outlinewidth\":0,\"ticks\":\"\"}},\"type\":\"scatterpolar\"}],\"scatter\":[{\"fillpattern\":{\"fillmode\":\"overlay\",\"size\":10,\"solidity\":0.2},\"type\":\"scatter\"}],\"scatterternary\":[{\"marker\":{\"colorbar\":{\"outlinewidth\":0,\"ticks\":\"\"}},\"type\":\"scatterternary\"}],\"surface\":[{\"colorbar\":{\"outlinewidth\":0,\"ticks\":\"\"},\"colorscale\":[[0.0,\"#0d0887\"],[0.1111111111111111,\"#46039f\"],[0.2222222222222222,\"#7201a8\"],[0.3333333333333333,\"#9c179e\"],[0.4444444444444444,\"#bd3786\"],[0.5555555555555556,\"#d8576b\"],[0.6666666666666666,\"#ed7953\"],[0.7777777777777778,\"#fb9f3a\"],[0.8888888888888888,\"#fdca26\"],[1.0,\"#f0f921\"]],\"type\":\"surface\"}],\"table\":[{\"cells\":{\"fill\":{\"color\":\"#EBF0F8\"},\"line\":{\"color\":\"white\"}},\"header\":{\"fill\":{\"color\":\"#C8D4E3\"},\"line\":{\"color\":\"white\"}},\"type\":\"table\"}]},\"layout\":{\"annotationdefaults\":{\"arrowcolor\":\"#2a3f5f\",\"arrowhead\":0,\"arrowwidth\":1},\"autotypenumbers\":\"strict\",\"coloraxis\":{\"colorbar\":{\"outlinewidth\":0,\"ticks\":\"\"}},\"colorscale\":{\"diverging\":[[0,\"#8e0152\"],[0.1,\"#c51b7d\"],[0.2,\"#de77ae\"],[0.3,\"#f1b6da\"],[0.4,\"#fde0ef\"],[0.5,\"#f7f7f7\"],[0.6,\"#e6f5d0\"],[0.7,\"#b8e186\"],[0.8,\"#7fbc41\"],[0.9,\"#4d9221\"],[1,\"#276419\"]],\"sequential\":[[0.0,\"#0d0887\"],[0.1111111111111111,\"#46039f\"],[0.2222222222222222,\"#7201a8\"],[0.3333333333333333,\"#9c179e\"],[0.4444444444444444,\"#bd3786\"],[0.5555555555555556,\"#d8576b\"],[0.6666666666666666,\"#ed7953\"],[0.7777777777777778,\"#fb9f3a\"],[0.8888888888888888,\"#fdca26\"],[1.0,\"#f0f921\"]],\"sequentialminus\":[[0.0,\"#0d0887\"],[0.1111111111111111,\"#46039f\"],[0.2222222222222222,\"#7201a8\"],[0.3333333333333333,\"#9c179e\"],[0.4444444444444444,\"#bd3786\"],[0.5555555555555556,\"#d8576b\"],[0.6666666666666666,\"#ed7953\"],[0.7777777777777778,\"#fb9f3a\"],[0.8888888888888888,\"#fdca26\"],[1.0,\"#f0f921\"]]},\"colorway\":[\"#636efa\",\"#EF553B\",\"#00cc96\",\"#ab63fa\",\"#FFA15A\",\"#19d3f3\",\"#FF6692\",\"#B6E880\",\"#FF97FF\",\"#FECB52\"],\"font\":{\"color\":\"#2a3f5f\"},\"geo\":{\"bgcolor\":\"white\",\"lakecolor\":\"white\",\"landcolor\":\"#E5ECF6\",\"showlakes\":true,\"showland\":true,\"subunitcolor\":\"white\"},\"hoverlabel\":{\"align\":\"left\"},\"hovermode\":\"closest\",\"mapbox\":{\"style\":\"light\"},\"paper_bgcolor\":\"white\",\"plot_bgcolor\":\"#E5ECF6\",\"polar\":{\"angularaxis\":{\"gridcolor\":\"white\",\"linecolor\":\"white\",\"ticks\":\"\"},\"bgcolor\":\"#E5ECF6\",\"radialaxis\":{\"gridcolor\":\"white\",\"linecolor\":\"white\",\"ticks\":\"\"}},\"scene\":{\"xaxis\":{\"backgroundcolor\":\"#E5ECF6\",\"gridcolor\":\"white\",\"gridwidth\":2,\"linecolor\":\"white\",\"showbackground\":true,\"ticks\":\"\",\"zerolinecolor\":\"white\"},\"yaxis\":{\"backgroundcolor\":\"#E5ECF6\",\"gridcolor\":\"white\",\"gridwidth\":2,\"linecolor\":\"white\",\"showbackground\":true,\"ticks\":\"\",\"zerolinecolor\":\"white\"},\"zaxis\":{\"backgroundcolor\":\"#E5ECF6\",\"gridcolor\":\"white\",\"gridwidth\":2,\"linecolor\":\"white\",\"showbackground\":true,\"ticks\":\"\",\"zerolinecolor\":\"white\"}},\"shapedefaults\":{\"line\":{\"color\":\"#2a3f5f\"}},\"ternary\":{\"aaxis\":{\"gridcolor\":\"white\",\"linecolor\":\"white\",\"ticks\":\"\"},\"baxis\":{\"gridcolor\":\"white\",\"linecolor\":\"white\",\"ticks\":\"\"},\"bgcolor\":\"#E5ECF6\",\"caxis\":{\"gridcolor\":\"white\",\"linecolor\":\"white\",\"ticks\":\"\"}},\"title\":{\"x\":0.05},\"xaxis\":{\"automargin\":true,\"gridcolor\":\"white\",\"linecolor\":\"white\",\"ticks\":\"\",\"title\":{\"standoff\":15},\"zerolinecolor\":\"white\",\"zerolinewidth\":2},\"yaxis\":{\"automargin\":true,\"gridcolor\":\"white\",\"linecolor\":\"white\",\"ticks\":\"\",\"title\":{\"standoff\":15},\"zerolinecolor\":\"white\",\"zerolinewidth\":2}}},\"title\":{\"text\":\"Domestic credit provided by financial sector (% of GDP)  vs.  Agriculture, value added (% of GDP)\"},\"width\":920,\"xaxis\":{\"anchor\":\"y\",\"domain\":[0.0,1.0],\"gridcolor\":\"white\",\"gridwidth\":2,\"title\":{\"text\":\"Agriculture, value added (% of GDP)\"}},\"yaxis\":{\"anchor\":\"x\",\"domain\":[0.36000000000000004,1.0],\"gridcolor\":\"white\",\"gridwidth\":2,\"title\":{\"text\":\"Domestic credit provided by financial sector (% of GDP)\"}},\"xaxis2\":{\"anchor\":\"y2\",\"domain\":[0.0,1.0],\"title\":{\"text\":\"$\\\\text{error } y_{pred}-y$\"}},\"yaxis2\":{\"anchor\":\"x2\",\"domain\":[0.0,0.16000000000000003],\"title\":{\"text\":\"frequency\"}}},                        {\"responsive\": true}                    ).then(function(){\n",
       "                            \n",
       "var gd = document.getElementById('8e75ed65-7fc4-449b-af96-f91f833e5ed6');\n",
       "var x = new MutationObserver(function (mutations, observer) {{\n",
       "        var display = window.getComputedStyle(gd).display;\n",
       "        if (!display || display === 'none') {{\n",
       "            console.log([gd, 'removed!']);\n",
       "            Plotly.purge(gd);\n",
       "            observer.disconnect();\n",
       "        }}\n",
       "}});\n",
       "\n",
       "// Listen for the removal of the full notebook cells\n",
       "var notebookContainer = gd.closest('#notebook-container');\n",
       "if (notebookContainer) {{\n",
       "    x.observe(notebookContainer, {childList: true});\n",
       "}}\n",
       "\n",
       "// Listen for the clearing of the current output cell\n",
       "var outputEl = gd.closest('.output');\n",
       "if (outputEl) {{\n",
       "    x.observe(outputEl, {childList: true});\n",
       "}}\n",
       "\n",
       "                        })                };                });            </script>        </div>"
      ]
     },
     "metadata": {},
     "output_type": "display_data"
    }
   ],
   "source": [
    "# compare with a backup run, loadede at end of notebook\n",
    "plots_backup[list(plots_backup.keys())[2]]"
   ]
  },
  {
   "cell_type": "markdown",
   "id": "8fe4c643",
   "metadata": {},
   "source": [
    "### Run the plotting routine alone"
   ]
  },
  {
   "cell_type": "code",
   "execution_count": null,
   "id": "b91b838b",
   "metadata": {},
   "outputs": [],
   "source": [
    "plot_2d_result(list(datas.keys())[0], metrics, datas, show=True)"
   ]
  },
  {
   "cell_type": "code",
   "execution_count": null,
   "id": "75cc55b9",
   "metadata": {},
   "outputs": [],
   "source": []
  },
  {
   "cell_type": "markdown",
   "id": "9e720d08",
   "metadata": {},
   "source": [
    "### save dicts"
   ]
  },
  {
   "cell_type": "code",
   "execution_count": null,
   "id": "4a596b03",
   "metadata": {},
   "outputs": [],
   "source": [
    "with open('metrics.pkl', 'wb') as f:\n",
    "    pickle.dump(metrics, f)\n",
    "with open('datas.pkl', 'wb') as f:\n",
    "    pickle.dump(datas, f)\n",
    "with open('plots.pkl', 'wb') as f:\n",
    "    pickle.dump(plots, f)"
   ]
  },
  {
   "cell_type": "markdown",
   "id": "42d6931d",
   "metadata": {},
   "source": [
    "### load dicts"
   ]
  },
  {
   "cell_type": "code",
   "execution_count": 13,
   "id": "9e73edb0",
   "metadata": {},
   "outputs": [],
   "source": [
    "\n",
    "\n",
    "with open('metrics.pkl', 'rb') as f:\n",
    "    metrics = pickle.load(f)\n",
    "with open('datas.pkl', 'rb') as f:\n",
    "    datas = pickle.load(f)\n",
    "with open('plots.pkl', 'rb') as f:\n",
    "    plots = pickle.load(f)\n"
   ]
  },
  {
   "cell_type": "markdown",
   "id": "aae16e5c",
   "metadata": {},
   "source": [
    "#### or backups"
   ]
  },
  {
   "cell_type": "code",
   "execution_count": 14,
   "id": "f9fc9904",
   "metadata": {},
   "outputs": [],
   "source": [
    "\n",
    "\n",
    "with open('metrics_backup.pkl', 'rb') as f:\n",
    "    metrics_backup = pickle.load(f)\n",
    "with open('datas_backup.pkl', 'rb') as f:\n",
    "    datas_backup = pickle.load(f)\n",
    "with open('plots_backup.pkl', 'rb') as f:\n",
    "    plots_backup = pickle.load(f)\n"
   ]
  },
  {
   "cell_type": "code",
   "execution_count": null,
   "id": "eef49e51",
   "metadata": {},
   "outputs": [],
   "source": []
  },
  {
   "cell_type": "code",
   "execution_count": null,
   "id": "629d7819",
   "metadata": {},
   "outputs": [],
   "source": []
  },
  {
   "cell_type": "code",
   "execution_count": null,
   "id": "bb0d64f7",
   "metadata": {},
   "outputs": [],
   "source": []
  }
 ],
 "metadata": {
  "kernelspec": {
   "display_name": "ipp_env",
   "language": "python",
   "name": "ipp_env"
  },
  "language_info": {
   "codemirror_mode": {
    "name": "ipython",
    "version": 3
   },
   "file_extension": ".py",
   "mimetype": "text/x-python",
   "name": "python",
   "nbconvert_exporter": "python",
   "pygments_lexer": "ipython3",
   "version": "3.8.10"
  }
 },
 "nbformat": 4,
 "nbformat_minor": 5
}
