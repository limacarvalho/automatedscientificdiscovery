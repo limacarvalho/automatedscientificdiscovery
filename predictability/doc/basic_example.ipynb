{
 "cells": [
  {
   "cell_type": "code",
   "execution_count": 2,
   "outputs": [
    {
     "name": "stderr",
     "output_type": "stream",
     "text": [
      "2022-11-08 15:24:24,606\tINFO worker.py:1518 -- Started a local Ray instance.\n"
     ]
    },
    {
     "data": {
      "text/plain": "RayContext(dashboard_url='', python_version='3.9.5', ray_version='2.0.1', ray_commit='03b6bc7b5a305877501110ec04710a9c57011479', address_info={'node_ip_address': '10.8.0.8', 'raylet_ip_address': '10.8.0.8', 'redis_address': None, 'object_store_address': '/tmp/ray/session_2022-11-08_15-24-22_940245_102628/sockets/plasma_store', 'raylet_socket_name': '/tmp/ray/session_2022-11-08_15-24-22_940245_102628/sockets/raylet', 'webui_url': '', 'session_dir': '/tmp/ray/session_2022-11-08_15-24-22_940245_102628', 'metrics_export_port': 63188, 'gcs_address': '10.8.0.8:45573', 'address': '10.8.0.8:45573', 'dashboard_agent_listen_port': 52365, 'node_id': 'a5c3edcfa2a40ada705f1b12be84b26e300d890b624233fbd8075030'})",
      "text/html": "<div>\n    <div style=\"margin-left: 50px;display: flex;flex-direction: row;align-items: center\">\n        <h3 style=\"color: var(--jp-ui-font-color0)\">Ray</h3>\n        <svg version=\"1.1\" id=\"ray\" width=\"3em\" viewBox=\"0 0 144.5 144.6\" style=\"margin-left: 3em;margin-right: 3em\">\n            <g id=\"layer-1\">\n                <path fill=\"#00a2e9\" class=\"st0\" d=\"M97.3,77.2c-3.8-1.1-6.2,0.9-8.3,5.1c-3.5,6.8-9.9,9.9-17.4,9.6S58,88.1,54.8,81.2c-1.4-3-3-4-6.3-4.1\n                    c-5.6-0.1-9.9,0.1-13.1,6.4c-3.8,7.6-13.6,10.2-21.8,7.6C5.2,88.4-0.4,80.5,0,71.7c0.1-8.4,5.7-15.8,13.8-18.2\n                    c8.4-2.6,17.5,0.7,22.3,8c1.3,1.9,1.3,5.2,3.6,5.6c3.9,0.6,8,0.2,12,0.2c1.8,0,1.9-1.6,2.4-2.8c3.5-7.8,9.7-11.8,18-11.9\n                    c8.2-0.1,14.4,3.9,17.8,11.4c1.3,2.8,2.9,3.6,5.7,3.3c1-0.1,2,0.1,3,0c2.8-0.5,6.4,1.7,8.1-2.7s-2.3-5.5-4.1-7.5\n                    c-5.1-5.7-10.9-10.8-16.1-16.3C84,38,81.9,37.1,78,38.3C66.7,42,56.2,35.7,53,24.1C50.3,14,57.3,2.8,67.7,0.5\n                    C78.4-2,89,4.7,91.5,15.3c0.1,0.3,0.1,0.5,0.2,0.8c0.7,3.4,0.7,6.9-0.8,9.8c-1.7,3.2-0.8,5,1.5,7.2c6.7,6.5,13.3,13,19.8,19.7\n                    c1.8,1.8,3,2.1,5.5,1.2c9.1-3.4,17.9-0.6,23.4,7c4.8,6.9,4.6,16.1-0.4,22.9c-5.4,7.2-14.2,9.9-23.1,6.5c-2.3-0.9-3.5-0.6-5.1,1.1\n                    c-6.7,6.9-13.6,13.7-20.5,20.4c-1.8,1.8-2.5,3.2-1.4,5.9c3.5,8.7,0.3,18.6-7.7,23.6c-7.9,5-18.2,3.8-24.8-2.9\n                    c-6.4-6.4-7.4-16.2-2.5-24.3c4.9-7.8,14.5-11,23.1-7.8c3,1.1,4.7,0.5,6.9-1.7C91.7,98.4,98,92.3,104.2,86c1.6-1.6,4.1-2.7,2.6-6.2\n                    c-1.4-3.3-3.8-2.5-6.2-2.6C99.8,77.2,98.9,77.2,97.3,77.2z M72.1,29.7c5.5,0.1,9.9-4.3,10-9.8c0-0.1,0-0.2,0-0.3\n                    C81.8,14,77,9.8,71.5,10.2c-5,0.3-9,4.2-9.3,9.2c-0.2,5.5,4,10.1,9.5,10.3C71.8,29.7,72,29.7,72.1,29.7z M72.3,62.3\n                    c-5.4-0.1-9.9,4.2-10.1,9.7c0,0.2,0,0.3,0,0.5c0.2,5.4,4.5,9.7,9.9,10c5.1,0.1,9.9-4.7,10.1-9.8c0.2-5.5-4-10-9.5-10.3\n                    C72.6,62.3,72.4,62.3,72.3,62.3z M115,72.5c0.1,5.4,4.5,9.7,9.8,9.9c5.6-0.2,10-4.8,10-10.4c-0.2-5.4-4.6-9.7-10-9.7\n                    c-5.3-0.1-9.8,4.2-9.9,9.5C115,72.1,115,72.3,115,72.5z M19.5,62.3c-5.4,0.1-9.8,4.4-10,9.8c-0.1,5.1,5.2,10.4,10.2,10.3\n                    c5.6-0.2,10-4.9,9.8-10.5c-0.1-5.4-4.5-9.7-9.9-9.6C19.6,62.3,19.5,62.3,19.5,62.3z M71.8,134.6c5.9,0.2,10.3-3.9,10.4-9.6\n                    c0.5-5.5-3.6-10.4-9.1-10.8c-5.5-0.5-10.4,3.6-10.8,9.1c0,0.5,0,0.9,0,1.4c-0.2,5.3,4,9.8,9.3,10\n                    C71.6,134.6,71.7,134.6,71.8,134.6z\"/>\n            </g>\n        </svg>\n        <table>\n            <tr>\n                <td style=\"text-align: left\"><b>Python version:</b></td>\n                <td style=\"text-align: left\"><b>3.9.5</b></td>\n            </tr>\n            <tr>\n                <td style=\"text-align: left\"><b>Ray version:</b></td>\n                <td style=\"text-align: left\"><b> 2.0.1</b></td>\n            </tr>\n            \n        </table>\n    </div>\n</div>\n"
     },
     "execution_count": 2,
     "metadata": {},
     "output_type": "execute_result"
    }
   ],
   "source": [
    "import ray\n",
    "ray.init()"
   ],
   "metadata": {
    "collapsed": false,
    "pycharm": {
     "name": "#%%\n"
    }
   }
  },
  {
   "cell_type": "markdown",
   "source": [
    "# Basic Example"
   ],
   "metadata": {
    "collapsed": false,
    "pycharm": {
     "name": "#%% md\n"
    }
   }
  },
  {
   "cell_type": "markdown",
   "source": [
    "## Load Data"
   ],
   "metadata": {
    "collapsed": false,
    "pycharm": {
     "name": "#%% md\n"
    }
   }
  },
  {
   "cell_type": "markdown",
   "source": [
    "Basic data that can be understood as two different input columns (linear and random values) and three different output columns (sin of linear x, 1 + sin of linear x and random values)."
   ],
   "metadata": {
    "collapsed": false,
    "pycharm": {
     "name": "#%% md\n"
    }
   }
  },
  {
   "cell_type": "code",
   "execution_count": 3,
   "outputs": [],
   "source": [
    "import pandas as pd"
   ],
   "metadata": {
    "collapsed": false,
    "pycharm": {
     "name": "#%%\n"
    }
   }
  },
  {
   "cell_type": "code",
   "execution_count": 4,
   "outputs": [],
   "source": [
    "data = pd.read_csv(\"example_data.csv\", dtype=float)"
   ],
   "metadata": {
    "collapsed": false,
    "pycharm": {
     "name": "#%%\n"
    }
   }
  },
  {
   "cell_type": "code",
   "execution_count": 5,
   "outputs": [
    {
     "data": {
      "text/plain": "   lin_x  rand_x      sinx  randomy  sinx_plus1\n0    1.0   -0.55  0.099833     0.09    1.099833\n1    2.0   -0.44  0.198669     0.83    1.198669\n2    3.0    0.94  0.295520     0.12    1.295520\n3    4.0   -0.61  0.389418     0.41    1.389418\n4    5.0   -0.51  0.479426    -0.70    1.479426",
      "text/html": "<div>\n<style scoped>\n    .dataframe tbody tr th:only-of-type {\n        vertical-align: middle;\n    }\n\n    .dataframe tbody tr th {\n        vertical-align: top;\n    }\n\n    .dataframe thead th {\n        text-align: right;\n    }\n</style>\n<table border=\"1\" class=\"dataframe\">\n  <thead>\n    <tr style=\"text-align: right;\">\n      <th></th>\n      <th>lin_x</th>\n      <th>rand_x</th>\n      <th>sinx</th>\n      <th>randomy</th>\n      <th>sinx_plus1</th>\n    </tr>\n  </thead>\n  <tbody>\n    <tr>\n      <th>0</th>\n      <td>1.0</td>\n      <td>-0.55</td>\n      <td>0.099833</td>\n      <td>0.09</td>\n      <td>1.099833</td>\n    </tr>\n    <tr>\n      <th>1</th>\n      <td>2.0</td>\n      <td>-0.44</td>\n      <td>0.198669</td>\n      <td>0.83</td>\n      <td>1.198669</td>\n    </tr>\n    <tr>\n      <th>2</th>\n      <td>3.0</td>\n      <td>0.94</td>\n      <td>0.295520</td>\n      <td>0.12</td>\n      <td>1.295520</td>\n    </tr>\n    <tr>\n      <th>3</th>\n      <td>4.0</td>\n      <td>-0.61</td>\n      <td>0.389418</td>\n      <td>0.41</td>\n      <td>1.389418</td>\n    </tr>\n    <tr>\n      <th>4</th>\n      <td>5.0</td>\n      <td>-0.51</td>\n      <td>0.479426</td>\n      <td>-0.70</td>\n      <td>1.479426</td>\n    </tr>\n  </tbody>\n</table>\n</div>"
     },
     "execution_count": 5,
     "metadata": {},
     "output_type": "execute_result"
    }
   ],
   "source": [
    "data.head()"
   ],
   "metadata": {
    "collapsed": false,
    "pycharm": {
     "name": "#%%\n"
    }
   }
  },
  {
   "cell_type": "markdown",
   "source": [
    "## Get Combinations function"
   ],
   "metadata": {
    "collapsed": false,
    "pycharm": {
     "name": "#%% md\n"
    }
   }
  },
  {
   "cell_type": "markdown",
   "source": [
    "This function can be used to determine the overall number of combinations the predictability routine analyses given the number of data columns, fitting type etc. This allows to estimate the overall runtime of the predictability routine."
   ],
   "metadata": {
    "collapsed": false,
    "pycharm": {
     "name": "#%% md\n"
    }
   }
  },
  {
   "cell_type": "code",
   "execution_count": 6,
   "outputs": [],
   "source": [
    "from src.ASD_predictability_utils.utils import get_column_combinations"
   ],
   "metadata": {
    "collapsed": false,
    "pycharm": {
     "name": "#%%\n"
    }
   }
  },
  {
   "cell_type": "markdown",
   "source": [
    "The function returns a list of combination tuples, where the first inputs-many elements correspond to the inputs and the remaining ouputs-many to the targets. The argument targets can be used to define columns that should exclusively be regarded as targets."
   ],
   "metadata": {
    "collapsed": false,
    "pycharm": {
     "name": "#%% md\n"
    }
   }
  },
  {
   "cell_type": "code",
   "execution_count": 7,
   "outputs": [
    {
     "data": {
      "text/plain": "[(1, 2, 3, 5),\n (1, 2, 3, 6),\n (1, 2, 4, 5),\n (1, 2, 4, 6),\n (1, 3, 4, 5),\n (1, 3, 4, 6),\n (2, 3, 4, 5),\n (2, 3, 4, 6)]"
     },
     "execution_count": 7,
     "metadata": {},
     "output_type": "execute_result"
    }
   ],
   "source": [
    "# applied to a numerical example:\n",
    "get_column_combinations(all_cols=[1, 2, 3, 4, 5, 6],\n",
    "                                  inputs=3,\n",
    "                                  outputs=1,\n",
    "                                  targets=[5, 6]\n",
    "                                  )"
   ],
   "metadata": {
    "collapsed": false,
    "pycharm": {
     "name": "#%%\n"
    }
   }
  },
  {
   "cell_type": "code",
   "execution_count": 8,
   "outputs": [
    {
     "data": {
      "text/plain": "8"
     },
     "execution_count": 8,
     "metadata": {},
     "output_type": "execute_result"
    }
   ],
   "source": [
    "# the argument \"amount_only\" can be used to output the amout of combinations only\n",
    "get_column_combinations(all_cols=[1, 2, 3, 4, 5, 6],\n",
    "                                  inputs=3,\n",
    "                                  outputs=1,\n",
    "                                  targets=[5, 6],\n",
    "                                  amount_only=True\n",
    "                                  )"
   ],
   "metadata": {
    "collapsed": false,
    "pycharm": {
     "name": "#%%\n"
    }
   }
  },
  {
   "cell_type": "code",
   "execution_count": 9,
   "outputs": [
    {
     "name": "stdout",
     "output_type": "stream",
     "text": [
      "[('lin_x', 'sinx'), ('lin_x', 'randomy'), ('lin_x', 'sinx_plus1'), ('rand_x', 'sinx'), ('rand_x', 'randomy'), ('rand_x', 'sinx_plus1')]\n"
     ]
    }
   ],
   "source": [
    "# applied to the data above\n",
    "print(get_column_combinations(all_cols=data.columns, inputs=1, outputs=1, targets=[\"sinx\", \"randomy\", \"sinx_plus1\"]))"
   ],
   "metadata": {
    "collapsed": false,
    "pycharm": {
     "name": "#%%\n"
    }
   }
  },
  {
   "cell_type": "code",
   "execution_count": 10,
   "outputs": [
    {
     "name": "stdout",
     "output_type": "stream",
     "text": [
      "6\n"
     ]
    }
   ],
   "source": [
    "print(get_column_combinations(all_cols=data.columns, inputs=1, outputs=1, targets=[\"sinx\", \"randomy\", \"sinx_plus1\"],\n",
    "                                  amount_only=True))"
   ],
   "metadata": {
    "collapsed": false,
    "pycharm": {
     "name": "#%%\n"
    }
   }
  },
  {
   "cell_type": "markdown",
   "source": [
    "## Predictability function"
   ],
   "metadata": {
    "collapsed": false,
    "pycharm": {
     "name": "#%% md\n"
    }
   }
  },
  {
   "cell_type": "markdown",
   "source": [
    "Running the predictability function over all possible 1+1 combinations where the respective target is either sin, sin+1 or random and the input is linear x or random values.\n",
    "\n",
    "The purpose of having sin + 1 is to have a tuple that exclusively contains positive values so fitting a power law can be applied."
   ],
   "metadata": {
    "collapsed": false,
    "pycharm": {
     "name": "#%% md\n"
    }
   }
  },
  {
   "cell_type": "code",
   "execution_count": 11,
   "outputs": [],
   "source": [
    "from bin.main import predictability"
   ],
   "metadata": {
    "collapsed": false,
    "pycharm": {
     "name": "#%%\n"
    }
   }
  },
  {
   "cell_type": "code",
   "execution_count": 12,
   "outputs": [
    {
     "name": "stdout",
     "output_type": "stream",
     "text": [
      "\u001B[2m\u001B[36m(parallel_pred_step_kNN pid=102781)\u001B[0m Analysing ('rand_x', 'sinx_plus1') now.\n",
      "\u001B[2m\u001B[36m(parallel_pred_step_kNN pid=102781)\u001B[0m start kNN routine\n",
      "\u001B[2m\u001B[36m(parallel_pred_step_kNN pid=102781)\u001B[0m Fitting 3 folds for each of 6 candidates, totalling 18 fits\n",
      "\u001B[2m\u001B[36m(parallel_pred_step_kNN pid=102786)\u001B[0m Analysing ('lin_x', 'sinx_plus1') now.\n",
      "\u001B[2m\u001B[36m(parallel_pred_step_kNN pid=102786)\u001B[0m start kNN routine\n",
      "\u001B[2m\u001B[36m(parallel_pred_step_kNN pid=102786)\u001B[0m Fitting 3 folds for each of 6 candidates, totalling 18 fits\n",
      "\u001B[2m\u001B[36m(parallel_pred_step_kNN pid=102787)\u001B[0m Analysing ('lin_x', 'sinx') now.\n",
      "\u001B[2m\u001B[36m(parallel_pred_step_kNN pid=102787)\u001B[0m start kNN routine\n",
      "\u001B[2m\u001B[36m(parallel_pred_step_kNN pid=102787)\u001B[0m Fitting 3 folds for each of 6 candidates, totalling 18 fits\n",
      "\u001B[2m\u001B[36m(parallel_pred_step_kNN pid=102778)\u001B[0m Analysing ('lin_x', 'randomy') now.\n",
      "\u001B[2m\u001B[36m(parallel_pred_step_kNN pid=102778)\u001B[0m start kNN routine\n",
      "\u001B[2m\u001B[36m(parallel_pred_step_kNN pid=102778)\u001B[0m Fitting 3 folds for each of 6 candidates, totalling 18 fits\n",
      "\u001B[2m\u001B[36m(parallel_pred_step_kNN pid=102783)\u001B[0m Analysing ('rand_x', 'sinx') now.\n",
      "\u001B[2m\u001B[36m(parallel_pred_step_kNN pid=102783)\u001B[0m start kNN routine\n",
      "\u001B[2m\u001B[36m(parallel_pred_step_kNN pid=102783)\u001B[0m Fitting 3 folds for each of 6 candidates, totalling 18 fits\n",
      "\u001B[2m\u001B[36m(parallel_pred_step_kNN pid=102789)\u001B[0m Analysing ('rand_x', 'randomy') now.\n",
      "\u001B[2m\u001B[36m(parallel_pred_step_kNN pid=102789)\u001B[0m start kNN routine\n",
      "\u001B[2m\u001B[36m(parallel_pred_step_kNN pid=102789)\u001B[0m Fitting 3 folds for each of 6 candidates, totalling 18 fits\n",
      "\u001B[2m\u001B[36m(parallel_pred_step_kNN pid=102781)\u001B[0m The analysis of this tuple took 3.92s.\n",
      "\u001B[2m\u001B[36m(parallel_pred_step_kNN pid=102781)\u001B[0m -----1/6-----\n",
      "\u001B[2m\u001B[36m(parallel_pred_step_kNN pid=102783)\u001B[0m The analysis of this tuple took 3.69s.\n",
      "\u001B[2m\u001B[36m(parallel_pred_step_kNN pid=102783)\u001B[0m -----1/6-----\n",
      "\u001B[2m\u001B[36m(parallel_pred_step_kNN pid=102787)\u001B[0m The analysis of this tuple took 3.94s.\n",
      "\u001B[2m\u001B[36m(parallel_pred_step_kNN pid=102787)\u001B[0m -----1/6-----\n",
      "\u001B[2m\u001B[36m(parallel_pred_step_kNN pid=102778)\u001B[0m The analysis of this tuple took 3.8s.\n",
      "\u001B[2m\u001B[36m(parallel_pred_step_kNN pid=102778)\u001B[0m -----1/6-----\n",
      "The whole run took 10.45s.\n"
     ]
    }
   ],
   "source": [
    "metrics_dict, datas_dict = predictability(data=data,\n",
    "                                          input_cols=1,\n",
    "                                          output_cols=1,\n",
    "                                          col_set=None,\n",
    "                                          targets=[\"sinx\", \"randomy\", \"sinx_plus1\"],\n",
    "                                          method=\"kNN\",\n",
    "                                          random_state_split=None\n",
    "                                          )"
   ],
   "metadata": {
    "collapsed": false,
    "pycharm": {
     "name": "#%%\n"
    }
   }
  },
  {
   "cell_type": "markdown",
   "source": [
    "##### Note that starting the Ray instance accounts for most of the runtime. Start the cell above again and runtime will be <1s."
   ],
   "metadata": {
    "collapsed": false,
    "pycharm": {
     "name": "#%% md\n"
    }
   }
  },
  {
   "cell_type": "code",
   "execution_count": 13,
   "outputs": [
    {
     "data": {
      "text/plain": "                     kNN r2  linear r2  pow. law r2   mean r2  kNN RMSE  \\\nlin_x  sinx        0.927973  -0.103760          NaN -0.031741  0.180688   \n       randomy     0.076147  -0.005914          NaN -0.005303  0.600267   \n       sinx_plus1  0.986451  -0.205439    -0.959307 -0.077711  0.077002   \nrand_x sinx        0.001501   0.004933          NaN -0.013052  0.632834   \n       randomy    -0.326034  -0.220654          NaN -0.211552  0.690875   \n       sinx_plus1 -0.121684  -0.139449          NaN -0.169557  0.704903   \n\n                   linear RMSE  pow. law RMSE  mean RMSE  kNN RMSE/std  \\\nlin_x  sinx           0.707328            NaN   0.683863      0.268378   \n       randomy        0.626360            NaN   0.626169      0.961173   \n       sinx_plus1     0.726310       0.925978   0.686753      0.116401   \nrand_x sinx           0.631745            NaN   0.637429      0.999249   \n       randomy        0.662854            NaN   0.660378      1.151536   \n       sinx_plus1     0.710463            NaN   0.719788      1.059096   \n\n                   linear RMSE/std  ...  pow. law MAPE   mean MAPE    kNN rae  \\\nlin_x  sinx               1.050600  ...            NaN    1.025132  36.373312   \n       randomy            1.002953  ...            NaN    0.997500  29.864493   \n       sinx_plus1         1.097925  ...     304.297736  504.329381  38.221088   \nrand_x sinx               0.997530  ...            NaN    0.977183  32.306825   \n       randomy            1.104832  ...            NaN    1.450535  35.179767   \n       sinx_plus1         1.067450  ...            NaN  557.091293  31.701710   \n\n                   linear rae  pow. law rae   mean rae  kNN dcor  linear dcor  \\\nlin_x  sinx         30.354678           NaN  30.225325  0.969348     0.472007   \n       randomy      29.657798           NaN  29.659535  0.459352     0.242814   \n       sinx_plus1   35.267212     45.202231  33.264498  0.990308     0.435462   \nrand_x sinx         31.637759           NaN  30.723015  0.274593     0.319025   \n       randomy      34.545465           NaN  34.264513  0.234720     0.263941   \n       sinx_plus1   31.119089           NaN  30.952806  0.354361     0.358192   \n\n                   pow. law dcor  mean dcor  \nlin_x  sinx                  NaN   0.000214  \n       randomy               NaN   0.000000  \n       sinx_plus1       0.426597   0.000000  \nrand_x sinx                  NaN   0.000193  \n       randomy               NaN   0.000000  \n       sinx_plus1            NaN   0.000000  \n\n[6 rows x 24 columns]",
      "text/html": "<div>\n<style scoped>\n    .dataframe tbody tr th:only-of-type {\n        vertical-align: middle;\n    }\n\n    .dataframe tbody tr th {\n        vertical-align: top;\n    }\n\n    .dataframe thead th {\n        text-align: right;\n    }\n</style>\n<table border=\"1\" class=\"dataframe\">\n  <thead>\n    <tr style=\"text-align: right;\">\n      <th></th>\n      <th></th>\n      <th>kNN r2</th>\n      <th>linear r2</th>\n      <th>pow. law r2</th>\n      <th>mean r2</th>\n      <th>kNN RMSE</th>\n      <th>linear RMSE</th>\n      <th>pow. law RMSE</th>\n      <th>mean RMSE</th>\n      <th>kNN RMSE/std</th>\n      <th>linear RMSE/std</th>\n      <th>...</th>\n      <th>pow. law MAPE</th>\n      <th>mean MAPE</th>\n      <th>kNN rae</th>\n      <th>linear rae</th>\n      <th>pow. law rae</th>\n      <th>mean rae</th>\n      <th>kNN dcor</th>\n      <th>linear dcor</th>\n      <th>pow. law dcor</th>\n      <th>mean dcor</th>\n    </tr>\n  </thead>\n  <tbody>\n    <tr>\n      <th rowspan=\"3\" valign=\"top\">lin_x</th>\n      <th>sinx</th>\n      <td>0.927973</td>\n      <td>-0.103760</td>\n      <td>NaN</td>\n      <td>-0.031741</td>\n      <td>0.180688</td>\n      <td>0.707328</td>\n      <td>NaN</td>\n      <td>0.683863</td>\n      <td>0.268378</td>\n      <td>1.050600</td>\n      <td>...</td>\n      <td>NaN</td>\n      <td>1.025132</td>\n      <td>36.373312</td>\n      <td>30.354678</td>\n      <td>NaN</td>\n      <td>30.225325</td>\n      <td>0.969348</td>\n      <td>0.472007</td>\n      <td>NaN</td>\n      <td>0.000214</td>\n    </tr>\n    <tr>\n      <th>randomy</th>\n      <td>0.076147</td>\n      <td>-0.005914</td>\n      <td>NaN</td>\n      <td>-0.005303</td>\n      <td>0.600267</td>\n      <td>0.626360</td>\n      <td>NaN</td>\n      <td>0.626169</td>\n      <td>0.961173</td>\n      <td>1.002953</td>\n      <td>...</td>\n      <td>NaN</td>\n      <td>0.997500</td>\n      <td>29.864493</td>\n      <td>29.657798</td>\n      <td>NaN</td>\n      <td>29.659535</td>\n      <td>0.459352</td>\n      <td>0.242814</td>\n      <td>NaN</td>\n      <td>0.000000</td>\n    </tr>\n    <tr>\n      <th>sinx_plus1</th>\n      <td>0.986451</td>\n      <td>-0.205439</td>\n      <td>-0.959307</td>\n      <td>-0.077711</td>\n      <td>0.077002</td>\n      <td>0.726310</td>\n      <td>0.925978</td>\n      <td>0.686753</td>\n      <td>0.116401</td>\n      <td>1.097925</td>\n      <td>...</td>\n      <td>304.297736</td>\n      <td>504.329381</td>\n      <td>38.221088</td>\n      <td>35.267212</td>\n      <td>45.202231</td>\n      <td>33.264498</td>\n      <td>0.990308</td>\n      <td>0.435462</td>\n      <td>0.426597</td>\n      <td>0.000000</td>\n    </tr>\n    <tr>\n      <th rowspan=\"3\" valign=\"top\">rand_x</th>\n      <th>sinx</th>\n      <td>0.001501</td>\n      <td>0.004933</td>\n      <td>NaN</td>\n      <td>-0.013052</td>\n      <td>0.632834</td>\n      <td>0.631745</td>\n      <td>NaN</td>\n      <td>0.637429</td>\n      <td>0.999249</td>\n      <td>0.997530</td>\n      <td>...</td>\n      <td>NaN</td>\n      <td>0.977183</td>\n      <td>32.306825</td>\n      <td>31.637759</td>\n      <td>NaN</td>\n      <td>30.723015</td>\n      <td>0.274593</td>\n      <td>0.319025</td>\n      <td>NaN</td>\n      <td>0.000193</td>\n    </tr>\n    <tr>\n      <th>randomy</th>\n      <td>-0.326034</td>\n      <td>-0.220654</td>\n      <td>NaN</td>\n      <td>-0.211552</td>\n      <td>0.690875</td>\n      <td>0.662854</td>\n      <td>NaN</td>\n      <td>0.660378</td>\n      <td>1.151536</td>\n      <td>1.104832</td>\n      <td>...</td>\n      <td>NaN</td>\n      <td>1.450535</td>\n      <td>35.179767</td>\n      <td>34.545465</td>\n      <td>NaN</td>\n      <td>34.264513</td>\n      <td>0.234720</td>\n      <td>0.263941</td>\n      <td>NaN</td>\n      <td>0.000000</td>\n    </tr>\n    <tr>\n      <th>sinx_plus1</th>\n      <td>-0.121684</td>\n      <td>-0.139449</td>\n      <td>NaN</td>\n      <td>-0.169557</td>\n      <td>0.704903</td>\n      <td>0.710463</td>\n      <td>NaN</td>\n      <td>0.719788</td>\n      <td>1.059096</td>\n      <td>1.067450</td>\n      <td>...</td>\n      <td>NaN</td>\n      <td>557.091293</td>\n      <td>31.701710</td>\n      <td>31.119089</td>\n      <td>NaN</td>\n      <td>30.952806</td>\n      <td>0.354361</td>\n      <td>0.358192</td>\n      <td>NaN</td>\n      <td>0.000000</td>\n    </tr>\n  </tbody>\n</table>\n<p>6 rows × 24 columns</p>\n</div>"
     },
     "execution_count": 13,
     "metadata": {},
     "output_type": "execute_result"
    }
   ],
   "source": [
    "pd.DataFrame.from_dict(metrics_dict).transpose()"
   ],
   "metadata": {
    "collapsed": false,
    "pycharm": {
     "name": "#%%\n"
    }
   }
  },
  {
   "cell_type": "markdown",
   "source": [],
   "metadata": {
    "collapsed": false,
    "pycharm": {
     "name": "#%% md\n"
    }
   }
  },
  {
   "cell_type": "markdown",
   "source": [
    "## Tuple Selection function\n",
    "\n",
    "This function can be used to limit the number of tuples that is further analysed in more detail."
   ],
   "metadata": {
    "collapsed": false,
    "pycharm": {
     "name": "#%% md\n"
    }
   }
  },
  {
   "cell_type": "code",
   "execution_count": 14,
   "outputs": [],
   "source": [
    "from bin.main import tuple_selection"
   ],
   "metadata": {
    "collapsed": false,
    "pycharm": {
     "name": "#%%\n"
    }
   }
  },
  {
   "cell_type": "code",
   "execution_count": 15,
   "outputs": [
    {
     "data": {
      "text/plain": "[('lin_x', 'sinx_plus1'), ('lin_x', 'sinx')]"
     },
     "execution_count": 15,
     "metadata": {},
     "output_type": "execute_result"
    }
   ],
   "source": [
    "selected_tuples = tuple_selection(metrics_dict, n_best=2)\n",
    "selected_tuples"
   ],
   "metadata": {
    "collapsed": false,
    "pycharm": {
     "name": "#%%\n"
    }
   }
  },
  {
   "cell_type": "code",
   "execution_count": null,
   "outputs": [],
   "source": [],
   "metadata": {
    "collapsed": false,
    "pycharm": {
     "name": "#%%\n"
    }
   }
  },
  {
   "cell_type": "markdown",
   "source": [
    "## Refine Predictability function\n",
    "\n",
    "This function is used to further refine the predictability of the previously selected best tuples."
   ],
   "metadata": {
    "collapsed": false,
    "pycharm": {
     "name": "#%% md\n"
    }
   }
  },
  {
   "cell_type": "code",
   "execution_count": 16,
   "outputs": [],
   "source": [
    "from bin.main import refine_predictability"
   ],
   "metadata": {
    "collapsed": false,
    "pycharm": {
     "name": "#%%\n"
    }
   }
  },
  {
   "cell_type": "code",
   "execution_count": 17,
   "outputs": [
    {
     "name": "stderr",
     "output_type": "stream",
     "text": [
      "\u001B[2m\u001B[36m(parallel_refinement_step pid=102789)\u001B[0m /home/dw/Projekte/IPP/asd/venv/lib/python3.9/site-packages/distributed/node.py:183: UserWarning: Port 8787 is already in use.\n",
      "\u001B[2m\u001B[36m(parallel_refinement_step pid=102789)\u001B[0m Perhaps you already have a cluster running?\n",
      "\u001B[2m\u001B[36m(parallel_refinement_step pid=102789)\u001B[0m Hosting the HTTP server on port 44551 instead\n",
      "\u001B[2m\u001B[36m(parallel_refinement_step pid=102789)\u001B[0m   warnings.warn(\n"
     ]
    },
    {
     "name": "stdout",
     "output_type": "stream",
     "text": [
      "\u001B[2m\u001B[36m(parallel_refinement_step pid=102786)\u001B[0m Train R2 score: 0.9476159378347307\n",
      "\u001B[2m\u001B[36m(parallel_refinement_step pid=102786)\u001B[0m Test R2 score: 0.9580847241030104\n"
     ]
    }
   ],
   "source": [
    "refined_metrics_dict, refined_datas_dict = refine_predictability(best_tuples=selected_tuples, data_dict=datas_dict, time_left_for_this_task=120,\n",
    "                          per_run_time_limit=30, n_jobs=-1)"
   ],
   "metadata": {
    "collapsed": false,
    "pycharm": {
     "name": "#%%\n"
    }
   }
  },
  {
   "cell_type": "code",
   "execution_count": 18,
   "outputs": [
    {
     "data": {
      "text/plain": "                        r2      RMSE      MAPE        rae      dcor\nlin_x sinx_plus1  0.999999  0.000562  1.336834  38.394055  1.000000\n      sinx        0.958085  0.137838  0.212106  35.932202  0.989433",
      "text/html": "<div>\n<style scoped>\n    .dataframe tbody tr th:only-of-type {\n        vertical-align: middle;\n    }\n\n    .dataframe tbody tr th {\n        vertical-align: top;\n    }\n\n    .dataframe thead th {\n        text-align: right;\n    }\n</style>\n<table border=\"1\" class=\"dataframe\">\n  <thead>\n    <tr style=\"text-align: right;\">\n      <th></th>\n      <th></th>\n      <th>r2</th>\n      <th>RMSE</th>\n      <th>MAPE</th>\n      <th>rae</th>\n      <th>dcor</th>\n    </tr>\n  </thead>\n  <tbody>\n    <tr>\n      <th rowspan=\"2\" valign=\"top\">lin_x</th>\n      <th>sinx_plus1</th>\n      <td>0.999999</td>\n      <td>0.000562</td>\n      <td>1.336834</td>\n      <td>38.394055</td>\n      <td>1.000000</td>\n    </tr>\n    <tr>\n      <th>sinx</th>\n      <td>0.958085</td>\n      <td>0.137838</td>\n      <td>0.212106</td>\n      <td>35.932202</td>\n      <td>0.989433</td>\n    </tr>\n  </tbody>\n</table>\n</div>"
     },
     "execution_count": 18,
     "metadata": {},
     "output_type": "execute_result"
    }
   ],
   "source": [
    "pd.DataFrame.from_dict(refined_metrics_dict).transpose()"
   ],
   "metadata": {
    "collapsed": false,
    "pycharm": {
     "name": "#%%\n"
    }
   }
  },
  {
   "cell_type": "code",
   "execution_count": 24,
   "outputs": [
    {
     "name": "stdout",
     "output_type": "stream",
     "text": [
      "Weight: 1.0, \t Regressor: GaussianProcessRegressor(alpha=5.211916694590534e-14,\n",
      "                         kernel=RBF(length_scale=1), n_restarts_optimizer=10,\n",
      "                         normalize_y=True, random_state=1)\n"
     ]
    }
   ],
   "source": [
    "for key in refined_datas_dict[list(refined_datas_dict.keys())[0]][\"ensemble_models\"][\"sklearn_regressor\"].keys():\n",
    "    print(f'Weight: {refined_datas_dict[list(refined_datas_dict.keys())[0]][\"ensemble_models\"][\"ensemble_weight\"][key]}, \\t Regressor: {refined_datas_dict[list(refined_datas_dict.keys())[0]][\"ensemble_models\"][\"sklearn_regressor\"][key]}')"
   ],
   "metadata": {
    "collapsed": false,
    "pycharm": {
     "name": "#%%\n"
    }
   }
  },
  {
   "cell_type": "code",
   "execution_count": 29,
   "outputs": [
    {
     "data": {
      "text/plain": "   ensemble_weight rank                                  sklearn_regressor\n83             1.0    1  GaussianProcessRegressor(alpha=5.2119166945905...",
      "text/html": "<div>\n<style scoped>\n    .dataframe tbody tr th:only-of-type {\n        vertical-align: middle;\n    }\n\n    .dataframe tbody tr th {\n        vertical-align: top;\n    }\n\n    .dataframe thead th {\n        text-align: right;\n    }\n</style>\n<table border=\"1\" class=\"dataframe\">\n  <thead>\n    <tr style=\"text-align: right;\">\n      <th></th>\n      <th>ensemble_weight</th>\n      <th>rank</th>\n      <th>sklearn_regressor</th>\n    </tr>\n  </thead>\n  <tbody>\n    <tr>\n      <th>83</th>\n      <td>1.0</td>\n      <td>1</td>\n      <td>GaussianProcessRegressor(alpha=5.2119166945905...</td>\n    </tr>\n  </tbody>\n</table>\n</div>"
     },
     "execution_count": 29,
     "metadata": {},
     "output_type": "execute_result"
    }
   ],
   "source": [
    "refined_datas_dict[list(refined_datas_dict.keys())[0]][\"ensemble_models\"]"
   ],
   "metadata": {
    "collapsed": false,
    "pycharm": {
     "name": "#%%\n"
    }
   }
  },
  {
   "cell_type": "code",
   "execution_count": null,
   "outputs": [],
   "source": [],
   "metadata": {
    "collapsed": false,
    "pycharm": {
     "name": "#%%\n"
    }
   }
  }
 ],
 "metadata": {
  "kernelspec": {
   "display_name": "Python 3",
   "language": "python",
   "name": "python3"
  },
  "language_info": {
   "codemirror_mode": {
    "name": "ipython",
    "version": 2
   },
   "file_extension": ".py",
   "mimetype": "text/x-python",
   "name": "python",
   "nbconvert_exporter": "python",
   "pygments_lexer": "ipython2",
   "version": "2.7.6"
  }
 },
 "nbformat": 4,
 "nbformat_minor": 0
}