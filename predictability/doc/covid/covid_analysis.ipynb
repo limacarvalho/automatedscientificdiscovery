{
 "cells": [
  {
   "cell_type": "code",
   "execution_count": 1,
   "outputs": [],
   "source": [
    "import numpy as np\n",
    "import pandas as pd"
   ],
   "metadata": {
    "collapsed": false,
    "pycharm": {
     "name": "#%%\n"
    }
   }
  },
  {
   "cell_type": "code",
   "execution_count": 2,
   "outputs": [
    {
     "name": "stderr",
     "output_type": "stream",
     "text": [
      "2022-11-08 16:16:20,206\tINFO worker.py:1518 -- Started a local Ray instance.\n"
     ]
    },
    {
     "data": {
      "text/plain": "RayContext(dashboard_url='', python_version='3.9.5', ray_version='2.0.1', ray_commit='03b6bc7b5a305877501110ec04710a9c57011479', address_info={'node_ip_address': '10.8.0.8', 'raylet_ip_address': '10.8.0.8', 'redis_address': None, 'object_store_address': '/tmp/ray/session_2022-11-08_16-16-19_514533_183968/sockets/plasma_store', 'raylet_socket_name': '/tmp/ray/session_2022-11-08_16-16-19_514533_183968/sockets/raylet', 'webui_url': '', 'session_dir': '/tmp/ray/session_2022-11-08_16-16-19_514533_183968', 'metrics_export_port': 65305, 'gcs_address': '10.8.0.8:54401', 'address': '10.8.0.8:54401', 'dashboard_agent_listen_port': 52365, 'node_id': '32d9e1f6dd8dfe72e2ec295e48b7070c47db9e60ec5bfe2cd43c642b'})",
      "text/html": "<div>\n    <div style=\"margin-left: 50px;display: flex;flex-direction: row;align-items: center\">\n        <h3 style=\"color: var(--jp-ui-font-color0)\">Ray</h3>\n        <svg version=\"1.1\" id=\"ray\" width=\"3em\" viewBox=\"0 0 144.5 144.6\" style=\"margin-left: 3em;margin-right: 3em\">\n            <g id=\"layer-1\">\n                <path fill=\"#00a2e9\" class=\"st0\" d=\"M97.3,77.2c-3.8-1.1-6.2,0.9-8.3,5.1c-3.5,6.8-9.9,9.9-17.4,9.6S58,88.1,54.8,81.2c-1.4-3-3-4-6.3-4.1\n                    c-5.6-0.1-9.9,0.1-13.1,6.4c-3.8,7.6-13.6,10.2-21.8,7.6C5.2,88.4-0.4,80.5,0,71.7c0.1-8.4,5.7-15.8,13.8-18.2\n                    c8.4-2.6,17.5,0.7,22.3,8c1.3,1.9,1.3,5.2,3.6,5.6c3.9,0.6,8,0.2,12,0.2c1.8,0,1.9-1.6,2.4-2.8c3.5-7.8,9.7-11.8,18-11.9\n                    c8.2-0.1,14.4,3.9,17.8,11.4c1.3,2.8,2.9,3.6,5.7,3.3c1-0.1,2,0.1,3,0c2.8-0.5,6.4,1.7,8.1-2.7s-2.3-5.5-4.1-7.5\n                    c-5.1-5.7-10.9-10.8-16.1-16.3C84,38,81.9,37.1,78,38.3C66.7,42,56.2,35.7,53,24.1C50.3,14,57.3,2.8,67.7,0.5\n                    C78.4-2,89,4.7,91.5,15.3c0.1,0.3,0.1,0.5,0.2,0.8c0.7,3.4,0.7,6.9-0.8,9.8c-1.7,3.2-0.8,5,1.5,7.2c6.7,6.5,13.3,13,19.8,19.7\n                    c1.8,1.8,3,2.1,5.5,1.2c9.1-3.4,17.9-0.6,23.4,7c4.8,6.9,4.6,16.1-0.4,22.9c-5.4,7.2-14.2,9.9-23.1,6.5c-2.3-0.9-3.5-0.6-5.1,1.1\n                    c-6.7,6.9-13.6,13.7-20.5,20.4c-1.8,1.8-2.5,3.2-1.4,5.9c3.5,8.7,0.3,18.6-7.7,23.6c-7.9,5-18.2,3.8-24.8-2.9\n                    c-6.4-6.4-7.4-16.2-2.5-24.3c4.9-7.8,14.5-11,23.1-7.8c3,1.1,4.7,0.5,6.9-1.7C91.7,98.4,98,92.3,104.2,86c1.6-1.6,4.1-2.7,2.6-6.2\n                    c-1.4-3.3-3.8-2.5-6.2-2.6C99.8,77.2,98.9,77.2,97.3,77.2z M72.1,29.7c5.5,0.1,9.9-4.3,10-9.8c0-0.1,0-0.2,0-0.3\n                    C81.8,14,77,9.8,71.5,10.2c-5,0.3-9,4.2-9.3,9.2c-0.2,5.5,4,10.1,9.5,10.3C71.8,29.7,72,29.7,72.1,29.7z M72.3,62.3\n                    c-5.4-0.1-9.9,4.2-10.1,9.7c0,0.2,0,0.3,0,0.5c0.2,5.4,4.5,9.7,9.9,10c5.1,0.1,9.9-4.7,10.1-9.8c0.2-5.5-4-10-9.5-10.3\n                    C72.6,62.3,72.4,62.3,72.3,62.3z M115,72.5c0.1,5.4,4.5,9.7,9.8,9.9c5.6-0.2,10-4.8,10-10.4c-0.2-5.4-4.6-9.7-10-9.7\n                    c-5.3-0.1-9.8,4.2-9.9,9.5C115,72.1,115,72.3,115,72.5z M19.5,62.3c-5.4,0.1-9.8,4.4-10,9.8c-0.1,5.1,5.2,10.4,10.2,10.3\n                    c5.6-0.2,10-4.9,9.8-10.5c-0.1-5.4-4.5-9.7-9.9-9.6C19.6,62.3,19.5,62.3,19.5,62.3z M71.8,134.6c5.9,0.2,10.3-3.9,10.4-9.6\n                    c0.5-5.5-3.6-10.4-9.1-10.8c-5.5-0.5-10.4,3.6-10.8,9.1c0,0.5,0,0.9,0,1.4c-0.2,5.3,4,9.8,9.3,10\n                    C71.6,134.6,71.7,134.6,71.8,134.6z\"/>\n            </g>\n        </svg>\n        <table>\n            <tr>\n                <td style=\"text-align: left\"><b>Python version:</b></td>\n                <td style=\"text-align: left\"><b>3.9.5</b></td>\n            </tr>\n            <tr>\n                <td style=\"text-align: left\"><b>Ray version:</b></td>\n                <td style=\"text-align: left\"><b> 2.0.1</b></td>\n            </tr>\n            \n        </table>\n    </div>\n</div>\n"
     },
     "execution_count": 2,
     "metadata": {},
     "output_type": "execute_result"
    }
   ],
   "source": [
    "import ray\n",
    "ray.init()"
   ],
   "metadata": {
    "collapsed": false,
    "pycharm": {
     "name": "#%%\n"
    }
   }
  },
  {
   "cell_type": "code",
   "execution_count": 3,
   "outputs": [],
   "source": [
    "data2020 = pd.read_csv(\"20220727_covid_159rows_52cols_2020.csv\")\n",
    "#data2020[\"year\"] = 2020\n",
    "data2021 = pd.read_csv(\"20220727_covid_159rows_52cols_2021.csv\")\n",
    "#data2021[\"year\"] = 2021"
   ],
   "metadata": {
    "collapsed": false,
    "pycharm": {
     "name": "#%%\n"
    }
   }
  },
  {
   "cell_type": "code",
   "execution_count": 4,
   "outputs": [
    {
     "data": {
      "text/plain": "      location  new_cases_per_million  new_deaths_per_million  \\\n0  Afghanistan               1313.661                  54.938   \n1      Albania              20298.412                 411.043   \n2      Algeria               2232.574                  61.762   \n3       Angola                517.274                  11.899   \n4    Argentina              35642.693                 948.224   \n\n   stringency_index_cov  population_density_cov  population_cov  \\\n0             47.626442                  54.422      39835428.0   \n1             64.760836                 104.871       2872934.0   \n2             70.767717                  17.348      44616626.0   \n3             73.326934                  23.890      33933611.0   \n4             71.530603                  16.177      45605823.0   \n\n   median_age_cov  aged_65_older_cov  aged_70_older_cov  gdp_per_capita_cov  \\\n0            18.6              2.581              1.337            1803.987   \n1            38.0             13.188              8.643           11803.431   \n2            29.1              6.211              3.857           13913.839   \n3            16.8              2.405              1.362            5819.495   \n4            31.9             11.198              7.441           18933.907   \n\n   ...  Chronic kidney disease  Chronic respiratory diseases  \\\n0  ...                0.015165                      0.019052   \n1  ...                0.011413                      0.028272   \n2  ...                0.019421                      0.017827   \n3  ...                0.007997                      0.012769   \n4  ...                0.035312                      0.043615   \n\n   Cirrhosis and other chronic liver diseases  Digestive diseases  \\\n0                                    0.010215            0.018640   \n1                                    0.011552            0.018281   \n2                                    0.009579            0.015151   \n3                                    0.018390            0.029117   \n4                                    0.019217            0.040107   \n\n   Acute hepatitis  Alzheimer's disease and other dementias  \\\n0         0.005219                                 0.004775   \n1         0.000035                                 0.031810   \n2         0.000613                                 0.012335   \n3         0.000798                                 0.003710   \n4         0.000081                                 0.027152   \n\n   Parkinson's disease  Total_death_ratio  air_polution  Obesity_rate  \n0             0.001507           0.585498      52.99812           5.5  \n1             0.008603           0.771315      18.45981          21.7  \n2             0.003038           0.455347      32.91557          27.4  \n3             0.000867           0.562613      28.02152           8.2  \n4             0.006860           0.759791      13.84671          28.3  \n\n[5 rows x 52 columns]",
      "text/html": "<div>\n<style scoped>\n    .dataframe tbody tr th:only-of-type {\n        vertical-align: middle;\n    }\n\n    .dataframe tbody tr th {\n        vertical-align: top;\n    }\n\n    .dataframe thead th {\n        text-align: right;\n    }\n</style>\n<table border=\"1\" class=\"dataframe\">\n  <thead>\n    <tr style=\"text-align: right;\">\n      <th></th>\n      <th>location</th>\n      <th>new_cases_per_million</th>\n      <th>new_deaths_per_million</th>\n      <th>stringency_index_cov</th>\n      <th>population_density_cov</th>\n      <th>population_cov</th>\n      <th>median_age_cov</th>\n      <th>aged_65_older_cov</th>\n      <th>aged_70_older_cov</th>\n      <th>gdp_per_capita_cov</th>\n      <th>...</th>\n      <th>Chronic kidney disease</th>\n      <th>Chronic respiratory diseases</th>\n      <th>Cirrhosis and other chronic liver diseases</th>\n      <th>Digestive diseases</th>\n      <th>Acute hepatitis</th>\n      <th>Alzheimer's disease and other dementias</th>\n      <th>Parkinson's disease</th>\n      <th>Total_death_ratio</th>\n      <th>air_polution</th>\n      <th>Obesity_rate</th>\n    </tr>\n  </thead>\n  <tbody>\n    <tr>\n      <th>0</th>\n      <td>Afghanistan</td>\n      <td>1313.661</td>\n      <td>54.938</td>\n      <td>47.626442</td>\n      <td>54.422</td>\n      <td>39835428.0</td>\n      <td>18.6</td>\n      <td>2.581</td>\n      <td>1.337</td>\n      <td>1803.987</td>\n      <td>...</td>\n      <td>0.015165</td>\n      <td>0.019052</td>\n      <td>0.010215</td>\n      <td>0.018640</td>\n      <td>0.005219</td>\n      <td>0.004775</td>\n      <td>0.001507</td>\n      <td>0.585498</td>\n      <td>52.99812</td>\n      <td>5.5</td>\n    </tr>\n    <tr>\n      <th>1</th>\n      <td>Albania</td>\n      <td>20298.412</td>\n      <td>411.043</td>\n      <td>64.760836</td>\n      <td>104.871</td>\n      <td>2872934.0</td>\n      <td>38.0</td>\n      <td>13.188</td>\n      <td>8.643</td>\n      <td>11803.431</td>\n      <td>...</td>\n      <td>0.011413</td>\n      <td>0.028272</td>\n      <td>0.011552</td>\n      <td>0.018281</td>\n      <td>0.000035</td>\n      <td>0.031810</td>\n      <td>0.008603</td>\n      <td>0.771315</td>\n      <td>18.45981</td>\n      <td>21.7</td>\n    </tr>\n    <tr>\n      <th>2</th>\n      <td>Algeria</td>\n      <td>2232.574</td>\n      <td>61.762</td>\n      <td>70.767717</td>\n      <td>17.348</td>\n      <td>44616626.0</td>\n      <td>29.1</td>\n      <td>6.211</td>\n      <td>3.857</td>\n      <td>13913.839</td>\n      <td>...</td>\n      <td>0.019421</td>\n      <td>0.017827</td>\n      <td>0.009579</td>\n      <td>0.015151</td>\n      <td>0.000613</td>\n      <td>0.012335</td>\n      <td>0.003038</td>\n      <td>0.455347</td>\n      <td>32.91557</td>\n      <td>27.4</td>\n    </tr>\n    <tr>\n      <th>3</th>\n      <td>Angola</td>\n      <td>517.274</td>\n      <td>11.899</td>\n      <td>73.326934</td>\n      <td>23.890</td>\n      <td>33933611.0</td>\n      <td>16.8</td>\n      <td>2.405</td>\n      <td>1.362</td>\n      <td>5819.495</td>\n      <td>...</td>\n      <td>0.007997</td>\n      <td>0.012769</td>\n      <td>0.018390</td>\n      <td>0.029117</td>\n      <td>0.000798</td>\n      <td>0.003710</td>\n      <td>0.000867</td>\n      <td>0.562613</td>\n      <td>28.02152</td>\n      <td>8.2</td>\n    </tr>\n    <tr>\n      <th>4</th>\n      <td>Argentina</td>\n      <td>35642.693</td>\n      <td>948.224</td>\n      <td>71.530603</td>\n      <td>16.177</td>\n      <td>45605823.0</td>\n      <td>31.9</td>\n      <td>11.198</td>\n      <td>7.441</td>\n      <td>18933.907</td>\n      <td>...</td>\n      <td>0.035312</td>\n      <td>0.043615</td>\n      <td>0.019217</td>\n      <td>0.040107</td>\n      <td>0.000081</td>\n      <td>0.027152</td>\n      <td>0.006860</td>\n      <td>0.759791</td>\n      <td>13.84671</td>\n      <td>28.3</td>\n    </tr>\n  </tbody>\n</table>\n<p>5 rows × 52 columns</p>\n</div>"
     },
     "execution_count": 4,
     "metadata": {},
     "output_type": "execute_result"
    }
   ],
   "source": [
    "data2020.head()"
   ],
   "metadata": {
    "collapsed": false,
    "pycharm": {
     "name": "#%%\n"
    }
   }
  },
  {
   "cell_type": "code",
   "execution_count": 5,
   "outputs": [
    {
     "name": "stdout",
     "output_type": "stream",
     "text": [
      "52 51\n"
     ]
    }
   ],
   "source": [
    "columns_2020 = data2020.columns.to_list()\n",
    "columns_2021 = data2021.columns.to_list()\n",
    "print(len(columns_2020), len(columns_2021))"
   ],
   "metadata": {
    "collapsed": false,
    "pycharm": {
     "name": "#%%\n"
    }
   }
  },
  {
   "cell_type": "code",
   "execution_count": 6,
   "outputs": [
    {
     "name": "stdout",
     "output_type": "stream",
     "text": [
      "only 2020:  ['human_development_index_cov', 'stringency_index_cov', 'aged_70_older_cov', 'cardiovasc_death_rate_cov', 'aged_65_older_cov']\n",
      "only 2021:  ['total_vaccinations_per_hundred', 'people_vaccinated_per_hundred', 'total_deaths_per_million', 'people_fully_vaccinated_per_hundred']\n"
     ]
    }
   ],
   "source": [
    "only_2020 = list(set(columns_2020)-set(columns_2021))\n",
    "only_2021 = list(set(columns_2021)-set(columns_2020))\n",
    "print(\"only 2020: \", only_2020)\n",
    "print(\"only 2021: \", only_2021)"
   ],
   "metadata": {
    "collapsed": false,
    "pycharm": {
     "name": "#%%\n"
    }
   }
  },
  {
   "cell_type": "code",
   "execution_count": 7,
   "outputs": [],
   "source": [
    "from bin.main import predictability, get_column_combinations"
   ],
   "metadata": {
    "collapsed": false,
    "pycharm": {
     "name": "#%%\n"
    }
   }
  },
  {
   "cell_type": "code",
   "execution_count": 8,
   "outputs": [],
   "source": [
    "all_2020 = columns_2020.copy()\n",
    "all_2020.remove(\"location\")\n",
    "all_2020.remove(\"Year_x\")\n",
    "all_2021 = columns_2021.copy()\n",
    "all_2021.remove(\"location\")\n",
    "all_2021.remove(\"Year_x\")"
   ],
   "metadata": {
    "collapsed": false,
    "pycharm": {
     "name": "#%%\n"
    }
   }
  },
  {
   "cell_type": "markdown",
   "source": [
    "## Check covid data combinations"
   ],
   "metadata": {
    "collapsed": false,
    "pycharm": {
     "name": "#%% md\n"
    }
   }
  },
  {
   "cell_type": "markdown",
   "source": [
    "### Find targets"
   ],
   "metadata": {
    "collapsed": false,
    "pycharm": {
     "name": "#%% md\n"
    }
   }
  },
  {
   "cell_type": "code",
   "execution_count": 9,
   "outputs": [
    {
     "data": {
      "text/plain": "['new_cases_per_million',\n 'new_deaths_per_million',\n 'stringency_index_cov',\n 'population_density_cov',\n 'population_cov',\n 'median_age_cov',\n 'aged_65_older_cov',\n 'aged_70_older_cov',\n 'gdp_per_capita_cov',\n 'cardiovasc_death_rate_cov',\n 'diabetes_prevalence_cov',\n 'life_expectancy_cov',\n 'human_development_index_cov',\n 'Population',\n 'Area_km2',\n 'Density_km2',\n 'Meningitis',\n 'Neoplasms',\n 'Fire, heat, and hot substances',\n 'Malaria',\n 'Drowning',\n 'Interpersonal violence',\n 'HIV/AIDS',\n 'Drug use disorders',\n 'Tuberculosis',\n 'Road injuries',\n 'Maternal disorders',\n 'Lower respiratory infections',\n 'Neonatal disorders',\n 'Alcohol use disorders',\n 'Exposure to forces of nature',\n 'Diarrheal diseases',\n 'Environmental heat and cold exposure',\n 'Nutritional deficiencies',\n 'Self-harm',\n 'Conflict and terrorism',\n 'Diabetes mellitus',\n 'Poisonings',\n 'Protein-energy malnutrition',\n 'Cardiovascular diseases',\n 'Chronic kidney disease',\n 'Chronic respiratory diseases',\n 'Cirrhosis and other chronic liver diseases',\n 'Digestive diseases',\n 'Acute hepatitis',\n \"Alzheimer's disease and other dementias\",\n \"Parkinson's disease\",\n 'Total_death_ratio',\n 'air_polution',\n 'Obesity_rate']"
     },
     "execution_count": 9,
     "metadata": {},
     "output_type": "execute_result"
    }
   ],
   "source": [
    "all_2020"
   ],
   "metadata": {
    "collapsed": false,
    "pycharm": {
     "name": "#%%\n"
    }
   }
  },
  {
   "cell_type": "code",
   "execution_count": 10,
   "outputs": [
    {
     "data": {
      "text/plain": "34592"
     },
     "execution_count": 10,
     "metadata": {},
     "output_type": "execute_result"
    }
   ],
   "source": [
    "len(get_column_combinations(all_cols=all_2020, inputs=3, outputs=1, targets=[\"new_cases_per_million\", \"new_deaths_per_million\",]))"
   ],
   "metadata": {
    "collapsed": false,
    "pycharm": {
     "name": "#%%\n"
    }
   }
  },
  {
   "cell_type": "markdown",
   "source": [
    "## Run predictability"
   ],
   "metadata": {
    "collapsed": false,
    "pycharm": {
     "name": "#%% md\n"
    }
   }
  },
  {
   "cell_type": "code",
   "execution_count": null,
   "outputs": [],
   "source": [
    "metrics_dict, datas_dict = predictability(data=data2020, input_cols=3, output_cols=1, targets=[\"new_cases_per_million\", \"new_deaths_per_million\",], primkey_cols=[\"location\", \"Year_x\"], method=\"kNN\", scoring=\"RMSE\", n_jobs=-1, random_state_split=None)"
   ],
   "metadata": {
    "collapsed": false,
    "pycharm": {
     "name": "#%%\n"
    }
   }
  },
  {
   "cell_type": "code",
   "execution_count": 2,
   "outputs": [],
   "source": [
    "import pickle"
   ],
   "metadata": {
    "collapsed": false,
    "pycharm": {
     "name": "#%%\n"
    }
   }
  },
  {
   "cell_type": "code",
   "execution_count": null,
   "outputs": [],
   "source": [
    "'''\n",
    "with open('metrics_covid_2020_52cols.pickle', 'wb') as file:\n",
    "    pickle.dump(metrics_dict, file)\n",
    "\n",
    "with open('datas_covid_2020_52cols.pickle', 'wb') as file:\n",
    "    pickle.dump(datas_dict, file)\n",
    "    '''"
   ],
   "metadata": {
    "collapsed": false,
    "pycharm": {
     "name": "#%%\n"
    }
   }
  },
  {
   "cell_type": "code",
   "execution_count": 3,
   "outputs": [],
   "source": [
    "with open('metrics_covid_2020_52cols.pickle', 'rb') as file:\n",
    "    metrics_dict = pickle.load(file)\n",
    "with open('datas_covid_2020_52cols.pickle', 'rb') as file:\n",
    "    datas_dict = pickle.load(file)"
   ],
   "metadata": {
    "collapsed": false,
    "pycharm": {
     "name": "#%%\n"
    }
   }
  },
  {
   "cell_type": "code",
   "execution_count": 18,
   "outputs": [],
   "source": [
    "metrics_df = pd.DataFrame.from_dict(metrics_dict).transpose().sort_values(by=\"kNN r2\", ascending=False)"
   ],
   "metadata": {
    "collapsed": false,
    "pycharm": {
     "name": "#%%\n"
    }
   }
  },
  {
   "cell_type": "code",
   "execution_count": 19,
   "outputs": [
    {
     "data": {
      "text/plain": "                                                                                                                          kNN r2  \\\npopulation_cov              Drug use disorders          Alzheimer's disease and other dementias new_deaths_per_million  0.689137   \nmedian_age_cov              Protein-energy malnutrition Cardiovascular diseases                 new_deaths_per_million  0.672013   \naged_70_older_cov           Density_km2                 Alzheimer's disease and other dementias new_cases_per_million   0.668209   \nDrowning                    Nutritional deficiencies    Parkinson's disease                     new_cases_per_million   0.666848   \nDensity_km2                 Interpersonal violence      Obesity_rate                            new_deaths_per_million  0.665432   \naged_70_older_cov           air_polution                Obesity_rate                            new_cases_per_million   0.665119   \n                            Density_km2                 Exposure to forces of nature            new_deaths_per_million  0.663870   \nArea_km2                    Parkinson's disease         Obesity_rate                            new_cases_per_million   0.663404   \nhuman_development_index_cov HIV/AIDS                    Cardiovascular diseases                 new_cases_per_million   0.661946   \nTuberculosis                Diarrheal diseases          Conflict and terrorism                  new_cases_per_million   0.661810   \nhuman_development_index_cov Chronic kidney disease      Total_death_ratio                       new_cases_per_million   0.661595   \naged_70_older_cov           Tuberculosis                Neonatal disorders                      new_deaths_per_million  0.659312   \ncardiovasc_death_rate_cov   Neonatal disorders          Alzheimer's disease and other dementias new_deaths_per_million  0.659094   \nhuman_development_index_cov Diabetes mellitus           Cardiovascular diseases                 new_cases_per_million   0.658161   \naged_70_older_cov           human_development_index_cov Chronic kidney disease                  new_cases_per_million   0.656365   \nCardiovascular diseases     Acute hepatitis             Alzheimer's disease and other dementias new_cases_per_million   0.656235   \nlife_expectancy_cov         Diabetes mellitus           Obesity_rate                            new_cases_per_million   0.656223   \naged_65_older_cov           air_polution                Obesity_rate                            new_cases_per_million   0.655952   \nhuman_development_index_cov Road injuries               Parkinson's disease                     new_cases_per_million   0.655589   \nstringency_index_cov        Meningitis                  Parkinson's disease                     new_cases_per_million   0.654273   \n\n                                                                                                                        linear r2  \\\npopulation_cov              Drug use disorders          Alzheimer's disease and other dementias new_deaths_per_million   0.541908   \nmedian_age_cov              Protein-energy malnutrition Cardiovascular diseases                 new_deaths_per_million   0.375964   \naged_70_older_cov           Density_km2                 Alzheimer's disease and other dementias new_cases_per_million   -0.495268   \nDrowning                    Nutritional deficiencies    Parkinson's disease                     new_cases_per_million    0.418958   \nDensity_km2                 Interpersonal violence      Obesity_rate                            new_deaths_per_million  -0.030561   \naged_70_older_cov           air_polution                Obesity_rate                            new_cases_per_million    0.633916   \n                            Density_km2                 Exposure to forces of nature            new_deaths_per_million   0.495892   \nArea_km2                    Parkinson's disease         Obesity_rate                            new_cases_per_million    0.579303   \nhuman_development_index_cov HIV/AIDS                    Cardiovascular diseases                 new_cases_per_million    0.558118   \nTuberculosis                Diarrheal diseases          Conflict and terrorism                  new_cases_per_million    0.161758   \nhuman_development_index_cov Chronic kidney disease      Total_death_ratio                       new_cases_per_million    0.471170   \naged_70_older_cov           Tuberculosis                Neonatal disorders                      new_deaths_per_million   0.433510   \ncardiovasc_death_rate_cov   Neonatal disorders          Alzheimer's disease and other dementias new_deaths_per_million   0.526543   \nhuman_development_index_cov Diabetes mellitus           Cardiovascular diseases                 new_cases_per_million    0.502117   \naged_70_older_cov           human_development_index_cov Chronic kidney disease                  new_cases_per_million    0.662126   \nCardiovascular diseases     Acute hepatitis             Alzheimer's disease and other dementias new_cases_per_million    0.534368   \nlife_expectancy_cov         Diabetes mellitus           Obesity_rate                            new_cases_per_million    0.491978   \naged_65_older_cov           air_polution                Obesity_rate                            new_cases_per_million    0.539589   \nhuman_development_index_cov Road injuries               Parkinson's disease                     new_cases_per_million    0.585529   \nstringency_index_cov        Meningitis                  Parkinson's disease                     new_cases_per_million    0.500234   \n\n                                                                                                                        pow. law r2  \\\npopulation_cov              Drug use disorders          Alzheimer's disease and other dementias new_deaths_per_million          NaN   \nmedian_age_cov              Protein-energy malnutrition Cardiovascular diseases                 new_deaths_per_million          NaN   \naged_70_older_cov           Density_km2                 Alzheimer's disease and other dementias new_cases_per_million      0.286558   \nDrowning                    Nutritional deficiencies    Parkinson's disease                     new_cases_per_million     -0.274473   \nDensity_km2                 Interpersonal violence      Obesity_rate                            new_deaths_per_million          NaN   \naged_70_older_cov           air_polution                Obesity_rate                            new_cases_per_million      0.292243   \n                            Density_km2                 Exposure to forces of nature            new_deaths_per_million          NaN   \nArea_km2                    Parkinson's disease         Obesity_rate                            new_cases_per_million      0.500918   \nhuman_development_index_cov HIV/AIDS                    Cardiovascular diseases                 new_cases_per_million      0.183534   \nTuberculosis                Diarrheal diseases          Conflict and terrorism                  new_cases_per_million           NaN   \nhuman_development_index_cov Chronic kidney disease      Total_death_ratio                       new_cases_per_million      0.269345   \naged_70_older_cov           Tuberculosis                Neonatal disorders                      new_deaths_per_million          NaN   \ncardiovasc_death_rate_cov   Neonatal disorders          Alzheimer's disease and other dementias new_deaths_per_million          NaN   \nhuman_development_index_cov Diabetes mellitus           Cardiovascular diseases                 new_cases_per_million      0.345968   \naged_70_older_cov           human_development_index_cov Chronic kidney disease                  new_cases_per_million      0.254768   \nCardiovascular diseases     Acute hepatitis             Alzheimer's disease and other dementias new_cases_per_million           NaN   \nlife_expectancy_cov         Diabetes mellitus           Obesity_rate                            new_cases_per_million      0.175777   \naged_65_older_cov           air_polution                Obesity_rate                            new_cases_per_million      0.395673   \nhuman_development_index_cov Road injuries               Parkinson's disease                     new_cases_per_million      0.456443   \nstringency_index_cov        Meningitis                  Parkinson's disease                     new_cases_per_million      0.185068   \n\n                                                                                                                         mean r2  \\\npopulation_cov              Drug use disorders          Alzheimer's disease and other dementias new_deaths_per_million -0.048162   \nmedian_age_cov              Protein-energy malnutrition Cardiovascular diseases                 new_deaths_per_million -0.047575   \naged_70_older_cov           Density_km2                 Alzheimer's disease and other dementias new_cases_per_million  -0.000096   \nDrowning                    Nutritional deficiencies    Parkinson's disease                     new_cases_per_million  -0.016093   \nDensity_km2                 Interpersonal violence      Obesity_rate                            new_deaths_per_million -0.085819   \naged_70_older_cov           air_polution                Obesity_rate                            new_cases_per_million  -0.029579   \n                            Density_km2                 Exposure to forces of nature            new_deaths_per_million -0.030424   \nArea_km2                    Parkinson's disease         Obesity_rate                            new_cases_per_million  -0.144083   \nhuman_development_index_cov HIV/AIDS                    Cardiovascular diseases                 new_cases_per_million  -0.026050   \nTuberculosis                Diarrheal diseases          Conflict and terrorism                  new_cases_per_million  -0.010929   \nhuman_development_index_cov Chronic kidney disease      Total_death_ratio                       new_cases_per_million  -0.000887   \naged_70_older_cov           Tuberculosis                Neonatal disorders                      new_deaths_per_million -0.042041   \ncardiovasc_death_rate_cov   Neonatal disorders          Alzheimer's disease and other dementias new_deaths_per_million -0.019338   \nhuman_development_index_cov Diabetes mellitus           Cardiovascular diseases                 new_cases_per_million  -0.051349   \naged_70_older_cov           human_development_index_cov Chronic kidney disease                  new_cases_per_million  -0.000117   \nCardiovascular diseases     Acute hepatitis             Alzheimer's disease and other dementias new_cases_per_million  -0.012796   \nlife_expectancy_cov         Diabetes mellitus           Obesity_rate                            new_cases_per_million  -0.010365   \naged_65_older_cov           air_polution                Obesity_rate                            new_cases_per_million  -0.007918   \nhuman_development_index_cov Road injuries               Parkinson's disease                     new_cases_per_million  -0.117206   \nstringency_index_cov        Meningitis                  Parkinson's disease                     new_cases_per_million  -0.007660   \n\n                                                                                                                            kNN RMSE  \\\npopulation_cov              Drug use disorders          Alzheimer's disease and other dementias new_deaths_per_million    178.975734   \nmedian_age_cov              Protein-energy malnutrition Cardiovascular diseases                 new_deaths_per_million    196.533027   \naged_70_older_cov           Density_km2                 Alzheimer's disease and other dementias new_cases_per_million   10105.350664   \nDrowning                    Nutritional deficiencies    Parkinson's disease                     new_cases_per_million   10007.803128   \nDensity_km2                 Interpersonal violence      Obesity_rate                            new_deaths_per_million    188.004332   \naged_70_older_cov           air_polution                Obesity_rate                            new_cases_per_million   10992.081684   \n                            Density_km2                 Exposure to forces of nature            new_deaths_per_million    189.563762   \nArea_km2                    Parkinson's disease         Obesity_rate                            new_cases_per_million    7868.301264   \nhuman_development_index_cov HIV/AIDS                    Cardiovascular diseases                 new_cases_per_million    9275.345316   \nTuberculosis                Diarrheal diseases          Conflict and terrorism                  new_cases_per_million    9208.231680   \nhuman_development_index_cov Chronic kidney disease      Total_death_ratio                       new_cases_per_million   10555.774307   \naged_70_older_cov           Tuberculosis                Neonatal disorders                      new_deaths_per_million    188.831569   \ncardiovasc_death_rate_cov   Neonatal disorders          Alzheimer's disease and other dementias new_deaths_per_million    203.505205   \nhuman_development_index_cov Diabetes mellitus           Cardiovascular diseases                 new_cases_per_million    9089.980395   \naged_70_older_cov           human_development_index_cov Chronic kidney disease                  new_cases_per_million    9156.580458   \nCardiovascular diseases     Acute hepatitis             Alzheimer's disease and other dementias new_cases_per_million    9876.797231   \nlife_expectancy_cov         Diabetes mellitus           Obesity_rate                            new_cases_per_million   11034.203515   \naged_65_older_cov           air_polution                Obesity_rate                            new_cases_per_million    9884.855195   \nhuman_development_index_cov Road injuries               Parkinson's disease                     new_cases_per_million    8755.592570   \nstringency_index_cov        Meningitis                  Parkinson's disease                     new_cases_per_million    9205.958988   \n\n                                                                                                                         linear RMSE  \\\npopulation_cov              Drug use disorders          Alzheimer's disease and other dementias new_deaths_per_million    217.263047   \nmedian_age_cov              Protein-energy malnutrition Cardiovascular diseases                 new_deaths_per_million    271.088949   \naged_70_older_cov           Density_km2                 Alzheimer's disease and other dementias new_cases_per_million   21452.551406   \nDrowning                    Nutritional deficiencies    Parkinson's disease                     new_cases_per_million   13216.636252   \nDensity_km2                 Interpersonal violence      Obesity_rate                            new_deaths_per_million    329.960684   \naged_70_older_cov           air_polution                Obesity_rate                            new_cases_per_million   11492.783020   \n                            Density_km2                 Exposure to forces of nature            new_deaths_per_million    232.147183   \nArea_km2                    Parkinson's disease         Obesity_rate                            new_cases_per_million    8796.529220   \nhuman_development_index_cov HIV/AIDS                    Cardiovascular diseases                 new_cases_per_million   10604.493104   \nTuberculosis                Diarrheal diseases          Conflict and terrorism                  new_cases_per_million   14497.077599   \nhuman_development_index_cov Chronic kidney disease      Total_death_ratio                       new_cases_per_million   13195.607852   \naged_70_older_cov           Tuberculosis                Neonatal disorders                      new_deaths_per_million    243.496301   \ncardiovasc_death_rate_cov   Neonatal disorders          Alzheimer's disease and other dementias new_deaths_per_million    239.827499   \nhuman_development_index_cov Diabetes mellitus           Cardiovascular diseases                 new_cases_per_million   10970.240103   \naged_70_older_cov           human_development_index_cov Chronic kidney disease                  new_cases_per_million    9079.501890   \nCardiovascular diseases     Acute hepatitis             Alzheimer's disease and other dementias new_cases_per_million   11494.950439   \nlife_expectancy_cov         Diabetes mellitus           Obesity_rate                            new_cases_per_million   13413.566363   \naged_65_older_cov           air_polution                Obesity_rate                            new_cases_per_million   11434.939983   \nhuman_development_index_cov Road injuries               Parkinson's disease                     new_cases_per_million    9604.930500   \nstringency_index_cov        Meningitis                  Parkinson's disease                     new_cases_per_million   11068.430213   \n\n                                                                                                                        pow. law RMSE  \\\npopulation_cov              Drug use disorders          Alzheimer's disease and other dementias new_deaths_per_million            NaN   \nmedian_age_cov              Protein-energy malnutrition Cardiovascular diseases                 new_deaths_per_million            NaN   \naged_70_older_cov           Density_km2                 Alzheimer's disease and other dementias new_cases_per_million    14818.311084   \nDrowning                    Nutritional deficiencies    Parkinson's disease                     new_cases_per_million    19574.132768   \nDensity_km2                 Interpersonal violence      Obesity_rate                            new_deaths_per_million            NaN   \naged_70_older_cov           air_polution                Obesity_rate                            new_cases_per_million    15980.003765   \n                            Density_km2                 Exposure to forces of nature            new_deaths_per_million            NaN   \nArea_km2                    Parkinson's disease         Obesity_rate                            new_cases_per_million     9581.039197   \nhuman_development_index_cov HIV/AIDS                    Cardiovascular diseases                 new_cases_per_million    14414.709378   \nTuberculosis                Diarrheal diseases          Conflict and terrorism                  new_cases_per_million             NaN   \nhuman_development_index_cov Chronic kidney disease      Total_death_ratio                       new_cases_per_million    15510.559429   \naged_70_older_cov           Tuberculosis                Neonatal disorders                      new_deaths_per_million            NaN   \ncardiovasc_death_rate_cov   Neonatal disorders          Alzheimer's disease and other dementias new_deaths_per_million            NaN   \nhuman_development_index_cov Diabetes mellitus           Cardiovascular diseases                 new_cases_per_million    12573.376243   \naged_70_older_cov           human_development_index_cov Chronic kidney disease                  new_cases_per_million    13484.360406   \nCardiovascular diseases     Acute hepatitis             Alzheimer's disease and other dementias new_cases_per_million             NaN   \nlife_expectancy_cov         Diabetes mellitus           Obesity_rate                            new_cases_per_million    17085.402237   \naged_65_older_cov           air_polution                Obesity_rate                            new_cases_per_million    13100.772013   \nhuman_development_index_cov Road injuries               Parkinson's disease                     new_cases_per_million    10999.423940   \nstringency_index_cov        Meningitis                  Parkinson's disease                     new_cases_per_million    14133.945016   \n\n                                                                                                                           mean RMSE  \\\npopulation_cov              Drug use disorders          Alzheimer's disease and other dementias new_deaths_per_million    328.642638   \nmedian_age_cov              Protein-energy malnutrition Cardiovascular diseases                 new_deaths_per_million    351.236360   \naged_70_older_cov           Density_km2                 Alzheimer's disease and other dementias new_cases_per_million   17544.467547   \nDrowning                    Nutritional deficiencies    Parkinson's disease                     new_cases_per_million   17477.688956   \nDensity_km2                 Interpersonal violence      Obesity_rate                            new_deaths_per_million    338.691357   \naged_70_older_cov           air_polution                Obesity_rate                            new_cases_per_million   19273.677522   \n                            Density_km2                 Exposure to forces of nature            new_deaths_per_million    331.901968   \nArea_km2                    Parkinson's disease         Obesity_rate                            new_cases_per_million   14506.254161   \nhuman_development_index_cov HIV/AIDS                    Cardiovascular diseases                 new_cases_per_million   16159.244532   \nTuberculosis                Diarrheal diseases          Conflict and terrorism                  new_cases_per_million   15920.476005   \nhuman_development_index_cov Chronic kidney disease      Total_death_ratio                       new_cases_per_million   18153.647043   \naged_70_older_cov           Tuberculosis                Neonatal disorders                      new_deaths_per_million    330.246717   \ncardiovasc_death_rate_cov   Neonatal disorders          Alzheimer's disease and other dementias new_deaths_per_million    351.898645   \nhuman_development_index_cov Diabetes mellitus           Cardiovascular diseases                 new_cases_per_million   15941.371001   \naged_70_older_cov           human_development_index_cov Chronic kidney disease                  new_cases_per_million   15621.034856   \nCardiovascular diseases     Acute hepatitis             Alzheimer's disease and other dementias new_cases_per_million   16953.004525   \nlife_expectancy_cov         Diabetes mellitus           Obesity_rate                            new_cases_per_million   18916.551147   \naged_65_older_cov           air_polution                Obesity_rate                            new_cases_per_million   16918.956949   \nhuman_development_index_cov Road injuries               Parkinson's disease                     new_cases_per_million   15769.351662   \nstringency_index_cov        Meningitis                  Parkinson's disease                     new_cases_per_million   15716.638999   \n\n                                                                                                                        kNN RMSE/std  \\\npopulation_cov              Drug use disorders          Alzheimer's disease and other dementias new_deaths_per_million      0.557551   \nmedian_age_cov              Protein-energy malnutrition Cardiovascular diseases                 new_deaths_per_million      0.572702   \naged_70_older_cov           Density_km2                 Alzheimer's disease and other dementias new_cases_per_million       0.576013   \nDrowning                    Nutritional deficiencies    Parkinson's disease                     new_cases_per_million       0.577194   \nDensity_km2                 Interpersonal violence      Obesity_rate                            new_deaths_per_million      0.578419   \naged_70_older_cov           air_polution                Obesity_rate                            new_cases_per_million       0.578689   \n                            Density_km2                 Exposure to forces of nature            new_deaths_per_million      0.579767   \nArea_km2                    Parkinson's disease         Obesity_rate                            new_cases_per_million       0.580169   \nhuman_development_index_cov HIV/AIDS                    Cardiovascular diseases                 new_cases_per_million       0.581424   \nTuberculosis                Diarrheal diseases          Conflict and terrorism                  new_cases_per_million       0.581541   \nhuman_development_index_cov Chronic kidney disease      Total_death_ratio                       new_cases_per_million       0.581726   \naged_70_older_cov           Tuberculosis                Neonatal disorders                      new_deaths_per_million      0.583685   \ncardiovasc_death_rate_cov   Neonatal disorders          Alzheimer's disease and other dementias new_deaths_per_million      0.583871   \nhuman_development_index_cov Diabetes mellitus           Cardiovascular diseases                 new_cases_per_million       0.584670   \naged_70_older_cov           human_development_index_cov Chronic kidney disease                  new_cases_per_million       0.586204   \nCardiovascular diseases     Acute hepatitis             Alzheimer's disease and other dementias new_cases_per_million       0.586314   \nlife_expectancy_cov         Diabetes mellitus           Obesity_rate                            new_cases_per_million       0.586325   \naged_65_older_cov           air_polution                Obesity_rate                            new_cases_per_million       0.586556   \nhuman_development_index_cov Road injuries               Parkinson's disease                     new_cases_per_million       0.586865   \nstringency_index_cov        Meningitis                  Parkinson's disease                     new_cases_per_million       0.587985   \n\n                                                                                                                        linear RMSE/std  \\\npopulation_cov              Drug use disorders          Alzheimer's disease and other dementias new_deaths_per_million         0.676825   \nmedian_age_cov              Protein-energy malnutrition Cardiovascular diseases                 new_deaths_per_million         0.789960   \naged_70_older_cov           Density_km2                 Alzheimer's disease and other dementias new_cases_per_million          1.222812   \nDrowning                    Nutritional deficiencies    Parkinson's disease                     new_cases_per_million          0.762261   \nDensity_km2                 Interpersonal violence      Obesity_rate                            new_deaths_per_million         1.015165   \naged_70_older_cov           air_polution                Obesity_rate                            new_cases_per_million          0.605049   \n                            Density_km2                 Exposure to forces of nature            new_deaths_per_million         0.710005   \nArea_km2                    Parkinson's disease         Obesity_rate                            new_cases_per_million          0.648612   \nhuman_development_index_cov HIV/AIDS                    Cardiovascular diseases                 new_cases_per_million          0.664742   \nTuberculosis                Diarrheal diseases          Conflict and terrorism                  new_cases_per_million          0.915555   \nhuman_development_index_cov Chronic kidney disease      Total_death_ratio                       new_cases_per_million          0.727207   \naged_70_older_cov           Tuberculosis                Neonatal disorders                      new_deaths_per_million         0.752655   \ncardiovasc_death_rate_cov   Neonatal disorders          Alzheimer's disease and other dementias new_deaths_per_million         0.688082   \nhuman_development_index_cov Diabetes mellitus           Cardiovascular diseases                 new_cases_per_million          0.705609   \naged_70_older_cov           human_development_index_cov Chronic kidney disease                  new_cases_per_million          0.581270   \nCardiovascular diseases     Acute hepatitis             Alzheimer's disease and other dementias new_cases_per_million          0.682372   \nlife_expectancy_cov         Diabetes mellitus           Obesity_rate                            new_cases_per_million          0.712757   \naged_65_older_cov           air_polution                Obesity_rate                            new_cases_per_million          0.678536   \nhuman_development_index_cov Road injuries               Parkinson's disease                     new_cases_per_million          0.643794   \nstringency_index_cov        Meningitis                  Parkinson's disease                     new_cases_per_million          0.706941   \n\n                                                                                                                        ...  \\\npopulation_cov              Drug use disorders          Alzheimer's disease and other dementias new_deaths_per_million  ...   \nmedian_age_cov              Protein-energy malnutrition Cardiovascular diseases                 new_deaths_per_million  ...   \naged_70_older_cov           Density_km2                 Alzheimer's disease and other dementias new_cases_per_million   ...   \nDrowning                    Nutritional deficiencies    Parkinson's disease                     new_cases_per_million   ...   \nDensity_km2                 Interpersonal violence      Obesity_rate                            new_deaths_per_million  ...   \naged_70_older_cov           air_polution                Obesity_rate                            new_cases_per_million   ...   \n                            Density_km2                 Exposure to forces of nature            new_deaths_per_million  ...   \nArea_km2                    Parkinson's disease         Obesity_rate                            new_cases_per_million   ...   \nhuman_development_index_cov HIV/AIDS                    Cardiovascular diseases                 new_cases_per_million   ...   \nTuberculosis                Diarrheal diseases          Conflict and terrorism                  new_cases_per_million   ...   \nhuman_development_index_cov Chronic kidney disease      Total_death_ratio                       new_cases_per_million   ...   \naged_70_older_cov           Tuberculosis                Neonatal disorders                      new_deaths_per_million  ...   \ncardiovasc_death_rate_cov   Neonatal disorders          Alzheimer's disease and other dementias new_deaths_per_million  ...   \nhuman_development_index_cov Diabetes mellitus           Cardiovascular diseases                 new_cases_per_million   ...   \naged_70_older_cov           human_development_index_cov Chronic kidney disease                  new_cases_per_million   ...   \nCardiovascular diseases     Acute hepatitis             Alzheimer's disease and other dementias new_cases_per_million   ...   \nlife_expectancy_cov         Diabetes mellitus           Obesity_rate                            new_cases_per_million   ...   \naged_65_older_cov           air_polution                Obesity_rate                            new_cases_per_million   ...   \nhuman_development_index_cov Road injuries               Parkinson's disease                     new_cases_per_million   ...   \nstringency_index_cov        Meningitis                  Parkinson's disease                     new_cases_per_million   ...   \n\n                                                                                                                        pow. law MAPE  \\\npopulation_cov              Drug use disorders          Alzheimer's disease and other dementias new_deaths_per_million            NaN   \nmedian_age_cov              Protein-energy malnutrition Cardiovascular diseases                 new_deaths_per_million            NaN   \naged_70_older_cov           Density_km2                 Alzheimer's disease and other dementias new_cases_per_million       13.657962   \nDrowning                    Nutritional deficiencies    Parkinson's disease                     new_cases_per_million        5.892931   \nDensity_km2                 Interpersonal violence      Obesity_rate                            new_deaths_per_million            NaN   \naged_70_older_cov           air_polution                Obesity_rate                            new_cases_per_million        2.416014   \n                            Density_km2                 Exposure to forces of nature            new_deaths_per_million            NaN   \nArea_km2                    Parkinson's disease         Obesity_rate                            new_cases_per_million       10.451237   \nhuman_development_index_cov HIV/AIDS                    Cardiovascular diseases                 new_cases_per_million       11.442208   \nTuberculosis                Diarrheal diseases          Conflict and terrorism                  new_cases_per_million             NaN   \nhuman_development_index_cov Chronic kidney disease      Total_death_ratio                       new_cases_per_million       12.169815   \naged_70_older_cov           Tuberculosis                Neonatal disorders                      new_deaths_per_million            NaN   \ncardiovasc_death_rate_cov   Neonatal disorders          Alzheimer's disease and other dementias new_deaths_per_million            NaN   \nhuman_development_index_cov Diabetes mellitus           Cardiovascular diseases                 new_cases_per_million       12.157044   \naged_70_older_cov           human_development_index_cov Chronic kidney disease                  new_cases_per_million        2.046168   \nCardiovascular diseases     Acute hepatitis             Alzheimer's disease and other dementias new_cases_per_million             NaN   \nlife_expectancy_cov         Diabetes mellitus           Obesity_rate                            new_cases_per_million       33.778872   \naged_65_older_cov           air_polution                Obesity_rate                            new_cases_per_million       28.622132   \nhuman_development_index_cov Road injuries               Parkinson's disease                     new_cases_per_million       23.635050   \nstringency_index_cov        Meningitis                  Parkinson's disease                     new_cases_per_million        1.942609   \n\n                                                                                                                           mean MAPE  \\\npopulation_cov              Drug use disorders          Alzheimer's disease and other dementias new_deaths_per_million  2.337619e+01   \nmedian_age_cov              Protein-energy malnutrition Cardiovascular diseases                 new_deaths_per_million  1.195519e+17   \naged_70_older_cov           Density_km2                 Alzheimer's disease and other dementias new_cases_per_million   4.595131e+01   \nDrowning                    Nutritional deficiencies    Parkinson's disease                     new_cases_per_million   9.229186e+01   \nDensity_km2                 Interpersonal violence      Obesity_rate                            new_deaths_per_million  3.046487e+16   \naged_70_older_cov           air_polution                Obesity_rate                            new_cases_per_million   7.813365e+01   \n                            Density_km2                 Exposure to forces of nature            new_deaths_per_million  5.876650e+16   \nArea_km2                    Parkinson's disease         Obesity_rate                            new_cases_per_million   9.359441e+01   \nhuman_development_index_cov HIV/AIDS                    Cardiovascular diseases                 new_cases_per_million   7.053201e+01   \nTuberculosis                Diarrheal diseases          Conflict and terrorism                  new_cases_per_million   1.939468e+02   \nhuman_development_index_cov Chronic kidney disease      Total_death_ratio                       new_cases_per_million   5.728397e+01   \naged_70_older_cov           Tuberculosis                Neonatal disorders                      new_deaths_per_million  5.929347e+16   \ncardiovasc_death_rate_cov   Neonatal disorders          Alzheimer's disease and other dementias new_deaths_per_million  5.279002e+16   \nhuman_development_index_cov Diabetes mellitus           Cardiovascular diseases                 new_cases_per_million   1.047540e+02   \naged_70_older_cov           human_development_index_cov Chronic kidney disease                  new_cases_per_million   3.187182e+01   \nCardiovascular diseases     Acute hepatitis             Alzheimer's disease and other dementias new_cases_per_million   1.139202e+02   \nlife_expectancy_cov         Diabetes mellitus           Obesity_rate                            new_cases_per_million   1.520122e+02   \naged_65_older_cov           air_polution                Obesity_rate                            new_cases_per_million   2.029163e+02   \nhuman_development_index_cov Road injuries               Parkinson's disease                     new_cases_per_million   2.208325e+02   \nstringency_index_cov        Meningitis                  Parkinson's disease                     new_cases_per_million   4.405261e+01   \n\n                                                                                                                          kNN rae  \\\npopulation_cov              Drug use disorders          Alzheimer's disease and other dementias new_deaths_per_million  56.622370   \nmedian_age_cov              Protein-energy malnutrition Cardiovascular diseases                 new_deaths_per_million  54.601795   \naged_70_older_cov           Density_km2                 Alzheimer's disease and other dementias new_cases_per_million   54.786976   \nDrowning                    Nutritional deficiencies    Parkinson's disease                     new_cases_per_million   53.291049   \nDensity_km2                 Interpersonal violence      Obesity_rate                            new_deaths_per_million  56.472608   \naged_70_older_cov           air_polution                Obesity_rate                            new_cases_per_million   50.974676   \n                            Density_km2                 Exposure to forces of nature            new_deaths_per_million  58.520327   \nArea_km2                    Parkinson's disease         Obesity_rate                            new_cases_per_million   60.931270   \nhuman_development_index_cov HIV/AIDS                    Cardiovascular diseases                 new_cases_per_million   55.839066   \nTuberculosis                Diarrheal diseases          Conflict and terrorism                  new_cases_per_million   60.726911   \nhuman_development_index_cov Chronic kidney disease      Total_death_ratio                       new_cases_per_million   54.195237   \naged_70_older_cov           Tuberculosis                Neonatal disorders                      new_deaths_per_million  56.384908   \ncardiovasc_death_rate_cov   Neonatal disorders          Alzheimer's disease and other dementias new_deaths_per_million  55.939769   \nhuman_development_index_cov Diabetes mellitus           Cardiovascular diseases                 new_cases_per_million   56.514080   \naged_70_older_cov           human_development_index_cov Chronic kidney disease                  new_cases_per_million   61.696721   \nCardiovascular diseases     Acute hepatitis             Alzheimer's disease and other dementias new_cases_per_million   55.871809   \nlife_expectancy_cov         Diabetes mellitus           Obesity_rate                            new_cases_per_million   52.500747   \naged_65_older_cov           air_polution                Obesity_rate                            new_cases_per_million   58.523298   \nhuman_development_index_cov Road injuries               Parkinson's disease                     new_cases_per_million   57.477264   \nstringency_index_cov        Meningitis                  Parkinson's disease                     new_cases_per_million   59.425706   \n\n                                                                                                                        linear rae  \\\npopulation_cov              Drug use disorders          Alzheimer's disease and other dementias new_deaths_per_million   53.610722   \nmedian_age_cov              Protein-energy malnutrition Cardiovascular diseases                 new_deaths_per_million   55.947327   \naged_70_older_cov           Density_km2                 Alzheimer's disease and other dementias new_cases_per_million    58.780976   \nDrowning                    Nutritional deficiencies    Parkinson's disease                     new_cases_per_million    56.691112   \nDensity_km2                 Interpersonal violence      Obesity_rate                            new_deaths_per_million   62.234930   \naged_70_older_cov           air_polution                Obesity_rate                            new_cases_per_million    50.900435   \n                            Density_km2                 Exposure to forces of nature            new_deaths_per_million   53.787496   \nArea_km2                    Parkinson's disease         Obesity_rate                            new_cases_per_million    61.265100   \nhuman_development_index_cov HIV/AIDS                    Cardiovascular diseases                 new_cases_per_million    58.252908   \nTuberculosis                Diarrheal diseases          Conflict and terrorism                  new_cases_per_million    55.264250   \nhuman_development_index_cov Chronic kidney disease      Total_death_ratio                       new_cases_per_million    53.919888   \naged_70_older_cov           Tuberculosis                Neonatal disorders                      new_deaths_per_million   57.321246   \ncardiovasc_death_rate_cov   Neonatal disorders          Alzheimer's disease and other dementias new_deaths_per_million   53.323834   \nhuman_development_index_cov Diabetes mellitus           Cardiovascular diseases                 new_cases_per_million    57.825603   \naged_70_older_cov           human_development_index_cov Chronic kidney disease                  new_cases_per_million    58.151509   \nCardiovascular diseases     Acute hepatitis             Alzheimer's disease and other dementias new_cases_per_million    54.625526   \nlife_expectancy_cov         Diabetes mellitus           Obesity_rate                            new_cases_per_million    52.389672   \naged_65_older_cov           air_polution                Obesity_rate                            new_cases_per_million    58.513775   \nhuman_development_index_cov Road injuries               Parkinson's disease                     new_cases_per_million    59.680727   \nstringency_index_cov        Meningitis                  Parkinson's disease                     new_cases_per_million    61.152806   \n\n                                                                                                                        pow. law rae  \\\npopulation_cov              Drug use disorders          Alzheimer's disease and other dementias new_deaths_per_million           NaN   \nmedian_age_cov              Protein-energy malnutrition Cardiovascular diseases                 new_deaths_per_million           NaN   \naged_70_older_cov           Density_km2                 Alzheimer's disease and other dementias new_cases_per_million      48.630395   \nDrowning                    Nutritional deficiencies    Parkinson's disease                     new_cases_per_million      55.298020   \nDensity_km2                 Interpersonal violence      Obesity_rate                            new_deaths_per_million           NaN   \naged_70_older_cov           air_polution                Obesity_rate                            new_cases_per_million      49.155868   \n                            Density_km2                 Exposure to forces of nature            new_deaths_per_million           NaN   \nArea_km2                    Parkinson's disease         Obesity_rate                            new_cases_per_million      49.468393   \nhuman_development_index_cov HIV/AIDS                    Cardiovascular diseases                 new_cases_per_million      48.797742   \nTuberculosis                Diarrheal diseases          Conflict and terrorism                  new_cases_per_million            NaN   \nhuman_development_index_cov Chronic kidney disease      Total_death_ratio                       new_cases_per_million      48.988105   \naged_70_older_cov           Tuberculosis                Neonatal disorders                      new_deaths_per_million           NaN   \ncardiovasc_death_rate_cov   Neonatal disorders          Alzheimer's disease and other dementias new_deaths_per_million           NaN   \nhuman_development_index_cov Diabetes mellitus           Cardiovascular diseases                 new_cases_per_million      49.784893   \naged_70_older_cov           human_development_index_cov Chronic kidney disease                  new_cases_per_million      52.047984   \nCardiovascular diseases     Acute hepatitis             Alzheimer's disease and other dementias new_cases_per_million            NaN   \nlife_expectancy_cov         Diabetes mellitus           Obesity_rate                            new_cases_per_million      47.612938   \naged_65_older_cov           air_polution                Obesity_rate                            new_cases_per_million      51.116034   \nhuman_development_index_cov Road injuries               Parkinson's disease                     new_cases_per_million      47.640005   \nstringency_index_cov        Meningitis                  Parkinson's disease                     new_cases_per_million      49.684286   \n\n                                                                                                                         mean rae  \\\npopulation_cov              Drug use disorders          Alzheimer's disease and other dementias new_deaths_per_million  53.549600   \nmedian_age_cov              Protein-energy malnutrition Cardiovascular diseases                 new_deaths_per_million  53.441126   \naged_70_older_cov           Density_km2                 Alzheimer's disease and other dementias new_cases_per_million   47.815432   \nDrowning                    Nutritional deficiencies    Parkinson's disease                     new_cases_per_million   50.663506   \nDensity_km2                 Interpersonal violence      Obesity_rate                            new_deaths_per_million  57.061766   \naged_70_older_cov           air_polution                Obesity_rate                            new_cases_per_million   46.446203   \n                            Density_km2                 Exposure to forces of nature            new_deaths_per_million  51.429955   \nArea_km2                    Parkinson's disease         Obesity_rate                            new_cases_per_million   55.111288   \nhuman_development_index_cov HIV/AIDS                    Cardiovascular diseases                 new_cases_per_million   50.423135   \nTuberculosis                Diarrheal diseases          Conflict and terrorism                  new_cases_per_million   49.258500   \nhuman_development_index_cov Chronic kidney disease      Total_death_ratio                       new_cases_per_million   47.598913   \naged_70_older_cov           Tuberculosis                Neonatal disorders                      new_deaths_per_million  51.488701   \ncardiovasc_death_rate_cov   Neonatal disorders          Alzheimer's disease and other dementias new_deaths_per_million  46.415602   \nhuman_development_index_cov Diabetes mellitus           Cardiovascular diseases                 new_cases_per_million   52.329021   \naged_70_older_cov           human_development_index_cov Chronic kidney disease                  new_cases_per_million   47.863239   \nCardiovascular diseases     Acute hepatitis             Alzheimer's disease and other dementias new_cases_per_million   49.534896   \nlife_expectancy_cov         Diabetes mellitus           Obesity_rate                            new_cases_per_million   46.559054   \naged_65_older_cov           air_polution                Obesity_rate                            new_cases_per_million   49.350966   \nhuman_development_index_cov Road injuries               Parkinson's disease                     new_cases_per_million   54.841901   \nstringency_index_cov        Meningitis                  Parkinson's disease                     new_cases_per_million   49.506339   \n\n                                                                                                                        kNN dcor  \\\npopulation_cov              Drug use disorders          Alzheimer's disease and other dementias new_deaths_per_million  0.806695   \nmedian_age_cov              Protein-energy malnutrition Cardiovascular diseases                 new_deaths_per_million  0.825871   \naged_70_older_cov           Density_km2                 Alzheimer's disease and other dementias new_cases_per_million   0.817787   \nDrowning                    Nutritional deficiencies    Parkinson's disease                     new_cases_per_million   0.873162   \nDensity_km2                 Interpersonal violence      Obesity_rate                            new_deaths_per_million  0.828113   \naged_70_older_cov           air_polution                Obesity_rate                            new_cases_per_million   0.893992   \n                            Density_km2                 Exposure to forces of nature            new_deaths_per_million  0.810526   \nArea_km2                    Parkinson's disease         Obesity_rate                            new_cases_per_million   0.837178   \nhuman_development_index_cov HIV/AIDS                    Cardiovascular diseases                 new_cases_per_million   0.838346   \nTuberculosis                Diarrheal diseases          Conflict and terrorism                  new_cases_per_million   0.781595   \nhuman_development_index_cov Chronic kidney disease      Total_death_ratio                       new_cases_per_million   0.833460   \naged_70_older_cov           Tuberculosis                Neonatal disorders                      new_deaths_per_million  0.810513   \ncardiovasc_death_rate_cov   Neonatal disorders          Alzheimer's disease and other dementias new_deaths_per_million  0.817413   \nhuman_development_index_cov Diabetes mellitus           Cardiovascular diseases                 new_cases_per_million   0.825612   \naged_70_older_cov           human_development_index_cov Chronic kidney disease                  new_cases_per_million   0.821852   \nCardiovascular diseases     Acute hepatitis             Alzheimer's disease and other dementias new_cases_per_million   0.803981   \nlife_expectancy_cov         Diabetes mellitus           Obesity_rate                            new_cases_per_million   0.867774   \naged_65_older_cov           air_polution                Obesity_rate                            new_cases_per_million   0.835040   \nhuman_development_index_cov Road injuries               Parkinson's disease                     new_cases_per_million   0.839305   \nstringency_index_cov        Meningitis                  Parkinson's disease                     new_cases_per_million   0.827515   \n\n                                                                                                                        linear dcor  \\\npopulation_cov              Drug use disorders          Alzheimer's disease and other dementias new_deaths_per_million     0.790490   \nmedian_age_cov              Protein-energy malnutrition Cardiovascular diseases                 new_deaths_per_million     0.638983   \naged_70_older_cov           Density_km2                 Alzheimer's disease and other dementias new_cases_per_million      0.565178   \nDrowning                    Nutritional deficiencies    Parkinson's disease                     new_cases_per_million      0.812889   \nDensity_km2                 Interpersonal violence      Obesity_rate                            new_deaths_per_million     0.557270   \naged_70_older_cov           air_polution                Obesity_rate                            new_cases_per_million      0.881865   \n                            Density_km2                 Exposure to forces of nature            new_deaths_per_million     0.744202   \nArea_km2                    Parkinson's disease         Obesity_rate                            new_cases_per_million      0.806604   \nhuman_development_index_cov HIV/AIDS                    Cardiovascular diseases                 new_cases_per_million      0.793405   \nTuberculosis                Diarrheal diseases          Conflict and terrorism                  new_cases_per_million      0.661515   \nhuman_development_index_cov Chronic kidney disease      Total_death_ratio                       new_cases_per_million      0.702623   \naged_70_older_cov           Tuberculosis                Neonatal disorders                      new_deaths_per_million     0.717287   \ncardiovasc_death_rate_cov   Neonatal disorders          Alzheimer's disease and other dementias new_deaths_per_million     0.765422   \nhuman_development_index_cov Diabetes mellitus           Cardiovascular diseases                 new_cases_per_million      0.740548   \naged_70_older_cov           human_development_index_cov Chronic kidney disease                  new_cases_per_million      0.827721   \nCardiovascular diseases     Acute hepatitis             Alzheimer's disease and other dementias new_cases_per_million      0.778966   \nlife_expectancy_cov         Diabetes mellitus           Obesity_rate                            new_cases_per_million      0.799677   \naged_65_older_cov           air_polution                Obesity_rate                            new_cases_per_million      0.778047   \nhuman_development_index_cov Road injuries               Parkinson's disease                     new_cases_per_million      0.805212   \nstringency_index_cov        Meningitis                  Parkinson's disease                     new_cases_per_million      0.777261   \n\n                                                                                                                        pow. law dcor  \\\npopulation_cov              Drug use disorders          Alzheimer's disease and other dementias new_deaths_per_million            NaN   \nmedian_age_cov              Protein-energy malnutrition Cardiovascular diseases                 new_deaths_per_million            NaN   \naged_70_older_cov           Density_km2                 Alzheimer's disease and other dementias new_cases_per_million        0.738979   \nDrowning                    Nutritional deficiencies    Parkinson's disease                     new_cases_per_million        0.726934   \nDensity_km2                 Interpersonal violence      Obesity_rate                            new_deaths_per_million            NaN   \naged_70_older_cov           air_polution                Obesity_rate                            new_cases_per_million        0.750722   \n                            Density_km2                 Exposure to forces of nature            new_deaths_per_million            NaN   \nArea_km2                    Parkinson's disease         Obesity_rate                            new_cases_per_million        0.814550   \nhuman_development_index_cov HIV/AIDS                    Cardiovascular diseases                 new_cases_per_million        0.738042   \nTuberculosis                Diarrheal diseases          Conflict and terrorism                  new_cases_per_million             NaN   \nhuman_development_index_cov Chronic kidney disease      Total_death_ratio                       new_cases_per_million        0.670687   \naged_70_older_cov           Tuberculosis                Neonatal disorders                      new_deaths_per_million            NaN   \ncardiovasc_death_rate_cov   Neonatal disorders          Alzheimer's disease and other dementias new_deaths_per_million            NaN   \nhuman_development_index_cov Diabetes mellitus           Cardiovascular diseases                 new_cases_per_million        0.753793   \naged_70_older_cov           human_development_index_cov Chronic kidney disease                  new_cases_per_million        0.772052   \nCardiovascular diseases     Acute hepatitis             Alzheimer's disease and other dementias new_cases_per_million             NaN   \nlife_expectancy_cov         Diabetes mellitus           Obesity_rate                            new_cases_per_million        0.815354   \naged_65_older_cov           air_polution                Obesity_rate                            new_cases_per_million        0.773179   \nhuman_development_index_cov Road injuries               Parkinson's disease                     new_cases_per_million        0.812726   \nstringency_index_cov        Meningitis                  Parkinson's disease                     new_cases_per_million        0.705232   \n\n                                                                                                                        mean dcor  \npopulation_cov              Drug use disorders          Alzheimer's disease and other dementias new_deaths_per_million   0.000146  \nmedian_age_cov              Protein-energy malnutrition Cardiovascular diseases                 new_deaths_per_million   0.000000  \naged_70_older_cov           Density_km2                 Alzheimer's disease and other dementias new_cases_per_million    0.000110  \nDrowning                    Nutritional deficiencies    Parkinson's disease                     new_cases_per_million    0.000246  \nDensity_km2                 Interpersonal violence      Obesity_rate                            new_deaths_per_million   0.000312  \naged_70_older_cov           air_polution                Obesity_rate                            new_cases_per_million    0.000000  \n                            Density_km2                 Exposure to forces of nature            new_deaths_per_million   0.000242  \nArea_km2                    Parkinson's disease         Obesity_rate                            new_cases_per_million    0.000164  \nhuman_development_index_cov HIV/AIDS                    Cardiovascular diseases                 new_cases_per_million    0.000264  \nTuberculosis                Diarrheal diseases          Conflict and terrorism                  new_cases_per_million    0.000344  \nhuman_development_index_cov Chronic kidney disease      Total_death_ratio                       new_cases_per_million    0.000219  \naged_70_older_cov           Tuberculosis                Neonatal disorders                      new_deaths_per_million   0.000000  \ncardiovasc_death_rate_cov   Neonatal disorders          Alzheimer's disease and other dementias new_deaths_per_million   0.000000  \nhuman_development_index_cov Diabetes mellitus           Cardiovascular diseases                 new_cases_per_million    0.000180  \naged_70_older_cov           human_development_index_cov Chronic kidney disease                  new_cases_per_million    0.000168  \nCardiovascular diseases     Acute hepatitis             Alzheimer's disease and other dementias new_cases_per_million    0.000659  \nlife_expectancy_cov         Diabetes mellitus           Obesity_rate                            new_cases_per_million    0.000000  \naged_65_older_cov           air_polution                Obesity_rate                            new_cases_per_million    0.000000  \nhuman_development_index_cov Road injuries               Parkinson's disease                     new_cases_per_million    0.000000  \nstringency_index_cov        Meningitis                  Parkinson's disease                     new_cases_per_million    0.000000  \n\n[20 rows x 24 columns]",
      "text/html": "<div>\n<style scoped>\n    .dataframe tbody tr th:only-of-type {\n        vertical-align: middle;\n    }\n\n    .dataframe tbody tr th {\n        vertical-align: top;\n    }\n\n    .dataframe thead th {\n        text-align: right;\n    }\n</style>\n<table border=\"1\" class=\"dataframe\">\n  <thead>\n    <tr style=\"text-align: right;\">\n      <th></th>\n      <th></th>\n      <th></th>\n      <th></th>\n      <th>kNN r2</th>\n      <th>linear r2</th>\n      <th>pow. law r2</th>\n      <th>mean r2</th>\n      <th>kNN RMSE</th>\n      <th>linear RMSE</th>\n      <th>pow. law RMSE</th>\n      <th>mean RMSE</th>\n      <th>kNN RMSE/std</th>\n      <th>linear RMSE/std</th>\n      <th>...</th>\n      <th>pow. law MAPE</th>\n      <th>mean MAPE</th>\n      <th>kNN rae</th>\n      <th>linear rae</th>\n      <th>pow. law rae</th>\n      <th>mean rae</th>\n      <th>kNN dcor</th>\n      <th>linear dcor</th>\n      <th>pow. law dcor</th>\n      <th>mean dcor</th>\n    </tr>\n  </thead>\n  <tbody>\n    <tr>\n      <th>population_cov</th>\n      <th>Drug use disorders</th>\n      <th>Alzheimer's disease and other dementias</th>\n      <th>new_deaths_per_million</th>\n      <td>0.689137</td>\n      <td>0.541908</td>\n      <td>NaN</td>\n      <td>-0.048162</td>\n      <td>178.975734</td>\n      <td>217.263047</td>\n      <td>NaN</td>\n      <td>328.642638</td>\n      <td>0.557551</td>\n      <td>0.676825</td>\n      <td>...</td>\n      <td>NaN</td>\n      <td>2.337619e+01</td>\n      <td>56.622370</td>\n      <td>53.610722</td>\n      <td>NaN</td>\n      <td>53.549600</td>\n      <td>0.806695</td>\n      <td>0.790490</td>\n      <td>NaN</td>\n      <td>0.000146</td>\n    </tr>\n    <tr>\n      <th>median_age_cov</th>\n      <th>Protein-energy malnutrition</th>\n      <th>Cardiovascular diseases</th>\n      <th>new_deaths_per_million</th>\n      <td>0.672013</td>\n      <td>0.375964</td>\n      <td>NaN</td>\n      <td>-0.047575</td>\n      <td>196.533027</td>\n      <td>271.088949</td>\n      <td>NaN</td>\n      <td>351.236360</td>\n      <td>0.572702</td>\n      <td>0.789960</td>\n      <td>...</td>\n      <td>NaN</td>\n      <td>1.195519e+17</td>\n      <td>54.601795</td>\n      <td>55.947327</td>\n      <td>NaN</td>\n      <td>53.441126</td>\n      <td>0.825871</td>\n      <td>0.638983</td>\n      <td>NaN</td>\n      <td>0.000000</td>\n    </tr>\n    <tr>\n      <th>aged_70_older_cov</th>\n      <th>Density_km2</th>\n      <th>Alzheimer's disease and other dementias</th>\n      <th>new_cases_per_million</th>\n      <td>0.668209</td>\n      <td>-0.495268</td>\n      <td>0.286558</td>\n      <td>-0.000096</td>\n      <td>10105.350664</td>\n      <td>21452.551406</td>\n      <td>14818.311084</td>\n      <td>17544.467547</td>\n      <td>0.576013</td>\n      <td>1.222812</td>\n      <td>...</td>\n      <td>13.657962</td>\n      <td>4.595131e+01</td>\n      <td>54.786976</td>\n      <td>58.780976</td>\n      <td>48.630395</td>\n      <td>47.815432</td>\n      <td>0.817787</td>\n      <td>0.565178</td>\n      <td>0.738979</td>\n      <td>0.000110</td>\n    </tr>\n    <tr>\n      <th>Drowning</th>\n      <th>Nutritional deficiencies</th>\n      <th>Parkinson's disease</th>\n      <th>new_cases_per_million</th>\n      <td>0.666848</td>\n      <td>0.418958</td>\n      <td>-0.274473</td>\n      <td>-0.016093</td>\n      <td>10007.803128</td>\n      <td>13216.636252</td>\n      <td>19574.132768</td>\n      <td>17477.688956</td>\n      <td>0.577194</td>\n      <td>0.762261</td>\n      <td>...</td>\n      <td>5.892931</td>\n      <td>9.229186e+01</td>\n      <td>53.291049</td>\n      <td>56.691112</td>\n      <td>55.298020</td>\n      <td>50.663506</td>\n      <td>0.873162</td>\n      <td>0.812889</td>\n      <td>0.726934</td>\n      <td>0.000246</td>\n    </tr>\n    <tr>\n      <th>Density_km2</th>\n      <th>Interpersonal violence</th>\n      <th>Obesity_rate</th>\n      <th>new_deaths_per_million</th>\n      <td>0.665432</td>\n      <td>-0.030561</td>\n      <td>NaN</td>\n      <td>-0.085819</td>\n      <td>188.004332</td>\n      <td>329.960684</td>\n      <td>NaN</td>\n      <td>338.691357</td>\n      <td>0.578419</td>\n      <td>1.015165</td>\n      <td>...</td>\n      <td>NaN</td>\n      <td>3.046487e+16</td>\n      <td>56.472608</td>\n      <td>62.234930</td>\n      <td>NaN</td>\n      <td>57.061766</td>\n      <td>0.828113</td>\n      <td>0.557270</td>\n      <td>NaN</td>\n      <td>0.000312</td>\n    </tr>\n    <tr>\n      <th rowspan=\"2\" valign=\"top\">aged_70_older_cov</th>\n      <th>air_polution</th>\n      <th>Obesity_rate</th>\n      <th>new_cases_per_million</th>\n      <td>0.665119</td>\n      <td>0.633916</td>\n      <td>0.292243</td>\n      <td>-0.029579</td>\n      <td>10992.081684</td>\n      <td>11492.783020</td>\n      <td>15980.003765</td>\n      <td>19273.677522</td>\n      <td>0.578689</td>\n      <td>0.605049</td>\n      <td>...</td>\n      <td>2.416014</td>\n      <td>7.813365e+01</td>\n      <td>50.974676</td>\n      <td>50.900435</td>\n      <td>49.155868</td>\n      <td>46.446203</td>\n      <td>0.893992</td>\n      <td>0.881865</td>\n      <td>0.750722</td>\n      <td>0.000000</td>\n    </tr>\n    <tr>\n      <th>Density_km2</th>\n      <th>Exposure to forces of nature</th>\n      <th>new_deaths_per_million</th>\n      <td>0.663870</td>\n      <td>0.495892</td>\n      <td>NaN</td>\n      <td>-0.030424</td>\n      <td>189.563762</td>\n      <td>232.147183</td>\n      <td>NaN</td>\n      <td>331.901968</td>\n      <td>0.579767</td>\n      <td>0.710005</td>\n      <td>...</td>\n      <td>NaN</td>\n      <td>5.876650e+16</td>\n      <td>58.520327</td>\n      <td>53.787496</td>\n      <td>NaN</td>\n      <td>51.429955</td>\n      <td>0.810526</td>\n      <td>0.744202</td>\n      <td>NaN</td>\n      <td>0.000242</td>\n    </tr>\n    <tr>\n      <th>Area_km2</th>\n      <th>Parkinson's disease</th>\n      <th>Obesity_rate</th>\n      <th>new_cases_per_million</th>\n      <td>0.663404</td>\n      <td>0.579303</td>\n      <td>0.500918</td>\n      <td>-0.144083</td>\n      <td>7868.301264</td>\n      <td>8796.529220</td>\n      <td>9581.039197</td>\n      <td>14506.254161</td>\n      <td>0.580169</td>\n      <td>0.648612</td>\n      <td>...</td>\n      <td>10.451237</td>\n      <td>9.359441e+01</td>\n      <td>60.931270</td>\n      <td>61.265100</td>\n      <td>49.468393</td>\n      <td>55.111288</td>\n      <td>0.837178</td>\n      <td>0.806604</td>\n      <td>0.814550</td>\n      <td>0.000164</td>\n    </tr>\n    <tr>\n      <th>human_development_index_cov</th>\n      <th>HIV/AIDS</th>\n      <th>Cardiovascular diseases</th>\n      <th>new_cases_per_million</th>\n      <td>0.661946</td>\n      <td>0.558118</td>\n      <td>0.183534</td>\n      <td>-0.026050</td>\n      <td>9275.345316</td>\n      <td>10604.493104</td>\n      <td>14414.709378</td>\n      <td>16159.244532</td>\n      <td>0.581424</td>\n      <td>0.664742</td>\n      <td>...</td>\n      <td>11.442208</td>\n      <td>7.053201e+01</td>\n      <td>55.839066</td>\n      <td>58.252908</td>\n      <td>48.797742</td>\n      <td>50.423135</td>\n      <td>0.838346</td>\n      <td>0.793405</td>\n      <td>0.738042</td>\n      <td>0.000264</td>\n    </tr>\n    <tr>\n      <th>Tuberculosis</th>\n      <th>Diarrheal diseases</th>\n      <th>Conflict and terrorism</th>\n      <th>new_cases_per_million</th>\n      <td>0.661810</td>\n      <td>0.161758</td>\n      <td>NaN</td>\n      <td>-0.010929</td>\n      <td>9208.231680</td>\n      <td>14497.077599</td>\n      <td>NaN</td>\n      <td>15920.476005</td>\n      <td>0.581541</td>\n      <td>0.915555</td>\n      <td>...</td>\n      <td>NaN</td>\n      <td>1.939468e+02</td>\n      <td>60.726911</td>\n      <td>55.264250</td>\n      <td>NaN</td>\n      <td>49.258500</td>\n      <td>0.781595</td>\n      <td>0.661515</td>\n      <td>NaN</td>\n      <td>0.000344</td>\n    </tr>\n    <tr>\n      <th>human_development_index_cov</th>\n      <th>Chronic kidney disease</th>\n      <th>Total_death_ratio</th>\n      <th>new_cases_per_million</th>\n      <td>0.661595</td>\n      <td>0.471170</td>\n      <td>0.269345</td>\n      <td>-0.000887</td>\n      <td>10555.774307</td>\n      <td>13195.607852</td>\n      <td>15510.559429</td>\n      <td>18153.647043</td>\n      <td>0.581726</td>\n      <td>0.727207</td>\n      <td>...</td>\n      <td>12.169815</td>\n      <td>5.728397e+01</td>\n      <td>54.195237</td>\n      <td>53.919888</td>\n      <td>48.988105</td>\n      <td>47.598913</td>\n      <td>0.833460</td>\n      <td>0.702623</td>\n      <td>0.670687</td>\n      <td>0.000219</td>\n    </tr>\n    <tr>\n      <th>aged_70_older_cov</th>\n      <th>Tuberculosis</th>\n      <th>Neonatal disorders</th>\n      <th>new_deaths_per_million</th>\n      <td>0.659312</td>\n      <td>0.433510</td>\n      <td>NaN</td>\n      <td>-0.042041</td>\n      <td>188.831569</td>\n      <td>243.496301</td>\n      <td>NaN</td>\n      <td>330.246717</td>\n      <td>0.583685</td>\n      <td>0.752655</td>\n      <td>...</td>\n      <td>NaN</td>\n      <td>5.929347e+16</td>\n      <td>56.384908</td>\n      <td>57.321246</td>\n      <td>NaN</td>\n      <td>51.488701</td>\n      <td>0.810513</td>\n      <td>0.717287</td>\n      <td>NaN</td>\n      <td>0.000000</td>\n    </tr>\n    <tr>\n      <th>cardiovasc_death_rate_cov</th>\n      <th>Neonatal disorders</th>\n      <th>Alzheimer's disease and other dementias</th>\n      <th>new_deaths_per_million</th>\n      <td>0.659094</td>\n      <td>0.526543</td>\n      <td>NaN</td>\n      <td>-0.019338</td>\n      <td>203.505205</td>\n      <td>239.827499</td>\n      <td>NaN</td>\n      <td>351.898645</td>\n      <td>0.583871</td>\n      <td>0.688082</td>\n      <td>...</td>\n      <td>NaN</td>\n      <td>5.279002e+16</td>\n      <td>55.939769</td>\n      <td>53.323834</td>\n      <td>NaN</td>\n      <td>46.415602</td>\n      <td>0.817413</td>\n      <td>0.765422</td>\n      <td>NaN</td>\n      <td>0.000000</td>\n    </tr>\n    <tr>\n      <th>human_development_index_cov</th>\n      <th>Diabetes mellitus</th>\n      <th>Cardiovascular diseases</th>\n      <th>new_cases_per_million</th>\n      <td>0.658161</td>\n      <td>0.502117</td>\n      <td>0.345968</td>\n      <td>-0.051349</td>\n      <td>9089.980395</td>\n      <td>10970.240103</td>\n      <td>12573.376243</td>\n      <td>15941.371001</td>\n      <td>0.584670</td>\n      <td>0.705609</td>\n      <td>...</td>\n      <td>12.157044</td>\n      <td>1.047540e+02</td>\n      <td>56.514080</td>\n      <td>57.825603</td>\n      <td>49.784893</td>\n      <td>52.329021</td>\n      <td>0.825612</td>\n      <td>0.740548</td>\n      <td>0.753793</td>\n      <td>0.000180</td>\n    </tr>\n    <tr>\n      <th>aged_70_older_cov</th>\n      <th>human_development_index_cov</th>\n      <th>Chronic kidney disease</th>\n      <th>new_cases_per_million</th>\n      <td>0.656365</td>\n      <td>0.662126</td>\n      <td>0.254768</td>\n      <td>-0.000117</td>\n      <td>9156.580458</td>\n      <td>9079.501890</td>\n      <td>13484.360406</td>\n      <td>15621.034856</td>\n      <td>0.586204</td>\n      <td>0.581270</td>\n      <td>...</td>\n      <td>2.046168</td>\n      <td>3.187182e+01</td>\n      <td>61.696721</td>\n      <td>58.151509</td>\n      <td>52.047984</td>\n      <td>47.863239</td>\n      <td>0.821852</td>\n      <td>0.827721</td>\n      <td>0.772052</td>\n      <td>0.000168</td>\n    </tr>\n    <tr>\n      <th>Cardiovascular diseases</th>\n      <th>Acute hepatitis</th>\n      <th>Alzheimer's disease and other dementias</th>\n      <th>new_cases_per_million</th>\n      <td>0.656235</td>\n      <td>0.534368</td>\n      <td>NaN</td>\n      <td>-0.012796</td>\n      <td>9876.797231</td>\n      <td>11494.950439</td>\n      <td>NaN</td>\n      <td>16953.004525</td>\n      <td>0.586314</td>\n      <td>0.682372</td>\n      <td>...</td>\n      <td>NaN</td>\n      <td>1.139202e+02</td>\n      <td>55.871809</td>\n      <td>54.625526</td>\n      <td>NaN</td>\n      <td>49.534896</td>\n      <td>0.803981</td>\n      <td>0.778966</td>\n      <td>NaN</td>\n      <td>0.000659</td>\n    </tr>\n    <tr>\n      <th>life_expectancy_cov</th>\n      <th>Diabetes mellitus</th>\n      <th>Obesity_rate</th>\n      <th>new_cases_per_million</th>\n      <td>0.656223</td>\n      <td>0.491978</td>\n      <td>0.175777</td>\n      <td>-0.010365</td>\n      <td>11034.203515</td>\n      <td>13413.566363</td>\n      <td>17085.402237</td>\n      <td>18916.551147</td>\n      <td>0.586325</td>\n      <td>0.712757</td>\n      <td>...</td>\n      <td>33.778872</td>\n      <td>1.520122e+02</td>\n      <td>52.500747</td>\n      <td>52.389672</td>\n      <td>47.612938</td>\n      <td>46.559054</td>\n      <td>0.867774</td>\n      <td>0.799677</td>\n      <td>0.815354</td>\n      <td>0.000000</td>\n    </tr>\n    <tr>\n      <th>aged_65_older_cov</th>\n      <th>air_polution</th>\n      <th>Obesity_rate</th>\n      <th>new_cases_per_million</th>\n      <td>0.655952</td>\n      <td>0.539589</td>\n      <td>0.395673</td>\n      <td>-0.007918</td>\n      <td>9884.855195</td>\n      <td>11434.939983</td>\n      <td>13100.772013</td>\n      <td>16918.956949</td>\n      <td>0.586556</td>\n      <td>0.678536</td>\n      <td>...</td>\n      <td>28.622132</td>\n      <td>2.029163e+02</td>\n      <td>58.523298</td>\n      <td>58.513775</td>\n      <td>51.116034</td>\n      <td>49.350966</td>\n      <td>0.835040</td>\n      <td>0.778047</td>\n      <td>0.773179</td>\n      <td>0.000000</td>\n    </tr>\n    <tr>\n      <th>human_development_index_cov</th>\n      <th>Road injuries</th>\n      <th>Parkinson's disease</th>\n      <th>new_cases_per_million</th>\n      <td>0.655589</td>\n      <td>0.585529</td>\n      <td>0.456443</td>\n      <td>-0.117206</td>\n      <td>8755.592570</td>\n      <td>9604.930500</td>\n      <td>10999.423940</td>\n      <td>15769.351662</td>\n      <td>0.586865</td>\n      <td>0.643794</td>\n      <td>...</td>\n      <td>23.635050</td>\n      <td>2.208325e+02</td>\n      <td>57.477264</td>\n      <td>59.680727</td>\n      <td>47.640005</td>\n      <td>54.841901</td>\n      <td>0.839305</td>\n      <td>0.805212</td>\n      <td>0.812726</td>\n      <td>0.000000</td>\n    </tr>\n    <tr>\n      <th>stringency_index_cov</th>\n      <th>Meningitis</th>\n      <th>Parkinson's disease</th>\n      <th>new_cases_per_million</th>\n      <td>0.654273</td>\n      <td>0.500234</td>\n      <td>0.185068</td>\n      <td>-0.007660</td>\n      <td>9205.958988</td>\n      <td>11068.430213</td>\n      <td>14133.945016</td>\n      <td>15716.638999</td>\n      <td>0.587985</td>\n      <td>0.706941</td>\n      <td>...</td>\n      <td>1.942609</td>\n      <td>4.405261e+01</td>\n      <td>59.425706</td>\n      <td>61.152806</td>\n      <td>49.684286</td>\n      <td>49.506339</td>\n      <td>0.827515</td>\n      <td>0.777261</td>\n      <td>0.705232</td>\n      <td>0.000000</td>\n    </tr>\n  </tbody>\n</table>\n<p>20 rows × 24 columns</p>\n</div>"
     },
     "execution_count": 19,
     "metadata": {},
     "output_type": "execute_result"
    }
   ],
   "source": [
    "metrics_df.head(20)"
   ],
   "metadata": {
    "collapsed": false,
    "pycharm": {
     "name": "#%%\n"
    }
   }
  },
  {
   "cell_type": "code",
   "execution_count": 14,
   "outputs": [
    {
     "name": "stdout",
     "output_type": "stream",
     "text": [
      "n_neighbors:\n",
      "\t8 frequency: 10927\n",
      "\t3 frequency: 2360\n",
      "\t15 frequency: 21305\n",
      "w/ & w/0 scaling:\n",
      "\t with scaling frequency: 26612 \t \t \t k-value: \t 3: 1807 \t 8: 8556 \t 15: 16249\n",
      "\t without scaling frequency: 7980 \t \t k-value: \t 3: 553 \t 8: 2371 \t 15: 5056\n"
     ]
    }
   ],
   "source": [
    "chosen_neighbors = []\n",
    "w_scaling = 0\n",
    "w3 = 0\n",
    "w8 = 0\n",
    "w15 = 0\n",
    "wo_scaling = 0\n",
    "wo3 = 0\n",
    "wo8 = 0\n",
    "wo15 = 0\n",
    "for key in sorted(list(datas_dict.keys())):\n",
    "    curr_k = datas_dict[key][\"GridSearchParams\"][\"knn__n_neighbors\"]\n",
    "    chosen_neighbors.append(curr_k)\n",
    "    if \"scaler\" in datas_dict[key][\"GridSearchParams\"].keys():\n",
    "        wo_scaling += 1\n",
    "        if curr_k == 3:\n",
    "            wo3 += 1\n",
    "        elif curr_k == 8:\n",
    "            wo8 += 1\n",
    "        elif curr_k == 15:\n",
    "            wo15 += 1\n",
    "        else:\n",
    "            print(\"k value not possible\")\n",
    "    else:\n",
    "        w_scaling += 1\n",
    "        if curr_k == 3:\n",
    "            w3 += 1\n",
    "        elif curr_k == 8:\n",
    "            w8 += 1\n",
    "        elif curr_k == 15:\n",
    "            w15 += 1\n",
    "        else:\n",
    "            print(\"k value not possible\")\n",
    "print(\"n_neighbors:\")\n",
    "for neighbor in set(chosen_neighbors):\n",
    "    print(\"\\t\"+str(neighbor)+\" frequency: \"+str(chosen_neighbors.count(neighbor)))\n",
    "print(\"w/ & w/0 scaling:\")\n",
    "print(f\"\\t with scaling frequency: {w_scaling} \\t \\t \\t k-value: \\t 3: {w3} \\t 8: {w8} \\t 15: {w15}\")\n",
    "print(f\"\\t without scaling frequency: {wo_scaling} \\t \\t k-value: \\t 3: {wo3} \\t 8: {wo8} \\t 15: {wo15}\")"
   ],
   "metadata": {
    "collapsed": false,
    "pycharm": {
     "name": "#%%\n"
    }
   }
  },
  {
   "cell_type": "markdown",
   "source": [
    "## Refine predictability"
   ],
   "metadata": {
    "collapsed": false,
    "pycharm": {
     "name": "#%% md\n"
    }
   }
  },
  {
   "cell_type": "code",
   "execution_count": 4,
   "outputs": [],
   "source": [
    "from bin.main import tuple_selection"
   ],
   "metadata": {
    "collapsed": false,
    "pycharm": {
     "name": "#%%\n"
    }
   }
  },
  {
   "cell_type": "code",
   "execution_count": 5,
   "outputs": [],
   "source": [
    "selected_tuples = tuple_selection(metrics_dict,\n",
    "                                  n_best=1\n",
    "                                  )"
   ],
   "metadata": {
    "collapsed": false,
    "pycharm": {
     "name": "#%%\n"
    }
   }
  },
  {
   "cell_type": "code",
   "execution_count": 6,
   "outputs": [
    {
     "data": {
      "text/plain": "[('population_cov',\n  'Drug use disorders',\n  \"Alzheimer's disease and other dementias\",\n  'new_deaths_per_million')]"
     },
     "execution_count": 6,
     "metadata": {},
     "output_type": "execute_result"
    }
   ],
   "source": [
    "selected_tuples"
   ],
   "metadata": {
    "collapsed": false,
    "pycharm": {
     "name": "#%%\n"
    }
   }
  },
  {
   "cell_type": "code",
   "execution_count": 7,
   "outputs": [],
   "source": [
    "from bin.main import refine_predictability"
   ],
   "metadata": {
    "collapsed": false,
    "pycharm": {
     "name": "#%%\n"
    }
   }
  },
  {
   "cell_type": "code",
   "execution_count": 8,
   "outputs": [
    {
     "name": "stderr",
     "output_type": "stream",
     "text": [
      "/home/dw/Projekte/IPP/asd/venv/lib/python3.9/site-packages/sklearn/metrics/_regression.py:691: RuntimeWarning: overflow encountered in square\n",
      "  numerator = (weight * (y_true - y_pred) ** 2).sum(axis=0,\n"
     ]
    },
    {
     "name": "stdout",
     "output_type": "stream",
     "text": [
      "Train R2 score: 0.38045179307280275\n",
      "Test R2 score: 0.5351748137422188\n"
     ]
    }
   ],
   "source": [
    "\n",
    "refined_metrics_dict, refined_datas_dict = refine_predictability(best_tuples=selected_tuples, data_dict=datas_dict, time_left_for_this_task=120,\n",
    "                          per_run_time_limit=12, n_jobs=-1)\n"
   ],
   "metadata": {
    "collapsed": false,
    "pycharm": {
     "name": "#%%\n"
    }
   }
  },
  {
   "cell_type": "code",
   "execution_count": 17,
   "outputs": [],
   "source": [
    "#ray.shutdown()"
   ],
   "metadata": {
    "collapsed": false,
    "pycharm": {
     "name": "#%%\n"
    }
   }
  },
  {
   "cell_type": "code",
   "execution_count": 12,
   "outputs": [],
   "source": [
    "'''\n",
    "with open('refined_metrics_covid_2020_52cols.pickle', 'wb') as file:\n",
    "    pickle.dump(refined_metrics_dict, file)\n",
    "\n",
    "with open('refined_datas_covid_2020_52cols.pickle', 'wb') as file:\n",
    "    pickle.dump(refined_datas_dict, file)\n",
    "'''"
   ],
   "metadata": {
    "collapsed": false,
    "pycharm": {
     "name": "#%%\n"
    }
   }
  },
  {
   "cell_type": "code",
   "execution_count": 3,
   "outputs": [],
   "source": [
    "\n",
    "with open('refined_metrics_covid_2020_52cols.pickle', 'rb') as file:\n",
    "    refined_metrics_dict = pickle.load(file)\n",
    "with open('refined_datas_covid_2020_52cols.pickle', 'rb') as file:\n",
    "    refined_datas_dict = pickle.load(file)\n"
   ],
   "metadata": {
    "collapsed": false,
    "pycharm": {
     "name": "#%%\n"
    }
   }
  },
  {
   "cell_type": "code",
   "execution_count": 10,
   "outputs": [
    {
     "data": {
      "text/plain": "{('population_cov',\n  'Drug use disorders',\n  \"Alzheimer's disease and other dementias\",\n  'new_deaths_per_million'): {'r2': 0.39482973627931506,\n  'RMSE': 249.71718866572706,\n  'MAPE': 9.035036618689881,\n  'rae': 0.6746412514156341,\n  'dcor': 0.6705729222185988}}"
     },
     "execution_count": 10,
     "metadata": {},
     "output_type": "execute_result"
    }
   ],
   "source": [
    "refined_metrics_dict"
   ],
   "metadata": {
    "collapsed": false,
    "pycharm": {
     "name": "#%%\n"
    }
   }
  },
  {
   "cell_type": "code",
   "execution_count": 9,
   "outputs": [
    {
     "name": "stdout",
     "output_type": "stream",
     "text": [
      "('population_cov', 'Drug use disorders', \"Alzheimer's disease and other dementias\", 'new_deaths_per_million'): \n",
      " \t \t RMSE: 178.97573362299784\t RMSE refined: 218.85399212201966 \n",
      " \t \t r2: 0.6891370181389966\t r2 refined: 0.5351748137422188\n"
     ]
    }
   ],
   "source": [
    "for key in list(refined_metrics_dict.keys()):\n",
    "    print(f'{key}: \\n \\t \\t RMSE: {metrics_dict[key][\"kNN RMSE\"]}\\t RMSE refined: {refined_metrics_dict[key][\"RMSE\"]} \\n \\t \\t r2: {metrics_dict[key][\"kNN r2\"]}\\t r2 refined: {refined_metrics_dict[key][\"r2\"]}')"
   ],
   "metadata": {
    "collapsed": false,
    "pycharm": {
     "name": "#%%\n"
    }
   }
  },
  {
   "cell_type": "markdown",
   "source": [
    "#### running best 2 again through refined predictability with RMSE metric, time_left_for_this_task = 120 and per_run_time_limit = 30:\n",
    "\n",
    "##### `('population_cov', 'Drug use disorders', \"Alzheimer's disease and other dementias\", 'new_deaths_per_million')`:\n",
    "\n",
    "| `metric` | `initial` | `refined` |\n",
    "| :-: | :-: | :-: |\n",
    "| `RMSE` | `178.98` | `248.40` |\n",
    "| `r2` | `0.689` | `0.401` |\n",
    "\n",
    "##### `('median_age_cov', 'Protein-energy malnutrition', 'Cardiovascular diseases', 'new_deaths_per_million')`:\n",
    "\n",
    "| `metric` | `initial` | `refined` |\n",
    "| :-: | :-: | :-: |\n",
    "| `RMSE` | `196.53` | `243.61` |\n",
    "| `r2` | `0.672` | `0.496` |\n",
    "\n",
    "#### running best 1 again through refined predictability with RMSE metric, time_left_for_this_task = 600 and per_run_time_limit = 60:\n",
    "\n",
    "##### `('population_cov', 'Drug use disorders', \"Alzheimer's disease and other dementias\", 'new_deaths_per_million')`:\n",
    "\n",
    "| `metric` | `initial` | `refined` |\n",
    "| :-: | :-: | :-: |\n",
    "| `RMSE` | `178.98` | `247.33` |\n",
    "| `r2` | `0.689` | `0.406` |"
   ],
   "metadata": {
    "collapsed": false,
    "pycharm": {
     "name": "#%% md\n"
    }
   }
  },
  {
   "cell_type": "code",
   "execution_count": 10,
   "outputs": [
    {
     "name": "stdout",
     "output_type": "stream",
     "text": [
      "          rank  ensemble_weight               type      cost  duration\n",
      "model_id                                                              \n",
      "20           1             0.54                sgd  0.750757  1.798342\n",
      "50           2             0.10                sgd  0.807171  1.037395\n",
      "65           3             0.08      random_forest  0.877134  2.503730\n",
      "54           4             0.14      decision_tree  0.901060  1.029109\n",
      "29           5             0.02         libsvm_svr  0.969469  1.102085\n",
      "11           6             0.12  gradient_boosting  1.024522  2.958911\n"
     ]
    }
   ],
   "source": [
    "for key in list(refined_datas_dict.keys()):\n",
    "    print(refined_datas_dict[key][\"ensemble\"])\n",
    "    #print(refined_datas_dict[key][\"ensemble_models\"])"
   ],
   "metadata": {
    "collapsed": false,
    "pycharm": {
     "name": "#%%\n"
    }
   }
  },
  {
   "cell_type": "code",
   "execution_count": null,
   "outputs": [],
   "source": [],
   "metadata": {
    "collapsed": false,
    "pycharm": {
     "name": "#%%\n"
    }
   }
  },
  {
   "cell_type": "code",
   "execution_count": null,
   "outputs": [],
   "source": [],
   "metadata": {
    "collapsed": false,
    "pycharm": {
     "name": "#%%\n"
    }
   }
  },
  {
   "cell_type": "markdown",
   "source": [
    "# Evaluate performance of GridSearch configurations"
   ],
   "metadata": {
    "collapsed": false,
    "pycharm": {
     "name": "#%% md\n"
    }
   }
  },
  {
   "cell_type": "code",
   "execution_count": 11,
   "outputs": [],
   "source": [
    "all_scores = {}\n",
    "for key in list(datas_dict.keys()):\n",
    "    curr_tuple_all_scores = pd.DataFrame.from_dict(datas_dict[key][\"scores\"])[[\"param_knn__n_neighbors\", \"param_scaler\", \"mean_test_score\",        \"std_test_score\", \"mean_train_score\", \"std_train_score\"]].sort_values(by=\"mean_test_score\", ascending=False).reset_index(drop=True)\n",
    "    curr_tuple_all_scores[\"percent_worse_than_best\"] = (1-(curr_tuple_all_scores.loc[0, \"mean_test_score\"] / curr_tuple_all_scores.loc[0:, \"mean_test_score\"]))*100\n",
    "    all_scores[key] = curr_tuple_all_scores"
   ],
   "metadata": {
    "collapsed": false,
    "pycharm": {
     "name": "#%%\n"
    }
   }
  },
  {
   "cell_type": "code",
   "execution_count": 29,
   "outputs": [
    {
     "data": {
      "text/plain": "  param_knn__n_neighbors param_scaler  mean_test_score  std_test_score  \\\n0                      8          NaN    -18554.384364     1978.337935   \n1                      8  passthrough    -18646.625315     1810.306212   \n2                     15          NaN    -18818.524746     1665.139713   \n3                      3          NaN    -19415.019339     1162.344417   \n4                     15  passthrough    -19434.520658     1331.769172   \n5                      3  passthrough    -21094.119611     2080.082128   \n\n   mean_train_score  std_train_score  percent_worse_than_best  \n0     -15575.073535      1026.865789                 0.000000  \n1     -15955.547648       899.886522                 0.494679  \n2     -16530.761800      1573.972688                 1.403619  \n3     -13959.921735       857.331426                 4.432831  \n4     -16895.525809       942.370402                 4.528727  \n5     -13512.746097       617.201795                12.040015  ",
      "text/html": "<div>\n<style scoped>\n    .dataframe tbody tr th:only-of-type {\n        vertical-align: middle;\n    }\n\n    .dataframe tbody tr th {\n        vertical-align: top;\n    }\n\n    .dataframe thead th {\n        text-align: right;\n    }\n</style>\n<table border=\"1\" class=\"dataframe\">\n  <thead>\n    <tr style=\"text-align: right;\">\n      <th></th>\n      <th>param_knn__n_neighbors</th>\n      <th>param_scaler</th>\n      <th>mean_test_score</th>\n      <th>std_test_score</th>\n      <th>mean_train_score</th>\n      <th>std_train_score</th>\n      <th>percent_worse_than_best</th>\n    </tr>\n  </thead>\n  <tbody>\n    <tr>\n      <th>0</th>\n      <td>8</td>\n      <td>NaN</td>\n      <td>-18554.384364</td>\n      <td>1978.337935</td>\n      <td>-15575.073535</td>\n      <td>1026.865789</td>\n      <td>0.000000</td>\n    </tr>\n    <tr>\n      <th>1</th>\n      <td>8</td>\n      <td>passthrough</td>\n      <td>-18646.625315</td>\n      <td>1810.306212</td>\n      <td>-15955.547648</td>\n      <td>899.886522</td>\n      <td>0.494679</td>\n    </tr>\n    <tr>\n      <th>2</th>\n      <td>15</td>\n      <td>NaN</td>\n      <td>-18818.524746</td>\n      <td>1665.139713</td>\n      <td>-16530.761800</td>\n      <td>1573.972688</td>\n      <td>1.403619</td>\n    </tr>\n    <tr>\n      <th>3</th>\n      <td>3</td>\n      <td>NaN</td>\n      <td>-19415.019339</td>\n      <td>1162.344417</td>\n      <td>-13959.921735</td>\n      <td>857.331426</td>\n      <td>4.432831</td>\n    </tr>\n    <tr>\n      <th>4</th>\n      <td>15</td>\n      <td>passthrough</td>\n      <td>-19434.520658</td>\n      <td>1331.769172</td>\n      <td>-16895.525809</td>\n      <td>942.370402</td>\n      <td>4.528727</td>\n    </tr>\n    <tr>\n      <th>5</th>\n      <td>3</td>\n      <td>passthrough</td>\n      <td>-21094.119611</td>\n      <td>2080.082128</td>\n      <td>-13512.746097</td>\n      <td>617.201795</td>\n      <td>12.040015</td>\n    </tr>\n  </tbody>\n</table>\n</div>"
     },
     "execution_count": 29,
     "metadata": {},
     "output_type": "execute_result"
    }
   ],
   "source": [
    "all_scores[list(all_scores.keys())[0]]#.loc[0, \"param_knn__n_neighbors\"]"
   ],
   "metadata": {
    "collapsed": false,
    "pycharm": {
     "name": "#%%\n"
    }
   }
  },
  {
   "cell_type": "code",
   "execution_count": 147,
   "outputs": [],
   "source": [
    "best_score = []\n",
    "second_best = []\n",
    "third_best = []\n",
    "fourth_best = []\n",
    "fifth_best = []\n",
    "sixth_best = []\n",
    "best_score_choice = []\n",
    "second_best_choice = []\n",
    "third_best_choice = []\n",
    "fourth_best_choice = []\n",
    "fifth_best_choice = []\n",
    "sixth_best_choice = []\n",
    "for key in list(all_scores.keys()):\n",
    "    if all_scores[key].loc[0, \"param_knn__n_neighbors\"] == 15:# and key[-1]==\"new_deaths_per_million\":\n",
    "        best_score.append(all_scores[key].loc[0, \"mean_test_score\"])\n",
    "        second_best.append(all_scores[key].loc[1, \"percent_worse_than_best\"])\n",
    "        second_best_choice.append(all_scores[key].loc[1, \"param_knn__n_neighbors\"])\n",
    "        third_best.append(all_scores[key].loc[2, \"percent_worse_than_best\"])\n",
    "        third_best_choice.append(all_scores[key].loc[2, \"param_knn__n_neighbors\"])\n",
    "        fourth_best.append(all_scores[key].loc[3, \"percent_worse_than_best\"])\n",
    "        fourth_best_choice.append(all_scores[key].loc[3, \"param_knn__n_neighbors\"])\n",
    "        fifth_best.append(all_scores[key].loc[4, \"percent_worse_than_best\"])\n",
    "        fifth_best_choice.append(all_scores[key].loc[4, \"param_knn__n_neighbors\"])\n",
    "        sixth_best.append(all_scores[key].loc[5, \"percent_worse_than_best\"])\n",
    "        sixth_best_choice.append(all_scores[key].loc[5, \"param_knn__n_neighbors\"])"
   ],
   "metadata": {
    "collapsed": false,
    "pycharm": {
     "name": "#%%\n"
    }
   }
  },
  {
   "cell_type": "code",
   "execution_count": 87,
   "outputs": [],
   "source": [
    "import matplotlib.pyplot as plt\n",
    "import numpy as np"
   ],
   "metadata": {
    "collapsed": false,
    "pycharm": {
     "name": "#%%\n"
    }
   }
  },
  {
   "cell_type": "code",
   "execution_count": 148,
   "outputs": [
    {
     "data": {
      "text/plain": "<Figure size 640x480 with 1 Axes>",
      "image/png": "[encoded data removed]"
     },
     "metadata": {},
     "output_type": "display_data"
    }
   ],
   "source": [
    "plt.hist(second_best, bins=np.linspace(0,40), alpha=.5, label=\"second\")\n",
    "plt.hist(third_best, bins=np.linspace(0,40), alpha=.5, label=\"third\")\n",
    "plt.hist(fourth_best, bins=np.linspace(0,40), alpha=.5, label=\"fourth\")\n",
    "plt.hist(fifth_best, bins=np.linspace(0,40), alpha=.5, label=\"fifth\")\n",
    "plt.hist(sixth_best, bins=np.linspace(0,40), alpha=.5, label=\"sixth\")\n",
    "plt.legend()\n",
    "plt.show()"
   ],
   "metadata": {
    "collapsed": false,
    "pycharm": {
     "name": "#%%\n"
    }
   }
  },
  {
   "cell_type": "code",
   "execution_count": 150,
   "outputs": [
    {
     "data": {
      "text/plain": "<Figure size 640x480 with 1 Axes>",
      "image/png": "[encoded data removed]"
     },
     "metadata": {},
     "output_type": "display_data"
    }
   ],
   "source": [
    "plt.hist([second_best_choice, third_best_choice, fourth_best_choice, fifth_best_choice, sixth_best_choice], bins=6, label=[\"second\", \"third\", \"fourth\", \"fifth\", \"sixth\"], rwidth=1)\n",
    "#plt.hist(third_best_choice, bins=np.linspace(0,40), histtype=\"barstacked\", label=\"third\")\n",
    "#plt.hist(fourth_best_choice, bins=np.linspace(0,40), alpha=.5)\n",
    "#plt.hist(fifth_best_choice, bins=np.linspace(0,40), alpha=.5)\n",
    "#plt.hist(sixth_best_choice, bins=np.linspace(0,40), alpha=.5)\n",
    "plt.legend()\n",
    "plt.show()"
   ],
   "metadata": {
    "collapsed": false,
    "pycharm": {
     "name": "#%%\n"
    }
   }
  },
  {
   "cell_type": "code",
   "execution_count": 151,
   "outputs": [
    {
     "data": {
      "text/plain": "<Figure size 640x480 with 1 Axes>",
      "image/png": "[encoded data removed]"
     },
     "metadata": {},
     "output_type": "display_data"
    }
   ],
   "source": [
    "plt.hist([second_best, third_best, fourth_best, fifth_best, sixth_best], bins=np.linspace(0,40), label=[\"second\", \"third\", \"fourth\", \"fifth\", \"sixth\"], rwidth=1)\n",
    "#plt.hist(third_best_choice, bins=np.linspace(0,40), histtype=\"barstacked\", label=\"third\")\n",
    "#plt.hist(fourth_best_choice, bins=np.linspace(0,40), alpha=.5)\n",
    "#plt.hist(fifth_best_choice, bins=np.linspace(0,40), alpha=.5)\n",
    "#plt.hist(sixth_best_choice, bins=np.linspace(0,40), alpha=.5)\n",
    "plt.legend()\n",
    "plt.show()"
   ],
   "metadata": {
    "collapsed": false,
    "pycharm": {
     "name": "#%%\n"
    }
   }
  },
  {
   "cell_type": "code",
   "execution_count": null,
   "outputs": [],
   "source": [],
   "metadata": {
    "collapsed": false,
    "pycharm": {
     "name": "#%%\n"
    }
   }
  },
  {
   "cell_type": "code",
   "execution_count": null,
   "outputs": [],
   "source": [],
   "metadata": {
    "collapsed": false,
    "pycharm": {
     "name": "#%%\n"
    }
   }
  },
  {
   "cell_type": "markdown",
   "source": [
    "# Plotting"
   ],
   "metadata": {
    "collapsed": false,
    "pycharm": {
     "name": "#%% md\n"
    }
   }
  },
  {
   "cell_type": "code",
   "execution_count": 13,
   "outputs": [],
   "source": [
    "from src.ASD_predictability_utils.utils import plot_result"
   ],
   "metadata": {
    "collapsed": false,
    "pycharm": {
     "name": "#%%\n"
    }
   }
  },
  {
   "cell_type": "code",
   "execution_count": 16,
   "outputs": [],
   "source": [
    "\n",
    "for key in list(refined_datas_dict.keys()):\n",
    "    refined_datas_dict[key][\"y_test_pred_init\"] = datas_dict[key][\"y_test_pred\"]\n",
    "    refined_datas_dict[key][\"y_test_init\"] = datas_dict[key][\"y_test\"]\n",
    "    refined_datas_dict[key][\"y_test_pred_linear\"] = datas_dict[key][\"y_test_pred_linear\"]\n",
    "    #refined_datas_dict[key][\"y_test_init\"] = datas_dict[key][\"y_test\"]\n"
   ],
   "metadata": {
    "collapsed": false,
    "pycharm": {
     "name": "#%%\n"
    }
   }
  },
  {
   "cell_type": "code",
   "execution_count": 21,
   "outputs": [
    {
     "data": {
      "application/vnd.plotly.v1+json": {
       "data": [
        {
         "mode": "markers",
         "name": "init preds vs trues",
         "opacity": 0.8,
         "x": [
          357.88299999999964,
          18.067999999999994,
          903.3360000000008,
          24.052999999999997,
          172.816,
          6.091000000000008,
          201.34400000000036,
          144.72999999999996,
          45.183000000000014,
          311.153,
          30.37,
          1297.424,
          6.795,
          0.8330000000000001,
          649.4630000000001,
          3.971000000000003,
          6.920000000000002,
          72.658,
          424.34199999999976,
          106.94100000000002,
          1087.5309999999993,
          411.0430000000001,
          61.76199999999991,
          207.51099999999997,
          17.81299999999999,
          6.140000000000006,
          215.75400000000013,
          286.9659999999998,
          32.68599999999999,
          667.246,
          1098.52,
          204.42500000000015,
          17.513999999999996,
          9.342,
          448.9320000000003,
          428.2949999999999,
          2.216,
          176.08599999999993,
          3.5330000000000013,
          216.86000000000004,
          54.93800000000002,
          9.173000000000007,
          385.64200000000034,
          45.409999999999954,
          741.8440000000006,
          201.11900000000003,
          10.572000000000008,
          11.898999999999988
         ],
         "y": [
          413.3338666666668,
          9.1988,
          698.7768000000001,
          46.10646666666666,
          418.81919999999997,
          195.75713333333337,
          27.137333333333327,
          199.4689333333333,
          192.54813333333334,
          128.7497333333333,
          43.53379999999999,
          779.1206666666668,
          25.053933333333326,
          71.94673333333331,
          259.227,
          34.11846666666667,
          40.99660000000001,
          62.16480000000001,
          637.3111333333334,
          191.51500000000001,
          779.1206666666668,
          383.25640000000004,
          207.9082,
          148.6879333333333,
          498.2261333333335,
          13.043000000000003,
          145.7215333333333,
          29.38559999999998,
          81.92446666666666,
          662.9235333333334,
          683.4130000000001,
          218.02579999999995,
          51.42573333333333,
          39.6326,
          346.2940666666666,
          226.2156,
          61.074066666666674,
          9.237666666666668,
          40.99660000000001,
          411.92100000000005,
          47.40126666666665,
          14.000866666666656,
          321.9823999999999,
          196.3747333333333,
          599.2710666666668,
          437.98433333333344,
          38.318,
          9.792999999999997
         ],
         "type": "scatter",
         "xaxis": "x",
         "yaxis": "y"
        },
        {
         "mode": "markers",
         "name": "linear preds vs trues",
         "opacity": 0.8,
         "x": [
          357.88299999999964,
          18.067999999999994,
          903.3360000000008,
          24.052999999999997,
          172.816,
          6.091000000000008,
          201.34400000000036,
          144.72999999999996,
          45.183000000000014,
          311.153,
          30.37,
          1297.424,
          6.795,
          0.8330000000000001,
          649.4630000000001,
          3.971000000000003,
          6.920000000000002,
          72.658,
          424.34199999999976,
          106.94100000000002,
          1087.5309999999993,
          411.0430000000001,
          61.76199999999991,
          207.51099999999997,
          17.81299999999999,
          6.140000000000006,
          215.75400000000013,
          286.9659999999998,
          32.68599999999999,
          667.246,
          1098.52,
          204.42500000000015,
          17.513999999999996,
          9.342,
          448.9320000000003,
          428.2949999999999,
          2.216,
          176.08599999999993,
          3.5330000000000013,
          216.86000000000004,
          54.93800000000002,
          9.173000000000007,
          385.64200000000034,
          45.409999999999954,
          741.8440000000006,
          201.11900000000003,
          10.572000000000008,
          11.898999999999988
         ],
         "y": [
          388.5634635476397,
          130.6207320218444,
          642.948695748037,
          154.98810264177638,
          712.3258862994445,
          131.00843712706504,
          141.396959247591,
          256.86843002074113,
          124.50654908584409,
          185.28285671346126,
          138.82645019425192,
          663.410190974411,
          150.72102518449873,
          163.9233245634354,
          280.68904848304874,
          152.4530111327985,
          151.1791861138948,
          165.15826426305009,
          551.1302107215821,
          51.47235504318404,
          646.5751913475298,
          381.25069278683395,
          214.20636379351453,
          186.71686976732008,
          402.6110003911667,
          135.8567278490949,
          191.4318021556545,
          129.81538065830836,
          163.69510361580183,
          544.6584276236454,
          489.73868304313305,
          207.25407820026135,
          158.65913925809258,
          151.91328056192123,
          444.4231463746397,
          238.6356344075024,
          171.7703945766772,
          144.53022075847622,
          149.03364426191118,
          276.70452675276863,
          148.1491411682109,
          124.49970996876532,
          419.4006939198732,
          165.76427848465158,
          370.69254994777,
          254.5904459181795,
          152.04315888923782,
          128.6735956602126
         ],
         "type": "scatter",
         "xaxis": "x",
         "yaxis": "y"
        },
        {
         "mode": "markers",
         "name": "kNN preds vs trues",
         "opacity": 0.8,
         "x": [
          357.88299999999964,
          18.067999999999994,
          903.3360000000008,
          24.052999999999997,
          172.816,
          6.091000000000008,
          201.34400000000036,
          144.72999999999996,
          45.183000000000014,
          311.153,
          30.37,
          1297.424,
          6.795,
          0.8330000000000001,
          649.4630000000001,
          3.971000000000003,
          6.920000000000002,
          72.658,
          424.34199999999976,
          106.94100000000002,
          1087.5309999999993,
          411.0430000000001,
          61.76199999999991,
          207.51099999999997,
          17.81299999999999,
          6.140000000000006,
          215.75400000000013,
          286.9659999999998,
          32.68599999999999,
          667.246,
          1098.52,
          204.42500000000015,
          17.513999999999996,
          9.342,
          448.9320000000003,
          428.2949999999999,
          2.216,
          176.08599999999993,
          3.5330000000000013,
          216.86000000000004,
          54.93800000000002,
          9.173000000000007,
          385.64200000000034,
          45.409999999999954,
          741.8440000000006,
          201.11900000000003,
          10.572000000000008,
          11.898999999999988
         ],
         "y": [
          412.69189834594727,
          72.63736146688461,
          566.7503967285156,
          98.96830701828003,
          498.41551399230957,
          93.42335999011993,
          47.290568828582764,
          291.8604474067688,
          84.36776006221771,
          204.95010042190552,
          83.95467296242714,
          508.9826412200928,
          71.97665292024612,
          121.06774932146072,
          320.43719482421875,
          85.6651200056076,
          83.44748574495316,
          101.54376304149628,
          461.2537651062012,
          234.81995922327042,
          715.3011884689331,
          366.812940120697,
          288.58539605140686,
          111.47086763381958,
          496.14759826660156,
          39.486950278282166,
          157.4852465391159,
          29.111474215984344,
          150.451850771904,
          633.2883396148682,
          441.2128572463989,
          212.83597242832184,
          91.42146944999695,
          75.11610826849937,
          375.89317655563354,
          211.47208762168884,
          106.18788546323776,
          113.29074043035507,
          74.85655906796455,
          256.43939185142517,
          77.83110809326172,
          20.004320070147514,
          546.9500207901001,
          180.7915684580803,
          376.2470898628235,
          192.54400718212128,
          98.58860316872597,
          52.41339710354805
         ],
         "type": "scatter",
         "xaxis": "x",
         "yaxis": "y"
        },
        {
         "mode": "markers",
         "name": "pred. error init",
         "opacity": 0.6,
         "x": [
          55.45086666666714,
          -8.869199999999994,
          -204.55920000000071,
          22.053466666666665,
          246.00319999999996,
          189.66613333333336,
          -174.20666666666705,
          54.738933333333335,
          147.36513333333332,
          -182.40326666666672,
          13.163799999999991,
          -518.3033333333332,
          18.258933333333324,
          71.11373333333331,
          -390.2360000000001,
          30.147466666666666,
          34.076600000000006,
          -10.493199999999995,
          212.96913333333362,
          84.574,
          -308.41033333333246,
          -27.786600000000078,
          146.14620000000008,
          -58.823066666666676,
          480.4131333333335,
          6.902999999999997,
          -70.03246666666683,
          -257.5803999999998,
          49.23846666666667,
          -4.322466666666628,
          -415.10699999999986,
          13.600799999999793,
          33.91173333333334,
          30.290599999999998,
          -102.6379333333337,
          -202.0793999999999,
          58.85806666666667,
          -166.84833333333327,
          37.46360000000001,
          195.061,
          -7.536733333333366,
          4.827866666666649,
          -63.65960000000041,
          150.96473333333336,
          -142.57293333333382,
          236.8653333333334,
          27.745999999999988,
          -2.105999999999991
         ],
         "y": [
          413.3338666666668,
          9.1988,
          698.7768000000001,
          46.10646666666666,
          418.81919999999997,
          195.75713333333337,
          27.137333333333327,
          199.4689333333333,
          192.54813333333334,
          128.7497333333333,
          43.53379999999999,
          779.1206666666668,
          25.053933333333326,
          71.94673333333331,
          259.227,
          34.11846666666667,
          40.99660000000001,
          62.16480000000001,
          637.3111333333334,
          191.51500000000001,
          779.1206666666668,
          383.25640000000004,
          207.9082,
          148.6879333333333,
          498.2261333333335,
          13.043000000000003,
          145.7215333333333,
          29.38559999999998,
          81.92446666666666,
          662.9235333333334,
          683.4130000000001,
          218.02579999999995,
          51.42573333333333,
          39.6326,
          346.2940666666666,
          226.2156,
          61.074066666666674,
          9.237666666666668,
          40.99660000000001,
          411.92100000000005,
          47.40126666666665,
          14.000866666666656,
          321.9823999999999,
          196.3747333333333,
          599.2710666666668,
          437.98433333333344,
          38.318,
          9.792999999999997
         ],
         "type": "scatter",
         "xaxis": "x2",
         "yaxis": "y2"
        },
        {
         "mode": "markers",
         "name": "pred. error linear",
         "opacity": 0.6,
         "x": [
          30.680463547640045,
          112.55273202184439,
          -260.38730425196377,
          130.93510264177638,
          539.5098862994445,
          124.91743712706503,
          -59.94704075240935,
          112.13843002074117,
          79.32354908584406,
          -125.87014328653876,
          108.45645019425191,
          -634.013809025589,
          143.92602518449874,
          163.0903245634354,
          -368.77395151695134,
          148.4820111327985,
          144.25918611389477,
          92.50026426305008,
          126.78821072158235,
          -55.46864495681598,
          -440.9558086524695,
          -29.79230721316617,
          152.4443637935146,
          -20.79413023267989,
          384.79800039116674,
          129.7167278490949,
          -24.322197844345624,
          -157.15061934169142,
          131.00910361580185,
          -122.58757237635461,
          -608.7813169568669,
          2.8290782002611934,
          141.14513925809257,
          142.5712805619212,
          -4.508853625360587,
          -189.6593655924975,
          169.5543945766772,
          -31.55577924152371,
          145.5006442619112,
          59.84452675276859,
          93.21114116821087,
          115.32670996876531,
          33.75869391987288,
          120.35427848465163,
          -371.15145005223064,
          53.471445918179484,
          141.4711588892378,
          116.77459566021263
         ],
         "y": [
          388.5634635476397,
          130.6207320218444,
          642.948695748037,
          154.98810264177638,
          712.3258862994445,
          131.00843712706504,
          141.396959247591,
          256.86843002074113,
          124.50654908584409,
          185.28285671346126,
          138.82645019425192,
          663.410190974411,
          150.72102518449873,
          163.9233245634354,
          280.68904848304874,
          152.4530111327985,
          151.1791861138948,
          165.15826426305009,
          551.1302107215821,
          51.47235504318404,
          646.5751913475298,
          381.25069278683395,
          214.20636379351453,
          186.71686976732008,
          402.6110003911667,
          135.8567278490949,
          191.4318021556545,
          129.81538065830836,
          163.69510361580183,
          544.6584276236454,
          489.73868304313305,
          207.25407820026135,
          158.65913925809258,
          151.91328056192123,
          444.4231463746397,
          238.6356344075024,
          171.7703945766772,
          144.53022075847622,
          149.03364426191118,
          276.70452675276863,
          148.1491411682109,
          124.49970996876532,
          419.4006939198732,
          165.76427848465158,
          370.69254994777,
          254.5904459181795,
          152.04315888923782,
          128.6735956602126
         ],
         "type": "scatter",
         "xaxis": "x2",
         "yaxis": "y2"
        },
        {
         "marker": {
          "color": "Maroon"
         },
         "mode": "markers",
         "name": "pred. error kNN",
         "opacity": 0.6,
         "x": [
          54.808898345947625,
          54.569361466884615,
          -336.5856032714852,
          74.91530701828003,
          325.59951399230954,
          87.33235999011993,
          -154.0534311714176,
          147.13044740676884,
          39.1847600622177,
          -106.2028995780945,
          53.584672962427135,
          -788.4413587799072,
          65.18165292024612,
          120.23474932146073,
          -329.02580517578133,
          81.6941200056076,
          76.52748574495315,
          28.885763041496276,
          36.911765106201415,
          127.8789592232704,
          -372.22981153106616,
          -44.2300598793031,
          226.82339605140695,
          -96.04013236618039,
          478.3345982666016,
          33.34695027828216,
          -58.26875346088423,
          -257.85452578401544,
          117.765850771904,
          -33.95766038513182,
          -657.307142753601,
          8.410972428321685,
          73.90746944999695,
          65.77410826849938,
          -73.03882344436676,
          -216.82291237831106,
          103.97188546323777,
          -62.795259569644855,
          71.32355906796455,
          39.57939185142513,
          22.893108093261702,
          10.831320070147507,
          161.30802079009976,
          135.38156845808032,
          -365.59691013717713,
          -8.574992817878751,
          88.01660316872596,
          40.51439710354806
         ],
         "y": [
          412.69189834594727,
          72.63736146688461,
          566.7503967285156,
          98.96830701828003,
          498.41551399230957,
          93.42335999011993,
          47.290568828582764,
          291.8604474067688,
          84.36776006221771,
          204.95010042190552,
          83.95467296242714,
          508.9826412200928,
          71.97665292024612,
          121.06774932146072,
          320.43719482421875,
          85.6651200056076,
          83.44748574495316,
          101.54376304149628,
          461.2537651062012,
          234.81995922327042,
          715.3011884689331,
          366.812940120697,
          288.58539605140686,
          111.47086763381958,
          496.14759826660156,
          39.486950278282166,
          157.4852465391159,
          29.111474215984344,
          150.451850771904,
          633.2883396148682,
          441.2128572463989,
          212.83597242832184,
          91.42146944999695,
          75.11610826849937,
          375.89317655563354,
          211.47208762168884,
          106.18788546323776,
          113.29074043035507,
          74.85655906796455,
          256.43939185142517,
          77.83110809326172,
          20.004320070147514,
          546.9500207901001,
          180.7915684580803,
          376.2470898628235,
          192.54400718212128,
          98.58860316872597,
          52.41339710354805
         ],
         "type": "scatter",
         "xaxis": "x2",
         "yaxis": "y2"
        },
        {
         "name": "pred. error init",
         "nbinsx": 4,
         "y": [
          55.45086666666714,
          -8.869199999999994,
          -204.55920000000071,
          22.053466666666665,
          246.00319999999996,
          189.66613333333336,
          -174.20666666666705,
          54.738933333333335,
          147.36513333333332,
          -182.40326666666672,
          13.163799999999991,
          -518.3033333333332,
          18.258933333333324,
          71.11373333333331,
          -390.2360000000001,
          30.147466666666666,
          34.076600000000006,
          -10.493199999999995,
          212.96913333333362,
          84.574,
          -308.41033333333246,
          -27.786600000000078,
          146.14620000000008,
          -58.823066666666676,
          480.4131333333335,
          6.902999999999997,
          -70.03246666666683,
          -257.5803999999998,
          49.23846666666667,
          -4.322466666666628,
          -415.10699999999986,
          13.600799999999793,
          33.91173333333334,
          30.290599999999998,
          -102.6379333333337,
          -202.0793999999999,
          58.85806666666667,
          -166.84833333333327,
          37.46360000000001,
          195.061,
          -7.536733333333366,
          4.827866666666649,
          -63.65960000000041,
          150.96473333333336,
          -142.57293333333382,
          236.8653333333334,
          27.745999999999988,
          -2.105999999999991
         ],
         "type": "histogram",
         "xaxis": "x3",
         "yaxis": "y3"
        },
        {
         "name": "pred. error linear",
         "nbinsx": 4,
         "y": [
          30.680463547640045,
          112.55273202184439,
          -260.38730425196377,
          130.93510264177638,
          539.5098862994445,
          124.91743712706503,
          -59.94704075240935,
          112.13843002074117,
          79.32354908584406,
          -125.87014328653876,
          108.45645019425191,
          -634.013809025589,
          143.92602518449874,
          163.0903245634354,
          -368.77395151695134,
          148.4820111327985,
          144.25918611389477,
          92.50026426305008,
          126.78821072158235,
          -55.46864495681598,
          -440.9558086524695,
          -29.79230721316617,
          152.4443637935146,
          -20.79413023267989,
          384.79800039116674,
          129.7167278490949,
          -24.322197844345624,
          -157.15061934169142,
          131.00910361580185,
          -122.58757237635461,
          -608.7813169568669,
          2.8290782002611934,
          141.14513925809257,
          142.5712805619212,
          -4.508853625360587,
          -189.6593655924975,
          169.5543945766772,
          -31.55577924152371,
          145.5006442619112,
          59.84452675276859,
          93.21114116821087,
          115.32670996876531,
          33.75869391987288,
          120.35427848465163,
          -371.15145005223064,
          53.471445918179484,
          141.4711588892378,
          116.77459566021263
         ],
         "type": "histogram",
         "xaxis": "x3",
         "yaxis": "y3"
        },
        {
         "name": "pred. error kNN",
         "nbinsx": 4,
         "y": [
          54.808898345947625,
          54.569361466884615,
          -336.5856032714852,
          74.91530701828003,
          325.59951399230954,
          87.33235999011993,
          -154.0534311714176,
          147.13044740676884,
          39.1847600622177,
          -106.2028995780945,
          53.584672962427135,
          -788.4413587799072,
          65.18165292024612,
          120.23474932146073,
          -329.02580517578133,
          81.6941200056076,
          76.52748574495315,
          28.885763041496276,
          36.911765106201415,
          127.8789592232704,
          -372.22981153106616,
          -44.2300598793031,
          226.82339605140695,
          -96.04013236618039,
          478.3345982666016,
          33.34695027828216,
          -58.26875346088423,
          -257.85452578401544,
          117.765850771904,
          -33.95766038513182,
          -657.307142753601,
          8.410972428321685,
          73.90746944999695,
          65.77410826849938,
          -73.03882344436676,
          -216.82291237831106,
          103.97188546323777,
          -62.795259569644855,
          71.32355906796455,
          39.57939185142513,
          22.893108093261702,
          10.831320070147507,
          161.30802079009976,
          135.38156845808032,
          -365.59691013717713,
          -8.574992817878751,
          88.01660316872596,
          40.51439710354806
         ],
         "type": "histogram",
         "xaxis": "x3",
         "yaxis": "y3"
        }
       ],
       "layout": {
        "template": {
         "data": {
          "histogram2dcontour": [
           {
            "type": "histogram2dcontour",
            "colorbar": {
             "outlinewidth": 0,
             "ticks": ""
            },
            "colorscale": [
             [
              0.0,
              "#0d0887"
             ],
             [
              0.1111111111111111,
              "#46039f"
             ],
             [
              0.2222222222222222,
              "#7201a8"
             ],
             [
              0.3333333333333333,
              "#9c179e"
             ],
             [
              0.4444444444444444,
              "#bd3786"
             ],
             [
              0.5555555555555556,
              "#d8576b"
             ],
             [
              0.6666666666666666,
              "#ed7953"
             ],
             [
              0.7777777777777778,
              "#fb9f3a"
             ],
             [
              0.8888888888888888,
              "#fdca26"
             ],
             [
              1.0,
              "#f0f921"
             ]
            ]
           }
          ],
          "choropleth": [
           {
            "type": "choropleth",
            "colorbar": {
             "outlinewidth": 0,
             "ticks": ""
            }
           }
          ],
          "histogram2d": [
           {
            "type": "histogram2d",
            "colorbar": {
             "outlinewidth": 0,
             "ticks": ""
            },
            "colorscale": [
             [
              0.0,
              "#0d0887"
             ],
             [
              0.1111111111111111,
              "#46039f"
             ],
             [
              0.2222222222222222,
              "#7201a8"
             ],
             [
              0.3333333333333333,
              "#9c179e"
             ],
             [
              0.4444444444444444,
              "#bd3786"
             ],
             [
              0.5555555555555556,
              "#d8576b"
             ],
             [
              0.6666666666666666,
              "#ed7953"
             ],
             [
              0.7777777777777778,
              "#fb9f3a"
             ],
             [
              0.8888888888888888,
              "#fdca26"
             ],
             [
              1.0,
              "#f0f921"
             ]
            ]
           }
          ],
          "heatmap": [
           {
            "type": "heatmap",
            "colorbar": {
             "outlinewidth": 0,
             "ticks": ""
            },
            "colorscale": [
             [
              0.0,
              "#0d0887"
             ],
             [
              0.1111111111111111,
              "#46039f"
             ],
             [
              0.2222222222222222,
              "#7201a8"
             ],
             [
              0.3333333333333333,
              "#9c179e"
             ],
             [
              0.4444444444444444,
              "#bd3786"
             ],
             [
              0.5555555555555556,
              "#d8576b"
             ],
             [
              0.6666666666666666,
              "#ed7953"
             ],
             [
              0.7777777777777778,
              "#fb9f3a"
             ],
             [
              0.8888888888888888,
              "#fdca26"
             ],
             [
              1.0,
              "#f0f921"
             ]
            ]
           }
          ],
          "heatmapgl": [
           {
            "type": "heatmapgl",
            "colorbar": {
             "outlinewidth": 0,
             "ticks": ""
            },
            "colorscale": [
             [
              0.0,
              "#0d0887"
             ],
             [
              0.1111111111111111,
              "#46039f"
             ],
             [
              0.2222222222222222,
              "#7201a8"
             ],
             [
              0.3333333333333333,
              "#9c179e"
             ],
             [
              0.4444444444444444,
              "#bd3786"
             ],
             [
              0.5555555555555556,
              "#d8576b"
             ],
             [
              0.6666666666666666,
              "#ed7953"
             ],
             [
              0.7777777777777778,
              "#fb9f3a"
             ],
             [
              0.8888888888888888,
              "#fdca26"
             ],
             [
              1.0,
              "#f0f921"
             ]
            ]
           }
          ],
          "contourcarpet": [
           {
            "type": "contourcarpet",
            "colorbar": {
             "outlinewidth": 0,
             "ticks": ""
            }
           }
          ],
          "contour": [
           {
            "type": "contour",
            "colorbar": {
             "outlinewidth": 0,
             "ticks": ""
            },
            "colorscale": [
             [
              0.0,
              "#0d0887"
             ],
             [
              0.1111111111111111,
              "#46039f"
             ],
             [
              0.2222222222222222,
              "#7201a8"
             ],
             [
              0.3333333333333333,
              "#9c179e"
             ],
             [
              0.4444444444444444,
              "#bd3786"
             ],
             [
              0.5555555555555556,
              "#d8576b"
             ],
             [
              0.6666666666666666,
              "#ed7953"
             ],
             [
              0.7777777777777778,
              "#fb9f3a"
             ],
             [
              0.8888888888888888,
              "#fdca26"
             ],
             [
              1.0,
              "#f0f921"
             ]
            ]
           }
          ],
          "surface": [
           {
            "type": "surface",
            "colorbar": {
             "outlinewidth": 0,
             "ticks": ""
            },
            "colorscale": [
             [
              0.0,
              "#0d0887"
             ],
             [
              0.1111111111111111,
              "#46039f"
             ],
             [
              0.2222222222222222,
              "#7201a8"
             ],
             [
              0.3333333333333333,
              "#9c179e"
             ],
             [
              0.4444444444444444,
              "#bd3786"
             ],
             [
              0.5555555555555556,
              "#d8576b"
             ],
             [
              0.6666666666666666,
              "#ed7953"
             ],
             [
              0.7777777777777778,
              "#fb9f3a"
             ],
             [
              0.8888888888888888,
              "#fdca26"
             ],
             [
              1.0,
              "#f0f921"
             ]
            ]
           }
          ],
          "mesh3d": [
           {
            "type": "mesh3d",
            "colorbar": {
             "outlinewidth": 0,
             "ticks": ""
            }
           }
          ],
          "scatter": [
           {
            "fillpattern": {
             "fillmode": "overlay",
             "size": 10,
             "solidity": 0.2
            },
            "type": "scatter"
           }
          ],
          "parcoords": [
           {
            "type": "parcoords",
            "line": {
             "colorbar": {
              "outlinewidth": 0,
              "ticks": ""
             }
            }
           }
          ],
          "scatterpolargl": [
           {
            "type": "scatterpolargl",
            "marker": {
             "colorbar": {
              "outlinewidth": 0,
              "ticks": ""
             }
            }
           }
          ],
          "bar": [
           {
            "error_x": {
             "color": "#2a3f5f"
            },
            "error_y": {
             "color": "#2a3f5f"
            },
            "marker": {
             "line": {
              "color": "#E5ECF6",
              "width": 0.5
             },
             "pattern": {
              "fillmode": "overlay",
              "size": 10,
              "solidity": 0.2
             }
            },
            "type": "bar"
           }
          ],
          "scattergeo": [
           {
            "type": "scattergeo",
            "marker": {
             "colorbar": {
              "outlinewidth": 0,
              "ticks": ""
             }
            }
           }
          ],
          "scatterpolar": [
           {
            "type": "scatterpolar",
            "marker": {
             "colorbar": {
              "outlinewidth": 0,
              "ticks": ""
             }
            }
           }
          ],
          "histogram": [
           {
            "marker": {
             "pattern": {
              "fillmode": "overlay",
              "size": 10,
              "solidity": 0.2
             }
            },
            "type": "histogram"
           }
          ],
          "scattergl": [
           {
            "type": "scattergl",
            "marker": {
             "colorbar": {
              "outlinewidth": 0,
              "ticks": ""
             }
            }
           }
          ],
          "scatter3d": [
           {
            "type": "scatter3d",
            "line": {
             "colorbar": {
              "outlinewidth": 0,
              "ticks": ""
             }
            },
            "marker": {
             "colorbar": {
              "outlinewidth": 0,
              "ticks": ""
             }
            }
           }
          ],
          "scattermapbox": [
           {
            "type": "scattermapbox",
            "marker": {
             "colorbar": {
              "outlinewidth": 0,
              "ticks": ""
             }
            }
           }
          ],
          "scatterternary": [
           {
            "type": "scatterternary",
            "marker": {
             "colorbar": {
              "outlinewidth": 0,
              "ticks": ""
             }
            }
           }
          ],
          "scattercarpet": [
           {
            "type": "scattercarpet",
            "marker": {
             "colorbar": {
              "outlinewidth": 0,
              "ticks": ""
             }
            }
           }
          ],
          "carpet": [
           {
            "aaxis": {
             "endlinecolor": "#2a3f5f",
             "gridcolor": "white",
             "linecolor": "white",
             "minorgridcolor": "white",
             "startlinecolor": "#2a3f5f"
            },
            "baxis": {
             "endlinecolor": "#2a3f5f",
             "gridcolor": "white",
             "linecolor": "white",
             "minorgridcolor": "white",
             "startlinecolor": "#2a3f5f"
            },
            "type": "carpet"
           }
          ],
          "table": [
           {
            "cells": {
             "fill": {
              "color": "#EBF0F8"
             },
             "line": {
              "color": "white"
             }
            },
            "header": {
             "fill": {
              "color": "#C8D4E3"
             },
             "line": {
              "color": "white"
             }
            },
            "type": "table"
           }
          ],
          "barpolar": [
           {
            "marker": {
             "line": {
              "color": "#E5ECF6",
              "width": 0.5
             },
             "pattern": {
              "fillmode": "overlay",
              "size": 10,
              "solidity": 0.2
             }
            },
            "type": "barpolar"
           }
          ],
          "pie": [
           {
            "automargin": true,
            "type": "pie"
           }
          ]
         },
         "layout": {
          "autotypenumbers": "strict",
          "colorway": [
           "#636efa",
           "#EF553B",
           "#00cc96",
           "#ab63fa",
           "#FFA15A",
           "#19d3f3",
           "#FF6692",
           "#B6E880",
           "#FF97FF",
           "#FECB52"
          ],
          "font": {
           "color": "#2a3f5f"
          },
          "hovermode": "closest",
          "hoverlabel": {
           "align": "left"
          },
          "paper_bgcolor": "white",
          "plot_bgcolor": "#E5ECF6",
          "polar": {
           "bgcolor": "#E5ECF6",
           "angularaxis": {
            "gridcolor": "white",
            "linecolor": "white",
            "ticks": ""
           },
           "radialaxis": {
            "gridcolor": "white",
            "linecolor": "white",
            "ticks": ""
           }
          },
          "ternary": {
           "bgcolor": "#E5ECF6",
           "aaxis": {
            "gridcolor": "white",
            "linecolor": "white",
            "ticks": ""
           },
           "baxis": {
            "gridcolor": "white",
            "linecolor": "white",
            "ticks": ""
           },
           "caxis": {
            "gridcolor": "white",
            "linecolor": "white",
            "ticks": ""
           }
          },
          "coloraxis": {
           "colorbar": {
            "outlinewidth": 0,
            "ticks": ""
           }
          },
          "colorscale": {
           "sequential": [
            [
             0.0,
             "#0d0887"
            ],
            [
             0.1111111111111111,
             "#46039f"
            ],
            [
             0.2222222222222222,
             "#7201a8"
            ],
            [
             0.3333333333333333,
             "#9c179e"
            ],
            [
             0.4444444444444444,
             "#bd3786"
            ],
            [
             0.5555555555555556,
             "#d8576b"
            ],
            [
             0.6666666666666666,
             "#ed7953"
            ],
            [
             0.7777777777777778,
             "#fb9f3a"
            ],
            [
             0.8888888888888888,
             "#fdca26"
            ],
            [
             1.0,
             "#f0f921"
            ]
           ],
           "sequentialminus": [
            [
             0.0,
             "#0d0887"
            ],
            [
             0.1111111111111111,
             "#46039f"
            ],
            [
             0.2222222222222222,
             "#7201a8"
            ],
            [
             0.3333333333333333,
             "#9c179e"
            ],
            [
             0.4444444444444444,
             "#bd3786"
            ],
            [
             0.5555555555555556,
             "#d8576b"
            ],
            [
             0.6666666666666666,
             "#ed7953"
            ],
            [
             0.7777777777777778,
             "#fb9f3a"
            ],
            [
             0.8888888888888888,
             "#fdca26"
            ],
            [
             1.0,
             "#f0f921"
            ]
           ],
           "diverging": [
            [
             0,
             "#8e0152"
            ],
            [
             0.1,
             "#c51b7d"
            ],
            [
             0.2,
             "#de77ae"
            ],
            [
             0.3,
             "#f1b6da"
            ],
            [
             0.4,
             "#fde0ef"
            ],
            [
             0.5,
             "#f7f7f7"
            ],
            [
             0.6,
             "#e6f5d0"
            ],
            [
             0.7,
             "#b8e186"
            ],
            [
             0.8,
             "#7fbc41"
            ],
            [
             0.9,
             "#4d9221"
            ],
            [
             1,
             "#276419"
            ]
           ]
          },
          "xaxis": {
           "gridcolor": "white",
           "linecolor": "white",
           "ticks": "",
           "title": {
            "standoff": 15
           },
           "zerolinecolor": "white",
           "automargin": true,
           "zerolinewidth": 2
          },
          "yaxis": {
           "gridcolor": "white",
           "linecolor": "white",
           "ticks": "",
           "title": {
            "standoff": 15
           },
           "zerolinecolor": "white",
           "automargin": true,
           "zerolinewidth": 2
          },
          "scene": {
           "xaxis": {
            "backgroundcolor": "#E5ECF6",
            "gridcolor": "white",
            "linecolor": "white",
            "showbackground": true,
            "ticks": "",
            "zerolinecolor": "white",
            "gridwidth": 2
           },
           "yaxis": {
            "backgroundcolor": "#E5ECF6",
            "gridcolor": "white",
            "linecolor": "white",
            "showbackground": true,
            "ticks": "",
            "zerolinecolor": "white",
            "gridwidth": 2
           },
           "zaxis": {
            "backgroundcolor": "#E5ECF6",
            "gridcolor": "white",
            "linecolor": "white",
            "showbackground": true,
            "ticks": "",
            "zerolinecolor": "white",
            "gridwidth": 2
           }
          },
          "shapedefaults": {
           "line": {
            "color": "#2a3f5f"
           }
          },
          "annotationdefaults": {
           "arrowcolor": "#2a3f5f",
           "arrowhead": 0,
           "arrowwidth": 1
          },
          "geo": {
           "bgcolor": "white",
           "landcolor": "#E5ECF6",
           "subunitcolor": "white",
           "showland": true,
           "showlakes": true,
           "lakecolor": "white"
          },
          "title": {
           "x": 0.05
          },
          "mapbox": {
           "style": "light"
          }
         }
        },
        "xaxis": {
         "anchor": "y",
         "domain": [
          0.0,
          0.48999999999999994
         ],
         "title": {
          "text": "true"
         }
        },
        "yaxis": {
         "anchor": "x",
         "domain": [
          0.0,
          1.0
         ],
         "title": {
          "text": "pred"
         }
        },
        "xaxis2": {
         "anchor": "y2",
         "domain": [
          0.6399999999999999,
          0.7449999999999999
         ],
         "title": {
          "text": "pred-true"
         }
        },
        "yaxis2": {
         "anchor": "x2",
         "domain": [
          0.0,
          1.0
         ],
         "title": {
          "text": "pred"
         },
         "matches": "y"
        },
        "xaxis3": {
         "anchor": "y3",
         "domain": [
          0.895,
          1.0
         ],
         "title": {
          "text": "freq"
         }
        },
        "yaxis3": {
         "anchor": "x3",
         "domain": [
          0.0,
          1.0
         ],
         "title": {
          "text": "pred-true"
         }
        },
        "title": {
         "text": "('population_cov', 'Drug use disorders', \"Alzheimer's disease and other dementias\", 'new_deaths_per_million')"
        },
        "width": 950,
        "height": 555
       },
       "config": {
        "plotlyServerURL": "https://plot.ly"
       }
      },
      "text/html": "<div>                            <div id=\"f56d32d3-1405-40e4-b1a0-c6cbb7ffbf91\" class=\"plotly-graph-div\" style=\"height:555px; width:950px;\"></div>            <script type=\"text/javascript\">                require([\"plotly\"], function(Plotly) {                    window.PLOTLYENV=window.PLOTLYENV || {};                                    if (document.getElementById(\"f56d32d3-1405-40e4-b1a0-c6cbb7ffbf91\")) {                    Plotly.newPlot(                        \"f56d32d3-1405-40e4-b1a0-c6cbb7ffbf91\",                        [{\"mode\":\"markers\",\"name\":\"init preds vs trues\",\"opacity\":0.8,\"x\":[357.88299999999964,18.067999999999994,903.3360000000008,24.052999999999997,172.816,6.091000000000008,201.34400000000036,144.72999999999996,45.183000000000014,311.153,30.37,1297.424,6.795,0.8330000000000001,649.4630000000001,3.971000000000003,6.920000000000002,72.658,424.34199999999976,106.94100000000002,1087.5309999999993,411.0430000000001,61.76199999999991,207.51099999999997,17.81299999999999,6.140000000000006,215.75400000000013,286.9659999999998,32.68599999999999,667.246,1098.52,204.42500000000015,17.513999999999996,9.342,448.9320000000003,428.2949999999999,2.216,176.08599999999993,3.5330000000000013,216.86000000000004,54.93800000000002,9.173000000000007,385.64200000000034,45.409999999999954,741.8440000000006,201.11900000000003,10.572000000000008,11.898999999999988],\"y\":[413.3338666666668,9.1988,698.7768000000001,46.10646666666666,418.81919999999997,195.75713333333337,27.137333333333327,199.4689333333333,192.54813333333334,128.7497333333333,43.53379999999999,779.1206666666668,25.053933333333326,71.94673333333331,259.227,34.11846666666667,40.99660000000001,62.16480000000001,637.3111333333334,191.51500000000001,779.1206666666668,383.25640000000004,207.9082,148.6879333333333,498.2261333333335,13.043000000000003,145.7215333333333,29.38559999999998,81.92446666666666,662.9235333333334,683.4130000000001,218.02579999999995,51.42573333333333,39.6326,346.2940666666666,226.2156,61.074066666666674,9.237666666666668,40.99660000000001,411.92100000000005,47.40126666666665,14.000866666666656,321.9823999999999,196.3747333333333,599.2710666666668,437.98433333333344,38.318,9.792999999999997],\"type\":\"scatter\",\"xaxis\":\"x\",\"yaxis\":\"y\"},{\"mode\":\"markers\",\"name\":\"linear preds vs trues\",\"opacity\":0.8,\"x\":[357.88299999999964,18.067999999999994,903.3360000000008,24.052999999999997,172.816,6.091000000000008,201.34400000000036,144.72999999999996,45.183000000000014,311.153,30.37,1297.424,6.795,0.8330000000000001,649.4630000000001,3.971000000000003,6.920000000000002,72.658,424.34199999999976,106.94100000000002,1087.5309999999993,411.0430000000001,61.76199999999991,207.51099999999997,17.81299999999999,6.140000000000006,215.75400000000013,286.9659999999998,32.68599999999999,667.246,1098.52,204.42500000000015,17.513999999999996,9.342,448.9320000000003,428.2949999999999,2.216,176.08599999999993,3.5330000000000013,216.86000000000004,54.93800000000002,9.173000000000007,385.64200000000034,45.409999999999954,741.8440000000006,201.11900000000003,10.572000000000008,11.898999999999988],\"y\":[388.5634635476397,130.6207320218444,642.948695748037,154.98810264177638,712.3258862994445,131.00843712706504,141.396959247591,256.86843002074113,124.50654908584409,185.28285671346126,138.82645019425192,663.410190974411,150.72102518449873,163.9233245634354,280.68904848304874,152.4530111327985,151.1791861138948,165.15826426305009,551.1302107215821,51.47235504318404,646.5751913475298,381.25069278683395,214.20636379351453,186.71686976732008,402.6110003911667,135.8567278490949,191.4318021556545,129.81538065830836,163.69510361580183,544.6584276236454,489.73868304313305,207.25407820026135,158.65913925809258,151.91328056192123,444.4231463746397,238.6356344075024,171.7703945766772,144.53022075847622,149.03364426191118,276.70452675276863,148.1491411682109,124.49970996876532,419.4006939198732,165.76427848465158,370.69254994777,254.5904459181795,152.04315888923782,128.6735956602126],\"type\":\"scatter\",\"xaxis\":\"x\",\"yaxis\":\"y\"},{\"mode\":\"markers\",\"name\":\"kNN preds vs trues\",\"opacity\":0.8,\"x\":[357.88299999999964,18.067999999999994,903.3360000000008,24.052999999999997,172.816,6.091000000000008,201.34400000000036,144.72999999999996,45.183000000000014,311.153,30.37,1297.424,6.795,0.8330000000000001,649.4630000000001,3.971000000000003,6.920000000000002,72.658,424.34199999999976,106.94100000000002,1087.5309999999993,411.0430000000001,61.76199999999991,207.51099999999997,17.81299999999999,6.140000000000006,215.75400000000013,286.9659999999998,32.68599999999999,667.246,1098.52,204.42500000000015,17.513999999999996,9.342,448.9320000000003,428.2949999999999,2.216,176.08599999999993,3.5330000000000013,216.86000000000004,54.93800000000002,9.173000000000007,385.64200000000034,45.409999999999954,741.8440000000006,201.11900000000003,10.572000000000008,11.898999999999988],\"y\":[412.69189834594727,72.63736146688461,566.7503967285156,98.96830701828003,498.41551399230957,93.42335999011993,47.290568828582764,291.8604474067688,84.36776006221771,204.95010042190552,83.95467296242714,508.9826412200928,71.97665292024612,121.06774932146072,320.43719482421875,85.6651200056076,83.44748574495316,101.54376304149628,461.2537651062012,234.81995922327042,715.3011884689331,366.812940120697,288.58539605140686,111.47086763381958,496.14759826660156,39.486950278282166,157.4852465391159,29.111474215984344,150.451850771904,633.2883396148682,441.2128572463989,212.83597242832184,91.42146944999695,75.11610826849937,375.89317655563354,211.47208762168884,106.18788546323776,113.29074043035507,74.85655906796455,256.43939185142517,77.83110809326172,20.004320070147514,546.9500207901001,180.7915684580803,376.2470898628235,192.54400718212128,98.58860316872597,52.41339710354805],\"type\":\"scatter\",\"xaxis\":\"x\",\"yaxis\":\"y\"},{\"mode\":\"markers\",\"name\":\"pred. error init\",\"opacity\":0.6,\"x\":[55.45086666666714,-8.869199999999994,-204.55920000000071,22.053466666666665,246.00319999999996,189.66613333333336,-174.20666666666705,54.738933333333335,147.36513333333332,-182.40326666666672,13.163799999999991,-518.3033333333332,18.258933333333324,71.11373333333331,-390.2360000000001,30.147466666666666,34.076600000000006,-10.493199999999995,212.96913333333362,84.574,-308.41033333333246,-27.786600000000078,146.14620000000008,-58.823066666666676,480.4131333333335,6.902999999999997,-70.03246666666683,-257.5803999999998,49.23846666666667,-4.322466666666628,-415.10699999999986,13.600799999999793,33.91173333333334,30.290599999999998,-102.6379333333337,-202.0793999999999,58.85806666666667,-166.84833333333327,37.46360000000001,195.061,-7.536733333333366,4.827866666666649,-63.65960000000041,150.96473333333336,-142.57293333333382,236.8653333333334,27.745999999999988,-2.105999999999991],\"y\":[413.3338666666668,9.1988,698.7768000000001,46.10646666666666,418.81919999999997,195.75713333333337,27.137333333333327,199.4689333333333,192.54813333333334,128.7497333333333,43.53379999999999,779.1206666666668,25.053933333333326,71.94673333333331,259.227,34.11846666666667,40.99660000000001,62.16480000000001,637.3111333333334,191.51500000000001,779.1206666666668,383.25640000000004,207.9082,148.6879333333333,498.2261333333335,13.043000000000003,145.7215333333333,29.38559999999998,81.92446666666666,662.9235333333334,683.4130000000001,218.02579999999995,51.42573333333333,39.6326,346.2940666666666,226.2156,61.074066666666674,9.237666666666668,40.99660000000001,411.92100000000005,47.40126666666665,14.000866666666656,321.9823999999999,196.3747333333333,599.2710666666668,437.98433333333344,38.318,9.792999999999997],\"type\":\"scatter\",\"xaxis\":\"x2\",\"yaxis\":\"y2\"},{\"mode\":\"markers\",\"name\":\"pred. error linear\",\"opacity\":0.6,\"x\":[30.680463547640045,112.55273202184439,-260.38730425196377,130.93510264177638,539.5098862994445,124.91743712706503,-59.94704075240935,112.13843002074117,79.32354908584406,-125.87014328653876,108.45645019425191,-634.013809025589,143.92602518449874,163.0903245634354,-368.77395151695134,148.4820111327985,144.25918611389477,92.50026426305008,126.78821072158235,-55.46864495681598,-440.9558086524695,-29.79230721316617,152.4443637935146,-20.79413023267989,384.79800039116674,129.7167278490949,-24.322197844345624,-157.15061934169142,131.00910361580185,-122.58757237635461,-608.7813169568669,2.8290782002611934,141.14513925809257,142.5712805619212,-4.508853625360587,-189.6593655924975,169.5543945766772,-31.55577924152371,145.5006442619112,59.84452675276859,93.21114116821087,115.32670996876531,33.75869391987288,120.35427848465163,-371.15145005223064,53.471445918179484,141.4711588892378,116.77459566021263],\"y\":[388.5634635476397,130.6207320218444,642.948695748037,154.98810264177638,712.3258862994445,131.00843712706504,141.396959247591,256.86843002074113,124.50654908584409,185.28285671346126,138.82645019425192,663.410190974411,150.72102518449873,163.9233245634354,280.68904848304874,152.4530111327985,151.1791861138948,165.15826426305009,551.1302107215821,51.47235504318404,646.5751913475298,381.25069278683395,214.20636379351453,186.71686976732008,402.6110003911667,135.8567278490949,191.4318021556545,129.81538065830836,163.69510361580183,544.6584276236454,489.73868304313305,207.25407820026135,158.65913925809258,151.91328056192123,444.4231463746397,238.6356344075024,171.7703945766772,144.53022075847622,149.03364426191118,276.70452675276863,148.1491411682109,124.49970996876532,419.4006939198732,165.76427848465158,370.69254994777,254.5904459181795,152.04315888923782,128.6735956602126],\"type\":\"scatter\",\"xaxis\":\"x2\",\"yaxis\":\"y2\"},{\"marker\":{\"color\":\"Maroon\"},\"mode\":\"markers\",\"name\":\"pred. error kNN\",\"opacity\":0.6,\"x\":[54.808898345947625,54.569361466884615,-336.5856032714852,74.91530701828003,325.59951399230954,87.33235999011993,-154.0534311714176,147.13044740676884,39.1847600622177,-106.2028995780945,53.584672962427135,-788.4413587799072,65.18165292024612,120.23474932146073,-329.02580517578133,81.6941200056076,76.52748574495315,28.885763041496276,36.911765106201415,127.8789592232704,-372.22981153106616,-44.2300598793031,226.82339605140695,-96.04013236618039,478.3345982666016,33.34695027828216,-58.26875346088423,-257.85452578401544,117.765850771904,-33.95766038513182,-657.307142753601,8.410972428321685,73.90746944999695,65.77410826849938,-73.03882344436676,-216.82291237831106,103.97188546323777,-62.795259569644855,71.32355906796455,39.57939185142513,22.893108093261702,10.831320070147507,161.30802079009976,135.38156845808032,-365.59691013717713,-8.574992817878751,88.01660316872596,40.51439710354806],\"y\":[412.69189834594727,72.63736146688461,566.7503967285156,98.96830701828003,498.41551399230957,93.42335999011993,47.290568828582764,291.8604474067688,84.36776006221771,204.95010042190552,83.95467296242714,508.9826412200928,71.97665292024612,121.06774932146072,320.43719482421875,85.6651200056076,83.44748574495316,101.54376304149628,461.2537651062012,234.81995922327042,715.3011884689331,366.812940120697,288.58539605140686,111.47086763381958,496.14759826660156,39.486950278282166,157.4852465391159,29.111474215984344,150.451850771904,633.2883396148682,441.2128572463989,212.83597242832184,91.42146944999695,75.11610826849937,375.89317655563354,211.47208762168884,106.18788546323776,113.29074043035507,74.85655906796455,256.43939185142517,77.83110809326172,20.004320070147514,546.9500207901001,180.7915684580803,376.2470898628235,192.54400718212128,98.58860316872597,52.41339710354805],\"type\":\"scatter\",\"xaxis\":\"x2\",\"yaxis\":\"y2\"},{\"name\":\"pred. error init\",\"nbinsx\":4,\"y\":[55.45086666666714,-8.869199999999994,-204.55920000000071,22.053466666666665,246.00319999999996,189.66613333333336,-174.20666666666705,54.738933333333335,147.36513333333332,-182.40326666666672,13.163799999999991,-518.3033333333332,18.258933333333324,71.11373333333331,-390.2360000000001,30.147466666666666,34.076600000000006,-10.493199999999995,212.96913333333362,84.574,-308.41033333333246,-27.786600000000078,146.14620000000008,-58.823066666666676,480.4131333333335,6.902999999999997,-70.03246666666683,-257.5803999999998,49.23846666666667,-4.322466666666628,-415.10699999999986,13.600799999999793,33.91173333333334,30.290599999999998,-102.6379333333337,-202.0793999999999,58.85806666666667,-166.84833333333327,37.46360000000001,195.061,-7.536733333333366,4.827866666666649,-63.65960000000041,150.96473333333336,-142.57293333333382,236.8653333333334,27.745999999999988,-2.105999999999991],\"type\":\"histogram\",\"xaxis\":\"x3\",\"yaxis\":\"y3\"},{\"name\":\"pred. error linear\",\"nbinsx\":4,\"y\":[30.680463547640045,112.55273202184439,-260.38730425196377,130.93510264177638,539.5098862994445,124.91743712706503,-59.94704075240935,112.13843002074117,79.32354908584406,-125.87014328653876,108.45645019425191,-634.013809025589,143.92602518449874,163.0903245634354,-368.77395151695134,148.4820111327985,144.25918611389477,92.50026426305008,126.78821072158235,-55.46864495681598,-440.9558086524695,-29.79230721316617,152.4443637935146,-20.79413023267989,384.79800039116674,129.7167278490949,-24.322197844345624,-157.15061934169142,131.00910361580185,-122.58757237635461,-608.7813169568669,2.8290782002611934,141.14513925809257,142.5712805619212,-4.508853625360587,-189.6593655924975,169.5543945766772,-31.55577924152371,145.5006442619112,59.84452675276859,93.21114116821087,115.32670996876531,33.75869391987288,120.35427848465163,-371.15145005223064,53.471445918179484,141.4711588892378,116.77459566021263],\"type\":\"histogram\",\"xaxis\":\"x3\",\"yaxis\":\"y3\"},{\"name\":\"pred. error kNN\",\"nbinsx\":4,\"y\":[54.808898345947625,54.569361466884615,-336.5856032714852,74.91530701828003,325.59951399230954,87.33235999011993,-154.0534311714176,147.13044740676884,39.1847600622177,-106.2028995780945,53.584672962427135,-788.4413587799072,65.18165292024612,120.23474932146073,-329.02580517578133,81.6941200056076,76.52748574495315,28.885763041496276,36.911765106201415,127.8789592232704,-372.22981153106616,-44.2300598793031,226.82339605140695,-96.04013236618039,478.3345982666016,33.34695027828216,-58.26875346088423,-257.85452578401544,117.765850771904,-33.95766038513182,-657.307142753601,8.410972428321685,73.90746944999695,65.77410826849938,-73.03882344436676,-216.82291237831106,103.97188546323777,-62.795259569644855,71.32355906796455,39.57939185142513,22.893108093261702,10.831320070147507,161.30802079009976,135.38156845808032,-365.59691013717713,-8.574992817878751,88.01660316872596,40.51439710354806],\"type\":\"histogram\",\"xaxis\":\"x3\",\"yaxis\":\"y3\"}],                        {\"template\":{\"data\":{\"histogram2dcontour\":[{\"type\":\"histogram2dcontour\",\"colorbar\":{\"outlinewidth\":0,\"ticks\":\"\"},\"colorscale\":[[0.0,\"#0d0887\"],[0.1111111111111111,\"#46039f\"],[0.2222222222222222,\"#7201a8\"],[0.3333333333333333,\"#9c179e\"],[0.4444444444444444,\"#bd3786\"],[0.5555555555555556,\"#d8576b\"],[0.6666666666666666,\"#ed7953\"],[0.7777777777777778,\"#fb9f3a\"],[0.8888888888888888,\"#fdca26\"],[1.0,\"#f0f921\"]]}],\"choropleth\":[{\"type\":\"choropleth\",\"colorbar\":{\"outlinewidth\":0,\"ticks\":\"\"}}],\"histogram2d\":[{\"type\":\"histogram2d\",\"colorbar\":{\"outlinewidth\":0,\"ticks\":\"\"},\"colorscale\":[[0.0,\"#0d0887\"],[0.1111111111111111,\"#46039f\"],[0.2222222222222222,\"#7201a8\"],[0.3333333333333333,\"#9c179e\"],[0.4444444444444444,\"#bd3786\"],[0.5555555555555556,\"#d8576b\"],[0.6666666666666666,\"#ed7953\"],[0.7777777777777778,\"#fb9f3a\"],[0.8888888888888888,\"#fdca26\"],[1.0,\"#f0f921\"]]}],\"heatmap\":[{\"type\":\"heatmap\",\"colorbar\":{\"outlinewidth\":0,\"ticks\":\"\"},\"colorscale\":[[0.0,\"#0d0887\"],[0.1111111111111111,\"#46039f\"],[0.2222222222222222,\"#7201a8\"],[0.3333333333333333,\"#9c179e\"],[0.4444444444444444,\"#bd3786\"],[0.5555555555555556,\"#d8576b\"],[0.6666666666666666,\"#ed7953\"],[0.7777777777777778,\"#fb9f3a\"],[0.8888888888888888,\"#fdca26\"],[1.0,\"#f0f921\"]]}],\"heatmapgl\":[{\"type\":\"heatmapgl\",\"colorbar\":{\"outlinewidth\":0,\"ticks\":\"\"},\"colorscale\":[[0.0,\"#0d0887\"],[0.1111111111111111,\"#46039f\"],[0.2222222222222222,\"#7201a8\"],[0.3333333333333333,\"#9c179e\"],[0.4444444444444444,\"#bd3786\"],[0.5555555555555556,\"#d8576b\"],[0.6666666666666666,\"#ed7953\"],[0.7777777777777778,\"#fb9f3a\"],[0.8888888888888888,\"#fdca26\"],[1.0,\"#f0f921\"]]}],\"contourcarpet\":[{\"type\":\"contourcarpet\",\"colorbar\":{\"outlinewidth\":0,\"ticks\":\"\"}}],\"contour\":[{\"type\":\"contour\",\"colorbar\":{\"outlinewidth\":0,\"ticks\":\"\"},\"colorscale\":[[0.0,\"#0d0887\"],[0.1111111111111111,\"#46039f\"],[0.2222222222222222,\"#7201a8\"],[0.3333333333333333,\"#9c179e\"],[0.4444444444444444,\"#bd3786\"],[0.5555555555555556,\"#d8576b\"],[0.6666666666666666,\"#ed7953\"],[0.7777777777777778,\"#fb9f3a\"],[0.8888888888888888,\"#fdca26\"],[1.0,\"#f0f921\"]]}],\"surface\":[{\"type\":\"surface\",\"colorbar\":{\"outlinewidth\":0,\"ticks\":\"\"},\"colorscale\":[[0.0,\"#0d0887\"],[0.1111111111111111,\"#46039f\"],[0.2222222222222222,\"#7201a8\"],[0.3333333333333333,\"#9c179e\"],[0.4444444444444444,\"#bd3786\"],[0.5555555555555556,\"#d8576b\"],[0.6666666666666666,\"#ed7953\"],[0.7777777777777778,\"#fb9f3a\"],[0.8888888888888888,\"#fdca26\"],[1.0,\"#f0f921\"]]}],\"mesh3d\":[{\"type\":\"mesh3d\",\"colorbar\":{\"outlinewidth\":0,\"ticks\":\"\"}}],\"scatter\":[{\"fillpattern\":{\"fillmode\":\"overlay\",\"size\":10,\"solidity\":0.2},\"type\":\"scatter\"}],\"parcoords\":[{\"type\":\"parcoords\",\"line\":{\"colorbar\":{\"outlinewidth\":0,\"ticks\":\"\"}}}],\"scatterpolargl\":[{\"type\":\"scatterpolargl\",\"marker\":{\"colorbar\":{\"outlinewidth\":0,\"ticks\":\"\"}}}],\"bar\":[{\"error_x\":{\"color\":\"#2a3f5f\"},\"error_y\":{\"color\":\"#2a3f5f\"},\"marker\":{\"line\":{\"color\":\"#E5ECF6\",\"width\":0.5},\"pattern\":{\"fillmode\":\"overlay\",\"size\":10,\"solidity\":0.2}},\"type\":\"bar\"}],\"scattergeo\":[{\"type\":\"scattergeo\",\"marker\":{\"colorbar\":{\"outlinewidth\":0,\"ticks\":\"\"}}}],\"scatterpolar\":[{\"type\":\"scatterpolar\",\"marker\":{\"colorbar\":{\"outlinewidth\":0,\"ticks\":\"\"}}}],\"histogram\":[{\"marker\":{\"pattern\":{\"fillmode\":\"overlay\",\"size\":10,\"solidity\":0.2}},\"type\":\"histogram\"}],\"scattergl\":[{\"type\":\"scattergl\",\"marker\":{\"colorbar\":{\"outlinewidth\":0,\"ticks\":\"\"}}}],\"scatter3d\":[{\"type\":\"scatter3d\",\"line\":{\"colorbar\":{\"outlinewidth\":0,\"ticks\":\"\"}},\"marker\":{\"colorbar\":{\"outlinewidth\":0,\"ticks\":\"\"}}}],\"scattermapbox\":[{\"type\":\"scattermapbox\",\"marker\":{\"colorbar\":{\"outlinewidth\":0,\"ticks\":\"\"}}}],\"scatterternary\":[{\"type\":\"scatterternary\",\"marker\":{\"colorbar\":{\"outlinewidth\":0,\"ticks\":\"\"}}}],\"scattercarpet\":[{\"type\":\"scattercarpet\",\"marker\":{\"colorbar\":{\"outlinewidth\":0,\"ticks\":\"\"}}}],\"carpet\":[{\"aaxis\":{\"endlinecolor\":\"#2a3f5f\",\"gridcolor\":\"white\",\"linecolor\":\"white\",\"minorgridcolor\":\"white\",\"startlinecolor\":\"#2a3f5f\"},\"baxis\":{\"endlinecolor\":\"#2a3f5f\",\"gridcolor\":\"white\",\"linecolor\":\"white\",\"minorgridcolor\":\"white\",\"startlinecolor\":\"#2a3f5f\"},\"type\":\"carpet\"}],\"table\":[{\"cells\":{\"fill\":{\"color\":\"#EBF0F8\"},\"line\":{\"color\":\"white\"}},\"header\":{\"fill\":{\"color\":\"#C8D4E3\"},\"line\":{\"color\":\"white\"}},\"type\":\"table\"}],\"barpolar\":[{\"marker\":{\"line\":{\"color\":\"#E5ECF6\",\"width\":0.5},\"pattern\":{\"fillmode\":\"overlay\",\"size\":10,\"solidity\":0.2}},\"type\":\"barpolar\"}],\"pie\":[{\"automargin\":true,\"type\":\"pie\"}]},\"layout\":{\"autotypenumbers\":\"strict\",\"colorway\":[\"#636efa\",\"#EF553B\",\"#00cc96\",\"#ab63fa\",\"#FFA15A\",\"#19d3f3\",\"#FF6692\",\"#B6E880\",\"#FF97FF\",\"#FECB52\"],\"font\":{\"color\":\"#2a3f5f\"},\"hovermode\":\"closest\",\"hoverlabel\":{\"align\":\"left\"},\"paper_bgcolor\":\"white\",\"plot_bgcolor\":\"#E5ECF6\",\"polar\":{\"bgcolor\":\"#E5ECF6\",\"angularaxis\":{\"gridcolor\":\"white\",\"linecolor\":\"white\",\"ticks\":\"\"},\"radialaxis\":{\"gridcolor\":\"white\",\"linecolor\":\"white\",\"ticks\":\"\"}},\"ternary\":{\"bgcolor\":\"#E5ECF6\",\"aaxis\":{\"gridcolor\":\"white\",\"linecolor\":\"white\",\"ticks\":\"\"},\"baxis\":{\"gridcolor\":\"white\",\"linecolor\":\"white\",\"ticks\":\"\"},\"caxis\":{\"gridcolor\":\"white\",\"linecolor\":\"white\",\"ticks\":\"\"}},\"coloraxis\":{\"colorbar\":{\"outlinewidth\":0,\"ticks\":\"\"}},\"colorscale\":{\"sequential\":[[0.0,\"#0d0887\"],[0.1111111111111111,\"#46039f\"],[0.2222222222222222,\"#7201a8\"],[0.3333333333333333,\"#9c179e\"],[0.4444444444444444,\"#bd3786\"],[0.5555555555555556,\"#d8576b\"],[0.6666666666666666,\"#ed7953\"],[0.7777777777777778,\"#fb9f3a\"],[0.8888888888888888,\"#fdca26\"],[1.0,\"#f0f921\"]],\"sequentialminus\":[[0.0,\"#0d0887\"],[0.1111111111111111,\"#46039f\"],[0.2222222222222222,\"#7201a8\"],[0.3333333333333333,\"#9c179e\"],[0.4444444444444444,\"#bd3786\"],[0.5555555555555556,\"#d8576b\"],[0.6666666666666666,\"#ed7953\"],[0.7777777777777778,\"#fb9f3a\"],[0.8888888888888888,\"#fdca26\"],[1.0,\"#f0f921\"]],\"diverging\":[[0,\"#8e0152\"],[0.1,\"#c51b7d\"],[0.2,\"#de77ae\"],[0.3,\"#f1b6da\"],[0.4,\"#fde0ef\"],[0.5,\"#f7f7f7\"],[0.6,\"#e6f5d0\"],[0.7,\"#b8e186\"],[0.8,\"#7fbc41\"],[0.9,\"#4d9221\"],[1,\"#276419\"]]},\"xaxis\":{\"gridcolor\":\"white\",\"linecolor\":\"white\",\"ticks\":\"\",\"title\":{\"standoff\":15},\"zerolinecolor\":\"white\",\"automargin\":true,\"zerolinewidth\":2},\"yaxis\":{\"gridcolor\":\"white\",\"linecolor\":\"white\",\"ticks\":\"\",\"title\":{\"standoff\":15},\"zerolinecolor\":\"white\",\"automargin\":true,\"zerolinewidth\":2},\"scene\":{\"xaxis\":{\"backgroundcolor\":\"#E5ECF6\",\"gridcolor\":\"white\",\"linecolor\":\"white\",\"showbackground\":true,\"ticks\":\"\",\"zerolinecolor\":\"white\",\"gridwidth\":2},\"yaxis\":{\"backgroundcolor\":\"#E5ECF6\",\"gridcolor\":\"white\",\"linecolor\":\"white\",\"showbackground\":true,\"ticks\":\"\",\"zerolinecolor\":\"white\",\"gridwidth\":2},\"zaxis\":{\"backgroundcolor\":\"#E5ECF6\",\"gridcolor\":\"white\",\"linecolor\":\"white\",\"showbackground\":true,\"ticks\":\"\",\"zerolinecolor\":\"white\",\"gridwidth\":2}},\"shapedefaults\":{\"line\":{\"color\":\"#2a3f5f\"}},\"annotationdefaults\":{\"arrowcolor\":\"#2a3f5f\",\"arrowhead\":0,\"arrowwidth\":1},\"geo\":{\"bgcolor\":\"white\",\"landcolor\":\"#E5ECF6\",\"subunitcolor\":\"white\",\"showland\":true,\"showlakes\":true,\"lakecolor\":\"white\"},\"title\":{\"x\":0.05},\"mapbox\":{\"style\":\"light\"}}},\"xaxis\":{\"anchor\":\"y\",\"domain\":[0.0,0.48999999999999994],\"title\":{\"text\":\"true\"}},\"yaxis\":{\"anchor\":\"x\",\"domain\":[0.0,1.0],\"title\":{\"text\":\"pred\"}},\"xaxis2\":{\"anchor\":\"y2\",\"domain\":[0.6399999999999999,0.7449999999999999],\"title\":{\"text\":\"pred-true\"}},\"yaxis2\":{\"anchor\":\"x2\",\"domain\":[0.0,1.0],\"title\":{\"text\":\"pred\"},\"matches\":\"y\"},\"xaxis3\":{\"anchor\":\"y3\",\"domain\":[0.895,1.0],\"title\":{\"text\":\"freq\"}},\"yaxis3\":{\"anchor\":\"x3\",\"domain\":[0.0,1.0],\"title\":{\"text\":\"pred-true\"}},\"title\":{\"text\":\"('population_cov', 'Drug use disorders', \\\"Alzheimer's disease and other dementias\\\", 'new_deaths_per_million')\"},\"width\":950,\"height\":555},                        {\"responsive\": true}                    ).then(function(){\n                            \nvar gd = document.getElementById('f56d32d3-1405-40e4-b1a0-c6cbb7ffbf91');\nvar x = new MutationObserver(function (mutations, observer) {{\n        var display = window.getComputedStyle(gd).display;\n        if (!display || display === 'none') {{\n            console.log([gd, 'removed!']);\n            Plotly.purge(gd);\n            observer.disconnect();\n        }}\n}});\n\n// Listen for the removal of the full notebook cells\nvar notebookContainer = gd.closest('#notebook-container');\nif (notebookContainer) {{\n    x.observe(notebookContainer, {childList: true});\n}}\n\n// Listen for the clearing of the current output cell\nvar outputEl = gd.closest('.output');\nif (outputEl) {{\n    x.observe(outputEl, {childList: true});\n}}\n\n                        })                };                });            </script>        </div>"
     },
     "metadata": {},
     "output_type": "display_data"
    },
    {
     "data": {
      "text/plain": "NoneType"
     },
     "execution_count": 21,
     "metadata": {},
     "output_type": "execute_result"
    }
   ],
   "source": [
    "type(plot_result(refined_datas_dict, list(refined_datas_dict.keys())[0], plot_along=[\"init\", \"linear\"]))"
   ],
   "metadata": {
    "collapsed": false,
    "pycharm": {
     "name": "#%%\n"
    }
   }
  },
  {
   "cell_type": "code",
   "execution_count": null,
   "outputs": [],
   "source": [],
   "metadata": {
    "collapsed": false,
    "pycharm": {
     "name": "#%%\n"
    }
   }
  },
  {
   "cell_type": "code",
   "execution_count": null,
   "outputs": [],
   "source": [],
   "metadata": {
    "collapsed": false,
    "pycharm": {
     "name": "#%%\n"
    }
   }
  },
  {
   "cell_type": "code",
   "execution_count": null,
   "outputs": [],
   "source": [],
   "metadata": {
    "collapsed": false,
    "pycharm": {
     "name": "#%%\n"
    }
   }
  },
  {
   "cell_type": "code",
   "execution_count": null,
   "outputs": [],
   "source": [],
   "metadata": {
    "collapsed": false,
    "pycharm": {
     "name": "#%%\n"
    }
   }
  },
  {
   "cell_type": "code",
   "execution_count": null,
   "outputs": [],
   "source": [],
   "metadata": {
    "collapsed": false,
    "pycharm": {
     "name": "#%%\n"
    }
   }
  },
  {
   "cell_type": "markdown",
   "source": [
    "##### dev"
   ],
   "metadata": {
    "collapsed": false,
    "pycharm": {
     "name": "#%% md\n"
    }
   }
  },
  {
   "cell_type": "code",
   "execution_count": 30,
   "outputs": [
    {
     "data": {
      "text/plain": "  param_knn__n_neighbors param_scaler  mean_test_score  std_test_score  \\\n0                      8          NaN    -18554.384364     1978.337935   \n1                      8  passthrough    -18646.625315     1810.306212   \n2                     15          NaN    -18818.524746     1665.139713   \n3                      3          NaN    -19415.019339     1162.344417   \n4                     15  passthrough    -19434.520658     1331.769172   \n5                      3  passthrough    -21094.119611     2080.082128   \n\n   mean_train_score  std_train_score  \n0     -15575.073535      1026.865789  \n1     -15955.547648       899.886522  \n2     -16530.761800      1573.972688  \n3     -13959.921735       857.331426  \n4     -16895.525809       942.370402  \n5     -13512.746097       617.201795  ",
      "text/html": "<div>\n<style scoped>\n    .dataframe tbody tr th:only-of-type {\n        vertical-align: middle;\n    }\n\n    .dataframe tbody tr th {\n        vertical-align: top;\n    }\n\n    .dataframe thead th {\n        text-align: right;\n    }\n</style>\n<table border=\"1\" class=\"dataframe\">\n  <thead>\n    <tr style=\"text-align: right;\">\n      <th></th>\n      <th>param_knn__n_neighbors</th>\n      <th>param_scaler</th>\n      <th>mean_test_score</th>\n      <th>std_test_score</th>\n      <th>mean_train_score</th>\n      <th>std_train_score</th>\n    </tr>\n  </thead>\n  <tbody>\n    <tr>\n      <th>0</th>\n      <td>8</td>\n      <td>NaN</td>\n      <td>-18554.384364</td>\n      <td>1978.337935</td>\n      <td>-15575.073535</td>\n      <td>1026.865789</td>\n    </tr>\n    <tr>\n      <th>1</th>\n      <td>8</td>\n      <td>passthrough</td>\n      <td>-18646.625315</td>\n      <td>1810.306212</td>\n      <td>-15955.547648</td>\n      <td>899.886522</td>\n    </tr>\n    <tr>\n      <th>2</th>\n      <td>15</td>\n      <td>NaN</td>\n      <td>-18818.524746</td>\n      <td>1665.139713</td>\n      <td>-16530.761800</td>\n      <td>1573.972688</td>\n    </tr>\n    <tr>\n      <th>3</th>\n      <td>3</td>\n      <td>NaN</td>\n      <td>-19415.019339</td>\n      <td>1162.344417</td>\n      <td>-13959.921735</td>\n      <td>857.331426</td>\n    </tr>\n    <tr>\n      <th>4</th>\n      <td>15</td>\n      <td>passthrough</td>\n      <td>-19434.520658</td>\n      <td>1331.769172</td>\n      <td>-16895.525809</td>\n      <td>942.370402</td>\n    </tr>\n    <tr>\n      <th>5</th>\n      <td>3</td>\n      <td>passthrough</td>\n      <td>-21094.119611</td>\n      <td>2080.082128</td>\n      <td>-13512.746097</td>\n      <td>617.201795</td>\n    </tr>\n  </tbody>\n</table>\n</div>"
     },
     "execution_count": 30,
     "metadata": {},
     "output_type": "execute_result"
    }
   ],
   "source": [
    "tuple_all_scores = pd.DataFrame.from_dict(datas_dict[list(datas_dict.keys())[0]][\"scores\"])[[\"param_knn__n_neighbors\", \"param_scaler\", \"mean_test_score\", \"std_test_score\", \"mean_train_score\", \"std_train_score\"]].sort_values(by=\"mean_test_score\", ascending=False).reset_index(drop=True)#.iloc[0][\"mean_test_score\"]\n",
    "tuple_all_scores"
   ],
   "metadata": {
    "collapsed": false,
    "pycharm": {
     "name": "#%%\n"
    }
   }
  },
  {
   "cell_type": "code",
   "execution_count": 37,
   "outputs": [],
   "source": [
    "tuple_all_scores[\"percent_worse_than_best\"] = (1-(tuple_all_scores.loc[0, \"mean_test_score\"] / tuple_all_scores.loc[0:, \"mean_test_score\"]))*100"
   ],
   "metadata": {
    "collapsed": false,
    "pycharm": {
     "name": "#%%\n"
    }
   }
  },
  {
   "cell_type": "code",
   "execution_count": 38,
   "outputs": [
    {
     "data": {
      "text/plain": "  param_knn__n_neighbors param_scaler  mean_test_score  std_test_score  \\\n0                      8          NaN    -18554.384364     1978.337935   \n1                      8  passthrough    -18646.625315     1810.306212   \n2                     15          NaN    -18818.524746     1665.139713   \n3                      3          NaN    -19415.019339     1162.344417   \n4                     15  passthrough    -19434.520658     1331.769172   \n5                      3  passthrough    -21094.119611     2080.082128   \n\n   mean_train_score  std_train_score  worse_than_best  percent_worse_than_best  \n0     -15575.073535      1026.865789         0.000000                 0.000000  \n1     -15955.547648       899.886522         0.004947                 0.494679  \n2     -16530.761800      1573.972688         0.014036                 1.403619  \n3     -13959.921735       857.331426         0.044328                 4.432831  \n4     -16895.525809       942.370402         0.045287                 4.528727  \n5     -13512.746097       617.201795         0.120400                12.040015  ",
      "text/html": "<div>\n<style scoped>\n    .dataframe tbody tr th:only-of-type {\n        vertical-align: middle;\n    }\n\n    .dataframe tbody tr th {\n        vertical-align: top;\n    }\n\n    .dataframe thead th {\n        text-align: right;\n    }\n</style>\n<table border=\"1\" class=\"dataframe\">\n  <thead>\n    <tr style=\"text-align: right;\">\n      <th></th>\n      <th>param_knn__n_neighbors</th>\n      <th>param_scaler</th>\n      <th>mean_test_score</th>\n      <th>std_test_score</th>\n      <th>mean_train_score</th>\n      <th>std_train_score</th>\n      <th>worse_than_best</th>\n      <th>percent_worse_than_best</th>\n    </tr>\n  </thead>\n  <tbody>\n    <tr>\n      <th>0</th>\n      <td>8</td>\n      <td>NaN</td>\n      <td>-18554.384364</td>\n      <td>1978.337935</td>\n      <td>-15575.073535</td>\n      <td>1026.865789</td>\n      <td>0.000000</td>\n      <td>0.000000</td>\n    </tr>\n    <tr>\n      <th>1</th>\n      <td>8</td>\n      <td>passthrough</td>\n      <td>-18646.625315</td>\n      <td>1810.306212</td>\n      <td>-15955.547648</td>\n      <td>899.886522</td>\n      <td>0.004947</td>\n      <td>0.494679</td>\n    </tr>\n    <tr>\n      <th>2</th>\n      <td>15</td>\n      <td>NaN</td>\n      <td>-18818.524746</td>\n      <td>1665.139713</td>\n      <td>-16530.761800</td>\n      <td>1573.972688</td>\n      <td>0.014036</td>\n      <td>1.403619</td>\n    </tr>\n    <tr>\n      <th>3</th>\n      <td>3</td>\n      <td>NaN</td>\n      <td>-19415.019339</td>\n      <td>1162.344417</td>\n      <td>-13959.921735</td>\n      <td>857.331426</td>\n      <td>0.044328</td>\n      <td>4.432831</td>\n    </tr>\n    <tr>\n      <th>4</th>\n      <td>15</td>\n      <td>passthrough</td>\n      <td>-19434.520658</td>\n      <td>1331.769172</td>\n      <td>-16895.525809</td>\n      <td>942.370402</td>\n      <td>0.045287</td>\n      <td>4.528727</td>\n    </tr>\n    <tr>\n      <th>5</th>\n      <td>3</td>\n      <td>passthrough</td>\n      <td>-21094.119611</td>\n      <td>2080.082128</td>\n      <td>-13512.746097</td>\n      <td>617.201795</td>\n      <td>0.120400</td>\n      <td>12.040015</td>\n    </tr>\n  </tbody>\n</table>\n</div>"
     },
     "execution_count": 38,
     "metadata": {},
     "output_type": "execute_result"
    }
   ],
   "source": [
    "tuple_all_scores"
   ],
   "metadata": {
    "collapsed": false,
    "pycharm": {
     "name": "#%%\n"
    }
   }
  },
  {
   "cell_type": "code",
   "execution_count": null,
   "outputs": [],
   "source": [],
   "metadata": {
    "collapsed": false,
    "pycharm": {
     "name": "#%%\n"
    }
   }
  }
 ],
 "metadata": {
  "kernelspec": {
   "display_name": "Python 3",
   "language": "python",
   "name": "python3"
  },
  "language_info": {
   "codemirror_mode": {
    "name": "ipython",
    "version": 2
   },
   "file_extension": ".py",
   "mimetype": "text/x-python",
   "name": "python",
   "nbconvert_exporter": "python",
   "pygments_lexer": "ipython2",
   "version": "2.7.6"
  }
 },
 "nbformat": 4,
 "nbformat_minor": 0
}