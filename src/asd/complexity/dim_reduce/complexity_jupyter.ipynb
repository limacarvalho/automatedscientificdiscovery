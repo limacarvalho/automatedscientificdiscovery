{
 "cells": [
  {
   "cell_type": "markdown",
   "id": "1776da4f",
   "metadata": {},
   "source": [
    "# COMPLEXITY\n",
    "here we calculate the dimensionality (complexity) of the dataset.\n",
    "\n",
    "## WHAT FOR?\n",
    "- dimension as parameter of the dataset or sub-datasets \n",
    "- compute the optimal dimension for data compression with pca for example.\n",
    "\n",
    "## HOW?\n",
    "- the scaled dataset is reduced to a target dimesnion with 11 optimized functions (pca etc.).\n",
    "- the dimension\n",
    "\n",
    "## STEPS\n",
    "- scale dataset with standart scaling.\n",
    "- calculate target dimension with pca (fast and reliable).\n",
    "- tune hyperparameters of 11 dimensionality reduction functions for a reduced dataset (1) and coose the best optimized functions.\n",
    "- fintune the dimension with this functions on the full size dataset.\n",
    "\n",
    "(1) Some of the functions can be vey slow. Therefore, the nmber of rows of the dataset is reduced to make this step faster. "
   ]
  }
 ],
 "metadata": {
  "kernelspec": {
   "display_name": "Python 3 (ipykernel)",
   "language": "python",
   "name": "python3"
  },
  "language_info": {
   "codemirror_mode": {
    "name": "ipython",
    "version": 3
   },
   "file_extension": ".py",
   "mimetype": "text/x-python",
   "name": "python",
   "nbconvert_exporter": "python",
   "pygments_lexer": "ipython3",
   "version": "3.7.4"
  }
 },
 "nbformat": 4,
 "nbformat_minor": 5
}
