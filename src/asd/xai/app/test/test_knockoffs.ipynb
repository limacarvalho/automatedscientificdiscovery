{
 "cells": [
  {
   "cell_type": "code",
   "execution_count": 1,
   "id": "9c5ed8bd-df98-49a1-a83a-be051260a107",
   "metadata": {},
   "outputs": [],
   "source": [
    "import sys \n",
    "# setting path\n",
    "sys.path.append('../')"
   ]
  },
  {
   "cell_type": "code",
   "execution_count": 2,
   "id": "fbf15592-6652-44f4-8dc2-f1d72acc4c37",
   "metadata": {},
   "outputs": [],
   "source": [
    "%load_ext autoreload\n",
    "%autoreload 2"
   ]
  },
  {
   "cell_type": "code",
   "execution_count": 3,
   "id": "4a07091f-1117-45f3-99ed-d881518fc796",
   "metadata": {},
   "outputs": [],
   "source": [
    "from utils import dasker, config as util_config\n",
    "from ml import KnockoffFilterSim\n",
    "# from helper import consolidate_rejection_results\n",
    "import pandas as pd\n",
    "from sklearn.preprocessing import StandardScaler, OneHotEncoder, LabelEncoder"
   ]
  },
  {
   "cell_type": "code",
   "execution_count": 4,
   "id": "d1eed991-1813-4c28-b1d8-b924e2005041",
   "metadata": {},
   "outputs": [],
   "source": [
    "df = pd.read_csv('./data/20220319_covid_merge.csv', sep=\",\")\n",
    "df = df.rename(columns={\"new_deaths_per_million\": 'y'})"
   ]
  },
  {
   "cell_type": "code",
   "execution_count": 5,
   "id": "baa1ceba-3fcc-46ee-b23a-28feb02231bd",
   "metadata": {},
   "outputs": [],
   "source": [
    "columns=df.columns\n",
    "for f in df.columns:\n",
    "    if df[f].dtype == 'object':\n",
    "        df[f] = LabelEncoder().fit_transform(list(df[f]))   "
   ]
  },
  {
   "cell_type": "code",
   "execution_count": 6,
   "id": "1ef517f8-a487-4aa2-a84f-8f45d808e389",
   "metadata": {},
   "outputs": [],
   "source": [
    "# df_scatter = client.scatter(df)\n",
    "param = {'df': df, 'Sigma': None, 'ksampler': 'gaussian', 'fstat': 'lasso', 'fdr': 0.1}"
   ]
  },
  {
   "cell_type": "code",
   "execution_count": 7,
   "id": "d6f3b880-dd83-4d64-96f8-bb18fe5e66ae",
   "metadata": {},
   "outputs": [],
   "source": [
    "# param"
   ]
  },
  {
   "cell_type": "code",
   "execution_count": 17,
   "id": "23b035c8-b489-44c3-938d-4a8439bfbf29",
   "metadata": {},
   "outputs": [
    {
     "name": "stdout",
     "output_type": "stream",
     "text": [
      "Local dask client created: localhost:8787\n"
     ]
    },
    {
     "name": "stderr",
     "output_type": "stream",
     "text": [
      "2022-08-30 12:10:13,306 - distributed.worker - WARNING - Compute Failed\n",
      "Key:       simmulate-fd12e6ac-52f0-424e-bbb0-981730b68573\n",
      "Function:  execute_task\n",
      "args:      ((<function simmulate at 0x7fed2c77a040>, (<class 'dict'>, [['df',      location  new_cases_per_million  ...     Total  air_polution\n",
      "0           0               4171.944  ...  0.585498      52.99812\n",
      "1           1              92109.327  ...  0.771315      18.45981\n",
      "2           2               5782.052  ...  0.455347      32.91557\n",
      "3           3             473136.492  ...  0.762278       9.51265\n",
      "4           4               2898.709  ...  0.562613      28.02152\n",
      "..        ...                    ...  ...       ...           ...\n",
      "186       186              17289.124  ...  0.627702      22.21524\n",
      "187       187              23856.549  ...  0.648126      20.19471\n",
      "188       188                366.236  ...  0.566672      44.64506\n",
      "189       189              16236.562  ...  0.691580      25.92371\n",
      "190       190              15266.334  ...  0.855611      20.84664\n",
      "\n",
      "[191 rows x 42 columns]], ['Sigma', None], ['ksampler', 'metro'], ['fstat', 'dlasso'], ['fdr', 0.1]]), 2))\n",
      "kwargs:    {}\n",
      "Exception: 'AttributeError(\"\\'KnockoffFilter\\' object has no attribute \\'Ginv\\'\")'\n",
      "\n",
      "2022-08-30 12:10:13,316 - distributed.worker - WARNING - Compute Failed\n",
      "Key:       simmulate-6c21847f-e08f-457c-96af-2f20c6484b35\n",
      "Function:  execute_task\n",
      "args:      ((<function simmulate at 0x7fc09c157040>, (<class 'dict'>, [['df',      location  new_cases_per_million  ...     Total  air_polution\n",
      "0           0               4171.944  ...  0.585498      52.99812\n",
      "1           1              92109.327  ...  0.771315      18.45981\n",
      "2           2               5782.052  ...  0.455347      32.91557\n",
      "3           3             473136.492  ...  0.762278       9.51265\n",
      "4           4               2898.709  ...  0.562613      28.02152\n",
      "..        ...                    ...  ...       ...           ...\n",
      "186       186              17289.124  ...  0.627702      22.21524\n",
      "187       187              23856.549  ...  0.648126      20.19471\n",
      "188       188                366.236  ...  0.566672      44.64506\n",
      "189       189              16236.562  ...  0.691580      25.92371\n",
      "190       190              15266.334  ...  0.855611      20.84664\n",
      "\n",
      "[191 rows x 42 columns]], ['Sigma', None], ['ksampler', 'metro'], ['fstat', 'dlasso'], ['fdr', 0.1]]), 1))\n",
      "kwargs:    {}\n",
      "Exception: 'AttributeError(\"\\'KnockoffFilter\\' object has no attribute \\'Ginv\\'\")'\n",
      "\n"
     ]
    },
    {
     "ename": "AttributeError",
     "evalue": "'KnockoffFilter' object has no attribute 'Ginv'",
     "output_type": "error",
     "traceback": [
      "\u001b[0;31m---------------------------------------------------------------------------\u001b[0m",
      "\u001b[0;31mAttributeError\u001b[0m                            Traceback (most recent call last)",
      "Input \u001b[0;32mIn [17]\u001b[0m, in \u001b[0;36m<cell line: 6>\u001b[0;34m()\u001b[0m\n\u001b[1;32m      3\u001b[0m ks \u001b[38;5;241m=\u001b[39m KnockoffFilterSim(client)\n\u001b[1;32m      5\u001b[0m param[\u001b[38;5;124m'\u001b[39m\u001b[38;5;124mksampler\u001b[39m\u001b[38;5;124m'\u001b[39m] \u001b[38;5;241m=\u001b[39m \u001b[38;5;124m'\u001b[39m\u001b[38;5;124mmetro\u001b[39m\u001b[38;5;124m'\u001b[39m\n\u001b[0;32m----> 6\u001b[0m \u001b[43mks\u001b[49m\u001b[38;5;241;43m.\u001b[39;49m\u001b[43msim_knockoffs\u001b[49m\u001b[43m(\u001b[49m\u001b[43mparam\u001b[49m\u001b[43m,\u001b[49m\u001b[43m \u001b[49m\u001b[38;5;241;43m2\u001b[39;49m\u001b[43m)\u001b[49m\n\u001b[1;32m      7\u001b[0m metro_rejections \u001b[38;5;241m=\u001b[39m ks\u001b[38;5;241m.\u001b[39mrejections\n",
      "File \u001b[0;32m/mnt/c/Users/rwmas/GitHub/xai/xai_api/app/test/../ml/pre_model/knockoff_filter/knockoff_sim.py:133\u001b[0m, in \u001b[0;36mKnockoffFilterSim.sim_knockoffs\u001b[0;34m(self, param, itr)\u001b[0m\n\u001b[1;32m    130\u001b[0m     res \u001b[38;5;241m=\u001b[39m dask\u001b[38;5;241m.\u001b[39mdelayed(simmulate)(param, i)\n\u001b[1;32m    131\u001b[0m     lazy_results\u001b[38;5;241m.\u001b[39mappend(res)\n\u001b[0;32m--> 133\u001b[0m results \u001b[38;5;241m=\u001b[39m \u001b[43mdask\u001b[49m\u001b[38;5;241;43m.\u001b[39;49m\u001b[43mcompute\u001b[49m\u001b[43m(\u001b[49m\u001b[38;5;241;43m*\u001b[39;49m\u001b[43mlazy_results\u001b[49m\u001b[43m)\u001b[49m\n\u001b[1;32m    135\u001b[0m \u001b[38;5;28mself\u001b[39m\u001b[38;5;241m.\u001b[39mrejections \u001b[38;5;241m=\u001b[39m results\n",
      "File \u001b[0;32m~/miniconda3/envs/test/lib/python3.8/site-packages/dask/base.py:600\u001b[0m, in \u001b[0;36mcompute\u001b[0;34m(traverse, optimize_graph, scheduler, get, *args, **kwargs)\u001b[0m\n\u001b[1;32m    597\u001b[0m     keys\u001b[38;5;241m.\u001b[39mappend(x\u001b[38;5;241m.\u001b[39m__dask_keys__())\n\u001b[1;32m    598\u001b[0m     postcomputes\u001b[38;5;241m.\u001b[39mappend(x\u001b[38;5;241m.\u001b[39m__dask_postcompute__())\n\u001b[0;32m--> 600\u001b[0m results \u001b[38;5;241m=\u001b[39m \u001b[43mschedule\u001b[49m\u001b[43m(\u001b[49m\u001b[43mdsk\u001b[49m\u001b[43m,\u001b[49m\u001b[43m \u001b[49m\u001b[43mkeys\u001b[49m\u001b[43m,\u001b[49m\u001b[43m \u001b[49m\u001b[38;5;241;43m*\u001b[39;49m\u001b[38;5;241;43m*\u001b[39;49m\u001b[43mkwargs\u001b[49m\u001b[43m)\u001b[49m\n\u001b[1;32m    601\u001b[0m \u001b[38;5;28;01mreturn\u001b[39;00m repack([f(r, \u001b[38;5;241m*\u001b[39ma) \u001b[38;5;28;01mfor\u001b[39;00m r, (f, a) \u001b[38;5;129;01min\u001b[39;00m \u001b[38;5;28mzip\u001b[39m(results, postcomputes)])\n",
      "File \u001b[0;32m~/miniconda3/envs/test/lib/python3.8/site-packages/distributed/client.py:3036\u001b[0m, in \u001b[0;36mClient.get\u001b[0;34m(self, dsk, keys, workers, allow_other_workers, resources, sync, asynchronous, direct, retries, priority, fifo_timeout, actors, **kwargs)\u001b[0m\n\u001b[1;32m   3034\u001b[0m         should_rejoin \u001b[38;5;241m=\u001b[39m \u001b[38;5;28;01mFalse\u001b[39;00m\n\u001b[1;32m   3035\u001b[0m \u001b[38;5;28;01mtry\u001b[39;00m:\n\u001b[0;32m-> 3036\u001b[0m     results \u001b[38;5;241m=\u001b[39m \u001b[38;5;28;43mself\u001b[39;49m\u001b[38;5;241;43m.\u001b[39;49m\u001b[43mgather\u001b[49m\u001b[43m(\u001b[49m\u001b[43mpacked\u001b[49m\u001b[43m,\u001b[49m\u001b[43m \u001b[49m\u001b[43masynchronous\u001b[49m\u001b[38;5;241;43m=\u001b[39;49m\u001b[43masynchronous\u001b[49m\u001b[43m,\u001b[49m\u001b[43m \u001b[49m\u001b[43mdirect\u001b[49m\u001b[38;5;241;43m=\u001b[39;49m\u001b[43mdirect\u001b[49m\u001b[43m)\u001b[49m\n\u001b[1;32m   3037\u001b[0m \u001b[38;5;28;01mfinally\u001b[39;00m:\n\u001b[1;32m   3038\u001b[0m     \u001b[38;5;28;01mfor\u001b[39;00m f \u001b[38;5;129;01min\u001b[39;00m futures\u001b[38;5;241m.\u001b[39mvalues():\n",
      "File \u001b[0;32m~/miniconda3/envs/test/lib/python3.8/site-packages/distributed/client.py:2210\u001b[0m, in \u001b[0;36mClient.gather\u001b[0;34m(self, futures, errors, direct, asynchronous)\u001b[0m\n\u001b[1;32m   2208\u001b[0m \u001b[38;5;28;01melse\u001b[39;00m:\n\u001b[1;32m   2209\u001b[0m     local_worker \u001b[38;5;241m=\u001b[39m \u001b[38;5;28;01mNone\u001b[39;00m\n\u001b[0;32m-> 2210\u001b[0m \u001b[38;5;28;01mreturn\u001b[39;00m \u001b[38;5;28;43mself\u001b[39;49m\u001b[38;5;241;43m.\u001b[39;49m\u001b[43msync\u001b[49m\u001b[43m(\u001b[49m\n\u001b[1;32m   2211\u001b[0m \u001b[43m    \u001b[49m\u001b[38;5;28;43mself\u001b[39;49m\u001b[38;5;241;43m.\u001b[39;49m\u001b[43m_gather\u001b[49m\u001b[43m,\u001b[49m\n\u001b[1;32m   2212\u001b[0m \u001b[43m    \u001b[49m\u001b[43mfutures\u001b[49m\u001b[43m,\u001b[49m\n\u001b[1;32m   2213\u001b[0m \u001b[43m    \u001b[49m\u001b[43merrors\u001b[49m\u001b[38;5;241;43m=\u001b[39;49m\u001b[43merrors\u001b[49m\u001b[43m,\u001b[49m\n\u001b[1;32m   2214\u001b[0m \u001b[43m    \u001b[49m\u001b[43mdirect\u001b[49m\u001b[38;5;241;43m=\u001b[39;49m\u001b[43mdirect\u001b[49m\u001b[43m,\u001b[49m\n\u001b[1;32m   2215\u001b[0m \u001b[43m    \u001b[49m\u001b[43mlocal_worker\u001b[49m\u001b[38;5;241;43m=\u001b[39;49m\u001b[43mlocal_worker\u001b[49m\u001b[43m,\u001b[49m\n\u001b[1;32m   2216\u001b[0m \u001b[43m    \u001b[49m\u001b[43masynchronous\u001b[49m\u001b[38;5;241;43m=\u001b[39;49m\u001b[43masynchronous\u001b[49m\u001b[43m,\u001b[49m\n\u001b[1;32m   2217\u001b[0m \u001b[43m\u001b[49m\u001b[43m)\u001b[49m\n",
      "File \u001b[0;32m~/miniconda3/envs/test/lib/python3.8/site-packages/distributed/utils.py:338\u001b[0m, in \u001b[0;36mSyncMethodMixin.sync\u001b[0;34m(self, func, asynchronous, callback_timeout, *args, **kwargs)\u001b[0m\n\u001b[1;32m    336\u001b[0m     \u001b[38;5;28;01mreturn\u001b[39;00m future\n\u001b[1;32m    337\u001b[0m \u001b[38;5;28;01melse\u001b[39;00m:\n\u001b[0;32m--> 338\u001b[0m     \u001b[38;5;28;01mreturn\u001b[39;00m \u001b[43msync\u001b[49m\u001b[43m(\u001b[49m\n\u001b[1;32m    339\u001b[0m \u001b[43m        \u001b[49m\u001b[38;5;28;43mself\u001b[39;49m\u001b[38;5;241;43m.\u001b[39;49m\u001b[43mloop\u001b[49m\u001b[43m,\u001b[49m\u001b[43m \u001b[49m\u001b[43mfunc\u001b[49m\u001b[43m,\u001b[49m\u001b[43m \u001b[49m\u001b[38;5;241;43m*\u001b[39;49m\u001b[43margs\u001b[49m\u001b[43m,\u001b[49m\u001b[43m \u001b[49m\u001b[43mcallback_timeout\u001b[49m\u001b[38;5;241;43m=\u001b[39;49m\u001b[43mcallback_timeout\u001b[49m\u001b[43m,\u001b[49m\u001b[43m \u001b[49m\u001b[38;5;241;43m*\u001b[39;49m\u001b[38;5;241;43m*\u001b[39;49m\u001b[43mkwargs\u001b[49m\n\u001b[1;32m    340\u001b[0m \u001b[43m    \u001b[49m\u001b[43m)\u001b[49m\n",
      "File \u001b[0;32m~/miniconda3/envs/test/lib/python3.8/site-packages/distributed/utils.py:405\u001b[0m, in \u001b[0;36msync\u001b[0;34m(loop, func, callback_timeout, *args, **kwargs)\u001b[0m\n\u001b[1;32m    403\u001b[0m \u001b[38;5;28;01mif\u001b[39;00m error:\n\u001b[1;32m    404\u001b[0m     typ, exc, tb \u001b[38;5;241m=\u001b[39m error\n\u001b[0;32m--> 405\u001b[0m     \u001b[38;5;28;01mraise\u001b[39;00m exc\u001b[38;5;241m.\u001b[39mwith_traceback(tb)\n\u001b[1;32m    406\u001b[0m \u001b[38;5;28;01melse\u001b[39;00m:\n\u001b[1;32m    407\u001b[0m     \u001b[38;5;28;01mreturn\u001b[39;00m result\n",
      "File \u001b[0;32m~/miniconda3/envs/test/lib/python3.8/site-packages/distributed/utils.py:378\u001b[0m, in \u001b[0;36msync.<locals>.f\u001b[0;34m()\u001b[0m\n\u001b[1;32m    376\u001b[0m         future \u001b[38;5;241m=\u001b[39m asyncio\u001b[38;5;241m.\u001b[39mwait_for(future, callback_timeout)\n\u001b[1;32m    377\u001b[0m     future \u001b[38;5;241m=\u001b[39m asyncio\u001b[38;5;241m.\u001b[39mensure_future(future)\n\u001b[0;32m--> 378\u001b[0m     result \u001b[38;5;241m=\u001b[39m \u001b[38;5;28;01myield\u001b[39;00m future\n\u001b[1;32m    379\u001b[0m \u001b[38;5;28;01mexcept\u001b[39;00m \u001b[38;5;167;01mException\u001b[39;00m:\n\u001b[1;32m    380\u001b[0m     error \u001b[38;5;241m=\u001b[39m sys\u001b[38;5;241m.\u001b[39mexc_info()\n",
      "File \u001b[0;32m~/miniconda3/envs/test/lib/python3.8/site-packages/tornado/gen.py:762\u001b[0m, in \u001b[0;36mRunner.run\u001b[0;34m(self)\u001b[0m\n\u001b[1;32m    759\u001b[0m exc_info \u001b[38;5;241m=\u001b[39m \u001b[38;5;28;01mNone\u001b[39;00m\n\u001b[1;32m    761\u001b[0m \u001b[38;5;28;01mtry\u001b[39;00m:\n\u001b[0;32m--> 762\u001b[0m     value \u001b[38;5;241m=\u001b[39m \u001b[43mfuture\u001b[49m\u001b[38;5;241;43m.\u001b[39;49m\u001b[43mresult\u001b[49m\u001b[43m(\u001b[49m\u001b[43m)\u001b[49m\n\u001b[1;32m    763\u001b[0m \u001b[38;5;28;01mexcept\u001b[39;00m \u001b[38;5;167;01mException\u001b[39;00m:\n\u001b[1;32m    764\u001b[0m     exc_info \u001b[38;5;241m=\u001b[39m sys\u001b[38;5;241m.\u001b[39mexc_info()\n",
      "File \u001b[0;32m~/miniconda3/envs/test/lib/python3.8/site-packages/distributed/client.py:2073\u001b[0m, in \u001b[0;36mClient._gather\u001b[0;34m(self, futures, errors, direct, local_worker)\u001b[0m\n\u001b[1;32m   2071\u001b[0m         exc \u001b[38;5;241m=\u001b[39m CancelledError(key)\n\u001b[1;32m   2072\u001b[0m     \u001b[38;5;28;01melse\u001b[39;00m:\n\u001b[0;32m-> 2073\u001b[0m         \u001b[38;5;28;01mraise\u001b[39;00m exception\u001b[38;5;241m.\u001b[39mwith_traceback(traceback)\n\u001b[1;32m   2074\u001b[0m     \u001b[38;5;28;01mraise\u001b[39;00m exc\n\u001b[1;32m   2075\u001b[0m \u001b[38;5;28;01mif\u001b[39;00m errors \u001b[38;5;241m==\u001b[39m \u001b[38;5;124m\"\u001b[39m\u001b[38;5;124mskip\u001b[39m\u001b[38;5;124m\"\u001b[39m:\n",
      "File \u001b[0;32m/mnt/c/Users/rwmas/GitHub/xai/xai_api/app/test/../ml/pre_model/knockoff_filter/knockoff_sim.py:95\u001b[0m, in \u001b[0;36msimmulate\u001b[0;34m()\u001b[0m\n\u001b[1;32m     92\u001b[0m     Xk \u001b[38;5;241m=\u001b[39m metrosampler\u001b[38;5;241m.\u001b[39msample_knockoffs()        \n\u001b[1;32m     93\u001b[0m     kfilter \u001b[38;5;241m=\u001b[39m KnockoffFilter(ksampler\u001b[38;5;241m=\u001b[39mmetrosampler, \n\u001b[1;32m     94\u001b[0m                                    fstat\u001b[38;5;241m=\u001b[39mfstat)\n\u001b[0;32m---> 95\u001b[0m     rejections \u001b[38;5;241m=\u001b[39m kfilter\u001b[38;5;241m.\u001b[39mforward(\n\u001b[1;32m     96\u001b[0m             X \u001b[38;5;241m=\u001b[39m X,\n\u001b[1;32m     97\u001b[0m             Xk \u001b[38;5;241m=\u001b[39m Xk,\n\u001b[1;32m     98\u001b[0m             y \u001b[38;5;241m=\u001b[39m y,\n\u001b[1;32m     99\u001b[0m             fdr \u001b[38;5;241m=\u001b[39m fdr)\n\u001b[1;32m    101\u001b[0m i \u001b[38;5;241m=\u001b[39m [index] \u001b[38;5;241m*\u001b[39m \u001b[38;5;28mlen\u001b[39m(rejections)\n\u001b[1;32m    102\u001b[0m \u001b[38;5;28;01mreturn\u001b[39;00m \u001b[38;5;28mlist\u001b[39m(\u001b[38;5;28mzip\u001b[39m(rejections, kfilter\u001b[38;5;241m.\u001b[39mW, i))\n",
      "File \u001b[0;32m~/miniconda3/envs/test/lib/python3.8/site-packages/knockpy/knockoff_filter.py:374\u001b[0m, in \u001b[0;36mforward\u001b[0;34m()\u001b[0m\n\u001b[1;32m    372\u001b[0m \u001b[38;5;28;01mif\u001b[39;00m \u001b[38;5;124m\"\u001b[39m\u001b[38;5;124mdebias\u001b[39m\u001b[38;5;124m\"\u001b[39m \u001b[38;5;129;01min\u001b[39;00m \u001b[38;5;28mself\u001b[39m\u001b[38;5;241m.\u001b[39mfstat_kwargs:\n\u001b[1;32m    373\u001b[0m     \u001b[38;5;28;01mif\u001b[39;00m \u001b[38;5;28mself\u001b[39m\u001b[38;5;241m.\u001b[39mfstat_kwargs[\u001b[38;5;124m\"\u001b[39m\u001b[38;5;124mdebias\u001b[39m\u001b[38;5;124m\"\u001b[39m]:\n\u001b[0;32m--> 374\u001b[0m         \u001b[38;5;28;01mif\u001b[39;00m \u001b[38;5;28mself\u001b[39m\u001b[38;5;241m.\u001b[39mGinv \u001b[38;5;129;01mis\u001b[39;00m \u001b[38;5;28;01mNone\u001b[39;00m:\n\u001b[1;32m    375\u001b[0m             \u001b[38;5;28;01mif\u001b[39;00m \u001b[38;5;28mself\u001b[39m\u001b[38;5;241m.\u001b[39mG \u001b[38;5;129;01mis\u001b[39;00m \u001b[38;5;129;01mnot\u001b[39;00m \u001b[38;5;28;01mNone\u001b[39;00m:\n\u001b[1;32m    376\u001b[0m                 \u001b[38;5;28mself\u001b[39m\u001b[38;5;241m.\u001b[39mGinv \u001b[38;5;241m=\u001b[39m np\u001b[38;5;241m.\u001b[39mlinalg\u001b[38;5;241m.\u001b[39minv(\u001b[38;5;28mself\u001b[39m\u001b[38;5;241m.\u001b[39mG)\n",
      "\u001b[0;31mAttributeError\u001b[0m: 'KnockoffFilter' object has no attribute 'Ginv'"
     ]
    },
    {
     "name": "stderr",
     "output_type": "stream",
     "text": [
      "2022-08-30 12:14:04,790 - distributed.nanny - ERROR - Worker process died unexpectedly\n",
      "2022-08-30 12:14:04,790 - distributed.nanny - ERROR - Worker process died unexpectedly\n",
      "2022-08-30 12:14:04,791 - distributed.nanny - ERROR - Worker process died unexpectedly\n",
      "2022-08-30 12:14:04,791 - distributed.nanny - ERROR - Worker process died unexpectedly\n",
      "2022-08-30 12:14:04,827 - distributed.nanny - WARNING - Restarting worker\n"
     ]
    },
    {
     "name": "stdout",
     "output_type": "stream",
     "text": [
      "metro\n",
      "metro\n"
     ]
    },
    {
     "name": "stderr",
     "output_type": "stream",
     "text": [
      "2022-08-30 12:14:04,831 - distributed.nanny - WARNING - Restarting worker\n",
      "2022-08-30 12:14:04,849 - distributed.nanny - WARNING - Restarting worker\n",
      "2022-08-30 12:14:04,863 - distributed.nanny - WARNING - Restarting worker\n",
      "2022-08-30 12:14:04,942 - distributed.nanny - WARNING - Restarting worker\n",
      "2022-08-30 12:14:04,944 - distributed.nanny - WARNING - Restarting worker\n",
      "2022-08-30 12:14:04,954 - distributed.nanny - WARNING - Restarting worker\n",
      "2022-08-30 12:14:04,965 - distributed.nanny - WARNING - Restarting worker\n",
      "2022-08-30 12:14:05,047 - distributed.nanny - WARNING - Restarting worker\n",
      "2022-08-30 12:14:05,049 - distributed.nanny - WARNING - Restarting worker\n",
      "2022-08-30 12:14:05,060 - distributed.nanny - WARNING - Restarting worker\n",
      "2022-08-30 12:14:05,071 - distributed.nanny - WARNING - Restarting worker\n",
      "2022-08-30 12:14:05,352 - distributed.nanny - WARNING - Restarting worker\n",
      "2022-08-30 12:14:05,355 - distributed.nanny - WARNING - Restarting worker\n",
      "2022-08-30 12:14:05,365 - distributed.nanny - WARNING - Restarting worker\n",
      "2022-08-30 12:14:05,376 - distributed.nanny - WARNING - Restarting worker\n",
      "2022-08-30 12:14:06,364 - distributed.nanny - WARNING - Restarting worker\n",
      "2022-08-30 12:14:06,366 - distributed.nanny - WARNING - Restarting worker\n",
      "2022-08-30 12:14:06,377 - distributed.nanny - WARNING - Restarting worker\n",
      "2022-08-30 12:14:06,380 - distributed.nanny - WARNING - Restarting worker\n",
      "2022-08-30 12:14:06,889 - distributed.diskutils - INFO - Found stale lock file and directory '/tmp/dask-worker-space/worker-sc5a1kyv', purging\n"
     ]
    }
   ],
   "source": [
    "\n",
    "client = dasker.get_dask_client()\n",
    "print(f'Local dask client created: localhost:{util_config.dask_local_scheduler_port}')\n",
    "ks = KnockoffFilterSim(client)\n",
    "\n",
    "param['ksampler'] = 'metro'\n",
    "ks.sim_knockoffs(param, 2)\n",
    "metro_rejections = ks.rejections\n",
    "\n"
   ]
  },
  {
   "cell_type": "code",
   "execution_count": 15,
   "id": "730932e3-9ed9-4c38-a854-f107a967274f",
   "metadata": {},
   "outputs": [
    {
     "name": "stdout",
     "output_type": "stream",
     "text": [
      "g\n",
      "g\n",
      "g\n",
      "g\n",
      "metro\n",
      "g\n",
      "g\n",
      "metro\n",
      "g\n"
     ]
    }
   ],
   "source": [
    "client.shutdown()"
   ]
  },
  {
   "cell_type": "code",
   "execution_count": 29,
   "id": "faef653b-88ff-4e31-864a-a21b8a999a1f",
   "metadata": {},
   "outputs": [],
   "source": [
    "# metro_rejections"
   ]
  },
  {
   "cell_type": "code",
   "execution_count": 13,
   "id": "a0ed2f65-f24e-4bfd-a853-2067e48d7bc2",
   "metadata": {},
   "outputs": [
    {
     "name": "stderr",
     "output_type": "stream",
     "text": [
      "2022-08-30 12:08:06,457 - distributed.worker - WARNING - Compute Failed\n",
      "Key:       simmulate-fc3b3b4d-487c-48cf-b3cd-019e468abac8\n",
      "Function:  execute_task\n",
      "args:      ((<function simmulate at 0x7fc6bc25db80>, (<class 'dict'>, [['df',      location  new_cases_per_million  ...     Total  air_polution\n",
      "0           0               4171.944  ...  0.585498      52.99812\n",
      "1           1              92109.327  ...  0.771315      18.45981\n",
      "2           2               5782.052  ...  0.455347      32.91557\n",
      "3           3             473136.492  ...  0.762278       9.51265\n",
      "4           4               2898.709  ...  0.562613      28.02152\n",
      "..        ...                    ...  ...       ...           ...\n",
      "186       186              17289.124  ...  0.627702      22.21524\n",
      "187       187              23856.549  ...  0.648126      20.19471\n",
      "188       188                366.236  ...  0.566672      44.64506\n",
      "189       189              16236.562  ...  0.691580      25.92371\n",
      "190       190              15266.334  ...  0.855611      20.84664\n",
      "\n",
      "[191 rows x 42 columns]], ['Sigma', None], ['ksampler', 'gaussian'], ['fstat', 'dlasso'], ['fdr', 0.1]]), 1))\n",
      "kwargs:    {}\n",
      "Exception: \"ValueError('operands could not be broadcast together with shapes (82,) (82,191) ')\"\n",
      "\n"
     ]
    },
    {
     "ename": "ValueError",
     "evalue": "operands could not be broadcast together with shapes (82,) (82,191) ",
     "output_type": "error",
     "traceback": [
      "\u001b[0;31m---------------------------------------------------------------------------\u001b[0m",
      "\u001b[0;31mValueError\u001b[0m                                Traceback (most recent call last)",
      "Input \u001b[0;32mIn [13]\u001b[0m, in \u001b[0;36m<cell line: 2>\u001b[0;34m()\u001b[0m\n\u001b[1;32m      1\u001b[0m param[\u001b[38;5;124m'\u001b[39m\u001b[38;5;124mksampler\u001b[39m\u001b[38;5;124m'\u001b[39m] \u001b[38;5;241m=\u001b[39m \u001b[38;5;124m'\u001b[39m\u001b[38;5;124mgaussian\u001b[39m\u001b[38;5;124m'\u001b[39m\n\u001b[0;32m----> 2\u001b[0m \u001b[43mks\u001b[49m\u001b[38;5;241;43m.\u001b[39;49m\u001b[43msim_knockoffs\u001b[49m\u001b[43m(\u001b[49m\u001b[43mparam\u001b[49m\u001b[43m,\u001b[49m\u001b[43m \u001b[49m\u001b[38;5;241;43m2\u001b[39;49m\u001b[43m)\u001b[49m\n\u001b[1;32m      3\u001b[0m gaussian_rejections \u001b[38;5;241m=\u001b[39m ks\u001b[38;5;241m.\u001b[39mrejections\n",
      "File \u001b[0;32m/mnt/c/Users/rwmas/GitHub/xai/xai_api/app/test/../ml/pre_model/knockoff_filter/knockoff_sim.py:133\u001b[0m, in \u001b[0;36mKnockoffFilterSim.sim_knockoffs\u001b[0;34m(self, param, itr)\u001b[0m\n\u001b[1;32m    130\u001b[0m     res \u001b[38;5;241m=\u001b[39m dask\u001b[38;5;241m.\u001b[39mdelayed(simmulate)(param, i)\n\u001b[1;32m    131\u001b[0m     lazy_results\u001b[38;5;241m.\u001b[39mappend(res)\n\u001b[0;32m--> 133\u001b[0m results \u001b[38;5;241m=\u001b[39m \u001b[43mdask\u001b[49m\u001b[38;5;241;43m.\u001b[39;49m\u001b[43mcompute\u001b[49m\u001b[43m(\u001b[49m\u001b[38;5;241;43m*\u001b[39;49m\u001b[43mlazy_results\u001b[49m\u001b[43m)\u001b[49m\n\u001b[1;32m    135\u001b[0m \u001b[38;5;28mself\u001b[39m\u001b[38;5;241m.\u001b[39mrejections \u001b[38;5;241m=\u001b[39m results\n",
      "File \u001b[0;32m~/miniconda3/envs/test/lib/python3.8/site-packages/dask/base.py:600\u001b[0m, in \u001b[0;36mcompute\u001b[0;34m(traverse, optimize_graph, scheduler, get, *args, **kwargs)\u001b[0m\n\u001b[1;32m    597\u001b[0m     keys\u001b[38;5;241m.\u001b[39mappend(x\u001b[38;5;241m.\u001b[39m__dask_keys__())\n\u001b[1;32m    598\u001b[0m     postcomputes\u001b[38;5;241m.\u001b[39mappend(x\u001b[38;5;241m.\u001b[39m__dask_postcompute__())\n\u001b[0;32m--> 600\u001b[0m results \u001b[38;5;241m=\u001b[39m \u001b[43mschedule\u001b[49m\u001b[43m(\u001b[49m\u001b[43mdsk\u001b[49m\u001b[43m,\u001b[49m\u001b[43m \u001b[49m\u001b[43mkeys\u001b[49m\u001b[43m,\u001b[49m\u001b[43m \u001b[49m\u001b[38;5;241;43m*\u001b[39;49m\u001b[38;5;241;43m*\u001b[39;49m\u001b[43mkwargs\u001b[49m\u001b[43m)\u001b[49m\n\u001b[1;32m    601\u001b[0m \u001b[38;5;28;01mreturn\u001b[39;00m repack([f(r, \u001b[38;5;241m*\u001b[39ma) \u001b[38;5;28;01mfor\u001b[39;00m r, (f, a) \u001b[38;5;129;01min\u001b[39;00m \u001b[38;5;28mzip\u001b[39m(results, postcomputes)])\n",
      "File \u001b[0;32m~/miniconda3/envs/test/lib/python3.8/site-packages/distributed/client.py:3036\u001b[0m, in \u001b[0;36mClient.get\u001b[0;34m(self, dsk, keys, workers, allow_other_workers, resources, sync, asynchronous, direct, retries, priority, fifo_timeout, actors, **kwargs)\u001b[0m\n\u001b[1;32m   3034\u001b[0m         should_rejoin \u001b[38;5;241m=\u001b[39m \u001b[38;5;28;01mFalse\u001b[39;00m\n\u001b[1;32m   3035\u001b[0m \u001b[38;5;28;01mtry\u001b[39;00m:\n\u001b[0;32m-> 3036\u001b[0m     results \u001b[38;5;241m=\u001b[39m \u001b[38;5;28;43mself\u001b[39;49m\u001b[38;5;241;43m.\u001b[39;49m\u001b[43mgather\u001b[49m\u001b[43m(\u001b[49m\u001b[43mpacked\u001b[49m\u001b[43m,\u001b[49m\u001b[43m \u001b[49m\u001b[43masynchronous\u001b[49m\u001b[38;5;241;43m=\u001b[39;49m\u001b[43masynchronous\u001b[49m\u001b[43m,\u001b[49m\u001b[43m \u001b[49m\u001b[43mdirect\u001b[49m\u001b[38;5;241;43m=\u001b[39;49m\u001b[43mdirect\u001b[49m\u001b[43m)\u001b[49m\n\u001b[1;32m   3037\u001b[0m \u001b[38;5;28;01mfinally\u001b[39;00m:\n\u001b[1;32m   3038\u001b[0m     \u001b[38;5;28;01mfor\u001b[39;00m f \u001b[38;5;129;01min\u001b[39;00m futures\u001b[38;5;241m.\u001b[39mvalues():\n",
      "File \u001b[0;32m~/miniconda3/envs/test/lib/python3.8/site-packages/distributed/client.py:2210\u001b[0m, in \u001b[0;36mClient.gather\u001b[0;34m(self, futures, errors, direct, asynchronous)\u001b[0m\n\u001b[1;32m   2208\u001b[0m \u001b[38;5;28;01melse\u001b[39;00m:\n\u001b[1;32m   2209\u001b[0m     local_worker \u001b[38;5;241m=\u001b[39m \u001b[38;5;28;01mNone\u001b[39;00m\n\u001b[0;32m-> 2210\u001b[0m \u001b[38;5;28;01mreturn\u001b[39;00m \u001b[38;5;28;43mself\u001b[39;49m\u001b[38;5;241;43m.\u001b[39;49m\u001b[43msync\u001b[49m\u001b[43m(\u001b[49m\n\u001b[1;32m   2211\u001b[0m \u001b[43m    \u001b[49m\u001b[38;5;28;43mself\u001b[39;49m\u001b[38;5;241;43m.\u001b[39;49m\u001b[43m_gather\u001b[49m\u001b[43m,\u001b[49m\n\u001b[1;32m   2212\u001b[0m \u001b[43m    \u001b[49m\u001b[43mfutures\u001b[49m\u001b[43m,\u001b[49m\n\u001b[1;32m   2213\u001b[0m \u001b[43m    \u001b[49m\u001b[43merrors\u001b[49m\u001b[38;5;241;43m=\u001b[39;49m\u001b[43merrors\u001b[49m\u001b[43m,\u001b[49m\n\u001b[1;32m   2214\u001b[0m \u001b[43m    \u001b[49m\u001b[43mdirect\u001b[49m\u001b[38;5;241;43m=\u001b[39;49m\u001b[43mdirect\u001b[49m\u001b[43m,\u001b[49m\n\u001b[1;32m   2215\u001b[0m \u001b[43m    \u001b[49m\u001b[43mlocal_worker\u001b[49m\u001b[38;5;241;43m=\u001b[39;49m\u001b[43mlocal_worker\u001b[49m\u001b[43m,\u001b[49m\n\u001b[1;32m   2216\u001b[0m \u001b[43m    \u001b[49m\u001b[43masynchronous\u001b[49m\u001b[38;5;241;43m=\u001b[39;49m\u001b[43masynchronous\u001b[49m\u001b[43m,\u001b[49m\n\u001b[1;32m   2217\u001b[0m \u001b[43m\u001b[49m\u001b[43m)\u001b[49m\n",
      "File \u001b[0;32m~/miniconda3/envs/test/lib/python3.8/site-packages/distributed/utils.py:338\u001b[0m, in \u001b[0;36mSyncMethodMixin.sync\u001b[0;34m(self, func, asynchronous, callback_timeout, *args, **kwargs)\u001b[0m\n\u001b[1;32m    336\u001b[0m     \u001b[38;5;28;01mreturn\u001b[39;00m future\n\u001b[1;32m    337\u001b[0m \u001b[38;5;28;01melse\u001b[39;00m:\n\u001b[0;32m--> 338\u001b[0m     \u001b[38;5;28;01mreturn\u001b[39;00m \u001b[43msync\u001b[49m\u001b[43m(\u001b[49m\n\u001b[1;32m    339\u001b[0m \u001b[43m        \u001b[49m\u001b[38;5;28;43mself\u001b[39;49m\u001b[38;5;241;43m.\u001b[39;49m\u001b[43mloop\u001b[49m\u001b[43m,\u001b[49m\u001b[43m \u001b[49m\u001b[43mfunc\u001b[49m\u001b[43m,\u001b[49m\u001b[43m \u001b[49m\u001b[38;5;241;43m*\u001b[39;49m\u001b[43margs\u001b[49m\u001b[43m,\u001b[49m\u001b[43m \u001b[49m\u001b[43mcallback_timeout\u001b[49m\u001b[38;5;241;43m=\u001b[39;49m\u001b[43mcallback_timeout\u001b[49m\u001b[43m,\u001b[49m\u001b[43m \u001b[49m\u001b[38;5;241;43m*\u001b[39;49m\u001b[38;5;241;43m*\u001b[39;49m\u001b[43mkwargs\u001b[49m\n\u001b[1;32m    340\u001b[0m \u001b[43m    \u001b[49m\u001b[43m)\u001b[49m\n",
      "File \u001b[0;32m~/miniconda3/envs/test/lib/python3.8/site-packages/distributed/utils.py:405\u001b[0m, in \u001b[0;36msync\u001b[0;34m(loop, func, callback_timeout, *args, **kwargs)\u001b[0m\n\u001b[1;32m    403\u001b[0m \u001b[38;5;28;01mif\u001b[39;00m error:\n\u001b[1;32m    404\u001b[0m     typ, exc, tb \u001b[38;5;241m=\u001b[39m error\n\u001b[0;32m--> 405\u001b[0m     \u001b[38;5;28;01mraise\u001b[39;00m exc\u001b[38;5;241m.\u001b[39mwith_traceback(tb)\n\u001b[1;32m    406\u001b[0m \u001b[38;5;28;01melse\u001b[39;00m:\n\u001b[1;32m    407\u001b[0m     \u001b[38;5;28;01mreturn\u001b[39;00m result\n",
      "File \u001b[0;32m~/miniconda3/envs/test/lib/python3.8/site-packages/distributed/utils.py:378\u001b[0m, in \u001b[0;36msync.<locals>.f\u001b[0;34m()\u001b[0m\n\u001b[1;32m    376\u001b[0m         future \u001b[38;5;241m=\u001b[39m asyncio\u001b[38;5;241m.\u001b[39mwait_for(future, callback_timeout)\n\u001b[1;32m    377\u001b[0m     future \u001b[38;5;241m=\u001b[39m asyncio\u001b[38;5;241m.\u001b[39mensure_future(future)\n\u001b[0;32m--> 378\u001b[0m     result \u001b[38;5;241m=\u001b[39m \u001b[38;5;28;01myield\u001b[39;00m future\n\u001b[1;32m    379\u001b[0m \u001b[38;5;28;01mexcept\u001b[39;00m \u001b[38;5;167;01mException\u001b[39;00m:\n\u001b[1;32m    380\u001b[0m     error \u001b[38;5;241m=\u001b[39m sys\u001b[38;5;241m.\u001b[39mexc_info()\n",
      "File \u001b[0;32m~/miniconda3/envs/test/lib/python3.8/site-packages/tornado/gen.py:762\u001b[0m, in \u001b[0;36mRunner.run\u001b[0;34m(self)\u001b[0m\n\u001b[1;32m    759\u001b[0m exc_info \u001b[38;5;241m=\u001b[39m \u001b[38;5;28;01mNone\u001b[39;00m\n\u001b[1;32m    761\u001b[0m \u001b[38;5;28;01mtry\u001b[39;00m:\n\u001b[0;32m--> 762\u001b[0m     value \u001b[38;5;241m=\u001b[39m \u001b[43mfuture\u001b[49m\u001b[38;5;241;43m.\u001b[39;49m\u001b[43mresult\u001b[49m\u001b[43m(\u001b[49m\u001b[43m)\u001b[49m\n\u001b[1;32m    763\u001b[0m \u001b[38;5;28;01mexcept\u001b[39;00m \u001b[38;5;167;01mException\u001b[39;00m:\n\u001b[1;32m    764\u001b[0m     exc_info \u001b[38;5;241m=\u001b[39m sys\u001b[38;5;241m.\u001b[39mexc_info()\n",
      "File \u001b[0;32m~/miniconda3/envs/test/lib/python3.8/site-packages/distributed/client.py:2073\u001b[0m, in \u001b[0;36mClient._gather\u001b[0;34m(self, futures, errors, direct, local_worker)\u001b[0m\n\u001b[1;32m   2071\u001b[0m         exc \u001b[38;5;241m=\u001b[39m CancelledError(key)\n\u001b[1;32m   2072\u001b[0m     \u001b[38;5;28;01melse\u001b[39;00m:\n\u001b[0;32m-> 2073\u001b[0m         \u001b[38;5;28;01mraise\u001b[39;00m exception\u001b[38;5;241m.\u001b[39mwith_traceback(traceback)\n\u001b[1;32m   2074\u001b[0m     \u001b[38;5;28;01mraise\u001b[39;00m exc\n\u001b[1;32m   2075\u001b[0m \u001b[38;5;28;01mif\u001b[39;00m errors \u001b[38;5;241m==\u001b[39m \u001b[38;5;124m\"\u001b[39m\u001b[38;5;124mskip\u001b[39m\u001b[38;5;124m\"\u001b[39m:\n",
      "File \u001b[0;32m/mnt/c/Users/rwmas/GitHub/xai/xai_api/app/test/../ml/pre_model/knockoff_filter/knockoff_sim.py:70\u001b[0m, in \u001b[0;36msimmulate\u001b[0;34m()\u001b[0m\n\u001b[1;32m     64\u001b[0m     \u001b[38;5;28mprint\u001b[39m(\u001b[38;5;124m'\u001b[39m\u001b[38;5;124mg\u001b[39m\u001b[38;5;124m'\u001b[39m)\n\u001b[1;32m     65\u001b[0m     kfilter \u001b[38;5;241m=\u001b[39m KnockoffFilter(\n\u001b[1;32m     66\u001b[0m         ksampler \u001b[38;5;241m=\u001b[39m ksampler,\n\u001b[1;32m     67\u001b[0m         fstat \u001b[38;5;241m=\u001b[39m fstat,\n\u001b[1;32m     68\u001b[0m     )\n\u001b[0;32m---> 70\u001b[0m     rejections \u001b[38;5;241m=\u001b[39m kfilter\u001b[38;5;241m.\u001b[39mforward(\n\u001b[1;32m     71\u001b[0m         X \u001b[38;5;241m=\u001b[39m X,\n\u001b[1;32m     72\u001b[0m         y \u001b[38;5;241m=\u001b[39m y,\n\u001b[1;32m     73\u001b[0m         Sigma \u001b[38;5;241m=\u001b[39m Sigma,\n\u001b[1;32m     74\u001b[0m         fdr \u001b[38;5;241m=\u001b[39m fdr\n\u001b[1;32m     75\u001b[0m     )\n\u001b[1;32m     77\u001b[0m \u001b[38;5;28;01melse\u001b[39;00m:\n\u001b[1;32m     78\u001b[0m     \u001b[38;5;28mprint\u001b[39m(\u001b[38;5;124m'\u001b[39m\u001b[38;5;124mmetro\u001b[39m\u001b[38;5;124m'\u001b[39m)\n",
      "File \u001b[0;32m~/miniconda3/envs/test/lib/python3.8/site-packages/knockpy/knockoff_filter.py:384\u001b[0m, in \u001b[0;36mforward\u001b[0;34m()\u001b[0m\n\u001b[1;32m    381\u001b[0m         \u001b[38;5;28mself\u001b[39m\u001b[38;5;241m.\u001b[39mfstat_kwargs[\u001b[38;5;124m\"\u001b[39m\u001b[38;5;124mGinv\u001b[39m\u001b[38;5;124m\"\u001b[39m] \u001b[38;5;241m=\u001b[39m \u001b[38;5;28mself\u001b[39m\u001b[38;5;241m.\u001b[39mGinv\n\u001b[1;32m    383\u001b[0m \u001b[38;5;66;03m# Feature statistics\u001b[39;00m\n\u001b[0;32m--> 384\u001b[0m \u001b[38;5;28mself\u001b[39m\u001b[38;5;241m.\u001b[39mfstat\u001b[38;5;241m.\u001b[39mfit(\n\u001b[1;32m    385\u001b[0m     X\u001b[38;5;241m=\u001b[39m\u001b[38;5;28mself\u001b[39m\u001b[38;5;241m.\u001b[39mX, Xk\u001b[38;5;241m=\u001b[39m\u001b[38;5;28mself\u001b[39m\u001b[38;5;241m.\u001b[39mXk, y\u001b[38;5;241m=\u001b[39m\u001b[38;5;28mself\u001b[39m\u001b[38;5;241m.\u001b[39my, groups\u001b[38;5;241m=\u001b[39m\u001b[38;5;28mself\u001b[39m\u001b[38;5;241m.\u001b[39mgroups, \u001b[38;5;241m*\u001b[39m\u001b[38;5;241m*\u001b[39m\u001b[38;5;28mself\u001b[39m\u001b[38;5;241m.\u001b[39mfstat_kwargs\n\u001b[1;32m    386\u001b[0m )\n\u001b[1;32m    387\u001b[0m \u001b[38;5;66;03m# Inherit some attributes\u001b[39;00m\n\u001b[1;32m    388\u001b[0m \u001b[38;5;28mself\u001b[39m\u001b[38;5;241m.\u001b[39mZ \u001b[38;5;241m=\u001b[39m \u001b[38;5;28mself\u001b[39m\u001b[38;5;241m.\u001b[39mfstat\u001b[38;5;241m.\u001b[39mZ\n",
      "File \u001b[0;32m~/miniconda3/envs/test/lib/python3.8/site-packages/knockpy/knockoff_stats.py:1098\u001b[0m, in \u001b[0;36mfit\u001b[0;34m()\u001b[0m\n\u001b[1;32m   1096\u001b[0m         debias_term \u001b[38;5;241m=\u001b[39m np\u001b[38;5;241m.\u001b[39mdot(Ginv, features\u001b[38;5;241m.\u001b[39mT)\n\u001b[1;32m   1097\u001b[0m         debias_term \u001b[38;5;241m=\u001b[39m np\u001b[38;5;241m.\u001b[39mdot(debias_term, y \u001b[38;5;241m-\u001b[39m np\u001b[38;5;241m.\u001b[39mdot(features, Z))\n\u001b[0;32m-> 1098\u001b[0m         Z \u001b[38;5;241m=\u001b[39m Z \u001b[38;5;241m+\u001b[39m debias_term \u001b[38;5;241m/\u001b[39m n\n\u001b[1;32m   1100\u001b[0m \u001b[38;5;66;03m# Save lasso class and reverse inds\u001b[39;00m\n\u001b[1;32m   1101\u001b[0m \u001b[38;5;28mself\u001b[39m\u001b[38;5;241m.\u001b[39mmodel \u001b[38;5;241m=\u001b[39m gl\n",
      "\u001b[0;31mValueError\u001b[0m: operands could not be broadcast together with shapes (82,) (82,191) "
     ]
    },
    {
     "name": "stderr",
     "output_type": "stream",
     "text": [
      "2022-08-30 12:08:06,627 - distributed.worker - WARNING - Compute Failed\n",
      "Key:       simmulate-c8f36e6c-19cf-470c-87e3-24b83562a71b\n",
      "Function:  execute_task\n",
      "args:      ((<function simmulate at 0x7fbf85ea4160>, (<class 'dict'>, [['df',      location  new_cases_per_million  ...     Total  air_polution\n",
      "0           0               4171.944  ...  0.585498      52.99812\n",
      "1           1              92109.327  ...  0.771315      18.45981\n",
      "2           2               5782.052  ...  0.455347      32.91557\n",
      "3           3             473136.492  ...  0.762278       9.51265\n",
      "4           4               2898.709  ...  0.562613      28.02152\n",
      "..        ...                    ...  ...       ...           ...\n",
      "186       186              17289.124  ...  0.627702      22.21524\n",
      "187       187              23856.549  ...  0.648126      20.19471\n",
      "188       188                366.236  ...  0.566672      44.64506\n",
      "189       189              16236.562  ...  0.691580      25.92371\n",
      "190       190              15266.334  ...  0.855611      20.84664\n",
      "\n",
      "[191 rows x 42 columns]], ['Sigma', None], ['ksampler', 'gaussian'], ['fstat', 'dlasso'], ['fdr', 0.1]]), 2))\n",
      "kwargs:    {}\n",
      "Exception: \"ValueError('operands could not be broadcast together with shapes (82,) (82,191) ')\"\n",
      "\n"
     ]
    }
   ],
   "source": [
    "param['ksampler'] = 'gaussian'\n",
    "ks.sim_knockoffs(param, 2)\n",
    "gaussian_rejections = ks.rejections\n"
   ]
  },
  {
   "cell_type": "code",
   "execution_count": 32,
   "id": "592b71e4-7445-4d70-abb2-64e10492682d",
   "metadata": {},
   "outputs": [],
   "source": [
    "# gaussian_rejections"
   ]
  },
  {
   "cell_type": "code",
   "execution_count": 40,
   "id": "95cfa5b2-61f4-47fc-b961-8e1abb116682",
   "metadata": {},
   "outputs": [],
   "source": [
    "rejection_results = []\n",
    "rejection_results.extend(gaussian_rejections)\n",
    "rejection_results.extend(metro_rejections)\n"
   ]
  },
  {
   "cell_type": "code",
   "execution_count": 8,
   "id": "9a33c132-0912-4b30-9174-ca615472f4ec",
   "metadata": {},
   "outputs": [],
   "source": [
    "# rejection_results"
   ]
  },
  {
   "cell_type": "code",
   "execution_count": 39,
   "id": "46f7986b-91e5-404a-875e-7605f80f9404",
   "metadata": {},
   "outputs": [],
   "source": [
    "columns = ['rejections', 'W', 'i']\n",
    "df_results = pd.DataFrame(columns = columns)\n",
    "\n",
    "for result in metro_rejections:\n",
    "    df_res = pd.DataFrame(result, columns = columns)\n",
    "    df_results = pd.concat([df_results, df_res])\n",
    "\n"
   ]
  },
  {
   "cell_type": "code",
   "execution_count": 42,
   "id": "4bfee093-77cd-4ef0-8b5f-4f94bab2d7ed",
   "metadata": {},
   "outputs": [],
   "source": [
    "columns = ['rejections', 'W', 'i']\n",
    "df_results = pd.DataFrame(columns = columns)\n",
    "\n",
    "for result in rejection_results:\n",
    "    df_res = pd.DataFrame(result, columns = columns)\n",
    "    df_results = pd.concat([df_results, df_res])\n",
    "\n"
   ]
  },
  {
   "cell_type": "code",
   "execution_count": 43,
   "id": "89db8b46-97ca-4aec-81c7-972f9ba3e323",
   "metadata": {},
   "outputs": [
    {
     "data": {
      "text/html": [
       "<div>\n",
       "<style scoped>\n",
       "    .dataframe tbody tr th:only-of-type {\n",
       "        vertical-align: middle;\n",
       "    }\n",
       "\n",
       "    .dataframe tbody tr th {\n",
       "        vertical-align: top;\n",
       "    }\n",
       "\n",
       "    .dataframe thead th {\n",
       "        text-align: right;\n",
       "    }\n",
       "</style>\n",
       "<table border=\"1\" class=\"dataframe\">\n",
       "  <thead>\n",
       "    <tr style=\"text-align: right;\">\n",
       "      <th></th>\n",
       "      <th>rejections</th>\n",
       "      <th>W</th>\n",
       "      <th>i</th>\n",
       "    </tr>\n",
       "  </thead>\n",
       "  <tbody>\n",
       "    <tr>\n",
       "      <th>0</th>\n",
       "      <td>0.0</td>\n",
       "      <td>0.104387</td>\n",
       "      <td>1</td>\n",
       "    </tr>\n",
       "    <tr>\n",
       "      <th>1</th>\n",
       "      <td>0.0</td>\n",
       "      <td>0.005003</td>\n",
       "      <td>1</td>\n",
       "    </tr>\n",
       "    <tr>\n",
       "      <th>2</th>\n",
       "      <td>0.0</td>\n",
       "      <td>0.000003</td>\n",
       "      <td>1</td>\n",
       "    </tr>\n",
       "    <tr>\n",
       "      <th>3</th>\n",
       "      <td>0.0</td>\n",
       "      <td>14.418899</td>\n",
       "      <td>1</td>\n",
       "    </tr>\n",
       "    <tr>\n",
       "      <th>4</th>\n",
       "      <td>0.0</td>\n",
       "      <td>-0.000002</td>\n",
       "      <td>1</td>\n",
       "    </tr>\n",
       "    <tr>\n",
       "      <th>...</th>\n",
       "      <td>...</td>\n",
       "      <td>...</td>\n",
       "      <td>...</td>\n",
       "    </tr>\n",
       "    <tr>\n",
       "      <th>36</th>\n",
       "      <td>0.0</td>\n",
       "      <td>-0.000002</td>\n",
       "      <td>2</td>\n",
       "    </tr>\n",
       "    <tr>\n",
       "      <th>37</th>\n",
       "      <td>0.0</td>\n",
       "      <td>3193.263910</td>\n",
       "      <td>2</td>\n",
       "    </tr>\n",
       "    <tr>\n",
       "      <th>38</th>\n",
       "      <td>0.0</td>\n",
       "      <td>0.000000</td>\n",
       "      <td>2</td>\n",
       "    </tr>\n",
       "    <tr>\n",
       "      <th>39</th>\n",
       "      <td>0.0</td>\n",
       "      <td>54.780996</td>\n",
       "      <td>2</td>\n",
       "    </tr>\n",
       "    <tr>\n",
       "      <th>40</th>\n",
       "      <td>0.0</td>\n",
       "      <td>9.313167</td>\n",
       "      <td>2</td>\n",
       "    </tr>\n",
       "  </tbody>\n",
       "</table>\n",
       "<p>164 rows × 3 columns</p>\n",
       "</div>"
      ],
      "text/plain": [
       "    rejections            W  i\n",
       "0          0.0     0.104387  1\n",
       "1          0.0     0.005003  1\n",
       "2          0.0     0.000003  1\n",
       "3          0.0    14.418899  1\n",
       "4          0.0    -0.000002  1\n",
       "..         ...          ... ..\n",
       "36         0.0    -0.000002  2\n",
       "37         0.0  3193.263910  2\n",
       "38         0.0     0.000000  2\n",
       "39         0.0    54.780996  2\n",
       "40         0.0     9.313167  2\n",
       "\n",
       "[164 rows x 3 columns]"
      ]
     },
     "execution_count": 43,
     "metadata": {},
     "output_type": "execute_result"
    }
   ],
   "source": [
    "df_results"
   ]
  },
  {
   "cell_type": "code",
   "execution_count": 55,
   "id": "3f5db3e7-527f-4e1d-81a8-601ea6c24d5e",
   "metadata": {},
   "outputs": [],
   "source": [
    "from ml import wrapper"
   ]
  },
  {
   "cell_type": "code",
   "execution_count": 60,
   "id": "d023ce37-e1ef-4ceb-a01e-cf87772a20fb",
   "metadata": {},
   "outputs": [
    {
     "name": "stdout",
     "output_type": "stream",
     "text": [
      "Local dask client created: localhost:8787\n",
      "running knockoff filter with iteration 100 for  generic metropolized sampler.\n",
      "running knockoff filter with iteration 100 for gaussian sampler.\n"
     ]
    }
   ],
   "source": [
    "resulset =  wrapper.run_knockoffs(param, 100)"
   ]
  },
  {
   "cell_type": "code",
   "execution_count": 8,
   "id": "4c27f698-0d4f-4f0e-95f3-aa31cd776101",
   "metadata": {},
   "outputs": [],
   "source": [
    "from utils import dasker, config as util_config\n",
    "from ml import KnockoffFilterSim, knockoffsettings\n",
    "# from helper import consolidate_rejection_results\n",
    "# from . import helper"
   ]
  },
  {
   "cell_type": "code",
   "execution_count": 9,
   "id": "2c1fc5db-ce61-4e5e-b2bd-3afc6080789b",
   "metadata": {},
   "outputs": [
    {
     "name": "stderr",
     "output_type": "stream",
     "text": [
      "2022-08-30 14:41:29,633 - distributed.nanny - ERROR - Worker process died unexpectedly\n",
      "2022-08-30 14:41:29,633 - distributed.nanny - ERROR - Worker process died unexpectedly\n",
      "2022-08-30 14:41:29,633 - distributed.nanny - ERROR - Worker process died unexpectedly\n",
      "2022-08-30 14:41:29,633 - distributed.nanny - ERROR - Worker process died unexpectedly\n",
      "2022-08-30 14:41:29,661 - distributed.nanny - WARNING - Restarting worker\n",
      "2022-08-30 14:41:29,664 - distributed.nanny - WARNING - Restarting worker\n",
      "2022-08-30 14:41:29,681 - distributed.nanny - WARNING - Restarting worker\n",
      "2022-08-30 14:41:29,686 - distributed.nanny - WARNING - Restarting worker\n",
      "2022-08-30 14:41:29,738 - distributed.nanny - WARNING - Restarting worker\n",
      "2022-08-30 14:41:29,741 - distributed.nanny - WARNING - Restarting worker\n",
      "2022-08-30 14:41:29,744 - distributed.nanny - WARNING - Restarting worker\n",
      "2022-08-30 14:41:29,759 - distributed.nanny - WARNING - Restarting worker\n",
      "2022-08-30 14:41:29,848 - distributed.nanny - WARNING - Restarting worker\n",
      "2022-08-30 14:41:29,851 - distributed.nanny - WARNING - Restarting worker\n",
      "2022-08-30 14:41:29,862 - distributed.nanny - WARNING - Restarting worker\n",
      "2022-08-30 14:41:29,867 - distributed.nanny - WARNING - Restarting worker\n",
      "2022-08-30 14:41:29,953 - distributed.nanny - WARNING - Restarting worker\n",
      "2022-08-30 14:41:29,955 - distributed.nanny - WARNING - Restarting worker\n",
      "2022-08-30 14:41:29,967 - distributed.nanny - WARNING - Restarting worker\n",
      "2022-08-30 14:41:29,976 - distributed.nanny - WARNING - Restarting worker\n",
      "2022-08-30 14:41:30,258 - distributed.nanny - WARNING - Restarting worker\n",
      "2022-08-30 14:41:30,260 - distributed.nanny - WARNING - Restarting worker\n",
      "2022-08-30 14:41:30,263 - distributed.nanny - WARNING - Restarting worker\n",
      "2022-08-30 14:41:30,279 - distributed.nanny - WARNING - Restarting worker\n",
      "2022-08-30 14:41:31,268 - distributed.nanny - WARNING - Restarting worker\n",
      "2022-08-30 14:41:31,270 - distributed.nanny - WARNING - Restarting worker\n",
      "2022-08-30 14:41:31,280 - distributed.nanny - WARNING - Restarting worker\n",
      "2022-08-30 14:41:31,285 - distributed.nanny - WARNING - Restarting worker\n"
     ]
    }
   ],
   "source": [
    "rejection_results = []\n",
    "client = dasker.get_dask_client()\n"
   ]
  },
  {
   "cell_type": "code",
   "execution_count": 12,
   "id": "5a67d267-2f15-4745-9833-589a12cf793b",
   "metadata": {},
   "outputs": [
    {
     "name": "stdout",
     "output_type": "stream",
     "text": [
      "Local dask client created: localhost:8787\n"
     ]
    }
   ],
   "source": [
    "\n",
    "print(f'Local dask client created: localhost:{util_config.dask_local_scheduler_port}')\n",
    "ks = KnockoffFilterSim(client)\n",
    " "
   ]
  },
  {
   "cell_type": "code",
   "execution_count": null,
   "id": "c7528faa-68d6-424c-823f-d6fa0ac54590",
   "metadata": {},
   "outputs": [],
   "source": []
  },
  {
   "cell_type": "code",
   "execution_count": 11,
   "id": "15be4fde-9f67-4c7a-9b1a-630fa6f04431",
   "metadata": {},
   "outputs": [
    {
     "name": "stderr",
     "output_type": "stream",
     "text": [
      "2022-08-30 12:06:57,379 - distributed.worker - WARNING - Compute Failed\n",
      "Key:       simmulate-90286bb7-537d-447a-8f4c-a0e98a9b1a10\n",
      "Function:  execute_task\n",
      "args:      ((<function simmulate at 0x7f119697e0d0>, (<class 'dict'>, [['df',      location  new_cases_per_million  ...     Total  air_polution\n",
      "0           0               4171.944  ...  0.585498      52.99812\n",
      "1           1              92109.327  ...  0.771315      18.45981\n",
      "2           2               5782.052  ...  0.455347      32.91557\n",
      "3           3             473136.492  ...  0.762278       9.51265\n",
      "4           4               2898.709  ...  0.562613      28.02152\n",
      "..        ...                    ...  ...       ...           ...\n",
      "186       186              17289.124  ...  0.627702      22.21524\n",
      "187       187              23856.549  ...  0.648126      20.19471\n",
      "188       188                366.236  ...  0.566672      44.64506\n",
      "189       189              16236.562  ...  0.691580      25.92371\n",
      "190       190              15266.334  ...  0.855611      20.84664\n",
      "\n",
      "[191 rows x 42 columns]], ['Sigma', None], ['ksampler', 'gaussian'], ['fstat', 'dlasso'], ['fdr', 0.1]]), 3))\n",
      "kwargs:    {}\n",
      "Exception: \"ValueError('operands could not be broadcast together with shapes (82,) (82,191) ')\"\n",
      "\n",
      "2022-08-30 12:06:57,379 - distributed.worker - WARNING - Compute Failed\n",
      "Key:       simmulate-08039c23-49f5-41f4-a7b2-939c41ef7973\n",
      "Function:  execute_task\n",
      "args:      ((<function simmulate at 0x7fc6bc25db80>, (<class 'dict'>, [['df',      location  new_cases_per_million  ...     Total  air_polution\n",
      "0           0               4171.944  ...  0.585498      52.99812\n",
      "1           1              92109.327  ...  0.771315      18.45981\n",
      "2           2               5782.052  ...  0.455347      32.91557\n",
      "3           3             473136.492  ...  0.762278       9.51265\n",
      "4           4               2898.709  ...  0.562613      28.02152\n",
      "..        ...                    ...  ...       ...           ...\n",
      "186       186              17289.124  ...  0.627702      22.21524\n",
      "187       187              23856.549  ...  0.648126      20.19471\n",
      "188       188                366.236  ...  0.566672      44.64506\n",
      "189       189              16236.562  ...  0.691580      25.92371\n",
      "190       190              15266.334  ...  0.855611      20.84664\n",
      "\n",
      "[191 rows x 42 columns]], ['Sigma', None], ['ksampler', 'gaussian'], ['fstat', 'dlasso'], ['fdr', 0.1]]), 2))\n",
      "kwargs:    {}\n",
      "Exception: \"ValueError('operands could not be broadcast together with shapes (82,) (82,191) ')\"\n",
      "\n",
      "2022-08-30 12:06:57,392 - distributed.worker - WARNING - Compute Failed\n",
      "Key:       simmulate-b493e640-3402-442c-a62d-d675218dccb5\n",
      "Function:  execute_task\n",
      "args:      ((<function simmulate at 0x7fdcc793a160>, (<class 'dict'>, [['df',      location  new_cases_per_million  ...     Total  air_polution\n",
      "0           0               4171.944  ...  0.585498      52.99812\n",
      "1           1              92109.327  ...  0.771315      18.45981\n",
      "2           2               5782.052  ...  0.455347      32.91557\n",
      "3           3             473136.492  ...  0.762278       9.51265\n",
      "4           4               2898.709  ...  0.562613      28.02152\n",
      "..        ...                    ...  ...       ...           ...\n",
      "186       186              17289.124  ...  0.627702      22.21524\n",
      "187       187              23856.549  ...  0.648126      20.19471\n",
      "188       188                366.236  ...  0.566672      44.64506\n",
      "189       189              16236.562  ...  0.691580      25.92371\n",
      "190       190              15266.334  ...  0.855611      20.84664\n",
      "\n",
      "[191 rows x 42 columns]], ['Sigma', None], ['ksampler', 'gaussian'], ['fstat', 'dlasso'], ['fdr', 0.1]]), 1))\n",
      "kwargs:    {}\n",
      "Exception: \"ValueError('operands could not be broadcast together with shapes (82,) (82,191) ')\"\n",
      "\n"
     ]
    },
    {
     "ename": "ValueError",
     "evalue": "operands could not be broadcast together with shapes (82,) (82,191) ",
     "output_type": "error",
     "traceback": [
      "\u001b[0;31m---------------------------------------------------------------------------\u001b[0m",
      "\u001b[0;31mValueError\u001b[0m                                Traceback (most recent call last)",
      "Input \u001b[0;32mIn [11]\u001b[0m, in \u001b[0;36m<cell line: 1>\u001b[0;34m()\u001b[0m\n\u001b[1;32m      3\u001b[0m \u001b[38;5;28;01mfor\u001b[39;00m fstat \u001b[38;5;129;01min\u001b[39;00m knockoffsettings\u001b[38;5;241m.\u001b[39mFSTATS:\n\u001b[1;32m      4\u001b[0m     param[\u001b[38;5;124m'\u001b[39m\u001b[38;5;124mfstat\u001b[39m\u001b[38;5;124m'\u001b[39m] \u001b[38;5;241m=\u001b[39m fstat\n\u001b[0;32m----> 5\u001b[0m     \u001b[43mks\u001b[49m\u001b[38;5;241;43m.\u001b[39;49m\u001b[43msim_knockoffs\u001b[49m\u001b[43m(\u001b[49m\u001b[43mparam\u001b[49m\u001b[43m,\u001b[49m\u001b[43m \u001b[49m\u001b[38;5;241;43m3\u001b[39;49m\u001b[43m)\u001b[49m\n\u001b[1;32m      6\u001b[0m     rejections_subresult \u001b[38;5;241m=\u001b[39m ks\u001b[38;5;241m.\u001b[39mrejections\n\u001b[1;32m      7\u001b[0m     rejection_results\u001b[38;5;241m.\u001b[39mextend(rejections_subresult)\n",
      "File \u001b[0;32m/mnt/c/Users/rwmas/GitHub/xai/xai_api/app/test/../ml/pre_model/knockoff_filter/knockoff_sim.py:133\u001b[0m, in \u001b[0;36mKnockoffFilterSim.sim_knockoffs\u001b[0;34m(self, param, itr)\u001b[0m\n\u001b[1;32m    130\u001b[0m     res \u001b[38;5;241m=\u001b[39m dask\u001b[38;5;241m.\u001b[39mdelayed(simmulate)(param, i)\n\u001b[1;32m    131\u001b[0m     lazy_results\u001b[38;5;241m.\u001b[39mappend(res)\n\u001b[0;32m--> 133\u001b[0m results \u001b[38;5;241m=\u001b[39m \u001b[43mdask\u001b[49m\u001b[38;5;241;43m.\u001b[39;49m\u001b[43mcompute\u001b[49m\u001b[43m(\u001b[49m\u001b[38;5;241;43m*\u001b[39;49m\u001b[43mlazy_results\u001b[49m\u001b[43m)\u001b[49m\n\u001b[1;32m    135\u001b[0m \u001b[38;5;28mself\u001b[39m\u001b[38;5;241m.\u001b[39mrejections \u001b[38;5;241m=\u001b[39m results\n",
      "File \u001b[0;32m~/miniconda3/envs/test/lib/python3.8/site-packages/dask/base.py:600\u001b[0m, in \u001b[0;36mcompute\u001b[0;34m(traverse, optimize_graph, scheduler, get, *args, **kwargs)\u001b[0m\n\u001b[1;32m    597\u001b[0m     keys\u001b[38;5;241m.\u001b[39mappend(x\u001b[38;5;241m.\u001b[39m__dask_keys__())\n\u001b[1;32m    598\u001b[0m     postcomputes\u001b[38;5;241m.\u001b[39mappend(x\u001b[38;5;241m.\u001b[39m__dask_postcompute__())\n\u001b[0;32m--> 600\u001b[0m results \u001b[38;5;241m=\u001b[39m \u001b[43mschedule\u001b[49m\u001b[43m(\u001b[49m\u001b[43mdsk\u001b[49m\u001b[43m,\u001b[49m\u001b[43m \u001b[49m\u001b[43mkeys\u001b[49m\u001b[43m,\u001b[49m\u001b[43m \u001b[49m\u001b[38;5;241;43m*\u001b[39;49m\u001b[38;5;241;43m*\u001b[39;49m\u001b[43mkwargs\u001b[49m\u001b[43m)\u001b[49m\n\u001b[1;32m    601\u001b[0m \u001b[38;5;28;01mreturn\u001b[39;00m repack([f(r, \u001b[38;5;241m*\u001b[39ma) \u001b[38;5;28;01mfor\u001b[39;00m r, (f, a) \u001b[38;5;129;01min\u001b[39;00m \u001b[38;5;28mzip\u001b[39m(results, postcomputes)])\n",
      "File \u001b[0;32m~/miniconda3/envs/test/lib/python3.8/site-packages/distributed/client.py:3036\u001b[0m, in \u001b[0;36mClient.get\u001b[0;34m(self, dsk, keys, workers, allow_other_workers, resources, sync, asynchronous, direct, retries, priority, fifo_timeout, actors, **kwargs)\u001b[0m\n\u001b[1;32m   3034\u001b[0m         should_rejoin \u001b[38;5;241m=\u001b[39m \u001b[38;5;28;01mFalse\u001b[39;00m\n\u001b[1;32m   3035\u001b[0m \u001b[38;5;28;01mtry\u001b[39;00m:\n\u001b[0;32m-> 3036\u001b[0m     results \u001b[38;5;241m=\u001b[39m \u001b[38;5;28;43mself\u001b[39;49m\u001b[38;5;241;43m.\u001b[39;49m\u001b[43mgather\u001b[49m\u001b[43m(\u001b[49m\u001b[43mpacked\u001b[49m\u001b[43m,\u001b[49m\u001b[43m \u001b[49m\u001b[43masynchronous\u001b[49m\u001b[38;5;241;43m=\u001b[39;49m\u001b[43masynchronous\u001b[49m\u001b[43m,\u001b[49m\u001b[43m \u001b[49m\u001b[43mdirect\u001b[49m\u001b[38;5;241;43m=\u001b[39;49m\u001b[43mdirect\u001b[49m\u001b[43m)\u001b[49m\n\u001b[1;32m   3037\u001b[0m \u001b[38;5;28;01mfinally\u001b[39;00m:\n\u001b[1;32m   3038\u001b[0m     \u001b[38;5;28;01mfor\u001b[39;00m f \u001b[38;5;129;01min\u001b[39;00m futures\u001b[38;5;241m.\u001b[39mvalues():\n",
      "File \u001b[0;32m~/miniconda3/envs/test/lib/python3.8/site-packages/distributed/client.py:2210\u001b[0m, in \u001b[0;36mClient.gather\u001b[0;34m(self, futures, errors, direct, asynchronous)\u001b[0m\n\u001b[1;32m   2208\u001b[0m \u001b[38;5;28;01melse\u001b[39;00m:\n\u001b[1;32m   2209\u001b[0m     local_worker \u001b[38;5;241m=\u001b[39m \u001b[38;5;28;01mNone\u001b[39;00m\n\u001b[0;32m-> 2210\u001b[0m \u001b[38;5;28;01mreturn\u001b[39;00m \u001b[38;5;28;43mself\u001b[39;49m\u001b[38;5;241;43m.\u001b[39;49m\u001b[43msync\u001b[49m\u001b[43m(\u001b[49m\n\u001b[1;32m   2211\u001b[0m \u001b[43m    \u001b[49m\u001b[38;5;28;43mself\u001b[39;49m\u001b[38;5;241;43m.\u001b[39;49m\u001b[43m_gather\u001b[49m\u001b[43m,\u001b[49m\n\u001b[1;32m   2212\u001b[0m \u001b[43m    \u001b[49m\u001b[43mfutures\u001b[49m\u001b[43m,\u001b[49m\n\u001b[1;32m   2213\u001b[0m \u001b[43m    \u001b[49m\u001b[43merrors\u001b[49m\u001b[38;5;241;43m=\u001b[39;49m\u001b[43merrors\u001b[49m\u001b[43m,\u001b[49m\n\u001b[1;32m   2214\u001b[0m \u001b[43m    \u001b[49m\u001b[43mdirect\u001b[49m\u001b[38;5;241;43m=\u001b[39;49m\u001b[43mdirect\u001b[49m\u001b[43m,\u001b[49m\n\u001b[1;32m   2215\u001b[0m \u001b[43m    \u001b[49m\u001b[43mlocal_worker\u001b[49m\u001b[38;5;241;43m=\u001b[39;49m\u001b[43mlocal_worker\u001b[49m\u001b[43m,\u001b[49m\n\u001b[1;32m   2216\u001b[0m \u001b[43m    \u001b[49m\u001b[43masynchronous\u001b[49m\u001b[38;5;241;43m=\u001b[39;49m\u001b[43masynchronous\u001b[49m\u001b[43m,\u001b[49m\n\u001b[1;32m   2217\u001b[0m \u001b[43m\u001b[49m\u001b[43m)\u001b[49m\n",
      "File \u001b[0;32m~/miniconda3/envs/test/lib/python3.8/site-packages/distributed/utils.py:338\u001b[0m, in \u001b[0;36mSyncMethodMixin.sync\u001b[0;34m(self, func, asynchronous, callback_timeout, *args, **kwargs)\u001b[0m\n\u001b[1;32m    336\u001b[0m     \u001b[38;5;28;01mreturn\u001b[39;00m future\n\u001b[1;32m    337\u001b[0m \u001b[38;5;28;01melse\u001b[39;00m:\n\u001b[0;32m--> 338\u001b[0m     \u001b[38;5;28;01mreturn\u001b[39;00m \u001b[43msync\u001b[49m\u001b[43m(\u001b[49m\n\u001b[1;32m    339\u001b[0m \u001b[43m        \u001b[49m\u001b[38;5;28;43mself\u001b[39;49m\u001b[38;5;241;43m.\u001b[39;49m\u001b[43mloop\u001b[49m\u001b[43m,\u001b[49m\u001b[43m \u001b[49m\u001b[43mfunc\u001b[49m\u001b[43m,\u001b[49m\u001b[43m \u001b[49m\u001b[38;5;241;43m*\u001b[39;49m\u001b[43margs\u001b[49m\u001b[43m,\u001b[49m\u001b[43m \u001b[49m\u001b[43mcallback_timeout\u001b[49m\u001b[38;5;241;43m=\u001b[39;49m\u001b[43mcallback_timeout\u001b[49m\u001b[43m,\u001b[49m\u001b[43m \u001b[49m\u001b[38;5;241;43m*\u001b[39;49m\u001b[38;5;241;43m*\u001b[39;49m\u001b[43mkwargs\u001b[49m\n\u001b[1;32m    340\u001b[0m \u001b[43m    \u001b[49m\u001b[43m)\u001b[49m\n",
      "File \u001b[0;32m~/miniconda3/envs/test/lib/python3.8/site-packages/distributed/utils.py:405\u001b[0m, in \u001b[0;36msync\u001b[0;34m(loop, func, callback_timeout, *args, **kwargs)\u001b[0m\n\u001b[1;32m    403\u001b[0m \u001b[38;5;28;01mif\u001b[39;00m error:\n\u001b[1;32m    404\u001b[0m     typ, exc, tb \u001b[38;5;241m=\u001b[39m error\n\u001b[0;32m--> 405\u001b[0m     \u001b[38;5;28;01mraise\u001b[39;00m exc\u001b[38;5;241m.\u001b[39mwith_traceback(tb)\n\u001b[1;32m    406\u001b[0m \u001b[38;5;28;01melse\u001b[39;00m:\n\u001b[1;32m    407\u001b[0m     \u001b[38;5;28;01mreturn\u001b[39;00m result\n",
      "File \u001b[0;32m~/miniconda3/envs/test/lib/python3.8/site-packages/distributed/utils.py:378\u001b[0m, in \u001b[0;36msync.<locals>.f\u001b[0;34m()\u001b[0m\n\u001b[1;32m    376\u001b[0m         future \u001b[38;5;241m=\u001b[39m asyncio\u001b[38;5;241m.\u001b[39mwait_for(future, callback_timeout)\n\u001b[1;32m    377\u001b[0m     future \u001b[38;5;241m=\u001b[39m asyncio\u001b[38;5;241m.\u001b[39mensure_future(future)\n\u001b[0;32m--> 378\u001b[0m     result \u001b[38;5;241m=\u001b[39m \u001b[38;5;28;01myield\u001b[39;00m future\n\u001b[1;32m    379\u001b[0m \u001b[38;5;28;01mexcept\u001b[39;00m \u001b[38;5;167;01mException\u001b[39;00m:\n\u001b[1;32m    380\u001b[0m     error \u001b[38;5;241m=\u001b[39m sys\u001b[38;5;241m.\u001b[39mexc_info()\n",
      "File \u001b[0;32m~/miniconda3/envs/test/lib/python3.8/site-packages/tornado/gen.py:762\u001b[0m, in \u001b[0;36mRunner.run\u001b[0;34m(self)\u001b[0m\n\u001b[1;32m    759\u001b[0m exc_info \u001b[38;5;241m=\u001b[39m \u001b[38;5;28;01mNone\u001b[39;00m\n\u001b[1;32m    761\u001b[0m \u001b[38;5;28;01mtry\u001b[39;00m:\n\u001b[0;32m--> 762\u001b[0m     value \u001b[38;5;241m=\u001b[39m \u001b[43mfuture\u001b[49m\u001b[38;5;241;43m.\u001b[39;49m\u001b[43mresult\u001b[49m\u001b[43m(\u001b[49m\u001b[43m)\u001b[49m\n\u001b[1;32m    763\u001b[0m \u001b[38;5;28;01mexcept\u001b[39;00m \u001b[38;5;167;01mException\u001b[39;00m:\n\u001b[1;32m    764\u001b[0m     exc_info \u001b[38;5;241m=\u001b[39m sys\u001b[38;5;241m.\u001b[39mexc_info()\n",
      "File \u001b[0;32m~/miniconda3/envs/test/lib/python3.8/site-packages/distributed/client.py:2073\u001b[0m, in \u001b[0;36mClient._gather\u001b[0;34m(self, futures, errors, direct, local_worker)\u001b[0m\n\u001b[1;32m   2071\u001b[0m         exc \u001b[38;5;241m=\u001b[39m CancelledError(key)\n\u001b[1;32m   2072\u001b[0m     \u001b[38;5;28;01melse\u001b[39;00m:\n\u001b[0;32m-> 2073\u001b[0m         \u001b[38;5;28;01mraise\u001b[39;00m exception\u001b[38;5;241m.\u001b[39mwith_traceback(traceback)\n\u001b[1;32m   2074\u001b[0m     \u001b[38;5;28;01mraise\u001b[39;00m exc\n\u001b[1;32m   2075\u001b[0m \u001b[38;5;28;01mif\u001b[39;00m errors \u001b[38;5;241m==\u001b[39m \u001b[38;5;124m\"\u001b[39m\u001b[38;5;124mskip\u001b[39m\u001b[38;5;124m\"\u001b[39m:\n",
      "File \u001b[0;32m/mnt/c/Users/rwmas/GitHub/xai/xai_api/app/test/../ml/pre_model/knockoff_filter/knockoff_sim.py:70\u001b[0m, in \u001b[0;36msimmulate\u001b[0;34m()\u001b[0m\n\u001b[1;32m     64\u001b[0m     \u001b[38;5;28mprint\u001b[39m(\u001b[38;5;124m'\u001b[39m\u001b[38;5;124mg\u001b[39m\u001b[38;5;124m'\u001b[39m)\n\u001b[1;32m     65\u001b[0m     kfilter \u001b[38;5;241m=\u001b[39m KnockoffFilter(\n\u001b[1;32m     66\u001b[0m         ksampler \u001b[38;5;241m=\u001b[39m ksampler,\n\u001b[1;32m     67\u001b[0m         fstat \u001b[38;5;241m=\u001b[39m fstat,\n\u001b[1;32m     68\u001b[0m     )\n\u001b[0;32m---> 70\u001b[0m     rejections \u001b[38;5;241m=\u001b[39m kfilter\u001b[38;5;241m.\u001b[39mforward(\n\u001b[1;32m     71\u001b[0m         X \u001b[38;5;241m=\u001b[39m X,\n\u001b[1;32m     72\u001b[0m         y \u001b[38;5;241m=\u001b[39m y,\n\u001b[1;32m     73\u001b[0m         Sigma \u001b[38;5;241m=\u001b[39m Sigma,\n\u001b[1;32m     74\u001b[0m         fdr \u001b[38;5;241m=\u001b[39m fdr\n\u001b[1;32m     75\u001b[0m     )\n\u001b[1;32m     77\u001b[0m \u001b[38;5;28;01melse\u001b[39;00m:\n\u001b[1;32m     78\u001b[0m     \u001b[38;5;28mprint\u001b[39m(\u001b[38;5;124m'\u001b[39m\u001b[38;5;124mmetro\u001b[39m\u001b[38;5;124m'\u001b[39m)\n",
      "File \u001b[0;32m~/miniconda3/envs/test/lib/python3.8/site-packages/knockpy/knockoff_filter.py:384\u001b[0m, in \u001b[0;36mforward\u001b[0;34m()\u001b[0m\n\u001b[1;32m    381\u001b[0m         \u001b[38;5;28mself\u001b[39m\u001b[38;5;241m.\u001b[39mfstat_kwargs[\u001b[38;5;124m\"\u001b[39m\u001b[38;5;124mGinv\u001b[39m\u001b[38;5;124m\"\u001b[39m] \u001b[38;5;241m=\u001b[39m \u001b[38;5;28mself\u001b[39m\u001b[38;5;241m.\u001b[39mGinv\n\u001b[1;32m    383\u001b[0m \u001b[38;5;66;03m# Feature statistics\u001b[39;00m\n\u001b[0;32m--> 384\u001b[0m \u001b[38;5;28mself\u001b[39m\u001b[38;5;241m.\u001b[39mfstat\u001b[38;5;241m.\u001b[39mfit(\n\u001b[1;32m    385\u001b[0m     X\u001b[38;5;241m=\u001b[39m\u001b[38;5;28mself\u001b[39m\u001b[38;5;241m.\u001b[39mX, Xk\u001b[38;5;241m=\u001b[39m\u001b[38;5;28mself\u001b[39m\u001b[38;5;241m.\u001b[39mXk, y\u001b[38;5;241m=\u001b[39m\u001b[38;5;28mself\u001b[39m\u001b[38;5;241m.\u001b[39my, groups\u001b[38;5;241m=\u001b[39m\u001b[38;5;28mself\u001b[39m\u001b[38;5;241m.\u001b[39mgroups, \u001b[38;5;241m*\u001b[39m\u001b[38;5;241m*\u001b[39m\u001b[38;5;28mself\u001b[39m\u001b[38;5;241m.\u001b[39mfstat_kwargs\n\u001b[1;32m    386\u001b[0m )\n\u001b[1;32m    387\u001b[0m \u001b[38;5;66;03m# Inherit some attributes\u001b[39;00m\n\u001b[1;32m    388\u001b[0m \u001b[38;5;28mself\u001b[39m\u001b[38;5;241m.\u001b[39mZ \u001b[38;5;241m=\u001b[39m \u001b[38;5;28mself\u001b[39m\u001b[38;5;241m.\u001b[39mfstat\u001b[38;5;241m.\u001b[39mZ\n",
      "File \u001b[0;32m~/miniconda3/envs/test/lib/python3.8/site-packages/knockpy/knockoff_stats.py:1098\u001b[0m, in \u001b[0;36mfit\u001b[0;34m()\u001b[0m\n\u001b[1;32m   1096\u001b[0m         debias_term \u001b[38;5;241m=\u001b[39m np\u001b[38;5;241m.\u001b[39mdot(Ginv, features\u001b[38;5;241m.\u001b[39mT)\n\u001b[1;32m   1097\u001b[0m         debias_term \u001b[38;5;241m=\u001b[39m np\u001b[38;5;241m.\u001b[39mdot(debias_term, y \u001b[38;5;241m-\u001b[39m np\u001b[38;5;241m.\u001b[39mdot(features, Z))\n\u001b[0;32m-> 1098\u001b[0m         Z \u001b[38;5;241m=\u001b[39m Z \u001b[38;5;241m+\u001b[39m debias_term \u001b[38;5;241m/\u001b[39m n\n\u001b[1;32m   1100\u001b[0m \u001b[38;5;66;03m# Save lasso class and reverse inds\u001b[39;00m\n\u001b[1;32m   1101\u001b[0m \u001b[38;5;28mself\u001b[39m\u001b[38;5;241m.\u001b[39mmodel \u001b[38;5;241m=\u001b[39m gl\n",
      "\u001b[0;31mValueError\u001b[0m: operands could not be broadcast together with shapes (82,) (82,191) "
     ]
    }
   ],
   "source": [
    "\n",
    "for ksmapler in knockoffsettings.KSAMPLER:\n",
    "    param['ksampler'] = ksmapler\n",
    "    for fstat in knockoffsettings.FSTATS:\n",
    "        param['fstat'] = fstat\n",
    "        ks.sim_knockoffs(param, 3)\n",
    "        rejections_subresult = ks.rejections\n",
    "        rejection_results.extend(rejections_subresult)       "
   ]
  },
  {
   "cell_type": "code",
   "execution_count": null,
   "id": "179de3d5-4b07-4dd8-bf52-1969fe9f76f3",
   "metadata": {},
   "outputs": [],
   "source": [
    "\n",
    "param['ksampler'] = 'metro'\n",
    "print(f'running knockoff filter with iteration { itr} for  generic metropolized sampler.')\n",
    "ks.sim_knockoffs(param, itr)\n",
    "metro_rejections = ks.rejections\n",
    "\n",
    "\n",
    "param['ksampler'] = 'gaussian'\n",
    "print(f'running knockoff filter with iteration { itr} for gaussian sampler.')\n",
    "ks.sim_knockoffs(param, itr)\n",
    "gaussian_rejections = ks.rejections\n",
    "\n",
    "\n",
    "rejection_results.extend(gaussian_rejections)\n",
    "rejection_results.extend(metro_rejections)"
   ]
  }
 ],
 "metadata": {
  "kernelspec": {
   "display_name": "Python 3 (ipykernel)",
   "language": "python",
   "name": "python3"
  },
  "language_info": {
   "codemirror_mode": {
    "name": "ipython",
    "version": 3
   },
   "file_extension": ".py",
   "mimetype": "text/x-python",
   "name": "python",
   "nbconvert_exporter": "python",
   "pygments_lexer": "ipython3",
   "version": "3.9.7"
  }
 },
 "nbformat": 4,
 "nbformat_minor": 5
}
