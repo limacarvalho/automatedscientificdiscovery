{
 "cells": [
  {
   "cell_type": "code",
   "execution_count": 1,
   "metadata": {},
   "outputs": [],
   "source": [
    "%load_ext autoreload\n",
    "%autoreload 2"
   ]
  },
  {
   "cell_type": "code",
   "execution_count": 2,
   "metadata": {},
   "outputs": [],
   "source": [
    "import sys; sys.path.insert(0, '..') # add parent folder path where lib folder is"
   ]
  },
  {
   "cell_type": "code",
   "execution_count": 3,
   "metadata": {},
   "outputs": [],
   "source": [
    "\n",
    "from dask_ml.model_selection import train_test_split\n",
    "import dask.array as da\n",
    "import numpy as np\n",
    "from utils import dasker, config as util_config\n",
    "from dask_ml.preprocessing import StandardScaler"
   ]
  },
  {
   "cell_type": "code",
   "execution_count": 5,
   "metadata": {},
   "outputs": [],
   "source": [
    "\n",
    "client = dasker.get_dask_client()\n",
    "\n",
    "\n",
    "# X and y must be Dask dataframes or arrays\n",
    "num_obs = 1e5\n",
    "num_features = 20\n",
    "X = da.random.random(size=(num_obs, num_features), chunks=(1000, num_features))\n",
    "y = da.random.random(size=(num_obs, 1), chunks=(1000, 1))\n",
    "\n",
    "\n"
   ]
  },
  {
   "cell_type": "code",
   "execution_count": 6,
   "metadata": {},
   "outputs": [],
   "source": [
    "X = StandardScaler().fit_transform(X)\n",
    "\n",
    "X_train, X_test, y_train, y_test = train_test_split(X, y, random_state=0, shuffle=True)"
   ]
  },
  {
   "cell_type": "code",
   "execution_count": 7,
   "metadata": {},
   "outputs": [
    {
     "data": {
      "text/plain": [
       "20"
      ]
     },
     "execution_count": 7,
     "metadata": {},
     "output_type": "execute_result"
    }
   ],
   "source": [
    "X_train.shape[1]"
   ]
  },
  {
   "cell_type": "code",
   "execution_count": 12,
   "metadata": {},
   "outputs": [],
   "source": [
    "from keras import models, layers\n",
    "model = models.Sequential()\n",
    "model.add(layers.Dense(1, activation='linear', input_shape=(X_train.shape[1],)))\n",
    "\n",
    "model.compile(optimizer='sgd',\n",
    "              loss='mse',\n",
    "              metrics=['mse'])"
   ]
  },
  {
   "cell_type": "code",
   "execution_count": 16,
   "metadata": {},
   "outputs": [],
   "source": [
    "from keras.utils import Sequence\n",
    "\n",
    "class DaskGenerator(Sequence):\n",
    "    def __init__(self, samples, classes):\n",
    "        '''Initialize a generator of samples and classes for training'''\n",
    "        self.sample_batches = samples.to_delayed()\n",
    "        self.class_batches = classes.to_delayed()\n",
    "        \n",
    "        assert len(self.sample_batches) == len(self.class_batches), 'lengths of samples and classes do not match'\n",
    "        assert self.sample_batches.shape[1] == 1, 'all columns should be in each chunk'\n",
    "    \n",
    "    def __len__(self):\n",
    "        '''Total number of batches, equivalent to Dask chunks in 0th dimension'''\n",
    "        return len(self.sample_batches)\n",
    "        \n",
    "    def __getitem__(self, idx):\n",
    "        '''Extract and compute a single batch returned as (X, y)'''\n",
    "        return self.sample_batches[idx,0].compute(),  self.class_batches[idx].compute()\n",
    "\n",
    "train_gen = DaskGenerator(X_train, y_train)\n",
    "test_gen = DaskGenerator(X_test, y_test)"
   ]
  },
  {
   "cell_type": "code",
   "execution_count": 15,
   "metadata": {},
   "outputs": [
    {
     "name": "stdout",
     "output_type": "stream",
     "text": [
      "Epoch 1/10\n",
      "3125/3125 [==============================] - 443s 141ms/step - loss: 0.1032 - mse: 0.1032\n",
      "Epoch 2/10\n",
      "3125/3125 [==============================] - 453s 145ms/step - loss: 0.0837 - mse: 0.0837\n",
      "Epoch 3/10\n",
      "3125/3125 [==============================] - 419s 134ms/step - loss: 0.0837 - mse: 0.0837\n",
      "Epoch 4/10\n",
      "3125/3125 [==============================] - 387s 124ms/step - loss: 0.0837 - mse: 0.0837\n",
      "Epoch 5/10\n",
      "3125/3125 [==============================] - 353s 113ms/step - loss: 0.0837 - mse: 0.0837\n",
      "Epoch 6/10\n",
      "2176/3125 [===================>..........] - ETA: 1:46 - loss: 0.0838 - mse: 0.0838"
     ]
    },
    {
     "name": "stderr",
     "output_type": "stream",
     "text": [
      "2022-09-10 13:30:22,464 - distributed.utils_perf - WARNING - full garbage collections took 10% CPU time recently (threshold: 10%)\n"
     ]
    },
    {
     "name": "stdout",
     "output_type": "stream",
     "text": [
      "2213/3125 [====================>.........] - ETA: 1:42 - loss: 0.0838 - mse: 0.0838"
     ]
    },
    {
     "name": "stderr",
     "output_type": "stream",
     "text": [
      "2022-09-10 13:30:26,875 - distributed.utils_perf - WARNING - full garbage collections took 10% CPU time recently (threshold: 10%)\n"
     ]
    },
    {
     "name": "stdout",
     "output_type": "stream",
     "text": [
      "2254/3125 [====================>.........] - ETA: 1:38 - loss: 0.0838 - mse: 0.0838"
     ]
    },
    {
     "name": "stderr",
     "output_type": "stream",
     "text": [
      "2022-09-10 13:30:31,523 - distributed.utils_perf - WARNING - full garbage collections took 10% CPU time recently (threshold: 10%)\n"
     ]
    },
    {
     "name": "stdout",
     "output_type": "stream",
     "text": [
      "3125/3125 [==============================] - 353s 113ms/step - loss: 0.0838 - mse: 0.0838\n",
      "Epoch 7/10\n",
      "1785/3125 [================>.............] - ETA: 2:28 - loss: 0.0837 - mse: 0.0837"
     ]
    },
    {
     "name": "stderr",
     "output_type": "stream",
     "text": [
      "2022-09-10 13:35:28,227 - distributed.utils_perf - WARNING - full garbage collections took 10% CPU time recently (threshold: 10%)\n"
     ]
    },
    {
     "name": "stdout",
     "output_type": "stream",
     "text": [
      "1833/3125 [================>.............] - ETA: 2:22 - loss: 0.0837 - mse: 0.0837"
     ]
    },
    {
     "name": "stderr",
     "output_type": "stream",
     "text": [
      "2022-09-10 13:35:32,712 - distributed.utils_perf - WARNING - full garbage collections took 10% CPU time recently (threshold: 10%)\n"
     ]
    },
    {
     "name": "stdout",
     "output_type": "stream",
     "text": [
      "1873/3125 [================>.............] - ETA: 2:18 - loss: 0.0837 - mse: 0.0837"
     ]
    },
    {
     "name": "stderr",
     "output_type": "stream",
     "text": [
      "2022-09-10 13:35:37,427 - distributed.utils_perf - WARNING - full garbage collections took 10% CPU time recently (threshold: 10%)\n"
     ]
    },
    {
     "name": "stdout",
     "output_type": "stream",
     "text": [
      "1913/3125 [=================>............] - ETA: 2:14 - loss: 0.0837 - mse: 0.0837"
     ]
    },
    {
     "name": "stderr",
     "output_type": "stream",
     "text": [
      "2022-09-10 13:35:41,883 - distributed.utils_perf - WARNING - full garbage collections took 10% CPU time recently (threshold: 10%)\n"
     ]
    },
    {
     "name": "stdout",
     "output_type": "stream",
     "text": [
      "1956/3125 [=================>............] - ETA: 2:09 - loss: 0.0837 - mse: 0.0837"
     ]
    },
    {
     "name": "stderr",
     "output_type": "stream",
     "text": [
      "2022-09-10 13:35:46,521 - distributed.utils_perf - WARNING - full garbage collections took 10% CPU time recently (threshold: 10%)\n"
     ]
    },
    {
     "name": "stdout",
     "output_type": "stream",
     "text": [
      "1998/3125 [==================>...........] - ETA: 2:04 - loss: 0.0836 - mse: 0.0836"
     ]
    },
    {
     "name": "stderr",
     "output_type": "stream",
     "text": [
      "2022-09-10 13:35:51,243 - distributed.utils_perf - WARNING - full garbage collections took 10% CPU time recently (threshold: 10%)\n"
     ]
    },
    {
     "name": "stdout",
     "output_type": "stream",
     "text": [
      "2036/3125 [==================>...........] - ETA: 2:00 - loss: 0.0836 - mse: 0.0836"
     ]
    },
    {
     "name": "stderr",
     "output_type": "stream",
     "text": [
      "2022-09-10 13:35:55,618 - distributed.utils_perf - WARNING - full garbage collections took 10% CPU time recently (threshold: 10%)\n"
     ]
    },
    {
     "name": "stdout",
     "output_type": "stream",
     "text": [
      "2079/3125 [==================>...........] - ETA: 1:55 - loss: 0.0835 - mse: 0.0835"
     ]
    },
    {
     "name": "stderr",
     "output_type": "stream",
     "text": [
      "2022-09-10 13:36:00,118 - distributed.utils_perf - WARNING - full garbage collections took 10% CPU time recently (threshold: 10%)\n"
     ]
    },
    {
     "name": "stdout",
     "output_type": "stream",
     "text": [
      "2416/3125 [======================>.......] - ETA: 1:18 - loss: 0.0836 - mse: 0.0836"
     ]
    },
    {
     "name": "stderr",
     "output_type": "stream",
     "text": [
      "2022-09-10 13:36:37,354 - distributed.utils_perf - WARNING - full garbage collections took 10% CPU time recently (threshold: 10%)\n"
     ]
    },
    {
     "name": "stdout",
     "output_type": "stream",
     "text": [
      "2455/3125 [======================>.......] - ETA: 1:14 - loss: 0.0836 - mse: 0.0836"
     ]
    },
    {
     "name": "stderr",
     "output_type": "stream",
     "text": [
      "2022-09-10 13:36:42,139 - distributed.utils_perf - WARNING - full garbage collections took 10% CPU time recently (threshold: 10%)\n"
     ]
    },
    {
     "name": "stdout",
     "output_type": "stream",
     "text": [
      "2585/3125 [=======================>......] - ETA: 59s - loss: 0.0837 - mse: 0.0837 "
     ]
    },
    {
     "name": "stderr",
     "output_type": "stream",
     "text": [
      "2022-09-10 13:36:55,951 - distributed.utils_perf - WARNING - full garbage collections took 10% CPU time recently (threshold: 10%)\n"
     ]
    },
    {
     "name": "stdout",
     "output_type": "stream",
     "text": [
      "2629/3125 [========================>.....] - ETA: 54s - loss: 0.0836 - mse: 0.0836"
     ]
    },
    {
     "name": "stderr",
     "output_type": "stream",
     "text": [
      "2022-09-10 13:37:01,230 - distributed.utils_perf - WARNING - full garbage collections took 10% CPU time recently (threshold: 10%)\n"
     ]
    },
    {
     "name": "stdout",
     "output_type": "stream",
     "text": [
      "2668/3125 [========================>.....] - ETA: 50s - loss: 0.0836 - mse: 0.0836"
     ]
    },
    {
     "name": "stderr",
     "output_type": "stream",
     "text": [
      "2022-09-10 13:37:05,999 - distributed.utils_perf - WARNING - full garbage collections took 10% CPU time recently (threshold: 10%)\n"
     ]
    },
    {
     "name": "stdout",
     "output_type": "stream",
     "text": [
      "2711/3125 [=========================>....] - ETA: 45s - loss: 0.0836 - mse: 0.0836"
     ]
    },
    {
     "name": "stderr",
     "output_type": "stream",
     "text": [
      "2022-09-10 13:37:10,450 - distributed.utils_perf - WARNING - full garbage collections took 10% CPU time recently (threshold: 10%)\n"
     ]
    },
    {
     "name": "stdout",
     "output_type": "stream",
     "text": [
      "2750/3125 [=========================>....] - ETA: 41s - loss: 0.0837 - mse: 0.0837"
     ]
    },
    {
     "name": "stderr",
     "output_type": "stream",
     "text": [
      "2022-09-10 13:37:14,906 - distributed.utils_perf - WARNING - full garbage collections took 10% CPU time recently (threshold: 10%)\n"
     ]
    },
    {
     "name": "stdout",
     "output_type": "stream",
     "text": [
      "2790/3125 [=========================>....] - ETA: 37s - loss: 0.0837 - mse: 0.0837"
     ]
    },
    {
     "name": "stderr",
     "output_type": "stream",
     "text": [
      "2022-09-10 13:37:19,500 - distributed.utils_perf - WARNING - full garbage collections took 10% CPU time recently (threshold: 10%)\n"
     ]
    },
    {
     "name": "stdout",
     "output_type": "stream",
     "text": [
      "2960/3125 [===========================>..] - ETA: 18s - loss: 0.0837 - mse: 0.0837"
     ]
    },
    {
     "name": "stderr",
     "output_type": "stream",
     "text": [
      "2022-09-10 13:37:38,642 - distributed.utils_perf - WARNING - full garbage collections took 10% CPU time recently (threshold: 10%)\n"
     ]
    },
    {
     "name": "stdout",
     "output_type": "stream",
     "text": [
      "3003/3125 [===========================>..] - ETA: 13s - loss: 0.0838 - mse: 0.0838"
     ]
    },
    {
     "name": "stderr",
     "output_type": "stream",
     "text": [
      "2022-09-10 13:37:43,662 - distributed.utils_perf - WARNING - full garbage collections took 10% CPU time recently (threshold: 10%)\n"
     ]
    },
    {
     "name": "stdout",
     "output_type": "stream",
     "text": [
      "3045/3125 [============================>.] - ETA: 8s - loss: 0.0838 - mse: 0.0838"
     ]
    },
    {
     "name": "stderr",
     "output_type": "stream",
     "text": [
      "2022-09-10 13:37:48,224 - distributed.utils_perf - WARNING - full garbage collections took 10% CPU time recently (threshold: 10%)\n"
     ]
    },
    {
     "name": "stdout",
     "output_type": "stream",
     "text": [
      "3093/3125 [============================>.] - ETA: 3s - loss: 0.0838 - mse: 0.0838"
     ]
    },
    {
     "name": "stderr",
     "output_type": "stream",
     "text": [
      "2022-09-10 13:37:52,551 - distributed.utils_perf - WARNING - full garbage collections took 10% CPU time recently (threshold: 10%)\n"
     ]
    },
    {
     "name": "stdout",
     "output_type": "stream",
     "text": [
      "3125/3125 [==============================] - 346s 111ms/step - loss: 0.0837 - mse: 0.0837\n",
      "Epoch 8/10\n",
      "   6/3125 [..............................] - ETA: 2:33 - loss: 0.0879 - mse: 0.0879"
     ]
    },
    {
     "name": "stderr",
     "output_type": "stream",
     "text": [
      "2022-09-10 13:37:57,301 - distributed.utils_perf - WARNING - full garbage collections took 10% CPU time recently (threshold: 10%)\n"
     ]
    },
    {
     "name": "stdout",
     "output_type": "stream",
     "text": [
      "  53/3125 [..............................] - ETA: 5:58 - loss: 0.0827 - mse: 0.0827"
     ]
    },
    {
     "name": "stderr",
     "output_type": "stream",
     "text": [
      "2022-09-10 13:38:02,690 - distributed.utils_perf - WARNING - full garbage collections took 10% CPU time recently (threshold: 10%)\n"
     ]
    },
    {
     "name": "stdout",
     "output_type": "stream",
     "text": [
      "  96/3125 [..............................] - ETA: 5:46 - loss: 0.0811 - mse: 0.0811"
     ]
    },
    {
     "name": "stderr",
     "output_type": "stream",
     "text": [
      "2022-09-10 13:38:07,016 - distributed.utils_perf - WARNING - full garbage collections took 10% CPU time recently (threshold: 10%)\n"
     ]
    },
    {
     "name": "stdout",
     "output_type": "stream",
     "text": [
      "3125/3125 [==============================] - 347s 111ms/step - loss: 0.0837 - mse: 0.0837\n",
      "Epoch 9/10\n",
      "2123/3125 [===================>..........] - ETA: 1:50 - loss: 0.0838 - mse: 0.0838"
     ]
    },
    {
     "name": "stderr",
     "output_type": "stream",
     "text": [
      "2022-09-10 13:47:38,372 - distributed.utils_perf - WARNING - full garbage collections took 10% CPU time recently (threshold: 10%)\n"
     ]
    },
    {
     "name": "stdout",
     "output_type": "stream",
     "text": [
      "2164/3125 [===================>..........] - ETA: 1:46 - loss: 0.0838 - mse: 0.0838"
     ]
    },
    {
     "name": "stderr",
     "output_type": "stream",
     "text": [
      "2022-09-10 13:47:42,963 - distributed.utils_perf - WARNING - full garbage collections took 10% CPU time recently (threshold: 10%)\n"
     ]
    },
    {
     "name": "stdout",
     "output_type": "stream",
     "text": [
      "2201/3125 [====================>.........] - ETA: 1:42 - loss: 0.0838 - mse: 0.0838"
     ]
    },
    {
     "name": "stderr",
     "output_type": "stream",
     "text": [
      "2022-09-10 13:47:48,123 - distributed.utils_perf - WARNING - full garbage collections took 10% CPU time recently (threshold: 10%)\n"
     ]
    },
    {
     "name": "stdout",
     "output_type": "stream",
     "text": [
      "2250/3125 [====================>.........] - ETA: 1:37 - loss: 0.0838 - mse: 0.0838"
     ]
    },
    {
     "name": "stderr",
     "output_type": "stream",
     "text": [
      "2022-09-10 13:47:52,707 - distributed.utils_perf - WARNING - full garbage collections took 10% CPU time recently (threshold: 10%)\n"
     ]
    },
    {
     "name": "stdout",
     "output_type": "stream",
     "text": [
      "2286/3125 [====================>.........] - ETA: 1:33 - loss: 0.0838 - mse: 0.0838"
     ]
    },
    {
     "name": "stderr",
     "output_type": "stream",
     "text": [
      "2022-09-10 13:47:57,060 - distributed.utils_perf - WARNING - full garbage collections took 10% CPU time recently (threshold: 10%)\n"
     ]
    },
    {
     "name": "stdout",
     "output_type": "stream",
     "text": [
      "2333/3125 [=====================>........] - ETA: 1:27 - loss: 0.0838 - mse: 0.0838"
     ]
    },
    {
     "name": "stderr",
     "output_type": "stream",
     "text": [
      "2022-09-10 13:48:02,097 - distributed.utils_perf - WARNING - full garbage collections took 10% CPU time recently (threshold: 10%)\n"
     ]
    },
    {
     "name": "stdout",
     "output_type": "stream",
     "text": [
      "2375/3125 [=====================>........] - ETA: 1:23 - loss: 0.0838 - mse: 0.0838"
     ]
    },
    {
     "name": "stderr",
     "output_type": "stream",
     "text": [
      "2022-09-10 13:48:07,038 - distributed.utils_perf - WARNING - full garbage collections took 10% CPU time recently (threshold: 10%)\n"
     ]
    },
    {
     "name": "stdout",
     "output_type": "stream",
     "text": [
      "2414/3125 [======================>.......] - ETA: 1:19 - loss: 0.0837 - mse: 0.0837"
     ]
    },
    {
     "name": "stderr",
     "output_type": "stream",
     "text": [
      "2022-09-10 13:48:11,827 - distributed.utils_perf - WARNING - full garbage collections took 10% CPU time recently (threshold: 10%)\n"
     ]
    },
    {
     "name": "stdout",
     "output_type": "stream",
     "text": [
      "2457/3125 [======================>.......] - ETA: 1:14 - loss: 0.0838 - mse: 0.0838"
     ]
    },
    {
     "name": "stderr",
     "output_type": "stream",
     "text": [
      "2022-09-10 13:48:16,467 - distributed.utils_perf - WARNING - full garbage collections took 10% CPU time recently (threshold: 10%)\n"
     ]
    },
    {
     "name": "stdout",
     "output_type": "stream",
     "text": [
      "2587/3125 [=======================>......] - ETA: 59s - loss: 0.0838 - mse: 0.0838"
     ]
    },
    {
     "name": "stderr",
     "output_type": "stream",
     "text": [
      "2022-09-10 13:48:30,580 - distributed.utils_perf - WARNING - full garbage collections took 10% CPU time recently (threshold: 10%)\n"
     ]
    },
    {
     "name": "stdout",
     "output_type": "stream",
     "text": [
      "2626/3125 [========================>.....] - ETA: 55s - loss: 0.0838 - mse: 0.0838"
     ]
    },
    {
     "name": "stderr",
     "output_type": "stream",
     "text": [
      "2022-09-10 13:48:35,316 - distributed.utils_perf - WARNING - full garbage collections took 10% CPU time recently (threshold: 10%)\n"
     ]
    },
    {
     "name": "stdout",
     "output_type": "stream",
     "text": [
      "2673/3125 [========================>.....] - ETA: 50s - loss: 0.0838 - mse: 0.0838"
     ]
    },
    {
     "name": "stderr",
     "output_type": "stream",
     "text": [
      "2022-09-10 13:48:39,617 - distributed.utils_perf - WARNING - full garbage collections took 10% CPU time recently (threshold: 10%)\n"
     ]
    },
    {
     "name": "stdout",
     "output_type": "stream",
     "text": [
      "2715/3125 [=========================>....] - ETA: 45s - loss: 0.0838 - mse: 0.0838"
     ]
    },
    {
     "name": "stderr",
     "output_type": "stream",
     "text": [
      "2022-09-10 13:48:44,274 - distributed.utils_perf - WARNING - full garbage collections took 10% CPU time recently (threshold: 10%)\n"
     ]
    },
    {
     "name": "stdout",
     "output_type": "stream",
     "text": [
      "2754/3125 [=========================>....] - ETA: 41s - loss: 0.0838 - mse: 0.0838"
     ]
    },
    {
     "name": "stderr",
     "output_type": "stream",
     "text": [
      "2022-09-10 13:48:49,317 - distributed.utils_perf - WARNING - full garbage collections took 10% CPU time recently (threshold: 10%)\n"
     ]
    },
    {
     "name": "stdout",
     "output_type": "stream",
     "text": [
      "2797/3125 [=========================>....] - ETA: 36s - loss: 0.0838 - mse: 0.0838"
     ]
    },
    {
     "name": "stderr",
     "output_type": "stream",
     "text": [
      "2022-09-10 13:48:54,047 - distributed.utils_perf - WARNING - full garbage collections took 10% CPU time recently (threshold: 10%)\n"
     ]
    },
    {
     "name": "stdout",
     "output_type": "stream",
     "text": [
      "2841/3125 [==========================>...] - ETA: 31s - loss: 0.0838 - mse: 0.0838"
     ]
    },
    {
     "name": "stderr",
     "output_type": "stream",
     "text": [
      "2022-09-10 13:48:58,670 - distributed.utils_perf - WARNING - full garbage collections took 10% CPU time recently (threshold: 10%)\n"
     ]
    },
    {
     "name": "stdout",
     "output_type": "stream",
     "text": [
      "2887/3125 [==========================>...] - ETA: 26s - loss: 0.0837 - mse: 0.0837"
     ]
    },
    {
     "name": "stderr",
     "output_type": "stream",
     "text": [
      "2022-09-10 13:49:03,340 - distributed.utils_perf - WARNING - full garbage collections took 10% CPU time recently (threshold: 10%)\n"
     ]
    },
    {
     "name": "stdout",
     "output_type": "stream",
     "text": [
      "2925/3125 [===========================>..] - ETA: 22s - loss: 0.0837 - mse: 0.0837"
     ]
    },
    {
     "name": "stderr",
     "output_type": "stream",
     "text": [
      "2022-09-10 13:49:08,502 - distributed.utils_perf - WARNING - full garbage collections took 10% CPU time recently (threshold: 10%)\n"
     ]
    },
    {
     "name": "stdout",
     "output_type": "stream",
     "text": [
      "2966/3125 [===========================>..] - ETA: 17s - loss: 0.0838 - mse: 0.0838"
     ]
    },
    {
     "name": "stderr",
     "output_type": "stream",
     "text": [
      "2022-09-10 13:49:13,179 - distributed.utils_perf - WARNING - full garbage collections took 10% CPU time recently (threshold: 10%)\n"
     ]
    },
    {
     "name": "stdout",
     "output_type": "stream",
     "text": [
      "3059/3125 [============================>.] - ETA: 7s - loss: 0.0837 - mse: 0.0837"
     ]
    },
    {
     "name": "stderr",
     "output_type": "stream",
     "text": [
      "2022-09-10 13:49:22,981 - distributed.utils_perf - WARNING - full garbage collections took 10% CPU time recently (threshold: 10%)\n"
     ]
    },
    {
     "name": "stdout",
     "output_type": "stream",
     "text": [
      "3099/3125 [============================>.] - ETA: 2s - loss: 0.0837 - mse: 0.0837"
     ]
    },
    {
     "name": "stderr",
     "output_type": "stream",
     "text": [
      "2022-09-10 13:49:28,061 - distributed.utils_perf - WARNING - full garbage collections took 10% CPU time recently (threshold: 10%)\n"
     ]
    },
    {
     "name": "stdout",
     "output_type": "stream",
     "text": [
      "3125/3125 [==============================] - 347s 111ms/step - loss: 0.0837 - mse: 0.0837\n",
      "Epoch 10/10\n",
      "  18/3125 [..............................] - ETA: 4:29 - loss: 0.0852 - mse: 0.0852"
     ]
    },
    {
     "name": "stderr",
     "output_type": "stream",
     "text": [
      "2022-09-10 13:49:32,760 - distributed.utils_perf - WARNING - full garbage collections took 10% CPU time recently (threshold: 10%)\n"
     ]
    },
    {
     "name": "stdout",
     "output_type": "stream",
     "text": [
      "1940/3125 [=================>............] - ETA: 2:13 - loss: 0.0837 - mse: 0.0837"
     ]
    },
    {
     "name": "stderr",
     "output_type": "stream",
     "text": [
      "2022-09-10 13:53:09,853 - distributed.utils_perf - WARNING - full garbage collections took 10% CPU time recently (threshold: 10%)\n"
     ]
    },
    {
     "name": "stdout",
     "output_type": "stream",
     "text": [
      "1983/3125 [==================>...........] - ETA: 2:08 - loss: 0.0837 - mse: 0.0837"
     ]
    },
    {
     "name": "stderr",
     "output_type": "stream",
     "text": [
      "2022-09-10 13:53:14,544 - distributed.utils_perf - WARNING - full garbage collections took 10% CPU time recently (threshold: 10%)\n"
     ]
    },
    {
     "name": "stdout",
     "output_type": "stream",
     "text": [
      "2029/3125 [==================>...........] - ETA: 2:03 - loss: 0.0838 - mse: 0.0838"
     ]
    },
    {
     "name": "stderr",
     "output_type": "stream",
     "text": [
      "2022-09-10 13:53:19,321 - distributed.utils_perf - WARNING - full garbage collections took 10% CPU time recently (threshold: 10%)\n"
     ]
    },
    {
     "name": "stdout",
     "output_type": "stream",
     "text": [
      "3125/3125 [==============================] - 351s 112ms/step - loss: 0.0838 - mse: 0.0838\n"
     ]
    }
   ],
   "source": [
    "history = model.fit(X, y, \n",
    "                              #validation_data=test_gen,\n",
    "                              \n",
    "                              epochs=10,\n",
    "                              \n",
    "                              # use_multiprocessing=False,\n",
    "                              # Not working for me; causes core dumps\n",
    "                              #use_multiprocessing=True,\n",
    "                              #workers=16,\n",
    "                              #max_queue_size=5,\n",
    "                              \n",
    "                              verbose=1)"
   ]
  },
  {
   "cell_type": "code",
   "execution_count": 16,
   "metadata": {},
   "outputs": [
    {
     "name": "stderr",
     "output_type": "stream",
     "text": [
      "[autoreload of scipy.sparse.linalg._isolve.iterative failed: Traceback (most recent call last):\n",
      "  File \"/home/vagrant/miniconda3/envs/test/lib/python3.8/site-packages/IPython/extensions/autoreload.py\", line 257, in check\n",
      "    superreload(m, reload, self.old_objects)\n",
      "  File \"/home/vagrant/miniconda3/envs/test/lib/python3.8/site-packages/IPython/extensions/autoreload.py\", line 455, in superreload\n",
      "    module = reload(module)\n",
      "  File \"/home/vagrant/miniconda3/envs/test/lib/python3.8/importlib/__init__.py\", line 169, in reload\n",
      "    _bootstrap._exec(spec, module)\n",
      "  File \"<frozen importlib._bootstrap>\", line 604, in _exec\n",
      "  File \"<frozen importlib._bootstrap_external>\", line 843, in exec_module\n",
      "  File \"<frozen importlib._bootstrap>\", line 219, in _call_with_frames_removed\n",
      "  File \"/home/vagrant/miniconda3/envs/test/lib/python3.8/site-packages/scipy/sparse/linalg/_isolve/iterative.py\", line 150, in <module>\n",
      "    def bicg(A, b, x0=None, tol=1e-5, maxiter=None, M=None, callback=None, atol=None):\n",
      "  File \"/home/vagrant/miniconda3/envs/test/lib/python3.8/site-packages/scipy/_lib/_threadsafety.py\", line 57, in decorator\n",
      "    return lock.decorate(func)\n",
      "  File \"/home/vagrant/miniconda3/envs/test/lib/python3.8/site-packages/scipy/_lib/_threadsafety.py\", line 45, in decorate\n",
      "    return scipy._lib.decorator.decorate(func, caller)\n",
      "AttributeError: module 'scipy' has no attribute '_lib'\n",
      "]\n",
      "[autoreload of scipy.linalg.lapack failed: Traceback (most recent call last):\n",
      "  File \"/home/vagrant/miniconda3/envs/test/lib/python3.8/site-packages/IPython/extensions/autoreload.py\", line 257, in check\n",
      "    superreload(m, reload, self.old_objects)\n",
      "  File \"/home/vagrant/miniconda3/envs/test/lib/python3.8/site-packages/IPython/extensions/autoreload.py\", line 455, in superreload\n",
      "    module = reload(module)\n",
      "  File \"/home/vagrant/miniconda3/envs/test/lib/python3.8/importlib/__init__.py\", line 169, in reload\n",
      "    _bootstrap._exec(spec, module)\n",
      "  File \"<frozen importlib._bootstrap>\", line 604, in _exec\n",
      "  File \"<frozen importlib._bootstrap_external>\", line 843, in exec_module\n",
      "  File \"<frozen importlib._bootstrap>\", line 219, in _call_with_frames_removed\n",
      "  File \"/home/vagrant/miniconda3/envs/test/lib/python3.8/site-packages/scipy/linalg/lapack.py\", line 849, in <module>\n",
      "    cgegv = _np.deprecate(cgegv, old_name='cgegv', message=_dep_message)\n",
      "NameError: name 'cgegv' is not defined\n",
      "]\n",
      "[autoreload of scipy.spatial.distance failed: Traceback (most recent call last):\n",
      "  File \"/home/vagrant/miniconda3/envs/test/lib/python3.8/site-packages/IPython/extensions/autoreload.py\", line 257, in check\n",
      "    superreload(m, reload, self.old_objects)\n",
      "  File \"/home/vagrant/miniconda3/envs/test/lib/python3.8/site-packages/IPython/extensions/autoreload.py\", line 480, in superreload\n",
      "    update_generic(old_obj, new_obj)\n",
      "  File \"/home/vagrant/miniconda3/envs/test/lib/python3.8/site-packages/IPython/extensions/autoreload.py\", line 377, in update_generic\n",
      "    update(a, b)\n",
      "  File \"/home/vagrant/miniconda3/envs/test/lib/python3.8/site-packages/IPython/extensions/autoreload.py\", line 289, in update_function\n",
      "    setattr(old, name, getattr(new, name))\n",
      "ValueError: kulsinski() requires a code object with 3 free vars, not 0\n",
      "]\n",
      "[autoreload of scipy.optimize._linprog_highs failed: Traceback (most recent call last):\n",
      "  File \"/home/vagrant/miniconda3/envs/test/lib/python3.8/site-packages/IPython/extensions/autoreload.py\", line 257, in check\n",
      "    superreload(m, reload, self.old_objects)\n",
      "  File \"/home/vagrant/miniconda3/envs/test/lib/python3.8/site-packages/IPython/extensions/autoreload.py\", line 455, in superreload\n",
      "    module = reload(module)\n",
      "  File \"/home/vagrant/miniconda3/envs/test/lib/python3.8/importlib/__init__.py\", line 169, in reload\n",
      "    _bootstrap._exec(spec, module)\n",
      "  File \"<frozen importlib._bootstrap>\", line 604, in _exec\n",
      "  File \"<frozen importlib._bootstrap_external>\", line 843, in exec_module\n",
      "  File \"<frozen importlib._bootstrap>\", line 219, in _call_with_frames_removed\n",
      "  File \"/home/vagrant/miniconda3/envs/test/lib/python3.8/site-packages/scipy/optimize/_linprog_highs.py\", line 21, in <module>\n",
      "    from ._highs._highs_constants import (\n",
      "ImportError: cannot import name 'MODEL_STATUS_PRIMAL_INFEASIBLE' from 'scipy.optimize._highs._highs_constants' (/home/vagrant/miniconda3/envs/test/lib/python3.8/site-packages/scipy/optimize/_highs/_highs_constants.cpython-38-x86_64-linux-gnu.so)\n",
      "]\n",
      "[autoreload of scipy.stats._continuous_distns failed: Traceback (most recent call last):\n",
      "  File \"/home/vagrant/miniconda3/envs/test/lib/python3.8/site-packages/IPython/extensions/autoreload.py\", line 257, in check\n",
      "    superreload(m, reload, self.old_objects)\n",
      "  File \"/home/vagrant/miniconda3/envs/test/lib/python3.8/site-packages/IPython/extensions/autoreload.py\", line 480, in superreload\n",
      "    update_generic(old_obj, new_obj)\n",
      "  File \"/home/vagrant/miniconda3/envs/test/lib/python3.8/site-packages/IPython/extensions/autoreload.py\", line 377, in update_generic\n",
      "    update(a, b)\n",
      "  File \"/home/vagrant/miniconda3/envs/test/lib/python3.8/site-packages/IPython/extensions/autoreload.py\", line 329, in update_class\n",
      "    if update_generic(old_obj, new_obj):\n",
      "  File \"/home/vagrant/miniconda3/envs/test/lib/python3.8/site-packages/IPython/extensions/autoreload.py\", line 377, in update_generic\n",
      "    update(a, b)\n",
      "  File \"/home/vagrant/miniconda3/envs/test/lib/python3.8/site-packages/IPython/extensions/autoreload.py\", line 289, in update_function\n",
      "    setattr(old, name, getattr(new, name))\n",
      "ValueError: _fitstart() requires a code object with 1 free vars, not 0\n",
      "]\n",
      "[autoreload of scipy.interpolate._rbfinterp failed: Traceback (most recent call last):\n",
      "  File \"/home/vagrant/miniconda3/envs/test/lib/python3.8/site-packages/IPython/extensions/autoreload.py\", line 257, in check\n",
      "    superreload(m, reload, self.old_objects)\n",
      "  File \"/home/vagrant/miniconda3/envs/test/lib/python3.8/site-packages/IPython/extensions/autoreload.py\", line 455, in superreload\n",
      "    module = reload(module)\n",
      "  File \"/home/vagrant/miniconda3/envs/test/lib/python3.8/importlib/__init__.py\", line 169, in reload\n",
      "    _bootstrap._exec(spec, module)\n",
      "  File \"<frozen importlib._bootstrap>\", line 604, in _exec\n",
      "  File \"<frozen importlib._bootstrap_external>\", line 843, in exec_module\n",
      "  File \"<frozen importlib._bootstrap>\", line 219, in _call_with_frames_removed\n",
      "  File \"/home/vagrant/miniconda3/envs/test/lib/python3.8/site-packages/scipy/interpolate/_rbfinterp.py\", line 11, in <module>\n",
      "    from ._rbfinterp_pythran import _build_system, _evaluate, _polynomial_matrix\n",
      "ImportError: cannot import name '_evaluate' from 'scipy.interpolate._rbfinterp_pythran' (/home/vagrant/miniconda3/envs/test/lib/python3.8/site-packages/scipy/interpolate/_rbfinterp_pythran.cpython-38-x86_64-linux-gnu.so)\n",
      "]\n",
      "[autoreload of scipy.stats._mstats_basic failed: Traceback (most recent call last):\n",
      "  File \"/home/vagrant/miniconda3/envs/test/lib/python3.8/site-packages/IPython/extensions/autoreload.py\", line 257, in check\n",
      "    superreload(m, reload, self.old_objects)\n",
      "  File \"/home/vagrant/miniconda3/envs/test/lib/python3.8/site-packages/IPython/extensions/autoreload.py\", line 480, in superreload\n",
      "    update_generic(old_obj, new_obj)\n",
      "  File \"/home/vagrant/miniconda3/envs/test/lib/python3.8/site-packages/IPython/extensions/autoreload.py\", line 377, in update_generic\n",
      "    update(a, b)\n",
      "  File \"/home/vagrant/miniconda3/envs/test/lib/python3.8/site-packages/IPython/extensions/autoreload.py\", line 289, in update_function\n",
      "    setattr(old, name, getattr(new, name))\n",
      "ValueError: ks_1samp() requires a code object with 4 free vars, not 0\n",
      "]\n",
      "[autoreload of scipy.stats._stats_py failed: Traceback (most recent call last):\n",
      "  File \"/home/vagrant/miniconda3/envs/test/lib/python3.8/site-packages/IPython/extensions/autoreload.py\", line 257, in check\n",
      "    superreload(m, reload, self.old_objects)\n",
      "  File \"/home/vagrant/miniconda3/envs/test/lib/python3.8/site-packages/IPython/extensions/autoreload.py\", line 480, in superreload\n",
      "    update_generic(old_obj, new_obj)\n",
      "  File \"/home/vagrant/miniconda3/envs/test/lib/python3.8/site-packages/IPython/extensions/autoreload.py\", line 377, in update_generic\n",
      "    update(a, b)\n",
      "  File \"/home/vagrant/miniconda3/envs/test/lib/python3.8/site-packages/IPython/extensions/autoreload.py\", line 289, in update_function\n",
      "    setattr(old, name, getattr(new, name))\n",
      "ValueError: gmean() requires a code object with 9 free vars, not 0\n",
      "]\n",
      "[autoreload of scipy.stats._morestats failed: Traceback (most recent call last):\n",
      "  File \"/home/vagrant/miniconda3/envs/test/lib/python3.8/site-packages/IPython/extensions/autoreload.py\", line 257, in check\n",
      "    superreload(m, reload, self.old_objects)\n",
      "  File \"/home/vagrant/miniconda3/envs/test/lib/python3.8/site-packages/IPython/extensions/autoreload.py\", line 480, in superreload\n",
      "    update_generic(old_obj, new_obj)\n",
      "  File \"/home/vagrant/miniconda3/envs/test/lib/python3.8/site-packages/IPython/extensions/autoreload.py\", line 377, in update_generic\n",
      "    update(a, b)\n",
      "  File \"/home/vagrant/miniconda3/envs/test/lib/python3.8/site-packages/IPython/extensions/autoreload.py\", line 289, in update_function\n",
      "    setattr(old, name, getattr(new, name))\n",
      "ValueError: kstat() requires a code object with 9 free vars, not 0\n",
      "]\n",
      "[autoreload of scipy.stats._qmc failed: Traceback (most recent call last):\n",
      "  File \"/home/vagrant/miniconda3/envs/test/lib/python3.8/site-packages/IPython/extensions/autoreload.py\", line 257, in check\n",
      "    superreload(m, reload, self.old_objects)\n",
      "  File \"/home/vagrant/miniconda3/envs/test/lib/python3.8/site-packages/IPython/extensions/autoreload.py\", line 455, in superreload\n",
      "    module = reload(module)\n",
      "  File \"/home/vagrant/miniconda3/envs/test/lib/python3.8/importlib/__init__.py\", line 169, in reload\n",
      "    _bootstrap._exec(spec, module)\n",
      "  File \"<frozen importlib._bootstrap>\", line 604, in _exec\n",
      "  File \"<frozen importlib._bootstrap_external>\", line 843, in exec_module\n",
      "  File \"<frozen importlib._bootstrap>\", line 219, in _call_with_frames_removed\n",
      "  File \"/home/vagrant/miniconda3/envs/test/lib/python3.8/site-packages/scipy/stats/_qmc.py\", line 31, in <module>\n",
      "    from scipy.stats._sobol import (\n",
      "ImportError: cannot import name 'initialize_v' from 'scipy.stats._sobol' (/home/vagrant/miniconda3/envs/test/lib/python3.8/site-packages/scipy/stats/_sobol.cpython-38-x86_64-linux-gnu.so)\n",
      "]\n",
      "[autoreload of scipy.stats._mannwhitneyu failed: Traceback (most recent call last):\n",
      "  File \"/home/vagrant/miniconda3/envs/test/lib/python3.8/site-packages/IPython/extensions/autoreload.py\", line 257, in check\n",
      "    superreload(m, reload, self.old_objects)\n",
      "  File \"/home/vagrant/miniconda3/envs/test/lib/python3.8/site-packages/IPython/extensions/autoreload.py\", line 480, in superreload\n",
      "    update_generic(old_obj, new_obj)\n",
      "  File \"/home/vagrant/miniconda3/envs/test/lib/python3.8/site-packages/IPython/extensions/autoreload.py\", line 377, in update_generic\n",
      "    update(a, b)\n",
      "  File \"/home/vagrant/miniconda3/envs/test/lib/python3.8/site-packages/IPython/extensions/autoreload.py\", line 289, in update_function\n",
      "    setattr(old, name, getattr(new, name))\n",
      "ValueError: mannwhitneyu() requires a code object with 9 free vars, not 7\n",
      "]\n"
     ]
    }
   ],
   "source": [
    "score = model.evaluate(X, y, verbose=0)"
   ]
  },
  {
   "cell_type": "code",
   "execution_count": null,
   "metadata": {},
   "outputs": [],
   "source": []
  }
 ],
 "metadata": {
  "kernelspec": {
   "display_name": "Python 3.8.13 ('test')",
   "language": "python",
   "name": "python3"
  },
  "language_info": {
   "codemirror_mode": {
    "name": "ipython",
    "version": 3
   },
   "file_extension": ".py",
   "mimetype": "text/x-python",
   "name": "python",
   "nbconvert_exporter": "python",
   "pygments_lexer": "ipython3",
   "version": "3.8.13"
  },
  "orig_nbformat": 4,
  "vscode": {
   "interpreter": {
    "hash": "b6ff7914d2bc405bfa61a835d0564ba294eb5f3f9b4c24865f45d9397593b123"
   }
  }
 },
 "nbformat": 4,
 "nbformat_minor": 2
}
