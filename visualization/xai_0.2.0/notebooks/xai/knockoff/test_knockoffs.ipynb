{
 "cells": [
  {
   "cell_type": "code",
   "execution_count": 73,
   "id": "ce75feda-8145-4635-974e-ff30d4767753",
   "metadata": {},
   "outputs": [
    {
     "name": "stdout",
     "output_type": "stream",
     "text": [
      "The autoreload extension is already loaded. To reload it, use:\n",
      "  %reload_ext autoreload\n"
     ]
    }
   ],
   "source": [
    "%load_ext autoreload\n",
    "%autoreload 2\n",
    "\n",
    "import sys; sys.path.insert(0, '../../..') # add parent folder path where lib folder is"
   ]
  },
  {
   "cell_type": "code",
   "execution_count": 71,
   "id": "45355cc7",
   "metadata": {},
   "outputs": [],
   "source": [
    "\n",
    "import os\n",
    "\n",
    "import numpy as np\n",
    "import pandas as pd\n",
    "\n",
    "from sklearn.model_selection import train_test_split\n",
    "\n",
    "from ml.models import common\n",
    "from utils import helper, config, rayer, kaggle_dataset_helper\n",
    "from ml.xai.non_model import simulate_knockoffs, KnockoffSetting\n"
   ]
  },
  {
   "cell_type": "code",
   "execution_count": 72,
   "id": "e64d2737-f9b4-4648-bc3d-4d61a8bd2951",
   "metadata": {},
   "outputs": [],
   "source": [
    "rayer.get_global_cluster()\n",
    "# rayer.get_local_cluster()"
   ]
  },
  {
   "cell_type": "code",
   "execution_count": 54,
   "id": "c7fe52a4-7141-4159-a64e-f5c4804496db",
   "metadata": {},
   "outputs": [],
   "source": [
    "def use_tokamat_ds():\n",
    "    df = helper.get_tokamat_dataset()\n",
    "    df = df.reset_index()\n",
    "\n",
    "    df = common.label_encode(df)\n",
    "    df = df.fillna(-1)\n",
    "\n",
    "    potential_targets = ['WTOT', 'WTH', 'PLTH']\n",
    "    df_y = df[potential_targets[0]]\n",
    "\n",
    "    df_X = df[df.columns[~df.columns.isin(potential_targets)]]\n",
    "    df_X = df_X.drop(['TOK_ID', 'LCUPDATE', 'DATE', 'NEL', 'ENBI'], axis = 1)\n",
    "\n",
    "    \n",
    "    return df_X, df_y\n",
    "    # return train_test_split(X, y, test_size=0.33)\n",
    "\n",
    "\n",
    "def use_covid_ds():\n",
    "    df_X, df_y = helper.get_covid_dataset()\n",
    "    df_X = df_X.drop(['location'], axis = 1)\n",
    "\n",
    "    return df_X, df_y\n",
    "    # return train_test_split(df_X, df_y, test_size=0.33)\n",
    "\n",
    "\n",
    "def use_transaction_predictions_ds():\n",
    "    ds_train, ds_test = kaggle_dataset_helper.get_transaction_predictions_dataset()\n",
    "    ds_train = common.label_encode(ds_train)\n",
    "    ds_test = common.label_encode(ds_test)\n",
    "\n",
    "    ds_train = ds_train.fillna(-1)\n",
    "    ds_test = ds_test.fillna(-1)\n",
    "\n",
    "    df_X = ds_train.loc[:, ds_train.columns != 'target']\n",
    "    df_y = ds_train['target']\n",
    "\n",
    "    return df_X, df_y\n",
    "    \n",
    "\n",
    "\n",
    "\n",
    "def use_house_pricing_ds():\n",
    "    ds_train, ds_test = kaggle_dataset_helper.get_house_prices_dataset()\n",
    "    ds_train = common.label_encode(ds_train)\n",
    "    ds_test = common.label_encode(ds_test)\n",
    "\n",
    "    ds_train = ds_train.fillna(-1)\n",
    "    ds_test = ds_test.fillna(-1)\n",
    "\n",
    "\n",
    "    df_X = ds_train.loc[:, ds_train.columns != 'SalePrice']\n",
    "    df_y = ds_train['SalePrice']\n",
    "\n",
    "    return df_X, df_y\n",
    "\n",
    "    \n"
   ]
  },
  {
   "cell_type": "code",
   "execution_count": 82,
   "id": "4cd292ec",
   "metadata": {},
   "outputs": [],
   "source": [
    "df_X, df_y = use_transaction_predictions_ds()"
   ]
  },
  {
   "cell_type": "code",
   "execution_count": 83,
   "id": "1d0d1c93-ee64-4b33-a26e-ae105ca9e8bb",
   "metadata": {},
   "outputs": [
    {
     "name": "stdout",
     "output_type": "stream",
     "text": [
      "\u001b[2m\u001b[36m(__worker__ pid=851875)\u001b[0m itr: 2, ksampler: 'gaussian',  fstat:ridge\n",
      "\u001b[2m\u001b[36m(__worker__ pid=851936)\u001b[0m itr: 1, ksampler: 'gaussian',  fstat:lasso\n",
      "\u001b[2m\u001b[36m(__worker__ pid=851930)\u001b[0m itr: 1, ksampler: 'gaussian',  fstat:ridge\n",
      "\u001b[2m\u001b[36m(__worker__ pid=851933)\u001b[0m itr: 2, ksampler: 'gaussian',  fstat:lasso\n",
      "\u001b[2m\u001b[36m(__worker__ pid=851935)\u001b[0m itr: 1, ksampler: 'gaussian',  fstat:randomforest\n",
      "\u001b[2m\u001b[36m(__worker__ pid=851934)\u001b[0m itr: 2, ksampler: 'gaussian',  fstat:randomforest\n"
     ]
    },
    {
     "name": "stderr",
     "output_type": "stream",
     "text": [
      "\u001b[2m\u001b[36m(__worker__ pid=851875)\u001b[0m /home/rayuser/.local/lib/python3.8/site-packages/knockpy/mrc.py:276: UserWarning: \n",
      "\u001b[2m\u001b[36m(__worker__ pid=851875)\u001b[0m \t---------------------------------------------------------\n",
      "\u001b[2m\u001b[36m(__worker__ pid=851875)\u001b[0m \t---------------------------------------------------------\n",
      "\u001b[2m\u001b[36m(__worker__ pid=851875)\u001b[0m \tThe choldate package is not installed:\n",
      "\u001b[2m\u001b[36m(__worker__ pid=851875)\u001b[0m \tsolving for MVR or maxent knockoffs without it will be \n",
      "\u001b[2m\u001b[36m(__worker__ pid=851875)\u001b[0m \t~5x slower. For instructions on how to install choldate,\n",
      "\u001b[2m\u001b[36m(__worker__ pid=851875)\u001b[0m \tsee https://amspector100.github.io/knockpy/installation.html.\n",
      "\u001b[2m\u001b[36m(__worker__ pid=851875)\u001b[0m \tTo disable this warning, set choldate_warning=False as an \n",
      "\u001b[2m\u001b[36m(__worker__ pid=851875)\u001b[0m \targument or a knockoff_kwarg.\n",
      "\u001b[2m\u001b[36m(__worker__ pid=851875)\u001b[0m \t----------------------------------------------------------\n",
      "\u001b[2m\u001b[36m(__worker__ pid=851875)\u001b[0m \t----------------------------------------------------------\n",
      "\u001b[2m\u001b[36m(__worker__ pid=851875)\u001b[0m \n",
      "\u001b[2m\u001b[36m(__worker__ pid=851875)\u001b[0m   warnings.warn(constants.CHOLDATE_WARNING)\n",
      "\u001b[2m\u001b[36m(__worker__ pid=851930)\u001b[0m /home/rayuser/.local/lib/python3.8/site-packages/knockpy/mrc.py:276: UserWarning: \n",
      "\u001b[2m\u001b[36m(__worker__ pid=851930)\u001b[0m \t---------------------------------------------------------\n",
      "\u001b[2m\u001b[36m(__worker__ pid=851930)\u001b[0m \t---------------------------------------------------------\n",
      "\u001b[2m\u001b[36m(__worker__ pid=851930)\u001b[0m \tThe choldate package is not installed:\n",
      "\u001b[2m\u001b[36m(__worker__ pid=851930)\u001b[0m \tsolving for MVR or maxent knockoffs without it will be \n",
      "\u001b[2m\u001b[36m(__worker__ pid=851930)\u001b[0m \t~5x slower. For instructions on how to install choldate,\n",
      "\u001b[2m\u001b[36m(__worker__ pid=851930)\u001b[0m \tsee https://amspector100.github.io/knockpy/installation.html.\n",
      "\u001b[2m\u001b[36m(__worker__ pid=851930)\u001b[0m \tTo disable this warning, set choldate_warning=False as an \n",
      "\u001b[2m\u001b[36m(__worker__ pid=851930)\u001b[0m \targument or a knockoff_kwarg.\n",
      "\u001b[2m\u001b[36m(__worker__ pid=851930)\u001b[0m \t----------------------------------------------------------\n",
      "\u001b[2m\u001b[36m(__worker__ pid=851930)\u001b[0m \t----------------------------------------------------------\n",
      "\u001b[2m\u001b[36m(__worker__ pid=851930)\u001b[0m \n",
      "\u001b[2m\u001b[36m(__worker__ pid=851930)\u001b[0m   warnings.warn(constants.CHOLDATE_WARNING)\n",
      "\u001b[2m\u001b[36m(__worker__ pid=851936)\u001b[0m /home/rayuser/.local/lib/python3.8/site-packages/knockpy/mrc.py:276: UserWarning: \n",
      "\u001b[2m\u001b[36m(__worker__ pid=851936)\u001b[0m \t---------------------------------------------------------\n",
      "\u001b[2m\u001b[36m(__worker__ pid=851936)\u001b[0m \t---------------------------------------------------------\n",
      "\u001b[2m\u001b[36m(__worker__ pid=851936)\u001b[0m \tThe choldate package is not installed:\n",
      "\u001b[2m\u001b[36m(__worker__ pid=851936)\u001b[0m \tsolving for MVR or maxent knockoffs without it will be \n",
      "\u001b[2m\u001b[36m(__worker__ pid=851936)\u001b[0m \t~5x slower. For instructions on how to install choldate,\n",
      "\u001b[2m\u001b[36m(__worker__ pid=851936)\u001b[0m \tsee https://amspector100.github.io/knockpy/installation.html.\n",
      "\u001b[2m\u001b[36m(__worker__ pid=851936)\u001b[0m \tTo disable this warning, set choldate_warning=False as an \n",
      "\u001b[2m\u001b[36m(__worker__ pid=851936)\u001b[0m \targument or a knockoff_kwarg.\n",
      "\u001b[2m\u001b[36m(__worker__ pid=851936)\u001b[0m \t----------------------------------------------------------\n",
      "\u001b[2m\u001b[36m(__worker__ pid=851936)\u001b[0m \t----------------------------------------------------------\n",
      "\u001b[2m\u001b[36m(__worker__ pid=851936)\u001b[0m \n",
      "\u001b[2m\u001b[36m(__worker__ pid=851936)\u001b[0m   warnings.warn(constants.CHOLDATE_WARNING)\n",
      "\u001b[2m\u001b[36m(__worker__ pid=851933)\u001b[0m /home/rayuser/.local/lib/python3.8/site-packages/knockpy/mrc.py:276: UserWarning: \n",
      "\u001b[2m\u001b[36m(__worker__ pid=851933)\u001b[0m \t---------------------------------------------------------\n",
      "\u001b[2m\u001b[36m(__worker__ pid=851933)\u001b[0m \t---------------------------------------------------------\n",
      "\u001b[2m\u001b[36m(__worker__ pid=851933)\u001b[0m \tThe choldate package is not installed:\n",
      "\u001b[2m\u001b[36m(__worker__ pid=851933)\u001b[0m \tsolving for MVR or maxent knockoffs without it will be \n",
      "\u001b[2m\u001b[36m(__worker__ pid=851933)\u001b[0m \t~5x slower. For instructions on how to install choldate,\n",
      "\u001b[2m\u001b[36m(__worker__ pid=851933)\u001b[0m \tsee https://amspector100.github.io/knockpy/installation.html.\n",
      "\u001b[2m\u001b[36m(__worker__ pid=851933)\u001b[0m \tTo disable this warning, set choldate_warning=False as an \n",
      "\u001b[2m\u001b[36m(__worker__ pid=851933)\u001b[0m \targument or a knockoff_kwarg.\n",
      "\u001b[2m\u001b[36m(__worker__ pid=851933)\u001b[0m \t----------------------------------------------------------\n",
      "\u001b[2m\u001b[36m(__worker__ pid=851933)\u001b[0m \t----------------------------------------------------------\n",
      "\u001b[2m\u001b[36m(__worker__ pid=851933)\u001b[0m \n",
      "\u001b[2m\u001b[36m(__worker__ pid=851933)\u001b[0m   warnings.warn(constants.CHOLDATE_WARNING)\n",
      "\u001b[2m\u001b[36m(__worker__ pid=851935)\u001b[0m /home/rayuser/.local/lib/python3.8/site-packages/knockpy/mrc.py:276: UserWarning: \n",
      "\u001b[2m\u001b[36m(__worker__ pid=851935)\u001b[0m \t---------------------------------------------------------\n",
      "\u001b[2m\u001b[36m(__worker__ pid=851935)\u001b[0m \t---------------------------------------------------------\n",
      "\u001b[2m\u001b[36m(__worker__ pid=851935)\u001b[0m \tThe choldate package is not installed:\n",
      "\u001b[2m\u001b[36m(__worker__ pid=851935)\u001b[0m \tsolving for MVR or maxent knockoffs without it will be \n",
      "\u001b[2m\u001b[36m(__worker__ pid=851935)\u001b[0m \t~5x slower. For instructions on how to install choldate,\n",
      "\u001b[2m\u001b[36m(__worker__ pid=851935)\u001b[0m \tsee https://amspector100.github.io/knockpy/installation.html.\n",
      "\u001b[2m\u001b[36m(__worker__ pid=851935)\u001b[0m \tTo disable this warning, set choldate_warning=False as an \n",
      "\u001b[2m\u001b[36m(__worker__ pid=851935)\u001b[0m \targument or a knockoff_kwarg.\n",
      "\u001b[2m\u001b[36m(__worker__ pid=851935)\u001b[0m \t----------------------------------------------------------\n",
      "\u001b[2m\u001b[36m(__worker__ pid=851935)\u001b[0m \t----------------------------------------------------------\n",
      "\u001b[2m\u001b[36m(__worker__ pid=851935)\u001b[0m \n",
      "\u001b[2m\u001b[36m(__worker__ pid=851935)\u001b[0m   warnings.warn(constants.CHOLDATE_WARNING)\n",
      "\u001b[2m\u001b[36m(__worker__ pid=851934)\u001b[0m /home/rayuser/.local/lib/python3.8/site-packages/knockpy/mrc.py:276: UserWarning: \n",
      "\u001b[2m\u001b[36m(__worker__ pid=851934)\u001b[0m \t---------------------------------------------------------\n",
      "\u001b[2m\u001b[36m(__worker__ pid=851934)\u001b[0m \t---------------------------------------------------------\n",
      "\u001b[2m\u001b[36m(__worker__ pid=851934)\u001b[0m \tThe choldate package is not installed:\n",
      "\u001b[2m\u001b[36m(__worker__ pid=851934)\u001b[0m \tsolving for MVR or maxent knockoffs without it will be \n",
      "\u001b[2m\u001b[36m(__worker__ pid=851934)\u001b[0m \t~5x slower. For instructions on how to install choldate,\n",
      "\u001b[2m\u001b[36m(__worker__ pid=851934)\u001b[0m \tsee https://amspector100.github.io/knockpy/installation.html.\n",
      "\u001b[2m\u001b[36m(__worker__ pid=851934)\u001b[0m \tTo disable this warning, set choldate_warning=False as an \n",
      "\u001b[2m\u001b[36m(__worker__ pid=851934)\u001b[0m \targument or a knockoff_kwarg.\n",
      "\u001b[2m\u001b[36m(__worker__ pid=851934)\u001b[0m \t----------------------------------------------------------\n",
      "\u001b[2m\u001b[36m(__worker__ pid=851934)\u001b[0m \t----------------------------------------------------------\n",
      "\u001b[2m\u001b[36m(__worker__ pid=851934)\u001b[0m \n",
      "\u001b[2m\u001b[36m(__worker__ pid=851934)\u001b[0m   warnings.warn(constants.CHOLDATE_WARNING)\n"
     ]
    }
   ],
   "source": [
    "np.random.seed(KnockoffSetting.SEED)\n",
    "\n",
    "X = df_X\n",
    "y = df_y\n",
    "\n",
    "fdr = 0.1\n",
    "fstats = ['lasso', 'ridge', 'randomforest']\n",
    "\n",
    "df = simulate_knockoffs(fdr=fdr, fstats=fstats, itr=2, df_X=X, df_y=y)\n"
   ]
  },
  {
   "cell_type": "code",
   "execution_count": 85,
   "id": "43eb153b",
   "metadata": {},
   "outputs": [
    {
     "data": {
      "text/plain": [
       "cols\n",
       "var_68     201.0\n",
       "var_27     200.0\n",
       "var_183    199.0\n",
       "var_50     198.0\n",
       "var_38     197.0\n",
       "           ...  \n",
       "var_73       0.0\n",
       "var_74       0.0\n",
       "var_75       0.0\n",
       "var_76       0.0\n",
       "var_199      0.0\n",
       "Length: 201, dtype: float64"
      ]
     },
     "execution_count": 85,
     "metadata": {},
     "output_type": "execute_result"
    },
    {
     "name": "stderr",
     "output_type": "stream",
     "text": [
      "Log channel is reconnecting. Logs produced while the connection was down can be found on the head node of the cluster in `ray_client_server_[port].out`\n",
      "2022-12-07 23:46:49,707\tWARNING dataclient.py:396 -- Encountered connection issues in the data channel. Attempting to reconnect.\n",
      "2022-12-07 23:47:19,922\tWARNING dataclient.py:403 -- Failed to reconnect the data channel\n"
     ]
    }
   ],
   "source": [
    "df"
   ]
  },
  {
   "cell_type": "code",
   "execution_count": null,
   "id": "c0b62287",
   "metadata": {},
   "outputs": [],
   "source": []
  }
 ],
 "metadata": {
  "kernelspec": {
   "display_name": "Python 3.8.13 ('automl')",
   "language": "python",
   "name": "python3"
  },
  "language_info": {
   "codemirror_mode": {
    "name": "ipython",
    "version": 3
   },
   "file_extension": ".py",
   "mimetype": "text/x-python",
   "name": "python",
   "nbconvert_exporter": "python",
   "pygments_lexer": "ipython3",
   "version": "3.8.13"
  },
  "vscode": {
   "interpreter": {
    "hash": "6ceb9dcfe4855088cb408ca84060dddedae3a13bd9f61da61d02274285d7dc6d"
   }
  }
 },
 "nbformat": 4,
 "nbformat_minor": 5
}
