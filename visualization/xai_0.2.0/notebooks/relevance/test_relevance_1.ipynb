{
 "cells": [
  {
   "cell_type": "code",
   "execution_count": 1,
   "id": "6e22ae6c-f298-4c9a-b5ac-8a648578c728",
   "metadata": {},
   "outputs": [
    {
     "data": {
      "text/html": [
       "<style type='text/css'>\n",
       ".datatable table.frame { margin-bottom: 0; }\n",
       ".datatable table.frame thead { border-bottom: none; }\n",
       ".datatable table.frame tr.coltypes td {  color: #FFFFFF;  line-height: 6px;  padding: 0 0.5em;}\n",
       ".datatable .bool    { background: #DDDD99; }\n",
       ".datatable .object  { background: #565656; }\n",
       ".datatable .int     { background: #5D9E5D; }\n",
       ".datatable .float   { background: #4040CC; }\n",
       ".datatable .str     { background: #CC4040; }\n",
       ".datatable .time    { background: #40CC40; }\n",
       ".datatable .row_index {  background: var(--jp-border-color3);  border-right: 1px solid var(--jp-border-color0);  color: var(--jp-ui-font-color3);  font-size: 9px;}\n",
       ".datatable .frame tbody td { text-align: left; }\n",
       ".datatable .frame tr.coltypes .row_index {  background: var(--jp-border-color0);}\n",
       ".datatable th:nth-child(2) { padding-left: 12px; }\n",
       ".datatable .hellipsis {  color: var(--jp-cell-editor-border-color);}\n",
       ".datatable .vellipsis {  background: var(--jp-layout-color0);  color: var(--jp-cell-editor-border-color);}\n",
       ".datatable .na {  color: var(--jp-cell-editor-border-color);  font-size: 80%;}\n",
       ".datatable .sp {  opacity: 0.25;}\n",
       ".datatable .footer { font-size: 9px; }\n",
       ".datatable .frame_dimensions {  background: var(--jp-border-color3);  border-top: 1px solid var(--jp-border-color0);  color: var(--jp-ui-font-color3);  display: inline-block;  opacity: 0.6;  padding: 1px 10px 1px 5px;}\n",
       ".datatable .frame thead tr.colnames {  background-image: url('data:image/png;base64,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');  background-repeat: repeat-x;  background-size: 14px;  height: 28px;}\n",
       "</style>\n"
      ],
      "text/plain": [
       "<IPython.core.display.HTML object>"
      ]
     },
     "metadata": {},
     "output_type": "display_data"
    }
   ],
   "source": [
    "import sys; sys.path.insert(0, '../..') # add parent folder path where lib folder is\n",
    "\n",
    "%load_ext autoreload\n",
    "%autoreload 2\n",
    "\n",
    "from utils import helper, config, rayer, kaggle_dataset_helper\n",
    "\n",
    "from sklearn.preprocessing import StandardScaler\n",
    "from sklearn.model_selection import train_test_split\n",
    "\n",
    "from ml.models.ensemble import Ensemble\n",
    "from ml.xai.model.explainable import Explainable\n",
    "\n",
    "from sklearn.metrics import make_scorer\n",
    "from sklearn.metrics import r2_score, mean_squared_error\n",
    "from sklearn.metrics import f1_score, roc_auc_score, precision_score, recall_score\n",
    "from ml.models import common\n",
    "\n",
    "import ray\n",
    "\n",
    "\n",
    "import time\n",
    "import pandas as pd\n",
    "import pyarrow.fs"
   ]
  },
  {
   "cell_type": "code",
   "execution_count": 2,
   "id": "d1862778-af52-49d2-9130-9a6a6a7a8f0e",
   "metadata": {},
   "outputs": [
    {
     "data": {
      "text/plain": [
       "<module 'ray' from '/home/vagrant/miniconda3/envs/automl/lib/python3.8/site-packages/ray/__init__.py'>"
      ]
     },
     "execution_count": 2,
     "metadata": {},
     "output_type": "execute_result"
    }
   ],
   "source": [
    "# rayer.get_global_cluster()\n",
    "rayer.get_local_cluster()"
   ]
  },
  {
   "cell_type": "code",
   "execution_count": 3,
   "id": "c564af28",
   "metadata": {},
   "outputs": [],
   "source": [
    "def use_tokamat_ds():\n",
    "    df = helper.get_tokamat_dataset()\n",
    "    df = df.reset_index()\n",
    "\n",
    "    df = common.label_encode(df)\n",
    "    df = df.fillna(-1)\n",
    "\n",
    "    potential_targets = ['WTOT', 'WTH', 'PLTH']\n",
    "    y = df[potential_targets[0]]\n",
    "\n",
    "    X = df[df.columns[~df.columns.isin(potential_targets)]]\n",
    "    X = X.drop(['TOK_ID', 'LCUPDATE', 'DATE', 'NEL', 'ENBI'], axis = 1)\n",
    "\n",
    "    # X_train, X_test, y_train, y_test = train_test_split(X, y, test_size=0.33)\n",
    "    return train_test_split(X, y, test_size=0.33)\n",
    "\n",
    "\n",
    "def use_covid_ds():\n",
    "    df_X, df_y = helper.get_covid_dataset()\n",
    "    df_X = df_X.drop(['location'], axis = 1)\n",
    "\n",
    "    return train_test_split(df_X, df_y, test_size=0.33)\n",
    "\n",
    "\n",
    "def use_transaction_predictions_ds():\n",
    "    ds_train, ds_test = kaggle_dataset_helper.get_transaction_predictions_dataset()\n",
    "    ds_train = common.label_encode(ds_train)\n",
    "    ds_test = common.label_encode(ds_test)\n",
    "\n",
    "    ds_train = ds_train.fillna(-1)\n",
    "    ds_test = ds_test.fillna(-1)\n",
    "\n",
    "    df_X = ds_train.loc[:, ds_train.columns != 'target']\n",
    "    df_y = ds_train['target']\n",
    "\n",
    "    return train_test_split(df_X, df_y, test_size=0.33, random_state=config.rand_state)\n",
    "\n",
    "\n",
    "\n",
    "def use_house_pricing_ds():\n",
    "    ds_train, ds_test = kaggle_dataset_helper.get_house_prices_dataset()\n",
    "    ds_train = common.label_encode(ds_train)\n",
    "    ds_test = common.label_encode(ds_test)\n",
    "\n",
    "    ds_train = ds_train.fillna(-1)\n",
    "    ds_test = ds_test.fillna(-1)\n",
    "\n",
    "\n",
    "    df_X = ds_train.loc[:, ds_train.columns != 'SalePrice']\n",
    "    df_y = ds_train['SalePrice']\n",
    "\n",
    "    return train_test_split(df_X, df_y, test_size=0.33, random_state=config.rand_state)\n"
   ]
  },
  {
   "cell_type": "code",
   "execution_count": 4,
   "id": "40663476",
   "metadata": {},
   "outputs": [
    {
     "name": "stdout",
     "output_type": "stream",
     "text": [
      "/mnt/c/Users/rwmas/GitHub/xai/python-asd/xai_0.2.0/notebooks/relevance/../../utils\n"
     ]
    }
   ],
   "source": [
    "X_train, X_test, y_train, y_test = use_tokamat_ds()"
   ]
  },
  {
   "cell_type": "code",
   "execution_count": 5,
   "id": "ca4119cb",
   "metadata": {},
   "outputs": [],
   "source": [
    "r2_scoring = make_scorer(score_func=r2_score, greater_is_better=False)"
   ]
  },
  {
   "cell_type": "code",
   "execution_count": null,
   "id": "78286b03",
   "metadata": {},
   "outputs": [],
   "source": [
    "ens_mdl = Ensemble(   \n",
    "                                xgb_objective='binary:logistic',  # [\"reg:squarederror\", \"count:poisson\", \"binary:logistic\",  \"binary:hinge\" ]\n",
    "                                lgbm_objective='binary',    # https://lightgbm.readthedocs.io/en/latest/Parameters.html\n",
    "                                pred_class='classification',\n",
    "                                score_func=None,\n",
    "                                metric_func=None,\n",
    "                                list_base_models=[],\n",
    "                                n_trials=10,          ### common param\n",
    "                                epochs=15,             ### ANN param\n",
    "                                boosted_round=10,      ### boosting tree param\n",
    "                                max_depth=30,          ### boosting tree param\n",
    "                                max_n_estimators=1500, ### rf param\n",
    "                                n_estimators=30,       ### bagging param, must be > 10 \n",
    "                                n_neighbors=30,        ### knn param, must be > 5\n",
    "\n",
    "                                ensemble_n_estimators=30,  ###  must be > 10\n",
    "                                ensemble_n_trials=10,\n",
    "                                timeout=None\n",
    "                 )"
   ]
  },
  {
   "cell_type": "code",
   "execution_count": 6,
   "id": "30fb07c2",
   "metadata": {},
   "outputs": [],
   "source": [
    "# list_base_models = ['briskbagging', 'briskknn', 'briskxgboost', 'slugxgboost', 'sluglgbm','slugrf']\n",
    "\n",
    "ens_mdl = Ensemble(   \n",
    "                                xgb_objective='count:poisson',  # [\"reg:squarederror\", \"count:poisson\", \"binary:logistic\",  \"binary:hinge\" ]\n",
    "                                lgbm_objective='poisson',    # https://lightgbm.readthedocs.io/en/latest/Parameters.html\n",
    "                                pred_class='regression',\n",
    "                                score_func=None,\n",
    "                                metric_func=None,\n",
    "                                list_base_models=['sluglgbm'],\n",
    "                                n_trials=10,          ### common param\n",
    "                                epochs=15,             ### ANN param\n",
    "                                boosted_round=10,      ### boosting tree param\n",
    "                                max_depth=30,          ### boosting tree param\n",
    "                                max_n_estimators=1500, ### rf param\n",
    "                                n_estimators=30,       ### bagging param, must be > 10 \n",
    "                                n_neighbors=30,        ### knn param, must be > 5\n",
    "\n",
    "                                ensemble_n_estimators=30,  ###  must be > 10\n",
    "                                ensemble_n_trials=10,\n",
    "                                timeout=None\n",
    "                 )"
   ]
  },
  {
   "cell_type": "code",
   "execution_count": 7,
   "id": "5cbf5650",
   "metadata": {},
   "outputs": [
    {
     "data": {
      "text/html": [],
      "text/plain": [
       "<IPython.core.display.HTML object>"
      ]
     },
     "metadata": {},
     "output_type": "display_data"
    },
    {
     "name": "stderr",
     "output_type": "stream",
     "text": [
      "2022-12-07 11:49:10,799\tINFO tensorboardx.py:267 -- Removed the following hyperparameter values when logging to tensorboard: {'cv': KFold(n_splits=3, random_state=None, shuffle=False), 'early_stop_type': <EarlyStopping.NO_EARLY_STOP: 7>, 'scoring/score': <function _passthrough_scorer at 0x7f2147f0f430>}\n",
      "2022-12-07 11:49:10,841\tINFO tensorboardx.py:267 -- Removed the following hyperparameter values when logging to tensorboard: {'cv': KFold(n_splits=3, random_state=None, shuffle=False), 'early_stop_type': <EarlyStopping.NO_EARLY_STOP: 7>, 'scoring/score': <function _passthrough_scorer at 0x7f2147f0f430>}\n",
      "2022-12-07 11:49:10,886\tINFO tensorboardx.py:267 -- Removed the following hyperparameter values when logging to tensorboard: {'cv': KFold(n_splits=3, random_state=None, shuffle=False), 'early_stop_type': <EarlyStopping.NO_EARLY_STOP: 7>, 'scoring/score': <function _passthrough_scorer at 0x7f2147f0f430>}\n",
      "2022-12-07 11:49:10,921\tINFO tensorboardx.py:267 -- Removed the following hyperparameter values when logging to tensorboard: {'cv': KFold(n_splits=3, random_state=None, shuffle=False), 'early_stop_type': <EarlyStopping.NO_EARLY_STOP: 7>, 'scoring/score': <function _passthrough_scorer at 0x7f2147f0f430>}\n"
     ]
    },
    {
     "name": "stdout",
     "output_type": "stream",
     "text": [
      "\u001b[2m\u001b[36m(<ray.tune.trainable.util._Trainable object at 0x7f1095078250> pid=15054)\u001b[0m [LightGBM] [Warning] lambda_l1 is set=0.0013047486135049219, reg_alpha=0.0 will be ignored. Current value: lambda_l1=0.0013047486135049219\n",
      "\u001b[2m\u001b[36m(<ray.tune.trainable.util._Trainable object at 0x7f1095078250> pid=15054)\u001b[0m [LightGBM] [Warning] bagging_fraction is set=4.5622344320629684e-05, subsample=1.0 will be ignored. Current value: bagging_fraction=4.5622344320629684e-05\n",
      "\u001b[2m\u001b[36m(<ray.tune.trainable.util._Trainable object at 0x7f1095078250> pid=15054)\u001b[0m [LightGBM] [Warning] lambda_l2 is set=0.016452992170058762, reg_lambda=0.0 will be ignored. Current value: lambda_l2=0.016452992170058762\n",
      "\u001b[2m\u001b[36m(<ray.tune.trainable.util._Trainable object at 0x7f1095078250> pid=15054)\u001b[0m [LightGBM] [Warning] learning_rate is set=0.1, eta=0.09449437412561167 will be ignored. Current value: learning_rate=0.1\n",
      "\u001b[2m\u001b[36m(<ray.tune.trainable.util._Trainable object at 0x7fea8ebda190> pid=15060)\u001b[0m [LightGBM] [Warning] lambda_l1 is set=0.027505887873708206, reg_alpha=0.0 will be ignored. Current value: lambda_l1=0.027505887873708206\n",
      "\u001b[2m\u001b[36m(<ray.tune.trainable.util._Trainable object at 0x7fea8ebda190> pid=15060)\u001b[0m [LightGBM] [Warning] bagging_fraction is set=0.0001214901812813622, subsample=1.0 will be ignored. Current value: bagging_fraction=0.0001214901812813622\n",
      "\u001b[2m\u001b[36m(<ray.tune.trainable.util._Trainable object at 0x7fea8ebda190> pid=15060)\u001b[0m [LightGBM] [Warning] lambda_l2 is set=0.01354657394850772, reg_lambda=0.0 will be ignored. Current value: lambda_l2=0.01354657394850772\n",
      "\u001b[2m\u001b[36m(<ray.tune.trainable.util._Trainable object at 0x7fea8ebda190> pid=15060)\u001b[0m [LightGBM] [Warning] learning_rate is set=0.1, eta=2.168422847657993e-06 will be ignored. Current value: learning_rate=0.1\n",
      "\u001b[2m\u001b[36m(<ray.tune.trainable.util._Trainable object at 0x7fdeb88771c0> pid=15057)\u001b[0m [LightGBM] [Warning] lambda_l1 is set=0.07986123742778305, reg_alpha=0.0 will be ignored. Current value: lambda_l1=0.07986123742778305\n",
      "\u001b[2m\u001b[36m(<ray.tune.trainable.util._Trainable object at 0x7fdeb88771c0> pid=15057)\u001b[0m [LightGBM] [Warning] bagging_fraction is set=9.09965900665666e-06, subsample=1.0 will be ignored. Current value: bagging_fraction=9.09965900665666e-06\n",
      "\u001b[2m\u001b[36m(<ray.tune.trainable.util._Trainable object at 0x7fdeb88771c0> pid=15057)\u001b[0m [LightGBM] [Warning] lambda_l2 is set=0.01703265481689619, reg_lambda=0.0 will be ignored. Current value: lambda_l2=0.01703265481689619\n",
      "\u001b[2m\u001b[36m(<ray.tune.trainable.util._Trainable object at 0x7fdeb88771c0> pid=15057)\u001b[0m [LightGBM] [Warning] learning_rate is set=0.1, eta=1.8832953937007863e-06 will be ignored. Current value: learning_rate=0.1\n",
      "\u001b[2m\u001b[36m(<ray.tune.trainable.util._Trainable object at 0x7fdeb88771c0> pid=15057)\u001b[0m [LightGBM] [Warning] lambda_l1 is set=0.07986123742778305, reg_alpha=0.0 will be ignored. Current value: lambda_l1=0.07986123742778305\n",
      "\u001b[2m\u001b[36m(<ray.tune.trainable.util._Trainable object at 0x7fdeb88771c0> pid=15057)\u001b[0m [LightGBM] [Warning] bagging_fraction is set=9.09965900665666e-06, subsample=1.0 will be ignored. Current value: bagging_fraction=9.09965900665666e-06\n",
      "\u001b[2m\u001b[36m(<ray.tune.trainable.util._Trainable object at 0x7fdeb88771c0> pid=15057)\u001b[0m [LightGBM] [Warning] lambda_l2 is set=0.01703265481689619, reg_lambda=0.0 will be ignored. Current value: lambda_l2=0.01703265481689619\n",
      "\u001b[2m\u001b[36m(<ray.tune.trainable.util._Trainable object at 0x7fdeb88771c0> pid=15057)\u001b[0m [LightGBM] [Warning] learning_rate is set=0.1, eta=1.8832953937007863e-06 will be ignored. Current value: learning_rate=0.1\n",
      "\u001b[2m\u001b[36m(<ray.tune.trainable.util._Trainable object at 0x7f1095078250> pid=15054)\u001b[0m [LightGBM] [Warning] lambda_l1 is set=0.0013047486135049219, reg_alpha=0.0 will be ignored. Current value: lambda_l1=0.0013047486135049219\n",
      "\u001b[2m\u001b[36m(<ray.tune.trainable.util._Trainable object at 0x7f1095078250> pid=15054)\u001b[0m [LightGBM] [Warning] bagging_fraction is set=4.5622344320629684e-05, subsample=1.0 will be ignored. Current value: bagging_fraction=4.5622344320629684e-05\n",
      "\u001b[2m\u001b[36m(<ray.tune.trainable.util._Trainable object at 0x7f1095078250> pid=15054)\u001b[0m [LightGBM] [Warning] lambda_l2 is set=0.016452992170058762, reg_lambda=0.0 will be ignored. Current value: lambda_l2=0.016452992170058762\n",
      "\u001b[2m\u001b[36m(<ray.tune.trainable.util._Trainable object at 0x7f1095078250> pid=15054)\u001b[0m [LightGBM] [Warning] learning_rate is set=0.1, eta=0.09449437412561167 will be ignored. Current value: learning_rate=0.1\n",
      "\u001b[2m\u001b[36m(<ray.tune.trainable.util._Trainable object at 0x7f1095078250> pid=15054)\u001b[0m [LightGBM] [Warning] lambda_l1 is set=0.0013047486135049219, reg_alpha=0.0 will be ignored. Current value: lambda_l1=0.0013047486135049219\n",
      "\u001b[2m\u001b[36m(<ray.tune.trainable.util._Trainable object at 0x7f1095078250> pid=15054)\u001b[0m [LightGBM] [Warning] bagging_fraction is set=4.5622344320629684e-05, subsample=1.0 will be ignored. Current value: bagging_fraction=4.5622344320629684e-05\n",
      "\u001b[2m\u001b[36m(<ray.tune.trainable.util._Trainable object at 0x7f1095078250> pid=15054)\u001b[0m [LightGBM] [Warning] lambda_l2 is set=0.016452992170058762, reg_lambda=0.0 will be ignored. Current value: lambda_l2=0.016452992170058762\n",
      "\u001b[2m\u001b[36m(<ray.tune.trainable.util._Trainable object at 0x7f1095078250> pid=15054)\u001b[0m [LightGBM] [Warning] learning_rate is set=0.1, eta=0.09449437412561167 will be ignored. Current value: learning_rate=0.1\n",
      "\u001b[2m\u001b[36m(<ray.tune.trainable.util._Trainable object at 0x7fea8ebda190> pid=15060)\u001b[0m [LightGBM] [Warning] lambda_l1 is set=0.027505887873708206, reg_alpha=0.0 will be ignored. Current value: lambda_l1=0.027505887873708206\n",
      "\u001b[2m\u001b[36m(<ray.tune.trainable.util._Trainable object at 0x7fea8ebda190> pid=15060)\u001b[0m [LightGBM] [Warning] bagging_fraction is set=0.0001214901812813622, subsample=1.0 will be ignored. Current value: bagging_fraction=0.0001214901812813622\n",
      "\u001b[2m\u001b[36m(<ray.tune.trainable.util._Trainable object at 0x7fea8ebda190> pid=15060)\u001b[0m [LightGBM] [Warning] lambda_l2 is set=0.01354657394850772, reg_lambda=0.0 will be ignored. Current value: lambda_l2=0.01354657394850772\n",
      "\u001b[2m\u001b[36m(<ray.tune.trainable.util._Trainable object at 0x7fea8ebda190> pid=15060)\u001b[0m [LightGBM] [Warning] learning_rate is set=0.1, eta=2.168422847657993e-06 will be ignored. Current value: learning_rate=0.1\n",
      "\u001b[2m\u001b[36m(<ray.tune.trainable.util._Trainable object at 0x7fea8ebda190> pid=15060)\u001b[0m [LightGBM] [Warning] lambda_l1 is set=0.027505887873708206, reg_alpha=0.0 will be ignored. Current value: lambda_l1=0.027505887873708206\n",
      "\u001b[2m\u001b[36m(<ray.tune.trainable.util._Trainable object at 0x7fea8ebda190> pid=15060)\u001b[0m [LightGBM] [Warning] bagging_fraction is set=0.0001214901812813622, subsample=1.0 will be ignored. Current value: bagging_fraction=0.0001214901812813622\n",
      "\u001b[2m\u001b[36m(<ray.tune.trainable.util._Trainable object at 0x7fea8ebda190> pid=15060)\u001b[0m [LightGBM] [Warning] lambda_l2 is set=0.01354657394850772, reg_lambda=0.0 will be ignored. Current value: lambda_l2=0.01354657394850772\n",
      "\u001b[2m\u001b[36m(<ray.tune.trainable.util._Trainable object at 0x7fea8ebda190> pid=15060)\u001b[0m [LightGBM] [Warning] learning_rate is set=0.1, eta=2.168422847657993e-06 will be ignored. Current value: learning_rate=0.1\n",
      "\u001b[2m\u001b[36m(<ray.tune.trainable.util._Trainable object at 0x7efdc6311220> pid=15063)\u001b[0m [LightGBM] [Warning] lambda_l1 is set=0.033288793245836265, reg_alpha=0.0 will be ignored. Current value: lambda_l1=0.033288793245836265\n",
      "\u001b[2m\u001b[36m(<ray.tune.trainable.util._Trainable object at 0x7efdc6311220> pid=15063)\u001b[0m [LightGBM] [Warning] bagging_fraction is set=0.904932425090007, subsample=1.0 will be ignored. Current value: bagging_fraction=0.904932425090007\n",
      "\u001b[2m\u001b[36m(<ray.tune.trainable.util._Trainable object at 0x7efdc6311220> pid=15063)\u001b[0m [LightGBM] [Warning] lambda_l2 is set=0.038711385749775055, reg_lambda=0.0 will be ignored. Current value: lambda_l2=0.038711385749775055\n",
      "\u001b[2m\u001b[36m(<ray.tune.trainable.util._Trainable object at 0x7efdc6311220> pid=15063)\u001b[0m [LightGBM] [Warning] learning_rate is set=0.1, eta=2.9396640962006708e-06 will be ignored. Current value: learning_rate=0.1\n",
      "\u001b[2m\u001b[36m(<ray.tune.trainable.util._Trainable object at 0x7efdc6311220> pid=15063)\u001b[0m [LightGBM] [Warning] lambda_l1 is set=0.033288793245836265, reg_alpha=0.0 will be ignored. Current value: lambda_l1=0.033288793245836265\n",
      "\u001b[2m\u001b[36m(<ray.tune.trainable.util._Trainable object at 0x7efdc6311220> pid=15063)\u001b[0m [LightGBM] [Warning] bagging_fraction is set=0.904932425090007, subsample=1.0 will be ignored. Current value: bagging_fraction=0.904932425090007\n",
      "\u001b[2m\u001b[36m(<ray.tune.trainable.util._Trainable object at 0x7efdc6311220> pid=15063)\u001b[0m [LightGBM] [Warning] lambda_l2 is set=0.038711385749775055, reg_lambda=0.0 will be ignored. Current value: lambda_l2=0.038711385749775055\n",
      "\u001b[2m\u001b[36m(<ray.tune.trainable.util._Trainable object at 0x7efdc6311220> pid=15063)\u001b[0m [LightGBM] [Warning] learning_rate is set=0.1, eta=2.9396640962006708e-06 will be ignored. Current value: learning_rate=0.1\n",
      "\u001b[2m\u001b[36m(<ray.tune.trainable.util._Trainable object at 0x7efdc6311220> pid=15063)\u001b[0m [LightGBM] [Warning] lambda_l1 is set=0.033288793245836265, reg_alpha=0.0 will be ignored. Current value: lambda_l1=0.033288793245836265\n",
      "\u001b[2m\u001b[36m(<ray.tune.trainable.util._Trainable object at 0x7efdc6311220> pid=15063)\u001b[0m [LightGBM] [Warning] bagging_fraction is set=0.904932425090007, subsample=1.0 will be ignored. Current value: bagging_fraction=0.904932425090007\n",
      "\u001b[2m\u001b[36m(<ray.tune.trainable.util._Trainable object at 0x7efdc6311220> pid=15063)\u001b[0m [LightGBM] [Warning] lambda_l2 is set=0.038711385749775055, reg_lambda=0.0 will be ignored. Current value: lambda_l2=0.038711385749775055\n",
      "\u001b[2m\u001b[36m(<ray.tune.trainable.util._Trainable object at 0x7efdc6311220> pid=15063)\u001b[0m [LightGBM] [Warning] learning_rate is set=0.1, eta=2.9396640962006708e-06 will be ignored. Current value: learning_rate=0.1\n",
      "\u001b[2m\u001b[36m(<ray.tune.trainable.util._Trainable object at 0x7fdeb88771c0> pid=15057)\u001b[0m [LightGBM] [Warning] lambda_l1 is set=0.07986123742778305, reg_alpha=0.0 will be ignored. Current value: lambda_l1=0.07986123742778305\n",
      "\u001b[2m\u001b[36m(<ray.tune.trainable.util._Trainable object at 0x7fdeb88771c0> pid=15057)\u001b[0m [LightGBM] [Warning] bagging_fraction is set=9.09965900665666e-06, subsample=1.0 will be ignored. Current value: bagging_fraction=9.09965900665666e-06\n",
      "\u001b[2m\u001b[36m(<ray.tune.trainable.util._Trainable object at 0x7fdeb88771c0> pid=15057)\u001b[0m [LightGBM] [Warning] lambda_l2 is set=0.01703265481689619, reg_lambda=0.0 will be ignored. Current value: lambda_l2=0.01703265481689619\n",
      "\u001b[2m\u001b[36m(<ray.tune.trainable.util._Trainable object at 0x7fdeb88771c0> pid=15057)\u001b[0m [LightGBM] [Warning] learning_rate is set=0.1, eta=1.8832953937007863e-06 will be ignored. Current value: learning_rate=0.1\n",
      "\u001b[2m\u001b[36m(<ray.tune.trainable.util._Trainable object at 0x7fdeb88771c0> pid=15057)\u001b[0m [LightGBM] [Warning] lambda_l1 is set=0.017486433829110793, reg_alpha=0.0 will be ignored. Current value: lambda_l1=0.017486433829110793\n",
      "\u001b[2m\u001b[36m(<ray.tune.trainable.util._Trainable object at 0x7fdeb88771c0> pid=15057)\u001b[0m [LightGBM] [Warning] bagging_fraction is set=0.9019329422940257, subsample=1.0 will be ignored. Current value: bagging_fraction=0.9019329422940257\n",
      "\u001b[2m\u001b[36m(<ray.tune.trainable.util._Trainable object at 0x7fdeb88771c0> pid=15057)\u001b[0m [LightGBM] [Warning] lambda_l2 is set=0.08658140154355723, reg_lambda=0.0 will be ignored. Current value: lambda_l2=0.08658140154355723\n",
      "\u001b[2m\u001b[36m(<ray.tune.trainable.util._Trainable object at 0x7fdeb88771c0> pid=15057)\u001b[0m [LightGBM] [Warning] learning_rate is set=0.1, eta=0.00011099831770629359 will be ignored. Current value: learning_rate=0.1\n",
      "\u001b[2m\u001b[36m(<ray.tune.trainable.util._Trainable object at 0x7fdeb88771c0> pid=15057)\u001b[0m [LightGBM] [Warning] lambda_l1 is set=0.017486433829110793, reg_alpha=0.0 will be ignored. Current value: lambda_l1=0.017486433829110793\n",
      "\u001b[2m\u001b[36m(<ray.tune.trainable.util._Trainable object at 0x7fdeb88771c0> pid=15057)\u001b[0m [LightGBM] [Warning] bagging_fraction is set=0.9019329422940257, subsample=1.0 will be ignored. Current value: bagging_fraction=0.9019329422940257\n",
      "\u001b[2m\u001b[36m(<ray.tune.trainable.util._Trainable object at 0x7fdeb88771c0> pid=15057)\u001b[0m [LightGBM] [Warning] lambda_l2 is set=0.08658140154355723, reg_lambda=0.0 will be ignored. Current value: lambda_l2=0.08658140154355723\n",
      "\u001b[2m\u001b[36m(<ray.tune.trainable.util._Trainable object at 0x7fdeb88771c0> pid=15057)\u001b[0m [LightGBM] [Warning] learning_rate is set=0.1, eta=0.00011099831770629359 will be ignored. Current value: learning_rate=0.1\n",
      "\u001b[2m\u001b[36m(<ray.tune.trainable.util._Trainable object at 0x7fdeb88771c0> pid=15057)\u001b[0m [LightGBM] [Warning] lambda_l1 is set=0.017486433829110793, reg_alpha=0.0 will be ignored. Current value: lambda_l1=0.017486433829110793\n",
      "\u001b[2m\u001b[36m(<ray.tune.trainable.util._Trainable object at 0x7fdeb88771c0> pid=15057)\u001b[0m [LightGBM] [Warning] bagging_fraction is set=0.9019329422940257, subsample=1.0 will be ignored. Current value: bagging_fraction=0.9019329422940257\n",
      "\u001b[2m\u001b[36m(<ray.tune.trainable.util._Trainable object at 0x7fdeb88771c0> pid=15057)\u001b[0m [LightGBM] [Warning] lambda_l2 is set=0.08658140154355723, reg_lambda=0.0 will be ignored. Current value: lambda_l2=0.08658140154355723\n",
      "\u001b[2m\u001b[36m(<ray.tune.trainable.util._Trainable object at 0x7fdeb88771c0> pid=15057)\u001b[0m [LightGBM] [Warning] learning_rate is set=0.1, eta=0.00011099831770629359 will be ignored. Current value: learning_rate=0.1\n",
      "\u001b[2m\u001b[36m(<ray.tune.trainable.util._Trainable object at 0x7fea8ebda190> pid=15060)\u001b[0m [LightGBM] [Warning] lambda_l1 is set=0.001418844270395612, reg_alpha=0.0 will be ignored. Current value: lambda_l1=0.001418844270395612\n",
      "\u001b[2m\u001b[36m(<ray.tune.trainable.util._Trainable object at 0x7fea8ebda190> pid=15060)\u001b[0m [LightGBM] [Warning] bagging_fraction is set=0.22097052848026166, subsample=1.0 will be ignored. Current value: bagging_fraction=0.22097052848026166\n",
      "\u001b[2m\u001b[36m(<ray.tune.trainable.util._Trainable object at 0x7fea8ebda190> pid=15060)\u001b[0m [LightGBM] [Warning] lambda_l2 is set=0.0015166126503651817, reg_lambda=0.0 will be ignored. Current value: lambda_l2=0.0015166126503651817\n",
      "\u001b[2m\u001b[36m(<ray.tune.trainable.util._Trainable object at 0x7fea8ebda190> pid=15060)\u001b[0m [LightGBM] [Warning] learning_rate is set=0.1, eta=3.4558490043267005e-06 will be ignored. Current value: learning_rate=0.1\n"
     ]
    },
    {
     "name": "stderr",
     "output_type": "stream",
     "text": [
      "2022-12-07 11:49:10,967\tINFO tensorboardx.py:267 -- Removed the following hyperparameter values when logging to tensorboard: {'cv': KFold(n_splits=3, random_state=None, shuffle=False), 'early_stop_type': <EarlyStopping.NO_EARLY_STOP: 7>, 'scoring/score': <function _passthrough_scorer at 0x7f2147f0f430>}\n",
      "2022-12-07 11:49:10,994\tINFO tensorboardx.py:267 -- Removed the following hyperparameter values when logging to tensorboard: {'cv': KFold(n_splits=3, random_state=None, shuffle=False), 'early_stop_type': <EarlyStopping.NO_EARLY_STOP: 7>, 'scoring/score': <function _passthrough_scorer at 0x7f2147f0f430>}\n",
      "2022-12-07 11:49:11,011\tINFO tensorboardx.py:267 -- Removed the following hyperparameter values when logging to tensorboard: {'cv': KFold(n_splits=3, random_state=None, shuffle=False), 'early_stop_type': <EarlyStopping.NO_EARLY_STOP: 7>, 'scoring/score': <function _passthrough_scorer at 0x7f2147f0f430>}\n",
      "2022-12-07 11:49:11,030\tINFO tensorboardx.py:267 -- Removed the following hyperparameter values when logging to tensorboard: {'cv': KFold(n_splits=3, random_state=None, shuffle=False), 'early_stop_type': <EarlyStopping.NO_EARLY_STOP: 7>, 'scoring/score': <function _passthrough_scorer at 0x7f2147f0f430>}\n",
      "2022-12-07 11:49:11,052\tINFO tensorboardx.py:267 -- Removed the following hyperparameter values when logging to tensorboard: {'cv': KFold(n_splits=3, random_state=None, shuffle=False), 'early_stop_type': <EarlyStopping.NO_EARLY_STOP: 7>, 'scoring/score': <function _passthrough_scorer at 0x7f2147f0f430>}\n",
      "2022-12-07 11:49:11,068\tINFO tensorboardx.py:267 -- Removed the following hyperparameter values when logging to tensorboard: {'cv': KFold(n_splits=3, random_state=None, shuffle=False), 'early_stop_type': <EarlyStopping.NO_EARLY_STOP: 7>, 'scoring/score': <function _passthrough_scorer at 0x7f2147f0f430>}\n"
     ]
    },
    {
     "name": "stdout",
     "output_type": "stream",
     "text": [
      "\u001b[2m\u001b[36m(<ray.tune.trainable.util._Trainable object at 0x7f1095078250> pid=15054)\u001b[0m [LightGBM] [Warning] lambda_l1 is set=0.00361663314180572, reg_alpha=0.0 will be ignored. Current value: lambda_l1=0.00361663314180572\n",
      "\u001b[2m\u001b[36m(<ray.tune.trainable.util._Trainable object at 0x7f1095078250> pid=15054)\u001b[0m [LightGBM] [Warning] bagging_fraction is set=2.3064443562318316e-05, subsample=1.0 will be ignored. Current value: bagging_fraction=2.3064443562318316e-05\n",
      "\u001b[2m\u001b[36m(<ray.tune.trainable.util._Trainable object at 0x7f1095078250> pid=15054)\u001b[0m [LightGBM] [Warning] lambda_l2 is set=0.008783119450287348, reg_lambda=0.0 will be ignored. Current value: lambda_l2=0.008783119450287348\n",
      "\u001b[2m\u001b[36m(<ray.tune.trainable.util._Trainable object at 0x7f1095078250> pid=15054)\u001b[0m [LightGBM] [Warning] learning_rate is set=0.1, eta=0.0005074112458039998 will be ignored. Current value: learning_rate=0.1\n",
      "\u001b[2m\u001b[36m(<ray.tune.trainable.util._Trainable object at 0x7f1095078250> pid=15054)\u001b[0m [LightGBM] [Warning] lambda_l1 is set=0.00361663314180572, reg_alpha=0.0 will be ignored. Current value: lambda_l1=0.00361663314180572\n",
      "\u001b[2m\u001b[36m(<ray.tune.trainable.util._Trainable object at 0x7f1095078250> pid=15054)\u001b[0m [LightGBM] [Warning] bagging_fraction is set=2.3064443562318316e-05, subsample=1.0 will be ignored. Current value: bagging_fraction=2.3064443562318316e-05\n",
      "\u001b[2m\u001b[36m(<ray.tune.trainable.util._Trainable object at 0x7f1095078250> pid=15054)\u001b[0m [LightGBM] [Warning] lambda_l2 is set=0.008783119450287348, reg_lambda=0.0 will be ignored. Current value: lambda_l2=0.008783119450287348\n",
      "\u001b[2m\u001b[36m(<ray.tune.trainable.util._Trainable object at 0x7f1095078250> pid=15054)\u001b[0m [LightGBM] [Warning] learning_rate is set=0.1, eta=0.0005074112458039998 will be ignored. Current value: learning_rate=0.1\n",
      "\u001b[2m\u001b[36m(<ray.tune.trainable.util._Trainable object at 0x7f1095078250> pid=15054)\u001b[0m [LightGBM] [Warning] lambda_l1 is set=0.00361663314180572, reg_alpha=0.0 will be ignored. Current value: lambda_l1=0.00361663314180572\n",
      "\u001b[2m\u001b[36m(<ray.tune.trainable.util._Trainable object at 0x7f1095078250> pid=15054)\u001b[0m [LightGBM] [Warning] bagging_fraction is set=2.3064443562318316e-05, subsample=1.0 will be ignored. Current value: bagging_fraction=2.3064443562318316e-05\n",
      "\u001b[2m\u001b[36m(<ray.tune.trainable.util._Trainable object at 0x7f1095078250> pid=15054)\u001b[0m [LightGBM] [Warning] lambda_l2 is set=0.008783119450287348, reg_lambda=0.0 will be ignored. Current value: lambda_l2=0.008783119450287348\n",
      "\u001b[2m\u001b[36m(<ray.tune.trainable.util._Trainable object at 0x7f1095078250> pid=15054)\u001b[0m [LightGBM] [Warning] learning_rate is set=0.1, eta=0.0005074112458039998 will be ignored. Current value: learning_rate=0.1\n",
      "\u001b[2m\u001b[36m(<ray.tune.trainable.util._Trainable object at 0x7fea8ebda190> pid=15060)\u001b[0m [LightGBM] [Warning] lambda_l1 is set=0.001418844270395612, reg_alpha=0.0 will be ignored. Current value: lambda_l1=0.001418844270395612\n",
      "\u001b[2m\u001b[36m(<ray.tune.trainable.util._Trainable object at 0x7fea8ebda190> pid=15060)\u001b[0m [LightGBM] [Warning] bagging_fraction is set=0.22097052848026166, subsample=1.0 will be ignored. Current value: bagging_fraction=0.22097052848026166\n",
      "\u001b[2m\u001b[36m(<ray.tune.trainable.util._Trainable object at 0x7fea8ebda190> pid=15060)\u001b[0m [LightGBM] [Warning] lambda_l2 is set=0.0015166126503651817, reg_lambda=0.0 will be ignored. Current value: lambda_l2=0.0015166126503651817\n",
      "\u001b[2m\u001b[36m(<ray.tune.trainable.util._Trainable object at 0x7fea8ebda190> pid=15060)\u001b[0m [LightGBM] [Warning] learning_rate is set=0.1, eta=3.4558490043267005e-06 will be ignored. Current value: learning_rate=0.1\n",
      "\u001b[2m\u001b[36m(<ray.tune.trainable.util._Trainable object at 0x7fea8ebda190> pid=15060)\u001b[0m [LightGBM] [Warning] lambda_l1 is set=0.001418844270395612, reg_alpha=0.0 will be ignored. Current value: lambda_l1=0.001418844270395612\n",
      "\u001b[2m\u001b[36m(<ray.tune.trainable.util._Trainable object at 0x7fea8ebda190> pid=15060)\u001b[0m [LightGBM] [Warning] bagging_fraction is set=0.22097052848026166, subsample=1.0 will be ignored. Current value: bagging_fraction=0.22097052848026166\n",
      "\u001b[2m\u001b[36m(<ray.tune.trainable.util._Trainable object at 0x7fea8ebda190> pid=15060)\u001b[0m [LightGBM] [Warning] lambda_l2 is set=0.0015166126503651817, reg_lambda=0.0 will be ignored. Current value: lambda_l2=0.0015166126503651817\n",
      "\u001b[2m\u001b[36m(<ray.tune.trainable.util._Trainable object at 0x7fea8ebda190> pid=15060)\u001b[0m [LightGBM] [Warning] learning_rate is set=0.1, eta=3.4558490043267005e-06 will be ignored. Current value: learning_rate=0.1\n",
      "\u001b[2m\u001b[36m(<ray.tune.trainable.util._Trainable object at 0x7fdeb88771c0> pid=15057)\u001b[0m [LightGBM] [Warning] lambda_l1 is set=0.08302269192802919, reg_alpha=0.0 will be ignored. Current value: lambda_l1=0.08302269192802919\n",
      "\u001b[2m\u001b[36m(<ray.tune.trainable.util._Trainable object at 0x7fdeb88771c0> pid=15057)\u001b[0m [LightGBM] [Warning] bagging_fraction is set=0.0006133343407222397, subsample=1.0 will be ignored. Current value: bagging_fraction=0.0006133343407222397\n",
      "\u001b[2m\u001b[36m(<ray.tune.trainable.util._Trainable object at 0x7fdeb88771c0> pid=15057)\u001b[0m [LightGBM] [Warning] lambda_l2 is set=0.004034829267212824, reg_lambda=0.0 will be ignored. Current value: lambda_l2=0.004034829267212824\n",
      "\u001b[2m\u001b[36m(<ray.tune.trainable.util._Trainable object at 0x7fdeb88771c0> pid=15057)\u001b[0m [LightGBM] [Warning] learning_rate is set=0.1, eta=4.497290571210916e-05 will be ignored. Current value: learning_rate=0.1\n",
      "\u001b[2m\u001b[36m(<ray.tune.trainable.util._Trainable object at 0x7fdeb88771c0> pid=15057)\u001b[0m [LightGBM] [Warning] lambda_l1 is set=0.08302269192802919, reg_alpha=0.0 will be ignored. Current value: lambda_l1=0.08302269192802919\n",
      "\u001b[2m\u001b[36m(<ray.tune.trainable.util._Trainable object at 0x7fdeb88771c0> pid=15057)\u001b[0m [LightGBM] [Warning] bagging_fraction is set=0.0006133343407222397, subsample=1.0 will be ignored. Current value: bagging_fraction=0.0006133343407222397\n",
      "\u001b[2m\u001b[36m(<ray.tune.trainable.util._Trainable object at 0x7fdeb88771c0> pid=15057)\u001b[0m [LightGBM] [Warning] lambda_l2 is set=0.004034829267212824, reg_lambda=0.0 will be ignored. Current value: lambda_l2=0.004034829267212824\n",
      "\u001b[2m\u001b[36m(<ray.tune.trainable.util._Trainable object at 0x7fdeb88771c0> pid=15057)\u001b[0m [LightGBM] [Warning] learning_rate is set=0.1, eta=4.497290571210916e-05 will be ignored. Current value: learning_rate=0.1\n",
      "\u001b[2m\u001b[36m(<ray.tune.trainable.util._Trainable object at 0x7feae71c9280> pid=15065)\u001b[0m [LightGBM] [Warning] lambda_l1 is set=0.08946011299943274, reg_alpha=0.0 will be ignored. Current value: lambda_l1=0.08946011299943274\n",
      "\u001b[2m\u001b[36m(<ray.tune.trainable.util._Trainable object at 0x7feae71c9280> pid=15065)\u001b[0m [LightGBM] [Warning] bagging_fraction is set=0.0009640208010365888, subsample=1.0 will be ignored. Current value: bagging_fraction=0.0009640208010365888\n",
      "\u001b[2m\u001b[36m(<ray.tune.trainable.util._Trainable object at 0x7feae71c9280> pid=15065)\u001b[0m [LightGBM] [Warning] lambda_l2 is set=0.01141317044996692, reg_lambda=0.0 will be ignored. Current value: lambda_l2=0.01141317044996692\n",
      "\u001b[2m\u001b[36m(<ray.tune.trainable.util._Trainable object at 0x7feae71c9280> pid=15065)\u001b[0m [LightGBM] [Warning] learning_rate is set=0.1, eta=5.137945724851099e-06 will be ignored. Current value: learning_rate=0.1\n",
      "\u001b[2m\u001b[36m(<ray.tune.trainable.util._Trainable object at 0x7feae71c9280> pid=15065)\u001b[0m [LightGBM] [Warning] lambda_l1 is set=0.08946011299943274, reg_alpha=0.0 will be ignored. Current value: lambda_l1=0.08946011299943274\n",
      "\u001b[2m\u001b[36m(<ray.tune.trainable.util._Trainable object at 0x7feae71c9280> pid=15065)\u001b[0m [LightGBM] [Warning] bagging_fraction is set=0.0009640208010365888, subsample=1.0 will be ignored. Current value: bagging_fraction=0.0009640208010365888\n",
      "\u001b[2m\u001b[36m(<ray.tune.trainable.util._Trainable object at 0x7feae71c9280> pid=15065)\u001b[0m [LightGBM] [Warning] lambda_l2 is set=0.01141317044996692, reg_lambda=0.0 will be ignored. Current value: lambda_l2=0.01141317044996692\n",
      "\u001b[2m\u001b[36m(<ray.tune.trainable.util._Trainable object at 0x7feae71c9280> pid=15065)\u001b[0m [LightGBM] [Warning] learning_rate is set=0.1, eta=5.137945724851099e-06 will be ignored. Current value: learning_rate=0.1\n",
      "\u001b[2m\u001b[36m(<ray.tune.trainable.util._Trainable object at 0x7feae71c9280> pid=15065)\u001b[0m [LightGBM] [Warning] lambda_l1 is set=0.08946011299943274, reg_alpha=0.0 will be ignored. Current value: lambda_l1=0.08946011299943274\n",
      "\u001b[2m\u001b[36m(<ray.tune.trainable.util._Trainable object at 0x7feae71c9280> pid=15065)\u001b[0m [LightGBM] [Warning] bagging_fraction is set=0.0009640208010365888, subsample=1.0 will be ignored. Current value: bagging_fraction=0.0009640208010365888\n",
      "\u001b[2m\u001b[36m(<ray.tune.trainable.util._Trainable object at 0x7feae71c9280> pid=15065)\u001b[0m [LightGBM] [Warning] lambda_l2 is set=0.01141317044996692, reg_lambda=0.0 will be ignored. Current value: lambda_l2=0.01141317044996692\n",
      "\u001b[2m\u001b[36m(<ray.tune.trainable.util._Trainable object at 0x7feae71c9280> pid=15065)\u001b[0m [LightGBM] [Warning] learning_rate is set=0.1, eta=5.137945724851099e-06 will be ignored. Current value: learning_rate=0.1\n",
      "\u001b[2m\u001b[36m(<ray.tune.trainable.util._Trainable object at 0x7fdeb88771c0> pid=15057)\u001b[0m [LightGBM] [Warning] lambda_l1 is set=0.08302269192802919, reg_alpha=0.0 will be ignored. Current value: lambda_l1=0.08302269192802919\n",
      "\u001b[2m\u001b[36m(<ray.tune.trainable.util._Trainable object at 0x7fdeb88771c0> pid=15057)\u001b[0m [LightGBM] [Warning] bagging_fraction is set=0.0006133343407222397, subsample=1.0 will be ignored. Current value: bagging_fraction=0.0006133343407222397\n",
      "\u001b[2m\u001b[36m(<ray.tune.trainable.util._Trainable object at 0x7fdeb88771c0> pid=15057)\u001b[0m [LightGBM] [Warning] lambda_l2 is set=0.004034829267212824, reg_lambda=0.0 will be ignored. Current value: lambda_l2=0.004034829267212824\n",
      "\u001b[2m\u001b[36m(<ray.tune.trainable.util._Trainable object at 0x7fdeb88771c0> pid=15057)\u001b[0m [LightGBM] [Warning] learning_rate is set=0.1, eta=4.497290571210916e-05 will be ignored. Current value: learning_rate=0.1\n",
      "\u001b[2m\u001b[36m(<ray.tune.trainable.util._Trainable object at 0x7feae71c9280> pid=15065)\u001b[0m [LightGBM] [Warning] lambda_l1 is set=0.008656783576885227, reg_alpha=0.0 will be ignored. Current value: lambda_l1=0.008656783576885227\n",
      "\u001b[2m\u001b[36m(<ray.tune.trainable.util._Trainable object at 0x7feae71c9280> pid=15065)\u001b[0m [LightGBM] [Warning] bagging_fraction is set=1.7214922732888842e-06, subsample=1.0 will be ignored. Current value: bagging_fraction=1.7214922732888842e-06\n",
      "\u001b[2m\u001b[36m(<ray.tune.trainable.util._Trainable object at 0x7feae71c9280> pid=15065)\u001b[0m [LightGBM] [Warning] lambda_l2 is set=0.010561334470109979, reg_lambda=0.0 will be ignored. Current value: lambda_l2=0.010561334470109979\n",
      "\u001b[2m\u001b[36m(<ray.tune.trainable.util._Trainable object at 0x7feae71c9280> pid=15065)\u001b[0m [LightGBM] [Warning] learning_rate is set=0.1, eta=0.08124339952259883 will be ignored. Current value: learning_rate=0.1\n",
      "\u001b[2m\u001b[36m(<ray.tune.trainable.util._Trainable object at 0x7feae71c9280> pid=15065)\u001b[0m [LightGBM] [Warning] lambda_l1 is set=0.008656783576885227, reg_alpha=0.0 will be ignored. Current value: lambda_l1=0.008656783576885227\n",
      "\u001b[2m\u001b[36m(<ray.tune.trainable.util._Trainable object at 0x7feae71c9280> pid=15065)\u001b[0m [LightGBM] [Warning] bagging_fraction is set=1.7214922732888842e-06, subsample=1.0 will be ignored. Current value: bagging_fraction=1.7214922732888842e-06\n",
      "\u001b[2m\u001b[36m(<ray.tune.trainable.util._Trainable object at 0x7feae71c9280> pid=15065)\u001b[0m [LightGBM] [Warning] lambda_l2 is set=0.010561334470109979, reg_lambda=0.0 will be ignored. Current value: lambda_l2=0.010561334470109979\n",
      "\u001b[2m\u001b[36m(<ray.tune.trainable.util._Trainable object at 0x7feae71c9280> pid=15065)\u001b[0m [LightGBM] [Warning] learning_rate is set=0.1, eta=0.08124339952259883 will be ignored. Current value: learning_rate=0.1\n",
      "\u001b[2m\u001b[36m(<ray.tune.trainable.util._Trainable object at 0x7feae71c9280> pid=15065)\u001b[0m [LightGBM] [Warning] lambda_l1 is set=0.008656783576885227, reg_alpha=0.0 will be ignored. Current value: lambda_l1=0.008656783576885227\n",
      "\u001b[2m\u001b[36m(<ray.tune.trainable.util._Trainable object at 0x7feae71c9280> pid=15065)\u001b[0m [LightGBM] [Warning] bagging_fraction is set=1.7214922732888842e-06, subsample=1.0 will be ignored. Current value: bagging_fraction=1.7214922732888842e-06\n",
      "\u001b[2m\u001b[36m(<ray.tune.trainable.util._Trainable object at 0x7feae71c9280> pid=15065)\u001b[0m [LightGBM] [Warning] lambda_l2 is set=0.010561334470109979, reg_lambda=0.0 will be ignored. Current value: lambda_l2=0.010561334470109979\n",
      "\u001b[2m\u001b[36m(<ray.tune.trainable.util._Trainable object at 0x7feae71c9280> pid=15065)\u001b[0m [LightGBM] [Warning] learning_rate is set=0.1, eta=0.08124339952259883 will be ignored. Current value: learning_rate=0.1\n"
     ]
    },
    {
     "name": "stderr",
     "output_type": "stream",
     "text": [
      "2022-12-07T11:49:11CET : INFO : ensemble : fetch_models : 215 : Message : base model training completed\n"
     ]
    },
    {
     "name": "stdout",
     "output_type": "stream",
     "text": [
      "[LightGBM] [Warning] lambda_l1 is set=0.08946011299943274, reg_alpha=0.0 will be ignored. Current value: lambda_l1=0.08946011299943274\n",
      "[LightGBM] [Warning] bagging_fraction is set=0.0009640208010365888, subsample=1.0 will be ignored. Current value: bagging_fraction=0.0009640208010365888\n",
      "[LightGBM] [Warning] lambda_l2 is set=0.01141317044996692, reg_lambda=0.0 will be ignored. Current value: lambda_l2=0.01141317044996692\n",
      "[LightGBM] [Warning] learning_rate is set=0.1, eta=5.137945724851099e-06 will be ignored. Current value: learning_rate=0.1\n"
     ]
    }
   ],
   "source": [
    "ens_mdl.fetch_models(X_train, X_test, y_train, y_test)"
   ]
  },
  {
   "cell_type": "code",
   "execution_count": 8,
   "id": "ec23dfe3",
   "metadata": {},
   "outputs": [
    {
     "data": {
      "text/plain": [
       "1"
      ]
     },
     "execution_count": 8,
     "metadata": {},
     "output_type": "execute_result"
    }
   ],
   "source": [
    "len(ens_mdl.base_models)"
   ]
  },
  {
   "cell_type": "code",
   "execution_count": 10,
   "id": "0209db21",
   "metadata": {},
   "outputs": [],
   "source": [
    "attr_algos = ['IG', 'SHAP', 'GradientSHAP'] #, 'knockoff']\n",
    "ex = Explainable(ens_mdl, X_train)"
   ]
  },
  {
   "cell_type": "code",
   "execution_count": 11,
   "id": "a8d01148",
   "metadata": {},
   "outputs": [
    {
     "name": "stderr",
     "output_type": "stream",
     "text": [
      "2022-12-07T08:54:24CET : INFO : explainable_tune : get_attr : 153 : Message : attribution methods  ['ig', 'shap', 'gradientshap']\n",
      "2022-12-07T08:54:24CET : INFO : explainable_tune : get_attr : 156 : Message : calculating variable importance on  slug_lgbm\n",
      "2022-12-07T08:54:25CET : INFO : explainable_tune : get_attr : 156 : Message : calculating variable importance on  brisk_xgboost\n",
      "\u001b[2m\u001b[36m(__get_shapley_ensemble_attr__ pid=657056)\u001b[0m ntree_limit is deprecated, use `iteration_range` or model slicing instead.\n"
     ]
    },
    {
     "data": {
      "text/plain": [
       "cols\n",
       "IP         62.5\n",
       "index      58.5\n",
       "TIME_ID    53.5\n",
       "RGEO       31.5\n",
       "SHOT       31.0\n",
       "           ... \n",
       "BGASZ       0.0\n",
       "BGASA       0.0\n",
       "NELFORM     0.0\n",
       "DNELDT      0.0\n",
       "TOK         0.0\n",
       "Length: 64, dtype: float64"
      ]
     },
     "execution_count": 11,
     "metadata": {},
     "output_type": "execute_result"
    }
   ],
   "source": [
    "ex.get_attr(attr_algos)"
   ]
  },
  {
   "cell_type": "code",
   "execution_count": null,
   "id": "3d9ee380",
   "metadata": {},
   "outputs": [],
   "source": []
  },
  {
   "cell_type": "code",
   "execution_count": null,
   "id": "852e38a2",
   "metadata": {},
   "outputs": [],
   "source": []
  }
 ],
 "metadata": {
  "kernelspec": {
   "display_name": "Python 3.8.13 ('automl')",
   "language": "python",
   "name": "python3"
  },
  "language_info": {
   "codemirror_mode": {
    "name": "ipython",
    "version": 3
   },
   "file_extension": ".py",
   "mimetype": "text/x-python",
   "name": "python",
   "nbconvert_exporter": "python",
   "pygments_lexer": "ipython3",
   "version": "3.8.13"
  },
  "vscode": {
   "interpreter": {
    "hash": "6ceb9dcfe4855088cb408ca84060dddedae3a13bd9f61da61d02274285d7dc6d"
   }
  }
 },
 "nbformat": 4,
 "nbformat_minor": 5
}
