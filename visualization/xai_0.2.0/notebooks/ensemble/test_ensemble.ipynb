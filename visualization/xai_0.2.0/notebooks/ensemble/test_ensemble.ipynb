{
 "cells": [
  {
   "cell_type": "code",
   "execution_count": 11,
   "id": "6e22ae6c-f298-4c9a-b5ac-8a648578c728",
   "metadata": {},
   "outputs": [
    {
     "name": "stdout",
     "output_type": "stream",
     "text": [
      "The autoreload extension is already loaded. To reload it, use:\n",
      "  %reload_ext autoreload\n"
     ]
    }
   ],
   "source": [
    "import sys; sys.path.insert(0, '../..') # add parent folder path where lib folder is\n",
    "\n",
    "%load_ext autoreload\n",
    "%autoreload 2\n",
    "\n",
    "from utils import helper, config, rayer, kaggle_dataset_helper\n",
    "\n",
    "from sklearn.preprocessing import StandardScaler\n",
    "from sklearn.model_selection import train_test_split\n",
    "\n",
    "from ml.models.ensemble import Ensemble\n",
    "\n",
    "from sklearn.metrics import make_scorer\n",
    "from sklearn.metrics import r2_score, mean_squared_error\n",
    "from sklearn.metrics import f1_score, roc_auc_score, precision_score, recall_score\n",
    "from ml.models import common\n",
    "\n",
    "import ray\n",
    "\n",
    "\n",
    "import time\n",
    "import pandas as pd\n",
    "import pyarrow.fs"
   ]
  },
  {
   "cell_type": "code",
   "execution_count": 2,
   "id": "d1862778-af52-49d2-9130-9a6a6a7a8f0e",
   "metadata": {},
   "outputs": [
    {
     "data": {
      "text/plain": [
       "<module 'ray' from '/home/vagrant/miniconda3/envs/automl/lib/python3.8/site-packages/ray/__init__.py'>"
      ]
     },
     "execution_count": 2,
     "metadata": {},
     "output_type": "execute_result"
    }
   ],
   "source": [
    "# rayer.get_global_cluster()\n",
    "rayer.get_local_cluster()"
   ]
  },
  {
   "cell_type": "code",
   "execution_count": 3,
   "id": "c564af28",
   "metadata": {},
   "outputs": [],
   "source": [
    "def use_tokamat_ds():\n",
    "    df = helper.get_tokamat_dataset()\n",
    "    df = df.reset_index()\n",
    "\n",
    "    df = common.label_encode(df)\n",
    "    df = df.fillna(-1)\n",
    "\n",
    "    potential_targets = ['WTOT', 'WTH', 'PLTH']\n",
    "    y = df[potential_targets[0]]\n",
    "\n",
    "    X = df[df.columns[~df.columns.isin(potential_targets)]]\n",
    "    X = X.drop(['TOK_ID', 'LCUPDATE', 'DATE', 'NEL', 'ENBI'], axis = 1)\n",
    "\n",
    "    # X_train, X_test, y_train, y_test = train_test_split(X, y, test_size=0.33)\n",
    "    return train_test_split(X, y, test_size=0.33)\n",
    "\n",
    "\n",
    "def use_covid_ds():\n",
    "    df_X, df_y = helper.get_covid_dataset()\n",
    "    df_X = df_X.drop(['location'], axis = 1)\n",
    "\n",
    "    return train_test_split(df_X, df_y, test_size=0.33)\n",
    "\n",
    "\n",
    "def use_transaction_predictions_ds():\n",
    "    ds_train, ds_test = kaggle_dataset_helper.get_transaction_predictions_dataset()\n",
    "    ds_train = common.label_encode(ds_train)\n",
    "    ds_test = common.label_encode(ds_test)\n",
    "\n",
    "    ds_train = ds_train.fillna(-1)\n",
    "    ds_test = ds_test.fillna(-1)\n",
    "\n",
    "    df_X = ds_train.loc[:, ds_train.columns != 'target']\n",
    "    df_y = ds_train['target']\n",
    "\n",
    "    return train_test_split(df_X, df_y, test_size=0.33, random_state=config.rand_state)\n",
    "\n",
    "\n",
    "\n",
    "def use_house_pricing_ds():\n",
    "    ds_train, ds_test = kaggle_dataset_helper.get_house_prices_dataset()\n",
    "    ds_train = common.label_encode(ds_train)\n",
    "    ds_test = common.label_encode(ds_test)\n",
    "\n",
    "    ds_train = ds_train.fillna(-1)\n",
    "    ds_test = ds_test.fillna(-1)\n",
    "\n",
    "\n",
    "    df_X = ds_train.loc[:, ds_train.columns != 'SalePrice']\n",
    "    df_y = ds_train['SalePrice']\n",
    "\n",
    "    return train_test_split(df_X, df_y, test_size=0.33, random_state=config.rand_state)\n"
   ]
  },
  {
   "cell_type": "code",
   "execution_count": 4,
   "id": "40663476",
   "metadata": {},
   "outputs": [
    {
     "name": "stdout",
     "output_type": "stream",
     "text": [
      "/mnt/c/Users/rwmas/GitHub/xai/python-asd/xai_0.2.0/notebooks/ensemble/../../utils\n"
     ]
    }
   ],
   "source": [
    "X_train, X_test, y_train, y_test = use_tokamat_ds()"
   ]
  },
  {
   "cell_type": "code",
   "execution_count": 5,
   "id": "ca4119cb",
   "metadata": {},
   "outputs": [],
   "source": [
    "r2_scoring = make_scorer(score_func=r2_score, greater_is_better=False)"
   ]
  },
  {
   "cell_type": "code",
   "execution_count": null,
   "id": "78286b03",
   "metadata": {},
   "outputs": [],
   "source": [
    "ens_mdl = Ensemble(   \n",
    "                                xgb_objective='binary:logistic',  # [\"reg:squarederror\", \"count:poisson\", \"binary:logistic\",  \"binary:hinge\" ]\n",
    "                                lgbm_objective='binary',    # https://lightgbm.readthedocs.io/en/latest/Parameters.html\n",
    "                                pred_class='classification',\n",
    "                                score_func=None,\n",
    "                                metric_func=None,\n",
    "                                list_base_models=[],\n",
    "                                n_trials=10,          ### common param\n",
    "                                epochs=15,             ### ANN param\n",
    "                                boosted_round=10,      ### boosting tree param\n",
    "                                max_depth=30,          ### boosting tree param\n",
    "                                max_n_estimators=1500, ### rf param\n",
    "                                n_estimators=30,       ### bagging param, must be > 10 \n",
    "                                n_neighbors=30,        ### knn param, must be > 5\n",
    "\n",
    "                                ensemble_n_estimators=30,  ###  must be > 10\n",
    "                                ensemble_n_trials=10,\n",
    "                                timeout=None\n",
    "                 )"
   ]
  },
  {
   "cell_type": "code",
   "execution_count": 28,
   "id": "30fb07c2",
   "metadata": {},
   "outputs": [],
   "source": [
    "# list_base_models = ['briskbagging', 'briskknn', 'briskxgboost', 'slugxgboost', 'sluglgbm','slugrf']\n",
    "ens_mdl = Ensemble(   \n",
    "                                xgb_objective='count:poisson',  # [\"reg:squarederror\", \"count:poisson\", \"binary:logistic\",  \"binary:hinge\" ]\n",
    "                                lgbm_objective='poisson',    # https://lightgbm.readthedocs.io/en/latest/Parameters.html\n",
    "                                pred_class='regression',\n",
    "                                score_func=None,\n",
    "                                metric_func=None,\n",
    "                                list_base_models=['sluglgbm', 'briskxgboost'],\n",
    "                                n_trials=10,          ### common param\n",
    "                                epochs=15,             ### ANN param\n",
    "                                boosted_round=10,      ### boosting tree param\n",
    "                                max_depth=30,          ### boosting tree param\n",
    "                                max_n_estimators=1500, ### rf param\n",
    "                                n_estimators=30,       ### bagging param, must be > 10 \n",
    "                                n_neighbors=30,        ### knn param, must be > 5\n",
    "\n",
    "                                ensemble_n_estimators=30,  ###  must be > 10\n",
    "                                ensemble_n_trials=10,\n",
    "                                timeout=None\n",
    "                 )"
   ]
  },
  {
   "cell_type": "code",
   "execution_count": 29,
   "id": "5cbf5650",
   "metadata": {},
   "outputs": [
    {
     "name": "stderr",
     "output_type": "stream",
     "text": [
      "2022-12-07T16:13:08CET : INFO : ensemble : fetch_models_pll : 167 : Message : Ensemble: starting discovery process for models [<ml.models.base.tune.slug_lightgbm.SlugLGBM object at 0x7f16c071aa30>, <ml.models.base.tune.brisk_xgboost.BriskXGBoost object at 0x7f16e02aedf0>]\n"
     ]
    },
    {
     "name": "stdout",
     "output_type": "stream",
     "text": [
      "\u001b[2m\u001b[1m\u001b[33m(scheduler +1h23m36s)\u001b[0m Warning: The following resource request cannot be scheduled right now: {'CPU': 1.0}. This is likely due to all cluster resources being claimed by actors. Consider creating fewer actors or adding more nodes to this Ray cluster.\n",
      "\u001b[2m\u001b[1m\u001b[33m(scheduler +1h24m12s)\u001b[0m Warning: The following resource request cannot be scheduled right now: {'CPU': 1.0}. This is likely due to all cluster resources being claimed by actors. Consider creating fewer actors or adding more nodes to this Ray cluster.\n",
      "\u001b[2m\u001b[1m\u001b[33m(scheduler +1h24m47s)\u001b[0m Warning: The following resource request cannot be scheduled right now: {'CPU': 1.0}. This is likely due to all cluster resources being claimed by actors. Consider creating fewer actors or adding more nodes to this Ray cluster.\n",
      "\u001b[2m\u001b[1m\u001b[33m(scheduler +1h25m22s)\u001b[0m Warning: The following resource request cannot be scheduled right now: {'CPU': 1.0}. This is likely due to all cluster resources being claimed by actors. Consider creating fewer actors or adding more nodes to this Ray cluster.\n",
      "\u001b[2m\u001b[1m\u001b[33m(scheduler +1h25m57s)\u001b[0m Warning: The following resource request cannot be scheduled right now: {'CPU': 1.0}. This is likely due to all cluster resources being claimed by actors. Consider creating fewer actors or adding more nodes to this Ray cluster.\n",
      "\u001b[2m\u001b[1m\u001b[33m(scheduler +1h26m32s)\u001b[0m Warning: The following resource request cannot be scheduled right now: {'CPU': 1.0}. This is likely due to all cluster resources being claimed by actors. Consider creating fewer actors or adding more nodes to this Ray cluster.\n",
      "\u001b[2m\u001b[1m\u001b[33m(scheduler +1h27m7s)\u001b[0m Warning: The following resource request cannot be scheduled right now: {'CPU': 1.0}. This is likely due to all cluster resources being claimed by actors. Consider creating fewer actors or adding more nodes to this Ray cluster.\n",
      "\u001b[2m\u001b[1m\u001b[33m(scheduler +1h27m42s)\u001b[0m Warning: The following resource request cannot be scheduled right now: {'CPU': 1.0}. This is likely due to all cluster resources being claimed by actors. Consider creating fewer actors or adding more nodes to this Ray cluster.\n",
      "\u001b[2m\u001b[1m\u001b[33m(scheduler +1h28m17s)\u001b[0m Warning: The following resource request cannot be scheduled right now: {'CPU': 1.0}. This is likely due to all cluster resources being claimed by actors. Consider creating fewer actors or adding more nodes to this Ray cluster.\n",
      "\u001b[2m\u001b[1m\u001b[33m(scheduler +1h28m52s)\u001b[0m Warning: The following resource request cannot be scheduled right now: {'CPU': 1.0}. This is likely due to all cluster resources being claimed by actors. Consider creating fewer actors or adding more nodes to this Ray cluster.\n",
      "\u001b[2m\u001b[1m\u001b[33m(scheduler +1h29m28s)\u001b[0m Warning: The following resource request cannot be scheduled right now: {'CPU': 1.0}. This is likely due to all cluster resources being claimed by actors. Consider creating fewer actors or adding more nodes to this Ray cluster.\n",
      "\u001b[2m\u001b[1m\u001b[33m(scheduler +1h30m3s)\u001b[0m Warning: The following resource request cannot be scheduled right now: {'CPU': 1.0}. This is likely due to all cluster resources being claimed by actors. Consider creating fewer actors or adding more nodes to this Ray cluster.\n",
      "\u001b[2m\u001b[1m\u001b[33m(scheduler +1h30m38s)\u001b[0m Warning: The following resource request cannot be scheduled right now: {'CPU': 1.0}. This is likely due to all cluster resources being claimed by actors. Consider creating fewer actors or adding more nodes to this Ray cluster.\n",
      "\u001b[2m\u001b[1m\u001b[33m(scheduler +1h31m13s)\u001b[0m Warning: The following resource request cannot be scheduled right now: {'CPU': 1.0}. This is likely due to all cluster resources being claimed by actors. Consider creating fewer actors or adding more nodes to this Ray cluster.\n",
      "\u001b[2m\u001b[1m\u001b[33m(scheduler +1h31m48s)\u001b[0m Warning: The following resource request cannot be scheduled right now: {'CPU': 1.0}. This is likely due to all cluster resources being claimed by actors. Consider creating fewer actors or adding more nodes to this Ray cluster.\n",
      "\u001b[2m\u001b[1m\u001b[33m(scheduler +1h32m23s)\u001b[0m Warning: The following resource request cannot be scheduled right now: {'CPU': 1.0}. This is likely due to all cluster resources being claimed by actors. Consider creating fewer actors or adding more nodes to this Ray cluster.\n",
      "\u001b[2m\u001b[1m\u001b[33m(scheduler +1h32m58s)\u001b[0m Warning: The following resource request cannot be scheduled right now: {'CPU': 1.0}. This is likely due to all cluster resources being claimed by actors. Consider creating fewer actors or adding more nodes to this Ray cluster.\n",
      "\u001b[2m\u001b[1m\u001b[33m(scheduler +1h33m33s)\u001b[0m Warning: The following resource request cannot be scheduled right now: {'CPU': 1.0}. This is likely due to all cluster resources being claimed by actors. Consider creating fewer actors or adding more nodes to this Ray cluster.\n",
      "\u001b[2m\u001b[1m\u001b[33m(scheduler +1h34m8s)\u001b[0m Warning: The following resource request cannot be scheduled right now: {'CPU': 1.0}. This is likely due to all cluster resources being claimed by actors. Consider creating fewer actors or adding more nodes to this Ray cluster.\n",
      "\u001b[2m\u001b[1m\u001b[33m(scheduler +1h34m44s)\u001b[0m Warning: The following resource request cannot be scheduled right now: {'CPU': 1.0}. This is likely due to all cluster resources being claimed by actors. Consider creating fewer actors or adding more nodes to this Ray cluster.\n",
      "\u001b[2m\u001b[1m\u001b[33m(scheduler +1h35m19s)\u001b[0m Warning: The following resource request cannot be scheduled right now: {'CPU': 1.0}. This is likely due to all cluster resources being claimed by actors. Consider creating fewer actors or adding more nodes to this Ray cluster.\n",
      "\u001b[2m\u001b[1m\u001b[33m(scheduler +1h35m54s)\u001b[0m Warning: The following resource request cannot be scheduled right now: {'CPU': 1.0}. This is likely due to all cluster resources being claimed by actors. Consider creating fewer actors or adding more nodes to this Ray cluster.\n",
      "\u001b[2m\u001b[1m\u001b[33m(scheduler +1h36m29s)\u001b[0m Warning: The following resource request cannot be scheduled right now: {'CPU': 1.0}. This is likely due to all cluster resources being claimed by actors. Consider creating fewer actors or adding more nodes to this Ray cluster.\n"
     ]
    }
   ],
   "source": [
    "# threshold, select all model with goodness of fit > threshold\n",
    "ens_mdl.fetch_models_pll(X_train, X_test, y_train, y_test, threshold=0.1)"
   ]
  },
  {
   "cell_type": "code",
   "execution_count": null,
   "id": "ec23dfe3",
   "metadata": {},
   "outputs": [
    {
     "data": {
      "text/plain": [
       "2"
      ]
     },
     "execution_count": 20,
     "metadata": {},
     "output_type": "execute_result"
    }
   ],
   "source": [
    "len(ens_mdl.base_models)"
   ]
  },
  {
   "cell_type": "code",
   "execution_count": null,
   "id": "a8d01148",
   "metadata": {},
   "outputs": [
    {
     "data": {
      "text/plain": [
       "([[-1.4034107964169187, -1.4456948604698048],\n",
       "  [0.999999999999706, 0.9566478490345863]],\n",
       " [0.9999949564626046, 0.9569707529868895])"
      ]
     },
     "execution_count": 21,
     "metadata": {},
     "output_type": "execute_result"
    }
   ],
   "source": [
    "ens_mdl.base_model_scores, ens_mdl.scores"
   ]
  },
  {
   "cell_type": "code",
   "execution_count": 22,
   "id": "0ae9439d",
   "metadata": {},
   "outputs": [
    {
     "data": {
      "text/plain": [
       "array([1096666.66666667,  755000.        ,  109518.51851852, ...,\n",
       "        703888.88888889,  259770.37037037,  167096.2962963 ])"
      ]
     },
     "execution_count": 22,
     "metadata": {},
     "output_type": "execute_result"
    }
   ],
   "source": [
    "ens_mdl.predict(X_test)"
   ]
  },
  {
   "cell_type": "code",
   "execution_count": null,
   "id": "3d9ee380",
   "metadata": {},
   "outputs": [],
   "source": []
  },
  {
   "cell_type": "code",
   "execution_count": null,
   "id": "852e38a2",
   "metadata": {},
   "outputs": [],
   "source": []
  }
 ],
 "metadata": {
  "kernelspec": {
   "display_name": "Python 3.8.13 ('automl')",
   "language": "python",
   "name": "python3"
  },
  "language_info": {
   "codemirror_mode": {
    "name": "ipython",
    "version": 3
   },
   "file_extension": ".py",
   "mimetype": "text/x-python",
   "name": "python",
   "nbconvert_exporter": "python",
   "pygments_lexer": "ipython3",
   "version": "3.8.13"
  },
  "vscode": {
   "interpreter": {
    "hash": "6ceb9dcfe4855088cb408ca84060dddedae3a13bd9f61da61d02274285d7dc6d"
   }
  }
 },
 "nbformat": 4,
 "nbformat_minor": 5
}
