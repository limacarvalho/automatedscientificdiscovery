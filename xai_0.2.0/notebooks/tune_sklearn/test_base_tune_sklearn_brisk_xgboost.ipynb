{
 "cells": [
  {
   "cell_type": "code",
   "execution_count": 18,
   "id": "6e22ae6c-f298-4c9a-b5ac-8a648578c728",
   "metadata": {},
   "outputs": [
    {
     "name": "stdout",
     "output_type": "stream",
     "text": [
      "The autoreload extension is already loaded. To reload it, use:\n",
      "  %reload_ext autoreload\n"
     ]
    }
   ],
   "source": [
    "import sys; sys.path.insert(0, '../..') # add parent folder path where lib folder is\n",
    "\n",
    "%load_ext autoreload\n",
    "%autoreload 2\n",
    "\n",
    "from utils import helper, config, rayer, kaggle_dataset_helper\n",
    "\n",
    "from sklearn.preprocessing import StandardScaler\n",
    "from sklearn.model_selection import train_test_split\n",
    "\n",
    "from ml.models.base.tune.brisk_xgboost import BriskXGBoost\n",
    "\n",
    "from sklearn.metrics import make_scorer\n",
    "from sklearn.metrics import r2_score, mean_squared_error\n",
    "from sklearn.metrics import f1_score, roc_auc_score, precision_score, recall_score\n",
    "from ml.models import common\n",
    "\n",
    "import ray\n",
    "\n",
    "\n",
    "import time\n",
    "import pandas as pd\n",
    "import pyarrow.fs"
   ]
  },
  {
   "cell_type": "code",
   "execution_count": 19,
   "id": "d1862778-af52-49d2-9130-9a6a6a7a8f0e",
   "metadata": {},
   "outputs": [],
   "source": [
    "rayer.get_global_cluster()"
   ]
  },
  {
   "cell_type": "code",
   "execution_count": 20,
   "id": "40663476",
   "metadata": {},
   "outputs": [
    {
     "name": "stdout",
     "output_type": "stream",
     "text": [
      "/mnt/c/Users/rwmas/GitHub/xai/python-asd/xai/notebooks/tune_sklearn/../../utils\n"
     ]
    }
   ],
   "source": [
    "df = helper.get_tokamat_dataset()\n",
    "df = df.reset_index()\n",
    "\n",
    "df = common.label_encode(df)\n",
    "df = df.fillna(-1)"
   ]
  },
  {
   "cell_type": "code",
   "execution_count": 21,
   "id": "5d3718f8",
   "metadata": {},
   "outputs": [],
   "source": [
    "potential_targets = ['WTOT', 'WTH', 'PLTH']\n",
    "y = df[potential_targets[0]]\n",
    "\n",
    "X = df[df.columns[~df.columns.isin(potential_targets)]]\n",
    "X = X.drop(['TOK_ID', 'LCUPDATE', 'DATE', 'NEL', 'ENBI'], axis = 1)\n",
    "\n",
    "X_train, X_test, y_train, y_test = train_test_split(X, y, test_size=0.33)"
   ]
  },
  {
   "cell_type": "code",
   "execution_count": 22,
   "id": "ca4119cb",
   "metadata": {},
   "outputs": [],
   "source": [
    "r2_scoring = make_scorer(score_func=r2_score, greater_is_better=False)"
   ]
  },
  {
   "cell_type": "code",
   "execution_count": 24,
   "id": "28b030e1-d4f4-4ae8-bada-160188b0649f",
   "metadata": {},
   "outputs": [],
   "source": [
    "objective = \"count:poisson\" # [\"reg:squarederror\", \"count:poisson\", \"binary:logistic\",  \"binary:hinge\" ]\n",
    "\n",
    "brisk_xgboost_1 = BriskXGBoost(name='tune_brisk_xgboost_1', objective=objective,\n",
    "                                                pred_class='regression',\n",
    "                                                #n_estimators=100,\n",
    "                                                score_func=None,\n",
    "                                                #metric_func=mean_squared_error, \n",
    "                                                n_trials=2)"
   ]
  },
  {
   "cell_type": "code",
   "execution_count": 25,
   "id": "15980d34",
   "metadata": {},
   "outputs": [
    {
     "data": {
      "text/html": [],
      "text/plain": [
       "<IPython.core.display.HTML object>"
      ]
     },
     "metadata": {},
     "output_type": "display_data"
    },
    {
     "name": "stderr",
     "output_type": "stream",
     "text": [
      "\u001b[2m\u001b[36m(run pid=23398)\u001b[0m /home/rayuser/.local/lib/python3.8/site-packages/ray/tune/execution/trial_runner.py:363: UserWarning: fail_fast='raise' detected. Be careful when using this mode as resources (such as Ray processes, file descriptors, and temporary files) may not be cleaned up properly. To use a safer mode, use fail_fast=True.\n",
      "\u001b[2m\u001b[36m(run pid=23398)\u001b[0m   warnings.warn(\n",
      "\u001b[2m\u001b[36m(run pid=23398)\u001b[0m 2022-12-06 09:59:39,395\tINFO tensorboardx.py:267 -- Removed the following hyperparameter values when logging to tensorboard: {'cv': KFold(n_splits=3, random_state=None, shuffle=False), 'early_stop_type': <EarlyStopping.NO_EARLY_STOP: 7>, 'scoring/score': <function _passthrough_scorer at 0x7fed3c5baca0>}\n",
      "\u001b[2m\u001b[36m(run pid=23398)\u001b[0m 2022-12-06 09:59:44,040\tINFO tensorboardx.py:267 -- Removed the following hyperparameter values when logging to tensorboard: {'cv': KFold(n_splits=3, random_state=None, shuffle=False), 'early_stop_type': <EarlyStopping.NO_EARLY_STOP: 7>, 'scoring/score': <function _passthrough_scorer at 0x7fed3c5baca0>}\n"
     ]
    }
   ],
   "source": [
    "brisk_xgboost_1.fit(X_train, X_test, y_train, y_test)"
   ]
  },
  {
   "cell_type": "code",
   "execution_count": 26,
   "id": "98698bff",
   "metadata": {},
   "outputs": [
    {
     "data": {
      "text/plain": [
       "[-1.2025579405296912e+26, -5.034220642428739e+26]"
      ]
     },
     "execution_count": 26,
     "metadata": {},
     "output_type": "execute_result"
    }
   ],
   "source": [
    "brisk_xgboost_1.scores"
   ]
  },
  {
   "cell_type": "code",
   "execution_count": 27,
   "id": "e32e7ff8",
   "metadata": {},
   "outputs": [
    {
     "data": {
      "text/plain": [
       "-5.034220642428739e+26"
      ]
     },
     "execution_count": 27,
     "metadata": {},
     "output_type": "execute_result"
    }
   ],
   "source": [
    "brisk_xgboost_1.score(X_test, y_test)"
   ]
  },
  {
   "cell_type": "code",
   "execution_count": null,
   "id": "d44ab91a",
   "metadata": {},
   "outputs": [],
   "source": []
  }
 ],
 "metadata": {
  "kernelspec": {
   "display_name": "Python 3.8.13 ('automl')",
   "language": "python",
   "name": "python3"
  },
  "language_info": {
   "codemirror_mode": {
    "name": "ipython",
    "version": 3
   },
   "file_extension": ".py",
   "mimetype": "text/x-python",
   "name": "python",
   "nbconvert_exporter": "python",
   "pygments_lexer": "ipython3",
   "version": "3.8.13"
  },
  "vscode": {
   "interpreter": {
    "hash": "6ceb9dcfe4855088cb408ca84060dddedae3a13bd9f61da61d02274285d7dc6d"
   }
  }
 },
 "nbformat": 4,
 "nbformat_minor": 5
}
