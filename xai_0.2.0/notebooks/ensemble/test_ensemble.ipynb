{
 "cells": [
  {
   "cell_type": "code",
   "execution_count": 2,
   "id": "6e22ae6c-f298-4c9a-b5ac-8a648578c728",
   "metadata": {},
   "outputs": [
    {
     "name": "stdout",
     "output_type": "stream",
     "text": [
      "The autoreload extension is already loaded. To reload it, use:\n",
      "  %reload_ext autoreload\n"
     ]
    }
   ],
   "source": [
    "import sys; sys.path.insert(0, '../..') # add parent folder path where lib folder is\n",
    "\n",
    "%load_ext autoreload\n",
    "%autoreload 2\n",
    "\n",
    "from utils import helper, config, rayer, kaggle_dataset_helper\n",
    "\n",
    "from sklearn.preprocessing import StandardScaler\n",
    "from sklearn.model_selection import train_test_split\n",
    "\n",
    "from ml.models.ensemble import Ensemble\n",
    "\n",
    "from sklearn.metrics import make_scorer\n",
    "from sklearn.metrics import r2_score, mean_squared_error\n",
    "from sklearn.metrics import f1_score, roc_auc_score, precision_score, recall_score\n",
    "from ml.models import common\n",
    "\n",
    "import ray\n",
    "\n",
    "\n",
    "import time\n",
    "import pandas as pd\n",
    "import pyarrow.fs"
   ]
  },
  {
   "cell_type": "code",
   "execution_count": 3,
   "id": "d1862778-af52-49d2-9130-9a6a6a7a8f0e",
   "metadata": {},
   "outputs": [
    {
     "data": {
      "text/plain": [
       "<module 'ray' from '/home/vagrant/miniconda3/envs/automl/lib/python3.8/site-packages/ray/__init__.py'>"
      ]
     },
     "execution_count": 3,
     "metadata": {},
     "output_type": "execute_result"
    }
   ],
   "source": [
    "# rayer.get_global_cluster()\n",
    "rayer.get_local_cluster()"
   ]
  },
  {
   "cell_type": "code",
   "execution_count": 4,
   "id": "c564af28",
   "metadata": {},
   "outputs": [],
   "source": [
    "def use_tokamat_ds():\n",
    "    df = helper.get_tokamat_dataset()\n",
    "    df = df.reset_index()\n",
    "\n",
    "    df = common.label_encode(df)\n",
    "    df = df.fillna(-1)\n",
    "\n",
    "    potential_targets = ['WTOT', 'WTH', 'PLTH']\n",
    "    y = df[potential_targets[0]]\n",
    "\n",
    "    X = df[df.columns[~df.columns.isin(potential_targets)]]\n",
    "    X = X.drop(['TOK_ID', 'LCUPDATE', 'DATE', 'NEL', 'ENBI'], axis = 1)\n",
    "\n",
    "    # X_train, X_test, y_train, y_test = train_test_split(X, y, test_size=0.33)\n",
    "    return train_test_split(X, y, test_size=0.33)\n",
    "\n",
    "\n",
    "def use_covid_ds():\n",
    "    df_X, df_y = helper.get_covid_dataset()\n",
    "    df_X = df_X.drop(['location'], axis = 1)\n",
    "\n",
    "    return train_test_split(df_X, df_y, test_size=0.33)\n",
    "\n",
    "\n",
    "def use_transaction_predictions_ds():\n",
    "    ds_train, ds_test = kaggle_dataset_helper.get_transaction_predictions_dataset()\n",
    "    ds_train = common.label_encode(ds_train)\n",
    "    ds_test = common.label_encode(ds_test)\n",
    "\n",
    "    ds_train = ds_train.fillna(-1)\n",
    "    ds_test = ds_test.fillna(-1)\n",
    "\n",
    "    df_X = ds_train.loc[:, ds_train.columns != 'target']\n",
    "    df_y = ds_train['target']\n",
    "\n",
    "    return train_test_split(df_X, df_y, test_size=0.33, random_state=config.rand_state)\n",
    "\n",
    "\n",
    "\n",
    "def use_house_pricing_ds():\n",
    "    ds_train, ds_test = kaggle_dataset_helper.get_house_prices_dataset()\n",
    "    ds_train = common.label_encode(ds_train)\n",
    "    ds_test = common.label_encode(ds_test)\n",
    "\n",
    "    ds_train = ds_train.fillna(-1)\n",
    "    ds_test = ds_test.fillna(-1)\n",
    "\n",
    "\n",
    "    df_X = ds_train.loc[:, ds_train.columns != 'SalePrice']\n",
    "    df_y = ds_train['SalePrice']\n",
    "\n",
    "    return train_test_split(df_X, df_y, test_size=0.33, random_state=config.rand_state)\n"
   ]
  },
  {
   "cell_type": "code",
   "execution_count": 5,
   "id": "40663476",
   "metadata": {},
   "outputs": [
    {
     "name": "stdout",
     "output_type": "stream",
     "text": [
      "/mnt/c/Users/rwmas/GitHub/xai/python-asd/xai_0.2.0/notebooks/ensemble/../../utils\n"
     ]
    }
   ],
   "source": [
    "X_train, X_test, y_train, y_test = use_tokamat_ds()"
   ]
  },
  {
   "cell_type": "code",
   "execution_count": 5,
   "id": "ca4119cb",
   "metadata": {},
   "outputs": [],
   "source": [
    "r2_scoring = make_scorer(score_func=r2_score, greater_is_better=False)"
   ]
  },
  {
   "cell_type": "code",
   "execution_count": null,
   "id": "78286b03",
   "metadata": {},
   "outputs": [],
   "source": [
    "ens_mdl = Ensemble(   \n",
    "                                xgb_objective='binary:logistic',  # [\"reg:squarederror\", \"count:poisson\", \"binary:logistic\",  \"binary:hinge\" ]\n",
    "                                lgbm_objective='binary',    # https://lightgbm.readthedocs.io/en/latest/Parameters.html\n",
    "                                pred_class='classification',\n",
    "                                score_func=None,\n",
    "                                metric_func=None,\n",
    "                                list_base_models=[],\n",
    "                                n_trials=10,          ### common param\n",
    "                                epochs=15,             ### ANN param\n",
    "                                boosted_round=10,      ### boosting tree param\n",
    "                                max_depth=30,          ### boosting tree param\n",
    "                                max_n_estimators=1500, ### rf param\n",
    "                                n_estimators=30,       ### bagging param, must be > 10 \n",
    "                                n_neighbors=30,        ### knn param, must be > 5\n",
    "\n",
    "                                ensemble_n_estimators=30,  ###  must be > 10\n",
    "                                ensemble_n_trials=10,\n",
    "                                timeout=None\n",
    "                 )"
   ]
  },
  {
   "cell_type": "code",
   "execution_count": 6,
   "id": "30fb07c2",
   "metadata": {},
   "outputs": [],
   "source": [
    "# list_base_models = ['briskbagging', 'briskknn', 'briskxgboost', 'slugxgboost', 'sluglgbm','slugrf']\n",
    "ens_mdl = Ensemble(   \n",
    "                                xgb_objective='count:poisson',  # [\"reg:squarederror\", \"count:poisson\", \"binary:logistic\",  \"binary:hinge\" ]\n",
    "                                lgbm_objective='poisson',    # https://lightgbm.readthedocs.io/en/latest/Parameters.html\n",
    "                                pred_class='regression',\n",
    "                                score_func=None,\n",
    "                                metric_func=None,\n",
    "                                list_base_models=['sluglgbm'],\n",
    "                                n_trials=10,          ### common param\n",
    "                                epochs=15,             ### ANN param\n",
    "                                boosted_round=10,      ### boosting tree param\n",
    "                                max_depth=30,          ### boosting tree param\n",
    "                                max_n_estimators=1500, ### rf param\n",
    "                                n_estimators=30,       ### bagging param, must be > 10 \n",
    "                                n_neighbors=30,        ### knn param, must be > 5\n",
    "\n",
    "                                ensemble_n_estimators=30,  ###  must be > 10\n",
    "                                ensemble_n_trials=10,\n",
    "                                timeout=None\n",
    "                 )"
   ]
  },
  {
   "cell_type": "code",
   "execution_count": 7,
   "id": "5cbf5650",
   "metadata": {},
   "outputs": [
    {
     "data": {
      "text/html": [],
      "text/plain": [
       "<IPython.core.display.HTML object>"
      ]
     },
     "metadata": {},
     "output_type": "display_data"
    },
    {
     "name": "stderr",
     "output_type": "stream",
     "text": [
      "\u001b[2m\u001b[36m(run pid=565190)\u001b[0m /home/rayuser/.local/lib/python3.8/site-packages/ray/tune/execution/trial_runner.py:363: UserWarning: fail_fast='raise' detected. Be careful when using this mode as resources (such as Ray processes, file descriptors, and temporary files) may not be cleaned up properly. To use a safer mode, use fail_fast=True.\n",
      "\u001b[2m\u001b[36m(run pid=565190)\u001b[0m   warnings.warn(\n"
     ]
    },
    {
     "name": "stdout",
     "output_type": "stream",
     "text": [
      "\u001b[2m\u001b[36m(<ray.tune.trainable.util._Trainable object at 0x7fe734f8f5e0> pid=114072, ip=192.168.0.38)\u001b[0m [LightGBM] [Warning] lambda_l1 is set=0.0030112853696505518, reg_alpha=0.0 will be ignored. Current value: lambda_l1=0.0030112853696505518\n",
      "\u001b[2m\u001b[36m(<ray.tune.trainable.util._Trainable object at 0x7fe734f8f5e0> pid=114072, ip=192.168.0.38)\u001b[0m [LightGBM] [Warning] bagging_fraction is set=1.0615194071732567e-06, subsample=1.0 will be ignored. Current value: bagging_fraction=1.0615194071732567e-06\n",
      "\u001b[2m\u001b[36m(<ray.tune.trainable.util._Trainable object at 0x7fe734f8f5e0> pid=114072, ip=192.168.0.38)\u001b[0m [LightGBM] [Warning] lambda_l2 is set=0.01462215265581158, reg_lambda=0.0 will be ignored. Current value: lambda_l2=0.01462215265581158\n",
      "\u001b[2m\u001b[36m(<ray.tune.trainable.util._Trainable object at 0x7fe734f8f5e0> pid=114072, ip=192.168.0.38)\u001b[0m [LightGBM] [Warning] learning_rate is set=0.1, eta=0.003754600878564795 will be ignored. Current value: learning_rate=0.1\n",
      "\u001b[2m\u001b[36m(<ray.tune.trainable.util._Trainable object at 0x7fe734f8f5e0> pid=114072, ip=192.168.0.38)\u001b[0m [LightGBM] [Warning] lambda_l1 is set=0.0030112853696505518, reg_alpha=0.0 will be ignored. Current value: lambda_l1=0.0030112853696505518\n",
      "\u001b[2m\u001b[36m(<ray.tune.trainable.util._Trainable object at 0x7fe734f8f5e0> pid=114072, ip=192.168.0.38)\u001b[0m [LightGBM] [Warning] bagging_fraction is set=1.0615194071732567e-06, subsample=1.0 will be ignored. Current value: bagging_fraction=1.0615194071732567e-06\n",
      "\u001b[2m\u001b[36m(<ray.tune.trainable.util._Trainable object at 0x7fe734f8f5e0> pid=114072, ip=192.168.0.38)\u001b[0m [LightGBM] [Warning] lambda_l2 is set=0.01462215265581158, reg_lambda=0.0 will be ignored. Current value: lambda_l2=0.01462215265581158\n",
      "\u001b[2m\u001b[36m(<ray.tune.trainable.util._Trainable object at 0x7fe734f8f5e0> pid=114072, ip=192.168.0.38)\u001b[0m [LightGBM] [Warning] learning_rate is set=0.1, eta=0.003754600878564795 will be ignored. Current value: learning_rate=0.1\n",
      "\u001b[2m\u001b[36m(<ray.tune.trainable.util._Trainable object at 0x7fe734f8f5e0> pid=114072, ip=192.168.0.38)\u001b[0m [LightGBM] [Warning] lambda_l1 is set=0.0030112853696505518, reg_alpha=0.0 will be ignored. Current value: lambda_l1=0.0030112853696505518\n",
      "\u001b[2m\u001b[36m(<ray.tune.trainable.util._Trainable object at 0x7fe734f8f5e0> pid=114072, ip=192.168.0.38)\u001b[0m [LightGBM] [Warning] bagging_fraction is set=1.0615194071732567e-06, subsample=1.0 will be ignored. Current value: bagging_fraction=1.0615194071732567e-06\n",
      "\u001b[2m\u001b[36m(<ray.tune.trainable.util._Trainable object at 0x7fe734f8f5e0> pid=114072, ip=192.168.0.38)\u001b[0m [LightGBM] [Warning] lambda_l2 is set=0.01462215265581158, reg_lambda=0.0 will be ignored. Current value: lambda_l2=0.01462215265581158\n",
      "\u001b[2m\u001b[36m(<ray.tune.trainable.util._Trainable object at 0x7fe734f8f5e0> pid=114072, ip=192.168.0.38)\u001b[0m [LightGBM] [Warning] learning_rate is set=0.1, eta=0.003754600878564795 will be ignored. Current value: learning_rate=0.1\n",
      "\u001b[2m\u001b[36m(<ray.tune.trainable.util._Trainable object at 0x7fbdcdad7700> pid=114074, ip=192.168.0.38)\u001b[0m [LightGBM] [Warning] lambda_l1 is set=0.008575021056969426, reg_alpha=0.0 will be ignored. Current value: lambda_l1=0.008575021056969426\n",
      "\u001b[2m\u001b[36m(<ray.tune.trainable.util._Trainable object at 0x7fbdcdad7700> pid=114074, ip=192.168.0.38)\u001b[0m [LightGBM] [Warning] bagging_fraction is set=0.13389148392725483, subsample=1.0 will be ignored. Current value: bagging_fraction=0.13389148392725483\n",
      "\u001b[2m\u001b[36m(<ray.tune.trainable.util._Trainable object at 0x7fbdcdad7700> pid=114074, ip=192.168.0.38)\u001b[0m [LightGBM] [Warning] lambda_l2 is set=0.0016363285404592165, reg_lambda=0.0 will be ignored. Current value: lambda_l2=0.0016363285404592165\n",
      "\u001b[2m\u001b[36m(<ray.tune.trainable.util._Trainable object at 0x7fbdcdad7700> pid=114074, ip=192.168.0.38)\u001b[0m [LightGBM] [Warning] learning_rate is set=0.1, eta=0.001419454176176355 will be ignored. Current value: learning_rate=0.1\n",
      "\u001b[2m\u001b[36m(<ray.tune.trainable.util._Trainable object at 0x7fbdcdad7700> pid=114074, ip=192.168.0.38)\u001b[0m [LightGBM] [Warning] lambda_l1 is set=0.008575021056969426, reg_alpha=0.0 will be ignored. Current value: lambda_l1=0.008575021056969426\n",
      "\u001b[2m\u001b[36m(<ray.tune.trainable.util._Trainable object at 0x7fbdcdad7700> pid=114074, ip=192.168.0.38)\u001b[0m [LightGBM] [Warning] bagging_fraction is set=0.13389148392725483, subsample=1.0 will be ignored. Current value: bagging_fraction=0.13389148392725483\n",
      "\u001b[2m\u001b[36m(<ray.tune.trainable.util._Trainable object at 0x7fbdcdad7700> pid=114074, ip=192.168.0.38)\u001b[0m [LightGBM] [Warning] lambda_l2 is set=0.0016363285404592165, reg_lambda=0.0 will be ignored. Current value: lambda_l2=0.0016363285404592165\n",
      "\u001b[2m\u001b[36m(<ray.tune.trainable.util._Trainable object at 0x7fbdcdad7700> pid=114074, ip=192.168.0.38)\u001b[0m [LightGBM] [Warning] learning_rate is set=0.1, eta=0.001419454176176355 will be ignored. Current value: learning_rate=0.1\n",
      "\u001b[2m\u001b[36m(<ray.tune.trainable.util._Trainable object at 0x7fbdcdad7700> pid=114074, ip=192.168.0.38)\u001b[0m [LightGBM] [Warning] lambda_l1 is set=0.008575021056969426, reg_alpha=0.0 will be ignored. Current value: lambda_l1=0.008575021056969426\n",
      "\u001b[2m\u001b[36m(<ray.tune.trainable.util._Trainable object at 0x7fbdcdad7700> pid=114074, ip=192.168.0.38)\u001b[0m [LightGBM] [Warning] bagging_fraction is set=0.13389148392725483, subsample=1.0 will be ignored. Current value: bagging_fraction=0.13389148392725483\n",
      "\u001b[2m\u001b[36m(<ray.tune.trainable.util._Trainable object at 0x7fbdcdad7700> pid=114074, ip=192.168.0.38)\u001b[0m [LightGBM] [Warning] lambda_l2 is set=0.0016363285404592165, reg_lambda=0.0 will be ignored. Current value: lambda_l2=0.0016363285404592165\n",
      "\u001b[2m\u001b[36m(<ray.tune.trainable.util._Trainable object at 0x7fbdcdad7700> pid=114074, ip=192.168.0.38)\u001b[0m [LightGBM] [Warning] learning_rate is set=0.1, eta=0.001419454176176355 will be ignored. Current value: learning_rate=0.1\n"
     ]
    },
    {
     "name": "stderr",
     "output_type": "stream",
     "text": [
      "\u001b[2m\u001b[36m(run pid=565190)\u001b[0m 2022-12-07 07:42:53,736\tINFO tensorboardx.py:267 -- Removed the following hyperparameter values when logging to tensorboard: {'cv': KFold(n_splits=3, random_state=None, shuffle=False), 'early_stop_type': <EarlyStopping.NO_EARLY_STOP: 7>, 'scoring/score': <function _passthrough_scorer at 0x7f70c712c790>}\n"
     ]
    },
    {
     "name": "stdout",
     "output_type": "stream",
     "text": [
      "\u001b[2m\u001b[36m(<ray.tune.trainable.util._Trainable object at 0x7f07143f6580> pid=114076, ip=192.168.0.38)\u001b[0m [LightGBM] [Warning] lambda_l1 is set=0.05105574379786557, reg_alpha=0.0 will be ignored. Current value: lambda_l1=0.05105574379786557\n",
      "\u001b[2m\u001b[36m(<ray.tune.trainable.util._Trainable object at 0x7f07143f6580> pid=114076, ip=192.168.0.38)\u001b[0m [LightGBM] [Warning] bagging_fraction is set=0.0003443471605223412, subsample=1.0 will be ignored. Current value: bagging_fraction=0.0003443471605223412\n",
      "\u001b[2m\u001b[36m(<ray.tune.trainable.util._Trainable object at 0x7f07143f6580> pid=114076, ip=192.168.0.38)\u001b[0m [LightGBM] [Warning] lambda_l2 is set=0.0022677035501819306, reg_lambda=0.0 will be ignored. Current value: lambda_l2=0.0022677035501819306\n",
      "\u001b[2m\u001b[36m(<ray.tune.trainable.util._Trainable object at 0x7f07143f6580> pid=114076, ip=192.168.0.38)\u001b[0m [LightGBM] [Warning] learning_rate is set=0.1, eta=0.05881598895353193 will be ignored. Current value: learning_rate=0.1\n",
      "\u001b[2m\u001b[36m(<ray.tune.trainable.util._Trainable object at 0x7f07143f6580> pid=114076, ip=192.168.0.38)\u001b[0m [LightGBM] [Warning] lambda_l1 is set=0.05105574379786557, reg_alpha=0.0 will be ignored. Current value: lambda_l1=0.05105574379786557\n",
      "\u001b[2m\u001b[36m(<ray.tune.trainable.util._Trainable object at 0x7f07143f6580> pid=114076, ip=192.168.0.38)\u001b[0m [LightGBM] [Warning] bagging_fraction is set=0.0003443471605223412, subsample=1.0 will be ignored. Current value: bagging_fraction=0.0003443471605223412\n",
      "\u001b[2m\u001b[36m(<ray.tune.trainable.util._Trainable object at 0x7f07143f6580> pid=114076, ip=192.168.0.38)\u001b[0m [LightGBM] [Warning] lambda_l2 is set=0.0022677035501819306, reg_lambda=0.0 will be ignored. Current value: lambda_l2=0.0022677035501819306\n",
      "\u001b[2m\u001b[36m(<ray.tune.trainable.util._Trainable object at 0x7f07143f6580> pid=114076, ip=192.168.0.38)\u001b[0m [LightGBM] [Warning] learning_rate is set=0.1, eta=0.05881598895353193 will be ignored. Current value: learning_rate=0.1\n",
      "\u001b[2m\u001b[36m(<ray.tune.trainable.util._Trainable object at 0x7fa2a79cd670> pid=114078, ip=192.168.0.38)\u001b[0m [LightGBM] [Warning] lambda_l1 is set=0.0010548463116543745, reg_alpha=0.0 will be ignored. Current value: lambda_l1=0.0010548463116543745\n",
      "\u001b[2m\u001b[36m(<ray.tune.trainable.util._Trainable object at 0x7fa2a79cd670> pid=114078, ip=192.168.0.38)\u001b[0m [LightGBM] [Warning] bagging_fraction is set=0.00038734171249778595, subsample=1.0 will be ignored. Current value: bagging_fraction=0.00038734171249778595\n",
      "\u001b[2m\u001b[36m(<ray.tune.trainable.util._Trainable object at 0x7fa2a79cd670> pid=114078, ip=192.168.0.38)\u001b[0m [LightGBM] [Warning] lambda_l2 is set=0.015924724095992313, reg_lambda=0.0 will be ignored. Current value: lambda_l2=0.015924724095992313\n",
      "\u001b[2m\u001b[36m(<ray.tune.trainable.util._Trainable object at 0x7fa2a79cd670> pid=114078, ip=192.168.0.38)\u001b[0m [LightGBM] [Warning] learning_rate is set=0.1, eta=9.95643411382645e-06 will be ignored. Current value: learning_rate=0.1\n",
      "\u001b[2m\u001b[36m(<ray.tune.trainable.util._Trainable object at 0x7f07143f6580> pid=114076, ip=192.168.0.38)\u001b[0m [LightGBM] [Warning] lambda_l1 is set=0.05105574379786557, reg_alpha=0.0 will be ignored. Current value: lambda_l1=0.05105574379786557\n",
      "\u001b[2m\u001b[36m(<ray.tune.trainable.util._Trainable object at 0x7f07143f6580> pid=114076, ip=192.168.0.38)\u001b[0m [LightGBM] [Warning] bagging_fraction is set=0.0003443471605223412, subsample=1.0 will be ignored. Current value: bagging_fraction=0.0003443471605223412\n",
      "\u001b[2m\u001b[36m(<ray.tune.trainable.util._Trainable object at 0x7f07143f6580> pid=114076, ip=192.168.0.38)\u001b[0m [LightGBM] [Warning] lambda_l2 is set=0.0022677035501819306, reg_lambda=0.0 will be ignored. Current value: lambda_l2=0.0022677035501819306\n",
      "\u001b[2m\u001b[36m(<ray.tune.trainable.util._Trainable object at 0x7f07143f6580> pid=114076, ip=192.168.0.38)\u001b[0m [LightGBM] [Warning] learning_rate is set=0.1, eta=0.05881598895353193 will be ignored. Current value: learning_rate=0.1\n",
      "\u001b[2m\u001b[36m(<ray.tune.trainable.util._Trainable object at 0x7fa2a79cd670> pid=114078, ip=192.168.0.38)\u001b[0m [LightGBM] [Warning] lambda_l1 is set=0.0010548463116543745, reg_alpha=0.0 will be ignored. Current value: lambda_l1=0.0010548463116543745\n",
      "\u001b[2m\u001b[36m(<ray.tune.trainable.util._Trainable object at 0x7fa2a79cd670> pid=114078, ip=192.168.0.38)\u001b[0m [LightGBM] [Warning] bagging_fraction is set=0.00038734171249778595, subsample=1.0 will be ignored. Current value: bagging_fraction=0.00038734171249778595\n",
      "\u001b[2m\u001b[36m(<ray.tune.trainable.util._Trainable object at 0x7fa2a79cd670> pid=114078, ip=192.168.0.38)\u001b[0m [LightGBM] [Warning] lambda_l2 is set=0.015924724095992313, reg_lambda=0.0 will be ignored. Current value: lambda_l2=0.015924724095992313\n",
      "\u001b[2m\u001b[36m(<ray.tune.trainable.util._Trainable object at 0x7fa2a79cd670> pid=114078, ip=192.168.0.38)\u001b[0m [LightGBM] [Warning] learning_rate is set=0.1, eta=9.95643411382645e-06 will be ignored. Current value: learning_rate=0.1\n",
      "\u001b[2m\u001b[36m(<ray.tune.trainable.util._Trainable object at 0x7fa2a79cd670> pid=114078, ip=192.168.0.38)\u001b[0m [LightGBM] [Warning] lambda_l1 is set=0.0010548463116543745, reg_alpha=0.0 will be ignored. Current value: lambda_l1=0.0010548463116543745\n",
      "\u001b[2m\u001b[36m(<ray.tune.trainable.util._Trainable object at 0x7fa2a79cd670> pid=114078, ip=192.168.0.38)\u001b[0m [LightGBM] [Warning] bagging_fraction is set=0.00038734171249778595, subsample=1.0 will be ignored. Current value: bagging_fraction=0.00038734171249778595\n",
      "\u001b[2m\u001b[36m(<ray.tune.trainable.util._Trainable object at 0x7fa2a79cd670> pid=114078, ip=192.168.0.38)\u001b[0m [LightGBM] [Warning] lambda_l2 is set=0.015924724095992313, reg_lambda=0.0 will be ignored. Current value: lambda_l2=0.015924724095992313\n",
      "\u001b[2m\u001b[36m(<ray.tune.trainable.util._Trainable object at 0x7fa2a79cd670> pid=114078, ip=192.168.0.38)\u001b[0m [LightGBM] [Warning] learning_rate is set=0.1, eta=9.95643411382645e-06 will be ignored. Current value: learning_rate=0.1\n",
      "\u001b[2m\u001b[36m(<ray.tune.trainable.util._Trainable object at 0x7fe4e7173490> pid=114083, ip=192.168.0.38)\u001b[0m [LightGBM] [Warning] lambda_l1 is set=0.06599005469031685, reg_alpha=0.0 will be ignored. Current value: lambda_l1=0.06599005469031685\n",
      "\u001b[2m\u001b[36m(<ray.tune.trainable.util._Trainable object at 0x7fe4e7173490> pid=114083, ip=192.168.0.38)\u001b[0m [LightGBM] [Warning] bagging_fraction is set=0.16532356712095428, subsample=1.0 will be ignored. Current value: bagging_fraction=0.16532356712095428\n",
      "\u001b[2m\u001b[36m(<ray.tune.trainable.util._Trainable object at 0x7fe4e7173490> pid=114083, ip=192.168.0.38)\u001b[0m [LightGBM] [Warning] lambda_l2 is set=0.007826195876429945, reg_lambda=0.0 will be ignored. Current value: lambda_l2=0.007826195876429945\n",
      "\u001b[2m\u001b[36m(<ray.tune.trainable.util._Trainable object at 0x7fe4e7173490> pid=114083, ip=192.168.0.38)\u001b[0m [LightGBM] [Warning] learning_rate is set=0.1, eta=0.0474614686402825 will be ignored. Current value: learning_rate=0.1\n",
      "\u001b[2m\u001b[36m(<ray.tune.trainable.util._Trainable object at 0x7fe4e7173490> pid=114083, ip=192.168.0.38)\u001b[0m [LightGBM] [Warning] lambda_l1 is set=0.06599005469031685, reg_alpha=0.0 will be ignored. Current value: lambda_l1=0.06599005469031685\n",
      "\u001b[2m\u001b[36m(<ray.tune.trainable.util._Trainable object at 0x7fe4e7173490> pid=114083, ip=192.168.0.38)\u001b[0m [LightGBM] [Warning] bagging_fraction is set=0.16532356712095428, subsample=1.0 will be ignored. Current value: bagging_fraction=0.16532356712095428\n",
      "\u001b[2m\u001b[36m(<ray.tune.trainable.util._Trainable object at 0x7fe4e7173490> pid=114083, ip=192.168.0.38)\u001b[0m [LightGBM] [Warning] lambda_l2 is set=0.007826195876429945, reg_lambda=0.0 will be ignored. Current value: lambda_l2=0.007826195876429945\n",
      "\u001b[2m\u001b[36m(<ray.tune.trainable.util._Trainable object at 0x7fe4e7173490> pid=114083, ip=192.168.0.38)\u001b[0m [LightGBM] [Warning] learning_rate is set=0.1, eta=0.0474614686402825 will be ignored. Current value: learning_rate=0.1\n",
      "\u001b[2m\u001b[36m(<ray.tune.trainable.util._Trainable object at 0x7fe4e7173490> pid=114083, ip=192.168.0.38)\u001b[0m [LightGBM] [Warning] lambda_l1 is set=0.06599005469031685, reg_alpha=0.0 will be ignored. Current value: lambda_l1=0.06599005469031685\n",
      "\u001b[2m\u001b[36m(<ray.tune.trainable.util._Trainable object at 0x7fe4e7173490> pid=114083, ip=192.168.0.38)\u001b[0m [LightGBM] [Warning] bagging_fraction is set=0.16532356712095428, subsample=1.0 will be ignored. Current value: bagging_fraction=0.16532356712095428\n",
      "\u001b[2m\u001b[36m(<ray.tune.trainable.util._Trainable object at 0x7fe4e7173490> pid=114083, ip=192.168.0.38)\u001b[0m [LightGBM] [Warning] lambda_l2 is set=0.007826195876429945, reg_lambda=0.0 will be ignored. Current value: lambda_l2=0.007826195876429945\n",
      "\u001b[2m\u001b[36m(<ray.tune.trainable.util._Trainable object at 0x7fe4e7173490> pid=114083, ip=192.168.0.38)\u001b[0m [LightGBM] [Warning] learning_rate is set=0.1, eta=0.0474614686402825 will be ignored. Current value: learning_rate=0.1\n",
      "\u001b[2m\u001b[36m(<ray.tune.trainable.util._Trainable object at 0x7f3f6ce425b0> pid=114081, ip=192.168.0.38)\u001b[0m [LightGBM] [Warning] lambda_l1 is set=0.06607961538801423, reg_alpha=0.0 will be ignored. Current value: lambda_l1=0.06607961538801423\n",
      "\u001b[2m\u001b[36m(<ray.tune.trainable.util._Trainable object at 0x7f3f6ce425b0> pid=114081, ip=192.168.0.38)\u001b[0m [LightGBM] [Warning] bagging_fraction is set=0.0007097077506466366, subsample=1.0 will be ignored. Current value: bagging_fraction=0.0007097077506466366\n",
      "\u001b[2m\u001b[36m(<ray.tune.trainable.util._Trainable object at 0x7f3f6ce425b0> pid=114081, ip=192.168.0.38)\u001b[0m [LightGBM] [Warning] lambda_l2 is set=0.009085186796465633, reg_lambda=0.0 will be ignored. Current value: lambda_l2=0.009085186796465633\n",
      "\u001b[2m\u001b[36m(<ray.tune.trainable.util._Trainable object at 0x7f3f6ce425b0> pid=114081, ip=192.168.0.38)\u001b[0m [LightGBM] [Warning] learning_rate is set=0.1, eta=0.0009020157736131435 will be ignored. Current value: learning_rate=0.1\n",
      "\u001b[2m\u001b[36m(<ray.tune.trainable.util._Trainable object at 0x7f3f6ce425b0> pid=114081, ip=192.168.0.38)\u001b[0m [LightGBM] [Warning] lambda_l1 is set=0.06607961538801423, reg_alpha=0.0 will be ignored. Current value: lambda_l1=0.06607961538801423\n",
      "\u001b[2m\u001b[36m(<ray.tune.trainable.util._Trainable object at 0x7f3f6ce425b0> pid=114081, ip=192.168.0.38)\u001b[0m [LightGBM] [Warning] bagging_fraction is set=0.0007097077506466366, subsample=1.0 will be ignored. Current value: bagging_fraction=0.0007097077506466366\n",
      "\u001b[2m\u001b[36m(<ray.tune.trainable.util._Trainable object at 0x7f3f6ce425b0> pid=114081, ip=192.168.0.38)\u001b[0m [LightGBM] [Warning] lambda_l2 is set=0.009085186796465633, reg_lambda=0.0 will be ignored. Current value: lambda_l2=0.009085186796465633\n",
      "\u001b[2m\u001b[36m(<ray.tune.trainable.util._Trainable object at 0x7f3f6ce425b0> pid=114081, ip=192.168.0.38)\u001b[0m [LightGBM] [Warning] learning_rate is set=0.1, eta=0.0009020157736131435 will be ignored. Current value: learning_rate=0.1\n",
      "\u001b[2m\u001b[36m(<ray.tune.trainable.util._Trainable object at 0x7f3f6ce425b0> pid=114081, ip=192.168.0.38)\u001b[0m [LightGBM] [Warning] lambda_l1 is set=0.06607961538801423, reg_alpha=0.0 will be ignored. Current value: lambda_l1=0.06607961538801423\n",
      "\u001b[2m\u001b[36m(<ray.tune.trainable.util._Trainable object at 0x7f3f6ce425b0> pid=114081, ip=192.168.0.38)\u001b[0m [LightGBM] [Warning] bagging_fraction is set=0.0007097077506466366, subsample=1.0 will be ignored. Current value: bagging_fraction=0.0007097077506466366\n",
      "\u001b[2m\u001b[36m(<ray.tune.trainable.util._Trainable object at 0x7f3f6ce425b0> pid=114081, ip=192.168.0.38)\u001b[0m [LightGBM] [Warning] lambda_l2 is set=0.009085186796465633, reg_lambda=0.0 will be ignored. Current value: lambda_l2=0.009085186796465633\n",
      "\u001b[2m\u001b[36m(<ray.tune.trainable.util._Trainable object at 0x7f3f6ce425b0> pid=114081, ip=192.168.0.38)\u001b[0m [LightGBM] [Warning] learning_rate is set=0.1, eta=0.0009020157736131435 will be ignored. Current value: learning_rate=0.1\n",
      "\u001b[2m\u001b[36m(<ray.tune.trainable.util._Trainable object at 0x7f888a690550> pid=114091, ip=192.168.0.38)\u001b[0m [LightGBM] [Warning] lambda_l1 is set=0.07400887348488626, reg_alpha=0.0 will be ignored. Current value: lambda_l1=0.07400887348488626\n",
      "\u001b[2m\u001b[36m(<ray.tune.trainable.util._Trainable object at 0x7f888a690550> pid=114091, ip=192.168.0.38)\u001b[0m [LightGBM] [Warning] bagging_fraction is set=3.607415784775302e-06, subsample=1.0 will be ignored. Current value: bagging_fraction=3.607415784775302e-06\n",
      "\u001b[2m\u001b[36m(<ray.tune.trainable.util._Trainable object at 0x7f888a690550> pid=114091, ip=192.168.0.38)\u001b[0m [LightGBM] [Warning] lambda_l2 is set=0.0012294376089419872, reg_lambda=0.0 will be ignored. Current value: lambda_l2=0.0012294376089419872\n",
      "\u001b[2m\u001b[36m(<ray.tune.trainable.util._Trainable object at 0x7f888a690550> pid=114091, ip=192.168.0.38)\u001b[0m [LightGBM] [Warning] learning_rate is set=0.1, eta=0.0837199382712822 will be ignored. Current value: learning_rate=0.1\n",
      "\u001b[2m\u001b[36m(<ray.tune.trainable.util._Trainable object at 0x7f888a690550> pid=114091, ip=192.168.0.38)\u001b[0m [LightGBM] [Warning] lambda_l1 is set=0.07400887348488626, reg_alpha=0.0 will be ignored. Current value: lambda_l1=0.07400887348488626\n",
      "\u001b[2m\u001b[36m(<ray.tune.trainable.util._Trainable object at 0x7f888a690550> pid=114091, ip=192.168.0.38)\u001b[0m [LightGBM] [Warning] bagging_fraction is set=3.607415784775302e-06, subsample=1.0 will be ignored. Current value: bagging_fraction=3.607415784775302e-06\n",
      "\u001b[2m\u001b[36m(<ray.tune.trainable.util._Trainable object at 0x7f888a690550> pid=114091, ip=192.168.0.38)\u001b[0m [LightGBM] [Warning] lambda_l2 is set=0.0012294376089419872, reg_lambda=0.0 will be ignored. Current value: lambda_l2=0.0012294376089419872\n",
      "\u001b[2m\u001b[36m(<ray.tune.trainable.util._Trainable object at 0x7f888a690550> pid=114091, ip=192.168.0.38)\u001b[0m [LightGBM] [Warning] learning_rate is set=0.1, eta=0.0837199382712822 will be ignored. Current value: learning_rate=0.1\n",
      "\u001b[2m\u001b[36m(<ray.tune.trainable.util._Trainable object at 0x7f888a690550> pid=114091, ip=192.168.0.38)\u001b[0m [LightGBM] [Warning] lambda_l1 is set=0.07400887348488626, reg_alpha=0.0 will be ignored. Current value: lambda_l1=0.07400887348488626\n",
      "\u001b[2m\u001b[36m(<ray.tune.trainable.util._Trainable object at 0x7f888a690550> pid=114091, ip=192.168.0.38)\u001b[0m [LightGBM] [Warning] bagging_fraction is set=3.607415784775302e-06, subsample=1.0 will be ignored. Current value: bagging_fraction=3.607415784775302e-06\n",
      "\u001b[2m\u001b[36m(<ray.tune.trainable.util._Trainable object at 0x7f888a690550> pid=114091, ip=192.168.0.38)\u001b[0m [LightGBM] [Warning] lambda_l2 is set=0.0012294376089419872, reg_lambda=0.0 will be ignored. Current value: lambda_l2=0.0012294376089419872\n",
      "\u001b[2m\u001b[36m(<ray.tune.trainable.util._Trainable object at 0x7f888a690550> pid=114091, ip=192.168.0.38)\u001b[0m [LightGBM] [Warning] learning_rate is set=0.1, eta=0.0837199382712822 will be ignored. Current value: learning_rate=0.1\n",
      "\u001b[2m\u001b[36m(<ray.tune.trainable.util._Trainable object at 0x7f5720902580> pid=114085, ip=192.168.0.38)\u001b[0m [LightGBM] [Warning] lambda_l1 is set=0.002032762139601597, reg_alpha=0.0 will be ignored. Current value: lambda_l1=0.002032762139601597\n",
      "\u001b[2m\u001b[36m(<ray.tune.trainable.util._Trainable object at 0x7f5720902580> pid=114085, ip=192.168.0.38)\u001b[0m [LightGBM] [Warning] bagging_fraction is set=0.0002513905029245212, subsample=1.0 will be ignored. Current value: bagging_fraction=0.0002513905029245212\n",
      "\u001b[2m\u001b[36m(<ray.tune.trainable.util._Trainable object at 0x7f5720902580> pid=114085, ip=192.168.0.38)\u001b[0m [LightGBM] [Warning] lambda_l2 is set=0.02293874681633696, reg_lambda=0.0 will be ignored. Current value: lambda_l2=0.02293874681633696\n",
      "\u001b[2m\u001b[36m(<ray.tune.trainable.util._Trainable object at 0x7f5720902580> pid=114085, ip=192.168.0.38)\u001b[0m [LightGBM] [Warning] learning_rate is set=0.1, eta=0.1435246090070064 will be ignored. Current value: learning_rate=0.1\n",
      "\u001b[2m\u001b[36m(<ray.tune.trainable.util._Trainable object at 0x7f5720902580> pid=114085, ip=192.168.0.38)\u001b[0m [LightGBM] [Warning] lambda_l1 is set=0.002032762139601597, reg_alpha=0.0 will be ignored. Current value: lambda_l1=0.002032762139601597\n",
      "\u001b[2m\u001b[36m(<ray.tune.trainable.util._Trainable object at 0x7f5720902580> pid=114085, ip=192.168.0.38)\u001b[0m [LightGBM] [Warning] bagging_fraction is set=0.0002513905029245212, subsample=1.0 will be ignored. Current value: bagging_fraction=0.0002513905029245212\n",
      "\u001b[2m\u001b[36m(<ray.tune.trainable.util._Trainable object at 0x7f5720902580> pid=114085, ip=192.168.0.38)\u001b[0m [LightGBM] [Warning] lambda_l2 is set=0.02293874681633696, reg_lambda=0.0 will be ignored. Current value: lambda_l2=0.02293874681633696\n",
      "\u001b[2m\u001b[36m(<ray.tune.trainable.util._Trainable object at 0x7f5720902580> pid=114085, ip=192.168.0.38)\u001b[0m [LightGBM] [Warning] learning_rate is set=0.1, eta=0.1435246090070064 will be ignored. Current value: learning_rate=0.1\n",
      "\u001b[2m\u001b[36m(<ray.tune.trainable.util._Trainable object at 0x7f5720902580> pid=114085, ip=192.168.0.38)\u001b[0m [LightGBM] [Warning] lambda_l1 is set=0.002032762139601597, reg_alpha=0.0 will be ignored. Current value: lambda_l1=0.002032762139601597\n",
      "\u001b[2m\u001b[36m(<ray.tune.trainable.util._Trainable object at 0x7f5720902580> pid=114085, ip=192.168.0.38)\u001b[0m [LightGBM] [Warning] bagging_fraction is set=0.0002513905029245212, subsample=1.0 will be ignored. Current value: bagging_fraction=0.0002513905029245212\n",
      "\u001b[2m\u001b[36m(<ray.tune.trainable.util._Trainable object at 0x7f5720902580> pid=114085, ip=192.168.0.38)\u001b[0m [LightGBM] [Warning] lambda_l2 is set=0.02293874681633696, reg_lambda=0.0 will be ignored. Current value: lambda_l2=0.02293874681633696\n",
      "\u001b[2m\u001b[36m(<ray.tune.trainable.util._Trainable object at 0x7f5720902580> pid=114085, ip=192.168.0.38)\u001b[0m [LightGBM] [Warning] learning_rate is set=0.1, eta=0.1435246090070064 will be ignored. Current value: learning_rate=0.1\n",
      "\u001b[2m\u001b[36m(<ray.tune.trainable.util._Trainable object at 0x7f23fb1455e0> pid=114094, ip=192.168.0.38)\u001b[0m [LightGBM] [Warning] lambda_l1 is set=0.008912930342169133, reg_alpha=0.0 will be ignored. Current value: lambda_l1=0.008912930342169133\n",
      "\u001b[2m\u001b[36m(<ray.tune.trainable.util._Trainable object at 0x7f23fb1455e0> pid=114094, ip=192.168.0.38)\u001b[0m [LightGBM] [Warning] bagging_fraction is set=0.007372513495119923, subsample=1.0 will be ignored. Current value: bagging_fraction=0.007372513495119923\n",
      "\u001b[2m\u001b[36m(<ray.tune.trainable.util._Trainable object at 0x7f23fb1455e0> pid=114094, ip=192.168.0.38)\u001b[0m [LightGBM] [Warning] lambda_l2 is set=0.0014778785056310403, reg_lambda=0.0 will be ignored. Current value: lambda_l2=0.0014778785056310403\n",
      "\u001b[2m\u001b[36m(<ray.tune.trainable.util._Trainable object at 0x7f23fb1455e0> pid=114094, ip=192.168.0.38)\u001b[0m [LightGBM] [Warning] learning_rate is set=0.1, eta=0.009286402282430047 will be ignored. Current value: learning_rate=0.1\n",
      "\u001b[2m\u001b[36m(<ray.tune.trainable.util._Trainable object at 0x7f23fb1455e0> pid=114094, ip=192.168.0.38)\u001b[0m [LightGBM] [Warning] lambda_l1 is set=0.008912930342169133, reg_alpha=0.0 will be ignored. Current value: lambda_l1=0.008912930342169133\n",
      "\u001b[2m\u001b[36m(<ray.tune.trainable.util._Trainable object at 0x7f23fb1455e0> pid=114094, ip=192.168.0.38)\u001b[0m [LightGBM] [Warning] bagging_fraction is set=0.007372513495119923, subsample=1.0 will be ignored. Current value: bagging_fraction=0.007372513495119923\n",
      "\u001b[2m\u001b[36m(<ray.tune.trainable.util._Trainable object at 0x7f23fb1455e0> pid=114094, ip=192.168.0.38)\u001b[0m [LightGBM] [Warning] lambda_l2 is set=0.0014778785056310403, reg_lambda=0.0 will be ignored. Current value: lambda_l2=0.0014778785056310403\n",
      "\u001b[2m\u001b[36m(<ray.tune.trainable.util._Trainable object at 0x7f23fb1455e0> pid=114094, ip=192.168.0.38)\u001b[0m [LightGBM] [Warning] learning_rate is set=0.1, eta=0.009286402282430047 will be ignored. Current value: learning_rate=0.1\n",
      "\u001b[2m\u001b[36m(<ray.tune.trainable.util._Trainable object at 0x7f23fb1455e0> pid=114094, ip=192.168.0.38)\u001b[0m [LightGBM] [Warning] lambda_l1 is set=0.008912930342169133, reg_alpha=0.0 will be ignored. Current value: lambda_l1=0.008912930342169133\n",
      "\u001b[2m\u001b[36m(<ray.tune.trainable.util._Trainable object at 0x7f23fb1455e0> pid=114094, ip=192.168.0.38)\u001b[0m [LightGBM] [Warning] bagging_fraction is set=0.007372513495119923, subsample=1.0 will be ignored. Current value: bagging_fraction=0.007372513495119923\n",
      "\u001b[2m\u001b[36m(<ray.tune.trainable.util._Trainable object at 0x7f23fb1455e0> pid=114094, ip=192.168.0.38)\u001b[0m [LightGBM] [Warning] lambda_l2 is set=0.0014778785056310403, reg_lambda=0.0 will be ignored. Current value: lambda_l2=0.0014778785056310403\n",
      "\u001b[2m\u001b[36m(<ray.tune.trainable.util._Trainable object at 0x7f23fb1455e0> pid=114094, ip=192.168.0.38)\u001b[0m [LightGBM] [Warning] learning_rate is set=0.1, eta=0.009286402282430047 will be ignored. Current value: learning_rate=0.1\n",
      "\u001b[2m\u001b[36m(<ray.tune.trainable.util._Trainable object at 0x7f26ba0f36d0> pid=579967)\u001b[0m [LightGBM] [Warning] lambda_l1 is set=0.019036928878732092, reg_alpha=0.0 will be ignored. Current value: lambda_l1=0.019036928878732092\n",
      "\u001b[2m\u001b[36m(<ray.tune.trainable.util._Trainable object at 0x7f26ba0f36d0> pid=579967)\u001b[0m [LightGBM] [Warning] bagging_fraction is set=9.567290902972677e-06, subsample=1.0 will be ignored. Current value: bagging_fraction=9.567290902972677e-06\n",
      "\u001b[2m\u001b[36m(<ray.tune.trainable.util._Trainable object at 0x7f26ba0f36d0> pid=579967)\u001b[0m [LightGBM] [Warning] lambda_l2 is set=0.01120198048257352, reg_lambda=0.0 will be ignored. Current value: lambda_l2=0.01120198048257352\n",
      "\u001b[2m\u001b[36m(<ray.tune.trainable.util._Trainable object at 0x7f26ba0f36d0> pid=579967)\u001b[0m [LightGBM] [Warning] learning_rate is set=0.1, eta=0.2607952565376092 will be ignored. Current value: learning_rate=0.1\n",
      "\u001b[2m\u001b[36m(<ray.tune.trainable.util._Trainable object at 0x7f26ba0f36d0> pid=579967)\u001b[0m [LightGBM] [Warning] lambda_l1 is set=0.019036928878732092, reg_alpha=0.0 will be ignored. Current value: lambda_l1=0.019036928878732092\n",
      "\u001b[2m\u001b[36m(<ray.tune.trainable.util._Trainable object at 0x7f26ba0f36d0> pid=579967)\u001b[0m [LightGBM] [Warning] bagging_fraction is set=9.567290902972677e-06, subsample=1.0 will be ignored. Current value: bagging_fraction=9.567290902972677e-06\n",
      "\u001b[2m\u001b[36m(<ray.tune.trainable.util._Trainable object at 0x7f26ba0f36d0> pid=579967)\u001b[0m [LightGBM] [Warning] lambda_l2 is set=0.01120198048257352, reg_lambda=0.0 will be ignored. Current value: lambda_l2=0.01120198048257352\n",
      "\u001b[2m\u001b[36m(<ray.tune.trainable.util._Trainable object at 0x7f26ba0f36d0> pid=579967)\u001b[0m [LightGBM] [Warning] learning_rate is set=0.1, eta=0.2607952565376092 will be ignored. Current value: learning_rate=0.1\n",
      "\u001b[2m\u001b[36m(<ray.tune.trainable.util._Trainable object at 0x7f26ba0f36d0> pid=579967)\u001b[0m [LightGBM] [Warning] lambda_l1 is set=0.019036928878732092, reg_alpha=0.0 will be ignored. Current value: lambda_l1=0.019036928878732092\n",
      "\u001b[2m\u001b[36m(<ray.tune.trainable.util._Trainable object at 0x7f26ba0f36d0> pid=579967)\u001b[0m [LightGBM] [Warning] bagging_fraction is set=9.567290902972677e-06, subsample=1.0 will be ignored. Current value: bagging_fraction=9.567290902972677e-06\n",
      "\u001b[2m\u001b[36m(<ray.tune.trainable.util._Trainable object at 0x7f26ba0f36d0> pid=579967)\u001b[0m [LightGBM] [Warning] lambda_l2 is set=0.01120198048257352, reg_lambda=0.0 will be ignored. Current value: lambda_l2=0.01120198048257352\n",
      "\u001b[2m\u001b[36m(<ray.tune.trainable.util._Trainable object at 0x7f26ba0f36d0> pid=579967)\u001b[0m [LightGBM] [Warning] learning_rate is set=0.1, eta=0.2607952565376092 will be ignored. Current value: learning_rate=0.1\n"
     ]
    },
    {
     "name": "stderr",
     "output_type": "stream",
     "text": [
      "\u001b[2m\u001b[36m(run pid=565190)\u001b[0m 2022-12-07 07:42:57,601\tINFO tensorboardx.py:267 -- Removed the following hyperparameter values when logging to tensorboard: {'cv': KFold(n_splits=3, random_state=None, shuffle=False), 'early_stop_type': <EarlyStopping.NO_EARLY_STOP: 7>, 'scoring/score': <function _passthrough_scorer at 0x7f70c712c790>}\n",
      "\u001b[2m\u001b[36m(run pid=565190)\u001b[0m 2022-12-07 07:43:01,572\tINFO tensorboardx.py:267 -- Removed the following hyperparameter values when logging to tensorboard: {'cv': KFold(n_splits=3, random_state=None, shuffle=False), 'early_stop_type': <EarlyStopping.NO_EARLY_STOP: 7>, 'scoring/score': <function _passthrough_scorer at 0x7f70c712c790>}\n",
      "\u001b[2m\u001b[36m(run pid=565190)\u001b[0m 2022-12-07 07:43:05,432\tINFO tensorboardx.py:267 -- Removed the following hyperparameter values when logging to tensorboard: {'cv': KFold(n_splits=3, random_state=None, shuffle=False), 'early_stop_type': <EarlyStopping.NO_EARLY_STOP: 7>, 'scoring/score': <function _passthrough_scorer at 0x7f70c712c790>}\n",
      "\u001b[2m\u001b[36m(run pid=565190)\u001b[0m 2022-12-07 07:43:09,487\tINFO tensorboardx.py:267 -- Removed the following hyperparameter values when logging to tensorboard: {'cv': KFold(n_splits=3, random_state=None, shuffle=False), 'early_stop_type': <EarlyStopping.NO_EARLY_STOP: 7>, 'scoring/score': <function _passthrough_scorer at 0x7f70c712c790>}\n",
      "\u001b[2m\u001b[36m(run pid=565190)\u001b[0m 2022-12-07 07:43:13,402\tINFO tensorboardx.py:267 -- Removed the following hyperparameter values when logging to tensorboard: {'cv': KFold(n_splits=3, random_state=None, shuffle=False), 'early_stop_type': <EarlyStopping.NO_EARLY_STOP: 7>, 'scoring/score': <function _passthrough_scorer at 0x7f70c712c790>}\n",
      "\u001b[2m\u001b[36m(run pid=565190)\u001b[0m 2022-12-07 07:43:17,232\tINFO tensorboardx.py:267 -- Removed the following hyperparameter values when logging to tensorboard: {'cv': KFold(n_splits=3, random_state=None, shuffle=False), 'early_stop_type': <EarlyStopping.NO_EARLY_STOP: 7>, 'scoring/score': <function _passthrough_scorer at 0x7f70c712c790>}\n",
      "\u001b[2m\u001b[36m(run pid=565190)\u001b[0m 2022-12-07 07:43:17,258\tINFO tensorboardx.py:267 -- Removed the following hyperparameter values when logging to tensorboard: {'cv': KFold(n_splits=3, random_state=None, shuffle=False), 'early_stop_type': <EarlyStopping.NO_EARLY_STOP: 7>, 'scoring/score': <function _passthrough_scorer at 0x7f70c712c790>}\n",
      "\u001b[2m\u001b[36m(run pid=565190)\u001b[0m 2022-12-07 07:43:21,243\tINFO tensorboardx.py:267 -- Removed the following hyperparameter values when logging to tensorboard: {'cv': KFold(n_splits=3, random_state=None, shuffle=False), 'early_stop_type': <EarlyStopping.NO_EARLY_STOP: 7>, 'scoring/score': <function _passthrough_scorer at 0x7f70c712c790>}\n",
      "\u001b[2m\u001b[36m(run pid=565190)\u001b[0m 2022-12-07 07:43:25,278\tINFO tensorboardx.py:267 -- Removed the following hyperparameter values when logging to tensorboard: {'cv': KFold(n_splits=3, random_state=None, shuffle=False), 'early_stop_type': <EarlyStopping.NO_EARLY_STOP: 7>, 'scoring/score': <function _passthrough_scorer at 0x7f70c712c790>}\n",
      "2022-12-07T08:43:29CET : INFO : ensemble_tune : fetch_models_pll : 194 : Message : base model training completed\n"
     ]
    },
    {
     "name": "stdout",
     "output_type": "stream",
     "text": [
      "[LightGBM] [Warning] lambda_l1 is set=0.0010548463116543745, reg_alpha=0.0 will be ignored. Current value: lambda_l1=0.0010548463116543745\n",
      "[LightGBM] [Warning] bagging_fraction is set=0.00038734171249778595, subsample=1.0 will be ignored. Current value: bagging_fraction=0.00038734171249778595\n",
      "[LightGBM] [Warning] lambda_l2 is set=0.015924724095992313, reg_lambda=0.0 will be ignored. Current value: lambda_l2=0.015924724095992313\n",
      "[LightGBM] [Warning] learning_rate is set=0.1, eta=9.95643411382645e-06 will be ignored. Current value: learning_rate=0.1\n"
     ]
    }
   ],
   "source": [
    "ens_mdl.fetch_models_pll(X_train, X_test, y_train, y_test)"
   ]
  },
  {
   "cell_type": "code",
   "execution_count": 8,
   "id": "ec23dfe3",
   "metadata": {},
   "outputs": [
    {
     "data": {
      "text/plain": [
       "1"
      ]
     },
     "execution_count": 8,
     "metadata": {},
     "output_type": "execute_result"
    }
   ],
   "source": [
    "len(ens_mdl.base_models)"
   ]
  },
  {
   "cell_type": "code",
   "execution_count": 37,
   "id": "a8d01148",
   "metadata": {},
   "outputs": [
    {
     "data": {
      "text/plain": [
       "[[0.9748435941839838, 0.8480916905778864],\n",
       " [1.0, 0.3818028641433171],\n",
       " [0.0, 0.0],\n",
       " [-1.1015093844593219e+25, -1.0934510136033138e+25],\n",
       " [-2.77499537657015, -2.9713618168113363],\n",
       " [0.8129225481872692, 0.7571846639298663]]"
      ]
     },
     "execution_count": 37,
     "metadata": {},
     "output_type": "execute_result"
    }
   ],
   "source": [
    "ens_mdl.base_model_scores"
   ]
  },
  {
   "cell_type": "code",
   "execution_count": 9,
   "id": "53d16749",
   "metadata": {},
   "outputs": [
    {
     "data": {
      "text/html": [
       "<style>#sk-container-id-1 {color: black;background-color: white;}#sk-container-id-1 pre{padding: 0;}#sk-container-id-1 div.sk-toggleable {background-color: white;}#sk-container-id-1 label.sk-toggleable__label {cursor: pointer;display: block;width: 100%;margin-bottom: 0;padding: 0.3em;box-sizing: border-box;text-align: center;}#sk-container-id-1 label.sk-toggleable__label-arrow:before {content: \"▸\";float: left;margin-right: 0.25em;color: #696969;}#sk-container-id-1 label.sk-toggleable__label-arrow:hover:before {color: black;}#sk-container-id-1 div.sk-estimator:hover label.sk-toggleable__label-arrow:before {color: black;}#sk-container-id-1 div.sk-toggleable__content {max-height: 0;max-width: 0;overflow: hidden;text-align: left;background-color: #f0f8ff;}#sk-container-id-1 div.sk-toggleable__content pre {margin: 0.2em;color: black;border-radius: 0.25em;background-color: #f0f8ff;}#sk-container-id-1 input.sk-toggleable__control:checked~div.sk-toggleable__content {max-height: 200px;max-width: 100%;overflow: auto;}#sk-container-id-1 input.sk-toggleable__control:checked~label.sk-toggleable__label-arrow:before {content: \"▾\";}#sk-container-id-1 div.sk-estimator input.sk-toggleable__control:checked~label.sk-toggleable__label {background-color: #d4ebff;}#sk-container-id-1 div.sk-label input.sk-toggleable__control:checked~label.sk-toggleable__label {background-color: #d4ebff;}#sk-container-id-1 input.sk-hidden--visually {border: 0;clip: rect(1px 1px 1px 1px);clip: rect(1px, 1px, 1px, 1px);height: 1px;margin: -1px;overflow: hidden;padding: 0;position: absolute;width: 1px;}#sk-container-id-1 div.sk-estimator {font-family: monospace;background-color: #f0f8ff;border: 1px dotted black;border-radius: 0.25em;box-sizing: border-box;margin-bottom: 0.5em;}#sk-container-id-1 div.sk-estimator:hover {background-color: #d4ebff;}#sk-container-id-1 div.sk-parallel-item::after {content: \"\";width: 100%;border-bottom: 1px solid gray;flex-grow: 1;}#sk-container-id-1 div.sk-label:hover label.sk-toggleable__label {background-color: #d4ebff;}#sk-container-id-1 div.sk-serial::before {content: \"\";position: absolute;border-left: 1px solid gray;box-sizing: border-box;top: 0;bottom: 0;left: 50%;z-index: 0;}#sk-container-id-1 div.sk-serial {display: flex;flex-direction: column;align-items: center;background-color: white;padding-right: 0.2em;padding-left: 0.2em;position: relative;}#sk-container-id-1 div.sk-item {position: relative;z-index: 1;}#sk-container-id-1 div.sk-parallel {display: flex;align-items: stretch;justify-content: center;background-color: white;position: relative;}#sk-container-id-1 div.sk-item::before, #sk-container-id-1 div.sk-parallel-item::before {content: \"\";position: absolute;border-left: 1px solid gray;box-sizing: border-box;top: 0;bottom: 0;left: 50%;z-index: -1;}#sk-container-id-1 div.sk-parallel-item {display: flex;flex-direction: column;z-index: 1;position: relative;background-color: white;}#sk-container-id-1 div.sk-parallel-item:first-child::after {align-self: flex-end;width: 50%;}#sk-container-id-1 div.sk-parallel-item:last-child::after {align-self: flex-start;width: 50%;}#sk-container-id-1 div.sk-parallel-item:only-child::after {width: 0;}#sk-container-id-1 div.sk-dashed-wrapped {border: 1px dashed gray;margin: 0 0.4em 0.5em 0.4em;box-sizing: border-box;padding-bottom: 0.4em;background-color: white;}#sk-container-id-1 div.sk-label label {font-family: monospace;font-weight: bold;display: inline-block;line-height: 1.2em;}#sk-container-id-1 div.sk-label-container {text-align: center;}#sk-container-id-1 div.sk-container {/* jupyter's `normalize.less` sets `[hidden] { display: none; }` but bootstrap.min.css set `[hidden] { display: none !important; }` so we also need the `!important` here to be able to override the default hidden behavior on the sphinx rendered scikit-learn.org. See: https://github.com/scikit-learn/scikit-learn/issues/21755 */display: inline-block !important;position: relative;}#sk-container-id-1 div.sk-text-repr-fallback {display: none;}</style><div id=\"sk-container-id-1\" class=\"sk-top-container\"><div class=\"sk-text-repr-fallback\"><pre>LGBMRegressor(bagging_fraction=0.00038734171249778595,\n",
       "              colsample_bytree=0.000116922711111397,\n",
       "              drop_rate=0.1694029816105492, eta=9.95643411382645e-06,\n",
       "              lambda_l1=0.0010548463116543745, lambda_l2=0.015924724095992313,\n",
       "              max_bin=2048, max_depth=8, min_data_in_bin=5, n_estimators=10,\n",
       "              objective=&#x27;poisson&#x27;)</pre><b>In a Jupyter environment, please rerun this cell to show the HTML representation or trust the notebook. <br />On GitHub, the HTML representation is unable to render, please try loading this page with nbviewer.org.</b></div><div class=\"sk-container\" hidden><div class=\"sk-item\"><div class=\"sk-estimator sk-toggleable\"><input class=\"sk-toggleable__control sk-hidden--visually\" id=\"sk-estimator-id-1\" type=\"checkbox\" checked><label for=\"sk-estimator-id-1\" class=\"sk-toggleable__label sk-toggleable__label-arrow\">LGBMRegressor</label><div class=\"sk-toggleable__content\"><pre>LGBMRegressor(bagging_fraction=0.00038734171249778595,\n",
       "              colsample_bytree=0.000116922711111397,\n",
       "              drop_rate=0.1694029816105492, eta=9.95643411382645e-06,\n",
       "              lambda_l1=0.0010548463116543745, lambda_l2=0.015924724095992313,\n",
       "              max_bin=2048, max_depth=8, min_data_in_bin=5, n_estimators=10,\n",
       "              objective=&#x27;poisson&#x27;)</pre></div></div></div></div></div>"
      ],
      "text/plain": [
       "LGBMRegressor(bagging_fraction=0.00038734171249778595,\n",
       "              colsample_bytree=0.000116922711111397,\n",
       "              drop_rate=0.1694029816105492, eta=9.95643411382645e-06,\n",
       "              lambda_l1=0.0010548463116543745, lambda_l2=0.015924724095992313,\n",
       "              max_bin=2048, max_depth=8, min_data_in_bin=5, n_estimators=10,\n",
       "              objective='poisson')"
      ]
     },
     "execution_count": 9,
     "metadata": {},
     "output_type": "execute_result"
    }
   ],
   "source": [
    "ens_mdl.base_models[0].gs.best_estimator"
   ]
  },
  {
   "cell_type": "code",
   "execution_count": 29,
   "id": "748edc89",
   "metadata": {},
   "outputs": [
    {
     "data": {
      "text/plain": [
       "BaggingRegressor(n_estimators=27)"
      ]
     },
     "execution_count": 29,
     "metadata": {},
     "output_type": "execute_result"
    }
   ],
   "source": [
    "ens_mdl.ensemble.gs.best_estimator"
   ]
  },
  {
   "cell_type": "code",
   "execution_count": null,
   "id": "34009912",
   "metadata": {},
   "outputs": [
    {
     "data": {
      "text/plain": [
       "[0.907852251809679, 0.9023357075419954]"
      ]
     },
     "execution_count": 25,
     "metadata": {},
     "output_type": "execute_result"
    }
   ],
   "source": [
    "ens_mdl.scores"
   ]
  },
  {
   "cell_type": "code",
   "execution_count": 39,
   "id": "0ae9439d",
   "metadata": {},
   "outputs": [
    {
     "data": {
      "text/plain": [
       "array([241357.14285714, 164032.85714286, 126121.42857143, 197900.        ,\n",
       "        94500.        , 122950.        , 271900.        , 179028.57142857,\n",
       "       525315.28571429, 104935.71428571, 169964.28571429, 241321.42857143,\n",
       "       218753.57142857, 124928.57142857, 141285.71428571, 145000.        ,\n",
       "       232383.57142857,  84214.28571429, 148285.71428571, 149071.42857143,\n",
       "       169392.85714286, 137500.        , 124557.14285714, 174064.28571429,\n",
       "       197628.57142857, 161517.85714286, 150953.57142857,  82428.57142857,\n",
       "       266268.07142857, 143885.71428571, 246229.85714286, 193135.71428571,\n",
       "       129500.        , 242035.71428571, 267855.64285714, 194921.42857143,\n",
       "       177570.35714286, 126642.85714286, 203685.71428571, 302335.71428571,\n",
       "       243500.        , 127428.57142857, 172381.07142857, 284242.07142857,\n",
       "       304321.42857143, 218815.71428571, 127464.28571429, 133857.14285714,\n",
       "       176000.        , 106000.        , 284785.71428571, 146142.85714286,\n",
       "       154678.57142857,  75785.71428571, 228853.57142857,  98721.42857143,\n",
       "       161892.85714286, 208271.42857143, 141264.28571429, 109992.85714286,\n",
       "       138992.85714286, 141000.        , 149985.71428571, 172581.42857143,\n",
       "       184957.14285714, 167481.42857143, 143089.28571429, 181743.        ,\n",
       "       115000.        , 179885.71428571, 179468.57142857, 134495.14285714,\n",
       "       128992.85714286, 167534.28571429, 106000.        , 234883.42857143,\n",
       "       145164.28571429,  94089.28571429, 257542.85714286, 153964.28571429,\n",
       "       143500.        , 128646.42857143,  95928.57142857, 136457.14285714,\n",
       "       204400.        , 158621.42857143, 170000.        , 155059.64285714,\n",
       "       185803.57142857, 149028.57142857, 192957.14285714, 133776.        ,\n",
       "       182321.57142857, 201921.42857143, 196892.85714286, 165403.57142857,\n",
       "       167265.71428571, 210357.14285714, 111803.57142857, 132500.        ,\n",
       "       305335.71428571, 183342.85714286, 103521.42857143, 202860.71428571,\n",
       "        94946.42857143, 271835.71428571, 184982.14285714, 119557.14285714,\n",
       "       158978.57142857,  87857.14285714, 133321.42857143, 137535.71428571,\n",
       "       237857.14285714, 136500.        , 147435.71428571, 161335.71428571,\n",
       "       369464.78571429, 133792.85714286, 233062.85714286, 176324.78571429,\n",
       "        85050.        , 147435.71428571, 145164.28571429, 218795.        ,\n",
       "       222850.        , 176436.28571429, 306414.28571429, 174921.42857143,\n",
       "       191107.14285714, 160014.28571429, 181743.        , 196035.71428571,\n",
       "       155983.35714286, 239921.21428571, 114857.14285714, 188864.28571429,\n",
       "       155845.35714286, 200100.        , 104812.57142857, 157573.71428571,\n",
       "       179457.14285714, 142114.28571429, 276078.92857143, 135828.57142857,\n",
       "       202982.14285714, 181119.28571429, 202500.        , 144964.28571429,\n",
       "       186785.71428571, 219590.        , 177107.14285714, 233502.85714286,\n",
       "       250285.71428571, 118883.28571429, 132428.57142857, 262216.57142857,\n",
       "       111946.42857143, 156001.42857143,  80785.71428571, 166464.28571429,\n",
       "       129460.71428571, 150807.14285714, 183214.28571429, 149028.57142857,\n",
       "       227142.85714286,  91321.42857143, 137464.28571429, 262263.71428571,\n",
       "       147478.57142857, 179057.14285714, 205328.57142857, 167931.42857143,\n",
       "       223392.85714286, 158871.42857143, 185903.57142857, 142573.21428571,\n",
       "       135492.85714286, 271835.71428571, 136060.71428571, 128578.57142857,\n",
       "       267855.64285714, 167928.57142857, 127178.57142857, 280239.42857143,\n",
       "       137035.71428571, 173750.        ,  99964.28571429, 152928.57142857,\n",
       "       199207.14285714, 138471.42857143, 135971.42857143, 145875.        ,\n",
       "       204057.14285714, 121628.57142857, 149800.        , 133017.85714286,\n",
       "        96267.85714286, 144496.57142857, 183271.42857143, 148428.57142857,\n",
       "       141000.        , 179964.28571429, 129460.71428571,  87857.14285714,\n",
       "       104914.28571429, 243500.        , 157916.57142857, 269770.71428571,\n",
       "       288259.28571429,  79821.42857143, 156825.71428571, 252456.42857143,\n",
       "       104735.71428571,  77992.85714286, 259964.28571429, 211892.85714286,\n",
       "       167928.57142857, 236392.85714286, 223742.85714286,  83750.        ,\n",
       "       267678.57142857, 210928.57142857, 118607.57142857, 115000.        ,\n",
       "       188014.28571429, 262120.85714286, 236821.42857143, 227817.14285714,\n",
       "       129500.        , 167462.85714286, 102662.85714286, 143803.57142857,\n",
       "       107421.42857143, 135000.        , 187471.42857143, 124035.71428571,\n",
       "       104914.28571429, 106064.28571429,  82500.        , 194921.42857143,\n",
       "       136500.        , 186817.85714286, 186778.57142857, 196785.71428571,\n",
       "       157942.85714286, 170992.85714286, 244414.28571429, 205378.57142857,\n",
       "       115000.        , 164770.71428571, 206864.28571429, 222178.57142857,\n",
       "        73257.14285714, 381828.57142857, 162360.71428571, 194250.        ,\n",
       "        74807.14285714, 200021.42857143, 244371.42857143, 248426.28571429,\n",
       "       157138.        , 184982.14285714, 226048.57142857, 112678.57142857,\n",
       "       354635.71428571, 214978.57142857, 339357.14285714, 105021.42857143,\n",
       "       178000.        , 231962.14285714, 139307.14285714, 228012.85714286,\n",
       "       169642.85714286, 174885.71428571, 115000.        , 233082.14285714,\n",
       "       172398.92857143, 175464.28571429, 185532.14285714, 157992.85714286,\n",
       "       133450.        , 257878.57142857, 180983.42857143, 143000.        ,\n",
       "       162089.28571429, 247848.14285714, 110085.71428571, 248402.85714286,\n",
       "       328121.42857143, 177714.28571429,  69750.        , 147000.        ,\n",
       "       266889.85714286, 107785.71428571, 145867.85714286, 266566.78571429,\n",
       "       250167.        , 143142.85714286, 145875.        , 160071.42857143,\n",
       "       106000.        , 117521.42857143, 162260.71428571, 179523.21428571,\n",
       "       172457.14285714, 180464.28571429, 136060.71428571, 209807.14285714,\n",
       "       189992.85714286, 148057.14285714, 121121.42857143, 140171.42857143,\n",
       "       124350.        , 134871.42857143, 132410.71428571, 139400.        ,\n",
       "       319223.        , 137000.        , 200100.        , 206107.14285714,\n",
       "        91714.28571429, 279709.        , 109164.28571429, 289363.57142857,\n",
       "       185425.        , 163886.42857143, 128035.71428571, 337564.28571429,\n",
       "       271835.71428571, 146142.85714286, 128385.71428571, 186785.71428571,\n",
       "       183357.14285714, 189982.14285714, 226048.57142857, 131492.85714286,\n",
       "       154942.85714286, 192500.        , 140171.42857143, 127964.28571429,\n",
       "       328835.71428571, 153406.07142857, 161517.85714286, 168428.57142857,\n",
       "       150921.42857143, 177107.14285714, 124421.42857143, 106892.85714286,\n",
       "        98571.42857143, 136992.85714286, 194250.        , 336992.85714286,\n",
       "       131464.28571429, 127178.57142857, 163412.85714286, 327428.57142857,\n",
       "       300271.42857143, 160000.        , 234883.42857143, 246414.        ,\n",
       "       316303.57142857, 161642.85714286, 197021.42857143, 221214.28571429,\n",
       "        94142.85714286, 153071.42857143, 164372.14285714, 138541.        ,\n",
       "       200192.85714286, 162928.57142857, 393420.71428571, 108214.28571429,\n",
       "       180545.28571429, 143089.28571429, 144564.28571429,  70464.28571429,\n",
       "       202860.71428571, 229857.14285714, 126310.71428571, 220928.57142857,\n",
       "       175392.85714286, 108000.        , 127321.42857143, 120935.71428571,\n",
       "       128935.71428571, 147414.28571429, 239964.28571429, 173035.71428571,\n",
       "       245091.28571429, 267855.64285714, 110271.42857143, 133614.28571429,\n",
       "       254721.42857143,  96785.71428571, 140314.28571429, 167491.42857143,\n",
       "       131492.85714286, 186678.57142857, 204750.        , 184985.71428571,\n",
       "       240560.14285714, 186867.85714286, 184982.14285714,  93517.85714286,\n",
       "       131478.57142857, 236928.57142857, 155983.35714286, 269541.42857143,\n",
       "       207571.42857143, 185342.85714286, 155845.35714286, 140228.57142857,\n",
       "       163020.71428571, 135709.42857143, 175392.85714286, 137000.        ,\n",
       "       202982.14285714,  99964.28571429, 182750.        , 149835.71428571,\n",
       "       240304.92857143, 285571.42857143, 115857.14285714, 153509.78571429,\n",
       "       144368.        , 119592.85714286, 352404.92857143, 133035.71428571,\n",
       "       183000.        , 145867.85714286, 158959.57142857, 187964.28571429,\n",
       "       130303.57142857, 257592.85714286, 175000.        , 340517.85714286,\n",
       "       182152.42857143, 382892.85714286, 197900.        , 174064.28571429,\n",
       "        84214.28571429, 142000.        , 101289.42857143, 183600.        ,\n",
       "       107478.57142857, 163049.28571429, 137964.28571429, 106778.57142857,\n",
       "       201278.57142857, 284170.64285714, 104914.28571429, 200100.        ,\n",
       "       128578.57142857, 194821.42857143, 127000.        , 153227.5       ,\n",
       "       114786.28571429, 135500.        , 241714.28571429, 161517.85714286,\n",
       "       184050.        , 151371.42857143, 139371.42857143,  94303.57142857,\n",
       "       241785.71428571, 122878.57142857, 187471.42857143, 117642.85714286,\n",
       "       210714.28571429, 255121.42857143, 177714.28571429, 214285.71428571,\n",
       "       138964.28571429, 241428.57142857, 110278.57142857, 104735.71428571,\n",
       "       161892.85714286, 173750.        , 181138.42857143, 218035.71428571,\n",
       "       102905.42857143, 168642.85714286])"
      ]
     },
     "execution_count": 39,
     "metadata": {},
     "output_type": "execute_result"
    },
    {
     "name": "stderr",
     "output_type": "stream",
     "text": [
      "2022-12-06 22:31:16,565\tWARNING dataclient.py:396 -- Encountered connection issues in the data channel. Attempting to reconnect.\n",
      "2022-12-06 22:31:32,381\tERROR dataclient.py:323 -- Unrecoverable error in data channel.\n"
     ]
    }
   ],
   "source": [
    "ens_mdl.predict(X_test)"
   ]
  },
  {
   "cell_type": "code",
   "execution_count": null,
   "id": "3d9ee380",
   "metadata": {},
   "outputs": [],
   "source": []
  },
  {
   "cell_type": "code",
   "execution_count": null,
   "id": "852e38a2",
   "metadata": {},
   "outputs": [],
   "source": []
  }
 ],
 "metadata": {
  "kernelspec": {
   "display_name": "Python 3.8.13 ('automl')",
   "language": "python",
   "name": "python3"
  },
  "language_info": {
   "codemirror_mode": {
    "name": "ipython",
    "version": 3
   },
   "file_extension": ".py",
   "mimetype": "text/x-python",
   "name": "python",
   "nbconvert_exporter": "python",
   "pygments_lexer": "ipython3",
   "version": "3.8.13"
  },
  "vscode": {
   "interpreter": {
    "hash": "6ceb9dcfe4855088cb408ca84060dddedae3a13bd9f61da61d02274285d7dc6d"
   }
  }
 },
 "nbformat": 4,
 "nbformat_minor": 5
}
