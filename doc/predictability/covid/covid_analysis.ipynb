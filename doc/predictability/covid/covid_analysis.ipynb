{
 "cells": [
  {
   "cell_type": "code",
   "execution_count": 1,
   "outputs": [],
   "source": [
    "import pandas as pd\n",
    "import ray"
   ],
   "metadata": {
    "collapsed": false,
    "pycharm": {
     "name": "#%%\n"
    }
   }
  },
  {
   "cell_type": "code",
   "execution_count": null,
   "outputs": [],
   "source": [
    "ray.init()"
   ],
   "metadata": {
    "collapsed": false,
    "pycharm": {
     "name": "#%%\n",
     "is_executing": true
    }
   }
  },
  {
   "cell_type": "code",
   "execution_count": 6,
   "outputs": [],
   "source": [
    "import asd"
   ],
   "metadata": {
    "collapsed": false,
    "pycharm": {
     "name": "#%%\n"
    }
   }
  },
  {
   "cell_type": "markdown",
   "source": [
    "# The data"
   ],
   "metadata": {
    "collapsed": false,
    "pycharm": {
     "name": "#%% md\n"
    }
   }
  },
  {
   "cell_type": "code",
   "execution_count": 7,
   "outputs": [],
   "source": [
    "data2020 = pd.read_csv(\"20220727_covid_159rows_52cols_2020.csv\")\n",
    "#data2020[\"year\"] = 2020\n",
    "data2021 = pd.read_csv(\"20220727_covid_159rows_52cols_2021.csv\")\n",
    "#data2021[\"year\"] = 2021"
   ],
   "metadata": {
    "collapsed": false,
    "pycharm": {
     "name": "#%%\n"
    }
   }
  },
  {
   "cell_type": "code",
   "execution_count": 8,
   "outputs": [
    {
     "data": {
      "text/plain": "      location  new_cases_per_million  new_deaths_per_million  \\\n0  Afghanistan               1313.661                  54.938   \n1      Albania              20298.412                 411.043   \n2      Algeria               2232.574                  61.762   \n3       Angola                517.274                  11.899   \n4    Argentina              35642.693                 948.224   \n\n   stringency_index_cov  population_density_cov  population_cov  \\\n0             47.626442                  54.422      39835428.0   \n1             64.760836                 104.871       2872934.0   \n2             70.767717                  17.348      44616626.0   \n3             73.326934                  23.890      33933611.0   \n4             71.530603                  16.177      45605823.0   \n\n   median_age_cov  aged_65_older_cov  aged_70_older_cov  gdp_per_capita_cov  \\\n0            18.6              2.581              1.337            1803.987   \n1            38.0             13.188              8.643           11803.431   \n2            29.1              6.211              3.857           13913.839   \n3            16.8              2.405              1.362            5819.495   \n4            31.9             11.198              7.441           18933.907   \n\n   ...  Chronic kidney disease  Chronic respiratory diseases  \\\n0  ...                0.015165                      0.019052   \n1  ...                0.011413                      0.028272   \n2  ...                0.019421                      0.017827   \n3  ...                0.007997                      0.012769   \n4  ...                0.035312                      0.043615   \n\n   Cirrhosis and other chronic liver diseases  Digestive diseases  \\\n0                                    0.010215            0.018640   \n1                                    0.011552            0.018281   \n2                                    0.009579            0.015151   \n3                                    0.018390            0.029117   \n4                                    0.019217            0.040107   \n\n   Acute hepatitis  Alzheimer's disease and other dementias  \\\n0         0.005219                                 0.004775   \n1         0.000035                                 0.031810   \n2         0.000613                                 0.012335   \n3         0.000798                                 0.003710   \n4         0.000081                                 0.027152   \n\n   Parkinson's disease  Total_death_ratio  air_polution  Obesity_rate  \n0             0.001507           0.585498      52.99812           5.5  \n1             0.008603           0.771315      18.45981          21.7  \n2             0.003038           0.455347      32.91557          27.4  \n3             0.000867           0.562613      28.02152           8.2  \n4             0.006860           0.759791      13.84671          28.3  \n\n[5 rows x 52 columns]",
      "text/html": "<div>\n<style scoped>\n    .dataframe tbody tr th:only-of-type {\n        vertical-align: middle;\n    }\n\n    .dataframe tbody tr th {\n        vertical-align: top;\n    }\n\n    .dataframe thead th {\n        text-align: right;\n    }\n</style>\n<table border=\"1\" class=\"dataframe\">\n  <thead>\n    <tr style=\"text-align: right;\">\n      <th></th>\n      <th>location</th>\n      <th>new_cases_per_million</th>\n      <th>new_deaths_per_million</th>\n      <th>stringency_index_cov</th>\n      <th>population_density_cov</th>\n      <th>population_cov</th>\n      <th>median_age_cov</th>\n      <th>aged_65_older_cov</th>\n      <th>aged_70_older_cov</th>\n      <th>gdp_per_capita_cov</th>\n      <th>...</th>\n      <th>Chronic kidney disease</th>\n      <th>Chronic respiratory diseases</th>\n      <th>Cirrhosis and other chronic liver diseases</th>\n      <th>Digestive diseases</th>\n      <th>Acute hepatitis</th>\n      <th>Alzheimer's disease and other dementias</th>\n      <th>Parkinson's disease</th>\n      <th>Total_death_ratio</th>\n      <th>air_polution</th>\n      <th>Obesity_rate</th>\n    </tr>\n  </thead>\n  <tbody>\n    <tr>\n      <th>0</th>\n      <td>Afghanistan</td>\n      <td>1313.661</td>\n      <td>54.938</td>\n      <td>47.626442</td>\n      <td>54.422</td>\n      <td>39835428.0</td>\n      <td>18.6</td>\n      <td>2.581</td>\n      <td>1.337</td>\n      <td>1803.987</td>\n      <td>...</td>\n      <td>0.015165</td>\n      <td>0.019052</td>\n      <td>0.010215</td>\n      <td>0.018640</td>\n      <td>0.005219</td>\n      <td>0.004775</td>\n      <td>0.001507</td>\n      <td>0.585498</td>\n      <td>52.99812</td>\n      <td>5.5</td>\n    </tr>\n    <tr>\n      <th>1</th>\n      <td>Albania</td>\n      <td>20298.412</td>\n      <td>411.043</td>\n      <td>64.760836</td>\n      <td>104.871</td>\n      <td>2872934.0</td>\n      <td>38.0</td>\n      <td>13.188</td>\n      <td>8.643</td>\n      <td>11803.431</td>\n      <td>...</td>\n      <td>0.011413</td>\n      <td>0.028272</td>\n      <td>0.011552</td>\n      <td>0.018281</td>\n      <td>0.000035</td>\n      <td>0.031810</td>\n      <td>0.008603</td>\n      <td>0.771315</td>\n      <td>18.45981</td>\n      <td>21.7</td>\n    </tr>\n    <tr>\n      <th>2</th>\n      <td>Algeria</td>\n      <td>2232.574</td>\n      <td>61.762</td>\n      <td>70.767717</td>\n      <td>17.348</td>\n      <td>44616626.0</td>\n      <td>29.1</td>\n      <td>6.211</td>\n      <td>3.857</td>\n      <td>13913.839</td>\n      <td>...</td>\n      <td>0.019421</td>\n      <td>0.017827</td>\n      <td>0.009579</td>\n      <td>0.015151</td>\n      <td>0.000613</td>\n      <td>0.012335</td>\n      <td>0.003038</td>\n      <td>0.455347</td>\n      <td>32.91557</td>\n      <td>27.4</td>\n    </tr>\n    <tr>\n      <th>3</th>\n      <td>Angola</td>\n      <td>517.274</td>\n      <td>11.899</td>\n      <td>73.326934</td>\n      <td>23.890</td>\n      <td>33933611.0</td>\n      <td>16.8</td>\n      <td>2.405</td>\n      <td>1.362</td>\n      <td>5819.495</td>\n      <td>...</td>\n      <td>0.007997</td>\n      <td>0.012769</td>\n      <td>0.018390</td>\n      <td>0.029117</td>\n      <td>0.000798</td>\n      <td>0.003710</td>\n      <td>0.000867</td>\n      <td>0.562613</td>\n      <td>28.02152</td>\n      <td>8.2</td>\n    </tr>\n    <tr>\n      <th>4</th>\n      <td>Argentina</td>\n      <td>35642.693</td>\n      <td>948.224</td>\n      <td>71.530603</td>\n      <td>16.177</td>\n      <td>45605823.0</td>\n      <td>31.9</td>\n      <td>11.198</td>\n      <td>7.441</td>\n      <td>18933.907</td>\n      <td>...</td>\n      <td>0.035312</td>\n      <td>0.043615</td>\n      <td>0.019217</td>\n      <td>0.040107</td>\n      <td>0.000081</td>\n      <td>0.027152</td>\n      <td>0.006860</td>\n      <td>0.759791</td>\n      <td>13.84671</td>\n      <td>28.3</td>\n    </tr>\n  </tbody>\n</table>\n<p>5 rows × 52 columns</p>\n</div>"
     },
     "execution_count": 8,
     "metadata": {},
     "output_type": "execute_result"
    }
   ],
   "source": [
    "data2020.head()"
   ],
   "metadata": {
    "collapsed": false,
    "pycharm": {
     "name": "#%%\n"
    }
   }
  },
  {
   "cell_type": "markdown",
   "source": [
    "# Predictability Run"
   ],
   "metadata": {
    "collapsed": false,
    "pycharm": {
     "name": "#%% md\n"
    }
   }
  },
  {
   "cell_type": "markdown",
   "source": [
    "Let's specify some columns and targets:"
   ],
   "metadata": {
    "collapsed": false,
    "pycharm": {
     "name": "#%% md\n"
    }
   }
  },
  {
   "cell_type": "code",
   "execution_count": 9,
   "outputs": [],
   "source": [
    "col_set = [\"new_cases_per_million\", \"new_deaths_per_million\",\n",
    "           'Area_km2', \"Parkinson's disease\", 'Obesity_rate', \"Drug use disorders\", \"Alzheimer's disease and other dementias\",\n",
    "           \"Cardiovascular diseases\", \"Protein-energy malnutrition\", \"median_age_cov\", \"aged_70_older_cov\", \"Density_km2\",\n",
    "           'aged_65_older_cov', 'air_polution', 'stringency_index_cov', 'life_expectancy_cov', 'Diabetes mellitus']\n",
    "targets=[\"new_cases_per_million\", \"new_deaths_per_million\"]\n",
    "primkey_cols=[\"location\", \"Year_x\"]"
   ],
   "metadata": {
    "collapsed": false,
    "pycharm": {
     "name": "#%%\n"
    }
   }
  },
  {
   "cell_type": "markdown",
   "source": [
    "and get the corresponding number of combinations"
   ],
   "metadata": {
    "collapsed": false,
    "pycharm": {
     "name": "#%% md\n"
    }
   }
  },
  {
   "cell_type": "code",
   "execution_count": 10,
   "outputs": [
    {
     "data": {
      "text/plain": "910"
     },
     "execution_count": 10,
     "metadata": {},
     "output_type": "execute_result"
    }
   ],
   "source": [
    "asd.get_column_combinations(all_cols=col_set,inputs=3,outputs=1,targets=targets, amount_only=True)"
   ],
   "metadata": {
    "collapsed": false,
    "pycharm": {
     "name": "#%%\n"
    }
   }
  },
  {
   "cell_type": "markdown",
   "source": [
    "We can scan these combinations with ``method=\"kNN\"``:"
   ],
   "metadata": {
    "collapsed": false,
    "pycharm": {
     "name": "#%% md\n"
    }
   }
  },
  {
   "cell_type": "code",
   "execution_count": null,
   "outputs": [],
   "source": [
    "metrics_dict, datas_dict = asd.run_predictability(data=data2020,\n",
    "                                                  input_cols=3,\n",
    "                                                  output_cols=1,\n",
    "                                                  col_set=col_set,\n",
    "                                                  targets=targets,\n",
    "                                                  primkey_cols=primkey_cols,\n",
    "                                                  method=\"kNN\",\n",
    "                                                  random_state_split=None\n",
    "                                                  )"
   ],
   "metadata": {
    "collapsed": false,
    "pycharm": {
     "name": "#%%\n",
     "is_executing": true
    }
   }
  },
  {
   "cell_type": "markdown",
   "source": [
    "Let's have a look at the results:"
   ],
   "metadata": {
    "collapsed": false,
    "pycharm": {
     "name": "#%% md\n"
    }
   }
  },
  {
   "cell_type": "code",
   "execution_count": 14,
   "outputs": [],
   "source": [
    "metrics_df = pd.DataFrame.from_dict(metrics_dict).transpose().sort_values(by=\"kNN r2\", ascending=False)"
   ],
   "metadata": {
    "collapsed": false,
    "pycharm": {
     "name": "#%%\n"
    }
   }
  },
  {
   "cell_type": "code",
   "execution_count": 16,
   "outputs": [
    {
     "data": {
      "text/plain": "                                                                                                                                      kNN r2  \\\nmedian_age_cov                          Diabetes mellitus           Alzheimer's disease and other dementias new_deaths_per_million  0.671875   \nAlzheimer's disease and other dementias Obesity_rate                Parkinson's disease                     new_cases_per_million   0.663137   \nmedian_age_cov                          life_expectancy_cov         Obesity_rate                            new_cases_per_million   0.640734   \n                                        Density_km2                 stringency_index_cov                    new_deaths_per_million  0.629346   \nDrug use disorders                      Protein-energy malnutrition Parkinson's disease                     new_deaths_per_million  0.612063   \n\n                                                                                                                                   linear r2  \\\nmedian_age_cov                          Diabetes mellitus           Alzheimer's disease and other dementias new_deaths_per_million  0.586284   \nAlzheimer's disease and other dementias Obesity_rate                Parkinson's disease                     new_cases_per_million   0.502738   \nmedian_age_cov                          life_expectancy_cov         Obesity_rate                            new_cases_per_million   0.534042   \n                                        Density_km2                 stringency_index_cov                    new_deaths_per_million  0.510133   \nDrug use disorders                      Protein-energy malnutrition Parkinson's disease                     new_deaths_per_million  0.494269   \n\n                                                                                                                                   pow. law r2  \\\nmedian_age_cov                          Diabetes mellitus           Alzheimer's disease and other dementias new_deaths_per_million        None   \nAlzheimer's disease and other dementias Obesity_rate                Parkinson's disease                     new_cases_per_million     0.300214   \nmedian_age_cov                          life_expectancy_cov         Obesity_rate                            new_cases_per_million      0.25993   \n                                        Density_km2                 stringency_index_cov                    new_deaths_per_million         NaN   \nDrug use disorders                      Protein-energy malnutrition Parkinson's disease                     new_deaths_per_million         NaN   \n\n                                                                                                                                     mean r2  \\\nmedian_age_cov                          Diabetes mellitus           Alzheimer's disease and other dementias new_deaths_per_million -0.025568   \nAlzheimer's disease and other dementias Obesity_rate                Parkinson's disease                     new_cases_per_million  -0.001246   \nmedian_age_cov                          life_expectancy_cov         Obesity_rate                            new_cases_per_million  -0.009204   \n                                        Density_km2                 stringency_index_cov                    new_deaths_per_million -0.002709   \nDrug use disorders                      Protein-energy malnutrition Parkinson's disease                     new_deaths_per_million -0.016633   \n\n                                                                                                                                        kNN RMSE  \\\nmedian_age_cov                          Diabetes mellitus           Alzheimer's disease and other dementias new_deaths_per_million    188.904554   \nAlzheimer's disease and other dementias Obesity_rate                Parkinson's disease                     new_cases_per_million    9809.455364   \nmedian_age_cov                          life_expectancy_cov         Obesity_rate                            new_cases_per_million   11038.622923   \n                                        Density_km2                 stringency_index_cov                    new_deaths_per_million    215.313943   \nDrug use disorders                      Protein-energy malnutrition Parkinson's disease                     new_deaths_per_million    225.606743   \n\n                                                                                                                                     linear RMSE  \\\nmedian_age_cov                          Diabetes mellitus           Alzheimer's disease and other dementias new_deaths_per_million    212.116311   \nAlzheimer's disease and other dementias Obesity_rate                Parkinson's disease                     new_cases_per_million   11918.207044   \nmedian_age_cov                          life_expectancy_cov         Obesity_rate                            new_cases_per_million   12571.305299   \n                                        Density_km2                 stringency_index_cov                    new_deaths_per_million    247.529387   \nDrug use disorders                      Protein-energy malnutrition Parkinson's disease                     new_deaths_per_million    257.591424   \n\n                                                                                                                                   pow. law RMSE  \\\nmedian_age_cov                          Diabetes mellitus           Alzheimer's disease and other dementias new_deaths_per_million          None   \nAlzheimer's disease and other dementias Obesity_rate                Parkinson's disease                     new_cases_per_million   14138.427884   \nmedian_age_cov                          life_expectancy_cov         Obesity_rate                            new_cases_per_million   15843.225389   \n                                        Density_km2                 stringency_index_cov                    new_deaths_per_million           NaN   \nDrug use disorders                      Protein-energy malnutrition Parkinson's disease                     new_deaths_per_million           NaN   \n\n                                                                                                                                       mean RMSE  \\\nmedian_age_cov                          Diabetes mellitus           Alzheimer's disease and other dementias new_deaths_per_million    333.968149   \nAlzheimer's disease and other dementias Obesity_rate                Parkinson's disease                     new_cases_per_million   16911.758383   \nmedian_age_cov                          life_expectancy_cov         Obesity_rate                            new_cases_per_million   18501.060553   \n                                        Density_km2                 stringency_index_cov                    new_deaths_per_million    354.140259   \nDrug use disorders                      Protein-energy malnutrition Parkinson's disease                     new_deaths_per_million    365.219264   \n\n                                                                                                                                   kNN RMSE/std  \\\nmedian_age_cov                          Diabetes mellitus           Alzheimer's disease and other dementias new_deaths_per_million     0.572822   \nAlzheimer's disease and other dementias Obesity_rate                Parkinson's disease                     new_cases_per_million      0.580399   \nmedian_age_cov                          life_expectancy_cov         Obesity_rate                            new_cases_per_million      0.599388   \n                                        Density_km2                 stringency_index_cov                    new_deaths_per_million     0.608814   \nDrug use disorders                      Protein-energy malnutrition Parkinson's disease                     new_deaths_per_million     0.622846   \n\n                                                                                                                                   linear RMSE/std  \\\nmedian_age_cov                          Diabetes mellitus           Alzheimer's disease and other dementias new_deaths_per_million        0.643208   \nAlzheimer's disease and other dementias Obesity_rate                Parkinson's disease                     new_cases_per_million         0.705168   \nmedian_age_cov                          life_expectancy_cov         Obesity_rate                            new_cases_per_million         0.682611   \n                                        Density_km2                 stringency_index_cov                    new_deaths_per_million        0.699905   \nDrug use disorders                      Protein-energy malnutrition Parkinson's disease                     new_deaths_per_million        0.711148   \n\n                                                                                                                                    ...  \\\nmedian_age_cov                          Diabetes mellitus           Alzheimer's disease and other dementias new_deaths_per_million  ...   \nAlzheimer's disease and other dementias Obesity_rate                Parkinson's disease                     new_cases_per_million   ...   \nmedian_age_cov                          life_expectancy_cov         Obesity_rate                            new_cases_per_million   ...   \n                                        Density_km2                 stringency_index_cov                    new_deaths_per_million  ...   \nDrug use disorders                      Protein-energy malnutrition Parkinson's disease                     new_deaths_per_million  ...   \n\n                                                                                                                                              mean MAPE  \\\nmedian_age_cov                          Diabetes mellitus           Alzheimer's disease and other dementias new_deaths_per_million              80.1236   \nAlzheimer's disease and other dementias Obesity_rate                Parkinson's disease                     new_cases_per_million             84.568629   \nmedian_age_cov                          life_expectancy_cov         Obesity_rate                            new_cases_per_million             22.694196   \n                                        Density_km2                 stringency_index_cov                    new_deaths_per_million  81739483740223232.0   \nDrug use disorders                      Protein-energy malnutrition Parkinson's disease                     new_deaths_per_million  26444673803849856.0   \n\n                                                                                                                                     kNN rae  \\\nmedian_age_cov                          Diabetes mellitus           Alzheimer's disease and other dementias new_deaths_per_million  0.490003   \nAlzheimer's disease and other dementias Obesity_rate                Parkinson's disease                     new_cases_per_million   0.457841   \nmedian_age_cov                          life_expectancy_cov         Obesity_rate                            new_cases_per_million   0.497972   \n                                        Density_km2                 stringency_index_cov                    new_deaths_per_million  0.576652   \nDrug use disorders                      Protein-energy malnutrition Parkinson's disease                     new_deaths_per_million   0.55603   \n\n                                                                                                                                   linear rae  \\\nmedian_age_cov                          Diabetes mellitus           Alzheimer's disease and other dementias new_deaths_per_million   0.577426   \nAlzheimer's disease and other dementias Obesity_rate                Parkinson's disease                     new_cases_per_million     0.57144   \nmedian_age_cov                          life_expectancy_cov         Obesity_rate                            new_cases_per_million    0.599209   \n                                        Density_km2                 stringency_index_cov                    new_deaths_per_million   0.672884   \nDrug use disorders                      Protein-energy malnutrition Parkinson's disease                     new_deaths_per_million   0.634448   \n\n                                                                                                                                   pow. law rae  \\\nmedian_age_cov                          Diabetes mellitus           Alzheimer's disease and other dementias new_deaths_per_million         None   \nAlzheimer's disease and other dementias Obesity_rate                Parkinson's disease                     new_cases_per_million      0.632398   \nmedian_age_cov                          life_expectancy_cov         Obesity_rate                            new_cases_per_million      0.636834   \n                                        Density_km2                 stringency_index_cov                    new_deaths_per_million          NaN   \nDrug use disorders                      Protein-energy malnutrition Parkinson's disease                     new_deaths_per_million          NaN   \n\n                                                                                                                                    mean rae  \\\nmedian_age_cov                          Diabetes mellitus           Alzheimer's disease and other dementias new_deaths_per_million  1.061795   \nAlzheimer's disease and other dementias Obesity_rate                Parkinson's disease                     new_cases_per_million   0.991407   \nmedian_age_cov                          life_expectancy_cov         Obesity_rate                            new_cases_per_million   0.975248   \n                                        Density_km2                 stringency_index_cov                    new_deaths_per_million  0.987182   \nDrug use disorders                      Protein-energy malnutrition Parkinson's disease                     new_deaths_per_million  0.964767   \n\n                                                                                                                                    kNN dcor  \\\nmedian_age_cov                          Diabetes mellitus           Alzheimer's disease and other dementias new_deaths_per_million  0.827813   \nAlzheimer's disease and other dementias Obesity_rate                Parkinson's disease                     new_cases_per_million   0.820768   \nmedian_age_cov                          life_expectancy_cov         Obesity_rate                            new_cases_per_million    0.82852   \n                                        Density_km2                 stringency_index_cov                    new_deaths_per_million  0.831116   \nDrug use disorders                      Protein-energy malnutrition Parkinson's disease                     new_deaths_per_million  0.779191   \n\n                                                                                                                                   linear dcor  \\\nmedian_age_cov                          Diabetes mellitus           Alzheimer's disease and other dementias new_deaths_per_million    0.799768   \nAlzheimer's disease and other dementias Obesity_rate                Parkinson's disease                     new_cases_per_million     0.759215   \nmedian_age_cov                          life_expectancy_cov         Obesity_rate                            new_cases_per_million     0.786176   \n                                        Density_km2                 stringency_index_cov                    new_deaths_per_million    0.770691   \nDrug use disorders                      Protein-energy malnutrition Parkinson's disease                     new_deaths_per_million    0.705915   \n\n                                                                                                                                   pow. law dcor  \\\nmedian_age_cov                          Diabetes mellitus           Alzheimer's disease and other dementias new_deaths_per_million          None   \nAlzheimer's disease and other dementias Obesity_rate                Parkinson's disease                     new_cases_per_million       0.743832   \nmedian_age_cov                          life_expectancy_cov         Obesity_rate                            new_cases_per_million       0.799642   \n                                        Density_km2                 stringency_index_cov                    new_deaths_per_million           NaN   \nDrug use disorders                      Protein-energy malnutrition Parkinson's disease                     new_deaths_per_million           NaN   \n\n                                                                                                                                   mean dcor  \\\nmedian_age_cov                          Diabetes mellitus           Alzheimer's disease and other dementias new_deaths_per_million  0.000107   \nAlzheimer's disease and other dementias Obesity_rate                Parkinson's disease                     new_cases_per_million        0.0   \nmedian_age_cov                          life_expectancy_cov         Obesity_rate                            new_cases_per_million   0.000312   \n                                        Density_km2                 stringency_index_cov                    new_deaths_per_million  0.000244   \nDrug use disorders                      Protein-energy malnutrition Parkinson's disease                     new_deaths_per_million  0.000217   \n\n                                                                                                                                                                      refined_metrics  \nmedian_age_cov                          Diabetes mellitus           Alzheimer's disease and other dementias new_deaths_per_million  {'r2': 0.6076668069320885, 'RMSE': 206.5619320...  \nAlzheimer's disease and other dementias Obesity_rate                Parkinson's disease                     new_cases_per_million                                                 NaN  \nmedian_age_cov                          life_expectancy_cov         Obesity_rate                            new_cases_per_million                                                 NaN  \n                                        Density_km2                 stringency_index_cov                    new_deaths_per_million                                                NaN  \nDrug use disorders                      Protein-energy malnutrition Parkinson's disease                     new_deaths_per_million                                                NaN  \n\n[5 rows x 25 columns]",
      "text/html": "<div>\n<style scoped>\n    .dataframe tbody tr th:only-of-type {\n        vertical-align: middle;\n    }\n\n    .dataframe tbody tr th {\n        vertical-align: top;\n    }\n\n    .dataframe thead th {\n        text-align: right;\n    }\n</style>\n<table border=\"1\" class=\"dataframe\">\n  <thead>\n    <tr style=\"text-align: right;\">\n      <th></th>\n      <th></th>\n      <th></th>\n      <th></th>\n      <th>kNN r2</th>\n      <th>linear r2</th>\n      <th>pow. law r2</th>\n      <th>mean r2</th>\n      <th>kNN RMSE</th>\n      <th>linear RMSE</th>\n      <th>pow. law RMSE</th>\n      <th>mean RMSE</th>\n      <th>kNN RMSE/std</th>\n      <th>linear RMSE/std</th>\n      <th>...</th>\n      <th>mean MAPE</th>\n      <th>kNN rae</th>\n      <th>linear rae</th>\n      <th>pow. law rae</th>\n      <th>mean rae</th>\n      <th>kNN dcor</th>\n      <th>linear dcor</th>\n      <th>pow. law dcor</th>\n      <th>mean dcor</th>\n      <th>refined_metrics</th>\n    </tr>\n  </thead>\n  <tbody>\n    <tr>\n      <th>median_age_cov</th>\n      <th>Diabetes mellitus</th>\n      <th>Alzheimer's disease and other dementias</th>\n      <th>new_deaths_per_million</th>\n      <td>0.671875</td>\n      <td>0.586284</td>\n      <td>None</td>\n      <td>-0.025568</td>\n      <td>188.904554</td>\n      <td>212.116311</td>\n      <td>None</td>\n      <td>333.968149</td>\n      <td>0.572822</td>\n      <td>0.643208</td>\n      <td>...</td>\n      <td>80.1236</td>\n      <td>0.490003</td>\n      <td>0.577426</td>\n      <td>None</td>\n      <td>1.061795</td>\n      <td>0.827813</td>\n      <td>0.799768</td>\n      <td>None</td>\n      <td>0.000107</td>\n      <td>{'r2': 0.6076668069320885, 'RMSE': 206.5619320...</td>\n    </tr>\n    <tr>\n      <th>Alzheimer's disease and other dementias</th>\n      <th>Obesity_rate</th>\n      <th>Parkinson's disease</th>\n      <th>new_cases_per_million</th>\n      <td>0.663137</td>\n      <td>0.502738</td>\n      <td>0.300214</td>\n      <td>-0.001246</td>\n      <td>9809.455364</td>\n      <td>11918.207044</td>\n      <td>14138.427884</td>\n      <td>16911.758383</td>\n      <td>0.580399</td>\n      <td>0.705168</td>\n      <td>...</td>\n      <td>84.568629</td>\n      <td>0.457841</td>\n      <td>0.57144</td>\n      <td>0.632398</td>\n      <td>0.991407</td>\n      <td>0.820768</td>\n      <td>0.759215</td>\n      <td>0.743832</td>\n      <td>0.0</td>\n      <td>NaN</td>\n    </tr>\n    <tr>\n      <th rowspan=\"2\" valign=\"top\">median_age_cov</th>\n      <th>life_expectancy_cov</th>\n      <th>Obesity_rate</th>\n      <th>new_cases_per_million</th>\n      <td>0.640734</td>\n      <td>0.534042</td>\n      <td>0.25993</td>\n      <td>-0.009204</td>\n      <td>11038.622923</td>\n      <td>12571.305299</td>\n      <td>15843.225389</td>\n      <td>18501.060553</td>\n      <td>0.599388</td>\n      <td>0.682611</td>\n      <td>...</td>\n      <td>22.694196</td>\n      <td>0.497972</td>\n      <td>0.599209</td>\n      <td>0.636834</td>\n      <td>0.975248</td>\n      <td>0.82852</td>\n      <td>0.786176</td>\n      <td>0.799642</td>\n      <td>0.000312</td>\n      <td>NaN</td>\n    </tr>\n    <tr>\n      <th>Density_km2</th>\n      <th>stringency_index_cov</th>\n      <th>new_deaths_per_million</th>\n      <td>0.629346</td>\n      <td>0.510133</td>\n      <td>NaN</td>\n      <td>-0.002709</td>\n      <td>215.313943</td>\n      <td>247.529387</td>\n      <td>NaN</td>\n      <td>354.140259</td>\n      <td>0.608814</td>\n      <td>0.699905</td>\n      <td>...</td>\n      <td>81739483740223232.0</td>\n      <td>0.576652</td>\n      <td>0.672884</td>\n      <td>NaN</td>\n      <td>0.987182</td>\n      <td>0.831116</td>\n      <td>0.770691</td>\n      <td>NaN</td>\n      <td>0.000244</td>\n      <td>NaN</td>\n    </tr>\n    <tr>\n      <th>Drug use disorders</th>\n      <th>Protein-energy malnutrition</th>\n      <th>Parkinson's disease</th>\n      <th>new_deaths_per_million</th>\n      <td>0.612063</td>\n      <td>0.494269</td>\n      <td>NaN</td>\n      <td>-0.016633</td>\n      <td>225.606743</td>\n      <td>257.591424</td>\n      <td>NaN</td>\n      <td>365.219264</td>\n      <td>0.622846</td>\n      <td>0.711148</td>\n      <td>...</td>\n      <td>26444673803849856.0</td>\n      <td>0.55603</td>\n      <td>0.634448</td>\n      <td>NaN</td>\n      <td>0.964767</td>\n      <td>0.779191</td>\n      <td>0.705915</td>\n      <td>NaN</td>\n      <td>0.000217</td>\n      <td>NaN</td>\n    </tr>\n  </tbody>\n</table>\n<p>5 rows × 25 columns</p>\n</div>"
     },
     "execution_count": 16,
     "metadata": {},
     "output_type": "execute_result"
    }
   ],
   "source": [
    "metrics_df.head(5)"
   ],
   "metadata": {
    "collapsed": false,
    "pycharm": {
     "name": "#%%\n"
    }
   }
  },
  {
   "cell_type": "markdown",
   "source": [
    "## Refine predictability"
   ],
   "metadata": {
    "collapsed": false,
    "pycharm": {
     "name": "#%% md\n"
    }
   }
  },
  {
   "cell_type": "code",
   "execution_count": 19,
   "outputs": [],
   "source": [
    "selected_tuples = asd.tuple_selection(metrics_dict,\n",
    "                                  n_best=3\n",
    "                                  )"
   ],
   "metadata": {
    "collapsed": false,
    "pycharm": {
     "name": "#%%\n"
    }
   }
  },
  {
   "cell_type": "code",
   "execution_count": 22,
   "outputs": [
    {
     "data": {
      "text/plain": "[('median_age_cov',\n  'Diabetes mellitus',\n  \"Alzheimer's disease and other dementias\",\n  'new_deaths_per_million'),\n (\"Alzheimer's disease and other dementias\",\n  'Obesity_rate',\n  \"Parkinson's disease\",\n  'new_cases_per_million'),\n ('median_age_cov',\n  'life_expectancy_cov',\n  'Obesity_rate',\n  'new_cases_per_million')]"
     },
     "execution_count": 22,
     "metadata": {},
     "output_type": "execute_result"
    }
   ],
   "source": [
    "selected_tuples"
   ],
   "metadata": {
    "collapsed": false,
    "pycharm": {
     "name": "#%%\n"
    }
   }
  },
  {
   "cell_type": "markdown",
   "source": [
    "Then run the ``refine_predictability`` routine."
   ],
   "metadata": {
    "collapsed": false,
    "pycharm": {
     "name": "#%% md\n"
    }
   }
  },
  {
   "cell_type": "code",
   "execution_count": null,
   "outputs": [],
   "source": [
    "refined_metrics_dict, refined_datas_dict = asd.refine_predictability(best_tuples=selected_tuples,\n",
    "                                                                     data_dict=datas_dict,\n",
    "                                                                     time_left_for_this_task=120,\n",
    "                                                                     n_jobs=-1,\n",
    "                                                                     use_ray=True\n",
    "                                                                     )"
   ],
   "metadata": {
    "collapsed": false,
    "pycharm": {
     "name": "#%%\n",
     "is_executing": true
    }
   }
  },
  {
   "cell_type": "markdown",
   "source": [
    "We may now compare the results:"
   ],
   "metadata": {
    "collapsed": false,
    "pycharm": {
     "name": "#%% md\n"
    }
   }
  },
  {
   "cell_type": "code",
   "execution_count": 29,
   "outputs": [
    {
     "name": "stdout",
     "output_type": "stream",
     "text": [
      "('median_age_cov', 'Diabetes mellitus', \"Alzheimer's disease and other dementias\", 'new_deaths_per_million'): \n",
      " \t r2: 0.67\t\t\tRMSE: 188.9\n",
      " \t ref.: 0.61\t\t\tref.: 205.06\n",
      "\n",
      "(\"Alzheimer's disease and other dementias\", 'Obesity_rate', \"Parkinson's disease\", 'new_cases_per_million'): \n",
      " \t r2: 0.66\t\t\tRMSE: 9809.46\n",
      " \t ref.: 0.41\t\t\tref.: 12971.0\n",
      "\n",
      "('median_age_cov', 'life_expectancy_cov', 'Obesity_rate', 'new_cases_per_million'): \n",
      " \t r2: 0.64\t\t\tRMSE: 11038.62\n",
      " \t ref.: 0.62\t\t\tref.: 11342.8\n",
      "\n"
     ]
    }
   ],
   "source": [
    "for key in list(refined_metrics_dict.keys()):\n",
    "    print(f'{key}: \\n \\t r2: {round(metrics_dict[key][\"kNN r2\"],2)}\\t\\t\\t'\n",
    "          f'RMSE: {round(metrics_dict[key][\"kNN RMSE\"],2)}\\n '\n",
    "          f'\\t ref.: {round(refined_metrics_dict[key][\"r2\"],2)}\\t\\t\\t'\n",
    "          f'ref.: {round(refined_metrics_dict[key][\"RMSE\"],2)}\\n')"
   ],
   "metadata": {
    "collapsed": false,
    "pycharm": {
     "name": "#%%\n"
    }
   }
  },
  {
   "cell_type": "markdown",
   "source": [
    "# Plotting"
   ],
   "metadata": {
    "collapsed": false,
    "pycharm": {
     "name": "#%% md\n"
    }
   }
  },
  {
   "cell_type": "code",
   "execution_count": 31,
   "outputs": [
    {
     "data": {
      "application/vnd.plotly.v1+json": {
       "data": [
        {
         "mode": "markers",
         "name": "init preds vs trues",
         "opacity": 0.8,
         "x": [
          32044.244999999995,
          5818.222999999992,
          11760.494,
          421.7269999999983,
          2689.2290000000003,
          631.4119999999997,
          28121.544,
          413.8380000000009,
          21909.736000000004,
          43048.44,
          1433.028,
          34258.749,
          2014.1680000000003,
          1324.235999999998,
          51895.632,
          22.302000000000007,
          30430.300999999992,
          7982.146999999996,
          41250.537,
          567.8110000000005,
          6175.849,
          132.24499999999992,
          14408.56,
          58762.99599999999,
          35642.693,
          18418.769,
          21433.110000000004,
          85.541,
          428.5240000000002,
          8011.849000000003,
          366.51700000000005,
          25007.507999999994,
          19830.478000000006,
          7382.405999999998,
          34008.385,
          191.154,
          9253.106,
          1016.6480000000004,
          57143.963,
          14410.643999999997,
          3008.0909999999994,
          335.0599999999999,
          34905.658,
          20821.444,
          3956.055,
          5.562000000000001,
          35988.344999999994,
          3087.783000000001
         ],
         "y": [
          16959.655200000005,
          1855.5975333333329,
          10647.270266666666,
          31896.95046666667,
          1454.559533333333,
          911.0441333333333,
          35064.34206666668,
          4268.300000000002,
          36131.411733333334,
          32813.5542,
          3906.5873333333325,
          32496.270866666666,
          3445.703600000001,
          20599.891999999996,
          36664.895333333334,
          1556.0275999999997,
          16064.306666666673,
          3950.6164666666664,
          33859.032333333336,
          929.3304,
          5376.149866666666,
          649.1061333333333,
          15337.50786666667,
          39103.72833333334,
          22974.719000000005,
          28847.091533333336,
          28082.108800000005,
          9035.323999999999,
          728.2511333333332,
          9101.927933333332,
          1488.759933333333,
          28847.091533333336,
          14765.354733333334,
          1432.7332,
          31596.38086666667,
          858.1596000000001,
          5438.887066666667,
          973.8672,
          31586.85353333333,
          18245.631200000003,
          1796.489866666666,
          649.1061333333333,
          32259.975533333334,
          31362.149733333335,
          16844.000800000005,
          1521.4206666666662,
          19309.236600000004,
          1556.0275999999997
         ],
         "type": "scatter",
         "xaxis": "x",
         "yaxis": "y"
        },
        {
         "mode": "markers",
         "name": "linear preds vs trues",
         "opacity": 0.8,
         "x": [
          32044.244999999995,
          5818.222999999992,
          11760.494,
          421.7269999999983,
          2689.2290000000003,
          631.4119999999997,
          28121.544,
          413.8380000000009,
          21909.736000000004,
          43048.44,
          1433.028,
          34258.749,
          2014.1680000000003,
          1324.235999999998,
          51895.632,
          22.302000000000007,
          30430.300999999992,
          7982.146999999996,
          41250.537,
          567.8110000000005,
          6175.849,
          132.24499999999992,
          14408.56,
          58762.99599999999,
          35642.693,
          18418.769,
          21433.110000000004,
          85.541,
          428.5240000000002,
          8011.849000000003,
          366.51700000000005,
          25007.507999999994,
          19830.478000000006,
          7382.405999999998,
          34008.385,
          191.154,
          9253.106,
          1016.6480000000004,
          57143.963,
          14410.643999999997,
          3008.0909999999994,
          335.0599999999999,
          34905.658,
          20821.444,
          3956.055,
          5.562000000000001,
          35988.344999999994,
          3087.783000000001
         ],
         "y": [
          19084.601616757223,
          5265.698730029757,
          19465.325189406045,
          32438.720185994818,
          533.4977319705959,
          -1811.7484777784057,
          24001.798477951386,
          8661.136548630931,
          28699.372976012834,
          27927.342191778625,
          8186.680053207334,
          26829.12784824602,
          1826.877238036941,
          22716.879943108586,
          27158.040374374024,
          -1826.6066867564805,
          15872.735577792331,
          7695.09882070646,
          32402.8836444352,
          -735.437234507157,
          10453.500316045744,
          -2730.701931953964,
          19738.736435044026,
          28028.69260834188,
          25804.76781911478,
          25402.77253924129,
          22222.653674388326,
          12398.20619445194,
          343.2039427859763,
          13015.697716398665,
          -1981.8102244428592,
          24727.376074914915,
          25178.32393553055,
          -1865.0140348219456,
          18920.20724800187,
          1289.7490924671474,
          9623.410730245783,
          574.0444956315823,
          23626.877307640476,
          25485.641014486726,
          5110.714267943,
          -2005.0781995222187,
          32837.07436126376,
          31481.703186875944,
          20803.774436953718,
          -1603.3511363593834,
          16808.664940388204,
          -2370.420022189489
         ],
         "type": "scatter",
         "xaxis": "x",
         "yaxis": "y"
        },
        {
         "mode": "markers",
         "name": "pl preds vs trues",
         "opacity": 0.8,
         "x": [
          32044.244999999995,
          5818.222999999992,
          11760.494,
          421.7269999999983,
          2689.2290000000003,
          631.4119999999997,
          28121.544,
          413.8380000000009,
          21909.736000000004,
          43048.44,
          1433.028,
          34258.749,
          2014.1680000000003,
          1324.235999999998,
          51895.632,
          22.302000000000007,
          30430.300999999992,
          7982.146999999996,
          41250.537,
          567.8110000000005,
          6175.849,
          132.24499999999992,
          14408.56,
          58762.99599999999,
          35642.693,
          18418.769,
          21433.110000000004,
          85.541,
          428.5240000000002,
          8011.849000000003,
          366.51700000000005,
          25007.507999999994,
          19830.478000000006,
          7382.405999999998,
          34008.385,
          191.154,
          9253.106,
          1016.6480000000004,
          57143.963,
          14410.643999999997,
          3008.0909999999994,
          335.0599999999999,
          34905.658,
          20821.444,
          3956.055,
          5.562000000000001,
          35988.344999999994,
          3087.783000000001
         ],
         "y": [
          26858.620883779542,
          1967.123471520618,
          8491.970763157218,
          34514.0987431709,
          418.2189735723848,
          557.3740391689191,
          11414.285083506888,
          3475.9077205830476,
          24074.875551024918,
          13196.657562510152,
          2480.4146242919187,
          21970.658135347454,
          652.1016728575142,
          6701.894031931484,
          16467.502768201703,
          218.58886062972113,
          10158.125838528114,
          1970.207548052855,
          20395.632126698907,
          511.484260182197,
          3778.0659652352365,
          239.88241682042408,
          15902.126563799156,
          26010.736802428037,
          15417.599319873665,
          14074.312668968592,
          17796.854175176017,
          1382.956326801195,
          626.643773427942,
          3677.899672552013,
          235.824189713019,
          16121.140107456995,
          13318.115401761544,
          109.12270084043557,
          4680.67820292265,
          1540.5360465698352,
          4522.1741918763655,
          580.4679204493652,
          20341.390173316395,
          29847.974891125443,
          2107.1008926290856,
          511.53205553116015,
          24162.544519233856,
          11968.03125218024,
          22214.409647275406,
          270.54111678567807,
          24156.809483610807,
          134.24709257129484
         ],
         "type": "scatter",
         "xaxis": "x",
         "yaxis": "y"
        },
        {
         "mode": "markers",
         "name": "mean preds vs trues",
         "opacity": 0.8,
         "x": [
          32044.244999999995,
          5818.222999999992,
          11760.494,
          421.7269999999983,
          2689.2290000000003,
          631.4119999999997,
          28121.544,
          413.8380000000009,
          21909.736000000004,
          43048.44,
          1433.028,
          34258.749,
          2014.1680000000003,
          1324.235999999998,
          51895.632,
          22.302000000000007,
          30430.300999999992,
          7982.146999999996,
          41250.537,
          567.8110000000005,
          6175.849,
          132.24499999999992,
          14408.56,
          58762.99599999999,
          35642.693,
          18418.769,
          21433.110000000004,
          85.541,
          428.5240000000002,
          8011.849000000003,
          366.51700000000005,
          25007.507999999994,
          19830.478000000006,
          7382.405999999998,
          34008.385,
          191.154,
          9253.106,
          1016.6480000000004,
          57143.963,
          14410.643999999997,
          3008.0909999999994,
          335.0599999999999,
          34905.658,
          20821.444,
          3956.055,
          5.562000000000001,
          35988.344999999994,
          3087.783000000001
         ],
         "y": [
          15075.415936936939,
          15075.415936936939,
          15075.415936936939,
          15075.415936936939,
          15075.415936936939,
          15075.415936936939,
          15075.415936936939,
          15075.415936936939,
          15075.415936936939,
          15075.415936936939,
          15075.415936936939,
          15075.415936936939,
          15075.415936936939,
          15075.415936936939,
          15075.415936936939,
          15075.415936936939,
          15075.415936936939,
          15075.415936936939,
          15075.415936936939,
          15075.415936936939,
          15075.415936936939,
          15075.415936936939,
          15075.415936936939,
          15075.415936936939,
          15075.415936936939,
          15075.415936936939,
          15075.415936936939,
          15075.415936936939,
          15075.415936936939,
          15075.415936936939,
          15075.415936936939,
          15075.415936936939,
          15075.415936936939,
          15075.415936936939,
          15075.415936936939,
          15075.415936936939,
          15075.415936936939,
          15075.415936936939,
          15075.415936936939,
          15075.415936936939,
          15075.415936936939,
          15075.415936936939,
          15075.415936936939,
          15075.415936936939,
          15075.415936936939,
          15075.415936936939,
          15075.415936936939,
          15075.415936936939
         ],
         "type": "scatter",
         "xaxis": "x",
         "yaxis": "y"
        },
        {
         "mode": "markers",
         "name": "refASD preds vs trues",
         "opacity": 0.8,
         "x": [
          32044.244999999995,
          5818.222999999992,
          11760.494,
          421.7269999999983,
          2689.2290000000003,
          631.4119999999997,
          28121.544,
          413.8380000000009,
          21909.736000000004,
          43048.44,
          1433.028,
          34258.749,
          2014.1680000000003,
          1324.235999999998,
          51895.632,
          22.302000000000007,
          30430.300999999992,
          7982.146999999996,
          41250.537,
          567.8110000000005,
          6175.849,
          132.24499999999992,
          14408.56,
          58762.99599999999,
          35642.693,
          18418.769,
          21433.110000000004,
          85.541,
          428.5240000000002,
          8011.849000000003,
          366.51700000000005,
          25007.507999999994,
          19830.478000000006,
          7382.405999999998,
          34008.385,
          191.154,
          9253.106,
          1016.6480000000004,
          57143.963,
          14410.643999999997,
          3008.0909999999994,
          335.0599999999999,
          34905.658,
          20821.444,
          3956.055,
          5.562000000000001,
          35988.344999999994,
          3087.783000000001
         ],
         "y": [
          20048.21048875492,
          7108.676481025186,
          17655.43117563468,
          41923.21374013423,
          1972.7685084769646,
          1002.5052942331249,
          19637.38362495294,
          6095.695394746717,
          30033.353362160415,
          23330.170889237117,
          9084.185744028971,
          27316.3520063311,
          393.7526926865139,
          19169.427410727083,
          22923.3234456847,
          -916.3334936677411,
          14703.584294629449,
          8843.015813768632,
          32575.29984910896,
          1728.918446595997,
          10657.695149284778,
          708.2743826220649,
          19547.830636489198,
          26447.29203850333,
          26175.42981173678,
          24677.34449270951,
          22104.07558387293,
          11102.78376589003,
          3265.1659380860365,
          11890.680434487631,
          208.58874836337964,
          24334.98737609323,
          24311.283892988708,
          -927.917883869969,
          13330.113147575443,
          4276.257058718556,
          10037.53108635224,
          2691.292445058023,
          23151.34629661664,
          27640.575576697775,
          6685.125752454458,
          1001.0791622315191,
          29271.23140383562,
          26361.1888818905,
          21734.031537159368,
          498.57540578093085,
          16581.201521576004,
          -1228.0588426445265
         ],
         "type": "scatter",
         "xaxis": "x",
         "yaxis": "y"
        },
        {
         "mode": "markers",
         "name": "pred. error init",
         "opacity": 0.6,
         "x": [
          -15084.58979999999,
          -3962.625466666659,
          -1113.2237333333342,
          31475.22346666667,
          -1234.6694666666672,
          279.6321333333336,
          6942.798066666677,
          3854.4620000000014,
          14221.67573333333,
          -10234.885800000004,
          2473.5593333333327,
          -1762.4781333333376,
          1431.5356000000008,
          19275.656,
          -15230.736666666664,
          1533.7255999999998,
          -14365.99433333332,
          -4031.53053333333,
          -7391.50466666666,
          361.51939999999956,
          -799.6991333333344,
          516.8611333333334,
          928.947866666671,
          -19659.267666666652,
          -12667.973999999995,
          10428.322533333336,
          6648.998800000001,
          8949.783,
          299.727133333333,
          1090.0789333333296,
          1122.242933333333,
          3839.5835333333416,
          -5065.123266666673,
          -5949.6727999999985,
          -2412.004133333332,
          667.0056000000001,
          -3814.2189333333326,
          -42.78080000000034,
          -25557.109466666672,
          3834.987200000007,
          -1211.6011333333333,
          314.04613333333344,
          -2645.682466666669,
          10540.705733333336,
          12887.945800000005,
          1515.8586666666663,
          -16679.10839999999,
          -1531.7554000000011
         ],
         "y": [
          16959.655200000005,
          1855.5975333333329,
          10647.270266666666,
          31896.95046666667,
          1454.559533333333,
          911.0441333333333,
          35064.34206666668,
          4268.300000000002,
          36131.411733333334,
          32813.5542,
          3906.5873333333325,
          32496.270866666666,
          3445.703600000001,
          20599.891999999996,
          36664.895333333334,
          1556.0275999999997,
          16064.306666666673,
          3950.6164666666664,
          33859.032333333336,
          929.3304,
          5376.149866666666,
          649.1061333333333,
          15337.50786666667,
          39103.72833333334,
          22974.719000000005,
          28847.091533333336,
          28082.108800000005,
          9035.323999999999,
          728.2511333333332,
          9101.927933333332,
          1488.759933333333,
          28847.091533333336,
          14765.354733333334,
          1432.7332,
          31596.38086666667,
          858.1596000000001,
          5438.887066666667,
          973.8672,
          31586.85353333333,
          18245.631200000003,
          1796.489866666666,
          649.1061333333333,
          32259.975533333334,
          31362.149733333335,
          16844.000800000005,
          1521.4206666666662,
          19309.236600000004,
          1556.0275999999997
         ],
         "type": "scatter",
         "xaxis": "x2",
         "yaxis": "y2"
        },
        {
         "mode": "markers",
         "name": "pred. error linear",
         "opacity": 0.6,
         "x": [
          -12959.643383242772,
          -552.5242699702349,
          7704.831189406044,
          32016.99318599482,
          -2155.7312680294044,
          -2443.1604777784055,
          -4119.745522048615,
          8247.29854863093,
          6789.636976012829,
          -15121.097808221377,
          6753.652053207334,
          -7429.621151753985,
          -187.29076196305937,
          21392.64394310859,
          -24737.591625625973,
          -1848.9086867564804,
          -14557.565422207661,
          -287.0481792935361,
          -8847.653355564798,
          -1303.2482345071576,
          4277.651316045743,
          -2862.946931953964,
          5330.176435044026,
          -30734.30339165811,
          -9837.92518088522,
          6984.00353924129,
          789.543674388322,
          12312.66519445194,
          -85.3200572140239,
          5003.848716398662,
          -2348.327224442859,
          -280.1319250850793,
          5347.845935530542,
          -9247.420034821944,
          -15088.177751998133,
          1098.5950924671474,
          370.3047302457835,
          -442.60350436841804,
          -33517.08569235953,
          11074.99701448673,
          2102.6232679430004,
          -2340.1381995222187,
          -2068.5836387362433,
          10660.259186875945,
          16847.719436953717,
          -1608.9131363593833,
          -19179.68005961179,
          -5458.203022189489
         ],
         "y": [
          19084.601616757223,
          5265.698730029757,
          19465.325189406045,
          32438.720185994818,
          533.4977319705959,
          -1811.7484777784057,
          24001.798477951386,
          8661.136548630931,
          28699.372976012834,
          27927.342191778625,
          8186.680053207334,
          26829.12784824602,
          1826.877238036941,
          22716.879943108586,
          27158.040374374024,
          -1826.6066867564805,
          15872.735577792331,
          7695.09882070646,
          32402.8836444352,
          -735.437234507157,
          10453.500316045744,
          -2730.701931953964,
          19738.736435044026,
          28028.69260834188,
          25804.76781911478,
          25402.77253924129,
          22222.653674388326,
          12398.20619445194,
          343.2039427859763,
          13015.697716398665,
          -1981.8102244428592,
          24727.376074914915,
          25178.32393553055,
          -1865.0140348219456,
          18920.20724800187,
          1289.7490924671474,
          9623.410730245783,
          574.0444956315823,
          23626.877307640476,
          25485.641014486726,
          5110.714267943,
          -2005.0781995222187,
          32837.07436126376,
          31481.703186875944,
          20803.774436953718,
          -1603.3511363593834,
          16808.664940388204,
          -2370.420022189489
         ],
         "type": "scatter",
         "xaxis": "x2",
         "yaxis": "y2"
        },
        {
         "mode": "markers",
         "name": "pred. error pl",
         "opacity": 0.6,
         "x": [
          -5185.624116220453,
          -3851.0995284793735,
          -3268.5232368427824,
          34092.3717431709,
          -2271.0100264276152,
          -74.03796083108057,
          -16707.258916493112,
          3062.0697205830465,
          2165.139551024913,
          -29851.78243748985,
          1047.3866242919187,
          -12288.09086465255,
          -1362.066327142486,
          5377.658031931486,
          -35428.129231798295,
          196.2868606297211,
          -20272.175161471878,
          -6011.939451947142,
          -20854.90487330109,
          -56.326739817803514,
          -2397.7830347647637,
          107.63741682042416,
          1493.566563799157,
          -32752.259197571955,
          -20225.093680126334,
          -4344.456331031408,
          -3636.2558248239875,
          1297.415326801195,
          198.11977342794182,
          -4333.94932744799,
          -130.69281028698106,
          -8886.367892543,
          -6512.362598238462,
          -7273.283299159562,
          -29327.706797077353,
          1349.3820465698352,
          -4730.931808123634,
          -436.1800795506351,
          -36802.57282668361,
          15437.330891125446,
          -900.9901073709138,
          176.47205553116027,
          -10743.113480766147,
          -8853.412747819759,
          18258.354647275406,
          264.97911678567806,
          -11831.535516389187,
          -2953.535907428706
         ],
         "y": [
          26858.620883779542,
          1967.123471520618,
          8491.970763157218,
          34514.0987431709,
          418.2189735723848,
          557.3740391689191,
          11414.285083506888,
          3475.9077205830476,
          24074.875551024918,
          13196.657562510152,
          2480.4146242919187,
          21970.658135347454,
          652.1016728575142,
          6701.894031931484,
          16467.502768201703,
          218.58886062972113,
          10158.125838528114,
          1970.207548052855,
          20395.632126698907,
          511.484260182197,
          3778.0659652352365,
          239.88241682042408,
          15902.126563799156,
          26010.736802428037,
          15417.599319873665,
          14074.312668968592,
          17796.854175176017,
          1382.956326801195,
          626.643773427942,
          3677.899672552013,
          235.824189713019,
          16121.140107456995,
          13318.115401761544,
          109.12270084043557,
          4680.67820292265,
          1540.5360465698352,
          4522.1741918763655,
          580.4679204493652,
          20341.390173316395,
          29847.974891125443,
          2107.1008926290856,
          511.53205553116015,
          24162.544519233856,
          11968.03125218024,
          22214.409647275406,
          270.54111678567807,
          24156.809483610807,
          134.24709257129484
         ],
         "type": "scatter",
         "xaxis": "x2",
         "yaxis": "y2"
        },
        {
         "mode": "markers",
         "name": "pred. error mean",
         "opacity": 0.6,
         "x": [
          -16968.829063063058,
          9257.192936936946,
          3314.9219369369384,
          14653.68893693694,
          12386.186936936938,
          14444.003936936939,
          -13046.128063063063,
          14661.577936936937,
          -6834.320063063065,
          -27973.024063063065,
          13642.387936936939,
          -19183.333063063066,
          13061.24793693694,
          13751.17993693694,
          -36820.21606306306,
          15053.11393693694,
          -15354.885063063053,
          7093.268936936943,
          -26175.12106306306,
          14507.60493693694,
          8899.566936936939,
          14943.170936936938,
          666.8559369369395,
          -43687.580063063055,
          -20567.277063063062,
          -3343.353063063061,
          -6357.694063063065,
          14989.87493693694,
          14646.89193693694,
          7063.566936936936,
          14708.89893693694,
          -9932.092063063055,
          -4755.062063063067,
          7693.009936936941,
          -18932.969063063065,
          14884.261936936939,
          5822.309936936939,
          14058.767936936938,
          -42068.547063063066,
          664.7719369369424,
          12067.32493693694,
          14740.35593693694,
          -19830.242063063066,
          -5746.0280630630605,
          11119.360936936939,
          15069.85393693694,
          -20912.929063063057,
          11987.632936936938
         ],
         "y": [
          15075.415936936939,
          15075.415936936939,
          15075.415936936939,
          15075.415936936939,
          15075.415936936939,
          15075.415936936939,
          15075.415936936939,
          15075.415936936939,
          15075.415936936939,
          15075.415936936939,
          15075.415936936939,
          15075.415936936939,
          15075.415936936939,
          15075.415936936939,
          15075.415936936939,
          15075.415936936939,
          15075.415936936939,
          15075.415936936939,
          15075.415936936939,
          15075.415936936939,
          15075.415936936939,
          15075.415936936939,
          15075.415936936939,
          15075.415936936939,
          15075.415936936939,
          15075.415936936939,
          15075.415936936939,
          15075.415936936939,
          15075.415936936939,
          15075.415936936939,
          15075.415936936939,
          15075.415936936939,
          15075.415936936939,
          15075.415936936939,
          15075.415936936939,
          15075.415936936939,
          15075.415936936939,
          15075.415936936939,
          15075.415936936939,
          15075.415936936939,
          15075.415936936939,
          15075.415936936939,
          15075.415936936939,
          15075.415936936939,
          15075.415936936939,
          15075.415936936939,
          15075.415936936939,
          15075.415936936939
         ],
         "type": "scatter",
         "xaxis": "x2",
         "yaxis": "y2"
        },
        {
         "marker": {
          "color": "Maroon"
         },
         "mode": "markers",
         "name": "pred. error refASD",
         "opacity": 0.6,
         "x": [
          -11996.034511245074,
          1290.4534810251944,
          5894.937175634679,
          41501.486740134234,
          -716.4604915230357,
          371.0932942331252,
          -8484.16037504706,
          5681.857394746717,
          8123.61736216041,
          -19718.269110762885,
          7651.157744028971,
          -6942.396993668903,
          -1620.4153073134864,
          17845.191410727086,
          -28972.3085543153,
          -938.6354936677411,
          -15726.716705370543,
          860.8688137686358,
          -8675.237150891036,
          1161.1074465959964,
          4481.846149284778,
          576.029382622065,
          5139.270636489198,
          -32315.703961496663,
          -9467.26318826322,
          6258.575492709511,
          670.9655838729268,
          11017.24276589003,
          2836.641938086036,
          3878.831434487628,
          -157.92825163662042,
          -672.5206239067629,
          4480.805892988701,
          -8310.323883869967,
          -20678.271852424557,
          4085.1030587185564,
          784.4250863522411,
          1674.6444450580227,
          -33992.61670338336,
          13229.931576697778,
          3677.0347524544586,
          666.0191622315192,
          -5634.426596164383,
          5539.7448818904995,
          17777.976537159368,
          493.01340578093084,
          -19407.14347842399,
          -4315.841842644528
         ],
         "y": [
          20048.21048875492,
          7108.676481025186,
          17655.43117563468,
          41923.21374013423,
          1972.7685084769646,
          1002.5052942331249,
          19637.38362495294,
          6095.695394746717,
          30033.353362160415,
          23330.170889237117,
          9084.185744028971,
          27316.3520063311,
          393.7526926865139,
          19169.427410727083,
          22923.3234456847,
          -916.3334936677411,
          14703.584294629449,
          8843.015813768632,
          32575.29984910896,
          1728.918446595997,
          10657.695149284778,
          708.2743826220649,
          19547.830636489198,
          26447.29203850333,
          26175.42981173678,
          24677.34449270951,
          22104.07558387293,
          11102.78376589003,
          3265.1659380860365,
          11890.680434487631,
          208.58874836337964,
          24334.98737609323,
          24311.283892988708,
          -927.917883869969,
          13330.113147575443,
          4276.257058718556,
          10037.53108635224,
          2691.292445058023,
          23151.34629661664,
          27640.575576697775,
          6685.125752454458,
          1001.0791622315191,
          29271.23140383562,
          26361.1888818905,
          21734.031537159368,
          498.57540578093085,
          16581.201521576004,
          -1228.0588426445265
         ],
         "type": "scatter",
         "xaxis": "x2",
         "yaxis": "y2"
        },
        {
         "name": "pred. error init",
         "nbinsx": 4,
         "y": [
          -15084.58979999999,
          -3962.625466666659,
          -1113.2237333333342,
          31475.22346666667,
          -1234.6694666666672,
          279.6321333333336,
          6942.798066666677,
          3854.4620000000014,
          14221.67573333333,
          -10234.885800000004,
          2473.5593333333327,
          -1762.4781333333376,
          1431.5356000000008,
          19275.656,
          -15230.736666666664,
          1533.7255999999998,
          -14365.99433333332,
          -4031.53053333333,
          -7391.50466666666,
          361.51939999999956,
          -799.6991333333344,
          516.8611333333334,
          928.947866666671,
          -19659.267666666652,
          -12667.973999999995,
          10428.322533333336,
          6648.998800000001,
          8949.783,
          299.727133333333,
          1090.0789333333296,
          1122.242933333333,
          3839.5835333333416,
          -5065.123266666673,
          -5949.6727999999985,
          -2412.004133333332,
          667.0056000000001,
          -3814.2189333333326,
          -42.78080000000034,
          -25557.109466666672,
          3834.987200000007,
          -1211.6011333333333,
          314.04613333333344,
          -2645.682466666669,
          10540.705733333336,
          12887.945800000005,
          1515.8586666666663,
          -16679.10839999999,
          -1531.7554000000011
         ],
         "type": "histogram",
         "xaxis": "x3",
         "yaxis": "y3"
        },
        {
         "name": "pred. error linear",
         "nbinsx": 4,
         "y": [
          -12959.643383242772,
          -552.5242699702349,
          7704.831189406044,
          32016.99318599482,
          -2155.7312680294044,
          -2443.1604777784055,
          -4119.745522048615,
          8247.29854863093,
          6789.636976012829,
          -15121.097808221377,
          6753.652053207334,
          -7429.621151753985,
          -187.29076196305937,
          21392.64394310859,
          -24737.591625625973,
          -1848.9086867564804,
          -14557.565422207661,
          -287.0481792935361,
          -8847.653355564798,
          -1303.2482345071576,
          4277.651316045743,
          -2862.946931953964,
          5330.176435044026,
          -30734.30339165811,
          -9837.92518088522,
          6984.00353924129,
          789.543674388322,
          12312.66519445194,
          -85.3200572140239,
          5003.848716398662,
          -2348.327224442859,
          -280.1319250850793,
          5347.845935530542,
          -9247.420034821944,
          -15088.177751998133,
          1098.5950924671474,
          370.3047302457835,
          -442.60350436841804,
          -33517.08569235953,
          11074.99701448673,
          2102.6232679430004,
          -2340.1381995222187,
          -2068.5836387362433,
          10660.259186875945,
          16847.719436953717,
          -1608.9131363593833,
          -19179.68005961179,
          -5458.203022189489
         ],
         "type": "histogram",
         "xaxis": "x3",
         "yaxis": "y3"
        },
        {
         "name": "pred. error pl",
         "nbinsx": 4,
         "y": [
          -5185.624116220453,
          -3851.0995284793735,
          -3268.5232368427824,
          34092.3717431709,
          -2271.0100264276152,
          -74.03796083108057,
          -16707.258916493112,
          3062.0697205830465,
          2165.139551024913,
          -29851.78243748985,
          1047.3866242919187,
          -12288.09086465255,
          -1362.066327142486,
          5377.658031931486,
          -35428.129231798295,
          196.2868606297211,
          -20272.175161471878,
          -6011.939451947142,
          -20854.90487330109,
          -56.326739817803514,
          -2397.7830347647637,
          107.63741682042416,
          1493.566563799157,
          -32752.259197571955,
          -20225.093680126334,
          -4344.456331031408,
          -3636.2558248239875,
          1297.415326801195,
          198.11977342794182,
          -4333.94932744799,
          -130.69281028698106,
          -8886.367892543,
          -6512.362598238462,
          -7273.283299159562,
          -29327.706797077353,
          1349.3820465698352,
          -4730.931808123634,
          -436.1800795506351,
          -36802.57282668361,
          15437.330891125446,
          -900.9901073709138,
          176.47205553116027,
          -10743.113480766147,
          -8853.412747819759,
          18258.354647275406,
          264.97911678567806,
          -11831.535516389187,
          -2953.535907428706
         ],
         "type": "histogram",
         "xaxis": "x3",
         "yaxis": "y3"
        },
        {
         "name": "pred. error mean",
         "nbinsx": 4,
         "y": [
          -16968.829063063058,
          9257.192936936946,
          3314.9219369369384,
          14653.68893693694,
          12386.186936936938,
          14444.003936936939,
          -13046.128063063063,
          14661.577936936937,
          -6834.320063063065,
          -27973.024063063065,
          13642.387936936939,
          -19183.333063063066,
          13061.24793693694,
          13751.17993693694,
          -36820.21606306306,
          15053.11393693694,
          -15354.885063063053,
          7093.268936936943,
          -26175.12106306306,
          14507.60493693694,
          8899.566936936939,
          14943.170936936938,
          666.8559369369395,
          -43687.580063063055,
          -20567.277063063062,
          -3343.353063063061,
          -6357.694063063065,
          14989.87493693694,
          14646.89193693694,
          7063.566936936936,
          14708.89893693694,
          -9932.092063063055,
          -4755.062063063067,
          7693.009936936941,
          -18932.969063063065,
          14884.261936936939,
          5822.309936936939,
          14058.767936936938,
          -42068.547063063066,
          664.7719369369424,
          12067.32493693694,
          14740.35593693694,
          -19830.242063063066,
          -5746.0280630630605,
          11119.360936936939,
          15069.85393693694,
          -20912.929063063057,
          11987.632936936938
         ],
         "type": "histogram",
         "xaxis": "x3",
         "yaxis": "y3"
        },
        {
         "name": "pred. error refASD",
         "nbinsx": 4,
         "y": [
          -11996.034511245074,
          1290.4534810251944,
          5894.937175634679,
          41501.486740134234,
          -716.4604915230357,
          371.0932942331252,
          -8484.16037504706,
          5681.857394746717,
          8123.61736216041,
          -19718.269110762885,
          7651.157744028971,
          -6942.396993668903,
          -1620.4153073134864,
          17845.191410727086,
          -28972.3085543153,
          -938.6354936677411,
          -15726.716705370543,
          860.8688137686358,
          -8675.237150891036,
          1161.1074465959964,
          4481.846149284778,
          576.029382622065,
          5139.270636489198,
          -32315.703961496663,
          -9467.26318826322,
          6258.575492709511,
          670.9655838729268,
          11017.24276589003,
          2836.641938086036,
          3878.831434487628,
          -157.92825163662042,
          -672.5206239067629,
          4480.805892988701,
          -8310.323883869967,
          -20678.271852424557,
          4085.1030587185564,
          784.4250863522411,
          1674.6444450580227,
          -33992.61670338336,
          13229.931576697778,
          3677.0347524544586,
          666.0191622315192,
          -5634.426596164383,
          5539.7448818904995,
          17777.976537159368,
          493.01340578093084,
          -19407.14347842399,
          -4315.841842644528
         ],
         "type": "histogram",
         "xaxis": "x3",
         "yaxis": "y3"
        }
       ],
       "layout": {
        "template": {
         "data": {
          "histogram2dcontour": [
           {
            "type": "histogram2dcontour",
            "colorbar": {
             "outlinewidth": 0,
             "ticks": ""
            },
            "colorscale": [
             [
              0.0,
              "#0d0887"
             ],
             [
              0.1111111111111111,
              "#46039f"
             ],
             [
              0.2222222222222222,
              "#7201a8"
             ],
             [
              0.3333333333333333,
              "#9c179e"
             ],
             [
              0.4444444444444444,
              "#bd3786"
             ],
             [
              0.5555555555555556,
              "#d8576b"
             ],
             [
              0.6666666666666666,
              "#ed7953"
             ],
             [
              0.7777777777777778,
              "#fb9f3a"
             ],
             [
              0.8888888888888888,
              "#fdca26"
             ],
             [
              1.0,
              "#f0f921"
             ]
            ]
           }
          ],
          "choropleth": [
           {
            "type": "choropleth",
            "colorbar": {
             "outlinewidth": 0,
             "ticks": ""
            }
           }
          ],
          "histogram2d": [
           {
            "type": "histogram2d",
            "colorbar": {
             "outlinewidth": 0,
             "ticks": ""
            },
            "colorscale": [
             [
              0.0,
              "#0d0887"
             ],
             [
              0.1111111111111111,
              "#46039f"
             ],
             [
              0.2222222222222222,
              "#7201a8"
             ],
             [
              0.3333333333333333,
              "#9c179e"
             ],
             [
              0.4444444444444444,
              "#bd3786"
             ],
             [
              0.5555555555555556,
              "#d8576b"
             ],
             [
              0.6666666666666666,
              "#ed7953"
             ],
             [
              0.7777777777777778,
              "#fb9f3a"
             ],
             [
              0.8888888888888888,
              "#fdca26"
             ],
             [
              1.0,
              "#f0f921"
             ]
            ]
           }
          ],
          "heatmap": [
           {
            "type": "heatmap",
            "colorbar": {
             "outlinewidth": 0,
             "ticks": ""
            },
            "colorscale": [
             [
              0.0,
              "#0d0887"
             ],
             [
              0.1111111111111111,
              "#46039f"
             ],
             [
              0.2222222222222222,
              "#7201a8"
             ],
             [
              0.3333333333333333,
              "#9c179e"
             ],
             [
              0.4444444444444444,
              "#bd3786"
             ],
             [
              0.5555555555555556,
              "#d8576b"
             ],
             [
              0.6666666666666666,
              "#ed7953"
             ],
             [
              0.7777777777777778,
              "#fb9f3a"
             ],
             [
              0.8888888888888888,
              "#fdca26"
             ],
             [
              1.0,
              "#f0f921"
             ]
            ]
           }
          ],
          "heatmapgl": [
           {
            "type": "heatmapgl",
            "colorbar": {
             "outlinewidth": 0,
             "ticks": ""
            },
            "colorscale": [
             [
              0.0,
              "#0d0887"
             ],
             [
              0.1111111111111111,
              "#46039f"
             ],
             [
              0.2222222222222222,
              "#7201a8"
             ],
             [
              0.3333333333333333,
              "#9c179e"
             ],
             [
              0.4444444444444444,
              "#bd3786"
             ],
             [
              0.5555555555555556,
              "#d8576b"
             ],
             [
              0.6666666666666666,
              "#ed7953"
             ],
             [
              0.7777777777777778,
              "#fb9f3a"
             ],
             [
              0.8888888888888888,
              "#fdca26"
             ],
             [
              1.0,
              "#f0f921"
             ]
            ]
           }
          ],
          "contourcarpet": [
           {
            "type": "contourcarpet",
            "colorbar": {
             "outlinewidth": 0,
             "ticks": ""
            }
           }
          ],
          "contour": [
           {
            "type": "contour",
            "colorbar": {
             "outlinewidth": 0,
             "ticks": ""
            },
            "colorscale": [
             [
              0.0,
              "#0d0887"
             ],
             [
              0.1111111111111111,
              "#46039f"
             ],
             [
              0.2222222222222222,
              "#7201a8"
             ],
             [
              0.3333333333333333,
              "#9c179e"
             ],
             [
              0.4444444444444444,
              "#bd3786"
             ],
             [
              0.5555555555555556,
              "#d8576b"
             ],
             [
              0.6666666666666666,
              "#ed7953"
             ],
             [
              0.7777777777777778,
              "#fb9f3a"
             ],
             [
              0.8888888888888888,
              "#fdca26"
             ],
             [
              1.0,
              "#f0f921"
             ]
            ]
           }
          ],
          "surface": [
           {
            "type": "surface",
            "colorbar": {
             "outlinewidth": 0,
             "ticks": ""
            },
            "colorscale": [
             [
              0.0,
              "#0d0887"
             ],
             [
              0.1111111111111111,
              "#46039f"
             ],
             [
              0.2222222222222222,
              "#7201a8"
             ],
             [
              0.3333333333333333,
              "#9c179e"
             ],
             [
              0.4444444444444444,
              "#bd3786"
             ],
             [
              0.5555555555555556,
              "#d8576b"
             ],
             [
              0.6666666666666666,
              "#ed7953"
             ],
             [
              0.7777777777777778,
              "#fb9f3a"
             ],
             [
              0.8888888888888888,
              "#fdca26"
             ],
             [
              1.0,
              "#f0f921"
             ]
            ]
           }
          ],
          "mesh3d": [
           {
            "type": "mesh3d",
            "colorbar": {
             "outlinewidth": 0,
             "ticks": ""
            }
           }
          ],
          "scatter": [
           {
            "fillpattern": {
             "fillmode": "overlay",
             "size": 10,
             "solidity": 0.2
            },
            "type": "scatter"
           }
          ],
          "parcoords": [
           {
            "type": "parcoords",
            "line": {
             "colorbar": {
              "outlinewidth": 0,
              "ticks": ""
             }
            }
           }
          ],
          "scatterpolargl": [
           {
            "type": "scatterpolargl",
            "marker": {
             "colorbar": {
              "outlinewidth": 0,
              "ticks": ""
             }
            }
           }
          ],
          "bar": [
           {
            "error_x": {
             "color": "#2a3f5f"
            },
            "error_y": {
             "color": "#2a3f5f"
            },
            "marker": {
             "line": {
              "color": "#E5ECF6",
              "width": 0.5
             },
             "pattern": {
              "fillmode": "overlay",
              "size": 10,
              "solidity": 0.2
             }
            },
            "type": "bar"
           }
          ],
          "scattergeo": [
           {
            "type": "scattergeo",
            "marker": {
             "colorbar": {
              "outlinewidth": 0,
              "ticks": ""
             }
            }
           }
          ],
          "scatterpolar": [
           {
            "type": "scatterpolar",
            "marker": {
             "colorbar": {
              "outlinewidth": 0,
              "ticks": ""
             }
            }
           }
          ],
          "histogram": [
           {
            "marker": {
             "pattern": {
              "fillmode": "overlay",
              "size": 10,
              "solidity": 0.2
             }
            },
            "type": "histogram"
           }
          ],
          "scattergl": [
           {
            "type": "scattergl",
            "marker": {
             "colorbar": {
              "outlinewidth": 0,
              "ticks": ""
             }
            }
           }
          ],
          "scatter3d": [
           {
            "type": "scatter3d",
            "line": {
             "colorbar": {
              "outlinewidth": 0,
              "ticks": ""
             }
            },
            "marker": {
             "colorbar": {
              "outlinewidth": 0,
              "ticks": ""
             }
            }
           }
          ],
          "scattermapbox": [
           {
            "type": "scattermapbox",
            "marker": {
             "colorbar": {
              "outlinewidth": 0,
              "ticks": ""
             }
            }
           }
          ],
          "scatterternary": [
           {
            "type": "scatterternary",
            "marker": {
             "colorbar": {
              "outlinewidth": 0,
              "ticks": ""
             }
            }
           }
          ],
          "scattercarpet": [
           {
            "type": "scattercarpet",
            "marker": {
             "colorbar": {
              "outlinewidth": 0,
              "ticks": ""
             }
            }
           }
          ],
          "carpet": [
           {
            "aaxis": {
             "endlinecolor": "#2a3f5f",
             "gridcolor": "white",
             "linecolor": "white",
             "minorgridcolor": "white",
             "startlinecolor": "#2a3f5f"
            },
            "baxis": {
             "endlinecolor": "#2a3f5f",
             "gridcolor": "white",
             "linecolor": "white",
             "minorgridcolor": "white",
             "startlinecolor": "#2a3f5f"
            },
            "type": "carpet"
           }
          ],
          "table": [
           {
            "cells": {
             "fill": {
              "color": "#EBF0F8"
             },
             "line": {
              "color": "white"
             }
            },
            "header": {
             "fill": {
              "color": "#C8D4E3"
             },
             "line": {
              "color": "white"
             }
            },
            "type": "table"
           }
          ],
          "barpolar": [
           {
            "marker": {
             "line": {
              "color": "#E5ECF6",
              "width": 0.5
             },
             "pattern": {
              "fillmode": "overlay",
              "size": 10,
              "solidity": 0.2
             }
            },
            "type": "barpolar"
           }
          ],
          "pie": [
           {
            "automargin": true,
            "type": "pie"
           }
          ]
         },
         "layout": {
          "autotypenumbers": "strict",
          "colorway": [
           "#636efa",
           "#EF553B",
           "#00cc96",
           "#ab63fa",
           "#FFA15A",
           "#19d3f3",
           "#FF6692",
           "#B6E880",
           "#FF97FF",
           "#FECB52"
          ],
          "font": {
           "color": "#2a3f5f"
          },
          "hovermode": "closest",
          "hoverlabel": {
           "align": "left"
          },
          "paper_bgcolor": "white",
          "plot_bgcolor": "#E5ECF6",
          "polar": {
           "bgcolor": "#E5ECF6",
           "angularaxis": {
            "gridcolor": "white",
            "linecolor": "white",
            "ticks": ""
           },
           "radialaxis": {
            "gridcolor": "white",
            "linecolor": "white",
            "ticks": ""
           }
          },
          "ternary": {
           "bgcolor": "#E5ECF6",
           "aaxis": {
            "gridcolor": "white",
            "linecolor": "white",
            "ticks": ""
           },
           "baxis": {
            "gridcolor": "white",
            "linecolor": "white",
            "ticks": ""
           },
           "caxis": {
            "gridcolor": "white",
            "linecolor": "white",
            "ticks": ""
           }
          },
          "coloraxis": {
           "colorbar": {
            "outlinewidth": 0,
            "ticks": ""
           }
          },
          "colorscale": {
           "sequential": [
            [
             0.0,
             "#0d0887"
            ],
            [
             0.1111111111111111,
             "#46039f"
            ],
            [
             0.2222222222222222,
             "#7201a8"
            ],
            [
             0.3333333333333333,
             "#9c179e"
            ],
            [
             0.4444444444444444,
             "#bd3786"
            ],
            [
             0.5555555555555556,
             "#d8576b"
            ],
            [
             0.6666666666666666,
             "#ed7953"
            ],
            [
             0.7777777777777778,
             "#fb9f3a"
            ],
            [
             0.8888888888888888,
             "#fdca26"
            ],
            [
             1.0,
             "#f0f921"
            ]
           ],
           "sequentialminus": [
            [
             0.0,
             "#0d0887"
            ],
            [
             0.1111111111111111,
             "#46039f"
            ],
            [
             0.2222222222222222,
             "#7201a8"
            ],
            [
             0.3333333333333333,
             "#9c179e"
            ],
            [
             0.4444444444444444,
             "#bd3786"
            ],
            [
             0.5555555555555556,
             "#d8576b"
            ],
            [
             0.6666666666666666,
             "#ed7953"
            ],
            [
             0.7777777777777778,
             "#fb9f3a"
            ],
            [
             0.8888888888888888,
             "#fdca26"
            ],
            [
             1.0,
             "#f0f921"
            ]
           ],
           "diverging": [
            [
             0,
             "#8e0152"
            ],
            [
             0.1,
             "#c51b7d"
            ],
            [
             0.2,
             "#de77ae"
            ],
            [
             0.3,
             "#f1b6da"
            ],
            [
             0.4,
             "#fde0ef"
            ],
            [
             0.5,
             "#f7f7f7"
            ],
            [
             0.6,
             "#e6f5d0"
            ],
            [
             0.7,
             "#b8e186"
            ],
            [
             0.8,
             "#7fbc41"
            ],
            [
             0.9,
             "#4d9221"
            ],
            [
             1,
             "#276419"
            ]
           ]
          },
          "xaxis": {
           "gridcolor": "white",
           "linecolor": "white",
           "ticks": "",
           "title": {
            "standoff": 15
           },
           "zerolinecolor": "white",
           "automargin": true,
           "zerolinewidth": 2
          },
          "yaxis": {
           "gridcolor": "white",
           "linecolor": "white",
           "ticks": "",
           "title": {
            "standoff": 15
           },
           "zerolinecolor": "white",
           "automargin": true,
           "zerolinewidth": 2
          },
          "scene": {
           "xaxis": {
            "backgroundcolor": "#E5ECF6",
            "gridcolor": "white",
            "linecolor": "white",
            "showbackground": true,
            "ticks": "",
            "zerolinecolor": "white",
            "gridwidth": 2
           },
           "yaxis": {
            "backgroundcolor": "#E5ECF6",
            "gridcolor": "white",
            "linecolor": "white",
            "showbackground": true,
            "ticks": "",
            "zerolinecolor": "white",
            "gridwidth": 2
           },
           "zaxis": {
            "backgroundcolor": "#E5ECF6",
            "gridcolor": "white",
            "linecolor": "white",
            "showbackground": true,
            "ticks": "",
            "zerolinecolor": "white",
            "gridwidth": 2
           }
          },
          "shapedefaults": {
           "line": {
            "color": "#2a3f5f"
           }
          },
          "annotationdefaults": {
           "arrowcolor": "#2a3f5f",
           "arrowhead": 0,
           "arrowwidth": 1
          },
          "geo": {
           "bgcolor": "white",
           "landcolor": "#E5ECF6",
           "subunitcolor": "white",
           "showland": true,
           "showlakes": true,
           "lakecolor": "white"
          },
          "title": {
           "x": 0.05
          },
          "mapbox": {
           "style": "light"
          }
         }
        },
        "xaxis": {
         "anchor": "y",
         "domain": [
          0.0,
          0.48999999999999994
         ],
         "title": {
          "text": "true"
         }
        },
        "yaxis": {
         "anchor": "x",
         "domain": [
          0.0,
          1.0
         ],
         "title": {
          "text": "pred"
         }
        },
        "xaxis2": {
         "anchor": "y2",
         "domain": [
          0.6399999999999999,
          0.7449999999999999
         ],
         "title": {
          "text": "pred-true"
         }
        },
        "yaxis2": {
         "anchor": "x2",
         "domain": [
          0.0,
          1.0
         ],
         "title": {
          "text": "pred"
         },
         "matches": "y"
        },
        "xaxis3": {
         "anchor": "y3",
         "domain": [
          0.895,
          1.0
         ],
         "title": {
          "text": "freq"
         }
        },
        "yaxis3": {
         "anchor": "x3",
         "domain": [
          0.0,
          1.0
         ],
         "title": {
          "text": "pred-true"
         }
        },
        "title": {
         "text": "(\"Alzheimer's disease and other dementias\", 'Obesity_rate', \"Parkinson's disease\", 'new_cases_per_million')"
        },
        "width": 950,
        "height": 555
       },
       "config": {
        "plotlyServerURL": "https://plot.ly"
       }
      },
      "text/html": "<div>                            <div id=\"99b38925-c75a-43b4-aeaa-6d527f0f7609\" class=\"plotly-graph-div\" style=\"height:555px; width:950px;\"></div>            <script type=\"text/javascript\">                require([\"plotly\"], function(Plotly) {                    window.PLOTLYENV=window.PLOTLYENV || {};                                    if (document.getElementById(\"99b38925-c75a-43b4-aeaa-6d527f0f7609\")) {                    Plotly.newPlot(                        \"99b38925-c75a-43b4-aeaa-6d527f0f7609\",                        [{\"mode\":\"markers\",\"name\":\"init preds vs trues\",\"opacity\":0.8,\"x\":[32044.244999999995,5818.222999999992,11760.494,421.7269999999983,2689.2290000000003,631.4119999999997,28121.544,413.8380000000009,21909.736000000004,43048.44,1433.028,34258.749,2014.1680000000003,1324.235999999998,51895.632,22.302000000000007,30430.300999999992,7982.146999999996,41250.537,567.8110000000005,6175.849,132.24499999999992,14408.56,58762.99599999999,35642.693,18418.769,21433.110000000004,85.541,428.5240000000002,8011.849000000003,366.51700000000005,25007.507999999994,19830.478000000006,7382.405999999998,34008.385,191.154,9253.106,1016.6480000000004,57143.963,14410.643999999997,3008.0909999999994,335.0599999999999,34905.658,20821.444,3956.055,5.562000000000001,35988.344999999994,3087.783000000001],\"y\":[16959.655200000005,1855.5975333333329,10647.270266666666,31896.95046666667,1454.559533333333,911.0441333333333,35064.34206666668,4268.300000000002,36131.411733333334,32813.5542,3906.5873333333325,32496.270866666666,3445.703600000001,20599.891999999996,36664.895333333334,1556.0275999999997,16064.306666666673,3950.6164666666664,33859.032333333336,929.3304,5376.149866666666,649.1061333333333,15337.50786666667,39103.72833333334,22974.719000000005,28847.091533333336,28082.108800000005,9035.323999999999,728.2511333333332,9101.927933333332,1488.759933333333,28847.091533333336,14765.354733333334,1432.7332,31596.38086666667,858.1596000000001,5438.887066666667,973.8672,31586.85353333333,18245.631200000003,1796.489866666666,649.1061333333333,32259.975533333334,31362.149733333335,16844.000800000005,1521.4206666666662,19309.236600000004,1556.0275999999997],\"type\":\"scatter\",\"xaxis\":\"x\",\"yaxis\":\"y\"},{\"mode\":\"markers\",\"name\":\"linear preds vs trues\",\"opacity\":0.8,\"x\":[32044.244999999995,5818.222999999992,11760.494,421.7269999999983,2689.2290000000003,631.4119999999997,28121.544,413.8380000000009,21909.736000000004,43048.44,1433.028,34258.749,2014.1680000000003,1324.235999999998,51895.632,22.302000000000007,30430.300999999992,7982.146999999996,41250.537,567.8110000000005,6175.849,132.24499999999992,14408.56,58762.99599999999,35642.693,18418.769,21433.110000000004,85.541,428.5240000000002,8011.849000000003,366.51700000000005,25007.507999999994,19830.478000000006,7382.405999999998,34008.385,191.154,9253.106,1016.6480000000004,57143.963,14410.643999999997,3008.0909999999994,335.0599999999999,34905.658,20821.444,3956.055,5.562000000000001,35988.344999999994,3087.783000000001],\"y\":[19084.601616757223,5265.698730029757,19465.325189406045,32438.720185994818,533.4977319705959,-1811.7484777784057,24001.798477951386,8661.136548630931,28699.372976012834,27927.342191778625,8186.680053207334,26829.12784824602,1826.877238036941,22716.879943108586,27158.040374374024,-1826.6066867564805,15872.735577792331,7695.09882070646,32402.8836444352,-735.437234507157,10453.500316045744,-2730.701931953964,19738.736435044026,28028.69260834188,25804.76781911478,25402.77253924129,22222.653674388326,12398.20619445194,343.2039427859763,13015.697716398665,-1981.8102244428592,24727.376074914915,25178.32393553055,-1865.0140348219456,18920.20724800187,1289.7490924671474,9623.410730245783,574.0444956315823,23626.877307640476,25485.641014486726,5110.714267943,-2005.0781995222187,32837.07436126376,31481.703186875944,20803.774436953718,-1603.3511363593834,16808.664940388204,-2370.420022189489],\"type\":\"scatter\",\"xaxis\":\"x\",\"yaxis\":\"y\"},{\"mode\":\"markers\",\"name\":\"pl preds vs trues\",\"opacity\":0.8,\"x\":[32044.244999999995,5818.222999999992,11760.494,421.7269999999983,2689.2290000000003,631.4119999999997,28121.544,413.8380000000009,21909.736000000004,43048.44,1433.028,34258.749,2014.1680000000003,1324.235999999998,51895.632,22.302000000000007,30430.300999999992,7982.146999999996,41250.537,567.8110000000005,6175.849,132.24499999999992,14408.56,58762.99599999999,35642.693,18418.769,21433.110000000004,85.541,428.5240000000002,8011.849000000003,366.51700000000005,25007.507999999994,19830.478000000006,7382.405999999998,34008.385,191.154,9253.106,1016.6480000000004,57143.963,14410.643999999997,3008.0909999999994,335.0599999999999,34905.658,20821.444,3956.055,5.562000000000001,35988.344999999994,3087.783000000001],\"y\":[26858.620883779542,1967.123471520618,8491.970763157218,34514.0987431709,418.2189735723848,557.3740391689191,11414.285083506888,3475.9077205830476,24074.875551024918,13196.657562510152,2480.4146242919187,21970.658135347454,652.1016728575142,6701.894031931484,16467.502768201703,218.58886062972113,10158.125838528114,1970.207548052855,20395.632126698907,511.484260182197,3778.0659652352365,239.88241682042408,15902.126563799156,26010.736802428037,15417.599319873665,14074.312668968592,17796.854175176017,1382.956326801195,626.643773427942,3677.899672552013,235.824189713019,16121.140107456995,13318.115401761544,109.12270084043557,4680.67820292265,1540.5360465698352,4522.1741918763655,580.4679204493652,20341.390173316395,29847.974891125443,2107.1008926290856,511.53205553116015,24162.544519233856,11968.03125218024,22214.409647275406,270.54111678567807,24156.809483610807,134.24709257129484],\"type\":\"scatter\",\"xaxis\":\"x\",\"yaxis\":\"y\"},{\"mode\":\"markers\",\"name\":\"mean preds vs trues\",\"opacity\":0.8,\"x\":[32044.244999999995,5818.222999999992,11760.494,421.7269999999983,2689.2290000000003,631.4119999999997,28121.544,413.8380000000009,21909.736000000004,43048.44,1433.028,34258.749,2014.1680000000003,1324.235999999998,51895.632,22.302000000000007,30430.300999999992,7982.146999999996,41250.537,567.8110000000005,6175.849,132.24499999999992,14408.56,58762.99599999999,35642.693,18418.769,21433.110000000004,85.541,428.5240000000002,8011.849000000003,366.51700000000005,25007.507999999994,19830.478000000006,7382.405999999998,34008.385,191.154,9253.106,1016.6480000000004,57143.963,14410.643999999997,3008.0909999999994,335.0599999999999,34905.658,20821.444,3956.055,5.562000000000001,35988.344999999994,3087.783000000001],\"y\":[15075.415936936939,15075.415936936939,15075.415936936939,15075.415936936939,15075.415936936939,15075.415936936939,15075.415936936939,15075.415936936939,15075.415936936939,15075.415936936939,15075.415936936939,15075.415936936939,15075.415936936939,15075.415936936939,15075.415936936939,15075.415936936939,15075.415936936939,15075.415936936939,15075.415936936939,15075.415936936939,15075.415936936939,15075.415936936939,15075.415936936939,15075.415936936939,15075.415936936939,15075.415936936939,15075.415936936939,15075.415936936939,15075.415936936939,15075.415936936939,15075.415936936939,15075.415936936939,15075.415936936939,15075.415936936939,15075.415936936939,15075.415936936939,15075.415936936939,15075.415936936939,15075.415936936939,15075.415936936939,15075.415936936939,15075.415936936939,15075.415936936939,15075.415936936939,15075.415936936939,15075.415936936939,15075.415936936939,15075.415936936939],\"type\":\"scatter\",\"xaxis\":\"x\",\"yaxis\":\"y\"},{\"mode\":\"markers\",\"name\":\"refASD preds vs trues\",\"opacity\":0.8,\"x\":[32044.244999999995,5818.222999999992,11760.494,421.7269999999983,2689.2290000000003,631.4119999999997,28121.544,413.8380000000009,21909.736000000004,43048.44,1433.028,34258.749,2014.1680000000003,1324.235999999998,51895.632,22.302000000000007,30430.300999999992,7982.146999999996,41250.537,567.8110000000005,6175.849,132.24499999999992,14408.56,58762.99599999999,35642.693,18418.769,21433.110000000004,85.541,428.5240000000002,8011.849000000003,366.51700000000005,25007.507999999994,19830.478000000006,7382.405999999998,34008.385,191.154,9253.106,1016.6480000000004,57143.963,14410.643999999997,3008.0909999999994,335.0599999999999,34905.658,20821.444,3956.055,5.562000000000001,35988.344999999994,3087.783000000001],\"y\":[20048.21048875492,7108.676481025186,17655.43117563468,41923.21374013423,1972.7685084769646,1002.5052942331249,19637.38362495294,6095.695394746717,30033.353362160415,23330.170889237117,9084.185744028971,27316.3520063311,393.7526926865139,19169.427410727083,22923.3234456847,-916.3334936677411,14703.584294629449,8843.015813768632,32575.29984910896,1728.918446595997,10657.695149284778,708.2743826220649,19547.830636489198,26447.29203850333,26175.42981173678,24677.34449270951,22104.07558387293,11102.78376589003,3265.1659380860365,11890.680434487631,208.58874836337964,24334.98737609323,24311.283892988708,-927.917883869969,13330.113147575443,4276.257058718556,10037.53108635224,2691.292445058023,23151.34629661664,27640.575576697775,6685.125752454458,1001.0791622315191,29271.23140383562,26361.1888818905,21734.031537159368,498.57540578093085,16581.201521576004,-1228.0588426445265],\"type\":\"scatter\",\"xaxis\":\"x\",\"yaxis\":\"y\"},{\"mode\":\"markers\",\"name\":\"pred. error init\",\"opacity\":0.6,\"x\":[-15084.58979999999,-3962.625466666659,-1113.2237333333342,31475.22346666667,-1234.6694666666672,279.6321333333336,6942.798066666677,3854.4620000000014,14221.67573333333,-10234.885800000004,2473.5593333333327,-1762.4781333333376,1431.5356000000008,19275.656,-15230.736666666664,1533.7255999999998,-14365.99433333332,-4031.53053333333,-7391.50466666666,361.51939999999956,-799.6991333333344,516.8611333333334,928.947866666671,-19659.267666666652,-12667.973999999995,10428.322533333336,6648.998800000001,8949.783,299.727133333333,1090.0789333333296,1122.242933333333,3839.5835333333416,-5065.123266666673,-5949.6727999999985,-2412.004133333332,667.0056000000001,-3814.2189333333326,-42.78080000000034,-25557.109466666672,3834.987200000007,-1211.6011333333333,314.04613333333344,-2645.682466666669,10540.705733333336,12887.945800000005,1515.8586666666663,-16679.10839999999,-1531.7554000000011],\"y\":[16959.655200000005,1855.5975333333329,10647.270266666666,31896.95046666667,1454.559533333333,911.0441333333333,35064.34206666668,4268.300000000002,36131.411733333334,32813.5542,3906.5873333333325,32496.270866666666,3445.703600000001,20599.891999999996,36664.895333333334,1556.0275999999997,16064.306666666673,3950.6164666666664,33859.032333333336,929.3304,5376.149866666666,649.1061333333333,15337.50786666667,39103.72833333334,22974.719000000005,28847.091533333336,28082.108800000005,9035.323999999999,728.2511333333332,9101.927933333332,1488.759933333333,28847.091533333336,14765.354733333334,1432.7332,31596.38086666667,858.1596000000001,5438.887066666667,973.8672,31586.85353333333,18245.631200000003,1796.489866666666,649.1061333333333,32259.975533333334,31362.149733333335,16844.000800000005,1521.4206666666662,19309.236600000004,1556.0275999999997],\"type\":\"scatter\",\"xaxis\":\"x2\",\"yaxis\":\"y2\"},{\"mode\":\"markers\",\"name\":\"pred. error linear\",\"opacity\":0.6,\"x\":[-12959.643383242772,-552.5242699702349,7704.831189406044,32016.99318599482,-2155.7312680294044,-2443.1604777784055,-4119.745522048615,8247.29854863093,6789.636976012829,-15121.097808221377,6753.652053207334,-7429.621151753985,-187.29076196305937,21392.64394310859,-24737.591625625973,-1848.9086867564804,-14557.565422207661,-287.0481792935361,-8847.653355564798,-1303.2482345071576,4277.651316045743,-2862.946931953964,5330.176435044026,-30734.30339165811,-9837.92518088522,6984.00353924129,789.543674388322,12312.66519445194,-85.3200572140239,5003.848716398662,-2348.327224442859,-280.1319250850793,5347.845935530542,-9247.420034821944,-15088.177751998133,1098.5950924671474,370.3047302457835,-442.60350436841804,-33517.08569235953,11074.99701448673,2102.6232679430004,-2340.1381995222187,-2068.5836387362433,10660.259186875945,16847.719436953717,-1608.9131363593833,-19179.68005961179,-5458.203022189489],\"y\":[19084.601616757223,5265.698730029757,19465.325189406045,32438.720185994818,533.4977319705959,-1811.7484777784057,24001.798477951386,8661.136548630931,28699.372976012834,27927.342191778625,8186.680053207334,26829.12784824602,1826.877238036941,22716.879943108586,27158.040374374024,-1826.6066867564805,15872.735577792331,7695.09882070646,32402.8836444352,-735.437234507157,10453.500316045744,-2730.701931953964,19738.736435044026,28028.69260834188,25804.76781911478,25402.77253924129,22222.653674388326,12398.20619445194,343.2039427859763,13015.697716398665,-1981.8102244428592,24727.376074914915,25178.32393553055,-1865.0140348219456,18920.20724800187,1289.7490924671474,9623.410730245783,574.0444956315823,23626.877307640476,25485.641014486726,5110.714267943,-2005.0781995222187,32837.07436126376,31481.703186875944,20803.774436953718,-1603.3511363593834,16808.664940388204,-2370.420022189489],\"type\":\"scatter\",\"xaxis\":\"x2\",\"yaxis\":\"y2\"},{\"mode\":\"markers\",\"name\":\"pred. error pl\",\"opacity\":0.6,\"x\":[-5185.624116220453,-3851.0995284793735,-3268.5232368427824,34092.3717431709,-2271.0100264276152,-74.03796083108057,-16707.258916493112,3062.0697205830465,2165.139551024913,-29851.78243748985,1047.3866242919187,-12288.09086465255,-1362.066327142486,5377.658031931486,-35428.129231798295,196.2868606297211,-20272.175161471878,-6011.939451947142,-20854.90487330109,-56.326739817803514,-2397.7830347647637,107.63741682042416,1493.566563799157,-32752.259197571955,-20225.093680126334,-4344.456331031408,-3636.2558248239875,1297.415326801195,198.11977342794182,-4333.94932744799,-130.69281028698106,-8886.367892543,-6512.362598238462,-7273.283299159562,-29327.706797077353,1349.3820465698352,-4730.931808123634,-436.1800795506351,-36802.57282668361,15437.330891125446,-900.9901073709138,176.47205553116027,-10743.113480766147,-8853.412747819759,18258.354647275406,264.97911678567806,-11831.535516389187,-2953.535907428706],\"y\":[26858.620883779542,1967.123471520618,8491.970763157218,34514.0987431709,418.2189735723848,557.3740391689191,11414.285083506888,3475.9077205830476,24074.875551024918,13196.657562510152,2480.4146242919187,21970.658135347454,652.1016728575142,6701.894031931484,16467.502768201703,218.58886062972113,10158.125838528114,1970.207548052855,20395.632126698907,511.484260182197,3778.0659652352365,239.88241682042408,15902.126563799156,26010.736802428037,15417.599319873665,14074.312668968592,17796.854175176017,1382.956326801195,626.643773427942,3677.899672552013,235.824189713019,16121.140107456995,13318.115401761544,109.12270084043557,4680.67820292265,1540.5360465698352,4522.1741918763655,580.4679204493652,20341.390173316395,29847.974891125443,2107.1008926290856,511.53205553116015,24162.544519233856,11968.03125218024,22214.409647275406,270.54111678567807,24156.809483610807,134.24709257129484],\"type\":\"scatter\",\"xaxis\":\"x2\",\"yaxis\":\"y2\"},{\"mode\":\"markers\",\"name\":\"pred. error mean\",\"opacity\":0.6,\"x\":[-16968.829063063058,9257.192936936946,3314.9219369369384,14653.68893693694,12386.186936936938,14444.003936936939,-13046.128063063063,14661.577936936937,-6834.320063063065,-27973.024063063065,13642.387936936939,-19183.333063063066,13061.24793693694,13751.17993693694,-36820.21606306306,15053.11393693694,-15354.885063063053,7093.268936936943,-26175.12106306306,14507.60493693694,8899.566936936939,14943.170936936938,666.8559369369395,-43687.580063063055,-20567.277063063062,-3343.353063063061,-6357.694063063065,14989.87493693694,14646.89193693694,7063.566936936936,14708.89893693694,-9932.092063063055,-4755.062063063067,7693.009936936941,-18932.969063063065,14884.261936936939,5822.309936936939,14058.767936936938,-42068.547063063066,664.7719369369424,12067.32493693694,14740.35593693694,-19830.242063063066,-5746.0280630630605,11119.360936936939,15069.85393693694,-20912.929063063057,11987.632936936938],\"y\":[15075.415936936939,15075.415936936939,15075.415936936939,15075.415936936939,15075.415936936939,15075.415936936939,15075.415936936939,15075.415936936939,15075.415936936939,15075.415936936939,15075.415936936939,15075.415936936939,15075.415936936939,15075.415936936939,15075.415936936939,15075.415936936939,15075.415936936939,15075.415936936939,15075.415936936939,15075.415936936939,15075.415936936939,15075.415936936939,15075.415936936939,15075.415936936939,15075.415936936939,15075.415936936939,15075.415936936939,15075.415936936939,15075.415936936939,15075.415936936939,15075.415936936939,15075.415936936939,15075.415936936939,15075.415936936939,15075.415936936939,15075.415936936939,15075.415936936939,15075.415936936939,15075.415936936939,15075.415936936939,15075.415936936939,15075.415936936939,15075.415936936939,15075.415936936939,15075.415936936939,15075.415936936939,15075.415936936939,15075.415936936939],\"type\":\"scatter\",\"xaxis\":\"x2\",\"yaxis\":\"y2\"},{\"marker\":{\"color\":\"Maroon\"},\"mode\":\"markers\",\"name\":\"pred. error refASD\",\"opacity\":0.6,\"x\":[-11996.034511245074,1290.4534810251944,5894.937175634679,41501.486740134234,-716.4604915230357,371.0932942331252,-8484.16037504706,5681.857394746717,8123.61736216041,-19718.269110762885,7651.157744028971,-6942.396993668903,-1620.4153073134864,17845.191410727086,-28972.3085543153,-938.6354936677411,-15726.716705370543,860.8688137686358,-8675.237150891036,1161.1074465959964,4481.846149284778,576.029382622065,5139.270636489198,-32315.703961496663,-9467.26318826322,6258.575492709511,670.9655838729268,11017.24276589003,2836.641938086036,3878.831434487628,-157.92825163662042,-672.5206239067629,4480.805892988701,-8310.323883869967,-20678.271852424557,4085.1030587185564,784.4250863522411,1674.6444450580227,-33992.61670338336,13229.931576697778,3677.0347524544586,666.0191622315192,-5634.426596164383,5539.7448818904995,17777.976537159368,493.01340578093084,-19407.14347842399,-4315.841842644528],\"y\":[20048.21048875492,7108.676481025186,17655.43117563468,41923.21374013423,1972.7685084769646,1002.5052942331249,19637.38362495294,6095.695394746717,30033.353362160415,23330.170889237117,9084.185744028971,27316.3520063311,393.7526926865139,19169.427410727083,22923.3234456847,-916.3334936677411,14703.584294629449,8843.015813768632,32575.29984910896,1728.918446595997,10657.695149284778,708.2743826220649,19547.830636489198,26447.29203850333,26175.42981173678,24677.34449270951,22104.07558387293,11102.78376589003,3265.1659380860365,11890.680434487631,208.58874836337964,24334.98737609323,24311.283892988708,-927.917883869969,13330.113147575443,4276.257058718556,10037.53108635224,2691.292445058023,23151.34629661664,27640.575576697775,6685.125752454458,1001.0791622315191,29271.23140383562,26361.1888818905,21734.031537159368,498.57540578093085,16581.201521576004,-1228.0588426445265],\"type\":\"scatter\",\"xaxis\":\"x2\",\"yaxis\":\"y2\"},{\"name\":\"pred. error init\",\"nbinsx\":4,\"y\":[-15084.58979999999,-3962.625466666659,-1113.2237333333342,31475.22346666667,-1234.6694666666672,279.6321333333336,6942.798066666677,3854.4620000000014,14221.67573333333,-10234.885800000004,2473.5593333333327,-1762.4781333333376,1431.5356000000008,19275.656,-15230.736666666664,1533.7255999999998,-14365.99433333332,-4031.53053333333,-7391.50466666666,361.51939999999956,-799.6991333333344,516.8611333333334,928.947866666671,-19659.267666666652,-12667.973999999995,10428.322533333336,6648.998800000001,8949.783,299.727133333333,1090.0789333333296,1122.242933333333,3839.5835333333416,-5065.123266666673,-5949.6727999999985,-2412.004133333332,667.0056000000001,-3814.2189333333326,-42.78080000000034,-25557.109466666672,3834.987200000007,-1211.6011333333333,314.04613333333344,-2645.682466666669,10540.705733333336,12887.945800000005,1515.8586666666663,-16679.10839999999,-1531.7554000000011],\"type\":\"histogram\",\"xaxis\":\"x3\",\"yaxis\":\"y3\"},{\"name\":\"pred. error linear\",\"nbinsx\":4,\"y\":[-12959.643383242772,-552.5242699702349,7704.831189406044,32016.99318599482,-2155.7312680294044,-2443.1604777784055,-4119.745522048615,8247.29854863093,6789.636976012829,-15121.097808221377,6753.652053207334,-7429.621151753985,-187.29076196305937,21392.64394310859,-24737.591625625973,-1848.9086867564804,-14557.565422207661,-287.0481792935361,-8847.653355564798,-1303.2482345071576,4277.651316045743,-2862.946931953964,5330.176435044026,-30734.30339165811,-9837.92518088522,6984.00353924129,789.543674388322,12312.66519445194,-85.3200572140239,5003.848716398662,-2348.327224442859,-280.1319250850793,5347.845935530542,-9247.420034821944,-15088.177751998133,1098.5950924671474,370.3047302457835,-442.60350436841804,-33517.08569235953,11074.99701448673,2102.6232679430004,-2340.1381995222187,-2068.5836387362433,10660.259186875945,16847.719436953717,-1608.9131363593833,-19179.68005961179,-5458.203022189489],\"type\":\"histogram\",\"xaxis\":\"x3\",\"yaxis\":\"y3\"},{\"name\":\"pred. error pl\",\"nbinsx\":4,\"y\":[-5185.624116220453,-3851.0995284793735,-3268.5232368427824,34092.3717431709,-2271.0100264276152,-74.03796083108057,-16707.258916493112,3062.0697205830465,2165.139551024913,-29851.78243748985,1047.3866242919187,-12288.09086465255,-1362.066327142486,5377.658031931486,-35428.129231798295,196.2868606297211,-20272.175161471878,-6011.939451947142,-20854.90487330109,-56.326739817803514,-2397.7830347647637,107.63741682042416,1493.566563799157,-32752.259197571955,-20225.093680126334,-4344.456331031408,-3636.2558248239875,1297.415326801195,198.11977342794182,-4333.94932744799,-130.69281028698106,-8886.367892543,-6512.362598238462,-7273.283299159562,-29327.706797077353,1349.3820465698352,-4730.931808123634,-436.1800795506351,-36802.57282668361,15437.330891125446,-900.9901073709138,176.47205553116027,-10743.113480766147,-8853.412747819759,18258.354647275406,264.97911678567806,-11831.535516389187,-2953.535907428706],\"type\":\"histogram\",\"xaxis\":\"x3\",\"yaxis\":\"y3\"},{\"name\":\"pred. error mean\",\"nbinsx\":4,\"y\":[-16968.829063063058,9257.192936936946,3314.9219369369384,14653.68893693694,12386.186936936938,14444.003936936939,-13046.128063063063,14661.577936936937,-6834.320063063065,-27973.024063063065,13642.387936936939,-19183.333063063066,13061.24793693694,13751.17993693694,-36820.21606306306,15053.11393693694,-15354.885063063053,7093.268936936943,-26175.12106306306,14507.60493693694,8899.566936936939,14943.170936936938,666.8559369369395,-43687.580063063055,-20567.277063063062,-3343.353063063061,-6357.694063063065,14989.87493693694,14646.89193693694,7063.566936936936,14708.89893693694,-9932.092063063055,-4755.062063063067,7693.009936936941,-18932.969063063065,14884.261936936939,5822.309936936939,14058.767936936938,-42068.547063063066,664.7719369369424,12067.32493693694,14740.35593693694,-19830.242063063066,-5746.0280630630605,11119.360936936939,15069.85393693694,-20912.929063063057,11987.632936936938],\"type\":\"histogram\",\"xaxis\":\"x3\",\"yaxis\":\"y3\"},{\"name\":\"pred. error refASD\",\"nbinsx\":4,\"y\":[-11996.034511245074,1290.4534810251944,5894.937175634679,41501.486740134234,-716.4604915230357,371.0932942331252,-8484.16037504706,5681.857394746717,8123.61736216041,-19718.269110762885,7651.157744028971,-6942.396993668903,-1620.4153073134864,17845.191410727086,-28972.3085543153,-938.6354936677411,-15726.716705370543,860.8688137686358,-8675.237150891036,1161.1074465959964,4481.846149284778,576.029382622065,5139.270636489198,-32315.703961496663,-9467.26318826322,6258.575492709511,670.9655838729268,11017.24276589003,2836.641938086036,3878.831434487628,-157.92825163662042,-672.5206239067629,4480.805892988701,-8310.323883869967,-20678.271852424557,4085.1030587185564,784.4250863522411,1674.6444450580227,-33992.61670338336,13229.931576697778,3677.0347524544586,666.0191622315192,-5634.426596164383,5539.7448818904995,17777.976537159368,493.01340578093084,-19407.14347842399,-4315.841842644528],\"type\":\"histogram\",\"xaxis\":\"x3\",\"yaxis\":\"y3\"}],                        {\"template\":{\"data\":{\"histogram2dcontour\":[{\"type\":\"histogram2dcontour\",\"colorbar\":{\"outlinewidth\":0,\"ticks\":\"\"},\"colorscale\":[[0.0,\"#0d0887\"],[0.1111111111111111,\"#46039f\"],[0.2222222222222222,\"#7201a8\"],[0.3333333333333333,\"#9c179e\"],[0.4444444444444444,\"#bd3786\"],[0.5555555555555556,\"#d8576b\"],[0.6666666666666666,\"#ed7953\"],[0.7777777777777778,\"#fb9f3a\"],[0.8888888888888888,\"#fdca26\"],[1.0,\"#f0f921\"]]}],\"choropleth\":[{\"type\":\"choropleth\",\"colorbar\":{\"outlinewidth\":0,\"ticks\":\"\"}}],\"histogram2d\":[{\"type\":\"histogram2d\",\"colorbar\":{\"outlinewidth\":0,\"ticks\":\"\"},\"colorscale\":[[0.0,\"#0d0887\"],[0.1111111111111111,\"#46039f\"],[0.2222222222222222,\"#7201a8\"],[0.3333333333333333,\"#9c179e\"],[0.4444444444444444,\"#bd3786\"],[0.5555555555555556,\"#d8576b\"],[0.6666666666666666,\"#ed7953\"],[0.7777777777777778,\"#fb9f3a\"],[0.8888888888888888,\"#fdca26\"],[1.0,\"#f0f921\"]]}],\"heatmap\":[{\"type\":\"heatmap\",\"colorbar\":{\"outlinewidth\":0,\"ticks\":\"\"},\"colorscale\":[[0.0,\"#0d0887\"],[0.1111111111111111,\"#46039f\"],[0.2222222222222222,\"#7201a8\"],[0.3333333333333333,\"#9c179e\"],[0.4444444444444444,\"#bd3786\"],[0.5555555555555556,\"#d8576b\"],[0.6666666666666666,\"#ed7953\"],[0.7777777777777778,\"#fb9f3a\"],[0.8888888888888888,\"#fdca26\"],[1.0,\"#f0f921\"]]}],\"heatmapgl\":[{\"type\":\"heatmapgl\",\"colorbar\":{\"outlinewidth\":0,\"ticks\":\"\"},\"colorscale\":[[0.0,\"#0d0887\"],[0.1111111111111111,\"#46039f\"],[0.2222222222222222,\"#7201a8\"],[0.3333333333333333,\"#9c179e\"],[0.4444444444444444,\"#bd3786\"],[0.5555555555555556,\"#d8576b\"],[0.6666666666666666,\"#ed7953\"],[0.7777777777777778,\"#fb9f3a\"],[0.8888888888888888,\"#fdca26\"],[1.0,\"#f0f921\"]]}],\"contourcarpet\":[{\"type\":\"contourcarpet\",\"colorbar\":{\"outlinewidth\":0,\"ticks\":\"\"}}],\"contour\":[{\"type\":\"contour\",\"colorbar\":{\"outlinewidth\":0,\"ticks\":\"\"},\"colorscale\":[[0.0,\"#0d0887\"],[0.1111111111111111,\"#46039f\"],[0.2222222222222222,\"#7201a8\"],[0.3333333333333333,\"#9c179e\"],[0.4444444444444444,\"#bd3786\"],[0.5555555555555556,\"#d8576b\"],[0.6666666666666666,\"#ed7953\"],[0.7777777777777778,\"#fb9f3a\"],[0.8888888888888888,\"#fdca26\"],[1.0,\"#f0f921\"]]}],\"surface\":[{\"type\":\"surface\",\"colorbar\":{\"outlinewidth\":0,\"ticks\":\"\"},\"colorscale\":[[0.0,\"#0d0887\"],[0.1111111111111111,\"#46039f\"],[0.2222222222222222,\"#7201a8\"],[0.3333333333333333,\"#9c179e\"],[0.4444444444444444,\"#bd3786\"],[0.5555555555555556,\"#d8576b\"],[0.6666666666666666,\"#ed7953\"],[0.7777777777777778,\"#fb9f3a\"],[0.8888888888888888,\"#fdca26\"],[1.0,\"#f0f921\"]]}],\"mesh3d\":[{\"type\":\"mesh3d\",\"colorbar\":{\"outlinewidth\":0,\"ticks\":\"\"}}],\"scatter\":[{\"fillpattern\":{\"fillmode\":\"overlay\",\"size\":10,\"solidity\":0.2},\"type\":\"scatter\"}],\"parcoords\":[{\"type\":\"parcoords\",\"line\":{\"colorbar\":{\"outlinewidth\":0,\"ticks\":\"\"}}}],\"scatterpolargl\":[{\"type\":\"scatterpolargl\",\"marker\":{\"colorbar\":{\"outlinewidth\":0,\"ticks\":\"\"}}}],\"bar\":[{\"error_x\":{\"color\":\"#2a3f5f\"},\"error_y\":{\"color\":\"#2a3f5f\"},\"marker\":{\"line\":{\"color\":\"#E5ECF6\",\"width\":0.5},\"pattern\":{\"fillmode\":\"overlay\",\"size\":10,\"solidity\":0.2}},\"type\":\"bar\"}],\"scattergeo\":[{\"type\":\"scattergeo\",\"marker\":{\"colorbar\":{\"outlinewidth\":0,\"ticks\":\"\"}}}],\"scatterpolar\":[{\"type\":\"scatterpolar\",\"marker\":{\"colorbar\":{\"outlinewidth\":0,\"ticks\":\"\"}}}],\"histogram\":[{\"marker\":{\"pattern\":{\"fillmode\":\"overlay\",\"size\":10,\"solidity\":0.2}},\"type\":\"histogram\"}],\"scattergl\":[{\"type\":\"scattergl\",\"marker\":{\"colorbar\":{\"outlinewidth\":0,\"ticks\":\"\"}}}],\"scatter3d\":[{\"type\":\"scatter3d\",\"line\":{\"colorbar\":{\"outlinewidth\":0,\"ticks\":\"\"}},\"marker\":{\"colorbar\":{\"outlinewidth\":0,\"ticks\":\"\"}}}],\"scattermapbox\":[{\"type\":\"scattermapbox\",\"marker\":{\"colorbar\":{\"outlinewidth\":0,\"ticks\":\"\"}}}],\"scatterternary\":[{\"type\":\"scatterternary\",\"marker\":{\"colorbar\":{\"outlinewidth\":0,\"ticks\":\"\"}}}],\"scattercarpet\":[{\"type\":\"scattercarpet\",\"marker\":{\"colorbar\":{\"outlinewidth\":0,\"ticks\":\"\"}}}],\"carpet\":[{\"aaxis\":{\"endlinecolor\":\"#2a3f5f\",\"gridcolor\":\"white\",\"linecolor\":\"white\",\"minorgridcolor\":\"white\",\"startlinecolor\":\"#2a3f5f\"},\"baxis\":{\"endlinecolor\":\"#2a3f5f\",\"gridcolor\":\"white\",\"linecolor\":\"white\",\"minorgridcolor\":\"white\",\"startlinecolor\":\"#2a3f5f\"},\"type\":\"carpet\"}],\"table\":[{\"cells\":{\"fill\":{\"color\":\"#EBF0F8\"},\"line\":{\"color\":\"white\"}},\"header\":{\"fill\":{\"color\":\"#C8D4E3\"},\"line\":{\"color\":\"white\"}},\"type\":\"table\"}],\"barpolar\":[{\"marker\":{\"line\":{\"color\":\"#E5ECF6\",\"width\":0.5},\"pattern\":{\"fillmode\":\"overlay\",\"size\":10,\"solidity\":0.2}},\"type\":\"barpolar\"}],\"pie\":[{\"automargin\":true,\"type\":\"pie\"}]},\"layout\":{\"autotypenumbers\":\"strict\",\"colorway\":[\"#636efa\",\"#EF553B\",\"#00cc96\",\"#ab63fa\",\"#FFA15A\",\"#19d3f3\",\"#FF6692\",\"#B6E880\",\"#FF97FF\",\"#FECB52\"],\"font\":{\"color\":\"#2a3f5f\"},\"hovermode\":\"closest\",\"hoverlabel\":{\"align\":\"left\"},\"paper_bgcolor\":\"white\",\"plot_bgcolor\":\"#E5ECF6\",\"polar\":{\"bgcolor\":\"#E5ECF6\",\"angularaxis\":{\"gridcolor\":\"white\",\"linecolor\":\"white\",\"ticks\":\"\"},\"radialaxis\":{\"gridcolor\":\"white\",\"linecolor\":\"white\",\"ticks\":\"\"}},\"ternary\":{\"bgcolor\":\"#E5ECF6\",\"aaxis\":{\"gridcolor\":\"white\",\"linecolor\":\"white\",\"ticks\":\"\"},\"baxis\":{\"gridcolor\":\"white\",\"linecolor\":\"white\",\"ticks\":\"\"},\"caxis\":{\"gridcolor\":\"white\",\"linecolor\":\"white\",\"ticks\":\"\"}},\"coloraxis\":{\"colorbar\":{\"outlinewidth\":0,\"ticks\":\"\"}},\"colorscale\":{\"sequential\":[[0.0,\"#0d0887\"],[0.1111111111111111,\"#46039f\"],[0.2222222222222222,\"#7201a8\"],[0.3333333333333333,\"#9c179e\"],[0.4444444444444444,\"#bd3786\"],[0.5555555555555556,\"#d8576b\"],[0.6666666666666666,\"#ed7953\"],[0.7777777777777778,\"#fb9f3a\"],[0.8888888888888888,\"#fdca26\"],[1.0,\"#f0f921\"]],\"sequentialminus\":[[0.0,\"#0d0887\"],[0.1111111111111111,\"#46039f\"],[0.2222222222222222,\"#7201a8\"],[0.3333333333333333,\"#9c179e\"],[0.4444444444444444,\"#bd3786\"],[0.5555555555555556,\"#d8576b\"],[0.6666666666666666,\"#ed7953\"],[0.7777777777777778,\"#fb9f3a\"],[0.8888888888888888,\"#fdca26\"],[1.0,\"#f0f921\"]],\"diverging\":[[0,\"#8e0152\"],[0.1,\"#c51b7d\"],[0.2,\"#de77ae\"],[0.3,\"#f1b6da\"],[0.4,\"#fde0ef\"],[0.5,\"#f7f7f7\"],[0.6,\"#e6f5d0\"],[0.7,\"#b8e186\"],[0.8,\"#7fbc41\"],[0.9,\"#4d9221\"],[1,\"#276419\"]]},\"xaxis\":{\"gridcolor\":\"white\",\"linecolor\":\"white\",\"ticks\":\"\",\"title\":{\"standoff\":15},\"zerolinecolor\":\"white\",\"automargin\":true,\"zerolinewidth\":2},\"yaxis\":{\"gridcolor\":\"white\",\"linecolor\":\"white\",\"ticks\":\"\",\"title\":{\"standoff\":15},\"zerolinecolor\":\"white\",\"automargin\":true,\"zerolinewidth\":2},\"scene\":{\"xaxis\":{\"backgroundcolor\":\"#E5ECF6\",\"gridcolor\":\"white\",\"linecolor\":\"white\",\"showbackground\":true,\"ticks\":\"\",\"zerolinecolor\":\"white\",\"gridwidth\":2},\"yaxis\":{\"backgroundcolor\":\"#E5ECF6\",\"gridcolor\":\"white\",\"linecolor\":\"white\",\"showbackground\":true,\"ticks\":\"\",\"zerolinecolor\":\"white\",\"gridwidth\":2},\"zaxis\":{\"backgroundcolor\":\"#E5ECF6\",\"gridcolor\":\"white\",\"linecolor\":\"white\",\"showbackground\":true,\"ticks\":\"\",\"zerolinecolor\":\"white\",\"gridwidth\":2}},\"shapedefaults\":{\"line\":{\"color\":\"#2a3f5f\"}},\"annotationdefaults\":{\"arrowcolor\":\"#2a3f5f\",\"arrowhead\":0,\"arrowwidth\":1},\"geo\":{\"bgcolor\":\"white\",\"landcolor\":\"#E5ECF6\",\"subunitcolor\":\"white\",\"showland\":true,\"showlakes\":true,\"lakecolor\":\"white\"},\"title\":{\"x\":0.05},\"mapbox\":{\"style\":\"light\"}}},\"xaxis\":{\"anchor\":\"y\",\"domain\":[0.0,0.48999999999999994],\"title\":{\"text\":\"true\"}},\"yaxis\":{\"anchor\":\"x\",\"domain\":[0.0,1.0],\"title\":{\"text\":\"pred\"}},\"xaxis2\":{\"anchor\":\"y2\",\"domain\":[0.6399999999999999,0.7449999999999999],\"title\":{\"text\":\"pred-true\"}},\"yaxis2\":{\"anchor\":\"x2\",\"domain\":[0.0,1.0],\"title\":{\"text\":\"pred\"},\"matches\":\"y\"},\"xaxis3\":{\"anchor\":\"y3\",\"domain\":[0.895,1.0],\"title\":{\"text\":\"freq\"}},\"yaxis3\":{\"anchor\":\"x3\",\"domain\":[0.0,1.0],\"title\":{\"text\":\"pred-true\"}},\"title\":{\"text\":\"(\\\"Alzheimer's disease and other dementias\\\", 'Obesity_rate', \\\"Parkinson's disease\\\", 'new_cases_per_million')\"},\"width\":950,\"height\":555},                        {\"responsive\": true}                    ).then(function(){\n                            \nvar gd = document.getElementById('99b38925-c75a-43b4-aeaa-6d527f0f7609');\nvar x = new MutationObserver(function (mutations, observer) {{\n        var display = window.getComputedStyle(gd).display;\n        if (!display || display === 'none') {{\n            console.log([gd, 'removed!']);\n            Plotly.purge(gd);\n            observer.disconnect();\n        }}\n}});\n\n// Listen for the removal of the full notebook cells\nvar notebookContainer = gd.closest('#notebook-container');\nif (notebookContainer) {{\n    x.observe(notebookContainer, {childList: true});\n}}\n\n// Listen for the clearing of the current output cell\nvar outputEl = gd.closest('.output');\nif (outputEl) {{\n    x.observe(outputEl, {childList: true});\n}}\n\n                        })                };                });            </script>        </div>"
     },
     "metadata": {},
     "output_type": "display_data"
    }
   ],
   "source": [
    "asd.predictability_plot(refined_datas_dict,\n",
    "                        list(refined_datas_dict.keys())[1],\n",
    "                        refined_plot=True,\n",
    "                        initial_datas_dict=datas_dict,\n",
    "                        plot_along=[\"init\",\n",
    "                                    \"linear\",\n",
    "                                    \"pl\",\n",
    "                                    \"mean\"\n",
    "                                    ]\n",
    "                        )"
   ],
   "metadata": {
    "collapsed": false,
    "pycharm": {
     "name": "#%%\n"
    }
   }
  },
  {
   "cell_type": "code",
   "execution_count": null,
   "outputs": [],
   "source": [],
   "metadata": {
    "collapsed": false,
    "pycharm": {
     "name": "#%%\n"
    }
   }
  },
  {
   "cell_type": "code",
   "execution_count": null,
   "outputs": [],
   "source": [],
   "metadata": {
    "collapsed": false,
    "pycharm": {
     "name": "#%%\n"
    }
   }
  }
 ],
 "metadata": {
  "kernelspec": {
   "display_name": "Python 3",
   "language": "python",
   "name": "python3"
  },
  "language_info": {
   "codemirror_mode": {
    "name": "ipython",
    "version": 2
   },
   "file_extension": ".py",
   "mimetype": "text/x-python",
   "name": "python",
   "nbconvert_exporter": "python",
   "pygments_lexer": "ipython2",
   "version": "2.7.6"
  }
 },
 "nbformat": 4,
 "nbformat_minor": 0
}