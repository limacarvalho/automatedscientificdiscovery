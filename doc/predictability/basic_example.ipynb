{
 "cells": [
  {
   "cell_type": "code",
   "execution_count": 1,
   "outputs": [],
   "source": [
    "import ray\n",
    "import pandas as pd\n"
   ],
   "metadata": {
    "collapsed": false,
    "pycharm": {
     "name": "#%%\n"
    }
   }
  },
  {
   "cell_type": "code",
   "execution_count": null,
   "outputs": [],
   "source": [],
   "metadata": {
    "collapsed": false,
    "pycharm": {
     "name": "#%%\n"
    }
   }
  },
  {
   "cell_type": "markdown",
   "source": [
    "### Import Methods"
   ],
   "metadata": {
    "collapsed": false,
    "pycharm": {
     "name": "#%% md\n"
    }
   }
  },
  {
   "cell_type": "markdown",
   "source": [
    "#### Way 1\n",
    "\n",
    "without directly using the\n",
    "`from .predictability.utils import get_column_combinations`\n",
    "in `src/asd/__init__.py` file."
   ],
   "metadata": {
    "collapsed": false,
    "pycharm": {
     "name": "#%% md\n"
    }
   }
  },
  {
   "cell_type": "code",
   "execution_count": null,
   "outputs": [],
   "source": [
    "'''\n",
    "import asd.predictability.utils as asdpu\n",
    "asdpu.get_column_combinations(all_cols=[1, 2, 3, 4, 5, 6],\n",
    "                                  inputs=4,\n",
    "                                  outputs=1,\n",
    "                                  targets=[5, 6]\n",
    "                                  )\n",
    "'''"
   ],
   "metadata": {
    "collapsed": false,
    "pycharm": {
     "name": "#%%\n"
    }
   }
  },
  {
   "cell_type": "code",
   "execution_count": 2,
   "outputs": [],
   "source": [],
   "metadata": {
    "collapsed": false,
    "pycharm": {
     "name": "#%%\n"
    }
   }
  },
  {
   "cell_type": "markdown",
   "source": [
    "#### Way 2\n",
    "\n",
    "with using the import\n",
    "`from .predictability.utils import get_column_combinations`\n",
    "in `src/asd/__init__.py` file."
   ],
   "metadata": {
    "collapsed": false,
    "pycharm": {
     "name": "#%% md\n"
    }
   }
  },
  {
   "cell_type": "code",
   "execution_count": null,
   "outputs": [],
   "source": [
    "import asd"
   ],
   "metadata": {
    "collapsed": false,
    "pycharm": {
     "name": "#%%\n",
     "is_executing": true
    }
   }
  },
  {
   "cell_type": "code",
   "execution_count": null,
   "outputs": [],
   "source": [
    "asd.get_column_combinations(all_cols=[1, 2, 3, 4, 5, 6],\n",
    "                                  inputs=4,\n",
    "                                  outputs=1,\n",
    "                                  targets=[5, 6]\n",
    "                                  )"
   ],
   "metadata": {
    "collapsed": false,
    "pycharm": {
     "name": "#%%\n",
     "is_executing": true
    }
   }
  },
  {
   "cell_type": "code",
   "execution_count": 4,
   "outputs": [],
   "source": [],
   "metadata": {
    "collapsed": false,
    "pycharm": {
     "name": "#%%\n"
    }
   }
  },
  {
   "cell_type": "code",
   "execution_count": 4,
   "outputs": [],
   "source": [],
   "metadata": {
    "collapsed": false,
    "pycharm": {
     "name": "#%%\n"
    }
   }
  },
  {
   "cell_type": "code",
   "execution_count": 3,
   "outputs": [
    {
     "data": {
      "text/plain": "RayContext(dashboard_url='', python_version='3.9.5', ray_version='2.0.1', ray_commit='03b6bc7b5a305877501110ec04710a9c57011479', address_info={'node_ip_address': '10.8.0.8', 'raylet_ip_address': '10.8.0.8', 'redis_address': None, 'object_store_address': '/tmp/ray/session_2022-12-20_10-04-47_585192_28207/sockets/plasma_store', 'raylet_socket_name': '/tmp/ray/session_2022-12-20_10-04-47_585192_28207/sockets/raylet', 'webui_url': '', 'session_dir': '/tmp/ray/session_2022-12-20_10-04-47_585192_28207', 'metrics_export_port': 59586, 'gcs_address': '10.8.0.8:64466', 'address': '10.8.0.8:64466', 'dashboard_agent_listen_port': 52365, 'node_id': '605882fa9f50f75b7805b920e81f1f816d7bea6b33808a3560215a46'})",
      "text/html": "<div>\n    <div style=\"margin-left: 50px;display: flex;flex-direction: row;align-items: center\">\n        <h3 style=\"color: var(--jp-ui-font-color0)\">Ray</h3>\n        <svg version=\"1.1\" id=\"ray\" width=\"3em\" viewBox=\"0 0 144.5 144.6\" style=\"margin-left: 3em;margin-right: 3em\">\n            <g id=\"layer-1\">\n                <path fill=\"#00a2e9\" class=\"st0\" d=\"M97.3,77.2c-3.8-1.1-6.2,0.9-8.3,5.1c-3.5,6.8-9.9,9.9-17.4,9.6S58,88.1,54.8,81.2c-1.4-3-3-4-6.3-4.1\n                    c-5.6-0.1-9.9,0.1-13.1,6.4c-3.8,7.6-13.6,10.2-21.8,7.6C5.2,88.4-0.4,80.5,0,71.7c0.1-8.4,5.7-15.8,13.8-18.2\n                    c8.4-2.6,17.5,0.7,22.3,8c1.3,1.9,1.3,5.2,3.6,5.6c3.9,0.6,8,0.2,12,0.2c1.8,0,1.9-1.6,2.4-2.8c3.5-7.8,9.7-11.8,18-11.9\n                    c8.2-0.1,14.4,3.9,17.8,11.4c1.3,2.8,2.9,3.6,5.7,3.3c1-0.1,2,0.1,3,0c2.8-0.5,6.4,1.7,8.1-2.7s-2.3-5.5-4.1-7.5\n                    c-5.1-5.7-10.9-10.8-16.1-16.3C84,38,81.9,37.1,78,38.3C66.7,42,56.2,35.7,53,24.1C50.3,14,57.3,2.8,67.7,0.5\n                    C78.4-2,89,4.7,91.5,15.3c0.1,0.3,0.1,0.5,0.2,0.8c0.7,3.4,0.7,6.9-0.8,9.8c-1.7,3.2-0.8,5,1.5,7.2c6.7,6.5,13.3,13,19.8,19.7\n                    c1.8,1.8,3,2.1,5.5,1.2c9.1-3.4,17.9-0.6,23.4,7c4.8,6.9,4.6,16.1-0.4,22.9c-5.4,7.2-14.2,9.9-23.1,6.5c-2.3-0.9-3.5-0.6-5.1,1.1\n                    c-6.7,6.9-13.6,13.7-20.5,20.4c-1.8,1.8-2.5,3.2-1.4,5.9c3.5,8.7,0.3,18.6-7.7,23.6c-7.9,5-18.2,3.8-24.8-2.9\n                    c-6.4-6.4-7.4-16.2-2.5-24.3c4.9-7.8,14.5-11,23.1-7.8c3,1.1,4.7,0.5,6.9-1.7C91.7,98.4,98,92.3,104.2,86c1.6-1.6,4.1-2.7,2.6-6.2\n                    c-1.4-3.3-3.8-2.5-6.2-2.6C99.8,77.2,98.9,77.2,97.3,77.2z M72.1,29.7c5.5,0.1,9.9-4.3,10-9.8c0-0.1,0-0.2,0-0.3\n                    C81.8,14,77,9.8,71.5,10.2c-5,0.3-9,4.2-9.3,9.2c-0.2,5.5,4,10.1,9.5,10.3C71.8,29.7,72,29.7,72.1,29.7z M72.3,62.3\n                    c-5.4-0.1-9.9,4.2-10.1,9.7c0,0.2,0,0.3,0,0.5c0.2,5.4,4.5,9.7,9.9,10c5.1,0.1,9.9-4.7,10.1-9.8c0.2-5.5-4-10-9.5-10.3\n                    C72.6,62.3,72.4,62.3,72.3,62.3z M115,72.5c0.1,5.4,4.5,9.7,9.8,9.9c5.6-0.2,10-4.8,10-10.4c-0.2-5.4-4.6-9.7-10-9.7\n                    c-5.3-0.1-9.8,4.2-9.9,9.5C115,72.1,115,72.3,115,72.5z M19.5,62.3c-5.4,0.1-9.8,4.4-10,9.8c-0.1,5.1,5.2,10.4,10.2,10.3\n                    c5.6-0.2,10-4.9,9.8-10.5c-0.1-5.4-4.5-9.7-9.9-9.6C19.6,62.3,19.5,62.3,19.5,62.3z M71.8,134.6c5.9,0.2,10.3-3.9,10.4-9.6\n                    c0.5-5.5-3.6-10.4-9.1-10.8c-5.5-0.5-10.4,3.6-10.8,9.1c0,0.5,0,0.9,0,1.4c-0.2,5.3,4,9.8,9.3,10\n                    C71.6,134.6,71.7,134.6,71.8,134.6z\"/>\n            </g>\n        </svg>\n        <table>\n            <tr>\n                <td style=\"text-align: left\"><b>Python version:</b></td>\n                <td style=\"text-align: left\"><b>3.9.5</b></td>\n            </tr>\n            <tr>\n                <td style=\"text-align: left\"><b>Ray version:</b></td>\n                <td style=\"text-align: left\"><b> 2.0.1</b></td>\n            </tr>\n            \n        </table>\n    </div>\n</div>\n"
     },
     "execution_count": 3,
     "metadata": {},
     "output_type": "execute_result"
    }
   ],
   "source": [
    "ray.init()"
   ],
   "metadata": {
    "collapsed": false,
    "pycharm": {
     "name": "#%%\n"
    }
   }
  },
  {
   "cell_type": "code",
   "execution_count": 5,
   "outputs": [],
   "source": [],
   "metadata": {
    "collapsed": false,
    "pycharm": {
     "name": "#%%\n"
    }
   }
  },
  {
   "cell_type": "markdown",
   "source": [
    "# Basic Example"
   ],
   "metadata": {
    "collapsed": false,
    "pycharm": {
     "name": "#%% md\n"
    }
   }
  },
  {
   "cell_type": "markdown",
   "source": [
    "## Load Data"
   ],
   "metadata": {
    "collapsed": false,
    "pycharm": {
     "name": "#%% md\n"
    }
   }
  },
  {
   "cell_type": "markdown",
   "source": [
    "Basic data that can be understood as two different input columns (linear and random values) and three different output columns (sin of linear x, 1 + sin of linear x and random values)."
   ],
   "metadata": {
    "collapsed": false,
    "pycharm": {
     "name": "#%% md\n"
    }
   }
  },
  {
   "cell_type": "code",
   "execution_count": 3,
   "outputs": [],
   "source": [
    "data = pd.read_csv(\"example_data.csv\", dtype=float)"
   ],
   "metadata": {
    "collapsed": false,
    "pycharm": {
     "name": "#%%\n"
    }
   }
  },
  {
   "cell_type": "code",
   "execution_count": 5,
   "outputs": [
    {
     "data": {
      "text/plain": "   lin_x  rand_x      sinx  randomy  sinx_plus1\n0    1.0   -0.55  0.099833     0.09    1.099833\n1    2.0   -0.44  0.198669     0.83    1.198669\n2    3.0    0.94  0.295520     0.12    1.295520\n3    4.0   -0.61  0.389418     0.41    1.389418\n4    5.0   -0.51  0.479426    -0.70    1.479426",
      "text/html": "<div>\n<style scoped>\n    .dataframe tbody tr th:only-of-type {\n        vertical-align: middle;\n    }\n\n    .dataframe tbody tr th {\n        vertical-align: top;\n    }\n\n    .dataframe thead th {\n        text-align: right;\n    }\n</style>\n<table border=\"1\" class=\"dataframe\">\n  <thead>\n    <tr style=\"text-align: right;\">\n      <th></th>\n      <th>lin_x</th>\n      <th>rand_x</th>\n      <th>sinx</th>\n      <th>randomy</th>\n      <th>sinx_plus1</th>\n    </tr>\n  </thead>\n  <tbody>\n    <tr>\n      <th>0</th>\n      <td>1.0</td>\n      <td>-0.55</td>\n      <td>0.099833</td>\n      <td>0.09</td>\n      <td>1.099833</td>\n    </tr>\n    <tr>\n      <th>1</th>\n      <td>2.0</td>\n      <td>-0.44</td>\n      <td>0.198669</td>\n      <td>0.83</td>\n      <td>1.198669</td>\n    </tr>\n    <tr>\n      <th>2</th>\n      <td>3.0</td>\n      <td>0.94</td>\n      <td>0.295520</td>\n      <td>0.12</td>\n      <td>1.295520</td>\n    </tr>\n    <tr>\n      <th>3</th>\n      <td>4.0</td>\n      <td>-0.61</td>\n      <td>0.389418</td>\n      <td>0.41</td>\n      <td>1.389418</td>\n    </tr>\n    <tr>\n      <th>4</th>\n      <td>5.0</td>\n      <td>-0.51</td>\n      <td>0.479426</td>\n      <td>-0.70</td>\n      <td>1.479426</td>\n    </tr>\n  </tbody>\n</table>\n</div>"
     },
     "execution_count": 5,
     "metadata": {},
     "output_type": "execute_result"
    }
   ],
   "source": [
    "data.head()"
   ],
   "metadata": {
    "collapsed": false,
    "pycharm": {
     "name": "#%%\n"
    }
   }
  },
  {
   "cell_type": "code",
   "execution_count": 7,
   "outputs": [],
   "source": [],
   "metadata": {
    "collapsed": false,
    "pycharm": {
     "name": "#%%\n"
    }
   }
  },
  {
   "cell_type": "markdown",
   "source": [
    "## Get Combinations function"
   ],
   "metadata": {
    "collapsed": false,
    "pycharm": {
     "name": "#%% md\n"
    }
   }
  },
  {
   "cell_type": "markdown",
   "source": [
    "This function can be used to determine the overall number of combinations the predictability routine analyses given the number of data columns, fitting type etc. This allows to estimate the overall runtime of the predictability routine."
   ],
   "metadata": {
    "collapsed": false,
    "pycharm": {
     "name": "#%% md\n"
    }
   }
  },
  {
   "cell_type": "markdown",
   "source": [
    "The function returns a list of combination tuples, where the first inputs-many elements correspond to the inputs and the remaining ouputs-many to the targets. The argument targets can be used to define columns that should exclusively be regarded as targets."
   ],
   "metadata": {
    "collapsed": false,
    "pycharm": {
     "name": "#%% md\n"
    }
   }
  },
  {
   "cell_type": "code",
   "execution_count": 8,
   "outputs": [
    {
     "data": {
      "text/plain": "[(1, 2, 3, 5),\n (1, 2, 3, 6),\n (1, 2, 4, 5),\n (1, 2, 4, 6),\n (1, 3, 4, 5),\n (1, 3, 4, 6),\n (2, 3, 4, 5),\n (2, 3, 4, 6)]"
     },
     "execution_count": 8,
     "metadata": {},
     "output_type": "execute_result"
    }
   ],
   "source": [
    "# applied to a numerical example:\n",
    "asd.get_column_combinations(all_cols=[1, 2, 3, 4, 5, 6],\n",
    "                                  inputs=3,\n",
    "                                  outputs=1,\n",
    "                                  targets=[5, 6]\n",
    "                                  )"
   ],
   "metadata": {
    "collapsed": false,
    "pycharm": {
     "name": "#%%\n"
    }
   }
  },
  {
   "cell_type": "code",
   "execution_count": 9,
   "outputs": [
    {
     "data": {
      "text/plain": "8"
     },
     "execution_count": 9,
     "metadata": {},
     "output_type": "execute_result"
    }
   ],
   "source": [
    "# the argument \"amount_only\" can be used to output the amout of combinations only\n",
    "asd.get_column_combinations(all_cols=[1, 2, 3, 4, 5, 6],\n",
    "                                  inputs=3,\n",
    "                                  outputs=1,\n",
    "                                  targets=[5, 6],\n",
    "                                  amount_only=True\n",
    "                                  )"
   ],
   "metadata": {
    "collapsed": false,
    "pycharm": {
     "name": "#%%\n"
    }
   }
  },
  {
   "cell_type": "code",
   "execution_count": 10,
   "outputs": [
    {
     "name": "stdout",
     "output_type": "stream",
     "text": [
      "[('lin_x', 'sinx'), ('lin_x', 'randomy'), ('lin_x', 'sinx_plus1'), ('rand_x', 'sinx'), ('rand_x', 'randomy'), ('rand_x', 'sinx_plus1')]\n"
     ]
    }
   ],
   "source": [
    "# applied to the data above\n",
    "print(asd.get_column_combinations(all_cols=data.columns, inputs=1, outputs=1, targets=[\"sinx\", \"randomy\", \"sinx_plus1\"]))"
   ],
   "metadata": {
    "collapsed": false,
    "pycharm": {
     "name": "#%%\n"
    }
   }
  },
  {
   "cell_type": "code",
   "execution_count": 11,
   "outputs": [
    {
     "name": "stdout",
     "output_type": "stream",
     "text": [
      "6\n"
     ]
    }
   ],
   "source": [
    "print(asd.get_column_combinations(all_cols=data.columns, inputs=1, outputs=1, targets=[\"sinx\", \"randomy\", \"sinx_plus1\"],\n",
    "                                  amount_only=True))"
   ],
   "metadata": {
    "collapsed": false,
    "pycharm": {
     "name": "#%%\n"
    }
   }
  },
  {
   "cell_type": "code",
   "execution_count": 11,
   "outputs": [],
   "source": [],
   "metadata": {
    "collapsed": false,
    "pycharm": {
     "name": "#%%\n"
    }
   }
  },
  {
   "cell_type": "markdown",
   "source": [
    "## Predictability function"
   ],
   "metadata": {
    "collapsed": false,
    "pycharm": {
     "name": "#%% md\n"
    }
   }
  },
  {
   "cell_type": "markdown",
   "source": [
    "Running the predictability function over all possible 1+1 combinations where the respective target is either sin, sin+1 or random and the input is linear x or random values.\n",
    "\n",
    "The purpose of having sin + 1 is to have a tuple that exclusively contains positive values so fitting a power law can be applied."
   ],
   "metadata": {
    "collapsed": false,
    "pycharm": {
     "name": "#%% md\n"
    }
   }
  },
  {
   "cell_type": "markdown",
   "source": [
    "### \"normal\" routine"
   ],
   "metadata": {
    "collapsed": false,
    "pycharm": {
     "name": "#%% md\n"
    }
   }
  },
  {
   "cell_type": "code",
   "execution_count": null,
   "outputs": [],
   "source": [
    "metrics_dict, datas_dict = asd.run_predictability(data=data,\n",
    "                                          input_cols=1,\n",
    "                                          output_cols=1,\n",
    "                                          col_set=None,\n",
    "                                          targets=[\"sinx\", \"randomy\", \"sinx_plus1\"],\n",
    "                                          method=\"kNN\",\n",
    "                                          random_state_split=None,\n",
    "                                          refined_n_best=0\n",
    "                                          )"
   ],
   "metadata": {
    "collapsed": false,
    "pycharm": {
     "name": "#%%\n",
     "is_executing": true
    }
   }
  },
  {
   "cell_type": "code",
   "execution_count": null,
   "outputs": [],
   "source": [],
   "metadata": {
    "collapsed": false,
    "pycharm": {
     "name": "#%%\n"
    }
   }
  },
  {
   "cell_type": "markdown",
   "source": [
    "_Note that starting the Ray instance accounts for most of the runtime. Start the cell above again and runtime will be ~1s._"
   ],
   "metadata": {
    "collapsed": false,
    "pycharm": {
     "name": "#%% md\n"
    }
   }
  },
  {
   "cell_type": "markdown",
   "source": [
    "### greedy routine"
   ],
   "metadata": {
    "collapsed": false,
    "pycharm": {
     "name": "#%% md\n"
    }
   }
  },
  {
   "cell_type": "code",
   "execution_count": null,
   "outputs": [],
   "source": [
    "greedy_metrics_dict, greedy_datas_dict = asd.run_predictability(data=data,\n",
    "                                          input_cols=2,\n",
    "                                          output_cols=1,\n",
    "                                          col_set=None,\n",
    "                                          targets=[\"sinx\", \"randomy\", \"sinx_plus1\"],\n",
    "                                          method=\"kNN\",\n",
    "                                          random_state_split=None,\n",
    "                                          greedy=True,\n",
    "                                          refined_n_best=0\n",
    "                                          )"
   ],
   "metadata": {
    "collapsed": false,
    "pycharm": {
     "name": "#%%\n",
     "is_executing": true
    }
   }
  },
  {
   "cell_type": "code",
   "execution_count": null,
   "outputs": [],
   "source": [
    "pd.DataFrame.from_dict(greedy_metrics_dict).transpose()"
   ],
   "metadata": {
    "collapsed": false,
    "pycharm": {
     "name": "#%%\n"
    }
   }
  },
  {
   "cell_type": "code",
   "execution_count": null,
   "outputs": [],
   "source": [],
   "metadata": {
    "collapsed": false,
    "pycharm": {
     "name": "#%%\n"
    }
   }
  },
  {
   "cell_type": "markdown",
   "source": [
    "### Results"
   ],
   "metadata": {
    "collapsed": false,
    "pycharm": {
     "name": "#%% md\n"
    }
   }
  },
  {
   "cell_type": "code",
   "execution_count": null,
   "outputs": [],
   "source": [
    "pd.DataFrame.from_dict(metrics_dict).transpose()"
   ],
   "metadata": {
    "collapsed": false,
    "pycharm": {
     "name": "#%%\n"
    }
   }
  },
  {
   "cell_type": "code",
   "execution_count": null,
   "outputs": [],
   "source": [
    "pd.DataFrame.from_dict(greedy_metrics_dict).transpose()"
   ],
   "metadata": {
    "collapsed": false,
    "pycharm": {
     "name": "#%%\n"
    }
   }
  },
  {
   "cell_type": "code",
   "execution_count": null,
   "outputs": [],
   "source": [],
   "metadata": {
    "collapsed": false,
    "pycharm": {
     "name": "#%%\n"
    }
   }
  },
  {
   "cell_type": "markdown",
   "source": [
    "### Structure of returned dictionaries"
   ],
   "metadata": {
    "collapsed": false,
    "pycharm": {
     "name": "#%% md\n"
    }
   }
  },
  {
   "cell_type": "code",
   "execution_count": null,
   "outputs": [],
   "source": [
    "struc_dict = datas_dict[list(datas_dict.keys())[0]]\n",
    "for key in list(struc_dict.keys()):\n",
    "    if type(struc_dict[key]) is dict:\n",
    "        print(key, \"\\t dict with key(s):\\t\", list(struc_dict[key].keys()))\n",
    "    else:\n",
    "        print(key, \"\\t type:\\t\", type(struc_dict[key]), \"\\t shape:\\t\", struc_dict[key].shape)"
   ],
   "metadata": {
    "collapsed": false,
    "pycharm": {
     "name": "#%%\n"
    }
   }
  },
  {
   "cell_type": "code",
   "execution_count": null,
   "outputs": [],
   "source": [],
   "metadata": {
    "collapsed": false,
    "pycharm": {
     "name": "#%%\n"
    }
   }
  },
  {
   "cell_type": "markdown",
   "source": [],
   "metadata": {
    "collapsed": false,
    "pycharm": {
     "name": "#%% md\n"
    }
   }
  },
  {
   "cell_type": "markdown",
   "source": [
    "### Plotting"
   ],
   "metadata": {
    "collapsed": false,
    "pycharm": {
     "name": "#%% md\n"
    }
   }
  },
  {
   "cell_type": "code",
   "execution_count": null,
   "outputs": [],
   "source": [
    "asd.predictability_plot(datas_dict, list(datas_dict.keys())[0], plot_along=[\"linear\", \"mean\"])"
   ],
   "metadata": {
    "collapsed": false,
    "pycharm": {
     "name": "#%%\n"
    }
   }
  },
  {
   "cell_type": "code",
   "execution_count": null,
   "outputs": [],
   "source": [],
   "metadata": {
    "collapsed": false,
    "pycharm": {
     "name": "#%%\n"
    }
   }
  },
  {
   "cell_type": "markdown",
   "source": [
    "## Tuple Selection function\n",
    "\n",
    "This function can be used to limit the number of tuples that is further analysed in more detail."
   ],
   "metadata": {
    "collapsed": false,
    "pycharm": {
     "name": "#%% md\n"
    }
   }
  },
  {
   "cell_type": "code",
   "execution_count": null,
   "outputs": [],
   "source": [
    "selected_tuples = asd.predictability.core.tuple_selection(metrics_dict, n_best=2)\n",
    "selected_tuples"
   ],
   "metadata": {
    "collapsed": false,
    "pycharm": {
     "name": "#%%\n"
    }
   }
  },
  {
   "cell_type": "code",
   "execution_count": null,
   "outputs": [],
   "source": [],
   "metadata": {
    "collapsed": false,
    "pycharm": {
     "name": "#%%\n"
    }
   }
  },
  {
   "cell_type": "markdown",
   "source": [
    "## Refine Predictability function\n",
    "\n",
    "This function is used to further refine the predictability of the previously selected best tuples."
   ],
   "metadata": {
    "collapsed": false,
    "pycharm": {
     "name": "#%% md\n"
    }
   }
  },
  {
   "cell_type": "code",
   "execution_count": null,
   "outputs": [],
   "source": [
    "refined_metrics_dict, refined_datas_dict = asd.refine_predictability(best_tuples=selected_tuples,\n",
    "                                                                 data_dict=datas_dict,\n",
    "                                                                 time_left_for_this_task=60,\n",
    "                                                                 n_jobs=-1,\n",
    "                                                                 use_ray=True,\n",
    "                                                                 )"
   ],
   "metadata": {
    "collapsed": false,
    "pycharm": {
     "name": "#%%\n"
    }
   }
  },
  {
   "cell_type": "code",
   "execution_count": null,
   "outputs": [],
   "source": [
    "pd.DataFrame.from_dict(refined_metrics_dict).transpose()"
   ],
   "metadata": {
    "collapsed": false,
    "pycharm": {
     "name": "#%%\n"
    }
   }
  },
  {
   "cell_type": "code",
   "execution_count": null,
   "outputs": [],
   "source": [],
   "metadata": {
    "collapsed": false,
    "pycharm": {
     "name": "#%%\n"
    }
   }
  },
  {
   "cell_type": "markdown",
   "source": [
    "#### Structure of returned dictionaries"
   ],
   "metadata": {
    "collapsed": false,
    "pycharm": {
     "name": "#%% md\n"
    }
   }
  },
  {
   "cell_type": "code",
   "execution_count": null,
   "outputs": [],
   "source": [
    "from sklearn.pipeline import Pipeline"
   ],
   "metadata": {
    "collapsed": false,
    "pycharm": {
     "name": "#%%\n"
    }
   }
  },
  {
   "cell_type": "code",
   "execution_count": null,
   "outputs": [],
   "source": [
    "struc_dict = refined_datas_dict[list(refined_datas_dict.keys())[0]]\n",
    "for key in list(struc_dict.keys()):\n",
    "    if type(struc_dict[key]) is dict:\n",
    "        print(key, \"\\t dict with key(s):\\t\"#, list(struc_dict[key].keys())\n",
    "              )\n",
    "    elif type(struc_dict[key]) is Pipeline:\n",
    "        print(key, \"\\t type:\\t\", type(struc_dict[key]))\n",
    "    else:\n",
    "        print(key, \"\\t type:\\t\", type(struc_dict[key]), \"\\t shape:\\t\", struc_dict[key].shape)"
   ],
   "metadata": {
    "collapsed": false,
    "pycharm": {
     "name": "#%%\n"
    }
   }
  },
  {
   "cell_type": "code",
   "execution_count": null,
   "outputs": [],
   "source": [],
   "metadata": {
    "collapsed": false,
    "pycharm": {
     "name": "#%%\n"
    }
   }
  },
  {
   "cell_type": "markdown",
   "source": [
    "#### Plotting"
   ],
   "metadata": {
    "collapsed": false,
    "pycharm": {
     "name": "#%% md\n"
    }
   }
  },
  {
   "cell_type": "code",
   "execution_count": null,
   "outputs": [],
   "source": [
    "asd.predictability_plot(refined_datas_dict,\n",
    "                        list(refined_datas_dict.keys())[0],\n",
    "                        refined_plot=True,\n",
    "                        refined_input_datas_dict=datas_dict,\n",
    "                        plot_along=[#\"linear\", \"mean\",\n",
    "                                    \"init\"]\n",
    "                        )"
   ],
   "metadata": {
    "collapsed": false,
    "pycharm": {
     "name": "#%%\n"
    }
   }
  },
  {
   "cell_type": "code",
   "execution_count": null,
   "outputs": [],
   "source": [],
   "metadata": {
    "collapsed": false,
    "pycharm": {
     "name": "#%%\n"
    }
   }
  },
  {
   "cell_type": "markdown",
   "source": [
    "## Predictability w direct refined run"
   ],
   "metadata": {
    "collapsed": false,
    "pycharm": {
     "name": "#%% md\n"
    }
   }
  },
  {
   "cell_type": "code",
   "execution_count": null,
   "outputs": [],
   "source": [
    "diref_metrics_dict, diref_datas_dict = asd.run_predictability(data=data,\n",
    "                                          input_cols=1,\n",
    "                                          output_cols=1,\n",
    "                                          col_set=None,\n",
    "                                          targets=[\"sinx\", \"randomy\", \"sinx_plus1\"],\n",
    "                                          method=\"kNN\",\n",
    "                                          random_state_split=None,\n",
    "                                          refined_n_best=1,\n",
    "                                          )"
   ],
   "metadata": {
    "collapsed": false,
    "pycharm": {
     "name": "#%%\n"
    }
   }
  },
  {
   "cell_type": "code",
   "execution_count": null,
   "outputs": [],
   "source": [
    "asd.predictability_plot(diref_datas_dict,\n",
    "                        list(diref_datas_dict.keys())[0],\n",
    "                        refined_plot=True,\n",
    "                        #refined_input_datas_dict=datas_dict,\n",
    "                        plot_along=[\"init\"#, \"linear\", \"mean\",\n",
    "                                    ]\n",
    "                        )"
   ],
   "metadata": {
    "collapsed": false,
    "pycharm": {
     "name": "#%%\n"
    }
   }
  },
  {
   "cell_type": "code",
   "execution_count": null,
   "outputs": [],
   "source": [
    "pd.DataFrame.from_dict(diref_metrics_dict).transpose()"
   ],
   "metadata": {
    "collapsed": false,
    "pycharm": {
     "name": "#%%\n"
    }
   }
  },
  {
   "cell_type": "code",
   "execution_count": null,
   "outputs": [],
   "source": [],
   "metadata": {
    "collapsed": false,
    "pycharm": {
     "name": "#%%\n"
    }
   }
  },
  {
   "cell_type": "code",
   "execution_count": null,
   "outputs": [],
   "source": [
    "asd.predictability_plot(refined_datas_dict,\n",
    "                        list(refined_datas_dict.keys())[0],\n",
    "                        refined_plot=True,\n",
    "                        refined_input_datas_dict=datas_dict,\n",
    "                        plot_along=[#\"linear\", \"mean\",\n",
    "                                    \"init\"]\n",
    "                        )"
   ],
   "metadata": {
    "collapsed": false,
    "pycharm": {
     "name": "#%%\n",
     "is_executing": true
    }
   }
  },
  {
   "cell_type": "code",
   "execution_count": 24,
   "outputs": [],
   "source": [],
   "metadata": {
    "collapsed": false,
    "pycharm": {
     "name": "#%%\n"
    }
   }
  },
  {
   "cell_type": "markdown",
   "source": [
    "## Predictability w direct refined run"
   ],
   "metadata": {
    "collapsed": false,
    "pycharm": {
     "name": "#%% md\n"
    }
   }
  },
  {
   "cell_type": "code",
   "execution_count": null,
   "outputs": [],
   "source": [
    "diref_metrics_dict, diref_datas_dict = asd.run_predictability(data=data,\n",
    "                                          input_cols=1,\n",
    "                                          output_cols=1,\n",
    "                                          col_set=None,\n",
    "                                          targets=[\"sinx\", \"randomy\", \"sinx_plus1\"],\n",
    "                                          method=\"kNN\",\n",
    "                                          random_state_split=None,\n",
    "                                          refined_n_best=1,\n",
    "                                          )"
   ],
   "metadata": {
    "collapsed": false,
    "pycharm": {
     "name": "#%%\n",
     "is_executing": true
    }
   }
  },
  {
   "cell_type": "code",
   "execution_count": 8,
   "outputs": [
    {
     "data": {
      "application/vnd.plotly.v1+json": {
       "data": [
        {
         "mode": "markers",
         "name": "init preds vs trues",
         "opacity": 0.8,
         "x": [
          -0.529836140908493,
          0.116549204850494,
          0.973847630878195,
          -0.255541102026832,
          -0.271760626410944,
          0.85459890808828,
          0.42737988023383,
          0.675463180551151,
          0.998941341839772,
          -0.182162504272095,
          0.98544972998846,
          0.319098362349352,
          0.662969230082182,
          0.404849920616598,
          0.967919672031487,
          0.850436620628565,
          -0.442520443294852,
          0.891207360061435,
          0.198669330795061,
          0.311541363513379,
          -0.611857890942719,
          0.141120008059867,
          0.222889914100246,
          -0.925814682327732,
          -0.832267442223901,
          -0.366479129251928,
          -0.883454655720153,
          0.334988150155905,
          -0.982452612624332,
          0.940730556679772
         ],
         "y": [
          -0.5984506273938407,
          0.04961482858488973,
          0.949087441655188,
          -0.1889676884201497,
          -0.23567126515337045,
          0.811685348084632,
          0.45107428171313435,
          0.6198929093673804,
          0.9920232752916623,
          -0.1152303335106906,
          0.964364085996158,
          0.34586458840223466,
          0.6067783824079199,
          0.42922436787154133,
          0.9749038520087813,
          0.8767919788118396,
          -0.3987650270056144,
          0.9123560853974383,
          0.26159065520560604,
          0.24201574657025818,
          -0.5984506273938406,
          0.07415194940656414,
          0.1871161114007256,
          -0.9092844570183224,
          -0.8124096959298394,
          -0.3919612619625574,
          -0.8124096959298394,
          0.26544378782291217,
          -0.9850040470210271,
          0.9538066304082536
         ],
         "type": "scatter",
         "xaxis": "x",
         "yaxis": "y"
        },
        {
         "mode": "markers",
         "name": "refASD preds vs trues",
         "opacity": 0.8,
         "x": [
          -0.529836140908493,
          0.116549204850494,
          0.973847630878195,
          -0.255541102026832,
          -0.271760626410944,
          0.85459890808828,
          0.42737988023383,
          0.675463180551151,
          0.998941341839772,
          -0.182162504272095,
          0.98544972998846,
          0.319098362349352,
          0.662969230082182,
          0.404849920616598,
          0.967919672031487,
          0.850436620628565,
          -0.442520443294852,
          0.891207360061435,
          0.198669330795061,
          0.311541363513379,
          -0.611857890942719,
          0.141120008059867,
          0.222889914100246,
          -0.925814682327732,
          -0.832267442223901,
          -0.366479129251928,
          -0.883454655720153,
          0.334988150155905,
          -0.982452612624332,
          0.940730556679772
         ],
         "y": [
          -0.5786566439045798,
          0.07615567486536745,
          0.9751006798642539,
          -0.21508639741866356,
          -0.22033514417077324,
          0.827142998126736,
          0.4671810542402168,
          0.6993702232761889,
          0.9891385989682121,
          -0.21977729337261573,
          0.9708290860019443,
          0.3624280626121153,
          0.687423138831048,
          0.44544661368830807,
          0.9502089034230209,
          0.8645503792192598,
          -0.3795723072792165,
          0.9021156653934875,
          0.23602511778499727,
          0.3572672282471935,
          -0.6453246269460788,
          0.10065716797339298,
          0.17145068942730937,
          -0.9291403840762489,
          -0.7882778592157614,
          -0.40835491991574824,
          -0.82576836722477,
          0.37990403445056337,
          -0.9820202049124122,
          0.946696307165228
         ],
         "type": "scatter",
         "xaxis": "x",
         "yaxis": "y"
        },
        {
         "mode": "markers",
         "name": "pred. error init",
         "opacity": 0.6,
         "x": [
          -0.06861448648534774,
          -0.06693437626560428,
          -0.024760189223007045,
          0.06657341360668231,
          0.03608936125757356,
          -0.04291356000364799,
          0.02369440147930435,
          -0.05557027118377056,
          -0.006918066548109669,
          0.06693217076140438,
          -0.02108564399230206,
          0.026766226052882647,
          -0.05619084767426208,
          0.02437444725494331,
          0.00698417997729428,
          0.026355358183274613,
          0.043755416289237625,
          0.021148725336003316,
          0.06292132441054504,
          -0.06952561694312084,
          0.013407263548878445,
          -0.06696805865330285,
          -0.03577380269952041,
          0.01653022530940962,
          0.019857746294061673,
          -0.02548213271062938,
          0.07104495979031367,
          -0.06954436233299283,
          -0.0025514343966950292,
          0.01307607372848163
         ],
         "y": [
          -0.5984506273938407,
          0.04961482858488973,
          0.949087441655188,
          -0.1889676884201497,
          -0.23567126515337045,
          0.811685348084632,
          0.45107428171313435,
          0.6198929093673804,
          0.9920232752916623,
          -0.1152303335106906,
          0.964364085996158,
          0.34586458840223466,
          0.6067783824079199,
          0.42922436787154133,
          0.9749038520087813,
          0.8767919788118396,
          -0.3987650270056144,
          0.9123560853974383,
          0.26159065520560604,
          0.24201574657025818,
          -0.5984506273938406,
          0.07415194940656414,
          0.1871161114007256,
          -0.9092844570183224,
          -0.8124096959298394,
          -0.3919612619625574,
          -0.8124096959298394,
          0.26544378782291217,
          -0.9850040470210271,
          0.9538066304082536
         ],
         "type": "scatter",
         "xaxis": "x2",
         "yaxis": "y2"
        },
        {
         "marker": {
          "color": "Maroon"
         },
         "mode": "markers",
         "name": "pred. error refASD",
         "opacity": 0.6,
         "x": [
          -0.04882050299608687,
          -0.04039352998512655,
          0.0012530489860588245,
          0.04045470460816844,
          0.05142548224017077,
          -0.02745590996154401,
          0.039801174006386775,
          0.023907042725037964,
          -0.00980274287155991,
          -0.03761478910052074,
          -0.014620643986515747,
          0.04332970026276328,
          0.024453908748865993,
          0.040596693071710044,
          -0.0177107686084661,
          0.014113758590694858,
          0.06294813601563554,
          0.01090830533205256,
          0.037355786989936274,
          0.04572586473381446,
          -0.03346673600335981,
          -0.04046284008647401,
          -0.05143922467293663,
          -0.003325701748516874,
          0.0439895830081396,
          -0.041875790663820245,
          0.05768628849538304,
          0.04491588429465837,
          4.324077119198799E-4,
          0.005965750485456001
         ],
         "y": [
          -0.5786566439045798,
          0.07615567486536745,
          0.9751006798642539,
          -0.21508639741866356,
          -0.22033514417077324,
          0.827142998126736,
          0.4671810542402168,
          0.6993702232761889,
          0.9891385989682121,
          -0.21977729337261573,
          0.9708290860019443,
          0.3624280626121153,
          0.687423138831048,
          0.44544661368830807,
          0.9502089034230209,
          0.8645503792192598,
          -0.3795723072792165,
          0.9021156653934875,
          0.23602511778499727,
          0.3572672282471935,
          -0.6453246269460788,
          0.10065716797339298,
          0.17145068942730937,
          -0.9291403840762489,
          -0.7882778592157614,
          -0.40835491991574824,
          -0.82576836722477,
          0.37990403445056337,
          -0.9820202049124122,
          0.946696307165228
         ],
         "type": "scatter",
         "xaxis": "x2",
         "yaxis": "y2"
        },
        {
         "name": "pred. error init",
         "nbinsx": 3,
         "y": [
          -0.06861448648534774,
          -0.06693437626560428,
          -0.024760189223007045,
          0.06657341360668231,
          0.03608936125757356,
          -0.04291356000364799,
          0.02369440147930435,
          -0.05557027118377056,
          -0.006918066548109669,
          0.06693217076140438,
          -0.02108564399230206,
          0.026766226052882647,
          -0.05619084767426208,
          0.02437444725494331,
          0.00698417997729428,
          0.026355358183274613,
          0.043755416289237625,
          0.021148725336003316,
          0.06292132441054504,
          -0.06952561694312084,
          0.013407263548878445,
          -0.06696805865330285,
          -0.03577380269952041,
          0.01653022530940962,
          0.019857746294061673,
          -0.02548213271062938,
          0.07104495979031367,
          -0.06954436233299283,
          -0.0025514343966950292,
          0.01307607372848163
         ],
         "type": "histogram",
         "xaxis": "x3",
         "yaxis": "y3"
        },
        {
         "name": "pred. error refASD",
         "nbinsx": 3,
         "y": [
          -0.04882050299608687,
          -0.04039352998512655,
          0.0012530489860588245,
          0.04045470460816844,
          0.05142548224017077,
          -0.02745590996154401,
          0.039801174006386775,
          0.023907042725037964,
          -0.00980274287155991,
          -0.03761478910052074,
          -0.014620643986515747,
          0.04332970026276328,
          0.024453908748865993,
          0.040596693071710044,
          -0.0177107686084661,
          0.014113758590694858,
          0.06294813601563554,
          0.01090830533205256,
          0.037355786989936274,
          0.04572586473381446,
          -0.03346673600335981,
          -0.04046284008647401,
          -0.05143922467293663,
          -0.003325701748516874,
          0.0439895830081396,
          -0.041875790663820245,
          0.05768628849538304,
          0.04491588429465837,
          4.324077119198799E-4,
          0.005965750485456001
         ],
         "type": "histogram",
         "xaxis": "x3",
         "yaxis": "y3"
        }
       ],
       "layout": {
        "template": {
         "data": {
          "histogram2dcontour": [
           {
            "type": "histogram2dcontour",
            "colorbar": {
             "outlinewidth": 0,
             "ticks": ""
            },
            "colorscale": [
             [
              0.0,
              "#0d0887"
             ],
             [
              0.1111111111111111,
              "#46039f"
             ],
             [
              0.2222222222222222,
              "#7201a8"
             ],
             [
              0.3333333333333333,
              "#9c179e"
             ],
             [
              0.4444444444444444,
              "#bd3786"
             ],
             [
              0.5555555555555556,
              "#d8576b"
             ],
             [
              0.6666666666666666,
              "#ed7953"
             ],
             [
              0.7777777777777778,
              "#fb9f3a"
             ],
             [
              0.8888888888888888,
              "#fdca26"
             ],
             [
              1.0,
              "#f0f921"
             ]
            ]
           }
          ],
          "choropleth": [
           {
            "type": "choropleth",
            "colorbar": {
             "outlinewidth": 0,
             "ticks": ""
            }
           }
          ],
          "histogram2d": [
           {
            "type": "histogram2d",
            "colorbar": {
             "outlinewidth": 0,
             "ticks": ""
            },
            "colorscale": [
             [
              0.0,
              "#0d0887"
             ],
             [
              0.1111111111111111,
              "#46039f"
             ],
             [
              0.2222222222222222,
              "#7201a8"
             ],
             [
              0.3333333333333333,
              "#9c179e"
             ],
             [
              0.4444444444444444,
              "#bd3786"
             ],
             [
              0.5555555555555556,
              "#d8576b"
             ],
             [
              0.6666666666666666,
              "#ed7953"
             ],
             [
              0.7777777777777778,
              "#fb9f3a"
             ],
             [
              0.8888888888888888,
              "#fdca26"
             ],
             [
              1.0,
              "#f0f921"
             ]
            ]
           }
          ],
          "heatmap": [
           {
            "type": "heatmap",
            "colorbar": {
             "outlinewidth": 0,
             "ticks": ""
            },
            "colorscale": [
             [
              0.0,
              "#0d0887"
             ],
             [
              0.1111111111111111,
              "#46039f"
             ],
             [
              0.2222222222222222,
              "#7201a8"
             ],
             [
              0.3333333333333333,
              "#9c179e"
             ],
             [
              0.4444444444444444,
              "#bd3786"
             ],
             [
              0.5555555555555556,
              "#d8576b"
             ],
             [
              0.6666666666666666,
              "#ed7953"
             ],
             [
              0.7777777777777778,
              "#fb9f3a"
             ],
             [
              0.8888888888888888,
              "#fdca26"
             ],
             [
              1.0,
              "#f0f921"
             ]
            ]
           }
          ],
          "heatmapgl": [
           {
            "type": "heatmapgl",
            "colorbar": {
             "outlinewidth": 0,
             "ticks": ""
            },
            "colorscale": [
             [
              0.0,
              "#0d0887"
             ],
             [
              0.1111111111111111,
              "#46039f"
             ],
             [
              0.2222222222222222,
              "#7201a8"
             ],
             [
              0.3333333333333333,
              "#9c179e"
             ],
             [
              0.4444444444444444,
              "#bd3786"
             ],
             [
              0.5555555555555556,
              "#d8576b"
             ],
             [
              0.6666666666666666,
              "#ed7953"
             ],
             [
              0.7777777777777778,
              "#fb9f3a"
             ],
             [
              0.8888888888888888,
              "#fdca26"
             ],
             [
              1.0,
              "#f0f921"
             ]
            ]
           }
          ],
          "contourcarpet": [
           {
            "type": "contourcarpet",
            "colorbar": {
             "outlinewidth": 0,
             "ticks": ""
            }
           }
          ],
          "contour": [
           {
            "type": "contour",
            "colorbar": {
             "outlinewidth": 0,
             "ticks": ""
            },
            "colorscale": [
             [
              0.0,
              "#0d0887"
             ],
             [
              0.1111111111111111,
              "#46039f"
             ],
             [
              0.2222222222222222,
              "#7201a8"
             ],
             [
              0.3333333333333333,
              "#9c179e"
             ],
             [
              0.4444444444444444,
              "#bd3786"
             ],
             [
              0.5555555555555556,
              "#d8576b"
             ],
             [
              0.6666666666666666,
              "#ed7953"
             ],
             [
              0.7777777777777778,
              "#fb9f3a"
             ],
             [
              0.8888888888888888,
              "#fdca26"
             ],
             [
              1.0,
              "#f0f921"
             ]
            ]
           }
          ],
          "surface": [
           {
            "type": "surface",
            "colorbar": {
             "outlinewidth": 0,
             "ticks": ""
            },
            "colorscale": [
             [
              0.0,
              "#0d0887"
             ],
             [
              0.1111111111111111,
              "#46039f"
             ],
             [
              0.2222222222222222,
              "#7201a8"
             ],
             [
              0.3333333333333333,
              "#9c179e"
             ],
             [
              0.4444444444444444,
              "#bd3786"
             ],
             [
              0.5555555555555556,
              "#d8576b"
             ],
             [
              0.6666666666666666,
              "#ed7953"
             ],
             [
              0.7777777777777778,
              "#fb9f3a"
             ],
             [
              0.8888888888888888,
              "#fdca26"
             ],
             [
              1.0,
              "#f0f921"
             ]
            ]
           }
          ],
          "mesh3d": [
           {
            "type": "mesh3d",
            "colorbar": {
             "outlinewidth": 0,
             "ticks": ""
            }
           }
          ],
          "scatter": [
           {
            "fillpattern": {
             "fillmode": "overlay",
             "size": 10,
             "solidity": 0.2
            },
            "type": "scatter"
           }
          ],
          "parcoords": [
           {
            "type": "parcoords",
            "line": {
             "colorbar": {
              "outlinewidth": 0,
              "ticks": ""
             }
            }
           }
          ],
          "scatterpolargl": [
           {
            "type": "scatterpolargl",
            "marker": {
             "colorbar": {
              "outlinewidth": 0,
              "ticks": ""
             }
            }
           }
          ],
          "bar": [
           {
            "error_x": {
             "color": "#2a3f5f"
            },
            "error_y": {
             "color": "#2a3f5f"
            },
            "marker": {
             "line": {
              "color": "#E5ECF6",
              "width": 0.5
             },
             "pattern": {
              "fillmode": "overlay",
              "size": 10,
              "solidity": 0.2
             }
            },
            "type": "bar"
           }
          ],
          "scattergeo": [
           {
            "type": "scattergeo",
            "marker": {
             "colorbar": {
              "outlinewidth": 0,
              "ticks": ""
             }
            }
           }
          ],
          "scatterpolar": [
           {
            "type": "scatterpolar",
            "marker": {
             "colorbar": {
              "outlinewidth": 0,
              "ticks": ""
             }
            }
           }
          ],
          "histogram": [
           {
            "marker": {
             "pattern": {
              "fillmode": "overlay",
              "size": 10,
              "solidity": 0.2
             }
            },
            "type": "histogram"
           }
          ],
          "scattergl": [
           {
            "type": "scattergl",
            "marker": {
             "colorbar": {
              "outlinewidth": 0,
              "ticks": ""
             }
            }
           }
          ],
          "scatter3d": [
           {
            "type": "scatter3d",
            "line": {
             "colorbar": {
              "outlinewidth": 0,
              "ticks": ""
             }
            },
            "marker": {
             "colorbar": {
              "outlinewidth": 0,
              "ticks": ""
             }
            }
           }
          ],
          "scattermapbox": [
           {
            "type": "scattermapbox",
            "marker": {
             "colorbar": {
              "outlinewidth": 0,
              "ticks": ""
             }
            }
           }
          ],
          "scatterternary": [
           {
            "type": "scatterternary",
            "marker": {
             "colorbar": {
              "outlinewidth": 0,
              "ticks": ""
             }
            }
           }
          ],
          "scattercarpet": [
           {
            "type": "scattercarpet",
            "marker": {
             "colorbar": {
              "outlinewidth": 0,
              "ticks": ""
             }
            }
           }
          ],
          "carpet": [
           {
            "aaxis": {
             "endlinecolor": "#2a3f5f",
             "gridcolor": "white",
             "linecolor": "white",
             "minorgridcolor": "white",
             "startlinecolor": "#2a3f5f"
            },
            "baxis": {
             "endlinecolor": "#2a3f5f",
             "gridcolor": "white",
             "linecolor": "white",
             "minorgridcolor": "white",
             "startlinecolor": "#2a3f5f"
            },
            "type": "carpet"
           }
          ],
          "table": [
           {
            "cells": {
             "fill": {
              "color": "#EBF0F8"
             },
             "line": {
              "color": "white"
             }
            },
            "header": {
             "fill": {
              "color": "#C8D4E3"
             },
             "line": {
              "color": "white"
             }
            },
            "type": "table"
           }
          ],
          "barpolar": [
           {
            "marker": {
             "line": {
              "color": "#E5ECF6",
              "width": 0.5
             },
             "pattern": {
              "fillmode": "overlay",
              "size": 10,
              "solidity": 0.2
             }
            },
            "type": "barpolar"
           }
          ],
          "pie": [
           {
            "automargin": true,
            "type": "pie"
           }
          ]
         },
         "layout": {
          "autotypenumbers": "strict",
          "colorway": [
           "#636efa",
           "#EF553B",
           "#00cc96",
           "#ab63fa",
           "#FFA15A",
           "#19d3f3",
           "#FF6692",
           "#B6E880",
           "#FF97FF",
           "#FECB52"
          ],
          "font": {
           "color": "#2a3f5f"
          },
          "hovermode": "closest",
          "hoverlabel": {
           "align": "left"
          },
          "paper_bgcolor": "white",
          "plot_bgcolor": "#E5ECF6",
          "polar": {
           "bgcolor": "#E5ECF6",
           "angularaxis": {
            "gridcolor": "white",
            "linecolor": "white",
            "ticks": ""
           },
           "radialaxis": {
            "gridcolor": "white",
            "linecolor": "white",
            "ticks": ""
           }
          },
          "ternary": {
           "bgcolor": "#E5ECF6",
           "aaxis": {
            "gridcolor": "white",
            "linecolor": "white",
            "ticks": ""
           },
           "baxis": {
            "gridcolor": "white",
            "linecolor": "white",
            "ticks": ""
           },
           "caxis": {
            "gridcolor": "white",
            "linecolor": "white",
            "ticks": ""
           }
          },
          "coloraxis": {
           "colorbar": {
            "outlinewidth": 0,
            "ticks": ""
           }
          },
          "colorscale": {
           "sequential": [
            [
             0.0,
             "#0d0887"
            ],
            [
             0.1111111111111111,
             "#46039f"
            ],
            [
             0.2222222222222222,
             "#7201a8"
            ],
            [
             0.3333333333333333,
             "#9c179e"
            ],
            [
             0.4444444444444444,
             "#bd3786"
            ],
            [
             0.5555555555555556,
             "#d8576b"
            ],
            [
             0.6666666666666666,
             "#ed7953"
            ],
            [
             0.7777777777777778,
             "#fb9f3a"
            ],
            [
             0.8888888888888888,
             "#fdca26"
            ],
            [
             1.0,
             "#f0f921"
            ]
           ],
           "sequentialminus": [
            [
             0.0,
             "#0d0887"
            ],
            [
             0.1111111111111111,
             "#46039f"
            ],
            [
             0.2222222222222222,
             "#7201a8"
            ],
            [
             0.3333333333333333,
             "#9c179e"
            ],
            [
             0.4444444444444444,
             "#bd3786"
            ],
            [
             0.5555555555555556,
             "#d8576b"
            ],
            [
             0.6666666666666666,
             "#ed7953"
            ],
            [
             0.7777777777777778,
             "#fb9f3a"
            ],
            [
             0.8888888888888888,
             "#fdca26"
            ],
            [
             1.0,
             "#f0f921"
            ]
           ],
           "diverging": [
            [
             0,
             "#8e0152"
            ],
            [
             0.1,
             "#c51b7d"
            ],
            [
             0.2,
             "#de77ae"
            ],
            [
             0.3,
             "#f1b6da"
            ],
            [
             0.4,
             "#fde0ef"
            ],
            [
             0.5,
             "#f7f7f7"
            ],
            [
             0.6,
             "#e6f5d0"
            ],
            [
             0.7,
             "#b8e186"
            ],
            [
             0.8,
             "#7fbc41"
            ],
            [
             0.9,
             "#4d9221"
            ],
            [
             1,
             "#276419"
            ]
           ]
          },
          "xaxis": {
           "gridcolor": "white",
           "linecolor": "white",
           "ticks": "",
           "title": {
            "standoff": 15
           },
           "zerolinecolor": "white",
           "automargin": true,
           "zerolinewidth": 2
          },
          "yaxis": {
           "gridcolor": "white",
           "linecolor": "white",
           "ticks": "",
           "title": {
            "standoff": 15
           },
           "zerolinecolor": "white",
           "automargin": true,
           "zerolinewidth": 2
          },
          "scene": {
           "xaxis": {
            "backgroundcolor": "#E5ECF6",
            "gridcolor": "white",
            "linecolor": "white",
            "showbackground": true,
            "ticks": "",
            "zerolinecolor": "white",
            "gridwidth": 2
           },
           "yaxis": {
            "backgroundcolor": "#E5ECF6",
            "gridcolor": "white",
            "linecolor": "white",
            "showbackground": true,
            "ticks": "",
            "zerolinecolor": "white",
            "gridwidth": 2
           },
           "zaxis": {
            "backgroundcolor": "#E5ECF6",
            "gridcolor": "white",
            "linecolor": "white",
            "showbackground": true,
            "ticks": "",
            "zerolinecolor": "white",
            "gridwidth": 2
           }
          },
          "shapedefaults": {
           "line": {
            "color": "#2a3f5f"
           }
          },
          "annotationdefaults": {
           "arrowcolor": "#2a3f5f",
           "arrowhead": 0,
           "arrowwidth": 1
          },
          "geo": {
           "bgcolor": "white",
           "landcolor": "#E5ECF6",
           "subunitcolor": "white",
           "showland": true,
           "showlakes": true,
           "lakecolor": "white"
          },
          "title": {
           "x": 0.05
          },
          "mapbox": {
           "style": "light"
          }
         }
        },
        "xaxis": {
         "anchor": "y",
         "domain": [
          0.0,
          0.48999999999999994
         ],
         "title": {
          "text": "true"
         }
        },
        "yaxis": {
         "anchor": "x",
         "domain": [
          0.0,
          1.0
         ],
         "title": {
          "text": "pred"
         }
        },
        "xaxis2": {
         "anchor": "y2",
         "domain": [
          0.6399999999999999,
          0.7449999999999999
         ],
         "title": {
          "text": "pred-true"
         }
        },
        "yaxis2": {
         "anchor": "x2",
         "domain": [
          0.0,
          1.0
         ],
         "title": {
          "text": "pred"
         },
         "matches": "y"
        },
        "xaxis3": {
         "anchor": "y3",
         "domain": [
          0.895,
          1.0
         ],
         "title": {
          "text": "freq"
         }
        },
        "yaxis3": {
         "anchor": "x3",
         "domain": [
          0.0,
          1.0
         ],
         "title": {
          "text": "pred-true"
         }
        },
        "title": {
         "text": "('lin_x', 'sinx')"
        },
        "width": 950,
        "height": 555
       },
       "config": {
        "plotlyServerURL": "https://plot.ly"
       }
      },
      "text/html": "<div>                            <div id=\"bf18809b-5e5d-44a2-a820-437fd8bac6ea\" class=\"plotly-graph-div\" style=\"height:555px; width:950px;\"></div>            <script type=\"text/javascript\">                require([\"plotly\"], function(Plotly) {                    window.PLOTLYENV=window.PLOTLYENV || {};                                    if (document.getElementById(\"bf18809b-5e5d-44a2-a820-437fd8bac6ea\")) {                    Plotly.newPlot(                        \"bf18809b-5e5d-44a2-a820-437fd8bac6ea\",                        [{\"mode\":\"markers\",\"name\":\"init preds vs trues\",\"opacity\":0.8,\"x\":[-0.529836140908493,0.116549204850494,0.973847630878195,-0.255541102026832,-0.271760626410944,0.85459890808828,0.42737988023383,0.675463180551151,0.998941341839772,-0.182162504272095,0.98544972998846,0.319098362349352,0.662969230082182,0.404849920616598,0.967919672031487,0.850436620628565,-0.442520443294852,0.891207360061435,0.198669330795061,0.311541363513379,-0.611857890942719,0.141120008059867,0.222889914100246,-0.925814682327732,-0.832267442223901,-0.366479129251928,-0.883454655720153,0.334988150155905,-0.982452612624332,0.940730556679772],\"y\":[-0.5984506273938407,0.04961482858488973,0.949087441655188,-0.1889676884201497,-0.23567126515337045,0.811685348084632,0.45107428171313435,0.6198929093673804,0.9920232752916623,-0.1152303335106906,0.964364085996158,0.34586458840223466,0.6067783824079199,0.42922436787154133,0.9749038520087813,0.8767919788118396,-0.3987650270056144,0.9123560853974383,0.26159065520560604,0.24201574657025818,-0.5984506273938406,0.07415194940656414,0.1871161114007256,-0.9092844570183224,-0.8124096959298394,-0.3919612619625574,-0.8124096959298394,0.26544378782291217,-0.9850040470210271,0.9538066304082536],\"type\":\"scatter\",\"xaxis\":\"x\",\"yaxis\":\"y\"},{\"mode\":\"markers\",\"name\":\"refASD preds vs trues\",\"opacity\":0.8,\"x\":[-0.529836140908493,0.116549204850494,0.973847630878195,-0.255541102026832,-0.271760626410944,0.85459890808828,0.42737988023383,0.675463180551151,0.998941341839772,-0.182162504272095,0.98544972998846,0.319098362349352,0.662969230082182,0.404849920616598,0.967919672031487,0.850436620628565,-0.442520443294852,0.891207360061435,0.198669330795061,0.311541363513379,-0.611857890942719,0.141120008059867,0.222889914100246,-0.925814682327732,-0.832267442223901,-0.366479129251928,-0.883454655720153,0.334988150155905,-0.982452612624332,0.940730556679772],\"y\":[-0.5786566439045798,0.07615567486536745,0.9751006798642539,-0.21508639741866356,-0.22033514417077324,0.827142998126736,0.4671810542402168,0.6993702232761889,0.9891385989682121,-0.21977729337261573,0.9708290860019443,0.3624280626121153,0.687423138831048,0.44544661368830807,0.9502089034230209,0.8645503792192598,-0.3795723072792165,0.9021156653934875,0.23602511778499727,0.3572672282471935,-0.6453246269460788,0.10065716797339298,0.17145068942730937,-0.9291403840762489,-0.7882778592157614,-0.40835491991574824,-0.82576836722477,0.37990403445056337,-0.9820202049124122,0.946696307165228],\"type\":\"scatter\",\"xaxis\":\"x\",\"yaxis\":\"y\"},{\"mode\":\"markers\",\"name\":\"pred. error init\",\"opacity\":0.6,\"x\":[-0.06861448648534774,-0.06693437626560428,-0.024760189223007045,0.06657341360668231,0.03608936125757356,-0.04291356000364799,0.02369440147930435,-0.05557027118377056,-0.006918066548109669,0.06693217076140438,-0.02108564399230206,0.026766226052882647,-0.05619084767426208,0.02437444725494331,0.00698417997729428,0.026355358183274613,0.043755416289237625,0.021148725336003316,0.06292132441054504,-0.06952561694312084,0.013407263548878445,-0.06696805865330285,-0.03577380269952041,0.01653022530940962,0.019857746294061673,-0.02548213271062938,0.07104495979031367,-0.06954436233299283,-0.0025514343966950292,0.01307607372848163],\"y\":[-0.5984506273938407,0.04961482858488973,0.949087441655188,-0.1889676884201497,-0.23567126515337045,0.811685348084632,0.45107428171313435,0.6198929093673804,0.9920232752916623,-0.1152303335106906,0.964364085996158,0.34586458840223466,0.6067783824079199,0.42922436787154133,0.9749038520087813,0.8767919788118396,-0.3987650270056144,0.9123560853974383,0.26159065520560604,0.24201574657025818,-0.5984506273938406,0.07415194940656414,0.1871161114007256,-0.9092844570183224,-0.8124096959298394,-0.3919612619625574,-0.8124096959298394,0.26544378782291217,-0.9850040470210271,0.9538066304082536],\"type\":\"scatter\",\"xaxis\":\"x2\",\"yaxis\":\"y2\"},{\"marker\":{\"color\":\"Maroon\"},\"mode\":\"markers\",\"name\":\"pred. error refASD\",\"opacity\":0.6,\"x\":[-0.04882050299608687,-0.04039352998512655,0.0012530489860588245,0.04045470460816844,0.05142548224017077,-0.02745590996154401,0.039801174006386775,0.023907042725037964,-0.00980274287155991,-0.03761478910052074,-0.014620643986515747,0.04332970026276328,0.024453908748865993,0.040596693071710044,-0.0177107686084661,0.014113758590694858,0.06294813601563554,0.01090830533205256,0.037355786989936274,0.04572586473381446,-0.03346673600335981,-0.04046284008647401,-0.05143922467293663,-0.003325701748516874,0.0439895830081396,-0.041875790663820245,0.05768628849538304,0.04491588429465837,0.0004324077119198799,0.005965750485456001],\"y\":[-0.5786566439045798,0.07615567486536745,0.9751006798642539,-0.21508639741866356,-0.22033514417077324,0.827142998126736,0.4671810542402168,0.6993702232761889,0.9891385989682121,-0.21977729337261573,0.9708290860019443,0.3624280626121153,0.687423138831048,0.44544661368830807,0.9502089034230209,0.8645503792192598,-0.3795723072792165,0.9021156653934875,0.23602511778499727,0.3572672282471935,-0.6453246269460788,0.10065716797339298,0.17145068942730937,-0.9291403840762489,-0.7882778592157614,-0.40835491991574824,-0.82576836722477,0.37990403445056337,-0.9820202049124122,0.946696307165228],\"type\":\"scatter\",\"xaxis\":\"x2\",\"yaxis\":\"y2\"},{\"name\":\"pred. error init\",\"nbinsx\":3,\"y\":[-0.06861448648534774,-0.06693437626560428,-0.024760189223007045,0.06657341360668231,0.03608936125757356,-0.04291356000364799,0.02369440147930435,-0.05557027118377056,-0.006918066548109669,0.06693217076140438,-0.02108564399230206,0.026766226052882647,-0.05619084767426208,0.02437444725494331,0.00698417997729428,0.026355358183274613,0.043755416289237625,0.021148725336003316,0.06292132441054504,-0.06952561694312084,0.013407263548878445,-0.06696805865330285,-0.03577380269952041,0.01653022530940962,0.019857746294061673,-0.02548213271062938,0.07104495979031367,-0.06954436233299283,-0.0025514343966950292,0.01307607372848163],\"type\":\"histogram\",\"xaxis\":\"x3\",\"yaxis\":\"y3\"},{\"name\":\"pred. error refASD\",\"nbinsx\":3,\"y\":[-0.04882050299608687,-0.04039352998512655,0.0012530489860588245,0.04045470460816844,0.05142548224017077,-0.02745590996154401,0.039801174006386775,0.023907042725037964,-0.00980274287155991,-0.03761478910052074,-0.014620643986515747,0.04332970026276328,0.024453908748865993,0.040596693071710044,-0.0177107686084661,0.014113758590694858,0.06294813601563554,0.01090830533205256,0.037355786989936274,0.04572586473381446,-0.03346673600335981,-0.04046284008647401,-0.05143922467293663,-0.003325701748516874,0.0439895830081396,-0.041875790663820245,0.05768628849538304,0.04491588429465837,0.0004324077119198799,0.005965750485456001],\"type\":\"histogram\",\"xaxis\":\"x3\",\"yaxis\":\"y3\"}],                        {\"template\":{\"data\":{\"histogram2dcontour\":[{\"type\":\"histogram2dcontour\",\"colorbar\":{\"outlinewidth\":0,\"ticks\":\"\"},\"colorscale\":[[0.0,\"#0d0887\"],[0.1111111111111111,\"#46039f\"],[0.2222222222222222,\"#7201a8\"],[0.3333333333333333,\"#9c179e\"],[0.4444444444444444,\"#bd3786\"],[0.5555555555555556,\"#d8576b\"],[0.6666666666666666,\"#ed7953\"],[0.7777777777777778,\"#fb9f3a\"],[0.8888888888888888,\"#fdca26\"],[1.0,\"#f0f921\"]]}],\"choropleth\":[{\"type\":\"choropleth\",\"colorbar\":{\"outlinewidth\":0,\"ticks\":\"\"}}],\"histogram2d\":[{\"type\":\"histogram2d\",\"colorbar\":{\"outlinewidth\":0,\"ticks\":\"\"},\"colorscale\":[[0.0,\"#0d0887\"],[0.1111111111111111,\"#46039f\"],[0.2222222222222222,\"#7201a8\"],[0.3333333333333333,\"#9c179e\"],[0.4444444444444444,\"#bd3786\"],[0.5555555555555556,\"#d8576b\"],[0.6666666666666666,\"#ed7953\"],[0.7777777777777778,\"#fb9f3a\"],[0.8888888888888888,\"#fdca26\"],[1.0,\"#f0f921\"]]}],\"heatmap\":[{\"type\":\"heatmap\",\"colorbar\":{\"outlinewidth\":0,\"ticks\":\"\"},\"colorscale\":[[0.0,\"#0d0887\"],[0.1111111111111111,\"#46039f\"],[0.2222222222222222,\"#7201a8\"],[0.3333333333333333,\"#9c179e\"],[0.4444444444444444,\"#bd3786\"],[0.5555555555555556,\"#d8576b\"],[0.6666666666666666,\"#ed7953\"],[0.7777777777777778,\"#fb9f3a\"],[0.8888888888888888,\"#fdca26\"],[1.0,\"#f0f921\"]]}],\"heatmapgl\":[{\"type\":\"heatmapgl\",\"colorbar\":{\"outlinewidth\":0,\"ticks\":\"\"},\"colorscale\":[[0.0,\"#0d0887\"],[0.1111111111111111,\"#46039f\"],[0.2222222222222222,\"#7201a8\"],[0.3333333333333333,\"#9c179e\"],[0.4444444444444444,\"#bd3786\"],[0.5555555555555556,\"#d8576b\"],[0.6666666666666666,\"#ed7953\"],[0.7777777777777778,\"#fb9f3a\"],[0.8888888888888888,\"#fdca26\"],[1.0,\"#f0f921\"]]}],\"contourcarpet\":[{\"type\":\"contourcarpet\",\"colorbar\":{\"outlinewidth\":0,\"ticks\":\"\"}}],\"contour\":[{\"type\":\"contour\",\"colorbar\":{\"outlinewidth\":0,\"ticks\":\"\"},\"colorscale\":[[0.0,\"#0d0887\"],[0.1111111111111111,\"#46039f\"],[0.2222222222222222,\"#7201a8\"],[0.3333333333333333,\"#9c179e\"],[0.4444444444444444,\"#bd3786\"],[0.5555555555555556,\"#d8576b\"],[0.6666666666666666,\"#ed7953\"],[0.7777777777777778,\"#fb9f3a\"],[0.8888888888888888,\"#fdca26\"],[1.0,\"#f0f921\"]]}],\"surface\":[{\"type\":\"surface\",\"colorbar\":{\"outlinewidth\":0,\"ticks\":\"\"},\"colorscale\":[[0.0,\"#0d0887\"],[0.1111111111111111,\"#46039f\"],[0.2222222222222222,\"#7201a8\"],[0.3333333333333333,\"#9c179e\"],[0.4444444444444444,\"#bd3786\"],[0.5555555555555556,\"#d8576b\"],[0.6666666666666666,\"#ed7953\"],[0.7777777777777778,\"#fb9f3a\"],[0.8888888888888888,\"#fdca26\"],[1.0,\"#f0f921\"]]}],\"mesh3d\":[{\"type\":\"mesh3d\",\"colorbar\":{\"outlinewidth\":0,\"ticks\":\"\"}}],\"scatter\":[{\"fillpattern\":{\"fillmode\":\"overlay\",\"size\":10,\"solidity\":0.2},\"type\":\"scatter\"}],\"parcoords\":[{\"type\":\"parcoords\",\"line\":{\"colorbar\":{\"outlinewidth\":0,\"ticks\":\"\"}}}],\"scatterpolargl\":[{\"type\":\"scatterpolargl\",\"marker\":{\"colorbar\":{\"outlinewidth\":0,\"ticks\":\"\"}}}],\"bar\":[{\"error_x\":{\"color\":\"#2a3f5f\"},\"error_y\":{\"color\":\"#2a3f5f\"},\"marker\":{\"line\":{\"color\":\"#E5ECF6\",\"width\":0.5},\"pattern\":{\"fillmode\":\"overlay\",\"size\":10,\"solidity\":0.2}},\"type\":\"bar\"}],\"scattergeo\":[{\"type\":\"scattergeo\",\"marker\":{\"colorbar\":{\"outlinewidth\":0,\"ticks\":\"\"}}}],\"scatterpolar\":[{\"type\":\"scatterpolar\",\"marker\":{\"colorbar\":{\"outlinewidth\":0,\"ticks\":\"\"}}}],\"histogram\":[{\"marker\":{\"pattern\":{\"fillmode\":\"overlay\",\"size\":10,\"solidity\":0.2}},\"type\":\"histogram\"}],\"scattergl\":[{\"type\":\"scattergl\",\"marker\":{\"colorbar\":{\"outlinewidth\":0,\"ticks\":\"\"}}}],\"scatter3d\":[{\"type\":\"scatter3d\",\"line\":{\"colorbar\":{\"outlinewidth\":0,\"ticks\":\"\"}},\"marker\":{\"colorbar\":{\"outlinewidth\":0,\"ticks\":\"\"}}}],\"scattermapbox\":[{\"type\":\"scattermapbox\",\"marker\":{\"colorbar\":{\"outlinewidth\":0,\"ticks\":\"\"}}}],\"scatterternary\":[{\"type\":\"scatterternary\",\"marker\":{\"colorbar\":{\"outlinewidth\":0,\"ticks\":\"\"}}}],\"scattercarpet\":[{\"type\":\"scattercarpet\",\"marker\":{\"colorbar\":{\"outlinewidth\":0,\"ticks\":\"\"}}}],\"carpet\":[{\"aaxis\":{\"endlinecolor\":\"#2a3f5f\",\"gridcolor\":\"white\",\"linecolor\":\"white\",\"minorgridcolor\":\"white\",\"startlinecolor\":\"#2a3f5f\"},\"baxis\":{\"endlinecolor\":\"#2a3f5f\",\"gridcolor\":\"white\",\"linecolor\":\"white\",\"minorgridcolor\":\"white\",\"startlinecolor\":\"#2a3f5f\"},\"type\":\"carpet\"}],\"table\":[{\"cells\":{\"fill\":{\"color\":\"#EBF0F8\"},\"line\":{\"color\":\"white\"}},\"header\":{\"fill\":{\"color\":\"#C8D4E3\"},\"line\":{\"color\":\"white\"}},\"type\":\"table\"}],\"barpolar\":[{\"marker\":{\"line\":{\"color\":\"#E5ECF6\",\"width\":0.5},\"pattern\":{\"fillmode\":\"overlay\",\"size\":10,\"solidity\":0.2}},\"type\":\"barpolar\"}],\"pie\":[{\"automargin\":true,\"type\":\"pie\"}]},\"layout\":{\"autotypenumbers\":\"strict\",\"colorway\":[\"#636efa\",\"#EF553B\",\"#00cc96\",\"#ab63fa\",\"#FFA15A\",\"#19d3f3\",\"#FF6692\",\"#B6E880\",\"#FF97FF\",\"#FECB52\"],\"font\":{\"color\":\"#2a3f5f\"},\"hovermode\":\"closest\",\"hoverlabel\":{\"align\":\"left\"},\"paper_bgcolor\":\"white\",\"plot_bgcolor\":\"#E5ECF6\",\"polar\":{\"bgcolor\":\"#E5ECF6\",\"angularaxis\":{\"gridcolor\":\"white\",\"linecolor\":\"white\",\"ticks\":\"\"},\"radialaxis\":{\"gridcolor\":\"white\",\"linecolor\":\"white\",\"ticks\":\"\"}},\"ternary\":{\"bgcolor\":\"#E5ECF6\",\"aaxis\":{\"gridcolor\":\"white\",\"linecolor\":\"white\",\"ticks\":\"\"},\"baxis\":{\"gridcolor\":\"white\",\"linecolor\":\"white\",\"ticks\":\"\"},\"caxis\":{\"gridcolor\":\"white\",\"linecolor\":\"white\",\"ticks\":\"\"}},\"coloraxis\":{\"colorbar\":{\"outlinewidth\":0,\"ticks\":\"\"}},\"colorscale\":{\"sequential\":[[0.0,\"#0d0887\"],[0.1111111111111111,\"#46039f\"],[0.2222222222222222,\"#7201a8\"],[0.3333333333333333,\"#9c179e\"],[0.4444444444444444,\"#bd3786\"],[0.5555555555555556,\"#d8576b\"],[0.6666666666666666,\"#ed7953\"],[0.7777777777777778,\"#fb9f3a\"],[0.8888888888888888,\"#fdca26\"],[1.0,\"#f0f921\"]],\"sequentialminus\":[[0.0,\"#0d0887\"],[0.1111111111111111,\"#46039f\"],[0.2222222222222222,\"#7201a8\"],[0.3333333333333333,\"#9c179e\"],[0.4444444444444444,\"#bd3786\"],[0.5555555555555556,\"#d8576b\"],[0.6666666666666666,\"#ed7953\"],[0.7777777777777778,\"#fb9f3a\"],[0.8888888888888888,\"#fdca26\"],[1.0,\"#f0f921\"]],\"diverging\":[[0,\"#8e0152\"],[0.1,\"#c51b7d\"],[0.2,\"#de77ae\"],[0.3,\"#f1b6da\"],[0.4,\"#fde0ef\"],[0.5,\"#f7f7f7\"],[0.6,\"#e6f5d0\"],[0.7,\"#b8e186\"],[0.8,\"#7fbc41\"],[0.9,\"#4d9221\"],[1,\"#276419\"]]},\"xaxis\":{\"gridcolor\":\"white\",\"linecolor\":\"white\",\"ticks\":\"\",\"title\":{\"standoff\":15},\"zerolinecolor\":\"white\",\"automargin\":true,\"zerolinewidth\":2},\"yaxis\":{\"gridcolor\":\"white\",\"linecolor\":\"white\",\"ticks\":\"\",\"title\":{\"standoff\":15},\"zerolinecolor\":\"white\",\"automargin\":true,\"zerolinewidth\":2},\"scene\":{\"xaxis\":{\"backgroundcolor\":\"#E5ECF6\",\"gridcolor\":\"white\",\"linecolor\":\"white\",\"showbackground\":true,\"ticks\":\"\",\"zerolinecolor\":\"white\",\"gridwidth\":2},\"yaxis\":{\"backgroundcolor\":\"#E5ECF6\",\"gridcolor\":\"white\",\"linecolor\":\"white\",\"showbackground\":true,\"ticks\":\"\",\"zerolinecolor\":\"white\",\"gridwidth\":2},\"zaxis\":{\"backgroundcolor\":\"#E5ECF6\",\"gridcolor\":\"white\",\"linecolor\":\"white\",\"showbackground\":true,\"ticks\":\"\",\"zerolinecolor\":\"white\",\"gridwidth\":2}},\"shapedefaults\":{\"line\":{\"color\":\"#2a3f5f\"}},\"annotationdefaults\":{\"arrowcolor\":\"#2a3f5f\",\"arrowhead\":0,\"arrowwidth\":1},\"geo\":{\"bgcolor\":\"white\",\"landcolor\":\"#E5ECF6\",\"subunitcolor\":\"white\",\"showland\":true,\"showlakes\":true,\"lakecolor\":\"white\"},\"title\":{\"x\":0.05},\"mapbox\":{\"style\":\"light\"}}},\"xaxis\":{\"anchor\":\"y\",\"domain\":[0.0,0.48999999999999994],\"title\":{\"text\":\"true\"}},\"yaxis\":{\"anchor\":\"x\",\"domain\":[0.0,1.0],\"title\":{\"text\":\"pred\"}},\"xaxis2\":{\"anchor\":\"y2\",\"domain\":[0.6399999999999999,0.7449999999999999],\"title\":{\"text\":\"pred-true\"}},\"yaxis2\":{\"anchor\":\"x2\",\"domain\":[0.0,1.0],\"title\":{\"text\":\"pred\"},\"matches\":\"y\"},\"xaxis3\":{\"anchor\":\"y3\",\"domain\":[0.895,1.0],\"title\":{\"text\":\"freq\"}},\"yaxis3\":{\"anchor\":\"x3\",\"domain\":[0.0,1.0],\"title\":{\"text\":\"pred-true\"}},\"title\":{\"text\":\"('lin_x', 'sinx')\"},\"width\":950,\"height\":555},                        {\"responsive\": true}                    ).then(function(){\n                            \nvar gd = document.getElementById('bf18809b-5e5d-44a2-a820-437fd8bac6ea');\nvar x = new MutationObserver(function (mutations, observer) {{\n        var display = window.getComputedStyle(gd).display;\n        if (!display || display === 'none') {{\n            console.log([gd, 'removed!']);\n            Plotly.purge(gd);\n            observer.disconnect();\n        }}\n}});\n\n// Listen for the removal of the full notebook cells\nvar notebookContainer = gd.closest('#notebook-container');\nif (notebookContainer) {{\n    x.observe(notebookContainer, {childList: true});\n}}\n\n// Listen for the clearing of the current output cell\nvar outputEl = gd.closest('.output');\nif (outputEl) {{\n    x.observe(outputEl, {childList: true});\n}}\n\n                        })                };                });            </script>        </div>"
     },
     "metadata": {},
     "output_type": "display_data"
    }
   ],
   "source": [
    "asd.predictability_plot(diref_datas_dict,\n",
    "                        list(diref_datas_dict.keys())[0],\n",
    "                        refined_plot=True,\n",
    "                        #refined_input_datas_dict=datas_dict,\n",
    "                        plot_along=[\"init\"#, \"linear\", \"mean\",\n",
    "                                    ]\n",
    "                        )"
   ],
   "metadata": {
    "collapsed": false,
    "pycharm": {
     "name": "#%%\n"
    }
   }
  },
  {
   "cell_type": "code",
   "execution_count": 7,
   "outputs": [
    {
     "data": {
      "text/plain": "                          kNN r2 linear r2 pow. law r2   mean r2  kNN RMSE  \\\nlin_x       sinx        0.995141 -0.020562        None -0.001055  0.044605   \n            randomy     0.022256 -0.004075         NaN  -0.00634  0.617967   \n            sinx_plus1  0.990412 -0.054185   -0.366504 -0.067661  0.061225   \nrand_x      sinx       -0.660264 -0.021725         NaN -0.010156  0.860173   \n            randomy    -0.142981 -0.149405         NaN -0.023304  0.535255   \n            sinx_plus1 -0.126655 -0.066726         NaN -0.001244   0.66203   \nlin_x_plus1 sinx         0.97654 -0.248292         NaN -0.253399  0.093313   \n            randomy    -0.117802 -0.032797         NaN -0.035206  0.661415   \n            sinx_plus1  0.977159 -0.111789   -0.984062 -0.046013  0.092531   \n\n                       linear RMSE pow. law RMSE mean RMSE kNN RMSE/std  \\\nlin_x       sinx           0.64646          None  0.640252     0.069704   \n            randomy       0.626233           NaN  0.626938      0.98881   \n            sinx_plus1    0.641995      0.730934  0.646085     0.097916   \nrand_x      sinx          0.674784           NaN  0.670952     1.288512   \n            randomy       0.536757           NaN  0.506458     1.069103   \n            sinx_plus1    0.644182           NaN  0.624097      1.06144   \nlin_x_plus1 sinx          0.680676           NaN  0.682067     0.153166   \n            randomy       0.635769           NaN   0.63651     1.057261   \n            sinx_plus1    0.645563      0.862393  0.626176     0.151133   \n\n                       linear RMSE/std  ...   mean MAPE   kNN rae linear rae  \\\nlin_x       sinx              1.010229  ...    0.906842  0.070344   1.013917   \n            randomy           1.002036  ...     1.01127   0.97886   0.994079   \n            sinx_plus1        1.026735  ...    3.218067  0.084378   1.018854   \nrand_x      sinx              1.010804  ...    1.147547  1.200781   0.999628   \n            randomy           1.072103  ...    1.117261    1.0888   1.067399   \n            sinx_plus1        1.032824  ...  517.198107  1.055223   1.041813   \nlin_x_plus1 sinx               1.11727  ...    1.915628  0.127478   1.094805   \n            randomy           1.016266  ...    1.021926  1.003721   0.990373   \n            sinx_plus1        1.054414  ...    0.857867  0.132254   1.057068   \n\n                       pow. law rae  mean rae  kNN dcor linear dcor  \\\nlin_x       sinx               None  0.994924  0.996683     0.37989   \n            randomy             NaN  0.993836  0.318714    0.223778   \n            sinx_plus1     1.149817   1.02164  0.993079    0.419273   \nrand_x      sinx                NaN  0.992721  0.199828    0.325765   \n            randomy             NaN  1.021308  0.279583    0.330535   \n            sinx_plus1          NaN  1.005622  0.321271    0.432239   \nlin_x_plus1 sinx                NaN  1.099285  0.985258     0.46326   \n            randomy             NaN  0.989117  0.379206    0.312616   \n            sinx_plus1     1.330046  1.017172  0.989511    0.531361   \n\n                       pow. law dcor mean dcor  \\\nlin_x       sinx                None       0.0   \n            randomy              NaN  0.000212   \n            sinx_plus1      0.417945       0.0   \nrand_x      sinx                 NaN       0.0   \n            randomy              NaN  0.000079   \n            sinx_plus1           NaN  0.000134   \nlin_x_plus1 sinx                 NaN  0.000143   \n            randomy              NaN  0.000244   \n            sinx_plus1      0.581373       0.0   \n\n                                                          refined_metrics  \nlin_x       sinx        {'r2': 0.9967748393334996, 'RMSE': 0.036341041...  \n            randomy                                                   NaN  \n            sinx_plus1                                                NaN  \nrand_x      sinx                                                      NaN  \n            randomy                                                   NaN  \n            sinx_plus1                                                NaN  \nlin_x_plus1 sinx                                                      NaN  \n            randomy                                                   NaN  \n            sinx_plus1                                                NaN  \n\n[9 rows x 25 columns]",
      "text/html": "<div>\n<style scoped>\n    .dataframe tbody tr th:only-of-type {\n        vertical-align: middle;\n    }\n\n    .dataframe tbody tr th {\n        vertical-align: top;\n    }\n\n    .dataframe thead th {\n        text-align: right;\n    }\n</style>\n<table border=\"1\" class=\"dataframe\">\n  <thead>\n    <tr style=\"text-align: right;\">\n      <th></th>\n      <th></th>\n      <th>kNN r2</th>\n      <th>linear r2</th>\n      <th>pow. law r2</th>\n      <th>mean r2</th>\n      <th>kNN RMSE</th>\n      <th>linear RMSE</th>\n      <th>pow. law RMSE</th>\n      <th>mean RMSE</th>\n      <th>kNN RMSE/std</th>\n      <th>linear RMSE/std</th>\n      <th>...</th>\n      <th>mean MAPE</th>\n      <th>kNN rae</th>\n      <th>linear rae</th>\n      <th>pow. law rae</th>\n      <th>mean rae</th>\n      <th>kNN dcor</th>\n      <th>linear dcor</th>\n      <th>pow. law dcor</th>\n      <th>mean dcor</th>\n      <th>refined_metrics</th>\n    </tr>\n  </thead>\n  <tbody>\n    <tr>\n      <th rowspan=\"3\" valign=\"top\">lin_x</th>\n      <th>sinx</th>\n      <td>0.995141</td>\n      <td>-0.020562</td>\n      <td>None</td>\n      <td>-0.001055</td>\n      <td>0.044605</td>\n      <td>0.64646</td>\n      <td>None</td>\n      <td>0.640252</td>\n      <td>0.069704</td>\n      <td>1.010229</td>\n      <td>...</td>\n      <td>0.906842</td>\n      <td>0.070344</td>\n      <td>1.013917</td>\n      <td>None</td>\n      <td>0.994924</td>\n      <td>0.996683</td>\n      <td>0.37989</td>\n      <td>None</td>\n      <td>0.0</td>\n      <td>{'r2': 0.9967748393334996, 'RMSE': 0.036341041...</td>\n    </tr>\n    <tr>\n      <th>randomy</th>\n      <td>0.022256</td>\n      <td>-0.004075</td>\n      <td>NaN</td>\n      <td>-0.00634</td>\n      <td>0.617967</td>\n      <td>0.626233</td>\n      <td>NaN</td>\n      <td>0.626938</td>\n      <td>0.98881</td>\n      <td>1.002036</td>\n      <td>...</td>\n      <td>1.01127</td>\n      <td>0.97886</td>\n      <td>0.994079</td>\n      <td>NaN</td>\n      <td>0.993836</td>\n      <td>0.318714</td>\n      <td>0.223778</td>\n      <td>NaN</td>\n      <td>0.000212</td>\n      <td>NaN</td>\n    </tr>\n    <tr>\n      <th>sinx_plus1</th>\n      <td>0.990412</td>\n      <td>-0.054185</td>\n      <td>-0.366504</td>\n      <td>-0.067661</td>\n      <td>0.061225</td>\n      <td>0.641995</td>\n      <td>0.730934</td>\n      <td>0.646085</td>\n      <td>0.097916</td>\n      <td>1.026735</td>\n      <td>...</td>\n      <td>3.218067</td>\n      <td>0.084378</td>\n      <td>1.018854</td>\n      <td>1.149817</td>\n      <td>1.02164</td>\n      <td>0.993079</td>\n      <td>0.419273</td>\n      <td>0.417945</td>\n      <td>0.0</td>\n      <td>NaN</td>\n    </tr>\n    <tr>\n      <th rowspan=\"3\" valign=\"top\">rand_x</th>\n      <th>sinx</th>\n      <td>-0.660264</td>\n      <td>-0.021725</td>\n      <td>NaN</td>\n      <td>-0.010156</td>\n      <td>0.860173</td>\n      <td>0.674784</td>\n      <td>NaN</td>\n      <td>0.670952</td>\n      <td>1.288512</td>\n      <td>1.010804</td>\n      <td>...</td>\n      <td>1.147547</td>\n      <td>1.200781</td>\n      <td>0.999628</td>\n      <td>NaN</td>\n      <td>0.992721</td>\n      <td>0.199828</td>\n      <td>0.325765</td>\n      <td>NaN</td>\n      <td>0.0</td>\n      <td>NaN</td>\n    </tr>\n    <tr>\n      <th>randomy</th>\n      <td>-0.142981</td>\n      <td>-0.149405</td>\n      <td>NaN</td>\n      <td>-0.023304</td>\n      <td>0.535255</td>\n      <td>0.536757</td>\n      <td>NaN</td>\n      <td>0.506458</td>\n      <td>1.069103</td>\n      <td>1.072103</td>\n      <td>...</td>\n      <td>1.117261</td>\n      <td>1.0888</td>\n      <td>1.067399</td>\n      <td>NaN</td>\n      <td>1.021308</td>\n      <td>0.279583</td>\n      <td>0.330535</td>\n      <td>NaN</td>\n      <td>0.000079</td>\n      <td>NaN</td>\n    </tr>\n    <tr>\n      <th>sinx_plus1</th>\n      <td>-0.126655</td>\n      <td>-0.066726</td>\n      <td>NaN</td>\n      <td>-0.001244</td>\n      <td>0.66203</td>\n      <td>0.644182</td>\n      <td>NaN</td>\n      <td>0.624097</td>\n      <td>1.06144</td>\n      <td>1.032824</td>\n      <td>...</td>\n      <td>517.198107</td>\n      <td>1.055223</td>\n      <td>1.041813</td>\n      <td>NaN</td>\n      <td>1.005622</td>\n      <td>0.321271</td>\n      <td>0.432239</td>\n      <td>NaN</td>\n      <td>0.000134</td>\n      <td>NaN</td>\n    </tr>\n    <tr>\n      <th rowspan=\"3\" valign=\"top\">lin_x_plus1</th>\n      <th>sinx</th>\n      <td>0.97654</td>\n      <td>-0.248292</td>\n      <td>NaN</td>\n      <td>-0.253399</td>\n      <td>0.093313</td>\n      <td>0.680676</td>\n      <td>NaN</td>\n      <td>0.682067</td>\n      <td>0.153166</td>\n      <td>1.11727</td>\n      <td>...</td>\n      <td>1.915628</td>\n      <td>0.127478</td>\n      <td>1.094805</td>\n      <td>NaN</td>\n      <td>1.099285</td>\n      <td>0.985258</td>\n      <td>0.46326</td>\n      <td>NaN</td>\n      <td>0.000143</td>\n      <td>NaN</td>\n    </tr>\n    <tr>\n      <th>randomy</th>\n      <td>-0.117802</td>\n      <td>-0.032797</td>\n      <td>NaN</td>\n      <td>-0.035206</td>\n      <td>0.661415</td>\n      <td>0.635769</td>\n      <td>NaN</td>\n      <td>0.63651</td>\n      <td>1.057261</td>\n      <td>1.016266</td>\n      <td>...</td>\n      <td>1.021926</td>\n      <td>1.003721</td>\n      <td>0.990373</td>\n      <td>NaN</td>\n      <td>0.989117</td>\n      <td>0.379206</td>\n      <td>0.312616</td>\n      <td>NaN</td>\n      <td>0.000244</td>\n      <td>NaN</td>\n    </tr>\n    <tr>\n      <th>sinx_plus1</th>\n      <td>0.977159</td>\n      <td>-0.111789</td>\n      <td>-0.984062</td>\n      <td>-0.046013</td>\n      <td>0.092531</td>\n      <td>0.645563</td>\n      <td>0.862393</td>\n      <td>0.626176</td>\n      <td>0.151133</td>\n      <td>1.054414</td>\n      <td>...</td>\n      <td>0.857867</td>\n      <td>0.132254</td>\n      <td>1.057068</td>\n      <td>1.330046</td>\n      <td>1.017172</td>\n      <td>0.989511</td>\n      <td>0.531361</td>\n      <td>0.581373</td>\n      <td>0.0</td>\n      <td>NaN</td>\n    </tr>\n  </tbody>\n</table>\n<p>9 rows × 25 columns</p>\n</div>"
     },
     "execution_count": 7,
     "metadata": {},
     "output_type": "execute_result"
    }
   ],
   "source": [
    "pd.DataFrame.from_dict(diref_metrics_dict).transpose()"
   ],
   "metadata": {
    "collapsed": false,
    "pycharm": {
     "name": "#%%\n"
    }
   }
  },
  {
   "cell_type": "code",
   "execution_count": null,
   "outputs": [],
   "source": [],
   "metadata": {
    "collapsed": false,
    "pycharm": {
     "name": "#%%\n"
    }
   }
  }
 ],
 "metadata": {
  "kernelspec": {
   "display_name": "Python 3",
   "language": "python",
   "name": "python3"
  },
  "language_info": {
   "codemirror_mode": {
    "name": "ipython",
    "version": 2
   },
   "file_extension": ".py",
   "mimetype": "text/x-python",
   "name": "python",
   "nbconvert_exporter": "python",
   "pygments_lexer": "ipython2",
   "version": "2.7.6"
  }
 },
 "nbformat": 4,
 "nbformat_minor": 0
}