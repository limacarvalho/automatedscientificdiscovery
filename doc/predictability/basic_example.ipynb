{
 "cells": [
  {
   "cell_type": "code",
   "execution_count": null,
   "outputs": [],
   "source": [
    "import ray\n",
    "import pandas as pd\n"
   ],
   "metadata": {
    "collapsed": false,
    "pycharm": {
     "name": "#%%\n"
    }
   }
  },
  {
   "cell_type": "code",
   "execution_count": null,
   "outputs": [],
   "source": [],
   "metadata": {
    "collapsed": false,
    "pycharm": {
     "name": "#%%\n"
    }
   }
  },
  {
   "cell_type": "markdown",
   "source": [
    "### Import Methods"
   ],
   "metadata": {
    "collapsed": false,
    "pycharm": {
     "name": "#%% md\n"
    }
   }
  },
  {
   "cell_type": "markdown",
   "source": [
    "#### Way 1\n",
    "\n",
    "without directly using the\n",
    "`from .predictability.utils import get_column_combinations`\n",
    "in `src/asd/__init__.py` file."
   ],
   "metadata": {
    "collapsed": false,
    "pycharm": {
     "name": "#%% md\n"
    }
   }
  },
  {
   "cell_type": "code",
   "execution_count": null,
   "outputs": [],
   "source": [
    "'''\n",
    "import asd.predictability.utils as asdpu\n",
    "asdpu.get_column_combinations(all_cols=[1, 2, 3, 4, 5, 6],\n",
    "                                  inputs=4,\n",
    "                                  outputs=1,\n",
    "                                  targets=[5, 6]\n",
    "                                  )\n",
    "'''"
   ],
   "metadata": {
    "collapsed": false,
    "pycharm": {
     "name": "#%%\n"
    }
   }
  },
  {
   "cell_type": "code",
   "execution_count": null,
   "outputs": [],
   "source": [],
   "metadata": {
    "collapsed": false,
    "pycharm": {
     "name": "#%%\n"
    }
   }
  },
  {
   "cell_type": "markdown",
   "source": [
    "#### Way 2\n",
    "\n",
    "with using the import\n",
    "`from .predictability.utils import get_column_combinations`\n",
    "in `src/asd/__init__.py` file."
   ],
   "metadata": {
    "collapsed": false,
    "pycharm": {
     "name": "#%% md\n"
    }
   }
  },
  {
   "cell_type": "code",
   "execution_count": null,
   "outputs": [],
   "source": [
    "import asd"
   ],
   "metadata": {
    "collapsed": false,
    "pycharm": {
     "name": "#%%\n"
    }
   }
  },
  {
   "cell_type": "code",
   "execution_count": null,
   "outputs": [],
   "source": [
    "asd.get_column_combinations(all_cols=[1, 2, 3, 4, 5, 6],\n",
    "                                  inputs=4,\n",
    "                                  outputs=1,\n",
    "                                  targets=[5, 6]\n",
    "                                  )"
   ],
   "metadata": {
    "collapsed": false,
    "pycharm": {
     "name": "#%%\n"
    }
   }
  },
  {
   "cell_type": "code",
   "execution_count": null,
   "outputs": [],
   "source": [],
   "metadata": {
    "collapsed": false,
    "pycharm": {
     "name": "#%%\n"
    }
   }
  },
  {
   "cell_type": "code",
   "execution_count": null,
   "outputs": [],
   "source": [],
   "metadata": {
    "collapsed": false,
    "pycharm": {
     "name": "#%%\n"
    }
   }
  },
  {
   "cell_type": "code",
   "execution_count": null,
   "outputs": [],
   "source": [
    "ray.init()"
   ],
   "metadata": {
    "collapsed": false,
    "pycharm": {
     "name": "#%%\n"
    }
   }
  },
  {
   "cell_type": "code",
   "execution_count": null,
   "outputs": [],
   "source": [],
   "metadata": {
    "collapsed": false,
    "pycharm": {
     "name": "#%%\n"
    }
   }
  },
  {
   "cell_type": "markdown",
   "source": [
    "# Basic Example"
   ],
   "metadata": {
    "collapsed": false,
    "pycharm": {
     "name": "#%% md\n"
    }
   }
  },
  {
   "cell_type": "markdown",
   "source": [
    "## Load Data"
   ],
   "metadata": {
    "collapsed": false,
    "pycharm": {
     "name": "#%% md\n"
    }
   }
  },
  {
   "cell_type": "markdown",
   "source": [
    "Basic data that can be understood as two different input columns (linear and random values) and three different output columns (sin of linear x, 1 + sin of linear x and random values)."
   ],
   "metadata": {
    "collapsed": false,
    "pycharm": {
     "name": "#%% md\n"
    }
   }
  },
  {
   "cell_type": "code",
   "execution_count": null,
   "outputs": [],
   "source": [
    "data = pd.read_csv(\"example_data.csv\", dtype=float)"
   ],
   "metadata": {
    "collapsed": false,
    "pycharm": {
     "name": "#%%\n"
    }
   }
  },
  {
   "cell_type": "code",
   "execution_count": null,
   "outputs": [],
   "source": [
    "data.head()"
   ],
   "metadata": {
    "collapsed": false,
    "pycharm": {
     "name": "#%%\n"
    }
   }
  },
  {
   "cell_type": "code",
   "execution_count": null,
   "outputs": [],
   "source": [],
   "metadata": {
    "collapsed": false,
    "pycharm": {
     "name": "#%%\n"
    }
   }
  },
  {
   "cell_type": "markdown",
   "source": [
    "## Get Combinations function"
   ],
   "metadata": {
    "collapsed": false,
    "pycharm": {
     "name": "#%% md\n"
    }
   }
  },
  {
   "cell_type": "markdown",
   "source": [
    "This function can be used to determine the overall number of combinations the predictability routine analyses given the number of data columns, fitting type etc. This allows to estimate the overall runtime of the predictability routine."
   ],
   "metadata": {
    "collapsed": false,
    "pycharm": {
     "name": "#%% md\n"
    }
   }
  },
  {
   "cell_type": "markdown",
   "source": [
    "The function returns a list of combination tuples, where the first inputs-many elements correspond to the inputs and the remaining ouputs-many to the targets. The argument targets can be used to define columns that should exclusively be regarded as targets."
   ],
   "metadata": {
    "collapsed": false,
    "pycharm": {
     "name": "#%% md\n"
    }
   }
  },
  {
   "cell_type": "code",
   "execution_count": null,
   "outputs": [],
   "source": [
    "# applied to a numerical example:\n",
    "asd.get_column_combinations(all_cols=[1, 2, 3, 4, 5, 6],\n",
    "                                  inputs=3,\n",
    "                                  outputs=1,\n",
    "                                  targets=[5, 6]\n",
    "                                  )"
   ],
   "metadata": {
    "collapsed": false,
    "pycharm": {
     "name": "#%%\n"
    }
   }
  },
  {
   "cell_type": "code",
   "execution_count": null,
   "outputs": [],
   "source": [
    "# the argument \"amount_only\" can be used to output the amout of combinations only\n",
    "asd.get_column_combinations(all_cols=[1, 2, 3, 4, 5, 6],\n",
    "                                  inputs=3,\n",
    "                                  outputs=1,\n",
    "                                  targets=[5, 6],\n",
    "                                  amount_only=True\n",
    "                                  )"
   ],
   "metadata": {
    "collapsed": false,
    "pycharm": {
     "name": "#%%\n"
    }
   }
  },
  {
   "cell_type": "code",
   "execution_count": null,
   "outputs": [],
   "source": [
    "# applied to the data above\n",
    "print(asd.get_column_combinations(all_cols=data.columns, inputs=1, outputs=1, targets=[\"sinx\", \"randomy\", \"sinx_plus1\"]))"
   ],
   "metadata": {
    "collapsed": false,
    "pycharm": {
     "name": "#%%\n"
    }
   }
  },
  {
   "cell_type": "code",
   "execution_count": null,
   "outputs": [],
   "source": [
    "print(asd.get_column_combinations(all_cols=data.columns, inputs=1, outputs=1, targets=[\"sinx\", \"randomy\", \"sinx_plus1\"],\n",
    "                                  amount_only=True))"
   ],
   "metadata": {
    "collapsed": false,
    "pycharm": {
     "name": "#%%\n"
    }
   }
  },
  {
   "cell_type": "code",
   "execution_count": null,
   "outputs": [],
   "source": [],
   "metadata": {
    "collapsed": false,
    "pycharm": {
     "name": "#%%\n"
    }
   }
  },
  {
   "cell_type": "markdown",
   "source": [
    "## Predictability function"
   ],
   "metadata": {
    "collapsed": false,
    "pycharm": {
     "name": "#%% md\n"
    }
   }
  },
  {
   "cell_type": "markdown",
   "source": [
    "Running the predictability function over all possible 1+1 combinations where the respective target is either sin, sin+1 or random and the input is linear x or random values.\n",
    "\n",
    "The purpose of having sin + 1 is to have a tuple that exclusively contains positive values so fitting a power law can be applied."
   ],
   "metadata": {
    "collapsed": false,
    "pycharm": {
     "name": "#%% md\n"
    }
   }
  },
  {
   "cell_type": "markdown",
   "source": [
    "### \"normal\" routine"
   ],
   "metadata": {
    "collapsed": false,
    "pycharm": {
     "name": "#%% md\n"
    }
   }
  },
  {
   "cell_type": "code",
   "execution_count": null,
   "outputs": [],
   "source": [
    "metrics_dict, datas_dict = asd.run_predictability(data=data,\n",
    "                                          input_cols=1,\n",
    "                                          output_cols=1,\n",
    "                                          col_set=None,\n",
    "                                          targets=[\"sinx\", \"randomy\", \"sinx_plus1\"],\n",
    "                                          method=\"kNN\",\n",
    "                                          random_state_split=None,\n",
    "                                          #refined=True\n",
    "                                          )"
   ],
   "metadata": {
    "collapsed": false,
    "pycharm": {
     "name": "#%%\n"
    }
   }
  },
  {
   "cell_type": "code",
   "execution_count": null,
   "outputs": [],
   "source": [],
   "metadata": {
    "collapsed": false,
    "pycharm": {
     "name": "#%%\n"
    }
   }
  },
  {
   "cell_type": "markdown",
   "source": [
    "_Note that starting the Ray instance accounts for most of the runtime. Start the cell above again and runtime will be ~1s._"
   ],
   "metadata": {
    "collapsed": false,
    "pycharm": {
     "name": "#%% md\n"
    }
   }
  },
  {
   "cell_type": "markdown",
   "source": [
    "### greedy routine"
   ],
   "metadata": {
    "collapsed": false,
    "pycharm": {
     "name": "#%% md\n"
    }
   }
  },
  {
   "cell_type": "code",
   "execution_count": null,
   "outputs": [],
   "source": [
    "greedy_metrics_dict, greedy_datas_dict = asd.run_predictability(data=data,\n",
    "                                          input_cols=2,\n",
    "                                          output_cols=1,\n",
    "                                          col_set=None,\n",
    "                                          targets=[\"sinx\", \"randomy\", \"sinx_plus1\"],\n",
    "                                          method=\"kNN\",\n",
    "                                          random_state_split=None,\n",
    "                                          #refined=True,\n",
    "                                          greedy=True\n",
    "                                          )"
   ],
   "metadata": {
    "collapsed": false,
    "pycharm": {
     "name": "#%%\n"
    }
   }
  },
  {
   "cell_type": "code",
   "execution_count": null,
   "outputs": [],
   "source": [],
   "metadata": {
    "collapsed": false,
    "pycharm": {
     "name": "#%%\n"
    }
   }
  },
  {
   "cell_type": "markdown",
   "source": [
    "### Results"
   ],
   "metadata": {
    "collapsed": false,
    "pycharm": {
     "name": "#%% md\n"
    }
   }
  },
  {
   "cell_type": "code",
   "execution_count": null,
   "outputs": [],
   "source": [
    "pd.DataFrame.from_dict(metrics_dict).transpose()"
   ],
   "metadata": {
    "collapsed": false,
    "pycharm": {
     "name": "#%%\n"
    }
   }
  },
  {
   "cell_type": "code",
   "execution_count": null,
   "outputs": [],
   "source": [
    "pd.DataFrame.from_dict(greedy_metrics_dict).transpose()"
   ],
   "metadata": {
    "collapsed": false,
    "pycharm": {
     "name": "#%%\n"
    }
   }
  },
  {
   "cell_type": "code",
   "execution_count": null,
   "outputs": [],
   "source": [],
   "metadata": {
    "collapsed": false,
    "pycharm": {
     "name": "#%%\n"
    }
   }
  },
  {
   "cell_type": "markdown",
   "source": [
    "### Structure of returned dictionaries"
   ],
   "metadata": {
    "collapsed": false,
    "pycharm": {
     "name": "#%% md\n"
    }
   }
  },
  {
   "cell_type": "code",
   "execution_count": null,
   "outputs": [],
   "source": [
    "struc_dict = datas_dict[list(datas_dict.keys())[0]]\n",
    "for key in list(struc_dict.keys()):\n",
    "    if type(struc_dict[key]) is dict:\n",
    "        print(key, \"\\t dict with key(s):\\t\", list(struc_dict[key].keys()))\n",
    "    else:\n",
    "        print(key, \"\\t type:\\t\", type(struc_dict[key]), \"\\t shape:\\t\", struc_dict[key].shape)"
   ],
   "metadata": {
    "collapsed": false,
    "pycharm": {
     "name": "#%%\n"
    }
   }
  },
  {
   "cell_type": "code",
   "execution_count": null,
   "outputs": [],
   "source": [],
   "metadata": {
    "collapsed": false,
    "pycharm": {
     "name": "#%%\n"
    }
   }
  },
  {
   "cell_type": "markdown",
   "source": [],
   "metadata": {
    "collapsed": false,
    "pycharm": {
     "name": "#%% md\n"
    }
   }
  },
  {
   "cell_type": "markdown",
   "source": [
    "### Plotting"
   ],
   "metadata": {
    "collapsed": false,
    "pycharm": {
     "name": "#%% md\n"
    }
   }
  },
  {
   "cell_type": "code",
   "execution_count": null,
   "outputs": [],
   "source": [
    "asd.predictability.utils.plot_result(datas_dict, list(datas_dict.keys())[0], plot_along=[\"linear\", \"mean\"])"
   ],
   "metadata": {
    "collapsed": false,
    "pycharm": {
     "name": "#%%\n"
    }
   }
  },
  {
   "cell_type": "code",
   "execution_count": null,
   "outputs": [],
   "source": [],
   "metadata": {
    "collapsed": false,
    "pycharm": {
     "name": "#%%\n"
    }
   }
  },
  {
   "cell_type": "markdown",
   "source": [
    "## Tuple Selection function\n",
    "\n",
    "This function can be used to limit the number of tuples that is further analysed in more detail."
   ],
   "metadata": {
    "collapsed": false,
    "pycharm": {
     "name": "#%% md\n"
    }
   }
  },
  {
   "cell_type": "code",
   "execution_count": null,
   "outputs": [],
   "source": [
    "selected_tuples = asd.predictability.core.tuple_selection(metrics_dict, n_best=2)\n",
    "selected_tuples"
   ],
   "metadata": {
    "collapsed": false,
    "pycharm": {
     "name": "#%%\n"
    }
   }
  },
  {
   "cell_type": "code",
   "execution_count": null,
   "outputs": [],
   "source": [],
   "metadata": {
    "collapsed": false,
    "pycharm": {
     "name": "#%%\n"
    }
   }
  },
  {
   "cell_type": "markdown",
   "source": [
    "## Refine Predictability function\n",
    "\n",
    "This function is used to further refine the predictability of the previously selected best tuples."
   ],
   "metadata": {
    "collapsed": false,
    "pycharm": {
     "name": "#%% md\n"
    }
   }
  },
  {
   "cell_type": "code",
   "execution_count": null,
   "outputs": [],
   "source": [
    "refined_metrics_dict, refined_datas_dict = asd.refine_predictability(best_tuples=selected_tuples,\n",
    "                                                                 data_dict=datas_dict,\n",
    "                                                                 time_left_for_this_task=60,\n",
    "                                                                 per_run_time_limit=30,\n",
    "                                                                 n_jobs=-1,\n",
    "                                                                 use_ray=True,\n",
    "                                                                 )"
   ],
   "metadata": {
    "collapsed": false,
    "pycharm": {
     "name": "#%%\n"
    }
   }
  },
  {
   "cell_type": "code",
   "execution_count": null,
   "outputs": [],
   "source": [
    "pd.DataFrame.from_dict(refined_metrics_dict).transpose()"
   ],
   "metadata": {
    "collapsed": false,
    "pycharm": {
     "name": "#%%\n"
    }
   }
  },
  {
   "cell_type": "code",
   "execution_count": null,
   "outputs": [],
   "source": [],
   "metadata": {
    "collapsed": false,
    "pycharm": {
     "name": "#%%\n"
    }
   }
  },
  {
   "cell_type": "markdown",
   "source": [
    "#### Structure of returned dictionaries"
   ],
   "metadata": {
    "collapsed": false,
    "pycharm": {
     "name": "#%% md\n"
    }
   }
  },
  {
   "cell_type": "code",
   "execution_count": null,
   "outputs": [],
   "source": [
    "from sklearn.pipeline import Pipeline"
   ],
   "metadata": {
    "collapsed": false,
    "pycharm": {
     "name": "#%%\n"
    }
   }
  },
  {
   "cell_type": "code",
   "execution_count": null,
   "outputs": [],
   "source": [
    "struc_dict = refined_datas_dict[list(refined_datas_dict.keys())[0]]\n",
    "for key in list(struc_dict.keys()):\n",
    "    if type(struc_dict[key]) is dict:\n",
    "        print(key, \"\\t dict with key(s):\\t\"#, list(struc_dict[key].keys())\n",
    "              )\n",
    "    elif type(struc_dict[key]) is Pipeline:\n",
    "        print(key, \"\\t type:\\t\", type(struc_dict[key]))\n",
    "    else:\n",
    "        print(key, \"\\t type:\\t\", type(struc_dict[key]), \"\\t shape:\\t\", struc_dict[key].shape)"
   ],
   "metadata": {
    "collapsed": false,
    "pycharm": {
     "name": "#%%\n"
    }
   }
  },
  {
   "cell_type": "code",
   "execution_count": null,
   "outputs": [],
   "source": [],
   "metadata": {
    "collapsed": false,
    "pycharm": {
     "name": "#%%\n"
    }
   }
  },
  {
   "cell_type": "markdown",
   "source": [
    "#### Plotting"
   ],
   "metadata": {
    "collapsed": false,
    "pycharm": {
     "name": "#%% md\n"
    }
   }
  },
  {
   "cell_type": "code",
   "execution_count": null,
   "outputs": [],
   "source": [
    "\n",
    "for key in list(refined_datas_dict.keys()):\n",
    "    refined_datas_dict[key][\"y_test_pred_init\"] = datas_dict[key][\"y_test_pred\"]\n",
    "    refined_datas_dict[key][\"y_test_init\"] = datas_dict[key][\"y_test\"]\n",
    "    refined_datas_dict[key][\"y_test_pred_linear\"] = datas_dict[key][\"y_test_pred_linear\"]\n",
    "    refined_datas_dict[key][\"y_test_pred_mean\"] = datas_dict[key][\"y_test_pred_mean\"]\n",
    "    #refined_datas_dict[key][\"y_test_init\"] = datas_dict[key][\"y_test\"]\n"
   ],
   "metadata": {
    "collapsed": false,
    "pycharm": {
     "name": "#%%\n"
    }
   }
  },
  {
   "cell_type": "code",
   "execution_count": null,
   "outputs": [],
   "source": [
    "asd.predictability.utils.plot_result(refined_datas_dict, list(refined_datas_dict.keys())[0], plot_along=[#\"linear\", \"mean\",\n",
    "                                                                                                         \"init\"])"
   ],
   "metadata": {
    "collapsed": false,
    "pycharm": {
     "name": "#%%\n"
    }
   }
  },
  {
   "cell_type": "markdown",
   "source": [
    "#### Structure of returned dictionaries"
   ],
   "metadata": {
    "collapsed": false,
    "pycharm": {
     "name": "#%% md\n"
    }
   }
  },
  {
   "cell_type": "code",
   "execution_count": 23,
   "outputs": [],
   "source": [
    "from sklearn.pipeline import Pipeline"
   ],
   "metadata": {
    "collapsed": false,
    "pycharm": {
     "name": "#%%\n"
    }
   }
  },
  {
   "cell_type": "code",
   "execution_count": 24,
   "outputs": [
    {
     "name": "stdout",
     "output_type": "stream",
     "text": [
      "X_train \t type:\t <class 'numpy.ndarray'> \t shape:\t (69, 1)\n",
      "X_test \t type:\t <class 'numpy.ndarray'> \t shape:\t (30, 1)\n",
      "y_train \t type:\t <class 'numpy.ndarray'> \t shape:\t (69, 1)\n",
      "y_test \t type:\t <class 'numpy.ndarray'> \t shape:\t (30,)\n",
      "y_train_pred \t type:\t <class 'numpy.ndarray'> \t shape:\t (69,)\n",
      "y_test_pred \t type:\t <class 'numpy.ndarray'> \t shape:\t (30,)\n",
      "ensemble \t type:\t <class 'sklearn.pipeline.Pipeline'>\n",
      "pareto_pipelines \t dict with key(s):\t\n",
      "all_individuals \t dict with key(s):\t\n"
     ]
    }
   ],
   "source": [
    "struc_dict = refined_datas_dict[list(refined_datas_dict.keys())[0]]\n",
    "for key in list(struc_dict.keys()):\n",
    "    if type(struc_dict[key]) is dict:\n",
    "        print(key, \"\\t dict with key(s):\\t\"#, list(struc_dict[key].keys())\n",
    "              )\n",
    "    elif type(struc_dict[key]) is Pipeline:\n",
    "        print(key, \"\\t type:\\t\", type(struc_dict[key]))\n",
    "    else:\n",
    "        print(key, \"\\t type:\\t\", type(struc_dict[key]), \"\\t shape:\\t\", struc_dict[key].shape)"
   ],
   "metadata": {
    "collapsed": false,
    "pycharm": {
     "name": "#%%\n"
    }
   }
  },
  {
   "cell_type": "code",
   "execution_count": null,
   "outputs": [],
   "source": [],
   "metadata": {
    "collapsed": false,
    "pycharm": {
     "name": "#%%\n"
    }
   }
  },
  {
   "cell_type": "markdown",
   "source": [
    "#### Plotting"
   ],
   "metadata": {
    "collapsed": false,
    "pycharm": {
     "name": "#%% md\n"
    }
   }
  },
  {
   "cell_type": "code",
   "execution_count": 25,
   "outputs": [],
   "source": [
    "\n",
    "for key in list(refined_datas_dict.keys()):\n",
    "    refined_datas_dict[key][\"y_test_pred_init\"] = datas_dict[key][\"y_test_pred\"]\n",
    "    refined_datas_dict[key][\"y_test_init\"] = datas_dict[key][\"y_test\"]\n",
    "    refined_datas_dict[key][\"y_test_pred_linear\"] = datas_dict[key][\"y_test_pred_linear\"]\n",
    "    refined_datas_dict[key][\"y_test_pred_mean\"] = datas_dict[key][\"y_test_pred_mean\"]\n",
    "    #refined_datas_dict[key][\"y_test_init\"] = datas_dict[key][\"y_test\"]\n"
   ],
   "metadata": {
    "collapsed": false,
    "pycharm": {
     "name": "#%%\n"
    }
   }
  },
  {
   "cell_type": "code",
   "execution_count": 27,
   "outputs": [
    {
     "data": {
      "application/vnd.plotly.v1+json": {
       "data": [
        {
         "mode": "markers",
         "name": "init preds vs trues",
         "opacity": 0.8,
         "x": [
          1.50102085645788,
          1.19866933079506,
          1.66296923008218,
          0.728239373589056,
          0.842254305856751,
          1.71735609089952,
          1.5784397643882,
          1.96791967203149,
          1.49411335113861,
          1.89120736006144,
          1.01681390048435,
          1.93799997677474,
          0.074185317672268,
          0.116545344279847,
          0.312233840816026,
          1.02477542545336,
          1.3349881501559,
          1.94073055667977,
          1.99854334537461,
          0.022469882334903,
          0.916910597182504,
          1.9738476308782,
          1.78332690962748,
          1.89870809581163,
          1.09983341664683,
          0.368733362127679,
          1.65698659871879,
          0.94162585657242,
          0.817837495727905,
          0.128424227586412
         ],
         "y": [
          1.4387113468276234,
          1.3881213625247302,
          1.7059338011297867,
          0.6672193985832567,
          0.8117521109056126,
          1.6834437151468766,
          1.4817867747519535,
          1.94584873211511,
          1.3105037574059333,
          1.91235608539744,
          1.0174178982464614,
          1.8774242394515699,
          0.07545189016287633,
          0.14534793185232467,
          0.27102083422831397,
          1.0907310723818335,
          1.3940435270897567,
          1.953806630408253,
          1.9921559407800498,
          0.04618032857585467,
          1.0174178982464614,
          1.9490874416551867,
          1.80590925267094,
          1.7910245082011966,
          1.3881213625247302,
          0.32366988142532765,
          1.7910245082011966,
          0.9757198561554427,
          0.627368552519027,
          0.169584818959402
         ],
         "type": "scatter",
         "xaxis": "x",
         "yaxis": "y"
        },
        {
         "mode": "markers",
         "name": "ref. preds vs trues",
         "opacity": 0.8,
         "x": [
          1.50102085645788,
          1.19866933079506,
          1.66296923008218,
          0.728239373589056,
          0.842254305856751,
          1.71735609089952,
          1.5784397643882,
          1.96791967203149,
          1.49411335113861,
          1.89120736006144,
          1.01681390048435,
          1.93799997677474,
          0.074185317672268,
          0.116545344279847,
          0.312233840816026,
          1.02477542545336,
          1.3349881501559,
          1.94073055667977,
          1.99854334537461,
          0.022469882334903,
          0.916910597182504,
          1.9738476308782,
          1.78332690962748,
          1.89870809581163,
          1.09983341664683,
          0.368733362127679,
          1.65698659871879,
          0.94162585657242,
          0.817837495727905,
          0.128424227586412
         ],
         "y": [
          1.5147950649261475,
          1.3021401166915894,
          1.7163747549057007,
          0.7193779945373535,
          0.8114515542984009,
          1.6684510707855225,
          1.6063944101333618,
          1.984193205833435,
          1.4046359062194824,
          1.9136157035827637,
          1.1211034059524536,
          1.9654537439346313,
          0.04851086065173149,
          0.15120846033096313,
          0.2949661314487457,
          0.9532425999641418,
          1.2503509521484375,
          1.9194730520248413,
          1.9884533882141113,
          0.018069030717015266,
          0.8879474997520447,
          1.9596823453903198,
          1.7520220279693604,
          1.8952786922454834,
          1.3021401166915894,
          0.3525864779949188,
          1.709876298904419,
          0.9709533452987671,
          0.7758322358131409,
          0.15833015739917755
         ],
         "type": "scatter",
         "xaxis": "x",
         "yaxis": "y"
        },
        {
         "mode": "markers",
         "name": "pred. error init",
         "opacity": 0.6,
         "x": [
          -0.06230950963025661,
          0.18945203172967018,
          0.04296457104760676,
          -0.061019975005799254,
          -0.030502194951138373,
          -0.03391237575264339,
          -0.09665298963624647,
          -0.022070939916380095,
          -0.1836095937326767,
          0.021148725335999874,
          6.039977621115078E-4,
          -0.06057573732317012,
          0.0012665724906083253,
          0.028802587572477667,
          -0.04121300658771204,
          0.06595564692847344,
          0.05905537693385665,
          0.013076073728483184,
          -0.00638740459456022,
          0.023710446240951668,
          0.10050730106395744,
          -0.024760189223013374,
          0.022582343043459963,
          -0.1076835876104334,
          0.2882879458779002,
          -0.04506348070235133,
          0.13403790948240668,
          0.034093999583022616,
          -0.19046894320887797,
          0.041160591372989996
         ],
         "y": [
          1.4387113468276234,
          1.3881213625247302,
          1.7059338011297867,
          0.6672193985832567,
          0.8117521109056126,
          1.6834437151468766,
          1.4817867747519535,
          1.94584873211511,
          1.3105037574059333,
          1.91235608539744,
          1.0174178982464614,
          1.8774242394515699,
          0.07545189016287633,
          0.14534793185232467,
          0.27102083422831397,
          1.0907310723818335,
          1.3940435270897567,
          1.953806630408253,
          1.9921559407800498,
          0.04618032857585467,
          1.0174178982464614,
          1.9490874416551867,
          1.80590925267094,
          1.7910245082011966,
          1.3881213625247302,
          0.32366988142532765,
          1.7910245082011966,
          0.9757198561554427,
          0.627368552519027,
          0.169584818959402
         ],
         "type": "scatter",
         "xaxis": "x2",
         "yaxis": "y2"
        },
        {
         "marker": {
          "color": "Maroon"
         },
         "mode": "markers",
         "name": "pred. error ref.",
         "opacity": 0.6,
         "x": [
          0.01377420846826749,
          0.10347078589652936,
          0.05340552482352079,
          -0.008861379051702478,
          -0.030802751558350105,
          -0.048905020113997555,
          0.02795464574516182,
          0.016273533801945073,
          -0.08947744491912757,
          0.022408343521323593,
          0.10428950546810367,
          0.02745376715989134,
          -0.025674457020536515,
          0.03466311605111613,
          -0.01726770936728028,
          -0.07153282548921824,
          -0.0846371980074625,
          -0.021257504654928594,
          -0.010089957160498653,
          -0.004400851617887735,
          -0.028963097430459328,
          -0.014165285487880208,
          -0.03130488165811962,
          -0.003429403566146627,
          0.20230670004475937,
          -0.016146884132760164,
          0.052889700185628996,
          0.02932748872634705,
          -0.042005259914764115,
          0.029905929812765547
         ],
         "y": [
          1.5147950649261475,
          1.3021401166915894,
          1.7163747549057007,
          0.7193779945373535,
          0.8114515542984009,
          1.6684510707855225,
          1.6063944101333618,
          1.984193205833435,
          1.4046359062194824,
          1.9136157035827637,
          1.1211034059524536,
          1.9654537439346313,
          0.04851086065173149,
          0.15120846033096313,
          0.2949661314487457,
          0.9532425999641418,
          1.2503509521484375,
          1.9194730520248413,
          1.9884533882141113,
          0.018069030717015266,
          0.8879474997520447,
          1.9596823453903198,
          1.7520220279693604,
          1.8952786922454834,
          1.3021401166915894,
          0.3525864779949188,
          1.709876298904419,
          0.9709533452987671,
          0.7758322358131409,
          0.15833015739917755
         ],
         "type": "scatter",
         "xaxis": "x2",
         "yaxis": "y2"
        },
        {
         "name": "pred. error init",
         "nbinsx": 3,
         "y": [
          -0.06230950963025661,
          0.18945203172967018,
          0.04296457104760676,
          -0.061019975005799254,
          -0.030502194951138373,
          -0.03391237575264339,
          -0.09665298963624647,
          -0.022070939916380095,
          -0.1836095937326767,
          0.021148725335999874,
          6.039977621115078E-4,
          -0.06057573732317012,
          0.0012665724906083253,
          0.028802587572477667,
          -0.04121300658771204,
          0.06595564692847344,
          0.05905537693385665,
          0.013076073728483184,
          -0.00638740459456022,
          0.023710446240951668,
          0.10050730106395744,
          -0.024760189223013374,
          0.022582343043459963,
          -0.1076835876104334,
          0.2882879458779002,
          -0.04506348070235133,
          0.13403790948240668,
          0.034093999583022616,
          -0.19046894320887797,
          0.041160591372989996
         ],
         "type": "histogram",
         "xaxis": "x3",
         "yaxis": "y3"
        },
        {
         "name": "pred. error ref.",
         "nbinsx": 3,
         "y": [
          0.01377420846826749,
          0.10347078589652936,
          0.05340552482352079,
          -0.008861379051702478,
          -0.030802751558350105,
          -0.048905020113997555,
          0.02795464574516182,
          0.016273533801945073,
          -0.08947744491912757,
          0.022408343521323593,
          0.10428950546810367,
          0.02745376715989134,
          -0.025674457020536515,
          0.03466311605111613,
          -0.01726770936728028,
          -0.07153282548921824,
          -0.0846371980074625,
          -0.021257504654928594,
          -0.010089957160498653,
          -0.004400851617887735,
          -0.028963097430459328,
          -0.014165285487880208,
          -0.03130488165811962,
          -0.003429403566146627,
          0.20230670004475937,
          -0.016146884132760164,
          0.052889700185628996,
          0.02932748872634705,
          -0.042005259914764115,
          0.029905929812765547
         ],
         "type": "histogram",
         "xaxis": "x3",
         "yaxis": "y3"
        }
       ],
       "layout": {
        "template": {
         "data": {
          "histogram2dcontour": [
           {
            "type": "histogram2dcontour",
            "colorbar": {
             "outlinewidth": 0,
             "ticks": ""
            },
            "colorscale": [
             [
              0.0,
              "#0d0887"
             ],
             [
              0.1111111111111111,
              "#46039f"
             ],
             [
              0.2222222222222222,
              "#7201a8"
             ],
             [
              0.3333333333333333,
              "#9c179e"
             ],
             [
              0.4444444444444444,
              "#bd3786"
             ],
             [
              0.5555555555555556,
              "#d8576b"
             ],
             [
              0.6666666666666666,
              "#ed7953"
             ],
             [
              0.7777777777777778,
              "#fb9f3a"
             ],
             [
              0.8888888888888888,
              "#fdca26"
             ],
             [
              1.0,
              "#f0f921"
             ]
            ]
           }
          ],
          "choropleth": [
           {
            "type": "choropleth",
            "colorbar": {
             "outlinewidth": 0,
             "ticks": ""
            }
           }
          ],
          "histogram2d": [
           {
            "type": "histogram2d",
            "colorbar": {
             "outlinewidth": 0,
             "ticks": ""
            },
            "colorscale": [
             [
              0.0,
              "#0d0887"
             ],
             [
              0.1111111111111111,
              "#46039f"
             ],
             [
              0.2222222222222222,
              "#7201a8"
             ],
             [
              0.3333333333333333,
              "#9c179e"
             ],
             [
              0.4444444444444444,
              "#bd3786"
             ],
             [
              0.5555555555555556,
              "#d8576b"
             ],
             [
              0.6666666666666666,
              "#ed7953"
             ],
             [
              0.7777777777777778,
              "#fb9f3a"
             ],
             [
              0.8888888888888888,
              "#fdca26"
             ],
             [
              1.0,
              "#f0f921"
             ]
            ]
           }
          ],
          "heatmap": [
           {
            "type": "heatmap",
            "colorbar": {
             "outlinewidth": 0,
             "ticks": ""
            },
            "colorscale": [
             [
              0.0,
              "#0d0887"
             ],
             [
              0.1111111111111111,
              "#46039f"
             ],
             [
              0.2222222222222222,
              "#7201a8"
             ],
             [
              0.3333333333333333,
              "#9c179e"
             ],
             [
              0.4444444444444444,
              "#bd3786"
             ],
             [
              0.5555555555555556,
              "#d8576b"
             ],
             [
              0.6666666666666666,
              "#ed7953"
             ],
             [
              0.7777777777777778,
              "#fb9f3a"
             ],
             [
              0.8888888888888888,
              "#fdca26"
             ],
             [
              1.0,
              "#f0f921"
             ]
            ]
           }
          ],
          "heatmapgl": [
           {
            "type": "heatmapgl",
            "colorbar": {
             "outlinewidth": 0,
             "ticks": ""
            },
            "colorscale": [
             [
              0.0,
              "#0d0887"
             ],
             [
              0.1111111111111111,
              "#46039f"
             ],
             [
              0.2222222222222222,
              "#7201a8"
             ],
             [
              0.3333333333333333,
              "#9c179e"
             ],
             [
              0.4444444444444444,
              "#bd3786"
             ],
             [
              0.5555555555555556,
              "#d8576b"
             ],
             [
              0.6666666666666666,
              "#ed7953"
             ],
             [
              0.7777777777777778,
              "#fb9f3a"
             ],
             [
              0.8888888888888888,
              "#fdca26"
             ],
             [
              1.0,
              "#f0f921"
             ]
            ]
           }
          ],
          "contourcarpet": [
           {
            "type": "contourcarpet",
            "colorbar": {
             "outlinewidth": 0,
             "ticks": ""
            }
           }
          ],
          "contour": [
           {
            "type": "contour",
            "colorbar": {
             "outlinewidth": 0,
             "ticks": ""
            },
            "colorscale": [
             [
              0.0,
              "#0d0887"
             ],
             [
              0.1111111111111111,
              "#46039f"
             ],
             [
              0.2222222222222222,
              "#7201a8"
             ],
             [
              0.3333333333333333,
              "#9c179e"
             ],
             [
              0.4444444444444444,
              "#bd3786"
             ],
             [
              0.5555555555555556,
              "#d8576b"
             ],
             [
              0.6666666666666666,
              "#ed7953"
             ],
             [
              0.7777777777777778,
              "#fb9f3a"
             ],
             [
              0.8888888888888888,
              "#fdca26"
             ],
             [
              1.0,
              "#f0f921"
             ]
            ]
           }
          ],
          "surface": [
           {
            "type": "surface",
            "colorbar": {
             "outlinewidth": 0,
             "ticks": ""
            },
            "colorscale": [
             [
              0.0,
              "#0d0887"
             ],
             [
              0.1111111111111111,
              "#46039f"
             ],
             [
              0.2222222222222222,
              "#7201a8"
             ],
             [
              0.3333333333333333,
              "#9c179e"
             ],
             [
              0.4444444444444444,
              "#bd3786"
             ],
             [
              0.5555555555555556,
              "#d8576b"
             ],
             [
              0.6666666666666666,
              "#ed7953"
             ],
             [
              0.7777777777777778,
              "#fb9f3a"
             ],
             [
              0.8888888888888888,
              "#fdca26"
             ],
             [
              1.0,
              "#f0f921"
             ]
            ]
           }
          ],
          "mesh3d": [
           {
            "type": "mesh3d",
            "colorbar": {
             "outlinewidth": 0,
             "ticks": ""
            }
           }
          ],
          "scatter": [
           {
            "fillpattern": {
             "fillmode": "overlay",
             "size": 10,
             "solidity": 0.2
            },
            "type": "scatter"
           }
          ],
          "parcoords": [
           {
            "type": "parcoords",
            "line": {
             "colorbar": {
              "outlinewidth": 0,
              "ticks": ""
             }
            }
           }
          ],
          "scatterpolargl": [
           {
            "type": "scatterpolargl",
            "marker": {
             "colorbar": {
              "outlinewidth": 0,
              "ticks": ""
             }
            }
           }
          ],
          "bar": [
           {
            "error_x": {
             "color": "#2a3f5f"
            },
            "error_y": {
             "color": "#2a3f5f"
            },
            "marker": {
             "line": {
              "color": "#E5ECF6",
              "width": 0.5
             },
             "pattern": {
              "fillmode": "overlay",
              "size": 10,
              "solidity": 0.2
             }
            },
            "type": "bar"
           }
          ],
          "scattergeo": [
           {
            "type": "scattergeo",
            "marker": {
             "colorbar": {
              "outlinewidth": 0,
              "ticks": ""
             }
            }
           }
          ],
          "scatterpolar": [
           {
            "type": "scatterpolar",
            "marker": {
             "colorbar": {
              "outlinewidth": 0,
              "ticks": ""
             }
            }
           }
          ],
          "histogram": [
           {
            "marker": {
             "pattern": {
              "fillmode": "overlay",
              "size": 10,
              "solidity": 0.2
             }
            },
            "type": "histogram"
           }
          ],
          "scattergl": [
           {
            "type": "scattergl",
            "marker": {
             "colorbar": {
              "outlinewidth": 0,
              "ticks": ""
             }
            }
           }
          ],
          "scatter3d": [
           {
            "type": "scatter3d",
            "line": {
             "colorbar": {
              "outlinewidth": 0,
              "ticks": ""
             }
            },
            "marker": {
             "colorbar": {
              "outlinewidth": 0,
              "ticks": ""
             }
            }
           }
          ],
          "scattermapbox": [
           {
            "type": "scattermapbox",
            "marker": {
             "colorbar": {
              "outlinewidth": 0,
              "ticks": ""
             }
            }
           }
          ],
          "scatterternary": [
           {
            "type": "scatterternary",
            "marker": {
             "colorbar": {
              "outlinewidth": 0,
              "ticks": ""
             }
            }
           }
          ],
          "scattercarpet": [
           {
            "type": "scattercarpet",
            "marker": {
             "colorbar": {
              "outlinewidth": 0,
              "ticks": ""
             }
            }
           }
          ],
          "carpet": [
           {
            "aaxis": {
             "endlinecolor": "#2a3f5f",
             "gridcolor": "white",
             "linecolor": "white",
             "minorgridcolor": "white",
             "startlinecolor": "#2a3f5f"
            },
            "baxis": {
             "endlinecolor": "#2a3f5f",
             "gridcolor": "white",
             "linecolor": "white",
             "minorgridcolor": "white",
             "startlinecolor": "#2a3f5f"
            },
            "type": "carpet"
           }
          ],
          "table": [
           {
            "cells": {
             "fill": {
              "color": "#EBF0F8"
             },
             "line": {
              "color": "white"
             }
            },
            "header": {
             "fill": {
              "color": "#C8D4E3"
             },
             "line": {
              "color": "white"
             }
            },
            "type": "table"
           }
          ],
          "barpolar": [
           {
            "marker": {
             "line": {
              "color": "#E5ECF6",
              "width": 0.5
             },
             "pattern": {
              "fillmode": "overlay",
              "size": 10,
              "solidity": 0.2
             }
            },
            "type": "barpolar"
           }
          ],
          "pie": [
           {
            "automargin": true,
            "type": "pie"
           }
          ]
         },
         "layout": {
          "autotypenumbers": "strict",
          "colorway": [
           "#636efa",
           "#EF553B",
           "#00cc96",
           "#ab63fa",
           "#FFA15A",
           "#19d3f3",
           "#FF6692",
           "#B6E880",
           "#FF97FF",
           "#FECB52"
          ],
          "font": {
           "color": "#2a3f5f"
          },
          "hovermode": "closest",
          "hoverlabel": {
           "align": "left"
          },
          "paper_bgcolor": "white",
          "plot_bgcolor": "#E5ECF6",
          "polar": {
           "bgcolor": "#E5ECF6",
           "angularaxis": {
            "gridcolor": "white",
            "linecolor": "white",
            "ticks": ""
           },
           "radialaxis": {
            "gridcolor": "white",
            "linecolor": "white",
            "ticks": ""
           }
          },
          "ternary": {
           "bgcolor": "#E5ECF6",
           "aaxis": {
            "gridcolor": "white",
            "linecolor": "white",
            "ticks": ""
           },
           "baxis": {
            "gridcolor": "white",
            "linecolor": "white",
            "ticks": ""
           },
           "caxis": {
            "gridcolor": "white",
            "linecolor": "white",
            "ticks": ""
           }
          },
          "coloraxis": {
           "colorbar": {
            "outlinewidth": 0,
            "ticks": ""
           }
          },
          "colorscale": {
           "sequential": [
            [
             0.0,
             "#0d0887"
            ],
            [
             0.1111111111111111,
             "#46039f"
            ],
            [
             0.2222222222222222,
             "#7201a8"
            ],
            [
             0.3333333333333333,
             "#9c179e"
            ],
            [
             0.4444444444444444,
             "#bd3786"
            ],
            [
             0.5555555555555556,
             "#d8576b"
            ],
            [
             0.6666666666666666,
             "#ed7953"
            ],
            [
             0.7777777777777778,
             "#fb9f3a"
            ],
            [
             0.8888888888888888,
             "#fdca26"
            ],
            [
             1.0,
             "#f0f921"
            ]
           ],
           "sequentialminus": [
            [
             0.0,
             "#0d0887"
            ],
            [
             0.1111111111111111,
             "#46039f"
            ],
            [
             0.2222222222222222,
             "#7201a8"
            ],
            [
             0.3333333333333333,
             "#9c179e"
            ],
            [
             0.4444444444444444,
             "#bd3786"
            ],
            [
             0.5555555555555556,
             "#d8576b"
            ],
            [
             0.6666666666666666,
             "#ed7953"
            ],
            [
             0.7777777777777778,
             "#fb9f3a"
            ],
            [
             0.8888888888888888,
             "#fdca26"
            ],
            [
             1.0,
             "#f0f921"
            ]
           ],
           "diverging": [
            [
             0,
             "#8e0152"
            ],
            [
             0.1,
             "#c51b7d"
            ],
            [
             0.2,
             "#de77ae"
            ],
            [
             0.3,
             "#f1b6da"
            ],
            [
             0.4,
             "#fde0ef"
            ],
            [
             0.5,
             "#f7f7f7"
            ],
            [
             0.6,
             "#e6f5d0"
            ],
            [
             0.7,
             "#b8e186"
            ],
            [
             0.8,
             "#7fbc41"
            ],
            [
             0.9,
             "#4d9221"
            ],
            [
             1,
             "#276419"
            ]
           ]
          },
          "xaxis": {
           "gridcolor": "white",
           "linecolor": "white",
           "ticks": "",
           "title": {
            "standoff": 15
           },
           "zerolinecolor": "white",
           "automargin": true,
           "zerolinewidth": 2
          },
          "yaxis": {
           "gridcolor": "white",
           "linecolor": "white",
           "ticks": "",
           "title": {
            "standoff": 15
           },
           "zerolinecolor": "white",
           "automargin": true,
           "zerolinewidth": 2
          },
          "scene": {
           "xaxis": {
            "backgroundcolor": "#E5ECF6",
            "gridcolor": "white",
            "linecolor": "white",
            "showbackground": true,
            "ticks": "",
            "zerolinecolor": "white",
            "gridwidth": 2
           },
           "yaxis": {
            "backgroundcolor": "#E5ECF6",
            "gridcolor": "white",
            "linecolor": "white",
            "showbackground": true,
            "ticks": "",
            "zerolinecolor": "white",
            "gridwidth": 2
           },
           "zaxis": {
            "backgroundcolor": "#E5ECF6",
            "gridcolor": "white",
            "linecolor": "white",
            "showbackground": true,
            "ticks": "",
            "zerolinecolor": "white",
            "gridwidth": 2
           }
          },
          "shapedefaults": {
           "line": {
            "color": "#2a3f5f"
           }
          },
          "annotationdefaults": {
           "arrowcolor": "#2a3f5f",
           "arrowhead": 0,
           "arrowwidth": 1
          },
          "geo": {
           "bgcolor": "white",
           "landcolor": "#E5ECF6",
           "subunitcolor": "white",
           "showland": true,
           "showlakes": true,
           "lakecolor": "white"
          },
          "title": {
           "x": 0.05
          },
          "mapbox": {
           "style": "light"
          }
         }
        },
        "xaxis": {
         "anchor": "y",
         "domain": [
          0.0,
          0.48999999999999994
         ],
         "title": {
          "text": "true"
         }
        },
        "yaxis": {
         "anchor": "x",
         "domain": [
          0.0,
          1.0
         ],
         "title": {
          "text": "pred"
         }
        },
        "xaxis2": {
         "anchor": "y2",
         "domain": [
          0.6399999999999999,
          0.7449999999999999
         ],
         "title": {
          "text": "pred-true"
         }
        },
        "yaxis2": {
         "anchor": "x2",
         "domain": [
          0.0,
          1.0
         ],
         "title": {
          "text": "pred"
         },
         "matches": "y"
        },
        "xaxis3": {
         "anchor": "y3",
         "domain": [
          0.895,
          1.0
         ],
         "title": {
          "text": "freq"
         }
        },
        "yaxis3": {
         "anchor": "x3",
         "domain": [
          0.0,
          1.0
         ],
         "title": {
          "text": "pred-true"
         }
        },
        "title": {
         "text": "('lin_x', 'sinx_plus1')"
        },
        "width": 950,
        "height": 555
       },
       "config": {
        "plotlyServerURL": "https://plot.ly"
       }
      },
      "text/html": "<div>                            <div id=\"2d461cc0-cddd-449f-91d7-927dd34675f0\" class=\"plotly-graph-div\" style=\"height:555px; width:950px;\"></div>            <script type=\"text/javascript\">                require([\"plotly\"], function(Plotly) {                    window.PLOTLYENV=window.PLOTLYENV || {};                                    if (document.getElementById(\"2d461cc0-cddd-449f-91d7-927dd34675f0\")) {                    Plotly.newPlot(                        \"2d461cc0-cddd-449f-91d7-927dd34675f0\",                        [{\"mode\":\"markers\",\"name\":\"init preds vs trues\",\"opacity\":0.8,\"x\":[1.50102085645788,1.19866933079506,1.66296923008218,0.728239373589056,0.842254305856751,1.71735609089952,1.5784397643882,1.96791967203149,1.49411335113861,1.89120736006144,1.01681390048435,1.93799997677474,0.074185317672268,0.116545344279847,0.312233840816026,1.02477542545336,1.3349881501559,1.94073055667977,1.99854334537461,0.022469882334903,0.916910597182504,1.9738476308782,1.78332690962748,1.89870809581163,1.09983341664683,0.368733362127679,1.65698659871879,0.94162585657242,0.817837495727905,0.128424227586412],\"y\":[1.4387113468276234,1.3881213625247302,1.7059338011297867,0.6672193985832567,0.8117521109056126,1.6834437151468766,1.4817867747519535,1.94584873211511,1.3105037574059333,1.91235608539744,1.0174178982464614,1.8774242394515699,0.07545189016287633,0.14534793185232467,0.27102083422831397,1.0907310723818335,1.3940435270897567,1.953806630408253,1.9921559407800498,0.04618032857585467,1.0174178982464614,1.9490874416551867,1.80590925267094,1.7910245082011966,1.3881213625247302,0.32366988142532765,1.7910245082011966,0.9757198561554427,0.627368552519027,0.169584818959402],\"type\":\"scatter\",\"xaxis\":\"x\",\"yaxis\":\"y\"},{\"mode\":\"markers\",\"name\":\"ref. preds vs trues\",\"opacity\":0.8,\"x\":[1.50102085645788,1.19866933079506,1.66296923008218,0.728239373589056,0.842254305856751,1.71735609089952,1.5784397643882,1.96791967203149,1.49411335113861,1.89120736006144,1.01681390048435,1.93799997677474,0.074185317672268,0.116545344279847,0.312233840816026,1.02477542545336,1.3349881501559,1.94073055667977,1.99854334537461,0.022469882334903,0.916910597182504,1.9738476308782,1.78332690962748,1.89870809581163,1.09983341664683,0.368733362127679,1.65698659871879,0.94162585657242,0.817837495727905,0.128424227586412],\"y\":[1.5147950649261475,1.3021401166915894,1.7163747549057007,0.7193779945373535,0.8114515542984009,1.6684510707855225,1.6063944101333618,1.984193205833435,1.4046359062194824,1.9136157035827637,1.1211034059524536,1.9654537439346313,0.04851086065173149,0.15120846033096313,0.2949661314487457,0.9532425999641418,1.2503509521484375,1.9194730520248413,1.9884533882141113,0.018069030717015266,0.8879474997520447,1.9596823453903198,1.7520220279693604,1.8952786922454834,1.3021401166915894,0.3525864779949188,1.709876298904419,0.9709533452987671,0.7758322358131409,0.15833015739917755],\"type\":\"scatter\",\"xaxis\":\"x\",\"yaxis\":\"y\"},{\"mode\":\"markers\",\"name\":\"pred. error init\",\"opacity\":0.6,\"x\":[-0.06230950963025661,0.18945203172967018,0.04296457104760676,-0.061019975005799254,-0.030502194951138373,-0.03391237575264339,-0.09665298963624647,-0.022070939916380095,-0.1836095937326767,0.021148725335999874,0.0006039977621115078,-0.06057573732317012,0.0012665724906083253,0.028802587572477667,-0.04121300658771204,0.06595564692847344,0.05905537693385665,0.013076073728483184,-0.00638740459456022,0.023710446240951668,0.10050730106395744,-0.024760189223013374,0.022582343043459963,-0.1076835876104334,0.2882879458779002,-0.04506348070235133,0.13403790948240668,0.034093999583022616,-0.19046894320887797,0.041160591372989996],\"y\":[1.4387113468276234,1.3881213625247302,1.7059338011297867,0.6672193985832567,0.8117521109056126,1.6834437151468766,1.4817867747519535,1.94584873211511,1.3105037574059333,1.91235608539744,1.0174178982464614,1.8774242394515699,0.07545189016287633,0.14534793185232467,0.27102083422831397,1.0907310723818335,1.3940435270897567,1.953806630408253,1.9921559407800498,0.04618032857585467,1.0174178982464614,1.9490874416551867,1.80590925267094,1.7910245082011966,1.3881213625247302,0.32366988142532765,1.7910245082011966,0.9757198561554427,0.627368552519027,0.169584818959402],\"type\":\"scatter\",\"xaxis\":\"x2\",\"yaxis\":\"y2\"},{\"marker\":{\"color\":\"Maroon\"},\"mode\":\"markers\",\"name\":\"pred. error ref.\",\"opacity\":0.6,\"x\":[0.01377420846826749,0.10347078589652936,0.05340552482352079,-0.008861379051702478,-0.030802751558350105,-0.048905020113997555,0.02795464574516182,0.016273533801945073,-0.08947744491912757,0.022408343521323593,0.10428950546810367,0.02745376715989134,-0.025674457020536515,0.03466311605111613,-0.01726770936728028,-0.07153282548921824,-0.0846371980074625,-0.021257504654928594,-0.010089957160498653,-0.004400851617887735,-0.028963097430459328,-0.014165285487880208,-0.03130488165811962,-0.003429403566146627,0.20230670004475937,-0.016146884132760164,0.052889700185628996,0.02932748872634705,-0.042005259914764115,0.029905929812765547],\"y\":[1.5147950649261475,1.3021401166915894,1.7163747549057007,0.7193779945373535,0.8114515542984009,1.6684510707855225,1.6063944101333618,1.984193205833435,1.4046359062194824,1.9136157035827637,1.1211034059524536,1.9654537439346313,0.04851086065173149,0.15120846033096313,0.2949661314487457,0.9532425999641418,1.2503509521484375,1.9194730520248413,1.9884533882141113,0.018069030717015266,0.8879474997520447,1.9596823453903198,1.7520220279693604,1.8952786922454834,1.3021401166915894,0.3525864779949188,1.709876298904419,0.9709533452987671,0.7758322358131409,0.15833015739917755],\"type\":\"scatter\",\"xaxis\":\"x2\",\"yaxis\":\"y2\"},{\"name\":\"pred. error init\",\"nbinsx\":3,\"y\":[-0.06230950963025661,0.18945203172967018,0.04296457104760676,-0.061019975005799254,-0.030502194951138373,-0.03391237575264339,-0.09665298963624647,-0.022070939916380095,-0.1836095937326767,0.021148725335999874,0.0006039977621115078,-0.06057573732317012,0.0012665724906083253,0.028802587572477667,-0.04121300658771204,0.06595564692847344,0.05905537693385665,0.013076073728483184,-0.00638740459456022,0.023710446240951668,0.10050730106395744,-0.024760189223013374,0.022582343043459963,-0.1076835876104334,0.2882879458779002,-0.04506348070235133,0.13403790948240668,0.034093999583022616,-0.19046894320887797,0.041160591372989996],\"type\":\"histogram\",\"xaxis\":\"x3\",\"yaxis\":\"y3\"},{\"name\":\"pred. error ref.\",\"nbinsx\":3,\"y\":[0.01377420846826749,0.10347078589652936,0.05340552482352079,-0.008861379051702478,-0.030802751558350105,-0.048905020113997555,0.02795464574516182,0.016273533801945073,-0.08947744491912757,0.022408343521323593,0.10428950546810367,0.02745376715989134,-0.025674457020536515,0.03466311605111613,-0.01726770936728028,-0.07153282548921824,-0.0846371980074625,-0.021257504654928594,-0.010089957160498653,-0.004400851617887735,-0.028963097430459328,-0.014165285487880208,-0.03130488165811962,-0.003429403566146627,0.20230670004475937,-0.016146884132760164,0.052889700185628996,0.02932748872634705,-0.042005259914764115,0.029905929812765547],\"type\":\"histogram\",\"xaxis\":\"x3\",\"yaxis\":\"y3\"}],                        {\"template\":{\"data\":{\"histogram2dcontour\":[{\"type\":\"histogram2dcontour\",\"colorbar\":{\"outlinewidth\":0,\"ticks\":\"\"},\"colorscale\":[[0.0,\"#0d0887\"],[0.1111111111111111,\"#46039f\"],[0.2222222222222222,\"#7201a8\"],[0.3333333333333333,\"#9c179e\"],[0.4444444444444444,\"#bd3786\"],[0.5555555555555556,\"#d8576b\"],[0.6666666666666666,\"#ed7953\"],[0.7777777777777778,\"#fb9f3a\"],[0.8888888888888888,\"#fdca26\"],[1.0,\"#f0f921\"]]}],\"choropleth\":[{\"type\":\"choropleth\",\"colorbar\":{\"outlinewidth\":0,\"ticks\":\"\"}}],\"histogram2d\":[{\"type\":\"histogram2d\",\"colorbar\":{\"outlinewidth\":0,\"ticks\":\"\"},\"colorscale\":[[0.0,\"#0d0887\"],[0.1111111111111111,\"#46039f\"],[0.2222222222222222,\"#7201a8\"],[0.3333333333333333,\"#9c179e\"],[0.4444444444444444,\"#bd3786\"],[0.5555555555555556,\"#d8576b\"],[0.6666666666666666,\"#ed7953\"],[0.7777777777777778,\"#fb9f3a\"],[0.8888888888888888,\"#fdca26\"],[1.0,\"#f0f921\"]]}],\"heatmap\":[{\"type\":\"heatmap\",\"colorbar\":{\"outlinewidth\":0,\"ticks\":\"\"},\"colorscale\":[[0.0,\"#0d0887\"],[0.1111111111111111,\"#46039f\"],[0.2222222222222222,\"#7201a8\"],[0.3333333333333333,\"#9c179e\"],[0.4444444444444444,\"#bd3786\"],[0.5555555555555556,\"#d8576b\"],[0.6666666666666666,\"#ed7953\"],[0.7777777777777778,\"#fb9f3a\"],[0.8888888888888888,\"#fdca26\"],[1.0,\"#f0f921\"]]}],\"heatmapgl\":[{\"type\":\"heatmapgl\",\"colorbar\":{\"outlinewidth\":0,\"ticks\":\"\"},\"colorscale\":[[0.0,\"#0d0887\"],[0.1111111111111111,\"#46039f\"],[0.2222222222222222,\"#7201a8\"],[0.3333333333333333,\"#9c179e\"],[0.4444444444444444,\"#bd3786\"],[0.5555555555555556,\"#d8576b\"],[0.6666666666666666,\"#ed7953\"],[0.7777777777777778,\"#fb9f3a\"],[0.8888888888888888,\"#fdca26\"],[1.0,\"#f0f921\"]]}],\"contourcarpet\":[{\"type\":\"contourcarpet\",\"colorbar\":{\"outlinewidth\":0,\"ticks\":\"\"}}],\"contour\":[{\"type\":\"contour\",\"colorbar\":{\"outlinewidth\":0,\"ticks\":\"\"},\"colorscale\":[[0.0,\"#0d0887\"],[0.1111111111111111,\"#46039f\"],[0.2222222222222222,\"#7201a8\"],[0.3333333333333333,\"#9c179e\"],[0.4444444444444444,\"#bd3786\"],[0.5555555555555556,\"#d8576b\"],[0.6666666666666666,\"#ed7953\"],[0.7777777777777778,\"#fb9f3a\"],[0.8888888888888888,\"#fdca26\"],[1.0,\"#f0f921\"]]}],\"surface\":[{\"type\":\"surface\",\"colorbar\":{\"outlinewidth\":0,\"ticks\":\"\"},\"colorscale\":[[0.0,\"#0d0887\"],[0.1111111111111111,\"#46039f\"],[0.2222222222222222,\"#7201a8\"],[0.3333333333333333,\"#9c179e\"],[0.4444444444444444,\"#bd3786\"],[0.5555555555555556,\"#d8576b\"],[0.6666666666666666,\"#ed7953\"],[0.7777777777777778,\"#fb9f3a\"],[0.8888888888888888,\"#fdca26\"],[1.0,\"#f0f921\"]]}],\"mesh3d\":[{\"type\":\"mesh3d\",\"colorbar\":{\"outlinewidth\":0,\"ticks\":\"\"}}],\"scatter\":[{\"fillpattern\":{\"fillmode\":\"overlay\",\"size\":10,\"solidity\":0.2},\"type\":\"scatter\"}],\"parcoords\":[{\"type\":\"parcoords\",\"line\":{\"colorbar\":{\"outlinewidth\":0,\"ticks\":\"\"}}}],\"scatterpolargl\":[{\"type\":\"scatterpolargl\",\"marker\":{\"colorbar\":{\"outlinewidth\":0,\"ticks\":\"\"}}}],\"bar\":[{\"error_x\":{\"color\":\"#2a3f5f\"},\"error_y\":{\"color\":\"#2a3f5f\"},\"marker\":{\"line\":{\"color\":\"#E5ECF6\",\"width\":0.5},\"pattern\":{\"fillmode\":\"overlay\",\"size\":10,\"solidity\":0.2}},\"type\":\"bar\"}],\"scattergeo\":[{\"type\":\"scattergeo\",\"marker\":{\"colorbar\":{\"outlinewidth\":0,\"ticks\":\"\"}}}],\"scatterpolar\":[{\"type\":\"scatterpolar\",\"marker\":{\"colorbar\":{\"outlinewidth\":0,\"ticks\":\"\"}}}],\"histogram\":[{\"marker\":{\"pattern\":{\"fillmode\":\"overlay\",\"size\":10,\"solidity\":0.2}},\"type\":\"histogram\"}],\"scattergl\":[{\"type\":\"scattergl\",\"marker\":{\"colorbar\":{\"outlinewidth\":0,\"ticks\":\"\"}}}],\"scatter3d\":[{\"type\":\"scatter3d\",\"line\":{\"colorbar\":{\"outlinewidth\":0,\"ticks\":\"\"}},\"marker\":{\"colorbar\":{\"outlinewidth\":0,\"ticks\":\"\"}}}],\"scattermapbox\":[{\"type\":\"scattermapbox\",\"marker\":{\"colorbar\":{\"outlinewidth\":0,\"ticks\":\"\"}}}],\"scatterternary\":[{\"type\":\"scatterternary\",\"marker\":{\"colorbar\":{\"outlinewidth\":0,\"ticks\":\"\"}}}],\"scattercarpet\":[{\"type\":\"scattercarpet\",\"marker\":{\"colorbar\":{\"outlinewidth\":0,\"ticks\":\"\"}}}],\"carpet\":[{\"aaxis\":{\"endlinecolor\":\"#2a3f5f\",\"gridcolor\":\"white\",\"linecolor\":\"white\",\"minorgridcolor\":\"white\",\"startlinecolor\":\"#2a3f5f\"},\"baxis\":{\"endlinecolor\":\"#2a3f5f\",\"gridcolor\":\"white\",\"linecolor\":\"white\",\"minorgridcolor\":\"white\",\"startlinecolor\":\"#2a3f5f\"},\"type\":\"carpet\"}],\"table\":[{\"cells\":{\"fill\":{\"color\":\"#EBF0F8\"},\"line\":{\"color\":\"white\"}},\"header\":{\"fill\":{\"color\":\"#C8D4E3\"},\"line\":{\"color\":\"white\"}},\"type\":\"table\"}],\"barpolar\":[{\"marker\":{\"line\":{\"color\":\"#E5ECF6\",\"width\":0.5},\"pattern\":{\"fillmode\":\"overlay\",\"size\":10,\"solidity\":0.2}},\"type\":\"barpolar\"}],\"pie\":[{\"automargin\":true,\"type\":\"pie\"}]},\"layout\":{\"autotypenumbers\":\"strict\",\"colorway\":[\"#636efa\",\"#EF553B\",\"#00cc96\",\"#ab63fa\",\"#FFA15A\",\"#19d3f3\",\"#FF6692\",\"#B6E880\",\"#FF97FF\",\"#FECB52\"],\"font\":{\"color\":\"#2a3f5f\"},\"hovermode\":\"closest\",\"hoverlabel\":{\"align\":\"left\"},\"paper_bgcolor\":\"white\",\"plot_bgcolor\":\"#E5ECF6\",\"polar\":{\"bgcolor\":\"#E5ECF6\",\"angularaxis\":{\"gridcolor\":\"white\",\"linecolor\":\"white\",\"ticks\":\"\"},\"radialaxis\":{\"gridcolor\":\"white\",\"linecolor\":\"white\",\"ticks\":\"\"}},\"ternary\":{\"bgcolor\":\"#E5ECF6\",\"aaxis\":{\"gridcolor\":\"white\",\"linecolor\":\"white\",\"ticks\":\"\"},\"baxis\":{\"gridcolor\":\"white\",\"linecolor\":\"white\",\"ticks\":\"\"},\"caxis\":{\"gridcolor\":\"white\",\"linecolor\":\"white\",\"ticks\":\"\"}},\"coloraxis\":{\"colorbar\":{\"outlinewidth\":0,\"ticks\":\"\"}},\"colorscale\":{\"sequential\":[[0.0,\"#0d0887\"],[0.1111111111111111,\"#46039f\"],[0.2222222222222222,\"#7201a8\"],[0.3333333333333333,\"#9c179e\"],[0.4444444444444444,\"#bd3786\"],[0.5555555555555556,\"#d8576b\"],[0.6666666666666666,\"#ed7953\"],[0.7777777777777778,\"#fb9f3a\"],[0.8888888888888888,\"#fdca26\"],[1.0,\"#f0f921\"]],\"sequentialminus\":[[0.0,\"#0d0887\"],[0.1111111111111111,\"#46039f\"],[0.2222222222222222,\"#7201a8\"],[0.3333333333333333,\"#9c179e\"],[0.4444444444444444,\"#bd3786\"],[0.5555555555555556,\"#d8576b\"],[0.6666666666666666,\"#ed7953\"],[0.7777777777777778,\"#fb9f3a\"],[0.8888888888888888,\"#fdca26\"],[1.0,\"#f0f921\"]],\"diverging\":[[0,\"#8e0152\"],[0.1,\"#c51b7d\"],[0.2,\"#de77ae\"],[0.3,\"#f1b6da\"],[0.4,\"#fde0ef\"],[0.5,\"#f7f7f7\"],[0.6,\"#e6f5d0\"],[0.7,\"#b8e186\"],[0.8,\"#7fbc41\"],[0.9,\"#4d9221\"],[1,\"#276419\"]]},\"xaxis\":{\"gridcolor\":\"white\",\"linecolor\":\"white\",\"ticks\":\"\",\"title\":{\"standoff\":15},\"zerolinecolor\":\"white\",\"automargin\":true,\"zerolinewidth\":2},\"yaxis\":{\"gridcolor\":\"white\",\"linecolor\":\"white\",\"ticks\":\"\",\"title\":{\"standoff\":15},\"zerolinecolor\":\"white\",\"automargin\":true,\"zerolinewidth\":2},\"scene\":{\"xaxis\":{\"backgroundcolor\":\"#E5ECF6\",\"gridcolor\":\"white\",\"linecolor\":\"white\",\"showbackground\":true,\"ticks\":\"\",\"zerolinecolor\":\"white\",\"gridwidth\":2},\"yaxis\":{\"backgroundcolor\":\"#E5ECF6\",\"gridcolor\":\"white\",\"linecolor\":\"white\",\"showbackground\":true,\"ticks\":\"\",\"zerolinecolor\":\"white\",\"gridwidth\":2},\"zaxis\":{\"backgroundcolor\":\"#E5ECF6\",\"gridcolor\":\"white\",\"linecolor\":\"white\",\"showbackground\":true,\"ticks\":\"\",\"zerolinecolor\":\"white\",\"gridwidth\":2}},\"shapedefaults\":{\"line\":{\"color\":\"#2a3f5f\"}},\"annotationdefaults\":{\"arrowcolor\":\"#2a3f5f\",\"arrowhead\":0,\"arrowwidth\":1},\"geo\":{\"bgcolor\":\"white\",\"landcolor\":\"#E5ECF6\",\"subunitcolor\":\"white\",\"showland\":true,\"showlakes\":true,\"lakecolor\":\"white\"},\"title\":{\"x\":0.05},\"mapbox\":{\"style\":\"light\"}}},\"xaxis\":{\"anchor\":\"y\",\"domain\":[0.0,0.48999999999999994],\"title\":{\"text\":\"true\"}},\"yaxis\":{\"anchor\":\"x\",\"domain\":[0.0,1.0],\"title\":{\"text\":\"pred\"}},\"xaxis2\":{\"anchor\":\"y2\",\"domain\":[0.6399999999999999,0.7449999999999999],\"title\":{\"text\":\"pred-true\"}},\"yaxis2\":{\"anchor\":\"x2\",\"domain\":[0.0,1.0],\"title\":{\"text\":\"pred\"},\"matches\":\"y\"},\"xaxis3\":{\"anchor\":\"y3\",\"domain\":[0.895,1.0],\"title\":{\"text\":\"freq\"}},\"yaxis3\":{\"anchor\":\"x3\",\"domain\":[0.0,1.0],\"title\":{\"text\":\"pred-true\"}},\"title\":{\"text\":\"('lin_x', 'sinx_plus1')\"},\"width\":950,\"height\":555},                        {\"responsive\": true}                    ).then(function(){\n                            \nvar gd = document.getElementById('2d461cc0-cddd-449f-91d7-927dd34675f0');\nvar x = new MutationObserver(function (mutations, observer) {{\n        var display = window.getComputedStyle(gd).display;\n        if (!display || display === 'none') {{\n            console.log([gd, 'removed!']);\n            Plotly.purge(gd);\n            observer.disconnect();\n        }}\n}});\n\n// Listen for the removal of the full notebook cells\nvar notebookContainer = gd.closest('#notebook-container');\nif (notebookContainer) {{\n    x.observe(notebookContainer, {childList: true});\n}}\n\n// Listen for the clearing of the current output cell\nvar outputEl = gd.closest('.output');\nif (outputEl) {{\n    x.observe(outputEl, {childList: true});\n}}\n\n                        })                };                });            </script>        </div>"
     },
     "metadata": {},
     "output_type": "display_data"
    }
   ],
   "source": [
    "asd.predictability.utils.plot_result(refined_datas_dict, list(refined_datas_dict.keys())[0], plot_along=[#\"linear\", \"mean\",\n",
    "                                                                                                         \"init\"])"
   ],
   "metadata": {
    "collapsed": false,
    "pycharm": {
     "name": "#%%\n"
    }
   }
  },
  {
   "cell_type": "code",
   "execution_count": null,
   "outputs": [],
   "source": [],
   "metadata": {
    "collapsed": false,
    "pycharm": {
     "name": "#%%\n"
    }
   }
  },
  {
   "cell_type": "code",
   "execution_count": null,
   "outputs": [],
   "source": [],
   "metadata": {
    "collapsed": false,
    "pycharm": {
     "name": "#%%\n"
    }
   }
  }
 ],
 "metadata": {
  "kernelspec": {
   "display_name": "Python 3",
   "language": "python",
   "name": "python3"
  },
  "language_info": {
   "codemirror_mode": {
    "name": "ipython",
    "version": 2
   },
   "file_extension": ".py",
   "mimetype": "text/x-python",
   "name": "python",
   "nbconvert_exporter": "python",
   "pygments_lexer": "ipython2",
   "version": "2.7.6"
  }
 },
 "nbformat": 4,
 "nbformat_minor": 0
}